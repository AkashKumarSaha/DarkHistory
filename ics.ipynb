{
 "cells": [
  {
   "cell_type": "markdown",
   "metadata": {},
   "source": [
    "# Inverse Compton Scattering"
   ]
  },
  {
   "cell_type": "markdown",
   "metadata": {},
   "source": [
    "At the low energy limit, Tracy calculated an approximate expression for dN/(dt deps1), which is the number of photons per scattered energy eps1 per unit time. This expression is presented as an integrand, integrated over the CMB spectrum."
   ]
  },
  {
   "cell_type": "code",
   "execution_count": 4,
   "metadata": {
    "collapsed": true
   },
   "outputs": [],
   "source": [
    "import numpy as np\n",
    "\n",
    "import darkhistory.physics as phys"
   ]
  },
  {
   "cell_type": "code",
   "execution_count": 19,
   "metadata": {
    "collapsed": false
   },
   "outputs": [],
   "source": [
    "def loweng_integrand(eleckineng, photeng, CMBeng):\n",
    "    \"\"\"\n",
    "    \n",
    "    Parameters\n",
    "    ----------\n",
    "    \n",
    "    eleckineng : float\n",
    "        Kinetic energy of the electron.\n",
    "    photeng : ndarray\n",
    "        Energy of the scattered photon. \n",
    "    CMBeng : float\n",
    "        Energy of the CMB photon (to be integrated over)\n",
    "    \"\"\"\n",
    "    gamma = 1 + eleckineng/phys.me\n",
    "    beta = np.sqrt(1 - 1/(gamma**2))\n",
    "    \n",
    "    def prefac(CMBeng): \n",
    "        return phys.c*(3/16)*(\n",
    "            phys.thomson_xsec/((gamma**3)*(beta**2)*(CMBeng**2))\n",
    "        )\n",
    "    \n",
    "    def integrand(CMBeng, photeng):\n",
    "        \"\"\"\n",
    "        CMBeng is a double, photeng can be an ndarray.\n",
    "        \"\"\"\n",
    "    \n",
    "        photenghigh = (\n",
    "            CMBeng*(1+beta**2)/(beta**2)*np.sqrt((1+beta)/(1-beta))\n",
    "            + (2/beta)*np.sqrt((1-beta)/(1+beta))*photeng\n",
    "            - ((1-beta)**2)/(beta**2)*np.sqrt((1+beta)/(1-beta))*(\n",
    "                 photeng**2/CMBeng\n",
    "            )\n",
    "            + 2/(gamma*beta**2)*photeng*np.log(\n",
    "                 (1-beta)/(1+beta)*photeng/CMBeng\n",
    "            )\n",
    "        )\n",
    "        \n",
    "        photenglow = (\n",
    "            - CMBeng*(1+beta**2)/(beta**2)*np.sqrt((1-beta)/(1+beta))\n",
    "            + (2/beta)*np.sqrt((1+beta)/(1-beta))*photeng\n",
    "            + (1+beta)/(gamma*beta**2)*(photeng**2/CMBeng)\n",
    "            - 2/(gamma*beta**2)*photeng*np.log(\n",
    "                 (1+beta)/(1-beta)*photeng/CMBeng\n",
    "             )\n",
    "        )\n",
    "        \n",
    "        return np.where(photeng > CMBeng, photenghigh, photenglow)\n",
    "        \n",
    "    return prefac(CMBeng)*integrand(CMBeng, photeng)    \n",
    "    \n",
    "    "
   ]
  },
  {
   "cell_type": "code",
   "execution_count": 20,
   "metadata": {
    "collapsed": false
   },
   "outputs": [
    {
     "data": {
      "text/plain": [
       "array([  1.85587700e-18,   1.72426631e-16,   4.01365671e-16,\n",
       "        -7.47769962e-18])"
      ]
     },
     "execution_count": 20,
     "metadata": {},
     "output_type": "execute_result"
    }
   ],
   "source": [
    "testeleceng = 1e6\n",
    "testphoteng = np.array([1e-1, 1, 1e1, 1e2])\n",
    "loweng_integrand(testeleceng, testphoteng, 3)"
   ]
  },
  {
   "cell_type": "code",
   "execution_count": 7,
   "metadata": {
    "collapsed": false
   },
   "outputs": [
    {
     "data": {
      "text/plain": [
       "array([False, False, False,  True,  True], dtype=bool)"
      ]
     },
     "execution_count": 7,
     "metadata": {},
     "output_type": "execute_result"
    }
   ],
   "source": [
    "a = np.array([1,2,3,4,5])\n",
    "a > 3"
   ]
  },
  {
   "cell_type": "code",
   "execution_count": 18,
   "metadata": {
    "collapsed": false
   },
   "outputs": [
    {
     "data": {
      "text/plain": [
       "1.365809693372716"
      ]
     },
     "execution_count": 18,
     "metadata": {},
     "output_type": "execute_result"
    }
   ],
   "source": [
    "3.67800/2.69290811"
   ]
  },
  {
   "cell_type": "code",
   "execution_count": null,
   "metadata": {
    "collapsed": true
   },
   "outputs": [],
   "source": []
  }
 ],
 "metadata": {
  "anaconda-cloud": {},
  "kernelspec": {
   "display_name": "Python [default]",
   "language": "python",
   "name": "python3"
  },
  "language_info": {
   "codemirror_mode": {
    "name": "ipython",
    "version": 3
   },
   "file_extension": ".py",
   "mimetype": "text/x-python",
   "name": "python",
   "nbconvert_exporter": "python",
   "pygments_lexer": "ipython3",
   "version": "3.5.2"
  }
 },
 "nbformat": 4,
 "nbformat_minor": 2
}
