{
 "cells": [
  {
   "cell_type": "markdown",
   "metadata": {},
   "source": [
    "# Inverse Compton Scattering"
   ]
  },
  {
   "cell_type": "markdown",
   "metadata": {},
   "source": [
    "At the low energy limit, Tracy calculated an approximate expression for dN/(dt deps1), which is the number of photons per scattered energy eps1 per unit time. This expression is presented as an integrand, integrated over the CMB spectrum."
   ]
  },
  {
   "cell_type": "code",
   "execution_count": 2,
   "metadata": {
    "collapsed": true
   },
   "outputs": [],
   "source": [
    "%load_ext autoreload"
   ]
  },
  {
   "cell_type": "code",
   "execution_count": 138,
   "metadata": {
    "collapsed": false
   },
   "outputs": [],
   "source": [
    "%autoreload\n",
    "%matplotlib inline\n",
    "\n",
    "import matplotlib\n",
    "import matplotlib.pyplot as plt\n",
    "\n",
    "matplotlib.rcParams['figure.figsize'] = [10,10]\n",
    "\n",
    "import numpy as np\n",
    "\n",
    "from scipy import integrate\n",
    "# import quadpy\n",
    "\n",
    "import darkhistory.physics as phys\n",
    "from darkhistory.electrons.ics.ics_loweng import icsspec_loweng\n",
    "from darkhistory.electrons.ics.ics_relativistic import icsspec_relativistic"
   ]
  },
  {
   "cell_type": "code",
   "execution_count": 139,
   "metadata": {
    "collapsed": false
   },
   "outputs": [],
   "source": [
    "# val, error_estimate = quadpy.line_segment.integrate_adaptive(\n",
    "#             lambda x: np.exp(5 * x),\n",
    "#             [0.0, np.pi],\n",
    "#             1.0e-10\n",
    "#             )\n",
    "# print(val)"
   ]
  },
  {
   "cell_type": "code",
   "execution_count": 140,
   "metadata": {
    "collapsed": false
   },
   "outputs": [],
   "source": [
    "Emax = 1e20\n",
    "Emin = 1e-8\n",
    "nEp = 500\n",
    "nEe = 500\n",
    "\n",
    "dlnEp = np.log(Emax/Emin)/nEp\n",
    "photeng_arr = Emin*np.exp(np.arange(nEp)+0.5*dlnEp)\n",
    "dlnEe = np.log(Emax/Emin)/nEe\n",
    "eleceng_arr = Emin*np.exp(np.arange(nEe)+0.5*dlnEe)"
   ]
  },
  {
   "cell_type": "code",
   "execution_count": 141,
   "metadata": {
    "collapsed": false
   },
   "outputs": [
    {
     "name": "stderr",
     "output_type": "stream",
     "text": [
      "/Users/hongwan/GitHub/DarkHistory/darkhistory/electrons/ics/ics_relativistic.py:49: RuntimeWarning: divide by zero encountered in double_scalars\n",
      "  for j in np.arange(photeng_arr.size)\n",
      "/Users/hongwan/GitHub/DarkHistory/darkhistory/electrons/ics/ics_relativistic.py:117: RuntimeWarning: divide by zero encountered in true_divide\n",
      "  \n",
      "/Users/hongwan/anaconda/envs/python3/lib/python3.5/site-packages/scipy/integrate/quadpack.py:364: IntegrationWarning: The algorithm does not converge.  Roundoff error is detected\n",
      "  in the extrapolation table.  It is assumed that the requested tolerance\n",
      "  cannot be achieved, and that the returned result (if full_output = 1) is \n",
      "  the best which can be obtained.\n",
      "  warnings.warn(msg, IntegrationWarning)\n",
      "/Users/hongwan/anaconda/envs/python3/lib/python3.5/site-packages/scipy/integrate/quadpack.py:364: IntegrationWarning: The integral is probably divergent, or slowly convergent.\n",
      "  warnings.warn(msg, IntegrationWarning)\n",
      "/Users/hongwan/GitHub/DarkHistory/darkhistory/electrons/ics/ics_relativistic.py:58: RuntimeWarning: overflow encountered in double_scalars\n",
      "  prefac = (3/4)*phys.thomson_xsec*phys.c/(gamma_arr[indelec]**2*CMBeng)\n",
      "/Users/hongwan/anaconda/envs/python3/lib/python3.5/site-packages/scipy/integrate/quadpack.py:364: IntegrationWarning: The maximum number of subdivisions (50) has been achieved.\n",
      "  If increasing the limit yields no improvement it is advised to analyze \n",
      "  the integrand in order to determine the difficulties.  If the position of a \n",
      "  local difficulty can be determined (singularity, discontinuity) one will \n",
      "  probably gain from splitting up the interval and calling the integrator \n",
      "  on the subranges.  Perhaps a special-purpose integrator should be used.\n",
      "  warnings.warn(msg, IntegrationWarning)\n",
      "/Users/hongwan/GitHub/DarkHistory/darkhistory/electrons/ics/ics_relativistic.py:65: RuntimeWarning: divide by zero encountered in log\n",
      "  + (1-q)/2*((Gamma_eps*q)**2)/(1+Gamma_eps*q)\n",
      "/Users/hongwan/GitHub/DarkHistory/darkhistory/electrons/ics/ics_relativistic.py:65: RuntimeWarning: invalid value encountered in double_scalars\n",
      "  + (1-q)/2*((Gamma_eps*q)**2)/(1+Gamma_eps*q)\n",
      "/Users/hongwan/anaconda/envs/python3/lib/python3.5/site-packages/scipy/integrate/quadpack.py:364: IntegrationWarning: The occurrence of roundoff error is detected, which prevents \n",
      "  the requested tolerance from being achieved.  The error may be \n",
      "  underestimated.\n",
      "  warnings.warn(msg, IntegrationWarning)\n"
     ]
    },
    {
     "name": "stdout",
     "output_type": "stream",
     "text": [
      " "
     ]
    }
   ],
   "source": [
    "%prun icsspec_relativistic(eleceng_arr, photeng_arr, 1000)"
   ]
  },
  {
   "cell_type": "code",
   "execution_count": 143,
   "metadata": {
    "collapsed": false
   },
   "outputs": [
    {
     "name": "stderr",
     "output_type": "stream",
     "text": [
      "/Users/hongwan/anaconda/envs/python3/lib/python3.5/site-packages/matplotlib/ticker.py:2039: UserWarning: Data has no positive values, and therefore cannot be log-scaled.\n",
      "  \"Data has no positive values, and therefore cannot be \"\n"
     ]
    },
    {
     "data": {
      "image/png": "[encoded data removed]",
      "text/plain": [
       "<matplotlib.figure.Figure at 0x110b616d8>"
      ]
     },
     "metadata": {},
     "output_type": "display_data"
    },
    {
     "data": {
      "text/plain": [
       "<matplotlib.figure.Figure at 0x110873898>"
      ]
     },
     "metadata": {},
     "output_type": "display_data"
    }
   ],
   "source": [
    "ax = plt.subplot(1,1,1)\n",
    "plt.rc('text', usetex=True)\n",
    "a.plot(ax, ind=np.array([4]), indtype='ind')\n",
    "\n",
    "ax.set_xscale('log')\n",
    "ax.set_yscale('log')"
   ]
  },
  {
   "cell_type": "code",
   "execution_count": 6,
   "metadata": {
    "collapsed": false
   },
   "outputs": [
    {
     "data": {
      "text/plain": [
       "2.3027919972662845e-12"
      ]
     },
     "execution_count": 6,
     "metadata": {},
     "output_type": "execute_result"
    }
   ],
   "source": [
    "a.dlnz"
   ]
  },
  {
   "cell_type": "code",
   "execution_count": null,
   "metadata": {
    "collapsed": true
   },
   "outputs": [],
   "source": []
  }
 ],
 "metadata": {
  "anaconda-cloud": {},
  "kernelspec": {
   "display_name": "Python [default]",
   "language": "python",
   "name": "python3"
  },
  "language_info": {
   "codemirror_mode": {
    "name": "ipython",
    "version": 3
   },
   "file_extension": ".py",
   "mimetype": "text/x-python",
   "name": "python",
   "nbconvert_exporter": "python",
   "pygments_lexer": "ipython3",
   "version": "3.5.2"
  },
  "widgets": {
   "state": {
    "58d9df9d53da48eda5d1de881b18e849": {
     "views": [
      {
       "cell_index": 6
      }
     ]
    }
   },
   "version": "1.2.0"
  }
 },
 "nbformat": 4,
 "nbformat_minor": 2
}
