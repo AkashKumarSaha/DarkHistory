{
 "cells": [
  {
   "cell_type": "markdown",
   "metadata": {},
   "source": [
    "# Inverse Compton Scattering"
   ]
  },
  {
   "cell_type": "markdown",
   "metadata": {},
   "source": [
    "At the low energy limit, Tracy calculated an approximate expression for dN/(dt deps1), which is the number of photons per scattered energy eps1 per unit time. This expression is presented as an integrand, integrated over the CMB spectrum."
   ]
  },
  {
   "cell_type": "code",
   "execution_count": 4,
   "metadata": {
    "collapsed": true
   },
   "outputs": [],
   "source": [
    "import numpy as np\n",
    "\n",
    "from scipy import integrate\n",
    "\n",
    "import darkhistory.physics as phys"
   ]
  },
  {
   "cell_type": "code",
   "execution_count": 98,
   "metadata": {
    "collapsed": false
   },
   "outputs": [],
   "source": [
    "def icsspec_loweng(eleckineng_arr, photeng_arr, rs):\n",
    "    \n",
    "    gamma_arr = 1 + eleckineng_arr/phys.me\n",
    "    beta_arr = np.sqrt(1-1/(gamma_arr**2))\n",
    "    \n",
    "    def loweng_integrand(CMBeng, eleckineng, photeng):\n",
    "        \"\"\"\n",
    "\n",
    "        Parameters\n",
    "        ----------\n",
    "\n",
    "        eleckineng_arr : float\n",
    "            Kinetic energy of the electron.\n",
    "        photeng_arr : float\n",
    "            Energy of the scattered photon. \n",
    "        CMBeng : float\n",
    "            Energy of the CMB photon (to be integrated over)\n",
    "        \"\"\"\n",
    "        gamma = 1 + eleckineng/phys.me\n",
    "        beta = np.sqrt(1 - 1/(gamma**2))\n",
    "\n",
    "        def prefac(CMBeng): \n",
    "            return phys.c*(3/16)*(\n",
    "                phys.thomson_xsec/((gamma**3)*(beta**2)*(CMBeng**2))\n",
    "            )\n",
    "\n",
    "        def integrand(CMBeng, photeng):\n",
    "            \"\"\"\n",
    "            CMBeng is a double, photeng can be an ndarray.\n",
    "            \"\"\"\n",
    "\n",
    "            photenghigh = (\n",
    "                CMBeng*(1+beta**2)/(beta**2)*np.sqrt((1+beta)/(1-beta))\n",
    "                + (2/beta)*np.sqrt((1-beta)/(1+beta))*photeng\n",
    "                - ((1-beta)**2)/(beta**2)*np.sqrt((1+beta)/(1-beta))*(\n",
    "                     photeng**2/CMBeng\n",
    "                )\n",
    "                + 2/(gamma*beta**2)*photeng*np.log(\n",
    "                     (1-beta)/(1+beta)*photeng/CMBeng\n",
    "                )\n",
    "            )\n",
    "\n",
    "            photenglow = (\n",
    "                - CMBeng*(1+beta**2)/(beta**2)*np.sqrt((1-beta)/(1+beta))\n",
    "                + (2/beta)*np.sqrt((1+beta)/(1-beta))*photeng\n",
    "                + (1+beta)/(gamma*beta**2)*(photeng**2/CMBeng)\n",
    "                - 2/(gamma*beta**2)*photeng*np.log(\n",
    "                     (1+beta)/(1-beta)*photeng/CMBeng\n",
    "                 )\n",
    "            )\n",
    "\n",
    "            outval = np.where(photeng > CMBeng, photenghigh, photenglow)\n",
    "            # Zero out parts where photeng exceeds its theoretical max value.\n",
    "            outval = np.where(photeng < gamma**2*(1+beta)**2*CMBeng, outval, np.zeros(outval.size))\n",
    "            return outval\n",
    "\n",
    "        return prefac(CMBeng)*integrand(CMBeng, photeng)\n",
    "    \n",
    "    def full_loweng_integrand(CMBeng, eleckineng, photeng):\n",
    "        \n",
    "        return loweng_integrand(CMBeng, eleckineng, photeng)*phys.CMB_spec(CMBeng, phys.TCMB(rs))\n",
    "    \n",
    "    lowlim = np.array(\n",
    "        [\n",
    "            (1.-beta)/(1.+beta)*photeng_arr\n",
    "            for beta in beta_arr\n",
    "        ]\n",
    "    )\n",
    "    \n",
    "    upplim = np.array(\n",
    "        [\n",
    "            (1.+beta)/(1.-beta)*photeng_arr\n",
    "            for beta in beta_arr\n",
    "        ]\n",
    "    )\n",
    "    \n",
    "    # Zero out where the CMB spectrum is already set to zero.\n",
    "    upplim = np.where(upplim < 500.*phys.TCMB(rs), upplim, \n",
    "                      500.*phys.TCMB(rs)*np.ones(upplim.shape))\n",
    "    print(lowlim)\n",
    "    print(upplim)\n",
    "    \n",
    "    return np.array(\n",
    "        [\n",
    "            [integrate.quad(full_loweng_integrand, lowlim[i,j], upplim[i,j],\n",
    "                            args=(eleceng, photeng), epsabs=0, epsrel=1e-3)[0]\n",
    "                for j,photeng in zip(np.arange(photeng_arr.size),photeng_arr)]\n",
    "            for i,eleceng in zip(np.arange(eleckineng_arr.size),eleckineng_arr)\n",
    "        ]\n",
    "    )\n",
    "    \n",
    "    \n",
    "    "
   ]
  },
  {
   "cell_type": "code",
   "execution_count": null,
   "metadata": {
    "collapsed": true
   },
   "outputs": [],
   "source": []
  },
  {
   "cell_type": "code",
   "execution_count": 100,
   "metadata": {
    "collapsed": false
   },
   "outputs": [
    {
     "name": "stdout",
     "output_type": "stream",
     "text": [
      "[[  2.56109181e-06   5.87343721e-04   2.17604220e+00   5.32541634e+06]\n",
      " [  2.70969135e-11   6.21422550e-09   2.30230041e-05   5.63440738e+01]]\n",
      "[[  106.30231963  1175.          1175.          1175.        ]\n",
      " [ 1175.          1175.          1175.          1175.        ]]\n",
      "****************\n",
      "[[  2.80507671e-05   9.59372412e-04   1.85770062e-04  -0.00000000e+00]\n",
      " [  2.99460086e-10   1.02616542e-08   1.17579967e-08   2.56813187e-19]]\n"
     ]
    }
   ],
   "source": [
    "testeleceng_arr = np.array([2e7, 6.3043e9])\n",
    "testphoteng_arr = np.array([1.65e-2, 3.784, 14019.292910, 3.430934e10])\n",
    "a = icsspec_loweng(testeleceng_arr, testphoteng_arr, 10000)\n",
    "print('****************')\n",
    "print(a)"
   ]
  },
  {
   "cell_type": "code",
   "execution_count": null,
   "metadata": {
    "collapsed": true
   },
   "outputs": [],
   "source": []
  }
 ],
 "metadata": {
  "anaconda-cloud": {},
  "kernelspec": {
   "display_name": "Python [default]",
   "language": "python",
   "name": "python3"
  },
  "language_info": {
   "codemirror_mode": {
    "name": "ipython",
    "version": 3
   },
   "file_extension": ".py",
   "mimetype": "text/x-python",
   "name": "python",
   "nbconvert_exporter": "python",
   "pygments_lexer": "ipython3",
   "version": "3.5.2"
  }
 },
 "nbformat": 4,
 "nbformat_minor": 2
}
