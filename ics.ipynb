{
 "cells": [
  {
   "cell_type": "markdown",
   "metadata": {},
   "source": [
    "# Inverse Compton Scattering"
   ]
  },
  {
   "cell_type": "markdown",
   "metadata": {},
   "source": [
    "At the low energy limit, Tracy calculated an approximate expression for dN/(dt deps1), which is the number of photons per scattered energy eps1 per unit time. This expression is presented as an integrand, integrated over the CMB spectrum."
   ]
  },
  {
   "cell_type": "code",
   "execution_count": 1,
   "metadata": {
    "collapsed": true
   },
   "outputs": [],
   "source": [
    "import darkhistory.physics as phys"
   ]
  },
  {
   "cell_type": "code",
   "execution_count": null,
   "metadata": {
    "collapsed": true
   },
   "outputs": [],
   "source": [
    "def loweng_integrand(eleckineng):\n",
    "    \"\"\"\n",
    "    \n",
    "    Parameters\n",
    "    ----------\n",
    "    \n",
    "    eleckineng : ndarray\n",
    "        Kinetic energy of the electron.\n",
    "    \"\"\"\n",
    "    gamma = 1 + eleckineng/phys.me\n",
    "    beta = np.sqrt(1 - 1/(gamma**2))\n",
    "    \n",
    "    def prefac(CMBeng): \n",
    "        return phys.c*(3/16)*(\n",
    "            phys.thomson_xsec/(2*(gamma**3)*(beta**2)*(CMBeng**2))\n",
    "        )\n",
    "    \n",
    "    def integrand(CMBeng, photeng):\n",
    "        ((1+beta**2)/(beta**2)*np.sqrt((1+beta)/(1-beta))*photeng\n",
    "             + (2/beta)*np.sqrt((1-beta)/(1+beta))*photeng\n",
    "             - ((1-beta)**2)/(beta**2)*np.sqrt((1+beta)/(1-beta))*(\n",
    "                 photeng**2/CMBeng\n",
    "             )\n",
    "             + 2/(gamma*beta**2)*photeng*np.log((1-beta)/(1+beta)\n",
    "                 *photeng/CMBeng\n",
    "             )\n",
    "        )\n",
    "    "
   ]
  }
 ],
 "metadata": {
  "kernelspec": {
   "display_name": "Python 3",
   "language": "python",
   "name": "python3"
  },
  "language_info": {
   "codemirror_mode": {
    "name": "ipython",
    "version": 3
   },
   "file_extension": ".py",
   "mimetype": "text/x-python",
   "name": "python",
   "nbconvert_exporter": "python",
   "pygments_lexer": "ipython3",
   "version": "3.6.1"
  }
 },
 "nbformat": 4,
 "nbformat_minor": 2
}
