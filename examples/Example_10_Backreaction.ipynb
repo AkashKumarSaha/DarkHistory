{
 "cells": [
  {
   "cell_type": "markdown",
   "metadata": {},
   "source": [
    "One of $\\texttt{DarkHistory}$'s signature features is its ability to include the effects of back-reaction on the thermal and ionization histories of the universe.  In previous treatments, one assumed that the effects of dark matter energy injection were small enough that one could replace the hydrogen ionization level $x_\\text{HII}$ and the IGM temperature $T_m$ by their baseline values when computed in the absence of dark matter energy injection $x_{\\text{HII},0}$ and $T_{m,0}$.  On the other hand, $\\texttt{DarkHistory}$ can be used to without this approximation.  We will see in this notebook that there is a wide range of models for which this improved treatment is necessary."
   ]
  },
  {
   "cell_type": "markdown",
   "metadata": {},
   "source": [
    "# Import Modules"
   ]
  },
  {
   "cell_type": "code",
   "execution_count": 185,
   "metadata": {},
   "outputs": [
    {
     "name": "stdout",
     "output_type": "stream",
     "text": [
      "The autoreload extension is already loaded. To reload it, use:\n",
      "  %reload_ext autoreload\n"
     ]
    }
   ],
   "source": [
    "%load_ext autoreload\n",
    "import sys\n",
    "sys.path.append(\"..\")"
   ]
  },
  {
   "cell_type": "code",
   "execution_count": 186,
   "metadata": {},
   "outputs": [],
   "source": [
    "%matplotlib inline"
   ]
  },
  {
   "cell_type": "code",
   "execution_count": 189,
   "metadata": {},
   "outputs": [],
   "source": [
    "%autoreload\n",
    "\n",
    "%autoreload\n",
    "\n",
    "import matplotlib\n",
    "matplotlib.rc_file('matplotlibrc')\n",
    "import matplotlib.pyplot as plt\n",
    "\n",
    "from scipy.interpolate import interp1d\n",
    "from scipy.interpolate import interp2d\n",
    "import numpy as np\n",
    "\n",
    "import darkhistory.physics as phys\n",
    "from darkhistory.history.tla import get_history\n",
    "\n",
    "import main\n",
    "import config\n",
    "from tqdm import tqdm_notebook as tqdm"
   ]
  },
  {
   "cell_type": "markdown",
   "metadata": {},
   "source": [
    "# Load the maximum allowed $\\langle \\sigma v \\rangle$ and minimum $\\tau$"
   ]
  },
  {
   "cell_type": "markdown",
   "metadata": {},
   "source": [
    "To assess the effects of back-reaction, we will compute $T_m(z)$ with and without back-reaction for the cases of dark matter decaying or annihilating into $\\gamma \\gamma$ or $e^+ e^-$, and we will sweep over a wide range of dark matter masses, $m_\\chi$.  The effects of back-reaction are amplified as the lifetime $\\tau$ is decreased or the velocity-averaged cross-section $\\langle \\sigma v \\rangle$ is increased.  We will therefore use the maximum $\\langle \\sigma v \\rangle$ and minimum $\\tau$ allowed by current CMB constraints (1610.06933).  We download these maximal values as a function of secondary particle injection energy $E_\\text{inj}$."
   ]
  },
  {
   "cell_type": "code",
   "execution_count": 190,
   "metadata": {},
   "outputs": [],
   "source": [
    "f_elec_CMB_raw = np.loadtxt(config.data_path+'/fFromIonBaseline3keV_electron_extended.dat', delimiter=',')\n",
    "log10eng_elec_CMB  = f_elec_CMB_raw[0:2760:69, 0]\n",
    "log10rs_elec_CMB = f_elec_CMB_raw[0:69, 1] \n",
    "\n",
    "f_phot_CMB_raw = np.loadtxt(config.data_path+'/fFromIonBaseline3keV_photon.dat', delimiter=',')\n",
    "log10eng_phot_CMB  = f_phot_CMB_raw[0:2800:70, 0]\n",
    "log10rs_phot_CMB = f_phot_CMB_raw[0:70, 1] \n",
    "\n",
    "f_elec_CMB_raw = np.transpose(np.reshape(f_elec_CMB_raw[:,2], (40,69)))\n",
    "f_phot_CMB_raw = np.transpose(np.reshape(f_phot_CMB_raw[:,2], (40,70)))\n",
    "\n",
    "f_elec_CMB = interp2d(log10eng_elec_CMB, log10rs_elec_CMB, f_elec_CMB_raw)\n",
    "f_phot_CMB = interp2d(log10eng_phot_CMB, log10rs_phot_CMB, f_phot_CMB_raw)\n",
    "\n",
    "decay_elec_CMB_raw = np.loadtxt(config.data_path+'/CMB_limits_elec_decay.csv', delimiter=',')\n",
    "decay_phot_CMB_raw = np.loadtxt(config.data_path+'/CMB_limits_phot_decay.csv', delimiter=',')\n",
    "\n",
    "decay_elec_CMB = interp1d(np.transpose(decay_elec_CMB_raw)[0,:], np.transpose(decay_elec_CMB_raw)[1,:])\n",
    "decay_phot_CMB = interp1d(np.transpose(decay_phot_CMB_raw)[0,:], np.transpose(decay_phot_CMB_raw)[1,:])\n",
    "\n",
    "def xsec_bound_elec_CMB(mDM, DM_process):\n",
    "    if DM_process == 'swave':\n",
    "        return 4.1e-28*(mDM*1e-9)/f_elec_CMB(np.log10(mDM-phys.me), np.log10(601))[0]\n",
    "    elif DM_process == 'decay':\n",
    "        return np.array([decay_elec_CMB(mDM*1e-9)])[0]\n",
    "\n",
    "def xsec_bound_phot_CMB(mDM, DM_process):\n",
    "    if DM_process == 'swave':\n",
    "        return 4.1e-28*(mDM*1e-9)/f_phot_CMB(np.log10(mDM), np.log10(601))[0]\n",
    "    elif DM_process == 'decay':\n",
    "        return np.array([decay_phot_CMB(mDM*1e-9)])[0]"
   ]
  },
  {
   "cell_type": "code",
   "execution_count": 191,
   "metadata": {},
   "outputs": [
    {
     "data": {
      "text/plain": [
       "2.50505586114293e+25"
      ]
     },
     "execution_count": 191,
     "metadata": {},
     "output_type": "execute_result"
    }
   ],
   "source": [
    "xsec_bound_elec_CMB(100e6,'decay')"
   ]
  },
  {
   "cell_type": "markdown",
   "metadata": {},
   "source": [
    "# Comparison to 1604.02457 Fig 15."
   ]
  },
  {
   "cell_type": "markdown",
   "metadata": {},
   "source": [
    "To get a feel for the calculation and check $\\texttt{DarkHistory}$ we will try to reproduce Fig 15 of arXiv:1604.02457.  First we establish the baseline (red curve) without dark matter energy injection.  We do so by setting the dark matter lifetime to a very large number."
   ]
  },
  {
   "cell_type": "code",
   "execution_count": 219,
   "metadata": {},
   "outputs": [],
   "source": [
    "rs_vec = 3000*np.exp(-.004*np.arange(1595))\n",
    "        \n",
    "baseline = get_history(rs_vec)"
   ]
  },
  {
   "cell_type": "markdown",
   "metadata": {},
   "source": [
    "Now we calculate $T_m(z)$ assuming no back-reaction. To do so, we will use tabulated values for $f_c(z)$ and use them as inputs for [*tla.get_history*](https://darkhistory.readthedocs.io/en/master/_autosummary/darkhistory/history/tla/darkhistory.history.tla.get_history.html)."
   ]
  },
  {
   "cell_type": "code",
   "execution_count": 220,
   "metadata": {},
   "outputs": [],
   "source": [
    "no_br = get_history(\n",
    "    rs_vec, baseline_f = True,\n",
    "    inj_particle = 'elec', DM_process = 'decay',\n",
    "    mDM=100e6, lifetime = 3e25,\n",
    ")"
   ]
  },
  {
   "cell_type": "markdown",
   "metadata": {},
   "source": [
    "Finally, we calculate $T_m(z)$ including back-reaction by using [*main.evolve*](https://darkhistory.readthedocs.io/en/master/_autosummary/main/main.evolve.html).  This will take a while the first time it is run because we must download the transfer functions."
   ]
  },
  {
   "cell_type": "code",
   "execution_count": 221,
   "metadata": {
    "collapsed": true
   },
   "outputs": [
    {
     "data": {
      "application/vnd.jupyter.widget-view+json": {
       "model_id": "0d0b8d63cd73420eae196fc170550bb8",
       "version_major": 2,
       "version_minor": 0
      },
      "text/plain": [
       "HBox(children=(IntProgress(value=0, max=400), HTML(value='')))"
      ]
     },
     "metadata": {},
     "output_type": "display_data"
    },
    {
     "ename": "KeyboardInterrupt",
     "evalue": "",
     "output_type": "error",
     "traceback": [
      "\u001b[0;31m---------------------------------------------------------------------------\u001b[0m",
      "\u001b[0;31mKeyboardInterrupt\u001b[0m                         Traceback (most recent call last)",
      "\u001b[0;32m<ipython-input-221-6f57b718def9>\u001b[0m in \u001b[0;36m<module>\u001b[0;34m\u001b[0m\n\u001b[1;32m      4\u001b[0m     \u001b[0mstart_rs\u001b[0m \u001b[0;34m=\u001b[0m \u001b[0;36m3000\u001b[0m\u001b[0;34m,\u001b[0m \u001b[0mend_rs\u001b[0m\u001b[0;34m=\u001b[0m\u001b[0;36m5\u001b[0m\u001b[0;34m,\u001b[0m\u001b[0;34m\u001b[0m\u001b[0;34m\u001b[0m\u001b[0m\n\u001b[1;32m      5\u001b[0m     \u001b[0mcoarsen_factor\u001b[0m\u001b[0;34m=\u001b[0m\u001b[0;36m16\u001b[0m\u001b[0;34m,\u001b[0m \u001b[0mbackreaction\u001b[0m\u001b[0;34m=\u001b[0m\u001b[0;32mTrue\u001b[0m\u001b[0;34m,\u001b[0m\u001b[0;34m\u001b[0m\u001b[0;34m\u001b[0m\u001b[0m\n\u001b[0;32m----> 6\u001b[0;31m     \u001b[0mstruct_boost\u001b[0m \u001b[0;34m=\u001b[0m \u001b[0;32mNone\u001b[0m\u001b[0;34m\u001b[0m\u001b[0;34m\u001b[0m\u001b[0m\n\u001b[0m\u001b[1;32m      7\u001b[0m )\n\u001b[1;32m      8\u001b[0m \u001b[0;34m\u001b[0m\u001b[0m\n",
      "\u001b[0;32m~/Desktop/DM/DH/DarkHistory/main.py\u001b[0m in \u001b[0;36mevolve\u001b[0;34m(in_spec_elec, in_spec_phot, rate_func_N, rate_func_eng, DM_process, mDM, sigmav, lifetime, primary, struct_boost, start_rs, end_rs, helium_TLA, reion_switch, reion_rs, photoion_rate_func, photoheat_rate_func, xe_reion_func, init_cond, coarsen_factor, backreaction, compute_fs_method, mxstep, rtol, use_tqdm)\u001b[0m\n\u001b[1;32m    368\u001b[0m                     \u001b[0mcoll_ion_sec_elec_specs\u001b[0m\u001b[0;34m=\u001b[0m\u001b[0mcoll_ion_sec_elec_specs\u001b[0m\u001b[0;34m,\u001b[0m\u001b[0;34m\u001b[0m\u001b[0;34m\u001b[0m\u001b[0m\n\u001b[1;32m    369\u001b[0m                     \u001b[0mcoll_exc_sec_elec_specs\u001b[0m\u001b[0;34m=\u001b[0m\u001b[0mcoll_exc_sec_elec_specs\u001b[0m\u001b[0;34m,\u001b[0m\u001b[0;34m\u001b[0m\u001b[0;34m\u001b[0m\u001b[0m\n\u001b[0;32m--> 370\u001b[0;31m                     \u001b[0mics_engloss_data\u001b[0m\u001b[0;34m=\u001b[0m\u001b[0mics_engloss_data\u001b[0m\u001b[0;34m\u001b[0m\u001b[0;34m\u001b[0m\u001b[0m\n\u001b[0m\u001b[1;32m    371\u001b[0m                 )\n\u001b[1;32m    372\u001b[0m \u001b[0;34m\u001b[0m\u001b[0m\n",
      "\u001b[0;32m~/Desktop/DM/DH/DarkHistory/darkhistory/electrons/elec_cooling.py\u001b[0m in \u001b[0;36mget_elec_cooling_tf\u001b[0;34m(eleceng, photeng, rs, xHII, xHeII, raw_thomson_tf, raw_rel_tf, raw_engloss_tf, coll_ion_sec_elec_specs, coll_exc_sec_elec_specs, ics_engloss_data, check_conservation_eng, verbose)\u001b[0m\n\u001b[1;32m    179\u001b[0m     \u001b[0;31m# single scattering. This is dN/(dE dt), dt = 1 s.\u001b[0m\u001b[0;34m\u001b[0m\u001b[0;34m\u001b[0m\u001b[0;34m\u001b[0m\u001b[0m\n\u001b[1;32m    180\u001b[0m     engloss_ICS_tf = engloss_spec(\n\u001b[0;32m--> 181\u001b[0;31m         \u001b[0meleceng\u001b[0m\u001b[0;34m,\u001b[0m \u001b[0mphoteng\u001b[0m\u001b[0;34m,\u001b[0m \u001b[0mT\u001b[0m\u001b[0;34m,\u001b[0m \u001b[0mthomson_tf\u001b[0m \u001b[0;34m=\u001b[0m \u001b[0mraw_engloss_tf\u001b[0m\u001b[0;34m,\u001b[0m \u001b[0mrel_tf\u001b[0m \u001b[0;34m=\u001b[0m \u001b[0mraw_rel_tf\u001b[0m\u001b[0;34m\u001b[0m\u001b[0;34m\u001b[0m\u001b[0m\n\u001b[0m\u001b[1;32m    182\u001b[0m     )\n\u001b[1;32m    183\u001b[0m \u001b[0;34m\u001b[0m\u001b[0m\n",
      "\u001b[0;32m~/Desktop/DM/DH/DarkHistory/darkhistory/electrons/ics/ics_engloss_spectrum.py\u001b[0m in \u001b[0;36mengloss_spec\u001b[0;34m(eleckineng, delta, T, as_pairs, thomson_only, thomson_tf, rel_tf)\u001b[0m\n\u001b[1;32m    335\u001b[0m         )\n\u001b[1;32m    336\u001b[0m \u001b[0;34m\u001b[0m\u001b[0m\n\u001b[0;32m--> 337\u001b[0;31m         \u001b[0mspec\u001b[0m\u001b[0;34m[\u001b[0m\u001b[0;34m~\u001b[0m\u001b[0mrel\u001b[0m\u001b[0;34m]\u001b[0m \u001b[0;34m=\u001b[0m \u001b[0my\u001b[0m\u001b[0;34m**\u001b[0m\u001b[0;36m2\u001b[0m\u001b[0;34m*\u001b[0m\u001b[0mthomson_tf_interp\u001b[0m\u001b[0;34m.\u001b[0m\u001b[0mflatten\u001b[0m\u001b[0;34m(\u001b[0m\u001b[0;34m)\u001b[0m\u001b[0;34m\u001b[0m\u001b[0;34m\u001b[0m\u001b[0m\n\u001b[0m\u001b[1;32m    338\u001b[0m \u001b[0;34m\u001b[0m\u001b[0m\n\u001b[1;32m    339\u001b[0m     \u001b[0;32melse\u001b[0m\u001b[0;34m:\u001b[0m\u001b[0;34m\u001b[0m\u001b[0;34m\u001b[0m\u001b[0m\n",
      "\u001b[0;31mKeyboardInterrupt\u001b[0m: "
     ]
    }
   ],
   "source": [
    "br_data = main.evolve(\n",
    "    primary='elec_delta',\n",
    "    DM_process='decay', mDM=100e6, lifetime=3e25,\n",
    "    start_rs = 3000\n",
    "    coarsen_factor=16, backreaction=True\n",
    ")\n",
    "\n",
    "T_br = br_data['Tm']/phys.kB"
   ]
  },
  {
   "cell_type": "markdown",
   "metadata": {},
   "source": [
    "Finally, we re-make Fig 15."
   ]
  },
  {
   "cell_type": "code",
   "execution_count": 195,
   "metadata": {},
   "outputs": [
    {
     "data": {
      "image/png": "[encoded data removed]",
      "text/plain": [
       "<Figure size 620x620 with 1 Axes>"
      ]
     },
     "metadata": {},
     "output_type": "display_data"
    }
   ],
   "source": [
    "fig_BR_example = plt.figure(figsize=(15,6.5))\n",
    "\n",
    "ax = plt.subplot(1,2,1)\n",
    "\n",
    "ax = plt.gca()\n",
    "ax.loglog()\n",
    "\n",
    "plt.xlabel('Redshift $(1+z)$')\n",
    "plt.ylabel('Matter Temperature $T_m$ [K]')\n",
    "\n",
    "plt.title(r'\\bf{Backreaction Comparison}')\n",
    "\n",
    "plt.axis([5, 3e3, 1, 1e5])\n",
    "\n",
    "plot_std, = plt.plot(rs_vec, baseline[:,0]/phys.kB, 'k--', label='Baseline')\n",
    "plot_no_BR, = plt.plot(rs_vec, no_br[:,0]/phys.kB, label='Without Backreaction', color='C0')\n",
    "plot_BR, = plt.plot(br_data['rs'], br_data['Tm']/phys.kB, label='With Backreaction', color='C1')\n",
    "\n",
    "plt.text(0.06, 0.9, r'$\\chi \\to e^+e^-$, $m_\\chi$ = 100 MeV', transform=ax.transAxes, fontsize=20)\n",
    "plt.text(0.06, 0.84, r'$\\tau = 3 \\times 10^{25}$ s', transform=ax.transAxes, fontsize=20)\n",
    "\n",
    "legend = plt.legend(\n",
    "    handles=[plot_no_BR, plot_BR, plot_std], loc='lower right'\n",
    ")\n",
    "\n",
    "ax = plt.subplot(1,2,2)\n",
    "\n",
    "ax = plt.gca()\n",
    "ax.loglog()\n",
    "\n",
    "plt.xlabel('Redshift $(1+z)$')\n",
    "plt.ylabel('Hydrogen Ionization Fraction $n_\\mathrm{HII}/n_\\mathrm{H}$')\n",
    "\n",
    "plt.title(r'\\bf{Backreaction Comparison}')\n",
    "\n",
    "plt.axis([5, 3e3, 7e-6, 2])\n",
    "\n",
    "plot_std, = plt.plot(rs_vec, baseline[:,1], 'k--', label='Baseline')\n",
    "plot_no_BR, = plt.plot(rs_vec, no_br[:,1], label='Without Backreaction', color='C0')\n",
    "plot_BR, = plt.plot(br_data['rs'], br_data['x'][:,0], label='With Backreaction', color='C1')\n",
    "\n",
    "plt.text(0.06, 0.9, r'$\\chi \\to e^+e^-$, $m_\\chi$ = 100 MeV', transform=ax.transAxes, fontsize=20)\n",
    "plt.text(0.06, 0.84, r'$\\tau = 3 \\times 10^{25}$ s', transform=ax.transAxes, fontsize=20)\n",
    "\n",
    "legend = plt.legend(\n",
    "    handles=[plot_no_BR, plot_BR, plot_std], loc='lower right'\n",
    ")\n",
    "\n",
    "# plt.savefig('/Users/hongwan/Dropbox (MIT)/Photon Deposition/Draft/plots/backreaction_comparison.pdf')"
   ]
  },
  {
   "cell_type": "markdown",
   "metadata": {},
   "source": [
    "# Calculate With and Without back-reaction"
   ]
  },
  {
   "cell_type": "markdown",
   "metadata": {},
   "source": [
    "Now we perform the same calculation, except now over a grid of energy injections.  We first specify these energies, then we define the function `get_T` to easily calculate $T_m$ for a given mass and injection model with and without backreaction."
   ]
  },
  {
   "cell_type": "code",
   "execution_count": 285,
   "metadata": {},
   "outputs": [],
   "source": [
    "log10_Einj_arr = np.arange(4.01, 12.51, 0.25)"
   ]
  },
  {
   "cell_type": "markdown",
   "metadata": {},
   "source": [
    "When computing s-wave annihilation models, we must remember that structure formation now boosts the annihilation rate at late times. We can load one of DarkHistory's default structure formation boost factors that can be obtained using the function [*physics.struct_boost_func*](https://darkhistory.readthedocs.io/en/master/_autosummary/darkhistory/physics/darkhistory.physics.struct_boost_func.html). The first thing we need to do is obtain the function that returns the boost: "
   ]
  },
  {
   "cell_type": "code",
   "execution_count": 286,
   "metadata": {},
   "outputs": [],
   "source": [
    "struct_boost_einasto_subs = phys.struct_boost_func('einasto_with_subs')"
   ]
  },
  {
   "cell_type": "code",
   "execution_count": 310,
   "metadata": {},
   "outputs": [],
   "source": [
    "%autoreload\n",
    "\n",
    "def get_T(mDM, DM_process, br, pri):\n",
    "    \"\"\"Gets the temperature history, decays.\n",
    "    \n",
    "    Parameters\n",
    "    ----------\n",
    "    mDM : float\n",
    "        The mass of the dark matter in eV. \n",
    "    tau : float\n",
    "        The decay lifetime in s. \n",
    "    br : bool\n",
    "        Whether to use backreaction or not. \n",
    "    pri : {'elec', 'phot'}\n",
    "        The primary particles that DM decays to. \n",
    "        \n",
    "    Returns\n",
    "    --------\n",
    "    float\n",
    "        The temperature history in K. \n",
    "    \n",
    "    \"\"\"\n",
    "    \n",
    "    if pri == 'elec':\n",
    "        pri_str = 'elec_delta'\n",
    "        cf = 12\n",
    "        param = xsec_bound_elec_CMB(mDM, DM_process)\n",
    "        rs_vec = 3000*np.exp(-.012*np.arange(532))\n",
    "    if pri == 'phot':\n",
    "        pri_str = 'phot_delta'\n",
    "        cf = 4\n",
    "        param = xsec_bound_phot_CMB(mDM, DM_process)\n",
    "        rs_vec = 3000*np.exp(-.004*np.arange(1595))\n",
    "        \n",
    "    if br:\n",
    "        result = main.evolve(\n",
    "            primary=pri_str,\n",
    "            DM_process=DM_process, mDM=mDM, lifetime=param, sigmav = param,\n",
    "            start_rs = 3000, end_rs=5.1,\n",
    "            coarsen_factor=cf, backreaction=True,\n",
    "            struct_boost = phys.struct_boost_func('einasto_with_subs')\n",
    "        )\n",
    "        \n",
    "        return result['Tm']/phys.kB\n",
    "    \n",
    "    else:\n",
    "\n",
    "        if pri == 'phot' and DM_process == 'swave':\n",
    "            result = main.evolve(\n",
    "                primary=pri_str,\n",
    "                DM_process=DM_process, mDM=mDM, lifetime=param, sigmav = param,\n",
    "                start_rs = 3000, end_rs=5.1,\n",
    "                coarsen_factor=cf, backreaction=False,\n",
    "                struct_boost = phys.struct_boost_func('einasto_with_subs')\n",
    "            )\n",
    "            \n",
    "            return result['Tm']/phys.kB\n",
    "\n",
    "        else:\n",
    "            result = get_history(\n",
    "                rs_vec, baseline_f = True,\n",
    "                inj_particle = pri, DM_process = DM_process,\n",
    "                mDM=mDM, lifetime = param, sigmav = param,\n",
    "                mxstep=2000\n",
    "            )\n",
    "            \n",
    "            return result[:,0]/phys.kB\n",
    "        \n",
    "        "
   ]
  },
  {
   "cell_type": "markdown",
   "metadata": {},
   "source": [
    "We now loop over all injection energy and calculate $T_m$ for decay or annihilation into photons or $e^+e^-$."
   ]
  },
  {
   "cell_type": "code",
   "execution_count": 311,
   "metadata": {},
   "outputs": [],
   "source": [
    "Tm_no_br = np.array([None for m in log10_Einj_arr])\n",
    "Tm_no_br_phot_swave = np.array([None for m in log10_Einj_arr])\n",
    "\n",
    "Tm_br = np.zeros_like(Tm_no_br)\n",
    "Tm_elec"
   ]
  },
  {
   "cell_type": "code",
   "execution_count": 312,
   "metadata": {},
   "outputs": [
    {
     "data": {
      "application/vnd.jupyter.widget-view+json": {
       "model_id": "c71ddb67e0ac488f8ea19adb05af90c1",
       "version_major": 2,
       "version_minor": 0
      },
      "text/plain": [
       "HBox(children=(IntProgress(value=0, max=34), HTML(value='')))"
      ]
     },
     "metadata": {},
     "output_type": "display_data"
    },
    {
     "name": "stdout",
     "output_type": "stream",
     "text": [
      "****** log10(mDM):  4.01  ******\n",
      "****** log10(mDM):  4.26  ******\n",
      "****** log10(mDM):  4.51  ******\n",
      "****** log10(mDM):  4.76  ******\n",
      "****** log10(mDM):  5.01  ******\n",
      "****** log10(mDM):  5.26  ******\n",
      "****** log10(mDM):  5.51  ******\n",
      "****** log10(mDM):  5.76  ******\n",
      "****** log10(mDM):  6.01  ******\n",
      "****** log10(mDM):  6.26  ******\n",
      "****** log10(mDM):  6.51  ******\n",
      "****** log10(mDM):  6.76  ******\n",
      "****** log10(mDM):  7.01  ******\n",
      "****** log10(mDM):  7.26  ******\n",
      "****** log10(mDM):  7.51  ******\n",
      "****** log10(mDM):  7.76  ******\n",
      "****** log10(mDM):  8.01  ******\n",
      "****** log10(mDM):  8.26  ******\n",
      "****** log10(mDM):  8.51  ******\n",
      "****** log10(mDM):  8.76  ******\n",
      "****** log10(mDM):  9.01  ******\n",
      "****** log10(mDM):  9.26  ******\n",
      "****** log10(mDM):  9.51  ******\n",
      "****** log10(mDM):  9.76  ******\n",
      "****** log10(mDM):  10.01  ******\n",
      "****** log10(mDM):  10.26  ******\n",
      "****** log10(mDM):  10.51  ******\n",
      "****** log10(mDM):  10.76  ******\n",
      "****** log10(mDM):  11.01  ******\n",
      "****** log10(mDM):  11.26  ******\n",
      "****** log10(mDM):  11.51  ******\n",
      "****** log10(mDM):  11.76  ******\n",
      "****** log10(mDM):  12.01  ******\n",
      "****** log10(mDM):  12.26  ******\n",
      "###### Calculation Complete! ######\n"
     ]
    }
   ],
   "source": [
    "%autoreload\n",
    "for i, log10Einj in enumerate(tqdm(log10_Einj_arr)):\n",
    "    \n",
    "    Einj = 10**log10Einj\n",
    "    print('****** log10(mDM): ', log10Einj, ' ******')\n",
    "    \n",
    "#     Tm_no_br_phot_swave[i] = get_T(Einj, 'swave', br=False, pri='phot')\n",
    "    \n",
    "    Tm_no_br[i] = {'phot_decay': get_T(2*Einj, 'decay', br=False, pri='phot'),\n",
    "#                    'phot_swave': get_T(Einj, 'swave', br=False, pri='phot'),\n",
    "                    'elec_swave': get_T(Einj+phys.me, 'swave', br=False, pri='elec')\n",
    "                  }\n",
    "\n",
    "print('###### Calculation Complete! ######')"
   ]
  },
  {
   "cell_type": "markdown",
   "metadata": {},
   "source": [
    "We must treat the decay to  $e^+e^-$ because the $m_\\chi$ values for which we have $\\tau_\\text{min}$ are different than any of the other cases."
   ]
  },
  {
   "cell_type": "code",
   "execution_count": 293,
   "metadata": {},
   "outputs": [],
   "source": [
    "log10_Einj_elec_decay_arr = np.arange(5.01, 12.51, 0.25)\n",
    "Tm_elec_decay_no_br = np.array([None for m in log10_Einj_arr])\n",
    "Tm_elec_decay_br = np.zeros_like(Tm_elec_decay_no_br)"
   ]
  },
  {
   "cell_type": "code",
   "execution_count": 294,
   "metadata": {},
   "outputs": [
    {
     "data": {
      "application/vnd.jupyter.widget-view+json": {
       "model_id": "c19300e98202402b886b85967222db76",
       "version_major": 2,
       "version_minor": 0
      },
      "text/plain": [
       "HBox(children=(IntProgress(value=0, max=30), HTML(value='')))"
      ]
     },
     "metadata": {},
     "output_type": "display_data"
    },
    {
     "name": "stdout",
     "output_type": "stream",
     "text": [
      "****** log10(mDM):  5.01  ******\n",
      "****** log10(mDM):  5.26  ******\n",
      "****** log10(mDM):  5.51  ******\n",
      "****** log10(mDM):  5.76  ******\n",
      "****** log10(mDM):  6.01  ******\n",
      "****** log10(mDM):  6.26  ******\n",
      "****** log10(mDM):  6.51  ******\n",
      "****** log10(mDM):  6.76  ******\n",
      "****** log10(mDM):  7.01  ******\n",
      "****** log10(mDM):  7.26  ******\n",
      "****** log10(mDM):  7.51  ******\n",
      "****** log10(mDM):  7.76  ******\n",
      "****** log10(mDM):  8.01  ******\n",
      "****** log10(mDM):  8.26  ******\n",
      "****** log10(mDM):  8.51  ******\n",
      "****** log10(mDM):  8.76  ******\n",
      "****** log10(mDM):  9.01  ******\n",
      "****** log10(mDM):  9.26  ******\n",
      "****** log10(mDM):  9.51  ******\n",
      "****** log10(mDM):  9.76  ******\n",
      "****** log10(mDM):  10.01  ******\n",
      "****** log10(mDM):  10.26  ******\n",
      "****** log10(mDM):  10.51  ******\n",
      "****** log10(mDM):  10.76  ******\n",
      "****** log10(mDM):  11.01  ******\n",
      "****** log10(mDM):  11.26  ******\n",
      "****** log10(mDM):  11.51  ******\n",
      "****** log10(mDM):  11.76  ******\n",
      "****** log10(mDM):  12.01  ******\n",
      "****** log10(mDM):  12.26  ******\n",
      "###### Calculation Complete! ######\n"
     ]
    }
   ],
   "source": [
    "%autoreload\n",
    "for i, log10Einj in enumerate(tqdm(log10_Einj_elec_decay_arr)):\n",
    "    \n",
    "    Einj = 10**log10Einj\n",
    "    print('****** log10(mDM): ', log10Einj, ' ******')\n",
    "    \n",
    "\n",
    "    Tm_elec_decay_no_br[i] = get_T(2*Einj+2*phys.me, 'decay', br=False, pri='elec')\n",
    "\n",
    "print('###### Calculation Complete! ######')"
   ]
  },
  {
   "cell_type": "markdown",
   "metadata": {},
   "source": [
    "And then we calculate with back-reaction"
   ]
  },
  {
   "cell_type": "code",
   "execution_count": 293,
   "metadata": {},
   "outputs": [
    {
     "data": {
      "application/vnd.jupyter.widget-view+json": {
       "model_id": "fb46ac49784a4a4fb1ca55014a613dee",
       "version_major": 2,
       "version_minor": 0
      },
      "text/plain": [
       "HBox(children=(IntProgress(value=0, max=34), HTML(value='')))"
      ]
     },
     "metadata": {},
     "output_type": "display_data"
    },
    {
     "name": "stdout",
     "output_type": "stream",
     "text": [
      "****** log10(mDM):  4.01  ******\n"
     ]
    },
    {
     "data": {
      "application/vnd.jupyter.widget-view+json": {
       "model_id": "89dda1898c4e473fa7f58899a5196f48",
       "version_major": 2,
       "version_minor": 0
      },
      "text/plain": [
       "HBox(children=(IntProgress(value=0, max=1595), HTML(value='')))"
      ]
     },
     "metadata": {},
     "output_type": "display_data"
    },
    {
     "data": {
      "application/vnd.jupyter.widget-view+json": {
       "model_id": "5f4f40686fa24b8089505012c3e36cb3",
       "version_major": 2,
       "version_minor": 0
      },
      "text/plain": [
       "HBox(children=(IntProgress(value=0, max=1595), HTML(value='')))"
      ]
     },
     "metadata": {},
     "output_type": "display_data"
    },
    {
     "data": {
      "application/vnd.jupyter.widget-view+json": {
       "model_id": "c48c23397233420783e76e1a4adae91e",
       "version_major": 2,
       "version_minor": 0
      },
      "text/plain": [
       "HBox(children=(IntProgress(value=0, max=532), HTML(value='')))"
      ]
     },
     "metadata": {},
     "output_type": "display_data"
    },
    {
     "name": "stdout",
     "output_type": "stream",
     "text": [
      "****** log10(mDM):  4.26  ******\n"
     ]
    },
    {
     "data": {
      "application/vnd.jupyter.widget-view+json": {
       "model_id": "7115826f641e4560b7fde1db63518c95",
       "version_major": 2,
       "version_minor": 0
      },
      "text/plain": [
       "HBox(children=(IntProgress(value=0, max=1595), HTML(value='')))"
      ]
     },
     "metadata": {},
     "output_type": "display_data"
    },
    {
     "data": {
      "application/vnd.jupyter.widget-view+json": {
       "model_id": "f2bee5a1c4744af19d98a27c97b493bc",
       "version_major": 2,
       "version_minor": 0
      },
      "text/plain": [
       "HBox(children=(IntProgress(value=0, max=1595), HTML(value='')))"
      ]
     },
     "metadata": {},
     "output_type": "display_data"
    },
    {
     "data": {
      "application/vnd.jupyter.widget-view+json": {
       "model_id": "4900cf837f1440398c993a8c39f272da",
       "version_major": 2,
       "version_minor": 0
      },
      "text/plain": [
       "HBox(children=(IntProgress(value=0, max=532), HTML(value='')))"
      ]
     },
     "metadata": {},
     "output_type": "display_data"
    },
    {
     "name": "stdout",
     "output_type": "stream",
     "text": [
      "****** log10(mDM):  4.51  ******\n"
     ]
    },
    {
     "data": {
      "application/vnd.jupyter.widget-view+json": {
       "model_id": "004131cd2cf14a7499e47af93cdce5e2",
       "version_major": 2,
       "version_minor": 0
      },
      "text/plain": [
       "HBox(children=(IntProgress(value=0, max=1595), HTML(value='')))"
      ]
     },
     "metadata": {},
     "output_type": "display_data"
    },
    {
     "data": {
      "application/vnd.jupyter.widget-view+json": {
       "model_id": "ebe59a858387469885212521806da4a1",
       "version_major": 2,
       "version_minor": 0
      },
      "text/plain": [
       "HBox(children=(IntProgress(value=0, max=1595), HTML(value='')))"
      ]
     },
     "metadata": {},
     "output_type": "display_data"
    },
    {
     "data": {
      "application/vnd.jupyter.widget-view+json": {
       "model_id": "ca4a8c2979064af48ad77244287041ba",
       "version_major": 2,
       "version_minor": 0
      },
      "text/plain": [
       "HBox(children=(IntProgress(value=0, max=532), HTML(value='')))"
      ]
     },
     "metadata": {},
     "output_type": "display_data"
    },
    {
     "name": "stdout",
     "output_type": "stream",
     "text": [
      "****** log10(mDM):  4.76  ******\n"
     ]
    },
    {
     "data": {
      "application/vnd.jupyter.widget-view+json": {
       "model_id": "499dc1c438fe40ef9a645b455f9f6a6d",
       "version_major": 2,
       "version_minor": 0
      },
      "text/plain": [
       "HBox(children=(IntProgress(value=0, max=1595), HTML(value='')))"
      ]
     },
     "metadata": {},
     "output_type": "display_data"
    },
    {
     "data": {
      "application/vnd.jupyter.widget-view+json": {
       "model_id": "e913cb191ce442fc985130ceeba88f64",
       "version_major": 2,
       "version_minor": 0
      },
      "text/plain": [
       "HBox(children=(IntProgress(value=0, max=1595), HTML(value='')))"
      ]
     },
     "metadata": {},
     "output_type": "display_data"
    },
    {
     "data": {
      "application/vnd.jupyter.widget-view+json": {
       "model_id": "df25413005914d4a91aef8efa3be0804",
       "version_major": 2,
       "version_minor": 0
      },
      "text/plain": [
       "HBox(children=(IntProgress(value=0, max=532), HTML(value='')))"
      ]
     },
     "metadata": {},
     "output_type": "display_data"
    },
    {
     "name": "stdout",
     "output_type": "stream",
     "text": [
      "****** log10(mDM):  5.01  ******\n"
     ]
    },
    {
     "data": {
      "application/vnd.jupyter.widget-view+json": {
       "model_id": "7efb17ca26b64ab0a0e6ea6a79eacfe5",
       "version_major": 2,
       "version_minor": 0
      },
      "text/plain": [
       "HBox(children=(IntProgress(value=0, max=1595), HTML(value='')))"
      ]
     },
     "metadata": {},
     "output_type": "display_data"
    },
    {
     "data": {
      "application/vnd.jupyter.widget-view+json": {
       "model_id": "3c2a5c20ff6744cf92cc0462878756eb",
       "version_major": 2,
       "version_minor": 0
      },
      "text/plain": [
       "HBox(children=(IntProgress(value=0, max=1595), HTML(value='')))"
      ]
     },
     "metadata": {},
     "output_type": "display_data"
    },
    {
     "data": {
      "application/vnd.jupyter.widget-view+json": {
       "model_id": "17d9dce5254c4c6a8623b30f785a1fa5",
       "version_major": 2,
       "version_minor": 0
      },
      "text/plain": [
       "HBox(children=(IntProgress(value=0, max=532), HTML(value='')))"
      ]
     },
     "metadata": {},
     "output_type": "display_data"
    },
    {
     "name": "stdout",
     "output_type": "stream",
     "text": [
      "****** log10(mDM):  5.26  ******\n"
     ]
    },
    {
     "data": {
      "application/vnd.jupyter.widget-view+json": {
       "model_id": "b322a5bbd4af40ed9a5f64a329971180",
       "version_major": 2,
       "version_minor": 0
      },
      "text/plain": [
       "HBox(children=(IntProgress(value=0, max=1595), HTML(value='')))"
      ]
     },
     "metadata": {},
     "output_type": "display_data"
    },
    {
     "data": {
      "application/vnd.jupyter.widget-view+json": {
       "model_id": "0a84ba17865943bfa9e0f38ff5b3db76",
       "version_major": 2,
       "version_minor": 0
      },
      "text/plain": [
       "HBox(children=(IntProgress(value=0, max=1595), HTML(value='')))"
      ]
     },
     "metadata": {},
     "output_type": "display_data"
    },
    {
     "data": {
      "application/vnd.jupyter.widget-view+json": {
       "model_id": "4a906c2fd0954d46a07cef2104682d03",
       "version_major": 2,
       "version_minor": 0
      },
      "text/plain": [
       "HBox(children=(IntProgress(value=0, max=532), HTML(value='')))"
      ]
     },
     "metadata": {},
     "output_type": "display_data"
    },
    {
     "name": "stdout",
     "output_type": "stream",
     "text": [
      "****** log10(mDM):  5.51  ******\n"
     ]
    },
    {
     "data": {
      "application/vnd.jupyter.widget-view+json": {
       "model_id": "b28bf0a619b44a9bb1b5eaf2349c7a16",
       "version_major": 2,
       "version_minor": 0
      },
      "text/plain": [
       "HBox(children=(IntProgress(value=0, max=1595), HTML(value='')))"
      ]
     },
     "metadata": {},
     "output_type": "display_data"
    },
    {
     "data": {
      "application/vnd.jupyter.widget-view+json": {
       "model_id": "9c361dfa7f934bcb9afe5c8e84ecc816",
       "version_major": 2,
       "version_minor": 0
      },
      "text/plain": [
       "HBox(children=(IntProgress(value=0, max=1595), HTML(value='')))"
      ]
     },
     "metadata": {},
     "output_type": "display_data"
    },
    {
     "data": {
      "application/vnd.jupyter.widget-view+json": {
       "model_id": "148554b6199b499482b2850c2f670ada",
       "version_major": 2,
       "version_minor": 0
      },
      "text/plain": [
       "HBox(children=(IntProgress(value=0, max=532), HTML(value='')))"
      ]
     },
     "metadata": {},
     "output_type": "display_data"
    },
    {
     "name": "stdout",
     "output_type": "stream",
     "text": [
      "****** log10(mDM):  5.76  ******\n"
     ]
    },
    {
     "data": {
      "application/vnd.jupyter.widget-view+json": {
       "model_id": "18208c45fa764591af49187f738f81c9",
       "version_major": 2,
       "version_minor": 0
      },
      "text/plain": [
       "HBox(children=(IntProgress(value=0, max=1595), HTML(value='')))"
      ]
     },
     "metadata": {},
     "output_type": "display_data"
    },
    {
     "data": {
      "application/vnd.jupyter.widget-view+json": {
       "model_id": "e90404f13c2345fc9e27eb02b2ef88ad",
       "version_major": 2,
       "version_minor": 0
      },
      "text/plain": [
       "HBox(children=(IntProgress(value=0, max=1595), HTML(value='')))"
      ]
     },
     "metadata": {},
     "output_type": "display_data"
    },
    {
     "data": {
      "application/vnd.jupyter.widget-view+json": {
       "model_id": "dc4cc2c6c4dc4515a47c0adcad9ab3e6",
       "version_major": 2,
       "version_minor": 0
      },
      "text/plain": [
       "HBox(children=(IntProgress(value=0, max=532), HTML(value='')))"
      ]
     },
     "metadata": {},
     "output_type": "display_data"
    },
    {
     "name": "stdout",
     "output_type": "stream",
     "text": [
      "****** log10(mDM):  6.01  ******\n"
     ]
    },
    {
     "data": {
      "application/vnd.jupyter.widget-view+json": {
       "model_id": "835cd3495b024af6b32a20a94fb28e90",
       "version_major": 2,
       "version_minor": 0
      },
      "text/plain": [
       "HBox(children=(IntProgress(value=0, max=1595), HTML(value='')))"
      ]
     },
     "metadata": {},
     "output_type": "display_data"
    },
    {
     "data": {
      "application/vnd.jupyter.widget-view+json": {
       "model_id": "adff825f356544849ede04605b7c3379",
       "version_major": 2,
       "version_minor": 0
      },
      "text/plain": [
       "HBox(children=(IntProgress(value=0, max=1595), HTML(value='')))"
      ]
     },
     "metadata": {},
     "output_type": "display_data"
    },
    {
     "data": {
      "application/vnd.jupyter.widget-view+json": {
       "model_id": "059d2c3900a14aa28613d7d3cbab88c2",
       "version_major": 2,
       "version_minor": 0
      },
      "text/plain": [
       "HBox(children=(IntProgress(value=0, max=532), HTML(value='')))"
      ]
     },
     "metadata": {},
     "output_type": "display_data"
    },
    {
     "name": "stdout",
     "output_type": "stream",
     "text": [
      "****** log10(mDM):  6.26  ******\n"
     ]
    },
    {
     "data": {
      "application/vnd.jupyter.widget-view+json": {
       "model_id": "ffff457b93f44f6ba32cf76d1d29e7c3",
       "version_major": 2,
       "version_minor": 0
      },
      "text/plain": [
       "HBox(children=(IntProgress(value=0, max=1595), HTML(value='')))"
      ]
     },
     "metadata": {},
     "output_type": "display_data"
    },
    {
     "data": {
      "application/vnd.jupyter.widget-view+json": {
       "model_id": "46b2d1304e084394a2cc9397997b1dc1",
       "version_major": 2,
       "version_minor": 0
      },
      "text/plain": [
       "HBox(children=(IntProgress(value=0, max=1595), HTML(value='')))"
      ]
     },
     "metadata": {},
     "output_type": "display_data"
    },
    {
     "data": {
      "application/vnd.jupyter.widget-view+json": {
       "model_id": "54b893d44af94ebebfac527274cf3abc",
       "version_major": 2,
       "version_minor": 0
      },
      "text/plain": [
       "HBox(children=(IntProgress(value=0, max=532), HTML(value='')))"
      ]
     },
     "metadata": {},
     "output_type": "display_data"
    },
    {
     "name": "stdout",
     "output_type": "stream",
     "text": [
      "****** log10(mDM):  6.51  ******\n"
     ]
    },
    {
     "data": {
      "application/vnd.jupyter.widget-view+json": {
       "model_id": "1370d727cd84478eb3ce421481647c65",
       "version_major": 2,
       "version_minor": 0
      },
      "text/plain": [
       "HBox(children=(IntProgress(value=0, max=1595), HTML(value='')))"
      ]
     },
     "metadata": {},
     "output_type": "display_data"
    },
    {
     "data": {
      "application/vnd.jupyter.widget-view+json": {
       "model_id": "6e4eceaa862841a499b9a082843039ee",
       "version_major": 2,
       "version_minor": 0
      },
      "text/plain": [
       "HBox(children=(IntProgress(value=0, max=1595), HTML(value='')))"
      ]
     },
     "metadata": {},
     "output_type": "display_data"
    },
    {
     "data": {
      "application/vnd.jupyter.widget-view+json": {
       "model_id": "8f9a96f3ddfe4794a22fd6a88a058c7f",
       "version_major": 2,
       "version_minor": 0
      },
      "text/plain": [
       "HBox(children=(IntProgress(value=0, max=532), HTML(value='')))"
      ]
     },
     "metadata": {},
     "output_type": "display_data"
    },
    {
     "name": "stdout",
     "output_type": "stream",
     "text": [
      "****** log10(mDM):  6.76  ******\n"
     ]
    },
    {
     "data": {
      "application/vnd.jupyter.widget-view+json": {
       "model_id": "bd16f218e45440b5a489e90b9601116d",
       "version_major": 2,
       "version_minor": 0
      },
      "text/plain": [
       "HBox(children=(IntProgress(value=0, max=1595), HTML(value='')))"
      ]
     },
     "metadata": {},
     "output_type": "display_data"
    },
    {
     "data": {
      "application/vnd.jupyter.widget-view+json": {
       "model_id": "e231774080fa446ab9dfa1c6d450a714",
       "version_major": 2,
       "version_minor": 0
      },
      "text/plain": [
       "HBox(children=(IntProgress(value=0, max=1595), HTML(value='')))"
      ]
     },
     "metadata": {},
     "output_type": "display_data"
    },
    {
     "data": {
      "application/vnd.jupyter.widget-view+json": {
       "model_id": "b97cf0227e3e421e84025aff02875b1f",
       "version_major": 2,
       "version_minor": 0
      },
      "text/plain": [
       "HBox(children=(IntProgress(value=0, max=532), HTML(value='')))"
      ]
     },
     "metadata": {},
     "output_type": "display_data"
    },
    {
     "name": "stdout",
     "output_type": "stream",
     "text": [
      "****** log10(mDM):  7.01  ******\n"
     ]
    },
    {
     "data": {
      "application/vnd.jupyter.widget-view+json": {
       "model_id": "f24fb2852f064e15911ca3f715ece7f5",
       "version_major": 2,
       "version_minor": 0
      },
      "text/plain": [
       "HBox(children=(IntProgress(value=0, max=1595), HTML(value='')))"
      ]
     },
     "metadata": {},
     "output_type": "display_data"
    },
    {
     "data": {
      "application/vnd.jupyter.widget-view+json": {
       "model_id": "e5a91344ad30497f9649bb5320c91b54",
       "version_major": 2,
       "version_minor": 0
      },
      "text/plain": [
       "HBox(children=(IntProgress(value=0, max=1595), HTML(value='')))"
      ]
     },
     "metadata": {},
     "output_type": "display_data"
    },
    {
     "data": {
      "application/vnd.jupyter.widget-view+json": {
       "model_id": "6a2cd5b86ec54a70beb49834a1bfe267",
       "version_major": 2,
       "version_minor": 0
      },
      "text/plain": [
       "HBox(children=(IntProgress(value=0, max=532), HTML(value='')))"
      ]
     },
     "metadata": {},
     "output_type": "display_data"
    },
    {
     "name": "stdout",
     "output_type": "stream",
     "text": [
      "****** log10(mDM):  7.26  ******\n"
     ]
    },
    {
     "data": {
      "application/vnd.jupyter.widget-view+json": {
       "model_id": "7bbfa72108c94ca89fee5252cf46e694",
       "version_major": 2,
       "version_minor": 0
      },
      "text/plain": [
       "HBox(children=(IntProgress(value=0, max=1595), HTML(value='')))"
      ]
     },
     "metadata": {},
     "output_type": "display_data"
    },
    {
     "data": {
      "application/vnd.jupyter.widget-view+json": {
       "model_id": "ea2f4a647d69447185a6c01308e86e84",
       "version_major": 2,
       "version_minor": 0
      },
      "text/plain": [
       "HBox(children=(IntProgress(value=0, max=1595), HTML(value='')))"
      ]
     },
     "metadata": {},
     "output_type": "display_data"
    },
    {
     "data": {
      "application/vnd.jupyter.widget-view+json": {
       "model_id": "01802e5a955e4771b726e51d98f39f82",
       "version_major": 2,
       "version_minor": 0
      },
      "text/plain": [
       "HBox(children=(IntProgress(value=0, max=532), HTML(value='')))"
      ]
     },
     "metadata": {},
     "output_type": "display_data"
    },
    {
     "name": "stdout",
     "output_type": "stream",
     "text": [
      "****** log10(mDM):  7.51  ******\n"
     ]
    },
    {
     "data": {
      "application/vnd.jupyter.widget-view+json": {
       "model_id": "1389e7586ddb4f1ca56dcc9bf555b11f",
       "version_major": 2,
       "version_minor": 0
      },
      "text/plain": [
       "HBox(children=(IntProgress(value=0, max=1595), HTML(value='')))"
      ]
     },
     "metadata": {},
     "output_type": "display_data"
    },
    {
     "data": {
      "application/vnd.jupyter.widget-view+json": {
       "model_id": "051d836768704eca9e3b7f974b9600cd",
       "version_major": 2,
       "version_minor": 0
      },
      "text/plain": [
       "HBox(children=(IntProgress(value=0, max=1595), HTML(value='')))"
      ]
     },
     "metadata": {},
     "output_type": "display_data"
    },
    {
     "data": {
      "application/vnd.jupyter.widget-view+json": {
       "model_id": "f7d2d358bbd04820be495c273b7f735f",
       "version_major": 2,
       "version_minor": 0
      },
      "text/plain": [
       "HBox(children=(IntProgress(value=0, max=532), HTML(value='')))"
      ]
     },
     "metadata": {},
     "output_type": "display_data"
    },
    {
     "name": "stdout",
     "output_type": "stream",
     "text": [
      "****** log10(mDM):  7.76  ******\n"
     ]
    },
    {
     "data": {
      "application/vnd.jupyter.widget-view+json": {
       "model_id": "e161ad7b5cae41e1bbd4eb1465be0617",
       "version_major": 2,
       "version_minor": 0
      },
      "text/plain": [
       "HBox(children=(IntProgress(value=0, max=1595), HTML(value='')))"
      ]
     },
     "metadata": {},
     "output_type": "display_data"
    },
    {
     "data": {
      "application/vnd.jupyter.widget-view+json": {
       "model_id": "f673483be1c045049b74e31d0b763d32",
       "version_major": 2,
       "version_minor": 0
      },
      "text/plain": [
       "HBox(children=(IntProgress(value=0, max=1595), HTML(value='')))"
      ]
     },
     "metadata": {},
     "output_type": "display_data"
    },
    {
     "data": {
      "application/vnd.jupyter.widget-view+json": {
       "model_id": "a26ffbfe5081401a8cb83dc6703c03fd",
       "version_major": 2,
       "version_minor": 0
      },
      "text/plain": [
       "HBox(children=(IntProgress(value=0, max=532), HTML(value='')))"
      ]
     },
     "metadata": {},
     "output_type": "display_data"
    },
    {
     "name": "stdout",
     "output_type": "stream",
     "text": [
      "****** log10(mDM):  8.01  ******\n"
     ]
    },
    {
     "data": {
      "application/vnd.jupyter.widget-view+json": {
       "model_id": "49e36909b3304f229395e5195215487b",
       "version_major": 2,
       "version_minor": 0
      },
      "text/plain": [
       "HBox(children=(IntProgress(value=0, max=1595), HTML(value='')))"
      ]
     },
     "metadata": {},
     "output_type": "display_data"
    },
    {
     "data": {
      "application/vnd.jupyter.widget-view+json": {
       "model_id": "43c473040f304249bdc06e8e0ab29bad",
       "version_major": 2,
       "version_minor": 0
      },
      "text/plain": [
       "HBox(children=(IntProgress(value=0, max=1595), HTML(value='')))"
      ]
     },
     "metadata": {},
     "output_type": "display_data"
    },
    {
     "data": {
      "application/vnd.jupyter.widget-view+json": {
       "model_id": "8f9e3bc6327b4f89be5615c7adfc6491",
       "version_major": 2,
       "version_minor": 0
      },
      "text/plain": [
       "HBox(children=(IntProgress(value=0, max=532), HTML(value='')))"
      ]
     },
     "metadata": {},
     "output_type": "display_data"
    },
    {
     "name": "stdout",
     "output_type": "stream",
     "text": [
      "****** log10(mDM):  8.26  ******\n"
     ]
    },
    {
     "data": {
      "application/vnd.jupyter.widget-view+json": {
       "model_id": "87d0d5485d1c4be4a85f2fb53dc10296",
       "version_major": 2,
       "version_minor": 0
      },
      "text/plain": [
       "HBox(children=(IntProgress(value=0, max=1595), HTML(value='')))"
      ]
     },
     "metadata": {},
     "output_type": "display_data"
    },
    {
     "data": {
      "application/vnd.jupyter.widget-view+json": {
       "model_id": "e241291c7ea84c9ebcb326cd1fa831df",
       "version_major": 2,
       "version_minor": 0
      },
      "text/plain": [
       "HBox(children=(IntProgress(value=0, max=1595), HTML(value='')))"
      ]
     },
     "metadata": {},
     "output_type": "display_data"
    },
    {
     "data": {
      "application/vnd.jupyter.widget-view+json": {
       "model_id": "70d20be7a64547cf87df96f3cb88fe4a",
       "version_major": 2,
       "version_minor": 0
      },
      "text/plain": [
       "HBox(children=(IntProgress(value=0, max=532), HTML(value='')))"
      ]
     },
     "metadata": {},
     "output_type": "display_data"
    },
    {
     "name": "stdout",
     "output_type": "stream",
     "text": [
      "****** log10(mDM):  8.51  ******\n"
     ]
    },
    {
     "data": {
      "application/vnd.jupyter.widget-view+json": {
       "model_id": "c3361cacd5a34bdd9ad4af73338f7d36",
       "version_major": 2,
       "version_minor": 0
      },
      "text/plain": [
       "HBox(children=(IntProgress(value=0, max=1595), HTML(value='')))"
      ]
     },
     "metadata": {},
     "output_type": "display_data"
    },
    {
     "data": {
      "application/vnd.jupyter.widget-view+json": {
       "model_id": "78800deea5e34e19810bb4024b294dab",
       "version_major": 2,
       "version_minor": 0
      },
      "text/plain": [
       "HBox(children=(IntProgress(value=0, max=1595), HTML(value='')))"
      ]
     },
     "metadata": {},
     "output_type": "display_data"
    },
    {
     "data": {
      "application/vnd.jupyter.widget-view+json": {
       "model_id": "fba97a972cb9420db2fcc8d44441c15e",
       "version_major": 2,
       "version_minor": 0
      },
      "text/plain": [
       "HBox(children=(IntProgress(value=0, max=532), HTML(value='')))"
      ]
     },
     "metadata": {},
     "output_type": "display_data"
    },
    {
     "name": "stdout",
     "output_type": "stream",
     "text": [
      "****** log10(mDM):  8.76  ******\n"
     ]
    },
    {
     "data": {
      "application/vnd.jupyter.widget-view+json": {
       "model_id": "d6bdcb60be3c4aa99ba90b5263ea8e6c",
       "version_major": 2,
       "version_minor": 0
      },
      "text/plain": [
       "HBox(children=(IntProgress(value=0, max=1595), HTML(value='')))"
      ]
     },
     "metadata": {},
     "output_type": "display_data"
    },
    {
     "data": {
      "application/vnd.jupyter.widget-view+json": {
       "model_id": "1b97413dabaf443e873f69657e3e7206",
       "version_major": 2,
       "version_minor": 0
      },
      "text/plain": [
       "HBox(children=(IntProgress(value=0, max=1595), HTML(value='')))"
      ]
     },
     "metadata": {},
     "output_type": "display_data"
    },
    {
     "data": {
      "application/vnd.jupyter.widget-view+json": {
       "model_id": "740e117dbf914d21b45f73029b60c626",
       "version_major": 2,
       "version_minor": 0
      },
      "text/plain": [
       "HBox(children=(IntProgress(value=0, max=532), HTML(value='')))"
      ]
     },
     "metadata": {},
     "output_type": "display_data"
    },
    {
     "name": "stdout",
     "output_type": "stream",
     "text": [
      "****** log10(mDM):  9.01  ******\n"
     ]
    },
    {
     "data": {
      "application/vnd.jupyter.widget-view+json": {
       "model_id": "3a62123570bb458b8c446fb09093accf",
       "version_major": 2,
       "version_minor": 0
      },
      "text/plain": [
       "HBox(children=(IntProgress(value=0, max=1595), HTML(value='')))"
      ]
     },
     "metadata": {},
     "output_type": "display_data"
    },
    {
     "data": {
      "application/vnd.jupyter.widget-view+json": {
       "model_id": "730f6def20f140bd94d34e4a3688260e",
       "version_major": 2,
       "version_minor": 0
      },
      "text/plain": [
       "HBox(children=(IntProgress(value=0, max=1595), HTML(value='')))"
      ]
     },
     "metadata": {},
     "output_type": "display_data"
    },
    {
     "data": {
      "application/vnd.jupyter.widget-view+json": {
       "model_id": "f1306115285b4d358200dc5bbdc38f6a",
       "version_major": 2,
       "version_minor": 0
      },
      "text/plain": [
       "HBox(children=(IntProgress(value=0, max=532), HTML(value='')))"
      ]
     },
     "metadata": {},
     "output_type": "display_data"
    },
    {
     "name": "stdout",
     "output_type": "stream",
     "text": [
      "****** log10(mDM):  9.26  ******\n"
     ]
    },
    {
     "data": {
      "application/vnd.jupyter.widget-view+json": {
       "model_id": "c624281009864e8a9d3f1b9a47c2a287",
       "version_major": 2,
       "version_minor": 0
      },
      "text/plain": [
       "HBox(children=(IntProgress(value=0, max=1595), HTML(value='')))"
      ]
     },
     "metadata": {},
     "output_type": "display_data"
    },
    {
     "data": {
      "application/vnd.jupyter.widget-view+json": {
       "model_id": "14a4679190f54f8f9e3ecf7ecc25bf2d",
       "version_major": 2,
       "version_minor": 0
      },
      "text/plain": [
       "HBox(children=(IntProgress(value=0, max=1595), HTML(value='')))"
      ]
     },
     "metadata": {},
     "output_type": "display_data"
    },
    {
     "data": {
      "application/vnd.jupyter.widget-view+json": {
       "model_id": "092450d9f7af4650951a095ac1fb6dfc",
       "version_major": 2,
       "version_minor": 0
      },
      "text/plain": [
       "HBox(children=(IntProgress(value=0, max=532), HTML(value='')))"
      ]
     },
     "metadata": {},
     "output_type": "display_data"
    },
    {
     "name": "stdout",
     "output_type": "stream",
     "text": [
      "****** log10(mDM):  9.51  ******\n"
     ]
    },
    {
     "data": {
      "application/vnd.jupyter.widget-view+json": {
       "model_id": "c36099ff0761458dabe3f7f24727ba69",
       "version_major": 2,
       "version_minor": 0
      },
      "text/plain": [
       "HBox(children=(IntProgress(value=0, max=1595), HTML(value='')))"
      ]
     },
     "metadata": {},
     "output_type": "display_data"
    },
    {
     "data": {
      "application/vnd.jupyter.widget-view+json": {
       "model_id": "e682e28954c14903a46ec32b151e6dd7",
       "version_major": 2,
       "version_minor": 0
      },
      "text/plain": [
       "HBox(children=(IntProgress(value=0, max=1595), HTML(value='')))"
      ]
     },
     "metadata": {},
     "output_type": "display_data"
    },
    {
     "data": {
      "application/vnd.jupyter.widget-view+json": {
       "model_id": "bd8edff7cbac49ca9d254f4d755a1ccb",
       "version_major": 2,
       "version_minor": 0
      },
      "text/plain": [
       "HBox(children=(IntProgress(value=0, max=532), HTML(value='')))"
      ]
     },
     "metadata": {},
     "output_type": "display_data"
    },
    {
     "name": "stdout",
     "output_type": "stream",
     "text": [
      "****** log10(mDM):  9.76  ******\n"
     ]
    },
    {
     "data": {
      "application/vnd.jupyter.widget-view+json": {
       "model_id": "90dcd9e88c3b4c639517a339ed57fb78",
       "version_major": 2,
       "version_minor": 0
      },
      "text/plain": [
       "HBox(children=(IntProgress(value=0, max=1595), HTML(value='')))"
      ]
     },
     "metadata": {},
     "output_type": "display_data"
    },
    {
     "data": {
      "application/vnd.jupyter.widget-view+json": {
       "model_id": "e4290231e65d44de98a6c2db68fb6086",
       "version_major": 2,
       "version_minor": 0
      },
      "text/plain": [
       "HBox(children=(IntProgress(value=0, max=1595), HTML(value='')))"
      ]
     },
     "metadata": {},
     "output_type": "display_data"
    },
    {
     "data": {
      "application/vnd.jupyter.widget-view+json": {
       "model_id": "e6962c58f5044885bd365db98aef1381",
       "version_major": 2,
       "version_minor": 0
      },
      "text/plain": [
       "HBox(children=(IntProgress(value=0, max=532), HTML(value='')))"
      ]
     },
     "metadata": {},
     "output_type": "display_data"
    },
    {
     "name": "stdout",
     "output_type": "stream",
     "text": [
      "****** log10(mDM):  10.01  ******\n"
     ]
    },
    {
     "data": {
      "application/vnd.jupyter.widget-view+json": {
       "model_id": "c2d634c9d14a425f8beefa8462a385b5",
       "version_major": 2,
       "version_minor": 0
      },
      "text/plain": [
       "HBox(children=(IntProgress(value=0, max=1595), HTML(value='')))"
      ]
     },
     "metadata": {},
     "output_type": "display_data"
    },
    {
     "data": {
      "application/vnd.jupyter.widget-view+json": {
       "model_id": "ef3cea21980a4053818ee44136a1fd38",
       "version_major": 2,
       "version_minor": 0
      },
      "text/plain": [
       "HBox(children=(IntProgress(value=0, max=1595), HTML(value='')))"
      ]
     },
     "metadata": {},
     "output_type": "display_data"
    },
    {
     "data": {
      "application/vnd.jupyter.widget-view+json": {
       "model_id": "1aa580a7b5054e9c98ce763e78b8962d",
       "version_major": 2,
       "version_minor": 0
      },
      "text/plain": [
       "HBox(children=(IntProgress(value=0, max=532), HTML(value='')))"
      ]
     },
     "metadata": {},
     "output_type": "display_data"
    },
    {
     "name": "stdout",
     "output_type": "stream",
     "text": [
      "****** log10(mDM):  10.26  ******\n"
     ]
    },
    {
     "data": {
      "application/vnd.jupyter.widget-view+json": {
       "model_id": "6dcfcb05bff54433bd240b35bed5039e",
       "version_major": 2,
       "version_minor": 0
      },
      "text/plain": [
       "HBox(children=(IntProgress(value=0, max=1595), HTML(value='')))"
      ]
     },
     "metadata": {},
     "output_type": "display_data"
    },
    {
     "data": {
      "application/vnd.jupyter.widget-view+json": {
       "model_id": "dbbabc0fef064214b428b84171db2799",
       "version_major": 2,
       "version_minor": 0
      },
      "text/plain": [
       "HBox(children=(IntProgress(value=0, max=1595), HTML(value='')))"
      ]
     },
     "metadata": {},
     "output_type": "display_data"
    },
    {
     "data": {
      "application/vnd.jupyter.widget-view+json": {
       "model_id": "36e2a8dda3a541afac7922662f5ce7a4",
       "version_major": 2,
       "version_minor": 0
      },
      "text/plain": [
       "HBox(children=(IntProgress(value=0, max=532), HTML(value='')))"
      ]
     },
     "metadata": {},
     "output_type": "display_data"
    },
    {
     "name": "stdout",
     "output_type": "stream",
     "text": [
      "****** log10(mDM):  10.51  ******\n"
     ]
    },
    {
     "data": {
      "application/vnd.jupyter.widget-view+json": {
       "model_id": "659665020002444497fbd6cef25bb257",
       "version_major": 2,
       "version_minor": 0
      },
      "text/plain": [
       "HBox(children=(IntProgress(value=0, max=1595), HTML(value='')))"
      ]
     },
     "metadata": {},
     "output_type": "display_data"
    },
    {
     "data": {
      "application/vnd.jupyter.widget-view+json": {
       "model_id": "122283b38b884a9a9eaa953496725688",
       "version_major": 2,
       "version_minor": 0
      },
      "text/plain": [
       "HBox(children=(IntProgress(value=0, max=1595), HTML(value='')))"
      ]
     },
     "metadata": {},
     "output_type": "display_data"
    },
    {
     "data": {
      "application/vnd.jupyter.widget-view+json": {
       "model_id": "2918bf9ec2044c28ad1bf3e2002d33fc",
       "version_major": 2,
       "version_minor": 0
      },
      "text/plain": [
       "HBox(children=(IntProgress(value=0, max=532), HTML(value='')))"
      ]
     },
     "metadata": {},
     "output_type": "display_data"
    },
    {
     "name": "stdout",
     "output_type": "stream",
     "text": [
      "****** log10(mDM):  10.76  ******\n"
     ]
    },
    {
     "data": {
      "application/vnd.jupyter.widget-view+json": {
       "model_id": "9960f2c75f0043e5a5165af66588e378",
       "version_major": 2,
       "version_minor": 0
      },
      "text/plain": [
       "HBox(children=(IntProgress(value=0, max=1595), HTML(value='')))"
      ]
     },
     "metadata": {},
     "output_type": "display_data"
    },
    {
     "data": {
      "application/vnd.jupyter.widget-view+json": {
       "model_id": "8644828bbd714c4f93b2c12650d0bc26",
       "version_major": 2,
       "version_minor": 0
      },
      "text/plain": [
       "HBox(children=(IntProgress(value=0, max=1595), HTML(value='')))"
      ]
     },
     "metadata": {},
     "output_type": "display_data"
    },
    {
     "data": {
      "application/vnd.jupyter.widget-view+json": {
       "model_id": "f29ce5c6ccf24453a2029c6e6aee68f1",
       "version_major": 2,
       "version_minor": 0
      },
      "text/plain": [
       "HBox(children=(IntProgress(value=0, max=532), HTML(value='')))"
      ]
     },
     "metadata": {},
     "output_type": "display_data"
    },
    {
     "name": "stdout",
     "output_type": "stream",
     "text": [
      "****** log10(mDM):  11.01  ******\n"
     ]
    },
    {
     "data": {
      "application/vnd.jupyter.widget-view+json": {
       "model_id": "04d4533af52f4f5ca4d09020938919ec",
       "version_major": 2,
       "version_minor": 0
      },
      "text/plain": [
       "HBox(children=(IntProgress(value=0, max=1595), HTML(value='')))"
      ]
     },
     "metadata": {},
     "output_type": "display_data"
    },
    {
     "data": {
      "application/vnd.jupyter.widget-view+json": {
       "model_id": "82ac1bc6fe13425cb9295c3da3575230",
       "version_major": 2,
       "version_minor": 0
      },
      "text/plain": [
       "HBox(children=(IntProgress(value=0, max=1595), HTML(value='')))"
      ]
     },
     "metadata": {},
     "output_type": "display_data"
    },
    {
     "data": {
      "application/vnd.jupyter.widget-view+json": {
       "model_id": "891cb6ef492d42f2aa4a815e8bf08150",
       "version_major": 2,
       "version_minor": 0
      },
      "text/plain": [
       "HBox(children=(IntProgress(value=0, max=532), HTML(value='')))"
      ]
     },
     "metadata": {},
     "output_type": "display_data"
    },
    {
     "name": "stdout",
     "output_type": "stream",
     "text": [
      "****** log10(mDM):  11.26  ******\n"
     ]
    },
    {
     "data": {
      "application/vnd.jupyter.widget-view+json": {
       "model_id": "6c2934abc15f4166a37601a2ff266a11",
       "version_major": 2,
       "version_minor": 0
      },
      "text/plain": [
       "HBox(children=(IntProgress(value=0, max=1595), HTML(value='')))"
      ]
     },
     "metadata": {},
     "output_type": "display_data"
    },
    {
     "data": {
      "application/vnd.jupyter.widget-view+json": {
       "model_id": "1b16931ad12e4dd6af51e3d0e72235ed",
       "version_major": 2,
       "version_minor": 0
      },
      "text/plain": [
       "HBox(children=(IntProgress(value=0, max=1595), HTML(value='')))"
      ]
     },
     "metadata": {},
     "output_type": "display_data"
    },
    {
     "data": {
      "application/vnd.jupyter.widget-view+json": {
       "model_id": "123aa2f1dac0478e9262f66e62e90670",
       "version_major": 2,
       "version_minor": 0
      },
      "text/plain": [
       "HBox(children=(IntProgress(value=0, max=532), HTML(value='')))"
      ]
     },
     "metadata": {},
     "output_type": "display_data"
    },
    {
     "name": "stdout",
     "output_type": "stream",
     "text": [
      "****** log10(mDM):  11.51  ******\n"
     ]
    },
    {
     "data": {
      "application/vnd.jupyter.widget-view+json": {
       "model_id": "94c9817a44f94d6d9e7ad068e2f7bd11",
       "version_major": 2,
       "version_minor": 0
      },
      "text/plain": [
       "HBox(children=(IntProgress(value=0, max=1595), HTML(value='')))"
      ]
     },
     "metadata": {},
     "output_type": "display_data"
    },
    {
     "data": {
      "application/vnd.jupyter.widget-view+json": {
       "model_id": "a557d0687935484697e1e27bd3b9da15",
       "version_major": 2,
       "version_minor": 0
      },
      "text/plain": [
       "HBox(children=(IntProgress(value=0, max=1595), HTML(value='')))"
      ]
     },
     "metadata": {},
     "output_type": "display_data"
    },
    {
     "data": {
      "application/vnd.jupyter.widget-view+json": {
       "model_id": "dfbfd60761db408ab4b5b25919eb3088",
       "version_major": 2,
       "version_minor": 0
      },
      "text/plain": [
       "HBox(children=(IntProgress(value=0, max=532), HTML(value='')))"
      ]
     },
     "metadata": {},
     "output_type": "display_data"
    },
    {
     "name": "stdout",
     "output_type": "stream",
     "text": [
      "****** log10(mDM):  11.76  ******\n"
     ]
    },
    {
     "data": {
      "application/vnd.jupyter.widget-view+json": {
       "model_id": "c138edc32eb844abaae6c3e8e6f0ca32",
       "version_major": 2,
       "version_minor": 0
      },
      "text/plain": [
       "HBox(children=(IntProgress(value=0, max=1595), HTML(value='')))"
      ]
     },
     "metadata": {},
     "output_type": "display_data"
    },
    {
     "data": {
      "application/vnd.jupyter.widget-view+json": {
       "model_id": "68e3f5a143b04e0a8a1cdd0bd34dfa85",
       "version_major": 2,
       "version_minor": 0
      },
      "text/plain": [
       "HBox(children=(IntProgress(value=0, max=1595), HTML(value='')))"
      ]
     },
     "metadata": {},
     "output_type": "display_data"
    },
    {
     "data": {
      "application/vnd.jupyter.widget-view+json": {
       "model_id": "30ff244af03344b0aec8ebc29f2f88e9",
       "version_major": 2,
       "version_minor": 0
      },
      "text/plain": [
       "HBox(children=(IntProgress(value=0, max=532), HTML(value='')))"
      ]
     },
     "metadata": {},
     "output_type": "display_data"
    },
    {
     "name": "stdout",
     "output_type": "stream",
     "text": [
      "****** log10(mDM):  12.01  ******\n"
     ]
    },
    {
     "data": {
      "application/vnd.jupyter.widget-view+json": {
       "model_id": "48e1e37c9fb341cb919b9e1ec70b33a9",
       "version_major": 2,
       "version_minor": 0
      },
      "text/plain": [
       "HBox(children=(IntProgress(value=0, max=1595), HTML(value='')))"
      ]
     },
     "metadata": {},
     "output_type": "display_data"
    },
    {
     "data": {
      "application/vnd.jupyter.widget-view+json": {
       "model_id": "e59d843a14bd418db1d6a8c499bde298",
       "version_major": 2,
       "version_minor": 0
      },
      "text/plain": [
       "HBox(children=(IntProgress(value=0, max=1595), HTML(value='')))"
      ]
     },
     "metadata": {},
     "output_type": "display_data"
    },
    {
     "data": {
      "application/vnd.jupyter.widget-view+json": {
       "model_id": "8e7ebffdaabd45ea9d5567d93d0a5d69",
       "version_major": 2,
       "version_minor": 0
      },
      "text/plain": [
       "HBox(children=(IntProgress(value=0, max=532), HTML(value='')))"
      ]
     },
     "metadata": {},
     "output_type": "display_data"
    },
    {
     "name": "stdout",
     "output_type": "stream",
     "text": [
      "****** log10(mDM):  12.26  ******\n"
     ]
    },
    {
     "data": {
      "application/vnd.jupyter.widget-view+json": {
       "model_id": "0b4a79bdb44e40b8bf1a5f4594e026d5",
       "version_major": 2,
       "version_minor": 0
      },
      "text/plain": [
       "HBox(children=(IntProgress(value=0, max=1595), HTML(value='')))"
      ]
     },
     "metadata": {},
     "output_type": "display_data"
    },
    {
     "data": {
      "application/vnd.jupyter.widget-view+json": {
       "model_id": "1e13e974dd4f4232b8013eda6c68459f",
       "version_major": 2,
       "version_minor": 0
      },
      "text/plain": [
       "HBox(children=(IntProgress(value=0, max=1595), HTML(value='')))"
      ]
     },
     "metadata": {},
     "output_type": "display_data"
    },
    {
     "data": {
      "application/vnd.jupyter.widget-view+json": {
       "model_id": "5c5811fa3d204024a74af07cf0b62aa1",
       "version_major": 2,
       "version_minor": 0
      },
      "text/plain": [
       "HBox(children=(IntProgress(value=0, max=532), HTML(value='')))"
      ]
     },
     "metadata": {},
     "output_type": "display_data"
    },
    {
     "name": "stdout",
     "output_type": "stream",
     "text": [
      "###### Calculation Complete! ######\n"
     ]
    }
   ],
   "source": [
    "%autoreload\n",
    "for i, log10Einj in enumerate(tqdm(log10_Einj_arr)):\n",
    "    \n",
    "    Einj = 10**log10Einj\n",
    "    print('****** log10(mDM): ', log10Einj, ' ******')\n",
    "    \n",
    "    Tm_br_swave[i] = get_T(Einj+phys.me, 'swave', br=True, pri='elec')\n",
    "    \n",
    "#     Tm_br[i] = {'phot_decay': get_T(2*Einj, 'decay', br=True, pri='phot'),\n",
    "#                    'phot_swave': get_T(Einj, 'swave', br=True, pri='phot'),\n",
    "#                     'elec_swave': get_T(Einj+phys.me, 'swave', br=True, pri='elec')\n",
    "#                   }\n",
    "\n",
    "print('###### Calculation Complete! ######')"
   ]
  },
  {
   "cell_type": "code",
   "execution_count": 294,
   "metadata": {
    "collapsed": true
   },
   "outputs": [
    {
     "data": {
      "application/vnd.jupyter.widget-view+json": {
       "model_id": "c9eaa9a8119a44a488876f09e7b1dd2f",
       "version_major": 2,
       "version_minor": 0
      },
      "text/plain": [
       "HBox(children=(IntProgress(value=0, max=30), HTML(value='')))"
      ]
     },
     "metadata": {},
     "output_type": "display_data"
    },
    {
     "name": "stdout",
     "output_type": "stream",
     "text": [
      "****** log10(mDM):  5.01  ******\n"
     ]
    },
    {
     "data": {
      "application/vnd.jupyter.widget-view+json": {
       "model_id": "90ee74fdd94e4306b7e29ebae6ccbac9",
       "version_major": 2,
       "version_minor": 0
      },
      "text/plain": [
       "HBox(children=(IntProgress(value=0, max=532), HTML(value='')))"
      ]
     },
     "metadata": {},
     "output_type": "display_data"
    },
    {
     "name": "stdout",
     "output_type": "stream",
     "text": [
      "****** log10(mDM):  5.26  ******\n"
     ]
    },
    {
     "data": {
      "application/vnd.jupyter.widget-view+json": {
       "model_id": "c21a3cea9bae45558c6d586a65ccc601",
       "version_major": 2,
       "version_minor": 0
      },
      "text/plain": [
       "HBox(children=(IntProgress(value=0, max=532), HTML(value='')))"
      ]
     },
     "metadata": {},
     "output_type": "display_data"
    },
    {
     "name": "stdout",
     "output_type": "stream",
     "text": [
      "****** log10(mDM):  5.51  ******\n"
     ]
    },
    {
     "data": {
      "application/vnd.jupyter.widget-view+json": {
       "model_id": "1822dbc2991c44ff907fec4b8c3ea452",
       "version_major": 2,
       "version_minor": 0
      },
      "text/plain": [
       "HBox(children=(IntProgress(value=0, max=532), HTML(value='')))"
      ]
     },
     "metadata": {},
     "output_type": "display_data"
    },
    {
     "name": "stdout",
     "output_type": "stream",
     "text": [
      "****** log10(mDM):  5.76  ******\n"
     ]
    },
    {
     "data": {
      "application/vnd.jupyter.widget-view+json": {
       "model_id": "0603906907b044f9a07eadad13e09c3d",
       "version_major": 2,
       "version_minor": 0
      },
      "text/plain": [
       "HBox(children=(IntProgress(value=0, max=532), HTML(value='')))"
      ]
     },
     "metadata": {},
     "output_type": "display_data"
    },
    {
     "name": "stdout",
     "output_type": "stream",
     "text": [
      "****** log10(mDM):  6.01  ******\n"
     ]
    },
    {
     "data": {
      "application/vnd.jupyter.widget-view+json": {
       "model_id": "607256a0910e493c94a3a4791304fb37",
       "version_major": 2,
       "version_minor": 0
      },
      "text/plain": [
       "HBox(children=(IntProgress(value=0, max=532), HTML(value='')))"
      ]
     },
     "metadata": {},
     "output_type": "display_data"
    },
    {
     "name": "stdout",
     "output_type": "stream",
     "text": [
      "****** log10(mDM):  6.26  ******\n"
     ]
    },
    {
     "data": {
      "application/vnd.jupyter.widget-view+json": {
       "model_id": "36a4cf284a284865bc4a2ba78a30c86b",
       "version_major": 2,
       "version_minor": 0
      },
      "text/plain": [
       "HBox(children=(IntProgress(value=0, max=532), HTML(value='')))"
      ]
     },
     "metadata": {},
     "output_type": "display_data"
    },
    {
     "name": "stdout",
     "output_type": "stream",
     "text": [
      "****** log10(mDM):  6.51  ******\n"
     ]
    },
    {
     "data": {
      "application/vnd.jupyter.widget-view+json": {
       "model_id": "1766f8ed43bc4ddb96affb684f1cc577",
       "version_major": 2,
       "version_minor": 0
      },
      "text/plain": [
       "HBox(children=(IntProgress(value=0, max=532), HTML(value='')))"
      ]
     },
     "metadata": {},
     "output_type": "display_data"
    },
    {
     "name": "stdout",
     "output_type": "stream",
     "text": [
      "****** log10(mDM):  6.76  ******\n"
     ]
    },
    {
     "data": {
      "application/vnd.jupyter.widget-view+json": {
       "model_id": "07d9974038c24ba59a3be6aa17c95957",
       "version_major": 2,
       "version_minor": 0
      },
      "text/plain": [
       "HBox(children=(IntProgress(value=0, max=532), HTML(value='')))"
      ]
     },
     "metadata": {},
     "output_type": "display_data"
    },
    {
     "name": "stdout",
     "output_type": "stream",
     "text": [
      "****** log10(mDM):  7.01  ******\n"
     ]
    },
    {
     "data": {
      "application/vnd.jupyter.widget-view+json": {
       "model_id": "0fbca2243b9b46068e6d50cd9792e2c1",
       "version_major": 2,
       "version_minor": 0
      },
      "text/plain": [
       "HBox(children=(IntProgress(value=0, max=532), HTML(value='')))"
      ]
     },
     "metadata": {},
     "output_type": "display_data"
    },
    {
     "name": "stdout",
     "output_type": "stream",
     "text": [
      "****** log10(mDM):  7.26  ******\n"
     ]
    },
    {
     "data": {
      "application/vnd.jupyter.widget-view+json": {
       "model_id": "5ad12afcfff041d8b3e9becc6494bb42",
       "version_major": 2,
       "version_minor": 0
      },
      "text/plain": [
       "HBox(children=(IntProgress(value=0, max=532), HTML(value='')))"
      ]
     },
     "metadata": {},
     "output_type": "display_data"
    },
    {
     "name": "stdout",
     "output_type": "stream",
     "text": [
      "****** log10(mDM):  7.51  ******\n"
     ]
    },
    {
     "data": {
      "application/vnd.jupyter.widget-view+json": {
       "model_id": "b159a4858dcd4c2289de386adb2b10d0",
       "version_major": 2,
       "version_minor": 0
      },
      "text/plain": [
       "HBox(children=(IntProgress(value=0, max=532), HTML(value='')))"
      ]
     },
     "metadata": {},
     "output_type": "display_data"
    },
    {
     "name": "stdout",
     "output_type": "stream",
     "text": [
      "****** log10(mDM):  7.76  ******\n"
     ]
    },
    {
     "data": {
      "application/vnd.jupyter.widget-view+json": {
       "model_id": "102b9965e7dd4941a20ac9fef9e02edc",
       "version_major": 2,
       "version_minor": 0
      },
      "text/plain": [
       "HBox(children=(IntProgress(value=0, max=532), HTML(value='')))"
      ]
     },
     "metadata": {},
     "output_type": "display_data"
    },
    {
     "name": "stdout",
     "output_type": "stream",
     "text": [
      "****** log10(mDM):  8.01  ******\n"
     ]
    },
    {
     "data": {
      "application/vnd.jupyter.widget-view+json": {
       "model_id": "87eeca77ddc84545a9079a893667c8b2",
       "version_major": 2,
       "version_minor": 0
      },
      "text/plain": [
       "HBox(children=(IntProgress(value=0, max=532), HTML(value='')))"
      ]
     },
     "metadata": {},
     "output_type": "display_data"
    },
    {
     "name": "stdout",
     "output_type": "stream",
     "text": [
      "****** log10(mDM):  8.26  ******\n"
     ]
    },
    {
     "data": {
      "application/vnd.jupyter.widget-view+json": {
       "model_id": "9e616faaa2174b36a0fe0477f70bcf97",
       "version_major": 2,
       "version_minor": 0
      },
      "text/plain": [
       "HBox(children=(IntProgress(value=0, max=532), HTML(value='')))"
      ]
     },
     "metadata": {},
     "output_type": "display_data"
    },
    {
     "name": "stdout",
     "output_type": "stream",
     "text": [
      "****** log10(mDM):  8.51  ******\n"
     ]
    },
    {
     "data": {
      "application/vnd.jupyter.widget-view+json": {
       "model_id": "129a3a2022d64b21b43ab9c5e982f838",
       "version_major": 2,
       "version_minor": 0
      },
      "text/plain": [
       "HBox(children=(IntProgress(value=0, max=532), HTML(value='')))"
      ]
     },
     "metadata": {},
     "output_type": "display_data"
    },
    {
     "name": "stdout",
     "output_type": "stream",
     "text": [
      "****** log10(mDM):  8.76  ******\n"
     ]
    },
    {
     "data": {
      "application/vnd.jupyter.widget-view+json": {
       "model_id": "70072e6169754a25b22fd55257f24283",
       "version_major": 2,
       "version_minor": 0
      },
      "text/plain": [
       "HBox(children=(IntProgress(value=0, max=532), HTML(value='')))"
      ]
     },
     "metadata": {},
     "output_type": "display_data"
    },
    {
     "name": "stdout",
     "output_type": "stream",
     "text": [
      "****** log10(mDM):  9.01  ******\n"
     ]
    },
    {
     "data": {
      "application/vnd.jupyter.widget-view+json": {
       "model_id": "ebfd5ef9dd68464ba19dbdeb35d7ed98",
       "version_major": 2,
       "version_minor": 0
      },
      "text/plain": [
       "HBox(children=(IntProgress(value=0, max=532), HTML(value='')))"
      ]
     },
     "metadata": {},
     "output_type": "display_data"
    },
    {
     "name": "stdout",
     "output_type": "stream",
     "text": [
      "****** log10(mDM):  9.26  ******\n"
     ]
    },
    {
     "data": {
      "application/vnd.jupyter.widget-view+json": {
       "model_id": "39c268056c6841389c1a3230efe9ee98",
       "version_major": 2,
       "version_minor": 0
      },
      "text/plain": [
       "HBox(children=(IntProgress(value=0, max=532), HTML(value='')))"
      ]
     },
     "metadata": {},
     "output_type": "display_data"
    },
    {
     "name": "stdout",
     "output_type": "stream",
     "text": [
      "****** log10(mDM):  9.51  ******\n"
     ]
    },
    {
     "data": {
      "application/vnd.jupyter.widget-view+json": {
       "model_id": "6ad070470d514b548149deb9e23e175c",
       "version_major": 2,
       "version_minor": 0
      },
      "text/plain": [
       "HBox(children=(IntProgress(value=0, max=532), HTML(value='')))"
      ]
     },
     "metadata": {},
     "output_type": "display_data"
    },
    {
     "name": "stdout",
     "output_type": "stream",
     "text": [
      "****** log10(mDM):  9.76  ******\n"
     ]
    },
    {
     "data": {
      "application/vnd.jupyter.widget-view+json": {
       "model_id": "88e3d754db6f49c4b7358208ef16327a",
       "version_major": 2,
       "version_minor": 0
      },
      "text/plain": [
       "HBox(children=(IntProgress(value=0, max=532), HTML(value='')))"
      ]
     },
     "metadata": {},
     "output_type": "display_data"
    },
    {
     "name": "stdout",
     "output_type": "stream",
     "text": [
      "****** log10(mDM):  10.01  ******\n"
     ]
    },
    {
     "data": {
      "application/vnd.jupyter.widget-view+json": {
       "model_id": "9968c1e35b4d4976bbcee27a42d5366b",
       "version_major": 2,
       "version_minor": 0
      },
      "text/plain": [
       "HBox(children=(IntProgress(value=0, max=532), HTML(value='')))"
      ]
     },
     "metadata": {},
     "output_type": "display_data"
    },
    {
     "name": "stdout",
     "output_type": "stream",
     "text": [
      "****** log10(mDM):  10.26  ******\n"
     ]
    },
    {
     "data": {
      "application/vnd.jupyter.widget-view+json": {
       "model_id": "a33b022cbea64d36a54ced3cff5a9f86",
       "version_major": 2,
       "version_minor": 0
      },
      "text/plain": [
       "HBox(children=(IntProgress(value=0, max=532), HTML(value='')))"
      ]
     },
     "metadata": {},
     "output_type": "display_data"
    },
    {
     "name": "stdout",
     "output_type": "stream",
     "text": [
      "****** log10(mDM):  10.51  ******\n"
     ]
    },
    {
     "data": {
      "application/vnd.jupyter.widget-view+json": {
       "model_id": "02738b90c2c5449ba4e9d190efc4fa28",
       "version_major": 2,
       "version_minor": 0
      },
      "text/plain": [
       "HBox(children=(IntProgress(value=0, max=532), HTML(value='')))"
      ]
     },
     "metadata": {},
     "output_type": "display_data"
    },
    {
     "name": "stdout",
     "output_type": "stream",
     "text": [
      "****** log10(mDM):  10.76  ******\n"
     ]
    },
    {
     "data": {
      "application/vnd.jupyter.widget-view+json": {
       "model_id": "0842568ef92347f9a83b5218c1ca9afe",
       "version_major": 2,
       "version_minor": 0
      },
      "text/plain": [
       "HBox(children=(IntProgress(value=0, max=532), HTML(value='')))"
      ]
     },
     "metadata": {},
     "output_type": "display_data"
    },
    {
     "name": "stdout",
     "output_type": "stream",
     "text": [
      "****** log10(mDM):  11.01  ******\n"
     ]
    },
    {
     "data": {
      "application/vnd.jupyter.widget-view+json": {
       "model_id": "4f9800a2e27c400988e500393c3eedfb",
       "version_major": 2,
       "version_minor": 0
      },
      "text/plain": [
       "HBox(children=(IntProgress(value=0, max=532), HTML(value='')))"
      ]
     },
     "metadata": {},
     "output_type": "display_data"
    },
    {
     "name": "stdout",
     "output_type": "stream",
     "text": [
      "****** log10(mDM):  11.26  ******\n"
     ]
    },
    {
     "data": {
      "application/vnd.jupyter.widget-view+json": {
       "model_id": "32065bd188754f1a9582df3287a5ee41",
       "version_major": 2,
       "version_minor": 0
      },
      "text/plain": [
       "HBox(children=(IntProgress(value=0, max=532), HTML(value='')))"
      ]
     },
     "metadata": {},
     "output_type": "display_data"
    },
    {
     "name": "stdout",
     "output_type": "stream",
     "text": [
      "****** log10(mDM):  11.51  ******\n"
     ]
    },
    {
     "data": {
      "application/vnd.jupyter.widget-view+json": {
       "model_id": "da52efc83d4c432b9d09f27cc29dc1e0",
       "version_major": 2,
       "version_minor": 0
      },
      "text/plain": [
       "HBox(children=(IntProgress(value=0, max=532), HTML(value='')))"
      ]
     },
     "metadata": {},
     "output_type": "display_data"
    },
    {
     "name": "stdout",
     "output_type": "stream",
     "text": [
      "****** log10(mDM):  11.76  ******\n"
     ]
    },
    {
     "data": {
      "application/vnd.jupyter.widget-view+json": {
       "model_id": "0931d9ed4a624e62ae49bace50c6cb3b",
       "version_major": 2,
       "version_minor": 0
      },
      "text/plain": [
       "HBox(children=(IntProgress(value=0, max=532), HTML(value='')))"
      ]
     },
     "metadata": {},
     "output_type": "display_data"
    },
    {
     "name": "stdout",
     "output_type": "stream",
     "text": [
      "****** log10(mDM):  12.01  ******\n"
     ]
    },
    {
     "data": {
      "application/vnd.jupyter.widget-view+json": {
       "model_id": "50fe06b98e9945dfbdb73c4efc87e445",
       "version_major": 2,
       "version_minor": 0
      },
      "text/plain": [
       "HBox(children=(IntProgress(value=0, max=532), HTML(value='')))"
      ]
     },
     "metadata": {},
     "output_type": "display_data"
    },
    {
     "name": "stdout",
     "output_type": "stream",
     "text": [
      "****** log10(mDM):  12.26  ******\n"
     ]
    },
    {
     "data": {
      "application/vnd.jupyter.widget-view+json": {
       "model_id": "2ca958e77dfb4d7f80fd0c3762165abc",
       "version_major": 2,
       "version_minor": 0
      },
      "text/plain": [
       "HBox(children=(IntProgress(value=0, max=532), HTML(value='')))"
      ]
     },
     "metadata": {},
     "output_type": "display_data"
    },
    {
     "name": "stdout",
     "output_type": "stream",
     "text": [
      "###### Calculation Complete! ######\n"
     ]
    }
   ],
   "source": [
    "%autoreload\n",
    "for i, log10Einj in enumerate(tqdm(log10_Einj_elec_decay_arr)):\n",
    "    \n",
    "    Einj = 10**log10Einj\n",
    "    print('****** log10(mDM): ', log10Einj, ' ******')\n",
    "    \n",
    "\n",
    "    Tm_elec_decay_br[i] = get_T(2*Einj+2*phys.me, 'decay', br=True, pri='elec')\n",
    "\n",
    "print('###### Calculation Complete! ######')"
   ]
  },
  {
   "cell_type": "markdown",
   "metadata": {},
   "source": [
    "## Heat Plots of the Effects of Backreaction"
   ]
  },
  {
   "cell_type": "code",
   "execution_count": 253,
   "metadata": {},
   "outputs": [],
   "source": [
    "import pickle\n",
    "\n"
   ]
  },
  {
   "cell_type": "code",
   "execution_count": 313,
   "metadata": {},
   "outputs": [],
   "source": [
    "# pickle.dump(Tm_no_br,open('/Users/hongwan/Dropbox (MIT)/Photon Deposition/Gregs_Checks/Tm_no_br.p','wb'))\n",
    "# pickle.dump(Tm_br,open('/Users/gregoryridgway/Dropbox (MIT)/Photon Deposition/Gregs_Checks/Tm_br.p','wb'))\n",
    "# pickle.dump(Tm_elec_decay_no_br,open('/Users/hongwan/Dropbox (MIT)/Photon Deposition/Gregs_Checks/Tm_elec_decay_no_br.p','wb'))\n",
    "# pickle.dump(Tm_elec_decay_br,open('/Users/gregoryridgway/Dropbox (MIT)/Photon Deposition/Gregs_Checks/Tm_elec_decay_br.p','wb'))\n",
    "# pickle.dump(Tm_no_br_phot_decay, open('/Users/gregoryridgway/Dropbox (MIT)/Photon Deposition/Gregs_Checks/Tm_no_br_phot_decay.p','wb'))\n",
    "# pickle.dump(Tm_no_br_phot_swave, open('/Users/hongwan/Dropbox (MIT)/Photon Deposition/Gregs_Checks/Tm_no_br_phot_swave.p','wb'))\n",
    "\n",
    "Tm_no_br = pickle.load(open('/Users/hongwan/Dropbox (MIT)/Photon Deposition/Gregs_Checks/Tm_no_br.p','rb'))\n",
    "Tm_br = pickle.load(open('/Users/hongwan/Dropbox (MIT)/Photon Deposition/Gregs_Checks/Tm_br.p','rb'))\n",
    "Tm_no_br_phot_decay = pickle.load(open('/Users/hongwan/Dropbox (MIT)/Photon Deposition/Gregs_Checks/Tm_no_br_phot_decay.p','rb'))\n",
    "Tm_no_br_phot_swave = pickle.load(open('/Users/hongwan/Dropbox (MIT)/Photon Deposition/Gregs_Checks/Tm_no_br_phot_swave.p','rb'))\n",
    "Tm_elec_decay_no_br = pickle.load(open('/Users/hongwan/Dropbox (MIT)/Photon Deposition/Gregs_Checks/Tm_elec_decay_no_br.p','rb'))\n",
    "Tm_elec_decay_br = pickle.load(open('/Users/hongwan/Dropbox (MIT)/Photon Deposition/Gregs_Checks/Tm_elec_decay_br.p','rb'))"
   ]
  },
  {
   "cell_type": "code",
   "execution_count": 298,
   "metadata": {},
   "outputs": [
    {
     "data": {
      "text/plain": [
       "34"
      ]
     },
     "execution_count": 298,
     "metadata": {},
     "output_type": "execute_result"
    }
   ],
   "source": [
    "Tm_no_br"
   ]
  },
  {
   "cell_type": "code",
   "execution_count": 314,
   "metadata": {},
   "outputs": [
    {
     "data": {
      "text/plain": [
       "Text(0.5, 0, 'Dark Matter Mass $m_\\\\chi$ [eV]')"
      ]
     },
     "execution_count": 314,
     "metadata": {},
     "output_type": "execute_result"
    },
    {
     "data": {
      "image/png": "[encoded data removed]",
      "text/plain": [
       "<Figure size 770x620 with 2 Axes>"
      ]
     },
     "metadata": {},
     "output_type": "display_data"
    }
   ],
   "source": [
    "user = 'hongwan'\n",
    "inj_part = 'elec'\n",
    "inj_type = 'swave'\n",
    "\n",
    "log10_Einj_arr = np.arange(4.01, 12.51, 0.25)\n",
    "log10_Einj_elec_decay_arr = np.arange(5.01, 12.51, 0.25)\n",
    "log10_E = log10_Einj_arr\n",
    "\n",
    "if inj_part == 'phot':\n",
    "    cf=4\n",
    "    if inj_type == 'decay':\n",
    "        diff_list = np.array([Tm_br[k][inj_part+'_'+inj_type]/Tm_no_br_phot_decay[k]-1. for k in np.arange(34)])\n",
    "        conv_fac = 2\n",
    "        conv_add = 0\n",
    "    else:\n",
    "        diff_list = np.array([Tm_br[k][inj_part+'_'+inj_type]/Tm_no_br_phot_swave[k]-1. for k in np.arange(34)])\n",
    "        conv_fac = 1\n",
    "        conv_add = 0\n",
    "else:\n",
    "    if inj_type == 'swave':\n",
    "        diff_list = np.array([Tm_br[k][inj_part+'_'+inj_type]/Tm_no_br[k][inj_part+'_'+inj_type]-1 for k in np.arange(34)])\n",
    "        conv_fac = 1\n",
    "        conv_add = phys.me\n",
    "    else:\n",
    "        log10_E = log10_Einj_elec_decay_arr\n",
    "        diff_list = np.array([Tm_elec_decay_br[k]/Tm_elec_decay_no_br[k]-1. for k in np.arange(30)])    \n",
    "        conv_fac = 2\n",
    "        conv_add = phys.me\n",
    "    cf=12\n",
    "\n",
    "rs_list = np.exp(np.arange(np.log(201.61653821924926), np.log(5.1), step=-0.001*cf))\n",
    "length=len(rs_list)\n",
    "\n",
    "plt.figure(figsize=(7.7, 6.2))\n",
    "\n",
    "ax = plt.gca()\n",
    "ax.loglog()\n",
    "\n",
    "if inj_part == 'phot':\n",
    "    if inj_type == 'decay':\n",
    "        frac_change_levels = [0.01, 5, 10, 20, 50, 100, 200]\n",
    "        frac_change_labels = ['0\\%', '5\\%', '10\\%', '20\\%', '50\\%', '100\\%', '200\\%']\n",
    "\n",
    "    else:\n",
    "        frac_change_levels = [1e-5, .1, .5, 1, 2, 5, 10, 15]\n",
    "        frac_change_labels = ['0\\%','0.01\\%', '0.5\\%', '1\\%', '2\\%', '5\\%', '10\\%', '15\\%']\n",
    "else:\n",
    "    if inj_type == 'decay':\n",
    "        frac_change_levels = [0.01, 5, 10, 50, 100, 200, 900]\n",
    "        frac_change_labels = ['0\\%', '5\\%', '10\\%', '50\\%', '100\\%', '200\\%', '900\\%']\n",
    "    else:\n",
    "        frac_change_levels = [0.01, 5, 10, 50, 100, 200, 1600]\n",
    "        frac_change_labels = ['0\\%', '5\\%', '10\\%', '50\\%', '100\\%', '200\\%', '1600\\%']\n",
    "    \n",
    "    \n",
    "plt_heating = plt.contour(\n",
    "    (10**log10_E + conv_add)*conv_fac, rs_list, \n",
    "    np.transpose(np.abs(diff_list)*100)[-length:],\n",
    "    levels=frac_change_levels,\n",
    "    linewidths=0.5,\n",
    "    colors='k'\n",
    ")\n",
    "\n",
    "\n",
    "# plt.clabel(\n",
    "#     plt_heating, test_levels, inline=True, fontsize=12, rightside_up=True,\n",
    "#     fmt=test\n",
    "# )\n",
    "\n",
    "cntr1 = ax.contourf((10**log10_E + conv_add)*conv_fac, \n",
    "                    rs_list, \n",
    "                    np.transpose(np.abs(diff_list)*100)[-length:], \n",
    "                    frac_change_levels,\n",
    "                    norm=matplotlib.colors.LogNorm(),\n",
    "                    cmap=matplotlib.cm.inferno)\n",
    "\n",
    "cbar = plt.colorbar(cntr1, ax=ax, ticks=frac_change_levels, label=r'$T_m$ Fractional Change $\\delta T_m/ T_{m,0}$')\n",
    "cbar.set_ticklabels(frac_change_labels)\n",
    "\n",
    "plt.axis([(10**log10_E[0] + conv_add)*conv_fac, (10**log10_E[-1] + conv_add)*conv_fac, 5, 201.61653821924926])\n",
    "\n",
    "plt.text(0.77, 0.92, r'$\\chi \\to \\gamma \\gamma$',transform=ax.transAxes, color='w', fontsize=20)\n",
    "plt.text(0.4, 0.85, r'Min. $\\tau(m_\\chi)$ from CMB',transform=ax.transAxes, color='w', fontsize=20)\n",
    "\n",
    "\n",
    "# cbar = plt.colorbar(cntr1, ax=ax, ticks = test_levels)\n",
    "# cbar.ax.set_xticklabels(str(test_levels))\n",
    "\n",
    "# plt.colorbar(cntr1, ax=ax)\n",
    "\n",
    "# plt.title(r'\\bf{$\\delta_{T_m}$}')\n",
    "plt.title(r'\\bf{Backreaction $T_m$ Comparison}')\n",
    "plt.ylabel(r'Redshift ($1+z$)')\n",
    "plt.xlabel(r'Dark Matter Mass $m_\\chi$ [eV]')\n",
    "\n",
    "# plt.savefig('/Users/'+user+'/Dropbox (MIT)/Photon Deposition/plots/backReact_phot_residuals.pdf')"
   ]
  },
  {
   "cell_type": "code",
   "execution_count": 332,
   "metadata": {},
   "outputs": [
    {
     "data": {
      "text/plain": [
       "array([ 0.00000000e+00, -1.42453227e-09,  7.47367057e-10,  2.77084133e-09,\n",
       "        4.63119454e-09,  6.56506915e-09,  7.53407026e-09,  7.54038276e-09,\n",
       "        8.19648749e-09,  8.52072080e-09,  8.49593329e-09,  8.90473539e-09,\n",
       "        9.09913722e-09,  9.30738442e-09,  9.54660906e-09,  9.77988512e-09,\n",
       "        1.00019975e-08,  1.01768720e-08,  1.02568307e-08,  1.04611027e-08,\n",
       "        1.06178344e-08,  1.07670748e-08,  1.08855340e-08,  1.08999907e-08,\n",
       "        1.09214888e-08,  1.10282561e-08,  1.11592089e-08,  1.12399756e-08,\n",
       "        1.12266736e-08,  1.10926812e-08,  1.10558960e-08,  1.09651792e-08,\n",
       "        1.08155178e-08,  1.06164522e-08,  1.03393754e-08,  9.96194616e-09,\n",
       "        9.47130441e-09,  8.84254181e-09,  8.05137290e-09,  7.08524794e-09,\n",
       "        5.94757643e-09,  4.92996488e-09,  3.95999900e-09,  3.08013237e-09,\n",
       "        2.35625275e-09,  1.77670256e-09,  1.55897628e-09,  1.85143167e-09,\n",
       "        2.01023109e-09,  1.98023065e-09,  1.96483829e-09,  1.97219729e-09,\n",
       "        2.16474927e-09,  2.40964315e-09,  2.87692981e-09,  3.10181347e-09,\n",
       "        3.25920380e-09,  3.60272878e-09,  4.25323465e-09,  4.86436980e-09,\n",
       "        5.79059556e-09,  6.64261135e-09,  7.20518156e-09,  8.25325452e-09,\n",
       "        9.51084655e-09,  1.09352267e-08,  1.24355097e-08,  1.35188538e-08,\n",
       "        1.48801029e-08,  1.69165715e-08,  1.95465590e-08,  2.21436958e-08,\n",
       "        2.46969436e-08,  2.76047962e-08,  3.08166284e-08,  3.40851873e-08,\n",
       "        4.15358963e-08,  4.78368956e-08,  5.03229152e-08,  5.32372986e-08,\n",
       "        6.22944787e-08,  7.53802218e-08,  9.20142145e-08,  1.08069713e-07,\n",
       "        1.19912543e-07,  1.23414334e-07,  1.05665891e-07,  8.88441873e-08,\n",
       "        4.87602461e-08, -1.01871440e-08, -1.02589055e-07, -2.52703974e-07,\n",
       "       -4.29289906e-07, -6.58654331e-07, -1.00503829e-06, -1.45876664e-06,\n",
       "       -2.14108118e-06, -3.13683875e-06, -4.53352230e-06, -6.53254709e-06,\n",
       "       -9.11106028e-06, -1.21100845e-05, -1.61230271e-05, -2.03461865e-05,\n",
       "       -2.52825014e-05, -3.04343564e-05, -3.52178133e-05, -3.90218022e-05,\n",
       "        3.95365907e-06, -7.77551819e-06, -5.34630380e-06,  6.52664868e-06,\n",
       "        4.94390834e-06, -3.18642987e-06, -4.25443510e-06, -2.28550180e-05,\n",
       "        5.18868580e-06,  5.72439839e-07,  1.43182887e-05,  4.50343827e-06,\n",
       "        1.58511625e-05,  1.47164849e-05,  2.48271824e-07,  1.68483950e-05,\n",
       "        1.34565972e-05,  1.74330181e-05,  2.28936761e-05,  1.52184273e-05,\n",
       "        2.07039585e-05,  2.45145520e-05,  1.19362506e-05,  2.23405542e-05,\n",
       "        2.60164319e-05,  2.43756897e-05,  3.73828909e-05,  2.22471960e-05,\n",
       "        2.92294056e-05,  3.03729992e-05,  3.31871167e-05,  3.46187972e-05,\n",
       "        3.85919119e-05,  4.14245227e-05,  4.61409023e-05,  5.10694347e-05,\n",
       "        5.71674755e-05,  6.42234182e-05,  7.19081427e-05,  8.05719113e-05,\n",
       "        9.02009840e-05,  1.00770261e-04,  1.11638340e-04,  1.22365418e-04,\n",
       "        1.32890754e-04,  1.42872879e-04,  1.51934670e-04,  1.59253499e-04,\n",
       "        1.64383234e-04,  1.66980358e-04,  1.66514510e-04,  1.62380720e-04,\n",
       "        1.60711219e-04,  1.60198670e-04,  1.59045501e-04,  1.57350756e-04,\n",
       "        1.55223213e-04,  1.52780368e-04,  1.50147175e-04,  1.47454674e-04,\n",
       "        1.45016725e-04,  1.43058617e-04,  1.41821974e-04,  1.41506894e-04,\n",
       "        1.42306365e-04,  1.44409661e-04,  1.48004252e-04,  1.53275567e-04,\n",
       "        1.60408215e-04,  1.68355831e-04,  1.75153442e-04,  1.82930441e-04,\n",
       "        1.91748800e-04,  2.01628082e-04,  2.12558979e-04,  2.24510269e-04,\n",
       "        2.37433356e-04,  2.51265358e-04,  2.65931014e-04,  2.81249563e-04,\n",
       "        2.95214257e-04,  3.09019479e-04,  3.22667451e-04,  3.36075437e-04,\n",
       "        3.49123155e-04,  3.61665322e-04,  3.73537072e-04,  3.84558782e-04,\n",
       "        3.94538834e-04,  4.03276136e-04,  4.10562091e-04,  4.15251336e-04,\n",
       "        4.22105296e-04,  4.27703504e-04,  4.32064762e-04,  4.35182751e-04,\n",
       "        4.37038628e-04,  4.37605330e-04,  4.36851234e-04,  4.34742449e-04,\n",
       "        4.31245881e-04,  4.26330736e-04,  4.19970344e-04,  4.12143726e-04,\n",
       "        4.03016696e-04,  3.93708039e-04,  3.84068455e-04,  3.73744222e-04,\n",
       "        3.62867154e-04,  3.51576256e-04,  3.40020149e-04,  3.28359512e-04,\n",
       "        3.16768533e-04,  3.05437448e-04,  2.94573756e-04,  2.84565293e-04,\n",
       "        2.75781213e-04,  2.68590829e-04,  2.63379554e-04,  2.60551885e-04,\n",
       "        2.60533783e-04,  2.63774951e-04,  2.70751029e-04,  2.81965496e-04,\n",
       "        2.97951796e-04,  3.19274787e-04,  3.46677067e-04,  3.80902531e-04,\n",
       "        4.14015803e-04,  4.47849786e-04,  4.82491877e-04,  5.15298044e-04,\n",
       "        5.46772549e-04,  5.77607195e-04,  6.08188503e-04,  6.36892014e-04,\n",
       "        6.64036513e-04,  6.90564437e-04,  7.17430025e-04,  7.43785482e-04,\n",
       "        7.68398838e-04,  7.92271771e-04,  8.16454157e-04,  8.41905311e-04,\n",
       "        8.67379298e-04,  8.89385400e-04,  9.07260663e-04,  9.24803489e-04,\n",
       "        9.43378106e-04,  9.64371686e-04,  9.83959957e-04,  9.94445176e-04,\n",
       "        1.00578895e-03,  1.01946872e-03,  1.03701503e-03,  1.06001333e-03,\n",
       "        1.06926524e-03,  1.07476599e-03,  1.08224574e-03,  1.09348657e-03,\n",
       "        1.11030273e-03,  1.13453521e-03,  1.14595448e-03,  1.15729418e-03,\n",
       "        1.17257154e-03,  1.19370715e-03,  1.22268221e-03,  1.23397549e-03,\n",
       "        1.24497063e-03,  1.25943162e-03,  1.27949316e-03,  1.30732918e-03,\n",
       "        1.32748618e-03,  1.34090815e-03,  1.35739762e-03,  1.37912350e-03,\n",
       "        1.40757288e-03,  1.41823711e-03,  1.43062593e-03,  1.44695049e-03,\n",
       "        1.46948284e-03,  1.53760005e-03,  1.52579272e-03,  1.52376369e-03,\n",
       "        1.53190576e-03,  1.55067019e-03,  1.58056682e-03,  1.60141990e-03,\n",
       "        1.62501558e-03,  1.65150253e-03,  1.68041379e-03,  1.71132719e-03,\n",
       "        1.74395245e-03,  1.77802745e-03,  1.81326921e-03,  1.84933296e-03,\n",
       "        1.88597287e-03,  1.92300534e-03,  1.96028536e-03,  1.99770588e-03,\n",
       "        2.03519730e-03,  2.07272694e-03,  2.11029837e-03,  2.14803633e-03,\n",
       "        2.18600426e-03,  2.22369922e-03,  2.26102630e-03,  2.29801867e-03,\n",
       "        2.33474101e-03,  2.37128935e-03,  2.40779053e-03,  2.44440194e-03,\n",
       "        2.48131122e-03,  2.51873596e-03,  2.55700664e-03,  2.59643766e-03,\n",
       "        2.63596952e-03,  2.67502218e-03,  2.71359848e-03,  2.75172437e-03,\n",
       "        2.78944861e-03,  2.82684227e-03,  2.86399861e-03,  2.90103266e-03,\n",
       "        2.93808089e-03,  2.97538270e-03,  3.01320581e-03,  3.05253622e-03,\n",
       "        3.09365718e-03,  3.12619769e-03,  3.14192133e-03,  3.13829952e-03,\n",
       "        3.12876629e-03,  3.11535106e-03,  3.10165867e-03,  3.09331822e-03,\n",
       "        3.09603211e-03,  3.09639315e-03,  3.08692574e-03,  3.06599586e-03,\n",
       "        3.03635539e-03,  3.00238501e-03,  2.94940378e-03,  2.87548786e-03,\n",
       "        2.78273601e-03,  2.67436430e-03,  2.55485216e-03,  2.42424569e-03,\n",
       "        2.25750437e-03,  2.05027959e-03,  1.80237930e-03,  1.51488309e-03,\n",
       "        1.19028429e-03,  8.27645212e-04,  4.10584528e-04, -7.70411626e-05,\n",
       "       -6.49752088e-04, -1.31191527e-03, -2.06609414e-03, -2.91291127e-03,\n",
       "       -3.87522180e-03, -4.98956168e-03, -6.27567691e-03, -7.74244797e-03,\n",
       "       -9.39631264e-03, -1.12410619e-02, -1.32776514e-02, -1.55491916e-02,\n",
       "       -1.81053260e-02, -2.09597282e-02, -2.41217403e-02, -2.75976814e-02,\n",
       "       -3.14232343e-02, -3.56239407e-02, -4.02068464e-02, -4.52295314e-02,\n",
       "       -5.06948747e-02, -5.66227051e-02, -6.30183892e-02, -6.99008682e-02,\n",
       "       -7.72597676e-02, -8.50723454e-02, -9.33494081e-02, -1.02118809e-01,\n",
       "       -1.11365330e-01, -1.21063237e-01, -1.31209673e-01, -1.41716685e-01,\n",
       "       -1.52588659e-01, -1.63770104e-01, -1.75241223e-01, -1.86989003e-01,\n",
       "       -1.98968499e-01, -2.11149774e-01, -2.23512646e-01, -2.35995075e-01,\n",
       "       -2.48535093e-01, -2.61094171e-01, -2.73655281e-01, -2.86173862e-01,\n",
       "       -2.98615652e-01, -3.10981537e-01, -3.23229600e-01, -3.35316611e-01,\n",
       "       -3.47202185e-01, -3.58863784e-01, -3.70281534e-01, -3.81438141e-01,\n",
       "       -3.92354920e-01, -4.03007614e-01, -4.13391959e-01, -4.23497303e-01,\n",
       "       -4.33309068e-01, -4.42814133e-01, -4.52011320e-01, -4.60933731e-01,\n",
       "       -4.69576978e-01, -4.77934245e-01, -4.85997725e-01, -4.93762956e-01,\n",
       "       -5.01233805e-01, -5.08461486e-01, -5.15429605e-01, -5.22138938e-01,\n",
       "       -5.28590461e-01, -5.34792989e-01, -5.40754381e-01, -5.46478073e-01,\n",
       "       -5.51984404e-01, -5.57285842e-01, -5.62388843e-01, -5.67298654e-01,\n",
       "       -5.72017718e-01, -5.76548297e-01, -5.80892550e-01, -5.85074030e-01,\n",
       "       -5.89100850e-01, -5.92963887e-01, -5.96664873e-01, -6.00206331e-01,\n",
       "       -6.03590697e-01, -6.06831035e-01, -6.09942292e-01, -6.12926491e-01,\n",
       "       -6.15785376e-01, -6.18520490e-01, -6.21133163e-01, -6.23630639e-01,\n",
       "       -6.26028073e-01, -6.28328390e-01, -6.30532776e-01, -6.32638841e-01,\n",
       "       -6.34647797e-01, -6.36584528e-01, -6.38403395e-01, -6.40150831e-01,\n",
       "       -6.41825781e-01, -6.43427435e-01, -6.44954697e-01, -6.46407296e-01,\n",
       "       -6.47786411e-01, -6.49101584e-01, -6.50356149e-01, -6.51552118e-01,\n",
       "       -6.52691463e-01, -6.53776093e-01, -6.54807821e-01, -6.55788833e-01,\n",
       "       -6.56720710e-01, -6.57604381e-01, -6.58441174e-01, -6.59231085e-01,\n",
       "       -6.59973212e-01, -6.60673208e-01, -6.61332664e-01, -6.61952197e-01,\n",
       "       -6.62533350e-01, -6.63081195e-01, -6.63597927e-01, -6.64077830e-01,\n",
       "       -6.64520514e-01, -6.64927728e-01, -6.65301037e-01, -6.65641818e-01,\n",
       "       -6.65951634e-01, -6.66233206e-01, -6.66487658e-01, -6.66715745e-01,\n",
       "       -6.66918069e-01, -6.67095073e-01, -6.67246926e-01, -6.67368761e-01,\n",
       "       -6.67462903e-01, -6.67533660e-01, -6.67582621e-01, -6.67611193e-01,\n",
       "       -6.67618995e-01, -6.67602829e-01, -6.67563841e-01, -6.67502245e-01,\n",
       "       -6.67414629e-01, -6.67303270e-01, -6.67166108e-01, -6.67002605e-01,\n",
       "       -6.66814132e-01, -6.66601855e-01, -6.66366737e-01, -6.66109326e-01,\n",
       "       -6.65825561e-01, -6.65519292e-01, -6.65192381e-01, -6.64846459e-01,\n",
       "       -6.64482933e-01, -6.64099500e-01, -6.63694739e-01, -6.63269569e-01,\n",
       "       -6.62824705e-01, -6.62363794e-01, -6.61889516e-01, -6.61395865e-01,\n",
       "       -6.60884727e-01, -6.60357760e-01, -6.59816381e-01, -6.59261776e-01])"
      ]
     },
     "execution_count": 332,
     "metadata": {},
     "output_type": "execute_result"
    }
   ],
   "source": [
    "k = 3\n",
    "Tm_br[k]['elec_swave']/Tm_no_br[k]['elec_swave']-1\n",
    "# Tm_elec_decay_br[k]/Tm_elec_decay_no_br[k]-1\n",
    "# Tm_br[k]['phot_decay']/Tm_no_br_phot_decay[k]-1.\n",
    "# print(Tm_br[k]['phot_swave']/Tm_no_br_phot_swave[k])"
   ]
  },
  {
   "cell_type": "markdown",
   "metadata": {},
   "source": [
    "- make it square (manually make it square, figsize or something)\n",
    "- One more color at the low end or the redshift\n",
    "- make this go down to ~20 keV \n",
    "- double-check that your functions aren't off by a factor of 2 by comparing to Chih-Liang/Tracy paper\n",
    "- dark matter mass on the x-axis\n",
    "\n",
    "- include best new f's overlayed against the old contours from 2016 results (as is).  Turn off color bar, red dashed for 2016 and black for.  But first try just overlaying the red dashed contours.\n",
    "- make the plot text of the same order as the caption text\n",
    "- try combining them"
   ]
  },
  {
   "cell_type": "code",
   "execution_count": 150,
   "metadata": {},
   "outputs": [
    {
     "data": {
      "text/plain": [
       "[4, 20, 0, 0.13]"
      ]
     },
     "execution_count": 150,
     "metadata": {},
     "output_type": "execute_result"
    },
    {
     "data": {
      "image/png": "[encoded data removed]",
      "text/plain": [
       "<Figure size 620x620 with 1 Axes>"
      ]
     },
     "metadata": {},
     "output_type": "display_data"
    }
   ],
   "source": [
    "plt.figure()\n",
    "\n",
    "# print(3000*np.exp(-.004*np.arange(1595)))\n",
    "rs_list_test = 3000*np.exp(-0.004*np.arange(1595))\n",
    "# print(rs_list.shape, diff_list[2,:].shape)\n",
    "\n",
    "plt.plot(rs_list_test, diff_list[0,:])\n",
    "plt.plot(rs_list_test, diff_list[1,:])\n",
    "plt.plot(rs_list_test, diff_list[2,:])\n",
    "plt.plot(rs_list_test, diff_list[3,:])\n",
    "plt.plot(rs_list_test, diff_list[4,:])\n",
    "plt.axis([4, 20, 0, 0.13])"
   ]
  },
  {
   "cell_type": "code",
   "execution_count": 180,
   "metadata": {},
   "outputs": [
    {
     "data": {
      "text/plain": [
       "[<matplotlib.lines.Line2D at 0x182cf1a080>]"
      ]
     },
     "execution_count": 180,
     "metadata": {},
     "output_type": "execute_result"
    },
    {
     "data": {
      "image/png": "[encoded data removed]",
      "text/plain": [
       "<Figure size 620x620 with 1 Axes>"
      ]
     },
     "metadata": {},
     "output_type": "display_data"
    }
   ],
   "source": [
    "plt.figure()\n",
    "\n",
    "plt.loglog()\n",
    "\n",
    "i = 1\n",
    "plt.plot(3000*np.exp(-.004*np.arange(1595)), Tm_br[i]['phot_swave']/Tm_no_br[i]['phot_swave'][:,0])"
   ]
  },
  {
   "cell_type": "code",
   "execution_count": 195,
   "metadata": {},
   "outputs": [],
   "source": [
    "phot_swave_prob = get_T(10**4.26, 'swave', br=False, pri='phot')"
   ]
  },
  {
   "cell_type": "code",
   "execution_count": 196,
   "metadata": {},
   "outputs": [
    {
     "name": "stdout",
     "output_type": "stream",
     "text": [
      "****** Loading transfer functions... ******\n",
      "    for propagating photons...   Done!\n",
      "    for low-energy photons...  Done!\n",
      "    for low-energy electrons...  Done!\n",
      "    for high-energy deposition...  Done!\n",
      "    for total upscattered CMB energy rate...  Done!\n",
      "****** Loading complete! ******\n",
      "****** Loading transfer functions... ******\n",
      "    for inverse Compton (Thomson)...  Done!\n",
      "    for inverse Compton (relativistic)...  Done!\n",
      "    for inverse Compton (energy loss)...  Done!\n",
      "****** Loading complete! ******\n"
     ]
    },
    {
     "data": {
      "application/vnd.jupyter.widget-view+json": {
       "model_id": "33b1f1a2659b4e3581b4538ee5292ad0",
       "version_major": 2,
       "version_minor": 0
      },
      "text/plain": [
       "HBox(children=(IntProgress(value=0, max=1595), HTML(value='')))"
      ]
     },
     "metadata": {},
     "output_type": "display_data"
    },
    {
     "name": "stdout",
     "output_type": "stream",
     "text": [
      "\n"
     ]
    }
   ],
   "source": [
    "phot_swave_prob_BR = get_T(10**4.26, 'swave', br=True, pri='phot')"
   ]
  },
  {
   "cell_type": "code",
   "execution_count": 204,
   "metadata": {},
   "outputs": [
    {
     "data": {
      "text/plain": [
       "[4, 10, 0.95, 1.05]"
      ]
     },
     "execution_count": 204,
     "metadata": {},
     "output_type": "execute_result"
    },
    {
     "data": {
      "image/png": "[encoded data removed]",
      "text/plain": [
       "<Figure size 620x620 with 1 Axes>"
      ]
     },
     "metadata": {},
     "output_type": "display_data"
    }
   ],
   "source": [
    "plt.figure()\n",
    "\n",
    "plt.plot(3000*np.exp(-.004*np.arange(1595)), phot_swave_prob[:,0]/phot_swave_prob_BR)\n",
    "\n",
    "plt.axis([4, 10, 0.95, 1.05])"
   ]
  },
  {
   "cell_type": "code",
   "execution_count": 200,
   "metadata": {},
   "outputs": [
    {
     "data": {
      "text/plain": [
       "array([8.17500939e+03, 8.14385727e+03, 8.11134695e+03, ...,\n",
       "       2.08002218e+00, 2.07704980e+00, 2.07408802e+00])"
      ]
     },
     "execution_count": 200,
     "metadata": {},
     "output_type": "execute_result"
    }
   ],
   "source": [
    "phot_swave_prob[:,0]"
   ]
  },
  {
   "cell_type": "code",
   "execution_count": null,
   "metadata": {},
   "outputs": [],
   "source": []
  }
 ],
 "metadata": {
  "kernelspec": {
   "display_name": "Python 3",
   "language": "python",
   "name": "python3"
  },
  "language_info": {
   "codemirror_mode": {
    "name": "ipython",
    "version": 3
   },
   "file_extension": ".py",
   "mimetype": "text/x-python",
   "name": "python",
   "nbconvert_exporter": "python",
   "pygments_lexer": "ipython3",
   "version": "3.6.7"
  },
  "toc": {
   "base_numbering": 1,
   "nav_menu": {},
   "number_sections": true,
   "sideBar": true,
   "skip_h1_title": false,
   "title_cell": "Table of Contents",
   "title_sidebar": "Contents",
   "toc_cell": false,
   "toc_position": {},
   "toc_section_display": true,
   "toc_window_display": false
  }
 },
 "nbformat": 4,
 "nbformat_minor": 2
}
