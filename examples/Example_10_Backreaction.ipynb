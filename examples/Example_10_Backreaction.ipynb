{
 "cells": [
  {
   "cell_type": "markdown",
   "metadata": {},
   "source": [
    "One of $\\texttt{DarkHistory}$'s signature features is its ability to include the effects of back-reaction on the thermal and ionization histories of the universe.  In previous treatments, one assumed that the effects of dark matter energy injection were small enough that one could replace the hydrogen ionization level $x_\\text{HII}$ and the IGM temperature $T_m$ by their baseline values when computed in the absence of dark matter energy injection $x_{\\text{HII},0}$ and $T_{m,0}$.  On the other hand, $\\texttt{DarkHistory}$ can be used to without this approximation.  We will see in this notebook that there is a wide range of models for which this improved treatment is necessary."
   ]
  },
  {
   "cell_type": "markdown",
   "metadata": {},
   "source": [
    "# Import Modules"
   ]
  },
  {
   "cell_type": "code",
   "execution_count": 5,
   "metadata": {},
   "outputs": [],
   "source": [
    "%load_ext autoreload\n",
    "import sys\n",
    "sys.path.append(\"..\")"
   ]
  },
  {
   "cell_type": "code",
   "execution_count": 6,
   "metadata": {},
   "outputs": [],
   "source": [
    "%matplotlib inline"
   ]
  },
  {
   "cell_type": "code",
   "execution_count": 7,
   "metadata": {},
   "outputs": [],
   "source": [
    "%autoreload\n",
    "\n",
    "%autoreload\n",
    "\n",
    "import matplotlib\n",
    "matplotlib.rc_file('matplotlibrc')\n",
    "import matplotlib.pyplot as plt\n",
    "\n",
    "from scipy.interpolate import interp1d\n",
    "from scipy.interpolate import interp2d\n",
    "import numpy as np\n",
    "\n",
    "import darkhistory.physics as phys\n",
    "from darkhistory.history.tla import get_history\n",
    "\n",
    "import main\n",
    "import config\n",
    "from tqdm import tqdm_notebook as tqdm"
   ]
  },
  {
   "cell_type": "markdown",
   "metadata": {},
   "source": [
    "# Load the maximum allowed $\\langle \\sigma v \\rangle$ and minimum $\\tau$"
   ]
  },
  {
   "cell_type": "markdown",
   "metadata": {},
   "source": [
    "To assess the effects of back-reaction, we will compute $T_m(z)$ with and without back-reaction for the cases of dark matter decaying or annihilating into $\\gamma \\gamma$ or $e^+ e^-$, and we will sweep over a wide range of dark matter masses, $m_\\chi$.  The effects of back-reaction are amplified as the lifetime $\\tau$ is decreased or the velocity-averaged cross-section $\\langle \\sigma v \\rangle$ is increased.  We will therefore use the maximum $\\langle \\sigma v \\rangle$ and minimum $\\tau$ allowed by current CMB constraints (1610.06933).  We download these maximal values as a function of secondary particle injection energy $E_\\text{inj}$."
   ]
  },
  {
   "cell_type": "code",
   "execution_count": 11,
   "metadata": {},
   "outputs": [],
   "source": [
    "f_elec_CMB_raw = np.loadtxt(config.data_path+'/fFromIonBaseline3keV_electron_extended.dat', delimiter=',')\n",
    "log10eng_elec_CMB  = f_elec_CMB_raw[0:2760:69, 0]\n",
    "log10rs_elec_CMB = f_elec_CMB_raw[0:69, 1] \n",
    "\n",
    "f_phot_CMB_raw = np.loadtxt(config.data_path+'/fFromIonBaseline3keV_photon.dat', delimiter=',')\n",
    "log10eng_phot_CMB  = f_phot_CMB_raw[0:2800:70, 0]\n",
    "log10rs_phot_CMB = f_phot_CMB_raw[0:70, 1] \n",
    "\n",
    "f_elec_CMB_raw = np.transpose(np.reshape(f_elec_CMB_raw[:,2], (40,69)))\n",
    "f_phot_CMB_raw = np.transpose(np.reshape(f_phot_CMB_raw[:,2], (40,70)))\n",
    "\n",
    "f_elec_CMB = interp2d(log10eng_elec_CMB, log10rs_elec_CMB, f_elec_CMB_raw)\n",
    "f_phot_CMB = interp2d(log10eng_phot_CMB, log10rs_phot_CMB, f_phot_CMB_raw)\n",
    "\n",
    "decay_elec_CMB_raw = np.loadtxt(config.data_path+'/CMB_limits_elec_decay.csv', delimiter=',')\n",
    "decay_phot_CMB_raw = np.loadtxt(config.data_path+'/CMB_limits_phot_decay.csv', delimiter=',')\n",
    "\n",
    "decay_elec_CMB = interp1d(np.transpose(decay_elec_CMB_raw)[0,:], np.transpose(decay_elec_CMB_raw)[1,:])\n",
    "decay_phot_CMB = interp1d(np.transpose(decay_phot_CMB_raw)[0,:], np.transpose(decay_phot_CMB_raw)[1,:])\n",
    "\n",
    "def xsec_bound_elec_CMB(mDM, DM_process):\n",
    "    if DM_process == 'swave':\n",
    "        return 4.1e-28*(mDM*1e-9)/f_elec_CMB(np.log10(mDM-phys.me), np.log10(601))[0]\n",
    "    elif DM_process == 'decay':\n",
    "        return np.array([decay_elec_CMB(mDM*1e-9)])[0]\n",
    "\n",
    "def xsec_bound_phot_CMB(mDM, DM_process):\n",
    "    if DM_process == 'swave':\n",
    "        return 4.1e-28*(mDM*1e-9)/f_phot_CMB(np.log10(mDM), np.log10(601))[0]\n",
    "    elif DM_process == 'decay':\n",
    "        return np.array([decay_phot_CMB(mDM*1e-9)])[0]"
   ]
  },
  {
   "cell_type": "code",
   "execution_count": 12,
   "metadata": {},
   "outputs": [
    {
     "data": {
      "text/plain": [
       "2.69747957975171e+24"
      ]
     },
     "execution_count": 12,
     "metadata": {},
     "output_type": "execute_result"
    }
   ],
   "source": [
    "xsec_bound_elec_CMB(1e4,'decay')"
   ]
  },
  {
   "cell_type": "markdown",
   "metadata": {},
   "source": [
    "# Comparison to 1604.02457 Fig 15."
   ]
  },
  {
   "cell_type": "markdown",
   "metadata": {},
   "source": [
    "To get a feel for the calculation and check $\\texttt{DarkHistory}$ we will try to reproduce Fig 15 of arXiv:1604.02457.  First we establish the baseline (black-dashed curve) without dark matter energy injection.  This can be done by passing a redshift vector to [*tla.get_history*](https://darkhistory.readthedocs.io/en/master/_autosummary/darkhistory/history/tla/darkhistory.history.tla.get_history.html)."
   ]
  },
  {
   "cell_type": "code",
   "execution_count": 13,
   "metadata": {},
   "outputs": [],
   "source": [
    "rs_vec = 3000*np.exp(-.004*np.arange(1595))\n",
    "        \n",
    "baseline = get_history(rs_vec)"
   ]
  },
  {
   "cell_type": "markdown",
   "metadata": {},
   "source": [
    "Now we calculate $T_m(z)$ assuming no back-reaction. To do so, we will use tabulated values for $f_c(z)$ and use them as inputs for [*tla.get_history*](https://darkhistory.readthedocs.io/en/master/_autosummary/darkhistory/history/tla/darkhistory.history.tla.get_history.html)."
   ]
  },
  {
   "cell_type": "code",
   "execution_count": null,
   "metadata": {},
   "outputs": [],
   "source": [
    "no_br = get_history(\n",
    "    rs_vec, baseline_f = True,\n",
    "    inj_particle = 'elec', DM_process = 'decay',\n",
    "    mDM=100e6, lifetime = 3e25,\n",
    ")"
   ]
  },
  {
   "cell_type": "markdown",
   "metadata": {},
   "source": [
    "Finally, we calculate $T_m(z)$ including back-reaction by using [*main.evolve*](https://darkhistory.readthedocs.io/en/master/_autosummary/main/main.evolve.html).  This will take a while the first time it is run because we must download the transfer functions."
   ]
  },
  {
   "cell_type": "code",
   "execution_count": null,
   "metadata": {},
   "outputs": [],
   "source": [
    "br_data = main.evolve(\n",
    "    primary='elec_delta',\n",
    "    DM_process='decay', mDM=100e6, lifetime=3e25,\n",
    "    start_rs = 3000\n",
    "    coarsen_factor=16, backreaction=True\n",
    ")\n",
    "\n",
    "T_br = br_data['Tm']/phys.kB"
   ]
  },
  {
   "cell_type": "markdown",
   "metadata": {},
   "source": [
    "Finally, we re-make Fig 15."
   ]
  },
  {
   "cell_type": "code",
   "execution_count": null,
   "metadata": {},
   "outputs": [],
   "source": [
    "fig_BR_example = plt.figure(figsize=(15,6.5))\n",
    "\n",
    "ax = plt.subplot(1,2,1)\n",
    "\n",
    "ax = plt.gca()\n",
    "ax.loglog()\n",
    "\n",
    "plt.xlabel('Redshift $(1+z)$')\n",
    "plt.ylabel('Matter Temperature $T_m$ [K]')\n",
    "\n",
    "plt.title(r'\\bf{Backreaction Comparison}')\n",
    "\n",
    "plt.axis([5, 3e3, 1, 1e5])\n",
    "\n",
    "plot_std, = plt.plot(rs_vec, baseline[:,0]/phys.kB, 'k--', label='Baseline')\n",
    "plot_no_BR, = plt.plot(rs_vec, no_br[:,0]/phys.kB, label='Without Backreaction', color='C0')\n",
    "plot_BR, = plt.plot(br_data['rs'], br_data['Tm']/phys.kB, label='With Backreaction', color='C1')\n",
    "\n",
    "plt.text(0.06, 0.9, r'$\\chi \\to e^+e^-$, $m_\\chi$ = 100 MeV', transform=ax.transAxes, fontsize=20)\n",
    "plt.text(0.06, 0.84, r'$\\tau = 3 \\times 10^{25}$ s', transform=ax.transAxes, fontsize=20)\n",
    "\n",
    "legend = plt.legend(\n",
    "    handles=[plot_no_BR, plot_BR, plot_std], loc='lower right'\n",
    ")\n",
    "\n",
    "ax = plt.subplot(1,2,2)\n",
    "\n",
    "ax = plt.gca()\n",
    "ax.loglog()\n",
    "\n",
    "plt.xlabel('Redshift $(1+z)$')\n",
    "plt.ylabel('Hydrogen Ionization Fraction $n_\\mathrm{HII}/n_\\mathrm{H}$')\n",
    "\n",
    "plt.title(r'\\bf{Backreaction Comparison}')\n",
    "\n",
    "plt.axis([5, 3e3, 7e-6, 2])\n",
    "\n",
    "plot_std, = plt.plot(rs_vec, baseline[:,1], 'k--', label='Baseline')\n",
    "plot_no_BR, = plt.plot(rs_vec, no_br[:,1], label='Without Backreaction', color='C0')\n",
    "plot_BR, = plt.plot(br_data['rs'], br_data['x'][:,0], label='With Backreaction', color='C1')\n",
    "\n",
    "plt.text(0.06, 0.9, r'$\\chi \\to e^+e^-$, $m_\\chi$ = 100 MeV', transform=ax.transAxes, fontsize=20)\n",
    "plt.text(0.06, 0.84, r'$\\tau = 3 \\times 10^{25}$ s', transform=ax.transAxes, fontsize=20)\n",
    "\n",
    "legend = plt.legend(\n",
    "    handles=[plot_no_BR, plot_BR, plot_std], loc='lower right'\n",
    ")\n",
    "\n",
    "# plt.savefig('/Users/hongwan/Dropbox (MIT)/Photon Deposition/Draft/plots/backreaction_comparison.pdf')"
   ]
  },
  {
   "cell_type": "markdown",
   "metadata": {},
   "source": [
    "# Calculate With and Without back-reaction"
   ]
  },
  {
   "cell_type": "markdown",
   "metadata": {},
   "source": [
    "Now we perform the same calculation, except now over a grid of energy injections.  We first specify these energies, then we define the function `get_T` to easily calculate $T_m$ for a given mass and injection model with and without backreaction."
   ]
  },
  {
   "cell_type": "code",
   "execution_count": 14,
   "metadata": {},
   "outputs": [],
   "source": [
    "log10_Einj_arr = np.arange(4.01, 12.51, 0.25)"
   ]
  },
  {
   "cell_type": "markdown",
   "metadata": {},
   "source": [
    "When computing s-wave annihilation models, we must remember that structure formation now boosts the annihilation rate at late times. We can load one of DarkHistory's default structure formation boost factors that can be obtained using the function [*physics.struct_boost_func*](https://darkhistory.readthedocs.io/en/master/_autosummary/darkhistory/physics/darkhistory.physics.struct_boost_func.html). The first thing we need to do is obtain the function that returns the boost: "
   ]
  },
  {
   "cell_type": "code",
   "execution_count": 15,
   "metadata": {},
   "outputs": [],
   "source": [
    "struct_boost_einasto_subs = phys.struct_boost_func('einasto_with_subs')"
   ]
  },
  {
   "cell_type": "code",
   "execution_count": 243,
   "metadata": {},
   "outputs": [],
   "source": [
    "%autoreload\n",
    "\n",
    "def get_T(mDM, DM_process, br, pri):\n",
    "    \"\"\"Gets the temperature history, decays.\n",
    "    \n",
    "    Parameters\n",
    "    ----------\n",
    "    mDM : float\n",
    "        The mass of the dark matter in eV. \n",
    "    tau : float\n",
    "        The decay lifetime in s. \n",
    "    br : bool\n",
    "        Whether to use backreaction or not. \n",
    "    pri : {'elec', 'phot'}\n",
    "        The primary particles that DM decays to. \n",
    "        \n",
    "    Returns\n",
    "    --------\n",
    "    float\n",
    "        The temperature history in K. \n",
    "    \n",
    "    \"\"\"\n",
    "    \n",
    "    if pri == 'elec':\n",
    "        pri_str = 'elec_delta'\n",
    "        cf = 12\n",
    "        param = xsec_bound_elec_CMB(mDM, DM_process)\n",
    "        rs_vec = 3000*np.exp(-.012*np.arange(532))\n",
    "    if pri == 'phot':\n",
    "        pri_str = 'phot_delta'\n",
    "        cf = 4\n",
    "        param = xsec_bound_phot_CMB(mDM, DM_process)\n",
    "        rs_vec = 3000*np.exp(-.004*np.arange(1595))\n",
    "        \n",
    "    if br:\n",
    "        result = main.evolve(\n",
    "            primary=pri_str,\n",
    "            DM_process=DM_process, mDM=mDM, lifetime=param, sigmav = param,\n",
    "            start_rs = 3000, end_rs=4.004,\n",
    "            coarsen_factor=cf, backreaction=True,\n",
    "            struct_boost = phys.struct_boost_func('einasto_with_subs')\n",
    "        )\n",
    "        \n",
    "        return result['Tm']/phys.kB\n",
    "    \n",
    "    else:\n",
    "\n",
    "        if pri == 'phot' and DM_process == 'swave' and False:\n",
    "            # Use main.evolve() here because the differential is so small that\n",
    "            # using f_std leads to undesirable interpolation errors.\n",
    "            result = main.evolve(\n",
    "                primary=pri_str,\n",
    "                DM_process=DM_process, mDM=mDM, lifetime=param, sigmav = param,\n",
    "                start_rs = 3000, end_rs=4.004,\n",
    "                coarsen_factor=cf, backreaction=False,\n",
    "                struct_boost = phys.struct_boost_func('einasto_with_subs')\n",
    "            )\n",
    "            \n",
    "            return result['Tm']/phys.kB\n",
    "\n",
    "        else:\n",
    "            result = get_history(\n",
    "                rs_vec, baseline_f = True,\n",
    "                inj_particle = pri, DM_process = DM_process,\n",
    "                mDM=mDM, lifetime = param, sigmav = param,\n",
    "                mxstep=2000\n",
    "            )\n",
    "            \n",
    "            return result[:,0]/phys.kB\n",
    "        \n",
    "        "
   ]
  },
  {
   "cell_type": "markdown",
   "metadata": {},
   "source": [
    "We now loop over all injection energy and calculate $T_m$ for decay or annihilation into photons or $e^+e^-$."
   ]
  },
  {
   "cell_type": "code",
   "execution_count": 244,
   "metadata": {},
   "outputs": [],
   "source": [
    "Tm_no_br = np.array([None for m in log10_Einj_arr])\n",
    "# Tm_br = np.zeros_like(Tm_no_br)"
   ]
  },
  {
   "cell_type": "code",
   "execution_count": 245,
   "metadata": {
    "collapsed": true
   },
   "outputs": [
    {
     "data": {
      "application/vnd.jupyter.widget-view+json": {
       "model_id": "8b5fd47ca53f40f397a7bdd8876d4e54",
       "version_major": 2,
       "version_minor": 0
      },
      "text/plain": [
       "HBox(children=(IntProgress(value=0, max=85), HTML(value='')))"
      ]
     },
     "metadata": {},
     "output_type": "display_data"
    },
    {
     "name": "stdout",
     "output_type": "stream",
     "text": [
      "****** log10(mDM):  4.01  ******\n",
      "****** log10(mDM):  4.109999999999999  ******\n",
      "****** log10(mDM):  4.209999999999999  ******\n",
      "****** log10(mDM):  4.309999999999999  ******\n",
      "****** log10(mDM):  4.409999999999998  ******\n",
      "****** log10(mDM):  4.509999999999998  ******\n",
      "****** log10(mDM):  4.609999999999998  ******\n",
      "****** log10(mDM):  4.709999999999997  ******\n",
      "****** log10(mDM):  4.809999999999997  ******\n",
      "****** log10(mDM):  4.909999999999997  ******\n",
      "****** log10(mDM):  5.009999999999996  ******\n",
      "****** log10(mDM):  5.109999999999996  ******\n",
      "****** log10(mDM):  5.2099999999999955  ******\n",
      "****** log10(mDM):  5.309999999999995  ******\n",
      "****** log10(mDM):  5.409999999999995  ******\n",
      "****** log10(mDM):  5.5099999999999945  ******\n",
      "****** log10(mDM):  5.609999999999994  ******\n",
      "****** log10(mDM):  5.709999999999994  ******\n",
      "****** log10(mDM):  5.809999999999993  ******\n",
      "****** log10(mDM):  5.909999999999993  ******\n",
      "****** log10(mDM):  6.009999999999993  ******\n",
      "****** log10(mDM):  6.109999999999992  ******\n",
      "****** log10(mDM):  6.209999999999992  ******\n",
      "****** log10(mDM):  6.309999999999992  ******\n",
      "****** log10(mDM):  6.409999999999991  ******\n",
      "****** log10(mDM):  6.509999999999991  ******\n",
      "****** log10(mDM):  6.6099999999999905  ******\n",
      "****** log10(mDM):  6.70999999999999  ******\n",
      "****** log10(mDM):  6.80999999999999  ******\n",
      "****** log10(mDM):  6.9099999999999895  ******\n",
      "****** log10(mDM):  7.009999999999989  ******\n",
      "****** log10(mDM):  7.109999999999989  ******\n",
      "****** log10(mDM):  7.209999999999988  ******\n",
      "****** log10(mDM):  7.309999999999988  ******\n",
      "****** log10(mDM):  7.409999999999988  ******\n",
      "****** log10(mDM):  7.509999999999987  ******\n",
      "****** log10(mDM):  7.609999999999987  ******\n",
      "****** log10(mDM):  7.709999999999987  ******\n",
      "****** log10(mDM):  7.809999999999986  ******\n",
      "****** log10(mDM):  7.909999999999986  ******\n",
      "****** log10(mDM):  8.009999999999986  ******\n",
      "****** log10(mDM):  8.109999999999985  ******\n",
      "****** log10(mDM):  8.209999999999985  ******\n",
      "****** log10(mDM):  8.309999999999985  ******\n",
      "****** log10(mDM):  8.409999999999984  ******\n",
      "****** log10(mDM):  8.509999999999984  ******\n",
      "****** log10(mDM):  8.609999999999983  ******\n",
      "****** log10(mDM):  8.709999999999983  ******\n",
      "****** log10(mDM):  8.809999999999983  ******\n",
      "****** log10(mDM):  8.909999999999982  ******\n",
      "****** log10(mDM):  9.009999999999982  ******\n",
      "****** log10(mDM):  9.109999999999982  ******\n",
      "****** log10(mDM):  9.209999999999981  ******\n",
      "****** log10(mDM):  9.309999999999981  ******\n",
      "****** log10(mDM):  9.40999999999998  ******\n",
      "****** log10(mDM):  9.50999999999998  ******\n",
      "****** log10(mDM):  9.60999999999998  ******\n",
      "****** log10(mDM):  9.70999999999998  ******\n",
      "****** log10(mDM):  9.80999999999998  ******\n",
      "****** log10(mDM):  9.909999999999979  ******\n",
      "****** log10(mDM):  10.009999999999978  ******\n",
      "****** log10(mDM):  10.109999999999978  ******\n",
      "****** log10(mDM):  10.209999999999978  ******\n",
      "****** log10(mDM):  10.309999999999977  ******\n",
      "****** log10(mDM):  10.409999999999977  ******\n",
      "****** log10(mDM):  10.509999999999977  ******\n",
      "****** log10(mDM):  10.609999999999976  ******\n",
      "****** log10(mDM):  10.709999999999976  ******\n",
      "****** log10(mDM):  10.809999999999976  ******\n",
      "****** log10(mDM):  10.909999999999975  ******\n",
      "****** log10(mDM):  11.009999999999975  ******\n",
      "****** log10(mDM):  11.109999999999975  ******\n",
      "****** log10(mDM):  11.209999999999974  ******\n",
      "****** log10(mDM):  11.309999999999974  ******\n",
      "****** log10(mDM):  11.409999999999973  ******\n",
      "****** log10(mDM):  11.509999999999973  ******\n",
      "****** log10(mDM):  11.609999999999973  ******\n",
      "****** log10(mDM):  11.709999999999972  ******\n",
      "****** log10(mDM):  11.809999999999972  ******\n",
      "****** log10(mDM):  11.909999999999972  ******\n",
      "****** log10(mDM):  12.009999999999971  ******\n",
      "****** log10(mDM):  12.109999999999971  ******\n",
      "****** log10(mDM):  12.20999999999997  ******\n",
      "****** log10(mDM):  12.30999999999997  ******\n",
      "****** log10(mDM):  12.40999999999997  ******\n",
      "###### Calculation Complete! ######\n"
     ]
    }
   ],
   "source": [
    "%autoreload\n",
    "for i, log10Einj in enumerate(tqdm(log10_Einj_arr)):\n",
    "    \n",
    "    Einj = 10**log10Einj\n",
    "    print('****** log10(mDM): ', log10Einj, ' ******')\n",
    "\n",
    "    Tm_no_br[i] = {\n",
    "        'phot_decay': get_T(2*Einj, 'decay', br=False, pri='phot'),\n",
    "        'phot_swave': get_T(Einj, 'swave', br=False, pri='phot'),\n",
    "        'elec_swave': get_T(Einj+phys.me, 'swave', br=False, pri='elec'),\n",
    "        'elec_decay': get_T(2*(Einj+phys.me), 'decay', br=False, pri='elec')\n",
    "    }\n",
    "\n",
    "print('###### Calculation Complete! ######')"
   ]
  },
  {
   "cell_type": "markdown",
   "metadata": {},
   "source": [
    "And then we calculate with back-reaction"
   ]
  },
  {
   "cell_type": "code",
   "execution_count": null,
   "metadata": {},
   "outputs": [],
   "source": [
    "%autoreload\n",
    "for i, log10Einj in enumerate(tqdm(log10_Einj_arr)):\n",
    "    \n",
    "    Einj = 10**log10Einj\n",
    "    print('****** log10(mDM): ', log10Einj, ' ******')\n",
    "    \n",
    "    Tm_br[i] = {\n",
    "        'phot_decay': get_T(2*Einj, 'decay', br=True, pri='phot'),\n",
    "        'phot_swave': get_T(Einj, 'swave', br=True, pri='phot'),\n",
    "        'elec_swave': get_T(Einj+phys.me, 'swave', br=True, pri='elec')\n",
    "        'elec_decay': get_T(2*(Einj+phys.me), 'swave', br=True, pri='elec')\n",
    "    }\n",
    "\n",
    "print('###### Calculation Complete! ######')"
   ]
  },
  {
   "cell_type": "code",
   "execution_count": 182,
   "metadata": {},
   "outputs": [
    {
     "data": {
      "text/plain": [
       "(552,)"
      ]
     },
     "execution_count": 182,
     "metadata": {},
     "output_type": "execute_result"
    }
   ],
   "source": [
    "Tm_br[0]['elec_swave']"
   ]
  },
  {
   "cell_type": "markdown",
   "metadata": {},
   "source": [
    "## Heat Plots of the Effects of Backreaction"
   ]
  },
  {
   "cell_type": "code",
   "execution_count": 2,
   "metadata": {},
   "outputs": [],
   "source": [
    "import pickle"
   ]
  },
  {
   "cell_type": "code",
   "execution_count": 20,
   "metadata": {},
   "outputs": [],
   "source": [
    "# pickle.dump(Tm_no_br,open('/Users/hongwan/Dropbox (MIT)/Photon Deposition/Gregs_Checks/Tm_no_br.p','wb'))\n",
    "# pickle.dump(Tm_br,open('/Users/gregoryridgway/Dropbox (MIT)/Photon Deposition/Gregs_Checks/Tm_br.p','wb'))\n",
    "# pickle.dump(Tm_elec_decay_no_br,open('/Users/hongwan/Dropbox (MIT)/Photon Deposition/Gregs_Checks/Tm_elec_decay_no_br.p','wb'))\n",
    "# pickle.dump(Tm_elec_decay_br,open('/Users/gregoryridgway/Dropbox (MIT)/Photon Deposition/Gregs_Checks/Tm_elec_decay_br.p','wb'))\n",
    "# pickle.dump(Tm_no_br_phot_decay, open('/Users/gregoryridgway/Dropbox (MIT)/Photon Deposition/Gregs_Checks/Tm_no_br_phot_decay.p','wb'))\n",
    "# pickle.dump(Tm_no_br_phot_swave, open('/Users/hongwan/Dropbox (MIT)/Photon Deposition/Gregs_Checks/Tm_no_br_phot_swave.p','wb'))\n",
    "\n",
    "Tm_no_br = pickle.load(open('/Users/hongwan/Dropbox (MIT)/Photon Deposition/Gregs_Checks/Tm_no_br.p','rb'))\n",
    "Tm_br = pickle.load(open('/Users/hongwan/Dropbox (MIT)/Photon Deposition/Gregs_Checks/Tm_br.p','rb'))\n",
    "Tm_no_br_phot_decay = pickle.load(open('/Users/hongwan/Dropbox (MIT)/Photon Deposition/Gregs_Checks/Tm_no_br_phot_decay.p','rb'))\n",
    "Tm_no_br_phot_swave = pickle.load(open('/Users/hongwan/Dropbox (MIT)/Photon Deposition/Gregs_Checks/Tm_no_br_phot_swave.p','rb'))\n",
    "Tm_elec_decay_no_br = pickle.load(open('/Users/hongwan/Dropbox (MIT)/Photon Deposition/Gregs_Checks/Tm_elec_decay_no_br.p','rb'))\n",
    "Tm_elec_decay_br = pickle.load(open('/Users/hongwan/Dropbox (MIT)/Photon Deposition/Gregs_Checks/Tm_elec_decay_br.p','rb'))"
   ]
  },
  {
   "cell_type": "code",
   "execution_count": 20,
   "metadata": {},
   "outputs": [],
   "source": [
    "user = 'gregoryridgway'\n",
    "Tm_no_br = pickle.load(open('/Users/'+user+'/Dropbox (MIT)/Photon Deposition/Gregs_Checks/Tm_no_br_v4.p','rb'))\n",
    "Tm_br = pickle.load(open('/Users/'+user+'/Dropbox (MIT)/Photon Deposition/Gregs_Checks/Tm_br_v4.p','rb'))"
   ]
  },
  {
   "cell_type": "code",
   "execution_count": 219,
   "metadata": {
    "scrolled": false
   },
   "outputs": [
    {
     "data": {
      "image/png": "[encoded data removed]",
      "text/plain": [
       "<Figure size 770x620 with 2 Axes>"
      ]
     },
     "metadata": {},
     "output_type": "display_data"
    }
   ],
   "source": [
    "inj_part = 'elec'\n",
    "inj_type = 'swave'\n",
    "\n",
    "log10_Einj_arr = np.arange(4.01, 12.51, 0.25)\n",
    "log10_Einj_elec_decay_arr = np.arange(4.01, 12.51, 0.25)\n",
    "# log10_Einj_elec_decay_arr = np.arange(5.01, 12.51, 0.25)\n",
    "log10_E = log10_Einj_arr\n",
    "\n",
    "diff_list = np.array([Tm_br[k][inj_part+'_'+inj_type][:532]/Tm_no_br[k][inj_part+'_'+inj_type]-1. for k in np.arange(34)])\n",
    "        \n",
    "if inj_part == 'phot':\n",
    "    cf=4\n",
    "    if inj_type == 'decay':\n",
    "        conv_fac = 2\n",
    "        conv_add = 0\n",
    "    else:\n",
    "        conv_fac = 1\n",
    "        conv_add = 0\n",
    "else:\n",
    "    if inj_type == 'swave':\n",
    "        conv_fac = 1\n",
    "        conv_add = phys.me\n",
    "    else:\n",
    "        log10_E = log10_Einj_elec_decay_arr\n",
    "        conv_fac = 2\n",
    "        conv_add = phys.me\n",
    "    cf=12\n",
    "\n",
    "rs_list = np.exp(np.arange(np.log(201.61653821924926), np.log(5.1), step=-0.001*cf))\n",
    "length=len(rs_list)\n",
    "\n",
    "plt.figure(figsize=(7.7, 6.2))\n",
    "\n",
    "ax = plt.gca()\n",
    "ax.loglog()\n",
    "\n",
    "if inj_part == 'phot':\n",
    "    if inj_type == 'decay':\n",
    "        frac_change_levels = [0.01, 5, 10, 20, 50, 100, 200]\n",
    "        frac_change_labels = ['0\\%', '5\\%', '10\\%', '20\\%', '50\\%', '100\\%', '200\\%']\n",
    "\n",
    "    else:\n",
    "        frac_change_levels = [1e-5, .1, .5, 1, 2, 5, 10, 20, 40]\n",
    "        frac_change_labels = ['0\\%','0.1\\%', '0.5\\%', '1\\%', '2\\%', '5\\%', '10\\%', '20\\%', '40\\%']\n",
    "else:\n",
    "    if inj_type == 'decay':\n",
    "        frac_change_levels = [0.001, 5, 10, 50, 100, 200, 500, 900]\n",
    "        frac_change_labels = ['0\\%', '5\\%', '10\\%', '50\\%', '100\\%', '200\\%', '500\\%', '900\\%']\n",
    "    else:\n",
    "        frac_change_levels = [0.001, 5, 10, 50, 100, 200, 300]\n",
    "        frac_change_labels = ['0\\%', '5\\%', '10\\%', '50\\%', '100\\%', '200\\%', '300\\%']\n",
    "    \n",
    "    \n",
    "plt_heating = plt.contour(\n",
    "    (10**log10_E + conv_add)*conv_fac, rs_list, \n",
    "    np.transpose(np.abs(diff_list)*100)[532-length:532],\n",
    "    levels=frac_change_levels,\n",
    "    linewidths=0.5,\n",
    "    colors='k'\n",
    ")\n",
    "\n",
    "\n",
    "# plt.clabel(\n",
    "#     plt_heating, test_levels, inline=True, fontsize=12, rightside_up=True,\n",
    "#     fmt=test\n",
    "# )\n",
    "\n",
    "cntr1 = ax.contourf((10**log10_E + conv_add)*conv_fac, \n",
    "                    rs_list, \n",
    "                    np.transpose(np.abs(diff_list)*100)[532-length:532], \n",
    "#                     np.transpose(np.abs(diff_list)*100)[1595-length:1595], \n",
    "                    frac_change_levels,\n",
    "                    norm=matplotlib.colors.LogNorm(),\n",
    "                    cmap=matplotlib.cm.inferno\n",
    ")\n",
    "\n",
    "cbar = plt.colorbar(\n",
    "    cntr1, ax=ax, ticks=frac_change_levels,\n",
    ")\n",
    "cbar.set_ticklabels(frac_change_labels)\n",
    "cbar.set_label(r'$T_m$ Fractional Change $\\delta T_m/ T_{m,0}$', labelpad=20)\n",
    "\n",
    "plt.axis([(10**log10_E[0] + conv_add)*conv_fac, (10**log10_E[-1] + conv_add)*conv_fac, 5.1, 201.61653821924926])\n",
    "\n",
    "if inj_part == 'elec':\n",
    "    if inj_type == 'decay':\n",
    "        label1_txt = r'$\\chi \\to e^+e^-$'\n",
    "        label2_txt = r'$\\tau_{\\min}$ from CMB'\n",
    "        label1_dx = -0.05\n",
    "        label2_dx = +0.12\n",
    "    else:\n",
    "        label1_txt = r'$\\chi \\chi \\to e^+e^-$'\n",
    "        label2_txt = r'$\\langle \\sigma v \\rangle_{\\max}$ from CMB'\n",
    "        label1_dx = -0.1\n",
    "        label2_dx = +0.02\n",
    "else:\n",
    "    if inj_type == 'decay':\n",
    "        label1_txt = r'$\\chi \\to \\gamma \\gamma$'\n",
    "        label2_txt = r'$\\tau_{\\min}$ from CMB'\n",
    "        label1_dx = 0.\n",
    "        label2_dx = +0.12\n",
    "    else:\n",
    "        label1_txt = r'$\\chi \\chi \\to \\gamma \\gamma$'\n",
    "        label2_txt = r'$\\langle \\sigma v \\rangle_{\\max}$ from CMB'\n",
    "        label1_dx = -0.04\n",
    "        label2_dx = +0.03\n",
    "\n",
    "plt.text(0.77+label1_dx, 0.91, label1_txt,transform=ax.transAxes, color='w', fontsize=20)\n",
    "plt.text(0.46+label2_dx, 0.83, label2_txt,transform=ax.transAxes, color='w', fontsize=20)\n",
    "\n",
    "\n",
    "# cbar = plt.colorbar(cntr1, ax=ax, ticks = test_levels)\n",
    "# cbar.ax.set_xticklabels(str(test_levels))\n",
    "\n",
    "# plt.colorbar(cntr1, ax=ax)\n",
    "\n",
    "# plt.title(r'\\bf{$\\delta_{T_m}$}')\n",
    "plt.title(r'\\bf{Backreaction $T_m$ Comparison}')\n",
    "plt.ylabel(r'Redshift ($1+z$)')\n",
    "plt.xlabel(r'Dark Matter Mass $m_\\chi$ [eV]')\n",
    "\n",
    "# plt.savefig('/Users/'+user+'/Dropbox (MIT)/Photon Deposition/Draft/plots/backReact_'+inj_part+'_residuals_'+inj_type+'_v4.pdf')"
   ]
  },
  {
   "cell_type": "markdown",
   "metadata": {},
   "source": [
    "# Scratch"
   ]
  },
  {
   "cell_type": "code",
   "execution_count": 221,
   "metadata": {},
   "outputs": [],
   "source": [
    "Tm_br2 = pickle.load(open('/Users/gregoryridgway/Dropbox (MIT)/Photon Deposition/Gregs_Checks/Tm_br_v5.p','rb'))"
   ]
  },
  {
   "cell_type": "code",
   "execution_count": 223,
   "metadata": {},
   "outputs": [],
   "source": [
    "Tm_no_br2 = pickle.load(open('/Users/gregoryridgway/Dropbox (MIT)/Photon Deposition/Gregs_Checks/Tm_no_br_v5.p','rb'))"
   ]
  },
  {
   "cell_type": "code",
   "execution_count": 231,
   "metadata": {},
   "outputs": [
    {
     "name": "stdout",
     "output_type": "stream",
     "text": [
      "(85,) (307,) (307, 34)\n"
     ]
    }
   ],
   "source": [
    "print(log10_E.shape,rs_list.shape,np.transpose(np.abs(diff_list)*100)[532-length:532].shape)"
   ]
  },
  {
   "cell_type": "code",
   "execution_count": 252,
   "metadata": {
    "scrolled": false
   },
   "outputs": [
    {
     "data": {
      "text/plain": [
       "Text(0.5, 0, 'Dark Matter Mass $m_\\\\chi$ [eV]')"
      ]
     },
     "execution_count": 252,
     "metadata": {},
     "output_type": "execute_result"
    },
    {
     "data": {
      "image/png": "[encoded data removed]",
      "text/plain": [
       "<Figure size 770x620 with 2 Axes>"
      ]
     },
     "metadata": {},
     "output_type": "display_data"
    }
   ],
   "source": [
    "inj_part = 'phot'\n",
    "inj_type = 'swave'\n",
    "\n",
    "log10_Einj_arr = np.arange(4.01, 12.51, 0.1)\n",
    "# log10_Einj_elec_decay_arr = np.arange(4.01, 12.51, 0.25)\n",
    "# log10_Einj_elec_decay_arr = np.arange(5.01, 12.51, 0.25)\n",
    "log10_E = log10_Einj_arr\n",
    "\n",
    "diff_list = np.array([Tm_br2[k][inj_part+'_'+inj_type][:1595]/Tm_no_br2[k][inj_part+'_'+inj_type][:1595]-1. for k in np.arange(85)])\n",
    "        \n",
    "if inj_part == 'phot':\n",
    "    cf=4\n",
    "    if inj_type == 'decay':\n",
    "        conv_fac = 2\n",
    "        conv_add = 0\n",
    "    else:\n",
    "        conv_fac = 1\n",
    "        conv_add = 0\n",
    "else:\n",
    "    if inj_type == 'swave':\n",
    "        conv_fac = 1\n",
    "        conv_add = phys.me\n",
    "    else:\n",
    "        log10_E = log10_Einj_elec_decay_arr\n",
    "        conv_fac = 2\n",
    "        conv_add = phys.me\n",
    "    cf=12\n",
    "\n",
    "rs_list = np.exp(np.arange(np.log(201.61653821924926), np.log(4.004), step=-0.001*cf))\n",
    "length=len(rs_list)\n",
    "\n",
    "plt.figure(figsize=(7.7, 6.2))\n",
    "\n",
    "ax = plt.gca()\n",
    "ax.loglog()\n",
    "\n",
    "if inj_part == 'phot':\n",
    "    if inj_type == 'decay':\n",
    "        frac_change_levels = [0.01, 5, 10, 20, 50, 100, 200]\n",
    "        frac_change_labels = ['0\\%', '5\\%', '10\\%', '20\\%', '50\\%', '100\\%', '200\\%']\n",
    "\n",
    "    else:\n",
    "        frac_change_levels = [1e-5, .1, .5, 1, 2, 5, 10, 20, 40]\n",
    "        frac_change_labels = ['0\\%','0.1\\%', '0.5\\%', '1\\%', '2\\%', '5\\%', '10\\%', '20\\%', '40\\%']\n",
    "else:\n",
    "    if inj_type == 'decay':\n",
    "        frac_change_levels = [0.001, 5, 10, 50, 100, 200, 500, 900]\n",
    "        frac_change_labels = ['0\\%', '5\\%', '10\\%', '50\\%', '100\\%', '200\\%', '500\\%', '900\\%']\n",
    "    else:\n",
    "        frac_change_levels = [0.001, 5, 10, 50, 100, 200, 300]\n",
    "        frac_change_labels = ['0\\%', '5\\%', '10\\%', '50\\%', '100\\%', '200\\%', '300\\%']\n",
    "    \n",
    "    \n",
    "plt_heating = plt.contour(\n",
    "    (10**log10_E + conv_add)*conv_fac, rs_list, \n",
    "    np.transpose(np.abs(diff_list)*100)[-length:],\n",
    "    levels=frac_change_levels,\n",
    "    linewidths=0.5,\n",
    "    colors='k'\n",
    ")\n",
    "\n",
    "\n",
    "# plt.clabel(\n",
    "#     plt_heating, test_levels, inline=True, fontsize=12, rightside_up=True,\n",
    "#     fmt=test\n",
    "# )\n",
    "\n",
    "cntr1 = ax.contourf((10**log10_E + conv_add)*conv_fac, \n",
    "                    rs_list, \n",
    "                    np.transpose(np.abs(diff_list)*100)[-length:], \n",
    "#                     np.transpose(np.abs(diff_list)*100)[1595-length:1595], \n",
    "                    frac_change_levels,\n",
    "                    norm=matplotlib.colors.LogNorm(),\n",
    "                    cmap=matplotlib.cm.inferno\n",
    ")\n",
    "\n",
    "cbar = plt.colorbar(\n",
    "    cntr1, ax=ax, ticks=frac_change_levels,\n",
    ")\n",
    "cbar.set_ticklabels(frac_change_labels)\n",
    "cbar.set_label(r'$T_m$ Fractional Change $\\delta T_m/ T_{m,0}$', labelpad=20)\n",
    "\n",
    "plt.axis([(10**log10_E[0] + conv_add)*conv_fac, (10**log10_E[-1] + conv_add)*conv_fac, 5.1, 201.61653821924926])\n",
    "\n",
    "if inj_part == 'elec':\n",
    "    if inj_type == 'decay':\n",
    "        label1_txt = r'$\\chi \\to e^+e^-$'\n",
    "        label2_txt = r'$\\tau_{\\min}$ from CMB'\n",
    "        label1_dx = -0.05\n",
    "        label2_dx = +0.12\n",
    "    else:\n",
    "        label1_txt = r'$\\chi \\chi \\to e^+e^-$'\n",
    "        label2_txt = r'$\\langle \\sigma v \\rangle_{\\max}$ from CMB'\n",
    "        label1_dx = -0.1\n",
    "        label2_dx = +0.02\n",
    "else:\n",
    "    if inj_type == 'decay':\n",
    "        label1_txt = r'$\\chi \\to \\gamma \\gamma$'\n",
    "        label2_txt = r'$\\tau_{\\min}$ from CMB'\n",
    "        label1_dx = 0.\n",
    "        label2_dx = +0.12\n",
    "    else:\n",
    "        label1_txt = r'$\\chi \\chi \\to \\gamma \\gamma$'\n",
    "        label2_txt = r'$\\langle \\sigma v \\rangle_{\\max}$ from CMB'\n",
    "        label1_dx = -0.04\n",
    "        label2_dx = +0.03\n",
    "\n",
    "plt.text(0.77+label1_dx, 0.91, label1_txt,transform=ax.transAxes, color='w', fontsize=20)\n",
    "plt.text(0.46+label2_dx, 0.83, label2_txt,transform=ax.transAxes, color='w', fontsize=20)\n",
    "\n",
    "\n",
    "# cbar = plt.colorbar(cntr1, ax=ax, ticks = test_levels)\n",
    "# cbar.ax.set_xticklabels(str(test_levels))\n",
    "\n",
    "# plt.colorbar(cntr1, ax=ax)\n",
    "\n",
    "# plt.title(r'\\bf{$\\delta_{T_m}$}')\n",
    "plt.title(r'\\bf{Backreaction $T_m$ Comparison}')\n",
    "plt.ylabel(r'Redshift ($1+z$)')\n",
    "plt.xlabel(r'Dark Matter Mass $m_\\chi$ [eV]')\n",
    "\n",
    "# plt.savefig('/Users/'+user+'/Dropbox (MIT)/Photon Deposition/Draft/plots/backReact_'+inj_part+'_residuals_'+inj_type+'_v4.pdf')"
   ]
  },
  {
   "cell_type": "code",
   "execution_count": 76,
   "metadata": {
    "collapsed": true
   },
   "outputs": [
    {
     "data": {
      "application/vnd.jupyter.widget-view+json": {
       "model_id": "",
       "version_major": 2,
       "version_minor": 0
      },
      "text/plain": [
       "HBox(children=(IntProgress(value=0, max=34), HTML(value='')))"
      ]
     },
     "metadata": {},
     "output_type": "display_data"
    },
    {
     "name": "stdout",
     "output_type": "stream",
     "text": [
      "****** log10(mDM):  4.26  ******\n"
     ]
    },
    {
     "data": {
      "application/vnd.jupyter.widget-view+json": {
       "model_id": "",
       "version_major": 2,
       "version_minor": 0
      },
      "text/plain": [
       "HBox(children=(IntProgress(value=0, max=552), HTML(value='')))"
      ]
     },
     "metadata": {},
     "output_type": "display_data"
    },
    {
     "name": "stdout",
     "output_type": "stream",
     "text": [
      "****** log10(mDM):  4.51  ******\n"
     ]
    },
    {
     "data": {
      "application/vnd.jupyter.widget-view+json": {
       "model_id": "",
       "version_major": 2,
       "version_minor": 0
      },
      "text/plain": [
       "HBox(children=(IntProgress(value=0, max=552), HTML(value='')))"
      ]
     },
     "metadata": {},
     "output_type": "display_data"
    },
    {
     "name": "stdout",
     "output_type": "stream",
     "text": [
      "****** log10(mDM):  4.76  ******\n"
     ]
    },
    {
     "data": {
      "application/vnd.jupyter.widget-view+json": {
       "model_id": "",
       "version_major": 2,
       "version_minor": 0
      },
      "text/plain": [
       "HBox(children=(IntProgress(value=0, max=552), HTML(value='')))"
      ]
     },
     "metadata": {},
     "output_type": "display_data"
    },
    {
     "name": "stdout",
     "output_type": "stream",
     "text": [
      "****** log10(mDM):  5.01  ******\n"
     ]
    },
    {
     "data": {
      "application/vnd.jupyter.widget-view+json": {
       "model_id": "",
       "version_major": 2,
       "version_minor": 0
      },
      "text/plain": [
       "HBox(children=(IntProgress(value=0, max=552), HTML(value='')))"
      ]
     },
     "metadata": {},
     "output_type": "display_data"
    },
    {
     "name": "stdout",
     "output_type": "stream",
     "text": [
      "****** log10(mDM):  5.26  ******\n"
     ]
    },
    {
     "data": {
      "application/vnd.jupyter.widget-view+json": {
       "model_id": "",
       "version_major": 2,
       "version_minor": 0
      },
      "text/plain": [
       "HBox(children=(IntProgress(value=0, max=552), HTML(value='')))"
      ]
     },
     "metadata": {},
     "output_type": "display_data"
    },
    {
     "name": "stdout",
     "output_type": "stream",
     "text": [
      "****** log10(mDM):  5.51  ******\n"
     ]
    },
    {
     "data": {
      "application/vnd.jupyter.widget-view+json": {
       "model_id": "",
       "version_major": 2,
       "version_minor": 0
      },
      "text/plain": [
       "HBox(children=(IntProgress(value=0, max=552), HTML(value='')))"
      ]
     },
     "metadata": {},
     "output_type": "display_data"
    },
    {
     "name": "stdout",
     "output_type": "stream",
     "text": [
      "****** log10(mDM):  5.76  ******\n"
     ]
    },
    {
     "data": {
      "application/vnd.jupyter.widget-view+json": {
       "model_id": "",
       "version_major": 2,
       "version_minor": 0
      },
      "text/plain": [
       "HBox(children=(IntProgress(value=0, max=552), HTML(value='')))"
      ]
     },
     "metadata": {},
     "output_type": "display_data"
    },
    {
     "name": "stdout",
     "output_type": "stream",
     "text": [
      "****** log10(mDM):  6.01  ******\n"
     ]
    },
    {
     "data": {
      "application/vnd.jupyter.widget-view+json": {
       "model_id": "",
       "version_major": 2,
       "version_minor": 0
      },
      "text/plain": [
       "HBox(children=(IntProgress(value=0, max=552), HTML(value='')))"
      ]
     },
     "metadata": {},
     "output_type": "display_data"
    },
    {
     "name": "stdout",
     "output_type": "stream",
     "text": [
      "****** log10(mDM):  6.51  ******\n"
     ]
    },
    {
     "data": {
      "application/vnd.jupyter.widget-view+json": {
       "model_id": "",
       "version_major": 2,
       "version_minor": 0
      },
      "text/plain": [
       "HBox(children=(IntProgress(value=0, max=552), HTML(value='')))"
      ]
     },
     "metadata": {},
     "output_type": "display_data"
    },
    {
     "name": "stdout",
     "output_type": "stream",
     "text": [
      "****** log10(mDM):  6.76  ******\n"
     ]
    },
    {
     "data": {
      "application/vnd.jupyter.widget-view+json": {
       "model_id": "",
       "version_major": 2,
       "version_minor": 0
      },
      "text/plain": [
       "HBox(children=(IntProgress(value=0, max=552), HTML(value='')))"
      ]
     },
     "metadata": {},
     "output_type": "display_data"
    },
    {
     "name": "stdout",
     "output_type": "stream",
     "text": [
      "****** log10(mDM):  7.01  ******\n"
     ]
    },
    {
     "data": {
      "application/vnd.jupyter.widget-view+json": {
       "model_id": "",
       "version_major": 2,
       "version_minor": 0
      },
      "text/plain": [
       "HBox(children=(IntProgress(value=0, max=552), HTML(value='')))"
      ]
     },
     "metadata": {},
     "output_type": "display_data"
    },
    {
     "name": "stdout",
     "output_type": "stream",
     "text": [
      "****** log10(mDM):  7.26  ******\n"
     ]
    },
    {
     "data": {
      "application/vnd.jupyter.widget-view+json": {
       "model_id": "",
       "version_major": 2,
       "version_minor": 0
      },
      "text/plain": [
       "HBox(children=(IntProgress(value=0, max=552), HTML(value='')))"
      ]
     },
     "metadata": {},
     "output_type": "display_data"
    },
    {
     "name": "stdout",
     "output_type": "stream",
     "text": [
      "****** log10(mDM):  7.51  ******\n"
     ]
    },
    {
     "data": {
      "application/vnd.jupyter.widget-view+json": {
       "model_id": "",
       "version_major": 2,
       "version_minor": 0
      },
      "text/plain": [
       "HBox(children=(IntProgress(value=0, max=552), HTML(value='')))"
      ]
     },
     "metadata": {},
     "output_type": "display_data"
    },
    {
     "name": "stdout",
     "output_type": "stream",
     "text": [
      "****** log10(mDM):  7.76  ******\n"
     ]
    },
    {
     "data": {
      "application/vnd.jupyter.widget-view+json": {
       "model_id": "",
       "version_major": 2,
       "version_minor": 0
      },
      "text/plain": [
       "HBox(children=(IntProgress(value=0, max=552), HTML(value='')))"
      ]
     },
     "metadata": {},
     "output_type": "display_data"
    },
    {
     "name": "stdout",
     "output_type": "stream",
     "text": [
      "****** log10(mDM):  8.01  ******\n"
     ]
    },
    {
     "data": {
      "application/vnd.jupyter.widget-view+json": {
       "model_id": "",
       "version_major": 2,
       "version_minor": 0
      },
      "text/plain": [
       "HBox(children=(IntProgress(value=0, max=552), HTML(value='')))"
      ]
     },
     "metadata": {},
     "output_type": "display_data"
    },
    {
     "name": "stdout",
     "output_type": "stream",
     "text": [
      "****** log10(mDM):  8.26  ******\n"
     ]
    },
    {
     "data": {
      "application/vnd.jupyter.widget-view+json": {
       "model_id": "",
       "version_major": 2,
       "version_minor": 0
      },
      "text/plain": [
       "HBox(children=(IntProgress(value=0, max=552), HTML(value='')))"
      ]
     },
     "metadata": {},
     "output_type": "display_data"
    },
    {
     "name": "stdout",
     "output_type": "stream",
     "text": [
      "****** log10(mDM):  8.51  ******\n"
     ]
    },
    {
     "data": {
      "application/vnd.jupyter.widget-view+json": {
       "model_id": "",
       "version_major": 2,
       "version_minor": 0
      },
      "text/plain": [
       "HBox(children=(IntProgress(value=0, max=552), HTML(value='')))"
      ]
     },
     "metadata": {},
     "output_type": "display_data"
    },
    {
     "name": "stdout",
     "output_type": "stream",
     "text": [
      "****** log10(mDM):  8.76  ******\n"
     ]
    },
    {
     "data": {
      "application/vnd.jupyter.widget-view+json": {
       "model_id": "",
       "version_major": 2,
       "version_minor": 0
      },
      "text/plain": [
       "HBox(children=(IntProgress(value=0, max=552), HTML(value='')))"
      ]
     },
     "metadata": {},
     "output_type": "display_data"
    },
    {
     "name": "stdout",
     "output_type": "stream",
     "text": [
      "****** log10(mDM):  9.01  ******\n"
     ]
    },
    {
     "data": {
      "application/vnd.jupyter.widget-view+json": {
       "model_id": "",
       "version_major": 2,
       "version_minor": 0
      },
      "text/plain": [
       "HBox(children=(IntProgress(value=0, max=552), HTML(value='')))"
      ]
     },
     "metadata": {},
     "output_type": "display_data"
    },
    {
     "ename": "KeyboardInterrupt",
     "evalue": "",
     "output_type": "error",
     "traceback": [
      "\u001b[0;31m---------------------------------------------------------------------------\u001b[0m",
      "\u001b[0;31mKeyboardInterrupt\u001b[0m                         Traceback (most recent call last)",
      "\u001b[0;32m<ipython-input-76-9b51bd4a28f2>\u001b[0m in \u001b[0;36m<module>\u001b[0;34m\u001b[0m\n\u001b[1;32m      3\u001b[0m         \u001b[0mEinj\u001b[0m \u001b[0;34m=\u001b[0m \u001b[0;36m10\u001b[0m\u001b[0;34m**\u001b[0m\u001b[0mlog10Einj\u001b[0m\u001b[0;34m\u001b[0m\u001b[0;34m\u001b[0m\u001b[0m\n\u001b[1;32m      4\u001b[0m         \u001b[0mprint\u001b[0m\u001b[0;34m(\u001b[0m\u001b[0;34m'****** log10(mDM): '\u001b[0m\u001b[0;34m,\u001b[0m \u001b[0mlog10Einj\u001b[0m\u001b[0;34m,\u001b[0m \u001b[0;34m' ******'\u001b[0m\u001b[0;34m)\u001b[0m\u001b[0;34m\u001b[0m\u001b[0;34m\u001b[0m\u001b[0m\n\u001b[0;32m----> 5\u001b[0;31m         \u001b[0mTm_br\u001b[0m\u001b[0;34m[\u001b[0m\u001b[0mi\u001b[0m\u001b[0;34m]\u001b[0m\u001b[0;34m[\u001b[0m\u001b[0;34m'elec_decay'\u001b[0m\u001b[0;34m]\u001b[0m \u001b[0;34m=\u001b[0m \u001b[0mget_T\u001b[0m\u001b[0;34m(\u001b[0m\u001b[0;36m2\u001b[0m\u001b[0;34m*\u001b[0m\u001b[0;34m(\u001b[0m\u001b[0mEinj\u001b[0m\u001b[0;34m+\u001b[0m\u001b[0mphys\u001b[0m\u001b[0;34m.\u001b[0m\u001b[0mme\u001b[0m\u001b[0;34m)\u001b[0m\u001b[0;34m,\u001b[0m \u001b[0;34m'decay'\u001b[0m\u001b[0;34m,\u001b[0m \u001b[0mbr\u001b[0m\u001b[0;34m=\u001b[0m\u001b[0;32mTrue\u001b[0m\u001b[0;34m,\u001b[0m \u001b[0mpri\u001b[0m\u001b[0;34m=\u001b[0m\u001b[0;34m'elec'\u001b[0m\u001b[0;34m)\u001b[0m\u001b[0;34m\u001b[0m\u001b[0;34m\u001b[0m\u001b[0m\n\u001b[0m\u001b[1;32m      6\u001b[0m \u001b[0;34m\u001b[0m\u001b[0m\n\u001b[1;32m      7\u001b[0m \u001b[0mprint\u001b[0m\u001b[0;34m(\u001b[0m\u001b[0;34m'###### Calculation Complete! ######'\u001b[0m\u001b[0;34m)\u001b[0m\u001b[0;34m\u001b[0m\u001b[0;34m\u001b[0m\u001b[0m\n",
      "\u001b[0;32m<ipython-input-16-9ea67f39c3b7>\u001b[0m in \u001b[0;36mget_T\u001b[0;34m(mDM, DM_process, br, pri)\u001b[0m\n\u001b[1;32m     39\u001b[0m             \u001b[0mstart_rs\u001b[0m \u001b[0;34m=\u001b[0m \u001b[0;36m3000\u001b[0m\u001b[0;34m,\u001b[0m \u001b[0mend_rs\u001b[0m\u001b[0;34m=\u001b[0m\u001b[0;36m4.004\u001b[0m\u001b[0;34m,\u001b[0m\u001b[0;34m\u001b[0m\u001b[0;34m\u001b[0m\u001b[0m\n\u001b[1;32m     40\u001b[0m             \u001b[0mcoarsen_factor\u001b[0m\u001b[0;34m=\u001b[0m\u001b[0mcf\u001b[0m\u001b[0;34m,\u001b[0m \u001b[0mbackreaction\u001b[0m\u001b[0;34m=\u001b[0m\u001b[0;32mTrue\u001b[0m\u001b[0;34m,\u001b[0m\u001b[0;34m\u001b[0m\u001b[0;34m\u001b[0m\u001b[0m\n\u001b[0;32m---> 41\u001b[0;31m             \u001b[0mstruct_boost\u001b[0m \u001b[0;34m=\u001b[0m \u001b[0mphys\u001b[0m\u001b[0;34m.\u001b[0m\u001b[0mstruct_boost_func\u001b[0m\u001b[0;34m(\u001b[0m\u001b[0;34m'einasto_with_subs'\u001b[0m\u001b[0;34m)\u001b[0m\u001b[0;34m\u001b[0m\u001b[0;34m\u001b[0m\u001b[0m\n\u001b[0m\u001b[1;32m     42\u001b[0m         )\n\u001b[1;32m     43\u001b[0m \u001b[0;34m\u001b[0m\u001b[0m\n",
      "\u001b[0;32m~/Desktop/DM/DH/DarkHistory/main.py\u001b[0m in \u001b[0;36mevolve\u001b[0;34m(in_spec_elec, in_spec_phot, rate_func_N, rate_func_eng, DM_process, mDM, sigmav, lifetime, primary, struct_boost, start_rs, end_rs, helium_TLA, reion_switch, reion_rs, photoion_rate_func, photoheat_rate_func, xe_reion_func, init_cond, coarsen_factor, backreaction, compute_fs_method, mxstep, rtol, use_tqdm)\u001b[0m\n\u001b[1;32m    376\u001b[0m                     \u001b[0mcoll_ion_sec_elec_specs\u001b[0m\u001b[0;34m=\u001b[0m\u001b[0mcoll_ion_sec_elec_specs\u001b[0m\u001b[0;34m,\u001b[0m\u001b[0;34m\u001b[0m\u001b[0;34m\u001b[0m\u001b[0m\n\u001b[1;32m    377\u001b[0m                     \u001b[0mcoll_exc_sec_elec_specs\u001b[0m\u001b[0;34m=\u001b[0m\u001b[0mcoll_exc_sec_elec_specs\u001b[0m\u001b[0;34m,\u001b[0m\u001b[0;34m\u001b[0m\u001b[0;34m\u001b[0m\u001b[0m\n\u001b[0;32m--> 378\u001b[0;31m                     \u001b[0mics_engloss_data\u001b[0m\u001b[0;34m=\u001b[0m\u001b[0mics_engloss_data\u001b[0m\u001b[0;34m\u001b[0m\u001b[0;34m\u001b[0m\u001b[0m\n\u001b[0m\u001b[1;32m    379\u001b[0m                 )\n\u001b[1;32m    380\u001b[0m \u001b[0;34m\u001b[0m\u001b[0m\n",
      "\u001b[0;32m~/Desktop/DM/DH/DarkHistory/darkhistory/electrons/elec_cooling.py\u001b[0m in \u001b[0;36mget_elec_cooling_tf\u001b[0;34m(eleceng, photeng, rs, xHII, xHeII, raw_thomson_tf, raw_rel_tf, raw_engloss_tf, coll_ion_sec_elec_specs, coll_exc_sec_elec_specs, ics_engloss_data, check_conservation_eng, verbose)\u001b[0m\n\u001b[1;32m    207\u001b[0m     \u001b[0;32mif\u001b[0m \u001b[0mics_engloss_data\u001b[0m \u001b[0;32mis\u001b[0m \u001b[0;32mnot\u001b[0m \u001b[0;32mNone\u001b[0m\u001b[0;34m:\u001b[0m\u001b[0;34m\u001b[0m\u001b[0;34m\u001b[0m\u001b[0m\n\u001b[1;32m    208\u001b[0m         elec_ICS_tf._grid_vals = ics_engloss_data.rebin(\n\u001b[0;32m--> 209\u001b[0;31m             \u001b[0mengloss_ICS_tf\u001b[0m\u001b[0;34m.\u001b[0m\u001b[0mgrid_vals\u001b[0m\u001b[0;34m\u001b[0m\u001b[0;34m\u001b[0m\u001b[0m\n\u001b[0m\u001b[1;32m    210\u001b[0m         )\n\u001b[1;32m    211\u001b[0m     \u001b[0;32melse\u001b[0m\u001b[0;34m:\u001b[0m\u001b[0;34m\u001b[0m\u001b[0;34m\u001b[0m\u001b[0m\n",
      "\u001b[0;32m~/Desktop/DM/DH/DarkHistory/darkhistory/spec/spectools.py\u001b[0m in \u001b[0;36mrebin\u001b[0;34m(self, grid_vals)\u001b[0m\n\u001b[1;32m    642\u001b[0m \u001b[0;34m\u001b[0m\u001b[0m\n\u001b[1;32m    643\u001b[0m         N_above_underflow[self.ind_low] = (\n\u001b[0;32m--> 644\u001b[0;31m             \u001b[0;34m(\u001b[0m\u001b[0mself\u001b[0m\u001b[0;34m.\u001b[0m\u001b[0mbin_ind\u001b[0m\u001b[0;34m[\u001b[0m\u001b[0mself\u001b[0m\u001b[0;34m.\u001b[0m\u001b[0mind_low\u001b[0m\u001b[0;34m]\u001b[0m \u001b[0;34m-\u001b[0m \u001b[0mself\u001b[0m\u001b[0;34m.\u001b[0m\u001b[0mlow_bin_low\u001b[0m\u001b[0;34m[\u001b[0m\u001b[0mself\u001b[0m\u001b[0;34m.\u001b[0m\u001b[0mind_low\u001b[0m\u001b[0;34m]\u001b[0m\u001b[0;34m)\u001b[0m\u001b[0;34m\u001b[0m\u001b[0;34m\u001b[0m\u001b[0m\n\u001b[0m\u001b[1;32m    645\u001b[0m             \u001b[0;34m*\u001b[0m \u001b[0mN_arr\u001b[0m\u001b[0;34m[\u001b[0m\u001b[0mself\u001b[0m\u001b[0;34m.\u001b[0m\u001b[0mind_low\u001b[0m\u001b[0;34m]\u001b[0m\u001b[0;34m\u001b[0m\u001b[0;34m\u001b[0m\u001b[0m\n\u001b[1;32m    646\u001b[0m         )\n",
      "\u001b[0;31mKeyboardInterrupt\u001b[0m: "
     ]
    }
   ],
   "source": [
    "for i, log10Einj in enumerate(tqdm(log10_Einj_arr)):\n",
    "    if (i != 0) and (i != 9):\n",
    "        Einj = 10**log10Einj\n",
    "        print('****** log10(mDM): ', log10Einj, ' ******')\n",
    "        Tm_br[i]['elec_decay'] = get_T(2*(Einj+phys.me), 'decay', br=True, pri='elec')\n",
    "\n",
    "print('###### Calculation Complete! ######')"
   ]
  },
  {
   "cell_type": "code",
   "execution_count": 77,
   "metadata": {},
   "outputs": [],
   "source": [
    "Tm_br3 = Tm_br.copy()"
   ]
  },
  {
   "cell_type": "code",
   "execution_count": 81,
   "metadata": {},
   "outputs": [],
   "source": [
    "Tm_br2 = pickle.load(open('/Users/'+user+'/Dropbox (MIT)/Photon Deposition/Gregs_Checks/Tm_br_v4p1.p','rb'))"
   ]
  },
  {
   "cell_type": "code",
   "execution_count": 82,
   "metadata": {},
   "outputs": [],
   "source": [
    "for k in np.arange(34):\n",
    "    if k > 19:\n",
    "        Tm_br3[k]['elec_decay'] = Tm_br2[k]['elec_decay']"
   ]
  },
  {
   "cell_type": "code",
   "execution_count": 83,
   "metadata": {},
   "outputs": [],
   "source": [
    "log10_Einj_arr = np.arange(4.01, 12.51, 0.25)"
   ]
  },
  {
   "cell_type": "markdown",
   "metadata": {},
   "source": [
    "- make it square (manually make it square, figsize or something)\n",
    "- One more color at the low end or the redshift\n",
    "- make this go down to ~20 keV \n",
    "- double-check that your functions aren't off by a factor of 2 by comparing to Chih-Liang/Tracy paper\n",
    "- dark matter mass on the x-axis\n",
    "\n",
    "- include best new f's overlayed against the old contours from 2016 results (as is).  Turn off color bar, red dashed for 2016 and black for.  But first try just overlaying the red dashed contours.\n",
    "- make the plot text of the same order as the caption text\n",
    "- try combining them"
   ]
  }
 ],
 "metadata": {
  "kernelspec": {
   "display_name": "Python 3",
   "language": "python",
   "name": "python3"
  },
  "language_info": {
   "codemirror_mode": {
    "name": "ipython",
    "version": 3
   },
   "file_extension": ".py",
   "mimetype": "text/x-python",
   "name": "python",
   "nbconvert_exporter": "python",
   "pygments_lexer": "ipython3",
   "version": "3.7.2"
  },
  "toc": {
   "base_numbering": 1,
   "nav_menu": {},
   "number_sections": true,
   "sideBar": true,
   "skip_h1_title": false,
   "title_cell": "Table of Contents",
   "title_sidebar": "Contents",
   "toc_cell": false,
   "toc_position": {},
   "toc_section_display": true,
   "toc_window_display": false
  }
 },
 "nbformat": 4,
 "nbformat_minor": 2
}
