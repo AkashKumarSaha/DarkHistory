{
 "cells": [
  {
   "cell_type": "code",
   "execution_count": 4,
   "metadata": {},
   "outputs": [
    {
     "name": "stdout",
     "output_type": "stream",
     "text": [
      "The autoreload extension is already loaded. To reload it, use:\n",
      "  %reload_ext autoreload\n"
     ]
    }
   ],
   "source": [
    "%load_ext autoreload\n",
    "import sys\n",
    "sys.path.append(\"..\")"
   ]
  },
  {
   "cell_type": "code",
   "execution_count": 5,
   "metadata": {},
   "outputs": [
    {
     "name": "stdout",
     "output_type": "stream",
     "text": [
      "AHHHH YEAHHHH!\n"
     ]
    }
   ],
   "source": [
    "%autoreload\n",
    "\n",
    "import matplotlib\n",
    "matplotlib.rc_file('matplotlibrc')\n",
    "import matplotlib.pyplot as plt\n",
    "\n",
    "%matplotlib inline\n",
    "\n",
    "matplotlib.rcParams['figure.figsize'] = [10,10]\n",
    "\n",
    "import copy\n",
    "\n",
    "from astropy.io import fits\n",
    "\n",
    "import numpy as np\n",
    "import pickle\n",
    "import darkhistory.physics as phys\n",
    "import darkhistory.utilities as utils\n",
    "import darkhistory.spec.spectools as spectools\n",
    "import darkhistory.spec.transferfunction as tf\n",
    "from darkhistory.spec.spectrum import Spectrum\n",
    "from darkhistory.spec.spectra import Spectra\n",
    "import darkhistory.history.tla as tla\n",
    "\n",
    "import main\n",
    "\n",
    "from darkhistory.electrons.ics.ics_spectrum import ics_spec\n",
    "from darkhistory.electrons.ics.ics_engloss_spectrum import engloss_spec\n",
    "from darkhistory.electrons.ics.ics_cooling import get_ics_cooling_tf\n",
    "\n",
    "np.set_printoptions(threshold=np.nan)"
   ]
  },
  {
   "cell_type": "markdown",
   "metadata": {},
   "source": [
    "# Example File for Comparison"
   ]
  },
  {
   "cell_type": "code",
   "execution_count": 6,
   "metadata": {},
   "outputs": [],
   "source": [
    "# direc = '/Users/GregoryRidgway/Desktop/Dark Matter/DH_Data/'\n",
    "direc = '/Users/hongwan/Dropbox (MIT)/Photon Deposition/idl_comparison/'\n",
    "hdul = fits.open(\n",
    "    direc+\n",
    "#     'tf_z_3.100E+01_nstep_2049_logE_5.657E+00_xe_0.000E+00.fits'\n",
    "    'tf_z_3.000E+03_nstep_3_logE_5.764E+00_xe_0.000E+00.fits'\n",
    ")\n",
    "data = hdul[1].data\n",
    "\n",
    "idl_photonspectrum = data.field('photonspectrum')[0]\n",
    "idl_lowengphot = data.field('lowengphot')[0]\n",
    "idl_lowengelec = data.field('lowengelec')[0]\n",
    "idl_energy = data.field('energy')[0]\n",
    "idl_eleceng = data.field('eleceng')[0]\n",
    "idl_redshift = data.field('redshift')[0]\n",
    "idl_cmblosstable = data.field('cmblosstable')[0]\n",
    "\n",
    "idl_bin_width = np.diff(np.log(spectools.get_bin_bound(data.field('energy')[0]))) * idl_energy\n",
    "idl_elec_bin_width = np.diff(np.log(spectools.get_bin_bound(data.field('eleceng')[0]))) * idl_eleceng\n",
    "\n"
   ]
  },
  {
   "cell_type": "markdown",
   "metadata": {},
   "source": [
    "Check that we understand the output of this file. The claim is that this file corresponds to the decay of a DM particle with mass given by $10^{5.657} \\times 2 $, with decay lifetime given by $0.5 \\times 10^{25}$ s. \n",
    "\n",
    "The total number of particles that should be present in the spectrum (which is the number of photons deposited in this timestep per baryon) is\n",
    "\n",
    "$$ \\frac{dN_\\gamma}{dN_B \\, d\\log z} \\times d \\log z = \\frac{dN_\\gamma}{dN_\\text{ann}} \\frac{dN_\\text{ann}}{dV \\, dt} \\frac{1}{n_B} \\frac{dt}{d \\log z} d \\log z = \\frac{dN_\\gamma}{dN_\\text{ann}} \\frac{dE}{dV \\, dt} \\frac{1}{m_\\chi n_B} \\frac{d \\log z}{H(z)} $$\n",
    "\n",
    "Here, because of the mismatch between the injection photons, 2 photons of $4.53942 \\times 10^5$ eV, and the bin in which it goes into, $4.2529 \\times 10^5$ eV, the number of photons per annihilation is given by $dN_\\gamma/dN_\\text{ann} = 2 \\times 4.53942/4.2529$. \n",
    "\n",
    "Note that we should expect a 1\\% difference in results, because of the difference in cosmological parameters, particularly `rho_DM`. `phys.rho_DM = `1262.3925 eV/cm$^3$, but the value used in the IDL code is 1274.4140 eV/cm$^3$."
   ]
  },
  {
   "cell_type": "code",
   "execution_count": 7,
   "metadata": {},
   "outputs": [
    {
     "name": "stdout",
     "output_type": "stream",
     "text": [
      "Expected # of photons injected in first step of IDL file:  6.535409770763645e-12\n",
      "# of photons injected in first step of IDL file:  6.60811596051082e-12\n",
      "Expected energy injected in first step of IDL file:  3.7837473762910907e-06\n",
      "Energy injected in first step of IDL file:  3.825843216420433e-06\n"
     ]
    }
   ],
   "source": [
    "# m_chi = 10**5.657*2\n",
    "m_chi = 581399*2\n",
    "rs = idl_redshift[0]\n",
    "\n",
    "dE_dVdt = phys.inj_rate('decay', rs, tau = 0.5e25)\n",
    "\n",
    "# fac = 2*4.53942/4.2529\n",
    "fac = m_chi / 578961\n",
    "\n",
    "dN_gamma_dN_B = fac*dE_dVdt/m_chi*0.001/phys.hubble(rs)/(phys.nB*rs**3)\n",
    "\n",
    "print('Expected # of photons injected in first step of IDL file: ', dN_gamma_dN_B)\n",
    "\n",
    "# Total number of particles in idl_photonspectrum[0,:], which is the initial injection\n",
    "total_N_init_spec = np.dot(idl_photonspectrum[0,:], idl_bin_width)\n",
    "print('# of photons injected in first step of IDL file: ', total_N_init_spec)\n",
    "\n",
    "# Expected energy is dN_gamma_dN_B times the energy of the bin of injection.\n",
    "# print('Expected energy injected in first step of IDL file: ', dN_gamma_dN_B*4.2529e5)\n",
    "print('Expected energy injected in first step of IDL file: ', dN_gamma_dN_B*578961)\n",
    "total_eng_init_spec = np.dot(idl_photonspectrum[0,:], idl_energy*idl_bin_width)\n",
    "print('Energy injected in first step of IDL file: ', total_eng_init_spec)\n"
   ]
  },
  {
   "cell_type": "markdown",
   "metadata": {},
   "source": [
    "# Transfer Function"
   ]
  },
  {
   "cell_type": "code",
   "execution_count": 8,
   "metadata": {},
   "outputs": [],
   "source": [
    "# direc = \"/Users/GregoryRidgway/Downloads/tflists/\"\n",
    "# highengphot_tflist_arr_raw = pickle.load(open(direc+\"tfunclist_photspec_60eV_injE_complete_rs_30_xe_2pts.raw\", \"rb\"))\n",
    "# lowengphot_tflist_arr_raw  = pickle.load(open(direc+\"tfunclist_lowengphotspec_60eV_injE_complete_rs_30_xe_2pts.raw\", \"rb\"))\n",
    "# lowengelec_tflist_arr_raw  = pickle.load(open(direc+\"tfunclist_lowengelecspec_60eV_injE_complete_rs_30_xe_2pts.raw\", \"rb\"))\n",
    "# CMB_engloss_raw = pickle.load(open(direc+\"CMB_engloss_60eV_injE_complete_rs_30_xe_2pts.raw\", \"rb\"))\n",
    "\n",
    "# direc = \"/Users/GregoryRidgway/Downloads/complete/\"\n",
    "direc = \"/Users/hongwan/Dropbox (MIT)/Photon Deposition/tflists/complete/\"\n",
    "highengphot_tflist_arr_raw = pickle.load(open(direc+\"tfunclist_photspec_60eV_complete.raw\", \"rb\"))\n",
    "lowengphot_tflist_arr_raw  = pickle.load(open(direc+\"tfunclist_lowengphotspec_60eV_complete.raw\", \"rb\"))\n",
    "lowengelec_tflist_arr_raw  = pickle.load(open(direc+\"tfunclist_lowengelecspec_60eV_complete.raw\", \"rb\"))\n",
    "highdep_raw = pickle.load(open(direc+\"highdeposited_60eV_complete.raw\", \"rb\"))"
   ]
  },
  {
   "cell_type": "markdown",
   "metadata": {},
   "source": [
    "Let's just check that the first transfer function, corresponding to a delta function injection at the appropriate mass bin, agrees well with the subsequent steps of the IDL file.\n",
    "\n",
    "Pick the `1` entry of the `tflist` for ionization, and the `-1` entry for the redshift of $1+z = 31$. The `114` entry in `in_eng` corresponds to $4.2529 \\times 10^5$ eV. Remember that we need to multiply by 2*`dN_gamma_dN_B` (the number of photons per baryon in each step of $d \\log z = 0.001$), since we are going to inject two steps of $d \\log z = 0.001$ to be equivalent to propagation over two steps in the IDL file. \n",
    "\n",
    "Also "
   ]
  },
  {
   "cell_type": "code",
   "execution_count": 11,
   "metadata": {},
   "outputs": [],
   "source": [
    "photeng = highengphot_tflist_arr_raw[0].eng\n",
    "tmpInd = spectools.get_indx(photeng, m_chi/2)\n",
    "if photeng[tmpInd] > m_chi/2:\n",
    "    tmpInd -= 1\n",
    "tmpInd -= len(photeng) - len(highengphot_tflist_arr_raw[0][0].in_eng)"
   ]
  },
  {
   "cell_type": "code",
   "execution_count": 14,
   "metadata": {},
   "outputs": [
    {
     "name": "stdout",
     "output_type": "stream",
     "text": [
      "580764.4175213124\n"
     ]
    }
   ],
   "source": [
    "tmpInd\n",
    "print(10**5.764)"
   ]
  },
  {
   "cell_type": "code",
   "execution_count": 12,
   "metadata": {
    "scrolled": false
   },
   "outputs": [
    {
     "name": "stdout",
     "output_type": "stream",
     "text": [
      "Chosen rs is:  3000.0003358532867\n",
      "Chosen in_eng is:  578961.2711524947\n"
     ]
    },
    {
     "data": {
      "text/plain": [
       "[<matplotlib.lines.Line2D at 0x192db59198>]"
      ]
     },
     "execution_count": 12,
     "metadata": {},
     "output_type": "execute_result"
    },
    {
     "data": {
      "image/png": "[encoded data removed]",
      "text/plain": [
       "<Figure size 720x720 with 1 Axes>"
      ]
     },
     "metadata": {},
     "output_type": "display_data"
    },
    {
     "data": {
      "image/png": "[encoded data removed]",
      "text/plain": [
       "<Figure size 720x720 with 1 Axes>"
      ]
     },
     "metadata": {},
     "output_type": "display_data"
    },
    {
     "data": {
      "image/png": "[encoded data removed]",
      "text/plain": [
       "<Figure size 720x720 with 1 Axes>"
      ]
     },
     "metadata": {},
     "output_type": "display_data"
    }
   ],
   "source": [
    "# tmpInd = 114\n",
    "# Get the transfer functions. \n",
    "highengphot_tf = highengphot_tflist_arr_raw[-1][-1]\n",
    "lowengphot_tf  = lowengphot_tflist_arr_raw[-1][-1]\n",
    "lowengelec_tf  = lowengelec_tflist_arr_raw[-1][-1]\n",
    "\n",
    "print('Chosen rs is: ', highengphot_tf.rs[-1])\n",
    "print('Chosen in_eng is: ', highengphot_tf.in_eng[tmpInd])\n",
    "\n",
    "plt.figure()\n",
    "ax = plt.gca()\n",
    "ax.loglog()\n",
    "\n",
    "plt.axis([1e5, 1e6, 1e-40, 1e-4])\n",
    "\n",
    "highengphot_tf.plot(ax, ind=tmpInd, indtype='ind', fac = dN_gamma_dN_B)\n",
    "# This is the right comparison, because idl_photonspectrum[2,:] contains the delta function\n",
    "# injection for the next step. \n",
    "plt.plot(idl_energy, (idl_photonspectrum[1,:] - idl_photonspectrum[0,:])*idl_bin_width)\n",
    "\n",
    "plt.figure()\n",
    "ax = plt.gca()\n",
    "ax.loglog()\n",
    "\n",
    "plt.axis([1e-4, 1e4, 1e-40, 1e-4])\n",
    "\n",
    "lowengphot_tf.plot(ax, ind=tmpInd, indtype='ind', fac = dN_gamma_dN_B)\n",
    "plt.plot(idl_energy, (idl_lowengphot[1,:])*idl_bin_width)\n",
    "\n",
    "plt.figure()\n",
    "ax = plt.gca()\n",
    "ax.loglog()\n",
    "\n",
    "plt.axis([1, 1e4, 1e-20, 1e-9])\n",
    "\n",
    "lowengelec_tf.plot(ax, ind=tmpInd, indtype='ind', fac = dN_gamma_dN_B)\n",
    "plt.plot(idl_eleceng, (idl_lowengelec[1,:])*idl_elec_bin_width)\n"
   ]
  },
  {
   "cell_type": "code",
   "execution_count": 220,
   "metadata": {
    "collapsed": true
   },
   "outputs": [
    {
     "name": "stdout",
     "output_type": "stream",
     "text": [
      "[[1.03931104e-04 1.79030521e-05 1.03931104e-04 1.77374845e-05]\n",
      " [1.12262993e-04 1.93250507e-05 1.12262993e-04 1.91463325e-05]\n",
      " [1.21262829e-04 2.08588390e-05 1.21262829e-04 2.06659356e-05]\n",
      " [1.30984159e-04 2.25130298e-05 1.30984159e-04 2.23048284e-05]\n",
      " [1.41484823e-04 2.42968399e-05 1.41484823e-04 2.40721428e-05]\n",
      " [1.52827298e-04 2.62201684e-05 1.52827298e-04 2.59776856e-05]\n",
      " [1.65079070e-04 2.82936144e-05 1.65079070e-04 2.80319576e-05]\n",
      " [1.78313035e-04 3.05285612e-05 1.78313035e-04 3.02462345e-05]\n",
      " [1.92607933e-04 3.29371906e-05 1.92607933e-04 3.26325956e-05]\n",
      " [2.08048817e-04 3.55324482e-05 2.08048817e-04 3.52038524e-05]\n",
      " [2.24727556e-04 3.83283223e-05 2.24727556e-04 3.79738712e-05]\n",
      " [2.42743387e-04 4.13395828e-05 2.42743387e-04 4.09572837e-05]\n",
      " [2.62203501e-04 4.45821242e-05 2.62203501e-04 4.41698420e-05]\n",
      " [2.83223683e-04 4.80727504e-05 2.83223683e-04 4.76282437e-05]\n",
      " [3.05928998e-04 5.18295092e-05 3.05928998e-04 5.13502113e-05]\n",
      " [3.30454541e-04 5.58714273e-05 3.30454541e-04 5.53547545e-05]\n",
      " [3.56946233e-04 6.02186956e-05 3.56946233e-04 5.96618283e-05]\n",
      " [3.85561696e-04 6.48928108e-05 3.85561696e-04 6.42927270e-05]\n",
      " [4.16471187e-04 6.99164302e-05 4.16471187e-04 6.92698929e-05]\n",
      " [4.49858613e-04 7.53133863e-05 4.49858613e-04 7.46169484e-05]\n",
      " [4.85922622e-04 8.11089121e-05 4.85922622e-04 8.03588881e-05]\n",
      " [5.24877791e-04 8.73294193e-05 5.24877791e-04 8.65218873e-05]\n",
      " [5.66955896e-04 9.40025056e-05 5.66955896e-04 9.31332796e-05]\n",
      " [6.12407295e-04 1.01157020e-04 6.12407295e-04 1.00221640e-04]\n",
      " [6.61502415e-04 1.08823107e-04 6.61502415e-04 1.07816854e-04]\n",
      " [7.14533365e-04 1.17031552e-04 7.14533365e-04 1.15949410e-04]\n",
      " [7.71815671e-04 1.25814389e-04 7.71815671e-04 1.24651052e-04]\n",
      " [8.33690151e-04 1.35204260e-04 8.33690151e-04 1.33954115e-04]\n",
      " [9.00524950e-04 1.45234691e-04 9.00524950e-04 1.43891831e-04]\n",
      " [9.72717723e-04 1.55938644e-04 9.72717723e-04 1.54496841e-04]\n",
      " [1.05069801e-03 1.67350183e-04 1.05069801e-03 1.65802900e-04]\n",
      " [1.13492977e-03 1.79502356e-04 1.13492977e-03 1.77842748e-04]\n",
      " [1.22591417e-03 1.92427047e-04 1.22591417e-03 1.90647999e-04]\n",
      " [1.32419256e-03 2.06154815e-04 1.32419256e-03 2.04248899e-04]\n",
      " [1.43034968e-03 2.20714966e-04 1.43034968e-03 2.18674483e-04]\n",
      " [1.54501714e-03 2.36133084e-04 1.54501714e-03 2.33950110e-04]\n",
      " [1.66887720e-03 2.52429774e-04 1.66887720e-03 2.50096223e-04]\n",
      " [1.80266680e-03 2.69623502e-04 1.80266680e-03 2.67131077e-04]\n",
      " [1.94718197e-03 2.87725386e-04 1.94718197e-03 2.85065735e-04]\n",
      " [2.10328255e-03 3.06736998e-04 2.10328255e-03 3.03901704e-04]\n",
      " [2.27189731e-03 3.26654437e-04 2.27189731e-03 3.23635182e-04]\n",
      " [2.45402948e-03 3.47462395e-04 2.45402948e-03 3.44250929e-04]\n",
      " [2.65076273e-03 3.69130372e-04 2.65076273e-03 3.65718775e-04]\n",
      " [2.86326757e-03 3.91615991e-04 2.86326757e-03 3.87996787e-04]\n",
      " [3.09280838e-03 4.14861395e-04 3.09280838e-03 4.11027533e-04]\n",
      " [3.34075088e-03 4.38786839e-04 3.34075088e-03 4.34732087e-04]\n",
      " [3.60857031e-03 4.63290460e-04 3.60857031e-03 4.59009488e-04]\n",
      " [3.89786012e-03 4.88252728e-04 3.89786012e-03 4.83741370e-04]\n",
      " [4.21034156e-03 5.13524748e-04 4.21034156e-03 5.08780162e-04]\n",
      " [4.54787383e-03 5.38923137e-04 4.54787383e-03 5.33944227e-04]\n",
      " [4.91246520e-03 5.64246846e-04 4.91246520e-03 5.59034221e-04]\n",
      " [5.30628492e-03 5.89258911e-04 5.30628492e-03 5.83815951e-04]\n",
      " [5.73167616e-03 6.13683427e-04 5.73167616e-03 6.08014864e-04]\n",
      " [6.19116992e-03 6.37220219e-04 6.19116992e-03 6.31334941e-04]\n",
      " [6.68750012e-03 6.59540587e-04 6.68750012e-03 6.53449202e-04]\n",
      " [7.22361983e-03 6.80277590e-04 7.22361983e-03 6.73995032e-04]\n",
      " [7.80271889e-03 6.99041877e-04 7.80271889e-03 6.92586379e-04]\n",
      " [8.42824282e-03 7.15434202e-04 8.42824282e-03 7.08827661e-04]\n",
      " [9.10391341e-03 7.29036110e-04 9.10391341e-03 7.22304228e-04]\n",
      " [9.83375077e-03 7.39415584e-04 9.83375077e-03 7.32588052e-04]\n",
      " [1.06220973e-02 7.46175530e-04 1.06220973e-02 7.39285649e-04]\n",
      " [1.14736436e-02 7.48930266e-04 1.14736436e-02 7.42014990e-04]\n",
      " [1.23934561e-02 7.47321930e-04 1.23934561e-02 7.40421286e-04]\n",
      " [1.33870077e-02 7.41072465e-04 1.33870077e-02 7.34229155e-04]\n",
      " [1.44602097e-02 7.29974592e-04 1.44602097e-02 7.23233218e-04]\n",
      " [1.56194476e-02 7.13907939e-04 1.56194476e-02 7.07314193e-04]\n",
      " [1.68716186e-02 6.92872854e-04 1.68716186e-02 6.86472298e-04]\n",
      " [1.82241730e-02 6.67005836e-04 1.82241730e-02 6.60842907e-04]\n",
      " [1.96851581e-02 6.36572193e-04 1.96851581e-02 6.30688942e-04]\n",
      " [2.12632667e-02 6.01985143e-04 2.12632667e-02 5.96419671e-04]\n",
      " [2.29678882e-02 5.63803827e-04 2.29678882e-02 5.58589227e-04]\n",
      " [2.48091648e-02 5.22713293e-04 2.48091648e-02 5.17876360e-04]\n",
      " [2.67980519e-02 4.79508337e-04 2.67980519e-02 4.75068565e-04]\n",
      " [2.89463829e-02 4.35058988e-04 2.89463829e-02 4.31028019e-04]\n",
      " [3.12669401e-02 3.90267058e-04 3.12669401e-02 3.86648208e-04]\n",
      " [3.37735304e-02 3.46041197e-04 3.37735304e-02 3.42829525e-04]\n",
      " [3.64810676e-02 3.03226552e-04 3.64810676e-02 3.00409311e-04]\n",
      " [3.94056611e-02 2.62565911e-04 3.94056611e-02 2.60123598e-04]\n",
      " [4.25647118e-02 2.24678137e-04 4.25647118e-02 2.22585546e-04]\n",
      " [4.59770155e-02 1.90030129e-04 4.59770155e-02 1.88257749e-04]\n",
      " [4.96628748e-02 1.58893716e-04 4.96628748e-02 1.57409478e-04]\n",
      " [5.36442199e-02 1.31388311e-04 5.36442199e-02 1.30159012e-04]\n",
      " [5.79447393e-02 1.07500462e-04 5.79447393e-02 1.06492958e-04]\n",
      " [6.25900203e-02 8.70525109e-05 6.25900203e-02 8.62352289e-05]\n",
      " [6.76077015e-02 6.97942742e-05 6.76077015e-02 6.91378640e-05]\n",
      " [7.30276373e-02 5.54245526e-05 7.30276373e-02 5.49023768e-05]\n",
      " [7.88820755e-02 4.35965558e-05 7.88820755e-02 4.31851101e-05]\n",
      " [8.52058489e-02 3.39636972e-05 8.52058489e-02 3.36426309e-05]\n",
      " [9.20365831e-02 2.62015892e-05 9.20365831e-02 2.59535054e-05]\n",
      " [9.94149196e-02 2.00094055e-05 9.94149196e-02 1.98196670e-05]\n",
      " [1.07384758e-01 1.51146123e-05 1.07384758e-01 1.49710881e-05]\n",
      " [1.15993519e-01 1.12847374e-05 1.15993519e-01 1.11774388e-05]\n",
      " [1.25292421e-01 8.32241221e-06 1.25292421e-01 8.24318459e-06]\n",
      " [1.35336793e-01 6.05483956e-06 1.35336793e-01 5.99713427e-06]\n",
      " [1.46186396e-01 4.34059257e-06 1.46186396e-01 4.29918137e-06]\n",
      " [1.57905784e-01 3.06342531e-06 1.57905784e-01 3.03417090e-06]\n",
      " [1.70564686e-01 2.12514396e-06 1.70564686e-01 2.10483208e-06]\n",
      " [1.84238419e-01 1.44683054e-06 1.84238419e-01 1.43299071e-06]\n",
      " [1.99008340e-01 9.65435106e-07 1.99008340e-01 9.56193224e-07]\n",
      " [2.14962327e-01 6.30375496e-07 2.14962327e-01 6.24337037e-07]\n",
      " [2.32195305e-01 4.01882716e-07 2.32195305e-01 3.98030634e-07]\n",
      " [2.50809807e-01 2.49691197e-07 2.50809807e-01 2.47296546e-07]\n",
      " [2.70916585e-01 1.50953070e-07 2.70916585e-01 1.49504620e-07]\n",
      " [2.92635272e-01 8.85331417e-08 2.92635272e-01 8.76832318e-08]\n",
      " [3.16095090e-01 5.02437381e-08 3.16095090e-01 4.97612004e-08]\n",
      " [3.41435622e-01 2.75490013e-08 3.41435622e-01 2.72843185e-08]\n",
      " [3.68807639e-01 1.45386947e-08 3.68807639e-01 1.43989621e-08]\n",
      " [3.98374000e-01 7.36028438e-09 3.98374000e-01 7.28952059e-09]\n",
      " [4.30310621e-01 3.56632368e-09 4.30310621e-01 3.53202570e-09]\n",
      " [4.64807519e-01 1.64766967e-09 4.64807519e-01 1.63181953e-09]\n",
      " [5.02069944e-01 7.22433724e-10 5.02069944e-01 7.15482370e-10]\n",
      " [5.42319603e-01 2.99552744e-10 5.42319603e-01 2.96669733e-10]\n",
      " [5.85795973e-01 1.17111654e-10 5.85795973e-01 1.15984292e-10]\n",
      " [6.32757732e-01 4.28744922e-11 6.32757732e-01 4.24616808e-11]\n",
      " [6.83484294e-01 1.46173976e-11 6.83484294e-01 1.44766301e-11]\n",
      " [7.38277475e-01 4.63644704e-12 7.38277475e-01 4.59178989e-12]\n",
      " [7.97463285e-01 1.35454527e-12 7.97463285e-01 1.34149656e-12]\n",
      " [8.61393869e-01 3.61958266e-13 8.61393869e-01 3.58470885e-13]\n",
      " [9.30449604e-01 8.82589290e-14 9.30449604e-01 8.74084560e-14]\n",
      " [1.00504136e+00 1.94592064e-14 1.00504136e+00 1.92716674e-14]\n",
      " [1.08561294e+00 3.83838316e-15 1.08561294e+00 3.80138511e-15]\n",
      " [1.17264375e+00 6.74055479e-16 1.17264375e+00 6.67557132e-16]\n",
      " [1.26665159e+00 1.04902205e-16 1.26665159e+00 1.03890641e-16]\n",
      " [1.36819579e+00 1.42580130e-17 1.36819579e+00 1.41204735e-17]\n",
      " [1.47788053e+00 1.68368250e-18 1.47788053e+00 1.66742928e-18]\n",
      " [1.59635842e+00 1.75926492e-19 1.59635842e+00 1.74225645e-19]\n",
      " [1.72433438e+00 1.64289492e-20 1.72433438e+00 1.62695876e-20]\n",
      " [1.86256984e+00 1.46319435e-21 1.86256984e+00 1.44880672e-21]\n",
      " [2.01188728e+00 1.40215015e-22 2.01188728e+00 1.38833697e-22]\n",
      " [2.17317512e+00 1.49819800e-23 2.17317512e+00 1.48332588e-23]\n",
      " [2.34739299e+00 1.64949060e-24 2.34739299e+00 1.63294902e-24]\n",
      " [2.53557745e+00 1.69367598e-25 2.53557745e+00 1.67677331e-25]\n",
      " [2.73884819e+00 1.51816605e-26 2.73884819e+00 1.50300845e-26]\n",
      " [2.95841462e+00 1.13449436e-27 2.95841462e+00 1.12316590e-27]\n",
      " [3.19558312e+00 6.92686163e-29 3.19558312e+00 6.85769091e-29]\n",
      " [3.45176481e+00 3.46203813e-30 3.45176481e+00 3.42746618e-30]\n",
      " [3.72848394e+00 1.35957359e-31 3.72848394e+00 1.34599657e-31]\n",
      " [4.02738692e+00 4.08535494e-33 4.02738692e+00 4.04455744e-33]\n",
      " [4.35025219e+00 9.64561762e-35 4.35025219e+00 9.54930625e-35]\n",
      " [4.69900074e+00 2.23746765e-36 4.69900074e+00 2.21526113e-36]\n",
      " [5.07570756e+00 5.91992191e-37 5.07570756e+00 5.86218277e-37]\n",
      " [5.48261400e+00 5.71577716e-37 5.48261400e+00 5.66007645e-37]\n",
      " [5.92214109e+00 5.71394762e-37 5.92214109e+00 5.65826555e-37]\n",
      " [6.39690394e+00 5.71392341e-37 6.39690394e+00 5.65824130e-37]\n",
      " [6.90972730e+00 5.71390951e-37 6.90972730e+00 5.65822782e-37]\n",
      " [7.46366240e+00 5.71389471e-37 7.46366240e+00 5.65821300e-37]\n",
      " [8.06200505e+00 5.71387857e-37 8.06200505e+00 5.65819683e-37]\n",
      " [8.70831529e+00 5.71386108e-37 8.70831529e+00 5.65817999e-37]\n",
      " [9.40643857e+00 5.71384224e-37 9.40643857e+00 5.65816113e-37]\n",
      " [1.01605286e+01 5.71382207e-37 1.01605286e+01 5.65814092e-37]\n",
      " [1.09750721e+01 5.71380009e-37 1.09750721e+01 5.65811936e-37]\n",
      " [1.18549154e+01 5.71377678e-37 1.18549154e+01 5.65809578e-37]\n",
      " [1.28052936e+01 5.71375077e-37 1.28052936e+01 5.65807085e-37]\n",
      " [1.38318611e+01 5.71372341e-37 1.38318611e+01 5.65804323e-37]\n",
      " [1.49407259e+01 5.71369337e-37 1.49407259e+01 5.65801359e-37]\n",
      " [1.61384855e+01 5.71366153e-37 1.61384855e+01 5.65798192e-37]\n",
      " [1.74322664e+01 5.71362656e-37 1.74322664e+01 5.65794757e-37]\n",
      " [1.88297665e+01 5.71358889e-37 1.88297665e+01 5.65791051e-37]\n",
      " [2.03393005e+01 5.71354853e-37 2.03393005e+01 5.65787009e-37]\n",
      " [2.19698500e+01 5.71350459e-37 2.19698500e+01 5.65782630e-37]\n",
      " [2.37311165e+01 5.71345706e-37 2.37311165e+01 5.65777981e-37]\n",
      " [2.56335792e+01 5.71340594e-37 2.56335792e+01 5.65772861e-37]\n",
      " [2.76885574e+01 5.71335078e-37 2.76885574e+01 5.65767404e-37]\n",
      " [2.99082779e+01 5.71329069e-37 2.99082779e+01 5.65761476e-37]\n",
      " [3.23059478e+01 5.71322657e-37 3.23059478e+01 5.65755143e-37]\n",
      " [3.48958327e+01 5.71315662e-37 3.48958327e+01 5.65748204e-37]\n",
      " [3.76933420e+01 5.71308128e-37 3.76933420e+01 5.65740793e-37]\n",
      " [4.07151204e+01 5.71300012e-37 4.07151204e+01 5.65732709e-37]\n",
      " [4.39791471e+01 5.71291223e-37 4.39791471e+01 5.65724018e-37]\n",
      " [4.75048424e+01 5.71281762e-37 4.75048424e+01 5.65714654e-37]\n",
      " [5.13131836e+01 5.71271538e-37 5.13131836e+01 5.65704481e-37]\n",
      " [5.54268298e+01 5.71260462e-37 5.54268298e+01 5.65693567e-37]\n",
      " [5.98702564e+01 5.71248489e-37 5.98702564e+01 5.65681710e-37]\n",
      " [6.46699012e+01 5.71235575e-37 6.46699012e+01 5.65668910e-37]\n",
      " [6.98543211e+01 5.71221674e-37 6.98543211e+01 5.65655099e-37]\n",
      " [7.54543627e+01 5.71206607e-37 7.54543627e+01 5.65640210e-37]\n",
      " [8.15033452e+01 5.71190330e-37 8.15033452e+01 5.65624109e-37]\n",
      " [8.80372591e+01 5.71172752e-37 8.80372591e+01 5.65606728e-37]\n",
      " [9.50949801e+01 5.71153784e-37 9.50949801e+01 5.65587932e-37]\n",
      " [1.02718501e+02 5.71133291e-37 1.02718501e+02 5.65567586e-37]\n",
      " [1.10953179e+02 5.71111139e-37 1.10953179e+02 5.65545691e-37]\n",
      " [1.19848010e+02 5.71087239e-37 1.19848010e+02 5.65522044e-37]\n",
      " [1.29455918e+02 5.71061410e-37 1.29455918e+02 5.65496444e-37]\n",
      " [1.39834066e+02 5.71033519e-37 1.39834066e+02 5.65468822e-37]\n",
      " [1.51044204e+02 5.71003385e-37 1.51044204e+02 5.65438977e-37]\n",
      " [1.63153030e+02 5.70970830e-37 1.63153030e+02 5.65406775e-37]\n",
      " [1.76232590e+02 5.70935674e-37 1.76232590e+02 5.65371944e-37]\n",
      " [1.90360704e+02 5.70897738e-37 1.90360704e+02 5.65334352e-37]\n",
      " [2.05621433e+02 5.70856753e-37 2.05621433e+02 5.65293728e-37]\n",
      " [2.22105575e+02 5.70812450e-37 2.22105575e+02 5.65249871e-37]\n",
      " [2.39911209e+02 5.70764604e-37 2.39911209e+02 5.65202510e-37]\n",
      " [2.59144275e+02 5.70712946e-37 2.59144275e+02 5.65151376e-37]\n",
      " [2.79919206e+02 5.70657164e-37 2.79919206e+02 5.65096133e-37]\n",
      " [3.02359610e+02 5.70596941e-37 3.02359610e+02 5.65036477e-37]\n",
      " [3.26599003e+02 5.70531876e-37 3.26599003e+02 5.64972038e-37]\n",
      " [3.52781607e+02 5.70461565e-37 3.52781607e+02 5.64902445e-37]\n",
      " [3.81063203e+02 5.70385693e-37 3.81063203e+02 5.64827294e-37]\n",
      " [4.11612061e+02 5.70303722e-37 4.11612061e+02 5.64746148e-37]\n",
      " [4.44609943e+02 5.70215205e-37 4.44609943e+02 5.64658500e-37]\n",
      " [4.80253181e+02 5.70119648e-37 4.80253181e+02 5.64563845e-37]\n",
      " [5.18753845e+02 5.70016423e-37 5.18753845e+02 5.64461612e-37]\n",
      " [5.60341009e+02 5.69904947e-37 5.60341009e+02 5.64351227e-37]\n",
      " [6.05262109e+02 5.69784592e-37 6.05262109e+02 5.64232050e-37]\n",
      " [6.53784418e+02 5.69654596e-37 6.53784418e+02 5.64103340e-37]\n",
      " [7.06196636e+02 5.69514287e-37 7.06196636e+02 5.63964390e-37]\n",
      " [7.62810608e+02 5.69362767e-37 7.62810608e+02 5.63814324e-37]\n",
      " [8.23963175e+02 5.69199141e-37 8.23963175e+02 5.63652300e-37]\n",
      " [8.90018188e+02 5.69022510e-37 8.90018188e+02 5.63477375e-37]\n",
      " [9.61368660e+02 5.68831799e-37 9.61368660e+02 5.63288537e-37]\n",
      " [1.03843912e+03 5.68625886e-37 1.03843912e+03 5.63084643e-37]\n",
      " [1.12168812e+03 5.68403607e-37 1.12168812e+03 5.62864546e-37]\n",
      " [1.21161097e+03 5.68163659e-37 1.21161097e+03 5.62626933e-37]\n",
      " [1.30874271e+03 5.67904655e-37 1.30874271e+03 5.62370423e-37]\n",
      " [1.41366126e+03 5.67625068e-37 1.41366126e+03 5.62093601e-37]\n",
      " [1.52699085e+03 5.67323329e-37 1.52699085e+03 5.61794783e-37]\n",
      " [1.64940578e+03 5.66997645e-37 1.64940578e+03 5.61472285e-37]\n",
      " [1.78163441e+03 5.66646177e-37 1.78163441e+03 5.61124253e-37]\n",
      " [1.92446347e+03 5.66266907e-37 1.92446347e+03 5.60748667e-37]\n",
      " [2.07874276e+03 5.65857683e-37 2.07874276e+03 5.60343405e-37]\n",
      " [2.24539023e+03 5.65416128e-37 2.24539023e+03 5.59906176e-37]\n",
      " [2.42539740e+03 5.64939776e-37 2.42539740e+03 5.59434453e-37]\n",
      " [2.61983528e+03 5.64425892e-37 2.61983528e+03 5.58925610e-37]\n",
      " [2.82986075e+03 5.63871650e-37 2.82986075e+03 5.58376749e-37]\n",
      " [3.05672342e+03 5.63273868e-37 3.05672342e+03 5.57784806e-37]\n",
      " [3.30177309e+03 5.62629270e-37 3.30177309e+03 5.57146478e-37]\n",
      " [3.56646776e+03 5.61934271e-37 3.56646776e+03 5.56458229e-37]\n",
      " [3.85238232e+03 5.61185014e-37 3.85238232e+03 5.55716287e-37]\n",
      " [4.16121792e+03 5.60377417e-37 4.16121792e+03 5.54916542e-37]\n",
      " [4.49481208e+03 5.59507043e-37 4.49481208e+03 5.54054648e-37]\n",
      " [4.85514962e+03 5.58569227e-37 4.85514962e+03 5.53125991e-37]\n",
      " [5.24437450e+03 5.57558947e-37 5.24437450e+03 5.52125551e-37]\n",
      " [5.66480254e+03 5.56470866e-37 5.66480254e+03 5.51048074e-37]\n",
      " [6.11893522e+03 5.55299201e-37 6.11893522e+03 5.49887800e-37]\n",
      " [6.60947454e+03 5.54037853e-37 6.60947454e+03 5.48638800e-37]\n",
      " [7.13933915e+03 5.52680410e-37 7.13933915e+03 5.47294573e-37]\n",
      " [7.71168164e+03 5.51219921e-37 7.71168164e+03 5.45848315e-37]\n",
      " [8.32990735e+03 5.49649121e-37 8.32990735e+03 5.44292816e-37]\n",
      " [8.99769464e+03 5.47960209e-37 8.99769464e+03 5.42620364e-37]\n",
      " [9.71901671e+03 5.46145068e-37 9.71901671e+03 5.40822908e-37]\n",
      " [1.04981653e+04 5.44194999e-37 1.04981653e+04 5.38891857e-37]\n",
      " [1.13397763e+04 5.42100943e-37 1.13397763e+04 5.36818219e-37]\n",
      " [1.22488570e+04 5.39853395e-37 1.22488570e+04 5.34592527e-37]\n",
      " [1.32308165e+04 5.37442265e-37 1.32308165e+04 5.32204912e-37]\n",
      " [1.42914970e+04 5.34857194e-37 1.42914970e+04 5.29645033e-37]\n",
      " [1.54372097e+04 5.32087376e-37 1.54372097e+04 5.26902211e-37]\n",
      " [1.66747711e+04 5.29121556e-37 1.66747711e+04 5.23965298e-37]\n",
      " [1.80115447e+04 5.25948254e-37 1.80115447e+04 5.20822907e-37]\n",
      " [1.94554840e+04 5.22555587e-37 1.94554840e+04 5.17463282e-37]\n",
      " [2.10151802e+04 5.18931538e-37 2.10151802e+04 5.13874567e-37]\n",
      " [2.26999132e+04 5.15064044e-37 2.26999132e+04 5.10044770e-37]\n",
      " [2.45197070e+04 5.10940998e-37 2.45197070e+04 5.05961865e-37]\n",
      " [2.64853890e+04 5.06550382e-37 2.64853890e+04 5.01614062e-37]\n",
      " [2.86086546e+04 5.01880673e-37 2.86086546e+04 4.96989875e-37]\n",
      " [3.09021370e+04 4.96920749e-37 3.09021370e+04 4.92078289e-37]\n",
      " [3.33794819e+04 4.91660386e-37 3.33794819e+04 4.86869165e-37]\n",
      " [3.60554293e+04 4.86090303e-37 3.60554293e+04 4.81353408e-37]\n",
      " [3.89459005e+04 4.80202877e-37 3.89459005e+04 4.75523304e-37]\n",
      " [4.20680933e+04 4.73992053e-37 4.20680933e+04 4.69373025e-37]\n",
      " [4.54405844e+04 4.67454334e-37 4.54405844e+04 4.62899002e-37]\n",
      " [4.90834394e+04 4.60588869e-37 4.90834394e+04 4.56100459e-37]\n",
      " [5.30183327e+04 4.53398436e-37 5.30183327e+04 4.48980057e-37]\n",
      " [5.72686763e+04 4.45889808e-37 5.72686763e+04 4.41544601e-37]\n",
      " [6.18597590e+04 4.38074868e-37 6.18597590e+04 4.33805814e-37]\n",
      " [6.68188970e+04 4.29971327e-37 6.68188970e+04 4.25781277e-37]\n",
      " [7.21755965e+04 4.21603893e-37 7.21755965e+04 4.17495380e-37]\n",
      " [7.79617287e+04 4.13005302e-37 7.79617287e+04 4.08980561e-37]\n",
      " [8.42117203e+04 4.04217703e-37 8.42117203e+04 4.00278623e-37]\n",
      " [9.09627577e+04 3.95294234e-37 9.09627577e+04 3.91442113e-37]\n",
      " [9.82550085e+04 3.86300634e-37 9.82550085e+04 3.82536146e-37]\n",
      " [1.06131860e+05 3.77317257e-37 1.06131860e+05 3.73640318e-37]\n",
      " [1.14640179e+05 3.68441432e-37 1.14640179e+05 3.64850967e-37]\n",
      " [1.23830588e+05 3.59790085e-37 1.23830588e+05 3.56283936e-37]\n",
      " [1.33757768e+05 3.51503142e-37 1.33757768e+05 3.48077771e-37]\n",
      " [1.44480785e+05 3.43747751e-37 1.44480785e+05 3.40397932e-37]\n",
      " [1.56063438e+05 4.75723937e-18 1.56063438e+05 4.71088072e-18]\n",
      " [1.68574644e+05 1.91960612e-17 1.68574644e+05 1.90089989e-17]\n",
      " [1.82088840e+05 1.56806677e-17 1.82088840e+05 1.55278630e-17]\n",
      " [1.96686435e+05 1.31266582e-17 1.96686435e+05 1.29987415e-17]\n",
      " [2.12454281e+05 1.13706356e-17 2.12454281e+05 1.12598307e-17]\n",
      " [2.29486195e+05 1.02751342e-17 2.29486195e+05 1.01750047e-17]\n",
      " [2.47883514e+05 9.72477121e-18 2.47883514e+05 9.63000490e-18]\n",
      " [2.67755699e+05 9.62296926e-18 2.67755699e+05 9.52919479e-18]\n",
      " [2.89220986e+05 9.88915267e-18 2.89220986e+05 9.79278417e-18]\n",
      " [3.12407090e+05 1.04563670e-17 3.12407090e+05 1.03544710e-17]\n",
      " [3.37451964e+05 1.12692431e-17 3.37451964e+05 1.11594264e-17]\n",
      " [3.64504622e+05 1.22822722e-17 3.64504622e+05 1.21625837e-17]\n",
      " [3.93726021e+05 4.84118886e-15 3.93726021e+05 4.79401244e-15]\n",
      " [4.25290026e+05 3.40622468e-13 4.25290026e+05 3.36789550e-13]\n",
      " [4.59384435e+05 0.00000000e+00 4.59384435e+05 0.00000000e+00]\n",
      " [4.96212106e+05 0.00000000e+00 4.96212106e+05 0.00000000e+00]\n",
      " [5.35992156e+05 0.00000000e+00 5.35992156e+05 0.00000000e+00]\n",
      " [5.78961271e+05 0.00000000e+00 5.78961271e+05 0.00000000e+00]\n",
      " [6.25375110e+05 0.00000000e+00 6.25375110e+05 0.00000000e+00]\n",
      " [6.75509827e+05 0.00000000e+00 6.75509827e+05 0.00000000e+00]\n",
      " [7.29663715e+05 0.00000000e+00 7.29663715e+05 0.00000000e+00]\n",
      " [7.88158981e+05 0.00000000e+00 7.88158981e+05 0.00000000e+00]\n",
      " [8.51343663e+05 0.00000000e+00 8.51343663e+05 0.00000000e+00]\n",
      " [9.19593699e+05 0.00000000e+00 9.19593699e+05 0.00000000e+00]\n",
      " [9.93315165e+05 0.00000000e+00 9.93315165e+05 0.00000000e+00]\n",
      " [1.07294669e+06 0.00000000e+00 1.07294669e+06 0.00000000e+00]\n",
      " [1.15896207e+06 0.00000000e+00 1.15896207e+06 0.00000000e+00]\n",
      " [1.25187309e+06 0.00000000e+00 1.25187309e+06 0.00000000e+00]\n",
      " [1.35223254e+06 0.00000000e+00 1.35223254e+06 0.00000000e+00]\n",
      " [1.46063755e+06 0.00000000e+00 1.46063755e+06 0.00000000e+00]\n",
      " [1.57773311e+06 0.00000000e+00 1.57773311e+06 0.00000000e+00]\n",
      " [1.70421592e+06 0.00000000e+00 1.70421592e+06 0.00000000e+00]\n",
      " [1.84083854e+06 0.00000000e+00 1.84083854e+06 0.00000000e+00]\n",
      " [1.98841384e+06 0.00000000e+00 1.98841384e+06 0.00000000e+00]\n",
      " [2.14781987e+06 0.00000000e+00 2.14781987e+06 0.00000000e+00]\n",
      " [2.32000507e+06 0.00000000e+00 2.32000507e+06 0.00000000e+00]\n",
      " [2.50599392e+06 0.00000000e+00 2.50599392e+06 0.00000000e+00]\n",
      " [2.70689302e+06 0.00000000e+00 2.70689302e+06 0.00000000e+00]\n",
      " [2.92389768e+06 0.00000000e+00 2.92389768e+06 0.00000000e+00]\n",
      " [3.15829905e+06 0.00000000e+00 3.15829905e+06 0.00000000e+00]\n",
      " [3.41149178e+06 0.00000000e+00 3.41149178e+06 0.00000000e+00]\n",
      " [3.68498231e+06 0.00000000e+00 3.68498231e+06 0.00000000e+00]\n",
      " [3.98039789e+06 0.00000000e+00 3.98039789e+06 0.00000000e+00]\n",
      " [4.29949616e+06 0.00000000e+00 4.29949616e+06 0.00000000e+00]\n",
      " [4.64417573e+06 0.00000000e+00 4.64417573e+06 0.00000000e+00]\n",
      " [5.01648738e+06 0.00000000e+00 5.01648738e+06 0.00000000e+00]\n",
      " [5.41864629e+06 0.00000000e+00 5.41864629e+06 0.00000000e+00]\n",
      " [5.85304525e+06 0.00000000e+00 5.85304525e+06 0.00000000e+00]\n",
      " [6.32226886e+06 0.00000000e+00 6.32226886e+06 0.00000000e+00]\n",
      " [6.82910892e+06 0.00000000e+00 6.82910892e+06 0.00000000e+00]\n",
      " [7.37658105e+06 0.00000000e+00 7.37658105e+06 0.00000000e+00]\n",
      " [7.96794261e+06 0.00000000e+00 7.96794261e+06 0.00000000e+00]\n",
      " [8.60671211e+06 0.00000000e+00 8.60671211e+06 0.00000000e+00]\n",
      " [9.29669012e+06 0.00000000e+00 9.29669012e+06 0.00000000e+00]\n",
      " [1.00419819e+07 0.00000000e+00 1.00419819e+07 0.00000000e+00]\n",
      " [1.08470218e+07 0.00000000e+00 1.08470218e+07 0.00000000e+00]\n",
      " [1.17165997e+07 0.00000000e+00 1.17165997e+07 0.00000000e+00]\n",
      " [1.26558894e+07 0.00000000e+00 1.26558894e+07 0.00000000e+00]\n",
      " [1.36704796e+07 0.00000000e+00 1.36704796e+07 0.00000000e+00]\n",
      " [1.47664068e+07 0.00000000e+00 1.47664068e+07 0.00000000e+00]\n",
      " [1.59501917e+07 0.00000000e+00 1.59501917e+07 0.00000000e+00]\n",
      " [1.72288776e+07 0.00000000e+00 1.72288776e+07 0.00000000e+00]\n",
      " [1.86100725e+07 0.00000000e+00 1.86100725e+07 0.00000000e+00]\n",
      " [2.01019943e+07 0.00000000e+00 2.01019943e+07 0.00000000e+00]\n",
      " [2.17135195e+07 0.00000000e+00 2.17135195e+07 0.00000000e+00]\n",
      " [2.34542366e+07 0.00000000e+00 2.34542366e+07 0.00000000e+00]\n",
      " [2.53345026e+07 0.00000000e+00 2.53345026e+07 0.00000000e+00]\n",
      " [2.73655046e+07 0.00000000e+00 2.73655046e+07 0.00000000e+00]\n",
      " [2.95593268e+07 0.00000000e+00 2.95593268e+07 0.00000000e+00]\n",
      " [3.19290222e+07 0.00000000e+00 3.19290222e+07 0.00000000e+00]\n",
      " [3.44886899e+07 0.00000000e+00 3.44886899e+07 0.00000000e+00]\n",
      " [3.72535596e+07 0.00000000e+00 3.72535596e+07 0.00000000e+00]\n",
      " [4.02400818e+07 0.00000000e+00 4.02400818e+07 0.00000000e+00]\n",
      " [4.34660259e+07 0.00000000e+00 4.34660259e+07 0.00000000e+00]\n",
      " [4.69505856e+07 0.00000000e+00 4.69505856e+07 0.00000000e+00]\n",
      " [5.07144935e+07 0.00000000e+00 5.07144935e+07 0.00000000e+00]\n",
      " [5.47801442e+07 0.00000000e+00 5.47801442e+07 0.00000000e+00]\n",
      " [5.91717277e+07 0.00000000e+00 5.91717277e+07 0.00000000e+00]\n",
      " [6.39153732e+07 0.00000000e+00 6.39153732e+07 0.00000000e+00]\n",
      " [6.90393045e+07 0.00000000e+00 6.90393045e+07 0.00000000e+00]\n",
      " [7.45740083e+07 0.00000000e+00 7.45740083e+07 0.00000000e+00]\n",
      " [8.05524151e+07 0.00000000e+00 8.05524151e+07 0.00000000e+00]\n",
      " [8.70100954e+07 0.00000000e+00 8.70100954e+07 0.00000000e+00]\n",
      " [9.39854713e+07 0.00000000e+00 9.39854713e+07 0.00000000e+00]\n",
      " [1.01520045e+08 0.00000000e+00 1.01520045e+08 0.00000000e+00]\n",
      " [1.09658647e+08 0.00000000e+00 1.09658647e+08 0.00000000e+00]\n",
      " [1.18449699e+08 0.00000000e+00 1.18449699e+08 0.00000000e+00]\n",
      " [1.27945507e+08 0.00000000e+00 1.27945507e+08 0.00000000e+00]\n",
      " [1.38202570e+08 0.00000000e+00 1.38202570e+08 0.00000000e+00]\n",
      " [1.49281915e+08 0.00000000e+00 1.49281915e+08 0.00000000e+00]\n",
      " [1.61249463e+08 0.00000000e+00 1.61249463e+08 0.00000000e+00]\n",
      " [1.74176418e+08 0.00000000e+00 1.74176418e+08 0.00000000e+00]\n",
      " [1.88139694e+08 0.00000000e+00 1.88139694e+08 0.00000000e+00]\n",
      " [2.03222371e+08 0.00000000e+00 2.03222371e+08 0.00000000e+00]\n",
      " [2.19514186e+08 0.00000000e+00 2.19514186e+08 0.00000000e+00]\n",
      " [2.37112075e+08 0.00000000e+00 2.37112075e+08 0.00000000e+00]\n",
      " [2.56120741e+08 0.00000000e+00 2.56120741e+08 0.00000000e+00]\n",
      " [2.76653283e+08 0.00000000e+00 2.76653283e+08 0.00000000e+00]\n",
      " [2.98831867e+08 0.00000000e+00 2.98831867e+08 0.00000000e+00]\n",
      " [3.22788450e+08 0.00000000e+00 3.22788450e+08 0.00000000e+00]\n",
      " [3.48665572e+08 0.00000000e+00 3.48665572e+08 0.00000000e+00]\n",
      " [3.76617195e+08 0.00000000e+00 3.76617195e+08 0.00000000e+00]\n",
      " [4.06809629e+08 0.00000000e+00 4.06809629e+08 0.00000000e+00]\n",
      " [4.39422512e+08 0.00000000e+00 4.39422512e+08 0.00000000e+00]\n",
      " [4.74649887e+08 0.00000000e+00 4.74649887e+08 0.00000000e+00]\n",
      " [5.12701349e+08 0.00000000e+00 5.12701349e+08 0.00000000e+00]\n",
      " [5.53803300e+08 0.00000000e+00 5.53803300e+08 0.00000000e+00]\n",
      " [5.98200289e+08 0.00000000e+00 5.98200289e+08 0.00000000e+00]\n",
      " [6.46156470e+08 0.00000000e+00 6.46156470e+08 0.00000000e+00]\n",
      " [6.97957175e+08 0.00000000e+00 6.97957175e+08 0.00000000e+00]\n",
      " [7.53910610e+08 0.00000000e+00 7.53910610e+08 0.00000000e+00]\n",
      " [8.14349688e+08 0.00000000e+00 8.14349688e+08 0.00000000e+00]\n",
      " [8.79634011e+08 0.00000000e+00 8.79634011e+08 0.00000000e+00]\n",
      " [9.50152011e+08 0.00000000e+00 9.50152011e+08 0.00000000e+00]\n",
      " [1.02632326e+09 0.00000000e+00 1.02632326e+09 0.00000000e+00]\n",
      " [1.10860096e+09 0.00000000e+00 1.10860096e+09 0.00000000e+00]\n",
      " [1.19747465e+09 0.00000000e+00 1.19747465e+09 0.00000000e+00]\n",
      " [1.29347312e+09 0.00000000e+00 1.29347312e+09 0.00000000e+00]\n",
      " [1.39716754e+09 0.00000000e+00 1.39716754e+09 0.00000000e+00]\n",
      " [1.50917487e+09 0.00000000e+00 1.50917487e+09 0.00000000e+00]\n",
      " [1.63016155e+09 0.00000000e+00 1.63016155e+09 0.00000000e+00]\n",
      " [1.76084741e+09 0.00000000e+00 1.76084741e+09 0.00000000e+00]\n",
      " [1.90201003e+09 0.00000000e+00 1.90201003e+09 0.00000000e+00]\n",
      " [2.05448929e+09 0.00000000e+00 2.05448929e+09 0.00000000e+00]\n",
      " [2.21919242e+09 0.00000000e+00 2.21919242e+09 0.00000000e+00]\n",
      " [2.39709938e+09 0.00000000e+00 2.39709938e+09 0.00000000e+00]\n",
      " [2.58926868e+09 0.00000000e+00 2.58926868e+09 0.00000000e+00]\n",
      " [2.79684370e+09 0.00000000e+00 2.79684370e+09 0.00000000e+00]\n",
      " [3.02105948e+09 0.00000000e+00 3.02105948e+09 0.00000000e+00]\n",
      " [3.26325006e+09 0.00000000e+00 3.26325006e+09 0.00000000e+00]\n",
      " [3.52485644e+09 0.00000000e+00 3.52485644e+09 0.00000000e+00]\n",
      " [3.80743513e+09 0.00000000e+00 3.80743513e+09 0.00000000e+00]\n",
      " [4.11266743e+09 0.00000000e+00 4.11266743e+09 0.00000000e+00]\n",
      " [4.44236942e+09 0.00000000e+00 4.44236942e+09 0.00000000e+00]\n",
      " [4.79850277e+09 0.00000000e+00 4.79850277e+09 0.00000000e+00]\n",
      " [5.18318642e+09 0.00000000e+00 5.18318642e+09 0.00000000e+00]\n",
      " [5.59870917e+09 0.00000000e+00 5.59870917e+09 0.00000000e+00]\n",
      " [6.04754330e+09 0.00000000e+00 6.04754330e+09 0.00000000e+00]\n",
      " [6.53235932e+09 0.00000000e+00 6.53235932e+09 0.00000000e+00]\n",
      " [7.05604180e+09 0.00000000e+00 7.05604180e+09 0.00000000e+00]\n",
      " [7.62170655e+09 0.00000000e+00 7.62170655e+09 0.00000000e+00]\n",
      " [8.23271920e+09 0.00000000e+00 8.23271920e+09 0.00000000e+00]\n",
      " [8.89271516e+09 0.00000000e+00 8.89271516e+09 0.00000000e+00]\n",
      " [9.60562130e+09 0.00000000e+00 9.60562130e+09 0.00000000e+00]\n",
      " [1.03756793e+10 0.00000000e+00 1.03756793e+10 0.00000000e+00]\n",
      " [1.12074709e+10 0.00000000e+00 1.12074709e+10 0.00000000e+00]\n",
      " [1.21059450e+10 0.00000000e+00 1.21059450e+10 0.00000000e+00]\n",
      " [1.30764476e+10 0.00000000e+00 1.30764476e+10 0.00000000e+00]\n",
      " [1.41247528e+10 0.00000000e+00 1.41247528e+10 0.00000000e+00]\n",
      " [1.52570979e+10 0.00000000e+00 1.52570979e+10 0.00000000e+00]\n",
      " [1.64802203e+10 0.00000000e+00 1.64802203e+10 0.00000000e+00]\n",
      " [1.78013973e+10 0.00000000e+00 1.78013973e+10 0.00000000e+00]\n",
      " [1.92284896e+10 0.00000000e+00 1.92284896e+10 0.00000000e+00]\n",
      " [2.07699882e+10 0.00000000e+00 2.07699882e+10 0.00000000e+00]\n",
      " [2.24350648e+10 0.00000000e+00 2.24350648e+10 0.00000000e+00]\n",
      " [2.42336264e+10 0.00000000e+00 2.42336264e+10 0.00000000e+00]\n",
      " [2.61763740e+10 0.00000000e+00 2.61763740e+10 0.00000000e+00]\n",
      " [2.82748667e+10 0.00000000e+00 2.82748667e+10 0.00000000e+00]\n",
      " [3.05415901e+10 0.00000000e+00 3.05415901e+10 0.00000000e+00]\n",
      " [3.29900310e+10 0.00000000e+00 3.29900310e+10 0.00000000e+00]\n",
      " [3.56347571e+10 0.00000000e+00 3.56347571e+10 0.00000000e+00]\n",
      " [3.84915041e+10 0.00000000e+00 3.84915041e+10 0.00000000e+00]\n",
      " [4.15772691e+10 0.00000000e+00 4.15772691e+10 0.00000000e+00]\n",
      " [4.49104120e+10 0.00000000e+00 4.49104120e+10 0.00000000e+00]\n",
      " [4.85107644e+10 0.00000000e+00 4.85107644e+10 0.00000000e+00]\n",
      " [5.23997479e+10 0.00000000e+00 5.23997479e+10 0.00000000e+00]\n",
      " [5.66005011e+10 0.00000000e+00 5.66005011e+10 0.00000000e+00]\n",
      " [6.11380180e+10 0.00000000e+00 6.11380180e+10 0.00000000e+00]\n",
      " [6.60392959e+10 0.00000000e+00 6.60392959e+10 0.00000000e+00]\n",
      " [7.13334967e+10 0.00000000e+00 7.13334967e+10 0.00000000e+00]\n",
      " [7.70521200e+10 0.00000000e+00 7.70521200e+10 0.00000000e+00]\n",
      " [8.32291906e+10 0.00000000e+00 8.32291906e+10 0.00000000e+00]\n",
      " [8.99014611e+10 0.00000000e+00 8.99014611e+10 0.00000000e+00]\n",
      " [9.71086304e+10 0.00000000e+00 9.71086304e+10 0.00000000e+00]\n",
      " [1.04893580e+11 0.00000000e+00 1.04893580e+11 0.00000000e+00]\n",
      " [1.13302629e+11 0.00000000e+00 1.13302629e+11 0.00000000e+00]\n",
      " [1.22385810e+11 0.00000000e+00 1.22385810e+11 0.00000000e+00]\n",
      " [1.32197166e+11 0.00000000e+00 1.32197166e+11 0.00000000e+00]\n",
      " [1.42795073e+11 0.00000000e+00 1.42795073e+11 0.00000000e+00]\n",
      " [1.54242588e+11 0.00000000e+00 1.54242588e+11 0.00000000e+00]\n",
      " [1.66607820e+11 0.00000000e+00 1.66607820e+11 0.00000000e+00]\n",
      " [1.79964341e+11 0.00000000e+00 1.79964341e+11 0.00000000e+00]\n",
      " [1.94391620e+11 0.00000000e+00 1.94391620e+11 0.00000000e+00]\n",
      " [2.09975497e+11 0.00000000e+00 2.09975497e+11 0.00000000e+00]\n",
      " [2.26808694e+11 0.00000000e+00 2.26808694e+11 0.00000000e+00]\n",
      " [2.44991364e+11 0.00000000e+00 2.44991364e+11 0.00000000e+00]\n",
      " [2.64631693e+11 0.00000000e+00 2.64631693e+11 0.00000000e+00]\n",
      " [2.85846536e+11 0.00000000e+00 2.85846536e+11 0.00000000e+00]\n",
      " [3.08762119e+11 0.00000000e+00 3.08762119e+11 0.00000000e+00]\n",
      " [3.33514786e+11 0.00000000e+00 3.33514786e+11 0.00000000e+00]\n",
      " [3.60251810e+11 0.00000000e+00 3.60251810e+11 0.00000000e+00]\n",
      " [3.89132272e+11 0.00000000e+00 3.89132272e+11 0.00000000e+00]\n",
      " [4.20328007e+11 0.00000000e+00 4.20328007e+11 0.00000000e+00]\n",
      " [4.54024624e+11 0.00000000e+00 4.54024624e+11 0.00000000e+00]\n",
      " [4.90422613e+11 0.00000000e+00 4.90422613e+11 0.00000000e+00]\n",
      " [5.29738535e+11 0.00000000e+00 5.29738535e+11 0.00000000e+00]\n",
      " [5.72206313e+11 0.00000000e+00 5.72206313e+11 0.00000000e+00]\n",
      " [6.18078624e+11 0.00000000e+00 6.18078624e+11 0.00000000e+00]\n",
      " [6.67628400e+11 0.00000000e+00 6.67628400e+11 0.00000000e+00]\n",
      " [7.21150454e+11 0.00000000e+00 7.21150454e+11 0.00000000e+00]\n",
      " [7.78963235e+11 0.00000000e+00 7.78963235e+11 0.00000000e+00]\n",
      " [8.41410717e+11 0.00000000e+00 8.41410717e+11 0.00000000e+00]\n",
      " [9.08864454e+11 0.00000000e+00 9.08864454e+11 0.00000000e+00]\n",
      " [9.81725784e+11 0.00000000e+00 9.81725784e+11 0.00000000e+00]\n",
      " [1.06042822e+12 0.00000000e+00 1.06042822e+12 0.00000000e+00]\n",
      " [1.14544003e+12 0.00000000e+00 1.14544003e+12 0.00000000e+00]\n",
      " [1.23726701e+12 0.00000000e+00 1.23726701e+12 0.00000000e+00]\n",
      " [1.33645553e+12 0.00000000e+00 1.33645553e+12 0.00000000e+00]\n",
      " [1.44359574e+12 0.00000000e+00 1.44359574e+12 0.00000000e+00]\n",
      " [1.55932510e+12 0.00000000e+00 1.55932510e+12 0.00000000e+00]\n",
      " [1.68433219e+12 0.00000000e+00 1.68433219e+12 0.00000000e+00]\n",
      " [1.81936078e+12 0.00000000e+00 1.81936078e+12 0.00000000e+00]\n",
      " [1.96521426e+12 0.00000000e+00 1.96521426e+12 0.00000000e+00]\n",
      " [2.12276045e+12 0.00000000e+00 2.12276045e+12 0.00000000e+00]\n",
      " [2.29293670e+12 0.00000000e+00 2.29293670e+12 0.00000000e+00]\n",
      " [2.47675555e+12 0.00000000e+00 2.47675555e+12 0.00000000e+00]\n",
      " [2.67531068e+12 0.00000000e+00 2.67531068e+12 0.00000000e+00]\n",
      " [2.88978347e+12 0.00000000e+00 2.88978347e+12 0.00000000e+00]\n",
      " [3.12144999e+12 0.00000000e+00 3.12144999e+12 0.00000000e+00]\n",
      " [3.37168862e+12 0.00000000e+00 3.37168862e+12 0.00000000e+00]\n",
      " [3.64198824e+12 0.00000000e+00 3.64198824e+12 0.00000000e+00]\n",
      " [3.93395709e+12 0.00000000e+00 3.93395709e+12 0.00000000e+00]\n",
      " [4.24933233e+12 0.00000000e+00 4.24933233e+12 0.00000000e+00]\n",
      " [4.58999039e+12 0.00000000e+00 4.58999039e+12 0.00000000e+00]\n",
      " [4.95795813e+12 0.00000000e+00 4.95795813e+12 0.00000000e+00]\n",
      " [5.35542491e+12 0.00000000e+00 5.35542491e+12 0.00000000e+00]]\n"
     ]
    },
    {
     "data": {
      "text/plain": [
       "0"
      ]
     },
     "execution_count": 220,
     "metadata": {},
     "output_type": "execute_result"
    }
   ],
   "source": [
    "utils.compare_arr([idl_energy, idl_photonspectrum[1,:] - idl_photonspectrum[0,:], highengphot_tf.eng, highengphot_tf[114].dNdE*dN_gamma_dN_B])\n"
   ]
  },
  {
   "cell_type": "markdown",
   "metadata": {},
   "source": [
    "## Another Problem"
   ]
  },
  {
   "cell_type": "code",
   "execution_count": 111,
   "metadata": {
    "collapsed": true
   },
   "outputs": [],
   "source": [
    "%autoreload\n",
    "import darkhistory.history.histools as ht\n",
    "CMB_engloss_raw = pickle.load(open(direc+\"CMB_engloss_60eV_complete.raw\", \"rb\"))\n",
    "xes = 0.5 + 0.5*np.tanh([-5., -4.1, -3.2, -2.3, -1.4, -0.5, 0.4, 1.3, 2.2, 3.1, 4])\n",
    "\n",
    "# Indices must be reordered into (xe, rs, ...)\n",
    "CMB_engloss_raw = np.swapaxes(CMB_engloss_raw,1,2)\n",
    "\n",
    "# Pad zeros to match length of photeng\n",
    "photeng=highengphot_tflist_arr_raw[0].eng\n",
    "photeng_high = photeng[photeng > 60]\n",
    "photeng_low  = photeng[photeng <= 60]\n",
    "\n",
    "tmp = np.zeros((11,51,500))\n",
    "for i, engloss in enumerate(CMB_engloss_raw):\n",
    "    tmp[i] = np.pad(engloss, ((0,0), (photeng_low.size, 0)), 'constant')\n",
    "CMB_engloss_raw = tmp.copy()\n",
    "\n",
    "# Create the object that interpolates over ionization and redshift (in that order)\n",
    "CMB_engloss_interp = ht.IonRSInterp(\n",
    "    xes, \n",
    "    highengphot_tflist_arr_raw[0].rs, \n",
    "    CMB_engloss_raw, \n",
    "    in_eng = photeng\n",
    ")"
   ]
  },
  {
   "cell_type": "code",
   "execution_count": 112,
   "metadata": {
    "scrolled": true
   },
   "outputs": [
    {
     "name": "stdout",
     "output_type": "stream",
     "text": [
      "IDL:  [  0.00000000e+00   1.64522915e-16   3.26193409e-16]\n",
      "DH input:  1.77795529041e-16\n"
     ]
    }
   ],
   "source": [
    "# Find the index of the greatest lower bound of m_chi/2, the injection energy\n",
    "indTmp = spectools.get_indx(CMB_engloss_interp.in_eng, m_chi/2)\n",
    "if CMB_engloss_interp.in_eng[indTmp] > m_chi/2:\n",
    "    indTmp -= 1\n",
    "\n",
    "print('IDL: ', data.field('cmblosstable')[0])\n",
    "print(\n",
    "    'DH input: ', \n",
    "    CMB_engloss_interp.get_val(xe=data.field('hionfraction')[0][0], rs=3000)[indTmp]*(\n",
    "        m_chi/CMB_engloss_interp.in_eng[indTmp] * (\n",
    "            data.field('annrate')[0][0]\n",
    "        ) * .001/data.field('hubblerate')[0][0]\n",
    "    )\n",
    ")"
   ]
  },
  {
   "cell_type": "markdown",
   "metadata": {},
   "source": [
    "## End of 'Another Problem'"
   ]
  },
  {
   "cell_type": "code",
   "execution_count": 248,
   "metadata": {},
   "outputs": [
    {
     "name": "stdout",
     "output_type": "stream",
     "text": [
      "Loading transfer functions...\n",
      "Loaded high energy photons...\n",
      "Low energy photons...\n",
      "Low energy electrons...\n",
      "CMB losses.\n",
      "\n",
      "Padding tflists with zeros...\n",
      "high energy photons...\n",
      "low energy photons...\n",
      "low energy electrons...\n",
      "\n",
      "CMB losses.\n",
      "\n",
      "Generating TransferFuncInterp objects for each tflist...\n",
      "Done.\n",
      "\n"
     ]
    }
   ],
   "source": [
    "user = '/Users/hongwan/Dropbox (MIT)/Photon Deposition/'\n",
    "highengphot_tf_interp, lowengphot_tf_interp, lowengelec_tf_interp, CMB_engloss_arr = main.load_trans_funcs(user)#+'/Dropbox (MIT)/Photon Deposition/')"
   ]
  },
  {
   "cell_type": "code",
   "execution_count": 252,
   "metadata": {},
   "outputs": [
    {
     "data": {
      "text/plain": [
       "array([4.53978687e-05, 2.74578156e-04])"
      ]
     },
     "execution_count": 252,
     "metadata": {},
     "output_type": "execute_result"
    }
   ],
   "source": [
    "highengphot_tf_interp.xe"
   ]
  },
  {
   "cell_type": "code",
   "execution_count": 253,
   "metadata": {
    "collapsed": true
   },
   "outputs": [],
   "source": [
    "inj_type = 'decay'\n",
    "inj_particle = 'photon'\n",
    "\n",
    "mDM = 10**5.657*2\n",
    "tau = 0.5e25\n",
    "    \n",
    "if inj_particle is \"electron\":\n",
    "    rest_energy = phys.me\n",
    "elif inj_particle is \"photon\":\n",
    "    rest_energy = 0\n",
    "else:\n",
    "    raise TypeError('Specify either electron or photon final state')\n",
    "\n",
    "eng = highengphot_tf_interp.eng\n",
    "indx = np.where(eng < mDM/2 - rest_energy)[-1][-1]\n",
    "fac = (mDM/2 - rest_energy)/eng[indx]\n",
    "spec_arr = np.zeros_like(eng)\n",
    "spec_arr[indx] = 2*fac\n",
    "tmp_spec = Spectrum(\n",
    "    eng, spec_arr,\n",
    "    spec_type = 'N'\n",
    ")\n",
    "    \n",
    "tmp_spec.rs = 30\n",
    "\n",
    "phot_spec_init =   tmp_spec\n",
    "elec_spec_init = 0*tmp_spec\n",
    "    \n",
    "def rate_func_N(rs):\n",
    "    return phys.inj_rate(inj_type, rs, mDM=mDM, tau=tau)/mDM\n",
    "def rate_func_eng(rs):\n",
    "    return phys.inj_rate(inj_type, rs, mDM=mDM, tau=tau)\n",
    "\n"
   ]
  },
  {
   "cell_type": "code",
   "execution_count": 254,
   "metadata": {
    "collapsed": true
   },
   "outputs": [],
   "source": [
    "coarsen_factor = 1\n",
    "end_rs = 4\n",
    "\n",
    "a1 = main.evolve(\n",
    "    elec_spec_init, phot_spec_init,\n",
    "    rate_func_N, rate_func_eng, end_rs,\n",
    "    highengphot_tf_interp, lowengphot_tf_interp, lowengelec_tf_interp,\n",
    "    #ics_thomson_ref_tf, ics_rel_ref_tf, engloss_ref_tf\n",
    "    coarsen_factor=coarsen_factor, std_soln=True\n",
    ")"
   ]
  },
  {
   "cell_type": "code",
   "execution_count": 297,
   "metadata": {
    "scrolled": false
   },
   "outputs": [
    {
     "data": {
      "text/plain": [
       "[<matplotlib.lines.Line2D at 0x1831542fd0>]"
      ]
     },
     "execution_count": 297,
     "metadata": {},
     "output_type": "execute_result"
    },
    {
     "data": {
      "image/png": "[encoded data removed]",
      "text/plain": [
       "<Figure size 720x720 with 1 Axes>"
      ]
     },
     "metadata": {},
     "output_type": "display_data"
    },
    {
     "data": {
      "image/png": "[encoded data removed]",
      "text/plain": [
       "<Figure size 720x720 with 1 Axes>"
      ]
     },
     "metadata": {},
     "output_type": "display_data"
    },
    {
     "data": {
      "image/png": "[encoded data removed]",
      "text/plain": [
       "<Figure size 720x720 with 1 Axes>"
      ]
     },
     "metadata": {},
     "output_type": "display_data"
    }
   ],
   "source": [
    "plt.figure()\n",
    "ax = plt.gca()\n",
    "ax.loglog()\n",
    "\n",
    "# plt.axis([1e5, 1e6, 1e-10, 1e-7])\n",
    "\n",
    "a1[2].plot(ax, ind=1300, indtype='ind')\n",
    "plt.plot(idl_energy, (idl_photonspectrum[1300,:] - 0*idl_photonspectrum[0,:])*idl_bin_width)\n",
    "\n",
    "plt.figure()\n",
    "ax = plt.gca()\n",
    "ax.loglog()\n",
    "\n",
    "a1[3].plot(ax, ind=1300, indtype='ind')\n",
    "plt.plot(idl_energy, (idl_lowengphot[1300,:])*idl_bin_width)\n",
    "\n",
    "plt.figure()\n",
    "ax = plt.gca()\n",
    "ax.loglog()\n",
    "\n",
    "a1[4].plot(ax, ind=1300, indtype='ind', fac=1)\n",
    "plt.plot(idl_eleceng, (idl_lowengelec[1301,:])*idl_elec_bin_width)"
   ]
  },
  {
   "cell_type": "code",
   "execution_count": null,
   "metadata": {
    "collapsed": true
   },
   "outputs": [],
   "source": []
  }
 ],
 "metadata": {
  "kernelspec": {
   "display_name": "Python 3",
   "language": "python",
   "name": "python3"
  },
  "language_info": {
   "codemirror_mode": {
    "name": "ipython",
    "version": 3
   },
   "file_extension": ".py",
   "mimetype": "text/x-python",
   "name": "python",
   "nbconvert_exporter": "python",
   "pygments_lexer": "ipython3",
   "version": "3.6.6"
  }
 },
 "nbformat": 4,
 "nbformat_minor": 2
}
