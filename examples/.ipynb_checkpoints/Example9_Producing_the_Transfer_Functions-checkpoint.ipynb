{
 "cells": [
  {
   "cell_type": "markdown",
   "metadata": {},
   "source": [
    "# Setting Up the Transfer Functions"
   ]
  },
  {
   "cell_type": "code",
   "execution_count": 1,
   "metadata": {},
   "outputs": [],
   "source": [
    "%load_ext autoreload\n",
    "import sys\n",
    "sys.path.append(\"..\")"
   ]
  },
  {
   "cell_type": "markdown",
   "metadata": {},
   "source": [
    "## Notebook Initialization"
   ]
  },
  {
   "cell_type": "code",
   "execution_count": 2,
   "metadata": {},
   "outputs": [],
   "source": [
    "%autoreload\n",
    "import numpy as np\n",
    "import pickle\n",
    "from tqdm import tqdm_notebook as tqdm\n",
    "\n",
    "from darkhistory.spec.spectrum import Spectrum\n",
    "import darkhistory.spec.spectools as spectools\n",
    "import darkhistory.spec.transferfunction as tf\n",
    "import darkhistory.spec.transferfunclist as tflist\n",
    "import darkhistory.physics as phys\n",
    "import darkhistory.utilities as utils\n",
    "\n",
    "np.set_printoptions(threshold=np.nan)"
   ]
  },
  {
   "cell_type": "markdown",
   "metadata": {},
   "source": [
    "## Import Raw Data"
   ]
  },
  {
   "cell_type": "code",
   "execution_count": 3,
   "metadata": {},
   "outputs": [],
   "source": [
    "xes_str = [\n",
    "    '4.540E-05', '2.746E-04', '1.659E-03', '9.952E-03', '5.732E-02',\n",
    "    '2.689E-01', '6.900E-01', '9.309E-01', '9.879E-01', '9.980E-01',\n",
    "    '9.997E-01'\n",
    "    \n",
    "]\n",
    "file_names = [\n",
    "    '/Users/hongwan/Dropbox (MIT)/Photon Deposition/transferfunction_withloweng_cmbloss_xe_'+str+'_nointerp.p'\n",
    "    for str in xes_str\n",
    "    \n",
    "]\n",
    "raw_tf_tuple = [pickle.load(open(file_name, \"rb\")) for file_name in file_names]"
   ]
  },
  {
   "cell_type": "code",
   "execution_count": 4,
   "metadata": {},
   "outputs": [
    {
     "name": "stdout",
     "output_type": "stream",
     "text": [
      "(500, 50, 500, 3)\n",
      "(500, 50)\n",
      "(500, 50, 500, 3)\n",
      "(500, 50)\n"
     ]
    }
   ],
   "source": [
    "print(raw_tf_tuple[0][0].shape)\n",
    "print(raw_tf_tuple[0][1].shape)\n",
    "print(raw_tf_tuple[1][0].shape)\n",
    "print(raw_tf_tuple[1][1].shape)"
   ]
  },
  {
   "cell_type": "code",
   "execution_count": 5,
   "metadata": {},
   "outputs": [],
   "source": [
    "raw_tf_list = [tup[0] for tup in raw_tf_tuple]\n",
    "CMB_engloss_list = [tup[1] for tup in raw_tf_tuple]"
   ]
  },
  {
   "cell_type": "markdown",
   "metadata": {},
   "source": [
    "## Raw Data Manipulation"
   ]
  },
  {
   "cell_type": "markdown",
   "metadata": {},
   "source": [
    "The raw data is a large array with no abscissa values included. We need to create the abscissae related to this large array (the abscissa of photon energies and electron energies). \n",
    "\n",
    "First, we swap some of the axes. The initial array has dimensions corresponding to (injected photon energy, redshift, outgoing energy, type), where type is high-energy photons, low-energy photons and low-energy electrons respectively. "
   ]
  },
  {
   "cell_type": "code",
   "execution_count": 6,
   "metadata": {},
   "outputs": [],
   "source": [
    "for i in np.arange(len(raw_tf_list)):\n",
    "    raw_tf_list[i] = np.swapaxes(raw_tf_list[i], 0, 1)\n",
    "    raw_tf_list[i] = np.flip(raw_tf_list[i], axis=0)"
   ]
  },
  {
   "cell_type": "code",
   "execution_count": 7,
   "metadata": {},
   "outputs": [],
   "source": [
    "for i in np.arange(len(CMB_engloss_list)):\n",
    "    CMB_engloss_list[i] = np.transpose(CMB_engloss_list[i])"
   ]
  },
  {
   "cell_type": "markdown",
   "metadata": {},
   "source": [
    "At this point, the order is now (redshift, input photon energy, output energy, type), and the order is in decreasing redshift.\n",
    "\n",
    "The abscissa for the transfer functions are as follows. For the injected photon energy and redshifts,"
   ]
  },
  {
   "cell_type": "code",
   "execution_count": 8,
   "metadata": {},
   "outputs": [],
   "source": [
    "# Input energy abscissa. \n",
    "in_eng_step = 500\n",
    "in_eng_low = 3e3 + 100.\n",
    "in_eng_upp = 5e3 * np.exp(39 * np.log(1e13/5e3) / 40)\n",
    "in_eng_arr = (\n",
    "    in_eng_low * np.exp((np.arange(in_eng_step)) * \n",
    "              np.log(in_eng_upp/in_eng_low) / in_eng_step)\n",
    ")\n",
    "\n",
    "# Redshift abscissa, decreasing order. \n",
    "rs_step = 50\n",
    "rs_upp  = 31\n",
    "rs_low  = 4\n",
    "\n",
    "log_rs = (\n",
    "    np.log(rs_low) + (np.arange(rs_step) + 1)\n",
    "    *(np.log(rs_upp) - np.log(rs_low))/rs_step\n",
    ")\n",
    "\n",
    "log_rs_arr = np.flipud(log_rs)\n",
    "\n",
    "# xe abscissa\n",
    "\n",
    "xe = 0.5 + 0.5*np.tanh([-5., -4.1, -3.2, -2.3, -1.4, -0.5, 0.4, 1.3, 2.2, 3.1, 4])"
   ]
  },
  {
   "cell_type": "markdown",
   "metadata": {},
   "source": [
    "The output abscissa depends on the injection energy, and are different for photons and electrons. We write these as functions of the injection energy for convenience."
   ]
  },
  {
   "cell_type": "code",
   "execution_count": 9,
   "metadata": {},
   "outputs": [],
   "source": [
    "def get_out_photeng(in_eng):\n",
    "    \n",
    "    log_bin_width = np.log((phys.me + in_eng)/1e-4)/500\n",
    "    bin_boundary  = 1e-4 * np.exp(np.arange(501) * log_bin_width)\n",
    "    bin_boundary_low = bin_boundary[0:500]\n",
    "    bin_boundary_upp = bin_boundary[1:501]\n",
    "\n",
    "    return np.sqrt(bin_boundary_low * bin_boundary_upp)\n",
    "\n",
    "def get_out_eleceng(in_eng):\n",
    "    \n",
    "    log_bin_width = np.log(in_eng)/500\n",
    "    bin_boundary  = phys.me + np.exp(np.arange(501) * log_bin_width)\n",
    "    bin_boundary_low = bin_boundary[:500]\n",
    "    bin_boundary_upp = bin_boundary[1:]\n",
    "    return np.sqrt(\n",
    "        (bin_boundary_low - phys.me)*(bin_boundary_upp - phys.me)\n",
    "    )    "
   ]
  },
  {
   "cell_type": "markdown",
   "metadata": {},
   "source": [
    "The transfer function is calculated by injecting 2 photons at the input energy abscissa. However, the first step is to assign $x$ photons to the top bin of the *output* photon abscissa, such that $x$ times the energy of the top bin is 2 times the injection energy. Because of the misalignment between the two abscissae, as well as the fact that we want to transfer function for a single electron, we have to normalize the results first.\n",
    "\n",
    "First, we construct two arrays: a list of output abscissae (for both photons and electrons) given the injection abscissa, and a list of the energy of the *output* photon energy bin where the injected photons are assigned to. Then we compute the normalization factor. "
   ]
  },
  {
   "cell_type": "code",
   "execution_count": 10,
   "metadata": {},
   "outputs": [],
   "source": [
    "# dimensions input x output\n",
    "out_photeng_arr = np.array([get_out_photeng(eng) for eng in in_eng_arr])\n",
    "# dimensions input x output\n",
    "out_eleceng_arr = np.array([get_out_eleceng(eng) for eng in in_eng_arr])\n",
    "\n",
    "# dimensions input\n",
    "top_photeng_bin_arr = np.array(\n",
    "    [\n",
    "        photeng[photeng < eng][-1] \n",
    "        for eng,photeng in zip(in_eng_arr, out_photeng_arr)\n",
    "    ]\n",
    ")\n",
    "\n",
    "# dimensions input\n",
    "norm_fac_arr = in_eng_arr/top_photeng_bin_arr*2"
   ]
  },
  {
   "cell_type": "markdown",
   "metadata": {},
   "source": [
    "Dividing by the normalization factor gives the spectra for the injection of 1 photon, with energy given by top_photeng_bin_arr. "
   ]
  },
  {
   "cell_type": "markdown",
   "metadata": {},
   "source": [
    "Now we can construct the raw `Spectrum` lists that we will finally put into a `TransFuncAtEnergy` object for the high energy photons, low energy photons and low energy electrons. These are spectra with input energy given by dN/dE = 1 for each bin of `in_eng_arr`. "
   ]
  },
  {
   "cell_type": "code",
   "execution_count": 11,
   "metadata": {},
   "outputs": [
    {
     "data": {
      "application/vnd.jupyter.widget-view+json": {
       "model_id": "3df25575e88745a2b218b0ffcc8c4e5e",
       "version_major": 2,
       "version_minor": 0
      },
      "text/html": [
       "<p>Failed to display Jupyter Widget of type <code>HBox</code>.</p>\n",
       "<p>\n",
       "  If you're reading this message in the Jupyter Notebook or JupyterLab Notebook, it may mean\n",
       "  that the widgets JavaScript is still loading. If this message persists, it\n",
       "  likely means that the widgets JavaScript library is either not installed or\n",
       "  not enabled. See the <a href=\"https://ipywidgets.readthedocs.io/en/stable/user_install.html\">Jupyter\n",
       "  Widgets Documentation</a> for setup instructions.\n",
       "</p>\n",
       "<p>\n",
       "  If you're reading this message in another frontend (for example, a static\n",
       "  rendering on GitHub or <a href=\"https://nbviewer.jupyter.org/\">NBViewer</a>),\n",
       "  it may mean that your frontend doesn't currently support widgets.\n",
       "</p>\n"
      ],
      "text/plain": [
       "HBox(children=(IntProgress(value=0, max=11), HTML(value='')))"
      ]
     },
     "metadata": {},
     "output_type": "display_data"
    },
    {
     "name": "stdout",
     "output_type": "stream",
     "text": [
      "\n"
     ]
    },
    {
     "data": {
      "application/vnd.jupyter.widget-view+json": {
       "model_id": "1dbb2e842c5d4ed1836724f4cf53d314",
       "version_major": 2,
       "version_minor": 0
      },
      "text/html": [
       "<p>Failed to display Jupyter Widget of type <code>HBox</code>.</p>\n",
       "<p>\n",
       "  If you're reading this message in the Jupyter Notebook or JupyterLab Notebook, it may mean\n",
       "  that the widgets JavaScript is still loading. If this message persists, it\n",
       "  likely means that the widgets JavaScript library is either not installed or\n",
       "  not enabled. See the <a href=\"https://ipywidgets.readthedocs.io/en/stable/user_install.html\">Jupyter\n",
       "  Widgets Documentation</a> for setup instructions.\n",
       "</p>\n",
       "<p>\n",
       "  If you're reading this message in another frontend (for example, a static\n",
       "  rendering on GitHub or <a href=\"https://nbviewer.jupyter.org/\">NBViewer</a>),\n",
       "  it may mean that your frontend doesn't currently support widgets.\n",
       "</p>\n"
      ],
      "text/plain": [
       "HBox(children=(IntProgress(value=0, max=11), HTML(value='')))"
      ]
     },
     "metadata": {},
     "output_type": "display_data"
    },
    {
     "name": "stdout",
     "output_type": "stream",
     "text": [
      "\n"
     ]
    },
    {
     "data": {
      "application/vnd.jupyter.widget-view+json": {
       "model_id": "d85cb6169ba248248ec3a0debd9cda24",
       "version_major": 2,
       "version_minor": 0
      },
      "text/html": [
       "<p>Failed to display Jupyter Widget of type <code>HBox</code>.</p>\n",
       "<p>\n",
       "  If you're reading this message in the Jupyter Notebook or JupyterLab Notebook, it may mean\n",
       "  that the widgets JavaScript is still loading. If this message persists, it\n",
       "  likely means that the widgets JavaScript library is either not installed or\n",
       "  not enabled. See the <a href=\"https://ipywidgets.readthedocs.io/en/stable/user_install.html\">Jupyter\n",
       "  Widgets Documentation</a> for setup instructions.\n",
       "</p>\n",
       "<p>\n",
       "  If you're reading this message in another frontend (for example, a static\n",
       "  rendering on GitHub or <a href=\"https://nbviewer.jupyter.org/\">NBViewer</a>),\n",
       "  it may mean that your frontend doesn't currently support widgets.\n",
       "</p>\n"
      ],
      "text/plain": [
       "HBox(children=(IntProgress(value=0, max=11), HTML(value='')))"
      ]
     },
     "metadata": {},
     "output_type": "display_data"
    },
    {
     "name": "stdout",
     "output_type": "stream",
     "text": [
      "\n"
     ]
    }
   ],
   "source": [
    "photspec_list = [\n",
    "    [\n",
    "        [\n",
    "            Spectrum(\n",
    "                out_photeng, raw_tf[i,j,:,0]/norm_fac, \n",
    "                rs = np.exp(log_rs), in_eng = in_eng\n",
    "            ) \n",
    "            for (i, log_rs) in enumerate(log_rs_arr)\n",
    "        ] for (j, (in_eng, out_photeng, norm_fac)) in enumerate(\n",
    "                zip(top_photeng_bin_arr, out_photeng_arr, norm_fac_arr)\n",
    "        )\n",
    "    ] for raw_tf in tqdm(raw_tf_list)\n",
    "]\n",
    "\n",
    "lowengphotspec_list = [\n",
    "    [\n",
    "        [\n",
    "            Spectrum(\n",
    "                out_photeng, raw_tf[i,j,:,1]/norm_fac, \n",
    "                rs = np.exp(log_rs), in_eng = in_eng\n",
    "            ) \n",
    "            for (i, log_rs) in enumerate(log_rs_arr)\n",
    "        ] for (j, (in_eng, out_photeng, norm_fac)) in enumerate(\n",
    "                zip(in_eng_arr, out_photeng_arr, norm_fac_arr)\n",
    "        )\n",
    "    ] for raw_tf in tqdm(raw_tf_list)\n",
    "]\n",
    "\n",
    "lowengelecspec_list = [\n",
    "    [\n",
    "        [\n",
    "            Spectrum(\n",
    "                out_eleceng, raw_tf[i,j,:,2]/norm_fac, \n",
    "                rs = np.exp(log_rs), in_eng = in_eng\n",
    "            ) \n",
    "            for (i, log_rs) in enumerate(log_rs_arr)\n",
    "        ] for (j, (in_eng, out_eleceng, norm_fac)) in enumerate(\n",
    "                zip(in_eng_arr, out_eleceng_arr, norm_fac_arr)\n",
    "        )\n",
    "    ] for raw_tf in tqdm(raw_tf_list)\n",
    "]"
   ]
  },
  {
   "cell_type": "markdown",
   "metadata": {},
   "source": [
    "Now we rebin all of the `Spectrum` objects. The final abscissa that we would like to use is `get_out_photeng(in_eng_arr[-1])`, i.e. the photon abscissa corresponding to the largest injected energy, as well as `get_out_eleceng(in_eng_arr[-1])` for the electrons. We also change the `Spectrum` object to type `N`."
   ]
  },
  {
   "cell_type": "code",
   "execution_count": 12,
   "metadata": {
    "scrolled": false
   },
   "outputs": [
    {
     "data": {
      "application/vnd.jupyter.widget-view+json": {
       "model_id": "312486872bab400894c1187a17639fb0",
       "version_major": 2,
       "version_minor": 0
      },
      "text/html": [
       "<p>Failed to display Jupyter Widget of type <code>HBox</code>.</p>\n",
       "<p>\n",
       "  If you're reading this message in the Jupyter Notebook or JupyterLab Notebook, it may mean\n",
       "  that the widgets JavaScript is still loading. If this message persists, it\n",
       "  likely means that the widgets JavaScript library is either not installed or\n",
       "  not enabled. See the <a href=\"https://ipywidgets.readthedocs.io/en/stable/user_install.html\">Jupyter\n",
       "  Widgets Documentation</a> for setup instructions.\n",
       "</p>\n",
       "<p>\n",
       "  If you're reading this message in another frontend (for example, a static\n",
       "  rendering on GitHub or <a href=\"https://nbviewer.jupyter.org/\">NBViewer</a>),\n",
       "  it may mean that your frontend doesn't currently support widgets.\n",
       "</p>\n"
      ],
      "text/plain": [
       "HBox(children=(IntProgress(value=0, max=11), HTML(value='')))"
      ]
     },
     "metadata": {},
     "output_type": "display_data"
    },
    {
     "data": {
      "application/vnd.jupyter.widget-view+json": {
       "model_id": "e1316f6b81464e0c9da913fad4fcdaf8",
       "version_major": 2,
       "version_minor": 0
      },
      "text/html": [
       "<p>Failed to display Jupyter Widget of type <code>HBox</code>.</p>\n",
       "<p>\n",
       "  If you're reading this message in the Jupyter Notebook or JupyterLab Notebook, it may mean\n",
       "  that the widgets JavaScript is still loading. If this message persists, it\n",
       "  likely means that the widgets JavaScript library is either not installed or\n",
       "  not enabled. See the <a href=\"https://ipywidgets.readthedocs.io/en/stable/user_install.html\">Jupyter\n",
       "  Widgets Documentation</a> for setup instructions.\n",
       "</p>\n",
       "<p>\n",
       "  If you're reading this message in another frontend (for example, a static\n",
       "  rendering on GitHub or <a href=\"https://nbviewer.jupyter.org/\">NBViewer</a>),\n",
       "  it may mean that your frontend doesn't currently support widgets.\n",
       "</p>\n"
      ],
      "text/plain": [
       "HBox(children=(IntProgress(value=0, max=500), HTML(value='')))"
      ]
     },
     "metadata": {},
     "output_type": "display_data"
    },
    {
     "data": {
      "application/vnd.jupyter.widget-view+json": {
       "model_id": "053d6f49055c460ea02c4a85a8fc1b6b",
       "version_major": 2,
       "version_minor": 0
      },
      "text/html": [
       "<p>Failed to display Jupyter Widget of type <code>HBox</code>.</p>\n",
       "<p>\n",
       "  If you're reading this message in the Jupyter Notebook or JupyterLab Notebook, it may mean\n",
       "  that the widgets JavaScript is still loading. If this message persists, it\n",
       "  likely means that the widgets JavaScript library is either not installed or\n",
       "  not enabled. See the <a href=\"https://ipywidgets.readthedocs.io/en/stable/user_install.html\">Jupyter\n",
       "  Widgets Documentation</a> for setup instructions.\n",
       "</p>\n",
       "<p>\n",
       "  If you're reading this message in another frontend (for example, a static\n",
       "  rendering on GitHub or <a href=\"https://nbviewer.jupyter.org/\">NBViewer</a>),\n",
       "  it may mean that your frontend doesn't currently support widgets.\n",
       "</p>\n"
      ],
      "text/plain": [
       "HBox(children=(IntProgress(value=0, max=500), HTML(value='')))"
      ]
     },
     "metadata": {},
     "output_type": "display_data"
    },
    {
     "data": {
      "application/vnd.jupyter.widget-view+json": {
       "model_id": "5b58e2bbb6004b3986a8a7f397a87f1a",
       "version_major": 2,
       "version_minor": 0
      },
      "text/html": [
       "<p>Failed to display Jupyter Widget of type <code>HBox</code>.</p>\n",
       "<p>\n",
       "  If you're reading this message in the Jupyter Notebook or JupyterLab Notebook, it may mean\n",
       "  that the widgets JavaScript is still loading. If this message persists, it\n",
       "  likely means that the widgets JavaScript library is either not installed or\n",
       "  not enabled. See the <a href=\"https://ipywidgets.readthedocs.io/en/stable/user_install.html\">Jupyter\n",
       "  Widgets Documentation</a> for setup instructions.\n",
       "</p>\n",
       "<p>\n",
       "  If you're reading this message in another frontend (for example, a static\n",
       "  rendering on GitHub or <a href=\"https://nbviewer.jupyter.org/\">NBViewer</a>),\n",
       "  it may mean that your frontend doesn't currently support widgets.\n",
       "</p>\n"
      ],
      "text/plain": [
       "HBox(children=(IntProgress(value=0, max=500), HTML(value='')))"
      ]
     },
     "metadata": {},
     "output_type": "display_data"
    },
    {
     "data": {
      "application/vnd.jupyter.widget-view+json": {
       "model_id": "a5fc0b12e1544a12ad698809ce8cfcf2",
       "version_major": 2,
       "version_minor": 0
      },
      "text/html": [
       "<p>Failed to display Jupyter Widget of type <code>HBox</code>.</p>\n",
       "<p>\n",
       "  If you're reading this message in the Jupyter Notebook or JupyterLab Notebook, it may mean\n",
       "  that the widgets JavaScript is still loading. If this message persists, it\n",
       "  likely means that the widgets JavaScript library is either not installed or\n",
       "  not enabled. See the <a href=\"https://ipywidgets.readthedocs.io/en/stable/user_install.html\">Jupyter\n",
       "  Widgets Documentation</a> for setup instructions.\n",
       "</p>\n",
       "<p>\n",
       "  If you're reading this message in another frontend (for example, a static\n",
       "  rendering on GitHub or <a href=\"https://nbviewer.jupyter.org/\">NBViewer</a>),\n",
       "  it may mean that your frontend doesn't currently support widgets.\n",
       "</p>\n"
      ],
      "text/plain": [
       "HBox(children=(IntProgress(value=0, max=500), HTML(value='')))"
      ]
     },
     "metadata": {},
     "output_type": "display_data"
    },
    {
     "data": {
      "application/vnd.jupyter.widget-view+json": {
       "model_id": "b0f04b8c7d764599bdeb314b581cb6f9",
       "version_major": 2,
       "version_minor": 0
      },
      "text/html": [
       "<p>Failed to display Jupyter Widget of type <code>HBox</code>.</p>\n",
       "<p>\n",
       "  If you're reading this message in the Jupyter Notebook or JupyterLab Notebook, it may mean\n",
       "  that the widgets JavaScript is still loading. If this message persists, it\n",
       "  likely means that the widgets JavaScript library is either not installed or\n",
       "  not enabled. See the <a href=\"https://ipywidgets.readthedocs.io/en/stable/user_install.html\">Jupyter\n",
       "  Widgets Documentation</a> for setup instructions.\n",
       "</p>\n",
       "<p>\n",
       "  If you're reading this message in another frontend (for example, a static\n",
       "  rendering on GitHub or <a href=\"https://nbviewer.jupyter.org/\">NBViewer</a>),\n",
       "  it may mean that your frontend doesn't currently support widgets.\n",
       "</p>\n"
      ],
      "text/plain": [
       "HBox(children=(IntProgress(value=0, max=500), HTML(value='')))"
      ]
     },
     "metadata": {},
     "output_type": "display_data"
    },
    {
     "data": {
      "application/vnd.jupyter.widget-view+json": {
       "model_id": "84cf37669f8849e78c152c2eabaee42e",
       "version_major": 2,
       "version_minor": 0
      },
      "text/html": [
       "<p>Failed to display Jupyter Widget of type <code>HBox</code>.</p>\n",
       "<p>\n",
       "  If you're reading this message in the Jupyter Notebook or JupyterLab Notebook, it may mean\n",
       "  that the widgets JavaScript is still loading. If this message persists, it\n",
       "  likely means that the widgets JavaScript library is either not installed or\n",
       "  not enabled. See the <a href=\"https://ipywidgets.readthedocs.io/en/stable/user_install.html\">Jupyter\n",
       "  Widgets Documentation</a> for setup instructions.\n",
       "</p>\n",
       "<p>\n",
       "  If you're reading this message in another frontend (for example, a static\n",
       "  rendering on GitHub or <a href=\"https://nbviewer.jupyter.org/\">NBViewer</a>),\n",
       "  it may mean that your frontend doesn't currently support widgets.\n",
       "</p>\n"
      ],
      "text/plain": [
       "HBox(children=(IntProgress(value=0, max=500), HTML(value='')))"
      ]
     },
     "metadata": {},
     "output_type": "display_data"
    },
    {
     "data": {
      "application/vnd.jupyter.widget-view+json": {
       "model_id": "af2d218cc28945b6b0e263ea5618186e",
       "version_major": 2,
       "version_minor": 0
      },
      "text/html": [
       "<p>Failed to display Jupyter Widget of type <code>HBox</code>.</p>\n",
       "<p>\n",
       "  If you're reading this message in the Jupyter Notebook or JupyterLab Notebook, it may mean\n",
       "  that the widgets JavaScript is still loading. If this message persists, it\n",
       "  likely means that the widgets JavaScript library is either not installed or\n",
       "  not enabled. See the <a href=\"https://ipywidgets.readthedocs.io/en/stable/user_install.html\">Jupyter\n",
       "  Widgets Documentation</a> for setup instructions.\n",
       "</p>\n",
       "<p>\n",
       "  If you're reading this message in another frontend (for example, a static\n",
       "  rendering on GitHub or <a href=\"https://nbviewer.jupyter.org/\">NBViewer</a>),\n",
       "  it may mean that your frontend doesn't currently support widgets.\n",
       "</p>\n"
      ],
      "text/plain": [
       "HBox(children=(IntProgress(value=0, max=500), HTML(value='')))"
      ]
     },
     "metadata": {},
     "output_type": "display_data"
    },
    {
     "data": {
      "application/vnd.jupyter.widget-view+json": {
       "model_id": "b0e8c68d2343447b874716ef84092453",
       "version_major": 2,
       "version_minor": 0
      },
      "text/html": [
       "<p>Failed to display Jupyter Widget of type <code>HBox</code>.</p>\n",
       "<p>\n",
       "  If you're reading this message in the Jupyter Notebook or JupyterLab Notebook, it may mean\n",
       "  that the widgets JavaScript is still loading. If this message persists, it\n",
       "  likely means that the widgets JavaScript library is either not installed or\n",
       "  not enabled. See the <a href=\"https://ipywidgets.readthedocs.io/en/stable/user_install.html\">Jupyter\n",
       "  Widgets Documentation</a> for setup instructions.\n",
       "</p>\n",
       "<p>\n",
       "  If you're reading this message in another frontend (for example, a static\n",
       "  rendering on GitHub or <a href=\"https://nbviewer.jupyter.org/\">NBViewer</a>),\n",
       "  it may mean that your frontend doesn't currently support widgets.\n",
       "</p>\n"
      ],
      "text/plain": [
       "HBox(children=(IntProgress(value=0, max=500), HTML(value='')))"
      ]
     },
     "metadata": {},
     "output_type": "display_data"
    },
    {
     "data": {
      "application/vnd.jupyter.widget-view+json": {
       "model_id": "eeb177c436c1400aa18977b944c07b0a",
       "version_major": 2,
       "version_minor": 0
      },
      "text/html": [
       "<p>Failed to display Jupyter Widget of type <code>HBox</code>.</p>\n",
       "<p>\n",
       "  If you're reading this message in the Jupyter Notebook or JupyterLab Notebook, it may mean\n",
       "  that the widgets JavaScript is still loading. If this message persists, it\n",
       "  likely means that the widgets JavaScript library is either not installed or\n",
       "  not enabled. See the <a href=\"https://ipywidgets.readthedocs.io/en/stable/user_install.html\">Jupyter\n",
       "  Widgets Documentation</a> for setup instructions.\n",
       "</p>\n",
       "<p>\n",
       "  If you're reading this message in another frontend (for example, a static\n",
       "  rendering on GitHub or <a href=\"https://nbviewer.jupyter.org/\">NBViewer</a>),\n",
       "  it may mean that your frontend doesn't currently support widgets.\n",
       "</p>\n"
      ],
      "text/plain": [
       "HBox(children=(IntProgress(value=0, max=500), HTML(value='')))"
      ]
     },
     "metadata": {},
     "output_type": "display_data"
    },
    {
     "data": {
      "application/vnd.jupyter.widget-view+json": {
       "model_id": "9866058155814035b93aeab102de769e",
       "version_major": 2,
       "version_minor": 0
      },
      "text/html": [
       "<p>Failed to display Jupyter Widget of type <code>HBox</code>.</p>\n",
       "<p>\n",
       "  If you're reading this message in the Jupyter Notebook or JupyterLab Notebook, it may mean\n",
       "  that the widgets JavaScript is still loading. If this message persists, it\n",
       "  likely means that the widgets JavaScript library is either not installed or\n",
       "  not enabled. See the <a href=\"https://ipywidgets.readthedocs.io/en/stable/user_install.html\">Jupyter\n",
       "  Widgets Documentation</a> for setup instructions.\n",
       "</p>\n",
       "<p>\n",
       "  If you're reading this message in another frontend (for example, a static\n",
       "  rendering on GitHub or <a href=\"https://nbviewer.jupyter.org/\">NBViewer</a>),\n",
       "  it may mean that your frontend doesn't currently support widgets.\n",
       "</p>\n"
      ],
      "text/plain": [
       "HBox(children=(IntProgress(value=0, max=500), HTML(value='')))"
      ]
     },
     "metadata": {},
     "output_type": "display_data"
    },
    {
     "data": {
      "application/vnd.jupyter.widget-view+json": {
       "model_id": "e7528076537742b68f603868dd40fbf5",
       "version_major": 2,
       "version_minor": 0
      },
      "text/html": [
       "<p>Failed to display Jupyter Widget of type <code>HBox</code>.</p>\n",
       "<p>\n",
       "  If you're reading this message in the Jupyter Notebook or JupyterLab Notebook, it may mean\n",
       "  that the widgets JavaScript is still loading. If this message persists, it\n",
       "  likely means that the widgets JavaScript library is either not installed or\n",
       "  not enabled. See the <a href=\"https://ipywidgets.readthedocs.io/en/stable/user_install.html\">Jupyter\n",
       "  Widgets Documentation</a> for setup instructions.\n",
       "</p>\n",
       "<p>\n",
       "  If you're reading this message in another frontend (for example, a static\n",
       "  rendering on GitHub or <a href=\"https://nbviewer.jupyter.org/\">NBViewer</a>),\n",
       "  it may mean that your frontend doesn't currently support widgets.\n",
       "</p>\n"
      ],
      "text/plain": [
       "HBox(children=(IntProgress(value=0, max=500), HTML(value='')))"
      ]
     },
     "metadata": {},
     "output_type": "display_data"
    },
    {
     "name": "stdout",
     "output_type": "stream",
     "text": [
      "\n"
     ]
    },
    {
     "data": {
      "application/vnd.jupyter.widget-view+json": {
       "model_id": "f538747fcf93403eba75860b43399d94",
       "version_major": 2,
       "version_minor": 0
      },
      "text/html": [
       "<p>Failed to display Jupyter Widget of type <code>HBox</code>.</p>\n",
       "<p>\n",
       "  If you're reading this message in the Jupyter Notebook or JupyterLab Notebook, it may mean\n",
       "  that the widgets JavaScript is still loading. If this message persists, it\n",
       "  likely means that the widgets JavaScript library is either not installed or\n",
       "  not enabled. See the <a href=\"https://ipywidgets.readthedocs.io/en/stable/user_install.html\">Jupyter\n",
       "  Widgets Documentation</a> for setup instructions.\n",
       "</p>\n",
       "<p>\n",
       "  If you're reading this message in another frontend (for example, a static\n",
       "  rendering on GitHub or <a href=\"https://nbviewer.jupyter.org/\">NBViewer</a>),\n",
       "  it may mean that your frontend doesn't currently support widgets.\n",
       "</p>\n"
      ],
      "text/plain": [
       "HBox(children=(IntProgress(value=0, max=11), HTML(value='')))"
      ]
     },
     "metadata": {},
     "output_type": "display_data"
    },
    {
     "data": {
      "application/vnd.jupyter.widget-view+json": {
       "model_id": "b2aafd3c75bd47deb928775b6ad4135c",
       "version_major": 2,
       "version_minor": 0
      },
      "text/html": [
       "<p>Failed to display Jupyter Widget of type <code>HBox</code>.</p>\n",
       "<p>\n",
       "  If you're reading this message in the Jupyter Notebook or JupyterLab Notebook, it may mean\n",
       "  that the widgets JavaScript is still loading. If this message persists, it\n",
       "  likely means that the widgets JavaScript library is either not installed or\n",
       "  not enabled. See the <a href=\"https://ipywidgets.readthedocs.io/en/stable/user_install.html\">Jupyter\n",
       "  Widgets Documentation</a> for setup instructions.\n",
       "</p>\n",
       "<p>\n",
       "  If you're reading this message in another frontend (for example, a static\n",
       "  rendering on GitHub or <a href=\"https://nbviewer.jupyter.org/\">NBViewer</a>),\n",
       "  it may mean that your frontend doesn't currently support widgets.\n",
       "</p>\n"
      ],
      "text/plain": [
       "HBox(children=(IntProgress(value=0, max=500), HTML(value='')))"
      ]
     },
     "metadata": {},
     "output_type": "display_data"
    },
    {
     "data": {
      "application/vnd.jupyter.widget-view+json": {
       "model_id": "ed068cc793f6465a80f248b956136348",
       "version_major": 2,
       "version_minor": 0
      },
      "text/html": [
       "<p>Failed to display Jupyter Widget of type <code>HBox</code>.</p>\n",
       "<p>\n",
       "  If you're reading this message in the Jupyter Notebook or JupyterLab Notebook, it may mean\n",
       "  that the widgets JavaScript is still loading. If this message persists, it\n",
       "  likely means that the widgets JavaScript library is either not installed or\n",
       "  not enabled. See the <a href=\"https://ipywidgets.readthedocs.io/en/stable/user_install.html\">Jupyter\n",
       "  Widgets Documentation</a> for setup instructions.\n",
       "</p>\n",
       "<p>\n",
       "  If you're reading this message in another frontend (for example, a static\n",
       "  rendering on GitHub or <a href=\"https://nbviewer.jupyter.org/\">NBViewer</a>),\n",
       "  it may mean that your frontend doesn't currently support widgets.\n",
       "</p>\n"
      ],
      "text/plain": [
       "HBox(children=(IntProgress(value=0, max=500), HTML(value='')))"
      ]
     },
     "metadata": {},
     "output_type": "display_data"
    },
    {
     "data": {
      "application/vnd.jupyter.widget-view+json": {
       "model_id": "d4418a8c2f9b4d5e972f80ecdba39065",
       "version_major": 2,
       "version_minor": 0
      },
      "text/html": [
       "<p>Failed to display Jupyter Widget of type <code>HBox</code>.</p>\n",
       "<p>\n",
       "  If you're reading this message in the Jupyter Notebook or JupyterLab Notebook, it may mean\n",
       "  that the widgets JavaScript is still loading. If this message persists, it\n",
       "  likely means that the widgets JavaScript library is either not installed or\n",
       "  not enabled. See the <a href=\"https://ipywidgets.readthedocs.io/en/stable/user_install.html\">Jupyter\n",
       "  Widgets Documentation</a> for setup instructions.\n",
       "</p>\n",
       "<p>\n",
       "  If you're reading this message in another frontend (for example, a static\n",
       "  rendering on GitHub or <a href=\"https://nbviewer.jupyter.org/\">NBViewer</a>),\n",
       "  it may mean that your frontend doesn't currently support widgets.\n",
       "</p>\n"
      ],
      "text/plain": [
       "HBox(children=(IntProgress(value=0, max=500), HTML(value='')))"
      ]
     },
     "metadata": {},
     "output_type": "display_data"
    },
    {
     "data": {
      "application/vnd.jupyter.widget-view+json": {
       "model_id": "3f8fd9e064804448be8ddbcf18b5b08b",
       "version_major": 2,
       "version_minor": 0
      },
      "text/html": [
       "<p>Failed to display Jupyter Widget of type <code>HBox</code>.</p>\n",
       "<p>\n",
       "  If you're reading this message in the Jupyter Notebook or JupyterLab Notebook, it may mean\n",
       "  that the widgets JavaScript is still loading. If this message persists, it\n",
       "  likely means that the widgets JavaScript library is either not installed or\n",
       "  not enabled. See the <a href=\"https://ipywidgets.readthedocs.io/en/stable/user_install.html\">Jupyter\n",
       "  Widgets Documentation</a> for setup instructions.\n",
       "</p>\n",
       "<p>\n",
       "  If you're reading this message in another frontend (for example, a static\n",
       "  rendering on GitHub or <a href=\"https://nbviewer.jupyter.org/\">NBViewer</a>),\n",
       "  it may mean that your frontend doesn't currently support widgets.\n",
       "</p>\n"
      ],
      "text/plain": [
       "HBox(children=(IntProgress(value=0, max=500), HTML(value='')))"
      ]
     },
     "metadata": {},
     "output_type": "display_data"
    },
    {
     "data": {
      "application/vnd.jupyter.widget-view+json": {
       "model_id": "d19237307d214ebeac842cd2896afec4",
       "version_major": 2,
       "version_minor": 0
      },
      "text/html": [
       "<p>Failed to display Jupyter Widget of type <code>HBox</code>.</p>\n",
       "<p>\n",
       "  If you're reading this message in the Jupyter Notebook or JupyterLab Notebook, it may mean\n",
       "  that the widgets JavaScript is still loading. If this message persists, it\n",
       "  likely means that the widgets JavaScript library is either not installed or\n",
       "  not enabled. See the <a href=\"https://ipywidgets.readthedocs.io/en/stable/user_install.html\">Jupyter\n",
       "  Widgets Documentation</a> for setup instructions.\n",
       "</p>\n",
       "<p>\n",
       "  If you're reading this message in another frontend (for example, a static\n",
       "  rendering on GitHub or <a href=\"https://nbviewer.jupyter.org/\">NBViewer</a>),\n",
       "  it may mean that your frontend doesn't currently support widgets.\n",
       "</p>\n"
      ],
      "text/plain": [
       "HBox(children=(IntProgress(value=0, max=500), HTML(value='')))"
      ]
     },
     "metadata": {},
     "output_type": "display_data"
    },
    {
     "data": {
      "application/vnd.jupyter.widget-view+json": {
       "model_id": "8ca2bdbe05784a8e8befe501aea058eb",
       "version_major": 2,
       "version_minor": 0
      },
      "text/html": [
       "<p>Failed to display Jupyter Widget of type <code>HBox</code>.</p>\n",
       "<p>\n",
       "  If you're reading this message in the Jupyter Notebook or JupyterLab Notebook, it may mean\n",
       "  that the widgets JavaScript is still loading. If this message persists, it\n",
       "  likely means that the widgets JavaScript library is either not installed or\n",
       "  not enabled. See the <a href=\"https://ipywidgets.readthedocs.io/en/stable/user_install.html\">Jupyter\n",
       "  Widgets Documentation</a> for setup instructions.\n",
       "</p>\n",
       "<p>\n",
       "  If you're reading this message in another frontend (for example, a static\n",
       "  rendering on GitHub or <a href=\"https://nbviewer.jupyter.org/\">NBViewer</a>),\n",
       "  it may mean that your frontend doesn't currently support widgets.\n",
       "</p>\n"
      ],
      "text/plain": [
       "HBox(children=(IntProgress(value=0, max=500), HTML(value='')))"
      ]
     },
     "metadata": {},
     "output_type": "display_data"
    },
    {
     "data": {
      "application/vnd.jupyter.widget-view+json": {
       "model_id": "49caf5bcbdbf48009860cc49db5aac52",
       "version_major": 2,
       "version_minor": 0
      },
      "text/html": [
       "<p>Failed to display Jupyter Widget of type <code>HBox</code>.</p>\n",
       "<p>\n",
       "  If you're reading this message in the Jupyter Notebook or JupyterLab Notebook, it may mean\n",
       "  that the widgets JavaScript is still loading. If this message persists, it\n",
       "  likely means that the widgets JavaScript library is either not installed or\n",
       "  not enabled. See the <a href=\"https://ipywidgets.readthedocs.io/en/stable/user_install.html\">Jupyter\n",
       "  Widgets Documentation</a> for setup instructions.\n",
       "</p>\n",
       "<p>\n",
       "  If you're reading this message in another frontend (for example, a static\n",
       "  rendering on GitHub or <a href=\"https://nbviewer.jupyter.org/\">NBViewer</a>),\n",
       "  it may mean that your frontend doesn't currently support widgets.\n",
       "</p>\n"
      ],
      "text/plain": [
       "HBox(children=(IntProgress(value=0, max=500), HTML(value='')))"
      ]
     },
     "metadata": {},
     "output_type": "display_data"
    },
    {
     "data": {
      "application/vnd.jupyter.widget-view+json": {
       "model_id": "121fc549d1fb48739dd94acc21f36950",
       "version_major": 2,
       "version_minor": 0
      },
      "text/html": [
       "<p>Failed to display Jupyter Widget of type <code>HBox</code>.</p>\n",
       "<p>\n",
       "  If you're reading this message in the Jupyter Notebook or JupyterLab Notebook, it may mean\n",
       "  that the widgets JavaScript is still loading. If this message persists, it\n",
       "  likely means that the widgets JavaScript library is either not installed or\n",
       "  not enabled. See the <a href=\"https://ipywidgets.readthedocs.io/en/stable/user_install.html\">Jupyter\n",
       "  Widgets Documentation</a> for setup instructions.\n",
       "</p>\n",
       "<p>\n",
       "  If you're reading this message in another frontend (for example, a static\n",
       "  rendering on GitHub or <a href=\"https://nbviewer.jupyter.org/\">NBViewer</a>),\n",
       "  it may mean that your frontend doesn't currently support widgets.\n",
       "</p>\n"
      ],
      "text/plain": [
       "HBox(children=(IntProgress(value=0, max=500), HTML(value='')))"
      ]
     },
     "metadata": {},
     "output_type": "display_data"
    },
    {
     "data": {
      "application/vnd.jupyter.widget-view+json": {
       "model_id": "cde7f71792394ec3821f6cd1e0bbabd5",
       "version_major": 2,
       "version_minor": 0
      },
      "text/html": [
       "<p>Failed to display Jupyter Widget of type <code>HBox</code>.</p>\n",
       "<p>\n",
       "  If you're reading this message in the Jupyter Notebook or JupyterLab Notebook, it may mean\n",
       "  that the widgets JavaScript is still loading. If this message persists, it\n",
       "  likely means that the widgets JavaScript library is either not installed or\n",
       "  not enabled. See the <a href=\"https://ipywidgets.readthedocs.io/en/stable/user_install.html\">Jupyter\n",
       "  Widgets Documentation</a> for setup instructions.\n",
       "</p>\n",
       "<p>\n",
       "  If you're reading this message in another frontend (for example, a static\n",
       "  rendering on GitHub or <a href=\"https://nbviewer.jupyter.org/\">NBViewer</a>),\n",
       "  it may mean that your frontend doesn't currently support widgets.\n",
       "</p>\n"
      ],
      "text/plain": [
       "HBox(children=(IntProgress(value=0, max=500), HTML(value='')))"
      ]
     },
     "metadata": {},
     "output_type": "display_data"
    },
    {
     "data": {
      "application/vnd.jupyter.widget-view+json": {
       "model_id": "9147dda7a5d04b3191b455eb25b5d926",
       "version_major": 2,
       "version_minor": 0
      },
      "text/html": [
       "<p>Failed to display Jupyter Widget of type <code>HBox</code>.</p>\n",
       "<p>\n",
       "  If you're reading this message in the Jupyter Notebook or JupyterLab Notebook, it may mean\n",
       "  that the widgets JavaScript is still loading. If this message persists, it\n",
       "  likely means that the widgets JavaScript library is either not installed or\n",
       "  not enabled. See the <a href=\"https://ipywidgets.readthedocs.io/en/stable/user_install.html\">Jupyter\n",
       "  Widgets Documentation</a> for setup instructions.\n",
       "</p>\n",
       "<p>\n",
       "  If you're reading this message in another frontend (for example, a static\n",
       "  rendering on GitHub or <a href=\"https://nbviewer.jupyter.org/\">NBViewer</a>),\n",
       "  it may mean that your frontend doesn't currently support widgets.\n",
       "</p>\n"
      ],
      "text/plain": [
       "HBox(children=(IntProgress(value=0, max=500), HTML(value='')))"
      ]
     },
     "metadata": {},
     "output_type": "display_data"
    },
    {
     "data": {
      "application/vnd.jupyter.widget-view+json": {
       "model_id": "93b4a00045034687b3f4f7b14f317362",
       "version_major": 2,
       "version_minor": 0
      },
      "text/html": [
       "<p>Failed to display Jupyter Widget of type <code>HBox</code>.</p>\n",
       "<p>\n",
       "  If you're reading this message in the Jupyter Notebook or JupyterLab Notebook, it may mean\n",
       "  that the widgets JavaScript is still loading. If this message persists, it\n",
       "  likely means that the widgets JavaScript library is either not installed or\n",
       "  not enabled. See the <a href=\"https://ipywidgets.readthedocs.io/en/stable/user_install.html\">Jupyter\n",
       "  Widgets Documentation</a> for setup instructions.\n",
       "</p>\n",
       "<p>\n",
       "  If you're reading this message in another frontend (for example, a static\n",
       "  rendering on GitHub or <a href=\"https://nbviewer.jupyter.org/\">NBViewer</a>),\n",
       "  it may mean that your frontend doesn't currently support widgets.\n",
       "</p>\n"
      ],
      "text/plain": [
       "HBox(children=(IntProgress(value=0, max=500), HTML(value='')))"
      ]
     },
     "metadata": {},
     "output_type": "display_data"
    },
    {
     "name": "stdout",
     "output_type": "stream",
     "text": [
      "\n"
     ]
    },
    {
     "data": {
      "application/vnd.jupyter.widget-view+json": {
       "model_id": "47f33cbf3b014296954baebf313f0278",
       "version_major": 2,
       "version_minor": 0
      },
      "text/html": [
       "<p>Failed to display Jupyter Widget of type <code>HBox</code>.</p>\n",
       "<p>\n",
       "  If you're reading this message in the Jupyter Notebook or JupyterLab Notebook, it may mean\n",
       "  that the widgets JavaScript is still loading. If this message persists, it\n",
       "  likely means that the widgets JavaScript library is either not installed or\n",
       "  not enabled. See the <a href=\"https://ipywidgets.readthedocs.io/en/stable/user_install.html\">Jupyter\n",
       "  Widgets Documentation</a> for setup instructions.\n",
       "</p>\n",
       "<p>\n",
       "  If you're reading this message in another frontend (for example, a static\n",
       "  rendering on GitHub or <a href=\"https://nbviewer.jupyter.org/\">NBViewer</a>),\n",
       "  it may mean that your frontend doesn't currently support widgets.\n",
       "</p>\n"
      ],
      "text/plain": [
       "HBox(children=(IntProgress(value=0, max=11), HTML(value='')))"
      ]
     },
     "metadata": {},
     "output_type": "display_data"
    },
    {
     "data": {
      "application/vnd.jupyter.widget-view+json": {
       "model_id": "09cb5886556f4b34a16d667ffaf0b197",
       "version_major": 2,
       "version_minor": 0
      },
      "text/html": [
       "<p>Failed to display Jupyter Widget of type <code>HBox</code>.</p>\n",
       "<p>\n",
       "  If you're reading this message in the Jupyter Notebook or JupyterLab Notebook, it may mean\n",
       "  that the widgets JavaScript is still loading. If this message persists, it\n",
       "  likely means that the widgets JavaScript library is either not installed or\n",
       "  not enabled. See the <a href=\"https://ipywidgets.readthedocs.io/en/stable/user_install.html\">Jupyter\n",
       "  Widgets Documentation</a> for setup instructions.\n",
       "</p>\n",
       "<p>\n",
       "  If you're reading this message in another frontend (for example, a static\n",
       "  rendering on GitHub or <a href=\"https://nbviewer.jupyter.org/\">NBViewer</a>),\n",
       "  it may mean that your frontend doesn't currently support widgets.\n",
       "</p>\n"
      ],
      "text/plain": [
       "HBox(children=(IntProgress(value=0, max=500), HTML(value='')))"
      ]
     },
     "metadata": {},
     "output_type": "display_data"
    },
    {
     "data": {
      "application/vnd.jupyter.widget-view+json": {
       "model_id": "1a9e23dac6f94ec39308c86f3108f9e1",
       "version_major": 2,
       "version_minor": 0
      },
      "text/html": [
       "<p>Failed to display Jupyter Widget of type <code>HBox</code>.</p>\n",
       "<p>\n",
       "  If you're reading this message in the Jupyter Notebook or JupyterLab Notebook, it may mean\n",
       "  that the widgets JavaScript is still loading. If this message persists, it\n",
       "  likely means that the widgets JavaScript library is either not installed or\n",
       "  not enabled. See the <a href=\"https://ipywidgets.readthedocs.io/en/stable/user_install.html\">Jupyter\n",
       "  Widgets Documentation</a> for setup instructions.\n",
       "</p>\n",
       "<p>\n",
       "  If you're reading this message in another frontend (for example, a static\n",
       "  rendering on GitHub or <a href=\"https://nbviewer.jupyter.org/\">NBViewer</a>),\n",
       "  it may mean that your frontend doesn't currently support widgets.\n",
       "</p>\n"
      ],
      "text/plain": [
       "HBox(children=(IntProgress(value=0, max=500), HTML(value='')))"
      ]
     },
     "metadata": {},
     "output_type": "display_data"
    },
    {
     "data": {
      "application/vnd.jupyter.widget-view+json": {
       "model_id": "cdccfe5971384b81bf1e5118002a1270",
       "version_major": 2,
       "version_minor": 0
      },
      "text/html": [
       "<p>Failed to display Jupyter Widget of type <code>HBox</code>.</p>\n",
       "<p>\n",
       "  If you're reading this message in the Jupyter Notebook or JupyterLab Notebook, it may mean\n",
       "  that the widgets JavaScript is still loading. If this message persists, it\n",
       "  likely means that the widgets JavaScript library is either not installed or\n",
       "  not enabled. See the <a href=\"https://ipywidgets.readthedocs.io/en/stable/user_install.html\">Jupyter\n",
       "  Widgets Documentation</a> for setup instructions.\n",
       "</p>\n",
       "<p>\n",
       "  If you're reading this message in another frontend (for example, a static\n",
       "  rendering on GitHub or <a href=\"https://nbviewer.jupyter.org/\">NBViewer</a>),\n",
       "  it may mean that your frontend doesn't currently support widgets.\n",
       "</p>\n"
      ],
      "text/plain": [
       "HBox(children=(IntProgress(value=0, max=500), HTML(value='')))"
      ]
     },
     "metadata": {},
     "output_type": "display_data"
    },
    {
     "data": {
      "application/vnd.jupyter.widget-view+json": {
       "model_id": "0f86473ccca046a182ba975a7ceac3d7",
       "version_major": 2,
       "version_minor": 0
      },
      "text/html": [
       "<p>Failed to display Jupyter Widget of type <code>HBox</code>.</p>\n",
       "<p>\n",
       "  If you're reading this message in the Jupyter Notebook or JupyterLab Notebook, it may mean\n",
       "  that the widgets JavaScript is still loading. If this message persists, it\n",
       "  likely means that the widgets JavaScript library is either not installed or\n",
       "  not enabled. See the <a href=\"https://ipywidgets.readthedocs.io/en/stable/user_install.html\">Jupyter\n",
       "  Widgets Documentation</a> for setup instructions.\n",
       "</p>\n",
       "<p>\n",
       "  If you're reading this message in another frontend (for example, a static\n",
       "  rendering on GitHub or <a href=\"https://nbviewer.jupyter.org/\">NBViewer</a>),\n",
       "  it may mean that your frontend doesn't currently support widgets.\n",
       "</p>\n"
      ],
      "text/plain": [
       "HBox(children=(IntProgress(value=0, max=500), HTML(value='')))"
      ]
     },
     "metadata": {},
     "output_type": "display_data"
    },
    {
     "data": {
      "application/vnd.jupyter.widget-view+json": {
       "model_id": "8f31d8bc3a4a4a02b901dd77feac1fcd",
       "version_major": 2,
       "version_minor": 0
      },
      "text/html": [
       "<p>Failed to display Jupyter Widget of type <code>HBox</code>.</p>\n",
       "<p>\n",
       "  If you're reading this message in the Jupyter Notebook or JupyterLab Notebook, it may mean\n",
       "  that the widgets JavaScript is still loading. If this message persists, it\n",
       "  likely means that the widgets JavaScript library is either not installed or\n",
       "  not enabled. See the <a href=\"https://ipywidgets.readthedocs.io/en/stable/user_install.html\">Jupyter\n",
       "  Widgets Documentation</a> for setup instructions.\n",
       "</p>\n",
       "<p>\n",
       "  If you're reading this message in another frontend (for example, a static\n",
       "  rendering on GitHub or <a href=\"https://nbviewer.jupyter.org/\">NBViewer</a>),\n",
       "  it may mean that your frontend doesn't currently support widgets.\n",
       "</p>\n"
      ],
      "text/plain": [
       "HBox(children=(IntProgress(value=0, max=500), HTML(value='')))"
      ]
     },
     "metadata": {},
     "output_type": "display_data"
    },
    {
     "data": {
      "application/vnd.jupyter.widget-view+json": {
       "model_id": "9feefa6d86c046c090f8cdeac8194843",
       "version_major": 2,
       "version_minor": 0
      },
      "text/html": [
       "<p>Failed to display Jupyter Widget of type <code>HBox</code>.</p>\n",
       "<p>\n",
       "  If you're reading this message in the Jupyter Notebook or JupyterLab Notebook, it may mean\n",
       "  that the widgets JavaScript is still loading. If this message persists, it\n",
       "  likely means that the widgets JavaScript library is either not installed or\n",
       "  not enabled. See the <a href=\"https://ipywidgets.readthedocs.io/en/stable/user_install.html\">Jupyter\n",
       "  Widgets Documentation</a> for setup instructions.\n",
       "</p>\n",
       "<p>\n",
       "  If you're reading this message in another frontend (for example, a static\n",
       "  rendering on GitHub or <a href=\"https://nbviewer.jupyter.org/\">NBViewer</a>),\n",
       "  it may mean that your frontend doesn't currently support widgets.\n",
       "</p>\n"
      ],
      "text/plain": [
       "HBox(children=(IntProgress(value=0, max=500), HTML(value='')))"
      ]
     },
     "metadata": {},
     "output_type": "display_data"
    },
    {
     "data": {
      "application/vnd.jupyter.widget-view+json": {
       "model_id": "8a2aff054c1644fbaa4877677933a80c",
       "version_major": 2,
       "version_minor": 0
      },
      "text/html": [
       "<p>Failed to display Jupyter Widget of type <code>HBox</code>.</p>\n",
       "<p>\n",
       "  If you're reading this message in the Jupyter Notebook or JupyterLab Notebook, it may mean\n",
       "  that the widgets JavaScript is still loading. If this message persists, it\n",
       "  likely means that the widgets JavaScript library is either not installed or\n",
       "  not enabled. See the <a href=\"https://ipywidgets.readthedocs.io/en/stable/user_install.html\">Jupyter\n",
       "  Widgets Documentation</a> for setup instructions.\n",
       "</p>\n",
       "<p>\n",
       "  If you're reading this message in another frontend (for example, a static\n",
       "  rendering on GitHub or <a href=\"https://nbviewer.jupyter.org/\">NBViewer</a>),\n",
       "  it may mean that your frontend doesn't currently support widgets.\n",
       "</p>\n"
      ],
      "text/plain": [
       "HBox(children=(IntProgress(value=0, max=500), HTML(value='')))"
      ]
     },
     "metadata": {},
     "output_type": "display_data"
    },
    {
     "data": {
      "application/vnd.jupyter.widget-view+json": {
       "model_id": "f9acea60fe7d467eb7bc44c669d9ecd5",
       "version_major": 2,
       "version_minor": 0
      },
      "text/html": [
       "<p>Failed to display Jupyter Widget of type <code>HBox</code>.</p>\n",
       "<p>\n",
       "  If you're reading this message in the Jupyter Notebook or JupyterLab Notebook, it may mean\n",
       "  that the widgets JavaScript is still loading. If this message persists, it\n",
       "  likely means that the widgets JavaScript library is either not installed or\n",
       "  not enabled. See the <a href=\"https://ipywidgets.readthedocs.io/en/stable/user_install.html\">Jupyter\n",
       "  Widgets Documentation</a> for setup instructions.\n",
       "</p>\n",
       "<p>\n",
       "  If you're reading this message in another frontend (for example, a static\n",
       "  rendering on GitHub or <a href=\"https://nbviewer.jupyter.org/\">NBViewer</a>),\n",
       "  it may mean that your frontend doesn't currently support widgets.\n",
       "</p>\n"
      ],
      "text/plain": [
       "HBox(children=(IntProgress(value=0, max=500), HTML(value='')))"
      ]
     },
     "metadata": {},
     "output_type": "display_data"
    },
    {
     "data": {
      "application/vnd.jupyter.widget-view+json": {
       "model_id": "b724d300532d47c49e10f30e1d3aefce",
       "version_major": 2,
       "version_minor": 0
      },
      "text/html": [
       "<p>Failed to display Jupyter Widget of type <code>HBox</code>.</p>\n",
       "<p>\n",
       "  If you're reading this message in the Jupyter Notebook or JupyterLab Notebook, it may mean\n",
       "  that the widgets JavaScript is still loading. If this message persists, it\n",
       "  likely means that the widgets JavaScript library is either not installed or\n",
       "  not enabled. See the <a href=\"https://ipywidgets.readthedocs.io/en/stable/user_install.html\">Jupyter\n",
       "  Widgets Documentation</a> for setup instructions.\n",
       "</p>\n",
       "<p>\n",
       "  If you're reading this message in another frontend (for example, a static\n",
       "  rendering on GitHub or <a href=\"https://nbviewer.jupyter.org/\">NBViewer</a>),\n",
       "  it may mean that your frontend doesn't currently support widgets.\n",
       "</p>\n"
      ],
      "text/plain": [
       "HBox(children=(IntProgress(value=0, max=500), HTML(value='')))"
      ]
     },
     "metadata": {},
     "output_type": "display_data"
    },
    {
     "data": {
      "application/vnd.jupyter.widget-view+json": {
       "model_id": "160e93487907414997c5cb427556719b",
       "version_major": 2,
       "version_minor": 0
      },
      "text/html": [
       "<p>Failed to display Jupyter Widget of type <code>HBox</code>.</p>\n",
       "<p>\n",
       "  If you're reading this message in the Jupyter Notebook or JupyterLab Notebook, it may mean\n",
       "  that the widgets JavaScript is still loading. If this message persists, it\n",
       "  likely means that the widgets JavaScript library is either not installed or\n",
       "  not enabled. See the <a href=\"https://ipywidgets.readthedocs.io/en/stable/user_install.html\">Jupyter\n",
       "  Widgets Documentation</a> for setup instructions.\n",
       "</p>\n",
       "<p>\n",
       "  If you're reading this message in another frontend (for example, a static\n",
       "  rendering on GitHub or <a href=\"https://nbviewer.jupyter.org/\">NBViewer</a>),\n",
       "  it may mean that your frontend doesn't currently support widgets.\n",
       "</p>\n"
      ],
      "text/plain": [
       "HBox(children=(IntProgress(value=0, max=500), HTML(value='')))"
      ]
     },
     "metadata": {},
     "output_type": "display_data"
    },
    {
     "data": {
      "application/vnd.jupyter.widget-view+json": {
       "model_id": "24ab39afb8af454ea7e7cf6065925ac0",
       "version_major": 2,
       "version_minor": 0
      },
      "text/html": [
       "<p>Failed to display Jupyter Widget of type <code>HBox</code>.</p>\n",
       "<p>\n",
       "  If you're reading this message in the Jupyter Notebook or JupyterLab Notebook, it may mean\n",
       "  that the widgets JavaScript is still loading. If this message persists, it\n",
       "  likely means that the widgets JavaScript library is either not installed or\n",
       "  not enabled. See the <a href=\"https://ipywidgets.readthedocs.io/en/stable/user_install.html\">Jupyter\n",
       "  Widgets Documentation</a> for setup instructions.\n",
       "</p>\n",
       "<p>\n",
       "  If you're reading this message in another frontend (for example, a static\n",
       "  rendering on GitHub or <a href=\"https://nbviewer.jupyter.org/\">NBViewer</a>),\n",
       "  it may mean that your frontend doesn't currently support widgets.\n",
       "</p>\n"
      ],
      "text/plain": [
       "HBox(children=(IntProgress(value=0, max=500), HTML(value='')))"
      ]
     },
     "metadata": {},
     "output_type": "display_data"
    },
    {
     "name": "stdout",
     "output_type": "stream",
     "text": [
      "\n"
     ]
    }
   ],
   "source": [
    "fin_photeng = get_out_photeng(in_eng_arr[-1])\n",
    "fin_eleceng = get_out_eleceng(in_eng_arr[-1])\n",
    "\n",
    "for phot_specs_xe in tqdm(photspec_list):\n",
    "    for phot_specs in tqdm(phot_specs_xe):\n",
    "        for phot_spec in phot_specs:\n",
    "            phot_spec.rebin(top_photeng_bin_arr)\n",
    "            phot_spec.switch_spec_type()\n",
    "\n",
    "for phot_specs_xe in tqdm(lowengphotspec_list):\n",
    "    for phot_specs in tqdm(phot_specs_xe):\n",
    "        for phot_spec in phot_specs:\n",
    "            phot_spec.rebin(fin_photeng)\n",
    "            phot_spec.switch_spec_type()\n",
    "\n",
    "for elec_specs_xe in tqdm(lowengelecspec_list):\n",
    "    for elec_specs in tqdm(elec_specs_xe):\n",
    "        for elec_spec in elec_specs:\n",
    "            elec_spec.rebin(fin_eleceng)\n",
    "            elec_spec.switch_spec_type()\n",
    "    "
   ]
  },
  {
   "cell_type": "markdown",
   "metadata": {},
   "source": [
    "Finally, we can construct the `TransferFuncList` from this."
   ]
  },
  {
   "cell_type": "code",
   "execution_count": 13,
   "metadata": {},
   "outputs": [
    {
     "data": {
      "application/vnd.jupyter.widget-view+json": {
       "model_id": "806c5abec7e940cbaf392846449ae4da",
       "version_major": 2,
       "version_minor": 0
      },
      "text/html": [
       "<p>Failed to display Jupyter Widget of type <code>HBox</code>.</p>\n",
       "<p>\n",
       "  If you're reading this message in the Jupyter Notebook or JupyterLab Notebook, it may mean\n",
       "  that the widgets JavaScript is still loading. If this message persists, it\n",
       "  likely means that the widgets JavaScript library is either not installed or\n",
       "  not enabled. See the <a href=\"https://ipywidgets.readthedocs.io/en/stable/user_install.html\">Jupyter\n",
       "  Widgets Documentation</a> for setup instructions.\n",
       "</p>\n",
       "<p>\n",
       "  If you're reading this message in another frontend (for example, a static\n",
       "  rendering on GitHub or <a href=\"https://nbviewer.jupyter.org/\">NBViewer</a>),\n",
       "  it may mean that your frontend doesn't currently support widgets.\n",
       "</p>\n"
      ],
      "text/plain": [
       "HBox(children=(IntProgress(value=0, max=11), HTML(value='')))"
      ]
     },
     "metadata": {},
     "output_type": "display_data"
    },
    {
     "name": "stdout",
     "output_type": "stream",
     "text": [
      "\n"
     ]
    },
    {
     "data": {
      "application/vnd.jupyter.widget-view+json": {
       "model_id": "e52ed27566c540aeb762f027acb326f0",
       "version_major": 2,
       "version_minor": 0
      },
      "text/html": [
       "<p>Failed to display Jupyter Widget of type <code>HBox</code>.</p>\n",
       "<p>\n",
       "  If you're reading this message in the Jupyter Notebook or JupyterLab Notebook, it may mean\n",
       "  that the widgets JavaScript is still loading. If this message persists, it\n",
       "  likely means that the widgets JavaScript library is either not installed or\n",
       "  not enabled. See the <a href=\"https://ipywidgets.readthedocs.io/en/stable/user_install.html\">Jupyter\n",
       "  Widgets Documentation</a> for setup instructions.\n",
       "</p>\n",
       "<p>\n",
       "  If you're reading this message in another frontend (for example, a static\n",
       "  rendering on GitHub or <a href=\"https://nbviewer.jupyter.org/\">NBViewer</a>),\n",
       "  it may mean that your frontend doesn't currently support widgets.\n",
       "</p>\n"
      ],
      "text/plain": [
       "HBox(children=(IntProgress(value=0, max=11), HTML(value='')))"
      ]
     },
     "metadata": {},
     "output_type": "display_data"
    },
    {
     "name": "stdout",
     "output_type": "stream",
     "text": [
      "\n"
     ]
    },
    {
     "data": {
      "application/vnd.jupyter.widget-view+json": {
       "model_id": "252efbc968364479a089c143e2177606",
       "version_major": 2,
       "version_minor": 0
      },
      "text/html": [
       "<p>Failed to display Jupyter Widget of type <code>HBox</code>.</p>\n",
       "<p>\n",
       "  If you're reading this message in the Jupyter Notebook or JupyterLab Notebook, it may mean\n",
       "  that the widgets JavaScript is still loading. If this message persists, it\n",
       "  likely means that the widgets JavaScript library is either not installed or\n",
       "  not enabled. See the <a href=\"https://ipywidgets.readthedocs.io/en/stable/user_install.html\">Jupyter\n",
       "  Widgets Documentation</a> for setup instructions.\n",
       "</p>\n",
       "<p>\n",
       "  If you're reading this message in another frontend (for example, a static\n",
       "  rendering on GitHub or <a href=\"https://nbviewer.jupyter.org/\">NBViewer</a>),\n",
       "  it may mean that your frontend doesn't currently support widgets.\n",
       "</p>\n"
      ],
      "text/plain": [
       "HBox(children=(IntProgress(value=0, max=11), HTML(value='')))"
      ]
     },
     "metadata": {},
     "output_type": "display_data"
    },
    {
     "name": "stdout",
     "output_type": "stream",
     "text": [
      "\n"
     ]
    }
   ],
   "source": [
    "tfunclist_photspec_list = [\n",
    "    tflist.TransferFuncList(\n",
    "        [\n",
    "            tf.TransFuncAtEnergy(spec_arr, dlnz=0.002)\n",
    "            for spec_arr in photspec_xe\n",
    "        ]\n",
    "    ) for photspec_xe in tqdm(photspec_list)\n",
    "]\n",
    "\n",
    "tfunclist_lowengphotspec_list = [\n",
    "    tflist.TransferFuncList(\n",
    "        [\n",
    "            tf.TransFuncAtEnergy(spec_arr, dlnz=0.002)\n",
    "            for spec_arr in lowengphotspec_xe\n",
    "        ]\n",
    "    ) for lowengphotspec_xe in tqdm(lowengphotspec_list)\n",
    "]\n",
    "    \n",
    "\n",
    "tfunclist_lowengelecspec_list = [\n",
    "    tflist.TransferFuncList(\n",
    "        [\n",
    "            tf.TransFuncAtEnergy(spec_arr, dlnz=0.002)\n",
    "            for spec_arr in lowengelecspec_xe\n",
    "        ]\n",
    "    ) for lowengelecspec_xe in tqdm(lowengelecspec_list)\n",
    "]"
   ]
  },
  {
   "cell_type": "markdown",
   "metadata": {},
   "source": [
    "We will now transpose all of the `TransFuncList` objects so that they are now all of type `'rs'`. This will then "
   ]
  },
  {
   "cell_type": "code",
   "execution_count": 14,
   "metadata": {},
   "outputs": [],
   "source": [
    "for tflist_hep, tflist_lep, tflist_lee in zip(\n",
    "    tfunclist_photspec_list, tfunclist_lowengphotspec_list, tfunclist_lowengelecspec_list):\n",
    "    tflist_hep.transpose()\n",
    "    tflist_lep.transpose()\n",
    "    tflist_lee.transpose()\n",
    "    for tf_hep, tf_lep, tf_lee in zip(tflist_hep, tflist_lep, tflist_lee):\n",
    "        tf_hep.grid_vals[np.where(tf_hep.grid_vals < 0)] = 1e-100\n",
    "        tf_lep.grid_vals[np.where(tf_lep.grid_vals < 0)] = 1e-100\n",
    "        tf_lee.grid_vals[np.where(tf_lee.grid_vals < 0)] = 1e-100"
   ]
  },
  {
   "cell_type": "code",
   "execution_count": 15,
   "metadata": {},
   "outputs": [],
   "source": [
    "pickle.dump(tfunclist_photspec_list, \n",
    "           open(\"/Users/hongwan/Dropbox (MIT)/Photon Deposition/tfunclist_photspec_list.raw\", \"wb\")\n",
    "           )\n",
    "\n",
    "pickle.dump(tfunclist_lowengphotspec_list, \n",
    "           open(\"/Users/hongwan/Dropbox (MIT)/Photon Deposition/tfunclist_lowengphotspec_list.raw\", \"wb\")\n",
    "           )\n",
    "\n",
    "pickle.dump(tfunclist_lowengelecspec_list, \n",
    "           open(\"/Users/hongwan/Dropbox (MIT)/Photon Deposition/tfunclist_lowengelecspec_list.raw\", \"wb\")\n",
    "           )"
   ]
  },
  {
   "cell_type": "markdown",
   "metadata": {
    "collapsed": true
   },
   "source": [
    "At the end, we have the normalized transfer functions, which will takes in a `Spectrum` of number of particles in each bin, and outputs the `Spectrum`, also number of particles."
   ]
  },
  {
   "cell_type": "code",
   "execution_count": 16,
   "metadata": {},
   "outputs": [],
   "source": [
    "pickle.dump(\n",
    "    CMB_engloss_list, \n",
    "    open(\"/Users/hongwan/Dropbox (MIT)/Photon Deposition/CMB_engloss_list.raw\", \"wb\")       \n",
    "           )"
   ]
  },
  {
   "cell_type": "code",
   "execution_count": 17,
   "metadata": {},
   "outputs": [
    {
     "data": {
      "text/plain": [
       "array([3.07055596e+03, 3.21164435e+03, 3.35924883e+03, 3.51367344e+03,\n",
       "       3.67523670e+03, 3.67612952e+03, 3.84524915e+03, 4.02219870e+03,\n",
       "       4.20734528e+03, 4.40107368e+03, 4.60378720e+03, 4.81590859e+03,\n",
       "       5.03788108e+03, 5.27016937e+03, 5.51326073e+03, 5.76766622e+03,\n",
       "       6.03392182e+03, 6.31258980e+03, 6.60426003e+03, 6.90955145e+03,\n",
       "       7.22911360e+03, 7.56362822e+03, 7.91381094e+03, 8.28041313e+03,\n",
       "       8.28510952e+03, 8.66936132e+03, 9.07169160e+03, 9.49297470e+03,\n",
       "       9.93412938e+03, 1.03961213e+04, 1.08799656e+04, 1.13867298e+04,\n",
       "       1.19175364e+04, 1.24735663e+04, 1.30560622e+04, 1.36663317e+04,\n",
       "       1.43057515e+04, 1.49757711e+04, 1.56779174e+04, 1.56951267e+04,\n",
       "       1.64326223e+04, 1.72056994e+04, 1.80161592e+04, 1.88659012e+04,\n",
       "       1.97569299e+04, 2.06913609e+04, 2.16714275e+04, 2.26994887e+04,\n",
       "       2.37780369e+04, 2.49097060e+04, 2.60972811e+04, 2.73437075e+04,\n",
       "       2.73963293e+04, 2.87096531e+04, 3.00887051e+04, 3.15370218e+04,\n",
       "       3.30583510e+04, 3.46566661e+04, 3.63361817e+04, 3.81013698e+04,\n",
       "       3.99569781e+04, 4.19080490e+04, 4.20309110e+04, 4.40943007e+04,\n",
       "       4.62652816e+04, 4.85500119e+04, 5.09550471e+04, 5.34873694e+04,\n",
       "       5.61544188e+04, 5.89641269e+04, 5.92038429e+04, 6.21870922e+04,\n",
       "       6.53325851e+04, 6.86501575e+04, 7.21503211e+04, 7.58443163e+04,\n",
       "       7.62353212e+04, 8.01717374e+04, 8.43303009e+04, 8.87251164e+04,\n",
       "       9.33713038e+04, 9.82850796e+04, 9.89227745e+04, 1.04181173e+05,\n",
       "       1.09748824e+05, 1.15646318e+05, 1.21895797e+05, 1.22846864e+05,\n",
       "       1.29561099e+05, 1.36685099e+05, 1.44247247e+05, 1.45544416e+05,\n",
       "       1.53696675e+05, 1.62362042e+05, 1.71577175e+05, 1.73346537e+05,\n",
       "       1.83316663e+05, 1.93934451e+05, 1.96141517e+05, 2.07661377e+05,\n",
       "       2.19947589e+05, 2.22700862e+05, 2.36069138e+05, 2.50348146e+05,\n",
       "       2.53783189e+05, 2.69365112e+05, 2.86033955e+05, 2.90320219e+05,\n",
       "       3.08563632e+05, 3.13453588e+05, 3.33459027e+05, 3.54914515e+05,\n",
       "       3.61018060e+05, 3.84615048e+05, 3.91579517e+05, 4.17581446e+05,\n",
       "       4.25528898e+05, 4.54235143e+05, 4.63305125e+05, 4.95056152e+05,\n",
       "       5.05408239e+05, 5.40591519e+05, 5.52408246e+05, 5.91465049e+05,\n",
       "       6.04955272e+05, 6.19025364e+05, 6.63791232e+05, 6.79856459e+05,\n",
       "       7.29763249e+05, 7.48109224e+05, 7.67244599e+05, 8.24792927e+05,\n",
       "       8.46649104e+05, 8.69446267e+05, 9.36029551e+05, 9.62073683e+05,\n",
       "       9.89239925e+05, 1.06652199e+06, 1.09756465e+06, 1.12994594e+06,\n",
       "       1.21991512e+06, 1.25692622e+06, 1.29553494e+06, 1.33581001e+06,\n",
       "       1.44470994e+06, 1.49075819e+06, 1.53879619e+06, 1.58890969e+06,\n",
       "       1.72130479e+06, 1.77862158e+06, 1.83841798e+06, 1.90080107e+06,\n",
       "       1.96588251e+06, 2.13377994e+06, 2.20824833e+06, 2.28594249e+06,\n",
       "       2.36700194e+06, 2.45157225e+06, 2.53980528e+06, 2.63185945e+06,\n",
       "       2.86345036e+06, 2.96884485e+06, 3.07881102e+06, 3.19354700e+06,\n",
       "       3.31325951e+06, 3.43816421e+06, 3.56848611e+06, 3.70445998e+06,\n",
       "       4.03985664e+06, 4.19564663e+06, 4.35820487e+06, 4.52782527e+06,\n",
       "       4.70481449e+06, 4.88949249e+06, 5.08219315e+06, 5.28326483e+06,\n",
       "       5.49307102e+06, 5.71199099e+06, 5.94042048e+06, 6.17877241e+06,\n",
       "       6.75717675e+06, 7.03055569e+06, 7.31583178e+06, 7.61352268e+06,\n",
       "       7.92416855e+06, 8.24833307e+06, 8.58660444e+06, 8.93959646e+06,\n",
       "       9.30794962e+06, 9.69233230e+06, 1.00934419e+07, 1.05120063e+07,\n",
       "       1.09487849e+07, 1.14045702e+07, 1.18801892e+07, 1.23765049e+07,\n",
       "       1.28944177e+07, 1.34348674e+07, 1.39988346e+07, 1.45873425e+07,\n",
       "       1.52014588e+07, 1.58422978e+07, 1.65110222e+07, 1.72088453e+07,\n",
       "       1.79370331e+07, 1.96961408e+07, 2.05331676e+07, 2.14066888e+07,\n",
       "       2.23182957e+07, 2.32696487e+07, 2.42624806e+07, 2.52986000e+07,\n",
       "       2.63798941e+07, 2.75083325e+07, 2.86859707e+07, 2.99149536e+07,\n",
       "       3.11975200e+07, 3.25360059e+07, 3.39328495e+07, 3.53905950e+07,\n",
       "       3.69118978e+07, 3.84995288e+07, 4.01563799e+07, 4.18854690e+07,\n",
       "       4.36899457e+07, 4.55730968e+07, 4.75383524e+07, 4.95892922e+07,\n",
       "       5.17296519e+07, 5.39633301e+07, 5.62943955e+07, 5.87270941e+07,\n",
       "       6.12658569e+07, 6.39153083e+07, 6.66802741e+07, 6.95657907e+07,\n",
       "       7.25771140e+07, 7.57197291e+07, 7.89993600e+07, 8.24219807e+07,\n",
       "       8.59938253e+07, 8.97213998e+07, 9.36114939e+07, 9.76711934e+07,\n",
       "       1.01907893e+08, 1.06329309e+08, 1.10943496e+08, 1.15758858e+08,\n",
       "       1.20784166e+08, 1.26028573e+08, 1.31501633e+08, 1.37213313e+08,\n",
       "       1.43174019e+08, 1.49394606e+08, 1.55886406e+08, 1.62661243e+08,\n",
       "       1.69731458e+08, 1.77109928e+08, 1.84810093e+08, 1.92845979e+08,\n",
       "       2.01232223e+08, 2.09984100e+08, 2.19117551e+08, 2.28649214e+08,\n",
       "       2.38596448e+08, 2.48977373e+08, 2.59810898e+08, 2.71116754e+08,\n",
       "       2.82915537e+08, 2.95228736e+08, 3.08078779e+08, 3.21489073e+08,\n",
       "       3.35484044e+08, 3.50089183e+08, 3.65331094e+08, 3.81237538e+08,\n",
       "       3.97837488e+08, 4.15161182e+08, 4.33240173e+08, 4.52107391e+08,\n",
       "       4.71797203e+08, 4.92345474e+08, 5.13789630e+08, 5.36168731e+08,\n",
       "       5.59523541e+08, 5.83896600e+08, 6.09332301e+08, 6.35876976e+08,\n",
       "       6.63578974e+08, 6.92488753e+08, 7.22658972e+08, 7.54144585e+08,\n",
       "       7.87002942e+08, 8.21293892e+08, 8.57079896e+08, 8.94426136e+08,\n",
       "       9.33400638e+08, 9.74074392e+08, 1.01652148e+09, 1.06081923e+09,\n",
       "       1.10704831e+09, 1.15529294e+09, 1.20564099e+09, 1.25818417e+09,\n",
       "       1.31301819e+09, 1.37024291e+09, 1.42996258e+09, 1.49228597e+09,\n",
       "       1.55732660e+09, 1.62520294e+09, 1.69603862e+09, 1.76996268e+09,\n",
       "       1.84710975e+09, 1.92762036e+09, 2.01164116e+09, 2.09932519e+09,\n",
       "       2.19083216e+09, 2.28632874e+09, 2.38598889e+09, 2.48999412e+09,\n",
       "       2.59853389e+09, 2.71180588e+09, 2.83001643e+09, 2.95338084e+09,\n",
       "       3.08212383e+09, 3.21647989e+09, 3.35669374e+09, 3.50302079e+09,\n",
       "       3.65572755e+09, 3.81509219e+09, 3.98140497e+09, 4.15496883e+09,\n",
       "       4.33609991e+09, 4.52512814e+09, 4.72239782e+09, 4.92826826e+09,\n",
       "       5.14311446e+09, 5.36732776e+09, 5.60131653e+09, 5.84550700e+09,\n",
       "       6.10034394e+09, 6.36629152e+09, 6.64383417e+09, 6.93347742e+09,\n",
       "       7.23574883e+09, 7.55119899e+09, 7.88040247e+09, 8.22395892e+09,\n",
       "       8.58249409e+09, 8.95666106e+09, 9.34714135e+09, 9.75464622e+09,\n",
       "       1.01799179e+10, 1.06237310e+10, 1.10868940e+10, 1.15702504e+10,\n",
       "       1.20746807e+10, 1.26011037e+10, 1.31504782e+10, 1.37238049e+10,\n",
       "       1.43221281e+10, 1.49465377e+10, 1.55981709e+10, 1.62782147e+10,\n",
       "       1.69879077e+10, 1.77285427e+10, 1.85014687e+10, 1.93080935e+10,\n",
       "       2.01498863e+10, 2.10283806e+10, 2.19451763e+10, 2.29019435e+10,\n",
       "       2.39004248e+10, 2.49424389e+10, 2.60298839e+10, 2.71647404e+10,\n",
       "       2.83490756e+10, 2.95850467e+10, 3.08749049e+10, 3.22209997e+10,\n",
       "       3.36257830e+10, 3.50918134e+10, 3.66217614e+10, 3.82184137e+10,\n",
       "       3.98846785e+10, 4.16235908e+10, 4.34383181e+10, 4.53321657e+10,\n",
       "       4.73085833e+10, 4.93711708e+10, 5.15236852e+10, 5.37700471e+10,\n",
       "       5.61143482e+10, 5.85608587e+10, 6.11140346e+10, 6.37785266e+10,\n",
       "       6.65591879e+10, 6.94610834e+10, 7.24894988e+10, 7.56499501e+10,\n",
       "       7.89481942e+10, 8.23902385e+10, 8.59823526e+10, 8.97310796e+10,\n",
       "       9.36432474e+10, 9.77259820e+10, 1.01986720e+11, 1.06433222e+11,\n",
       "       1.11073587e+11, 1.15916268e+11, 1.20970085e+11, 1.26244244e+11,\n",
       "       1.31748351e+11, 1.37492431e+11, 1.43486948e+11, 1.49742821e+11,\n",
       "       1.56271443e+11, 1.63084707e+11, 1.70195023e+11, 1.77615342e+11,\n",
       "       1.85359180e+11, 1.93440642e+11, 2.01874447e+11, 2.10675959e+11,\n",
       "       2.19861208e+11, 2.29446925e+11, 2.39450570e+11, 2.49890365e+11,\n",
       "       2.60785325e+11, 2.72155294e+11, 2.84020984e+11, 2.96404006e+11,\n",
       "       3.09326916e+11, 3.22813252e+11, 3.36887580e+11, 3.51575535e+11,\n",
       "       3.66903871e+11, 3.82900508e+11, 3.99594583e+11, 4.17016503e+11,\n",
       "       4.35198003e+11, 4.54172199e+11, 4.73973651e+11, 4.94638428e+11,\n",
       "       5.16204170e+11, 5.38710157e+11, 5.62197384e+11, 5.86708631e+11,\n",
       "       6.12288545e+11, 6.38983720e+11, 6.66842778e+11, 6.95916465e+11,\n",
       "       7.26257736e+11, 7.57921858e+11, 7.90966506e+11, 8.25451868e+11,\n",
       "       8.61440760e+11, 8.98998732e+11, 9.38194197e+11, 9.79098546e+11,\n",
       "       1.02178629e+12, 1.06633517e+12, 1.11282634e+12, 1.16134449e+12,\n",
       "       1.21197798e+12, 1.26481904e+12, 1.31996392e+12, 1.37751306e+12,\n",
       "       1.43757129e+12, 1.50024801e+12, 1.56565737e+12, 1.63391851e+12,\n",
       "       1.70515578e+12, 1.77949892e+12, 1.85708335e+12, 1.93805039e+12,\n",
       "       2.02254751e+12, 2.11072863e+12, 2.20275436e+12, 2.29879232e+12,\n",
       "       2.39901745e+12, 2.50361230e+12, 2.61276738e+12, 2.72668152e+12,\n",
       "       2.84556221e+12, 2.96962598e+12, 3.09909882e+12, 3.23421654e+12,\n",
       "       3.37522527e+12, 3.52238185e+12, 3.67595431e+12, 3.83622239e+12,\n",
       "       4.00347800e+12, 4.17802579e+12, 4.36018370e+12, 4.55028353e+12,\n",
       "       4.74867152e+12, 4.95570904e+12, 5.17177320e+12, 5.39725755e+12])"
      ]
     },
     "execution_count": 17,
     "metadata": {},
     "output_type": "execute_result"
    }
   ],
   "source": [
    "tfunclist_photspec_list[0].eng"
   ]
  },
  {
   "cell_type": "code",
   "execution_count": null,
   "metadata": {},
   "outputs": [],
   "source": []
  }
 ],
 "metadata": {
  "anaconda-cloud": {},
  "kernelspec": {
   "display_name": "Python 3",
   "language": "python",
   "name": "python3"
  },
  "language_info": {
   "codemirror_mode": {
    "name": "ipython",
    "version": 3
   },
   "file_extension": ".py",
   "mimetype": "text/x-python",
   "name": "python",
   "nbconvert_exporter": "python",
   "pygments_lexer": "ipython3",
   "version": "3.6.5"
  },
  "widgets": {
   "state": {
    "19591f7189204dda92ca817032aeaf06": {
     "views": [
      {
       "cell_index": 20
      }
     ]
    },
    "1db41504ad1d4f98a86f6a0d08c45b91": {
     "views": [
      {
       "cell_index": 20
      }
     ]
    },
    "a91cb9cb66544e269d2ad658c21f82f7": {
     "views": [
      {
       "cell_index": 20
      }
     ]
    }
   },
   "version": "1.2.0"
  }
 },
 "nbformat": 4,
 "nbformat_minor": 1
}
