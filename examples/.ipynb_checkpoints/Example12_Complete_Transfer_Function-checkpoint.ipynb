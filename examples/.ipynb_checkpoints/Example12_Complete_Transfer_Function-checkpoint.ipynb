{
 "cells": [
  {
   "cell_type": "markdown",
   "metadata": {},
   "source": [
    "# Full Transfer Functions"
   ]
  },
  {
   "cell_type": "code",
   "execution_count": 1,
   "metadata": {},
   "outputs": [],
   "source": [
    "%load_ext autoreload\n",
    "import sys\n",
    "sys.path.append(\"..\")"
   ]
  },
  {
   "cell_type": "code",
   "execution_count": 2,
   "metadata": {},
   "outputs": [],
   "source": [
    "%autoreload\n",
    "\n",
    "import matplotlib\n",
    "matplotlib.rc_file('matplotlibrc')\n",
    "import matplotlib.pyplot as plt\n",
    "\n",
    "%matplotlib inline\n",
    "\n",
    "matplotlib.rcParams['figure.figsize'] = [10,10]\n",
    "\n",
    "\n",
    "from astropy.io import fits\n",
    "\n",
    "import numpy as np\n",
    "import copy\n",
    "import pickle\n",
    "\n",
    "import darkhistory.physics as phys\n",
    "import darkhistory.utilities as utils\n",
    "import darkhistory.spec.spectools as spectools\n",
    "import darkhistory.spec.transferfunction as tf\n",
    "import darkhistory.spec.transferfunclist as tflist\n",
    "from darkhistory.spec.spectrum import Spectrum\n",
    "from darkhistory.spec.spectra import Spectra\n",
    "import darkhistory.history.tla as tla\n",
    "\n",
    "from scipy.interpolate import interp1d\n",
    "\n",
    "from tqdm import tqdm_notebook as tqdm\n",
    "\n",
    "from darkhistory.electrons.ics.ics_spectrum import ics_spec\n",
    "from darkhistory.electrons.ics.ics_engloss_spectrum import engloss_spec\n",
    "from darkhistory.electrons.ics.ics_cooling import get_ics_cooling_tf\n",
    "\n",
    "import darkhistory.low_energy.lowE_photons as lowE_photons\n",
    "import darkhistory.low_energy.lowE_electrons as lowE_electrons\n",
    "from darkhistory.low_energy.lowE_deposition import compute_fs\n",
    "\n",
    "# np.set_printoptions(threshold=np.nan)"
   ]
  },
  {
   "cell_type": "markdown",
   "metadata": {},
   "source": [
    "## Photon Transfer Functions"
   ]
  },
  {
   "cell_type": "code",
   "execution_count": 23,
   "metadata": {},
   "outputs": [],
   "source": [
    "user = 'hongwan'\n",
    "\n",
    "highengphot_tflist_arr = pickle.load(open(\"/Users/\"+user+\"/Dropbox (MIT)/Photon Deposition/tfunclist_photspec_60eV_complete_coarse.raw\", \"rb\"))\n",
    "lowengphot_tflist_arr  = pickle.load(open(\"/Users/\"+user+\"/Dropbox (MIT)/Photon Deposition/tfunclist_lowengphotspec_60eV_complete_coarse.raw\", \"rb\"))\n",
    "lowengelec_tflist_arr  = pickle.load(open(\"/Users/\"+user+\"/Dropbox (MIT)/Photon Deposition/tfunclist_lowengelecspec_60eV_complete_coarse.raw\", \"rb\"))\n",
    "CMB_engloss_arr = pickle.load(open(\"/Users/\"+user+\"/Dropbox (MIT)/Photon Deposition/CMB_engloss_60eV_complete_coarse.raw\", \"rb\"))"
   ]
  },
  {
   "cell_type": "code",
   "execution_count": 25,
   "metadata": {},
   "outputs": [
    {
     "data": {
      "text/plain": [
       "(11, 51, 325)"
      ]
     },
     "execution_count": 25,
     "metadata": {},
     "output_type": "execute_result"
    }
   ],
   "source": [
    "CMB_engloss_arr.shape"
   ]
  },
  {
   "cell_type": "code",
   "execution_count": 26,
   "metadata": {},
   "outputs": [],
   "source": [
    "photeng = highengphot_tflist_arr[0].eng\n",
    "eleceng = lowengelec_tflist_arr[0].eng\n",
    "\n",
    "#Split photeng into high and low energy. \n",
    "photeng_high = photeng[photeng > 60]\n",
    "photeng_low  = photeng[photeng <= 60]\n",
    "\n",
    "# Split eleceng into high and low energy. \n",
    "eleceng_high = eleceng[eleceng > 3000]\n",
    "eleceng_low  = eleceng[eleceng <= 3000]\n",
    "\n",
    "\n",
    "for highengphot_tflist in highengphot_tflist_arr:\n",
    "    \n",
    "#     highengphot_tflist.at_val('in_eng', photeng_high, bounds_error=False, fill_value=0)\n",
    "\n",
    "    for tf in highengphot_tflist:\n",
    "        # tf.rebin(photeng_high)\n",
    "#         tf.rebin(photeng)\n",
    "        \n",
    "        # Pad with zeros so that it becomes photeng x photeng. \n",
    "        tf._grid_vals = np.pad(tf.grid_vals, ((photeng_low.size, 0), (0, 0)), 'constant')\n",
    "        tf._N_underflow = np.pad(tf._N_underflow, (photeng_low.size, 0), 'constant')\n",
    "        tf._eng_underflow = np.pad(tf._eng_underflow, (photeng_low.size, 0), 'constant')\n",
    "        tf._in_eng = photeng\n",
    "        tf._eng = photeng\n",
    "        tf._rs = tf.rs[0]*np.ones_like(photeng)\n",
    "    \n",
    "    highengphot_tflist._eng = photeng\n",
    "    highengphot_tflist._in_eng = photeng\n",
    "    \n",
    "# lowengphot_tflist.in_eng set to photeng_high\n",
    "for lowengphot_tflist in lowengphot_tflist_arr:\n",
    "    \n",
    "#     lowengphot_tflist.at_val('in_eng', photeng_high, bounds_error=False, fill_value=0)\n",
    "    \n",
    "    for tf in lowengphot_tflist:\n",
    "#         tf.rebin(photeng)\n",
    "        # Pad with zeros so that it becomes photeng x photeng. \n",
    "        tf._grid_vals = np.pad(tf.grid_vals, ((photeng_low.size,0), (0,0)), 'constant')\n",
    "        # Photons in the low energy bins should be immediately deposited.\n",
    "        tf._grid_vals[0:photeng_low.size, 0:photeng_low.size] = np.identity(photeng_low.size)\n",
    "        tf._N_underflow = np.pad(tf._N_underflow, (photeng_low.size, 0), 'constant')\n",
    "        tf._eng_underflow = np.pad(tf._eng_underflow, (photeng_low.size, 0), 'constant')\n",
    "        tf._in_eng = photeng\n",
    "        tf._eng = photeng\n",
    "        tf._rs = tf.rs[0]*np.ones_like(photeng)\n",
    "    \n",
    "    lowengphot_tflist._eng = photeng\n",
    "    lowengphot_tflist._in_eng = photeng\n",
    "    \n",
    "# lowengelec_tflist.in_eng set to photeng_high \n",
    "for lowengelec_tflist in lowengelec_tflist_arr:\n",
    "    \n",
    "#     lowengelec_tflist.at_val('in_eng', photeng_high, bounds_error=False, fill_value=0)\n",
    "    \n",
    "    for tf in lowengelec_tflist:\n",
    "#         tf.rebin(eleceng)\n",
    "        # Pad with zeros so that it becomes photeng x eleceng. \n",
    "        tf._grid_vals = np.pad(tf.grid_vals, ((photeng_low.size,0), (0,0)), 'constant')\n",
    "        tf._N_underflow = np.pad(tf._N_underflow, (photeng_low.size, 0), 'constant')\n",
    "        tf._eng_underflow = np.pad(tf._eng_underflow, (photeng_low.size, 0), 'constant')\n",
    "        tf._in_eng = photeng\n",
    "        tf._eng = eleceng\n",
    "        tf._rs = tf.rs[0]*np.ones_like(photeng)\n",
    "\n",
    "    lowengelec_tflist._eng = eleceng\n",
    "    lowengelec_tflist._in_eng = photeng\n",
    "    \n",
    "    for engloss in CMB_engloss_arr:\n",
    "        engloss = np.pad(engloss, ((0,0),(photeng_low.size, 0)), 'constant')\n"
   ]
  },
  {
   "cell_type": "code",
   "execution_count": 27,
   "metadata": {},
   "outputs": [],
   "source": [
    "xes = 0.5 + 0.5*np.tanh([-5., -4.1, -3.2, -2.3, -1.4, -0.5, 0.4, 1.3, 2.2, 3.1, 4])\n"
   ]
  },
  {
   "cell_type": "code",
   "execution_count": 39,
   "metadata": {},
   "outputs": [],
   "source": [
    "highengphot_tf_interp = tflist.TransferFuncInterp(xes, highengphot_tflist_arr)\n",
    "lowengphot_tf_interp = tflist.TransferFuncInterp(xes, lowengphot_tflist_arr)\n",
    "lowengelec_tf_interp = tflist.TransferFuncInterp(xes, lowengelec_tflist_arr)\n",
    "\n",
    "\n",
    "phot_spec_init = spectools.rebin_N_arr(np.array([2]), \n",
    "                                      np.array([1e11]), \n",
    "                                      photeng)\n",
    "phot_spec_init.switch_spec_type()\n"
   ]
  },
  {
   "cell_type": "code",
   "execution_count": null,
   "metadata": {},
   "outputs": [],
   "source": [
    "phot_spec_init.rs = 203\n",
    "end_rs   = 50\n",
    "\n",
    "in_spec = \n",
    "\n",
    "def evolve(\n",
    "    in_spec, xe_init, T_m_init,\n",
    "    highengphot_tf_interp, lowengphot_tf_interp, \n",
    "    lowengelec_tf_interp, \n",
    "    end_rs, coarsen_factor, save_steps=True\n",
    "):\n",
    "    \"\"\"\n",
    "    Main function that computes the temperature and ionization history. \n",
    "    \n",
    "    Parameters\n",
    "    ----------\n",
    "    in_spec : Spectrum\n",
    "        Spectrum of photons injected per baryon per highengphot_tf_interp.dlnz\n",
    "    xe_init : float\n",
    "        xe at the initial redshift. \n",
    "    T_m_init : float\n",
    "        Matter temperature at the initial redshift. \n",
    "    highengphot_tf_interp : TransferFuncInterp\n",
    "        Interpolation table for high energy photons. \n",
    "    lowengphot_tf_interp : TransferFuncInterp\n",
    "        Interpolation table for low energy photons. \n",
    "    lowengelec_tf_interp : TransferFuncInterp\n",
    "        Interpolation table for low energy electrons. \n",
    "    end_rs : float\n",
    "        Final redshift to evolve to. \n",
    "    coarsen_factor : int\n",
    "        Coarsening to apply to the transfer function matrix. \n",
    "    save_steps : bool\n",
    "        Whether to save all intermediate spectra. \n",
    "    \"\"\"\n",
    "    \n",
    "    \n",
    "    # Initialize the Spectra object that will contain all the \n",
    "    # output spectra during the evolution.\n",
    "    out_highengphot_specs = Spectra([in_spec], spec_type=in_spec.spec_type)\n",
    "    out_lowengphot_specs  = Spectra([], spec_type=in_spec.spec_type)\n",
    "    out_lowengelec_specs  = Spectra([], spec_type=in_spec.spec_type)\n",
    "    \n",
    "    # Initialize the xe and T array that will store the solutions.\n",
    "    xe_arr  = np.array([xe_init])\n",
    "    T_m_arr = np.array([T_m_init])\n",
    "    \n",
    "    # Define these methods for speed.\n",
    "    append_highengphot_spec = out_highengphot_specs.append\n",
    "    append_lowengphot_spec  = out_lowengphot_specs.append\n",
    "    append_lowengelec_spec  = out_lowengelec_specs.append\n",
    "    \n",
    "    # Initialize the next spectrum as None.\n",
    "    next_highengphot_spec = None\n",
    "    next_lowengphot_spec  = None\n",
    "    next_lowengelec_spec  = None\n",
    "    \n",
    "    if (\n",
    "        highengphot_tf_interp.dlnz    != lowengphot_tf_interp.dlnz\n",
    "        or highengphot_tf_interp.dlnz != lowengelec_tf_interp.dlnz\n",
    "        or lowengphot_tf_interp.dlnz  != lowengelec_tf_interp.dlnz\n",
    "    ):\n",
    "        raise TypeError('TransferFuncInterp objects must all have the same dlnz.')\n",
    "    \n",
    "    dlnz = highengphot_tf_interp.dlnz\n",
    "    rs = in_spec.rs\n",
    "    dt = dlnz/phys.hubble(rs)\n",
    "    \n",
    "    # Loop while we are still at a redshift above end_rs.\n",
    "    while rs > end_rs:\n",
    "        \n",
    "        # If next spectrum already exists, calculate f(z). \n",
    "        if next_lowengphot_spec is not None:\n",
    "            f = compute_fs(\n",
    "                next_lowengelec_spec, next_lowengphot_spec,\n",
    "                [xe_arr[-1], 0, 0], \n",
    "            )\n",
    "        \n",
    "        highengphot_tf = highengphot_tf_interp(rs, xe)\n",
    "        lowengphot_tf  = lowengphot_tf_interp(rs, xe)\n",
    "        lowengelec_tf  = lowengelec_tf_interp(rs, xe)\n",
    "        \n",
    "        if coarsen_factor > 1:\n",
    "            prop_tf = np.zeros_like(highengphot_tf._grid_vals)\n",
    "            for i in np.arange(coarsen_factor):\n",
    "                prop_tf += matrix_power(highengphot_tf._grid_vals, i)\n",
    "            lowengphot_tf._grid_vals = np.matmul(prop_tf, lowengphot_tf._grid_vals)\n",
    "            lowengelec_tf._grid_vals = np.matmul(prof_tf, lowengelec_tf._grid_vals)\n",
    "            highengphot_tf._grid_vals = matrix_power(\n",
    "                highengphot_tf._grid_vals, coarsen_factor\n",
    "            )\n",
    "            \n",
    "        next_highengphot_spec = highengphot_tf.sum_specs(out_highengphot_specs[-1])\n",
    "        next_lowengphot_spec  = lowengphot_tf.sum_specs(out_highengphot_specs[-1])\n",
    "        next_lowengelec_spec  = lowengelec_tf.sum_specs(out_highengphot_specs[-1])\n",
    "        \n",
    "        rs = np.exp(np.log(rs) - 0.002)\n",
    "        dt = dlnz/phys.hubble(rs)\n",
    "        next_highengphot_spec.rs = rs\n",
    "        next_lowengphot_spec.rs  = rs\n",
    "        next_lowengelec_spec.rs  = rs\n",
    "        \n",
    "        append_highengphot_spec(next_highengphot_spec)\n",
    "        append_lowengphot_spec(next_lowengphot_spec)\n",
    "        append_lowengelec_spec(next_lowengelec_spec)\n",
    "        \n",
    "        \n",
    "        \n",
    "        \n",
    "            \n",
    "        \n",
    "            \n",
    "    \n"
   ]
  },
  {
   "cell_type": "code",
   "execution_count": 33,
   "metadata": {},
   "outputs": [
    {
     "name": "stdout",
     "output_type": "stream",
     "text": [
      " "
     ]
    }
   ],
   "source": [
    "%%prun\n",
    "for i in np.arange(6000):\n",
    "    tf_interp.get_tf(2000-i/10, 0.5)\n"
   ]
  },
  {
   "cell_type": "code",
   "execution_count": 38,
   "metadata": {},
   "outputs": [
    {
     "data": {
      "text/plain": [
       "'N'"
      ]
     },
     "execution_count": 38,
     "metadata": {},
     "output_type": "execute_result"
    }
   ],
   "source": [
    "highengphot_tflist_arr[0][0].spec_type"
   ]
  },
  {
   "cell_type": "code",
   "execution_count": null,
   "metadata": {},
   "outputs": [],
   "source": []
  }
 ],
 "metadata": {
  "kernelspec": {
   "display_name": "Python 3",
   "language": "python",
   "name": "python3"
  },
  "language_info": {
   "codemirror_mode": {
    "name": "ipython",
    "version": 3
   },
   "file_extension": ".py",
   "mimetype": "text/x-python",
   "name": "python",
   "nbconvert_exporter": "python",
   "pygments_lexer": "ipython3",
   "version": "3.6.5"
  }
 },
 "nbformat": 4,
 "nbformat_minor": 2
}
