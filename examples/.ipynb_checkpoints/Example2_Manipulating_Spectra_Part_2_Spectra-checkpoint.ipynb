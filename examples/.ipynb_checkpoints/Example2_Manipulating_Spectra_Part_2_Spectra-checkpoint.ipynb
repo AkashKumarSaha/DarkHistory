{
 "cells": [
  {
   "cell_type": "markdown",
   "metadata": {},
   "source": [
    "# Ex 2: Manipulating Spectra Part 2 - `Spectra`"
   ]
  },
  {
   "cell_type": "markdown",
   "metadata": {},
   "source": [
    "## Notebook Initialization"
   ]
  },
  {
   "cell_type": "code",
   "execution_count": null,
   "metadata": {
    "collapsed": false
   },
   "outputs": [],
   "source": [
    "%load_ext autoreload\n",
    "import sys\n",
    "sys.path.append(\"..\")"
   ]
  },
  {
   "cell_type": "code",
   "execution_count": 66,
   "metadata": {
    "collapsed": true
   },
   "outputs": [],
   "source": [
    "%autoreload\n",
    "%matplotlib inline\n",
    "\n",
    "import matplotlib\n",
    "import matplotlib.pyplot as plt\n",
    "\n",
    "matplotlib.rcParams['figure.figsize'] = [10,10]\n",
    "\n",
    "import numpy as np\n",
    "from scipy.integrate import quad\n",
    "\n",
    "import darkhistory.physics as physics\n",
    "import darkhistory.spec.spectools as spectools\n",
    "from darkhistory.spec.spectrum import Spectrum\n",
    "from darkhistory.spec.spectra import Spectra"
   ]
  },
  {
   "cell_type": "markdown",
   "metadata": {},
   "source": [
    "## `Spectra` Class - Introduction"
   ]
  },
  {
   "cell_type": "markdown",
   "metadata": {},
   "source": [
    "The `Spectra` class is simply a collection of `Spectrum` objects. The main use of `Spectra` is as a list of spectra produced by the same process at different redshifts. It is the parent class of `TransFuncAtEnergy` and `TransFuncAtRedshift`, which are useful classes for transfer functions described in a later example. \n",
    "\n",
    "To demonstrate how to use this class, consider the extragalactic photon flux coming from the smooth distribution of dark matter throughout the universe, decaying with some spectrum $dN/dE(z)$. This is given by (see Essig et al. 1309.4091): \n",
    "\n",
    "$$ \\frac{d^2 \\Phi}{d\\Omega \\, dE} = \\frac{1}{4\\pi} \\frac{\\Gamma \\Omega_{\\text{DM}} \\rho_c}{m_{\\text{DM}} H_0 \\sqrt{\\Omega_m}} \\int_0^\\infty dz \\frac{dN}{dE(z)} \\frac{1}{(1 + z)^{3/2}} \\frac{1}{\\sqrt{1 + \\kappa(1 + z)^{-3}}} $$\n",
    "\n",
    "where $\\kappa = \\Omega_\\Lambda/\\Omega_m$, and $\\Gamma$ is the decay width. $dN/dE(z)$ is the photon spectrum observed today from a decay event at redshift $z$, with $E(z) = E(1+z)$. \n",
    "\n",
    "With a delta function photon spectrum from the decay, $dN/dE(z) = \\delta(E(z) - m_{\\text{DM}}/2)$, the photon flux can be evaluated exactly as\n",
    "\n",
    "$$ \\frac{d^2 \\Phi}{d\\Omega \\, dE} = \\frac{1}{4\\pi} \\frac{\\Gamma \\Omega_{\\text{DM}} \\rho_c}{m_{\\text{DM}} H_0 \\sqrt{\\Omega_m}} \\cdot \\frac{2}{m_{\\text{DM}}} \\sqrt{\\frac{2E}{m_{\\text{DM}}}} \\frac{\\Theta(E - m_{\\text{DM}}/2)}{\\sqrt{1 + \\kappa(2E/m_{\\text{DM}})^3}} $$\n",
    "\n",
    "Instead of evaluating this analytically, we will now instead compute a discrete approximation of the first equation, and see that we recover some approximation of the final analytic result. "
   ]
  },
  {
   "cell_type": "markdown",
   "metadata": {},
   "source": [
    "To begin, we will initialize a list of `Spectrum` objects, each containing a delta function at half the dark matter mass, taken to be $m_{\\text{DM}}$ = 1 GeV. This can be efficiently done by `spectools.rebin_N_arr`, which takes a list of energies, a list containing the number of particles at that energy, and an output energy abscissa, and returns a `Spectrum` object with the output energy abscissa and `Spectrum.dNdE` approximating the initial particle input, conserving both total number and total energy. \n",
    "\n",
    "The number of particles must be carefully initialized. Note that\n",
    "\n",
    "$$ N = \\int dE \\frac{dN}{dE(z)} = \\int dE \\, \\delta \\left( E(1+z) - \\frac{m_{\\text{DM}}}{2} \\right) = \\frac{1}{1+z} $$"
   ]
  },
  {
   "cell_type": "code",
   "execution_count": 76,
   "metadata": {
    "collapsed": false
   },
   "outputs": [],
   "source": [
    "mDM = 1\n",
    "\n",
    "# Energy and redshift abscissa.\n",
    "# Redshift is ordered from largest to smallest. \n",
    "eng = 10**np.arange(-3, 0, 0.05)\n",
    "rs_arr  = 10**np.arange(3, 0, -0.003)\n",
    "\n",
    "\n",
    "# Create the list of Spectrum objects. \n",
    "spec_arr = [\n",
    "    spectools.rebin_N_arr(np.array([1/rs]), np.array([mDM/2]), eng)\n",
    "    for rs in rs_arr\n",
    "           ]\n",
    "\n",
    "# Assign the correct redshift to each of the Spectrum objects. \n",
    "# The first Spectrum object is assigned the largest redshift.\n",
    "for spec,rs in zip(spec_arr,rs_arr):\n",
    "    spec.rs = rs"
   ]
  },
  {
   "cell_type": "markdown",
   "metadata": {},
   "source": [
    "We are now ready to use the `Spectra` class. Given a list of `Spectrum` objects with identical energy abscissa, *ordered in decreasing redshift*, we can create a `Spectra` object as follows:"
   ]
  },
  {
   "cell_type": "code",
   "execution_count": 77,
   "metadata": {
    "collapsed": false
   },
   "outputs": [],
   "source": [
    "photon_flux = Spectra(spec_arr)"
   ]
  },
  {
   "cell_type": "markdown",
   "metadata": {},
   "source": [
    "If the `Spectrum` objects have different abscissa, the keyword argument `rebin_eng` can be used to rebin all of them into the same abscissa.\n",
    "\n",
    "A few simple functions exist to get attributes from the `Spectrum` objects stored in a `Spectra` object:"
   ]
  },
  {
   "cell_type": "code",
   "execution_count": 78,
   "metadata": {
    "collapsed": false
   },
   "outputs": [
    {
     "name": "stdout",
     "output_type": "stream",
     "text": [
      "The energy abscissa of each Spectrum in photon_flux is: \n",
      "[ 0.001       0.00112202  0.00125893  0.00141254  0.00158489  0.00177828\n",
      "  0.00199526  0.00223872  0.00251189  0.00281838  0.00316228  0.00354813\n",
      "  0.00398107  0.00446684  0.00501187  0.00562341  0.00630957  0.00707946\n",
      "  0.00794328  0.00891251  0.01        0.01122018  0.01258925  0.01412538\n",
      "  0.01584893  0.01778279  0.01995262  0.02238721  0.02511886  0.02818383\n",
      "  0.03162278  0.03548134  0.03981072  0.04466836  0.05011872  0.05623413\n",
      "  0.06309573  0.07079458  0.07943282  0.08912509  0.1         0.11220185\n",
      "  0.12589254  0.14125375  0.15848932  0.17782794  0.19952623  0.22387211\n",
      "  0.25118864  0.28183829  0.31622777  0.35481339  0.39810717  0.44668359\n",
      "  0.50118723  0.56234133  0.63095734  0.70794578  0.79432823  0.89125094]\n",
      "*****************************************************************\n",
      "The redshift of each Spectrum in photon_flux is: \n",
      "[ 1000.           993.11604842   986.27948563   979.48998541   972.74722378\n",
      "   966.05087899   959.40063152   952.79616402   946.23716137   939.72331056\n",
      "   933.2543008    926.82982338   920.44957175   914.11324147   907.82053018\n",
      "   901.57113761   895.36476555   889.20111786   883.07990042   877.00082114\n",
      "   870.96358996   864.96791878   859.01352151   853.10011402   847.22741414\n",
      "   841.39514165   835.60301823   829.85076751   824.13811501   818.46478813\n",
      "   812.83051616   807.23503025   801.67806339   796.15935042   790.678628\n",
      "   785.23563461   779.83011052   774.4617978    769.13044029   763.83578358\n",
      "   758.57757503   753.35556373   748.16950051   743.0191379    737.90423013\n",
      "   732.82453314   727.77980454   722.7698036    717.79429127   712.85303013\n",
      "   707.94578438   703.07231988   698.23240408   693.42580602   688.65229634\n",
      "   683.91164728   679.20363262   674.5280277    669.88460942   665.2731562\n",
      "   660.69344801   656.1452663    651.62839406   647.14261575   642.68771732\n",
      "   638.26348619   633.86971126   629.50618286   625.17269278   620.86903423\n",
      "   616.59500186   612.35039172   608.13500128   603.94862938   599.79107626\n",
      "   595.66214353   591.56163418   587.48935253   583.44510427   579.42869643\n",
      "   575.43993734   571.47863667   567.54460541   563.63765583   559.7576015\n",
      "   555.90425727   552.07743928   548.27696492   544.50265284   540.75432295\n",
      "   537.03179637   533.33489549   529.66344389   526.01726639   522.396189\n",
      "   518.80003893   515.22864458   511.68183554   508.15944256   504.66129756\n",
      "   501.18723363   497.73708498   494.31068699   490.90787615   487.5284901\n",
      "   484.17236758   480.83934845   477.52927366   474.24198526   470.9773264\n",
      "   467.73514129   464.51527522   461.31757456   458.14188671   454.98806015\n",
      "   451.85594437   448.74538993   445.6562484    442.58837236   439.54161544\n",
      "   436.51583224   433.51087839   430.52661049   427.56288615   424.61956395\n",
      "   421.69650343   418.79356512   415.91061049   413.04750199   410.20410299\n",
      "   407.3802778    404.5758917    401.79081085   399.02490236   396.27803426\n",
      "   393.55007546   390.84089579   388.15036599   385.47835767   382.82474332\n",
      "   380.18939632   377.57219093   374.97300225   372.39170625   369.82817978\n",
      "   367.2823005    364.75394693   362.24299842   359.74933516   357.27283815\n",
      "   354.81338923   352.37087104   349.94516703   347.53616144   345.14373934\n",
      "   342.76778655   340.4081897    338.06483621   335.73761424   333.42641276\n",
      "   331.13112148   328.85163088   326.58783217   324.33961735   322.10687913\n",
      "   319.88951097   317.68740706   315.50046234   313.32857243   311.17163371\n",
      "   309.02954325   306.90219884   304.78949896   302.69134281   300.60763026\n",
      "   298.53826189   296.48313895   294.44216338   292.41523778   290.40226545\n",
      "   288.40315031   286.41779699   284.44611074   282.48799749   280.5433638\n",
      "   278.61211686   276.69416454   274.78941531   272.89777828   271.01916319\n",
      "   269.15348039   267.30064087   265.4605562    263.63313858   261.81830082\n",
      "   260.01595632   258.22601906   256.44840365   254.68302526   252.92979964\n",
      "   251.18864315   249.45947269   247.74220576   246.03676041   244.34305527\n",
      "   242.66100951   240.99054287   239.33157564   237.68402866   236.04782332\n",
      "   234.42288153   232.80912577   231.20647902   229.61486481   228.0342072\n",
      "   226.46443076   224.90546058   223.35722228   221.81964198   220.29264631\n",
      "   218.77616239   217.27011789   215.77444092   214.28906011   212.8139046\n",
      "   211.34890398   209.89398836   208.44908831   207.01413488   205.5890596\n",
      "   204.17379447   202.76827195   201.37242499   199.98618696   198.60949174\n",
      "   197.24227361   195.88446735   194.53600816   193.1968317    191.86687407\n",
      "   190.5460718    189.23436186   187.93168168   186.63796908   185.35316234\n",
      "   184.07720015   182.81002161   181.55156628   180.30177409   179.0605854\n",
      "   177.827941     176.60378207   175.38805018   174.18068734   172.98163592\n",
      "   171.79083872   170.6082389    169.43378004   168.26740611   167.10906143\n",
      "   165.95869074   164.81623915   163.68165214   162.55487558   161.43585568\n",
      "   160.32453907   159.22087271   158.12480393   157.03628043   155.95525028\n",
      "   154.88166189   153.81546403   152.75660582   151.70503675   150.66070662\n",
      "   149.62356561   148.59356423   147.57065333   146.5547841    145.54590806\n",
      "   144.54397707   143.54894334   142.56075936   141.579378     140.60475241\n",
      "   139.63683611   138.67558289   137.72094689   136.77288256   135.83134466\n",
      "   134.89628826   133.96766874   133.0454418    132.12956342   131.2199899\n",
      "   130.31667785   129.41958414   128.52866599   127.64388088   126.76518659\n",
      "   125.89254118   125.02590302   124.16523076   123.31048332   122.46161993\n",
      "   121.61860006   120.78138351   119.94993031   119.1242008    118.30415557\n",
      "   117.48975549   116.68096171   115.87773562   115.08003889   114.28783348\n",
      "   113.50108157   112.71974562   111.94378835   111.17317273   110.40786199\n",
      "   109.64781961   108.89300933   108.14339513   107.39894123   106.65961212\n",
      "   105.92537252   105.19618738   104.47202192   103.75284158   103.03861204\n",
      "   102.32929923   101.62486929   100.92528861   100.23052381    99.54054174\n",
      "    98.85530947    98.1747943     97.49896377    96.82778563    96.16122784\n",
      "    95.4992586     94.84184633    94.18895965    93.54056741    92.89663868\n",
      "    92.25714272    91.62204901    90.99132726    90.36494737    89.74287945\n",
      "    89.12509381    88.51156098    87.90225168    87.29713684    86.69618758\n",
      "    86.09937522    85.50667129    84.9180475     84.33347578    83.75292821\n",
      "    83.17637711    82.60379496    82.03515443    81.4704284     80.90958992\n",
      "    80.35261222    79.79946873    79.25013305    78.70457897    78.16278046\n",
      "    77.62471166    77.09034691    76.55966069    76.03262769    75.50922277\n",
      "    74.98942093    74.47319739    73.96052751    73.45138682    72.94575103\n",
      "    72.44359601    71.9448978     71.44963261    70.9577768     70.4693069\n",
      "    69.9841996     69.50243176    69.02398038    68.54882265    68.07693587\n",
      "    67.60829754    67.14288529    66.68067692    66.22165037    65.76578374\n",
      "    65.31305526    64.86344335    64.41692655    63.97348355    63.53309319\n",
      "    63.09573445    62.66138647    62.23002852    61.80164001    61.37620052\n",
      "    60.95368972    60.53408748    60.11737375    59.70352866    59.29253246\n",
      "    58.88436554    58.47900841    58.07644175    57.67664634    57.2796031\n",
      "    56.88529308    56.49369748    56.1047976     55.71857489    55.33501092\n",
      "    54.95408739    54.57578611    54.20008904    53.82697825    53.45643594\n",
      "    53.08844442    52.72298614    52.36004366    51.99959965    51.64163693\n",
      "    51.2861384     50.93308711    50.5824662     50.23425895    49.88844875\n",
      "    49.54501908    49.20395357    48.86523593    48.52885002    48.19477976\n",
      "    47.86300923    47.53352259    47.20630413    46.88133821    46.55860935\n",
      "    46.23810214    45.91980128    45.6036916     45.28975799    44.97798549\n",
      "    44.66835922    44.36086439    44.05548635    43.75221052    43.45102242\n",
      "    43.15190768    42.85485204    42.55984131    42.26686143    41.9758984\n",
      "    41.68693835    41.39996748    41.11497211    40.83193863    40.55085354\n",
      "    40.27170343    39.99447498    39.71915495    39.44573021    39.17418771\n",
      "    38.9045145     38.63669771    38.37072455    38.10658234    37.84425847\n",
      "    37.58374043    37.32501578    37.06807218    36.81289736    36.55947916\n",
      "    36.30780548    36.0578643     35.80964371    35.56313186    35.31831698\n",
      "    35.0751874     34.8337315     34.59393778    34.35579479    34.11929116\n",
      "    33.88441561    33.65115694    33.419504      33.18944576    32.96097122\n",
      "    32.73406949    32.50872974    32.28494122    32.06269325    31.84197522\n",
      "    31.6227766     31.40508694    31.18889584    30.97419299    30.76096815\n",
      "    30.54921113    30.33891184    30.13006024    29.92264637    29.71666032\n",
      "    29.51209227    29.30893245    29.10717118    28.90679882    28.70780582\n",
      "    28.51018268    28.31391996    28.1190083     27.92543841    27.73320105\n",
      "    27.54228703    27.35268726    27.16439269    26.97739432    26.79168325\n",
      "    26.6072506     26.42408757    26.24218543    26.0615355     25.88212915\n",
      "    25.70395783    25.52701303    25.3512863     25.17676928    25.00345362\n",
      "    24.83133105    24.66039337    24.49063242    24.32204009    24.15460834\n",
      "    23.98832919    23.82319469    23.65919697    23.49632821    23.33458062\n",
      "    23.1739465     23.01441817    22.85598803    22.69864852    22.54239212\n",
      "    22.38721139    22.23309891    22.08004733    21.92804935    21.77709772\n",
      "    21.62718524    21.47830474    21.33044913    21.18361135    21.0377844\n",
      "    20.89296131    20.74913517    20.60629913    20.46444637    20.32357011\n",
      "    20.18366364    20.04472027    19.90673339    19.7696964     19.63360277\n",
      "    19.498446      19.36421964    19.23091729    19.09853259    18.96705921\n",
      "    18.83649089    18.7068214     18.57804455    18.45015419    18.32314422\n",
      "    18.19700859    18.07174126    17.94733627    17.82378767    17.70108958\n",
      "    17.57923614    17.45822153    17.33803998    17.21868575    17.10015315\n",
      "    16.98243652    16.86553025    16.74942876    16.6341265     16.51961798\n",
      "    16.40589773    16.29296033    16.18080038    16.06941253    15.95879147\n",
      "    15.84893192    15.73982864    15.63147643    15.5238701     15.41700453\n",
      "    15.31087462    15.2054753     15.10080154    14.99684836    14.89361078\n",
      "    14.79108388    14.68926278    14.5881426     14.48771854    14.38798578\n",
      "    14.28893959    14.19057522    14.09288798    13.99587323    13.89952631\n",
      "    13.80384265    13.70881766    13.61444682    13.52072563    13.42764961\n",
      "    13.33521432    13.24341535    13.15224832    13.06170888    12.97179271\n",
      "    12.88249552    12.79381304    12.70574105    12.61827535    12.53141175\n",
      "    12.44514612    12.35947433    12.27439231    12.18989599    12.10598134\n",
      "    12.02264435    11.93988104    11.85768748    11.77605974    11.69499391\n",
      "    11.61448614    11.53453258    11.45512941    11.37627286    11.29795915\n",
      "    11.22018454    11.14294534    11.06623784    10.99005839    10.91440336\n",
      "    10.83926914    10.76465214    10.69054879    10.61695557    10.54386896\n",
      "    10.47128548    10.39920166    10.32761406    10.25651926    10.18591388\n",
      "    10.11579454    10.0461579      9.97700064     9.90831945     9.84011106\n",
      "     9.77237221     9.70509967     9.63829024     9.57194071     9.50604794\n",
      "     9.44060876     9.37562007     9.31107875     9.24698174     9.18332596\n",
      "     9.12010839     9.05732601     8.99497582     8.93305484     8.87156012\n",
      "     8.81048873     8.74983775     8.68960429     8.62978548     8.57037845\n",
      "     8.51138038     8.45278845     8.39459987     8.33681185     8.27942164\n",
      "     8.2224265      8.16582371     8.10961058     8.05378441     7.99834255\n",
      "     7.94328235     7.88860118     7.83429643     7.78036551     7.72680585\n",
      "     7.67361489     7.6207901      7.56832895     7.51622894     7.46448758\n",
      "     7.41310241     7.36207097     7.31139083     7.26105957     7.21107479\n",
      "     7.1614341      7.11213514     7.06317554     7.01455298     6.96626514\n",
      "     6.91830971     6.8706844      6.82338694     6.77641508     6.72976656\n",
      "     6.68343918     6.6374307      6.59173895     6.54636174     6.5012969\n",
      "     6.45654229     6.41209577     6.36795521     6.32411851     6.28058359\n",
      "     6.23734835     6.19441075     6.15176873     6.10942025     6.0673633\n",
      "     6.02559586     5.98411595     5.94292159     5.9020108      5.86138165\n",
      "     5.82103218     5.78096047     5.74116462     5.70164272     5.66239289\n",
      "     5.62341325     5.58470195     5.54625713     5.50807696     5.47015963\n",
      "     5.43250331     5.39510623     5.35796658     5.32108259     5.28445252\n",
      "     5.2480746      5.21194711     5.17606832     5.14043652     5.10505\n",
      "     5.06990708     5.03500609     5.00034535     4.96592321     4.93173804\n",
      "     4.89778819     4.86407206     4.83058802     4.79733449     4.76430987\n",
      "     4.73151259     4.69894109     4.6665938      4.6344692      4.60256574\n",
      "     4.5708819      4.53941617     4.50816705     4.47713304     4.44631267\n",
      "     4.41570447     4.38530698     4.35511874     4.32513831     4.29536427\n",
      "     4.26579519     4.23642966     4.20726628     4.17830367     4.14954043\n",
      "     4.12097519     4.0926066      4.06443329     4.03645393     4.00866718\n",
      "     3.98107171     3.9536662      3.92644935     3.89941987     3.87257645\n",
      "     3.84591782     3.81944271     3.79314985     3.76703799     3.74110588\n",
      "     3.71535229     3.68977599     3.66437575     3.63915036     3.61409863\n",
      "     3.58921935     3.56451133     3.53997341     3.51560441     3.49140315\n",
      "     3.4673685      3.44349931     3.41979443     3.39625273     3.37287309\n",
      "     3.34965439     3.32659553     3.30369541     3.28095293     3.25836701\n",
      "     3.23593657     3.21366054     3.19153786     3.16956746     3.14774831\n",
      "     3.12607937     3.10455959     3.08318795     3.06196343     3.04088503\n",
      "     3.01995172     2.99916252     2.97851643     2.95801247     2.93764965\n",
      "     2.91742701     2.89734359     2.87739841     2.85759054     2.83791903\n",
      "     2.81838293     2.79898132     2.77971327     2.76057786     2.74157417\n",
      "     2.72270131     2.70395836     2.68534445     2.66685866     2.64850014\n",
      "     2.63026799     2.61216135     2.59417936     2.57632116     2.55858589\n",
      "     2.54097271     2.52348077     2.50610925     2.48885732     2.47172415\n",
      "     2.45470892     2.43781082     2.42102905     2.4043628      2.38781128\n",
      "     2.37137371     2.35504928     2.33883724     2.3227368      2.30674719\n",
      "     2.29086765     2.27509743     2.25943577     2.24388192     2.22843515\n",
      "     2.21309471     2.19785987     2.18272991     2.1677041      2.15278173\n",
      "     2.13796209     2.12324446     2.10862815     2.09411246     2.07969669\n",
      "     2.06538016     2.05116218     2.03704208     2.02301918     2.00909281\n",
      "     1.99526231     1.98152703     1.96788629     1.95433946     1.94088588\n",
      "     1.92752491     1.91425593     1.90107828     1.88799135     1.87499451\n",
      "     1.86208714     1.84926862     1.83653834     1.8238957      1.81134009\n",
      "     1.79887092     1.78648757     1.77418948     1.76197605     1.74984669\n",
      "     1.73780083     1.72583789     1.71395731     1.70215851     1.69044093\n",
      "     1.67880402     1.66724721     1.65576996     1.64437172     1.63305195\n",
      "     1.6218101      1.61064564     1.59955803     1.58854675     1.57761127\n",
      "     1.56675107     1.55596563     1.54525444     1.53461698     1.52405275\n",
      "     1.51356125     1.50314197     1.49279441     1.48251809     1.4723125\n",
      "     1.46217717     1.45211162     1.44211535     1.4321879      1.42232879\n",
      "     1.41253754     1.4028137      1.3931568      1.38356638     1.37404198\n",
      "     1.36458314     1.35518941     1.34586035     1.33659552     1.32739446\n",
      "     1.31825674     1.30918192     1.30016958     1.29121927     1.28233058\n",
      "     1.27350308     1.26473635     1.25602996     1.24738351     1.23879659\n",
      "     1.23026877     1.22179966     1.21338885     1.20503594     1.19674053\n",
      "     1.18850223     1.18032064     1.17219537     1.16412603     1.15611224\n",
      "     1.14815362     1.14024979     1.13240036     1.12460497     1.11686325\n",
      "     1.10917482     1.10153931     1.09395637     1.08642562     1.07894672\n",
      "     1.07151931     1.06414302     1.05681751     1.04954243     1.04231743\n",
      "     1.03514217     1.0280163      1.02093948     1.01391139     1.00693167]\n",
      "*****************************************************************\n",
      "The injection energy of each Spectrum in photon_flux is: \n",
      "[-1. -1. -1. -1. -1. -1. -1. -1. -1. -1. -1. -1. -1. -1. -1. -1. -1. -1.\n",
      " -1. -1. -1. -1. -1. -1. -1. -1. -1. -1. -1. -1. -1. -1. -1. -1. -1. -1.\n",
      " -1. -1. -1. -1. -1. -1. -1. -1. -1. -1. -1. -1. -1. -1. -1. -1. -1. -1.\n",
      " -1. -1. -1. -1. -1. -1. -1. -1. -1. -1. -1. -1. -1. -1. -1. -1. -1. -1.\n",
      " -1. -1. -1. -1. -1. -1. -1. -1. -1. -1. -1. -1. -1. -1. -1. -1. -1. -1.\n",
      " -1. -1. -1. -1. -1. -1. -1. -1. -1. -1. -1. -1. -1. -1. -1. -1. -1. -1.\n",
      " -1. -1. -1. -1. -1. -1. -1. -1. -1. -1. -1. -1. -1. -1. -1. -1. -1. -1.\n",
      " -1. -1. -1. -1. -1. -1. -1. -1. -1. -1. -1. -1. -1. -1. -1. -1. -1. -1.\n",
      " -1. -1. -1. -1. -1. -1. -1. -1. -1. -1. -1. -1. -1. -1. -1. -1. -1. -1.\n",
      " -1. -1. -1. -1. -1. -1. -1. -1. -1. -1. -1. -1. -1. -1. -1. -1. -1. -1.\n",
      " -1. -1. -1. -1. -1. -1. -1. -1. -1. -1. -1. -1. -1. -1. -1. -1. -1. -1.\n",
      " -1. -1. -1. -1. -1. -1. -1. -1. -1. -1. -1. -1. -1. -1. -1. -1. -1. -1.\n",
      " -1. -1. -1. -1. -1. -1. -1. -1. -1. -1. -1. -1. -1. -1. -1. -1. -1. -1.\n",
      " -1. -1. -1. -1. -1. -1. -1. -1. -1. -1. -1. -1. -1. -1. -1. -1. -1. -1.\n",
      " -1. -1. -1. -1. -1. -1. -1. -1. -1. -1. -1. -1. -1. -1. -1. -1. -1. -1.\n",
      " -1. -1. -1. -1. -1. -1. -1. -1. -1. -1. -1. -1. -1. -1. -1. -1. -1. -1.\n",
      " -1. -1. -1. -1. -1. -1. -1. -1. -1. -1. -1. -1. -1. -1. -1. -1. -1. -1.\n",
      " -1. -1. -1. -1. -1. -1. -1. -1. -1. -1. -1. -1. -1. -1. -1. -1. -1. -1.\n",
      " -1. -1. -1. -1. -1. -1. -1. -1. -1. -1. -1. -1. -1. -1. -1. -1. -1. -1.\n",
      " -1. -1. -1. -1. -1. -1. -1. -1. -1. -1. -1. -1. -1. -1. -1. -1. -1. -1.\n",
      " -1. -1. -1. -1. -1. -1. -1. -1. -1. -1. -1. -1. -1. -1. -1. -1. -1. -1.\n",
      " -1. -1. -1. -1. -1. -1. -1. -1. -1. -1. -1. -1. -1. -1. -1. -1. -1. -1.\n",
      " -1. -1. -1. -1. -1. -1. -1. -1. -1. -1. -1. -1. -1. -1. -1. -1. -1. -1.\n",
      " -1. -1. -1. -1. -1. -1. -1. -1. -1. -1. -1. -1. -1. -1. -1. -1. -1. -1.\n",
      " -1. -1. -1. -1. -1. -1. -1. -1. -1. -1. -1. -1. -1. -1. -1. -1. -1. -1.\n",
      " -1. -1. -1. -1. -1. -1. -1. -1. -1. -1. -1. -1. -1. -1. -1. -1. -1. -1.\n",
      " -1. -1. -1. -1. -1. -1. -1. -1. -1. -1. -1. -1. -1. -1. -1. -1. -1. -1.\n",
      " -1. -1. -1. -1. -1. -1. -1. -1. -1. -1. -1. -1. -1. -1. -1. -1. -1. -1.\n",
      " -1. -1. -1. -1. -1. -1. -1. -1. -1. -1. -1. -1. -1. -1. -1. -1. -1. -1.\n",
      " -1. -1. -1. -1. -1. -1. -1. -1. -1. -1. -1. -1. -1. -1. -1. -1. -1. -1.\n",
      " -1. -1. -1. -1. -1. -1. -1. -1. -1. -1. -1. -1. -1. -1. -1. -1. -1. -1.\n",
      " -1. -1. -1. -1. -1. -1. -1. -1. -1. -1. -1. -1. -1. -1. -1. -1. -1. -1.\n",
      " -1. -1. -1. -1. -1. -1. -1. -1. -1. -1. -1. -1. -1. -1. -1. -1. -1. -1.\n",
      " -1. -1. -1. -1. -1. -1. -1. -1. -1. -1. -1. -1. -1. -1. -1. -1. -1. -1.\n",
      " -1. -1. -1. -1. -1. -1. -1. -1. -1. -1. -1. -1. -1. -1. -1. -1. -1. -1.\n",
      " -1. -1. -1. -1. -1. -1. -1. -1. -1. -1. -1. -1. -1. -1. -1. -1. -1. -1.\n",
      " -1. -1. -1. -1. -1. -1. -1. -1. -1. -1. -1. -1. -1. -1. -1. -1. -1. -1.\n",
      " -1. -1. -1. -1. -1. -1. -1. -1. -1. -1. -1. -1. -1. -1. -1. -1. -1. -1.\n",
      " -1. -1. -1. -1. -1. -1. -1. -1. -1. -1. -1. -1. -1. -1. -1. -1. -1. -1.\n",
      " -1. -1. -1. -1. -1. -1. -1. -1. -1. -1. -1. -1. -1. -1. -1. -1. -1. -1.\n",
      " -1. -1. -1. -1. -1. -1. -1. -1. -1. -1. -1. -1. -1. -1. -1. -1. -1. -1.\n",
      " -1. -1. -1. -1. -1. -1. -1. -1. -1. -1. -1. -1. -1. -1. -1. -1. -1. -1.\n",
      " -1. -1. -1. -1. -1. -1. -1. -1. -1. -1. -1. -1. -1. -1. -1. -1. -1. -1.\n",
      " -1. -1. -1. -1. -1. -1. -1. -1. -1. -1. -1. -1. -1. -1. -1. -1. -1. -1.\n",
      " -1. -1. -1. -1. -1. -1. -1. -1. -1. -1. -1. -1. -1. -1. -1. -1. -1. -1.\n",
      " -1. -1. -1. -1. -1. -1. -1. -1. -1. -1. -1. -1. -1. -1. -1. -1. -1. -1.\n",
      " -1. -1. -1. -1. -1. -1. -1. -1. -1. -1. -1. -1. -1. -1. -1. -1. -1. -1.\n",
      " -1. -1. -1. -1. -1. -1. -1. -1. -1. -1. -1. -1. -1. -1. -1. -1. -1. -1.\n",
      " -1. -1. -1. -1. -1. -1. -1. -1. -1. -1. -1. -1. -1. -1. -1. -1. -1. -1.\n",
      " -1. -1. -1. -1. -1. -1. -1. -1. -1. -1. -1. -1. -1. -1. -1. -1. -1. -1.\n",
      " -1. -1. -1. -1. -1. -1. -1. -1. -1. -1. -1. -1. -1. -1. -1. -1. -1. -1.\n",
      " -1. -1. -1. -1. -1. -1. -1. -1. -1. -1. -1. -1. -1. -1. -1. -1. -1. -1.\n",
      " -1. -1. -1. -1. -1. -1. -1. -1. -1. -1. -1. -1. -1. -1. -1. -1. -1. -1.\n",
      " -1. -1. -1. -1. -1. -1. -1. -1. -1. -1. -1. -1. -1. -1. -1. -1. -1. -1.\n",
      " -1. -1. -1. -1. -1. -1. -1. -1. -1. -1. -1. -1. -1. -1. -1. -1. -1. -1.\n",
      " -1. -1. -1. -1. -1. -1. -1. -1. -1. -1.]\n",
      "*****************************************************************\n"
     ]
    }
   ],
   "source": [
    "print('The energy abscissa of each Spectrum in photon_flux is: ')\n",
    "print(photon_flux.get_eng())\n",
    "print('*****************************************************************')\n",
    "print('The redshift of each Spectrum in photon_flux is: ')\n",
    "print(photon_flux.get_rs())\n",
    "print('*****************************************************************')\n",
    "print('The injection energy of each Spectrum in photon_flux is: ')\n",
    "print(photon_flux.get_in_eng())\n",
    "print('*****************************************************************')"
   ]
  },
  {
   "cell_type": "markdown",
   "metadata": {},
   "source": [
    "Another useful function is `Spectra.get_grid_values()`, which returns a 2D array of `Spectrum.dNdE` values, indexed by (redshift, energy)."
   ]
  },
  {
   "cell_type": "markdown",
   "metadata": {},
   "source": [
    "## Basic Operations"
   ]
  },
  {
   "cell_type": "markdown",
   "metadata": {},
   "source": [
    "The integral in the first equation now needs to be approximated by a sum of discrete spectra:\n",
    "\n",
    "$$\\int_0^\\infty dz \\frac{dN}{dE(z)} \\frac{1}{(1 + z)^{3/2}} \\frac{1}{\\sqrt{1 + \\kappa(1 + z)^{-3}}} \\\\\n",
    "\\approx \\sum_i (1+z_i) \\Delta \\log (1+z_i) \\frac{dN}{dE(1+z_i)} \\frac{1}{(1 + z_i)^{3/2}} \\frac{1}{\\sqrt{1 + \\kappa(1 + z_i)^{-3}}}$$\n",
    "\n",
    "To find $\\Delta \\log z_i$, we use the convenience function `spectools.get_log_bin_width`: "
   ]
  },
  {
   "cell_type": "code",
   "execution_count": 79,
   "metadata": {
    "collapsed": false
   },
   "outputs": [],
   "source": [
    "dlogz = -spectools.get_log_bin_width(photon_flux.get_rs())"
   ]
  },
  {
   "cell_type": "markdown",
   "metadata": {},
   "source": [
    "The negative sign is used to make sure that `dlogz` are all positive (it is returned negative because the redshifts are ordered in decreasing order). \n",
    "\n",
    "At this stage, the spectra stored in `photon_flux` are identical delta functions, containing one particle at energy $m_{\\text{DM}}/2$. However, $\\frac{dN}{dE(1+z_i)}$ is the spectrum as observed today, and must be redshifted to the present day. To do this, we again use `Spectrum.redshift`: "
   ]
  },
  {
   "cell_type": "code",
   "execution_count": 80,
   "metadata": {
    "collapsed": true
   },
   "outputs": [],
   "source": [
    "for spec in photon_flux:\n",
    "    spec.redshift(1)"
   ]
  },
  {
   "cell_type": "markdown",
   "metadata": {},
   "source": [
    "Next, each of these spectra must be multiplied by a factor of\n",
    "\n",
    "$$ \\frac{(1+z_i) \\Delta \\log(1+z_i)}{(1+z_i)^{3/2} \\sqrt{1 + \\kappa(1 + z_i)^{-3}}} $$\n",
    "\n",
    "As in the `Spectrum` class, basic mathematical operations with the `Spectra` class go through as expected. We can simply compute an array of this factor, and then muliply `photon_flux` by it:"
   ]
  },
  {
   "cell_type": "code",
   "execution_count": 81,
   "metadata": {
    "collapsed": true
   },
   "outputs": [],
   "source": [
    "kappa = physics.omega_lambda/physics.omega_m\n",
    "\n",
    "fac = rs_arr*dlogz/(rs_arr**(3/2)*np.sqrt(1 + kappa*rs_arr**(-3)))\n",
    "\n",
    "photon_flux *= fac"
   ]
  },
  {
   "cell_type": "markdown",
   "metadata": {},
   "source": [
    "We can also multiply in the remaining prefactors (here we choose $\\Gamma$ to be in natural units):"
   ]
  },
  {
   "cell_type": "code",
   "execution_count": 82,
   "metadata": {
    "collapsed": true
   },
   "outputs": [],
   "source": [
    "# This choice if the width (in GeV) is roughly a lifetime of 1e25 seconds.\n",
    "Gamma = 1e-50\n",
    "\n",
    "prefac = (\n",
    "    (1/(4*np.pi)) * Gamma * physics.omega_DM * physics.rho_crit*1e-9\n",
    "    / (mDM * physics.H0 * np.sqrt(physics.omega_m))\n",
    "    )*physics.c/(physics.hbar*1e-9)\n",
    "\n",
    "photon_flux *= prefac"
   ]
  },
  {
   "cell_type": "markdown",
   "metadata": {},
   "source": [
    "Note that all units of fundamental parameters in `physics` are given in eV (mass and energy), cm and seconds, and the final value of the photon flux has been multiplied by appropriate numerical factors to give `photon_flux` units of $\\text{cm}^{-2} \\text{ GeV}^{-1} \\text{ s}^{-1}$. "
   ]
  },
  {
   "cell_type": "markdown",
   "metadata": {},
   "source": [
    "The last remaining thing to do is to perform the integral by summing up the discrete spectra. This can be done using `Spectra.sum_specs`, which returns a `Spectrum` object: "
   ]
  },
  {
   "cell_type": "code",
   "execution_count": 83,
   "metadata": {
    "collapsed": false
   },
   "outputs": [],
   "source": [
    "obs_photon_flux = photon_flux.sum_specs()"
   ]
  },
  {
   "cell_type": "code",
   "execution_count": 84,
   "metadata": {
    "collapsed": false
   },
   "outputs": [
    {
     "data": {
      "text/plain": [
       "[0.001, 1, 1e-07, 0.1]"
      ]
     },
     "execution_count": 84,
     "metadata": {},
     "output_type": "execute_result"
    },
    {
     "data": {
      "image/png": "[encoded data removed]",
      "text/plain": [
       "<matplotlib.figure.Figure at 0x11864fcf8>"
      ]
     },
     "metadata": {},
     "output_type": "display_data"
    }
   ],
   "source": [
    "ax = plt.subplot(1,1,1)\n",
    "plt.rc('text', usetex=True)\n",
    "\n",
    "discrete_spec, = plt.plot(\n",
    "    obs_photon_flux.eng, obs_photon_flux.dNdE, label='Photon Flux: Discrete Approx.'\n",
    ")\n",
    "\n",
    "# eng_analytic = np.array([])\n",
    "# dNdE_analytic = np.array([phi_decay_FSR(eng) for eng in eng_analytic])\n",
    "\n",
    "# analytic_spec, = plt.plot(\n",
    "#     eng_analytic, dNdE_analytic, 'go', marker='o', markersize='10', \n",
    "#     markerfacecolor='w',\n",
    "#     label='Analytic Spectrum'\n",
    "# )\n",
    "\n",
    "# plt.legend(handles=[discrete_spec, analytic_spec], \n",
    "#            fontsize=24)\n",
    "\n",
    "ax.set_xscale('log')\n",
    "ax.set_yscale('log')\n",
    "\n",
    "plt.tick_params(axis='both', which='major', labelsize=20)\n",
    "\n",
    "plt.title('FSR Spectrum', fontsize=28)\n",
    "plt.xlabel('Photon Energy [GeV]',fontsize=24)\n",
    "plt.ylabel('dN/dE [GeV$^{-1}$]',fontsize=24)\n",
    "plt.axis([1e-3, 1, 1e-7, 1e-1])"
   ]
  },
  {
   "cell_type": "markdown",
   "metadata": {},
   "source": [
    ", given approximately by (see Essig et al. 1309.4091):\n",
    "\n",
    "$$ \\frac{dN_{\\phi \\to e^+ e^- \\gamma}}{dE} \\simeq \\frac{2\\alpha_{\\text{EM}}}{\\pi E_\\gamma} \\left[1 - \\frac{2E_\\gamma}{m_\\phi} + \\left(1 - \\frac{2E_\\gamma}{m_\\phi} + \\frac{2E_\\gamma^2}{m_\\phi^2} \\right) \\log \\left( \\frac{1 - 2E_\\gamma/m_\\phi}{m_e^2/m_\\phi^2} \\right) \\right] $$\n",
    "\n",
    "with $0 < E_\\gamma < m_\\phi/2$. This spectrum is per decay. For simplicity, we consider this process during the cosmic dark ages, where the dark matter density was uniform, and that the branching ratio into this process is 100%. We will also not concern ourselves with the overall normalization of this spectrum. \n",
    "\n",
    "We will again use `spec.spectools.discretize` to create `Spectrum` objects from this analytic spectrum, taking $m_\\phi = $ 2 TeV. First, let's produce one spectrum and check it against the analytic expression. We will use a highly non-uniform binning to capture the threshold behavior near $E_\\gamma = m_\\phi/2$."
   ]
  },
  {
   "cell_type": "code",
   "execution_count": null,
   "metadata": {
    "collapsed": true
   },
   "outputs": [],
   "source": [
    "def phi_decay_FSR(eng):\n",
    "    m_phi = 2000\n",
    "    m_e = 0.511e-3\n",
    "    r = eng/m_phi\n",
    "    r_e = m_e/m_phi\n",
    "    if eng < m_phi/2:\n",
    "        return (\n",
    "            (2/137)/(np.pi*eng)*(1 - 2*r + (1 - 2*r + 2*r**2))\n",
    "            *np.log((1 - 2*r)/r_e**2)\n",
    "        )\n",
    "    else: \n",
    "        return 0\n",
    "\n",
    "eng = 1000-10**np.arange(-7,3,0.005)\n",
    "eng = eng[::-1]\n",
    "discrete_FSR = spectools.discretize(phi_decay_FSR, eng)"
   ]
  },
  {
   "cell_type": "markdown",
   "metadata": {},
   "source": [
    "To create a `Spectra` object, we first create a list of `Spectrum` objects before calling the constructor. Here, we pass a list containing a single element at $1+z = 1000$, and then append `Spectrum` objects to the `Spectra` using `self.append`. We will append the same spectrum to it repeatedly, but with different redshifts `rs` and normalized by `1000/rs**3` so that we are now storing $dN/(dE \\, dV)$: DM decays are diluted by a factor of `rs**3` as the universe expands."
   ]
  },
  {
   "cell_type": "code",
   "execution_count": null,
   "metadata": {
    "collapsed": true
   },
   "outputs": [],
   "source": [
    "spec_to_append = spectools.discretize(phi_decay_FSR, eng)\n",
    "spec_to_append.rs = 1000\n",
    "spectra_FSR = Spectra([spec_to_append])\n",
    "\n",
    "for rs in 1000/(2+np.arange(9)):\n",
    "    spec_to_append = spectools.discretize(phi_decay_FSR, eng)/(1000**3/rs**3)\n",
    "    spec_to_append.rs = rs\n",
    "    spectra_FSR.append(spec_to_append)"
   ]
  },
  {
   "cell_type": "markdown",
   "metadata": {},
   "source": [
    "## `Spectra` - Attributes and Operations"
   ]
  },
  {
   "cell_type": "markdown",
   "metadata": {},
   "source": [
    "The `Spectra` attributes are similar to `Spectrum`. `self.eng` and `self.rs` give the energy and redshift abscissa respectively. Note that all of the `Spectrum` objects must share the same energy abscissa to be stored in the same `Spectra` object. Use `Spectrum.rebin` to rebin `Spectrum` objects into the same abscissa where necessary. \n",
    "\n",
    "To get a 2D array of the raw values, indexed by `(eng, rs)`, use `self.grid_values`. \n",
    "\n",
    "As with `Spectrum`, we can add two `Spectra` objects, add a scalar to a `Spectra`, and likewise multiply two `Spectra` or multiply by a scalar. \n",
    "\n",
    "To access individual `Spectrum` objects, it is possible to get them by specifying an index, as if the `Spectra` object were a list. "
   ]
  },
  {
   "cell_type": "markdown",
   "metadata": {},
   "source": [
    "## `Spectra` - Plotting"
   ]
  },
  {
   "cell_type": "markdown",
   "metadata": {},
   "source": [
    "`Spectra` objects are easy to plot using `self.plot`. They can be plotted at any arbitrary redshift, with the result obtained by interpolation over log of the redshift. Plotting arguments can be passed as keyword arguments. Individual `Spectrum` objects can also be plotted in a number of ways using the keyword `ind` and `indtype`. See documentation for more details."
   ]
  },
  {
   "cell_type": "code",
   "execution_count": null,
   "metadata": {
    "collapsed": false
   },
   "outputs": [],
   "source": [
    "ax = plt.subplot(1,1,1)\n",
    "plt.rc('text', usetex=True)\n",
    "\n",
    "rs_to_plot = np.array([900, 450, 225])\n",
    "spectra_plot = spectra_FSR.plot(ax, ind=rs_to_plot, indtype='rs', linewidth=2)\n",
    "\n",
    "plt.legend(spectra_plot, ('1+z = 900','1+z = 450', '1+z = 225'), \n",
    "           fontsize=24)\n",
    "\n",
    "\n",
    "ax.set_xscale('log')\n",
    "ax.set_yscale('log')\n",
    "\n",
    "plt.tick_params(axis='both', which='major', labelsize=20)\n",
    "\n",
    "plt.title('FSR Spectrum', fontsize=28)\n",
    "plt.xlabel('Photon Energy [GeV]',fontsize=24)\n",
    "plt.ylabel('dN/(dE dV) [GeV$^{-1}$ cm$^{-3}$]',fontsize=24)\n",
    "plt.axis([1e2, 2e3, 1e-7, 1e-2])"
   ]
  },
  {
   "cell_type": "markdown",
   "metadata": {},
   "source": [
    "## `Spectra` - Integration over each Spectrum"
   ]
  },
  {
   "cell_type": "markdown",
   "metadata": {},
   "source": [
    "Integration over each spectrum can be done using `self.integrate_each_spec`, with the result being an `ndarray`. There are many reasons to perform an integration over each spectrum; here, we will show only a trivial example, integrating over the spectrum to get the total number. To do this, we use `self.integrate_each_spec` with a weight given by $E \\, d \\log E$. "
   ]
  },
  {
   "cell_type": "code",
   "execution_count": null,
   "metadata": {
    "collapsed": false
   },
   "outputs": [],
   "source": [
    "log_bin_width = spectools.get_log_bin_width(spectra_FSR.get_eng())\n",
    "print('Total number of particles in each spectrum by integrate_each_spec: ')\n",
    "print(spectra_FSR.integrate_each_spec(spectra_FSR.get_eng() * log_bin_width))\n",
    "print('Total number of particles in each spectrum by Spectrum.totN(): ')\n",
    "print(np.array([spec.totN() for spec in spectra_FSR]))"
   ]
  },
  {
   "cell_type": "markdown",
   "metadata": {},
   "source": [
    "## `Spectra` - Summing Spectra"
   ]
  },
  {
   "cell_type": "markdown",
   "metadata": {},
   "source": [
    "It is frequently useful to add the spectra in a `Spectra` object up in some way. Here, we want to determine the spectrum of photons that would be observed from $\\phi \\to e^+e^-\\gamma$ through FSR at the last redshift stored in `spectra_FSR`. The DM decays at each redshift, producing a $dN/(dE \\, dV)$ stored in `spectra_FSR`. This spectrum is given *per decay*; the total spectrum needs to be re-weighted by the number of decays that occur within a redshift bin. Ignoring overall normalization once again, this means reweighting by a factor of\n",
    "\n",
    "$$ \\Delta t = \\frac{dt}{d(1+z)} (1+z) \\times \\Delta \\log (1+z)$$"
   ]
  },
  {
   "cell_type": "code",
   "execution_count": null,
   "metadata": {
    "collapsed": true
   },
   "outputs": [],
   "source": [
    "rs_array = spectra_FSR.get_rs()\n",
    "rs_log_bin_width = np.abs(spectools.get_log_bin_width(rs_array))\n",
    "weight = physics.dtdz(rs_array)*rs_array*rs_log_bin_width\n",
    "weight /= weight[-1]"
   ]
  },
  {
   "cell_type": "markdown",
   "metadata": {},
   "source": [
    "To obtain the spectrum that would be observed at the last redshift, the spectrum at each redshift must first be redshifted down to the last redshift. Then, the spectra in `spectra_FSR` are added up, weighted by `weight`, to obtain the (un-normalized) photon spectrum that we would observe. "
   ]
  },
  {
   "cell_type": "code",
   "execution_count": null,
   "metadata": {
    "collapsed": true
   },
   "outputs": [],
   "source": [
    "for spec in spectra_FSR.spec_arr:\n",
    "    spec.redshift(spectra_FSR.get_rs()[-1]) "
   ]
  },
  {
   "cell_type": "code",
   "execution_count": null,
   "metadata": {
    "collapsed": false
   },
   "outputs": [],
   "source": [
    "spectra_FSR.get_rs()"
   ]
  },
  {
   "cell_type": "code",
   "execution_count": null,
   "metadata": {
    "collapsed": false
   },
   "outputs": [],
   "source": [
    "obs_spec = spectra_FSR.sum_specs(weight)\n",
    "\n",
    "ax = plt.subplot(1,1,1)\n",
    "plt.rc('text', usetex=True)\n",
    "\n",
    "spectra_plot, = plt.plot(spectra_FSR.get_eng(), obs_spec, linewidth=2)\n",
    "\n",
    "ax.set_xscale('log')\n",
    "ax.set_yscale('log')\n",
    "\n",
    "plt.tick_params(axis='both', which='major', labelsize=20)\n",
    "\n",
    "plt.title('Spectrum at $1+z = 100$', fontsize=28)\n",
    "plt.xlabel('Photon Energy [GeV]',fontsize=24)\n",
    "plt.ylabel('dN/(dE dV) [GeV$^{-1}$ cm$^{-3}$]',fontsize=24)\n",
    "plt.axis([3e1, 2e3, 1e-6, 1e-2])"
   ]
  },
  {
   "cell_type": "code",
   "execution_count": null,
   "metadata": {
    "collapsed": true
   },
   "outputs": [],
   "source": []
  }
 ],
 "metadata": {
  "anaconda-cloud": {},
  "kernelspec": {
   "display_name": "Python [default]",
   "language": "python",
   "name": "python3"
  },
  "language_info": {
   "codemirror_mode": {
    "name": "ipython",
    "version": 3
   },
   "file_extension": ".py",
   "mimetype": "text/x-python",
   "name": "python",
   "nbconvert_exporter": "python",
   "pygments_lexer": "ipython3",
   "version": "3.5.2"
  }
 },
 "nbformat": 4,
 "nbformat_minor": 1
}
