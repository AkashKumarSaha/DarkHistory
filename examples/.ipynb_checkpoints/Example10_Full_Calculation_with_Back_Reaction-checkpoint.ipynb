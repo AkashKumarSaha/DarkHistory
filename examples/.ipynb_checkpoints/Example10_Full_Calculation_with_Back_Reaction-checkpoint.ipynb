{
 "cells": [
  {
   "cell_type": "markdown",
   "metadata": {},
   "source": [
    "# Back Reaction"
   ]
  },
  {
   "cell_type": "markdown",
   "metadata": {},
   "source": [
    "## Initialization"
   ]
  },
  {
   "cell_type": "code",
   "execution_count": 1,
   "metadata": {},
   "outputs": [],
   "source": [
    "%load_ext autoreload\n",
    "import sys\n",
    "sys.path.append(\"..\")"
   ]
  },
  {
   "cell_type": "code",
   "execution_count": 2,
   "metadata": {},
   "outputs": [],
   "source": [
    "%autoreload\n",
    "\n",
    "import matplotlib\n",
    "matplotlib.rc_file('matplotlibrc')\n",
    "import matplotlib.pyplot as plt\n",
    "\n",
    "%matplotlib inline\n",
    "\n",
    "matplotlib.rcParams['figure.figsize'] = [10,10]\n",
    "\n",
    "\n",
    "from astropy.io import fits\n",
    "\n",
    "import numpy as np\n",
    "import copy\n",
    "import pickle\n",
    "\n",
    "import darkhistory.physics as phys\n",
    "import darkhistory.utilities as utils\n",
    "import darkhistory.spec.spectools as spectools\n",
    "import darkhistory.spec.transferfunction as tf\n",
    "from darkhistory.spec.spectrum import Spectrum\n",
    "from darkhistory.spec.spectra import Spectra\n",
    "import darkhistory.history.tla as tla\n",
    "\n",
    "from scipy.interpolate import interp1d\n",
    "\n",
    "from tqdm import tqdm_notebook as tqdm\n",
    "\n",
    "from darkhistory.electrons.ics.ics_spectrum import ics_spec\n",
    "from darkhistory.electrons.ics.ics_engloss_spectrum import engloss_spec\n",
    "from darkhistory.electrons.ics.ics_cooling import get_ics_cooling_tf\n",
    "\n",
    "# np.set_printoptions(threshold=np.nan)"
   ]
  },
  {
   "cell_type": "markdown",
   "metadata": {},
   "source": [
    "## Load Reference Results"
   ]
  },
  {
   "cell_type": "markdown",
   "metadata": {},
   "source": [
    "These reference results start with a delta-function like injection at a redshift of $(1+z) = 31$ of 2 photons at the energy given by the file name. The high energy photons are stored in `file_photonspectrum`, low energy photons in `file_lowengphot` and low energy electrons in `file_lowengelec`. The photon energy abscissa is `file_eng` (both high and low) while the electron energy abscissa is `file_eleceng`. "
   ]
  },
  {
   "cell_type": "code",
   "execution_count": 3,
   "metadata": {},
   "outputs": [],
   "source": [
    "eng_ind = 495\n",
    "\n",
    "# Check that this matches with the input \n",
    "\n",
    "# file_name = {99: \"/Users/hongwan/Dropbox (MIT)/Photon Deposition/tf_z_3.100E+01_nstep_2049_logE_5.328E+00_xe_1.000E-04.fits\",\n",
    "#             199: \"/Users/hongwan/Dropbox (MIT)/Photon Deposition/tf_z_3.100E+01_nstep_2049_logE_7.183E+00_xe_1.000E-04.fits\",\n",
    "#             298: \"/Users/hongwan/Dropbox (MIT)/Photon Deposition/tf_z_3.100E+01_nstep_2049_logE_9.020E+00_xe_1.000E-04.fits\",\n",
    "#             299: \"/Users/hongwan/Dropbox (MIT)/Photon Deposition/tf_z_3.100E+01_nstep_2049_logE_9.038E+00_xe_1.000E-04.fits\", \n",
    "#             399: \"/Users/hongwan/Dropbox (MIT)/Photon Deposition/tf_z_3.100E+01_nstep_2049_logE_1.089E+01_xe_1.000E-04.fits\",\n",
    "#             499: \"/Users/hongwan/Dropbox (MIT)/Photon Deposition/tf_z_3.100E+01_nstep_2049_logE_1.275E+01_xe_1.000E-04.fits\",\n",
    "#             2993: \"/Users/hongwan/Dropbox (MIT)/Photon Deposition/tf_z_3.100E+01_nstep_18_logE_9.038E+00_xe_1.000E-04.fits\"}\n",
    "\n",
    "file_name = {95: \"/Users/hongwan/Dropbox (MIT)/Photon Deposition/tf_z_3.100E+01_nstep_2049_logE_3.884E+00_xe_2.746E-04.fits\",\n",
    "            195: \"/Users/hongwan/Dropbox (MIT)/Photon Deposition/tf_z_3.100E+01_nstep_2049_logE_6.077E+00_xe_2.746E-04.fits\",\n",
    "            295: \"/Users/hongwan/Dropbox (MIT)/Photon Deposition/tf_z_3.100E+01_nstep_2049_logE_8.271E+00_xe_2.746E-04.fits\",\n",
    "            395: \"/Users/hongwan/Dropbox (MIT)/Photon Deposition/tf_z_3.100E+01_nstep_2049_logE_1.046E+01_xe_2.746E-04.fits\", \n",
    "            495: \"/Users/hongwan/Dropbox (MIT)/Photon Deposition/tf_z_3.100E+01_nstep_2049_logE_1.266E+01_xe_2.746E-04.fits\"}\n",
    "\n",
    "\n",
    "file = fits.open(file_name[eng_ind])\n",
    "\n",
    "file_eng     = file[1].data['energy'][0,:]\n",
    "file_eleceng = file[1].data['eleceng'][0,:]\n",
    "file_rs      = file[1].data['redshift'][0,:]\n",
    "\n",
    "file_photonspectrum = file[1].data['photonspectrum'][0,:,:]\n",
    "file_lowengphot     = file[1].data['lowengphot'][0,:,:]\n",
    "file_lowengelec     = file[1].data['lowengelec'][0,:,:]\n",
    "file_cmbloss        = file[1].data['cmblosstable'][0,:]"
   ]
  },
  {
   "cell_type": "markdown",
   "metadata": {},
   "source": [
    "Turn the data into `Spectra` objects. "
   ]
  },
  {
   "cell_type": "code",
   "execution_count": 4,
   "metadata": {},
   "outputs": [],
   "source": [
    "file_highengphot_spectra = Spectra([Spectrum(file_eng, photspec, rs=rs) \n",
    "    for photspec,rs in zip(file_photonspectrum, file_rs)])\n",
    "\n",
    "file_lowengphot_spectra = Spectra([Spectrum(file_eng, photspec, rs=rs) \n",
    "    for photspec,rs in zip(file_lowengphot, file_rs)])\n",
    "\n",
    "file_lowengelec_spectra = Spectra([Spectrum(file_eleceng, elecspec, rs=rs) \n",
    "    for elecspec,rs in zip(file_lowengelec, file_rs)])"
   ]
  },
  {
   "cell_type": "markdown",
   "metadata": {},
   "source": [
    "## Photon Cooling"
   ]
  },
  {
   "cell_type": "markdown",
   "metadata": {},
   "source": [
    "Now we cool the photons that result from the high energy photon injection. Photons below 3.1 keV are considered low energy photons. For high energy photons, greater than 3.1 keV, we have transfer functions into high energy photons, low energy photons and low energy electrons. Let's load them first. These are saved as arrays of `TransFuncList` objects, for a list of 10 different levels of $x_e$."
   ]
  },
  {
   "cell_type": "code",
   "execution_count": 5,
   "metadata": {},
   "outputs": [],
   "source": [
    "user = 'hongwan'\n",
    "\n",
    "highengphot_tflist_arr_raw = pickle.load(open(\"/Users/\"+user+\"/Dropbox (MIT)/Photon Deposition/tfunclist_photspec_60eV_list_new.raw\", \"rb\"))\n",
    "lowengphot_tflist_arr_raw  = pickle.load(open(\"/Users/\"+user+\"/Dropbox (MIT)/Photon Deposition/tfunclist_lowengphotspec_60eV_list_new.raw\", \"rb\"))\n",
    "lowengelec_tflist_arr_raw  = pickle.load(open(\"/Users/\"+user+\"/Dropbox (MIT)/Photon Deposition/tfunclist_lowengelecspec_60eV_list_new.raw\", \"rb\"))\n",
    "CMB_engloss_raw = pickle.load(open(\"/Users/\"+user+\"/Dropbox (MIT)/Photon Deposition/CMB_engloss_60eV_list_new.raw\", \"rb\"))"
   ]
  },
  {
   "cell_type": "markdown",
   "metadata": {},
   "source": [
    "For checks, we may want to use just one particular set of transfer functions. If so, we should run this cell."
   ]
  },
  {
   "cell_type": "code",
   "execution_count": null,
   "metadata": {},
   "outputs": [],
   "source": [
    "tflist_xe_ind = 0\n",
    "# Note that for now, highengphot_tflist_arr_raw only has one entry, and in actual fact has an ionization\n",
    "# corresponding to 0.5 + 0.5*np.tanh(4.1). But we set this to 0 here instead of 1 to access the single element\n",
    "# in the array.\n",
    "\n",
    "print(0.5 + 0.5*np.tanh([-5., -4.1, -3.2, -2.3, -1.4, -0.5, 0.4, 1.3, 2.2, 3.1, 4]))\n",
    "\n",
    "highengphot_tflist_arr = [highengphot_tflist_arr_raw[tflist_xe_ind]]\n",
    "lowengphot_tflist_arr  = [lowengphot_tflist_arr_raw[tflist_xe_ind]]\n",
    "lowengelec_tflist_arr  = [lowengelec_tflist_arr_raw[tflist_xe_ind]]\n",
    "CMB_engloss_arr = CMB_engloss_raw[0]"
   ]
  },
  {
   "cell_type": "markdown",
   "metadata": {},
   "source": [
    "## Inputs"
   ]
  },
  {
   "cell_type": "markdown",
   "metadata": {},
   "source": [
    "Next, we define the input spectrum. Currently, `eleceng` and `photeng` must be defined as follows for accuracy, although `n` can be adjusted for speed. Here, we define a delta-function like injection at `mwimp_arr[eng_ind]`, which will correspond exactly with the reference file chosen. Note that `spectools.rebin_N_arr` produces a `Spectrum` object of type `'dNdE'` by default, so `Spectrum.switch_spec_type()` is required, since all of the transfer functions evolve `Spectrum` objects of type `'N'`. "
   ]
  },
  {
   "cell_type": "code",
   "execution_count": null,
   "metadata": {},
   "outputs": [],
   "source": [
    "# mwimp_arr = np.array(highengphot_tflist_arr[0].in_eng)\n",
    "\n",
    "# mwimp_arr = {99: 10**5.328, 199: 10**7.183, 298: 10**9.020, 299: 10**9.038, \n",
    "#             399: 10**10.89, 499: 10**12.72}\n",
    "\n",
    "mwimp_arr = {95: 10**3.884, 195: 10**6.077, 295: 10**8.271, 395: 10**10.46, 495: 10**12.66}\n",
    "\n",
    "eleceng = lowengelec_tflist_arr[0].eng\n",
    "photeng = highengphot_tflist_arr[0].eng\n",
    "\n",
    "# step = np.log(photeng[1]) - np.log(photeng[0])\n",
    "# test = np.exp(np.arange(np.log(photeng[0]), np.log(9.9e-5), -step))\n",
    "# photeng = np.append(np.flipud(test[1:]), photeng)\n",
    "\n",
    "# eleceng = eleceng[1::n]\n",
    "# photeng = photeng[1::n]\n",
    "\n",
    "phot_spec_init = spectools.rebin_N_arr(np.array([2]), \n",
    "                                      np.array([mwimp_arr[eng_ind]]),\n",
    "                                      photeng)\n",
    "\n",
    "# fac = mwimp_arr[eng_ind]/file_eng[-1]\n",
    "\n",
    "# phot_spec_init = spectools.rebin_N_arr(np.array([2*fac]), \n",
    "#                                       np.array([file_eng[-1]]),\n",
    "#                                        photeng\n",
    "#                                       )\n",
    "\n",
    "phot_spec_init.switch_spec_type()"
   ]
  },
  {
   "cell_type": "markdown",
   "metadata": {},
   "source": [
    "To evolve the spectrum and allow for easy processing later, the high energy photon transfer function must be square. We make the abscissa for the transfer function `photeng` by `photeng` (injected energy by output energy), and simply pad the additional rows needed with zeros. For convenience, we also use `photeng` by `photeng` for the low energy photon transfer function, and `photeng` by `eleceng` for the low energy electron transfer function. The definitions for high and low energies are listed below. "
   ]
  },
  {
   "cell_type": "code",
   "execution_count": null,
   "metadata": {},
   "outputs": [],
   "source": [
    "#Split photeng into high and low energy. \n",
    "photeng_high = photeng[photeng > 60]\n",
    "photeng_low  = photeng[photeng <= 60]\n",
    "\n",
    "# Split eleceng into high and low energy. \n",
    "eleceng_high = eleceng[eleceng > 3000]\n",
    "eleceng_low  = eleceng[eleceng <= 3000]\n",
    "\n",
    "\n",
    "for highengphot_tflist in highengphot_tflist_arr:\n",
    "    \n",
    "#     highengphot_tflist.at_val('in_eng', photeng_high, bounds_error=False, fill_value=0)\n",
    "\n",
    "    for tf in highengphot_tflist:\n",
    "        # tf.rebin(photeng_high)\n",
    "#         tf.rebin(photeng)\n",
    "        \n",
    "        # Pad with zeros so that it becomes photeng x photeng. \n",
    "        tf._grid_vals = np.pad(tf.grid_vals, ((photeng_low.size, 0), (0, 0)), 'constant')\n",
    "        tf._N_underflow = np.pad(tf._N_underflow, (photeng_low.size, 0), 'constant')\n",
    "        tf._eng_underflow = np.pad(tf._eng_underflow, (photeng_low.size, 0), 'constant')\n",
    "        tf._in_eng = photeng\n",
    "        tf._eng = photeng\n",
    "        tf._rs = tf.rs[0]*np.ones_like(photeng)\n",
    "    \n",
    "    highengphot_tflist.eng = photeng\n",
    "    highengphot_tflist.in_eng = photeng\n",
    "    \n",
    "# lowengphot_tflist.in_eng set to photeng_high\n",
    "for lowengphot_tflist in lowengphot_tflist_arr:\n",
    "    \n",
    "#     lowengphot_tflist.at_val('in_eng', photeng_high, bounds_error=False, fill_value=0)\n",
    "    \n",
    "    for tf in lowengphot_tflist:\n",
    "#         tf.rebin(photeng)\n",
    "        # Pad with zeros so that it becomes photeng x photeng. \n",
    "        tf._grid_vals = np.pad(tf.grid_vals, ((photeng_low.size,0), (0,0)), 'constant')\n",
    "        # Photons in the low energy bins should be immediately deposited.\n",
    "        tf._grid_vals[0:photeng_low.size, 0:photeng_low.size] = np.identity(photeng_low.size)\n",
    "        tf._N_underflow = np.pad(tf._N_underflow, (photeng_low.size, 0), 'constant')\n",
    "        tf._eng_underflow = np.pad(tf._eng_underflow, (photeng_low.size, 0), 'constant')\n",
    "        tf._in_eng = photeng\n",
    "        tf._eng = photeng\n",
    "        tf._rs = tf.rs[0]*np.ones_like(photeng)\n",
    "    \n",
    "    lowengphot_tflist.eng = photeng\n",
    "    lowengphot_tflist.in_eng = photeng\n",
    "    \n",
    "# lowengelec_tflist.in_eng set to photeng_high \n",
    "for lowengelec_tflist in lowengelec_tflist_arr:\n",
    "    \n",
    "#     lowengelec_tflist.at_val('in_eng', photeng_high, bounds_error=False, fill_value=0)\n",
    "    \n",
    "    for tf in lowengelec_tflist:\n",
    "#         tf.rebin(eleceng)\n",
    "        # Pad with zeros so that it becomes photeng x eleceng. \n",
    "        tf._grid_vals = np.pad(tf.grid_vals, ((photeng_low.size,0), (0,0)), 'constant')\n",
    "        tf._N_underflow = np.pad(tf._N_underflow, (photeng_low.size, 0), 'constant')\n",
    "        tf._eng_underflow = np.pad(tf._eng_underflow, (photeng_low.size, 0), 'constant')\n",
    "        tf._in_eng = photeng\n",
    "        tf._eng = eleceng\n",
    "        tf._rs = tf.rs[0]*np.ones_like(photeng)\n",
    "\n",
    "    lowengelec_tflist.eng = eleceng\n",
    "    lowengelec_tflist.in_eng = photeng\n",
    "    \n",
    "np.pad(CMB_engloss_arr, (photeng_low.size, 0), 'constant')\n"
   ]
  },
  {
   "cell_type": "markdown",
   "metadata": {},
   "source": [
    "## Coarsening"
   ]
  },
  {
   "cell_type": "markdown",
   "metadata": {},
   "source": [
    "We need to decide on the redshift step to use. The default redshift step in the transfer functions is $d \\log (1+z) = 0.002$, with the transfer function with this step size evaluated at (currently) 50 redshifts, from $z = 30$ to $z = 4$. If we stick with this step size, then we must interpolate the transfer function at 2049 points between $z = 30$ and $z = 4$, so that every multiplication by the transfer function advances the spectrum by a step of $d \\log (1+z) = 0.002$. \n",
    "\n",
    "However, we can coarsen the high energy photon transfer function by some factor $f$ by multiplying the transfer function matrix by itself multiple times, producing transfer functions for a redshift step of $d \\log (1+z) = f \\times 0.002$. The assumption here is that the transfer function does not change significantly over this bigger redshift step, which appears to be a good approximation in all of the cases checked so far. We will then have to interpolate the transfer function at $2049/f$ steps, and perform $2049/f$ matrix multiplications to evolve the spectrum from $z=30$ to $z=4$. \n",
    "\n",
    "This is performed using the function `TransferFuncList.coarsen()`. There are two types of coarsening: one is for a propagation matrix, where we simply multiply the transfer function by itself multiple times (here given by `coarsen_factor`). The other is for a deposition matrix. The deposition matrix is taken to be constant over the number of steps given by `coarsen_factor`, and is applied to the high energy photon spectrum that is produced by each multiplication of the transfer function to get to the next redshift. After coarsening, if the propagation transfer function is $P$, and the deposition transfer function is $D$, coarsening returns $B (1 + P + \\cdots + P^{n-1})$. \n",
    "\n",
    "After coarsening, the resulting transfer functions are then interpolated at the redshifts given in `rs_list`. "
   ]
  },
  {
   "cell_type": "code",
   "execution_count": null,
   "metadata": {},
   "outputs": [],
   "source": [
    "# The redshift step to use will be coarsen_factor * 0.002\n",
    "coarsen_factor = 1\n",
    "# Generate the redshifts at which we want to get an interpolated value for the transfer function. \n",
    "tf_rs_arr = highengphot_tflist_arr[0].rs\n",
    "rs_list = np.exp(np.arange(np.log(tf_rs_arr[0]), \n",
    "                           np.log(tf_rs_arr[-1])-highengphot_tflist_arr[0].dlnz*coarsen_factor, \n",
    "                           -highengphot_tflist_arr[0].dlnz*coarsen_factor)\n",
    "                )\n",
    "\n",
    "rs_list[-1] = max(4., rs_list[-1])\n",
    "\n",
    "if coarsen_factor > 1:\n",
    "    for (\n",
    "        lowengphot_tflist, lowengelec_tflist, highengphot_tflist\n",
    "    )in tqdm(zip(\n",
    "        lowengphot_tflist_arr, lowengelec_tflist_arr, highengphot_tflist_arr\n",
    "    )):\n",
    "        lowengphot_tflist.coarsen(coarsen_factor, delete_tfs=False, coarsen_type='dep', prop_transfunclist=highengphot_tflist)\n",
    "        lowengelec_tflist.coarsen(coarsen_factor, delete_tfs=False, coarsen_type='dep', prop_transfunclist=highengphot_tflist)\n",
    "        highengphot_tflist.coarsen(coarsen_factor, delete_tfs=False)\n",
    "    \n",
    "lowengphot_tflist.at_val('rs',rs_list)\n",
    "lowengelec_tflist.at_val('rs',rs_list)\n",
    "highengphot_tflist.at_val('rs',rs_list)\n",
    "\n",
    "phot_spec_init.rs = rs_list[0]\n",
    "\n",
    "\n",
    "\n"
   ]
  },
  {
   "cell_type": "code",
   "execution_count": null,
   "metadata": {},
   "outputs": [],
   "source": [
    "print(tf_rs_arr.shape)\n",
    "print(CMB_engloss_arr.shape)\n",
    "CMB_engloss_interp = interp1d(tf_rs_arr, CMB_engloss_arr, axis=0)\n",
    "\n",
    "CMB_engloss = CMB_engloss_interp(rs_list)\n",
    "print(CMB_engloss.shape)\n"
   ]
  },
  {
   "cell_type": "markdown",
   "metadata": {},
   "source": [
    "## Transfer Function Checks"
   ]
  },
  {
   "cell_type": "markdown",
   "metadata": {},
   "source": [
    "Let's do the check for the transfer functions first. We'll just use the first `tflist` in each list as a check.\n",
    "\n",
    "Now we evolve the initial photon spectrum across all of the redshifts specified in `rs_list`, using the coarsened transfer functions. This is performed by calling the function `spectools.evolve()`, which takes as arguments the initial spectrum, the list of propagation transfer functions, as well as a list of deposition transfer functions. We want to use `evolve_type='prop'` for the high energy photons (just propagation) and `evolve_type='dep'` for low energy electrons and photons, in which case we must specify both propagation and deposition transfer matrices. `save_steps` determines whether the output is a single `Spectrum` at the end of the whole propagation, or a `Spectra` object, which records the spectrum at each intermediate step."
   ]
  },
  {
   "cell_type": "code",
   "execution_count": null,
   "metadata": {},
   "outputs": [],
   "source": [
    "\n",
    "highengphot_spectra = spectools.evolve(\n",
    "    phot_spec_init, highengphot_tflist_arr[0], evolve_type='prop', save_steps=True\n",
    ")\n",
    "lowengphot_spectra  = spectools.evolve(\n",
    "    phot_spec_init, lowengphot_tflist_arr[0], evolve_type='dep',\n",
    "    prop_tflist=highengphot_tflist_arr[0], save_steps=True\n",
    ")\n",
    "lowengelec_spectra = spectools.evolve(\n",
    "    phot_spec_init, lowengelec_tflist_arr[0],\n",
    "    evolve_type='dep', prop_tflist=highengphot_tflist_arr[0], save_steps=True\n",
    ")"
   ]
  },
  {
   "cell_type": "markdown",
   "metadata": {},
   "source": [
    "We can now obtain the energy loss from upscattered CMB photons using `CMB_engloss`. "
   ]
  },
  {
   "cell_type": "code",
   "execution_count": null,
   "metadata": {},
   "outputs": [],
   "source": [
    "print(CMB_engloss.shape)\n",
    "cmbloss = highengphot_spectra.integrate_each_spec(CMB_engloss)\n",
    "print(cmbloss.size)\n",
    "\n"
   ]
  },
  {
   "cell_type": "markdown",
   "metadata": {},
   "source": [
    "Here, we process the data from our reference files in order to make the comparison with our result. First, we need to rebin the reference file spectra into the same energy abscissa as our output from above. Then, we switch the spectrum to `'N'` type, so that we can make a direct comparison by plotting `Spectrum.N`. "
   ]
  },
  {
   "cell_type": "code",
   "execution_count": null,
   "metadata": {},
   "outputs": [],
   "source": [
    "file_highengphot_spectra.rebin(highengphot_spectra.eng)\n",
    "file_highengphot_spectra.switch_spec_type()\n",
    "file_lowengphot_spectra.rebin(lowengphot_spectra.eng)\n",
    "file_lowengphot_spectra.switch_spec_type()\n",
    "file_lowengelec_spectra.rebin(lowengelec_spectra.eng)\n",
    "file_lowengelec_spectra.switch_spec_type()"
   ]
  },
  {
   "cell_type": "markdown",
   "metadata": {},
   "source": [
    "Because we have coarsened our deposition transfer function, the output in `lowengphot_spectra` and `lowengelec_spectra` is actually equivalent to the total deposition from a number of steps given by `coarsen_factor` in the original file. We have to add up all of the deposited low energy electrons and photons in the reference file in order to make the correct comparison."
   ]
  },
  {
   "cell_type": "code",
   "execution_count": null,
   "metadata": {},
   "outputs": [],
   "source": [
    "combined_file_lowengphot_spectra = Spectra([], spec_type='N')\n",
    "combined_file_lowengelec_spectra = Spectra([], spec_type='N')\n",
    "combined_file_cmbloss = np.zeros(np.floor_divide(2049,2*coarsen_factor))\n",
    "\n",
    "for i in np.arange(np.floor_divide(2049,2*coarsen_factor)-1):\n",
    "    mask = np.zeros(2049)\n",
    "    mask[2*i*coarsen_factor+1:(2*i+2)*coarsen_factor+1] = 1\n",
    "    out_spec_phot = file_lowengphot_spectra.sum_specs(mask)\n",
    "    out_spec_elec = file_lowengelec_spectra.sum_specs(mask)\n",
    "    combined_file_cmbloss[i+1] = np.sum(file_cmbloss[2*i*coarsen_factor+1:(2*i+2)*coarsen_factor+1])\n",
    "    out_spec_phot.rs = file_lowengphot_spectra[(2*i+2)*coarsen_factor].rs\n",
    "    out_spec_elec.rs = file_lowengelec_spectra[(2*i+2)*coarsen_factor].rs\n",
    "    combined_file_lowengphot_spectra.append(out_spec_phot)\n",
    "    combined_file_lowengelec_spectra.append(out_spec_elec)"
   ]
  },
  {
   "cell_type": "code",
   "execution_count": null,
   "metadata": {},
   "outputs": [],
   "source": [
    "plt.figure()\n",
    "\n",
    "rs_plot = 4.01\n",
    "\n",
    "ax = plt.gca()\n",
    "\n",
    "tf_plot, = highengphot_spectra.plot(ax, ind=rs_plot, indtype='rs')\n",
    "# tf_plot, = highengphot_spectra.plot(ax, ind=10)\n",
    "file_plot, = file_highengphot_spectra.plot(ax, ind=rs_plot, indtype='rs')\n",
    "# file_plot, = file_highengphot_spectra.plot(ax, ind=20)\n",
    "\n",
    "plt.title('High Energy Photon Spectrum\\n' + r'$m_\\chi$ ='\n",
    "          +'{:.2e}'.format(mwimp_arr[eng_ind])\n",
    "          +r' eV, $1+z$ = '+'{0:.2f}'.format(rs_plot)\n",
    "         )\n",
    "\n",
    "ax.legend((tf_plot, file_plot), ('Transfer Function', 'Reference File'))\n",
    "ax.set_xscale('log')\n",
    "ax.set_yscale('log')\n",
    "\n",
    "plt.xlabel('Secondary Photon Energy [eV]')\n",
    "plt.ylabel('Number of Photons in Each Bin')\n",
    "plt.axis([1e-4, 5e12, 1e-38, 1e6])"
   ]
  },
  {
   "cell_type": "code",
   "execution_count": null,
   "metadata": {},
   "outputs": [],
   "source": [
    "plt.figure()\n",
    "\n",
    "rs_plot = 4.01\n",
    "\n",
    "ax = plt.gca()\n",
    "print(lowengphot_spectra.rs[11])\n",
    "tf_plot, = lowengphot_spectra.plot(ax, ind=rs_plot, indtype='rs')\n",
    "file_plot, = combined_file_lowengphot_spectra.plot(ax, ind=rs_plot, indtype='rs')\n",
    "# tf_plot, = lowengphot_spectra.plot(ax, ind=12)\n",
    "# file_plot, = combined_file_lowengphot_spectra.plot(ax, ind=11)\n",
    "\n",
    "\n",
    "ax.set_xscale('log')\n",
    "ax.set_yscale('log')\n",
    "\n",
    "plt.title('Low Energy Photon Spectrum\\n' + r'$m_\\chi$ ='\n",
    "          +'{:.2e}'.format(mwimp_arr[eng_ind])\n",
    "          +r' eV, $1+z$ = '+'{0:.2f}'.format(rs_plot)\n",
    "         )\n",
    "\n",
    "ax.legend((tf_plot, file_plot), ('Transfer Function', 'Reference File'))\n",
    "\n",
    "\n",
    "plt.xlabel('Secondary Photon Energy [eV]')\n",
    "plt.ylabel('Number of Photons in Each Bin')\n",
    "plt.axis([1e-4, 1e4, 1e-44, 3000000])"
   ]
  },
  {
   "cell_type": "code",
   "execution_count": null,
   "metadata": {},
   "outputs": [],
   "source": [
    "plt.figure()\n",
    "\n",
    "rs_plot = 4.01\n",
    "\n",
    "ax = plt.gca()\n",
    "tf_plot, = lowengelec_spectra.plot(ax, ind=rs_plot, indtype='rs')\n",
    "file_plot, = combined_file_lowengelec_spectra.plot(ax, ind=rs_plot, indtype='rs')\n",
    "# tf_plot, = lowengelec_spectra.plot(ax, ind=420)\n",
    "# file_plot, = combined_file_lowengelec_spectra.plot(ax, ind=419)\n",
    "\n",
    "ax.set_xscale('log')\n",
    "# ax.set_yscale('log')\n",
    "plt.title('Low Energy Electron Spectrum\\n' + r'$m_\\chi$ ='\n",
    "          +'{:.2e}'.format(mwimp_arr[eng_ind])\n",
    "          +r' eV, $1+z$ = '+'{0:.2f}'.format(rs_plot)\n",
    "         )\n",
    "\n",
    "ax.legend((tf_plot, file_plot), ('Transfer Function', 'Reference File'))\n",
    "\n",
    "plt.xlabel('Secondary Electron Energy [eV]')\n",
    "plt.ylabel('Number of Electrons in Each Bin')\n",
    "plt.axis([1, 4e3, 1e-14, 25])"
   ]
  },
  {
   "cell_type": "markdown",
   "metadata": {},
   "source": [
    "For keV photons, the discrepancies between the low energy photon and low energy electron spectra are large. This is because of the discontinuous behavior of photons above and below the 3 keV threshold: photons above the 3 keV threshold in the high energy code are made to photoionize, producing a secondary electron spectrum that has energy $E_\\gamma - $ 13.6 eV, and then this is put through the electrons module to produce ICS and a resolved electron spectrum. Photons that are below 3 keV are simply saved. However, once they are processed in the low energy code, and CMB losses from ICS are taken into account, the effects should be similar."
   ]
  },
  {
   "cell_type": "code",
   "execution_count": null,
   "metadata": {},
   "outputs": [],
   "source": [
    "plt.figure()\n",
    "\n",
    "ax = plt.gca()\n",
    "\n",
    "tf_plot = plt.plot(rs_list, 0.1*cmbloss)\n",
    "file_plot = plt.plot(rs_list[1:], combined_file_cmbloss)\n",
    "\n",
    "ax.set_xscale('log')\n",
    "ax.set_yscale('log')"
   ]
  },
  {
   "cell_type": "code",
   "execution_count": null,
   "metadata": {},
   "outputs": [],
   "source": [
    "print(cmbloss[1])\n",
    "print(combined_file_cmbloss[1])"
   ]
  },
  {
   "cell_type": "code",
   "execution_count": null,
   "metadata": {},
   "outputs": [],
   "source": []
  }
 ],
 "metadata": {
  "kernelspec": {
   "display_name": "Python 3",
   "language": "python",
   "name": "python3"
  },
  "language_info": {
   "codemirror_mode": {
    "name": "ipython",
    "version": 3
   },
   "file_extension": ".py",
   "mimetype": "text/x-python",
   "name": "python",
   "nbconvert_exporter": "python",
   "pygments_lexer": "ipython3",
   "version": "3.6.5"
  }
 },
 "nbformat": 4,
 "nbformat_minor": 2
}
