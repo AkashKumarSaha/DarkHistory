{
 "cells": [
  {
   "cell_type": "markdown",
   "metadata": {},
   "source": [
    "# Helium, Dark Matter and Reionization"
   ]
  },
  {
   "cell_type": "markdown",
   "metadata": {},
   "source": [
    "In this part of the notebook, we will show several different examples of how to evaluate the temperature and ionization histories using many of the different options available to `DarkHistory`. The function that solves the differential equations is `darkhistory.tla.get_history`, and the set of equations that is solved can be compactly written as follows:\n",
    "\n",
    "$$ \\dot{T}_m = \\dot{T}_m^{(0)} + \\dot{T}_m^{\\text{inj}} + \\dot{T}_m^\\text{reion} $$\n",
    "\n",
    "$$ \\dot{x}_\\text{HII} = \\dot{x}_\\text{HII}^{(0)} + \\dot{x}_\\text{HII}^{\\text{inj}} + \\dot{x}_\\text{HII}^\\text{reion} $$\n",
    "\n",
    "$$ \\dot{x}_\\text{HeII} = \\dot{x}_\\text{HeII}^{(0)} + \\dot{x}_\\text{HeII}^{\\text{inj}} + \\dot{x}_\\text{HeII}^\\text{reion} $$\n",
    "\n",
    "with each of the terms defined in the paper."
   ]
  },
  {
   "cell_type": "markdown",
   "metadata": {},
   "source": [
    "## Notebook Initialization"
   ]
  },
  {
   "cell_type": "code",
   "execution_count": 1,
   "metadata": {},
   "outputs": [],
   "source": [
    "%load_ext autoreload\n",
    "import sys\n",
    "sys.path.append(\"..\")"
   ]
  },
  {
   "cell_type": "code",
   "execution_count": 55,
   "metadata": {},
   "outputs": [],
   "source": [
    "%autoreload\n",
    "%matplotlib inline\n",
    "\n",
    "import matplotlib\n",
    "import matplotlib.pyplot as plt\n",
    "matplotlib.rc_file('matplotlibrc')\n",
    "\n",
    "\n",
    "import numpy as np\n",
    "from scipy.interpolate import interp1d\n",
    "\n",
    "import darkhistory.physics as phys\n",
    "import darkhistory.history.tla as tla"
   ]
  },
  {
   "cell_type": "markdown",
   "metadata": {},
   "source": [
    "## Standard Ionization and Temperature Histories"
   ]
  },
  {
   "cell_type": "markdown",
   "metadata": {},
   "source": [
    "The most basic use of `get_history` is to obtain the standard ionization and temperature histories with no exotic energy injection sources or reionization. In the simplest approximation, we can neglect helium and simply evaluate the following equations:\n",
    "\n",
    "$$ \\dot{T}_m = \\dot{T}_m^{(0)}, \\qquad \\dot{x}_\\text{HII} = \\dot{x}_\\text{HII}^{(0)} $$\n",
    "\n",
    "First, we initialize the redshift abscissa. This must be defined in decreasing redshift. Note that the transfer functions used in calculating $f_c(z)$ only span a redshift range of $4 \\leq 1+z \\leq 3000$. In this example, we solve the TLA from $1+z = 3000$ to $1+z = 1$. \n",
    "\n",
    "First, we define a redshift vector at which we would like to find the solution. "
   ]
  },
  {
   "cell_type": "code",
   "execution_count": null,
   "metadata": {},
   "outputs": [],
   "source": [
    "rs_vec = np.flipud(1 + np.arange(3000))"
   ]
  },
  {
   "cell_type": "code",
   "execution_count": null,
   "metadata": {},
   "outputs": [],
   "source": []
  },
  {
   "cell_type": "markdown",
   "metadata": {},
   "source": [
    "The three-level atom (TLA) model is a set of coupled differential equations governing the ionization and thermal history of the universe. In it's original form as proposed by Peebles <cite data-cite=\"6232408/DVUAUQGP\"></cite> and Zel'dovich et al. <cite data-cite=\"6232408/VV5Y8E88\"></cite>, it assumes that the universe is entirely composed of hydrogen atoms with three levels: $n = 1$, $n = 2$ and the continuum, and that the only additional source of photons is the CMB blackbody radiation. A more recent explanation of this model is given in <cite data-cite=\"6232408/HNJVBBSZ\"></cite>.\n",
    "\n",
    "\n",
    "\n",
    "The TLA has been successfully modified to include dark matter energy injection <cite data-cite=\"6232408/SPGPKD33\"></cite>. This is done by introducing the ratio $f_c(z)$ of the energy injection rate due to DM annihilation/decay to the energy deposition rate into the IGM from these injections, in a given channel $c$ (ionization of hydrogen, excitation of hydrogen, or collisional heating of the IGM):\n",
    "\n",
    "$$ \\left( \\frac{dE}{dV \\, dt} \\right)_{\\text{dep.}, c} = f_c(z) \\left( \\frac{dE}{dV \\, dt} \\right)_{\\text{inj.}, c} $$\n",
    "\n",
    "Calculating $f_c(z)$ for use in these equations is one of the key goals of DarkHistory.\n",
    "\n",
    "The TLA with DM is included in DarkHistory and reionization can be solved to give the ionization and thermal history of the universe with DM energy injection and a reionization model. Our TLA solver includes a fudge factor in the recombination coefficient to the $n=2$ levels recommended by <cite data-cite=\"6232408/HNJVBBSZ\"></cite> for good agreement with HyRec. Furthermore, we solve the TLA equations in terms of $y \\equiv \\text{arctanh}[2(x_e - 0.5)]$, which makes the differential equations less stiff, and also guarantees that the ionization fraction $x_e$ is bounded between 0 and 1. \n",
    "\n",
    "---"
   ]
  },
  {
   "cell_type": "markdown",
   "metadata": {},
   "source": [
    "## `history.tla.get_history`"
   ]
  },
  {
   "cell_type": "markdown",
   "metadata": {},
   "source": [
    "The function that solves the TLA is `tla.get_history`.\n",
    "\n",
    "We will first solve the equation with no dark matter injection and no reionization model.\n",
    "\n",
    "First, we initialize the redshift abscissa. This must be defined in decreasing redshift. Note that the transfer functions used in calculating $f_c(z)$ only span a redshift range of $4 \\leq 1+z \\leq 3000$. We recommend that integration of the TLA should begin no earlier than $1+z = 3000$ for the default solver parameters that we use. \n",
    "\n",
    "In this example, we solve the TLA from $1+z = 3000$ to $1+z = 1$. "
   ]
  },
  {
   "cell_type": "code",
   "execution_count": 3,
   "metadata": {},
   "outputs": [],
   "source": [
    "rs_vec_std = np.flipud(1 + np.arange(3000))"
   ]
  },
  {
   "cell_type": "markdown",
   "metadata": {},
   "source": [
    "Next, we set the initial conditions. This is a list of four floats ($T_m$, $x_\\mathrm{HII}$, $x_\\mathrm{HeII}$, $x_\\mathrm{HeIII}$). Well before recombination, we can safely take $T_m = T_\\mathrm{CMB}$ and $x_\\mathrm{HII} = 1$. For this version of the code, we always take $x_\\mathrm{HeII} = x_\\mathrm{HeIII} = 0$, with no evolution in these fractions until reionization begins (note that the code actually sets any electron fraction that is specified to be 0 to a small number `1. - 1e-12` internally, so that $y$ remains finite)."
   ]
  },
  {
   "cell_type": "code",
   "execution_count": 57,
   "metadata": {},
   "outputs": [],
   "source": [
    "init_cond = np.array([phys.TCMB(3000), phys.xe_Saha(3000, 'HI'), phys.xe_Saha(3000, 'HeI') - 1., 0])"
   ]
  },
  {
   "cell_type": "markdown",
   "metadata": {},
   "source": [
    "We are now ready to call `tla.get_history`. The function is called using the following syntax:\n",
    "\n",
    "```python\n",
    "def get_history(\n",
    "    init_cond, f_H_ion_in, f_H_exc_in, f_heating_in,\n",
    "    dm_injection_rate_in, rs_vec, reion_switch=True, reion_rs=None,\n",
    "    photoion_rate_func=None, photoheat_rate_func=None,\n",
    "    mxstep = 1000\n",
    ")\n",
    "```\n",
    "\n",
    "The arguments are as follows: \n",
    "\n",
    "1. `init_cond` is the initial conditions which we have defined above.\n",
    "\n",
    "2. `f_H_ion_in`, `f_H_exc_in`, `f_heating_in` and `dm_injection_rate_in` are all parameters related to dark matter energy injection; we set them to zero in this part of the example. \n",
    "\n",
    "3. `rs_vec_std` is the redshift array over which to solve the TLA. Note that numerical errors may be reported by the ODE solver if `rs_vec_std` is spaced too widely. \n",
    "\n",
    "4. `reion_switch` determines if a reionization model should be used, and `reion_rs`, `photoion_rate_func` and `photoheat_rate_func` are parameters related to reionization. We shall set `reion_switch=False` for now.\n",
    "\n",
    "5. Finally, `mxstep` is the maximum number of steps that the integrator can take per integration point. Increasing this may allow the solver to overcome integration errors, while decreasing this value may speed up the integration.\n",
    "\n",
    "Now, let's call the function!"
   ]
  },
  {
   "cell_type": "code",
   "execution_count": 58,
   "metadata": {},
   "outputs": [],
   "source": [
    "soln = tla.get_history(rs_vec_std, init_cond, 0., 0., 0., 0., reion_switch=False, helium_TLA=True)"
   ]
  },
  {
   "cell_type": "markdown",
   "metadata": {},
   "source": [
    "The solution is returned as an array with dimensions `(rs_vec_std.size, 4)`. Each column corresponds to the solution for ($T_m$ in eV, $x_\\mathrm{HII}$, $x_\\mathrm{HeII}$, $x_\\mathrm{HeIII}$. Let's plot the solution. "
   ]
  },
  {
   "cell_type": "code",
   "execution_count": 59,
   "metadata": {},
   "outputs": [
    {
     "data": {
      "text/plain": [
       "[1400.0, 3000.0, 0.95, 1.13]"
      ]
     },
     "execution_count": 59,
     "metadata": {},
     "output_type": "execute_result"
    },
    {
     "data": {
      "image/png": "[encoded data removed]",
      "text/plain": [
       "<Figure size 2200x1000 with 3 Axes>"
      ]
     },
     "metadata": {},
     "output_type": "display_data"
    }
   ],
   "source": [
    "soln_Tm = soln[:,0]/phys.kB\n",
    "soln_xHII = soln[:,1] + soln[:,2]\n",
    "\n",
    "fig = plt.figure(figsize=(22,10))\n",
    "\n",
    "ax = plt.subplot(1,2,1)\n",
    "\n",
    "T_IGM, = plt.plot(rs_vec_std, soln_Tm, label='IGM Temperature')\n",
    "T_CMB, = plt.plot(rs_vec_std, phys.TCMB(rs_vec_std)/phys.kB, 'k--', label='CMB Temperature')\n",
    "\n",
    "ax.set_xscale('log')\n",
    "ax.set_yscale('log')\n",
    "\n",
    "plt.legend(handles=[T_IGM, T_CMB], loc=4)\n",
    "\n",
    "\n",
    "plt.title(r'\\bf{Temperature History}')\n",
    "plt.xlabel(r'Redshift $(1+z)$')\n",
    "plt.ylabel('IGM Temperature [K]')\n",
    "plt.axis([1, 2e3, 1e-2, 6e3])\n",
    "\n",
    "ax = plt.subplot(1,2,2)\n",
    "\n",
    "plt.plot(rs_vec_std, soln_xHII)\n",
    "\n",
    "# ax.set_xscale('log')\n",
    "ax.set_yscale('log')\n",
    "\n",
    "plt.title(r'\\bf{Ionization History}')\n",
    "plt.xlabel(r'Redshift $(1+z)$')\n",
    "plt.ylabel(r'Free Electron Fraction $x_e$')\n",
    "plt.axis([1, 3e3, 1e-4, 2])\n",
    "\n",
    "from matplotlib.transforms import blended_transform_factory\n",
    "from mpl_toolkits.axes_grid1.inset_locator import inset_axes\n",
    "\n",
    "transform = blended_transform_factory(fig.transFigure, ax.transAxes)\n",
    "axins4 = inset_axes(ax,  width=\"22%\", height=\"50%\",\n",
    "                    bbox_to_anchor=(0, 0.1, 0.88, 0.88),\n",
    "                    bbox_transform=transform, loc=4, borderpad=0)\n",
    "\n",
    "plt.plot(rs_vec_std, soln_xHII)\n",
    "plt.yticks([0.96, 1., 1.04, 1.08, 1.12])\n",
    "plt.xticks([1600, 2000, 2400, 2800])\n",
    "plt.axis([1.4e3, 3e3, 0.95, 1.13])\n"
   ]
  },
  {
   "cell_type": "markdown",
   "metadata": {},
   "source": [
    "## Reionization"
   ]
  },
  {
   "cell_type": "markdown",
   "metadata": {},
   "source": [
    "A default reionization model is included with `DarkHistory`. This model combines the fiducial photoionization and photoheating rates provided in <cite data-cite=\"6232408/MJ7LY7BF\"></cite> with rates for collisional ionization, collisional excitation, recombination cooling and Bremsstrahlung cooling given in <cite data-cite=\"6232408/4FF4XZAM\"></cite>, in order to obtain the ionization/temperature change during reionization. Although the results of <cite data-cite=\"6232408/MJ7LY7BF\"></cite> are meant for large scale simulations of reionization, `DarkHistory` is able to obtain excellent agreement with their fiducial temperature/ionization history using this method. \n",
    "\n",
    "The code for the model can be found in `darkhistory.history.reionization`.\n",
    "\n",
    "To obtain the temperature/ionization history with the default reionization model, simply specify `reion_switch = True`."
   ]
  },
  {
   "cell_type": "code",
   "execution_count": null,
   "metadata": {},
   "outputs": [],
   "source": [
    "%autoreload\n",
    "# Initialize the redshift at which we want the solution. \n",
    "rs_vec = np.flipud(1 + np.arange(0, 3000, 0.1))\n",
    "\n",
    "# Set the initial conditions. The initial temperature is the CMB temperature, \n",
    "# and the initial free electron fraction is 1. \n",
    "init_cond = np.array([phys.TCMB(3000), phys.xe_Saha(3000, 'HI'), phys.xe_Saha(3000, 'HeI') - 1., 0])\n",
    "\n",
    "# Obtain the solution.\n",
    "soln_with_reion = tla.get_history(init_cond, 0., 0., 0., 0., rs_vec, reion_switch=True, helium_TLA=True)"
   ]
  },
  {
   "cell_type": "markdown",
   "metadata": {},
   "source": [
    "And now plot the results. These results should be compared to Fig. 6 of <cite data-cite=\"6232408/MJ7LY7BF\"></cite> and are in good agreement."
   ]
  },
  {
   "cell_type": "code",
   "execution_count": null,
   "metadata": {
    "scrolled": false
   },
   "outputs": [],
   "source": [
    "plt.figure(figsize=(22,10))\n",
    "\n",
    "ax = plt.subplot(1,2,1)\n",
    "plt.rc('text', usetex=True)\n",
    "\n",
    "T_IGM_reion, = plt.plot(rs_vec, soln_with_reion[:,0]/phys.kB, label='Standard Reionization')\n",
    "\n",
    "plt.legend(handles=[T_IGM_reion])\n",
    "\n",
    "plt.title('Temperature History')\n",
    "plt.xlabel('Redshift (1+z)')\n",
    "plt.ylabel('IGM Temperature [K]')\n",
    "plt.axis([1, 17, 0, 20000])\n",
    "\n",
    "ax = plt.subplot(1,2,2)\n",
    "\n",
    "xHII, = plt.plot(rs_vec, soln_with_reion[:,1], linewidth=2, label=r'$n_\\mathrm{HII}/n_\\mathrm{H}$')\n",
    "xHeII, = plt.plot(rs_vec, soln_with_reion[:,2]/(phys.nHe/phys.nH), linewidth=2, label=r'$n_\\mathrm{HeII}/n_\\mathrm{He}$')\n",
    "xHeIII, = plt.plot(rs_vec, soln_with_reion[:,3]/(phys.nHe/phys.nH), linewidth=2, label=r'$n_\\mathrm{HeIII}/n_\\mathrm{He}$')\n",
    "\n",
    "leg = plt.legend(handles=[xHII, xHeII, xHeIII])\n",
    "leg.set_title('Standard Reionization', prop = {'size':'28'})\n",
    "\n",
    "plt.title('Ionization History')\n",
    "plt.xlabel('Redshift (1+z)')\n",
    "plt.ylabel('Ionization Fraction')\n",
    "plt.axis([1, 17, 0, 1.2])\n"
   ]
  },
  {
   "cell_type": "markdown",
   "metadata": {},
   "source": [
    "## User-Defined Reionization"
   ]
  },
  {
   "cell_type": "markdown",
   "metadata": {},
   "source": [
    "The user may enter their own photoionization and photoheating rates into the TLA solver. This is done by defining two tuples of functions, each containing the photoionization and photoheating rates respectively of HI, HeI and HeII. Here, we define functions `photoion_rate` and `photoheat_rate` to return these tuples, given some new photoionization and photoheating rates. In this example, we use the rates from <cite data-cite=\"6232408/QRY4E9Y7\"></cite>."
   ]
  },
  {
   "cell_type": "code",
   "execution_count": null,
   "metadata": {},
   "outputs": [],
   "source": [
    "def photoion_rate():\n",
    "    \n",
    "    rs_vec = 1. + np.array([\n",
    "        0.00, 0.05, 0.10, 0.16, 0.21, 0.27, 0.33, 0.40, 0.47,\n",
    "        0.54, 0.62, 0.69, 0.78, 0.87, 0.96, 1.05, 1.15, 1.26, \n",
    "        1.37, 1.49, 1.61, 1.74, 1.87, 2.01, 2.16, 2.32, 2.48,\n",
    "        2.65, 2.83, 3.02, 3.21, 3.42, 3.64, 3.87, 4.11, 4.36,\n",
    "        4.62, 4.89, 5.18, 5.49, 5.81, 6.14, 6.49, 6.86, 7.25,\n",
    "        7.65, 8.07, 8.52, 8.99, 9.48, 9.99, 10.50, 11.10, 11.70,\n",
    "        12.30, 13.00, 13.70, 14.40, 15.10\n",
    "    ])\n",
    "    \n",
    "    rate_vec_HI = np.array([\n",
    "        22.8, 28.4, 35.4, 44.0, 54.6, 67.4, 83.1, 102, 125,\n",
    "        152, 185, 223, 267, 318, 376, 440, 510, 585, 660, 732, \n",
    "        799, 859, 909, 944, 963, 965, 950, 919, 875, 822, 765, \n",
    "        705, 647, 594, 546, 504, 469, 441, 412, 360, 293, 230,\n",
    "        175, 129, 92.8, 65.5, 45.6, 31.2, 21.2, 14.3, 9.59, \n",
    "        6.40, 4.27, 2.92, 1.73, 1.02, 0.592, 0.341, 0.194\n",
    "    ]) * 1e-15\n",
    "    \n",
    "    rate_vec_HeI = np.array([\n",
    "        12.4, 15.7, 19.6, 24.6, 30.7, 38.3, 47.5, 58.7, 72.2,\n",
    "        88.4, 108, 130, 157, 187, 222, 261, 302, 346, 391, \n",
    "        434, 474, 509, 538, 557, 567, 566, 555, 535, 508,\n",
    "        476, 441, 406, 372, 341, 314, 291, 271, 253, 237, 214,\n",
    "        184, 154, 125, 99.2, 76.1, 56.8, 41.4, 29.6, 20.7, \n",
    "        14.4, 9.82, 6.67, 4.53, 3.24, 2.02, 1.23, 0.746, 0.446,\n",
    "        0.262\n",
    "    ]) * 1e-15\n",
    "    \n",
    "    rate_vec_HeII = np.array([\n",
    "        0.555, 0.676, 0.823, 1.00, 1.22, 1.48, 1.80, 2.18,\n",
    "        2.63, 3.17, 3.80, 4.54, 5.38, 6.33, 7.38, 8.52, \n",
    "        9.70, 10.9, 11.9, 12.7, 13.2, 13.4, 13.3, 12.8, \n",
    "        11.9, 10.6, 9.04, 7.22, 5.30, 3.51, 2.08, 1.14,\n",
    "        0.591, 0.302, 0.152, 0.0760, 0.0375, 0.0182,\n",
    "        0.00857, 0.00323, 0.00117, 4.42e-4, 1.73e-4, \n",
    "        7.01e-5, 2.92e-5, 1.25e-5, 5.67e-6, 2.74e-6, 1.44e-6,\n",
    "        8.19e-7, 4.99e-7, 3.25e-7, 2.12e-7, 1.43e-7, 9.84e-8,\n",
    "        6.81e-8, 4.73e-8, 3.30e-8, 1.92e-8\n",
    "    ]) * 1e-15\n",
    "\n",
    "    def ion_rate_HI(rs):\n",
    "        log10_rate = np.interp(rs, rs_vec, np.log10(rate_vec_HI))\n",
    "        return 10**log10_rate\n",
    "    \n",
    "    def ion_rate_HeI(rs):\n",
    "        log10_rate = np.interp(rs, rs_vec, np.log10(rate_vec_HeI))\n",
    "        return 10**log10_rate\n",
    "    \n",
    "    def ion_rate_HeII(rs):\n",
    "        log10_rate = np.interp(rs, rs_vec, np.log10(rate_vec_HeII))\n",
    "        return 10**log10_rate\n",
    "\n",
    "    return (ion_rate_HI, ion_rate_HeI, ion_rate_HeII)\n",
    "\n",
    "def photoheat_rate():\n",
    "    \n",
    "    rs_vec = 1. + np.array([\n",
    "        0.00, 0.05, 0.10, 0.16, 0.21, 0.27, 0.33, 0.40, 0.47,\n",
    "        0.54, 0.62, 0.69, 0.78, 0.87, 0.96, 1.05, 1.15, 1.26, \n",
    "        1.37, 1.49, 1.61, 1.74, 1.87, 2.01, 2.16, 2.32, 2.48,\n",
    "        2.65, 2.83, 3.02, 3.21, 3.42, 3.64, 3.87, 4.11, 4.36,\n",
    "        4.62, 4.89, 5.18, 5.49, 5.81, 6.14, 6.49, 6.86, 7.25,\n",
    "        7.65, 8.07, 8.52, 8.99, 9.48, 9.99, 10.50, 11.10, 11.70,\n",
    "        12.30, 13.00, 13.70, 14.40, 15.10\n",
    "    ])\n",
    "    \n",
    "    rate_vec_HI = np.array([\n",
    "        8.89, 11.1, 13.9, 17.3, 21.5, 26.6, 32.9, 40.5, 49.6, \n",
    "        60.5, 73.4, 88.5, 106, 126, 149, 175, 203, 232, 262,\n",
    "        290, 317, 341, 360, 374, 381, 382, 375, 363, 346, 325,\n",
    "        302, 279, 257, 236, 218, 202, 189, 178, 167, 148, 123,\n",
    "        98.9, 77.1, 58.3, 43.0, 31.0, 21.9, 15.3, 10.5, 7.13, \n",
    "        4.81, 3.23, 2.17, 1.51, 0.915, 0.546, 0.323, 0.189, 0.110\n",
    "    ]) * 1e-14\n",
    "    \n",
    "    rate_vec_HeI = np.array([\n",
    "        11.2, 14.0, 17.4, 21.6, 26.7, 33.1, 40.8, 50.2, 61.5,\n",
    "        75.1, 91.1, 110, 132, 157, 186, 217, 251, 287, 323, \n",
    "        357, 387, 413, 432, 444, 446, 438, 422, 398, 368, 336,\n",
    "        304, 274, 249, 227, 209, 194, 181, 170, 160, 146, 130, \n",
    "        112, 95.2, 78.3, 62.5, 48.3, 36.3, 26.6, 19.1, 13.4, \n",
    "        9.27, 6.36, 4.35, 3.14, 1.98, 1.22, 0.749, 0.455, 0.270\n",
    "    ])* 1e-14\n",
    "\n",
    "    rate_vec_HeII = np.array([\n",
    "        1.14, 1.38, 1.68, 2.03, 2.45, 2.96, 3.57, 4.29, 5.14,\n",
    "        6.15, 7.32, 8.67, 10.2, 11.9, 13.9, 15.9, 18.1, 20.2,\n",
    "        22.1, 23.7, 24.7, 25.3, 25.2, 24.4, 22.9, 20.7, 17.8,\n",
    "        14.5, 11.1, 7.75, 4.97, 2.96, 1.68, 0.925, 0.501, 0.267,\n",
    "        0.141, 0.0727, 0.0365, 0.0156, 0.00624, 0.00269, 0.00128,\n",
    "        6.74e-4, 3.88e-4, 2.40e-4, 1.55e-4, 1.03e-4, 6.98e-5, \n",
    "        4.76e-5, 3.26e-5, 2.24e-5, 1.53e-5, 1.06e-5, 7.52e-6,\n",
    "        5.31e-6, 3.73e-6, 2.57e-6, 1.54e-6\n",
    "    ]) * 1e-14\n",
    "\n",
    "    def heat_rate_HI(rs):\n",
    "        log10_rate = np.interp(rs, rs_vec, np.log10(rate_vec_HI))\n",
    "        return 10**log10_rate\n",
    "    \n",
    "    def heat_rate_HeI(rs):\n",
    "        log10_rate = np.interp(rs, rs_vec, np.log10(rate_vec_HeI))\n",
    "        return 10**log10_rate\n",
    "    \n",
    "    def heat_rate_HeII(rs):\n",
    "        log10_rate = np.interp(rs, rs_vec, np.log10(rate_vec_HeII))\n",
    "        return 10**log10_rate\n",
    "\n",
    "    return (heat_rate_HI, heat_rate_HeI, heat_rate_HeII)\n",
    "\n"
   ]
  },
  {
   "cell_type": "markdown",
   "metadata": {},
   "source": [
    "Now we call the solver. In addition to setting `reion_switch=True`, we must also specify the redshift at which reionization effects start (`reion_rs`), as well as the two tuples for `photoion_rate_func` and `photoheat_rate_func` respectively."
   ]
  },
  {
   "cell_type": "code",
   "execution_count": null,
   "metadata": {},
   "outputs": [],
   "source": [
    "%autoreload\n",
    "# Initialize the redshift at which we want the solution. \n",
    "rs_vec_reion = np.flipud(1 + np.arange(0, 3000, 0.1))\n",
    "\n",
    "# Set the initial conditions. The initial temperature is the CMB temperature, \n",
    "# and the initial free electron fraction is 1. \n",
    "init_cond = np.array([phys.TCMB(3000), phys.xe_Saha(3000, 'HI'), phys.xe_Saha(3000, 'HeI') - 1., 0])\n",
    "\n",
    "# Obtain the solution\n",
    "soln_with_reion_2 = tla.get_history(\n",
    "    rs_vec_reion, init_cond, 0., 0., 0., 0., helium_TLA=True,\n",
    "    reion_switch=True, reion_rs = 16.1, photoion_rate_func=photoion_rate(), photoheat_rate_func=photoheat_rate()\n",
    ")"
   ]
  },
  {
   "cell_type": "markdown",
   "metadata": {},
   "source": [
    "And now plot the result, which again is in good agreement with Fig. 6 of <cite data-cite=\"6232408/MJ7LY7BF\"></cite>"
   ]
  },
  {
   "cell_type": "code",
   "execution_count": null,
   "metadata": {},
   "outputs": [],
   "source": [
    "plt.figure(figsize=(22,10))\n",
    "\n",
    "ax = plt.subplot(1,2,1)\n",
    "plt.rc('text', usetex=True)\n",
    "\n",
    "T_IGM_Puchwein, = plt.plot(rs_vec_reion, soln_with_reion[:,0]/phys.kB, label='Puchwein+ (Std.)')\n",
    "T_IGM_Haardt, = plt.plot(rs_vec_reion, soln_with_reion_2[:,0]/phys.kB, label='Haardt+')\n",
    "\n",
    "plt.legend(handles=[T_IGM_Puchwein, T_IGM_Haardt])\n",
    "\n",
    "\n",
    "plt.title(r'\\bf{Temperature History}')\n",
    "plt.xlabel('Redshift (1+z)')\n",
    "plt.ylabel('IGM Temperature [K]')\n",
    "plt.axis([1, 17, 0, 20000])\n",
    "\n",
    "ax = plt.subplot(1,2,2)\n",
    "\n",
    "xHII_Puchwein, = plt.plot(rs_vec_reion, soln_with_reion[:,1], label=r'$n_\\mathrm{HII}/n_\\mathrm{H}$, Puchwein+ (Std.)')\n",
    "xHII_Haardt, = plt.plot(rs_vec_reion, soln_with_reion_2[:,1], label=r'$n_\\mathrm{HII}/n_\\mathrm{H}$, Haardt+')\n",
    "xHeIII_Puchwein, = plt.plot(rs_vec_reion, soln_with_reion[:,3]/(phys.nHe/phys.nH), label=r'$n_\\mathrm{HeIII}/n_\\mathrm{He}$, Puchwein+ (Std.)')\n",
    "xHeIII_Haardt, = plt.plot(rs_vec_reion, soln_with_reion_2[:,3]/(phys.nHe/phys.nH), label=r'$n_\\mathrm{HeIII}/n_\\mathrm{He}$, Haardt+')\n",
    "\n",
    "plt.legend(handles=[xHII_Puchwein, xHII_Haardt, xHeIII_Puchwein, xHeIII_Haardt], loc=1)\n",
    "\n",
    "plt.title(r'\\bf{Ionization History}')\n",
    "plt.xlabel('Redshift (1+z)')\n",
    "plt.ylabel('Ionization Fraction')\n",
    "plt.axis([1, 17, 0, 1.5])\n"
   ]
  },
  {
   "cell_type": "markdown",
   "metadata": {},
   "source": [
    "## Dark Matter"
   ]
  },
  {
   "cell_type": "markdown",
   "metadata": {},
   "source": [
    "Now, we will introduce dark matter into the TLA equations. We introduce a dark matter species with mass $m_\\chi = $ 100 MeV that decays with some (long) lifetime into an $e^+e^-$ pair. The energy injection rate is:\n",
    "\n",
    "$$ \\left( \\frac{dE}{dV \\, dt} \\right)_{\\text{inj.}} = \\frac{\\rho_{\\text{DM},0}}{\\tau} (1 + z)^3  $$\n",
    "\n",
    "where $\\tau$ is the lifetime, and $\\rho_{\\text{DM},0}$ is the dark matter density today. \n",
    "\n",
    "`get_history` requires four inputs in order to solve the TLA with DM injection: three functions that describe $f_c(z)$ as a function of redshift, $x_\\mathrm{HI}$, $x_\\mathrm{HeI}$ and $x_\\mathrm{HeII}$, with $c$ indexing hydrogen ionization, hydrogen excitation and collisional heating, as well as the dark matter energy injection rate.\n",
    "\n",
    "In this example, we will use the $f_c(z)$ computed in <cite data-cite=\"6232408/S55R7ACJ\"></cite>, which assumes the default RECFAST ionization history and is therefore only dependent on redshift <span style=\"color:red\">(HL: this needs to be true eventually)</span>. We will show in Example <span style=\"color:red\">(HL: specify)</span> the histories with the same DM parameters, but with $f_c(z)$ computed with backreaction fully taken into account.\n",
    "\n",
    "First, let's define the $f_c(z)$ functions.\n"
   ]
  },
  {
   "cell_type": "code",
   "execution_count": null,
   "metadata": {},
   "outputs": [],
   "source": [
    "# Import f's\n",
    "\n",
    "from scipy.interpolate import interp2d\n",
    "\n",
    "mDM = 1e8\n",
    "\n",
    "fz_elec_decay = np.loadtxt('/Users/hongwan/Dropbox (MIT)/21cm_pwave/TLA_code/fz_electron_decay.dat', delimiter=',')\n",
    "\n",
    "log10rs  = fz_elec_decay[0:70, 1]\n",
    "log10eng = fz_elec_decay[0:2800:70, 0] \n",
    "\n",
    "log10f_elec_decay = {\n",
    "    'H_ion':   np.transpose(np.reshape(fz_elec_decay[0:2800,2], (40,70))),\n",
    "    'He_ion':  np.transpose(np.reshape(fz_elec_decay[2800:5600,2], (40,70))),\n",
    "    'H_exc':   np.transpose(np.reshape(fz_elec_decay[5600:8400,2], (40,70))),\n",
    "    'heating': np.transpose(np.reshape(fz_elec_decay[8400:11200,2], (40,70))),\n",
    "    'cont':    np.transpose(np.reshape(fz_elec_decay[11200:14000,2], (40,70))) \n",
    "}\n",
    "\n",
    "\n",
    "def f_H_ion(rs, xHI, xHeI, xHeII):\n",
    "    \n",
    "    interp_func = interp2d(log10eng, log10rs, log10f_elec_decay['H_ion'])\n",
    "    return 10**interp_func(np.log10(mDM), np.log10(rs))\n",
    "\n",
    "def f_H_exc(rs, xHI, xHeI, xHeII):\n",
    "    interp_func = interp2d(log10eng, log10rs, log10f_elec_decay['H_exc'])\n",
    "    return 10**interp_func(np.log10(mDM), np.log10(rs))\n",
    "\n",
    "def f_heating(rs, xHI, xHeI, xHeII):\n",
    "    interp_func = interp2d(log10eng, log10rs, log10f_elec_decay['heating'])\n",
    "    return 10**interp_func(np.log10(mDM), np.log10(rs))\n"
   ]
  },
  {
   "cell_type": "markdown",
   "metadata": {},
   "source": [
    "Next, we define the function that returns the DM energy injection rate. This function should only depend on redshift. Here, we have chosen decaying dark matter with a lifetime of $\\tau = 10^{25}$ s. These values of $\\tau$ and $m_\\chi$ are consistent with existing CMB constraints on DM decay <cite data-cite=\"6232408/VKMX8MFJ\"></cite>, and may be able to make an order 10\\% contribution to reionization at $z = 6$ [see Fig. 15 of <cite data-cite=\"6232408/3KKTSI4D\"></cite>]. "
   ]
  },
  {
   "cell_type": "code",
   "execution_count": null,
   "metadata": {},
   "outputs": [],
   "source": [
    "# The user may also choose to use `physics.inj_rate` to construct this function.\n",
    "def dm_injection_rate(rs):\n",
    "    # Set the desired lifetime here in seconds. \n",
    "    tau = 1e25\n",
    "    return phys.rho_DM*rs**3/tau"
   ]
  },
  {
   "cell_type": "markdown",
   "metadata": {},
   "source": [
    "Now call the solver, with initial conditions and the redshift array. We will first solve it without reionization turned on."
   ]
  },
  {
   "cell_type": "code",
   "execution_count": null,
   "metadata": {},
   "outputs": [],
   "source": [
    "# Initialize the redshift at which we want the solution. \n",
    "rs_vec = np.flipud(4.02 + np.arange(0, 2994, 0.1))\n",
    "# Set the initial conditions. Setting the initial condition to be 1 will result in an error. \n",
    "init_cond = [phys.TCMB(2997.92), 1, 0, 0]\n",
    "\n",
    "print(rs_vec)\n",
    "\n",
    "# Obtain the solution\n",
    "soln_DM = tla.get_history(rs_vec, init_cond, f_H_ion, f_H_exc, f_heating, dm_injection_rate, reion_switch=False)"
   ]
  },
  {
   "cell_type": "markdown",
   "metadata": {},
   "source": [
    "The result is shown below."
   ]
  },
  {
   "cell_type": "code",
   "execution_count": null,
   "metadata": {},
   "outputs": [],
   "source": [
    "soln_Tm = soln_DM[:,0]/phys.kB\n",
    "soln_xHII = soln_DM[:,1]\n",
    "\n",
    "plt.figure(figsize=(22,10))\n",
    "\n",
    "ax = plt.subplot(1,2,1)\n",
    "\n",
    "T_IGM, = plt.plot(rs_vec, soln_Tm, label='IGM Temperature')\n",
    "T_CMB, = plt.plot(rs_vec, phys.TCMB(rs_vec)/phys.kB, 'k--', label='CMB Temperature')\n",
    "\n",
    "ax.set_xscale('log')\n",
    "ax.set_yscale('log')\n",
    "\n",
    "plt.legend(handles=[T_IGM, T_CMB])\n",
    "\n",
    "\n",
    "plt.title(r'$\\chi \\to e^+e^-$, $\\tau = 10^{25}$ s')\n",
    "plt.xlabel(r'Redshift $(1+z)$')\n",
    "plt.ylabel('IGM Temperature [K]')\n",
    "plt.axis([4, 2e3, 1, 2e5])\n",
    "\n",
    "ax = plt.subplot(1,2,2)\n",
    "\n",
    "plt.plot(rs_vec, soln_xHII)\n",
    "\n",
    "ax.set_xscale('log')\n",
    "ax.set_yscale('log')\n",
    "\n",
    "\n",
    "plt.title(r'$\\chi \\to \\gamma \\gamma$, $\\tau = 4 \\times 10^{24}$ s')\n",
    "plt.xlabel(r'Redshift $(1+z)$')\n",
    "plt.ylabel(r'Hydrogen Ionized Fraction $n_\\mathrm{HII}/n_\\mathrm{H}$')\n",
    "plt.axis([4, 3e3, 1e-4, 2])"
   ]
  },
  {
   "cell_type": "markdown",
   "metadata": {},
   "source": [
    "Of course, DM energy injection can be combined with a reionization model in `get_history`. Here, we solve the TLA again with the standard reionization scenario of the code. "
   ]
  },
  {
   "cell_type": "code",
   "execution_count": null,
   "metadata": {
    "scrolled": true
   },
   "outputs": [],
   "source": [
    "%autoreload\n",
    "# Initialize the redshift at which we want the solution. \n",
    "rs_vec_DM_reion = np.flipud(np.arange(4, 3000.2, 0.2))\n",
    "# Set the initial conditions. Setting the initial condition to be 1 will result in an error. \n",
    "init_cond = np.array([phys.TCMB(3000), phys.xe_Saha(3000, 'HI'), phys.xe_Saha(3000, 'HeI') - 1., 0])\n",
    "\n",
    "# Obtain the solution\n",
    "soln_DM_reion = tla.get_history(\n",
    "    rs_vec_DM_reion, init_cond, f_H_ion, f_H_exc, f_heating, dm_injection_rate, reion_switch=True, helium_TLA=True)"
   ]
  },
  {
   "cell_type": "markdown",
   "metadata": {},
   "source": [
    "And plotting the results,"
   ]
  },
  {
   "cell_type": "code",
   "execution_count": null,
   "metadata": {},
   "outputs": [],
   "source": [
    "plt.figure(figsize=(22,10))\n",
    "\n",
    "ax = plt.subplot(1,2,1)\n",
    "plt.rc('text', usetex=True)\n",
    "\n",
    "T_IGM_no_DM_reion, = plt.plot(rs_vec_reion, soln_with_reion[:,0]/phys.kB, label='no DM, with reionization', linestyle='--')\n",
    "T_IGM_DM_reion, = plt.plot(rs_vec_DM_reion, soln_DM_reion[:,0]/phys.kB, label='with DM and reionization')\n",
    "T_IGM_DM_no_reion, = plt.plot(rs_vec, soln_DM[:,0]/phys.kB, label='with DM, no reionization', linestyle='-.')\n",
    "\n",
    "\n",
    "# ax.set_yscale('log')\n",
    "\n",
    "plt.legend(handles=[T_IGM_no_DM_reion, T_IGM_DM_no_reion, T_IGM_DM_reion])\n",
    "\n",
    "\n",
    "plt.title(r'$\\chi \\to e^+e^-$, $\\tau = 10^{25}$ s')\n",
    "plt.xlabel(r'Redshift $(1+z)$')\n",
    "plt.ylabel('IGM Temperature [K]')\n",
    "plt.axis([4, 18, 5e2, 2.5e4])\n",
    "# plt.axis([5, 18, 5e2, 2e4])\n",
    "\n",
    "ax = plt.subplot(1,2,2)\n",
    "\n",
    "xHI_no_DM_reion, = plt.plot(rs_vec_reion, 1 - soln_with_reion[:,1], label='no DM, with reionization', linestyle='--')\n",
    "xHI_DM_reion, = plt.plot(rs_vec_DM_reion, 1 - soln_DM_reion[:,1], label='with DM and reionization')\n",
    "xHI_DM_no_reion, = plt.plot(rs_vec, 1 - soln_DM[:,1], label='with DM, no reionization', linestyle='-.')\n",
    "\n",
    "\n",
    "ax.set_yscale('log')\n",
    "\n",
    "plt.legend(handles=[xHI_no_DM_reion, xHI_DM_no_reion, xHI_DM_reion], loc=4)\n",
    "\n",
    "plt.title(r'$\\chi \\to e^+e^-$, $\\tau = 10^{25}$ s')\n",
    "plt.xlabel(r'Redshift $(1+z)$')\n",
    "plt.ylabel(r'Neutral Fraction $n_\\mathrm{HI}/n_\\mathrm{H}$')\n",
    "plt.axis([4, 17, 1e-4, 2.])\n",
    "\n",
    "\n"
   ]
  },
  {
   "cell_type": "markdown",
   "metadata": {},
   "source": [
    "Alternatively, the user can specify their own fixed ionization history, with $T_m$ being the only variable integrated with respect to redshift. As before, the user must specify `reion_rs`, the redshift at which the reionization model starts, and a function for $x_e$. Here, we choose the standard $\\tanh$ model matched onto the standard ionization history saved in `soln_xHII` above."
   ]
  },
  {
   "cell_type": "code",
   "execution_count": null,
   "metadata": {},
   "outputs": [],
   "source": [
    "# Define the standard ionization history as an interpolation function for convenience. \n",
    "\n",
    "def xe_reion_func(rs):\n",
    "    # Parameters of the model.\n",
    "    \n",
    "    f = 1.08\n",
    "    delta_z = 0.5\n",
    "    delta_y = 1.5*rs**0.5*delta_z\n",
    "    z_re = 8.8\n",
    "    y = rs**(3/2)\n",
    "    y_re = (1 + z_re)**(3/2)\n",
    "    \n",
    "    reion_model_xe = (f/2)*(1 + np.tanh((y_re - y)/delta_y))\n",
    "    reion_model_xe[reion_model_xe > 1] == 1.0\n",
    "    \n",
    "    return reion_model_xe"
   ]
  },
  {
   "cell_type": "code",
   "execution_count": null,
   "metadata": {},
   "outputs": [],
   "source": [
    "def dm_injection_rate(rs):\n",
    "    # Set the desired lifetime here in seconds. \n",
    "    tau = 1e25\n",
    "    return phys.rho_DM*rs**3/tau\n",
    "\n",
    "# Initialize the redshift at which we want the solution. \n",
    "rs_vec = np.flipud(1 + np.arange(1, 3000, 0.1))\n",
    "\n",
    "# Set the initial conditions. The initial temperature is the CMB temperature, \n",
    "# and the initial free electron fraction is 1. \n",
    "init_cond = [phys.TCMB(rs_vec[0]), 1, 0, 0]\n",
    "\n",
    "# Obtain the solution.\n",
    "soln_with_reion = tla.get_history(\n",
    "    rs_vec, init_cond, f_H_ion, f_H_exc, f_heating, dm_injection_rate, reion_switch=True, \n",
    "    reion_rs = 10., xe_reion_func = xe_reion_func\n",
    ")"
   ]
  },
  {
   "cell_type": "code",
   "execution_count": null,
   "metadata": {},
   "outputs": [],
   "source": [
    "plt.figure(figsize=(22,10))\n",
    "\n",
    "ax = plt.subplot(1,2,1)\n",
    "\n",
    "\n",
    "plt.plot(rs_vec, soln_with_reion[:,0]/phys.kB)\n",
    "\n",
    "plt.axis([5, 3000, 1, 1e5])\n",
    "plt.title(r'$\\chi \\to e^+e^-$, $\\tau = 10^{25}$ s')\n",
    "plt.xlabel(r'Redshift $(1+z)$')\n",
    "plt.ylabel('IGM Temperature [K]')\n",
    "\n",
    "ax.set_xscale('log')\n",
    "ax.set_yscale('log')\n",
    "\n",
    "ax = plt.subplot(1,2,2)\n",
    "\n",
    "plt.plot(rs_vec, soln_with_reion[:,1])\n",
    "\n",
    "plt.axis([5, 3000, 1e-4, 2])\n",
    "\n",
    "plt.title(r'$\\chi \\to e^+e^-$, $\\tau = 10^{25}$ s')\n",
    "plt.xlabel(r'Redshift $(1+z)$')\n",
    "plt.ylabel(r'Free Electron Fraction $x_e$')\n",
    "\n",
    "\n",
    "ax.set_xscale('log')\n",
    "ax.set_yscale('log')"
   ]
  },
  {
   "cell_type": "markdown",
   "metadata": {},
   "source": [
    "## Bibliography"
   ]
  },
  {
   "cell_type": "markdown",
   "metadata": {},
   "source": [
    "<div class=\"cite2c-biblio\"></div>"
   ]
  }
 ],
 "metadata": {
  "anaconda-cloud": {},
  "cite2c": {
   "citations": {
    "6232408/3KKTSI4D": {
     "DOI": "10.1103/PhysRevD.94.063507",
     "abstract": "Dark matter annihilation or decay could have a significant impact on the ionization and thermal history of the universe. In this paper, we study the potential contribution of dark matter annihilation (s-wave- or p-wave-dominated) or decay to cosmic reionization, via the production of electrons, positrons and photons. We map out the possible perturbations to the ionization and thermal histories of the universe due to dark matter processes, over a broad range of velocity-averaged annihilation cross sections/decay lifetimes and dark matter masses. We have employed recent numerical studies of the efficiency with which annihilation/decay products induce heating and ionization in the intergalactic medium, and in this work extended them down to a redshift of 1+z=4 for two different reionization scenarios. We also improve on earlier studies by using the results of detailed structure formation models of dark matter haloes and subhaloes that are consistent with up-to-date N-body simulations, with estimates on the uncertainties that originate from the smallest scales. We find that for dark matter models that are consistent with experimental constraints, a contribution of more than 10% to the ionization fraction at reionization is disallowed for all annihilation scenarios. Such a contribution is possible only for decays into electron/positron pairs, for light dark matter with mass mχ≲100  MeV, and a decay lifetime τχ∼1024–1025  s.",
     "author": [
      {
       "family": "Liu",
       "given": "Hongwan"
      },
      {
       "family": "Slatyer",
       "given": "Tracy R."
      },
      {
       "family": "Zavala",
       "given": "Jesús"
      }
     ],
     "container-title": "Phys.Rev.",
     "id": "6232408/3KKTSI4D",
     "issue": "6",
     "issued": {
      "day": 8,
      "month": 9,
      "year": 2016
     },
     "page": "063507",
     "page-first": "063507",
     "title": "Contributions to cosmic reionization from dark matter annihilation and decay",
     "type": "article-journal",
     "volume": "D94"
    },
    "6232408/4FF4XZAM": {
     "DOI": "10.1111/j.1365-2966.2006.11176.x",
     "abstract": "We use state-of-the-art hydrodynamical simulations combined with a 1D radiative transfer code to assess the extent to which the highly ionized regions observed close to z~6 quasars, which we refer to as near-zones, can constrain the ionization state of the surrounding IGM. We find the appearance in Lya absorption of a quasar HII ionization front expanding into a neutral IGM can be very similar to a classical proximity zone, produced by the enhancement in ionizing flux close to a quasar embedded in a highly ionized IGM. The observed sizes of these highly ionized near-zones and their redshift evolution can be reproduced for a wide range of IGM neutral hydrogen fractions for plausible values of the luminosity and lifetime of the quasars. The observed near-zone sizes at the highest observed redshifts are equally consistent with a significantly neutral and a highly ionized surrounding IGM. Stronger constraints on the IGM neutral hydrogen fraction can be obtained by considering the relative size of the near-zones in the Lya and Lyb regions of a quasar spectrum. A large sample of high quality quasar absorption spectra with accurate determinations of near-zone sizes and their redshift evolution in both the Lya and Lyb regions should confirm or exclude the possibility that the Universe is predominantly neutral at the highest observed redshifts. The width of the discrete absorption features in these near-zones will contain important additional information on the ionization state and the previous thermal history of the IGM at these redshifts.",
     "author": [
      {
       "family": "Bolton",
       "given": "James S."
      },
      {
       "family": "Haehnelt",
       "given": "Martin G."
      }
     ],
     "container-title": "Mon.Not.Roy.Astron.Soc.",
     "id": "6232408/4FF4XZAM",
     "issued": {
      "year": 2007
     },
     "page": "493-514",
     "page-first": "493",
     "title": "The nature and evolution of the highly ionized near-zones in the absorption spectra of z~=6 quasars",
     "type": "article-journal",
     "volume": "374"
    },
    "6232408/DVUAUQGP": {
     "DOI": "10.1086/149628",
     "author": [
      {
       "family": "Peebles",
       "given": "P. J. E."
      }
     ],
     "container-title": "Astrophys.J.",
     "id": "6232408/DVUAUQGP",
     "issued": {
      "year": 1968
     },
     "page": "1",
     "page-first": "1",
     "title": "Recombination of the Primeval Plasma",
     "type": "article-journal",
     "volume": "153"
    },
    "6232408/HNJVBBSZ": {
     "DOI": "10.1103/PhysRevD.83.043513",
     "abstract": "We present a state-of-the-art primordial recombination code, HyRec, including all the physical effects that have been shown to significantly affect recombination. The computation of helium recombination includes simple analytic treatments of hydrogen continuum opacity in the He I 2 1P - 1 1S line, the He I] 2 3P - 1 1S line, and treats feedback between these lines within the on-the-spot approximation. Hydrogen recombination is computed using the effective multilevel atom method, virtually accounting for an infinite number of excited states. We account for two-photon transitions from 2s and higher levels as well as frequency diffusion in Lyman-alpha with a full radiative transfer calculation. We present a new method to evolve the radiation field simultaneously with the level populations and the free electron fraction. These computations are sped up by taking advantage of the particular sparseness pattern of the equations describing the radiative transfer. The computation time for a full recombination history is ~2 seconds. This makes our code well suited for inclusion in Monte Carlo Markov chains for cosmological parameter estimation from upcoming high-precision cosmic microwave background anisotropy measurements.",
     "author": [
      {
       "family": "Ali-Haimoud",
       "given": "Yacine"
      },
      {
       "family": "Hirata",
       "given": "Christopher M."
      }
     ],
     "container-title": "Phys.Rev.",
     "id": "6232408/HNJVBBSZ",
     "issued": {
      "year": 2011
     },
     "page": "043513",
     "page-first": "043513",
     "shortTitle": "HyRec",
     "title": "HyRec: A fast and highly accurate primordial hydrogen and helium recombination code",
     "title-short": "HyRec",
     "type": "article-journal",
     "volume": "D83"
    },
    "6232408/MJ7LY7BF": {
     "abstract": "Recent observations suggest that hydrogen reionization ends late ($z \\simeq 6$) and proceeds quickly. We present here a new model of the meta-galactic UV/X-ray background (UVB) that is consistent with this. It adopts the most recent determinations of the ionizing emissivity due to stars and AGN, as well as of the HI absorber column density distribution. Another major improvement is a new treatment of the intergalactic medium (IGM) opacity for ionizing photons that is able to consistently capture the transition from a neutral to an ionized IGM. Previous synthesis models of the UVB, when used in simulations, yield reionization and thermal histories that are inconsistent with the assumed ionizing emissivities. With our new treatment, this discrepancy is fully resolved. In our fiducial model, galaxies leaking $\\lesssim 18\\%$ of their Lyman continuum emission drive HI reionization, while AGN drive HeII reionization (completing at $z \\simeq 6.2$ and $2.8$ respectively). Due to the limited time available for cooling between HI and HeII reionization, higher IGM temperatures are predicted for late reionization scenarios. In our fiducial model, the predicted temperatures agree well with observational constraints at $z \\lesssim 4$, while being slightly high compared to (somewhat uncertain) data above that. Models with a larger contribution of AGN are instead disfavoured by the temperature data, as well as by measurements of the HI and HeII Lyman-$\\alpha$ forest opacities. We also present \"equivalent-equilibrium\" ionization/heating rates that mimic our fiducial UVB model for use in simulation codes that assume ionization equilibrium.",
     "author": [
      {
       "family": "Puchwein",
       "given": "Ewald"
      },
      {
       "family": "Haardt",
       "given": "Francesco"
      },
      {
       "family": "Haehnelt",
       "given": "Martin G."
      },
      {
       "family": "Madau",
       "given": "Piero"
      }
     ],
     "id": "6232408/MJ7LY7BF",
     "issued": {
      "year": 2018
     },
     "title": "Consistent modelling of the meta-galactic UV background and the thermal/ionization history of the intergalactic medium",
     "type": "article-journal"
    },
    "6232408/QRY4E9Y7": {
     "DOI": "10.1088/0004-637X/746/2/125",
     "abstract": "We present improved synthesis models of the evolving spectrum of the UV/X-ray diffuse background, updating and extending our previous results. Five new main components are added to our radiative transfer code CUBA: (1) the sawtooth modulation of the background intensity from resonant line absorption in the Lyman series of cosmic hydrogen and helium; (2) the X-ray emission from obscured and unobscured quasars; (3) a piecewise parameterization of the distribution in redshift and column density of intergalactic absorbers that fits recent measurements of the mean free path of 1 ryd photons; (4) an accurate treatment of the photoionization structure of absorbers; and (5) the UV emission from star-forming galaxies at all redshifts. We provide tables of the predicted HI and HeII photoionization and photoheating rates for use, e.g., in cosmological hydrodynamics simulations of the Lya forest, and a new metallicity-dependent calibration to the UV luminosity density-star formation rate density relation. A \"minimal cosmic reionization model\" is also presented in which the galaxy UV emissivity traces recent determinations of the cosmic history of star formation, the luminosity-weighted escape fraction of hydrogen-ionizing radiation increases rapidly with lookback time, the clumping factor of the high-redshift intergalactic medium evolves following the results of recent hydrodynamic simulations, and Population III stars and miniquasars make a negligible contribution to the metagalactic flux. The model provides a good fit to the hydrogen-ionization rates inferred from flux decrement and proximity effect measurements, predicts that cosmological HII (HeIII) regions overlap at redshift 6.7 (2.8), and yields an optical depth to Thomson scattering that is in agreement with WMAP results. (Abridged)",
     "author": [
      {
       "family": "Haardt",
       "given": "Francesco"
      },
      {
       "family": "Madau",
       "given": "Piero"
      }
     ],
     "container-title": "Astrophys.J.",
     "id": "6232408/QRY4E9Y7",
     "issued": {
      "year": 2012
     },
     "page": "125",
     "page-first": "125",
     "shortTitle": "Radiative transfer in a clumpy universe",
     "title": "Radiative transfer in a clumpy universe: IV. New synthesis models of the cosmic UV/X-ray background",
     "title-short": "Radiative transfer in a clumpy universe",
     "type": "article-journal",
     "volume": "746"
    },
    "6232408/S55R7ACJ": {
     "DOI": "10.1103/PhysRevD.93.023521",
     "abstract": "Any injection of electromagnetically interacting particles during the cosmic dark ages will lead to increased ionization, heating, production of Lyman-α photons and distortions to the energy spectrum of the cosmic microwave background, with potentially observable consequences. In this paper we describe numerical results for the low-energy electrons and photons produced by the cooling of particles injected at energies from keV to multi-TeV scales, at arbitrary injection redshifts (but focusing on the post-recombination epoch). We use these data, combined with existing calculations modeling the cooling of these low-energy particles, to estimate the resulting contributions to ionization, excitation and heating of the gas, and production of low-energy photons below the threshold for excitation and ionization. We compute corrected deposition-efficiency curves for annihilating dark matter, and demonstrate how to compute equivalent curves for arbitrary energy-injection histories. These calculations provide the necessary inputs for the limits on dark matter annihilation presented in the accompanying paper I, but also have potential applications in the context of dark matter decay or deexcitation, decay of other metastable species, or similar energy injections from new physics. We make our full results publicly available at http://nebel.rc.fas.harvard.edu/epsilon, to facilitate further independent studies. In particular, we provide the full low-energy electron and photon spectra, to allow matching onto more detailed codes that describe the cooling of such particles at low energies.",
     "author": [
      {
       "family": "Slatyer",
       "given": "Tracy R."
      }
     ],
     "container-title": "Phys.Rev.",
     "id": "6232408/S55R7ACJ",
     "issue": "2",
     "issued": {
      "day": 25,
      "month": 1,
      "year": 2016
     },
     "page": "023521",
     "page-first": "023521",
     "title": "Indirect Dark Matter Signatures in the Cosmic Dark Ages II. Ionization, Heating and Photon Production from Arbitrary Energy Injections",
     "type": "article-journal",
     "volume": "D93"
    },
    "6232408/SPGPKD33": {
     "DOI": "10.1103/PhysRevD.88.063502",
     "abstract": "Anisotropies of the cosmic microwave background (CMB) have proven to be a very powerful tool to constrain dark matter annihilation at the epoch of recombination. However, CMB constraints are currently derived using a number of reasonable but yet untested assumptions that could potentially lead to a misestimation of the true bounds (or any reconstructed signal). In this paper we examine the potential impact of these systematic effects. In particular, we separately study the propagation of the secondary particles produced by annihilation in two energy regimes: first following the shower from the initial particle energy to the keV scale, and then tracking the resulting secondary particles from this scale to the absorption of their energy as heat, ionization, or excitation of the medium. We improve both the high- and low-energy parts of the calculation, in particular finding that our more accurate treatment of losses to sub-10.2 eV photons produced by scattering of high-energy electrons weakens the constraints on particular dark matter annihilation models by up to a factor of 2. On the other hand, we find that the uncertainties we examine for the low-energy propagation do not significantly affect the results for current and upcoming CMB data. We include the evaluation of the precise amount of excitation energy, in the form of Lyman-α photons, produced by the propagation of the shower, and examine the effects of varying the helium fraction and helium ionization fraction. In the recent literature, simple approximations for the fraction of energy absorbed in different channels have often been used to derive CMB constraints: we assess the impact of using accurate vs approximate energy fractions. Finally we check that the choice of recombination code (between RECFAST v1.5 and COSMOREC), to calculate the evolution of the free electron fraction in the presence of dark matter annihilation, introduces negligible differences.",
     "author": [
      {
       "family": "Galli",
       "given": "Silvia"
      },
      {
       "family": "Slatyer",
       "given": "Tracy R."
      },
      {
       "family": "Valdes",
       "given": "Marcos"
      },
      {
       "family": "Iocco",
       "given": "Fabio"
      }
     ],
     "container-title": "Phys.Rev.",
     "id": "6232408/SPGPKD33",
     "issued": {
      "year": 2013
     },
     "page": "063502",
     "page-first": "063502",
     "title": "Systematic Uncertainties In Constraining Dark Matter Annihilation From The Cosmic Microwave Background",
     "type": "article-journal",
     "volume": "D88"
    },
    "6232408/VKMX8MFJ": {
     "DOI": "10.1103/PhysRevD.95.023010",
     "abstract": "Precise measurements of the temperature and polarization anisotropies of the cosmic microwave background can be used to constrain the annihilation and decay of dark matter. In this work, we demonstrate via principal component analysis that the imprint of dark matter decay on the cosmic microwave background can be approximately parametrized by a single number for any given dark matter model. We develop a simple prescription for computing this model-dependent detectability factor, and demonstrate how this approach can be used to set model-independent bounds on a large class of decaying dark matter scenarios. We repeat our analysis for decay lifetimes shorter than the age of the Universe, allowing us to set constraints on metastable species other than the dark matter decaying at early times, and decays that only liberate a tiny fraction of the dark matter mass energy. We set precise bounds and validate our principal component analysis using a Markov chain Monte Carlo approach and Planck 2015 data.",
     "author": [
      {
       "family": "Slatyer",
       "given": "Tracy R."
      },
      {
       "family": "Wu",
       "given": "Chih-Liang"
      }
     ],
     "container-title": "Phys.Rev.",
     "id": "6232408/VKMX8MFJ",
     "issue": "2",
     "issued": {
      "day": 30,
      "month": 1,
      "year": 2017
     },
     "page": "023010",
     "page-first": "023010",
     "title": "General Constraints on Dark Matter Decay from the Cosmic Microwave Background",
     "type": "article-journal",
     "volume": "D95"
    },
    "6232408/VV5Y8E88": {
     "author": [
      {
       "family": "Zeldovich",
       "given": "Ya B."
      },
      {
       "family": "Kurt",
       "given": "V. G."
      },
      {
       "family": "Sunyaev",
       "given": "R. A."
      }
     ],
     "container-title": "Sov.Phys.JETP",
     "id": "6232408/VV5Y8E88",
     "issued": {
      "year": 1969
     },
     "page": "146",
     "page-first": "146",
     "title": "Recombination of hydrogen in the hot model of the universe",
     "type": "article-journal",
     "volume": "28"
    }
   }
  },
  "kernelspec": {
   "display_name": "Python 3",
   "language": "python",
   "name": "python3"
  },
  "language_info": {
   "codemirror_mode": {
    "name": "ipython",
    "version": 3
   },
   "file_extension": ".py",
   "mimetype": "text/x-python",
   "name": "python",
   "nbconvert_exporter": "python",
   "pygments_lexer": "ipython3",
   "version": "3.6.7"
  },
  "toc": {
   "base_numbering": 1,
   "nav_menu": {},
   "number_sections": true,
   "sideBar": true,
   "skip_h1_title": false,
   "title_cell": "Table of Contents",
   "title_sidebar": "Contents",
   "toc_cell": false,
   "toc_position": {},
   "toc_section_display": true,
   "toc_window_display": false
  }
 },
 "nbformat": 4,
 "nbformat_minor": 2
}
