{
 "cells": [
  {
   "cell_type": "markdown",
   "metadata": {},
   "source": [
    "# Electron Cooling - ICS"
   ]
  },
  {
   "cell_type": "markdown",
   "metadata": {},
   "source": [
    "This notebook will serve as a pedagogical example for how electron cooling is performed in the code, as well as the use of the `TransFuncAtRedshift` classes to accomplish this task. "
   ]
  },
  {
   "cell_type": "code",
   "execution_count": 1,
   "metadata": {},
   "outputs": [],
   "source": [
    "%load_ext autoreload\n",
    "import sys\n",
    "sys.path.append(\"..\")"
   ]
  },
  {
   "cell_type": "markdown",
   "metadata": {},
   "source": [
    "## Notebook Initialization"
   ]
  },
  {
   "cell_type": "code",
   "execution_count": 2,
   "metadata": {},
   "outputs": [],
   "source": [
    "%autoreload\n",
    "%matplotlib inline\n",
    "\n",
    "import matplotlib\n",
    "import matplotlib.pyplot as plt\n",
    "\n",
    "matplotlib.rcParams['figure.figsize'] = [10,10]\n",
    "\n",
    "import numpy as np\n",
    "import pickle\n",
    "import copy\n",
    "\n",
    "from astropy.io import fits\n",
    "\n",
    "import darkhistory.physics as phys\n",
    "from darkhistory.spec.spectrum import Spectrum\n",
    "import darkhistory.spec.transferfunction as tf\n",
    "import darkhistory.utilities as utils\n",
    "import darkhistory.spec.spectools as spectools\n",
    "\n",
    "from darkhistory.electrons.ics.ics_spectrum import ics_spec\n",
    "from darkhistory.electrons.ics.ics_engloss_spectrum import engloss_spec"
   ]
  },
  {
   "cell_type": "markdown",
   "metadata": {},
   "source": [
    "## Import ICS Tables"
   ]
  },
  {
   "cell_type": "markdown",
   "metadata": {},
   "source": [
    "The ICS transfer function has already been pre-computed, and saved in the `Photon Deposition` Dropbox folder. Change the directory to point to that Dropbox folder on your local computer. "
   ]
  },
  {
   "cell_type": "code",
   "execution_count": 3,
   "metadata": {},
   "outputs": [],
   "source": [
    "raw_nonrel_ICS_tf = pickle.load(open(\"/Users/hongwan/Dropbox (MIT)/Photon Deposition/ICS_nonrel.raw\",\"rb\"))\n",
    "raw_rel_ICS_tf = pickle.load(open(\"/Users/hongwan/Dropbox (MIT)/Photon Deposition/ICS_rel.raw\",\"rb\"))\n",
    "raw_engloss_tf = pickle.load(open(\"/Users/hongwan/Dropbox (MIT)/Photon Deposition/ICS_englossspec.raw\",\"rb\"))"
   ]
  },
  {
   "cell_type": "markdown",
   "metadata": {},
   "source": [
    "## Transfer Functions"
   ]
  },
  {
   "cell_type": "markdown",
   "metadata": {},
   "source": [
    "Given an initial electron, if ICS is fast, within the time-step that we are considering, the electron would lose all of its kinetic energy to secondary photons. We want to calculate, among other things, the transfer function $T_{\\text{ICS},\\gamma}(E_e, E_\\gamma)$ that takes us from an input electron spectrum to the fully resolved secondary photon spectrum (after scattering all secondary electrons as well), defined by\n",
    "\n",
    "$$ \\int T_{\\text{ICS},\\gamma}(E_e, E_\\gamma) \\frac{dN_e}{dE_e} dE_e = \\frac{dN_\\gamma}{dE_\\gamma} $$\n",
    "\n",
    "or in its discretized version (discretized transfer functions will always be denoted $\\tau$, as opposed to the mathematical continuous transfer function, $T$), \n",
    "\n",
    "$$ \\frac{dN_\\gamma}{dE_\\gamma}(E_\\gamma^j) = \\sum_i \\tau_{\\text{ICS},\\gamma} (E_e^i, E_\\gamma^j) \\times \\frac{dN_e}{dE_e}(E_e^i) \\times E_e^i \\, d \\, \\log E_e^i $$\n",
    "\n",
    "which will be realized as a matrix multiplication in the code. Notice that for a single electron injection at a particular energy $E_e^i$, we get \n",
    "\n",
    "$$ \\tau_{\\text{ICS},\\gamma}(E_e^i) = \\frac{dN_\\gamma}{dE_\\gamma}(E_e^i, E_\\gamma^j)$$\n",
    "\n",
    "Thus the resolved secondary photon spectrum for a single electron injection at $E_e^i$ gives exactly the transfer function. "
   ]
  },
  {
   "cell_type": "markdown",
   "metadata": {},
   "source": [
    "## Abscissa"
   ]
  },
  {
   "cell_type": "markdown",
   "metadata": {},
   "source": [
    "We will generate abscissae for the primary electron energy and for the secondary photon energy, as well as set the temperature of the CMB to be the temperature at some arbitrary redshift."
   ]
  },
  {
   "cell_type": "code",
   "execution_count": 4,
   "metadata": {
    "collapsed": true
   },
   "outputs": [],
   "source": [
    "mwimp = 1e12\n",
    "neng = 500\n",
    "dlneng = np.log(mwimp)/neng\n",
    "elecbins = np.exp(np.arange(neng+1)*dlneng)\n",
    "englow = elecbins[0:neng]\n",
    "enghigh = elecbins[1:]\n",
    "eleceng = np.sqrt(englow*enghigh)\n",
    "\n",
    "nphoteng = 500\n",
    "dlnphoteng = np.log(mwimp/1e-2)/nphoteng\n",
    "photenglow = 1e-2*np.exp(np.arange(nphoteng)*dlnphoteng)\n",
    "photenghigh = 1e-2*np.exp((np.arange(nphoteng)+1)*dlnphoteng)\n",
    "photeng = np.sqrt(photenglow*photenghigh)\n",
    "\n",
    "T = phys.TCMB(1000)"
   ]
  },
  {
   "cell_type": "markdown",
   "metadata": {},
   "source": [
    "## ICS Transfer Functions"
   ]
  },
  {
   "cell_type": "markdown",
   "metadata": {},
   "source": [
    "After a single inverse Compton scattering process, a single electron upscatters a secondary photon from the CMB with final energy $E_\\gamma$ and a change in its energy $\\Delta$. We have computed both $\\frac{dN_\\gamma}{dE_\\gamma \\, dt}$ and $\\frac{dN_\\gamma}{d\\Delta \\, dt}$ due to a single electron, and saved them in the `Photon Deposition` Dropbox folder. \n",
    "\n",
    "Change the path to point to the local directory corresponding to this folder below. "
   ]
  },
  {
   "cell_type": "code",
   "execution_count": 5,
   "metadata": {
    "collapsed": true
   },
   "outputs": [],
   "source": [
    "raw_nonrel_ICS_tf = pickle.load(open(\"/Users/hongwan/Dropbox (MIT)/Photon Deposition/ICS_nonrel.raw\",\"rb\"))\n",
    "raw_rel_ICS_tf = pickle.load(open(\"/Users/hongwan/Dropbox (MIT)/Photon Deposition/ICS_rel.raw\",\"rb\"))\n",
    "raw_engloss_tf = pickle.load(open(\"/Users/hongwan/Dropbox (MIT)/Photon Deposition/ICS_englossspec.raw\",\"rb\"))"
   ]
  },
  {
   "cell_type": "markdown",
   "metadata": {},
   "source": [
    "These files can be used to generate a `TransFuncAtRedshift` object which stores the spectra referred to above. Because the functions are computed in a limit where the primary electron is nonrelativistic, and another in a limit where it is relativistic, these transfer functions need to be glued together, but we have written special functions to generate a `TransFuncAtRedshift` that contains the appropriate values at all primary electron energies. "
   ]
  },
  {
   "cell_type": "code",
   "execution_count": 6,
   "metadata": {
    "collapsed": true
   },
   "outputs": [],
   "source": [
    "ICS_tf = ics_spec(eleceng, photeng, T, \n",
    "                  nonrel_tf = raw_nonrel_ICS_tf, rel_tf = raw_rel_ICS_tf\n",
    "                 )\n",
    "\n",
    "engloss_tf = engloss_spec(eleceng, photeng, T, \n",
    "                          nonrel_tf = raw_engloss_tf, \n",
    "                          rel_tf = raw_rel_ICS_tf\n",
    "                         )"
   ]
  },
  {
   "cell_type": "markdown",
   "metadata": {},
   "source": [
    "Within `ICS_tf`, we have $\\frac{dN_\\gamma}{dE_\\gamma \\, dt} (E_{e,i}, E_\\gamma)$ at the abscissae `eleceng` and `photeng`, and likewise `engloss_tf` contains $\\frac{dN_\\gamma}{d \\Delta \\, dt} (E_{e,i}, \\Delta)$, where $E_{e,i}$ is the energy injected of the primary electron."
   ]
  },
  {
   "cell_type": "markdown",
   "metadata": {},
   "source": [
    "## Energy Loss Spectrum to Secondary Electron Spectrum"
   ]
  },
  {
   "cell_type": "markdown",
   "metadata": {},
   "source": [
    "Now, we want to compute the electron spectrum $\\frac{dN_{e,s}}{dE_{e,s} \\, dt}$, which is the rate of production of secondary electrons due to the primary cooling by ICS (the subscript *s* is a reminder that we are dealing with secondary electrons). For every photon that gains energy $\\Delta$, there is now a secondary electron that has energy $E_{e,i} - \\Delta$. Therefore\n",
    "\n",
    "$$ \\frac{dN_\\gamma}{d\\Delta \\, dt} (E_{e,i}, \\Delta) d\\Delta = \\frac{dN_{e,s}}{d E_{e, s} \\, dt} (E_{e,i}, E_{e,s} = E_{e,i} - \\Delta) dE_{e,s}$$\n",
    "\n",
    "To do this, we use `Spectrum.engloss_rebin`, which exactly performs this re-definition while conserving number and energy. For each `Spectrum` in `engloss_tf`, which corresponds to some $\\frac{dN_\\gamma}{d\\Delta \\, dt}$, simply call the function with two arguments: the injection energy of the primary corresponding to the `Spectrum`, and the final abscissa to rebin into (in this case, we choose `eleceng`). "
   ]
  },
  {
   "cell_type": "code",
   "execution_count": 7,
   "metadata": {
    "collapsed": true
   },
   "outputs": [],
   "source": [
    "# Make a deep copy, so that it is independent of the original engloss_tf. \n",
    "sec_elec_tf = copy.deepcopy(engloss_tf)\n",
    "\n",
    "# Elements in sec_elec_tf are Spectrum objects of the secondaries,\n",
    "# in this case dN/(d Delta dt), ordered by the injection energy of the\n",
    "# primary, a list of which can be obtained by \n",
    "# TransFuncAtRedshift.get_in_eng(). \n",
    "for in_eng, spec in zip(sec_elec_tf.get_in_eng(), sec_elec_tf):\n",
    "    spec.engloss_rebin(in_eng, sec_elec_tf.get_in_eng())"
   ]
  },
  {
   "cell_type": "markdown",
   "metadata": {},
   "source": [
    "So now `sec_elec_tf` is the discretized version of $\\frac{dN_{e,s}}{dE_{e,s} dt}$. "
   ]
  },
  {
   "cell_type": "markdown",
   "metadata": {},
   "source": [
    "## Primary Scatter"
   ]
  },
  {
   "cell_type": "markdown",
   "metadata": {},
   "source": [
    "We are now ready to compute $\\tau_{\\text{ICS}}$. First, our code is divided into a high-energy and a low-energy regime. Low-energy photons only undergo photoionization or redshifting, while low-energy electrons cool rapidly via atomic processes, and are processed separately from the high-energy regime. Our goal is to cool the high-energy electrons (which cool very rapidly) into photons and low-energy electrons, and determine the total transfer function for *all* processes, not just ICS.\n",
    "\n",
    "Here, we define the boundary between high- and low-energy regimes. Conventionally, we define this to be 3 keV, although to compare with the original code, we set it to 250 eV. "
   ]
  },
  {
   "cell_type": "code",
   "execution_count": 11,
   "metadata": {},
   "outputs": [],
   "source": [
    "# Low energy regime boundary.\n",
    "loweng = 250\n",
    "# List of abscissa values in the high-energy regime. \n",
    "eleceng_high = eleceng[eleceng > loweng]\n",
    "# Indices of abscissa in the high-energy regime. \n",
    "eleceng_high_ind = np.arange(eleceng.size)[eleceng > loweng]\n",
    "# List of abscissa values in the low-energy regime. \n",
    "eleceng_low  = eleceng[eleceng <= loweng]\n",
    "# Indices of abscissa in the low-energy regime. \n",
    "eleceng_low_ind  = np.arange(eleceng.size)[eleceng <= loweng]"
   ]
  },
  {
   "cell_type": "markdown",
   "metadata": {},
   "source": [
    "For ICS, there are four quantities that we are interested in computing. The first is $T_{\\text{ICS},\\gamma}$, which is the transfer function for scattering a high-energy electron into photons at all energies. We also want $T_{\\text{ICS},e}$, which is the transfer function into low-energy electrons. On top of that, we would like to compute $U_{\\text{CMB}}$, which is the total initial energy of the CMB photons that are upscattered. We actually know this analytically for the Thomson limit (always true for $\\gamma < 20$):\n",
    "\n",
    "$$ \\frac{dU_{\\text{CMB}}}{dt} = \\sigma_T c \\rho_{\\text{CMB}} $$\n",
    "\n",
    "where $\\sigma_T$ is the Thomson scattering cross section, and $\\rho_{\\text{CMB}} = 4 \\sigma_{SB} T_{\\text{CMB}}^4/c $ is the energy density of the CMB, with $\\sigma_{SB}$ is the Stefan-Boltzmann constant. \n",
    "\n",
    "All of the quantities are related by energy conservation (remember that for a single primary electron injection, the transfer function is identically the secondary spectrum $dN/dE$):\n",
    "\n",
    "$$ E_{e,i} + U_{\\text{CMB}} = \\int T_{\\text{ICS},e} E_e \\, dE_e + \\int T_{\\text{ICS},\\gamma} E_\\gamma \\, dE_\\gamma $$\n",
    "\n",
    "However, due to numerical errors, numerically we will find that\n",
    "\n",
    "$$ E_{e,i} + U_{\\text{CMB}}(E_{e,i}) = \\int T_{\\text{ICS},e}(E_{e,i}) E_e \\, dE_e + \\int T_{\\text{ICS},\\gamma}(E_{e,i}) E_\\gamma \\, dE_\\gamma + D(E_{e,i})$$\n",
    "\n",
    "for some value $D$ as a function of $E_{e,i}$, which we will call \"deposited\" energy.  "
   ]
  },
  {
   "cell_type": "code",
   "execution_count": 12,
   "metadata": {},
   "outputs": [],
   "source": [
    "# Empty containers for all quantities to compute.\n",
    "# tau_{ICS,gamma}\n",
    "sec_phot_tf = tf.TransFuncAtRedshift([], dlnz=-1, rs=ICS_tf.rs)\n",
    "# tau_{ICS,e}\n",
    "sec_lowengelec_tf = tf.TransFuncAtRedshift([], dlnz=-1, rs=ICS_tf.rs)\n",
    "# U_{CMB}\n",
    "cont_loss_vec = np.zeros_like(eleceng)\n",
    "# D\n",
    "deposited_vec = np.zeros_like(eleceng)"
   ]
  },
  {
   "cell_type": "markdown",
   "metadata": {},
   "source": [
    "Let's start the computation. For low energy primary electrons, we simply want to read them out as a low energy secondary electron, with no scattering into photons. The computation is done by looping over the low energy `eleceng` bins. First, we construct a delta function spectrum, `delta_spec`, with 1's at the index of interest and 0 elsewhere. Then we obtain immediately the low energy electron spectrum (identical to `delta_spec`) and for the photon spectrum (zeros everywhere). These are appended to `sec_phot_tf` and `sec_lowengelec_tf`. "
   ]
  },
  {
   "cell_type": "code",
   "execution_count": null,
   "metadata": {
    "collapsed": true
   },
   "outputs": [],
   "source": [
    "delta_spec = np.zeros_like(eleceng)\n",
    "for i,eng in zip(eleceng_low_ind, eleceng_low):\n",
    "    # Construct the delta function spectrum.\n",
    "    delta_spec *= 0\n",
    "    delta_spec[i] = 1\n",
    "    \n",
    "    # Get the secondary electrons and photons. Trivial here. \n",
    "    sec_phot_N = np.zeros_like(eleceng)\n",
    "    sec_elec_N = delta_spec\n",
    "    \n",
    "    # Append the secondary photon spectrum to sec_phot_tf (all zeros),\n",
    "    # and low energy electron spectrum to sec_lowengelec_tf (1 at the current index, 0 elsewhere)\n",
    "    \n",
    "    # Rebin into dN/dE instead of N, and define redshift and injection energy.\n",
    "    sec_phot_spec = spectools.rebin_N_arr(sec_phot_N, photeng)\n",
    "    sec_elec_spec = spectools.rebin_N_arr(sec_elec_N, eleceng)\n",
    "    sec_phot_spec.in_eng = eng\n",
    "    sec_elec_spec.in_eng = eng\n",
    "    sec_phot_spec.rs = ICS_tf.rs\n",
    "    sec_elec_spec.rs = ICS_tf.rs\n",
    "    \n",
    "    sec_phot_tf.append(sec_phot_spec)\n",
    "    sec_lowengelec_tf.append(sec_elec_spec)   \n",
    "    "
   ]
  },
  {
   "cell_type": "markdown",
   "metadata": {},
   "source": [
    "Let's look at the first high energy bin. For this primary electron, we will scatter it using `ICS_tf` and `sec_elec_tf`, to get the secondary photons and corresponding electrons after the scatter. We also compute the continuum energy loss. "
   ]
  },
  {
   "cell_type": "code",
   "execution_count": 16,
   "metadata": {
    "collapsed": true
   },
   "outputs": [],
   "source": [
    "# Initialize the single electron again.\n",
    "delta_spec = np.zeros_like(eleceng)\n",
    "i = eleceng_high_ind[0]\n",
    "eng = eleceng[i]\n",
    "delta_spec[i] = 1\n",
    "\n",
    "# Get the secondary photons, dN_gamma/(dE_gamma dt). \n",
    "# mode and out_mode specifies the input and output of the function. \n",
    "# 'N' means an array of numbers, while 'dNdE' will input or output a Spectrum.\n",
    "# If 'N' is chosen, we need to specify the abscissa 'eng_arr' and list\n",
    "# of numbers, 'N_arr'. new_eng determines the output abscissa.\n",
    "sec_phot_N = spectools.scatter(\n",
    "    ICS_tf, mode='N', out_mode='N', \n",
    "    eng_arr = eleceng, N_arr = delta_spec, new_eng = photeng\n",
    ")\n",
    "\n",
    "# Get the secondary electrons, dN_e/(dE_e dt).\n",
    "sec_elec_N = spectools.scatter(\n",
    "    sec_elec_tf, mode='N', out_mode='N',\n",
    "    eng_arr = eleceng, N_arr = delta_spec, new_eng = eleceng\n",
    ")\n",
    "\n",
    "# Continuum energy loss rate, dU_CMB/dt. \n",
    "continuum_engloss = phys.thomson_xsec*phys.c*phys.CMB_eng_density(T)"
   ]
  },
  {
   "cell_type": "markdown",
   "metadata": {},
   "source": [
    "Next, we compute the deposited energy. To do that, we need to figure out the total energy of primary electrons scattered per unit time, as well as the total energy in `sec_phot_N` and `sec_elec_N`. "
   ]
  },
  {
   "cell_type": "code",
   "execution_count": 17,
   "metadata": {},
   "outputs": [],
   "source": [
    "# The total number of primaries scattered is equal to the total number of secondaries scattered. \n",
    "pri_elec_totN = np.sum(sec_elec_N)\n",
    "# The total energy of primary electrons which is scattered per unit time. \n",
    "pri_elec_toteng = pri_elec_totN*eng\n",
    "# The total energy of secondary electrons produced per unit time. \n",
    "sec_elec_toteng = np.dot(sec_elec_N, eleceng)\n",
    "# The total energy of secondary photons produced per unit time. \n",
    "sec_phot_totN = np.dot(sec_phot_N, photeng)\n",
    "# Deposited energy per unit time, dD/dt. \n",
    "deposited_eng = pri_elec_toteng - sec_elec_toteng - (sec_phot_totN - continuum_engloss)\n"
   ]
  },
  {
   "cell_type": "markdown",
   "metadata": {},
   "source": [
    "Right now, all of the quantities are rates, but we really want to compute the total number due to the scattering of a single electron. To do this, we normalize the transfer functions, the continuum losses and the deposited energy by `pri_elec_totN`. "
   ]
  },
  {
   "cell_type": "code",
   "execution_count": 18,
   "metadata": {},
   "outputs": [],
   "source": [
    "sec_phot_N /= pri_elec_totN\n",
    "sec_elec_N /= pri_elec_totN\n",
    "continuum_engloss /= pri_elec_totN\n",
    "deposited_eng /= pri_elec_totN"
   ]
  },
  {
   "cell_type": "markdown",
   "metadata": {},
   "source": [
    "Now we want to get rid of the self-scattering, i.e. where the primary electron scatters into the same bin in `sec_elec_N`. All we do is set this bin to zero, then scale up all of the above quantities appropriately. For example, if 99% of the electrons scattered into the same bin, then we set this bin to zero, and multiply all quantities by 100 to resolve everything in the self-scattering bin. "
   ]
  },
  {
   "cell_type": "code",
   "execution_count": null,
   "metadata": {
    "collapsed": true
   },
   "outputs": [],
   "source": []
  }
 ],
 "metadata": {
  "anaconda-cloud": {},
  "kernelspec": {
   "display_name": "Python 3",
   "language": "python",
   "name": "python3"
  },
  "language_info": {
   "codemirror_mode": {
    "name": "ipython",
    "version": 3
   },
   "file_extension": ".py",
   "mimetype": "text/x-python",
   "name": "python",
   "nbconvert_exporter": "python",
   "pygments_lexer": "ipython3",
   "version": "3.6.3"
  }
 },
 "nbformat": 4,
 "nbformat_minor": 1
}
