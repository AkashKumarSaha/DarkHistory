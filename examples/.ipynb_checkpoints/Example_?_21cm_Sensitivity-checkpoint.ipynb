{
 "cells": [
  {
   "cell_type": "markdown",
   "metadata": {},
   "source": [
    "# Example ? 21cm Sensitivity"
   ]
  },
  {
   "cell_type": "markdown",
   "metadata": {},
   "source": [
    "## Notebook Initialization"
   ]
  },
  {
   "cell_type": "code",
   "execution_count": 1,
   "metadata": {},
   "outputs": [],
   "source": [
    "%load_ext autoreload\n",
    "import sys\n",
    "sys.path.append(\"..\")"
   ]
  },
  {
   "cell_type": "code",
   "execution_count": 2,
   "metadata": {},
   "outputs": [],
   "source": [
    "%matplotlib inline"
   ]
  },
  {
   "cell_type": "code",
   "execution_count": 87,
   "metadata": {},
   "outputs": [],
   "source": [
    "%autoreload\n",
    "import darkhistory.physics as phys\n",
    "\n",
    "import matplotlib\n",
    "matplotlib.rc_file('matplotlibrc')\n",
    "import matplotlib.pyplot as plt\n",
    "\n",
    "from astropy.io import fits\n",
    "\n",
    "import numpy as np\n",
    "import copy\n",
    "import pickle\n",
    "import darkhistory.spec.spectools as spectools\n",
    "from tqdm import tqdm_notebook as tqdm\n",
    "from scipy.interpolate import interp1d\n",
    "\n",
    "import main"
   ]
  },
  {
   "cell_type": "markdown",
   "metadata": {},
   "source": [
    "## 21-cm Brightness Temperature $T_{21}$ and Matter Temperature $T_m$"
   ]
  },
  {
   "cell_type": "markdown",
   "metadata": {},
   "source": [
    "21-cm cosmology is one of the most important experimental methods of understanding the thermal and ionization histories of the universe. The global 21-cm brightness temperature is related to the hydrogen spin temperature through the following relation:\n",
    "\n",
    "$$ T_\\text{21} (z) \\approx x_\\text{HI}(z) \\left( \\frac{0.15}{\\Omega_m} \\right)^{1/2} \\left( \\frac{\\Omega_b h}{0.02} \\right) \\left( \\frac{1+z}{10} \\right)^{1/2} \\left[ 1 - \\frac{T_R(z)}{T_S(z)} \\right] 23 \\text{ mK}, $$\n",
    "\n",
    "where $x_\\text{HI}$ is the neutral fraction of hydrogen, $\\Omega_m$ and $\\omega_b$ are the matter and baryon energy density as a fraction of the critical density, $h$ is the Hubble parameter today in units of 100 km s$^{-1}$ Mpc$^{-1}$, $T_R$ is the background 21-cm radiation temperature and $T_S$ is the spin temperature. Under standard assumptions, $T_m < T_S < T_\\text{CMB}$, where $T_m$ is the matter temperature; this implies that measuring the global 21-cm brightness temperature at a particular redshift sets an upper bound on the matter temperature at that point in time. "
   ]
  },
  {
   "cell_type": "markdown",
   "metadata": {},
   "source": [
    "The expected $T_{21}$ assuming no exotic sources of injection is approximately -200 mK at $z \\sim 17$. In this notebook, we will use DarkHistory to estimate the limits that can be set on $T_m$, assuming we measure a $T_{21}$ value of -50 mK. We will also compare the difference with and without backreaction taken into account, to give users a sense of the possible differences in constraints.\n",
    "\n",
    "Before we proceed, we should note that recent measurements performed by the EDGES collaboration <cite data-cite=\"6232408/FH99AISX\"></cite> seem to suggest a $T_{21}(z = 17) \\lesssim $ -300 mK at the 99% confidence level, which would seem to suggest that $T_m$ is actually *colder* than expected, assuming that $T_R = T_\\text{CMB}$. The introduction of new baryon-DM interactions may be able to produce such an effect, and DarkHistory can be easily modified to accommodate this if desired."
   ]
  },
  {
   "cell_type": "markdown",
   "metadata": {},
   "source": [
    "## 21-cm Constraints"
   ]
  },
  {
   "cell_type": "markdown",
   "metadata": {},
   "source": [
    "First, let's compute the limit set on $T_m$ if we take $T_{21}$ = -50 mK at $z = 17$, assuming that $T_R = T_\\text{CMB}$. "
   ]
  },
  {
   "cell_type": "code",
   "execution_count": 4,
   "metadata": {},
   "outputs": [
    {
     "name": "stdout",
     "output_type": "stream",
     "text": [
      "The upper bound on Tm is: 20.3 K\n"
     ]
    }
   ],
   "source": [
    "T_21 = -50\n",
    "rs = 18 # We always define redshifts as 1 + z by convention in the code. \n",
    "one_minus_TR_over_TS = (T_21/23.) / (0.15 / phys.omega_m)**0.5 / (phys.omega_baryon*phys.h/0.02) / (rs/10)**0.5\n",
    "Tm_max = 1/(1 - one_minus_TR_over_TS) * phys.TCMB(rs) / phys.kB # in K\n",
    "print('The upper bound on Tm is: {:03.1f} K'.format(Tm_max))"
   ]
  },
  {
   "cell_type": "markdown",
   "metadata": {},
   "source": [
    "### Decaying Dark Matter"
   ]
  },
  {
   "cell_type": "markdown",
   "metadata": {},
   "source": [
    "Let's first get the constraints for decays. We'll consider two channels: $\\chi \\to e^+e^-$ and $\\chi \\to \\gamma \\gamma$, with no electroweak corrections. To compute the constraints with no backreaction, we can use the tabulated $f_c(z)$ tables, and use these as inputs for [*tla.get_history*](https://darkhistory.readthedocs.io/en/master/_autosummary/darkhistory/history/tla/darkhistory.history.tla.get_history.html) and obtain the temperature history. \n",
    "\n",
    "With backreaction, however, the spectra of particles that get produced at each redshift step must be computed, and the temperature history integrated as a function of these spectra. This is done by the function [*main.evolve*](https://darkhistory.readthedocs.io/en/master/_autosummary/main/main.evolve.html). \n",
    "\n",
    "For decays, we can specify the primary that we are interested in, the dark matter process, the mass of the dark matter, and the decay lifetime. We also use some coarsening to speed up the calculation. \n",
    "\n",
    "We'll define a function called ``get_T_decay`` to run either of these functions, and return the temperature at $z = 17$. "
   ]
  },
  {
   "cell_type": "code",
   "execution_count": 5,
   "metadata": {},
   "outputs": [],
   "source": [
    "def get_T_decay(mDM, tau, br, pri):\n",
    "    \"\"\"Gets the temperature at z = 17. \n",
    "    \n",
    "    Parameters\n",
    "    ----------\n",
    "    mDM : float\n",
    "        The mass of the dark matter in eV. \n",
    "    tau : float\n",
    "        The decay lifetime in s. \n",
    "    br : bool\n",
    "        Whether to use backreaction or not. \n",
    "    pri : {'elec', 'phot'}\n",
    "        The primary particles that DM decays to. \n",
    "        \n",
    "    Returns\n",
    "    --------\n",
    "    float\n",
    "        The temperature in K at z = 17. \n",
    "    \n",
    "    \"\"\"\n",
    "    \n",
    "    if pri == 'elec':\n",
    "        pri_str = 'elec_delta'\n",
    "        cf = 12\n",
    "    if pri == 'phot':\n",
    "        pri_str = 'phot_delta'\n",
    "        cf = 4\n",
    "    \n",
    "    if br:\n",
    "    \n",
    "        result = main.evolve(\n",
    "                primary=pri_str,\n",
    "                DM_process='decay', mDM=mDM, lifetime=tau,\n",
    "                start_rs = 3000, end_rs=17,\n",
    "                coarsen_factor=cf, backreaction=True\n",
    "        )\n",
    "        \n",
    "    else:\n",
    "        \n",
    "        result = main.evolve(\n",
    "                primary=pri_str,\n",
    "                DM_process='decay', mDM=mDM, lifetime=tau,\n",
    "                start_rs = 3000, end_rs=17,\n",
    "                coarsen_factor=cf, backreaction=False\n",
    "        )\n",
    "    return result['Tm'][-1]/phys.kB"
   ]
  },
  {
   "cell_type": "markdown",
   "metadata": {},
   "source": [
    "We are now all set up to do the scan. Let's scan over photons, for $\\log_{10} (m_\\chi/\\text{eV}) \\in [4, 12.5] $. We'll do this in a clever way to save the user time here. We'll scan over lifetimes $\\log_{10}(\\tau/\\text{s}) \\in [23, 28.5]$, and start with a guess of $10^{25}$ s. We will then update this guess until we obtain a range of histories that cover the target temperature `Tm_max` at $z = 17$. This will be enough to perform an interpolation to obtain the value of $\\tau$ that gives `Tm_max` at $z = 17$. \n",
    "\n",
    "Let's set up a 2D array, indexed by mass and lifetime, one without backreaction, and one with. "
   ]
  },
  {
   "cell_type": "code",
   "execution_count": 7,
   "metadata": {},
   "outputs": [],
   "source": [
    "log10_m_chi_arr = np.arange(4, 12.75, 0.25)\n",
    "log10_tau_arr   = np.arange(23, 27.25, 0.25)\n",
    "\n",
    "Tm_dec_no_br = np.zeros((log10_m_chi_arr.size, log10_tau_arr.size))\n",
    "Tm_dec_br = np.zeros_like(Tm_dec_no_br)"
   ]
  },
  {
   "cell_type": "markdown",
   "metadata": {},
   "source": [
    "Let's start the scan! To do the scan quickly, we'll first run the case with no backreaction first, and then use the results as an initial guess for [*main.evolve*](https://darkhistory.readthedocs.io/en/master/_autosummary/main/main.evolve.html)."
   ]
  },
  {
   "cell_type": "code",
   "execution_count": 426,
   "metadata": {},
   "outputs": [
    {
     "data": {
      "application/vnd.jupyter.widget-view+json": {
       "model_id": "5a766f3d1ac84833818b419fd304f74c",
       "version_major": 2,
       "version_minor": 0
      },
      "text/plain": [
       "HBox(children=(IntProgress(value=0, max=23), HTML(value='')))"
      ]
     },
     "metadata": {},
     "output_type": "display_data"
    },
    {
     "name": "stdout",
     "output_type": "stream",
     "text": [
      "log10(mDM):  7.0\n",
      "****************************\n",
      "lifetime with no backreaction:  1.7782794100389228e+25\n"
     ]
    },
    {
     "data": {
      "application/vnd.jupyter.widget-view+json": {
       "model_id": "71fb496dccdb4b1aa697be9d7d66aebb",
       "version_major": 2,
       "version_minor": 0
      },
      "text/plain": [
       "HBox(children=(IntProgress(value=0, max=1294), HTML(value='')))"
      ]
     },
     "metadata": {},
     "output_type": "display_data"
    },
    {
     "ename": "KeyboardInterrupt",
     "evalue": "",
     "output_type": "error",
     "traceback": [
      "\u001b[0;31m---------------------------------------------------------------------------\u001b[0m",
      "\u001b[0;31mKeyboardInterrupt\u001b[0m                         Traceback (most recent call last)",
      "\u001b[0;32m<ipython-input-426-4d51df652c05>\u001b[0m in \u001b[0;36m<module>\u001b[0;34m\u001b[0m\n\u001b[1;32m     15\u001b[0m         \u001b[0mprint\u001b[0m\u001b[0;34m(\u001b[0m\u001b[0;34m'lifetime with no backreaction: '\u001b[0m\u001b[0;34m,\u001b[0m \u001b[0mtau_no_br\u001b[0m\u001b[0;34m)\u001b[0m\u001b[0;34m\u001b[0m\u001b[0;34m\u001b[0m\u001b[0m\n\u001b[1;32m     16\u001b[0m \u001b[0;34m\u001b[0m\u001b[0m\n\u001b[0;32m---> 17\u001b[0;31m         \u001b[0mTm_dec_no_br\u001b[0m\u001b[0;34m[\u001b[0m\u001b[0mi\u001b[0m\u001b[0;34m,\u001b[0m\u001b[0mj\u001b[0m\u001b[0;34m]\u001b[0m \u001b[0;34m=\u001b[0m \u001b[0mget_T_decay\u001b[0m\u001b[0;34m(\u001b[0m\u001b[0mmDM\u001b[0m\u001b[0;34m,\u001b[0m \u001b[0mtau_no_br\u001b[0m\u001b[0;34m,\u001b[0m \u001b[0mbr\u001b[0m\u001b[0;34m=\u001b[0m\u001b[0;32mFalse\u001b[0m\u001b[0;34m,\u001b[0m \u001b[0mpri\u001b[0m\u001b[0;34m=\u001b[0m\u001b[0;34m'phot'\u001b[0m\u001b[0;34m)\u001b[0m\u001b[0;34m\u001b[0m\u001b[0;34m\u001b[0m\u001b[0m\n\u001b[0m\u001b[1;32m     18\u001b[0m         \u001b[0mprint\u001b[0m\u001b[0;34m(\u001b[0m\u001b[0;34m'T without backreaction: '\u001b[0m\u001b[0;34m,\u001b[0m \u001b[0mTm_dec_no_br\u001b[0m\u001b[0;34m[\u001b[0m\u001b[0mi\u001b[0m\u001b[0;34m,\u001b[0m\u001b[0mj\u001b[0m\u001b[0;34m]\u001b[0m\u001b[0;34m)\u001b[0m\u001b[0;34m\u001b[0m\u001b[0;34m\u001b[0m\u001b[0m\n\u001b[1;32m     19\u001b[0m \u001b[0;34m\u001b[0m\u001b[0m\n",
      "\u001b[0;32m<ipython-input-5-c514baf5e27e>\u001b[0m in \u001b[0;36mget_T_decay\u001b[0;34m(mDM, tau, br, pri)\u001b[0m\n\u001b[1;32m     42\u001b[0m                 \u001b[0mDM_process\u001b[0m\u001b[0;34m=\u001b[0m\u001b[0;34m'decay'\u001b[0m\u001b[0;34m,\u001b[0m \u001b[0mmDM\u001b[0m\u001b[0;34m=\u001b[0m\u001b[0mmDM\u001b[0m\u001b[0;34m,\u001b[0m \u001b[0mlifetime\u001b[0m\u001b[0;34m=\u001b[0m\u001b[0mtau\u001b[0m\u001b[0;34m,\u001b[0m\u001b[0;34m\u001b[0m\u001b[0;34m\u001b[0m\u001b[0m\n\u001b[1;32m     43\u001b[0m                 \u001b[0mstart_rs\u001b[0m \u001b[0;34m=\u001b[0m \u001b[0;36m3000\u001b[0m\u001b[0;34m,\u001b[0m \u001b[0mend_rs\u001b[0m\u001b[0;34m=\u001b[0m\u001b[0;36m17\u001b[0m\u001b[0;34m,\u001b[0m\u001b[0;34m\u001b[0m\u001b[0;34m\u001b[0m\u001b[0m\n\u001b[0;32m---> 44\u001b[0;31m                 \u001b[0mcoarsen_factor\u001b[0m\u001b[0;34m=\u001b[0m\u001b[0mcf\u001b[0m\u001b[0;34m,\u001b[0m \u001b[0mbackreaction\u001b[0m\u001b[0;34m=\u001b[0m\u001b[0;32mFalse\u001b[0m\u001b[0;34m\u001b[0m\u001b[0;34m\u001b[0m\u001b[0m\n\u001b[0m\u001b[1;32m     45\u001b[0m         )\n\u001b[1;32m     46\u001b[0m     \u001b[0;32mreturn\u001b[0m \u001b[0mresult\u001b[0m\u001b[0;34m[\u001b[0m\u001b[0;34m'Tm'\u001b[0m\u001b[0;34m]\u001b[0m\u001b[0;34m[\u001b[0m\u001b[0;34m-\u001b[0m\u001b[0;36m1\u001b[0m\u001b[0;34m]\u001b[0m\u001b[0;34m/\u001b[0m\u001b[0mphys\u001b[0m\u001b[0;34m.\u001b[0m\u001b[0mkB\u001b[0m\u001b[0;34m\u001b[0m\u001b[0;34m\u001b[0m\u001b[0m\n",
      "\u001b[0;32m~/GitHub/DarkHistory/main.py\u001b[0m in \u001b[0;36mevolve\u001b[0;34m(in_spec_elec, in_spec_phot, rate_func_N, rate_func_eng, DM_process, mDM, sigmav, lifetime, primary, struct_boost, start_rs, end_rs, helium_TLA, reion_switch, reion_rs, photoion_rate_func, photoheat_rate_func, xe_reion_func, init_cond, coarsen_factor, backreaction, compute_fs_method, mxstep, rtol, use_tqdm)\u001b[0m\n\u001b[1;32m    552\u001b[0m             get_tf(\n\u001b[1;32m    553\u001b[0m                 \u001b[0mrs\u001b[0m\u001b[0;34m,\u001b[0m \u001b[0mxHII_to_interp\u001b[0m\u001b[0;34m,\u001b[0m \u001b[0mxHeII_to_interp\u001b[0m\u001b[0;34m,\u001b[0m\u001b[0;34m\u001b[0m\u001b[0;34m\u001b[0m\u001b[0m\n\u001b[0;32m--> 554\u001b[0;31m                 \u001b[0mdlnz\u001b[0m\u001b[0;34m,\u001b[0m \u001b[0mcoarsen_factor\u001b[0m\u001b[0;34m=\u001b[0m\u001b[0mcoarsen_factor\u001b[0m\u001b[0;34m\u001b[0m\u001b[0;34m\u001b[0m\u001b[0m\n\u001b[0m\u001b[1;32m    555\u001b[0m             )\n\u001b[1;32m    556\u001b[0m         )\n",
      "\u001b[0;32m~/GitHub/DarkHistory/main.py\u001b[0m in \u001b[0;36mget_tf\u001b[0;34m(rs, xHII, xHeII, dlnz, coarsen_factor)\u001b[0m\n\u001b[1;32m    789\u001b[0m         )\n\u001b[1;32m    790\u001b[0m         highengphot_tf._grid_vals = matrix_power(\n\u001b[0;32m--> 791\u001b[0;31m             \u001b[0mhighengphot_tf\u001b[0m\u001b[0;34m.\u001b[0m\u001b[0m_grid_vals\u001b[0m\u001b[0;34m,\u001b[0m \u001b[0mcoarsen_factor\u001b[0m\u001b[0;34m\u001b[0m\u001b[0;34m\u001b[0m\u001b[0m\n\u001b[0m\u001b[1;32m    792\u001b[0m         )\n\u001b[1;32m    793\u001b[0m         \u001b[0;31m# cmbloss_arr = np.matmul(prop_tf, cmbloss_arr)/coarsen_factor\u001b[0m\u001b[0;34m\u001b[0m\u001b[0;34m\u001b[0m\u001b[0;34m\u001b[0m\u001b[0m\n",
      "\u001b[0;32m~/anaconda/envs/python3/lib/python3.6/site-packages/numpy/linalg/linalg.py\u001b[0m in \u001b[0;36mmatrix_power\u001b[0;34m(a, n)\u001b[0m\n\u001b[1;32m    665\u001b[0m     \u001b[0mz\u001b[0m \u001b[0;34m=\u001b[0m \u001b[0mresult\u001b[0m \u001b[0;34m=\u001b[0m \u001b[0;32mNone\u001b[0m\u001b[0;34m\u001b[0m\u001b[0;34m\u001b[0m\u001b[0m\n\u001b[1;32m    666\u001b[0m     \u001b[0;32mwhile\u001b[0m \u001b[0mn\u001b[0m \u001b[0;34m>\u001b[0m \u001b[0;36m0\u001b[0m\u001b[0;34m:\u001b[0m\u001b[0;34m\u001b[0m\u001b[0;34m\u001b[0m\u001b[0m\n\u001b[0;32m--> 667\u001b[0;31m         \u001b[0mz\u001b[0m \u001b[0;34m=\u001b[0m \u001b[0ma\u001b[0m \u001b[0;32mif\u001b[0m \u001b[0mz\u001b[0m \u001b[0;32mis\u001b[0m \u001b[0;32mNone\u001b[0m \u001b[0;32melse\u001b[0m \u001b[0mfmatmul\u001b[0m\u001b[0;34m(\u001b[0m\u001b[0mz\u001b[0m\u001b[0;34m,\u001b[0m \u001b[0mz\u001b[0m\u001b[0;34m)\u001b[0m\u001b[0;34m\u001b[0m\u001b[0;34m\u001b[0m\u001b[0m\n\u001b[0m\u001b[1;32m    668\u001b[0m         \u001b[0mn\u001b[0m\u001b[0;34m,\u001b[0m \u001b[0mbit\u001b[0m \u001b[0;34m=\u001b[0m \u001b[0mdivmod\u001b[0m\u001b[0;34m(\u001b[0m\u001b[0mn\u001b[0m\u001b[0;34m,\u001b[0m \u001b[0;36m2\u001b[0m\u001b[0;34m)\u001b[0m\u001b[0;34m\u001b[0m\u001b[0;34m\u001b[0m\u001b[0m\n\u001b[1;32m    669\u001b[0m         \u001b[0;32mif\u001b[0m \u001b[0mbit\u001b[0m\u001b[0;34m:\u001b[0m\u001b[0;34m\u001b[0m\u001b[0;34m\u001b[0m\u001b[0m\n",
      "\u001b[0;31mKeyboardInterrupt\u001b[0m: "
     ]
    }
   ],
   "source": [
    "for i, log10mDM in enumerate(tqdm(log10_m_chi_arr)):\n",
    "    print('log10(mDM): ', log10mDM)\n",
    "    mDM = 10**log10mDM\n",
    "    \n",
    "    below_target = False\n",
    "    above_target = False\n",
    "    j = 8\n",
    "    \n",
    "    while (\n",
    "        not below_target or not above_target\n",
    "    ):\n",
    "\n",
    "        print('****************************')\n",
    "        tau = 10**log10_tau_arr[j]\n",
    "        print('lifetime with no backreaction: ', tau_no_br)\n",
    "        \n",
    "        Tm_dec_no_br[i,j] = get_T_decay(mDM, tau_no_br, br=False, pri='phot')\n",
    "        print('T without backreaction: ', Tm_dec_no_br[i,j])\n",
    "            \n",
    "        if Tm_dec_no_br[i,j_no_br] <= Tm_max:\n",
    "            \n",
    "            below_target_Tm_no_br = True\n",
    "            # Below target T_m means we need a shorter lifetime.\n",
    "            j_no_br -= 1\n",
    "            \n",
    "        elif Tm_dec_no_br[i,j_no_br] >= Tm_max:\n",
    "            \n",
    "            above_target_Tm_no_br = True\n",
    "            # Above target T_m means we need a longer lifetime. \n",
    "            j_no_br += 1\n",
    "            \n",
    "        \n",
    "        print('****************************')\n",
    "            "
   ]
  },
  {
   "cell_type": "markdown",
   "metadata": {},
   "source": [
    "### Annihilating Dark Matter"
   ]
  },
  {
   "cell_type": "markdown",
   "metadata": {},
   "source": [
    "Annihilating dark matter sensitivity can also be evaluated in a very similar manner. The only difference here is that structure formation now boosts the annihilation rate at late times. We can load one of DarkHistory's default structure formation boost factors that can be obtained using the function [*physics.struct_boost_func*](https://darkhistory.readthedocs.io/en/master/_autosummary/darkhistory/physics/darkhistory.physics.struct_boost_func.html). The first thing we need to do is obtain the function that returns the boost: "
   ]
  },
  {
   "cell_type": "code",
   "execution_count": 11,
   "metadata": {},
   "outputs": [],
   "source": [
    "struct_boost_einasto_subs = phys.struct_boost_func('einasto_with_subs')"
   ]
  },
  {
   "cell_type": "markdown",
   "metadata": {},
   "source": [
    "We can now define the analogous *get_T_ann* function with this structure formation prescription included with the keyword *struct_boost* passed to [*main.evolve*](https://darkhistory.readthedocs.io/en/master/_autosummary/main/main.evolve.html):"
   ]
  },
  {
   "cell_type": "code",
   "execution_count": 12,
   "metadata": {},
   "outputs": [],
   "source": [
    "def get_T_ann(mDM, sigmav, br, pri):\n",
    "    \"\"\"Gets the temperature at z = 17. \n",
    "    \n",
    "    Parameters\n",
    "    ----------\n",
    "    mDM : float\n",
    "        The mass of the dark matter in eV. \n",
    "    sigmav : float\n",
    "        The annihilation cross section in cm^3/s.  \n",
    "    br : bool\n",
    "        Whether to use backreaction or not. \n",
    "    pri : {'elec', 'phot'}\n",
    "        The primary particles that DM decays to. \n",
    "        \n",
    "    Returns\n",
    "    --------\n",
    "    float\n",
    "        The temperature in K at z = 17. \n",
    "    \n",
    "    \"\"\"\n",
    "    \n",
    "    if pri == 'elec':\n",
    "        pri_str = 'elec_delta'\n",
    "        cf = 12\n",
    "    if pri == 'phot':\n",
    "        pri_str = 'phot_delta'\n",
    "        cf = 4\n",
    "    \n",
    "    if br:\n",
    "    \n",
    "        result = main.evolve(\n",
    "                primary=pri_str,\n",
    "                DM_process='swave', mDM=mDM, sigmav=sigmav,\n",
    "                struct_boost = struct_boost_einasto_subs,\n",
    "                start_rs = 3000, end_rs=17,\n",
    "                coarsen_factor=cf, backreaction=True\n",
    "        )\n",
    "        \n",
    "    else:\n",
    "        \n",
    "        result = main.evolve(\n",
    "                primary=pri_str,\n",
    "                DM_process='swave', mDM=mDM, sigmav=sigmav,\n",
    "                start_rs = 3000, end_rs=17,\n",
    "                struct_boost = struct_boost_einasto_subs,\n",
    "                coarsen_factor=cf, backreaction=False\n",
    "        )\n",
    "    return result['Tm'][-1]/phys.kB"
   ]
  },
  {
   "cell_type": "markdown",
   "metadata": {},
   "source": [
    "Now initialize the data! We use $\\langle \\sigma v \\rangle / m_\\chi$ as the range to scan over, since this quantity determines the energy injection rate."
   ]
  },
  {
   "cell_type": "code",
   "execution_count": 13,
   "metadata": {},
   "outputs": [],
   "source": [
    "log10_m_chi_arr = np.arange(4, 12.75, 0.25)\n",
    "log10_sigmav_over_m_arr   = np.arange(-36, -33.5, 0.25)\n",
    "\n",
    "Tm_ann_no_br = np.zeros((log10_m_chi_arr.size, log10_tau_arr.size))\n",
    "Tm_ann_br = np.zeros_like(Tm_ann_no_br)\n",
    "\n",
    "Tm_ann_no_br[:,:7] = 0\n",
    "Tm_ann_no_br[:,7:] = 1e9 \n",
    "Tm_ann_br[:,:7] = 0\n",
    "Tm_ann_br[:,7:] = 1e9 "
   ]
  },
  {
   "cell_type": "markdown",
   "metadata": {},
   "source": [
    "And start the scan!"
   ]
  },
  {
   "cell_type": "code",
   "execution_count": 14,
   "metadata": {},
   "outputs": [
    {
     "data": {
      "application/vnd.jupyter.widget-view+json": {
       "model_id": "18b112caec474fd2935fe45e9c8b5d23",
       "version_major": 2,
       "version_minor": 0
      },
      "text/plain": [
       "HBox(children=(IntProgress(value=0, max=23), HTML(value='')))"
      ]
     },
     "metadata": {},
     "output_type": "display_data"
    },
    {
     "name": "stdout",
     "output_type": "stream",
     "text": [
      "log10(mDM):  7.0\n",
      "****************************\n",
      "sigmav with backreaction:  3.162277660168379e-28\n",
      "sigmav with no backreaction:  3.162277660168379e-28\n"
     ]
    },
    {
     "data": {
      "application/vnd.jupyter.widget-view+json": {
       "model_id": "25e9eff20e6b4543ac72d8674f2dd198",
       "version_major": 2,
       "version_minor": 0
      },
      "text/plain": [
       "HBox(children=(IntProgress(value=0, max=1294), HTML(value='')))"
      ]
     },
     "metadata": {},
     "output_type": "display_data"
    },
    {
     "data": {
      "application/vnd.jupyter.widget-view+json": {
       "model_id": "1dc0fe9420aa46a49519ea6a7beaca6c",
       "version_major": 2,
       "version_minor": 0
      },
      "text/plain": [
       "HBox(children=(IntProgress(value=0, max=1294), HTML(value='')))"
      ]
     },
     "metadata": {},
     "output_type": "display_data"
    },
    {
     "name": "stdout",
     "output_type": "stream",
     "text": [
      "T with backreaction:  14.546344367303586\n",
      "T without backreaction:  13.950934453215043\n",
      "****************************\n",
      "****************************\n",
      "sigmav with backreaction:  5.62341325190349e-28\n",
      "sigmav with no backreaction:  5.62341325190349e-28\n"
     ]
    },
    {
     "data": {
      "application/vnd.jupyter.widget-view+json": {
       "model_id": "f446700f27814a8ba7b97e53defc44bb",
       "version_major": 2,
       "version_minor": 0
      },
      "text/plain": [
       "HBox(children=(IntProgress(value=0, max=1294), HTML(value='')))"
      ]
     },
     "metadata": {},
     "output_type": "display_data"
    },
    {
     "data": {
      "application/vnd.jupyter.widget-view+json": {
       "model_id": "a9bc1e98ece341f1aca269570941992f",
       "version_major": 2,
       "version_minor": 0
      },
      "text/plain": [
       "HBox(children=(IntProgress(value=0, max=1294), HTML(value='')))"
      ]
     },
     "metadata": {},
     "output_type": "display_data"
    },
    {
     "name": "stdout",
     "output_type": "stream",
     "text": [
      "T with backreaction:  18.375929284690624\n",
      "T without backreaction:  17.1274046054682\n",
      "****************************\n",
      "****************************\n",
      "sigmav with backreaction:  9.999999999999999e-28\n",
      "sigmav with no backreaction:  9.999999999999999e-28\n"
     ]
    },
    {
     "data": {
      "application/vnd.jupyter.widget-view+json": {
       "model_id": "e96ba7e66b4b47e5bafb92867c081cbd",
       "version_major": 2,
       "version_minor": 0
      },
      "text/plain": [
       "HBox(children=(IntProgress(value=0, max=1294), HTML(value='')))"
      ]
     },
     "metadata": {},
     "output_type": "display_data"
    },
    {
     "data": {
      "application/vnd.jupyter.widget-view+json": {
       "model_id": "204a325c2b0f4c609292bb4d71362344",
       "version_major": 2,
       "version_minor": 0
      },
      "text/plain": [
       "HBox(children=(IntProgress(value=0, max=1294), HTML(value='')))"
      ]
     },
     "metadata": {},
     "output_type": "display_data"
    },
    {
     "name": "stdout",
     "output_type": "stream",
     "text": [
      "T with backreaction:  24.798696910885194\n",
      "T without backreaction:  22.214315548821535\n",
      "****************************\n",
      "log10(mDM):  7.25\n",
      "****************************\n",
      "sigmav with backreaction:  5.62341325190349e-28\n",
      "sigmav with no backreaction:  5.62341325190349e-28\n"
     ]
    },
    {
     "data": {
      "application/vnd.jupyter.widget-view+json": {
       "model_id": "c567df0aee144e3492019b3762daeb5a",
       "version_major": 2,
       "version_minor": 0
      },
      "text/plain": [
       "HBox(children=(IntProgress(value=0, max=1294), HTML(value='')))"
      ]
     },
     "metadata": {},
     "output_type": "display_data"
    },
    {
     "ename": "KeyboardInterrupt",
     "evalue": "",
     "output_type": "error",
     "traceback": [
      "\u001b[0;31m---------------------------------------------------------------------------\u001b[0m",
      "\u001b[0;31mKeyboardInterrupt\u001b[0m                         Traceback (most recent call last)",
      "\u001b[0;32m<ipython-input-14-b065f6a2e97c>\u001b[0m in \u001b[0;36m<module>\u001b[0;34m\u001b[0m\n\u001b[1;32m     20\u001b[0m         \u001b[0mprint\u001b[0m\u001b[0;34m(\u001b[0m\u001b[0;34m'sigmav with no backreaction: '\u001b[0m\u001b[0;34m,\u001b[0m \u001b[0msigmav_no_br\u001b[0m\u001b[0;34m)\u001b[0m\u001b[0;34m\u001b[0m\u001b[0;34m\u001b[0m\u001b[0m\n\u001b[1;32m     21\u001b[0m \u001b[0;34m\u001b[0m\u001b[0m\n\u001b[0;32m---> 22\u001b[0;31m         \u001b[0mTm_ann_br\u001b[0m\u001b[0;34m[\u001b[0m\u001b[0mi\u001b[0m\u001b[0;34m,\u001b[0m\u001b[0mj_br\u001b[0m\u001b[0;34m]\u001b[0m \u001b[0;34m=\u001b[0m \u001b[0mget_T_ann\u001b[0m\u001b[0;34m(\u001b[0m\u001b[0mmDM\u001b[0m\u001b[0;34m,\u001b[0m \u001b[0msigmav_br\u001b[0m\u001b[0;34m,\u001b[0m \u001b[0mbr\u001b[0m\u001b[0;34m=\u001b[0m\u001b[0;32mTrue\u001b[0m\u001b[0;34m,\u001b[0m \u001b[0mpri\u001b[0m\u001b[0;34m=\u001b[0m\u001b[0;34m'phot'\u001b[0m\u001b[0;34m)\u001b[0m\u001b[0;34m\u001b[0m\u001b[0;34m\u001b[0m\u001b[0m\n\u001b[0m\u001b[1;32m     23\u001b[0m         \u001b[0mTm_ann_no_br\u001b[0m\u001b[0;34m[\u001b[0m\u001b[0mi\u001b[0m\u001b[0;34m,\u001b[0m\u001b[0mj_no_br\u001b[0m\u001b[0;34m]\u001b[0m \u001b[0;34m=\u001b[0m \u001b[0mget_T_ann\u001b[0m\u001b[0;34m(\u001b[0m\u001b[0mmDM\u001b[0m\u001b[0;34m,\u001b[0m \u001b[0msigmav_no_br\u001b[0m\u001b[0;34m,\u001b[0m \u001b[0mbr\u001b[0m\u001b[0;34m=\u001b[0m\u001b[0;32mFalse\u001b[0m\u001b[0;34m,\u001b[0m \u001b[0mpri\u001b[0m\u001b[0;34m=\u001b[0m\u001b[0;34m'phot'\u001b[0m\u001b[0;34m)\u001b[0m\u001b[0;34m\u001b[0m\u001b[0;34m\u001b[0m\u001b[0m\n\u001b[1;32m     24\u001b[0m         \u001b[0mprint\u001b[0m\u001b[0;34m(\u001b[0m\u001b[0;34m'T with backreaction: '\u001b[0m\u001b[0;34m,\u001b[0m \u001b[0mTm_ann_br\u001b[0m\u001b[0;34m[\u001b[0m\u001b[0mi\u001b[0m\u001b[0;34m,\u001b[0m\u001b[0mj_br\u001b[0m\u001b[0;34m]\u001b[0m\u001b[0;34m)\u001b[0m\u001b[0;34m\u001b[0m\u001b[0;34m\u001b[0m\u001b[0m\n",
      "\u001b[0;32m<ipython-input-12-3361ce040833>\u001b[0m in \u001b[0;36mget_T_ann\u001b[0;34m(mDM, sigmav, br, pri)\u001b[0m\n\u001b[1;32m     34\u001b[0m                 \u001b[0mstruct_boost\u001b[0m \u001b[0;34m=\u001b[0m \u001b[0mstruct_boost_einasto_subs\u001b[0m\u001b[0;34m,\u001b[0m\u001b[0;34m\u001b[0m\u001b[0;34m\u001b[0m\u001b[0m\n\u001b[1;32m     35\u001b[0m                 \u001b[0mstart_rs\u001b[0m \u001b[0;34m=\u001b[0m \u001b[0;36m3000\u001b[0m\u001b[0;34m,\u001b[0m \u001b[0mend_rs\u001b[0m\u001b[0;34m=\u001b[0m\u001b[0;36m17\u001b[0m\u001b[0;34m,\u001b[0m\u001b[0;34m\u001b[0m\u001b[0;34m\u001b[0m\u001b[0m\n\u001b[0;32m---> 36\u001b[0;31m                 \u001b[0mcoarsen_factor\u001b[0m\u001b[0;34m=\u001b[0m\u001b[0mcf\u001b[0m\u001b[0;34m,\u001b[0m \u001b[0mbackreaction\u001b[0m\u001b[0;34m=\u001b[0m\u001b[0;32mTrue\u001b[0m\u001b[0;34m\u001b[0m\u001b[0;34m\u001b[0m\u001b[0m\n\u001b[0m\u001b[1;32m     37\u001b[0m         )\n\u001b[1;32m     38\u001b[0m \u001b[0;34m\u001b[0m\u001b[0m\n",
      "\u001b[0;32m~/GitHub/DarkHistory/main.py\u001b[0m in \u001b[0;36mevolve\u001b[0;34m(in_spec_elec, in_spec_phot, rate_func_N, rate_func_eng, DM_process, mDM, sigmav, lifetime, primary, struct_boost, start_rs, end_rs, helium_TLA, reion_switch, reion_rs, photoion_rate_func, photoheat_rate_func, xe_reion_func, init_cond, coarsen_factor, backreaction, compute_fs_method, mxstep, rtol, use_tqdm)\u001b[0m\n\u001b[1;32m    529\u001b[0m             \u001b[0mphotoheat_rate_func\u001b[0m\u001b[0;34m=\u001b[0m\u001b[0mphotoheat_rate_func\u001b[0m\u001b[0;34m,\u001b[0m\u001b[0;34m\u001b[0m\u001b[0;34m\u001b[0m\u001b[0m\n\u001b[1;32m    530\u001b[0m             \u001b[0mxe_reion_func\u001b[0m\u001b[0;34m=\u001b[0m\u001b[0mxe_reion_func\u001b[0m\u001b[0;34m,\u001b[0m \u001b[0mhelium_TLA\u001b[0m\u001b[0;34m=\u001b[0m\u001b[0mhelium_TLA\u001b[0m\u001b[0;34m,\u001b[0m\u001b[0;34m\u001b[0m\u001b[0;34m\u001b[0m\u001b[0m\n\u001b[0;32m--> 531\u001b[0;31m             \u001b[0mf_He_ion\u001b[0m\u001b[0;34m=\u001b[0m\u001b[0mf_He_ion\u001b[0m\u001b[0;34m,\u001b[0m \u001b[0mmxstep\u001b[0m\u001b[0;34m=\u001b[0m\u001b[0mmxstep\u001b[0m\u001b[0;34m,\u001b[0m \u001b[0mrtol\u001b[0m\u001b[0;34m=\u001b[0m\u001b[0mrtol\u001b[0m\u001b[0;34m\u001b[0m\u001b[0;34m\u001b[0m\u001b[0m\n\u001b[0m\u001b[1;32m    532\u001b[0m         )\n\u001b[1;32m    533\u001b[0m \u001b[0;34m\u001b[0m\u001b[0m\n",
      "\u001b[0;32m~/GitHub/DarkHistory/darkhistory/history/tla.py\u001b[0m in \u001b[0;36mget_history\u001b[0;34m(rs_vec, init_cond, f_H_ion, f_H_exc, f_heating, dm_injection_rate, reion_switch, reion_rs, photoion_rate_func, photoheat_rate_func, xe_reion_func, helium_TLA, f_He_ion, mxstep, rtol)\u001b[0m\n\u001b[1;32m    564\u001b[0m         soln = odeint(\n\u001b[1;32m    565\u001b[0m                 \u001b[0mtla_before_reion\u001b[0m\u001b[0;34m,\u001b[0m \u001b[0m_init_cond\u001b[0m\u001b[0;34m,\u001b[0m \u001b[0mrs_vec\u001b[0m\u001b[0;34m,\u001b[0m\u001b[0;34m\u001b[0m\u001b[0;34m\u001b[0m\u001b[0m\n\u001b[0;32m--> 566\u001b[0;31m                 \u001b[0mmxstep\u001b[0m \u001b[0;34m=\u001b[0m \u001b[0mmxstep\u001b[0m\u001b[0;34m,\u001b[0m \u001b[0mtfirst\u001b[0m\u001b[0;34m=\u001b[0m\u001b[0;32mTrue\u001b[0m\u001b[0;34m,\u001b[0m \u001b[0mrtol\u001b[0m\u001b[0;34m=\u001b[0m\u001b[0mrtol\u001b[0m\u001b[0;34m\u001b[0m\u001b[0;34m\u001b[0m\u001b[0m\n\u001b[0m\u001b[1;32m    567\u001b[0m             )\n\u001b[1;32m    568\u001b[0m         \u001b[0;31m# print(init_cond)\u001b[0m\u001b[0;34m\u001b[0m\u001b[0;34m\u001b[0m\u001b[0;34m\u001b[0m\u001b[0m\n",
      "\u001b[0;32m~/anaconda/envs/python3/lib/python3.6/site-packages/scipy/integrate/odepack.py\u001b[0m in \u001b[0;36modeint\u001b[0;34m(func, y0, t, args, Dfun, col_deriv, full_output, ml, mu, rtol, atol, tcrit, h0, hmax, hmin, ixpr, mxstep, mxhnil, mxordn, mxords, printmessg, tfirst)\u001b[0m\n\u001b[1;32m    242\u001b[0m                              \u001b[0mfull_output\u001b[0m\u001b[0;34m,\u001b[0m \u001b[0mrtol\u001b[0m\u001b[0;34m,\u001b[0m \u001b[0matol\u001b[0m\u001b[0;34m,\u001b[0m \u001b[0mtcrit\u001b[0m\u001b[0;34m,\u001b[0m \u001b[0mh0\u001b[0m\u001b[0;34m,\u001b[0m \u001b[0mhmax\u001b[0m\u001b[0;34m,\u001b[0m \u001b[0mhmin\u001b[0m\u001b[0;34m,\u001b[0m\u001b[0;34m\u001b[0m\u001b[0;34m\u001b[0m\u001b[0m\n\u001b[1;32m    243\u001b[0m                              \u001b[0mixpr\u001b[0m\u001b[0;34m,\u001b[0m \u001b[0mmxstep\u001b[0m\u001b[0;34m,\u001b[0m \u001b[0mmxhnil\u001b[0m\u001b[0;34m,\u001b[0m \u001b[0mmxordn\u001b[0m\u001b[0;34m,\u001b[0m \u001b[0mmxords\u001b[0m\u001b[0;34m,\u001b[0m\u001b[0;34m\u001b[0m\u001b[0;34m\u001b[0m\u001b[0m\n\u001b[0;32m--> 244\u001b[0;31m                              int(bool(tfirst)))\n\u001b[0m\u001b[1;32m    245\u001b[0m     \u001b[0;32mif\u001b[0m \u001b[0moutput\u001b[0m\u001b[0;34m[\u001b[0m\u001b[0;34m-\u001b[0m\u001b[0;36m1\u001b[0m\u001b[0;34m]\u001b[0m \u001b[0;34m<\u001b[0m \u001b[0;36m0\u001b[0m\u001b[0;34m:\u001b[0m\u001b[0;34m\u001b[0m\u001b[0;34m\u001b[0m\u001b[0m\n\u001b[1;32m    246\u001b[0m         \u001b[0mwarning_msg\u001b[0m \u001b[0;34m=\u001b[0m \u001b[0m_msgs\u001b[0m\u001b[0;34m[\u001b[0m\u001b[0moutput\u001b[0m\u001b[0;34m[\u001b[0m\u001b[0;34m-\u001b[0m\u001b[0;36m1\u001b[0m\u001b[0;34m]\u001b[0m\u001b[0;34m]\u001b[0m \u001b[0;34m+\u001b[0m \u001b[0;34m\" Run with full_output = 1 to get quantitative information.\"\u001b[0m\u001b[0;34m\u001b[0m\u001b[0;34m\u001b[0m\u001b[0m\n",
      "\u001b[0;32m~/GitHub/DarkHistory/darkhistory/history/tla.py\u001b[0m in \u001b[0;36mtla_before_reion\u001b[0;34m(rs, var)\u001b[0m\n\u001b[1;32m    328\u001b[0m         return [\n\u001b[1;32m    329\u001b[0m             \u001b[0mdT_dz\u001b[0m\u001b[0;34m(\u001b[0m\u001b[0myHII\u001b[0m\u001b[0;34m,\u001b[0m \u001b[0myHeII\u001b[0m\u001b[0;34m,\u001b[0m \u001b[0myHeIII\u001b[0m\u001b[0;34m,\u001b[0m \u001b[0mT_m\u001b[0m\u001b[0;34m,\u001b[0m \u001b[0mrs\u001b[0m\u001b[0;34m)\u001b[0m\u001b[0;34m,\u001b[0m\u001b[0;34m\u001b[0m\u001b[0;34m\u001b[0m\u001b[0m\n\u001b[0;32m--> 330\u001b[0;31m             \u001b[0mdyHII_dz\u001b[0m\u001b[0;34m(\u001b[0m\u001b[0myHII\u001b[0m\u001b[0;34m,\u001b[0m \u001b[0myHeII\u001b[0m\u001b[0;34m,\u001b[0m \u001b[0myHeIII\u001b[0m\u001b[0;34m,\u001b[0m \u001b[0mT_m\u001b[0m\u001b[0;34m,\u001b[0m \u001b[0mrs\u001b[0m\u001b[0;34m)\u001b[0m\u001b[0;34m,\u001b[0m\u001b[0;34m\u001b[0m\u001b[0;34m\u001b[0m\u001b[0m\n\u001b[0m\u001b[1;32m    331\u001b[0m             \u001b[0mdyHeII_dz\u001b[0m\u001b[0;34m(\u001b[0m\u001b[0myHII\u001b[0m\u001b[0;34m,\u001b[0m \u001b[0myHeII\u001b[0m\u001b[0;34m,\u001b[0m \u001b[0myHeIII\u001b[0m\u001b[0;34m,\u001b[0m \u001b[0mT_m\u001b[0m\u001b[0;34m,\u001b[0m \u001b[0mrs\u001b[0m\u001b[0;34m)\u001b[0m\u001b[0;34m,\u001b[0m\u001b[0;34m\u001b[0m\u001b[0;34m\u001b[0m\u001b[0m\n\u001b[1;32m    332\u001b[0m             \u001b[0mdyHeIII_dz\u001b[0m\u001b[0;34m(\u001b[0m\u001b[0myHII\u001b[0m\u001b[0;34m,\u001b[0m \u001b[0myHeII\u001b[0m\u001b[0;34m,\u001b[0m \u001b[0myHeIII\u001b[0m\u001b[0;34m,\u001b[0m \u001b[0mT_m\u001b[0m\u001b[0;34m,\u001b[0m \u001b[0mrs\u001b[0m\u001b[0;34m)\u001b[0m\u001b[0;34m\u001b[0m\u001b[0;34m\u001b[0m\u001b[0m\n",
      "\u001b[0;32m~/GitHub/DarkHistory/darkhistory/history/tla.py\u001b[0m in \u001b[0;36mdyHII_dz\u001b[0;34m(yHII, yHeII, yHeIII, T_m, rs)\u001b[0m\n\u001b[1;32m    244\u001b[0m                 \u001b[0;34m+\u001b[0m \u001b[0m_f_H_ion\u001b[0m\u001b[0;34m(\u001b[0m\u001b[0mrs\u001b[0m\u001b[0;34m,\u001b[0m \u001b[0mxHI\u001b[0m\u001b[0;34m,\u001b[0m \u001b[0mxHeI\u001b[0m\u001b[0;34m,\u001b[0m \u001b[0mxHeII\u001b[0m\u001b[0;34m(\u001b[0m\u001b[0myHeII\u001b[0m\u001b[0;34m)\u001b[0m\u001b[0;34m)\u001b[0m \u001b[0;34m*\u001b[0m \u001b[0minj_rate\u001b[0m\u001b[0;34m\u001b[0m\u001b[0;34m\u001b[0m\u001b[0m\n\u001b[1;32m    245\u001b[0m                     \u001b[0;34m/\u001b[0m \u001b[0;34m(\u001b[0m\u001b[0mphys\u001b[0m\u001b[0;34m.\u001b[0m\u001b[0mrydberg\u001b[0m \u001b[0;34m*\u001b[0m \u001b[0mnH\u001b[0m\u001b[0;34m)\u001b[0m\u001b[0;34m\u001b[0m\u001b[0;34m\u001b[0m\u001b[0m\n\u001b[0;32m--> 246\u001b[0;31m                 + (1 - phys.peebles_C(xHII(yHII), rs)) * (\n\u001b[0m\u001b[1;32m    247\u001b[0m                     \u001b[0m_f_H_exc\u001b[0m\u001b[0;34m(\u001b[0m\u001b[0mrs\u001b[0m\u001b[0;34m,\u001b[0m \u001b[0mxHI\u001b[0m\u001b[0;34m,\u001b[0m \u001b[0mxHeI\u001b[0m\u001b[0;34m,\u001b[0m \u001b[0mxHeII\u001b[0m\u001b[0;34m(\u001b[0m\u001b[0myHeII\u001b[0m\u001b[0;34m)\u001b[0m\u001b[0;34m)\u001b[0m \u001b[0;34m*\u001b[0m \u001b[0minj_rate\u001b[0m\u001b[0;34m\u001b[0m\u001b[0;34m\u001b[0m\u001b[0m\n\u001b[1;32m    248\u001b[0m                     \u001b[0;34m/\u001b[0m \u001b[0;34m(\u001b[0m\u001b[0mphys\u001b[0m\u001b[0;34m.\u001b[0m\u001b[0mlya_eng\u001b[0m \u001b[0;34m*\u001b[0m \u001b[0mnH\u001b[0m\u001b[0;34m)\u001b[0m\u001b[0;34m\u001b[0m\u001b[0;34m\u001b[0m\u001b[0m\n",
      "\u001b[0;32m~/GitHub/DarkHistory/darkhistory/physics.py\u001b[0m in \u001b[0;36mpeebles_C\u001b[0;34m(xHII, rs)\u001b[0m\n\u001b[1;32m    589\u001b[0m     \u001b[0mrate_2p1s_times_x1s\u001b[0m \u001b[0;34m/=\u001b[0m \u001b[0;34m(\u001b[0m\u001b[0;36m1\u001b[0m \u001b[0;34m+\u001b[0m \u001b[0mgauss_corr_1\u001b[0m \u001b[0;34m+\u001b[0m \u001b[0mgauss_corr_2\u001b[0m\u001b[0;34m)\u001b[0m\u001b[0;34m\u001b[0m\u001b[0;34m\u001b[0m\u001b[0m\n\u001b[1;32m    590\u001b[0m \u001b[0;34m\u001b[0m\u001b[0m\n\u001b[0;32m--> 591\u001b[0;31m     \u001b[0mrate_exc\u001b[0m \u001b[0;34m=\u001b[0m \u001b[0;36m3\u001b[0m \u001b[0;34m*\u001b[0m \u001b[0mrate_2p1s_times_x1s\u001b[0m\u001b[0;34m/\u001b[0m\u001b[0;36m4\u001b[0m \u001b[0;34m+\u001b[0m \u001b[0;34m(\u001b[0m\u001b[0;36m1\u001b[0m\u001b[0;34m-\u001b[0m\u001b[0mxHII\u001b[0m\u001b[0;34m)\u001b[0m \u001b[0;34m*\u001b[0m \u001b[0mrate_2s1s\u001b[0m\u001b[0;34m/\u001b[0m\u001b[0;36m4\u001b[0m\u001b[0;34m\u001b[0m\u001b[0;34m\u001b[0m\u001b[0m\n\u001b[0m\u001b[1;32m    592\u001b[0m \u001b[0;34m\u001b[0m\u001b[0m\n\u001b[1;32m    593\u001b[0m     \u001b[0mrate_ion\u001b[0m \u001b[0;34m=\u001b[0m \u001b[0;34m(\u001b[0m\u001b[0;36m1\u001b[0m\u001b[0;34m-\u001b[0m\u001b[0mxHII\u001b[0m\u001b[0;34m)\u001b[0m \u001b[0;34m*\u001b[0m \u001b[0mbeta_ion\u001b[0m\u001b[0;34m(\u001b[0m\u001b[0mTCMB\u001b[0m\u001b[0;34m(\u001b[0m\u001b[0mrs\u001b[0m\u001b[0;34m)\u001b[0m\u001b[0;34m,\u001b[0m \u001b[0;34m'HI'\u001b[0m\u001b[0;34m)\u001b[0m\u001b[0;34m\u001b[0m\u001b[0;34m\u001b[0m\u001b[0m\n",
      "\u001b[0;31mKeyboardInterrupt\u001b[0m: "
     ]
    }
   ],
   "source": [
    "for i, log10mDM in enumerate(tqdm(log10_m_chi_arr)):\n",
    "    print('log10(mDM): ', log10mDM)\n",
    "    mDM = 10**log10mDM\n",
    "    \n",
    "    below_target_Tm_br = False\n",
    "    above_target_Tm_br = False\n",
    "    below_target_Tm_no_br = False\n",
    "    above_target_Tm_no_br = False\n",
    "    j_br = 6\n",
    "    j_no_br = 6\n",
    "    \n",
    "    while (\n",
    "        not below_target_Tm_br or not above_target_Tm_br \n",
    "        or not below_target_Tm_no_br or not above_target_Tm_no_br\n",
    "    ):\n",
    "        print('****************************')\n",
    "        sigmav_br = 10**log10_sigmav_over_m_arr[j_br] * mDM\n",
    "        print('sigmav with backreaction: ', sigmav_br)\n",
    "        sigmav_no_br = 10**log10_sigmav_over_m_arr[j_no_br] * mDM\n",
    "        print('sigmav with no backreaction: ', sigmav_no_br)\n",
    "        \n",
    "        Tm_ann_br[i,j_br] = get_T_ann(mDM, sigmav_br, br=True, pri='phot')\n",
    "        Tm_ann_no_br[i,j_no_br] = get_T_ann(mDM, sigmav_no_br, br=False, pri='phot')\n",
    "        print('T with backreaction: ', Tm_ann_br[i,j_br])\n",
    "        print('T without backreaction: ', Tm_ann_no_br[i,j_no_br])\n",
    "        \n",
    "        if Tm_ann_br[i,j_br] <= Tm_max:\n",
    "            \n",
    "            below_target_Tm_br = True\n",
    "            # Below target T_m means we need a larger sigmav.\n",
    "            j_br += 1\n",
    "            \n",
    "        elif Tm_ann_br[i,j_br] >= Tm_max:\n",
    "            \n",
    "            above_target_Tm_br = True\n",
    "            # Above target T_m means we need a smaller sigmav.\n",
    "            j_br -= 1\n",
    "            \n",
    "        if Tm_ann_no_br[i,j_no_br] <= Tm_max:\n",
    "            \n",
    "            below_target_Tm_no_br = True\n",
    "            # Below target T_m means we need a larger sigmav.\n",
    "            j_no_br += 1\n",
    "            \n",
    "        elif Tm_ann_no_br[i,j_no_br] >= Tm_max:\n",
    "            \n",
    "            above_target_Tm_no_br = True\n",
    "            # Above target T_m means we need a smaller sigmav.\n",
    "            j_no_br -= 1\n",
    "            \n",
    "        \n",
    "        print('****************************')\n",
    "            "
   ]
  },
  {
   "cell_type": "markdown",
   "metadata": {},
   "source": [
    "## Bibliography"
   ]
  },
  {
   "cell_type": "markdown",
   "metadata": {},
   "source": [
    "<div class=\"cite2c-biblio\"></div>"
   ]
  },
  {
   "cell_type": "markdown",
   "metadata": {},
   "source": [
    "## Plotting"
   ]
  },
  {
   "cell_type": "code",
   "execution_count": 310,
   "metadata": {},
   "outputs": [],
   "source": [
    "pri_list = ['elec', 'phot']\n",
    "inj_type_list = ['decay', 'swave']\n",
    "br_list   = ['std', 'BR']\n",
    "\n",
    "# mbnds = [4,12.5]\n",
    "\n",
    "# if inj_type == 'decay':\n",
    "#         parambnds = [23,28.25 + step] #tau\n",
    "#         param_guess = 27\n",
    "#     else:\n",
    "#         parambnds = [-28,-25 + step] # sigma v / mDM\n",
    "#         param_guess = -26.5\n",
    "# else:\n",
    "#     mbnds = [6.01,12.51]\n",
    "#     log10mDM_arr = np.arange(mbnds[0], mbnds[1], step)\n",
    "\n",
    "#     if inj_type == 'decay':\n",
    "#         parambnds = [24,28.25 + step]\n",
    "#         param_guess = 27\n",
    "#     else:    \n",
    "#         parambnds = [-30.5,-24.5 + step]\n",
    "#         param_guess = -26\n",
    "\n",
    "data = {'elec':{}, 'phot':{}}\n",
    "\n",
    "m_chi_absc = {'elec':{}, 'phot':{}}\n",
    "inj_absc   = {'elec':{}, 'phot':{}}\n",
    "\n",
    "interp_data = {'elec':{}, 'phot':{}}\n",
    "\n",
    "\n",
    "from scipy.interpolate import interp2d\n",
    "\n",
    "for pri in pri_list:\n",
    "    data[pri] = {}\n",
    "    m_chi_absc[pri] = {}\n",
    "    inj_absc[pri] = {}\n",
    "    interp_data[pri] = {}\n",
    "    \n",
    "    if pri == 'elec':\n",
    "        cf_str = '12'\n",
    "    else:\n",
    "        cf_str = '4'\n",
    "    for inj_type in inj_type_list:\n",
    "        data[pri][inj_type] = {}\n",
    "        m_chi_absc[pri][inj_type] = {}\n",
    "        inj_absc[pri][inj_type] = {} \n",
    "        interp_data[pri][inj_type] = {}\n",
    "        for br in br_list:\n",
    "            data[pri][inj_type][br] = pickle.load(\n",
    "                open(\n",
    "                    '/Users/hongwan/Dropbox (MIT)/Photon Deposition/Gregs_Checks/T_IGM_17_'\n",
    "                    +pri+'_'+inj_type+'_'+br+'_coarsen'+cf_str+'.dat','rb'\n",
    "                )\n",
    "            )\n",
    "            # Clean the data. \n",
    "            if inj_type == 'decay':\n",
    "                for mDM_Tm in data[pri][inj_type][br]:\n",
    "                    i=0\n",
    "                    lower_zeros = True\n",
    "                    while lower_zeros:\n",
    "                        if mDM_Tm[i] == 0:\n",
    "                            mDM_Tm[i] = 30\n",
    "                            i += 1\n",
    "                        else:\n",
    "                            lower_zeros = False\n",
    "            else:\n",
    "                for mDM_Tm in data[pri][inj_type][br]:\n",
    "                    i=-1\n",
    "                    upper_zeros = True\n",
    "                    while upper_zeros:\n",
    "                        if mDM_Tm[i] == 0:\n",
    "                            mDM_Tm[i] = 30\n",
    "                            i -= 1\n",
    "                        else:\n",
    "                            upper_zeros = False\n",
    "                            \n",
    "            data[pri][inj_type][br][data[pri][inj_type][br] <= 0] = 1e-100\n",
    "            # Insert the abscissa\n",
    "            if pri == 'elec':\n",
    "                m_chi_absc[pri][inj_type][br] = np.arange(6.01, 12.51, 0.25)\n",
    "                if inj_type == 'decay':                    \n",
    "                    inj_absc[pri][inj_type][br] = np.arange(24., 28.5, 0.25)\n",
    "                elif inj_type == 'swave':\n",
    "                    inj_absc[pri][inj_type][br] = np.arange(-30.5, -24.25, 0.25)\n",
    "            elif pri == 'phot':\n",
    "                m_chi_absc[pri][inj_type][br] = np.arange(4, 12.5, 0.25)\n",
    "                if inj_type == 'decay':\n",
    "                    inj_absc[pri][inj_type][br] = np.arange(23., 28.5, 0.25)\n",
    "                elif inj_type == 'swave':\n",
    "                    inj_absc[pri][inj_type][br] = np.arange(-28., -24.75, 0.25)\n",
    "\n",
    "            interp_data[pri][inj_type][br] = interp1d(\n",
    "                m_chi_absc[pri][inj_type][br],\n",
    "                np.log10(data[pri][inj_type][br]),\n",
    "                kind='slinear', axis=0\n",
    "            )             \n",
    "                    \n",
    "                    "
   ]
  },
  {
   "cell_type": "code",
   "execution_count": 311,
   "metadata": {},
   "outputs": [
    {
     "data": {
      "text/plain": [
       "<matplotlib.contour.QuadContourSet at 0x186ef76518>"
      ]
     },
     "execution_count": 311,
     "metadata": {},
     "output_type": "execute_result"
    },
    {
     "data": {
      "image/png": "[encoded data removed]",
      "text/plain": [
       "<Figure size 620x620 with 1 Axes>"
      ]
     },
     "metadata": {},
     "output_type": "display_data"
    }
   ],
   "source": [
    "from scipy.interpolate import pchip_interpolate\n",
    "\n",
    "mDM_fine_arr = np.arange(6.01, 12., 0.15)\n",
    "tau_fine_arr = np.arange(-30.5,-24.5, 0.15)\n",
    "\n",
    "data_mDM_fine = interp_data['elec']['swave']['std'](mDM_fine_arr)\n",
    "\n",
    "data_mDM_fine_interp = interp1d(inj_absc['elec']['swave']['std'], data_mDM_fine, kind='slinear')\n",
    "\n",
    "plot_data = data_mDM_fine_interp(tau_fine_arr)\n",
    "\n",
    "\n",
    "plt.figure()\n",
    "\n",
    "plt.loglog()\n",
    "\n",
    "plt.contour(\n",
    "    10**mDM_fine_arr, 10**tau_fine_arr, \n",
    "    np.transpose(plot_data), \n",
    "    levels=[np.log10(Tm_max)], colors='C0'\n",
    ")\n",
    "plt.contour(\n",
    "    10**mDM_fine_arr, 10**tau_fine_arr, \n",
    "    np.transpose(plot_data),\n",
    "    levels=[np.log10(Tm_max)], colors='C1'\n",
    ")\n",
    "\n",
    "\n"
   ]
  },
  {
   "cell_type": "markdown",
   "metadata": {},
   "source": [
    "### Structure Formation"
   ]
  },
  {
   "cell_type": "markdown",
   "metadata": {},
   "source": [
    "# Scan through $m_\\chi$ and $\\tau$ or $\\sigma v$"
   ]
  },
  {
   "cell_type": "markdown",
   "metadata": {},
   "source": [
    "## swave annihilation"
   ]
  },
  {
   "cell_type": "markdown",
   "metadata": {},
   "source": [
    "Specify type of injection (swave or decay) and products ($e^+e^-$ or $\\gamma\\gamma$)"
   ]
  },
  {
   "cell_type": "code",
   "execution_count": 417,
   "metadata": {},
   "outputs": [],
   "source": [
    "inj_particle = 'electron'\n",
    "inj_str = inj_particle[:4]\n",
    "inj_type = 'swave'\n",
    "\n",
    "if inj_type == 'swave':\n",
    "    struct_boost = phys.struct_boost_func()\n",
    "    struct_func = struct_boost\n",
    "else:\n",
    "    def struct_boost(rs):\n",
    "        return 1\n",
    "    struct_func = None\n",
    "    \n",
    "if inj_particle == 'photon':\n",
    "    mass = 0\n",
    "    coarsen_factor=4\n",
    "else:\n",
    "    mass = phys.me\n",
    "    coarsen_factor=12\n",
    "\n",
    "rs_init = 3000"
   ]
  },
  {
   "cell_type": "markdown",
   "metadata": {},
   "source": [
    "Given a dark matter mass and $\\tau$ or $\\sigma v$, calculate $T(z=17.2)$."
   ]
  },
  {
   "cell_type": "code",
   "execution_count": 418,
   "metadata": {},
   "outputs": [],
   "source": [
    "def get_T(mDM, log10_p, backreaction):\n",
    "    if inj_type == 'decay':\n",
    "        Einj = mDM/2-mass\n",
    "        Ecom=mDM\n",
    "    if inj_type == 'swave':\n",
    "        Einj = mDM - mass\n",
    "        Ecom = 2*mDM\n",
    "        \n",
    "    if inj_particle == 'photon':\n",
    "        primary = 'phot_delta'\n",
    "    else:\n",
    "        primary = 'elec_delta'\n",
    "\n",
    "    def rate_func_N(rs):\n",
    "        return phys.inj_rate(inj_type, rs, mDM=mDM, tau=10**log10_p, sigmav=10**log10_p*mDM/1e9)*struct_boost(rs)/Ecom\n",
    "    def rate_func_eng(rs):\n",
    "        return phys.inj_rate(inj_type, rs, mDM=mDM, tau=10**log10_p, sigmav=10**log10_p*mDM/1e9)*struct_boost(rs)\n",
    "\n",
    "    a = main.evolve(\n",
    "            primary=primary,\n",
    "            rate_func_N=rate_func_N, rate_func_eng=rate_func_eng,\n",
    "            DM_process=inj_type, mDM=mDM, sigmav=10**log10_p*mDM/1e9, lifetime=10**log10_p,\n",
    "            start_rs = 3000, end_rs=end_rs,\n",
    "            coarsen_factor=coarsen_factor, backreaction=backreaction,\n",
    "            struct_boost=struct_boost\n",
    "    )\n",
    "    return a['Tm'][-1]/phys.kB"
   ]
  },
  {
   "cell_type": "markdown",
   "metadata": {},
   "source": [
    "Set up a $(m_\\chi, \\tau \\text{ or } \\sigma v)$ grid over which to scan"
   ]
  },
  {
   "cell_type": "code",
   "execution_count": 419,
   "metadata": {},
   "outputs": [],
   "source": [
    "%autoreload\n",
    "step = .25\n",
    "if inj_particle == 'photon':\n",
    "    mbnds = [4,12.5]\n",
    "    log10mDM_arr = np.arange(mbnds[0], mbnds[1], step)\n",
    "\n",
    "    if inj_type == 'decay':\n",
    "        parambnds = [23,28.25 + step] #tau\n",
    "        param_guess = 27\n",
    "    else:\n",
    "        parambnds = [-28,-25 + step] # sigma v / mDM\n",
    "        param_guess = -26.5\n",
    "else:\n",
    "    mbnds = [6.01,12.51]\n",
    "    log10mDM_arr = np.arange(mbnds[0], mbnds[1], step)\n",
    "\n",
    "    if inj_type == 'decay':\n",
    "        parambnds = [24,28.25 + step]\n",
    "        param_guess = 27\n",
    "    else:    \n",
    "        parambnds = [-30.5,-24.5 + step]\n",
    "        param_guess = -26\n",
    "    \n",
    "log10_param = np.arange(parambnds[0], parambnds[1], step)"
   ]
  },
  {
   "cell_type": "markdown",
   "metadata": {},
   "source": [
    "Conduct the scan without back-reaction.\n",
    "\n",
    "Loop a grid of $E_\\text{inj}$ values, $E^i_\\text{inj}$.  \n",
    "For the first grid value, $E^0_\\text{inj}$, provide a guess (`param_guess`) for the $\\tau$ or $\\langle \\sigma v \\rangle$ that leads to $T_m(z=17.2)$ attaining its bound.  If the guess led to $T_m(z=17.2) > T_\\text{bnd}$, increase $\\tau$ or decrease $\\langle \\sigma v \\rangle$.  If $T_m(z=17.2) < T_\\text{bnd}$, decrease $\\tau$ or increase $\\langle \\sigma v \\rangle$.  Repeat this process until $T_m(z=17.2)$ crosses the bound once.\n",
    "\n",
    "For the next injection energies set `param_guess` to the value that $\\tau$ or $\\langle \\sigma v \\rangle$ arrived at in the previous step and repeat."
   ]
  },
  {
   "cell_type": "code",
   "execution_count": 420,
   "metadata": {
    "scrolled": true
   },
   "outputs": [],
   "source": [
    "user = 'hongwan'\n",
    "%autoreload\n",
    "download_T = True\n",
    "if download_T:\n",
    "    T_IGM_17_std = pickle.load(open('/Users/'+user+'/Dropbox (MIT)/Photon Deposition/Gregs_Checks/T_IGM_17_'+\n",
    "             inj_str+'_'+inj_type+'_std_coarsen'+str(coarsen_factor)+'.dat','rb'))\n",
    "else:\n",
    "    T_IGM_17_std = np.zeros((log10mDM_arr.size, log10_param.size))\n",
    "\n",
    "    for i, log10mDM in enumerate(tqdm(log10mDM_arr)):\n",
    "        print('log10(mDM): ', log10mDM)\n",
    "        mDM = 10**log10mDM\n",
    "        j=len(log10_param[log10_param < param_guess])\n",
    "        above=False\n",
    "        below=False\n",
    "\n",
    "        while((not below) or (not above)):\n",
    "            log10_p = log10_param[j]\n",
    "            print('log10(param): ', log10_p)\n",
    "\n",
    "            T_std = get_T(mDM, log10_p, backreaction=False)\n",
    "            T_IGM_17_std[i,j] = T_std\n",
    "            print('T_0 [K]: ', T_std)\n",
    "\n",
    "            if T_std > Tm_bnd:\n",
    "                above = True\n",
    "                print(\"T_std Above Threshold\")\n",
    "                if inj_type == 'swave':\n",
    "                    j = j-1\n",
    "                else:\n",
    "                    j = j+1\n",
    "            else:\n",
    "                below = True\n",
    "                print(\"T_std Below Threshold\")\n",
    "                if inj_type == 'swave':\n",
    "                    j = j+1\n",
    "                else:\n",
    "                    j = j-1\n",
    "\n",
    "            param_guess = log10_p        \n",
    "\n",
    "    pickle.dump(\n",
    "        T_IGM_17_std, \n",
    "        open('/Users/'+user+'/Dropbox (MIT)/Photon Deposition/Gregs_Checks/T_IGM_17_'+\n",
    "             inj_str+'_'+inj_type+'_std_coarsen'+str(coarsen_factor)+'.dat','wb')\n",
    "    )"
   ]
  },
  {
   "cell_type": "markdown",
   "metadata": {},
   "source": [
    "Linearly interpolate over the parameter values to find the $\\tau$ or $\\sigma$ that saturates the $T_m(z=17.2)$ bound."
   ]
  },
  {
   "cell_type": "code",
   "execution_count": 421,
   "metadata": {},
   "outputs": [
    {
     "name": "stdout",
     "output_type": "stream",
     "text": [
      "20.316151537057852\n"
     ]
    }
   ],
   "source": [
    "print(Tm_max)\n",
    "def find_param(Tlist):\n",
    "    if inj_type == 'swave':\n",
    "        above = np.where((Tlist > 0) & (Tlist > Tm_max))[0][0]\n",
    "        below = above-1\n",
    "    else:\n",
    "        above = np.where((Tlist > 0) & (Tlist > Tm_max))[0][-1]\n",
    "        below = above+1\n",
    "    Ts = [Tlist[below], Tlist[above]]\n",
    "    ps = [log10_param[below], log10_param[above]]\n",
    "    return (np.diff(ps)/np.diff(Ts)*(Tm_max-Ts[0]) + ps[0])[0]\n",
    "\n",
    "thresh_params_std = np.array(\n",
    "    [find_param(row) for row in T_IGM_17_std]\n",
    ")"
   ]
  },
  {
   "cell_type": "markdown",
   "metadata": {},
   "source": [
    "Conduct the scan with back-reaction"
   ]
  },
  {
   "cell_type": "code",
   "execution_count": 422,
   "metadata": {},
   "outputs": [],
   "source": [
    "%autoreload\n",
    "download_T = True\n",
    "if download_T:\n",
    "    T_IGM_17_BR = pickle.load(open('/Users/'+user+'/Dropbox (MIT)/Photon Deposition/Gregs_Checks/T_IGM_17_'+\n",
    "             inj_str+'_'+inj_type+'_BR_coarsen'+str(coarsen_factor)+'.dat','rb'))\n",
    "else:\n",
    "    T_IGM_17_BR = np.zeros((log10mDM_arr.size, log10_param.size))\n",
    "    param_guess = thresh_params_std[0]\n",
    "\n",
    "    for i, log10mDM in enumerate(tqdm(log10mDM_arr)):\n",
    "        print('log10(mDM): ', log10mDM)\n",
    "        mDM = 10**log10mDM\n",
    "        j=len(log10_param[log10_param < param_guess])\n",
    "        above=False\n",
    "        below=False\n",
    "\n",
    "        while((not below) or (not above)):\n",
    "            log10_p = log10_param[j]\n",
    "            print('log10(param): ', log10_p)\n",
    "\n",
    "            T_BR = get_T(mDM, log10_p, backreaction=True)\n",
    "            T_IGM_17_BR[i,j] = T_BR\n",
    "            print('T_0 [K]: ', T_BR)\n",
    "\n",
    "            if T_BR > Tm_bnd:\n",
    "                above = True\n",
    "                print(\"T_BR Above Threshold\")\n",
    "                if inj_type == 'swave':\n",
    "                    j = j-1\n",
    "                else:\n",
    "                    j = j+1\n",
    "            else:\n",
    "                below = True\n",
    "                print(\"T_BR Below Threshold\")\n",
    "                if inj_type == 'swave':\n",
    "                    j = j+1\n",
    "                else:\n",
    "                    j = j-1\n",
    "            param_guess = log10_p\n",
    "\n",
    "\n",
    "    pickle.dump(\n",
    "        T_IGM_17_BR, \n",
    "        open('/Users/gridgway/Dropbox (MIT)/Photon Deposition/Gregs_Checks/T_IGM_17_'+\n",
    "             inj_str+'_'+inj_type+'_BR_coarsen'+str(coarsen_factor)+'.dat','wb')\n",
    "    )"
   ]
  },
  {
   "cell_type": "markdown",
   "metadata": {},
   "source": [
    "Find the $\\tau$ or $\\sigma$ that saturates the $T_m(z=17.2)$ bound when including backreaction."
   ]
  },
  {
   "cell_type": "code",
   "execution_count": 423,
   "metadata": {},
   "outputs": [],
   "source": [
    "thresh_params_BR = np.array(\n",
    "    [find_param(row) for row in T_IGM_17_BR]\n",
    ")"
   ]
  },
  {
   "cell_type": "markdown",
   "metadata": {},
   "source": [
    "### Plots"
   ]
  },
  {
   "cell_type": "markdown",
   "metadata": {},
   "source": [
    "Make an interpolation function for the points $(m_\\text{DM}, \\tau_\\text{min})$ or $(m_\\text{DM}, \\sigma_\\text{max})$ with and without backreaction."
   ]
  },
  {
   "cell_type": "code",
   "execution_count": 424,
   "metadata": {},
   "outputs": [],
   "source": [
    "thresh_params_BR = np.array([find_param(row) for row in T_IGM_17_BR])\n",
    "\n",
    "std_interp = interp1d(log10mDM_arr, thresh_params_std, kind='quadratic')\n",
    "BR_interp = interp1d(log10mDM_arr, thresh_params_BR, kind='quadratic')\n",
    "\n",
    "log10mDM_arr_fine = np.arange(log10mDM_arr[0], log10mDM_arr[-1], .01)"
   ]
  },
  {
   "cell_type": "code",
   "execution_count": 425,
   "metadata": {},
   "outputs": [
    {
     "data": {
      "image/png": "[encoded data removed]",
      "text/plain": [
       "<Figure size 620x620 with 1 Axes>"
      ]
     },
     "metadata": {},
     "output_type": "display_data"
    }
   ],
   "source": [
    "plt.figure()\n",
    "ax = plt.gca()\n",
    "ax.loglog()\n",
    "\n",
    "xmin = 10**log10mDM_arr_fine[0]/1e9\n",
    "xmax = 10**log10mDM_arr_fine[-1]/1e9\n",
    "\n",
    "if inj_particle=='electron':\n",
    "    if inj_type == 'swave':\n",
    "        plt.title(r'\\bf{21-cm Sensitivity,} $\\chi \\chi \\to e^+ e^-$')\n",
    "        ymin = 5e-29\n",
    "        ymax = 1e-25\n",
    "    else:\n",
    "        plt.title(r'\\bf{21-cm Sensitivity,} $\\chi \\to e^+ e^-$')\n",
    "        ymin = 1e24\n",
    "        ymax = 5e28\n",
    "else:\n",
    "    if inj_type == 'swave':\n",
    "        plt.title(r'\\bf{21-cm Sensitivity,} $\\chi\\chi \\to \\gamma\\gamma$')\n",
    "        ymin = 3e-27\n",
    "        ymax = 1.5e-25\n",
    "    else:\n",
    "        plt.title(r'\\bf{21-cm Sensitivity,} $\\chi \\to \\gamma\\gamma$')\n",
    "        ymin = 2e23\n",
    "        ymax = 4e26\n",
    "    \n",
    "plt.xlabel(r'Dark Matter Mass $m_\\chi$ [GeV]')\n",
    "if inj_type == 'swave':\n",
    "    plt.ylabel(r'Maximum $\\langle \\sigma v \\rangle / m_\\chi$ [cm$^3$ s$^{-1}$ GeV$^{-1}$]')\n",
    "else:\n",
    "    plt.ylabel(r'Minimum Lifetime $\\tau \\, [\\mathrm{s}]$')\n",
    "    \n",
    "plt.axis([xmin, xmax, ymin, ymax])\n",
    "\n",
    "plt_std, = plt.plot(10**log10mDM_arr_fine/1e9, 10**std_interp(log10mDM_arr_fine), \n",
    "        linewidth=1, label='No Backreaction', color='#6a176e', linestyle='--')\n",
    "plt_BR, = plt.plot(10**log10mDM_arr_fine/1e9, 10**BR_interp(log10mDM_arr_fine), \n",
    "         linewidth=3, label='With Backreaction', color='#f37819')\n",
    "\n",
    "ax.fill_between(\n",
    "    10**log10mDM_arr_fine/1e9, \n",
    "    1e-15, \n",
    "    (10**std_interp(log10mDM_arr_fine)), \n",
    "    interpolate=True, \n",
    "    color='#6a176e',\n",
    "    alpha=0.2\n",
    ")\n",
    "\n",
    "ax.fill_between(\n",
    "    10**log10mDM_arr_fine/1e9, \n",
    "    1e-15, \n",
    "    (10**BR_interp(log10mDM_arr_fine)), \n",
    "    interpolate=True, \n",
    "    color='#f37819',\n",
    "    alpha=.1\n",
    ")\n",
    "\n",
    "if inj_type == 'swave':\n",
    "    plt.text(0.52, 0.22, r'$T_{21}$ = $-50$ mK', fontsize=20, transform=ax.transAxes) \n",
    "else:\n",
    "    plt.text(0.49, 0.89, r'$T_{21}$ = $-50$ mK', fontsize=20, transform=ax.transAxes)\n",
    "\n",
    "if inj_type == 'swave':\n",
    "    leg = plt.legend(handles=[plt_std, plt_BR])\n",
    "else:\n",
    "    leg = plt.legend(handles=[plt_std, plt_BR], loc=(0.4, 0.72))\n",
    "plt.show()\n",
    "\n",
    "# plt.savefig('/Users/gridgway/Dropbox (MIT)/Photon Deposition/Draft/plots/'+\n",
    "#             'DarkHistory_21cm_Sensitivity_'+inj_type+'_'+inj_str+'.png')"
   ]
  },
  {
   "cell_type": "code",
   "execution_count": 369,
   "metadata": {},
   "outputs": [
    {
     "name": "stdout",
     "output_type": "stream",
     "text": [
      "[[-30.5          0.           0.        ]\n",
      " [-30.25         0.           0.        ]\n",
      " [-30.           0.           0.        ]\n",
      " [-29.75         0.           0.        ]\n",
      " [-29.5          0.           0.        ]\n",
      " [-29.25         0.           0.        ]\n",
      " [-29.           0.           0.        ]\n",
      " [-28.75         0.           0.        ]\n",
      " [-28.5          0.           0.        ]\n",
      " [-28.25         0.           0.        ]\n",
      " [-28.          15.3936982    0.        ]\n",
      " [-27.75        23.08364571  18.91727621]\n",
      " [-27.5         38.10474271  27.85666741]\n",
      " [-27.25         0.          43.41250838]\n",
      " [-27.           0.           0.        ]\n",
      " [-26.75         0.           0.        ]\n",
      " [-26.5          0.           0.        ]\n",
      " [-26.25         0.           0.        ]\n",
      " [-26.           0.           0.        ]\n",
      " [-25.75         0.           0.        ]\n",
      " [-25.5          0.           0.        ]\n",
      " [-25.25         0.           0.        ]\n",
      " [-25.           0.           0.        ]\n",
      " [-24.75         0.           0.        ]\n",
      " [-24.5          0.           0.        ]]\n"
     ]
    }
   ],
   "source": []
  },
  {
   "cell_type": "code",
   "execution_count": 338,
   "metadata": {},
   "outputs": [
    {
     "data": {
      "text/plain": [
       "array([ 0.        ,  0.        ,  0.        ,  0.        ,  0.        ,\n",
       "        0.        ,  0.        ,  0.        ,  0.        ,  0.        ,\n",
       "        0.        ,  0.        ,  0.        , 17.85212034, 25.38661117,\n",
       "       38.20232101,  0.        ,  0.        ,  0.        ,  0.        ,\n",
       "        0.        ,  0.        ,  0.        ,  0.        ,  0.        ])"
      ]
     },
     "execution_count": 338,
     "metadata": {},
     "output_type": "execute_result"
    }
   ],
   "source": []
  },
  {
   "cell_type": "code",
   "execution_count": null,
   "metadata": {},
   "outputs": [],
   "source": []
  }
 ],
 "metadata": {
  "cite2c": {
   "citations": {
    "6232408/9ZW7JWLJ": {
     "URL": "https://www.nature.com/articles/nature25792",
     "accessed": {
      "day": 1,
      "month": 4,
      "year": 2019
     },
     "id": "6232408/9ZW7JWLJ",
     "title": "An absorption profile centred at 78 megahertz in the sky-averaged spectrum | Nature",
     "type": "webpage"
    },
    "6232408/FH99AISX": {
     "DOI": "10.1038/nature25792",
     "URL": "https://www.nature.com/articles/nature25792",
     "abstract": "After stars formed in the early Universe, their ultraviolet light is expected, eventually, to have penetrated the primordial hydrogen gas and altered the excitation state of its 21-centimetre hyperfine line. This alteration would cause the gas to absorb photons from the cosmic microwave background, producing a spectral distortion that should be observable today at radio frequencies of less than 200 megahertz1. Here we report the detection of a flattened absorption profile in the sky-averaged radio spectrum, which is centred at a frequency of 78 megahertz and has a best-fitting full-width at half-maximum of 19 megahertz and an amplitude of 0.5 kelvin. The profile is largely consistent with expectations for the 21-centimetre signal induced by early stars; however, the best-fitting amplitude of the profile is more than a factor of two greater than the largest predictions2. This discrepancy suggests that either the primordial gas was much colder than expected or the background radiation temperature was hotter than expected. Astrophysical phenomena (such as radiation from stars and stellar remnants) are unlikely to account for this discrepancy; of the proposed extensions to the standard model of cosmology and particle physics, only cooling of the gas as a result of interactions between dark matter and baryons seems to explain the observed amplitude3. The low-frequency edge of the observed profile indicates that stars existed and had produced a background of Lyman-α photons by 180 million years after the Big Bang. The high-frequency edge indicates that the gas was heated to above the radiation temperature less than 100 million years later.",
     "accessed": {
      "day": 1,
      "month": 4,
      "year": 2019
     },
     "author": [
      {
       "family": "Bowman",
       "given": "Judd D."
      },
      {
       "family": "Rogers",
       "given": "Alan E. E."
      },
      {
       "family": "Monsalve",
       "given": "Raul A."
      },
      {
       "family": "Mozdzen",
       "given": "Thomas J."
      },
      {
       "family": "Mahesh",
       "given": "Nivedita"
      }
     ],
     "container-title": "Nature",
     "id": "6232408/FH99AISX",
     "issue": "7694",
     "issued": {
      "month": 3,
      "year": 2018
     },
     "language": "en",
     "page": "67-70",
     "page-first": "67",
     "title": "An absorption profile centred at 78 megahertz in the sky-averaged spectrum",
     "type": "article-journal",
     "volume": "555"
    }
   }
  },
  "kernelspec": {
   "display_name": "Python 3",
   "language": "python",
   "name": "python3"
  },
  "language_info": {
   "codemirror_mode": {
    "name": "ipython",
    "version": 3
   },
   "file_extension": ".py",
   "mimetype": "text/x-python",
   "name": "python",
   "nbconvert_exporter": "python",
   "pygments_lexer": "ipython3",
   "version": "3.6.7"
  },
  "toc": {
   "base_numbering": 1,
   "nav_menu": {},
   "number_sections": true,
   "sideBar": true,
   "skip_h1_title": false,
   "title_cell": "Table of Contents",
   "title_sidebar": "Contents",
   "toc_cell": false,
   "toc_position": {},
   "toc_section_display": true,
   "toc_window_display": false
  }
 },
 "nbformat": 4,
 "nbformat_minor": 2
}
