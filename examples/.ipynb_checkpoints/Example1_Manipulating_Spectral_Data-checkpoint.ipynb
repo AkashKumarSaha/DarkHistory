{
 "cells": [
  {
   "cell_type": "markdown",
   "metadata": {},
   "source": [
    "# Example 1: Manipulating Spectral Data"
   ]
  },
  {
   "cell_type": "markdown",
   "metadata": {},
   "source": [
    "# Notebook Initialization"
   ]
  },
  {
   "cell_type": "code",
   "execution_count": 1,
   "metadata": {
    "collapsed": false
   },
   "outputs": [],
   "source": [
    "%load_ext autoreload\n",
    "import sys\n",
    "sys.path.append(\"..\")"
   ]
  },
  {
   "cell_type": "code",
   "execution_count": 46,
   "metadata": {
    "collapsed": false
   },
   "outputs": [],
   "source": [
    "%autoreload\n",
    "%matplotlib inline\n",
    "\n",
    "import matplotlib\n",
    "import matplotlib.pyplot as plt\n",
    "\n",
    "matplotlib.rcParams['figure.figsize'] = [10,10]\n",
    "\n",
    "import numpy as np\n",
    "from scipy.integrate import quad\n",
    "\n",
    "import darkhistory.physics as physics\n",
    "import darkhistory.spec.spectools as spectools\n",
    "from darkhistory.spec.spectrum import Spectrum"
   ]
  },
  {
   "cell_type": "markdown",
   "metadata": {},
   "source": [
    "## Introduction"
   ]
  },
  {
   "cell_type": "markdown",
   "metadata": {},
   "source": [
    "The manipulation of spectral data in this code is done through several specialized classes, which comes equipped with internal methods that make data manipulation easy. Functions useful for creating and manipulating these classes are provided in `spec.spectools`. "
   ]
  },
  {
   "cell_type": "markdown",
   "metadata": {},
   "source": [
    "## `Spectrum` Class - Introduction"
   ]
  },
  {
   "cell_type": "markdown",
   "metadata": {},
   "source": [
    "The most basic class that we use is the `Spectrum` class. This contains an abscissa, the spectrum values at each abscissa, as well as the redshift. \n",
    "\n",
    "To create our first `Spectrum`, we will use the function `spec.spectools.discretize`. This takes a function which returns the $dN/dE$ of a continuous spectrum (per cm$^{-3}$ is always assumed throughout this project), and produces a discretized version of it, stored in a `Spectrum` class. \n",
    "\n",
    "Our first example will be a `Spectrum` containing a CMB spectrum. `physics.CMB_spec` returns $dN/dE$ at a particular energy and temperature of the blackbody spectrum. This function can be passed to `spec.spectools.discretize` to create a `Spectrum` object."
   ]
  },
  {
   "cell_type": "code",
   "execution_count": 65,
   "metadata": {
    "collapsed": false
   },
   "outputs": [],
   "source": [
    "T = 1.5 # The temperature in eV of the CMB.\n",
    "\n",
    "def CMB_at_T(eng):\n",
    "    return physics.CMB_spec(eng, T)\n",
    "\n",
    "eng = 10**((np.arange(120)-90)*(1/10))\n",
    "discrete_CMB = spectools.discretize(CMB_at_T, eng)"
   ]
  },
  {
   "cell_type": "markdown",
   "metadata": {},
   "source": [
    "`discrete_CMB` is a `Spectrum` object. This object has several attributes, but the three most important ones are the energy abscissa `self.eng`, the $dN/dE$ value at each point `self.dNdE`, as well as the redshift (always $1+z$ in this project) `self.rs`. \n",
    "\n",
    "We can now plot the spectrum contained in `discrete_CMB` as a check. "
   ]
  },
  {
   "cell_type": "code",
   "execution_count": 66,
   "metadata": {
    "collapsed": false
   },
   "outputs": [
    {
     "data": {
      "text/plain": [
       "[1e-08, 10000.0, 1e-10, 1e+20]"
      ]
     },
     "execution_count": 66,
     "metadata": {},
     "output_type": "execute_result"
    },
    {
     "data": {
      "image/png": "[encoded data removed]",
      "text/plain": [
       "<matplotlib.figure.Figure at 0x1100dfd68>"
      ]
     },
     "metadata": {},
     "output_type": "display_data"
    }
   ],
   "source": [
    "ax = plt.subplot(1,1,1)\n",
    "plt.rc('text', usetex=True)\n",
    "\n",
    "plt.plot(discrete_CMB.eng, discrete_CMB.dNdE)\n",
    "\n",
    "ax.set_xscale('log')\n",
    "ax.set_yscale('log')\n",
    "\n",
    "plt.tick_params(axis='both', which='major', labelsize=20)\n",
    "\n",
    "plt.title('CMB Spectrum', fontsize=28)\n",
    "plt.xlabel('Photon Energy [eV]',fontsize=24)\n",
    "plt.ylabel('dN/dE [eV$^{-1}$]',fontsize=24)\n",
    "plt.axis([1e-8, 1e4, 1e-10, 1e20])"
   ]
  },
  {
   "cell_type": "markdown",
   "metadata": {},
   "source": [
    "We should also set the `rs` attribute to the correct redshift. Here, we use `physics.TCMB`, which takes in a redshift as an argument, to calculate what the redshift $1+z$ is at the temperature `T` that we selected earlier. "
   ]
  },
  {
   "cell_type": "code",
   "execution_count": 67,
   "metadata": {
    "collapsed": true
   },
   "outputs": [],
   "source": [
    "rs = T/physics.TCMB(1)\n",
    "\n",
    "discrete_CMB.rs = rs"
   ]
  },
  {
   "cell_type": "markdown",
   "metadata": {},
   "source": [
    "## `Spectrum` Class - Total Number and Total Energy"
   ]
  },
  {
   "cell_type": "markdown",
   "metadata": {},
   "source": [
    "Let's initialize a new `Spectrum` that is essentially a copy of `discrete_CMB`. "
   ]
  },
  {
   "cell_type": "code",
   "execution_count": 68,
   "metadata": {
    "collapsed": true
   },
   "outputs": [],
   "source": [
    "test_CMB = Spectrum(discrete_CMB.eng, discrete_CMB.dNdE, discrete_CMB.rs)"
   ]
  },
  {
   "cell_type": "markdown",
   "metadata": {},
   "source": [
    "To find the total number of particles stored in this spectrum, we can use the method `self.totN()`, with no arguments. This agrees with the actual numerical quadrature over the CMB spectrum given by `physics.CMB_spec` from `eng[0]` to `eng[-1]`, since this is how `spectools.discretize` calculates the spectrum."
   ]
  },
  {
   "cell_type": "code",
   "execution_count": 74,
   "metadata": {
    "collapsed": false
   },
   "outputs": [
    {
     "name": "stdout",
     "output_type": "stream",
     "text": [
      "# of Particles stored in test_CMB:  1.06996520625e+14\n",
      "# of Particles by quadrature:  106996520624887.56\n"
     ]
    }
   ],
   "source": [
    "print('# of Particles stored in test_CMB: ', test_CMB.totN())\n",
    "print('# of Particles by quadrature: ',\n",
    "     quad(CMB_at_T, eng[0], eng[-1])[0])"
   ]
  }
 ],
 "metadata": {
  "anaconda-cloud": {},
  "kernelspec": {
   "display_name": "Python [conda env:python3]",
   "language": "python",
   "name": "conda-env-python3-py"
  },
  "language_info": {
   "codemirror_mode": {
    "name": "ipython",
    "version": 3
   },
   "file_extension": ".py",
   "mimetype": "text/x-python",
   "name": "python",
   "nbconvert_exporter": "python",
   "pygments_lexer": "ipython3",
   "version": "3.5.2"
  }
 },
 "nbformat": 4,
 "nbformat_minor": 1
}
