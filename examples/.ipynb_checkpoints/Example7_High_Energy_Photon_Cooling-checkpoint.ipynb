{
 "cells": [
  {
   "cell_type": "markdown",
   "metadata": {},
   "source": [
    "# High Energy Photon Cooling"
   ]
  },
  {
   "cell_type": "markdown",
   "metadata": {},
   "source": [
    "In this notebook, we demonstrate how the high energy photon cooling works and run some cross checks. "
   ]
  },
  {
   "cell_type": "markdown",
   "metadata": {},
   "source": [
    "## Initialization"
   ]
  },
  {
   "cell_type": "code",
   "execution_count": 1,
   "metadata": {},
   "outputs": [],
   "source": [
    "%load_ext autoreload\n",
    "import sys\n",
    "sys.path.append(\"..\")"
   ]
  },
  {
   "cell_type": "code",
   "execution_count": 2,
   "metadata": {},
   "outputs": [],
   "source": [
    "%autoreload\n",
    "\n",
    "import matplotlib\n",
    "matplotlib.rc_file('matplotlibrc')\n",
    "import matplotlib.pyplot as plt\n",
    "\n",
    "%matplotlib inline\n",
    "\n",
    "matplotlib.rcParams['figure.figsize'] = [10,10]\n",
    "\n",
    "\n",
    "from astropy.io import fits\n",
    "\n",
    "import numpy as np\n",
    "import copy\n",
    "import pickle\n",
    "\n",
    "import darkhistory.physics as phys\n",
    "import darkhistory.utilities as utils\n",
    "import darkhistory.spec.spectools as spectools\n",
    "import darkhistory.spec.transferfunction as tf\n",
    "from darkhistory.spec.spectrum import Spectrum\n",
    "from darkhistory.spec.spectra import Spectra\n",
    "import darkhistory.history.tla as tla\n",
    "\n",
    "from darkhistory.electrons.ics.ics_spectrum import ics_spec\n",
    "from darkhistory.electrons.ics.ics_engloss_spectrum import engloss_spec\n",
    "from darkhistory.electrons.ics.ics_cooling import get_ics_cooling_tf\n",
    "\n",
    "np.set_printoptions(threshold=np.nan)"
   ]
  },
  {
   "cell_type": "markdown",
   "metadata": {},
   "source": [
    "## Load Reference Results"
   ]
  },
  {
   "cell_type": "code",
   "execution_count": 3,
   "metadata": {},
   "outputs": [],
   "source": [
    "eng_ind = 299\n",
    "\n",
    "# Check that this matches with the input \n",
    "\n",
    "file_name = {99: \"/Users/hongwan/Dropbox (MIT)/Photon Deposition/tf_z_3.100E+01_nstep_2049_logE_5.328E+00_xe_1.000E-04.fits\",\n",
    "            199: \"/Users/hongwan/Dropbox (MIT)/Photon Deposition/tf_z_3.100E+01_nstep_2049_logE_7.183E+00_xe_1.000E-04.fits\",\n",
    "            298: \"/Users/hongwan/Dropbox (MIT)/Photon Deposition/tf_z_3.100E+01_nstep_2049_logE_9.020E+00_xe_1.000E-04.fits\",\n",
    "            299: \"/Users/hongwan/Dropbox (MIT)/Photon Deposition/tf_z_3.100E+01_nstep_2049_logE_9.038E+00_xe_1.000E-04.fits\", \n",
    "            399: \"/Users/hongwan/Dropbox (MIT)/Photon Deposition/tf_z_3.100E+01_nstep_2049_logE_1.089E+01_xe_1.000E-04.fits\",\n",
    "            499: \"/Users/hongwan/Dropbox (MIT)/Photon Deposition/tf_z_3.100E+01_nstep_2049_logE_1.275E+01_xe_1.000E-04.fits\",\n",
    "            2993: \"/Users/hongwan/Dropbox (MIT)/Photon Deposition/tf_z_3.100E+01_nstep_18_logE_9.038E+00_xe_1.000E-04.fits\"}\n",
    "\n",
    "file = fits.open(file_name[eng_ind])\n",
    "\n",
    "file_eng = file[1].data['energy'][0,:]\n",
    "file_rs = file[1].data['redshift'][0,:]\n",
    "file_photonspectrum = file[1].data['photonspectrum'][0,:,:]"
   ]
  },
  {
   "cell_type": "code",
   "execution_count": 4,
   "metadata": {},
   "outputs": [],
   "source": [
    "file_spectra = Spectra([Spectrum(file_eng, photspec, rs=rs) \n",
    "                   for photspec,rs in zip(file_photonspectrum, file_rs)])"
   ]
  },
  {
   "cell_type": "markdown",
   "metadata": {},
   "source": [
    "## Photon Cooling"
   ]
  },
  {
   "cell_type": "markdown",
   "metadata": {},
   "source": [
    "Now we cool the photons that result from the high energy photon injection. Photons below 3.1 keV are considered low energy photons. For high energy photons, greater than 3.1 keV, we have transfer functions (a function of *both* injected photon energy and redshift, so they are given as a `TransFuncList`), into high energy photons, low energy photons and low energy electrons. Let's load them first."
   ]
  },
  {
   "cell_type": "code",
   "execution_count": 5,
   "metadata": {},
   "outputs": [],
   "source": [
    "user = 'hongwan'\n",
    "\n",
    "highengphot_tflist = pickle.load(open(\"/Users/\"+user+\"/Dropbox (MIT)/Photon Deposition/tfunclist_photspec.raw\", \"rb\"))\n",
    "lowengphot_tflist  = pickle.load(open(\"/Users/\"+user+\"/Dropbox (MIT)/Photon Deposition/tfunclist_lowengphotspec.raw\", \"rb\"))\n",
    "lowengelec_tflist  = pickle.load(open(\"/Users/\"+user+\"/Dropbox (MIT)/Photon Deposition/tfunclist_lowengelecspec.raw\", \"rb\"))\n",
    "highengphot_tflist_before = pickle.load(open(\"/Users/\"+user+\"/Dropbox (MIT)/Photon Deposition/tfunclist_photspec.raw\", \"rb\"))\n",
    "\n",
    "# Changes all of the tflists to TransFuncAtRedshift\n",
    "highengphot_tflist.transpose()\n",
    "highengphot_tflist_before.transpose()\n",
    "lowengphot_tflist.transpose()\n",
    "lowengelec_tflist.transpose()\n",
    "\n",
    "# This is a list of mwimp values used to generate highengphot_tflist\n",
    "mwimp_arr = np.array(highengphot_tflist.in_eng)\n",
    "\n",
    "# This shouldn't be necessary. There is one negative value somewhere. Check.\n",
    "for tf in highengphot_tflist:\n",
    "    tf.grid_vals[np.where(tf.grid_vals < 0)] = 1e-100\n",
    "for tf in highengphot_tflist_before:\n",
    "    tf.grid_vals[np.where(tf.grid_vals < 0)] = 1e-100\n",
    "for tf in lowengphot_tflist:\n",
    "    tf.grid_vals[np.where(tf.grid_vals < 0)] = 1e-100"
   ]
  },
  {
   "cell_type": "code",
   "execution_count": 6,
   "metadata": {},
   "outputs": [],
   "source": [
    "# for i,tf in enumerate(highengphot_tflist_before):\n",
    "#     print(i)\n",
    "#     np.log(highengphot_tflist_before[i]._grid_vals)\n",
    "\n",
    "# for i,spec in enumerate(highengphot_tflist_before[11]._grid_vals):\n",
    "#     print(i)\n",
    "#     np.log(spec)\n",
    "    \n",
    "# print(highengphot_tflist_before[11]._grid_vals[499,:])"
   ]
  },
  {
   "cell_type": "markdown",
   "metadata": {
    "collapsed": true
   },
   "source": [
    "## Inputs"
   ]
  },
  {
   "cell_type": "code",
   "execution_count": 18,
   "metadata": {},
   "outputs": [],
   "source": [
    "eleceng = np.logspace( 1, 13, 500)\n",
    "photeng = np.logspace(-4, 13, 500)\n",
    "# photeng = highengphot_tflist.in_eng[1::3]\n",
    "phot_spec_init = spectools.rebin_N_arr(np.array([2]), \n",
    "                                      np.array([mwimp_arr[eng_ind]]),\n",
    "                                      photeng)\n",
    "phot_spec_init.switch_spec_type()"
   ]
  },
  {
   "cell_type": "code",
   "execution_count": 19,
   "metadata": {},
   "outputs": [
    {
     "data": {
      "text/plain": [
       "array([1.00000000e-04, 1.08160363e-04, 1.16986641e-04, 1.26533176e-04,\n",
       "       1.36858742e-04, 1.48026913e-04, 1.60106446e-04, 1.73171713e-04,\n",
       "       1.87303154e-04, 2.02587771e-04, 2.19119669e-04, 2.37000629e-04,\n",
       "       2.56340741e-04, 2.77259076e-04, 2.99884423e-04, 3.24356081e-04,\n",
       "       3.50824714e-04, 3.79453285e-04, 4.10418050e-04, 4.43909653e-04,\n",
       "       4.80134292e-04, 5.19314994e-04, 5.61692982e-04, 6.07529169e-04,\n",
       "       6.57105755e-04, 7.10727970e-04, 7.68725952e-04, 8.31456781e-04,\n",
       "       8.99306672e-04, 9.72693362e-04, 1.05206867e-03, 1.13792129e-03,\n",
       "       1.23077980e-03, 1.33121590e-03, 1.43984795e-03, 1.55734477e-03,\n",
       "       1.68442976e-03, 1.82188534e-03, 1.97055780e-03, 2.13136247e-03,\n",
       "       2.30528939e-03, 2.49340937e-03, 2.69688063e-03, 2.91695588e-03,\n",
       "       3.15499006e-03, 3.41244871e-03, 3.69091691e-03, 3.99210913e-03,\n",
       "       4.31787973e-03, 4.67023439e-03, 5.05134247e-03, 5.46355035e-03,\n",
       "       5.90939590e-03, 6.39162405e-03, 6.91320378e-03, 7.47734631e-03,\n",
       "       8.08752491e-03, 8.74749630e-03, 9.46132376e-03, 1.02334021e-02,\n",
       "       1.10684849e-02, 1.19717134e-02, 1.29486487e-02, 1.40053055e-02,\n",
       "       1.51481892e-02, 1.63843365e-02, 1.77213578e-02, 1.91674849e-02,\n",
       "       2.07316213e-02, 2.24233968e-02, 2.42532274e-02, 2.62323788e-02,\n",
       "       2.83730362e-02, 3.06883789e-02, 3.31926620e-02, 3.59013038e-02,\n",
       "       3.88309805e-02, 4.19997295e-02, 4.54270599e-02, 4.91340729e-02,\n",
       "       5.31435916e-02, 5.74803016e-02, 6.21709029e-02, 6.72442742e-02,\n",
       "       7.27316511e-02, 7.86668179e-02, 8.50863158e-02, 9.20296681e-02,\n",
       "       9.95396231e-02, 1.07662418e-01, 1.16448062e-01, 1.25950646e-01,\n",
       "       1.36228676e-01, 1.47345431e-01, 1.59369353e-01, 1.72374471e-01,\n",
       "       1.86440853e-01, 2.01655104e-01, 2.18110892e-01, 2.35909533e-01,\n",
       "       2.55160607e-01, 2.75982639e-01, 2.98503825e-01, 3.22862820e-01,\n",
       "       3.49209598e-01, 3.77706369e-01, 4.08528580e-01, 4.41865996e-01,\n",
       "       4.77923865e-01, 5.16924187e-01, 5.59107078e-01, 6.04732245e-01,\n",
       "       6.54080591e-01, 7.07455942e-01, 7.65186915e-01, 8.27628946e-01,\n",
       "       8.95166472e-01, 9.68215306e-01, 1.04722519e+00, 1.13268257e+00,\n",
       "       1.22511358e+00, 1.32508729e+00, 1.43321923e+00, 1.55017512e+00,\n",
       "       1.67667503e+00, 1.81349780e+00, 1.96148581e+00, 2.12155017e+00,\n",
       "       2.29467637e+00, 2.48193029e+00, 2.68446481e+00, 2.90352688e+00,\n",
       "       3.14046522e+00, 3.39673858e+00, 3.67392478e+00, 3.97373038e+00,\n",
       "       4.29800121e+00, 4.64873371e+00, 5.02808725e+00, 5.43839743e+00,\n",
       "       5.88219040e+00, 6.36219849e+00, 6.88137699e+00, 7.44292233e+00,\n",
       "       8.05029181e+00, 8.70722485e+00, 9.41776601e+00, 1.01862899e+01,\n",
       "       1.10175281e+01, 1.19165984e+01, 1.28890361e+01, 1.39408283e+01,\n",
       "       1.50784505e+01, 1.63089068e+01, 1.76397728e+01, 1.90792422e+01,\n",
       "       2.06361777e+01, 2.23201647e+01, 2.41415712e+01, 2.61116110e+01,\n",
       "       2.82424133e+01, 3.05470967e+01, 3.30398507e+01, 3.57360225e+01,\n",
       "       3.86522116e+01, 4.18063724e+01, 4.52179242e+01, 4.89078709e+01,\n",
       "       5.28989308e+01, 5.72156756e+01, 6.18846824e+01, 6.69346971e+01,\n",
       "       7.23968114e+01, 7.83046540e+01, 8.46945981e+01, 9.16059848e+01,\n",
       "       9.90813657e+01, 1.07166765e+02, 1.15911962e+02, 1.25370799e+02,\n",
       "       1.35601511e+02, 1.46667087e+02, 1.58635653e+02, 1.71580899e+02,\n",
       "       1.85582523e+02, 2.00726730e+02, 2.17106760e+02, 2.34823460e+02,\n",
       "       2.53985907e+02, 2.74712079e+02, 2.97129582e+02, 3.21376434e+02,\n",
       "       3.47601918e+02, 3.75967497e+02, 4.06647809e+02, 4.39831747e+02,\n",
       "       4.75723614e+02, 5.14544388e+02, 5.56533078e+02, 6.01948197e+02,\n",
       "       6.51069356e+02, 7.04198979e+02, 7.61664172e+02, 8.23818733e+02,\n",
       "       8.91045332e+02, 9.63757866e+02, 1.04240401e+03, 1.12746796e+03,\n",
       "       1.21947344e+03, 1.31898690e+03, 1.42662102e+03, 1.54303847e+03,\n",
       "       1.66895601e+03, 1.80514888e+03, 1.95245558e+03, 2.11178304e+03,\n",
       "       2.28411221e+03, 2.47050406e+03, 2.67210616e+03, 2.89015972e+03,\n",
       "       3.12600724e+03, 3.38110078e+03, 3.65701088e+03, 3.95543624e+03,\n",
       "       4.27821420e+03, 4.62733201e+03, 5.00493910e+03, 5.41336030e+03,\n",
       "       5.85511016e+03, 6.33290840e+03, 6.84969672e+03, 7.40865683e+03,\n",
       "       8.01323013e+03, 8.66713880e+03, 9.37440879e+03, 1.01393946e+04,\n",
       "       1.09668060e+04, 1.18617372e+04, 1.28296980e+04, 1.38766479e+04,\n",
       "       1.50090328e+04, 1.62338243e+04, 1.75585633e+04, 1.89914058e+04,\n",
       "       2.05411735e+04, 2.22174078e+04, 2.40304289e+04, 2.59913992e+04,\n",
       "       2.81123917e+04, 3.04064649e+04, 3.28877429e+04, 3.55715021e+04,\n",
       "       3.84742658e+04, 4.16139055e+04, 4.50097513e+04, 4.86827104e+04,\n",
       "       5.26553963e+04, 5.69522678e+04, 6.15997796e+04, 6.66265452e+04,\n",
       "       7.20635132e+04, 7.79441575e+04, 8.43046837e+04, 9.11842520e+04,\n",
       "       9.86252179e+04, 1.06673394e+05, 1.15378330e+05, 1.24793621e+05,\n",
       "       1.34977233e+05, 1.45991865e+05, 1.57905331e+05, 1.70790980e+05,\n",
       "       1.84728144e+05, 1.99802631e+05, 2.16107251e+05, 2.33742387e+05,\n",
       "       2.52816614e+05, 2.73447368e+05, 2.95761666e+05, 3.19896892e+05,\n",
       "       3.46001639e+05, 3.74236629e+05, 4.04775697e+05, 4.37806863e+05,\n",
       "       4.73533492e+05, 5.12175544e+05, 5.53970928e+05, 5.99176967e+05,\n",
       "       6.48071983e+05, 7.00957009e+05, 7.58157646e+05, 8.20026062e+05,\n",
       "       8.86943166e+05, 9.59320948e+05, 1.03760502e+06, 1.12227736e+06,\n",
       "       1.21385926e+06, 1.31291459e+06, 1.42005318e+06, 1.53593468e+06,\n",
       "       1.66127252e+06, 1.79683839e+06, 1.94346693e+06, 2.10206088e+06,\n",
       "       2.27359668e+06, 2.45913043e+06, 2.65980440e+06, 2.87685409e+06,\n",
       "       3.11161583e+06, 3.36553498e+06, 3.64017485e+06, 3.93722633e+06,\n",
       "       4.25851829e+06, 4.60602884e+06, 4.98189752e+06, 5.38843844e+06,\n",
       "       5.82815458e+06, 6.30375315e+06, 6.81816229e+06, 7.37454909e+06,\n",
       "       7.97633907e+06, 8.62723729e+06, 9.33125118e+06, 1.00927151e+07,\n",
       "       1.09163173e+07, 1.18071285e+07, 1.27706330e+07, 1.38127630e+07,\n",
       "       1.49399346e+07, 1.61590875e+07, 1.74777277e+07, 1.89039738e+07,\n",
       "       2.04466067e+07, 2.21151240e+07, 2.39197984e+07, 2.58717408e+07,\n",
       "       2.79829688e+07, 3.02664806e+07, 3.27363353e+07, 3.54077391e+07,\n",
       "       3.82971391e+07, 4.14223247e+07, 4.48025368e+07, 4.84585864e+07,\n",
       "       5.24129830e+07, 5.66900727e+07, 6.13161884e+07, 6.63198120e+07,\n",
       "       7.17317494e+07, 7.75853206e+07, 8.39165644e+07, 9.07644607e+07,\n",
       "       9.81711702e+07, 1.06182294e+08, 1.14847155e+08, 1.24219100e+08,\n",
       "       1.34355829e+08, 1.45319752e+08, 1.57178372e+08, 1.70004698e+08,\n",
       "       1.83877698e+08, 1.98882786e+08, 2.15112343e+08, 2.32666291e+08,\n",
       "       2.51652705e+08, 2.72188479e+08, 2.94400048e+08, 3.18424160e+08,\n",
       "       3.44408728e+08, 3.72513730e+08, 4.02912203e+08, 4.35791301e+08,\n",
       "       4.71353453e+08, 5.09817606e+08, 5.51420574e+08, 5.96418495e+08,\n",
       "       6.45088409e+08, 6.97729965e+08, 7.54667263e+08, 8.16250851e+08,\n",
       "       8.82859884e+08, 9.54904456e+08, 1.03282813e+09, 1.11711065e+09,\n",
       "       1.20827094e+09, 1.30687023e+09, 1.41351558e+09, 1.52886359e+09,\n",
       "       1.65362441e+09, 1.78856616e+09, 1.93451965e+09, 2.09238348e+09,\n",
       "       2.26312957e+09, 2.44780916e+09, 2.64755927e+09, 2.86360972e+09,\n",
       "       3.09729067e+09, 3.35004083e+09, 3.62341632e+09, 3.91910025e+09,\n",
       "       4.23891306e+09, 4.58482375e+09, 4.95896201e+09, 5.36363132e+09,\n",
       "       5.80132310e+09, 6.27473213e+09, 6.78677305e+09, 7.34059837e+09,\n",
       "       7.93961785e+09, 8.58751948e+09, 9.28829225e+09, 1.00462506e+10,\n",
       "       1.08660611e+10, 1.17527712e+10, 1.27118400e+10, 1.37491723e+10,\n",
       "       1.48711546e+10, 1.60846948e+10, 1.73972643e+10, 1.88169442e+10,\n",
       "       2.03524752e+10, 2.20133111e+10, 2.38096772e+10, 2.57526333e+10,\n",
       "       2.78541416e+10, 3.01271407e+10, 3.25856248e+10, 3.52447300e+10,\n",
       "       3.81208280e+10, 4.12316259e+10, 4.45962763e+10, 4.82354943e+10,\n",
       "       5.21716858e+10, 5.64290847e+10, 6.10339029e+10, 6.60144909e+10,\n",
       "       7.14015130e+10, 7.72281357e+10, 8.35302320e+10, 9.03466021e+10,\n",
       "       9.77192128e+10, 1.05693455e+11, 1.14318425e+11, 1.23647224e+11,\n",
       "       1.33737286e+11, 1.44650734e+11, 1.56454759e+11, 1.69222035e+11,\n",
       "       1.83031168e+11, 1.97967175e+11, 2.14122015e+11, 2.31595149e+11,\n",
       "       2.50494154e+11, 2.70935387e+11, 2.93044698e+11, 3.16958209e+11,\n",
       "       3.42823149e+11, 3.70798763e+11, 4.01057288e+11, 4.33785019e+11,\n",
       "       4.69183451e+11, 5.07470524e+11, 5.48881961e+11, 5.93672722e+11,\n",
       "       6.42118571e+11, 6.94517777e+11, 7.51192949e+11, 8.12493021e+11,\n",
       "       8.78795401e+11, 9.50508296e+11, 1.02807322e+12, 1.11196773e+12,\n",
       "       1.20270833e+12, 1.30085370e+12, 1.40700809e+12, 1.52182505e+12,\n",
       "       1.64601150e+12, 1.78033202e+12, 1.92561357e+12, 2.08275063e+12,\n",
       "       2.25271064e+12, 2.43654001e+12, 2.63537052e+12, 2.85042632e+12,\n",
       "       3.08303146e+12, 3.33461802e+12, 3.60673495e+12, 3.90105762e+12,\n",
       "       4.21939808e+12, 4.56371628e+12, 4.93613210e+12, 5.33893840e+12,\n",
       "       5.77461515e+12, 6.24584471e+12, 6.75552832e+12, 7.30680395e+12,\n",
       "       7.90306568e+12, 8.54798453e+12, 9.24553110e+12, 1.00000000e+13])"
      ]
     },
     "execution_count": 19,
     "metadata": {},
     "output_type": "execute_result"
    }
   ],
   "source": [
    "photeng"
   ]
  },
  {
   "cell_type": "markdown",
   "metadata": {},
   "source": [
    "We now need to construct a transfer function list for *both* high- and low-energy photons. It needs to be a square matrix (so that we can take powers of the matrix for coarsening later), with dimensions given by the length of `photeng`."
   ]
  },
  {
   "cell_type": "code",
   "execution_count": 8,
   "metadata": {},
   "outputs": [],
   "source": [
    "#Split photeng into high and low energy. \n",
    "photeng_high = photeng[photeng > 3070]\n",
    "photeng_low  = photeng[photeng <= 3070]\n",
    "\n",
    "# Split eleceng into high and low energy. \n",
    "eleceng_high = eleceng[eleceng > 3500]\n",
    "eleceng_low  = eleceng[eleceng <= 3500]\n",
    "\n",
    "# highengphot_tflist.in_eng set to photeng_high\n",
    "\n",
    "highengphot_tflist.at_val('in_eng', photeng_high, bounds_error=False, fill_value=0)\n",
    "\n",
    "\n",
    "for tf in highengphot_tflist:\n",
    "    tf.rebin(photeng_high)\n",
    "    # Pad with zeros so that it becomes photeng x photeng. \n",
    "    tf._grid_vals = np.pad(tf.grid_vals, ((photeng_low.size, 0), (photeng_low.size, 0)), 'constant')\n",
    "    tf._N_underflow = np.pad(tf._N_underflow, (photeng_low.size, 0), 'constant')\n",
    "    tf._eng_underflow = np.pad(tf._eng_underflow, (photeng_low.size, 0), 'constant')\n",
    "    tf._in_eng = photeng\n",
    "    tf._eng = photeng\n",
    "highengphot_tflist.eng = photeng\n",
    "highengphot_tflist.in_eng = photeng\n",
    "    \n",
    "# lowengphot_tflist.in_eng set to photeng_high\n",
    "lowengphot_tflist.at_val('in_eng', photeng_high, bounds_error=False, fill_value=0)\n",
    "for tf in lowengphot_tflist:\n",
    "    tf.rebin(photeng)\n",
    "    # Pad with zeros so that it becomes photeng x photeng. \n",
    "    tf._grid_vals = np.pad(tf.grid_vals, ((photeng_low.size,0), (0,0)), 'constant')\n",
    "    tf._N_underflow = np.pad(tf._N_underflow, (photeng_low.size, 0), 'constant')\n",
    "    tf._eng_underflow = np.pad(tf._eng_underflow, (photeng_low.size, 0), 'constant')\n",
    "    tf._in_eng = photeng\n",
    "    tf._eng = photeng\n",
    "lowengphot_tflist.eng = photeng\n",
    "lowengphot_tflist.in_eng = photeng\n",
    "    \n",
    "# lowengelec_tflist.in_eng set to photeng_high \n",
    "lowengelec_tflist.at_val('in_eng', photeng_high, bounds_error=False, fill_value=0)\n",
    "for tf in lowengelec_tflist:\n",
    "    tf.rebin(eleceng)\n",
    "    # Pad with zeros so that it becomes photeng x eleceng. \n",
    "    tf._grid_vals = np.pad(tf.grid_vals, ((photeng_low.size,0), (0,0)), 'constant')\n",
    "    tf._N_underflow = np.pad(tf._N_underflow, (photeng_low.size, 0), 'constant')\n",
    "    tf._eng_underflow = np.pad(tf._eng_underflow, (photeng_low.size, 0), 'constant')\n",
    "    tf._in_eng = photeng\n",
    "    tf._eng = eleceng\n",
    "lowengelec_tflist.eng = eleceng\n",
    "lowengelec_tflist.in_eng = photeng"
   ]
  },
  {
   "cell_type": "markdown",
   "metadata": {},
   "source": [
    "We need to decide on the redshift step to use. The default redshift step in the transfer functions is $d \\log (1+z) = 2 \\times 10^{-3}$, with the transfer function evaluated at (currently) 50 redshifts, from $1+z = 30$ to $1+z=4$, so that the transfer function with $d \\log(1+z) = 2 \\times 10^{-3}$ can be interpolated between them. However, we can coarsen the high energy photon transfer function by some factor $f$ by multiplying the transfer function matrix by itself multiple times, producing transfer functions for a redshift step of $d \\log (1+z) = f \\times 2 \\times 10^{-3}$. "
   ]
  },
  {
   "cell_type": "code",
   "execution_count": 9,
   "metadata": {},
   "outputs": [],
   "source": [
    "# The redshift step to use will be coarsen_factor * 0.002\n",
    "coarsen_factor = 5\n",
    "# Generate the redshifts at which we want to get an interpolated value for the transfer function. \n",
    "tf_rs_arr = highengphot_tflist.rs\n",
    "rs_list = np.exp(np.arange(np.log(tf_rs_arr[0]), \n",
    "                           np.log(tf_rs_arr[-1]), \n",
    "                           -highengphot_tflist.dlnz*coarsen_factor)\n",
    "                )\n",
    "\n",
    "if coarsen_factor > 1:\n",
    "    lowengphot_tflist.coarsen(coarsen_factor, delete_tfs=False, coarsen_type='dep', prop_transfunclist=highengphot_tflist)\n",
    "    lowengelec_tflist.coarsen(coarsen_factor, delete_tfs=False, coarsen_type='dep', prop_transfunclist=highengphot_tflist)\n",
    "    highengphot_tflist.coarsen(coarsen_factor, delete_tfs=False)\n",
    "    \n",
    "lowengphot_tflist.at_val('rs',rs_list)\n",
    "lowengelec_tflist.at_val('rs',rs_list)\n",
    "highengphot_tflist.at_val('rs',rs_list)\n",
    "highengphot_tflist_before.at_val('rs', rs_list)\n",
    "\n",
    "phot_spec_init.rs = rs_list[0]"
   ]
  },
  {
   "cell_type": "code",
   "execution_count": 10,
   "metadata": {
    "scrolled": false
   },
   "outputs": [
    {
     "data": {
      "text/plain": [
       "[100.0, 10000000000000.0, 1e-20, 10000000000.0]"
      ]
     },
     "execution_count": 10,
     "metadata": {},
     "output_type": "execute_result"
    },
    {
     "data": {
      "image/png": "[encoded data removed]",
      "text/plain": [
       "<Figure size 720x720 with 1 Axes>"
      ]
     },
     "metadata": {},
     "output_type": "display_data"
    }
   ],
   "source": [
    "plt.figure()\n",
    "ax = plt.gca()\n",
    "\n",
    "eng_plot = 3e9\n",
    "rs_ind = 20\n",
    "\n",
    "highengphot_tflist_before[rs_ind].plot(ax, ind=eng_plot, indtype='in_eng')\n",
    "highengphot_tflist[rs_ind].plot(ax, ind=eng_plot, indtype='in_eng')\n",
    "\n",
    "\n",
    "ax.set_xscale('log')\n",
    "ax.set_yscale('log')\n",
    "\n",
    "plt.xlabel('Secondary Photon Energy [eV]')\n",
    "plt.ylabel('Number of Photons in Each Bin')\n",
    "plt.axis([1e2, 1e13, 1e-20, 1e10])"
   ]
  },
  {
   "cell_type": "code",
   "execution_count": 11,
   "metadata": {},
   "outputs": [
    {
     "name": "stdout",
     "output_type": "stream",
     "text": [
      "N\n",
      "N\n"
     ]
    }
   ],
   "source": [
    "print(highengphot_tflist[0].spec_type)\n",
    "print(phot_spec_init.spec_type)"
   ]
  },
  {
   "cell_type": "code",
   "execution_count": 12,
   "metadata": {},
   "outputs": [],
   "source": [
    "phot_spectra = spectools.evolve(phot_spec_init, highengphot_tflist, evolve_type='prop', save_steps=True)\n",
    "# lowengphot_spectra = spectools.evolve()\n",
    "# next_phot_spec = spectools.scatter(highengphot_tflist[1], next_phot_spec)\n",
    "# test2 = spectools.evolve(phot_spec_init, highengphot_tflist, evolve_type='prop', end_rs = rs_list[2])\n",
    "# next_low_phot_spec = spectools.scatter(lowengphot_tflist[0], phot_spec_init)\n",
    "# next_phot_spec = spectools.scatter(highengphot_tflist[2], next_phot_spec)\n",
    "# test3 = spectools.evolve(phot_spec_init, highengphot_tflist, evolve_type='prop', end_rs = rs_list[3])\n",
    "# next_low_phot_spec = spectools.scatter(lowengphot_tflist[0], phot_spec_init)"
   ]
  },
  {
   "cell_type": "code",
   "execution_count": 13,
   "metadata": {},
   "outputs": [
    {
     "name": "stdout",
     "output_type": "stream",
     "text": [
      "19.752813770358912\n",
      "19.752813770358912\n",
      "N\n",
      "N\n"
     ]
    }
   ],
   "source": [
    "print(phot_spectra[1].totN())\n",
    "# phot_spectra.rebin(file_eng)\n",
    "file_spectra.rebin(photeng)\n",
    "file_spectra.switch_spec_type()\n",
    "\n",
    "print(phot_spectra[1].totN())\n",
    "print(phot_spectra.spec_type)\n",
    "print(file_spectra.spec_type)"
   ]
  },
  {
   "cell_type": "code",
   "execution_count": 16,
   "metadata": {},
   "outputs": [
    {
     "data": {
      "text/plain": [
       "[100.0, 10000000000000.0, 1e-10, 1000.0]"
      ]
     },
     "execution_count": 16,
     "metadata": {},
     "output_type": "execute_result"
    },
    {
     "data": {
      "image/png": "[encoded data removed]",
      "text/plain": [
       "<Figure size 720x720 with 1 Axes>"
      ]
     },
     "metadata": {},
     "output_type": "display_data"
    }
   ],
   "source": [
    "rs_to_plot = 15\n",
    "\n",
    "plt.figure()\n",
    "\n",
    "ax = plt.gca()\n",
    "phot_spectra.plot(ax, ind=rs_to_plot, indtype='rs')\n",
    "file_spectra.plot(ax, ind=rs_to_plot, indtype='rs')\n",
    "\n",
    "ax.set_xscale('log')\n",
    "ax.set_yscale('log')\n",
    "\n",
    "plt.xlabel('Secondary Photon Energy [eV]')\n",
    "plt.ylabel('Number of Photons in Each Bin')\n",
    "plt.axis([1e2, 1e13, 1e-10, 1e3])"
   ]
  },
  {
   "cell_type": "code",
   "execution_count": null,
   "metadata": {},
   "outputs": [],
   "source": []
  }
 ],
 "metadata": {
  "kernelspec": {
   "display_name": "Python 3",
   "language": "python",
   "name": "python3"
  },
  "language_info": {
   "codemirror_mode": {
    "name": "ipython",
    "version": 3
   },
   "file_extension": ".py",
   "mimetype": "text/x-python",
   "name": "python",
   "nbconvert_exporter": "python",
   "pygments_lexer": "ipython3",
   "version": "3.6.5"
  }
 },
 "nbformat": 4,
 "nbformat_minor": 2
}
