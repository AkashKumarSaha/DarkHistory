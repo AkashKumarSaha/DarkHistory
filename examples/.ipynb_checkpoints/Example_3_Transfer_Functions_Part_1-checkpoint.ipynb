{
 "cells": [
  {
   "cell_type": "markdown",
   "metadata": {},
   "source": [
    "# Ex 3: Transfer Functions Part 1\n",
    "------------------------------------------------"
   ]
  },
  {
   "cell_type": "markdown",
   "metadata": {},
   "source": [
    "## Transfer Functions - Introduction"
   ]
  },
  {
   "cell_type": "markdown",
   "metadata": {},
   "source": [
    "We call any function that maps one spectrum onto another a transfer function in this code. Mathematically, it is a function $T(E',E)$ such that\n",
    "\n",
    "$$ \\frac{dN'}{dE'} = \\int T(E',E) \\frac{dN}{dE} dE$$\n",
    "\n",
    "where $\\frac{dN'}{dE'}$ is some other spectrum. If $\\frac{dN'}{dE'}$ is a delta function at energy $E_0$, then we see immediately that $\\frac{dN'}{dE'} = T(E',E_0)$, so a transfer function $T(E',E)$ relates a delta function $\\frac{dN}{dE}$ at energy $E$ to an output spectrum as a function of $E'$. \n",
    "\n",
    "One example is a secondary spectrum produced by some scattering process. Suppose that we have a process that, given a single primary particle of energy $E$, generates a spectrum of secondaries at some rate $\\frac{dN_{\\text{sec}}}{dE_{\\text{sec}} dt}(E_{\\text{sec}}, E)$. This spectrum can be viewed as the average spectrum of secondaries produced by many such primary particles scattering off some known background. Then for an incoming primary spectrum $\\frac{dN}{dE}$, \n",
    "\n",
    "$$ \\frac{dN_{\\text{sec}}}{dE_{\\text{sec}} dt} \\times dt = \\int \\frac{dN_{\\text{sec}}}{dE_{\\text{sec}} dt} (E_{\\text{sec}}, E) \\times dt \\cdot \\frac{dN}{dE} dE $$\n",
    "\n",
    "or, in terms of redshift, \n",
    "\n",
    "$$ \\frac{dN_{\\text{sec}}}{dE_{\\text{sec}} dt} \\times dt = \\int \\frac{dN_{\\text{sec}}}{dE_{\\text{sec}} dt} (E_{\\text{sec}}, E) \\times \\frac{d \\log z}{H(z)} \\cdot \\frac{dN}{dE} dE $$\n",
    "\n",
    "So the transfer function in this case is\n",
    "\n",
    "$$ T(E_{\\text{sec}}, E, z) = \\frac{dN_{\\text{sec}}}{dE_{\\text{sec}} dt} (E_{\\text{sec}}, E) \\times \\frac{d \\log z}{H(z)} $$\n",
    "\n",
    "The discrete version of the transfer function, $\\tau(E_{\\text{sec}}^i, E^j, z^k)$ is\n",
    "\n",
    "$$ \\tau(E_{\\text{sec}}^i, E^j, z^k) = \\frac{dN_{\\text{sec}}}{dE_{\\text{sec}} dt} (E_{\\text{sec}}^i, E^j) \\times \\frac{\\Delta \\log z^k}{H(z^k)} $$\n",
    "\n",
    "so that\n",
    "\n",
    "$$ \\frac{dN_{\\text{sec}}}{dE_{\\text{sec}} d \\log z} (E_{\\text{sec}}^i, z^k) \\times \\Delta \\log z^k = \\sum_j \\tau(E_{\\text{sec}}^i, E^j, z^k) \\times E^j \\frac{dN}{dE}(E^j, z^k) \\times \\Delta \\log E^j $$\n",
    "\n",
    "or alternatively, if we would like to think in terms of rates,\n",
    "\n",
    "$$ \\frac{dN_{\\text{sec}}}{dE_{\\text{sec}} dt} (E_{\\text{sec}}^i, z^k) = \\sum_j \\frac{dN_{\\text{sec}}}{dE_{\\text{sec}} dt} (E_{\\text{sec}}^i, E^j, z^k) \\times E^j \\frac{dN}{dE}(E^j, z^k) \\times \\Delta \\log E^j $$\n",
    "\n",
    "or\n",
    "\n",
    "$$ \\frac{dN_{\\text{sec}}}{dE_{\\text{sec}} d \\log z} (E_{\\text{sec}}^i, z^k) = \\sum_j \\frac{dN_{\\text{sec}}}{dE_{\\text{sec}} d \\log z} (E_{\\text{sec}}^i, E^j, z^k) \\times E^j \\frac{dN}{dE}(E^j, z^k) \\times \\Delta \\log E^j $$\n",
    "\n",
    "\n",
    "This is realized as a matrix multiplication. Notice that the transfer function is indexed by three variables. We therefore have two separate classes to handle transfer functions: `TransFuncAtRedshift`, which is a transfer function at a given $z^k$, and `TransFuncAtEnergy`, which is a transfer function at a given primary injection energy $E^j$. The full transfer function is given by a list of these classes, stored in a class called `TransFuncList`. "
   ]
  },
  {
   "cell_type": "markdown",
   "metadata": {},
   "source": [
    "## `TransFuncAtRedshift` with Relativistic ICS"
   ]
  },
  {
   "cell_type": "markdown",
   "metadata": {},
   "source": [
    "`TransFuncAtRedshift` is a child of the `Spectra` class, and inherits all of its methods. It is used to store an array of secondary spectra, each corresponding to a different primary energy. All `Spectrum` objects stored in a `TransFuncAtRedshift` should all have `Spectrum.in_eng` initialized. It is initialized as\n",
    "\n",
    "```python\n",
    "\n",
    "```\n",
    "\n"
   ]
  },
  {
   "cell_type": "code",
   "execution_count": null,
   "metadata": {
    "collapsed": true
   },
   "outputs": [],
   "source": []
  }
 ],
 "metadata": {
  "kernelspec": {
   "display_name": "Python 3",
   "language": "python",
   "name": "python3"
  },
  "language_info": {
   "codemirror_mode": {
    "name": "ipython",
    "version": 3
   },
   "file_extension": ".py",
   "mimetype": "text/x-python",
   "name": "python",
   "nbconvert_exporter": "python",
   "pygments_lexer": "ipython3",
   "version": "3.6.3"
  }
 },
 "nbformat": 4,
 "nbformat_minor": 2
}
