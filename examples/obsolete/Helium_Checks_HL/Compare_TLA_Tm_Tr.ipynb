{
 "cells": [
  {
   "cell_type": "code",
   "execution_count": 1,
   "metadata": {},
   "outputs": [],
   "source": [
    "%load_ext autoreload\n",
    "import sys\n",
    "sys.path.append(\"../..\")"
   ]
  },
  {
   "cell_type": "markdown",
   "metadata": {},
   "source": [
    "# Helium $f(z)$ Calculation"
   ]
  },
  {
   "cell_type": "code",
   "execution_count": 2,
   "metadata": {},
   "outputs": [],
   "source": [
    "%autoreload\n",
    "\n",
    "\n",
    "import matplotlib.pyplot as plt\n",
    "%matplotlib inline\n",
    "\n",
    "\n",
    "import matplotlib\n",
    "matplotlib.rc_file('matplotlibrc')\n",
    "matplotlib.rcParams['figure.figsize'] = [8,8]\n",
    "\n",
    "\n",
    "# SET THIS TO TRUE TO USE LATEX\n",
    "matplotlib.rcParams['text.usetex'] = True\n",
    "\n",
    "from astropy.io import fits\n",
    "\n",
    "import numpy as np\n",
    "import copy\n",
    "import pickle\n",
    "\n",
    "import darkhistory.physics as phys\n",
    "import darkhistory.utilities as utils\n",
    "import darkhistory.spec.spectools as spectools\n",
    "import darkhistory.spec.transferfunction as tf\n",
    "import darkhistory.spec.transferfunclist as tflist\n",
    "from darkhistory.spec.spectrum import Spectrum\n",
    "from darkhistory.spec.spectra import Spectra\n",
    "import darkhistory.history.tla as tla\n",
    "\n",
    "from scipy.interpolate import interp1d\n",
    "from scipy.interpolate import interp2d\n",
    "\n",
    "from tqdm import tqdm_notebook as tqdm\n",
    "\n",
    "from darkhistory.electrons.ics.ics_spectrum import ics_spec\n",
    "from darkhistory.electrons.ics.ics_engloss_spectrum import engloss_spec\n",
    "from darkhistory.electrons.ics.ics_cooling import get_ics_cooling_tf\n",
    "\n",
    "from darkhistory.low_energy.lowE_deposition import compute_fs\n",
    "import main\n",
    "\n",
    "from tqdm import tqdm_notebook as tqdm\n",
    "\n",
    "from astropy.io import fits\n",
    "\n",
    "\n",
    "# np.set_printoptions(threshold=np.nan)"
   ]
  },
  {
   "cell_type": "markdown",
   "metadata": {},
   "source": [
    "## Run DarkHistory"
   ]
  },
  {
   "cell_type": "code",
   "execution_count": 3,
   "metadata": {},
   "outputs": [],
   "source": [
    "direc = '/Users/hongwan/Dropbox (MIT)/Photon Deposition/tfs_20190120/'\n",
    "\n",
    "highengphot_tf_interp = pickle.load(open(direc+\"/processed/highengphot_tf_interp.raw\", \"rb\"))\n",
    "lowengphot_tf_interp  = pickle.load(open(direc+\"/processed/lowengphot_tf_interp.raw\", \"rb\"))\n",
    "lowengelec_tf_interp  = pickle.load(open(direc+\"/processed/lowengelec_tf_interp.raw\", \"rb\"))\n",
    "highengdep_interp     = pickle.load(open(direc+\"/processed/highengdep_interp.raw\", \"rb\"))\n",
    "CMB_engloss_interp    = pickle.load(open(direc+\"/processed/CMB_engloss_interp.raw\", \"rb\"))"
   ]
  },
  {
   "cell_type": "code",
   "execution_count": 4,
   "metadata": {},
   "outputs": [],
   "source": [
    "direc = \"/Users/hongwan/Dropbox (MIT)/Photon Deposition/tflists/ics/\"\n",
    "ics_thomson_ref_tf = pickle.load(open(direc+\"ics_thomson_ref_tf.raw\", \"rb\"))\n",
    "ics_rel_ref_tf = pickle.load(open(direc+\"ics_rel_ref_tf.raw\", \"rb\"))\n",
    "engloss_ref_tf = pickle.load(open(direc+\"engloss_ref_tf.raw\", \"rb\"))"
   ]
  },
  {
   "cell_type": "code",
   "execution_count": 5,
   "metadata": {},
   "outputs": [],
   "source": [
    "#Annihilation or decay?\n",
    "inj_type = 'decay'\n",
    "\n",
    "#Annihilate/Decay into\n",
    "inj_particle = 'photon'\n",
    "\n",
    "#Useful definitions\n",
    "if inj_particle == 'electron':\n",
    "    inj_str = 'elec'\n",
    "    mass = phys.me\n",
    "else:\n",
    "    inj_str = 'phot'\n",
    "    mass = 0\n",
    "    \n",
    "CMB_subtracted = True"
   ]
  },
  {
   "cell_type": "code",
   "execution_count": 8,
   "metadata": {},
   "outputs": [
    {
     "name": "stdout",
     "output_type": "stream",
     "text": [
      "8.0\n"
     ]
    },
    {
     "data": {
      "application/vnd.jupyter.widget-view+json": {
       "model_id": "a2acbc3715b1448bb92a64c973381581",
       "version_major": 2,
       "version_minor": 0
      },
      "text/plain": [
       "HBox(children=(IntProgress(value=0, max=6621), HTML(value='')))"
      ]
     },
     "metadata": {},
     "output_type": "display_data"
    },
    {
     "name": "stderr",
     "output_type": "stream",
     "text": [
      "../../darkhistory/physics.py:334: RuntimeWarning: invalid value encountered in sqrt\n",
      "  * (1 + T_in_K/T_1)**(1+p)\n",
      "../../darkhistory/physics.py:334: RuntimeWarning: invalid value encountered in double_scalars\n",
      "  * (1 + T_in_K/T_1)**(1+p)\n"
     ]
    },
    {
     "name": "stdout",
     "output_type": "stream",
     "text": [
      "\n"
     ]
    }
   ],
   "source": [
    "%autoreload\n",
    "# import main\n",
    "\n",
    "#injection energy, DM mass, center-of-mass energy\n",
    "ind = 13\n",
    "\n",
    "# log10eng0 = 3.6989700794219966\n",
    "# log10eng = np.array([log10eng0 + 0.23252559*i for i in np.arange(39)])\n",
    "\n",
    "log10eng = np.log10(0.5e8)\n",
    "\n",
    "tau=1.5e24\n",
    "sigmav=0\n",
    "end_rs = 4\n",
    "start_rs = 3000\n",
    "\n",
    "photeng = highengphot_tf_interp.eng\n",
    "eleceng = lowengelec_tf_interp.eng\n",
    "\n",
    "Einj = 10**log10eng\n",
    "mDM = 2*Einj + 2*mass\n",
    "print(np.log10(mDM))\n",
    "Ecom=mDM\n",
    "\n",
    "def rate_func_N(rs):\n",
    "    return phys.inj_rate(inj_type, rs, mDM=mDM, sigmav=sigmav, tau=tau)/Ecom\n",
    "def rate_func_eng(rs):\n",
    "    return phys.inj_rate(inj_type, rs, mDM=mDM, sigmav=sigmav, tau=tau)\n",
    "\n",
    "if inj_type == 'swave':\n",
    "    mDM = mDM/2\n",
    "    Ecom = 2*mDM   \n",
    "\n",
    "if inj_particle == 'electron':\n",
    "    Etmp = eleceng[eleceng < Einj][-1]\n",
    "    elec_spec_init = spectools.rebin_N_arr(\n",
    "        np.array([2*Einj/Etmp]),\n",
    "        np.array([Etmp]),\n",
    "        eleceng\n",
    "    )\n",
    "    elec_spec_init.rs = start_rs\n",
    "    elec_spec_init.switch_spec_type()\n",
    "\n",
    "    phot_spec_init = Spectrum(photeng,\n",
    "                             np.zeros_like(photeng),\n",
    "                             spec_type='N',\n",
    "                             rs=start_rs)\n",
    "else:\n",
    "    Etmp = photeng[photeng < Einj][-1]\n",
    "    phot_spec_init = spectools.rebin_N_arr(\n",
    "        np.array([2*Einj/Etmp]),\n",
    "        np.array([Etmp]),\n",
    "        photeng\n",
    "    )\n",
    "    phot_spec_init.rs = start_rs\n",
    "    phot_spec_init.switch_spec_type()\n",
    "\n",
    "    elec_spec_init = Spectrum(eleceng,\n",
    "                             np.zeros_like(eleceng),\n",
    "                             spec_type='N',\n",
    "                             rs=start_rs)\n",
    "\n",
    "f_DH_list_Tm = main.evolve(\n",
    "    elec_spec_init, phot_spec_init,\n",
    "    rate_func_N, rate_func_eng, end_rs,\n",
    "    highengphot_tf_interp, lowengphot_tf_interp, lowengelec_tf_interp,\n",
    "    highengdep_interp, CMB_engloss_interp,\n",
    "    ics_thomson_ref_tf, ics_rel_ref_tf, engloss_ref_tf,\n",
    "    coarsen_factor=1, std_soln=True,\n",
    "    reion_switch=False,\n",
    "    struct_boost=None,\n",
    "    ics_only=False, separate_higheng=True, CMB_subtracted=CMB_subtracted,\n",
    "    user=None, verbose=False, \n",
    "    use_tqdm=True, helium_TLA=True\n",
    ")\n",
    "\n",
    "# f_DH_list_with_br = main.evolve(\n",
    "#     elec_spec_init, phot_spec_init,\n",
    "#     rate_func_N, rate_func_eng, end_rs,\n",
    "#     highengphot_tf_interp, lowengphot_tf_interp, lowengelec_tf_interp,\n",
    "#     highengdep_interp, CMB_engloss_interp,\n",
    "#     ics_thomson_ref_tf, ics_rel_ref_tf, engloss_ref_tf,\n",
    "#     coarsen_factor=1, std_soln=False,\n",
    "#     reion_switch=False,\n",
    "#     struct_boost=None,\n",
    "#     ics_only=False, separate_higheng=True, CMB_subtracted=CMB_subtracted,\n",
    "#     user=None, verbose=False, \n",
    "#     use_tqdm=True, helium_TLA=True\n",
    "# )"
   ]
  },
  {
   "cell_type": "code",
   "execution_count": 13,
   "metadata": {
    "scrolled": false
   },
   "outputs": [
    {
     "data": {
      "text/plain": [
       "[<matplotlib.lines.Line2D at 0x182a008b70>]"
      ]
     },
     "execution_count": 13,
     "metadata": {},
     "output_type": "execute_result"
    },
    {
     "data": {
      "image/png": "[encoded data removed]",
      "text/plain": [
       "<Figure size 432x288 with 1 Axes>"
      ]
     },
     "metadata": {
      "needs_background": "light"
     },
     "output_type": "display_data"
    },
    {
     "data": {
      "image/png": "[encoded data removed]",
      "text/plain": [
       "<Figure size 432x288 with 1 Axes>"
      ]
     },
     "metadata": {
      "needs_background": "light"
     },
     "output_type": "display_data"
    },
    {
     "data": {
      "image/png": "[encoded data removed]",
      "text/plain": [
       "<Figure size 432x288 with 1 Axes>"
      ]
     },
     "metadata": {
      "needs_background": "light"
     },
     "output_type": "display_data"
    }
   ],
   "source": [
    "plt.figure()\n",
    "\n",
    "plt.loglog()\n",
    "plt.plot(\n",
    "    f_DH_list_Tr[2].rs[1:], \n",
    "    f_DH_list_Tr[0][:,0]+f_DH_list_Tr[0][:,1]\n",
    ")\n",
    "\n",
    "plt.plot(\n",
    "    f_DH_list_Tm[2].rs[1:],\n",
    "    f_DH_list_Tm[0][:,0]+f_DH_list_Tm[0][:,1]\n",
    ")\n",
    "\n",
    "plt.axis([ 7, 3000, 1e-4, 5])\n",
    "\n",
    "plt.figure()\n",
    "\n",
    "plt.loglog()\n",
    "plt.plot(\n",
    "    f_DH_list_Tr[2].rs[1:], \n",
    "    f_DH_list_Tr[1]/phys.kB\n",
    ")\n",
    "plt.plot(\n",
    "    f_DH_list_Tm[2].rs[1:],\n",
    "    f_DH_list_Tm[1]/phys.kB\n",
    ")\n",
    "\n",
    "plt.axis([ 7, 3000, 1, 1e5])\n",
    "\n",
    "plt.figure()\n",
    "\n",
    "# plt.loglog()\n",
    "plt.plot(\n",
    "    f_DH_list_Tr[2].rs[1:], \n",
    "    1 - f_DH_list_Tr[1]/f_DH_list_Tm[1]\n",
    ")\n"
   ]
  },
  {
   "cell_type": "code",
   "execution_count": null,
   "metadata": {},
   "outputs": [],
   "source": []
  }
 ],
 "metadata": {
  "kernelspec": {
   "display_name": "Python 3",
   "language": "python",
   "name": "python3"
  },
  "language_info": {
   "codemirror_mode": {
    "name": "ipython",
    "version": 3
   },
   "file_extension": ".py",
   "mimetype": "text/x-python",
   "name": "python",
   "nbconvert_exporter": "python",
   "pygments_lexer": "ipython3",
   "version": "3.6.7"
  },
  "toc": {
   "base_numbering": 1,
   "nav_menu": {},
   "number_sections": true,
   "sideBar": true,
   "skip_h1_title": false,
   "title_cell": "Table of Contents",
   "title_sidebar": "Contents",
   "toc_cell": false,
   "toc_position": {},
   "toc_section_display": true,
   "toc_window_display": false
  }
 },
 "nbformat": 4,
 "nbformat_minor": 2
}
