{
 "cells": [
  {
   "cell_type": "markdown",
   "metadata": {},
   "source": [
    "# Helium TLA Independent Check"
   ]
  },
  {
   "cell_type": "code",
   "execution_count": 1,
   "metadata": {},
   "outputs": [],
   "source": [
    "%load_ext autoreload\n",
    "import sys\n",
    "sys.path.append(\"../..\")"
   ]
  },
  {
   "cell_type": "markdown",
   "metadata": {},
   "source": [
    "## Initialization"
   ]
  },
  {
   "cell_type": "code",
   "execution_count": 2,
   "metadata": {},
   "outputs": [],
   "source": [
    "import numpy as np\n",
    "\n",
    "%matplotlib inline\n",
    "\n",
    "import matplotlib\n",
    "matplotlib.rc_file('matplotlibrc')\n",
    "matplotlib.rcParams['figure.figsize'] = [10,10]\n",
    "import matplotlib.pyplot as plt\n",
    "import darkhistory.physics as phys\n",
    "\n",
    "from scipy.integrate import odeint"
   ]
  },
  {
   "cell_type": "markdown",
   "metadata": {},
   "source": [
    "## Cosmological Parameters"
   ]
  },
  {
   "cell_type": "code",
   "execution_count": 34,
   "metadata": {},
   "outputs": [
    {
     "name": "stdout",
     "output_type": "stream",
     "text": [
      "0.08393134416047673\n"
     ]
    }
   ],
   "source": [
    "Omega_B = 0.04\n",
    "Omega_M = 0.24\n",
    "Omega_CDM = Omega_M - Omega_B\n",
    "Omega_rad = 8e-5\n",
    "T_CMB_0 = 2.725*phys.kB\n",
    "H0 = 71*3.241e-20\n",
    "Y_p = 0.25\n",
    "chi = Y_p/(1-Y_p)/3.9715\n",
    "\n",
    "\n",
    "def TCMB(rs):\n",
    "    \n",
    "    return T_CMB_0*rs\n",
    "\n",
    "def hubble(rs):\n",
    "    \n",
    "    return H0*np.sqrt(Omega_M*rs**3 + Omega_rad*rs**4)"
   ]
  },
  {
   "cell_type": "code",
   "execution_count": 4,
   "metadata": {},
   "outputs": [],
   "source": [
    "# File Comparison\n",
    "\n",
    "from astropy.io import fits\n",
    "from scipy.interpolate import interp1d\n",
    "\n",
    "# Compare with IDL results for Hionfraction and Heionfraction\n",
    "direc = '/Users/hongwan/Dropbox (MIT)/Photon Deposition/ref_files/z_3000_phot_decay_recfast/'\n",
    "\n",
    "hdul = fits.open(\n",
    "    direc\n",
    "    +'tf_z_3.000E+03_nstep_6398_logE_1.230E+01_xe_0.000E+00.fits'\n",
    ")\n",
    "\n",
    "data = hdul[1].data\n",
    "\n",
    "idl_redshift = data.field('redshift')[0]\n",
    "xH_idl = data.field('hionfraction')[0]\n",
    "xHe_idl = data.field('heionfraction')[0]\n",
    "\n",
    "hdul.close()\n",
    "\n",
    "xH_idl_func = interp1d(idl_redshift, xH_idl, bounds_error=False, fill_value=(xH_idl[-1], xH_idl[0]))\n",
    "xHe_idl_func = interp1d(idl_redshift, xHe_idl, bounds_error=False, fill_value=(xHe_idl[-1], xHe_idl[0]))"
   ]
  },
  {
   "cell_type": "code",
   "execution_count": 21,
   "metadata": {},
   "outputs": [],
   "source": [
    "f_He = chi\n",
    "        \n",
    "lambda_HeI_21p = 58.4334e-9*100 # cm\n",
    "lambda_HeI_21s = 60.1404e-9*100 # cm\n",
    "\n",
    "lambda_HeI_23p = 1/1.690871466e7 * 100 # cm, from CLASS\n",
    "lambda_HeI_23s = 1/1.5985597526e7 * 100 # cm, from CLASS\n",
    "\n",
    "E_ps = (2*np.pi*phys.hbar)*phys.c*(1/lambda_HeI_21p - 1/lambda_HeI_21s) # eV\n",
    "E_ps_triplet = (2*np.pi*phys.hbar)*phys.c*(1/lambda_HeI_23p - 1/lambda_HeI_23s) # eV\n",
    "\n",
    "E_ion_from_21s = phys.He_ion_eng - (2*np.pi*phys.hbar)*phys.c/lambda_HeI_21s\n",
    "E_ion_from_23s = phys.He_ion_eng - (2*np.pi*phys.hbar)*phys.c/lambda_HeI_23s\n",
    "\n",
    "\n",
    "def alpha_HeI(T):\n",
    "    # Takes T in eV.\n",
    "    \n",
    "    q   = 10**(-16.744)\n",
    "    T_2 = 3 # K\n",
    "    T_1 = 10**(5.114) # K\n",
    "    p   = 0.711\n",
    "    \n",
    "    T_in_K = T/phys.kB\n",
    "    \n",
    "    denom = np.sqrt(T_in_K/T_2) * (1 + T_in_K/T_2)**(1-p) * (1 + T_in_K/T_1)**(1+p)\n",
    "    \n",
    "    return q/denom * (100**3) # in cm^3 s^-1\n",
    "\n",
    "def beta_HeI(T):\n",
    "    \n",
    "    fac = (2*np.pi*phys.me*T/(2*np.pi*phys.hbar*phys.c)**2)**(3/2)\n",
    "    boltz = np.exp(-E_ion_from_21s/T)\n",
    "    return 4*alpha_HeI(T)*fac*boltz\n",
    "\n",
    "def alpha_HeI_triplet(T):\n",
    "    \n",
    "    q = 10**(-16.306)\n",
    "    T_2 = 3 # in K\n",
    "    T_1 = 10**(5.114)\n",
    "    p = 0.761\n",
    "    \n",
    "    T_in_K = T/phys.kB\n",
    "    \n",
    "    denom = np.sqrt(T_in_K/T_2) * (1 + T_in_K/T_2)**(1-p) * (1 + T_in_K/T_1)**(1+p)\n",
    "    \n",
    "    return q/denom * (100**3) # in cm^3 s^-1\n",
    "\n",
    "def beta_HeI_triplet(T):\n",
    "    \n",
    "    fac = (2*np.pi*phys.me*T/(2*np.pi*phys.hbar*phys.c)**2)**(3/2)\n",
    "    boltz = np.exp(-E_ion_from_23s/T)\n",
    "    return (4/3)*alpha_HeI_triplet(T)*fac*boltz\n",
    "\n",
    "def xe_Saha(rs):\n",
    "    \n",
    "    T = TCMB(rs)\n",
    "    \n",
    "    de_broglie_wavelength = (\n",
    "        phys.c * 2*np.pi*phys.hbar\n",
    "        / np.sqrt(2 * np.pi * phys.me * T)\n",
    "    )\n",
    "    \n",
    "    rhs = 4 * (1/de_broglie_wavelength)**3 / (phys.nH*rs**3) * np.exp(-phys.He_ion_eng/T)\n",
    "    a = 1.\n",
    "    b = -rhs*(-1.) - 1\n",
    "    c = -(1 + chi)*rhs\n",
    "    \n",
    "    return (-b + np.sqrt(b**2 - 4*a*c))/(2*a)\n",
    "\n",
    "def dxHeII_dz(xHeII, rs):\n",
    "    \n",
    "    xe = 1. + xHeII\n",
    "    \n",
    "    def C_HeII(xHeII, rs):\n",
    "        \n",
    "        T = TCMB(rs)\n",
    "        xp = xH_idl_func(rs)\n",
    "        A_2p = 1.798287e9\n",
    "        \n",
    "        tauHe = 3*A_2p*phys.nH*rs**3*(f_He - xHeII) * (lambda_HeI_21p**3)/(8*np.pi*hubble(rs))\n",
    "        \n",
    "        pHe_s = (1. - np.exp(-tauHe))/tauHe\n",
    "        \n",
    "        gamma_numer = 3*A_2p*(f_He - xHeII)*lambda_HeI_21p**2\n",
    "        sigma = phys.photo_ion_xsec(2*np.pi*phys.hbar*phys.c/lambda_HeI_21p, 'HI')\n",
    "        Delta_nu = (phys.c/lambda_HeI_21p)*np.sqrt(2*T/(3.9715*phys.mp))\n",
    "        gamma_denom = 8*np.pi**(3/2)*sigma*Delta_nu*(1 - xp)\n",
    "        if xp >= 1:\n",
    "            gamma = np.inf\n",
    "        else:\n",
    "            gamma = gamma_numer/gamma_denom\n",
    "        \n",
    "        aHe = 0.36\n",
    "        bHe = 0.86\n",
    "#         bHe = 1.2\n",
    "        p_con_H = 1/(1 + aHe*gamma**bHe)\n",
    "        K_HeI = (1/3)/(A_2p * (pHe_s + p_con_H) * phys.nH*rs**3*(f_He - xHeII))\n",
    "        \n",
    "# #         tauHe_s = 3*A_2p*preco->CK_He*3.*n_He*(1.-x_He)/Hz;\n",
    "# #         pHe_s = (1.-exp(-tauHe_s))/tauHe_s;\n",
    "# #         K_He = 1./(_A2P_s_*pHe_s*3.*n_He*(1.-x_He))\n",
    "        \n",
    "#         K_HeI = (lambda_HeI_21p**3)/(8*np.pi*hubble(rs)) #cm^3 s\n",
    "        \n",
    "        Lambda_HeI = 51.3 #s^-1\n",
    "        \n",
    "        numer = 1 + K_HeI*Lambda_HeI*(phys.nH*rs**3)*(f_He - xHeII)*np.exp(E_ps/T)\n",
    "        denom = 1 + K_HeI*(Lambda_HeI + beta_HeI(T))*(phys.nH*rs**3)*(f_He - xHeII)*np.exp(E_ps/T)\n",
    "        \n",
    "        return numer/denom\n",
    "    \n",
    "    def C_HeII_triplet(xHeII, rs):\n",
    "        \n",
    "        T = TCMB(rs)\n",
    "        \n",
    "        A_2p_triplet = 177.58\n",
    "        \n",
    "        tauHe_t = 3*A_2p_triplet*phys.nH*rs**3*(f_He - xHeII) * (lambda_HeI_23p**3)/(8*np.pi*hubble(rs))\n",
    "        pHe_t = (1. - np.exp(-tauHe_t))/tauHe_t\n",
    "        \n",
    "        CfHe_t = A_2p_triplet*pHe_t*np.exp(-E_ps_triplet/T);\n",
    "        CfHe_t = CfHe_t/(beta_HeI_triplet(T) + CfHe_t)\n",
    "        \n",
    "        return CfHe_t\n",
    "    \n",
    "    time_fac = 1/(hubble(rs)*rs)\n",
    "    \n",
    "    term_recomb = xHeII * xe * (phys.nH * rs**3) * alpha_HeI(TCMB(rs))\n",
    "    term_ion    = beta_HeI(TCMB(rs)) * (f_He - xHeII) * np.exp(-(2*np.pi*phys.hbar*phys.c/lambda_HeI_21s)/TCMB(rs))\n",
    "    \n",
    "    term_recomb_triplet = xHeII * xe * (phys.nH * rs**3) * alpha_HeI_triplet(TCMB(rs))\n",
    "    term_ion_triplet    = 3*beta_HeI_triplet(TCMB(rs)) * (f_He - xHeII) * np.exp(-(2*np.pi*phys.hbar*phys.c/lambda_HeI_23s)/TCMB(rs))\n",
    "    \n",
    "#     print('diagnoses start...')\n",
    "#     print(C_HeII(xHeII, rs))\n",
    "#     print(C_HeII_triplet(xHeII, rs))\n",
    "#     print(time_fac)\n",
    "#     print(term_recomb)\n",
    "#     print(term_ion)\n",
    "#     print('diagnoses end.')\n",
    "    \n",
    "    if xHeII > 0.99*chi:\n",
    "        \n",
    "        from scipy.misc import derivative\n",
    "        \n",
    "        return derivative(xe_Saha, rs)\n",
    "    \n",
    "    return (\n",
    "        C_HeII(xHeII, rs) * time_fac * (term_recomb - term_ion)\n",
    "        + C_HeII_triplet(xHeII, rs) * time_fac *(term_recomb_triplet - term_ion_triplet)\n",
    "    )\n",
    "        \n",
    "        \n",
    "        "
   ]
  },
  {
   "cell_type": "code",
   "execution_count": 22,
   "metadata": {},
   "outputs": [],
   "source": [
    "%autoreload\n",
    "\n",
    "init_cond = chi\n",
    "rs_vec = np.arange(3000, 1400, -0.2)\n",
    "soln = odeint(dxHeII_dz, init_cond, rs_vec, mxstep=0)\n",
    "\n",
    "soln = soln.flatten()"
   ]
  },
  {
   "cell_type": "code",
   "execution_count": 23,
   "metadata": {
    "scrolled": false
   },
   "outputs": [
    {
     "data": {
      "text/plain": [
       "[1600, 3000, 0.99, 1.09]"
      ]
     },
     "execution_count": 23,
     "metadata": {},
     "output_type": "execute_result"
    },
    {
     "data": {
      "image/png": "[encoded data removed]",
      "text/plain": [
       "<Figure size 432x288 with 1 Axes>"
      ]
     },
     "metadata": {
      "needs_background": "light"
     },
     "output_type": "display_data"
    }
   ],
   "source": [
    "plt.figure()\n",
    "\n",
    "plt.plot(rs_vec, soln+1)\n",
    "plt.plot(rs_vec, xHe_idl_func(rs_vec)*chi+1)\n",
    "plt.plot(rs_vec, xe_Saha(rs_vec))\n",
    "\n",
    "plt.axis([1600, 3000, .99, 1.09])"
   ]
  },
  {
   "cell_type": "code",
   "execution_count": 27,
   "metadata": {},
   "outputs": [],
   "source": [
    "a = np.loadtxt('/Users/hongwan/Recfast++/Recfast_1_4_2/recfast_1_4_2_default.txt')\n",
    "z_recfast = a[:,0]\n",
    "xe_recfast = a[:,1]"
   ]
  },
  {
   "cell_type": "code",
   "execution_count": 29,
   "metadata": {},
   "outputs": [
    {
     "data": {
      "text/plain": [
       "[1000, 3000, 0, 0.09]"
      ]
     },
     "execution_count": 29,
     "metadata": {},
     "output_type": "execute_result"
    },
    {
     "data": {
      "image/png": "[encoded data removed]",
      "text/plain": [
       "<Figure size 432x288 with 1 Axes>"
      ]
     },
     "metadata": {
      "needs_background": "light"
     },
     "output_type": "display_data"
    }
   ],
   "source": [
    "plt.figure()\n",
    "\n",
    "plt.plot(rs_vec, soln)\n",
    "plt.plot(z_recfast, xe_recfast-1)\n",
    "plt.axis([1000, 3000, 0, 0.09])"
   ]
  },
  {
   "cell_type": "code",
   "execution_count": null,
   "metadata": {},
   "outputs": [],
   "source": []
  }
 ],
 "metadata": {
  "kernelspec": {
   "display_name": "Python 3",
   "language": "python",
   "name": "python3"
  },
  "language_info": {
   "codemirror_mode": {
    "name": "ipython",
    "version": 3
   },
   "file_extension": ".py",
   "mimetype": "text/x-python",
   "name": "python",
   "nbconvert_exporter": "python",
   "pygments_lexer": "ipython3",
   "version": "3.6.7"
  },
  "toc": {
   "base_numbering": 1,
   "nav_menu": {},
   "number_sections": true,
   "sideBar": true,
   "skip_h1_title": false,
   "title_cell": "Table of Contents",
   "title_sidebar": "Contents",
   "toc_cell": false,
   "toc_position": {},
   "toc_section_display": true,
   "toc_window_display": false
  }
 },
 "nbformat": 4,
 "nbformat_minor": 2
}
