{
 "cells": [
  {
   "cell_type": "markdown",
   "metadata": {},
   "source": [
    "# Producing the Transfer Functions"
   ]
  },
  {
   "cell_type": "code",
   "execution_count": 1,
   "metadata": {},
   "outputs": [],
   "source": [
    "%load_ext autoreload\n",
    "import sys\n",
    "sys.path.append(\"..\")"
   ]
  },
  {
   "cell_type": "markdown",
   "metadata": {},
   "source": [
    "## Notebook Initialization"
   ]
  },
  {
   "cell_type": "code",
   "execution_count": 2,
   "metadata": {},
   "outputs": [
    {
     "name": "stderr",
     "output_type": "stream",
     "text": [
      "/usr/local/lib/python3.7/site-packages/matplotlib/__init__.py:535: UserWarning: matplotlibrc text.usetex option can not be used unless TeX is installed on your system\n",
      "  warnings.warn('matplotlibrc text.usetex option can not be used unless '\n",
      "/usr/local/lib/python3.7/site-packages/matplotlib/__init__.py:543: UserWarning: matplotlibrc text.usetex can not be used with *Agg backend unless dvipng-1.6 or later is installed on your system\n",
      "  'your system' % dvipng_req)\n"
     ]
    }
   ],
   "source": [
    "%autoreload\n",
    "import numpy as np\n",
    "import pickle\n",
    "from tqdm import tqdm_notebook as tqdm\n",
    "\n",
    "import matplotlib\n",
    "matplotlib.rc_file('matplotlibrc')\n",
    "import matplotlib.pyplot as plt\n",
    "\n",
    "%matplotlib inline\n",
    "\n",
    "matplotlib.rcParams['figure.figsize'] = [10,10]\n",
    "\n",
    "\n",
    "from darkhistory.spec.spectrum import Spectrum\n",
    "import darkhistory.spec.spectools as spectools\n",
    "import darkhistory.spec.transferfunction as tf\n",
    "import darkhistory.spec.transferfunclist as tflist\n",
    "import darkhistory.physics as phys\n",
    "import darkhistory.utilities as utils\n",
    "\n",
    "from scipy.interpolate import interp1d\n",
    "from scipy.interpolate import RegularGridInterpolator\n",
    "\n",
    "# np.set_printoptions(threshold=np.nan)"
   ]
  },
  {
   "cell_type": "markdown",
   "metadata": {},
   "source": [
    "## Import Raw Data"
   ]
  },
  {
   "cell_type": "code",
   "execution_count": 5,
   "metadata": {},
   "outputs": [],
   "source": [
    "standard_tfs = False\n",
    "\n",
    "if standard_tfs == True:\n",
    "    direc = '/Users/gregoryridgway/Desktop/DM/tfs_standard_xe_xHe_full_rs/'\n",
    "    xes_str = ['0.000E+00']\n",
    "    extra= '_full_rs'\n",
    "else:\n",
    "    direc = '/Users/gregoryridgway/Desktop/DM/tfs_tmp/'\n",
    "    xes_str = [\n",
    "        '4.540E-05', '2.746E-04', '1.659E-03', '9.952E-03', \n",
    "        '2.660E-02', '5.732E-02', '1.192E-01', '1.680E-01', '2.142E-01', '2.689E-01', '3.823E-01', \n",
    "        '5.000E-01', '5.987E-01', '6.900E-01', '8.022E-01', \n",
    "        '9.309E-01', '9.879E-01', '9.980E-01', '9.997E-01'   \n",
    "    ]\n",
    "    extra='_full_rs'\n",
    "\n",
    "file_names = [\n",
    "    direc\n",
    "    +'transferfunction_withloweng_cmbloss_60eV_fixed_binning_complete_xe_'\n",
    "    +string+extra+'_nointerp.p'\n",
    "    for string in xes_str    \n",
    "]\n",
    "\n",
    "raw_tf_tuple = [pickle.load(open(file_name, \"rb\")) for file_name in file_names]\n",
    "\n",
    "# xe, in_eng, rs, eng, type={highengphot, lowengphot, lowengelec}\n",
    "raw_tf_list = np.array([tup[0] for tup in raw_tf_tuple])\n",
    "# Truncate the energy binning, because in_eng does not go up to the end.\n",
    "# raw_tf_list = raw_tf_list[:,:,:,:494,:]\n",
    "# xe, in_eng, rs\n",
    "CMB_engloss_list = np.array([tup[1] for tup in raw_tf_tuple])\n",
    "# xe, in_eng, rs, {H-ion, Exc, Heating, Cont.}\n",
    "highdeposited_list = np.array([tup[2] for tup in raw_tf_tuple])\n",
    "# xe, in_eng, rs, type={mwimp, rs}\n",
    "info_list = np.array([tup[3] for tup in raw_tf_tuple])\n",
    "# xe, in_eng, rs, type={photeng, eleceng}, eng\n",
    "abscissae_list = np.array([tup[4] for tup in raw_tf_tuple])\n",
    "# abscissae_list = abscissae_list[:,:,:,:,:494]"
   ]
  },
  {
   "cell_type": "code",
   "execution_count": 6,
   "metadata": {},
   "outputs": [],
   "source": [
    "# This checks that all of the abscissae are equal.\n",
    "for i in np.arange(info_list.shape[0]):\n",
    "    for j in np.arange(info_list.shape[1]):\n",
    "        if not np.array_equal(\n",
    "            info_list[i,j,:,1],\n",
    "            info_list[0,0,:,1]\n",
    "        ):\n",
    "            print('NOPE!')\n",
    "        for k in np.arange(info_list.shape[2]):\n",
    "            if not np.array_equal(\n",
    "                info_list[i,:,k,0],\n",
    "                info_list[0,:,0,0]\n",
    "            ):\n",
    "                print('NOPE!')\n",
    "            if not np.array_equal(\n",
    "                abscissae_list[i,j,k,0,:],\n",
    "                abscissae_list[0,0,0,0,:]\n",
    "            ):\n",
    "                print('NOPE!')\n",
    "            if not np.array_equal(\n",
    "                abscissae_list[i,j,k,1,:],\n",
    "                abscissae_list[0,0,0,1,:]\n",
    "            ):\n",
    "                print('NOPE!')\n",
    "                \n",
    "if standard_tfs:\n",
    "    xe_arr = np.array([0])\n",
    "else:\n",
    "    xe_arr = 0.5 + 0.5*np.tanh(\n",
    "        [-5., -4.1, -3.2, -2.3, \n",
    "         -1.8, -1.4, -1, -0.8, -0.65, -0.5, -0.24, \n",
    "         0.0, 0.2, 0.4, 0.7, \n",
    "         1.3, 2.2, 3.1, 4.]\n",
    "    )\n",
    "\n",
    "rs_arr    = info_list[0,0,:,1]\n",
    "mwimp_arr = info_list[0,:,0,0]\n",
    "photeng = abscissae_list[0,0,0,0,:]\n",
    "eleceng = abscissae_list[0,0,0,1,:]"
   ]
  },
  {
   "cell_type": "markdown",
   "metadata": {},
   "source": [
    "## Raw Data Manipulation"
   ]
  },
  {
   "cell_type": "markdown",
   "metadata": {},
   "source": [
    "The transfer function is calculated by injecting 2 photons at the input energy abscissa. However, the first step is to assign $x$ photons to the top bin of the *output* photon abscissa, such that $x$ times the energy of the top bin is 2 times the injection energy. Because of the misalignment between the two abscissae, as well as the fact that we want to transfer function for a single electron, we have to normalize the results first.\n",
    "\n",
    "First, we construct two arrays: a list of output abscissae (for both photons and electrons) given the injection abscissa, and a list of the energy of the *output* photon energy bin where the injected photons are assigned to. Then we compute the normalization factor. "
   ]
  },
  {
   "cell_type": "code",
   "execution_count": 7,
   "metadata": {},
   "outputs": [],
   "source": [
    "# This treatment is consistent with ih_transferfunction\n",
    "photeng_bin_width = np.diff(np.log(spectools.get_bin_bound(photeng))) * photeng\n",
    "eleceng_bin_width = np.diff(np.log(spectools.get_bin_bound(eleceng))) * eleceng\n",
    "\n",
    "\n",
    "# Original injection energies\n",
    "top_photeng_bins = np.array(\n",
    "    [\n",
    "        photeng[photeng <= mwimp][-1]\n",
    "        for mwimp in mwimp_arr\n",
    "    ]\n",
    ")\n",
    "\n",
    "norm_fac_arr = 2*mwimp_arr/top_photeng_bins"
   ]
  },
  {
   "cell_type": "markdown",
   "metadata": {},
   "source": [
    "Dividing by the normalization factor gives the spectra for the injection of 1 photon, with energy given by `top_photeng_bins`. \n",
    "\n",
    "Now we construct a raw array of all of the transfer functions, on which we will perform an interpolation to extract a set of transfer functions for use, given a chosen abscissa."
   ]
  },
  {
   "cell_type": "code",
   "execution_count": 8,
   "metadata": {},
   "outputs": [
    {
     "data": {
      "application/vnd.jupyter.widget-view+json": {
       "model_id": "045930c6aec04dda872136ae74080f05",
       "version_major": 2,
       "version_minor": 0
      },
      "text/plain": [
       "HBox(children=(IntProgress(value=0, max=19), HTML(value='')))"
      ]
     },
     "metadata": {},
     "output_type": "display_data"
    },
    {
     "name": "stdout",
     "output_type": "stream",
     "text": [
      "\n"
     ]
    },
    {
     "data": {
      "application/vnd.jupyter.widget-view+json": {
       "model_id": "719716a4300d4790b01547f0f310eacb",
       "version_major": 2,
       "version_minor": 0
      },
      "text/plain": [
       "HBox(children=(IntProgress(value=0, max=19), HTML(value='')))"
      ]
     },
     "metadata": {},
     "output_type": "display_data"
    },
    {
     "name": "stdout",
     "output_type": "stream",
     "text": [
      "\n"
     ]
    },
    {
     "data": {
      "application/vnd.jupyter.widget-view+json": {
       "model_id": "a41b545aa92d40fab55efd1a2be26aa1",
       "version_major": 2,
       "version_minor": 0
      },
      "text/plain": [
       "HBox(children=(IntProgress(value=0, max=19), HTML(value='')))"
      ]
     },
     "metadata": {},
     "output_type": "display_data"
    },
    {
     "name": "stdout",
     "output_type": "stream",
     "text": [
      "\n"
     ]
    }
   ],
   "source": [
    "# Multiplying by bin width converts all the eleceng array into number of particles. \n",
    "# Indexing: xe, in_eng, rs, eng, type={highengphot, lowengphot, lowengelec}\n",
    "\n",
    "phot_tf_raw = np.array([\n",
    "    [\n",
    "        [\n",
    "            raw_tf[i,j,:,0]/norm_fac*photeng_bin_width\n",
    "                for (j, rs) in enumerate(rs_arr)   \n",
    "        ]\n",
    "        for (i, (in_eng, norm_fac)) in enumerate(zip(mwimp_arr, norm_fac_arr))\n",
    "        \n",
    "    ] for raw_tf in tqdm(raw_tf_list)\n",
    "])\n",
    "\n",
    "lowengphot_tf_raw = np.array([\n",
    "    [\n",
    "        [\n",
    "            raw_tf[i,j,:,1]/norm_fac*photeng_bin_width \n",
    "                for (j, rs) in enumerate(rs_arr)   \n",
    "        ]\n",
    "        for (i, (in_eng, norm_fac)) in enumerate(zip(mwimp_arr, norm_fac_arr))\n",
    "        \n",
    "    ] for raw_tf in tqdm(raw_tf_list)\n",
    "])\n",
    "\n",
    "lowengelec_tf_raw = np.array([\n",
    "    [\n",
    "        [\n",
    "            raw_tf[i,j,:,2]/norm_fac*eleceng_bin_width \n",
    "                for (j, rs) in enumerate(rs_arr)   \n",
    "        ]\n",
    "        for (i, (in_eng, norm_fac)) in enumerate(zip(mwimp_arr, norm_fac_arr))\n",
    "        \n",
    "    ] for raw_tf in tqdm(raw_tf_list)\n",
    "])\n",
    "\n",
    "# xe, in_eng, rs\n",
    "CMB_engloss = CMB_engloss_list/np.outer(norm_fac_arr, np.ones_like(rs_arr))\n",
    "\n",
    "# xe, in_eng, rs, {H-Ion, Exc, Heat, Cont}\n",
    "denom_highdeposited = np.ones((xe_arr.size, rs_arr.size, 4, norm_fac_arr.size))\n",
    "denom_highdeposited *= norm_fac_arr\n",
    "denom_highdeposited = np.rollaxis(denom_highdeposited, 3, 1)\n",
    "highdeposited = highdeposited_list/denom_highdeposited"
   ]
  },
  {
   "cell_type": "code",
   "execution_count": 9,
   "metadata": {},
   "outputs": [
    {
     "name": "stdout",
     "output_type": "stream",
     "text": [
      "(327,)\n"
     ]
    }
   ],
   "source": [
    "photeng_high = photeng[photeng > 60]\n",
    "print(photeng_high.shape)\n",
    "\n",
    "new_phot_tf_raw = phot_tf_raw\n",
    "new_lowengphot_tf_raw = lowengphot_tf_raw\n",
    "new_lowengelec_tf_raw = lowengelec_tf_raw\n",
    "new_cmbloss_raw = CMB_engloss\n",
    "new_highdeposited_raw = highdeposited"
   ]
  },
  {
   "cell_type": "markdown",
   "metadata": {},
   "source": [
    "Now, we construct the list of `Spectrum` objects from our raw array of transfer functions..."
   ]
  },
  {
   "cell_type": "code",
   "execution_count": 10,
   "metadata": {},
   "outputs": [
    {
     "data": {
      "application/vnd.jupyter.widget-view+json": {
       "model_id": "b5dd7a37a11b4b9bbcef3e09bdbb5f53",
       "version_major": 2,
       "version_minor": 0
      },
      "text/plain": [
       "HBox(children=(IntProgress(value=0, max=19), HTML(value='')))"
      ]
     },
     "metadata": {},
     "output_type": "display_data"
    },
    {
     "name": "stdout",
     "output_type": "stream",
     "text": [
      "\n"
     ]
    },
    {
     "data": {
      "application/vnd.jupyter.widget-view+json": {
       "model_id": "14e4ce0a4a084e0f88c3efe79a28d03b",
       "version_major": 2,
       "version_minor": 0
      },
      "text/plain": [
       "HBox(children=(IntProgress(value=0, max=19), HTML(value='')))"
      ]
     },
     "metadata": {},
     "output_type": "display_data"
    },
    {
     "name": "stdout",
     "output_type": "stream",
     "text": [
      "\n"
     ]
    },
    {
     "data": {
      "application/vnd.jupyter.widget-view+json": {
       "model_id": "ab965694b5204fe18ef56077da7c3466",
       "version_major": 2,
       "version_minor": 0
      },
      "text/plain": [
       "HBox(children=(IntProgress(value=0, max=19), HTML(value='')))"
      ]
     },
     "metadata": {},
     "output_type": "display_data"
    },
    {
     "name": "stdout",
     "output_type": "stream",
     "text": [
      "\n"
     ]
    }
   ],
   "source": [
    "# spec_type = 'N' for eleceng, because we have already multiplied in the bin width earlier. \n",
    "\n",
    "#xe, in_eng, rs, eng\n",
    "photspec_list = [\n",
    "    [\n",
    "        [\n",
    "            Spectrum(\n",
    "                photeng, phot_tf[i,j,:], spec_type='N', \n",
    "                rs = rs, in_eng = in_eng\n",
    "            ) for (j, rs) in enumerate(rs_arr)\n",
    "        ] for (i, in_eng) in enumerate(photeng_high)\n",
    "    ] for phot_tf in tqdm(new_phot_tf_raw)\n",
    "]\n",
    "\n",
    "lowengphotspec_list = [\n",
    "    [\n",
    "        [\n",
    "            Spectrum(\n",
    "                photeng, lowengphot_tf[i,j,:], spec_type='N', \n",
    "                rs = rs, in_eng = in_eng\n",
    "            ) for (j, rs) in enumerate(rs_arr)\n",
    "        ] for (i, in_eng) in enumerate(photeng_high)\n",
    "    ] for lowengphot_tf in tqdm(new_lowengphot_tf_raw)\n",
    "]\n",
    "\n",
    "lowengelecspec_list = [\n",
    "    [\n",
    "        [\n",
    "            Spectrum(\n",
    "                eleceng, lowengelec_tf[i,j,:], spec_type='N', \n",
    "                rs = rs, in_eng = in_eng\n",
    "            ) for (j, rs) in enumerate(rs_arr)\n",
    "        ] for (i, in_eng) in enumerate(photeng_high)\n",
    "    ] for lowengelec_tf in tqdm(new_lowengelec_tf_raw)\n",
    "]\n"
   ]
  },
  {
   "cell_type": "markdown",
   "metadata": {},
   "source": [
    "Finally, we can construct the `TransferFuncList` from this."
   ]
  },
  {
   "cell_type": "code",
   "execution_count": 11,
   "metadata": {},
   "outputs": [
    {
     "data": {
      "application/vnd.jupyter.widget-view+json": {
       "model_id": "bbfba29487ec47ada6759b42ec0fc0da",
       "version_major": 2,
       "version_minor": 0
      },
      "text/plain": [
       "HBox(children=(IntProgress(value=0, max=19), HTML(value='')))"
      ]
     },
     "metadata": {},
     "output_type": "display_data"
    },
    {
     "name": "stdout",
     "output_type": "stream",
     "text": [
      "\n"
     ]
    },
    {
     "data": {
      "application/vnd.jupyter.widget-view+json": {
       "model_id": "6751436ed5c84c1da6cb50eb083fab50",
       "version_major": 2,
       "version_minor": 0
      },
      "text/plain": [
       "HBox(children=(IntProgress(value=0, max=19), HTML(value='')))"
      ]
     },
     "metadata": {},
     "output_type": "display_data"
    },
    {
     "name": "stdout",
     "output_type": "stream",
     "text": [
      "\n"
     ]
    },
    {
     "data": {
      "application/vnd.jupyter.widget-view+json": {
       "model_id": "921be60186524b1082258dacdb056f21",
       "version_major": 2,
       "version_minor": 0
      },
      "text/plain": [
       "HBox(children=(IntProgress(value=0, max=19), HTML(value='')))"
      ]
     },
     "metadata": {},
     "output_type": "display_data"
    },
    {
     "name": "stdout",
     "output_type": "stream",
     "text": [
      "\n"
     ]
    }
   ],
   "source": [
    "tfunclist_photspec_list = [\n",
    "    tflist.TransferFuncList(\n",
    "        [\n",
    "            tf.TransFuncAtEnergy(spec_arr, dlnz=0.001)\n",
    "            for spec_arr in photspec_xe\n",
    "        ]\n",
    "    ) for photspec_xe in tqdm(photspec_list)\n",
    "]\n",
    "\n",
    "tfunclist_lowengphotspec_list = [\n",
    "    tflist.TransferFuncList(\n",
    "        [\n",
    "            tf.TransFuncAtEnergy(spec_arr, dlnz=0.001)\n",
    "            for spec_arr in lowengphotspec_xe\n",
    "        ]\n",
    "    ) for lowengphotspec_xe in tqdm(lowengphotspec_list)\n",
    "]\n",
    "    \n",
    "\n",
    "tfunclist_lowengelecspec_list = [\n",
    "    tflist.TransferFuncList(\n",
    "        [\n",
    "            tf.TransFuncAtEnergy(spec_arr, dlnz=0.001)\n",
    "            for spec_arr in lowengelecspec_xe\n",
    "        ]\n",
    "    ) for lowengelecspec_xe in tqdm(lowengelecspec_list)\n",
    "]"
   ]
  },
  {
   "cell_type": "markdown",
   "metadata": {},
   "source": [
    "We will now transpose all of the `TransferFuncList` objects so that they are now all of type `'rs'`."
   ]
  },
  {
   "cell_type": "code",
   "execution_count": 12,
   "metadata": {},
   "outputs": [],
   "source": [
    "for tflist_hep, tflist_lep, tflist_lee in zip(\n",
    "    tfunclist_photspec_list, tfunclist_lowengphotspec_list, tfunclist_lowengelecspec_list):\n",
    "    tflist_hep.transpose()\n",
    "    tflist_lep.transpose()\n",
    "    tflist_lee.transpose()\n",
    "    for i, tf_hep, tf_lep, tf_lee in zip(np.arange(327), tflist_hep, tflist_lep, tflist_lee):\n",
    "        if np.any(np.isnan(tf_hep._grid_vals)):\n",
    "            print(np.where(np.isnan(tf_hep._grid_vals)),'here!')\n",
    "        if np.any(np.isnan(tf_lep._grid_vals)):\n",
    "            print(np.where(np.isnan(tf_lep._grid_vals)),'here1!')\n",
    "        if np.any(np.isnan(tf_lee._grid_vals)):\n",
    "            print(np.where(np.isnan(tf_lee._grid_vals)),'here2!')\n",
    "        \n",
    "        tf_hep._grid_vals[np.where(tf_hep.grid_vals < 0)] = 1e-100\n",
    "        tf_lep._grid_vals[np.where(tf_lep.grid_vals < 0)] = 1e-100\n",
    "        tf_lee._grid_vals[np.where(tf_lee.grid_vals < 0)] = 1e-100\n",
    "\n",
    "#low energy photon spectrum with the CMB subtracted\n",
    "tfunclist_lowengphotspec_subtracted_list = tfunclist_lowengphotspec_list.copy()"
   ]
  },
  {
   "cell_type": "markdown",
   "metadata": {},
   "source": [
    "And, finally, save the transfer functions."
   ]
  },
  {
   "cell_type": "code",
   "execution_count": 13,
   "metadata": {},
   "outputs": [],
   "source": [
    "def save_as_pickled_object(obj, filepath):\n",
    "    \"\"\"\n",
    "    This is a defensive way to write pickle.write, allowing for very large files on all platforms\n",
    "    \"\"\"\n",
    "    max_bytes = 2**31 - 1\n",
    "    bytes_out = pickle.dumps(obj)\n",
    "    n_bytes = sys.getsizeof(bytes_out)\n",
    "    with open(filepath, 'wb') as f_out:\n",
    "        for idx in range(0, n_bytes, max_bytes):\n",
    "            f_out.write(bytes_out[idx:idx+max_bytes])"
   ]
  },
  {
   "cell_type": "code",
   "execution_count": 14,
   "metadata": {},
   "outputs": [],
   "source": [
    "if standard_tfs:\n",
    "    direc = \"/Users/gregoryridgway/Desktop/DM/tfs_standard_xe_xHe_full_rs/\"\n",
    "    string=\"_standard_xe_xHe_full_rs\"\n",
    "else:\n",
    "    direc = \"/Users/gregoryridgway/Desktop/DM/tfs_tmp/\"\n",
    "    string = \"_xHe0\"\n",
    "\n",
    "save_as_pickled_object(tfunclist_photspec_list, direc+\"tfunclist_photspec_60eV_complete\"+string+\".raw\")\n",
    "save_as_pickled_object(tfunclist_lowengphotspec_list, direc+\"tfunclist_lowengphotspec_60eV_complete\"+string+\".raw\")\n",
    "save_as_pickled_object(tfunclist_lowengelecspec_list, direc+\"tfunclist_lowengelecspec_60eV_complete\"+string+\".raw\")\n",
    "save_as_pickled_object(new_cmbloss_raw, direc+\"CMB_engloss_60eV_complete\"+string+\".raw\")\n",
    "save_as_pickled_object(new_highdeposited_raw, direc+\"highdeposited_60eV_complete\"+string+\".raw\")"
   ]
  },
  {
   "cell_type": "code",
   "execution_count": null,
   "metadata": {},
   "outputs": [],
   "source": []
  }
 ],
 "metadata": {
  "kernelspec": {
   "display_name": "Python 3",
   "language": "python",
   "name": "python3"
  },
  "language_info": {
   "codemirror_mode": {
    "name": "ipython",
    "version": 3
   },
   "file_extension": ".py",
   "mimetype": "text/x-python",
   "name": "python",
   "nbconvert_exporter": "python",
   "pygments_lexer": "ipython3",
   "version": "3.6.7"
  },
  "toc": {
   "base_numbering": 1,
   "nav_menu": {},
   "number_sections": true,
   "sideBar": true,
   "skip_h1_title": false,
   "title_cell": "Table of Contents",
   "title_sidebar": "Contents",
   "toc_cell": false,
   "toc_position": {},
   "toc_section_display": true,
   "toc_window_display": false
  }
 },
 "nbformat": 4,
 "nbformat_minor": 2
}
