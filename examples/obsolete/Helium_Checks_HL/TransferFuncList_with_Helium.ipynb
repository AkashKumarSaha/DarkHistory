{
 "cells": [
  {
   "cell_type": "markdown",
   "metadata": {},
   "source": [
    "# Rewriting TransferFuncList"
   ]
  },
  {
   "cell_type": "code",
   "execution_count": 1,
   "metadata": {},
   "outputs": [],
   "source": [
    "%load_ext autoreload\n",
    "import sys\n",
    "sys.path.append(\"../../..\")"
   ]
  },
  {
   "cell_type": "code",
   "execution_count": 2,
   "metadata": {},
   "outputs": [],
   "source": [
    "%autoreload\n",
    "\n",
    "import matplotlib\n",
    "matplotlib.rc_file('matplotlibrc')\n",
    "import matplotlib.pyplot as plt\n",
    "\n",
    "%matplotlib inline\n",
    "\n",
    "matplotlib.rcParams['figure.figsize'] = [10,10]\n",
    "\n",
    "# SET THIS TO TRUE TO USE LATEX\n",
    "matplotlib.rcParams['text.usetex'] = False\n",
    "\n",
    "from astropy.io import fits\n",
    "\n",
    "import numpy as np\n",
    "import copy\n",
    "import pickle\n",
    "\n",
    "import darkhistory.physics as phys\n",
    "import darkhistory.utilities as utils\n",
    "import darkhistory.spec.spectools as spectools\n",
    "import darkhistory.spec.transferfunction as tf\n",
    "import darkhistory.spec.transferfunclist as tflist\n",
    "from darkhistory.spec.spectrum import Spectrum\n",
    "from darkhistory.spec.spectra import Spectra\n",
    "import darkhistory.history.tla as tla\n",
    "\n",
    "from scipy.interpolate import interp1d\n",
    "from scipy.interpolate import interp2d\n",
    "\n",
    "from tqdm import tqdm_notebook as tqdm\n",
    "\n",
    "from darkhistory.electrons.ics.ics_spectrum import ics_spec\n",
    "from darkhistory.electrons.ics.ics_engloss_spectrum import engloss_spec\n",
    "from darkhistory.electrons.ics.ics_cooling import get_ics_cooling_tf\n",
    "\n",
    "from darkhistory.low_energy.lowE_deposition import compute_fs\n",
    "import main\n",
    "\n",
    "from tqdm import tqdm_notebook as tqdm\n",
    "\n",
    "# np.set_printoptions(threshold=np.nan)"
   ]
  },
  {
   "cell_type": "code",
   "execution_count": 6,
   "metadata": {},
   "outputs": [],
   "source": [
    "standard_tfs = False\n",
    "direc = '/Users/hongwan/Dropbox (MIT)/Photon Deposition/tfs_20190422/'\n",
    "\n",
    "flt32 = True\n",
    "\n",
    "if not flt32:\n",
    "    flt32_str = ''\n",
    "else:\n",
    "    flt32_str = '_flt32'\n",
    "\n",
    "string_fixed_xe = 'standard_xe_xHe_full_rs'+flt32_str\n",
    "string_with_xHe_0 = 'xHe0'+flt32_str\n",
    "string_with_xHe = 'full_xHe'+flt32_str\n",
    "\n",
    "################# Standard xe Transfer Functions ##############################\n",
    "# This is a TransferFuncList\n",
    "highengphot_tflist_fixed_xe = pickle.load(open(direc+'tfunclist_photspec_60eV_complete_'+string_fixed_xe+'.raw','rb'))\n",
    "highengphot_tflist_fixed_xe = highengphot_tflist_fixed_xe[0]\n",
    "\n",
    "################# xHe=0 Transfer Functions ####################################\n",
    "highengphot_tflist_xHe_0 = pickle.load(open(direc+'tfunclist_photspec_60eV_complete_'+string_with_xHe_0+'.raw', 'rb'))\n",
    "\n",
    "xes_xHe_0 = 0.5 + 0.5*np.tanh(\n",
    "    [-5., -4.1, -3.2, -2.3, -1.8, -1.4, -1, -.8, -0.65, -0.5, -.24, 0, .2, 0.4, .7, 1.3, 2.2, 3.1, 4]\n",
    ")\n",
    "\n",
    "\n",
    "\n",
    "################# Full xHe-Dependent Transfer Functions #######################\n",
    "\n",
    "highengphot_tflist_arr_with_xHe = pickle.load(open(direc+'tfunclist_photspec_60eV_complete_'+string_with_xHe+'.raw', 'rb'))\n",
    "\n",
    "xes_with_xHe = 0.5 + 0.5*np.tanh(\n",
    "    np.array(\n",
    "        [-5.0, -2.3, -0.5, 0.0, 0.4, 2.2, 4.0]\n",
    "    )\n",
    ")\n",
    "\n",
    "x_arr_with_xHe = np.array([[[xH, xHe] for xHe in xes_with_xHe] for xH in xes_with_xHe])\n"
   ]
  },
  {
   "cell_type": "code",
   "execution_count": 9,
   "metadata": {},
   "outputs": [
    {
     "data": {
      "text/plain": [
       "<darkhistory.spec.transferfunclist.TransferFuncList at 0x1816a032b0>"
      ]
     },
     "execution_count": 9,
     "metadata": {},
     "output_type": "execute_result"
    }
   ],
   "source": [
    "# highengphot_tflist_arr_with_xHe\n",
    "# highengphot_tflist_xHe_0\n",
    "highengphot_tflist_fixed_xe"
   ]
  },
  {
   "cell_type": "code",
   "execution_count": 10,
   "metadata": {},
   "outputs": [
    {
     "name": "stderr",
     "output_type": "stream",
     "text": [
      "../../../darkhistory/spec/transferfunclist.py:473: FutureWarning: arrays to stack must be passed as a \"sequence\" type such as list or tuple. Support for non-sequence iterables such as generators is deprecated as of NumPy 1.16 and will raise an error in the future.\n",
      "  ) for tflist_xHe_arr in tflist_arr\n"
     ]
    }
   ],
   "source": [
    "\n",
    "highengphot_xHe_0_tflistarr = tflist.TransferFuncListArray(highengphot_tflist_xHe_0, xes_xHe_0) \n",
    "highengphot_full_xHe_tflistarr = tflist.TransferFuncListArray(highengphot_tflist_arr_with_xHe, x_arr_with_xHe)\n"
   ]
  },
  {
   "cell_type": "code",
   "execution_count": 12,
   "metadata": {},
   "outputs": [
    {
     "name": "stdout",
     "output_type": "stream",
     "text": [
      "noninterp\n"
     ]
    }
   ],
   "source": [
    "\n",
    "\n",
    "list_of_tflistarr = [\n",
    "        highengphot_full_xHe_tflistarr, \n",
    "        highengphot_xHe_0_tflistarr, \n",
    "        highengphot_tflist_fixed_xe\n",
    "    ]\n",
    "\n",
    "a = tflist.TransferFuncInterp(list_of_tflistarr, rs_nodes=[30, 1600])"
   ]
  },
  {
   "cell_type": "code",
   "execution_count": 13,
   "metadata": {},
   "outputs": [
    {
     "data": {
      "text/plain": [
       "<darkhistory.spec.transferfunction.TransFuncAtRedshift at 0x105d90fd0>"
      ]
     },
     "execution_count": 13,
     "metadata": {},
     "output_type": "execute_result"
    }
   ],
   "source": [
    "\n",
    "a.get_tf(0.5, 0.5, 300)"
   ]
  },
  {
   "cell_type": "code",
   "execution_count": 9,
   "metadata": {},
   "outputs": [],
   "source": [
    "direc = '/Users/hongwan/Dropbox (MIT)/Photon Deposition/tfs_20190422/'\n",
    "\n",
    "flt32 = True\n",
    "\n",
    "if not flt32:\n",
    "    flt32_str = ''\n",
    "else:\n",
    "    flt32_str = '_flt32'\n",
    "\n",
    "string_fixed_xe = 'standard_xe_xHe_full_rs'\n",
    "string_with_xHe_0 = 'xHe0'\n",
    "string_with_xHe = 'full_xHe'\n",
    "\n",
    "xes_xHe_0 = 0.5 + 0.5*np.tanh(\n",
    "    [-5., -4.1, -3.2, -2.3, -1.8, -1.4, -1, -.8, -0.65, -0.5, -.24, 0, .2, 0.4, .7, 1.3, 2.2, 3.1, 4]\n",
    ")\n",
    "\n",
    "xes_with_xHe = 0.5 + 0.5*np.tanh(\n",
    "    np.array(\n",
    "        [-5.0, -2.3, -0.5, 0.0, 0.4, 2.2, 4.0]\n",
    "    )\n",
    ")\n",
    "\n",
    "x_arr_with_xHe = np.array([[[xH, xHe] for xHe in xes_with_xHe] for xH in xes_with_xHe])\n",
    "\n",
    "\n",
    "# highengdep_arr = pickle.load(\n",
    "#             open(\n",
    "#                 direc+\"highdeposited_60eV_complete_\"\n",
    "#                 +string_with_xHe+flt32_str+\".raw\", \"rb\"\n",
    "#             )\n",
    "#         )"
   ]
  },
  {
   "cell_type": "code",
   "execution_count": 10,
   "metadata": {},
   "outputs": [
    {
     "name": "stdout",
     "output_type": "stream",
     "text": [
      "Loading transfer functions, set 0\n",
      "Loaded high energy photons...\n",
      "Low energy photons...\n",
      "Low energy electrons...\n",
      "High energy deposition...\n",
      "CMB losses.\n",
      "Transfer function lists set  0  complete.\n",
      "Padding transfer functions...\n",
      "High energy photons...\n",
      "Low energy photons...\n",
      "Low energy electrons...\n",
      "High energy deposition...\n",
      "CMB losses...\n",
      "Creating array objects...\n",
      "Generating TransferFuncInterp object...\n",
      "Loading transfer functions, set 1\n",
      "Loaded high energy photons...\n",
      "Low energy photons...\n",
      "Low energy electrons...\n",
      "High energy deposition...\n",
      "CMB losses.\n",
      "Transfer function lists set  1  complete.\n",
      "Padding transfer functions...\n",
      "High energy photons...\n",
      "Low energy photons...\n",
      "Low energy electrons...\n",
      "High energy deposition...\n",
      "CMB losses...\n",
      "Creating array objects...\n",
      "Generating TransferFuncInterp object...\n",
      "Loading transfer functions, set 2\n",
      "Loaded high energy photons...\n",
      "Low energy photons...\n",
      "Low energy electrons...\n",
      "High energy deposition...\n",
      "CMB losses.\n",
      "Transfer function lists set  2  complete.\n",
      "Padding transfer functions...\n",
      "High energy photons...\n",
      "Low energy photons...\n",
      "Low energy electrons...\n",
      "High energy deposition...\n",
      "CMB losses...\n",
      "Creating array objects...\n",
      "Generating TransferFuncInterp object...\n",
      "noninterp\n",
      "noninterp\n",
      "noninterp\n",
      "noninterp\n",
      "noninterp\n"
     ]
    }
   ],
   "source": [
    "%autoreload\n",
    "\n",
    "import setup_stuff\n",
    "\n",
    "direc_arr = ['/Users/hongwan/Dropbox (MIT)/Photon Deposition/tfs_20190422/' for i in np.arange(3)]\n",
    "xes = [x_arr_with_xHe, xes_xHe_0, None]\n",
    "string_arr = [string_with_xHe+flt32_str, string_with_xHe_0+flt32_str, string_fixed_xe+flt32_str]\n",
    "\n",
    "# direc_arr = ['/Users/hongwan/Dropbox (MIT)/Photon Deposition/tfs_20190120/' for i in np.arange(2)]\n",
    "# xes = [xes_xHe_0, None]\n",
    "# string_arr = [string_with_xHe_0, string_fixed_xe]\n",
    "\n",
    "CMB_subtracted = False\n",
    "\n",
    "(highengphot_tf_interp,\n",
    "     lowengphot_tf_interp,\n",
    "     lowengelec_tf_interp,\n",
    "     highengdep_interp,\n",
    "     CMB_engloss_interp\n",
    "    ) = setup_stuff.load_trans_funcs(\n",
    "        direc_arr, xes, \n",
    "        rs_nodes = np.array([40, 1600]),\n",
    "#         rs_nodes = np.array([40, 1600]),\n",
    "        string_arr=string_arr, CMB_subtracted=CMB_subtracted)\n"
   ]
  },
  {
   "cell_type": "code",
   "execution_count": 18,
   "metadata": {},
   "outputs": [],
   "source": [
    "a = highengphot_tf_interp.get_tf(0.5, 0.9, 200)"
   ]
  },
  {
   "cell_type": "code",
   "execution_count": 19,
   "metadata": {},
   "outputs": [
    {
     "data": {
      "text/plain": [
       "dtype('float64')"
      ]
     },
     "execution_count": 19,
     "metadata": {},
     "output_type": "execute_result"
    }
   ],
   "source": [
    "a.grid_vals.dtype"
   ]
  },
  {
   "cell_type": "code",
   "execution_count": 11,
   "metadata": {},
   "outputs": [
    {
     "ename": "OSError",
     "evalue": "[Errno 22] Invalid argument",
     "output_type": "error",
     "traceback": [
      "\u001b[0;31m---------------------------------------------------------------------------\u001b[0m",
      "\u001b[0;31mOSError\u001b[0m                                   Traceback (most recent call last)",
      "\u001b[0;32m<ipython-input-11-8a8c6ae61629>\u001b[0m in \u001b[0;36m<module>\u001b[0;34m\u001b[0m\n\u001b[1;32m      3\u001b[0m \u001b[0;32mif\u001b[0m \u001b[0mflt32\u001b[0m\u001b[0;34m:\u001b[0m\u001b[0;34m\u001b[0m\u001b[0;34m\u001b[0m\u001b[0m\n\u001b[1;32m      4\u001b[0m \u001b[0;34m\u001b[0m\u001b[0m\n\u001b[0;32m----> 5\u001b[0;31m     \u001b[0mpickle\u001b[0m\u001b[0;34m.\u001b[0m\u001b[0mdump\u001b[0m\u001b[0;34m(\u001b[0m\u001b[0mhighengphot_tf_interp\u001b[0m\u001b[0;34m,\u001b[0m \u001b[0mopen\u001b[0m\u001b[0;34m(\u001b[0m\u001b[0mdata_direc\u001b[0m\u001b[0;34m+\u001b[0m\u001b[0;34m'highengphot_tf_interp_flt32.raw'\u001b[0m\u001b[0;34m,\u001b[0m\u001b[0;34m'wb'\u001b[0m\u001b[0;34m)\u001b[0m\u001b[0;34m)\u001b[0m\u001b[0;34m\u001b[0m\u001b[0;34m\u001b[0m\u001b[0m\n\u001b[0m\u001b[1;32m      6\u001b[0m     \u001b[0mpickle\u001b[0m\u001b[0;34m.\u001b[0m\u001b[0mdump\u001b[0m\u001b[0;34m(\u001b[0m\u001b[0mlowengphot_tf_interp\u001b[0m\u001b[0;34m,\u001b[0m  \u001b[0mopen\u001b[0m\u001b[0;34m(\u001b[0m\u001b[0mdata_direc\u001b[0m\u001b[0;34m+\u001b[0m\u001b[0;34m'lowengphot_tf_interp_flt32.raw'\u001b[0m \u001b[0;34m,\u001b[0m\u001b[0;34m'wb'\u001b[0m\u001b[0;34m)\u001b[0m\u001b[0;34m)\u001b[0m\u001b[0;34m\u001b[0m\u001b[0;34m\u001b[0m\u001b[0m\n\u001b[1;32m      7\u001b[0m     \u001b[0mpickle\u001b[0m\u001b[0;34m.\u001b[0m\u001b[0mdump\u001b[0m\u001b[0;34m(\u001b[0m\u001b[0mlowengelec_tf_interp\u001b[0m\u001b[0;34m,\u001b[0m  \u001b[0mopen\u001b[0m\u001b[0;34m(\u001b[0m\u001b[0mdata_direc\u001b[0m\u001b[0;34m+\u001b[0m\u001b[0;34m'lowengelec_tf_interp_flt32.raw'\u001b[0m \u001b[0;34m,\u001b[0m\u001b[0;34m'wb'\u001b[0m\u001b[0;34m)\u001b[0m\u001b[0;34m)\u001b[0m\u001b[0;34m\u001b[0m\u001b[0;34m\u001b[0m\u001b[0m\n",
      "\u001b[0;31mOSError\u001b[0m: [Errno 22] Invalid argument"
     ]
    }
   ],
   "source": [
    "data_direc = '/Users/hongwan/Dropbox (MIT)/Photon Deposition/DarkHistory_data/'\n",
    "\n",
    "if flt32:\n",
    "\n",
    "    pickle.dump(highengphot_tf_interp, open(data_direc+'highengphot_tf_interp_flt32.raw','wb'))\n",
    "    pickle.dump(lowengphot_tf_interp,  open(data_direc+'lowengphot_tf_interp_flt32.raw' ,'wb'))\n",
    "    pickle.dump(lowengelec_tf_interp,  open(data_direc+'lowengelec_tf_interp_flt32.raw' ,'wb'))\n",
    "    # pickle.dump(highengdep_interp, data_direc+'highengde_tf_interp_flt32.raw')\n",
    "    # pickle.dump(CMB_engloss_interp, data_direc+'highengphot_tf_interp_flt32.raw')"
   ]
  },
  {
   "cell_type": "code",
   "execution_count": null,
   "metadata": {},
   "outputs": [],
   "source": []
  }
 ],
 "metadata": {
  "kernelspec": {
   "display_name": "Python 3",
   "language": "python",
   "name": "python3"
  },
  "language_info": {
   "codemirror_mode": {
    "name": "ipython",
    "version": 3
   },
   "file_extension": ".py",
   "mimetype": "text/x-python",
   "name": "python",
   "nbconvert_exporter": "python",
   "pygments_lexer": "ipython3",
   "version": "3.6.7"
  },
  "toc": {
   "base_numbering": 1,
   "nav_menu": {},
   "number_sections": true,
   "sideBar": true,
   "skip_h1_title": false,
   "title_cell": "Table of Contents",
   "title_sidebar": "Contents",
   "toc_cell": false,
   "toc_position": {},
   "toc_section_display": true,
   "toc_window_display": false
  }
 },
 "nbformat": 4,
 "nbformat_minor": 2
}
