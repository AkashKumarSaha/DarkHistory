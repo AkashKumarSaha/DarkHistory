{
 "cells": [
  {
   "cell_type": "code",
   "execution_count": 1,
   "metadata": {},
   "outputs": [],
   "source": [
    "%load_ext autoreload"
   ]
  },
  {
   "cell_type": "code",
   "execution_count": 2,
   "metadata": {},
   "outputs": [],
   "source": [
    "%autoreload\n",
    "\n",
    "\n",
    "import numpy as np\n",
    "import darkhistory.physics as phys\n",
    "import darkhistory.utilities as utils\n",
    "import darkhistory.spec.spectrum as spectrum\n",
    "import darkhistory.spec.spectra as spectra\n",
    "import darkhistory.spec.spectools as spectools\n",
    "import darkhistory.spec.transferfunction as tf\n",
    "import darkhistory.spec.transferfunclist as tfl\n",
    "import matplotlib\n",
    "import matplotlib.pyplot as plt\n",
    "import pickle\n",
    "\n",
    "%matplotlib inline\n",
    "\n",
    "np.set_printoptions(threshold=np.nan)\n",
    "matplotlib.rcParams['figure.figsize'] = [10,10]\n",
    "\n",
    "\n",
    "from scipy import integrate\n",
    "from astropy.io import fits\n",
    "from tqdm import tqdm_notebook as tqdm"
   ]
  },
  {
   "cell_type": "code",
   "execution_count": 3,
   "metadata": {},
   "outputs": [],
   "source": [
    "# test = pickle.load(open(\"/Users/hongwan/Dropbox (MIT)/Photon Deposition/transfer_func_table.raw\",\"rb\"))\n",
    "transfer_func_table = pickle.load(open(\"/Users/hongwan/Dropbox (MIT)/Photon Deposition/tfunclist_photspec.raw\", \"rb\"))"
   ]
  },
  {
   "cell_type": "code",
   "execution_count": 4,
   "metadata": {},
   "outputs": [
    {
     "name": "stdout",
     "output_type": "stream",
     "text": [
      "[3.07055596e+03 3.21164435e+03 3.35924883e+03 3.51367344e+03\n",
      " 3.67523670e+03 3.67612952e+03 3.84524915e+03 4.02219870e+03\n",
      " 4.20734528e+03 4.40107368e+03 4.60378720e+03 4.81590859e+03\n",
      " 5.03788108e+03 5.27016937e+03 5.51326073e+03 5.76766622e+03\n",
      " 6.03392182e+03 6.31258980e+03 6.60426003e+03 6.90955145e+03\n",
      " 7.22911360e+03 7.56362822e+03 7.91381094e+03 8.28041313e+03\n",
      " 8.28510952e+03 8.66936132e+03 9.07169160e+03 9.49297470e+03\n",
      " 9.93412938e+03 1.03961213e+04 1.08799656e+04 1.13867298e+04\n",
      " 1.19175364e+04 1.24735663e+04 1.30560622e+04 1.36663317e+04\n",
      " 1.43057515e+04 1.49757711e+04 1.56779174e+04 1.56951267e+04\n",
      " 1.64326223e+04 1.72056994e+04 1.80161592e+04 1.88659012e+04\n",
      " 1.97569299e+04 2.06913609e+04 2.16714275e+04 2.26994887e+04\n",
      " 2.37780369e+04 2.49097060e+04 2.60972811e+04 2.73437075e+04\n",
      " 2.73963293e+04 2.87096531e+04 3.00887051e+04 3.15370218e+04\n",
      " 3.30583510e+04 3.46566661e+04 3.63361817e+04 3.81013698e+04\n",
      " 3.99569781e+04 4.19080490e+04 4.20309110e+04 4.40943007e+04\n",
      " 4.62652816e+04 4.85500119e+04 5.09550471e+04 5.34873694e+04\n",
      " 5.61544188e+04 5.89641269e+04 5.92038429e+04 6.21870922e+04\n",
      " 6.53325851e+04 6.86501575e+04 7.21503211e+04 7.58443163e+04\n",
      " 7.62353212e+04 8.01717374e+04 8.43303009e+04 8.87251164e+04\n",
      " 9.33713038e+04 9.82850796e+04 9.89227745e+04 1.04181173e+05\n",
      " 1.09748824e+05 1.15646318e+05 1.21895797e+05 1.22846864e+05\n",
      " 1.29561099e+05 1.36685099e+05 1.44247247e+05 1.45544416e+05\n",
      " 1.53696675e+05 1.62362042e+05 1.71577175e+05 1.73346537e+05\n",
      " 1.83316663e+05 1.93934451e+05 1.96141517e+05 2.07661377e+05\n",
      " 2.19947589e+05 2.22700862e+05 2.36069138e+05 2.50348146e+05\n",
      " 2.53783189e+05 2.69365112e+05 2.86033955e+05 2.90320219e+05\n",
      " 3.08563632e+05 3.13453588e+05 3.33459027e+05 3.54914515e+05\n",
      " 3.61018060e+05 3.84615048e+05 3.91579517e+05 4.17581446e+05\n",
      " 4.25528898e+05 4.54235143e+05 4.63305125e+05 4.95056152e+05\n",
      " 5.05408239e+05 5.40591519e+05 5.52408246e+05 5.91465049e+05\n",
      " 6.04955272e+05 6.19025364e+05 6.63791232e+05 6.79856459e+05\n",
      " 7.29763249e+05 7.48109224e+05 7.67244599e+05 8.24792927e+05\n",
      " 8.46649104e+05 8.69446267e+05 9.36029551e+05 9.62073683e+05\n",
      " 9.89239925e+05 1.06652199e+06 1.09756465e+06 1.12994594e+06\n",
      " 1.21991512e+06 1.25692622e+06 1.29553494e+06 1.33581001e+06\n",
      " 1.44470994e+06 1.49075819e+06 1.53879619e+06 1.58890969e+06\n",
      " 1.72130479e+06 1.77862158e+06 1.83841798e+06 1.90080107e+06\n",
      " 1.96588251e+06 2.13377994e+06 2.20824833e+06 2.28594249e+06\n",
      " 2.36700194e+06 2.45157225e+06 2.53980528e+06 2.63185945e+06\n",
      " 2.86345036e+06 2.96884485e+06 3.07881102e+06 3.19354700e+06\n",
      " 3.31325951e+06 3.43816421e+06 3.56848611e+06 3.70445998e+06\n",
      " 4.03985664e+06 4.19564663e+06 4.35820487e+06 4.52782527e+06\n",
      " 4.70481449e+06 4.88949249e+06 5.08219315e+06 5.28326483e+06\n",
      " 5.49307102e+06 5.71199099e+06 5.94042048e+06 6.17877241e+06\n",
      " 6.75717675e+06 7.03055569e+06 7.31583178e+06 7.61352268e+06\n",
      " 7.92416855e+06 8.24833307e+06 8.58660444e+06 8.93959646e+06\n",
      " 9.30794962e+06 9.69233230e+06 1.00934419e+07 1.05120063e+07\n",
      " 1.09487849e+07 1.14045702e+07 1.18801892e+07 1.23765049e+07\n",
      " 1.28944177e+07 1.34348674e+07 1.39988346e+07 1.45873425e+07\n",
      " 1.52014588e+07 1.58422978e+07 1.65110222e+07 1.72088453e+07\n",
      " 1.79370331e+07 1.96961408e+07 2.05331676e+07 2.14066888e+07\n",
      " 2.23182957e+07 2.32696487e+07 2.42624806e+07 2.52986000e+07\n",
      " 2.63798941e+07 2.75083325e+07 2.86859707e+07 2.99149536e+07\n",
      " 3.11975200e+07 3.25360059e+07 3.39328495e+07 3.53905950e+07\n",
      " 3.69118978e+07 3.84995288e+07 4.01563799e+07 4.18854690e+07\n",
      " 4.36899457e+07 4.55730968e+07 4.75383524e+07 4.95892922e+07\n",
      " 5.17296519e+07 5.39633301e+07 5.62943955e+07 5.87270941e+07\n",
      " 6.12658569e+07 6.39153083e+07 6.66802741e+07 6.95657907e+07\n",
      " 7.25771140e+07 7.57197291e+07 7.89993600e+07 8.24219807e+07\n",
      " 8.59938253e+07 8.97213998e+07 9.36114939e+07 9.76711934e+07\n",
      " 1.01907893e+08 1.06329309e+08 1.10943496e+08 1.15758858e+08\n",
      " 1.20784166e+08 1.26028573e+08 1.31501633e+08 1.37213313e+08\n",
      " 1.43174019e+08 1.49394606e+08 1.55886406e+08 1.62661243e+08\n",
      " 1.69731458e+08 1.77109928e+08 1.84810093e+08 1.92845979e+08\n",
      " 2.01232223e+08 2.09984100e+08 2.19117551e+08 2.28649214e+08\n",
      " 2.38596448e+08 2.48977373e+08 2.59810898e+08 2.71116754e+08\n",
      " 2.82915537e+08 2.95228736e+08 3.08078779e+08 3.21489073e+08\n",
      " 3.35484044e+08 3.50089183e+08 3.65331094e+08 3.81237538e+08\n",
      " 3.97837488e+08 4.15161182e+08 4.33240173e+08 4.52107391e+08\n",
      " 4.71797203e+08 4.92345474e+08 5.13789630e+08 5.36168731e+08\n",
      " 5.59523541e+08 5.83896600e+08 6.09332301e+08 6.35876976e+08\n",
      " 6.63578974e+08 6.92488753e+08 7.22658972e+08 7.54144585e+08\n",
      " 7.87002942e+08 8.21293892e+08 8.57079896e+08 8.94426136e+08\n",
      " 9.33400638e+08 9.74074392e+08 1.01652148e+09 1.06081923e+09\n",
      " 1.10704831e+09 1.15529294e+09 1.20564099e+09 1.25818417e+09\n",
      " 1.31301819e+09 1.37024291e+09 1.42996258e+09 1.49228597e+09\n",
      " 1.55732660e+09 1.62520294e+09 1.69603862e+09 1.76996268e+09\n",
      " 1.84710975e+09 1.92762036e+09 2.01164116e+09 2.09932519e+09\n",
      " 2.19083216e+09 2.28632874e+09 2.38598889e+09 2.48999412e+09\n",
      " 2.59853389e+09 2.71180588e+09 2.83001643e+09 2.95338084e+09\n",
      " 3.08212383e+09 3.21647989e+09 3.35669374e+09 3.50302079e+09\n",
      " 3.65572755e+09 3.81509219e+09 3.98140497e+09 4.15496883e+09\n",
      " 4.33609991e+09 4.52512814e+09 4.72239782e+09 4.92826826e+09\n",
      " 5.14311446e+09 5.36732776e+09 5.60131653e+09 5.84550700e+09\n",
      " 6.10034394e+09 6.36629152e+09 6.64383417e+09 6.93347742e+09\n",
      " 7.23574883e+09 7.55119899e+09 7.88040247e+09 8.22395892e+09\n",
      " 8.58249409e+09 8.95666106e+09 9.34714135e+09 9.75464622e+09\n",
      " 1.01799179e+10 1.06237310e+10 1.10868940e+10 1.15702504e+10\n",
      " 1.20746807e+10 1.26011037e+10 1.31504782e+10 1.37238049e+10\n",
      " 1.43221281e+10 1.49465377e+10 1.55981709e+10 1.62782147e+10\n",
      " 1.69879077e+10 1.77285427e+10 1.85014687e+10 1.93080935e+10\n",
      " 2.01498863e+10 2.10283806e+10 2.19451763e+10 2.29019435e+10\n",
      " 2.39004248e+10 2.49424389e+10 2.60298839e+10 2.71647404e+10\n",
      " 2.83490756e+10 2.95850467e+10 3.08749049e+10 3.22209997e+10\n",
      " 3.36257830e+10 3.50918134e+10 3.66217614e+10 3.82184137e+10\n",
      " 3.98846785e+10 4.16235908e+10 4.34383181e+10 4.53321657e+10\n",
      " 4.73085833e+10 4.93711708e+10 5.15236852e+10 5.37700471e+10\n",
      " 5.61143482e+10 5.85608587e+10 6.11140346e+10 6.37785266e+10\n",
      " 6.65591879e+10 6.94610834e+10 7.24894988e+10 7.56499501e+10\n",
      " 7.89481942e+10 8.23902385e+10 8.59823526e+10 8.97310796e+10\n",
      " 9.36432474e+10 9.77259820e+10 1.01986720e+11 1.06433222e+11\n",
      " 1.11073587e+11 1.15916268e+11 1.20970085e+11 1.26244244e+11\n",
      " 1.31748351e+11 1.37492431e+11 1.43486948e+11 1.49742821e+11\n",
      " 1.56271443e+11 1.63084707e+11 1.70195023e+11 1.77615342e+11\n",
      " 1.85359180e+11 1.93440642e+11 2.01874447e+11 2.10675959e+11\n",
      " 2.19861208e+11 2.29446925e+11 2.39450570e+11 2.49890365e+11\n",
      " 2.60785325e+11 2.72155294e+11 2.84020984e+11 2.96404006e+11\n",
      " 3.09326916e+11 3.22813252e+11 3.36887580e+11 3.51575535e+11\n",
      " 3.66903871e+11 3.82900508e+11 3.99594583e+11 4.17016503e+11\n",
      " 4.35198003e+11 4.54172199e+11 4.73973651e+11 4.94638428e+11\n",
      " 5.16204170e+11 5.38710157e+11 5.62197384e+11 5.86708631e+11\n",
      " 6.12288545e+11 6.38983720e+11 6.66842778e+11 6.95916465e+11\n",
      " 7.26257736e+11 7.57921858e+11 7.90966506e+11 8.25451868e+11\n",
      " 8.61440760e+11 8.98998732e+11 9.38194197e+11 9.79098546e+11\n",
      " 1.02178629e+12 1.06633517e+12 1.11282634e+12 1.16134449e+12\n",
      " 1.21197798e+12 1.26481904e+12 1.31996392e+12 1.37751306e+12\n",
      " 1.43757129e+12 1.50024801e+12 1.56565737e+12 1.63391851e+12\n",
      " 1.70515578e+12 1.77949892e+12 1.85708335e+12 1.93805039e+12\n",
      " 2.02254751e+12 2.11072863e+12 2.20275436e+12 2.29879232e+12\n",
      " 2.39901745e+12 2.50361230e+12 2.61276738e+12 2.72668152e+12\n",
      " 2.84556221e+12 2.96962598e+12 3.09909882e+12 3.23421654e+12\n",
      " 3.37522527e+12 3.52238185e+12 3.67595431e+12 3.83622239e+12\n",
      " 4.00347800e+12 4.17802579e+12 4.36018370e+12 4.55028353e+12\n",
      " 4.74867152e+12 4.95570904e+12 5.17177320e+12 5.39725755e+12]\n"
     ]
    }
   ],
   "source": [
    "print(transfer_func_table.in_eng)"
   ]
  },
  {
   "cell_type": "code",
   "execution_count": 5,
   "metadata": {},
   "outputs": [],
   "source": [
    "eng = transfer_func_table.in_eng\n",
    "tf_rs_arr = transfer_func_table.rs"
   ]
  },
  {
   "cell_type": "code",
   "execution_count": 6,
   "metadata": {},
   "outputs": [],
   "source": [
    "#Initialize\n",
    "eng_ind = 299\n",
    "mwimp = eng[eng_ind]\n",
    "\n",
    "coarsen_factor = 5\n",
    "\n",
    "rs_list = np.exp(np.arange(np.log(tf_rs_arr[0]), \n",
    "                           np.log(tf_rs_arr[-1]), \n",
    "                           -transfer_func_table.dlnz*coarsen_factor)\n",
    "                )\n",
    "\n",
    "# Initial injection is 2 photons, to match up with what we have in file.\n",
    "photon_spec_init = spectools.rebin_N_arr(np.array([2]), \n",
    "                                        np.array([mwimp]), \n",
    "                                        eng)\n",
    "                                       \n",
    "photon_spec_init.rs = rs_list[0]\n",
    "photon_spec_init.in_eng = -1"
   ]
  },
  {
   "cell_type": "code",
   "execution_count": 7,
   "metadata": {},
   "outputs": [],
   "source": [
    "if coarsen_factor > 1:\n",
    "    transfer_func_table.coarsen(coarsen_factor, delete_tfs=False)"
   ]
  },
  {
   "cell_type": "code",
   "execution_count": 8,
   "metadata": {},
   "outputs": [],
   "source": [
    "transfer_func_table.at_val('rs',rs_list)"
   ]
  },
  {
   "cell_type": "code",
   "execution_count": 9,
   "metadata": {},
   "outputs": [],
   "source": [
    "photon_spectra = spectools.evolve(photon_spec_init, transfer_func_table, save_steps=True)\n",
    "fin_phot_spec = spectools.evolve(photon_spec_init, transfer_func_table, end_rs=13)"
   ]
  },
  {
   "cell_type": "code",
   "execution_count": 10,
   "metadata": {},
   "outputs": [],
   "source": [
    "file_name = {99: \"/Users/hongwan/Dropbox (MIT)/Photon Deposition/tf_z_3.100E+01_nstep_2049_logE_5.328E+00_xe_1.000E-04.fits\",\n",
    "            199: \"/Users/hongwan/Dropbox (MIT)/Photon Deposition/tf_z_3.100E+01_nstep_2049_logE_7.183E+00_xe_1.000E-04.fits\",\n",
    "            298: \"/Users/hongwan/Dropbox (MIT)/Photon Deposition/tf_z_3.100E+01_nstep_2049_logE_9.020E+00_xe_1.000E-04.fits\",\n",
    "            299: \"/Users/hongwan/Dropbox (MIT)/Photon Deposition/tf_z_3.100E+01_nstep_2049_logE_9.038E+00_xe_1.000E-04.fits\", \n",
    "            399: \"/Users/hongwan/Dropbox (MIT)/Photon Deposition/tf_z_3.100E+01_nstep_2049_logE_1.089E+01_xe_1.000E-04.fits\",\n",
    "            499: \"/Users/hongwan/Dropbox (MIT)/Photon Deposition/tf_z_3.100E+01_nstep_2049_logE_1.275E+01_xe_1.000E-04.fits\",\n",
    "            2993: \"/Users/hongwan/Dropbox (MIT)/Photon Deposition/tf_z_3.100E+01_nstep_18_logE_9.038E+00_xe_1.000E-04.fits\"}\n",
    "\n",
    "file = fits.open(file_name[eng_ind])\n",
    "\n",
    "file_eng = file[1].data['energy'][0,:]\n",
    "file_rs = file[1].data['redshift'][0,:]\n",
    "file_photonspectrum = file[1].data['photonspectrum'][0,:,:]"
   ]
  },
  {
   "cell_type": "code",
   "execution_count": 11,
   "metadata": {},
   "outputs": [],
   "source": [
    "file_spectra = spectra.Spectra([spectrum.Spectrum(file_eng, photspec, rs=rs) \n",
    "                   for photspec,rs in zip(file_photonspectrum, file_rs)])"
   ]
  },
  {
   "cell_type": "code",
   "execution_count": 12,
   "metadata": {},
   "outputs": [
    {
     "name": "stderr",
     "output_type": "stream",
     "text": [
      "/Users/hongwan/GitHub/DarkHistory/darkhistory/spec/spectra.py:852: RuntimeWarning: The new abscissa lies below the old one: only bins that lie within the new abscissa will be rebinned, bins above the abscissa will be discarded.\n",
      "  warnings.warn(\"The new abscissa lies below the old one: only bins that lie within the new abscissa will be rebinned, bins above the abscissa will be discarded.\", RuntimeWarning)\n"
     ]
    },
    {
     "data": {
      "text/plain": [
       "[0.0001, 10000000000000.0, 1e-22, 1000.0]"
      ]
     },
     "execution_count": 12,
     "metadata": {},
     "output_type": "execute_result"
    },
    {
     "data": {
      "image/png": "[encoded data removed]",
      "text/plain": [
       "<Figure size 432x288 with 1 Axes>"
      ]
     },
     "metadata": {},
     "output_type": "display_data"
    }
   ],
   "source": [
    "rs_to_plot = 5\n",
    "\n",
    "# file_spectra.rebin(photon_spectra.eng)\n",
    "\n",
    "photon_spectra.rebin(file_spectra.eng)\n",
    "\n",
    "\n",
    "ax = plt.subplot(1,1,1)\n",
    "plt.rc('text', usetex=True)\n",
    "\n",
    "# file_spectra.plot(ax, ind=10, indtype='ind', linewidth=2)\n",
    "# photon_spectra.plot(ax, ind=10, indtype='ind', linewidth=2)\n",
    "\n",
    "file_spectra.plot(ax, ind=rs_to_plot, indtype='rs', linewidth=2)\n",
    "photon_spectra.plot(ax, ind=rs_to_plot, indtype='rs', linewidth=2)\n",
    "\n",
    "ax.set_xscale('log')\n",
    "ax.set_yscale('log')\n",
    "\n",
    "plt.tick_params(axis='both', which='major', labelsize=20)\n",
    "\n",
    "plt.xlabel('Photon Energy [eV]',fontsize=24)\n",
    "\n",
    "plt.ylabel('dN/dE [eV$^{-1}$]',fontsize=24)\n",
    "plt.axis([1e-4, 1e13, 1e-22, 1e3])\n"
   ]
  },
  {
   "cell_type": "code",
   "execution_count": 13,
   "metadata": {},
   "outputs": [
    {
     "name": "stderr",
     "output_type": "stream",
     "text": [
      "/Users/hongwan/GitHub/DarkHistory/darkhistory/spec/spectra.py:396: FutureWarning: Conversion of the second argument of issubdtype from `float` to `np.floating` is deprecated. In future, it will be treated as `np.float64 == np.dtype(float).type`.\n",
      "  np.issubdtype(type(other), float)\n",
      "/Users/hongwan/GitHub/DarkHistory/darkhistory/spec/spectra.py:397: FutureWarning: Conversion of the second argument of issubdtype from `int` to `np.signedinteger` is deprecated. In future, it will be treated as `np.int64 == np.dtype(int).type`.\n",
      "  or np.issubdtype(type(other), int)\n",
      "/Users/hongwan/GitHub/DarkHistory/darkhistory/spec/spectra.py:452: RuntimeWarning: divide by zero encountered in true_divide\n",
      "  inv_spectra._grid_vals = 1/other.grid_vals\n",
      "/Users/hongwan/GitHub/DarkHistory/darkhistory/spec/spectra.py:336: FutureWarning: Conversion of the second argument of issubdtype from `float` to `np.floating` is deprecated. In future, it will be treated as `np.float64 == np.dtype(float).type`.\n",
      "  np.issubdtype(type(other), float)\n",
      "/Users/hongwan/GitHub/DarkHistory/darkhistory/spec/spectra.py:337: FutureWarning: Conversion of the second argument of issubdtype from `int` to `np.signedinteger` is deprecated. In future, it will be treated as `np.int64 == np.dtype(int).type`.\n",
      "  or np.issubdtype(type(other), int)\n",
      "/Users/hongwan/GitHub/DarkHistory/darkhistory/spec/spectra.py:374: RuntimeWarning: invalid value encountered in multiply\n",
      "  self.grid_vals * other.grid_vals\n"
     ]
    },
    {
     "data": {
      "text/plain": [
       "[1000.0, 10000000000.0, 0.001, 100000.0]"
      ]
     },
     "execution_count": 13,
     "metadata": {},
     "output_type": "execute_result"
    },
    {
     "data": {
      "image/png": "[encoded data removed]",
      "text/plain": [
       "<Figure size 432x288 with 1 Axes>"
      ]
     },
     "metadata": {},
     "output_type": "display_data"
    }
   ],
   "source": [
    "file_spectra = file_spectra.at_rs(photon_spectra.rs, bounds_err=False)\n",
    "\n",
    "ratio = (photon_spectra-file_spectra)/file_spectra\n",
    "ax = plt.subplot(1,1,1)\n",
    "plt.rc('text', usetex=True)\n",
    "\n",
    "ratio.plot(ax, ind=5, fac=np.sign(ratio[5].dNdE), indtype='ind')\n",
    "ax.set_xscale('log')\n",
    "ax.set_yscale('log')\n",
    "\n",
    "plt.tick_params(axis='both', which='major', labelsize=20)\n",
    "\n",
    "plt.xlabel('Photon Energy [eV]',fontsize=24)\n",
    "\n",
    "plt.ylabel('dN/dE Ratio',fontsize=24)\n",
    "plt.axis([1e3, 1e10, 1e-3, 1e5])"
   ]
  }
 ],
 "metadata": {
  "anaconda-cloud": {},
  "kernelspec": {
   "display_name": "Python 3",
   "language": "python",
   "name": "python3"
  },
  "language_info": {
   "codemirror_mode": {
    "name": "ipython",
    "version": 3
   },
   "file_extension": ".py",
   "mimetype": "text/x-python",
   "name": "python",
   "nbconvert_exporter": "python",
   "pygments_lexer": "ipython3",
   "version": "3.6.5"
  }
 },
 "nbformat": 4,
 "nbformat_minor": 1
}
