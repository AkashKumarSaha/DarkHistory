{
 "cells": [
  {
   "cell_type": "code",
   "execution_count": 1,
   "metadata": {},
   "outputs": [],
   "source": [
    "%load_ext autoreload\n",
    "import sys\n",
    "sys.path.append(\"../..\")"
   ]
  },
  {
   "cell_type": "code",
   "execution_count": 2,
   "metadata": {},
   "outputs": [],
   "source": [
    "%matplotlib inline"
   ]
  },
  {
   "cell_type": "code",
   "execution_count": 3,
   "metadata": {},
   "outputs": [],
   "source": [
    "%autoreload\n",
    "\n",
    "\n",
    "import matplotlib\n",
    "matplotlib.rc_file('../matplotlibrc')\n",
    "import matplotlib.pyplot as plt\n",
    "\n",
    "import pickle\n",
    "\n",
    "import numpy as np\n",
    "from scipy.integrate import quad\n",
    "from scipy.interpolate import interp2d\n",
    "\n",
    "import darkhistory.physics as phys\n",
    "import darkhistory.spec.spectools as spectools\n",
    "import darkhistory.spec.pppc as pppc\n",
    "import darkhistory.history.tla as tla\n",
    "from darkhistory.spec.spectrum import Spectrum\n",
    "from darkhistory.spec.spectra import Spectra\n",
    "\n",
    "import main\n",
    "import config"
   ]
  },
  {
   "cell_type": "code",
   "execution_count": 120,
   "metadata": {},
   "outputs": [],
   "source": [
    "boost_data_folder = '/Users/hongwan/Dropbox (MIT)/DM Reionization/20151026 Final DM Reionization Code and Results/files_rho_eff/'\n",
    "\n",
    "einasto_subs = np.loadtxt(boost_data_folder+'rho_eff_Einasto_subs.txt')\n",
    "einasto_no_subs = np.loadtxt(boost_data_folder+'rho_eff_Einasto_no_subs.txt')\n",
    "NFW_subs = np.loadtxt(boost_data_folder+'rho_eff_NFW_subs_corrected.txt')\n",
    "NFW_no_subs = np.loadtxt(boost_data_folder+'rho_eff_NFW_no_subs.txt')\n",
    "\n",
    "all_data = [einasto_subs, einasto_no_subs, NFW_subs, NFW_no_subs]\n"
   ]
  },
  {
   "cell_type": "code",
   "execution_count": 121,
   "metadata": {},
   "outputs": [],
   "source": [
    "for data in all_data:\n",
    "    \n",
    "    data[:,0] += 1.\n",
    "    data[:,1] *= phys.rho_DM/1.50389e3*1e9\n",
    "    data[:,2] *= phys.rho_DM/1.50389e3*1e9\n",
    "\n",
    "boost_data = []\n",
    "\n",
    "for data in all_data:\n",
    "    \n",
    "    boost_data.append([data[:,0], data[:,2]**2/data[:,1]**2])"
   ]
  },
  {
   "cell_type": "code",
   "execution_count": 122,
   "metadata": {},
   "outputs": [],
   "source": [
    "boost_data = np.array(boost_data)"
   ]
  },
  {
   "cell_type": "code",
   "execution_count": 123,
   "metadata": {},
   "outputs": [],
   "source": [
    "boost_data = np.transpose(boost_data, [0, 2, 1])"
   ]
  },
  {
   "cell_type": "code",
   "execution_count": 124,
   "metadata": {},
   "outputs": [
    {
     "data": {
      "text/plain": [
       "(4, 80, 2)"
      ]
     },
     "execution_count": 124,
     "metadata": {},
     "output_type": "execute_result"
    }
   ],
   "source": [
    "boost_data.shape"
   ]
  },
  {
   "cell_type": "code",
   "execution_count": 125,
   "metadata": {},
   "outputs": [
    {
     "data": {
      "text/plain": [
       "array([1.71199113e+07, 1.58295921e+07, 1.45691463e+07, 1.33500412e+07,\n",
       "       1.21791332e+07, 1.10625975e+07, 1.00048886e+07, 9.00711692e+06,\n",
       "       8.07169377e+06, 7.20608127e+06, 6.40633706e+06, 5.67223931e+06,\n",
       "       5.00024015e+06, 4.39300831e+06, 3.84596472e+06, 3.34854032e+06,\n",
       "       2.89171846e+06, 2.49212379e+06, 2.14106104e+06, 1.83410879e+06,\n",
       "       1.56900613e+06, 1.34766204e+06, 1.39889504e+06, 9.46060463e+05,\n",
       "       7.94828434e+05, 6.66558885e+05, 5.57484470e+05, 4.65769913e+05,\n",
       "       3.88258228e+05, 3.23220819e+05, 2.69153366e+05, 2.23083501e+05,\n",
       "       1.84325816e+05, 1.52349112e+05, 1.25854837e+05, 1.03802943e+05,\n",
       "       8.57484209e+04, 7.07881602e+04, 5.84039528e+04, 4.82130874e+04,\n",
       "       3.97696646e+04, 3.28218716e+04, 2.70908009e+04, 2.23334638e+04,\n",
       "       1.84154642e+04, 1.51679994e+04, 1.24845554e+04, 1.02637350e+04,\n",
       "       8.40676120e+03, 6.89103851e+03, 5.61881832e+03, 4.56655949e+03,\n",
       "       3.69350854e+03, 2.96771888e+03, 2.36843217e+03, 1.87293706e+03,\n",
       "       1.46540996e+03, 1.13103476e+03, 8.62042460e+02, 6.44788355e+02,\n",
       "       4.70944962e+02, 3.35912000e+02, 2.32354394e+02, 1.54815842e+02,\n",
       "       1.21374269e+02, 7.34645403e+01, 4.41334337e+01, 2.59799224e+01,\n",
       "       1.47585259e+01, 7.88335003e+00, 3.54792274e+00, 1.07944336e+00,\n",
       "       1.00000000e+00, 1.00000000e+00, 1.00000000e+00, 1.00000000e+00,\n",
       "       1.00000000e+00, 1.00000000e+00, 1.00000000e+00, 1.00000000e+00])"
      ]
     },
     "execution_count": 125,
     "metadata": {},
     "output_type": "execute_result"
    }
   ],
   "source": [
    "boost_data[0,:,1]"
   ]
  },
  {
   "cell_type": "code",
   "execution_count": 126,
   "metadata": {},
   "outputs": [],
   "source": [
    "raw_boost_data = np.zeros((boost_data.shape[1], boost_data.shape[0]+1))\n",
    "raw_boost_data[:,0] = boost_data[0,:,0]\n",
    "raw_boost_data[:,1] = boost_data[0,:,1]\n",
    "raw_boost_data[:,2] = boost_data[1,:,1]\n",
    "raw_boost_data[:,3] = boost_data[2,:,1]\n",
    "raw_boost_data[:,4] = boost_data[3,:,1]"
   ]
  },
  {
   "cell_type": "code",
   "execution_count": 127,
   "metadata": {},
   "outputs": [
    {
     "data": {
      "text/plain": [
       "array([[1.00000000e+00, 1.71199113e+07, 9.28002324e+06, 2.46950657e+05,\n",
       "        1.03475724e+05],\n",
       "       [1.01993250e+00, 1.58295921e+07, 8.55631762e+06, 2.33336416e+05,\n",
       "        9.75323576e+04],\n",
       "       [1.04140350e+00, 1.45691463e+07, 7.85278866e+06, 2.19890352e+05,\n",
       "        9.16622214e+04],\n",
       "       [1.06449310e+00, 1.33500412e+07, 7.17503942e+06, 2.06569942e+05,\n",
       "        8.59047131e+04],\n",
       "       [1.08928830e+00, 1.21791332e+07, 6.52943144e+06, 1.93600000e+05,\n",
       "        8.02848779e+04],\n",
       "       [1.11588400e+00, 1.10625975e+07, 5.90812321e+06, 1.80980486e+05,\n",
       "        7.48334368e+04],\n",
       "       [1.14438300e+00, 1.00048886e+07, 5.32686908e+06, 1.68761036e+05,\n",
       "        6.95729230e+04],\n",
       "       [1.17489800e+00, 9.00711692e+06, 4.77578157e+06, 1.56906922e+05,\n",
       "        6.45226250e+04],\n",
       "       [1.20754900e+00, 8.07169377e+06, 4.26605621e+06, 1.45544355e+05,\n",
       "        5.96946899e+04],\n",
       "       [1.24246900e+00, 7.20608127e+06, 3.79275233e+06, 1.34714805e+05,\n",
       "        5.51062772e+04],\n",
       "       [1.27980200e+00, 6.40633706e+06, 3.35994902e+06, 1.24463878e+05,\n",
       "        5.07611396e+04],\n",
       "       [1.31970300e+00, 5.67223931e+06, 2.96227118e+06, 1.14750854e+05,\n",
       "        4.66615741e+04],\n",
       "       [1.36234100e+00, 5.00024015e+06, 2.60288781e+06, 1.05627951e+05,\n",
       "        4.27926939e+04],\n",
       "       [1.40789900e+00, 4.39300831e+06, 2.27771095e+06, 9.69570785e+04,\n",
       "        3.91833797e+04],\n",
       "       [1.45657700e+00, 3.84596472e+06, 1.98526933e+06, 8.88573949e+04,\n",
       "        3.58104521e+04],\n",
       "       [1.50859100e+00, 3.34854032e+06, 1.72397628e+06, 8.09516053e+04,\n",
       "        3.26334221e+04],\n",
       "       [1.56417600e+00, 2.89171846e+06, 1.49185492e+06, 7.33388812e+04,\n",
       "        2.97099244e+04],\n",
       "       [1.62358900e+00, 2.49212379e+06, 1.28758613e+06, 6.63075173e+04,\n",
       "        2.69916681e+04],\n",
       "       [1.68710800e+00, 2.14106104e+06, 1.10752931e+06, 5.98250334e+04,\n",
       "        2.44771449e+04],\n",
       "       [1.75503500e+00, 1.83410879e+06, 9.49769889e+05, 5.38426194e+04,\n",
       "        2.21269237e+04],\n",
       "       [1.82769900e+00, 1.56900613e+06, 8.12477245e+05, 4.83433641e+04,\n",
       "        1.99401135e+04],\n",
       "       [1.90546100e+00, 1.34766204e+06, 6.93419797e+05, 4.36846753e+04,\n",
       "        1.79018088e+04],\n",
       "       [1.98871000e+00, 1.39889504e+06, 5.90688440e+05, 5.18816025e+04,\n",
       "        1.60031577e+04],\n",
       "       [2.07787000e+00, 9.46060463e+05, 5.01520083e+05, 3.28952919e+04,\n",
       "        1.42008285e+04],\n",
       "       [2.17342000e+00, 7.94828434e+05, 4.25277878e+05, 2.85591289e+04,\n",
       "        1.25486586e+04],\n",
       "       [2.27585000e+00, 6.66558885e+05, 3.59535383e+05, 2.46367745e+04,\n",
       "        1.10296185e+04],\n",
       "       [2.38572000e+00, 5.57484470e+05, 3.04481026e+05, 2.11044069e+04,\n",
       "        9.64146834e+03],\n",
       "       [2.50364000e+00, 4.65769913e+05, 2.56880682e+05, 1.80450567e+04,\n",
       "        8.41262216e+03],\n",
       "       [2.63027000e+00, 3.88258228e+05, 2.16606041e+05, 1.54263145e+04,\n",
       "        7.33660652e+03],\n",
       "       [2.76633000e+00, 3.23220819e+05, 1.82413404e+05, 1.32298991e+04,\n",
       "        6.42411611e+03],\n",
       "       [2.91263000e+00, 2.69153366e+05, 1.53653493e+05, 1.13904875e+04,\n",
       "        5.65406556e+03],\n",
       "       [3.07003000e+00, 2.23083501e+05, 1.29178857e+05, 9.85923271e+03,\n",
       "        5.00701851e+03],\n",
       "       [3.23949000e+00, 1.84325816e+05, 1.08730913e+05, 8.56656742e+03,\n",
       "        4.46238563e+03],\n",
       "       [3.42204000e+00, 1.52349112e+05, 9.12559812e+04, 7.50177965e+03,\n",
       "        4.00002791e+03],\n",
       "       [3.61886000e+00, 1.25854837e+05, 7.66715185e+04, 6.61929620e+03,\n",
       "        3.61196399e+03],\n",
       "       [3.83119000e+00, 1.03802943e+05, 6.43466393e+04, 5.88004874e+03,\n",
       "        3.27958906e+03],\n",
       "       [4.06042000e+00, 8.57484209e+04, 5.40785570e+04, 5.25472933e+03,\n",
       "        2.99724410e+03],\n",
       "       [4.30810000e+00, 7.07881602e+04, 4.54273148e+04, 4.71672376e+03,\n",
       "        2.75023390e+03],\n",
       "       [4.57590000e+00, 5.84039528e+04, 3.81164803e+04, 4.24824714e+03,\n",
       "        2.52936265e+03],\n",
       "       [4.86567000e+00, 4.82130874e+04, 3.20316727e+04, 3.83391984e+03,\n",
       "        2.33161382e+03],\n",
       "       [5.17947000e+00, 3.97696646e+04, 2.68931094e+04, 3.47878769e+03,\n",
       "        2.15459421e+03],\n",
       "       [5.51956000e+00, 3.28218716e+04, 2.25734356e+04, 3.15618664e+03,\n",
       "        1.99379752e+03],\n",
       "       [5.88844000e+00, 2.70908009e+04, 1.89554370e+04, 2.86492972e+03,\n",
       "        1.84470993e+03],\n",
       "       [6.28885000e+00, 2.23334638e+04, 1.58895196e+04, 2.60196106e+03,\n",
       "        1.70663880e+03],\n",
       "       [6.72387000e+00, 1.84154642e+04, 1.33275260e+04, 2.36182824e+03,\n",
       "        1.57775078e+03],\n",
       "       [7.19686000e+00, 1.51679994e+04, 1.11634676e+04, 2.14232560e+03,\n",
       "        1.45798708e+03],\n",
       "       [7.71157000e+00, 1.24845554e+04, 9.33985494e+03, 1.94450075e+03,\n",
       "        1.34588791e+03],\n",
       "       [8.27216000e+00, 1.02637350e+04, 7.80142427e+03, 1.76054511e+03,\n",
       "        1.24007815e+03],\n",
       "       [8.88324000e+00, 8.40676120e+03, 6.48990540e+03, 1.59047477e+03,\n",
       "        1.13738333e+03],\n",
       "       [9.54993000e+00, 6.89103851e+03, 5.39929796e+03, 1.43127660e+03,\n",
       "        1.04239512e+03],\n",
       "       [1.02779100e+01, 5.61881832e+03, 4.46954361e+03, 1.28892439e+03,\n",
       "        9.50891330e+02],\n",
       "       [1.10735000e+01, 4.56655949e+03, 3.68532120e+03, 1.15450672e+03,\n",
       "        8.63147094e+02],\n",
       "       [1.19438000e+01, 3.69350854e+03, 3.02255574e+03, 1.02958320e+03,\n",
       "        7.79399343e+02],\n",
       "       [1.28966000e+01, 2.96771888e+03, 2.46155235e+03, 9.12620728e+02,\n",
       "        6.98515307e+02],\n",
       "       [1.39407000e+01, 2.36843217e+03, 1.98948531e+03, 8.02614694e+02,\n",
       "        6.22279428e+02],\n",
       "       [1.50859000e+01, 1.87293706e+03, 1.59411270e+03, 7.00413785e+02,\n",
       "        5.48964655e+02],\n",
       "       [1.63431000e+01, 1.46540996e+03, 1.26254219e+03, 6.03545592e+02,\n",
       "        4.79310536e+02],\n",
       "       [1.77244000e+01, 1.13103476e+03, 9.85937858e+02, 5.16428918e+02,\n",
       "        4.14208302e+02],\n",
       "       [1.92436000e+01, 8.62042460e+02, 7.59893548e+02, 4.33599198e+02,\n",
       "        3.52314982e+02],\n",
       "       [2.09159000e+01, 6.44788355e+02, 5.74771766e+02, 3.57245467e+02,\n",
       "        2.95230327e+02],\n",
       "       [2.27585000e+01, 4.70944962e+02, 4.24350091e+02, 2.87817400e+02,\n",
       "        2.41710932e+02],\n",
       "       [2.47905000e+01, 3.35912000e+02, 3.05762486e+02, 2.27430874e+02,\n",
       "        1.94258290e+02],\n",
       "       [2.70337000e+01, 2.32354394e+02, 2.13688095e+02, 1.74262696e+02,\n",
       "        1.51131171e+02],\n",
       "       [2.95121000e+01, 1.54815842e+02, 1.43820224e+02, 1.29131456e+02,\n",
       "        1.13716769e+02],\n",
       "       [3.10000000e+01, 1.21374269e+02, 1.13382302e+02, 1.07577693e+02,\n",
       "        9.56281122e+01],\n",
       "       [3.40000000e+01, 7.34645403e+01, 6.94006997e+01, 7.28206805e+01,\n",
       "        6.58247479e+01],\n",
       "       [3.70000000e+01, 4.41334337e+01, 4.21282565e+01, 4.85145131e+01,\n",
       "        4.45691545e+01],\n",
       "       [4.00000000e+01, 2.59799224e+01, 2.50638336e+01, 3.12878488e+01,\n",
       "        2.92384194e+01],\n",
       "       [4.30000000e+01, 1.47585259e+01, 1.43987783e+01, 1.91748331e+01,\n",
       "        1.82592001e+01],\n",
       "       [4.60000000e+01, 7.88335003e+00, 7.78144827e+00, 1.07996127e+01,\n",
       "        1.05033591e+01],\n",
       "       [4.90000000e+01, 3.54792274e+00, 3.53990025e+00, 4.84979815e+00,\n",
       "        4.82262760e+00],\n",
       "       [5.20000000e+01, 1.07944336e+00, 1.07944336e+00, 1.12783940e+00,\n",
       "        1.12783940e+00],\n",
       "       [5.50000000e+01, 1.00000000e+00, 1.00000000e+00, 1.00000000e+00,\n",
       "        1.00000000e+00],\n",
       "       [5.80000000e+01, 1.00000000e+00, 1.00000000e+00, 1.00000000e+00,\n",
       "        1.00000000e+00],\n",
       "       [6.10000000e+01, 1.00000000e+00, 1.00000000e+00, 1.00000000e+00,\n",
       "        1.00000000e+00],\n",
       "       [6.40000000e+01, 1.00000000e+00, 1.00000000e+00, 1.00000000e+00,\n",
       "        1.00000000e+00],\n",
       "       [6.70000000e+01, 1.00000000e+00, 1.00000000e+00, 1.00000000e+00,\n",
       "        1.00000000e+00],\n",
       "       [7.00000000e+01, 1.00000000e+00, 1.00000000e+00, 1.00000000e+00,\n",
       "        1.00000000e+00],\n",
       "       [7.30000000e+01, 1.00000000e+00, 1.00000000e+00, 1.00000000e+00,\n",
       "        1.00000000e+00],\n",
       "       [7.60000000e+01, 1.00000000e+00, 1.00000000e+00, 1.00000000e+00,\n",
       "        1.00000000e+00]])"
      ]
     },
     "execution_count": 127,
     "metadata": {},
     "output_type": "execute_result"
    }
   ],
   "source": [
    "raw_boost_data"
   ]
  },
  {
   "cell_type": "code",
   "execution_count": 130,
   "metadata": {},
   "outputs": [
    {
     "data": {
      "text/plain": [
       "[0.1, 70, 1e-06, 1]"
      ]
     },
     "execution_count": 130,
     "metadata": {},
     "output_type": "execute_result"
    },
    {
     "data": {
      "image/png": "[encoded data removed]",
      "text/plain": [
       "<Figure size 620x620 with 1 Axes>"
      ]
     },
     "metadata": {},
     "output_type": "display_data"
    }
   ],
   "source": [
    "plt.figure()\n",
    "\n",
    "plt.loglog()\n",
    "\n",
    "plt.plot(raw_boost_data[:,0]-1, np.sqrt(raw_boost_data[:,1])*all_data[0][:,1]/1e9)\n",
    "plt.plot(raw_boost_data[:,0]-1, np.sqrt(raw_boost_data[:,2])*all_data[1][:,1]/1e9)\n",
    "plt.plot(raw_boost_data[:,0]-1, np.sqrt(raw_boost_data[:,3])*all_data[2][:,1]/1e9)\n",
    "plt.plot(raw_boost_data[:,0]-1, np.sqrt(raw_boost_data[:,4])*all_data[3][:,1]/1e9)\n",
    "plt.plot(raw_boost_data[:,0]-1, phys.rho_DM*raw_boost_data[:,0]**3*1e-9, 'k--')\n",
    "\n",
    "plt.axis([0.1, 70, 1e-6, 1])"
   ]
  },
  {
   "cell_type": "code",
   "execution_count": 129,
   "metadata": {},
   "outputs": [
    {
     "data": {
      "text/plain": [
       "array([5.22733600e+06, 5.33307344e+06, 5.44631911e+06, 5.56798948e+06,\n",
       "       5.69857220e+06, 5.83867263e+06, 5.98892977e+06, 6.14925114e+06,\n",
       "       6.32012440e+06, 6.50482861e+06, 6.70288453e+06, 6.91567104e+06,\n",
       "       7.14302000e+06, 7.38965662e+06, 7.65652259e+06, 7.93726996e+06,\n",
       "       8.22174203e+06, 8.53575936e+06, 8.87711911e+06, 9.24908353e+06,\n",
       "       9.66174206e+06, 1.01465402e+07, 1.17526966e+07, 1.10241542e+07,\n",
       "       1.15636035e+07, 1.21583766e+07, 1.28086417e+07, 1.35309623e+07,\n",
       "       1.43248339e+07, 1.52052226e+07, 1.61951659e+07, 1.72659929e+07,\n",
       "       1.84395642e+07, 1.97608618e+07, 2.12411524e+07, 2.28893482e+07,\n",
       "       2.47659020e+07, 2.68760265e+07, 2.92536056e+07, 3.19551401e+07,\n",
       "       3.50075352e+07, 3.84879753e+07, 4.24560722e+07, 4.69592463e+07,\n",
       "       5.21167212e+07, 5.79991232e+07, 6.47356813e+07, 7.24500753e+07,\n",
       "       8.12001514e+07, 9.13423195e+07, 1.02817388e+08, 1.15926107e+08,\n",
       "       1.30820658e+08, 1.47628002e+08, 1.66577672e+08, 1.87717593e+08,\n",
       "       2.11109985e+08, 2.36581644e+08, 2.64332678e+08, 2.93539115e+08,\n",
       "       3.23177717e+08, 3.52775121e+08, 3.80468982e+08, 4.04051391e+08,\n",
       "       4.15002649e+08, 4.25969041e+08, 4.25492315e+08, 4.12478605e+08,\n",
       "       3.86215765e+08, 3.45567049e+08, 2.80205906e+08, 1.84719345e+08,\n",
       "       2.10373455e+08, 2.46709771e+08, 2.87007037e+08, 3.31468724e+08,\n",
       "       3.80300824e+08, 4.33707650e+08, 4.91893512e+08, 5.55064403e+08])"
      ]
     },
     "execution_count": 129,
     "metadata": {},
     "output_type": "execute_result"
    }
   ],
   "source": [
    "np.sqrt(raw_boost_data[:,1])*all_data[0][:,1]"
   ]
  },
  {
   "cell_type": "code",
   "execution_count": 133,
   "metadata": {},
   "outputs": [],
   "source": [
    "np.savetxt('/Users/hongwan/Dropbox (MIT)/Photon Deposition/DarkHistory_data/boost_data.txt', raw_boost_data)"
   ]
  },
  {
   "cell_type": "code",
   "execution_count": 132,
   "metadata": {},
   "outputs": [],
   "source": [
    "?np.savetxt"
   ]
  },
  {
   "cell_type": "code",
   "execution_count": null,
   "metadata": {},
   "outputs": [],
   "source": []
  }
 ],
 "metadata": {
  "kernelspec": {
   "display_name": "Python 3",
   "language": "python",
   "name": "python3"
  },
  "language_info": {
   "codemirror_mode": {
    "name": "ipython",
    "version": 3
   },
   "file_extension": ".py",
   "mimetype": "text/x-python",
   "name": "python",
   "nbconvert_exporter": "python",
   "pygments_lexer": "ipython3",
   "version": "3.6.7"
  },
  "toc": {
   "base_numbering": 1,
   "nav_menu": {},
   "number_sections": true,
   "sideBar": true,
   "skip_h1_title": false,
   "title_cell": "Table of Contents",
   "title_sidebar": "Contents",
   "toc_cell": false,
   "toc_position": {},
   "toc_section_display": true,
   "toc_window_display": false
  }
 },
 "nbformat": 4,
 "nbformat_minor": 2
}
