{
 "cells": [
  {
   "cell_type": "code",
   "execution_count": 1,
   "metadata": {},
   "outputs": [],
   "source": [
    "%load_ext autoreload\n",
    "import sys\n",
    "sys.path.append(\"../..\")"
   ]
  },
  {
   "cell_type": "code",
   "execution_count": 2,
   "metadata": {},
   "outputs": [],
   "source": [
    "%matplotlib inline"
   ]
  },
  {
   "cell_type": "code",
   "execution_count": 3,
   "metadata": {},
   "outputs": [],
   "source": [
    "%autoreload\n",
    "\n",
    "\n",
    "import matplotlib\n",
    "matplotlib.rc_file('../matplotlibrc')\n",
    "import matplotlib.pyplot as plt\n",
    "\n",
    "import pickle\n",
    "\n",
    "import numpy as np\n",
    "from scipy.integrate import quad\n",
    "from scipy.interpolate import interp2d\n",
    "\n",
    "import darkhistory.physics as phys\n",
    "import darkhistory.spec.spectools as spectools\n",
    "import darkhistory.spec.pppc as pppc\n",
    "import darkhistory.history.tla as tla\n",
    "from darkhistory.spec.spectrum import Spectrum\n",
    "from darkhistory.spec.spectra import Spectra\n",
    "\n",
    "import main\n",
    "import config"
   ]
  },
  {
   "cell_type": "code",
   "execution_count": 7,
   "metadata": {},
   "outputs": [],
   "source": [
    "boost_data_folder = '/Users/hongwan/Dropbox (MIT)/DM Reionization/20151026 Final DM Reionization Code and Results/files_rho_eff/'\n",
    "\n",
    "einasto_subs = np.loadtxt(boost_data_folder+'rho_eff_Einasto_subs.txt')\n",
    "einasto_no_subs = np.loadtxt(boost_data_folder+'rho_eff_Einasto_no_subs.txt')\n",
    "NFW_subs = np.loadtxt(boost_data_folder+'rho_eff_NFW_subs_corrected.txt')\n",
    "NFW_no_subs = np.loadtxt(boost_data_folder+'rho_eff_NFW_no_subs.txt')\n",
    "\n",
    "all_data = [einasto_subs, einasto_no_subs, NFW_subs, NFW_no_subs]\n"
   ]
  },
  {
   "cell_type": "code",
   "execution_count": null,
   "metadata": {},
   "outputs": [],
   "source": [
    "for data in all_data:\n",
    "    \n",
    "    all_data[:,:,0] += 1.\n",
    "    all_data[:,:,1] *= phys.rho_DM/1.50389e3\n",
    "\n",
    "boost_data = []\n",
    "\n",
    "for data in all_data:\n",
    "    \n",
    "    boost_data.append([])"
   ]
  }
 ],
 "metadata": {
  "kernelspec": {
   "display_name": "Python 3",
   "language": "python",
   "name": "python3"
  },
  "language_info": {
   "codemirror_mode": {
    "name": "ipython",
    "version": 3
   },
   "file_extension": ".py",
   "mimetype": "text/x-python",
   "name": "python",
   "nbconvert_exporter": "python",
   "pygments_lexer": "ipython3",
   "version": "3.6.7"
  },
  "toc": {
   "base_numbering": 1,
   "nav_menu": {},
   "number_sections": true,
   "sideBar": true,
   "skip_h1_title": false,
   "title_cell": "Table of Contents",
   "title_sidebar": "Contents",
   "toc_cell": false,
   "toc_position": {},
   "toc_section_display": true,
   "toc_window_display": false
  }
 },
 "nbformat": 4,
 "nbformat_minor": 2
}
