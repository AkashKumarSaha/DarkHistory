{
 "cells": [
  {
   "cell_type": "markdown",
   "metadata": {},
   "source": [
    "# Ex ? Manipulating Spectra Part 2 - `Spectra`"
   ]
  },
  {
   "cell_type": "markdown",
   "metadata": {},
   "source": [
    "## Notebook Initialization"
   ]
  },
  {
   "cell_type": "code",
   "execution_count": 1,
   "metadata": {},
   "outputs": [],
   "source": [
    "%load_ext autoreload\n",
    "import sys\n",
    "sys.path.append(\"../..\")"
   ]
  },
  {
   "cell_type": "code",
   "execution_count": 2,
   "metadata": {},
   "outputs": [],
   "source": [
    "%matplotlib inline"
   ]
  },
  {
   "cell_type": "code",
   "execution_count": 3,
   "metadata": {},
   "outputs": [],
   "source": [
    "%autoreload\n",
    "\n",
    "\n",
    "import matplotlib\n",
    "matplotlib.rc_file('../matplotlibrc')\n",
    "import matplotlib.pyplot as plt\n",
    "\n",
    "import pickle\n",
    "\n",
    "import numpy as np\n",
    "from scipy.integrate import quad\n",
    "from scipy.interpolate import interp2d\n",
    "\n",
    "import darkhistory.physics as phys\n",
    "import darkhistory.spec.spectools as spectools\n",
    "import darkhistory.spec.pppc as pppc\n",
    "from darkhistory.spec.spectrum import Spectrum\n",
    "from darkhistory.spec.spectra import Spectra\n",
    "\n",
    "import main\n",
    "import config"
   ]
  },
  {
   "cell_type": "code",
   "execution_count": 7,
   "metadata": {},
   "outputs": [],
   "source": [
    "photeng = 10**np.arange(-4, 12, 0.05)\n",
    "a = pppc.get_pppc_spec(100e9, photeng, 'gamma', 'phot')\n",
    "b = pppc.get_pppc_spec(100e9, photeng, 'gamma', 'elec')"
   ]
  },
  {
   "cell_type": "code",
   "execution_count": 8,
   "metadata": {},
   "outputs": [
    {
     "data": {
      "text/plain": [
       "[<matplotlib.lines.Line2D at 0x182038eb70>]"
      ]
     },
     "execution_count": 8,
     "metadata": {},
     "output_type": "execute_result"
    },
    {
     "data": {
      "image/png": "[encoded data removed]",
      "text/plain": [
       "<Figure size 620x620 with 1 Axes>"
      ]
     },
     "metadata": {},
     "output_type": "display_data"
    }
   ],
   "source": [
    "plt.figure()\n",
    "plt.loglog()\n",
    "\n",
    "plt.plot(photeng, a.dNdE)"
   ]
  },
  {
   "cell_type": "code",
   "execution_count": 9,
   "metadata": {},
   "outputs": [
    {
     "data": {
      "text/plain": [
       "0.9637422496311827"
      ]
     },
     "execution_count": 9,
     "metadata": {},
     "output_type": "execute_result"
    }
   ],
   "source": [
    "a.toteng()/200e9 + b.toteng()/200e9"
   ]
  },
  {
   "cell_type": "code",
   "execution_count": null,
   "metadata": {},
   "outputs": [],
   "source": [
    "f_elec_CMB_raw = np.loadtxt(config.data_path+'/fFromIonBaseline3keV_electron_extended.dat', delimiter=',')\n",
    "log10eng_elec_CMB  = f_elec_CMB_raw[0:2760:69, 0]\n",
    "log10rs_elec_CMB = f_elec_CMB_raw[0:69, 1] \n",
    "\n",
    "f_phot_CMB_raw = np.loadtxt(config.data_path+'/fFromIonBaseline3keV_photon.dat', delimiter=',')\n",
    "log10eng_phot_CMB  = f_phot_CMB_raw[0:2800:70, 0]\n",
    "log10rs_phot_CMB = f_phot_CMB_raw[0:70, 1] \n",
    "\n",
    "f_elec_CMB_raw = np.transpose(np.reshape(f_elec_CMB_raw[:,2], (40,69)))\n",
    "f_phot_CMB_raw = np.transpose(np.reshape(f_phot_CMB_raw[:,2], (40,70)))\n",
    "\n",
    "f_elec_CMB = interp2d(log10eng_elec_CMB, log10rs_elec_CMB, f_elec_CMB_raw)\n",
    "f_phot_CMB = interp2d(log10eng_phot_CMB, log10rs_phot_CMB, f_phot_CMB_raw)\n",
    "\n",
    "def xsec_bound_phot_CMB(mDM, DM_process):\n",
    "    if DM_process == 'swave':\n",
    "        return 4.1e-28*(mDM*1e-9)/f_phot_CMB(np.log10(mDM), np.log10(601))[0]\n"
   ]
  },
  {
   "cell_type": "code",
   "execution_count": null,
   "metadata": {},
   "outputs": [],
   "source": [
    "max_xsec = xsec_bound_phot_CMB(1e6, 'swave')"
   ]
  },
  {
   "cell_type": "code",
   "execution_count": null,
   "metadata": {},
   "outputs": [],
   "source": [
    "# result_no_BR = main.evolve(\n",
    "#             primary='phot_delta',\n",
    "#             DM_process='decay', mDM=1e7, lifetime = 3e24,\n",
    "#             start_rs = 3000, end_rs=17,\n",
    "#             coarsen_factor=4, backreaction=False\n",
    "#         )\n",
    "\n",
    "mDM_arr = 10**np.arange(4.01, 6.26, 0.25)\n",
    "\n",
    "# result_no_BR = [ \n",
    "#     main.evolve(\n",
    "#         primary='phot_delta',\n",
    "#         DM_process='swave', mDM=mDM, sigmav = xsec_bound_phot_CMB(mDM, 'swave'),\n",
    "#         start_rs = 3000, end_rs=4.1,\n",
    "#         coarsen_factor=4, backreaction=False, \n",
    "#         struct_boost = phys.struct_boost_func()\n",
    "#     ) for mDM in mDM_arr\n",
    "# ]\n",
    "\n",
    "result_BR = [\n",
    "    main.evolve(\n",
    "        primary='phot_delta',\n",
    "        DM_process='swave', mDM=mDM, sigmav = xsec_bound_phot_CMB(mDM, 'swave'),\n",
    "        start_rs = 3000, end_rs=4.1,\n",
    "        coarsen_factor=4, backreaction=True, \n",
    "        struct_boost = phys.struct_boost_func()\n",
    "    ) for mDM in mDM_arr\n",
    "]"
   ]
  },
  {
   "cell_type": "code",
   "execution_count": null,
   "metadata": {},
   "outputs": [],
   "source": [
    "Tm_no_BR = np.array([res['Tm'] for res in result_no_BR])\n",
    "Tm_BR    = np.array([res['Tm'] for res in result_BR])"
   ]
  },
  {
   "cell_type": "code",
   "execution_count": null,
   "metadata": {},
   "outputs": [],
   "source": [
    "import darkhistory.utilities as utils\n",
    "\n",
    "utils.compare_arr([Tm_no_BR[0], Tm_BR[0]])"
   ]
  },
  {
   "cell_type": "code",
   "execution_count": null,
   "metadata": {},
   "outputs": [],
   "source": [
    "plt.figure()\n",
    "\n",
    "plt.loglog()\n",
    "\n",
    "frac_change_levels = [1e-5, .1, .5, 1, 2, 5, 10, 20, 40]\n",
    "\n",
    "plt.contour(\n",
    "    mDM_arr, result_no_BR[0]['rs'], np.transpose((Tm_BR/Tm_no_BR - 1.)*100),\n",
    "    frac_change_levels,\n",
    "    norm=matplotlib.colors.LogNorm(),\n",
    "    cmap=matplotlib.cm.inferno\n",
    ")\n",
    "\n",
    "plt.axis([1e4, 5e12, 4.1, 200])"
   ]
  },
  {
   "cell_type": "code",
   "execution_count": null,
   "metadata": {},
   "outputs": [],
   "source": [
    "test = main.evolve(\n",
    "        primary='elec_delta',\n",
    "        DM_process='swave', mDM=1e6, sigmav = xsec_bound_phot_CMB(1e6, 'swave'),\n",
    "        start_rs = 3000, end_rs=4.004,\n",
    "        coarsen_factor=12, backreaction=True, \n",
    "        struct_boost = phys.struct_boost_func()\n",
    ") "
   ]
  },
  {
   "cell_type": "code",
   "execution_count": null,
   "metadata": {},
   "outputs": [],
   "source": [
    "test['rs'].size"
   ]
  },
  {
   "cell_type": "code",
   "execution_count": null,
   "metadata": {},
   "outputs": [],
   "source": [
    "utils.compare_arr([3000*np.exp(-.012*np.arange(552)) , test['rs']])"
   ]
  },
  {
   "cell_type": "code",
   "execution_count": null,
   "metadata": {},
   "outputs": [],
   "source": [
    "plt.figure()\n",
    "\n",
    "# plt.loglog()\n",
    "\n",
    "plt.plot(result_no_BR['rs'], result_BR['Tm']/result_no_BR['Tm'] - 1)\n",
    "\n",
    "plt.axis([1, 20, 0, 0.5])"
   ]
  },
  {
   "cell_type": "code",
   "execution_count": null,
   "metadata": {},
   "outputs": [],
   "source": [
    "inj_str = 'elec'\n",
    "inj_type = 'swave'\n",
    "extra = ''\n",
    "\n",
    "f_DH_list_new = pickle.load(open('/Users/hongwan/Dropbox (MIT)/Photon Deposition/idl_comparison/GR_Checks/ih_continuous_'\n",
    "                   +inj_str+'/f_'+inj_str+'_'+inj_type+'_notCrossCheck_LowPHigh.p','rb')\n",
    "                  )"
   ]
  },
  {
   "cell_type": "code",
   "execution_count": null,
   "metadata": {},
   "outputs": [],
   "source": [
    "print(f_DH_list_new.shape)\n",
    "print(eng_arr.shape)\n",
    "print(rs_vec.shape)\n"
   ]
  },
  {
   "cell_type": "code",
   "execution_count": null,
   "metadata": {
    "scrolled": false
   },
   "outputs": [],
   "source": [
    "rs_vec = 3000*np.exp(-.001*np.arange(6620))\n",
    "eng_arr = 5e3*10**(np.arange(40)*0.23252559)\n",
    "eng_arr[-1]=10**12.60150599\n",
    "\n",
    "plt.figure()\n",
    "\n",
    "plt.loglog()\n",
    "\n",
    "# plt.contour(eng_arr, rs_vec, np.transpose(np.log10(f_DH_list[:,:,0])), levels=np.log10([0.01, 0.1, 0.2, 0.5, 1, 5, 10, 50]))\n",
    "# plt.contour(eng_arr, rs_vec, np.transpose(np.log10(f_elec_swave_heat)), levels=np.log10(np.array([0.01, 0.02, 0.05, 0.1, 0.2, 0.5, 1, 5, 10])))\n",
    "\n",
    "plt.contour(\n",
    "    eng_arr, rs_vec, np.transpose(np.log10(f_DH_list_new[:,0,:])), \n",
    "    levels=np.log10(np.array([10])), \n",
    "#     colors='k', linestyles='dashed'\n",
    ")\n",
    "\n"
   ]
  },
  {
   "cell_type": "code",
   "execution_count": null,
   "metadata": {},
   "outputs": [],
   "source": [
    "f_phot_swave_heat = np.array(f_phot_swave_heat)\n",
    "print(f_phot_swave_heat.shape)"
   ]
  },
  {
   "cell_type": "code",
   "execution_count": null,
   "metadata": {},
   "outputs": [],
   "source": [
    "from tqdm import tqdm_notebook as tqdm\n",
    "\n",
    "%autoreload\n",
    "f_phot_swave_heat = [\n",
    "    [\n",
    "        phys.f_std(eng, rs, inj_particle='phot', inj_type='swave', channel='heat', struct=True)\n",
    "        for rs in rs_vec\n",
    "    ]\n",
    "    for eng in tqdm(eng_arr)\n",
    "]\n",
    "\n",
    "\n",
    " "
   ]
  },
  {
   "cell_type": "code",
   "execution_count": null,
   "metadata": {},
   "outputs": [],
   "source": [
    "import main\n",
    "\n",
    "result = main.evolve(\n",
    "            primary='elec_delta',\n",
    "            DM_process='swave', mDM=eng_arr[10] + phys.me, sigmav = 3e-26,\n",
    "            start_rs = 3000, end_rs=5.1,\n",
    "            coarsen_factor=12, backreaction=False,\n",
    "            struct_boost = phys.struct_boost_func('einasto_with_subs')\n",
    "        )"
   ]
  },
  {
   "cell_type": "code",
   "execution_count": null,
   "metadata": {},
   "outputs": [],
   "source": [
    "result['f']['high']"
   ]
  },
  {
   "cell_type": "code",
   "execution_count": null,
   "metadata": {},
   "outputs": [],
   "source": [
    "plt.figure()\n",
    "\n",
    "plt.loglog()\n",
    "\n",
    "plt.plot(result['rs'], result['f']['low']['H ion'] + result['f']['high']['H ion'], 'k--')\n",
    "plt.plot(rs_vec, f_DH_list_new[10,0,:])\n",
    "plt.axis([4, 4000, 10**(-3.5), 1000])"
   ]
  },
  {
   "cell_type": "code",
   "execution_count": null,
   "metadata": {},
   "outputs": [],
   "source": [
    "eng_arr[10]"
   ]
  },
  {
   "cell_type": "code",
   "execution_count": null,
   "metadata": {},
   "outputs": [],
   "source": [
    "eng = np.array([1, 10, 100, 1000])\n",
    "spec_arr = [Spectrum(eng, np.ones(4)*i, rs=100, spec_type='N') for i in np.arange(4)]\n",
    "test_spectra = Spectra(spec_arr)\n",
    "test_spectra.redshift(np.array([0.01, 0.1, 1, 10]))\n",
    "print(test_spectra.grid_vals)"
   ]
  },
  {
   "cell_type": "code",
   "execution_count": null,
   "metadata": {},
   "outputs": [],
   "source": [
    "a = Spectrum(eng, np.ones(4)*3, rs=100, spec_type='N') \n",
    "a.totN(bound_type='bin')"
   ]
  },
  {
   "cell_type": "code",
   "execution_count": null,
   "metadata": {},
   "outputs": [],
   "source": [
    "0.5*13*10 + 14*100 + 15*1000"
   ]
  },
  {
   "cell_type": "code",
   "execution_count": null,
   "metadata": {},
   "outputs": [],
   "source": [
    "9*0.5 + 10 + 11"
   ]
  },
  {
   "cell_type": "code",
   "execution_count": null,
   "metadata": {},
   "outputs": [],
   "source": [
    "12*1 + 13*10 + 14*100 + 15*1000"
   ]
  },
  {
   "cell_type": "code",
   "execution_count": null,
   "metadata": {},
   "outputs": [],
   "source": [
    "1*10 + 2*100"
   ]
  },
  {
   "cell_type": "code",
   "execution_count": null,
   "metadata": {
    "scrolled": false
   },
   "outputs": [],
   "source": [
    "%autoreload 2\n",
    "phys.Tm_std(100)"
   ]
  },
  {
   "cell_type": "code",
   "execution_count": null,
   "metadata": {},
   "outputs": [],
   "source": [
    "a = phys.struct_boost_func()"
   ]
  },
  {
   "cell_type": "code",
   "execution_count": null,
   "metadata": {},
   "outputs": [],
   "source": [
    "a(1)"
   ]
  },
  {
   "cell_type": "code",
   "execution_count": null,
   "metadata": {},
   "outputs": [],
   "source": [
    "%autoreload\n",
    "phys.f_std(3e5, 300, inj_particle='phot', inj_type='decay', channel='heat')"
   ]
  },
  {
   "cell_type": "code",
   "execution_count": null,
   "metadata": {},
   "outputs": [],
   "source": [
    "from config import load_data"
   ]
  },
  {
   "cell_type": "code",
   "execution_count": null,
   "metadata": {},
   "outputs": [],
   "source": [
    "a = load_data('dep_tf')"
   ]
  },
  {
   "cell_type": "code",
   "execution_count": null,
   "metadata": {},
   "outputs": [],
   "source": [
    "hep_tf = a['highengphot']\n",
    "lep_tf  = a['lowengphot']\n",
    "lee_tf  = a['lowengelec']"
   ]
  },
  {
   "cell_type": "code",
   "execution_count": null,
   "metadata": {},
   "outputs": [],
   "source": [
    "%%cython\n",
    "\n",
    "def coarsen_matrices(hep, lep, lee, cf):\n",
    "    prop_tf = np.zeros_like(hep)\n",
    "    for i in np.arange(cf):\n",
    "        prop_tf += np.linalg.matrix_power(hep, i)\n",
    "    lep = np.matmul(prop_tf, lep)\n",
    "    lee = np.matmul(prop_tf, lee)\n",
    "    hep = np.linalg.matrix_power(hep, cf)\n",
    "\n"
   ]
  },
  {
   "cell_type": "code",
   "execution_count": null,
   "metadata": {},
   "outputs": [],
   "source": [
    "from tqdm import tqdm_notebook as tqdm\n",
    "\n",
    "cf = 12\n",
    "\n",
    "for (hep_reg, lep_reg, lee_reg) in zip(hep_tf.grid_vals, lep_tf.grid_vals, lee_tf.grid_vals):\n",
    "    for (hep_dim_1, lep_dim_1, lee_dim_1) in zip(tqdm(hep_reg), lep_reg, lee_reg):\n",
    "        if hep_dim_1.ndim == 2:\n",
    "            coarsen_matrices(hep_dim_1, lep_dim_1, lee_dim_1, cf)\n",
    "        else:\n",
    "            for (hep_dim_2, lep_dim_2, lee_dim_2) in zip(tqdm(hep_dim_1), lep_dim_1, lee_dim_1):\n",
    "                if hep_dim_2.ndim == 2:\n",
    "                    coarsen_matrices(hep_dim_2, lep_dim_2, lee_dim_2, cf)\n",
    "                else:\n",
    "                    for (hep_dim_3, lep_dim_3, lee_dim_3) in zip(hep_dim_2, lep_dim_2, lee_dim_2):\n",
    "                        coarsen_matrices(hep_dim_3, lep_dim_3, lee_dim_3, cf)\n",
    "        \n",
    "            "
   ]
  }
 ],
 "metadata": {
  "kernelspec": {
   "display_name": "Python 3",
   "language": "python",
   "name": "python3"
  },
  "language_info": {
   "codemirror_mode": {
    "name": "ipython",
    "version": 3
   },
   "file_extension": ".py",
   "mimetype": "text/x-python",
   "name": "python",
   "nbconvert_exporter": "python",
   "pygments_lexer": "ipython3",
   "version": "3.6.7"
  },
  "toc": {
   "base_numbering": 1,
   "nav_menu": {},
   "number_sections": true,
   "sideBar": true,
   "skip_h1_title": false,
   "title_cell": "Table of Contents",
   "title_sidebar": "Contents",
   "toc_cell": false,
   "toc_position": {},
   "toc_section_display": true,
   "toc_window_display": false
  }
 },
 "nbformat": 4,
 "nbformat_minor": 2
}
