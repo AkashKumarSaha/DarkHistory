{
 "cells": [
  {
   "cell_type": "markdown",
   "metadata": {},
   "source": [
    "# Ex 1: Manipulating Spectra Part 1 - `Spectrum`"
   ]
  },
  {
   "cell_type": "markdown",
   "metadata": {},
   "source": [
    "# Notebook Initialization"
   ]
  },
  {
   "cell_type": "code",
   "execution_count": 1,
   "metadata": {},
   "outputs": [],
   "source": [
    "%load_ext autoreload\n",
    "import sys\n",
    "sys.path.append(\"..\")"
   ]
  },
  {
   "cell_type": "code",
   "execution_count": 2,
   "metadata": {
    "collapsed": true
   },
   "outputs": [],
   "source": [
    "%autoreload\n",
    "%matplotlib inline\n",
    "\n",
    "import matplotlib\n",
    "import matplotlib.pyplot as plt\n",
    "\n",
    "matplotlib.rcParams['figure.figsize'] = [10,10]\n",
    "\n",
    "import numpy as np\n",
    "from scipy.integrate import quad\n",
    "\n",
    "import darkhistory.physics as physics\n",
    "import darkhistory.spec.spectools as spectools\n",
    "from darkhistory.spec.spectrum import Spectrum"
   ]
  },
  {
   "cell_type": "markdown",
   "metadata": {},
   "source": [
    "## Introduction"
   ]
  },
  {
   "cell_type": "markdown",
   "metadata": {},
   "source": [
    "The manipulation of spectral data in this code is done through several specialized classes, all of them equipped with internal methods that make data manipulation easy. Functions useful for creating and manipulating these classes are provided in `spec.spectools`. "
   ]
  },
  {
   "cell_type": "markdown",
   "metadata": {},
   "source": [
    "## `Spectrum` Class - Introduction"
   ]
  },
  {
   "cell_type": "markdown",
   "metadata": {},
   "source": [
    "The most basic class that we use is the `Spectrum` class. This contains an abscissa, the spectrum values at each abscissa, as well as the redshift. \n",
    "\n",
    "To create our first `Spectrum`, we will use the function `spec.spectools.discretize`. This takes a function which returns the $dN/dE$ of a continuous spectrum, and produces a discretized version of it, stored in a `Spectrum` class. \n",
    "\n",
    "Our first example will be a `Spectrum` containing a CMB spectrum. `physics.CMB_spec` returns $dN/dE$ at a particular energy and temperature of the blackbody spectrum. This function can be passed to `spec.spectools.discretize` to create a `Spectrum` object."
   ]
  },
  {
   "cell_type": "code",
   "execution_count": 3,
   "metadata": {},
   "outputs": [
    {
     "ename": "AttributeError",
     "evalue": "'function' object has no attribute 'size'",
     "output_type": "error",
     "traceback": [
      "\u001b[0;31m---------------------------------------------------------------------------\u001b[0m",
      "\u001b[0;31mAttributeError\u001b[0m                            Traceback (most recent call last)",
      "\u001b[0;32m<ipython-input-3-064fba0aa966>\u001b[0m in \u001b[0;36m<module>\u001b[0;34m()\u001b[0m\n\u001b[1;32m      5\u001b[0m \u001b[0;34m\u001b[0m\u001b[0m\n\u001b[1;32m      6\u001b[0m \u001b[0meng\u001b[0m \u001b[0;34m=\u001b[0m \u001b[0;36m10\u001b[0m\u001b[0;34m**\u001b[0m\u001b[0;34m(\u001b[0m\u001b[0;34m(\u001b[0m\u001b[0mnp\u001b[0m\u001b[0;34m.\u001b[0m\u001b[0marange\u001b[0m\u001b[0;34m(\u001b[0m\u001b[0;36m120\u001b[0m\u001b[0;34m)\u001b[0m\u001b[0;34m-\u001b[0m\u001b[0;36m90\u001b[0m\u001b[0;34m)\u001b[0m\u001b[0;34m*\u001b[0m\u001b[0;34m(\u001b[0m\u001b[0;36m1\u001b[0m\u001b[0;34m/\u001b[0m\u001b[0;36m10\u001b[0m\u001b[0;34m)\u001b[0m\u001b[0;34m)\u001b[0m\u001b[0;34m\u001b[0m\u001b[0m\n\u001b[0;32m----> 7\u001b[0;31m \u001b[0mdiscrete_CMB\u001b[0m \u001b[0;34m=\u001b[0m \u001b[0mspectools\u001b[0m\u001b[0;34m.\u001b[0m\u001b[0mdiscretize\u001b[0m\u001b[0;34m(\u001b[0m\u001b[0mCMB_dNdE_at_T\u001b[0m\u001b[0;34m,\u001b[0m \u001b[0meng\u001b[0m\u001b[0;34m)\u001b[0m\u001b[0;34m\u001b[0m\u001b[0m\n\u001b[0m",
      "\u001b[0;32m/Users/cannonvogel/Documents/GitHub/DarkHistory/darkhistory/spec/spectools.py\u001b[0m in \u001b[0;36mdiscretize\u001b[0;34m(eng, func_dNdE, *args)\u001b[0m\n\u001b[1;32m    209\u001b[0m \u001b[0;34m\u001b[0m\u001b[0m\n\u001b[1;32m    210\u001b[0m     \u001b[0;31m# Generate a list of particle number N and mean energy eng_mean, so that N*eng_mean = total energy in each bin. eng_mean != eng.\u001b[0m\u001b[0;34m\u001b[0m\u001b[0;34m\u001b[0m\u001b[0m\n\u001b[0;32m--> 211\u001b[0;31m     \u001b[0mN\u001b[0m \u001b[0;34m=\u001b[0m \u001b[0mnp\u001b[0m\u001b[0;34m.\u001b[0m\u001b[0mzeros\u001b[0m\u001b[0;34m(\u001b[0m\u001b[0meng\u001b[0m\u001b[0;34m.\u001b[0m\u001b[0msize\u001b[0m\u001b[0;34m)\u001b[0m\u001b[0;34m\u001b[0m\u001b[0m\n\u001b[0m\u001b[1;32m    212\u001b[0m     \u001b[0meng_mean\u001b[0m \u001b[0;34m=\u001b[0m \u001b[0mnp\u001b[0m\u001b[0;34m.\u001b[0m\u001b[0mzeros\u001b[0m\u001b[0;34m(\u001b[0m\u001b[0meng\u001b[0m\u001b[0;34m.\u001b[0m\u001b[0msize\u001b[0m\u001b[0;34m)\u001b[0m\u001b[0;34m\u001b[0m\u001b[0m\n\u001b[1;32m    213\u001b[0m \u001b[0;34m\u001b[0m\u001b[0m\n",
      "\u001b[0;31mAttributeError\u001b[0m: 'function' object has no attribute 'size'"
     ]
    }
   ],
   "source": [
    "T = 1.5 # The temperature in eV of the CMB.\n",
    "\n",
    "def CMB_dNdE_at_T(eng):\n",
    "    return physics.CMB_spec(eng, T)\n",
    "\n",
    "eng = 10**((np.arange(120)-90)*(1/10))\n",
    "discrete_CMB = spectools.discretize(CMB_dNdE_at_T, eng)"
   ]
  },
  {
   "cell_type": "markdown",
   "metadata": {},
   "source": [
    "`discrete_CMB` is a `Spectrum` object. This object has several attributes, but the three most important ones are the energy abscissa `self.eng`, the $dN/dE$ value at each point `self.dNdE`, as well as the redshift (always $1+z$ in this project) `self.rs`.\n",
    "\n",
    "`self.eng` should be viewed as the center of a bin. The bin boundary between two successive abscissa values $E_1$ and $E_2$ is $\\frac{1}{2} ( \\log E_1 + \\log E_2)$. The first and last abscissa values are taken to lie at the center of their respective bins.  \n",
    "\n",
    "We can now plot the spectrum contained in `discrete_CMB` as a check. "
   ]
  },
  {
   "cell_type": "code",
   "execution_count": null,
   "metadata": {},
   "outputs": [],
   "source": [
    "ax = plt.subplot(1,1,1)\n",
    "plt.rc('text', usetex=True)\n",
    "\n",
    "discrete_spec, = plt.plot(\n",
    "    discrete_CMB.eng, discrete_CMB.dNdE, label='Discrete Spectrum'\n",
    ")\n",
    "analytic_spec, = plt.plot(\n",
    "    eng, physics.CMB_spec(eng, T), 'go', marker='o', markersize='10', \n",
    "    markevery=3, markerfacecolor='w', label='Analytic Spectrum'\n",
    ")\n",
    "\n",
    "plt.legend(handles=[discrete_spec, analytic_spec], \n",
    "           fontsize=24)\n",
    "\n",
    "ax.set_xscale('log')\n",
    "ax.set_yscale('log')\n",
    "\n",
    "plt.tick_params(axis='both', which='major', labelsize=20)\n",
    "\n",
    "plt.title('CMB Spectrum', fontsize=28)\n",
    "plt.xlabel('Photon Energy [eV]',fontsize=24)\n",
    "plt.ylabel('dN/(dE dV) [eV$^{-1}$ cm$^{-3}$]',fontsize=24)\n",
    "plt.axis([1e-8, 1e4, 1e-10, 1e20])"
   ]
  },
  {
   "cell_type": "markdown",
   "metadata": {},
   "source": [
    "We should also set the `rs` attribute to the correct redshift. Here, we use `physics.TCMB`, which takes in a redshift as an argument, to calculate what the redshift $1+z$ is at the temperature `T` that we selected earlier. "
   ]
  },
  {
   "cell_type": "code",
   "execution_count": null,
   "metadata": {
    "collapsed": true
   },
   "outputs": [],
   "source": [
    "rs = T/physics.TCMB(1)\n",
    "\n",
    "discrete_CMB.rs = rs"
   ]
  },
  {
   "cell_type": "markdown",
   "metadata": {},
   "source": [
    "## `Spectrum` Class - Addition and Multiplication"
   ]
  },
  {
   "cell_type": "markdown",
   "metadata": {},
   "source": [
    "You can add two `Spectrum` objects together, or add a scalar to a `Spectrum`. Similarly, you can multiply two `Spectrum` objects, or multiply by a scalar. These operations can be performed as if `Spectrum` were an array. "
   ]
  },
  {
   "cell_type": "markdown",
   "metadata": {},
   "source": [
    "## `Spectrum` Class - Number and Energy"
   ]
  },
  {
   "cell_type": "markdown",
   "metadata": {},
   "source": [
    "Let's initialize a new `Spectrum` that is essentially a copy of `discrete_CMB`. "
   ]
  },
  {
   "cell_type": "code",
   "execution_count": null,
   "metadata": {
    "collapsed": true
   },
   "outputs": [],
   "source": [
    "test_CMB = Spectrum(discrete_CMB.eng, discrete_CMB.dNdE, discrete_CMB.rs)"
   ]
  },
  {
   "cell_type": "markdown",
   "metadata": {},
   "source": [
    "To find the total number of particles stored in this spectrum, we can use the method `self.totN()`, with no arguments. Particle number in a bin is always given by \n",
    "\n",
    "$$ N = \\frac{dN}{dE} \\times E \\, d\\log E$$\n",
    "\n",
    "where $d \\log E$ is the log bin width of the bin (this can be computed with `spec.spectools.get_log_bin_width`).\n",
    "\n",
    "This agrees with the actual numerical quadrature over the CMB spectrum given by `physics.CMB_spec` from `eng[0]` to `eng[-1]`, since `spec.spectools.discretize` ensures that the total number of particles *and* total energy in each bin are exactly the value that would be obtained by quadrature of the CMB spectrum. "
   ]
  },
  {
   "cell_type": "code",
   "execution_count": null,
   "metadata": {},
   "outputs": [],
   "source": [
    "print('Number of particles stored in test_CMB: ', test_CMB.totN())\n",
    "print('Number of particles by quadrature: ', quad(CMB_dNdE_at_T, eng[0], eng[-1])[0])"
   ]
  },
  {
   "cell_type": "markdown",
   "metadata": {},
   "source": [
    "`self.totN` can also be used to find the total number of particles in various bins. This is done by specify the bin boundaries: the code below returns the total number of particles in the first two bins. The bin boundaries do not need to be integers. "
   ]
  },
  {
   "cell_type": "code",
   "execution_count": null,
   "metadata": {},
   "outputs": [],
   "source": [
    "print('# of particles in first and second bin: ',\n",
    "      test_CMB.totN(bound_type='bin', bound_arr=np.array([0,1,2]))\n",
    "     )"
   ]
  },
  {
   "cell_type": "markdown",
   "metadata": {},
   "source": [
    "`self.totN` can also return the total number of particles between different energy boundaries: "
   ]
  },
  {
   "cell_type": "code",
   "execution_count": null,
   "metadata": {},
   "outputs": [],
   "source": [
    "print('# of particles between 0.2 and 0.45 eV, 0.45 eV and 0.6 eV: ', \n",
    "      test_CMB.totN(bound_type='eng', bound_arr=np.array([0.2, 0.45, 0.6]))\n",
    "     )"
   ]
  },
  {
   "cell_type": "markdown",
   "metadata": {},
   "source": [
    "The function `self.toteng()` serves a similar purpose. Energy in a bin is always evaluated as\n",
    "$$ E = \\frac{dN}{dE} \\times \\, E^2 d \\log E $$"
   ]
  },
  {
   "cell_type": "code",
   "execution_count": null,
   "metadata": {},
   "outputs": [],
   "source": [
    "def CMB_EdNdE_at_T(eng):\n",
    "    return eng*physics.CMB_spec(eng, T)\n",
    "\n",
    "print('Total energy stored in test_CMB: ', test_CMB.toteng())\n",
    "print('Total energy by quadrature: ', quad(CMB_EdNdE_at_T, eng[0], eng[-1])[0])"
   ]
  },
  {
   "cell_type": "markdown",
   "metadata": {},
   "source": [
    "## `Spectrum` Class - Redshifting and Underflow"
   ]
  },
  {
   "cell_type": "markdown",
   "metadata": {},
   "source": [
    "Photon redshifting is built in to the `Spectrum` class."
   ]
  },
  {
   "cell_type": "code",
   "execution_count": null,
   "metadata": {
    "collapsed": true
   },
   "outputs": [],
   "source": [
    "test_CMB.redshift(rs/2)"
   ]
  },
  {
   "cell_type": "markdown",
   "metadata": {},
   "source": [
    "The resulting redshifted spectrum conserves total number, with the total energy reduced by half. Here is a plot of the new spectrum, and a comparison of the total number and total density."
   ]
  },
  {
   "cell_type": "code",
   "execution_count": null,
   "metadata": {},
   "outputs": [],
   "source": [
    "ax = plt.subplot(1,1,1)\n",
    "plt.rc('text', usetex=True)\n",
    "\n",
    "orig_spec, = plt.plot(discrete_CMB.eng, discrete_CMB.dNdE, label='Original Spectrum')\n",
    "redshifted_spec, = plt.plot(test_CMB.eng, test_CMB.dNdE/2**3, label='Redshifted Spectrum')\n",
    "\n",
    "plt.legend(handles=[orig_spec, redshifted_spec], fontsize=24)\n",
    "\n",
    "ax.set_xscale('log')\n",
    "ax.set_yscale('log')\n",
    "\n",
    "plt.tick_params(axis='both', which='major', labelsize=20)\n",
    "\n",
    "plt.title('CMB Spectrum', fontsize=28)\n",
    "plt.xlabel('Photon Energy [eV]',fontsize=24)\n",
    "plt.ylabel('dN/(dE dV) [eV$^{-1}$ cm$^{-3}$]',fontsize=24)\n",
    "plt.axis([1e-8, 1e4, 1e-10, 1e20])\n",
    "\n",
    "print('Original total number of particles: ', discrete_CMB.totN())\n",
    "print('Redshifted total number of particles: ', test_CMB.totN())\n",
    "print('Ratio: ', discrete_CMB.totN()/test_CMB.totN())\n",
    "print('**********************************************************')\n",
    "print('Original total energy: ', discrete_CMB.toteng())\n",
    "print('Redshifted total energy: ', test_CMB.toteng())\n",
    "print('Ratio: ', discrete_CMB.toteng()/test_CMB.toteng())\n"
   ]
  },
  {
   "cell_type": "markdown",
   "metadata": {},
   "source": [
    "Note that the energy abscissa doesn't change after redshifting. Number and energy are both conserved by assigning particles that redshift below the energy abscissa into an underflow. Underflow number and energy are included in `self.totN()` and `self.toteng()`. "
   ]
  },
  {
   "cell_type": "code",
   "execution_count": null,
   "metadata": {},
   "outputs": [],
   "source": [
    "print('Number of particles in underflow: ',test_CMB.underflow['N'])\n",
    "print('Energy in underflow: ', test_CMB.underflow['eng'])"
   ]
  },
  {
   "cell_type": "markdown",
   "metadata": {},
   "source": [
    "## `Spectrum` - Rebinning and Shifting"
   ]
  },
  {
   "cell_type": "markdown",
   "metadata": {},
   "source": [
    "The energy abscissa of a `Spectrum` object can be adjusted. \n",
    "\n",
    "If every photon in a bin, with energies $E_1, \\cdots, E_n$, loses some amount of energy, and now has new energies $E_1', \\cdots, E_n'$, the abscissa can be shifted down to the new abscissa, while conserving number, using the function `self.shift_eng`. \n",
    "\n",
    "A closely related function is `self.rebin`. This re-distributes the spectrum into a new abscissa, while conserving number *and* energy. The new abscissa must have a maximum energy higher than the old abscissa, so that there is no overflow. \n",
    "\n",
    "As an example, we will perform redshifting explicitly using these two functions from $1+z$ to $(1+z)/2$. Photons at an energy $E_n$ are shifted to energy $E_n/2$ using `self.shift_eng`. Then, we rebin the resulting spectrum back into the original abscissa to get the redshifted spectrum using `self.rebin`. The result is identical to calling the `self.redshift` function."
   ]
  },
  {
   "cell_type": "code",
   "execution_count": null,
   "metadata": {},
   "outputs": [],
   "source": [
    "test_CMB_2 = Spectrum(discrete_CMB.eng, discrete_CMB.dNdE, discrete_CMB.rs)\n",
    "test_CMB_2.shift_eng(discrete_CMB.eng/2)\n",
    "test_CMB_2.rebin(discrete_CMB.eng)\n",
    "\n",
    "ax = plt.subplot(1,1,1)\n",
    "plt.rc('text', usetex=True)\n",
    "\n",
    "orig_spec, = plt.plot(discrete_CMB.eng, \n",
    "                      discrete_CMB.dNdE, \n",
    "                      label='Original Spectrum')\n",
    "rebinned_spec, = plt.plot(test_CMB_2.eng, \n",
    "                          test_CMB_2.dNdE/2**3, \n",
    "                          label='Shifted and Rebinned Spectrum')\n",
    "redshifted_spec, = plt.plot(test_CMB.eng, \n",
    "                            test_CMB.dNdE/2**3,'go',\n",
    "                            marker='o', markersize='10', \n",
    "                            markevery=3, markerfacecolor='w', \n",
    "                            label='Redshifted Spectrum')\n",
    "\n",
    "\n",
    "plt.legend(handles=[orig_spec, rebinned_spec, redshifted_spec], \n",
    "           fontsize=24)\n",
    "\n",
    "ax.set_xscale('log')\n",
    "ax.set_yscale('log')\n",
    "\n",
    "plt.tick_params(axis='both', which='major', labelsize=20)\n",
    "\n",
    "plt.title('CMB Spectrum', fontsize=28)\n",
    "plt.xlabel('Photon Energy [eV]',fontsize=24)\n",
    "plt.ylabel('dN/(dE dV) [eV$^{-1}$ cm$^{-3}$]',fontsize=24)\n",
    "plt.axis([1e-8, 1e4, 1e-10, 1e22])\n",
    "\n",
    "print('Original total number of particles: ', discrete_CMB.totN())\n",
    "print('Redshifted total number of particles: ', test_CMB_2.totN())\n",
    "print('Ratio: ', discrete_CMB.totN()/test_CMB_2.totN())\n",
    "print('**********************************************************')\n",
    "print('Original total energy: ', discrete_CMB.toteng())\n",
    "print('Redshifted total energy: ', test_CMB_2.toteng())\n",
    "print('Ratio: ', discrete_CMB.toteng()/test_CMB_2.toteng())\n"
   ]
  }
 ],
 "metadata": {
  "anaconda-cloud": {},
  "kernelspec": {
   "display_name": "Python 3",
   "language": "python",
   "name": "python3"
  },
  "language_info": {
   "codemirror_mode": {
    "name": "ipython",
    "version": 3
   },
   "file_extension": ".py",
   "mimetype": "text/x-python",
   "name": "python",
   "nbconvert_exporter": "python",
   "pygments_lexer": "ipython3",
   "version": "3.6.1"
  }
 },
 "nbformat": 4,
 "nbformat_minor": 1
}
