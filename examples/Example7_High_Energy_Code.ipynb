{
 "cells": [
  {
   "cell_type": "markdown",
   "metadata": {},
   "source": [
    "# High Energy Code"
   ]
  },
  {
   "cell_type": "markdown",
   "metadata": {},
   "source": [
    "In this notebook, we demonstrate how the high energy code works and run some cross checks. "
   ]
  },
  {
   "cell_type": "markdown",
   "metadata": {},
   "source": [
    "## Initialization"
   ]
  },
  {
   "cell_type": "code",
   "execution_count": 5,
   "metadata": {},
   "outputs": [
    {
     "name": "stdout",
     "output_type": "stream",
     "text": [
      "The autoreload extension is already loaded. To reload it, use:\n",
      "  %reload_ext autoreload\n"
     ]
    }
   ],
   "source": [
    "%load_ext autoreload\n",
    "import sys\n",
    "sys.path.append(\"..\")"
   ]
  },
  {
   "cell_type": "code",
   "execution_count": 55,
   "metadata": {},
   "outputs": [],
   "source": [
    "%autoreload\n",
    "\n",
    "import matplotlib\n",
    "matplotlib.rc_file('matplotlibrc')\n",
    "import matplotlib.pyplot as plt\n",
    "\n",
    "%matplotlib inline\n",
    "\n",
    "from astropy.io import fits\n",
    "\n",
    "import numpy as np\n",
    "import pickle\n",
    "import darkhistory.physics as phys\n",
    "import darkhistory.spec.spectools as spectools\n",
    "import darkhistory.spec.transferfunction as tf\n",
    "from darkhistory.spec.spectrum import Spectrum\n",
    "import darkhistory.history.tla as tla\n",
    "\n",
    "from darkhistory.electrons.ics.ics_spectrum import ics_spec\n",
    "from darkhistory.electrons.ics.ics_engloss_spectrum import engloss_spec\n",
    "from darkhistory.electrons.ics.ics_cooling import get_ics_cooling_tf\n",
    "\n",
    "np.set_printoptions(threshold=np.nan)"
   ]
  },
  {
   "cell_type": "markdown",
   "metadata": {
    "collapsed": true
   },
   "source": [
    "## Inputs"
   ]
  },
  {
   "cell_type": "markdown",
   "metadata": {},
   "source": [
    "The inputs of the code are as follows: \n",
    "\n",
    "1. A `Spectrum` or `Spectra` object containing the injected electron spectrum, or the injected electron spectrum as a function of redshift, and/or \n",
    "\n",
    "2. A `Spectrum` or `Spectra` object containing the injected photon spectrum, or the injected photon spectrum as a function of redshift.\n",
    "\n",
    "There are 3 modes of use. For a `Spectrum` input, the spectrum can be interpreted either as a single injection at a particular redshift, and no subsequent injections, or as a spectrum with the redshift dependence factored out, with a continuous injection at every step. For a `Spectra` input, the spectrum at each redshift step is injected. \n",
    "\n",
    "We will start with the single injection case here. As an example, we begin with a $\\delta$-function injection of two 1 MeV electrons at some arbitrary energy, start at redshift $1+z = 2000$. Let's first initialize the spectrum. "
   ]
  },
  {
   "cell_type": "code",
   "execution_count": 11,
   "metadata": {},
   "outputs": [],
   "source": [
    "eleceng = np.logspace(1, 13, 100)\n",
    "photeng = np.logspace(-4, 13, 100)\n",
    "rs = 5\n",
    "\n",
    "elec_spec_init = spectools.rebin_N_arr(np.array([1]), \n",
    "                                      np.array([1e12]),\n",
    "                                      eleceng)\n",
    "\n",
    "elec_spec_init.rs = rs"
   ]
  },
  {
   "cell_type": "markdown",
   "metadata": {},
   "source": [
    "## Resolved Injected Electrons"
   ]
  },
  {
   "cell_type": "markdown",
   "metadata": {},
   "source": [
    "High energy electrons ($\\gg$ keV) primarily cool by inverse compton scattering (ICS), at a rate that is much faster than the smallest timestep allowable in this code ($\\Delta \\log (1+z) = 10^{-3}$). Lower energy electrons also cool quickly, but via atomic processes.\n",
    "\n",
    "Low energy electrons ($< 3.5$ keV) are read out immediately and saved in a `Spectra` object. High energy electrons will be converted into a photon spectrum through ICS, and an estimate for the energy loss due to atomic cooling also produced. \n",
    "\n",
    "For now, we will assume only ICS for high energy electrons. "
   ]
  },
  {
   "cell_type": "code",
   "execution_count": 26,
   "metadata": {},
   "outputs": [],
   "source": [
    "user=\"hongwan\"\n",
    "raw_nonrel_ICS_tf = pickle.load(open(\"/Users/\"+user+\"/Dropbox (MIT)/Photon Deposition/ICS_nonrel.raw\",\"rb\"))\n",
    "raw_rel_ICS_tf = pickle.load(open(\"/Users/\"+user+\"/Dropbox (MIT)/Photon Deposition/ICS_rel.raw\",\"rb\"))\n",
    "raw_engloss_tf = pickle.load(open(\"/Users/\"+user+\"/Dropbox (MIT)/Photon Deposition/ICS_englossspec.raw\",\"rb\"))\n",
    "\n",
    "(ics_phot_tf, ics_lowengelec_tf) = get_ics_cooling_tf(raw_nonrel_ICS_tf,\n",
    "                                                     raw_rel_ICS_tf,\n",
    "                                                     raw_engloss_tf,\n",
    "                                                     eleceng, photeng, rs)"
   ]
  },
  {
   "cell_type": "markdown",
   "metadata": {},
   "source": [
    "Check that the result makes sense, relative to some reference data."
   ]
  },
  {
   "cell_type": "code",
   "execution_count": 32,
   "metadata": {},
   "outputs": [],
   "source": [
    "mwimp = 1e12\n",
    "neng = 500\n",
    "dlneng = np.log(mwimp)/neng\n",
    "elecbins = np.exp(np.arange(neng+1)*dlneng)\n",
    "englow = elecbins[0:neng]\n",
    "enghigh = elecbins[1:]\n",
    "eleceng_ref = np.sqrt(englow*enghigh)\n",
    "\n",
    "nphoteng = 500\n",
    "dlnphoteng = np.log(mwimp/1e-2)/nphoteng\n",
    "photenglow = 1e-2*np.exp(np.arange(nphoteng)*dlnphoteng)\n",
    "photenghigh = 1e-2*np.exp((np.arange(nphoteng)+1)*dlnphoteng)\n",
    "photeng_ref = np.sqrt(photenglow*photenghigh)\n",
    "\n",
    "ICS_test_filename = \"/Users/hongwan/Dropbox (MIT)/Photon Deposition/ICS_test.fits\"\n",
    "ICS_test = fits.open(ICS_test_filename)\n",
    "ICS_test_spec = ICS_test[0].data\n",
    "ICS_test_spec = np.transpose(ICS_test_spec)\n",
    "ICS_test_list_spec = [Spectrum(photeng_ref, arr, in_eng=in_eng) for (arr, in_eng) in zip(ICS_test_spec, eleceng_ref)]\n",
    "ICS_test_tf = tf.TransFuncAtRedshift(ICS_test_list_spec, dlnz=-1)"
   ]
  },
  {
   "cell_type": "code",
   "execution_count": 56,
   "metadata": {},
   "outputs": [
    {
     "name": "stderr",
     "output_type": "stream",
     "text": [
      "../darkhistory/spec/transferfunction.py:567: FutureWarning: Conversion of the second argument of issubdtype from `int` to `np.signedinteger` is deprecated. In future, it will be treated as `np.int64 == np.dtype(int).type`.\n",
      "  np.issubdtype(type(ind),int)\n",
      "../darkhistory/spec/transferfunction.py:568: FutureWarning: Conversion of the second argument of issubdtype from `float` to `np.floating` is deprecated. In future, it will be treated as `np.float64 == np.dtype(float).type`.\n",
      "  or np.issubdtype(type(ind), float)\n"
     ]
    },
    {
     "data": {
      "text/plain": [
       "Text(0,0.5,'Number of Photons in Each Bin')"
      ]
     },
     "execution_count": 56,
     "metadata": {},
     "output_type": "execute_result"
    },
    {
     "data": {
      "image/png": "[encoded data removed]",
      "text/plain": [
       "<Figure size 432x288 with 1 Axes>"
      ]
     },
     "metadata": {},
     "output_type": "display_data"
    }
   ],
   "source": [
    "plt.figure()\n",
    "\n",
    "ax = plt.gca()\n",
    "ics_phot_tf.plot(ax, ind=[3.5e3, 5e5], indtype='in_eng')\n",
    "\n",
    "ax.set_xscale('log')\n",
    "ax.set_yscale('log')\n",
    "\n",
    "plt.xlabel('Secondary Photon Energy [eV]')\n",
    "\n",
    "plt.ylabel('Number of Photons in Each Bin')"
   ]
  },
  {
   "cell_type": "code",
   "execution_count": null,
   "metadata": {},
   "outputs": [],
   "source": []
  }
 ],
 "metadata": {
  "kernelspec": {
   "display_name": "Python [conda env:python3]",
   "language": "python",
   "name": "conda-env-python3-py"
  }
 },
 "nbformat": 4,
 "nbformat_minor": 2
}
