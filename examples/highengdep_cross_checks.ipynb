{
 "cells": [
  {
   "cell_type": "code",
   "execution_count": 3,
   "metadata": {},
   "outputs": [],
   "source": [
    "%load_ext autoreload\n",
    "import sys\n",
    "sys.path.append(\"..\")\n"
   ]
  },
  {
   "cell_type": "code",
   "execution_count": 4,
   "metadata": {},
   "outputs": [],
   "source": [
    "%matplotlib inline"
   ]
  },
  {
   "cell_type": "code",
   "execution_count": 5,
   "metadata": {},
   "outputs": [],
   "source": [
    "%autoreload\n",
    "\n",
    "import matplotlib\n",
    "matplotlib.rc_file('matplotlibrc')\n",
    "import matplotlib.pyplot as plt\n",
    "\n",
    "from scipy.interpolate import interp1d\n",
    "from scipy.interpolate import interp2d\n",
    "import numpy as np\n",
    "\n",
    "import darkhistory.physics as phys\n",
    "from darkhistory.history.tla import get_history\n",
    "\n",
    "import main\n",
    "import config\n",
    "from tqdm import tqdm_notebook as tqdm\n",
    "\n",
    "\n",
    "from astropy.io import fits\n",
    "\n"
   ]
  },
  {
   "cell_type": "code",
   "execution_count": 147,
   "metadata": {},
   "outputs": [
    {
     "data": {
      "text/plain": [
       "5.364327223960661"
      ]
     },
     "execution_count": 147,
     "metadata": {},
     "output_type": "execute_result"
    }
   ],
   "source": [
    "phys.rho_DM/phys.rho_baryon"
   ]
  },
  {
   "cell_type": "code",
   "execution_count": 220,
   "metadata": {},
   "outputs": [],
   "source": [
    "log10eng0 = 3.6989700794219966\n",
    "log10eng_arr = np.array([log10eng0 + 0.23252559*i for i in np.arange(40)])\n",
    "\n",
    "log10eng_arr = np.log10(10**log10eng_arr + phys.me)\n",
    "log10eng_arr[-1] = 12.60\n",
    "\n",
    "f_idl_low = np.zeros((log10eng_arr.size, 5, 6398))\n",
    "f_idl_high = np.zeros_like(f_idl_low)\n"
   ]
  },
  {
   "cell_type": "code",
   "execution_count": 221,
   "metadata": {},
   "outputs": [
    {
     "data": {
      "text/plain": [
       "array([5.94120711, 6.05308337, 6.19544756, 6.3649522 , 6.55583842,\n",
       "       6.76199572, 6.97830735, 7.20105209])"
      ]
     },
     "execution_count": 221,
     "metadata": {},
     "output_type": "execute_result"
    }
   ],
   "source": [
    "log10eng_arr[8:16]"
   ]
  },
  {
   "cell_type": "code",
   "execution_count": 222,
   "metadata": {},
   "outputs": [
    {
     "data": {
      "text/plain": [
       "array([5.5591748 , 5.79170039, 6.02422598, 6.25675157, 6.48927716,\n",
       "       6.72180275, 6.95432834, 7.18685393])"
      ]
     },
     "execution_count": 222,
     "metadata": {},
     "output_type": "execute_result"
    }
   ],
   "source": [
    "np.log10(10**log10eng_arr - phys.me)[8:16]"
   ]
  },
  {
   "cell_type": "code",
   "execution_count": 223,
   "metadata": {},
   "outputs": [
    {
     "data": {
      "application/vnd.jupyter.widget-view+json": {
       "model_id": "2998dffafd4d4a74ae22a3cedf0fe983",
       "version_major": 2,
       "version_minor": 0
      },
      "text/plain": [
       "HBox(children=(IntProgress(value=0, max=532), HTML(value='')))"
      ]
     },
     "metadata": {},
     "output_type": "display_data"
    },
    {
     "data": {
      "application/vnd.jupyter.widget-view+json": {
       "model_id": "f6dceb0d8a8d44f9b5522f25232a167e",
       "version_major": 2,
       "version_minor": 0
      },
      "text/plain": [
       "HBox(children=(IntProgress(value=0, max=532), HTML(value='')))"
      ]
     },
     "metadata": {},
     "output_type": "display_data"
    },
    {
     "data": {
      "application/vnd.jupyter.widget-view+json": {
       "model_id": "c006a8375dc740e5a39e71a92d5ad09f",
       "version_major": 2,
       "version_minor": 0
      },
      "text/plain": [
       "HBox(children=(IntProgress(value=0, max=532), HTML(value='')))"
      ]
     },
     "metadata": {},
     "output_type": "display_data"
    },
    {
     "data": {
      "application/vnd.jupyter.widget-view+json": {
       "model_id": "5dae9c7ca9204a64881edb3fee8debae",
       "version_major": 2,
       "version_minor": 0
      },
      "text/plain": [
       "HBox(children=(IntProgress(value=0, max=532), HTML(value='')))"
      ]
     },
     "metadata": {},
     "output_type": "display_data"
    },
    {
     "data": {
      "application/vnd.jupyter.widget-view+json": {
       "model_id": "573726a5c0884fc08ef48e3a0d34b111",
       "version_major": 2,
       "version_minor": 0
      },
      "text/plain": [
       "HBox(children=(IntProgress(value=0, max=532), HTML(value='')))"
      ]
     },
     "metadata": {},
     "output_type": "display_data"
    },
    {
     "data": {
      "application/vnd.jupyter.widget-view+json": {
       "model_id": "30255ca2246d477195487af440cee3f6",
       "version_major": 2,
       "version_minor": 0
      },
      "text/plain": [
       "HBox(children=(IntProgress(value=0, max=532), HTML(value='')))"
      ]
     },
     "metadata": {},
     "output_type": "display_data"
    },
    {
     "data": {
      "application/vnd.jupyter.widget-view+json": {
       "model_id": "fb0e3e26bee349bfb51ef0b4e20d0fba",
       "version_major": 2,
       "version_minor": 0
      },
      "text/plain": [
       "HBox(children=(IntProgress(value=0, max=532), HTML(value='')))"
      ]
     },
     "metadata": {},
     "output_type": "display_data"
    },
    {
     "data": {
      "application/vnd.jupyter.widget-view+json": {
       "model_id": "0d00a2b48d994707a9691b1148e9eff8",
       "version_major": 2,
       "version_minor": 0
      },
      "text/plain": [
       "HBox(children=(IntProgress(value=0, max=532), HTML(value='')))"
      ]
     },
     "metadata": {},
     "output_type": "display_data"
    }
   ],
   "source": [
    "result_decay = [\n",
    "    main.evolve(\n",
    "        primary='elec_delta',\n",
    "        DM_process='decay', mDM=eng*2, lifetime=3e26,\n",
    "        start_rs = 3000, end_rs=5.1,\n",
    "        coarsen_factor=12, backreaction=False\n",
    "    ) for eng in 10**log10eng_arr[8:16]\n",
    "]\n",
    "\n",
    "# (eng_phot, result_decay) = pickle.load(open('/Users/hongwan/Desktop/decay_phot_results.p','rb'))"
   ]
  },
  {
   "cell_type": "code",
   "execution_count": 215,
   "metadata": {},
   "outputs": [
    {
     "data": {
      "application/vnd.jupyter.widget-view+json": {
       "model_id": "fbd66f7e13b248ec9dd71855df129084",
       "version_major": 2,
       "version_minor": 0
      },
      "text/plain": [
       "HBox(children=(IntProgress(value=0, max=40), HTML(value='')))"
      ]
     },
     "metadata": {},
     "output_type": "display_data"
    }
   ],
   "source": [
    "float_formatter = lambda x,n: (\"{:.\"+str(n)+\"E}\").format(x,n)\n",
    "    \n",
    "for log10eng,f_low,f_high  in zip(tqdm(log10eng_arr), f_idl_low, f_idl_high):\n",
    "    \n",
    "    eng_string = float_formatter(log10eng,3)\n",
    "    file = '/Users/hongwan/Dropbox (MIT)/Photon Deposition/idl_comparison/GR_Checks/ih_continuous_phot/calcfracs_tf_z_3.000E+03_nstep_6398_logE_'+eng_string+'_xe_0.000E+00.fits'\n",
    "    hdul = fits.open(file)\n",
    "    data = hdul[1].data\n",
    "    f_low *= 0\n",
    "    f_high *= 0\n",
    "    f_low += data.field('loweng_deposition_fractions')[0]\n",
    "    f_high += data.field('higheng_deposition_fractions')[0]\n",
    "    idl_redshift   = data.field('redshift')[0]\n",
    "    hdul.close()"
   ]
  },
  {
   "cell_type": "code",
   "execution_count": 228,
   "metadata": {},
   "outputs": [],
   "source": [
    "f_low_H_ion_arr = np.array([res['f']['low']['H ion'] for res in result_decay])\n",
    "f_low_He_ion_arr = np.array([res['f']['low']['He ion'] for res in result_decay])\n",
    "f_low_exc_arr = np.array([res['f']['low']['exc'] for res in result_decay])\n",
    "f_low_heat_arr = np.array([res['f']['low']['heat'] for res in result_decay])\n",
    "f_low_cont_arr = np.array([res['f']['low']['cont'] for res in result_decay])\n",
    "\n",
    "f_high_H_ion_arr = np.array([res['f']['high']['H ion'] for res in result_decay])\n",
    "f_high_He_ion_arr = np.array([res['f']['high']['He ion'] for res in result_decay])\n",
    "f_high_exc_arr = np.array([res['f']['high']['exc'] for res in result_decay])\n",
    "f_high_heat_arr = np.array([res['f']['high']['heat'] for res in result_decay])\n",
    "f_high_cont_arr = np.array([res['f']['high']['cont'] for res in result_decay])\n"
   ]
  },
  {
   "cell_type": "code",
   "execution_count": 155,
   "metadata": {},
   "outputs": [],
   "source": [
    "fz_elec_decay = np.loadtxt('/Users/hongwan/Dropbox (MIT)/DM_IGM_Scattering/TLA_code/fz_electron_decay.dat', delimiter=',')\n",
    "\n",
    "log10rs  = fz_elec_decay[0:70, 1]\n",
    "log10eng = fz_elec_decay[0:2800:70, 0] \n",
    "\n",
    "log10f_elec_decay = {\n",
    "    'H_ion':   np.transpose(np.reshape(fz_elec_decay[0:2800,2], (40,70))),\n",
    "    'He_ion':  np.transpose(np.reshape(fz_elec_decay[2800:5600,2], (40,70))),\n",
    "    'H_exc':   np.transpose(np.reshape(fz_elec_decay[5600:8400,2], (40,70))),\n",
    "    'heating': np.transpose(np.reshape(fz_elec_decay[8400:11200,2], (40,70))),\n",
    "    'cont':    np.transpose(np.reshape(fz_elec_decay[11200:14000,2], (40,70))) \n",
    "}\n",
    "\n",
    "particle_type = 'elec'\n",
    "inj_type = 'decay'\n",
    "\n",
    "if particle_type == 'elec':\n",
    "    def f_H_ion(eng, rs):\n",
    "        if inj_type == 'decay':\n",
    "            interp_func = interp2d(log10eng, log10rs, log10f_elec_decay['H_ion'])\n",
    "            fac = 2\n",
    "        elif inj_type == 'swave':\n",
    "            interp_func = interp2d(log10eng, log10rs, log10f_elec_swave['H_ion'])\n",
    "            fac = 1\n",
    "        return 10**interp_func(np.log10(eng), np.log10(rs))\n",
    "    \n",
    "    def f_He_ion(eng, rs):\n",
    "        if inj_type == 'decay':\n",
    "            interp_func = interp2d(log10eng, log10rs, log10f_elec_decay['He_ion'])\n",
    "            fac = 2\n",
    "        elif inj_type == 'swave':\n",
    "            interp_func = interp2d(log10eng, log10rs, log10f_elec_swave['He_ion'])\n",
    "            fac = 1\n",
    "        return 10**interp_func(np.log10(eng), np.log10(rs))\n",
    "    \n",
    "    def f_H_exc(eng, rs):\n",
    "        if inj_type == 'decay':\n",
    "            interp_func = interp2d(log10eng, log10rs, log10f_elec_decay['H_exc'])\n",
    "            fac = 2\n",
    "        elif inj_type == 'swave':\n",
    "            interp_func = interp2d(log10eng, log10rs, log10f_elec_swave['H_exc'])\n",
    "            fac = 1\n",
    "        return 10**interp_func(np.log10(eng), np.log10(rs))\n",
    "\n",
    "    def f_heating(eng, rs):\n",
    "        if inj_type == 'decay':\n",
    "            interp_func = interp2d(log10eng, log10rs, log10f_elec_decay['heating'])\n",
    "            fac = 2\n",
    "        elif inj_type == 'swave':\n",
    "            interp_func = interp2d(log10eng, log10rs, log10f_elec_swave['heating'])\n",
    "            fac = 1\n",
    "        return 10**interp_func(np.log10(eng), np.log10(rs))\n",
    "    \n",
    "    def f_cont(eng, rs):\n",
    "        if inj_type == 'decay':\n",
    "            interp_func = interp2d(log10eng, log10rs, log10f_elec_decay['cont'])\n",
    "            fac = 2\n",
    "        elif inj_type == 'swave':\n",
    "            interp_func = interp2d(log10eng, log10rs, log10f_elec_swave['cont'])\n",
    "            fac = 1\n",
    "        return 10**interp_func(np.log10(eng), np.log10(rs))\n",
    "\n",
    "else:\n",
    "    \n",
    "    def f_H_ion(eng, rs):\n",
    "        if inj_type == 'decay':\n",
    "            interp_func = interp2d(log10eng, log10rs, log10f_phot_decay['H_ion'])\n",
    "            fac = 2\n",
    "        elif inj_type == 'swave':\n",
    "            interp_func = interp2d(log10eng, log10rs, log10f_phot_swave['H_ion'])\n",
    "            fac = 1\n",
    "        return 10**interp_func(np.log10(eng), np.log10(rs))\n",
    "    \n",
    "    def f_He_ion(eng, rs):\n",
    "        if inj_type == 'decay':\n",
    "            interp_func = interp2d(log10eng, log10rs, log10f_phot_decay['He_ion'])\n",
    "            fac = 2\n",
    "        elif inj_type == 'swave':\n",
    "            interp_func = interp2d(log10eng, log10rs, log10f_phot_swave['He_ion'])\n",
    "            fac = 1\n",
    "        return 10**interp_func(np.log10(eng), np.log10(rs))\n",
    "    \n",
    "    def f_H_exc(eng, rs):\n",
    "        if inj_type == 'decay':\n",
    "            interp_func = interp2d(log10eng, log10rs, log10f_phot_decay['H_exc'])\n",
    "            fac = 2\n",
    "        elif inj_type == 'swave':\n",
    "            interp_func = interp2d(log10eng, log10rs, log10f_phot_swave['H_exc'])\n",
    "            fac = 1\n",
    "        return 10**interp_func(np.log10(eng), np.log10(rs))\n",
    "\n",
    "    def f_heating(eng, rs):\n",
    "        if inj_type == 'decay':\n",
    "            interp_func = interp2d(log10eng, log10rs, log10f_phot_decay['heating'])\n",
    "            fac = 2\n",
    "        elif inj_type == 'swave':\n",
    "            interp_func = interp2d(log10eng, log10rs, log10f_phot_swave['heating'])\n",
    "            fac = 1\n",
    "        return 10**interp_func(np.log10(eng), np.log10(rs))\n",
    "    \n",
    "    def f_cont(eng, rs):\n",
    "        if inj_type == 'decay':\n",
    "            interp_func = interp2d(log10eng, log10rs, log10f_phot_decay['cont'])\n",
    "            fac = 2\n",
    "        elif inj_type == 'swave':\n",
    "            interp_func = interp2d(log10eng, log10rs, log10f_phot_swave['cont'])\n",
    "            fac = 1\n",
    "        return 10**interp_func(np.log10(eng), np.log10(rs))"
   ]
  },
  {
   "cell_type": "code",
   "execution_count": 158,
   "metadata": {},
   "outputs": [
    {
     "data": {
      "application/vnd.jupyter.widget-view+json": {
       "model_id": "1124c6a64f7548ffba6df7370f8e354a",
       "version_major": 2,
       "version_minor": 0
      },
      "text/plain": [
       "HBox(children=(IntProgress(value=0, max=40), HTML(value='')))"
      ]
     },
     "metadata": {},
     "output_type": "display_data"
    }
   ],
   "source": [
    "f_H_ion_2016 = np.array([[f_H_ion(eng, rs) for rs in idl_redshift] for eng in tqdm(10**log10eng_arr - phys.me)])"
   ]
  },
  {
   "cell_type": "code",
   "execution_count": 161,
   "metadata": {},
   "outputs": [],
   "source": [
    "f_H_ion_2016 = np.squeeze(f_H_ion_2016)"
   ]
  },
  {
   "cell_type": "code",
   "execution_count": 218,
   "metadata": {},
   "outputs": [
    {
     "name": "stderr",
     "output_type": "stream",
     "text": [
      "/Users/hongwan/anaconda/envs/python3/lib/python3.6/site-packages/ipykernel_launcher.py:22: RuntimeWarning: divide by zero encountered in log10\n",
      "/Users/hongwan/anaconda/envs/python3/lib/python3.6/site-packages/ipykernel_launcher.py:30: RuntimeWarning: divide by zero encountered in log10\n"
     ]
    },
    {
     "data": {
      "text/plain": [
       "<matplotlib.contour.QuadContourSet at 0x1b22ae2be0>"
      ]
     },
     "execution_count": 218,
     "metadata": {},
     "output_type": "execute_result"
    },
    {
     "data": {
      "image/png": "[encoded data removed]",
      "text/plain": [
       "<Figure size 1000x2500 with 1 Axes>"
      ]
     },
     "metadata": {},
     "output_type": "display_data"
    }
   ],
   "source": [
    "plt.figure(figsize=(10, 25))\n",
    "\n",
    "# f_low_list = [f_low_H_ion_arr, f_low_He_ion_arr, f_low_exc_arr, f_low_heat_arr, f_low_cont_arr]\n",
    "# f_high_list = \n",
    "\n",
    "plt.subplot(5, 2, 1)\n",
    "\n",
    "ax = plt.gca()\n",
    "\n",
    "ax.loglog()\n",
    "\n",
    "# ax.contourf(\n",
    "#     10**log10eng_arr[8:16] - phys.me, result_decay[0]['rs'], \n",
    "#     np.transpose(np.log10(0*f_high_heat_arr + f_low_heat_arr)), \n",
    "#     levels = np.log10([1e-7, 1e-4, 1e-3, 5e-3, 1e-2, 5e-2, 1e-1, 3e-1, 1]),\n",
    "# #     norm=matplotlib.colors.LogNorm(),\n",
    "#     cmap=matplotlib.cm.inferno\n",
    "# )\n",
    "\n",
    "ax.contourf(\n",
    "    eng_phot, result_decay[0]['rs'], \n",
    "    np.transpose(np.log10(f_high_H_ion_arr + 0*f_low_H_ion_arr)), \n",
    "    levels = np.log10([1e-7, 1e-4, 1e-3, 5e-3, 1e-2, 5e-2, 1e-1, 3e-1, 1]),\n",
    "#     norm=matplotlib.colors.LogNorm(),\n",
    "    cmap=matplotlib.cm.inferno\n",
    ")\n",
    "\n",
    "ax.contour(\n",
    "    10**log10eng_arr, idl_redshift, \n",
    "    np.transpose(np.log10(f_idl_high[:,0,:] + 0*f_idl_low[:,3,:])), \n",
    "    levels = np.log10([1e-4, 1e-3, 5e-3, 1e-2, 5e-2, 1e-1, 3e-1]), linestyles=':', linewidths=1, colors='k'\n",
    ")\n",
    "\n",
    "# ax.contour(\n",
    "#     10**log10eng_arr - phys.me, idl_redshift, \n",
    "#     np.transpose(np.log10(f_H_ion_2016)), \n",
    "#     levels = np.log10([1e-4, 1e-3, 5e-3, 1e-2, 5e-2, 1e-1, 3e-1]), linestyles=':', linewidths=1, colors='k'\n",
    "# )\n",
    "\n"
   ]
  },
  {
   "cell_type": "code",
   "execution_count": 181,
   "metadata": {},
   "outputs": [
    {
     "data": {
      "text/plain": [
       "<matplotlib.contour.QuadContourSet at 0x1b1f955a58>"
      ]
     },
     "execution_count": 181,
     "metadata": {},
     "output_type": "execute_result"
    },
    {
     "data": {
      "image/png": "[encoded data removed]",
      "text/plain": [
       "<Figure size 620x620 with 1 Axes>"
      ]
     },
     "metadata": {},
     "output_type": "display_data"
    }
   ],
   "source": [
    "plt.figure()\n",
    "\n",
    "ax = plt.gca()\n",
    "\n",
    "ax.loglog()\n",
    "\n",
    "ax.contourf(\n",
    "    10**log10eng_arr[8:16] - phys.me, (result_decay[0]['rs']), \n",
    "    np.transpose((f_high_H_ion_arr + f_low_H_ion_arr)/f_H_ion_2016[8:16, 0:-20:12] - 1), \n",
    "    levels = [-0.5 -0.1, 0.1, 0.5, 1 , 2],\n",
    "#     norm=matplotlib.colors.LogNorm(),\n",
    "    cmap=matplotlib.cm.inferno\n",
    ")"
   ]
  },
  {
   "cell_type": "code",
   "execution_count": 229,
   "metadata": {},
   "outputs": [
    {
     "data": {
      "text/plain": [
       "[5, 3000, 0.001, 0.5]"
      ]
     },
     "execution_count": 229,
     "metadata": {},
     "output_type": "execute_result"
    },
    {
     "data": {
      "image/png": "[encoded data removed]",
      "text/plain": [
       "<Figure size 620x620 with 1 Axes>"
      ]
     },
     "metadata": {},
     "output_type": "display_data"
    }
   ],
   "source": [
    "plt.figure()\n",
    "plt.loglog()\n",
    "\n",
    "i = 0\n",
    "\n",
    "plt.plot(result_decay[i]['rs'], f_low_H_ion_arr[i] + 0.*f_high_H_ion_arr[i])\n",
    "plt.plot(idl_redshift, f_idl_low[i+8,0,:] + 0.*f_idl_high[i+8,0,:])\n",
    "plt.plot(result_decay[i]['rs'], 0*f_low_H_ion_arr[i] + f_high_H_ion_arr[i])\n",
    "plt.plot(idl_redshift, 0*f_idl_low[i+8,0,:] + f_idl_high[i+8,0,:])\n",
    "\n",
    "plt.axis([5, 3000, 1e-3, 0.5])"
   ]
  },
  {
   "cell_type": "code",
   "execution_count": 211,
   "metadata": {},
   "outputs": [
    {
     "data": {
      "text/plain": [
       "array([  362388.82714333,   619013.88315217,  1057367.55339747,\n",
       "        1806140.65921187,  3085156.21684868,  5269904.55245798,\n",
       "        9001778.85332003, 15376373.84462399])"
      ]
     },
     "execution_count": 211,
     "metadata": {},
     "output_type": "execute_result"
    }
   ],
   "source": [
    "10**np.log10(10**log10eng_arr - phys.me)[8:16]"
   ]
  },
  {
   "cell_type": "code",
   "execution_count": 233,
   "metadata": {},
   "outputs": [
    {
     "data": {
      "text/plain": [
       "5.941207107839362"
      ]
     },
     "execution_count": 233,
     "metadata": {},
     "output_type": "execute_result"
    }
   ],
   "source": [
    "log10eng_arr[8]"
   ]
  },
  {
   "cell_type": "code",
   "execution_count": null,
   "metadata": {},
   "outputs": [],
   "source": []
  }
 ],
 "metadata": {
  "kernelspec": {
   "display_name": "Python 3",
   "language": "python",
   "name": "python3"
  },
  "language_info": {
   "codemirror_mode": {
    "name": "ipython",
    "version": 3
   },
   "file_extension": ".py",
   "mimetype": "text/x-python",
   "name": "python",
   "nbconvert_exporter": "python",
   "pygments_lexer": "ipython3",
   "version": "3.6.7"
  },
  "toc": {
   "base_numbering": 1,
   "nav_menu": {},
   "number_sections": true,
   "sideBar": true,
   "skip_h1_title": false,
   "title_cell": "Table of Contents",
   "title_sidebar": "Contents",
   "toc_cell": false,
   "toc_position": {},
   "toc_section_display": true,
   "toc_window_display": false
  }
 },
 "nbformat": 4,
 "nbformat_minor": 2
}
