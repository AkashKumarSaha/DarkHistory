{
 "cells": [
  {
   "cell_type": "markdown",
   "metadata": {},
   "source": [
    "# Example ? Electron Cooling"
   ]
  },
  {
   "cell_type": "markdown",
   "metadata": {},
   "source": [
    "In this example, we will show how to use the electron cooling module, found in `darkhistory.elec.elec_cooling`. This module takes an injected electron with some initial energy, and cools it completely through inverse Compton scattering (ICS) as well as ionization, excitation (both on HI, HeI and HeII) as well as Coulomb heating from free electrons, and returns the following output: \n",
    "\n",
    "1. The secondary propagating photon transfer function $\\overline{T}_\\gamma$; \n",
    "2. The low-energy electron transfer function $\\overline{T}_e$; \n",
    "3. The energy deposited into ionization $\\overline{R}_\\text{ion}$; \n",
    "4. The energy deposited into excitation $\\overline{R}_\\text{exc}$;\n",
    "5. The energy deposited into heating $\\overline{R}_\\text{heat}$; \n",
    "6. The total energy of upscattered CMB photons $\\overline{R}_\\text{CMB}$, and\n",
    "7. Numerical error away from energy conservation. \n",
    "\n",
    "How to use these functions will be explained in greater detail as we go along. "
   ]
  },
  {
   "cell_type": "markdown",
   "metadata": {},
   "source": [
    "## Initialization"
   ]
  },
  {
   "cell_type": "markdown",
   "metadata": {},
   "source": [
    "Let's load the modules that we will need. "
   ]
  },
  {
   "cell_type": "code",
   "execution_count": 1,
   "metadata": {},
   "outputs": [],
   "source": [
    "%load_ext autoreload\n",
    "import sys\n",
    "sys.path.append(\"..\")"
   ]
  },
  {
   "cell_type": "code",
   "execution_count": 2,
   "metadata": {},
   "outputs": [],
   "source": [
    "%matplotlib inline"
   ]
  },
  {
   "cell_type": "code",
   "execution_count": 7,
   "metadata": {},
   "outputs": [
    {
     "name": "stdout",
     "output_type": "stream",
     "text": [
      "****** Loading transfer functions... ******\n",
      "    for high-energy photons...   Done!\n",
      "    for low-energy photons...  Done!\n",
      "    for low-energy electrons...  Done!\n",
      "    for high-energy deposition...  Done!\n",
      "    for total upscattered CMB energy...  Done!\n",
      "    for inverse Compton (Thomson)...  Done!\n",
      "    for inverse Compton (relativistic)...  Done!\n",
      "    for inverse Compton (energy loss)...  Done!\n",
      "****** All transfer functions loaded! ******\n"
     ]
    }
   ],
   "source": [
    "%autoreload\n",
    "\n",
    "import matplotlib\n",
    "matplotlib.rc_file('matplotlibrc')\n",
    "import matplotlib.pyplot as plt\n",
    "\n",
    "import numpy as np\n",
    "\n",
    "from config import photeng, eleceng\n",
    "import darkhistory.physics as phys\n",
    "from darkhistory.electrons.elec_cooling import get_elec_cooling_tf\n"
   ]
  },
  {
   "cell_type": "markdown",
   "metadata": {},
   "source": [
    "We have imported the default binning for photons `photeng` and electrons `eleceng` used throughout DarkHistory from the `config` module. We also need to load `tf_data`, which will load all of the transfer function data files that was downloaded as part of this code. Loading `tf_data` will take some time, but if successful, the user should see the following output:\n",
    "\n",
    "```\n",
    "****** Loading transfer functions... ******\n",
    "    for high-energy photons...   Done!\n",
    "    for low-energy photons...  Done!\n",
    "    for low-energy electrons...  Done!\n",
    "    for high-energy deposition...  Done!\n",
    "    for total upscattered CMB energy...  Done!\n",
    "    for inverse Compton (Thomson)...  Done!\n",
    "    for inverse Compton (relativistic)...  Done!\n",
    "    for inverse Compton (energy loss)...  Done!\n",
    "****** All transfer functions loaded! ******\n",
    "```\n",
    "\n",
    "We will need the last three transfer functions that have to do with ICS."
   ]
  },
  {
   "cell_type": "code",
   "execution_count": 9,
   "metadata": {},
   "outputs": [],
   "source": [
    "from tf_data import ics_thomson_ref_tf, ics_rel_ref_tf, engloss_ref_tf"
   ]
  },
  {
   "cell_type": "markdown",
   "metadata": {},
   "source": [
    "These transfer functions store the scattered photon spectrum in the Thomson (`ics_thomson_ref_tf`) and the relativistic (`ics_rel_ref_tf`) regime, as well as the scattered electron net energy loss spectrum (`engloss_ref_tf`). Please refer to the paper for a description of these quantities. \n",
    "\n",
    "For now, we are merely going to use these as inputs for `elec_cooling` to perform the calculation. "
   ]
  },
  {
   "cell_type": "code",
   "execution_count": null,
   "metadata": {},
   "outputs": [],
   "source": []
  }
 ],
 "metadata": {
  "kernelspec": {
   "display_name": "Python 3",
   "language": "python",
   "name": "python3"
  },
  "language_info": {
   "codemirror_mode": {
    "name": "ipython",
    "version": 3
   },
   "file_extension": ".py",
   "mimetype": "text/x-python",
   "name": "python",
   "nbconvert_exporter": "python",
   "pygments_lexer": "ipython3",
   "version": "3.6.7"
  },
  "toc": {
   "base_numbering": 1,
   "nav_menu": {},
   "number_sections": true,
   "sideBar": true,
   "skip_h1_title": false,
   "title_cell": "Table of Contents",
   "title_sidebar": "Contents",
   "toc_cell": false,
   "toc_position": {},
   "toc_section_display": true,
   "toc_window_display": false
  }
 },
 "nbformat": 4,
 "nbformat_minor": 2
}
