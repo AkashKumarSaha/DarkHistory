{
 "cells": [
  {
   "cell_type": "markdown",
   "metadata": {},
   "source": [
    "# High Energy Photon Cooling"
   ]
  },
  {
   "cell_type": "markdown",
   "metadata": {},
   "source": [
    "In this notebook, we demonstrate how the high energy photon cooling works and run some cross checks. "
   ]
  },
  {
   "cell_type": "markdown",
   "metadata": {},
   "source": [
    "## Initialization"
   ]
  },
  {
   "cell_type": "code",
   "execution_count": 1,
   "metadata": {},
   "outputs": [],
   "source": [
    "%load_ext autoreload\n",
    "import sys\n",
    "sys.path.append(\"..\")"
   ]
  },
  {
   "cell_type": "code",
   "execution_count": 44,
   "metadata": {},
   "outputs": [],
   "source": [
    "%autoreload\n",
    "\n",
    "import matplotlib\n",
    "matplotlib.rc_file('matplotlibrc')\n",
    "import matplotlib.pyplot as plt\n",
    "\n",
    "%matplotlib inline\n",
    "\n",
    "matplotlib.rcParams['figure.figsize'] = [10,10]\n",
    "\n",
    "\n",
    "from astropy.io import fits\n",
    "\n",
    "import numpy as np\n",
    "import copy\n",
    "import pickle\n",
    "\n",
    "import darkhistory.physics as phys\n",
    "import darkhistory.utilities as utils\n",
    "import darkhistory.spec.spectools as spectools\n",
    "import darkhistory.spec.transferfunction as tf\n",
    "from darkhistory.spec.spectrum import Spectrum\n",
    "from darkhistory.spec.spectra import Spectra\n",
    "import darkhistory.history.tla as tla\n",
    "\n",
    "from tqdm import tqdm_notebook as tqdm\n",
    "\n",
    "from darkhistory.electrons.ics.ics_spectrum import ics_spec\n",
    "from darkhistory.electrons.ics.ics_engloss_spectrum import engloss_spec\n",
    "from darkhistory.electrons.ics.ics_cooling import get_ics_cooling_tf\n",
    "\n",
    "np.set_printoptions(threshold=np.nan)"
   ]
  },
  {
   "cell_type": "markdown",
   "metadata": {},
   "source": [
    "## Load Reference Results"
   ]
  },
  {
   "cell_type": "code",
   "execution_count": 58,
   "metadata": {},
   "outputs": [],
   "source": [
    "eng_ind = 399\n",
    "\n",
    "# Check that this matches with the input \n",
    "\n",
    "file_name = {99: \"/Users/hongwan/Dropbox (MIT)/Photon Deposition/tf_z_3.100E+01_nstep_2049_logE_5.328E+00_xe_1.000E-04.fits\",\n",
    "            199: \"/Users/hongwan/Dropbox (MIT)/Photon Deposition/tf_z_3.100E+01_nstep_2049_logE_7.183E+00_xe_1.000E-04.fits\",\n",
    "            298: \"/Users/hongwan/Dropbox (MIT)/Photon Deposition/tf_z_3.100E+01_nstep_2049_logE_9.020E+00_xe_1.000E-04.fits\",\n",
    "            299: \"/Users/hongwan/Dropbox (MIT)/Photon Deposition/tf_z_3.100E+01_nstep_2049_logE_9.038E+00_xe_1.000E-04.fits\", \n",
    "            399: \"/Users/hongwan/Dropbox (MIT)/Photon Deposition/tf_z_3.100E+01_nstep_2049_logE_1.089E+01_xe_1.000E-04.fits\",\n",
    "            499: \"/Users/hongwan/Dropbox (MIT)/Photon Deposition/tf_z_3.100E+01_nstep_2049_logE_1.275E+01_xe_1.000E-04.fits\",\n",
    "            2993: \"/Users/hongwan/Dropbox (MIT)/Photon Deposition/tf_z_3.100E+01_nstep_18_logE_9.038E+00_xe_1.000E-04.fits\"}\n",
    "\n",
    "file = fits.open(file_name[eng_ind])\n",
    "\n",
    "file_eng = file[1].data['energy'][0,:]\n",
    "file_rs = file[1].data['redshift'][0,:]\n",
    "file_photonspectrum = file[1].data['photonspectrum'][0,:,:]"
   ]
  },
  {
   "cell_type": "code",
   "execution_count": 59,
   "metadata": {},
   "outputs": [],
   "source": [
    "file_spectra = Spectra([Spectrum(file_eng, photspec, rs=rs) \n",
    "                   for photspec,rs in zip(file_photonspectrum, file_rs)])"
   ]
  },
  {
   "cell_type": "markdown",
   "metadata": {},
   "source": [
    "## Photon Cooling"
   ]
  },
  {
   "cell_type": "markdown",
   "metadata": {},
   "source": [
    "Now we cool the photons that result from the high energy photon injection. Photons below 3.1 keV are considered low energy photons. For high energy photons, greater than 3.1 keV, we have transfer functions (a function of *both* injected photon energy and redshift, so they are given as a `TransFuncList`), into high energy photons, low energy photons and low energy electrons. Let's load them first."
   ]
  },
  {
   "cell_type": "code",
   "execution_count": 60,
   "metadata": {},
   "outputs": [],
   "source": [
    "user = 'hongwan'\n",
    "\n",
    "highengphot_tflist = pickle.load(open(\"/Users/\"+user+\"/Dropbox (MIT)/Photon Deposition/tfunclist_photspec.raw\", \"rb\"))\n",
    "lowengphot_tflist  = pickle.load(open(\"/Users/\"+user+\"/Dropbox (MIT)/Photon Deposition/tfunclist_lowengphotspec.raw\", \"rb\"))\n",
    "lowengelec_tflist  = pickle.load(open(\"/Users/\"+user+\"/Dropbox (MIT)/Photon Deposition/tfunclist_lowengelecspec.raw\", \"rb\"))\n",
    "highengphot_tflist_before = pickle.load(open(\"/Users/\"+user+\"/Dropbox (MIT)/Photon Deposition/tfunclist_photspec.raw\", \"rb\"))\n",
    "\n",
    "# Changes all of the tflists to TransFuncAtRedshift\n",
    "highengphot_tflist.transpose()\n",
    "highengphot_tflist_before.transpose()\n",
    "lowengphot_tflist.transpose()\n",
    "lowengelec_tflist.transpose()\n",
    "\n",
    "# This is a list of mwimp values used to generate highengphot_tflist\n",
    "mwimp_arr = np.array(highengphot_tflist.in_eng)\n",
    "\n",
    "# This shouldn't be necessary. There is one negative value somewhere. Check.\n",
    "for tf in highengphot_tflist:\n",
    "    tf.grid_vals[np.where(tf.grid_vals < 0)] = 1e-100\n",
    "for tf in highengphot_tflist_before:\n",
    "    tf.grid_vals[np.where(tf.grid_vals < 0)] = 1e-100\n",
    "for tf in lowengphot_tflist:\n",
    "    tf.grid_vals[np.where(tf.grid_vals < 0)] = 1e-100"
   ]
  },
  {
   "cell_type": "code",
   "execution_count": 61,
   "metadata": {},
   "outputs": [
    {
     "data": {
      "text/plain": [
       "'rs'"
      ]
     },
     "execution_count": 61,
     "metadata": {},
     "output_type": "execute_result"
    }
   ],
   "source": [
    "highengphot_tflist.tftype"
   ]
  },
  {
   "cell_type": "markdown",
   "metadata": {
    "collapsed": true
   },
   "source": [
    "## Inputs"
   ]
  },
  {
   "cell_type": "code",
   "execution_count": 62,
   "metadata": {},
   "outputs": [],
   "source": [
    "eleceng = np.logspace( 1, 13, 500)\n",
    "photeng = np.logspace(4, 13, 200)\n",
    "# photeng = highengphot_tflist.in_eng[1::10]\n",
    "phot_spec_init = spectools.rebin_N_arr(np.array([2]), \n",
    "                                      np.array([mwimp_arr[eng_ind]]),\n",
    "                                      photeng)\n",
    "phot_spec_init.switch_spec_type()"
   ]
  },
  {
   "cell_type": "code",
   "execution_count": 63,
   "metadata": {
    "scrolled": true
   },
   "outputs": [
    {
     "data": {
      "text/plain": [
       "array([0.        , 0.        , 0.        , 0.        , 0.        ,\n",
       "       0.        , 0.        , 0.        , 0.        , 0.        ,\n",
       "       0.        , 0.        , 0.        , 0.        , 0.        ,\n",
       "       0.        , 0.        , 0.        , 0.        , 0.        ,\n",
       "       0.        , 0.        , 0.        , 0.        , 0.        ,\n",
       "       0.        , 0.        , 0.        , 0.        , 0.        ,\n",
       "       0.        , 0.        , 0.        , 0.        , 0.        ,\n",
       "       0.        , 0.        , 0.        , 0.        , 0.        ,\n",
       "       0.        , 0.        , 0.        , 0.        , 0.        ,\n",
       "       0.        , 0.        , 0.        , 0.        , 0.        ,\n",
       "       0.        , 0.        , 0.        , 0.        , 0.        ,\n",
       "       0.        , 0.        , 0.        , 0.        , 0.        ,\n",
       "       0.        , 0.        , 0.        , 0.        , 0.        ,\n",
       "       0.        , 0.        , 0.        , 0.        , 0.        ,\n",
       "       0.        , 0.        , 0.        , 0.        , 0.        ,\n",
       "       0.        , 0.        , 0.        , 0.        , 0.        ,\n",
       "       0.        , 0.        , 0.        , 0.        , 0.        ,\n",
       "       0.        , 0.        , 0.        , 0.        , 0.        ,\n",
       "       0.        , 0.        , 0.        , 0.        , 0.        ,\n",
       "       0.        , 0.        , 0.        , 0.        , 0.        ,\n",
       "       0.        , 0.        , 0.        , 0.        , 0.        ,\n",
       "       0.        , 0.        , 0.        , 0.        , 0.        ,\n",
       "       0.        , 0.        , 0.        , 0.        , 0.        ,\n",
       "       0.        , 0.        , 0.        , 0.        , 0.        ,\n",
       "       0.        , 0.        , 0.        , 0.        , 0.        ,\n",
       "       0.        , 0.        , 0.        , 0.        , 0.        ,\n",
       "       0.        , 0.        , 0.        , 0.        , 0.        ,\n",
       "       0.        , 0.        , 0.        , 0.        , 0.        ,\n",
       "       0.        , 0.        , 0.        , 0.        , 0.        ,\n",
       "       0.        , 0.        , 0.        , 0.        , 0.        ,\n",
       "       0.        , 0.        , 1.81288004, 0.18711996, 0.        ,\n",
       "       0.        , 0.        , 0.        , 0.        , 0.        ,\n",
       "       0.        , 0.        , 0.        , 0.        , 0.        ,\n",
       "       0.        , 0.        , 0.        , 0.        , 0.        ,\n",
       "       0.        , 0.        , 0.        , 0.        , 0.        ,\n",
       "       0.        , 0.        , 0.        , 0.        , 0.        ,\n",
       "       0.        , 0.        , 0.        , 0.        , 0.        ,\n",
       "       0.        , 0.        , 0.        , 0.        , 0.        ,\n",
       "       0.        , 0.        , 0.        , 0.        , 0.        ,\n",
       "       0.        , 0.        , 0.        , 0.        , 0.        ])"
      ]
     },
     "execution_count": 63,
     "metadata": {},
     "output_type": "execute_result"
    }
   ],
   "source": [
    "phot_spec_init.N"
   ]
  },
  {
   "cell_type": "markdown",
   "metadata": {},
   "source": [
    "We now need to construct a transfer function list for *both* high- and low-energy photons. It needs to be a square matrix (so that we can take powers of the matrix for coarsening later), with dimensions given by the length of `photeng`."
   ]
  },
  {
   "cell_type": "code",
   "execution_count": 64,
   "metadata": {},
   "outputs": [
    {
     "name": "stdout",
     "output_type": "stream",
     "text": [
      "rs\n"
     ]
    },
    {
     "data": {
      "application/vnd.jupyter.widget-view+json": {
       "model_id": "2efbc0287958410c9d69f38563a15a74",
       "version_major": 2,
       "version_minor": 0
      },
      "text/html": [
       "<p>Failed to display Jupyter Widget of type <code>HBox</code>.</p>\n",
       "<p>\n",
       "  If you're reading this message in the Jupyter Notebook or JupyterLab Notebook, it may mean\n",
       "  that the widgets JavaScript is still loading. If this message persists, it\n",
       "  likely means that the widgets JavaScript library is either not installed or\n",
       "  not enabled. See the <a href=\"https://ipywidgets.readthedocs.io/en/stable/user_install.html\">Jupyter\n",
       "  Widgets Documentation</a> for setup instructions.\n",
       "</p>\n",
       "<p>\n",
       "  If you're reading this message in another frontend (for example, a static\n",
       "  rendering on GitHub or <a href=\"https://nbviewer.jupyter.org/\">NBViewer</a>),\n",
       "  it may mean that your frontend doesn't currently support widgets.\n",
       "</p>\n"
      ],
      "text/plain": [
       "HBox(children=(IntProgress(value=1, bar_style='info', max=1), HTML(value='')))"
      ]
     },
     "metadata": {},
     "output_type": "display_data"
    },
    {
     "name": "stdout",
     "output_type": "stream",
     "text": [
      "\n",
      "[1.00000000e+04 1.10975250e+04 1.23155060e+04 1.36671636e+04\n",
      " 1.51671689e+04 1.68318035e+04 1.86791360e+04 2.07292178e+04\n",
      " 2.30043012e+04 2.55290807e+04 2.83309610e+04 3.14403547e+04\n",
      " 3.48910121e+04 3.87203878e+04 4.29700470e+04 4.76861170e+04\n",
      " 5.29197874e+04 5.87278661e+04 6.51733960e+04 7.23263390e+04\n",
      " 8.02643352e+04 8.90735464e+04 9.88495905e+04 1.09698580e+05\n",
      " 1.21738273e+05 1.35099352e+05 1.49926843e+05 1.66381689e+05\n",
      " 1.84642494e+05 2.04907469e+05 2.27396575e+05 2.52353917e+05\n",
      " 2.80050389e+05 3.10786619e+05 3.44896226e+05 3.82749448e+05\n",
      " 4.24757155e+05 4.71375313e+05 5.23109931e+05 5.80522552e+05\n",
      " 6.44236351e+05 7.14942899e+05 7.93409667e+05 8.80488358e+05\n",
      " 9.77124154e+05 1.08436597e+06 1.20337784e+06 1.33545156e+06\n",
      " 1.48202071e+06 1.64467618e+06 1.82518349e+06 2.02550194e+06\n",
      " 2.24780583e+06 2.49450814e+06 2.76828663e+06 3.07211300e+06\n",
      " 3.40928507e+06 3.78346262e+06 4.19870708e+06 4.65952567e+06\n",
      " 5.17092024e+06 5.73844165e+06 6.36824994e+06 7.06718127e+06\n",
      " 7.84282206e+06 8.70359136e+06 9.65883224e+06 1.07189132e+07\n",
      " 1.18953407e+07 1.32008840e+07 1.46497140e+07 1.62575567e+07\n",
      " 1.80418641e+07 2.00220037e+07 2.22194686e+07 2.46581108e+07\n",
      " 2.73644000e+07 3.03677112e+07 3.37006433e+07 3.73993730e+07\n",
      " 4.15040476e+07 4.60592204e+07 5.11143348e+07 5.67242607e+07\n",
      " 6.29498899e+07 6.98587975e+07 7.75259749e+07 8.60346442e+07\n",
      " 9.54771611e+07 1.05956018e+08 1.17584955e+08 1.30490198e+08\n",
      " 1.44811823e+08 1.60705282e+08 1.78343088e+08 1.97916687e+08\n",
      " 2.19638537e+08 2.43744415e+08 2.70495973e+08 3.00183581e+08\n",
      " 3.33129479e+08 3.69691271e+08 4.10265811e+08 4.55293507e+08\n",
      " 5.05263107e+08 5.60716994e+08 6.22257084e+08 6.90551352e+08\n",
      " 7.66341087e+08 8.50448934e+08 9.43787828e+08 1.04737090e+09\n",
      " 1.16232247e+09 1.28989026e+09 1.43145894e+09 1.58856513e+09\n",
      " 1.76291412e+09 1.95639834e+09 2.17111795e+09 2.40940356e+09\n",
      " 2.67384162e+09 2.96730241e+09 3.29297126e+09 3.65438307e+09\n",
      " 4.05546074e+09 4.50055768e+09 4.99450512e+09 5.54266452e+09\n",
      " 6.15098579e+09 6.82607183e+09 7.57525026e+09 8.40665289e+09\n",
      " 9.32930403e+09 1.03532184e+10 1.14895100e+10 1.27505124e+10\n",
      " 1.41499130e+10 1.57029012e+10 1.74263339e+10 1.93389175e+10\n",
      " 2.14614120e+10 2.38168555e+10 2.64308149e+10 2.93316628e+10\n",
      " 3.25508860e+10 3.61234270e+10 4.00880633e+10 4.44878283e+10\n",
      " 4.93704785e+10 5.47890118e+10 6.08022426e+10 6.74754405e+10\n",
      " 7.48810386e+10 8.30994195e+10 9.22197882e+10 1.02341140e+11\n",
      " 1.13573336e+11 1.26038293e+11 1.39871310e+11 1.55222536e+11\n",
      " 1.72258597e+11 1.91164408e+11 2.12145178e+11 2.35428641e+11\n",
      " 2.61267523e+11 2.89942285e+11 3.21764175e+11 3.57078596e+11\n",
      " 3.96268864e+11 4.39760361e+11 4.88025158e+11 5.41587138e+11\n",
      " 6.01027678e+11 6.66991966e+11 7.40196000e+11 8.21434358e+11\n",
      " 9.11588830e+11 1.01163798e+12 1.12266777e+12 1.24588336e+12\n",
      " 1.38262217e+12 1.53436841e+12 1.70276917e+12 1.88965234e+12\n",
      " 2.09704640e+12 2.32720248e+12 2.58261876e+12 2.86606762e+12\n",
      " 3.18062569e+12 3.52970730e+12 3.91710149e+12 4.34701316e+12\n",
      " 4.82410870e+12 5.35356668e+12 5.94113398e+12 6.59318827e+12\n",
      " 7.31680714e+12 8.11984499e+12 9.01101825e+12 1.00000000e+13]\n"
     ]
    }
   ],
   "source": [
    "#Split photeng into high and low energy. \n",
    "photeng_high = photeng[photeng > 3070]\n",
    "photeng_low  = photeng[photeng <= 3070]\n",
    "\n",
    "# Split eleceng into high and low energy. \n",
    "eleceng_high = eleceng[eleceng > 3500]\n",
    "eleceng_low  = eleceng[eleceng <= 3500]\n",
    "\n",
    "\n",
    "# highengphot_tflist.in_eng set to photeng_high\n",
    "\n",
    "highengphot_tflist.at_val(\n",
    "    '2D_in_eng', \n",
    "    (photeng_high, highengphot_tflist.eng),\n",
    "    bounds_error=False, fill_value=1e-100\n",
    ")\n",
    "\n",
    "\n",
    "for tf in tqdm(highengphot_tflist):\n",
    "    tf.rebin(photeng_high)\n",
    "    \n",
    "    # Pad with zeros so that it becomes photeng x photeng. \n",
    "    tf._grid_vals = np.pad(tf.grid_vals, ((photeng_low.size, 0), (photeng_low.size, 0)), 'constant')\n",
    "    tf._N_underflow = np.pad(tf._N_underflow, (photeng_low.size, 0), 'constant')\n",
    "    tf._eng_underflow = np.pad(tf._eng_underflow, (photeng_low.size, 0), 'constant')\n",
    "    tf._in_eng = photeng\n",
    "    tf._eng = photeng\n",
    "    \n",
    "print(highengphot_tflist[0].eng)\n",
    "highengphot_tflist.eng = photeng\n",
    "highengphot_tflist.in_eng = photeng\n",
    "    \n",
    "# lowengphot_tflist.in_eng set to photeng_high\n",
    "lowengphot_tflist.at_val('in_eng', photeng_high, bounds_error=False, fill_value=0)\n",
    "for tf in lowengphot_tflist:\n",
    "    tf.rebin(photeng)\n",
    "    # Pad with zeros so that it becomes photeng x photeng. \n",
    "    tf._grid_vals = np.pad(tf.grid_vals, ((photeng_low.size,0), (0,0)), 'constant')\n",
    "    tf._N_underflow = np.pad(tf._N_underflow, (photeng_low.size, 0), 'constant')\n",
    "    tf._eng_underflow = np.pad(tf._eng_underflow, (photeng_low.size, 0), 'constant')\n",
    "    tf._in_eng = photeng\n",
    "    tf._eng = photeng\n",
    "lowengphot_tflist.eng = photeng\n",
    "lowengphot_tflist.in_eng = photeng\n",
    "    \n",
    "# lowengelec_tflist.in_eng set to photeng_high \n",
    "lowengelec_tflist.at_val('in_eng', photeng_high, bounds_error=False, fill_value=0)\n",
    "for tf in lowengelec_tflist:\n",
    "    tf.rebin(eleceng)\n",
    "    # Pad with zeros so that it becomes photeng x eleceng. \n",
    "    tf._grid_vals = np.pad(tf.grid_vals, ((photeng_low.size,0), (0,0)), 'constant')\n",
    "    tf._N_underflow = np.pad(tf._N_underflow, (photeng_low.size, 0), 'constant')\n",
    "    tf._eng_underflow = np.pad(tf._eng_underflow, (photeng_low.size, 0), 'constant')\n",
    "    tf._in_eng = photeng\n",
    "    tf._eng = eleceng\n",
    "lowengelec_tflist.eng = eleceng\n",
    "lowengelec_tflist.in_eng = photeng"
   ]
  },
  {
   "cell_type": "markdown",
   "metadata": {},
   "source": [
    "We need to decide on the redshift step to use. The default redshift step in the transfer functions is $d \\log (1+z) = 2 \\times 10^{-3}$, with the transfer function evaluated at (currently) 50 redshifts, from $1+z = 30$ to $1+z=4$, so that the transfer function with $d \\log(1+z) = 2 \\times 10^{-3}$ can be interpolated between them. However, we can coarsen the high energy photon transfer function by some factor $f$ by multiplying the transfer function matrix by itself multiple times, producing transfer functions for a redshift step of $d \\log (1+z) = f \\times 2 \\times 10^{-3}$. "
   ]
  },
  {
   "cell_type": "code",
   "execution_count": 65,
   "metadata": {},
   "outputs": [],
   "source": [
    "# The redshift step to use will be coarsen_factor * 0.002\n",
    "coarsen_factor = 1\n",
    "# Generate the redshifts at which we want to get an interpolated value for the transfer function. \n",
    "tf_rs_arr = highengphot_tflist.rs\n",
    "rs_list = np.exp(np.arange(np.log(tf_rs_arr[0]), \n",
    "                           np.log(tf_rs_arr[1]), \n",
    "                           -highengphot_tflist.dlnz*coarsen_factor)\n",
    "                )\n",
    "\n",
    "if coarsen_factor > 1:\n",
    "    lowengphot_tflist.coarsen(coarsen_factor, delete_tfs=False, coarsen_type='dep', prop_transfunclist=highengphot_tflist)\n",
    "    lowengelec_tflist.coarsen(coarsen_factor, delete_tfs=False, coarsen_type='dep', prop_transfunclist=highengphot_tflist)\n",
    "    highengphot_tflist.coarsen(coarsen_factor, delete_tfs=False)\n",
    "    \n",
    "lowengphot_tflist.at_val('rs',rs_list)\n",
    "lowengelec_tflist.at_val('rs',rs_list)\n",
    "highengphot_tflist.at_val('rs',rs_list)\n",
    "highengphot_tflist_before.at_val('rs', rs_list)\n",
    "\n",
    "phot_spec_init.rs = rs_list[0]"
   ]
  },
  {
   "cell_type": "code",
   "execution_count": 66,
   "metadata": {
    "scrolled": false
   },
   "outputs": [
    {
     "data": {
      "text/plain": [
       "[100.0, 10000000.0, 1e-20, 10000000000.0]"
      ]
     },
     "execution_count": 66,
     "metadata": {},
     "output_type": "execute_result"
    },
    {
     "data": {
      "image/png": "[encoded data removed]",
      "text/plain": [
       "<Figure size 720x720 with 1 Axes>"
      ]
     },
     "metadata": {},
     "output_type": "display_data"
    }
   ],
   "source": [
    "plt.figure()\n",
    "ax = plt.gca()\n",
    "\n",
    "eng_plot = 3e6\n",
    "rs_ind = 20\n",
    "\n",
    "a = highengphot_tflist_before[rs_ind]\n",
    "a.rebin(highengphot_tflist.eng)\n",
    "\n",
    "a.plot(ax, ind=eng_plot, indtype='in_eng')\n",
    "highengphot_tflist[rs_ind].plot(ax, ind=eng_plot, indtype='in_eng')\n",
    "\n",
    "\n",
    "ax.set_xscale('log')\n",
    "ax.set_yscale('log')\n",
    "\n",
    "plt.xlabel('Secondary Photon Energy [eV]')\n",
    "plt.ylabel('Number of Photons in Each Bin')\n",
    "plt.axis([1e2, 1e7, 1e-20, 1e10])"
   ]
  },
  {
   "cell_type": "code",
   "execution_count": 54,
   "metadata": {},
   "outputs": [
    {
     "name": "stdout",
     "output_type": "stream",
     "text": [
      "[1.00000000e+04 1.10975250e+04 1.23155060e+04 1.36671636e+04\n",
      " 1.51671689e+04 1.68318035e+04 1.86791360e+04 2.07292178e+04\n",
      " 2.30043012e+04 2.55290807e+04 2.83309610e+04 3.14403547e+04\n",
      " 3.48910121e+04 3.87203878e+04 4.29700470e+04 4.76861170e+04\n",
      " 5.29197874e+04 5.87278661e+04 6.51733960e+04 7.23263390e+04\n",
      " 8.02643352e+04 8.90735464e+04 9.88495905e+04 1.09698580e+05\n",
      " 1.21738273e+05 1.35099352e+05 1.49926843e+05 1.66381689e+05\n",
      " 1.84642494e+05 2.04907469e+05 2.27396575e+05 2.52353917e+05\n",
      " 2.80050389e+05 3.10786619e+05 3.44896226e+05 3.82749448e+05\n",
      " 4.24757155e+05 4.71375313e+05 5.23109931e+05 5.80522552e+05\n",
      " 6.44236351e+05 7.14942899e+05 7.93409667e+05 8.80488358e+05\n",
      " 9.77124154e+05 1.08436597e+06 1.20337784e+06 1.33545156e+06\n",
      " 1.48202071e+06 1.64467618e+06 1.82518349e+06 2.02550194e+06\n",
      " 2.24780583e+06 2.49450814e+06 2.76828663e+06 3.07211300e+06\n",
      " 3.40928507e+06 3.78346262e+06 4.19870708e+06 4.65952567e+06\n",
      " 5.17092024e+06 5.73844165e+06 6.36824994e+06 7.06718127e+06\n",
      " 7.84282206e+06 8.70359136e+06 9.65883224e+06 1.07189132e+07\n",
      " 1.18953407e+07 1.32008840e+07 1.46497140e+07 1.62575567e+07\n",
      " 1.80418641e+07 2.00220037e+07 2.22194686e+07 2.46581108e+07\n",
      " 2.73644000e+07 3.03677112e+07 3.37006433e+07 3.73993730e+07\n",
      " 4.15040476e+07 4.60592204e+07 5.11143348e+07 5.67242607e+07\n",
      " 6.29498899e+07 6.98587975e+07 7.75259749e+07 8.60346442e+07\n",
      " 9.54771611e+07 1.05956018e+08 1.17584955e+08 1.30490198e+08\n",
      " 1.44811823e+08 1.60705282e+08 1.78343088e+08 1.97916687e+08\n",
      " 2.19638537e+08 2.43744415e+08 2.70495973e+08 3.00183581e+08\n",
      " 3.33129479e+08 3.69691271e+08 4.10265811e+08 4.55293507e+08\n",
      " 5.05263107e+08 5.60716994e+08 6.22257084e+08 6.90551352e+08\n",
      " 7.66341087e+08 8.50448934e+08 9.43787828e+08 1.04737090e+09\n",
      " 1.16232247e+09 1.28989026e+09 1.43145894e+09 1.58856513e+09\n",
      " 1.76291412e+09 1.95639834e+09 2.17111795e+09 2.40940356e+09\n",
      " 2.67384162e+09 2.96730241e+09 3.29297126e+09 3.65438307e+09\n",
      " 4.05546074e+09 4.50055768e+09 4.99450512e+09 5.54266452e+09\n",
      " 6.15098579e+09 6.82607183e+09 7.57525026e+09 8.40665289e+09\n",
      " 9.32930403e+09 1.03532184e+10 1.14895100e+10 1.27505124e+10\n",
      " 1.41499130e+10 1.57029012e+10 1.74263339e+10 1.93389175e+10\n",
      " 2.14614120e+10 2.38168555e+10 2.64308149e+10 2.93316628e+10\n",
      " 3.25508860e+10 3.61234270e+10 4.00880633e+10 4.44878283e+10\n",
      " 4.93704785e+10 5.47890118e+10 6.08022426e+10 6.74754405e+10\n",
      " 7.48810386e+10 8.30994195e+10 9.22197882e+10 1.02341140e+11\n",
      " 1.13573336e+11 1.26038293e+11 1.39871310e+11 1.55222536e+11\n",
      " 1.72258597e+11 1.91164408e+11 2.12145178e+11 2.35428641e+11\n",
      " 2.61267523e+11 2.89942285e+11 3.21764175e+11 3.57078596e+11\n",
      " 3.96268864e+11 4.39760361e+11 4.88025158e+11 5.41587138e+11\n",
      " 6.01027678e+11 6.66991966e+11 7.40196000e+11 8.21434358e+11\n",
      " 9.11588830e+11 1.01163798e+12 1.12266777e+12 1.24588336e+12\n",
      " 1.38262217e+12 1.53436841e+12 1.70276917e+12 1.88965234e+12\n",
      " 2.09704640e+12 2.32720248e+12 2.58261876e+12 2.86606762e+12\n",
      " 3.18062569e+12 3.52970730e+12 3.91710149e+12 4.34701316e+12\n",
      " 4.82410870e+12 5.35356668e+12 5.94113398e+12 6.59318827e+12\n",
      " 7.31680714e+12 8.11984499e+12 9.01101825e+12 1.00000000e+13]\n"
     ]
    }
   ],
   "source": [
    "print(highengphot_tflist[0].in_eng)"
   ]
  },
  {
   "cell_type": "code",
   "execution_count": 55,
   "metadata": {},
   "outputs": [
    {
     "name": "stdout",
     "output_type": "stream",
     "text": [
      "N\n",
      "N\n",
      "N\n",
      "N\n",
      "N\n",
      "N\n",
      "N\n",
      "N\n",
      "N\n",
      "N\n",
      "N\n",
      "N\n",
      "N\n",
      "N\n",
      "N\n",
      "N\n",
      "N\n",
      "N\n",
      "N\n",
      "N\n"
     ]
    }
   ],
   "source": [
    "phot_spectra = spectools.evolve(phot_spec_init, highengphot_tflist, evolve_type='prop', save_steps=True)\n",
    "# lowengphot_spectra = spectools.evolve()\n",
    "# next_phot_spec = spectools.scatter(highengphot_tflist[1], next_phot_spec)\n",
    "# test2 = spectools.evolve(phot_spec_init, highengphot_tflist, evolve_type='prop', end_rs = rs_list[2])\n",
    "# next_low_phot_spec = spectools.scatter(lowengphot_tflist[0], phot_spec_init)\n",
    "# next_phot_spec = spectools.scatter(highengphot_tflist[2], next_phot_spec)\n",
    "# test3 = spectools.evolve(phot_spec_init, highengphot_tflist, evolve_type='prop', end_rs = rs_list[3])\n",
    "# next_low_phot_spec = spectools.scatter(lowengphot_tflist[0], phot_spec_init)"
   ]
  },
  {
   "cell_type": "code",
   "execution_count": 56,
   "metadata": {},
   "outputs": [],
   "source": [
    "file_spectra.rebin(phot_spectra.eng)\n",
    "file_spectra.switch_spec_type()"
   ]
  },
  {
   "cell_type": "code",
   "execution_count": 57,
   "metadata": {},
   "outputs": [
    {
     "data": {
      "text/plain": [
       "[100.0, 10000000000000.0, 1e-12, 1000.0]"
      ]
     },
     "execution_count": 57,
     "metadata": {},
     "output_type": "execute_result"
    },
    {
     "data": {
      "image/png": "[encoded data removed]",
      "text/plain": [
       "<Figure size 720x720 with 1 Axes>"
      ]
     },
     "metadata": {},
     "output_type": "display_data"
    }
   ],
   "source": [
    "rs_to_plot = rs_list[2]\n",
    "\n",
    "plt.figure()\n",
    "\n",
    "i_plot = 3\n",
    "\n",
    "ax = plt.gca()\n",
    "phot_spectra.plot(ax, ind=rs_list[i_plot], indtype='rs')\n",
    "file_spectra.plot(ax, ind=rs_list[i_plot], indtype='rs')\n",
    "# phot_spectra.plot(ax, ind=rs_list[2], indtype='rs')\n",
    "# file_spectra.plot(ax, ind=rs_list[2], indtype='rs')\n",
    "# file_spectra.plot(ax, ind=rs_list[3], indtype='rs')\n",
    "\n",
    "# file_spectra.plot(ax, ind=rs_list[4], indtype='rs')\n",
    "\n",
    "ax.set_xscale('log')\n",
    "ax.set_yscale('log')\n",
    "\n",
    "plt.xlabel('Secondary Photon Energy [eV]')\n",
    "plt.ylabel('Number of Photons in Each Bin')\n",
    "plt.axis([1e2, 1e13, 1e-12, 1e3])"
   ]
  },
  {
   "cell_type": "code",
   "execution_count": null,
   "metadata": {},
   "outputs": [],
   "source": [
    "for i,rs in enumerate(phot_spectra.rs):\n",
    "    print(phot_spectra[i].totN())\n",
    "    print(file_spectra[2*i].totN() - file_spectra[2*i].underflow['N'])"
   ]
  },
  {
   "cell_type": "code",
   "execution_count": null,
   "metadata": {
    "scrolled": false
   },
   "outputs": [],
   "source": [
    "utils.compare_arr([\n",
    "    phot_spectra[0].N, \n",
    "    phot_spectra[1].N, \n",
    "    file_spectra[2].N,\n",
    "    phot_spectra[2].N\n",
    "])"
   ]
  },
  {
   "cell_type": "code",
   "execution_count": null,
   "metadata": {
    "scrolled": false
   },
   "outputs": [],
   "source": [
    "print(file_spectra.rs[0:10])\n",
    "print(phot_spectra.rs[0:10])"
   ]
  },
  {
   "cell_type": "code",
   "execution_count": null,
   "metadata": {},
   "outputs": [],
   "source": [
    "print(file_spectra.eng)\n",
    "print(phot_spectra.eng)"
   ]
  },
  {
   "cell_type": "code",
   "execution_count": null,
   "metadata": {},
   "outputs": [],
   "source": []
  }
 ],
 "metadata": {
  "kernelspec": {
   "display_name": "Python [default]",
   "language": "python",
   "name": "python3"
  },
  "language_info": {
   "codemirror_mode": {
    "name": "ipython",
    "version": 3
   },
   "file_extension": ".py",
   "mimetype": "text/x-python",
   "name": "python",
   "nbconvert_exporter": "python",
   "pygments_lexer": "ipython3",
   "version": "3.6.5"
  }
 },
 "nbformat": 4,
 "nbformat_minor": 2
}
