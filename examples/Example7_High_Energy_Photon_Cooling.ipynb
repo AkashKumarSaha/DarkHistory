{
 "cells": [
  {
   "cell_type": "markdown",
   "metadata": {},
   "source": [
    "# High Energy Photon Cooling"
   ]
  },
  {
   "cell_type": "markdown",
   "metadata": {},
   "source": [
    "In this notebook, we demonstrate how the high energy photon cooling works and run some cross checks. "
   ]
  },
  {
   "cell_type": "markdown",
   "metadata": {},
   "source": [
    "## Initialization"
   ]
  },
  {
   "cell_type": "code",
   "execution_count": 1,
   "metadata": {},
   "outputs": [],
   "source": [
    "%load_ext autoreload\n",
    "import sys\n",
    "sys.path.append(\"..\")"
   ]
  },
  {
   "cell_type": "code",
   "execution_count": 2,
   "metadata": {},
   "outputs": [],
   "source": [
    "%autoreload\n",
    "\n",
    "import matplotlib\n",
    "matplotlib.rc_file('matplotlibrc')\n",
    "import matplotlib.pyplot as plt\n",
    "\n",
    "%matplotlib inline\n",
    "\n",
    "matplotlib.rcParams['figure.figsize'] = [10,10]\n",
    "\n",
    "\n",
    "from astropy.io import fits\n",
    "\n",
    "import numpy as np\n",
    "import pickle\n",
    "import darkhistory.physics as phys\n",
    "import darkhistory.utilities as utils\n",
    "import darkhistory.spec.spectools as spectools\n",
    "import darkhistory.spec.transferfunction as tf\n",
    "from darkhistory.spec.spectrum import Spectrum\n",
    "from darkhistory.spec.spectra import Spectra\n",
    "import darkhistory.history.tla as tla\n",
    "\n",
    "from darkhistory.electrons.ics.ics_spectrum import ics_spec\n",
    "from darkhistory.electrons.ics.ics_engloss_spectrum import engloss_spec\n",
    "from darkhistory.electrons.ics.ics_cooling import get_ics_cooling_tf\n",
    "\n",
    "np.set_printoptions(threshold=np.nan)"
   ]
  },
  {
   "cell_type": "markdown",
   "metadata": {},
   "source": [
    "## Load Reference Results"
   ]
  },
  {
   "cell_type": "code",
   "execution_count": 3,
   "metadata": {},
   "outputs": [],
   "source": [
    "eng_ind = 299\n",
    "\n",
    "# Check that this matches with the input \n",
    "\n",
    "file_name = {99: \"/Users/hongwan/Dropbox (MIT)/Photon Deposition/tf_z_3.100E+01_nstep_2049_logE_5.328E+00_xe_1.000E-04.fits\",\n",
    "            199: \"/Users/hongwan/Dropbox (MIT)/Photon Deposition/tf_z_3.100E+01_nstep_2049_logE_7.183E+00_xe_1.000E-04.fits\",\n",
    "            298: \"/Users/hongwan/Dropbox (MIT)/Photon Deposition/tf_z_3.100E+01_nstep_2049_logE_9.020E+00_xe_1.000E-04.fits\",\n",
    "            299: \"/Users/hongwan/Dropbox (MIT)/Photon Deposition/tf_z_3.100E+01_nstep_2049_logE_9.038E+00_xe_1.000E-04.fits\", \n",
    "            399: \"/Users/hongwan/Dropbox (MIT)/Photon Deposition/tf_z_3.100E+01_nstep_2049_logE_1.089E+01_xe_1.000E-04.fits\",\n",
    "            499: \"/Users/hongwan/Dropbox (MIT)/Photon Deposition/tf_z_3.100E+01_nstep_2049_logE_1.275E+01_xe_1.000E-04.fits\",\n",
    "            2993: \"/Users/hongwan/Dropbox (MIT)/Photon Deposition/tf_z_3.100E+01_nstep_18_logE_9.038E+00_xe_1.000E-04.fits\"}\n",
    "\n",
    "file = fits.open(file_name[eng_ind])\n",
    "\n",
    "file_eng = file[1].data['energy'][0,:]\n",
    "file_rs = file[1].data['redshift'][0,:]\n",
    "file_photonspectrum = file[1].data['photonspectrum'][0,:,:]"
   ]
  },
  {
   "cell_type": "code",
   "execution_count": 4,
   "metadata": {},
   "outputs": [],
   "source": [
    "file_spectra = Spectra([Spectrum(file_eng, photspec, rs=rs) \n",
    "                   for photspec,rs in zip(file_photonspectrum, file_rs)])"
   ]
  },
  {
   "cell_type": "markdown",
   "metadata": {},
   "source": [
    "## Photon Cooling"
   ]
  },
  {
   "cell_type": "markdown",
   "metadata": {},
   "source": [
    "Now we cool the photons that result from the high energy photon injection. Photons below 3.1 keV are considered low energy photons. For high energy photons, greater than 3.1 keV, we have transfer functions (a function of *both* injected photon energy and redshift, so they are given as a `TransFuncList`), into high energy photons, low energy photons and low energy electrons. Let's load them first."
   ]
  },
  {
   "cell_type": "code",
   "execution_count": 5,
   "metadata": {},
   "outputs": [],
   "source": [
    "user = 'hongwan'\n",
    "\n",
    "highengphot_tflist = pickle.load(open(\"/Users/\"+user+\"/Dropbox (MIT)/Photon Deposition/tfunclist_photspec.raw\", \"rb\"))\n",
    "lowengphot_tflist  = pickle.load(open(\"/Users/\"+user+\"/Dropbox (MIT)/Photon Deposition/tfunclist_lowengphotspec.raw\", \"rb\"))\n",
    "lowengelec_tflist  = pickle.load(open(\"/Users/\"+user+\"/Dropbox (MIT)/Photon Deposition/tfunclist_lowengelecspec.raw\", \"rb\"))\n",
    "highengphot_tflist_before = pickle.load(open(\"/Users/\"+user+\"/Dropbox (MIT)/Photon Deposition/tfunclist_photspec.raw\", \"rb\"))\n",
    "\n",
    "# This is a list of mwimp values used to generate highengphot_tflist\n",
    "mwimp_arr = np.array(highengphot_tflist.in_eng)\n",
    "\n",
    "# This shouldn't be necessary. There is one negative value somewhere. Check.\n",
    "for tf in highengphot_tflist:\n",
    "    tf.grid_vals[np.where(tf.grid_vals < 0)] = 0\n",
    "for tf in lowengphot_tflist:\n",
    "    tf.grid_vals[np.where(tf.grid_vals < 0)] = 0"
   ]
  },
  {
   "cell_type": "markdown",
   "metadata": {
    "collapsed": true
   },
   "source": [
    "## Inputs"
   ]
  },
  {
   "cell_type": "code",
   "execution_count": 6,
   "metadata": {},
   "outputs": [],
   "source": [
    "eleceng = np.logspace( 1, 13, 500)\n",
    "# photeng = np.logspace(-4, 13, 500)\n",
    "photeng = highengphot_tflist.in_eng[1::10]\n",
    "phot_spec_init = spectools.rebin_N_arr(np.array([2]), \n",
    "                                      np.array([mwimp_arr[eng_ind]]),\n",
    "                                      photeng)\n"
   ]
  },
  {
   "cell_type": "markdown",
   "metadata": {},
   "source": [
    "We now need to construct a transfer function list for *both* high- and low-energy photons. It needs to be a square matrix (so that we can take powers of the matrix for coarsening later), with dimensions given by the length of `photeng`."
   ]
  },
  {
   "cell_type": "code",
   "execution_count": 7,
   "metadata": {},
   "outputs": [
    {
     "name": "stderr",
     "output_type": "stream",
     "text": [
      "../darkhistory/spec/spectra.py:852: RuntimeWarning: The new abscissa lies below the old one: only bins that lie within the new abscissa will be rebinned, bins above the abscissa will be discarded.\n",
      "  warnings.warn(\"The new abscissa lies below the old one: only bins that lie within the new abscissa will be rebinned, bins above the abscissa will be discarded.\", RuntimeWarning)\n"
     ]
    }
   ],
   "source": [
    "#Split photeng into high and low energy. \n",
    "photeng_high = photeng[photeng > 3070]\n",
    "photeng_low  = photeng[photeng <= 3070]\n",
    "\n",
    "# Split eleceng into high and low energy. \n",
    "eleceng_high = eleceng[eleceng > 3500]\n",
    "eleceng_low  = eleceng[eleceng <= 3500]\n",
    "\n",
    "# highengphot_tflist.in_eng set to photeng_high\n",
    "highengphot_tflist.at_val('in_eng', photeng_high, bounds_error=False, fill_value=0)\n",
    "for tf in highengphot_tflist:\n",
    "    tf.rebin(photeng_high)\n",
    "    # Pad with zeros so that it becomes photeng x photeng. \n",
    "    tf._grid_vals = np.pad(tf.grid_vals, ((photeng_low.size, 0), (photeng_low.size, 0)), 'constant')\n",
    "    tf._N_underflow = np.pad(tf._N_underflow, (photeng_low.size, 0), 'constant')\n",
    "    tf._eng_underflow = np.pad(tf._eng_underflow, (photeng_low.size, 0), 'constant')\n",
    "    tf._in_eng = photeng\n",
    "    tf._eng = photeng\n",
    "highengphot_tflist.eng = photeng\n",
    "highengphot_tflist.in_eng = photeng\n",
    "    \n",
    "# lowengphot_tflist.in_eng set to photeng_high\n",
    "lowengphot_tflist.at_val('in_eng', photeng_high, bounds_error=False, fill_value=0)\n",
    "for tf in lowengphot_tflist:\n",
    "    tf.rebin(photeng)\n",
    "    # Pad with zeros so that it becomes photeng x photeng. \n",
    "    tf._grid_vals = np.pad(tf.grid_vals, ((photeng_low.size,0), (0,0)), 'constant')\n",
    "    tf._N_underflow = np.pad(tf._N_underflow, (photeng_low.size, 0), 'constant')\n",
    "    tf._eng_underflow = np.pad(tf._eng_underflow, (photeng_low.size, 0), 'constant')\n",
    "    tf._in_eng = photeng\n",
    "    tf._eng = photeng\n",
    "lowengphot_tflist.eng = photeng\n",
    "lowengphot_tflist.in_eng = photeng\n",
    "    \n",
    "# lowengelec_tflist.in_eng set to photeng_high \n",
    "lowengelec_tflist.at_val('in_eng', photeng_high, bounds_error=False, fill_value=0)\n",
    "for tf in lowengelec_tflist:\n",
    "    tf.rebin(eleceng)\n",
    "    # Pad with zeros so that it becomes photeng x eleceng. \n",
    "    tf._grid_vals = np.pad(tf.grid_vals, ((photeng_low.size,0), (0,0)), 'constant')\n",
    "    tf._N_underflow = np.pad(tf._N_underflow, (photeng_low.size, 0), 'constant')\n",
    "    tf._eng_underflow = np.pad(tf._eng_underflow, (photeng_low.size, 0), 'constant')\n",
    "    tf._in_eng = photeng\n",
    "    tf._eng = eleceng\n",
    "lowengelec_tflist.eng = eleceng\n",
    "lowengelec_tflist.in_eng = photeng"
   ]
  },
  {
   "cell_type": "markdown",
   "metadata": {},
   "source": [
    "We need to decide on the redshift step to use. The default redshift step in the transfer functions is $d \\log (1+z) = 2 \\times 10^{-3}$, with the transfer function evaluated at (currently) 50 redshifts, from $1+z = 30$ to $1+z=4$, so that the transfer function with $d \\log(1+z) = 2 \\times 10^{-3}$ can be interpolated between them. However, we can coarsen the high energy photon transfer function by some factor $f$ by multiplying the transfer function matrix by itself multiple times, producing transfer functions for a redshift step of $d \\log (1+z) = f \\times 2 \\times 10^{-3}$. "
   ]
  },
  {
   "cell_type": "code",
   "execution_count": 8,
   "metadata": {},
   "outputs": [],
   "source": [
    "# The redshift step to use will be coarsen_factor * 0.002\n",
    "coarsen_factor = 5\n",
    "# Generate the redshifts at which we want to get an interpolated value for the transfer function. \n",
    "tf_rs_arr = highengphot_tflist.rs\n",
    "rs_list = np.exp(np.arange(np.log(tf_rs_arr[0]), \n",
    "                           np.log(tf_rs_arr[-1]), \n",
    "                           -highengphot_tflist.dlnz*coarsen_factor)\n",
    "                )\n",
    "\n",
    "if coarsen_factor > 1:\n",
    "    lowengphot_tflist.coarsen(coarsen_factor, delete_tfs=False, coarsen_type='dep', prop_transfunclist=highengphot_tflist)\n",
    "    lowengelec_tflist.coarsen(coarsen_factor, delete_tfs=False, coarsen_type='dep', prop_transfunclist=highengphot_tflist)\n",
    "    highengphot_tflist.coarsen(coarsen_factor, delete_tfs=False)\n",
    "    \n",
    "lowengphot_tflist.at_val('rs',rs_list)\n",
    "lowengelec_tflist.at_val('rs',rs_list)\n",
    "highengphot_tflist.at_val('rs',rs_list)\n",
    "\n",
    "phot_spec_init.rs = rs_list[0]"
   ]
  },
  {
   "cell_type": "code",
   "execution_count": 9,
   "metadata": {},
   "outputs": [],
   "source": [
    "highengphot_tflist.transpose()\n",
    "highengphot_tflist_before.transpose()\n",
    "lowengphot_tflist.transpose()\n",
    "lowengelec_tflist.transpose()"
   ]
  },
  {
   "cell_type": "code",
   "execution_count": 10,
   "metadata": {
    "scrolled": false
   },
   "outputs": [
    {
     "name": "stdout",
     "output_type": "stream",
     "text": [
      "43230.36595692129\n",
      "2405165052640.81\n",
      "2405165052640.81\n",
      "2405165052640.81\n",
      "2405165052640.81\n",
      "1.1776804651706926e+21\n"
     ]
    },
    {
     "data": {
      "text/plain": [
       "Text(0,0.5,'Number of Photons in Each Bin')"
      ]
     },
     "execution_count": 10,
     "metadata": {},
     "output_type": "execute_result"
    },
    {
     "data": {
      "image/png": "[encoded data removed]",
      "text/plain": [
       "<Figure size 720x720 with 1 Axes>"
      ]
     },
     "metadata": {},
     "output_type": "display_data"
    }
   ],
   "source": [
    "plt.figure()\n",
    "ax = plt.gca()\n",
    "\n",
    "i = 20\n",
    "j = 30\n",
    "\n",
    "print(highengphot_tflist[i][j].totN())\n",
    "\n",
    "highengphot_tflist[i].switch_spec_type()\n",
    "highengphot_tflist_before[i].switch_spec_type()\n",
    "\n",
    "print(highengphot_tflist[i][j].totN())\n",
    "\n",
    "a = highengphot_tflist[i]\n",
    "print(a[j].totN())\n",
    "# utils.compare_arr([a[j].eng, a[j].N])\n",
    "a.rebin(highengphot_tflist.eng)\n",
    "# utils.compare_arr([a[j].eng, a[j].N])\n",
    "print(a[j].totN())\n",
    "\n",
    "a.plot(ax, ind=1.16e9, indtype='in_eng')\n",
    "highengphot_tflist_before[i].plot(ax, ind=1.16e9, indtype='in_eng')\n",
    "\n",
    "print(highengphot_tflist[i][j].totN())\n",
    "\n",
    "highengphot_tflist[i].switch_spec_type()\n",
    "highengphot_tflist_before[i].switch_spec_type()\n",
    "\n",
    "print(highengphot_tflist[i][j].totN())\n",
    "\n",
    "ax.set_xscale('log')\n",
    "ax.set_yscale('log')\n",
    "\n",
    "plt.xlabel('Secondary Photon Energy [eV]')\n",
    "plt.ylabel('Number of Photons in Each Bin')\n",
    "# plt.axis([1e-4, 1e13, 1e8, 1e60])"
   ]
  },
  {
   "cell_type": "code",
   "execution_count": 11,
   "metadata": {},
   "outputs": [],
   "source": [
    "phot_spectra = spectools.evolve(phot_spec_init, highengphot_tflist, evolve_type='prop', save_steps=True)\n",
    "\n",
    "# next_phot_spec = spectools.scatter(highengphot_tflist[1], next_phot_spec)\n",
    "# test2 = spectools.evolve(phot_spec_init, highengphot_tflist, evolve_type='prop', end_rs = rs_list[2])\n",
    "# next_low_phot_spec = spectools.scatter(lowengphot_tflist[0], phot_spec_init)\n",
    "# next_phot_spec = spectools.scatter(highengphot_tflist[2], next_phot_spec)\n",
    "# test3 = spectools.evolve(phot_spec_init, highengphot_tflist, evolve_type='prop', end_rs = rs_list[3])\n",
    "# next_low_phot_spec = spectools.scatter(lowengphot_tflist[0], phot_spec_init)"
   ]
  },
  {
   "cell_type": "code",
   "execution_count": 12,
   "metadata": {},
   "outputs": [
    {
     "name": "stdout",
     "output_type": "stream",
     "text": [
      "0.0002090884246763973\n",
      "0.0002090884246763973\n",
      "dNdE\n",
      "dNdE\n"
     ]
    }
   ],
   "source": [
    "print(phot_spectra[1].totN())\n",
    "# phot_spectra.rebin(file_eng)\n",
    "file_spectra.rebin(photeng)\n",
    "print(phot_spectra[1].totN())\n",
    "print(phot_spectra.spec_type)\n",
    "print(file_spectra.spec_type)"
   ]
  },
  {
   "cell_type": "code",
   "execution_count": 13,
   "metadata": {},
   "outputs": [
    {
     "data": {
      "text/plain": [
       "[0.0001, 10000000000000.0, 1e-10, 1000.0]"
      ]
     },
     "execution_count": 13,
     "metadata": {},
     "output_type": "execute_result"
    },
    {
     "data": {
      "image/png": "[encoded data removed]",
      "text/plain": [
       "<Figure size 720x720 with 1 Axes>"
      ]
     },
     "metadata": {},
     "output_type": "display_data"
    }
   ],
   "source": [
    "rs_to_plot = 30.691544846224218\n",
    "\n",
    "plt.figure()\n",
    "\n",
    "phot_spectra.switch_spec_type()\n",
    "file_spectra.switch_spec_type()\n",
    "\n",
    "ax = plt.gca()\n",
    "phot_spectra.plot(ax, ind=rs_to_plot, indtype='rs')\n",
    "file_spectra.plot(ax, ind=rs_to_plot, indtype='rs')\n",
    "\n",
    "ax.set_xscale('log')\n",
    "ax.set_yscale('log')\n",
    "\n",
    "plt.xlabel('Secondary Photon Energy [eV]')\n",
    "plt.ylabel('Number of Photons in Each Bin')\n",
    "plt.axis([1e-4, 1e13, 1e-10, 1e3])"
   ]
  },
  {
   "cell_type": "code",
   "execution_count": null,
   "metadata": {},
   "outputs": [],
   "source": []
  }
 ],
 "metadata": {
  "kernelspec": {
   "display_name": "Python 3",
   "language": "python",
   "name": "python3"
  },
  "language_info": {
   "codemirror_mode": {
    "name": "ipython",
    "version": 3
   },
   "file_extension": ".py",
   "mimetype": "text/x-python",
   "name": "python",
   "nbconvert_exporter": "python",
   "pygments_lexer": "ipython3",
   "version": "3.6.5"
  }
 },
 "nbformat": 4,
 "nbformat_minor": 2
}
