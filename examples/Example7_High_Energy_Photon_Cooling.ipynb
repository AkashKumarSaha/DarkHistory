{
 "cells": [
  {
   "cell_type": "markdown",
   "metadata": {},
   "source": [
    "# High Energy Photon Cooling"
   ]
  },
  {
   "cell_type": "markdown",
   "metadata": {},
   "source": [
    "In this notebook, we demonstrate how the high energy photon cooling works and run some cross checks. "
   ]
  },
  {
   "cell_type": "markdown",
   "metadata": {},
   "source": [
    "## Initialization"
   ]
  },
  {
   "cell_type": "code",
   "execution_count": 1,
   "metadata": {},
   "outputs": [],
   "source": [
    "%load_ext autoreload\n",
    "import sys\n",
    "sys.path.append(\"..\")"
   ]
  },
  {
   "cell_type": "code",
   "execution_count": 2,
   "metadata": {},
   "outputs": [],
   "source": [
    "%autoreload\n",
    "\n",
    "import matplotlib\n",
    "matplotlib.rc_file('matplotlibrc')\n",
    "import matplotlib.pyplot as plt\n",
    "\n",
    "%matplotlib inline\n",
    "\n",
    "matplotlib.rcParams['figure.figsize'] = [10,10]\n",
    "\n",
    "\n",
    "from astropy.io import fits\n",
    "\n",
    "import numpy as np\n",
    "import copy\n",
    "import pickle\n",
    "\n",
    "import darkhistory.physics as phys\n",
    "import darkhistory.utilities as utils\n",
    "import darkhistory.spec.spectools as spectools\n",
    "import darkhistory.spec.transferfunction as tf\n",
    "from darkhistory.spec.spectrum import Spectrum\n",
    "from darkhistory.spec.spectra import Spectra\n",
    "import darkhistory.history.tla as tla\n",
    "\n",
    "from tqdm import tqdm_notebook as tqdm\n",
    "\n",
    "from darkhistory.electrons.ics.ics_spectrum import ics_spec\n",
    "from darkhistory.electrons.ics.ics_engloss_spectrum import engloss_spec\n",
    "from darkhistory.electrons.ics.ics_cooling import get_ics_cooling_tf\n",
    "\n",
    "np.set_printoptions(threshold=np.nan)"
   ]
  },
  {
   "cell_type": "markdown",
   "metadata": {},
   "source": [
    "## Load Reference Results"
   ]
  },
  {
   "cell_type": "code",
   "execution_count": 3,
   "metadata": {},
   "outputs": [],
   "source": [
    "eng_ind = 399\n",
    "\n",
    "# Check that this matches with the input \n",
    "\n",
    "file_name = {99: \"/Users/hongwan/Dropbox (MIT)/Photon Deposition/tf_z_3.100E+01_nstep_2049_logE_5.328E+00_xe_1.000E-04.fits\",\n",
    "            199: \"/Users/hongwan/Dropbox (MIT)/Photon Deposition/tf_z_3.100E+01_nstep_2049_logE_7.183E+00_xe_1.000E-04.fits\",\n",
    "            298: \"/Users/hongwan/Dropbox (MIT)/Photon Deposition/tf_z_3.100E+01_nstep_2049_logE_9.020E+00_xe_1.000E-04.fits\",\n",
    "            299: \"/Users/hongwan/Dropbox (MIT)/Photon Deposition/tf_z_3.100E+01_nstep_2049_logE_9.038E+00_xe_1.000E-04.fits\", \n",
    "            399: \"/Users/hongwan/Dropbox (MIT)/Photon Deposition/tf_z_3.100E+01_nstep_2049_logE_1.089E+01_xe_1.000E-04.fits\",\n",
    "            499: \"/Users/hongwan/Dropbox (MIT)/Photon Deposition/tf_z_3.100E+01_nstep_2049_logE_1.275E+01_xe_1.000E-04.fits\",\n",
    "            2993: \"/Users/hongwan/Dropbox (MIT)/Photon Deposition/tf_z_3.100E+01_nstep_18_logE_9.038E+00_xe_1.000E-04.fits\"}\n",
    "\n",
    "file = fits.open(file_name[eng_ind])\n",
    "\n",
    "file_eng = file[1].data['energy'][0,:]\n",
    "file_rs = file[1].data['redshift'][0,:]\n",
    "file_photonspectrum = file[1].data['photonspectrum'][0,:,:]\n",
    "file_lowengphot = file[1].data['lowengphot'][0,:,:]\n",
    "file_lowengelec = file[1].data['lowengelec'][0,:,:]"
   ]
  },
  {
   "cell_type": "code",
   "execution_count": 4,
   "metadata": {},
   "outputs": [],
   "source": [
    "file_highengphot_spectra = Spectra([Spectrum(file_eng, photspec, rs=rs) \n",
    "                   for photspec,rs in zip(file_photonspectrum, file_rs)])\n",
    "\n",
    "file_lowengphot_spectra = Spectra([Spectrum(file_eng, photspec, rs=rs) \n",
    "                   for photspec,rs in zip(file_lowengphot, file_rs)])\n",
    "\n",
    "file_lowengelec_spectra = Spectra([Spectrum(file_eng, elecspec, rs=rs) \n",
    "                   for elecspec,rs in zip(file_lowengelec, file_rs)])"
   ]
  },
  {
   "cell_type": "markdown",
   "metadata": {},
   "source": [
    "## Photon Cooling"
   ]
  },
  {
   "cell_type": "markdown",
   "metadata": {},
   "source": [
    "Now we cool the photons that result from the high energy photon injection. Photons below 3.1 keV are considered low energy photons. For high energy photons, greater than 3.1 keV, we have transfer functions (a function of *both* injected photon energy and redshift, so they are given as a `TransFuncList`), into high energy photons, low energy photons and low energy electrons. Let's load them first."
   ]
  },
  {
   "cell_type": "code",
   "execution_count": 5,
   "metadata": {},
   "outputs": [],
   "source": [
    "user = 'hongwan'\n",
    "\n",
    "highengphot_tflist = pickle.load(open(\"/Users/\"+user+\"/Dropbox (MIT)/Photon Deposition/tfunclist_photspec.raw\", \"rb\"))\n",
    "lowengphot_tflist  = pickle.load(open(\"/Users/\"+user+\"/Dropbox (MIT)/Photon Deposition/tfunclist_lowengphotspec.raw\", \"rb\"))\n",
    "lowengelec_tflist  = pickle.load(open(\"/Users/\"+user+\"/Dropbox (MIT)/Photon Deposition/tfunclist_lowengelecspec.raw\", \"rb\"))\n",
    "highengphot_tflist_before = pickle.load(open(\"/Users/\"+user+\"/Dropbox (MIT)/Photon Deposition/tfunclist_photspec.raw\", \"rb\"))\n",
    "\n",
    "# Changes all of the tflists to TransFuncAtRedshift\n",
    "highengphot_tflist.transpose()\n",
    "highengphot_tflist_before.transpose()\n",
    "lowengphot_tflist.transpose()\n",
    "lowengelec_tflist.transpose()\n",
    "\n",
    "# This is a list of mwimp values used to generate highengphot_tflist\n",
    "mwimp_arr = np.array(highengphot_tflist.in_eng)\n",
    "\n",
    "# This shouldn't be necessary. There is one negative value somewhere. Check.\n",
    "for tf in highengphot_tflist:\n",
    "    tf.grid_vals[np.where(tf.grid_vals < 0)] = 1e-100\n",
    "for tf in highengphot_tflist_before:\n",
    "    tf.grid_vals[np.where(tf.grid_vals < 0)] = 1e-100\n",
    "for tf in lowengphot_tflist:\n",
    "    tf.grid_vals[np.where(tf.grid_vals < 0)] = 1e-100"
   ]
  },
  {
   "cell_type": "markdown",
   "metadata": {
    "collapsed": true
   },
   "source": [
    "## Inputs"
   ]
  },
  {
   "cell_type": "code",
   "execution_count": 6,
   "metadata": {
    "scrolled": false
   },
   "outputs": [],
   "source": [
    "eleceng = np.logspace( 1, 13, 500)\n",
    "# photeng = np.logspace(4, 13, 200)\n",
    "photeng = highengphot_tflist.in_eng\n",
    "step = np.log(photeng[1]) - np.log(photeng[0])\n",
    "test = np.exp(np.arange(np.log(photeng[0]), np.log(9.9e-5), -step))\n",
    "photeng = np.append(np.flipud(test[1:]), photeng)\n",
    "\n",
    "phot_spec_init = spectools.rebin_N_arr(np.array([2]), \n",
    "                                      np.array([mwimp_arr[eng_ind]]),\n",
    "                                      photeng)\n",
    "phot_spec_init.switch_spec_type()"
   ]
  },
  {
   "cell_type": "code",
   "execution_count": 7,
   "metadata": {},
   "outputs": [
    {
     "name": "stdout",
     "output_type": "stream",
     "text": [
      "883\n"
     ]
    }
   ],
   "source": [
    "print(photeng.size)"
   ]
  },
  {
   "cell_type": "markdown",
   "metadata": {},
   "source": [
    "We now need to construct a transfer function list for *both* high- and low-energy photons. It needs to be a square matrix (so that we can take powers of the matrix for coarsening later), with dimensions given by the length of `photeng`."
   ]
  },
  {
   "cell_type": "code",
   "execution_count": 8,
   "metadata": {},
   "outputs": [],
   "source": [
    "#Split photeng into high and low energy. \n",
    "photeng_high = photeng[photeng > 3070]\n",
    "photeng_low  = photeng[photeng <= 3070]\n",
    "\n",
    "# Split eleceng into high and low energy. \n",
    "eleceng_high = eleceng[eleceng > 3500]\n",
    "eleceng_low  = eleceng[eleceng <= 3500]\n",
    "\n",
    "\n",
    "# highengphot_tflist.in_eng set to photeng_high\n",
    "\n",
    "# highengphot_tflist.at_val(\n",
    "#     '2D_in_eng', \n",
    "#     (photeng_high, highengphot_tflist.eng),\n",
    "#     bounds_error=False, fill_value=1e-100\n",
    "# )\n",
    "\n",
    "highengphot_tflist.at_val('in_eng', photeng_high, bounds_error=False, fill_value=0)\n",
    "\n",
    "for tf in highengphot_tflist:\n",
    "    tf.rebin(photeng_high)\n",
    "    \n",
    "    # Pad with zeros so that it becomes photeng x photeng. \n",
    "    tf._grid_vals = np.pad(tf.grid_vals, ((photeng_low.size, 0), (photeng_low.size, 0)), 'constant')\n",
    "    tf._N_underflow = np.pad(tf._N_underflow, (photeng_low.size, 0), 'constant')\n",
    "    tf._eng_underflow = np.pad(tf._eng_underflow, (photeng_low.size, 0), 'constant')\n",
    "    tf._in_eng = photeng\n",
    "    tf._eng = photeng\n",
    "    tf._rs = tf.rs[0]*np.ones_like(photeng)\n",
    "    \n",
    "highengphot_tflist.eng = photeng\n",
    "highengphot_tflist.in_eng = photeng\n",
    "    \n",
    "# lowengphot_tflist.in_eng set to photeng_high\n",
    "lowengphot_tflist.at_val('in_eng', photeng_high, bounds_error=False, fill_value=0)\n",
    "for tf in lowengphot_tflist:\n",
    "    tf.rebin(photeng)\n",
    "    # Pad with zeros so that it becomes photeng x photeng. \n",
    "    tf._grid_vals = np.pad(tf.grid_vals, ((photeng_low.size,0), (0,0)), 'constant')\n",
    "    tf._N_underflow = np.pad(tf._N_underflow, (photeng_low.size, 0), 'constant')\n",
    "    tf._eng_underflow = np.pad(tf._eng_underflow, (photeng_low.size, 0), 'constant')\n",
    "    tf._in_eng = photeng\n",
    "    tf._eng = photeng\n",
    "    tf._rs = tf.rs[0]*np.ones_like(photeng)\n",
    "lowengphot_tflist.eng = photeng\n",
    "lowengphot_tflist.in_eng = photeng\n",
    "    \n",
    "# lowengelec_tflist.in_eng set to photeng_high \n",
    "lowengelec_tflist.at_val('in_eng', photeng_high, bounds_error=False, fill_value=0)\n",
    "for tf in lowengelec_tflist:\n",
    "    tf.rebin(eleceng)\n",
    "    # Pad with zeros so that it becomes photeng x eleceng. \n",
    "    tf._grid_vals = np.pad(tf.grid_vals, ((photeng_low.size,0), (0,0)), 'constant')\n",
    "    tf._N_underflow = np.pad(tf._N_underflow, (photeng_low.size, 0), 'constant')\n",
    "    tf._eng_underflow = np.pad(tf._eng_underflow, (photeng_low.size, 0), 'constant')\n",
    "    tf._in_eng = photeng\n",
    "    tf._eng = eleceng\n",
    "    tf._rs = tf.rs[0]*np.ones_like(photeng)\n",
    "\n",
    "lowengelec_tflist.eng = eleceng\n",
    "lowengelec_tflist.in_eng = photeng"
   ]
  },
  {
   "cell_type": "code",
   "execution_count": 9,
   "metadata": {},
   "outputs": [
    {
     "name": "stdout",
     "output_type": "stream",
     "text": [
      "(883,)\n",
      "50\n"
     ]
    }
   ],
   "source": [
    "print(lowengphot_tflist.in_eng.shape)\n",
    "print(len(lowengphot_tflist.tflist))"
   ]
  },
  {
   "cell_type": "markdown",
   "metadata": {},
   "source": [
    "We need to decide on the redshift step to use. The default redshift step in the transfer functions is $d \\log (1+z) = 2 \\times 10^{-3}$, with the transfer function evaluated at (currently) 50 redshifts, from $1+z = 30$ to $1+z=4$, so that the transfer function with $d \\log(1+z) = 2 \\times 10^{-3}$ can be interpolated between them. However, we can coarsen the high energy photon transfer function by some factor $f$ by multiplying the transfer function matrix by itself multiple times, producing transfer functions for a redshift step of $d \\log (1+z) = f \\times 2 \\times 10^{-3}$. "
   ]
  },
  {
   "cell_type": "code",
   "execution_count": 10,
   "metadata": {},
   "outputs": [
    {
     "name": "stdout",
     "output_type": "stream",
     "text": [
      "(883, 883)\n",
      "(883,)\n",
      "(883,)\n",
      "(883,)\n",
      "(883,)\n",
      "(883, 500)\n",
      "(883,)\n",
      "(500,)\n",
      "(883,)\n",
      "(883,)\n",
      "(883, 883)\n",
      "(883,)\n",
      "(883,)\n",
      "(883,)\n",
      "(883,)\n",
      "(500, 500)\n",
      "(500,)\n",
      "(500,)\n",
      "(500,)\n",
      "(500,)\n"
     ]
    }
   ],
   "source": [
    "# The redshift step to use will be coarsen_factor * 0.002\n",
    "coarsen_factor = 1\n",
    "# Generate the redshifts at which we want to get an interpolated value for the transfer function. \n",
    "tf_rs_arr = highengphot_tflist.rs\n",
    "rs_list = np.exp(np.arange(np.log(tf_rs_arr[0]), \n",
    "                           np.log(tf_rs_arr[1]), \n",
    "                           -highengphot_tflist.dlnz*coarsen_factor)\n",
    "                )\n",
    "\n",
    "if coarsen_factor > 1:\n",
    "    lowengphot_tflist.coarsen(coarsen_factor, delete_tfs=False, coarsen_type='dep', prop_transfunclist=highengphot_tflist)\n",
    "    lowengelec_tflist.coarsen(coarsen_factor, delete_tfs=False, coarsen_type='dep', prop_transfunclist=highengphot_tflist)\n",
    "    highengphot_tflist.coarsen(coarsen_factor, delete_tfs=False)\n",
    "    \n",
    "lowengphot_tflist.at_val('rs',rs_list)\n",
    "lowengelec_tflist.at_val('rs',rs_list)\n",
    "highengphot_tflist.at_val('rs',rs_list)\n",
    "highengphot_tflist_before.at_val('rs', rs_list)\n",
    "\n",
    "phot_spec_init.rs = rs_list[0]"
   ]
  },
  {
   "cell_type": "code",
   "execution_count": 12,
   "metadata": {
    "scrolled": false
   },
   "outputs": [
    {
     "data": {
      "text/plain": [
       "[100.0, 10000000.0, 1e-20, 10000000000.0]"
      ]
     },
     "execution_count": 12,
     "metadata": {},
     "output_type": "execute_result"
    },
    {
     "data": {
      "image/png": "[encoded data removed]",
      "text/plain": [
       "<Figure size 720x720 with 1 Axes>"
      ]
     },
     "metadata": {},
     "output_type": "display_data"
    }
   ],
   "source": [
    "plt.figure()\n",
    "ax = plt.gca()\n",
    "\n",
    "eng_plot = 3e6\n",
    "rs_ind = 20\n",
    "\n",
    "a = highengphot_tflist_before[rs_ind]\n",
    "a.rebin(highengphot_tflist.eng)\n",
    "\n",
    "a.plot(ax, ind=eng_plot, indtype='in_eng')\n",
    "highengphot_tflist[rs_ind].plot(ax, ind=eng_plot, indtype='in_eng')\n",
    "\n",
    "\n",
    "ax.set_xscale('log')\n",
    "ax.set_yscale('log')\n",
    "\n",
    "plt.xlabel('Secondary Photon Energy [eV]')\n",
    "plt.ylabel('Number of Photons in Each Bin')\n",
    "plt.axis([1e2, 1e7, 1e-20, 1e10])"
   ]
  },
  {
   "cell_type": "code",
   "execution_count": 13,
   "metadata": {},
   "outputs": [
    {
     "name": "stdout",
     "output_type": "stream",
     "text": [
      "[1.03448018e-04 1.08201332e-04 1.13173054e-04 1.18373222e-04\n",
      " 1.23812330e-04 1.29501360e-04 1.35451793e-04 1.41675642e-04\n",
      " 1.48185469e-04 1.54994415e-04 1.62116224e-04 1.69565272e-04\n",
      " 1.77356594e-04 1.85505919e-04 1.94029695e-04 2.02945129e-04\n",
      " 2.12270216e-04 2.22023780e-04 2.32225509e-04 2.42895995e-04\n",
      " 2.54056777e-04 2.65730384e-04 2.77940379e-04 2.90711408e-04\n",
      " 3.04069252e-04 3.18040872e-04 3.32654472e-04 3.47939549e-04\n",
      " 3.63926958e-04 3.80648969e-04 3.98139336e-04 4.16433365e-04\n",
      " 4.35567983e-04 4.55581813e-04 4.76515256e-04 4.98410565e-04\n",
      " 5.21311938e-04 5.45265601e-04 5.70319907e-04 5.96525428e-04\n",
      " 6.23935062e-04 6.52604136e-04 6.82590520e-04 7.13954743e-04\n",
      " 7.46760114e-04 7.81072853e-04 8.16962222e-04 8.54500664e-04\n",
      " 8.93763953e-04 9.34831344e-04 9.77785732e-04 1.02271382e-03\n",
      " 1.06970631e-03 1.11885804e-03 1.17026824e-03 1.22404067e-03\n",
      " 1.28028388e-03 1.33911140e-03 1.40064198e-03 1.46499981e-03\n",
      " 1.53231481e-03 1.60272285e-03 1.67636606e-03 1.75339309e-03\n",
      " 1.83395942e-03 1.91822767e-03 2.00636795e-03 2.09855817e-03\n",
      " 2.19498442e-03 2.29584135e-03 2.40133253e-03 2.51167090e-03\n",
      " 2.62707919e-03 2.74779035e-03 2.87404805e-03 3.00610714e-03\n",
      " 3.14423419e-03 3.28870801e-03 3.43982023e-03 3.59787588e-03\n",
      " 3.76319400e-03 3.93610829e-03 4.11696778e-03 4.30613755e-03\n",
      " 4.50399945e-03 4.71095287e-03 4.92741555e-03 5.15382443e-03\n",
      " 5.39063654e-03 5.63832987e-03 5.89740443e-03 6.16838314e-03\n",
      " 6.45181301e-03 6.74826615e-03 7.05834095e-03 7.38266332e-03\n",
      " 7.72188792e-03 8.07669948e-03 8.44781422e-03 8.83598123e-03\n",
      " 9.24198406e-03 9.66664224e-03 1.01108130e-02 1.05753928e-02\n",
      " 1.10613195e-02 1.15695740e-02 1.21011821e-02 1.26572171e-02\n",
      " 1.32388011e-02 1.38471083e-02 1.44833665e-02 1.51488599e-02\n",
      " 1.58449320e-02 1.65729878e-02 1.73344969e-02 1.81309964e-02\n",
      " 1.89640941e-02 1.98354717e-02 2.07468880e-02 2.17001828e-02\n",
      " 2.26972804e-02 2.37401934e-02 2.48310271e-02 2.59719833e-02\n",
      " 2.71653650e-02 2.84135812e-02 2.97191515e-02 3.10847111e-02\n",
      " 3.25130166e-02 3.40069511e-02 3.55695300e-02 3.72039076e-02\n",
      " 3.89133829e-02 4.07014066e-02 4.25715878e-02 4.45277016e-02\n",
      " 4.65736966e-02 4.87137025e-02 5.09520392e-02 5.32932248e-02\n",
      " 5.57419851e-02 5.83032630e-02 6.09822286e-02 6.37842895e-02\n",
      " 6.67151017e-02 6.97805813e-02 7.29869160e-02 7.63405780e-02\n",
      " 7.98483367e-02 8.35172728e-02 8.73547922e-02 9.13686410e-02\n",
      " 9.55669214e-02 9.99581077e-02 1.04551064e-01 1.09355061e-01\n",
      " 1.14379796e-01 1.19635411e-01 1.25132516e-01 1.30882207e-01\n",
      " 1.36896088e-01 1.43186301e-01 1.49765541e-01 1.56647089e-01\n",
      " 1.63844837e-01 1.71373312e-01 1.79247712e-01 1.87483931e-01\n",
      " 1.96098595e-01 2.05109092e-01 2.14533611e-01 2.24391175e-01\n",
      " 2.34701683e-01 2.45485946e-01 2.56765733e-01 2.68563813e-01\n",
      " 2.80904001e-01 2.93811206e-01 3.07311481e-01 3.21432078e-01\n",
      " 3.36201500e-01 3.51649559e-01 3.67807438e-01 3.84707752e-01\n",
      " 4.02384616e-01 4.20873710e-01 4.40212357e-01 4.60439591e-01\n",
      " 4.81596242e-01 5.03725017e-01 5.26870582e-01 5.51079659e-01\n",
      " 5.76401114e-01 6.02886059e-01 6.30587957e-01 6.59562723e-01\n",
      " 6.89868846e-01 7.21567499e-01 7.54722667e-01 7.89401276e-01\n",
      " 8.25673326e-01 8.63612033e-01 9.03293979e-01 9.44799263e-01\n",
      " 9.88211665e-01 1.03361882e+00 1.08111237e+00 1.13078820e+00\n",
      " 1.18274657e+00 1.23709237e+00 1.29393529e+00 1.35339008e+00\n",
      " 1.41557674e+00 1.48062081e+00 1.54865358e+00 1.61981237e+00\n",
      " 1.69424082e+00 1.77208917e+00 1.85351456e+00 1.93868135e+00\n",
      " 2.02776145e+00 2.12093468e+00 2.21838910e+00 2.32032144e+00\n",
      " 2.42693745e+00 2.53845234e+00 2.65509121e+00 2.77708949e+00\n",
      " 2.90469345e+00 3.03816066e+00 3.17776053e+00 3.32377484e+00\n",
      " 3.47649835e+00 3.63623931e+00 3.80332018e+00 3.97807822e+00\n",
      " 4.16086618e+00 4.35205303e+00 4.55202469e+00 4.76118481e+00\n",
      " 4.97995559e+00 5.20877863e+00 5.44811581e+00 5.69845025e+00\n",
      " 5.96028726e+00 6.23415538e+00 6.52060740e+00 6.82022155e+00\n",
      " 7.13360262e+00 7.46138318e+00 7.80422486e+00 8.16281971e+00\n",
      " 8.53789157e+00 8.93019753e+00 9.34052948e+00 9.76971570e+00\n",
      " 1.02186225e+01 1.06881561e+01 1.11792641e+01 1.16929380e+01\n",
      " 1.22302146e+01 1.27921784e+01 1.33799638e+01 1.39947572e+01\n",
      " 1.46377997e+01 1.53103892e+01 1.60138833e+01 1.67497022e+01\n",
      " 1.75193311e+01 1.83243236e+01 1.91663044e+01 2.00469733e+01\n",
      " 2.09681079e+01 2.19315675e+01 2.29392970e+01 2.39933304e+01\n",
      " 2.50957954e+01 2.62489173e+01 2.74550238e+01 2.87165495e+01\n",
      " 3.00360408e+01 3.14161612e+01 3.28596964e+01 3.43695604e+01\n",
      " 3.59488008e+01 3.76006054e+01 3.93283085e+01 4.11353975e+01\n",
      " 4.30255201e+01 4.50024916e+01 4.70703025e+01 4.92331270e+01\n",
      " 5.14953306e+01 5.38614798e+01 5.63363507e+01 5.89249390e+01\n",
      " 6.16324699e+01 6.44644086e+01 6.74264715e+01 7.05246376e+01\n",
      " 7.37651608e+01 7.71545822e+01 8.06997435e+01 8.44078007e+01\n",
      " 8.82862388e+01 9.23428865e+01 9.65859322e+01 1.01023941e+02\n",
      " 1.05665871e+02 1.10521092e+02 1.15599405e+02 1.20911060e+02\n",
      " 1.26466779e+02 1.32277777e+02 1.38355784e+02 1.44713068e+02\n",
      " 1.51362461e+02 1.58317386e+02 1.65591881e+02 1.73200631e+02\n",
      " 1.81158994e+02 1.89483035e+02 1.98189555e+02 2.07296129e+02\n",
      " 2.16821140e+02 2.26783813e+02 2.37204260e+02 2.48103513e+02\n",
      " 2.59503575e+02 2.71427455e+02 2.83899224e+02 2.96944056e+02\n",
      " 3.10588282e+02 3.24859444e+02 3.39786349e+02 3.55399128e+02\n",
      " 3.71729295e+02 3.88809814e+02 4.06675162e+02 4.25361402e+02\n",
      " 4.44906253e+02 4.65349166e+02 4.86731406e+02 5.09096136e+02\n",
      " 5.32488498e+02 5.56955711e+02 5.82547163e+02 6.09314512e+02\n",
      " 6.37311789e+02 6.66595508e+02 6.97224779e+02 7.29261428e+02\n",
      " 7.62770123e+02 7.97818503e+02 8.34477315e+02 8.72820555e+02\n",
      " 9.12925621e+02 9.54873467e+02 9.98748767e+02 1.04464009e+03\n",
      " 1.09264005e+03 1.14284557e+03 1.19535796e+03 1.25028324e+03\n",
      " 1.30773226e+03 1.36782101e+03 1.43067075e+03 1.49640837e+03\n",
      " 1.56516656e+03 1.63708410e+03 1.71230617e+03 1.79098460e+03\n",
      " 1.87327821e+03 1.95935312e+03 2.04938306e+03 2.14354978e+03\n",
      " 2.24204334e+03 2.34506256e+03 2.45281540e+03 2.56551935e+03\n",
      " 2.68340191e+03 2.80670104e+03 2.93566561e+03 3.07055596e+03\n",
      " 3.21164435e+03 3.35924883e+03 3.51367344e+03 3.67523670e+03\n",
      " 3.67612952e+03 3.84524915e+03 4.02219870e+03 4.20734528e+03\n",
      " 4.40107368e+03 4.60378720e+03 4.81590859e+03 5.03788108e+03\n",
      " 5.27016937e+03 5.51326073e+03 5.76766622e+03 6.03392182e+03\n",
      " 6.31258980e+03 6.60426003e+03 6.90955145e+03 7.22911360e+03\n",
      " 7.56362822e+03 7.91381094e+03 8.28041313e+03 8.28510952e+03\n",
      " 8.66936132e+03 9.07169160e+03 9.49297470e+03 9.93412938e+03\n",
      " 1.03961213e+04 1.08799656e+04 1.13867298e+04 1.19175364e+04\n",
      " 1.24735663e+04 1.30560622e+04 1.36663317e+04 1.43057515e+04\n",
      " 1.49757711e+04 1.56779174e+04 1.56951267e+04 1.64326223e+04\n",
      " 1.72056994e+04 1.80161592e+04 1.88659012e+04 1.97569299e+04\n",
      " 2.06913609e+04 2.16714275e+04 2.26994887e+04 2.37780369e+04\n",
      " 2.49097060e+04 2.60972811e+04 2.73437075e+04 2.73963293e+04\n",
      " 2.87096531e+04 3.00887051e+04 3.15370218e+04 3.30583510e+04\n",
      " 3.46566661e+04 3.63361817e+04 3.81013698e+04 3.99569781e+04\n",
      " 4.19080490e+04 4.20309110e+04 4.40943007e+04 4.62652816e+04\n",
      " 4.85500119e+04 5.09550471e+04 5.34873694e+04 5.61544188e+04\n",
      " 5.89641269e+04 5.92038429e+04 6.21870922e+04 6.53325851e+04\n",
      " 6.86501575e+04 7.21503211e+04 7.58443163e+04 7.62353212e+04\n",
      " 8.01717374e+04 8.43303009e+04 8.87251164e+04 9.33713038e+04\n",
      " 9.82850796e+04 9.89227745e+04 1.04181173e+05 1.09748824e+05\n",
      " 1.15646318e+05 1.21895797e+05 1.22846864e+05 1.29561099e+05\n",
      " 1.36685099e+05 1.44247247e+05 1.45544416e+05 1.53696675e+05\n",
      " 1.62362042e+05 1.71577175e+05 1.73346537e+05 1.83316663e+05\n",
      " 1.93934451e+05 1.96141517e+05 2.07661377e+05 2.19947589e+05\n",
      " 2.22700862e+05 2.36069138e+05 2.50348146e+05 2.53783189e+05\n",
      " 2.69365112e+05 2.86033955e+05 2.90320219e+05 3.08563632e+05\n",
      " 3.13453588e+05 3.33459027e+05 3.54914515e+05 3.61018060e+05\n",
      " 3.84615048e+05 3.91579517e+05 4.17581446e+05 4.25528898e+05\n",
      " 4.54235143e+05 4.63305125e+05 4.95056152e+05 5.05408239e+05\n",
      " 5.40591519e+05 5.52408246e+05 5.91465049e+05 6.04955272e+05\n",
      " 6.19025364e+05 6.63791232e+05 6.79856459e+05 7.29763249e+05\n",
      " 7.48109224e+05 7.67244599e+05 8.24792927e+05 8.46649104e+05\n",
      " 8.69446267e+05 9.36029551e+05 9.62073683e+05 9.89239925e+05\n",
      " 1.06652199e+06 1.09756465e+06 1.12994594e+06 1.21991512e+06\n",
      " 1.25692622e+06 1.29553494e+06 1.33581001e+06 1.44470994e+06\n",
      " 1.49075819e+06 1.53879619e+06 1.58890969e+06 1.72130479e+06\n",
      " 1.77862158e+06 1.83841798e+06 1.90080107e+06 1.96588251e+06\n",
      " 2.13377994e+06 2.20824833e+06 2.28594249e+06 2.36700194e+06\n",
      " 2.45157225e+06 2.53980528e+06 2.63185945e+06 2.86345036e+06\n",
      " 2.96884485e+06 3.07881102e+06 3.19354700e+06 3.31325951e+06\n",
      " 3.43816421e+06 3.56848611e+06 3.70445998e+06 4.03985664e+06\n",
      " 4.19564663e+06 4.35820487e+06 4.52782527e+06 4.70481449e+06\n",
      " 4.88949249e+06 5.08219315e+06 5.28326483e+06 5.49307102e+06\n",
      " 5.71199099e+06 5.94042048e+06 6.17877241e+06 6.75717675e+06\n",
      " 7.03055569e+06 7.31583178e+06 7.61352268e+06 7.92416855e+06\n",
      " 8.24833307e+06 8.58660444e+06 8.93959646e+06 9.30794962e+06\n",
      " 9.69233230e+06 1.00934419e+07 1.05120063e+07 1.09487849e+07\n",
      " 1.14045702e+07 1.18801892e+07 1.23765049e+07 1.28944177e+07\n",
      " 1.34348674e+07 1.39988346e+07 1.45873425e+07 1.52014588e+07\n",
      " 1.58422978e+07 1.65110222e+07 1.72088453e+07 1.79370331e+07\n",
      " 1.96961408e+07 2.05331676e+07 2.14066888e+07 2.23182957e+07\n",
      " 2.32696487e+07 2.42624806e+07 2.52986000e+07 2.63798941e+07\n",
      " 2.75083325e+07 2.86859707e+07 2.99149536e+07 3.11975200e+07\n",
      " 3.25360059e+07 3.39328495e+07 3.53905950e+07 3.69118978e+07\n",
      " 3.84995288e+07 4.01563799e+07 4.18854690e+07 4.36899457e+07\n",
      " 4.55730968e+07 4.75383524e+07 4.95892922e+07 5.17296519e+07\n",
      " 5.39633301e+07 5.62943955e+07 5.87270941e+07 6.12658569e+07\n",
      " 6.39153083e+07 6.66802741e+07 6.95657907e+07 7.25771140e+07\n",
      " 7.57197291e+07 7.89993600e+07 8.24219807e+07 8.59938253e+07\n",
      " 8.97213998e+07 9.36114939e+07 9.76711934e+07 1.01907893e+08\n",
      " 1.06329309e+08 1.10943496e+08 1.15758858e+08 1.20784166e+08\n",
      " 1.26028573e+08 1.31501633e+08 1.37213313e+08 1.43174019e+08\n",
      " 1.49394606e+08 1.55886406e+08 1.62661243e+08 1.69731458e+08\n",
      " 1.77109928e+08 1.84810093e+08 1.92845979e+08 2.01232223e+08\n",
      " 2.09984100e+08 2.19117551e+08 2.28649214e+08 2.38596448e+08\n",
      " 2.48977373e+08 2.59810898e+08 2.71116754e+08 2.82915537e+08\n",
      " 2.95228736e+08 3.08078779e+08 3.21489073e+08 3.35484044e+08\n",
      " 3.50089183e+08 3.65331094e+08 3.81237538e+08 3.97837488e+08\n",
      " 4.15161182e+08 4.33240173e+08 4.52107391e+08 4.71797203e+08\n",
      " 4.92345474e+08 5.13789630e+08 5.36168731e+08 5.59523541e+08\n",
      " 5.83896600e+08 6.09332301e+08 6.35876976e+08 6.63578974e+08\n",
      " 6.92488753e+08 7.22658972e+08 7.54144585e+08 7.87002942e+08\n",
      " 8.21293892e+08 8.57079896e+08 8.94426136e+08 9.33400638e+08\n",
      " 9.74074392e+08 1.01652148e+09 1.06081923e+09 1.10704831e+09\n",
      " 1.15529294e+09 1.20564099e+09 1.25818417e+09 1.31301819e+09\n",
      " 1.37024291e+09 1.42996258e+09 1.49228597e+09 1.55732660e+09\n",
      " 1.62520294e+09 1.69603862e+09 1.76996268e+09 1.84710975e+09\n",
      " 1.92762036e+09 2.01164116e+09 2.09932519e+09 2.19083216e+09\n",
      " 2.28632874e+09 2.38598889e+09 2.48999412e+09 2.59853389e+09\n",
      " 2.71180588e+09 2.83001643e+09 2.95338084e+09 3.08212383e+09\n",
      " 3.21647989e+09 3.35669374e+09 3.50302079e+09 3.65572755e+09\n",
      " 3.81509219e+09 3.98140497e+09 4.15496883e+09 4.33609991e+09\n",
      " 4.52512814e+09 4.72239782e+09 4.92826826e+09 5.14311446e+09\n",
      " 5.36732776e+09 5.60131653e+09 5.84550700e+09 6.10034394e+09\n",
      " 6.36629152e+09 6.64383417e+09 6.93347742e+09 7.23574883e+09\n",
      " 7.55119899e+09 7.88040247e+09 8.22395892e+09 8.58249409e+09\n",
      " 8.95666106e+09 9.34714135e+09 9.75464622e+09 1.01799179e+10\n",
      " 1.06237310e+10 1.10868940e+10 1.15702504e+10 1.20746807e+10\n",
      " 1.26011037e+10 1.31504782e+10 1.37238049e+10 1.43221281e+10\n",
      " 1.49465377e+10 1.55981709e+10 1.62782147e+10 1.69879077e+10\n",
      " 1.77285427e+10 1.85014687e+10 1.93080935e+10 2.01498863e+10\n",
      " 2.10283806e+10 2.19451763e+10 2.29019435e+10 2.39004248e+10\n",
      " 2.49424389e+10 2.60298839e+10 2.71647404e+10 2.83490756e+10\n",
      " 2.95850467e+10 3.08749049e+10 3.22209997e+10 3.36257830e+10\n",
      " 3.50918134e+10 3.66217614e+10 3.82184137e+10 3.98846785e+10\n",
      " 4.16235908e+10 4.34383181e+10 4.53321657e+10 4.73085833e+10\n",
      " 4.93711708e+10 5.15236852e+10 5.37700471e+10 5.61143482e+10\n",
      " 5.85608587e+10 6.11140346e+10 6.37785266e+10 6.65591879e+10\n",
      " 6.94610834e+10 7.24894988e+10 7.56499501e+10 7.89481942e+10\n",
      " 8.23902385e+10 8.59823526e+10 8.97310796e+10 9.36432474e+10\n",
      " 9.77259820e+10 1.01986720e+11 1.06433222e+11 1.11073587e+11\n",
      " 1.15916268e+11 1.20970085e+11 1.26244244e+11 1.31748351e+11\n",
      " 1.37492431e+11 1.43486948e+11 1.49742821e+11 1.56271443e+11\n",
      " 1.63084707e+11 1.70195023e+11 1.77615342e+11 1.85359180e+11\n",
      " 1.93440642e+11 2.01874447e+11 2.10675959e+11 2.19861208e+11\n",
      " 2.29446925e+11 2.39450570e+11 2.49890365e+11 2.60785325e+11\n",
      " 2.72155294e+11 2.84020984e+11 2.96404006e+11 3.09326916e+11\n",
      " 3.22813252e+11 3.36887580e+11 3.51575535e+11 3.66903871e+11\n",
      " 3.82900508e+11 3.99594583e+11 4.17016503e+11 4.35198003e+11\n",
      " 4.54172199e+11 4.73973651e+11 4.94638428e+11 5.16204170e+11\n",
      " 5.38710157e+11 5.62197384e+11 5.86708631e+11 6.12288545e+11\n",
      " 6.38983720e+11 6.66842778e+11 6.95916465e+11 7.26257736e+11\n",
      " 7.57921858e+11 7.90966506e+11 8.25451868e+11 8.61440760e+11\n",
      " 8.98998732e+11 9.38194197e+11 9.79098546e+11 1.02178629e+12\n",
      " 1.06633517e+12 1.11282634e+12 1.16134449e+12 1.21197798e+12\n",
      " 1.26481904e+12 1.31996392e+12 1.37751306e+12 1.43757129e+12\n",
      " 1.50024801e+12 1.56565737e+12 1.63391851e+12 1.70515578e+12\n",
      " 1.77949892e+12 1.85708335e+12 1.93805039e+12 2.02254751e+12\n",
      " 2.11072863e+12 2.20275436e+12 2.29879232e+12 2.39901745e+12\n",
      " 2.50361230e+12 2.61276738e+12 2.72668152e+12 2.84556221e+12\n",
      " 2.96962598e+12 3.09909882e+12 3.23421654e+12 3.37522527e+12\n",
      " 3.52238185e+12 3.67595431e+12 3.83622239e+12 4.00347800e+12\n",
      " 4.17802579e+12 4.36018370e+12 4.55028353e+12 4.74867152e+12\n",
      " 4.95570904e+12 5.17177320e+12 5.39725755e+12]\n"
     ]
    }
   ],
   "source": [
    "print(highengphot_tflist[0].in_eng)"
   ]
  },
  {
   "cell_type": "code",
   "execution_count": 14,
   "metadata": {},
   "outputs": [],
   "source": [
    "highengphot_spectra = spectools.evolve(phot_spec_init, highengphot_tflist, evolve_type='prop', save_steps=True)\n",
    "# lowengphot_spectra = spectools.evolve()\n",
    "# next_phot_spec = spectools.scatter(highengphot_tflist[1], next_phot_spec)\n",
    "# test2 = spectools.evolve(phot_spec_init, highengphot_tflist, evolve_type='prop', end_rs = rs_list[2])\n",
    "# next_low_phot_spec = spectools.scatter(lowengphot_tflist[0], phot_spec_init)\n",
    "# next_phot_spec = spectools.scatter(highengphot_tflist[2], next_phot_spec)\n",
    "# test3 = spectools.evolve(phot_spec_init, highengphot_tflist, evolve_type='prop', end_rs = rs_list[3])\n",
    "# next_low_phot_spec = spectools.scatter(lowengphot_tflist[0], phot_spec_init)"
   ]
  },
  {
   "cell_type": "code",
   "execution_count": 15,
   "metadata": {},
   "outputs": [
    {
     "name": "stdout",
     "output_type": "stream",
     "text": [
      "[31.]\n",
      "[31.         30.93806196]\n",
      "[31.         30.93806196 30.87624767]\n",
      "[31.         30.93806196 30.87624767 30.81455689]\n",
      "[31.         30.93806196 30.87624767 30.81455689 30.75298936]\n",
      "[31.         30.93806196 30.87624767 30.81455689 30.75298936 30.69154485]\n",
      "[31.         30.93806196 30.87624767 30.81455689 30.75298936 30.69154485\n",
      " 30.6302231 ]\n",
      "[31.         30.93806196 30.87624767 30.81455689 30.75298936 30.69154485\n",
      " 30.6302231  30.56902387]\n",
      "[31.         30.93806196 30.87624767 30.81455689 30.75298936 30.69154485\n",
      " 30.6302231  30.56902387 30.50794692]\n",
      "[31.         30.93806196 30.87624767 30.81455689 30.75298936 30.69154485\n",
      " 30.6302231  30.56902387 30.50794692 30.446992  ]\n",
      "[31.         30.93806196 30.87624767 30.81455689 30.75298936 30.69154485\n",
      " 30.6302231  30.56902387 30.50794692 30.446992   30.38615887]\n",
      "[31.         30.93806196 30.87624767 30.81455689 30.75298936 30.69154485\n",
      " 30.6302231  30.56902387 30.50794692 30.446992   30.38615887 30.32544729]\n",
      "[31.         30.93806196 30.87624767 30.81455689 30.75298936 30.69154485\n",
      " 30.6302231  30.56902387 30.50794692 30.446992   30.38615887 30.32544729\n",
      " 30.264857  ]\n",
      "[31.         30.93806196 30.87624767 30.81455689 30.75298936 30.69154485\n",
      " 30.6302231  30.56902387 30.50794692 30.446992   30.38615887 30.32544729\n",
      " 30.264857   30.20438778]\n",
      "[31.         30.93806196 30.87624767 30.81455689 30.75298936 30.69154485\n",
      " 30.6302231  30.56902387 30.50794692 30.446992   30.38615887 30.32544729\n",
      " 30.264857   30.20438778 30.14403937]\n",
      "[31.         30.93806196 30.87624767 30.81455689 30.75298936 30.69154485\n",
      " 30.6302231  30.56902387 30.50794692 30.446992   30.38615887 30.32544729\n",
      " 30.264857   30.20438778 30.14403937 30.08381154]\n",
      "[31.         30.93806196 30.87624767 30.81455689 30.75298936 30.69154485\n",
      " 30.6302231  30.56902387 30.50794692 30.446992   30.38615887 30.32544729\n",
      " 30.264857   30.20438778 30.14403937 30.08381154 30.02370404]\n",
      "[31.         30.93806196 30.87624767 30.81455689 30.75298936 30.69154485\n",
      " 30.6302231  30.56902387 30.50794692 30.446992   30.38615887 30.32544729\n",
      " 30.264857   30.20438778 30.14403937 30.08381154 30.02370404 29.96371664]\n",
      "[31.         30.93806196 30.87624767 30.81455689 30.75298936 30.69154485\n",
      " 30.6302231  30.56902387 30.50794692 30.446992   30.38615887 30.32544729\n",
      " 30.264857   30.20438778 30.14403937 30.08381154 30.02370404 29.96371664\n",
      " 29.9038491 ]\n",
      "[31.         30.93806196 30.87624767 30.81455689 30.75298936 30.69154485\n",
      " 30.6302231  30.56902387 30.50794692 30.446992   30.38615887 30.32544729\n",
      " 30.264857   30.20438778 30.14403937 30.08381154 30.02370404 29.96371664\n",
      " 29.9038491  29.84410117]\n"
     ]
    }
   ],
   "source": [
    "lowengphot_spectra  = spectools.evolve(\n",
    "    phot_spec_init, lowengphot_tflist,  \n",
    "    evolve_type='dep',  prop_tflist=highengphot_tflist, save_steps=True\n",
    ")"
   ]
  },
  {
   "cell_type": "code",
   "execution_count": 16,
   "metadata": {},
   "outputs": [],
   "source": [
    "file_highengphot_spectra.rebin(highengphot_spectra.eng)\n",
    "file_highengphot_spectra.switch_spec_type()\n",
    "file_lowengphot_spectra.rebin(lowengphot_spectra.eng)\n",
    "file_lowengphot_spectra.switch_spec_type()"
   ]
  },
  {
   "cell_type": "code",
   "execution_count": 17,
   "metadata": {},
   "outputs": [
    {
     "data": {
      "text/plain": [
       "[100.0, 10000000000000.0, 1e-12, 1000.0]"
      ]
     },
     "execution_count": 17,
     "metadata": {},
     "output_type": "execute_result"
    },
    {
     "data": {
      "image/png": "[encoded data removed]",
      "text/plain": [
       "<Figure size 720x720 with 1 Axes>"
      ]
     },
     "metadata": {},
     "output_type": "display_data"
    }
   ],
   "source": [
    "plt.figure()\n",
    "\n",
    "i_plot = 3\n",
    "\n",
    "ax = plt.gca()\n",
    "highengphot_spectra.plot(ax, ind=rs_list[i_plot], indtype='rs')\n",
    "file_highengphot_spectra.plot(ax, ind=rs_list[i_plot], indtype='rs')\n",
    "# phot_spectra.plot(ax, ind=rs_list[2], indtype='rs')\n",
    "# file_spectra.plot(ax, ind=rs_list[2], indtype='rs')\n",
    "# file_spectra.plot(ax, ind=rs_list[3], indtype='rs')\n",
    "\n",
    "# file_spectra.plot(ax, ind=rs_list[4], indtype='rs')\n",
    "\n",
    "ax.set_xscale('log')\n",
    "ax.set_yscale('log')\n",
    "\n",
    "plt.xlabel('Secondary Photon Energy [eV]')\n",
    "plt.ylabel('Number of Photons in Each Bin')\n",
    "plt.axis([1e2, 1e13, 1e-12, 1e3])"
   ]
  },
  {
   "cell_type": "code",
   "execution_count": 28,
   "metadata": {},
   "outputs": [
    {
     "data": {
      "text/plain": [
       "[0.0001, 4000000.0, 1e-20, 1000.0]"
      ]
     },
     "execution_count": 28,
     "metadata": {},
     "output_type": "execute_result"
    },
    {
     "data": {
      "image/png": "[encoded data removed]",
      "text/plain": [
       "<Figure size 720x720 with 1 Axes>"
      ]
     },
     "metadata": {},
     "output_type": "display_data"
    }
   ],
   "source": [
    "plt.figure()\n",
    "\n",
    "i_plot = 15\n",
    "\n",
    "ax = plt.gca()\n",
    "lowengphot_spectra.plot(ax, ind=rs_list[i_plot], indtype='rs')\n",
    "file_lowengphot_spectra.plot(ax, ind=rs_list[i_plot], indtype='rs')\n",
    "# phot_spectra.plot(ax, ind=rs_list[2], indtype='rs')\n",
    "# file_spectra.plot(ax, ind=rs_list[2], indtype='rs')\n",
    "# file_spectra.plot(ax, ind=rs_list[3], indtype='rs')\n",
    "\n",
    "# file_spectra.plot(ax, ind=rs_list[4], indtype='rs')\n",
    "\n",
    "ax.set_xscale('log')\n",
    "ax.set_yscale('log')\n",
    "\n",
    "plt.xlabel('Secondary Photon Energy [eV]')\n",
    "plt.ylabel('Number of Photons in Each Bin')\n",
    "plt.axis([1e-4, 4e6, 1e-20, 1e3])"
   ]
  },
  {
   "cell_type": "code",
   "execution_count": 20,
   "metadata": {},
   "outputs": [
    {
     "name": "stdout",
     "output_type": "stream",
     "text": [
      "(21, 883)\n",
      "(20, 883)\n",
      "(21,)\n",
      "(20,)\n"
     ]
    }
   ],
   "source": [
    "print(highengphot_spectra._grid_vals.shape)\n",
    "print(lowengphot_spectra._grid_vals.shape)\n",
    "print(highengphot_spectra.rs.shape)\n",
    "print(lowengphot_spectra.rs.shape)"
   ]
  },
  {
   "cell_type": "code",
   "execution_count": 21,
   "metadata": {},
   "outputs": [
    {
     "ename": "NameError",
     "evalue": "name 'phot_spectra' is not defined",
     "output_type": "error",
     "traceback": [
      "\u001b[0;31m---------------------------------------------------------------------------\u001b[0m",
      "\u001b[0;31mNameError\u001b[0m                                 Traceback (most recent call last)",
      "\u001b[0;32m<ipython-input-21-ec28e9e30109>\u001b[0m in \u001b[0;36m<module>\u001b[0;34m()\u001b[0m\n\u001b[0;32m----> 1\u001b[0;31m \u001b[0;32mfor\u001b[0m \u001b[0mi\u001b[0m\u001b[0;34m,\u001b[0m\u001b[0mrs\u001b[0m \u001b[0;32min\u001b[0m \u001b[0menumerate\u001b[0m\u001b[0;34m(\u001b[0m\u001b[0mphot_spectra\u001b[0m\u001b[0;34m.\u001b[0m\u001b[0mrs\u001b[0m\u001b[0;34m)\u001b[0m\u001b[0;34m:\u001b[0m\u001b[0;34m\u001b[0m\u001b[0m\n\u001b[0m\u001b[1;32m      2\u001b[0m     \u001b[0mprint\u001b[0m\u001b[0;34m(\u001b[0m\u001b[0mphot_spectra\u001b[0m\u001b[0;34m[\u001b[0m\u001b[0mi\u001b[0m\u001b[0;34m]\u001b[0m\u001b[0;34m.\u001b[0m\u001b[0mtotN\u001b[0m\u001b[0;34m(\u001b[0m\u001b[0;34m)\u001b[0m\u001b[0;34m)\u001b[0m\u001b[0;34m\u001b[0m\u001b[0m\n\u001b[1;32m      3\u001b[0m     \u001b[0mprint\u001b[0m\u001b[0;34m(\u001b[0m\u001b[0mfile_spectra\u001b[0m\u001b[0;34m[\u001b[0m\u001b[0;36m2\u001b[0m\u001b[0;34m*\u001b[0m\u001b[0mi\u001b[0m\u001b[0;34m]\u001b[0m\u001b[0;34m.\u001b[0m\u001b[0mtotN\u001b[0m\u001b[0;34m(\u001b[0m\u001b[0;34m)\u001b[0m \u001b[0;34m-\u001b[0m \u001b[0mfile_spectra\u001b[0m\u001b[0;34m[\u001b[0m\u001b[0;36m2\u001b[0m\u001b[0;34m*\u001b[0m\u001b[0mi\u001b[0m\u001b[0;34m]\u001b[0m\u001b[0;34m.\u001b[0m\u001b[0munderflow\u001b[0m\u001b[0;34m[\u001b[0m\u001b[0;34m'N'\u001b[0m\u001b[0;34m]\u001b[0m\u001b[0;34m)\u001b[0m\u001b[0;34m\u001b[0m\u001b[0m\n",
      "\u001b[0;31mNameError\u001b[0m: name 'phot_spectra' is not defined"
     ]
    }
   ],
   "source": [
    "for i,rs in enumerate(phot_spectra.rs):\n",
    "    print(phot_spectra[i].totN())\n",
    "    print(file_spectra[2*i].totN() - file_spectra[2*i].underflow['N'])"
   ]
  },
  {
   "cell_type": "code",
   "execution_count": null,
   "metadata": {
    "scrolled": false
   },
   "outputs": [],
   "source": [
    "utils.compare_arr([\n",
    "    phot_spectra[0].N, \n",
    "    phot_spectra[1].N, \n",
    "    file_spectra[2].N,\n",
    "    phot_spectra[2].N\n",
    "])"
   ]
  },
  {
   "cell_type": "code",
   "execution_count": null,
   "metadata": {
    "scrolled": false
   },
   "outputs": [],
   "source": [
    "print(file_spectra.rs[0:10])\n",
    "print(phot_spectra.rs[0:10])"
   ]
  },
  {
   "cell_type": "code",
   "execution_count": null,
   "metadata": {},
   "outputs": [],
   "source": [
    "print(file_spectra.eng)\n",
    "print(phot_spectra.eng)"
   ]
  },
  {
   "cell_type": "code",
   "execution_count": null,
   "metadata": {},
   "outputs": [],
   "source": []
  }
 ],
 "metadata": {
  "kernelspec": {
   "display_name": "Python [default]",
   "language": "python",
   "name": "python3"
  },
  "language_info": {
   "codemirror_mode": {
    "name": "ipython",
    "version": 3
   },
   "file_extension": ".py",
   "mimetype": "text/x-python",
   "name": "python",
   "nbconvert_exporter": "python",
   "pygments_lexer": "ipython3",
   "version": "3.6.5"
  }
 },
 "nbformat": 4,
 "nbformat_minor": 2
}
