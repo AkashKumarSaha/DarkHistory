{
 "cells": [
  {
   "cell_type": "markdown",
   "metadata": {},
   "source": [
    "# High Energy Photon Cooling"
   ]
  },
  {
   "cell_type": "markdown",
   "metadata": {},
   "source": [
    "In this notebook, we demonstrate how the high energy photon cooling works and run some cross checks. "
   ]
  },
  {
   "cell_type": "markdown",
   "metadata": {},
   "source": [
    "## Initialization"
   ]
  },
  {
   "cell_type": "code",
   "execution_count": 1,
   "metadata": {},
   "outputs": [],
   "source": [
    "%load_ext autoreload\n",
    "import sys\n",
    "sys.path.append(\"..\")"
   ]
  },
  {
   "cell_type": "code",
   "execution_count": 2,
   "metadata": {},
   "outputs": [],
   "source": [
    "%autoreload\n",
    "\n",
    "import matplotlib\n",
    "matplotlib.rc_file('matplotlibrc')\n",
    "import matplotlib.pyplot as plt\n",
    "\n",
    "%matplotlib inline\n",
    "\n",
    "matplotlib.rcParams['figure.figsize'] = [10,10]\n",
    "\n",
    "\n",
    "from astropy.io import fits\n",
    "\n",
    "import numpy as np\n",
    "import pickle\n",
    "import darkhistory.physics as phys\n",
    "import darkhistory.utilities as utils\n",
    "import darkhistory.spec.spectools as spectools\n",
    "import darkhistory.spec.transferfunction as tf\n",
    "from darkhistory.spec.spectrum import Spectrum\n",
    "from darkhistory.spec.spectra import Spectra\n",
    "import darkhistory.history.tla as tla\n",
    "\n",
    "from darkhistory.electrons.ics.ics_spectrum import ics_spec\n",
    "from darkhistory.electrons.ics.ics_engloss_spectrum import engloss_spec\n",
    "from darkhistory.electrons.ics.ics_cooling import get_ics_cooling_tf\n",
    "\n",
    "np.set_printoptions(threshold=np.nan)"
   ]
  },
  {
   "cell_type": "markdown",
   "metadata": {},
   "source": [
    "## Load Reference Results"
   ]
  },
  {
   "cell_type": "code",
   "execution_count": 3,
   "metadata": {},
   "outputs": [],
   "source": [
    "eng_ind = 299\n",
    "\n",
    "# Check that this matches with the input \n",
    "\n",
    "file_name = {99: \"/Users/hongwan/Dropbox (MIT)/Photon Deposition/tf_z_3.100E+01_nstep_2049_logE_5.328E+00_xe_1.000E-04.fits\",\n",
    "            199: \"/Users/hongwan/Dropbox (MIT)/Photon Deposition/tf_z_3.100E+01_nstep_2049_logE_7.183E+00_xe_1.000E-04.fits\",\n",
    "            298: \"/Users/hongwan/Dropbox (MIT)/Photon Deposition/tf_z_3.100E+01_nstep_2049_logE_9.020E+00_xe_1.000E-04.fits\",\n",
    "            299: \"/Users/hongwan/Dropbox (MIT)/Photon Deposition/tf_z_3.100E+01_nstep_2049_logE_9.038E+00_xe_1.000E-04.fits\", \n",
    "            399: \"/Users/hongwan/Dropbox (MIT)/Photon Deposition/tf_z_3.100E+01_nstep_2049_logE_1.089E+01_xe_1.000E-04.fits\",\n",
    "            499: \"/Users/hongwan/Dropbox (MIT)/Photon Deposition/tf_z_3.100E+01_nstep_2049_logE_1.275E+01_xe_1.000E-04.fits\",\n",
    "            2993: \"/Users/hongwan/Dropbox (MIT)/Photon Deposition/tf_z_3.100E+01_nstep_18_logE_9.038E+00_xe_1.000E-04.fits\"}\n",
    "\n",
    "file = fits.open(file_name[eng_ind])\n",
    "\n",
    "file_eng = file[1].data['energy'][0,:]\n",
    "file_rs = file[1].data['redshift'][0,:]\n",
    "file_photonspectrum = file[1].data['photonspectrum'][0,:,:]"
   ]
  },
  {
   "cell_type": "code",
   "execution_count": 4,
   "metadata": {},
   "outputs": [],
   "source": [
    "file_spectra = Spectra([Spectrum(file_eng, photspec, rs=rs) \n",
    "                   for photspec,rs in zip(file_photonspectrum, file_rs)])"
   ]
  },
  {
   "cell_type": "markdown",
   "metadata": {},
   "source": [
    "## Photon Cooling"
   ]
  },
  {
   "cell_type": "markdown",
   "metadata": {},
   "source": [
    "Now we cool the photons that result from the high energy photon injection. Photons below 3.1 keV are considered low energy photons. For high energy photons, greater than 3.1 keV, we have transfer functions (a function of *both* injected photon energy and redshift, so they are given as a `TransFuncList`), into high energy photons, low energy photons and low energy electrons. Let's load them first."
   ]
  },
  {
   "cell_type": "code",
   "execution_count": 20,
   "metadata": {},
   "outputs": [],
   "source": [
    "user = 'hongwan'\n",
    "\n",
    "highengphot_tflist = pickle.load(open(\"/Users/\"+user+\"/Dropbox (MIT)/Photon Deposition/tfunclist_photspec.raw\", \"rb\"))\n",
    "lowengphot_tflist  = pickle.load(open(\"/Users/\"+user+\"/Dropbox (MIT)/Photon Deposition/tfunclist_lowengphotspec.raw\", \"rb\"))\n",
    "lowengelec_tflist  = pickle.load(open(\"/Users/\"+user+\"/Dropbox (MIT)/Photon Deposition/tfunclist_lowengelecspec.raw\", \"rb\"))\n",
    "highengphot_tflist_before = pickle.load(open(\"/Users/\"+user+\"/Dropbox (MIT)/Photon Deposition/tfunclist_photspec.raw\", \"rb\"))\n",
    "\n",
    "# This is a list of mwimp values used to generate highengphot_tflist\n",
    "mwimp_arr = np.array(highengphot_tflist.in_eng)\n",
    "\n",
    "# This shouldn't be necessary. There is one negative value somewhere. Check.\n",
    "for tf in highengphot_tflist:\n",
    "    tf.grid_vals[np.where(tf.grid_vals < 0)] = 0\n",
    "for tf in lowengphot_tflist:\n",
    "    tf.grid_vals[np.where(tf.grid_vals < 0)] = 0"
   ]
  },
  {
   "cell_type": "markdown",
   "metadata": {
    "collapsed": true
   },
   "source": [
    "## Inputs"
   ]
  },
  {
   "cell_type": "code",
   "execution_count": 21,
   "metadata": {},
   "outputs": [],
   "source": [
    "eleceng = np.logspace( 1, 13, 500)\n",
    "# photeng = np.logspace(-4, 13, 500)\n",
    "photeng = highengphot_tflist.in_eng[1::10]\n",
    "phot_spec_init = spectools.rebin_N_arr(np.array([2]), \n",
    "                                      np.array([mwimp_arr[eng_ind]]),\n",
    "                                      photeng)\n"
   ]
  },
  {
   "cell_type": "markdown",
   "metadata": {},
   "source": [
    "We now need to construct a transfer function list for *both* high- and low-energy photons. It needs to be a square matrix (so that we can take powers of the matrix for coarsening later), with dimensions given by the length of `photeng`."
   ]
  },
  {
   "cell_type": "code",
   "execution_count": 22,
   "metadata": {},
   "outputs": [
    {
     "name": "stdout",
     "output_type": "stream",
     "text": [
      "1155292943.6967342\n",
      "1155292943.6967342\n"
     ]
    },
    {
     "name": "stderr",
     "output_type": "stream",
     "text": [
      "../darkhistory/spec/spectra.py:852: RuntimeWarning: The new abscissa lies below the old one: only bins that lie within the new abscissa will be rebinned, bins above the abscissa will be discarded.\n",
      "  warnings.warn(\"The new abscissa lies below the old one: only bins that lie within the new abscissa will be rebinned, bins above the abscissa will be discarded.\", RuntimeWarning)\n"
     ]
    }
   ],
   "source": [
    "#Split photeng into high and low energy. \n",
    "photeng_high = photeng[photeng > 3070]\n",
    "photeng_low  = photeng[photeng <= 3070]\n",
    "\n",
    "# Split eleceng into high and low energy. \n",
    "eleceng_high = eleceng[eleceng > 3500]\n",
    "eleceng_low  = eleceng[eleceng <= 3500]\n",
    "\n",
    "# highengphot_tflist.in_eng set to photeng_high\n",
    "\n",
    "highengphot_tflist.at_val('in_eng', photeng_high, bounds_error=False, fill_value=0)\n",
    "\n",
    "for tf in highengphot_tflist:\n",
    "    tf.rebin(photeng_high)\n",
    "    # Pad with zeros so that it becomes photeng x photeng. \n",
    "    tf._grid_vals = np.pad(tf.grid_vals, ((photeng_low.size, 0), (photeng_low.size, 0)), 'constant')\n",
    "    tf._N_underflow = np.pad(tf._N_underflow, (photeng_low.size, 0), 'constant')\n",
    "    tf._eng_underflow = np.pad(tf._eng_underflow, (photeng_low.size, 0), 'constant')\n",
    "    tf._in_eng = photeng\n",
    "    tf._eng = photeng\n",
    "highengphot_tflist.eng = photeng\n",
    "highengphot_tflist.in_eng = photeng\n",
    "    \n",
    "# lowengphot_tflist.in_eng set to photeng_high\n",
    "lowengphot_tflist.at_val('in_eng', photeng_high, bounds_error=False, fill_value=0)\n",
    "for tf in lowengphot_tflist:\n",
    "    tf.rebin(photeng)\n",
    "    # Pad with zeros so that it becomes photeng x photeng. \n",
    "    tf._grid_vals = np.pad(tf.grid_vals, ((photeng_low.size,0), (0,0)), 'constant')\n",
    "    tf._N_underflow = np.pad(tf._N_underflow, (photeng_low.size, 0), 'constant')\n",
    "    tf._eng_underflow = np.pad(tf._eng_underflow, (photeng_low.size, 0), 'constant')\n",
    "    tf._in_eng = photeng\n",
    "    tf._eng = photeng\n",
    "lowengphot_tflist.eng = photeng\n",
    "lowengphot_tflist.in_eng = photeng\n",
    "    \n",
    "# lowengelec_tflist.in_eng set to photeng_high \n",
    "lowengelec_tflist.at_val('in_eng', photeng_high, bounds_error=False, fill_value=0)\n",
    "for tf in lowengelec_tflist:\n",
    "    tf.rebin(eleceng)\n",
    "    # Pad with zeros so that it becomes photeng x eleceng. \n",
    "    tf._grid_vals = np.pad(tf.grid_vals, ((photeng_low.size,0), (0,0)), 'constant')\n",
    "    tf._N_underflow = np.pad(tf._N_underflow, (photeng_low.size, 0), 'constant')\n",
    "    tf._eng_underflow = np.pad(tf._eng_underflow, (photeng_low.size, 0), 'constant')\n",
    "    tf._in_eng = photeng\n",
    "    tf._eng = eleceng\n",
    "lowengelec_tflist.eng = eleceng\n",
    "lowengelec_tflist.in_eng = photeng"
   ]
  },
  {
   "cell_type": "markdown",
   "metadata": {},
   "source": [
    "We need to decide on the redshift step to use. The default redshift step in the transfer functions is $d \\log (1+z) = 2 \\times 10^{-3}$, with the transfer function evaluated at (currently) 50 redshifts, from $1+z = 30$ to $1+z=4$, so that the transfer function with $d \\log(1+z) = 2 \\times 10^{-3}$ can be interpolated between them. However, we can coarsen the high energy photon transfer function by some factor $f$ by multiplying the transfer function matrix by itself multiple times, producing transfer functions for a redshift step of $d \\log (1+z) = f \\times 2 \\times 10^{-3}$. "
   ]
  },
  {
   "cell_type": "code",
   "execution_count": 8,
   "metadata": {},
   "outputs": [],
   "source": [
    "# The redshift step to use will be coarsen_factor * 0.002\n",
    "coarsen_factor = 1\n",
    "# Generate the redshifts at which we want to get an interpolated value for the transfer function. \n",
    "tf_rs_arr = highengphot_tflist.rs\n",
    "rs_list = np.exp(np.arange(np.log(tf_rs_arr[0]), \n",
    "                           np.log(tf_rs_arr[-1]), \n",
    "                           -highengphot_tflist.dlnz*coarsen_factor)\n",
    "                )\n",
    "\n",
    "if coarsen_factor > 1:\n",
    "    lowengphot_tflist.coarsen(coarsen_factor, delete_tfs=False, coarsen_type='dep', prop_transfunclist=highengphot_tflist)\n",
    "    lowengelec_tflist.coarsen(coarsen_factor, delete_tfs=False, coarsen_type='dep', prop_transfunclist=highengphot_tflist)\n",
    "    highengphot_tflist.coarsen(coarsen_factor, delete_tfs=False)\n",
    "    \n",
    "lowengphot_tflist.at_val('rs',rs_list)\n",
    "lowengelec_tflist.at_val('rs',rs_list)\n",
    "highengphot_tflist.at_val('rs',rs_list)\n",
    "\n",
    "phot_spec_init.rs = rs_list[0]"
   ]
  },
  {
   "cell_type": "code",
   "execution_count": 9,
   "metadata": {},
   "outputs": [],
   "source": [
    "highengphot_tflist.transpose()\n",
    "highengphot_tflist_before.transpose()\n",
    "lowengphot_tflist.transpose()\n",
    "lowengelec_tflist.transpose()"
   ]
  },
  {
   "cell_type": "code",
   "execution_count": 10,
   "metadata": {
    "scrolled": false
   },
   "outputs": [
    {
     "name": "stdout",
     "output_type": "stream",
     "text": [
      "1155292943.6967342\n",
      "1155292943.6967342\n",
      "[1.61860661e+07 2.08603218e+07 1.56864555e+07 1.12275527e+07\n",
      " 8.73791367e+06 6.13270817e+06 3.79976696e+06 2.53878550e+06\n",
      " 1.46311693e+06 7.42825955e+05 3.50465796e+05 1.11942245e+05\n",
      " 2.40605706e+04 2.95000791e+03 1.78651967e+02 7.61202564e+00\n",
      " 4.10374437e+00 4.09175253e+00 3.93947790e+00 3.85422804e+00\n",
      " 4.18663391e+00 4.16005423e+00 3.98332931e+00 4.00774993e+00\n",
      " 4.03463805e+00 4.07794200e+00 4.16665309e+00 4.36631823e+00\n",
      " 4.82902760e+00 2.75347489e+05 4.90044162e+07 0.00000000e+00\n",
      " 0.00000000e+00 0.00000000e+00 0.00000000e+00 0.00000000e+00\n",
      " 0.00000000e+00 0.00000000e+00 0.00000000e+00 0.00000000e+00\n",
      " 0.00000000e+00 0.00000000e+00 0.00000000e+00 0.00000000e+00\n",
      " 0.00000000e+00 0.00000000e+00 0.00000000e+00 0.00000000e+00\n",
      " 0.00000000e+00 0.00000000e+00]\n",
      "[1.18509784e+06 1.03597230e+06 1.00864873e+06 1.40082980e+06\n",
      " 0.00000000e+00 1.03005623e+06 9.19892260e+05 8.95220103e+05\n",
      " 1.25249953e+06 8.91572423e+05 8.13992946e+05 7.91738779e+05\n",
      " 1.11602456e+06 7.74054694e+05 7.17687222e+05 6.97638282e+05\n",
      " 9.84280624e+05 6.74868786e+05 6.30192261e+05 6.12152353e+05\n",
      " 8.57899582e+05 5.91574548e+05 5.50788676e+05 5.05159313e+05\n",
      " 3.96366547e+04 7.27284635e+05 5.31909293e+05 4.79063582e+05\n",
      " 4.64502949e+05 6.13234871e+05 4.73959737e+05 4.13904701e+05\n",
      " 4.00849916e+05 5.06525474e+05 4.25423181e+05 3.55031678e+05\n",
      " 3.43342975e+05 4.07820009e+05 0.00000000e+00 3.95233633e+05\n",
      " 3.02106626e+05 2.91639419e+05 3.06678684e+05 3.59882783e+05\n",
      " 2.54340652e+05 2.44998151e+05 2.35903536e+05 3.09509743e+05\n",
      " 2.20827760e+05 2.03230512e+05 1.95138297e+05 2.22735363e+05\n",
      " 0.00000000e+00 2.21291806e+05 1.65979063e+05 1.58785870e+05\n",
      " 1.51775567e+05 1.84136834e+05 1.45254440e+05 1.26676773e+05\n",
      " 1.20508443e+05 1.14675990e+05 9.15671703e+03 1.34216454e+05\n",
      " 1.07116948e+05 9.30269514e+04 8.77787441e+04 8.26687319e+04\n",
      " 9.20635025e+04 0.00000000e+00 8.48453382e+04 6.48348885e+04\n",
      " 6.04896459e+04 5.62860339e+04 5.22228827e+04 5.55869093e+04\n",
      " 0.00000000e+00 5.18939958e+04 3.86263834e+04 3.53402069e+04\n",
      " 3.22018053e+04 2.09273337e+04 1.24503331e+04 2.60095376e+04\n",
      " 2.33323757e+04 2.23731022e+04 1.05034135e+04 1.02452550e+04\n",
      " 1.67198662e+04 1.33444363e+04 2.66301348e+03 1.10134635e+04\n",
      " 9.74957713e+03 8.33035043e+03 2.83793237e+03 5.54169048e+03\n",
      " 5.71209585e+03 1.75960713e+03 3.90503468e+03 3.71539728e+03\n",
      " 8.32732288e+02 2.79521189e+03 2.27457804e+03 1.10577465e+03\n",
      " 1.02898899e+03 1.32581812e+03 9.26270809e+02 2.81871701e+02\n",
      " 4.95388191e+02 3.71291704e+02 5.01261750e+02 1.44892563e+02\n",
      " 3.24983068e+02 2.61162360e+02 7.56338409e+01 1.30209775e+02\n",
      " 1.27301029e+02 1.01579379e+02 1.49937740e+02 1.79474593e+02\n",
      " 1.18253670e+02 7.68319220e+01 1.16035518e+01 5.73136552e+00\n",
      " 0.00000000e+00 3.75361444e+00 2.25191755e+00 6.82581764e-01\n",
      " 6.39181914e-01 5.80737754e-01 2.48407052e-01 2.61829676e-01\n",
      " 2.09430676e-01 1.48921412e-01 1.86765145e-01 9.13804772e-02\n",
      " 1.43430458e-01 2.06356958e-01 1.63496595e-02 1.93929598e-01\n",
      " 1.61823861e-01 6.64487590e-02 1.10756442e-01 1.36847591e-01\n",
      " 2.16184429e-01 1.62671465e-02 1.61970808e-01 1.22179182e-01\n",
      " 2.01648685e-01 3.03107644e-02 1.76664029e-01 3.63441063e-02\n",
      " 2.04308875e-01 1.27349271e-01 1.63594488e-01 6.05342051e-02\n",
      " 1.16528368e-01 1.11024419e-01 6.60372689e-02 2.18478776e-01\n",
      " 1.35642229e-01 1.64908142e-01 6.21850970e-02 1.27025093e-01\n",
      " 1.14595979e-01 6.62488986e-02 1.73271312e-01 1.42878745e-01\n",
      " 2.11235868e-01 9.42358279e-02 8.28210622e-02 1.68066061e-01\n",
      " 7.71543959e-02 1.08892829e-01 1.46007597e-01 7.99932328e-02\n",
      " 1.28112340e-01 1.30227738e-01 8.25553746e-02 2.16631946e-01\n",
      " 1.76397250e-01 1.02416483e-01 1.59998392e-01 8.76270896e-02\n",
      " 1.06491810e-01 1.58130273e-01 8.96112003e-02 1.06379123e-01\n",
      " 1.60094638e-01 9.14212847e-02 1.02609277e-01 1.65404423e-01\n",
      " 9.30779748e-02 9.56489978e-02 1.73631502e-01 9.45994917e-02\n",
      " 9.35534192e-02 1.69428819e-01 1.03327919e-01 9.49302376e-02\n",
      " 1.55898573e-01 1.17597679e-01 9.62064303e-02 1.40368256e-01\n",
      " 2.03453708e-01 1.69870935e-01 1.57973120e-01 1.17882962e-01\n",
      " 9.84296602e-02 1.37920673e-01 1.38185647e-01 9.94919988e-02\n",
      " 1.16592488e-01 1.59653170e-01 1.00495356e-01 9.93266706e-02\n",
      " 1.72021799e-01 1.06390616e-01 1.00274092e-01 1.47747654e-01\n",
      " 1.30594346e-01 1.01180607e-01 1.22722967e-01 1.55490941e-01\n",
      " 1.02053552e-01 1.00847870e-01 1.73567418e-01 1.06527764e-01\n",
      " 1.01695931e-01 1.46603957e-01 1.33272046e-01 1.02527324e-01\n",
      " 1.19226523e-01 1.60424050e-01 1.03350407e-01 1.02126439e-01\n",
      " 1.67131196e-01 1.14353780e-01 1.02958255e-01 1.38477786e-01\n",
      " 1.42829977e-01 1.03804916e-01 1.09614329e-01 1.71582695e-01\n",
      " 1.04680279e-01 1.03456144e-01 1.55798009e-01 1.27531133e-01\n",
      " 1.04394114e-01 1.26094927e-01 1.57407301e-01 1.05404611e-01\n",
      " 1.04181090e-01 1.72122336e-01 1.14093753e-01 1.05319617e-01\n",
      " 1.41836827e-01 1.45140551e-01 1.06605446e-01 1.11447594e-01\n",
      " 1.76684091e-01 1.08089392e-01 1.06919766e-01 1.57935345e-01\n",
      " 1.34777706e-01 1.08725484e-01 1.27186021e-01 1.68140641e-01\n",
      " 1.10901234e-01 1.09785061e-01 1.76036027e-01 1.26622867e-01\n",
      " 1.12545760e-01 1.45199792e-01 1.62763894e-01 1.15985289e-01\n",
      " 1.14964028e-01 1.98954198e-01 1.21382423e-01 1.19460225e-01\n",
      " 1.68493638e-01 1.62072206e-01 1.25192147e-01 1.37100168e-01\n",
      " 2.06821155e-01 1.32545707e-01 1.31968658e-01 2.02634290e-01\n",
      " 1.68712586e-01 1.41847010e-01 1.71789321e-01 2.24462443e-01\n",
      " 1.54665707e-01 1.54562341e-01 2.58153384e-01 1.87087168e-01\n",
      " 1.71931765e-01 2.29189803e-01 1.12324646e+04 6.73294439e+05\n",
      " 9.38690497e+05 4.76576530e+07 0.00000000e+00 0.00000000e+00\n",
      " 0.00000000e+00 0.00000000e+00 0.00000000e+00 0.00000000e+00\n",
      " 0.00000000e+00 0.00000000e+00 0.00000000e+00 0.00000000e+00\n",
      " 0.00000000e+00 0.00000000e+00 0.00000000e+00 0.00000000e+00\n",
      " 0.00000000e+00 0.00000000e+00 0.00000000e+00 0.00000000e+00\n",
      " 0.00000000e+00 0.00000000e+00 0.00000000e+00 0.00000000e+00\n",
      " 0.00000000e+00 0.00000000e+00 0.00000000e+00 0.00000000e+00\n",
      " 0.00000000e+00 0.00000000e+00 0.00000000e+00 0.00000000e+00\n",
      " 0.00000000e+00 0.00000000e+00 0.00000000e+00 0.00000000e+00\n",
      " 0.00000000e+00 0.00000000e+00 0.00000000e+00 0.00000000e+00\n",
      " 0.00000000e+00 0.00000000e+00 0.00000000e+00 0.00000000e+00\n",
      " 0.00000000e+00 0.00000000e+00 0.00000000e+00 0.00000000e+00\n",
      " 0.00000000e+00 0.00000000e+00 0.00000000e+00 0.00000000e+00\n",
      " 0.00000000e+00 0.00000000e+00 0.00000000e+00 0.00000000e+00\n",
      " 0.00000000e+00 0.00000000e+00 0.00000000e+00 0.00000000e+00\n",
      " 0.00000000e+00 0.00000000e+00 0.00000000e+00 0.00000000e+00\n",
      " 0.00000000e+00 0.00000000e+00 0.00000000e+00 0.00000000e+00\n",
      " 0.00000000e+00 0.00000000e+00 0.00000000e+00 0.00000000e+00\n",
      " 0.00000000e+00 0.00000000e+00 0.00000000e+00 0.00000000e+00\n",
      " 0.00000000e+00 0.00000000e+00 0.00000000e+00 0.00000000e+00\n",
      " 0.00000000e+00 0.00000000e+00 0.00000000e+00 0.00000000e+00\n",
      " 0.00000000e+00 0.00000000e+00 0.00000000e+00 0.00000000e+00\n",
      " 0.00000000e+00 0.00000000e+00 0.00000000e+00 0.00000000e+00\n",
      " 0.00000000e+00 0.00000000e+00 0.00000000e+00 0.00000000e+00\n",
      " 0.00000000e+00 0.00000000e+00 0.00000000e+00 0.00000000e+00\n",
      " 0.00000000e+00 0.00000000e+00 0.00000000e+00 0.00000000e+00\n",
      " 0.00000000e+00 0.00000000e+00 0.00000000e+00 0.00000000e+00\n",
      " 0.00000000e+00 0.00000000e+00 0.00000000e+00 0.00000000e+00\n",
      " 0.00000000e+00 0.00000000e+00 0.00000000e+00 0.00000000e+00\n",
      " 0.00000000e+00 0.00000000e+00 0.00000000e+00 0.00000000e+00\n",
      " 0.00000000e+00 0.00000000e+00 0.00000000e+00 0.00000000e+00\n",
      " 0.00000000e+00 0.00000000e+00 0.00000000e+00 0.00000000e+00\n",
      " 0.00000000e+00 0.00000000e+00 0.00000000e+00 0.00000000e+00\n",
      " 0.00000000e+00 0.00000000e+00 0.00000000e+00 0.00000000e+00\n",
      " 0.00000000e+00 0.00000000e+00 0.00000000e+00 0.00000000e+00\n",
      " 0.00000000e+00 0.00000000e+00 0.00000000e+00 0.00000000e+00\n",
      " 0.00000000e+00 0.00000000e+00 0.00000000e+00 0.00000000e+00\n",
      " 0.00000000e+00 0.00000000e+00 0.00000000e+00 0.00000000e+00\n",
      " 0.00000000e+00 0.00000000e+00 0.00000000e+00 0.00000000e+00\n",
      " 0.00000000e+00 0.00000000e+00 0.00000000e+00 0.00000000e+00\n",
      " 0.00000000e+00 0.00000000e+00 0.00000000e+00 0.00000000e+00\n",
      " 0.00000000e+00 0.00000000e+00 0.00000000e+00 0.00000000e+00\n",
      " 0.00000000e+00 0.00000000e+00 0.00000000e+00 0.00000000e+00\n",
      " 0.00000000e+00 0.00000000e+00 0.00000000e+00 0.00000000e+00\n",
      " 0.00000000e+00 0.00000000e+00 0.00000000e+00 0.00000000e+00\n",
      " 0.00000000e+00 0.00000000e+00 0.00000000e+00 0.00000000e+00\n",
      " 0.00000000e+00 0.00000000e+00 0.00000000e+00 0.00000000e+00\n",
      " 0.00000000e+00 0.00000000e+00 0.00000000e+00 0.00000000e+00\n",
      " 0.00000000e+00 0.00000000e+00 0.00000000e+00 0.00000000e+00\n",
      " 0.00000000e+00 0.00000000e+00 0.00000000e+00 0.00000000e+00]\n",
      "[6.66234176e+06 8.39580841e+06 6.08494120e+06 4.14761912e+06\n",
      " 3.02075157e+06 1.93183628e+06 1.05151668e+06 5.84755564e+05\n",
      " 2.60347721e+05 8.97044856e+04 2.44062658e+04 3.83592465e+03\n",
      " 6.30343561e+02 5.95449279e+00 1.25180115e+00 1.26706877e+00\n",
      " 1.27288119e+00 1.27380911e+00 1.22640333e+00 1.19986214e+00\n",
      " 1.30334177e+00 1.29506574e+00 1.24004844e+00 1.24765009e+00\n",
      " 1.25602008e+00 1.26950064e+00 1.29711694e+00 1.35927431e+00\n",
      " 1.50331976e+00 2.75346565e+05 4.90055259e+07 0.00000000e+00\n",
      " 0.00000000e+00 0.00000000e+00 0.00000000e+00 0.00000000e+00\n",
      " 0.00000000e+00 0.00000000e+00 0.00000000e+00 0.00000000e+00\n",
      " 0.00000000e+00 0.00000000e+00 0.00000000e+00 0.00000000e+00\n",
      " 0.00000000e+00 0.00000000e+00 0.00000000e+00 0.00000000e+00\n",
      " 0.00000000e+00 0.00000000e+00]\n",
      "N\n",
      "N\n"
     ]
    },
    {
     "name": "stderr",
     "output_type": "stream",
     "text": [
      "../darkhistory/spec/spectra.py:852: RuntimeWarning: The new abscissa lies below the old one: only bins that lie within the new abscissa will be rebinned, bins above the abscissa will be discarded.\n",
      "  warnings.warn(\"The new abscissa lies below the old one: only bins that lie within the new abscissa will be rebinned, bins above the abscissa will be discarded.\", RuntimeWarning)\n"
     ]
    },
    {
     "data": {
      "text/plain": [
       "Text(0,0.5,'Number of Photons in Each Bin')"
      ]
     },
     "execution_count": 10,
     "metadata": {},
     "output_type": "execute_result"
    },
    {
     "data": {
      "image/png": "[encoded data removed]",
      "text/plain": [
       "<Figure size 720x720 with 1 Axes>"
      ]
     },
     "metadata": {},
     "output_type": "display_data"
    }
   ],
   "source": [
    "plt.figure()\n",
    "ax = plt.gca()\n",
    "\n",
    "i = 20\n",
    "\n",
    "highengphot_tflist[i].switch_spec_type()\n",
    "highengphot_tflist_before[i].switch_spec_type()\n",
    "\n",
    "a = highengphot_tflist[i]\n",
    "b = highengphot_tflist_before[i]\n",
    "\n",
    "print(a.in_eng[30])\n",
    "print(b.in_eng[301])\n",
    "print(a[30].N)\n",
    "N_before_rebin = np.array(b[301].N)\n",
    "b.rebin(highengphot_tflist.eng)\n",
    "# utils.compare_arr([a[j].eng, a[j].N])\n",
    "N_after_rebin = b[301].N\n",
    "print(N_before_rebin)\n",
    "print(N_after_rebin)\n",
    "print(a.spec_type)\n",
    "print(b.spec_type)\n",
    "\n",
    "a.plot(ax, ind=1.16e9, indtype='in_eng')\n",
    "b.plot(ax, ind=1.16e9, indtype='in_eng')\n",
    "\n",
    "\n",
    "highengphot_tflist[i].switch_spec_type()\n",
    "highengphot_tflist_before[i].switch_spec_type()\n",
    "\n",
    "ax.set_xscale('log')\n",
    "ax.set_yscale('log')\n",
    "\n",
    "plt.xlabel('Secondary Photon Energy [eV]')\n",
    "plt.ylabel('Number of Photons in Each Bin')\n",
    "# plt.axis([1e-4, 1e13, 1e8, 1e60])"
   ]
  },
  {
   "cell_type": "code",
   "execution_count": 11,
   "metadata": {},
   "outputs": [],
   "source": [
    "phot_spectra = spectools.evolve(phot_spec_init, highengphot_tflist, evolve_type='prop', save_steps=True)\n",
    "\n",
    "# next_phot_spec = spectools.scatter(highengphot_tflist[1], next_phot_spec)\n",
    "# test2 = spectools.evolve(phot_spec_init, highengphot_tflist, evolve_type='prop', end_rs = rs_list[2])\n",
    "# next_low_phot_spec = spectools.scatter(lowengphot_tflist[0], phot_spec_init)\n",
    "# next_phot_spec = spectools.scatter(highengphot_tflist[2], next_phot_spec)\n",
    "# test3 = spectools.evolve(phot_spec_init, highengphot_tflist, evolve_type='prop', end_rs = rs_list[3])\n",
    "# next_low_phot_spec = spectools.scatter(lowengphot_tflist[0], phot_spec_init)"
   ]
  },
  {
   "cell_type": "code",
   "execution_count": 12,
   "metadata": {},
   "outputs": [
    {
     "name": "stdout",
     "output_type": "stream",
     "text": [
      "0.5554962107289603\n",
      "0.5554962107289603\n",
      "dNdE\n",
      "dNdE\n"
     ]
    }
   ],
   "source": [
    "print(phot_spectra[1].totN())\n",
    "# phot_spectra.rebin(file_eng)\n",
    "file_spectra.rebin(photeng)\n",
    "print(phot_spectra[1].totN())\n",
    "print(phot_spectra.spec_type)\n",
    "print(file_spectra.spec_type)"
   ]
  },
  {
   "cell_type": "code",
   "execution_count": 13,
   "metadata": {},
   "outputs": [
    {
     "data": {
      "text/plain": [
       "[0.0001, 10000000000000.0, 1e-10, 1000.0]"
      ]
     },
     "execution_count": 13,
     "metadata": {},
     "output_type": "execute_result"
    },
    {
     "data": {
      "image/png": "[encoded data removed]",
      "text/plain": [
       "<Figure size 720x720 with 1 Axes>"
      ]
     },
     "metadata": {},
     "output_type": "display_data"
    }
   ],
   "source": [
    "rs_to_plot = 30.691544846224218\n",
    "\n",
    "plt.figure()\n",
    "\n",
    "phot_spectra.switch_spec_type()\n",
    "file_spectra.switch_spec_type()\n",
    "\n",
    "ax = plt.gca()\n",
    "phot_spectra.plot(ax, ind=rs_to_plot, indtype='rs')\n",
    "file_spectra.plot(ax, ind=rs_to_plot, indtype='rs')\n",
    "\n",
    "ax.set_xscale('log')\n",
    "ax.set_yscale('log')\n",
    "\n",
    "plt.xlabel('Secondary Photon Energy [eV]')\n",
    "plt.ylabel('Number of Photons in Each Bin')\n",
    "plt.axis([1e-4, 1e13, 1e-10, 1e3])"
   ]
  },
  {
   "cell_type": "code",
   "execution_count": null,
   "metadata": {},
   "outputs": [],
   "source": []
  }
 ],
 "metadata": {
  "kernelspec": {
   "display_name": "Python 3",
   "language": "python",
   "name": "python3"
  },
  "language_info": {
   "codemirror_mode": {
    "name": "ipython",
    "version": 3
   },
   "file_extension": ".py",
   "mimetype": "text/x-python",
   "name": "python",
   "nbconvert_exporter": "python",
   "pygments_lexer": "ipython3",
   "version": "3.6.5"
  }
 },
 "nbformat": 4,
 "nbformat_minor": 2
}
