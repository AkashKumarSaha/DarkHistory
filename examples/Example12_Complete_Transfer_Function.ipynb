{
 "cells": [
  {
   "cell_type": "markdown",
   "metadata": {},
   "source": [
    "# Full Transfer Functions"
   ]
  },
  {
   "cell_type": "code",
   "execution_count": 1,
   "metadata": {},
   "outputs": [],
   "source": [
    "%load_ext autoreload\n",
    "import sys\n",
    "sys.path.append(\"..\")"
   ]
  },
  {
   "cell_type": "code",
   "execution_count": 55,
   "metadata": {},
   "outputs": [],
   "source": [
    "%autoreload\n",
    "\n",
    "import matplotlib\n",
    "matplotlib.rc_file('matplotlibrc')\n",
    "import matplotlib.pyplot as plt\n",
    "\n",
    "%matplotlib inline\n",
    "\n",
    "matplotlib.rcParams['figure.figsize'] = [10,10]\n",
    "\n",
    "\n",
    "from astropy.io import fits\n",
    "\n",
    "import numpy as np\n",
    "import copy\n",
    "import pickle\n",
    "\n",
    "import darkhistory.physics as phys\n",
    "import darkhistory.utilities as utils\n",
    "import darkhistory.spec.spectools as spectools\n",
    "import darkhistory.spec.transferfunction as tf\n",
    "import darkhistory.spec.transferfunclist as tflist\n",
    "from darkhistory.spec.spectrum import Spectrum\n",
    "from darkhistory.spec.spectra import Spectra\n",
    "import darkhistory.history.tla as tla\n",
    "\n",
    "from scipy.interpolate import interp1d\n",
    "\n",
    "from tqdm import tqdm_notebook as tqdm\n",
    "\n",
    "from darkhistory.electrons.ics.ics_spectrum import ics_spec\n",
    "from darkhistory.electrons.ics.ics_engloss_spectrum import engloss_spec\n",
    "from darkhistory.electrons.ics.ics_cooling import get_ics_cooling_tf\n",
    "\n",
    "import darkhistory.low_energy.lowE_photons as lowE_photons\n",
    "import darkhistory.low_energy.lowE_electrons as lowE_electrons\n",
    "\n",
    "# np.set_printoptions(threshold=np.nan)"
   ]
  },
  {
   "cell_type": "markdown",
   "metadata": {},
   "source": [
    "## Photon Transfer Functions"
   ]
  },
  {
   "cell_type": "code",
   "execution_count": 20,
   "metadata": {},
   "outputs": [],
   "source": [
    "user = 'hongwan'\n",
    "\n",
    "highengphot_tflist_arr_raw = pickle.load(open(\"/Users/\"+user+\"/Dropbox (MIT)/Photon Deposition/tfunclist_photspec_60eV_complete_coarse.raw\", \"rb\"))\n",
    "lowengphot_tflist_arr_raw  = pickle.load(open(\"/Users/\"+user+\"/Dropbox (MIT)/Photon Deposition/tfunclist_lowengphotspec_60eV_complete_coarse.raw\", \"rb\"))\n",
    "lowengelec_tflist_arr_raw  = pickle.load(open(\"/Users/\"+user+\"/Dropbox (MIT)/Photon Deposition/tfunclist_lowengelecspec_60eV_complete_coarse.raw\", \"rb\"))\n",
    "CMB_engloss_raw = pickle.load(open(\"/Users/\"+user+\"/Dropbox (MIT)/Photon Deposition/CMB_engloss_60eV_complete_coarse.raw\", \"rb\"))"
   ]
  },
  {
   "cell_type": "code",
   "execution_count": 23,
   "metadata": {},
   "outputs": [],
   "source": [
    "xes = 0.5 + 0.5*np.tanh([-5., -4.1, -3.2, -2.3, -1.4, -0.5, 0.4, 1.3, 2.2, 3.1, 4])\n"
   ]
  },
  {
   "cell_type": "code",
   "execution_count": 58,
   "metadata": {},
   "outputs": [
    {
     "name": "stdout",
     "output_type": "stream",
     "text": [
      "[4.53978687e-05 2.74578156e-04 1.65880108e-03 9.95180187e-03\n",
      " 5.73241759e-02 2.68941421e-01 6.89974481e-01 9.30861580e-01\n",
      " 9.87871565e-01 9.97974680e-01 9.99664650e-01]\n",
      " "
     ]
    }
   ],
   "source": [
    "%%prun\n",
    "tf_interp = tflist.TransferFuncInterp(xes, highengphot_tflist_arr_raw)"
   ]
  },
  {
   "cell_type": "code",
   "execution_count": 60,
   "metadata": {},
   "outputs": [
    {
     "name": "stdout",
     "output_type": "stream",
     "text": [
      " "
     ]
    }
   ],
   "source": [
    "%%prun\n",
    "tf_interp.get_tf(300, 0.5)"
   ]
  },
  {
   "cell_type": "code",
   "execution_count": 7,
   "metadata": {},
   "outputs": [
    {
     "name": "stdout",
     "output_type": "stream",
     "text": [
      "(51, 325, 500)\n",
      "(51, 325, 500)\n",
      "<darkhistory.spec.transferfunction.TransFuncAtRedshift object at 0x1088b5908>\n",
      "(325, 500)\n"
     ]
    }
   ],
   "source": [
    "print(highengphot_tflist_arr_raw[0].grid_vals.shape)\n",
    "a = np.atleast_3d(\n",
    "                np.stack([tf.grid_vals for tf in highengphot_tflist_arr_raw[0]])\n",
    "            )\n",
    "print(a.shape)\n",
    "print(highengphot_tflist_arr_raw[0][0])\n",
    "print(highengphot_tflist_arr_raw[0][0].grid_vals.shape)"
   ]
  },
  {
   "cell_type": "code",
   "execution_count": 8,
   "metadata": {},
   "outputs": [
    {
     "name": "stdout",
     "output_type": "stream",
     "text": [
      "(51, 325, 500)\n",
      "(325, 51, 500)\n"
     ]
    }
   ],
   "source": [
    "b = highengphot_tflist_arr_raw[0]\n",
    "print(b.grid_vals.shape)\n",
    "b.transpose()\n",
    "print(b.grid_vals.shape)"
   ]
  },
  {
   "cell_type": "code",
   "execution_count": 9,
   "metadata": {},
   "outputs": [],
   "source": [
    "test1 = Spectrum(np.array([1,2]), np.array([3,4]), spec_type = 'N')\n",
    "test2 = Spectrum(np.array([1,2]), np.array([3,4]), spec_type = 'N')\n",
    "a = tf.TransFuncAtRedshift([test1, test2])"
   ]
  },
  {
   "cell_type": "code",
   "execution_count": 10,
   "metadata": {},
   "outputs": [
    {
     "data": {
      "text/plain": [
       "array([[3, 4],\n",
       "       [3, 4]])"
      ]
     },
     "execution_count": 10,
     "metadata": {},
     "output_type": "execute_result"
    }
   ],
   "source": [
    "a.grid_vals"
   ]
  },
  {
   "cell_type": "code",
   "execution_count": 16,
   "metadata": {},
   "outputs": [],
   "source": [
    "b = tf.TransFuncAtRedshift(np.array([[3,4,5], [3,4,5]]), eng = np.array([1,2,3]), in_eng = np.array([1, 2]))"
   ]
  },
  {
   "cell_type": "code",
   "execution_count": 17,
   "metadata": {},
   "outputs": [
    {
     "name": "stdout",
     "output_type": "stream",
     "text": [
      "[[3 4 5]\n",
      " [3 4 5]]\n",
      "[1 2 3]\n",
      "[1 2]\n",
      "[-1. -1.]\n",
      "[0 0]\n",
      "[0 0]\n"
     ]
    }
   ],
   "source": [
    "print(b.grid_vals)\n",
    "print(b.eng)\n",
    "print(b.in_eng)\n",
    "print(b.rs)\n",
    "print(b.N_underflow)\n",
    "print(b.eng_underflow)"
   ]
  },
  {
   "cell_type": "code",
   "execution_count": 18,
   "metadata": {},
   "outputs": [
    {
     "data": {
      "text/plain": [
       "3"
      ]
     },
     "execution_count": 18,
     "metadata": {},
     "output_type": "execute_result"
    }
   ],
   "source": [
    "b.eng.size"
   ]
  },
  {
   "cell_type": "code",
   "execution_count": null,
   "metadata": {},
   "outputs": [],
   "source": []
  }
 ],
 "metadata": {
  "kernelspec": {
   "display_name": "Python 3",
   "language": "python",
   "name": "python3"
  },
  "language_info": {
   "codemirror_mode": {
    "name": "ipython",
    "version": 3
   },
   "file_extension": ".py",
   "mimetype": "text/x-python",
   "name": "python",
   "nbconvert_exporter": "python",
   "pygments_lexer": "ipython3",
   "version": "3.6.5"
  }
 },
 "nbformat": 4,
 "nbformat_minor": 2
}
