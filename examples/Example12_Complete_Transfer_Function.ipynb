{
 "cells": [
  {
   "cell_type": "markdown",
   "metadata": {},
   "source": [
    "# Full Transfer Functions"
   ]
  },
  {
   "cell_type": "code",
   "execution_count": 1,
   "metadata": {},
   "outputs": [],
   "source": [
    "%load_ext autoreload\n",
    "import sys\n",
    "sys.path.append(\"..\")"
   ]
  },
  {
   "cell_type": "code",
   "execution_count": 2,
   "metadata": {},
   "outputs": [],
   "source": [
    "%autoreload\n",
    "\n",
    "import matplotlib\n",
    "matplotlib.rc_file('matplotlibrc')\n",
    "import matplotlib.pyplot as plt\n",
    "\n",
    "%matplotlib inline\n",
    "\n",
    "matplotlib.rcParams['figure.figsize'] = [10,10]\n",
    "\n",
    "\n",
    "from astropy.io import fits\n",
    "\n",
    "import numpy as np\n",
    "import copy\n",
    "import pickle\n",
    "\n",
    "import darkhistory.physics as phys\n",
    "import darkhistory.utilities as utils\n",
    "import darkhistory.spec.spectools as spectools\n",
    "import darkhistory.spec.transferfunction as tf\n",
    "import darkhistory.spec.transferfunclist as tflist\n",
    "from darkhistory.spec.spectrum import Spectrum\n",
    "from darkhistory.spec.spectra import Spectra\n",
    "import darkhistory.history.tla as tla\n",
    "\n",
    "from scipy.interpolate import interp1d\n",
    "\n",
    "from tqdm import tqdm_notebook as tqdm\n",
    "\n",
    "from darkhistory.electrons.ics.ics_spectrum import ics_spec\n",
    "from darkhistory.electrons.ics.ics_engloss_spectrum import engloss_spec\n",
    "from darkhistory.electrons.ics.ics_cooling import get_ics_cooling_tf\n",
    "\n",
    "import darkhistory.low_energy.lowE_photons as lowE_photons\n",
    "import darkhistory.low_energy.lowE_electrons as lowE_electrons\n",
    "\n",
    "# np.set_printoptions(threshold=np.nan)"
   ]
  },
  {
   "cell_type": "markdown",
   "metadata": {},
   "source": [
    "## Photon Transfer Functions"
   ]
  },
  {
   "cell_type": "code",
   "execution_count": 3,
   "metadata": {},
   "outputs": [],
   "source": [
    "user = 'hongwan'\n",
    "\n",
    "highengphot_tflist_arr_raw = pickle.load(open(\"/Users/\"+user+\"/Dropbox (MIT)/Photon Deposition/tfunclist_photspec_60eV_complete_coarse.raw\", \"rb\"))\n",
    "lowengphot_tflist_arr_raw  = pickle.load(open(\"/Users/\"+user+\"/Dropbox (MIT)/Photon Deposition/tfunclist_lowengphotspec_60eV_complete_coarse.raw\", \"rb\"))\n",
    "lowengelec_tflist_arr_raw  = pickle.load(open(\"/Users/\"+user+\"/Dropbox (MIT)/Photon Deposition/tfunclist_lowengelecspec_60eV_complete_coarse.raw\", \"rb\"))\n",
    "CMB_engloss_raw = pickle.load(open(\"/Users/\"+user+\"/Dropbox (MIT)/Photon Deposition/CMB_engloss_60eV_complete_coarse.raw\", \"rb\"))"
   ]
  },
  {
   "cell_type": "code",
   "execution_count": 4,
   "metadata": {},
   "outputs": [
    {
     "data": {
      "text/plain": [
       "array([2634.79908808, 2314.05541151, 2032.35702934, 1784.95081585,\n",
       "       1567.66226062, 1376.82503156, 1209.21911254, 1062.01647166,\n",
       "        932.73334369,  819.18832112,  719.46554715,  631.88238918,\n",
       "        554.9610476 ,  487.40362071,  428.07020512,  375.95966203,\n",
       "        330.19272489,  289.99716348,  254.69475396,  223.68983515,\n",
       "        196.45925789,  172.54355785,  151.53920296,  133.09178459,\n",
       "        116.89003755,  102.66058812,   90.16334132,   79.18742983,\n",
       "         69.54765596,   61.08136684,   53.64570988,   47.11522249,\n",
       "         41.37971508,   36.34241186,   31.91831787,   28.03278494,\n",
       "         24.62025207,   21.62313923,   18.99087584,   16.67904745,\n",
       "         14.64864634,   12.86541334,   11.29925978,    9.92375978,\n",
       "          8.71570441,    7.65471001,    6.72287432,    5.90447437,\n",
       "          5.18570123,    4.55442696,    4.        ])"
      ]
     },
     "execution_count": 4,
     "metadata": {},
     "output_type": "execute_result"
    }
   ],
   "source": [
    "highengphot_tflist_arr_raw[0].rs"
   ]
  },
  {
   "cell_type": "code",
   "execution_count": 5,
   "metadata": {},
   "outputs": [],
   "source": [
    "xes = 0.5 + 0.5*np.tanh([-5., -4.1, -3.2, -2.3, -1.4, -0.5, 0.4, 1.3, 2.2, 3.1, 4])\n"
   ]
  },
  {
   "cell_type": "code",
   "execution_count": 6,
   "metadata": {},
   "outputs": [
    {
     "name": "stdout",
     "output_type": "stream",
     "text": [
      "[   4.            4.55442696    5.18570123    5.90447437    6.72287432\n",
      "    7.65471001    8.71570441    9.92375978   11.29925978   12.86541334\n",
      "   14.64864634   16.67904745   18.99087584   21.62313923   24.62025207\n",
      "   28.03278494   31.91831787   36.34241186   41.37971508   47.11522249\n",
      "   53.64570988   61.08136684   69.54765596   79.18742983   90.16334132\n",
      "  102.66058812  116.89003755  133.09178459  151.53920296  172.54355785\n",
      "  196.45925789  223.68983515  254.69475396  289.99716348  330.19272489\n",
      "  375.95966203  428.07020512  487.40362071  554.9610476   631.88238918\n",
      "  719.46554715  819.18832112  932.73334369 1062.01647166 1209.21911254\n",
      " 1376.82503156 1567.66226062 1784.95081585 2032.35702934 2314.05541151\n",
      " 2634.79908808]\n"
     ]
    }
   ],
   "source": [
    "tf_interp = tflist.TransferFuncInterp(xes, highengphot_tflist_arr_raw)\n",
    "print(tf_interp.rs)"
   ]
  },
  {
   "cell_type": "code",
   "execution_count": 7,
   "metadata": {},
   "outputs": [
    {
     "name": "stdout",
     "output_type": "stream",
     "text": [
      "0\n",
      "1\n",
      "2\n",
      "3\n",
      "4\n",
      "5\n",
      "6\n",
      "7\n",
      "8\n",
      "9\n",
      "10\n",
      "11\n",
      "12\n",
      "13\n",
      "14\n",
      "15\n",
      "16\n",
      "17\n",
      "18\n",
      "19\n",
      "20\n",
      "21\n",
      "22\n",
      "23\n",
      "24\n",
      "25\n",
      "26\n",
      "27\n",
      "28\n",
      "29\n",
      "30\n",
      "31\n",
      "32\n",
      "33\n",
      "34\n",
      "35\n",
      "36\n",
      "37\n",
      "38\n",
      "39\n",
      "40\n",
      "41\n",
      "42\n",
      "43\n",
      "44\n",
      "45\n",
      "46\n",
      "47\n",
      "48\n",
      "49\n",
      "50\n",
      "51\n",
      "52\n",
      "53\n",
      "54\n",
      "55\n",
      "56\n",
      "57\n",
      "58\n",
      "59\n",
      "60\n",
      "61\n",
      "62\n",
      "63\n",
      "64\n",
      "65\n",
      "66\n",
      "67\n",
      "68\n",
      "69\n",
      "70\n",
      "71\n",
      "72\n",
      "73\n",
      "74\n",
      "75\n",
      "76\n",
      "77\n",
      "78\n",
      "79\n",
      "80\n",
      "81\n",
      "82\n",
      "83\n",
      "84\n",
      "85\n",
      "86\n",
      "87\n",
      "88\n",
      "89\n",
      "90\n",
      "91\n",
      "92\n",
      "93\n",
      "94\n",
      "95\n",
      "96\n",
      "97\n",
      "98\n",
      "99\n",
      " "
     ]
    }
   ],
   "source": [
    "%%prun\n",
    "for i in np.arange(100):\n",
    "    print(i)\n",
    "    tf_interp.get_tf(2000-i, 0.5)\n",
    "# print(tf_interp.rs)\n",
    "# tf_interp.get_tf(200,0.5)"
   ]
  },
  {
   "cell_type": "code",
   "execution_count": 8,
   "metadata": {},
   "outputs": [
    {
     "name": "stdout",
     "output_type": "stream",
     "text": [
      "(51, 325, 500)\n",
      "(51, 325, 500)\n",
      "<darkhistory.spec.transferfunction.TransFuncAtRedshift object at 0x1809533a58>\n",
      "(325, 500)\n"
     ]
    }
   ],
   "source": [
    "print(highengphot_tflist_arr_raw[0].grid_vals.shape)\n",
    "a = np.atleast_3d(\n",
    "                np.stack([tf.grid_vals for tf in highengphot_tflist_arr_raw[0]])\n",
    "            )\n",
    "print(a.shape)\n",
    "print(highengphot_tflist_arr_raw[0][0])\n",
    "print(highengphot_tflist_arr_raw[0][0].grid_vals.shape)"
   ]
  },
  {
   "cell_type": "code",
   "execution_count": 9,
   "metadata": {},
   "outputs": [
    {
     "name": "stdout",
     "output_type": "stream",
     "text": [
      "(51, 325, 500)\n",
      "(325, 51, 500)\n"
     ]
    }
   ],
   "source": [
    "b = highengphot_tflist_arr_raw[0]\n",
    "print(b.grid_vals.shape)\n",
    "b.transpose()\n",
    "print(b.grid_vals.shape)"
   ]
  },
  {
   "cell_type": "code",
   "execution_count": 10,
   "metadata": {},
   "outputs": [],
   "source": [
    "test1 = Spectrum(np.array([1,2]), np.array([3,4]), spec_type = 'N')\n",
    "test2 = Spectrum(np.array([1,2]), np.array([3,4]), spec_type = 'N')\n",
    "a = tf.TransFuncAtRedshift([test1, test2])"
   ]
  },
  {
   "cell_type": "code",
   "execution_count": 11,
   "metadata": {},
   "outputs": [
    {
     "data": {
      "text/plain": [
       "array([[3, 4],\n",
       "       [3, 4]])"
      ]
     },
     "execution_count": 11,
     "metadata": {},
     "output_type": "execute_result"
    }
   ],
   "source": [
    "a.grid_vals"
   ]
  },
  {
   "cell_type": "code",
   "execution_count": 12,
   "metadata": {},
   "outputs": [],
   "source": [
    "b = tf.TransFuncAtRedshift(np.array([[3,4,5], [3,4,5]]), eng = np.array([1,2,3]), in_eng = np.array([1, 2]))"
   ]
  },
  {
   "cell_type": "code",
   "execution_count": null,
   "metadata": {},
   "outputs": [],
   "source": []
  }
 ],
 "metadata": {
  "kernelspec": {
   "display_name": "Python 3",
   "language": "python",
   "name": "python3"
  },
  "language_info": {
   "codemirror_mode": {
    "name": "ipython",
    "version": 3
   },
   "file_extension": ".py",
   "mimetype": "text/x-python",
   "name": "python",
   "nbconvert_exporter": "python",
   "pygments_lexer": "ipython3",
   "version": "3.6.5"
  }
 },
 "nbformat": 4,
 "nbformat_minor": 2
}
