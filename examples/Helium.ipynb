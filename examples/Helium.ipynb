{
 "cells": [
  {
   "cell_type": "code",
   "execution_count": 4,
   "metadata": {},
   "outputs": [
    {
     "name": "stdout",
     "output_type": "stream",
     "text": [
      "The autoreload extension is already loaded. To reload it, use:\n",
      "  %reload_ext autoreload\n"
     ]
    }
   ],
   "source": [
    "%load_ext autoreload\n",
    "import sys\n",
    "sys.path.append(\"..\")"
   ]
  },
  {
   "cell_type": "markdown",
   "metadata": {},
   "source": [
    "# Helium"
   ]
  },
  {
   "cell_type": "code",
   "execution_count": 5,
   "metadata": {},
   "outputs": [],
   "source": [
    "%autoreload\n",
    "\n",
    "import numpy as np\n",
    "\n",
    "import darkhistory.physics as phys"
   ]
  },
  {
   "cell_type": "markdown",
   "metadata": {},
   "source": [
    "## TLA with Helium"
   ]
  },
  {
   "cell_type": "markdown",
   "metadata": {},
   "source": [
    "The TLA with helium looks like the following set of equations (from astro-ph/9909275):\n",
    "\n",
    "$$ \\frac{dx_\\text{p}}{dz} = \\mathcal{C}_\\text{H} \\left(x_\\text{e} x_\\text{p} n_\\text{H} \\alpha_\\text{H} - \\beta_\\text{H} (1 - x_p) e^{- \\nu_{\\text{H} 2s} / T_M} \\right)$$\n",
    "\n",
    "$$ \\frac{dx_\\text{HeII}}{dz} = \\mathcal{C}_\\text{He} \\left( \n",
    "    x_e x_\\text{HeII} n_\\text{H} \\alpha_\\text{HeI} - \\beta_\\text{HeI} \\left( f_\\text{He} - x_\\text{HeII} \\right) e^{- \\nu_{\\text{HeI 2}^1s} / T_M} \\right) $$\n",
    "    \n",
    "where\n",
    "\n",
    "$$\\mathcal{C}_\\text{H} = \\frac{1 + K_\\text{H} \\Lambda_\\text{H} n_\\text{H} (1 - x_p)}{H(z) (1+z) \\left( 1 + K_\\text{H} (\\Lambda_\\text{H} + \\beta_\\text{H}) n_\\text{H} (1 - x_p) \\right)} $$\n",
    "\n",
    "and similarly\n",
    "\n",
    "$$\\mathcal{C}_\\text{He} = \\frac{1 + K_\\text{HeI} \\Lambda_\\text{He} n_\\text{H} \\left(f_\\text{He} - x_\\text{HeII} \\right) e^{-\\nu_\\text{ps}/T_M}}{H(z) (1+z) \\left( 1 + K_\\text{HeI} (\\Lambda_\\text{He} + \\beta_\\text{HeI}) n_\\text{H} (f_\\text{He} - x_\\text{HeII}) e^{- \\nu_\\text{ps}/T_M} \\right)} $$\n",
    "\n",
    "$\\mathcal{C}_\\text{H}$ should be the Peebles-C factor that we already have (we will check this numerically below), while $\\mathcal{C}_\\text{He}$ is the equivalent factor for helium.\n",
    "\n",
    "Let's try to obtain the solution to these equations, together with the usual temperature evolution equations."
   ]
  },
  {
   "cell_type": "code",
   "execution_count": 32,
   "metadata": {},
   "outputs": [],
   "source": [
    "def C_H(rs, xp, T_m):\n",
    "    lambda_H_2p = 2*np.pi*phys.hbar*phys.c/phys.lya_eng\n",
    "    K_H = lambda_H_2p**3/(8*np.pi*phys.hubble(rs))\n",
    "    Lambda_H = 8.22458\n",
    "    \n",
    "    numer = 1 + K_H*Lambda_H*phys.nH*rs**3*(1 - xp)\n",
    "    denom = numer + K_H*4*phys.beta_ion(phys.TCMB(rs))*phys.nH*rs**3\n",
    "    \n",
    "    return numer/denom/(phys.hubble(rs)*rs)\n",
    "\n",
    "\n",
    "def dxp_dz(xp, xe, rs, T_m):\n",
    "    \n",
    "    return C_H(xp, rs) * (\n",
    "        xe*xp*phys.nH*rs**3*alpha_H \n",
    "        - beta_H(1 - xp)*np.exp(-nu_H_2s/T_m)\n",
    "    )"
   ]
  },
  {
   "cell_type": "code",
   "execution_count": 35,
   "metadata": {},
   "outputs": [
    {
     "name": "stdout",
     "output_type": "stream",
     "text": [
      "3.8988609133958407\n",
      "3.90127920708969\n"
     ]
    }
   ],
   "source": [
    "rs = 7000\n",
    "xp = 0.5\n",
    "T_m = 0.003\n",
    "\n",
    "print(C_H(rs, xp, T_m))\n",
    "print(phys.peebles_C(xp, rs)/phys.hubble(rs)/rs)"
   ]
  },
  {
   "cell_type": "code",
   "execution_count": null,
   "metadata": {},
   "outputs": [],
   "source": []
  }
 ],
 "metadata": {
  "kernelspec": {
   "display_name": "Python 3",
   "language": "python",
   "name": "python3"
  },
  "language_info": {
   "codemirror_mode": {
    "name": "ipython",
    "version": 3
   },
   "file_extension": ".py",
   "mimetype": "text/x-python",
   "name": "python",
   "nbconvert_exporter": "python",
   "pygments_lexer": "ipython3",
   "version": "3.6.7"
  },
  "toc": {
   "base_numbering": 1,
   "nav_menu": {},
   "number_sections": true,
   "sideBar": true,
   "skip_h1_title": false,
   "title_cell": "Table of Contents",
   "title_sidebar": "Contents",
   "toc_cell": false,
   "toc_position": {},
   "toc_section_display": true,
   "toc_window_display": false
  }
 },
 "nbformat": 4,
 "nbformat_minor": 2
}
