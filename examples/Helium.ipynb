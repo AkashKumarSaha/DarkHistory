{
 "cells": [
  {
   "cell_type": "code",
   "execution_count": 4,
   "metadata": {},
   "outputs": [
    {
     "name": "stdout",
     "output_type": "stream",
     "text": [
      "The autoreload extension is already loaded. To reload it, use:\n",
      "  %reload_ext autoreload\n"
     ]
    }
   ],
   "source": [
    "%load_ext autoreload\n",
    "import sys\n",
    "sys.path.append(\"..\")"
   ]
  },
  {
   "cell_type": "markdown",
   "metadata": {},
   "source": [
    "# Helium"
   ]
  },
  {
   "cell_type": "code",
   "execution_count": 112,
   "metadata": {},
   "outputs": [],
   "source": [
    "%autoreload\n",
    "\n",
    "import numpy as np\n",
    "\n",
    "import matplotlib\n",
    "matplotlib.rc_file('matplotlibrc')\n",
    "import matplotlib.pyplot as plt\n",
    "\n",
    "%matplotlib inline\n",
    "\n",
    "matplotlib.rcParams['figure.figsize'] = [10,10]\n",
    "\n",
    "\n",
    "import darkhistory.physics as phys\n",
    "import darkhistory.history.tla as tla"
   ]
  },
  {
   "cell_type": "markdown",
   "metadata": {},
   "source": [
    "## TLA with Helium"
   ]
  },
  {
   "cell_type": "markdown",
   "metadata": {},
   "source": [
    "The TLA with helium looks like the following set of equations (from astro-ph/9909275):\n",
    "\n",
    "$$ \\frac{dx_\\text{p}}{dz} = \\mathcal{C}_\\text{H} \\left(x_\\text{e} x_\\text{p} n_\\text{H} \\alpha_\\text{H} - \\beta_\\text{H} (1 - x_p) e^{- \\nu_{\\text{H} 2s} / T_M} \\right)$$\n",
    "\n",
    "$$ \\frac{dx_\\text{HeII}}{dz} = \\mathcal{C}_\\text{He} \\left( \n",
    "    x_e x_\\text{HeII} n_\\text{H} \\alpha_\\text{HeI} - \\beta_\\text{HeI} \\left( f_\\text{He} - x_\\text{HeII} \\right) e^{- \\nu_{\\text{HeI 2}^1s} / T_M} \\right) $$\n",
    "    \n",
    "where\n",
    "\n",
    "$$\\mathcal{C}_\\text{H} = \\frac{1 + K_\\text{H} \\Lambda_\\text{H} n_\\text{H} (1 - x_p)}{H(z) (1+z) \\left( 1 + K_\\text{H} (\\Lambda_\\text{H} + \\beta_\\text{H}) n_\\text{H} (1 - x_p) \\right)} $$\n",
    "\n",
    "and similarly\n",
    "\n",
    "$$\\mathcal{C}_\\text{He} = \\frac{1 + K_\\text{HeI} \\Lambda_\\text{He} n_\\text{H} \\left(f_\\text{He} - x_\\text{HeII} \\right) e^{-\\nu_\\text{ps}/T_M}}{H(z) (1+z) \\left( 1 + K_\\text{HeI} (\\Lambda_\\text{He} + \\beta_\\text{HeI}) n_\\text{H} (f_\\text{He} - x_\\text{HeII}) e^{- \\nu_\\text{ps}/T_M} \\right)} $$\n",
    "\n",
    "$\\mathcal{C}_\\text{H}$ should be the Peebles-C factor that we already have (we will check this numerically below), while $\\mathcal{C}_\\text{He}$ is the equivalent factor for helium.\n",
    "\n",
    "Let's try to obtain the solution to these equations, together with the usual temperature evolution equations."
   ]
  },
  {
   "cell_type": "markdown",
   "metadata": {},
   "source": [
    "First, let's check that our Peebles-C factor expressions are the same. Note that there is a factor of 4 difference in our definition of $\\beta$, and also the factor of $H(z) (1+z)$ which converts between $dz$ and $dt$. Also, $\\beta$ should be evaluated at $T_R$ as per the HyREC paper. "
   ]
  },
  {
   "cell_type": "code",
   "execution_count": 47,
   "metadata": {},
   "outputs": [
    {
     "name": "stdout",
     "output_type": "stream",
     "text": [
      "1.2315492752071337e-07\n",
      "1.2323606634309205e-07\n"
     ]
    }
   ],
   "source": [
    "def C_H(rs, xp, T_m):\n",
    "    lambda_H_2p = 2*np.pi*phys.hbar*phys.c/phys.lya_eng\n",
    "    K_H = lambda_H_2p**3/(8*np.pi*phys.hubble(rs))\n",
    "    Lambda_H = 8.22458\n",
    "    \n",
    "    numer = 1 + K_H*Lambda_H*phys.nH*rs**3*(1 - xp)\n",
    "    denom = numer + K_H*4*(1-xp)*phys.beta_ion(phys.TCMB(rs))*phys.nH*rs**3\n",
    "    \n",
    "    return numer/denom/(phys.hubble(rs)*rs)\n",
    "\n",
    "\n",
    "rs = 700000\n",
    "xp = 0\n",
    "T_m = 3\n",
    "# Should be equal.\n",
    "print(C_H(rs, xp, T_m))\n",
    "print(phys.peebles_C(xp, rs)/phys.hubble(rs)/rs)"
   ]
  },
  {
   "cell_type": "markdown",
   "metadata": {},
   "source": [
    "This check confirms that we can use the same code as in `physics` and `tla` to solve for the hydrogen part of recombination, as well as the temperature evolution of course. We now need to code up the helium side of things."
   ]
  },
  {
   "cell_type": "code",
   "execution_count": 91,
   "metadata": {},
   "outputs": [],
   "source": [
    "def alpha_HeI_recomb(T_m):\n",
    "    \n",
    "    q = 10**-16.744\n",
    "    p = 0.711\n",
    "    T_1 = 10**5.114 * phys.kB # in eV\n",
    "    T_2 = 3. * phys.kB # in eV\n",
    "    \n",
    "    # in cm^3 s^-1\n",
    "    return 1e6*q/(\n",
    "        np.sqrt(T_m/T_2)\n",
    "        *(1 + np.sqrt(T_m/T_2))**(1-p)\n",
    "        *(1 + np.sqrt(T_m/T_1))**(1+p) \n",
    "    )\n",
    "\n",
    "def beta_HeI_ion(T_rad):\n",
    "    # multiply by 4 to get agreement with RECFAST.\n",
    "    reduced_mass = phys.mp*phys.me/(phys.mp + phys.me)\n",
    "    de_broglie_wavelength = (\n",
    "        phys.c * 2*np.pi*phys.hbar\n",
    "        / np.sqrt(2 * np.pi * reduced_mass * T_rad)\n",
    "    )\n",
    "    \n",
    "    E2s = phys.He_ion_eng - 2*np.pi*phys.hbar*phys.c/60.1404e-7\n",
    "    \n",
    "    return (\n",
    "        (1/de_broglie_wavelength)**3/4\n",
    "        * np.exp(-E2s/T_rad) * alpha_HeI_recomb(T_rad)\n",
    "    )\n",
    "    \n",
    "\n",
    "def C_He(rs, xHeII, T_m):\n",
    "    \n",
    "    lambda_HeI_2_1p = 58.4334e-7\n",
    "    \n",
    "    Lambda_He = 51.3\n",
    "    \n",
    "    f_He = phys.nHe/phys.nH\n",
    "    \n",
    "    K_HeI = lambda_HeI_2_1p**3/(8*np.pi*phys.hubble(rs))\n",
    "    \n",
    "    E_ps = 2*np.pi*phys.hbar*(\n",
    "        phys.c/58.4334e-7 - phys.c/60.1404e-7\n",
    "    )\n",
    "    \n",
    "    numer = 1 + K_HeI*Lambda_He*phys.nH*rs**3*(f_He - xHeII)*np.exp(-E_ps/T_m)\n",
    "    denom = numer + K_HeI*4*beta_HeI_ion(phys.TCMB(rs))*phys.nH*rs**3*(f_He - xHeII)*np.exp(-E_ps/T_m)\n",
    "    \n",
    "    return numer/denom\n",
    "    \n",
    "    "
   ]
  },
  {
   "cell_type": "markdown",
   "metadata": {},
   "source": [
    "Now for the equivalent of `get_history`. "
   ]
  },
  {
   "cell_type": "code",
   "execution_count": 162,
   "metadata": {},
   "outputs": [],
   "source": [
    "from scipy.integrate import odeint\n",
    "\n",
    "def compton_cooling_rate(xHII, xHeII, xHeIII, T_m, rs):\n",
    "\n",
    "    xe = xHII + xHeII + 2*xHeIII\n",
    "\n",
    "    return (\n",
    "        4 * phys.thomson_xsec * 4 * phys.stefboltz / phys.me\n",
    "        * xe * phys.nH*rs**3 * (phys.TCMB(rs) - T_m)\n",
    "        * phys.TCMB(rs)**4\n",
    "    )\n",
    "\n",
    "def get_history_He(\n",
    "    init_cond, f_H_ion_in, f_H_exc_in, f_heating_in, \n",
    "    dm_injection_rate_in, rs_vec, mxstep = 0\n",
    "):\n",
    "\n",
    "    def f_H_ion(rs, xHI, xHeI, xHeII):\n",
    "        if isinstance(f_H_ion_in, float):\n",
    "            return f_H_ion_in\n",
    "        elif callable(f_H_ion_in):\n",
    "            return f_H_ion_in(rs, xHI, xHeI, xHeII)\n",
    "        else:\n",
    "            raise TypeError('f_H_ion_in must be float or an appropriate function.')\n",
    "\n",
    "    def f_H_exc(rs, xHI, xHeI, xHeII):\n",
    "        if isinstance(f_H_exc_in, float):\n",
    "            return f_H_exc_in\n",
    "        elif callable(f_H_exc_in):\n",
    "            return f_H_exc_in(rs, xHI, xHeI, xHeII)\n",
    "        else:\n",
    "            raise TypeError('f_H_exc_in must be float or an appropriate function.')\n",
    "\n",
    "    def f_heating(rs, xHI, xHeI, xHeII):\n",
    "        if isinstance(f_heating_in, float):\n",
    "            return f_heating_in\n",
    "        elif callable(f_heating_in):\n",
    "            return f_heating_in(rs, xHI, xHeI, xHeII)\n",
    "        else:\n",
    "            raise TypeError('f_heating_in must be float or an appropriate function.')\n",
    "\n",
    "    def dm_injection_rate(rs):\n",
    "        if isinstance(dm_injection_rate_in, float):\n",
    "            return dm_injection_rate_in\n",
    "        elif callable(dm_injection_rate_in):\n",
    "            return dm_injection_rate_in(rs)\n",
    "        else:\n",
    "            raise TypeError('dm_injection_rate_in must be a float or an appropriate function.')\n",
    "            \n",
    "    chi = phys.nHe/phys.nH\n",
    "    \n",
    "    def xHII(yHII):\n",
    "            return 0.5 + 0.5*np.tanh(yHII)\n",
    "    def xHeII(yHeII):\n",
    "        return chi/2 + chi/2*np.tanh(yHeII)\n",
    "    def xHeIII(yHeIII):\n",
    "        return chi/2 + chi/2*np.tanh(yHeIII)\n",
    "    \n",
    "    def tla(var, rs):\n",
    "\n",
    "        def dT_dz(yHII, yHeII, yHeIII, T_m, rs):\n",
    "\n",
    "            xe = xHII(yHII) + xHeII(yHeII) + 2*xHeIII(yHeIII)\n",
    "            xHI = 1 - xHII(yHII)\n",
    "            xHeI = chi - xHeII(yHeII) - xHeIII(yHeIII)\n",
    "\n",
    "            # This rate is temperature loss per redshift.\n",
    "            adiabatic_cooling_rate = 2 * T_m/rs\n",
    "\n",
    "            return adiabatic_cooling_rate + (\n",
    "                - phys.dtdz(rs)*(\n",
    "                    compton_cooling_rate(\n",
    "                        xHII(yHII), xHeII(yHeII), xHeIII(yHeIII), T_m, rs\n",
    "                    )\n",
    "                    + f_heating(rs, xHI, xHeI, xHeII(yHeII)) * dm_injection_rate(rs)\n",
    "                )\n",
    "            )/ (3/2 * phys.nH*rs**3 * (1 + chi + xe))\n",
    "\n",
    "        def dyHII_dz(yHII, yHeII, yHeIII, T_m, rs):\n",
    "\n",
    "            if 1 - xHII(yHII) < 1e-6 and rs < 100:\n",
    "                # At this point, leave at 1 - 1e-6\n",
    "                return 0\n",
    "\n",
    "            xe = xHII(yHII) + xHeII(yHeII) + 2*xHeIII(yHeIII)\n",
    "            ne = xe * phys.nH*rs**3\n",
    "            xHI = 1 - xHII(yHII)\n",
    "            xHeI = chi - xHeII(yHeII) - xHeIII(yHeIII)\n",
    "\n",
    "            return 2 * np.cosh(yHII)**2 * -phys.dtdz(rs) * (\n",
    "                # Recombination processes\n",
    "                - phys.peebles_C(xHII(yHII), rs) * (\n",
    "                    phys.alpha_recomb(T_m) * xHII(yHII)*xe * phys.nH * rs**3\n",
    "                    - phys.beta_ion(phys.TCMB(rs)) * xHI\n",
    "                        * np.exp(-phys.lya_eng/T_m)\n",
    "                )\n",
    "                # DM injection. Note that C = 1 at late times.\n",
    "                + f_H_ion(rs, xHI, xHeI, xHeII(yHeII)) * dm_injection_rate(rs)\n",
    "                    / (phys.rydberg * phys.nH * rs**3)\n",
    "                + (1 - phys.peebles_C(xHII(yHII), rs)) * (\n",
    "                    f_H_exc(rs, xHI, xHeI, xHeII(yHeII)) * dm_injection_rate(rs)\n",
    "                    / (phys.lya_eng * phys.nH * rs**3)\n",
    "                )\n",
    "            )\n",
    "\n",
    "        def dyHeII_dz(yHII, yHeII, yHeIII, T_m, rs):\n",
    "\n",
    "            E_HeI21s = 2*np.pi*phys.hbar*phys.c/60.1404e-7\n",
    "\n",
    "            if 1 - xHII(yHII) < 1e-6 and rs < 100:\n",
    "                # At this point, leave at 1 - 1e-6\n",
    "                return 0\n",
    "\n",
    "            xe = xHII(yHII) + xHeII(yHeII) + 2*xHeIII(yHeIII)\n",
    "            ne = xe * phys.nH*rs**3\n",
    "            xHeI = chi - xHeII(yHeII) - xHeIII(yHeIII)\n",
    "            \n",
    "\n",
    "            return 2 * np.cosh(yHeII)**2 * -phys.dtdz(rs) * (\n",
    "                -C_He(rs, xHeII(yHeII), T_m) * (\n",
    "                    alpha_HeI_recomb(T_m) * xHeII(yHeII)*xe * phys.nH * rs**3\n",
    "                    - beta_HeI_ion(phys.TCMB(rs)) * (chi - xHeII(yHeII))\n",
    "                    *np.exp(-E_HeI21s/T_m)\n",
    "                )\n",
    "            )\n",
    "\n",
    "        def dyHeIII_dz(yHII, yHeII, yHeIII, T_m, rs):\n",
    "\n",
    "            if 1 - xHII(yHII) < 1e-6 and rs < 100:\n",
    "                # At this point, leave at 1 - 1e-6\n",
    "                return 0\n",
    "\n",
    "            xe = xHII(yHII) + xHeII(yHeII) + 2*xHeIII(yHeIII)\n",
    "            ne = xe * phys.nH*rs**3\n",
    "\n",
    "            return 0\n",
    "\n",
    "        T_m, yHII, yHeII, yHeIII = var[0], var[1], var[2], var[3]\n",
    "        \n",
    "        return [\n",
    "            dT_dz(yHII, yHeII, yHeIII, T_m, rs),\n",
    "            dyHII_dz(yHII, yHeII, yHeIII, T_m, rs),\n",
    "            dyHeII_dz(yHII, yHeII, yHeIII, T_m, rs),\n",
    "            dyHeIII_dz(yHII, yHeII, yHeIII, T_m, rs)\n",
    "        ]\n",
    "\n",
    "    if init_cond[1] == 1:\n",
    "        init_cond[1] = 1 - 1e-12\n",
    "    if init_cond[2] == 0:\n",
    "        init_cond[2] = 1e-12\n",
    "    elif init_cond[2] == phys.nHe/phys.nH:\n",
    "        init_cond[2] = phys.nHe/phys.nH - 1e-4\n",
    "    if init_cond[3] == 0:\n",
    "        init_cond[3] = 1e-12\n",
    "\n",
    "    init_cond[1] = np.arctanh(2*(init_cond[1] - 0.5))\n",
    "    init_cond[2] = np.arctanh(2/chi * (init_cond[2] - chi/2))\n",
    "    init_cond[3] = np.arctanh(2/chi *(init_cond[3] - chi/2))\n",
    "\n",
    "    soln = odeint(\n",
    "        tla, init_cond, rs_vec, mxstep = mxstep\n",
    "    )\n",
    "    \n",
    "    soln[:,1] = 0.5 + 0.5*np.tanh(soln[:,1])\n",
    "    soln[:,2] = (\n",
    "        chi/2 + chi/2*np.tanh(soln[:,2])\n",
    "    )\n",
    "    soln[:,3] = (\n",
    "        chi/2 + chi/2*np.tanh(soln[:,3])\n",
    "    )\n",
    "\n",
    "    return soln\n"
   ]
  },
  {
   "cell_type": "code",
   "execution_count": 163,
   "metadata": {},
   "outputs": [],
   "source": [
    "rs_vec_std = np.flipud(1 + np.arange(3000))\n",
    "init_cond = [phys.TCMB(3000), 1., phys.nHe/phys.nH, 0]\n",
    "\n",
    "soln = get_history_He(init_cond, 0., 0., 0., 0., rs_vec_std, mxstep=0)\n",
    "rs_vec_std = np.flipud(1 + np.arange(3000))\n",
    "init_cond = [phys.TCMB(3000), 1., phys.nHe/phys.nH*0, 0]\n",
    "soln_DH = tla.get_history(init_cond, 0., 0., 0., 0., rs_vec_std, reion_switch=False)\n",
    "\n"
   ]
  },
  {
   "cell_type": "code",
   "execution_count": 173,
   "metadata": {},
   "outputs": [
    {
     "data": {
      "text/plain": [
       "[1000, 3000, 0.1, 1.25]"
      ]
     },
     "execution_count": 173,
     "metadata": {},
     "output_type": "execute_result"
    },
    {
     "data": {
      "image/png": "[encoded data removed]",
      "text/plain": [
       "<Figure size 720x720 with 1 Axes>"
      ]
     },
     "metadata": {
      "needs_background": "light"
     },
     "output_type": "display_data"
    }
   ],
   "source": [
    "plt.figure()\n",
    "\n",
    "# plt.loglog()\n",
    "\n",
    "plt.plot(rs_vec_std, soln[:,1])\n",
    "# plt.plot(rs_vec_std, soln[:,2]*phys.nH/phys.nHe)\n",
    "plt.plot(rs_vec_std, soln[:,1] + soln[:,2])\n",
    "# plt.plot(rs_vec_std, soln_DH[:,1])\n",
    "\n",
    "plt.xlabel(r'Redshift $(1+z)$')\n",
    "plt.ylabel(r'$x_\\mathrm{HII}$, $x_e$')\n",
    "\n",
    "plt.axis([1000, 3000, .1, 1.25])"
   ]
  },
  {
   "cell_type": "code",
   "execution_count": 128,
   "metadata": {},
   "outputs": [
    {
     "data": {
      "text/plain": [
       "array([0.70446773,        nan,        nan, ...,        nan,        nan,\n",
       "              nan])"
      ]
     },
     "execution_count": 128,
     "metadata": {},
     "output_type": "execute_result"
    }
   ],
   "source": [
    "soln_DH[:,0]"
   ]
  },
  {
   "cell_type": "code",
   "execution_count": null,
   "metadata": {},
   "outputs": [],
   "source": []
  }
 ],
 "metadata": {
  "kernelspec": {
   "display_name": "Python 3",
   "language": "python",
   "name": "python3"
  },
  "language_info": {
   "codemirror_mode": {
    "name": "ipython",
    "version": 3
   },
   "file_extension": ".py",
   "mimetype": "text/x-python",
   "name": "python",
   "nbconvert_exporter": "python",
   "pygments_lexer": "ipython3",
   "version": "3.6.7"
  },
  "toc": {
   "base_numbering": 1,
   "nav_menu": {},
   "number_sections": true,
   "sideBar": true,
   "skip_h1_title": false,
   "title_cell": "Table of Contents",
   "title_sidebar": "Contents",
   "toc_cell": false,
   "toc_position": {},
   "toc_section_display": true,
   "toc_window_display": false
  }
 },
 "nbformat": 4,
 "nbformat_minor": 2
}
