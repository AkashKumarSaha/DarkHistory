{
 "cells": [
  {
   "cell_type": "markdown",
   "metadata": {},
   "source": [
    "# Ex 2: Manipulating Spectra Part 2 - `Spectra`"
   ]
  },
  {
   "cell_type": "markdown",
   "metadata": {},
   "source": [
    "## Notebook Initialization"
   ]
  },
  {
   "cell_type": "code",
   "execution_count": 1,
   "metadata": {
    "collapsed": true
   },
   "outputs": [],
   "source": [
    "%load_ext autoreload\n",
    "import sys\n",
    "sys.path.append(\"..\")"
   ]
  },
  {
   "cell_type": "code",
   "execution_count": 94,
   "metadata": {
    "collapsed": false
   },
   "outputs": [],
   "source": [
    "%autoreload\n",
    "%matplotlib inline\n",
    "\n",
    "import matplotlib\n",
    "import matplotlib.pyplot as plt\n",
    "\n",
    "matplotlib.rcParams['figure.figsize'] = [10,10]\n",
    "\n",
    "import numpy as np\n",
    "from scipy.integrate import quad\n",
    "\n",
    "import darkhistory.physics as physics\n",
    "import darkhistory.spec.spectools as spectools\n",
    "from darkhistory.spec.spectrum import Spectrum\n",
    "from darkhistory.spec.spectra import Spectra"
   ]
  },
  {
   "cell_type": "markdown",
   "metadata": {},
   "source": [
    "## `Spectra` Class - Introduction"
   ]
  },
  {
   "cell_type": "markdown",
   "metadata": {},
   "source": [
    "The `Spectra` class is simply a collection of `Spectrum` objects. The main use of `Spectra` is as a list of spectra produced by the same process at different redshifts. It is the parent class of `TransFuncAtEnergy` and `TransFuncAtRedshift`, which are useful classes for transfer functions described in a later example. \n",
    "\n",
    "To demonstrate how to use this class, consider the photon spectrum produced by a massive dark matter particle $\\phi$ decaying into an electron pair from a two-body decay + FSR process, given approximately by (see Essig et al. 1309.4091):\n",
    "\n",
    "$$ \\frac{dN_{\\phi \\to e^+ e^- \\gamma}}{dE} \\simeq \\frac{2\\alpha_{\\text{EM}}}{\\pi E_\\gamma} \\left[1 - \\frac{2E_\\gamma}{m_\\phi} + \\left(1 - \\frac{2E_\\gamma}{m_\\phi} + \\frac{2E_\\gamma^2}{m_\\phi^2} \\right) \\log \\left( \\frac{1 - 2E_\\gamma/m_\\phi}{m_e^2/m_\\phi^2} \\right) \\right] $$\n",
    "\n",
    "with $0 < E_\\gamma < m_\\phi/2$. This spectrum is per decay. For simplicity, we consider this process during the cosmic dark ages, where the dark matter density was uniform, and that the branching ratio into this process is 100%. We will also not concern ourselves with the overall normalization of this spectrum. \n",
    "\n",
    "We will again use `spec.spectools.discretize` to create `Spectrum` objects from this analytic spectrum, taking $m_\\phi = $ 2 TeV. First, let's produce one spectrum and check it against the analytic expression. We will use a highly non-uniform binning to capture the threshold behavior near $E_\\gamma = m_\\phi/2$. "
   ]
  },
  {
   "cell_type": "code",
   "execution_count": 9,
   "metadata": {
    "collapsed": true
   },
   "outputs": [],
   "source": [
    "def phi_decay_FSR(eng):\n",
    "    m_phi = 2000\n",
    "    m_e = 0.511e-3\n",
    "    r = eng/m_phi\n",
    "    r_e = m_e/m_phi\n",
    "    if eng < m_phi/2:\n",
    "        return (\n",
    "            (2/137)/(np.pi*eng)*(1 - 2*r + (1 - 2*r + 2*r**2))\n",
    "            *np.log((1 - 2*r)/r_e**2)\n",
    "        )\n",
    "    else: \n",
    "        return 0\n",
    "\n",
    "eng = 1000-10**np.arange(-7,3,0.005)\n",
    "eng = eng[::-1]\n",
    "discrete_FSR = spectools.discretize(phi_decay_FSR, eng)"
   ]
  },
  {
   "cell_type": "code",
   "execution_count": 10,
   "metadata": {
    "collapsed": false
   },
   "outputs": [
    {
     "data": {
      "text/plain": [
       "[100.0, 2000.0, 1e-06, 1]"
      ]
     },
     "execution_count": 10,
     "metadata": {},
     "output_type": "execute_result"
    },
    {
     "data": {
      "image/png": "[encoded data removed]",
      "text/plain": [
       "<matplotlib.figure.Figure at 0x1104326a0>"
      ]
     },
     "metadata": {},
     "output_type": "display_data"
    }
   ],
   "source": [
    "ax = plt.subplot(1,1,1)\n",
    "plt.rc('text', usetex=True)\n",
    "\n",
    "discrete_spec, = plt.plot(\n",
    "    discrete_FSR.eng, discrete_FSR.dNdE, label='Discrete Spectrum'\n",
    ")\n",
    "\n",
    "eng_analytic = np.array([120, 200, 300, 500, \n",
    "                         900, 990, 999.99, 999.99999999])\n",
    "dNdE_analytic = np.array([phi_decay_FSR(eng) for eng in eng_analytic])\n",
    "\n",
    "analytic_spec, = plt.plot(\n",
    "    eng_analytic, dNdE_analytic, 'go', marker='o', markersize='10', \n",
    "    markerfacecolor='w',\n",
    "    label='Analytic Spectrum'\n",
    ")\n",
    "\n",
    "plt.legend(handles=[discrete_spec, analytic_spec], \n",
    "           fontsize=24)\n",
    "\n",
    "ax.set_xscale('log')\n",
    "ax.set_yscale('log')\n",
    "\n",
    "plt.tick_params(axis='both', which='major', labelsize=20)\n",
    "\n",
    "plt.title('FSR Spectrum', fontsize=28)\n",
    "plt.xlabel('Photon Energy [GeV]',fontsize=24)\n",
    "plt.ylabel('dN/dE [GeV$^{-1}$]',fontsize=24)\n",
    "plt.axis([1e2, 2e3, 1e-6, 1])"
   ]
  },
  {
   "cell_type": "markdown",
   "metadata": {},
   "source": [
    "To create a `Spectra` object, we first create a list of `Spectrum` objects before calling the constructor. Here, we pass a list containing a single element at $1+z = 1000$, and then append `Spectrum` objects to the `Spectra` using `self.append`. We will append the same spectrum to it repeatedly, but with different redshifts `rs` and normalized by `1000/rs**3` so that we are now storing $dN/(dE \\, dV)$: DM decays are diluted by a factor of `rs**3` as the universe expands."
   ]
  },
  {
   "cell_type": "code",
   "execution_count": 95,
   "metadata": {
    "collapsed": false
   },
   "outputs": [
    {
     "name": "stdout",
     "output_type": "stream",
     "text": [
      "am i here for append?\n",
      "[1000]\n",
      "[1000]\n",
      "huh???\n",
      "here!\n",
      "am i here for append?\n",
      "[ 1000.   500.]\n",
      "[ 1000.   500.]\n",
      "<class 'darkhistory.spec.spectra.Spectra._List'>\n",
      "huh???\n",
      "here!\n",
      "am i here for append?\n",
      "[ 1000.           500.           333.33333333]\n",
      "[ 1000.           500.           333.33333333]\n",
      "<class 'darkhistory.spec.spectra.Spectra._List'>\n",
      "huh???\n",
      "here!\n",
      "am i here for append?\n",
      "[ 1000.           500.           333.33333333   250.        ]\n",
      "[ 1000.           500.           333.33333333   250.        ]\n",
      "<class 'darkhistory.spec.spectra.Spectra._List'>\n",
      "huh???\n",
      "here!\n",
      "am i here for append?\n",
      "[ 1000.           500.           333.33333333   250.           200.        ]\n",
      "[ 1000.           500.           333.33333333   250.           200.        ]\n",
      "<class 'darkhistory.spec.spectra.Spectra._List'>\n",
      "huh???\n",
      "here!\n",
      "am i here for append?\n",
      "[ 1000.           500.           333.33333333   250.           200.\n",
      "   166.66666667]\n",
      "[ 1000.           500.           333.33333333   250.           200.\n",
      "   166.66666667]\n",
      "<class 'darkhistory.spec.spectra.Spectra._List'>\n",
      "huh???\n",
      "here!\n",
      "am i here for append?\n",
      "[ 1000.           500.           333.33333333   250.           200.\n",
      "   166.66666667   142.85714286]\n",
      "[ 1000.           500.           333.33333333   250.           200.\n",
      "   166.66666667   142.85714286]\n",
      "<class 'darkhistory.spec.spectra.Spectra._List'>\n",
      "huh???\n",
      "here!\n",
      "am i here for append?\n",
      "[ 1000.           500.           333.33333333   250.           200.\n",
      "   166.66666667   142.85714286   125.        ]\n",
      "[ 1000.           500.           333.33333333   250.           200.\n",
      "   166.66666667   142.85714286   125.        ]\n",
      "<class 'darkhistory.spec.spectra.Spectra._List'>\n",
      "huh???\n",
      "here!\n",
      "am i here for append?\n",
      "[ 1000.           500.           333.33333333   250.           200.\n",
      "   166.66666667   142.85714286   125.           111.11111111]\n",
      "[ 1000.           500.           333.33333333   250.           200.\n",
      "   166.66666667   142.85714286   125.           111.11111111]\n",
      "<class 'darkhistory.spec.spectra.Spectra._List'>\n",
      "huh???\n",
      "here!\n",
      "am i here for append?\n",
      "[ 1000.           500.           333.33333333   250.           200.\n",
      "   166.66666667   142.85714286   125.           111.11111111   100.        ]\n",
      "[ 1000.           500.           333.33333333   250.           200.\n",
      "   166.66666667   142.85714286   125.           111.11111111   100.        ]\n",
      "<class 'darkhistory.spec.spectra.Spectra._List'>\n"
     ]
    }
   ],
   "source": [
    "spec_to_append = spectools.discretize(phi_decay_FSR, eng)\n",
    "spec_to_append.rs = 1000\n",
    "spectra_FSR = Spectra([spec_to_append])\n",
    "\n",
    "for rs in 1000/(2+np.arange(9)):\n",
    "    spec_to_append = spectools.discretize(phi_decay_FSR, eng)/(1000**3/rs**3)\n",
    "    spec_to_append.rs = rs\n",
    "    spectra_FSR.append(spec_to_append)\n",
    "    print(type(spectra_FSR.spec_arr))"
   ]
  },
  {
   "cell_type": "code",
   "execution_count": 96,
   "metadata": {
    "collapsed": false
   },
   "outputs": [
    {
     "name": "stdout",
     "output_type": "stream",
     "text": [
      "10\n",
      "10\n",
      "[ 1000.           500.           333.33333333   250.           200.\n",
      "   166.66666667   142.85714286   125.           111.11111111   100.        ]\n",
      "(10, 2000)\n"
     ]
    }
   ],
   "source": [
    "print(len(spectra_FSR.spec_arr))\n",
    "print(len(spectra_FSR._spec_arr))\n",
    "print(spectra_FSR.rs)\n",
    "print(spectra_FSR.grid_values.shape)"
   ]
  },
  {
   "cell_type": "markdown",
   "metadata": {},
   "source": [
    "## `Spectra` - Attributes and Operations"
   ]
  },
  {
   "cell_type": "markdown",
   "metadata": {},
   "source": [
    "The `Spectra` attributes are similar to `Spectrum`. `self.eng` and `self.rs` give the energy and redshift abscissa respectively. Note that all of the `Spectrum` objects must share the same energy abscissa to be stored in the same `Spectra` object. Use `Spectrum.rebin` to rebin `Spectrum` objects into the same abscissa where necessary. \n",
    "\n",
    "To get a 2D array of the raw values, indexed by `(eng, rs)`, use `self.grid_values`. \n",
    "\n",
    "As with `Spectrum`, we can add two `Spectra` objects, add a scalar to a `Spectra`, and likewise multiply two `Spectra` or multiply by a scalar. \n",
    "\n",
    "To access individual `Spectrum` objects, it is possible to get them by specifying an index, as if the `Spectra` object were a list. "
   ]
  },
  {
   "cell_type": "markdown",
   "metadata": {},
   "source": [
    "## `Spectra` - Plotting"
   ]
  },
  {
   "cell_type": "markdown",
   "metadata": {},
   "source": [
    "`Spectra` objects are easy to plot using `self.plot`. They can be plotted at any arbitrary redshift, with the result obtained by interpolation over log of the redshift. Plotting arguments can be passed as keyword arguments. Individual `Spectrum` objects can also be plotted in a number of ways using the keyword `ind` and `indtype`. See documentation for more details."
   ]
  },
  {
   "cell_type": "code",
   "execution_count": 97,
   "metadata": {
    "collapsed": false
   },
   "outputs": [
    {
     "name": "stdout",
     "output_type": "stream",
     "text": [
      "am i here for append?\n",
      "[900 450 225]\n",
      "[900 450 225]\n"
     ]
    },
    {
     "data": {
      "text/plain": [
       "[100.0, 2000.0, 1e-07, 0.01]"
      ]
     },
     "execution_count": 97,
     "metadata": {},
     "output_type": "execute_result"
    },
    {
     "data": {
      "image/png": "[encoded data removed]",
      "text/plain": [
       "<matplotlib.figure.Figure at 0x10fce4550>"
      ]
     },
     "metadata": {},
     "output_type": "display_data"
    }
   ],
   "source": [
    "ax = plt.subplot(1,1,1)\n",
    "plt.rc('text', usetex=True)\n",
    "\n",
    "rs_to_plot = np.array([900, 450, 225])\n",
    "spectra_plot = spectra_FSR.plot(ax, ind=rs_to_plot, indtype='rs', linewidth=2)\n",
    "\n",
    "plt.legend(spectra_plot, ('1+z = 900','1+z = 450', '1+z = 225'), \n",
    "           fontsize=24)\n",
    "\n",
    "\n",
    "ax.set_xscale('log')\n",
    "ax.set_yscale('log')\n",
    "\n",
    "plt.tick_params(axis='both', which='major', labelsize=20)\n",
    "\n",
    "plt.title('FSR Spectrum', fontsize=28)\n",
    "plt.xlabel('Photon Energy [GeV]',fontsize=24)\n",
    "plt.ylabel('dN/(dE dV) [GeV$^{-1}$ cm$^{-3}$]',fontsize=24)\n",
    "plt.axis([1e2, 2e3, 1e-7, 1e-2])"
   ]
  },
  {
   "cell_type": "markdown",
   "metadata": {},
   "source": [
    "## `Spectra` - Integration over each Spectrum"
   ]
  },
  {
   "cell_type": "markdown",
   "metadata": {},
   "source": [
    "Integration over each spectrum can be done using `self.integrate_each_spec`, with the result being an `ndarray`. There are many reasons to perform an integration over each spectrum; here, we will show only a trivial example, integrating over the spectrum to get the total number. To do this, we use `self.integrate_each_spec` with a weight given by $E \\, d \\log E$. "
   ]
  },
  {
   "cell_type": "code",
   "execution_count": 98,
   "metadata": {
    "collapsed": false
   },
   "outputs": [
    {
     "name": "stdout",
     "output_type": "stream",
     "text": [
      "Total number of particles in each spectrum by integrate_each_spec: \n",
      "[ 1.00996347  0.12624543  0.03740605  0.01578068  0.00807971  0.00467576\n",
      "  0.0029445   0.00197258  0.00138541  0.00100996]\n",
      "Total number of particles in each spectrum by Spectrum.totN(): \n",
      "[ 1.00996347  0.12624543  0.03740605  0.01578068  0.00807971  0.00467576\n",
      "  0.0029445   0.00197258  0.00138541  0.00100996]\n"
     ]
    }
   ],
   "source": [
    "log_bin_width = spectools.get_log_bin_width(spectra_FSR.eng)\n",
    "print('Total number of particles in each spectrum by integrate_each_spec: ')\n",
    "print(spectra_FSR.integrate_each_spec(spectra_FSR.eng * log_bin_width))\n",
    "print('Total number of particles in each spectrum by Spectrum.totN(): ')\n",
    "print(np.array([spec.totN() for spec in spectra_FSR]))"
   ]
  },
  {
   "cell_type": "markdown",
   "metadata": {},
   "source": [
    "## `Spectra` - Summing Spectra"
   ]
  },
  {
   "cell_type": "markdown",
   "metadata": {},
   "source": [
    "It is frequently useful to add the spectra in a `Spectra` object up in some way. Here, we want to determine the spectrum of photons that would be observed from $\\phi \\to e^+e^-\\gamma$ through FSR at the last redshift stored in `spectra_FSR`. The DM decays at each redshift, producing a $dN/(dE \\, dV)$ stored in `spectra_FSR`. This spectrum is given *per decay*; the total spectrum needs to be re-weighted by the number of decays that occur within a redshift bin. Ignoring overall normalization once again, this means reweighting by a factor of\n",
    "\n",
    "$$ \\Delta t = \\frac{dt}{d(1+z)} (1+z) \\times \\Delta \\log (1+z)$$"
   ]
  },
  {
   "cell_type": "code",
   "execution_count": 99,
   "metadata": {
    "collapsed": true
   },
   "outputs": [],
   "source": [
    "rs_array = spectra_FSR.rs\n",
    "rs_log_bin_width = np.abs(spectools.get_log_bin_width(rs_array))\n",
    "weight = physics.dtdz(rs_array)*rs_array*rs_log_bin_width\n",
    "weight /= weight[-1]"
   ]
  },
  {
   "cell_type": "markdown",
   "metadata": {},
   "source": [
    "To obtain the spectrum that would be observed at the last redshift, the spectrum at each redshift must first be redshifted down to the last redshift. Then, the spectra in `spectra_FSR` are added up, weighted by `weight`, to obtain the (un-normalized) photon spectrum that we would observe. "
   ]
  },
  {
   "cell_type": "code",
   "execution_count": 100,
   "metadata": {
    "collapsed": true
   },
   "outputs": [],
   "source": [
    "for spec in spectra_FSR.spec_arr:\n",
    "    spec.redshift(spectra_FSR.rs[-1]) "
   ]
  },
  {
   "cell_type": "code",
   "execution_count": 101,
   "metadata": {
    "collapsed": false
   },
   "outputs": [
    {
     "data": {
      "text/plain": [
       "array([ 1000.        ,   500.        ,   333.33333333,   250.        ,\n",
       "         200.        ,   166.66666667,   142.85714286,   125.        ,\n",
       "         111.11111111,   100.        ])"
      ]
     },
     "execution_count": 101,
     "metadata": {},
     "output_type": "execute_result"
    }
   ],
   "source": [
    "spectra_FSR.rs"
   ]
  },
  {
   "cell_type": "code",
   "execution_count": null,
   "metadata": {
    "collapsed": false
   },
   "outputs": [],
   "source": [
    "obs_spec = spectra_FSR.sum_specs(weight)\n",
    "\n",
    "ax = plt.subplot(1,1,1)\n",
    "plt.rc('text', usetex=True)\n",
    "\n",
    "spectra_plot, = plt.plot(spectra_FSR.eng, obs_spec, linewidth=2)\n",
    "\n",
    "ax.set_xscale('log')\n",
    "ax.set_yscale('log')\n",
    "\n",
    "plt.tick_params(axis='both', which='major', labelsize=20)\n",
    "\n",
    "plt.title('Spectrum at $1+z = 100$', fontsize=28)\n",
    "plt.xlabel('Photon Energy [GeV]',fontsize=24)\n",
    "plt.ylabel('dN/(dE dV) [GeV$^{-1}$ cm$^{-3}$]',fontsize=24)\n",
    "plt.axis([3e1, 2e3, 1e-6, 1e-2])"
   ]
  }
 ],
 "metadata": {
  "anaconda-cloud": {},
  "kernelspec": {
   "display_name": "Python [default]",
   "language": "python",
   "name": "python3"
  },
  "language_info": {
   "codemirror_mode": {
    "name": "ipython",
    "version": 3
   },
   "file_extension": ".py",
   "mimetype": "text/x-python",
   "name": "python",
   "nbconvert_exporter": "python",
   "pygments_lexer": "ipython3",
   "version": "3.5.2"
  }
 },
 "nbformat": 4,
 "nbformat_minor": 1
}
