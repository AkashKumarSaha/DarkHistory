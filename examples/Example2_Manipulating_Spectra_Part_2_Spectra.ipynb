{
 "cells": [
  {
   "cell_type": "markdown",
   "metadata": {},
   "source": [
    "# Ex 2: Manipulating Spectra Part 2 - `Spectra`"
   ]
  },
  {
   "cell_type": "markdown",
   "metadata": {},
   "source": [
    "## Notebook Initialization"
   ]
  },
  {
   "cell_type": "code",
   "execution_count": 1,
   "metadata": {
    "collapsed": true
   },
   "outputs": [],
   "source": [
    "%load_ext autoreload\n",
    "import sys\n",
    "sys.path.append(\"..\")"
   ]
  },
  {
   "cell_type": "code",
   "execution_count": 2,
   "metadata": {
    "collapsed": true
   },
   "outputs": [],
   "source": [
    "%autoreload\n",
    "%matplotlib inline\n",
    "\n",
    "import matplotlib\n",
    "import matplotlib.pyplot as plt\n",
    "\n",
    "matplotlib.rcParams['figure.figsize'] = [10,10]\n",
    "\n",
    "import numpy as np\n",
    "\n",
    "import darkhistory.physics as physics\n",
    "import darkhistory.spec.spectools as spectools\n",
    "from darkhistory.spec.spectrum import Spectrum\n",
    "from darkhistory.spec.spectra import Spectra"
   ]
  },
  {
   "cell_type": "markdown",
   "metadata": {},
   "source": [
    "## `Spectra` Class - Introduction"
   ]
  },
  {
   "cell_type": "markdown",
   "metadata": {},
   "source": [
    "The `Spectra` class is simply a collection of `Spectrum` objects. The main use of `Spectra` is as a list of spectra produced by the same process at different redshifts. It is the parent class of `TransFuncAtEnergy` and `TransFuncAtRedshift`, which are useful classes for transfer functions described in a later example. \n",
    "\n",
    "To demonstrate how to use this class, consider the photon spectrum produced by a massive dark matter particle $\\phi$ decaying into an electron pair from a two-body decay + FSR process, given approximately by (see Essig et al. 1309.4091):\n",
    "\n",
    "$$ \\frac{dN_\\gamma}{dE}_{\\phi \\to e^+ e^- \\gamma} \\simeq \\frac{2\\alpha_{\\text{EM}}}{\\pi E_\\gamma} \\left[1 - \\frac{2E_\\gamma}{m_\\phi} + \\left(1 - \\frac{2E_\\gamma}{m_\\phi} + \\frac{2E_\\gamma^2}{m_\\phi^2} \\right) \\log \\left( \\frac{1 - 2E_\\gamma/m_\\phi}{m_e^2/m_\\phi^2} \\right) \\right] $$\n",
    "\n",
    "For simplicity, we consider this process during the cosmic dark ages, where the dark matter density was uniform, and that the branching ratio into this process is 100%. We will also not concern ourselves with the overall normalization of this spectrum. \n",
    "\n",
    "We will again use `spec.spectools.discretize` to create `Spectrum` objects from this analytic spectrum, taking $m_\\phi = $ 2 TeV."
   ]
  },
  {
   "cell_type": "code",
   "execution_count": null,
   "metadata": {
    "collapsed": true
   },
   "outputs": [],
   "source": [
    "def phi_decay_FSR(eng):\n",
    "    m_phi = 2000\n",
    "    m_e = 0.511e-3\n",
    "    r = eng/m_phi\n",
    "    r_e = m_e/m_phi\n",
    "    return (\n",
    "        (2/137)/(np.pi*eng)*(\n",
    "            1 - 2*r + (1 - 2*r + 2*r**2)\n",
    "        )*np.log((1 - 2*r)/r_e**2)\n",
    "    )\n",
    "    "
   ]
  }
 ],
 "metadata": {
  "kernelspec": {
   "display_name": "Python [conda env:python3]",
   "language": "python",
   "name": "conda-env-python3-py"
  },
  "language_info": {
   "codemirror_mode": {
    "name": "ipython",
    "version": 3
   },
   "file_extension": ".py",
   "mimetype": "text/x-python",
   "name": "python",
   "nbconvert_exporter": "python",
   "pygments_lexer": "ipython3",
   "version": "3.5.2"
  }
 },
 "nbformat": 4,
 "nbformat_minor": 1
}
