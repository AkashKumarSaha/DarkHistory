{
 "cells": [
  {
   "cell_type": "markdown",
   "metadata": {},
   "source": [
    "# Full Cooling Calculation"
   ]
  },
  {
   "cell_type": "markdown",
   "metadata": {},
   "source": [
    "We are now ready to demonstrate the full cooling calculation, starting from an injection of high-energy electrons and photons, and ending in an integrated ionization and thermal history that results from this injection. "
   ]
  },
  {
   "cell_type": "markdown",
   "metadata": {},
   "source": [
    "## Initialization"
   ]
  },
  {
   "cell_type": "code",
   "execution_count": 1,
   "metadata": {
    "collapsed": true
   },
   "outputs": [],
   "source": [
    "%load_ext autoreload\n",
    "import sys\n",
    "sys.path.append(\"..\")"
   ]
  },
  {
   "cell_type": "code",
   "execution_count": 30,
   "metadata": {},
   "outputs": [],
   "source": [
    "%autoreload\n",
    "%matplotlib inline\n",
    "\n",
    "import matplotlib\n",
    "import matplotlib.pyplot as plt\n",
    "\n",
    "matplotlib.rcParams['figure.figsize'] = [10,10]\n",
    "\n",
    "import numpy as np\n",
    "import pickle\n",
    "import darkhistory.physics as phys\n",
    "import darkhistory.spec.spectools as spectools\n",
    "\n",
    "\n",
    "from darkhistory.electrons.ics.ics_spectrum import ics_spec\n",
    "from darkhistory.electrons.ics.ics_engloss_spectrum import engloss_spec\n",
    "from darkhistory.electrons.ics.ics_cooling import get_ics_cooling_tf\n",
    "\n",
    "np.set_printoptions(threshold=np.nan)"
   ]
  },
  {
   "cell_type": "markdown",
   "metadata": {},
   "source": [
    "## Inputs"
   ]
  },
  {
   "cell_type": "markdown",
   "metadata": {},
   "source": [
    "The inputs of the code are as follows: \n",
    "\n",
    "1. A `Spectrum` or `Spectra` object containing the injected electron spectrum, or the injected electron spectrum as a function of redshift, and/or \n",
    "\n",
    "2. A `Spectrum` or `Spectra` object containing the injected photon spectrum, or the injected photon spectrum as a function of redshift.\n",
    "\n",
    "There are 3 modes of use. For a `Spectrum` input, the spectrum can be interpreted either as a single injection at a particular redshift, and no subsequent injections, or as a spectrum with the redshift dependence factored out, with a continuous injection at every step. For a `Spectra` input, the spectrum at each redshift step is injected. \n",
    "\n",
    "We will start with the single injection case here. As an example, we begin with a $\\delta$-function injection of two 1 MeV electrons at some arbitrary energy, start at redshift $1+z = 2000$. Let's first initialize the spectrum. "
   ]
  },
  {
   "cell_type": "code",
   "execution_count": 3,
   "metadata": {},
   "outputs": [],
   "source": [
    "eleceng = np.logspace(1, 12.2, 100)\n",
    "photeng = np.logspace(-4, 12.2, 100)\n",
    "rs = 5\n",
    "\n",
    "elec_spec_init = spectools.rebin_N_arr(np.array([1]), \n",
    "                                      np.array([1e12]),\n",
    "                                      eleceng)\n",
    "\n",
    "elec_spec_init.rs = rs"
   ]
  },
  {
   "cell_type": "markdown",
   "metadata": {},
   "source": [
    "## Resolving Injected Electrons"
   ]
  },
  {
   "cell_type": "markdown",
   "metadata": {},
   "source": [
    "High energy electrons ($\\gg$ keV) primarily cool by inverse compton scattering (ICS), at a rate that is much faster than the smallest timestep allowable in this code ($\\Delta \\log (1+z) = 10^{-3}$). Lower energy electrons also cool quickly, but via atomic processes.\n",
    "\n",
    "Low energy electrons ($< 3.5$ keV) are read out immediately and saved in a `Spectra` object. High energy electrons will be converted into a photon spectrum through ICS, and an estimate for the energy loss due to atomic cooling also produced. \n",
    "\n",
    "For now, we will assume only ICS for high energy electrons. "
   ]
  },
  {
   "cell_type": "code",
   "execution_count": 4,
   "metadata": {
    "collapsed": true
   },
   "outputs": [],
   "source": [
    "raw_nonrel_ICS_tf = pickle.load(open(\"/Users/hongwan/Dropbox (MIT)/Photon Deposition/ICS_nonrel.raw\",\"rb\"))\n",
    "raw_rel_ICS_tf = pickle.load(open(\"/Users/hongwan/Dropbox (MIT)/Photon Deposition/ICS_rel.raw\",\"rb\"))\n",
    "raw_engloss_tf = pickle.load(open(\"/Users/hongwan/Dropbox (MIT)/Photon Deposition/ICS_englossspec.raw\",\"rb\"))\n",
    "\n",
    "(ics_phot_tf, ics_lowengelec_tf) = get_ics_cooling_tf(raw_nonrel_ICS_tf,\n",
    "                                                     raw_rel_ICS_tf,\n",
    "                                                     raw_engloss_tf,\n",
    "                                                     eleceng, photeng, rs)"
   ]
  },
  {
   "cell_type": "code",
   "execution_count": 5,
   "metadata": {
    "collapsed": true
   },
   "outputs": [],
   "source": [
    "phot_spec_init = spectools.scatter(ics_phot_tf, elec_spec_init)"
   ]
  },
  {
   "cell_type": "markdown",
   "metadata": {},
   "source": [
    "## Photon Cooling"
   ]
  },
  {
   "cell_type": "markdown",
   "metadata": {},
   "source": [
    "Now we cool the photons that result from the high energy electron injection. Photons below 3.1 keV are considered low energy photons. For high energy photons, greater than 3.1 keV, we have transfer functions (a function of *both* injected photon energy and redshift, so they are given as a `TransFuncList`), into high energy photons, low energy photons and low energy electrons. Let's load them first. "
   ]
  },
  {
   "cell_type": "code",
   "execution_count": 31,
   "metadata": {
    "collapsed": true
   },
   "outputs": [],
   "source": [
    "highengphot_tflist = pickle.load(open(\"/Users/hongwan/Dropbox (MIT)/Photon Deposition/tfunclist_photspec.raw\", \"rb\"))\n",
    "lowengphot_tflist  = pickle.load(open(\"/Users/hongwan/Dropbox (MIT)/Photon Deposition/tfunclist_lowengphotspec.raw\", \"rb\"))\n",
    "lowengelec_tflist  = pickle.load(open(\"/Users/hongwan/Dropbox (MIT)/Photon Deposition/tfunclist_lowengelecspec.raw\", \"rb\"))"
   ]
  },
  {
   "cell_type": "code",
   "execution_count": 32,
   "metadata": {},
   "outputs": [],
   "source": [
    "# This shouldn't be necessary. There is one negative value somewhere. Check.\n",
    "for tf in highengphot_tflist:\n",
    "    tf.grid_vals[np.where(tf.grid_vals < 0)] = 0\n",
    "    "
   ]
  },
  {
   "cell_type": "markdown",
   "metadata": {},
   "source": [
    "We now need to construct a transfer function list for *both* high- and low-energy photons. It needs to be a square matrix (so that we can take powers of the matrix for coarsening later), with dimensions given by the length of `photeng`. "
   ]
  },
  {
   "cell_type": "code",
   "execution_count": 33,
   "metadata": {},
   "outputs": [
    {
     "name": "stdout",
     "output_type": "stream",
     "text": [
      "[ 6.09004918  6.08905878  6.08812727  6.0872504   6.08642597  6.08565027\n",
      "  6.08492062  6.08423381  6.0835882   6.08298063  6.08240944  6.08187198\n",
      "  6.08136613  6.08089076  6.08044325  6.08002251  6.07962691  6.07925435\n",
      "  6.07890427  6.07857453  6.07826512  6.0779734   6.07769933  6.07744133\n",
      "  6.07719884  6.0769708   6.07675615  6.07655435  6.07636433  6.07618607\n",
      "  6.07601799  6.07585957  6.07571128  6.07557105  6.0754399   6.07531572\n",
      "  6.07519956  6.07508984  6.07498705  6.07488964  6.07479864  6.07471247\n",
      "  6.07463217  6.07455563  6.07448443  6.07441699  6.0743533   6.07429388\n",
      "  6.07423767  6.07418468]\n",
      "in at_val\n"
     ]
    },
    {
     "ename": "AttributeError",
     "evalue": "'TransferFuncList' object has no attribute 'N_underflow'",
     "output_type": "error",
     "traceback": [
      "\u001b[0;31m---------------------------------------------------------------------------\u001b[0m",
      "\u001b[0;31mAttributeError\u001b[0m                            Traceback (most recent call last)",
      "\u001b[0;32m<ipython-input-33-923d4b82c2f2>\u001b[0m in \u001b[0;36m<module>\u001b[0;34m()\u001b[0m\n\u001b[1;32m      3\u001b[0m \u001b[0mphoteng_low\u001b[0m  \u001b[0;34m=\u001b[0m \u001b[0mphoteng\u001b[0m\u001b[0;34m[\u001b[0m\u001b[0mphoteng\u001b[0m \u001b[0;34m<=\u001b[0m \u001b[0;36m3070\u001b[0m\u001b[0;34m]\u001b[0m\u001b[0;34m\u001b[0m\u001b[0m\n\u001b[1;32m      4\u001b[0m \u001b[0mprint\u001b[0m\u001b[0;34m(\u001b[0m\u001b[0mhighengphot_tflist\u001b[0m\u001b[0;34m[\u001b[0m\u001b[0;36m0\u001b[0m\u001b[0;34m]\u001b[0m\u001b[0;34m.\u001b[0m\u001b[0mN_underflow\u001b[0m\u001b[0;34m)\u001b[0m\u001b[0;34m\u001b[0m\u001b[0m\n\u001b[0;32m----> 5\u001b[0;31m \u001b[0mhighengphot_tflist\u001b[0m\u001b[0;34m.\u001b[0m\u001b[0mat_val\u001b[0m\u001b[0;34m(\u001b[0m\u001b[0;34m'in_eng'\u001b[0m\u001b[0;34m,\u001b[0m \u001b[0mphoteng_high\u001b[0m\u001b[0;34m)\u001b[0m\u001b[0;34m\u001b[0m\u001b[0m\n\u001b[0m\u001b[1;32m      6\u001b[0m \u001b[0mprint\u001b[0m\u001b[0;34m(\u001b[0m\u001b[0mhighengphot_tflist\u001b[0m\u001b[0;34m[\u001b[0m\u001b[0;36m0\u001b[0m\u001b[0;34m]\u001b[0m\u001b[0;34m.\u001b[0m\u001b[0mN_underflow\u001b[0m\u001b[0;34m)\u001b[0m\u001b[0;34m\u001b[0m\u001b[0m\n\u001b[1;32m      7\u001b[0m \u001b[0;32mfor\u001b[0m \u001b[0mtf\u001b[0m \u001b[0;32min\u001b[0m \u001b[0mhighengphot_tflist\u001b[0m\u001b[0;34m:\u001b[0m\u001b[0;34m\u001b[0m\u001b[0m\n",
      "\u001b[0;32m~/GitHub/DarkHistory/darkhistory/spec/transferfunclist.py\u001b[0m in \u001b[0;36mat_val\u001b[0;34m(self, axis, new_val)\u001b[0m\n\u001b[1;32m     99\u001b[0m             ]\n\u001b[1;32m    100\u001b[0m             \u001b[0mprint\u001b[0m\u001b[0;34m(\u001b[0m\u001b[0;34m'in at_val'\u001b[0m\u001b[0;34m)\u001b[0m\u001b[0;34m\u001b[0m\u001b[0m\n\u001b[0;32m--> 101\u001b[0;31m             \u001b[0mprint\u001b[0m\u001b[0;34m(\u001b[0m\u001b[0mself\u001b[0m\u001b[0;34m.\u001b[0m\u001b[0mN_underflow\u001b[0m\u001b[0;34m)\u001b[0m\u001b[0;34m\u001b[0m\u001b[0m\n\u001b[0m\u001b[1;32m    102\u001b[0m             \u001b[0mself\u001b[0m\u001b[0;34m.\u001b[0m\u001b[0mtflist\u001b[0m \u001b[0;34m=\u001b[0m \u001b[0mnew_tflist\u001b[0m\u001b[0;34m\u001b[0m\u001b[0m\n\u001b[1;32m    103\u001b[0m             \u001b[0mself\u001b[0m\u001b[0;34m.\u001b[0m\u001b[0min_eng\u001b[0m \u001b[0;34m=\u001b[0m \u001b[0mnew_val\u001b[0m\u001b[0;34m\u001b[0m\u001b[0m\n",
      "\u001b[0;31mAttributeError\u001b[0m: 'TransferFuncList' object has no attribute 'N_underflow'"
     ]
    }
   ],
   "source": [
    "#Split photeng into high and low energy. \n",
    "photeng_high = photeng[photeng > 3070]\n",
    "photeng_low  = photeng[photeng <= 3070]\n",
    "print(highengphot_tflist[0].N_underflow)\n",
    "highengphot_tflist.at_val('in_eng', photeng_high)\n",
    "print(highengphot_tflist[0].N_underflow)\n",
    "for tf in highengphot_tflist:\n",
    "    print(tf)\n",
    "    tf.rebin(photeng)"
   ]
  },
  {
   "cell_type": "code",
   "execution_count": 10,
   "metadata": {},
   "outputs": [
    {
     "data": {
      "text/plain": [
       "(54, 500)"
      ]
     },
     "execution_count": 10,
     "metadata": {},
     "output_type": "execute_result"
    }
   ],
   "source": [
    "highengphot_tflist[0].grid_vals.shape"
   ]
  },
  {
   "cell_type": "markdown",
   "metadata": {},
   "source": [
    "We need to decide on the redshift step to use. The default redshift step in the transfer functions is $d \\log (1+z) = 2 \\times 10^{-3}$, with the transfer function evaluated at (currently) 50 redshifts, from $1+z = 30$ to $1+z=4$, so that the transfer function with $d \\log(1+z) = 2 \\times 10^{-3}$ can be interpolated between them. However, we can coarsen the high energy photon transfer function by some factor $f$ by multiplying the transfer function matrix by itself multiple times, producing transfer functions for a redshift step of $d \\log (1+z) = f \\times 2 \\times 10^{-3}$. "
   ]
  },
  {
   "cell_type": "code",
   "execution_count": 9,
   "metadata": {},
   "outputs": [],
   "source": [
    "# # The redshift step to use will be coarsen_factor * 0.002\n",
    "# coarsen_factor = 5\n",
    "# # Generate the redshifts at which we want to get an interpolated value for the transfer function. \n",
    "# tf_rs_arr = highengphot_tflist.rs\n",
    "# rs_list = np.exp(np.arange(np.log(tf_rs_arr[0]), \n",
    "#                            np.log(tf_rs_arr[-1]), \n",
    "#                            -highengphot_tflist.dlnz*coarsen_factor)\n",
    "#                 )\n",
    "\n",
    "# if coarsen_factor > 1:\n",
    "#     highengphot_tflist.coarsen(coarsen_factor, delete_tfs=False)\n",
    "    \n",
    "# highengphot_tflist.at_val('rs',rs_list)\n"
   ]
  },
  {
   "cell_type": "code",
   "execution_count": null,
   "metadata": {
    "collapsed": true
   },
   "outputs": [],
   "source": []
  }
 ],
 "metadata": {
  "anaconda-cloud": {},
  "kernelspec": {
   "display_name": "Python 3",
   "language": "python",
   "name": "python3"
  },
  "language_info": {
   "codemirror_mode": {
    "name": "ipython",
    "version": 3
   },
   "file_extension": ".py",
   "mimetype": "text/x-python",
   "name": "python",
   "nbconvert_exporter": "python",
   "pygments_lexer": "ipython3",
   "version": "3.6.3"
  }
 },
 "nbformat": 4,
 "nbformat_minor": 1
}
