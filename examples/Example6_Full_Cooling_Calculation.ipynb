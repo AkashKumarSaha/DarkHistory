{
 "cells": [
  {
   "cell_type": "markdown",
   "metadata": {},
   "source": [
    "# Full Cooling Calculation"
   ]
  },
  {
   "cell_type": "markdown",
   "metadata": {},
   "source": [
    "We are now ready to demonstrate the full cooling calculation, starting from an injection of high-energy electrons and photons, and ending in an integrated ionization and thermal history that results from this injection. "
   ]
  },
  {
   "cell_type": "markdown",
   "metadata": {},
   "source": [
    "## Initialization"
   ]
  },
  {
   "cell_type": "code",
   "execution_count": 1,
   "metadata": {
    "collapsed": false
   },
   "outputs": [],
   "source": [
    "%load_ext autoreload\n",
    "import sys\n",
    "sys.path.append(\"..\")"
   ]
  },
  {
   "cell_type": "code",
   "execution_count": 11,
   "metadata": {
    "collapsed": false
   },
   "outputs": [],
   "source": [
    "%autoreload\n",
    "%matplotlib inline\n",
    "\n",
    "import numpy as np\n",
    "import pickle\n",
    "import darkhistory.physics as phys\n",
    "import darkhistory.spec.spectools as spectools\n",
    "\n",
    "\n",
    "from darkhistory.electrons.ics.ics_spectrum import ics_spec\n",
    "from darkhistory.electrons.ics.ics_engloss_spectrum import engloss_spec\n",
    "from darkhistory.electrons.ics.ics_cooling import get_ics_cooling_tf\n"
   ]
  },
  {
   "cell_type": "markdown",
   "metadata": {},
   "source": [
    "## Inputs"
   ]
  },
  {
   "cell_type": "markdown",
   "metadata": {},
   "source": [
    "The inputs of the code are as follows: \n",
    "\n",
    "1. A `Spectrum` or `Spectra` object containing the injected electron spectrum, or the injected electron spectrum as a function of redshift, and/or \n",
    "\n",
    "2. A `Spectrum` or `Spectra` object containing the injected photon spectrum, or the injected photon spectrum as a function of redshift.\n",
    "\n",
    "There are 3 modes of use. For a `Spectrum` input, the spectrum can be interpreted either as a single injection at a particular redshift, and no subsequent injections, or as a spectrum with the redshift dependence factored out, with a continuous injection at every step. For a `Spectra` input, the spectrum at each redshift step is injected. \n",
    "\n",
    "We will start with the single injection case here. As an example, we begin with a $\\delta$-function injection of two 1 MeV electrons at some arbitrary energy, start at redshift $1+z = 2000$. Let's first initialize the spectrum. "
   ]
  },
  {
   "cell_type": "code",
   "execution_count": 3,
   "metadata": {
    "collapsed": false
   },
   "outputs": [
    {
     "name": "stdout",
     "output_type": "stream",
     "text": [
      "[  1.00000000e-04   1.29154967e-04   1.66810054e-04   2.15443469e-04\n",
      "   2.78255940e-04   3.59381366e-04   4.64158883e-04   5.99484250e-04\n",
      "   7.74263683e-04   1.00000000e-03   1.29154967e-03   1.66810054e-03\n",
      "   2.15443469e-03   2.78255940e-03   3.59381366e-03   4.64158883e-03\n",
      "   5.99484250e-03   7.74263683e-03   1.00000000e-02   1.29154967e-02\n",
      "   1.66810054e-02   2.15443469e-02   2.78255940e-02   3.59381366e-02\n",
      "   4.64158883e-02   5.99484250e-02   7.74263683e-02   1.00000000e-01\n",
      "   1.29154967e-01   1.66810054e-01   2.15443469e-01   2.78255940e-01\n",
      "   3.59381366e-01   4.64158883e-01   5.99484250e-01   7.74263683e-01\n",
      "   1.00000000e+00   1.29154967e+00   1.66810054e+00   2.15443469e+00\n",
      "   2.78255940e+00   3.59381366e+00   4.64158883e+00   5.99484250e+00\n",
      "   7.74263683e+00   1.00000000e+01   1.29154967e+01   1.66810054e+01\n",
      "   2.15443469e+01   2.78255940e+01   3.59381366e+01   4.64158883e+01\n",
      "   5.99484250e+01   7.74263683e+01   1.00000000e+02   1.29154967e+02\n",
      "   1.66810054e+02   2.15443469e+02   2.78255940e+02   3.59381366e+02\n",
      "   4.64158883e+02   5.99484250e+02   7.74263683e+02   1.00000000e+03\n",
      "   1.29154967e+03   1.66810054e+03   2.15443469e+03   2.78255940e+03\n",
      "   3.59381366e+03   4.64158883e+03   5.99484250e+03   7.74263683e+03\n",
      "   1.00000000e+04   1.29154967e+04   1.66810054e+04   2.15443469e+04\n",
      "   2.78255940e+04   3.59381366e+04   4.64158883e+04   5.99484250e+04\n",
      "   7.74263683e+04   1.00000000e+05   1.29154967e+05   1.66810054e+05\n",
      "   2.15443469e+05   2.78255940e+05   3.59381366e+05   4.64158883e+05\n",
      "   5.99484250e+05   7.74263683e+05   1.00000000e+06   1.29154967e+06\n",
      "   1.66810054e+06   2.15443469e+06   2.78255940e+06   3.59381366e+06\n",
      "   4.64158883e+06   5.99484250e+06   7.74263683e+06   1.00000000e+07]\n",
      "[ 1000000.]\n"
     ]
    }
   ],
   "source": [
    "eleceng = np.logspace(-4, 7, 100)\n",
    "photeng = eleceng\n",
    "rs = 2000\n",
    "\n",
    "elec_spec_init = spectools.rebin_N_arr(np.array([2]), \n",
    "                                      np.array([1e6]),\n",
    "                                      eleceng)\n",
    "\n",
    "elec_spec_init.rs = 2000"
   ]
  },
  {
   "cell_type": "markdown",
   "metadata": {},
   "source": [
    "## Resolving Injected Electrons"
   ]
  },
  {
   "cell_type": "markdown",
   "metadata": {},
   "source": [
    "High energy electrons ($\\gg$ keV) primarily cool by inverse compton scattering (ICS), at a rate that is much faster than the smallest timestep allowable in this code ($\\Delta \\log (1+z) = 10^{-3}$). Lower energy electrons also cool quickly, but via atomic processes.\n",
    "\n",
    "Low energy electrons ($< 3.5$ keV) are read out immediately and saved in a `Spectra` object. High energy electrons will be converted into a photon spectrum through ICS, and an estimate for the energy loss due to atomic cooling also produced. \n",
    "\n",
    "For now, we will assume only ICS for high energy electrons. "
   ]
  },
  {
   "cell_type": "code",
   "execution_count": 12,
   "metadata": {
    "collapsed": false
   },
   "outputs": [
    {
     "name": "stdout",
     "output_type": "stream",
     "text": [
      "hello? []\n",
      "[]\n",
      "[]\n",
      "[  1.00000000e-04   1.29154967e-04   1.66810054e-04   2.15443469e-04\n",
      "   2.78255940e-04   3.59381366e-04   4.64158883e-04   5.99484250e-04\n",
      "   7.74263683e-04   1.00000000e-03   1.29154967e-03   1.66810054e-03\n",
      "   2.15443469e-03   2.78255940e-03   3.59381366e-03   4.64158883e-03\n",
      "   5.99484250e-03   7.74263683e-03   1.00000000e-02   1.29154967e-02\n",
      "   1.66810054e-02   2.15443469e-02   2.78255940e-02   3.59381366e-02\n",
      "   4.64158883e-02   5.99484250e-02   7.74263683e-02   1.00000000e-01\n",
      "   1.29154967e-01   1.66810054e-01   2.15443469e-01   2.78255940e-01\n",
      "   3.59381366e-01   4.64158883e-01   5.99484250e-01   7.74263683e-01\n",
      "   1.00000000e+00   1.29154967e+00   1.66810054e+00   2.15443469e+00\n",
      "   2.78255940e+00   3.59381366e+00   4.64158883e+00   5.99484250e+00\n",
      "   7.74263683e+00   1.00000000e+01   1.29154967e+01   1.66810054e+01\n",
      "   2.15443469e+01   2.78255940e+01   3.59381366e+01   4.64158883e+01\n",
      "   5.99484250e+01   7.74263683e+01   1.00000000e+02   1.29154967e+02\n",
      "   1.66810054e+02   2.15443469e+02   2.78255940e+02   3.59381366e+02\n",
      "   4.64158883e+02   5.99484250e+02   7.74263683e+02   1.00000000e+03\n",
      "   1.29154967e+03   1.66810054e+03   2.15443469e+03   2.78255940e+03\n",
      "   3.59381366e+03   4.64158883e+03   5.99484250e+03   7.74263683e+03\n",
      "   1.00000000e+04   1.29154967e+04   1.66810054e+04   2.15443469e+04\n",
      "   2.78255940e+04   3.59381366e+04   4.64158883e+04   5.99484250e+04\n",
      "   7.74263683e+04   1.00000000e+05   1.29154967e+05   1.66810054e+05\n",
      "   2.15443469e+05   2.78255940e+05   3.59381366e+05   4.64158883e+05\n",
      "   5.99484250e+05   7.74263683e+05   1.00000000e+06   1.29154967e+06\n",
      "   1.66810054e+06   2.15443469e+06   2.78255940e+06   3.59381366e+06\n",
      "   4.64158883e+06   5.99484250e+06   7.74263683e+06   1.00000000e+07]\n",
      "[  1.00000000e-04   1.29154967e-04   1.66810054e-04   2.15443469e-04\n",
      "   2.78255940e-04   3.59381366e-04   4.64158883e-04   5.99484250e-04\n",
      "   7.74263683e-04   1.00000000e-03   1.29154967e-03   1.66810054e-03\n",
      "   2.15443469e-03   2.78255940e-03   3.59381366e-03   4.64158883e-03\n",
      "   5.99484250e-03   7.74263683e-03   1.00000000e-02   1.29154967e-02\n",
      "   1.66810054e-02   2.15443469e-02   2.78255940e-02   3.59381366e-02\n",
      "   4.64158883e-02   5.99484250e-02   7.74263683e-02   1.00000000e-01\n",
      "   1.29154967e-01   1.66810054e-01   2.15443469e-01   2.78255940e-01\n",
      "   3.59381366e-01   4.64158883e-01   5.99484250e-01   7.74263683e-01\n",
      "   1.00000000e+00   1.29154967e+00   1.66810054e+00   2.15443469e+00\n",
      "   2.78255940e+00   3.59381366e+00   4.64158883e+00   5.99484250e+00\n",
      "   7.74263683e+00   1.00000000e+01   1.29154967e+01   1.66810054e+01\n",
      "   2.15443469e+01   2.78255940e+01   3.59381366e+01   4.64158883e+01\n",
      "   5.99484250e+01   7.74263683e+01   1.00000000e+02   1.29154967e+02\n",
      "   1.66810054e+02   2.15443469e+02   2.78255940e+02   3.59381366e+02\n",
      "   4.64158883e+02   5.99484250e+02   7.74263683e+02   1.00000000e+03\n",
      "   1.29154967e+03   1.66810054e+03   2.15443469e+03   2.78255940e+03\n",
      "   3.59381366e+03   4.64158883e+03   5.99484250e+03   7.74263683e+03\n",
      "   1.00000000e+04   1.29154967e+04   1.66810054e+04   2.15443469e+04\n",
      "   2.78255940e+04   3.59381366e+04   4.64158883e+04   5.99484250e+04\n",
      "   7.74263683e+04   1.00000000e+05   1.29154967e+05   1.66810054e+05\n",
      "   2.15443469e+05   2.78255940e+05   3.59381366e+05   4.64158883e+05\n",
      "   5.99484250e+05   7.74263683e+05   1.00000000e+06   1.29154967e+06\n",
      "   1.66810054e+06   2.15443469e+06   2.78255940e+06   3.59381366e+06\n",
      "   4.64158883e+06   5.99484250e+06   7.74263683e+06   1.00000000e+07]\n",
      "[]\n"
     ]
    },
    {
     "ename": "IndexError",
     "evalue": "index -1 is out of bounds for axis 0 with size 0",
     "output_type": "error",
     "traceback": [
      "\u001b[0;31m---------------------------------------------------------------------------\u001b[0m",
      "\u001b[0;31mIndexError\u001b[0m                                Traceback (most recent call last)",
      "\u001b[0;32m<ipython-input-12-43893d904130>\u001b[0m in \u001b[0;36m<module>\u001b[0;34m()\u001b[0m\n\u001b[1;32m      6\u001b[0m                                                      \u001b[0mraw_rel_ICS_tf\u001b[0m\u001b[0;34m,\u001b[0m\u001b[0;34m\u001b[0m\u001b[0m\n\u001b[1;32m      7\u001b[0m                                                      \u001b[0mraw_engloss_tf\u001b[0m\u001b[0;34m,\u001b[0m\u001b[0;34m\u001b[0m\u001b[0m\n\u001b[0;32m----> 8\u001b[0;31m                                                      eleceng, photeng, rs)\n\u001b[0m",
      "\u001b[0;32m/Users/hongwan/GitHub/DarkHistory/darkhistory/electrons/ics/ics_cooling.py\u001b[0m in \u001b[0;36mget_ics_cooling_tf\u001b[0;34m(raw_nonrel_tf, raw_rel_tf, raw_engloss_tf, eleceng, photeng, rs)\u001b[0m\n\u001b[1;32m     61\u001b[0m     \u001b[0;32mfor\u001b[0m \u001b[0mi\u001b[0m\u001b[0;34m,\u001b[0m \u001b[0min_eng\u001b[0m \u001b[0;32min\u001b[0m \u001b[0menumerate\u001b[0m\u001b[0;34m(\u001b[0m\u001b[0mengloss_tf\u001b[0m\u001b[0;34m.\u001b[0m\u001b[0min_eng\u001b[0m\u001b[0;34m)\u001b[0m\u001b[0;34m:\u001b[0m\u001b[0;34m\u001b[0m\u001b[0m\n\u001b[1;32m     62\u001b[0m         \u001b[0mspec\u001b[0m \u001b[0;34m=\u001b[0m \u001b[0mengloss_tf\u001b[0m\u001b[0;34m[\u001b[0m\u001b[0mi\u001b[0m\u001b[0;34m]\u001b[0m\u001b[0;34m\u001b[0m\u001b[0m\n\u001b[0;32m---> 63\u001b[0;31m         \u001b[0mspec\u001b[0m\u001b[0;34m.\u001b[0m\u001b[0mengloss_rebin\u001b[0m\u001b[0;34m(\u001b[0m\u001b[0min_eng\u001b[0m\u001b[0;34m,\u001b[0m \u001b[0mengloss_tf\u001b[0m\u001b[0;34m.\u001b[0m\u001b[0min_eng\u001b[0m\u001b[0;34m)\u001b[0m\u001b[0;34m\u001b[0m\u001b[0m\n\u001b[0m\u001b[1;32m     64\u001b[0m         \u001b[0msec_elec_tf\u001b[0m\u001b[0;34m.\u001b[0m\u001b[0mappend\u001b[0m\u001b[0;34m(\u001b[0m\u001b[0mspec\u001b[0m\u001b[0;34m)\u001b[0m\u001b[0;34m\u001b[0m\u001b[0m\n\u001b[1;32m     65\u001b[0m \u001b[0;34m\u001b[0m\u001b[0m\n",
      "\u001b[0;32m/Users/hongwan/GitHub/DarkHistory/darkhistory/spec/spectrum.py\u001b[0m in \u001b[0;36mengloss_rebin\u001b[0;34m(self, in_eng, out_eng)\u001b[0m\n\u001b[1;32m    858\u001b[0m             new_spec = rebin_N_arr(\n\u001b[1;32m    859\u001b[0m                 \u001b[0mN_arr\u001b[0m\u001b[0;34m[\u001b[0m\u001b[0mpos_eng\u001b[0m\u001b[0;34m]\u001b[0m\u001b[0;34m,\u001b[0m \u001b[0msec_spec_eng\u001b[0m\u001b[0;34m[\u001b[0m\u001b[0mpos_eng\u001b[0m\u001b[0;34m]\u001b[0m\u001b[0;34m,\u001b[0m\u001b[0;34m\u001b[0m\u001b[0m\n\u001b[0;32m--> 860\u001b[0;31m                 \u001b[0mout_eng\u001b[0m\u001b[0;34m,\u001b[0m \u001b[0mspec_type\u001b[0m \u001b[0;34m=\u001b[0m \u001b[0mself\u001b[0m\u001b[0;34m.\u001b[0m\u001b[0m_spec_type\u001b[0m\u001b[0;34m\u001b[0m\u001b[0m\n\u001b[0m\u001b[1;32m    861\u001b[0m             )\n\u001b[1;32m    862\u001b[0m         \u001b[0;32melse\u001b[0m\u001b[0;34m:\u001b[0m\u001b[0;34m\u001b[0m\u001b[0m\n",
      "\u001b[0;32m/Users/hongwan/GitHub/DarkHistory/darkhistory/spec/spectools.py\u001b[0m in \u001b[0;36mrebin_N_arr\u001b[0;34m(N_arr, in_eng, out_eng, spec_type)\u001b[0m\n\u001b[1;32m    106\u001b[0m     \u001b[0mprint\u001b[0m\u001b[0;34m(\u001b[0m\u001b[0mout_eng\u001b[0m\u001b[0;34m)\u001b[0m\u001b[0;34m\u001b[0m\u001b[0m\n\u001b[1;32m    107\u001b[0m     \u001b[0mprint\u001b[0m\u001b[0;34m(\u001b[0m\u001b[0min_eng\u001b[0m\u001b[0;34m)\u001b[0m\u001b[0;34m\u001b[0m\u001b[0m\n\u001b[0;32m--> 108\u001b[0;31m     \u001b[0;32mif\u001b[0m \u001b[0mout_eng\u001b[0m\u001b[0;34m[\u001b[0m\u001b[0;34m-\u001b[0m\u001b[0;36m1\u001b[0m\u001b[0;34m]\u001b[0m \u001b[0;34m<\u001b[0m \u001b[0min_eng\u001b[0m\u001b[0;34m[\u001b[0m\u001b[0;34m-\u001b[0m\u001b[0;36m1\u001b[0m\u001b[0;34m]\u001b[0m\u001b[0;34m:\u001b[0m\u001b[0;34m\u001b[0m\u001b[0m\n\u001b[0m\u001b[1;32m    109\u001b[0m         \u001b[0;32mraise\u001b[0m \u001b[0mOverflowError\u001b[0m\u001b[0;34m(\u001b[0m\u001b[0;34m\"the new abscissa lies below the old one: this function cannot handle overflow (yet?).\"\u001b[0m\u001b[0;34m)\u001b[0m\u001b[0;34m\u001b[0m\u001b[0m\n\u001b[1;32m    110\u001b[0m     \u001b[0;31m# Get the bin indices that the current abscissa (self.eng) corresponds to in the new abscissa (new_eng). Can be any number between 0 and self.length-1. Bin indices are wrt the bin centers.\u001b[0m\u001b[0;34m\u001b[0m\u001b[0;34m\u001b[0m\u001b[0m\n",
      "\u001b[0;31mIndexError\u001b[0m: index -1 is out of bounds for axis 0 with size 0"
     ]
    }
   ],
   "source": [
    "raw_nonrel_ICS_tf = pickle.load(open(\"/Users/hongwan/Dropbox (MIT)/Photon Deposition/ICS_nonrel.raw\",\"rb\"))\n",
    "raw_rel_ICS_tf = pickle.load(open(\"/Users/hongwan/Dropbox (MIT)/Photon Deposition/ICS_rel.raw\",\"rb\"))\n",
    "raw_engloss_tf = pickle.load(open(\"/Users/hongwan/Dropbox (MIT)/Photon Deposition/ICS_englossspec.raw\",\"rb\"))\n",
    "\n",
    "(ics_phot_tf, ics_lowengelec_tf) = get_ics_cooling_tf(raw_nonrel_ICS_tf,\n",
    "                                                     raw_rel_ICS_tf,\n",
    "                                                     raw_engloss_tf,\n",
    "                                                     eleceng, photeng, rs)"
   ]
  },
  {
   "cell_type": "code",
   "execution_count": null,
   "metadata": {
    "collapsed": true
   },
   "outputs": [],
   "source": []
  }
 ],
 "metadata": {
  "anaconda-cloud": {},
  "kernelspec": {
   "display_name": "Python [default]",
   "language": "python",
   "name": "python3"
  }
 },
 "nbformat": 4,
 "nbformat_minor": 1
}
