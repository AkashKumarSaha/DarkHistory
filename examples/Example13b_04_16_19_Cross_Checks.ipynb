{
 "cells": [
  {
   "cell_type": "markdown",
   "metadata": {},
   "source": [
    "# Introduction"
   ]
  },
  {
   "cell_type": "markdown",
   "metadata": {},
   "source": [
    "In this example, we calcuate $f_c(z)$ and compare against figure 22 in *arxiv*:1604.02457.  Therefore we will be studying dark matter decay into photons or electrons over a wide range of injection energy ($E_{inj}$) values."
   ]
  },
  {
   "cell_type": "code",
   "execution_count": 1,
   "metadata": {},
   "outputs": [],
   "source": [
    "%load_ext autoreload\n",
    "import sys\n",
    "sys.path.append(\"..\")"
   ]
  },
  {
   "cell_type": "markdown",
   "metadata": {},
   "source": [
    "First we set our parameters to the ones used in 1604.02457."
   ]
  },
  {
   "cell_type": "code",
   "execution_count": 2,
   "metadata": {},
   "outputs": [],
   "source": [
    "%autoreload\n",
    "import darkhistory.physics as phys\n",
    "import numpy as np"
   ]
  },
  {
   "cell_type": "code",
   "execution_count": 3,
   "metadata": {},
   "outputs": [],
   "source": [
    "%matplotlib inline"
   ]
  },
  {
   "cell_type": "code",
   "execution_count": 4,
   "metadata": {},
   "outputs": [],
   "source": [
    "%autoreload\n",
    "\n",
    "import matplotlib\n",
    "matplotlib.rc_file('matplotlibrc')\n",
    "import matplotlib.pyplot as plt\n",
    "\n",
    "from astropy.io import fits\n",
    "\n",
    "import numpy as np\n",
    "import copy\n",
    "import pickle\n",
    "import darkhistory.spec.spectools as spectools\n",
    "from tqdm import tqdm_notebook as tqdm\n",
    "from scipy.interpolate import interp1d\n",
    "\n",
    "import main"
   ]
  },
  {
   "cell_type": "markdown",
   "metadata": {},
   "source": [
    "# Specify Model"
   ]
  },
  {
   "cell_type": "code",
   "execution_count": 24,
   "metadata": {},
   "outputs": [],
   "source": [
    "tau=.5e25\n",
    "\n",
    "#Annihilation or decay?\n",
    "inj_particle = 'electron'\n",
    "\n",
    "#Annihilate/Decay into\n",
    "inj_type = 'decay'\n",
    "\n",
    "#Useful definitions\n",
    "if inj_particle == 'electron':\n",
    "    inj_str = 'elec'\n",
    "    mass = phys.me\n",
    "else:\n",
    "    inj_str = 'phot'\n",
    "    mass = 0"
   ]
  },
  {
   "cell_type": "markdown",
   "metadata": {},
   "source": [
    "# Load IDL Files"
   ]
  },
  {
   "cell_type": "markdown",
   "metadata": {},
   "source": [
    "Here we will download the data used in Fig. 22 of 1604.02457, dubbed the \"IDL results\" (since the code used to generate this data was written primarily in IDL)."
   ]
  },
  {
   "cell_type": "markdown",
   "metadata": {},
   "source": [
    "### IDL parameters"
   ]
  },
  {
   "cell_type": "markdown",
   "metadata": {},
   "source": [
    "Download the parameters used in the IDL files (file can be found at *erebus*@*lns.mit.edu:/zfs/gridgway/transferfuncs/ih_continuous_phot/tf_z_3.000E+03_nstep_6398_logE_1.021E+01_xe_0.000E+00.fits*)"
   ]
  },
  {
   "cell_type": "code",
   "execution_count": 25,
   "metadata": {},
   "outputs": [],
   "source": [
    "# direc = cwd+'/../../ih_continuous_'+inj_str\n",
    "user = '/Users/gregoryridgway'\n",
    "direc = user+'/Dropbox (MIT)/Photon Deposition/idl_comparison/GR_Checks/ih_continuous_'\n",
    "\n",
    "hdul = fits.open(direc+'elec/tf_z_3.000E+03_nstep_6398_logE_1.067E+01_xe_0.000E+00.fits')\n",
    "direc = direc+inj_str\n",
    "    \n",
    "data = hdul[1].data\n",
    "\n",
    "idl_photonspectrum = data.field('photonspectrum')[0]\n",
    "idl_lowengphot = data.field('lowengphot')[0]\n",
    "idl_lowengelec = data.field('lowengelec')[0]\n",
    "idl_energy = data.field('energy')[0]\n",
    "idl_eleceng = data.field('eleceng')[0]\n",
    "idl_redshift = data.field('redshift')[0]\n",
    "idl_cmblosstable = data.field('cmblosstable')[0]\n",
    "idl_highengdep = data.field('highdeposited_grid')[0]\n",
    "\n",
    "idl_bin_width = np.diff(np.log(spectools.get_bin_bound(data.field('energy')[0]))) * idl_energy\n",
    "idl_elec_bin_width = np.diff(np.log(spectools.get_bin_bound(data.field('eleceng')[0]))) * idl_eleceng\n",
    "\n",
    "xe_idl = data.field('hionfraction')[0]\n",
    "xHe_idl = data.field('heionfraction')[0]\n",
    "\n",
    "hdul.close()\n",
    "\n",
    "xe_idl_func = interp1d(idl_redshift, xe_idl, bounds_error=False, fill_value=(xe_idl[-1], xe_idl[0]))\n",
    "xHe_idl_func = interp1d(idl_redshift, xHe_idl, bounds_error=False, fill_value=(xHe_idl[-1], xHe_idl[0]))"
   ]
  },
  {
   "cell_type": "markdown",
   "metadata": {},
   "source": [
    "The input energies used along the x-axis of Fig. 22 in 1604.02457"
   ]
  },
  {
   "cell_type": "code",
   "execution_count": 26,
   "metadata": {},
   "outputs": [],
   "source": [
    "log10eng0 = 3.6989700794219966\n",
    "log10eng = np.array([log10eng0 + 0.23252559*i for i in np.arange(40)])\n",
    "log10eng[-1] = np.log10(idl_energy[-1])*.99"
   ]
  },
  {
   "cell_type": "code",
   "execution_count": 27,
   "metadata": {},
   "outputs": [
    {
     "data": {
      "text/plain": [
       "12.601505994846297"
      ]
     },
     "execution_count": 27,
     "metadata": {},
     "output_type": "execute_result"
    }
   ],
   "source": [
    "log10eng[-1]"
   ]
  },
  {
   "cell_type": "markdown",
   "metadata": {},
   "source": [
    "### IDL f(z)'s"
   ]
  },
  {
   "cell_type": "markdown",
   "metadata": {},
   "source": [
    "Download the f(z)'s generated from IDL (can be found in `erebus:/zfs/gridgway/transferfuncs/ih_continuous_elec_v2/` for electrons and `erebus:/zfs/gridgway/transferfuncs/ih_continuous_phot/` for photons)"
   ]
  },
  {
   "cell_type": "code",
   "execution_count": 167,
   "metadata": {},
   "outputs": [],
   "source": [
    "float_formatter = lambda x,n: (\"{:.\"+str(n)+\"E}\").format(x,n)\n",
    "\n",
    "rs_list = [3000*np.exp(-0.001*i) for i in np.arange(6398)]\n",
    "f_idl_list = np.zeros((len(log10eng),5,6398))\n",
    "for i, en in enumerate(log10eng[:-1]):\n",
    "    hdul = fits.open(\n",
    "        direc+'/calcfracs_tf_z_3.000E+03_nstep_6398_logE_'\n",
    "        +float_formatter(np.log10(10**en+mass), 3)+'_xe_0.000E+00.fits'\n",
    "    )\n",
    "\n",
    "    data = hdul[1].data\n",
    "\n",
    "    f_idl_low  = data.field('loweng_deposition_fractions')[0]\n",
    "    f_idl_high = data.field('higheng_deposition_fractions')[0]\n",
    "    idl_redshift     = data.field('redshift')[0]\n",
    "\n",
    "    f_idl_list[i,:] = f_idl_low + f_idl_high\n",
    "#     f_idl_list[i,:] = f_idl_low\n",
    "#     f_idl_list[i,:] = f_idl_high\n",
    "#     f_idl_list[f_idl_list<=0] = 1e-12\n",
    "\n",
    "    hdul.close()"
   ]
  },
  {
   "cell_type": "markdown",
   "metadata": {},
   "source": [
    "### Contour Plots"
   ]
  },
  {
   "cell_type": "markdown",
   "metadata": {},
   "source": [
    "To prove that we have actually downloaded the correct data, we reproduce the contour plots below.  The discrepancies between these contour plots and those in Fig. 22 come from interpolation errors in Fig. 22 that aren't in the below."
   ]
  },
  {
   "cell_type": "code",
   "execution_count": 176,
   "metadata": {},
   "outputs": [],
   "source": [
    "def get_fcontour(f_input, inj_type, inj_particle, channel):\n",
    "    f_for_plot = f_input.copy()\n",
    "    eng = 10**log10eng\n",
    "    coarsen_factor=12\n",
    "\n",
    "    ind = {'H_ion' : 0, 'He_ion' : 1, 'exc' : 2, 'heat' : 3, 'cont' : 4}[channel]\n",
    "    if ind < 2:\n",
    "        label = {'H_ion' : 'H_{ion}', 'He_ion' : 'He_{ion}'}[channel]\n",
    "    else:\n",
    "        label = channel\n",
    "    title = r'\\bf{$f_{'+label+'}$}'\n",
    "    \n",
    "    ax = plt.gca()\n",
    "    ax.set_xscale('log')\n",
    "    ax.set_yscale('log')\n",
    "\n",
    "    plt.axis([eng[0], eng[-1], 5, 2e3])\n",
    "    print(len(eng))\n",
    "    print(len(rs_vec))\n",
    "    print(f_for_plot[:,ind].shape)\n",
    "\n",
    "    levels = np.array([1e-5, 1e-4, 1e-3, 5e-3, 1e-2, 5e-2, 1e-1, 3e-1, 1e0])\n",
    "    if inj_type is 'decay':\n",
    "        if channel is 'He_ion':\n",
    "            if inj_particle is 'phot':\n",
    "                levels = np.array([1e-7, 1e-6, 1e-5, 1e-4, 5e-4, 1e-3, 5e-3, 1e-2, 4e-2])\n",
    "            else:\n",
    "                levels = np.array([1e-6, 1e-5, 5e-5, 1e-4, 5e-4, 1e-3, 5e-3, 1e-2, 4e-2])\n",
    "        elif channel is 'exc':\n",
    "            if inj_particle is 'phot':\n",
    "                levels = np.array([1e-5, 1e-4, 1e-3, 5e-3, 1e-2, 3e-2, 5e-2, 1e-1, 1e-0])\n",
    "            else:\n",
    "                levels = np.array([1e-4, 1e-3, 5e-3, 1e-2, 3e-2, 5e-2, 1e-1, 2e-1, 7e-1])\n",
    "        elif (channel is 'heat') or (channel is 'cont'):\n",
    "            if inj_particle is 'elec':\n",
    "                levels = np.array([1e-5, 1e-4, 1e-3, 1e-2, 5e-2, 1e-1, 3e-1, 5e-1, 1, 2])\n",
    "    else:\n",
    "        if inj_particle == 'phot':\n",
    "            levels = np.array([1e-3, 1e-2, 1e-1, 2e-1, 5e-1, 1, 5, 10, 50, 200])\n",
    "            if channel is 'He_ion':\n",
    "                levels = np.array([1e-5, 1e-4, 1e-3, 5e-3, 1e-2, 5e-2, 1, 5, 10,100])\n",
    "            elif channel is 'exc':\n",
    "                levels = np.array([1e-3, 1e-2, 5e-2, 1e-1, 5e-1, 1, 5, 10, 100, 500])\n",
    "            elif channel is 'heat':\n",
    "                levels = np.array([1e-3, 1e-2, 2e-2, 5e-2, 1e-1, 2e-1, 5e-1, 1, 5, 10, 100])\n",
    "            elif channel is 'cont':\n",
    "                levels = np.array([1e-3, 1e-2, 2e-2, 5e-2, 1e-1, 5e-1, 1, 5, 10, 50, 500])\n",
    "        elif inj_particle == 'elec':\n",
    "            levels = np.array([1e-3, 1e-2, 1e-1, 3e-1, 1, 10, 100, 1000, 10000, 30000])\n",
    "            if channel is 'He_ion':\n",
    "                levels = np.array([1e-5, 1e-4, 1e-3, 2e-3, 1e-2, 1e-1, 10, 50, 1000])\n",
    "            elif channel is 'exc':\n",
    "                levels = np.array([1e-3, 1e-2, 5e-2, 1e-1, 2e-1, 1, 10, 100, 1000, 5000])\n",
    "            elif channel is 'heat':\n",
    "                levels = np.array([1e-3, 1e-2, 2e-2, 5e-2, 1e-1, 2e-1, 5e-1, 1, 10, 100, 1000, 10000])\n",
    "            elif channel is 'cont':\n",
    "                levels = np.array([1e-3, 1e-2, 2e-2, 5e-2, 1e-1, 5e-1, 1, 10, 100, 1000, 10000])\n",
    "                \n",
    "    f_for_plot[f_for_plot < levels[0]] = levels[0]*(1+.01)\n",
    "    f_for_plot[f_for_plot > levels[-1]] = levels[-1]*(1-.01)\n",
    "    \n",
    "    levels2 = np.exp(np.linspace(np.log(levels[0]),np.log(levels[-1]),100))\n",
    "    cs = ax.contourf(eng,rs_vec,\n",
    "                     np.transpose(f_for_plot[:,ind]), \n",
    "#                      locator=matplotlib.ticker.LogLocator(), \n",
    "                     norm=matplotlib.colors.LogNorm(),\n",
    "                     levels=levels2,\n",
    "                     cmap=matplotlib.cm.inferno)\n",
    "#                      cmap=matplotlib.cm.RdBu_r)\n",
    "    ax.contour(eng,rs_vec,\n",
    "               np.transpose(f_for_plot[:,ind]),  \n",
    "               levels=levels[1:-1],\n",
    "               colors='k',\n",
    "               alpha=.4\n",
    "              )\n",
    "\n",
    "    cbar = plt.colorbar(cs, ticks=levels)\n",
    "    cbar.ax.set_xticklabels(str(levels))\n",
    "\n",
    "    plt.title(title)\n",
    "    plt.ylabel(r'Redshift ($1+z$)')\n",
    "    plt.xlabel(r'Kinetic Energy [eV]')\n",
    "    \n",
    "#     plt.savefig(\n",
    "#         cwd+'/../../../f'+inj_particle+'_'+inj_type+'_'+channel+'_contour.png'\n",
    "#     )\n",
    "#     plt.savefig(\n",
    "#         '/Users/gridgway/Dropbox (MIT)/Photon Deposition/Draft/plots/f_contour/f'+\n",
    "#         inj_particle+'_'+inj_type+'_'+channel+'_contour.pdf'\n",
    "#     )\n",
    "    plt.show()"
   ]
  },
  {
   "cell_type": "code",
   "execution_count": 86,
   "metadata": {
    "scrolled": true
   },
   "outputs": [
    {
     "name": "stdout",
     "output_type": "stream",
     "text": [
      "40\n",
      "6398\n",
      "(40, 6398)\n"
     ]
    },
    {
     "data": {
      "image/png": "[encoded data removed]",
      "text/plain": [
       "<Figure size 620x620 with 2 Axes>"
      ]
     },
     "metadata": {},
     "output_type": "display_data"
    }
   ],
   "source": [
    "rs_vec = 3000*np.exp(-.001*np.arange(6398))\n",
    "get_fcontour(f_idl_list, 'decay', 'elec', 'heat')"
   ]
  },
  {
   "cell_type": "code",
   "execution_count": 179,
   "metadata": {
    "scrolled": false
   },
   "outputs": [
    {
     "name": "stdout",
     "output_type": "stream",
     "text": [
      "40\n",
      "828\n",
      "(40, 828)\n"
     ]
    },
    {
     "data": {
      "image/png": "[encoded data removed]",
      "text/plain": [
       "<Figure size 620x620 with 2 Axes>"
      ]
     },
     "metadata": {},
     "output_type": "display_data"
    }
   ],
   "source": [
    "rs_vec = f_DH_data[0]['rs']\n",
    "get_fcontour(f_DH_list, 'swave', 'elec', 'H_ion')"
   ]
  },
  {
   "cell_type": "code",
   "execution_count": 160,
   "metadata": {},
   "outputs": [],
   "source": [
    "def get_fdiff(inj_type, inj_particle, channel):\n",
    "    folder = inj_str+'_'+inj_type+'/'\n",
    "    \n",
    "    eng = 10**log10eng   \n",
    "\n",
    "    rs_list = np.array([3000*np.exp(-0.001*i) for i in np.arange(6398)])\n",
    "\n",
    "    ind = {'H ion' : 0, 'He ion' : 1, 'exc' : 2, 'heat' : 3, 'cont' : 4}[channel]\n",
    "    if ind < 2:\n",
    "        label = {'H ion' : 'H_{ion}', 'He ion' : 'He_{ion}'}[channel]\n",
    "    else:\n",
    "        label = channel\n",
    "    title = r'\\bf{$f_{'+label+'}$}'\n",
    "    f_DH_tmp = f_DH_list[:,ind,:800]\n",
    "\n",
    "    plt.figure()\n",
    "    ax=plt.gca()\n",
    "    ax.loglog()\n",
    "    levels=[0,.01,.05,.1,.2,.3,.4,.5]#,.2,.3,.4,.5,1]\n",
    "    \n",
    "    diffs = np.zeros_like(f_DH_tmp)\n",
    "    diffs = np.abs(\n",
    "        f_DH_tmp - f_idl_list[:,ind,::8]\n",
    "    )/f_idl_list[:,ind,::8]\n",
    "    \n",
    "    cs2 = ax.contourf(eng, rs_list[::8], np.transpose(diffs), levels = levels,\n",
    "                     cmap=matplotlib.cm.RdBu_r)\n",
    "    cbar = plt.colorbar(cs2, ticks=levels)\n",
    "    \n",
    "    plt.title(title)\n",
    "    plt.ylabel(r'Redshift ($1+z$)')\n",
    "    plt.xlabel(r'Kinetic Energy [eV]')\n",
    "\n",
    "    plt.savefig(\n",
    "        '/Users/gregoryridgway/Desktop/April_DH_idl_comparisons/f'+inj_particle+'_'+inj_type+'_'+channel+'_IDLdiffs_combined.png'\n",
    "    )\n",
    "    plt.show()\n",
    "\n",
    "#     plt.savefig(\n",
    "#         cwd+'/../../'+folder+'f'+inj_particle+'_'+inj_type+'_'+channel+'_IDLdiffs.png'\n",
    "#     )"
   ]
  },
  {
   "cell_type": "code",
   "execution_count": 172,
   "metadata": {},
   "outputs": [
    {
     "name": "stderr",
     "output_type": "stream",
     "text": [
      "/usr/local/Cellar/ipython/7.2.0/libexec/vendor/lib/python3.7/site-packages/ipykernel_launcher.py:24: RuntimeWarning: divide by zero encountered in true_divide\n"
     ]
    },
    {
     "data": {
      "image/png": "[encoded data removed]",
      "text/plain": [
       "<Figure size 620x620 with 2 Axes>"
      ]
     },
     "metadata": {},
     "output_type": "display_data"
    }
   ],
   "source": [
    "get_fdiff('decay', 'elec', 'heat')"
   ]
  },
  {
   "cell_type": "markdown",
   "metadata": {},
   "source": [
    "## DH"
   ]
  },
  {
   "cell_type": "code",
   "execution_count": 37,
   "metadata": {},
   "outputs": [],
   "source": [
    "inj_particle='electron'\n",
    "inj_type='decay'\n",
    "inj_str = inj_particle[:4]"
   ]
  },
  {
   "cell_type": "code",
   "execution_count": 76,
   "metadata": {},
   "outputs": [],
   "source": [
    "f_DH_data = pickle.load(open( \n",
    "            '/Users/gregoryridgway/Dropbox (MIT)/Photon Deposition/idl_comparison/GR_Checks/ih_continuous_'\n",
    "                       +inj_str+'/f_'+inj_str+'_'+inj_type+'_notCrossCheck_v4.p','rb'\n",
    "                      ))"
   ]
  },
  {
   "cell_type": "code",
   "execution_count": 175,
   "metadata": {},
   "outputs": [],
   "source": [
    "rs_vec = f_DH_data[0]['rs']\n",
    "# f_DH_list = np.ones((40,5,len(rs_vec)))*1e-6\n",
    "f_DH_data = f_DH_data_elec_swave.copy()\n",
    "tmp=1\n",
    "tmp2=1\n",
    "for k in np.arange(40):\n",
    "    f_DH_list[k] = np.array(\n",
    "    [(tmp2*f_DH_data[k]['f']['low']['H ion']+tmp*f_DH_data[k]['f']['high']['H ion']),\n",
    "     (tmp2*f_DH_data[k]['f']['low']['He ion']+tmp*f_DH_data[k]['f']['high']['He ion']),\n",
    "     (tmp2*f_DH_data[k]['f']['low']['exc']+tmp*f_DH_data[k]['f']['high']['exc']),\n",
    "     (tmp2*f_DH_data[k]['f']['low']['heat']+tmp*f_DH_data[k]['f']['high']['heat']),\n",
    "     (tmp2*f_DH_data[k]['f']['low']['cont']+tmp*f_DH_data[k]['f']['high']['cont'])]\n",
    ")\n",
    "\n",
    "# f_DH_list = np.swapaxes(f_DH_list,1,2)\n",
    "f_DH_list[f_DH_list<=0] = 1e-12"
   ]
  },
  {
   "cell_type": "code",
   "execution_count": 34,
   "metadata": {},
   "outputs": [],
   "source": [
    "def save_as_pickled_object(obj, filepath):\n",
    "    \"\"\"\n",
    "    This is a defensive way to write pickle.write, allowing for very large files on all platforms\n",
    "    \"\"\"\n",
    "    max_bytes = 2**31 - 1\n",
    "    bytes_out = pickle.dumps(obj)\n",
    "    n_bytes = sys.getsizeof(bytes_out)\n",
    "    with open(filepath, 'wb') as f_out:\n",
    "        for idx in range(0, n_bytes, max_bytes):\n",
    "            f_out.write(bytes_out[idx:idx+max_bytes])"
   ]
  },
  {
   "cell_type": "markdown",
   "metadata": {},
   "source": [
    "# Compute DH f(z)'s"
   ]
  },
  {
   "cell_type": "markdown",
   "metadata": {},
   "source": [
    "Now we reproduce the above f(z)'s.  We compute the energy deposition history for 40 different DM masses, i.e. 40 different columns of the above plot, each DM mass corresponding to an $E_{inj}$ stored in `log10eng`.\n",
    "\n",
    "(Description of Tracy's injection of 2+epsilon particles method)\n",
    "\n",
    "(rate functions in the form of $\\frac{\\rho (z)}{m_DM}$ for example)"
   ]
  },
  {
   "cell_type": "code",
   "execution_count": 35,
   "metadata": {},
   "outputs": [],
   "source": [
    "inj_type='decay'\n",
    "if inj_type == 'decay':\n",
    "    def struct_boost(rs):\n",
    "        return 1\n",
    "else:\n",
    "    struct_boost = phys.struct_boost_func('einasto_with_subs')"
   ]
  },
  {
   "cell_type": "code",
   "execution_count": 323,
   "metadata": {},
   "outputs": [],
   "source": [
    "%autoreload\n",
    "\n",
    "tau=3e27\n",
    "sigmav=3e-28\n",
    "def get_column(i, f_DH_list, inj_particle='electron', inj_type='decay', end_rs=4.004):\n",
    "    \"\"\" Produce one column of the f differential plot\n",
    "    \"\"\"\n",
    "    #injection energy, DM mass, center-of-mass energy\n",
    "    Einj = 10**log10eng[i]\n",
    "    mDM = 2*Einj + 2*mass\n",
    "    Ecom=mDM\n",
    "    \n",
    "    if inj_type == 'decay':\n",
    "        def struct_boost(rs):\n",
    "            return 1\n",
    "    else:\n",
    "        def struct_boost(rs):\n",
    "            return 1\n",
    "#         struct_boost = phys.struct_boost_func('einasto_with_subs')\n",
    "    \n",
    "    def rate_func_N(rs):\n",
    "        return phys.inj_rate(inj_type, rs, mDM=mDM, sigmav=sigmav, tau=tau)*struct_boost(rs)/Ecom\n",
    "    def rate_func_eng(rs):\n",
    "        return phys.inj_rate(inj_type, rs, mDM=mDM, sigmav=sigmav, tau=tau)*struct_boost(rs)\n",
    "    \n",
    "    if inj_type == 'swave':\n",
    "        mDM = mDM/2\n",
    "        Ecom = 2*mDM   \n",
    "    \n",
    "\n",
    "    if inj_particle == 'photon':\n",
    "        primary = 'phot_delta'\n",
    "        coarsen_factor = 1\n",
    "    else:\n",
    "        primary = 'elec_delta'\n",
    "        coarsen_factor = 8\n",
    "    \n",
    "    f_DH_list[i] = main.evolve(\n",
    "        primary=primary,\n",
    "        rate_func_N=rate_func_N, rate_func_eng=rate_func_eng,\n",
    "        DM_process=inj_type, mDM=mDM, sigmav=sigmav, lifetime=tau,\n",
    "        start_rs = 3000, end_rs=end_rs,\n",
    "        coarsen_factor=coarsen_factor, backreaction=False,\n",
    "        struct_boost=struct_boost\n",
    "    )"
   ]
  },
  {
   "cell_type": "code",
   "execution_count": 113,
   "metadata": {
    "collapsed": true
   },
   "outputs": [
    {
     "data": {
      "application/vnd.jupyter.widget-view+json": {
       "model_id": "7bc2d6a010e243e5afb18a5f5bbeb612",
       "version_major": 2,
       "version_minor": 0
      },
      "text/plain": [
       "HBox(children=(IntProgress(value=0, max=40), HTML(value='')))"
      ]
     },
     "metadata": {},
     "output_type": "display_data"
    },
    {
     "name": "stdout",
     "output_type": "stream",
     "text": [
      "starting run  10\n"
     ]
    },
    {
     "data": {
      "application/vnd.jupyter.widget-view+json": {
       "model_id": "265ffcbbf3e3497a84d5754336c755ef",
       "version_major": 2,
       "version_minor": 0
      },
      "text/plain": [
       "HBox(children=(IntProgress(value=0, max=828), HTML(value='')))"
      ]
     },
     "metadata": {},
     "output_type": "display_data"
    }
   ],
   "source": [
    "%autoreload\n",
    "inj_type='decay'\n",
    "inj_particle='electron'\n",
    "inj_str=inj_particle[:4]\n",
    "\n",
    "if inj_particle == 'electron':\n",
    "    mass = phys.me\n",
    "else:\n",
    "    mass = 0\n",
    "\n",
    "# f_DH_data = [None for i in np.arange(40)]\n",
    "\n",
    "for k in tqdm(np.arange(40)):\n",
    "    if k==10:\n",
    "        print('starting run ', k)\n",
    "        get_column(k, f_DH_data, inj_particle=inj_particle, inj_type=inj_type, end_rs=4.004)\n",
    "\n",
    "# save_as_pickled_object(f_DH_data, \n",
    "#             '/Users/gregoryridgway/Dropbox (MIT)/Photon Deposition/idl_comparison/GR_Checks/ih_continuous_'\n",
    "#                        +inj_str+'/f_'+inj_str+'_'+inj_type+'_notCrossCheck_v4.p'\n",
    "#                       )"
   ]
  },
  {
   "cell_type": "code",
   "execution_count": 173,
   "metadata": {
    "collapsed": true
   },
   "outputs": [
    {
     "data": {
      "application/vnd.jupyter.widget-view+json": {
       "model_id": "",
       "version_major": 2,
       "version_minor": 0
      },
      "text/plain": [
       "HBox(children=(IntProgress(value=0, max=40), HTML(value='')))"
      ]
     },
     "metadata": {},
     "output_type": "display_data"
    },
    {
     "name": "stdout",
     "output_type": "stream",
     "text": [
      "starting run  0\n"
     ]
    },
    {
     "data": {
      "application/vnd.jupyter.widget-view+json": {
       "model_id": "",
       "version_major": 2,
       "version_minor": 0
      },
      "text/plain": [
       "HBox(children=(IntProgress(value=0, max=828), HTML(value='')))"
      ]
     },
     "metadata": {},
     "output_type": "display_data"
    },
    {
     "name": "stdout",
     "output_type": "stream",
     "text": [
      "starting run  1\n"
     ]
    },
    {
     "data": {
      "application/vnd.jupyter.widget-view+json": {
       "model_id": "",
       "version_major": 2,
       "version_minor": 0
      },
      "text/plain": [
       "HBox(children=(IntProgress(value=0, max=828), HTML(value='')))"
      ]
     },
     "metadata": {},
     "output_type": "display_data"
    },
    {
     "name": "stdout",
     "output_type": "stream",
     "text": [
      "starting run  2\n"
     ]
    },
    {
     "data": {
      "application/vnd.jupyter.widget-view+json": {
       "model_id": "",
       "version_major": 2,
       "version_minor": 0
      },
      "text/plain": [
       "HBox(children=(IntProgress(value=0, max=828), HTML(value='')))"
      ]
     },
     "metadata": {},
     "output_type": "display_data"
    },
    {
     "name": "stdout",
     "output_type": "stream",
     "text": [
      "starting run  3\n"
     ]
    },
    {
     "data": {
      "application/vnd.jupyter.widget-view+json": {
       "model_id": "",
       "version_major": 2,
       "version_minor": 0
      },
      "text/plain": [
       "HBox(children=(IntProgress(value=0, max=828), HTML(value='')))"
      ]
     },
     "metadata": {},
     "output_type": "display_data"
    },
    {
     "name": "stdout",
     "output_type": "stream",
     "text": [
      "starting run  4\n"
     ]
    },
    {
     "data": {
      "application/vnd.jupyter.widget-view+json": {
       "model_id": "",
       "version_major": 2,
       "version_minor": 0
      },
      "text/plain": [
       "HBox(children=(IntProgress(value=0, max=828), HTML(value='')))"
      ]
     },
     "metadata": {},
     "output_type": "display_data"
    },
    {
     "name": "stdout",
     "output_type": "stream",
     "text": [
      "starting run  5\n"
     ]
    },
    {
     "data": {
      "application/vnd.jupyter.widget-view+json": {
       "model_id": "",
       "version_major": 2,
       "version_minor": 0
      },
      "text/plain": [
       "HBox(children=(IntProgress(value=0, max=828), HTML(value='')))"
      ]
     },
     "metadata": {},
     "output_type": "display_data"
    },
    {
     "name": "stdout",
     "output_type": "stream",
     "text": [
      "starting run  6\n"
     ]
    },
    {
     "data": {
      "application/vnd.jupyter.widget-view+json": {
       "model_id": "",
       "version_major": 2,
       "version_minor": 0
      },
      "text/plain": [
       "HBox(children=(IntProgress(value=0, max=828), HTML(value='')))"
      ]
     },
     "metadata": {},
     "output_type": "display_data"
    },
    {
     "name": "stdout",
     "output_type": "stream",
     "text": [
      "starting run  7\n"
     ]
    },
    {
     "data": {
      "application/vnd.jupyter.widget-view+json": {
       "model_id": "",
       "version_major": 2,
       "version_minor": 0
      },
      "text/plain": [
       "HBox(children=(IntProgress(value=0, max=828), HTML(value='')))"
      ]
     },
     "metadata": {},
     "output_type": "display_data"
    },
    {
     "name": "stdout",
     "output_type": "stream",
     "text": [
      "starting run  8\n"
     ]
    },
    {
     "data": {
      "application/vnd.jupyter.widget-view+json": {
       "model_id": "",
       "version_major": 2,
       "version_minor": 0
      },
      "text/plain": [
       "HBox(children=(IntProgress(value=0, max=828), HTML(value='')))"
      ]
     },
     "metadata": {},
     "output_type": "display_data"
    },
    {
     "name": "stdout",
     "output_type": "stream",
     "text": [
      "starting run  9\n"
     ]
    },
    {
     "data": {
      "application/vnd.jupyter.widget-view+json": {
       "model_id": "",
       "version_major": 2,
       "version_minor": 0
      },
      "text/plain": [
       "HBox(children=(IntProgress(value=0, max=828), HTML(value='')))"
      ]
     },
     "metadata": {},
     "output_type": "display_data"
    },
    {
     "name": "stdout",
     "output_type": "stream",
     "text": [
      "starting run  10\n"
     ]
    },
    {
     "data": {
      "application/vnd.jupyter.widget-view+json": {
       "model_id": "",
       "version_major": 2,
       "version_minor": 0
      },
      "text/plain": [
       "HBox(children=(IntProgress(value=0, max=828), HTML(value='')))"
      ]
     },
     "metadata": {},
     "output_type": "display_data"
    },
    {
     "name": "stderr",
     "output_type": "stream",
     "text": [
      "/usr/local/lib/python3.7/site-packages/scipy/integrate/odepack.py:247: ODEintWarning: Excess work done on this call (perhaps wrong Dfun type). Run with full_output = 1 to get quantitative information.\n",
      "  warnings.warn(warning_msg, ODEintWarning)\n"
     ]
    },
    {
     "name": "stdout",
     "output_type": "stream",
     "text": [
      "starting run  11\n"
     ]
    },
    {
     "data": {
      "application/vnd.jupyter.widget-view+json": {
       "model_id": "",
       "version_major": 2,
       "version_minor": 0
      },
      "text/plain": [
       "HBox(children=(IntProgress(value=0, max=828), HTML(value='')))"
      ]
     },
     "metadata": {},
     "output_type": "display_data"
    },
    {
     "name": "stdout",
     "output_type": "stream",
     "text": [
      "starting run  12\n"
     ]
    },
    {
     "data": {
      "application/vnd.jupyter.widget-view+json": {
       "model_id": "",
       "version_major": 2,
       "version_minor": 0
      },
      "text/plain": [
       "HBox(children=(IntProgress(value=0, max=828), HTML(value='')))"
      ]
     },
     "metadata": {},
     "output_type": "display_data"
    },
    {
     "name": "stdout",
     "output_type": "stream",
     "text": [
      "starting run  13\n"
     ]
    },
    {
     "data": {
      "application/vnd.jupyter.widget-view+json": {
       "model_id": "",
       "version_major": 2,
       "version_minor": 0
      },
      "text/plain": [
       "HBox(children=(IntProgress(value=0, max=828), HTML(value='')))"
      ]
     },
     "metadata": {},
     "output_type": "display_data"
    },
    {
     "name": "stdout",
     "output_type": "stream",
     "text": [
      "starting run  14\n"
     ]
    },
    {
     "data": {
      "application/vnd.jupyter.widget-view+json": {
       "model_id": "",
       "version_major": 2,
       "version_minor": 0
      },
      "text/plain": [
       "HBox(children=(IntProgress(value=0, max=828), HTML(value='')))"
      ]
     },
     "metadata": {},
     "output_type": "display_data"
    },
    {
     "name": "stdout",
     "output_type": "stream",
     "text": [
      "starting run  15\n"
     ]
    },
    {
     "data": {
      "application/vnd.jupyter.widget-view+json": {
       "model_id": "",
       "version_major": 2,
       "version_minor": 0
      },
      "text/plain": [
       "HBox(children=(IntProgress(value=0, max=828), HTML(value='')))"
      ]
     },
     "metadata": {},
     "output_type": "display_data"
    },
    {
     "name": "stdout",
     "output_type": "stream",
     "text": [
      "starting run  16\n"
     ]
    },
    {
     "data": {
      "application/vnd.jupyter.widget-view+json": {
       "model_id": "",
       "version_major": 2,
       "version_minor": 0
      },
      "text/plain": [
       "HBox(children=(IntProgress(value=0, max=828), HTML(value='')))"
      ]
     },
     "metadata": {},
     "output_type": "display_data"
    },
    {
     "name": "stdout",
     "output_type": "stream",
     "text": [
      "starting run  17\n"
     ]
    },
    {
     "data": {
      "application/vnd.jupyter.widget-view+json": {
       "model_id": "",
       "version_major": 2,
       "version_minor": 0
      },
      "text/plain": [
       "HBox(children=(IntProgress(value=0, max=828), HTML(value='')))"
      ]
     },
     "metadata": {},
     "output_type": "display_data"
    },
    {
     "name": "stdout",
     "output_type": "stream",
     "text": [
      "starting run  18\n"
     ]
    },
    {
     "data": {
      "application/vnd.jupyter.widget-view+json": {
       "model_id": "",
       "version_major": 2,
       "version_minor": 0
      },
      "text/plain": [
       "HBox(children=(IntProgress(value=0, max=828), HTML(value='')))"
      ]
     },
     "metadata": {},
     "output_type": "display_data"
    },
    {
     "name": "stdout",
     "output_type": "stream",
     "text": [
      "starting run  19\n"
     ]
    },
    {
     "data": {
      "application/vnd.jupyter.widget-view+json": {
       "model_id": "",
       "version_major": 2,
       "version_minor": 0
      },
      "text/plain": [
       "HBox(children=(IntProgress(value=0, max=828), HTML(value='')))"
      ]
     },
     "metadata": {},
     "output_type": "display_data"
    },
    {
     "name": "stdout",
     "output_type": "stream",
     "text": [
      "starting run  20\n"
     ]
    },
    {
     "data": {
      "application/vnd.jupyter.widget-view+json": {
       "model_id": "",
       "version_major": 2,
       "version_minor": 0
      },
      "text/plain": [
       "HBox(children=(IntProgress(value=0, max=828), HTML(value='')))"
      ]
     },
     "metadata": {},
     "output_type": "display_data"
    },
    {
     "name": "stdout",
     "output_type": "stream",
     "text": [
      "starting run  21\n"
     ]
    },
    {
     "data": {
      "application/vnd.jupyter.widget-view+json": {
       "model_id": "",
       "version_major": 2,
       "version_minor": 0
      },
      "text/plain": [
       "HBox(children=(IntProgress(value=0, max=828), HTML(value='')))"
      ]
     },
     "metadata": {},
     "output_type": "display_data"
    },
    {
     "name": "stdout",
     "output_type": "stream",
     "text": [
      "starting run  22\n"
     ]
    },
    {
     "data": {
      "application/vnd.jupyter.widget-view+json": {
       "model_id": "",
       "version_major": 2,
       "version_minor": 0
      },
      "text/plain": [
       "HBox(children=(IntProgress(value=0, max=828), HTML(value='')))"
      ]
     },
     "metadata": {},
     "output_type": "display_data"
    },
    {
     "name": "stdout",
     "output_type": "stream",
     "text": [
      "starting run  23\n"
     ]
    },
    {
     "data": {
      "application/vnd.jupyter.widget-view+json": {
       "model_id": "",
       "version_major": 2,
       "version_minor": 0
      },
      "text/plain": [
       "HBox(children=(IntProgress(value=0, max=828), HTML(value='')))"
      ]
     },
     "metadata": {},
     "output_type": "display_data"
    },
    {
     "name": "stdout",
     "output_type": "stream",
     "text": [
      "starting run  24\n"
     ]
    },
    {
     "data": {
      "application/vnd.jupyter.widget-view+json": {
       "model_id": "",
       "version_major": 2,
       "version_minor": 0
      },
      "text/plain": [
       "HBox(children=(IntProgress(value=0, max=828), HTML(value='')))"
      ]
     },
     "metadata": {},
     "output_type": "display_data"
    },
    {
     "name": "stdout",
     "output_type": "stream",
     "text": [
      "starting run  25\n"
     ]
    },
    {
     "data": {
      "application/vnd.jupyter.widget-view+json": {
       "model_id": "",
       "version_major": 2,
       "version_minor": 0
      },
      "text/plain": [
       "HBox(children=(IntProgress(value=0, max=828), HTML(value='')))"
      ]
     },
     "metadata": {},
     "output_type": "display_data"
    },
    {
     "name": "stdout",
     "output_type": "stream",
     "text": [
      "starting run  26\n"
     ]
    },
    {
     "data": {
      "application/vnd.jupyter.widget-view+json": {
       "model_id": "",
       "version_major": 2,
       "version_minor": 0
      },
      "text/plain": [
       "HBox(children=(IntProgress(value=0, max=828), HTML(value='')))"
      ]
     },
     "metadata": {},
     "output_type": "display_data"
    },
    {
     "name": "stdout",
     "output_type": "stream",
     "text": [
      "starting run  27\n"
     ]
    },
    {
     "data": {
      "application/vnd.jupyter.widget-view+json": {
       "model_id": "",
       "version_major": 2,
       "version_minor": 0
      },
      "text/plain": [
       "HBox(children=(IntProgress(value=0, max=828), HTML(value='')))"
      ]
     },
     "metadata": {},
     "output_type": "display_data"
    },
    {
     "name": "stdout",
     "output_type": "stream",
     "text": [
      "starting run  28\n"
     ]
    },
    {
     "data": {
      "application/vnd.jupyter.widget-view+json": {
       "model_id": "",
       "version_major": 2,
       "version_minor": 0
      },
      "text/plain": [
       "HBox(children=(IntProgress(value=0, max=828), HTML(value='')))"
      ]
     },
     "metadata": {},
     "output_type": "display_data"
    },
    {
     "name": "stdout",
     "output_type": "stream",
     "text": [
      "starting run  29\n"
     ]
    },
    {
     "data": {
      "application/vnd.jupyter.widget-view+json": {
       "model_id": "",
       "version_major": 2,
       "version_minor": 0
      },
      "text/plain": [
       "HBox(children=(IntProgress(value=0, max=828), HTML(value='')))"
      ]
     },
     "metadata": {},
     "output_type": "display_data"
    },
    {
     "name": "stdout",
     "output_type": "stream",
     "text": [
      "starting run  30\n"
     ]
    },
    {
     "data": {
      "application/vnd.jupyter.widget-view+json": {
       "model_id": "",
       "version_major": 2,
       "version_minor": 0
      },
      "text/plain": [
       "HBox(children=(IntProgress(value=0, max=828), HTML(value='')))"
      ]
     },
     "metadata": {},
     "output_type": "display_data"
    },
    {
     "name": "stdout",
     "output_type": "stream",
     "text": [
      "starting run  31\n"
     ]
    },
    {
     "data": {
      "application/vnd.jupyter.widget-view+json": {
       "model_id": "",
       "version_major": 2,
       "version_minor": 0
      },
      "text/plain": [
       "HBox(children=(IntProgress(value=0, max=828), HTML(value='')))"
      ]
     },
     "metadata": {},
     "output_type": "display_data"
    },
    {
     "name": "stdout",
     "output_type": "stream",
     "text": [
      "starting run  32\n"
     ]
    },
    {
     "data": {
      "application/vnd.jupyter.widget-view+json": {
       "model_id": "",
       "version_major": 2,
       "version_minor": 0
      },
      "text/plain": [
       "HBox(children=(IntProgress(value=0, max=828), HTML(value='')))"
      ]
     },
     "metadata": {},
     "output_type": "display_data"
    },
    {
     "name": "stdout",
     "output_type": "stream",
     "text": [
      "starting run  33\n"
     ]
    },
    {
     "data": {
      "application/vnd.jupyter.widget-view+json": {
       "model_id": "",
       "version_major": 2,
       "version_minor": 0
      },
      "text/plain": [
       "HBox(children=(IntProgress(value=0, max=828), HTML(value='')))"
      ]
     },
     "metadata": {},
     "output_type": "display_data"
    },
    {
     "name": "stdout",
     "output_type": "stream",
     "text": [
      "starting run  34\n"
     ]
    },
    {
     "data": {
      "application/vnd.jupyter.widget-view+json": {
       "model_id": "",
       "version_major": 2,
       "version_minor": 0
      },
      "text/plain": [
       "HBox(children=(IntProgress(value=0, max=828), HTML(value='')))"
      ]
     },
     "metadata": {},
     "output_type": "display_data"
    },
    {
     "name": "stdout",
     "output_type": "stream",
     "text": [
      "starting run  35\n"
     ]
    },
    {
     "data": {
      "application/vnd.jupyter.widget-view+json": {
       "model_id": "",
       "version_major": 2,
       "version_minor": 0
      },
      "text/plain": [
       "HBox(children=(IntProgress(value=0, max=828), HTML(value='')))"
      ]
     },
     "metadata": {},
     "output_type": "display_data"
    },
    {
     "name": "stdout",
     "output_type": "stream",
     "text": [
      "starting run  36\n"
     ]
    },
    {
     "data": {
      "application/vnd.jupyter.widget-view+json": {
       "model_id": "",
       "version_major": 2,
       "version_minor": 0
      },
      "text/plain": [
       "HBox(children=(IntProgress(value=0, max=828), HTML(value='')))"
      ]
     },
     "metadata": {},
     "output_type": "display_data"
    },
    {
     "name": "stdout",
     "output_type": "stream",
     "text": [
      "starting run  37\n"
     ]
    },
    {
     "data": {
      "application/vnd.jupyter.widget-view+json": {
       "model_id": "",
       "version_major": 2,
       "version_minor": 0
      },
      "text/plain": [
       "HBox(children=(IntProgress(value=0, max=828), HTML(value='')))"
      ]
     },
     "metadata": {},
     "output_type": "display_data"
    },
    {
     "name": "stdout",
     "output_type": "stream",
     "text": [
      "starting run  38\n"
     ]
    },
    {
     "data": {
      "application/vnd.jupyter.widget-view+json": {
       "model_id": "",
       "version_major": 2,
       "version_minor": 0
      },
      "text/plain": [
       "HBox(children=(IntProgress(value=0, max=828), HTML(value='')))"
      ]
     },
     "metadata": {},
     "output_type": "display_data"
    },
    {
     "name": "stdout",
     "output_type": "stream",
     "text": [
      "starting run  39\n"
     ]
    },
    {
     "data": {
      "application/vnd.jupyter.widget-view+json": {
       "model_id": "",
       "version_major": 2,
       "version_minor": 0
      },
      "text/plain": [
       "HBox(children=(IntProgress(value=0, max=828), HTML(value='')))"
      ]
     },
     "metadata": {},
     "output_type": "display_data"
    }
   ],
   "source": [
    "%autoreload 2\n",
    "inj_type='swave'\n",
    "inj_particle='electron'\n",
    "inj_str=inj_particle[:4]\n",
    "\n",
    "if inj_particle == 'electron':\n",
    "    mass = phys.me\n",
    "else:\n",
    "    mass = 0\n",
    "\n",
    "f_DH_data_elec_swave = [None for i in np.arange(40)]\n",
    "\n",
    "for k in tqdm(np.arange(40)):\n",
    "    print('starting run ', k)\n",
    "    get_column(k, f_DH_data_elec_swave, inj_particle=inj_particle, inj_type=inj_type, end_rs=4.004)\n",
    "\n",
    "save_as_pickled_object(f_DH_data_elec_swave, \n",
    "            '/Users/gregoryridgway/Dropbox (MIT)/Photon Deposition/idl_comparison/GR_Checks/ih_continuous_'\n",
    "                       +inj_str+'/f_'+inj_str+'_'+inj_type+'_notCrossCheck_v4.p'\n",
    "                      )"
   ]
  },
  {
   "cell_type": "code",
   "execution_count": 348,
   "metadata": {
    "collapsed": true
   },
   "outputs": [
    {
     "data": {
      "text/plain": [
       "array([1.07770121e-05, 2.32695997e-02, 3.16277991e-02, 3.35403142e-02,\n",
       "       3.35050533e-02, 3.28798637e-02, 3.20678406e-02, 3.11890298e-02,\n",
       "       3.02801947e-02, 2.94053723e-02, 2.87025085e-02, 2.80050972e-02,\n",
       "       2.72984444e-02, 2.65829636e-02, 2.58586735e-02, 2.51254361e-02,\n",
       "       2.43830473e-02, 2.36312757e-02, 2.30522640e-02, 2.24910251e-02,\n",
       "       2.19229986e-02, 2.13475207e-02, 2.07645928e-02, 2.01741518e-02,\n",
       "       1.95761185e-02, 1.89704116e-02, 1.84621877e-02, 1.80077456e-02,\n",
       "       1.75517979e-02, 1.70899130e-02, 1.66221932e-02, 1.61486313e-02,\n",
       "       1.56691767e-02, 1.51837596e-02, 1.47434821e-02, 1.43796851e-02,\n",
       "       1.40182627e-02, 1.36521534e-02, 1.32814681e-02, 1.29062093e-02,\n",
       "       1.25263396e-02, 1.21418005e-02, 1.17656478e-02, 1.14788624e-02,\n",
       "       1.11971284e-02, 1.09117242e-02, 1.06227740e-02, 1.03303028e-02,\n",
       "       1.00342910e-02, 9.73470159e-03, 9.43148920e-03, 9.21169212e-03,\n",
       "       9.01226366e-03, 8.81207701e-03, 8.60996424e-03, 8.40597650e-03,\n",
       "       8.20012389e-03, 7.99239487e-03, 7.78276384e-03, 7.60669276e-03,\n",
       "       7.45924994e-03, 7.31316671e-03, 7.16550095e-03, 7.01629699e-03,\n",
       "       6.86556513e-03, 6.71330860e-03, 6.55953957e-03, 6.41099816e-03,\n",
       "       6.27803765e-03, 6.14685492e-03, 6.01348132e-03, 5.87801965e-03,\n",
       "       5.74056152e-03, 5.60122372e-03, 5.46019477e-03, 5.31936601e-03,\n",
       "       5.24202012e-03, 5.17093843e-03, 5.10404407e-03, 5.04707057e-03,\n",
       "       4.95567096e-03, 4.92391687e-03, 4.86094232e-03, 4.81466025e-03,\n",
       "       4.81867658e-03, 4.86432581e-03, 4.95161143e-03, 5.09727733e-03,\n",
       "       5.21949525e-03, 5.38633941e-03, 5.61503069e-03, 5.88017339e-03,\n",
       "       6.16580173e-03, 6.52011921e-03, 6.93053191e-03, 7.40310264e-03,\n",
       "       7.88132375e-03, 8.39477179e-03, 8.96949500e-03, 9.59762975e-03,\n",
       "       1.02263363e-02, 1.08947290e-02, 1.16421318e-02, 1.24332138e-02,\n",
       "       1.32707614e-02, 1.42048804e-02, 1.52048613e-02, 1.62542186e-02,\n",
       "       1.72215380e-02, 1.83393348e-02, 1.95101011e-02, 2.07348179e-02,\n",
       "       2.20194305e-02, 2.34005812e-02, 2.49327642e-02, 2.65479459e-02,\n",
       "       2.80886612e-02, 2.95297471e-02, 3.10341926e-02, 3.26679517e-02,\n",
       "       3.43660041e-02, 3.61213988e-02, 3.78238471e-02, 3.95524628e-02,\n",
       "       4.13191257e-02, 4.31665105e-02, 4.50648561e-02, 4.70076279e-02,\n",
       "       4.89965115e-02, 5.10754990e-02, 5.30821319e-02, 5.50115628e-02,\n",
       "       5.69622441e-02, 5.89393900e-02, 6.09864594e-02, 6.30524797e-02,\n",
       "       6.51341285e-02, 6.71552396e-02, 6.89453003e-02, 7.07287289e-02,\n",
       "       7.25031986e-02, 7.42677589e-02, 7.60603051e-02, 7.78207493e-02,\n",
       "       7.95711147e-02, 8.13217684e-02, 8.29217330e-02, 8.42363170e-02,\n",
       "       8.55079242e-02, 8.67447490e-02, 8.80118392e-02, 8.92967254e-02,\n",
       "       9.05518714e-02, 9.17282052e-02, 9.28271546e-02, 9.38945287e-02,\n",
       "       9.49248762e-02, 9.59166847e-02, 9.68690767e-02, 9.77853521e-02,\n",
       "       9.86618542e-02, 9.94218129e-02, 1.00130746e-01, 1.00801942e-01,\n",
       "       1.01434933e-01, 1.02029139e-01, 1.02586300e-01, 1.03254563e-01,\n",
       "       1.03725943e-01, 1.04104808e-01, 1.04463424e-01, 1.04802403e-01,\n",
       "       1.05122540e-01, 1.05424248e-01, 1.05708086e-01, 1.05974369e-01,\n",
       "       1.06343173e-01, 1.06699804e-01, 1.07038451e-01, 1.07358060e-01,\n",
       "       1.07658037e-01, 1.07938422e-01, 1.08199362e-01, 1.08487073e-01,\n",
       "       1.08819956e-01, 1.09140087e-01, 1.09446620e-01, 1.09739501e-01,\n",
       "       1.10018563e-01, 1.10283742e-01, 1.10532003e-01, 1.10773191e-01,\n",
       "       1.11000541e-01, 1.11213403e-01, 1.11411876e-01, 1.11595770e-01,\n",
       "       1.11764936e-01, 1.11919782e-01, 1.12059918e-01, 1.12177727e-01,\n",
       "       1.12433124e-01, 1.12695106e-01, 1.12946200e-01, 1.13186195e-01,\n",
       "       1.13415048e-01, 1.13632542e-01, 1.13838466e-01, 1.14032630e-01,\n",
       "       1.14214821e-01, 1.14384770e-01, 1.14540923e-01, 1.14683857e-01,\n",
       "       1.14813353e-01, 1.14929188e-01, 1.15031034e-01, 1.15118535e-01,\n",
       "       1.15254155e-01, 1.15496352e-01, 1.15728142e-01, 1.15949238e-01,\n",
       "       1.16159420e-01, 1.16358460e-01, 1.16545921e-01, 1.16721684e-01,\n",
       "       1.16884769e-01, 1.17034794e-01, 1.17171877e-01, 1.17295689e-01,\n",
       "       1.17405874e-01, 1.17502012e-01, 1.17583786e-01, 1.17650721e-01,\n",
       "       1.17702374e-01, 1.17893388e-01, 1.18112706e-01, 1.18321091e-01,\n",
       "       1.18518238e-01, 1.18703843e-01, 1.18877574e-01, 1.19039083e-01,\n",
       "       1.19191379e-01, 1.19326317e-01, 1.19447794e-01, 1.19555583e-01,\n",
       "       1.19649270e-01, 1.19728425e-01, 1.19792622e-01, 1.19841421e-01,\n",
       "       1.19874319e-01, 1.19941428e-01, 1.20149705e-01, 1.20346605e-01,\n",
       "       1.20531930e-01, 1.20705292e-01, 1.20866334e-01, 1.21014693e-01,\n",
       "       1.21149994e-01, 1.21262981e-01, 1.21361029e-01, 1.21444901e-01,\n",
       "       1.21514120e-01, 1.21568273e-01, 1.21606955e-01, 1.21629669e-01,\n",
       "       1.21635928e-01, 1.21625230e-01, 1.21748727e-01, 1.21925734e-01,\n",
       "       1.22090811e-01, 1.22243658e-01, 1.22383763e-01, 1.22510861e-01,\n",
       "       1.22624533e-01, 1.22724365e-01, 1.22809939e-01, 1.22880818e-01,\n",
       "       1.22936575e-01, 1.22976710e-01, 1.23000795e-01, 1.23008335e-01,\n",
       "       1.22998749e-01, 1.22971620e-01, 1.22959637e-01, 1.23126474e-01,\n",
       "       1.23281092e-01, 1.23423070e-01, 1.23552017e-01, 1.23667518e-01,\n",
       "       1.23769219e-01, 1.23856624e-01, 1.23929327e-01, 1.23986910e-01,\n",
       "       1.24028898e-01, 1.24054814e-01, 1.24064172e-01, 1.24056479e-01,\n",
       "       1.24031200e-01, 1.23987810e-01, 1.23925813e-01, 1.23986693e-01,\n",
       "       1.24129847e-01, 1.24260036e-01, 1.24376863e-01, 1.24479921e-01,\n",
       "       1.24568794e-01, 1.24643062e-01, 1.24702245e-01, 1.24745939e-01,\n",
       "       1.24773647e-01, 1.24784845e-01, 1.24779107e-01, 1.24755894e-01,\n",
       "       1.24714681e-01, 1.24654960e-01, 1.24576244e-01, 1.24489295e-01,\n",
       "       1.24620285e-01, 1.24738099e-01, 1.24842256e-01, 1.24932388e-01,\n",
       "       1.25008080e-01, 1.25068883e-01, 1.25114347e-01, 1.25144010e-01,\n",
       "       1.25157407e-01, 1.25154027e-01, 1.25133385e-01, 1.25094995e-01,\n",
       "       1.25038224e-01, 1.24962633e-01, 1.24867626e-01, 1.24752627e-01,\n",
       "       1.24743790e-01, 1.24848393e-01, 1.24939203e-01, 1.25015776e-01,\n",
       "       1.25077731e-01, 1.25124590e-01, 1.25155887e-01, 1.25171206e-01,\n",
       "       1.25170047e-01, 1.25151923e-01, 1.25116329e-01, 1.25062754e-01,\n",
       "       1.24990660e-01, 1.24899497e-01, 1.24788746e-01, 1.24657758e-01,\n",
       "       1.24505994e-01, 1.24582899e-01, 1.24659921e-01, 1.24722620e-01,\n",
       "       1.24770565e-01, 1.24803332e-01, 1.24820453e-01, 1.24821482e-01,\n",
       "       1.24805958e-01, 1.24773329e-01, 1.24723172e-01, 1.24654941e-01,\n",
       "       1.24568113e-01, 1.24462166e-01, 1.24336533e-01, 1.24190641e-01,\n",
       "       1.24023886e-01, 1.23941647e-01, 1.24004790e-01, 1.24053572e-01,\n",
       "       1.24087773e-01, 1.24106614e-01, 1.24109803e-01, 1.24096894e-01,\n",
       "       1.24067424e-01, 1.24020903e-01, 1.23956838e-01, 1.23874757e-01,\n",
       "       1.23776546e-01, 1.23659519e-01, 1.23522841e-01, 1.23365945e-01,\n",
       "       1.23188256e-01, 1.22989188e-01, 1.22999653e-01, 1.23037423e-01,\n",
       "       1.23060491e-01, 1.23068431e-01, 1.23060762e-01, 1.23037094e-01,\n",
       "       1.22996947e-01, 1.22939851e-01, 1.22865324e-01, 1.22772878e-01,\n",
       "       1.22662020e-01, 1.22532214e-01, 1.22382952e-01, 1.22213650e-01,\n",
       "       1.22023761e-01, 1.21812733e-01, 1.21660966e-01, 1.21685355e-01,\n",
       "       1.21695202e-01, 1.21690096e-01, 1.21669605e-01, 1.21633297e-01,\n",
       "       1.21580756e-01, 1.21511458e-01, 1.21424995e-01, 1.21320875e-01,\n",
       "       1.21198611e-01, 1.21057710e-01, 1.20897656e-01, 1.20717923e-01,\n",
       "       1.20517952e-01, 1.20297217e-01, 1.20055143e-01, 1.19997596e-01,\n",
       "       1.19995317e-01, 1.19978369e-01, 1.19946335e-01, 1.19898798e-01,\n",
       "       1.19835333e-01, 1.19755499e-01, 1.19658840e-01, 1.19544928e-01,\n",
       "       1.19413262e-01, 1.19263383e-01, 1.19094795e-01, 1.18906986e-01,\n",
       "       1.18699443e-01, 1.18471636e-01, 1.18223032e-01, 1.18006587e-01,\n",
       "       1.17993778e-01, 1.17966685e-01, 1.17924867e-01, 1.17867976e-01,\n",
       "       1.17795588e-01, 1.17707285e-01, 1.17602640e-01, 1.17481216e-01,\n",
       "       1.17342571e-01, 1.17186233e-01, 1.17011762e-01, 1.16818664e-01,\n",
       "       1.16606435e-01, 1.16374608e-01, 1.16122656e-01, 1.15850056e-01,\n",
       "       1.15732881e-01, 1.15697734e-01, 1.15648386e-01, 1.15584460e-01,\n",
       "       1.15505589e-01, 1.15411341e-01, 1.15301340e-01, 1.15175172e-01,\n",
       "       1.15032413e-01, 1.14872633e-01, 1.14695389e-01, 1.14500243e-01,\n",
       "       1.14286722e-01, 1.14054364e-01, 1.13802703e-01, 1.13531204e-01,\n",
       "       1.13264821e-01, 1.13224330e-01, 1.13170223e-01, 1.13102152e-01,\n",
       "       1.13019750e-01, 1.12922658e-01, 1.12810479e-01, 1.12682853e-01,\n",
       "       1.12539367e-01, 1.12379615e-01, 1.12203206e-01, 1.12009708e-01,\n",
       "       1.11798697e-01, 1.11569730e-01, 1.11322372e-01, 1.11056151e-01,\n",
       "       1.10770617e-01, 1.10609233e-01, 1.10553637e-01, 1.10484764e-01,\n",
       "       1.10402290e-01, 1.10305855e-01, 1.10195123e-01, 1.10069723e-01,\n",
       "       1.09929306e-01, 1.09773478e-01, 1.09601884e-01, 1.09414123e-01,\n",
       "       1.09209786e-01, 1.08988488e-01, 1.08749815e-01, 1.08493338e-01,\n",
       "       1.08218630e-01, 1.07925252e-01, 1.07870553e-01, 1.07804739e-01,\n",
       "       1.07730890e-01, 1.07679323e-01, 1.07617610e-01, 1.07545439e-01,\n",
       "       1.07462449e-01, 1.07368290e-01, 1.07262597e-01, 1.07209728e-01,\n",
       "       1.07734857e-01, 1.08411622e-01, 1.09267875e-01, 1.10336137e-01,\n",
       "       1.11654592e-01, 1.13267891e-01, 1.15340824e-01, 1.17401558e-01,\n",
       "       1.19454841e-01, 1.21740991e-01, 1.24284532e-01, 1.27112540e-01,\n",
       "       1.30254808e-01, 1.33744061e-01, 1.37616556e-01, 1.41267788e-01,\n",
       "       1.45035573e-01, 1.49091990e-01, 1.53457879e-01, 1.58155439e-01,\n",
       "       1.63208379e-01, 1.68642237e-01, 1.74483882e-01, 1.80813634e-01,\n",
       "       1.87171395e-01, 1.93917876e-01, 2.01075859e-01, 2.08669389e-01,\n",
       "       2.16723853e-01, 2.25265961e-01, 2.34324027e-01, 2.43928073e-01,\n",
       "       2.53860908e-01, 2.63797652e-01, 2.74224614e-01, 2.85175429e-01,\n",
       "       2.96674520e-01, 3.08747225e-01, 3.21420063e-01, 3.34892598e-01,\n",
       "       3.49385216e-01, 3.64619718e-01, 3.80050113e-01, 3.95743927e-01,\n",
       "       4.12127313e-01, 4.29228230e-01, 4.47075696e-01, 4.65699634e-01,\n",
       "       4.85130984e-01, 5.05401751e-01, 5.26545676e-01, 5.48595968e-01,\n",
       "       5.71588603e-01, 5.94231208e-01, 6.17708434e-01, 6.42047494e-01,\n",
       "       6.68029175e-01, 6.95216884e-01, 7.23460698e-01, 7.52798287e-01,\n",
       "       7.83268757e-01, 8.14909854e-01, 8.47764180e-01, 8.81872956e-01,\n",
       "       9.16422670e-01, 9.51128458e-01, 9.86977299e-01, 1.02400057e+00,\n",
       "       1.06222926e+00, 1.10169681e+00, 1.14203911e+00, 1.18269875e+00,\n",
       "       1.22495777e+00, 1.26983030e+00, 1.31612617e+00, 1.36388397e+00,\n",
       "       1.41314318e+00, 1.46394379e+00, 1.51632608e+00, 1.57033279e+00,\n",
       "       1.62600275e+00, 1.68250675e+00, 1.73890900e+00, 1.79682423e+00,\n",
       "       1.85628155e+00, 1.91730998e+00, 1.97993910e+00, 2.04419651e+00,\n",
       "       2.11011129e+00, 2.17984045e+00, 2.25247660e+00, 2.32717497e+00,\n",
       "       2.40242278e+00, 2.47813925e+00, 2.55575663e+00, 2.63530953e+00,\n",
       "       2.71683305e+00, 2.80036020e+00, 2.88592722e+00, 2.97356503e+00,\n",
       "       3.06330697e+00, 3.15518844e+00, 3.24924157e+00, 3.34282806e+00,\n",
       "       3.43781253e+00, 3.53546819e+00, 3.63959329e+00, 3.74618469e+00,\n",
       "       3.85528782e+00, 3.96693737e+00, 4.08118113e+00, 4.19805994e+00,\n",
       "       4.31761485e+00, 4.43867937e+00, 4.55899942e+00, 4.68173338e+00,\n",
       "       4.80690196e+00, 4.93453009e+00, 5.06463814e+00, 5.19724103e+00,\n",
       "       5.33236275e+00, 5.47001591e+00, 5.61487074e+00, 5.76600880e+00,\n",
       "       5.91639510e+00, 6.06906726e+00, 6.22472520e+00, 6.38340407e+00,\n",
       "       6.54512822e+00, 6.70992911e+00, 6.87783788e+00, 7.04887958e+00,\n",
       "       7.22308107e+00, 7.40046600e+00, 7.57892355e+00, 7.75881053e+00,\n",
       "       7.94165967e+00, 8.12748175e+00, 8.31675339e+00, 8.52036811e+00,\n",
       "       8.72789019e+00, 8.93936102e+00, 9.15482371e+00, 9.37432021e+00,\n",
       "       9.59552652e+00, 9.81746140e+00, 1.00431615e+01, 1.02726498e+01,\n",
       "       1.05059369e+01, 1.07430489e+01, 1.09839966e+01, 1.12287918e+01,\n",
       "       1.14774438e+01, 1.17299590e+01, 1.19841582e+01, 1.22471570e+01,\n",
       "       1.25229501e+01, 1.28035177e+01, 1.30889077e+01, 1.33791623e+01,\n",
       "       1.36743172e+01, 1.39744080e+01, 1.42794683e+01, 1.45895313e+01,\n",
       "       1.49016512e+01, 1.52162034e+01, 1.55354972e+01, 1.58595191e+01,\n",
       "       1.61882954e+01, 1.65218195e+01, 1.68600879e+01, 1.72030929e+01,\n",
       "       1.75724413e+01, 1.79493852e+01, 1.83288196e+01, 1.87137376e+01,\n",
       "       1.91048862e+01, 1.95023028e+01, 1.99060416e+01, 2.03161349e+01,\n",
       "       2.07326175e+01, 2.11555212e+01, 2.15848750e+01, 2.20195407e+01,\n",
       "       2.24566944e+01, 2.29000702e+01, 2.33496476e+01, 2.38054385e+01,\n",
       "       2.42792007e+01, 2.47788013e+01, 2.52866958e+01, 2.58029604e+01,\n",
       "       2.63276715e+01, 2.68583916e+01, 2.73967909e+01, 2.79436585e+01,\n",
       "       2.84990234e+01, 2.90629683e+01, 2.96355311e+01, 3.02167563e+01,\n",
       "       3.08066842e+01, 3.14053505e+01, 3.20125730e+01, 3.26283056e+01,\n",
       "       3.32528343e+01, 3.39195219e+01, 3.46036402e+01, 3.52992963e+01,\n",
       "       3.60066027e+01, 3.67256775e+01, 3.74566363e+01, 3.81978789e+01,\n",
       "       3.89464111e+01, 3.97068029e+01, 4.04791648e+01, 4.12635454e+01,\n",
       "       4.20600575e+01, 4.28687756e+01, 4.36897696e+01, 4.45230812e+01,\n",
       "       4.53717689e+01, 4.62580952e+01, 4.71949370e+01, 4.81483858e+01,\n",
       "       4.91186544e+01, 5.01059197e+01, 5.11104304e+01, 5.21323788e+01,\n",
       "       5.31719696e+01, 5.42285260e+01, 5.53011353e+01, 5.63918382e+01,\n",
       "       5.75008119e+01, 5.86282626e+01, 5.97743145e+01, 6.09391806e+01,\n",
       "       6.21230492e+01, 6.33260769e+01, 6.46011453e+01, 6.59206308e+01,\n",
       "       6.72644691e+01, 6.86330028e+01, 7.00265861e+01, 7.14455995e+01,\n",
       "       7.28903296e+01, 7.43611851e+01, 7.58585045e+01, 7.73972856e+01,\n",
       "       7.89654822e+01, 8.05620562e+01, 8.21873617e+01, 8.38417403e+01,\n",
       "       8.55256241e+01, 8.72393705e+01, 8.89982761e+01, 9.08607012e+01,\n",
       "       9.27694568e+01, 9.47156717e+01, 9.66999672e+01, 9.87229728e+01,\n",
       "       1.00785319e+02, 1.02887628e+02, 1.05030579e+02, 1.07216494e+02,\n",
       "       1.09477183e+02, 1.11782257e+02, 1.14132419e+02, 1.16528390e+02,\n",
       "       1.18970892e+02, 1.21460644e+02, 1.23998288e+02, 1.26647777e+02,\n",
       "       1.29408128e+02, 1.32230568e+02, 1.35112033e+02, 1.38053593e+02,\n",
       "       1.41056358e+02, 1.44121458e+02, 1.47250034e+02, 1.50443255e+02,\n",
       "       1.53740773e+02, 1.57121113e+02, 1.60572474e+02, 1.64096129e+02,\n",
       "       1.67693470e+02, 1.71365809e+02, 1.75114503e+02, 1.78951865e+02,\n",
       "       1.83039574e+02, 1.87234288e+02, 1.91523081e+02, 1.95907976e+02,\n",
       "       2.00390784e+02, 2.04973544e+02, 2.09658450e+02, 2.14447582e+02,\n",
       "       2.19403434e+02, 2.24472359e+02, 2.29655474e+02, 2.34955106e+02,\n",
       "       2.40373685e+02, 2.45913691e+02, 2.51577453e+02, 2.57402486e+02,\n",
       "       2.63521727e+02, 2.69855641e+02, 2.76340343e+02, 2.82979249e+02,\n",
       "       2.89775855e+02, 2.96733660e+02, 3.03856379e+02, 3.11228146e+02,\n",
       "       3.18801855e+02, 3.26557794e+02, 3.34500072e+02, 3.42632919e+02,\n",
       "       3.50960652e+02, 3.59487686e+02, 3.68265057e+02, 3.77144042e+02])"
      ]
     },
     "execution_count": 348,
     "metadata": {},
     "output_type": "execute_result"
    }
   ],
   "source": [
    "phys.f_std(5e3, rs_vec, inj_particle='elec', inj_type='swave', struct=False, channel='H ion')"
   ]
  },
  {
   "cell_type": "code",
   "execution_count": 341,
   "metadata": {
    "collapsed": true
   },
   "outputs": [
    {
     "data": {
      "text/plain": [
       "array([0.99970306, 0.99999961, 0.99999969, 0.9999997 , 0.9999997 ,\n",
       "       0.9999997 , 0.9999997 , 0.9999997 , 0.99999969, 0.99999969,\n",
       "       0.99999968, 0.99999968, 0.99999967, 0.99999967, 0.99999966,\n",
       "       0.99999965, 0.99999964, 0.99999963, 0.99999963, 0.99999962,\n",
       "       0.99999961, 0.9999996 , 0.99999958, 0.99999957, 0.99999956,\n",
       "       0.99999954, 0.99999953, 0.99999951, 0.9999995 , 0.99999948,\n",
       "       0.99999946, 0.99999944, 0.99999942, 0.9999994 , 0.99999938,\n",
       "       0.99999935, 0.99999933, 0.99999931, 0.99999928, 0.99999925,\n",
       "       0.99999922, 0.99999918, 0.99999915, 0.99999911, 0.99999908,\n",
       "       0.99999904, 0.999999  , 0.99999895, 0.9999989 , 0.99999884,\n",
       "       0.99999878, 0.99999873, 0.99999867, 0.9999986 , 0.99999853,\n",
       "       0.99999846, 0.99999838, 0.99999829, 0.99999819, 0.9999981 ,\n",
       "       0.99999802, 0.99999793, 0.99999784, 0.99999776, 0.99999768,\n",
       "       0.99999761, 0.99999754, 0.99999747, 0.99999741, 0.99999735,\n",
       "       0.99999728, 0.99999721, 0.99999714, 0.99999706, 0.99999697,\n",
       "       0.99999687, 0.99999681, 0.99999674, 0.99999667, 0.99999659,\n",
       "       0.99999648, 0.99999639, 0.99999627, 0.99999613, 0.999996  ,\n",
       "       0.99999587, 0.99999575, 0.99999564, 0.99999548, 0.99999532,\n",
       "       0.99999518, 0.99999504, 0.99999489, 0.99999477, 0.99999467,\n",
       "       0.9999946 , 0.9999945 , 0.99999442, 0.99999436, 0.99999431,\n",
       "       0.99999424, 0.99999419, 0.99999416, 0.99999414, 0.99999413,\n",
       "       0.99999414, 0.99999417, 0.9999942 , 0.99999418, 0.99999421,\n",
       "       0.99999424, 0.99999427, 0.99999431, 0.99999436, 0.99999443,\n",
       "       0.9999945 , 0.99999454, 0.99999457, 0.9999946 , 0.99999464,\n",
       "       0.99999469, 0.99999473, 0.99999477, 0.99999481, 0.99999486,\n",
       "       0.9999949 , 0.99999495, 0.99999499, 0.99999504, 0.99999509,\n",
       "       0.99999514, 0.99999517, 0.99999521, 0.99999524, 0.99999528,\n",
       "       0.99999532, 0.99999535, 0.99999539, 0.99999541, 0.99999542,\n",
       "       0.99999544, 0.99999546, 0.99999547, 0.99999549, 0.99999551,\n",
       "       0.99999552, 0.99999553, 0.99999554, 0.99999554, 0.99999554,\n",
       "       0.99999554, 0.99999554, 0.99999554, 0.99999554, 0.99999554,\n",
       "       0.99999554, 0.99999553, 0.99999553, 0.99999553, 0.99999552,\n",
       "       0.99999551, 0.99999551, 0.9999955 , 0.99999549, 0.99999548,\n",
       "       0.99999547, 0.99999545, 0.99999545, 0.99999544, 0.99999543,\n",
       "       0.99999542, 0.99999542, 0.99999541, 0.9999954 , 0.99999539,\n",
       "       0.99999538, 0.99999537, 0.99999535, 0.99999534, 0.99999533,\n",
       "       0.99999531, 0.9999953 , 0.99999528, 0.99999527, 0.99999526,\n",
       "       0.99999526, 0.99999525, 0.99999524, 0.99999523, 0.99999522,\n",
       "       0.99999521, 0.9999952 , 0.99999519, 0.99999518, 0.99999517,\n",
       "       0.99999516, 0.99999514, 0.99999513, 0.99999512, 0.9999951 ,\n",
       "       0.99999509, 0.99999508, 0.99999508, 0.99999507, 0.99999506,\n",
       "       0.99999505, 0.99999504, 0.99999502, 0.99999501, 0.999995  ,\n",
       "       0.99999499, 0.99999498, 0.99999496, 0.99999495, 0.99999493,\n",
       "       0.99999492, 0.99999491, 0.9999949 , 0.99999489, 0.99999488,\n",
       "       0.99999487, 0.99999486, 0.99999485, 0.99999484, 0.99999483,\n",
       "       0.99999482, 0.99999481, 0.9999948 , 0.99999478, 0.99999477,\n",
       "       0.99999476, 0.99999474, 0.99999473, 0.99999472, 0.99999471,\n",
       "       0.9999947 , 0.99999469, 0.99999468, 0.99999467, 0.99999466,\n",
       "       0.99999465, 0.99999464, 0.99999463, 0.99999462, 0.99999461,\n",
       "       0.99999459, 0.99999458, 0.99999456, 0.99999455, 0.99999454,\n",
       "       0.99999453, 0.99999452, 0.99999451, 0.9999945 , 0.9999945 ,\n",
       "       0.99999449, 0.99999448, 0.99999447, 0.99999445, 0.99999444,\n",
       "       0.99999443, 0.99999442, 0.9999944 , 0.99999439, 0.99999438,\n",
       "       0.99999436, 0.99999435, 0.99999434, 0.99999434, 0.99999433,\n",
       "       0.99999432, 0.99999431, 0.9999943 , 0.99999429, 0.99999428,\n",
       "       0.99999427, 0.99999426, 0.99999425, 0.99999423, 0.99999422,\n",
       "       0.9999942 , 0.99999419, 0.99999417, 0.99999417, 0.99999416,\n",
       "       0.99999415, 0.99999414, 0.99999414, 0.99999413, 0.99999412,\n",
       "       0.99999411, 0.9999941 , 0.99999408, 0.99999407, 0.99999406,\n",
       "       0.99999405, 0.99999403, 0.99999402, 0.999994  , 0.99999399,\n",
       "       0.99999398, 0.99999398, 0.99999397, 0.99999396, 0.99999395,\n",
       "       0.99999394, 0.99999393, 0.99999392, 0.99999391, 0.9999939 ,\n",
       "       0.99999388, 0.99999387, 0.99999386, 0.99999384, 0.99999382,\n",
       "       0.99999381, 0.9999938 , 0.9999938 , 0.99999379, 0.99999378,\n",
       "       0.99999377, 0.99999376, 0.99999375, 0.99999374, 0.99999373,\n",
       "       0.99999372, 0.99999371, 0.99999369, 0.99999368, 0.99999366,\n",
       "       0.99999365, 0.99999363, 0.99999362, 0.99999361, 0.9999936 ,\n",
       "       0.9999936 , 0.99999359, 0.99999358, 0.99999357, 0.99999356,\n",
       "       0.99999355, 0.99999354, 0.99999352, 0.99999351, 0.99999349,\n",
       "       0.99999348, 0.99999346, 0.99999344, 0.99999343, 0.99999342,\n",
       "       0.99999341, 0.99999341, 0.9999934 , 0.99999339, 0.99999338,\n",
       "       0.99999337, 0.99999336, 0.99999334, 0.99999333, 0.99999332,\n",
       "       0.9999933 , 0.99999329, 0.99999327, 0.99999325, 0.99999323,\n",
       "       0.99999322, 0.99999321, 0.99999321, 0.9999932 , 0.99999319,\n",
       "       0.99999318, 0.99999317, 0.99999316, 0.99999315, 0.99999313,\n",
       "       0.99999312, 0.9999931 , 0.99999309, 0.99999307, 0.99999305,\n",
       "       0.99999303, 0.99999301, 0.999993  , 0.999993  , 0.99999299,\n",
       "       0.99999298, 0.99999297, 0.99999296, 0.99999295, 0.99999294,\n",
       "       0.99999292, 0.99999291, 0.99999289, 0.99999288, 0.99999286,\n",
       "       0.99999284, 0.99999282, 0.9999928 , 0.99999278, 0.99999278,\n",
       "       0.99999277, 0.99999276, 0.99999275, 0.99999274, 0.99999273,\n",
       "       0.99999271, 0.9999927 , 0.99999269, 0.99999267, 0.99999265,\n",
       "       0.99999264, 0.99999262, 0.9999926 , 0.99999258, 0.99999255,\n",
       "       0.99999254, 0.99999253, 0.99999252, 0.99999251, 0.9999925 ,\n",
       "       0.99999249, 0.99999248, 0.99999246, 0.99999245, 0.99999243,\n",
       "       0.99999242, 0.9999924 , 0.99999238, 0.99999236, 0.99999234,\n",
       "       0.99999231, 0.99999229, 0.99999228, 0.99999228, 0.99999227,\n",
       "       0.99999225, 0.99999224, 0.99999223, 0.99999222, 0.9999922 ,\n",
       "       0.99999218, 0.99999217, 0.99999215, 0.99999213, 0.99999211,\n",
       "       0.99999209, 0.99999206, 0.99999204, 0.99999202, 0.99999201,\n",
       "       0.999992  , 0.99999199, 0.99999198, 0.99999197, 0.99999195,\n",
       "       0.99999194, 0.99999192, 0.9999919 , 0.99999188, 0.99999186,\n",
       "       0.99999184, 0.99999182, 0.9999918 , 0.99999177, 0.99999175,\n",
       "       0.99999174, 0.99999173, 0.99999171, 0.9999917 , 0.99999169,\n",
       "       0.99999168, 0.99999166, 0.99999164, 0.99999163, 0.99999161,\n",
       "       0.99999159, 0.99999157, 0.99999154, 0.99999152, 0.99999149,\n",
       "       0.99999147, 0.99999145, 0.99999144, 0.99999143, 0.99999141,\n",
       "       0.9999914 , 0.99999139, 0.99999137, 0.99999136, 0.99999134,\n",
       "       0.99999132, 0.9999913 , 0.99999128, 0.99999125, 0.99999123,\n",
       "       0.9999912 , 0.99999118, 0.99999115, 0.99999114, 0.99999113,\n",
       "       0.99999111, 0.999991  , 0.99999089, 0.99999079, 0.99999067,\n",
       "       0.99999056, 0.99999045, 0.99999018, 0.99998857, 0.99998671,\n",
       "       0.99998457, 0.99998214, 0.99997937, 0.99997623, 0.99997273,\n",
       "       0.99996991, 0.99996739, 0.99996471, 0.99996189, 0.99995893,\n",
       "       0.99995583, 0.9999526 , 0.99994925, 0.99994661, 0.99994414,\n",
       "       0.99994164, 0.99993911, 0.99993655, 0.99993398, 0.99993139,\n",
       "       0.99992879, 0.99992648, 0.99992456, 0.99992266, 0.99992077,\n",
       "       0.9999189 , 0.99991705, 0.99991522, 0.99991342, 0.99991164,\n",
       "       0.99991001, 0.99990869, 0.99990738, 0.99990609, 0.99990481,\n",
       "       0.99990355, 0.99990231, 0.99990112, 0.99990004, 0.99989897,\n",
       "       0.99989809, 0.99989736, 0.99989664, 0.99989592, 0.9998952 ,\n",
       "       0.99989448, 0.99989377, 0.99989306, 0.99989235, 0.99989164,\n",
       "       0.99989093, 0.99989045, 0.99988996, 0.99988946, 0.99988906,\n",
       "       0.99988868, 0.99988829, 0.99988789, 0.99988749, 0.99988708,\n",
       "       0.99988665, 0.99988622, 0.99988588, 0.99988563, 0.99988537,\n",
       "       0.99988509, 0.99988479, 0.99988448, 0.99988418, 0.99988394,\n",
       "       0.99988372, 0.99988358, 0.99988342, 0.99988325, 0.99988306,\n",
       "       0.99988286, 0.99988264, 0.9998824 , 0.99988214, 0.99988192,\n",
       "       0.99988178, 0.99988162, 0.99988144, 0.99988124, 0.99988101,\n",
       "       0.99988077, 0.9998805 , 0.99988031, 0.99988015, 0.99987998,\n",
       "       0.99987985, 0.99987976, 0.99987965, 0.99987952, 0.99987937,\n",
       "       0.99987921, 0.99987902, 0.99987882, 0.9998786 , 0.99987836,\n",
       "       0.9998781 , 0.99987789, 0.99987768, 0.99987747, 0.99987736,\n",
       "       0.99987724, 0.9998771 , 0.99987695, 0.99987677, 0.99987659,\n",
       "       0.99987638, 0.99987618, 0.99987604, 0.99987587, 0.99987569,\n",
       "       0.99987549, 0.99987527, 0.99987502, 0.99987476, 0.99987448,\n",
       "       0.99987427, 0.99987411, 0.99987399, 0.99987386, 0.99987372,\n",
       "       0.99987356, 0.99987339, 0.9998732 , 0.99987299, 0.99987277,\n",
       "       0.99987253, 0.99987227, 0.99987202, 0.99987177, 0.9998715 ,\n",
       "       0.99987122, 0.99987092, 0.99987075, 0.99987057, 0.99987037,\n",
       "       0.99987016, 0.99986994, 0.99986972, 0.99986951, 0.9998693 ,\n",
       "       0.99986906, 0.99986881, 0.99986854, 0.99986826, 0.99986797,\n",
       "       0.99986765, 0.99986732, 0.99986699, 0.99986674, 0.99986655,\n",
       "       0.99986635, 0.99986613, 0.9998659 , 0.99986566, 0.99986541,\n",
       "       0.99986514, 0.99986486, 0.99986458, 0.9998643 , 0.999864  ,\n",
       "       0.9998637 , 0.99986337, 0.99986303, 0.99986268, 0.99986231,\n",
       "       0.99986207, 0.99986183, 0.99986159, 0.99986134, 0.99986108,\n",
       "       0.99986081, 0.99986052, 0.99986023, 0.99985992, 0.9998596 ,\n",
       "       0.99985927, 0.99985893, 0.99985859, 0.99985824, 0.99985787,\n",
       "       0.99985749, 0.99985715, 0.99985689, 0.99985662, 0.99985635,\n",
       "       0.99985606, 0.99985577, 0.99985547, 0.99985515, 0.99985483,\n",
       "       0.9998545 , 0.99985416, 0.9998538 , 0.99985344, 0.99985306,\n",
       "       0.99985268, 0.99985228, 0.99985187, 0.99985156, 0.99985127,\n",
       "       0.99985098, 0.99985067, 0.99985036, 0.99985004, 0.99984971,\n",
       "       0.99984938, 0.99984904, 0.99984869, 0.99984833, 0.99984797,\n",
       "       0.99984759, 0.9998472 , 0.9998468 , 0.99984639, 0.999846  ,\n",
       "       0.99984569, 0.99984537, 0.99984505, 0.99984472, 0.99984439,\n",
       "       0.99984405, 0.9998437 , 0.99984334, 0.99984298, 0.99984261,\n",
       "       0.99984224, 0.99984185, 0.99984146, 0.99984106, 0.99984065,\n",
       "       0.99984023, 0.99983989, 0.99983958, 0.99983926, 0.99983894,\n",
       "       0.99983861, 0.99983827, 0.99983793, 0.99983758, 0.99983723,\n",
       "       0.99983686, 0.99983649, 0.99983611, 0.99983572, 0.99983532,\n",
       "       0.99983492, 0.99983451, 0.99983412, 0.99983382, 0.9998335 ,\n",
       "       0.99983318, 0.99983286, 0.99983253, 0.9998322 , 0.99983186,\n",
       "       0.99983152, 0.99983118, 0.99983081, 0.99983045, 0.99983007,\n",
       "       0.9998297 , 0.99982931, 0.99982893, 0.99982853, 0.9998282 ,\n",
       "       0.9998279 , 0.9998276 , 0.99982729, 0.99982698, 0.99982667,\n",
       "       0.99982635, 0.99982603, 0.9998257 , 0.99982537, 0.99982503,\n",
       "       0.99982468, 0.99982433, 0.99982398, 0.99982362, 0.99982326,\n",
       "       0.99982291, 0.99982262, 0.99982234, 0.99982205, 0.99982176,\n",
       "       0.99982146, 0.99982117, 0.99982087, 0.99982057, 0.99982026,\n",
       "       0.99981995, 0.99981964, 0.99981932, 0.999819  , 0.99981868,\n",
       "       0.99981836, 0.99981803, 0.99981773, 0.99981747, 0.99981721,\n",
       "       0.99981695, 0.99981669, 0.99981642, 0.99981616, 0.99981588,\n",
       "       0.99981561, 0.99981533, 0.99981505, 0.99981477, 0.99981449,\n",
       "       0.99981421, 0.99981392, 1.00032404])"
      ]
     },
     "execution_count": 341,
     "metadata": {},
     "output_type": "execute_result"
    }
   ],
   "source": [
    "np.flipud(f_DH_list[0][:,0])/phys.f_std(5e3,rs_vec,inj_particle='elec',inj_type='swave',struct=False,channel='H ion')"
   ]
  },
  {
   "cell_type": "code",
   "execution_count": 324,
   "metadata": {
    "collapsed": true
   },
   "outputs": [
    {
     "data": {
      "application/vnd.jupyter.widget-view+json": {
       "model_id": "4cc91c39b71e48008e12dd06c3856940",
       "version_major": 2,
       "version_minor": 0
      },
      "text/plain": [
       "HBox(children=(IntProgress(value=0, max=40), HTML(value='')))"
      ]
     },
     "metadata": {},
     "output_type": "display_data"
    },
    {
     "name": "stdout",
     "output_type": "stream",
     "text": [
      "starting run  0\n",
      "****** Loading transfer functions... ******\n",
      "    for propagating photons...   Done!\n",
      "    for low-energy photons...  Done!\n",
      "    for low-energy electrons...  Done!\n",
      "    for high-energy deposition...  Done!\n",
      "    for total upscattered CMB energy rate...  Done!\n",
      "****** Loading complete! ******\n",
      "****** Loading transfer functions... ******\n",
      "    for inverse Compton (Thomson)...  Done!\n",
      "    for inverse Compton (relativistic)...  Done!\n",
      "    for inverse Compton (energy loss)...  Done!\n",
      "****** Loading complete! ******\n"
     ]
    },
    {
     "data": {
      "application/vnd.jupyter.widget-view+json": {
       "model_id": "03c89b6780fc4aac833f8c71837aa0f0",
       "version_major": 2,
       "version_minor": 0
      },
      "text/plain": [
       "HBox(children=(IntProgress(value=0, max=828), HTML(value='')))"
      ]
     },
     "metadata": {},
     "output_type": "display_data"
    },
    {
     "name": "stdout",
     "output_type": "stream",
     "text": [
      "starting run  1\n"
     ]
    },
    {
     "data": {
      "application/vnd.jupyter.widget-view+json": {
       "model_id": "794c41e1bff34dd7ac8b09a261ae1b7b",
       "version_major": 2,
       "version_minor": 0
      },
      "text/plain": [
       "HBox(children=(IntProgress(value=0, max=828), HTML(value='')))"
      ]
     },
     "metadata": {},
     "output_type": "display_data"
    },
    {
     "name": "stdout",
     "output_type": "stream",
     "text": [
      "starting run  2\n"
     ]
    },
    {
     "data": {
      "application/vnd.jupyter.widget-view+json": {
       "model_id": "45661c7e440a4c3b82185234eb76b542",
       "version_major": 2,
       "version_minor": 0
      },
      "text/plain": [
       "HBox(children=(IntProgress(value=0, max=828), HTML(value='')))"
      ]
     },
     "metadata": {},
     "output_type": "display_data"
    },
    {
     "name": "stdout",
     "output_type": "stream",
     "text": [
      "starting run  3\n"
     ]
    },
    {
     "data": {
      "application/vnd.jupyter.widget-view+json": {
       "model_id": "12b8420e707a4853816143eebeb33a9c",
       "version_major": 2,
       "version_minor": 0
      },
      "text/plain": [
       "HBox(children=(IntProgress(value=0, max=828), HTML(value='')))"
      ]
     },
     "metadata": {},
     "output_type": "display_data"
    },
    {
     "name": "stdout",
     "output_type": "stream",
     "text": [
      "starting run  4\n"
     ]
    },
    {
     "data": {
      "application/vnd.jupyter.widget-view+json": {
       "model_id": "c741075e93c04229891a3dd58594d6d3",
       "version_major": 2,
       "version_minor": 0
      },
      "text/plain": [
       "HBox(children=(IntProgress(value=0, max=828), HTML(value='')))"
      ]
     },
     "metadata": {},
     "output_type": "display_data"
    },
    {
     "name": "stdout",
     "output_type": "stream",
     "text": [
      "starting run  5\n"
     ]
    },
    {
     "data": {
      "application/vnd.jupyter.widget-view+json": {
       "model_id": "5418ba4506ab4a2c90752a525011eec5",
       "version_major": 2,
       "version_minor": 0
      },
      "text/plain": [
       "HBox(children=(IntProgress(value=0, max=828), HTML(value='')))"
      ]
     },
     "metadata": {},
     "output_type": "display_data"
    },
    {
     "name": "stdout",
     "output_type": "stream",
     "text": [
      "starting run  6\n"
     ]
    },
    {
     "data": {
      "application/vnd.jupyter.widget-view+json": {
       "model_id": "aea54bb95a1f487ebe5e9b01c3d613dc",
       "version_major": 2,
       "version_minor": 0
      },
      "text/plain": [
       "HBox(children=(IntProgress(value=0, max=828), HTML(value='')))"
      ]
     },
     "metadata": {},
     "output_type": "display_data"
    },
    {
     "name": "stdout",
     "output_type": "stream",
     "text": [
      "starting run  7\n"
     ]
    },
    {
     "data": {
      "application/vnd.jupyter.widget-view+json": {
       "model_id": "3b7957f4376d4cee962e9b29dbe81aef",
       "version_major": 2,
       "version_minor": 0
      },
      "text/plain": [
       "HBox(children=(IntProgress(value=0, max=828), HTML(value='')))"
      ]
     },
     "metadata": {},
     "output_type": "display_data"
    },
    {
     "name": "stdout",
     "output_type": "stream",
     "text": [
      "starting run  8\n"
     ]
    },
    {
     "data": {
      "application/vnd.jupyter.widget-view+json": {
       "model_id": "4177ada6ff19449ca7157d153e7379ae",
       "version_major": 2,
       "version_minor": 0
      },
      "text/plain": [
       "HBox(children=(IntProgress(value=0, max=828), HTML(value='')))"
      ]
     },
     "metadata": {},
     "output_type": "display_data"
    },
    {
     "name": "stdout",
     "output_type": "stream",
     "text": [
      "starting run  9\n"
     ]
    },
    {
     "data": {
      "application/vnd.jupyter.widget-view+json": {
       "model_id": "31e1d91135ff467ba47033db48092974",
       "version_major": 2,
       "version_minor": 0
      },
      "text/plain": [
       "HBox(children=(IntProgress(value=0, max=828), HTML(value='')))"
      ]
     },
     "metadata": {},
     "output_type": "display_data"
    },
    {
     "name": "stdout",
     "output_type": "stream",
     "text": [
      "starting run  10\n"
     ]
    },
    {
     "data": {
      "application/vnd.jupyter.widget-view+json": {
       "model_id": "bba22700e3284f59b37f3519f068521e",
       "version_major": 2,
       "version_minor": 0
      },
      "text/plain": [
       "HBox(children=(IntProgress(value=0, max=828), HTML(value='')))"
      ]
     },
     "metadata": {},
     "output_type": "display_data"
    },
    {
     "name": "stderr",
     "output_type": "stream",
     "text": [
      "/usr/local/lib/python3.7/site-packages/scipy/integrate/odepack.py:247: ODEintWarning: Excess work done on this call (perhaps wrong Dfun type). Run with full_output = 1 to get quantitative information.\n",
      "  warnings.warn(warning_msg, ODEintWarning)\n"
     ]
    },
    {
     "name": "stdout",
     "output_type": "stream",
     "text": [
      "starting run  11\n"
     ]
    },
    {
     "data": {
      "application/vnd.jupyter.widget-view+json": {
       "model_id": "0c88067567ef4d6083ad25fb79c481f2",
       "version_major": 2,
       "version_minor": 0
      },
      "text/plain": [
       "HBox(children=(IntProgress(value=0, max=828), HTML(value='')))"
      ]
     },
     "metadata": {},
     "output_type": "display_data"
    },
    {
     "name": "stdout",
     "output_type": "stream",
     "text": [
      "starting run  12\n"
     ]
    },
    {
     "data": {
      "application/vnd.jupyter.widget-view+json": {
       "model_id": "024f0b22f08e42c6be6c8e563f1254e7",
       "version_major": 2,
       "version_minor": 0
      },
      "text/plain": [
       "HBox(children=(IntProgress(value=0, max=828), HTML(value='')))"
      ]
     },
     "metadata": {},
     "output_type": "display_data"
    },
    {
     "name": "stdout",
     "output_type": "stream",
     "text": [
      "starting run  13\n"
     ]
    },
    {
     "data": {
      "application/vnd.jupyter.widget-view+json": {
       "model_id": "b1a55baf69e7415a8b96760476168066",
       "version_major": 2,
       "version_minor": 0
      },
      "text/plain": [
       "HBox(children=(IntProgress(value=0, max=828), HTML(value='')))"
      ]
     },
     "metadata": {},
     "output_type": "display_data"
    },
    {
     "name": "stdout",
     "output_type": "stream",
     "text": [
      "starting run  14\n"
     ]
    },
    {
     "data": {
      "application/vnd.jupyter.widget-view+json": {
       "model_id": "c95fa9eadb0a40d78890187f4341b2e0",
       "version_major": 2,
       "version_minor": 0
      },
      "text/plain": [
       "HBox(children=(IntProgress(value=0, max=828), HTML(value='')))"
      ]
     },
     "metadata": {},
     "output_type": "display_data"
    },
    {
     "name": "stdout",
     "output_type": "stream",
     "text": [
      "starting run  15\n"
     ]
    },
    {
     "data": {
      "application/vnd.jupyter.widget-view+json": {
       "model_id": "37035b859b504980a82f953fef1d3af2",
       "version_major": 2,
       "version_minor": 0
      },
      "text/plain": [
       "HBox(children=(IntProgress(value=0, max=828), HTML(value='')))"
      ]
     },
     "metadata": {},
     "output_type": "display_data"
    },
    {
     "name": "stdout",
     "output_type": "stream",
     "text": [
      "starting run  16\n"
     ]
    },
    {
     "data": {
      "application/vnd.jupyter.widget-view+json": {
       "model_id": "32c6fb4d106b45bc966a66a60270e766",
       "version_major": 2,
       "version_minor": 0
      },
      "text/plain": [
       "HBox(children=(IntProgress(value=0, max=828), HTML(value='')))"
      ]
     },
     "metadata": {},
     "output_type": "display_data"
    },
    {
     "name": "stdout",
     "output_type": "stream",
     "text": [
      "starting run  17\n"
     ]
    },
    {
     "data": {
      "application/vnd.jupyter.widget-view+json": {
       "model_id": "743eb008bba947298cdeffb50c7cdbca",
       "version_major": 2,
       "version_minor": 0
      },
      "text/plain": [
       "HBox(children=(IntProgress(value=0, max=828), HTML(value='')))"
      ]
     },
     "metadata": {},
     "output_type": "display_data"
    },
    {
     "name": "stdout",
     "output_type": "stream",
     "text": [
      "starting run  18\n"
     ]
    },
    {
     "data": {
      "application/vnd.jupyter.widget-view+json": {
       "model_id": "d1257c1a7e03459ea03d4725ed1ad0fb",
       "version_major": 2,
       "version_minor": 0
      },
      "text/plain": [
       "HBox(children=(IntProgress(value=0, max=828), HTML(value='')))"
      ]
     },
     "metadata": {},
     "output_type": "display_data"
    },
    {
     "name": "stdout",
     "output_type": "stream",
     "text": [
      "starting run  19\n"
     ]
    },
    {
     "data": {
      "application/vnd.jupyter.widget-view+json": {
       "model_id": "606da8a06fff41deaa446e9e9971cff8",
       "version_major": 2,
       "version_minor": 0
      },
      "text/plain": [
       "HBox(children=(IntProgress(value=0, max=828), HTML(value='')))"
      ]
     },
     "metadata": {},
     "output_type": "display_data"
    },
    {
     "name": "stdout",
     "output_type": "stream",
     "text": [
      "starting run  20\n"
     ]
    },
    {
     "data": {
      "application/vnd.jupyter.widget-view+json": {
       "model_id": "701f6b4b3c8d4cfc97bf2b6aa8c57c5c",
       "version_major": 2,
       "version_minor": 0
      },
      "text/plain": [
       "HBox(children=(IntProgress(value=0, max=828), HTML(value='')))"
      ]
     },
     "metadata": {},
     "output_type": "display_data"
    },
    {
     "name": "stdout",
     "output_type": "stream",
     "text": [
      "starting run  21\n"
     ]
    },
    {
     "data": {
      "application/vnd.jupyter.widget-view+json": {
       "model_id": "afe6cec5fcc04ab8810320a2c8040aa3",
       "version_major": 2,
       "version_minor": 0
      },
      "text/plain": [
       "HBox(children=(IntProgress(value=0, max=828), HTML(value='')))"
      ]
     },
     "metadata": {},
     "output_type": "display_data"
    },
    {
     "name": "stdout",
     "output_type": "stream",
     "text": [
      "starting run  22\n"
     ]
    },
    {
     "data": {
      "application/vnd.jupyter.widget-view+json": {
       "model_id": "74df19ee01204a008c1aa07d5d01f026",
       "version_major": 2,
       "version_minor": 0
      },
      "text/plain": [
       "HBox(children=(IntProgress(value=0, max=828), HTML(value='')))"
      ]
     },
     "metadata": {},
     "output_type": "display_data"
    },
    {
     "name": "stdout",
     "output_type": "stream",
     "text": [
      "starting run  23\n"
     ]
    },
    {
     "data": {
      "application/vnd.jupyter.widget-view+json": {
       "model_id": "17d0c0a1ff4d49a7b229fcefd82e5df9",
       "version_major": 2,
       "version_minor": 0
      },
      "text/plain": [
       "HBox(children=(IntProgress(value=0, max=828), HTML(value='')))"
      ]
     },
     "metadata": {},
     "output_type": "display_data"
    },
    {
     "name": "stdout",
     "output_type": "stream",
     "text": [
      "starting run  24\n"
     ]
    },
    {
     "data": {
      "application/vnd.jupyter.widget-view+json": {
       "model_id": "bcf728e8dcfc4fe69f4626647c2c54b9",
       "version_major": 2,
       "version_minor": 0
      },
      "text/plain": [
       "HBox(children=(IntProgress(value=0, max=828), HTML(value='')))"
      ]
     },
     "metadata": {},
     "output_type": "display_data"
    },
    {
     "name": "stdout",
     "output_type": "stream",
     "text": [
      "starting run  25\n"
     ]
    },
    {
     "data": {
      "application/vnd.jupyter.widget-view+json": {
       "model_id": "5014de43956c40378eb5d1f976d75a8d",
       "version_major": 2,
       "version_minor": 0
      },
      "text/plain": [
       "HBox(children=(IntProgress(value=0, max=828), HTML(value='')))"
      ]
     },
     "metadata": {},
     "output_type": "display_data"
    },
    {
     "name": "stdout",
     "output_type": "stream",
     "text": [
      "starting run  26\n"
     ]
    },
    {
     "data": {
      "application/vnd.jupyter.widget-view+json": {
       "model_id": "b138fa71eb054e17a7ab6bc1828b5bf5",
       "version_major": 2,
       "version_minor": 0
      },
      "text/plain": [
       "HBox(children=(IntProgress(value=0, max=828), HTML(value='')))"
      ]
     },
     "metadata": {},
     "output_type": "display_data"
    },
    {
     "name": "stdout",
     "output_type": "stream",
     "text": [
      "starting run  27\n"
     ]
    },
    {
     "data": {
      "application/vnd.jupyter.widget-view+json": {
       "model_id": "9cfee05191844deaaabb14c3afb8ce9b",
       "version_major": 2,
       "version_minor": 0
      },
      "text/plain": [
       "HBox(children=(IntProgress(value=0, max=828), HTML(value='')))"
      ]
     },
     "metadata": {},
     "output_type": "display_data"
    },
    {
     "name": "stdout",
     "output_type": "stream",
     "text": [
      "starting run  28\n"
     ]
    },
    {
     "data": {
      "application/vnd.jupyter.widget-view+json": {
       "model_id": "6ab2df718cee43d580f38c79a6c4f9fd",
       "version_major": 2,
       "version_minor": 0
      },
      "text/plain": [
       "HBox(children=(IntProgress(value=0, max=828), HTML(value='')))"
      ]
     },
     "metadata": {},
     "output_type": "display_data"
    },
    {
     "name": "stdout",
     "output_type": "stream",
     "text": [
      "starting run  29\n"
     ]
    },
    {
     "data": {
      "application/vnd.jupyter.widget-view+json": {
       "model_id": "2768487891654560b8b4da6f0ca5bcdc",
       "version_major": 2,
       "version_minor": 0
      },
      "text/plain": [
       "HBox(children=(IntProgress(value=0, max=828), HTML(value='')))"
      ]
     },
     "metadata": {},
     "output_type": "display_data"
    },
    {
     "name": "stdout",
     "output_type": "stream",
     "text": [
      "starting run  30\n"
     ]
    },
    {
     "data": {
      "application/vnd.jupyter.widget-view+json": {
       "model_id": "daf63c794cac4934846f5e614fcf9ab9",
       "version_major": 2,
       "version_minor": 0
      },
      "text/plain": [
       "HBox(children=(IntProgress(value=0, max=828), HTML(value='')))"
      ]
     },
     "metadata": {},
     "output_type": "display_data"
    },
    {
     "name": "stdout",
     "output_type": "stream",
     "text": [
      "starting run  31\n"
     ]
    },
    {
     "data": {
      "application/vnd.jupyter.widget-view+json": {
       "model_id": "bc5acccd11434633a2b8e88eb074a7be",
       "version_major": 2,
       "version_minor": 0
      },
      "text/plain": [
       "HBox(children=(IntProgress(value=0, max=828), HTML(value='')))"
      ]
     },
     "metadata": {},
     "output_type": "display_data"
    },
    {
     "name": "stdout",
     "output_type": "stream",
     "text": [
      "starting run  32\n"
     ]
    },
    {
     "data": {
      "application/vnd.jupyter.widget-view+json": {
       "model_id": "2fe861f7089d4a64932b3046c4401f34",
       "version_major": 2,
       "version_minor": 0
      },
      "text/plain": [
       "HBox(children=(IntProgress(value=0, max=828), HTML(value='')))"
      ]
     },
     "metadata": {},
     "output_type": "display_data"
    },
    {
     "name": "stdout",
     "output_type": "stream",
     "text": [
      "starting run  33\n"
     ]
    },
    {
     "data": {
      "application/vnd.jupyter.widget-view+json": {
       "model_id": "c6780ddd59f9465e9dc58e5b1fbcc303",
       "version_major": 2,
       "version_minor": 0
      },
      "text/plain": [
       "HBox(children=(IntProgress(value=0, max=828), HTML(value='')))"
      ]
     },
     "metadata": {},
     "output_type": "display_data"
    },
    {
     "name": "stdout",
     "output_type": "stream",
     "text": [
      "starting run  34\n"
     ]
    },
    {
     "data": {
      "application/vnd.jupyter.widget-view+json": {
       "model_id": "7a4f52c377f24a7ab06ae8e1490de026",
       "version_major": 2,
       "version_minor": 0
      },
      "text/plain": [
       "HBox(children=(IntProgress(value=0, max=828), HTML(value='')))"
      ]
     },
     "metadata": {},
     "output_type": "display_data"
    },
    {
     "name": "stdout",
     "output_type": "stream",
     "text": [
      "starting run  35\n"
     ]
    },
    {
     "data": {
      "application/vnd.jupyter.widget-view+json": {
       "model_id": "b2a5f158ea1c4509ae49fb03f221f072",
       "version_major": 2,
       "version_minor": 0
      },
      "text/plain": [
       "HBox(children=(IntProgress(value=0, max=828), HTML(value='')))"
      ]
     },
     "metadata": {},
     "output_type": "display_data"
    },
    {
     "name": "stdout",
     "output_type": "stream",
     "text": [
      "starting run  36\n"
     ]
    },
    {
     "data": {
      "application/vnd.jupyter.widget-view+json": {
       "model_id": "d9e8248a4b0249b79dfa46cf665b25a4",
       "version_major": 2,
       "version_minor": 0
      },
      "text/plain": [
       "HBox(children=(IntProgress(value=0, max=828), HTML(value='')))"
      ]
     },
     "metadata": {},
     "output_type": "display_data"
    },
    {
     "name": "stdout",
     "output_type": "stream",
     "text": [
      "starting run  37\n"
     ]
    },
    {
     "data": {
      "application/vnd.jupyter.widget-view+json": {
       "model_id": "ce59653b1bc9448b905611db10fc8635",
       "version_major": 2,
       "version_minor": 0
      },
      "text/plain": [
       "HBox(children=(IntProgress(value=0, max=828), HTML(value='')))"
      ]
     },
     "metadata": {},
     "output_type": "display_data"
    },
    {
     "name": "stdout",
     "output_type": "stream",
     "text": [
      "starting run  38\n"
     ]
    },
    {
     "data": {
      "application/vnd.jupyter.widget-view+json": {
       "model_id": "9e7b4e9425fc4eab8d855d547a28a4d7",
       "version_major": 2,
       "version_minor": 0
      },
      "text/plain": [
       "HBox(children=(IntProgress(value=0, max=828), HTML(value='')))"
      ]
     },
     "metadata": {},
     "output_type": "display_data"
    },
    {
     "name": "stdout",
     "output_type": "stream",
     "text": [
      "starting run  39\n"
     ]
    },
    {
     "data": {
      "application/vnd.jupyter.widget-view+json": {
       "model_id": "b8fe63fac01145ddab139209f4a245fd",
       "version_major": 2,
       "version_minor": 0
      },
      "text/plain": [
       "HBox(children=(IntProgress(value=0, max=828), HTML(value='')))"
      ]
     },
     "metadata": {},
     "output_type": "display_data"
    }
   ],
   "source": [
    "%autoreload 2\n",
    "inj_type='swave'\n",
    "inj_particle='electron'\n",
    "inj_str=inj_particle[:4]\n",
    "\n",
    "if inj_particle == 'electron':\n",
    "    mass = phys.me\n",
    "else:\n",
    "    mass = 0\n",
    "\n",
    "f_DH_data_elec_swave = [None for i in np.arange(40)]\n",
    "\n",
    "for k in tqdm(np.arange(40)):\n",
    "    print('starting run ', k)\n",
    "    get_column(k, f_DH_data_elec_swave, inj_particle=inj_particle, inj_type=inj_type, end_rs=4.004)\n",
    "\n",
    "save_as_pickled_object(f_DH_data_elec_swave, \n",
    "            '/Users/gregoryridgway/Dropbox (MIT)/Photon Deposition/idl_comparison/GR_Checks/ih_continuous_'\n",
    "                       +inj_str+'/f_'+inj_str+'_'+inj_type+'_notCrossCheck_noStructure_v4.p'\n",
    "                      )"
   ]
  },
  {
   "cell_type": "markdown",
   "metadata": {},
   "source": [
    "# Plot f contours"
   ]
  },
  {
   "cell_type": "markdown",
   "metadata": {},
   "source": [
    "To see the level of discrepancy between the two data sets, is useful to plot the absolute residual difference between the two sets of f(z)'s.  We will find that we do better than 10% accuracy for essentially all of the data."
   ]
  },
  {
   "cell_type": "code",
   "execution_count": 235,
   "metadata": {},
   "outputs": [],
   "source": [
    "f_DH_list = np.ones((40,5,round(552)))*1e-6\n",
    "tmp=1\n",
    "# f_DH_data = f_DH_data_elec_swave\n",
    "for k in np.arange(40):\n",
    "#     if k<4:\n",
    "    f_DH_list[k] = np.array(\n",
    "        [f_DH_data[k]['f']['low']['H ion']+tmp*f_DH_data[k]['f']['high']['H ion'],\n",
    "         f_DH_data[k]['f']['low']['He ion']+tmp*f_DH_data[k]['f']['high']['He ion'],\n",
    "         f_DH_data[k]['f']['low']['exc']+tmp*f_DH_data[k]['f']['high']['exc'],\n",
    "         f_DH_data[k]['f']['low']['heat']+tmp*f_DH_data[k]['f']['high']['heat'],\n",
    "         f_DH_data[k]['f']['low']['cont']+tmp*f_DH_data[k]['f']['high']['cont']]\n",
    "    )\n"
   ]
  },
  {
   "cell_type": "code",
   "execution_count": 201,
   "metadata": {},
   "outputs": [
    {
     "name": "stdout",
     "output_type": "stream",
     "text": [
      "40\n",
      "828\n",
      "(40, 828)\n"
     ]
    },
    {
     "data": {
      "image/png": "[encoded data removed]",
      "text/plain": [
       "<Figure size 620x620 with 2 Axes>"
      ]
     },
     "metadata": {},
     "output_type": "display_data"
    }
   ],
   "source": [
    "get_fcontour(f_DH_list, 'swave', 'elec', 'H_ion')"
   ]
  },
  {
   "cell_type": "markdown",
   "metadata": {},
   "source": [
    "# Standard $f_c(z,E_\\text{inj})$ grid values"
   ]
  },
  {
   "cell_type": "code",
   "execution_count": 353,
   "metadata": {},
   "outputs": [
    {
     "data": {
      "text/plain": [
       "array([1.07738120e-05, 2.32695906e-02, 3.16277892e-02, 3.35403042e-02,\n",
       "       3.35050434e-02, 3.28798539e-02, 3.20678310e-02, 3.11890204e-02,\n",
       "       3.02801854e-02, 2.94053632e-02, 2.87024994e-02, 2.80050882e-02,\n",
       "       2.72984355e-02, 2.65829547e-02, 2.58586647e-02, 2.51254274e-02,\n",
       "       2.43830387e-02, 2.36312670e-02, 2.30522554e-02, 2.24910164e-02,\n",
       "       2.19229900e-02, 2.13475120e-02, 2.07645842e-02, 2.01741431e-02,\n",
       "       1.95761098e-02, 1.89704029e-02, 1.84621790e-02, 1.80077368e-02,\n",
       "       1.75517890e-02, 1.70899041e-02, 1.66221843e-02, 1.61486223e-02,\n",
       "       1.56691676e-02, 1.51837505e-02, 1.47434729e-02, 1.43796758e-02,\n",
       "       1.40182533e-02, 1.36521439e-02, 1.32814585e-02, 1.29061997e-02,\n",
       "       1.25263298e-02, 1.21417906e-02, 1.17656378e-02, 1.14788522e-02,\n",
       "       1.11971181e-02, 1.09117137e-02, 1.06227633e-02, 1.03302919e-02,\n",
       "       1.00342799e-02, 9.73469033e-03, 9.43147772e-03, 9.21168038e-03,\n",
       "       9.01225164e-03, 8.81206470e-03, 8.60995162e-03, 8.40596354e-03,\n",
       "       8.20011057e-03, 7.99238119e-03, 7.78274979e-03, 7.60667833e-03,\n",
       "       7.45923514e-03, 7.31315156e-03, 7.16548550e-03, 7.01628128e-03,\n",
       "       6.86554921e-03, 6.71329253e-03, 6.55952340e-03, 6.41098192e-03,\n",
       "       6.27802137e-03, 6.14683860e-03, 6.01346497e-03, 5.87800326e-03,\n",
       "       5.74054508e-03, 5.60120723e-03, 5.46017822e-03, 5.31934938e-03,\n",
       "       5.24200339e-03, 5.17092158e-03, 5.10402706e-03, 5.04705336e-03,\n",
       "       4.95565351e-03, 4.92389912e-03, 4.86092417e-03, 4.81464161e-03,\n",
       "       4.81865730e-03, 4.86430574e-03, 4.95159038e-03, 5.09725510e-03,\n",
       "       5.21947164e-03, 5.38631419e-03, 5.61500360e-03, 5.88014420e-03,\n",
       "       6.16577021e-03, 6.52008511e-03, 6.93049498e-03, 7.40306264e-03,\n",
       "       7.88128044e-03, 8.39472494e-03, 8.96944437e-03, 9.59757511e-03,\n",
       "       1.02262774e-02, 1.08946657e-02, 1.16420639e-02, 1.24331410e-02,\n",
       "       1.32706835e-02, 1.42047972e-02, 1.52047727e-02, 1.62541243e-02,\n",
       "       1.72214379e-02, 1.83392286e-02, 1.95099888e-02, 2.07346991e-02,\n",
       "       2.20193052e-02, 2.34004491e-02, 2.49326252e-02, 2.65477998e-02,\n",
       "       2.80885079e-02, 2.95295866e-02, 3.10340249e-02, 3.26677766e-02,\n",
       "       3.43658215e-02, 3.61212086e-02, 3.78236494e-02, 3.95522577e-02,\n",
       "       4.13189131e-02, 4.31662904e-02, 4.50646284e-02, 4.70073926e-02,\n",
       "       4.89962685e-02, 5.10752484e-02, 5.30818736e-02, 5.50112971e-02,\n",
       "       5.69619710e-02, 5.89391096e-02, 6.09861715e-02, 6.30521844e-02,\n",
       "       6.51338259e-02, 6.71549298e-02, 6.89449835e-02, 7.07284052e-02,\n",
       "       7.25028680e-02, 7.42674215e-02, 7.60599609e-02, 7.78203984e-02,\n",
       "       7.95707570e-02, 8.13214041e-02, 8.29213624e-02, 8.42359408e-02,\n",
       "       8.55075427e-02, 8.67443620e-02, 8.80114466e-02, 8.92963272e-02,\n",
       "       9.05514676e-02, 9.17277960e-02, 9.28267404e-02, 9.38941095e-02,\n",
       "       9.49244522e-02, 9.59162559e-02, 9.68686432e-02, 9.77849141e-02,\n",
       "       9.86614116e-02, 9.94213662e-02, 1.00130295e-01, 1.00801487e-01,\n",
       "       1.01434474e-01, 1.02028677e-01, 1.02585833e-01, 1.03254093e-01,\n",
       "       1.03725470e-01, 1.04104332e-01, 1.04462946e-01, 1.04801923e-01,\n",
       "       1.05122057e-01, 1.05423763e-01, 1.05707598e-01, 1.05973880e-01,\n",
       "       1.06342680e-01, 1.06699309e-01, 1.07037952e-01, 1.07357558e-01,\n",
       "       1.07657532e-01, 1.07937915e-01, 1.08198852e-01, 1.08486560e-01,\n",
       "       1.08819441e-01, 1.09139570e-01, 1.09446100e-01, 1.09738979e-01,\n",
       "       1.10018039e-01, 1.10283215e-01, 1.10531474e-01, 1.10772660e-01,\n",
       "       1.11000007e-01, 1.11212867e-01, 1.11411337e-01, 1.11595229e-01,\n",
       "       1.11764393e-01, 1.11919237e-01, 1.12059371e-01, 1.12177178e-01,\n",
       "       1.12432572e-01, 1.12694552e-01, 1.12945644e-01, 1.13185636e-01,\n",
       "       1.13414488e-01, 1.13631979e-01, 1.13837900e-01, 1.14032063e-01,\n",
       "       1.14214251e-01, 1.14384198e-01, 1.14540349e-01, 1.14683281e-01,\n",
       "       1.14812775e-01, 1.14928608e-01, 1.15030452e-01, 1.15117950e-01,\n",
       "       1.15253568e-01, 1.15495763e-01, 1.15727550e-01, 1.15948645e-01,\n",
       "       1.16158824e-01, 1.16357862e-01, 1.16545321e-01, 1.16721082e-01,\n",
       "       1.16884165e-01, 1.17034188e-01, 1.17171269e-01, 1.17295078e-01,\n",
       "       1.17405261e-01, 1.17501397e-01, 1.17583169e-01, 1.17650103e-01,\n",
       "       1.17701753e-01, 1.17892765e-01, 1.18112081e-01, 1.18320464e-01,\n",
       "       1.18517609e-01, 1.18703211e-01, 1.18876940e-01, 1.19038448e-01,\n",
       "       1.19190741e-01, 1.19325678e-01, 1.19447153e-01, 1.19554940e-01,\n",
       "       1.19648625e-01, 1.19727777e-01, 1.19791972e-01, 1.19840770e-01,\n",
       "       1.19873665e-01, 1.19940772e-01, 1.20149048e-01, 1.20345945e-01,\n",
       "       1.20531269e-01, 1.20704628e-01, 1.20865669e-01, 1.21014026e-01,\n",
       "       1.21149324e-01, 1.21262310e-01, 1.21360356e-01, 1.21444226e-01,\n",
       "       1.21513443e-01, 1.21567594e-01, 1.21606275e-01, 1.21628987e-01,\n",
       "       1.21635244e-01, 1.21624545e-01, 1.21748039e-01, 1.21925045e-01,\n",
       "       1.22090119e-01, 1.22242964e-01, 1.22383068e-01, 1.22510164e-01,\n",
       "       1.22623834e-01, 1.22723665e-01, 1.22809236e-01, 1.22880114e-01,\n",
       "       1.22935869e-01, 1.22976002e-01, 1.23000085e-01, 1.23007624e-01,\n",
       "       1.22998036e-01, 1.22970906e-01, 1.22958921e-01, 1.23125756e-01,\n",
       "       1.23280372e-01, 1.23422349e-01, 1.23551294e-01, 1.23666793e-01,\n",
       "       1.23768493e-01, 1.23855895e-01, 1.23928596e-01, 1.23986178e-01,\n",
       "       1.24028164e-01, 1.24054079e-01, 1.24063435e-01, 1.24055741e-01,\n",
       "       1.24030460e-01, 1.23987068e-01, 1.23925069e-01, 1.23985948e-01,\n",
       "       1.24129100e-01, 1.24259288e-01, 1.24376113e-01, 1.24479169e-01,\n",
       "       1.24568040e-01, 1.24642307e-01, 1.24701488e-01, 1.24745180e-01,\n",
       "       1.24772887e-01, 1.24784083e-01, 1.24778344e-01, 1.24755129e-01,\n",
       "       1.24713915e-01, 1.24654192e-01, 1.24575475e-01, 1.24488524e-01,\n",
       "       1.24619512e-01, 1.24737325e-01, 1.24841481e-01, 1.24931611e-01,\n",
       "       1.25007302e-01, 1.25068103e-01, 1.25113565e-01, 1.25143227e-01,\n",
       "       1.25156622e-01, 1.25153241e-01, 1.25132598e-01, 1.25094205e-01,\n",
       "       1.25037433e-01, 1.24961841e-01, 1.24866833e-01, 1.24751832e-01,\n",
       "       1.24742993e-01, 1.24847596e-01, 1.24938404e-01, 1.25014975e-01,\n",
       "       1.25076929e-01, 1.25123787e-01, 1.25155082e-01, 1.25170399e-01,\n",
       "       1.25169239e-01, 1.25151114e-01, 1.25115518e-01, 1.25061942e-01,\n",
       "       1.24989847e-01, 1.24898683e-01, 1.24787931e-01, 1.24656941e-01,\n",
       "       1.24505175e-01, 1.24582079e-01, 1.24659100e-01, 1.24721798e-01,\n",
       "       1.24769741e-01, 1.24802507e-01, 1.24819626e-01, 1.24820655e-01,\n",
       "       1.24805129e-01, 1.24772498e-01, 1.24722341e-01, 1.24654108e-01,\n",
       "       1.24567278e-01, 1.24461330e-01, 1.24335696e-01, 1.24189803e-01,\n",
       "       1.24023047e-01, 1.23940807e-01, 1.24003949e-01, 1.24052729e-01,\n",
       "       1.24086928e-01, 1.24105769e-01, 1.24108956e-01, 1.24096047e-01,\n",
       "       1.24066576e-01, 1.24020053e-01, 1.23955987e-01, 1.23873905e-01,\n",
       "       1.23775692e-01, 1.23658664e-01, 1.23521985e-01, 1.23365088e-01,\n",
       "       1.23187398e-01, 1.22988329e-01, 1.22998793e-01, 1.23036561e-01,\n",
       "       1.23059628e-01, 1.23067567e-01, 1.23059897e-01, 1.23036228e-01,\n",
       "       1.22996080e-01, 1.22938982e-01, 1.22864454e-01, 1.22772007e-01,\n",
       "       1.22661148e-01, 1.22531341e-01, 1.22382078e-01, 1.22212775e-01,\n",
       "       1.22022885e-01, 1.21811856e-01, 1.21660087e-01, 1.21684476e-01,\n",
       "       1.21694321e-01, 1.21689215e-01, 1.21668723e-01, 1.21632414e-01,\n",
       "       1.21579871e-01, 1.21510572e-01, 1.21424109e-01, 1.21319988e-01,\n",
       "       1.21197722e-01, 1.21056820e-01, 1.20896766e-01, 1.20717032e-01,\n",
       "       1.20517060e-01, 1.20296324e-01, 1.20054249e-01, 1.19996701e-01,\n",
       "       1.19994421e-01, 1.19977472e-01, 1.19945437e-01, 1.19897900e-01,\n",
       "       1.19834433e-01, 1.19754598e-01, 1.19657938e-01, 1.19544025e-01,\n",
       "       1.19412359e-01, 1.19262478e-01, 1.19093890e-01, 1.18906080e-01,\n",
       "       1.18698536e-01, 1.18470728e-01, 1.18222123e-01, 1.18005678e-01,\n",
       "       1.17992867e-01, 1.17965774e-01, 1.17923954e-01, 1.17867063e-01,\n",
       "       1.17794674e-01, 1.17706370e-01, 1.17601724e-01, 1.17480299e-01,\n",
       "       1.17341654e-01, 1.17185315e-01, 1.17010843e-01, 1.16817744e-01,\n",
       "       1.16605515e-01, 1.16373687e-01, 1.16121734e-01, 1.15849133e-01,\n",
       "       1.15731958e-01, 1.15696810e-01, 1.15647461e-01, 1.15583535e-01,\n",
       "       1.15504662e-01, 1.15410413e-01, 1.15300412e-01, 1.15174243e-01,\n",
       "       1.15031483e-01, 1.14871702e-01, 1.14694458e-01, 1.14499311e-01,\n",
       "       1.14285789e-01, 1.14053430e-01, 1.13801768e-01, 1.13530268e-01,\n",
       "       1.13263883e-01, 1.13223390e-01, 1.13169281e-01, 1.13101207e-01,\n",
       "       1.13018802e-01, 1.12921707e-01, 1.12809526e-01, 1.12681899e-01,\n",
       "       1.12538411e-01, 1.12378658e-01, 1.12202248e-01, 1.12008749e-01,\n",
       "       1.11797737e-01, 1.11568769e-01, 1.11321411e-01, 1.11055189e-01,\n",
       "       1.10769654e-01, 1.10608270e-01, 1.10552672e-01, 1.10483797e-01,\n",
       "       1.10401320e-01, 1.10304882e-01, 1.10194148e-01, 1.10068746e-01,\n",
       "       1.09928330e-01, 1.09772502e-01, 1.09600908e-01, 1.09413148e-01,\n",
       "       1.09208812e-01, 1.08987514e-01, 1.08748840e-01, 1.08492362e-01,\n",
       "       1.08217652e-01, 1.07924272e-01, 1.07869570e-01, 1.07803755e-01,\n",
       "       1.07725123e-01, 1.07633353e-01, 1.07528115e-01, 1.07409105e-01,\n",
       "       1.07275971e-01, 1.07128377e-01, 1.06965973e-01, 1.06788400e-01,\n",
       "       1.06595302e-01, 1.06386296e-01, 1.06161027e-01, 1.05919073e-01,\n",
       "       1.05660064e-01, 1.05383603e-01, 1.05200023e-01, 1.05141560e-01,\n",
       "       1.05071126e-01, 1.04988432e-01, 1.04893193e-01, 1.04785103e-01,\n",
       "       1.04663862e-01, 1.04529147e-01, 1.04380648e-01, 1.04218049e-01,\n",
       "       1.04041009e-01, 1.03849186e-01, 1.03642256e-01, 1.03419848e-01,\n",
       "       1.03181605e-01, 1.02927184e-01, 1.02656182e-01, 1.02584425e-01,\n",
       "       1.02526891e-01, 1.02458014e-01, 1.02377537e-01, 1.02285193e-01,\n",
       "       1.02180696e-01, 1.02063767e-01, 1.01934127e-01, 1.01791478e-01,\n",
       "       1.01635502e-01, 1.01472908e-01, 1.01289355e-01, 1.01091555e-01,\n",
       "       1.00879199e-01, 1.00651939e-01, 1.00409441e-01, 1.00230573e-01,\n",
       "       1.00190860e-01, 1.00140749e-01, 1.00080008e-01, 1.00008403e-01,\n",
       "       9.99256703e-02, 9.98315589e-02, 9.97258285e-02, 9.96081949e-02,\n",
       "       9.94783875e-02, 9.93361462e-02, 9.91811943e-02, 9.90132212e-02,\n",
       "       9.88319445e-02, 9.86370964e-02, 9.84283460e-02, 9.82053845e-02,\n",
       "       9.81435306e-02, 9.81173728e-02, 9.80815525e-02, 9.80358542e-02,\n",
       "       9.79800718e-02, 9.79139644e-02, 9.78373035e-02, 9.77498458e-02,\n",
       "       9.76513627e-02, 9.75416110e-02, 9.74203256e-02, 9.72872516e-02,\n",
       "       9.71421327e-02, 9.69847200e-02, 9.68147184e-02, 9.66318483e-02,\n",
       "       9.64867790e-02, 9.64897258e-02, 9.64839754e-02, 9.64693322e-02,\n",
       "       9.64455985e-02, 9.64125899e-02, 9.63700864e-02, 9.63178761e-02,\n",
       "       9.62557293e-02, 9.61834422e-02, 9.61008105e-02, 9.60075783e-02,\n",
       "       9.59035115e-02, 9.57883723e-02, 9.56619352e-02, 9.55239517e-02,\n",
       "       9.53741555e-02, 9.53507576e-02, 9.53801906e-02, 9.54017067e-02,\n",
       "       9.54151197e-02, 9.54202336e-02, 9.54168628e-02, 9.54048192e-02,\n",
       "       9.53839265e-02, 9.53539874e-02, 9.53147899e-02, 9.52661216e-02,\n",
       "       9.52077740e-02, 9.51395441e-02, 9.50612368e-02, 9.49726013e-02,\n",
       "       9.48734106e-02, 9.47903712e-02, 9.48600480e-02, 9.49227091e-02,\n",
       "       9.49781963e-02, 9.50263206e-02, 9.50669266e-02, 9.50998434e-02,\n",
       "       9.51248979e-02, 9.51419402e-02, 9.51507725e-02, 9.51512039e-02,\n",
       "       9.51430432e-02, 9.51261030e-02, 9.51001877e-02, 9.50651133e-02,\n",
       "       9.50206745e-02, 9.49666483e-02, 9.50091815e-02, 9.51178624e-02,\n",
       "       9.52202144e-02, 9.53161018e-02, 9.54053920e-02, 9.54879114e-02,\n",
       "       9.55634974e-02, 9.56319937e-02, 9.56932409e-02, 9.57470715e-02,\n",
       "       9.57933373e-02, 9.58318655e-02, 9.58624593e-02, 9.58849362e-02,\n",
       "       9.58991123e-02, 9.59048040e-02, 9.59090619e-02, 9.60685705e-02,\n",
       "       9.62225750e-02, 9.63709158e-02, 9.65134580e-02, 9.66500644e-02,\n",
       "       9.67805954e-02, 9.69049041e-02, 9.70228475e-02, 9.71343099e-02,\n",
       "       9.72391077e-02, 9.73370787e-02, 9.74280593e-02, 9.75118849e-02,\n",
       "       9.75883870e-02, 9.76573940e-02, 9.77187295e-02, 9.78521644e-02,\n",
       "       9.80624731e-02, 9.82678526e-02, 9.84681837e-02, 9.86633423e-02,\n",
       "       9.88531989e-02, 9.90376219e-02, 9.92164766e-02, 9.93896303e-02,\n",
       "       9.95569851e-02, 9.97183484e-02, 9.98735738e-02, 1.00022501e-01,\n",
       "       1.00164983e-01, 1.00300858e-01, 1.00429964e-01, 1.00552134e-01,\n",
       "       1.00814505e-01, 1.01081393e-01, 1.01340498e-01, 1.01595102e-01,\n",
       "       1.01845085e-01, 1.02090323e-01, 1.02330695e-01, 1.02566070e-01,\n",
       "       1.02796319e-01, 1.03021305e-01, 1.03240891e-01, 1.03454865e-01,\n",
       "       1.03663136e-01, 1.03865572e-01, 1.04062017e-01, 1.04252316e-01,\n",
       "       1.04495081e-01, 1.04824619e-01, 1.05150364e-01, 1.05472210e-01,\n",
       "       1.05790046e-01, 1.06103756e-01, 1.06413103e-01, 1.06718081e-01,\n",
       "       1.07018569e-01, 1.07314445e-01, 1.07605577e-01, 1.07891831e-01,\n",
       "       1.08173070e-01, 1.08449152e-01, 1.08719935e-01, 1.08985267e-01,\n",
       "       1.09245000e-01, 1.09622417e-01, 1.10019420e-01, 1.10413059e-01,\n",
       "       1.10803227e-01, 1.11189816e-01, 1.11572714e-01, 1.11951808e-01,\n",
       "       1.12326979e-01, 1.12698106e-01, 1.13065068e-01, 1.13427730e-01,\n",
       "       1.13785966e-01, 1.14139640e-01, 1.14488613e-01, 1.14832596e-01,\n",
       "       1.15171563e-01, 1.15547170e-01, 1.16020807e-01, 1.16491555e-01,\n",
       "       1.16959315e-01, 1.17423978e-01, 1.17885444e-01, 1.18343599e-01,\n",
       "       1.18798331e-01, 1.19249523e-01, 1.19697055e-01, 1.20140802e-01,\n",
       "       1.20580637e-01, 1.21016407e-01, 1.21447846e-01, 1.21874967e-01,\n",
       "       1.22297627e-01, 1.22715679e-01, 1.23235028e-01, 1.23788681e-01,\n",
       "       1.24339781e-01, 1.24888227e-01, 1.25433916e-01, 1.25976743e-01,\n",
       "       1.26516593e-01, 1.27053357e-01, 1.27586915e-01, 1.28117148e-01,\n",
       "       1.28643929e-01, 1.29167131e-01, 1.29686509e-01, 1.30201894e-01,\n",
       "       1.30713288e-01, 1.31220546e-01, 1.31750840e-01, 1.32393936e-01,\n",
       "       1.33034883e-01, 1.33673585e-01, 1.34309941e-01, 1.34943846e-01,\n",
       "       1.35575193e-01, 1.36203870e-01, 1.36829762e-01, 1.37452748e-01,\n",
       "       1.38072707e-01, 1.38689512e-01, 1.39303031e-01, 1.39913130e-01,\n",
       "       1.40519669e-01, 1.41122445e-01, 1.41721084e-01, 1.42409118e-01,\n",
       "       1.43147451e-01, 1.43883940e-01, 1.44618489e-01, 1.45350995e-01,\n",
       "       1.46081353e-01, 1.46809452e-01, 1.47535180e-01, 1.48258420e-01,\n",
       "       1.48979048e-01, 1.49696941e-01, 1.50411969e-01, 1.51123997e-01,\n",
       "       1.51832888e-01, 1.52538498e-01, 1.53240681e-01, 1.53952800e-01,\n",
       "       1.54797872e-01, 1.55641539e-01, 1.56483705e-01, 1.57324273e-01,\n",
       "       1.58162939e-01, 1.58999477e-01, 1.59834090e-01, 1.60666662e-01,\n",
       "       1.61497075e-01, 1.62325204e-01, 1.63150923e-01, 1.63974098e-01,\n",
       "       1.64794593e-01, 1.65612268e-01, 1.66426973e-01, 1.67238561e-01,\n",
       "       1.68130217e-01, 1.69091486e-01, 1.70051763e-01, 1.71010955e-01,\n",
       "       1.71968963e-01, 1.72925685e-01, 1.73881014e-01, 1.74834839e-01,\n",
       "       1.75787045e-01, 1.76737512e-01, 1.77686117e-01, 1.78632729e-01,\n",
       "       1.79577217e-01, 1.80519440e-01, 1.81459256e-01, 1.82396515e-01])"
      ]
     },
     "execution_count": 353,
     "metadata": {},
     "output_type": "execute_result"
    }
   ],
   "source": [
    "f_DH_data_elec_swave[0]['f']['low']['H ion']+f_DH_data_elec_swave[0]['f']['high']['H ion']"
   ]
  },
  {
   "cell_type": "code",
   "execution_count": 356,
   "metadata": {},
   "outputs": [
    {
     "data": {
      "text/plain": [
       "array([1.07738120e-05, 2.32695906e-02, 3.16277892e-02, 3.35403042e-02,\n",
       "       3.35050434e-02, 3.28798539e-02, 3.20678310e-02, 3.11890204e-02,\n",
       "       3.02801854e-02, 2.94053632e-02, 2.87024994e-02, 2.80050882e-02,\n",
       "       2.72984355e-02, 2.65829547e-02, 2.58586647e-02, 2.51254274e-02,\n",
       "       2.43830387e-02, 2.36312670e-02, 2.30522554e-02, 2.24910164e-02,\n",
       "       2.19229900e-02, 2.13475120e-02, 2.07645842e-02, 2.01741431e-02,\n",
       "       1.95761098e-02, 1.89704029e-02, 1.84621790e-02, 1.80077368e-02,\n",
       "       1.75517890e-02, 1.70899041e-02, 1.66221843e-02, 1.61486223e-02,\n",
       "       1.56691676e-02, 1.51837505e-02, 1.47434729e-02, 1.43796758e-02,\n",
       "       1.40182533e-02, 1.36521439e-02, 1.32814585e-02, 1.29061997e-02,\n",
       "       1.25263298e-02, 1.21417906e-02, 1.17656378e-02, 1.14788522e-02,\n",
       "       1.11971181e-02, 1.09117137e-02, 1.06227633e-02, 1.03302919e-02,\n",
       "       1.00342799e-02, 9.73469033e-03, 9.43147772e-03, 9.21168038e-03,\n",
       "       9.01225164e-03, 8.81206470e-03, 8.60995162e-03, 8.40596354e-03,\n",
       "       8.20011057e-03, 7.99238119e-03, 7.78274979e-03, 7.60667833e-03,\n",
       "       7.45923514e-03, 7.31315156e-03, 7.16548550e-03, 7.01628128e-03,\n",
       "       6.86554921e-03, 6.71329253e-03, 6.55952340e-03, 6.41098192e-03,\n",
       "       6.27802137e-03, 6.14683860e-03, 6.01346497e-03, 5.87800326e-03,\n",
       "       5.74054508e-03, 5.60120723e-03, 5.46017822e-03, 5.31934938e-03,\n",
       "       5.24200339e-03, 5.17092158e-03, 5.10402706e-03, 5.04705336e-03,\n",
       "       4.95565351e-03, 4.92389912e-03, 4.86092417e-03, 4.81464161e-03,\n",
       "       4.81865730e-03, 4.86430574e-03, 4.95159038e-03, 5.09725510e-03,\n",
       "       5.21947164e-03, 5.38631419e-03, 5.61500360e-03, 5.88014420e-03,\n",
       "       6.16577021e-03, 6.52008511e-03, 6.93049498e-03, 7.40306264e-03,\n",
       "       7.88128044e-03, 8.39472494e-03, 8.96944437e-03, 9.59757511e-03,\n",
       "       1.02262774e-02, 1.08946657e-02, 1.16420639e-02, 1.24331410e-02,\n",
       "       1.32706835e-02, 1.42047972e-02, 1.52047727e-02, 1.62541243e-02,\n",
       "       1.72214379e-02, 1.83392286e-02, 1.95099888e-02, 2.07346991e-02,\n",
       "       2.20193052e-02, 2.34004491e-02, 2.49326252e-02, 2.65477998e-02,\n",
       "       2.80885079e-02, 2.95295866e-02, 3.10340249e-02, 3.26677766e-02,\n",
       "       3.43658215e-02, 3.61212086e-02, 3.78236494e-02, 3.95522577e-02,\n",
       "       4.13189131e-02, 4.31662904e-02, 4.50646284e-02, 4.70073926e-02,\n",
       "       4.89962685e-02, 5.10752484e-02, 5.30818736e-02, 5.50112971e-02,\n",
       "       5.69619710e-02, 5.89391096e-02, 6.09861715e-02, 6.30521844e-02,\n",
       "       6.51338259e-02, 6.71549298e-02, 6.89449835e-02, 7.07284052e-02,\n",
       "       7.25028680e-02, 7.42674215e-02, 7.60599609e-02, 7.78203984e-02,\n",
       "       7.95707570e-02, 8.13214041e-02, 8.29213624e-02, 8.42359408e-02,\n",
       "       8.55075427e-02, 8.67443620e-02, 8.80114466e-02, 8.92963272e-02,\n",
       "       9.05514676e-02, 9.17277960e-02, 9.28267404e-02, 9.38941095e-02,\n",
       "       9.49244522e-02, 9.59162559e-02, 9.68686432e-02, 9.77849141e-02,\n",
       "       9.86614116e-02, 9.94213662e-02, 1.00130295e-01, 1.00801487e-01,\n",
       "       1.01434474e-01, 1.02028677e-01, 1.02585833e-01, 1.03254093e-01,\n",
       "       1.03725470e-01, 1.04104332e-01, 1.04462946e-01, 1.04801923e-01,\n",
       "       1.05122057e-01, 1.05423763e-01, 1.05707598e-01, 1.05973880e-01,\n",
       "       1.06342680e-01, 1.06699309e-01, 1.07037952e-01, 1.07357558e-01,\n",
       "       1.07657532e-01, 1.07937915e-01, 1.08198852e-01, 1.08486560e-01,\n",
       "       1.08819441e-01, 1.09139570e-01, 1.09446100e-01, 1.09738979e-01,\n",
       "       1.10018039e-01, 1.10283215e-01, 1.10531474e-01, 1.10772660e-01,\n",
       "       1.11000007e-01, 1.11212867e-01, 1.11411337e-01, 1.11595229e-01,\n",
       "       1.11764393e-01, 1.11919237e-01, 1.12059371e-01, 1.12177178e-01,\n",
       "       1.12432572e-01, 1.12694552e-01, 1.12945644e-01, 1.13185636e-01,\n",
       "       1.13414488e-01, 1.13631979e-01, 1.13837900e-01, 1.14032063e-01,\n",
       "       1.14214251e-01, 1.14384198e-01, 1.14540349e-01, 1.14683281e-01,\n",
       "       1.14812775e-01, 1.14928608e-01, 1.15030452e-01, 1.15117950e-01,\n",
       "       1.15253568e-01, 1.15495763e-01, 1.15727550e-01, 1.15948645e-01,\n",
       "       1.16158824e-01, 1.16357862e-01, 1.16545321e-01, 1.16721082e-01,\n",
       "       1.16884165e-01, 1.17034188e-01, 1.17171269e-01, 1.17295078e-01,\n",
       "       1.17405261e-01, 1.17501397e-01, 1.17583169e-01, 1.17650103e-01,\n",
       "       1.17701753e-01, 1.17892765e-01, 1.18112081e-01, 1.18320464e-01,\n",
       "       1.18517609e-01, 1.18703211e-01, 1.18876940e-01, 1.19038448e-01,\n",
       "       1.19190741e-01, 1.19325678e-01, 1.19447153e-01, 1.19554940e-01,\n",
       "       1.19648625e-01, 1.19727777e-01, 1.19791972e-01, 1.19840770e-01,\n",
       "       1.19873665e-01, 1.19940772e-01, 1.20149048e-01, 1.20345945e-01,\n",
       "       1.20531269e-01, 1.20704628e-01, 1.20865669e-01, 1.21014026e-01,\n",
       "       1.21149324e-01, 1.21262310e-01, 1.21360356e-01, 1.21444226e-01,\n",
       "       1.21513443e-01, 1.21567594e-01, 1.21606275e-01, 1.21628987e-01,\n",
       "       1.21635244e-01, 1.21624545e-01, 1.21748039e-01, 1.21925045e-01,\n",
       "       1.22090119e-01, 1.22242964e-01, 1.22383068e-01, 1.22510164e-01,\n",
       "       1.22623834e-01, 1.22723665e-01, 1.22809236e-01, 1.22880114e-01,\n",
       "       1.22935869e-01, 1.22976002e-01, 1.23000085e-01, 1.23007624e-01,\n",
       "       1.22998036e-01, 1.22970906e-01, 1.22958921e-01, 1.23125756e-01,\n",
       "       1.23280372e-01, 1.23422349e-01, 1.23551294e-01, 1.23666793e-01,\n",
       "       1.23768493e-01, 1.23855895e-01, 1.23928596e-01, 1.23986178e-01,\n",
       "       1.24028164e-01, 1.24054079e-01, 1.24063435e-01, 1.24055741e-01,\n",
       "       1.24030460e-01, 1.23987068e-01, 1.23925069e-01, 1.23985948e-01,\n",
       "       1.24129100e-01, 1.24259288e-01, 1.24376113e-01, 1.24479169e-01,\n",
       "       1.24568040e-01, 1.24642307e-01, 1.24701488e-01, 1.24745180e-01,\n",
       "       1.24772887e-01, 1.24784083e-01, 1.24778344e-01, 1.24755129e-01,\n",
       "       1.24713915e-01, 1.24654192e-01, 1.24575475e-01, 1.24488524e-01,\n",
       "       1.24619512e-01, 1.24737325e-01, 1.24841481e-01, 1.24931611e-01,\n",
       "       1.25007302e-01, 1.25068103e-01, 1.25113565e-01, 1.25143227e-01,\n",
       "       1.25156622e-01, 1.25153241e-01, 1.25132598e-01, 1.25094205e-01,\n",
       "       1.25037433e-01, 1.24961841e-01, 1.24866833e-01, 1.24751832e-01,\n",
       "       1.24742993e-01, 1.24847596e-01, 1.24938404e-01, 1.25014975e-01,\n",
       "       1.25076929e-01, 1.25123787e-01, 1.25155082e-01, 1.25170399e-01,\n",
       "       1.25169239e-01, 1.25151114e-01, 1.25115518e-01, 1.25061942e-01,\n",
       "       1.24989847e-01, 1.24898683e-01, 1.24787931e-01, 1.24656941e-01,\n",
       "       1.24505175e-01, 1.24582079e-01, 1.24659100e-01, 1.24721798e-01,\n",
       "       1.24769741e-01, 1.24802507e-01, 1.24819626e-01, 1.24820655e-01,\n",
       "       1.24805129e-01, 1.24772498e-01, 1.24722341e-01, 1.24654108e-01,\n",
       "       1.24567278e-01, 1.24461330e-01, 1.24335696e-01, 1.24189803e-01,\n",
       "       1.24023047e-01, 1.23940807e-01, 1.24003949e-01, 1.24052729e-01,\n",
       "       1.24086928e-01, 1.24105769e-01, 1.24108956e-01, 1.24096047e-01,\n",
       "       1.24066576e-01, 1.24020053e-01, 1.23955987e-01, 1.23873905e-01,\n",
       "       1.23775692e-01, 1.23658664e-01, 1.23521985e-01, 1.23365088e-01,\n",
       "       1.23187398e-01, 1.22988329e-01, 1.22998793e-01, 1.23036561e-01,\n",
       "       1.23059628e-01, 1.23067567e-01, 1.23059897e-01, 1.23036228e-01,\n",
       "       1.22996080e-01, 1.22938982e-01, 1.22864454e-01, 1.22772007e-01,\n",
       "       1.22661148e-01, 1.22531341e-01, 1.22382078e-01, 1.22212775e-01,\n",
       "       1.22022885e-01, 1.21811856e-01, 1.21660087e-01, 1.21684476e-01,\n",
       "       1.21694321e-01, 1.21689215e-01, 1.21668723e-01, 1.21632414e-01,\n",
       "       1.21579871e-01, 1.21510572e-01, 1.21424109e-01, 1.21319988e-01,\n",
       "       1.21197722e-01, 1.21056820e-01, 1.20896766e-01, 1.20717032e-01,\n",
       "       1.20517060e-01, 1.20296324e-01, 1.20054249e-01, 1.19996701e-01,\n",
       "       1.19994421e-01, 1.19977472e-01, 1.19945437e-01, 1.19897900e-01,\n",
       "       1.19834433e-01, 1.19754598e-01, 1.19657938e-01, 1.19544025e-01,\n",
       "       1.19412359e-01, 1.19262478e-01, 1.19093890e-01, 1.18906080e-01,\n",
       "       1.18698536e-01, 1.18470728e-01, 1.18222123e-01, 1.18005678e-01,\n",
       "       1.17992867e-01, 1.17965774e-01, 1.17923954e-01, 1.17867063e-01,\n",
       "       1.17794674e-01, 1.17706370e-01, 1.17601724e-01, 1.17480299e-01,\n",
       "       1.17341654e-01, 1.17185315e-01, 1.17010843e-01, 1.16817744e-01,\n",
       "       1.16605515e-01, 1.16373687e-01, 1.16121734e-01, 1.15849133e-01,\n",
       "       1.15731958e-01, 1.15696810e-01, 1.15647461e-01, 1.15583535e-01,\n",
       "       1.15504662e-01, 1.15410413e-01, 1.15300412e-01, 1.15174243e-01,\n",
       "       1.15031483e-01, 1.14871702e-01, 1.14694458e-01, 1.14499311e-01,\n",
       "       1.14285789e-01, 1.14053430e-01, 1.13801768e-01, 1.13530268e-01,\n",
       "       1.13263883e-01, 1.13223390e-01, 1.13169281e-01, 1.13101207e-01,\n",
       "       1.13018802e-01, 1.12921707e-01, 1.12809526e-01, 1.12681899e-01,\n",
       "       1.12538411e-01, 1.12378658e-01, 1.12202248e-01, 1.12008749e-01,\n",
       "       1.11797737e-01, 1.11568769e-01, 1.11321411e-01, 1.11055189e-01,\n",
       "       1.10769654e-01, 1.10608270e-01, 1.10552672e-01, 1.10483797e-01,\n",
       "       1.10401320e-01, 1.10304882e-01, 1.10194148e-01, 1.10068746e-01,\n",
       "       1.09928330e-01, 1.09772502e-01, 1.09600908e-01, 1.09413148e-01,\n",
       "       1.09208812e-01, 1.08987514e-01, 1.08748840e-01, 1.08492362e-01,\n",
       "       1.08217652e-01, 1.07924272e-01, 1.07869570e-01, 1.07803755e-01,\n",
       "       1.07725123e-01, 1.07633353e-01, 1.07528115e-01, 1.07409105e-01,\n",
       "       1.07275971e-01, 1.07128377e-01, 1.06965973e-01, 1.06788400e-01,\n",
       "       1.06595302e-01, 1.06386296e-01, 1.06161027e-01, 1.05919073e-01,\n",
       "       1.05660064e-01, 1.05383603e-01, 1.05200023e-01, 1.05141560e-01,\n",
       "       1.05071126e-01, 1.04988432e-01, 1.04893193e-01, 1.04785103e-01,\n",
       "       1.04663862e-01, 1.04529147e-01, 1.04380648e-01, 1.04218049e-01,\n",
       "       1.04041009e-01, 1.03849186e-01, 1.03642256e-01, 1.03419848e-01,\n",
       "       1.03181605e-01, 1.02927184e-01, 1.02656182e-01, 1.02584425e-01,\n",
       "       1.02526891e-01, 1.02458014e-01, 1.02377537e-01, 1.02285193e-01,\n",
       "       1.02180696e-01, 1.02063767e-01, 1.01934127e-01, 1.01791478e-01,\n",
       "       1.01635502e-01, 1.01472908e-01, 1.01289355e-01, 1.01091555e-01,\n",
       "       1.00879199e-01, 1.00651939e-01, 1.00409441e-01, 1.00230573e-01,\n",
       "       1.00190860e-01, 1.00140749e-01, 1.00080008e-01, 1.00008403e-01,\n",
       "       9.99256703e-02, 9.98315589e-02, 9.97258285e-02, 9.96081949e-02,\n",
       "       9.94783875e-02, 9.93361462e-02, 9.91811943e-02, 9.90132212e-02,\n",
       "       9.88319445e-02, 9.86370964e-02, 9.84283460e-02, 9.82053845e-02,\n",
       "       9.81435306e-02, 9.81173728e-02, 9.80815525e-02, 9.80358542e-02,\n",
       "       9.79800718e-02, 9.79139644e-02, 9.78373035e-02, 9.77498458e-02,\n",
       "       9.76513627e-02, 9.75416110e-02, 9.74203256e-02, 9.72872516e-02,\n",
       "       9.71421327e-02, 9.69847200e-02, 9.68147184e-02, 9.66318483e-02,\n",
       "       9.64867790e-02, 9.64897258e-02, 9.64839754e-02, 9.64693322e-02,\n",
       "       9.64455985e-02, 9.64125899e-02, 9.63700864e-02, 9.63178761e-02,\n",
       "       9.62557293e-02, 9.61834422e-02, 9.61008105e-02, 9.60075783e-02,\n",
       "       9.59035115e-02, 9.57883723e-02, 9.56619352e-02, 9.55239517e-02,\n",
       "       9.53741555e-02, 9.53507576e-02, 9.53801906e-02, 9.54017067e-02,\n",
       "       9.54151197e-02, 9.54202336e-02, 9.54168628e-02, 9.54048192e-02,\n",
       "       9.53839265e-02, 9.53539874e-02, 9.53147899e-02, 9.52661216e-02,\n",
       "       9.52077740e-02, 9.51395441e-02, 9.50612368e-02, 9.49726013e-02,\n",
       "       9.48734106e-02, 9.47903712e-02, 9.48600480e-02, 9.49227091e-02,\n",
       "       9.49781963e-02, 9.50263206e-02, 9.50669266e-02, 9.50998434e-02,\n",
       "       9.51248979e-02, 9.51419402e-02, 9.51507725e-02, 9.51512039e-02,\n",
       "       9.51430432e-02, 9.51261030e-02, 9.51001877e-02, 9.50651133e-02,\n",
       "       9.50206745e-02, 9.49666483e-02, 9.50091815e-02, 9.51178624e-02,\n",
       "       9.52202144e-02, 9.53161018e-02, 9.54053920e-02, 9.54879114e-02,\n",
       "       9.55634974e-02, 9.56319937e-02, 9.56932409e-02, 9.57470715e-02,\n",
       "       9.57933373e-02, 9.58318655e-02, 9.58624593e-02, 9.58849362e-02,\n",
       "       9.58991123e-02, 9.59048040e-02, 9.59090619e-02, 9.60685705e-02,\n",
       "       9.62225750e-02, 9.63709158e-02, 9.65134580e-02, 9.66500644e-02,\n",
       "       9.67805954e-02, 9.69049041e-02, 9.70228475e-02, 9.71343099e-02,\n",
       "       9.72391077e-02, 9.73370787e-02, 9.74280593e-02, 9.75118849e-02,\n",
       "       9.75883870e-02, 9.76573940e-02, 9.77187295e-02, 9.78521644e-02,\n",
       "       9.80624731e-02, 9.82678526e-02, 9.84681837e-02, 9.86633423e-02,\n",
       "       9.88531989e-02, 9.90376219e-02, 9.92164766e-02, 9.93896303e-02,\n",
       "       9.95569851e-02, 9.97183484e-02, 9.98735738e-02, 1.00022501e-01,\n",
       "       1.00164983e-01, 1.00300858e-01, 1.00429964e-01, 1.00552134e-01,\n",
       "       1.00814505e-01, 1.01081393e-01, 1.01340498e-01, 1.01595102e-01,\n",
       "       1.01845085e-01, 1.02090323e-01, 1.02330695e-01, 1.02566070e-01,\n",
       "       1.02796319e-01, 1.03021305e-01, 1.03240891e-01, 1.03454865e-01,\n",
       "       1.03663136e-01, 1.03865572e-01, 1.04062017e-01, 1.04252316e-01,\n",
       "       1.04495081e-01, 1.04824619e-01, 1.05150364e-01, 1.05472210e-01,\n",
       "       1.05790046e-01, 1.06103756e-01, 1.06413103e-01, 1.06718081e-01,\n",
       "       1.07018569e-01, 1.07314445e-01, 1.07605577e-01, 1.07891831e-01,\n",
       "       1.08173070e-01, 1.08449152e-01, 1.08719935e-01, 1.08985267e-01,\n",
       "       1.09245000e-01, 1.09622417e-01, 1.10019420e-01, 1.10413059e-01,\n",
       "       1.10803227e-01, 1.11189816e-01, 1.11572714e-01, 1.11951808e-01,\n",
       "       1.12326979e-01, 1.12698106e-01, 1.13065068e-01, 1.13427730e-01,\n",
       "       1.13785966e-01, 1.14139640e-01, 1.14488613e-01, 1.14832596e-01,\n",
       "       1.15171563e-01, 1.15547170e-01, 1.16020807e-01, 1.16491555e-01,\n",
       "       1.16959315e-01, 1.17423978e-01, 1.17885444e-01, 1.18343599e-01,\n",
       "       1.18798331e-01, 1.19249523e-01, 1.19697055e-01, 1.20140802e-01,\n",
       "       1.20580637e-01, 1.21016407e-01, 1.21447846e-01, 1.21874967e-01,\n",
       "       1.22297627e-01, 1.22715679e-01, 1.23235028e-01, 1.23788681e-01,\n",
       "       1.24339781e-01, 1.24888227e-01, 1.25433916e-01, 1.25976743e-01,\n",
       "       1.26516593e-01, 1.27053357e-01, 1.27586915e-01, 1.28117148e-01,\n",
       "       1.28643929e-01, 1.29167131e-01, 1.29686509e-01, 1.30201894e-01,\n",
       "       1.30713288e-01, 1.31220546e-01, 1.31750840e-01, 1.32393936e-01,\n",
       "       1.33034883e-01, 1.33673585e-01, 1.34309941e-01, 1.34943846e-01,\n",
       "       1.35575193e-01, 1.36203870e-01, 1.36829762e-01, 1.37452748e-01,\n",
       "       1.38072707e-01, 1.38689512e-01, 1.39303031e-01, 1.39913130e-01,\n",
       "       1.40519669e-01, 1.41122445e-01, 1.41721084e-01, 1.42409118e-01,\n",
       "       1.43147451e-01, 1.43883940e-01, 1.44618489e-01, 1.45350995e-01,\n",
       "       1.46081353e-01, 1.46809452e-01, 1.47535180e-01, 1.48258420e-01,\n",
       "       1.48979048e-01, 1.49696941e-01, 1.50411969e-01, 1.51123997e-01,\n",
       "       1.51832888e-01, 1.52538498e-01, 1.53240681e-01, 1.53952800e-01,\n",
       "       1.54797872e-01, 1.55641539e-01, 1.56483705e-01, 1.57324273e-01,\n",
       "       1.58162939e-01, 1.58999477e-01, 1.59834090e-01, 1.60666662e-01,\n",
       "       1.61497075e-01, 1.62325204e-01, 1.63150923e-01, 1.63974098e-01,\n",
       "       1.64794593e-01, 1.65612268e-01, 1.66426973e-01, 1.67238561e-01,\n",
       "       1.68130217e-01, 1.69091486e-01, 1.70051763e-01, 1.71010955e-01,\n",
       "       1.71968963e-01, 1.72925685e-01, 1.73881014e-01, 1.74834839e-01,\n",
       "       1.75787045e-01, 1.76737512e-01, 1.77686117e-01, 1.78632729e-01,\n",
       "       1.79577217e-01, 1.80519440e-01, 1.81459256e-01, 1.82396515e-01])"
      ]
     },
     "execution_count": 356,
     "metadata": {},
     "output_type": "execute_result"
    }
   ],
   "source": [
    "np.flipud(f_DH_list[0][:,0])"
   ]
  },
  {
   "cell_type": "code",
   "execution_count": 287,
   "metadata": {},
   "outputs": [],
   "source": [
    "inj_particle='electron'\n",
    "inj_type='swave'\n",
    "inj_str = inj_particle[:4]"
   ]
  },
  {
   "cell_type": "code",
   "execution_count": 288,
   "metadata": {},
   "outputs": [],
   "source": [
    "f_DH_data = pickle.load(open( \n",
    "            '/Users/gregoryridgway/Dropbox (MIT)/Photon Deposition/idl_comparison/GR_Checks/ih_continuous_'\n",
    "                       +inj_str+'/f_'+inj_str+'_'+inj_type+'_notCrossCheck_v4.p','rb'\n",
    "                      ))"
   ]
  },
  {
   "cell_type": "code",
   "execution_count": 354,
   "metadata": {},
   "outputs": [],
   "source": [
    "rs_vec = f_DH_data[0]['rs']\n",
    "f_DH_list = np.ones((40,5,len(rs_vec)))*1e-6\n",
    "f_DH_data = f_DH_data_elec_swave.copy()\n",
    "tmp=1\n",
    "tmp2=1\n",
    "for k in np.arange(40):\n",
    "    f_DH_list[k] = np.array(\n",
    "    [np.flipud(tmp2*f_DH_data[k]['f']['low']['H ion']+tmp*f_DH_data[k]['f']['high']['H ion']),\n",
    "     np.flipud(tmp2*f_DH_data[k]['f']['low']['He ion']+tmp*f_DH_data[k]['f']['high']['He ion']),\n",
    "     np.flipud(tmp2*f_DH_data[k]['f']['low']['exc']+tmp*f_DH_data[k]['f']['high']['exc']),\n",
    "     np.flipud(tmp2*f_DH_data[k]['f']['low']['heat']+tmp*f_DH_data[k]['f']['high']['heat']),\n",
    "     np.flipud(tmp2*f_DH_data[k]['f']['low']['cont']+tmp*f_DH_data[k]['f']['high']['cont'])]\n",
    ")\n",
    "\n",
    "f_DH_list = np.swapaxes(f_DH_list,1,2)\n",
    "f_DH_list[f_DH_list<=0] = 1e-12"
   ]
  },
  {
   "cell_type": "code",
   "execution_count": 366,
   "metadata": {},
   "outputs": [
    {
     "data": {
      "text/plain": [
       "array([1.82396515e-01, 1.81459256e-01, 1.80519440e-01, 1.79577217e-01,\n",
       "       1.78632729e-01, 1.77686117e-01, 1.76737512e-01, 1.75787045e-01,\n",
       "       1.74834839e-01, 1.73881014e-01, 1.72925685e-01, 1.71968963e-01,\n",
       "       1.71010955e-01, 1.70051763e-01, 1.69091486e-01, 1.68130217e-01,\n",
       "       1.67238561e-01, 1.66426973e-01, 1.65612268e-01, 1.64794593e-01,\n",
       "       1.63974098e-01, 1.63150923e-01, 1.62325204e-01, 1.61497075e-01,\n",
       "       1.60666662e-01, 1.59834090e-01, 1.58999477e-01, 1.58162939e-01,\n",
       "       1.57324273e-01, 1.56483705e-01, 1.55641539e-01, 1.54797872e-01,\n",
       "       1.53952800e-01, 1.53240681e-01, 1.52538498e-01, 1.51832888e-01,\n",
       "       1.51123997e-01, 1.50411969e-01, 1.49696941e-01, 1.48979048e-01,\n",
       "       1.48258420e-01, 1.47535180e-01, 1.46809452e-01, 1.46081353e-01,\n",
       "       1.45350995e-01, 1.44618489e-01, 1.43883940e-01, 1.43147451e-01,\n",
       "       1.42409118e-01, 1.41721084e-01, 1.41122445e-01, 1.40519669e-01,\n",
       "       1.39913130e-01, 1.39303031e-01, 1.38689512e-01, 1.38072707e-01,\n",
       "       1.37452748e-01, 1.36829762e-01, 1.36203870e-01, 1.35575193e-01,\n",
       "       1.34943846e-01, 1.34309941e-01, 1.33673585e-01, 1.33034883e-01,\n",
       "       1.32393936e-01, 1.31750840e-01, 1.31220546e-01, 1.30713288e-01,\n",
       "       1.30201894e-01, 1.29686509e-01, 1.29167131e-01, 1.28643929e-01,\n",
       "       1.28117148e-01, 1.27586915e-01, 1.27053357e-01, 1.26516593e-01,\n",
       "       1.25976743e-01, 1.25433916e-01, 1.24888227e-01, 1.24339781e-01,\n",
       "       1.23788681e-01, 1.23235028e-01, 1.22715679e-01, 1.22297627e-01,\n",
       "       1.21874967e-01, 1.21447846e-01, 1.21016407e-01, 1.20580637e-01,\n",
       "       1.20140802e-01, 1.19697055e-01, 1.19249523e-01, 1.18798331e-01,\n",
       "       1.18343599e-01, 1.17885444e-01, 1.17423978e-01, 1.16959315e-01,\n",
       "       1.16491555e-01, 1.16020807e-01, 1.15547170e-01, 1.15171563e-01,\n",
       "       1.14832596e-01, 1.14488613e-01, 1.14139640e-01, 1.13785966e-01,\n",
       "       1.13427730e-01, 1.13065068e-01, 1.12698106e-01, 1.12326979e-01,\n",
       "       1.11951808e-01, 1.11572714e-01, 1.11189816e-01, 1.10803227e-01,\n",
       "       1.10413059e-01, 1.10019420e-01, 1.09622417e-01, 1.09245000e-01,\n",
       "       1.08985267e-01, 1.08719935e-01, 1.08449152e-01, 1.08173070e-01,\n",
       "       1.07891831e-01, 1.07605577e-01, 1.07314445e-01, 1.07018569e-01,\n",
       "       1.06718081e-01, 1.06413103e-01, 1.06103756e-01, 1.05790046e-01,\n",
       "       1.05472210e-01, 1.05150364e-01, 1.04824619e-01, 1.04495081e-01,\n",
       "       1.04252316e-01, 1.04062017e-01, 1.03865572e-01, 1.03663136e-01,\n",
       "       1.03454865e-01, 1.03240891e-01, 1.03021305e-01, 1.02796319e-01,\n",
       "       1.02566070e-01, 1.02330695e-01, 1.02090323e-01, 1.01845085e-01,\n",
       "       1.01595102e-01, 1.01340498e-01, 1.01081393e-01, 1.00814505e-01,\n",
       "       1.00552134e-01, 1.00429964e-01, 1.00300858e-01, 1.00164983e-01,\n",
       "       1.00022501e-01, 9.98735738e-02, 9.97183484e-02, 9.95569851e-02,\n",
       "       9.93896303e-02, 9.92164766e-02, 9.90376219e-02, 9.88531989e-02,\n",
       "       9.86633423e-02, 9.84681837e-02, 9.82678526e-02, 9.80624731e-02,\n",
       "       9.78521644e-02, 9.77187295e-02, 9.76573940e-02, 9.75883870e-02,\n",
       "       9.75118849e-02, 9.74280593e-02, 9.73370787e-02, 9.72391077e-02,\n",
       "       9.71343099e-02, 9.70228475e-02, 9.69049041e-02, 9.67805954e-02,\n",
       "       9.66500644e-02, 9.65134580e-02, 9.63709158e-02, 9.62225750e-02,\n",
       "       9.60685705e-02, 9.59090619e-02, 9.59048040e-02, 9.58991123e-02,\n",
       "       9.58849362e-02, 9.58624593e-02, 9.58318655e-02, 9.57933373e-02,\n",
       "       9.57470715e-02, 9.56932409e-02, 9.56319937e-02, 9.55634974e-02,\n",
       "       9.54879114e-02, 9.54053920e-02, 9.53161018e-02, 9.52202144e-02,\n",
       "       9.51178624e-02, 9.50091815e-02, 9.49666483e-02, 9.50206745e-02,\n",
       "       9.50651133e-02, 9.51001877e-02, 9.51261030e-02, 9.51430432e-02,\n",
       "       9.51512039e-02, 9.51507725e-02, 9.51419402e-02, 9.51248979e-02,\n",
       "       9.50998434e-02, 9.50669266e-02, 9.50263206e-02, 9.49781963e-02,\n",
       "       9.49227091e-02, 9.48600480e-02, 9.47903712e-02, 9.48734106e-02,\n",
       "       9.49726013e-02, 9.50612368e-02, 9.51395441e-02, 9.52077740e-02,\n",
       "       9.52661216e-02, 9.53147899e-02, 9.53539874e-02, 9.53839265e-02,\n",
       "       9.54048192e-02, 9.54168628e-02, 9.54202336e-02, 9.54151197e-02,\n",
       "       9.54017067e-02, 9.53801906e-02, 9.53507576e-02, 9.53741555e-02,\n",
       "       9.55239517e-02, 9.56619352e-02, 9.57883723e-02, 9.59035115e-02,\n",
       "       9.60075783e-02, 9.61008105e-02, 9.61834422e-02, 9.62557293e-02,\n",
       "       9.63178761e-02, 9.63700864e-02, 9.64125899e-02, 9.64455985e-02,\n",
       "       9.64693322e-02, 9.64839754e-02, 9.64897258e-02, 9.64867790e-02,\n",
       "       9.66318483e-02, 9.68147184e-02, 9.69847200e-02, 9.71421327e-02,\n",
       "       9.72872516e-02, 9.74203256e-02, 9.75416110e-02, 9.76513627e-02,\n",
       "       9.77498458e-02, 9.78373035e-02, 9.79139644e-02, 9.79800718e-02,\n",
       "       9.80358542e-02, 9.80815525e-02, 9.81173728e-02, 9.81435306e-02,\n",
       "       9.82053845e-02, 9.84283460e-02, 9.86370964e-02, 9.88319445e-02,\n",
       "       9.90132212e-02, 9.91811943e-02, 9.93361462e-02, 9.94783875e-02,\n",
       "       9.96081949e-02, 9.97258285e-02, 9.98315589e-02, 9.99256703e-02,\n",
       "       1.00008403e-01, 1.00080008e-01, 1.00140749e-01, 1.00190860e-01,\n",
       "       1.00230573e-01, 1.00409441e-01, 1.00651939e-01, 1.00879199e-01,\n",
       "       1.01091555e-01, 1.01289355e-01, 1.01472908e-01, 1.01635502e-01,\n",
       "       1.01791478e-01, 1.01934127e-01, 1.02063767e-01, 1.02180696e-01,\n",
       "       1.02285193e-01, 1.02377537e-01, 1.02458014e-01, 1.02526891e-01,\n",
       "       1.02584425e-01, 1.02656182e-01, 1.02927184e-01, 1.03181605e-01,\n",
       "       1.03419848e-01, 1.03642256e-01, 1.03849186e-01, 1.04041009e-01,\n",
       "       1.04218049e-01, 1.04380648e-01, 1.04529147e-01, 1.04663862e-01,\n",
       "       1.04785103e-01, 1.04893193e-01, 1.04988432e-01, 1.05071126e-01,\n",
       "       1.05141560e-01, 1.05200023e-01, 1.05383603e-01, 1.05660064e-01,\n",
       "       1.05919073e-01, 1.06161027e-01, 1.06386296e-01, 1.06595302e-01,\n",
       "       1.06788400e-01, 1.06965973e-01, 1.07128377e-01, 1.07275971e-01,\n",
       "       1.07409105e-01, 1.07528115e-01, 1.07633353e-01, 1.07725123e-01,\n",
       "       1.07803755e-01, 1.07869570e-01, 1.07924272e-01, 1.08217652e-01,\n",
       "       1.08492362e-01, 1.08748840e-01, 1.08987514e-01, 1.09208812e-01,\n",
       "       1.09413148e-01, 1.09600908e-01, 1.09772502e-01, 1.09928330e-01,\n",
       "       1.10068746e-01, 1.10194148e-01, 1.10304882e-01, 1.10401320e-01,\n",
       "       1.10483797e-01, 1.10552672e-01, 1.10608270e-01, 1.10769654e-01,\n",
       "       1.11055189e-01, 1.11321411e-01, 1.11568769e-01, 1.11797737e-01,\n",
       "       1.12008749e-01, 1.12202248e-01, 1.12378658e-01, 1.12538411e-01,\n",
       "       1.12681899e-01, 1.12809526e-01, 1.12921707e-01, 1.13018802e-01,\n",
       "       1.13101207e-01, 1.13169281e-01, 1.13223390e-01, 1.13263883e-01,\n",
       "       1.13530268e-01, 1.13801768e-01, 1.14053430e-01, 1.14285789e-01,\n",
       "       1.14499311e-01, 1.14694458e-01, 1.14871702e-01, 1.15031483e-01,\n",
       "       1.15174243e-01, 1.15300412e-01, 1.15410413e-01, 1.15504662e-01,\n",
       "       1.15583535e-01, 1.15647461e-01, 1.15696810e-01, 1.15731958e-01,\n",
       "       1.15849133e-01, 1.16121734e-01, 1.16373687e-01, 1.16605515e-01,\n",
       "       1.16817744e-01, 1.17010843e-01, 1.17185315e-01, 1.17341654e-01,\n",
       "       1.17480299e-01, 1.17601724e-01, 1.17706370e-01, 1.17794674e-01,\n",
       "       1.17867063e-01, 1.17923954e-01, 1.17965774e-01, 1.17992867e-01,\n",
       "       1.18005678e-01, 1.18222123e-01, 1.18470728e-01, 1.18698536e-01,\n",
       "       1.18906080e-01, 1.19093890e-01, 1.19262478e-01, 1.19412359e-01,\n",
       "       1.19544025e-01, 1.19657938e-01, 1.19754598e-01, 1.19834433e-01,\n",
       "       1.19897900e-01, 1.19945437e-01, 1.19977472e-01, 1.19994421e-01,\n",
       "       1.19996701e-01, 1.20054249e-01, 1.20296324e-01, 1.20517060e-01,\n",
       "       1.20717032e-01, 1.20896766e-01, 1.21056820e-01, 1.21197722e-01,\n",
       "       1.21319988e-01, 1.21424109e-01, 1.21510572e-01, 1.21579871e-01,\n",
       "       1.21632414e-01, 1.21668723e-01, 1.21689215e-01, 1.21694321e-01,\n",
       "       1.21684476e-01, 1.21660087e-01, 1.21811856e-01, 1.22022885e-01,\n",
       "       1.22212775e-01, 1.22382078e-01, 1.22531341e-01, 1.22661148e-01,\n",
       "       1.22772007e-01, 1.22864454e-01, 1.22938982e-01, 1.22996080e-01,\n",
       "       1.23036228e-01, 1.23059897e-01, 1.23067567e-01, 1.23059628e-01,\n",
       "       1.23036561e-01, 1.22998793e-01, 1.22988329e-01, 1.23187398e-01,\n",
       "       1.23365088e-01, 1.23521985e-01, 1.23658664e-01, 1.23775692e-01,\n",
       "       1.23873905e-01, 1.23955987e-01, 1.24020053e-01, 1.24066576e-01,\n",
       "       1.24096047e-01, 1.24108956e-01, 1.24105769e-01, 1.24086928e-01,\n",
       "       1.24052729e-01, 1.24003949e-01, 1.23940807e-01, 1.24023047e-01,\n",
       "       1.24189803e-01, 1.24335696e-01, 1.24461330e-01, 1.24567278e-01,\n",
       "       1.24654108e-01, 1.24722341e-01, 1.24772498e-01, 1.24805129e-01,\n",
       "       1.24820655e-01, 1.24819626e-01, 1.24802507e-01, 1.24769741e-01,\n",
       "       1.24721798e-01, 1.24659100e-01, 1.24582079e-01, 1.24505175e-01,\n",
       "       1.24656941e-01, 1.24787931e-01, 1.24898683e-01, 1.24989847e-01,\n",
       "       1.25061942e-01, 1.25115518e-01, 1.25151114e-01, 1.25169239e-01,\n",
       "       1.25170399e-01, 1.25155082e-01, 1.25123787e-01, 1.25076929e-01,\n",
       "       1.25014975e-01, 1.24938404e-01, 1.24847596e-01, 1.24742993e-01,\n",
       "       1.24751832e-01, 1.24866833e-01, 1.24961841e-01, 1.25037433e-01,\n",
       "       1.25094205e-01, 1.25132598e-01, 1.25153241e-01, 1.25156622e-01,\n",
       "       1.25143227e-01, 1.25113565e-01, 1.25068103e-01, 1.25007302e-01,\n",
       "       1.24931611e-01, 1.24841481e-01, 1.24737325e-01, 1.24619512e-01,\n",
       "       1.24488524e-01, 1.24575475e-01, 1.24654192e-01, 1.24713915e-01,\n",
       "       1.24755129e-01, 1.24778344e-01, 1.24784083e-01, 1.24772887e-01,\n",
       "       1.24745180e-01, 1.24701488e-01, 1.24642307e-01, 1.24568040e-01,\n",
       "       1.24479169e-01, 1.24376113e-01, 1.24259288e-01, 1.24129100e-01,\n",
       "       1.23985948e-01, 1.23925069e-01, 1.23987068e-01, 1.24030460e-01,\n",
       "       1.24055741e-01, 1.24063435e-01, 1.24054079e-01, 1.24028164e-01,\n",
       "       1.23986178e-01, 1.23928596e-01, 1.23855895e-01, 1.23768493e-01,\n",
       "       1.23666793e-01, 1.23551294e-01, 1.23422349e-01, 1.23280372e-01,\n",
       "       1.23125756e-01, 1.22958921e-01, 1.22970906e-01, 1.22998036e-01,\n",
       "       1.23007624e-01, 1.23000085e-01, 1.22976002e-01, 1.22935869e-01,\n",
       "       1.22880114e-01, 1.22809236e-01, 1.22723665e-01, 1.22623834e-01,\n",
       "       1.22510164e-01, 1.22383068e-01, 1.22242964e-01, 1.22090119e-01,\n",
       "       1.21925045e-01, 1.21748039e-01, 1.21624545e-01, 1.21635244e-01,\n",
       "       1.21628987e-01, 1.21606275e-01, 1.21567594e-01, 1.21513443e-01,\n",
       "       1.21444226e-01, 1.21360356e-01, 1.21262310e-01, 1.21149324e-01,\n",
       "       1.21014026e-01, 1.20865669e-01, 1.20704628e-01, 1.20531269e-01,\n",
       "       1.20345945e-01, 1.20149048e-01, 1.19940772e-01, 1.19873665e-01,\n",
       "       1.19840770e-01, 1.19791972e-01, 1.19727777e-01, 1.19648625e-01,\n",
       "       1.19554940e-01, 1.19447153e-01, 1.19325678e-01, 1.19190741e-01,\n",
       "       1.19038448e-01, 1.18876940e-01, 1.18703211e-01, 1.18517609e-01,\n",
       "       1.18320464e-01, 1.18112081e-01, 1.17892765e-01, 1.17701753e-01,\n",
       "       1.17650103e-01, 1.17583169e-01, 1.17501397e-01, 1.17405261e-01,\n",
       "       1.17295078e-01, 1.17171269e-01, 1.17034188e-01, 1.16884165e-01,\n",
       "       1.16721082e-01, 1.16545321e-01, 1.16357862e-01, 1.16158824e-01,\n",
       "       1.15948645e-01, 1.15727550e-01, 1.15495763e-01, 1.15253568e-01,\n",
       "       1.15117950e-01, 1.15030452e-01, 1.14928608e-01, 1.14812775e-01,\n",
       "       1.14683281e-01, 1.14540349e-01, 1.14384198e-01, 1.14214251e-01,\n",
       "       1.14032063e-01, 1.13837900e-01, 1.13631979e-01, 1.13414488e-01,\n",
       "       1.13185636e-01, 1.12945644e-01, 1.12694552e-01, 1.12432572e-01,\n",
       "       1.12177178e-01, 1.12059371e-01, 1.11919237e-01, 1.11764393e-01,\n",
       "       1.11595229e-01, 1.11411337e-01, 1.11212867e-01, 1.11000007e-01,\n",
       "       1.10772660e-01, 1.10531474e-01, 1.10283215e-01, 1.10018039e-01,\n",
       "       1.09738979e-01, 1.09446100e-01, 1.09139570e-01, 1.08819441e-01,\n",
       "       1.08486560e-01, 1.08198852e-01, 1.07937915e-01, 1.07657532e-01,\n",
       "       1.07357558e-01, 1.07037952e-01, 1.06699309e-01, 1.06342680e-01,\n",
       "       1.05973880e-01, 1.05707598e-01, 1.05423763e-01, 1.05122057e-01,\n",
       "       1.04801923e-01, 1.04462946e-01, 1.04104332e-01, 1.03725470e-01,\n",
       "       1.03254093e-01, 1.02585833e-01, 1.02028677e-01, 1.01434474e-01,\n",
       "       1.00801487e-01, 1.00130295e-01, 9.94213662e-02, 9.86614116e-02,\n",
       "       9.77849141e-02, 9.68686432e-02, 9.59162559e-02, 9.49244522e-02,\n",
       "       9.38941095e-02, 9.28267404e-02, 9.17277960e-02, 9.05514676e-02,\n",
       "       8.92963272e-02, 8.80114466e-02, 8.67443620e-02, 8.55075427e-02,\n",
       "       8.42359408e-02, 8.29213624e-02, 8.13214041e-02, 7.95707570e-02,\n",
       "       7.78203984e-02, 7.60599609e-02, 7.42674215e-02, 7.25028680e-02,\n",
       "       7.07284052e-02, 6.89449835e-02, 6.71549298e-02, 6.51338259e-02,\n",
       "       6.30521844e-02, 6.09861715e-02, 5.89391096e-02, 5.69619710e-02,\n",
       "       5.50112971e-02, 5.30818736e-02, 5.10752484e-02, 4.89962685e-02,\n",
       "       4.70073926e-02, 4.50646284e-02, 4.31662904e-02, 4.13189131e-02,\n",
       "       3.95522577e-02, 3.78236494e-02, 3.61212086e-02, 3.43658215e-02,\n",
       "       3.26677766e-02, 3.10340249e-02, 2.95295866e-02, 2.80885079e-02,\n",
       "       2.65477998e-02, 2.49326252e-02, 2.34004491e-02, 2.20193052e-02,\n",
       "       2.07346991e-02, 1.95099888e-02, 1.83392286e-02, 1.72214379e-02,\n",
       "       1.62541243e-02, 1.52047727e-02, 1.42047972e-02, 1.32706835e-02,\n",
       "       1.24331410e-02, 1.16420639e-02, 1.08946657e-02, 1.02262774e-02,\n",
       "       9.59757511e-03, 8.96944437e-03, 8.39472494e-03, 7.88128044e-03,\n",
       "       7.40306264e-03, 6.93049498e-03, 6.52008511e-03, 6.16577021e-03,\n",
       "       5.88014420e-03, 5.61500360e-03, 5.38631419e-03, 5.21947164e-03,\n",
       "       5.09725510e-03, 4.95159038e-03, 4.86430574e-03, 4.81865730e-03,\n",
       "       4.81464161e-03, 4.86092417e-03, 4.92389912e-03, 4.95565351e-03,\n",
       "       5.04705336e-03, 5.10402706e-03, 5.17092158e-03, 5.24200339e-03,\n",
       "       5.31934938e-03, 5.46017822e-03, 5.60120723e-03, 5.74054508e-03,\n",
       "       5.87800326e-03, 6.01346497e-03, 6.14683860e-03, 6.27802137e-03,\n",
       "       6.41098192e-03, 6.55952340e-03, 6.71329253e-03, 6.86554921e-03,\n",
       "       7.01628128e-03, 7.16548550e-03, 7.31315156e-03, 7.45923514e-03,\n",
       "       7.60667833e-03, 7.78274979e-03, 7.99238119e-03, 8.20011057e-03,\n",
       "       8.40596354e-03, 8.60995162e-03, 8.81206470e-03, 9.01225164e-03,\n",
       "       9.21168038e-03, 9.43147772e-03, 9.73469033e-03, 1.00342799e-02,\n",
       "       1.03302919e-02, 1.06227633e-02, 1.09117137e-02, 1.11971181e-02,\n",
       "       1.14788522e-02, 1.17656378e-02, 1.21417906e-02, 1.25263298e-02,\n",
       "       1.29061997e-02, 1.32814585e-02, 1.36521439e-02, 1.40182533e-02,\n",
       "       1.43796758e-02, 1.47434729e-02, 1.51837505e-02, 1.56691676e-02,\n",
       "       1.61486223e-02, 1.66221843e-02, 1.70899041e-02, 1.75517890e-02,\n",
       "       1.80077368e-02, 1.84621790e-02, 1.89704029e-02, 1.95761098e-02,\n",
       "       2.01741431e-02, 2.07645842e-02, 2.13475120e-02, 2.19229900e-02,\n",
       "       2.24910164e-02, 2.30522554e-02, 2.36312670e-02, 2.43830387e-02,\n",
       "       2.51254274e-02, 2.58586647e-02, 2.65829547e-02, 2.72984355e-02,\n",
       "       2.80050882e-02, 2.87024994e-02, 2.94053632e-02, 3.02801854e-02,\n",
       "       3.11890204e-02, 3.20678310e-02, 3.28798539e-02, 3.35050434e-02,\n",
       "       3.35403042e-02, 3.16277892e-02, 2.32695906e-02, 1.07738120e-05])"
      ]
     },
     "execution_count": 366,
     "metadata": {},
     "output_type": "execute_result"
    }
   ],
   "source": [
    "f_DH_list[0][:,0]"
   ]
  },
  {
   "cell_type": "code",
   "execution_count": 364,
   "metadata": {},
   "outputs": [],
   "source": [
    "f_DH_list2 = pickle.load(open('/Users/gregoryridgway/Dropbox (MIT)/Photon Deposition/DarkHistory_data/f_'+\n",
    "                           inj_str+'_'+inj_type+'_std.p','rb'))"
   ]
  },
  {
   "cell_type": "code",
   "execution_count": 367,
   "metadata": {},
   "outputs": [],
   "source": [
    "pickle.dump(f_DH_list,open('/Users/gregoryridgway/Dropbox (MIT)/Photon Deposition/DarkHistory_data/f_'+\n",
    "                           inj_str+'_'+inj_type+'_std.p','wb'))"
   ]
  },
  {
   "cell_type": "code",
   "execution_count": 369,
   "metadata": {},
   "outputs": [
    {
     "data": {
      "text/plain": [
       "'swave'"
      ]
     },
     "execution_count": 369,
     "metadata": {},
     "output_type": "execute_result"
    }
   ],
   "source": [
    "inj_type"
   ]
  },
  {
   "cell_type": "code",
   "execution_count": 218,
   "metadata": {},
   "outputs": [],
   "source": [
    "if inj_type == 'swave':\n",
    "    pickle.dump(f_DH_list,open('/Users/gregoryridgway/Dropbox (MIT)/Photon Deposition/DarkHistory_data/f_'+\n",
    "                               inj_str+'_'+inj_type+'_std_einasto_subs.p','wb'))\n",
    "else:\n",
    "    pickle.dump(f_DH_list,open('/Users/gregoryridgway/Dropbox (MIT)/Photon Deposition/DarkHistory_data/f_'+\n",
    "                               inj_str+'_'+inj_type+'_std.p','wb'))"
   ]
  },
  {
   "cell_type": "markdown",
   "metadata": {},
   "source": [
    "Remember to:\n",
    "\n",
    "    (1) Change back to DH parameters instead of IDL parameters (H0, etc.)\n",
    "    (2) sum over partial bins (in the low energy electron methods)\n",
    "    (3) off-by-one in the CMB subtraction"
   ]
  }
 ],
 "metadata": {
  "kernelspec": {
   "display_name": "Python 3",
   "language": "python",
   "name": "python3"
  },
  "language_info": {
   "codemirror_mode": {
    "name": "ipython",
    "version": 3
   },
   "file_extension": ".py",
   "mimetype": "text/x-python",
   "name": "python",
   "nbconvert_exporter": "python",
   "pygments_lexer": "ipython3",
   "version": "3.7.2"
  },
  "toc": {
   "base_numbering": 1,
   "nav_menu": {},
   "number_sections": true,
   "sideBar": true,
   "skip_h1_title": false,
   "title_cell": "Table of Contents",
   "title_sidebar": "Contents",
   "toc_cell": false,
   "toc_position": {},
   "toc_section_display": true,
   "toc_window_display": false
  },
  "varInspector": {
   "cols": {
    "lenName": 16,
    "lenType": 16,
    "lenVar": 40
   },
   "kernels_config": {
    "python": {
     "delete_cmd_postfix": "",
     "delete_cmd_prefix": "del ",
     "library": "var_list.py",
     "varRefreshCmd": "print(var_dic_list())"
    },
    "r": {
     "delete_cmd_postfix": ") ",
     "delete_cmd_prefix": "rm(",
     "library": "var_list.r",
     "varRefreshCmd": "cat(var_dic_list()) "
    }
   },
   "types_to_exclude": [
    "module",
    "function",
    "builtin_function_or_method",
    "instance",
    "_Feature"
   ],
   "window_display": false
  }
 },
 "nbformat": 4,
 "nbformat_minor": 2
}
