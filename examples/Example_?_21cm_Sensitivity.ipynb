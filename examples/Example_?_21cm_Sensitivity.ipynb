{
 "cells": [
  {
   "cell_type": "markdown",
   "metadata": {},
   "source": [
    "# Example ? 21cm Sensitivity"
   ]
  },
  {
   "cell_type": "markdown",
   "metadata": {},
   "source": [
    "## Notebook Initialization"
   ]
  },
  {
   "cell_type": "code",
   "execution_count": 1,
   "metadata": {},
   "outputs": [],
   "source": [
    "%load_ext autoreload\n",
    "import sys\n",
    "sys.path.append(\"..\")"
   ]
  },
  {
   "cell_type": "code",
   "execution_count": 2,
   "metadata": {},
   "outputs": [],
   "source": [
    "%matplotlib inline"
   ]
  },
  {
   "cell_type": "code",
   "execution_count": 3,
   "metadata": {},
   "outputs": [],
   "source": [
    "%autoreload\n",
    "\n",
    "import matplotlib\n",
    "matplotlib.rc_file('matplotlibrc')\n",
    "import matplotlib.pyplot as plt\n",
    "\n",
    "from astropy.io import fits\n",
    "\n",
    "import numpy as np\n",
    "import copy\n",
    "import pickle\n",
    "from tqdm import tqdm_notebook as tqdm\n",
    "from scipy.interpolate import interp1d\n",
    "\n",
    "\n",
    "import darkhistory.physics as phys\n",
    "import darkhistory.spec.spectools as spectools\n",
    "from darkhistory.history.tla import get_history\n",
    "\n",
    "import main"
   ]
  },
  {
   "cell_type": "markdown",
   "metadata": {},
   "source": [
    "## 21-cm Brightness Temperature $T_{21}$ and Matter Temperature $T_m$"
   ]
  },
  {
   "cell_type": "markdown",
   "metadata": {},
   "source": [
    "21-cm cosmology is one of the most important experimental methods of understanding the thermal and ionization histories of the universe. The global 21-cm brightness temperature is related to the hydrogen spin temperature through the following relation:\n",
    "\n",
    "$$ T_\\text{21} (z) \\approx x_\\text{HI}(z) \\left( \\frac{0.15}{\\Omega_m} \\right)^{1/2} \\left( \\frac{\\Omega_b h}{0.02} \\right) \\left( \\frac{1+z}{10} \\right)^{1/2} \\left[ 1 - \\frac{T_R(z)}{T_S(z)} \\right] 23 \\text{ mK}, $$\n",
    "\n",
    "where $x_\\text{HI}$ is the neutral fraction of hydrogen, $\\Omega_m$ and $\\omega_b$ are the matter and baryon energy density as a fraction of the critical density, $h$ is the Hubble parameter today in units of 100 km s$^{-1}$ Mpc$^{-1}$, $T_R$ is the background 21-cm radiation temperature and $T_S$ is the spin temperature. Under standard assumptions, $T_m < T_S < T_\\text{CMB}$, where $T_m$ is the matter temperature; this implies that measuring the global 21-cm brightness temperature at a particular redshift sets an upper bound on the matter temperature at that point in time. "
   ]
  },
  {
   "cell_type": "markdown",
   "metadata": {},
   "source": [
    "The expected $T_{21}$ assuming no exotic sources of injection is approximately -200 mK at $z \\sim 17$. In this notebook, we will use DarkHistory to estimate the limits that can be set on $T_m$, assuming we measure a $T_{21}$ value of -50 mK. We will also compare the difference with and without backreaction taken into account, to give users a sense of the possible differences in constraints.\n",
    "\n",
    "Before we proceed, we should note that recent measurements performed by the EDGES collaboration <cite data-cite=\"6232408/FH99AISX\"></cite> seem to suggest a $T_{21}(z = 17) \\lesssim $ -300 mK at the 99% confidence level, which would seem to suggest that $T_m$ is actually *colder* than expected, assuming that $T_R = T_\\text{CMB}$. The introduction of new baryon-DM interactions may be able to produce such an effect, and DarkHistory can be easily modified to accommodate this if desired."
   ]
  },
  {
   "cell_type": "markdown",
   "metadata": {},
   "source": [
    "## 21-cm Constraints"
   ]
  },
  {
   "cell_type": "markdown",
   "metadata": {},
   "source": [
    "First, let's compute the limit set on $T_m$ if we take $T_{21}$ = -50 mK at $z = 17$, assuming that $T_R = T_\\text{CMB}$. "
   ]
  },
  {
   "cell_type": "code",
   "execution_count": 4,
   "metadata": {},
   "outputs": [
    {
     "name": "stdout",
     "output_type": "stream",
     "text": [
      "The upper bound on Tm is: 20.3 K\n"
     ]
    }
   ],
   "source": [
    "T_21 = -50\n",
    "rs = 18 # We always define redshifts as 1 + z by convention in the code. \n",
    "one_minus_TR_over_TS = (T_21/23.) / (0.15 / phys.omega_m)**0.5 / (phys.omega_baryon*phys.h/0.02) / (rs/10)**0.5\n",
    "Tm_max = 1/(1 - one_minus_TR_over_TS) * phys.TCMB(rs) / phys.kB # in K\n",
    "print('The upper bound on Tm is: {:03.1f} K'.format(Tm_max))"
   ]
  },
  {
   "cell_type": "markdown",
   "metadata": {},
   "source": [
    "### Decaying Dark Matter"
   ]
  },
  {
   "cell_type": "markdown",
   "metadata": {},
   "source": [
    "Let's first get the constraints for decays. We'll consider two channels: $\\chi \\to e^+e^-$ and $\\chi \\to \\gamma \\gamma$, with no electroweak corrections. To compute the constraints with no backreaction, we can use the tabulated $f_c(z)$ tables, and use these as inputs for [*tla.get_history*](https://darkhistory.readthedocs.io/en/master/_autosummary/darkhistory/history/tla/darkhistory.history.tla.get_history.html) and obtain the temperature history. \n",
    "\n",
    "With backreaction, however, the spectra of particles that get produced at each redshift step must be computed, and the temperature history integrated as a function of these spectra. This is done by the function [*main.evolve*](https://darkhistory.readthedocs.io/en/master/_autosummary/main/main.evolve.html). \n",
    "\n",
    "For decays, we can specify the primary that we are interested in, the dark matter process, the mass of the dark matter, and the decay lifetime. We also use some coarsening to speed up the calculation. \n",
    "\n",
    "We'll define a function called ``get_T_decay`` to run either of these functions, and return the temperature at $z = 17$. "
   ]
  },
  {
   "cell_type": "code",
   "execution_count": 23,
   "metadata": {},
   "outputs": [],
   "source": [
    "def get_T_decay(mDM, tau, br, pri):\n",
    "    \"\"\"Gets the temperature at z = 17. \n",
    "    \n",
    "    Parameters\n",
    "    ----------\n",
    "    mDM : float\n",
    "        The mass of the dark matter in eV. \n",
    "    tau : float\n",
    "        The decay lifetime in s. \n",
    "    br : bool\n",
    "        Whether to use backreaction or not. \n",
    "    pri : {'elec', 'phot'}\n",
    "        The primary particles that DM decays to. \n",
    "        \n",
    "    Returns\n",
    "    --------\n",
    "    float\n",
    "        The temperature in K at z = 17. \n",
    "    \n",
    "    \"\"\"\n",
    "    \n",
    "    if pri == 'elec':\n",
    "        pri_str = 'elec_delta'\n",
    "        cf = 12\n",
    "    if pri == 'phot':\n",
    "        pri_str = 'phot_delta'\n",
    "        cf = 4\n",
    "        \n",
    "    if br:\n",
    "    \n",
    "        result = main.evolve(\n",
    "            primary=pri_str,\n",
    "            DM_process='decay', mDM=mDM, lifetime=tau,\n",
    "            start_rs = 3000, end_rs=18,\n",
    "            coarsen_factor=cf, backreaction=True\n",
    "        )\n",
    "        \n",
    "        return result['Tm'][-1]/phys.kB\n",
    "    \n",
    "    else:\n",
    "        # get_history takes a redshift vector \n",
    "        rs_vec = np.flipud(np.arange(18, 3000., 0.1))\n",
    "        \n",
    "        result = get_history(\n",
    "            rs_vec, baseline_f = True,\n",
    "            inj_particle = pri, DM_process = 'decay',\n",
    "            mDM=mDM, lifetime = tau\n",
    "        )\n",
    "        \n",
    "        return result[-1,0]/phys.kB"
   ]
  },
  {
   "cell_type": "markdown",
   "metadata": {},
   "source": [
    "We are now all set up to do the scan. Let's scan over $\\chi \\to \\gamma \\gamma$, for $\\log_{10} (m_\\chi/\\text{eV}) \\in [4, 12.5] $. We'll do this in a clever way to save the user time here. We'll scan over lifetimes $\\log_{10}(\\tau/\\text{s}) \\in [23, 28.5]$, and start with a guess of $10^{25}$ s. Starting from this guess, we compute the matter temperature at $z = 17$. If the temperature lies below `Tm_max`, we will try a shorter lifetime to increase the energy deposition rate, and vice versa with a higher temperature. We'll terminate the scan once we have computed $T_m(z = 17)$ over enough points to linearly interpolate for the lifetime required to produce `Tm_max` at $z = 17$. This lifetime is the *minimum* lifetime allowed by $T_{21} = -$50 mK.\n",
    "\n",
    "Let's set up a 2D array, indexed by mass and lifetime, one without backreaction, and one with. "
   ]
  },
  {
   "cell_type": "code",
   "execution_count": 39,
   "metadata": {},
   "outputs": [],
   "source": [
    "log10_m_chi_arr = np.arange(4.1, 12.76, 0.25)\n",
    "log10_tau_arr   = np.arange(23., 27.25, 0.25)\n",
    "\n",
    "Tm_dec_no_br = np.zeros((log10_m_chi_arr.size, log10_tau_arr.size))\n",
    "Tm_dec_br = np.zeros_like(Tm_dec_no_br)"
   ]
  },
  {
   "cell_type": "markdown",
   "metadata": {},
   "source": [
    "Let's start the scan! To do the scan quickly, we'll first run the case with no backreaction first, and then use the results as an initial guess for [*main.evolve*](https://darkhistory.readthedocs.io/en/master/_autosummary/main/main.evolve.html). "
   ]
  },
  {
   "cell_type": "code",
   "execution_count": 44,
   "metadata": {
    "scrolled": false
   },
   "outputs": [
    {
     "name": "stdout",
     "output_type": "stream",
     "text": [
      "###### Target Temperature: 20.3 K  ######\n"
     ]
    },
    {
     "data": {
      "application/vnd.jupyter.widget-view+json": {
       "model_id": "71fcc3c1095348cc97252e7eead026e5",
       "version_major": 2,
       "version_minor": 0
      },
      "text/plain": [
       "HBox(children=(IntProgress(value=0, max=35), HTML(value='')))"
      ]
     },
     "metadata": {},
     "output_type": "display_data"
    },
    {
     "name": "stdout",
     "output_type": "stream",
     "text": [
      "****** log10(mDM):  4.1  ******\n",
      "lifetime: 1.0e+25  T(z = 17) w/o backreaction: 188.3 K\n",
      "lifetime: 1.8e+25  T(z = 17) w/o backreaction: 115.1 K\n",
      "lifetime: 3.2e+25  T(z = 17) w/o backreaction: 70.5 K\n",
      "lifetime: 5.6e+25  T(z = 17) w/o backreaction: 43.8 K\n",
      "lifetime: 1.0e+26  T(z = 17) w/o backreaction: 28.1 K\n",
      "lifetime: 1.8e+26  T(z = 17) w/o backreaction: 19.0 K\n",
      "****** log10(mDM):  4.35  ******\n",
      "lifetime: 1.0e+25  T(z = 17) w/o backreaction: 74.0 K\n",
      "lifetime: 1.8e+25  T(z = 17) w/o backreaction: 46.2 K\n",
      "lifetime: 3.2e+25  T(z = 17) w/o backreaction: 29.7 K\n",
      "lifetime: 5.6e+25  T(z = 17) w/o backreaction: 19.9 K\n",
      "****** log10(mDM):  4.6  ******\n",
      "lifetime: 1.0e+25  T(z = 17) w/o backreaction: 39.8 K\n",
      "lifetime: 1.8e+25  T(z = 17) w/o backreaction: 26.1 K\n",
      "lifetime: 3.2e+25  T(z = 17) w/o backreaction: 18.0 K\n",
      "****** log10(mDM):  4.85  ******\n",
      "lifetime: 1.0e+25  T(z = 17) w/o backreaction: 34.1 K\n",
      "lifetime: 1.8e+25  T(z = 17) w/o backreaction: 22.9 K\n",
      "lifetime: 3.2e+25  T(z = 17) w/o backreaction: 16.2 K\n",
      "****** log10(mDM):  5.1  ******\n",
      "lifetime: 1.0e+25  T(z = 17) w/o backreaction: 37.1 K\n",
      "lifetime: 1.8e+25  T(z = 17) w/o backreaction: 24.6 K\n",
      "lifetime: 3.2e+25  T(z = 17) w/o backreaction: 17.2 K\n",
      "****** log10(mDM):  5.35  ******\n",
      "lifetime: 1.0e+25  T(z = 17) w/o backreaction: 42.1 K\n",
      "lifetime: 1.8e+25  T(z = 17) w/o backreaction: 27.4 K\n",
      "lifetime: 3.2e+25  T(z = 17) w/o backreaction: 18.7 K\n",
      "****** log10(mDM):  5.6  ******\n",
      "lifetime: 1.0e+25  T(z = 17) w/o backreaction: 44.5 K\n",
      "lifetime: 1.8e+25  T(z = 17) w/o backreaction: 28.7 K\n",
      "lifetime: 3.2e+25  T(z = 17) w/o backreaction: 19.4 K\n",
      "****** log10(mDM):  5.85  ******\n",
      "lifetime: 1.0e+25  T(z = 17) w/o backreaction: 41.3 K\n",
      "lifetime: 1.8e+25  T(z = 17) w/o backreaction: 26.7 K\n",
      "lifetime: 3.2e+25  T(z = 17) w/o backreaction: 18.2 K\n",
      "****** log10(mDM):  6.1  ******\n",
      "lifetime: 1.0e+25  T(z = 17) w/o backreaction: 32.6 K\n",
      "lifetime: 1.8e+25  T(z = 17) w/o backreaction: 21.6 K\n",
      "lifetime: 3.2e+25  T(z = 17) w/o backreaction: 15.2 K\n",
      "****** log10(mDM):  6.35  ******\n",
      "lifetime: 1.0e+25  T(z = 17) w/o backreaction: 22.9 K\n",
      "lifetime: 1.8e+25  T(z = 17) w/o backreaction: 15.9 K\n",
      "****** log10(mDM):  6.6  ******\n",
      "lifetime: 1.0e+25  T(z = 17) w/o backreaction: 15.7 K\n",
      "lifetime: 5.6e+24  T(z = 17) w/o backreaction: 22.5 K\n",
      "****** log10(mDM):  6.85  ******\n",
      "lifetime: 1.0e+25  T(z = 17) w/o backreaction: 12.0 K\n",
      "lifetime: 5.6e+24  T(z = 17) w/o backreaction: 15.8 K\n",
      "lifetime: 3.2e+24  T(z = 17) w/o backreaction: 22.0 K\n",
      "****** log10(mDM):  7.1  ******\n",
      "lifetime: 1.0e+25  T(z = 17) w/o backreaction: 11.3 K\n",
      "lifetime: 5.6e+24  T(z = 17) w/o backreaction: 13.9 K\n",
      "lifetime: 3.2e+24  T(z = 17) w/o backreaction: 17.9 K\n",
      "lifetime: 1.8e+24  T(z = 17) w/o backreaction: 24.2 K\n",
      "****** log10(mDM):  7.35  ******\n",
      "lifetime: 1.0e+25  T(z = 17) w/o backreaction: 12.8 K\n",
      "lifetime: 5.6e+24  T(z = 17) w/o backreaction: 16.0 K\n",
      "lifetime: 3.2e+24  T(z = 17) w/o backreaction: 20.6 K\n",
      "****** log10(mDM):  7.6  ******\n",
      "lifetime: 1.0e+25  T(z = 17) w/o backreaction: 16.2 K\n",
      "lifetime: 5.6e+24  T(z = 17) w/o backreaction: 21.6 K\n",
      "****** log10(mDM):  7.85  ******\n",
      "lifetime: 1.0e+25  T(z = 17) w/o backreaction: 19.6 K\n",
      "lifetime: 5.6e+24  T(z = 17) w/o backreaction: 27.6 K\n",
      "****** log10(mDM):  8.1  ******\n",
      "lifetime: 1.0e+25  T(z = 17) w/o backreaction: 21.5 K\n",
      "lifetime: 1.8e+25  T(z = 17) w/o backreaction: 15.6 K\n",
      "****** log10(mDM):  8.35  ******\n",
      "lifetime: 1.0e+25  T(z = 17) w/o backreaction: 21.9 K\n",
      "lifetime: 1.8e+25  T(z = 17) w/o backreaction: 15.7 K\n",
      "****** log10(mDM):  8.6  ******\n",
      "lifetime: 1.0e+25  T(z = 17) w/o backreaction: 20.8 K\n",
      "lifetime: 1.8e+25  T(z = 17) w/o backreaction: 15.0 K\n",
      "****** log10(mDM):  8.85  ******\n",
      "lifetime: 1.0e+25  T(z = 17) w/o backreaction: 18.5 K\n",
      "lifetime: 5.6e+24  T(z = 17) w/o backreaction: 26.7 K\n",
      "****** log10(mDM):  9.1  ******\n",
      "lifetime: 1.0e+25  T(z = 17) w/o backreaction: 15.5 K\n",
      "lifetime: 5.6e+24  T(z = 17) w/o backreaction: 21.8 K\n",
      "****** log10(mDM):  9.35  ******\n",
      "lifetime: 1.0e+25  T(z = 17) w/o backreaction: 12.9 K\n",
      "lifetime: 5.6e+24  T(z = 17) w/o backreaction: 17.3 K\n",
      "lifetime: 3.2e+24  T(z = 17) w/o backreaction: 24.7 K\n",
      "****** log10(mDM):  9.6  ******\n",
      "lifetime: 1.0e+25  T(z = 17) w/o backreaction: 10.9 K\n",
      "lifetime: 5.6e+24  T(z = 17) w/o backreaction: 13.9 K\n",
      "lifetime: 3.2e+24  T(z = 17) w/o backreaction: 18.9 K\n",
      "lifetime: 1.8e+24  T(z = 17) w/o backreaction: 27.4 K\n",
      "****** log10(mDM):  9.85  ******\n",
      "lifetime: 1.0e+25  T(z = 17) w/o backreaction: 9.7 K\n",
      "lifetime: 5.6e+24  T(z = 17) w/o backreaction: 11.8 K\n",
      "lifetime: 3.2e+24  T(z = 17) w/o backreaction: 15.3 K\n",
      "lifetime: 1.8e+24  T(z = 17) w/o backreaction: 21.2 K\n",
      "****** log10(mDM):  10.1  ******\n",
      "lifetime: 1.0e+25  T(z = 17) w/o backreaction: 8.8 K\n",
      "lifetime: 5.6e+24  T(z = 17) w/o backreaction: 10.2 K\n",
      "lifetime: 3.2e+24  T(z = 17) w/o backreaction: 12.6 K\n",
      "lifetime: 1.8e+24  T(z = 17) w/o backreaction: 16.6 K\n",
      "lifetime: 1.0e+24  T(z = 17) w/o backreaction: 23.1 K\n",
      "****** log10(mDM):  10.35  ******\n",
      "lifetime: 1.0e+25  T(z = 17) w/o backreaction: 8.3 K\n",
      "lifetime: 5.6e+24  T(z = 17) w/o backreaction: 9.3 K\n",
      "lifetime: 3.2e+24  T(z = 17) w/o backreaction: 11.0 K\n",
      "lifetime: 1.8e+24  T(z = 17) w/o backreaction: 13.7 K\n",
      "lifetime: 1.0e+24  T(z = 17) w/o backreaction: 18.1 K\n",
      "lifetime: 5.6e+23  T(z = 17) w/o backreaction: 25.2 K\n",
      "****** log10(mDM):  10.6  ******\n",
      "lifetime: 1.0e+25  T(z = 17) w/o backreaction: 7.9 K\n",
      "lifetime: 5.6e+24  T(z = 17) w/o backreaction: 8.7 K\n",
      "lifetime: 3.2e+24  T(z = 17) w/o backreaction: 10.0 K\n",
      "lifetime: 1.8e+24  T(z = 17) w/o backreaction: 12.0 K\n",
      "lifetime: 1.0e+24  T(z = 17) w/o backreaction: 15.2 K\n",
      "lifetime: 5.6e+23  T(z = 17) w/o backreaction: 20.1 K\n",
      "lifetime: 3.2e+23  T(z = 17) w/o backreaction: 28.0 K\n",
      "****** log10(mDM):  10.85  ******\n",
      "lifetime: 1.0e+25  T(z = 17) w/o backreaction: 7.7 K\n",
      "lifetime: 5.6e+24  T(z = 17) w/o backreaction: 8.4 K\n",
      "lifetime: 3.2e+24  T(z = 17) w/o backreaction: 9.4 K\n",
      "lifetime: 1.8e+24  T(z = 17) w/o backreaction: 11.0 K\n",
      "lifetime: 1.0e+24  T(z = 17) w/o backreaction: 13.5 K\n",
      "lifetime: 5.6e+23  T(z = 17) w/o backreaction: 17.3 K\n",
      "lifetime: 3.2e+23  T(z = 17) w/o backreaction: 23.1 K\n",
      "****** log10(mDM):  11.1  ******\n",
      "lifetime: 1.0e+25  T(z = 17) w/o backreaction: 7.6 K\n",
      "lifetime: 5.6e+24  T(z = 17) w/o backreaction: 8.1 K\n",
      "lifetime: 3.2e+24  T(z = 17) w/o backreaction: 8.9 K\n",
      "lifetime: 1.8e+24  T(z = 17) w/o backreaction: 10.3 K\n",
      "lifetime: 1.0e+24  T(z = 17) w/o backreaction: 12.4 K\n",
      "lifetime: 5.6e+23  T(z = 17) w/o backreaction: 15.5 K\n",
      "lifetime: 3.2e+23  T(z = 17) w/o backreaction: 20.2 K\n",
      "lifetime: 1.8e+23  T(z = 17) w/o backreaction: 27.6 K\n",
      "****** log10(mDM):  11.35  ******\n",
      "lifetime: 1.0e+25  T(z = 17) w/o backreaction: 7.6 K\n",
      "lifetime: 5.6e+24  T(z = 17) w/o backreaction: 8.0 K\n",
      "lifetime: 3.2e+24  T(z = 17) w/o backreaction: 8.8 K\n",
      "lifetime: 1.8e+24  T(z = 17) w/o backreaction: 10.0 K\n",
      "lifetime: 1.0e+24  T(z = 17) w/o backreaction: 11.8 K\n",
      "lifetime: 5.6e+23  T(z = 17) w/o backreaction: 14.5 K\n",
      "lifetime: 3.2e+23  T(z = 17) w/o backreaction: 18.5 K\n",
      "lifetime: 1.8e+23  T(z = 17) w/o backreaction: 24.6 K\n",
      "****** log10(mDM):  11.6  ******\n",
      "lifetime: 1.0e+25  T(z = 17) w/o backreaction: 7.7 K\n",
      "lifetime: 5.6e+24  T(z = 17) w/o backreaction: 8.2 K\n",
      "lifetime: 3.2e+24  T(z = 17) w/o backreaction: 9.1 K\n",
      "lifetime: 1.8e+24  T(z = 17) w/o backreaction: 10.4 K\n",
      "lifetime: 1.0e+24  T(z = 17) w/o backreaction: 12.1 K\n",
      "lifetime: 5.6e+23  T(z = 17) w/o backreaction: 14.7 K\n",
      "lifetime: 3.2e+23  T(z = 17) w/o backreaction: 18.4 K\n",
      "lifetime: 1.8e+23  T(z = 17) w/o backreaction: 24.1 K\n",
      "****** log10(mDM):  11.85  ******\n",
      "lifetime: 1.0e+25  T(z = 17) w/o backreaction: 7.9 K\n",
      "lifetime: 5.6e+24  T(z = 17) w/o backreaction: 8.6 K\n",
      "lifetime: 3.2e+24  T(z = 17) w/o backreaction: 9.6 K\n",
      "lifetime: 1.8e+24  T(z = 17) w/o backreaction: 11.1 K\n",
      "lifetime: 1.0e+24  T(z = 17) w/o backreaction: 13.3 K\n",
      "lifetime: 5.6e+23  T(z = 17) w/o backreaction: 16.2 K\n",
      "lifetime: 3.2e+23  T(z = 17) w/o backreaction: 20.5 K\n",
      "****** log10(mDM):  12.1  ******\n",
      "lifetime: 1.0e+25  T(z = 17) w/o backreaction: 8.1 K\n",
      "lifetime: 5.6e+24  T(z = 17) w/o backreaction: 8.9 K\n",
      "lifetime: 3.2e+24  T(z = 17) w/o backreaction: 10.2 K\n",
      "lifetime: 1.8e+24  T(z = 17) w/o backreaction: 12.2 K\n",
      "lifetime: 1.0e+24  T(z = 17) w/o backreaction: 15.0 K\n",
      "lifetime: 5.6e+23  T(z = 17) w/o backreaction: 19.2 K\n",
      "lifetime: 3.2e+23  T(z = 17) w/o backreaction: 25.2 K\n",
      "****** log10(mDM):  12.35  ******\n"
     ]
    },
    {
     "name": "stdout",
     "output_type": "stream",
     "text": [
      "lifetime: 1.0e+25  T(z = 17) w/o backreaction: 8.3 K\n",
      "lifetime: 5.6e+24  T(z = 17) w/o backreaction: 9.3 K\n",
      "lifetime: 3.2e+24  T(z = 17) w/o backreaction: 11.0 K\n",
      "lifetime: 1.8e+24  T(z = 17) w/o backreaction: 13.5 K\n",
      "lifetime: 1.0e+24  T(z = 17) w/o backreaction: 17.4 K\n",
      "lifetime: 5.6e+23  T(z = 17) w/o backreaction: 23.3 K\n",
      "****** log10(mDM):  12.6  ******\n",
      "lifetime: 1.0e+25  T(z = 17) w/o backreaction: 8.6 K\n",
      "lifetime: 5.6e+24  T(z = 17) w/o backreaction: 9.8 K\n",
      "lifetime: 3.2e+24  T(z = 17) w/o backreaction: 11.8 K\n",
      "lifetime: 1.8e+24  T(z = 17) w/o backreaction: 15.0 K\n",
      "lifetime: 1.0e+24  T(z = 17) w/o backreaction: 20.0 K\n",
      "lifetime: 5.6e+23  T(z = 17) w/o backreaction: 28.0 K\n",
      "###### Calculation Complete! ######\n"
     ]
    }
   ],
   "source": [
    "print('###### Target Temperature: {:03.1f} K'.format(Tm_max), ' ######')\n",
    "\n",
    "for i, log10mDM in enumerate(tqdm(log10_m_chi_arr)):\n",
    "    \n",
    "    print('****** log10(mDM): ', log10mDM, ' ******')\n",
    "    mDM = 10**log10mDM\n",
    "    \n",
    "    below_target = False\n",
    "    above_target = False\n",
    "    j = 8\n",
    "    \n",
    "    while (\n",
    "        not below_target or not above_target\n",
    "    ):\n",
    "\n",
    "#         print('****************************')\n",
    "        tau = 10**log10_tau_arr[j]\n",
    "        \n",
    "        Tm_dec_no_br[i,j] = get_T_decay(mDM, tau, br=False, pri='phot')\n",
    "        print('lifetime: {:03.1e}'.format(tau), ' T(z = 17) w/o backreaction: {:03.1f} K'.format(Tm_dec_no_br[i,j]))\n",
    "             \n",
    "        if Tm_dec_no_br[i,j] <= Tm_max:\n",
    "            \n",
    "            below_target = True\n",
    "            # Below target T_m means we need a shorter lifetime.\n",
    "            j -= 1\n",
    "            \n",
    "        elif Tm_dec_no_br[i,j] >= Tm_max:\n",
    "            \n",
    "            above_target = True\n",
    "            # Above target T_m means we need a longer lifetime. \n",
    "            j += 1\n",
    "            \n",
    "        \n",
    "#         print('****************************')\n",
    "\n",
    "print('###### Calculation Complete! ######')\n",
    "\n",
    "            "
   ]
  },
  {
   "cell_type": "markdown",
   "metadata": {},
   "source": [
    "Having obtained an (incomplete) list of temperature values, we write a simple function to perform a linear interpolation at each mass point to obtain the limit on the minimum lifetime, and then compute it in `min_lifetime_no_br`. "
   ]
  },
  {
   "cell_type": "code",
   "execution_count": 47,
   "metadata": {},
   "outputs": [],
   "source": [
    "def get_log10_min_lifetime(log10_lifetime_arr, Tm_arr, max_Tm):\n",
    "    \"\"\"Returns the log10 minimum lifetime from temperature calculations.\n",
    "    \n",
    "    Parameters\n",
    "    ----------\n",
    "    log10_lifetime_arr : ndarray\n",
    "        Abscissa of log10 lifetimes used, in increasing order.\n",
    "    Tm_arr : ndarray\n",
    "        Computed matter temperature for each entry in lifetime_arr. \n",
    "    max_Tm : float\n",
    "        The maximum Tm allowed at this point. \n",
    "        \n",
    "    Returns\n",
    "    -------\n",
    "    ndarray\n",
    "        The interpolated minimum lifetime. \n",
    "    \n",
    "    \"\"\"\n",
    "    # Find the last index at which we have Tm > max_Tm in Tm_arr. \n",
    "    above = np.where((Tm_arr > 0) & (Tm_arr > max_Tm))[0][-1]\n",
    "    # Since increasing lifetime decreases Tm, the next index must\n",
    "    # lie below max_Tm.\n",
    "    below = above+1\n",
    "    \n",
    "    # Obtain the two temperature values. \n",
    "    Ts = [Tm_arr[below], Tm_arr[above]]\n",
    "    # Obtain the two log10 lifetime values. \n",
    "    log10_taus = [log10_lifetime_arr[below], log10_lifetime_arr[above]]\n",
    "    \n",
    "    # Perform a linear interpolation.\n",
    "    return (np.diff(log10_taus)/np.diff(Ts)*(max_Tm-Ts[0]) + log10_taus[0])[0]\n",
    "\n",
    "min_lifetime_no_br = np.array(\n",
    "    [get_log10_min_lifetime(log10_tau_arr, row, Tm_max) for row in Tm_dec_no_br]\n",
    ")"
   ]
  },
  {
   "cell_type": "markdown",
   "metadata": {},
   "source": [
    "Let's just make a simple plot to make sure we understand what we have."
   ]
  },
  {
   "cell_type": "code",
   "execution_count": 50,
   "metadata": {},
   "outputs": [
    {
     "data": {
      "text/plain": [
       "Text(0.5, 0, 'Dark Matter Mass $m_\\\\chi$ [eV]')"
      ]
     },
     "execution_count": 50,
     "metadata": {},
     "output_type": "execute_result"
    },
    {
     "data": {
      "image/png": "[encoded data removed]",
      "text/plain": [
       "<Figure size 620x620 with 1 Axes>"
      ]
     },
     "metadata": {},
     "output_type": "display_data"
    }
   ],
   "source": [
    "plt.figure()\n",
    "\n",
    "plt.loglog()\n",
    "\n",
    "plt.plot(10**log10_m_chi_arr, 10**min_lifetime_no_br)\n",
    "\n",
    "plt.title(r'$\\chi \\to \\gamma \\gamma$ Limits, $T_{21} = -50$ mK')\n",
    "plt.ylabel(r'Minimum Decay Lifetime $\\tau$ [s]')\n",
    "plt.xlabel(r'Dark Matter Mass $m_\\chi$ [eV]')"
   ]
  },
  {
   "cell_type": "markdown",
   "metadata": {},
   "source": [
    "Let's do this now with backreaction. The backreaction calculation can initialized using the $\\tau$ value obtained without backreaction as an initial guess. That significantly narrows down the amount of scanning that needs to be done. Otherwise, it works in the same way as before, but it takes longer because the code needs to compute all of the spectra at each step. \n",
    "\n",
    "When using *main.evolve* for the first time, the code will take some time to load all of the transfer functions required to perform this calculation."
   ]
  },
  {
   "cell_type": "code",
   "execution_count": 57,
   "metadata": {},
   "outputs": [
    {
     "name": "stdout",
     "output_type": "stream",
     "text": [
      "###### Target Temperature: 20.3 K  ######\n"
     ]
    },
    {
     "data": {
      "application/vnd.jupyter.widget-view+json": {
       "model_id": "fe73d4cbd029433f87c4a269bc962191",
       "version_major": 2,
       "version_minor": 0
      },
      "text/plain": [
       "HBox(children=(IntProgress(value=0, max=35), HTML(value='')))"
      ]
     },
     "metadata": {},
     "output_type": "display_data"
    },
    {
     "name": "stdout",
     "output_type": "stream",
     "text": [
      "****** log10(mDM):  4.1  ******\n"
     ]
    },
    {
     "data": {
      "application/vnd.jupyter.widget-view+json": {
       "model_id": "4f8f2b86d54e4dc9a0bb784e7ccfe0de",
       "version_major": 2,
       "version_minor": 0
      },
      "text/plain": [
       "HBox(children=(IntProgress(value=0, max=1279), HTML(value='')))"
      ]
     },
     "metadata": {},
     "output_type": "display_data"
    },
    {
     "ename": "KeyboardInterrupt",
     "evalue": "",
     "output_type": "error",
     "traceback": [
      "\u001b[0;31m---------------------------------------------------------------------------\u001b[0m",
      "\u001b[0;31mKeyboardInterrupt\u001b[0m                         Traceback (most recent call last)",
      "\u001b[0;32m<ipython-input-57-1efc5989fb14>\u001b[0m in \u001b[0;36m<module>\u001b[0;34m\u001b[0m\n\u001b[1;32m     19\u001b[0m         \u001b[0mtau\u001b[0m \u001b[0;34m=\u001b[0m \u001b[0;36m10\u001b[0m\u001b[0;34m**\u001b[0m\u001b[0mlog10_tau_arr\u001b[0m\u001b[0;34m[\u001b[0m\u001b[0mj\u001b[0m\u001b[0;34m]\u001b[0m\u001b[0;34m\u001b[0m\u001b[0;34m\u001b[0m\u001b[0m\n\u001b[1;32m     20\u001b[0m \u001b[0;34m\u001b[0m\u001b[0m\n\u001b[0;32m---> 21\u001b[0;31m         \u001b[0mTm_dec_br\u001b[0m\u001b[0;34m[\u001b[0m\u001b[0mi\u001b[0m\u001b[0;34m,\u001b[0m\u001b[0mj\u001b[0m\u001b[0;34m]\u001b[0m \u001b[0;34m=\u001b[0m \u001b[0mget_T_decay\u001b[0m\u001b[0;34m(\u001b[0m\u001b[0mmDM\u001b[0m\u001b[0;34m,\u001b[0m \u001b[0mtau\u001b[0m\u001b[0;34m,\u001b[0m \u001b[0mbr\u001b[0m\u001b[0;34m=\u001b[0m\u001b[0;32mTrue\u001b[0m\u001b[0;34m,\u001b[0m \u001b[0mpri\u001b[0m\u001b[0;34m=\u001b[0m\u001b[0;34m'phot'\u001b[0m\u001b[0;34m)\u001b[0m\u001b[0;34m\u001b[0m\u001b[0;34m\u001b[0m\u001b[0m\n\u001b[0m\u001b[1;32m     22\u001b[0m         \u001b[0mprint\u001b[0m\u001b[0;34m(\u001b[0m\u001b[0;34m'lifetime: {:03.1e}'\u001b[0m\u001b[0;34m.\u001b[0m\u001b[0mformat\u001b[0m\u001b[0;34m(\u001b[0m\u001b[0mtau\u001b[0m\u001b[0;34m)\u001b[0m\u001b[0;34m,\u001b[0m \u001b[0;34m' T(z = 17) w/o backreaction: {:03.1f} K'\u001b[0m\u001b[0;34m.\u001b[0m\u001b[0mformat\u001b[0m\u001b[0;34m(\u001b[0m\u001b[0mTm_dec_br\u001b[0m\u001b[0;34m[\u001b[0m\u001b[0mi\u001b[0m\u001b[0;34m,\u001b[0m\u001b[0mj\u001b[0m\u001b[0;34m]\u001b[0m\u001b[0;34m)\u001b[0m\u001b[0;34m)\u001b[0m\u001b[0;34m\u001b[0m\u001b[0;34m\u001b[0m\u001b[0m\n\u001b[1;32m     23\u001b[0m \u001b[0;34m\u001b[0m\u001b[0m\n",
      "\u001b[0;32m<ipython-input-23-81a9acae481b>\u001b[0m in \u001b[0;36mget_T_decay\u001b[0;34m(mDM, tau, br, pri)\u001b[0m\n\u001b[1;32m     33\u001b[0m                 \u001b[0mDM_process\u001b[0m\u001b[0;34m=\u001b[0m\u001b[0;34m'decay'\u001b[0m\u001b[0;34m,\u001b[0m \u001b[0mmDM\u001b[0m\u001b[0;34m=\u001b[0m\u001b[0mmDM\u001b[0m\u001b[0;34m,\u001b[0m \u001b[0mlifetime\u001b[0m\u001b[0;34m=\u001b[0m\u001b[0mtau\u001b[0m\u001b[0;34m,\u001b[0m\u001b[0;34m\u001b[0m\u001b[0;34m\u001b[0m\u001b[0m\n\u001b[1;32m     34\u001b[0m                 \u001b[0mstart_rs\u001b[0m \u001b[0;34m=\u001b[0m \u001b[0;36m3000\u001b[0m\u001b[0;34m,\u001b[0m \u001b[0mend_rs\u001b[0m\u001b[0;34m=\u001b[0m\u001b[0;36m18\u001b[0m\u001b[0;34m,\u001b[0m\u001b[0;34m\u001b[0m\u001b[0;34m\u001b[0m\u001b[0m\n\u001b[0;32m---> 35\u001b[0;31m                 \u001b[0mcoarsen_factor\u001b[0m\u001b[0;34m=\u001b[0m\u001b[0mcf\u001b[0m\u001b[0;34m,\u001b[0m \u001b[0mbackreaction\u001b[0m\u001b[0;34m=\u001b[0m\u001b[0;32mTrue\u001b[0m\u001b[0;34m\u001b[0m\u001b[0;34m\u001b[0m\u001b[0m\n\u001b[0m\u001b[1;32m     36\u001b[0m         )\n\u001b[1;32m     37\u001b[0m \u001b[0;34m\u001b[0m\u001b[0m\n",
      "\u001b[0;32m~/GitHub/DarkHistory/main.py\u001b[0m in \u001b[0;36mevolve\u001b[0;34m(in_spec_elec, in_spec_phot, rate_func_N, rate_func_eng, DM_process, mDM, sigmav, lifetime, primary, struct_boost, start_rs, end_rs, helium_TLA, reion_switch, reion_rs, photoion_rate_func, photoheat_rate_func, xe_reion_func, init_cond, coarsen_factor, backreaction, compute_fs_method, mxstep, rtol, use_tqdm)\u001b[0m\n\u001b[1;32m    557\u001b[0m             get_tf(\n\u001b[1;32m    558\u001b[0m                 \u001b[0mrs\u001b[0m\u001b[0;34m,\u001b[0m \u001b[0mxHII_to_interp\u001b[0m\u001b[0;34m,\u001b[0m \u001b[0mxHeII_to_interp\u001b[0m\u001b[0;34m,\u001b[0m\u001b[0;34m\u001b[0m\u001b[0;34m\u001b[0m\u001b[0m\n\u001b[0;32m--> 559\u001b[0;31m                 \u001b[0mdlnz\u001b[0m\u001b[0;34m,\u001b[0m \u001b[0mcoarsen_factor\u001b[0m\u001b[0;34m=\u001b[0m\u001b[0mcoarsen_factor\u001b[0m\u001b[0;34m\u001b[0m\u001b[0;34m\u001b[0m\u001b[0m\n\u001b[0m\u001b[1;32m    560\u001b[0m             )\n\u001b[1;32m    561\u001b[0m         )\n",
      "\u001b[0;32m~/GitHub/DarkHistory/main.py\u001b[0m in \u001b[0;36mget_tf\u001b[0;34m(rs, xHII, xHeII, dlnz, coarsen_factor)\u001b[0m\n\u001b[1;32m    786\u001b[0m         \u001b[0mprop_tf\u001b[0m \u001b[0;34m=\u001b[0m \u001b[0mnp\u001b[0m\u001b[0;34m.\u001b[0m\u001b[0mzeros_like\u001b[0m\u001b[0;34m(\u001b[0m\u001b[0mhighengphot_tf\u001b[0m\u001b[0;34m.\u001b[0m\u001b[0m_grid_vals\u001b[0m\u001b[0;34m)\u001b[0m\u001b[0;34m\u001b[0m\u001b[0;34m\u001b[0m\u001b[0m\n\u001b[1;32m    787\u001b[0m         \u001b[0;32mfor\u001b[0m \u001b[0mi\u001b[0m \u001b[0;32min\u001b[0m \u001b[0mnp\u001b[0m\u001b[0;34m.\u001b[0m\u001b[0marange\u001b[0m\u001b[0;34m(\u001b[0m\u001b[0mcoarsen_factor\u001b[0m\u001b[0;34m)\u001b[0m\u001b[0;34m:\u001b[0m\u001b[0;34m\u001b[0m\u001b[0;34m\u001b[0m\u001b[0m\n\u001b[0;32m--> 788\u001b[0;31m             \u001b[0mprop_tf\u001b[0m \u001b[0;34m+=\u001b[0m \u001b[0mmatrix_power\u001b[0m\u001b[0;34m(\u001b[0m\u001b[0mhighengphot_tf\u001b[0m\u001b[0;34m.\u001b[0m\u001b[0m_grid_vals\u001b[0m\u001b[0;34m,\u001b[0m \u001b[0mi\u001b[0m\u001b[0;34m)\u001b[0m\u001b[0;34m\u001b[0m\u001b[0;34m\u001b[0m\u001b[0m\n\u001b[0m\u001b[1;32m    789\u001b[0m         lowengphot_tf._grid_vals = np.matmul(\n\u001b[1;32m    790\u001b[0m             \u001b[0mprop_tf\u001b[0m\u001b[0;34m,\u001b[0m \u001b[0mlowengphot_tf\u001b[0m\u001b[0;34m.\u001b[0m\u001b[0m_grid_vals\u001b[0m\u001b[0;34m\u001b[0m\u001b[0;34m\u001b[0m\u001b[0m\n",
      "\u001b[0;32m~/anaconda/envs/python3/lib/python3.6/site-packages/numpy/linalg/linalg.py\u001b[0m in \u001b[0;36mmatrix_power\u001b[0;34m(a, n)\u001b[0m\n\u001b[1;32m    643\u001b[0m     \u001b[0;32mif\u001b[0m \u001b[0mn\u001b[0m \u001b[0;34m==\u001b[0m \u001b[0;36m0\u001b[0m\u001b[0;34m:\u001b[0m\u001b[0;34m\u001b[0m\u001b[0;34m\u001b[0m\u001b[0m\n\u001b[1;32m    644\u001b[0m         \u001b[0ma\u001b[0m \u001b[0;34m=\u001b[0m \u001b[0mempty_like\u001b[0m\u001b[0;34m(\u001b[0m\u001b[0ma\u001b[0m\u001b[0;34m)\u001b[0m\u001b[0;34m\u001b[0m\u001b[0;34m\u001b[0m\u001b[0m\n\u001b[0;32m--> 645\u001b[0;31m         \u001b[0ma\u001b[0m\u001b[0;34m[\u001b[0m\u001b[0;34m...\u001b[0m\u001b[0;34m]\u001b[0m \u001b[0;34m=\u001b[0m \u001b[0meye\u001b[0m\u001b[0;34m(\u001b[0m\u001b[0ma\u001b[0m\u001b[0;34m.\u001b[0m\u001b[0mshape\u001b[0m\u001b[0;34m[\u001b[0m\u001b[0;34m-\u001b[0m\u001b[0;36m2\u001b[0m\u001b[0;34m]\u001b[0m\u001b[0;34m,\u001b[0m \u001b[0mdtype\u001b[0m\u001b[0;34m=\u001b[0m\u001b[0ma\u001b[0m\u001b[0;34m.\u001b[0m\u001b[0mdtype\u001b[0m\u001b[0;34m)\u001b[0m\u001b[0;34m\u001b[0m\u001b[0;34m\u001b[0m\u001b[0m\n\u001b[0m\u001b[1;32m    646\u001b[0m         \u001b[0;32mreturn\u001b[0m \u001b[0ma\u001b[0m\u001b[0;34m\u001b[0m\u001b[0;34m\u001b[0m\u001b[0m\n\u001b[1;32m    647\u001b[0m \u001b[0;34m\u001b[0m\u001b[0m\n",
      "\u001b[0;31mKeyboardInterrupt\u001b[0m: "
     ]
    }
   ],
   "source": [
    "print('###### Target Temperature: {:03.1f} K'.format(Tm_max), ' ######')\n",
    "\n",
    "for i, log10mDM in enumerate(tqdm(log10_m_chi_arr)):\n",
    "    \n",
    "    print('****** log10(mDM): ', log10mDM, ' ******')\n",
    "    mDM = 10**log10mDM\n",
    "    \n",
    "    below_target = False\n",
    "    above_target = False\n",
    "    \n",
    "    # Get the estimate from min_lifetime_no_br\n",
    "    j = np.where(log10_tau_arr > min_lifetime_no_br[i])[0][0]\n",
    "    \n",
    "    while (\n",
    "        not below_target or not above_target\n",
    "    ):\n",
    "\n",
    "#         print('****************************')\n",
    "        tau = 10**log10_tau_arr[j]\n",
    "        \n",
    "        Tm_dec_br[i,j] = get_T_decay(mDM, tau, br=True, pri='phot')\n",
    "        print('lifetime: {:03.1e}'.format(tau), ' T(z = 17) w/o backreaction: {:03.1f} K'.format(Tm_dec_br[i,j]))\n",
    "             \n",
    "        if Tm_dec_br[i,j] <= Tm_max:\n",
    "            \n",
    "            below_target = True\n",
    "            # Below target T_m means we need a shorter lifetime.\n",
    "            j -= 1\n",
    "            \n",
    "        elif Tm_dec_br[i,j] >= Tm_max:\n",
    "            \n",
    "            above_target = True\n",
    "            # Above target T_m means we need a longer lifetime. \n",
    "            j += 1\n",
    "            \n",
    "        \n",
    "#         print('****************************')\n",
    "\n",
    "print('###### Calculation Complete! ######')\n"
   ]
  },
  {
   "cell_type": "markdown",
   "metadata": {},
   "source": [
    "### Annihilating Dark Matter"
   ]
  },
  {
   "cell_type": "markdown",
   "metadata": {},
   "source": [
    "Annihilating dark matter sensitivity can also be evaluated in a very similar manner. The only difference here is that structure formation now boosts the annihilation rate at late times. We can load one of DarkHistory's default structure formation boost factors that can be obtained using the function [*physics.struct_boost_func*](https://darkhistory.readthedocs.io/en/master/_autosummary/darkhistory/physics/darkhistory.physics.struct_boost_func.html). The first thing we need to do is obtain the function that returns the boost: "
   ]
  },
  {
   "cell_type": "code",
   "execution_count": null,
   "metadata": {},
   "outputs": [],
   "source": [
    "struct_boost_einasto_subs = phys.struct_boost_func('einasto_with_subs')"
   ]
  },
  {
   "cell_type": "markdown",
   "metadata": {},
   "source": [
    "We can now define the analogous *get_T_ann* function with this structure formation prescription included with the keyword *struct_boost* passed to [*main.evolve*](https://darkhistory.readthedocs.io/en/master/_autosummary/main/main.evolve.html):"
   ]
  },
  {
   "cell_type": "code",
   "execution_count": null,
   "metadata": {},
   "outputs": [],
   "source": [
    "def get_T_ann(mDM, sigmav, br, pri):\n",
    "    \"\"\"Gets the temperature at z = 17. \n",
    "    \n",
    "    Parameters\n",
    "    ----------\n",
    "    mDM : float\n",
    "        The mass of the dark matter in eV. \n",
    "    sigmav : float\n",
    "        The annihilation cross section in cm^3/s.  \n",
    "    br : bool\n",
    "        Whether to use backreaction or not. \n",
    "    pri : {'elec', 'phot'}\n",
    "        The primary particles that DM decays to. \n",
    "        \n",
    "    Returns\n",
    "    --------\n",
    "    float\n",
    "        The temperature in K at z = 17. \n",
    "    \n",
    "    \"\"\"\n",
    "    \n",
    "    if pri == 'elec':\n",
    "        pri_str = 'elec_delta'\n",
    "        cf = 12\n",
    "    if pri == 'phot':\n",
    "        pri_str = 'phot_delta'\n",
    "        cf = 4\n",
    "    \n",
    "    if br:\n",
    "    \n",
    "        result = main.evolve(\n",
    "                primary=pri_str,\n",
    "                DM_process='swave', mDM=mDM, sigmav=sigmav,\n",
    "                struct_boost = struct_boost_einasto_subs,\n",
    "                start_rs = 3000, end_rs=17,\n",
    "                coarsen_factor=cf, backreaction=True\n",
    "        )\n",
    "        \n",
    "    else:\n",
    "        \n",
    "        result = main.evolve(\n",
    "                primary=pri_str,\n",
    "                DM_process='swave', mDM=mDM, sigmav=sigmav,\n",
    "                start_rs = 3000, end_rs=17,\n",
    "                struct_boost = struct_boost_einasto_subs,\n",
    "                coarsen_factor=cf, backreaction=False\n",
    "        )\n",
    "    return result['Tm'][-1]/phys.kB"
   ]
  },
  {
   "cell_type": "markdown",
   "metadata": {},
   "source": [
    "Now initialize the data! We use $\\langle \\sigma v \\rangle / m_\\chi$ as the range to scan over, since this quantity determines the energy injection rate."
   ]
  },
  {
   "cell_type": "code",
   "execution_count": null,
   "metadata": {},
   "outputs": [],
   "source": [
    "log10_m_chi_arr = np.arange(4, 12.75, 0.25)\n",
    "log10_sigmav_over_m_arr   = np.arange(-36, -33.5, 0.25)\n",
    "\n",
    "Tm_ann_no_br = np.zeros((log10_m_chi_arr.size, log10_tau_arr.size))\n",
    "Tm_ann_br = np.zeros_like(Tm_ann_no_br)\n",
    "\n",
    "Tm_ann_no_br[:,:7] = 0\n",
    "Tm_ann_no_br[:,7:] = 1e9 \n",
    "Tm_ann_br[:,:7] = 0\n",
    "Tm_ann_br[:,7:] = 1e9 "
   ]
  },
  {
   "cell_type": "markdown",
   "metadata": {},
   "source": [
    "And start the scan!"
   ]
  },
  {
   "cell_type": "code",
   "execution_count": null,
   "metadata": {},
   "outputs": [],
   "source": [
    "for i, log10mDM in enumerate(tqdm(log10_m_chi_arr)):\n",
    "    print('log10(mDM): ', log10mDM)\n",
    "    mDM = 10**log10mDM\n",
    "    \n",
    "    below_target_Tm_br = False\n",
    "    above_target_Tm_br = False\n",
    "    below_target_Tm_no_br = False\n",
    "    above_target_Tm_no_br = False\n",
    "    j_br = 6\n",
    "    j_no_br = 6\n",
    "    \n",
    "    while (\n",
    "        not below_target_Tm_br or not above_target_Tm_br \n",
    "        or not below_target_Tm_no_br or not above_target_Tm_no_br\n",
    "    ):\n",
    "        print('****************************')\n",
    "        sigmav_br = 10**log10_sigmav_over_m_arr[j_br] * mDM\n",
    "        print('sigmav with backreaction: ', sigmav_br)\n",
    "        sigmav_no_br = 10**log10_sigmav_over_m_arr[j_no_br] * mDM\n",
    "        print('sigmav with no backreaction: ', sigmav_no_br)\n",
    "        \n",
    "        Tm_ann_br[i,j_br] = get_T_ann(mDM, sigmav_br, br=True, pri='phot')\n",
    "        Tm_ann_no_br[i,j_no_br] = get_T_ann(mDM, sigmav_no_br, br=False, pri='phot')\n",
    "        print('T with backreaction: ', Tm_ann_br[i,j_br])\n",
    "        print('T without backreaction: ', Tm_ann_no_br[i,j_no_br])\n",
    "        \n",
    "        if Tm_ann_br[i,j_br] <= Tm_max:\n",
    "            \n",
    "            below_target_Tm_br = True\n",
    "            # Below target T_m means we need a larger sigmav.\n",
    "            j_br += 1\n",
    "            \n",
    "        elif Tm_ann_br[i,j_br] >= Tm_max:\n",
    "            \n",
    "            above_target_Tm_br = True\n",
    "            # Above target T_m means we need a smaller sigmav.\n",
    "            j_br -= 1\n",
    "            \n",
    "        if Tm_ann_no_br[i,j_no_br] <= Tm_max:\n",
    "            \n",
    "            below_target_Tm_no_br = True\n",
    "            # Below target T_m means we need a larger sigmav.\n",
    "            j_no_br += 1\n",
    "            \n",
    "        elif Tm_ann_no_br[i,j_no_br] >= Tm_max:\n",
    "            \n",
    "            above_target_Tm_no_br = True\n",
    "            # Above target T_m means we need a smaller sigmav.\n",
    "            j_no_br -= 1\n",
    "            \n",
    "        \n",
    "        print('****************************')\n",
    "            "
   ]
  },
  {
   "cell_type": "markdown",
   "metadata": {},
   "source": [
    "## Bibliography"
   ]
  },
  {
   "cell_type": "markdown",
   "metadata": {},
   "source": [
    "<div class=\"cite2c-biblio\"></div>"
   ]
  },
  {
   "cell_type": "markdown",
   "metadata": {},
   "source": [
    "## Plotting"
   ]
  },
  {
   "cell_type": "code",
   "execution_count": null,
   "metadata": {},
   "outputs": [],
   "source": [
    "pri_list = ['elec', 'phot']\n",
    "inj_type_list = ['decay', 'swave']\n",
    "br_list   = ['std', 'BR']\n",
    "\n",
    "# mbnds = [4,12.5]\n",
    "\n",
    "# if inj_type == 'decay':\n",
    "#         parambnds = [23,28.25 + step] #tau\n",
    "#         param_guess = 27\n",
    "#     else:\n",
    "#         parambnds = [-28,-25 + step] # sigma v / mDM\n",
    "#         param_guess = -26.5\n",
    "# else:\n",
    "#     mbnds = [6.01,12.51]\n",
    "#     log10mDM_arr = np.arange(mbnds[0], mbnds[1], step)\n",
    "\n",
    "#     if inj_type == 'decay':\n",
    "#         parambnds = [24,28.25 + step]\n",
    "#         param_guess = 27\n",
    "#     else:    \n",
    "#         parambnds = [-30.5,-24.5 + step]\n",
    "#         param_guess = -26\n",
    "\n",
    "data = {'elec':{}, 'phot':{}}\n",
    "\n",
    "m_chi_absc = {'elec':{}, 'phot':{}}\n",
    "inj_absc   = {'elec':{}, 'phot':{}}\n",
    "\n",
    "interp_data = {'elec':{}, 'phot':{}}\n",
    "\n",
    "\n",
    "from scipy.interpolate import interp2d\n",
    "\n",
    "for pri in pri_list:\n",
    "    data[pri] = {}\n",
    "    m_chi_absc[pri] = {}\n",
    "    inj_absc[pri] = {}\n",
    "    interp_data[pri] = {}\n",
    "    \n",
    "    if pri == 'elec':\n",
    "        cf_str = '12'\n",
    "    else:\n",
    "        cf_str = '4'\n",
    "    for inj_type in inj_type_list:\n",
    "        data[pri][inj_type] = {}\n",
    "        m_chi_absc[pri][inj_type] = {}\n",
    "        inj_absc[pri][inj_type] = {} \n",
    "        interp_data[pri][inj_type] = {}\n",
    "        for br in br_list:\n",
    "            data[pri][inj_type][br] = pickle.load(\n",
    "                open(\n",
    "                    '/Users/hongwan/Dropbox (MIT)/Photon Deposition/Gregs_Checks/T_IGM_17_'\n",
    "                    +pri+'_'+inj_type+'_'+br+'_coarsen'+cf_str+'.dat','rb'\n",
    "                )\n",
    "            )\n",
    "            # Clean the data. \n",
    "            if inj_type == 'decay':\n",
    "                for mDM_Tm in data[pri][inj_type][br]:\n",
    "                    i=0\n",
    "                    lower_zeros = True\n",
    "                    while lower_zeros:\n",
    "                        if mDM_Tm[i] == 0:\n",
    "                            mDM_Tm[i] = 30\n",
    "                            i += 1\n",
    "                        else:\n",
    "                            lower_zeros = False\n",
    "            else:\n",
    "                for mDM_Tm in data[pri][inj_type][br]:\n",
    "                    i=-1\n",
    "                    upper_zeros = True\n",
    "                    while upper_zeros:\n",
    "                        if mDM_Tm[i] == 0:\n",
    "                            mDM_Tm[i] = 30\n",
    "                            i -= 1\n",
    "                        else:\n",
    "                            upper_zeros = False\n",
    "                            \n",
    "            data[pri][inj_type][br][data[pri][inj_type][br] <= 0] = 1e-100\n",
    "            # Insert the abscissa\n",
    "            if pri == 'elec':\n",
    "                m_chi_absc[pri][inj_type][br] = np.arange(6.01, 12.51, 0.25)\n",
    "                if inj_type == 'decay':                    \n",
    "                    inj_absc[pri][inj_type][br] = np.arange(24., 28.5, 0.25)\n",
    "                elif inj_type == 'swave':\n",
    "                    inj_absc[pri][inj_type][br] = np.arange(-30.5, -24.25, 0.25)\n",
    "            elif pri == 'phot':\n",
    "                m_chi_absc[pri][inj_type][br] = np.arange(4, 12.5, 0.25)\n",
    "                if inj_type == 'decay':\n",
    "                    inj_absc[pri][inj_type][br] = np.arange(23., 28.5, 0.25)\n",
    "                elif inj_type == 'swave':\n",
    "                    inj_absc[pri][inj_type][br] = np.arange(-28., -24.75, 0.25)\n",
    "\n",
    "            interp_data[pri][inj_type][br] = interp1d(\n",
    "                m_chi_absc[pri][inj_type][br],\n",
    "                np.log10(data[pri][inj_type][br]),\n",
    "                kind='slinear', axis=0\n",
    "            )             \n",
    "                    \n",
    "                    "
   ]
  },
  {
   "cell_type": "code",
   "execution_count": null,
   "metadata": {},
   "outputs": [],
   "source": [
    "from scipy.interpolate import pchip_interpolate\n",
    "\n",
    "mDM_fine_arr = np.arange(6.01, 12., 0.15)\n",
    "tau_fine_arr = np.arange(-30.5,-24.5, 0.15)\n",
    "\n",
    "data_mDM_fine = interp_data['elec']['swave']['std'](mDM_fine_arr)\n",
    "\n",
    "data_mDM_fine_interp = interp1d(inj_absc['elec']['swave']['std'], data_mDM_fine, kind='slinear')\n",
    "\n",
    "plot_data = data_mDM_fine_interp(tau_fine_arr)\n",
    "\n",
    "\n",
    "plt.figure()\n",
    "\n",
    "plt.loglog()\n",
    "\n",
    "plt.contour(\n",
    "    10**mDM_fine_arr, 10**tau_fine_arr, \n",
    "    np.transpose(plot_data), \n",
    "    levels=[np.log10(Tm_max)], colors='C0'\n",
    ")\n",
    "plt.contour(\n",
    "    10**mDM_fine_arr, 10**tau_fine_arr, \n",
    "    np.transpose(plot_data),\n",
    "    levels=[np.log10(Tm_max)], colors='C1'\n",
    ")\n",
    "\n",
    "\n"
   ]
  },
  {
   "cell_type": "markdown",
   "metadata": {},
   "source": [
    "### Structure Formation"
   ]
  },
  {
   "cell_type": "markdown",
   "metadata": {},
   "source": [
    "# Scan through $m_\\chi$ and $\\tau$ or $\\sigma v$"
   ]
  },
  {
   "cell_type": "markdown",
   "metadata": {},
   "source": [
    "## swave annihilation"
   ]
  },
  {
   "cell_type": "markdown",
   "metadata": {},
   "source": [
    "Specify type of injection (swave or decay) and products ($e^+e^-$ or $\\gamma\\gamma$)"
   ]
  },
  {
   "cell_type": "code",
   "execution_count": null,
   "metadata": {},
   "outputs": [],
   "source": [
    "inj_particle = 'electron'\n",
    "inj_str = inj_particle[:4]\n",
    "inj_type = 'swave'\n",
    "\n",
    "if inj_type == 'swave':\n",
    "    struct_boost = phys.struct_boost_func()\n",
    "    struct_func = struct_boost\n",
    "else:\n",
    "    def struct_boost(rs):\n",
    "        return 1\n",
    "    struct_func = None\n",
    "    \n",
    "if inj_particle == 'photon':\n",
    "    mass = 0\n",
    "    coarsen_factor=4\n",
    "else:\n",
    "    mass = phys.me\n",
    "    coarsen_factor=12\n",
    "\n",
    "rs_init = 3000"
   ]
  },
  {
   "cell_type": "markdown",
   "metadata": {},
   "source": [
    "Given a dark matter mass and $\\tau$ or $\\sigma v$, calculate $T(z=17.2)$."
   ]
  },
  {
   "cell_type": "code",
   "execution_count": null,
   "metadata": {},
   "outputs": [],
   "source": [
    "def get_T(mDM, log10_p, backreaction):\n",
    "    if inj_type == 'decay':\n",
    "        Einj = mDM/2-mass\n",
    "        Ecom=mDM\n",
    "    if inj_type == 'swave':\n",
    "        Einj = mDM - mass\n",
    "        Ecom = 2*mDM\n",
    "        \n",
    "    if inj_particle == 'photon':\n",
    "        primary = 'phot_delta'\n",
    "    else:\n",
    "        primary = 'elec_delta'\n",
    "\n",
    "    def rate_func_N(rs):\n",
    "        return phys.inj_rate(inj_type, rs, mDM=mDM, tau=10**log10_p, sigmav=10**log10_p*mDM/1e9)*struct_boost(rs)/Ecom\n",
    "    def rate_func_eng(rs):\n",
    "        return phys.inj_rate(inj_type, rs, mDM=mDM, tau=10**log10_p, sigmav=10**log10_p*mDM/1e9)*struct_boost(rs)\n",
    "\n",
    "    a = main.evolve(\n",
    "            primary=primary,\n",
    "            rate_func_N=rate_func_N, rate_func_eng=rate_func_eng,\n",
    "            DM_process=inj_type, mDM=mDM, sigmav=10**log10_p*mDM/1e9, lifetime=10**log10_p,\n",
    "            start_rs = 3000, end_rs=end_rs,\n",
    "            coarsen_factor=coarsen_factor, backreaction=backreaction,\n",
    "            struct_boost=struct_boost\n",
    "    )\n",
    "    return a['Tm'][-1]/phys.kB"
   ]
  },
  {
   "cell_type": "markdown",
   "metadata": {},
   "source": [
    "Set up a $(m_\\chi, \\tau \\text{ or } \\sigma v)$ grid over which to scan"
   ]
  },
  {
   "cell_type": "code",
   "execution_count": null,
   "metadata": {},
   "outputs": [],
   "source": [
    "%autoreload\n",
    "step = .25\n",
    "if inj_particle == 'photon':\n",
    "    mbnds = [4,12.5]\n",
    "    log10mDM_arr = np.arange(mbnds[0], mbnds[1], step)\n",
    "\n",
    "    if inj_type == 'decay':\n",
    "        parambnds = [23,28.25 + step] #tau\n",
    "        param_guess = 27\n",
    "    else:\n",
    "        parambnds = [-28,-25 + step] # sigma v / mDM\n",
    "        param_guess = -26.5\n",
    "else:\n",
    "    mbnds = [6.01,12.51]\n",
    "    log10mDM_arr = np.arange(mbnds[0], mbnds[1], step)\n",
    "\n",
    "    if inj_type == 'decay':\n",
    "        parambnds = [24,28.25 + step]\n",
    "        param_guess = 27\n",
    "    else:    \n",
    "        parambnds = [-30.5,-24.5 + step]\n",
    "        param_guess = -26\n",
    "    \n",
    "log10_param = np.arange(parambnds[0], parambnds[1], step)"
   ]
  },
  {
   "cell_type": "markdown",
   "metadata": {},
   "source": [
    "Conduct the scan without back-reaction.\n",
    "\n",
    "Loop a grid of $E_\\text{inj}$ values, $E^i_\\text{inj}$.  \n",
    "For the first grid value, $E^0_\\text{inj}$, provide a guess (`param_guess`) for the $\\tau$ or $\\langle \\sigma v \\rangle$ that leads to $T_m(z=17.2)$ attaining its bound.  If the guess led to $T_m(z=17.2) > T_\\text{bnd}$, increase $\\tau$ or decrease $\\langle \\sigma v \\rangle$.  If $T_m(z=17.2) < T_\\text{bnd}$, decrease $\\tau$ or increase $\\langle \\sigma v \\rangle$.  Repeat this process until $T_m(z=17.2)$ crosses the bound once.\n",
    "\n",
    "For the next injection energies set `param_guess` to the value that $\\tau$ or $\\langle \\sigma v \\rangle$ arrived at in the previous step and repeat."
   ]
  },
  {
   "cell_type": "code",
   "execution_count": null,
   "metadata": {
    "scrolled": true
   },
   "outputs": [],
   "source": [
    "user = 'hongwan'\n",
    "%autoreload\n",
    "download_T = True\n",
    "if download_T:\n",
    "    T_IGM_17_std = pickle.load(open('/Users/'+user+'/Dropbox (MIT)/Photon Deposition/Gregs_Checks/T_IGM_17_'+\n",
    "             inj_str+'_'+inj_type+'_std_coarsen'+str(coarsen_factor)+'.dat','rb'))\n",
    "else:\n",
    "    T_IGM_17_std = np.zeros((log10mDM_arr.size, log10_param.size))\n",
    "\n",
    "    for i, log10mDM in enumerate(tqdm(log10mDM_arr)):\n",
    "        print('log10(mDM): ', log10mDM)\n",
    "        mDM = 10**log10mDM\n",
    "        j=len(log10_param[log10_param < param_guess])\n",
    "        above=False\n",
    "        below=False\n",
    "\n",
    "        while((not below) or (not above)):\n",
    "            log10_p = log10_param[j]\n",
    "            print('log10(param): ', log10_p)\n",
    "\n",
    "            T_std = get_T(mDM, log10_p, backreaction=False)\n",
    "            T_IGM_17_std[i,j] = T_std\n",
    "            print('T_0 [K]: ', T_std)\n",
    "\n",
    "            if T_std > Tm_bnd:\n",
    "                above = True\n",
    "                print(\"T_std Above Threshold\")\n",
    "                if inj_type == 'swave':\n",
    "                    j = j-1\n",
    "                else:\n",
    "                    j = j+1\n",
    "            else:\n",
    "                below = True\n",
    "                print(\"T_std Below Threshold\")\n",
    "                if inj_type == 'swave':\n",
    "                    j = j+1\n",
    "                else:\n",
    "                    j = j-1\n",
    "\n",
    "            param_guess = log10_p        \n",
    "\n",
    "    pickle.dump(\n",
    "        T_IGM_17_std, \n",
    "        open('/Users/'+user+'/Dropbox (MIT)/Photon Deposition/Gregs_Checks/T_IGM_17_'+\n",
    "             inj_str+'_'+inj_type+'_std_coarsen'+str(coarsen_factor)+'.dat','wb')\n",
    "    )"
   ]
  },
  {
   "cell_type": "markdown",
   "metadata": {},
   "source": [
    "Linearly interpolate over the parameter values to find the $\\tau$ or $\\sigma$ that saturates the $T_m(z=17.2)$ bound."
   ]
  },
  {
   "cell_type": "code",
   "execution_count": null,
   "metadata": {},
   "outputs": [],
   "source": [
    "print(Tm_max)\n",
    "def find_param(Tlist):\n",
    "    if inj_type == 'swave':\n",
    "        above = np.where((Tlist > 0) & (Tlist > Tm_max))[0][0]\n",
    "        below = above-1\n",
    "    else:\n",
    "        above = np.where((Tlist > 0) & (Tlist > Tm_max))[0][-1]\n",
    "        below = above+1\n",
    "    Ts = [Tlist[below], Tlist[above]]\n",
    "    ps = [log10_param[below], log10_param[above]]\n",
    "    return (np.diff(ps)/np.diff(Ts)*(Tm_max-Ts[0]) + ps[0])[0]\n",
    "\n",
    "thresh_params_std = np.array(\n",
    "    [find_param(row) for row in T_IGM_17_std]\n",
    ")"
   ]
  },
  {
   "cell_type": "markdown",
   "metadata": {},
   "source": [
    "Conduct the scan with back-reaction"
   ]
  },
  {
   "cell_type": "code",
   "execution_count": null,
   "metadata": {},
   "outputs": [],
   "source": [
    "%autoreload\n",
    "download_T = True\n",
    "if download_T:\n",
    "    T_IGM_17_BR = pickle.load(open('/Users/'+user+'/Dropbox (MIT)/Photon Deposition/Gregs_Checks/T_IGM_17_'+\n",
    "             inj_str+'_'+inj_type+'_BR_coarsen'+str(coarsen_factor)+'.dat','rb'))\n",
    "else:\n",
    "    T_IGM_17_BR = np.zeros((log10mDM_arr.size, log10_param.size))\n",
    "    param_guess = thresh_params_std[0]\n",
    "\n",
    "    for i, log10mDM in enumerate(tqdm(log10mDM_arr)):\n",
    "        print('log10(mDM): ', log10mDM)\n",
    "        mDM = 10**log10mDM\n",
    "        j=len(log10_param[log10_param < param_guess])\n",
    "        above=False\n",
    "        below=False\n",
    "\n",
    "        while((not below) or (not above)):\n",
    "            log10_p = log10_param[j]\n",
    "            print('log10(param): ', log10_p)\n",
    "\n",
    "            T_BR = get_T(mDM, log10_p, backreaction=True)\n",
    "            T_IGM_17_BR[i,j] = T_BR\n",
    "            print('T_0 [K]: ', T_BR)\n",
    "\n",
    "            if T_BR > Tm_bnd:\n",
    "                above = True\n",
    "                print(\"T_BR Above Threshold\")\n",
    "                if inj_type == 'swave':\n",
    "                    j = j-1\n",
    "                else:\n",
    "                    j = j+1\n",
    "            else:\n",
    "                below = True\n",
    "                print(\"T_BR Below Threshold\")\n",
    "                if inj_type == 'swave':\n",
    "                    j = j+1\n",
    "                else:\n",
    "                    j = j-1\n",
    "            param_guess = log10_p\n",
    "\n",
    "\n",
    "    pickle.dump(\n",
    "        T_IGM_17_BR, \n",
    "        open('/Users/gridgway/Dropbox (MIT)/Photon Deposition/Gregs_Checks/T_IGM_17_'+\n",
    "             inj_str+'_'+inj_type+'_BR_coarsen'+str(coarsen_factor)+'.dat','wb')\n",
    "    )"
   ]
  },
  {
   "cell_type": "markdown",
   "metadata": {},
   "source": [
    "Find the $\\tau$ or $\\sigma$ that saturates the $T_m(z=17.2)$ bound when including backreaction."
   ]
  },
  {
   "cell_type": "code",
   "execution_count": null,
   "metadata": {},
   "outputs": [],
   "source": [
    "thresh_params_BR = np.array(\n",
    "    [find_param(row) for row in T_IGM_17_BR]\n",
    ")"
   ]
  },
  {
   "cell_type": "markdown",
   "metadata": {},
   "source": [
    "### Plots"
   ]
  },
  {
   "cell_type": "markdown",
   "metadata": {},
   "source": [
    "Make an interpolation function for the points $(m_\\text{DM}, \\tau_\\text{min})$ or $(m_\\text{DM}, \\sigma_\\text{max})$ with and without backreaction."
   ]
  },
  {
   "cell_type": "code",
   "execution_count": null,
   "metadata": {},
   "outputs": [],
   "source": [
    "thresh_params_BR = np.array([find_param(row) for row in T_IGM_17_BR])\n",
    "\n",
    "std_interp = interp1d(log10mDM_arr, thresh_params_std, kind='quadratic')\n",
    "BR_interp = interp1d(log10mDM_arr, thresh_params_BR, kind='quadratic')\n",
    "\n",
    "log10mDM_arr_fine = np.arange(log10mDM_arr[0], log10mDM_arr[-1], .01)"
   ]
  },
  {
   "cell_type": "code",
   "execution_count": null,
   "metadata": {},
   "outputs": [],
   "source": [
    "plt.figure()\n",
    "ax = plt.gca()\n",
    "ax.loglog()\n",
    "\n",
    "xmin = 10**log10mDM_arr_fine[0]/1e9\n",
    "xmax = 10**log10mDM_arr_fine[-1]/1e9\n",
    "\n",
    "if inj_particle=='electron':\n",
    "    if inj_type == 'swave':\n",
    "        plt.title(r'\\bf{21-cm Sensitivity,} $\\chi \\chi \\to e^+ e^-$')\n",
    "        ymin = 3e-29\n",
    "        ymax = 1e-25\n",
    "    else:\n",
    "        plt.title(r'\\bf{21-cm Sensitivity,} $\\chi \\to e^+ e^-$')\n",
    "        ymin = 1e24\n",
    "        ymax = 5e28\n",
    "else:\n",
    "    if inj_type == 'swave':\n",
    "        plt.title(r'\\bf{21-cm Sensitivity,} $\\chi\\chi \\to \\gamma\\gamma$')\n",
    "        ymin = 3e-27\n",
    "        ymax = 1.5e-25\n",
    "    else:\n",
    "        plt.title(r'\\bf{21-cm Sensitivity,} $\\chi \\to \\gamma\\gamma$')\n",
    "        ymin = 2e23\n",
    "        ymax = 4e26\n",
    "    \n",
    "plt.xlabel(r'Dark Matter Mass $m_\\chi$ [GeV]')\n",
    "if inj_type == 'swave':\n",
    "    plt.ylabel(r'Maximum $\\langle \\sigma v \\rangle / m_\\chi$ [cm$^3$ s$^{-1}$ GeV$^{-1}$]')\n",
    "else:\n",
    "    plt.ylabel(r'Minimum Lifetime $\\tau \\, [\\mathrm{s}]$')\n",
    "    \n",
    "plt.axis([xmin, xmax, ymin, ymax])\n",
    "\n",
    "plt_std, = plt.plot(10**log10mDM_arr_fine/1e9, 10**std_interp(log10mDM_arr_fine), \n",
    "        linewidth=1, label='No Backreaction', color='#6a176e', linestyle='--')\n",
    "plt_BR, = plt.plot(10**log10mDM_arr_fine/1e9, 10**BR_interp(log10mDM_arr_fine), \n",
    "         linewidth=3, label='With Backreaction', color='#f37819')\n",
    "\n",
    "ax.fill_between(\n",
    "    10**log10mDM_arr_fine/1e9, \n",
    "    1e-15, \n",
    "    (10**std_interp(log10mDM_arr_fine)), \n",
    "    interpolate=True, \n",
    "    color='#6a176e',\n",
    "    alpha=0.2\n",
    ")\n",
    "\n",
    "ax.fill_between(\n",
    "    10**log10mDM_arr_fine/1e9, \n",
    "    1e-15, \n",
    "    (10**BR_interp(log10mDM_arr_fine)), \n",
    "    interpolate=True, \n",
    "    color='#f37819',\n",
    "    alpha=.1\n",
    ")\n",
    "\n",
    "if inj_type == 'swave':\n",
    "    plt.text(0.52, 0.22, r'$T_{21}$ = $-50$ mK', fontsize=20, transform=ax.transAxes) \n",
    "else:\n",
    "    plt.text(0.49, 0.89, r'$T_{21}$ = $-50$ mK', fontsize=20, transform=ax.transAxes)\n",
    "\n",
    "if inj_type == 'swave':\n",
    "    if inj_str == 'phot':\n",
    "        leg = plt.legend(handles=[plt_std, plt_BR])\n",
    "    else:\n",
    "        leg = plt.legend(handles=[plt_std, plt_BR], loc='lower right')\n",
    "else:\n",
    "    leg = plt.legend(handles=[plt_std, plt_BR], loc=(0.4, 0.72))\n",
    "\n",
    "plt.savefig('/Users/hongwan/Dropbox (MIT)/Photon Deposition/Draft/plots/'+\n",
    "            'DarkHistory_21cm_Sensitivity_'+inj_type+'_'+inj_str+'.pdf')"
   ]
  },
  {
   "cell_type": "code",
   "execution_count": null,
   "metadata": {},
   "outputs": [],
   "source": []
  },
  {
   "cell_type": "code",
   "execution_count": null,
   "metadata": {},
   "outputs": [],
   "source": []
  },
  {
   "cell_type": "code",
   "execution_count": null,
   "metadata": {},
   "outputs": [],
   "source": []
  }
 ],
 "metadata": {
  "cite2c": {
   "citations": {
    "6232408/9ZW7JWLJ": {
     "URL": "https://www.nature.com/articles/nature25792",
     "accessed": {
      "day": 1,
      "month": 4,
      "year": 2019
     },
     "id": "6232408/9ZW7JWLJ",
     "title": "An absorption profile centred at 78 megahertz in the sky-averaged spectrum | Nature",
     "type": "webpage"
    },
    "6232408/FH99AISX": {
     "DOI": "10.1038/nature25792",
     "URL": "https://www.nature.com/articles/nature25792",
     "abstract": "After stars formed in the early Universe, their ultraviolet light is expected, eventually, to have penetrated the primordial hydrogen gas and altered the excitation state of its 21-centimetre hyperfine line. This alteration would cause the gas to absorb photons from the cosmic microwave background, producing a spectral distortion that should be observable today at radio frequencies of less than 200 megahertz1. Here we report the detection of a flattened absorption profile in the sky-averaged radio spectrum, which is centred at a frequency of 78 megahertz and has a best-fitting full-width at half-maximum of 19 megahertz and an amplitude of 0.5 kelvin. The profile is largely consistent with expectations for the 21-centimetre signal induced by early stars; however, the best-fitting amplitude of the profile is more than a factor of two greater than the largest predictions2. This discrepancy suggests that either the primordial gas was much colder than expected or the background radiation temperature was hotter than expected. Astrophysical phenomena (such as radiation from stars and stellar remnants) are unlikely to account for this discrepancy; of the proposed extensions to the standard model of cosmology and particle physics, only cooling of the gas as a result of interactions between dark matter and baryons seems to explain the observed amplitude3. The low-frequency edge of the observed profile indicates that stars existed and had produced a background of Lyman-α photons by 180 million years after the Big Bang. The high-frequency edge indicates that the gas was heated to above the radiation temperature less than 100 million years later.",
     "accessed": {
      "day": 1,
      "month": 4,
      "year": 2019
     },
     "author": [
      {
       "family": "Bowman",
       "given": "Judd D."
      },
      {
       "family": "Rogers",
       "given": "Alan E. E."
      },
      {
       "family": "Monsalve",
       "given": "Raul A."
      },
      {
       "family": "Mozdzen",
       "given": "Thomas J."
      },
      {
       "family": "Mahesh",
       "given": "Nivedita"
      }
     ],
     "container-title": "Nature",
     "id": "6232408/FH99AISX",
     "issue": "7694",
     "issued": {
      "month": 3,
      "year": 2018
     },
     "language": "en",
     "page": "67-70",
     "page-first": "67",
     "title": "An absorption profile centred at 78 megahertz in the sky-averaged spectrum",
     "type": "article-journal",
     "volume": "555"
    }
   }
  },
  "kernelspec": {
   "display_name": "Python 3",
   "language": "python",
   "name": "python3"
  },
  "language_info": {
   "codemirror_mode": {
    "name": "ipython",
    "version": 3
   },
   "file_extension": ".py",
   "mimetype": "text/x-python",
   "name": "python",
   "nbconvert_exporter": "python",
   "pygments_lexer": "ipython3",
   "version": "3.6.7"
  },
  "toc": {
   "base_numbering": 1,
   "nav_menu": {},
   "number_sections": true,
   "sideBar": true,
   "skip_h1_title": false,
   "title_cell": "Table of Contents",
   "title_sidebar": "Contents",
   "toc_cell": false,
   "toc_position": {},
   "toc_section_display": true,
   "toc_window_display": false
  }
 },
 "nbformat": 4,
 "nbformat_minor": 2
}
