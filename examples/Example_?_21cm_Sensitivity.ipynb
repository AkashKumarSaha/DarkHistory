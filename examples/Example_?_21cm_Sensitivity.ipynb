{
 "cells": [
  {
   "cell_type": "markdown",
   "metadata": {},
   "source": [
    "# Example ? 21cm Sensitivity"
   ]
  },
  {
   "cell_type": "markdown",
   "metadata": {},
   "source": [
    "## Notebook Initialization"
   ]
  },
  {
   "cell_type": "code",
   "execution_count": 10,
   "metadata": {},
   "outputs": [
    {
     "name": "stdout",
     "output_type": "stream",
     "text": [
      "The autoreload extension is already loaded. To reload it, use:\n",
      "  %reload_ext autoreload\n"
     ]
    }
   ],
   "source": [
    "%load_ext autoreload\n",
    "import sys\n",
    "sys.path.append(\"..\")"
   ]
  },
  {
   "cell_type": "code",
   "execution_count": 11,
   "metadata": {},
   "outputs": [],
   "source": [
    "%matplotlib inline"
   ]
  },
  {
   "cell_type": "code",
   "execution_count": 12,
   "metadata": {},
   "outputs": [],
   "source": [
    "%autoreload\n",
    "\n",
    "import matplotlib\n",
    "matplotlib.rc_file('matplotlibrc')\n",
    "import matplotlib.pyplot as plt\n",
    "\n",
    "from astropy.io import fits\n",
    "\n",
    "import numpy as np\n",
    "import copy\n",
    "import pickle\n",
    "from tqdm import tqdm_notebook as tqdm\n",
    "from scipy.interpolate import interp1d\n",
    "\n",
    "\n",
    "import darkhistory.physics as phys\n",
    "import darkhistory.spec.spectools as spectools\n",
    "from darkhistory.history.tla import get_history\n",
    "\n",
    "import main"
   ]
  },
  {
   "cell_type": "markdown",
   "metadata": {},
   "source": [
    "## 21-cm Brightness Temperature $T_{21}$ and Matter Temperature $T_m$"
   ]
  },
  {
   "cell_type": "markdown",
   "metadata": {},
   "source": [
    "21-cm cosmology is one of the most important experimental methods of understanding the thermal and ionization histories of the universe. The global 21-cm brightness temperature is related to the hydrogen spin temperature through the following relation:\n",
    "\n",
    "$$ T_\\text{21} (z) \\approx x_\\text{HI}(z) \\left( \\frac{0.15}{\\Omega_m} \\right)^{1/2} \\left( \\frac{\\Omega_b h}{0.02} \\right) \\left( \\frac{1+z}{10} \\right)^{1/2} \\left[ 1 - \\frac{T_R(z)}{T_S(z)} \\right] 23 \\text{ mK}, $$\n",
    "\n",
    "where $x_\\text{HI}$ is the neutral fraction of hydrogen, $\\Omega_m$ and $\\omega_b$ are the matter and baryon energy density as a fraction of the critical density, $h$ is the Hubble parameter today in units of 100 km s$^{-1}$ Mpc$^{-1}$, $T_R$ is the background 21-cm radiation temperature and $T_S$ is the spin temperature. Under standard assumptions, $T_m < T_S < T_\\text{CMB}$, where $T_m$ is the matter temperature; this implies that measuring the global 21-cm brightness temperature at a particular redshift sets an upper bound on the matter temperature at that point in time. "
   ]
  },
  {
   "cell_type": "markdown",
   "metadata": {},
   "source": [
    "The expected $T_{21}$ assuming no exotic sources of injection is approximately -200 mK at $z \\sim 17$. In this notebook, we will use DarkHistory to estimate the limits that can be set on $T_m$, assuming we measure a $T_{21}$ value of -50 mK. We will also compare the difference with and without backreaction taken into account, to give users a sense of the possible differences in constraints.\n",
    "\n",
    "Before we proceed, we should note that recent measurements performed by the EDGES collaboration <cite data-cite=\"6232408/FH99AISX\"></cite> seem to suggest a $T_{21}(z = 17) \\lesssim $ -300 mK at the 99% confidence level, which would seem to suggest that $T_m$ is actually *colder* than expected, assuming that $T_R = T_\\text{CMB}$. The introduction of new baryon-DM interactions may be able to produce such an effect, and DarkHistory can be easily modified to accommodate this if desired."
   ]
  },
  {
   "cell_type": "markdown",
   "metadata": {},
   "source": [
    "## 21-cm Constraints"
   ]
  },
  {
   "cell_type": "markdown",
   "metadata": {},
   "source": [
    "First, let's compute the limit set on $T_m$ if we take $T_{21}$ = -50 mK at $z = 17$, assuming that $T_R = T_\\text{CMB}$. "
   ]
  },
  {
   "cell_type": "code",
   "execution_count": 13,
   "metadata": {},
   "outputs": [
    {
     "name": "stdout",
     "output_type": "stream",
     "text": [
      "The upper bound on Tm is: 20.3 K\n"
     ]
    }
   ],
   "source": [
    "T_21 = -50\n",
    "rs = 18 # We always define redshifts as 1 + z by convention in the code. \n",
    "one_minus_TR_over_TS = (T_21/23.) / (0.15 / phys.omega_m)**0.5 / (phys.omega_baryon*phys.h/0.02) / (rs/10)**0.5\n",
    "Tm_max = 1/(1 - one_minus_TR_over_TS) * phys.TCMB(rs) / phys.kB # in K\n",
    "print('The upper bound on Tm is: {:03.1f} K'.format(Tm_max))"
   ]
  },
  {
   "cell_type": "markdown",
   "metadata": {},
   "source": [
    "### Decaying Dark Matter"
   ]
  },
  {
   "cell_type": "markdown",
   "metadata": {},
   "source": [
    "Let's first get the constraints for decays. We'll consider two channels: $\\chi \\to e^+e^-$ and $\\chi \\to \\gamma \\gamma$, with no electroweak corrections. To compute the constraints with no backreaction, we can use the tabulated $f_c(z)$ tables, and use these as inputs for [*tla.get_history*](https://darkhistory.readthedocs.io/en/master/_autosummary/darkhistory/history/tla/darkhistory.history.tla.get_history.html) and obtain the temperature history. \n",
    "\n",
    "With backreaction, however, the spectra of particles that get produced at each redshift step must be computed, and the temperature history integrated as a function of these spectra. This is done by the function [*main.evolve*](https://darkhistory.readthedocs.io/en/master/_autosummary/main/main.evolve.html). \n",
    "\n",
    "For decays, we can specify the primary that we are interested in, the dark matter process, the mass of the dark matter, and the decay lifetime. We also use some coarsening to speed up the calculation. \n",
    "\n",
    "We'll define a function called ``get_T_decay`` to run either of these functions, and return the temperature at $z = 17$. "
   ]
  },
  {
   "cell_type": "code",
   "execution_count": 14,
   "metadata": {},
   "outputs": [],
   "source": [
    "def get_T_decay(mDM, tau, br, pri):\n",
    "    \"\"\"Gets the temperature at z = 17, decays.\n",
    "    \n",
    "    Parameters\n",
    "    ----------\n",
    "    mDM : float\n",
    "        The mass of the dark matter in eV. \n",
    "    tau : float\n",
    "        The decay lifetime in s. \n",
    "    br : bool\n",
    "        Whether to use backreaction or not. \n",
    "    pri : {'elec', 'phot'}\n",
    "        The primary particles that DM decays to. \n",
    "        \n",
    "    Returns\n",
    "    --------\n",
    "    float\n",
    "        The temperature in K at z = 17. \n",
    "    \n",
    "    \"\"\"\n",
    "    \n",
    "    if pri == 'elec':\n",
    "        pri_str = 'elec_delta'\n",
    "        cf = 12\n",
    "    if pri == 'phot':\n",
    "        pri_str = 'phot_delta'\n",
    "        cf = 4\n",
    "        \n",
    "    if br:\n",
    "    \n",
    "        result = main.evolve(\n",
    "            primary=pri_str,\n",
    "            DM_process='decay', mDM=mDM, lifetime=tau,\n",
    "            start_rs = 3000, end_rs=18,\n",
    "            coarsen_factor=cf, backreaction=True\n",
    "        )\n",
    "        \n",
    "        return result['Tm'][-1]/phys.kB\n",
    "    \n",
    "    else:\n",
    "        # get_history takes a redshift vector \n",
    "        rs_vec = np.flipud(np.arange(18, 3000., 0.1))\n",
    "        \n",
    "        result = get_history(\n",
    "            rs_vec, baseline_f = True,\n",
    "            inj_particle = pri, DM_process = 'decay',\n",
    "            mDM=mDM, lifetime = tau\n",
    "        )\n",
    "        \n",
    "        return result[-1,0]/phys.kB"
   ]
  },
  {
   "cell_type": "markdown",
   "metadata": {},
   "source": [
    "We are now all set up to do the scan. Let's scan over $\\chi \\to \\gamma \\gamma$, for $\\log_{10} (m_\\chi/\\text{eV}) \\in [4, 12.5] $. We'll do this in a clever way to save the user time here. We'll scan over lifetimes $\\log_{10}(\\tau/\\text{s}) \\in [23, 28.5]$, and start with a guess of $10^{25}$ s. Starting from this guess, we compute the matter temperature at $z = 17$. If the temperature lies below `Tm_max`, we will try a shorter lifetime to increase the energy deposition rate, and vice versa with a higher temperature. We'll terminate the scan once we have computed $T_m(z = 17)$ over enough points to linearly interpolate for the lifetime required to produce `Tm_max` at $z = 17$. This lifetime is the *minimum* lifetime allowed by $T_{21} = -$50 mK.\n",
    "\n",
    "Let's set up a 2D array, indexed by mass and lifetime, one without backreaction, and one with. "
   ]
  },
  {
   "cell_type": "code",
   "execution_count": 219,
   "metadata": {},
   "outputs": [],
   "source": [
    "inj_particle='electron'\n",
    "inj_type='swave'\n",
    "inj_str=inj_particle[:4]\n",
    "\n",
    "%autoreload\n",
    "step = .25\n",
    "if inj_particle == 'photon':\n",
    "    mbnds = [4,12.5]\n",
    "    log10_m_chi_arr = np.arange(mbnds[0], mbnds[1], step)\n",
    "\n",
    "    if inj_type == 'decay':\n",
    "        log10_tau_arr = [23,28.25 + step] #tau\n",
    "        log10_tau_arr = np.arange(log10_tau_arr[0], log10_tau_arr[1], step)\n",
    "        param_guess = 27\n",
    "    else:\n",
    "        log10_sigmav_over_m_arr = [-28,-25 + step] # sigma v / mDM\n",
    "        log10_sigmav_over_m_arr = np.arange(log10_sigmav_over_m_arr[0], log10_sigmav_over_m_arr[1], step)\n",
    "        param_guess = -26.5\n",
    "else:\n",
    "    mbnds = [6.01,12.51]\n",
    "    log10_m_chi_arr = np.arange(mbnds[0], mbnds[1], step)\n",
    "\n",
    "    if inj_type == 'decay':\n",
    "        log10_tau_arr = [24,28.25 + step]\n",
    "        log10_tau_arr = np.arange(log10_tau_arr[0], log10_tau_arr[1], step)\n",
    "        param_guess = 27\n",
    "    else:    \n",
    "        log10_sigmav_over_m_arr = [-30.5,-24.5 + step]\n",
    "        log10_sigmav_over_m_arr = np.arange(log10_sigmav_over_m_arr[0], log10_sigmav_over_m_arr[1], step)\n",
    "        param_guess = -26\n",
    "    \n",
    "log10_param = np.arange(parambnds[0], parambnds[1], step)"
   ]
  },
  {
   "cell_type": "code",
   "execution_count": 117,
   "metadata": {},
   "outputs": [],
   "source": [
    "# log10_m_chi_arr = np.arange(4.1, 12.76, 0.25)\n",
    "# log10_tau_arr   = np.arange(23., 27.25, 0.25)\n",
    "\n",
    "Tm_dec_no_br = np.zeros((log10_m_chi_arr.size, log10_tau_arr.size))\n",
    "Tm_dec_br = np.zeros_like(Tm_dec_no_br)"
   ]
  },
  {
   "cell_type": "markdown",
   "metadata": {},
   "source": [
    "Let's start the scan! To do the scan quickly, we'll first run the case with no backreaction first, and then use the results as an initial guess for [*main.evolve*](https://darkhistory.readthedocs.io/en/master/_autosummary/main/main.evolve.html). "
   ]
  },
  {
   "cell_type": "code",
   "execution_count": 119,
   "metadata": {
    "collapsed": true
   },
   "outputs": [
    {
     "name": "stdout",
     "output_type": "stream",
     "text": [
      "###### Target Temperature: 20.3 K  ######\n"
     ]
    },
    {
     "data": {
      "application/vnd.jupyter.widget-view+json": {
       "model_id": "d084adef620b42de8eba19d471317d9f",
       "version_major": 2,
       "version_minor": 0
      },
      "text/plain": [
       "HBox(children=(IntProgress(value=0, max=26), HTML(value='')))"
      ]
     },
     "metadata": {},
     "output_type": "display_data"
    },
    {
     "name": "stdout",
     "output_type": "stream",
     "text": [
      "****** log10(mDM):  6.01  ******\n",
      "lifetime: 1.0e+26  T(z = 17) w/o backreaction: 13.9 K\n",
      "lifetime: 5.6e+25  T(z = 17) w/o backreaction: 19.3 K\n",
      "lifetime: 3.2e+25  T(z = 17) w/o backreaction: 28.6 K\n",
      "****** log10(mDM):  6.26  ******\n",
      "lifetime: 5.6e+25  T(z = 17) w/o backreaction: 66.0 K\n",
      "lifetime: 1.0e+26  T(z = 17) w/o backreaction: 40.5 K\n",
      "lifetime: 1.8e+26  T(z = 17) w/o backreaction: 25.9 K\n",
      "lifetime: 3.2e+26  T(z = 17) w/o backreaction: 17.6 K\n",
      "****** log10(mDM):  6.51  ******\n",
      "lifetime: 1.8e+26  T(z = 17) w/o backreaction: 19.0 K\n",
      "lifetime: 1.0e+26  T(z = 17) w/o backreaction: 28.4 K\n",
      "****** log10(mDM):  6.76  ******\n",
      "lifetime: 1.8e+26  T(z = 17) w/o backreaction: 14.0 K\n",
      "lifetime: 1.0e+26  T(z = 17) w/o backreaction: 19.5 K\n",
      "lifetime: 5.6e+25  T(z = 17) w/o backreaction: 29.1 K\n",
      "****** log10(mDM):  7.01  ******\n",
      "lifetime: 1.0e+26  T(z = 17) w/o backreaction: 17.8 K\n",
      "lifetime: 5.6e+25  T(z = 17) w/o backreaction: 25.5 K\n",
      "****** log10(mDM):  7.26  ******\n",
      "lifetime: 1.0e+26  T(z = 17) w/o backreaction: 46.0 K\n",
      "lifetime: 1.8e+26  T(z = 17) w/o backreaction: 29.9 K\n",
      "lifetime: 3.2e+26  T(z = 17) w/o backreaction: 20.2 K\n",
      "****** log10(mDM):  7.51  ******\n",
      "lifetime: 1.8e+26  T(z = 17) w/o backreaction: 78.5 K\n",
      "lifetime: 3.2e+26  T(z = 17) w/o backreaction: 48.2 K\n",
      "lifetime: 5.6e+26  T(z = 17) w/o backreaction: 30.5 K\n",
      "lifetime: 1.0e+27  T(z = 17) w/o backreaction: 20.3 K\n",
      "lifetime: 1.8e+27  T(z = 17) w/o backreaction: 14.5 K\n",
      "****** log10(mDM):  7.76  ******\n",
      "lifetime: 1.0e+27  T(z = 17) w/o backreaction: 27.2 K\n",
      "lifetime: 1.8e+27  T(z = 17) w/o backreaction: 18.4 K\n",
      "****** log10(mDM):  8.01  ******\n",
      "lifetime: 1.0e+27  T(z = 17) w/o backreaction: 30.3 K\n",
      "lifetime: 1.8e+27  T(z = 17) w/o backreaction: 20.2 K\n",
      "****** log10(mDM):  8.26  ******\n",
      "lifetime: 1.0e+27  T(z = 17) w/o backreaction: 30.2 K\n",
      "lifetime: 1.8e+27  T(z = 17) w/o backreaction: 20.1 K\n",
      "****** log10(mDM):  8.51  ******\n",
      "lifetime: 1.0e+27  T(z = 17) w/o backreaction: 25.5 K\n",
      "lifetime: 1.8e+27  T(z = 17) w/o backreaction: 17.4 K\n",
      "****** log10(mDM):  8.76  ******\n",
      "lifetime: 1.0e+27  T(z = 17) w/o backreaction: 18.9 K\n",
      "lifetime: 5.6e+26  T(z = 17) w/o backreaction: 28.2 K\n",
      "****** log10(mDM):  9.01  ******\n",
      "lifetime: 1.0e+27  T(z = 17) w/o backreaction: 14.2 K\n",
      "lifetime: 5.6e+26  T(z = 17) w/o backreaction: 19.8 K\n",
      "lifetime: 3.2e+26  T(z = 17) w/o backreaction: 29.8 K\n",
      "****** log10(mDM):  9.26  ******\n",
      "lifetime: 5.6e+26  T(z = 17) w/o backreaction: 14.6 K\n",
      "lifetime: 3.2e+26  T(z = 17) w/o backreaction: 20.6 K\n",
      "****** log10(mDM):  9.51  ******\n",
      "lifetime: 5.6e+26  T(z = 17) w/o backreaction: 11.6 K\n",
      "lifetime: 3.2e+26  T(z = 17) w/o backreaction: 15.2 K\n",
      "lifetime: 1.8e+26  T(z = 17) w/o backreaction: 21.7 K\n",
      "****** log10(mDM):  9.76  ******\n",
      "lifetime: 3.2e+26  T(z = 17) w/o backreaction: 12.0 K\n",
      "lifetime: 1.8e+26  T(z = 17) w/o backreaction: 15.9 K\n",
      "lifetime: 1.0e+26  T(z = 17) w/o backreaction: 22.8 K\n",
      "****** log10(mDM):  10.01  ******\n",
      "lifetime: 1.8e+26  T(z = 17) w/o backreaction: 12.4 K\n",
      "lifetime: 1.0e+26  T(z = 17) w/o backreaction: 16.6 K\n",
      "lifetime: 5.6e+25  T(z = 17) w/o backreaction: 24.0 K\n",
      "****** log10(mDM):  10.26  ******\n",
      "lifetime: 1.0e+26  T(z = 17) w/o backreaction: 12.9 K\n",
      "lifetime: 5.6e+25  T(z = 17) w/o backreaction: 17.6 K\n",
      "lifetime: 3.2e+25  T(z = 17) w/o backreaction: 25.7 K\n",
      "****** log10(mDM):  10.51  ******\n",
      "lifetime: 5.6e+25  T(z = 17) w/o backreaction: 13.8 K\n",
      "lifetime: 3.2e+25  T(z = 17) w/o backreaction: 19.1 K\n",
      "lifetime: 1.8e+25  T(z = 17) w/o backreaction: 28.1 K\n",
      "****** log10(mDM):  10.76  ******\n",
      "lifetime: 3.2e+25  T(z = 17) w/o backreaction: 15.8 K\n",
      "lifetime: 1.8e+25  T(z = 17) w/o backreaction: 22.5 K\n",
      "****** log10(mDM):  11.01  ******\n",
      "lifetime: 3.2e+25  T(z = 17) w/o backreaction: 13.4 K\n",
      "lifetime: 1.8e+25  T(z = 17) w/o backreaction: 18.4 K\n",
      "lifetime: 1.0e+25  T(z = 17) w/o backreaction: 26.9 K\n",
      "****** log10(mDM):  11.26  ******\n",
      "lifetime: 1.8e+25  T(z = 17) w/o backreaction: 15.0 K\n",
      "lifetime: 1.0e+25  T(z = 17) w/o backreaction: 21.1 K\n",
      "****** log10(mDM):  11.51  ******\n",
      "lifetime: 1.8e+25  T(z = 17) w/o backreaction: 12.3 K\n",
      "lifetime: 1.0e+25  T(z = 17) w/o backreaction: 16.4 K\n",
      "lifetime: 5.6e+24  T(z = 17) w/o backreaction: 23.5 K\n",
      "****** log10(mDM):  11.76  ******\n",
      "lifetime: 1.0e+25  T(z = 17) w/o backreaction: 13.1 K\n",
      "lifetime: 5.6e+24  T(z = 17) w/o backreaction: 17.7 K\n",
      "lifetime: 3.2e+24  T(z = 17) w/o backreaction: 25.6 K\n",
      "****** log10(mDM):  12.01  ******\n",
      "lifetime: 5.6e+24  T(z = 17) w/o backreaction: 13.9 K\n",
      "lifetime: 3.2e+24  T(z = 17) w/o backreaction: 19.0 K\n",
      "lifetime: 1.8e+24  T(z = 17) w/o backreaction: 27.7 K\n",
      "****** log10(mDM):  12.26  ******\n",
      "lifetime: 3.2e+24  T(z = 17) w/o backreaction: 15.2 K\n",
      "lifetime: 1.8e+24  T(z = 17) w/o backreaction: 20.8 K\n",
      "###### Calculation Complete! ######\n"
     ]
    }
   ],
   "source": [
    "%autoreload\n",
    "print('###### Target Temperature: {:03.1f} K'.format(Tm_max), ' ######')\n",
    "\n",
    "pri='elec'\n",
    "for i, log10mDM in enumerate(tqdm(log10_m_chi_arr)):\n",
    "    \n",
    "    print('****** log10(mDM): ', log10mDM, ' ******')\n",
    "    mDM = 10**log10mDM\n",
    "    \n",
    "    below_target = False\n",
    "    above_target = False\n",
    "    if i==0:\n",
    "        j = 8\n",
    "    \n",
    "    while (\n",
    "        not below_target or not above_target\n",
    "    ):\n",
    "\n",
    "#         print('****************************')\n",
    "        tau = 10**log10_tau_arr[j]\n",
    "        \n",
    "        Tm_dec_no_br[i,j] = get_T_decay(mDM, tau, br=False, pri=pri)\n",
    "        print('lifetime: {:03.1e}'.format(tau), ' T(z = 17) w/o backreaction: {:03.1f} K'.format(Tm_dec_no_br[i,j]))\n",
    "             \n",
    "        if Tm_dec_no_br[i,j] <= Tm_max:\n",
    "            \n",
    "            below_target = True\n",
    "            # Below target T_m means we need a shorter lifetime.\n",
    "            j -= 1\n",
    "            \n",
    "        elif Tm_dec_no_br[i,j] >= Tm_max:\n",
    "            \n",
    "            above_target = True\n",
    "            # Above target T_m means we need a longer lifetime. \n",
    "            j += 1\n",
    "            \n",
    "        \n",
    "#         print('****************************')\n",
    "\n",
    "print('###### Calculation Complete! ######')\n",
    "\n",
    "            "
   ]
  },
  {
   "cell_type": "markdown",
   "metadata": {},
   "source": [
    "Having obtained an (incomplete) list of temperature values, we write a simple function to perform a linear interpolation at each mass point to obtain the limit on the minimum lifetime, and then compute it in `min_lifetime_no_br`. "
   ]
  },
  {
   "cell_type": "code",
   "execution_count": 61,
   "metadata": {},
   "outputs": [],
   "source": [
    "def get_log10_min_lifetime(log10_lifetime_arr, Tm_arr, max_Tm):\n",
    "    \"\"\"Returns the log10 minimum lifetime from temperature calculations.\n",
    "    \n",
    "    Parameters\n",
    "    ----------\n",
    "    log10_lifetime_arr : ndarray\n",
    "        Abscissa of log10 lifetimes used, in increasing order.\n",
    "    Tm_arr : ndarray\n",
    "        Computed matter temperature for each entry in lifetime_arr. \n",
    "    max_Tm : float\n",
    "        The maximum Tm allowed at this point. \n",
    "        \n",
    "    Returns\n",
    "    -------\n",
    "    ndarray\n",
    "        The interpolated minimum lifetime. \n",
    "    \n",
    "    \"\"\"\n",
    "    # Find the last index at which we have Tm > max_Tm in Tm_arr. \n",
    "    above = np.where((Tm_arr > 0) & (Tm_arr > max_Tm))[0][-1]\n",
    "    # Since increasing lifetime decreases Tm, the next index must\n",
    "    # lie below max_Tm.\n",
    "    below = above+1\n",
    "    \n",
    "    # Obtain the two temperature values. \n",
    "    Ts = [Tm_arr[below], Tm_arr[above]]\n",
    "    # Obtain the two log10 lifetime values. \n",
    "    log10_taus = [log10_lifetime_arr[below], log10_lifetime_arr[above]]\n",
    "    \n",
    "    # Perform a linear interpolation.\n",
    "    return (np.diff(log10_taus)/np.diff(Ts)*(max_Tm-Ts[0]) + log10_taus[0])[0]\n",
    "\n",
    "min_lifetime_no_br = np.array(\n",
    "    [get_log10_min_lifetime(log10_tau_arr, row, Tm_max) for row in Tm_dec_no_br]\n",
    ")"
   ]
  },
  {
   "cell_type": "markdown",
   "metadata": {},
   "source": [
    "Let's just make a simple plot to make sure we understand what we have."
   ]
  },
  {
   "cell_type": "code",
   "execution_count": 62,
   "metadata": {},
   "outputs": [
    {
     "data": {
      "text/plain": [
       "Text(0.5, 0, 'Dark Matter Mass $m_\\\\chi$ [eV]')"
      ]
     },
     "execution_count": 62,
     "metadata": {},
     "output_type": "execute_result"
    },
    {
     "data": {
      "image/png": "[encoded data removed]",
      "text/plain": [
       "<Figure size 620x620 with 1 Axes>"
      ]
     },
     "metadata": {},
     "output_type": "display_data"
    }
   ],
   "source": [
    "plt.figure()\n",
    "\n",
    "plt.loglog()\n",
    "\n",
    "plt.plot(10**log10_m_chi_arr, 10**min_lifetime_no_br)\n",
    "\n",
    "plt.title(r'$\\chi \\to \\gamma \\gamma$ Limits, $T_{21} = -50$ mK')\n",
    "plt.ylabel(r'Minimum Decay Lifetime $\\tau$ [s]')\n",
    "plt.xlabel(r'Dark Matter Mass $m_\\chi$ [eV]')"
   ]
  },
  {
   "cell_type": "markdown",
   "metadata": {},
   "source": [
    "Let's do this now with backreaction. The backreaction calculation can be initialized using the $\\tau$ value obtained without backreaction as an initial guess. That significantly narrows down the amount of scanning that needs to be done. Otherwise, it works in the same way as before, but it takes longer because the code needs to compute all of the spectra at each step. \n",
    "\n",
    "When using *main.evolve* for the first time, the code will take some time to load all of the transfer functions required to perform this calculation."
   ]
  },
  {
   "cell_type": "code",
   "execution_count": 10,
   "metadata": {
    "collapsed": true
   },
   "outputs": [
    {
     "name": "stdout",
     "output_type": "stream",
     "text": [
      "###### Target Temperature: 20.3 K  ######\n"
     ]
    },
    {
     "data": {
      "application/vnd.jupyter.widget-view+json": {
       "model_id": "5c8abc6146f9450fbc4a97526f2ba71c",
       "version_major": 2,
       "version_minor": 0
      },
      "text/plain": [
       "HBox(children=(IntProgress(value=0, max=35), HTML(value='')))"
      ]
     },
     "metadata": {},
     "output_type": "display_data"
    },
    {
     "name": "stdout",
     "output_type": "stream",
     "text": [
      "****** log10(mDM):  4.1  ******\n",
      "****** Loading transfer functions... ******\n",
      "    for propagating photons...   Done!\n",
      "    for low-energy photons...  Done!\n",
      "    for low-energy electrons...  Done!\n",
      "    for high-energy deposition...  Done!\n",
      "    for total upscattered CMB energy rate...  Done!\n",
      "****** Loading complete! ******\n",
      "****** Loading transfer functions... ******\n",
      "    for inverse Compton (Thomson)...  Done!\n",
      "    for inverse Compton (relativistic)...  Done!\n",
      "    for inverse Compton (energy loss)...  Done!\n",
      "****** Loading complete! ******\n"
     ]
    },
    {
     "data": {
      "application/vnd.jupyter.widget-view+json": {
       "model_id": "aa6ba86331a74b4391d5f9431cdf647f",
       "version_major": 2,
       "version_minor": 0
      },
      "text/plain": [
       "HBox(children=(IntProgress(value=0, max=1279), HTML(value='')))"
      ]
     },
     "metadata": {},
     "output_type": "display_data"
    },
    {
     "name": "stdout",
     "output_type": "stream",
     "text": [
      "lifetime: 1.8e+26  T(z = 17) w/o backreaction: 22.0 K\n"
     ]
    },
    {
     "data": {
      "application/vnd.jupyter.widget-view+json": {
       "model_id": "463518bc14954d7a827c9d495145b1ec",
       "version_major": 2,
       "version_minor": 0
      },
      "text/plain": [
       "HBox(children=(IntProgress(value=0, max=1279), HTML(value='')))"
      ]
     },
     "metadata": {},
     "output_type": "display_data"
    },
    {
     "name": "stdout",
     "output_type": "stream",
     "text": [
      "lifetime: 3.2e+26  T(z = 17) w/o backreaction: 15.1 K\n",
      "****** log10(mDM):  4.35  ******\n"
     ]
    },
    {
     "data": {
      "application/vnd.jupyter.widget-view+json": {
       "model_id": "d26b1a62c6444b44babfd257446a9804",
       "version_major": 2,
       "version_minor": 0
      },
      "text/plain": [
       "HBox(children=(IntProgress(value=0, max=1279), HTML(value='')))"
      ]
     },
     "metadata": {},
     "output_type": "display_data"
    },
    {
     "ename": "KeyboardInterrupt",
     "evalue": "",
     "output_type": "error",
     "traceback": [
      "\u001b[0;31m---------------------------------------------------------------------------\u001b[0m",
      "\u001b[0;31mKeyboardInterrupt\u001b[0m                         Traceback (most recent call last)",
      "\u001b[0;32m<ipython-input-10-1efc5989fb14>\u001b[0m in \u001b[0;36m<module>\u001b[0;34m\u001b[0m\n\u001b[1;32m     19\u001b[0m         \u001b[0mtau\u001b[0m \u001b[0;34m=\u001b[0m \u001b[0;36m10\u001b[0m\u001b[0;34m**\u001b[0m\u001b[0mlog10_tau_arr\u001b[0m\u001b[0;34m[\u001b[0m\u001b[0mj\u001b[0m\u001b[0;34m]\u001b[0m\u001b[0;34m\u001b[0m\u001b[0;34m\u001b[0m\u001b[0m\n\u001b[1;32m     20\u001b[0m \u001b[0;34m\u001b[0m\u001b[0m\n\u001b[0;32m---> 21\u001b[0;31m         \u001b[0mTm_dec_br\u001b[0m\u001b[0;34m[\u001b[0m\u001b[0mi\u001b[0m\u001b[0;34m,\u001b[0m\u001b[0mj\u001b[0m\u001b[0;34m]\u001b[0m \u001b[0;34m=\u001b[0m \u001b[0mget_T_decay\u001b[0m\u001b[0;34m(\u001b[0m\u001b[0mmDM\u001b[0m\u001b[0;34m,\u001b[0m \u001b[0mtau\u001b[0m\u001b[0;34m,\u001b[0m \u001b[0mbr\u001b[0m\u001b[0;34m=\u001b[0m\u001b[0;32mTrue\u001b[0m\u001b[0;34m,\u001b[0m \u001b[0mpri\u001b[0m\u001b[0;34m=\u001b[0m\u001b[0;34m'phot'\u001b[0m\u001b[0;34m)\u001b[0m\u001b[0;34m\u001b[0m\u001b[0;34m\u001b[0m\u001b[0m\n\u001b[0m\u001b[1;32m     22\u001b[0m         \u001b[0mprint\u001b[0m\u001b[0;34m(\u001b[0m\u001b[0;34m'lifetime: {:03.1e}'\u001b[0m\u001b[0;34m.\u001b[0m\u001b[0mformat\u001b[0m\u001b[0;34m(\u001b[0m\u001b[0mtau\u001b[0m\u001b[0;34m)\u001b[0m\u001b[0;34m,\u001b[0m \u001b[0;34m' T(z = 17) w/o backreaction: {:03.1f} K'\u001b[0m\u001b[0;34m.\u001b[0m\u001b[0mformat\u001b[0m\u001b[0;34m(\u001b[0m\u001b[0mTm_dec_br\u001b[0m\u001b[0;34m[\u001b[0m\u001b[0mi\u001b[0m\u001b[0;34m,\u001b[0m\u001b[0mj\u001b[0m\u001b[0;34m]\u001b[0m\u001b[0;34m)\u001b[0m\u001b[0;34m)\u001b[0m\u001b[0;34m\u001b[0m\u001b[0;34m\u001b[0m\u001b[0m\n\u001b[1;32m     23\u001b[0m \u001b[0;34m\u001b[0m\u001b[0m\n",
      "\u001b[0;32m<ipython-input-5-51fe7c129ed2>\u001b[0m in \u001b[0;36mget_T_decay\u001b[0;34m(mDM, tau, br, pri)\u001b[0m\n\u001b[1;32m     33\u001b[0m             \u001b[0mDM_process\u001b[0m\u001b[0;34m=\u001b[0m\u001b[0;34m'decay'\u001b[0m\u001b[0;34m,\u001b[0m \u001b[0mmDM\u001b[0m\u001b[0;34m=\u001b[0m\u001b[0mmDM\u001b[0m\u001b[0;34m,\u001b[0m \u001b[0mlifetime\u001b[0m\u001b[0;34m=\u001b[0m\u001b[0mtau\u001b[0m\u001b[0;34m,\u001b[0m\u001b[0;34m\u001b[0m\u001b[0;34m\u001b[0m\u001b[0m\n\u001b[1;32m     34\u001b[0m             \u001b[0mstart_rs\u001b[0m \u001b[0;34m=\u001b[0m \u001b[0;36m3000\u001b[0m\u001b[0;34m,\u001b[0m \u001b[0mend_rs\u001b[0m\u001b[0;34m=\u001b[0m\u001b[0;36m18\u001b[0m\u001b[0;34m,\u001b[0m\u001b[0;34m\u001b[0m\u001b[0;34m\u001b[0m\u001b[0m\n\u001b[0;32m---> 35\u001b[0;31m             \u001b[0mcoarsen_factor\u001b[0m\u001b[0;34m=\u001b[0m\u001b[0mcf\u001b[0m\u001b[0;34m,\u001b[0m \u001b[0mbackreaction\u001b[0m\u001b[0;34m=\u001b[0m\u001b[0;32mTrue\u001b[0m\u001b[0;34m\u001b[0m\u001b[0;34m\u001b[0m\u001b[0m\n\u001b[0m\u001b[1;32m     36\u001b[0m         )\n\u001b[1;32m     37\u001b[0m \u001b[0;34m\u001b[0m\u001b[0m\n",
      "\u001b[0;32m~/Desktop/DM/DH/DarkHistory/main.py\u001b[0m in \u001b[0;36mevolve\u001b[0;34m(in_spec_elec, in_spec_phot, rate_func_N, rate_func_eng, DM_process, mDM, sigmav, lifetime, primary, struct_boost, start_rs, end_rs, helium_TLA, reion_switch, reion_rs, photoion_rate_func, photoheat_rate_func, xe_reion_func, init_cond, coarsen_factor, backreaction, compute_fs_method, mxstep, rtol, use_tqdm)\u001b[0m\n\u001b[1;32m    547\u001b[0m             get_tf(\n\u001b[1;32m    548\u001b[0m                 \u001b[0mrs\u001b[0m\u001b[0;34m,\u001b[0m \u001b[0mxHII_to_interp\u001b[0m\u001b[0;34m,\u001b[0m \u001b[0mxHeII_to_interp\u001b[0m\u001b[0;34m,\u001b[0m\u001b[0;34m\u001b[0m\u001b[0;34m\u001b[0m\u001b[0m\n\u001b[0;32m--> 549\u001b[0;31m                 \u001b[0mdlnz\u001b[0m\u001b[0;34m,\u001b[0m \u001b[0mcoarsen_factor\u001b[0m\u001b[0;34m=\u001b[0m\u001b[0mcoarsen_factor\u001b[0m\u001b[0;34m\u001b[0m\u001b[0;34m\u001b[0m\u001b[0m\n\u001b[0m\u001b[1;32m    550\u001b[0m             )\n\u001b[1;32m    551\u001b[0m         )\n",
      "\u001b[0;32m~/Desktop/DM/DH/DarkHistory/main.py\u001b[0m in \u001b[0;36mget_tf\u001b[0;34m(rs, xHII, xHeII, dlnz, coarsen_factor)\u001b[0m\n\u001b[1;32m    762\u001b[0m     )\n\u001b[1;32m    763\u001b[0m     lowengelec_tf  = lowengelec_tf_interp.get_tf(\n\u001b[0;32m--> 764\u001b[0;31m         \u001b[0mxHII\u001b[0m\u001b[0;34m,\u001b[0m \u001b[0mxHeII\u001b[0m\u001b[0;34m,\u001b[0m \u001b[0mrs_to_interpolate\u001b[0m\u001b[0;34m\u001b[0m\u001b[0;34m\u001b[0m\u001b[0m\n\u001b[0m\u001b[1;32m    765\u001b[0m     )\n\u001b[1;32m    766\u001b[0m     highengdep_arr = highengdep_interp.get_val(\n",
      "\u001b[0;32m~/Desktop/DM/DH/DarkHistory/darkhistory/spec/transferfunclist.py\u001b[0m in \u001b[0;36mget_tf\u001b[0;34m(self, xH, xHe, rs)\u001b[0m\n\u001b[1;32m    672\u001b[0m         \u001b[0;32mif\u001b[0m \u001b[0mself\u001b[0m\u001b[0;34m.\u001b[0m\u001b[0mgrid_vals\u001b[0m\u001b[0;34m[\u001b[0m\u001b[0mrs_regime_ind\u001b[0m\u001b[0;34m]\u001b[0m\u001b[0;34m.\u001b[0m\u001b[0mndim\u001b[0m \u001b[0;34m==\u001b[0m \u001b[0;36m3\u001b[0m\u001b[0;34m:\u001b[0m\u001b[0;34m\u001b[0m\u001b[0;34m\u001b[0m\u001b[0m\n\u001b[1;32m    673\u001b[0m             out_grid_vals = inv_func(\n\u001b[0;32m--> 674\u001b[0;31m                 \u001b[0mnp\u001b[0m\u001b[0;34m.\u001b[0m\u001b[0msqueeze\u001b[0m\u001b[0;34m(\u001b[0m\u001b[0mrs_regime_interp_func\u001b[0m\u001b[0;34m(\u001b[0m\u001b[0mfunc\u001b[0m\u001b[0;34m(\u001b[0m\u001b[0mrs\u001b[0m\u001b[0;34m)\u001b[0m\u001b[0;34m)\u001b[0m\u001b[0;34m)\u001b[0m\u001b[0;34m\u001b[0m\u001b[0;34m\u001b[0m\u001b[0m\n\u001b[0m\u001b[1;32m    675\u001b[0m             )\n\u001b[1;32m    676\u001b[0m         \u001b[0;32melif\u001b[0m \u001b[0mself\u001b[0m\u001b[0;34m.\u001b[0m\u001b[0mgrid_vals\u001b[0m\u001b[0;34m[\u001b[0m\u001b[0mrs_regime_ind\u001b[0m\u001b[0;34m]\u001b[0m\u001b[0;34m.\u001b[0m\u001b[0mndim\u001b[0m \u001b[0;34m==\u001b[0m \u001b[0;36m4\u001b[0m\u001b[0;34m:\u001b[0m\u001b[0;34m\u001b[0m\u001b[0;34m\u001b[0m\u001b[0m\n",
      "\u001b[0;32m/usr/local/lib/python3.7/site-packages/scipy/interpolate/polyint.py\u001b[0m in \u001b[0;36m__call__\u001b[0;34m(self, x)\u001b[0m\n\u001b[1;32m     77\u001b[0m         \"\"\"\n\u001b[1;32m     78\u001b[0m         \u001b[0mx\u001b[0m\u001b[0;34m,\u001b[0m \u001b[0mx_shape\u001b[0m \u001b[0;34m=\u001b[0m \u001b[0mself\u001b[0m\u001b[0;34m.\u001b[0m\u001b[0m_prepare_x\u001b[0m\u001b[0;34m(\u001b[0m\u001b[0mx\u001b[0m\u001b[0;34m)\u001b[0m\u001b[0;34m\u001b[0m\u001b[0;34m\u001b[0m\u001b[0m\n\u001b[0;32m---> 79\u001b[0;31m         \u001b[0my\u001b[0m \u001b[0;34m=\u001b[0m \u001b[0mself\u001b[0m\u001b[0;34m.\u001b[0m\u001b[0m_evaluate\u001b[0m\u001b[0;34m(\u001b[0m\u001b[0mx\u001b[0m\u001b[0;34m)\u001b[0m\u001b[0;34m\u001b[0m\u001b[0;34m\u001b[0m\u001b[0m\n\u001b[0m\u001b[1;32m     80\u001b[0m         \u001b[0;32mreturn\u001b[0m \u001b[0mself\u001b[0m\u001b[0;34m.\u001b[0m\u001b[0m_finish_y\u001b[0m\u001b[0;34m(\u001b[0m\u001b[0my\u001b[0m\u001b[0;34m,\u001b[0m \u001b[0mx_shape\u001b[0m\u001b[0;34m)\u001b[0m\u001b[0;34m\u001b[0m\u001b[0;34m\u001b[0m\u001b[0m\n\u001b[1;32m     81\u001b[0m \u001b[0;34m\u001b[0m\u001b[0m\n",
      "\u001b[0;32m/usr/local/lib/python3.7/site-packages/scipy/interpolate/interpolate.py\u001b[0m in \u001b[0;36m_evaluate\u001b[0;34m(self, x_new)\u001b[0m\n\u001b[1;32m    660\u001b[0m         \u001b[0;31m#    The behavior is set by the bounds_error variable.\u001b[0m\u001b[0;34m\u001b[0m\u001b[0;34m\u001b[0m\u001b[0;34m\u001b[0m\u001b[0m\n\u001b[1;32m    661\u001b[0m         \u001b[0mx_new\u001b[0m \u001b[0;34m=\u001b[0m \u001b[0masarray\u001b[0m\u001b[0;34m(\u001b[0m\u001b[0mx_new\u001b[0m\u001b[0;34m)\u001b[0m\u001b[0;34m\u001b[0m\u001b[0;34m\u001b[0m\u001b[0m\n\u001b[0;32m--> 662\u001b[0;31m         \u001b[0my_new\u001b[0m \u001b[0;34m=\u001b[0m \u001b[0mself\u001b[0m\u001b[0;34m.\u001b[0m\u001b[0m_call\u001b[0m\u001b[0;34m(\u001b[0m\u001b[0mself\u001b[0m\u001b[0;34m,\u001b[0m \u001b[0mx_new\u001b[0m\u001b[0;34m)\u001b[0m\u001b[0;34m\u001b[0m\u001b[0;34m\u001b[0m\u001b[0m\n\u001b[0m\u001b[1;32m    663\u001b[0m         \u001b[0;32mif\u001b[0m \u001b[0;32mnot\u001b[0m \u001b[0mself\u001b[0m\u001b[0;34m.\u001b[0m\u001b[0m_extrapolate\u001b[0m\u001b[0;34m:\u001b[0m\u001b[0;34m\u001b[0m\u001b[0;34m\u001b[0m\u001b[0m\n\u001b[1;32m    664\u001b[0m             \u001b[0mbelow_bounds\u001b[0m\u001b[0;34m,\u001b[0m \u001b[0mabove_bounds\u001b[0m \u001b[0;34m=\u001b[0m \u001b[0mself\u001b[0m\u001b[0;34m.\u001b[0m\u001b[0m_check_bounds\u001b[0m\u001b[0;34m(\u001b[0m\u001b[0mx_new\u001b[0m\u001b[0;34m)\u001b[0m\u001b[0;34m\u001b[0m\u001b[0;34m\u001b[0m\u001b[0m\n",
      "\u001b[0;32m/usr/local/lib/python3.7/site-packages/scipy/interpolate/interpolate.py\u001b[0m in \u001b[0;36m_call_linear\u001b[0;34m(self, x_new)\u001b[0m\n\u001b[1;32m    604\u001b[0m         \u001b[0mx_hi\u001b[0m \u001b[0;34m=\u001b[0m \u001b[0mself\u001b[0m\u001b[0;34m.\u001b[0m\u001b[0mx\u001b[0m\u001b[0;34m[\u001b[0m\u001b[0mhi\u001b[0m\u001b[0;34m]\u001b[0m\u001b[0;34m\u001b[0m\u001b[0;34m\u001b[0m\u001b[0m\n\u001b[1;32m    605\u001b[0m         \u001b[0my_lo\u001b[0m \u001b[0;34m=\u001b[0m \u001b[0mself\u001b[0m\u001b[0;34m.\u001b[0m\u001b[0m_y\u001b[0m\u001b[0;34m[\u001b[0m\u001b[0mlo\u001b[0m\u001b[0;34m]\u001b[0m\u001b[0;34m\u001b[0m\u001b[0;34m\u001b[0m\u001b[0m\n\u001b[0;32m--> 606\u001b[0;31m         \u001b[0my_hi\u001b[0m \u001b[0;34m=\u001b[0m \u001b[0mself\u001b[0m\u001b[0;34m.\u001b[0m\u001b[0m_y\u001b[0m\u001b[0;34m[\u001b[0m\u001b[0mhi\u001b[0m\u001b[0;34m]\u001b[0m\u001b[0;34m\u001b[0m\u001b[0;34m\u001b[0m\u001b[0m\n\u001b[0m\u001b[1;32m    607\u001b[0m \u001b[0;34m\u001b[0m\u001b[0m\n\u001b[1;32m    608\u001b[0m         \u001b[0;31m# Note that the following two expressions rely on the specifics of the\u001b[0m\u001b[0;34m\u001b[0m\u001b[0;34m\u001b[0m\u001b[0;34m\u001b[0m\u001b[0m\n",
      "\u001b[0;31mKeyboardInterrupt\u001b[0m: "
     ]
    }
   ],
   "source": [
    "print('###### Target Temperature: {:03.1f} K'.format(Tm_max), ' ######')\n",
    "\n",
    "for i, log10mDM in enumerate(tqdm(log10_m_chi_arr)):\n",
    "    \n",
    "    print('****** log10(mDM): ', log10mDM, ' ******')\n",
    "    mDM = 10**log10mDM\n",
    "    \n",
    "    below_target = False\n",
    "    above_target = False\n",
    "    \n",
    "    # Get the estimate from min_lifetime_no_br\n",
    "    j = np.where(log10_tau_arr > min_lifetime_no_br[i])[0][0]\n",
    "    \n",
    "    while (\n",
    "        not below_target or not above_target\n",
    "    ):\n",
    "\n",
    "#         print('****************************')\n",
    "        tau = 10**log10_tau_arr[j]\n",
    "        \n",
    "        Tm_dec_br[i,j] = get_T_decay(mDM, tau, br=True, pri='phot')\n",
    "        print('lifetime: {:03.1e}'.format(tau), ' T(z = 17) w/o backreaction: {:03.1f} K'.format(Tm_dec_br[i,j]))\n",
    "             \n",
    "        if Tm_dec_br[i,j] <= Tm_max:\n",
    "            \n",
    "            below_target = True\n",
    "            # Below target T_m means we need a shorter lifetime.\n",
    "            j -= 1\n",
    "            \n",
    "        elif Tm_dec_br[i,j] >= Tm_max:\n",
    "            \n",
    "            above_target = True\n",
    "            # Above target T_m means we need a longer lifetime. \n",
    "            j += 1\n",
    "            \n",
    "        \n",
    "#         print('****************************')\n",
    "\n",
    "print('###### Calculation Complete! ######')\n"
   ]
  },
  {
   "cell_type": "markdown",
   "metadata": {},
   "source": [
    "### Annihilating Dark Matter"
   ]
  },
  {
   "cell_type": "markdown",
   "metadata": {},
   "source": [
    "Annihilating dark matter sensitivity can also be evaluated in a very similar manner. The only difference here is that structure formation now boosts the annihilation rate at late times. We can load one of DarkHistory's default structure formation boost factors that can be obtained using the function [*physics.struct_boost_func*](https://darkhistory.readthedocs.io/en/master/_autosummary/darkhistory/physics/darkhistory.physics.struct_boost_func.html). The first thing we need to do is obtain the function that returns the boost: "
   ]
  },
  {
   "cell_type": "code",
   "execution_count": 220,
   "metadata": {},
   "outputs": [],
   "source": [
    "struct_boost_einasto_subs = phys.struct_boost_func('einasto_with_subs')"
   ]
  },
  {
   "cell_type": "markdown",
   "metadata": {},
   "source": [
    "We can now define the analogous *get_T_swave* function with this structure formation prescription included with the keyword *struct_boost* passed to [*main.evolve*](https://darkhistory.readthedocs.io/en/master/_autosummary/main/main.evolve.html):"
   ]
  },
  {
   "cell_type": "code",
   "execution_count": 221,
   "metadata": {},
   "outputs": [],
   "source": [
    "%autoreload 2\n",
    "def get_T_swave(mDM, sigmav, br, pri):\n",
    "    \"\"\"Gets the temperature at z = 17, s-wave annihilation.\n",
    "    \n",
    "    Parameters\n",
    "    ----------\n",
    "    mDM : float\n",
    "        The mass of the dark matter in eV. \n",
    "    sigmav : float\n",
    "        The annihilation cross-section in cm^-3 s^-1.  \n",
    "    br : bool\n",
    "        Whether to use backreaction or not. \n",
    "    pri : {'elec', 'phot'}\n",
    "        The primary particles that DM decays to. \n",
    "        \n",
    "    Returns\n",
    "    --------\n",
    "    float\n",
    "        The temperature in K at z = 17. \n",
    "    \n",
    "    \"\"\"\n",
    "    \n",
    "    if pri == 'elec':\n",
    "        pri_str = 'elec_delta'\n",
    "        cf = 12\n",
    "    if pri == 'phot':\n",
    "        pri_str = 'phot_delta'\n",
    "        cf = 4\n",
    "        \n",
    "    if br:\n",
    "    \n",
    "        result = main.evolve(\n",
    "            primary=pri_str,\n",
    "            DM_process='swave', mDM=mDM, sigmav=sigmav,\n",
    "            start_rs = 3000, end_rs=18,\n",
    "            coarsen_factor=cf, backreaction=True,\n",
    "            struct_boost=struct_boost_einasto_subs\n",
    "        )\n",
    "        \n",
    "        return result['Tm'][-1]/phys.kB\n",
    "    \n",
    "    else:\n",
    "        # get_history takes a redshift vector \n",
    "        rs_vec = np.flipud(np.arange(18, 3000., 0.1))\n",
    "        \n",
    "        result = get_history(\n",
    "            rs_vec, baseline_f = True,\n",
    "            inj_particle = pri, DM_process = 'swave',\n",
    "            mDM=mDM, sigmav = sigmav,\n",
    "            struct_boost=None\n",
    "        )\n",
    "        \n",
    "        return result[-1,0]/phys.kB\n"
   ]
  },
  {
   "cell_type": "code",
   "execution_count": 217,
   "metadata": {},
   "outputs": [
    {
     "data": {
      "application/vnd.jupyter.widget-view+json": {
       "model_id": "926864bfd0ff440697465272e8ceec44",
       "version_major": 2,
       "version_minor": 0
      },
      "text/plain": [
       "HBox(children=(IntProgress(value=0, max=427), HTML(value='')))"
      ]
     },
     "metadata": {},
     "output_type": "display_data"
    }
   ],
   "source": [
    "result3 = main.evolve(\n",
    "            primary='elec_delta',\n",
    "            DM_process='swave', mDM=5.001e3+phys.me, sigmav=3e-27*(5.001e3+phys.me)/10**9,\n",
    "            start_rs = 3000, end_rs=18,\n",
    "            coarsen_factor=12, backreaction=False,\n",
    "            struct_boost=struct_boost_einasto_subs\n",
    "        )"
   ]
  },
  {
   "cell_type": "code",
   "execution_count": 212,
   "metadata": {},
   "outputs": [],
   "source": [
    "rs_vec = result2['rs']\n",
    "result = get_history(\n",
    "            rs_vec, baseline_f = True,\n",
    "            inj_particle = 'elec', DM_process = 'swave',\n",
    "            mDM=5.001e3+phys.me, sigmav = 3e-27*(5.001e3+phys.me)/10**9,\n",
    "            struct_boost=None\n",
    "        )"
   ]
  },
  {
   "cell_type": "code",
   "execution_count": 218,
   "metadata": {
    "collapsed": true
   },
   "outputs": [
    {
     "data": {
      "text/plain": [
       "array([1.        , 1.        , 1.        , 1.        , 1.        ,\n",
       "       1.        , 1.        , 1.        , 1.        , 1.        ,\n",
       "       1.        , 1.        , 1.        , 1.        , 1.        ,\n",
       "       1.        , 1.        , 1.        , 1.        , 1.        ,\n",
       "       1.        , 1.        , 1.        , 1.        , 1.        ,\n",
       "       1.        , 1.        , 1.        , 1.        , 1.        ,\n",
       "       1.        , 1.        , 1.        , 1.        , 1.        ,\n",
       "       1.        , 1.        , 1.        , 1.        , 1.        ,\n",
       "       1.        , 1.        , 1.        , 1.        , 1.        ,\n",
       "       1.        , 1.        , 1.        , 1.        , 1.        ,\n",
       "       1.        , 1.        , 1.        , 1.        , 1.        ,\n",
       "       1.        , 1.        , 1.        , 1.        , 1.        ,\n",
       "       1.        , 1.        , 1.        , 1.        , 1.        ,\n",
       "       1.        , 1.        , 1.        , 1.        , 1.        ,\n",
       "       1.        , 1.        , 1.        , 1.        , 0.99999999,\n",
       "       0.99999999, 0.99999999, 0.99999999, 0.99999999, 0.99999999,\n",
       "       0.99999999, 0.99999999, 0.99999999, 1.        , 1.        ,\n",
       "       1.        , 1.        , 1.        , 1.00000001, 1.00000001,\n",
       "       1.00000002, 1.00000003, 1.00000004, 1.00000005, 1.00000006,\n",
       "       1.00000008, 1.00000009, 1.00000012, 1.00000015, 1.00000018,\n",
       "       1.00000022, 1.00000023, 1.00000023, 1.00000033, 1.00000042,\n",
       "       1.00000051, 1.00000063, 1.00000078, 1.0000009 , 1.00000103,\n",
       "       1.00000124, 1.00000147, 1.00000172, 1.0000019 , 1.0000021 ,\n",
       "       1.00000246, 1.00000289, 1.00000073, 1.00003145, 0.99999514,\n",
       "       1.00001747, 1.00002   , 0.99999944, 1.00001149, 1.00001743,\n",
       "       0.99999809, 1.00001968, 1.00001834, 1.00001522, 0.99999017,\n",
       "       1.00000191, 1.00001135, 1.00000999, 1.00001204, 1.0000033 ,\n",
       "       1.00000897, 1.00002139, 1.00000431, 1.00002653, 1.00000584,\n",
       "       1.00002412, 1.00000731, 1.00003618, 1.00001438, 1.00002686,\n",
       "       1.00001817, 1.00002496, 1.00002291, 1.00002478, 1.00002541,\n",
       "       1.00002635, 1.00002721, 1.00002808, 1.00002896, 1.0000299 ,\n",
       "       1.00003081, 1.00003167, 1.00003261, 1.00003358, 1.00003457,\n",
       "       1.00003558, 1.00003671, 1.00003775, 1.00003878, 1.00003983,\n",
       "       1.00004088, 1.00004194, 1.00004302, 1.00004413, 1.00004527,\n",
       "       1.00004644, 1.00004762, 1.00004877, 1.00004976, 1.00005069,\n",
       "       1.00005159, 1.00005247, 1.00005337, 1.00005427, 1.00005522,\n",
       "       1.00005622, 1.00005724, 1.00005831, 1.0000594 , 1.00006052,\n",
       "       1.00006168, 1.00006286, 1.00006406, 1.0000653 , 1.00006655,\n",
       "       1.00006787, 1.00006925, 1.00007069, 1.00007218, 1.00007371,\n",
       "       1.00007529, 1.00007691, 1.00007858, 1.00008028, 1.00008203,\n",
       "       1.00008381, 1.00008567, 1.00008761, 1.00008962, 1.00009169,\n",
       "       1.00009383, 1.00009603, 1.0000983 , 1.00010062, 1.00010301,\n",
       "       1.00010546, 1.00010797, 1.0001106 , 1.00011333, 1.00011617,\n",
       "       1.00011911, 1.00012215, 1.00012529, 1.00012853, 1.00013186,\n",
       "       1.00013529, 1.00013881, 1.00014242, 1.00014618, 1.00015007,\n",
       "       1.0001541 , 1.00015826, 1.00016257, 1.000167  , 1.00017157,\n",
       "       1.00017627, 1.00018111, 1.00018608, 1.00019117, 1.00019645,\n",
       "       1.0002019 , 1.00020753, 1.00021334, 1.00021933, 1.00022549,\n",
       "       1.00023184, 1.00023836, 1.00024506, 1.00025194, 1.000259  ,\n",
       "       1.00026628, 1.00027378, 1.00028152, 1.00028949, 1.00029768,\n",
       "       1.00030609, 1.00031473, 1.00032355, 1.00033255, 1.00034173,\n",
       "       1.00035109, 1.00036067, 1.00037048, 1.00038053, 1.0003908 ,\n",
       "       1.00040131, 1.00041206, 1.00042303, 1.00043423, 1.00044567,\n",
       "       1.00045733, 1.00046922, 1.00048137, 1.0004938 , 1.00050651,\n",
       "       1.00051949, 1.00053274, 1.00054626, 1.00056005, 1.0005741 ,\n",
       "       1.00058842, 1.000603  , 1.00061784, 1.00063297, 1.00064841,\n",
       "       1.00066415, 1.0006802 , 1.00069654, 1.00071317, 1.0007301 ,\n",
       "       1.00074732, 1.00076482, 1.0007826 , 1.00080066, 1.00081903,\n",
       "       1.00083772, 1.00085673, 1.00087606, 1.0008957 , 1.00091564,\n",
       "       1.00093589, 1.00095643, 1.00097727, 1.0009984 , 1.0010198 ,\n",
       "       1.00104152, 1.00106356, 1.00108593, 1.00110862, 1.00113162,\n",
       "       1.00115492, 1.00117853, 1.00120243, 1.00122662, 1.0012511 ,\n",
       "       1.00127585, 1.00130091, 1.00132629, 1.00135199, 1.001378  ,\n",
       "       1.00140431, 1.00143093, 1.00145783, 1.00148502, 1.0015125 ,\n",
       "       1.00154024, 1.00156825, 1.00159655, 1.00162516, 1.00165407,\n",
       "       1.00168328, 1.00171279, 1.00174258, 1.00177264, 1.00180298,\n",
       "       1.00183358, 1.00186444, 1.00189555, 1.00192693, 1.0019586 ,\n",
       "       1.00199059, 1.00202289, 1.00205551, 1.00208843, 1.0021217 ,\n",
       "       1.00215583, 1.00219104, 1.00222759, 1.00226582, 1.00230612,\n",
       "       1.00234834, 1.00239279, 1.00243979, 1.00248974, 1.00254308,\n",
       "       1.00259975, 1.00266001, 1.00272426, 1.00279294, 1.00286654,\n",
       "       1.00294551, 1.00303002, 1.00312056, 1.0032177 , 1.00332203,\n",
       "       1.00343423, 1.00355489, 1.00368388, 1.00382219, 1.00397055,\n",
       "       1.00412975, 1.0043007 , 1.00448438, 1.00468117, 1.00489174,\n",
       "       1.00511706, 1.00535813, 1.00561604, 1.00589195, 1.0061871 ,\n",
       "       1.00650204, 1.00683761, 1.00719509, 1.00757591, 1.00798145,\n",
       "       1.00841317, 1.00887262, 1.00936142, 1.00987962, 1.01042866,\n",
       "       1.01101004, 1.01162537, 1.01227524, 1.01296111, 1.01368471,\n",
       "       1.01444763, 1.01525151, 1.016098  , 1.01698878, 1.01792432,\n",
       "       1.01890516, 1.01993266, 1.02100819, 1.02213311, 1.02330884,\n",
       "       1.02453704, 1.0258182 , 1.02715182, 1.02853882, 1.02998007,\n",
       "       1.03147638, 1.03302848, 1.03463702, 1.03630214, 1.0380224 ,\n",
       "       1.03979824, 1.04163052, 1.04351956, 1.04546562, 1.04746897,\n",
       "       1.04952931, 1.05172174, 1.05398236, 1.0563105 , 1.0587053 ,\n",
       "       1.06109356, 1.06353381, 1.06602524, 1.06856451, 1.07115041,\n",
       "       1.07378159, 1.07645666])"
      ]
     },
     "execution_count": 218,
     "metadata": {},
     "output_type": "execute_result"
    }
   ],
   "source": [
    "result2['Tm']/result3['Tm']"
   ]
  },
  {
   "cell_type": "code",
   "execution_count": 216,
   "metadata": {
    "collapsed": true
   },
   "outputs": [
    {
     "data": {
      "text/plain": [
       "array([1.        , 0.99999998, 0.99999999, 0.99999999, 1.        ,\n",
       "       1.        , 1.        , 1.        , 1.        , 1.        ,\n",
       "       1.        , 1.        , 1.        , 1.        , 1.        ,\n",
       "       1.        , 1.        , 1.00000001, 1.00000001, 1.00000001,\n",
       "       1.00000001, 1.00000001, 1.00000001, 1.00000001, 1.00000001,\n",
       "       1.00000001, 1.00000001, 1.00000001, 1.00000001, 1.00000001,\n",
       "       1.00000001, 1.00000001, 1.00000001, 1.00000001, 1.00000001,\n",
       "       1.00000001, 1.00000001, 1.00000001, 1.        , 1.        ,\n",
       "       1.        , 1.        , 1.        , 1.        , 1.        ,\n",
       "       1.        , 1.        , 1.        , 1.        , 1.        ,\n",
       "       1.        , 1.        , 1.        , 1.        , 1.        ,\n",
       "       1.        , 1.        , 1.00000001, 1.00000001, 1.00000001,\n",
       "       1.00000001, 1.00000001, 1.00000001, 1.00000001, 1.00000002,\n",
       "       1.00000002, 1.00000002, 1.00000003, 1.00000003, 1.00000003,\n",
       "       1.00000004, 1.00000004, 1.00000005, 1.00000005, 1.00000006,\n",
       "       1.00000007, 1.00000008, 1.00000008, 1.00000011, 1.00000014,\n",
       "       1.00000017, 1.00000018, 1.00000017, 1.00000013, 1.00000009,\n",
       "       1.00000009, 1.00000011, 1.00000017, 1.00000028, 1.00000046,\n",
       "       1.00000065, 1.00000084, 1.00000096, 1.00000106, 1.00000106,\n",
       "       1.00000091, 1.00000086, 1.0000009 , 1.00000101, 1.0000012 ,\n",
       "       1.00000162, 1.00000245, 1.00000317, 1.00000469, 1.00000624,\n",
       "       1.0000082 , 1.00001071, 1.0000139 , 1.00001798, 1.00002327,\n",
       "       1.0000296 , 1.00003693, 1.0000447 , 1.00005265, 1.00005983,\n",
       "       1.00006517, 1.00006712, 1.00006249, 1.00005704, 1.00002664,\n",
       "       1.00001827, 0.99995824, 0.99990422, 0.99983575, 0.99973789,\n",
       "       0.99961378, 0.99948945, 0.99934712, 0.99916597, 0.99895483,\n",
       "       0.99876381, 0.99853894, 0.99828409, 0.99804652, 0.99778928,\n",
       "       0.99751852, 0.99725878, 0.99698643, 0.99674781, 0.99649694,\n",
       "       0.99628969, 0.99609262, 0.99594395, 0.99581771, 0.99576002,\n",
       "       0.99573914, 0.99579566, 0.99591803, 0.9961253 , 0.99642193,\n",
       "       0.99681854, 0.99732439, 0.99852296, 0.9996075 , 0.99992818,\n",
       "       1.00002825, 1.00006184, 1.00007452, 1.00008057, 1.00008442,\n",
       "       1.00008759, 1.0000906 , 1.0000935 , 1.00009642, 1.00009924,\n",
       "       1.00010194, 1.00010456, 1.00010699, 1.00010977, 1.00011343,\n",
       "       1.00011767, 1.00012223, 1.00012676, 1.0001309 , 1.00013476,\n",
       "       1.00014071, 1.0001462 , 1.00015082, 1.00015415, 1.00015616,\n",
       "       1.00014843, 1.00015826, 1.00016632, 1.00017249, 1.00017665,\n",
       "       1.00017865, 1.00017832, 1.00018132, 1.00018362, 1.00018515,\n",
       "       1.00018626, 1.00018707, 1.00018765, 1.00018802, 1.00018816,\n",
       "       1.00018804, 1.00018921, 1.00019142, 1.00019395, 1.00019675,\n",
       "       1.00019977, 1.00020331, 1.0002075 , 1.00021241, 1.00021804,\n",
       "       1.00022442, 1.00023146, 1.00023881, 1.00024669, 1.00025503,\n",
       "       1.00026375, 1.00027276, 1.00028235, 1.00029263, 1.00030368,\n",
       "       1.00031553, 1.00032821, 1.00034177, 1.00035589, 1.00036849,\n",
       "       1.00038137, 1.00039449, 1.00040784, 1.00042173, 1.00043636,\n",
       "       1.00045187, 1.00046841, 1.00048615, 1.00050521, 1.00052578,\n",
       "       1.00054802, 1.00057211, 1.00059763, 1.0006139 , 1.00062565,\n",
       "       1.00063668, 1.0006476 , 1.00065813, 1.00066923, 1.00068081,\n",
       "       1.00069134, 1.00070201, 1.00071339, 1.00072584, 1.00073978,\n",
       "       1.00075124, 1.00076157, 1.00077301, 1.00078621, 1.0008018 ,\n",
       "       1.00083525, 1.00083837, 1.00084499, 1.00085533, 1.00086963,\n",
       "       1.0008882 , 1.00090871, 1.00092437, 1.00094126, 1.00095945,\n",
       "       1.00097903, 1.00100014, 1.00102299, 1.00104783, 1.00107358,\n",
       "       1.00109459, 1.00111571, 1.0011373 , 1.00115973, 1.00118335,\n",
       "       1.00120855, 1.00123576, 1.0012655 , 1.00129556, 1.00131771,\n",
       "       1.00133983, 1.00136218, 1.00138513, 1.00140929, 1.00143529,\n",
       "       1.0014637 , 1.00149516, 1.00153039, 1.00156776, 1.00159771,\n",
       "       1.0016285 , 1.00166044, 1.00169389, 1.00172929, 1.00176733,\n",
       "       1.00180871, 1.00185408, 1.00189396, 1.00193041, 1.00196748,\n",
       "       1.00200545, 1.00204467, 1.00208555, 1.00212853, 1.00217413,\n",
       "       1.0022231 , 1.00227339, 1.00231553, 1.00235773, 1.00240015,\n",
       "       1.00244298, 1.00248649, 1.00253098, 1.00257679, 1.00262432,\n",
       "       1.00266888, 1.00271043, 1.00275222, 1.00279449, 1.00283755,\n",
       "       1.00288173, 1.00292743, 1.00297506, 1.00302509, 1.00307801,\n",
       "       1.00312108, 1.0031637 , 1.00320653, 1.00324997, 1.00329431,\n",
       "       1.00333986, 1.00338697, 1.00343602, 1.00348742, 1.00354162,\n",
       "       1.00359908, 1.00365702, 1.003713  , 1.00376677, 1.00381813,\n",
       "       1.00386693, 1.00391292, 1.00395583, 1.00399536, 1.00403157,\n",
       "       1.00406894, 1.00410921, 1.00415465, 1.00420824, 1.00426756,\n",
       "       1.00431598, 1.0043567 , 1.00439434, 1.00443402, 1.00448153,\n",
       "       1.00453769, 1.00459143, 1.00463677, 1.00467877, 1.00472299,\n",
       "       1.00477452, 1.00483409, 1.00488599, 1.00492925, 1.00496973,\n",
       "       1.00501384, 1.00506726, 1.00513103, 1.00519109, 1.00524202,\n",
       "       1.00529051, 1.00534404, 1.00541087, 1.00547743, 1.00553037,\n",
       "       1.00557681, 1.00562442, 1.00568148, 1.00575322, 1.00582069,\n",
       "       1.00588038, 1.00593725, 1.00600027, 1.00606829, 1.00611872,\n",
       "       1.00615928, 1.00620048, 1.0062536 , 1.00643637, 1.00639835,\n",
       "       1.00637282, 1.00636279, 1.00636254, 1.00637274, 1.006379  ,\n",
       "       1.00637371, 1.00635511, 1.00632218, 1.00627477, 1.006202  ,\n",
       "       1.00609432, 1.00595044, 1.00576892, 1.00555029, 1.00529653,\n",
       "       1.00501139, 1.00469032, 1.00432077, 1.00390505, 1.00344323,\n",
       "       1.00292537, 1.00235103, 1.00172188, 1.00103576, 1.00027746,\n",
       "       0.99945032, 0.9985598 , 0.99759942, 0.99656777, 0.99546849,\n",
       "       0.99430117, 0.9931198 , 0.99186843, 0.9905523 , 0.98917717,\n",
       "       0.98773924, 0.98623905, 0.9846787 , 0.98304232, 0.98133544,\n",
       "       0.97956442, 0.97773629])"
      ]
     },
     "execution_count": 216,
     "metadata": {},
     "output_type": "execute_result"
    }
   ],
   "source": [
    "result2['Tm']/result[:,0]"
   ]
  },
  {
   "cell_type": "code",
   "execution_count": 213,
   "metadata": {},
   "outputs": [
    {
     "data": {
      "text/plain": [
       "19.824185289458015"
      ]
     },
     "execution_count": 213,
     "metadata": {},
     "output_type": "execute_result"
    }
   ],
   "source": [
    "result[-1,0]/phys.kB"
   ]
  },
  {
   "cell_type": "markdown",
   "metadata": {},
   "source": [
    "Now initialize the data! We use $\\langle \\sigma v \\rangle / m_\\chi$ as the range to scan over, since this quantity determines the energy injection rate."
   ]
  },
  {
   "cell_type": "code",
   "execution_count": 222,
   "metadata": {},
   "outputs": [],
   "source": [
    "# log10_m_chi_arr = np.arange(4, 12.75, 0.25)\n",
    "# log10_sigmav_over_m_arr   = np.arange(-37, -20, 0.25)\n",
    "\n",
    "Tm_ann_no_br = np.zeros((log10_m_chi_arr.size, log10_sigmav_over_m_arr.size))"
   ]
  },
  {
   "cell_type": "markdown",
   "metadata": {},
   "source": [
    "And start the scan!"
   ]
  },
  {
   "cell_type": "code",
   "execution_count": 226,
   "metadata": {},
   "outputs": [
    {
     "data": {
      "text/plain": [
       "2.5118864315095794e-31"
      ]
     },
     "execution_count": 226,
     "metadata": {},
     "output_type": "execute_result"
    }
   ],
   "source": [
    "10**log10_sigmav_over_m_arr[12]*10**-3.1"
   ]
  },
  {
   "cell_type": "code",
   "execution_count": 223,
   "metadata": {
    "scrolled": false
   },
   "outputs": [
    {
     "name": "stdout",
     "output_type": "stream",
     "text": [
      "###### Target Temperature: 20.3 K  ######\n"
     ]
    },
    {
     "data": {
      "application/vnd.jupyter.widget-view+json": {
       "model_id": "888fc262602e41e6b29c54c1f8e20e36",
       "version_major": 2,
       "version_minor": 0
      },
      "text/plain": [
       "HBox(children=(IntProgress(value=0, max=26), HTML(value='')))"
      ]
     },
     "metadata": {},
     "output_type": "display_data"
    },
    {
     "name": "stdout",
     "output_type": "stream",
     "text": [
      "****** log10(mDM):  6.01  ******\n",
      "sigmav/m: 3.2e-40  T(z = 17) w/o backreaction: 6.9 K\n",
      "sigmav/m: 5.6e-40  T(z = 17) w/o backreaction: 6.9 K\n",
      "sigmav/m: 1.0e-39  T(z = 17) w/o backreaction: 6.9 K\n",
      "sigmav/m: 1.8e-39  T(z = 17) w/o backreaction: 7.0 K\n",
      "sigmav/m: 3.2e-39  T(z = 17) w/o backreaction: 7.1 K\n",
      "sigmav/m: 5.6e-39  T(z = 17) w/o backreaction: 7.2 K\n",
      "sigmav/m: 1.0e-38  T(z = 17) w/o backreaction: 7.5 K\n",
      "sigmav/m: 1.8e-38  T(z = 17) w/o backreaction: 8.0 K\n",
      "sigmav/m: 3.2e-38  T(z = 17) w/o backreaction: 8.9 K\n",
      "sigmav/m: 5.6e-38  T(z = 17) w/o backreaction: 10.5 K\n",
      "sigmav/m: 1.0e-37  T(z = 17) w/o backreaction: 13.3 K\n",
      "sigmav/m: 1.8e-37  T(z = 17) w/o backreaction: 18.2 K\n",
      "sigmav/m: 3.2e-37  T(z = 17) w/o backreaction: 27.1 K\n",
      "****** log10(mDM):  6.26  ******\n",
      "sigmav/m: 1.8e-37  T(z = 17) w/o backreaction: 11.6 K\n",
      "sigmav/m: 3.2e-37  T(z = 17) w/o backreaction: 15.3 K\n",
      "sigmav/m: 5.6e-37  T(z = 17) w/o backreaction: 21.9 K\n",
      "****** log10(mDM):  6.51  ******\n",
      "sigmav/m: 3.2e-37  T(z = 17) w/o backreaction: 10.5 K\n",
      "sigmav/m: 5.6e-37  T(z = 17) w/o backreaction: 13.2 K\n",
      "sigmav/m: 1.0e-36  T(z = 17) w/o backreaction: 17.9 K\n",
      "sigmav/m: 1.8e-36  T(z = 17) w/o backreaction: 26.1 K\n",
      "****** log10(mDM):  6.76  ******\n",
      "sigmav/m: 1.0e-36  T(z = 17) w/o backreaction: 14.6 K\n",
      "sigmav/m: 1.8e-36  T(z = 17) w/o backreaction: 19.8 K\n",
      "sigmav/m: 3.2e-36  T(z = 17) w/o backreaction: 28.5 K\n",
      "****** log10(mDM):  7.01  ******\n",
      "sigmav/m: 1.8e-36  T(z = 17) w/o backreaction: 60.7 K\n",
      "sigmav/m: 1.0e-36  T(z = 17) w/o backreaction: 38.0 K\n",
      "sigmav/m: 5.6e-37  T(z = 17) w/o backreaction: 24.8 K\n",
      "sigmav/m: 3.2e-37  T(z = 17) w/o backreaction: 17.2 K\n",
      "****** log10(mDM):  7.26  ******\n",
      "sigmav/m: 5.6e-37  T(z = 17) w/o backreaction: 56.6 K\n",
      "sigmav/m: 3.2e-37  T(z = 17) w/o backreaction: 35.2 K\n",
      "sigmav/m: 1.8e-37  T(z = 17) w/o backreaction: 22.9 K\n",
      "sigmav/m: 1.0e-37  T(z = 17) w/o backreaction: 16.0 K\n",
      "****** log10(mDM):  7.51  ******\n",
      "sigmav/m: 1.8e-37  T(z = 17) w/o backreaction: 30.2 K\n",
      "sigmav/m: 1.0e-37  T(z = 17) w/o backreaction: 20.1 K\n",
      "****** log10(mDM):  7.76  ******\n",
      "sigmav/m: 1.8e-37  T(z = 17) w/o backreaction: 33.3 K\n",
      "sigmav/m: 1.0e-37  T(z = 17) w/o backreaction: 21.8 K\n",
      "sigmav/m: 5.6e-38  T(z = 17) w/o backreaction: 15.3 K\n",
      "****** log10(mDM):  8.01  ******\n"
     ]
    },
    {
     "ename": "KeyboardInterrupt",
     "evalue": "",
     "output_type": "error",
     "traceback": [
      "\u001b[0;31m---------------------------------------------------------------------------\u001b[0m",
      "\u001b[0;31mKeyboardInterrupt\u001b[0m                         Traceback (most recent call last)",
      "\u001b[0;32m<ipython-input-223-0a1eec6481b9>\u001b[0m in \u001b[0;36m<module>\u001b[0;34m\u001b[0m\n\u001b[1;32m     20\u001b[0m         \u001b[0msigmav\u001b[0m \u001b[0;34m=\u001b[0m \u001b[0;36m10\u001b[0m\u001b[0;34m**\u001b[0m\u001b[0mlog10_sigmav_over_m_arr\u001b[0m\u001b[0;34m[\u001b[0m\u001b[0mj\u001b[0m\u001b[0;34m]\u001b[0m \u001b[0;34m*\u001b[0m \u001b[0mmDM\u001b[0m\u001b[0;34m/\u001b[0m\u001b[0;36m10\u001b[0m\u001b[0;34m**\u001b[0m\u001b[0;36m9\u001b[0m\u001b[0;34m\u001b[0m\u001b[0;34m\u001b[0m\u001b[0m\n\u001b[1;32m     21\u001b[0m \u001b[0;34m\u001b[0m\u001b[0m\n\u001b[0;32m---> 22\u001b[0;31m         \u001b[0mTm_ann_no_br\u001b[0m\u001b[0;34m[\u001b[0m\u001b[0mi\u001b[0m\u001b[0;34m,\u001b[0m\u001b[0mj\u001b[0m\u001b[0;34m]\u001b[0m \u001b[0;34m=\u001b[0m \u001b[0mget_T_swave\u001b[0m\u001b[0;34m(\u001b[0m\u001b[0mmDM\u001b[0m\u001b[0;34m,\u001b[0m \u001b[0msigmav\u001b[0m\u001b[0;34m,\u001b[0m \u001b[0mbr\u001b[0m\u001b[0;34m=\u001b[0m\u001b[0;32mFalse\u001b[0m\u001b[0;34m,\u001b[0m \u001b[0mpri\u001b[0m\u001b[0;34m=\u001b[0m\u001b[0mpri\u001b[0m\u001b[0;34m)\u001b[0m\u001b[0;34m\u001b[0m\u001b[0;34m\u001b[0m\u001b[0m\n\u001b[0m\u001b[1;32m     23\u001b[0m         \u001b[0mprint\u001b[0m\u001b[0;34m(\u001b[0m\u001b[0;34m'sigmav/m: {:03.1e}'\u001b[0m\u001b[0;34m.\u001b[0m\u001b[0mformat\u001b[0m\u001b[0;34m(\u001b[0m\u001b[0msigmav\u001b[0m\u001b[0;34m/\u001b[0m\u001b[0mmDM\u001b[0m\u001b[0;34m)\u001b[0m\u001b[0;34m,\u001b[0m \u001b[0;34m' T(z = 17) w/o backreaction: {:03.1f} K'\u001b[0m\u001b[0;34m.\u001b[0m\u001b[0mformat\u001b[0m\u001b[0;34m(\u001b[0m\u001b[0mTm_ann_no_br\u001b[0m\u001b[0;34m[\u001b[0m\u001b[0mi\u001b[0m\u001b[0;34m,\u001b[0m\u001b[0mj\u001b[0m\u001b[0;34m]\u001b[0m\u001b[0;34m)\u001b[0m\u001b[0;34m)\u001b[0m\u001b[0;34m\u001b[0m\u001b[0;34m\u001b[0m\u001b[0m\n\u001b[1;32m     24\u001b[0m \u001b[0;34m\u001b[0m\u001b[0m\n",
      "\u001b[0;32m<ipython-input-221-b689077fd1e1>\u001b[0m in \u001b[0;36mget_T_swave\u001b[0;34m(mDM, sigmav, br, pri)\u001b[0m\n\u001b[1;32m     48\u001b[0m             \u001b[0minj_particle\u001b[0m \u001b[0;34m=\u001b[0m \u001b[0mpri\u001b[0m\u001b[0;34m,\u001b[0m \u001b[0mDM_process\u001b[0m \u001b[0;34m=\u001b[0m \u001b[0;34m'swave'\u001b[0m\u001b[0;34m,\u001b[0m\u001b[0;34m\u001b[0m\u001b[0;34m\u001b[0m\u001b[0m\n\u001b[1;32m     49\u001b[0m             \u001b[0mmDM\u001b[0m\u001b[0;34m=\u001b[0m\u001b[0mmDM\u001b[0m\u001b[0;34m,\u001b[0m \u001b[0msigmav\u001b[0m \u001b[0;34m=\u001b[0m \u001b[0msigmav\u001b[0m\u001b[0;34m,\u001b[0m\u001b[0;34m\u001b[0m\u001b[0;34m\u001b[0m\u001b[0m\n\u001b[0;32m---> 50\u001b[0;31m             \u001b[0mstruct_boost\u001b[0m\u001b[0;34m=\u001b[0m\u001b[0;32mNone\u001b[0m\u001b[0;34m\u001b[0m\u001b[0;34m\u001b[0m\u001b[0m\n\u001b[0m\u001b[1;32m     51\u001b[0m         )\n\u001b[1;32m     52\u001b[0m \u001b[0;34m\u001b[0m\u001b[0m\n",
      "\u001b[0;32m~/Desktop/DM/DH/DarkHistory/darkhistory/history/tla.py\u001b[0m in \u001b[0;36mget_history\u001b[0;34m(rs_vec, init_cond, baseline_f, inj_particle, f_H_ion, f_H_exc, f_heating, DM_process, mDM, sigmav, lifetime, struct_boost, injection_rate, reion_switch, reion_rs, photoion_rate_func, photoheat_rate_func, xe_reion_func, helium_TLA, f_He_ion, mxstep, rtol)\u001b[0m\n\u001b[1;32m    634\u001b[0m         soln = odeint(\n\u001b[1;32m    635\u001b[0m                 \u001b[0mtla_before_reion\u001b[0m\u001b[0;34m,\u001b[0m \u001b[0m_init_cond\u001b[0m\u001b[0;34m,\u001b[0m \u001b[0mrs_vec\u001b[0m\u001b[0;34m,\u001b[0m\u001b[0;34m\u001b[0m\u001b[0;34m\u001b[0m\u001b[0m\n\u001b[0;32m--> 636\u001b[0;31m                 \u001b[0mmxstep\u001b[0m \u001b[0;34m=\u001b[0m \u001b[0mmxstep\u001b[0m\u001b[0;34m,\u001b[0m \u001b[0mtfirst\u001b[0m\u001b[0;34m=\u001b[0m\u001b[0;32mTrue\u001b[0m\u001b[0;34m,\u001b[0m \u001b[0mrtol\u001b[0m\u001b[0;34m=\u001b[0m\u001b[0mrtol\u001b[0m\u001b[0;34m\u001b[0m\u001b[0;34m\u001b[0m\u001b[0m\n\u001b[0m\u001b[1;32m    637\u001b[0m             )\n\u001b[1;32m    638\u001b[0m         \u001b[0;31m# print(init_cond)\u001b[0m\u001b[0;34m\u001b[0m\u001b[0;34m\u001b[0m\u001b[0;34m\u001b[0m\u001b[0m\n",
      "\u001b[0;32m/usr/local/lib/python3.7/site-packages/scipy/integrate/odepack.py\u001b[0m in \u001b[0;36modeint\u001b[0;34m(func, y0, t, args, Dfun, col_deriv, full_output, ml, mu, rtol, atol, tcrit, h0, hmax, hmin, ixpr, mxstep, mxhnil, mxordn, mxords, printmessg, tfirst)\u001b[0m\n\u001b[1;32m    242\u001b[0m                              \u001b[0mfull_output\u001b[0m\u001b[0;34m,\u001b[0m \u001b[0mrtol\u001b[0m\u001b[0;34m,\u001b[0m \u001b[0matol\u001b[0m\u001b[0;34m,\u001b[0m \u001b[0mtcrit\u001b[0m\u001b[0;34m,\u001b[0m \u001b[0mh0\u001b[0m\u001b[0;34m,\u001b[0m \u001b[0mhmax\u001b[0m\u001b[0;34m,\u001b[0m \u001b[0mhmin\u001b[0m\u001b[0;34m,\u001b[0m\u001b[0;34m\u001b[0m\u001b[0;34m\u001b[0m\u001b[0m\n\u001b[1;32m    243\u001b[0m                              \u001b[0mixpr\u001b[0m\u001b[0;34m,\u001b[0m \u001b[0mmxstep\u001b[0m\u001b[0;34m,\u001b[0m \u001b[0mmxhnil\u001b[0m\u001b[0;34m,\u001b[0m \u001b[0mmxordn\u001b[0m\u001b[0;34m,\u001b[0m \u001b[0mmxords\u001b[0m\u001b[0;34m,\u001b[0m\u001b[0;34m\u001b[0m\u001b[0;34m\u001b[0m\u001b[0m\n\u001b[0;32m--> 244\u001b[0;31m                              int(bool(tfirst)))\n\u001b[0m\u001b[1;32m    245\u001b[0m     \u001b[0;32mif\u001b[0m \u001b[0moutput\u001b[0m\u001b[0;34m[\u001b[0m\u001b[0;34m-\u001b[0m\u001b[0;36m1\u001b[0m\u001b[0;34m]\u001b[0m \u001b[0;34m<\u001b[0m \u001b[0;36m0\u001b[0m\u001b[0;34m:\u001b[0m\u001b[0;34m\u001b[0m\u001b[0;34m\u001b[0m\u001b[0m\n\u001b[1;32m    246\u001b[0m         \u001b[0mwarning_msg\u001b[0m \u001b[0;34m=\u001b[0m \u001b[0m_msgs\u001b[0m\u001b[0;34m[\u001b[0m\u001b[0moutput\u001b[0m\u001b[0;34m[\u001b[0m\u001b[0;34m-\u001b[0m\u001b[0;36m1\u001b[0m\u001b[0;34m]\u001b[0m\u001b[0;34m]\u001b[0m \u001b[0;34m+\u001b[0m \u001b[0;34m\" Run with full_output = 1 to get quantitative information.\"\u001b[0m\u001b[0;34m\u001b[0m\u001b[0;34m\u001b[0m\u001b[0m\n",
      "\u001b[0;32m~/Desktop/DM/DH/DarkHistory/darkhistory/history/tla.py\u001b[0m in \u001b[0;36mtla_before_reion\u001b[0;34m(rs, var)\u001b[0m\n\u001b[1;32m    397\u001b[0m         \u001b[0;31m# print(rs, T_m, xHII(yHII), xHeII(yHeII), xHeIII(yHeIII))\u001b[0m\u001b[0;34m\u001b[0m\u001b[0;34m\u001b[0m\u001b[0;34m\u001b[0m\u001b[0m\n\u001b[1;32m    398\u001b[0m         return [\n\u001b[0;32m--> 399\u001b[0;31m             \u001b[0mdT_dz\u001b[0m\u001b[0;34m(\u001b[0m\u001b[0myHII\u001b[0m\u001b[0;34m,\u001b[0m \u001b[0myHeII\u001b[0m\u001b[0;34m,\u001b[0m \u001b[0myHeIII\u001b[0m\u001b[0;34m,\u001b[0m \u001b[0mT_m\u001b[0m\u001b[0;34m,\u001b[0m \u001b[0mrs\u001b[0m\u001b[0;34m)\u001b[0m\u001b[0;34m,\u001b[0m\u001b[0;34m\u001b[0m\u001b[0;34m\u001b[0m\u001b[0m\n\u001b[0m\u001b[1;32m    400\u001b[0m             \u001b[0mdyHII_dz\u001b[0m\u001b[0;34m(\u001b[0m\u001b[0myHII\u001b[0m\u001b[0;34m,\u001b[0m \u001b[0myHeII\u001b[0m\u001b[0;34m,\u001b[0m \u001b[0myHeIII\u001b[0m\u001b[0;34m,\u001b[0m \u001b[0mT_m\u001b[0m\u001b[0;34m,\u001b[0m \u001b[0mrs\u001b[0m\u001b[0;34m)\u001b[0m\u001b[0;34m,\u001b[0m\u001b[0;34m\u001b[0m\u001b[0;34m\u001b[0m\u001b[0m\n\u001b[1;32m    401\u001b[0m             \u001b[0mdyHeII_dz\u001b[0m\u001b[0;34m(\u001b[0m\u001b[0myHII\u001b[0m\u001b[0;34m,\u001b[0m \u001b[0myHeII\u001b[0m\u001b[0;34m,\u001b[0m \u001b[0myHeIII\u001b[0m\u001b[0;34m,\u001b[0m \u001b[0mT_m\u001b[0m\u001b[0;34m,\u001b[0m \u001b[0mrs\u001b[0m\u001b[0;34m)\u001b[0m\u001b[0;34m,\u001b[0m\u001b[0;34m\u001b[0m\u001b[0;34m\u001b[0m\u001b[0m\n",
      "\u001b[0;32m~/Desktop/DM/DH/DarkHistory/darkhistory/history/tla.py\u001b[0m in \u001b[0;36mdT_dz\u001b[0;34m(yHII, yHeII, yHeIII, T_m, rs)\u001b[0m\n\u001b[1;32m    271\u001b[0m                         \u001b[0mxHII\u001b[0m\u001b[0;34m(\u001b[0m\u001b[0myHII\u001b[0m\u001b[0;34m)\u001b[0m\u001b[0;34m,\u001b[0m \u001b[0mxHeII\u001b[0m\u001b[0;34m(\u001b[0m\u001b[0myHeII\u001b[0m\u001b[0;34m)\u001b[0m\u001b[0;34m,\u001b[0m \u001b[0mxHeIII\u001b[0m\u001b[0;34m(\u001b[0m\u001b[0myHeIII\u001b[0m\u001b[0;34m)\u001b[0m\u001b[0;34m,\u001b[0m \u001b[0mT_m\u001b[0m\u001b[0;34m,\u001b[0m \u001b[0mrs\u001b[0m\u001b[0;34m\u001b[0m\u001b[0;34m\u001b[0m\u001b[0m\n\u001b[1;32m    272\u001b[0m                     )\n\u001b[0;32m--> 273\u001b[0;31m                     \u001b[0;34m+\u001b[0m \u001b[0m_f_heating\u001b[0m\u001b[0;34m(\u001b[0m\u001b[0mrs\u001b[0m\u001b[0;34m,\u001b[0m \u001b[0mxHI\u001b[0m\u001b[0;34m,\u001b[0m \u001b[0mxHeI\u001b[0m\u001b[0;34m,\u001b[0m \u001b[0mxHeII\u001b[0m\u001b[0;34m(\u001b[0m\u001b[0myHeII\u001b[0m\u001b[0;34m)\u001b[0m\u001b[0;34m)\u001b[0m \u001b[0;34m*\u001b[0m \u001b[0minj_rate\u001b[0m\u001b[0;34m\u001b[0m\u001b[0;34m\u001b[0m\u001b[0m\n\u001b[0m\u001b[1;32m    274\u001b[0m                 )\n\u001b[1;32m    275\u001b[0m             )/ (3/2 * nH * (1 + chi + xe))\n",
      "\u001b[0;32m~/Desktop/DM/DH/DarkHistory/darkhistory/history/tla.py\u001b[0m in \u001b[0;36mxHeII\u001b[0;34m(yHeII)\u001b[0m\n\u001b[1;32m    244\u001b[0m             \u001b[0;32mreturn\u001b[0m \u001b[0;36m0.5\u001b[0m \u001b[0;34m+\u001b[0m \u001b[0;36m0.5\u001b[0m\u001b[0;34m*\u001b[0m\u001b[0mnp\u001b[0m\u001b[0;34m.\u001b[0m\u001b[0mtanh\u001b[0m\u001b[0;34m(\u001b[0m\u001b[0myHII\u001b[0m\u001b[0;34m)\u001b[0m\u001b[0;34m\u001b[0m\u001b[0;34m\u001b[0m\u001b[0m\n\u001b[1;32m    245\u001b[0m     \u001b[0;32mdef\u001b[0m \u001b[0mxHeII\u001b[0m\u001b[0;34m(\u001b[0m\u001b[0myHeII\u001b[0m\u001b[0;34m)\u001b[0m\u001b[0;34m:\u001b[0m\u001b[0;34m\u001b[0m\u001b[0;34m\u001b[0m\u001b[0m\n\u001b[0;32m--> 246\u001b[0;31m         \u001b[0;32mreturn\u001b[0m \u001b[0mchi\u001b[0m\u001b[0;34m/\u001b[0m\u001b[0;36m2\u001b[0m \u001b[0;34m+\u001b[0m \u001b[0mchi\u001b[0m\u001b[0;34m/\u001b[0m\u001b[0;36m2\u001b[0m\u001b[0;34m*\u001b[0m\u001b[0mnp\u001b[0m\u001b[0;34m.\u001b[0m\u001b[0mtanh\u001b[0m\u001b[0;34m(\u001b[0m\u001b[0myHeII\u001b[0m\u001b[0;34m)\u001b[0m\u001b[0;34m\u001b[0m\u001b[0;34m\u001b[0m\u001b[0m\n\u001b[0m\u001b[1;32m    247\u001b[0m     \u001b[0;32mdef\u001b[0m \u001b[0mxHeIII\u001b[0m\u001b[0;34m(\u001b[0m\u001b[0myHeIII\u001b[0m\u001b[0;34m)\u001b[0m\u001b[0;34m:\u001b[0m\u001b[0;34m\u001b[0m\u001b[0;34m\u001b[0m\u001b[0m\n\u001b[1;32m    248\u001b[0m         \u001b[0;32mreturn\u001b[0m \u001b[0mchi\u001b[0m\u001b[0;34m/\u001b[0m\u001b[0;36m2\u001b[0m \u001b[0;34m+\u001b[0m \u001b[0mchi\u001b[0m\u001b[0;34m/\u001b[0m\u001b[0;36m2\u001b[0m\u001b[0;34m*\u001b[0m\u001b[0mnp\u001b[0m\u001b[0;34m.\u001b[0m\u001b[0mtanh\u001b[0m\u001b[0;34m(\u001b[0m\u001b[0myHeIII\u001b[0m\u001b[0;34m)\u001b[0m\u001b[0;34m\u001b[0m\u001b[0;34m\u001b[0m\u001b[0m\n",
      "\u001b[0;31mKeyboardInterrupt\u001b[0m: "
     ]
    }
   ],
   "source": [
    "%autoreload\n",
    "print('###### Target Temperature: {:03.1f} K'.format(Tm_max), ' ######')\n",
    "\n",
    "pri='elec'\n",
    "for i, log10mDM in enumerate(tqdm(log10_m_chi_arr)):\n",
    "    \n",
    "    print('****** log10(mDM): ', log10mDM, ' ******')\n",
    "    mDM = 10**log10mDM\n",
    "    \n",
    "    below_target = False\n",
    "    above_target = False\n",
    "    if i == 0:\n",
    "        j = 0\n",
    "    \n",
    "    while (\n",
    "        not below_target or not above_target\n",
    "    ):\n",
    "\n",
    "#         print('****************************')\n",
    "        sigmav = 10**log10_sigmav_over_m_arr[j] * mDM/10**9\n",
    "        \n",
    "        Tm_ann_no_br[i,j] = get_T_swave(mDM, sigmav, br=False, pri=pri)\n",
    "        print('sigmav/m: {:03.1e}'.format(sigmav/mDM), ' T(z = 17) w/o backreaction: {:03.1f} K'.format(Tm_ann_no_br[i,j]))\n",
    "             \n",
    "        if Tm_ann_no_br[i,j] <= Tm_max:\n",
    "            \n",
    "            below_target = True\n",
    "            # Below target T_m means we need a larger sigmav.\n",
    "            j += 1\n",
    "            \n",
    "        elif Tm_ann_no_br[i,j] >= Tm_max:\n",
    "            \n",
    "            above_target = True\n",
    "            # Above target T_m means we need a smaller sigmav. \n",
    "            j -= 1\n",
    "            \n",
    "        \n",
    "#         print('****************************')\n",
    "\n",
    "print('###### Calculation Complete! ######')\n",
    "\n",
    "            "
   ]
  },
  {
   "cell_type": "markdown",
   "metadata": {},
   "source": [
    "As above, we use a simple linear interpolation to determine the maximum $\\left(\\frac{\\langle \\sigma v \\rangle}{m}\\right)_\\text{max}$ over our list of dark matter masses and store the result in `max_xsec_no_br`,"
   ]
  },
  {
   "cell_type": "code",
   "execution_count": 23,
   "metadata": {},
   "outputs": [],
   "source": [
    "def get_log10_max_xsec(log10_sigmav_over_m_arr, Tm_arr, max_Tm):\n",
    "    \"\"\"Returns the log10 maximum sigma v over m from temperature calculations.\n",
    "    \n",
    "    Parameters\n",
    "    ----------\n",
    "    log10_lifetime_arr : ndarray\n",
    "        Abscissa of log10 sigma v over m's used, in increasing order.\n",
    "    Tm_arr : ndarray\n",
    "        Computed matter temperature for each entry in lifetime_arr. \n",
    "    max_Tm : float\n",
    "        The maximum Tm allowed at this point. \n",
    "        \n",
    "    Returns\n",
    "    -------\n",
    "    ndarray\n",
    "        The interpolated minimum lifetime. \n",
    "    \n",
    "    \"\"\"\n",
    "    # Find the first index at which we have Tm < max_Tm in Tm_arr. \n",
    "    below = np.where((Tm_arr > 0) & (Tm_arr < max_Tm))[0][-1]\n",
    "    # Since increasing lifetime decreases Tm, the next index must\n",
    "    # lie below max_Tm.\n",
    "    above = below+1\n",
    "    \n",
    "    # Obtain the two temperature values. \n",
    "    Ts = [Tm_arr[below], Tm_arr[above]]\n",
    "    # Obtain the two log10 lifetime values. \n",
    "    log10_xsecs = [log10_sigmav_over_m_arr[below], log10_sigmav_over_m_arr[above]]\n",
    "    \n",
    "    # Perform a linear interpolation.\n",
    "    return (np.diff(log10_xsecs)/np.diff(Ts)*(max_Tm-Ts[0]) + log10_xsecs[0])[0]\n",
    "\n",
    "max_xsec_no_br = np.array(\n",
    "    [get_log10_max_xsec(log10_sigmav_over_m_arr, row, Tm_max) for row in Tm_ann_no_br]\n",
    ")"
   ]
  },
  {
   "cell_type": "markdown",
   "metadata": {},
   "source": [
    "and then we plot $\\left(\\frac{\\langle \\sigma v \\rangle}{m}\\right)_\\text{max}$ as a function of $m_\\chi$"
   ]
  },
  {
   "cell_type": "code",
   "execution_count": 29,
   "metadata": {},
   "outputs": [
    {
     "data": {
      "text/plain": [
       "Text(0.5, 0, 'Dark Matter Mass $m_\\\\chi$ [eV]')"
      ]
     },
     "execution_count": 29,
     "metadata": {},
     "output_type": "execute_result"
    },
    {
     "data": {
      "image/png": "[encoded data removed]",
      "text/plain": [
       "<Figure size 620x620 with 1 Axes>"
      ]
     },
     "metadata": {},
     "output_type": "display_data"
    }
   ],
   "source": [
    "plt.figure()\n",
    "\n",
    "plt.loglog()\n",
    "\n",
    "plt.plot(10**log10_m_chi_arr/10**9, 10**(max_xsec_no_br)*10**9)\n",
    "\n",
    "plt.axis([1e-5,2e3,3e-27,1.5e-25])\n",
    "\n",
    "plt.title(r'$\\chi\\chi \\to \\gamma \\gamma$ Limits, $T_{21} = -50$ mK')\n",
    "plt.ylabel(r'Maximum $\\langle \\sigma v \\rangle$ / $m_\\chi$ [cm$^3$ s$^{-1}$ GeV$^{-1}$]')\n",
    "plt.xlabel(r'Dark Matter Mass $m_\\chi$ [eV]')"
   ]
  },
  {
   "cell_type": "markdown",
   "metadata": {},
   "source": [
    "and finally compute $\\left(\\frac{\\langle \\sigma v \\rangle}{m}\\right)_\\text{max}$ including back-reaction"
   ]
  },
  {
   "cell_type": "code",
   "execution_count": 19,
   "metadata": {
    "collapsed": true
   },
   "outputs": [
    {
     "name": "stdout",
     "output_type": "stream",
     "text": [
      "###### Target Temperature: 20.3 K  ######\n"
     ]
    },
    {
     "data": {
      "application/vnd.jupyter.widget-view+json": {
       "model_id": "965804960a6c494e956879b4e3ba0c19",
       "version_major": 2,
       "version_minor": 0
      },
      "text/plain": [
       "HBox(children=(IntProgress(value=0, max=35), HTML(value='')))"
      ]
     },
     "metadata": {},
     "output_type": "display_data"
    },
    {
     "name": "stdout",
     "output_type": "stream",
     "text": [
      "****** log10(mDM):  4.0  ******\n"
     ]
    },
    {
     "data": {
      "application/vnd.jupyter.widget-view+json": {
       "model_id": "5db8af51a1b04742ace45d1e651bffcc",
       "version_major": 2,
       "version_minor": 0
      },
      "text/plain": [
       "HBox(children=(IntProgress(value=0, max=1279), HTML(value='')))"
      ]
     },
     "metadata": {},
     "output_type": "display_data"
    },
    {
     "name": "stdout",
     "output_type": "stream",
     "text": [
      "sigmav/m: 5.6e-36  T(z = 17) w/o backreaction: 24.4 K\n"
     ]
    },
    {
     "data": {
      "application/vnd.jupyter.widget-view+json": {
       "model_id": "ed98764530cb4960bf70811031bc067b",
       "version_major": 2,
       "version_minor": 0
      },
      "text/plain": [
       "HBox(children=(IntProgress(value=0, max=1279), HTML(value='')))"
      ]
     },
     "metadata": {},
     "output_type": "display_data"
    },
    {
     "name": "stdout",
     "output_type": "stream",
     "text": [
      "sigmav/m: 3.2e-36  T(z = 17) w/o backreaction: 17.7 K\n",
      "****** log10(mDM):  4.25  ******\n"
     ]
    },
    {
     "data": {
      "application/vnd.jupyter.widget-view+json": {
       "model_id": "43fe112cbc5443ffaa3a5b6746a4e86f",
       "version_major": 2,
       "version_minor": 0
      },
      "text/plain": [
       "HBox(children=(IntProgress(value=0, max=1279), HTML(value='')))"
      ]
     },
     "metadata": {},
     "output_type": "display_data"
    },
    {
     "ename": "KeyboardInterrupt",
     "evalue": "",
     "output_type": "error",
     "traceback": [
      "\u001b[0;31m---------------------------------------------------------------------------\u001b[0m",
      "\u001b[0;31mKeyboardInterrupt\u001b[0m                         Traceback (most recent call last)",
      "\u001b[0;32m<ipython-input-19-bcc34e96a92e>\u001b[0m in \u001b[0;36m<module>\u001b[0;34m\u001b[0m\n\u001b[1;32m     18\u001b[0m         \u001b[0msigmav\u001b[0m \u001b[0;34m=\u001b[0m \u001b[0;36m10\u001b[0m\u001b[0;34m**\u001b[0m\u001b[0mlog10_sigmav_over_m_arr\u001b[0m\u001b[0;34m[\u001b[0m\u001b[0mj\u001b[0m\u001b[0;34m]\u001b[0m \u001b[0;34m*\u001b[0m \u001b[0mmDM\u001b[0m\u001b[0;34m\u001b[0m\u001b[0;34m\u001b[0m\u001b[0m\n\u001b[1;32m     19\u001b[0m \u001b[0;34m\u001b[0m\u001b[0m\n\u001b[0;32m---> 20\u001b[0;31m         \u001b[0mTm_ann_no_br\u001b[0m\u001b[0;34m[\u001b[0m\u001b[0mi\u001b[0m\u001b[0;34m,\u001b[0m\u001b[0mj\u001b[0m\u001b[0;34m]\u001b[0m \u001b[0;34m=\u001b[0m \u001b[0mget_T_swave\u001b[0m\u001b[0;34m(\u001b[0m\u001b[0mmDM\u001b[0m\u001b[0;34m,\u001b[0m \u001b[0msigmav\u001b[0m\u001b[0;34m,\u001b[0m \u001b[0mbr\u001b[0m\u001b[0;34m=\u001b[0m\u001b[0;32mTrue\u001b[0m\u001b[0;34m,\u001b[0m \u001b[0mpri\u001b[0m\u001b[0;34m=\u001b[0m\u001b[0;34m'phot'\u001b[0m\u001b[0;34m)\u001b[0m\u001b[0;34m\u001b[0m\u001b[0;34m\u001b[0m\u001b[0m\n\u001b[0m\u001b[1;32m     21\u001b[0m         \u001b[0mprint\u001b[0m\u001b[0;34m(\u001b[0m\u001b[0;34m'sigmav/m: {:03.1e}'\u001b[0m\u001b[0;34m.\u001b[0m\u001b[0mformat\u001b[0m\u001b[0;34m(\u001b[0m\u001b[0msigmav\u001b[0m\u001b[0;34m/\u001b[0m\u001b[0mmDM\u001b[0m\u001b[0;34m)\u001b[0m\u001b[0;34m,\u001b[0m \u001b[0;34m' T(z = 17) w/o backreaction: {:03.1f} K'\u001b[0m\u001b[0;34m.\u001b[0m\u001b[0mformat\u001b[0m\u001b[0;34m(\u001b[0m\u001b[0mTm_ann_no_br\u001b[0m\u001b[0;34m[\u001b[0m\u001b[0mi\u001b[0m\u001b[0;34m,\u001b[0m\u001b[0mj\u001b[0m\u001b[0;34m]\u001b[0m\u001b[0;34m)\u001b[0m\u001b[0;34m)\u001b[0m\u001b[0;34m\u001b[0m\u001b[0;34m\u001b[0m\u001b[0m\n\u001b[1;32m     22\u001b[0m \u001b[0;34m\u001b[0m\u001b[0m\n",
      "\u001b[0;32m<ipython-input-14-b689077fd1e1>\u001b[0m in \u001b[0;36mget_T_swave\u001b[0;34m(mDM, sigmav, br, pri)\u001b[0m\n\u001b[1;32m     35\u001b[0m             \u001b[0mstart_rs\u001b[0m \u001b[0;34m=\u001b[0m \u001b[0;36m3000\u001b[0m\u001b[0;34m,\u001b[0m \u001b[0mend_rs\u001b[0m\u001b[0;34m=\u001b[0m\u001b[0;36m18\u001b[0m\u001b[0;34m,\u001b[0m\u001b[0;34m\u001b[0m\u001b[0;34m\u001b[0m\u001b[0m\n\u001b[1;32m     36\u001b[0m             \u001b[0mcoarsen_factor\u001b[0m\u001b[0;34m=\u001b[0m\u001b[0mcf\u001b[0m\u001b[0;34m,\u001b[0m \u001b[0mbackreaction\u001b[0m\u001b[0;34m=\u001b[0m\u001b[0;32mTrue\u001b[0m\u001b[0;34m,\u001b[0m\u001b[0;34m\u001b[0m\u001b[0;34m\u001b[0m\u001b[0m\n\u001b[0;32m---> 37\u001b[0;31m             \u001b[0mstruct_boost\u001b[0m\u001b[0;34m=\u001b[0m\u001b[0mstruct_boost_einasto_subs\u001b[0m\u001b[0;34m\u001b[0m\u001b[0;34m\u001b[0m\u001b[0m\n\u001b[0m\u001b[1;32m     38\u001b[0m         )\n\u001b[1;32m     39\u001b[0m \u001b[0;34m\u001b[0m\u001b[0m\n",
      "\u001b[0;32m~/Desktop/DM/DH/DarkHistory/main.py\u001b[0m in \u001b[0;36mevolve\u001b[0;34m(in_spec_elec, in_spec_phot, rate_func_N, rate_func_eng, DM_process, mDM, sigmav, lifetime, primary, struct_boost, start_rs, end_rs, helium_TLA, reion_switch, reion_rs, photoion_rate_func, photoheat_rate_func, xe_reion_func, init_cond, coarsen_factor, backreaction, compute_fs_method, mxstep, rtol, use_tqdm)\u001b[0m\n\u001b[1;32m    547\u001b[0m             get_tf(\n\u001b[1;32m    548\u001b[0m                 \u001b[0mrs\u001b[0m\u001b[0;34m,\u001b[0m \u001b[0mxHII_to_interp\u001b[0m\u001b[0;34m,\u001b[0m \u001b[0mxHeII_to_interp\u001b[0m\u001b[0;34m,\u001b[0m\u001b[0;34m\u001b[0m\u001b[0;34m\u001b[0m\u001b[0m\n\u001b[0;32m--> 549\u001b[0;31m                 \u001b[0mdlnz\u001b[0m\u001b[0;34m,\u001b[0m \u001b[0mcoarsen_factor\u001b[0m\u001b[0;34m=\u001b[0m\u001b[0mcoarsen_factor\u001b[0m\u001b[0;34m\u001b[0m\u001b[0;34m\u001b[0m\u001b[0m\n\u001b[0m\u001b[1;32m    550\u001b[0m             )\n\u001b[1;32m    551\u001b[0m         )\n",
      "\u001b[0;32m~/Desktop/DM/DH/DarkHistory/main.py\u001b[0m in \u001b[0;36mget_tf\u001b[0;34m(rs, xHII, xHeII, dlnz, coarsen_factor)\u001b[0m\n\u001b[1;32m    771\u001b[0m         \u001b[0mprop_tf\u001b[0m \u001b[0;34m=\u001b[0m \u001b[0mnp\u001b[0m\u001b[0;34m.\u001b[0m\u001b[0mzeros_like\u001b[0m\u001b[0;34m(\u001b[0m\u001b[0mhighengphot_tf\u001b[0m\u001b[0;34m.\u001b[0m\u001b[0m_grid_vals\u001b[0m\u001b[0;34m)\u001b[0m\u001b[0;34m\u001b[0m\u001b[0;34m\u001b[0m\u001b[0m\n\u001b[1;32m    772\u001b[0m         \u001b[0;32mfor\u001b[0m \u001b[0mi\u001b[0m \u001b[0;32min\u001b[0m \u001b[0mnp\u001b[0m\u001b[0;34m.\u001b[0m\u001b[0marange\u001b[0m\u001b[0;34m(\u001b[0m\u001b[0mcoarsen_factor\u001b[0m\u001b[0;34m)\u001b[0m\u001b[0;34m:\u001b[0m\u001b[0;34m\u001b[0m\u001b[0;34m\u001b[0m\u001b[0m\n\u001b[0;32m--> 773\u001b[0;31m             \u001b[0mprop_tf\u001b[0m \u001b[0;34m+=\u001b[0m \u001b[0mmatrix_power\u001b[0m\u001b[0;34m(\u001b[0m\u001b[0mhighengphot_tf\u001b[0m\u001b[0;34m.\u001b[0m\u001b[0m_grid_vals\u001b[0m\u001b[0;34m,\u001b[0m \u001b[0mi\u001b[0m\u001b[0;34m)\u001b[0m\u001b[0;34m\u001b[0m\u001b[0;34m\u001b[0m\u001b[0m\n\u001b[0m\u001b[1;32m    774\u001b[0m         lowengphot_tf._grid_vals = np.matmul(\n\u001b[1;32m    775\u001b[0m             \u001b[0mprop_tf\u001b[0m\u001b[0;34m,\u001b[0m \u001b[0mlowengphot_tf\u001b[0m\u001b[0;34m.\u001b[0m\u001b[0m_grid_vals\u001b[0m\u001b[0;34m\u001b[0m\u001b[0;34m\u001b[0m\u001b[0m\n",
      "\u001b[0;32m/usr/local/lib/python3.7/site-packages/numpy/linalg/linalg.py\u001b[0m in \u001b[0;36mmatrix_power\u001b[0;34m(a, n)\u001b[0m\n\u001b[1;32m    631\u001b[0m \u001b[0;34m\u001b[0m\u001b[0m\n\u001b[1;32m    632\u001b[0m     \u001b[0;32melif\u001b[0m \u001b[0mn\u001b[0m \u001b[0;34m==\u001b[0m \u001b[0;36m2\u001b[0m\u001b[0;34m:\u001b[0m\u001b[0;34m\u001b[0m\u001b[0;34m\u001b[0m\u001b[0m\n\u001b[0;32m--> 633\u001b[0;31m         \u001b[0;32mreturn\u001b[0m \u001b[0mfmatmul\u001b[0m\u001b[0;34m(\u001b[0m\u001b[0ma\u001b[0m\u001b[0;34m,\u001b[0m \u001b[0ma\u001b[0m\u001b[0;34m)\u001b[0m\u001b[0;34m\u001b[0m\u001b[0;34m\u001b[0m\u001b[0m\n\u001b[0m\u001b[1;32m    634\u001b[0m \u001b[0;34m\u001b[0m\u001b[0m\n\u001b[1;32m    635\u001b[0m     \u001b[0;32melif\u001b[0m \u001b[0mn\u001b[0m \u001b[0;34m==\u001b[0m \u001b[0;36m3\u001b[0m\u001b[0;34m:\u001b[0m\u001b[0;34m\u001b[0m\u001b[0;34m\u001b[0m\u001b[0m\n",
      "\u001b[0;31mKeyboardInterrupt\u001b[0m: "
     ]
    }
   ],
   "source": [
    "%autoreload\n",
    "print('###### Target Temperature: {:03.1f} K'.format(Tm_max), ' ######')\n",
    "\n",
    "for i, log10mDM in enumerate(tqdm(log10_m_chi_arr)):\n",
    "    \n",
    "    print('****** log10(mDM): ', log10mDM, ' ******')\n",
    "    mDM = 10**log10mDM\n",
    "    \n",
    "    below_target = False\n",
    "    above_target = False\n",
    "    j = np.where(log10_sigmav_over_m_arr > max_xsec_no_br[i])[0][0]\n",
    "    \n",
    "    while (\n",
    "        not below_target or not above_target\n",
    "    ):\n",
    "\n",
    "#         print('****************************')\n",
    "        sigmav = 10**log10_sigmav_over_m_arr[j] * mDM\n",
    "        \n",
    "        Tm_ann_br[i,j] = get_T_swave(mDM, sigmav, br=True, pri='phot')\n",
    "        print('sigmav/m: {:03.1e}'.format(sigmav/mDM), ' T(z = 17) w/ backreaction: {:03.1f} K'.format(Tm_ann_no_br[i,j]))\n",
    "             \n",
    "        if Tm_ann_br[i,j] <= Tm_max:\n",
    "            \n",
    "            below_target = True\n",
    "            # Below target T_m means we need a larger sigmav.\n",
    "            j += 1\n",
    "            \n",
    "        elif Tm_ann_br[i,j] >= Tm_max:\n",
    "            \n",
    "            above_target = True\n",
    "            # Above target T_m means we need a smaller sigmav. \n",
    "            j -= 1\n",
    "            \n",
    "        \n",
    "#         print('****************************')\n",
    "\n",
    "print('###### Calculation Complete! ######')"
   ]
  },
  {
   "cell_type": "markdown",
   "metadata": {},
   "source": [
    "## Bibliography"
   ]
  },
  {
   "cell_type": "markdown",
   "metadata": {},
   "source": [
    "<div class=\"cite2c-biblio\"></div>"
   ]
  },
  {
   "cell_type": "markdown",
   "metadata": {},
   "source": [
    "## Plotting"
   ]
  },
  {
   "cell_type": "code",
   "execution_count": 30,
   "metadata": {},
   "outputs": [],
   "source": [
    "pri_list = ['elec', 'phot']\n",
    "inj_type_list = ['decay', 'swave']\n",
    "br_list   = ['std', 'BR']\n",
    "\n",
    "# mbnds = [4,12.5]\n",
    "\n",
    "# if inj_type == 'decay':\n",
    "#         parambnds = [23,28.25 + step] #tau\n",
    "#         param_guess = 27\n",
    "#     else:\n",
    "#         parambnds = [-28,-25 + step] # sigma v / mDM\n",
    "#         param_guess = -26.5\n",
    "# else:\n",
    "#     mbnds = [6.01,12.51]\n",
    "#     log10mDM_arr = np.arange(mbnds[0], mbnds[1], step)\n",
    "\n",
    "#     if inj_type == 'decay':\n",
    "#         parambnds = [24,28.25 + step]\n",
    "#         param_guess = 27\n",
    "#     else:    \n",
    "#         parambnds = [-30.5,-24.5 + step]\n",
    "#         param_guess = -26\n",
    "\n",
    "data = {'elec':{}, 'phot':{}}\n",
    "\n",
    "m_chi_absc = {'elec':{}, 'phot':{}}\n",
    "inj_absc   = {'elec':{}, 'phot':{}}\n",
    "\n",
    "interp_data = {'elec':{}, 'phot':{}}\n",
    "\n",
    "\n",
    "from scipy.interpolate import interp2d\n",
    "\n",
    "for pri in pri_list:\n",
    "    data[pri] = {}\n",
    "    m_chi_absc[pri] = {}\n",
    "    inj_absc[pri] = {}\n",
    "    interp_data[pri] = {}\n",
    "    \n",
    "    if pri == 'elec':\n",
    "        cf_str = '12'\n",
    "    else:\n",
    "        cf_str = '4'\n",
    "    for inj_type in inj_type_list:\n",
    "        data[pri][inj_type] = {}\n",
    "        m_chi_absc[pri][inj_type] = {}\n",
    "        inj_absc[pri][inj_type] = {} \n",
    "        interp_data[pri][inj_type] = {}\n",
    "        for br in br_list:\n",
    "            data[pri][inj_type][br] = pickle.load(\n",
    "                open(\n",
    "                    '/Users/gregoryridgway/Dropbox (MIT)/Photon Deposition/Gregs_Checks/T_IGM_17_'\n",
    "                    +pri+'_'+inj_type+'_'+br+'_coarsen'+cf_str+'.dat','rb'\n",
    "                )\n",
    "            )\n",
    "            # Clean the data. \n",
    "            if inj_type == 'decay':\n",
    "                for mDM_Tm in data[pri][inj_type][br]:\n",
    "                    i=0\n",
    "                    lower_zeros = True\n",
    "                    while lower_zeros:\n",
    "                        if mDM_Tm[i] == 0:\n",
    "                            mDM_Tm[i] = 30\n",
    "                            i += 1\n",
    "                        else:\n",
    "                            lower_zeros = False\n",
    "            else:\n",
    "                for mDM_Tm in data[pri][inj_type][br]:\n",
    "                    i=-1\n",
    "                    upper_zeros = True\n",
    "                    while upper_zeros:\n",
    "                        if mDM_Tm[i] == 0:\n",
    "                            mDM_Tm[i] = 30\n",
    "                            i -= 1\n",
    "                        else:\n",
    "                            upper_zeros = False\n",
    "                            \n",
    "            data[pri][inj_type][br][data[pri][inj_type][br] <= 0] = 1e-100\n",
    "            # Insert the abscissa\n",
    "            if pri == 'elec':\n",
    "                m_chi_absc[pri][inj_type][br] = np.arange(6.01, 12.51, 0.25)\n",
    "                if inj_type == 'decay':                    \n",
    "                    inj_absc[pri][inj_type][br] = np.arange(24., 28.5, 0.25)\n",
    "                elif inj_type == 'swave':\n",
    "                    inj_absc[pri][inj_type][br] = np.arange(-30.5, -24.25, 0.25)\n",
    "            elif pri == 'phot':\n",
    "                m_chi_absc[pri][inj_type][br] = np.arange(4, 12.5, 0.25)\n",
    "                if inj_type == 'decay':\n",
    "                    inj_absc[pri][inj_type][br] = np.arange(23., 28.5, 0.25)\n",
    "                elif inj_type == 'swave':\n",
    "                    inj_absc[pri][inj_type][br] = np.arange(-28., -24.75, 0.25)\n",
    "\n",
    "            interp_data[pri][inj_type][br] = interp1d(\n",
    "                m_chi_absc[pri][inj_type][br],\n",
    "                np.log10(data[pri][inj_type][br]),\n",
    "                kind='slinear', axis=0\n",
    "            )             \n",
    "                    \n",
    "                    "
   ]
  },
  {
   "cell_type": "code",
   "execution_count": 33,
   "metadata": {},
   "outputs": [
    {
     "ename": "ValueError",
     "evalue": "A value in x_new is below the interpolation range.",
     "output_type": "error",
     "traceback": [
      "\u001b[0;31m---------------------------------------------------------------------------\u001b[0m",
      "\u001b[0;31mValueError\u001b[0m                                Traceback (most recent call last)",
      "\u001b[0;32m<ipython-input-33-fc831c0f6144>\u001b[0m in \u001b[0;36m<module>\u001b[0;34m\u001b[0m\n\u001b[1;32m      8\u001b[0m \u001b[0mdata_mDM_fine_interp\u001b[0m \u001b[0;34m=\u001b[0m \u001b[0minterp1d\u001b[0m\u001b[0;34m(\u001b[0m\u001b[0minj_absc\u001b[0m\u001b[0;34m[\u001b[0m\u001b[0;34m'phot'\u001b[0m\u001b[0;34m]\u001b[0m\u001b[0;34m[\u001b[0m\u001b[0;34m'swave'\u001b[0m\u001b[0;34m]\u001b[0m\u001b[0;34m[\u001b[0m\u001b[0;34m'std'\u001b[0m\u001b[0;34m]\u001b[0m\u001b[0;34m,\u001b[0m \u001b[0mdata_mDM_fine\u001b[0m\u001b[0;34m,\u001b[0m \u001b[0mkind\u001b[0m\u001b[0;34m=\u001b[0m\u001b[0;34m'slinear'\u001b[0m\u001b[0;34m)\u001b[0m\u001b[0;34m\u001b[0m\u001b[0;34m\u001b[0m\u001b[0m\n\u001b[1;32m      9\u001b[0m \u001b[0;34m\u001b[0m\u001b[0m\n\u001b[0;32m---> 10\u001b[0;31m \u001b[0mplot_data\u001b[0m \u001b[0;34m=\u001b[0m \u001b[0mdata_mDM_fine_interp\u001b[0m\u001b[0;34m(\u001b[0m\u001b[0mtau_fine_arr\u001b[0m\u001b[0;34m)\u001b[0m\u001b[0;34m\u001b[0m\u001b[0;34m\u001b[0m\u001b[0m\n\u001b[0m\u001b[1;32m     11\u001b[0m \u001b[0;34m\u001b[0m\u001b[0m\n\u001b[1;32m     12\u001b[0m \u001b[0;34m\u001b[0m\u001b[0m\n",
      "\u001b[0;32m/usr/local/lib/python3.7/site-packages/scipy/interpolate/polyint.py\u001b[0m in \u001b[0;36m__call__\u001b[0;34m(self, x)\u001b[0m\n\u001b[1;32m     77\u001b[0m         \"\"\"\n\u001b[1;32m     78\u001b[0m         \u001b[0mx\u001b[0m\u001b[0;34m,\u001b[0m \u001b[0mx_shape\u001b[0m \u001b[0;34m=\u001b[0m \u001b[0mself\u001b[0m\u001b[0;34m.\u001b[0m\u001b[0m_prepare_x\u001b[0m\u001b[0;34m(\u001b[0m\u001b[0mx\u001b[0m\u001b[0;34m)\u001b[0m\u001b[0;34m\u001b[0m\u001b[0;34m\u001b[0m\u001b[0m\n\u001b[0;32m---> 79\u001b[0;31m         \u001b[0my\u001b[0m \u001b[0;34m=\u001b[0m \u001b[0mself\u001b[0m\u001b[0;34m.\u001b[0m\u001b[0m_evaluate\u001b[0m\u001b[0;34m(\u001b[0m\u001b[0mx\u001b[0m\u001b[0;34m)\u001b[0m\u001b[0;34m\u001b[0m\u001b[0;34m\u001b[0m\u001b[0m\n\u001b[0m\u001b[1;32m     80\u001b[0m         \u001b[0;32mreturn\u001b[0m \u001b[0mself\u001b[0m\u001b[0;34m.\u001b[0m\u001b[0m_finish_y\u001b[0m\u001b[0;34m(\u001b[0m\u001b[0my\u001b[0m\u001b[0;34m,\u001b[0m \u001b[0mx_shape\u001b[0m\u001b[0;34m)\u001b[0m\u001b[0;34m\u001b[0m\u001b[0;34m\u001b[0m\u001b[0m\n\u001b[1;32m     81\u001b[0m \u001b[0;34m\u001b[0m\u001b[0m\n",
      "\u001b[0;32m/usr/local/lib/python3.7/site-packages/scipy/interpolate/interpolate.py\u001b[0m in \u001b[0;36m_evaluate\u001b[0;34m(self, x_new)\u001b[0m\n\u001b[1;32m    662\u001b[0m         \u001b[0my_new\u001b[0m \u001b[0;34m=\u001b[0m \u001b[0mself\u001b[0m\u001b[0;34m.\u001b[0m\u001b[0m_call\u001b[0m\u001b[0;34m(\u001b[0m\u001b[0mself\u001b[0m\u001b[0;34m,\u001b[0m \u001b[0mx_new\u001b[0m\u001b[0;34m)\u001b[0m\u001b[0;34m\u001b[0m\u001b[0;34m\u001b[0m\u001b[0m\n\u001b[1;32m    663\u001b[0m         \u001b[0;32mif\u001b[0m \u001b[0;32mnot\u001b[0m \u001b[0mself\u001b[0m\u001b[0;34m.\u001b[0m\u001b[0m_extrapolate\u001b[0m\u001b[0;34m:\u001b[0m\u001b[0;34m\u001b[0m\u001b[0;34m\u001b[0m\u001b[0m\n\u001b[0;32m--> 664\u001b[0;31m             \u001b[0mbelow_bounds\u001b[0m\u001b[0;34m,\u001b[0m \u001b[0mabove_bounds\u001b[0m \u001b[0;34m=\u001b[0m \u001b[0mself\u001b[0m\u001b[0;34m.\u001b[0m\u001b[0m_check_bounds\u001b[0m\u001b[0;34m(\u001b[0m\u001b[0mx_new\u001b[0m\u001b[0;34m)\u001b[0m\u001b[0;34m\u001b[0m\u001b[0;34m\u001b[0m\u001b[0m\n\u001b[0m\u001b[1;32m    665\u001b[0m             \u001b[0;32mif\u001b[0m \u001b[0mlen\u001b[0m\u001b[0;34m(\u001b[0m\u001b[0my_new\u001b[0m\u001b[0;34m)\u001b[0m \u001b[0;34m>\u001b[0m \u001b[0;36m0\u001b[0m\u001b[0;34m:\u001b[0m\u001b[0;34m\u001b[0m\u001b[0;34m\u001b[0m\u001b[0m\n\u001b[1;32m    666\u001b[0m                 \u001b[0;31m# Note fill_value must be broadcast up to the proper size\u001b[0m\u001b[0;34m\u001b[0m\u001b[0;34m\u001b[0m\u001b[0;34m\u001b[0m\u001b[0m\n",
      "\u001b[0;32m/usr/local/lib/python3.7/site-packages/scipy/interpolate/interpolate.py\u001b[0m in \u001b[0;36m_check_bounds\u001b[0;34m(self, x_new)\u001b[0m\n\u001b[1;32m    691\u001b[0m         \u001b[0;31m# !! Could provide more information about which values are out of bounds\u001b[0m\u001b[0;34m\u001b[0m\u001b[0;34m\u001b[0m\u001b[0;34m\u001b[0m\u001b[0m\n\u001b[1;32m    692\u001b[0m         \u001b[0;32mif\u001b[0m \u001b[0mself\u001b[0m\u001b[0;34m.\u001b[0m\u001b[0mbounds_error\u001b[0m \u001b[0;32mand\u001b[0m \u001b[0mbelow_bounds\u001b[0m\u001b[0;34m.\u001b[0m\u001b[0many\u001b[0m\u001b[0;34m(\u001b[0m\u001b[0;34m)\u001b[0m\u001b[0;34m:\u001b[0m\u001b[0;34m\u001b[0m\u001b[0;34m\u001b[0m\u001b[0m\n\u001b[0;32m--> 693\u001b[0;31m             raise ValueError(\"A value in x_new is below the interpolation \"\n\u001b[0m\u001b[1;32m    694\u001b[0m                              \"range.\")\n\u001b[1;32m    695\u001b[0m         \u001b[0;32mif\u001b[0m \u001b[0mself\u001b[0m\u001b[0;34m.\u001b[0m\u001b[0mbounds_error\u001b[0m \u001b[0;32mand\u001b[0m \u001b[0mabove_bounds\u001b[0m\u001b[0;34m.\u001b[0m\u001b[0many\u001b[0m\u001b[0;34m(\u001b[0m\u001b[0;34m)\u001b[0m\u001b[0;34m:\u001b[0m\u001b[0;34m\u001b[0m\u001b[0;34m\u001b[0m\u001b[0m\n",
      "\u001b[0;31mValueError\u001b[0m: A value in x_new is below the interpolation range."
     ]
    }
   ],
   "source": [
    "from scipy.interpolate import pchip_interpolate\n",
    "\n",
    "mDM_fine_arr = np.arange(6.01, 12., 0.15)\n",
    "tau_fine_arr = np.arange(-30.5,-24.5, 0.15)\n",
    "\n",
    "data_mDM_fine = interp_data['elec']['swave']['std'](mDM_fine_arr)\n",
    "\n",
    "data_mDM_fine_interp = interp1d(inj_absc['elec']['swave']['std'], data_mDM_fine, kind='slinear')\n",
    "\n",
    "plot_data = data_mDM_fine_interp(tau_fine_arr)\n",
    "\n",
    "\n",
    "plt.figure()\n",
    "\n",
    "plt.loglog()\n",
    "\n",
    "plt.contour(\n",
    "    10**mDM_fine_arr, 10**tau_fine_arr, \n",
    "    np.transpose(plot_data), \n",
    "    levels=[np.log10(Tm_max)], colors='C0'\n",
    ")\n",
    "plt.contour(\n",
    "    10**mDM_fine_arr, 10**tau_fine_arr, \n",
    "    np.transpose(plot_data),\n",
    "    levels=[np.log10(Tm_max)], colors='C1'\n",
    ")\n",
    "\n",
    "\n"
   ]
  },
  {
   "cell_type": "markdown",
   "metadata": {},
   "source": [
    "### Structure Formation"
   ]
  },
  {
   "cell_type": "markdown",
   "metadata": {},
   "source": [
    "# Scan through $m_\\chi$ and $\\tau$ or $\\sigma v$"
   ]
  },
  {
   "cell_type": "markdown",
   "metadata": {},
   "source": [
    "## swave annihilation"
   ]
  },
  {
   "cell_type": "markdown",
   "metadata": {},
   "source": [
    "Specify type of injection (swave or decay) and products ($e^+e^-$ or $\\gamma\\gamma$)"
   ]
  },
  {
   "cell_type": "code",
   "execution_count": 176,
   "metadata": {},
   "outputs": [],
   "source": [
    "inj_particle = 'electron'\n",
    "inj_str = inj_particle[:4]\n",
    "inj_type = 'swave'\n",
    "\n",
    "if inj_type == 'swave':\n",
    "    struct_boost = phys.struct_boost_func()\n",
    "    struct_func = struct_boost\n",
    "else:\n",
    "    def struct_boost(rs):\n",
    "        return 1\n",
    "    struct_func = None\n",
    "    \n",
    "if inj_particle == 'photon':\n",
    "    mass = 0\n",
    "    coarsen_factor=4\n",
    "else:\n",
    "    mass = phys.me\n",
    "    coarsen_factor=12\n",
    "\n",
    "rs_init = 3000"
   ]
  },
  {
   "cell_type": "markdown",
   "metadata": {},
   "source": [
    "Given a dark matter mass and $\\tau$ or $\\sigma v$, calculate $T(z=17.2)$."
   ]
  },
  {
   "cell_type": "code",
   "execution_count": 177,
   "metadata": {},
   "outputs": [],
   "source": [
    "def get_T(mDM, log10_p, backreaction):\n",
    "    if inj_type == 'decay':\n",
    "        Einj = mDM/2-mass\n",
    "        Ecom=mDM\n",
    "    if inj_type == 'swave':\n",
    "        Einj = mDM - mass\n",
    "        Ecom = 2*mDM\n",
    "        \n",
    "    if inj_particle == 'photon':\n",
    "        primary = 'phot_delta'\n",
    "    else:\n",
    "        primary = 'elec_delta'\n",
    "\n",
    "    def rate_func_N(rs):\n",
    "        return phys.inj_rate(inj_type, rs, mDM=mDM, tau=10**log10_p, sigmav=10**log10_p*mDM/1e9)*struct_boost(rs)/Ecom\n",
    "    def rate_func_eng(rs):\n",
    "        return phys.inj_rate(inj_type, rs, mDM=mDM, tau=10**log10_p, sigmav=10**log10_p*mDM/1e9)*struct_boost(rs)\n",
    "\n",
    "    a = main.evolve(\n",
    "            primary=primary,\n",
    "            rate_func_N=rate_func_N, rate_func_eng=rate_func_eng,\n",
    "            DM_process=inj_type, mDM=mDM, sigmav=10**log10_p*mDM/1e9, lifetime=10**log10_p,\n",
    "            start_rs = 3000, end_rs=end_rs,\n",
    "            coarsen_factor=coarsen_factor, backreaction=backreaction,\n",
    "            struct_boost=struct_boost\n",
    "    )\n",
    "    return a['Tm'][-1]/phys.kB"
   ]
  },
  {
   "cell_type": "markdown",
   "metadata": {},
   "source": [
    "Set up a $(m_\\chi, \\tau \\text{ or } \\sigma v)$ grid over which to scan"
   ]
  },
  {
   "cell_type": "code",
   "execution_count": 178,
   "metadata": {},
   "outputs": [],
   "source": [
    "%autoreload\n",
    "step = .25\n",
    "if inj_particle == 'photon':\n",
    "    mbnds = [4,12.5]\n",
    "    log10mDM_arr = np.arange(mbnds[0], mbnds[1], step)\n",
    "\n",
    "    if inj_type == 'decay':\n",
    "        parambnds = [23,28.25 + step] #tau\n",
    "        param_guess = 27\n",
    "    else:\n",
    "        parambnds = [-28,-25 + step] # sigma v / mDM\n",
    "        param_guess = -26.5\n",
    "else:\n",
    "    mbnds = [6.01,12.51]\n",
    "    log10mDM_arr = np.arange(mbnds[0], mbnds[1], step)\n",
    "\n",
    "    if inj_type == 'decay':\n",
    "        parambnds = [24,28.25 + step]\n",
    "        param_guess = 27\n",
    "    else:    \n",
    "        parambnds = [-30.5,-24.5 + step]\n",
    "        param_guess = -26\n",
    "    \n",
    "log10_param = np.arange(parambnds[0], parambnds[1], step)"
   ]
  },
  {
   "cell_type": "markdown",
   "metadata": {},
   "source": [
    "Conduct the scan without back-reaction.\n",
    "\n",
    "Loop a grid of $E_\\text{inj}$ values, $E^i_\\text{inj}$.  \n",
    "For the first grid value, $E^0_\\text{inj}$, provide a guess (`param_guess`) for the $\\tau$ or $\\langle \\sigma v \\rangle$ that leads to $T_m(z=17.2)$ attaining its bound.  If the guess led to $T_m(z=17.2) > T_\\text{bnd}$, increase $\\tau$ or decrease $\\langle \\sigma v \\rangle$.  If $T_m(z=17.2) < T_\\text{bnd}$, decrease $\\tau$ or increase $\\langle \\sigma v \\rangle$.  Repeat this process until $T_m(z=17.2)$ crosses the bound once.\n",
    "\n",
    "For the next injection energies set `param_guess` to the value that $\\tau$ or $\\langle \\sigma v \\rangle$ arrived at in the previous step and repeat."
   ]
  },
  {
   "cell_type": "code",
   "execution_count": 46,
   "metadata": {
    "scrolled": true
   },
   "outputs": [],
   "source": [
    "user = 'gregoryridgway'\n",
    "%autoreload\n",
    "download_T = True\n",
    "if download_T:\n",
    "    T_IGM_17_std = pickle.load(open('/Users/'+user+'/Dropbox (MIT)/Photon Deposition/Gregs_Checks/T_IGM_17_'+\n",
    "             inj_str+'_'+inj_type+'_std_coarsen'+str(coarsen_factor)+'.dat','rb'))\n",
    "else:\n",
    "    T_IGM_17_std = np.zeros((log10mDM_arr.size, log10_param.size))\n",
    "\n",
    "    for i, log10mDM in enumerate(tqdm(log10mDM_arr)):\n",
    "        print('log10(mDM): ', log10mDM)\n",
    "        mDM = 10**log10mDM\n",
    "        j=len(log10_param[log10_param < param_guess])\n",
    "        above=False\n",
    "        below=False\n",
    "\n",
    "        while((not below) or (not above)):\n",
    "            log10_p = log10_param[j]\n",
    "            print('log10(param): ', log10_p)\n",
    "\n",
    "            T_std = get_T(mDM, log10_p, backreaction=False)\n",
    "            T_IGM_17_std[i,j] = T_std\n",
    "            print('T_0 [K]: ', T_std)\n",
    "\n",
    "            if T_std > Tm_bnd:\n",
    "                above = True\n",
    "                print(\"T_std Above Threshold\")\n",
    "                if inj_type == 'swave':\n",
    "                    j = j-1\n",
    "                else:\n",
    "                    j = j+1\n",
    "            else:\n",
    "                below = True\n",
    "                print(\"T_std Below Threshold\")\n",
    "                if inj_type == 'swave':\n",
    "                    j = j+1\n",
    "                else:\n",
    "                    j = j-1\n",
    "\n",
    "            param_guess = log10_p        \n",
    "\n",
    "    pickle.dump(\n",
    "        T_IGM_17_std, \n",
    "        open('/Users/'+user+'/Dropbox (MIT)/Photon Deposition/Gregs_Checks/T_IGM_17_'+\n",
    "             inj_str+'_'+inj_type+'_std_coarsen'+str(coarsen_factor)+'.dat','wb')\n",
    "    )"
   ]
  },
  {
   "cell_type": "code",
   "execution_count": 179,
   "metadata": {},
   "outputs": [],
   "source": [
    "T_IGM_17_std = Tm_ann_no_br"
   ]
  },
  {
   "cell_type": "markdown",
   "metadata": {},
   "source": [
    "Linearly interpolate over the parameter values to find the $\\tau$ or $\\sigma$ that saturates the $T_m(z=17.2)$ bound."
   ]
  },
  {
   "cell_type": "code",
   "execution_count": 180,
   "metadata": {},
   "outputs": [
    {
     "name": "stdout",
     "output_type": "stream",
     "text": [
      "20.316151537057852\n"
     ]
    }
   ],
   "source": [
    "print(Tm_max)\n",
    "def find_param(Tlist):\n",
    "    if inj_type == 'swave':\n",
    "        above = np.where((Tlist > 0) & (Tlist > Tm_max))[0][0]\n",
    "        below = above-1\n",
    "    else:\n",
    "        above = np.where((Tlist > 0) & (Tlist > Tm_max))[0][-1]\n",
    "        below = above+1\n",
    "    Ts = [Tlist[below], Tlist[above]]\n",
    "    ps = [log10_param[below], log10_param[above]]\n",
    "    return (np.diff(ps)/np.diff(Ts)*(Tm_max-Ts[0]) + ps[0])[0]\n",
    "\n",
    "thresh_params_std = np.array(\n",
    "    [find_param(row) for row in T_IGM_17_std]\n",
    ")"
   ]
  },
  {
   "cell_type": "markdown",
   "metadata": {},
   "source": [
    "Conduct the scan with back-reaction"
   ]
  },
  {
   "cell_type": "code",
   "execution_count": 181,
   "metadata": {},
   "outputs": [],
   "source": [
    "%autoreload\n",
    "download_T = True\n",
    "if download_T:\n",
    "    T_IGM_17_BR = pickle.load(open('/Users/'+user+'/Dropbox (MIT)/Photon Deposition/Gregs_Checks/T_IGM_17_'+\n",
    "             inj_str+'_'+inj_type+'_BR_coarsen'+str(coarsen_factor)+'.dat','rb'))\n",
    "else:\n",
    "    T_IGM_17_BR = np.zeros((log10mDM_arr.size, log10_param.size))\n",
    "    param_guess = thresh_params_std[0]\n",
    "\n",
    "    for i, log10mDM in enumerate(tqdm(log10mDM_arr)):\n",
    "        print('log10(mDM): ', log10mDM)\n",
    "        mDM = 10**log10mDM\n",
    "        j=len(log10_param[log10_param < param_guess])\n",
    "        above=False\n",
    "        below=False\n",
    "\n",
    "        while((not below) or (not above)):\n",
    "            log10_p = log10_param[j]\n",
    "            print('log10(param): ', log10_p)\n",
    "\n",
    "            T_BR = get_T(mDM, log10_p, backreaction=True)\n",
    "            T_IGM_17_BR[i,j] = T_BR\n",
    "            print('T_0 [K]: ', T_BR)\n",
    "\n",
    "            if T_BR > Tm_bnd:\n",
    "                above = True\n",
    "                print(\"T_BR Above Threshold\")\n",
    "                if inj_type == 'swave':\n",
    "                    j = j-1\n",
    "                else:\n",
    "                    j = j+1\n",
    "            else:\n",
    "                below = True\n",
    "                print(\"T_BR Below Threshold\")\n",
    "                if inj_type == 'swave':\n",
    "                    j = j+1\n",
    "                else:\n",
    "                    j = j-1\n",
    "            param_guess = log10_p\n",
    "\n",
    "\n",
    "    pickle.dump(\n",
    "        T_IGM_17_BR, \n",
    "        open('/Users/gridgway/Dropbox (MIT)/Photon Deposition/Gregs_Checks/T_IGM_17_'+\n",
    "             inj_str+'_'+inj_type+'_BR_coarsen'+str(coarsen_factor)+'.dat','wb')\n",
    "    )"
   ]
  },
  {
   "cell_type": "markdown",
   "metadata": {},
   "source": [
    "Find the $\\tau$ or $\\sigma$ that saturates the $T_m(z=17.2)$ bound when including backreaction."
   ]
  },
  {
   "cell_type": "code",
   "execution_count": 182,
   "metadata": {},
   "outputs": [],
   "source": [
    "thresh_params_BR = np.array(\n",
    "    [find_param(row) for row in T_IGM_17_BR]\n",
    ")"
   ]
  },
  {
   "cell_type": "markdown",
   "metadata": {},
   "source": [
    "### Plots"
   ]
  },
  {
   "cell_type": "markdown",
   "metadata": {},
   "source": [
    "Make an interpolation function for the points $(m_\\text{DM}, \\tau_\\text{min})$ or $(m_\\text{DM}, \\sigma_\\text{max})$ with and without backreaction."
   ]
  },
  {
   "cell_type": "code",
   "execution_count": 183,
   "metadata": {},
   "outputs": [],
   "source": [
    "thresh_params_BR = np.array([find_param(row) for row in T_IGM_17_BR])\n",
    "\n",
    "std_interp = interp1d(log10mDM_arr, thresh_params_std, kind='quadratic')\n",
    "BR_interp = interp1d(log10mDM_arr, thresh_params_BR, kind='quadratic')\n",
    "\n",
    "log10mDM_arr_fine = np.arange(log10mDM_arr[0], log10mDM_arr[-1], .01)"
   ]
  },
  {
   "cell_type": "code",
   "execution_count": 184,
   "metadata": {},
   "outputs": [
    {
     "data": {
      "image/png": "[encoded data removed]",
      "text/plain": [
       "<Figure size 620x620 with 1 Axes>"
      ]
     },
     "metadata": {},
     "output_type": "display_data"
    }
   ],
   "source": [
    "plt.figure()\n",
    "ax = plt.gca()\n",
    "ax.loglog()\n",
    "\n",
    "xmin = 10**log10mDM_arr_fine[0]/1e9\n",
    "xmax = 10**log10mDM_arr_fine[-1]/1e9\n",
    "\n",
    "if inj_particle=='electron':\n",
    "    if inj_type == 'swave':\n",
    "        plt.title(r'\\bf{21-cm Sensitivity,} $\\chi \\chi \\to e^+ e^-$')\n",
    "        ymin = 3e-29\n",
    "        ymax = 1e-25\n",
    "    else:\n",
    "        plt.title(r'\\bf{21-cm Sensitivity,} $\\chi \\to e^+ e^-$')\n",
    "        ymin = 1e24\n",
    "        ymax = 5e28\n",
    "else:\n",
    "    if inj_type == 'swave':\n",
    "        plt.title(r'\\bf{21-cm Sensitivity,} $\\chi\\chi \\to \\gamma\\gamma$')\n",
    "        ymin = 3e-27\n",
    "        ymax = 1.5e-25\n",
    "    else:\n",
    "        plt.title(r'\\bf{21-cm Sensitivity,} $\\chi \\to \\gamma\\gamma$')\n",
    "        ymin = 2e23\n",
    "        ymax = 4e26\n",
    "    \n",
    "plt.xlabel(r'Dark Matter Mass $m_\\chi$ [GeV]')\n",
    "if inj_type == 'swave':\n",
    "    plt.ylabel(r'Maximum $\\langle \\sigma v \\rangle / m_\\chi$ [cm$^3$ s$^{-1}$ GeV$^{-1}$]')\n",
    "else:\n",
    "    plt.ylabel(r'Minimum Lifetime $\\tau \\, [\\mathrm{s}]$')\n",
    "    \n",
    "plt.axis([xmin, xmax, ymin, ymax])\n",
    "\n",
    "plt_std, = plt.plot(10**log10mDM_arr_fine/1e9, 10**std_interp(log10mDM_arr_fine), \n",
    "        linewidth=1, label='No Backreaction', color='#6a176e', linestyle='--')\n",
    "plt_BR, = plt.plot(10**log10mDM_arr_fine/1e9, 10**BR_interp(log10mDM_arr_fine), \n",
    "         linewidth=3, label='With Backreaction', color='#f37819')\n",
    "\n",
    "ax.fill_between(\n",
    "    10**log10mDM_arr_fine/1e9, \n",
    "    1e-15, \n",
    "    (10**std_interp(log10mDM_arr_fine)), \n",
    "    interpolate=True, \n",
    "    color='#6a176e',\n",
    "    alpha=0.2\n",
    ")\n",
    "\n",
    "ax.fill_between(\n",
    "    10**log10mDM_arr_fine/1e9, \n",
    "    1e-15, \n",
    "    (10**BR_interp(log10mDM_arr_fine)), \n",
    "    interpolate=True, \n",
    "    color='#f37819',\n",
    "    alpha=.1\n",
    ")\n",
    "\n",
    "if inj_type == 'swave':\n",
    "    plt.text(0.52, 0.22, r'$T_{21}$ = $-50$ mK', fontsize=20, transform=ax.transAxes) \n",
    "else:\n",
    "    plt.text(0.49, 0.89, r'$T_{21}$ = $-50$ mK', fontsize=20, transform=ax.transAxes)\n",
    "\n",
    "if inj_type == 'swave':\n",
    "    if inj_str == 'phot':\n",
    "        leg = plt.legend(handles=[plt_std, plt_BR])\n",
    "    else:\n",
    "        leg = plt.legend(handles=[plt_std, plt_BR], loc='lower right')\n",
    "else:\n",
    "    leg = plt.legend(handles=[plt_std, plt_BR], loc=(0.4, 0.72))\n",
    "\n",
    "# plt.savefig('/Users/gregoryridgway/Dropbox (MIT)/Photon Deposition/Draft/plots/'+\n",
    "#             'DarkHistory_21cm_Sensitivity_'+inj_type+'_'+inj_str+'v2.pdf')"
   ]
  },
  {
   "cell_type": "code",
   "execution_count": null,
   "metadata": {},
   "outputs": [],
   "source": []
  }
 ],
 "metadata": {
  "cite2c": {
   "citations": {
    "6232408/9ZW7JWLJ": {
     "URL": "https://www.nature.com/articles/nature25792",
     "accessed": {
      "day": 1,
      "month": 4,
      "year": 2019
     },
     "id": "6232408/9ZW7JWLJ",
     "title": "An absorption profile centred at 78 megahertz in the sky-averaged spectrum | Nature",
     "type": "webpage"
    },
    "6232408/FH99AISX": {
     "DOI": "10.1038/nature25792",
     "URL": "https://www.nature.com/articles/nature25792",
     "abstract": "After stars formed in the early Universe, their ultraviolet light is expected, eventually, to have penetrated the primordial hydrogen gas and altered the excitation state of its 21-centimetre hyperfine line. This alteration would cause the gas to absorb photons from the cosmic microwave background, producing a spectral distortion that should be observable today at radio frequencies of less than 200 megahertz1. Here we report the detection of a flattened absorption profile in the sky-averaged radio spectrum, which is centred at a frequency of 78 megahertz and has a best-fitting full-width at half-maximum of 19 megahertz and an amplitude of 0.5 kelvin. The profile is largely consistent with expectations for the 21-centimetre signal induced by early stars; however, the best-fitting amplitude of the profile is more than a factor of two greater than the largest predictions2. This discrepancy suggests that either the primordial gas was much colder than expected or the background radiation temperature was hotter than expected. Astrophysical phenomena (such as radiation from stars and stellar remnants) are unlikely to account for this discrepancy; of the proposed extensions to the standard model of cosmology and particle physics, only cooling of the gas as a result of interactions between dark matter and baryons seems to explain the observed amplitude3. The low-frequency edge of the observed profile indicates that stars existed and had produced a background of Lyman-α photons by 180 million years after the Big Bang. The high-frequency edge indicates that the gas was heated to above the radiation temperature less than 100 million years later.",
     "accessed": {
      "day": 1,
      "month": 4,
      "year": 2019
     },
     "author": [
      {
       "family": "Bowman",
       "given": "Judd D."
      },
      {
       "family": "Rogers",
       "given": "Alan E. E."
      },
      {
       "family": "Monsalve",
       "given": "Raul A."
      },
      {
       "family": "Mozdzen",
       "given": "Thomas J."
      },
      {
       "family": "Mahesh",
       "given": "Nivedita"
      }
     ],
     "container-title": "Nature",
     "id": "6232408/FH99AISX",
     "issue": "7694",
     "issued": {
      "month": 3,
      "year": 2018
     },
     "language": "en",
     "page": "67-70",
     "page-first": "67",
     "title": "An absorption profile centred at 78 megahertz in the sky-averaged spectrum",
     "type": "article-journal",
     "volume": "555"
    }
   }
  },
  "kernelspec": {
   "display_name": "Python 3",
   "language": "python",
   "name": "python3"
  },
  "language_info": {
   "codemirror_mode": {
    "name": "ipython",
    "version": 3
   },
   "file_extension": ".py",
   "mimetype": "text/x-python",
   "name": "python",
   "nbconvert_exporter": "python",
   "pygments_lexer": "ipython3",
   "version": "3.7.2"
  },
  "toc": {
   "base_numbering": 1,
   "nav_menu": {},
   "number_sections": true,
   "sideBar": true,
   "skip_h1_title": false,
   "title_cell": "Table of Contents",
   "title_sidebar": "Contents",
   "toc_cell": false,
   "toc_position": {},
   "toc_section_display": true,
   "toc_window_display": false
  }
 },
 "nbformat": 4,
 "nbformat_minor": 2
}
