{
 "cells": [
  {
   "cell_type": "code",
   "execution_count": 1,
   "metadata": {
    "collapsed": true
   },
   "outputs": [],
   "source": [
    "%load_ext autoreload\n",
    "import sys\n",
    "sys.path.append(\"..\")"
   ]
  },
  {
   "cell_type": "code",
   "execution_count": 2,
   "metadata": {
    "collapsed": true
   },
   "outputs": [],
   "source": [
    "import numpy as np\n",
    "\n",
    "from darkhistory.spec.spectrum import Spectrum"
   ]
  },
  {
   "cell_type": "code",
   "execution_count": 3,
   "metadata": {},
   "outputs": [],
   "source": [
    "eng = np.array([1,2,3,4,5])\n",
    "dNdE = np.array([1,10,100,1000,10000])\n",
    "test = Spectrum(eng, dNdE)"
   ]
  },
  {
   "cell_type": "code",
   "execution_count": 4,
   "metadata": {},
   "outputs": [
    {
     "name": "stdout",
     "output_type": "stream",
     "text": [
      "[  0.69314718  10.98612289]\n",
      "[ 1 10]\n"
     ]
    }
   ],
   "source": [
    "print(test.N[0:2])\n",
    "print(test.dNdE[0:2])"
   ]
  },
  {
   "cell_type": "code",
   "execution_count": 5,
   "metadata": {},
   "outputs": [
    {
     "name": "stdout",
     "output_type": "stream",
     "text": [
      "[  6.93147181e-01   1.09861229e+01   1.03972077e+02   1.02165125e+03\n",
      "   1.11571776e+04]\n",
      "[    1    10   100  1000 10000]\n"
     ]
    }
   ],
   "source": [
    "a = Spectrum(test.eng, test.dNdE)\n",
    "print(a.N)\n",
    "print(a.dNdE)"
   ]
  },
  {
   "cell_type": "code",
   "execution_count": 10,
   "metadata": {},
   "outputs": [],
   "source": [
    "a.switch_spec_type()"
   ]
  },
  {
   "cell_type": "code",
   "execution_count": 11,
   "metadata": {},
   "outputs": [
    {
     "name": "stdout",
     "output_type": "stream",
     "text": [
      "[  6.93147181e-01   1.09861229e+01   1.03972077e+02   1.02165125e+03\n",
      "   1.11571776e+04]\n",
      "[  1.00000000e+00   1.00000000e+01   1.00000000e+02   1.00000000e+03\n",
      "   1.00000000e+04]\n"
     ]
    }
   ],
   "source": [
    "print(a.N)\n",
    "print(a.dNdE)"
   ]
  },
  {
   "cell_type": "code",
   "execution_count": null,
   "metadata": {
    "collapsed": true
   },
   "outputs": [],
   "source": []
  }
 ],
 "metadata": {
  "kernelspec": {
   "display_name": "Python 3",
   "language": "python",
   "name": "python3"
  },
  "language_info": {
   "codemirror_mode": {
    "name": "ipython",
    "version": 3
   },
   "file_extension": ".py",
   "mimetype": "text/x-python",
   "name": "python",
   "nbconvert_exporter": "python",
   "pygments_lexer": "ipython3",
   "version": "3.6.3"
  }
 },
 "nbformat": 4,
 "nbformat_minor": 2
}
