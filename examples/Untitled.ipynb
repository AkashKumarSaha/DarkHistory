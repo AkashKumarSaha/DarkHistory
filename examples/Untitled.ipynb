{
 "cells": [
  {
   "cell_type": "code",
   "execution_count": 35,
   "metadata": {
    "collapsed": true
   },
   "outputs": [],
   "source": [
    "class SomeClass(object):\n",
    "    def __init__(self, n):\n",
    "        self.list = range(0, n)\n",
    "\n",
    "    @property\n",
    "    def list(self):\n",
    "        return self._list\n",
    "    @list.setter\n",
    "    def list(self, val):\n",
    "        self._list = val\n",
    "        self._listsquare = [x**2 for x in self._list ]\n",
    "\n",
    "    @property\n",
    "    def listsquare(self):\n",
    "        return self._listsquare\n",
    "    @listsquare.setter\n",
    "    def listsquare(self, val):\n",
    "        self.list = [int(pow(x, 0.5)) for x in val]"
   ]
  },
  {
   "cell_type": "code",
   "execution_count": 36,
   "metadata": {
    "collapsed": false
   },
   "outputs": [
    {
     "name": "stdout",
     "output_type": "stream",
     "text": [
      "range(0, 5)\n",
      "range(0, 5)\n",
      "[0, 1, 4, 9, 16]\n",
      "[0, 1, 2, 3, 4, 5]\n",
      "[0, 1, 2, 3, 4, 5]\n",
      "[0, 1, 4, 9, 16, 25]\n"
     ]
    }
   ],
   "source": [
    "a = SomeClass(5)\n",
    "print(a.list)\n",
    "print(a._list)\n",
    "print(a.listsquare)\n",
    "a.listsquare = [0, 1, 4, 9, 16, 25]\n",
    "print(a.list)\n",
    "print(a._list)\n",
    "print(a.listsquare)"
   ]
  },
  {
   "cell_type": "code",
   "execution_count": 11,
   "metadata": {
    "collapsed": false
   },
   "outputs": [
    {
     "data": {
      "text/plain": [
       "range(0, 5)"
      ]
     },
     "execution_count": 11,
     "metadata": {},
     "output_type": "execute_result"
    }
   ],
   "source": [
    "range(0,5)"
   ]
  },
  {
   "cell_type": "code",
   "execution_count": null,
   "metadata": {
    "collapsed": true
   },
   "outputs": [],
   "source": []
  }
 ],
 "metadata": {
  "anaconda-cloud": {},
  "kernelspec": {
   "display_name": "Python [conda env:python3]",
   "language": "python",
   "name": "conda-env-python3-py"
  },
  "language_info": {
   "codemirror_mode": {
    "name": "ipython",
    "version": 3
   },
   "file_extension": ".py",
   "mimetype": "text/x-python",
   "name": "python",
   "nbconvert_exporter": "python",
   "pygments_lexer": "ipython3",
   "version": "3.5.2"
  }
 },
 "nbformat": 4,
 "nbformat_minor": 1
}
