{
 "cells": [
  {
   "cell_type": "markdown",
   "metadata": {},
   "source": [
    "# Checking New ICS Energy Loss Spectra"
   ]
  },
  {
   "cell_type": "markdown",
   "metadata": {},
   "source": [
    "## Initialization"
   ]
  },
  {
   "cell_type": "code",
   "execution_count": 1,
   "metadata": {},
   "outputs": [],
   "source": [
    "%load_ext autoreload\n",
    "import sys\n",
    "sys.path.append(\"..\")"
   ]
  },
  {
   "cell_type": "code",
   "execution_count": 2,
   "metadata": {},
   "outputs": [],
   "source": [
    "%autoreload\n",
    "\n",
    "import matplotlib\n",
    "matplotlib.rc_file('matplotlibrc')\n",
    "import matplotlib.pyplot as plt\n",
    "\n",
    "%matplotlib inline\n",
    "\n",
    "matplotlib.rcParams['figure.figsize'] = [10,10]\n",
    "\n",
    "\n",
    "from astropy.io import fits\n",
    "\n",
    "import numpy as np\n",
    "import pickle\n",
    "import darkhistory.physics as phys\n",
    "import darkhistory.utilities as utils\n",
    "import darkhistory.spec.spectools as spectools\n",
    "import darkhistory.spec.transferfunction as tf\n",
    "from darkhistory.spec.spectrum import Spectrum\n",
    "import darkhistory.history.tla as tla\n",
    "\n",
    "from darkhistory.electrons.ics.ics_engloss_spectrum import engloss_spec_series\n",
    "from darkhistory.electrons.ics.ics_engloss_spectrum import engloss_spec_diff\n",
    "\n",
    "from darkhistory.electrons.ics.bose_einstein_integrals import F_inv_a\n",
    "from darkhistory.electrons.ics.bose_einstein_integrals import F_inv_n\n",
    "\n",
    "from darkhistory.electrons.ics.ics_engloss_spectrum import engloss_spec\n",
    "from darkhistory.electrons.ics.ics_cooling import get_ics_cooling_tf\n",
    "\n",
    "from scipy.integrate import quad\n",
    "from scipy.special import hyp2f1\n",
    "\n",
    "np.set_printoptions(threshold=np.nan,precision=10)"
   ]
  },
  {
   "cell_type": "code",
   "execution_count": 3,
   "metadata": {},
   "outputs": [
    {
     "name": "stdout",
     "output_type": "stream",
     "text": [
      "[ 5.2313512515e-09  3.2023068391e-01  6.7412036657e-01  6.7587085687e-01\n",
      "  1.0000961631e+00  1.9139898541e+00  1.9463468790e+00 -5.0189354398e-01\n",
      " -9.5370458544e-11]\n",
      "[ 5.2313512536e-09  3.2023068399e-01  6.7412028077e-01  6.7587119894e-01\n",
      "  1.0000961631e+00  1.9139907309e+00  1.9463469139e+00 -5.0189354429e-01\n",
      " -9.5370458582e-11]\n"
     ]
    }
   ],
   "source": [
    "n = 24.\n",
    "x = np.array([ -199.12*1e6, -2.21, -.503,-.499, 1e-4, 0.496, 0.505, 3.120, 10922.32*1e6])\n",
    "print(utils.hyp2f1_func_real(n, x))\n",
    "print(np.real(hyp2f1(1, n+1, n+2, x+0j)))"
   ]
  },
  {
   "cell_type": "code",
   "execution_count": 4,
   "metadata": {},
   "outputs": [],
   "source": [
    "nEe = 5000\n",
    "nEp = 5000\n",
    "\n",
    "Emax_rel = 1e10\n",
    "Emin_rel = 1e-8\n",
    "\n",
    "dlnEp = np.log(Emax_rel/Emin_rel)/nEp\n",
    "lowengEp = Emin_rel*np.exp((np.arange(nEp)+0.5)*dlnEp)        \n",
    "\n",
    "dlnEe = np.log(Emax_rel/Emin_rel)/nEe\n",
    "lowengEe = Emin_rel*np.exp((np.arange(nEe)+0.5)*dlnEe)"
   ]
  },
  {
   "cell_type": "code",
   "execution_count": 5,
   "metadata": {
    "scrolled": false
   },
   "outputs": [],
   "source": [
    "# test_series_old = engloss_spec_series(lowengEe, lowengEp, phys.TCMB(1000), spec_type='old')\n",
    "# print('&&&&&&&&&&&&&&&&&&&&&&&&&&&&&&&&&&&&&&&&&&&&&&&&&&&&&&&&&&&&&&&&')\n",
    "# test_series_new = engloss_spec_series(lowengEe, lowengEp, phys.TCMB(1000), spec_type='new')"
   ]
  },
  {
   "cell_type": "code",
   "execution_count": 6,
   "metadata": {
    "scrolled": false
   },
   "outputs": [],
   "source": [
    "# plt.figure()\n",
    "\n",
    "# plt.contourf(lowengEe, lowengEp, np.log10(np.transpose(test_series_old)), levels=[-18, -16, -14, -12,-10, -8, -6, -4, -2], cmap = 'RdBu')\n",
    "# plt.colorbar()\n",
    "# ax = plt.gca()\n",
    "# ax.set_xscale('log')\n",
    "# ax.set_yscale('log')\n",
    "\n",
    "# plt.figure()\n",
    "\n",
    "# plt.contourf(lowengEe, lowengEp, np.log10(np.transpose(test_series_new)), levels=[-18, -16, -14, -12,-10, -8, -6, -4, -2], cmap = 'RdBu')\n",
    "# plt.colorbar()\n",
    "# ax = plt.gca()\n",
    "# ax.set_xscale('log')\n",
    "# ax.set_yscale('log')\n",
    "\n",
    "# plt.figure()\n",
    "\n",
    "# plt.contourf(lowengEe, lowengEp, np.transpose(test_series_new/test_series_old), levels=[0.8, 0.9, 0.95, 1., 1.05, 1.10, 1.20, 1.40], cmap = 'RdBu')\n",
    "# plt.colorbar()\n",
    "# ax = plt.gca()\n",
    "# ax.set_xscale('log')\n",
    "# ax.set_yscale('log')"
   ]
  },
  {
   "cell_type": "code",
   "execution_count": 7,
   "metadata": {
    "scrolled": false
   },
   "outputs": [],
   "source": [
    "# test_spec_diff_old = engloss_spec_diff(lowengEe, lowengEp, phys.TCMB(1000), spec_type='old')\n",
    "# test_spec_diff_new = engloss_spec_diff(lowengEe, lowengEp, phys.TCMB(1000), spec_type='new')"
   ]
  },
  {
   "cell_type": "code",
   "execution_count": 8,
   "metadata": {
    "scrolled": false
   },
   "outputs": [],
   "source": [
    "# plt.figure()\n",
    "\n",
    "# plt.contourf(lowengEe, lowengEp, np.log10(np.transpose(test_spec_diff_old)), levels=[-18, -16, -14, -12,-10, -8, -6, -4, -2], cmap = 'RdBu')\n",
    "# plt.colorbar()\n",
    "# ax = plt.gca()\n",
    "# ax.set_xscale('log')\n",
    "# ax.set_yscale('log')\n",
    "\n",
    "# plt.figure()\n",
    "\n",
    "# plt.contourf(lowengEe, lowengEp, np.log10(np.transpose(test_spec_diff_new)), levels=[-18, -16, -14, -12,-10, -8, -6, -4, -2], cmap = 'RdBu')\n",
    "# plt.colorbar()\n",
    "# ax = plt.gca()\n",
    "# ax.set_xscale('log')\n",
    "# ax.set_yscale('log')\n",
    "\n",
    "# plt.figure()\n",
    "\n",
    "# plt.contourf(lowengEe, lowengEp, np.transpose(test_spec_diff_new/test_spec_diff_old), levels=[0.8, 0.9, 0.95, 1., 1.05, 1.10, 1.20, 1.40], cmap = 'RdBu')\n",
    "# plt.colorbar()\n",
    "# ax = plt.gca()\n",
    "# ax.set_xscale('log')\n",
    "# ax.set_yscale('log')"
   ]
  },
  {
   "cell_type": "code",
   "execution_count": null,
   "metadata": {},
   "outputs": [
    {
     "name": "stdout",
     "output_type": "stream",
     "text": [
      "Computing nonrelativistic energy loss spectrum...\n",
      "Computing energy loss spectrum by beta expansion...\n",
      "Computing integrals 1/6...\n",
      "Computing integrals 2/6...\n",
      "Computing integrals 3/6...\n",
      "Computing integrals 4/6...\n",
      "Computing integrals 5/6...\n",
      "Computing integrals 6/6...\n",
      "Integrals computed!\n",
      "Computation by expansion in beta complete!\n",
      "Computing energy loss spectrum by analytic series...\n",
      "Computing upscattering loss spectra...\n",
      "Computing series 1/7...\n",
      "Computing series 2/7...\n",
      "Computing series 3/7...\n",
      "Computing series 4/7...\n",
      "Computing series 5/7...\n",
      "Computing series 6/7...\n"
     ]
    }
   ],
   "source": [
    "%%prun\n",
    "# test_spec_old = engloss_spec(lowengEe, lowengEp, phys.TCMB(1000), nonrel=True, spec_type='old')\n",
    "test_spec_new = engloss_spec(lowengEe, lowengEp, phys.TCMB(1000), nonrel=True, spec_type='new')"
   ]
  },
  {
   "cell_type": "code",
   "execution_count": null,
   "metadata": {
    "scrolled": false
   },
   "outputs": [],
   "source": [
    "# plt.figure()\n",
    "\n",
    "# plt.contourf(lowengEe, lowengEp, np.log10(np.transpose(test_spec_old._grid_vals)), levels=[-18, -16, -14, -12,-10, -8, -6, -4, -2], cmap = 'RdBu')\n",
    "# plt.colorbar()\n",
    "# ax = plt.gca()\n",
    "# ax.set_xscale('log')\n",
    "# ax.set_yscale('log')\n",
    "\n",
    "plt.figure()\n",
    "\n",
    "plt.contourf(lowengEe, lowengEp, np.log10(np.transpose(test_spec_new._grid_vals)), levels=[-18, -16, -14, -12,-10, -8, -6, -4, -2], cmap = 'RdBu')\n",
    "plt.colorbar()\n",
    "ax = plt.gca()\n",
    "ax.set_xscale('log')\n",
    "ax.set_yscale('log')\n",
    "\n",
    "# plt.figure()\n",
    "\n",
    "# plt.contourf(lowengEe, lowengEp, np.transpose(test_spec_new._grid_vals/test_spec_old._grid_vals), levels=[0.8,1.0, 1.2,1.4, 1.6,1.8, 2,2.2], cmap = 'RdBu')\n",
    "# plt.colorbar()\n",
    "# ax = plt.gca()\n",
    "# ax.set_xscale('log')\n",
    "# ax.set_yscale('log')"
   ]
  },
  {
   "cell_type": "code",
   "execution_count": null,
   "metadata": {},
   "outputs": [],
   "source": [
    "data = test_spec_new._grid_vals\n",
    "np.savetxt('/users/hongwan/Dropbox (MIT)/thomson_engloss_table_new.dat', data)"
   ]
  }
 ],
 "metadata": {
  "kernelspec": {
   "display_name": "Python [default]",
   "language": "python",
   "name": "python3"
  },
  "language_info": {
   "codemirror_mode": {
    "name": "ipython",
    "version": 3
   },
   "file_extension": ".py",
   "mimetype": "text/x-python",
   "name": "python",
   "nbconvert_exporter": "python",
   "pygments_lexer": "ipython3",
   "version": "3.6.5"
  }
 },
 "nbformat": 4,
 "nbformat_minor": 2
}
