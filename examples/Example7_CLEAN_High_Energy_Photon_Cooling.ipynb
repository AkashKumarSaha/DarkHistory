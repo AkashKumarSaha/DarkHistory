{
 "cells": [
  {
   "cell_type": "markdown",
   "metadata": {},
   "source": [
    "# High Energy Photon Cooling"
   ]
  },
  {
   "cell_type": "markdown",
   "metadata": {},
   "source": [
    "In this notebook, we demonstrate how the high energy photon cooling works and run some cross checks. "
   ]
  },
  {
   "cell_type": "markdown",
   "metadata": {},
   "source": [
    "## Initialization"
   ]
  },
  {
   "cell_type": "code",
   "execution_count": 1,
   "metadata": {},
   "outputs": [],
   "source": [
    "%load_ext autoreload\n",
    "import sys\n",
    "sys.path.append(\"..\")"
   ]
  },
  {
   "cell_type": "code",
   "execution_count": 2,
   "metadata": {},
   "outputs": [],
   "source": [
    "%autoreload\n",
    "\n",
    "import matplotlib\n",
    "matplotlib.rc_file('matplotlibrc')\n",
    "import matplotlib.pyplot as plt\n",
    "\n",
    "%matplotlib inline\n",
    "\n",
    "matplotlib.rcParams['figure.figsize'] = [10,10]\n",
    "\n",
    "matplotlib.text.usetex = False\n",
    "\n",
    "\n",
    "from astropy.io import fits\n",
    "\n",
    "import numpy as np\n",
    "import copy\n",
    "import pickle\n",
    "\n",
    "import darkhistory.physics as phys\n",
    "import darkhistory.utilities as utils\n",
    "import darkhistory.spec.spectools as spectools\n",
    "import darkhistory.spec.transferfunction as tf\n",
    "from darkhistory.spec.spectrum import Spectrum\n",
    "from darkhistory.spec.spectra import Spectra\n",
    "import darkhistory.history.tla as tla\n",
    "\n",
    "from tqdm import tqdm_notebook as tqdm\n",
    "\n",
    "from darkhistory.electrons.ics.ics_spectrum import ics_spec\n",
    "from darkhistory.electrons.ics.ics_engloss_spectrum import engloss_spec\n",
    "from darkhistory.electrons.ics.ics_cooling import get_ics_cooling_tf\n",
    "\n",
    "import darkhistory.low_energy.lowE_photons as lowE_photons\n",
    "import darkhistory.low_energy.lowE_electrons as lowE_electrons\n",
    "\n",
    "np.set_printoptions(threshold=np.nan)"
   ]
  },
  {
   "cell_type": "markdown",
   "metadata": {},
   "source": [
    "## Load Reference Results"
   ]
  },
  {
   "cell_type": "markdown",
   "metadata": {},
   "source": [
    "These reference results start with a delta-function like injection at a redshift of $(1+z) = 31$ of 2 photons at the energy given by the file name. The high energy photons are stored in `file_photonspectrum`, low energy photons in `file_lowengphot` and low energy electrons in `file_lowengelec`. The photon energy abscissa is `file_eng` (both high and low) while the electron energy abscissa is `file_eleceng`. "
   ]
  },
  {
   "cell_type": "code",
   "execution_count": 33,
   "metadata": {},
   "outputs": [],
   "source": [
    "user = 'gridgway'\n",
    "\n",
    "eng_ind = 299\n",
    "\n",
    "# Check that this matches with the input \n",
    "\n",
    "file_name = {99: \"/Users/\"+user+\"/Dropbox (MIT)/Photon Deposition/tf_z_3.100E+01_nstep_2049_logE_5.328E+00_xe_1.000E-04.fits\",\n",
    "            199: \"/Users/\"+user+\"/Dropbox (MIT)/Photon Deposition/tf_z_3.100E+01_nstep_2049_logE_7.183E+00_xe_1.000E-04.fits\",\n",
    "            298: \"/Users/\"+user+\"/Dropbox (MIT)/Photon Deposition/tf_z_3.100E+01_nstep_2049_logE_9.020E+00_xe_1.000E-04.fits\",\n",
    "            299: \"/Users/\"+user+\"/Dropbox (MIT)/Photon Deposition/tf_z_3.100E+01_nstep_2049_logE_9.038E+00_xe_1.000E-04.fits\", \n",
    "            399: \"/Users/\"+user+\"/Dropbox (MIT)/Photon Deposition/tf_z_3.100E+01_nstep_2049_logE_1.089E+01_xe_1.000E-04.fits\",\n",
    "            499: \"/Users/\"+user+\"/Dropbox (MIT)/Photon Deposition/tf_z_3.100E+01_nstep_2049_logE_1.275E+01_xe_1.000E-04.fits\",\n",
    "            2993: \"/Users/\"+user+\"/Dropbox (MIT)/Photon Deposition/tf_z_3.100E+01_nstep_18_logE_9.038E+00_xe_1.000E-04.fits\"}\n",
    "\n",
    "file = fits.open(file_name[eng_ind])\n",
    "\n",
    "file_eng = file[1].data['energy'][0,:]\n",
    "file_eleceng = file[1].data['eleceng'][0,:]\n",
    "file_rs = file[1].data['redshift'][0,:]\n",
    "file_photonspectrum = file[1].data['photonspectrum'][0,:,:]\n",
    "file_lowengphot = file[1].data['lowengphot'][0,:,:]\n",
    "file_lowengelec = file[1].data['lowengelec'][0,:,:]"
   ]
  },
  {
   "cell_type": "markdown",
   "metadata": {},
   "source": [
    "Turn the data into `Spectra` objects. "
   ]
  },
  {
   "cell_type": "code",
   "execution_count": 34,
   "metadata": {},
   "outputs": [],
   "source": [
    "file_highengphot_spectra = Spectra([Spectrum(file_eng, photspec, rs=rs) \n",
    "                   for photspec,rs in zip(file_photonspectrum, file_rs)])\n",
    "\n",
    "file_lowengphot_spectra = Spectra([Spectrum(file_eng, photspec, rs=rs) \n",
    "                   for photspec,rs in zip(file_lowengphot, file_rs)])\n",
    "\n",
    "file_lowengelec_spectra = Spectra([Spectrum(file_eleceng, elecspec, rs=rs) \n",
    "                   for elecspec,rs in zip(file_lowengelec, file_rs)])"
   ]
  },
  {
   "cell_type": "markdown",
   "metadata": {},
   "source": [
    "### Old Transfer Function comparison: Integrated"
   ]
  },
  {
   "cell_type": "code",
   "execution_count": null,
   "metadata": {},
   "outputs": [],
   "source": [
    "ion_indx = spectools.get_indx(loweng_phot,phys.rydberg)\n",
    "print(loweng_phot[ion_indx], ' ', loweng_phot[ion_indx + 1])\n",
    "# Don't forget to keep rs into consideration\n",
    "tmp_elec = Spectrum(\n",
    "    loweng_phot.eng[ion_indx:], loweng_phot.N[ion_indx:], rs = 1, spec_type='N'\n",
    ")\n"
   ]
  },
  {
   "cell_type": "code",
   "execution_count": 40,
   "metadata": {},
   "outputs": [
    {
     "name": "stdout",
     "output_type": "stream",
     "text": [
      "continuum:  [0.00024322]\n",
      "Excitation:  [3.4118544e-05]\n",
      "H_ion:  [0.00021979]\n",
      "[2.43216457e-04 3.41185440e-05 2.19788152e-04 0.00000000e+00\n",
      " 0.00000000e+00]\n"
     ]
    }
   ],
   "source": [
    "m_chi = 10**9.038\n",
    "\n",
    "# List of redshifts from the Mathematica file\n",
    "math_rs_list = np.loadtxt(\"/Users/\"+user+\"/Desktop/tmp.dat\")\n",
    "math_rs_bounds = spectools.get_bin_bound(math_rs_list)\n",
    "\n",
    "# Sum all spectra between redshifts 4.58 and 31\n",
    "rs_list = file_lowengphot_spectra.rs\n",
    "eng = file_lowengphot_spectra.eng\n",
    "\n",
    "weights = np.zeros(len(rs_list))\n",
    "indx = len(rs_list) - spectools.get_indx(np.flipud(rs_list), math_rs_bounds[0]) - 1\n",
    "weights[:indx+1] = 1\n",
    "loweng_phot = file_lowengphot_spectra.sum_specs(weights)\n",
    "loweng_phot.rs=1\n",
    "#print(rs_list[indx], math_rs_list[0])\n",
    "#print(indx, ' ', math_rs_bounds[indx+1])\n",
    "\n",
    "# Determine fractions\n",
    "print('continuum: ',loweng_phot.toteng(\n",
    "    bound_type='eng',\n",
    "    bound_arr=np.array([eng[0],phys.lya_eng])\n",
    ")/m_chi/2)\n",
    "\n",
    "print('Excitation: ', loweng_phot.toteng(\n",
    "    bound_type='eng',\n",
    "    bound_arr=np.array([phys.lya_eng,phys.rydberg])\n",
    ")/m_chi/2)\n",
    "\n",
    "print('H_ion: ',phys.rydberg * loweng_phot.totN(\n",
    "    bound_type='eng',\n",
    "    bound_arr=np.array([phys.rydberg,eng[-1]])\n",
    ")/m_chi/2)\n",
    "\n",
    "print(lowE_photons.compute_dep_inj_ratio(\n",
    "    loweng_phot, np.array([1e-4, 0, 0]), 1, 1, 'old'\n",
    ")/phys.nB/m_chi/2)"
   ]
  },
  {
   "cell_type": "code",
   "execution_count": 17,
   "metadata": {},
   "outputs": [
    {
     "name": "stdout",
     "output_type": "stream",
     "text": [
      "rs:  25.380653345417432\n",
      "(2.3027648339215245, 0.30504604369018534, 2.0262603894374798, 0, 0) \n",
      "\n",
      "(66.47975381410112, 108.64118178095342, 113.87061625434832, 6.765806568312241, 48.117724741299355) \n",
      "\n",
      "68.78251864802264\n"
     ]
    }
   ],
   "source": [
    "%autoreload\n",
    "indx = 200\n",
    "print('rs: ',file_lowengphot_spectra.rs[indx])\n",
    "\n",
    "#low energy photon\n",
    "tmp1 = lowE_photons.compute_dep_inj_ratio(\n",
    "    file_lowengphot_spectra[indx], np.array([1e-4, 0, 0]), 1, 1, 'old'\n",
    ")\n",
    "\n",
    "#low energy electron\n",
    "tmp2 = lowE_electrons.compute_dep_inj_ratio(\n",
    "    file_lowengelec_spectra[indx], 1e-4, 1, 1\n",
    ")\n",
    "\n",
    "print(tmp1,'\\n')\n",
    "print(tmp2,'\\n')\n",
    "print(tmp1[0] + tmp2[0])"
   ]
  },
  {
   "cell_type": "markdown",
   "metadata": {},
   "source": [
    "## Photon Cooling"
   ]
  },
  {
   "cell_type": "markdown",
   "metadata": {},
   "source": [
    "Now we cool the photons that result from the high energy photon injection. Photons below 3.1 keV are considered low energy photons. For high energy photons, greater than 3.1 keV, we have transfer functions into high energy photons, low energy photons and low energy electrons. Let's load them first."
   ]
  },
  {
   "cell_type": "code",
   "execution_count": 6,
   "metadata": {},
   "outputs": [],
   "source": [
    "highengphot_tflist = pickle.load(open(\"/Users/\"+user+\"/Dropbox (MIT)/Photon Deposition/tfunclist_photspec.raw\", \"rb\"))\n",
    "lowengphot_tflist  = pickle.load(open(\"/Users/\"+user+\"/Dropbox (MIT)/Photon Deposition/tfunclist_lowengphotspec.raw\", \"rb\"))\n",
    "lowengelec_tflist  = pickle.load(open(\"/Users/\"+user+\"/Dropbox (MIT)/Photon Deposition/tfunclist_lowengelecspec.raw\", \"rb\"))\n"
   ]
  },
  {
   "cell_type": "markdown",
   "metadata": {},
   "source": [
    "The data is saved as a `TransferFuncList` class. This is essentially a list of transfer functions. There are two types, and the type is stored as `TransferFuncList.tftype`. If `tftype` is `'rs'`, then the `TransferFuncList` is a collection of transfer functions at each redshift (the transfer functions are stored as a class called `TransFuncAtRedshift`). Each transfer function is a series of spectra with some injection energy, and some output spectrum. The redshift, injection energy and spectrum abscissa can be checked with `TransferFuncList.rs`, `TransferFuncList.in_eng` and `TransferFuncList.eng` respectively. The other `tftype` is `'in_eng'`, which is a collection of transfer functions at fixed injection energy (the class is called `TransFuncAtEnergy`), and stores the spectra that results from a delta-function injection at this injection energy at a series of redshifts. \n",
    "\n",
    "To switch between types, use `TransferFuncList.transpose()`. Currently, `highengphot_tflist`, `lowengphot_tflist` and `lowengelec_tflist` are stored as type `'in_eng'`. We take the transpose to change to type `'rs'`, and do some numerical clean up. "
   ]
  },
  {
   "cell_type": "code",
   "execution_count": 7,
   "metadata": {},
   "outputs": [],
   "source": [
    "# Changes all of the tflists to TransFuncAtRedshift\n",
    "highengphot_tflist.transpose()\n",
    "lowengphot_tflist.transpose()\n",
    "lowengelec_tflist.transpose()\n",
    "\n",
    "# This is a list of mwimp values used to generate highengphot_tflist\n",
    "mwimp_arr = np.array(highengphot_tflist.in_eng)\n",
    "\n",
    "# This shouldn't be necessary. There is one negative value somewhere. Check.\n",
    "for tf in highengphot_tflist:\n",
    "    tf.grid_vals[np.where(tf.grid_vals < 0)] = 1e-100\n",
    "for tf in lowengphot_tflist:\n",
    "    tf.grid_vals[np.where(tf.grid_vals < 0)] = 1e-100\n",
    "for tf in lowengelec_tflist:\n",
    "    tf.grid_vals[np.where(tf.grid_vals < 0)] = 1e-100"
   ]
  },
  {
   "cell_type": "markdown",
   "metadata": {
    "collapsed": true
   },
   "source": [
    "## Inputs"
   ]
  },
  {
   "cell_type": "markdown",
   "metadata": {},
   "source": [
    "Next, we define the input spectrum. Currently, `eleceng` and `photeng` must be defined as follows for accuracy, although `n` can be adjusted for speed. Here, we define a delta-function like injection at `mwimp_arr[eng_ind]`, which will correspond exactly with the reference file chosen. Note that `spectools.rebin_N_arr` produces a `Spectrum` object of type `'dNdE'` by default, so `Spectrum.switch_spec_type()` is required, since all of the transfer functions evolve `Spectrum` objects of type `'N'`. "
   ]
  },
  {
   "cell_type": "code",
   "execution_count": 8,
   "metadata": {
    "scrolled": false
   },
   "outputs": [],
   "source": [
    "n = 3\n",
    "\n",
    "eleceng = lowengelec_tflist.eng\n",
    "photeng = highengphot_tflist.in_eng\n",
    "step = np.log(photeng[1]) - np.log(photeng[0])\n",
    "test = np.exp(np.arange(np.log(photeng[0]), np.log(9.9e-5), -step))\n",
    "photeng = np.append(np.flipud(test[1:]), photeng)\n",
    "\n",
    "# eleceng = eleceng[1::n]\n",
    "photeng = photeng[1::n]\n",
    "\n",
    "phot_spec_init = spectools.rebin_N_arr(np.array([2]), \n",
    "                                      np.array([mwimp_arr[eng_ind]]),\n",
    "                                      photeng)\n",
    "phot_spec_init.switch_spec_type()"
   ]
  },
  {
   "cell_type": "markdown",
   "metadata": {},
   "source": [
    "To evolve the spectrum and allow for easy processing later, the high energy photon transfer function must be square. We make the abscissa for the transfer function `photeng` by `photeng` (injected energy by output energy), and simply pad the additional rows needed with zeros. For convenience, we also use `photeng` by `photeng` for the low energy photon transfer function, and `photeng` by `eleceng` for the low energy electron transfer function. The definitions for high and low energies are listed below. "
   ]
  },
  {
   "cell_type": "code",
   "execution_count": 9,
   "metadata": {},
   "outputs": [
    {
     "name": "stderr",
     "output_type": "stream",
     "text": [
      "../darkhistory/spec/spectra.py:852: RuntimeWarning: The new abscissa lies below the old one: only bins that lie within the new abscissa will be rebinned, bins above the abscissa will be discarded.\n",
      "  warnings.warn(\"The new abscissa lies below the old one: only bins that lie within the new abscissa will be rebinned, bins above the abscissa will be discarded.\", RuntimeWarning)\n"
     ]
    }
   ],
   "source": [
    "#Make tf square, have consistent abscissa\n",
    "\n",
    "#Split photeng into high and low energy. \n",
    "photeng_high = photeng[photeng > 3070]\n",
    "photeng_low  = photeng[photeng <= 3070]\n",
    "\n",
    "# Split eleceng into high and low energy. \n",
    "eleceng_high = eleceng[eleceng > 3500]\n",
    "eleceng_low  = eleceng[eleceng <= 3500]\n",
    "\n",
    "\n",
    "highengphot_tflist.at_val('in_eng', photeng_high, bounds_error=False, fill_value=0)\n",
    "\n",
    "for tf in highengphot_tflist:\n",
    "    tf.rebin(photeng_high)\n",
    "    \n",
    "    # Pad with zeros so that it becomes photeng x photeng. \n",
    "    tf._grid_vals = np.pad(tf.grid_vals, ((photeng_low.size, 0), (photeng_low.size, 0)), 'constant')\n",
    "    tf._N_underflow = np.pad(tf._N_underflow, (photeng_low.size, 0), 'constant')\n",
    "    tf._eng_underflow = np.pad(tf._eng_underflow, (photeng_low.size, 0), 'constant')\n",
    "    tf._in_eng = photeng\n",
    "    tf._eng = photeng\n",
    "    tf._rs = tf.rs[0]*np.ones_like(photeng)\n",
    "    \n",
    "highengphot_tflist.eng = photeng\n",
    "highengphot_tflist.in_eng = photeng\n",
    "    \n",
    "# lowengphot_tflist.in_eng set to photeng_high\n",
    "lowengphot_tflist.at_val('in_eng', photeng_high, bounds_error=False, fill_value=0)\n",
    "for tf in lowengphot_tflist:\n",
    "    tf.rebin(photeng)\n",
    "    # Pad with zeros so that it becomes photeng x photeng. \n",
    "    tf._grid_vals = np.pad(tf.grid_vals, ((photeng_low.size,0), (0,0)), 'constant')\n",
    "    tf._N_underflow = np.pad(tf._N_underflow, (photeng_low.size, 0), 'constant')\n",
    "    tf._eng_underflow = np.pad(tf._eng_underflow, (photeng_low.size, 0), 'constant')\n",
    "    tf._in_eng = photeng\n",
    "    tf._eng = photeng\n",
    "    tf._rs = tf.rs[0]*np.ones_like(photeng)\n",
    "lowengphot_tflist.eng = photeng\n",
    "lowengphot_tflist.in_eng = photeng\n",
    "    \n",
    "# lowengelec_tflist.in_eng set to photeng_high \n",
    "lowengelec_tflist.at_val('in_eng', photeng_high, bounds_error=False, fill_value=0)\n",
    "for tf in lowengelec_tflist:\n",
    "    tf.rebin(eleceng)\n",
    "    # Pad with zeros so that it becomes photeng x eleceng. \n",
    "    tf._grid_vals = np.pad(tf.grid_vals, ((photeng_low.size,0), (0,0)), 'constant')\n",
    "    tf._N_underflow = np.pad(tf._N_underflow, (photeng_low.size, 0), 'constant')\n",
    "    tf._eng_underflow = np.pad(tf._eng_underflow, (photeng_low.size, 0), 'constant')\n",
    "    tf._in_eng = photeng\n",
    "    tf._eng = eleceng\n",
    "    tf._rs = tf.rs[0]*np.ones_like(photeng)\n",
    "\n",
    "lowengelec_tflist.eng = eleceng\n",
    "lowengelec_tflist.in_eng = photeng"
   ]
  },
  {
   "cell_type": "markdown",
   "metadata": {},
   "source": [
    "## Coarsening"
   ]
  },
  {
   "cell_type": "markdown",
   "metadata": {},
   "source": [
    "We need to decide on the redshift step to use. The default redshift step in the transfer functions is $d \\log (1+z) = 0.002$, with the transfer function with this step size evaluated at (currently) 50 redshifts, from $z = 30$ to $z = 4$. If we stick with this step size, then we must interpolate the transfer function at 2049 points between $z = 30$ and $z = 4$, so that every multiplication by the transfer function advances the spectrum by a step of $d \\log (1+z) = 0.002$. \n",
    "\n",
    "However, we can coarsen the high energy photon transfer function by some factor $f$ by multiplying the transfer function matrix by itself multiple times, producing transfer functions for a redshift step of $d \\log (1+z) = f \\times 0.002$. The assumption here is that the transfer function does not change significantly over this bigger redshift step, which appears to be a good approximation in all of the cases checked so far. We will then have to interpolate the transfer function at $2049/f$ steps, and perform $2049/f$ matrix multiplications to evolve the spectrum from $z=30$ to $z=4$. \n",
    "\n",
    "This is performed using the function `TransferFuncList.coarsen()`. There are two types of coarsening: one is for a propagation matrix, where we simply multiply the transfer function by itself multiple times (here given by `coarsen_factor`). The other is for a deposition matrix. The deposition matrix is taken to be constant over the number of steps given by `coarsen_factor`, and is applied to the high energy photon spectrum that is produced by each multiplication of the transfer function to get to the next redshift. After coarsening, if the propagation transfer function is $P$, and the deposition transfer function is $D$, coarsening returns $B (1 + P + \\cdots + P^{n-1})$. \n",
    "\n",
    "After coarsening, the resulting transfer functions are then interpolated at the redshifts given in `rs_list`. "
   ]
  },
  {
   "cell_type": "code",
   "execution_count": 10,
   "metadata": {},
   "outputs": [],
   "source": [
    "# The redshift step to use will be coarsen_factor * 0.002\n",
    "coarsen_factor = 5\n",
    "# Generate the redshifts at which we want to get an interpolated value for the transfer function. \n",
    "tf_rs_arr = highengphot_tflist.rs\n",
    "rs_list = np.exp(np.arange(np.log(tf_rs_arr[0]), \n",
    "                           np.log(tf_rs_arr[-1]), \n",
    "                           -highengphot_tflist.dlnz*coarsen_factor)\n",
    "                )\n",
    "\n",
    "if coarsen_factor > 1:\n",
    "    lowengphot_tflist.coarsen(coarsen_factor, delete_tfs=False, coarsen_type='dep', prop_transfunclist=highengphot_tflist)\n",
    "    lowengelec_tflist.coarsen(coarsen_factor, delete_tfs=False, coarsen_type='dep', prop_transfunclist=highengphot_tflist)\n",
    "    highengphot_tflist.coarsen(coarsen_factor, delete_tfs=False)\n",
    "    \n",
    "lowengphot_tflist.at_val('rs',rs_list)\n",
    "lowengelec_tflist.at_val('rs',rs_list)\n",
    "highengphot_tflist.at_val('rs',rs_list)\n",
    "\n",
    "phot_spec_init.rs = rs_list[0]"
   ]
  },
  {
   "cell_type": "markdown",
   "metadata": {},
   "source": [
    "## Evolution with Redshift"
   ]
  },
  {
   "cell_type": "markdown",
   "metadata": {},
   "source": [
    "Now we evolve the initial photon spectrum across all of the redshifts specified in `rs_list`, using the coarsened transfer functions. This is performed by calling the function `spectools.evolve()`, which takes as arguments the initial spectrum, the list of propagation transfer functions, as well as a list of deposition transfer functions. We want to use `evolve_type='prop'` for the high energy photons (just propagation) and `evolve_type='dep'` for low energy electrons and photons, in which case we must specify both propagation and deposition transfer matrices. `save_steps` determines whether the output is a single `Spectrum` at the end of the whole propagation, or a `Spectra` object, which records the spectrum at each intermediate step."
   ]
  },
  {
   "cell_type": "code",
   "execution_count": 11,
   "metadata": {},
   "outputs": [],
   "source": [
    "highengphot_spectra = spectools.evolve(phot_spec_init, highengphot_tflist, evolve_type='prop', save_steps=True)"
   ]
  },
  {
   "cell_type": "code",
   "execution_count": 12,
   "metadata": {
    "scrolled": false
   },
   "outputs": [],
   "source": [
    "lowengphot_spectra  = spectools.evolve(\n",
    "    phot_spec_init, lowengphot_tflist,  \n",
    "    evolve_type='dep',  prop_tflist=highengphot_tflist, save_steps=True\n",
    ")"
   ]
  },
  {
   "cell_type": "code",
   "execution_count": 13,
   "metadata": {},
   "outputs": [],
   "source": [
    "lowengelec_spectra = spectools.evolve(\n",
    "    phot_spec_init, lowengelec_tflist,\n",
    "    evolve_type='dep', prop_tflist=highengphot_tflist, save_steps=True\n",
    ")"
   ]
  },
  {
   "cell_type": "code",
   "execution_count": 14,
   "metadata": {},
   "outputs": [
    {
     "data": {
      "text/plain": [
       "0.001066463841278149"
      ]
     },
     "execution_count": 14,
     "metadata": {},
     "output_type": "execute_result"
    }
   ],
   "source": [
    "lowengelec_spectra[199].N[1]"
   ]
  },
  {
   "cell_type": "markdown",
   "metadata": {},
   "source": [
    "## Processing the Inputs for Comparison"
   ]
  },
  {
   "cell_type": "markdown",
   "metadata": {},
   "source": [
    "Here, we process the data from our reference files in order to make the comparison with our result. First, we need to rebin the reference file spectra into the same energy abscissa as our output from above. Then, we switch the spectrum to `'N'` type, so that we can make a direct comparison by plotting `Spectrum.N`. "
   ]
  },
  {
   "cell_type": "code",
   "execution_count": 15,
   "metadata": {},
   "outputs": [],
   "source": [
    "file_highengphot_spectra.rebin(highengphot_spectra.eng)\n",
    "file_highengphot_spectra.switch_spec_type()\n",
    "file_lowengphot_spectra.rebin(lowengphot_spectra.eng)\n",
    "file_lowengphot_spectra.switch_spec_type()\n",
    "file_lowengelec_spectra.rebin(lowengelec_spectra.eng)\n",
    "file_lowengelec_spectra.switch_spec_type()"
   ]
  },
  {
   "cell_type": "markdown",
   "metadata": {},
   "source": [
    "Because we have coarsened our deposition transfer function, the output in `lowengphot_spectra` and `lowengelec_spectra` is actually equivalent to the total deposition from a number of steps given by `coarsen_factor` in the original file. We have to add up all of the deposited low energy electrons and photons in the reference file in order to make the correct comparison."
   ]
  },
  {
   "cell_type": "code",
   "execution_count": 16,
   "metadata": {},
   "outputs": [],
   "source": [
    "combined_file_lowengphot_spectra = Spectra([], spec_type='N')\n",
    "combined_file_lowengelec_spectra = Spectra([], spec_type='N')\n",
    "\n",
    "for i in np.arange(np.floor_divide(2049,coarsen_factor)):\n",
    "    mask = np.zeros(2049)\n",
    "    mask[coarsen_factor*i:coarsen_factor*i+coarsen_factor] = 1\n",
    "    out_spec_phot = file_lowengphot_spectra.sum_specs(mask)\n",
    "    out_spec_elec = file_lowengelec_spectra.sum_specs(mask)\n",
    "    out_spec_phot.rs = file_lowengphot_spectra[coarsen_factor*i].rs\n",
    "    out_spec_elec.rs = file_lowengelec_spectra[coarsen_factor*i].rs\n",
    "    combined_file_lowengphot_spectra.append(out_spec_phot)\n",
    "    combined_file_lowengelec_spectra.append(out_spec_elec)\n",
    "    \n"
   ]
  },
  {
   "cell_type": "code",
   "execution_count": 86,
   "metadata": {},
   "outputs": [
    {
     "name": "stdout",
     "output_type": "stream",
     "text": [
      "Injection energy and redshift of transfer function under consideration:  433240172.6112973 31.0\n",
      "Number of energies:  294\n",
      "Number of redshifts:  201\n",
      "[3.09933520e-02 4.48026868e-02 6.15094719e-02 7.92087459e-02\n",
      " 9.81301559e-02 1.29023626e-01 1.82636686e-01 2.21379935e-01\n",
      " 2.92918019e-01 3.55968843e-01 5.43171896e-01 6.25742901e-01\n",
      " 8.28188346e-01 1.05425737e+00 1.46040823e+00 1.84653048e+00\n",
      " 2.24168534e+00 3.01658048e+00 4.02532184e+00 4.98632585e+00\n",
      " 6.24757637e+00 7.90093216e+00 1.10551427e+01 1.28001279e+01\n",
      " 1.64624558e+01 2.00829261e+01 2.76479480e+01 3.17809198e+01\n",
      " 3.89224103e+01 4.87173985e+01 6.08429793e+01 7.20875880e+01\n",
      " 8.12108655e+01 1.01431868e+02 1.19780827e+02 1.30967671e+02\n",
      " 1.47868982e+02 1.62093247e+02 1.91876865e+02 1.83406340e+02\n",
      " 1.97816810e+02 2.01145421e+02 2.07804224e+02 1.93035876e+02\n",
      " 1.80735801e+02 1.80916834e+02 1.65045529e+02 1.49955280e+02\n",
      " 1.34245823e+02 1.30758938e+02 1.19880503e+02 1.04784417e+02\n",
      " 9.81787839e+01 9.13934641e+01 8.76119699e+01 7.48336969e+01\n",
      " 7.10151599e+01 6.76608770e+01 6.21360851e+01 5.64808526e+01\n",
      " 5.07942068e+01 5.14488351e+01 4.53661705e+01 4.18790769e+01\n",
      " 3.85081015e+01 3.74691783e+01 3.50750526e+01 3.05718110e+01\n",
      " 2.95537825e+01 2.80334436e+01 2.62592937e+01 2.33779889e+01\n",
      " 2.19299712e+01 2.18345831e+01 1.93134920e+01 1.80602823e+01\n",
      " 1.63820174e+01 1.66952797e+01 1.46907181e+01 1.35142401e+01\n",
      " 1.26688050e+01 1.24015081e+01 1.13371933e+01 1.00951415e+01\n",
      " 9.68106223e+00 9.43933806e+00 8.44425929e+00 7.78838724e+00\n",
      " 7.13111643e+00 7.37052734e+00 6.21901746e+00 5.94125050e+00\n",
      " 5.39566683e+00 5.48990291e+00 4.80039096e+00 4.36765700e+00\n",
      " 4.17135464e+00 4.07655469e+00 3.61691772e+00 3.29908267e+00\n",
      " 3.09050322e+00 3.12349286e+00 2.64794085e+00 2.49738477e+00\n",
      " 2.28699963e+00 2.33118995e+00 1.96577660e+00 1.84339239e+00\n",
      " 1.71157721e+00 1.69053124e+00 1.46675036e+00 1.28161182e+00\n",
      " 8.86745394e-01 5.22334119e-01 2.93312899e-01 1.76609871e-01\n",
      " 1.07264632e-01 6.67355921e-02 3.50510879e-02 2.17911186e-02\n",
      " 1.28153890e-02 7.75616405e-03 4.17384880e-03 2.46074597e-03\n",
      " 1.48187503e-03 8.50536921e-04 4.60512566e-04 2.00947982e-04\n",
      " 1.47146552e-05 1.10734437e-17 1.33870989e-17 1.20264006e-17\n",
      " 1.07217941e-17 9.79784390e-18 9.28375912e-18 6.83271995e-18\n",
      " 6.56869995e-18 6.94440258e-18 5.99869653e-18 5.39694563e-18\n",
      " 4.16472887e-18 3.46092099e-18 3.71740006e-18 3.21085449e-18\n",
      " 2.08959672e-18 1.97546454e-18 1.79125328e-18 1.11868267e-18\n",
      " 1.01820573e-18 8.16170186e-19 4.82051675e-19 3.75348100e-19\n",
      " 2.41472359e-19 1.42809001e-19 9.02642869e-20 4.78060026e-20\n",
      " 2.43422968e-20 9.61114781e-21 4.20874538e-21 1.74760858e-21\n",
      " 6.35075124e-22 1.71362650e-22 4.61211484e-23 8.87269361e-24\n",
      " 1.04394152e-24 1.26460777e-25 1.24972584e-26 9.06742372e-28\n",
      " 3.49780014e-29 2.07062835e-30 5.39915612e-32 2.09161096e-34\n",
      " 3.05288241e-36 4.16211586e-39 2.41662794e-41 1.60419462e-44\n",
      " 6.14152789e-47 2.68561657e-51 1.98580940e-56 7.62313917e-60\n",
      " 0.00000000e+00 0.00000000e+00 0.00000000e+00 0.00000000e+00\n",
      " 0.00000000e+00 0.00000000e+00 0.00000000e+00 0.00000000e+00\n",
      " 0.00000000e+00 0.00000000e+00 0.00000000e+00 0.00000000e+00\n",
      " 0.00000000e+00 0.00000000e+00 0.00000000e+00 0.00000000e+00\n",
      " 0.00000000e+00 0.00000000e+00 0.00000000e+00 0.00000000e+00\n",
      " 0.00000000e+00 0.00000000e+00 0.00000000e+00 0.00000000e+00\n",
      " 0.00000000e+00 0.00000000e+00 0.00000000e+00 0.00000000e+00\n",
      " 0.00000000e+00 0.00000000e+00 0.00000000e+00 0.00000000e+00\n",
      " 0.00000000e+00 0.00000000e+00 0.00000000e+00 0.00000000e+00\n",
      " 0.00000000e+00 0.00000000e+00 0.00000000e+00 0.00000000e+00\n",
      " 0.00000000e+00 0.00000000e+00 0.00000000e+00 0.00000000e+00\n",
      " 0.00000000e+00 0.00000000e+00 0.00000000e+00 0.00000000e+00\n",
      " 0.00000000e+00 0.00000000e+00 0.00000000e+00 0.00000000e+00\n",
      " 0.00000000e+00 0.00000000e+00 0.00000000e+00 0.00000000e+00\n",
      " 0.00000000e+00 0.00000000e+00 0.00000000e+00 0.00000000e+00\n",
      " 0.00000000e+00 0.00000000e+00 0.00000000e+00 0.00000000e+00\n",
      " 0.00000000e+00 0.00000000e+00 0.00000000e+00 0.00000000e+00\n",
      " 0.00000000e+00 0.00000000e+00 0.00000000e+00 0.00000000e+00\n",
      " 0.00000000e+00 0.00000000e+00 0.00000000e+00 0.00000000e+00\n",
      " 0.00000000e+00 0.00000000e+00 0.00000000e+00 0.00000000e+00\n",
      " 0.00000000e+00 0.00000000e+00 0.00000000e+00 0.00000000e+00\n",
      " 0.00000000e+00 0.00000000e+00 0.00000000e+00 0.00000000e+00\n",
      " 0.00000000e+00 0.00000000e+00 0.00000000e+00 0.00000000e+00\n",
      " 0.00000000e+00 0.00000000e+00 0.00000000e+00 0.00000000e+00\n",
      " 0.00000000e+00 0.00000000e+00 0.00000000e+00 0.00000000e+00\n",
      " 0.00000000e+00 0.00000000e+00 0.00000000e+00 0.00000000e+00\n",
      " 0.00000000e+00 0.00000000e+00 0.00000000e+00 0.00000000e+00\n",
      " 0.00000000e+00 0.00000000e+00 0.00000000e+00 0.00000000e+00\n",
      " 0.00000000e+00 0.00000000e+00]\n"
     ]
    }
   ],
   "source": [
    "eng = highengphot_spectra.eng\n",
    "#(highengphot_spectra.at_rs(20).toteng(eng) - file_highengphot_spectra.at_rs(20).toteng(eng))/(highengphot_spectra.at_rs(20).toteng(eng)+1e-12)\n",
    "#lowengphot_spectra.at_rs(np.array([20]))[0].N\n",
    "#lowengphot_tflist.transpose()\n",
    "ind = 220\n",
    "print('Injection energy and redshift of transfer function under consideration: ', lowengphot_tflist.in_eng[ind],lowengphot_tflist.rs[0])\n",
    "print('Number of energies: ', len(lowengphot_tflist.in_eng))\n",
    "print('Number of redshifts: ', len(lowengphot_tflist[ind].rs))\n",
    "print(lowengphot_tflist[ind][0].N)"
   ]
  },
  {
   "cell_type": "code",
   "execution_count": 55,
   "metadata": {},
   "outputs": [
    {
     "data": {
      "text/plain": [
       "4.23755818881142"
      ]
     },
     "execution_count": 55,
     "metadata": {},
     "output_type": "execute_result"
    }
   ],
   "source": [
    "rs_list[199]"
   ]
  },
  {
   "cell_type": "markdown",
   "metadata": {},
   "source": [
    "## Plots"
   ]
  },
  {
   "cell_type": "code",
   "execution_count": null,
   "metadata": {},
   "outputs": [],
   "source": [
    "plt.figure()\n",
    "\n",
    "i_plot = 20\n",
    "\n",
    "ax = plt.gca()\n",
    "tf_plot, = highengphot_spectra.plot(ax, ind=rs_list[i_plot], indtype='rs')\n",
    "file_plot, = file_highengphot_spectra.plot(ax, ind=rs_list[i_plot], indtype='rs')\n",
    "\n",
    "\n",
    "plt.title('High Energy Photon Spectrum\\n' + r'$m_\\chi$ ='\n",
    "          +'{:.2e}'.format(mwimp_arr[eng_ind])\n",
    "          +r' eV, $1+z$ = '+'{0:.1f}'.format(rs_list[i_plot])\n",
    "         )\n",
    "\n",
    "ax.legend((tf_plot, file_plot), ('Transfer Function', 'Reference File'))\n",
    "ax.set_xscale('log')\n",
    "ax.set_yscale('log')\n",
    "\n",
    "plt.xlabel('Secondary Photon Energy [eV]')\n",
    "plt.ylabel('Number of Photons in Each Bin')\n",
    "plt.axis([1e2, 1e13, 1e-12, 1e3])"
   ]
  },
  {
   "cell_type": "code",
   "execution_count": null,
   "metadata": {},
   "outputs": [],
   "source": [
    "plt.figure()\n",
    "\n",
    "i_plot = 130\n",
    "\n",
    "ax = plt.gca()\n",
    "tf_plot, = lowengphot_spectra.plot(ax, ind=rs_list[i_plot], indtype='rs')\n",
    "file_plot, = combined_file_lowengphot_spectra.plot(ax, ind=rs_list[i_plot], indtype='rs')\n",
    "\n",
    "ax.set_xscale('log')\n",
    "ax.set_yscale('log')\n",
    "\n",
    "plt.title('Low Energy Photon Spectrum\\n' + r'$m_\\chi$ ='\n",
    "          +'{:.2e}'.format(mwimp_arr[eng_ind])\n",
    "          +r' eV, $1+z$ = '+'{0:.1f}'.format(rs_list[i_plot])\n",
    "         )\n",
    "\n",
    "ax.legend((tf_plot, file_plot), ('Transfer Function', 'Reference File'))\n",
    "\n",
    "\n",
    "plt.xlabel('Secondary Photon Energy [eV]')\n",
    "plt.ylabel('Number of Photons in Each Bin')\n",
    "plt.axis([1e-4, 4e12, 1e-20, 1e6])"
   ]
  },
  {
   "cell_type": "code",
   "execution_count": null,
   "metadata": {},
   "outputs": [],
   "source": [
    "plt.figure()\n",
    "\n",
    "i_plot = 199\n",
    "\n",
    "ax = plt.gca()\n",
    "tf_plot, = lowengelec_spectra.plot(ax, ind=rs_list[i_plot], indtype='rs')\n",
    "file_plot, = combined_file_lowengelec_spectra.plot(ax, ind=rs_list[i_plot], indtype='rs')\n",
    "# tf_plot, = lowengelec_spectra.plot(ax, ind=rs_list[1], indtype='rs')\n",
    "# file_plot, = combined_file_lowengelec_spectra.plot(ax, ind=rs_list[1], indtype='rs')\n",
    "\n",
    "ax.set_xscale('log')\n",
    "ax.set_yscale('log')\n",
    "plt.title('Low Energy Electron Spectrum\\n' + r'$m_\\chi$ ='\n",
    "          +'{:.2e}'.format(mwimp_arr[eng_ind])\n",
    "          +r' eV, $1+z$ = '+'{0:.1f}'.format(rs_list[i_plot])\n",
    "         )\n",
    "\n",
    "ax.legend((tf_plot, file_plot), ('Transfer Function', 'Reference File'))\n",
    "\n",
    "plt.xlabel('Secondary Electron Energy [eV]')\n",
    "plt.ylabel('Number of Electrons in Each Bin')\n",
    "plt.axis([1e-1, 1e4, 1e-5, 10])"
   ]
  },
  {
   "cell_type": "code",
   "execution_count": null,
   "metadata": {},
   "outputs": [],
   "source": [
    "utils.compare_arr([lowengelec_spectra.grid_vals[0,:], lowengelec_spectra.grid_vals[199,:], \n",
    "                  combined_file_lowengelec_spectra.grid_vals[0,:], combined_file_lowengelec_spectra.grid_vals[199,:]])"
   ]
  },
  {
   "cell_type": "code",
   "execution_count": null,
   "metadata": {},
   "outputs": [],
   "source": []
  }
 ],
 "metadata": {
  "kernelspec": {
   "display_name": "Python 3",
   "language": "python",
   "name": "python3"
  },
  "language_info": {
   "codemirror_mode": {
    "name": "ipython",
    "version": 3
   },
   "file_extension": ".py",
   "mimetype": "text/x-python",
   "name": "python",
   "nbconvert_exporter": "python",
   "pygments_lexer": "ipython3",
   "version": "3.6.5"
  }
 },
 "nbformat": 4,
 "nbformat_minor": 2
}
