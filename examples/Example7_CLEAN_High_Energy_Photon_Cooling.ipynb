{
 "cells": [
  {
   "cell_type": "markdown",
   "metadata": {},
   "source": [
    "# High Energy Photon Cooling"
   ]
  },
  {
   "cell_type": "markdown",
   "metadata": {},
   "source": [
    "In this notebook, we demonstrate how the high energy photon cooling works and run some cross checks. "
   ]
  },
  {
   "cell_type": "markdown",
   "metadata": {},
   "source": [
    "## Initialization"
   ]
  },
  {
   "cell_type": "code",
   "execution_count": 85,
   "metadata": {},
   "outputs": [
    {
     "name": "stdout",
     "output_type": "stream",
     "text": [
      "The autoreload extension is already loaded. To reload it, use:\n",
      "  %reload_ext autoreload\n"
     ]
    }
   ],
   "source": [
    "%load_ext autoreload\n",
    "import sys\n",
    "sys.path.append(\"..\")"
   ]
  },
  {
   "cell_type": "code",
   "execution_count": 10,
   "metadata": {},
   "outputs": [
    {
     "name": "stdout",
     "output_type": "stream",
     "text": [
      "AHHHH YEAHHHH!\n"
     ]
    }
   ],
   "source": [
    "%autoreload\n",
    "\n",
    "import matplotlib\n",
    "matplotlib.rc_file('matplotlibrc')\n",
    "import matplotlib.pyplot as plt\n",
    "\n",
    "%matplotlib inline\n",
    "\n",
    "matplotlib.rcParams['figure.figsize'] = [10,10]\n",
    "\n",
    "matplotlib.text.usetex = False\n",
    "\n",
    "\n",
    "from astropy.io import fits\n",
    "\n",
    "import numpy as np\n",
    "import copy\n",
    "import pickle\n",
    "\n",
    "import darkhistory.physics as phys\n",
    "import darkhistory.utilities as utils\n",
    "import darkhistory.spec.spectools as spectools\n",
    "import darkhistory.spec.transferfunction as tf\n",
    "from darkhistory.spec.spectrum import Spectrum\n",
    "from darkhistory.spec.spectra import Spectra\n",
    "import darkhistory.history.tla as tla\n",
    "\n",
    "from tqdm import tqdm_notebook as tqdm\n",
    "\n",
    "from darkhistory.electrons.ics.ics_spectrum import ics_spec\n",
    "from darkhistory.electrons.ics.ics_engloss_spectrum import engloss_spec\n",
    "from darkhistory.electrons.ics.ics_cooling import get_ics_cooling_tf\n",
    "\n",
    "import darkhistory.low_energy.lowE_photons as lowE_photons\n",
    "import darkhistory.low_energy.lowE_electrons as lowE_electrons\n",
    "\n",
    "np.set_printoptions(threshold=np.nan)"
   ]
  },
  {
   "cell_type": "markdown",
   "metadata": {},
   "source": [
    "## Load Reference Results"
   ]
  },
  {
   "cell_type": "markdown",
   "metadata": {},
   "source": [
    "These reference results start with a delta-function like injection at a redshift of $(1+z) = 31$ of 2 photons at the energy given by the file name. The high energy photons are stored in `file_photonspectrum`, low energy photons in `file_lowengphot` and low energy electrons in `file_lowengelec`. The photon energy abscissa is `file_eng` (both high and low) while the electron energy abscissa is `file_eleceng`. "
   ]
  },
  {
   "cell_type": "code",
   "execution_count": 142,
   "metadata": {},
   "outputs": [
    {
     "name": "stdout",
     "output_type": "stream",
     "text": [
      "5.32665\n"
     ]
    }
   ],
   "source": [
    "user = 'gridgway'\n",
    "\n",
    "new_data=True\n",
    "eng_ind = 99\n",
    "eng_exp = {19: 3.491, 99: 5.328, 199: 7.183, 299: 9.038}[eng_ind]#7.183#9.038#5.328\n",
    "\n",
    "# Check that this matches with the input \n",
    "\n",
    "# these are what Tracy calls a\n",
    "file_name = {19: \"/Users/\"+user+\"/Dropbox (MIT)/Photon Deposition/tf_z_3.100E+01_nstep_2049_logE_3.491E+00_xe_1.000E-04.fits\",\n",
    "            99: \"/Users/\"+user+\"/Dropbox (MIT)/Photon Deposition/tf_z_3.100E+01_nstep_2049_logE_5.328E+00_xe_1.000E-04.fits\",\n",
    "            199: \"/Users/\"+user+\"/Dropbox (MIT)/Photon Deposition/tf_z_3.100E+01_nstep_2049_logE_7.183E+00_xe_1.000E-04.fits\",\n",
    "            298: \"/Users/\"+user+\"/Dropbox (MIT)/Photon Deposition/tf_z_3.100E+01_nstep_2049_logE_9.020E+00_xe_1.000E-04.fits\",\n",
    "            299: \"/Users/\"+user+\"/Dropbox (MIT)/Photon Deposition/tf_z_3.100E+01_nstep_2049_logE_9.038E+00_xe_1.000E-04.fits\",\n",
    "            399: \"/Users/\"+user+\"/Dropbox (MIT)/Photon Deposition/tf_z_3.100E+01_nstep_2049_logE_1.089E+01_xe_1.000E-04.fits\",\n",
    "            499: \"/Users/\"+user+\"/Dropbox (MIT)/Photon Deposition/tf_z_3.100E+01_nstep_2049_logE_1.275E+01_xe_1.000E-04.fits\",\n",
    "            2993: \"/Users/\"+user+\"/Dropbox (MIT)/Photon Deposition/tf_z_3.100E+01_nstep_18_logE_9.038E+00_xe_1.000E-04.fits\"}\n",
    "\n",
    "if new_data:\n",
    "    file_name[99]  = \"/Users/\"+user+\"/Dropbox (MIT)/Photon Deposition/ref_files/contdep-logE05.327-z0031-0010-delta-comptdetail-FSR-single-zstopinject-9.9975652-partition-3.47712-comptonsmooth-modifiedheat-modifiedion-depositiondetailed-heliumseparated-planckparams.fits\"\n",
    "    file_name[199] = \"/Users/\"+user+\"/Dropbox (MIT)/Photon Deposition/ref_files/contdep-logE07.187-z0031-0010-delta-comptdetail-FSR-single-zstopinject-9.9975652-partition-3.47712-comptonsmooth-modifiedheat-modifiedion-depositiondetailed-heliumseparated-planckparams.fits\"\n",
    "    file_name[299] = \"/Users/\"+user+\"/Dropbox (MIT)/Photon Deposition/ref_files/contdep-logE09.047-z0031-0010-delta-comptdetail-FSR-single-zstopinject-9.9975652-partition-3.47712-comptonsmooth-modifiedheat-modifiedion-depositiondetailed-heliumseparated-planckparams.fits\"\n",
    "    eng_exp = {99: 5.32665, 199: 7.18686, 299: 9.04706}[eng_ind]\n",
    "print(eng_exp)\n",
    "    \n",
    "file = fits.open(file_name[eng_ind])\n",
    "\n",
    "file_eng = file[1].data['energy'][0,:]\n",
    "file_eleceng = file[1].data['eleceng'][0,:]\n",
    "file_rs = file[1].data['redshift'][0,:]\n",
    "file_photonspectrum = file[1].data['photonspectrum'][0,:,:]\n",
    "file_lowengphot = file[1].data['lowengphot'][0,:,:]\n",
    "file_lowengelec = file[1].data['lowengelec'][0,:,:]\n",
    "file_engloss = file[1].data['cmblosstable'][0,:]\n",
    "file_xes = file[1].data['hionfraction'][0,:]"
   ]
  },
  {
   "cell_type": "markdown",
   "metadata": {},
   "source": [
    "Turn the data into `Spectra` objects. "
   ]
  },
  {
   "cell_type": "code",
   "execution_count": 148,
   "metadata": {},
   "outputs": [
    {
     "data": {
      "text/plain": [
       "array([31.29134645, 31.26007074, 31.22882629, 31.19761308, 31.16643106,\n",
       "       31.1352802 , 31.10416049, 31.07307187, 31.04201433, 31.01098783,\n",
       "       30.97999235, 30.94902784, 30.91809428, 30.88719164, 30.85631989,\n",
       "       30.82547899, 30.79466892, 30.76388964, 30.73314113, 30.70242335,\n",
       "       30.67173627, 30.64107987, 30.6104541 , 30.57985895, 30.54929437,\n",
       "       30.51876035, 30.48825684, 30.45778382, 30.42734126, 30.39692913,\n",
       "       30.3665474 , 30.33619603, 30.30587499, 30.27558427, 30.24532382,\n",
       "       30.21509361, 30.18489362, 30.15472381, 30.12458416, 30.09447463,\n",
       "       30.0643952 , 30.03434583, 30.0043265 , 29.97433717, 29.94437782,\n",
       "       29.9144484 , 29.88454891, 29.8546793 , 29.82483954, 29.79502961,\n",
       "       29.76524947, 29.7354991 , 29.70577846, 29.67608753, 29.64642628,\n",
       "       29.61679467, 29.58719268, 29.55762027, 29.52807743, 29.49856411,\n",
       "       29.46908029, 29.43962594, 29.41020103, 29.38080553, 29.35143941,\n",
       "       29.32210264, 29.29279519, 29.26351704, 29.23426815, 29.20504849,\n",
       "       29.17585804, 29.14669677, 29.11756464, 29.08846163, 29.05938771,\n",
       "       29.03034284, 29.00132701, 28.97234018, 28.94338232, 28.91445341,\n",
       "       28.8855534 , 28.85668229, 28.82784003, 28.7990266 , 28.77024197,\n",
       "       28.74148611, 28.71275899, 28.68406058, 28.65539085, 28.62674979,\n",
       "       28.59813735, 28.5695535 , 28.54099823, 28.5124715 , 28.48397328,\n",
       "       28.45550354, 28.42706226, 28.39864941, 28.37026495, 28.34190887,\n",
       "       28.31358112, 28.2852817 , 28.25701055, 28.22876766, 28.20055301,\n",
       "       28.17236655, 28.14420826, 28.11607812, 28.0879761 , 28.05990216,\n",
       "       28.03185629, 28.00383844, 27.9758486 , 27.94788673, 27.91995282,\n",
       "       27.89204682, 27.86416871, 27.83631847, 27.80849607, 27.78070147,\n",
       "       27.75293465, 27.72519559, 27.69748425, 27.66980061, 27.64214464,\n",
       "       27.61451632, 27.5869156 , 27.55934248, 27.53179691, 27.50427887,\n",
       "       27.47678834, 27.44932529, 27.42188968, 27.3944815 , 27.36710071,\n",
       "       27.33974729, 27.31242121, 27.28512244, 27.25785095, 27.23060672,\n",
       "       27.20338973, 27.17619994, 27.14903732, 27.12190185, 27.09479351,\n",
       "       27.06771226, 27.04065807, 27.01363093, 26.9866308 , 26.95965766,\n",
       "       26.93271148, 26.90579223, 26.87889989, 26.85203442, 26.82519581,\n",
       "       26.79838402, 26.77159903, 26.74484081, 26.71810934, 26.69140459,\n",
       "       26.66472652, 26.63807512, 26.61145036, 26.58485221, 26.55828065,\n",
       "       26.53173564, 26.50521717, 26.4787252 , 26.45225971, 26.42582067,\n",
       "       26.39940806, 26.37302185, 26.34666201, 26.32032851, 26.29402134,\n",
       "       26.26774046, 26.24148585, 26.21525748, 26.18905533, 26.16287936,\n",
       "       26.13672956, 26.1106059 , 26.08450834, 26.05843687, 26.03239146,\n",
       "       26.00637208, 25.9803787 , 25.95441131, 25.92846987, 25.90255436,\n",
       "       25.87666476, 25.85080103, 25.82496315, 25.79915109, 25.77336483,\n",
       "       25.74760435, 25.72186962, 25.6961606 , 25.67047729, 25.64481964,\n",
       "       25.61918764, 25.59358126, 25.56800047, 25.54244525, 25.51691557,\n",
       "       25.49141141, 25.46593274, 25.44047953, 25.41505177, 25.38964942,\n",
       "       25.36427246, 25.33892087, 25.31359461, 25.28829367, 25.26301802,\n",
       "       25.23776763, 25.21254247, 25.18734253, 25.16216778, 25.13701819,\n",
       "       25.11189374, 25.08679439, 25.06172014, 25.03667095, 25.01164679,\n",
       "       24.98664764, 24.96167348, 24.93672429, 24.91180003, 24.88690068,\n",
       "       24.86202622, 24.83717662, 24.81235186, 24.78755191, 24.76277674,\n",
       "       24.73802635, 24.71330068, 24.68859974, 24.66392348, 24.63927188,\n",
       "       24.61464492, 24.59004258, 24.56546483, 24.54091164, 24.516383  ,\n",
       "       24.49187887, 24.46739923, 24.44294406, 24.41851334, 24.39410703,\n",
       "       24.36972511, 24.34536757, 24.32103437, 24.29672549, 24.27244091,\n",
       "       24.2481806 , 24.22394454, 24.19973271, 24.17554507, 24.15138161,\n",
       "       24.1272423 , 24.10312712, 24.07903604, 24.05496904, 24.03092609,\n",
       "       24.00690718, 23.98291227, 23.95894134, 23.93499438, 23.91107135,\n",
       "       23.88717223, 23.86329699, 23.83944562, 23.81561809, 23.79181438,\n",
       "       23.76803446, 23.7442783 , 23.72054589, 23.6968372 , 23.67315221,\n",
       "       23.64949089, 23.62585322, 23.60223918, 23.57864874, 23.55508187,\n",
       "       23.53153856, 23.50801879, 23.48452252, 23.46104973, 23.43760041,\n",
       "       23.41417453, 23.39077205, 23.36739297, 23.34403726, 23.32070489,\n",
       "       23.29739584, 23.27411009, 23.25084761, 23.22760839, 23.20439239,\n",
       "       23.1811996 , 23.15802998, 23.13488353, 23.11176021, 23.08866   ,\n",
       "       23.06558288, 23.04252883, 23.01949782, 22.99648982, 22.97350483,\n",
       "       22.95054281, 22.92760374, 22.90468759, 22.88179435, 22.858924  ,\n",
       "       22.8360765 , 22.81325183, 22.79044999, 22.76767093, 22.74491464,\n",
       "       22.72218109, 22.69947027, 22.67678214, 22.65411669, 22.6314739 ,\n",
       "       22.60885374, 22.58625619, 22.56368122, 22.54112882, 22.51859895,\n",
       "       22.49609161, 22.47360676, 22.45114439, 22.42870447, 22.40628697,\n",
       "       22.38389189, 22.36151918, 22.33916884, 22.31684084, 22.29453515,\n",
       "       22.27225176, 22.24999064, 22.22775177, 22.20553513, 22.18334069,\n",
       "       22.16116844, 22.13901835, 22.1168904 , 22.09478456, 22.07270082,\n",
       "       22.05063915, 22.02859953, 22.00658194, 21.98458636, 21.96261276,\n",
       "       21.94066113, 21.91873144, 21.89682366, 21.87493778, 21.85307378,\n",
       "       21.83123163, 21.80941131, 21.7876128 , 21.76583607, 21.74408112,\n",
       "       21.7223479 , 21.70063641, 21.67894662, 21.65727851, 21.63563206,\n",
       "       21.61400724, 21.59240404, 21.57082243, 21.54926239, 21.52772389,\n",
       "       21.50620693, 21.48471147, 21.4632375 , 21.44178499, 21.42035392,\n",
       "       21.39894428, 21.37755603, 21.35618916, 21.33484364, 21.31351946,\n",
       "       21.2922166 , 21.27093502, 21.24967472, 21.22843567, 21.20721784,\n",
       "       21.18602122, 21.16484579, 21.14369152, 21.1225584 , 21.1014464 ,\n",
       "       21.0803555 , 21.05928568, 21.03823692, 21.0172092 , 20.9962025 ,\n",
       "       20.97521679, 20.95425206, 20.93330828, 20.91238543, 20.8914835 ,\n",
       "       20.87060246, 20.84974229, 20.82890297, 20.80808448, 20.78728679,\n",
       "       20.7665099 , 20.74575377, 20.72501838, 20.70430372, 20.68360977,\n",
       "       20.6629365 , 20.64228389, 20.62165192, 20.60104058, 20.58044983,\n",
       "       20.55987967, 20.53933007, 20.518801  , 20.49829246, 20.47780441,\n",
       "       20.45733684, 20.43688973, 20.41646306, 20.3960568 , 20.37567094,\n",
       "       20.35530545, 20.33496032, 20.31463552, 20.29433104, 20.27404685,\n",
       "       20.25378294, 20.23353928, 20.21331585, 20.19311264, 20.17292962,\n",
       "       20.15276678, 20.13262408, 20.11250152, 20.09239907, 20.07231672,\n",
       "       20.05225443, 20.0322122 , 20.01219   , 19.99218781, 19.97220562,\n",
       "       19.9522434 , 19.93230113, 19.91237879, 19.89247636, 19.87259383,\n",
       "       19.85273117, 19.83288836, 19.81306538, 19.79326222, 19.77347885,\n",
       "       19.75371526, 19.73397142, 19.71424731, 19.69454291, 19.67485822,\n",
       "       19.65519319, 19.63554782, 19.61592209, 19.59631597, 19.57672945,\n",
       "       19.55716251, 19.53761512, 19.51808727, 19.49857894, 19.4790901 ,\n",
       "       19.45962075, 19.44017086, 19.4207404 , 19.40132937, 19.38193774,\n",
       "       19.36256549, 19.3432126 , 19.32387906, 19.30456484, 19.28526992,\n",
       "       19.26599429, 19.24673792, 19.22750081, 19.20828292, 19.18908423,\n",
       "       19.16990474, 19.15074442, 19.13160325, 19.11248121, 19.09337828,\n",
       "       19.07429444, 19.05522968, 19.03618398, 19.01715731, 18.99814966,\n",
       "       18.979161  , 18.96019133, 18.94124061, 18.92230884, 18.90339599,\n",
       "       18.88450204, 18.86562698, 18.84677078, 18.82793343, 18.80911491,\n",
       "       18.7903152 , 18.77153427, 18.75277212, 18.73402872, 18.71530406,\n",
       "       18.69659811, 18.67791085, 18.65924228, 18.64059236, 18.62196109,\n",
       "       18.60334844, 18.58475439, 18.56617892, 18.54762202, 18.52908367,\n",
       "       18.51056385, 18.49206254, 18.47357972, 18.45511537, 18.43666948,\n",
       "       18.41824203, 18.39983299, 18.38144235, 18.3630701 , 18.34471621,\n",
       "       18.32638066, 18.30806344, 18.28976453, 18.2714839 , 18.25322155,\n",
       "       18.23497746, 18.21675159, 18.19854395, 18.1803545 , 18.16218323,\n",
       "       18.14403013, 18.12589516, 18.10777833, 18.0896796 , 18.07159896,\n",
       "       18.0535364 , 18.03549189, 18.01746541, 17.99945695, 17.98146649,\n",
       "       17.96349401, 17.94553949, 17.92760292, 17.90968428, 17.89178355,\n",
       "       17.87390071, 17.85603574, 17.83818863, 17.82035936, 17.80254791,\n",
       "       17.78475426, 17.76697839, 17.7492203 , 17.73147995, 17.71375733,\n",
       "       17.69605243, 17.67836522, 17.66069569, 17.64304382, 17.6254096 ,\n",
       "       17.607793  , 17.590194  , 17.5726126 , 17.55504877, 17.5375025 ,\n",
       "       17.51997376, 17.50246255, 17.48496883, 17.4674926 , 17.45003384,\n",
       "       17.43259253, 17.41516865, 17.39776219, 17.38037312, 17.36300143,\n",
       "       17.34564711, 17.32831013, 17.31099048, 17.29368815, 17.2764031 ,\n",
       "       17.25913533, 17.24188483, 17.22465156, 17.20743552, 17.19023668,\n",
       "       17.17305504, 17.15589057, 17.13874325, 17.12161307, 17.10450002,\n",
       "       17.08740407, 17.07032521, 17.05326341, 17.03621867, 17.01919097,\n",
       "       17.00218029, 16.9851866 , 16.96820991, 16.95125018, 16.9343074 ,\n",
       "       16.91738156, 16.90047263, 16.88358061, 16.86670547, 16.84984719,\n",
       "       16.83300577, 16.81618117, 16.7993734 , 16.78258242, 16.76580823,\n",
       "       16.7490508 , 16.73231012, 16.71558617, 16.69887894, 16.68218841,\n",
       "       16.66551456, 16.64885737, 16.63221684, 16.61559294, 16.59898565,\n",
       "       16.58239496, 16.56582085, 16.54926331, 16.53272232, 16.51619786,\n",
       "       16.49968992, 16.48319848, 16.46672352, 16.45026502, 16.43382298,\n",
       "       16.41739737, 16.40098818, 16.38459539, 16.36821898, 16.35185895,\n",
       "       16.33551526, 16.31918791, 16.30287688, 16.28658215, 16.27030371,\n",
       "       16.25404154, 16.23779562, 16.22156594, 16.20535248, 16.18915523,\n",
       "       16.17297417, 16.15680928, 16.14066054, 16.12452795, 16.10841148,\n",
       "       16.09231112, 16.07622686, 16.06015866, 16.04410653, 16.02807045,\n",
       "       16.01205039, 15.99604634, 15.98005829, 15.96408622, 15.94813011,\n",
       "       15.93218995, 15.91626573, 15.90035742, 15.88446501, 15.86858848,\n",
       "       15.85272782, 15.83688302, 15.82105405, 15.80524091, 15.78944356,\n",
       "       15.77366201, 15.75789624, 15.74214622, 15.72641194, 15.71069339,\n",
       "       15.69499055, 15.6793034 , 15.66363193, 15.64797613, 15.63233598,\n",
       "       15.61671145, 15.60110255, 15.58550924, 15.56993152, 15.55436938,\n",
       "       15.53882278, 15.52329172, 15.50777619, 15.49227617, 15.47679163,\n",
       "       15.46132258, 15.44586898, 15.43043084, 15.41500812, 15.39960081,\n",
       "       15.38420891, 15.36883239, 15.35347124, 15.33812544, 15.32279498,\n",
       "       15.30747985, 15.29218002, 15.27689548, 15.26162622, 15.24637223,\n",
       "       15.23113347, 15.21590995, 15.20070165, 15.18550855, 15.17033063,\n",
       "       15.15516788, 15.14002029, 15.12488783, 15.10977051, 15.09466829,\n",
       "       15.07958116, 15.06450912, 15.04945214, 15.03441021, 15.01938332,\n",
       "       15.00437144, 14.98937457, 14.97439269, 14.95942578, 14.94447383,\n",
       "       14.92953682, 14.91461475, 14.89970759, 14.88481533, 14.86993795,\n",
       "       14.85507545, 14.8402278 , 14.82539499, 14.810577  , 14.79577383,\n",
       "       14.78098545, 14.76621185, 14.75145302, 14.73670894, 14.7219796 ,\n",
       "       14.70726498, 14.69256506, 14.67787984, 14.6632093 , 14.64855342,\n",
       "       14.63391219, 14.61928559, 14.60467361, 14.59007624, 14.57549346,\n",
       "       14.56092525, 14.5463716 , 14.5318325 , 14.51730793, 14.50279788,\n",
       "       14.48830233, 14.47382127, 14.45935468, 14.44490255, 14.43046487,\n",
       "       14.41604162, 14.40163278, 14.38723835, 14.3728583 , 14.35849263,\n",
       "       14.34414131, 14.32980434, 14.3154817 , 14.30117337, 14.28687935,\n",
       "       14.27259961, 14.25833414, 14.24408294, 14.22984597, 14.21562324,\n",
       "       14.20141472, 14.18722041, 14.17304028, 14.15887432, 14.14472252,\n",
       "       14.13058487, 14.11646135, 14.10235194, 14.08825664, 14.07417542,\n",
       "       14.06010828, 14.0460552 , 14.03201617, 14.01799117, 14.00398018,\n",
       "       13.9899832 , 13.97600021, 13.9620312 , 13.94807614, 13.93413504,\n",
       "       13.92020787, 13.90629462, 13.89239528, 13.87850982, 13.86463825,\n",
       "       13.85078054, 13.83693669, 13.82310666, 13.80929047, 13.79548808,\n",
       "       13.78169949, 13.76792468, 13.75416363, 13.74041634, 13.7266828 ,\n",
       "       13.71296297, 13.69925686, 13.68556446, 13.67188573, 13.65822068,\n",
       "       13.64456929, 13.63093154, 13.61730742, 13.60369692, 13.59010002,\n",
       "       13.57651671, 13.56294698, 13.54939081, 13.5358482 , 13.52231911,\n",
       "       13.50880355, 13.4953015 , 13.48181295, 13.46833787, 13.45487626,\n",
       "       13.44142811, 13.4279934 , 13.41457212, 13.40116426, 13.38776979,\n",
       "       13.37438871, 13.36102101, 13.34766667, 13.33432567, 13.32099801,\n",
       "       13.30768367, 13.29438264, 13.2810949 , 13.26782044, 13.25455925,\n",
       "       13.24131132, 13.22807663, 13.21485516, 13.20164691, 13.18845186,\n",
       "       13.17527   , 13.16210132, 13.1489458 , 13.13580342, 13.12267419,\n",
       "       13.10955807, 13.09645507, 13.08336516, 13.07028833, 13.05722458,\n",
       "       13.04417388, 13.03113622, 13.0181116 , 13.0051    , 12.9921014 ,\n",
       "       12.97911579, 12.96614316, 12.9531835 , 12.94023679, 12.92730302,\n",
       "       12.91438218, 12.90147425, 12.88857923, 12.87569709, 12.86282783,\n",
       "       12.84997143, 12.83712788, 12.82429717, 12.81147928, 12.79867421,\n",
       "       12.78588193, 12.77310244, 12.76033572, 12.74758176, 12.73484055,\n",
       "       12.72211208, 12.70939632, 12.69669328, 12.68400293, 12.67132527,\n",
       "       12.65866028, 12.64600795, 12.63336826, 12.6207412 , 12.60812677,\n",
       "       12.59552495, 12.58293572, 12.57035907, 12.557795  , 12.54524348,\n",
       "       12.5327045 , 12.52017806, 12.50766414, 12.49516273, 12.48267381,\n",
       "       12.47019738, 12.45773342, 12.44528191, 12.43284285, 12.42041622,\n",
       "       12.40800201, 12.39560021, 12.38321081, 12.37083378, 12.35846913,\n",
       "       12.34611684, 12.3337769 , 12.32144928, 12.30913399, 12.29683101,\n",
       "       12.28454033, 12.27226193, 12.2599958 , 12.24774193, 12.23550031,\n",
       "       12.22327093, 12.21105377, 12.19884882, 12.18665606, 12.1744755 ,\n",
       "       12.16230711, 12.15015088, 12.1380068 , 12.12587486, 12.11375505,\n",
       "       12.10164735, 12.08955175, 12.07746824, 12.06539681, 12.05333744,\n",
       "       12.04129013, 12.02925486, 12.01723162, 12.00522039, 11.99322117,\n",
       "       11.98123395, 11.9692587 , 11.95729543, 11.94534411, 11.93340473,\n",
       "       11.92147729, 11.90956177, 11.89765817, 11.88576645, 11.87388663,\n",
       "       11.86201868, 11.85016259, 11.83831835, 11.82648595, 11.81466537,\n",
       "       11.80285661, 11.79105965, 11.77927449, 11.7675011 , 11.75573948,\n",
       "       11.74398962, 11.7322515 , 11.72052511, 11.70881045, 11.69710749,\n",
       "       11.68541623, 11.67373665, 11.66206875, 11.65041251, 11.63876792,\n",
       "       11.62713497, 11.61551365, 11.60390394, 11.59230583, 11.58071932,\n",
       "       11.56914439, 11.55758103, 11.54602923, 11.53448897, 11.52296024,\n",
       "       11.51144304, 11.49993735, 11.48844317, 11.47696046, 11.46548924,\n",
       "       11.45402948, 11.44258118, 11.43114432, 11.41971889, 11.40830487,\n",
       "       11.39690227, 11.38551107, 11.37413125, 11.3627628 , 11.35140572,\n",
       "       11.34005998, 11.32872559, 11.31740253, 11.30609078, 11.29479034,\n",
       "       11.2835012 , 11.27222334, 11.26095675, 11.24970142, 11.23845734,\n",
       "       11.2272245 , 11.21600289, 11.20479249, 11.1935933 , 11.1824053 ,\n",
       "       11.17122849, 11.16006284, 11.14890836, 11.13776502, 11.12663282,\n",
       "       11.11551175, 11.1044018 , 11.09330294, 11.08221519, 11.07113851,\n",
       "       11.06007291, 11.04901836, 11.03797487, 11.02694241, 11.01592098,\n",
       "       11.00491056, 10.99391115, 10.98292274, 10.9719453 , 10.96097884,\n",
       "       10.95002334, 10.93907879, 10.92814518, 10.9172225 , 10.90631073,\n",
       "       10.89540987, 10.88451991, 10.87364083, 10.86277262, 10.85191528,\n",
       "       10.84106879, 10.83023314, 10.81940832, 10.80859432, 10.79779113,\n",
       "       10.78699873, 10.77621713, 10.7654463 , 10.75468623, 10.74393692,\n",
       "       10.73319835, 10.72247052, 10.71175341, 10.70104701, 10.69035131,\n",
       "       10.6796663 , 10.66899197, 10.65832831, 10.64767531, 10.63703296,\n",
       "       10.62640124, 10.61578015, 10.60516968, 10.59456981, 10.58398054,\n",
       "       10.57340185, 10.56283373, 10.55227618, 10.54172917, 10.53119271,\n",
       "       10.52066679, 10.51015138, 10.49964648, 10.48915208, 10.47866817,\n",
       "       10.46819474, 10.45773178, 10.44727927, 10.43683722, 10.4264056 ,\n",
       "       10.4159844 , 10.40557362, 10.39517325, 10.38478327, 10.37440368,\n",
       "       10.36403446, 10.35367561, 10.34332711, 10.33298895, 10.32266113,\n",
       "       10.31234363, 10.30203644, 10.29173955, 10.28145295, 10.27117664,\n",
       "       10.2609106 , 10.25065481, 10.24040928, 10.23017399, 10.21994893,\n",
       "       10.20973409, 10.19952946, 10.18933503, 10.17915079, 10.16897672,\n",
       "       10.15881283, 10.1486591 , 10.13851551, 10.12838206, 10.11825874,\n",
       "       10.10814554, 10.09804245, 10.08794945, 10.07786654, 10.06779372,\n",
       "       10.05773095, 10.04767825, 10.03763559, 10.02760298, 10.01758038,\n",
       "       10.00756781,  9.99756525])"
      ]
     },
     "execution_count": 148,
     "metadata": {},
     "output_type": "execute_result"
    }
   ],
   "source": [
    "file_rs"
   ]
  },
  {
   "cell_type": "code",
   "execution_count": 143,
   "metadata": {},
   "outputs": [],
   "source": [
    "import scipy.interpolate\n",
    "\n",
    "std_soln = pickle.load(open('/Users/gridgway/Dropbox (MIT)/21cm_pwave/'+\n",
    "                            'TLA_code/examples/old_notebooks/standard_soln.p','rb'))\n",
    "std_soln_rs = std_soln[0]\n",
    "std_soln_T = std_soln[1]\n",
    "std_soln_xe = std_soln[2]\n",
    "\n",
    "#std_xe_interp = scipy.interpolate.interp1d(std_soln_rs[2967:], std_soln_xe[2967:])\n",
    "#plt.plot(rs_list, std_xe_interp(rs_list))\n",
    "#plt.show()\n",
    "\n",
    "std_xe_interp = scipy.interpolate.interp1d(file_rs, file_xes)"
   ]
  },
  {
   "cell_type": "code",
   "execution_count": 144,
   "metadata": {},
   "outputs": [],
   "source": [
    "file_highengphot_spectra = Spectra([Spectrum(file_eng, photspec, rs=rs) \n",
    "                   for photspec,rs in zip(file_photonspectrum, file_rs)])\n",
    "\n",
    "file_lowengphot_spectra = Spectra([Spectrum(file_eng, photspec, rs=rs) \n",
    "                   for photspec,rs in zip(file_lowengphot, file_rs)])\n",
    "\n",
    "file_lowengelec_spectra = Spectra([Spectrum(file_eleceng, elecspec, rs=rs) \n",
    "                   for elecspec,rs in zip(file_lowengelec, file_rs)])"
   ]
  },
  {
   "cell_type": "markdown",
   "metadata": {},
   "source": [
    "### Transfer Method Comparison: coarse rs bin check "
   ]
  },
  {
   "cell_type": "code",
   "execution_count": 145,
   "metadata": {},
   "outputs": [
    {
     "name": "stdout",
     "output_type": "stream",
     "text": [
      "cont, exc, HI ion, He ion, heat:  [0.00625824 0.00447995 0.00396489 0.00018517 0.00326763]\n"
     ]
    },
    {
     "name": "stderr",
     "output_type": "stream",
     "text": [
      "../darkhistory/spec/spectrum.py:748: RuntimeWarning: The new abscissa lies below the old one: only bins that lie within the new abscissa will be rebinned, bins above the abscissa will be discarded.\n",
      "  warnings.warn(\"The new abscissa lies below the old one: only bins that lie within the new abscissa will be rebinned, bins above the abscissa will be discarded.\", RuntimeWarning)\n"
     ]
    }
   ],
   "source": [
    "%autoreload\n",
    "m_chi = 10**eng_exp\n",
    "d_lnz = 1e-3\n",
    "min_indx = 6\n",
    "\n",
    "# List of redshifts from the Mathematica file\n",
    "math_rs_list = np.loadtxt(\"/Users/\"+user+\"/Desktop/tmp.dat\")[min_indx:]\n",
    "math_rs_bounds = spectools.get_bin_bound(math_rs_list)\n",
    "\n",
    "rs_list = file_lowengphot_spectra.rs\n",
    "eng = file_lowengphot_spectra.eng\n",
    "eng_bounds = spectools.get_bin_bound(eng)\n",
    "\n",
    "# xe as a function of redshift\n",
    "xes = std_xe_interp(rs_list)\n",
    "\n",
    "#Ensure that electron and photon spectra occur at the same redshifts\n",
    "if np.any(np.abs(rs_list - file_lowengelec_spectra.rs) > 1e-6):\n",
    "    sys.exit()\n",
    "    \n",
    "# indx at which photons can photoionize\n",
    "ion_indx = spectools.get_indx(eng,phys.rydberg)\n",
    "\n",
    "# max index at which math_rs_bounds fits in rs_list\n",
    "max_indx = spectools.get_indx(math_rs_list, rs_list[0])\n",
    "f_list = np.zeros([max_indx+1,5])\n",
    "\n",
    "#to calculate cmb_loss\n",
    "def CMB_dNdE(eng):\n",
    "    return phys.CMB_spec(eng,T)\n",
    "\n",
    "#initialize loop\n",
    "indx2 = len(rs_list) - np.searchsorted(np.flipud(rs_list), math_rs_bounds[0]) - 1\n",
    "\n",
    "# Sum all spectra between redshifts rs_list[k] and rs_list[k+1]\n",
    "for k in np.arange(max_indx+1):\n",
    "    indx1 = len(rs_list) - np.searchsorted(np.flipud(rs_list), math_rs_bounds[k+1])\n",
    "    \n",
    "    #Do I coarse grain correctly?\n",
    "    #print(k, ' ', math_rs_bounds[k], \n",
    "    #      ' ', rs_list[indx2], ' ', rs_list[indx1], ' ', math_rs_bounds[k+1])\n",
    "    weights = np.zeros(len(rs_list))\n",
    "    weights[indx1 : indx2 + 1] = 1\n",
    "    loweng_phot = file_lowengphot_spectra.sum_specs(weights)\n",
    "    loweng_phot.rs=1\n",
    "    \n",
    "    loweng_elec = file_lowengelec_spectra.sum_specs(weights)\n",
    "    \n",
    "    #Include an energy of 10^-12 with occupation zero\n",
    "    loweng_elec = Spectrum(\n",
    "        np.insert(loweng_elec.eng, 0, 1e-12), np.insert(loweng_elec.N, 0, 0),\n",
    "        rs=1, spec_type='N'\n",
    "    )\n",
    "    \n",
    "    # ionized electrons\n",
    "    tmp_elec = Spectrum(\n",
    "        loweng_phot.eng[ion_indx:], loweng_phot.N[ion_indx:], rs=1, spec_type='N'\n",
    "    )\n",
    "    new_eng = tmp_elec.eng - phys.rydberg\n",
    "    \n",
    "    if new_eng[0] < 0:\n",
    "        #Don't allow negative energies\n",
    "        new_eng = np.insert(new_eng[1:], 0, 1e-12)\n",
    "    tmp_elec.shift_eng(new_eng)\n",
    "\n",
    "    # rebin so that I may add it to loweng_elec\n",
    "    indx = tmp_elec.eng.size\n",
    "    tmp_elec.rebin(loweng_elec.eng[:indx+1])\n",
    "    loweng_elec.N[:indx+1] += tmp_elec.N\n",
    "    \n",
    "    # Compute Transfer Functions\n",
    "    T_phot = lowE_photons.compute_dep_inj_ratio(\n",
    "        loweng_phot, np.array([1-xes[k], 0, 0]), 1, 1, 'old'\n",
    "    )/phys.nB/(2*m_chi+0*phys.me)\n",
    "\n",
    "    T_elec = lowE_electrons.compute_dep_inj_ratio(\n",
    "        loweng_elec, xes[k], 1, 1\n",
    "    )/phys.nB/(2*m_chi+0*phys.me)\n",
    "    \n",
    "    f_list[k] = T_phot + T_elec\n",
    "    \n",
    "    #subtract off the CMB part contributing to continuum photons\n",
    "    f_list[k,0] -= sum(file_engloss[indx1: indx2 + 1] * d_lnz /(\n",
    "        phys.hubble(rs_list[indx1: indx2 + 1]) * 2 * m_chi\n",
    "    ))\n",
    "    \n",
    "    indx2 = indx1-1\n",
    "    \n",
    "print('cont, exc, HI ion, He ion, heat: ',sum(f_list))"
   ]
  },
  {
   "cell_type": "code",
   "execution_count": 146,
   "metadata": {
    "scrolled": true
   },
   "outputs": [
    {
     "name": "stdout",
     "output_type": "stream",
     "text": [
      "13\n",
      "mine:  0.018155871435838362\n",
      "hers:  0.01811354249384132\n"
     ]
    }
   ],
   "source": [
    "old_tfs = np.loadtxt(\"/Users/\"+user+\"/Desktop/tmp\"+str(eng_ind)+\".dat\")[min_indx:]\n",
    "print(len(old_tfs))\n",
    "print('mine: ',sum(sum(f_list)))\n",
    "print('hers: ',sum(sum(old_tfs)))"
   ]
  },
  {
   "cell_type": "code",
   "execution_count": 147,
   "metadata": {
    "scrolled": true
   },
   "outputs": [
    {
     "data": {
      "image/png": "[encoded data removed]",
      "text/plain": [
       "<Figure size 1080x2160 with 5 Axes>"
      ]
     },
     "metadata": {},
     "output_type": "display_data"
    }
   ],
   "source": [
    "old_tfs = np.loadtxt(\"/Users/\"+user+\"/Desktop/tmp\"+str(eng_ind)+\".dat\")[min_indx:]\n",
    "\n",
    "plt.figure(figsize=(15,30))\n",
    "\n",
    "names = [\"Continuum\", \"HI excitation\", \"HI Ionization\", \"He Ionization\", \"Heating\"]\n",
    "\n",
    "for num in np.arange(5):\n",
    "\n",
    "    ax = plt.subplot(3,2,num+1)\n",
    "\n",
    "    old_tf_plt, = plt.plot(math_rs_list[:max_indx+1], old_tfs[:,num], linewidth=2, label='IDL code')\n",
    "    new_tf_plt, = plt.plot(math_rs_list[:max_indx+1], f_list[:,num], 'k--', label='DarkHistory')\n",
    "\n",
    "    #ax.set_xscale('log')\n",
    "    #ax.set_yscale('log')\n",
    "\n",
    "    plt.tick_params(axis='both', which='major', labelsize=20)\n",
    "\n",
    "    if num == 0:\n",
    "        plt.title(names[num]+', $\\\\log(E) = $'+str(eng_exp), fontsize=28)\n",
    "    elif num == 1:\n",
    "        plt.title(names[num]+', $z_{in} = 30$', fontsize=28)\n",
    "    else:\n",
    "        plt.title(names[num], fontsize=28)\n",
    "    plt.xlabel('Redshift (1+$z_{out}$)',fontsize=24)\n",
    "    if num%2 == 0:\n",
    "        plt.ylabel('T($z_{out}$)',fontsize=24)\n",
    "        plt.legend(handles=[old_tf_plt, new_tf_plt], \n",
    "            fontsize=18)\n",
    "    plt.axis(\n",
    "        [0, 32, 0, 1.1 * max(\n",
    "            [max(f_list[:,num]),max(old_tfs[:,num])]\n",
    "        )]\n",
    "    )\n",
    "\n",
    "if new_data:\n",
    "    extra = 'better_xe'\n",
    "else:\n",
    "    extra = ''\n",
    "plt.savefig('/Users/'+user+'/Dropbox (MIT)/Photon Deposition/plots/'+\n",
    "            'Reproducing_tFuncs_log10(E)_'+str(eng_exp)+'_'+extra+'.pdf')"
   ]
  },
  {
   "cell_type": "markdown",
   "metadata": {},
   "source": [
    "### Old Transfer Function comparison: Integrated"
   ]
  },
  {
   "cell_type": "code",
   "execution_count": 231,
   "metadata": {},
   "outputs": [
    {
     "name": "stdout",
     "output_type": "stream",
     "text": [
      "[5.85011337e-04 8.03135493e-04 1.02940085e-03 4.06100203e-05\n",
      " 4.31558588e-04]\n",
      "[0.03099231 0.00404949 0.00382457 0.00018867 0.00360629]\n"
     ]
    }
   ],
   "source": [
    "m_chi = 10**eng_exp\n",
    "\n",
    "# List of redshifts from the Mathematica file\n",
    "math_rs_list = np.loadtxt(\"/Users/\"+user+\"/Desktop/tmp.dat\")\n",
    "math_rs_bounds = spectools.get_bin_bound(math_rs_list)\n",
    "\n",
    "# Sum all spectra between redshifts 4.58 and 31\n",
    "# Photons\n",
    "rs_list = file_lowengphot_spectra.rs\n",
    "eng = file_lowengphot_spectra.eng\n",
    "\n",
    "weights = np.zeros(len(rs_list))\n",
    "indx = len(rs_list) - spectools.get_indx(np.flipud(rs_list), math_rs_bounds[0]) - 1\n",
    "weights[:indx+1] = 1\n",
    "loweng_phot = file_lowengphot_spectra.sum_specs(weights)\n",
    "loweng_phot.rs=1\n",
    "\n",
    "# Electrons\n",
    "if np.any(np.abs(rs_list - file_lowengelec_spectra.rs) < 1e-6):\n",
    "    loweng_elec = file_lowengelec_spectra.sum_specs(weights)\n",
    "    loweng_elec.rs=1\n",
    "else:\n",
    "    sys.exit()\n",
    "    \n",
    "new_elec = Spectrum(\n",
    "    np.insert(loweng_elec.eng, 0, 1e-12), np.insert(loweng_elec.N, 0, 0),\n",
    "    rs=loweng_elec.rs, spec_type='N'\n",
    ")\n",
    "\n",
    "# Electrons produced after ionization\n",
    "ion_indx = spectools.get_indx(loweng_phot.eng,phys.rydberg)\n",
    "\n",
    "tmp_elec = Spectrum(\n",
    "    loweng_phot.eng[ion_indx:], loweng_phot.N[ion_indx:], rs = loweng_phot.rs, spec_type='N'\n",
    ")\n",
    "tmp_elec.N = tmp_elec.N - phys.rydberg/tmp_elec.eng\n",
    "new_eng = tmp_elec.eng - phys.rydberg\n",
    "if new_eng[0] < 0:\n",
    "    new_eng = np.insert(new_eng[1:], 0, 1e-12)\n",
    "tmp_elec.shift_eng(new_eng)\n",
    "\n",
    "# rebin so that I may add it to loweng_elec\n",
    "indx = spectools.get_indx(new_elec.eng, tmp_elec.eng[-1])\n",
    "tmp_elec.rebin(new_elec.eng[:indx+1])\n",
    "new_elec.N[:indx+1] = new_elec.N[:indx+1] + tmp_elec.N\n",
    "    \n",
    "# Compute Transfer Functions\n",
    "T_phot = lowE_photons.compute_dep_inj_ratio(\n",
    "    loweng_phot, np.array([1-1e-4, 0, 0]), 1, 1, 'old'\n",
    ")/phys.nB/m_chi/2\n",
    "\n",
    "T_elec = lowE_electrons.compute_dep_inj_ratio(\n",
    "    new_elec, 1e-4, 1, 1\n",
    ")/phys.nB/m_chi/2\n",
    "\n",
    "print(T_phot+T_elec)\n",
    "print(sum(f_list))"
   ]
  },
  {
   "cell_type": "markdown",
   "metadata": {},
   "source": [
    "## Photon Cooling"
   ]
  },
  {
   "cell_type": "markdown",
   "metadata": {},
   "source": [
    "Now we cool the photons that result from the high energy photon injection. Photons below 3.1 keV are considered low energy photons. For high energy photons, greater than 3.1 keV, we have transfer functions into high energy photons, low energy photons and low energy electrons. Let's load them first."
   ]
  },
  {
   "cell_type": "code",
   "execution_count": 6,
   "metadata": {},
   "outputs": [],
   "source": [
    "highengphot_tflist = pickle.load(open(\"/Users/\"+user+\"/Dropbox (MIT)/Photon Deposition/tfunclist_photspec.raw\", \"rb\"))\n",
    "lowengphot_tflist  = pickle.load(open(\"/Users/\"+user+\"/Dropbox (MIT)/Photon Deposition/tfunclist_lowengphotspec.raw\", \"rb\"))\n",
    "lowengelec_tflist  = pickle.load(open(\"/Users/\"+user+\"/Dropbox (MIT)/Photon Deposition/tfunclist_lowengelecspec.raw\", \"rb\"))\n"
   ]
  },
  {
   "cell_type": "markdown",
   "metadata": {},
   "source": [
    "The data is saved as a `TransferFuncList` class. This is essentially a list of transfer functions. There are two types, and the type is stored as `TransferFuncList.tftype`. If `tftype` is `'rs'`, then the `TransferFuncList` is a collection of transfer functions at each redshift (the transfer functions are stored as a class called `TransFuncAtRedshift`). Each transfer function is a series of spectra with some injection energy, and some output spectrum. The redshift, injection energy and spectrum abscissa can be checked with `TransferFuncList.rs`, `TransferFuncList.in_eng` and `TransferFuncList.eng` respectively. The other `tftype` is `'in_eng'`, which is a collection of transfer functions at fixed injection energy (the class is called `TransFuncAtEnergy`), and stores the spectra that results from a delta-function injection at this injection energy at a series of redshifts. \n",
    "\n",
    "To switch between types, use `TransferFuncList.transpose()`. Currently, `highengphot_tflist`, `lowengphot_tflist` and `lowengelec_tflist` are stored as type `'in_eng'`. We take the transpose to change to type `'rs'`, and do some numerical clean up. "
   ]
  },
  {
   "cell_type": "code",
   "execution_count": 7,
   "metadata": {},
   "outputs": [],
   "source": [
    "# Changes all of the tflists to TransFuncAtRedshift\n",
    "highengphot_tflist.transpose()\n",
    "lowengphot_tflist.transpose()\n",
    "lowengelec_tflist.transpose()\n",
    "\n",
    "# This is a list of mwimp values used to generate highengphot_tflist\n",
    "mwimp_arr = np.array(highengphot_tflist.in_eng)\n",
    "\n",
    "# This shouldn't be necessary. There is one negative value somewhere. Check.\n",
    "for tf in highengphot_tflist:\n",
    "    tf.grid_vals[np.where(tf.grid_vals < 0)] = 1e-100\n",
    "for tf in lowengphot_tflist:\n",
    "    tf.grid_vals[np.where(tf.grid_vals < 0)] = 1e-100\n",
    "for tf in lowengelec_tflist:\n",
    "    tf.grid_vals[np.where(tf.grid_vals < 0)] = 1e-100"
   ]
  },
  {
   "cell_type": "markdown",
   "metadata": {
    "collapsed": true
   },
   "source": [
    "## Inputs"
   ]
  },
  {
   "cell_type": "markdown",
   "metadata": {},
   "source": [
    "Next, we define the input spectrum. Currently, `eleceng` and `photeng` must be defined as follows for accuracy, although `n` can be adjusted for speed. Here, we define a delta-function like injection at `mwimp_arr[eng_ind]`, which will correspond exactly with the reference file chosen. Note that `spectools.rebin_N_arr` produces a `Spectrum` object of type `'dNdE'` by default, so `Spectrum.switch_spec_type()` is required, since all of the transfer functions evolve `Spectrum` objects of type `'N'`. "
   ]
  },
  {
   "cell_type": "code",
   "execution_count": 8,
   "metadata": {
    "scrolled": false
   },
   "outputs": [],
   "source": [
    "n = 3\n",
    "\n",
    "eleceng = lowengelec_tflist.eng\n",
    "photeng = highengphot_tflist.in_eng\n",
    "step = np.log(photeng[1]) - np.log(photeng[0])\n",
    "test = np.exp(np.arange(np.log(photeng[0]), np.log(9.9e-5), -step))\n",
    "photeng = np.append(np.flipud(test[1:]), photeng)\n",
    "\n",
    "# eleceng = eleceng[1::n]\n",
    "photeng = photeng[1::n]\n",
    "\n",
    "phot_spec_init = spectools.rebin_N_arr(np.array([2]), \n",
    "                                      np.array([mwimp_arr[eng_ind]]),\n",
    "                                      photeng)\n",
    "phot_spec_init.switch_spec_type()"
   ]
  },
  {
   "cell_type": "markdown",
   "metadata": {},
   "source": [
    "To evolve the spectrum and allow for easy processing later, the high energy photon transfer function must be square. We make the abscissa for the transfer function `photeng` by `photeng` (injected energy by output energy), and simply pad the additional rows needed with zeros. For convenience, we also use `photeng` by `photeng` for the low energy photon transfer function, and `photeng` by `eleceng` for the low energy electron transfer function. The definitions for high and low energies are listed below. "
   ]
  },
  {
   "cell_type": "code",
   "execution_count": 9,
   "metadata": {},
   "outputs": [
    {
     "name": "stderr",
     "output_type": "stream",
     "text": [
      "../darkhistory/spec/spectra.py:852: RuntimeWarning: The new abscissa lies below the old one: only bins that lie within the new abscissa will be rebinned, bins above the abscissa will be discarded.\n",
      "  warnings.warn(\"The new abscissa lies below the old one: only bins that lie within the new abscissa will be rebinned, bins above the abscissa will be discarded.\", RuntimeWarning)\n"
     ]
    }
   ],
   "source": [
    "#Make tf square, have consistent abscissa\n",
    "\n",
    "#Split photeng into high and low energy. \n",
    "photeng_high = photeng[photeng > 3070]\n",
    "photeng_low  = photeng[photeng <= 3070]\n",
    "\n",
    "# Split eleceng into high and low energy. \n",
    "eleceng_high = eleceng[eleceng > 3500]\n",
    "eleceng_low  = eleceng[eleceng <= 3500]\n",
    "\n",
    "\n",
    "highengphot_tflist.at_val('in_eng', photeng_high, bounds_error=False, fill_value=0)\n",
    "\n",
    "for tf in highengphot_tflist:\n",
    "    tf.rebin(photeng_high)\n",
    "    \n",
    "    # Pad with zeros so that it becomes photeng x photeng. \n",
    "    tf._grid_vals = np.pad(tf.grid_vals, ((photeng_low.size, 0), (photeng_low.size, 0)), 'constant')\n",
    "    tf._N_underflow = np.pad(tf._N_underflow, (photeng_low.size, 0), 'constant')\n",
    "    tf._eng_underflow = np.pad(tf._eng_underflow, (photeng_low.size, 0), 'constant')\n",
    "    tf._in_eng = photeng\n",
    "    tf._eng = photeng\n",
    "    tf._rs = tf.rs[0]*np.ones_like(photeng)\n",
    "    \n",
    "highengphot_tflist.eng = photeng\n",
    "highengphot_tflist.in_eng = photeng\n",
    "    \n",
    "# lowengphot_tflist.in_eng set to photeng_high\n",
    "lowengphot_tflist.at_val('in_eng', photeng_high, bounds_error=False, fill_value=0)\n",
    "for tf in lowengphot_tflist:\n",
    "    tf.rebin(photeng)\n",
    "    # Pad with zeros so that it becomes photeng x photeng. \n",
    "    tf._grid_vals = np.pad(tf.grid_vals, ((photeng_low.size,0), (0,0)), 'constant')\n",
    "    tf._N_underflow = np.pad(tf._N_underflow, (photeng_low.size, 0), 'constant')\n",
    "    tf._eng_underflow = np.pad(tf._eng_underflow, (photeng_low.size, 0), 'constant')\n",
    "    tf._in_eng = photeng\n",
    "    tf._eng = photeng\n",
    "    tf._rs = tf.rs[0]*np.ones_like(photeng)\n",
    "lowengphot_tflist.eng = photeng\n",
    "lowengphot_tflist.in_eng = photeng\n",
    "    \n",
    "# lowengelec_tflist.in_eng set to photeng_high \n",
    "lowengelec_tflist.at_val('in_eng', photeng_high, bounds_error=False, fill_value=0)\n",
    "for tf in lowengelec_tflist:\n",
    "    tf.rebin(eleceng)\n",
    "    # Pad with zeros so that it becomes photeng x eleceng. \n",
    "    tf._grid_vals = np.pad(tf.grid_vals, ((photeng_low.size,0), (0,0)), 'constant')\n",
    "    tf._N_underflow = np.pad(tf._N_underflow, (photeng_low.size, 0), 'constant')\n",
    "    tf._eng_underflow = np.pad(tf._eng_underflow, (photeng_low.size, 0), 'constant')\n",
    "    tf._in_eng = photeng\n",
    "    tf._eng = eleceng\n",
    "    tf._rs = tf.rs[0]*np.ones_like(photeng)\n",
    "\n",
    "lowengelec_tflist.eng = eleceng\n",
    "lowengelec_tflist.in_eng = photeng"
   ]
  },
  {
   "cell_type": "markdown",
   "metadata": {},
   "source": [
    "## Coarsening"
   ]
  },
  {
   "cell_type": "markdown",
   "metadata": {},
   "source": [
    "We need to decide on the redshift step to use. The default redshift step in the transfer functions is $d \\log (1+z) = 0.002$, with the transfer function with this step size evaluated at (currently) 50 redshifts, from $z = 30$ to $z = 4$. If we stick with this step size, then we must interpolate the transfer function at 2049 points between $z = 30$ and $z = 4$, so that every multiplication by the transfer function advances the spectrum by a step of $d \\log (1+z) = 0.002$. \n",
    "\n",
    "However, we can coarsen the high energy photon transfer function by some factor $f$ by multiplying the transfer function matrix by itself multiple times, producing transfer functions for a redshift step of $d \\log (1+z) = f \\times 0.002$. The assumption here is that the transfer function does not change significantly over this bigger redshift step, which appears to be a good approximation in all of the cases checked so far. We will then have to interpolate the transfer function at $2049/f$ steps, and perform $2049/f$ matrix multiplications to evolve the spectrum from $z=30$ to $z=4$. \n",
    "\n",
    "This is performed using the function `TransferFuncList.coarsen()`. There are two types of coarsening: one is for a propagation matrix, where we simply multiply the transfer function by itself multiple times (here given by `coarsen_factor`). The other is for a deposition matrix. The deposition matrix is taken to be constant over the number of steps given by `coarsen_factor`, and is applied to the high energy photon spectrum that is produced by each multiplication of the transfer function to get to the next redshift. After coarsening, if the propagation transfer function is $P$, and the deposition transfer function is $D$, coarsening returns $B (1 + P + \\cdots + P^{n-1})$. \n",
    "\n",
    "After coarsening, the resulting transfer functions are then interpolated at the redshifts given in `rs_list`. "
   ]
  },
  {
   "cell_type": "code",
   "execution_count": 10,
   "metadata": {},
   "outputs": [],
   "source": [
    "# The redshift step to use will be coarsen_factor * 0.002\n",
    "coarsen_factor = 5\n",
    "# Generate the redshifts at which we want to get an interpolated value for the transfer function. \n",
    "tf_rs_arr = highengphot_tflist.rs\n",
    "rs_list = np.exp(np.arange(np.log(tf_rs_arr[0]), \n",
    "                           np.log(tf_rs_arr[-1]), \n",
    "                           -highengphot_tflist.dlnz*coarsen_factor)\n",
    "                )\n",
    "\n",
    "if coarsen_factor > 1:\n",
    "    lowengphot_tflist.coarsen(coarsen_factor, delete_tfs=False, coarsen_type='dep', prop_transfunclist=highengphot_tflist)\n",
    "    lowengelec_tflist.coarsen(coarsen_factor, delete_tfs=False, coarsen_type='dep', prop_transfunclist=highengphot_tflist)\n",
    "    highengphot_tflist.coarsen(coarsen_factor, delete_tfs=False)\n",
    "    \n",
    "lowengphot_tflist.at_val('rs',rs_list)\n",
    "lowengelec_tflist.at_val('rs',rs_list)\n",
    "highengphot_tflist.at_val('rs',rs_list)\n",
    "\n",
    "phot_spec_init.rs = rs_list[0]"
   ]
  },
  {
   "cell_type": "markdown",
   "metadata": {},
   "source": [
    "## Evolution with Redshift"
   ]
  },
  {
   "cell_type": "markdown",
   "metadata": {},
   "source": [
    "Now we evolve the initial photon spectrum across all of the redshifts specified in `rs_list`, using the coarsened transfer functions. This is performed by calling the function `spectools.evolve()`, which takes as arguments the initial spectrum, the list of propagation transfer functions, as well as a list of deposition transfer functions. We want to use `evolve_type='prop'` for the high energy photons (just propagation) and `evolve_type='dep'` for low energy electrons and photons, in which case we must specify both propagation and deposition transfer matrices. `save_steps` determines whether the output is a single `Spectrum` at the end of the whole propagation, or a `Spectra` object, which records the spectrum at each intermediate step."
   ]
  },
  {
   "cell_type": "code",
   "execution_count": 11,
   "metadata": {},
   "outputs": [],
   "source": [
    "highengphot_spectra = spectools.evolve(phot_spec_init, highengphot_tflist, evolve_type='prop', save_steps=True)"
   ]
  },
  {
   "cell_type": "code",
   "execution_count": 12,
   "metadata": {
    "scrolled": false
   },
   "outputs": [],
   "source": [
    "lowengphot_spectra  = spectools.evolve(\n",
    "    phot_spec_init, lowengphot_tflist,  \n",
    "    evolve_type='dep',  prop_tflist=highengphot_tflist, save_steps=True\n",
    ")"
   ]
  },
  {
   "cell_type": "code",
   "execution_count": 13,
   "metadata": {},
   "outputs": [],
   "source": [
    "lowengelec_spectra = spectools.evolve(\n",
    "    phot_spec_init, lowengelec_tflist,\n",
    "    evolve_type='dep', prop_tflist=highengphot_tflist, save_steps=True\n",
    ")"
   ]
  },
  {
   "cell_type": "code",
   "execution_count": 14,
   "metadata": {},
   "outputs": [
    {
     "data": {
      "text/plain": [
       "0.001066463841278149"
      ]
     },
     "execution_count": 14,
     "metadata": {},
     "output_type": "execute_result"
    }
   ],
   "source": [
    "lowengelec_spectra[199].N[1]"
   ]
  },
  {
   "cell_type": "markdown",
   "metadata": {},
   "source": [
    "## Processing the Inputs for Comparison"
   ]
  },
  {
   "cell_type": "markdown",
   "metadata": {},
   "source": [
    "Here, we process the data from our reference files in order to make the comparison with our result. First, we need to rebin the reference file spectra into the same energy abscissa as our output from above. Then, we switch the spectrum to `'N'` type, so that we can make a direct comparison by plotting `Spectrum.N`. "
   ]
  },
  {
   "cell_type": "code",
   "execution_count": 15,
   "metadata": {},
   "outputs": [],
   "source": [
    "file_highengphot_spectra.rebin(highengphot_spectra.eng)\n",
    "file_highengphot_spectra.switch_spec_type()\n",
    "file_lowengphot_spectra.rebin(lowengphot_spectra.eng)\n",
    "file_lowengphot_spectra.switch_spec_type()\n",
    "file_lowengelec_spectra.rebin(lowengelec_spectra.eng)\n",
    "file_lowengelec_spectra.switch_spec_type()"
   ]
  },
  {
   "cell_type": "markdown",
   "metadata": {},
   "source": [
    "Because we have coarsened our deposition transfer function, the output in `lowengphot_spectra` and `lowengelec_spectra` is actually equivalent to the total deposition from a number of steps given by `coarsen_factor` in the original file. We have to add up all of the deposited low energy electrons and photons in the reference file in order to make the correct comparison."
   ]
  },
  {
   "cell_type": "code",
   "execution_count": 16,
   "metadata": {},
   "outputs": [],
   "source": [
    "combined_file_lowengphot_spectra = Spectra([], spec_type='N')\n",
    "combined_file_lowengelec_spectra = Spectra([], spec_type='N')\n",
    "\n",
    "for i in np.arange(np.floor_divide(2049,coarsen_factor)):\n",
    "    mask = np.zeros(2049)\n",
    "    mask[coarsen_factor*i:coarsen_factor*i+coarsen_factor] = 1\n",
    "    out_spec_phot = file_lowengphot_spectra.sum_specs(mask)\n",
    "    out_spec_elec = file_lowengelec_spectra.sum_specs(mask)\n",
    "    out_spec_phot.rs = file_lowengphot_spectra[coarsen_factor*i].rs\n",
    "    out_spec_elec.rs = file_lowengelec_spectra[coarsen_factor*i].rs\n",
    "    combined_file_lowengphot_spectra.append(out_spec_phot)\n",
    "    combined_file_lowengelec_spectra.append(out_spec_elec)\n",
    "    \n"
   ]
  },
  {
   "cell_type": "code",
   "execution_count": 86,
   "metadata": {
    "collapsed": true
   },
   "outputs": [
    {
     "name": "stdout",
     "output_type": "stream",
     "text": [
      "Injection energy and redshift of transfer function under consideration:  433240172.6112973 31.0\n",
      "Number of energies:  294\n",
      "Number of redshifts:  201\n",
      "[3.09933520e-02 4.48026868e-02 6.15094719e-02 7.92087459e-02\n",
      " 9.81301559e-02 1.29023626e-01 1.82636686e-01 2.21379935e-01\n",
      " 2.92918019e-01 3.55968843e-01 5.43171896e-01 6.25742901e-01\n",
      " 8.28188346e-01 1.05425737e+00 1.46040823e+00 1.84653048e+00\n",
      " 2.24168534e+00 3.01658048e+00 4.02532184e+00 4.98632585e+00\n",
      " 6.24757637e+00 7.90093216e+00 1.10551427e+01 1.28001279e+01\n",
      " 1.64624558e+01 2.00829261e+01 2.76479480e+01 3.17809198e+01\n",
      " 3.89224103e+01 4.87173985e+01 6.08429793e+01 7.20875880e+01\n",
      " 8.12108655e+01 1.01431868e+02 1.19780827e+02 1.30967671e+02\n",
      " 1.47868982e+02 1.62093247e+02 1.91876865e+02 1.83406340e+02\n",
      " 1.97816810e+02 2.01145421e+02 2.07804224e+02 1.93035876e+02\n",
      " 1.80735801e+02 1.80916834e+02 1.65045529e+02 1.49955280e+02\n",
      " 1.34245823e+02 1.30758938e+02 1.19880503e+02 1.04784417e+02\n",
      " 9.81787839e+01 9.13934641e+01 8.76119699e+01 7.48336969e+01\n",
      " 7.10151599e+01 6.76608770e+01 6.21360851e+01 5.64808526e+01\n",
      " 5.07942068e+01 5.14488351e+01 4.53661705e+01 4.18790769e+01\n",
      " 3.85081015e+01 3.74691783e+01 3.50750526e+01 3.05718110e+01\n",
      " 2.95537825e+01 2.80334436e+01 2.62592937e+01 2.33779889e+01\n",
      " 2.19299712e+01 2.18345831e+01 1.93134920e+01 1.80602823e+01\n",
      " 1.63820174e+01 1.66952797e+01 1.46907181e+01 1.35142401e+01\n",
      " 1.26688050e+01 1.24015081e+01 1.13371933e+01 1.00951415e+01\n",
      " 9.68106223e+00 9.43933806e+00 8.44425929e+00 7.78838724e+00\n",
      " 7.13111643e+00 7.37052734e+00 6.21901746e+00 5.94125050e+00\n",
      " 5.39566683e+00 5.48990291e+00 4.80039096e+00 4.36765700e+00\n",
      " 4.17135464e+00 4.07655469e+00 3.61691772e+00 3.29908267e+00\n",
      " 3.09050322e+00 3.12349286e+00 2.64794085e+00 2.49738477e+00\n",
      " 2.28699963e+00 2.33118995e+00 1.96577660e+00 1.84339239e+00\n",
      " 1.71157721e+00 1.69053124e+00 1.46675036e+00 1.28161182e+00\n",
      " 8.86745394e-01 5.22334119e-01 2.93312899e-01 1.76609871e-01\n",
      " 1.07264632e-01 6.67355921e-02 3.50510879e-02 2.17911186e-02\n",
      " 1.28153890e-02 7.75616405e-03 4.17384880e-03 2.46074597e-03\n",
      " 1.48187503e-03 8.50536921e-04 4.60512566e-04 2.00947982e-04\n",
      " 1.47146552e-05 1.10734437e-17 1.33870989e-17 1.20264006e-17\n",
      " 1.07217941e-17 9.79784390e-18 9.28375912e-18 6.83271995e-18\n",
      " 6.56869995e-18 6.94440258e-18 5.99869653e-18 5.39694563e-18\n",
      " 4.16472887e-18 3.46092099e-18 3.71740006e-18 3.21085449e-18\n",
      " 2.08959672e-18 1.97546454e-18 1.79125328e-18 1.11868267e-18\n",
      " 1.01820573e-18 8.16170186e-19 4.82051675e-19 3.75348100e-19\n",
      " 2.41472359e-19 1.42809001e-19 9.02642869e-20 4.78060026e-20\n",
      " 2.43422968e-20 9.61114781e-21 4.20874538e-21 1.74760858e-21\n",
      " 6.35075124e-22 1.71362650e-22 4.61211484e-23 8.87269361e-24\n",
      " 1.04394152e-24 1.26460777e-25 1.24972584e-26 9.06742372e-28\n",
      " 3.49780014e-29 2.07062835e-30 5.39915612e-32 2.09161096e-34\n",
      " 3.05288241e-36 4.16211586e-39 2.41662794e-41 1.60419462e-44\n",
      " 6.14152789e-47 2.68561657e-51 1.98580940e-56 7.62313917e-60\n",
      " 0.00000000e+00 0.00000000e+00 0.00000000e+00 0.00000000e+00\n",
      " 0.00000000e+00 0.00000000e+00 0.00000000e+00 0.00000000e+00\n",
      " 0.00000000e+00 0.00000000e+00 0.00000000e+00 0.00000000e+00\n",
      " 0.00000000e+00 0.00000000e+00 0.00000000e+00 0.00000000e+00\n",
      " 0.00000000e+00 0.00000000e+00 0.00000000e+00 0.00000000e+00\n",
      " 0.00000000e+00 0.00000000e+00 0.00000000e+00 0.00000000e+00\n",
      " 0.00000000e+00 0.00000000e+00 0.00000000e+00 0.00000000e+00\n",
      " 0.00000000e+00 0.00000000e+00 0.00000000e+00 0.00000000e+00\n",
      " 0.00000000e+00 0.00000000e+00 0.00000000e+00 0.00000000e+00\n",
      " 0.00000000e+00 0.00000000e+00 0.00000000e+00 0.00000000e+00\n",
      " 0.00000000e+00 0.00000000e+00 0.00000000e+00 0.00000000e+00\n",
      " 0.00000000e+00 0.00000000e+00 0.00000000e+00 0.00000000e+00\n",
      " 0.00000000e+00 0.00000000e+00 0.00000000e+00 0.00000000e+00\n",
      " 0.00000000e+00 0.00000000e+00 0.00000000e+00 0.00000000e+00\n",
      " 0.00000000e+00 0.00000000e+00 0.00000000e+00 0.00000000e+00\n",
      " 0.00000000e+00 0.00000000e+00 0.00000000e+00 0.00000000e+00\n",
      " 0.00000000e+00 0.00000000e+00 0.00000000e+00 0.00000000e+00\n",
      " 0.00000000e+00 0.00000000e+00 0.00000000e+00 0.00000000e+00\n",
      " 0.00000000e+00 0.00000000e+00 0.00000000e+00 0.00000000e+00\n",
      " 0.00000000e+00 0.00000000e+00 0.00000000e+00 0.00000000e+00\n",
      " 0.00000000e+00 0.00000000e+00 0.00000000e+00 0.00000000e+00\n",
      " 0.00000000e+00 0.00000000e+00 0.00000000e+00 0.00000000e+00\n",
      " 0.00000000e+00 0.00000000e+00 0.00000000e+00 0.00000000e+00\n",
      " 0.00000000e+00 0.00000000e+00 0.00000000e+00 0.00000000e+00\n",
      " 0.00000000e+00 0.00000000e+00 0.00000000e+00 0.00000000e+00\n",
      " 0.00000000e+00 0.00000000e+00 0.00000000e+00 0.00000000e+00\n",
      " 0.00000000e+00 0.00000000e+00 0.00000000e+00 0.00000000e+00\n",
      " 0.00000000e+00 0.00000000e+00 0.00000000e+00 0.00000000e+00\n",
      " 0.00000000e+00 0.00000000e+00]\n"
     ]
    }
   ],
   "source": [
    "eng = highengphot_spectra.eng\n",
    "#(highengphot_spectra.at_rs(20).toteng(eng) - file_highengphot_spectra.at_rs(20).toteng(eng))/(highengphot_spectra.at_rs(20).toteng(eng)+1e-12)\n",
    "#lowengphot_spectra.at_rs(np.array([20]))[0].N\n",
    "#lowengphot_tflist.transpose()\n",
    "ind = 220\n",
    "print('Injection energy and redshift of transfer function under consideration: ', lowengphot_tflist.in_eng[ind],lowengphot_tflist.rs[0])\n",
    "print('Number of energies: ', len(lowengphot_tflist.in_eng))\n",
    "print('Number of redshifts: ', len(lowengphot_tflist[ind].rs))\n",
    "print(lowengphot_tflist[ind][0].N)"
   ]
  },
  {
   "cell_type": "code",
   "execution_count": 55,
   "metadata": {},
   "outputs": [
    {
     "data": {
      "text/plain": [
       "4.23755818881142"
      ]
     },
     "execution_count": 55,
     "metadata": {},
     "output_type": "execute_result"
    }
   ],
   "source": [
    "rs_list[199]"
   ]
  },
  {
   "cell_type": "markdown",
   "metadata": {},
   "source": [
    "## Plots"
   ]
  },
  {
   "cell_type": "code",
   "execution_count": null,
   "metadata": {},
   "outputs": [],
   "source": [
    "plt.figure()\n",
    "\n",
    "i_plot = 20\n",
    "\n",
    "ax = plt.gca()\n",
    "tf_plot, = highengphot_spectra.plot(ax, ind=rs_list[i_plot], indtype='rs')\n",
    "file_plot, = file_highengphot_spectra.plot(ax, ind=rs_list[i_plot], indtype='rs')\n",
    "\n",
    "\n",
    "plt.title('High Energy Photon Spectrum\\n' + r'$m_\\chi$ ='\n",
    "          +'{:.2e}'.format(mwimp_arr[eng_ind])\n",
    "          +r' eV, $1+z$ = '+'{0:.1f}'.format(rs_list[i_plot])\n",
    "         )\n",
    "\n",
    "ax.legend((tf_plot, file_plot), ('Transfer Function', 'Reference File'))\n",
    "ax.set_xscale('log')\n",
    "ax.set_yscale('log')\n",
    "\n",
    "plt.xlabel('Secondary Photon Energy [eV]')\n",
    "plt.ylabel('Number of Photons in Each Bin')\n",
    "plt.axis([1e2, 1e13, 1e-12, 1e3])"
   ]
  },
  {
   "cell_type": "code",
   "execution_count": null,
   "metadata": {},
   "outputs": [],
   "source": [
    "plt.figure()\n",
    "\n",
    "i_plot = 130\n",
    "\n",
    "ax = plt.gca()\n",
    "tf_plot, = lowengphot_spectra.plot(ax, ind=rs_list[i_plot], indtype='rs')\n",
    "file_plot, = combined_file_lowengphot_spectra.plot(ax, ind=rs_list[i_plot], indtype='rs')\n",
    "\n",
    "ax.set_xscale('log')\n",
    "ax.set_yscale('log')\n",
    "\n",
    "plt.title('Low Energy Photon Spectrum\\n' + r'$m_\\chi$ ='\n",
    "          +'{:.2e}'.format(mwimp_arr[eng_ind])\n",
    "          +r' eV, $1+z$ = '+'{0:.1f}'.format(rs_list[i_plot])\n",
    "         )\n",
    "\n",
    "ax.legend((tf_plot, file_plot), ('Transfer Function', 'Reference File'))\n",
    "\n",
    "\n",
    "plt.xlabel('Secondary Photon Energy [eV]')\n",
    "plt.ylabel('Number of Photons in Each Bin')\n",
    "plt.axis([1e-4, 4e12, 1e-20, 1e6])"
   ]
  },
  {
   "cell_type": "code",
   "execution_count": null,
   "metadata": {},
   "outputs": [],
   "source": [
    "plt.figure()\n",
    "\n",
    "i_plot = 199\n",
    "\n",
    "ax = plt.gca()\n",
    "tf_plot, = lowengelec_spectra.plot(ax, ind=rs_list[i_plot], indtype='rs')\n",
    "file_plot, = combined_file_lowengelec_spectra.plot(ax, ind=rs_list[i_plot], indtype='rs')\n",
    "# tf_plot, = lowengelec_spectra.plot(ax, ind=rs_list[1], indtype='rs')\n",
    "# file_plot, = combined_file_lowengelec_spectra.plot(ax, ind=rs_list[1], indtype='rs')\n",
    "\n",
    "ax.set_xscale('log')\n",
    "ax.set_yscale('log')\n",
    "plt.title('Low Energy Electron Spectrum\\n' + r'$m_\\chi$ ='\n",
    "          +'{:.2e}'.format(mwimp_arr[eng_ind])\n",
    "          +r' eV, $1+z$ = '+'{0:.1f}'.format(rs_list[i_plot])\n",
    "         )\n",
    "\n",
    "ax.legend((tf_plot, file_plot), ('Transfer Function', 'Reference File'))\n",
    "\n",
    "plt.xlabel('Secondary Electron Energy [eV]')\n",
    "plt.ylabel('Number of Electrons in Each Bin')\n",
    "plt.axis([1e-1, 1e4, 1e-5, 10])"
   ]
  },
  {
   "cell_type": "code",
   "execution_count": null,
   "metadata": {},
   "outputs": [],
   "source": [
    "utils.compare_arr([lowengelec_spectra.grid_vals[0,:], lowengelec_spectra.grid_vals[199,:], \n",
    "                  combined_file_lowengelec_spectra.grid_vals[0,:], combined_file_lowengelec_spectra.grid_vals[199,:]])"
   ]
  },
  {
   "cell_type": "markdown",
   "metadata": {},
   "source": [
    "### Scratch"
   ]
  },
  {
   "cell_type": "code",
   "execution_count": 430,
   "metadata": {},
   "outputs": [
    {
     "data": {
      "image/png": "[encoded data removed]",
      "text/plain": [
       "<Figure size 720x720 with 1 Axes>"
      ]
     },
     "metadata": {},
     "output_type": "display_data"
    }
   ],
   "source": [
    "#Checking If cubic spline messes up extrapolation\n",
    "\n",
    "tmp = np.log10(\n",
    "    [[0.308926,        0.458301,        0.020497,        1e-10,        0.212276],\n",
    "    [0.305493,        0.311491,        0.236187,        0.001360,        0.145469],\n",
    "    [0.206100,        0.334449,        0.298747,        0.006573,        0.154130],\n",
    "    [0.182742,        0.326805,        0.335376,        0.010336,        0.144741],\n",
    "    [0.162580,        0.322660,        0.354960,        0.016320,        0.143480],\n",
    "    [0.151880,        0.323526,        0.358025,        0.024367,        0.142202]]\n",
    ")\n",
    "engs = np.log10([14, 30, 60, 100, 300, 3000])\n",
    "num = 3\n",
    "\n",
    "from scipy import interpolate\n",
    "f = interpolate.interp1d(\n",
    "    engs, tmp[:,num], kind='linear', bounds_error=False, fill_value=(tmp[0,num],tmp[5,num])\n",
    ")\n",
    "\n",
    "x = np.log10(np.arange(5, 4000, .5))\n",
    "y = f(x)\n",
    "plt.plot(engs, tmp[:,num], 'o', x, y, '-')\n",
    "plt.show()"
   ]
  },
  {
   "cell_type": "code",
   "execution_count": 356,
   "metadata": {
    "scrolled": true
   },
   "outputs": [
    {
     "name": "stdout",
     "output_type": "stream",
     "text": [
      "1737\n",
      "4.580455786956505   [4.58132018 4.57674115]   [5.46294054 5.45748033]   5.4579721239076315\n"
     ]
    }
   ],
   "source": [
    "num=0\n",
    "indx1 = len(rs_list) - np.searchsorted(np.flipud(rs_list), math_rs_bounds[num+1])\n",
    "print(indx1)\n",
    "indx2 = len(rs_list) - np.searchsorted(np.flipud(rs_list), math_rs_bounds[num]) - 1\n",
    "print(math_rs_bounds[num],' ', rs_list[indx2:indx2+2],' ', rs_list[indx1-1:indx1+1]\n",
    "      ,' ', math_rs_bounds[num+1])"
   ]
  },
  {
   "cell_type": "code",
   "execution_count": null,
   "metadata": {},
   "outputs": [],
   "source": [
    "# This is dE/dt, multiply by dt/2m_xchi\n",
    "eng = file_lowengphot_spectra.eng\n",
    "eng_bounds = spectools.get_bin_bound(eng)\n",
    "T = phys.TCMB(3)\n",
    "def CMB_dNdE(eng):\n",
    "    return phys.CMB_spec(eng,T)\n",
    "\n",
    "##Compute CMB part of the spectrum that must be subtracted\n",
    "    #T = phys.TCMB(rs_list[k])\n",
    "    #CMB_loss_spec = spectools.discretize(eng_bounds, CMB_dNdE)\n",
    "    #CMB_loss_spec.N *= file_engloss[k] * phys.dtdz(rs_list[k]) *(\n",
    "    #    math_rs_bounds[k+1] - math_rs_bounds[k]\n",
    "    #    )/2/m_chi\n",
    "    \n",
    "    #loweng_phot.N -= CMB_loss_spec.N[:-1]\n",
    "\n",
    "CMB_loss = file_engloss[3]*spectools.discretize(eng_bounds, CMB_dNdE)\n",
    "print(CMB_loss.toteng())"
   ]
  },
  {
   "cell_type": "code",
   "execution_count": 357,
   "metadata": {
    "collapsed": true
   },
   "outputs": [
    {
     "name": "stdout",
     "output_type": "stream",
     "text": [
      "[29.94811277 32.69482578]\n",
      "rs:  30.691544846224218 \n",
      " [7.90892055e-03 8.90972420e-03 1.00367996e-02 1.13060107e-02\n",
      " 1.27351689e-02 1.43443196e-02 1.61560033e-02 1.81955092e-02\n",
      " 2.04912802e-02 2.30753113e-02 2.59834817e-02 2.92560889e-02\n",
      " 3.29384130e-02 3.70812074e-02 4.17414986e-02 4.69832393e-02\n",
      " 5.28780673e-02 5.95063977e-02 6.69583098e-02 7.53347144e-02\n",
      " 8.47484847e-02 9.53262997e-02 1.07209508e-01 1.20556671e-01\n",
      " 1.35544345e-01 1.52370350e-01 1.71255476e-01 1.92446085e-01\n",
      " 2.16216601e-01 2.42873533e-01 2.72757700e-01 3.06249125e-01\n",
      " 3.43769082e-01 3.85787270e-01 4.32823975e-01 4.85457042e-01\n",
      " 5.44325677e-01 6.10137836e-01 6.83676892e-01 7.65807158e-01\n",
      " 8.57479270e-01 9.59743990e-01 1.07375391e+00 1.20077672e+00\n",
      " 1.34219493e+00 1.49952421e+00 1.67442147e+00 1.86868800e+00\n",
      " 2.08427296e+00 2.32329943e+00 2.58805272e+00 2.88099886e+00\n",
      " 3.20475586e+00 3.56218642e+00 3.95626007e+00 4.39016899e+00\n",
      " 4.86726020e+00 5.39100586e+00 5.96508823e+00 6.59325020e+00\n",
      " 7.27933908e+00 8.02715562e+00 8.84062072e+00 9.72352759e+00\n",
      " 1.06794950e+01 1.17118063e+01 1.28235837e+01 1.40174046e+01\n",
      " 1.52952268e+01 1.66580833e+01 1.81063359e+01 1.96391790e+01\n",
      " 2.12544420e+01 2.29482099e+01 2.47151850e+01 2.65481356e+01\n",
      " 2.84375532e+01 3.03715426e+01 3.23359300e+01 3.43142762e+01\n",
      " 3.62874528e+01 3.82335736e+01 4.01289058e+01 4.19479337e+01\n",
      " 4.36634531e+01 4.52470722e+01 4.66704364e+01 4.79062024e+01\n",
      " 4.89283829e+01 4.97136594e+01 5.02428342e+01 5.05018455e+01\n",
      " 5.04819904e+01 5.01819297e+01 4.96078459e+01 4.87726531e+01\n",
      " 4.76965848e+01 4.64072651e+01 4.49385175e+01 4.33259964e+01\n",
      " 4.16086440e+01 3.98259927e+01 3.80186736e+01 3.62187939e+01\n",
      " 3.44565365e+01 3.27560851e+01 3.11377928e+01 2.96111770e+01\n",
      " 2.81819567e+01 2.68511898e+01 2.56177812e+01 2.44743480e+01\n",
      " 2.34131544e+01 2.24261381e+01 2.15064476e+01 2.06456968e+01\n",
      " 1.98365393e+01 1.90733481e+01 1.83519670e+01 1.76681279e+01\n",
      " 1.70178963e+01 1.63984722e+01 1.58082030e+01 1.52450117e+01\n",
      " 1.47065826e+01 1.41913922e+01 1.36984283e+01 1.32266301e+01\n",
      " 1.27742471e+01 1.23402296e+01 1.19238196e+01 1.15244912e+01\n",
      " 1.11407166e+01 1.07717490e+01 1.04169953e+01 1.00761554e+01\n",
      " 9.74804615e+00 9.43200467e+00 9.12755335e+00 8.83465910e+00\n",
      " 8.55223396e+00 8.27981153e+00 8.01692690e+00 7.76371093e+00\n",
      " 7.51923339e+00 7.28311604e+00 7.05501215e+00 6.83497578e+00\n",
      " 6.62234821e+00 6.41677710e+00 6.21798514e+00 6.02601833e+00\n",
      " 5.84037282e+00 5.66073484e+00 5.48689576e+00 5.31882586e+00\n",
      " 5.15624097e+00 4.99880691e+00 4.84632561e+00 4.69880864e+00\n",
      " 4.55603944e+00 4.41771741e+00 4.28367516e+00 4.15391440e+00\n",
      " 4.02828886e+00 3.90652045e+00 3.78847992e+00 3.67412972e+00\n",
      " 3.56340481e+00 3.45603976e+00 3.35193064e+00 3.25101792e+00\n",
      " 3.15330551e+00 3.05852714e+00 2.96659313e+00 2.87744758e+00\n",
      " 2.79111653e+00 2.70736920e+00 2.62611989e+00 2.54729054e+00\n",
      " 2.47096066e+00 2.39689816e+00 2.32503680e+00 2.25530179e+00\n",
      " 2.18775673e+00 2.12222372e+00 2.05862255e+00 1.99690379e+00\n",
      " 1.93710931e+00 1.87908819e+00 1.82278422e+00 1.76814436e+00\n",
      " 1.71517705e+00 1.66380390e+00 1.61394506e+00 1.56553909e+00\n",
      " 1.51862697e+00 1.47312492e+00 1.42894612e+00 1.38608568e+00\n",
      " 1.34451765e+00 1.30418916e+00 1.26507628e+00 1.22709753e+00\n",
      " 1.19024597e+00 1.15454409e+00 1.11987139e+00 1.08620629e+00\n",
      " 1.05358098e+00 1.02192097e+00 9.91181693e-01 9.61380001e-01\n",
      " 9.32434939e-01 9.04363184e-01 8.77145339e-01 8.50694520e-01\n",
      " 8.25030729e-01 8.00163941e-01 7.75987816e-01 7.52538305e-01\n",
      " 7.29796897e-01 7.07693033e-01 6.86266297e-01 6.65476335e-01\n",
      " 6.45255776e-01 6.25671757e-01 6.06661560e-01 5.88169188e-01\n",
      " 5.70270388e-01 5.52885868e-01 5.35972783e-01 5.19615513e-01\n",
      " 5.03717745e-01 4.88251287e-01 4.73302873e-01 4.58765617e-01\n",
      " 4.44626756e-01 4.30963185e-01 4.17669266e-01 4.04748483e-01\n",
      " 3.92254512e-01 3.80098780e-01 3.68291253e-01 3.56866994e-01\n",
      " 3.45752110e-01 3.34961982e-01 3.24515892e-01 3.14352859e-01\n",
      " 3.04492605e-01 2.94940368e-01 2.85650881e-01 2.77187193e-01\n",
      " 2.68585313e-01 2.60026972e-01 2.50967758e-01 2.40514904e-01\n",
      " 2.27803299e-01 2.12467001e-01 1.94732397e-01 1.75279847e-01\n",
      " 1.55044819e-01 1.34961000e-01 1.15792292e-01 9.80947114e-02\n",
      " 8.21979774e-02 6.82308951e-02 5.61850030e-02 4.59540473e-02\n",
      " 3.73696713e-02 3.02418690e-02 2.43741894e-02 1.95763492e-02\n",
      " 1.56769022e-02 1.25232443e-02 9.98232826e-03 7.94252739e-03\n",
      " 6.30974920e-03 5.00557248e-03 3.96628604e-03 3.13952875e-03\n",
      " 2.48266686e-03 1.96162157e-03 1.54876826e-03 1.22189296e-03\n",
      " 9.63405390e-04 7.59145204e-04 5.97822032e-04 1.17428004e-19\n",
      " 1.13887620e-19 1.10460999e-19 1.07129440e-19 1.03886442e-19\n",
      " 1.00748694e-19 9.76952658e-20 9.47220205e-20 9.18466946e-20\n",
      " 8.90457345e-20 8.63188548e-20 8.36794564e-20 8.11075470e-20\n",
      " 7.86043398e-20 7.61788252e-20 7.38143453e-20 7.15137782e-20\n",
      " 6.92821654e-20 6.71057406e-20 6.49883654e-20 6.29320522e-20\n",
      " 6.09258897e-20 5.89740972e-20 5.70763920e-20 5.52239404e-20\n",
      " 5.34216341e-20 5.16671357e-20 4.99533307e-20 4.82858564e-20\n",
      " 4.66605652e-20 4.50720776e-20 4.35261338e-20 4.20173774e-20\n",
      " 4.05416974e-20 3.91053180e-20 3.77017162e-20 3.63279663e-20\n",
      " 3.49905783e-20 3.36819398e-20 3.24004289e-20 3.11525778e-20\n",
      " 2.99302044e-20 2.87329206e-20 2.75662493e-20 2.64227080e-20\n",
      " 2.53028308e-20 2.42106102e-20 2.31399199e-20 2.20918596e-20\n",
      " 2.10691600e-20 2.00669130e-20 1.90867147e-20 1.81302712e-20\n",
      " 1.71937794e-20 1.62792700e-20 1.53876377e-20 1.45160805e-20\n",
      " 1.36670057e-20 1.28406869e-20 1.20352138e-20 1.12533138e-20\n",
      " 1.04947099e-20 9.75846835e-21 9.04739109e-21 8.36093380e-21\n",
      " 7.69865320e-21 7.06359595e-21 6.45488908e-21 5.87249916e-21\n",
      " 5.31944255e-21 4.79449557e-21 4.29792730e-21 3.83239458e-21\n",
      " 3.39624182e-21 2.98975615e-21 2.61497411e-21 2.26983974e-21\n",
      " 1.95439513e-21 1.66942799e-21 1.41282142e-21 1.18403760e-21\n",
      " 9.82621424e-22 8.06295699e-22 6.53848939e-22 5.23921683e-22\n",
      " 4.14073310e-22 3.22661752e-22 2.47786678e-22 1.87138433e-22\n",
      " 1.38968251e-22 1.01384358e-22 7.24899948e-23 5.07991512e-23\n",
      " 3.48431677e-23 2.33239771e-23 1.52476959e-23 9.71162874e-24\n",
      " 6.00640335e-24 3.61315315e-24 2.10583691e-24 1.18450681e-24\n",
      " 6.45103151e-25 3.38043650e-25 1.69705671e-25 8.20787171e-26\n",
      " 3.78675346e-26 1.65847725e-26 6.96163910e-27 2.75677054e-27\n",
      " 1.02595510e-27 3.63271890e-28 1.19758543e-28 3.66933033e-29\n",
      " 1.05884786e-29 2.79993791e-30 6.79707207e-31 1.53403493e-31\n",
      " 3.11047078e-32 5.71223462e-33 9.59301522e-34 1.41167082e-34\n",
      " 1.85614698e-35 2.18326257e-36 2.18108929e-37 1.92307104e-38\n",
      " 1.47181688e-39 9.20128709e-41 5.03421260e-42 2.29334056e-43\n",
      " 8.12813301e-45 2.51928488e-46 6.12772604e-48 1.09229305e-49\n",
      " 1.72435387e-51 1.96138407e-53 1.51948956e-55 1.07782700e-57\n",
      " 4.84128047e-60 7.18859122e-63 0.00000000e+00 0.00000000e+00\n",
      " 0.00000000e+00 0.00000000e+00 0.00000000e+00 0.00000000e+00\n",
      " 0.00000000e+00 0.00000000e+00 0.00000000e+00 0.00000000e+00\n",
      " 0.00000000e+00 0.00000000e+00 0.00000000e+00 0.00000000e+00\n",
      " 0.00000000e+00 0.00000000e+00 0.00000000e+00 0.00000000e+00\n",
      " 0.00000000e+00 0.00000000e+00 0.00000000e+00 0.00000000e+00\n",
      " 0.00000000e+00 0.00000000e+00 0.00000000e+00 0.00000000e+00\n",
      " 0.00000000e+00 0.00000000e+00 0.00000000e+00 0.00000000e+00\n",
      " 0.00000000e+00 0.00000000e+00 0.00000000e+00 0.00000000e+00\n",
      " 0.00000000e+00 0.00000000e+00 0.00000000e+00 0.00000000e+00\n",
      " 0.00000000e+00 0.00000000e+00 0.00000000e+00 0.00000000e+00\n",
      " 0.00000000e+00 0.00000000e+00 0.00000000e+00 0.00000000e+00\n",
      " 0.00000000e+00 0.00000000e+00 0.00000000e+00 0.00000000e+00\n",
      " 0.00000000e+00 0.00000000e+00 0.00000000e+00 0.00000000e+00\n",
      " 0.00000000e+00 0.00000000e+00 0.00000000e+00 0.00000000e+00\n",
      " 0.00000000e+00 0.00000000e+00 0.00000000e+00 0.00000000e+00\n",
      " 0.00000000e+00 0.00000000e+00 0.00000000e+00 0.00000000e+00\n",
      " 0.00000000e+00 0.00000000e+00 0.00000000e+00 0.00000000e+00\n",
      " 0.00000000e+00 0.00000000e+00 0.00000000e+00 0.00000000e+00] \n",
      "\n",
      " [9.28807103e-04 9.76163177e-04 1.01616962e-03 1.05900900e-03\n",
      " 1.10168584e-03 1.14622037e-03 1.19346229e-03 1.24227847e-03\n",
      " 1.29066520e-03 1.34399207e-03 1.39812681e-03 1.45096725e-03\n",
      " 1.51118262e-03 1.56976813e-03 1.62875776e-03 1.69436869e-03\n",
      " 1.75887275e-03 1.82389949e-03 1.89271326e-03 1.96535265e-03\n",
      " 2.03529954e-03 2.10676267e-03 2.18776266e-03 2.26039879e-03\n",
      " 2.33531323e-03 2.42199174e-03 2.49779084e-03 2.57519616e-03\n",
      " 2.66287082e-03 2.74264104e-03 2.82120273e-03 2.90404453e-03\n",
      " 2.98867086e-03 3.06339319e-03 3.14097305e-03 3.22506790e-03\n",
      " 3.29303976e-03 3.36346089e-03 3.43991223e-03 3.50053663e-03\n",
      " 3.56015307e-03 3.62139511e-03 3.67408467e-03 3.71786484e-03\n",
      " 3.76021633e-03 3.80215741e-03 3.82534832e-03 3.84995954e-03\n",
      " 3.87357054e-03 3.87817652e-03 3.88277395e-03 3.88505978e-03\n",
      " 3.87284922e-03 3.85761231e-03 3.83757300e-03 3.81233015e-03\n",
      " 3.77747203e-03 3.73804646e-03 3.69817116e-03 3.64057990e-03\n",
      " 3.58670809e-03 3.53113223e-03 3.46411467e-03 3.39692181e-03\n",
      " 3.33033717e-03 3.25488060e-03 3.18051099e-03 3.10365088e-03\n",
      " 3.02702497e-03 2.94341209e-03 2.86361073e-03 2.78662270e-03\n",
      " 2.69921282e-03 2.61934770e-03 2.54034196e-03 2.45717291e-03\n",
      " 2.37722339e-03 2.30016120e-03 2.22004202e-03 2.14441178e-03\n",
      " 2.06852450e-03 1.99705324e-03 1.92204080e-03 1.85271958e-03\n",
      " 1.78713561e-03 1.71667947e-03 1.65303025e-03 1.59210218e-03\n",
      " 1.52951799e-03 1.47090652e-03 1.41481563e-03 1.35857129e-03\n",
      " 1.30590312e-03 1.25396180e-03 1.20621313e-03 1.15608309e-03\n",
      " 1.11109877e-03 1.06810783e-03 1.02353826e-03 9.83247911e-04\n",
      " 9.44442652e-04 9.05989706e-04 8.69983824e-04 8.34842424e-04\n",
      " 8.01337119e-04 7.69033461e-04 7.37979067e-04 7.09238660e-04\n",
      " 6.79446044e-04 6.52726291e-04 6.26973252e-04 6.01229039e-04\n",
      " 5.77210477e-04 5.54561748e-04 5.31911218e-04 5.11219874e-04\n",
      " 4.90400705e-04 4.71182963e-04 4.52167637e-04 4.34451977e-04\n",
      " 4.17597948e-04 4.00526629e-04 3.84969960e-04 3.69947900e-04\n",
      " 3.55328636e-04 3.41421573e-04 3.28240499e-04 3.15228948e-04\n",
      " 3.03280710e-04 2.91260254e-04 2.80206193e-04 2.69149256e-04\n",
      " 2.58982428e-04 2.49228794e-04 2.39365294e-04 2.30402672e-04\n",
      " 2.21584008e-04 2.13303832e-04 2.05090841e-04 1.97558495e-04\n",
      " 1.89866536e-04 1.83115017e-04 1.75928807e-04 1.69665939e-04\n",
      " 1.63033825e-04 1.57291130e-04 1.51463834e-04 1.45803330e-04\n",
      " 1.40449339e-04 1.35333440e-04 1.30496537e-04 1.25659550e-04\n",
      " 1.21244653e-04 1.16677928e-04 1.12772814e-04 1.08505104e-04\n",
      " 1.04802026e-04 1.00930584e-04 9.74650279e-05 9.41092160e-05\n",
      " 9.06255150e-05 8.75753485e-05 8.44656830e-05 8.16051839e-05\n",
      " 7.87045487e-05 7.60232324e-05 7.34198451e-05 7.08809294e-05\n",
      " 6.84785232e-05 6.61143241e-05 6.38873886e-05 6.17608621e-05\n",
      " 5.95957452e-05 5.76629673e-05 5.56838750e-05 5.42555005e-05\n",
      " 5.25256705e-05 5.08970583e-05 4.97742540e-05 4.85660546e-05\n",
      " 4.78281384e-05 4.73882823e-05 4.72830613e-05 4.77697149e-05\n",
      " 4.89389739e-05 5.11895564e-05 5.51740437e-05 6.20179463e-05\n",
      " 7.50146735e-05 1.02575606e-04 1.84692978e-04 2.59498813e-03\n",
      " 0.00000000e+00 0.00000000e+00 0.00000000e+00 0.00000000e+00\n",
      " 0.00000000e+00 0.00000000e+00 0.00000000e+00 0.00000000e+00\n",
      " 0.00000000e+00 0.00000000e+00 0.00000000e+00 0.00000000e+00\n",
      " 0.00000000e+00 0.00000000e+00 0.00000000e+00 0.00000000e+00\n",
      " 0.00000000e+00 0.00000000e+00 0.00000000e+00 0.00000000e+00\n",
      " 0.00000000e+00 0.00000000e+00 0.00000000e+00 0.00000000e+00\n",
      " 0.00000000e+00 0.00000000e+00 0.00000000e+00 0.00000000e+00\n",
      " 0.00000000e+00 0.00000000e+00 0.00000000e+00 0.00000000e+00\n",
      " 0.00000000e+00 0.00000000e+00 0.00000000e+00 0.00000000e+00\n",
      " 0.00000000e+00 0.00000000e+00 0.00000000e+00 0.00000000e+00\n",
      " 0.00000000e+00 0.00000000e+00 0.00000000e+00 0.00000000e+00\n",
      " 0.00000000e+00 0.00000000e+00 0.00000000e+00 0.00000000e+00\n",
      " 0.00000000e+00 0.00000000e+00 0.00000000e+00 0.00000000e+00\n",
      " 0.00000000e+00 0.00000000e+00 0.00000000e+00 0.00000000e+00\n",
      " 0.00000000e+00 0.00000000e+00 0.00000000e+00 0.00000000e+00\n",
      " 0.00000000e+00 0.00000000e+00 0.00000000e+00 0.00000000e+00\n",
      " 0.00000000e+00 0.00000000e+00 0.00000000e+00 0.00000000e+00\n",
      " 0.00000000e+00 0.00000000e+00 0.00000000e+00 0.00000000e+00\n",
      " 0.00000000e+00 0.00000000e+00 0.00000000e+00 0.00000000e+00\n",
      " 0.00000000e+00 0.00000000e+00 0.00000000e+00 0.00000000e+00\n",
      " 0.00000000e+00 0.00000000e+00 0.00000000e+00 0.00000000e+00\n",
      " 0.00000000e+00 0.00000000e+00 0.00000000e+00 0.00000000e+00\n",
      " 0.00000000e+00 0.00000000e+00 0.00000000e+00 0.00000000e+00\n",
      " 0.00000000e+00 0.00000000e+00 0.00000000e+00 0.00000000e+00\n",
      " 0.00000000e+00 0.00000000e+00 0.00000000e+00 0.00000000e+00\n",
      " 0.00000000e+00 0.00000000e+00 0.00000000e+00 0.00000000e+00\n",
      " 0.00000000e+00 0.00000000e+00 0.00000000e+00 0.00000000e+00\n",
      " 0.00000000e+00 0.00000000e+00 0.00000000e+00 0.00000000e+00\n",
      " 0.00000000e+00 0.00000000e+00 0.00000000e+00 0.00000000e+00\n",
      " 0.00000000e+00 0.00000000e+00 0.00000000e+00 0.00000000e+00\n",
      " 0.00000000e+00 0.00000000e+00 0.00000000e+00 0.00000000e+00\n",
      " 0.00000000e+00 0.00000000e+00 0.00000000e+00 0.00000000e+00\n",
      " 0.00000000e+00 0.00000000e+00 0.00000000e+00 0.00000000e+00\n",
      " 0.00000000e+00 0.00000000e+00 0.00000000e+00 0.00000000e+00\n",
      " 0.00000000e+00 0.00000000e+00 0.00000000e+00 0.00000000e+00\n",
      " 0.00000000e+00 0.00000000e+00 0.00000000e+00 0.00000000e+00\n",
      " 0.00000000e+00 0.00000000e+00 0.00000000e+00 0.00000000e+00\n",
      " 0.00000000e+00 0.00000000e+00 0.00000000e+00 0.00000000e+00\n",
      " 0.00000000e+00 0.00000000e+00 0.00000000e+00 0.00000000e+00\n",
      " 0.00000000e+00 0.00000000e+00 0.00000000e+00 0.00000000e+00\n",
      " 0.00000000e+00 0.00000000e+00 0.00000000e+00 0.00000000e+00\n",
      " 0.00000000e+00 0.00000000e+00 0.00000000e+00 0.00000000e+00\n",
      " 0.00000000e+00 0.00000000e+00 0.00000000e+00 0.00000000e+00\n",
      " 0.00000000e+00 0.00000000e+00 0.00000000e+00 0.00000000e+00\n",
      " 0.00000000e+00 0.00000000e+00 0.00000000e+00 0.00000000e+00\n",
      " 0.00000000e+00 0.00000000e+00 0.00000000e+00 0.00000000e+00\n",
      " 0.00000000e+00 0.00000000e+00 0.00000000e+00 0.00000000e+00\n",
      " 0.00000000e+00 0.00000000e+00 0.00000000e+00 0.00000000e+00\n",
      " 0.00000000e+00 0.00000000e+00 0.00000000e+00 0.00000000e+00\n",
      " 0.00000000e+00 0.00000000e+00 0.00000000e+00 0.00000000e+00\n",
      " 0.00000000e+00 0.00000000e+00 0.00000000e+00 0.00000000e+00\n",
      " 0.00000000e+00 0.00000000e+00 0.00000000e+00 0.00000000e+00\n",
      " 0.00000000e+00 0.00000000e+00 0.00000000e+00 0.00000000e+00\n",
      " 0.00000000e+00 0.00000000e+00 0.00000000e+00 0.00000000e+00\n",
      " 0.00000000e+00 0.00000000e+00 0.00000000e+00 0.00000000e+00\n",
      " 0.00000000e+00 0.00000000e+00 0.00000000e+00 0.00000000e+00\n",
      " 0.00000000e+00 0.00000000e+00 0.00000000e+00 0.00000000e+00\n",
      " 0.00000000e+00 0.00000000e+00 0.00000000e+00 0.00000000e+00\n",
      " 0.00000000e+00 0.00000000e+00 0.00000000e+00 0.00000000e+00\n",
      " 0.00000000e+00 0.00000000e+00 0.00000000e+00 0.00000000e+00\n",
      " 0.00000000e+00 0.00000000e+00 0.00000000e+00 0.00000000e+00\n",
      " 0.00000000e+00 0.00000000e+00 0.00000000e+00 0.00000000e+00\n",
      " 0.00000000e+00 0.00000000e+00 0.00000000e+00 0.00000000e+00\n",
      " 0.00000000e+00 0.00000000e+00 0.00000000e+00 0.00000000e+00\n",
      " 0.00000000e+00 0.00000000e+00 0.00000000e+00 0.00000000e+00\n",
      " 0.00000000e+00 0.00000000e+00 0.00000000e+00 0.00000000e+00\n",
      " 0.00000000e+00 0.00000000e+00 0.00000000e+00 0.00000000e+00\n",
      " 0.00000000e+00 0.00000000e+00 0.00000000e+00 0.00000000e+00\n",
      " 0.00000000e+00 0.00000000e+00 0.00000000e+00 0.00000000e+00\n",
      " 0.00000000e+00 0.00000000e+00 0.00000000e+00 0.00000000e+00\n",
      " 0.00000000e+00 0.00000000e+00 0.00000000e+00 0.00000000e+00\n",
      " 0.00000000e+00 0.00000000e+00 0.00000000e+00 0.00000000e+00\n",
      " 0.00000000e+00 0.00000000e+00 0.00000000e+00 0.00000000e+00\n",
      " 0.00000000e+00 0.00000000e+00 0.00000000e+00 0.00000000e+00\n",
      " 0.00000000e+00 0.00000000e+00 0.00000000e+00 0.00000000e+00\n",
      " 0.00000000e+00 0.00000000e+00 0.00000000e+00 0.00000000e+00\n",
      " 0.00000000e+00 0.00000000e+00 0.00000000e+00 0.00000000e+00]\n"
     ]
    }
   ],
   "source": [
    "num=10\n",
    "print(math_rs_bounds[max_indx:max_indx+2])\n",
    "#print(file_lowengphot_spectra[num].N[:max_indx+2])\n",
    "print('rs: ', rs_list[num], '\\n', file_lowengphot_spectra[num].N, '\\n\\n',\n",
    "      file_lowengelec_spectra[num].N)"
   ]
  }
 ],
 "metadata": {
  "kernelspec": {
   "display_name": "Python 3",
   "language": "python",
   "name": "python3"
  },
  "language_info": {
   "codemirror_mode": {
    "name": "ipython",
    "version": 3
   },
   "file_extension": ".py",
   "mimetype": "text/x-python",
   "name": "python",
   "nbconvert_exporter": "python",
   "pygments_lexer": "ipython3",
   "version": "3.6.5"
  }
 },
 "nbformat": 4,
 "nbformat_minor": 2
}
