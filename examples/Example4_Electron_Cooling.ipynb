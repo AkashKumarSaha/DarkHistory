{
 "cells": [
  {
   "cell_type": "markdown",
   "metadata": {},
   "source": [
    "# Electron Cooling"
   ]
  },
  {
   "cell_type": "markdown",
   "metadata": {},
   "source": [
    "This notebook will serve as a pedagogical example for how electron cooling is performed in the code, as well as the use of the `TransFuncAtRedshift` classes to accomplish this task. "
   ]
  },
  {
   "cell_type": "code",
   "execution_count": 1,
   "metadata": {
    "collapsed": true
   },
   "outputs": [],
   "source": [
    "%load_ext autoreload\n",
    "import sys\n",
    "sys.path.append(\"..\")"
   ]
  },
  {
   "cell_type": "markdown",
   "metadata": {},
   "source": [
    "## Notebook Initialization"
   ]
  },
  {
   "cell_type": "code",
   "execution_count": 2,
   "metadata": {
    "collapsed": true
   },
   "outputs": [],
   "source": [
    "%autoreload\n",
    "%matplotlib inline\n",
    "\n",
    "import matplotlib\n",
    "import matplotlib.pyplot as plt\n",
    "\n",
    "matplotlib.rcParams['figure.figsize'] = [10,10]\n",
    "\n",
    "import numpy as np\n",
    "import pickle\n",
    "import copy\n",
    "\n",
    "from astropy.io import fits\n",
    "\n",
    "import darkhistory.physics as phys\n",
    "from darkhistory.spec.spectrum import Spectrum\n",
    "import darkhistory.spec.transferfunction as tf\n",
    "import darkhistory.utilities as utils\n",
    "import darkhistory.spec.spectools as spectools\n",
    "\n",
    "from darkhistory.electrons.ics.ics_spectrum import ics_spec\n",
    "from darkhistory.electrons.ics.ics_engloss_spectrum import engloss_spec"
   ]
  },
  {
   "cell_type": "markdown",
   "metadata": {},
   "source": [
    "## Import ICS Tables"
   ]
  },
  {
   "cell_type": "markdown",
   "metadata": {},
   "source": [
    "The ICS transfer function has already been pre-computed, and saved in the `Photon Deposition` Dropbox folder. Change the directory to point to that Dropbox folder on your local computer. "
   ]
  },
  {
   "cell_type": "code",
   "execution_count": 3,
   "metadata": {
    "collapsed": true
   },
   "outputs": [],
   "source": [
    "raw_nonrel_ICS_tf = pickle.load(open(\"/Users/hongwan/Dropbox (MIT)/Photon Deposition/ICS_nonrel.raw\",\"rb\"))\n",
    "raw_rel_ICS_tf = pickle.load(open(\"/Users/hongwan/Dropbox (MIT)/Photon Deposition/ICS_rel.raw\",\"rb\"))\n",
    "raw_engloss_tf = pickle.load(open(\"/Users/hongwan/Dropbox (MIT)/Photon Deposition/ICS_englossspec.raw\",\"rb\"))"
   ]
  },
  {
   "cell_type": "markdown",
   "metadata": {},
   "source": [
    "## Transfer Functions"
   ]
  },
  {
   "cell_type": "markdown",
   "metadata": {},
   "source": [
    "Given an initial electron, if ICS is fast, within the time-step that we are considering, the electron would lose all of its kinetic energy to secondary photons. We want to calculate, among other things, the transfer function $T_{\\text{ICS},\\gamma}(E_e, E_\\gamma)$ that takes us from an input electron spectrum to the fully resolved secondary photon spectrum (after scattering all secondary electrons as well), defined by\n",
    "\n",
    "$$ \\int T_{\\text{ICS},\\gamma}(E_e, E_\\gamma) \\frac{dN_e}{dE_e} dE_e = \\frac{dN_\\gamma}{dE_\\gamma} $$\n",
    "\n",
    "or in its discretized version (discretized transfer functions will always be denoted $\\tau$, as opposed to the mathematical continuous transfer function, $T$), \n",
    "\n",
    "$$ \\frac{dN_\\gamma}{dE_\\gamma}(E_\\gamma^j) = \\sum_i \\tau_{\\text{ICS},\\gamma} (E_e^i, E_\\gamma^j) \\times \\frac{dN_e}{dE_e}(E_e^i) \\times E_e^i \\, d \\, \\log E_e^i $$\n",
    "\n",
    "which will be realized as a matrix multiplication in the code. Notice that for a single electron injection at a particular energy $E_e^i$, we get \n",
    "\n",
    "$$ \\tau_{\\text{ICS},\\gamma}(E_e^i) = \\frac{dN_\\gamma}{dE_\\gamma}(E_e^i, E_\\gamma^j)$$\n",
    "\n",
    "Thus the resolved secondary photon spectrum for a single electron injection at $E_e^i$ gives exactly the transfer function. "
   ]
  },
  {
   "cell_type": "markdown",
   "metadata": {},
   "source": [
    "## Abscissa"
   ]
  },
  {
   "cell_type": "markdown",
   "metadata": {},
   "source": [
    "We will generate abscissae for the primary electron energy and for the secondary photon energy, as well as set the temperature of the CMB to be the temperature at some arbitrary redshift."
   ]
  },
  {
   "cell_type": "code",
   "execution_count": 4,
   "metadata": {
    "collapsed": true
   },
   "outputs": [],
   "source": [
    "mwimp = 1e13\n",
    "neng = 500\n",
    "dlneng = np.log(mwimp)/neng\n",
    "elecbins = np.exp(np.arange(neng+1)*dlneng)\n",
    "englow = elecbins[0:neng]\n",
    "enghigh = elecbins[1:]\n",
    "eleceng = np.sqrt(englow*enghigh)\n",
    "\n",
    "mwimp = 1e12\n",
    "neng = 500\n",
    "dlneng = np.log(mwimp)/neng\n",
    "elecbins = np.exp(np.arange(neng+1)*dlneng)\n",
    "englow = elecbins[0:neng]\n",
    "enghigh = elecbins[1:]\n",
    "eleceng_file = np.sqrt(englow*enghigh)\n",
    "\n",
    "nphoteng = 500\n",
    "dlnphoteng = np.log(mwimp/1e-4)/nphoteng\n",
    "photenglow = 1e-4*np.exp(np.arange(nphoteng)*dlnphoteng)\n",
    "photenghigh = 1e-4*np.exp((np.arange(nphoteng)+1)*dlnphoteng)\n",
    "photeng = np.sqrt(photenglow*photenghigh)\n",
    "\n",
    "rs = 5\n",
    "T = phys.TCMB(rs)"
   ]
  },
  {
   "cell_type": "markdown",
   "metadata": {},
   "source": [
    "## ICS Transfer Functions"
   ]
  },
  {
   "cell_type": "markdown",
   "metadata": {},
   "source": [
    "After a single inverse Compton scattering process, a single electron upscatters a secondary photon from the CMB with final energy $E_\\gamma$ and a change in its energy $\\Delta$. We have computed both $\\frac{dN_\\gamma}{dE_\\gamma \\, dt}$ and $\\frac{dN_\\gamma}{d\\Delta \\, dt}$ due to a single electron, and saved them in the `Photon Deposition` Dropbox folder. \n",
    "\n",
    "Change the path to point to the local directory corresponding to this folder below. "
   ]
  },
  {
   "cell_type": "code",
   "execution_count": 5,
   "metadata": {
    "collapsed": true
   },
   "outputs": [],
   "source": [
    "raw_nonrel_ICS_tf = pickle.load(open(\"/Users/hongwan/Dropbox (MIT)/Photon Deposition/ICS_nonrel.raw\",\"rb\"))\n",
    "raw_rel_ICS_tf = pickle.load(open(\"/Users/hongwan/Dropbox (MIT)/Photon Deposition/ICS_rel.raw\",\"rb\"))\n",
    "raw_engloss_tf = pickle.load(open(\"/Users/hongwan/Dropbox (MIT)/Photon Deposition/ICS_englossspec.raw\",\"rb\"))"
   ]
  },
  {
   "cell_type": "markdown",
   "metadata": {},
   "source": [
    "These files can be used to generate a `TransFuncAtRedshift` object which stores the spectra referred to above. Because the functions are computed in a limit where the primary electron is nonrelativistic, and another in a limit where it is relativistic, these transfer functions need to be glued together, but we have written special functions to generate a `TransFuncAtRedshift` that contains the appropriate values at all primary electron energies. "
   ]
  },
  {
   "cell_type": "code",
   "execution_count": 6,
   "metadata": {
    "collapsed": true
   },
   "outputs": [],
   "source": [
    "ICS_tf = ics_spec(eleceng, photeng, T, \n",
    "                  nonrel_tf = raw_nonrel_ICS_tf, rel_tf = raw_rel_ICS_tf\n",
    "                 )\n",
    "\n",
    "engloss_tf = engloss_spec(eleceng, photeng, T, \n",
    "                          nonrel_tf = raw_engloss_tf, \n",
    "                          rel_tf = raw_rel_ICS_tf\n",
    "                         )"
   ]
  },
  {
   "cell_type": "markdown",
   "metadata": {},
   "source": [
    "Within `ICS_tf`, we have $\\frac{dN_\\gamma}{dE_\\gamma \\, dt} (E_{e,i}, E_\\gamma)$ at the abscissae `eleceng` and `photeng`, and likewise `engloss_tf` contains $\\frac{dN_\\gamma}{d \\Delta \\, dt} (E_{e,i}, \\Delta)$, where $E_{e,i}$ is the energy injected of the primary electron."
   ]
  },
  {
   "cell_type": "markdown",
   "metadata": {},
   "source": [
    "## Energy Loss Spectrum to Secondary Electron Spectrum"
   ]
  },
  {
   "cell_type": "markdown",
   "metadata": {},
   "source": [
    "Now, we want to compute the electron spectrum $\\frac{dN_{e,s}}{dE_{e,s} \\, dt}$, which is the rate of production of secondary electrons due to the primary cooling by ICS (the subscript *s* is a reminder that we are dealing with secondary electrons). For every photon that gains energy $\\Delta$, there is now a secondary electron that has energy $E_{e,i} - \\Delta$. Therefore\n",
    "\n",
    "$$ \\frac{dN_\\gamma}{d\\Delta \\, dt} (E_{e,i}, \\Delta) d\\Delta = \\frac{dN_{e,s}}{d E_{e, s} \\, dt} (E_{e,i}, E_{e,s} = E_{e,i} - \\Delta) dE_{e,s}$$\n",
    "\n",
    "To do this, we use `Spectrum.engloss_rebin`, which exactly performs this re-definition while conserving number and energy. For each `Spectrum` in `engloss_tf`, which corresponds to some $\\frac{dN_\\gamma}{d\\Delta \\, dt}$, simply call the function with two arguments: the injection energy of the primary corresponding to the `Spectrum`, and the final abscissa to rebin into (in this case, we choose `eleceng`). "
   ]
  },
  {
   "cell_type": "code",
   "execution_count": 7,
   "metadata": {},
   "outputs": [],
   "source": [
    "# Make a deep copy, so that it is independent of the original engloss_tf. \n",
    "sec_elec_tf = tf.TransFuncAtRedshift([])\n",
    "\n",
    "for i, in_eng in enumerate(engloss_tf.in_eng):\n",
    "    spec = engloss_tf[i]\n",
    "    spec.engloss_rebin(in_eng, engloss_tf.in_eng)\n",
    "    sec_elec_tf.append(spec)\n",
    "\n",
    "# Elements in sec_elec_tf are Spectrum objects of the secondaries,\n",
    "# in this case dN/(d Delta dt), ordered by the injection energy of the\n",
    "# primary, a list of which can be obtained by \n",
    "# TransFuncAtRedshift.get_in_eng(). \n",
    "# for in_eng, spec in zip(sec_elec_tf.in_eng, sec_elec_tf):\n",
    "#     spec.engloss_rebin(in_eng, sec_elec_tf.in_eng)"
   ]
  },
  {
   "cell_type": "markdown",
   "metadata": {},
   "source": [
    "So now `sec_elec_tf` is the discretized version of $\\frac{dN_{e,s}}{dE_{e,s} dt}$. "
   ]
  },
  {
   "cell_type": "markdown",
   "metadata": {},
   "source": [
    "## Initializing the Loop"
   ]
  },
  {
   "cell_type": "markdown",
   "metadata": {},
   "source": [
    "We are now ready to compute $\\tau_{\\text{ICS}}$. First, our code is divided into a high-energy and a low-energy regime. Low-energy photons only undergo photoionization or redshifting, while low-energy electrons cool rapidly via atomic processes, and are processed separately from the high-energy regime. Our goal is to cool the high-energy electrons (which cool very rapidly) into photons and low-energy electrons, and determine the total transfer function for *all* processes, not just ICS.\n",
    "\n",
    "Here, we define the boundary between high- and low-energy regimes. Conventionally, we define this to be 3 keV, although to compare with the original code, we set it to 250 eV. "
   ]
  },
  {
   "cell_type": "code",
   "execution_count": 8,
   "metadata": {
    "collapsed": true
   },
   "outputs": [],
   "source": [
    "# Low energy regime boundary.\n",
    "loweng = 250\n",
    "# List of abscissa values in the high-energy regime. \n",
    "eleceng_high = eleceng[eleceng > loweng]\n",
    "# Indices of abscissa in the high-energy regime. \n",
    "eleceng_high_ind = np.arange(eleceng.size)[eleceng > loweng]\n",
    "# List of abscissa values in the low-energy regime. \n",
    "eleceng_low  = eleceng[eleceng <= loweng]\n",
    "# Indices of abscissa in the low-energy regime. \n",
    "eleceng_low_ind  = np.arange(eleceng.size)[eleceng <= loweng]"
   ]
  },
  {
   "cell_type": "markdown",
   "metadata": {},
   "source": [
    "For ICS, there are four quantities that we are interested in computing. The first is $T_{\\text{ICS},\\gamma}$, which is the transfer function for scattering a high-energy electron into photons at all energies. We also want $T_{\\text{ICS},e}$, which is the transfer function into low-energy electrons. On top of that, we would like to compute $U_{\\text{CMB}}$, which is the total initial energy of the CMB photons that are upscattered. We actually know this analytically for the Thomson limit (always true for $\\gamma < 20$):\n",
    "\n",
    "$$ \\frac{dU_{\\text{CMB}}}{dt} = \\sigma_T c \\rho_{\\text{CMB}} $$\n",
    "\n",
    "where $\\sigma_T$ is the Thomson scattering cross section, and $\\rho_{\\text{CMB}} = 4 \\sigma_{SB} T_{\\text{CMB}}^4/c $ is the energy density of the CMB, with $\\sigma_{SB}$ is the Stefan-Boltzmann constant. \n",
    "\n",
    "All of the quantities are related by energy conservation (remember that for a single primary electron injection, the transfer function is identically the secondary spectrum $dN/dE$):\n",
    "\n",
    "$$ E_{e,i} + U_{\\text{CMB}} = \\int T_{\\text{ICS},e} E_e \\, dE_e + \\int T_{\\text{ICS},\\gamma} E_\\gamma \\, dE_\\gamma $$\n",
    "\n",
    "However, due to numerical errors, numerically we will find that\n",
    "\n",
    "$$ E_{e,i} + U_{\\text{CMB}}(E_{e,i}) = \\int T_{\\text{ICS},e}(E_{e,i}) E_e \\, dE_e + \\int T_{\\text{ICS},\\gamma}(E_{e,i}) E_\\gamma \\, dE_\\gamma + D(E_{e,i})$$\n",
    "\n",
    "for some value $D$ as a function of $E_{e,i}$, which we will call \"deposited\" energy.  "
   ]
  },
  {
   "cell_type": "code",
   "execution_count": 9,
   "metadata": {
    "collapsed": true
   },
   "outputs": [],
   "source": [
    "# Empty containers for all quantities to compute.\n",
    "# tau_{ICS,gamma}\n",
    "sec_phot_tf = tf.TransFuncAtRedshift([], dlnz=-1, spec_type='N')\n",
    "# tau_{ICS,e}\n",
    "sec_lowengelec_tf = tf.TransFuncAtRedshift([], dlnz=-1, spec_type='N')\n",
    "# U_{CMB}\n",
    "cont_loss_vec = np.zeros_like(eleceng)\n",
    "# D\n",
    "deposited_vec = np.zeros_like(eleceng)"
   ]
  },
  {
   "cell_type": "markdown",
   "metadata": {},
   "source": [
    "## Low Energy Electrons"
   ]
  },
  {
   "cell_type": "markdown",
   "metadata": {},
   "source": [
    "Let's start the computation. For low energy primary electrons, we simply want to read them out as a low energy secondary electron, with no scattering into photons. The computation is done by looping over the low energy `eleceng` bins. First, we construct a delta function spectrum, `delta_spec`, with 1's at the index of interest and 0 elsewhere. Then we obtain immediately the low energy electron spectrum (identical to `delta_spec`) and for the photon spectrum (zeros everywhere). These are appended to `sec_phot_tf` and `sec_lowengelec_tf`. When more processes are added, low energy electrons will also have to be scattered and resolved in the same manner as high energy electrons for ICS. "
   ]
  },
  {
   "cell_type": "code",
   "execution_count": 10,
   "metadata": {
    "collapsed": true
   },
   "outputs": [],
   "source": [
    "delta_spec = np.zeros_like(eleceng)\n",
    "for i,eng in zip(eleceng_low_ind, eleceng_low):\n",
    "    # Construct the delta function spectrum.\n",
    "    delta_spec *= 0\n",
    "    delta_spec[i] = 1\n",
    "    # Get the secondary electrons and photons. Trivial here. \n",
    "    sec_phot_spec = Spectrum(photeng, np.zeros_like(photeng), spec_type='N')\n",
    "    sec_elec_spec = Spectrum(eleceng, delta_spec, spec_type='N')\n",
    "    \n",
    "    # Append the secondary photon spectrum to sec_phot_tf (all zeros),\n",
    "    # and low energy electron spectrum to sec_lowengelec_tf (1 at the current index, 0 elsewhere)\n",
    "    \n",
    "    # Rebin into dN/dE instead of N, and define redshift and injection energy.\n",
    "#     sec_phot_spec = spectools.rebin_N_arr(sec_phot_N, photeng)\n",
    "#     sec_elec_spec = spectools.rebin_N_arr(sec_elec_N, eleceng)\n",
    "    sec_phot_spec.in_eng = eng\n",
    "    sec_elec_spec.in_eng = eng\n",
    "    sec_phot_spec.rs = rs\n",
    "    sec_elec_spec.rs = rs\n",
    "    \n",
    "    sec_phot_tf.append(sec_phot_spec)\n",
    "    sec_lowengelec_tf.append(sec_elec_spec)\n",
    "    "
   ]
  },
  {
   "cell_type": "markdown",
   "metadata": {},
   "source": [
    "## High Energy Electrons - First Bin"
   ]
  },
  {
   "cell_type": "markdown",
   "metadata": {},
   "source": [
    "### Primary Scattering"
   ]
  },
  {
   "cell_type": "markdown",
   "metadata": {},
   "source": [
    "Let's look at the first high energy bin. For this primary electron, we will scatter it using `ICS_tf` and `sec_elec_tf`, to get the secondary photons and corresponding electrons after the scatter. We also compute the continuum energy loss. "
   ]
  },
  {
   "cell_type": "code",
   "execution_count": 11,
   "metadata": {
    "collapsed": true
   },
   "outputs": [],
   "source": [
    "# Initialize the single electron again.\n",
    "delta_spec = np.zeros_like(eleceng)\n",
    "i = eleceng_high_ind[0]\n",
    "eng = eleceng[i]\n",
    "delta_spec[i] = 1\n",
    "\n",
    "pri_elec_spec = Spectrum(eleceng, delta_spec, rs=rs, spec_type='N')\n",
    "\n",
    "\n",
    "# Get the secondary photons, dN_gamma/(dE_gamma dt). \n",
    "# mode and out_mode specifies the input and output of the function. \n",
    "# 'N' means an array of numbers, while 'dNdE' will input or output a Spectrum.\n",
    "# If 'N' is chosen, we need to specify the abscissa 'eng_arr' and list\n",
    "# of numbers, 'N_arr'. new_eng determines the output abscissa.\n",
    "sec_phot_spec = spectools.scatter(\n",
    "    ICS_tf, pri_elec_spec, new_eng = photeng\n",
    ")\n",
    "# The output from scatter here is dN/dE. Switch to N.\n",
    "sec_phot_spec.switch_spec_type()\n",
    "# Get the secondary electrons, dN_e/(dE_e dt).\n",
    "sec_elec_spec = spectools.scatter(\n",
    "    sec_elec_tf, pri_elec_spec, new_eng = eleceng\n",
    ")\n",
    "sec_elec_spec.switch_spec_type()\n",
    "\n",
    "# Continuum energy loss rate, dU_CMB/dt. \n",
    "continuum_engloss = phys.thomson_xsec*phys.c*phys.CMB_eng_density(T)"
   ]
  },
  {
   "cell_type": "markdown",
   "metadata": {},
   "source": [
    "Next, we compute the deposited energy. To do that, we need to figure out the total energy of primary electrons scattered per unit time, as well as the total energy in `sec_phot_N` and `sec_elec_N`. "
   ]
  },
  {
   "cell_type": "code",
   "execution_count": 12,
   "metadata": {
    "collapsed": true
   },
   "outputs": [],
   "source": [
    "# The total number of primaries scattered is equal to the total number of secondaries scattered. \n",
    "pri_elec_totN = sec_elec_spec.totN()\n",
    "# The total energy of primary electrons which is scattered per unit time. \n",
    "pri_elec_toteng = pri_elec_totN*eng\n",
    "# The total energy of secondary electrons produced per unit time. \n",
    "sec_elec_toteng = sec_elec_spec.toteng()\n",
    "# The total energy of secondary photons produced per unit time. \n",
    "sec_phot_toteng = sec_phot_spec.toteng()\n",
    "# Deposited energy per unit time, dD/dt. \n",
    "deposited_eng = pri_elec_toteng - sec_elec_toteng - (sec_phot_toteng - continuum_engloss)\n",
    "# In the original code, the energy of the electron has gamma > 20, \n",
    "# then the continuum energy loss is assigned to deposited_eng instead. \n",
    "# I'm not sure if this is necessary, but let's be consistent with the \n",
    "# original code for now. \n",
    "\n",
    "if eng + phys.me > 20*phys.me:\n",
    "    deposited_eng += continuum_engloss\n",
    "    continuum_engloss = 0"
   ]
  },
  {
   "cell_type": "markdown",
   "metadata": {},
   "source": [
    "### Normalizing to a Single Electron"
   ]
  },
  {
   "cell_type": "markdown",
   "metadata": {},
   "source": [
    "Right now, all of the quantities are rates, but we really want to compute the total number due to the scattering of a single electron. To do this, we normalize the transfer functions, the continuum losses and the deposited energy by `pri_elec_totN`. "
   ]
  },
  {
   "cell_type": "code",
   "execution_count": 13,
   "metadata": {
    "collapsed": true
   },
   "outputs": [],
   "source": [
    "sec_phot_spec /= pri_elec_totN\n",
    "sec_elec_spec /= pri_elec_totN\n",
    "continuum_engloss /= pri_elec_totN\n",
    "deposited_eng /= pri_elec_totN"
   ]
  },
  {
   "cell_type": "markdown",
   "metadata": {},
   "source": [
    "### Removing Self-Scatter"
   ]
  },
  {
   "cell_type": "markdown",
   "metadata": {},
   "source": [
    "Now we want to get rid of the self-scattering, i.e. where the primary electron scatters into the same bin in `sec_elec_N`. All we do is set this bin to zero, then scale up all of the above quantities appropriately. For example, if 99% of the electrons scattered into the same bin, then we set this bin to zero, and multiply all other quantities by 100 to resolve everything in the self-scattering bin. "
   ]
  },
  {
   "cell_type": "code",
   "execution_count": 14,
   "metadata": {
    "collapsed": true
   },
   "outputs": [],
   "source": [
    "selfscatter_engfrac = sec_elec_spec.N[i]*eleceng[i]/(sec_elec_spec.totN()*eng)\n",
    "scattered_engfrac = 1 - selfscatter_engfrac\n",
    "\n",
    "sec_elec_spec.N[i] = 0\n",
    "\n",
    "sec_phot_spec /= scattered_engfrac\n",
    "sec_elec_spec /= scattered_engfrac\n",
    "continuum_engloss /= scattered_engfrac\n",
    "deposited_eng /= scattered_engfrac\n"
   ]
  },
  {
   "cell_type": "markdown",
   "metadata": {},
   "source": [
    "### Resolving Downscattered Electrons"
   ]
  },
  {
   "cell_type": "markdown",
   "metadata": {},
   "source": [
    "At this point, what we have done is found the result for a single primary electron scattered into secondary photons, secondary electrons with energy strictly less than the primary (in terms of bins), energy 'lost' from the CMB because they were upscattered, and 'deposited' energy (calculational errors in the case of ICS). \n",
    "\n",
    "The next step is to completely resolve the secondary electrons. However, we have already calculated how a single secondary electron in these lower bin resolves into photons, low-energy electrons, CMB losses and deposited energy: these are stored in `sec_phot_tf`, `sec_lowengelec_tf`, `cont_loss_vec` and `deposited_vec` respectively. \n",
    "\n",
    "We first scatter the secondary electron spectrum using the two transfer functions into fully resolved secondary photons and low energy electrons.  "
   ]
  },
  {
   "cell_type": "code",
   "execution_count": 15,
   "metadata": {
    "collapsed": true
   },
   "outputs": [],
   "source": [
    "# First, we ensure that the secondary electron array has the same \n",
    "# length as the transfer function (which we have been appending `Spectrum`\n",
    "# objects to from before). \n",
    "\n",
    "scattered_elec_spec = Spectrum(eleceng[0:i], sec_elec_spec.N[0:i], spec_type='N')\n",
    "\n",
    "# Scatter into photons. For this first high energy case, this\n",
    "# trivially gives no photons, but for higher energies, this is non-trivial.\n",
    "resolved_phot_spec = spectools.scatter(\n",
    "    sec_phot_tf, scattered_elec_spec, new_eng = photeng\n",
    ")\n",
    "\n",
    "# Scatter into low energy electrons. For this first high energy case, \n",
    "# it's also trivial, since the transfer matrix is the identity. \n",
    "resolved_lowengelec_spec = spectools.scatter(\n",
    "    sec_lowengelec_tf, scattered_elec_spec, new_eng = eleceng\n",
    ")\n"
   ]
  },
  {
   "cell_type": "markdown",
   "metadata": {},
   "source": [
    "The secondary electrons have now been completely scattered into these two final states. We add the photons to the secondary photons from the primary, and then reset the electron array to hold only the low energy electrons."
   ]
  },
  {
   "cell_type": "code",
   "execution_count": 16,
   "metadata": {
    "collapsed": true
   },
   "outputs": [],
   "source": [
    "sec_phot_spec += resolved_phot_spec\n",
    "sec_elec_spec = resolved_lowengelec_spec"
   ]
  },
  {
   "cell_type": "markdown",
   "metadata": {},
   "source": [
    "For the continuum losses and deposited energy due to the secondary electrons, this is simple as well: just multiply the current vector by the secondary electron spectrum, and add the results to the continuum losses and deposited energy due to the primary scatter."
   ]
  },
  {
   "cell_type": "code",
   "execution_count": 17,
   "metadata": {
    "collapsed": true
   },
   "outputs": [],
   "source": [
    "# In this case, this is trivial because they are all zero, but becomes\n",
    "# non-trivial for higher energies.\n",
    "continuum_engloss += np.dot(scattered_elec_spec.N, cont_loss_vec[0:i])\n",
    "deposited_eng += np.dot(scattered_elec_spec.N, deposited_vec[0:i])"
   ]
  },
  {
   "cell_type": "markdown",
   "metadata": {},
   "source": [
    "### Storing the Results"
   ]
  },
  {
   "cell_type": "markdown",
   "metadata": {},
   "source": [
    "Finally, we have the fully resolved photon spectrum, secondary electron spectrum, continuum loss and deposited energy for an electron of energy corresponding to bin `i`. We now append all of these values to the transfer functions, or in the case of continuum loss and deposited energy, just add to the existing vector."
   ]
  },
  {
   "cell_type": "code",
   "execution_count": 18,
   "metadata": {
    "collapsed": true
   },
   "outputs": [],
   "source": [
    "# Set the properties of the spectra.\n",
    "sec_phot_spec.in_eng = eng\n",
    "sec_elec_spec.in_eng = eng\n",
    "sec_phot_spec.rs = rs\n",
    "sec_elec_spec.rs = rs\n",
    "\n",
    "# Append to the transfer function\n",
    "sec_phot_tf.append(sec_phot_spec)\n",
    "sec_lowengelec_tf.append(sec_elec_spec)\n",
    "\n",
    "# Set the correct values in the cont_loss_vec and deposited_vec\n",
    "cont_loss_vec[i] = continuum_engloss\n",
    "deposited_vec[i] = deposited_eng"
   ]
  },
  {
   "cell_type": "markdown",
   "metadata": {},
   "source": [
    "### Energy Conservation"
   ]
  },
  {
   "cell_type": "markdown",
   "metadata": {},
   "source": [
    "Let's check that energy is explicitly conserved. The original primary electron has energy `eng`, and the upscattered CMB photons had energy `continuum_engloss`. This energy goes into secondary photons `sec_phot_N`, low energy electrons `sec_elec_N` and deposited energy `deposited_eng`. We cannot expect energy to be conserved at more than 1e-16 of the largest quantity due to floating point error. "
   ]
  },
  {
   "cell_type": "code",
   "execution_count": 19,
   "metadata": {},
   "outputs": [
    {
     "name": "stdout",
     "output_type": "stream",
     "text": [
      "Primary electron energy:  254.097270555\n",
      "CMB photons initial energy before upscattering:  13162.7910176\n",
      "Low energy electron energy:  239.331575638\n",
      "Resolved photon spectrum energy:  13152.92159\n",
      "Deposited energy:  24.6351224301\n",
      "Conservation of energy check:  3.11439907023e-09\n"
     ]
    }
   ],
   "source": [
    "conservation_check = (eng + continuum_engloss \n",
    "                      - sec_elec_spec.toteng()\n",
    "                      - sec_phot_spec.toteng()\n",
    "                      - deposited_eng\n",
    "                     )\n",
    "print('Primary electron energy: ', eng)\n",
    "print('CMB photons initial energy before upscattering: ', continuum_engloss)\n",
    "print('Low energy electron energy: ', sec_elec_spec.toteng())\n",
    "print('Resolved photon spectrum energy: ', sec_phot_spec.toteng())\n",
    "print('Deposited energy: ', deposited_eng)\n",
    "print('Conservation of energy check: ', conservation_check)"
   ]
  },
  {
   "cell_type": "markdown",
   "metadata": {},
   "source": [
    "We enforce exact energy conservation by adding the difference to deposited."
   ]
  },
  {
   "cell_type": "code",
   "execution_count": 20,
   "metadata": {},
   "outputs": [
    {
     "name": "stdout",
     "output_type": "stream",
     "text": [
      "Final conservation check:  0.0\n"
     ]
    }
   ],
   "source": [
    "deposited_eng += conservation_check\n",
    "print('Final conservation check: ',\n",
    "    eng + continuum_engloss \n",
    "    - sec_elec_spec.toteng()\n",
    "    - sec_phot_spec.toteng()\n",
    "    - deposited_eng\n",
    ")\n"
   ]
  },
  {
   "cell_type": "markdown",
   "metadata": {},
   "source": [
    "### Remaining High Energy Electrons"
   ]
  },
  {
   "cell_type": "markdown",
   "metadata": {},
   "source": [
    "Higher energy electrons go through exactly the same procedure, so we shall just perform the rest of the loop below:"
   ]
  },
  {
   "cell_type": "code",
   "execution_count": 21,
   "metadata": {},
   "outputs": [
    {
     "name": "stdout",
     "output_type": "stream",
     "text": [
      " "
     ]
    }
   ],
   "source": [
    "%%prun\n",
    "for i,eng in zip(eleceng_high_ind[1:], eleceng_high[1:]):\n",
    "\n",
    "    # Initialize the single electron again.\n",
    "    delta_spec = np.zeros_like(eleceng)\n",
    "    delta_spec[i] = 1\n",
    "    \n",
    "    pri_elec_spec = Spectrum(eleceng, delta_spec, rs=rs, spec_type='N')\n",
    "\n",
    "    # Get the secondary photons, dN_gamma/(dE_gamma dt). \n",
    "    # mode and out_mode specifies the input and output of the function. \n",
    "    # 'N' means an array of numbers, while 'dNdE' will input or output a Spectrum.\n",
    "    # If 'N' is chosen, we need to specify the abscissa 'eng_arr' and list\n",
    "    # of numbers, 'N_arr'. new_eng determines the output abscissa.\n",
    "    sec_phot_spec = spectools.scatter(\n",
    "        ICS_tf, pri_elec_spec, new_eng = photeng\n",
    "    )\n",
    "    sec_phot_spec.switch_spec_type()\n",
    "\n",
    "    # Get the secondary electrons, dN_e/(dE_e dt).\n",
    "    sec_elec_spec = spectools.scatter(\n",
    "        sec_elec_tf, pri_elec_spec, new_eng = eleceng\n",
    "    )\n",
    "    sec_elec_spec.switch_spec_type()\n",
    "\n",
    "    # Continuum energy loss rate, dU_CMB/dt. \n",
    "    continuum_engloss = phys.thomson_xsec*phys.c*phys.CMB_eng_density(T)\n",
    "    \n",
    "    # The total number of primaries scattered is equal to the total number of secondaries scattered. \n",
    "    pri_elec_totN = sec_elec_spec.totN()\n",
    "    # The total energy of primary electrons which is scattered per unit time. \n",
    "    pri_elec_toteng = pri_elec_totN*eng\n",
    "    # The total energy of secondary electrons produced per unit time. \n",
    "    sec_elec_toteng = sec_elec_spec.toteng()\n",
    "    # The total energy of secondary photons produced per unit time. \n",
    "    sec_phot_totN = sec_phot_spec.toteng()\n",
    "    # Deposited energy per unit time, dD/dt. \n",
    "    deposited_eng = pri_elec_toteng - sec_elec_toteng - (sec_phot_totN - continuum_engloss)\n",
    "\n",
    "    # In the original code, the energy of the electron has gamma > 20, \n",
    "    # then the continuum energy loss is assigned to deposited_eng instead. \n",
    "    # I'm not sure if this is necessary, but let's be consistent with the \n",
    "    # original code for now. \n",
    "\n",
    "    if eng + phys.me > 20*phys.me:\n",
    "        deposited_eng += continuum_engloss\n",
    "        continuum_engloss = 0\n",
    "    \n",
    "    # Normalize to one primary electron.\n",
    "    \n",
    "    sec_phot_spec /= pri_elec_totN\n",
    "    sec_elec_spec /= pri_elec_totN\n",
    "    continuum_engloss /= pri_elec_totN\n",
    "    deposited_eng /= pri_elec_totN\n",
    "    \n",
    "    # Remove self-scattering.\n",
    "    \n",
    "    selfscatter_engfrac = sec_elec_spec.N[i]*eleceng[i]/(sec_elec_spec.totN()*eng)\n",
    "    scattered_engfrac = 1 - selfscatter_engfrac\n",
    "\n",
    "    sec_elec_spec.N[i] = 0\n",
    "\n",
    "    sec_phot_spec /= scattered_engfrac\n",
    "    sec_elec_spec /= scattered_engfrac\n",
    "    continuum_engloss /= scattered_engfrac\n",
    "    deposited_eng /= scattered_engfrac\n",
    "    \n",
    "    # First, we ensure that the secondary electron array has the same \n",
    "    # length as the transfer function (which we have been appending `Spectrum`\n",
    "    # objects to from before). \n",
    "\n",
    "    scattered_elec_spec = Spectrum(eleceng[0:i], sec_elec_spec.N[0:i], spec_type='N')\n",
    "\n",
    "    # Scatter into photons. For this first high energy case, this\n",
    "    # trivially gives no photons, but for higher energies, this is non-trivial.\n",
    "    resolved_phot_spec = spectools.scatter(\n",
    "        sec_phot_tf, scattered_elec_spec, new_eng = photeng\n",
    "    )\n",
    "\n",
    "    # Scatter into low energy electrons. For this first high energy case, \n",
    "    # it's also trivial, since the transfer matrix is the identity. \n",
    "    resolved_lowengelec_spec = spectools.scatter(\n",
    "        sec_lowengelec_tf, scattered_elec_spec, new_eng = eleceng\n",
    "    )\n",
    "    \n",
    "    sec_phot_spec += resolved_phot_spec\n",
    "    sec_elec_spec = resolved_lowengelec_spec\n",
    "    \n",
    "    # In this case, this is trivial because they are all zero, but becomes\n",
    "    # non-trivial for higher energies.\n",
    "    continuum_engloss += np.dot(scattered_elec_spec.N, cont_loss_vec[0:i])\n",
    "    deposited_eng += np.dot(scattered_elec_spec.N, deposited_vec[0:i])\n",
    "   \n",
    "    # Set the properties of the spectra\n",
    "    sec_phot_spec.in_eng = eng\n",
    "    sec_elec_spec.in_eng = eng\n",
    "    sec_phot_spec.rs = rs\n",
    "    sec_elec_spec.rs = rs\n",
    "\n",
    "    # Append to the transfer function\n",
    "    sec_phot_tf.append(sec_phot_spec)\n",
    "    sec_lowengelec_tf.append(sec_elec_spec)\n",
    "\n",
    "    # Set the correct values in the cont_loss_vec and deposited_vec\n",
    "    cont_loss_vec[i] = continuum_engloss\n",
    "    deposited_vec[i] = deposited_eng\n",
    "    \n",
    "    # Conservation of energy check. Check that it is 1e-10 of eng.\n",
    "    \n",
    "#     print('Primary electron energy: ', eng)\n",
    "#     print('CMB photons initial energy before upscattering: ', continuum_engloss)\n",
    "#     print('Low energy electron energy: ', sec_elec_spec.toteng())\n",
    "#     print('Resolved photon spectrum energy: ', sec_phot_spec.toteng())\n",
    "#     print('Deposited energy: ', deposited_eng)\n",
    "#     print('Conservation of energy check: ', conservation_check)\n",
    "    \n",
    "    conservation_check = (eng + continuum_engloss \n",
    "                      - sec_elec_spec.toteng()\n",
    "                      - sec_phot_spec.toteng()\n",
    "                      - deposited_eng\n",
    "                     )\n",
    "    \n",
    "    if conservation_check/eng > 1e-10:\n",
    "        raise RuntimeError('Conservation of energy failed.')\n",
    "        \n",
    "    # Force conservation of energy. \n",
    "    deposited_eng += conservation_check"
   ]
  },
  {
   "cell_type": "markdown",
   "metadata": {},
   "source": [
    "## Comparing with Original Code"
   ]
  },
  {
   "cell_type": "markdown",
   "metadata": {},
   "source": [
    "We can check the ICS results with the original code. After adding other electron processes, you can set the density of hydrogen to be zero to check that nothing else is broken. Change the directory to point to the local `Photon Deposition` folder."
   ]
  },
  {
   "cell_type": "code",
   "execution_count": 22,
   "metadata": {
    "collapsed": true
   },
   "outputs": [],
   "source": [
    "ICS_test_filename = \"/Users/hongwan/Dropbox (MIT)/Photon Deposition/ICS_test.fits\"\n",
    "ICS_test = fits.open(ICS_test_filename)\n",
    "ICS_test_spec = ICS_test[0].data\n",
    "ICS_test_spec = np.transpose(ICS_test_spec)\n",
    "ICS_test_list_spec = [Spectrum(photeng, arr, in_eng=in_eng) for (arr, in_eng) in zip(ICS_test_spec, eleceng_file)]\n",
    "ICS_test_tf = tf.TransFuncAtRedshift(ICS_test_list_spec, dlnz=-1)"
   ]
  },
  {
   "cell_type": "code",
   "execution_count": 23,
   "metadata": {},
   "outputs": [
    {
     "name": "stderr",
     "output_type": "stream",
     "text": [
      "../darkhistory/spec/transferfunction.py:433: RuntimeWarning: invalid value encountered in less\n",
      "  new_tf._grid_vals[np.abs(new_tf.grid_vals) < 1e-100] = 0\n"
     ]
    },
    {
     "data": {
      "text/plain": [
       "[0.0001, 10000000000000.0, 0.0001, 1000000.0]"
      ]
     },
     "execution_count": 23,
     "metadata": {},
     "output_type": "execute_result"
    },
    {
     "data": {
      "image/png": "[encoded data removed]",
      "text/plain": [
       "<matplotlib.figure.Figure at 0x1816081e48>"
      ]
     },
     "metadata": {},
     "output_type": "display_data"
    }
   ],
   "source": [
    "ax = plt.subplot(1,1,1)\n",
    "plt.rc('text', usetex=True)\n",
    "comp_elec_kineng = np.array([3.1e3, 3.1e5,3.1e6, 3.1e7, 3.1e8, 3.1e9, 3.1e10, 3.1e11, 3.1e12])\n",
    "\n",
    "sec_phot_tf.plot(ax, ind=comp_elec_kineng, indtype='in_eng', linewidth=2)\n",
    "\n",
    "plt.gca().set_prop_cycle(None)\n",
    "\n",
    "ICS_test_tf.plot(ax, ind=comp_elec_kineng, indtype='in_eng', linewidth=0, marker='o', markersize='6', \n",
    "    markerfacecolor='w', markevery=7,)\n",
    "# sec_phot_tf.plot(ax, ind=145, fac=log_bin_width*sec_phot_tf.get_eng(), indtype='ind', linewidth=2)\n",
    "# ICS_test_tf.plot(ax, ind=145, indtype='ind', linewidth=0, marker='o', markersize='6', \n",
    "#     markerfacecolor='w', markevery=10,)\n",
    "ax.set_xscale('log')\n",
    "ax.set_yscale('log')\n",
    "\n",
    "plt.tick_params(axis='both', which='major', labelsize=20)\n",
    "\n",
    "plt.xlabel('Secondary Photon Energy [eV]',fontsize=24)\n",
    "\n",
    "plt.ylabel('Number of Photons in Each Bin',fontsize=24)\n",
    "plt.axis([1e-4, 1e13, 1e-4, 1e6])"
   ]
  },
  {
   "cell_type": "markdown",
   "metadata": {},
   "source": [
    "## Moving Forward"
   ]
  },
  {
   "cell_type": "markdown",
   "metadata": {},
   "source": [
    "To compare to the final code, we need to do the following. \n",
    "\n",
    "For the other processes, in the low-energy regime, we have the following things to calculate (there is no ICS, and the transfer function for ICS is simply the identity):\n",
    "\n",
    "Process      | Sec. Low Energy Electrons            | Sec. Photons | Continuum | Deposited\n",
    "-------------|--------------------------------------|--------------|-----------|-----------\n",
    "ICS          |No                                    |No            |No         |No\n",
    "Ionization   |Yes, resolved                         |No            |No         |Yes\n",
    "Excitation   |Yes, resolved                         |No            |Yes        |Yes\n",
    "Heating      |Yes, resolved                         |No            |No         |Yes\n",
    "\n",
    "and in the high-energy regime (for the processes other than ICS, this is exactly the same as before). \n",
    "\n",
    "Process      |Sec. High Energy Electrons          | Sec. Photons | Continuum | Deposited\n",
    "-------------|------------------------------------|--------------|-----------|-----------\n",
    "ICS          |Yes, resolved                       |Yes           |Yes        |Yes\n",
    "Ionization   |Yes, resolved                       |No            |No         |Yes\n",
    "Excitation   |Yes, resolved                       |No            |Yes        |Yes\n",
    "Heating      |Yes, resolved                       |No            |No         |Yes\n",
    "\n",
    "Excitation will be a little confusing. For 1s -> 2p hydrogen excitation, the electron loses 10.2 eV, producing a secondary electron (which is resolved), and 10.2 eV is assigned to deposited. For 1s -> 2s, the electron loses 10.2 eV, but the photons produced are assigned to continuum. For He+, the electron loses ~21 eV (and resolved), producing a 21 eV photon. 13.6 eV should then be assigned to ionization deposited energy, and the remaining 7.4 eV assigned to heating (corresponding to a secondary electron that can only contribute to heating). \n",
    "\n",
    "In the final implementation, we will do the following instead (no low- or high-energy limits):\n",
    "\n",
    "Process      |Sec. High Energy Electrons          | Sec. Photons | Deposited\n",
    "-------------|------------------------------------|--------------|-----------\n",
    "ICS          |Yes, resolved                       |Yes           |Yes\n",
    "Ionization   |Yes, resolved                       |No            |Yes\n",
    "Excitation   |Yes, resolved                       |Yes           |No\n",
    "Heating      |Yes, resolved                       |No            |Yes\n",
    "\n",
    "Things that go into 'continuum', like the upscattered CMB photons and the 10.2 eV and below photons emitted due to excitation, will now be added to the secondary photon spectrum instead. We will not have to consider the difference between the 21 eV, 10.2 eV and lower than 10.2 eV photons for excitation: those will be treated separately. "
   ]
  }
 ],
 "metadata": {
  "anaconda-cloud": {},
  "kernelspec": {
   "display_name": "Python 3",
   "language": "python",
   "name": "python3"
  },
  "language_info": {
   "codemirror_mode": {
    "name": "ipython",
    "version": 3
   },
   "file_extension": ".py",
   "mimetype": "text/x-python",
   "name": "python",
   "nbconvert_exporter": "python",
   "pygments_lexer": "ipython3",
   "version": "3.6.3"
  }
 },
 "nbformat": 4,
 "nbformat_minor": 1
}
