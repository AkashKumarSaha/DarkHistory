{
 "cells": [
  {
   "cell_type": "markdown",
   "metadata": {},
   "source": [
    "# Producing the Transfer Functions"
   ]
  },
  {
   "cell_type": "code",
   "execution_count": 1,
   "metadata": {},
   "outputs": [],
   "source": [
    "%load_ext autoreload\n",
    "import sys\n",
    "sys.path.append(\"..\")"
   ]
  },
  {
   "cell_type": "code",
   "execution_count": 2,
   "metadata": {},
   "outputs": [
    {
     "data": {
      "text/plain": [
       "['',\n",
       " '/home/gridgway/anaconda3/lib/python36.zip',\n",
       " '/home/gridgway/anaconda3/lib/python3.6',\n",
       " '/home/gridgway/anaconda3/lib/python3.6/lib-dynload',\n",
       " '/home/gridgway/anaconda3/lib/python3.6/site-packages',\n",
       " '/home/gridgway/anaconda3/lib/python3.6/site-packages/aeosa',\n",
       " '/home/gridgway/anaconda3/lib/python3.6/site-packages/IPython/extensions',\n",
       " '/home/gridgway/.ipython',\n",
       " '..']"
      ]
     },
     "execution_count": 2,
     "metadata": {},
     "output_type": "execute_result"
    }
   ],
   "source": [
    "sys.path"
   ]
  },
  {
   "cell_type": "markdown",
   "metadata": {},
   "source": [
    "## Notebook Initialization"
   ]
  },
  {
   "cell_type": "code",
   "execution_count": null,
   "metadata": {},
   "outputs": [],
   "source": [
    "%autoreload\n",
    "import numpy as np\n",
    "import pickle\n",
    "from tqdm import tqdm_notebook as tqdm\n",
    "\n",
    "import matplotlib\n",
    "matplotlib.rc_file('matplotlibrc')\n",
    "import matplotlib.pyplot as plt\n",
    "\n",
    "%matplotlib inline\n",
    "\n",
    "matplotlib.rcParams['figure.figsize'] = [10,10]\n",
    "\n",
    "\n",
    "from darkhistory.spec.spectrum import Spectrum\n",
    "import darkhistory.spec.spectools as spectools\n",
    "import darkhistory.spec.transferfunction as tf\n",
    "import darkhistory.spec.transferfunclist as tflist\n",
    "import darkhistory.physics as phys\n",
    "import darkhistory.utilities as utils\n",
    "\n",
    "from scipy.interpolate import interp1d\n",
    "from scipy.interpolate import RegularGridInterpolator\n",
    "\n",
    "# np.set_printoptions(threshold=np.nan)"
   ]
  },
  {
   "cell_type": "markdown",
   "metadata": {},
   "source": [
    "## Import Raw Data"
   ]
  },
  {
   "cell_type": "code",
   "execution_count": null,
   "metadata": {},
   "outputs": [],
   "source": [
    "# For complete_coarse\n",
    "# xes_str = [\n",
    "#     '4.540E-05', '2.746E-04'\n",
    "# ]\n",
    "\n",
    "xes_str = [\n",
    "    '4.540E-05', '2.746E-04', '1.659E-03', '9.952E-03', \n",
    "    '2.660E-02', '5.732E-02', '1.192E-01', '1.680E-01', '2.142E-01', '2.689E-01', '3.823E-01', \n",
    "    '5.000E-01', '5.987E-01', '6.900E-01', '8.022E-01', \n",
    "    '9.309E-01', '9.879E-01', '9.980E-01', '9.997E-01'   \n",
    "]\n",
    "\n",
    "# xes_str = [\n",
    "#     '4.540E-05', '2.746E-04', '1.659E-03', '9.952E-03', \n",
    "#     '5.732E-02', '1.680E-01', '2.689E-01', '3.823E-01', \n",
    "#     '5.000E-01', '5.987E-01', '6.900E-01', '8.022E-01', \n",
    "#     '9.309E-01', '9.879E-01', '9.980E-01', '9.997E-01'   \n",
    "# ]\n",
    "\n",
    "# xes_str = ['9.900E-01', '9.990E-01']\n",
    "# xes_str = ['0.000E+00']\n",
    "\n",
    "# file_names = [\n",
    "#     '/Users/hongwan/Dropbox (MIT)/Photon Deposition/'\n",
    "#     +'transferfunction_injE_complete_z_30_xe_2_pts/'\n",
    "#     +'transferfunction_withloweng_cmbloss_60eV_fixed_binning_injE_complete_z_30_xe_'\n",
    "#     +str+'_nointerp.p'\n",
    "#     for str in xes_str    \n",
    "# ]\n",
    "\n",
    "direc = '/Users/hongwan/Dropbox (MIT)/Photon Deposition/transferfunction_complete/'\n",
    "direc = '/home/gridgway/Desktop/DH_Data/'\n",
    "direc = '/home/gridgway/Desktop/DH_Data/tfs_xHe0/'\n",
    "\n",
    "file_names = [\n",
    "    direc\n",
    "    +'transferfunction_withloweng_cmbloss_60eV_fixed_binning_complete_xe_'\n",
    "    +str+'_nointerp.p'\n",
    "    for str in xes_str    \n",
    "]\n",
    "\n",
    "raw_tf_tuple = [pickle.load(open(file_name, \"rb\")) for file_name in file_names]\n",
    "\n",
    "# xe, in_eng, rs, eng, type={highengphot, lowengphot, lowengelec}\n",
    "raw_tf_list = np.array([tup[0] for tup in raw_tf_tuple])\n",
    "# Truncate the energy binning, because in_eng does not go up to the end.\n",
    "# raw_tf_list = raw_tf_list[:,:,:,:494,:]\n",
    "# xe, in_eng, rs\n",
    "CMB_engloss_list = np.array([tup[1] for tup in raw_tf_tuple])\n",
    "# xe, in_eng, rs, {H-ion, Exc, Heating, Cont.}\n",
    "highdeposited_list = np.array([tup[2] for tup in raw_tf_tuple])\n",
    "# xe, in_eng, rs, type={mwimp, rs}\n",
    "info_list = np.array([tup[3] for tup in raw_tf_tuple])\n",
    "# xe, in_eng, rs, type={photeng, eleceng}, eng\n",
    "abscissae_list = np.array([tup[4] for tup in raw_tf_tuple])\n",
    "# abscissae_list = abscissae_list[:,:,:,:,:494]\n",
    "\n"
   ]
  },
  {
   "cell_type": "code",
   "execution_count": null,
   "metadata": {},
   "outputs": [],
   "source": [
    "# This checks that all of the abscissae are equal.\n",
    "for i in np.arange(info_list.shape[0]):\n",
    "    for j in np.arange(info_list.shape[1]):\n",
    "        if not np.array_equal(\n",
    "            info_list[i,j,:,1],\n",
    "            info_list[0,0,:,1]\n",
    "        ):\n",
    "            print('NOPE!')\n",
    "        for k in np.arange(info_list.shape[2]):\n",
    "            if not np.array_equal(\n",
    "                info_list[i,:,k,0],\n",
    "                info_list[0,:,0,0]\n",
    "            ):\n",
    "                print('NOPE!')\n",
    "            if not np.array_equal(\n",
    "                abscissae_list[i,j,k,0,:],\n",
    "                abscissae_list[0,0,0,0,:]\n",
    "            ):\n",
    "                print('NOPE!')\n",
    "            if not np.array_equal(\n",
    "                abscissae_list[i,j,k,1,:],\n",
    "                abscissae_list[0,0,0,1,:]\n",
    "            ):\n",
    "                print('NOPE!')\n",
    "                \n",
    "# Given that they are, let's just define photeng and eleceng. \n",
    "# xe_arr = 0.5 + 0.5*np.tanh(\n",
    "#     np.array(\n",
    "#         [-5., -4.1]\n",
    "#     )\n",
    "# )\n",
    "\n",
    "# xe_arr = 0.5 + 0.5*np.tanh(\n",
    "#     [-5., -4.1, -3.2, -2.3, -1.4, \n",
    "#         -0.5, 0.4, 1.3, 2.2, 3.1, 4.]\n",
    "# )\n",
    "\n",
    "# xe_arr = np.array([0])\n",
    "# xe_arr = 0.5 + 0.5*np.tanh(\n",
    "#     [-5., -4.1, -3.2, -2.3, \n",
    "#      -1.4, -0.8, -0.5, -0.24, \n",
    "#      0.0, 0.2, 0.4, 0.7, \n",
    "#      1.3, 2.2, 3.1, 4.]\n",
    "# )\n",
    "# xe_arr = np.array([.99,.999])\n",
    "\n",
    "xe_arr = 0.5 + 0.5*np.tanh(\n",
    "    [-5., -4.1, -3.2, -2.3, \n",
    "     -1.8, -1.4, -1, -0.8, -0.65, -0.5, -0.24, \n",
    "     0.0, 0.2, 0.4, 0.7, \n",
    "     1.3, 2.2, 3.1, 4.]\n",
    ")\n",
    "\n",
    "rs_arr    = info_list[0,0,:,1]\n",
    "mwimp_arr = info_list[0,:,0,0]\n",
    "photeng = abscissae_list[0,0,0,0,:]\n",
    "eleceng = abscissae_list[0,0,0,1,:]"
   ]
  },
  {
   "cell_type": "markdown",
   "metadata": {},
   "source": [
    "## Raw Data Manipulation"
   ]
  },
  {
   "cell_type": "markdown",
   "metadata": {},
   "source": [
    "The transfer function is calculated by injecting 2 photons at the input energy abscissa. However, the first step is to assign $x$ photons to the top bin of the *output* photon abscissa, such that $x$ times the energy of the top bin is 2 times the injection energy. Because of the misalignment between the two abscissae, as well as the fact that we want to transfer function for a single electron, we have to normalize the results first.\n",
    "\n",
    "First, we construct two arrays: a list of output abscissae (for both photons and electrons) given the injection abscissa, and a list of the energy of the *output* photon energy bin where the injected photons are assigned to. Then we compute the normalization factor. "
   ]
  },
  {
   "cell_type": "code",
   "execution_count": null,
   "metadata": {},
   "outputs": [],
   "source": [
    "# This treatment is consistent with ih_transferfunction\n",
    "photeng_bin_width = np.diff(np.log(spectools.get_bin_bound(photeng))) * photeng\n",
    "eleceng_bin_width = np.diff(np.log(spectools.get_bin_bound(eleceng))) * eleceng\n",
    "\n",
    "\n",
    "# Original injection energies\n",
    "top_photeng_bins = np.array(\n",
    "    [\n",
    "        photeng[photeng <= mwimp][-1]\n",
    "        for mwimp in mwimp_arr\n",
    "    ]\n",
    ")\n",
    "\n",
    "norm_fac_arr = 2*mwimp_arr/top_photeng_bins"
   ]
  },
  {
   "cell_type": "markdown",
   "metadata": {},
   "source": [
    "Dividing by the normalization factor gives the spectra for the injection of 1 photon, with energy given by `top_photeng_bins`. \n",
    "\n",
    "Now we construct a raw array of all of the transfer functions, on which we will perform an interpolation to extract a set of transfer functions for use, given a chosen abscissa."
   ]
  },
  {
   "cell_type": "code",
   "execution_count": null,
   "metadata": {},
   "outputs": [],
   "source": [
    "# Multiplying by bin width converts all the eleceng array into number of particles. \n",
    "# Indexing: xe, in_eng, rs, eng, type={highengphot, lowengphot, lowengelec}\n",
    "\n",
    "phot_tf_raw = np.array([\n",
    "    [\n",
    "        [\n",
    "            raw_tf[i,j,:,0]/norm_fac*photeng_bin_width\n",
    "                for (j, rs) in enumerate(rs_arr)   \n",
    "        ]\n",
    "        for (i, (in_eng, norm_fac)) in enumerate(zip(mwimp_arr, norm_fac_arr))\n",
    "        \n",
    "    ] for raw_tf in tqdm(raw_tf_list)\n",
    "])\n",
    "\n",
    "lowengphot_tf_raw = np.array([\n",
    "    [\n",
    "        [\n",
    "            raw_tf[i,j,:,1]/norm_fac*photeng_bin_width \n",
    "                for (j, rs) in enumerate(rs_arr)   \n",
    "        ]\n",
    "        for (i, (in_eng, norm_fac)) in enumerate(zip(mwimp_arr, norm_fac_arr))\n",
    "        \n",
    "    ] for raw_tf in tqdm(raw_tf_list)\n",
    "])\n",
    "\n",
    "lowengelec_tf_raw = np.array([\n",
    "    [\n",
    "        [\n",
    "            raw_tf[i,j,:,2]/norm_fac*eleceng_bin_width \n",
    "                for (j, rs) in enumerate(rs_arr)   \n",
    "        ]\n",
    "        for (i, (in_eng, norm_fac)) in enumerate(zip(mwimp_arr, norm_fac_arr))\n",
    "        \n",
    "    ] for raw_tf in tqdm(raw_tf_list)\n",
    "])\n",
    "\n",
    "# xe, in_eng, rs\n",
    "CMB_engloss = CMB_engloss_list/np.outer(norm_fac_arr, np.ones_like(rs_arr))\n",
    "\n",
    "# xe, in_eng, rs, {H-Ion, Exc, Heat, Cont}\n",
    "denom_highdeposited = np.ones((xe_arr.size, rs_arr.size, 4, norm_fac_arr.size))\n",
    "denom_highdeposited *= norm_fac_arr\n",
    "denom_highdeposited = np.rollaxis(denom_highdeposited, 3, 1)\n",
    "highdeposited = highdeposited_list/denom_highdeposited"
   ]
  },
  {
   "cell_type": "markdown",
   "metadata": {},
   "source": [
    "## Some Plots to Check"
   ]
  },
  {
   "cell_type": "code",
   "execution_count": null,
   "metadata": {},
   "outputs": [],
   "source": [
    "plt.figure()\n",
    "\n",
    "injE_ind = 180\n",
    "\n",
    "#xe, in_eng, rs, eng\n",
    "plt.plot(photeng, phot_tf_raw[-1, injE_ind , -1, :]/photeng_bin_width)\n",
    "\n",
    "ax = plt.gca()\n",
    "\n",
    "ax.set_xscale('log')\n",
    "ax.set_yscale('log')\n",
    "\n",
    "# These two should be similar: \n",
    "# It is the file total energy in the high energy photon spectrum\n",
    "# compared to the injection energy. \n",
    "print(np.dot(photeng, phot_tf_raw[-1, injE_ind, -1, :]))\n",
    "print(top_photeng_bins[injE_ind])"
   ]
  },
  {
   "cell_type": "code",
   "execution_count": null,
   "metadata": {},
   "outputs": [],
   "source": [
    "photeng_high = photeng[photeng > 60]\n",
    "print(photeng_high.shape)\n",
    "\n",
    "new_phot_tf_raw = phot_tf_raw\n",
    "new_lowengphot_tf_raw = lowengphot_tf_raw\n",
    "new_lowengelec_tf_raw = lowengelec_tf_raw\n",
    "new_cmbloss_raw = CMB_engloss\n",
    "new_highdeposited_raw = highdeposited"
   ]
  },
  {
   "cell_type": "markdown",
   "metadata": {},
   "source": [
    "Now, we construct the list of `Spectrum` objects from our raw array of transfer functions..."
   ]
  },
  {
   "cell_type": "code",
   "execution_count": null,
   "metadata": {},
   "outputs": [],
   "source": [
    "# spec_type = 'N' for eleceng, because we have already multiplied in the bin width earlier. \n",
    "\n",
    "#xe, in_eng, rs, eng\n",
    "photspec_list = [\n",
    "    [\n",
    "        [\n",
    "            Spectrum(\n",
    "                photeng, phot_tf[i,j,:], spec_type='N', \n",
    "                rs = rs, in_eng = in_eng\n",
    "            ) for (j, rs) in enumerate(rs_arr)\n",
    "        ] for (i, in_eng) in enumerate(photeng_high)\n",
    "    ] for phot_tf in tqdm(new_phot_tf_raw)\n",
    "]\n",
    "\n",
    "lowengphotspec_list = [\n",
    "    [\n",
    "        [\n",
    "            Spectrum(\n",
    "                photeng, lowengphot_tf[i,j,:], spec_type='N', \n",
    "                rs = rs, in_eng = in_eng\n",
    "            ) for (j, rs) in enumerate(rs_arr)\n",
    "        ] for (i, in_eng) in enumerate(photeng_high)\n",
    "    ] for lowengphot_tf in tqdm(new_lowengphot_tf_raw)\n",
    "]\n",
    "\n",
    "lowengelecspec_list = [\n",
    "    [\n",
    "        [\n",
    "            Spectrum(\n",
    "                eleceng, lowengelec_tf[i,j,:], spec_type='N', \n",
    "                rs = rs, in_eng = in_eng\n",
    "            ) for (j, rs) in enumerate(rs_arr)\n",
    "        ] for (i, in_eng) in enumerate(photeng_high)\n",
    "    ] for lowengelec_tf in tqdm(new_lowengelec_tf_raw)\n",
    "]\n"
   ]
  },
  {
   "cell_type": "markdown",
   "metadata": {},
   "source": [
    "Finally, we can construct the `TransferFuncList` from this."
   ]
  },
  {
   "cell_type": "code",
   "execution_count": null,
   "metadata": {},
   "outputs": [],
   "source": [
    "tfunclist_photspec_list = [\n",
    "    tflist.TransferFuncList(\n",
    "        [\n",
    "            tf.TransFuncAtEnergy(spec_arr, dlnz=0.001)\n",
    "            for spec_arr in photspec_xe\n",
    "        ]\n",
    "    ) for photspec_xe in tqdm(photspec_list)\n",
    "]\n",
    "\n",
    "tfunclist_lowengphotspec_list = [\n",
    "    tflist.TransferFuncList(\n",
    "        [\n",
    "            tf.TransFuncAtEnergy(spec_arr, dlnz=0.001)\n",
    "            for spec_arr in lowengphotspec_xe\n",
    "        ]\n",
    "    ) for lowengphotspec_xe in tqdm(lowengphotspec_list)\n",
    "]\n",
    "    \n",
    "\n",
    "tfunclist_lowengelecspec_list = [\n",
    "    tflist.TransferFuncList(\n",
    "        [\n",
    "            tf.TransFuncAtEnergy(spec_arr, dlnz=0.001)\n",
    "            for spec_arr in lowengelecspec_xe\n",
    "        ]\n",
    "    ) for lowengelecspec_xe in tqdm(lowengelecspec_list)\n",
    "]"
   ]
  },
  {
   "cell_type": "markdown",
   "metadata": {},
   "source": [
    "We will now transpose all of the `TransferFuncList` objects so that they are now all of type `'rs'`."
   ]
  },
  {
   "cell_type": "code",
   "execution_count": null,
   "metadata": {},
   "outputs": [],
   "source": [
    "for tflist_hep, tflist_lep, tflist_lee in zip(\n",
    "    tfunclist_photspec_list, tfunclist_lowengphotspec_list, tfunclist_lowengelecspec_list):\n",
    "    tflist_hep.transpose()\n",
    "    tflist_lep.transpose()\n",
    "    tflist_lee.transpose()\n",
    "    for i, tf_hep, tf_lep, tf_lee in zip(np.arange(327), tflist_hep, tflist_lep, tflist_lee):\n",
    "        if np.any(np.isnan(tf_hep._grid_vals)):\n",
    "            print(np.where(np.isnan(tf_hep._grid_vals)),'here!')\n",
    "        if np.any(np.isnan(tf_lep._grid_vals)):\n",
    "            print(np.where(np.isnan(tf_lep._grid_vals)),'here1!')\n",
    "        if np.any(np.isnan(tf_lee._grid_vals)):\n",
    "            print(np.where(np.isnan(tf_lee._grid_vals)),'here2!')\n",
    "        \n",
    "        tf_hep._grid_vals[np.where(tf_hep.grid_vals < 0)] = 1e-100\n",
    "        tf_lep._grid_vals[np.where(tf_lep.grid_vals < 0)] = 1e-100\n",
    "        tf_lee._grid_vals[np.where(tf_lee.grid_vals < 0)] = 1e-100"
   ]
  },
  {
   "cell_type": "code",
   "execution_count": null,
   "metadata": {},
   "outputs": [],
   "source": [
    "tfunclist_photspec_list[0].rs"
   ]
  },
  {
   "cell_type": "code",
   "execution_count": null,
   "metadata": {},
   "outputs": [],
   "source": [
    "test = tfunclist_photspec_list[-1][-1]\n",
    "# print(test.rs)\n",
    "\n",
    "plt.figure()\n",
    "\n",
    "ax = plt.gca()\n",
    "\n",
    "# print(test.in_eng[114])\n",
    "test.plot(ax, step=5)\n",
    "\n",
    "# test.plot(ax, ind=114, indtype='ind')\n",
    "\n",
    "# test.plot(ax, ind=(20,25), step=1)\n",
    "# test.plot(ax, ind=(48, 51), step=1)\n",
    "\n",
    "ax.loglog()\n",
    "\n",
    "# plt.axis([3e3, 1e5, 1e-26, 1e3])"
   ]
  },
  {
   "cell_type": "code",
   "execution_count": null,
   "metadata": {},
   "outputs": [],
   "source": [
    "ind = 220\n",
    "# print(test.in_eng)\n",
    "print(test.in_eng[ind])\n",
    "print(np.log10(test.in_eng[ind]))\n",
    "print(np.dot(test[ind].N,test[ind].eng))\n",
    "print(test[ind].toteng())\n",
    "print(test.in_eng[ind]/test[ind].toteng())"
   ]
  },
  {
   "cell_type": "code",
   "execution_count": null,
   "metadata": {},
   "outputs": [],
   "source": [
    "test = tfunclist_lowengphotspec_list[-1][-1]\n",
    "\n",
    "plt.figure()\n",
    "\n",
    "ax = plt.gca()\n",
    "\n",
    "test.plot(ax, step=5)\n",
    "\n",
    "ax.set_xscale('log')\n",
    "ax.set_yscale('log')\n",
    "plt.axis([1e-4, 5e12, 1e-42, 3e2])"
   ]
  },
  {
   "cell_type": "code",
   "execution_count": null,
   "metadata": {},
   "outputs": [],
   "source": [
    "test = tfunclist_lowengelecspec_list[-1][-1]\n",
    "\n",
    "plt.figure()\n",
    "\n",
    "ax = plt.gca()\n",
    "\n",
    "test.plot(ax,step=5)\n",
    "\n",
    "# test.plot(ax, ind=(0, 326), step=1)\n",
    "# test.plot(ax, ind=np.array([50]))\n",
    "ax.set_xscale('log')\n",
    "ax.set_yscale('log')\n",
    "plt.axis([1e-1, 4e3, 1e-12, 1e2])"
   ]
  },
  {
   "cell_type": "code",
   "execution_count": null,
   "metadata": {},
   "outputs": [],
   "source": [
    "tfunclist_lowengelecspec_list[-1][0].in_eng[76]"
   ]
  },
  {
   "cell_type": "markdown",
   "metadata": {},
   "source": [
    "Save the transfer functions."
   ]
  },
  {
   "cell_type": "code",
   "execution_count": null,
   "metadata": {
    "scrolled": false
   },
   "outputs": [],
   "source": [
    "len(tfunclist_photspec_list)"
   ]
  },
  {
   "cell_type": "code",
   "execution_count": null,
   "metadata": {},
   "outputs": [],
   "source": [
    "def save_as_pickled_object(obj, filepath):\n",
    "    \"\"\"\n",
    "    This is a defensive way to write pickle.write, allowing for very large files on all platforms\n",
    "    \"\"\"\n",
    "    max_bytes = 2**31 - 1\n",
    "    bytes_out = pickle.dumps(obj)\n",
    "    n_bytes = sys.getsizeof(bytes_out)\n",
    "    with open(filepath, 'wb') as f_out:\n",
    "        for idx in range(0, n_bytes, max_bytes):\n",
    "            f_out.write(bytes_out[idx:idx+max_bytes])"
   ]
  },
  {
   "cell_type": "code",
   "execution_count": null,
   "metadata": {},
   "outputs": [],
   "source": [
    "direc = \"/Users/hongwan/Dropbox (MIT)/Photon Deposition/tflists/complete/\"\n",
    "direc = \"/home/gridgway/Desktop/DH_Data/\"\n",
    "\n",
    "# for complete_coarse\n",
    "\n",
    "# pickle.dump(tfunclist_photspec_list, \n",
    "#            open(\"/Users/hongwan/Dropbox (MIT)/Photon Deposition/tflists/tfunclist_photspec_60eV_injE_complete_rs_30_xe_2pts.raw\", \"wb\")\n",
    "#            )\n",
    "\n",
    "# pickle.dump(tfunclist_lowengphotspec_list, \n",
    "#            open(\"/Users/hongwan/Dropbox (MIT)/Photon Deposition/tflists/tfunclist_lowengphotspec_60eV_injE_complete_rs_30_xe_2pts.raw\", \"wb\")\n",
    "#            )\n",
    "\n",
    "# pickle.dump(tfunclist_lowengelecspec_list, \n",
    "#            open(\"/Users/hongwan/Dropbox (MIT)/Photon Deposition/tflists/tfunclist_lowengelecspec_60eV_injE_complete_rs_30_xe_2pts.raw\", \"wb\")\n",
    "#            )\n",
    "\n",
    "# pickle.dump(\n",
    "#     new_cmbloss_raw, \n",
    "#     open(\"/Users/hongwan/Dropbox (MIT)/Photon Deposition/tflists/CMB_engloss_60eV_injE_complete_rs_30_xe_2pts.raw\", \"wb\")       \n",
    "#            )\n",
    "\n",
    "# pickle.dump(\n",
    "#     new_highdeposited_raw, \n",
    "#     open(\"/Users/hongwan/Dropbox (MIT)/Photon Deposition/tflists/highdeposited_60eV_injE_complete_rs_30_xe_2pts.raw\", \"wb\")       \n",
    "#            )\n",
    "\n",
    "# pickle.dump(tfunclist_photspec_list, open(direc+\"tfunclist_photspec_60eV_complete_post1700_xHe0.raw\", \"wb\"))\n",
    "\n",
    "save_as_pickled_object(tfunclist_photspec_list, \"/home/gridgway/Desktop/DH_Data/tfunclist_photspec_60eV_complete_post1700_xHe0.raw\")\n",
    "\n",
    "# pickle.dump(tfunclist_lowengphotspec_list, \n",
    "#            open(direc+\"tfunclist_lowengphotspec_60eV_complete_post1700_xHe0.raw\", \"wb\")\n",
    "#            )\n",
    "\n",
    "save_as_pickled_object(tfunclist_lowengphotspec_list,\"/home/gridgway/Desktop/DH_Data/tfunclist_lowengphotspec_60eV_complete_post1700_xHe0.raw\")\n",
    "\n",
    "# pickle.dump(tfunclist_lowengelecspec_list, \n",
    "#            open(direc+\"tfunclist_lowengelecspec_60eV_complete_post1700_xHe0.raw\", \"wb\")\n",
    "#            )\n",
    "\n",
    "save_as_pickled_object(tfunclist_lowengelecspec_list,\"/home/gridgway/Desktop/DH_Data/tfunclist_lowengelecspec_60eV_complete_post1700_xHe0.raw\")\n",
    "\n",
    "# pickle.dump(\n",
    "#     new_cmbloss_raw, \n",
    "#     open(direc+\"CMB_engloss_60eV_complete_post1700_xHe0.raw\", \"wb\")       \n",
    "#            )\n",
    "\n",
    "save_as_pickled_object(new_cmbloss_raw,\"/home/gridgway/Desktop/DH_Data/CMB_engloss_60eV_complete_post1700_xHe0.raw\")\n",
    "\n",
    "# pickle.dump(\n",
    "#     new_highdeposited_raw, \n",
    "#     open(direc+\"highdeposited_60eV_complete_post1700_xHe0.raw\", \"wb\")       \n",
    "#            )\n",
    "\n",
    "save_as_pickled_object(new_highdeposited_raw,\"/home/gridgway/Desktop/DH_Data/highdeposited_60eV_complete_post1700_xHe0.raw\")\n",
    "\n",
    "########################################################\n",
    "########################################################\n",
    "\n",
    "# for z=31 test one xe.\n",
    "\n",
    "# pickle.dump(tfunclist_photspec_list, \n",
    "#            open(\"/Users/hongwan/Dropbox (MIT)/Photon Deposition/tfunclist_photspec_60eV_list_new_fixed_binning.raw\", \"wb\")\n",
    "#            )\n",
    "\n",
    "# pickle.dump(tfunclist_lowengphotspec_list, \n",
    "#            open(\"/Users/hongwan/Dropbox (MIT)/Photon Deposition/tfunclist_lowengphotspec_60eV_list_new_fixed_binning.raw\", \"wb\")\n",
    "#            )\n",
    "\n",
    "# pickle.dump(tfunclist_lowengelecspec_list, \n",
    "#            open(\"/Users/hongwan/Dropbox (MIT)/Photon Deposition/tfunclist_lowengelecspec_60eV_list_new_fixed_binning.raw\", \"wb\")\n",
    "#            )\n",
    "\n",
    "# pickle.dump(\n",
    "#     new_cmbloss_raw, \n",
    "#     open(\"/Users/hongwan/Dropbox (MIT)/Photon Deposition/CMB_engloss_60eV_list_new_fixed_binning.raw\", \"wb\")       \n",
    "#            )"
   ]
  },
  {
   "cell_type": "code",
   "execution_count": null,
   "metadata": {},
   "outputs": [],
   "source": [
    "test = tfunclist_photspec_list[-9][0]\n",
    "print(test.in_eng[12])\n",
    "print(np.log10(test.in_eng[12]))\n",
    "# print(test.rs)\n",
    "\n",
    "plt.figure()\n",
    "ax = plt.gca()\n",
    "\n",
    "ax.loglog()\n",
    "\n",
    "plt.axis([1e1, 1e3, 1e-10, 1])\n",
    "plt.axvline(x=163.153)\n",
    "\n",
    "for i in np.arange(5):\n",
    "    tfunclist_photspec_list[i][0].plot(ax, ind=12, indtype='ind')"
   ]
  }
 ],
 "metadata": {
  "kernelspec": {
   "display_name": "Python 3",
   "language": "python",
   "name": "python3"
  },
  "language_info": {
   "codemirror_mode": {
    "name": "ipython",
    "version": 3
   },
   "file_extension": ".py",
   "mimetype": "text/x-python",
   "name": "python",
   "nbconvert_exporter": "python",
   "pygments_lexer": "ipython3",
   "version": "3.6.5"
  }
 },
 "nbformat": 4,
 "nbformat_minor": 2
}
