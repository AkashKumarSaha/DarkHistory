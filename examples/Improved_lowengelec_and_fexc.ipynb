{
 "cells": [
  {
   "cell_type": "code",
   "execution_count": 4,
   "metadata": {
    "scrolled": true
   },
   "outputs": [
    {
     "name": "stdout",
     "output_type": "stream",
     "text": [
      "The autoreload extension is already loaded. To reload it, use:\n",
      "  %reload_ext autoreload\n"
     ]
    }
   ],
   "source": [
    "%load_ext autoreload\n",
    "import sys\n",
    "sys.path.append(\"..\")"
   ]
  },
  {
   "cell_type": "code",
   "execution_count": 5,
   "metadata": {},
   "outputs": [],
   "source": [
    "%matplotlib inline"
   ]
  },
  {
   "cell_type": "code",
   "execution_count": 6,
   "metadata": {},
   "outputs": [],
   "source": [
    "%autoreload\n",
    "\n",
    "import matplotlib\n",
    "matplotlib.rc_file('matplotlibrc')\n",
    "import matplotlib.pyplot as plt\n",
    "\n",
    "import numpy as np\n",
    "\n",
    "import darkhistory.physics as phys\n",
    "\n",
    "import main_dm_baryon_scattering as main\n",
    "\n",
    "from tqdm import tqdm_notebook as tqdm\n",
    "\n",
    "import pickle"
   ]
  },
  {
   "cell_type": "code",
   "execution_count": 8,
   "metadata": {
    "collapsed": true
   },
   "outputs": [
    {
     "ename": "OSError",
     "evalue": "/Users/gridgway/Downloads/dataverse_files/CMB_limits_elec_decay.csv not found.",
     "output_type": "error",
     "traceback": [
      "\u001b[0;31m---------------------------------------------------------------------------\u001b[0m",
      "\u001b[0;31mOSError\u001b[0m                                   Traceback (most recent call last)",
      "\u001b[0;32m<ipython-input-8-5305996f7f4b>\u001b[0m in \u001b[0;36m<module>\u001b[0;34m\u001b[0m\n\u001b[1;32m      3\u001b[0m \u001b[0;32mfrom\u001b[0m \u001b[0mscipy\u001b[0m\u001b[0;34m.\u001b[0m\u001b[0minterpolate\u001b[0m \u001b[0;32mimport\u001b[0m \u001b[0minterp2d\u001b[0m\u001b[0;34m\u001b[0m\u001b[0;34m\u001b[0m\u001b[0m\n\u001b[1;32m      4\u001b[0m \u001b[0;34m\u001b[0m\u001b[0m\n\u001b[0;32m----> 5\u001b[0;31m \u001b[0mdecay_elec_CMB_raw\u001b[0m \u001b[0;34m=\u001b[0m \u001b[0mnp\u001b[0m\u001b[0;34m.\u001b[0m\u001b[0mloadtxt\u001b[0m\u001b[0;34m(\u001b[0m\u001b[0mconfig\u001b[0m\u001b[0;34m.\u001b[0m\u001b[0mdata_path\u001b[0m\u001b[0;34m+\u001b[0m\u001b[0;34m'/CMB_limits_elec_decay.csv'\u001b[0m\u001b[0;34m,\u001b[0m \u001b[0mdelimiter\u001b[0m\u001b[0;34m=\u001b[0m\u001b[0;34m','\u001b[0m\u001b[0;34m)\u001b[0m\u001b[0;34m\u001b[0m\u001b[0;34m\u001b[0m\u001b[0m\n\u001b[0m\u001b[1;32m      6\u001b[0m \u001b[0mdecay_phot_CMB_raw\u001b[0m \u001b[0;34m=\u001b[0m \u001b[0mnp\u001b[0m\u001b[0;34m.\u001b[0m\u001b[0mloadtxt\u001b[0m\u001b[0;34m(\u001b[0m\u001b[0mconfig\u001b[0m\u001b[0;34m.\u001b[0m\u001b[0mdata_path\u001b[0m\u001b[0;34m+\u001b[0m\u001b[0;34m'/CMB_limits_phot_decay.csv'\u001b[0m\u001b[0;34m,\u001b[0m \u001b[0mdelimiter\u001b[0m\u001b[0;34m=\u001b[0m\u001b[0;34m','\u001b[0m\u001b[0;34m)\u001b[0m\u001b[0;34m\u001b[0m\u001b[0;34m\u001b[0m\u001b[0m\n\u001b[1;32m      7\u001b[0m \u001b[0;34m\u001b[0m\u001b[0m\n",
      "\u001b[0;32m/usr/local/lib/python3.7/site-packages/numpy/lib/npyio.py\u001b[0m in \u001b[0;36mloadtxt\u001b[0;34m(fname, dtype, comments, delimiter, converters, skiprows, usecols, unpack, ndmin, encoding, max_rows)\u001b[0m\n\u001b[1;32m    953\u001b[0m             \u001b[0mfname\u001b[0m \u001b[0;34m=\u001b[0m \u001b[0mos_fspath\u001b[0m\u001b[0;34m(\u001b[0m\u001b[0mfname\u001b[0m\u001b[0;34m)\u001b[0m\u001b[0;34m\u001b[0m\u001b[0;34m\u001b[0m\u001b[0m\n\u001b[1;32m    954\u001b[0m         \u001b[0;32mif\u001b[0m \u001b[0m_is_string_like\u001b[0m\u001b[0;34m(\u001b[0m\u001b[0mfname\u001b[0m\u001b[0;34m)\u001b[0m\u001b[0;34m:\u001b[0m\u001b[0;34m\u001b[0m\u001b[0;34m\u001b[0m\u001b[0m\n\u001b[0;32m--> 955\u001b[0;31m             \u001b[0mfh\u001b[0m \u001b[0;34m=\u001b[0m \u001b[0mnp\u001b[0m\u001b[0;34m.\u001b[0m\u001b[0mlib\u001b[0m\u001b[0;34m.\u001b[0m\u001b[0m_datasource\u001b[0m\u001b[0;34m.\u001b[0m\u001b[0mopen\u001b[0m\u001b[0;34m(\u001b[0m\u001b[0mfname\u001b[0m\u001b[0;34m,\u001b[0m \u001b[0;34m'rt'\u001b[0m\u001b[0;34m,\u001b[0m \u001b[0mencoding\u001b[0m\u001b[0;34m=\u001b[0m\u001b[0mencoding\u001b[0m\u001b[0;34m)\u001b[0m\u001b[0;34m\u001b[0m\u001b[0;34m\u001b[0m\u001b[0m\n\u001b[0m\u001b[1;32m    956\u001b[0m             \u001b[0mfencoding\u001b[0m \u001b[0;34m=\u001b[0m \u001b[0mgetattr\u001b[0m\u001b[0;34m(\u001b[0m\u001b[0mfh\u001b[0m\u001b[0;34m,\u001b[0m \u001b[0;34m'encoding'\u001b[0m\u001b[0;34m,\u001b[0m \u001b[0;34m'latin1'\u001b[0m\u001b[0;34m)\u001b[0m\u001b[0;34m\u001b[0m\u001b[0;34m\u001b[0m\u001b[0m\n\u001b[1;32m    957\u001b[0m             \u001b[0mfh\u001b[0m \u001b[0;34m=\u001b[0m \u001b[0miter\u001b[0m\u001b[0;34m(\u001b[0m\u001b[0mfh\u001b[0m\u001b[0;34m)\u001b[0m\u001b[0;34m\u001b[0m\u001b[0;34m\u001b[0m\u001b[0m\n",
      "\u001b[0;32m/usr/local/lib/python3.7/site-packages/numpy/lib/_datasource.py\u001b[0m in \u001b[0;36mopen\u001b[0;34m(path, mode, destpath, encoding, newline)\u001b[0m\n\u001b[1;32m    264\u001b[0m \u001b[0;34m\u001b[0m\u001b[0m\n\u001b[1;32m    265\u001b[0m     \u001b[0mds\u001b[0m \u001b[0;34m=\u001b[0m \u001b[0mDataSource\u001b[0m\u001b[0;34m(\u001b[0m\u001b[0mdestpath\u001b[0m\u001b[0;34m)\u001b[0m\u001b[0;34m\u001b[0m\u001b[0;34m\u001b[0m\u001b[0m\n\u001b[0;32m--> 266\u001b[0;31m     \u001b[0;32mreturn\u001b[0m \u001b[0mds\u001b[0m\u001b[0;34m.\u001b[0m\u001b[0mopen\u001b[0m\u001b[0;34m(\u001b[0m\u001b[0mpath\u001b[0m\u001b[0;34m,\u001b[0m \u001b[0mmode\u001b[0m\u001b[0;34m,\u001b[0m \u001b[0mencoding\u001b[0m\u001b[0;34m=\u001b[0m\u001b[0mencoding\u001b[0m\u001b[0;34m,\u001b[0m \u001b[0mnewline\u001b[0m\u001b[0;34m=\u001b[0m\u001b[0mnewline\u001b[0m\u001b[0;34m)\u001b[0m\u001b[0;34m\u001b[0m\u001b[0;34m\u001b[0m\u001b[0m\n\u001b[0m\u001b[1;32m    267\u001b[0m \u001b[0;34m\u001b[0m\u001b[0m\n\u001b[1;32m    268\u001b[0m \u001b[0;34m\u001b[0m\u001b[0m\n",
      "\u001b[0;32m/usr/local/lib/python3.7/site-packages/numpy/lib/_datasource.py\u001b[0m in \u001b[0;36mopen\u001b[0;34m(self, path, mode, encoding, newline)\u001b[0m\n\u001b[1;32m    622\u001b[0m                                       encoding=encoding, newline=newline)\n\u001b[1;32m    623\u001b[0m         \u001b[0;32melse\u001b[0m\u001b[0;34m:\u001b[0m\u001b[0;34m\u001b[0m\u001b[0;34m\u001b[0m\u001b[0m\n\u001b[0;32m--> 624\u001b[0;31m             \u001b[0;32mraise\u001b[0m \u001b[0mIOError\u001b[0m\u001b[0;34m(\u001b[0m\u001b[0;34m\"%s not found.\"\u001b[0m \u001b[0;34m%\u001b[0m \u001b[0mpath\u001b[0m\u001b[0;34m)\u001b[0m\u001b[0;34m\u001b[0m\u001b[0;34m\u001b[0m\u001b[0m\n\u001b[0m\u001b[1;32m    625\u001b[0m \u001b[0;34m\u001b[0m\u001b[0m\n\u001b[1;32m    626\u001b[0m \u001b[0;34m\u001b[0m\u001b[0m\n",
      "\u001b[0;31mOSError\u001b[0m: /Users/gridgway/Downloads/dataverse_files/CMB_limits_elec_decay.csv not found."
     ]
    }
   ],
   "source": [
    "import config\n",
    "from scipy.interpolate import interp1d\n",
    "from scipy.interpolate import interp2d\n",
    "\n",
    "decay_elec_CMB_raw = np.loadtxt(config.data_path+'/CMB_limits_elec_decay.csv', delimiter=',')\n",
    "decay_phot_CMB_raw = np.loadtxt(config.data_path+'/CMB_limits_phot_decay.csv', delimiter=',')\n",
    "\n",
    "decay_elec_CMB = interp1d(np.transpose(decay_elec_CMB_raw)[0,:], np.transpose(decay_elec_CMB_raw)[1,:])\n",
    "decay_phot_CMB = interp1d(np.transpose(decay_phot_CMB_raw)[0,:], np.transpose(decay_phot_CMB_raw)[1,:])\n",
    "\n",
    "def xsec_bound_elec_CMB(mDM, DM_process):\n",
    "    if DM_process == 'swave':\n",
    "        return 4.1e-28*(mDM*1e-9)/f_elec_CMB(np.log10(mDM-phys.me), np.log10(601))[0]\n",
    "    elif DM_process == 'decay':\n",
    "        return np.array([decay_elec_CMB(mDM*1e-9)])[0]\n",
    "\n",
    "def xsec_bound_phot_CMB(mDM, DM_process):\n",
    "    if DM_process == 'swave':\n",
    "        return 4.1e-28*(mDM*1e-9)/f_phot_CMB(np.log10(mDM), np.log10(601))[0]\n",
    "    elif DM_process == 'decay':\n",
    "        return np.array([decay_phot_CMB(mDM*1e-9)])[0]"
   ]
  },
  {
   "cell_type": "code",
   "execution_count": 5,
   "metadata": {},
   "outputs": [],
   "source": [
    "struct_boost = phys.struct_boost_func(model='einasto_subs')\n",
    "struct_boost_NFW = phys.struct_boost_func(model='NFW_no_subs')\n",
    "struct_boost_pwave = phys.struct_boost_func(model='pwave_NFW_no_subs')"
   ]
  },
  {
   "cell_type": "markdown",
   "metadata": {},
   "source": [
    "# Improved f_exc"
   ]
  },
  {
   "cell_type": "code",
   "execution_count": null,
   "metadata": {},
   "outputs": [],
   "source": [
    "mDM=1e6\n",
    "lifetime=3e25\n",
    "sigmav=3e-26\n",
    "datums = main.evolve(\n",
    "    DM_process='decay', mDM=mDM, primary='phot_delta',\n",
    "    start_rs = 3000, sigmav=sigmav, lifetime=lifetime,\n",
    "    coarsen_factor=4, backreaction=False,\n",
    "    struct_boost=struct_boost_pwave,\n",
    "    end_rs=4.01\n",
    ")"
   ]
  },
  {
   "cell_type": "code",
   "execution_count": null,
   "metadata": {},
   "outputs": [],
   "source": [
    "import darkhistory.low_energy.lowE_electrons as lowE_elec\n",
    "# import darkhistory.low_energy.lowE_photons as lowE_phot\n",
    "# import darkhistory.low_energy.lowE_deposition as lowE\n",
    "MEDEA_interp = lowE_elec.make_interpolator()"
   ]
  },
  {
   "cell_type": "code",
   "execution_count": null,
   "metadata": {},
   "outputs": [],
   "source": [
    "# elec_exc = [lowE_elec.compute_fs(MEDEA_interp, \n",
    "#            datums['lowengelec'][i], \n",
    "#            datums['x'][i,0], \n",
    "#            phys.inj_rate('pwave', rs_list[i], mDM=1e8, sigmav=3e-24), \n",
    "#            4*.001/phys.hubble(rs_list[i]))[2]\n",
    "#  for i in np.arange(len(rs_list))]\n",
    "\n",
    "phot_exc = [lowE_phot.compute_fs( \n",
    "           datums['lowengphot'][i],\n",
    "           np.array([\n",
    "                1. - phys.xHII_std(rs_list[i]),\n",
    "                phys.chi - phys.xHeII_std(rs_list[i]),\n",
    "                phys.xHeII_std(rs_list[i])\n",
    "            ]), \n",
    "           phys.inj_rate('decay', rs_list[i], mDM=mDM, sigmav=sigmav, lifetime=lifetime), \n",
    "           4*.001/phys.hubble(rs_list[i]), method='old')[2]\n",
    " for i in np.arange(len(rs_list))]\n",
    "\n",
    "# tot_exc = [lowE.compute_fs(MEDEA_interp, \n",
    "#            datums['lowengelec'][i], \n",
    "#            datums['lowengphot'][i], \n",
    "#            np.array([\n",
    "#                 1. - phys.xHII_std(rs_list[i]),\n",
    "#                 phys.chi - phys.xHeII_std(rs_list[i]),\n",
    "#                 phys.xHeII_std(rs_list[i])\n",
    "#             ]), \n",
    "#            phys.inj_rate('pwave', rs_list[i], mDM=1e9, sigmav=3e-24), \n",
    "#            4*.001/phys.hubble(rs_list[i]), \n",
    "#            [0,0,0,0,0], cmbloss=0, \n",
    "#            method='no_He', \n",
    "#            separate_higheng=True, \n",
    "#            cross_check=False)[0][2]\n",
    "# for i in np.arange(len(rs_list))]\n",
    "\n",
    "# tot_exc = [lowE.compute_fs(MEDEA_interp, \n",
    "#            datums['lowengelec'][i], \n",
    "#            datums['x'][i,0], \n",
    "#            phys.inj_rate('pwave', rs_list[i], mDM=1e8, sigmav=3e-24), \n",
    "#            4*.001/phys.hubble(rs_list[i]))[2]\n",
    "#  for i in np.arange(len(rs_list))]"
   ]
  },
  {
   "cell_type": "code",
   "execution_count": null,
   "metadata": {},
   "outputs": [],
   "source": [
    "fexc = datums['f']['low']['exc']+0*datums['f']['high']['exc']\n",
    "rs_list = datums['lowengphot'].rs\n",
    "nrms = phys.nB * rs_list**3 / (4*.001/phys.hubble(rs_list)) /(\n",
    "    phys.inj_rate('decay', rs_list, mDM=mDM, sigmav=sigmav, lifetime=lifetime)\n",
    ")\n",
    "fexc2 = datums['lowengphot'].toteng(bound_type='eng',\n",
    "                            bound_arr=np.array([phys.lya_eng,phys.rydberg])\n",
    "                           )*nrms"
   ]
  },
  {
   "cell_type": "code",
   "execution_count": null,
   "metadata": {},
   "outputs": [],
   "source": [
    "plt.figure()\n",
    "ax = plt.gca()\n",
    "plt.axis([4,3e3,1e-4,5])\n",
    "ax.loglog()\n",
    "plt.plot(rs_list,fexc)\n",
    "plt.plot(rs_list,fexc2[0])\n",
    "# plt.plot(rs_list,phys.f_std(1e9,rs_list,'phot','pwave',True,'exc'))\n",
    "# plt.plot(rs_list,fexc2[0]+elec_exc)\n",
    "# plt.plot(rs_list,tot_exc)\n",
    "plt.plot(rs_list,phot_exc)"
   ]
  },
  {
   "cell_type": "code",
   "execution_count": null,
   "metadata": {},
   "outputs": [],
   "source": [
    "plt.figure()\n",
    "ax = plt.gca()\n",
    "plt.axis([4,3e3,1e-6,5])\n",
    "ax.loglog()\n",
    "plt.plot(rs_list,fexc)\n",
    "plt.plot(rs_list,fexc2[0])\n",
    "# plt.plot(rs_list,phys.f_std(1e9,rs_list,'phot','pwave',True,'exc'))\n",
    "# plt.plot(rs_list,fexc2[0]+elec_exc)\n",
    "# plt.plot(rs_list,tot_exc)\n",
    "plt.plot(rs_list,phot_exc)"
   ]
  }
 ],
 "metadata": {
  "cite2c": {
   "citations": {
    "6232408/3KKTSI4D": {
     "DOI": "10.1103/PhysRevD.94.063507",
     "abstract": "Dark matter annihilation or decay could have a significant impact on the ionization and thermal history of the universe. In this paper, we study the potential contribution of dark matter annihilation (s-wave- or p-wave-dominated) or decay to cosmic reionization, via the production of electrons, positrons and photons. We map out the possible perturbations to the ionization and thermal histories of the universe due to dark matter processes, over a broad range of velocity-averaged annihilation cross sections/decay lifetimes and dark matter masses. We have employed recent numerical studies of the efficiency with which annihilation/decay products induce heating and ionization in the intergalactic medium, and in this work extended them down to a redshift of 1+z=4 for two different reionization scenarios. We also improve on earlier studies by using the results of detailed structure formation models of dark matter haloes and subhaloes that are consistent with up-to-date N-body simulations, with estimates on the uncertainties that originate from the smallest scales. We find that for dark matter models that are consistent with experimental constraints, a contribution of more than 10% to the ionization fraction at reionization is disallowed for all annihilation scenarios. Such a contribution is possible only for decays into electron/positron pairs, for light dark matter with mass mχ≲100  MeV, and a decay lifetime τχ∼1024–1025  s.",
     "author": [
      {
       "family": "Liu",
       "given": "Hongwan"
      },
      {
       "family": "Slatyer",
       "given": "Tracy R."
      },
      {
       "family": "Zavala",
       "given": "Jesús"
      }
     ],
     "container-title": "Phys.Rev.",
     "id": "6232408/3KKTSI4D",
     "issue": "6",
     "issued": {
      "day": 8,
      "month": 9,
      "year": 2016
     },
     "page": "063507",
     "page-first": "063507",
     "title": "Contributions to cosmic reionization from dark matter annihilation and decay",
     "type": "article-journal",
     "volume": "D94"
    },
    "6232408/5QGGVCIF": {
     "URL": "https://journals.aps.org/prd/abstract/10.1103/PhysRevD.91.063003",
     "accessed": {
      "day": 18,
      "month": 3,
      "year": 2019
     },
     "id": "6232408/5QGGVCIF",
     "title": "Phys. Rev. D 91, 063003 (2015) - A tale of tails: Dark matter interpretations of the Fermi GeV excess in light of background model systematics",
     "type": "webpage"
    },
    "6232408/DNWD4W9M": {
     "URL": "https://arxiv.org/abs/1903.02549v1",
     "abstract": "An excess of $\\sim$10-20 GeV cosmic-ray antiprotons has been identified in\nthe spectrum reported by the AMS-02 Collaboration. The systematic uncertainties\nassociated with this signal, however, have made it difficult to interpret these\nresults. In this paper, we revisit the uncertainties associated with the time,\ncharge and energy-dependent effects of solar modulation, the antiproton\nproduction cross section, and interstellar cosmic-ray propagation. After\naccounting for these uncertainties, we confirm the presence of a 4.7$σ$\nantiproton excess, consistent with that arising from a $m_χ \\approx 64-88$\nGeV dark matter particle annihilating to $b\\bar{b}$ with a cross section of\n$σv \\simeq (0.8-5.2) \\times 10^{-26}$ cm$^{3}$/s. If we allow for the\nstochastic acceleration of secondary antiprotons in supernova remnants, the\ndata continues to favor a similar range of dark matter models ($m_χ\\approx\n46-94$ GeV, $σv \\approx (0.7-3.8)\\times 10^{-26}$ cm$^3/$s) with a\nsignificance of 3.3$σ$. The same range of dark matter models that are\nfavored to explain the antiproton excess can also accommodate the excess of\nGeV-scale gamma rays observed from the Galactic Center.",
     "accessed": {
      "day": 18,
      "month": 3,
      "year": 2019
     },
     "author": [
      {
       "family": "Cholis",
       "given": "Ilias"
      },
      {
       "family": "Linden",
       "given": "Tim"
      },
      {
       "family": "Hooper",
       "given": "Dan"
      }
     ],
     "id": "6232408/DNWD4W9M",
     "issued": {
      "day": 6,
      "month": 3,
      "year": 2019
     },
     "language": "en",
     "shortTitle": "A Robust Excess in the Cosmic-Ray Antiproton Spectrum",
     "title": "A Robust Excess in the Cosmic-Ray Antiproton Spectrum: Implications for Annihilating Dark Matter",
     "title-short": "A Robust Excess in the Cosmic-Ray Antiproton Spectrum",
     "type": "article-journal"
    },
    "6232408/LH5Z9TEB": {
     "DOI": "10.1088/1475-7516/2014/11/024",
     "URL": "https://doi.org/10.1088%2F1475-7516%2F2014%2F11%2F024",
     "abstract": "Observations of the redshifted 21 cm line from neutral hydrogen will open a new window on the early Universe. By influencing the thermal and ionization history of the intergalactic medium (IGM), annihilating dark matter (DM) can leave a detectable imprint in the 21 cm signal. Building on the publicly available 21cmFAST code, we compute the 21 cm signal for a 10 GeV WIMP DM candidate. The most pronounced role of DM annihilations is in heating the IGM earlier and more uniformly than astrophysical sources of X-rays. This leaves several unambiguous, qualitative signatures in the redshift evolution of the large-scale (k ≃ 0.1 Mpc-1) 21 cm power amplitude: (i) the local maximum (peak) associated with IGM heating can be lower than the other maxima; (ii) the heating peak can occur while the IGM is in emission against the cosmic microwave background (CMB); (iii) there can be a dramatic drop in power (a global minimum) corresponding to the epoch when the IGM temperature is comparable to the CMB temperature. These signatures are robust to astrophysical uncertainties, and will be easily detectable with second generation interferometers. We also briefly show that decaying warm dark matter has a negligible role in heating the IGM.",
     "accessed": {
      "day": 17,
      "month": 3,
      "year": 2019
     },
     "author": [
      {
       "family": "Evoli",
       "given": "C."
      },
      {
       "family": "Mesinger",
       "given": "A."
      },
      {
       "family": "Ferrara",
       "given": "A."
      }
     ],
     "container-title": "Journal of Cosmology and Astroparticle Physics",
     "container-title-short": "J. Cosmol. Astropart. Phys.",
     "id": "6232408/LH5Z9TEB",
     "issue": "11",
     "issued": {
      "month": 11,
      "year": 2014
     },
     "journalAbbreviation": "J. Cosmol. Astropart. Phys.",
     "language": "en",
     "page": "024–024",
     "page-first": "024",
     "title": "Unveiling the nature of dark matter with high redshift 21 cm line experiments",
     "type": "article-journal",
     "volume": "2014"
    }
   }
  },
  "kernelspec": {
   "display_name": "Python 3",
   "language": "python",
   "name": "python3"
  },
  "language_info": {
   "codemirror_mode": {
    "name": "ipython",
    "version": 3
   },
   "file_extension": ".py",
   "mimetype": "text/x-python",
   "name": "python",
   "nbconvert_exporter": "python",
   "pygments_lexer": "ipython3",
   "version": "3.7.4"
  },
  "toc": {
   "base_numbering": 1,
   "nav_menu": {},
   "number_sections": true,
   "sideBar": true,
   "skip_h1_title": false,
   "title_cell": "Table of Contents",
   "title_sidebar": "Contents",
   "toc_cell": false,
   "toc_position": {},
   "toc_section_display": true,
   "toc_window_display": false
  }
 },
 "nbformat": 4,
 "nbformat_minor": 2
}
