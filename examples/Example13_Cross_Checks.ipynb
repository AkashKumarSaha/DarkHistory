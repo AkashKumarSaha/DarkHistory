{
 "cells": [
  {
   "cell_type": "code",
   "execution_count": 7,
   "metadata": {},
   "outputs": [
    {
     "name": "stdout",
     "output_type": "stream",
     "text": [
      "The autoreload extension is already loaded. To reload it, use:\n",
      "  %reload_ext autoreload\n"
     ]
    }
   ],
   "source": [
    "%load_ext autoreload\n",
    "import sys\n",
    "sys.path.append(\"..\")\n",
    "\n",
    "#Current Working Directory\n",
    "import os\n",
    "cwd = os.getcwd()\n",
    "\n",
    "from pathlib import Path\n",
    "\n",
    "def tabulate(x, y, f):\n",
    "    \"\"\"Return a table of f(x, y).\"\"\"\n",
    "    return np.vectorize(f)(*np.meshgrid(x, y, sparse=True))"
   ]
  },
  {
   "cell_type": "code",
   "execution_count": 8,
   "metadata": {},
   "outputs": [],
   "source": [
    "%autoreload\n",
    "\n",
    "import matplotlib\n",
    "matplotlib.rc_file('matplotlibrc')\n",
    "import matplotlib.pyplot as plt\n",
    "\n",
    "%matplotlib inline\n",
    "\n",
    "matplotlib.rcParams['figure.figsize'] = [10,10]\n",
    "\n",
    "\n",
    "from astropy.io import fits\n",
    "\n",
    "import numpy as np\n",
    "import copy\n",
    "import pickle\n",
    "\n",
    "import darkhistory.physics as phys\n",
    "import darkhistory.utilities as utils\n",
    "import darkhistory.spec.spectools as spectools\n",
    "import darkhistory.spec.transferfunction as tf\n",
    "import darkhistory.spec.transferfunclist as tflist\n",
    "from darkhistory.spec.spectrum import Spectrum\n",
    "from darkhistory.spec.spectra import Spectra\n",
    "import darkhistory.history.tla as tla\n",
    "\n",
    "from scipy.interpolate import interp1d\n",
    "from scipy.interpolate import interp2d\n",
    "\n",
    "from tqdm import tqdm_notebook as tqdm\n",
    "\n",
    "from darkhistory.electrons.ics.ics_spectrum import ics_spec\n",
    "from darkhistory.electrons.ics.ics_engloss_spectrum import engloss_spec\n",
    "from darkhistory.electrons.ics.ics_cooling import get_ics_cooling_tf\n",
    "\n",
    "from darkhistory.low_energy.lowE_deposition import compute_fs\n",
    "import main\n",
    "\n",
    "from tqdm import tqdm_notebook as tqdm\n",
    "\n",
    "np.set_printoptions(threshold=np.nan)"
   ]
  },
  {
   "cell_type": "markdown",
   "metadata": {},
   "source": [
    "### Plot f contours"
   ]
  },
  {
   "cell_type": "code",
   "execution_count": null,
   "metadata": {},
   "outputs": [],
   "source": [
    "ind = 1500\n",
    "\n",
    "rs_list = [3000*np.exp(-0.001*4*(i)) for i in np.arange(6400/4)]\n",
    "\n",
    "tmp = [f_H_ion(rs_list[ind], Einj)*2.5 for Einj in 10**log10eng[:-1]]\n",
    "\n",
    "print((f_swave_phot[:,ind,0]-tmp)/tmp)\n",
    "\n",
    "plt.figure()\n",
    "ax = plt.gca()\n",
    "ax.set_xscale('log')\n",
    "\n",
    "plt.plot(10**log10eng[:-1], tmp)\n",
    "plt.plot(10**log10eng[:-1], f_swave_phot[:,ind,0])\n",
    "\n",
    "plt.show()"
   ]
  },
  {
   "cell_type": "code",
   "execution_count": 6,
   "metadata": {
    "collapsed": true
   },
   "outputs": [],
   "source": [
    "direc='/Users/GregoryRidgway/Desktop/Dark Matter/DH_Data/'\n",
    "f_swave_phot = pickle.load(open(direc+\"f_swave_phot.p\", \"rb\"))"
   ]
  },
  {
   "cell_type": "code",
   "execution_count": 54,
   "metadata": {},
   "outputs": [],
   "source": [
    "def get_fcontour(inj_type, inj_particle, channel):\n",
    "    if inj_particle is 'elec':\n",
    "        coarsen_factor = 16\n",
    "\n",
    "        if inj_type is 'decay':\n",
    "            f_for_plot = f_decay_elec.copy()\n",
    "            folder='elec_decay/'\n",
    "\n",
    "        elif inj_type is 'swave':\n",
    "            f_for_plot = f_swave_elec.copy()\n",
    "            folder='elec_swave/'\n",
    "    else:\n",
    "        coarsen_factor = 8\n",
    "\n",
    "        if inj_type is 'decay':\n",
    "            f_for_plot = f_decay_phot.copy()\n",
    "            folder='phot_decay/'\n",
    "\n",
    "        elif inj_type is 'swave':\n",
    "            f_for_plot = f_swave_phot.copy()\n",
    "            folder='phot_swave/'\n",
    "    \n",
    "    eng = 10**log10eng[:len(f_for_plot)]\n",
    "    rs_list = [3000*np.exp(-0.001*coarsen_factor*(i)) for i in np.arange(6400/coarsen_factor)]\n",
    "\n",
    "    if channel is 'H_ion':\n",
    "        ind=0\n",
    "        title = r'\\bf{$f_{H ion}$}'\n",
    "    elif channel is 'He_ion':\n",
    "        ind=1\n",
    "        title = r'\\bf{$f_{He ion}$}'\n",
    "    elif channel is 'exc':\n",
    "        ind=2\n",
    "        title = r'\\bf{$f_{exc}$}'\n",
    "    elif channel is 'heat':\n",
    "        ind=3\n",
    "        title = r'\\bf{$f_{heat}$}'\n",
    "    elif channel is 'cont':\n",
    "        ind=4\n",
    "        title = r'\\bf{$f_{cont}$}'\n",
    "\n",
    "    ax = plt.gca()\n",
    "    ax.set_xscale('log')\n",
    "    ax.set_yscale('log')\n",
    "\n",
    "    plt.axis([eng[0], 10**log10eng[-1], 5, 2e3])\n",
    "\n",
    "    levels = np.array([1e-5, 1e-4, 1e-3, 5e-3, 1e-2, 5e-2, 1e-1, 3e-1, 1e0])\n",
    "    if inj_type is 'decay':\n",
    "        if channel is 'He_ion':\n",
    "            if inj_particle is 'phot':\n",
    "                levels = np.array([1e-7, 1e-6, 1e-5, 1e-4, 5e-4, 1e-3, 5e-3, 1e-2, 4e-2])\n",
    "            else:\n",
    "                levels = np.array([1e-6, 1e-5, 5e-5, 1e-4, 5e-4, 1e-3, 5e-3, 1e-2, 4e-2])\n",
    "        elif channel is 'exc':\n",
    "            if inj_particle is 'phot':\n",
    "                levels = np.array([1e-5, 1e-4, 1e-3, 5e-3, 1e-2, 3e-2, 5e-2, 1e-1, 1e-0])\n",
    "            else:\n",
    "                levels = np.array([1e-4, 1e-3, 5e-3, 1e-2, 3e-2, 5e-2, 1e-1, 2e-1, 7e-1])\n",
    "        elif (channel is 'heat') or (channel is 'cont'):\n",
    "            if inj_particle is 'elec':\n",
    "                levels = np.array([1e-5, 1e-4, 1e-3, 1e-2, 5e-2, 1e-1, 3e-1, 5e-1, 1, 2])\n",
    "    elif inj_type is 'swave':\n",
    "        if channel is 'H_ion':\n",
    "            if inj_particle is 'phot':\n",
    "                levels = np.array([1e-3, 1e-2, 1e-1, 2e-1, 5e-1, 1, 5, 1e1, 5e1, 1e2])\n",
    "        elif channel is 'He_ion':\n",
    "            if inj_particle is 'phot':\n",
    "                levels = np.array([5e-5, 1e-4, 1e-3, 5e-3, 1e-2, 5e-2, 1e-1, 5e-1, 2])\n",
    "        elif channel is 'exc':\n",
    "            if inj_particle is 'phot':\n",
    "                levels = np.array([5e-3, 1e-2, 5e-2, 1e-1, 5e-1, 1, 5, 1e1, 1e2, 3e2])\n",
    "        elif channel is 'heat':\n",
    "            if inj_particle is 'phot':\n",
    "                levels = np.array([1e-3, 1e-2, 2e-2, 5e-2, 1e-1, 2e-1, 5e-1, 1, 5, 1e1, 3e1])\n",
    "        elif channel is 'cont':\n",
    "            if inj_particle is 'phot':\n",
    "                levels = np.array([1e-3, 1e-2, 2e-2, 5e-2, 1e-1, 5e-1, 1, 5, 1e1, 5e1, 1e2])\n",
    "\n",
    "    print(len(eng))\n",
    "    print(len(rs_list))\n",
    "    print(f_for_plot.shape)\n",
    "                \n",
    "    f_for_plot[f_for_plot < levels[0]] = levels[0]*(1+.01)\n",
    "    f_for_plot[f_for_plot > levels[-1]] = levels[-1]*(1-.01)\n",
    "    \n",
    "    levels2 = np.exp(np.linspace(np.log(levels[0]),np.log(levels[-1]),100))\n",
    "    cs = ax.contourf(eng,rs_list,\n",
    "                     np.transpose(f_for_plot[:,:,ind]), \n",
    "#                      locator=matplotlib.ticker.LogLocator(), \n",
    "                     norm=matplotlib.colors.LogNorm(),\n",
    "                     levels=levels2,\n",
    "                     cmap=matplotlib.cm.RdBu_r)\n",
    "    ax.contour(eng,rs_list,\n",
    "               np.transpose(f_for_plot[:,:,ind]),  \n",
    "               levels=levels[1:-1],\n",
    "               colors='k',\n",
    "               alpha=.4\n",
    "              )\n",
    "\n",
    "    cbar = plt.colorbar(cs, ticks=levels)\n",
    "    cbar.ax.set_xticklabels(str(levels))\n",
    "\n",
    "    plt.title(title)\n",
    "    plt.ylabel(r'Redshift ($1+z$)')\n",
    "    plt.xlabel(r'Kinetic Energy [eV]')\n",
    "\n",
    "#     direc = '/Users/GregoryRidgway/Desktop/Dark Matter/DH_Data/'\n",
    "#     plt.savefig(\n",
    "#         direc+'f'+inj_particle+'_'+inj_type+'_'+channel+'_contour.pdf'\n",
    "#     )"
   ]
  },
  {
   "cell_type": "code",
   "execution_count": 55,
   "metadata": {},
   "outputs": [
    {
     "name": "stdout",
     "output_type": "stream",
     "text": [
      "40\n",
      "800\n",
      "(40, 800, 5)\n"
     ]
    },
    {
     "data": {
      "image/png": "[encoded data removed]",
      "text/plain": [
       "<Figure size 720x720 with 2 Axes>"
      ]
     },
     "metadata": {},
     "output_type": "display_data"
    }
   ],
   "source": [
    "get_fcontour('decay','phot','H_ion')"
   ]
  },
  {
   "cell_type": "code",
   "execution_count": 61,
   "metadata": {
    "collapsed": true
   },
   "outputs": [],
   "source": [
    "f_swave_elec = pickle.load(open(\"/home/gridgway/Dropbox (MIT)/Photon Deposition/f_swave_elec.p\", \"rb\"))\n",
    "f_swave_phot = pickle.load(open(\"/home/gridgway/Dropbox (MIT)/Photon Deposition/f_swave_phot.p\", \"rb\"))"
   ]
  },
  {
   "cell_type": "code",
   "execution_count": 264,
   "metadata": {
    "collapsed": true
   },
   "outputs": [],
   "source": [
    "#TEMPORARY\n",
    "dlnz = 1e-3\n",
    "nzsteps = 51\n",
    "initredshift = 3000\n",
    "finredshift = 4\n",
    "lnzstep = (np.log(initredshift) - np.log(finredshift))/(nzsteps-1)\n",
    "redshiftgrid = np.exp(np.log(4) + lnzstep*np.arange(nzsteps))"
   ]
  },
  {
   "cell_type": "code",
   "execution_count": 267,
   "metadata": {
    "collapsed": true
   },
   "outputs": [
    {
     "data": {
      "image/png": "[encoded data removed]",
      "text/plain": [
       "<Figure size 720x720 with 1 Axes>"
      ]
     },
     "metadata": {},
     "output_type": "display_data"
    }
   ],
   "source": [
    "rs_list = [3000*np.exp(-0.001*4*(i+1)) for i in np.arange(6400/4-1)]\n",
    "\n",
    "plt.figure()\n",
    "ax = plt.gca()\n",
    "ax.loglog()\n",
    "plt.plot(rs_list[:1000], f_decay_phot[2,:1000,4])\n",
    "plt.vlines(redshiftgrid[-15:],10**-2.6,10**-1)\n",
    "\n",
    "plt.show()"
   ]
  },
  {
   "cell_type": "code",
   "execution_count": 46,
   "metadata": {
    "collapsed": true
   },
   "outputs": [],
   "source": [
    "def get_fdiff(inj_type, inj_particle, channel):\n",
    "    if inj_particle is 'elec':\n",
    "        coarsen_factor = 16\n",
    "\n",
    "        if inj_type is 'decay':\n",
    "            f_for_plot = f_decay_elec.copy()\n",
    "            folder='elec_decay/'\n",
    "\n",
    "        elif inj_type is 'swave':\n",
    "            f_for_plot = f_swave_elec.copy()\n",
    "            folder='elec_swave/'\n",
    "    else:\n",
    "        coarsen_factor = 4\n",
    "\n",
    "        if inj_type is 'decay':\n",
    "            f_for_plot = f_decay_phot.copy()\n",
    "            folder='phot_decay/'\n",
    "\n",
    "        elif inj_type is 'swave':\n",
    "            f_for_plot = f_swave_phot.copy()\n",
    "            folder='phot_swave/'\n",
    "    if inj_type == 'decay':\n",
    "        eng = 10**log10eng[:-1]\n",
    "    else:\n",
    "        eng = 10**log10eng[:len(f_for_plot)]\n",
    "    rs_list = [3000*np.exp(-0.001*coarsen_factor*(i+1)) for i in np.arange(6400/coarsen_factor-1)][1:]\n",
    "\n",
    "    if channel is 'H_ion':\n",
    "        ind=0\n",
    "        title = r'\\bf{$f_{H ion}$}'\n",
    "        f_interp = f_H_ion\n",
    "    elif channel is 'He_ion':\n",
    "        ind=1\n",
    "        title = r'\\bf{$f_{He ion}$}'\n",
    "        f_interp = f_He_ion\n",
    "    elif channel is 'exc':\n",
    "        ind=2\n",
    "        title = r'\\bf{$f_{exc}$}'\n",
    "        f_interp = f_H_exc\n",
    "    elif channel is 'heat':\n",
    "        ind=3\n",
    "        title = r'\\bf{$f_{heat}$}'\n",
    "        f_interp = f_heating\n",
    "    elif channel is 'cont':\n",
    "        ind=4\n",
    "        title = r'\\bf{$f_{cont}$}'\n",
    "        f_interp = f_cont\n",
    "\n",
    "    plt.figure()\n",
    "    ax=plt.gca()\n",
    "    ax.loglog()\n",
    "    levels=[0,.01,.05,.1,.2,.3,.4,.5,1]\n",
    "    \n",
    "    diffs = np.zeros_like(f_for_plot[:,:,ind])\n",
    "    tmp = tabulate(rs_list, eng, f_interp)\n",
    "    diffs = np.abs(\n",
    "        f_for_plot[:,1:-1,ind] - tmp\n",
    "    )/tmp\n",
    "            \n",
    "    cs2 = ax.contourf(eng, rs_list[25:], np.transpose(diffs)[25:], levels = levels,\n",
    "#                      norm=matplotlib.colors.LogNorm(),\n",
    "                     cmap=matplotlib.cm.RdBu_r)\n",
    "#     ax.contour(eng,rs_list[25:],\n",
    "#                np.transpose(diffs)[25:],  \n",
    "#                levels=levels[1:-1],\n",
    "#                colors='k',\n",
    "#                alpha=.4\n",
    "#               )\n",
    "    cbar = plt.colorbar(cs2, ticks=levels)\n",
    "    \n",
    "    plt.title(title)\n",
    "    plt.ylabel(r'Redshift ($1+z$)')\n",
    "    plt.xlabel(r'Kinetic Energy [eV]')\n",
    "\n",
    "#     plt.savefig(\n",
    "#         '/home/gridgway/Desktop/f_contour_debug/'+folder+'f'+inj_particle+'_'+inj_type+'_'+channel+'_diffs.pdf'\n",
    "#     )"
   ]
  },
  {
   "cell_type": "code",
   "execution_count": 48,
   "metadata": {},
   "outputs": [
    {
     "data": {
      "image/png": "[encoded data removed]",
      "text/plain": [
       "<matplotlib.figure.Figure at 0x181a6a75c0>"
      ]
     },
     "metadata": {},
     "output_type": "display_data"
    }
   ],
   "source": [
    "get_fdiff('swave','photon','heat')"
   ]
  },
  {
   "cell_type": "markdown",
   "metadata": {},
   "source": [
    "### Download 2016 f(z)'s"
   ]
  },
  {
   "cell_type": "code",
   "execution_count": 7,
   "metadata": {
    "collapsed": true
   },
   "outputs": [],
   "source": [
    "direc = '/Users/GregoryRidgway/Downloads/'\n",
    "fz_elec_decay = np.loadtxt(direc+'21cm_pwave/TLA_code/fz_electron_decay.dat', delimiter=',')\n",
    "\n",
    "log10rs  = fz_elec_decay[0:70, 1]\n",
    "log10eng = fz_elec_decay[0:2800:70, 0] \n",
    "\n",
    "log10f_elec_decay = {\n",
    "    'H_ion':   np.transpose(np.reshape(fz_elec_decay[0:2800,2], (40,70))),\n",
    "    'He_ion':  np.transpose(np.reshape(fz_elec_decay[2800:5600,2], (40,70))),\n",
    "    'H_exc':   np.transpose(np.reshape(fz_elec_decay[5600:8400,2], (40,70))),\n",
    "    'heating': np.transpose(np.reshape(fz_elec_decay[8400:11200,2], (40,70))),\n",
    "    'cont':    np.transpose(np.reshape(fz_elec_decay[11200:14000,2], (40,70))) \n",
    "}\n",
    "\n",
    "fz_phot_decay = np.loadtxt(direc+'21cm_pwave/TLA_code/fz_photon_decay.dat', delimiter=',')\n",
    "\n",
    "log10rs  = fz_phot_decay[0:70, 1]\n",
    "log10eng = fz_phot_decay[0:2800:70, 0] \n",
    "\n",
    "log10f_phot_decay = {\n",
    "    'H_ion':   np.transpose(np.reshape(fz_phot_decay[0:2800,2], (40,70))),\n",
    "    'He_ion':  np.transpose(np.reshape(fz_phot_decay[2800:5600,2], (40,70))),\n",
    "    'H_exc':   np.transpose(np.reshape(fz_phot_decay[5600:8400,2], (40,70))),\n",
    "    'heating': np.transpose(np.reshape(fz_phot_decay[8400:11200,2], (40,70))),\n",
    "    'cont':    np.transpose(np.reshape(fz_phot_decay[11200:14000,2], (40,70)))\n",
    "}"
   ]
  },
  {
   "cell_type": "code",
   "execution_count": 14,
   "metadata": {},
   "outputs": [],
   "source": [
    "user = '/Users/GregoryRidgway/Downloads/'\n",
    "user = '/home/gridgway/Dropbox (MIT)/'\n",
    "greg = ''\n",
    "\n",
    "#---------- Decay ----------#\n",
    "fz_elec_decay = np.loadtxt(user+'21cm_pwave/TLA_code/fz_electron_decay.dat', delimiter=',')\n",
    "\n",
    "log10rs  = fz_elec_decay[0:70, 1]\n",
    "log10eng = fz_elec_decay[0:2800:70, 0] \n",
    "\n",
    "log10f_elec_decay = {\n",
    "    'H_ion':   np.transpose(np.reshape(fz_elec_decay[0:2800,2], (40,70))),\n",
    "    'He_ion':  np.transpose(np.reshape(fz_elec_decay[2800:5600,2], (40,70))),\n",
    "    'H_exc':   np.transpose(np.reshape(fz_elec_decay[5600:8400,2], (40,70))),\n",
    "    'heating': np.transpose(np.reshape(fz_elec_decay[8400:11200,2], (40,70))),\n",
    "    'cont':    np.transpose(np.reshape(fz_elec_decay[11200:14000,2], (40,70))) \n",
    "}\n",
    "\n",
    "fz_phot_decay = np.loadtxt(user+'21cm_pwave/TLA_code/fz_photon_decay.dat', delimiter=',')\n",
    "\n",
    "log10rs  = fz_phot_decay[0:70, 1]\n",
    "log10eng = fz_phot_decay[0:2800:70, 0] \n",
    "\n",
    "log10f_phot_decay = {\n",
    "    'H_ion':   np.transpose(np.reshape(fz_phot_decay[0:2800,2], (40,70))),\n",
    "    'He_ion':  np.transpose(np.reshape(fz_phot_decay[2800:5600,2], (40,70))),\n",
    "    'H_exc':   np.transpose(np.reshape(fz_phot_decay[5600:8400,2], (40,70))),\n",
    "    'heating': np.transpose(np.reshape(fz_phot_decay[8400:11200,2], (40,70))),\n",
    "    'cont':    np.transpose(np.reshape(fz_phot_decay[11200:14000,2], (40,70)))\n",
    "}\n",
    "\n",
    "\n",
    "#---------- s-wave ----------#\n",
    "fz_elec_swave = np.loadtxt(user+'21cm_pwave/TLA_code/fz_electron_swave_NFW_no_subs.dat', delimiter=',')\n",
    "\n",
    "log10rs  = fz_elec_swave[0:70, 1]\n",
    "log10eng = fz_elec_swave[0:2800:70, 0] \n",
    "\n",
    "log10f_elec_swave = {\n",
    "    'H_ion':   np.transpose(np.reshape(fz_elec_swave[0:2800,2], (40,70))),\n",
    "    'He_ion':  np.transpose(np.reshape(fz_elec_swave[2800:5600,2], (40,70))),\n",
    "    'H_exc':   np.transpose(np.reshape(fz_elec_swave[5600:8400,2], (40,70))),\n",
    "    'heating': np.transpose(np.reshape(fz_elec_swave[8400:11200,2], (40,70))),\n",
    "    'cont':    np.transpose(np.reshape(fz_elec_swave[11200:14000,2], (40,70))) \n",
    "}\n",
    "\n",
    "fz_phot_swave = np.loadtxt(user+'21cm_pwave/TLA_code/fz_photon_swave_NFW_no_subs.dat', delimiter=',')\n",
    "\n",
    "log10rs  = fz_phot_swave[0:70, 1]\n",
    "log10eng = fz_phot_swave[0:2800:70, 0] \n",
    "\n",
    "log10f_phot_swave = {\n",
    "    'H_ion':   np.transpose(np.reshape(fz_phot_swave[0:2800,2], (40,70))),\n",
    "    'He_ion':  np.transpose(np.reshape(fz_phot_swave[2800:5600,2], (40,70))),\n",
    "    'H_exc':   np.transpose(np.reshape(fz_phot_swave[5600:8400,2], (40,70))),\n",
    "    'heating': np.transpose(np.reshape(fz_phot_swave[8400:11200,2], (40,70))),\n",
    "    'cont':    np.transpose(np.reshape(fz_phot_swave[11200:14000,2], (40,70)))\n",
    "}\n",
    "\n",
    "#---------- p-wave ----------#\n",
    "fz_elec_pwave = np.loadtxt(user+'21cm_pwave/TLA_code/fz_electron_pwave_NFW_no_subs'+\n",
    "                           greg+'.dat', delimiter=',')\n",
    "\n",
    "log10rs  = fz_elec_pwave[0:70, 1]\n",
    "log10eng = fz_elec_pwave[0:2800:70, 0] \n",
    "\n",
    "log10f_elec_pwave = {\n",
    "    'H_ion':   np.transpose(np.reshape(fz_elec_pwave[0:2800,2], (40,70))),\n",
    "    'He_ion':  np.transpose(np.reshape(fz_elec_pwave[2800:5600,2], (40,70))),\n",
    "    'H_exc':   np.transpose(np.reshape(fz_elec_pwave[5600:8400,2], (40,70))),\n",
    "    'heating': np.transpose(np.reshape(fz_elec_pwave[8400:11200,2], (40,70))),\n",
    "    'cont':    np.transpose(np.reshape(fz_elec_pwave[11200:14000,2], (40,70))) \n",
    "}\n",
    "\n",
    "fz_phot_pwave = np.loadtxt(user+'21cm_pwave/TLA_code/fz_photon_pwave_NFW_no_subs'+\n",
    "                           greg+'.dat', delimiter=',')\n",
    "\n",
    "log10rs  = fz_phot_pwave[0:70, 1]\n",
    "log10eng = fz_phot_pwave[0:2800:70, 0] \n",
    "\n",
    "log10f_phot_pwave = {\n",
    "    'H_ion':   np.transpose(np.reshape(fz_phot_pwave[0:2800,2], (40,70))),\n",
    "    'He_ion':  np.transpose(np.reshape(fz_phot_pwave[2800:5600,2], (40,70))),\n",
    "    'H_exc':   np.transpose(np.reshape(fz_phot_pwave[5600:8400,2], (40,70))),\n",
    "    'heating': np.transpose(np.reshape(fz_phot_pwave[8400:11200,2], (40,70))),\n",
    "    'cont':    np.transpose(np.reshape(fz_phot_pwave[11200:14000,2], (40,70)))\n",
    "}\n"
   ]
  },
  {
   "cell_type": "code",
   "execution_count": 14,
   "metadata": {},
   "outputs": [],
   "source": [
    "log10f_tmp = log10f_phot_swave\n",
    "\n",
    "def f_H_ion(rs, Einj):\n",
    "    interp_func = interp2d(log10eng, log10rs, log10f_tmp['H_ion'])\n",
    "    return 10**interp_func(np.log10(Einj), np.log10(rs))[0]\n",
    "\n",
    "def f_He_ion(rs, Einj):\n",
    "    interp_func = interp2d(log10eng, log10rs, log10f_tmp['He_ion'])\n",
    "    return 10**interp_func(np.log10(Einj), np.log10(rs))[0]\n",
    "\n",
    "def f_H_exc(rs, Einj):\n",
    "    interp_func = interp2d(log10eng, log10rs, log10f_tmp['H_exc'])\n",
    "    return 10**interp_func(np.log10(Einj), np.log10(rs))[0]\n",
    "\n",
    "def f_heating(rs, Einj):\n",
    "    interp_func = interp2d(log10eng, log10rs, log10f_tmp['heating'])\n",
    "    return 10**interp_func(np.log10(Einj), np.log10(rs))[0]\n",
    "\n",
    "def f_cont(rs, Einj):\n",
    "    interp_func = interp2d(log10eng, log10rs, log10f_tmp['cont'])\n",
    "    return 10**interp_func(np.log10(Einj), np.log10(rs))[0]"
   ]
  },
  {
   "cell_type": "markdown",
   "metadata": {},
   "source": [
    "### Download Photon Transfer Functions"
   ]
  },
  {
   "cell_type": "code",
   "execution_count": 6,
   "metadata": {},
   "outputs": [
    {
     "name": "stdout",
     "output_type": "stream",
     "text": [
      "Loading transfer functions...\n",
      "Loaded high energy photons...\n",
      "Low energy photons...\n",
      "Low energy electrons...\n",
      "high energy deposition.\n",
      "\n",
      "CMB losses.\n",
      "\n",
      "Padding tflists with zeros...\n",
      "high energy photons...\n",
      "low energy photons...\n",
      "low energy electrons...\n",
      "\n",
      "high energy deposition.\n",
      "\n",
      "CMB losses.\n",
      "\n",
      "Generating TransferFuncInterp objects for each tflist...\n",
      "Done.\n",
      "\n"
     ]
    }
   ],
   "source": [
    "%autoreload\n",
    "direc = '/home/gridgway/Downloads/complete/'\n",
    "extra=\"\"\n",
    "# direc = '/Users/GregoryRidgway/Desktop/DH_Data/'\n",
    "# extra = \"_complete\"\n",
    "\n",
    "tf_file = Path(direc+\"highengphot_tf_interp\"+extra+\".p\")\n",
    "\n",
    "if tf_file.is_file():\n",
    "    highengphot_tf_interp = pickle.load(open(direc+\"highengphot_tf_interp\"+extra+\".p\", \"rb\"))\n",
    "    lowengphot_tf_interp  = pickle.load(open(direc+\"lowengphot_tf_interp\"+extra+\".p\", \"rb\"))\n",
    "    lowengelec_tf_interp  = pickle.load(open(direc+\"lowengelec_tf_interp\"+extra+\".p\", \"rb\"))\n",
    "    highengdep_interp     = pickle.load(open(direc+\"highengdep_interp\"+extra+\".p\", \"rb\"))\n",
    "    CMB_engloss_interp    = pickle.load(open(direc+\"CMB_engloss_interp\"+extra+\".p\", \"rb\"))\n",
    "else:\n",
    "    (highengphot_tf_interp,\n",
    "     lowengphot_tf_interp,\n",
    "     lowengelec_tf_interp,\n",
    "     highengdep_interp,\n",
    "     CMB_engloss_interp\n",
    "    ) = main.load_trans_funcs(direc)\n",
    "    \n",
    "#     pickle.dump(highengphot_tf_interp, open(\"/home/gridgway/Desktop/DH_Data/highengphot_tf_interp.p\", \"wb\"))\n",
    "#     pickle.dump(lowengphot_tf_interp, open(\"/home/gridgway/Desktop/DH_Data/lowengphot_tf_interp.p\", \"wb\"))\n",
    "#     pickle.dump(lowengelec_tf_interp, open(\"/home/gridgway/Desktop/DH_Data/lowengelec_tf_interp.p\", \"wb\"))\n",
    "#     pickle.dump(highengdep_interp, open(\"/home/gridgway/Desktop/DH_Data/highengdep_interp.p\", \"wb\"))\n",
    "#     pickle.dump(CMB_engloss_interp, open(\"/home/gridgway/Desktop/DH_Data/CMB_engloss_interp.p\", \"wb\"))"
   ]
  },
  {
   "cell_type": "code",
   "execution_count": 22,
   "metadata": {},
   "outputs": [],
   "source": [
    "direc = '/Users/GregoryRidgway/Downloads/'\n",
    "direc = '/home/gridgway/Dropbox (MIT)/'\n",
    "fz_elec_decay = np.loadtxt(direc+'21cm_pwave/TLA_code/fz_electron_decay.dat', delimiter=',')\n",
    "\n",
    "log10rs  = fz_elec_decay[0:70, 1]\n",
    "log10eng = fz_elec_decay[0:2800:70, 0]\n",
    "\n",
    "log10eng[-1] = np.log10(highengphot_tf_interp.eng[-1])*(.99)\n",
    "\n",
    "struct_data = np.loadtxt(open(cwd+\"/../structure_formation_data/boost_Einasto_subs.txt\", \"rb\"))\n",
    "log_struct_interp = interp1d(np.log(struct_data[:,0]), np.log(struct_data[:,1]))\n",
    "def struct_boost(rs):\n",
    "    if rs<76:\n",
    "        return np.exp(log_struct_interp(np.log(rs)))\n",
    "    else:\n",
    "        return 1\n",
    "\n",
    "def rate_func_decay_N(rs):\n",
    "    return phys.inj_rate(inj_type, rs, mDM=mDM, sigmav=sigmav, tau=tau)/Ecom\n",
    "def rate_func_decay_eng(rs):\n",
    "    return phys.inj_rate(inj_type, rs, mDM=mDM, sigmav=sigmav, tau=tau) \n",
    "\n",
    "def rate_func_swave_N(rs):\n",
    "    return phys.inj_rate(inj_type, rs, mDM=mDM, sigmav=sigmav, tau=tau)*struct_boost(rs)/Ecom\n",
    "def rate_func_swave_eng(rs):\n",
    "    return phys.inj_rate(inj_type, rs, mDM=mDM, sigmav=sigmav, tau=tau)*struct_boost(rs) \n",
    "\n",
    "photeng = highengphot_tf_interp.eng\n",
    "eleceng = lowengelec_tf_interp.eng"
   ]
  },
  {
   "cell_type": "markdown",
   "metadata": {},
   "source": [
    "# Decay to Photons"
   ]
  },
  {
   "cell_type": "markdown",
   "metadata": {},
   "source": [
    "### decay, photons"
   ]
  },
  {
   "cell_type": "code",
   "execution_count": 12,
   "metadata": {},
   "outputs": [],
   "source": [
    "direc = '/home/gridgway/Downloads/'\n",
    "hdul = fits.open(\n",
    "    direc+'calculated_fractions_phot_logE_1.230E+01.fits'\n",
    ")\n",
    "data = hdul[1].data\n",
    "xe_idl     = data.field('xH')[0]\n",
    "idl_redshift = data.field('redshift')[0]\n",
    "hdul.close()\n",
    "\n",
    "xe_idl_func = interp1d(idl_redshift, xe_idl, bounds_error=False, fill_value=(xe_idl[-1], xe_idl[0]))"
   ]
  },
  {
   "cell_type": "code",
   "execution_count": 159,
   "metadata": {
    "collapsed": true
   },
   "outputs": [],
   "source": [
    "log10eng2 = np.linspace(log10eng[0],np.log10(highengphot_tf_interp.eng[-1])-.01,100)"
   ]
  },
  {
   "cell_type": "code",
   "execution_count": 38,
   "metadata": {},
   "outputs": [
    {
     "name": "stdout",
     "output_type": "stream",
     "text": [
      "0.028125 0.04282588308846515 0.07625 0.09125 0.0975\n"
     ]
    }
   ],
   "source": [
    "print(180/6400, 137/3199, 122/1600, 73/800, 39/400)"
   ]
  },
  {
   "cell_type": "code",
   "execution_count": 52,
   "metadata": {},
   "outputs": [
    {
     "data": {
      "application/vnd.jupyter.widget-view+json": {
       "model_id": "6495d7ed02ed44d1bba443260ce46c18",
       "version_major": 2,
       "version_minor": 0
      },
      "text/plain": [
       "HBox(children=(IntProgress(value=0, max=40), HTML(value='')))"
      ]
     },
     "metadata": {},
     "output_type": "display_data"
    },
    {
     "data": {
      "application/vnd.jupyter.widget-view+json": {
       "model_id": "dffe233934e44dc6bba67dc55959df96",
       "version_major": 2,
       "version_minor": 0
      },
      "text/plain": [
       "HBox(children=(IntProgress(value=0, max=800), HTML(value='')))"
      ]
     },
     "metadata": {},
     "output_type": "display_data"
    },
    {
     "data": {
      "application/vnd.jupyter.widget-view+json": {
       "model_id": "714f571d2044405ab2f529c19715d455",
       "version_major": 2,
       "version_minor": 0
      },
      "text/plain": [
       "HBox(children=(IntProgress(value=0, max=800), HTML(value='')))"
      ]
     },
     "metadata": {},
     "output_type": "display_data"
    },
    {
     "data": {
      "application/vnd.jupyter.widget-view+json": {
       "model_id": "ea92fddbb48946279f2b07e90e17423c",
       "version_major": 2,
       "version_minor": 0
      },
      "text/plain": [
       "HBox(children=(IntProgress(value=0, max=800), HTML(value='')))"
      ]
     },
     "metadata": {},
     "output_type": "display_data"
    },
    {
     "data": {
      "application/vnd.jupyter.widget-view+json": {
       "model_id": "12ee858eee0b4c348ef211b7a3e7a649",
       "version_major": 2,
       "version_minor": 0
      },
      "text/plain": [
       "HBox(children=(IntProgress(value=0, max=800), HTML(value='')))"
      ]
     },
     "metadata": {},
     "output_type": "display_data"
    },
    {
     "data": {
      "application/vnd.jupyter.widget-view+json": {
       "model_id": "84b826d336ab46ea8aa69dd37d8415b7",
       "version_major": 2,
       "version_minor": 0
      },
      "text/plain": [
       "HBox(children=(IntProgress(value=0, max=800), HTML(value='')))"
      ]
     },
     "metadata": {},
     "output_type": "display_data"
    },
    {
     "data": {
      "application/vnd.jupyter.widget-view+json": {
       "model_id": "688f15f6f08444d9a6a188c6826871fb",
       "version_major": 2,
       "version_minor": 0
      },
      "text/plain": [
       "HBox(children=(IntProgress(value=0, max=800), HTML(value='')))"
      ]
     },
     "metadata": {},
     "output_type": "display_data"
    },
    {
     "data": {
      "application/vnd.jupyter.widget-view+json": {
       "model_id": "1047d4b2f19847d489ddc1e80a50bf5a",
       "version_major": 2,
       "version_minor": 0
      },
      "text/plain": [
       "HBox(children=(IntProgress(value=0, max=800), HTML(value='')))"
      ]
     },
     "metadata": {},
     "output_type": "display_data"
    },
    {
     "data": {
      "application/vnd.jupyter.widget-view+json": {
       "model_id": "3b1b0fb658944c08816286211f22ae1a",
       "version_major": 2,
       "version_minor": 0
      },
      "text/plain": [
       "HBox(children=(IntProgress(value=0, max=800), HTML(value='')))"
      ]
     },
     "metadata": {},
     "output_type": "display_data"
    },
    {
     "data": {
      "application/vnd.jupyter.widget-view+json": {
       "model_id": "00299d48be9b41d0b716d9d61cbb1d96",
       "version_major": 2,
       "version_minor": 0
      },
      "text/plain": [
       "HBox(children=(IntProgress(value=0, max=800), HTML(value='')))"
      ]
     },
     "metadata": {},
     "output_type": "display_data"
    },
    {
     "data": {
      "application/vnd.jupyter.widget-view+json": {
       "model_id": "92d98605700845adaa0fa660b6ef8cdd",
       "version_major": 2,
       "version_minor": 0
      },
      "text/plain": [
       "HBox(children=(IntProgress(value=0, max=800), HTML(value='')))"
      ]
     },
     "metadata": {},
     "output_type": "display_data"
    },
    {
     "data": {
      "application/vnd.jupyter.widget-view+json": {
       "model_id": "8b9123a5bb6e49e4b9e449dd5f6fecc1",
       "version_major": 2,
       "version_minor": 0
      },
      "text/plain": [
       "HBox(children=(IntProgress(value=0, max=800), HTML(value='')))"
      ]
     },
     "metadata": {},
     "output_type": "display_data"
    },
    {
     "data": {
      "application/vnd.jupyter.widget-view+json": {
       "model_id": "898e8da5e87e4789839ee8eafd1303da",
       "version_major": 2,
       "version_minor": 0
      },
      "text/plain": [
       "HBox(children=(IntProgress(value=0, max=800), HTML(value='')))"
      ]
     },
     "metadata": {},
     "output_type": "display_data"
    },
    {
     "data": {
      "application/vnd.jupyter.widget-view+json": {
       "model_id": "d03ca20cb2004b589d238846e9383612",
       "version_major": 2,
       "version_minor": 0
      },
      "text/plain": [
       "HBox(children=(IntProgress(value=0, max=800), HTML(value='')))"
      ]
     },
     "metadata": {},
     "output_type": "display_data"
    },
    {
     "data": {
      "application/vnd.jupyter.widget-view+json": {
       "model_id": "554112bd70e544d8bb468cce1dd31e35",
       "version_major": 2,
       "version_minor": 0
      },
      "text/plain": [
       "HBox(children=(IntProgress(value=0, max=800), HTML(value='')))"
      ]
     },
     "metadata": {},
     "output_type": "display_data"
    },
    {
     "data": {
      "application/vnd.jupyter.widget-view+json": {
       "model_id": "85838e7689b44f728b458399dc44ef41",
       "version_major": 2,
       "version_minor": 0
      },
      "text/plain": [
       "HBox(children=(IntProgress(value=0, max=800), HTML(value='')))"
      ]
     },
     "metadata": {},
     "output_type": "display_data"
    },
    {
     "data": {
      "application/vnd.jupyter.widget-view+json": {
       "model_id": "824e4fb9e6d14fd9b3dfe58f00acd91a",
       "version_major": 2,
       "version_minor": 0
      },
      "text/plain": [
       "HBox(children=(IntProgress(value=0, max=800), HTML(value='')))"
      ]
     },
     "metadata": {},
     "output_type": "display_data"
    },
    {
     "data": {
      "application/vnd.jupyter.widget-view+json": {
       "model_id": "b8d84c808c0c4bb594bdd244aa05a2d1",
       "version_major": 2,
       "version_minor": 0
      },
      "text/plain": [
       "HBox(children=(IntProgress(value=0, max=800), HTML(value='')))"
      ]
     },
     "metadata": {},
     "output_type": "display_data"
    },
    {
     "data": {
      "application/vnd.jupyter.widget-view+json": {
       "model_id": "7fc2eedb9d794e6b85f09ac197bbc61e",
       "version_major": 2,
       "version_minor": 0
      },
      "text/plain": [
       "HBox(children=(IntProgress(value=0, max=800), HTML(value='')))"
      ]
     },
     "metadata": {},
     "output_type": "display_data"
    },
    {
     "data": {
      "application/vnd.jupyter.widget-view+json": {
       "model_id": "dd6a35a2cd25499fa9ea8f6e14d55021",
       "version_major": 2,
       "version_minor": 0
      },
      "text/plain": [
       "HBox(children=(IntProgress(value=0, max=800), HTML(value='')))"
      ]
     },
     "metadata": {},
     "output_type": "display_data"
    },
    {
     "data": {
      "application/vnd.jupyter.widget-view+json": {
       "model_id": "65811b99ba494403a3282a7ba8386de6",
       "version_major": 2,
       "version_minor": 0
      },
      "text/plain": [
       "HBox(children=(IntProgress(value=0, max=800), HTML(value='')))"
      ]
     },
     "metadata": {},
     "output_type": "display_data"
    },
    {
     "data": {
      "application/vnd.jupyter.widget-view+json": {
       "model_id": "355a788e6fae4f058251a7687f2177c8",
       "version_major": 2,
       "version_minor": 0
      },
      "text/plain": [
       "HBox(children=(IntProgress(value=0, max=800), HTML(value='')))"
      ]
     },
     "metadata": {},
     "output_type": "display_data"
    },
    {
     "data": {
      "application/vnd.jupyter.widget-view+json": {
       "model_id": "95d34c13eb5047bba4bf434a6a55ab9e",
       "version_major": 2,
       "version_minor": 0
      },
      "text/plain": [
       "HBox(children=(IntProgress(value=0, max=800), HTML(value='')))"
      ]
     },
     "metadata": {},
     "output_type": "display_data"
    },
    {
     "data": {
      "application/vnd.jupyter.widget-view+json": {
       "model_id": "fa99b2e584854187a28a9bda6fb80f5b",
       "version_major": 2,
       "version_minor": 0
      },
      "text/plain": [
       "HBox(children=(IntProgress(value=0, max=800), HTML(value='')))"
      ]
     },
     "metadata": {},
     "output_type": "display_data"
    },
    {
     "data": {
      "application/vnd.jupyter.widget-view+json": {
       "model_id": "2d22da17322b4f65abb9b8ad2fc9e6d5",
       "version_major": 2,
       "version_minor": 0
      },
      "text/plain": [
       "HBox(children=(IntProgress(value=0, max=800), HTML(value='')))"
      ]
     },
     "metadata": {},
     "output_type": "display_data"
    },
    {
     "data": {
      "application/vnd.jupyter.widget-view+json": {
       "model_id": "c02701f606694b2fb84aaf5e6ec1fc58",
       "version_major": 2,
       "version_minor": 0
      },
      "text/plain": [
       "HBox(children=(IntProgress(value=0, max=800), HTML(value='')))"
      ]
     },
     "metadata": {},
     "output_type": "display_data"
    },
    {
     "data": {
      "application/vnd.jupyter.widget-view+json": {
       "model_id": "f20d51767db14bf7a5ab1f71af98ba30",
       "version_major": 2,
       "version_minor": 0
      },
      "text/plain": [
       "HBox(children=(IntProgress(value=0, max=800), HTML(value='')))"
      ]
     },
     "metadata": {},
     "output_type": "display_data"
    },
    {
     "data": {
      "application/vnd.jupyter.widget-view+json": {
       "model_id": "f8894aeb29244652be84cb3e34c2d577",
       "version_major": 2,
       "version_minor": 0
      },
      "text/plain": [
       "HBox(children=(IntProgress(value=0, max=800), HTML(value='')))"
      ]
     },
     "metadata": {},
     "output_type": "display_data"
    },
    {
     "data": {
      "application/vnd.jupyter.widget-view+json": {
       "model_id": "32f2b1907603405c96c76f1d8e91fa5b",
       "version_major": 2,
       "version_minor": 0
      },
      "text/plain": [
       "HBox(children=(IntProgress(value=0, max=800), HTML(value='')))"
      ]
     },
     "metadata": {},
     "output_type": "display_data"
    },
    {
     "data": {
      "application/vnd.jupyter.widget-view+json": {
       "model_id": "cca8883cb0244bbbaae39324b552fb9c",
       "version_major": 2,
       "version_minor": 0
      },
      "text/plain": [
       "HBox(children=(IntProgress(value=0, max=800), HTML(value='')))"
      ]
     },
     "metadata": {},
     "output_type": "display_data"
    },
    {
     "data": {
      "application/vnd.jupyter.widget-view+json": {
       "model_id": "c989bcb94e4447df9e88cc55dd478a0e",
       "version_major": 2,
       "version_minor": 0
      },
      "text/plain": [
       "HBox(children=(IntProgress(value=0, max=800), HTML(value='')))"
      ]
     },
     "metadata": {},
     "output_type": "display_data"
    },
    {
     "data": {
      "application/vnd.jupyter.widget-view+json": {
       "model_id": "4a367aec601e417f93d5c0c6e08551a3",
       "version_major": 2,
       "version_minor": 0
      },
      "text/plain": [
       "HBox(children=(IntProgress(value=0, max=800), HTML(value='')))"
      ]
     },
     "metadata": {},
     "output_type": "display_data"
    },
    {
     "data": {
      "application/vnd.jupyter.widget-view+json": {
       "model_id": "5126af9606344f7ab019cfee7e9605c4",
       "version_major": 2,
       "version_minor": 0
      },
      "text/plain": [
       "HBox(children=(IntProgress(value=0, max=800), HTML(value='')))"
      ]
     },
     "metadata": {},
     "output_type": "display_data"
    },
    {
     "data": {
      "application/vnd.jupyter.widget-view+json": {
       "model_id": "d0c5c0c7ea014bb4830c2aa4bc21ec98",
       "version_major": 2,
       "version_minor": 0
      },
      "text/plain": [
       "HBox(children=(IntProgress(value=0, max=800), HTML(value='')))"
      ]
     },
     "metadata": {},
     "output_type": "display_data"
    },
    {
     "data": {
      "application/vnd.jupyter.widget-view+json": {
       "model_id": "c3d0240e660d47bd91f35ccd6298c304",
       "version_major": 2,
       "version_minor": 0
      },
      "text/plain": [
       "HBox(children=(IntProgress(value=0, max=800), HTML(value='')))"
      ]
     },
     "metadata": {},
     "output_type": "display_data"
    },
    {
     "data": {
      "application/vnd.jupyter.widget-view+json": {
       "model_id": "23aa57c548a54dafb17e2558eb604b11",
       "version_major": 2,
       "version_minor": 0
      },
      "text/plain": [
       "HBox(children=(IntProgress(value=0, max=800), HTML(value='')))"
      ]
     },
     "metadata": {},
     "output_type": "display_data"
    },
    {
     "data": {
      "application/vnd.jupyter.widget-view+json": {
       "model_id": "19296f3347f74301a1e3cb05ddc16502",
       "version_major": 2,
       "version_minor": 0
      },
      "text/plain": [
       "HBox(children=(IntProgress(value=0, max=800), HTML(value='')))"
      ]
     },
     "metadata": {},
     "output_type": "display_data"
    },
    {
     "data": {
      "application/vnd.jupyter.widget-view+json": {
       "model_id": "61b0302767ab47dfa46af54791dc7903",
       "version_major": 2,
       "version_minor": 0
      },
      "text/plain": [
       "HBox(children=(IntProgress(value=0, max=800), HTML(value='')))"
      ]
     },
     "metadata": {},
     "output_type": "display_data"
    },
    {
     "data": {
      "application/vnd.jupyter.widget-view+json": {
       "model_id": "e37ca2def6ce48d2baf6c29a46eaa922",
       "version_major": 2,
       "version_minor": 0
      },
      "text/plain": [
       "HBox(children=(IntProgress(value=0, max=800), HTML(value='')))"
      ]
     },
     "metadata": {},
     "output_type": "display_data"
    },
    {
     "data": {
      "application/vnd.jupyter.widget-view+json": {
       "model_id": "039e5a3ee6124e03a030e2d8a0b0acbe",
       "version_major": 2,
       "version_minor": 0
      },
      "text/plain": [
       "HBox(children=(IntProgress(value=0, max=800), HTML(value='')))"
      ]
     },
     "metadata": {},
     "output_type": "display_data"
    },
    {
     "data": {
      "application/vnd.jupyter.widget-view+json": {
       "model_id": "b2130727fd8c484c84258a142063b162",
       "version_major": 2,
       "version_minor": 0
      },
      "text/plain": [
       "HBox(children=(IntProgress(value=0, max=800), HTML(value='')))"
      ]
     },
     "metadata": {},
     "output_type": "display_data"
    }
   ],
   "source": [
    "%autoreload\n",
    "inj_type='decay'\n",
    "end_rs = 5\n",
    "sigmav = 3e-26#1e-26\n",
    "f_decay_phot = []\n",
    "for i,Einj in enumerate(tqdm(10**log10eng)):\n",
    "    mDM = 2*Einj\n",
    "    Ecom = mDM\n",
    "    tau = 1e25\n",
    "    \n",
    "    indTmp = spectools.get_indx(photeng,Einj)\n",
    "    if indTmp == len(photeng) or photeng[indTmp] >= Einj:\n",
    "        indTmp -= 1\n",
    "\n",
    "    phot_spec_init = spectools.rebin_N_arr(\n",
    "        np.array([mDM/photeng[indTmp]]),\n",
    "        np.array([photeng[indTmp]]),\n",
    "        photeng\n",
    "    )\n",
    "    \n",
    "    elec_spec_init = Spectrum(eleceng, np.zeros_like(eleceng), rs=3000, spec_type = 'N')\n",
    "    \n",
    "    phot_spec_init.rs = 3000\n",
    "    phot_spec_init.switch_spec_type()\n",
    "\n",
    "    data_phot = main.evolve(\n",
    "        elec_spec_init, phot_spec_init,\n",
    "        rate_func_decay_N, rate_func_decay_eng, end_rs,\n",
    "        highengphot_tf_interp, lowengphot_tf_interp, lowengelec_tf_interp,\n",
    "        highengdep_interp, CMB_engloss_interp,\n",
    "        #ics_thomson_ref_tf, ics_rel_ref_tf, engloss_ref_tf,\n",
    "        coarsen_factor=8, std_soln=True,\n",
    "        struct_boost=None,\n",
    "        ics_only=False, separate_higheng=False,\n",
    "        xe_func=xe_idl_func, user=None, verbose=False, \n",
    "        use_tqdm=True\n",
    "    )\n",
    "    \n",
    "    f_decay_phot.append(data_phot[6])\n",
    "\n",
    "rs_list_phot = data_phot[3].rs\n",
    "f_decay_phot = np.array(f_decay_phot)\n",
    "\n",
    "pickle.dump(f_decay_phot, open(\"/home/gridgway/Dropbox (MIT)/Photon Deposition/f_decay_phot.p\", \"wb\"))"
   ]
  },
  {
   "cell_type": "code",
   "execution_count": 56,
   "metadata": {},
   "outputs": [],
   "source": [
    "pickle.dump(f_decay_phot, open(\"/home/gridgway/Dropbox (MIT)/Photon Deposition/f_decay_phot_v2.p\", \"wb\"))"
   ]
  },
  {
   "cell_type": "markdown",
   "metadata": {},
   "source": [
    "# Decay to Electrons"
   ]
  },
  {
   "cell_type": "markdown",
   "metadata": {},
   "source": [
    "Download ICS transfer functions"
   ]
  },
  {
   "cell_type": "code",
   "execution_count": 10,
   "metadata": {
    "collapsed": true
   },
   "outputs": [],
   "source": [
    "ics_file = Path(\"/home/gridgway/Desktop/DH_Data/ics_thomson_ref_tf.p\")\n",
    "\n",
    "if ics_file.is_file():\n",
    "    ics_thomson_ref_tf = pickle.load(open(\"/home/gridgway/Desktop/DH_Data/ics_thomson_ref_tf.p\", \"rb\"))\n",
    "    ics_rel_ref_tf = pickle.load(open(\"/home/gridgway/Desktop/DH_Data/ics_rel_ref_tf.p\", \"rb\"))\n",
    "    engloss_ref_tf = pickle.load(open(\"/home/gridgway/Desktop/DH_Data/engloss_ref_tf.p\", \"rb\"))\n",
    "else:\n",
    "    ics_thomson_ref_tf, ics_rel_ref_tf, engloss_ref_tf = main.load_ics_data()\n",
    "    pickle.dump(ics_thomson_ref_tf, open(\"/home/gridgway/Desktop/DH_Data/ics_thomson_ref_tf.p\", \"wb\"))\n",
    "    pickle.dump(ics_rel_ref_tf, open(\"/home/gridgway/Desktop/DH_Data/ics_rel_ref_tf.p\", \"wb\"))\n",
    "    pickle.dump(engloss_ref_tf, open(\"/home/gridgway/Desktop/DH_Data/engloss_ref_tf.p\", \"wb\"))"
   ]
  },
  {
   "cell_type": "code",
   "execution_count": 11,
   "metadata": {
    "collapsed": true
   },
   "outputs": [],
   "source": [
    "log10eng[-1] = np.log10(highengphot_tf_interp.eng[-1])*.99"
   ]
  },
  {
   "cell_type": "code",
   "execution_count": 57,
   "metadata": {},
   "outputs": [
    {
     "name": "stdout",
     "output_type": "stream",
     "text": [
      "AHHHH YEAHHHH!\n"
     ]
    }
   ],
   "source": [
    "%autoreload\n",
    "end_rs = 1000\n",
    "Einj = 10**4\n",
    "mDM = Einj*2 + phys.me*2\n",
    "Ecom=mDM\n",
    "tau=1e26\n",
    "phot_spec_init = Spectrum(photeng,\n",
    "                         np.zeros_like(photeng),\n",
    "                         spec_type='N',\n",
    "                         rs=3000)\n",
    "\n",
    "indTmp = spectools.get_indx(eleceng,Einj)\n",
    "if eleceng[indTmp] >= Einj:\n",
    "    indTmp -= 1\n",
    "\n",
    "elec_spec_init = spectools.rebin_N_arr(\n",
    "    np.array([2*Einj/eleceng[indTmp]]),\n",
    "    np.array([eleceng[indTmp]]),\n",
    "    eleceng\n",
    ")\n",
    "#     elec_spec_init = spectools.rebin_N_arr(np.array([2]), \n",
    "#                                       np.array([Einj]), \n",
    "#                                       eleceng)\n",
    "elec_spec_init.rs = 3000\n",
    "elec_spec_init.switch_spec_type()\n",
    "\n",
    "data_elec = main.evolve(\n",
    "    elec_spec_init, phot_spec_init,\n",
    "    rate_func_decay_N, rate_func_decay_eng, end_rs,\n",
    "    highengphot_tf_interp, lowengphot_tf_interp, lowengelec_tf_interp,\n",
    "    highengdep_interp, CMB_engloss_interp,\n",
    "    ics_thomson_ref_tf, ics_rel_ref_tf, engloss_ref_tf,\n",
    "    coarsen_factor=16, std_soln=True,\n",
    "    reion_switch=False\n",
    ")"
   ]
  },
  {
   "cell_type": "code",
   "execution_count": 59,
   "metadata": {},
   "outputs": [
    {
     "data": {
      "text/plain": [
       "array([0.        , 0.85830406, 1.08519196, 1.15740635, 1.18082953,\n",
       "       1.19070818, 1.19853357, 1.20809809, 1.22073879, 1.23698453,\n",
       "       1.2372225 , 1.22915336, 1.22172832, 1.21704818, 1.21585892,\n",
       "       1.2185059 , 1.22503023, 1.2356743 , 1.23901552, 1.23020822,\n",
       "       1.22167407, 1.21568088, 1.21302997, 1.21395168, 1.2185539 ,\n",
       "       1.22693308, 1.23497569, 1.22685735, 1.21824436, 1.21174853,\n",
       "       1.20812631, 1.20767955, 1.21056059, 1.21685383, 1.22661238,\n",
       "       1.22062695, 1.21221221, 1.20535068, 1.20091324, 1.1992556 ,\n",
       "       1.20044216, 1.20463165, 1.2117722 , 1.20963377, 1.20076606,\n",
       "       1.19248389, 1.18547762, 1.18022333, 1.17751139, 1.17791096,\n",
       "       1.18193946, 1.1830696 , 1.17007212, 1.1566242 , 1.14549297,\n",
       "       1.13733315, 1.13273812, 1.1322133 , 1.13628145, 1.14390498,\n",
       "       1.13354848, 1.12002519, 1.1075464 , 1.09876746, 1.09396227,\n",
       "       1.09344348, 1.09739833, 1.10605596, 1.10030226])"
      ]
     },
     "execution_count": 59,
     "metadata": {},
     "output_type": "execute_result"
    }
   ],
   "source": [
    "np.sum(data_elec[5], axis=1)"
   ]
  },
  {
   "cell_type": "code",
   "execution_count": 56,
   "metadata": {},
   "outputs": [
    {
     "data": {
      "text/plain": [
       "[0.849232298342604,\n",
       " 0.8502154987253957,\n",
       " 0.8511998374103865,\n",
       " 0.852185315715448,\n",
       " 0.851928334166227,\n",
       " 0.8508747134175332,\n",
       " 0.8498223957322986,\n",
       " 0.8487713794989619,\n",
       " 0.8477216631079548,\n",
       " 0.846381817926992]"
      ]
     },
     "execution_count": 56,
     "metadata": {},
     "output_type": "execute_result"
    }
   ],
   "source": [
    "[f_heating(rs, 2*10**7) for rs in data_elec[3].rs[-10:]]"
   ]
  },
  {
   "cell_type": "code",
   "execution_count": 12,
   "metadata": {
    "collapsed": true
   },
   "outputs": [
    {
     "data": {
      "application/vnd.jupyter.widget-view+json": {
       "model_id": "ad6c80ad20da4f70bb3f014a4b86e474",
       "version_major": 2,
       "version_minor": 0
      },
      "text/plain": [
       "HBox(children=(IntProgress(value=0, max=40), HTML(value='')))"
      ]
     },
     "metadata": {},
     "output_type": "display_data"
    },
    {
     "name": "stdout",
     "output_type": "stream",
     "text": [
      "AHHHH YEAHHHH!\n",
      "AHHHH YEAHHHH!\n",
      "AHHHH YEAHHHH!\n",
      "AHHHH YEAHHHH!\n",
      "AHHHH YEAHHHH!\n",
      "AHHHH YEAHHHH!\n",
      "AHHHH YEAHHHH!\n",
      "AHHHH YEAHHHH!\n",
      "AHHHH YEAHHHH!\n",
      "AHHHH YEAHHHH!\n",
      "AHHHH YEAHHHH!\n",
      "AHHHH YEAHHHH!\n",
      "AHHHH YEAHHHH!\n",
      "AHHHH YEAHHHH!\n",
      "AHHHH YEAHHHH!\n",
      "AHHHH YEAHHHH!\n",
      "AHHHH YEAHHHH!\n",
      "AHHHH YEAHHHH!\n",
      "AHHHH YEAHHHH!\n",
      "AHHHH YEAHHHH!\n",
      "AHHHH YEAHHHH!\n",
      "AHHHH YEAHHHH!\n",
      "AHHHH YEAHHHH!\n",
      "AHHHH YEAHHHH!\n",
      "AHHHH YEAHHHH!\n",
      "AHHHH YEAHHHH!\n",
      "AHHHH YEAHHHH!\n",
      "AHHHH YEAHHHH!\n",
      "AHHHH YEAHHHH!\n",
      "AHHHH YEAHHHH!\n",
      "AHHHH YEAHHHH!\n",
      "AHHHH YEAHHHH!\n",
      "AHHHH YEAHHHH!\n",
      "AHHHH YEAHHHH!\n",
      "AHHHH YEAHHHH!\n",
      "AHHHH YEAHHHH!\n",
      "AHHHH YEAHHHH!\n",
      "AHHHH YEAHHHH!\n",
      "AHHHH YEAHHHH!\n",
      "AHHHH YEAHHHH!\n",
      "\n"
     ]
    }
   ],
   "source": [
    "%autoreload\n",
    "inj_type='decay'\n",
    "end_rs = 5\n",
    "sigmav = 3e-27#1e-26\n",
    "f_decay_elec = []\n",
    "for i,Einj in enumerate(tqdm(10**log10eng)):\n",
    "    mDM = Einj*2 + phys.me*2\n",
    "    Ecom=mDM\n",
    "    tau=1e26\n",
    "    phot_spec_init = Spectrum(photeng,\n",
    "                             np.zeros_like(photeng),\n",
    "                             spec_type='N',\n",
    "                             rs=3000)\n",
    "    \n",
    "    indTmp = spectools.get_indx(eleceng,Einj)\n",
    "    if eleceng[indTmp] >= Einj:\n",
    "        indTmp -= 1\n",
    "    \n",
    "    elec_spec_init = spectools.rebin_N_arr(\n",
    "        np.array([2*Einj/eleceng[indTmp]]),\n",
    "        np.array([eleceng[indTmp]]),\n",
    "        eleceng\n",
    "    )\n",
    "#     elec_spec_init = spectools.rebin_N_arr(np.array([2]), \n",
    "#                                       np.array([Einj]), \n",
    "#                                       eleceng)\n",
    "    elec_spec_init.rs = 3000\n",
    "    elec_spec_init.switch_spec_type()\n",
    "    \n",
    "    data_elec = main.evolve(\n",
    "        elec_spec_init, phot_spec_init,\n",
    "        rate_func_decay_N, rate_func_decay_eng, end_rs,\n",
    "        highengphot_tf_interp, lowengphot_tf_interp, lowengelec_tf_interp,\n",
    "        highengdep_interp, CMB_engloss_interp,\n",
    "        ics_thomson_ref_tf, ics_rel_ref_tf, engloss_ref_tf,\n",
    "        coarsen_factor=16, std_soln=True,\n",
    "        reion_switch=False\n",
    "    )\n",
    "    \n",
    "    f_decay_elec.append(data_elec[5])\n",
    "\n",
    "rs_list_elec = data_elec[3].rs\n",
    "f_decay_elec = np.array(f_decay_elec)\n",
    "\n",
    "pickle.dump(f_decay_elec, open(\"/home/gridgway/Dropbox (MIT)/Photon Deposition/f_decay_elec.p\", \"wb\"))"
   ]
  },
  {
   "cell_type": "markdown",
   "metadata": {},
   "source": [
    "### swave, photons"
   ]
  },
  {
   "cell_type": "code",
   "execution_count": 87,
   "metadata": {
    "collapsed": true
   },
   "outputs": [
    {
     "name": "stdout",
     "output_type": "stream",
     "text": [
      "AHHHH YEAHHHH!\n",
      "completed rs:  3000\n",
      "completed rs:  2988.0239680319733\n",
      "completed rs:  2976.095744511182\n",
      "completed rs:  2964.2151385857933\n",
      "completed rs:  2952.3819601658583\n",
      "completed rs:  2940.59601992027\n",
      "completed rs:  2928.8571292737333\n",
      "completed rs:  2917.165100403747\n",
      "completed rs:  2905.5197462376004\n",
      "completed rs:  2893.9208804493783\n",
      "completed rs:  2882.36831745698\n",
      "completed rs:  2870.8618724191515\n",
      "completed rs:  2859.401361232527\n",
      "completed rs:  2847.9866005286826\n",
      "completed rs:  2836.617407671204\n",
      "completed rs:  2825.2936007527624\n",
      "completed rs:  2814.014998592206\n",
      "completed rs:  2802.781420731659\n",
      "completed rs:  2791.592687433637\n",
      "completed rs:  2780.4486196781677\n",
      "completed rs:  2769.3490391599294\n",
      "completed rs:  2758.293768285397\n",
      "completed rs:  2747.282630170001\n",
      "completed rs:  2736.315448635297\n",
      "completed rs:  2725.392048206145\n",
      "completed rs:  2714.5122541079063\n",
      "completed rs:  2703.675892263643\n",
      "completed rs:  2692.8827892913346\n",
      "completed rs:  2682.132772501103\n",
      "completed rs:  2671.4256698924496\n",
      "completed rs:  2660.7613101515058\n",
      "completed rs:  2650.139522648287\n",
      "completed rs:  2639.5601374339667\n",
      "completed rs:  2629.022985238156\n",
      "completed rs:  2618.527897466195\n",
      "completed rs:  2608.0747061964557\n",
      "completed rs:  2597.663244177654\n",
      "completed rs:  2587.2933448261765\n",
      "completed rs:  2576.9648422234113\n",
      "completed rs:  2566.6775711130977\n",
      "completed rs:  2556.431366898677\n",
      "completed rs:  2546.2260656406643\n",
      "completed rs:  2536.061504054021\n",
      "completed rs:  2525.9375195055454\n",
      "completed rs:  2515.853950011269\n",
      "completed rs:  2505.8106342338638\n",
      "completed rs:  2495.807411480064\n",
      "completed rs:  2485.8441216980914\n",
      "completed rs:  2475.9206054750975\n",
      "completed rs:  2466.036704034611\n",
      "completed rs:  2456.192259233998\n",
      "completed rs:  2446.387113561931\n",
      "completed rs:  2436.621110135871\n",
      "completed rs:  2426.894092699554\n",
      "completed rs:  2417.2059056204944\n",
      "completed rs:  2407.556393887492\n",
      "completed rs:  2397.9454031081527\n",
      "completed rs:  2388.372779506419\n",
      "completed rs:  2378.83836992011\n",
      "completed rs:  2369.342021798468\n",
      "completed rs:  2359.8835831997208\n",
      "completed rs:  2350.462902788649\n",
      "completed rs:  2341.0798298341647\n",
      "completed rs:  2331.7342142069015\n",
      "completed rs:  2322.4259063768086\n",
      "completed rs:  2313.154757410763\n",
      "completed rs:  2303.9206189701836\n",
      "completed rs:  2294.723343308658\n",
      "completed rs:  2285.562783269579\n",
      "completed rs:  2276.4387922837914\n",
      "completed rs:  2267.3512243672444\n",
      "completed rs:  2258.2999341186573\n",
      "completed rs:  2249.2847767171934\n",
      "completed rs:  2240.3056079201415\n",
      "completed rs:  2231.36228406061\n",
      "completed rs:  2222.454662045225\n",
      "completed rs:  2213.5825993518456\n",
      "completed rs:  2204.7459540272794\n",
      "completed rs:  2195.9445846850117\n",
      "completed rs:  2187.1783505029457\n",
      "completed rs:  2178.4471112211477\n",
      "completed rs:  2169.750727139603\n",
      "completed rs:  2161.0890591159805\n",
      "completed rs:  2152.461968563407\n",
      "completed rs:  2143.8693174482496\n",
      "completed rs:  2135.310968287907\n",
      "completed rs:  2126.786784148611\n",
      "completed rs:  2118.2966286432325\n",
      "completed rs:  2109.840365929103\n",
      "completed rs:  2101.417860705838\n",
      "completed rs:  2093.0289782131745\n",
      "completed rs:  2084.6735842288135\n",
      "completed rs:  2076.351545066274\n",
      "completed rs:  2068.06272757275\n",
      "completed rs:  2059.8069991269867\n",
      "completed rs:  2051.584227637152\n",
      "completed rs:  2043.394281538726\n",
      "completed rs:  2035.2370297923976\n",
      "completed rs:  2027.112341881964\n",
      "completed rs:  2019.0200878122457\n",
      "completed rs:  2010.960138107005\n",
      "completed rs:  2002.9323638068743\n",
      "completed rs:  1994.9366364672937\n",
      "completed rs:  1986.9728281564553\n",
      "completed rs:  1979.0408114532563\n",
      "completed rs:  1971.14045944526\n",
      "completed rs:  1963.2716457266658\n",
      "completed rs:  1955.4342443962864\n",
      "completed rs:  1947.6281300555333\n",
      "completed rs:  1939.8531778064105\n",
      "completed rs:  1932.109263249516\n",
      "completed rs:  1924.3962624820522\n",
      "completed rs:  1916.7140520958417\n",
      "completed rs:  1909.0625091753545\n",
      "completed rs:  1901.441511295741\n",
      "completed rs:  1893.8509365208722\n",
      "completed rs:  1886.29066340139\n",
      "completed rs:  1878.7605709727632\n",
      "completed rs:  1871.260538753352\n",
      "completed rs:  1863.7904467424812\n",
      "completed rs:  1856.3501754185193\n",
      "completed rs:  1848.9396057369659\n",
      "completed rs:  1841.5586191285486\n",
      "completed rs:  1834.207097497324\n",
      "completed rs:  1826.884923218789\n",
      "completed rs:  1819.591979137999\n",
      "completed rs:  1812.3281485676932\n",
      "completed rs:  1805.0933152864277\n",
      "completed rs:  1797.8873635367152\n",
      "completed rs:  1790.7101780231744\n",
      "completed rs:  1783.5616439106836\n",
      "completed rs:  1776.441646822545\n",
      "completed rs:  1769.3500728386527\n",
      "completed rs:  1762.2868084936722\n",
      "completed rs:  1755.251740775223\n",
      "completed rs:  1748.2447571220716\n",
      "completed rs:  1741.26574542233\n",
      "completed rs:  1734.3145940116622\n",
      "completed rs:  1727.3911916714972\n",
      "completed rs:  1720.4954276272501\n",
      "completed rs:  1713.627191546549\n",
      "completed rs:  1706.78637353747\n",
      "completed rs:  1699.9728641467789\n",
      "completed rs:  1693.1865543581805\n",
      "completed rs:  1686.427335590573\n",
      "completed rs:  1679.6950996963121\n",
      "completed rs:  1672.9897389594798\n",
      "completed rs:  1666.3111460941614\n",
      "completed rs:  1659.6592142427285\n",
      "completed rs:  1653.0338369741294\n",
      "completed rs:  1646.4349082821868\n",
      "completed rs:  1639.8623225839005\n",
      "completed rs:  1633.3159747177594\n",
      "completed rs:  1626.7957599420579\n",
      "completed rs:  1620.3015739332204\n",
      "completed rs:  1613.8333127841324\n",
      "completed rs:  1607.3908730024773\n",
      "completed rs:  1600.9741515090811\n",
      "completed rs:  1594.5830456362635\n",
      "completed rs:  1588.2174531261937\n",
      "completed rs:  1581.877272129256\n",
      "completed rs:  1575.5624012024189\n",
      "completed rs:  1569.2727393076132\n",
      "completed rs:  1563.0081858101141\n",
      "completed rs:  1556.7686404769322\n",
      "completed rs:  1550.5540034752091\n",
      "completed rs:  1544.3641753706202\n",
      "completed rs:  1538.1990571257834\n",
      "completed rs:  1532.0585500986758\n",
      "completed rs:  1525.9425560410534\n",
      "completed rs:  1519.8509770968815\n",
      "completed rs:  1513.7837158007665\n",
      "completed rs:  1507.7406750763982\n",
      "completed rs:  1501.7217582349963\n",
      "completed rs:  1495.726868973763\n",
      "completed rs:  1489.755911374342\n",
      "completed rs:  1483.8087899012849\n",
      "completed rs:  1477.8854094005203\n",
      "completed rs:  1471.9856750978347\n",
      "completed rs:  1466.1094925973528\n",
      "completed rs:  1460.2567678800297\n",
      "completed rs:  1454.4274073021445\n",
      "completed rs:  1448.6213175938042\n",
      "completed rs:  1442.8384058574493\n",
      "completed rs:  1437.0785795663685\n",
      "completed rs:  1431.3417465632187\n",
      "completed rs:  1425.627815058549\n",
      "completed rs:  1419.9366936293338\n",
      "completed rs:  1414.2682912175087\n",
      "completed rs:  1408.622517128514\n",
      "completed rs:  1402.999281029844\n",
      "completed rs:  1397.3984929496012\n",
      "completed rs:  1391.8200632750568\n",
      "completed rs:  1386.2639027512168\n",
      "completed rs:  1380.7299224793946\n",
      "completed rs:  1375.2180339157876\n",
      "completed rs:  1369.7281488700614\n",
      "completed rs:  1364.2601795039377\n",
      "completed rs:  1358.8140383297905\n",
      "completed rs:  1353.3896382092446\n",
      "completed rs:  1347.9868923517824\n",
      "completed rs:  1342.6057143133548\n",
      "completed rs:  1337.2460179949987\n",
      "completed rs:  1331.9077176414582\n",
      "completed rs:  1326.590727839814\n",
      "completed rs:  1321.294963518116\n",
      "completed rs:  1316.020339944022\n",
      "completed rs:  1310.766772723442\n",
      "completed rs:  1305.5341777991887\n",
      "completed rs:  1300.3224714496316\n",
      "completed rs:  1295.1315702873578\n",
      "completed rs:  1289.9613912578382\n",
      "completed rs:  1284.811851638098\n",
      "completed rs:  1279.6828690353932\n",
      "completed rs:  1274.5743613858929\n",
      "completed rs:  1269.4862469533657\n",
      "completed rs:  1264.418444327872\n",
      "completed rs:  1259.370872424462\n",
      "completed rs:  1254.3434504818774\n",
      "completed rs:  1249.33609806126\n",
      "completed rs:  1244.3487350448636\n",
      "completed rs:  1239.3812816347745\n",
      "completed rs:  1234.4336583516315\n",
      "completed rs:  1229.5057860333566\n",
      "completed rs:  1224.597585833888\n",
      "completed rs:  1219.7089792219172\n",
      "completed rs:  1214.8398879796346\n",
      "completed rs:  1209.9902342014761\n",
      "completed rs:  1205.1599402928782\n",
      "completed rs:  1200.348928969035\n",
      "completed rs:  1195.5571232536627\n",
      "completed rs:  1190.7844464777677\n",
      "completed rs:  1186.0308222784197\n",
      "completed rs:  1181.2961745975304\n",
      "completed rs:  1176.5804276806352\n",
      "completed rs:  1171.8835060756837\n",
      "completed rs:  1167.2053346318294\n",
      "completed rs:  1162.5458384982296\n",
      "completed rs:  1157.9049431228468\n",
      "completed rs:  1153.282574251256\n",
      "completed rs:  1148.6786579254565\n",
      "completed rs:  1144.093120482689\n",
      "completed rs:  1139.5258885542567\n",
      "completed rs:  1134.9768890643509\n"
     ]
    },
    {
     "name": "stdout",
     "output_type": "stream",
     "text": [
      "completed rs:  1130.446049228883\n",
      "completed rs:  1125.9332965543192\n",
      "completed rs:  1121.43855883652\n",
      "completed rs:  1116.9617641595864\n",
      "completed rs:  1112.5028408947076\n",
      "completed rs:  1108.0617176990168\n",
      "completed rs:  1103.6383235144476\n",
      "completed rs:  1099.232587566599\n",
      "completed rs:  1094.8444393636019\n",
      "completed rs:  1090.473808694991\n",
      "completed rs:  1086.120625630583\n",
      "completed rs:  1081.7848205193554\n",
      "completed rs:  1077.4663239883346\n",
      "completed rs:  1073.1650669414832\n",
      "completed rs:  1068.8809805585972\n",
      "completed rs:  1064.613996294203\n",
      "completed rs:  1060.364045876461\n",
      "completed rs:  1056.1310613060743\n",
      "completed rs:  1051.9149748551993\n",
      "completed rs:  1047.715719066363\n",
      "completed rs:  1043.533226751383\n",
      "completed rs:  1039.3674309902929\n",
      "completed rs:  1035.218265130272\n",
      "completed rs:  1031.0856627845776\n",
      "completed rs:  1026.9695578314843\n",
      "completed rs:  1022.8698844132251\n",
      "completed rs:  1018.7865769349378\n",
      "completed rs:  1014.7195700636155\n",
      "completed rs:  1010.6687987270616\n",
      "completed rs:  1006.6341981128483\n",
      "completed rs:  1002.6157036672796\n",
      "completed rs:  998.6132510943588\n",
      "completed rs:  994.6267763547593\n",
      "completed rs:  990.6562156648001\n",
      "completed rs:  986.7015054954255\n",
      "completed rs:  982.7625825711885\n",
      "completed rs:  978.8393838692384\n",
      "completed rs:  974.931846618312\n",
      "completed rs:  971.03990829773\n",
      "completed rs:  967.1635066363964\n",
      "completed rs:  963.3025796118018\n",
      "completed rs:  959.4570654490313\n",
      "completed rs:  955.6269026197766\n",
      "completed rs:  951.8120298413504\n",
      "completed rs:  948.012386075707\n",
      "completed rs:  944.2279105284651\n",
      "completed rs:  940.4585426479352\n",
      "completed rs:  936.7042221241509\n",
      "completed rs:  932.9648888879035\n",
      "completed rs:  929.2404831097816\n",
      "completed rs:  925.5309451992133\n",
      "completed rs:  921.8362158035128\n",
      "completed rs:  918.1562358069309\n",
      "completed rs:  914.4909463297095\n",
      "completed rs:  910.8402887271383\n",
      "completed rs:  907.204204588618\n",
      "completed rs:  903.582635736725\n",
      "completed rs:  899.9755242262801\n",
      "completed rs:  896.3828123434223\n",
      "completed rs:  892.8044426046848\n",
      "completed rs:  889.2403577560756\n",
      "completed rs:  885.6905007721609\n",
      "completed rs:  882.1548148551533\n",
      "completed rs:  878.6332434340027\n",
      "completed rs:  875.1257301634912\n",
      "completed rs:  871.6322189233317\n",
      "completed rs:  868.1526538172698\n",
      "completed rs:  864.6869791721896\n",
      "completed rs:  861.2351395372227\n",
      "completed rs:  857.7970796828615\n",
      "completed rs:  854.3727446000748\n",
      "completed rs:  850.9620794994286\n",
      "completed rs:  847.565029810208\n",
      "completed rs:  844.1815411795459\n",
      "completed rs:  840.8115594715517\n",
      "completed rs:  837.4550307664465\n",
      "completed rs:  834.1119013596993\n",
      "completed rs:  830.7821177611683\n",
      "completed rs:  827.4656266942446\n",
      "completed rs:  824.1623750950008\n",
      "completed rs:  820.8723101113407\n",
      "completed rs:  817.5953791021542\n",
      "completed rs:  814.3315296364755\n",
      "completed rs:  811.0807094926432\n",
      "completed rs:  807.8428666574661\n",
      "completed rs:  804.6179493253893\n",
      "completed rs:  801.4059058976669\n"
     ]
    }
   ],
   "source": [
    "%autoreload\n",
    "inj_type='swave'\n",
    "end_rs = 5\n",
    "sigmav = 1e-33#1e-26\n",
    "\n",
    "Einj = 10**log10eng[-8]\n",
    "mDM = Einj\n",
    "Ecom=2*mDM\n",
    "\n",
    "indTmp = spectools.get_indx(photeng,Einj)\n",
    "if photeng[indTmp] >= Einj:\n",
    "    indTmp -= 1\n",
    "\n",
    "phot_spec_init = spectools.rebin_N_arr(\n",
    "    np.array([mDM/photeng[indTmp]]),\n",
    "    np.array([photeng[indTmp]]),\n",
    "    photeng\n",
    ")\n",
    "\n",
    "elec_spec_init = Spectrum(eng=eleceng, data=np.zeros_like(eleceng), rs=3000, spec_type='N')\n",
    "\n",
    "phot_spec_init.rs = 3000\n",
    "phot_spec_init.switch_spec_type()\n",
    "\n",
    "data_phot = main.evolve(\n",
    "    elec_spec_init, phot_spec_init,\n",
    "    rate_func_swave_N, rate_func_swave_eng, end_rs,\n",
    "    highengphot_tf_interp, lowengphot_tf_interp, lowengelec_tf_interp,\n",
    "    highengdep_interp, CMB_engloss_interp,\n",
    "#         ics_thomson_ref_tf, ics_rel_ref_tf, engloss_ref_tf,\n",
    "    coarsen_factor=8, std_soln=True,\n",
    "    struct_boost=struct_boost,\n",
    "    ics_only=False, separate_higheng=False,\n",
    "    xe_func=xe_idl_func, user=None, verbose=False, \n",
    "    use_tqdm=True\n",
    ")"
   ]
  },
  {
   "cell_type": "code",
   "execution_count": null,
   "metadata": {},
   "outputs": [
    {
     "data": {
      "application/vnd.jupyter.widget-view+json": {
       "model_id": "c88eb67b4b9843d595a7601ec7a6a7af",
       "version_major": 2,
       "version_minor": 0
      },
      "text/plain": [
       "HBox(children=(IntProgress(value=0, max=40), HTML(value='')))"
      ]
     },
     "metadata": {},
     "output_type": "display_data"
    },
    {
     "data": {
      "application/vnd.jupyter.widget-view+json": {
       "model_id": "78c420ab244a4cc883dab86b445cd6a5",
       "version_major": 2,
       "version_minor": 0
      },
      "text/plain": [
       "HBox(children=(IntProgress(value=0, max=800), HTML(value='')))"
      ]
     },
     "metadata": {},
     "output_type": "display_data"
    },
    {
     "data": {
      "application/vnd.jupyter.widget-view+json": {
       "model_id": "e61a5a20faa54d5e825259aa7ec9ea2a",
       "version_major": 2,
       "version_minor": 0
      },
      "text/plain": [
       "HBox(children=(IntProgress(value=0, max=800), HTML(value='')))"
      ]
     },
     "metadata": {},
     "output_type": "display_data"
    },
    {
     "data": {
      "application/vnd.jupyter.widget-view+json": {
       "model_id": "91a7e31c67f94172bf97cdb5fe52be56",
       "version_major": 2,
       "version_minor": 0
      },
      "text/plain": [
       "HBox(children=(IntProgress(value=0, max=800), HTML(value='')))"
      ]
     },
     "metadata": {},
     "output_type": "display_data"
    },
    {
     "data": {
      "application/vnd.jupyter.widget-view+json": {
       "model_id": "a256a1ea64014659a96433e494a98190",
       "version_major": 2,
       "version_minor": 0
      },
      "text/plain": [
       "HBox(children=(IntProgress(value=0, max=800), HTML(value='')))"
      ]
     },
     "metadata": {},
     "output_type": "display_data"
    },
    {
     "data": {
      "application/vnd.jupyter.widget-view+json": {
       "model_id": "a8dd9b79810c44fb866e303e33de5fce",
       "version_major": 2,
       "version_minor": 0
      },
      "text/plain": [
       "HBox(children=(IntProgress(value=0, max=800), HTML(value='')))"
      ]
     },
     "metadata": {},
     "output_type": "display_data"
    },
    {
     "data": {
      "application/vnd.jupyter.widget-view+json": {
       "model_id": "0a84d1f9a4b14f4aa2f1003aa51923fe",
       "version_major": 2,
       "version_minor": 0
      },
      "text/plain": [
       "HBox(children=(IntProgress(value=0, max=800), HTML(value='')))"
      ]
     },
     "metadata": {},
     "output_type": "display_data"
    },
    {
     "data": {
      "application/vnd.jupyter.widget-view+json": {
       "model_id": "f848ca2b3f2b45dcabf72f5108527b74",
       "version_major": 2,
       "version_minor": 0
      },
      "text/plain": [
       "HBox(children=(IntProgress(value=0, max=800), HTML(value='')))"
      ]
     },
     "metadata": {},
     "output_type": "display_data"
    }
   ],
   "source": [
    "%autoreload\n",
    "inj_type='swave'\n",
    "end_rs = 5\n",
    "sigmav = 1e-33#1e-26\n",
    "tau=1e25\n",
    "f_swave_phot = []\n",
    "for i,Einj in enumerate(tqdm(10**log10eng)):\n",
    "    mDM = Einj\n",
    "    Ecom=2*mDM\n",
    "    \n",
    "    indTmp = spectools.get_indx(photeng,Einj)\n",
    "    if photeng[indTmp] >= Einj:\n",
    "        indTmp -= 1\n",
    "    \n",
    "    phot_spec_init = spectools.rebin_N_arr(\n",
    "        np.array([2*Einj/photeng[indTmp]]),\n",
    "        np.array([photeng[indTmp]]),\n",
    "        photeng\n",
    "    )\n",
    "#     phot_spec_init = spectools.rebin_N_arr(np.array([2]), \n",
    "#                                       np.array([Einj]), \n",
    "#                                       highengphot_tf_interp.eng)\n",
    "    phot_spec_init.rs = 3000\n",
    "    phot_spec_init.switch_spec_type()\n",
    "    elec_spec_init = Spectrum(eleceng, 0*eleceng, rs=3e3)\n",
    "    elec_spec_init.switch_spec_type()\n",
    "\n",
    "    data_phot = main.evolve(\n",
    "        elec_spec_init, phot_spec_init,\n",
    "        rate_func_swave_N, rate_func_swave_eng, end_rs,\n",
    "        highengphot_tf_interp, lowengphot_tf_interp, lowengelec_tf_interp,\n",
    "        highengdep_interp, CMB_engloss_interp,\n",
    "#         ics_thomson_ref_tf, ics_rel_ref_tf, engloss_ref_tf,\n",
    "        coarsen_factor=8, std_soln=True,\n",
    "        struct_boost=struct_boost,\n",
    "        ics_only=False, separate_higheng=False,\n",
    "        xe_func=xe_idl_func, user=None, verbose=False, \n",
    "        use_tqdm=True\n",
    "    )\n",
    "    \n",
    "    f_swave_phot.append(data_phot[6])\n",
    "\n",
    "rs_list_phot = data_phot[3].rs\n",
    "f_swave_phot = np.array(f_swave_phot)\n",
    "\n",
    "pickle.dump(f_swave_phot, open(\"/home/gridgway/Dropbox (MIT)/Photon Deposition/f_swave_phot_v2.p\", \"wb\"))"
   ]
  },
  {
   "cell_type": "code",
   "execution_count": 18,
   "metadata": {
    "collapsed": true
   },
   "outputs": [],
   "source": [
    "direc='/Users/GregoryRidgway/Desktop/Dark Matter/DH_Data/'\n",
    "f_swave_phot = np.array(f_swave_phot)\n",
    "pickle.dump(f_swave_phot, open(direc+\"f_swave_phot.p\", \"wb\"))"
   ]
  },
  {
   "cell_type": "markdown",
   "metadata": {},
   "source": [
    "### swave, electrons"
   ]
  },
  {
   "cell_type": "code",
   "execution_count": 95,
   "metadata": {},
   "outputs": [
    {
     "data": {
      "application/vnd.jupyter.widget-view+json": {
       "model_id": "ad9dbe7c31944b69b198bf7316422745",
       "version_major": 2,
       "version_minor": 0
      },
      "text/plain": [
       "HBox(children=(IntProgress(value=0, max=39), HTML(value='')))"
      ]
     },
     "metadata": {},
     "output_type": "display_data"
    },
    {
     "name": "stderr",
     "output_type": "stream",
     "text": [
      "/home/gridgway/anaconda3/lib/python3.6/site-packages/scipy/integrate/odepack.py:236: ODEintWarning: Excess work done on this call (perhaps wrong Dfun type). Run with full_output = 1 to get quantitative information.\n",
      "  warnings.warn(warning_msg, ODEintWarning)\n"
     ]
    }
   ],
   "source": [
    "%autoreload\n",
    "inj_type='swave'\n",
    "end_rs = 5\n",
    "sigmav = 1e-33#1e-26\n",
    "tau=1e24\n",
    "f_swave_elec = []\n",
    "for i,Einj in enumerate(tqdm(10**log10eng[:-1])):\n",
    "    mDM = Einj + phys.me\n",
    "    Ecom=2*mDM\n",
    "    phot_spec_init = Spectrum(photeng,\n",
    "                             np.zeros_like(photeng),\n",
    "                             spec_type='N',\n",
    "                             rs=3000)\n",
    "    \n",
    "    indTmp = spectools.get_indx(eleceng,Einj)\n",
    "    if eleceng[indTmp] >= Einj:\n",
    "        indTmp -= 1\n",
    "    \n",
    "    elec_spec_init = spectools.rebin_N_arr(\n",
    "        np.array([2*Einj/eleceng[indTmp]]),\n",
    "        np.array([eleceng[indTmp]]),\n",
    "        eleceng\n",
    "    )\n",
    "#     elec_spec_init = spectools.rebin_N_arr(np.array([2]), \n",
    "#                                       np.array([Einj]), \n",
    "#                                       eleceng)\n",
    "    elec_spec_init.rs = 3000\n",
    "    elec_spec_init.switch_spec_type()\n",
    "    \n",
    "    data_elec = main.evolve(\n",
    "        elec_spec_init, phot_spec_init,\n",
    "        rate_func_swave_N, rate_func_swave_eng, end_rs,\n",
    "        highengphot_tf_interp, lowengphot_tf_interp, lowengelec_tf_interp,\n",
    "        highengdep_interp, CMB_engloss_interp,\n",
    "        ics_thomson_ref_tf, ics_rel_ref_tf, engloss_ref_tf,\n",
    "        coarsen_factor=16, std_soln=True,\n",
    "        struct_boost=struct_boost,\n",
    "        reion_switch=False\n",
    "    )\n",
    "\n",
    "    f_swave_elec.append(data_elec[5])\n",
    "\n",
    "rs_list_elec = data_elec[3].rs\n",
    "f_swave_elec = np.array(f_swave_elec)\n",
    "\n",
    "pickle.dump(f_swave_elec, open(\"/home/gridgway/Dropbox (MIT)/Photon Deposition/f_swave_elec.p\", \"wb\"))"
   ]
  },
  {
   "cell_type": "code",
   "execution_count": 255,
   "metadata": {
    "collapsed": true
   },
   "outputs": [],
   "source": [
    "pickle.dump(f_swave_elec, open(\"/home/gridgway/Desktop/f_contour_debug/f_swave_elec.p\", \"wb\"))\n",
    "pickle.dump(f_swave_phot, open(\"/home/gridgway/Desktop/f_contour_debug/f_swave_phot.p\", \"wb\"))\n",
    "pickle.dump(f_decay_elec, open(\"/home/gridgway/Desktop/f_contour_debug/f_decay_elec.p\", \"wb\"))\n",
    "pickle.dump(f_decay_phot, open(\"/home/gridgway/Desktop/f_contour_debug/f_decay_phot.p\", \"wb\"))"
   ]
  },
  {
   "cell_type": "code",
   "execution_count": 317,
   "metadata": {
    "collapsed": true
   },
   "outputs": [],
   "source": [
    "for i,fs in enumerate(f_decay_elec):\n",
    "    fs = fs * 10**log10eng[i]/(10**log10eng[i] + phys.me)"
   ]
  },
  {
   "cell_type": "code",
   "execution_count": 314,
   "metadata": {
    "collapsed": true
   },
   "outputs": [],
   "source": [
    "f_decay_elec = pickle.load(open(\"/home/gridgway/Dropbox (MIT)/Photon Deposition/f_decay_elec.p\", \"rb\"))\n",
    "f_decay_phot = pickle.load(open(\"/home/gridgway/Dropbox (MIT)/Photon Deposition/f_decay_phot.p\", \"rb\"))\n",
    "f_swave_elec = pickle.load(open(\"/home/gridgway/Dropbox (MIT)/Photon Deposition/f_swave_elec.p\", \"rb\"))\n",
    "f_swave_phot = pickle.load(open(\"/home/gridgway/Dropbox (MIT)/Photon Deposition/f_swave_phot.p\", \"rb\"))"
   ]
  },
  {
   "cell_type": "code",
   "execution_count": 318,
   "metadata": {},
   "outputs": [
    {
     "ename": "TypeError",
     "evalue": "Length of x must be number of columns in z.",
     "output_type": "error",
     "traceback": [
      "\u001b[0;31m---------------------------------------------------------------------------\u001b[0m",
      "\u001b[0;31mTypeError\u001b[0m                                 Traceback (most recent call last)",
      "\u001b[0;32m<ipython-input-318-8741e4ba785e>\u001b[0m in \u001b[0;36m<module>\u001b[0;34m()\u001b[0m\n\u001b[0;32m----> 1\u001b[0;31m \u001b[0mget_fcontour\u001b[0m\u001b[0;34m(\u001b[0m\u001b[0;34m'decay'\u001b[0m\u001b[0;34m,\u001b[0m\u001b[0;34m'elec'\u001b[0m\u001b[0;34m,\u001b[0m\u001b[0;34m'H_ion'\u001b[0m\u001b[0;34m)\u001b[0m\u001b[0;34m\u001b[0m\u001b[0m\n\u001b[0m",
      "\u001b[0;32m<ipython-input-297-43429a096168>\u001b[0m in \u001b[0;36mget_fcontour\u001b[0;34m(inj_type, inj_particle, channel)\u001b[0m\n\u001b[1;32m     91\u001b[0m                      \u001b[0mnorm\u001b[0m\u001b[0;34m=\u001b[0m\u001b[0mmatplotlib\u001b[0m\u001b[0;34m.\u001b[0m\u001b[0mcolors\u001b[0m\u001b[0;34m.\u001b[0m\u001b[0mLogNorm\u001b[0m\u001b[0;34m(\u001b[0m\u001b[0;34m)\u001b[0m\u001b[0;34m,\u001b[0m\u001b[0;34m\u001b[0m\u001b[0m\n\u001b[1;32m     92\u001b[0m                      \u001b[0mlevels\u001b[0m\u001b[0;34m=\u001b[0m\u001b[0mlevels2\u001b[0m\u001b[0;34m,\u001b[0m\u001b[0;34m\u001b[0m\u001b[0m\n\u001b[0;32m---> 93\u001b[0;31m                      cmap=matplotlib.cm.RdBu_r)\n\u001b[0m\u001b[1;32m     94\u001b[0m     ax.contour(eng,rs_list,\n\u001b[1;32m     95\u001b[0m                \u001b[0mnp\u001b[0m\u001b[0;34m.\u001b[0m\u001b[0mtranspose\u001b[0m\u001b[0;34m(\u001b[0m\u001b[0mf_for_plot\u001b[0m\u001b[0;34m[\u001b[0m\u001b[0;34m:\u001b[0m\u001b[0;34m,\u001b[0m\u001b[0;34m:\u001b[0m\u001b[0;34m,\u001b[0m\u001b[0mind\u001b[0m\u001b[0;34m]\u001b[0m\u001b[0;34m)\u001b[0m\u001b[0;34m,\u001b[0m\u001b[0;34m\u001b[0m\u001b[0m\n",
      "\u001b[0;32m~/anaconda3/lib/python3.6/site-packages/matplotlib/__init__.py\u001b[0m in \u001b[0;36minner\u001b[0;34m(ax, *args, **kwargs)\u001b[0m\n\u001b[1;32m   1853\u001b[0m                         \u001b[0;34m\"the Matplotlib list!)\"\u001b[0m \u001b[0;34m%\u001b[0m \u001b[0;34m(\u001b[0m\u001b[0mlabel_namer\u001b[0m\u001b[0;34m,\u001b[0m \u001b[0mfunc\u001b[0m\u001b[0;34m.\u001b[0m\u001b[0m__name__\u001b[0m\u001b[0;34m)\u001b[0m\u001b[0;34m,\u001b[0m\u001b[0;34m\u001b[0m\u001b[0m\n\u001b[1;32m   1854\u001b[0m                         RuntimeWarning, stacklevel=2)\n\u001b[0;32m-> 1855\u001b[0;31m             \u001b[0;32mreturn\u001b[0m \u001b[0mfunc\u001b[0m\u001b[0;34m(\u001b[0m\u001b[0max\u001b[0m\u001b[0;34m,\u001b[0m \u001b[0;34m*\u001b[0m\u001b[0margs\u001b[0m\u001b[0;34m,\u001b[0m \u001b[0;34m**\u001b[0m\u001b[0mkwargs\u001b[0m\u001b[0;34m)\u001b[0m\u001b[0;34m\u001b[0m\u001b[0m\n\u001b[0m\u001b[1;32m   1856\u001b[0m \u001b[0;34m\u001b[0m\u001b[0m\n\u001b[1;32m   1857\u001b[0m         inner.__doc__ = _add_data_doc(inner.__doc__,\n",
      "\u001b[0;32m~/anaconda3/lib/python3.6/site-packages/matplotlib/axes/_axes.py\u001b[0m in \u001b[0;36mcontourf\u001b[0;34m(self, *args, **kwargs)\u001b[0m\n\u001b[1;32m   6179\u001b[0m             \u001b[0mself\u001b[0m\u001b[0;34m.\u001b[0m\u001b[0mcla\u001b[0m\u001b[0;34m(\u001b[0m\u001b[0;34m)\u001b[0m\u001b[0;34m\u001b[0m\u001b[0m\n\u001b[1;32m   6180\u001b[0m         \u001b[0mkwargs\u001b[0m\u001b[0;34m[\u001b[0m\u001b[0;34m'filled'\u001b[0m\u001b[0;34m]\u001b[0m \u001b[0;34m=\u001b[0m \u001b[0;32mTrue\u001b[0m\u001b[0;34m\u001b[0m\u001b[0m\n\u001b[0;32m-> 6181\u001b[0;31m         \u001b[0mcontours\u001b[0m \u001b[0;34m=\u001b[0m \u001b[0mmcontour\u001b[0m\u001b[0;34m.\u001b[0m\u001b[0mQuadContourSet\u001b[0m\u001b[0;34m(\u001b[0m\u001b[0mself\u001b[0m\u001b[0;34m,\u001b[0m \u001b[0;34m*\u001b[0m\u001b[0margs\u001b[0m\u001b[0;34m,\u001b[0m \u001b[0;34m**\u001b[0m\u001b[0mkwargs\u001b[0m\u001b[0;34m)\u001b[0m\u001b[0;34m\u001b[0m\u001b[0m\n\u001b[0m\u001b[1;32m   6182\u001b[0m         \u001b[0mself\u001b[0m\u001b[0;34m.\u001b[0m\u001b[0mautoscale_view\u001b[0m\u001b[0;34m(\u001b[0m\u001b[0;34m)\u001b[0m\u001b[0;34m\u001b[0m\u001b[0m\n\u001b[1;32m   6183\u001b[0m         \u001b[0;32mreturn\u001b[0m \u001b[0mcontours\u001b[0m\u001b[0;34m\u001b[0m\u001b[0m\n",
      "\u001b[0;32m~/anaconda3/lib/python3.6/site-packages/matplotlib/contour.py\u001b[0m in \u001b[0;36m__init__\u001b[0;34m(self, ax, *args, **kwargs)\u001b[0m\n\u001b[1;32m    844\u001b[0m         \u001b[0mself\u001b[0m\u001b[0;34m.\u001b[0m\u001b[0m_transform\u001b[0m \u001b[0;34m=\u001b[0m \u001b[0mkwargs\u001b[0m\u001b[0;34m.\u001b[0m\u001b[0mpop\u001b[0m\u001b[0;34m(\u001b[0m\u001b[0;34m'transform'\u001b[0m\u001b[0;34m,\u001b[0m \u001b[0;32mNone\u001b[0m\u001b[0;34m)\u001b[0m\u001b[0;34m\u001b[0m\u001b[0m\n\u001b[1;32m    845\u001b[0m \u001b[0;34m\u001b[0m\u001b[0m\n\u001b[0;32m--> 846\u001b[0;31m         \u001b[0mkwargs\u001b[0m \u001b[0;34m=\u001b[0m \u001b[0mself\u001b[0m\u001b[0;34m.\u001b[0m\u001b[0m_process_args\u001b[0m\u001b[0;34m(\u001b[0m\u001b[0;34m*\u001b[0m\u001b[0margs\u001b[0m\u001b[0;34m,\u001b[0m \u001b[0;34m**\u001b[0m\u001b[0mkwargs\u001b[0m\u001b[0;34m)\u001b[0m\u001b[0;34m\u001b[0m\u001b[0m\n\u001b[0m\u001b[1;32m    847\u001b[0m         \u001b[0mself\u001b[0m\u001b[0;34m.\u001b[0m\u001b[0m_process_levels\u001b[0m\u001b[0;34m(\u001b[0m\u001b[0;34m)\u001b[0m\u001b[0;34m\u001b[0m\u001b[0m\n\u001b[1;32m    848\u001b[0m \u001b[0;34m\u001b[0m\u001b[0m\n",
      "\u001b[0;32m~/anaconda3/lib/python3.6/site-packages/matplotlib/contour.py\u001b[0m in \u001b[0;36m_process_args\u001b[0;34m(self, *args, **kwargs)\u001b[0m\n\u001b[1;32m   1414\u001b[0m                 \u001b[0mself\u001b[0m\u001b[0;34m.\u001b[0m\u001b[0m_corner_mask\u001b[0m \u001b[0;34m=\u001b[0m \u001b[0mmpl\u001b[0m\u001b[0;34m.\u001b[0m\u001b[0mrcParams\u001b[0m\u001b[0;34m[\u001b[0m\u001b[0;34m'contour.corner_mask'\u001b[0m\u001b[0;34m]\u001b[0m\u001b[0;34m\u001b[0m\u001b[0m\n\u001b[1;32m   1415\u001b[0m \u001b[0;34m\u001b[0m\u001b[0m\n\u001b[0;32m-> 1416\u001b[0;31m             \u001b[0mx\u001b[0m\u001b[0;34m,\u001b[0m \u001b[0my\u001b[0m\u001b[0;34m,\u001b[0m \u001b[0mz\u001b[0m \u001b[0;34m=\u001b[0m \u001b[0mself\u001b[0m\u001b[0;34m.\u001b[0m\u001b[0m_contour_args\u001b[0m\u001b[0;34m(\u001b[0m\u001b[0margs\u001b[0m\u001b[0;34m,\u001b[0m \u001b[0mkwargs\u001b[0m\u001b[0;34m)\u001b[0m\u001b[0;34m\u001b[0m\u001b[0m\n\u001b[0m\u001b[1;32m   1417\u001b[0m \u001b[0;34m\u001b[0m\u001b[0m\n\u001b[1;32m   1418\u001b[0m             \u001b[0m_mask\u001b[0m \u001b[0;34m=\u001b[0m \u001b[0mma\u001b[0m\u001b[0;34m.\u001b[0m\u001b[0mgetmask\u001b[0m\u001b[0;34m(\u001b[0m\u001b[0mz\u001b[0m\u001b[0;34m)\u001b[0m\u001b[0;34m\u001b[0m\u001b[0m\n",
      "\u001b[0;32m~/anaconda3/lib/python3.6/site-packages/matplotlib/contour.py\u001b[0m in \u001b[0;36m_contour_args\u001b[0;34m(self, args, kwargs)\u001b[0m\n\u001b[1;32m   1472\u001b[0m             \u001b[0margs\u001b[0m \u001b[0;34m=\u001b[0m \u001b[0margs\u001b[0m\u001b[0;34m[\u001b[0m\u001b[0;36m1\u001b[0m\u001b[0;34m:\u001b[0m\u001b[0;34m]\u001b[0m\u001b[0;34m\u001b[0m\u001b[0m\n\u001b[1;32m   1473\u001b[0m         \u001b[0;32melif\u001b[0m \u001b[0mNargs\u001b[0m \u001b[0;34m<=\u001b[0m \u001b[0;36m4\u001b[0m\u001b[0;34m:\u001b[0m\u001b[0;34m\u001b[0m\u001b[0m\n\u001b[0;32m-> 1474\u001b[0;31m             \u001b[0mx\u001b[0m\u001b[0;34m,\u001b[0m \u001b[0my\u001b[0m\u001b[0;34m,\u001b[0m \u001b[0mz\u001b[0m \u001b[0;34m=\u001b[0m \u001b[0mself\u001b[0m\u001b[0;34m.\u001b[0m\u001b[0m_check_xyz\u001b[0m\u001b[0;34m(\u001b[0m\u001b[0margs\u001b[0m\u001b[0;34m[\u001b[0m\u001b[0;34m:\u001b[0m\u001b[0;36m3\u001b[0m\u001b[0;34m]\u001b[0m\u001b[0;34m,\u001b[0m \u001b[0mkwargs\u001b[0m\u001b[0;34m)\u001b[0m\u001b[0;34m\u001b[0m\u001b[0m\n\u001b[0m\u001b[1;32m   1475\u001b[0m             \u001b[0margs\u001b[0m \u001b[0;34m=\u001b[0m \u001b[0margs\u001b[0m\u001b[0;34m[\u001b[0m\u001b[0;36m3\u001b[0m\u001b[0;34m:\u001b[0m\u001b[0;34m]\u001b[0m\u001b[0;34m\u001b[0m\u001b[0m\n\u001b[1;32m   1476\u001b[0m         \u001b[0;32melse\u001b[0m\u001b[0;34m:\u001b[0m\u001b[0;34m\u001b[0m\u001b[0m\n",
      "\u001b[0;32m~/anaconda3/lib/python3.6/site-packages/matplotlib/contour.py\u001b[0m in \u001b[0;36m_check_xyz\u001b[0;34m(self, args, kwargs)\u001b[0m\n\u001b[1;32m   1521\u001b[0m \u001b[0;34m\u001b[0m\u001b[0m\n\u001b[1;32m   1522\u001b[0m             \u001b[0;32mif\u001b[0m \u001b[0mnx\u001b[0m \u001b[0;34m!=\u001b[0m \u001b[0mNx\u001b[0m\u001b[0;34m:\u001b[0m\u001b[0;34m\u001b[0m\u001b[0m\n\u001b[0;32m-> 1523\u001b[0;31m                 \u001b[0;32mraise\u001b[0m \u001b[0mTypeError\u001b[0m\u001b[0;34m(\u001b[0m\u001b[0;34m\"Length of x must be number of columns in z.\"\u001b[0m\u001b[0;34m)\u001b[0m\u001b[0;34m\u001b[0m\u001b[0m\n\u001b[0m\u001b[1;32m   1524\u001b[0m \u001b[0;34m\u001b[0m\u001b[0m\n\u001b[1;32m   1525\u001b[0m             \u001b[0;32mif\u001b[0m \u001b[0mny\u001b[0m \u001b[0;34m!=\u001b[0m \u001b[0mNy\u001b[0m\u001b[0;34m:\u001b[0m\u001b[0;34m\u001b[0m\u001b[0m\n",
      "\u001b[0;31mTypeError\u001b[0m: Length of x must be number of columns in z."
     ]
    },
    {
     "data": {
      "image/png": "[encoded data removed]",
      "text/plain": [
       "<Figure size 720x720 with 1 Axes>"
      ]
     },
     "metadata": {},
     "output_type": "display_data"
    }
   ],
   "source": [
    "get_fcontour('swave','phot','H_ion')"
   ]
  },
  {
   "cell_type": "markdown",
   "metadata": {},
   "source": [
    "# Swave Annihilation to Photons"
   ]
  },
  {
   "cell_type": "code",
   "execution_count": 308,
   "metadata": {
    "collapsed": true
   },
   "outputs": [],
   "source": [
    "import darkhistory.low_energy.lowE_electrons as lowE_elec"
   ]
  },
  {
   "cell_type": "code",
   "execution_count": 309,
   "metadata": {},
   "outputs": [
    {
     "name": "stdout",
     "output_type": "stream",
     "text": [
      "stuff\n",
      "AHHHH YEAHHHH!\n",
      "(5, 26)\n"
     ]
    },
    {
     "ename": "ValueError",
     "evalue": "could not broadcast input array from shape (5,26) into shape (26,5)",
     "output_type": "error",
     "traceback": [
      "\u001b[0;31m---------------------------------------------------------------------------\u001b[0m",
      "\u001b[0;31mValueError\u001b[0m                                Traceback (most recent call last)",
      "\u001b[0;32m<ipython-input-309-c5fc8fc28de6>\u001b[0m in \u001b[0;36m<module>\u001b[0;34m()\u001b[0m\n\u001b[1;32m      1\u001b[0m \u001b[0mget_ipython\u001b[0m\u001b[0;34m(\u001b[0m\u001b[0;34m)\u001b[0m\u001b[0;34m.\u001b[0m\u001b[0mrun_line_magic\u001b[0m\u001b[0;34m(\u001b[0m\u001b[0;34m'autoreload'\u001b[0m\u001b[0;34m,\u001b[0m \u001b[0;34m''\u001b[0m\u001b[0;34m)\u001b[0m\u001b[0;34m\u001b[0m\u001b[0m\n\u001b[0;32m----> 2\u001b[0;31m \u001b[0mtmp\u001b[0m \u001b[0;34m=\u001b[0m \u001b[0mlowE_elec\u001b[0m\u001b[0;34m.\u001b[0m\u001b[0mmake_interpolator\u001b[0m\u001b[0;34m(\u001b[0m\u001b[0;34m)\u001b[0m\u001b[0;34m\u001b[0m\u001b[0m\n\u001b[0m",
      "\u001b[0;32m~/Desktop/DarkHistory/darkhistory/low_energy/lowE_electrons.py\u001b[0m in \u001b[0;36mmake_interpolator\u001b[0;34m()\u001b[0m\n\u001b[1;32m     56\u001b[0m                     \u001b[0;32mfor\u001b[0m \u001b[0mline\u001b[0m \u001b[0;32min\u001b[0m \u001b[0mlines_list\u001b[0m\u001b[0;34m[\u001b[0m\u001b[0;36m2\u001b[0m\u001b[0;34m:\u001b[0m\u001b[0;34m]\u001b[0m\u001b[0;34m\u001b[0m\u001b[0m\n\u001b[1;32m     57\u001b[0m                 ] for k in [1,2,3,4,5]\n\u001b[0;32m---> 58\u001b[0;31m             ]))\n\u001b[0m\u001b[1;32m     59\u001b[0m \u001b[0;34m\u001b[0m\u001b[0m\n\u001b[1;32m     60\u001b[0m     \u001b[0mos\u001b[0m\u001b[0;34m.\u001b[0m\u001b[0mchdir\u001b[0m\u001b[0;34m(\u001b[0m\u001b[0mcwd\u001b[0m\u001b[0;34m)\u001b[0m\u001b[0;34m\u001b[0m\u001b[0m\n",
      "\u001b[0;31mValueError\u001b[0m: could not broadcast input array from shape (5,26) into shape (26,5)"
     ]
    }
   ],
   "source": [
    "%autoreload\n",
    "tmp = lowE_elec.make_interpolator()"
   ]
  },
  {
   "cell_type": "markdown",
   "metadata": {},
   "source": [
    "# For comparison"
   ]
  },
  {
   "cell_type": "markdown",
   "metadata": {},
   "source": [
    "-Compute T(E,z_in, z_dep) by doing a delta function injection\n",
    "\n",
    "-Why don't we ever keep track of how much DM is being depleted through annihilation/decay?\n",
    "\n",
    "-Why don't we go above 5 TeV?\n",
    "\n",
    "TODO:\n",
    "- make contour plots\n",
    "    - Pick a mass and make the plot corresponding to a vertical line going through the contour plot\n",
    "    - Make a course contour plot\n",
    "    - Once everything is debugged, make a very fine contour plot\n",
    "- Clean up this Example12\n",
    "    - migrate the main evolve function into a main.py that is conspicuous for the casual user\n",
    "    - Change the inputs so that xe_init and T_init are computed for the user.\n",
    "    - Make sure that the transfer functions are never seen (take them out of the input)\n",
    "    - plots comparing back-reaction and no back-reaction\n",
    "    - allow electron annihilation\n",
    "\n",
    "\n",
    "- Structure Formation\n",
    "    - swave\n",
    "    - on/off switch\n",
    "    - optimistic/conservative\n",
    "    - (just a change to the annihilation rate)\n",
    "    \n",
    "- minimum lifetime (do this first, structure independent)/maximum cross-section\n",
    "    - residual plot of with back-reaction vs. not back-react (temperature), contour plots\n",
    "    - for each mass pick the minimum tau or maximum cross-section and compare the std_switch on or off\n",
    "    \n",
    "- New 21cm sensitivity\n",
    "    - Hongwan's plots, but now with DarkHistory"
   ]
  },
  {
   "cell_type": "markdown",
   "metadata": {},
   "source": [
    "# NEED TO CHECK"
   ]
  },
  {
   "cell_type": "code",
   "execution_count": 393,
   "metadata": {},
   "outputs": [
    {
     "name": "stdout",
     "output_type": "stream",
     "text": [
      "0.0054045385439492315\n",
      "0.005405394701886692\n"
     ]
    }
   ],
   "source": [
    "import darkhistory.low_energy.lowE_deposition as lowE_dep\n",
    "%autoreload\n",
    "\n",
    "time=-2\n",
    "tau=1e23\n",
    "rs_tmp = a1[3][time].rs\n",
    "print(sum(lowE_dep.compute_fs(\n",
    "    a1[4][time], \n",
    "    a1[3][time], \n",
    "    np.array([1-xe_std(rs_tmp),0,0]), \n",
    "    rate_func_eng(rs_tmp), \n",
    "    .002/phys.hubble(rs_tmp), \n",
    "    0\n",
    "))*rate_func_eng(rs_tmp)*.002/phys.hubble(rs_tmp)/phys.nB/rs_tmp**3)\n",
    "print(a1[4][time].toteng()+a1[3][time].toteng())"
   ]
  }
 ],
 "metadata": {
  "kernelspec": {
   "display_name": "Python 3",
   "language": "python",
   "name": "python3"
  },
  "language_info": {
   "codemirror_mode": {
    "name": "ipython",
    "version": 3
   },
   "file_extension": ".py",
   "mimetype": "text/x-python",
   "name": "python",
   "nbconvert_exporter": "python",
   "pygments_lexer": "ipython3",
   "version": "3.6.5"
  },
  "toc": {
   "base_numbering": 1,
   "nav_menu": {},
   "number_sections": true,
   "sideBar": true,
   "skip_h1_title": false,
   "title_cell": "Table of Contents",
   "title_sidebar": "Contents",
   "toc_cell": false,
   "toc_position": {},
   "toc_section_display": true,
   "toc_window_display": false
  },
  "varInspector": {
   "cols": {
    "lenName": 16,
    "lenType": 16,
    "lenVar": 40
   },
   "kernels_config": {
    "python": {
     "delete_cmd_postfix": "",
     "delete_cmd_prefix": "del ",
     "library": "var_list.py",
     "varRefreshCmd": "print(var_dic_list())"
    },
    "r": {
     "delete_cmd_postfix": ") ",
     "delete_cmd_prefix": "rm(",
     "library": "var_list.r",
     "varRefreshCmd": "cat(var_dic_list()) "
    }
   },
   "types_to_exclude": [
    "module",
    "function",
    "builtin_function_or_method",
    "instance",
    "_Feature"
   ],
   "window_display": false
  }
 },
 "nbformat": 4,
 "nbformat_minor": 2
}
