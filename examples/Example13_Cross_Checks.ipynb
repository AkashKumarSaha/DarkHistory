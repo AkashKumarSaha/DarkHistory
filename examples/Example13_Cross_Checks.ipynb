{
 "cells": [
  {
   "cell_type": "markdown",
   "metadata": {},
   "source": [
    "# Introduction"
   ]
  },
  {
   "cell_type": "markdown",
   "metadata": {},
   "source": [
    "In this example, we calcuate $f_c(z)$ and compare against figure 22 in *arxiv*:1604.02457.  Therefore we will be studying dark matter decay into photons or electrons over a wide range of injection energy ($E_{inj}$) values."
   ]
  },
  {
   "cell_type": "code",
   "execution_count": 1,
   "metadata": {},
   "outputs": [],
   "source": [
    "%load_ext autoreload\n",
    "import sys\n",
    "sys.path.append(\"..\")"
   ]
  },
  {
   "cell_type": "markdown",
   "metadata": {},
   "source": [
    "First we set our parameters to the ones used in 1604.02457."
   ]
  },
  {
   "cell_type": "code",
   "execution_count": 2,
   "metadata": {},
   "outputs": [],
   "source": [
    "%autoreload\n",
    "import darkhistory.physics as phys\n",
    "import numpy as np\n",
    "\n",
    "phys.kB = 8.6173423e-5\n",
    "phys.G = 6.6730e-8\n",
    "\n",
    "kmperMpc = 3.08568025e19\n",
    "amuperg = 6.0221415e23\n",
    "eVperg = 5.60958921e32\n",
    "nh0 = 0.022068*(1e2/kmperMpc)**2*amuperg*3/(8*np.pi*phys.G)\n",
    "\n",
    "phys.omega_m       = 0.3175\n",
    "phys.omega_rad     = 8e-5\n",
    "phys.omega_lambda  = 0.6825\n",
    "phys.omega_baryon  = 8*np.pi*phys.G/(3*phys.H0**2) * (nh0/amuperg)\n",
    "phys.omega_DM      = phys.omega_m-phys.omega_baryon\n",
    "\n",
    "phys.rho_DM=1274.4140\n",
    "\n",
    "phys.nB = nh0\n",
    "phys.rho_baryon = nh0*phys.mp\n",
    "\n",
    "phys.YHe = .24\n",
    "\n",
    "def TCMB(rs):\n",
    "    fac = 2.725\n",
    "    return fac * phys.kB * rs\n",
    "phys.TCMB = TCMB"
   ]
  },
  {
   "cell_type": "code",
   "execution_count": 3,
   "metadata": {},
   "outputs": [
    {
     "name": "stderr",
     "output_type": "stream",
     "text": [
      "\n",
      "Bad key \"legend.title_fontsize\" on line 41 in\n",
      "/Users/gridgway/Desktop/DM/DarkHistory/examples/matplotlibrc.\n",
      "You probably need to get an updated matplotlibrc file from\n",
      "http://github.com/matplotlib/matplotlib/blob/master/matplotlibrc.template\n",
      "or from the matplotlib source distribution\n"
     ]
    }
   ],
   "source": [
    "%matplotlib inline"
   ]
  },
  {
   "cell_type": "code",
   "execution_count": 4,
   "metadata": {},
   "outputs": [
    {
     "name": "stderr",
     "output_type": "stream",
     "text": [
      "\n",
      "Bad key \"legend.title_fontsize\" on line 41 in\n",
      "matplotlibrc.\n",
      "You probably need to get an updated matplotlibrc file from\n",
      "http://github.com/matplotlib/matplotlib/blob/master/matplotlibrc.template\n",
      "or from the matplotlib source distribution\n"
     ]
    }
   ],
   "source": [
    "%autoreload\n",
    "\n",
    "import matplotlib\n",
    "matplotlib.rc_file('matplotlibrc')\n",
    "import matplotlib.pyplot as plt\n",
    "\n",
    "from astropy.io import fits\n",
    "\n",
    "import numpy as np\n",
    "import copy\n",
    "import pickle\n",
    "import darkhistory.spec.spectools as spectools\n",
    "from tqdm import tqdm_notebook as tqdm\n",
    "from scipy.interpolate import interp1d\n",
    "\n",
    "import main"
   ]
  },
  {
   "cell_type": "markdown",
   "metadata": {},
   "source": [
    "# Specify Model"
   ]
  },
  {
   "cell_type": "code",
   "execution_count": 49,
   "metadata": {},
   "outputs": [],
   "source": [
    "tau=.5e25\n",
    "\n",
    "#Annihilation or decay?\n",
    "inj_type = 'decay'\n",
    "\n",
    "#Annihilate/Decay into\n",
    "inj_particle = 'electron'\n",
    "\n",
    "#Useful definitions\n",
    "if inj_particle == 'electron':\n",
    "    inj_str = 'elec'\n",
    "    mass = phys.me\n",
    "else:\n",
    "    inj_str = 'phot'\n",
    "    mass = 0"
   ]
  },
  {
   "cell_type": "markdown",
   "metadata": {},
   "source": [
    "# Load IDL Files"
   ]
  },
  {
   "cell_type": "markdown",
   "metadata": {},
   "source": [
    "Here we will download the data used in Fig. 22 of 1604.02457, dubbed the \"IDL results\" (since the code used to generate this data was written primarily in IDL)."
   ]
  },
  {
   "cell_type": "markdown",
   "metadata": {},
   "source": [
    "### IDL parameters"
   ]
  },
  {
   "cell_type": "markdown",
   "metadata": {},
   "source": [
    "Download the parameters used in the IDL files (file can be found at *erebus*@*lns.mit.edu:/zfs/gridgway/transferfuncs/ih_continuous_phot/tf_z_3.000E+03_nstep_6398_logE_1.021E+01_xe_0.000E+00.fits*)"
   ]
  },
  {
   "cell_type": "code",
   "execution_count": 50,
   "metadata": {},
   "outputs": [],
   "source": [
    "# direc = cwd+'/../../ih_continuous_'+inj_str\n",
    "user = '/Users/gridgway'\n",
    "direc = user+'/Dropbox (MIT)/Photon Deposition/idl_comparison/GR_Checks/ih_continuous_'\n",
    "\n",
    "hdul = fits.open(direc+'elec/tf_z_3.000E+03_nstep_6398_logE_1.067E+01_xe_0.000E+00.fits')\n",
    "direc = direc+inj_str\n",
    "    \n",
    "data = hdul[1].data\n",
    "\n",
    "idl_photonspectrum = data.field('photonspectrum')[0]\n",
    "idl_lowengphot = data.field('lowengphot')[0]\n",
    "idl_lowengelec = data.field('lowengelec')[0]\n",
    "idl_energy = data.field('energy')[0]\n",
    "idl_eleceng = data.field('eleceng')[0]\n",
    "idl_redshift = data.field('redshift')[0]\n",
    "idl_cmblosstable = data.field('cmblosstable')[0]\n",
    "idl_highengdep = data.field('highdeposited_grid')[0]\n",
    "\n",
    "idl_bin_width = np.diff(np.log(spectools.get_bin_bound(data.field('energy')[0]))) * idl_energy\n",
    "idl_elec_bin_width = np.diff(np.log(spectools.get_bin_bound(data.field('eleceng')[0]))) * idl_eleceng\n",
    "\n",
    "xe_idl = data.field('hionfraction')[0]\n",
    "xHe_idl = data.field('heionfraction')[0]\n",
    "\n",
    "hdul.close()\n",
    "\n",
    "xe_idl_func = interp1d(idl_redshift, xe_idl, bounds_error=False, fill_value=(xe_idl[-1], xe_idl[0]))\n",
    "xHe_idl_func = interp1d(idl_redshift, xHe_idl, bounds_error=False, fill_value=(xHe_idl[-1], xHe_idl[0]))"
   ]
  },
  {
   "cell_type": "markdown",
   "metadata": {},
   "source": [
    "The input energies used along the x-axis of Fig. 22 in 1604.02457"
   ]
  },
  {
   "cell_type": "code",
   "execution_count": 51,
   "metadata": {},
   "outputs": [],
   "source": [
    "log10eng0 = 3.6989700794219966\n",
    "log10eng = np.array([log10eng0 + 0.23252559*i for i in np.arange(40)])\n",
    "log10eng[-1] = np.log10(idl_energy[-1])*.99"
   ]
  },
  {
   "cell_type": "markdown",
   "metadata": {},
   "source": [
    "### IDL f(z)'s"
   ]
  },
  {
   "cell_type": "markdown",
   "metadata": {},
   "source": [
    "Download the f(z)'s generated from IDL (can be found in `erebus:/zfs/gridgway/transferfuncs/ih_continuous_elec_v2/` for electrons and `erebus:/zfs/gridgway/transferfuncs/ih_continuous_phot/` for photons)"
   ]
  },
  {
   "cell_type": "code",
   "execution_count": 52,
   "metadata": {},
   "outputs": [],
   "source": [
    "float_formatter = lambda x,n: (\"{:.\"+str(n)+\"E}\").format(x,n)\n",
    "\n",
    "rs_list = [3000*np.exp(-0.001*i) for i in np.arange(6398)]\n",
    "f_idl_list = np.zeros((len(log10eng),5,6398))\n",
    "for i, en in enumerate(log10eng[:-1]):\n",
    "    hdul = fits.open(\n",
    "        direc+'/calcfracs_tf_z_3.000E+03_nstep_6398_logE_'\n",
    "        +float_formatter(np.log10(10**en+mass), 3)+'_xe_0.000E+00.fits'\n",
    "    )\n",
    "\n",
    "    data = hdul[1].data\n",
    "\n",
    "    f_idl_low  = data.field('loweng_deposition_fractions')[0]\n",
    "    f_idl_high = data.field('higheng_deposition_fractions')[0]\n",
    "    idl_redshift     = data.field('redshift')[0]\n",
    "\n",
    "#     f_idl_list[i,:] = f_idl_low + f_idl_high\n",
    "    f_idl_list[i,:] = f_idl_low\n",
    "\n",
    "    hdul.close()"
   ]
  },
  {
   "cell_type": "markdown",
   "metadata": {},
   "source": [
    "### Contour Plots"
   ]
  },
  {
   "cell_type": "markdown",
   "metadata": {},
   "source": [
    "To prove that we have actually downloaded the correct data, we reproduce the contour plots below.  The discrepancies between these contour plots and those in Fig. 22 come from interpolation errors in Fig. 22 that aren't in the below."
   ]
  },
  {
   "cell_type": "code",
   "execution_count": 32,
   "metadata": {},
   "outputs": [],
   "source": [
    "def get_fcontour(f_input, inj_type, inj_particle, channel):\n",
    "    f_for_plot = f_input.copy()\n",
    "    eng = 10**log10eng\n",
    "\n",
    "    ind = {'H_ion' : 0, 'He_ion' : 1, 'exc' : 2, 'heat' : 3, 'cont' : 4}[channel]\n",
    "    if ind < 2:\n",
    "        label = {'H_ion' : 'H_{ion}', 'He_ion' : 'He_{ion}'}[channel]\n",
    "    else:\n",
    "        label = channel\n",
    "    title = r'\\bf{$f_{'+label+'}$}'\n",
    "    \n",
    "    ax = plt.gca()\n",
    "    ax.set_xscale('log')\n",
    "    ax.set_yscale('log')\n",
    "\n",
    "    plt.axis([eng[0], 10**log10eng[-1], 5, 2e3])\n",
    "\n",
    "    levels = np.array([1e-5, 1e-4, 1e-3, 5e-3, 1e-2, 5e-2, 1e-1, 3e-1, 1e0])\n",
    "    if inj_type is 'decay':\n",
    "        if channel is 'He_ion':\n",
    "            if inj_particle is 'phot':\n",
    "                levels = np.array([1e-7, 1e-6, 1e-5, 1e-4, 5e-4, 1e-3, 5e-3, 1e-2, 4e-2])\n",
    "            else:\n",
    "                levels = np.array([1e-6, 1e-5, 5e-5, 1e-4, 5e-4, 1e-3, 5e-3, 1e-2, 4e-2])\n",
    "        elif channel is 'exc':\n",
    "            if inj_particle is 'phot':\n",
    "                levels = np.array([1e-5, 1e-4, 1e-3, 5e-3, 1e-2, 3e-2, 5e-2, 1e-1, 1e-0])\n",
    "            else:\n",
    "                levels = np.array([1e-4, 1e-3, 5e-3, 1e-2, 3e-2, 5e-2, 1e-1, 2e-1, 7e-1])\n",
    "        elif (channel is 'heat') or (channel is 'cont'):\n",
    "            if inj_particle is 'elec':\n",
    "                levels = np.array([1e-5, 1e-4, 1e-3, 1e-2, 5e-2, 1e-1, 3e-1, 5e-1, 1, 2])\n",
    "                \n",
    "    f_for_plot[f_for_plot < levels[0]] = levels[0]*(1+.01)\n",
    "    f_for_plot[f_for_plot > levels[-1]] = levels[-1]*(1-.01)\n",
    "    \n",
    "    levels2 = np.exp(np.linspace(np.log(levels[0]),np.log(levels[-1]),100))\n",
    "    cs = ax.contourf(eng,idl_redshift,\n",
    "                     np.transpose(f_for_plot[:,ind]), \n",
    "#                      locator=matplotlib.ticker.LogLocator(), \n",
    "                     norm=matplotlib.colors.LogNorm(),\n",
    "                     levels=levels2,\n",
    "                     cmap=matplotlib.cm.inferno)\n",
    "#                      cmap=matplotlib.cm.RdBu_r)\n",
    "    ax.contour(eng,idl_redshift,\n",
    "               np.transpose(f_for_plot[:,ind]),  \n",
    "               levels=levels[1:-1],\n",
    "               colors='k',\n",
    "               alpha=.4\n",
    "              )\n",
    "\n",
    "    cbar = plt.colorbar(cs, ticks=levels)\n",
    "    cbar.ax.set_xticklabels(str(levels))\n",
    "\n",
    "    plt.title(title)\n",
    "    plt.ylabel(r'Redshift ($1+z$)')\n",
    "    plt.xlabel(r'Kinetic Energy [eV]')\n",
    "    \n",
    "#     plt.savefig(\n",
    "#         cwd+'/../../../f'+inj_particle+'_'+inj_type+'_'+channel+'_contour.png'\n",
    "#     )\n",
    "#     plt.savefig(\n",
    "#         '/Users/gridgway/Dropbox (MIT)/Photon Deposition/Draft/plots/f_contour/f'+\n",
    "#         inj_particle+'_'+inj_type+'_'+channel+'_contour.png'\n",
    "#     )\n",
    "    plt.show()"
   ]
  },
  {
   "cell_type": "code",
   "execution_count": 33,
   "metadata": {},
   "outputs": [
    {
     "name": "stderr",
     "output_type": "stream",
     "text": [
      "/Users/gridgway/anaconda3/lib/python3.6/site-packages/matplotlib/font_manager.py:1328: UserWarning: findfont: Font family ['serif'] not found. Falling back to DejaVu Sans\n",
      "  (prop.get_family(), self.defaultFamily[fontext]))\n"
     ]
    },
    {
     "data": {
      "image/png": "[encoded data removed]",
      "text/plain": [
       "<Figure size 620x620 with 2 Axes>"
      ]
     },
     "metadata": {},
     "output_type": "display_data"
    }
   ],
   "source": [
    "get_fcontour(f_idl_list, inj_type, inj_particle, 'heat')"
   ]
  },
  {
   "cell_type": "code",
   "execution_count": 12,
   "metadata": {},
   "outputs": [],
   "source": [
    "def save_as_pickled_object(obj, filepath):\n",
    "    \"\"\"\n",
    "    This is a defensive way to write pickle.write, allowing for very large files on all platforms\n",
    "    \"\"\"\n",
    "    max_bytes = 2**31 - 1\n",
    "    bytes_out = pickle.dumps(obj)\n",
    "    n_bytes = sys.getsizeof(bytes_out)\n",
    "    with open(filepath, 'wb') as f_out:\n",
    "        for idx in range(0, n_bytes, max_bytes):\n",
    "            f_out.write(bytes_out[idx:idx+max_bytes])"
   ]
  },
  {
   "cell_type": "markdown",
   "metadata": {},
   "source": [
    "# Compute DH f(z)'s"
   ]
  },
  {
   "cell_type": "markdown",
   "metadata": {},
   "source": [
    "Now we reproduce the above f(z)'s.  We compute the energy deposition history for 40 different DM masses, i.e. 40 different columns of the above plot, each DM mass corresponding to an $E_{inj}$ stored in `log10eng`.\n",
    "\n",
    "(Description of Tracy's injection of 2+epsilon particles method)\n",
    "\n",
    "(rate functions in the form of $\\frac{\\rho (z)}{m_DM}$ for example)"
   ]
  },
  {
   "cell_type": "code",
   "execution_count": 13,
   "metadata": {},
   "outputs": [],
   "source": [
    "if inj_type == 'decay':\n",
    "    def struct_boost(rs):\n",
    "        return 1\n",
    "else:\n",
    "    struct_boost = phys.struct_boost_func('einasto_with_subs')"
   ]
  },
  {
   "cell_type": "code",
   "execution_count": 59,
   "metadata": {},
   "outputs": [],
   "source": [
    "%autoreload\n",
    "\n",
    "tau=3e27\n",
    "sigmav=3e-28\n",
    "def get_column(i, f_DH_list, inj_particle='electron', inj_type='decay', end_rs=4.995):\n",
    "    \"\"\" Produce one column of the f differential plot\n",
    "    \"\"\"\n",
    "    #injection energy, DM mass, center-of-mass energy\n",
    "    Einj = 10**log10eng[i]\n",
    "    mDM = 2*Einj + 2*mass\n",
    "    Ecom=mDM\n",
    "    \n",
    "    if inj_type == 'decay':\n",
    "        def struct_boost(rs):\n",
    "            return 1\n",
    "    else:\n",
    "        struct_boost = phys.struct_boost_func('einasto_with_subs')\n",
    "    \n",
    "    def rate_func_N(rs):\n",
    "        return phys.inj_rate(inj_type, rs, mDM=mDM, sigmav=sigmav, tau=tau)*struct_boost(rs)/Ecom\n",
    "    def rate_func_eng(rs):\n",
    "        return phys.inj_rate(inj_type, rs, mDM=mDM, sigmav=sigmav, tau=tau)*struct_boost(rs)\n",
    "    \n",
    "    if inj_type == 'swave':\n",
    "        mDM = mDM/2\n",
    "        Ecom = 2*mDM   \n",
    "    \n",
    "\n",
    "    if inj_particle == 'photon':\n",
    "        primary = 'phot_delta'\n",
    "        coarsen_factor = 2\n",
    "    else:\n",
    "        primary = 'elec_delta'\n",
    "        coarsen_factor = 8\n",
    "    \n",
    "    f_DH_list[i] = main.evolve(\n",
    "        primary=primary,\n",
    "        rate_func_N=rate_func_N, rate_func_eng=rate_func_eng,\n",
    "        DM_process=inj_type, mDM=mDM, sigmav=sigmav, lifetime=tau,\n",
    "        start_rs = 3000, end_rs=end_rs,\n",
    "        coarsen_factor=coarsen_factor, backreaction=False,\n",
    "        struct_boost=struct_boost\n",
    "    )"
   ]
  },
  {
   "cell_type": "code",
   "execution_count": 60,
   "metadata": {},
   "outputs": [
    {
     "data": {
      "application/vnd.jupyter.widget-view+json": {
       "model_id": "2cbca26b5f0d4ece83e4f2bc3f8990ba",
       "version_major": 2,
       "version_minor": 0
      },
      "text/plain": [
       "HBox(children=(IntProgress(value=0, max=40), HTML(value='')))"
      ]
     },
     "metadata": {},
     "output_type": "display_data"
    },
    {
     "name": "stdout",
     "output_type": "stream",
     "text": [
      "starting run  0\n"
     ]
    },
    {
     "data": {
      "application/vnd.jupyter.widget-view+json": {
       "model_id": "981c1099de674096a17586a0e1287d44",
       "version_major": 2,
       "version_minor": 0
      },
      "text/plain": [
       "HBox(children=(IntProgress(value=0, max=3199), HTML(value='')))"
      ]
     },
     "metadata": {},
     "output_type": "display_data"
    },
    {
     "name": "stdout",
     "output_type": "stream",
     "text": [
      "starting run  1\n"
     ]
    },
    {
     "data": {
      "application/vnd.jupyter.widget-view+json": {
       "model_id": "bdd0e8e5889d41349b7e5ff71f7e3a7c",
       "version_major": 2,
       "version_minor": 0
      },
      "text/plain": [
       "HBox(children=(IntProgress(value=0, max=3199), HTML(value='')))"
      ]
     },
     "metadata": {},
     "output_type": "display_data"
    },
    {
     "name": "stdout",
     "output_type": "stream",
     "text": [
      "starting run  2\n"
     ]
    },
    {
     "data": {
      "application/vnd.jupyter.widget-view+json": {
       "model_id": "fd8638e87ad64df89d2a80ab1745680d",
       "version_major": 2,
       "version_minor": 0
      },
      "text/plain": [
       "HBox(children=(IntProgress(value=0, max=3199), HTML(value='')))"
      ]
     },
     "metadata": {},
     "output_type": "display_data"
    },
    {
     "name": "stdout",
     "output_type": "stream",
     "text": [
      "starting run  3\n"
     ]
    },
    {
     "data": {
      "application/vnd.jupyter.widget-view+json": {
       "model_id": "edd419f6acfd47d5b3c268fae289d3de",
       "version_major": 2,
       "version_minor": 0
      },
      "text/plain": [
       "HBox(children=(IntProgress(value=0, max=3199), HTML(value='')))"
      ]
     },
     "metadata": {},
     "output_type": "display_data"
    },
    {
     "name": "stdout",
     "output_type": "stream",
     "text": [
      "starting run  4\n"
     ]
    },
    {
     "data": {
      "application/vnd.jupyter.widget-view+json": {
       "model_id": "43ed7e0f9b914a62a4517e125f02c771",
       "version_major": 2,
       "version_minor": 0
      },
      "text/plain": [
       "HBox(children=(IntProgress(value=0, max=3199), HTML(value='')))"
      ]
     },
     "metadata": {},
     "output_type": "display_data"
    },
    {
     "name": "stdout",
     "output_type": "stream",
     "text": [
      "starting run  5\n"
     ]
    },
    {
     "data": {
      "application/vnd.jupyter.widget-view+json": {
       "model_id": "1979c8c15e924c2cb43cd88209ae31ab",
       "version_major": 2,
       "version_minor": 0
      },
      "text/plain": [
       "HBox(children=(IntProgress(value=0, max=3199), HTML(value='')))"
      ]
     },
     "metadata": {},
     "output_type": "display_data"
    },
    {
     "name": "stdout",
     "output_type": "stream",
     "text": [
      "starting run  6\n"
     ]
    },
    {
     "data": {
      "application/vnd.jupyter.widget-view+json": {
       "model_id": "0f5b1de88f37462bb475b39ac3bb050a",
       "version_major": 2,
       "version_minor": 0
      },
      "text/plain": [
       "HBox(children=(IntProgress(value=0, max=3199), HTML(value='')))"
      ]
     },
     "metadata": {},
     "output_type": "display_data"
    },
    {
     "name": "stdout",
     "output_type": "stream",
     "text": [
      "starting run  7\n"
     ]
    },
    {
     "data": {
      "application/vnd.jupyter.widget-view+json": {
       "model_id": "47e1125ed9914024907c3779cdf87b33",
       "version_major": 2,
       "version_minor": 0
      },
      "text/plain": [
       "HBox(children=(IntProgress(value=0, max=3199), HTML(value='')))"
      ]
     },
     "metadata": {},
     "output_type": "display_data"
    },
    {
     "name": "stdout",
     "output_type": "stream",
     "text": [
      "starting run  8\n"
     ]
    },
    {
     "data": {
      "application/vnd.jupyter.widget-view+json": {
       "model_id": "0075f67ddc844c0097fd770608aa40f1",
       "version_major": 2,
       "version_minor": 0
      },
      "text/plain": [
       "HBox(children=(IntProgress(value=0, max=3199), HTML(value='')))"
      ]
     },
     "metadata": {},
     "output_type": "display_data"
    },
    {
     "name": "stdout",
     "output_type": "stream",
     "text": [
      "starting run  9\n"
     ]
    },
    {
     "data": {
      "application/vnd.jupyter.widget-view+json": {
       "model_id": "e7f1cb98b9754fa18713c3f64b57c346",
       "version_major": 2,
       "version_minor": 0
      },
      "text/plain": [
       "HBox(children=(IntProgress(value=0, max=3199), HTML(value='')))"
      ]
     },
     "metadata": {},
     "output_type": "display_data"
    },
    {
     "name": "stdout",
     "output_type": "stream",
     "text": [
      "starting run  10\n"
     ]
    },
    {
     "data": {
      "application/vnd.jupyter.widget-view+json": {
       "model_id": "1f9b03a6d47445d2bf28a33b77839154",
       "version_major": 2,
       "version_minor": 0
      },
      "text/plain": [
       "HBox(children=(IntProgress(value=0, max=3199), HTML(value='')))"
      ]
     },
     "metadata": {},
     "output_type": "display_data"
    },
    {
     "name": "stdout",
     "output_type": "stream",
     "text": [
      "starting run  11\n"
     ]
    },
    {
     "data": {
      "application/vnd.jupyter.widget-view+json": {
       "model_id": "f63c869299a04844a3482ad75e529b67",
       "version_major": 2,
       "version_minor": 0
      },
      "text/plain": [
       "HBox(children=(IntProgress(value=0, max=3199), HTML(value='')))"
      ]
     },
     "metadata": {},
     "output_type": "display_data"
    },
    {
     "name": "stdout",
     "output_type": "stream",
     "text": [
      "starting run  12\n"
     ]
    },
    {
     "data": {
      "application/vnd.jupyter.widget-view+json": {
       "model_id": "8b203a8810f64979bcf8a0effb6f681f",
       "version_major": 2,
       "version_minor": 0
      },
      "text/plain": [
       "HBox(children=(IntProgress(value=0, max=3199), HTML(value='')))"
      ]
     },
     "metadata": {},
     "output_type": "display_data"
    },
    {
     "name": "stdout",
     "output_type": "stream",
     "text": [
      "starting run  13\n"
     ]
    },
    {
     "data": {
      "application/vnd.jupyter.widget-view+json": {
       "model_id": "69532e2564c5455ba03af6edff3d83d1",
       "version_major": 2,
       "version_minor": 0
      },
      "text/plain": [
       "HBox(children=(IntProgress(value=0, max=3199), HTML(value='')))"
      ]
     },
     "metadata": {},
     "output_type": "display_data"
    },
    {
     "name": "stdout",
     "output_type": "stream",
     "text": [
      "starting run  14\n"
     ]
    },
    {
     "data": {
      "application/vnd.jupyter.widget-view+json": {
       "model_id": "8504df8e513347cf9fcac96099b2452e",
       "version_major": 2,
       "version_minor": 0
      },
      "text/plain": [
       "HBox(children=(IntProgress(value=0, max=3199), HTML(value='')))"
      ]
     },
     "metadata": {},
     "output_type": "display_data"
    },
    {
     "name": "stdout",
     "output_type": "stream",
     "text": [
      "starting run  15\n"
     ]
    },
    {
     "data": {
      "application/vnd.jupyter.widget-view+json": {
       "model_id": "1272f3ef4a4544f4b6fec1561cea5dda",
       "version_major": 2,
       "version_minor": 0
      },
      "text/plain": [
       "HBox(children=(IntProgress(value=0, max=3199), HTML(value='')))"
      ]
     },
     "metadata": {},
     "output_type": "display_data"
    },
    {
     "name": "stdout",
     "output_type": "stream",
     "text": [
      "starting run  16\n"
     ]
    },
    {
     "data": {
      "application/vnd.jupyter.widget-view+json": {
       "model_id": "d9fa9166f1e84669b3e0177826264d6b",
       "version_major": 2,
       "version_minor": 0
      },
      "text/plain": [
       "HBox(children=(IntProgress(value=0, max=3199), HTML(value='')))"
      ]
     },
     "metadata": {},
     "output_type": "display_data"
    },
    {
     "name": "stdout",
     "output_type": "stream",
     "text": [
      "starting run  17\n"
     ]
    },
    {
     "data": {
      "application/vnd.jupyter.widget-view+json": {
       "model_id": "df695f2b0342424e94a539348ef96871",
       "version_major": 2,
       "version_minor": 0
      },
      "text/plain": [
       "HBox(children=(IntProgress(value=0, max=3199), HTML(value='')))"
      ]
     },
     "metadata": {},
     "output_type": "display_data"
    },
    {
     "name": "stdout",
     "output_type": "stream",
     "text": [
      "starting run  18\n"
     ]
    },
    {
     "data": {
      "application/vnd.jupyter.widget-view+json": {
       "model_id": "28a7e9b60ff8409ea3ca6d4f04e25d9e",
       "version_major": 2,
       "version_minor": 0
      },
      "text/plain": [
       "HBox(children=(IntProgress(value=0, max=3199), HTML(value='')))"
      ]
     },
     "metadata": {},
     "output_type": "display_data"
    },
    {
     "name": "stdout",
     "output_type": "stream",
     "text": [
      "starting run  19\n"
     ]
    },
    {
     "data": {
      "application/vnd.jupyter.widget-view+json": {
       "model_id": "c97d04ff76124b12a6c392633bfc1e9f",
       "version_major": 2,
       "version_minor": 0
      },
      "text/plain": [
       "HBox(children=(IntProgress(value=0, max=3199), HTML(value='')))"
      ]
     },
     "metadata": {},
     "output_type": "display_data"
    },
    {
     "name": "stdout",
     "output_type": "stream",
     "text": [
      "starting run  20\n"
     ]
    },
    {
     "data": {
      "application/vnd.jupyter.widget-view+json": {
       "model_id": "7447a046b3414360a16a0d753bbafb16",
       "version_major": 2,
       "version_minor": 0
      },
      "text/plain": [
       "HBox(children=(IntProgress(value=0, max=3199), HTML(value='')))"
      ]
     },
     "metadata": {},
     "output_type": "display_data"
    },
    {
     "name": "stdout",
     "output_type": "stream",
     "text": [
      "starting run  21\n"
     ]
    },
    {
     "data": {
      "application/vnd.jupyter.widget-view+json": {
       "model_id": "b213d7d4bcef46438e5d100ae4173a38",
       "version_major": 2,
       "version_minor": 0
      },
      "text/plain": [
       "HBox(children=(IntProgress(value=0, max=3199), HTML(value='')))"
      ]
     },
     "metadata": {},
     "output_type": "display_data"
    },
    {
     "name": "stdout",
     "output_type": "stream",
     "text": [
      "starting run  22\n"
     ]
    },
    {
     "data": {
      "application/vnd.jupyter.widget-view+json": {
       "model_id": "d2bbfcba63f74becb527a87165d40d16",
       "version_major": 2,
       "version_minor": 0
      },
      "text/plain": [
       "HBox(children=(IntProgress(value=0, max=3199), HTML(value='')))"
      ]
     },
     "metadata": {},
     "output_type": "display_data"
    },
    {
     "name": "stdout",
     "output_type": "stream",
     "text": [
      "starting run  23\n"
     ]
    },
    {
     "data": {
      "application/vnd.jupyter.widget-view+json": {
       "model_id": "8ca3c727b1164557b15aa1fb1c01694b",
       "version_major": 2,
       "version_minor": 0
      },
      "text/plain": [
       "HBox(children=(IntProgress(value=0, max=3199), HTML(value='')))"
      ]
     },
     "metadata": {},
     "output_type": "display_data"
    },
    {
     "name": "stdout",
     "output_type": "stream",
     "text": [
      "starting run  24\n"
     ]
    },
    {
     "data": {
      "application/vnd.jupyter.widget-view+json": {
       "model_id": "39ea5c6217984310aa7c5339476bae54",
       "version_major": 2,
       "version_minor": 0
      },
      "text/plain": [
       "HBox(children=(IntProgress(value=0, max=3199), HTML(value='')))"
      ]
     },
     "metadata": {},
     "output_type": "display_data"
    },
    {
     "name": "stdout",
     "output_type": "stream",
     "text": [
      "starting run  25\n"
     ]
    },
    {
     "data": {
      "application/vnd.jupyter.widget-view+json": {
       "model_id": "7fe2cfc52b7e4cb89282e10aa5224582",
       "version_major": 2,
       "version_minor": 0
      },
      "text/plain": [
       "HBox(children=(IntProgress(value=0, max=3199), HTML(value='')))"
      ]
     },
     "metadata": {},
     "output_type": "display_data"
    },
    {
     "name": "stdout",
     "output_type": "stream",
     "text": [
      "starting run  26\n"
     ]
    },
    {
     "data": {
      "application/vnd.jupyter.widget-view+json": {
       "model_id": "b728b21c659541c0a52aea675a9118a1",
       "version_major": 2,
       "version_minor": 0
      },
      "text/plain": [
       "HBox(children=(IntProgress(value=0, max=3199), HTML(value='')))"
      ]
     },
     "metadata": {},
     "output_type": "display_data"
    },
    {
     "name": "stdout",
     "output_type": "stream",
     "text": [
      "starting run  27\n"
     ]
    },
    {
     "data": {
      "application/vnd.jupyter.widget-view+json": {
       "model_id": "fd01248a6cb54127b0976c354d68fcdf",
       "version_major": 2,
       "version_minor": 0
      },
      "text/plain": [
       "HBox(children=(IntProgress(value=0, max=3199), HTML(value='')))"
      ]
     },
     "metadata": {},
     "output_type": "display_data"
    },
    {
     "name": "stdout",
     "output_type": "stream",
     "text": [
      "starting run  28\n"
     ]
    },
    {
     "data": {
      "application/vnd.jupyter.widget-view+json": {
       "model_id": "d93446ea064147afacf4d49c527eb19d",
       "version_major": 2,
       "version_minor": 0
      },
      "text/plain": [
       "HBox(children=(IntProgress(value=0, max=3199), HTML(value='')))"
      ]
     },
     "metadata": {},
     "output_type": "display_data"
    },
    {
     "name": "stdout",
     "output_type": "stream",
     "text": [
      "starting run  29\n"
     ]
    },
    {
     "data": {
      "application/vnd.jupyter.widget-view+json": {
       "model_id": "48829bc803f64fe1a7b6e735d61feba9",
       "version_major": 2,
       "version_minor": 0
      },
      "text/plain": [
       "HBox(children=(IntProgress(value=0, max=3199), HTML(value='')))"
      ]
     },
     "metadata": {},
     "output_type": "display_data"
    },
    {
     "name": "stdout",
     "output_type": "stream",
     "text": [
      "starting run  30\n"
     ]
    },
    {
     "data": {
      "application/vnd.jupyter.widget-view+json": {
       "model_id": "782a2bd062cb47b2b14a9220781d579a",
       "version_major": 2,
       "version_minor": 0
      },
      "text/plain": [
       "HBox(children=(IntProgress(value=0, max=3199), HTML(value='')))"
      ]
     },
     "metadata": {},
     "output_type": "display_data"
    },
    {
     "name": "stdout",
     "output_type": "stream",
     "text": [
      "starting run  31\n"
     ]
    },
    {
     "data": {
      "application/vnd.jupyter.widget-view+json": {
       "model_id": "00b983ccec0a4a118da167a55a2c4c00",
       "version_major": 2,
       "version_minor": 0
      },
      "text/plain": [
       "HBox(children=(IntProgress(value=0, max=3199), HTML(value='')))"
      ]
     },
     "metadata": {},
     "output_type": "display_data"
    },
    {
     "name": "stdout",
     "output_type": "stream",
     "text": [
      "starting run  32\n"
     ]
    },
    {
     "data": {
      "application/vnd.jupyter.widget-view+json": {
       "model_id": "5eb9e83deedd47f8af718c66d03d6408",
       "version_major": 2,
       "version_minor": 0
      },
      "text/plain": [
       "HBox(children=(IntProgress(value=0, max=3199), HTML(value='')))"
      ]
     },
     "metadata": {},
     "output_type": "display_data"
    },
    {
     "name": "stdout",
     "output_type": "stream",
     "text": [
      "starting run  33\n"
     ]
    },
    {
     "data": {
      "application/vnd.jupyter.widget-view+json": {
       "model_id": "f3d85c27748641269cfb5ccc716202bd",
       "version_major": 2,
       "version_minor": 0
      },
      "text/plain": [
       "HBox(children=(IntProgress(value=0, max=3199), HTML(value='')))"
      ]
     },
     "metadata": {},
     "output_type": "display_data"
    },
    {
     "name": "stdout",
     "output_type": "stream",
     "text": [
      "starting run  34\n"
     ]
    },
    {
     "data": {
      "application/vnd.jupyter.widget-view+json": {
       "model_id": "5743cdc8a38d4111a58c68135c7e2b46",
       "version_major": 2,
       "version_minor": 0
      },
      "text/plain": [
       "HBox(children=(IntProgress(value=0, max=3199), HTML(value='')))"
      ]
     },
     "metadata": {},
     "output_type": "display_data"
    },
    {
     "name": "stdout",
     "output_type": "stream",
     "text": [
      "starting run  35\n"
     ]
    },
    {
     "data": {
      "application/vnd.jupyter.widget-view+json": {
       "model_id": "901248e319f5444db15af8fb636ede0b",
       "version_major": 2,
       "version_minor": 0
      },
      "text/plain": [
       "HBox(children=(IntProgress(value=0, max=3199), HTML(value='')))"
      ]
     },
     "metadata": {},
     "output_type": "display_data"
    },
    {
     "name": "stdout",
     "output_type": "stream",
     "text": [
      "starting run  36\n"
     ]
    },
    {
     "data": {
      "application/vnd.jupyter.widget-view+json": {
       "model_id": "b4d94caa4237438b92939a4615d4a307",
       "version_major": 2,
       "version_minor": 0
      },
      "text/plain": [
       "HBox(children=(IntProgress(value=0, max=3199), HTML(value='')))"
      ]
     },
     "metadata": {},
     "output_type": "display_data"
    },
    {
     "name": "stdout",
     "output_type": "stream",
     "text": [
      "starting run  37\n"
     ]
    },
    {
     "data": {
      "application/vnd.jupyter.widget-view+json": {
       "model_id": "9245742be3334a2e8c0ab782383d797f",
       "version_major": 2,
       "version_minor": 0
      },
      "text/plain": [
       "HBox(children=(IntProgress(value=0, max=3199), HTML(value='')))"
      ]
     },
     "metadata": {},
     "output_type": "display_data"
    },
    {
     "name": "stdout",
     "output_type": "stream",
     "text": [
      "starting run  38\n"
     ]
    },
    {
     "data": {
      "application/vnd.jupyter.widget-view+json": {
       "model_id": "8e58cd386b3844f28ed557db799df6ae",
       "version_major": 2,
       "version_minor": 0
      },
      "text/plain": [
       "HBox(children=(IntProgress(value=0, max=3199), HTML(value='')))"
      ]
     },
     "metadata": {},
     "output_type": "display_data"
    },
    {
     "name": "stdout",
     "output_type": "stream",
     "text": [
      "starting run  39\n"
     ]
    },
    {
     "data": {
      "application/vnd.jupyter.widget-view+json": {
       "model_id": "ed07d048272d439f9256b11f491cefe4",
       "version_major": 2,
       "version_minor": 0
      },
      "text/plain": [
       "HBox(children=(IntProgress(value=0, max=3199), HTML(value='')))"
      ]
     },
     "metadata": {},
     "output_type": "display_data"
    }
   ],
   "source": [
    "%autoreload\n",
    "inj_type='decay'\n",
    "inj_particle='photon'\n",
    "inj_str=inj_particle[:4]\n",
    "\n",
    "if inj_particle == 'electron':\n",
    "    mass = phys.me\n",
    "else:\n",
    "    mass = 0\n",
    "\n",
    "f_DH_data = [None for i in np.arange(40)]\n",
    "\n",
    "for k in tqdm(np.arange(40)):\n",
    "    print('starting run ', k)\n",
    "    get_column(k, f_DH_data, inj_particle=inj_particle, inj_type=inj_type, end_rs=4.996)\n",
    "\n",
    "save_as_pickled_object(f_DH_data, \n",
    "            '/Users/gridgway/Dropbox (MIT)/Photon Deposition/idl_comparison/GR_Checks/ih_continuous_'\n",
    "                       +inj_str+'/f_'+inj_str+'_'+inj_type+'_notCrossCheck.p'\n",
    "                      )"
   ]
  },
  {
   "cell_type": "code",
   "execution_count": 61,
   "metadata": {
    "scrolled": true
   },
   "outputs": [
    {
     "data": {
      "application/vnd.jupyter.widget-view+json": {
       "model_id": "a35fc493bb07402cab27b72071eab8cf",
       "version_major": 2,
       "version_minor": 0
      },
      "text/plain": [
       "HBox(children=(IntProgress(value=0, max=40), HTML(value='')))"
      ]
     },
     "metadata": {},
     "output_type": "display_data"
    },
    {
     "name": "stdout",
     "output_type": "stream",
     "text": [
      "starting run  0\n"
     ]
    },
    {
     "data": {
      "application/vnd.jupyter.widget-view+json": {
       "model_id": "d28d2ede10cd49dd8872105935cec455",
       "version_major": 2,
       "version_minor": 0
      },
      "text/plain": [
       "HBox(children=(IntProgress(value=0, max=3199), HTML(value='')))"
      ]
     },
     "metadata": {},
     "output_type": "display_data"
    },
    {
     "name": "stderr",
     "output_type": "stream",
     "text": [
      "/Users/gridgway/anaconda3/lib/python3.6/site-packages/scipy/integrate/odepack.py:247: ODEintWarning: Excess work done on this call (perhaps wrong Dfun type). Run with full_output = 1 to get quantitative information.\n",
      "  warnings.warn(warning_msg, ODEintWarning)\n"
     ]
    },
    {
     "name": "stdout",
     "output_type": "stream",
     "text": [
      "-1.9781238261271523\n",
      "-1.7112990698692216\n",
      "-1.442262194237701\n",
      "-1.1969866374439682\n",
      "-3.3181643974996438\n"
     ]
    },
    {
     "name": "stderr",
     "output_type": "stream",
     "text": [
      "../darkhistory/physics.py:474: RuntimeWarning: invalid value encountered in double_scalars\n",
      "  / (1 + 0.6703 * (conv_fac*T_m)**0.5300)\n"
     ]
    },
    {
     "name": "stdout",
     "output_type": "stream",
     "text": [
      "-5.424075276466083\n",
      "-5.111980390147261\n",
      "-4.800894191356414\n",
      "-4.476696327676206\n",
      "-4.155488025997259\n",
      "-3.861819850292911\n",
      "-3.502658751980271\n",
      "-3.1334035857320486\n",
      "-2.7448979648030725\n",
      "-2.347364236665073\n",
      "-1.875928078033611\n",
      "-1.3733042112801535\n",
      "-0.8232507366092864\n",
      "-0.20660346948343872\n",
      "-1.6529604501021828\n",
      "-1.3411865143410222\n",
      "-0.8211508526290412\n",
      "-0.6413950777270533\n",
      "-0.3838957102723845\n",
      "-0.01545036472593514\n",
      "starting run  1\n"
     ]
    },
    {
     "data": {
      "application/vnd.jupyter.widget-view+json": {
       "model_id": "291b3b27e0c34dad82c83f6a02582e4a",
       "version_major": 2,
       "version_minor": 0
      },
      "text/plain": [
       "HBox(children=(IntProgress(value=0, max=3199), HTML(value='')))"
      ]
     },
     "metadata": {},
     "output_type": "display_data"
    },
    {
     "name": "stdout",
     "output_type": "stream",
     "text": [
      "-5.015132258696926\n",
      "-5.391505319771106\n",
      "-5.764309619215246\n",
      "-0.013887958450404858\n",
      "-5.478198862880964\n",
      "-5.0942174269550575\n",
      "-4.747673565632293\n",
      "-5.408595402900832\n",
      "-5.1091013547785025\n",
      "-5.369380919286332\n",
      "-5.55190975655378\n",
      "-0.005314876725476758\n",
      "-5.3341436608950215\n",
      "-5.1571734371623545\n",
      "-5.018397868519435\n",
      "-4.886638482397523\n",
      "-4.784388521782673\n",
      "-4.714158754686438\n",
      "-4.6776789120094335\n",
      "-4.512068978867232\n",
      "-4.116707348275544\n",
      "-3.708077908845348\n",
      "-3.2784357988111723\n",
      "-2.7830895437684555\n",
      "-2.3886708708881965\n",
      "-3.361481913044753\n",
      "-3.0992813964371853\n",
      "-2.767538507488918\n",
      "-2.5515082827203215\n",
      "-2.316799476566542\n",
      "-2.0493959695613446\n",
      "-1.7775833814157898\n",
      "-0.9023784800374387\n",
      "-0.4734369732048492\n",
      "-0.1294988512895331\n",
      "-0.09564056879312438\n",
      "-1.0869959572283125\n",
      "-0.8240106987185731\n",
      "-0.5497239708030235\n",
      "-0.2713874302424911\n",
      "starting run  2\n"
     ]
    },
    {
     "data": {
      "application/vnd.jupyter.widget-view+json": {
       "model_id": "69cae018dd7441f2bafe4b1da0f31715",
       "version_major": 2,
       "version_minor": 0
      },
      "text/plain": [
       "HBox(children=(IntProgress(value=0, max=3199), HTML(value='')))"
      ]
     },
     "metadata": {},
     "output_type": "display_data"
    },
    {
     "name": "stdout",
     "output_type": "stream",
     "text": [
      "-3.419648692097229\n",
      "-3.077488577245476\n",
      "-2.8467934855657018\n",
      "-2.636258165990914\n",
      "-2.443026764677587\n",
      "-2.2626045103810517\n",
      "-2.0681252369033585\n",
      "-1.9077154483879077\n",
      "-2.0135376561537965\n",
      "-2.126968419860595\n",
      "-1.9931910350791333\n",
      "-1.8675667250483392\n",
      "-1.7495594515970376\n",
      "-1.6398830297520548\n",
      "-1.5386041995268083\n",
      "-1.4402524690484702\n",
      "-1.347362753091323\n",
      "-1.2589801167511159\n",
      "-1.1745037508803617\n",
      "-1.0897090120976907\n",
      "-1.0057359571445341\n",
      "-0.9202236035736509\n",
      "-0.8297148135500972\n",
      "-0.7223425247036346\n",
      "-0.6281199865888314\n",
      "-0.8267584101960899\n",
      "-0.700158903775803\n",
      "-0.5932677942687035\n",
      "-0.5215471600399173\n",
      "-0.4536886089765191\n",
      "-0.3811298221731367\n",
      "-0.3062392470211307\n",
      "-0.08687368313518928\n",
      "-0.21997837862870007\n",
      "-0.09639565915571802\n",
      "starting run  3\n"
     ]
    },
    {
     "data": {
      "application/vnd.jupyter.widget-view+json": {
       "model_id": "5fefa1515acb426ea8d142d090a3d434",
       "version_major": 2,
       "version_minor": 0
      },
      "text/plain": [
       "HBox(children=(IntProgress(value=0, max=3199), HTML(value='')))"
      ]
     },
     "metadata": {},
     "output_type": "display_data"
    },
    {
     "name": "stdout",
     "output_type": "stream",
     "text": [
      "-0.9194776036776795\n",
      "-0.6395932301487298\n",
      "-0.5689757469987713\n",
      "-0.5009673980686189\n",
      "-0.43274306143409996\n",
      "-0.3713701736023457\n",
      "-0.3139478461755103\n",
      "-0.2598101378162845\n",
      "-0.2090309164891801\n",
      "-0.251217532645532\n",
      "-0.29348001003030705\n",
      "-0.24656211722671773\n",
      "-0.204869419886692\n",
      "-0.16424867388147119\n",
      "-0.12021583859905732\n",
      "-0.0797944077366251\n",
      "-0.04012443103456065\n",
      "-0.0010380822800268308\n",
      "starting run  4\n"
     ]
    },
    {
     "data": {
      "application/vnd.jupyter.widget-view+json": {
       "model_id": "22787f10e1094ed6a9c0aa9a33fd986d",
       "version_major": 2,
       "version_minor": 0
      },
      "text/plain": [
       "HBox(children=(IntProgress(value=0, max=3199), HTML(value='')))"
      ]
     },
     "metadata": {},
     "output_type": "display_data"
    },
    {
     "name": "stdout",
     "output_type": "stream",
     "text": [
      "starting run  5\n"
     ]
    },
    {
     "data": {
      "application/vnd.jupyter.widget-view+json": {
       "model_id": "6421fcc73c464173bd9be412c9101ba4",
       "version_major": 2,
       "version_minor": 0
      },
      "text/plain": [
       "HBox(children=(IntProgress(value=0, max=3199), HTML(value='')))"
      ]
     },
     "metadata": {},
     "output_type": "display_data"
    },
    {
     "name": "stdout",
     "output_type": "stream",
     "text": [
      "starting run  6\n"
     ]
    },
    {
     "data": {
      "application/vnd.jupyter.widget-view+json": {
       "model_id": "3dd440633af44d21ad90c082741012f0",
       "version_major": 2,
       "version_minor": 0
      },
      "text/plain": [
       "HBox(children=(IntProgress(value=0, max=3199), HTML(value='')))"
      ]
     },
     "metadata": {},
     "output_type": "display_data"
    },
    {
     "name": "stdout",
     "output_type": "stream",
     "text": [
      "starting run  7\n"
     ]
    },
    {
     "data": {
      "application/vnd.jupyter.widget-view+json": {
       "model_id": "dceb45c37d26425baf2875f31701f1b9",
       "version_major": 2,
       "version_minor": 0
      },
      "text/plain": [
       "HBox(children=(IntProgress(value=0, max=3199), HTML(value='')))"
      ]
     },
     "metadata": {},
     "output_type": "display_data"
    },
    {
     "name": "stdout",
     "output_type": "stream",
     "text": [
      "starting run  8\n"
     ]
    },
    {
     "data": {
      "application/vnd.jupyter.widget-view+json": {
       "model_id": "2814c4387ebc4ff18c25b3a5f231eea0",
       "version_major": 2,
       "version_minor": 0
      },
      "text/plain": [
       "HBox(children=(IntProgress(value=0, max=3199), HTML(value='')))"
      ]
     },
     "metadata": {},
     "output_type": "display_data"
    },
    {
     "name": "stdout",
     "output_type": "stream",
     "text": [
      "starting run  9\n"
     ]
    },
    {
     "data": {
      "application/vnd.jupyter.widget-view+json": {
       "model_id": "c70795748ec64034869249f256946d56",
       "version_major": 2,
       "version_minor": 0
      },
      "text/plain": [
       "HBox(children=(IntProgress(value=0, max=3199), HTML(value='')))"
      ]
     },
     "metadata": {},
     "output_type": "display_data"
    },
    {
     "name": "stdout",
     "output_type": "stream",
     "text": [
      "starting run  10\n"
     ]
    },
    {
     "data": {
      "application/vnd.jupyter.widget-view+json": {
       "model_id": "3b6dfe0330af4b6cbdc73c23ba95ef06",
       "version_major": 2,
       "version_minor": 0
      },
      "text/plain": [
       "HBox(children=(IntProgress(value=0, max=3199), HTML(value='')))"
      ]
     },
     "metadata": {},
     "output_type": "display_data"
    },
    {
     "name": "stdout",
     "output_type": "stream",
     "text": [
      "starting run  11\n"
     ]
    },
    {
     "data": {
      "application/vnd.jupyter.widget-view+json": {
       "model_id": "ecded0a4e6bd42558c5f25d7bc59627d",
       "version_major": 2,
       "version_minor": 0
      },
      "text/plain": [
       "HBox(children=(IntProgress(value=0, max=3199), HTML(value='')))"
      ]
     },
     "metadata": {},
     "output_type": "display_data"
    },
    {
     "name": "stdout",
     "output_type": "stream",
     "text": [
      "starting run  12\n"
     ]
    },
    {
     "data": {
      "application/vnd.jupyter.widget-view+json": {
       "model_id": "ae8f97b254d9448cb24ef2af6f6e2813",
       "version_major": 2,
       "version_minor": 0
      },
      "text/plain": [
       "HBox(children=(IntProgress(value=0, max=3199), HTML(value='')))"
      ]
     },
     "metadata": {},
     "output_type": "display_data"
    },
    {
     "name": "stdout",
     "output_type": "stream",
     "text": [
      "starting run  13\n"
     ]
    },
    {
     "data": {
      "application/vnd.jupyter.widget-view+json": {
       "model_id": "4a5eeff13c984293a62a5ecff8a12380",
       "version_major": 2,
       "version_minor": 0
      },
      "text/plain": [
       "HBox(children=(IntProgress(value=0, max=3199), HTML(value='')))"
      ]
     },
     "metadata": {},
     "output_type": "display_data"
    },
    {
     "name": "stdout",
     "output_type": "stream",
     "text": [
      "starting run  14\n"
     ]
    },
    {
     "data": {
      "application/vnd.jupyter.widget-view+json": {
       "model_id": "962a604bdcb34ef1b2326ea3b1dc0016",
       "version_major": 2,
       "version_minor": 0
      },
      "text/plain": [
       "HBox(children=(IntProgress(value=0, max=3199), HTML(value='')))"
      ]
     },
     "metadata": {},
     "output_type": "display_data"
    },
    {
     "name": "stdout",
     "output_type": "stream",
     "text": [
      "starting run  15\n"
     ]
    },
    {
     "data": {
      "application/vnd.jupyter.widget-view+json": {
       "model_id": "c721200106e543e48833dbb1ea77626f",
       "version_major": 2,
       "version_minor": 0
      },
      "text/plain": [
       "HBox(children=(IntProgress(value=0, max=3199), HTML(value='')))"
      ]
     },
     "metadata": {},
     "output_type": "display_data"
    },
    {
     "name": "stdout",
     "output_type": "stream",
     "text": [
      "starting run  16\n"
     ]
    },
    {
     "data": {
      "application/vnd.jupyter.widget-view+json": {
       "model_id": "99d8fb62ccd440198161136085339177",
       "version_major": 2,
       "version_minor": 0
      },
      "text/plain": [
       "HBox(children=(IntProgress(value=0, max=3199), HTML(value='')))"
      ]
     },
     "metadata": {},
     "output_type": "display_data"
    },
    {
     "name": "stdout",
     "output_type": "stream",
     "text": [
      "starting run  17\n"
     ]
    },
    {
     "data": {
      "application/vnd.jupyter.widget-view+json": {
       "model_id": "1ef43f7589474e7492d91bfe6d3ef305",
       "version_major": 2,
       "version_minor": 0
      },
      "text/plain": [
       "HBox(children=(IntProgress(value=0, max=3199), HTML(value='')))"
      ]
     },
     "metadata": {},
     "output_type": "display_data"
    },
    {
     "name": "stdout",
     "output_type": "stream",
     "text": [
      "starting run  18\n"
     ]
    },
    {
     "data": {
      "application/vnd.jupyter.widget-view+json": {
       "model_id": "8f0a586f454b4e02a6231e7a66667f94",
       "version_major": 2,
       "version_minor": 0
      },
      "text/plain": [
       "HBox(children=(IntProgress(value=0, max=3199), HTML(value='')))"
      ]
     },
     "metadata": {},
     "output_type": "display_data"
    },
    {
     "name": "stdout",
     "output_type": "stream",
     "text": [
      "starting run  19\n"
     ]
    },
    {
     "data": {
      "application/vnd.jupyter.widget-view+json": {
       "model_id": "911009bfbc0a442bbd14e73a989d0b11",
       "version_major": 2,
       "version_minor": 0
      },
      "text/plain": [
       "HBox(children=(IntProgress(value=0, max=3199), HTML(value='')))"
      ]
     },
     "metadata": {},
     "output_type": "display_data"
    },
    {
     "name": "stdout",
     "output_type": "stream",
     "text": [
      "starting run  20\n"
     ]
    },
    {
     "data": {
      "application/vnd.jupyter.widget-view+json": {
       "model_id": "fd246ab62ea9439d87355f73ca0b959a",
       "version_major": 2,
       "version_minor": 0
      },
      "text/plain": [
       "HBox(children=(IntProgress(value=0, max=3199), HTML(value='')))"
      ]
     },
     "metadata": {},
     "output_type": "display_data"
    },
    {
     "name": "stdout",
     "output_type": "stream",
     "text": [
      "starting run  21\n"
     ]
    },
    {
     "data": {
      "application/vnd.jupyter.widget-view+json": {
       "model_id": "887218f7772d42e484603298c39549dd",
       "version_major": 2,
       "version_minor": 0
      },
      "text/plain": [
       "HBox(children=(IntProgress(value=0, max=3199), HTML(value='')))"
      ]
     },
     "metadata": {},
     "output_type": "display_data"
    },
    {
     "name": "stdout",
     "output_type": "stream",
     "text": [
      "starting run  22\n"
     ]
    },
    {
     "data": {
      "application/vnd.jupyter.widget-view+json": {
       "model_id": "82ee54c5df3b4941907e4ee55917616b",
       "version_major": 2,
       "version_minor": 0
      },
      "text/plain": [
       "HBox(children=(IntProgress(value=0, max=3199), HTML(value='')))"
      ]
     },
     "metadata": {},
     "output_type": "display_data"
    },
    {
     "name": "stdout",
     "output_type": "stream",
     "text": [
      "starting run  23\n"
     ]
    },
    {
     "data": {
      "application/vnd.jupyter.widget-view+json": {
       "model_id": "aaf564e20150480fbba208236cfe9a16",
       "version_major": 2,
       "version_minor": 0
      },
      "text/plain": [
       "HBox(children=(IntProgress(value=0, max=3199), HTML(value='')))"
      ]
     },
     "metadata": {},
     "output_type": "display_data"
    },
    {
     "name": "stdout",
     "output_type": "stream",
     "text": [
      "starting run  24\n"
     ]
    },
    {
     "data": {
      "application/vnd.jupyter.widget-view+json": {
       "model_id": "4ebe6f8979f648c4bf0af3653c1d136a",
       "version_major": 2,
       "version_minor": 0
      },
      "text/plain": [
       "HBox(children=(IntProgress(value=0, max=3199), HTML(value='')))"
      ]
     },
     "metadata": {},
     "output_type": "display_data"
    },
    {
     "name": "stdout",
     "output_type": "stream",
     "text": [
      "starting run  25\n"
     ]
    },
    {
     "data": {
      "application/vnd.jupyter.widget-view+json": {
       "model_id": "855097c8953c4a9b8c3eb9dd2c0634c8",
       "version_major": 2,
       "version_minor": 0
      },
      "text/plain": [
       "HBox(children=(IntProgress(value=0, max=3199), HTML(value='')))"
      ]
     },
     "metadata": {},
     "output_type": "display_data"
    },
    {
     "name": "stdout",
     "output_type": "stream",
     "text": [
      "starting run  26\n"
     ]
    },
    {
     "data": {
      "application/vnd.jupyter.widget-view+json": {
       "model_id": "6f655841fad54beba63d4c616bf0e12b",
       "version_major": 2,
       "version_minor": 0
      },
      "text/plain": [
       "HBox(children=(IntProgress(value=0, max=3199), HTML(value='')))"
      ]
     },
     "metadata": {},
     "output_type": "display_data"
    },
    {
     "name": "stdout",
     "output_type": "stream",
     "text": [
      "starting run  27\n"
     ]
    },
    {
     "data": {
      "application/vnd.jupyter.widget-view+json": {
       "model_id": "33bbd8a65ed348caa4ac14279ec950f0",
       "version_major": 2,
       "version_minor": 0
      },
      "text/plain": [
       "HBox(children=(IntProgress(value=0, max=3199), HTML(value='')))"
      ]
     },
     "metadata": {},
     "output_type": "display_data"
    },
    {
     "name": "stdout",
     "output_type": "stream",
     "text": [
      "starting run  28\n"
     ]
    },
    {
     "data": {
      "application/vnd.jupyter.widget-view+json": {
       "model_id": "c257d19746bf49c3bf504ea00462bfa6",
       "version_major": 2,
       "version_minor": 0
      },
      "text/plain": [
       "HBox(children=(IntProgress(value=0, max=3199), HTML(value='')))"
      ]
     },
     "metadata": {},
     "output_type": "display_data"
    },
    {
     "name": "stdout",
     "output_type": "stream",
     "text": [
      "starting run  29\n"
     ]
    },
    {
     "data": {
      "application/vnd.jupyter.widget-view+json": {
       "model_id": "2fba408557814c74b9076d590cf21e20",
       "version_major": 2,
       "version_minor": 0
      },
      "text/plain": [
       "HBox(children=(IntProgress(value=0, max=3199), HTML(value='')))"
      ]
     },
     "metadata": {},
     "output_type": "display_data"
    },
    {
     "name": "stdout",
     "output_type": "stream",
     "text": [
      "starting run  30\n"
     ]
    },
    {
     "data": {
      "application/vnd.jupyter.widget-view+json": {
       "model_id": "806905de96ed4cd084a6c714d7408345",
       "version_major": 2,
       "version_minor": 0
      },
      "text/plain": [
       "HBox(children=(IntProgress(value=0, max=3199), HTML(value='')))"
      ]
     },
     "metadata": {},
     "output_type": "display_data"
    },
    {
     "name": "stdout",
     "output_type": "stream",
     "text": [
      "starting run  31\n"
     ]
    },
    {
     "data": {
      "application/vnd.jupyter.widget-view+json": {
       "model_id": "95e75df41b4542adba9d4b7d8fddb0c8",
       "version_major": 2,
       "version_minor": 0
      },
      "text/plain": [
       "HBox(children=(IntProgress(value=0, max=3199), HTML(value='')))"
      ]
     },
     "metadata": {},
     "output_type": "display_data"
    },
    {
     "name": "stdout",
     "output_type": "stream",
     "text": [
      "starting run  32\n"
     ]
    },
    {
     "data": {
      "application/vnd.jupyter.widget-view+json": {
       "model_id": "1f61412d60bd45128ee797bf7991b151",
       "version_major": 2,
       "version_minor": 0
      },
      "text/plain": [
       "HBox(children=(IntProgress(value=0, max=3199), HTML(value='')))"
      ]
     },
     "metadata": {},
     "output_type": "display_data"
    },
    {
     "name": "stdout",
     "output_type": "stream",
     "text": [
      "starting run  33\n"
     ]
    },
    {
     "data": {
      "application/vnd.jupyter.widget-view+json": {
       "model_id": "4980a9df881d418792767037d6e60dd2",
       "version_major": 2,
       "version_minor": 0
      },
      "text/plain": [
       "HBox(children=(IntProgress(value=0, max=3199), HTML(value='')))"
      ]
     },
     "metadata": {},
     "output_type": "display_data"
    },
    {
     "name": "stdout",
     "output_type": "stream",
     "text": [
      "starting run  34\n"
     ]
    },
    {
     "data": {
      "application/vnd.jupyter.widget-view+json": {
       "model_id": "0d2c6e379c2942baa17aea3d38963f08",
       "version_major": 2,
       "version_minor": 0
      },
      "text/plain": [
       "HBox(children=(IntProgress(value=0, max=3199), HTML(value='')))"
      ]
     },
     "metadata": {},
     "output_type": "display_data"
    },
    {
     "name": "stdout",
     "output_type": "stream",
     "text": [
      "starting run  35\n"
     ]
    },
    {
     "data": {
      "application/vnd.jupyter.widget-view+json": {
       "model_id": "1268d30d78864829a627fca1d9979f62",
       "version_major": 2,
       "version_minor": 0
      },
      "text/plain": [
       "HBox(children=(IntProgress(value=0, max=3199), HTML(value='')))"
      ]
     },
     "metadata": {},
     "output_type": "display_data"
    },
    {
     "name": "stdout",
     "output_type": "stream",
     "text": [
      "starting run  36\n"
     ]
    },
    {
     "data": {
      "application/vnd.jupyter.widget-view+json": {
       "model_id": "620ba461ba32418bb970cac05a925d3a",
       "version_major": 2,
       "version_minor": 0
      },
      "text/plain": [
       "HBox(children=(IntProgress(value=0, max=3199), HTML(value='')))"
      ]
     },
     "metadata": {},
     "output_type": "display_data"
    },
    {
     "name": "stdout",
     "output_type": "stream",
     "text": [
      "starting run  37\n"
     ]
    },
    {
     "data": {
      "application/vnd.jupyter.widget-view+json": {
       "model_id": "f40f59ab12a44879877d68bb02e9a2c4",
       "version_major": 2,
       "version_minor": 0
      },
      "text/plain": [
       "HBox(children=(IntProgress(value=0, max=3199), HTML(value='')))"
      ]
     },
     "metadata": {},
     "output_type": "display_data"
    },
    {
     "name": "stdout",
     "output_type": "stream",
     "text": [
      "starting run  38\n"
     ]
    },
    {
     "data": {
      "application/vnd.jupyter.widget-view+json": {
       "model_id": "3b0bf6177fb64c68aa896498ba491c27",
       "version_major": 2,
       "version_minor": 0
      },
      "text/plain": [
       "HBox(children=(IntProgress(value=0, max=3199), HTML(value='')))"
      ]
     },
     "metadata": {},
     "output_type": "display_data"
    },
    {
     "name": "stdout",
     "output_type": "stream",
     "text": [
      "starting run  39\n"
     ]
    },
    {
     "data": {
      "application/vnd.jupyter.widget-view+json": {
       "model_id": "da14523a0e1e4e2d97a47546e6636bb2",
       "version_major": 2,
       "version_minor": 0
      },
      "text/plain": [
       "HBox(children=(IntProgress(value=0, max=3199), HTML(value='')))"
      ]
     },
     "metadata": {},
     "output_type": "display_data"
    }
   ],
   "source": [
    "%autoreload\n",
    "inj_type='swave'\n",
    "inj_particle='photon'\n",
    "inj_str=inj_particle[:4]\n",
    "\n",
    "if inj_particle == 'electron':\n",
    "    mass = phys.me\n",
    "else:\n",
    "    mass = 0\n",
    "\n",
    "f_DH_data = [None for i in np.arange(40)]\n",
    "\n",
    "for k in tqdm(np.arange(40)):\n",
    "    print('starting run ', k)\n",
    "    get_column(k, f_DH_data, inj_particle=inj_particle, inj_type=inj_type, end_rs=4.996)\n",
    "\n",
    "save_as_pickled_object(f_DH_data, \n",
    "            '/Users/gridgway/Dropbox (MIT)/Photon Deposition/idl_comparison/GR_Checks/ih_continuous_'\n",
    "                       +inj_str+'/f_'+inj_str+'_'+inj_type+'_notCrossCheck.p'\n",
    "                      )"
   ]
  },
  {
   "cell_type": "code",
   "execution_count": 62,
   "metadata": {},
   "outputs": [
    {
     "data": {
      "application/vnd.jupyter.widget-view+json": {
       "model_id": "fc51832b7634463ba92676e70987d374",
       "version_major": 2,
       "version_minor": 0
      },
      "text/plain": [
       "HBox(children=(IntProgress(value=0, max=40), HTML(value='')))"
      ]
     },
     "metadata": {},
     "output_type": "display_data"
    },
    {
     "name": "stdout",
     "output_type": "stream",
     "text": [
      "starting run  0\n"
     ]
    },
    {
     "data": {
      "application/vnd.jupyter.widget-view+json": {
       "model_id": "4f54767d481042d88f0f416fcb508e6b",
       "version_major": 2,
       "version_minor": 0
      },
      "text/plain": [
       "HBox(children=(IntProgress(value=0, max=800), HTML(value='')))"
      ]
     },
     "metadata": {},
     "output_type": "display_data"
    },
    {
     "name": "stdout",
     "output_type": "stream",
     "text": [
      "starting run  1\n"
     ]
    },
    {
     "data": {
      "application/vnd.jupyter.widget-view+json": {
       "model_id": "b5aabbf4f05641ceb76f7bcf19efd3d7",
       "version_major": 2,
       "version_minor": 0
      },
      "text/plain": [
       "HBox(children=(IntProgress(value=0, max=800), HTML(value='')))"
      ]
     },
     "metadata": {},
     "output_type": "display_data"
    },
    {
     "name": "stdout",
     "output_type": "stream",
     "text": [
      "starting run  2\n"
     ]
    },
    {
     "data": {
      "application/vnd.jupyter.widget-view+json": {
       "model_id": "d445dde2201b4564bbe8be1ddd208b8b",
       "version_major": 2,
       "version_minor": 0
      },
      "text/plain": [
       "HBox(children=(IntProgress(value=0, max=800), HTML(value='')))"
      ]
     },
     "metadata": {},
     "output_type": "display_data"
    },
    {
     "name": "stdout",
     "output_type": "stream",
     "text": [
      "starting run  3\n"
     ]
    },
    {
     "data": {
      "application/vnd.jupyter.widget-view+json": {
       "model_id": "5b01245987474843a67115093fb8a4fb",
       "version_major": 2,
       "version_minor": 0
      },
      "text/plain": [
       "HBox(children=(IntProgress(value=0, max=800), HTML(value='')))"
      ]
     },
     "metadata": {},
     "output_type": "display_data"
    },
    {
     "name": "stdout",
     "output_type": "stream",
     "text": [
      "starting run  4\n"
     ]
    },
    {
     "data": {
      "application/vnd.jupyter.widget-view+json": {
       "model_id": "96dbbfac88064b64a64f2a9c502f590c",
       "version_major": 2,
       "version_minor": 0
      },
      "text/plain": [
       "HBox(children=(IntProgress(value=0, max=800), HTML(value='')))"
      ]
     },
     "metadata": {},
     "output_type": "display_data"
    },
    {
     "name": "stdout",
     "output_type": "stream",
     "text": [
      "starting run  5\n"
     ]
    },
    {
     "data": {
      "application/vnd.jupyter.widget-view+json": {
       "model_id": "52f7f060981e4007872363708732e073",
       "version_major": 2,
       "version_minor": 0
      },
      "text/plain": [
       "HBox(children=(IntProgress(value=0, max=800), HTML(value='')))"
      ]
     },
     "metadata": {},
     "output_type": "display_data"
    },
    {
     "name": "stdout",
     "output_type": "stream",
     "text": [
      "starting run  6\n"
     ]
    },
    {
     "data": {
      "application/vnd.jupyter.widget-view+json": {
       "model_id": "2c2b0d40a28e4bd08e3200c8f383ef84",
       "version_major": 2,
       "version_minor": 0
      },
      "text/plain": [
       "HBox(children=(IntProgress(value=0, max=800), HTML(value='')))"
      ]
     },
     "metadata": {},
     "output_type": "display_data"
    },
    {
     "name": "stdout",
     "output_type": "stream",
     "text": [
      "starting run  7\n"
     ]
    },
    {
     "data": {
      "application/vnd.jupyter.widget-view+json": {
       "model_id": "bfe84fd893f04b55bcd1d1bec944851a",
       "version_major": 2,
       "version_minor": 0
      },
      "text/plain": [
       "HBox(children=(IntProgress(value=0, max=800), HTML(value='')))"
      ]
     },
     "metadata": {},
     "output_type": "display_data"
    },
    {
     "name": "stdout",
     "output_type": "stream",
     "text": [
      "starting run  8\n"
     ]
    },
    {
     "data": {
      "application/vnd.jupyter.widget-view+json": {
       "model_id": "d96487d7ae094589ae7cad608c7b2ac1",
       "version_major": 2,
       "version_minor": 0
      },
      "text/plain": [
       "HBox(children=(IntProgress(value=0, max=800), HTML(value='')))"
      ]
     },
     "metadata": {},
     "output_type": "display_data"
    },
    {
     "name": "stdout",
     "output_type": "stream",
     "text": [
      "starting run  9\n"
     ]
    },
    {
     "data": {
      "application/vnd.jupyter.widget-view+json": {
       "model_id": "9d34fb0e3ecb4454b674bf7ba0844f21",
       "version_major": 2,
       "version_minor": 0
      },
      "text/plain": [
       "HBox(children=(IntProgress(value=0, max=800), HTML(value='')))"
      ]
     },
     "metadata": {},
     "output_type": "display_data"
    },
    {
     "name": "stdout",
     "output_type": "stream",
     "text": [
      "starting run  10\n"
     ]
    },
    {
     "data": {
      "application/vnd.jupyter.widget-view+json": {
       "model_id": "ab7bbffa454a44f68bc1e5c627fa8bf1",
       "version_major": 2,
       "version_minor": 0
      },
      "text/plain": [
       "HBox(children=(IntProgress(value=0, max=800), HTML(value='')))"
      ]
     },
     "metadata": {},
     "output_type": "display_data"
    },
    {
     "name": "stdout",
     "output_type": "stream",
     "text": [
      "starting run  11\n"
     ]
    },
    {
     "data": {
      "application/vnd.jupyter.widget-view+json": {
       "model_id": "0125eb32e7a045fe8e01bac99925c892",
       "version_major": 2,
       "version_minor": 0
      },
      "text/plain": [
       "HBox(children=(IntProgress(value=0, max=800), HTML(value='')))"
      ]
     },
     "metadata": {},
     "output_type": "display_data"
    },
    {
     "name": "stdout",
     "output_type": "stream",
     "text": [
      "starting run  12\n"
     ]
    },
    {
     "data": {
      "application/vnd.jupyter.widget-view+json": {
       "model_id": "c41a36f15cce4008acb2867261f78f90",
       "version_major": 2,
       "version_minor": 0
      },
      "text/plain": [
       "HBox(children=(IntProgress(value=0, max=800), HTML(value='')))"
      ]
     },
     "metadata": {},
     "output_type": "display_data"
    },
    {
     "name": "stdout",
     "output_type": "stream",
     "text": [
      "starting run  13\n"
     ]
    },
    {
     "data": {
      "application/vnd.jupyter.widget-view+json": {
       "model_id": "3a08e18c172945df9992a9efe68e0550",
       "version_major": 2,
       "version_minor": 0
      },
      "text/plain": [
       "HBox(children=(IntProgress(value=0, max=800), HTML(value='')))"
      ]
     },
     "metadata": {},
     "output_type": "display_data"
    },
    {
     "name": "stdout",
     "output_type": "stream",
     "text": [
      "starting run  14\n"
     ]
    },
    {
     "data": {
      "application/vnd.jupyter.widget-view+json": {
       "model_id": "62d118bea82845ceaff0ab4397110d5e",
       "version_major": 2,
       "version_minor": 0
      },
      "text/plain": [
       "HBox(children=(IntProgress(value=0, max=800), HTML(value='')))"
      ]
     },
     "metadata": {},
     "output_type": "display_data"
    },
    {
     "name": "stdout",
     "output_type": "stream",
     "text": [
      "starting run  15\n"
     ]
    },
    {
     "data": {
      "application/vnd.jupyter.widget-view+json": {
       "model_id": "c9c11d86de9948398058d1ff576d4eb9",
       "version_major": 2,
       "version_minor": 0
      },
      "text/plain": [
       "HBox(children=(IntProgress(value=0, max=800), HTML(value='')))"
      ]
     },
     "metadata": {},
     "output_type": "display_data"
    },
    {
     "name": "stdout",
     "output_type": "stream",
     "text": [
      "starting run  16\n"
     ]
    },
    {
     "data": {
      "application/vnd.jupyter.widget-view+json": {
       "model_id": "81098369cf2541e69c29b4dc2c66b685",
       "version_major": 2,
       "version_minor": 0
      },
      "text/plain": [
       "HBox(children=(IntProgress(value=0, max=800), HTML(value='')))"
      ]
     },
     "metadata": {},
     "output_type": "display_data"
    },
    {
     "name": "stdout",
     "output_type": "stream",
     "text": [
      "starting run  17\n"
     ]
    },
    {
     "data": {
      "application/vnd.jupyter.widget-view+json": {
       "model_id": "4023325c833841dab147de5761efa0c5",
       "version_major": 2,
       "version_minor": 0
      },
      "text/plain": [
       "HBox(children=(IntProgress(value=0, max=800), HTML(value='')))"
      ]
     },
     "metadata": {},
     "output_type": "display_data"
    },
    {
     "name": "stdout",
     "output_type": "stream",
     "text": [
      "starting run  18\n"
     ]
    },
    {
     "data": {
      "application/vnd.jupyter.widget-view+json": {
       "model_id": "fc530645b2664e64a231143ee5bcd417",
       "version_major": 2,
       "version_minor": 0
      },
      "text/plain": [
       "HBox(children=(IntProgress(value=0, max=800), HTML(value='')))"
      ]
     },
     "metadata": {},
     "output_type": "display_data"
    },
    {
     "name": "stdout",
     "output_type": "stream",
     "text": [
      "starting run  19\n"
     ]
    },
    {
     "data": {
      "application/vnd.jupyter.widget-view+json": {
       "model_id": "ec6274f9cb494709b43447e77277e294",
       "version_major": 2,
       "version_minor": 0
      },
      "text/plain": [
       "HBox(children=(IntProgress(value=0, max=800), HTML(value='')))"
      ]
     },
     "metadata": {},
     "output_type": "display_data"
    },
    {
     "name": "stdout",
     "output_type": "stream",
     "text": [
      "starting run  20\n"
     ]
    },
    {
     "data": {
      "application/vnd.jupyter.widget-view+json": {
       "model_id": "56854669be84464ebc7bddc9748ab6cb",
       "version_major": 2,
       "version_minor": 0
      },
      "text/plain": [
       "HBox(children=(IntProgress(value=0, max=800), HTML(value='')))"
      ]
     },
     "metadata": {},
     "output_type": "display_data"
    },
    {
     "name": "stdout",
     "output_type": "stream",
     "text": [
      "starting run  21\n"
     ]
    },
    {
     "data": {
      "application/vnd.jupyter.widget-view+json": {
       "model_id": "9c9f7414ed954a9093a5b049f0c884fc",
       "version_major": 2,
       "version_minor": 0
      },
      "text/plain": [
       "HBox(children=(IntProgress(value=0, max=800), HTML(value='')))"
      ]
     },
     "metadata": {},
     "output_type": "display_data"
    },
    {
     "name": "stdout",
     "output_type": "stream",
     "text": [
      "starting run  22\n"
     ]
    },
    {
     "data": {
      "application/vnd.jupyter.widget-view+json": {
       "model_id": "a5026742781447d8845e10f07aa5f1a6",
       "version_major": 2,
       "version_minor": 0
      },
      "text/plain": [
       "HBox(children=(IntProgress(value=0, max=800), HTML(value='')))"
      ]
     },
     "metadata": {},
     "output_type": "display_data"
    },
    {
     "name": "stdout",
     "output_type": "stream",
     "text": [
      "starting run  23\n"
     ]
    },
    {
     "data": {
      "application/vnd.jupyter.widget-view+json": {
       "model_id": "5922d6f7800b4627a70d3c57ea4e9701",
       "version_major": 2,
       "version_minor": 0
      },
      "text/plain": [
       "HBox(children=(IntProgress(value=0, max=800), HTML(value='')))"
      ]
     },
     "metadata": {},
     "output_type": "display_data"
    },
    {
     "name": "stdout",
     "output_type": "stream",
     "text": [
      "starting run  24\n"
     ]
    },
    {
     "data": {
      "application/vnd.jupyter.widget-view+json": {
       "model_id": "e2da853b38d941c2b49330660fd091c9",
       "version_major": 2,
       "version_minor": 0
      },
      "text/plain": [
       "HBox(children=(IntProgress(value=0, max=800), HTML(value='')))"
      ]
     },
     "metadata": {},
     "output_type": "display_data"
    },
    {
     "name": "stdout",
     "output_type": "stream",
     "text": [
      "starting run  25\n"
     ]
    },
    {
     "data": {
      "application/vnd.jupyter.widget-view+json": {
       "model_id": "7b22316929424c61951c740bd74f0bae",
       "version_major": 2,
       "version_minor": 0
      },
      "text/plain": [
       "HBox(children=(IntProgress(value=0, max=800), HTML(value='')))"
      ]
     },
     "metadata": {},
     "output_type": "display_data"
    },
    {
     "name": "stdout",
     "output_type": "stream",
     "text": [
      "starting run  26\n"
     ]
    },
    {
     "data": {
      "application/vnd.jupyter.widget-view+json": {
       "model_id": "28141fd716b0400cbbe2a4a4479e276c",
       "version_major": 2,
       "version_minor": 0
      },
      "text/plain": [
       "HBox(children=(IntProgress(value=0, max=800), HTML(value='')))"
      ]
     },
     "metadata": {},
     "output_type": "display_data"
    },
    {
     "name": "stdout",
     "output_type": "stream",
     "text": [
      "starting run  27\n"
     ]
    },
    {
     "data": {
      "application/vnd.jupyter.widget-view+json": {
       "model_id": "7248bfc97aec4c52a39da72f5dab5892",
       "version_major": 2,
       "version_minor": 0
      },
      "text/plain": [
       "HBox(children=(IntProgress(value=0, max=800), HTML(value='')))"
      ]
     },
     "metadata": {},
     "output_type": "display_data"
    },
    {
     "name": "stdout",
     "output_type": "stream",
     "text": [
      "starting run  28\n"
     ]
    },
    {
     "data": {
      "application/vnd.jupyter.widget-view+json": {
       "model_id": "a706860b9d8c44b5a1cf995736698b7b",
       "version_major": 2,
       "version_minor": 0
      },
      "text/plain": [
       "HBox(children=(IntProgress(value=0, max=800), HTML(value='')))"
      ]
     },
     "metadata": {},
     "output_type": "display_data"
    },
    {
     "name": "stdout",
     "output_type": "stream",
     "text": [
      "starting run  29\n"
     ]
    },
    {
     "data": {
      "application/vnd.jupyter.widget-view+json": {
       "model_id": "d71440a003d141988d3c798c16b6e700",
       "version_major": 2,
       "version_minor": 0
      },
      "text/plain": [
       "HBox(children=(IntProgress(value=0, max=800), HTML(value='')))"
      ]
     },
     "metadata": {},
     "output_type": "display_data"
    },
    {
     "name": "stdout",
     "output_type": "stream",
     "text": [
      "starting run  30\n"
     ]
    },
    {
     "data": {
      "application/vnd.jupyter.widget-view+json": {
       "model_id": "803bf8b0fbe140e8af3725b40a194d94",
       "version_major": 2,
       "version_minor": 0
      },
      "text/plain": [
       "HBox(children=(IntProgress(value=0, max=800), HTML(value='')))"
      ]
     },
     "metadata": {},
     "output_type": "display_data"
    },
    {
     "name": "stdout",
     "output_type": "stream",
     "text": [
      "starting run  31\n"
     ]
    },
    {
     "data": {
      "application/vnd.jupyter.widget-view+json": {
       "model_id": "abf1d9e9b1e94021ab24ff3fd62e65c3",
       "version_major": 2,
       "version_minor": 0
      },
      "text/plain": [
       "HBox(children=(IntProgress(value=0, max=800), HTML(value='')))"
      ]
     },
     "metadata": {},
     "output_type": "display_data"
    },
    {
     "name": "stdout",
     "output_type": "stream",
     "text": [
      "starting run  32\n"
     ]
    },
    {
     "data": {
      "application/vnd.jupyter.widget-view+json": {
       "model_id": "ab892c0c6360448383775b6a3639d02f",
       "version_major": 2,
       "version_minor": 0
      },
      "text/plain": [
       "HBox(children=(IntProgress(value=0, max=800), HTML(value='')))"
      ]
     },
     "metadata": {},
     "output_type": "display_data"
    },
    {
     "name": "stdout",
     "output_type": "stream",
     "text": [
      "starting run  33\n"
     ]
    },
    {
     "data": {
      "application/vnd.jupyter.widget-view+json": {
       "model_id": "6a1833d5c0f646dd9f039406d257e5e4",
       "version_major": 2,
       "version_minor": 0
      },
      "text/plain": [
       "HBox(children=(IntProgress(value=0, max=800), HTML(value='')))"
      ]
     },
     "metadata": {},
     "output_type": "display_data"
    },
    {
     "name": "stdout",
     "output_type": "stream",
     "text": [
      "starting run  34\n"
     ]
    },
    {
     "data": {
      "application/vnd.jupyter.widget-view+json": {
       "model_id": "81cdc57214ae494dbcca9eecc9f35030",
       "version_major": 2,
       "version_minor": 0
      },
      "text/plain": [
       "HBox(children=(IntProgress(value=0, max=800), HTML(value='')))"
      ]
     },
     "metadata": {},
     "output_type": "display_data"
    },
    {
     "name": "stdout",
     "output_type": "stream",
     "text": [
      "starting run  35\n"
     ]
    },
    {
     "data": {
      "application/vnd.jupyter.widget-view+json": {
       "model_id": "4c4ce021344545708e02e089b849bc03",
       "version_major": 2,
       "version_minor": 0
      },
      "text/plain": [
       "HBox(children=(IntProgress(value=0, max=800), HTML(value='')))"
      ]
     },
     "metadata": {},
     "output_type": "display_data"
    },
    {
     "name": "stdout",
     "output_type": "stream",
     "text": [
      "starting run  36\n"
     ]
    },
    {
     "data": {
      "application/vnd.jupyter.widget-view+json": {
       "model_id": "828cf771ab9946188cd73a054e9857dd",
       "version_major": 2,
       "version_minor": 0
      },
      "text/plain": [
       "HBox(children=(IntProgress(value=0, max=800), HTML(value='')))"
      ]
     },
     "metadata": {},
     "output_type": "display_data"
    },
    {
     "name": "stdout",
     "output_type": "stream",
     "text": [
      "starting run  37\n"
     ]
    },
    {
     "data": {
      "application/vnd.jupyter.widget-view+json": {
       "model_id": "43c9719654a146cd971e3a650ab3fc2a",
       "version_major": 2,
       "version_minor": 0
      },
      "text/plain": [
       "HBox(children=(IntProgress(value=0, max=800), HTML(value='')))"
      ]
     },
     "metadata": {},
     "output_type": "display_data"
    },
    {
     "name": "stdout",
     "output_type": "stream",
     "text": [
      "starting run  38\n"
     ]
    },
    {
     "data": {
      "application/vnd.jupyter.widget-view+json": {
       "model_id": "b9f8d711dab847c19754813d2eb7eb8a",
       "version_major": 2,
       "version_minor": 0
      },
      "text/plain": [
       "HBox(children=(IntProgress(value=0, max=800), HTML(value='')))"
      ]
     },
     "metadata": {},
     "output_type": "display_data"
    },
    {
     "name": "stdout",
     "output_type": "stream",
     "text": [
      "starting run  39\n"
     ]
    },
    {
     "data": {
      "application/vnd.jupyter.widget-view+json": {
       "model_id": "9ef16c9278c94a12ac8480a482121262",
       "version_major": 2,
       "version_minor": 0
      },
      "text/plain": [
       "HBox(children=(IntProgress(value=0, max=800), HTML(value='')))"
      ]
     },
     "metadata": {},
     "output_type": "display_data"
    }
   ],
   "source": [
    "%autoreload\n",
    "inj_type='decay'\n",
    "inj_particle='electron'\n",
    "inj_str=inj_particle[:4]\n",
    "\n",
    "if inj_particle == 'electron':\n",
    "    mass = phys.me\n",
    "else:\n",
    "    mass = 0\n",
    "\n",
    "f_DH_data = [None for i in np.arange(40)]\n",
    "\n",
    "for k in tqdm(np.arange(40)):\n",
    "    print('starting run ', k)\n",
    "    get_column(k, f_DH_data, inj_particle=inj_particle, inj_type=inj_type, end_rs=4.996)\n",
    "\n",
    "save_as_pickled_object(f_DH_data, \n",
    "            '/Users/gridgway/Dropbox (MIT)/Photon Deposition/idl_comparison/GR_Checks/ih_continuous_'\n",
    "                       +inj_str+'/f_'+inj_str+'_'+inj_type+'_notCrossCheck.p'\n",
    "                      )"
   ]
  },
  {
   "cell_type": "code",
   "execution_count": 63,
   "metadata": {},
   "outputs": [
    {
     "data": {
      "application/vnd.jupyter.widget-view+json": {
       "model_id": "edfed63431e740619fe51848862873a9",
       "version_major": 2,
       "version_minor": 0
      },
      "text/plain": [
       "HBox(children=(IntProgress(value=0, max=40), HTML(value='')))"
      ]
     },
     "metadata": {},
     "output_type": "display_data"
    },
    {
     "name": "stdout",
     "output_type": "stream",
     "text": [
      "starting run  0\n"
     ]
    },
    {
     "data": {
      "application/vnd.jupyter.widget-view+json": {
       "model_id": "b489bdb173104fe4b8b207885e06a16d",
       "version_major": 2,
       "version_minor": 0
      },
      "text/plain": [
       "HBox(children=(IntProgress(value=0, max=800), HTML(value='')))"
      ]
     },
     "metadata": {},
     "output_type": "display_data"
    },
    {
     "name": "stdout",
     "output_type": "stream",
     "text": [
      "starting run  1\n"
     ]
    },
    {
     "data": {
      "application/vnd.jupyter.widget-view+json": {
       "model_id": "1ee37a18c4154f77be478838f6a6eeb3",
       "version_major": 2,
       "version_minor": 0
      },
      "text/plain": [
       "HBox(children=(IntProgress(value=0, max=800), HTML(value='')))"
      ]
     },
     "metadata": {},
     "output_type": "display_data"
    },
    {
     "name": "stdout",
     "output_type": "stream",
     "text": [
      "starting run  2\n"
     ]
    },
    {
     "data": {
      "application/vnd.jupyter.widget-view+json": {
       "model_id": "dd74b5ae36a749c4a3ce928d98d7cf89",
       "version_major": 2,
       "version_minor": 0
      },
      "text/plain": [
       "HBox(children=(IntProgress(value=0, max=800), HTML(value='')))"
      ]
     },
     "metadata": {},
     "output_type": "display_data"
    },
    {
     "name": "stdout",
     "output_type": "stream",
     "text": [
      "starting run  3\n"
     ]
    },
    {
     "data": {
      "application/vnd.jupyter.widget-view+json": {
       "model_id": "6d7b06e558d5429e8f13db6de0517f47",
       "version_major": 2,
       "version_minor": 0
      },
      "text/plain": [
       "HBox(children=(IntProgress(value=0, max=800), HTML(value='')))"
      ]
     },
     "metadata": {},
     "output_type": "display_data"
    },
    {
     "name": "stdout",
     "output_type": "stream",
     "text": [
      "starting run  4\n"
     ]
    },
    {
     "data": {
      "application/vnd.jupyter.widget-view+json": {
       "model_id": "81446004d4694355b4acdab47de9a374",
       "version_major": 2,
       "version_minor": 0
      },
      "text/plain": [
       "HBox(children=(IntProgress(value=0, max=800), HTML(value='')))"
      ]
     },
     "metadata": {},
     "output_type": "display_data"
    },
    {
     "name": "stdout",
     "output_type": "stream",
     "text": [
      "starting run  5\n"
     ]
    },
    {
     "data": {
      "application/vnd.jupyter.widget-view+json": {
       "model_id": "e6b12ccab8c74e3b93abbe55bcc4a4b7",
       "version_major": 2,
       "version_minor": 0
      },
      "text/plain": [
       "HBox(children=(IntProgress(value=0, max=800), HTML(value='')))"
      ]
     },
     "metadata": {},
     "output_type": "display_data"
    },
    {
     "name": "stdout",
     "output_type": "stream",
     "text": [
      "starting run  6\n"
     ]
    },
    {
     "data": {
      "application/vnd.jupyter.widget-view+json": {
       "model_id": "f71358111501421ba830a176ef82d34d",
       "version_major": 2,
       "version_minor": 0
      },
      "text/plain": [
       "HBox(children=(IntProgress(value=0, max=800), HTML(value='')))"
      ]
     },
     "metadata": {},
     "output_type": "display_data"
    },
    {
     "name": "stdout",
     "output_type": "stream",
     "text": [
      "starting run  7\n"
     ]
    },
    {
     "data": {
      "application/vnd.jupyter.widget-view+json": {
       "model_id": "163adf55a9e441ee9e832d3b0ada377d",
       "version_major": 2,
       "version_minor": 0
      },
      "text/plain": [
       "HBox(children=(IntProgress(value=0, max=800), HTML(value='')))"
      ]
     },
     "metadata": {},
     "output_type": "display_data"
    },
    {
     "name": "stdout",
     "output_type": "stream",
     "text": [
      "starting run  8\n"
     ]
    },
    {
     "data": {
      "application/vnd.jupyter.widget-view+json": {
       "model_id": "0caa78ffc16a47ef9934b8db8ade0be5",
       "version_major": 2,
       "version_minor": 0
      },
      "text/plain": [
       "HBox(children=(IntProgress(value=0, max=800), HTML(value='')))"
      ]
     },
     "metadata": {},
     "output_type": "display_data"
    },
    {
     "name": "stdout",
     "output_type": "stream",
     "text": [
      "starting run  9\n"
     ]
    },
    {
     "data": {
      "application/vnd.jupyter.widget-view+json": {
       "model_id": "814e36d4e5f541c59f43d17260945427",
       "version_major": 2,
       "version_minor": 0
      },
      "text/plain": [
       "HBox(children=(IntProgress(value=0, max=800), HTML(value='')))"
      ]
     },
     "metadata": {},
     "output_type": "display_data"
    },
    {
     "name": "stdout",
     "output_type": "stream",
     "text": [
      "starting run  10\n"
     ]
    },
    {
     "data": {
      "application/vnd.jupyter.widget-view+json": {
       "model_id": "41d78e6db98b4001b69065d432c2d4d7",
       "version_major": 2,
       "version_minor": 0
      },
      "text/plain": [
       "HBox(children=(IntProgress(value=0, max=800), HTML(value='')))"
      ]
     },
     "metadata": {},
     "output_type": "display_data"
    },
    {
     "name": "stderr",
     "output_type": "stream",
     "text": [
      "/Users/gridgway/anaconda3/lib/python3.6/site-packages/scipy/integrate/odepack.py:247: ODEintWarning: Excess work done on this call (perhaps wrong Dfun type). Run with full_output = 1 to get quantitative information.\n",
      "  warnings.warn(warning_msg, ODEintWarning)\n"
     ]
    },
    {
     "name": "stdout",
     "output_type": "stream",
     "text": [
      "starting run  11\n"
     ]
    },
    {
     "data": {
      "application/vnd.jupyter.widget-view+json": {
       "model_id": "5d1fdbdb53fc4f919bed800ec17100ed",
       "version_major": 2,
       "version_minor": 0
      },
      "text/plain": [
       "HBox(children=(IntProgress(value=0, max=800), HTML(value='')))"
      ]
     },
     "metadata": {},
     "output_type": "display_data"
    },
    {
     "name": "stdout",
     "output_type": "stream",
     "text": [
      "starting run  12\n"
     ]
    },
    {
     "data": {
      "application/vnd.jupyter.widget-view+json": {
       "model_id": "b343557c69fd4bce82eb4ea1de735b7a",
       "version_major": 2,
       "version_minor": 0
      },
      "text/plain": [
       "HBox(children=(IntProgress(value=0, max=800), HTML(value='')))"
      ]
     },
     "metadata": {},
     "output_type": "display_data"
    },
    {
     "name": "stdout",
     "output_type": "stream",
     "text": [
      "starting run  13\n"
     ]
    },
    {
     "data": {
      "application/vnd.jupyter.widget-view+json": {
       "model_id": "a94f5f7372e546379f0664e9ca578090",
       "version_major": 2,
       "version_minor": 0
      },
      "text/plain": [
       "HBox(children=(IntProgress(value=0, max=800), HTML(value='')))"
      ]
     },
     "metadata": {},
     "output_type": "display_data"
    },
    {
     "name": "stdout",
     "output_type": "stream",
     "text": [
      "starting run  14\n"
     ]
    },
    {
     "data": {
      "application/vnd.jupyter.widget-view+json": {
       "model_id": "615a63e3e7fe4fdfb203385aba849062",
       "version_major": 2,
       "version_minor": 0
      },
      "text/plain": [
       "HBox(children=(IntProgress(value=0, max=800), HTML(value='')))"
      ]
     },
     "metadata": {},
     "output_type": "display_data"
    },
    {
     "name": "stdout",
     "output_type": "stream",
     "text": [
      "starting run  15\n"
     ]
    },
    {
     "data": {
      "application/vnd.jupyter.widget-view+json": {
       "model_id": "39bd764d48fe4aa689ede90368dd9854",
       "version_major": 2,
       "version_minor": 0
      },
      "text/plain": [
       "HBox(children=(IntProgress(value=0, max=800), HTML(value='')))"
      ]
     },
     "metadata": {},
     "output_type": "display_data"
    },
    {
     "name": "stdout",
     "output_type": "stream",
     "text": [
      "starting run  16\n"
     ]
    },
    {
     "data": {
      "application/vnd.jupyter.widget-view+json": {
       "model_id": "7f53b2e59a1141499fbde83865eaa674",
       "version_major": 2,
       "version_minor": 0
      },
      "text/plain": [
       "HBox(children=(IntProgress(value=0, max=800), HTML(value='')))"
      ]
     },
     "metadata": {},
     "output_type": "display_data"
    },
    {
     "name": "stdout",
     "output_type": "stream",
     "text": [
      "starting run  17\n"
     ]
    },
    {
     "data": {
      "application/vnd.jupyter.widget-view+json": {
       "model_id": "52df586b09894ca893ef947110ebe30a",
       "version_major": 2,
       "version_minor": 0
      },
      "text/plain": [
       "HBox(children=(IntProgress(value=0, max=800), HTML(value='')))"
      ]
     },
     "metadata": {},
     "output_type": "display_data"
    },
    {
     "name": "stdout",
     "output_type": "stream",
     "text": [
      "starting run  18\n"
     ]
    },
    {
     "data": {
      "application/vnd.jupyter.widget-view+json": {
       "model_id": "d8ddb846f52244caa43d180c4b0e6890",
       "version_major": 2,
       "version_minor": 0
      },
      "text/plain": [
       "HBox(children=(IntProgress(value=0, max=800), HTML(value='')))"
      ]
     },
     "metadata": {},
     "output_type": "display_data"
    },
    {
     "name": "stdout",
     "output_type": "stream",
     "text": [
      "starting run  19\n"
     ]
    },
    {
     "data": {
      "application/vnd.jupyter.widget-view+json": {
       "model_id": "7c5fc8d0d3d847169e343f2f0f8de106",
       "version_major": 2,
       "version_minor": 0
      },
      "text/plain": [
       "HBox(children=(IntProgress(value=0, max=800), HTML(value='')))"
      ]
     },
     "metadata": {},
     "output_type": "display_data"
    },
    {
     "name": "stdout",
     "output_type": "stream",
     "text": [
      "starting run  20\n"
     ]
    },
    {
     "data": {
      "application/vnd.jupyter.widget-view+json": {
       "model_id": "eda296628dd747d282277f37ac4b76b2",
       "version_major": 2,
       "version_minor": 0
      },
      "text/plain": [
       "HBox(children=(IntProgress(value=0, max=800), HTML(value='')))"
      ]
     },
     "metadata": {},
     "output_type": "display_data"
    },
    {
     "name": "stdout",
     "output_type": "stream",
     "text": [
      "starting run  21\n"
     ]
    },
    {
     "data": {
      "application/vnd.jupyter.widget-view+json": {
       "model_id": "b5c1f8bc3a62438a9406225c0631889d",
       "version_major": 2,
       "version_minor": 0
      },
      "text/plain": [
       "HBox(children=(IntProgress(value=0, max=800), HTML(value='')))"
      ]
     },
     "metadata": {},
     "output_type": "display_data"
    },
    {
     "name": "stdout",
     "output_type": "stream",
     "text": [
      "starting run  22\n"
     ]
    },
    {
     "data": {
      "application/vnd.jupyter.widget-view+json": {
       "model_id": "b9f99cd513f343fb8906bec7bf78c208",
       "version_major": 2,
       "version_minor": 0
      },
      "text/plain": [
       "HBox(children=(IntProgress(value=0, max=800), HTML(value='')))"
      ]
     },
     "metadata": {},
     "output_type": "display_data"
    },
    {
     "name": "stdout",
     "output_type": "stream",
     "text": [
      "starting run  23\n"
     ]
    },
    {
     "data": {
      "application/vnd.jupyter.widget-view+json": {
       "model_id": "e976417468ce430bb6161349a6a4f96a",
       "version_major": 2,
       "version_minor": 0
      },
      "text/plain": [
       "HBox(children=(IntProgress(value=0, max=800), HTML(value='')))"
      ]
     },
     "metadata": {},
     "output_type": "display_data"
    },
    {
     "name": "stdout",
     "output_type": "stream",
     "text": [
      "starting run  24\n"
     ]
    },
    {
     "data": {
      "application/vnd.jupyter.widget-view+json": {
       "model_id": "3e8e6b47690040ea952bec4242b80669",
       "version_major": 2,
       "version_minor": 0
      },
      "text/plain": [
       "HBox(children=(IntProgress(value=0, max=800), HTML(value='')))"
      ]
     },
     "metadata": {},
     "output_type": "display_data"
    },
    {
     "name": "stdout",
     "output_type": "stream",
     "text": [
      "starting run  25\n"
     ]
    },
    {
     "data": {
      "application/vnd.jupyter.widget-view+json": {
       "model_id": "c615540519134675924c63ae00ed1bc2",
       "version_major": 2,
       "version_minor": 0
      },
      "text/plain": [
       "HBox(children=(IntProgress(value=0, max=800), HTML(value='')))"
      ]
     },
     "metadata": {},
     "output_type": "display_data"
    },
    {
     "name": "stdout",
     "output_type": "stream",
     "text": [
      "starting run  26\n"
     ]
    },
    {
     "data": {
      "application/vnd.jupyter.widget-view+json": {
       "model_id": "6c9fed2b123149c3a5d32ca7c8425fc1",
       "version_major": 2,
       "version_minor": 0
      },
      "text/plain": [
       "HBox(children=(IntProgress(value=0, max=800), HTML(value='')))"
      ]
     },
     "metadata": {},
     "output_type": "display_data"
    },
    {
     "name": "stdout",
     "output_type": "stream",
     "text": [
      "starting run  27\n"
     ]
    },
    {
     "data": {
      "application/vnd.jupyter.widget-view+json": {
       "model_id": "da482e57575e42df8bc3b4938af97db9",
       "version_major": 2,
       "version_minor": 0
      },
      "text/plain": [
       "HBox(children=(IntProgress(value=0, max=800), HTML(value='')))"
      ]
     },
     "metadata": {},
     "output_type": "display_data"
    },
    {
     "name": "stdout",
     "output_type": "stream",
     "text": [
      "starting run  28\n"
     ]
    },
    {
     "data": {
      "application/vnd.jupyter.widget-view+json": {
       "model_id": "36631ef74d84410a9b3a9cdf5c6a7d7d",
       "version_major": 2,
       "version_minor": 0
      },
      "text/plain": [
       "HBox(children=(IntProgress(value=0, max=800), HTML(value='')))"
      ]
     },
     "metadata": {},
     "output_type": "display_data"
    },
    {
     "name": "stdout",
     "output_type": "stream",
     "text": [
      "starting run  29\n"
     ]
    },
    {
     "data": {
      "application/vnd.jupyter.widget-view+json": {
       "model_id": "d6e4e2280e4342158f26418a5571425f",
       "version_major": 2,
       "version_minor": 0
      },
      "text/plain": [
       "HBox(children=(IntProgress(value=0, max=800), HTML(value='')))"
      ]
     },
     "metadata": {},
     "output_type": "display_data"
    },
    {
     "name": "stdout",
     "output_type": "stream",
     "text": [
      "starting run  30\n"
     ]
    },
    {
     "data": {
      "application/vnd.jupyter.widget-view+json": {
       "model_id": "79b07283b7284c28b2a15c6204b4c6dd",
       "version_major": 2,
       "version_minor": 0
      },
      "text/plain": [
       "HBox(children=(IntProgress(value=0, max=800), HTML(value='')))"
      ]
     },
     "metadata": {},
     "output_type": "display_data"
    },
    {
     "name": "stdout",
     "output_type": "stream",
     "text": [
      "starting run  31\n"
     ]
    },
    {
     "data": {
      "application/vnd.jupyter.widget-view+json": {
       "model_id": "f4522f2bc14f47f89afda92ef8cba52b",
       "version_major": 2,
       "version_minor": 0
      },
      "text/plain": [
       "HBox(children=(IntProgress(value=0, max=800), HTML(value='')))"
      ]
     },
     "metadata": {},
     "output_type": "display_data"
    },
    {
     "name": "stdout",
     "output_type": "stream",
     "text": [
      "starting run  32\n"
     ]
    },
    {
     "data": {
      "application/vnd.jupyter.widget-view+json": {
       "model_id": "239f45f0ea05473c91645736cb81b7ba",
       "version_major": 2,
       "version_minor": 0
      },
      "text/plain": [
       "HBox(children=(IntProgress(value=0, max=800), HTML(value='')))"
      ]
     },
     "metadata": {},
     "output_type": "display_data"
    },
    {
     "name": "stdout",
     "output_type": "stream",
     "text": [
      "starting run  33\n"
     ]
    },
    {
     "data": {
      "application/vnd.jupyter.widget-view+json": {
       "model_id": "8c0109e023db4f1cb9b7e45925cf66df",
       "version_major": 2,
       "version_minor": 0
      },
      "text/plain": [
       "HBox(children=(IntProgress(value=0, max=800), HTML(value='')))"
      ]
     },
     "metadata": {},
     "output_type": "display_data"
    },
    {
     "name": "stdout",
     "output_type": "stream",
     "text": [
      "starting run  34\n"
     ]
    },
    {
     "data": {
      "application/vnd.jupyter.widget-view+json": {
       "model_id": "7ed07d656c444c299ed6f1b57c34ea06",
       "version_major": 2,
       "version_minor": 0
      },
      "text/plain": [
       "HBox(children=(IntProgress(value=0, max=800), HTML(value='')))"
      ]
     },
     "metadata": {},
     "output_type": "display_data"
    },
    {
     "name": "stdout",
     "output_type": "stream",
     "text": [
      "starting run  35\n"
     ]
    },
    {
     "data": {
      "application/vnd.jupyter.widget-view+json": {
       "model_id": "66522ff24ccc4b74b4c4b44068cd8e9b",
       "version_major": 2,
       "version_minor": 0
      },
      "text/plain": [
       "HBox(children=(IntProgress(value=0, max=800), HTML(value='')))"
      ]
     },
     "metadata": {},
     "output_type": "display_data"
    },
    {
     "name": "stdout",
     "output_type": "stream",
     "text": [
      "starting run  36\n"
     ]
    },
    {
     "data": {
      "application/vnd.jupyter.widget-view+json": {
       "model_id": "7768b8b50f8a47d994b248f8f12281c7",
       "version_major": 2,
       "version_minor": 0
      },
      "text/plain": [
       "HBox(children=(IntProgress(value=0, max=800), HTML(value='')))"
      ]
     },
     "metadata": {},
     "output_type": "display_data"
    },
    {
     "name": "stdout",
     "output_type": "stream",
     "text": [
      "starting run  37\n"
     ]
    },
    {
     "data": {
      "application/vnd.jupyter.widget-view+json": {
       "model_id": "8099d153edd1498a946e7e5f589544b4",
       "version_major": 2,
       "version_minor": 0
      },
      "text/plain": [
       "HBox(children=(IntProgress(value=0, max=800), HTML(value='')))"
      ]
     },
     "metadata": {},
     "output_type": "display_data"
    },
    {
     "name": "stdout",
     "output_type": "stream",
     "text": [
      "starting run  38\n"
     ]
    },
    {
     "data": {
      "application/vnd.jupyter.widget-view+json": {
       "model_id": "f1dcee6bbc554751968e2e445d028d93",
       "version_major": 2,
       "version_minor": 0
      },
      "text/plain": [
       "HBox(children=(IntProgress(value=0, max=800), HTML(value='')))"
      ]
     },
     "metadata": {},
     "output_type": "display_data"
    },
    {
     "name": "stdout",
     "output_type": "stream",
     "text": [
      "starting run  39\n"
     ]
    },
    {
     "data": {
      "application/vnd.jupyter.widget-view+json": {
       "model_id": "76ea624074d14ab481dd9babf1cba7c2",
       "version_major": 2,
       "version_minor": 0
      },
      "text/plain": [
       "HBox(children=(IntProgress(value=0, max=800), HTML(value='')))"
      ]
     },
     "metadata": {},
     "output_type": "display_data"
    }
   ],
   "source": [
    "%autoreload\n",
    "inj_type='swave'\n",
    "inj_particle='electron'\n",
    "inj_str=inj_particle[:4]\n",
    "\n",
    "if inj_particle == 'electron':\n",
    "    mass = phys.me\n",
    "else:\n",
    "    mass = 0\n",
    "\n",
    "f_DH_data = [None for i in np.arange(40)]\n",
    "\n",
    "for k in tqdm(np.arange(40)):\n",
    "    print('starting run ', k)\n",
    "    get_column(k, f_DH_data, inj_particle=inj_particle, inj_type=inj_type, end_rs=4.996)\n",
    "\n",
    "save_as_pickled_object(f_DH_data, \n",
    "            '/Users/gridgway/Dropbox (MIT)/Photon Deposition/idl_comparison/GR_Checks/ih_continuous_'\n",
    "                       +inj_str+'/f_'+inj_str+'_'+inj_type+'_notCrossCheck.p'\n",
    "                      )"
   ]
  },
  {
   "cell_type": "code",
   "execution_count": 64,
   "metadata": {
    "collapsed": true
   },
   "outputs": [
    {
     "data": {
      "text/plain": [
       "array([7.68252097e-14, 1.06260070e-03, 3.04228164e-03, 5.28501531e-03,\n",
       "       7.56624788e-03, 9.76597200e-03, 1.18226605e-02, 1.37066609e-02,\n",
       "       1.54059792e-02, 1.69319346e-02, 1.83290445e-02, 1.95784639e-02,\n",
       "       2.06830251e-02, 2.16513629e-02, 2.24931337e-02, 2.32175910e-02,\n",
       "       2.38333948e-02, 2.43491071e-02, 2.48364308e-02, 2.52622291e-02,\n",
       "       2.56210298e-02, 2.59171599e-02, 2.61555253e-02, 2.63402900e-02,\n",
       "       2.64751241e-02, 2.65634174e-02, 2.66494603e-02, 2.67269948e-02,\n",
       "       2.67783299e-02, 2.68023785e-02, 2.68009092e-02, 2.67752029e-02,\n",
       "       2.67263909e-02, 2.66554430e-02, 2.65831312e-02, 2.65265038e-02,\n",
       "       2.64614081e-02, 2.63840821e-02, 2.62949912e-02, 2.61942731e-02,\n",
       "       2.60820742e-02, 2.59584206e-02, 2.58281244e-02, 2.57240636e-02,\n",
       "       2.56191257e-02, 2.55083717e-02, 2.53917982e-02, 2.52691774e-02,\n",
       "       2.51403526e-02, 2.50050734e-02, 2.48628740e-02, 2.47458676e-02,\n",
       "       2.46370417e-02, 2.45272346e-02, 2.44149082e-02, 2.42993585e-02,\n",
       "       2.41801021e-02, 2.40566618e-02, 2.39285008e-02, 2.38109607e-02,\n",
       "       2.37035157e-02, 2.35951130e-02, 2.34841615e-02, 2.33704951e-02,\n",
       "       2.32539551e-02, 2.31342769e-02, 2.30111089e-02, 2.28891839e-02,\n",
       "       2.27757570e-02, 2.26598239e-02, 2.25406931e-02, 2.24189163e-02,\n",
       "       2.22948316e-02, 2.21685563e-02, 2.20400826e-02, 2.19098706e-02,\n",
       "       2.17993328e-02, 2.16917994e-02, 2.15849955e-02, 2.14800965e-02,\n",
       "       2.13740709e-02, 2.12727699e-02, 2.11678613e-02, 2.10670579e-02,\n",
       "       2.09871591e-02, 2.09288930e-02, 2.08986702e-02, 2.09175322e-02,\n",
       "       2.08862219e-02, 2.08826312e-02, 2.09191743e-02, 2.09667179e-02,\n",
       "       2.10031099e-02, 2.10867673e-02, 2.12245104e-02, 2.14307028e-02,\n",
       "       2.16173269e-02, 2.17841928e-02, 2.20043937e-02, 2.22908123e-02,\n",
       "       2.25235195e-02, 2.27249611e-02, 2.29692656e-02, 2.32607096e-02,\n",
       "       2.36067479e-02, 2.40159119e-02, 2.44979464e-02, 2.50465076e-02,\n",
       "       2.54701288e-02, 2.59659840e-02, 2.65319256e-02, 2.71739456e-02,\n",
       "       2.79006861e-02, 2.87227564e-02, 2.96523944e-02, 3.06996477e-02,\n",
       "       3.16693695e-02, 3.25074442e-02, 3.34294246e-02, 3.44374708e-02,\n",
       "       3.55356159e-02, 3.67285557e-02, 3.80994100e-02, 3.96132481e-02,\n",
       "       4.12680232e-02, 4.28859430e-02, 4.40700729e-02, 4.53210924e-02,\n",
       "       4.66376327e-02, 4.80215327e-02, 4.95889869e-02, 5.13258336e-02,\n",
       "       5.31559055e-02, 5.50822432e-02, 5.71186681e-02, 5.92492415e-02,\n",
       "       6.14716081e-02, 6.35904548e-02, 6.53203189e-02, 6.70856862e-02,\n",
       "       6.88815340e-02, 7.07033781e-02, 7.25473450e-02, 7.43763388e-02,\n",
       "       7.62299040e-02, 7.80991878e-02, 8.00033955e-02, 8.19740475e-02,\n",
       "       8.39562959e-02, 8.53783825e-02, 8.63287421e-02, 8.72773266e-02,\n",
       "       8.82029742e-02, 8.92164465e-02, 9.03155346e-02, 9.13845818e-02,\n",
       "       9.24192757e-02, 9.34158487e-02, 9.43715588e-02, 9.52908272e-02,\n",
       "       9.61655974e-02, 9.68311717e-02, 9.74238784e-02, 9.79710822e-02,\n",
       "       9.84711735e-02, 9.89212795e-02, 9.93222504e-02, 9.97340537e-02,\n",
       "       1.00246539e-01, 1.00775110e-01, 1.01264235e-01, 1.01714926e-01,\n",
       "       1.02128953e-01, 1.02506858e-01, 1.02850847e-01, 1.03160590e-01,\n",
       "       1.03305869e-01, 1.03414612e-01, 1.03502420e-01, 1.03566897e-01,\n",
       "       1.03606891e-01, 1.03622064e-01, 1.03611716e-01, 1.03575668e-01,\n",
       "       1.03528674e-01, 1.03472741e-01, 1.03404337e-01, 1.03323608e-01,\n",
       "       1.03230390e-01, 1.03124808e-01, 1.02999479e-01, 1.02880435e-01,\n",
       "       1.02749290e-01, 1.02606189e-01, 1.02451235e-01, 1.02284459e-01,\n",
       "       1.02105789e-01, 1.01916512e-01, 1.01715588e-01, 1.01497966e-01,\n",
       "       1.01317691e-01, 1.01141584e-01, 1.00959015e-01, 1.00769401e-01,\n",
       "       1.00572980e-01, 1.00369948e-01, 1.00160426e-01, 9.99446174e-02,\n",
       "       9.97226299e-02, 9.94944887e-02, 9.92565104e-02, 9.90110561e-02,\n",
       "       9.87585132e-02, 9.84986174e-02, 9.82309224e-02, 9.79547528e-02,\n",
       "       9.76895141e-02, 9.74561022e-02, 9.72206870e-02, 9.69808944e-02,\n",
       "       9.67367352e-02, 9.64882417e-02, 9.62354420e-02, 9.59783688e-02,\n",
       "       9.57152869e-02, 9.54460776e-02, 9.51719730e-02, 9.48928857e-02,\n",
       "       9.46086750e-02, 9.43191446e-02, 9.40239916e-02, 9.37227478e-02,\n",
       "       9.34146625e-02, 9.31438437e-02, 9.28834263e-02, 9.26204159e-02,\n",
       "       9.23539068e-02, 9.20838530e-02, 9.18102540e-02, 9.15330644e-02,\n",
       "       9.12611382e-02, 9.09734307e-02, 9.06819583e-02, 9.03866500e-02,\n",
       "       9.00874005e-02, 8.97840252e-02, 8.94763328e-02, 8.91640076e-02,\n",
       "       8.88465991e-02, 8.85369049e-02, 8.82637981e-02, 8.79900619e-02,\n",
       "       8.77134126e-02, 8.74337909e-02, 8.71511549e-02, 8.68654669e-02,\n",
       "       8.65766897e-02, 8.62787620e-02, 8.59769890e-02, 8.56718602e-02,\n",
       "       8.53634242e-02, 8.50516438e-02, 8.47363630e-02, 8.44173635e-02,\n",
       "       8.40943321e-02, 8.37667760e-02, 8.34688054e-02, 8.31866086e-02,\n",
       "       8.29037227e-02, 8.26183845e-02, 8.23305554e-02, 8.20401964e-02,\n",
       "       8.17472923e-02, 8.14518118e-02, 8.11537164e-02, 8.08529515e-02,\n",
       "       8.05494655e-02, 8.02431742e-02, 7.99339602e-02, 7.96216805e-02,\n",
       "       7.93060921e-02, 7.89868507e-02, 7.86707252e-02, 7.83940180e-02,\n",
       "       7.81180189e-02, 7.78399784e-02, 7.75598414e-02, 7.72775918e-02,\n",
       "       7.69931927e-02, 7.67066339e-02, 7.64178839e-02, 7.61269091e-02,\n",
       "       7.58336750e-02, 7.55381239e-02, 7.52401853e-02, 7.49397707e-02,\n",
       "       7.46367459e-02, 7.43309007e-02, 7.40219317e-02, 7.37375840e-02,\n",
       "       7.34717213e-02, 7.32053571e-02, 7.29371863e-02, 7.26671926e-02,\n",
       "       7.23953594e-02, 7.21216702e-02, 7.18461092e-02, 7.15686532e-02,\n",
       "       7.12892757e-02, 7.10079422e-02, 7.07246047e-02, 7.04392035e-02,\n",
       "       7.01516533e-02, 6.98619523e-02, 6.95701410e-02, 6.92777468e-02,\n",
       "       6.90258211e-02, 6.87744534e-02, 6.85215347e-02, 6.82670591e-02,\n",
       "       6.80110199e-02, 6.77534086e-02, 6.74942152e-02, 6.72334275e-02,\n",
       "       6.69710286e-02, 6.67069941e-02, 6.64412901e-02, 6.61738697e-02,\n",
       "       6.59046763e-02, 6.56336255e-02, 6.53605916e-02, 6.50853817e-02,\n",
       "       6.48281235e-02, 6.45917356e-02, 6.43560584e-02, 6.41190173e-02,\n",
       "       6.38806094e-02, 6.36408266e-02, 6.33996712e-02, 6.31571298e-02,\n",
       "       6.29131919e-02, 6.26678440e-02, 6.24210563e-02, 6.21728077e-02,\n",
       "       6.19230465e-02, 6.16717226e-02, 6.14187438e-02, 6.11639863e-02,\n",
       "       6.09072382e-02, 6.06871770e-02, 6.04700257e-02, 6.02517975e-02,\n",
       "       6.00323737e-02, 5.98117736e-02, 5.95900026e-02, 5.93670420e-02,\n",
       "       5.91428845e-02, 5.89175382e-02, 5.86909865e-02, 5.84631884e-02,\n",
       "       5.82341309e-02, 5.80038347e-02, 5.77721976e-02, 5.75391264e-02,\n",
       "       5.73045071e-02, 5.70833976e-02, 5.68850242e-02, 5.66868725e-02,\n",
       "       5.64881475e-02, 5.62878720e-02, 5.60865508e-02, 5.58841851e-02,\n",
       "       5.56807718e-02, 5.54763020e-02, 5.52707691e-02, 5.50641591e-02,\n",
       "       5.48543281e-02, 5.46431968e-02, 5.44309590e-02, 5.42175615e-02,\n",
       "       5.40029326e-02, 5.37869610e-02, 5.36003643e-02, 5.34202079e-02,\n",
       "       5.32394552e-02, 5.30577879e-02, 5.28752130e-02, 5.26917346e-02,\n",
       "       5.25073525e-02, 5.23220631e-02, 5.21358616e-02, 5.19487409e-02,\n",
       "       5.17607034e-02, 5.15717247e-02, 5.13817688e-02, 5.11908006e-02,\n",
       "       5.09987668e-02, 5.08055860e-02, 5.06214711e-02, 5.04614061e-02,\n",
       "       5.03015565e-02, 5.01408522e-02, 4.99793066e-02, 4.98169286e-02,\n",
       "       4.96537207e-02, 4.94896827e-02, 4.93248125e-02, 4.91591033e-02,\n",
       "       4.89925524e-02, 4.88251566e-02, 4.86568942e-02, 4.84877317e-02,\n",
       "       4.83176309e-02, 4.81465350e-02, 4.79743510e-02, 4.78252860e-02,\n",
       "       4.76855105e-02, 4.75455582e-02, 4.74047992e-02, 4.72632442e-02,\n",
       "       4.71208967e-02, 4.69777578e-02, 4.68338258e-02, 4.66891012e-02,\n",
       "       4.65435853e-02, 4.63972690e-02, 4.62501268e-02, 4.61021408e-02,\n",
       "       4.59532845e-02, 4.58035226e-02, 4.56528028e-02, 4.55073152e-02,\n",
       "       4.53871215e-02, 4.52671861e-02, 4.51464522e-02, 4.50249384e-02,\n",
       "       4.49026521e-02, 4.47795977e-02, 4.46557769e-02, 4.45311855e-02,\n",
       "       4.44058196e-02, 4.42796719e-02, 4.41527368e-02, 4.40249979e-02,\n",
       "       4.38964353e-02, 4.37670280e-02, 4.36367348e-02, 4.35055005e-02,\n",
       "       4.33931860e-02, 4.32918914e-02, 4.31902711e-02, 4.30878745e-02,\n",
       "       4.29847109e-02, 4.28807875e-02, 4.27761101e-02, 4.26706731e-02,\n",
       "       4.25644755e-02, 4.24575124e-02, 4.23497730e-02, 4.22412526e-02,\n",
       "       4.21319322e-02, 4.20217903e-02, 4.19108030e-02, 4.17989198e-02,\n",
       "       4.16888970e-02, 4.16050694e-02, 4.15215953e-02, 4.14373304e-02,\n",
       "       4.13522871e-02, 4.12664837e-02, 4.11799157e-02, 4.10925889e-02,\n",
       "       4.10044989e-02, 4.09156417e-02, 4.08260122e-02, 4.07355984e-02,\n",
       "       4.06443921e-02, 4.05523718e-02, 4.04595253e-02, 4.03658098e-02,\n",
       "       4.02711949e-02, 4.01914826e-02, 4.01247569e-02, 4.00576300e-02,\n",
       "       3.99897124e-02, 3.99210053e-02, 3.98515268e-02, 3.97812657e-02,\n",
       "       3.97102353e-02, 3.96384174e-02, 3.95658222e-02, 3.94924281e-02,\n",
       "       3.94182374e-02, 3.93432274e-02, 3.92673901e-02, 3.91906964e-02,\n",
       "       3.91131209e-02, 3.90346147e-02, 3.89830238e-02, 3.89321603e-02,\n",
       "       3.88804604e-02, 3.88279619e-02, 3.87747541e-02, 3.87207857e-02,\n",
       "       3.86660417e-02, 3.86105218e-02, 3.85542212e-02, 3.84971254e-02,\n",
       "       3.84394182e-02, 3.83825608e-02, 3.83257468e-02, 3.82689966e-02,\n",
       "       3.82123653e-02, 3.81559084e-02, 3.81122822e-02, 3.80855616e-02,\n",
       "       3.80588857e-02, 3.80319550e-02, 3.80053113e-02, 3.79790791e-02,\n",
       "       3.79533894e-02, 3.79283538e-02, 3.79040836e-02, 3.78807026e-02,\n",
       "       3.78568144e-02, 3.78328708e-02, 3.78091730e-02, 3.77856981e-02,\n",
       "       3.77623662e-02, 3.77389950e-02, 3.77152286e-02, 3.77189900e-02,\n",
       "       3.77276056e-02, 3.77364254e-02, 3.77459669e-02, 3.77563654e-02,\n",
       "       3.77676884e-02, 3.77800022e-02, 3.77933942e-02, 3.78078700e-02,\n",
       "       3.78234732e-02, 3.78420289e-02, 3.78580171e-02, 3.78744789e-02,\n",
       "       3.78912429e-02, 3.79079785e-02, 3.79241946e-02, 3.79511923e-02,\n",
       "       3.80023229e-02, 3.80562538e-02, 3.81119467e-02, 3.81685496e-02,\n",
       "       3.82259625e-02, 3.82848080e-02, 3.83452335e-02, 3.84072038e-02,\n",
       "       3.84708007e-02, 3.85360155e-02, 3.86027745e-02, 3.86710565e-02,\n",
       "       3.87406531e-02, 3.88113640e-02, 3.88806405e-02, 3.89491627e-02,\n",
       "       3.90474665e-02, 3.91572539e-02, 3.92700349e-02, 3.93855992e-02,\n",
       "       3.95039984e-02, 3.96254154e-02, 3.97499510e-02, 3.98776373e-02,\n",
       "       4.00086705e-02, 4.01417408e-02, 4.02761158e-02, 4.04130944e-02,\n",
       "       4.05526122e-02, 4.06947109e-02, 4.08391989e-02, 4.09851312e-02,\n",
       "       4.11402153e-02, 4.13266459e-02, 4.15190868e-02, 4.17160382e-02,\n",
       "       4.19175336e-02, 4.21238329e-02, 4.23350849e-02, 4.25514011e-02,\n",
       "       4.27730135e-02, 4.30000690e-02, 4.32314172e-02, 4.34655059e-02,\n",
       "       4.37043972e-02, 4.39483589e-02, 4.41975774e-02, 4.44521054e-02,\n",
       "       4.47120395e-02, 4.50017346e-02, 4.53095838e-02, 4.56250293e-02,\n",
       "       4.59479235e-02, 4.62760833e-02, 4.66091925e-02, 4.69492424e-02,\n",
       "       4.72966456e-02, 4.76516243e-02, 4.80144030e-02, 4.83853058e-02,\n",
       "       4.87644904e-02, 4.91522221e-02, 4.95488381e-02, 4.99544673e-02,\n",
       "       5.03652708e-02, 5.07885899e-02, 5.12509964e-02, 5.17232014e-02,\n",
       "       5.22050589e-02, 5.26969624e-02, 5.31992746e-02, 5.37122336e-02,\n",
       "       5.42362802e-02, 5.47716314e-02, 5.53166626e-02, 5.58678194e-02,\n",
       "       5.64293982e-02, 5.70019784e-02, 5.75858821e-02, 5.81814192e-02,\n",
       "       5.87890421e-02, 5.94088705e-02, 6.00644679e-02, 6.07495719e-02,\n",
       "       6.14481846e-02, 6.21543431e-02, 6.28721635e-02, 6.36030918e-02,\n",
       "       6.43477999e-02, 6.51064826e-02, 6.58795799e-02, 6.66675526e-02,\n",
       "       6.74706273e-02, 6.82894035e-02, 6.91239604e-02, 6.99712308e-02,\n",
       "       7.08317696e-02, 7.17078380e-02, 7.26020270e-02, 7.35573676e-02,\n",
       "       7.45294872e-02, 7.55194464e-02, 7.65275988e-02, 7.75545719e-02,\n",
       "       7.86010770e-02, 7.96633530e-02, 8.07398244e-02, 8.18350956e-02,\n",
       "       8.29497500e-02, 8.40846358e-02, 8.52398426e-02, 8.64159620e-02,\n",
       "       8.76136396e-02, 8.88330015e-02, 9.00749026e-02, 9.13624324e-02,\n",
       "       9.26958498e-02, 9.40523042e-02, 9.54316378e-02, 9.68349613e-02,\n",
       "       9.82630614e-02, 9.97162913e-02, 1.01195764e-01, 1.02701505e-01,\n",
       "       1.04234366e-01, 1.05790096e-01, 1.07368501e-01, 1.08973977e-01,\n",
       "       1.10607111e-01, 1.12268390e-01, 1.13959011e-01, 1.15678847e-01,\n",
       "       1.17494650e-01, 1.19345195e-01, 1.21232064e-01, 1.23146329e-01,\n",
       "       1.25091810e-01, 1.27070642e-01, 1.29084373e-01, 1.31132989e-01,\n",
       "       1.33217649e-01, 1.35339312e-01, 1.37498176e-01, 1.39696160e-01,\n",
       "       1.41930849e-01, 1.44197907e-01, 1.46504222e-01, 1.48849864e-01,\n",
       "       1.51270213e-01, 1.53785390e-01, 1.56341866e-01, 1.58942734e-01,\n",
       "       1.61588375e-01, 1.64280514e-01, 1.67017028e-01, 1.69799551e-01,\n",
       "       1.72631284e-01, 1.75512685e-01, 1.78444755e-01, 1.81429632e-01,\n",
       "       1.84466920e-01, 1.87558315e-01, 1.90705228e-01, 1.93907330e-01,\n",
       "       1.97166845e-01, 2.00577434e-01, 2.04064396e-01, 2.07612363e-01,\n",
       "       2.11222271e-01, 2.14897054e-01, 2.18638364e-01, 2.22446953e-01,\n",
       "       2.26322826e-01, 2.30259385e-01, 2.34265838e-01, 2.38344959e-01,\n",
       "       2.42496589e-01, 2.46723708e-01, 2.51027063e-01, 2.55408784e-01,\n",
       "       2.59871434e-01, 2.64460824e-01, 2.69255247e-01, 2.74137318e-01,\n",
       "       2.79108506e-01, 2.84173883e-01, 2.89334092e-01, 2.94591704e-01,\n",
       "       2.99950755e-01, 3.05410680e-01, 3.10973556e-01, 3.16639270e-01,\n",
       "       3.22411539e-01, 3.28295507e-01, 3.34291633e-01, 3.40402052e-01,\n",
       "       3.46630786e-01, 3.52977158e-01, 3.59584847e-01, 3.66373157e-01,\n",
       "       3.73296168e-01, 3.80354796e-01, 3.87549107e-01, 3.94884356e-01,\n",
       "       4.02365086e-01, 4.09991573e-01, 4.17770232e-01, 4.25701931e-01,\n",
       "       4.33818340e-01, 4.42106264e-01, 4.50562251e-01, 4.59192039e-01,\n",
       "       4.67997997e-01, 4.76980856e-01, 4.86195992e-01, 4.95799582e-01,\n",
       "       5.05596148e-01, 5.15609949e-01, 5.25827458e-01, 5.36257286e-01,\n",
       "       5.46903403e-01, 5.57769045e-01, 5.68864144e-01, 5.80187967e-01,\n",
       "       5.91751601e-01, 6.03625045e-01, 6.15756431e-01, 6.28153537e-01,\n",
       "       6.40817520e-01, 6.53753821e-01, 6.66975918e-01, 6.80693651e-01,\n",
       "       6.94821377e-01, 7.09285153e-01, 7.24066862e-01, 7.39174811e-01,\n",
       "       7.54610785e-01, 7.70384234e-01, 7.86508555e-01, 8.02983537e-01,\n",
       "       8.19823040e-01, 8.37112631e-01, 8.54822816e-01, 8.72944908e-01,\n",
       "       8.91476281e-01, 9.10428565e-01, 9.29814784e-01, 9.49678171e-01,\n",
       "       9.70430507e-01, 9.91735890e-01, 1.01356052e+00, 1.03590185e+00])"
      ]
     },
     "execution_count": 64,
     "metadata": {},
     "output_type": "execute_result"
    }
   ],
   "source": [
    "f_DH_data[-1]['f']['low']['exc']"
   ]
  },
  {
   "cell_type": "code",
   "execution_count": 54,
   "metadata": {
    "collapsed": true
   },
   "outputs": [
    {
     "data": {
      "text/plain": [
       "array([1.03635215, 0.89409144, 0.94948558, 0.94934697, 0.94923808,\n",
       "       0.94915603, 0.94912011, 0.94908454, 0.94908537, 0.94909828,\n",
       "       0.94910756, 0.94914483, 0.94921307, 0.94929051, 0.94939499,\n",
       "       0.94949845, 0.94960286, 0.94972139, 0.94981312, 0.94991124,\n",
       "       0.95003172, 0.95014026, 0.95026606, 0.95038587, 0.9504946 ,\n",
       "       0.95061353, 0.95067866, 0.95074233, 0.95081665, 0.95088475,\n",
       "       0.95094682, 0.95101455, 0.95105132, 0.95108775, 0.95109283,\n",
       "       0.95106565, 0.95104754, 0.9510226 , 0.95098341, 0.95095243,\n",
       "       0.95088772, 0.95081189, 0.95071887, 0.95058076, 0.95043983,\n",
       "       0.9502979 , 0.95013789, 0.94997671, 0.94979822, 0.94959585,\n",
       "       0.9493887 , 0.94912212, 0.94884314, 0.94857171, 0.94827798,\n",
       "       0.9479786 , 0.94767092, 0.94732647, 0.94698118, 0.94658798,\n",
       "       0.94616509, 0.94574253, 0.94531037, 0.94485918, 0.94440589,\n",
       "       0.94391752, 0.94341509, 0.9428835 , 0.94231107, 0.94253875,\n",
       "       0.94297759, 0.94339661, 0.94382154, 0.9442235 , 0.94460916,\n",
       "       0.94498863, 0.94531676, 0.94564102, 0.94597835, 0.94629174,\n",
       "       0.94660382, 0.94691167, 0.94718997, 0.94747319, 0.9477054 ,\n",
       "       0.94791985, 0.94814099, 0.94835525, 0.94855623, 0.94876263,\n",
       "       0.94893254, 0.94910413, 0.94923977, 0.94933995, 0.9494439 ,\n",
       "       0.94954697, 0.94963549, 0.94972659, 0.94978568, 0.94983114,\n",
       "       0.94986527, 0.94985095, 0.94982929, 0.9498153 , 0.94977498,\n",
       "       0.94973662, 0.94968194, 0.94960231, 0.94952518, 0.94937778,\n",
       "       0.94922521, 0.94907801, 0.94891095, 0.94873311, 0.94855357,\n",
       "       0.94834015, 0.94811963, 0.947855  , 0.94755853, 0.94726506,\n",
       "       0.94696376, 0.94664204, 0.94632731, 0.94596303, 0.94559421,\n",
       "       0.94519678, 0.94475513, 0.94430704, 0.94385225, 0.94337744,\n",
       "       0.94289993, 0.94239549, 0.94186392, 0.94132416, 0.94071944,\n",
       "       0.94073873, 0.9411878 , 0.94161872, 0.9420497 , 0.94247305,\n",
       "       0.94286808, 0.94326764, 0.94361226, 0.94393757, 0.94427785,\n",
       "       0.94460396, 0.94492543, 0.94524343, 0.94553133, 0.94581359,\n",
       "       0.94606876, 0.946289  , 0.9465076 , 0.94672796, 0.94693287,\n",
       "       0.9471415 , 0.94732126, 0.94748898, 0.94764294, 0.94774583,\n",
       "       0.94784374, 0.94795164, 0.94803462, 0.94811699, 0.94818637,\n",
       "       0.94822863, 0.94827232, 0.94825633, 0.94822306, 0.94820125,\n",
       "       0.9481619 , 0.94811164, 0.94805969, 0.9479687 , 0.94787968,\n",
       "       0.94774792, 0.94757781, 0.94741205, 0.94724033, 0.94705011,\n",
       "       0.94686493, 0.94663481, 0.94639564])"
      ]
     },
     "execution_count": 54,
     "metadata": {},
     "output_type": "execute_result"
    }
   ],
   "source": [
    "f_DH_data[0]['f']['low']['H ion']/f_idl_list[0][0][:183]"
   ]
  },
  {
   "cell_type": "code",
   "execution_count": 67,
   "metadata": {},
   "outputs": [
    {
     "name": "stderr",
     "output_type": "stream",
     "text": [
      "/Users/gridgway/anaconda3/lib/python3.6/site-packages/matplotlib/font_manager.py:1328: UserWarning: findfont: Font family ['serif'] not found. Falling back to DejaVu Sans\n",
      "  (prop.get_family(), self.defaultFamily[fontext]))\n"
     ]
    },
    {
     "data": {
      "image/png": "[encoded data removed]",
      "text/plain": [
       "<Figure size 620x620 with 1 Axes>"
      ]
     },
     "metadata": {},
     "output_type": "display_data"
    },
    {
     "data": {
      "image/png": "[encoded data removed]",
      "text/plain": [
       "<Figure size 620x620 with 1 Axes>"
      ]
     },
     "metadata": {},
     "output_type": "display_data"
    },
    {
     "name": "stderr",
     "output_type": "stream",
     "text": [
      "/Users/gridgway/anaconda3/lib/python3.6/site-packages/matplotlib/font_manager.py:1328: UserWarning: findfont: Font family ['serif'] not found. Falling back to DejaVu Sans\n",
      "  (prop.get_family(), self.defaultFamily[fontext]))\n",
      "/Users/gridgway/anaconda3/lib/python3.6/site-packages/matplotlib/font_manager.py:1328: UserWarning: findfont: Font family ['serif'] not found. Falling back to DejaVu Sans\n",
      "  (prop.get_family(), self.defaultFamily[fontext]))\n",
      "/Users/gridgway/anaconda3/lib/python3.6/site-packages/matplotlib/font_manager.py:1328: UserWarning: findfont: Font family ['serif'] not found. Falling back to DejaVu Sans\n",
      "  (prop.get_family(), self.defaultFamily[fontext]))\n"
     ]
    },
    {
     "data": {
      "image/png": "[encoded data removed]",
      "text/plain": [
       "<Figure size 620x620 with 1 Axes>"
      ]
     },
     "metadata": {},
     "output_type": "display_data"
    }
   ],
   "source": [
    "ind=6\n",
    "\n",
    "plt.figure()\n",
    "ax = plt.gca()\n",
    "plt.plot(idl_redshift[::8], f_DH_data[ind]['f']['low']['cont']/f_idl_list[ind][4][::8]-1)\n",
    "plt.show()"
   ]
  },
  {
   "cell_type": "code",
   "execution_count": 1,
   "metadata": {},
   "outputs": [
    {
     "name": "stderr",
     "output_type": "stream",
     "text": [
      "UsageError: Line magic function `%autoreload` not found.\n"
     ]
    }
   ],
   "source": [
    "%autoreload\n",
    "inj_type='decay'\n",
    "inj_particle='electron'\n",
    "inj_str=inj_particle[:4]\n",
    "\n",
    "if inj_particle == 'electron':\n",
    "    mass = phys.me\n",
    "else:\n",
    "    mass = 0\n",
    "\n",
    "# f_DH_data = [None for i in np.arange(40)]\n",
    "\n",
    "for k in tqdm(np.arange(40)):\n",
    "    print('starting run ', k)\n",
    "    get_column(k, f_DH_data, inj_particle=inj_particle, inj_type=inj_type, end_rs=4.995)\n",
    "\n",
    "\n",
    "f_DH_list = np.ones((40,5,6398))*1e-6\n",
    "for k in np.arange(40):\n",
    "    f_DH_list[k] = np.array(\n",
    "    [f_DH_data[k]['f']['low']['H ion'],\n",
    "     f_DH_data[k]['f']['low']['He ion'],\n",
    "     f_DH_data[k]['f']['low']['exc'],\n",
    "     f_DH_data[k]['f']['low']['heat'],\n",
    "     f_DH_data[k]['f']['low']['cont']]\n",
    ")\n",
    "get_fcontour(f_DH_list, inj_type, inj_particle, 'cont')\n",
    "\n",
    "# save_as_pickled_object(f_DH_data, \n",
    "#             '/Users/gridgway/Dropbox (MIT)/Photon Deposition/idl_comparison/GR_Checks/ih_continuous_'\n",
    "#                        +inj_str+'/f_'+inj_str+'_'+inj_type+'_correted.p'\n",
    "#                       )"
   ]
  },
  {
   "cell_type": "code",
   "execution_count": null,
   "metadata": {},
   "outputs": [],
   "source": [
    "%autoreload\n",
    "inj_type='swave'\n",
    "inj_particle='photon'\n",
    "inj_str=inj_particle[:4]\n",
    "\n",
    "if inj_particle == 'electron':\n",
    "    mass = phys.me\n",
    "else:\n",
    "    mass = 0\n",
    "\n",
    "f_DH_data = [None for i in np.arange(40)]\n",
    "\n",
    "for k in tqdm(np.arange(40)):\n",
    "    get_column(k, f_DH_data, inj_particle=inj_particle, inj_type=inj_type, end_rs=4.995)\n",
    "\n",
    "pickle.dump(f_DH_data, open('/Users/gridgway/Dropbox (MIT)/Photon Deposition/idl_comparison/GR_Checks/ih_continuous_'+inj_str+'/f_decay_'+inj_str+'_'+inj_type+'.p', 'wb'))"
   ]
  },
  {
   "cell_type": "code",
   "execution_count": 82,
   "metadata": {
    "collapsed": true
   },
   "outputs": [
    {
     "name": "stderr",
     "output_type": "stream",
     "text": [
      "/usr/local/Cellar/ipython/7.2.0/libexec/vendor/lib/python3.7/site-packages/ipykernel_launcher.py:1: RuntimeWarning: invalid value encountered in true_divide\n",
      "  \"\"\"Entry point for launching an IPython kernel.\n"
     ]
    },
    {
     "data": {
      "text/plain": [
       "array([           nan, 2.64429309e-03, 3.62724487e-03, 3.70110391e-03,\n",
       "       4.03796699e-03, 4.51556370e-03, 4.84128934e-03, 4.99855018e-03,\n",
       "       5.28727869e-03, 5.48832650e-03, 5.67074468e-03, 5.87776543e-03,\n",
       "       6.10123641e-03, 6.25823921e-03, 6.49225692e-03, 6.29117359e-03,\n",
       "       2.55610029e-03, 7.87863539e-03, 1.31627248e-02, 1.59910789e-02,\n",
       "       1.67456296e-02, 1.67761561e-02, 1.66423401e-02, 1.80797185e-02,\n",
       "       1.63963962e-02, 1.60630607e-02, 1.59493202e-02, 1.58321166e-02,\n",
       "       1.56789355e-02, 1.55460588e-02, 1.53329774e-02, 1.51709455e-02,\n",
       "       1.50484998e-02, 1.49248890e-02, 1.65325763e-02, 2.07707210e-02,\n",
       "       2.32448779e-02, 2.38138017e-02, 2.34149107e-02, 2.27979856e-02,\n",
       "       2.22756793e-02, 2.20298409e-02, 2.15967888e-02, 2.12762749e-02,\n",
       "       2.09263492e-02, 2.06646726e-02, 2.03279030e-02, 2.01391382e-02,\n",
       "       1.98770743e-02, 1.97029613e-02, 1.95417068e-02, 2.47895330e-02,\n",
       "       2.55891456e-02, 2.51858416e-02, 2.43590686e-02, 2.38417612e-02,\n",
       "       2.40164977e-02, 2.34756951e-02, 2.26825241e-02, 2.22279765e-02,\n",
       "       2.18317399e-02, 2.14733845e-02, 2.11036255e-02, 2.08011531e-02,\n",
       "       2.05449176e-02, 2.02962085e-02, 2.00974149e-02, 2.22411993e-02,\n",
       "       2.74301671e-02, 2.67252610e-02, 2.60398653e-02, 2.53901449e-02,\n",
       "       2.47549655e-02, 2.38117175e-02, 2.32552250e-02, 2.32706220e-02,\n",
       "       2.27694770e-02, 2.19154637e-02, 2.14915333e-02, 2.10786144e-02,\n",
       "       2.07219394e-02, 2.03305768e-02, 2.00623447e-02, 1.98057715e-02,\n",
       "       2.62255936e-02, 2.82330800e-02, 2.77571293e-02, 2.70313355e-02,\n",
       "       2.63084840e-02, 2.55796346e-02, 2.48571534e-02, 2.41426967e-02,\n",
       "       2.31637116e-02, 2.25079237e-02, 2.25330763e-02, 2.19227309e-02,\n",
       "       2.10815628e-02, 2.06085829e-02, 2.01492906e-02, 1.97358638e-02,\n",
       "       1.37045770e-02, 5.10660326e-03, 2.00686767e-02, 3.33494874e-02,\n",
       "       4.00623233e-02, 4.33006625e-02, 4.46237429e-02, 1.55746077e-01,\n",
       "       1.15042901e-01, 8.99858467e-02, 7.47851496e-02, 6.55005358e-02,\n",
       "       5.96160288e-02, 5.58096173e-02, 5.31330415e-02, 5.03428080e-02,\n",
       "       4.71161097e-02, 7.55550321e-02, 8.34235656e-02, 7.09207324e-02,\n",
       "       5.93160832e-02, 4.76252431e-02, 3.48201305e-02, 2.03453244e-02,\n",
       "       3.60645928e-03, 1.57742772e-02, 3.80767151e-02, 6.29985138e-02,\n",
       "       9.02192050e-02, 1.18539144e-01, 1.46396072e-01, 1.71912697e-01,\n",
       "       1.91943885e-01, 1.61910356e-01, 2.27273933e-01, 1.49433837e-01,\n",
       "       9.45133513e-02, 5.77909836e-02, 3.46652152e-02, 2.07455653e-02,\n",
       "       1.26694410e-02, 7.96061894e-03, 5.15094419e-03, 3.34243602e-03,\n",
       "       2.16098480e-03, 1.27941518e-03, 6.48958414e-04, 1.60677647e-04,\n",
       "       1.61396278e-04, 4.83045001e-04, 1.58140534e-02, 2.65801187e-02,\n",
       "       2.19475621e-02, 1.74601912e-02, 1.33488230e-02, 9.93691330e-03,\n",
       "       6.97347430e-03, 4.23488475e-03, 4.20404558e-02, 4.61966790e-03,\n",
       "       3.06816629e-03, 1.59678086e-03, 2.28788179e-04, 3.00483678e-03,\n",
       "       1.34622083e-03, 9.33132329e-04, 2.47509075e-03, 4.05350095e-03,\n",
       "       2.68186072e-03, 1.04917668e-03, 1.27092065e-04, 9.82684936e-04,\n",
       "       2.06720603e-03, 3.40431919e-03, 4.75720034e-03, 5.57758441e-03,\n",
       "       7.25778578e-03, 7.76282442e-03, 8.59693487e-03, 6.41712519e-04,\n",
       "       9.21294935e-04, 2.21397268e-03, 3.81225992e-03, 2.05227141e-03,\n",
       "       4.34034550e-04, 1.99888696e-03, 4.55000350e-03, 7.58241218e-03,\n",
       "       8.92837056e-03, 1.19431333e-02, 1.47160705e-02, 1.61203870e-02,\n",
       "       8.43897063e-03, 4.57068738e-03, 6.25252041e-04, 3.02630537e-03,\n",
       "       6.68515903e-03, 1.00672089e-02, 1.31302557e-02, 1.58943073e-02,\n",
       "       1.14976058e-02, 8.57624474e-04, 9.88345981e-03, 4.48808324e-03,\n",
       "       5.16398132e-04, 5.18426447e-03, 9.56875117e-03, 1.34432339e-02,\n",
       "       2.68140862e-03, 8.69834040e-03, 3.29809658e-03, 2.17833152e-03,\n",
       "       7.45756200e-03, 1.18258387e-02, 1.57107896e-02, 1.22559665e-02,\n",
       "       2.02107769e-02, 1.76788511e-02, 1.07251818e-02, 4.31423059e-03,\n",
       "       1.30844818e-03, 6.33062760e-03, 1.06584067e-02, 1.44263264e-02,\n",
       "       1.75556402e-02, 6.29477225e-03, 2.13452877e-02, 1.39589971e-02,\n",
       "       7.78747976e-03, 2.97839396e-03, 1.95856413e-03, 6.59788288e-03,\n",
       "       1.02177291e-02, 8.27208500e-03, 9.91691093e-03, 1.24273608e-02,\n",
       "       1.05455105e-02, 1.35542410e-02, 8.68431522e-03, 4.46860487e-03,\n",
       "       9.00769543e-04, 2.14509879e-03, 5.73134069e-03, 1.23600713e-02,\n",
       "       8.39456755e-03, 4.90113144e-03, 1.78003948e-03, 8.01375665e-04,\n",
       "       3.12630213e-03, 1.58707508e-02, 1.58558133e-02, 1.17933184e-02,\n",
       "       8.73991154e-03, 6.15586408e-03, 3.96235827e-03, 2.18092201e-03,\n",
       "       3.52555625e-03, 1.96368943e-02, 1.61554193e-02, 1.29078980e-02,\n",
       "       1.02204359e-02, 7.94091985e-03, 5.94851579e-03, 4.33176193e-03,\n",
       "       2.94012947e-03, 1.84874725e-03, 3.66858955e-03, 3.99366607e-03,\n",
       "       3.65350311e-03, 2.94554288e-03, 1.94555084e-03, 1.54168634e-03,\n",
       "       5.47176966e-03, 1.14502045e-02, 9.70466662e-03, 8.48102589e-03,\n",
       "       7.35491397e-03, 6.42273866e-03, 5.57841980e-03, 4.83788882e-03,\n",
       "       4.21915771e-03, 3.80708755e-03, 4.01808858e-03, 6.96050657e-03,\n",
       "       6.24278225e-03, 5.31429480e-03, 4.89073467e-03, 5.94364685e-03,\n",
       "       8.43386201e-03, 7.32002449e-03, 6.65983893e-03, 6.00078093e-03,\n",
       "       5.48180660e-03, 5.06462166e-03, 4.67197468e-03, 4.34584220e-03,\n",
       "       4.09612660e-03, 3.53119134e-03, 3.34344652e-03, 6.30820627e-03,\n",
       "       7.92321786e-03, 7.21669917e-03, 6.64942896e-03, 6.06023439e-03,\n",
       "       5.22447368e-03, 4.62150931e-03, 4.88013233e-03, 5.38349178e-03,\n",
       "       4.77522081e-03, 4.20602006e-03, 3.81004046e-03, 3.44828049e-03,\n",
       "       3.11330190e-03, 2.76819374e-03, 2.49987594e-03, 2.21931506e-03,\n",
       "       2.02716918e-03, 1.82567413e-03, 1.67068229e-03, 1.47643456e-03,\n",
       "       1.32670101e-03, 1.19736465e-03, 1.09628055e-03, 9.52500458e-04,\n",
       "       6.46548609e-04, 6.08367002e-04, 1.15949403e-03, 1.11822077e-03,\n",
       "       8.29758031e-04, 8.47568714e-04, 8.95280344e-04, 9.50661667e-04,\n",
       "       4.37223389e-03, 7.52456655e-03, 6.89898682e-03, 6.29643039e-03,\n",
       "       5.76914730e-03, 5.31490787e-03, 4.84132969e-03, 4.43145430e-03,\n",
       "       4.05763515e-03, 3.73295854e-03, 3.36125828e-03, 2.82959831e-03,\n",
       "       2.56499513e-03, 2.85456152e-03, 2.60464446e-03, 2.12501662e-03,\n",
       "       1.91953344e-03, 1.70944213e-03, 1.36316897e-03, 1.20064789e-03,\n",
       "       1.08152893e-03, 9.99331228e-04, 8.96306893e-04, 8.34428665e-04,\n",
       "       7.64227368e-04, 7.36159258e-04, 6.86538624e-04, 6.88780399e-04,\n",
       "       6.67759757e-04, 7.49715091e-04, 5.42111905e-04, 6.08838103e-04,\n",
       "       1.25111311e-03, 4.00122958e-03, 7.59537251e-03, 6.99826328e-03,\n",
       "       6.42918150e-03, 5.89472571e-03, 5.39361376e-03, 4.90898937e-03,\n",
       "       4.48313459e-03, 4.07857354e-03, 3.70396292e-03, 3.33666815e-03,\n",
       "       3.03758036e-03, 2.72096010e-03, 2.45544842e-03, 2.23825986e-03,\n",
       "       2.04053459e-03, 1.59357428e-03, 1.40758135e-03, 1.46745645e-03,\n",
       "       1.51363863e-03, 1.29987939e-03, 1.00721127e-03, 8.89879660e-04,\n",
       "       8.39694230e-04, 7.70850861e-04, 7.27584437e-04, 7.15835535e-04,\n",
       "       7.21751715e-04, 6.92751422e-04, 6.42241865e-04, 5.70874071e-04,\n",
       "       5.38355066e-04, 6.08360691e-04, 2.67658662e-03, 7.28098943e-03,\n",
       "       6.69687006e-03, 5.95385608e-03, 5.46189872e-03, 5.38200340e-03,\n",
       "       4.89988822e-03, 4.27601850e-03, 3.88778352e-03, 3.52682398e-03,\n",
       "       3.18217479e-03, 2.86869279e-03, 2.55432966e-03, 2.27984660e-03,\n",
       "       2.04206575e-03, 1.81887565e-03, 1.60842165e-03, 1.40541015e-03,\n",
       "       1.22910619e-03, 1.10004655e-03, 9.63160665e-04, 8.60205578e-04,\n",
       "       5.74964235e-04, 5.47790120e-04, 8.37682898e-04, 8.10804374e-04,\n",
       "       5.88482567e-04, 6.06481363e-04, 6.17818518e-04, 6.70704441e-04,\n",
       "       7.04263347e-04, 7.86939429e-04, 8.82990378e-04, 2.28260447e-03,\n",
       "       7.60216841e-03, 7.04366373e-03, 6.49706238e-03, 5.99355807e-03,\n",
       "       5.51201231e-03, 5.07442390e-03, 4.65320896e-03, 4.08060835e-03,\n",
       "       3.71733429e-03, 3.72632178e-03, 3.37983077e-03, 2.92111959e-03,\n",
       "       2.63583649e-03, 2.36370161e-03, 2.12836520e-03, 1.92306436e-03,\n",
       "       1.72903592e-03, 1.55101822e-03, 1.40821296e-03, 1.26574584e-03,\n",
       "       1.17043436e-03, 1.07840380e-03, 1.00282537e-03, 9.23684775e-04,\n",
       "       9.18876317e-04, 8.85181597e-04, 8.36029652e-04, 7.68710811e-04,\n",
       "       8.43467432e-04, 1.14836919e-03, 1.22117177e-03, 1.15229825e-03,\n",
       "       1.88791160e-03, 7.84143620e-03, 7.28814274e-03, 6.72857749e-03,\n",
       "       6.24785943e-03, 5.77359580e-03, 5.32033941e-03, 4.91297528e-03,\n",
       "       4.51407313e-03, 4.12094883e-03, 3.78087064e-03, 3.44909210e-03,\n",
       "       3.15158819e-03, 2.86537808e-03, 2.47015251e-03, 2.21076370e-03,\n",
       "       2.24662346e-03, 2.03692477e-03, 1.71814998e-03, 1.57934879e-03,\n",
       "       1.43536468e-03, 1.32935513e-03, 1.23939380e-03, 1.17146897e-03,\n",
       "       1.10636008e-03, 1.08195015e-03, 1.04403767e-03, 1.04585182e-03,\n",
       "       1.07384774e-03, 1.10637023e-03, 1.15511434e-03, 1.23598480e-03,\n",
       "       1.32359072e-03, 1.31620285e-03, 7.74787950e-03, 7.49454319e-03,\n",
       "       6.94478005e-03, 6.33581122e-03, 5.83990381e-03, 5.41447120e-03,\n",
       "       4.98190551e-03, 4.59691426e-03, 4.19842524e-03, 3.85856631e-03,\n",
       "       3.50709076e-03, 3.21138091e-03, 2.92369703e-03, 2.66105833e-03,\n",
       "       2.40049341e-03, 2.18636026e-03, 1.99716494e-03, 1.82239810e-03,\n",
       "       1.55759676e-03, 1.42177969e-03, 1.47823927e-03, 1.42835556e-03,\n",
       "       1.29596802e-03, 1.17471710e-03, 1.13783910e-03, 1.11712679e-03,\n",
       "       1.12995904e-03, 1.13836467e-03, 1.17350884e-03, 1.23565517e-03,\n",
       "       1.31124132e-03, 1.39334613e-03, 1.50767793e-03, 7.07240010e-03,\n",
       "       7.26657894e-03, 6.75663955e-03, 6.28486599e-03, 5.80893816e-03,\n",
       "       5.30140994e-03, 4.89030551e-03, 4.70963592e-03, 4.33467343e-03,\n",
       "       3.90581017e-03, 3.57134085e-03, 3.28795199e-03, 3.01091729e-03,\n",
       "       2.76531652e-03, 2.52670483e-03, 2.32019806e-03, 2.11049915e-03,\n",
       "       1.94831817e-03, 1.80206541e-03, 1.66293495e-03, 1.55729373e-03,\n",
       "       1.46321555e-03, 1.38782726e-03, 1.33925706e-03, 1.21273386e-03,\n",
       "       1.20433668e-03, 1.39299019e-03, 1.39983355e-03, 1.34400001e-03,\n",
       "       1.41927172e-03, 1.49933232e-03, 1.59072258e-03, 1.71426008e-03,\n",
       "       6.41092138e-03, 7.24009594e-03, 6.75905806e-03, 6.29639874e-03,\n",
       "       5.84475060e-03, 5.44108501e-03, 5.02604674e-03, 4.65975933e-03,\n",
       "       4.31519863e-03, 3.99455569e-03, 3.58297484e-03, 3.31063193e-03,\n",
       "       3.19974604e-03, 2.95541741e-03, 2.64533306e-03, 2.44318920e-03,\n",
       "       2.24627273e-03, 2.09592158e-03, 1.94235855e-03, 1.82393360e-03,\n",
       "       1.71772001e-03, 1.63486709e-03, 1.55061466e-03, 1.51404413e-03,\n",
       "       1.47510392e-03, 1.47056504e-03, 1.47831139e-03, 1.50766221e-03,\n",
       "       1.55049051e-03, 1.57626984e-03, 1.63627089e-03, 1.78117414e-03,\n",
       "       2.00577322e-03, 5.86150812e-03, 7.16119317e-03, 6.69100158e-03,\n",
       "       6.25432764e-03, 5.82632126e-03, 5.42805862e-03, 5.04116365e-03,\n",
       "       4.70059065e-03, 4.35651868e-03, 4.04355487e-03, 3.74701391e-03,\n",
       "       3.47959284e-03, 3.20672353e-03, 2.97602021e-03, 2.76833538e-03,\n",
       "       2.57860699e-03, 2.33327106e-03, 2.19037389e-03, 2.15990121e-03,\n",
       "       2.04691725e-03, 1.87962529e-03, 1.80560819e-03, 1.74293761e-03,\n",
       "       1.71282451e-03, 1.67676025e-03, 1.68238809e-03, 1.69969383e-03,\n",
       "       1.73709127e-03, 1.78315389e-03, 1.86042213e-03, 1.93768722e-03,\n",
       "       2.05209958e-03, 2.17734896e-03, 5.27175889e-03, 7.09490292e-03,\n",
       "       6.58987798e-03, 6.17122317e-03, 5.87894443e-03, 5.48927787e-03,\n",
       "       5.06334865e-03, 4.73067169e-03, 4.40258608e-03, 4.09897856e-03,\n",
       "       3.83022572e-03, 3.56389651e-03, 3.31164699e-03, 3.09453005e-03,\n",
       "       2.88407811e-03, 2.70318218e-03, 2.54364195e-03, 2.39572719e-03,\n",
       "       2.25545208e-03, 2.15847160e-03, 2.05696238e-03, 1.94175183e-03,\n",
       "       1.89166870e-03, 1.95908586e-03, 1.92645733e-03, 1.90484141e-03,\n",
       "       1.89899520e-03, 1.94279143e-03, 2.00662489e-03, 2.08259103e-03,\n",
       "       2.16305589e-03, 2.28610253e-03, 2.41960395e-03, 4.79754687e-03,\n",
       "       6.97383323e-03, 6.54854393e-03, 6.13944224e-03, 5.76017175e-03,\n",
       "       5.39442636e-03, 5.05266412e-03, 4.72622636e-03, 4.38297001e-03,\n",
       "       4.09999108e-03, 3.91835587e-03, 3.66847257e-03, 3.39250012e-03,\n",
       "       3.18959061e-03, 2.99428688e-03, 2.82596618e-03, 2.67091261e-03,\n",
       "       2.53977234e-03, 2.41484544e-03, 2.32291955e-03, 2.23129308e-03,\n",
       "       2.18042917e-03, 2.13370236e-03, 2.10960776e-03, 2.09531200e-03,\n",
       "       2.11792517e-03, 2.13381669e-03, 2.14594544e-03, 2.21926052e-03,\n",
       "       2.38022943e-03, 2.46603531e-03, 2.55273218e-03, 2.68303911e-03,\n",
       "       4.43468265e-03, 6.85632588e-03, 6.45587677e-03, 6.07166958e-03,\n",
       "       5.71863268e-03, 5.37011433e-03, 5.05197548e-03, 4.75018081e-03,\n",
       "       4.46539702e-03, 4.19433245e-03, 3.94833397e-03, 3.71433946e-03,\n",
       "       3.50509053e-03, 3.27699530e-03, 3.10481658e-03, 3.01323641e-03,\n",
       "       2.86692384e-03, 2.71109185e-03, 2.58173263e-03, 2.46756853e-03,\n",
       "       2.36363008e-03, 2.29167513e-03, 2.22136602e-03, 2.18147923e-03,\n",
       "       2.15925672e-03, 2.15323113e-03, 2.14846732e-03, 2.18170232e-03,\n",
       "       2.21889625e-03, 2.28181312e-03, 2.36479428e-03, 2.46219918e-03,\n",
       "       2.54562547e-03, 3.72740986e-03, 6.29674578e-03, 5.92242844e-03,\n",
       "       5.52767298e-03, 5.14525390e-03, 4.78284366e-03, 4.45952695e-03,\n",
       "       4.13927871e-03, 3.84649665e-03, 3.57111270e-03, 3.31421345e-03,\n",
       "       3.06234834e-03, 2.84652566e-03, 2.64291282e-03, 2.45393270e-03,\n",
       "       2.28852427e-03, 2.12865634e-03, 1.99453550e-03, 1.87565835e-03,\n",
       "       1.74961704e-03, 1.66629430e-03, 1.64729396e-03, 1.60900780e-03,\n",
       "       1.57799281e-03, 1.58888402e-03, 1.61578134e-03, 1.65375881e-03,\n",
       "       1.71859613e-03, 1.78862742e-03, 1.88570979e-03, 1.99879930e-03,\n",
       "       2.12845017e-03, 2.26504387e-03, 3.03525362e-03, 5.65633958e-03,\n",
       "       5.30496747e-03, 4.96710588e-03, 4.64794743e-03, 4.31807380e-03,\n",
       "       4.04328256e-03, 3.80872394e-03, 3.55676593e-03, 3.30272415e-03,\n",
       "       3.09114530e-03, 2.88020160e-03, 2.70525977e-03, 2.53369075e-03,\n",
       "       2.38639932e-03, 2.25590267e-03, 2.13893621e-03, 2.03594966e-03,\n",
       "       1.95466055e-03, 1.88712380e-03, 1.83820262e-03, 1.80831071e-03,\n",
       "       1.78991563e-03, 1.78997653e-03, 1.78855160e-03, 1.82387924e-03,\n",
       "       1.91098820e-03, 1.97363051e-03, 2.03619306e-03, 2.13169614e-03,\n",
       "       2.24838007e-03, 2.38285933e-03, 2.53012283e-03, 2.94232706e-03,\n",
       "       5.54128943e-03, 5.21321656e-03, 4.88948909e-03, 4.59232679e-03,\n",
       "       4.30848790e-03, 4.04626406e-03, 3.78331092e-03, 3.55515629e-03,\n",
       "       3.33506496e-03, 3.12946444e-03, 2.93478789e-03, 2.76986868e-03,\n",
       "       2.63894299e-03, 2.50203554e-03, 2.36924597e-03, 2.26587750e-03,\n",
       "       2.17721944e-03, 2.10782517e-03, 2.04448929e-03, 2.00830771e-03,\n",
       "       1.98257562e-03, 1.97531903e-03, 1.98230264e-03, 2.00646377e-03,\n",
       "       2.04157496e-03, 2.10121519e-03, 2.17172487e-03, 2.25983216e-03,\n",
       "       2.36681103e-03, 2.46979374e-03, 2.60721665e-03, 2.78525238e-03,\n",
       "       2.95087954e-03, 5.40338937e-03, 5.11776751e-03, 4.81408884e-03,\n",
       "       4.53497958e-03, 4.26754671e-03, 4.01858923e-03, 3.77894517e-03,\n",
       "       3.56514301e-03, 3.35825380e-03, 3.17155291e-03, 3.00264965e-03,\n",
       "       2.84829533e-03, 2.70097460e-03, 2.57975608e-03, 2.46940449e-03,\n",
       "       2.36655419e-03, 2.29085527e-03, 2.25035690e-03, 2.19727142e-03,\n",
       "       2.15779866e-03, 2.13950349e-03, 2.14056753e-03, 2.15786249e-03,\n",
       "       2.18878874e-03, 2.22887000e-03, 2.29414060e-03, 2.36945996e-03,\n",
       "       2.46268924e-03, 2.56971472e-03, 2.69293672e-03, 2.82901522e-03,\n",
       "       2.98284008e-03, 3.15261345e-03, 5.05255015e-03, 5.01719511e-03,\n",
       "       4.73319591e-03, 4.48155726e-03, 4.23642963e-03, 3.99854280e-03,\n",
       "       3.77231841e-03, 3.57102592e-03, 3.37777454e-03, 3.20286538e-03,\n",
       "       3.04598254e-03, 2.90359389e-03, 2.77448828e-03, 2.65999818e-03,\n",
       "       2.55999565e-03, 2.47966291e-03, 2.41078663e-03, 2.35770573e-03,\n",
       "       2.31785218e-03, 2.29900773e-03, 2.28349879e-03, 2.28775853e-03,\n",
       "       2.30811440e-03, 2.36126235e-03, 2.40915850e-03, 2.47140150e-03,\n",
       "       2.54896644e-03, 2.64743990e-03, 2.76106102e-03, 2.88789027e-03,\n",
       "       3.02893475e-03, 3.18694159e-03, 3.35779890e-03, 4.79369307e-03,\n",
       "       4.94800715e-03, 4.68280647e-03, 4.43258223e-03, 4.19458585e-03,\n",
       "       3.97446375e-03, 3.76887532e-03, 3.57104182e-03, 3.39487476e-03,\n",
       "       3.24877456e-03, 3.09714530e-03, 2.95753181e-03, 2.84152010e-03,\n",
       "       2.73860880e-03, 2.64753662e-03, 2.57480738e-03, 2.51283471e-03,\n",
       "       2.46907235e-03, 2.43742066e-03, 2.42302356e-03, 2.41697606e-03,\n",
       "       2.43389215e-03, 2.45865768e-03, 2.50172729e-03, 2.55884667e-03,\n",
       "       2.63195421e-03, 2.70677015e-03, 2.81102056e-03, 2.93575035e-03,\n",
       "       3.06662064e-03, 3.20374159e-03, 3.36234109e-03, 3.53333670e-03,\n",
       "       4.60440482e-03, 4.88006903e-03, 4.62795887e-03, 4.39393758e-03,\n",
       "       4.17072536e-03, 3.96146595e-03, 3.76801802e-03, 3.58783222e-03,\n",
       "       3.42367039e-03, 3.27107560e-03, 3.13385587e-03, 3.01055994e-03,\n",
       "       2.90013968e-03, 2.80284226e-03, 2.72519282e-03, 2.66749826e-03,\n",
       "       2.61221518e-03, 2.57047898e-03, 2.54751075e-03, 2.53934941e-03,\n",
       "       2.54176685e-03, 2.56243300e-03, 2.59172616e-03, 2.63921112e-03,\n",
       "       2.70191833e-03, 2.77729434e-03, 2.86584322e-03, 2.96964102e-03,\n",
       "       3.08645965e-03, 3.21950573e-03, 3.36690627e-03, 3.52796165e-03,\n",
       "       3.69812546e-03, 4.48267633e-03, 4.83550717e-03, 4.59800932e-03,\n",
       "       4.36828895e-03, 4.15973066e-03, 3.95916567e-03, 3.77816411e-03,\n",
       "       3.60580569e-03, 3.45106093e-03, 3.31014134e-03, 3.18211515e-03,\n",
       "       3.06679908e-03, 2.96678652e-03, 2.87941679e-03, 2.80620072e-03,\n",
       "       2.74759909e-03, 2.70066699e-03, 2.66934754e-03, 2.64686987e-03,\n",
       "       2.64395187e-03, 2.65884844e-03, 2.68190099e-03, 2.71438010e-03,\n",
       "       2.76785504e-03, 2.83149837e-03, 2.90980189e-03, 3.00275120e-03,\n",
       "       3.11044297e-03, 3.22790522e-03, 3.36261372e-03, 3.51074932e-03,\n",
       "       3.67343516e-03, 3.84944328e-03, 4.41876831e-03, 4.79766784e-03,\n",
       "       4.57163028e-03, 4.35599271e-03, 4.15268882e-03, 3.96499221e-03,\n",
       "       3.79719193e-03, 3.63396501e-03, 3.48579761e-03, 3.35059671e-03,\n",
       "       3.23133769e-03, 3.12367730e-03, 3.03025553e-03, 2.94665578e-03,\n",
       "       2.88198513e-03, 2.82877960e-03, 2.78770944e-03, 2.76273311e-03,\n",
       "       2.74847152e-03, 2.74885619e-03, 2.76226626e-03, 2.78935518e-03,\n",
       "       2.82983533e-03, 2.88482909e-03, 2.94965905e-03, 3.03117311e-03,\n",
       "       3.13140438e-03, 3.23921002e-03, 3.35828064e-03, 3.49549827e-03,\n",
       "       3.64413432e-03, 3.80818692e-03, 3.98593920e-03, 4.40000535e-03,\n",
       "       4.78428426e-03, 4.56701958e-03, 4.35845582e-03, 4.16618512e-03,\n",
       "       3.98669466e-03, 3.81995977e-03, 3.66425510e-03, 3.52542776e-03,\n",
       "       3.39677431e-03, 3.28109686e-03, 3.18058002e-03, 3.09635906e-03,\n",
       "       3.01939499e-03, 2.95643841e-03, 2.90740616e-03, 2.87249934e-03,\n",
       "       2.85042331e-03, 2.84125243e-03, 2.84356888e-03, 2.86165124e-03,\n",
       "       2.89099872e-03, 2.93546756e-03, 2.99284308e-03, 3.06281756e-03,\n",
       "       3.14632613e-03, 3.24307719e-03, 3.35355848e-03, 3.47727649e-03,\n",
       "       3.61329230e-03, 3.76327850e-03, 3.93082004e-03, 4.10753718e-03,\n",
       "       4.41458218e-03, 4.78367967e-03, 4.57265495e-03, 4.37258239e-03,\n",
       "       4.18812363e-03, 4.01382478e-03, 3.85344455e-03, 3.70604131e-03,\n",
       "       3.57186403e-03, 3.44764681e-03, 3.33888876e-03, 3.24328583e-03,\n",
       "       3.16016408e-03, 3.08894461e-03, 3.03170455e-03, 2.98408250e-03,\n",
       "       2.95264202e-03, 2.93478891e-03, 2.92992325e-03, 2.93596591e-03,\n",
       "       2.94648984e-03, 2.89604708e-03, 2.94320183e-03, 3.00263329e-03,\n",
       "       3.07577976e-03, 3.16104660e-03, 3.26036655e-03, 3.37123130e-03,\n",
       "       3.49706367e-03, 3.63568907e-03, 3.78755853e-03, 3.95311701e-03,\n",
       "       4.13095247e-03, 4.37275633e-03, 4.71227609e-03, 4.50615258e-03,\n",
       "       4.31264431e-03, 4.13482977e-03, 3.96582631e-03, 3.80968165e-03,\n",
       "       3.66776410e-03, 3.53750249e-03, 3.41918834e-03, 3.31493928e-03,\n",
       "       3.22207668e-03, 3.14276206e-03, 3.07639170e-03, 3.02197246e-03,\n",
       "       2.97909609e-03, 2.95111730e-03, 2.93395570e-03, 2.93095345e-03,\n",
       "       2.94054223e-03, 2.96342769e-03, 2.99543930e-03, 3.04435377e-03,\n",
       "       3.10625946e-03, 3.17952051e-03, 3.26543167e-03, 3.36530058e-03,\n",
       "       3.47682857e-03, 3.60318692e-03, 3.74199480e-03, 3.89366304e-03,\n",
       "       4.05916288e-03, 4.23714248e-03, 4.44106938e-03, 4.74238270e-03,\n",
       "       4.54117276e-03, 4.35275832e-03, 4.17674892e-03, 4.01251070e-03,\n",
       "       3.86103685e-03, 3.72154098e-03, 3.59505722e-03, 3.48219599e-03,\n",
       "       3.37991873e-03, 3.28913922e-03, 3.21192442e-03, 3.14790706e-03,\n",
       "       3.09587180e-03, 3.05559270e-03, 3.02905775e-03, 3.01401464e-03,\n",
       "       3.01320746e-03, 3.02342160e-03, 3.04696895e-03, 3.08273079e-03,\n",
       "       3.13226704e-03, 3.19265272e-03, 3.26747500e-03, 3.35491540e-03,\n",
       "       3.45521107e-03, 3.56706581e-03, 3.69333075e-03, 3.83230144e-03,\n",
       "       3.98387993e-03, 4.14855297e-03, 4.32665721e-03, 4.51758180e-03,\n",
       "       4.76948576e-03, 4.57771028e-03, 4.39277979e-03, 4.22016787e-03,\n",
       "       4.05938166e-03, 3.91079848e-03, 3.77442988e-03, 3.65013946e-03,\n",
       "       3.53865893e-03, 3.43862531e-03, 3.35124910e-03, 3.27615161e-03,\n",
       "       3.21282002e-03, 3.16264884e-03, 3.12534197e-03, 3.09983530e-03,\n",
       "       3.08554063e-03, 3.08563038e-03, 3.09684335e-03, 3.12128592e-03,\n",
       "       3.15822481e-03, 3.20771847e-03, 3.26873143e-03, 3.34410139e-03,\n",
       "       3.43110476e-03, 3.53147012e-03, 3.64478852e-03, 3.77080190e-03,\n",
       "       3.90848732e-03, 4.06033224e-03, 4.22482229e-03, 4.40196174e-03,\n",
       "       4.59268687e-03, 4.76813875e-03, 4.61515769e-03, 4.43280568e-03,\n",
       "       4.26248241e-03, 4.10430103e-03, 3.95790991e-03, 3.82353495e-03,\n",
       "       3.70047281e-03, 3.59077788e-03, 3.49279583e-03, 3.40688677e-03,\n",
       "       3.33339650e-03, 3.27172862e-03, 3.22238753e-03, 3.18557904e-03,\n",
       "       3.16058840e-03, 3.14791697e-03, 3.14768363e-03, 3.15945889e-03,\n",
       "       3.18472764e-03, 3.22208540e-03, 3.27159462e-03, 3.33341156e-03,\n",
       "       3.40845359e-03, 3.49548122e-03, 3.59557693e-03, 3.70836470e-03,\n",
       "       3.83385461e-03, 3.97141374e-03, 4.12267498e-03, 4.28613374e-03,\n",
       "       4.46358819e-03, 4.65345242e-03, 4.77836821e-03, 4.65153037e-03,\n",
       "       4.47163803e-03, 4.32199244e-03, 4.18664939e-03, 4.06319676e-03,\n",
       "       3.95238816e-03, 3.85217780e-03, 3.76488767e-03, 3.68892514e-03,\n",
       "       3.62553862e-03, 3.57441452e-03, 3.53519497e-03, 3.50822704e-03,\n",
       "       3.49334070e-03, 3.49056082e-03, 3.49995042e-03, 3.52201850e-03,\n",
       "       3.55586102e-03, 3.60246920e-03, 3.66105848e-03, 3.73231725e-03,\n",
       "       3.81633016e-03, 3.91224184e-03, 4.02099063e-03, 4.14283967e-03,\n",
       "       4.27689634e-03, 4.42355278e-03, 4.58294532e-03, 4.75521441e-03,\n",
       "       4.93984086e-03, 5.13812132e-03, 5.34866367e-03, 5.46758509e-03,\n",
       "       5.37773752e-03, 5.22117316e-03, 5.07539235e-03, 4.94257410e-03,\n",
       "       4.82085732e-03, 4.71135386e-03, 4.61350486e-03, 4.52776550e-03,\n",
       "       4.45299691e-03, 4.39118673e-03, 4.34153807e-03, 4.30332979e-03,\n",
       "       4.27701869e-03, 4.26333237e-03, 4.26120601e-03, 4.27173580e-03,\n",
       "       4.29433960e-03, 4.32911591e-03, 4.37632963e-03, 4.43576660e-03,\n",
       "       4.50715586e-03, 4.59121301e-03, 4.68769649e-03, 4.79665546e-03,\n",
       "       4.91833774e-03, 5.05213905e-03, 5.19891302e-03, 5.35840338e-03,\n",
       "       5.53046367e-03, 5.71540162e-03, 5.91362320e-03, 6.12383901e-03,\n",
       "       6.23199277e-03, 6.15033844e-03, 5.99523170e-03, 5.85129797e-03,\n",
       "       5.71975323e-03, 5.59947118e-03, 5.49115231e-03, 5.39474755e-03,\n",
       "       5.31015125e-03, 5.23684095e-03, 5.17610843e-03, 5.12693303e-03,\n",
       "       5.08994767e-03, 5.06493165e-03, 5.05185640e-03, 5.05046557e-03,\n",
       "       5.06194802e-03, 5.08495682e-03, 5.12014333e-03, 5.16743764e-03,\n",
       "       5.22718495e-03, 5.29889356e-03, 5.38333431e-03, 5.47979718e-03,\n",
       "       5.58900271e-03, 5.71065086e-03, 5.84487781e-03, 5.99159073e-03,\n",
       "       6.15093496e-03, 6.32305031e-03, 6.50787692e-03, 6.70579392e-03,\n",
       "       6.91610421e-03, 7.02631311e-03, 6.94693511e-03, 6.79354983e-03,\n",
       "       6.65169015e-03, 6.52132903e-03, 6.40230399e-03, 6.29539592e-03,\n",
       "       6.20019869e-03, 6.11670672e-03, 6.04487791e-03, 5.98498246e-03,\n",
       "       5.93664645e-03, 5.90053188e-03, 5.87622478e-03, 5.86386872e-03,\n",
       "       5.86338553e-03, 5.87531256e-03, 5.89852479e-03, 5.93429991e-03,\n",
       "       5.98194019e-03, 6.04181788e-03, 6.11390538e-03, 6.19876810e-03,\n",
       "       6.29526036e-03, 6.40457190e-03, 6.52628108e-03, 6.66050851e-03,\n",
       "       6.80717383e-03, 6.96653883e-03, 7.13844482e-03, 7.32308884e-03,\n",
       "       7.52056789e-03, 7.73081258e-03, 7.85295528e-03, 7.77311029e-03,\n",
       "       7.62127367e-03, 7.48074066e-03, 7.34923952e-03, 7.21062880e-03,\n",
       "       7.08382924e-03, 6.96832038e-03, 6.86473789e-03, 6.77306908e-03,\n",
       "       6.69280168e-03, 6.62425400e-03, 6.56783453e-03, 6.52313425e-03,\n",
       "       6.49043705e-03, 6.46963693e-03, 6.46090775e-03, 6.46389303e-03,\n",
       "       6.47942406e-03, 6.50669748e-03, 6.54644345e-03, 6.59825501e-03,\n",
       "       6.66248865e-03, 6.73787918e-03, 6.82587961e-03, 6.92598527e-03,\n",
       "       7.03864441e-03, 7.16396981e-03, 7.30182525e-03, 7.45201261e-03,\n",
       "       7.61528629e-03, 7.79125089e-03, 7.97997199e-03, 8.10034186e-03,\n",
       "       7.99609384e-03, 7.82406919e-03, 7.66353016e-03, 7.51449175e-03,\n",
       "       7.37695957e-03, 7.25092074e-03, 7.13650153e-03, 7.03363585e-03,\n",
       "       6.94248772e-03, 6.86302810e-03, 6.79528259e-03, 6.73807180e-03,\n",
       "       6.69233202e-03, 6.65866865e-03, 6.63678882e-03, 6.62687905e-03,\n",
       "       6.62885025e-03, 6.64313985e-03, 6.66912491e-03, 6.70749398e-03,\n",
       "       6.75809370e-03, 6.82083900e-03, 6.89578731e-03, 6.98323065e-03,\n",
       "       7.08284771e-03, 7.19508068e-03, 7.31982347e-03, 7.45705399e-03,\n",
       "       7.60679285e-03, 7.76941764e-03, 7.94443828e-03, 8.13260306e-03,\n",
       "       8.27727567e-03, 8.16826688e-03, 7.99664268e-03, 7.83500463e-03,\n",
       "       7.68455420e-03, 7.54571528e-03, 7.41836794e-03, 7.30249271e-03,\n",
       "       7.19811702e-03, 7.10542706e-03, 7.02429301e-03, 6.95488844e-03,\n",
       "       6.89725146e-03, 6.85123150e-03, 6.81710837e-03, 6.79469071e-03,\n",
       "       6.78441591e-03, 6.78588694e-03, 6.79945239e-03, 6.82495458e-03,\n",
       "       6.86277363e-03, 6.91241136e-03, 6.97433203e-03, 7.04860802e-03,\n",
       "       7.13514461e-03, 7.23377040e-03, 7.34501893e-03, 7.46868225e-03,\n",
       "       7.60486111e-03, 7.75245723e-03, 7.91223101e-03, 8.08451478e-03,\n",
       "       8.26982848e-03, 8.44096547e-03, 8.32443105e-03, 8.15169919e-03,\n",
       "       7.99037620e-03, 7.84015335e-03, 7.70152958e-03, 7.57426713e-03,\n",
       "       7.45846601e-03, 7.35405670e-03, 7.26129469e-03, 7.17990551e-03,\n",
       "       7.11040779e-03, 7.05245823e-03, 7.00616426e-03, 6.97172011e-03,\n",
       "       6.94891556e-03, 6.93803164e-03, 6.93898128e-03, 6.95194116e-03,\n",
       "       6.97680655e-03, 7.01368017e-03, 7.06267214e-03, 7.12379454e-03,\n",
       "       7.19710720e-03, 7.28268086e-03, 7.38010439e-03, 7.48885721e-03,\n",
       "       7.60989404e-03, 7.74355059e-03, 7.88974007e-03, 8.04851253e-03,\n",
       "       8.21979361e-03, 8.40398370e-03, 8.60076597e-03, 8.48305488e-03,\n",
       "       8.31190370e-03, 8.15097154e-03, 8.00121800e-03, 7.86293061e-03,\n",
       "       7.73581579e-03, 7.62017438e-03, 7.51596019e-03, 7.42321197e-03,\n",
       "       7.34183307e-03, 7.27215147e-03, 7.21394900e-03, 7.16742661e-03,\n",
       "       7.13258388e-03, 7.10945814e-03, 7.09800028e-03, 7.09846257e-03,\n",
       "       7.11072172e-03, 7.13496639e-03, 7.17116364e-03, 7.21932852e-03,\n",
       "       7.27957868e-03, 7.35195218e-03, 7.43651103e-03, 7.53327927e-03,\n",
       "       7.64069434e-03, 7.76014356e-03, 7.89208000e-03, 8.03648814e-03,\n",
       "       8.19348749e-03, 8.36301964e-03, 8.54523332e-03, 8.74009112e-03,\n",
       "       8.64609978e-03, 8.47978990e-03, 8.31893091e-03, 8.16923650e-03,\n",
       "       8.03081960e-03, 7.90347288e-03, 7.78758087e-03, 7.68299221e-03,\n",
       "       7.58983106e-03, 7.50797997e-03, 7.43766365e-03, 7.37872604e-03,\n",
       "       7.33147574e-03, 7.29579444e-03, 7.27171871e-03, 7.25935116e-03,\n",
       "       7.25877770e-03, 7.26985314e-03, 7.29284651e-03, 7.32773782e-03,\n",
       "       7.37459890e-03, 7.43338718e-03, 7.50424249e-03, 7.58716718e-03,\n",
       "       7.68229412e-03, 7.78962362e-03, 7.90921256e-03, 8.04117586e-03,\n",
       "       8.18545838e-03, 8.34225180e-03, 8.51073900e-03, 8.69042155e-03,\n",
       "       8.88269172e-03, 8.81547492e-03, 8.65226187e-03, 8.49146294e-03,\n",
       "       8.34168686e-03, 8.20299780e-03, 8.07542441e-03, 7.95915304e-03,\n",
       "       7.85401321e-03, 7.76019125e-03, 7.67771507e-03, 7.60655499e-03,\n",
       "       7.54672779e-03, 7.49846601e-03, 7.46160739e-03, 7.43635077e-03,\n",
       "       7.42267283e-03, 7.42062229e-03, 7.43016047e-03, 7.45158500e-03,\n",
       "       7.48472829e-03, 7.52971825e-03, 7.58663484e-03, 7.65548483e-03,\n",
       "       7.73623758e-03, 7.82916434e-03, 7.93417741e-03, 8.05137831e-03,\n",
       "       8.18080639e-03, 8.32250759e-03, 8.47654410e-03, 8.64301152e-03,\n",
       "       8.82196506e-03, 9.01346154e-03, 8.97783129e-03, 8.81912033e-03,\n",
       "       8.66087924e-03, 8.51354946e-03, 8.37719095e-03, 8.25180967e-03,\n",
       "       8.13748946e-03, 8.03418213e-03, 7.94203436e-03, 7.86105131e-03])"
      ]
     },
     "execution_count": 82,
     "metadata": {},
     "output_type": "execute_result"
    }
   ],
   "source": [
    "abs(f_DH_data[0]['f']['low']['cont']/f_idl_list[0][4][::4]-1)"
   ]
  },
  {
   "cell_type": "code",
   "execution_count": 31,
   "metadata": {},
   "outputs": [],
   "source": [
    "f_DH_list = np.ones((40,5,6398))*1e-6\n",
    "for k in np.arange(40):\n",
    "    f_DH_list[k] = np.array(\n",
    "    [f_DH_data[k]['f']['low']['H ion'],\n",
    "     f_DH_data[k]['f']['low']['He ion'],\n",
    "     f_DH_data[k]['f']['low']['exc'],\n",
    "     f_DH_data[k]['f']['low']['heat'],\n",
    "     f_DH_data[k]['f']['low']['cont']]\n",
    ")"
   ]
  },
  {
   "cell_type": "code",
   "execution_count": 99,
   "metadata": {},
   "outputs": [
    {
     "name": "stderr",
     "output_type": "stream",
     "text": [
      "/Users/gridgway/anaconda3/lib/python3.6/site-packages/ipykernel_launcher.py:4: RuntimeWarning: invalid value encountered in true_divide\n",
      "  after removing the cwd from sys.path.\n",
      "/Users/gridgway/anaconda3/lib/python3.6/site-packages/matplotlib/font_manager.py:1328: UserWarning: findfont: Font family ['serif'] not found. Falling back to DejaVu Sans\n",
      "  (prop.get_family(), self.defaultFamily[fontext]))\n",
      "/Users/gridgway/anaconda3/lib/python3.6/site-packages/matplotlib/font_manager.py:1328: UserWarning: findfont: Font family ['serif'] not found. Falling back to DejaVu Sans\n",
      "  (prop.get_family(), self.defaultFamily[fontext]))\n",
      "/Users/gridgway/anaconda3/lib/python3.6/site-packages/matplotlib/font_manager.py:1328: UserWarning: findfont: Font family ['serif'] not found. Falling back to DejaVu Sans\n",
      "  (prop.get_family(), self.defaultFamily[fontext]))\n",
      "/Users/gridgway/anaconda3/lib/python3.6/site-packages/matplotlib/font_manager.py:1328: UserWarning: findfont: Font family ['serif'] not found. Falling back to DejaVu Sans\n",
      "  (prop.get_family(), self.defaultFamily[fontext]))\n"
     ]
    },
    {
     "data": {
      "image/png": "[encoded data removed]",
      "text/plain": [
       "<Figure size 620x620 with 1 Axes>"
      ]
     },
     "metadata": {},
     "output_type": "display_data"
    }
   ],
   "source": [
    "plt.figure()\n",
    "ax = plt.gca()\n",
    "\n",
    "plt.plot(idl_redshift[1:], (f_DH_list[0][4]/f_idl_list[0][4]-1)[1:])\n",
    "plt.show()"
   ]
  },
  {
   "cell_type": "code",
   "execution_count": 32,
   "metadata": {},
   "outputs": [
    {
     "name": "stderr",
     "output_type": "stream",
     "text": [
      "/Users/gridgway/anaconda3/lib/python3.6/site-packages/matplotlib/font_manager.py:1328: UserWarning: findfont: Font family ['serif'] not found. Falling back to DejaVu Sans\n",
      "  (prop.get_family(), self.defaultFamily[fontext]))\n"
     ]
    },
    {
     "data": {
      "image/png": "[encoded data removed]",
      "text/plain": [
       "<Figure size 620x620 with 2 Axes>"
      ]
     },
     "metadata": {},
     "output_type": "display_data"
    }
   ],
   "source": [
    "# f_DH_tmp = np.swapaxes(f_DH_list[:,0],1,2)\n",
    "get_fcontour(f_DH_list, inj_type, inj_particle, 'heat')"
   ]
  },
  {
   "cell_type": "code",
   "execution_count": 23,
   "metadata": {},
   "outputs": [
    {
     "name": "stderr",
     "output_type": "stream",
     "text": [
      "/Users/gridgway/anaconda3/lib/python3.6/site-packages/matplotlib/font_manager.py:1328: UserWarning: findfont: Font family ['serif'] not found. Falling back to DejaVu Sans\n",
      "  (prop.get_family(), self.defaultFamily[fontext]))\n"
     ]
    },
    {
     "data": {
      "image/png": "[encoded data removed]",
      "text/plain": [
       "<Figure size 620x620 with 2 Axes>"
      ]
     },
     "metadata": {},
     "output_type": "display_data"
    }
   ],
   "source": [
    "get_fcontour(f_idl_list, inj_type, inj_particle, 'heat')"
   ]
  },
  {
   "cell_type": "markdown",
   "metadata": {},
   "source": [
    "# Plot f contours"
   ]
  },
  {
   "cell_type": "markdown",
   "metadata": {},
   "source": [
    "To see the level of discrepancy between the two data sets, is useful to plot the absolute residual difference between the two sets of f(z)'s.  We will find that we do better than 10% accuracy for essentially all of the data."
   ]
  },
  {
   "cell_type": "code",
   "execution_count": 46,
   "metadata": {},
   "outputs": [
    {
     "data": {
      "text/plain": [
       "array([-6.51155003e-02, -3.08760887e-01, -3.20762219e-01, ...,\n",
       "       -1.59637317e+02, -1.59638006e+02, -1.59638694e+02])"
      ]
     },
     "execution_count": 46,
     "metadata": {},
     "output_type": "execute_result"
    }
   ],
   "source": [
    "f_DH_data[0]['f']['low']['cont']"
   ]
  },
  {
   "cell_type": "code",
   "execution_count": 47,
   "metadata": {},
   "outputs": [
    {
     "data": {
      "text/plain": [
       "array([-0.06289229, -0.23419322, -0.18308384, ...,  0.0015697 ,\n",
       "        0.00156873,  0.00156776])"
      ]
     },
     "execution_count": 47,
     "metadata": {},
     "output_type": "execute_result"
    }
   ],
   "source": [
    "f_idl_list[0][4]"
   ]
  },
  {
   "cell_type": "code",
   "execution_count": 37,
   "metadata": {},
   "outputs": [],
   "source": [
    "def get_fdiff(inj_type, inj_particle, channel):\n",
    "    folder = inj_str+'_'+inj_type+'/'\n",
    "    f_DH_tmp = np.ones((40,6398))*1e-6\n",
    "    for k in np.arange(40):\n",
    "        f_DH_tmp[k] = f_DH_data[k]['f']['low'][channel]\n",
    "    \n",
    "    eng = 10**log10eng   \n",
    "\n",
    "    rs_list = np.array([3000*np.exp(-0.001*i) for i in np.arange(6398)])\n",
    "\n",
    "    ind = {'H ion' : 0, 'He ion' : 1, 'exc' : 2, 'heat' : 3, 'cont' : 4}[channel]\n",
    "    if ind < 2:\n",
    "        label = {'H ion' : 'H_{ion}', 'He ion' : 'He_{ion}'}[channel]\n",
    "    else:\n",
    "        label = channel\n",
    "    title = r'\\bf{$f_{'+label+'}$}'\n",
    "\n",
    "    plt.figure()\n",
    "    ax=plt.gca()\n",
    "    ax.loglog()\n",
    "    levels=[0,.01,.05,.1,.5]#,.2,.3,.4,.5,1]\n",
    "    \n",
    "    diffs = np.zeros_like(f_DH_tmp)\n",
    "    diffs = np.abs(\n",
    "        f_DH_tmp - f_idl_list[:,ind]\n",
    "    )/f_idl_list[:,ind]\n",
    "    \n",
    "    cs2 = ax.contourf(eng, rs_list, np.transpose(diffs), levels = levels,\n",
    "                     cmap=matplotlib.cm.RdBu_r)\n",
    "    cbar = plt.colorbar(cs2, ticks=levels)\n",
    "    \n",
    "    plt.title(title)\n",
    "    plt.ylabel(r'Redshift ($1+z$)')\n",
    "    plt.xlabel(r'Kinetic Energy [eV]')\n",
    "    plt.show()\n",
    "\n",
    "    plt.savefig(\n",
    "        '/Users/gridgway/Desktop/idl_comparisons/f'+inj_particle+'_'+inj_type+'_'+channel+'_IDLdiffs.png'\n",
    "    )\n",
    "    plt.show()\n",
    "\n",
    "#     plt.savefig(\n",
    "#         cwd+'/../../'+folder+'f'+inj_particle+'_'+inj_type+'_'+channel+'_IDLdiffs.png'\n",
    "#     )"
   ]
  },
  {
   "cell_type": "code",
   "execution_count": 43,
   "metadata": {},
   "outputs": [
    {
     "name": "stderr",
     "output_type": "stream",
     "text": [
      "/Users/gridgway/anaconda3/lib/python3.6/site-packages/ipykernel_launcher.py:26: RuntimeWarning: divide by zero encountered in true_divide\n",
      "/Users/gridgway/anaconda3/lib/python3.6/site-packages/matplotlib/font_manager.py:1328: UserWarning: findfont: Font family ['serif'] not found. Falling back to DejaVu Sans\n",
      "  (prop.get_family(), self.defaultFamily[fontext]))\n"
     ]
    },
    {
     "data": {
      "image/png": "[encoded data removed]",
      "text/plain": [
       "<Figure size 620x620 with 2 Axes>"
      ]
     },
     "metadata": {},
     "output_type": "display_data"
    },
    {
     "data": {
      "text/plain": [
       "<Figure size 620x620 with 0 Axes>"
      ]
     },
     "metadata": {},
     "output_type": "display_data"
    }
   ],
   "source": [
    "get_fdiff(inj_type, inj_str, 'cont')"
   ]
  },
  {
   "cell_type": "code",
   "execution_count": 84,
   "metadata": {
    "scrolled": true
   },
   "outputs": [
    {
     "name": "stdout",
     "output_type": "stream",
     "text": [
      "/Users/gridgway/Desktop/DM/DarkHistory/examples/../../elec_decay/felec_decay_H_ion_IDLdiffs.png\n"
     ]
    },
    {
     "data": {
      "image/png": "[encoded data removed]",
      "text/plain": [
       "<Figure size 720x720 with 2 Axes>"
      ]
     },
     "metadata": {},
     "output_type": "display_data"
    }
   ],
   "source": [
    "get_fdiff(inj_type, inj_str, 'H_ion')"
   ]
  },
  {
   "cell_type": "markdown",
   "metadata": {},
   "source": [
    "Remember to:\n",
    "\n",
    "    (1) Change back to DH parameters instead of IDL parameters (H0, etc.)\n",
    "    (2) sum over partial bins (in the low energy electron methods)\n",
    "    (3) off-by-one in the CMB subtraction"
   ]
  },
  {
   "cell_type": "markdown",
   "metadata": {},
   "source": [
    "# SCRATCHWORK and NOTES"
   ]
  },
  {
   "cell_type": "markdown",
   "metadata": {},
   "source": [
    "# Scratch"
   ]
  },
  {
   "cell_type": "code",
   "execution_count": 27,
   "metadata": {
    "collapsed": true
   },
   "outputs": [
    {
     "data": {
      "text/plain": [
       "<matplotlib.legend.Legend at 0x181e6dbcc0>"
      ]
     },
     "execution_count": 27,
     "metadata": {},
     "output_type": "execute_result"
    },
    {
     "data": {
      "image/png": "[encoded data removed]",
      "text/plain": [
       "<Figure size 720x720 with 1 Axes>"
      ]
     },
     "metadata": {},
     "output_type": "display_data"
    }
   ],
   "source": [
    "plt.figure()\n",
    "ax = plt.gca()\n",
    "ax.set_xscale('log')\n",
    "\n",
    "Eind=1\n",
    "ind=0\n",
    "\n",
    "plt.title('$log10E_{inj}$ = '+str(log10eng[Eind]))\n",
    "plt.plot(rs_list[10:-1], f_decay_elec[Eind,10:,ind], label='DH, Old Positronium')\n",
    "plt.plot(rs_list[10:-1], data_elec[6][10:,ind], label='DH, New Positronium')\n",
    "plt.plot(rs_list[10:-1], f_idl_list[Eind,ind,10:-1], label='IDL')\n",
    "\n",
    "# plt.plot(rs_list[10:-1], (f_decay_elec[Eind,10:,ind]-f_idl_list[Eind,ind,10:-1])/f_idl_list[Eind,ind,10:-1], label='DH')\n",
    "\n",
    "plt.ylabel(r'$f_{Hion}$')\n",
    "plt.xlabel(r'Redshift')\n",
    "\n",
    "plt.legend()\n",
    "\n",
    "# plt.savefig('/home/gridgway/Desktop/fHion_discrepancy')"
   ]
  },
  {
   "cell_type": "code",
   "execution_count": 825,
   "metadata": {
    "collapsed": true
   },
   "outputs": [
    {
     "data": {
      "text/plain": [
       "<matplotlib.legend.Legend at 0x18550d3f28>"
      ]
     },
     "execution_count": 825,
     "metadata": {},
     "output_type": "execute_result"
    },
    {
     "data": {
      "image/png": "[encoded data removed]",
      "text/plain": [
       "<Figure size 720x720 with 1 Axes>"
      ]
     },
     "metadata": {},
     "output_type": "display_data"
    }
   ],
   "source": [
    "f_decay_phot0 = pickle.load(open(\"/home/gridgway/Dropbox (MIT)/Photon Deposition/f_decay_phot.p\", \"rb\"))\n",
    "rs_list = [3000*np.exp(-.001*i) for i in np.arange(6397)]\n",
    "\n",
    "plt.figure()\n",
    "ax=plt.gca()\n",
    "# ax.loglog()\n",
    "plt.axis([-100,3100,0,.3])\n",
    "plt.title('8.5keV')\n",
    "\n",
    "\n",
    "plt.plot(data_phot0[3].rs[:-1], data_phot0[6][0][:,4], label='cmb subtracted highengphot tfs, low')\n",
    "# plt.plot(data_phot[3].rs[:-1], data_phot1[6][0][:,4], label='cmb subtracted lowengphot tfs, low')\n",
    "# plt.plot(rs_list, f_decay_phot[1,:,4], label='cmb subtracted highengphot tfs')\n",
    "# plt.plot(rs_list, f_decay_phot0[1,:,4], label='no cmb subtraction')\n",
    "plt.plot(rs_list, f_idl_list[1,4,:-1], label='IDL, off-by-one')\n",
    "\n",
    "\n",
    "\n",
    "# plt.plot(rs_list[10:], np.abs((f_idl_list[1,4,10:-1]-f_decay_phot[1,10:,4])/f_idl_list[1,4,10:-1]), label='IDL')\n",
    "# plt.plot(rs_list[10:], np.abs((f_idl_list[1,4,10:-1]-f_decay_phot0[1,10:,4])/f_idl_list[1,4,10:-1]), label='IDL')\n",
    "\n",
    "# plt.plot(data_phot[3].rs[:-1], data_phot[6][0][:,4]+data_phot[6][1][:,4], label='cmb subtracted highengphot tfs')\n",
    "\n",
    "# plt.plot(idl_redshift[1:len(entries)+1], idl_flist[:,4], label='IDL, low')\n",
    "\n",
    "# plt.plot(idl_redshift[:len(entries)], np.abs((idl_flist[:,4]-data_phot[6][0][:,4]-data_phot[6][1][:,4])/idl_flist[:,4]), label='IDL')\n",
    "\n",
    "plt.legend()\n",
    "\n",
    "# plt.savefig(\n",
    "#     '/home/gridgway/Desktop/f_cont_offbyone_error.png'\n",
    "# )"
   ]
  },
  {
   "cell_type": "code",
   "execution_count": 775,
   "metadata": {
    "scrolled": true
   },
   "outputs": [],
   "source": [
    "%autoreload\n",
    "#fs from idl run\n",
    "from darkhistory.low_energy.lowE_electrons import make_interpolator\n",
    "from darkhistory.low_energy import lowE_deposition as lowE_dep\n",
    "MEDEA_interp = make_interpolator()\n",
    "\n",
    "E_tmp=10**log10eng[1]\n",
    "entries=np.arange(4000)+1\n",
    "\n",
    "idl_flist = [\n",
    "    lowE_dep.compute_fs(\n",
    "        MEDEA_interp,\n",
    "        phot_spec=Spectrum(idl_energy, phot, rs=rs),\n",
    "        elec_spec=Spectrum(idl_eleceng, elec*0, rs=rs),\n",
    "        x = np.array([1-xe, 0, 0]),\n",
    "        dt = .001/hub,\n",
    "#         highengdep = highdep_interps.get_val(xe, rs)[indTmp],\n",
    "        highengdep = highdeposited*np.array([1,1,1,0]),\n",
    "        cmbloss = loss * hub/phys.hubble(rs*np.exp(.002)), #THIS factor of dt(z+2dz)/dt(z) compensates for IDL's off-by-one error\n",
    "#         dE_dVdt_inj = phys.inj_rate('decay', rs, mDM=E_tmp, tau=tau)*2\n",
    "        dE_dVdt_inj = 2*E_tmp*rate*phys.nB*rs**3\n",
    "    )\n",
    "    for xe, rs, phot, elec, loss, hub, rate, highdeposited in zip(data.field('hionfraction')[0][entries], \n",
    "                                   idl_redshift[entries],                            \n",
    "                                   idl_lowengphot[entries],\n",
    "                                   idl_lowengelec[entries],\n",
    "                                   idl_cmblosstable[entries-1],\n",
    "                                   data.field('hubblerate')[0][entries],\n",
    "                                   data.field('annrate')[0][entries],\n",
    "                                   np.transpose(idl_highengdep[:,entries]))]\n",
    "\n",
    "idl_flist=np.array(idl_flist)"
   ]
  },
  {
   "cell_type": "code",
   "execution_count": 142,
   "metadata": {},
   "outputs": [],
   "source": [
    "import multiprocessing  # the module we will be using for multiprocessing\n",
    "\n",
    "def work(number):\n",
    "    \"\"\"\n",
    "    Multiprocessing work\n",
    "    \n",
    "    Parameters\n",
    "    ----------\n",
    "    number : integer\n",
    "        unit of work number\n",
    "    \"\"\"\n",
    "    \n",
    "    print(\"Unit of work number %d\" % number)  # simply print the worker's number\n",
    "    \n",
    "def nonsense():\n",
    "    print(\"There are %d CPUs on this machine\" % multiprocessing.cpu_count())\n",
    "    number_processes = 1\n",
    "    pool = multiprocessing.Pool(number_processes)\n",
    "    total_tasks = 4\n",
    "    tasks = range(total_tasks)\n",
    "    results = pool.map_async(get_column, tasks)\n",
    "    print(results)\n",
    "    pool.close()\n",
    "    pool.join()"
   ]
  },
  {
   "cell_type": "code",
   "execution_count": 142,
   "metadata": {},
   "outputs": [],
   "source": [
    "import multiprocessing  # the module we will be using for multiprocessing\n",
    "\n",
    "def work(number):\n",
    "    \"\"\"\n",
    "    Multiprocessing work\n",
    "    \n",
    "    Parameters\n",
    "    ----------\n",
    "    number : integer\n",
    "        unit of work number\n",
    "    \"\"\"\n",
    "    \n",
    "    print(\"Unit of work number %d\" % number)  # simply print the worker's number\n",
    "    \n",
    "def nonsense():\n",
    "    print(\"There are %d CPUs on this machine\" % multiprocessing.cpu_count())\n",
    "    number_processes = 1\n",
    "    pool = multiprocessing.Pool(number_processes)\n",
    "    total_tasks = 4\n",
    "    tasks = range(total_tasks)\n",
    "    results = pool.map_async(get_column, tasks)\n",
    "    print(results)\n",
    "    pool.close()\n",
    "    pool.join()"
   ]
  },
  {
   "cell_type": "code",
   "execution_count": null,
   "metadata": {},
   "outputs": [],
   "source": []
  },
  {
   "cell_type": "code",
   "execution_count": 142,
   "metadata": {},
   "outputs": [],
   "source": [
    "import multiprocessing  # the module we will be using for multiprocessing\n",
    "\n",
    "def work(number):\n",
    "    \"\"\"\n",
    "    Multiprocessing work\n",
    "    \n",
    "    Parameters\n",
    "    ----------\n",
    "    number : integer\n",
    "        unit of work number\n",
    "    \"\"\"\n",
    "    \n",
    "    print(\"Unit of work number %d\" % number)  # simply print the worker's number\n",
    "    \n",
    "def nonsense():\n",
    "    print(\"There are %d CPUs on this machine\" % multiprocessing.cpu_count())\n",
    "    number_processes = 1\n",
    "    pool = multiprocessing.Pool(number_processes)\n",
    "    total_tasks = 4\n",
    "    tasks = range(total_tasks)\n",
    "    results = pool.map_async(get_column, tasks)\n",
    "    print(results)\n",
    "    pool.close()\n",
    "    pool.join()"
   ]
  },
  {
   "cell_type": "code",
   "execution_count": 4,
   "metadata": {},
   "outputs": [],
   "source": [
    "def get_fcontour(inj_type, inj_particle, channel):\n",
    "    if inj_particle is 'elec':\n",
    "        coarsen_factor = 16\n",
    "\n",
    "        if inj_type is 'decay':\n",
    "            f_for_plot = f_decay_elec.copy()\n",
    "            folder='elec_decay/'\n",
    "\n",
    "        elif inj_type is 'swave':\n",
    "            f_for_plot = f_swave_elec.copy()\n",
    "            folder='elec_swave/'\n",
    "    else:\n",
    "        coarsen_factor = 8\n",
    "\n",
    "        if inj_type is 'decay':\n",
    "            f_for_plot = f_decay_phot.copy()\n",
    "            folder='phot_decay/'\n",
    "\n",
    "        elif inj_type is 'swave':\n",
    "            f_for_plot = f_swave_phot.copy()\n",
    "            folder='phot_swave/'\n",
    "    \n",
    "    eng = 10**log10eng[:len(f_for_plot)]\n",
    "    rs_list = [3000*np.exp(-0.001*coarsen_factor*(i)) for i in np.arange(6400/coarsen_factor)]\n",
    "\n",
    "    if channel is 'H_ion':\n",
    "        ind=0\n",
    "        title = r'\\bf{$f_{H ion}$}'\n",
    "    elif channel is 'He_ion':\n",
    "        ind=1\n",
    "        title = r'\\bf{$f_{He ion}$}'\n",
    "    elif channel is 'exc':\n",
    "        ind=2\n",
    "        title = r'\\bf{$f_{exc}$}'\n",
    "    elif channel is 'heat':\n",
    "        ind=3\n",
    "        title = r'\\bf{$f_{heat}$}'\n",
    "    elif channel is 'cont':\n",
    "        ind=4\n",
    "        title = r'\\bf{$f_{cont}$}'\n",
    "\n",
    "    ax = plt.gca()\n",
    "    ax.set_xscale('log')\n",
    "    ax.set_yscale('log')\n",
    "\n",
    "    plt.axis([eng[0], 10**log10eng[-1], 5, 2e3])\n",
    "\n",
    "    levels = np.array([1e-5, 1e-4, 1e-3, 5e-3, 1e-2, 5e-2, 1e-1, 3e-1, 1e0])\n",
    "    if inj_type is 'decay':\n",
    "        if channel is 'He_ion':\n",
    "            if inj_particle is 'phot':\n",
    "                levels = np.array([1e-7, 1e-6, 1e-5, 1e-4, 5e-4, 1e-3, 5e-3, 1e-2, 4e-2])\n",
    "            else:\n",
    "                levels = np.array([1e-6, 1e-5, 5e-5, 1e-4, 5e-4, 1e-3, 5e-3, 1e-2, 4e-2])\n",
    "        elif channel is 'exc':\n",
    "            if inj_particle is 'phot':\n",
    "                levels = np.array([1e-5, 1e-4, 1e-3, 5e-3, 1e-2, 3e-2, 5e-2, 1e-1, 1e-0])\n",
    "            else:\n",
    "                levels = np.array([1e-4, 1e-3, 5e-3, 1e-2, 3e-2, 5e-2, 1e-1, 2e-1, 7e-1])\n",
    "        elif (channel is 'heat') or (channel is 'cont'):\n",
    "            if inj_particle is 'elec':\n",
    "                levels = np.array([1e-5, 1e-4, 1e-3, 1e-2, 5e-2, 1e-1, 3e-1, 5e-1, 1, 2])\n",
    "    elif inj_type is 'swave':\n",
    "        if channel is 'H_ion':\n",
    "            if inj_particle is 'phot':\n",
    "                levels = np.array([1e-3, 1e-2, 1e-1, 2e-1, 5e-1, 1, 5, 1e1, 5e1, 1e2])\n",
    "        elif channel is 'He_ion':\n",
    "            if inj_particle is 'phot':\n",
    "                levels = np.array([5e-5, 1e-4, 1e-3, 5e-3, 1e-2, 5e-2, 1e-1, 5e-1, 2])\n",
    "        elif channel is 'exc':\n",
    "            if inj_particle is 'phot':\n",
    "                levels = np.array([5e-3, 1e-2, 5e-2, 1e-1, 5e-1, 1, 5, 1e1, 1e2, 3e2])\n",
    "        elif channel is 'heat':\n",
    "            if inj_particle is 'phot':\n",
    "                levels = np.array([1e-3, 1e-2, 2e-2, 5e-2, 1e-1, 2e-1, 5e-1, 1, 5, 1e1, 3e1])\n",
    "        elif channel is 'cont':\n",
    "            if inj_particle is 'phot':\n",
    "                levels = np.array([1e-3, 1e-2, 2e-2, 5e-2, 1e-1, 5e-1, 1, 5, 1e1, 5e1, 1e2])\n",
    "\n",
    "                \n",
    "    f_for_plot[f_for_plot < levels[0]] = levels[0]*(1+.01)\n",
    "    f_for_plot[f_for_plot > levels[-1]] = levels[-1]*(1-.01)\n",
    "    \n",
    "    levels2 = np.exp(np.linspace(np.log(levels[0]),np.log(levels[-1]),100))\n",
    "    cs = ax.contourf(eng,rs_list,\n",
    "                     np.transpose(f_for_plot[:,:,ind]), \n",
    "#                      locator=matplotlib.ticker.LogLocator(), \n",
    "                     norm=matplotlib.colors.LogNorm(),\n",
    "                     levels=levels2,\n",
    "                     cmap=matplotlib.cm.RdBu_r)\n",
    "    ax.contour(eng,rs_list,\n",
    "               np.transpose(f_for_plot[:,:,ind]),  \n",
    "               levels=levels[1:-1],\n",
    "               colors='k',\n",
    "               alpha=.4\n",
    "              )\n",
    "\n",
    "    cbar = plt.colorbar(cs, ticks=levels)\n",
    "    cbar.ax.set_xticklabels(str(levels))\n",
    "\n",
    "    plt.title(title)\n",
    "    plt.ylabel(r'Redshift ($1+z$)')\n",
    "    plt.xlabel(r'Kinetic Energy [eV]')\n",
    "\n",
    "#     direc = '/Users/GregoryRidgway/Desktop/Dark Matter/DH_Data/'\n",
    "#     plt.savefig(\n",
    "#         direc+'f'+inj_particle+'_'+inj_type+'_'+channel+'_contour.pdf'\n",
    "#     )"
   ]
  },
  {
   "cell_type": "markdown",
   "metadata": {},
   "source": [
    "### Structure Formation"
   ]
  },
  {
   "cell_type": "code",
   "execution_count": null,
   "metadata": {},
   "outputs": [],
   "source": [
    "if inj_type == 'decay':\n",
    "    def struct_boost(rs):\n",
    "        return 1\n",
    "else:\n",
    "    struct_data = np.loadtxt(open(cwd+\"/../structure_formation_data/boost_Einasto_subs.txt\", \"rb\"))\n",
    "    log_struct_interp = interp1d(np.log(struct_data[:,0]), np.log(struct_data[:,1]))\n",
    "    def struct_boost(rs):\n",
    "        if rs<76:\n",
    "            return np.exp(log_struct_interp(np.log(rs)))\n",
    "        else:\n",
    "            return 1"
   ]
  },
  {
   "cell_type": "markdown",
   "metadata": {},
   "source": [
    "# electon troubleshooting"
   ]
  },
  {
   "cell_type": "code",
   "execution_count": 157,
   "metadata": {},
   "outputs": [],
   "source": [
    "Eind = 3\n",
    "Elabel = float_formatter(np.log10(10**log10eng[Eind]+mass),3)"
   ]
  },
  {
   "cell_type": "code",
   "execution_count": 158,
   "metadata": {},
   "outputs": [],
   "source": [
    "direc = cwd+'/../../ih_continuous_'+inj_str\n",
    "\n",
    "hdul = fits.open(\n",
    "    direc+'/IDL_runs/'\n",
    "    +'tf_z_3.000E+03_nstep_6398_logE_'+Elabel+'_xe_0.000E+00.fits'\n",
    ")\n",
    "    \n",
    "data = hdul[1].data\n",
    "\n",
    "idl_photonspectrum = data.field('photonspectrum')[0]\n",
    "idl_lowengphot = data.field('lowengphot')[0]\n",
    "idl_lowengelec = data.field('lowengelec')[0]\n",
    "idl_energy = data.field('energy')[0]\n",
    "idl_eleceng = data.field('eleceng')[0]\n",
    "idl_redshift = data.field('redshift')[0]\n",
    "idl_cmblosstable = data.field('cmblosstable')[0]\n",
    "idl_highengdep = data.field('highdeposited_grid')[0]\n",
    "\n",
    "idl_bin_width = np.diff(np.log(spectools.get_bin_bound(data.field('energy')[0]))) * idl_energy\n",
    "idl_elec_bin_width = np.diff(np.log(spectools.get_bin_bound(data.field('eleceng')[0]))) * idl_eleceng\n",
    "\n",
    "xe_idl = data.field('hionfraction')[0]\n",
    "xHe_idl = data.field('heionfraction')[0]\n",
    "\n",
    "hdul.close()\n",
    "\n",
    "xe_idl_func = interp1d(idl_redshift, xe_idl, bounds_error=False, fill_value=(xe_idl[-1], xe_idl[0]))\n",
    "xHe_idl_func = interp1d(idl_redshift, xHe_idl, bounds_error=False, fill_value=(xHe_idl[-1], xHe_idl[0]))"
   ]
  },
  {
   "cell_type": "code",
   "execution_count": 90,
   "metadata": {
    "scrolled": true
   },
   "outputs": [
    {
     "data": {
      "text/plain": [
       "[<matplotlib.lines.Line2D at 0x11e107390>]"
      ]
     },
     "execution_count": 90,
     "metadata": {},
     "output_type": "execute_result"
    },
    {
     "data": {
      "image/png": "[encoded data removed]",
      "text/plain": [
       "<Figure size 720x720 with 1 Axes>"
      ]
     },
     "metadata": {},
     "output_type": "display_data"
    }
   ],
   "source": [
    "rs_list = np.array([3000*np.exp(-0.001*i) for i in np.arange(6398)])\n",
    "\n",
    "tmp=3\n",
    "ind=0\n",
    "diffs = f_DH_list[:,0,:,ind]/f_idl_list[:,ind] - 1\n",
    "\n",
    "plt.figure()\n",
    "ax = plt.gca()\n",
    "ax.set_xscale('log')\n",
    "plt.plot(rs_list, diffs[tmp-2])\n",
    "plt.plot(rs_list, diffs[tmp-1])\n",
    "plt.plot(rs_list, diffs[tmp])\n",
    "plt.plot(rs_list, diffs[tmp+1])"
   ]
  },
  {
   "cell_type": "code",
   "execution_count": 170,
   "metadata": {},
   "outputs": [
    {
     "name": "stdout",
     "output_type": "stream",
     "text": [
      "rs:  3.0E+03\n"
     ]
    },
    {
     "name": "stderr",
     "output_type": "stream",
     "text": [
      "/Users/gridgway/anaconda3/lib/python3.6/site-packages/ipykernel_launcher.py:22: RuntimeWarning: invalid value encountered in true_divide\n"
     ]
    },
    {
     "data": {
      "text/plain": [
       "[<matplotlib.lines.Line2D at 0x12bcaa208>]"
      ]
     },
     "execution_count": 170,
     "metadata": {},
     "output_type": "execute_result"
    },
    {
     "data": {
      "image/png": "[encoded data removed]",
      "text/plain": [
       "<Figure size 720x720 with 1 Axes>"
      ]
     },
     "metadata": {},
     "output_type": "display_data"
    }
   ],
   "source": [
    "rsInd = 0\n",
    "rsLabel = float_formatter(idl_redshift[rsInd], 1)\n",
    "print(\"rs: \", rsLabel)\n",
    "\n",
    "# EInd = len(photeng[photeng<Einj])\n",
    "idl_spec = Spectrum(idl_energy,idl_photonspectrum[rsInd], spec_type='dNdE')\n",
    "plt.figure()\n",
    "ax = plt.gca()\n",
    "\n",
    "# ax.loglog()\n",
    "# ax.set_xlabel('$E$')\n",
    "# ax.set_ylabel('$dN/dE$')\n",
    "# plt.title('High Energy Photons, $1+z=$'+rsLabel[:1]+', $\\log 10(E_{inj}) = '+Elabel[:5]+'$')\n",
    "# plt.plot(photeng, idl_spec.N, label='IDL')\n",
    "# plt.plot(photeng, f_DH_data[Eind][2]._grid_vals[rsInd], label='DH')\n",
    "# plt.legend()\n",
    "\n",
    "ax.set_xscale('log')\n",
    "ax.set_xlabel('$E$')\n",
    "ax.set_ylabel('$1-$DH/IDL')\n",
    "plt.title('$\\log 10(E_{inj}) = '+Elabel[:5]+'$, $1+z=3000$')\n",
    "plt.plot(photeng, 1-f_DH_data[Eind][2]._grid_vals[rsInd]/idl_spec.N)\n",
    "\n",
    "# plt.savefig(\n",
    "#     cwd+'/../../../elec_dNdE_log10E_'+Elabel[:5]+'_rs3000.png'\n",
    "# )\n",
    "# plt.savefig(\n",
    "#     cwd+'/../../../elec_dNdE_log10E_10.607_rs3000.png'\n",
    "# )"
   ]
  }
 ],
 "metadata": {
  "kernelspec": {
   "display_name": "Python 3",
   "language": "python",
   "name": "python3"
  },
  "language_info": {
   "codemirror_mode": {
    "name": "ipython",
    "version": 3
   },
   "file_extension": ".py",
   "mimetype": "text/x-python",
   "name": "python",
   "nbconvert_exporter": "python",
   "pygments_lexer": "ipython3",
   "version": "3.6.5"
  },
  "toc": {
   "base_numbering": 1,
   "nav_menu": {},
   "number_sections": true,
   "sideBar": true,
   "skip_h1_title": false,
   "title_cell": "Table of Contents",
   "title_sidebar": "Contents",
   "toc_cell": false,
   "toc_position": {},
   "toc_section_display": true,
   "toc_window_display": false
  },
  "varInspector": {
   "cols": {
    "lenName": 16,
    "lenType": 16,
    "lenVar": 40
   },
   "kernels_config": {
    "python": {
     "delete_cmd_postfix": "",
     "delete_cmd_prefix": "del ",
     "library": "var_list.py",
     "varRefreshCmd": "print(var_dic_list())"
    },
    "r": {
     "delete_cmd_postfix": ") ",
     "delete_cmd_prefix": "rm(",
     "library": "var_list.r",
     "varRefreshCmd": "cat(var_dic_list()) "
    }
   },
   "types_to_exclude": [
    "module",
    "function",
    "builtin_function_or_method",
    "instance",
    "_Feature"
   ],
   "window_display": false
  }
 },
 "nbformat": 4,
 "nbformat_minor": 2
}
