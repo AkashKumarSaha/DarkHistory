{
 "cells": [
  {
   "cell_type": "markdown",
   "metadata": {},
   "source": [
    "Remember to:\n",
    "\n",
    "    (1) Change back to DH parameters instead of IDL parameters (H0, etc.)\n",
    "    (2) sum over partial bins (in the low energy electron methods)\n",
    "    (3) off-by-one in the CMB subtraction"
   ]
  },
  {
   "cell_type": "markdown",
   "metadata": {},
   "source": [
    "# Introduction"
   ]
  },
  {
   "cell_type": "markdown",
   "metadata": {},
   "source": [
    "In this example, we compare $f_c(z)$ as calculated by DarkHistory against that used in 1604.xxxx.  We are only able to do so if we change the parameters "
   ]
  },
  {
   "cell_type": "code",
   "execution_count": 1,
   "metadata": {},
   "outputs": [],
   "source": [
    "%load_ext autoreload\n",
    "import sys\n",
    "sys.path.append(\"..\")\n",
    "\n",
    "#Current Working Directory\n",
    "import os\n",
    "cwd = os.getcwd()\n",
    "\n",
    "from pathlib import Path\n",
    "\n",
    "def tabulate(x, y, f):\n",
    "    \"\"\"Return a table of f(x, y).\"\"\"\n",
    "    return np.vectorize(f)(*np.meshgrid(x, y, sparse=True))"
   ]
  },
  {
   "cell_type": "code",
   "execution_count": 2,
   "metadata": {},
   "outputs": [
    {
     "name": "stderr",
     "output_type": "stream",
     "text": [
      "/usr/local/lib/python3.7/site-packages/matplotlib/__init__.py:535: UserWarning: matplotlibrc text.usetex option can not be used unless TeX is installed on your system\n",
      "  warnings.warn('matplotlibrc text.usetex option can not be used unless '\n",
      "/usr/local/lib/python3.7/site-packages/matplotlib/__init__.py:543: UserWarning: matplotlibrc text.usetex can not be used with *Agg backend unless dvipng-1.6 or later is installed on your system\n",
      "  'your system' % dvipng_req)\n"
     ]
    }
   ],
   "source": [
    "%autoreload\n",
    "\n",
    "import matplotlib\n",
    "matplotlib.rc_file('matplotlibrc')\n",
    "import matplotlib.pyplot as plt\n",
    "\n",
    "%matplotlib inline\n",
    "\n",
    "matplotlib.rcParams['figure.figsize'] = [10,10]\n",
    "\n",
    "# SET THIS TO TRUE TO USE LATEX\n",
    "matplotlib.rcParams['text.usetex'] = False\n",
    "\n",
    "from astropy.io import fits\n",
    "\n",
    "import numpy as np\n",
    "import copy\n",
    "import pickle\n",
    "\n",
    "import darkhistory.physics as phys\n",
    "import darkhistory.utilities as utils\n",
    "import darkhistory.spec.spectools as spectools\n",
    "import darkhistory.spec.transferfunction as tf\n",
    "import darkhistory.spec.transferfunclist as tflist\n",
    "from darkhistory.spec.spectrum import Spectrum\n",
    "from darkhistory.spec.spectra import Spectra\n",
    "import darkhistory.history.tla as tla\n",
    "\n",
    "from scipy.interpolate import interp1d\n",
    "from scipy.interpolate import interp2d\n",
    "\n",
    "from tqdm import tqdm_notebook as tqdm\n",
    "\n",
    "from darkhistory.electrons.ics.ics_spectrum import ics_spec\n",
    "from darkhistory.electrons.ics.ics_engloss_spectrum import engloss_spec\n",
    "from darkhistory.electrons.ics.ics_cooling import get_ics_cooling_tf\n",
    "\n",
    "from darkhistory.low_energy.lowE_deposition import compute_fs\n",
    "import main\n",
    "\n",
    "from tqdm import tqdm_notebook as tqdm\n",
    "\n",
    "np.set_printoptions(threshold=np.nan)"
   ]
  },
  {
   "cell_type": "markdown",
   "metadata": {},
   "source": [
    "Now load the transfer functions.  \n",
    "\n",
    "If we set standard_tfs to True, we use transfer functions that follow the standard H and He ionization histories and only interpolate over rs (to generate these, download from erebus `/zfs/gridgway/transferfuncs/tf_pickled_standard_xe_and_xHe/*full_rs_no_interp.p`, and process it through Example9_TESTS.ipynb with standard_tfs set to True).  \n",
    "\n",
    "If False, we upload another set of transfer functions in addition to the one above and combine the two sets of transfer functions into one TransferFuncInterps object. The second set of tfs sets xHe=0 and xe (should be translated into xH) to 19 specified values that are interpolated over (to generate these, download `/zfs/gridgway/transferfuncs/tf_pickled_xHe0/*.p` [or is it ../tf_pickled_fine_xe_xHe0/*.p] and process it through Example9_TESTS.ipynb with standard_tfs set to False).\n",
    "\n",
    "(Interpolation over xHe soon to come)"
   ]
  },
  {
   "cell_type": "code",
   "execution_count": 3,
   "metadata": {},
   "outputs": [
    {
     "name": "stdout",
     "output_type": "stream",
     "text": [
      "Loading transfer functions...\n",
      "Loaded high energy photons...\n",
      "Low energy photons...\n",
      "Low energy electrons...\n",
      "high energy deposition.\n",
      "\n",
      "CMB losses.\n",
      "\n",
      "Padding tflists with zeros...\n",
      "high energy photons...\n",
      "low energy photons...\n",
      "low energy electrons...\n",
      "\n",
      "high energy deposition.\n",
      "\n",
      "CMB losses.\n",
      "\n",
      "Generating TransferFuncInterp objects for each tflist...\n",
      "noninterp\n",
      "noninterp\n",
      "noninterp\n",
      "noninterp\n",
      "noninterp\n",
      "Done.\n",
      "\n"
     ]
    }
   ],
   "source": [
    "%autoreload\n",
    "standard_tfs = True\n",
    "direc = '/Users/gregoryridgway/Desktop/DM/'\n",
    "\n",
    "# True if you would like to subtract the CMB off of the transfer functions?\n",
    "CMB_subtracted=False\n",
    "\n",
    "if not standard_tfs:\n",
    "    direc_arr = [direc+'tfs_xHe0/', direc+'tfs_standard_xe_xHe_full_rs/']\n",
    "    xes = np.array([\n",
    "        0.5 + 0.5*np.tanh([-5., -4.1, -3.2, -2.3, -1.8, -1.4, -1, -.8, -0.65, -0.5, -.24, 0, .2, 0.4, .7, 1.3, 2.2, 3.1, 4]),\n",
    "        None]\n",
    "    )\n",
    "    string_arr = [\"_xHe0\", \"_standard_xe_xHe_full_rs\"]\n",
    "    switching_rs = 1600\n",
    "else:\n",
    "    direc_arr = direc+'tfs_standard_xe_xHe_full_rs/'\n",
    "    xes = None\n",
    "    string_arr = [\"_standard_xe_xHe_full_rs\"]\n",
    "\n",
    "(highengphot_tf_interp,\n",
    "     lowengphot_tf_interp,\n",
    "     lowengelec_tf_interp,\n",
    "     highengdep_interp,\n",
    "     CMB_engloss_interp\n",
    "    ) = main.load_trans_funcs(direc_arr, xes, string_arr=string_arr, inverted=False, CMB_subtracted=CMB_subtracted)\n",
    "\n",
    "if not standard_tfs:\n",
    "    highengphot_tf_interp.rs_nodes[0] = switching_rs\n",
    "    lowengphot_tf_interp.rs_nodes[0]  = switching_rs\n",
    "    lowengelec_tf_interp.rs_nodes[0]  = switching_rs\n",
    "    highengdep_interp.rs_nodes[0]     = switching_rs\n",
    "    CMB_engloss_interp.rs_nodes[0]    = switching_rs\n",
    "    \n",
    "#     pickle.dump(highengphot_tf_interp, open(\"/home/gridgway/Desktop/DH_Data/highengphot_tf_interp.p\", \"wb\"))\n",
    "#     pickle.dump(lowengphot_tf_interp, open(\"/home/gridgway/Desktop/DH_Data/lowengphot_tf_interp.p\", \"wb\"))\n",
    "#     pickle.dump(lowengelec_tf_interp, open(\"/home/gridgway/Desktop/DH_Data/lowengelec_tf_interp.p\", \"wb\"))\n",
    "#     pickle.dump(highengdep_interp, open(\"/home/gridgway/Desktop/DH_Data/highengdep_interp.p\", \"wb\"))\n",
    "#     pickle.dump(CMB_engloss_interp, open(\"/home/gridgway/Desktop/DH_Data/CMB_engloss_interp.p\", \"wb\"))"
   ]
  },
  {
   "cell_type": "markdown",
   "metadata": {},
   "source": [
    "Downloading ICS transfer functions.  If they haven't been made and pickled already, make them."
   ]
  },
  {
   "cell_type": "code",
   "execution_count": 4,
   "metadata": {},
   "outputs": [],
   "source": [
    "direc = \"/Users/gregoryridgway/Desktop/DM/tfs_ics/\"\n",
    "ics_file = Path(direc+\"ics_thomson_ref_tf.p\")\n",
    "\n",
    "if ics_file.is_file():\n",
    "    ics_thomson_ref_tf = pickle.load(open(direc+\"ics_thomson_ref_tf.p\", \"rb\"))\n",
    "    ics_rel_ref_tf = pickle.load(open(direc+\"ics_rel_ref_tf.p\", \"rb\"))\n",
    "    engloss_ref_tf = pickle.load(open(direc+\"engloss_ref_tf.p\", \"rb\"))\n",
    "else:\n",
    "    ics_thomson_ref_tf, ics_rel_ref_tf, engloss_ref_tf = main.load_ics_data()\n",
    "    pickle.dump(ics_thomson_ref_tf, open(direc+\"ics_thomson_ref_tf.p\", \"wb\"))\n",
    "    pickle.dump(ics_rel_ref_tf, open(direc+\"ics_rel_ref_tf.p\", \"wb\"))\n",
    "    pickle.dump(engloss_ref_tf, open(direc+\"engloss_ref_tf.p\", \"wb\"))"
   ]
  },
  {
   "cell_type": "markdown",
   "metadata": {},
   "source": [
    "# Specify Model"
   ]
  },
  {
   "cell_type": "code",
   "execution_count": 5,
   "metadata": {},
   "outputs": [],
   "source": [
    "#Annihilation or decay?\n",
    "inj_type = 'decay'\n",
    "\n",
    "#Annihilate/Decay into\n",
    "inj_particle = 'photon'\n",
    "\n",
    "#Useful definitions\n",
    "if inj_particle == 'electron':\n",
    "    inj_str = 'elec'\n",
    "    mass = phys.me\n",
    "else:\n",
    "    inj_str = 'phot'\n",
    "    mass = 0"
   ]
  },
  {
   "cell_type": "markdown",
   "metadata": {},
   "source": [
    "# Load IDL Files"
   ]
  },
  {
   "cell_type": "markdown",
   "metadata": {},
   "source": [
    "Download the parameters used in the IDL files (file can be found at `erebus:/zfs/gridgway/transferfuncs/ih_continuous_phot/tf_z_3.000E+03_nstep_6398_logE_1.021E+01_xe_0.000E+00.fits`)"
   ]
  },
  {
   "cell_type": "code",
   "execution_count": 6,
   "metadata": {},
   "outputs": [],
   "source": [
    "direc = '/Users/gregoryridgway/Desktop/DM/ih_continuous_'+inj_str+'/IDL_runs/'\n",
    "\n",
    "hdul = fits.open(\n",
    "    direc\n",
    "    +'tf_z_3.000E+03_nstep_6398_logE_1.021E+01_xe_0.000E+00.fits'\n",
    ")\n",
    "    \n",
    "data = hdul[1].data\n",
    "\n",
    "idl_photonspectrum = data.field('photonspectrum')[0]\n",
    "idl_lowengphot = data.field('lowengphot')[0]\n",
    "idl_lowengelec = data.field('lowengelec')[0]\n",
    "idl_energy = data.field('energy')[0]\n",
    "idl_eleceng = data.field('eleceng')[0]\n",
    "idl_redshift = data.field('redshift')[0]\n",
    "idl_cmblosstable = data.field('cmblosstable')[0]\n",
    "idl_highengdep = data.field('highdeposited_grid')[0]\n",
    "\n",
    "idl_bin_width = np.diff(np.log(spectools.get_bin_bound(data.field('energy')[0]))) * idl_energy\n",
    "idl_elec_bin_width = np.diff(np.log(spectools.get_bin_bound(data.field('eleceng')[0]))) * idl_eleceng\n",
    "\n",
    "xe_idl = data.field('hionfraction')[0]\n",
    "xHe_idl = data.field('heionfraction')[0]\n",
    "\n",
    "hdul.close()\n",
    "\n",
    "xe_idl_func = interp1d(idl_redshift, xe_idl, bounds_error=False, fill_value=(xe_idl[-1], xe_idl[0]))\n",
    "xHe_idl_func = interp1d(idl_redshift, xHe_idl, bounds_error=False, fill_value=(xHe_idl[-1], xHe_idl[0]))"
   ]
  },
  {
   "cell_type": "markdown",
   "metadata": {},
   "source": [
    "The input energies used in the contour plots in the 2016 paper"
   ]
  },
  {
   "cell_type": "code",
   "execution_count": 9,
   "metadata": {},
   "outputs": [],
   "source": [
    "log10eng0 = 3.6989700794219966\n",
    "log10eng = np.array([log10eng0 + 0.23252559*i for i in np.arange(40)])\n",
    "log10eng[-1] = np.log10(highengphot_tf_interp.eng[-1])*.99"
   ]
  },
  {
   "cell_type": "markdown",
   "metadata": {},
   "source": [
    "Download the f(z)'s generated from IDL (can be found in `erebus:/zfs/gridgway/transferfuncs/ih_continuous_elec_v2/` for electrons and `erebus:/zfs/gridgway/transferfuncs/ih_continuous_elec_v2/` for photons)"
   ]
  },
  {
   "cell_type": "code",
   "execution_count": 25,
   "metadata": {},
   "outputs": [],
   "source": [
    "direc = '/Users/gregoryridgway/Desktop/DM/ih_continuous_'+inj_str+'/IDL_fracs/'\n",
    "\n",
    "eng = log10eng\n",
    "\n",
    "float_formatter = lambda x,n: (\"{:.\"+str(n)+\"E}\").format(x,n)\n",
    "\n",
    "rs_list = [3000*np.exp(-0.001*i) for i in np.arange(6398)]\n",
    "f_idl_list = np.zeros((len(eng),5,6398))\n",
    "for i, en in enumerate(eng):\n",
    "#     print(en)\n",
    "    hdul = fits.open(\n",
    "        direc+'calcfracs_tf_z_3.000E+03_nstep_6398_logE_'\n",
    "        +float_formatter(np.log10(10**en+mass), 3)+'_xe_0.000E+00.fits'\n",
    "    )\n",
    "\n",
    "    data = hdul[1].data\n",
    "\n",
    "    f_idl_low  = data.field('loweng_deposition_fractions')[0]\n",
    "    f_idl_high = data.field('higheng_deposition_fractions')[0]\n",
    "    idl_redshift     = data.field('redshift')[0]\n",
    "\n",
    "    f_idl_list[i,:] = f_idl_low + f_idl_high\n",
    "#     f_idl_list[i,:] = f_idl_low\n",
    "\n",
    "    hdul.close()"
   ]
  },
  {
   "cell_type": "markdown",
   "metadata": {},
   "source": [
    "If the DH f(z) grid has already been calculated, load that, too."
   ]
  },
  {
   "cell_type": "code",
   "execution_count": 9,
   "metadata": {},
   "outputs": [],
   "source": [
    "direc = '/Users/gregoryridgway/Desktop/'\n",
    "\n",
    "DH_file = Path(direc+'f_decay_'+inj_str+'.p')\n",
    "if DH_file.is_file():\n",
    "    f_DH_list = pickle.load(open(direc+'f_decay_'+inj_str+'.p', \"rb\"))\n",
    "else:\n",
    "    print('You haven\\'t generated the DH f(z)\\'s yet')"
   ]
  },
  {
   "cell_type": "code",
   "execution_count": 11,
   "metadata": {},
   "outputs": [
    {
     "data": {
      "text/plain": [
       "<matplotlib.legend.Legend at 0x12c3ba518>"
      ]
     },
     "execution_count": 11,
     "metadata": {},
     "output_type": "execute_result"
    },
    {
     "data": {
      "image/png": "[encoded data removed]",
      "text/plain": [
       "<Figure size 432x288 with 1 Axes>"
      ]
     },
     "metadata": {
      "needs_background": "light"
     },
     "output_type": "display_data"
    },
    {
     "data": {
      "image/png": "[encoded data removed]",
      "text/plain": [
       "<Figure size 432x288 with 1 Axes>"
      ]
     },
     "metadata": {
      "needs_background": "light"
     },
     "output_type": "display_data"
    }
   ],
   "source": [
    "ind = 20\n",
    "plt.figure()\n",
    "ax = plt.gca()\n",
    "ax.set_xscale('log')\n",
    "\n",
    "plt.plot(idl_redshift[:-1], (f_DH_list[ind,:,0]-f_idl_list[ind,0,:-1])/f_idl_list[ind,0,:-1])\n",
    "\n",
    "plt.figure()\n",
    "ax = plt.gca()\n",
    "ax.set_xscale('log')\n",
    "plt.plot(idl_redshift, xe_idl, label='xH')\n",
    "plt.plot(idl_redshift, xHe_idl, label='xHe')\n",
    "plt.legend()"
   ]
  },
  {
   "cell_type": "markdown",
   "metadata": {},
   "source": [
    "# Compute DH f(z)'s"
   ]
  },
  {
   "cell_type": "markdown",
   "metadata": {},
   "source": [
    "structure formation and useful definitions"
   ]
  },
  {
   "cell_type": "code",
   "execution_count": 20,
   "metadata": {},
   "outputs": [],
   "source": [
    "tau=.5e25\n",
    "sigmav = 3e-27\n",
    "\n",
    "if inj_type == 'decay':\n",
    "    def struct_boost(rs):\n",
    "        return 1\n",
    "else:\n",
    "    struct_data = np.loadtxt(open(cwd+\"/../structure_formation_data/boost_Einasto_subs.txt\", \"rb\"))\n",
    "    log_struct_interp = interp1d(np.log(struct_data[:,0]), np.log(struct_data[:,1]))\n",
    "    def struct_boost(rs):\n",
    "        if rs<76:\n",
    "            return np.exp(log_struct_interp(np.log(rs)))\n",
    "        else:\n",
    "            return 1 \n",
    "\n",
    "photeng = highengphot_tf_interp.eng\n",
    "eleceng = lowengelec_tf_interp.eng"
   ]
  },
  {
   "cell_type": "code",
   "execution_count": 36,
   "metadata": {},
   "outputs": [],
   "source": [
    "%autoreload\n",
    "\n",
    "def get_column(i, f_DH_list, inj_particle='electron', inj_type='decay', end_rs=5):\n",
    "    \"\"\" inj_type = 'swave' has not been worked out yet\n",
    "    \"\"\"\n",
    "    #injection energy, DM mass, center-of-mass energy\n",
    "    Einj = 10**log10eng[i]\n",
    "    mDM = 2*Einj + 2*mass\n",
    "    Ecom=mDM\n",
    "    \n",
    "    def rate_func_N(rs):\n",
    "        return phys.inj_rate(inj_type, rs, mDM=mDM, sigmav=sigmav, tau=tau)*struct_boost(rs)/Ecom\n",
    "    def rate_func_eng(rs):\n",
    "        return phys.inj_rate(inj_type, rs, mDM=mDM, sigmav=sigmav, tau=tau)*struct_boost(rs)\n",
    "    \n",
    "    if inj_type == 'swave':\n",
    "        mDM = mDM/2\n",
    "        Ecom = 2*mDM   \n",
    "    \n",
    "    if inj_particle == 'electron':\n",
    "        Etmp = eleceng[eleceng < Einj][-1]\n",
    "        elec_spec_init = spectools.rebin_N_arr(\n",
    "            np.array([2*Einj/Etmp]),\n",
    "            np.array([Etmp]),\n",
    "            eleceng\n",
    "        )\n",
    "        elec_spec_init.rs = 3000\n",
    "        elec_spec_init.switch_spec_type()\n",
    "        \n",
    "        phot_spec_init = Spectrum(photeng,\n",
    "                                 np.zeros_like(photeng),\n",
    "                                 spec_type='N',\n",
    "                                 rs=3000)\n",
    "    else:\n",
    "        Etmp = photeng[photeng < Einj][-1]\n",
    "        phot_spec_init = spectools.rebin_N_arr(\n",
    "            np.array([2*Einj/Etmp]),\n",
    "            np.array([Etmp]),\n",
    "            photeng\n",
    "        )\n",
    "        phot_spec_init.rs = 3000\n",
    "        phot_spec_init.switch_spec_type()\n",
    "        \n",
    "        elec_spec_init = Spectrum(eleceng,\n",
    "                                 np.zeros_like(eleceng),\n",
    "                                 spec_type='N',\n",
    "                                 rs=3000)\n",
    "\n",
    "    f_DH_list[i] = main.evolve(\n",
    "        elec_spec_init, phot_spec_init,\n",
    "        rate_func_N, rate_func_eng, end_rs,\n",
    "        highengphot_tf_interp, lowengphot_tf_interp, lowengelec_tf_interp,\n",
    "        highengdep_interp, CMB_engloss_interp,\n",
    "        ics_thomson_ref_tf, ics_rel_ref_tf, engloss_ref_tf,\n",
    "        coarsen_factor=1, std_soln=True,\n",
    "        reion_switch=False,\n",
    "        struct_boost=None,\n",
    "        ics_only=False, separate_higheng=False, CMB_subtracted=CMB_subtracted,\n",
    "        xH_func=xe_idl_func, xHe_func=xHe_idl_func, user=None, verbose=False, \n",
    "        use_tqdm=True\n",
    "    )"
   ]
  },
  {
   "cell_type": "code",
   "execution_count": 52,
   "metadata": {
    "scrolled": true
   },
   "outputs": [
    {
     "data": {
      "application/vnd.jupyter.widget-view+json": {
       "model_id": "4b8f2f01fae94640b2cab9f993acd177",
       "version_major": 2,
       "version_minor": 0
      },
      "text/plain": [
       "HBox(children=(IntProgress(value=0, max=40), HTML(value='')))"
      ]
     },
     "metadata": {},
     "output_type": "display_data"
    },
    {
     "data": {
      "application/vnd.jupyter.widget-view+json": {
       "model_id": "3b2a4a37479344cb86e9ff910d182dbf",
       "version_major": 2,
       "version_minor": 0
      },
      "text/plain": [
       "HBox(children=(IntProgress(value=0, max=17), HTML(value='')))"
      ]
     },
     "metadata": {},
     "output_type": "display_data"
    },
    {
     "data": {
      "application/vnd.jupyter.widget-view+json": {
       "model_id": "c3ff27ec401143a0a0ff7963721e82b7",
       "version_major": 2,
       "version_minor": 0
      },
      "text/plain": [
       "HBox(children=(IntProgress(value=0, max=17), HTML(value='')))"
      ]
     },
     "metadata": {},
     "output_type": "display_data"
    },
    {
     "data": {
      "application/vnd.jupyter.widget-view+json": {
       "model_id": "207f822fdfd14470a816fb24184aa079",
       "version_major": 2,
       "version_minor": 0
      },
      "text/plain": [
       "HBox(children=(IntProgress(value=0, max=17), HTML(value='')))"
      ]
     },
     "metadata": {},
     "output_type": "display_data"
    },
    {
     "data": {
      "application/vnd.jupyter.widget-view+json": {
       "model_id": "a3657cf75faf4d7da705de5f5b597055",
       "version_major": 2,
       "version_minor": 0
      },
      "text/plain": [
       "HBox(children=(IntProgress(value=0, max=17), HTML(value='')))"
      ]
     },
     "metadata": {},
     "output_type": "display_data"
    },
    {
     "data": {
      "application/vnd.jupyter.widget-view+json": {
       "model_id": "9e5de669333f445a85f53155081143a5",
       "version_major": 2,
       "version_minor": 0
      },
      "text/plain": [
       "HBox(children=(IntProgress(value=0, max=17), HTML(value='')))"
      ]
     },
     "metadata": {},
     "output_type": "display_data"
    },
    {
     "data": {
      "application/vnd.jupyter.widget-view+json": {
       "model_id": "70038163bfe9436799e16b7c087ce089",
       "version_major": 2,
       "version_minor": 0
      },
      "text/plain": [
       "HBox(children=(IntProgress(value=0, max=17), HTML(value='')))"
      ]
     },
     "metadata": {},
     "output_type": "display_data"
    },
    {
     "data": {
      "application/vnd.jupyter.widget-view+json": {
       "model_id": "295b81ae44fb4b40b68183cace75ffe0",
       "version_major": 2,
       "version_minor": 0
      },
      "text/plain": [
       "HBox(children=(IntProgress(value=0, max=17), HTML(value='')))"
      ]
     },
     "metadata": {},
     "output_type": "display_data"
    },
    {
     "data": {
      "application/vnd.jupyter.widget-view+json": {
       "model_id": "152510c0fb394d5d9a4e07141faff522",
       "version_major": 2,
       "version_minor": 0
      },
      "text/plain": [
       "HBox(children=(IntProgress(value=0, max=17), HTML(value='')))"
      ]
     },
     "metadata": {},
     "output_type": "display_data"
    },
    {
     "data": {
      "application/vnd.jupyter.widget-view+json": {
       "model_id": "23409e6cac1248d18041bce91e549813",
       "version_major": 2,
       "version_minor": 0
      },
      "text/plain": [
       "HBox(children=(IntProgress(value=0, max=17), HTML(value='')))"
      ]
     },
     "metadata": {},
     "output_type": "display_data"
    },
    {
     "data": {
      "application/vnd.jupyter.widget-view+json": {
       "model_id": "326c001a2e1b4ebe87d59b3886297098",
       "version_major": 2,
       "version_minor": 0
      },
      "text/plain": [
       "HBox(children=(IntProgress(value=0, max=17), HTML(value='')))"
      ]
     },
     "metadata": {},
     "output_type": "display_data"
    },
    {
     "data": {
      "application/vnd.jupyter.widget-view+json": {
       "model_id": "36fcff7da11d49b68568dbd1f23007da",
       "version_major": 2,
       "version_minor": 0
      },
      "text/plain": [
       "HBox(children=(IntProgress(value=0, max=17), HTML(value='')))"
      ]
     },
     "metadata": {},
     "output_type": "display_data"
    },
    {
     "data": {
      "application/vnd.jupyter.widget-view+json": {
       "model_id": "0d93af1f83fd41749433ae043581d93d",
       "version_major": 2,
       "version_minor": 0
      },
      "text/plain": [
       "HBox(children=(IntProgress(value=0, max=17), HTML(value='')))"
      ]
     },
     "metadata": {},
     "output_type": "display_data"
    },
    {
     "data": {
      "application/vnd.jupyter.widget-view+json": {
       "model_id": "b1a26de0ad534729a2996ae6edd974a5",
       "version_major": 2,
       "version_minor": 0
      },
      "text/plain": [
       "HBox(children=(IntProgress(value=0, max=17), HTML(value='')))"
      ]
     },
     "metadata": {},
     "output_type": "display_data"
    },
    {
     "data": {
      "application/vnd.jupyter.widget-view+json": {
       "model_id": "1808774131094652b9bfb6b3b7aa2d6a",
       "version_major": 2,
       "version_minor": 0
      },
      "text/plain": [
       "HBox(children=(IntProgress(value=0, max=17), HTML(value='')))"
      ]
     },
     "metadata": {},
     "output_type": "display_data"
    },
    {
     "data": {
      "application/vnd.jupyter.widget-view+json": {
       "model_id": "c6975d3c907145bda247403003d7d8ee",
       "version_major": 2,
       "version_minor": 0
      },
      "text/plain": [
       "HBox(children=(IntProgress(value=0, max=17), HTML(value='')))"
      ]
     },
     "metadata": {},
     "output_type": "display_data"
    },
    {
     "data": {
      "application/vnd.jupyter.widget-view+json": {
       "model_id": "986bcb3f918e42d9a1774d1684eecbd6",
       "version_major": 2,
       "version_minor": 0
      },
      "text/plain": [
       "HBox(children=(IntProgress(value=0, max=17), HTML(value='')))"
      ]
     },
     "metadata": {},
     "output_type": "display_data"
    },
    {
     "data": {
      "application/vnd.jupyter.widget-view+json": {
       "model_id": "e824b84d8cf34e64a2c755fa1e97d984",
       "version_major": 2,
       "version_minor": 0
      },
      "text/plain": [
       "HBox(children=(IntProgress(value=0, max=17), HTML(value='')))"
      ]
     },
     "metadata": {},
     "output_type": "display_data"
    },
    {
     "data": {
      "application/vnd.jupyter.widget-view+json": {
       "model_id": "2e772e8ce5c441989fcc0a2a528db2d6",
       "version_major": 2,
       "version_minor": 0
      },
      "text/plain": [
       "HBox(children=(IntProgress(value=0, max=17), HTML(value='')))"
      ]
     },
     "metadata": {},
     "output_type": "display_data"
    },
    {
     "data": {
      "application/vnd.jupyter.widget-view+json": {
       "model_id": "7dc33a53e50c4186afdf756540a42d91",
       "version_major": 2,
       "version_minor": 0
      },
      "text/plain": [
       "HBox(children=(IntProgress(value=0, max=17), HTML(value='')))"
      ]
     },
     "metadata": {},
     "output_type": "display_data"
    },
    {
     "data": {
      "application/vnd.jupyter.widget-view+json": {
       "model_id": "67eab7f98d314a14a2da19036b71cb6a",
       "version_major": 2,
       "version_minor": 0
      },
      "text/plain": [
       "HBox(children=(IntProgress(value=0, max=17), HTML(value='')))"
      ]
     },
     "metadata": {},
     "output_type": "display_data"
    },
    {
     "data": {
      "application/vnd.jupyter.widget-view+json": {
       "model_id": "95d1c3421811446492014465da8519db",
       "version_major": 2,
       "version_minor": 0
      },
      "text/plain": [
       "HBox(children=(IntProgress(value=0, max=17), HTML(value='')))"
      ]
     },
     "metadata": {},
     "output_type": "display_data"
    },
    {
     "data": {
      "application/vnd.jupyter.widget-view+json": {
       "model_id": "78dbf729e3124ca48edb7a39d0d04430",
       "version_major": 2,
       "version_minor": 0
      },
      "text/plain": [
       "HBox(children=(IntProgress(value=0, max=17), HTML(value='')))"
      ]
     },
     "metadata": {},
     "output_type": "display_data"
    },
    {
     "data": {
      "application/vnd.jupyter.widget-view+json": {
       "model_id": "a43c1dd20efa4db08130db916fe06c0c",
       "version_major": 2,
       "version_minor": 0
      },
      "text/plain": [
       "HBox(children=(IntProgress(value=0, max=17), HTML(value='')))"
      ]
     },
     "metadata": {},
     "output_type": "display_data"
    },
    {
     "data": {
      "application/vnd.jupyter.widget-view+json": {
       "model_id": "3f93aa3a93af4de886f3c57b2a14ccf2",
       "version_major": 2,
       "version_minor": 0
      },
      "text/plain": [
       "HBox(children=(IntProgress(value=0, max=17), HTML(value='')))"
      ]
     },
     "metadata": {},
     "output_type": "display_data"
    },
    {
     "data": {
      "application/vnd.jupyter.widget-view+json": {
       "model_id": "1680c883d40341fb9b221e50c970feed",
       "version_major": 2,
       "version_minor": 0
      },
      "text/plain": [
       "HBox(children=(IntProgress(value=0, max=17), HTML(value='')))"
      ]
     },
     "metadata": {},
     "output_type": "display_data"
    },
    {
     "data": {
      "application/vnd.jupyter.widget-view+json": {
       "model_id": "96e3875efabe4976b7f544259a041fbb",
       "version_major": 2,
       "version_minor": 0
      },
      "text/plain": [
       "HBox(children=(IntProgress(value=0, max=17), HTML(value='')))"
      ]
     },
     "metadata": {},
     "output_type": "display_data"
    },
    {
     "data": {
      "application/vnd.jupyter.widget-view+json": {
       "model_id": "968396a5e6534294ac76eb40f3013cd4",
       "version_major": 2,
       "version_minor": 0
      },
      "text/plain": [
       "HBox(children=(IntProgress(value=0, max=17), HTML(value='')))"
      ]
     },
     "metadata": {},
     "output_type": "display_data"
    },
    {
     "data": {
      "application/vnd.jupyter.widget-view+json": {
       "model_id": "c51edcc2460a4d4abc242b9ef4389803",
       "version_major": 2,
       "version_minor": 0
      },
      "text/plain": [
       "HBox(children=(IntProgress(value=0, max=17), HTML(value='')))"
      ]
     },
     "metadata": {},
     "output_type": "display_data"
    },
    {
     "data": {
      "application/vnd.jupyter.widget-view+json": {
       "model_id": "59d4e7f65c51462f9df0343e460117e3",
       "version_major": 2,
       "version_minor": 0
      },
      "text/plain": [
       "HBox(children=(IntProgress(value=0, max=17), HTML(value='')))"
      ]
     },
     "metadata": {},
     "output_type": "display_data"
    },
    {
     "data": {
      "application/vnd.jupyter.widget-view+json": {
       "model_id": "5a13b1dee167430ca936c64948ff90cb",
       "version_major": 2,
       "version_minor": 0
      },
      "text/plain": [
       "HBox(children=(IntProgress(value=0, max=17), HTML(value='')))"
      ]
     },
     "metadata": {},
     "output_type": "display_data"
    },
    {
     "data": {
      "application/vnd.jupyter.widget-view+json": {
       "model_id": "711356e4420a4bf98f15b80477dae584",
       "version_major": 2,
       "version_minor": 0
      },
      "text/plain": [
       "HBox(children=(IntProgress(value=0, max=17), HTML(value='')))"
      ]
     },
     "metadata": {},
     "output_type": "display_data"
    },
    {
     "data": {
      "application/vnd.jupyter.widget-view+json": {
       "model_id": "a4a7ec3b80ba481e89205c93e6c60508",
       "version_major": 2,
       "version_minor": 0
      },
      "text/plain": [
       "HBox(children=(IntProgress(value=0, max=17), HTML(value='')))"
      ]
     },
     "metadata": {},
     "output_type": "display_data"
    },
    {
     "data": {
      "application/vnd.jupyter.widget-view+json": {
       "model_id": "284b169dcc2a4d5c8ee4f72bde9bd1cc",
       "version_major": 2,
       "version_minor": 0
      },
      "text/plain": [
       "HBox(children=(IntProgress(value=0, max=17), HTML(value='')))"
      ]
     },
     "metadata": {},
     "output_type": "display_data"
    },
    {
     "data": {
      "application/vnd.jupyter.widget-view+json": {
       "model_id": "7903e5916e514a24aab559104032d1fc",
       "version_major": 2,
       "version_minor": 0
      },
      "text/plain": [
       "HBox(children=(IntProgress(value=0, max=17), HTML(value='')))"
      ]
     },
     "metadata": {},
     "output_type": "display_data"
    },
    {
     "data": {
      "application/vnd.jupyter.widget-view+json": {
       "model_id": "8217837aa72b4c7aa421549736cd2b96",
       "version_major": 2,
       "version_minor": 0
      },
      "text/plain": [
       "HBox(children=(IntProgress(value=0, max=17), HTML(value='')))"
      ]
     },
     "metadata": {},
     "output_type": "display_data"
    },
    {
     "data": {
      "application/vnd.jupyter.widget-view+json": {
       "model_id": "c028403cf9354b579ad51dc371cccca8",
       "version_major": 2,
       "version_minor": 0
      },
      "text/plain": [
       "HBox(children=(IntProgress(value=0, max=17), HTML(value='')))"
      ]
     },
     "metadata": {},
     "output_type": "display_data"
    },
    {
     "data": {
      "application/vnd.jupyter.widget-view+json": {
       "model_id": "2312f7789b5f4f1dbc2e377c2c7c21ea",
       "version_major": 2,
       "version_minor": 0
      },
      "text/plain": [
       "HBox(children=(IntProgress(value=0, max=17), HTML(value='')))"
      ]
     },
     "metadata": {},
     "output_type": "display_data"
    },
    {
     "data": {
      "application/vnd.jupyter.widget-view+json": {
       "model_id": "c6d5ed2ec26c4fcab9ed124c0d236d21",
       "version_major": 2,
       "version_minor": 0
      },
      "text/plain": [
       "HBox(children=(IntProgress(value=0, max=17), HTML(value='')))"
      ]
     },
     "metadata": {},
     "output_type": "display_data"
    },
    {
     "data": {
      "application/vnd.jupyter.widget-view+json": {
       "model_id": "94e74268dbb248d7b0d91615c2f206a7",
       "version_major": 2,
       "version_minor": 0
      },
      "text/plain": [
       "HBox(children=(IntProgress(value=0, max=17), HTML(value='')))"
      ]
     },
     "metadata": {},
     "output_type": "display_data"
    },
    {
     "data": {
      "application/vnd.jupyter.widget-view+json": {
       "model_id": "730dd1e2af2247209e1ecd2e184b93b3",
       "version_major": 2,
       "version_minor": 0
      },
      "text/plain": [
       "HBox(children=(IntProgress(value=0, max=17), HTML(value='')))"
      ]
     },
     "metadata": {},
     "output_type": "display_data"
    },
    {
     "name": "stdout",
     "output_type": "stream",
     "text": [
      "\n"
     ]
    }
   ],
   "source": [
    "f_DH_data = [None for i in np.arange(40)]\n",
    "\n",
    "for k in tqdm(np.arange(40)):\n",
    "    get_column(k, f_DH_data, inj_particle=inj_particle, inj_type=inj_type, end_rs=4.999)\n",
    "    \n",
    "f_DH_list = np.array([\n",
    "    f_DH[6] for f_DH in f_DH_data\n",
    "])"
   ]
  },
  {
   "cell_type": "markdown",
   "metadata": {},
   "source": [
    "# Plot f contours"
   ]
  },
  {
   "cell_type": "code",
   "execution_count": 76,
   "metadata": {},
   "outputs": [],
   "source": [
    "def get_fdiff(inj_type, inj_particle, channel):\n",
    "    folder = inj_str+'_'+inj_type+'/'\n",
    "    \n",
    "    eng = 10**log10eng   \n",
    "#     tmp = np.concatenate([np.arange(20), np.array([21,22,23,24,26,27,28,29,32,33,34,36,37,38,39])])\n",
    "    tmp=np.arange(40)\n",
    "\n",
    "    rs_list = [3000*np.exp(-0.001*i) for i in np.arange(6397)]\n",
    "\n",
    "    ind = {'H_ion' : 0, 'He_ion' : 1, 'exc' : 2, 'heat' : 3, 'cont' : 4}[channel]\n",
    "#     title = r'\\bf{$f_{H ion}$}'\n",
    "    title = channel\n",
    "\n",
    "    plt.figure()\n",
    "    ax=plt.gca()\n",
    "    ax.loglog()\n",
    "    levels=[0,.01,.05,.1,.5]#,.2,.3,.4,.5,1]\n",
    "    \n",
    "    diffs = np.zeros_like(f_DH_list[tmp,:,ind])\n",
    "    diffs = np.abs(\n",
    "        f_DH_list[tmp,:,ind] - f_idl_list[:,ind,:]\n",
    "    )/f_idl_list[:,ind,:]\n",
    "            \n",
    "    cs2 = ax.contourf(eng, rs_list, np.transpose(diffs), levels = levels,\n",
    "#                      norm=matplotlib.colors.LogNorm(),\n",
    "                     cmap=matplotlib.cm.RdBu_r)\n",
    "#     ax.contour(eng,rs_list[25:],\n",
    "#                np.transpose(diffs)[25:],  \n",
    "#                levels=levels[1:-1],\n",
    "#                colors='k',\n",
    "#                alpha=.4\n",
    "#               )\n",
    "    cbar = plt.colorbar(cs2, ticks=levels)\n",
    "    \n",
    "    plt.title(title)\n",
    "#     plt.ylabel(r'Redshift ($1+z$)')\n",
    "    plt.ylabel(r'Redshift (1+z)')\n",
    "    plt.xlabel(r'Kinetic Energy [eV]')\n",
    "\n",
    "#     plt.savefig(\n",
    "#         '/home/gridgway/Desktop/f_contour_debug/'+folder+'f'+inj_particle+'_'+inj_type+'_'+channel+'_IDLdiffs.pdf'\n",
    "#     )"
   ]
  },
  {
   "cell_type": "code",
   "execution_count": 74,
   "metadata": {},
   "outputs": [
    {
     "name": "stderr",
     "output_type": "stream",
     "text": [
      "/usr/local/Cellar/ipython/7.2.0/libexec/vendor/lib/python3.7/site-packages/ipykernel_launcher.py:22: RuntimeWarning: invalid value encountered in true_divide\n"
     ]
    },
    {
     "data": {
      "image/png": "[encoded data removed]",
      "text/plain": [
       "<Figure size 432x288 with 2 Axes>"
      ]
     },
     "metadata": {
      "needs_background": "light"
     },
     "output_type": "display_data"
    }
   ],
   "source": [
    "get_fdiff(inj_type, inj_str, 'H_ion')"
   ]
  },
  {
   "cell_type": "markdown",
   "metadata": {},
   "source": [
    "# SCRATCHWORK and NOTES"
   ]
  },
  {
   "cell_type": "markdown",
   "metadata": {},
   "source": [
    "-Compute T(E,z_in, z_dep) by doing a delta function injection\n",
    "\n",
    "-Why don't we ever keep track of how much DM is being depleted through annihilation/decay?\n",
    "\n",
    "-Why don't we go above 5 TeV?\n",
    "\n",
    "TODO:\n",
    "- make contour plots\n",
    "    - Pick a mass and make the plot corresponding to a vertical line going through the contour plot\n",
    "    - Make a course contour plot\n",
    "    - Once everything is debugged, make a very fine contour plot\n",
    "- Clean up this Example12\n",
    "    - migrate the main evolve function into a main.py that is conspicuous for the casual user\n",
    "    - Change the inputs so that xe_init and T_init are computed for the user.\n",
    "    - Make sure that the transfer functions are never seen (take them out of the input)\n",
    "    - plots comparing back-reaction and no back-reaction\n",
    "    - allow electron annihilation\n",
    "\n",
    "\n",
    "- Structure Formation\n",
    "    - swave\n",
    "    - on/off switch\n",
    "    - optimistic/conservative\n",
    "    - (just a change to the annihilation rate)\n",
    "    \n",
    "- minimum lifetime (do this first, structure independent)/maximum cross-section\n",
    "    - residual plot of with back-reaction vs. not back-react (temperature), contour plots\n",
    "    - for each mass pick the minimum tau or maximum cross-section and compare the std_switch on or off\n",
    "    \n",
    "- New 21cm sensitivity\n",
    "    - Hongwan's plots, but now with DarkHistory"
   ]
  },
  {
   "cell_type": "markdown",
   "metadata": {},
   "source": [
    "# NEED TO CHECK"
   ]
  },
  {
   "cell_type": "code",
   "execution_count": 393,
   "metadata": {},
   "outputs": [
    {
     "name": "stdout",
     "output_type": "stream",
     "text": [
      "0.0054045385439492315\n",
      "0.005405394701886692\n"
     ]
    }
   ],
   "source": [
    "import darkhistory.low_energy.lowE_deposition as lowE_dep\n",
    "%autoreload\n",
    "\n",
    "time=-2\n",
    "tau=1e23\n",
    "rs_tmp = a1[3][time].rs\n",
    "print(sum(lowE_dep.compute_fs(\n",
    "    a1[4][time], \n",
    "    a1[3][time], \n",
    "    np.array([1-xe_std(rs_tmp),0,0]), \n",
    "    rate_func_eng(rs_tmp), \n",
    "    .002/phys.hubble(rs_tmp), \n",
    "    0\n",
    "))*rate_func_eng(rs_tmp)*.002/phys.hubble(rs_tmp)/phys.nB/rs_tmp**3)\n",
    "print(a1[4][time].toteng()+a1[3][time].toteng())"
   ]
  },
  {
   "cell_type": "markdown",
   "metadata": {},
   "source": [
    "# Scratch"
   ]
  },
  {
   "cell_type": "code",
   "execution_count": 27,
   "metadata": {
    "collapsed": true
   },
   "outputs": [
    {
     "data": {
      "text/plain": [
       "<matplotlib.legend.Legend at 0x181e6dbcc0>"
      ]
     },
     "execution_count": 27,
     "metadata": {},
     "output_type": "execute_result"
    },
    {
     "data": {
      "image/png": "[encoded data removed]",
      "text/plain": [
       "<Figure size 720x720 with 1 Axes>"
      ]
     },
     "metadata": {},
     "output_type": "display_data"
    }
   ],
   "source": [
    "plt.figure()\n",
    "ax = plt.gca()\n",
    "ax.set_xscale('log')\n",
    "\n",
    "Eind=1\n",
    "ind=0\n",
    "\n",
    "plt.title('$log10E_{inj}$ = '+str(log10eng[Eind]))\n",
    "plt.plot(rs_list[10:-1], f_decay_elec[Eind,10:,ind], label='DH, Old Positronium')\n",
    "plt.plot(rs_list[10:-1], data_elec[6][10:,ind], label='DH, New Positronium')\n",
    "plt.plot(rs_list[10:-1], f_idl_list[Eind,ind,10:-1], label='IDL')\n",
    "\n",
    "# plt.plot(rs_list[10:-1], (f_decay_elec[Eind,10:,ind]-f_idl_list[Eind,ind,10:-1])/f_idl_list[Eind,ind,10:-1], label='DH')\n",
    "\n",
    "plt.ylabel(r'$f_{Hion}$')\n",
    "plt.xlabel(r'Redshift')\n",
    "\n",
    "plt.legend()\n",
    "\n",
    "# plt.savefig('/home/gridgway/Desktop/fHion_discrepancy')"
   ]
  },
  {
   "cell_type": "code",
   "execution_count": 825,
   "metadata": {
    "collapsed": true
   },
   "outputs": [
    {
     "data": {
      "text/plain": [
       "<matplotlib.legend.Legend at 0x18550d3f28>"
      ]
     },
     "execution_count": 825,
     "metadata": {},
     "output_type": "execute_result"
    },
    {
     "data": {
      "image/png": "[encoded data removed]",
      "text/plain": [
       "<Figure size 720x720 with 1 Axes>"
      ]
     },
     "metadata": {},
     "output_type": "display_data"
    }
   ],
   "source": [
    "f_decay_phot0 = pickle.load(open(\"/home/gridgway/Dropbox (MIT)/Photon Deposition/f_decay_phot.p\", \"rb\"))\n",
    "rs_list = [3000*np.exp(-.001*i) for i in np.arange(6397)]\n",
    "\n",
    "plt.figure()\n",
    "ax=plt.gca()\n",
    "# ax.loglog()\n",
    "plt.axis([-100,3100,0,.3])\n",
    "plt.title('8.5keV')\n",
    "\n",
    "\n",
    "plt.plot(data_phot0[3].rs[:-1], data_phot0[6][0][:,4], label='cmb subtracted highengphot tfs, low')\n",
    "# plt.plot(data_phot[3].rs[:-1], data_phot1[6][0][:,4], label='cmb subtracted lowengphot tfs, low')\n",
    "# plt.plot(rs_list, f_decay_phot[1,:,4], label='cmb subtracted highengphot tfs')\n",
    "# plt.plot(rs_list, f_decay_phot0[1,:,4], label='no cmb subtraction')\n",
    "plt.plot(rs_list, f_idl_list[1,4,:-1], label='IDL, off-by-one')\n",
    "\n",
    "\n",
    "\n",
    "# plt.plot(rs_list[10:], np.abs((f_idl_list[1,4,10:-1]-f_decay_phot[1,10:,4])/f_idl_list[1,4,10:-1]), label='IDL')\n",
    "# plt.plot(rs_list[10:], np.abs((f_idl_list[1,4,10:-1]-f_decay_phot0[1,10:,4])/f_idl_list[1,4,10:-1]), label='IDL')\n",
    "\n",
    "# plt.plot(data_phot[3].rs[:-1], data_phot[6][0][:,4]+data_phot[6][1][:,4], label='cmb subtracted highengphot tfs')\n",
    "\n",
    "# plt.plot(idl_redshift[1:len(entries)+1], idl_flist[:,4], label='IDL, low')\n",
    "\n",
    "# plt.plot(idl_redshift[:len(entries)], np.abs((idl_flist[:,4]-data_phot[6][0][:,4]-data_phot[6][1][:,4])/idl_flist[:,4]), label='IDL')\n",
    "\n",
    "plt.legend()\n",
    "\n",
    "# plt.savefig(\n",
    "#     '/home/gridgway/Desktop/f_cont_offbyone_error.png'\n",
    "# )"
   ]
  },
  {
   "cell_type": "code",
   "execution_count": 775,
   "metadata": {
    "scrolled": true
   },
   "outputs": [],
   "source": [
    "%autoreload\n",
    "#fs from idl run\n",
    "from darkhistory.low_energy.lowE_electrons import make_interpolator\n",
    "from darkhistory.low_energy import lowE_deposition as lowE_dep\n",
    "MEDEA_interp = make_interpolator()\n",
    "\n",
    "E_tmp=10**log10eng[1]\n",
    "entries=np.arange(4000)+1\n",
    "\n",
    "idl_flist = [\n",
    "    lowE_dep.compute_fs(\n",
    "        MEDEA_interp,\n",
    "        phot_spec=Spectrum(idl_energy, phot, rs=rs),\n",
    "        elec_spec=Spectrum(idl_eleceng, elec*0, rs=rs),\n",
    "        x = np.array([1-xe, 0, 0]),\n",
    "        dt = .001/hub,\n",
    "#         highengdep = highdep_interps.get_val(xe, rs)[indTmp],\n",
    "        highengdep = highdeposited*np.array([1,1,1,0]),\n",
    "        cmbloss = loss * hub/phys.hubble(rs*np.exp(.002)), #THIS factor of dt(z+2dz)/dt(z) compensates for IDL's off-by-one error\n",
    "#         dE_dVdt_inj = phys.inj_rate('decay', rs, mDM=E_tmp, tau=tau)*2\n",
    "        dE_dVdt_inj = 2*E_tmp*rate*phys.nB*rs**3\n",
    "    )\n",
    "    for xe, rs, phot, elec, loss, hub, rate, highdeposited in zip(data.field('hionfraction')[0][entries], \n",
    "                                   idl_redshift[entries],                            \n",
    "                                   idl_lowengphot[entries],\n",
    "                                   idl_lowengelec[entries],\n",
    "                                   idl_cmblosstable[entries-1],\n",
    "                                   data.field('hubblerate')[0][entries],\n",
    "                                   data.field('annrate')[0][entries],\n",
    "                                   np.transpose(idl_highengdep[:,entries]))]\n",
    "\n",
    "idl_flist=np.array(idl_flist)"
   ]
  },
  {
   "cell_type": "code",
   "execution_count": 142,
   "metadata": {},
   "outputs": [],
   "source": [
    "import multiprocessing  # the module we will be using for multiprocessing\n",
    "\n",
    "def work(number):\n",
    "    \"\"\"\n",
    "    Multiprocessing work\n",
    "    \n",
    "    Parameters\n",
    "    ----------\n",
    "    number : integer\n",
    "        unit of work number\n",
    "    \"\"\"\n",
    "    \n",
    "    print(\"Unit of work number %d\" % number)  # simply print the worker's number\n",
    "    \n",
    "def nonsense():\n",
    "    print(\"There are %d CPUs on this machine\" % multiprocessing.cpu_count())\n",
    "    number_processes = 1\n",
    "    pool = multiprocessing.Pool(number_processes)\n",
    "    total_tasks = 4\n",
    "    tasks = range(total_tasks)\n",
    "    results = pool.map_async(get_column, tasks)\n",
    "    print(results)\n",
    "    pool.close()\n",
    "    pool.join()"
   ]
  },
  {
   "cell_type": "code",
   "execution_count": 142,
   "metadata": {},
   "outputs": [],
   "source": [
    "import multiprocessing  # the module we will be using for multiprocessing\n",
    "\n",
    "def work(number):\n",
    "    \"\"\"\n",
    "    Multiprocessing work\n",
    "    \n",
    "    Parameters\n",
    "    ----------\n",
    "    number : integer\n",
    "        unit of work number\n",
    "    \"\"\"\n",
    "    \n",
    "    print(\"Unit of work number %d\" % number)  # simply print the worker's number\n",
    "    \n",
    "def nonsense():\n",
    "    print(\"There are %d CPUs on this machine\" % multiprocessing.cpu_count())\n",
    "    number_processes = 1\n",
    "    pool = multiprocessing.Pool(number_processes)\n",
    "    total_tasks = 4\n",
    "    tasks = range(total_tasks)\n",
    "    results = pool.map_async(get_column, tasks)\n",
    "    print(results)\n",
    "    pool.close()\n",
    "    pool.join()"
   ]
  },
  {
   "cell_type": "code",
   "execution_count": null,
   "metadata": {},
   "outputs": [],
   "source": []
  },
  {
   "cell_type": "code",
   "execution_count": 142,
   "metadata": {},
   "outputs": [],
   "source": [
    "import multiprocessing  # the module we will be using for multiprocessing\n",
    "\n",
    "def work(number):\n",
    "    \"\"\"\n",
    "    Multiprocessing work\n",
    "    \n",
    "    Parameters\n",
    "    ----------\n",
    "    number : integer\n",
    "        unit of work number\n",
    "    \"\"\"\n",
    "    \n",
    "    print(\"Unit of work number %d\" % number)  # simply print the worker's number\n",
    "    \n",
    "def nonsense():\n",
    "    print(\"There are %d CPUs on this machine\" % multiprocessing.cpu_count())\n",
    "    number_processes = 1\n",
    "    pool = multiprocessing.Pool(number_processes)\n",
    "    total_tasks = 4\n",
    "    tasks = range(total_tasks)\n",
    "    results = pool.map_async(get_column, tasks)\n",
    "    print(results)\n",
    "    pool.close()\n",
    "    pool.join()"
   ]
  },
  {
   "cell_type": "code",
   "execution_count": 4,
   "metadata": {},
   "outputs": [],
   "source": [
    "def get_fcontour(inj_type, inj_particle, channel):\n",
    "    if inj_particle is 'elec':\n",
    "        coarsen_factor = 16\n",
    "\n",
    "        if inj_type is 'decay':\n",
    "            f_for_plot = f_decay_elec.copy()\n",
    "            folder='elec_decay/'\n",
    "\n",
    "        elif inj_type is 'swave':\n",
    "            f_for_plot = f_swave_elec.copy()\n",
    "            folder='elec_swave/'\n",
    "    else:\n",
    "        coarsen_factor = 8\n",
    "\n",
    "        if inj_type is 'decay':\n",
    "            f_for_plot = f_decay_phot.copy()\n",
    "            folder='phot_decay/'\n",
    "\n",
    "        elif inj_type is 'swave':\n",
    "            f_for_plot = f_swave_phot.copy()\n",
    "            folder='phot_swave/'\n",
    "    \n",
    "    eng = 10**log10eng[:len(f_for_plot)]\n",
    "    rs_list = [3000*np.exp(-0.001*coarsen_factor*(i)) for i in np.arange(6400/coarsen_factor)]\n",
    "\n",
    "    if channel is 'H_ion':\n",
    "        ind=0\n",
    "        title = r'\\bf{$f_{H ion}$}'\n",
    "    elif channel is 'He_ion':\n",
    "        ind=1\n",
    "        title = r'\\bf{$f_{He ion}$}'\n",
    "    elif channel is 'exc':\n",
    "        ind=2\n",
    "        title = r'\\bf{$f_{exc}$}'\n",
    "    elif channel is 'heat':\n",
    "        ind=3\n",
    "        title = r'\\bf{$f_{heat}$}'\n",
    "    elif channel is 'cont':\n",
    "        ind=4\n",
    "        title = r'\\bf{$f_{cont}$}'\n",
    "\n",
    "    ax = plt.gca()\n",
    "    ax.set_xscale('log')\n",
    "    ax.set_yscale('log')\n",
    "\n",
    "    plt.axis([eng[0], 10**log10eng[-1], 5, 2e3])\n",
    "\n",
    "    levels = np.array([1e-5, 1e-4, 1e-3, 5e-3, 1e-2, 5e-2, 1e-1, 3e-1, 1e0])\n",
    "    if inj_type is 'decay':\n",
    "        if channel is 'He_ion':\n",
    "            if inj_particle is 'phot':\n",
    "                levels = np.array([1e-7, 1e-6, 1e-5, 1e-4, 5e-4, 1e-3, 5e-3, 1e-2, 4e-2])\n",
    "            else:\n",
    "                levels = np.array([1e-6, 1e-5, 5e-5, 1e-4, 5e-4, 1e-3, 5e-3, 1e-2, 4e-2])\n",
    "        elif channel is 'exc':\n",
    "            if inj_particle is 'phot':\n",
    "                levels = np.array([1e-5, 1e-4, 1e-3, 5e-3, 1e-2, 3e-2, 5e-2, 1e-1, 1e-0])\n",
    "            else:\n",
    "                levels = np.array([1e-4, 1e-3, 5e-3, 1e-2, 3e-2, 5e-2, 1e-1, 2e-1, 7e-1])\n",
    "        elif (channel is 'heat') or (channel is 'cont'):\n",
    "            if inj_particle is 'elec':\n",
    "                levels = np.array([1e-5, 1e-4, 1e-3, 1e-2, 5e-2, 1e-1, 3e-1, 5e-1, 1, 2])\n",
    "    elif inj_type is 'swave':\n",
    "        if channel is 'H_ion':\n",
    "            if inj_particle is 'phot':\n",
    "                levels = np.array([1e-3, 1e-2, 1e-1, 2e-1, 5e-1, 1, 5, 1e1, 5e1, 1e2])\n",
    "        elif channel is 'He_ion':\n",
    "            if inj_particle is 'phot':\n",
    "                levels = np.array([5e-5, 1e-4, 1e-3, 5e-3, 1e-2, 5e-2, 1e-1, 5e-1, 2])\n",
    "        elif channel is 'exc':\n",
    "            if inj_particle is 'phot':\n",
    "                levels = np.array([5e-3, 1e-2, 5e-2, 1e-1, 5e-1, 1, 5, 1e1, 1e2, 3e2])\n",
    "        elif channel is 'heat':\n",
    "            if inj_particle is 'phot':\n",
    "                levels = np.array([1e-3, 1e-2, 2e-2, 5e-2, 1e-1, 2e-1, 5e-1, 1, 5, 1e1, 3e1])\n",
    "        elif channel is 'cont':\n",
    "            if inj_particle is 'phot':\n",
    "                levels = np.array([1e-3, 1e-2, 2e-2, 5e-2, 1e-1, 5e-1, 1, 5, 1e1, 5e1, 1e2])\n",
    "\n",
    "                \n",
    "    f_for_plot[f_for_plot < levels[0]] = levels[0]*(1+.01)\n",
    "    f_for_plot[f_for_plot > levels[-1]] = levels[-1]*(1-.01)\n",
    "    \n",
    "    levels2 = np.exp(np.linspace(np.log(levels[0]),np.log(levels[-1]),100))\n",
    "    cs = ax.contourf(eng,rs_list,\n",
    "                     np.transpose(f_for_plot[:,:,ind]), \n",
    "#                      locator=matplotlib.ticker.LogLocator(), \n",
    "                     norm=matplotlib.colors.LogNorm(),\n",
    "                     levels=levels2,\n",
    "                     cmap=matplotlib.cm.RdBu_r)\n",
    "    ax.contour(eng,rs_list,\n",
    "               np.transpose(f_for_plot[:,:,ind]),  \n",
    "               levels=levels[1:-1],\n",
    "               colors='k',\n",
    "               alpha=.4\n",
    "              )\n",
    "\n",
    "    cbar = plt.colorbar(cs, ticks=levels)\n",
    "    cbar.ax.set_xticklabels(str(levels))\n",
    "\n",
    "    plt.title(title)\n",
    "    plt.ylabel(r'Redshift ($1+z$)')\n",
    "    plt.xlabel(r'Kinetic Energy [eV]')\n",
    "\n",
    "#     direc = '/Users/GregoryRidgway/Desktop/Dark Matter/DH_Data/'\n",
    "#     plt.savefig(\n",
    "#         direc+'f'+inj_particle+'_'+inj_type+'_'+channel+'_contour.pdf'\n",
    "#     )"
   ]
  },
  {
   "cell_type": "code",
   "execution_count": null,
   "metadata": {},
   "outputs": [],
   "source": []
  }
 ],
 "metadata": {
  "kernelspec": {
   "display_name": "Python 3",
   "language": "python",
   "name": "python3"
  },
  "language_info": {
   "codemirror_mode": {
    "name": "ipython",
    "version": 3
   },
   "file_extension": ".py",
   "mimetype": "text/x-python",
   "name": "python",
   "nbconvert_exporter": "python",
   "pygments_lexer": "ipython3",
   "version": "3.7.2"
  },
  "toc": {
   "base_numbering": 1,
   "nav_menu": {},
   "number_sections": true,
   "sideBar": true,
   "skip_h1_title": false,
   "title_cell": "Table of Contents",
   "title_sidebar": "Contents",
   "toc_cell": false,
   "toc_position": {},
   "toc_section_display": true,
   "toc_window_display": false
  },
  "varInspector": {
   "cols": {
    "lenName": 16,
    "lenType": 16,
    "lenVar": 40
   },
   "kernels_config": {
    "python": {
     "delete_cmd_postfix": "",
     "delete_cmd_prefix": "del ",
     "library": "var_list.py",
     "varRefreshCmd": "print(var_dic_list())"
    },
    "r": {
     "delete_cmd_postfix": ") ",
     "delete_cmd_prefix": "rm(",
     "library": "var_list.r",
     "varRefreshCmd": "cat(var_dic_list()) "
    }
   },
   "types_to_exclude": [
    "module",
    "function",
    "builtin_function_or_method",
    "instance",
    "_Feature"
   ],
   "window_display": false
  }
 },
 "nbformat": 4,
 "nbformat_minor": 2
}
