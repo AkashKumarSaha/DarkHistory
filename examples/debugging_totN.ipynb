{
 "cells": [
  {
   "cell_type": "code",
   "execution_count": 1,
   "metadata": {},
   "outputs": [],
   "source": [
    "%load_ext autoreload\n",
    "import sys\n",
    "sys.path.append(\"..\")"
   ]
  },
  {
   "cell_type": "code",
   "execution_count": 31,
   "metadata": {},
   "outputs": [],
   "source": [
    "%autoreload\n",
    "\n",
    "import matplotlib\n",
    "matplotlib.rc_file('matplotlibrc')\n",
    "import matplotlib.pyplot as plt\n",
    "\n",
    "%matplotlib inline\n",
    "\n",
    "matplotlib.rcParams['figure.figsize'] = [10,10]\n",
    "\n",
    "\n",
    "from astropy.io import fits\n",
    "\n",
    "import numpy as np\n",
    "import pickle\n",
    "import darkhistory.physics as phys\n",
    "import darkhistory.utilities as utils\n",
    "import darkhistory.spec.spectools as spectools\n",
    "import darkhistory.spec.transferfunction as tf\n",
    "from darkhistory.spec.spectrum import Spectrum\n",
    "from darkhistory.spec.spectra import Spectra\n",
    "import darkhistory.history.tla as tla\n",
    "\n",
    "from darkhistory.electrons.ics.ics_spectrum import ics_spec\n",
    "from darkhistory.electrons.ics.ics_engloss_spectrum import engloss_spec\n",
    "from darkhistory.electrons.ics.ics_cooling import get_ics_cooling_tf\n",
    "\n",
    "np.set_printoptions(threshold=np.nan)"
   ]
  },
  {
   "cell_type": "code",
   "execution_count": 32,
   "metadata": {},
   "outputs": [],
   "source": [
    "eng = np.array([1, 2, 3, 4, 5])\n",
    "a = Spectrum(eng, np.array([2, 4, 6, 8, 10]))\n",
    "b = Spectrum(eng, np.array([1, 2, 3, 4, 5]))"
   ]
  },
  {
   "cell_type": "code",
   "execution_count": 33,
   "metadata": {},
   "outputs": [
    {
     "name": "stdout",
     "output_type": "stream",
     "text": [
      "31.349455686798166\n",
      "31.349455686798166\n",
      "31.349455686798166\n"
     ]
    }
   ],
   "source": [
    "print(a.totN())\n",
    "a.switch_spec_type()\n",
    "print(a.totN())\n",
    "a.switch_spec_type()\n",
    "print(a.totN())"
   ]
  },
  {
   "cell_type": "code",
   "execution_count": 34,
   "metadata": {},
   "outputs": [
    {
     "name": "stdout",
     "output_type": "stream",
     "text": [
      "[31.34945569 15.67472784]\n"
     ]
    }
   ],
   "source": [
    "c = Spectra([a, b])\n",
    "print(c.totN())"
   ]
  },
  {
   "cell_type": "code",
   "execution_count": 35,
   "metadata": {},
   "outputs": [
    {
     "name": "stdout",
     "output_type": "stream",
     "text": [
      "before switch\n",
      "[[ 2.  4.  6.  8. 10.]\n",
      " [ 1.  2.  3.  4.  5.]]\n",
      "dNdE\n",
      "[ 1.38629436  4.39444915  6.23832463  8.17320998 11.15717757]\n",
      "[0.69314718 2.19722458 3.11916231 4.08660499 5.57858878]\n",
      "after switch\n",
      "N\n",
      "[[ 1.38629436  4.39444915  6.23832463  8.17320998 11.15717757]\n",
      " [ 0.69314718  2.19722458  3.11916231  4.08660499  5.57858878]]\n",
      "[ 1.38629436  4.39444915  6.23832463  8.17320998 11.15717757]\n",
      "[0.69314718 2.19722458 3.11916231 4.08660499 5.57858878]\n",
      "******\n",
      "[31.34945569 15.67472784]\n",
      "[31.34945569 15.67472784]\n"
     ]
    }
   ],
   "source": [
    "print('before switch')\n",
    "print(c._grid_vals)\n",
    "print(c.spec_type)\n",
    "print(c[0].N)\n",
    "print(c[1].N)\n",
    "c.switch_spec_type()\n",
    "print('after switch')\n",
    "print(c.spec_type)\n",
    "print(c._grid_vals)\n",
    "print(c[0].N)\n",
    "print(c[1].N)\n",
    "\n",
    "print('******')\n",
    "\n",
    "print(c.totN())\n",
    "c.switch_spec_type()\n",
    "print(c.totN())"
   ]
  },
  {
   "cell_type": "code",
   "execution_count": null,
   "metadata": {},
   "outputs": [],
   "source": []
  }
 ],
 "metadata": {
  "kernelspec": {
   "display_name": "Python 3",
   "language": "python",
   "name": "python3"
  },
  "language_info": {
   "codemirror_mode": {
    "name": "ipython",
    "version": 3
   },
   "file_extension": ".py",
   "mimetype": "text/x-python",
   "name": "python",
   "nbconvert_exporter": "python",
   "pygments_lexer": "ipython3",
   "version": "3.6.5"
  }
 },
 "nbformat": 4,
 "nbformat_minor": 2
}
