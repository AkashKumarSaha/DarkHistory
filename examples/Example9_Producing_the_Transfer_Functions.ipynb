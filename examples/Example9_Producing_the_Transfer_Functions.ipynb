{
 "cells": [
  {
   "cell_type": "markdown",
   "metadata": {},
   "source": [
    "# Producing the Transfer Functions"
   ]
  },
  {
   "cell_type": "code",
   "execution_count": 1,
   "metadata": {},
   "outputs": [],
   "source": [
    "%load_ext autoreload\n",
    "import sys\n",
    "sys.path.append(\"..\")"
   ]
  },
  {
   "cell_type": "markdown",
   "metadata": {},
   "source": [
    "## Notebook Initialization"
   ]
  },
  {
   "cell_type": "code",
   "execution_count": 2,
   "metadata": {},
   "outputs": [],
   "source": [
    "%autoreload\n",
    "import numpy as np\n",
    "import pickle\n",
    "from tqdm import tqdm_notebook as tqdm\n",
    "\n",
    "import matplotlib\n",
    "matplotlib.rc_file('matplotlibrc')\n",
    "import matplotlib.pyplot as plt\n",
    "\n",
    "%matplotlib inline\n",
    "\n",
    "matplotlib.rcParams['figure.figsize'] = [10,10]\n",
    "\n",
    "\n",
    "from darkhistory.spec.spectrum import Spectrum\n",
    "import darkhistory.spec.spectools as spectools\n",
    "import darkhistory.spec.transferfunction as tf\n",
    "import darkhistory.spec.transferfunclist as tflist\n",
    "import darkhistory.physics as phys\n",
    "import darkhistory.utilities as utils\n",
    "\n",
    "from scipy.interpolate import interp1d\n",
    "\n",
    "# np.set_printoptions(threshold=np.nan)"
   ]
  },
  {
   "cell_type": "markdown",
   "metadata": {},
   "source": [
    "## Import Raw Data"
   ]
  },
  {
   "cell_type": "code",
   "execution_count": 3,
   "metadata": {},
   "outputs": [],
   "source": [
    "# xes_str = [\n",
    "#     '4.540E-05', '2.746E-04', '1.659E-03', '9.952E-03', '5.732E-02',\n",
    "#     '2.689E-01', '6.900E-01', '9.309E-01', '9.879E-01', '9.980E-01',\n",
    "#     '9.997E-01'\n",
    "    \n",
    "# ]\n",
    "\n",
    "xes_str = ['2.746E-04']\n",
    "\n",
    "file_names = [\n",
    "    '/Users/hongwan/Dropbox (MIT)/Photon Deposition/transferfunction_withloweng_cmbloss_60eV_new_binning_xe_'+str+'_nointerp.p'\n",
    "    for str in xes_str\n",
    "    \n",
    "]\n",
    "\n",
    "raw_tf_tuple = [pickle.load(open(file_name, \"rb\")) for file_name in file_names]\n",
    "\n",
    "raw_tf_list = [tup[0] for tup in raw_tf_tuple]\n",
    "CMB_engloss_list = [tup[1] for tup in raw_tf_tuple]"
   ]
  },
  {
   "cell_type": "markdown",
   "metadata": {},
   "source": [
    "## Raw Data Manipulation"
   ]
  },
  {
   "cell_type": "markdown",
   "metadata": {},
   "source": [
    "The raw data is a large array with no abscissa values included. We need to create the abscissae related to this large array (the abscissa of photon energies and electron energies). \n",
    "\n",
    "First, we swap some of the axes. The initial array has dimensions corresponding to (injected photon energy, redshift, outgoing energy, type), where type is high-energy photons, low-energy photons and low-energy electrons respectively. "
   ]
  },
  {
   "cell_type": "code",
   "execution_count": 4,
   "metadata": {},
   "outputs": [],
   "source": [
    "for i in np.arange(len(raw_tf_list)):\n",
    "    raw_tf_list[i] = np.swapaxes(raw_tf_list[i], 0, 1)\n",
    "    raw_tf_list[i] = np.flip(raw_tf_list[i], axis=0)\n",
    "    \n",
    "for i in np.arange(len(CMB_engloss_list)):\n",
    "    CMB_engloss_list[i] = np.transpose(CMB_engloss_list[i])\n",
    "    \n",
    "CMB_engloss = np.array(CMB_engloss_list)\n",
    "\n",
    "CMB_engloss = np.flip(CMB_engloss,1)"
   ]
  },
  {
   "cell_type": "code",
   "execution_count": 5,
   "metadata": {},
   "outputs": [
    {
     "data": {
      "text/plain": [
       "7.401080349949038e-07"
      ]
     },
     "execution_count": 5,
     "metadata": {},
     "output_type": "execute_result"
    }
   ],
   "source": [
    "CMB_engloss[0,0,495]"
   ]
  },
  {
   "cell_type": "markdown",
   "metadata": {},
   "source": [
    "At this point, the transfer function `raw_tf_list` is listed in the following order: (redshift, input photon energy, output energy, type), and the order is in decreasing redshift.\n",
    "\n",
    "`CMB_engloss` is in the order (redshift, input energy), order in decreasing redshift.\n",
    "\n",
    "The abscissa for the transfer functions are as follows. For the injected photon energy and redshifts,"
   ]
  },
  {
   "cell_type": "code",
   "execution_count": 6,
   "metadata": {},
   "outputs": [],
   "source": [
    "# Input energy abscissa. \n",
    "in_eng_step = 501\n",
    "# in_eng_low = 3e3 + 100.\n",
    "in_eng_low = 60\n",
    "in_eng_upp = 5e3 * np.exp(39 * np.log(1e13/5e3) / 40)\n",
    "\n",
    "in_eng_arr = (\n",
    "    in_eng_low * np.exp((np.arange(in_eng_step)) * \n",
    "              np.log(in_eng_upp/in_eng_low) / in_eng_step)\n",
    ")\n",
    "\n",
    "in_eng_arr = in_eng_arr[1:]\n",
    "\n",
    "# Redshift abscissa, decreasing order. \n",
    "rs_step = 50\n",
    "rs_upp  = 31\n",
    "rs_low  = 4\n",
    "\n",
    "log_rs = (\n",
    "    np.log(rs_low) + (np.arange(rs_step)+1)\n",
    "    *(np.log(rs_upp) - np.log(rs_low))/rs_step\n",
    ")\n",
    "\n",
    "log_rs = np.insert(log_rs, 0, np.log(4.))\n",
    "\n",
    "log_rs_arr = np.flipud(log_rs)\n",
    "\n",
    "# xe abscissa\n",
    "\n",
    "xe = 0.5 + 0.5*np.tanh([-5., -4.1, -3.2, -2.3, -1.4, -0.5, 0.4, 1.3, 2.2, 3.1, 4])"
   ]
  },
  {
   "cell_type": "markdown",
   "metadata": {},
   "source": [
    "The output abscissa depends on the injection energy, and are different for photons and electrons. We write these as functions of the injection energy for convenience."
   ]
  },
  {
   "cell_type": "code",
   "execution_count": 7,
   "metadata": {},
   "outputs": [
    {
     "name": "stdout",
     "output_type": "stream",
     "text": [
      "5565952217145.328\n"
     ]
    },
    {
     "data": {
      "text/plain": [
       "array([1.02978258e+00, 1.09203515e+00, 1.15805103e+00, 1.22805771e+00,\n",
       "       1.30229645e+00, 1.38102307e+00, 1.46450889e+00, 1.55304161e+00,\n",
       "       1.64692632e+00, 1.74648657e+00, 1.85206545e+00, 1.96402679e+00,\n",
       "       2.08275644e+00, 2.20866356e+00, 2.34218203e+00, 2.48377198e+00,\n",
       "       2.63392135e+00, 2.79314757e+00, 2.96199936e+00, 3.14105861e+00,\n",
       "       3.33094237e+00, 3.53230501e+00, 3.74584046e+00, 3.97228459e+00,\n",
       "       4.21241775e+00, 4.46706748e+00, 4.73711134e+00, 5.02347992e+00,\n",
       "       5.32716011e+00, 5.64919842e+00, 5.99070464e+00, 6.35285564e+00,\n",
       "       6.73689946e+00, 7.14415954e+00, 7.57603938e+00, 8.03402729e+00,\n",
       "       8.51970155e+00, 9.03473587e+00, 9.58090512e+00, 1.01600915e+01,\n",
       "       1.07742909e+01, 1.14256200e+01, 1.21163234e+01, 1.28487812e+01,\n",
       "       1.36255177e+01, 1.44492096e+01, 1.53226955e+01, 1.62489855e+01,\n",
       "       1.72312716e+01, 1.82729391e+01, 1.93775777e+01, 2.05489940e+01,\n",
       "       2.17912250e+01, 2.31085515e+01, 2.45055132e+01, 2.59869243e+01,\n",
       "       2.75578899e+01, 2.92238237e+01, 3.09904668e+01, 3.28639073e+01,\n",
       "       3.48506014e+01, 3.69573953e+01, 3.91915495e+01, 4.15607631e+01,\n",
       "       4.40732008e+01, 4.67375208e+01, 4.95629046e+01, 5.25590890e+01,\n",
       "       5.57363992e+01, 5.91057846e+01, 6.26788567e+01, 6.64679286e+01,\n",
       "       7.04860581e+01, 7.47470922e+01, 7.92657150e+01, 8.40574983e+01,\n",
       "       8.91389552e+01, 9.45275971e+01, 1.00241994e+02, 1.06301839e+02,\n",
       "       1.12728014e+02, 1.19542665e+02, 1.26769277e+02, 1.34432753e+02,\n",
       "       1.42559502e+02, 1.51177532e+02, 1.60316539e+02, 1.70008019e+02,\n",
       "       1.80285371e+02, 1.91184010e+02, 2.02741495e+02, 2.14997655e+02,\n",
       "       2.27994727e+02, 2.41777499e+02, 2.56393470e+02, 2.71893008e+02,\n",
       "       2.88329526e+02, 3.05759667e+02, 3.24243498e+02, 3.43844716e+02,\n",
       "       3.64630870e+02, 3.86673592e+02, 4.10048844e+02, 4.34837180e+02,\n",
       "       4.61124025e+02, 4.88999966e+02, 5.18561068e+02, 5.49909202e+02,\n",
       "       5.83152398e+02, 6.18405217e+02, 6.55789145e+02, 6.95433012e+02,\n",
       "       7.37473436e+02, 7.82055294e+02, 8.29332222e+02, 8.79467142e+02,\n",
       "       9.32632826e+02, 9.89012490e+02, 1.04880043e+03, 1.11220267e+03,\n",
       "       1.17943772e+03, 1.25073727e+03, 1.32634704e+03, 1.40652757e+03,\n",
       "       1.49155519e+03, 1.58172292e+03, 1.67734148e+03, 1.77874039e+03,\n",
       "       1.88626908e+03, 2.00029811e+03, 2.12122044e+03, 2.24945278e+03,\n",
       "       2.38543705e+03, 2.52964186e+03, 2.68256416e+03, 2.84473095e+03,\n",
       "       3.01670106e+03, 3.19906714e+03, 3.39245765e+03, 3.59753902e+03,\n",
       "       3.81501801e+03, 4.04564407e+03, 4.29021197e+03, 4.54956453e+03,\n",
       "       4.82459551e+03, 5.11625270e+03, 5.42554120e+03, 5.75352686e+03,\n",
       "       6.10133995e+03, 6.47017910e+03, 6.86131537e+03, 7.27609667e+03,\n",
       "       7.71595239e+03, 8.18239834e+03, 8.67704196e+03, 9.20158784e+03,\n",
       "       9.75784365e+03, 1.03477263e+04, 1.09732687e+04, 1.16366264e+04,\n",
       "       1.23400856e+04, 1.30860703e+04, 1.38771515e+04, 1.47160552e+04,\n",
       "       1.56056724e+04, 1.65490690e+04, 1.75494958e+04, 1.86104007e+04,\n",
       "       1.97354395e+04, 2.09284894e+04, 2.21936616e+04, 2.35353163e+04,\n",
       "       2.49580769e+04, 2.64668464e+04, 2.80668243e+04, 2.97635243e+04,\n",
       "       3.15627935e+04, 3.34708324e+04, 3.54942163e+04, 3.76399182e+04,\n",
       "       3.99153324e+04, 4.23283002e+04, 4.48871372e+04, 4.76006614e+04,\n",
       "       5.04782239e+04, 5.35297413e+04, 5.67657295e+04, 6.01973402e+04,\n",
       "       6.38363991e+04, 6.76954470e+04, 7.17877827e+04, 7.61275088e+04,\n",
       "       8.07295808e+04, 8.56098579e+04, 9.07851583e+04, 9.62733168e+04,\n",
       "       1.02093246e+05, 1.08265003e+05, 1.14809856e+05, 1.21750359e+05,\n",
       "       1.29110430e+05, 1.36915434e+05, 1.45192267e+05, 1.53969453e+05,\n",
       "       1.63277238e+05, 1.73147699e+05, 1.83614850e+05, 1.94714764e+05,\n",
       "       2.06485691e+05, 2.18968196e+05, 2.32205295e+05, 2.46242605e+05,\n",
       "       2.61128501e+05, 2.76914282e+05, 2.93654347e+05, 3.11406385e+05,\n",
       "       3.30231572e+05, 3.50194782e+05, 3.71364812e+05, 3.93814615e+05,\n",
       "       4.17621557e+05, 4.42867680e+05, 4.69639985e+05, 4.98030734e+05,\n",
       "       5.28137766e+05, 5.60064832e+05, 5.93921957e+05, 6.29825820e+05,\n",
       "       6.67900148e+05, 7.08276151e+05, 7.51092970e+05, 7.96498159e+05,\n",
       "       8.44648189e+05, 8.95708992e+05, 9.49856531e+05, 1.00727741e+06,\n",
       "       1.06816949e+06, 1.13274264e+06, 1.20121938e+06, 1.27383568e+06,\n",
       "       1.35084179e+06, 1.43250308e+06, 1.51910098e+06, 1.61093391e+06,\n",
       "       1.70831834e+06, 1.81158986e+06, 1.92110437e+06, 2.03723927e+06,\n",
       "       2.16039478e+06, 2.29099530e+06, 2.42949090e+06, 2.57635886e+06,\n",
       "       2.73210530e+06, 2.89726696e+06, 3.07241299e+06, 3.25814697e+06,\n",
       "       3.45510898e+06, 3.66397776e+06, 3.88547311e+06, 4.12035833e+06,\n",
       "       4.36944287e+06, 4.63358511e+06, 4.91369532e+06, 5.21073879e+06,\n",
       "       5.52573917e+06, 5.85978202e+06, 6.21401847e+06, 6.58966927e+06,\n",
       "       6.98802898e+06, 7.41047039e+06, 7.85844929e+06, 8.33350949e+06,\n",
       "       8.83728809e+06, 9.37152120e+06, 9.93804985e+06, 1.05388264e+07,\n",
       "       1.11759211e+07, 1.18515297e+07, 1.25679802e+07, 1.33277417e+07,\n",
       "       1.41334324e+07, 1.49878288e+07, 1.58938753e+07, 1.68546944e+07,\n",
       "       1.78735970e+07, 1.89540944e+07, 2.00999103e+07, 2.13149931e+07,\n",
       "       2.26035304e+07, 2.39699625e+07, 2.54189984e+07, 2.69556317e+07,\n",
       "       2.85851577e+07, 3.03131921e+07, 3.21456898e+07, 3.40889661e+07,\n",
       "       3.61497175e+07, 3.83350458e+07, 4.06524820e+07, 4.31100121e+07,\n",
       "       4.57161052e+07, 4.84797423e+07, 5.14104472e+07, 5.45183195e+07,\n",
       "       5.78140694e+07, 6.13090545e+07, 6.50153189e+07, 6.89456351e+07,\n",
       "       7.31135473e+07, 7.75334188e+07, 8.22204810e+07, 8.71908863e+07,\n",
       "       9.24617632e+07, 9.80512760e+07, 1.03978687e+08, 1.10264423e+08,\n",
       "       1.16930145e+08, 1.23998824e+08, 1.31494820e+08, 1.39443965e+08,\n",
       "       1.47873653e+08, 1.56812934e+08, 1.66292614e+08, 1.76345361e+08,\n",
       "       1.87005818e+08, 1.98310723e+08, 2.10299033e+08, 2.23012063e+08,\n",
       "       2.36493623e+08, 2.50790172e+08, 2.65950978e+08, 2.82028288e+08,\n",
       "       2.99077506e+08, 3.17157385e+08, 3.36330233e+08, 3.56662120e+08,\n",
       "       3.78223114e+08, 4.01087516e+08, 4.25334121e+08, 4.51046485e+08,\n",
       "       4.78313217e+08, 5.07228282e+08, 5.37891324e+08, 5.70408014e+08,\n",
       "       6.04890407e+08, 6.41457336e+08, 6.80234814e+08, 7.21356475e+08,\n",
       "       7.64964028e+08, 8.11207752e+08, 8.60247008e+08, 9.12250794e+08,\n",
       "       9.67398320e+08, 1.02587963e+09, 1.08789627e+09, 1.15366194e+09,\n",
       "       1.22340329e+09, 1.29736066e+09, 1.37578890e+09, 1.45895831e+09,\n",
       "       1.54715548e+09, 1.64068436e+09, 1.73986727e+09, 1.84504600e+09,\n",
       "       1.95658300e+09, 2.07486266e+09, 2.20029258e+09, 2.33330501e+09,\n",
       "       2.47435832e+09, 2.62393862e+09, 2.78256136e+09, 2.95077319e+09,\n",
       "       3.12915379e+09, 3.31831788e+09, 3.51891734e+09, 3.73164348e+09,\n",
       "       3.95722937e+09, 4.19645241e+09, 4.45013700e+09, 4.71915738e+09,\n",
       "       5.00444061e+09, 5.30696983e+09, 5.62778759e+09, 5.96799948e+09,\n",
       "       6.32877790e+09, 6.71136617e+09, 7.11708271e+09, 7.54732570e+09,\n",
       "       8.00357780e+09, 8.48741133e+09, 9.00049363e+09, 9.54459287e+09,\n",
       "       1.01215841e+10, 1.07334556e+10, 1.13823162e+10, 1.20704017e+10,\n",
       "       1.28000835e+10, 1.35738761e+10, 1.43944462e+10, 1.52646215e+10,\n",
       "       1.61874007e+10, 1.71659640e+10, 1.82036835e+10, 1.93041354e+10,\n",
       "       2.04711120e+10, 2.17086348e+10, 2.30209686e+10, 2.44126357e+10,\n",
       "       2.58884322e+10, 2.74534437e+10, 2.91130635e+10, 3.08730109e+10,\n",
       "       3.27393510e+10, 3.47185153e+10, 3.68173244e+10, 3.90430110e+10,\n",
       "       4.14032451e+10, 4.39061605e+10, 4.65603825e+10, 4.93750580e+10,\n",
       "       5.23598866e+10, 5.55251546e+10, 5.88817698e+10, 6.24412997e+10,\n",
       "       6.62160108e+10, 7.02189114e+10, 7.44637959e+10, 7.89652928e+10,\n",
       "       8.37389149e+10, 8.88011128e+10, 9.41693314e+10, 9.98620704e+10,\n",
       "       1.05898948e+11, 1.12300767e+11, 1.19089591e+11, 1.26288813e+11,\n",
       "       1.33923244e+11, 1.42019193e+11, 1.50604559e+11, 1.59708929e+11,\n",
       "       1.69363678e+11, 1.79602077e+11, 1.90459410e+11, 2.01973092e+11,\n",
       "       2.14182800e+11, 2.27130612e+11, 2.40861147e+11, 2.55421722e+11,\n",
       "       2.70862516e+11, 2.87236739e+11, 3.04600818e+11, 3.23014594e+11,\n",
       "       3.42541522e+11, 3.63248896e+11, 3.85208074e+11, 4.08494732e+11,\n",
       "       4.33189119e+11, 4.59376335e+11, 4.87146624e+11, 5.16595687e+11,\n",
       "       5.47825010e+11, 5.80942212e+11, 6.16061421e+11, 6.53303661e+11,\n",
       "       6.92797275e+11, 7.34678364e+11, 7.79091254e+11, 8.26188999e+11,\n",
       "       8.76133904e+11, 9.29098087e+11, 9.85264068e+11, 1.04482540e+12,\n",
       "       1.10798735e+12, 1.17496757e+12, 1.24599690e+12, 1.32132009e+12,\n",
       "       1.40119674e+12, 1.48590210e+12, 1.57572809e+12, 1.67098425e+12,\n",
       "       1.77199884e+12, 1.87911999e+12, 1.99271685e+12, 2.11318087e+12,\n",
       "       2.24092721e+12, 2.37639609e+12, 2.52005435e+12, 2.67239707e+12,\n",
       "       2.83394923e+12, 3.00526757e+12, 3.18694247e+12, 3.37960001e+12,\n",
       "       3.58390411e+12, 3.80055884e+12, 4.03031081e+12, 4.27395178e+12,\n",
       "       4.53232138e+12, 4.80630997e+12, 5.09686177e+12, 5.40497804e+12])"
      ]
     },
     "execution_count": 7,
     "metadata": {},
     "output_type": "execute_result"
    }
   ],
   "source": [
    "upp_bin = in_eng_arr[-1]\n",
    "print(upp_bin)\n",
    "log_bin_width = np.log(upp_bin)/500\n",
    "bin_boundary= phys.me + np.exp(np.arange(501) * log_bin_width)\n",
    "bin_boundary_low = bin_boundary[0:500]\n",
    "bin_boundary_upp = bin_boundary[1:501]\n",
    "np.sqrt((bin_boundary_low - phys.me) * (bin_boundary_upp-phys.me))"
   ]
  },
  {
   "cell_type": "code",
   "execution_count": 8,
   "metadata": {},
   "outputs": [],
   "source": [
    "def get_out_photeng(in_eng):\n",
    "    \n",
    "    log_bin_width = np.log((phys.me*0 + in_eng)/1e-4)/500\n",
    "    bin_boundary  = 1e-4 * np.exp(np.arange(501) * log_bin_width)\n",
    "    bin_boundary_low = bin_boundary[0:500]\n",
    "    bin_boundary_upp = bin_boundary[1:501]\n",
    "\n",
    "    return np.sqrt(bin_boundary_low * bin_boundary_upp)\n",
    "\n",
    "def get_out_eleceng(in_eng):\n",
    "    \n",
    "    log_bin_width = np.log(in_eng)/500\n",
    "    bin_boundary  = phys.me + np.exp(np.arange(501) * log_bin_width)\n",
    "    bin_boundary_low = bin_boundary[:500]\n",
    "    bin_boundary_upp = bin_boundary[1:]\n",
    "    return np.sqrt(\n",
    "        (bin_boundary_low - phys.me)*(bin_boundary_upp - phys.me)\n",
    "    )    "
   ]
  },
  {
   "cell_type": "markdown",
   "metadata": {},
   "source": [
    "The transfer function is calculated by injecting 2 photons at the input energy abscissa. However, the first step is to assign $x$ photons to the top bin of the *output* photon abscissa, such that $x$ times the energy of the top bin is 2 times the injection energy. Because of the misalignment between the two abscissae, as well as the fact that we want to transfer function for a single electron, we have to normalize the results first.\n",
    "\n",
    "First, we construct two arrays: a list of output abscissae (for both photons and electrons) given the injection abscissa, and a list of the energy of the *output* photon energy bin where the injected photons are assigned to. Then we compute the normalization factor. "
   ]
  },
  {
   "cell_type": "code",
   "execution_count": 9,
   "metadata": {},
   "outputs": [],
   "source": [
    "# dimensions input x output\n",
    "# output energy abscissae\n",
    "out_photeng_arr = np.array([get_out_photeng(eng) for eng in in_eng_arr])\n",
    "# dimensions input x output\n",
    "out_eleceng_arr = np.array([get_out_eleceng(eng) for eng in in_eng_arr])\n",
    "# get bin widths\n",
    "out_photeng_bin_bound_arr = np.array([spectools.get_bin_bound(photeng_arr) for photeng_arr in out_photeng_arr])\n",
    "out_eleceng_bin_bound_arr = np.array([spectools.get_bin_bound(eleceng_arr) for eleceng_arr in out_eleceng_arr])\n",
    "out_photeng_bin_width_arr = np.diff(out_photeng_bin_bound_arr, axis=-1)\n",
    "out_eleceng_bin_width_arr = np.diff(out_eleceng_bin_bound_arr, axis=-1)\n",
    "\n",
    "\n",
    "# dimensions input\n",
    "# original injection energies\n",
    "top_photeng_bin_arr = np.array(\n",
    "    [\n",
    "        photeng[photeng < eng][-1] \n",
    "        for eng,photeng in zip(in_eng_arr, out_photeng_arr)\n",
    "    ]\n",
    ")\n",
    "\n",
    "# pad top_photeng_bin_arr to go down to 1e-4\n",
    "\n",
    "# dimensions input\n",
    "norm_fac_arr = in_eng_arr/top_photeng_bin_arr*2"
   ]
  },
  {
   "cell_type": "markdown",
   "metadata": {},
   "source": [
    "Dividing by the normalization factor gives the spectra for the injection of 1 photon, with energy given by `top_photeng_bin_arr`. \n",
    "\n",
    "Now we construct a raw array of all of the transfer functions, on which we will perform an interpolation to extract a set of transfer functions for use, given a chosen abscissa.\n",
    "\n",
    "The final dimension of these lists is (xe, in_eng, rs, out_eng)"
   ]
  },
  {
   "cell_type": "code",
   "execution_count": 10,
   "metadata": {},
   "outputs": [
    {
     "data": {
      "application/vnd.jupyter.widget-view+json": {
       "model_id": "e6de90c64ad04095b9a2ac8daa86c0f6",
       "version_major": 2,
       "version_minor": 0
      },
      "text/html": [
       "<p>Failed to display Jupyter Widget of type <code>HBox</code>.</p>\n",
       "<p>\n",
       "  If you're reading this message in the Jupyter Notebook or JupyterLab Notebook, it may mean\n",
       "  that the widgets JavaScript is still loading. If this message persists, it\n",
       "  likely means that the widgets JavaScript library is either not installed or\n",
       "  not enabled. See the <a href=\"https://ipywidgets.readthedocs.io/en/stable/user_install.html\">Jupyter\n",
       "  Widgets Documentation</a> for setup instructions.\n",
       "</p>\n",
       "<p>\n",
       "  If you're reading this message in another frontend (for example, a static\n",
       "  rendering on GitHub or <a href=\"https://nbviewer.jupyter.org/\">NBViewer</a>),\n",
       "  it may mean that your frontend doesn't currently support widgets.\n",
       "</p>\n"
      ],
      "text/plain": [
       "HBox(children=(IntProgress(value=0, max=1), HTML(value='')))"
      ]
     },
     "metadata": {},
     "output_type": "display_data"
    },
    {
     "name": "stdout",
     "output_type": "stream",
     "text": [
      "\n"
     ]
    },
    {
     "data": {
      "application/vnd.jupyter.widget-view+json": {
       "model_id": "e66cae723a394b83915cdca078b1a522",
       "version_major": 2,
       "version_minor": 0
      },
      "text/html": [
       "<p>Failed to display Jupyter Widget of type <code>HBox</code>.</p>\n",
       "<p>\n",
       "  If you're reading this message in the Jupyter Notebook or JupyterLab Notebook, it may mean\n",
       "  that the widgets JavaScript is still loading. If this message persists, it\n",
       "  likely means that the widgets JavaScript library is either not installed or\n",
       "  not enabled. See the <a href=\"https://ipywidgets.readthedocs.io/en/stable/user_install.html\">Jupyter\n",
       "  Widgets Documentation</a> for setup instructions.\n",
       "</p>\n",
       "<p>\n",
       "  If you're reading this message in another frontend (for example, a static\n",
       "  rendering on GitHub or <a href=\"https://nbviewer.jupyter.org/\">NBViewer</a>),\n",
       "  it may mean that your frontend doesn't currently support widgets.\n",
       "</p>\n"
      ],
      "text/plain": [
       "HBox(children=(IntProgress(value=0, max=1), HTML(value='')))"
      ]
     },
     "metadata": {},
     "output_type": "display_data"
    },
    {
     "name": "stdout",
     "output_type": "stream",
     "text": [
      "\n"
     ]
    },
    {
     "data": {
      "application/vnd.jupyter.widget-view+json": {
       "model_id": "0e9fb36a48db4ecb8ef04faf30905135",
       "version_major": 2,
       "version_minor": 0
      },
      "text/html": [
       "<p>Failed to display Jupyter Widget of type <code>HBox</code>.</p>\n",
       "<p>\n",
       "  If you're reading this message in the Jupyter Notebook or JupyterLab Notebook, it may mean\n",
       "  that the widgets JavaScript is still loading. If this message persists, it\n",
       "  likely means that the widgets JavaScript library is either not installed or\n",
       "  not enabled. See the <a href=\"https://ipywidgets.readthedocs.io/en/stable/user_install.html\">Jupyter\n",
       "  Widgets Documentation</a> for setup instructions.\n",
       "</p>\n",
       "<p>\n",
       "  If you're reading this message in another frontend (for example, a static\n",
       "  rendering on GitHub or <a href=\"https://nbviewer.jupyter.org/\">NBViewer</a>),\n",
       "  it may mean that your frontend doesn't currently support widgets.\n",
       "</p>\n"
      ],
      "text/plain": [
       "HBox(children=(IntProgress(value=0, max=1), HTML(value='')))"
      ]
     },
     "metadata": {},
     "output_type": "display_data"
    },
    {
     "name": "stdout",
     "output_type": "stream",
     "text": [
      "\n"
     ]
    }
   ],
   "source": [
    "# Multiplying by bin width converts all the eleceng array into number of particles. \n",
    "\n",
    "phot_tf_raw = np.array([\n",
    "    [\n",
    "        [raw_tf[i,j,:,0]/norm_fac*bin_width for (i, log_rs) in enumerate(log_rs_arr)]\n",
    "        for (j, (in_eng, norm_fac, bin_width)) in enumerate(zip(in_eng_arr, norm_fac_arr, out_photeng_bin_width_arr))\n",
    "    ] for raw_tf in tqdm(raw_tf_list)\n",
    "])\n",
    "\n",
    "lowengphot_tf_raw = np.array([\n",
    "    [\n",
    "        [raw_tf[i,j,:,1]/norm_fac*bin_width for (i, log_rs) in enumerate(log_rs_arr)]\n",
    "        for (j, (in_eng, norm_fac, bin_width)) in enumerate(zip(in_eng_arr, norm_fac_arr, out_photeng_bin_width_arr))\n",
    "    ] for raw_tf in tqdm(raw_tf_list)\n",
    "])\n",
    "\n",
    "lowengelec_tf_raw = np.array([\n",
    "    [\n",
    "        [raw_tf[i,j,:,2]/norm_fac*bin_width for (i, log_rs) in enumerate(log_rs_arr)]\n",
    "        for (j, (in_eng, norm_fac, bin_width)) in enumerate(zip(in_eng_arr, norm_fac_arr, out_eleceng_bin_width_arr))\n",
    "    ] for raw_tf in tqdm(raw_tf_list)\n",
    "])\n",
    "\n",
    "CMB_engloss = CMB_engloss/norm_fac_arr"
   ]
  },
  {
   "cell_type": "markdown",
   "metadata": {},
   "source": [
    "## Generating the Transfer Functions"
   ]
  },
  {
   "cell_type": "code",
   "execution_count": 11,
   "metadata": {},
   "outputs": [
    {
     "name": "stdout",
     "output_type": "stream",
     "text": [
      "(1, 500, 51, 500)\n"
     ]
    },
    {
     "data": {
      "image/png": "[encoded data removed]",
      "text/plain": [
       "<Figure size 720x720 with 1 Axes>"
      ]
     },
     "metadata": {},
     "output_type": "display_data"
    }
   ],
   "source": [
    "print(phot_tf_raw.shape)\n",
    "\n",
    "injE_ind = 76\n",
    "\n",
    "plt.figure()\n",
    "\n",
    "plt.plot(out_eleceng_arr[injE_ind], lowengelec_tf_raw[0,injE_ind,0,:])\n",
    "plt.plot(out_eleceng_arr[injE_ind+1], lowengelec_tf_raw[0,injE_ind+1,0,:])\n",
    "\n",
    "ax = plt.gca()\n",
    "\n",
    "ax.set_xscale('log')\n",
    "ax.set_yscale('log')"
   ]
  },
  {
   "cell_type": "code",
   "execution_count": 12,
   "metadata": {},
   "outputs": [],
   "source": [
    "# indices where the old injection energy binning lies above 3keV.\n",
    "ind_photeng_above_3keV = np.where(top_photeng_bin_arr > 3000)[0][0]\n"
   ]
  },
  {
   "cell_type": "markdown",
   "metadata": {},
   "source": [
    "Now we build the transfer functions, given some initial abscissa that will be used throughout the code. The right thing to do is simply to interpolate directly over the raw arrays above, as a function of the injection energy. "
   ]
  },
  {
   "cell_type": "code",
   "execution_count": 13,
   "metadata": {},
   "outputs": [
    {
     "name": "stdout",
     "output_type": "stream",
     "text": [
      "(500,)\n",
      "(1, 51, 500)\n"
     ]
    }
   ],
   "source": [
    "print(top_photeng_bin_arr.shape)\n",
    "print(CMB_engloss.shape)"
   ]
  },
  {
   "cell_type": "code",
   "execution_count": 14,
   "metadata": {},
   "outputs": [
    {
     "name": "stdout",
     "output_type": "stream",
     "text": [
      "Creating high energy photon transfer function interpolation table...\n",
      "Creating low energy photon transfer function interpolation table...\n",
      "Creating low energy electron transfer function interpolation table...\n",
      "Creating CMB loss table...\n",
      "Interpolation tables created!\n",
      "Interpolating high energy photon transfer functions...\n",
      "Interpolating low energy photon transfer functions...\n",
      "Interpolating low energy electron transfer functions...\n",
      "Concatenating the low energy interpolation results...\n",
      "Interpolating CMB loss table...\n",
      "Interpolation complete!\n"
     ]
    }
   ],
   "source": [
    "# We will use the last binning as the photon and electron abscissa as an example.\n",
    "photeng = out_photeng_arr[-1]\n",
    "eleceng = out_eleceng_arr[-1]\n",
    "\n",
    "# photeng = photeng[1::5]\n",
    "\n",
    "photeng_low  = photeng[photeng <= 60]\n",
    "photeng_high = photeng[photeng > 60]\n",
    "\n",
    "# Indices where the new injection energy lies above 3keV.\n",
    "new_ind_photeng_above_3keV = np.where(photeng_high > 3000)[0][0]\n",
    "\n",
    "print('Creating high energy photon transfer function interpolation table...')\n",
    "new_phot_tf_raw_interp = interp1d(np.log(top_photeng_bin_arr), phot_tf_raw, axis=1)\n",
    "\n",
    "print('Creating low energy photon transfer function interpolation table...')\n",
    "\n",
    "new_lowengphot_below_3keV_tf_raw_interp = interp1d(\n",
    "    np.log(top_photeng_bin_arr[:ind_photeng_above_3keV]),\n",
    "    lowengphot_tf_raw[:, :ind_photeng_above_3keV, :, :],\n",
    "    bounds_error = False, fill_value = (np.nan, lowengphot_tf_raw[:, ind_photeng_above_3keV-1, :, :]),\n",
    "    axis=1\n",
    ")\n",
    "\n",
    "new_lowengphot_above_3keV_tf_raw_interp = interp1d(\n",
    "    np.log(top_photeng_bin_arr[ind_photeng_above_3keV:]), \n",
    "    lowengphot_tf_raw[:, ind_photeng_above_3keV:, :, :],\n",
    "    bounds_error = False, fill_value = (lowengphot_tf_raw[:, ind_photeng_above_3keV, :, :], np.nan),\n",
    "    axis=1\n",
    ")\n",
    "\n",
    "\n",
    "\n",
    "# The interpolation is split because of the sudden transition between photoionizers below 3keV\n",
    "# (immediately gets output) vs. photoionizers above 3keV (produces electrons first)\n",
    "\n",
    "print('Creating low energy electron transfer function interpolation table...')\n",
    "new_lowengelec_below_3keV_tf_raw_interp = interp1d(\n",
    "    np.log(top_photeng_bin_arr[:ind_photeng_above_3keV]), \n",
    "    lowengelec_tf_raw[:,:ind_photeng_above_3keV,:,:], \n",
    "    bounds_error = False, fill_value = (np.nan, lowengelec_tf_raw[:,ind_photeng_above_3keV-1,:,:]),\n",
    "    axis=1\n",
    ")\n",
    "\n",
    "new_lowengelec_above_3keV_tf_raw_interp = interp1d(\n",
    "    np.log(top_photeng_bin_arr[ind_photeng_above_3keV:]), \n",
    "    lowengelec_tf_raw[:,ind_photeng_above_3keV:,:,:], \n",
    "    bounds_error = False, fill_value = (lowengelec_tf_raw[:,ind_photeng_above_3keV,:,:], np.nan),\n",
    "    axis=1\n",
    ")\n",
    "\n",
    "print('Creating CMB loss table...')\n",
    "new_cmbloss_interp = interp1d(np.log(top_photeng_bin_arr), CMB_engloss, axis=2)\n",
    "print('Interpolation tables created!')\n",
    "\n",
    "print('Interpolating high energy photon transfer functions...')\n",
    "new_phot_tf_raw = new_phot_tf_raw_interp(np.log(photeng_high))\n",
    "\n",
    "print('Interpolating low energy photon transfer functions...')\n",
    "new_lowengphot_below_3keV_tf_raw = new_lowengphot_below_3keV_tf_raw_interp(\n",
    "    np.log(photeng_high[:new_ind_photeng_above_3keV])\n",
    ")\n",
    "new_lowengphot_above_3keV_tf_raw = new_lowengphot_above_3keV_tf_raw_interp(\n",
    "    np.log(photeng_high[new_ind_photeng_above_3keV:])\n",
    ")\n",
    "\n",
    "\n",
    "\n",
    "print('Interpolating low energy electron transfer functions...')\n",
    "new_lowengelec_below_3keV_tf_raw = new_lowengelec_below_3keV_tf_raw_interp(\n",
    "    np.log(photeng_high[:new_ind_photeng_above_3keV])\n",
    ")\n",
    "new_lowengelec_above_3keV_tf_raw = new_lowengelec_above_3keV_tf_raw_interp(\n",
    "    np.log(photeng_high[new_ind_photeng_above_3keV:])\n",
    ")\n",
    "\n",
    "print('Concatenating the low energy interpolation results...')\n",
    "new_lowengphot_tf_raw = np.concatenate([new_lowengphot_below_3keV_tf_raw, new_lowengphot_above_3keV_tf_raw], axis=1)\n",
    "new_lowengelec_tf_raw = np.concatenate([new_lowengelec_below_3keV_tf_raw, new_lowengelec_above_3keV_tf_raw], axis=1)\n",
    "\n",
    "print('Interpolating CMB loss table...')\n",
    "new_cmbloss_raw = new_cmbloss_interp(np.log(photeng_high))\n",
    "print('Interpolation complete!')\n",
    "\n",
    "new_out_photeng_interp = interp1d(np.log(top_photeng_bin_arr), np.log(out_photeng_arr), axis=0)\n",
    "new_out_eleceng_interp = interp1d(np.log(top_photeng_bin_arr), np.log(out_eleceng_arr), axis=0)\n",
    "new_out_photeng_arr = np.exp(new_out_photeng_interp(np.log(photeng_high)))\n",
    "new_out_eleceng_arr = np.exp(new_out_eleceng_interp(np.log(photeng_high)))\n",
    "\n"
   ]
  },
  {
   "cell_type": "code",
   "execution_count": 15,
   "metadata": {},
   "outputs": [
    {
     "name": "stdout",
     "output_type": "stream",
     "text": [
      "(1, 277, 51, 500)\n",
      "(1, 50, 51, 500)\n"
     ]
    }
   ],
   "source": [
    "print(new_lowengelec_above_3keV_tf_raw.shape)\n",
    "print(new_lowengelec_below_3keV_tf_raw.shape)"
   ]
  },
  {
   "cell_type": "code",
   "execution_count": 16,
   "metadata": {},
   "outputs": [],
   "source": [
    "# plt.figure()\n",
    "\n",
    "# injE_ind = 141\n",
    "# new_injE_ind = 91\n",
    "\n",
    "# print(top_photeng_bin_arr[injE_ind-1])\n",
    "# print(top_photeng_bin_arr[injE_ind])\n",
    "# print(photeng_high[new_injE_ind])\n",
    "\n",
    "\n",
    "# plt.plot(out_photeng_arr[injE_ind-1], phot_tf_raw[0,injE_ind-1,0,:])\n",
    "# plt.plot(out_photeng_arr[injE_ind], phot_tf_raw[0,injE_ind,0,:])\n",
    "# plt.plot(new_out_photeng_arr[new_injE_ind], new_phot_tf_raw[0,new_injE_ind,0,:])\n",
    "\n",
    "\n",
    "# ax = plt.gca()\n",
    "\n",
    "# ax.set_xscale('log')\n",
    "# ax.set_yscale('log')\n",
    "# plt.axis([1e4, 1e5, 1e-42, 1e-1])"
   ]
  },
  {
   "cell_type": "markdown",
   "metadata": {},
   "source": [
    "Now, we construct the list of `Spectrum` objects from our raw array of transfer functions..."
   ]
  },
  {
   "cell_type": "code",
   "execution_count": 17,
   "metadata": {},
   "outputs": [
    {
     "data": {
      "application/vnd.jupyter.widget-view+json": {
       "model_id": "c5e8ba65a7ea4948bd0b25e80940d2dc",
       "version_major": 2,
       "version_minor": 0
      },
      "text/html": [
       "<p>Failed to display Jupyter Widget of type <code>HBox</code>.</p>\n",
       "<p>\n",
       "  If you're reading this message in the Jupyter Notebook or JupyterLab Notebook, it may mean\n",
       "  that the widgets JavaScript is still loading. If this message persists, it\n",
       "  likely means that the widgets JavaScript library is either not installed or\n",
       "  not enabled. See the <a href=\"https://ipywidgets.readthedocs.io/en/stable/user_install.html\">Jupyter\n",
       "  Widgets Documentation</a> for setup instructions.\n",
       "</p>\n",
       "<p>\n",
       "  If you're reading this message in another frontend (for example, a static\n",
       "  rendering on GitHub or <a href=\"https://nbviewer.jupyter.org/\">NBViewer</a>),\n",
       "  it may mean that your frontend doesn't currently support widgets.\n",
       "</p>\n"
      ],
      "text/plain": [
       "HBox(children=(IntProgress(value=0, max=1), HTML(value='')))"
      ]
     },
     "metadata": {},
     "output_type": "display_data"
    },
    {
     "name": "stdout",
     "output_type": "stream",
     "text": [
      "\n"
     ]
    },
    {
     "data": {
      "application/vnd.jupyter.widget-view+json": {
       "model_id": "5d421b56b5154ea0bcbb00bbded20ac5",
       "version_major": 2,
       "version_minor": 0
      },
      "text/html": [
       "<p>Failed to display Jupyter Widget of type <code>HBox</code>.</p>\n",
       "<p>\n",
       "  If you're reading this message in the Jupyter Notebook or JupyterLab Notebook, it may mean\n",
       "  that the widgets JavaScript is still loading. If this message persists, it\n",
       "  likely means that the widgets JavaScript library is either not installed or\n",
       "  not enabled. See the <a href=\"https://ipywidgets.readthedocs.io/en/stable/user_install.html\">Jupyter\n",
       "  Widgets Documentation</a> for setup instructions.\n",
       "</p>\n",
       "<p>\n",
       "  If you're reading this message in another frontend (for example, a static\n",
       "  rendering on GitHub or <a href=\"https://nbviewer.jupyter.org/\">NBViewer</a>),\n",
       "  it may mean that your frontend doesn't currently support widgets.\n",
       "</p>\n"
      ],
      "text/plain": [
       "HBox(children=(IntProgress(value=0, max=1), HTML(value='')))"
      ]
     },
     "metadata": {},
     "output_type": "display_data"
    },
    {
     "name": "stdout",
     "output_type": "stream",
     "text": [
      "\n"
     ]
    },
    {
     "data": {
      "application/vnd.jupyter.widget-view+json": {
       "model_id": "8be66a658b3f46f0ac771d182ae1c812",
       "version_major": 2,
       "version_minor": 0
      },
      "text/html": [
       "<p>Failed to display Jupyter Widget of type <code>HBox</code>.</p>\n",
       "<p>\n",
       "  If you're reading this message in the Jupyter Notebook or JupyterLab Notebook, it may mean\n",
       "  that the widgets JavaScript is still loading. If this message persists, it\n",
       "  likely means that the widgets JavaScript library is either not installed or\n",
       "  not enabled. See the <a href=\"https://ipywidgets.readthedocs.io/en/stable/user_install.html\">Jupyter\n",
       "  Widgets Documentation</a> for setup instructions.\n",
       "</p>\n",
       "<p>\n",
       "  If you're reading this message in another frontend (for example, a static\n",
       "  rendering on GitHub or <a href=\"https://nbviewer.jupyter.org/\">NBViewer</a>),\n",
       "  it may mean that your frontend doesn't currently support widgets.\n",
       "</p>\n"
      ],
      "text/plain": [
       "HBox(children=(IntProgress(value=0, max=1), HTML(value='')))"
      ]
     },
     "metadata": {},
     "output_type": "display_data"
    },
    {
     "name": "stdout",
     "output_type": "stream",
     "text": [
      "\n"
     ]
    }
   ],
   "source": [
    "# spec_type = 'N' for eleceng, because we have already multiplied in the bin width earlier. \n",
    "\n",
    "photspec_list = [\n",
    "    [\n",
    "        [\n",
    "            Spectrum(\n",
    "                out_photeng, phot_tf[i,j,:], spec_type='N', \n",
    "                rs = np.exp(log_rs), in_eng = in_eng\n",
    "            ) for (j, log_rs) in enumerate(log_rs_arr)\n",
    "        ] for (i, (in_eng, out_photeng)) in enumerate(\n",
    "            zip(photeng_high, new_out_photeng_arr)\n",
    "        )\n",
    "    ] for phot_tf in tqdm(new_phot_tf_raw)\n",
    "]\n",
    "\n",
    "lowengphotspec_list = [\n",
    "    [\n",
    "        [\n",
    "            Spectrum(\n",
    "                out_photeng, lowengphot_tf[i,j,:], spec_type='N',\n",
    "                rs = np.exp(log_rs), in_eng = in_eng\n",
    "            ) for (j, log_rs) in enumerate(log_rs_arr)\n",
    "        ] for (i, (in_eng, out_photeng)) in enumerate(zip(photeng_high, new_out_photeng_arr))\n",
    "    ] for lowengphot_tf in tqdm(new_lowengphot_tf_raw)\n",
    "]\n",
    "\n",
    "lowengelecspec_list = [\n",
    "    [\n",
    "        [\n",
    "            Spectrum(\n",
    "                out_eleceng, lowengelec_tf[i,j,:], spec_type='N',\n",
    "                rs = np.exp(log_rs), in_eng = in_eng\n",
    "            ) for (j, log_rs) in enumerate(log_rs_arr)\n",
    "        ] for (i, (in_eng, out_eleceng)) in enumerate(zip(photeng_high, new_out_eleceng_arr))\n",
    "    ] for lowengelec_tf in tqdm(new_lowengelec_tf_raw)\n",
    "]\n"
   ]
  },
  {
   "cell_type": "markdown",
   "metadata": {},
   "source": [
    "... and rebin the `Spectrum` objects into the abscissa specified in `photeng`."
   ]
  },
  {
   "cell_type": "code",
   "execution_count": 18,
   "metadata": {
    "scrolled": true
   },
   "outputs": [
    {
     "data": {
      "application/vnd.jupyter.widget-view+json": {
       "model_id": "8541312a7dc04e808cf76f937d52731c",
       "version_major": 2,
       "version_minor": 0
      },
      "text/html": [
       "<p>Failed to display Jupyter Widget of type <code>HBox</code>.</p>\n",
       "<p>\n",
       "  If you're reading this message in the Jupyter Notebook or JupyterLab Notebook, it may mean\n",
       "  that the widgets JavaScript is still loading. If this message persists, it\n",
       "  likely means that the widgets JavaScript library is either not installed or\n",
       "  not enabled. See the <a href=\"https://ipywidgets.readthedocs.io/en/stable/user_install.html\">Jupyter\n",
       "  Widgets Documentation</a> for setup instructions.\n",
       "</p>\n",
       "<p>\n",
       "  If you're reading this message in another frontend (for example, a static\n",
       "  rendering on GitHub or <a href=\"https://nbviewer.jupyter.org/\">NBViewer</a>),\n",
       "  it may mean that your frontend doesn't currently support widgets.\n",
       "</p>\n"
      ],
      "text/plain": [
       "HBox(children=(IntProgress(value=0, max=1), HTML(value='')))"
      ]
     },
     "metadata": {},
     "output_type": "display_data"
    },
    {
     "data": {
      "application/vnd.jupyter.widget-view+json": {
       "model_id": "ffa29c81a27a47f7b5f3a3a1fdb0e504",
       "version_major": 2,
       "version_minor": 0
      },
      "text/html": [
       "<p>Failed to display Jupyter Widget of type <code>HBox</code>.</p>\n",
       "<p>\n",
       "  If you're reading this message in the Jupyter Notebook or JupyterLab Notebook, it may mean\n",
       "  that the widgets JavaScript is still loading. If this message persists, it\n",
       "  likely means that the widgets JavaScript library is either not installed or\n",
       "  not enabled. See the <a href=\"https://ipywidgets.readthedocs.io/en/stable/user_install.html\">Jupyter\n",
       "  Widgets Documentation</a> for setup instructions.\n",
       "</p>\n",
       "<p>\n",
       "  If you're reading this message in another frontend (for example, a static\n",
       "  rendering on GitHub or <a href=\"https://nbviewer.jupyter.org/\">NBViewer</a>),\n",
       "  it may mean that your frontend doesn't currently support widgets.\n",
       "</p>\n"
      ],
      "text/plain": [
       "HBox(children=(IntProgress(value=0, max=327), HTML(value='')))"
      ]
     },
     "metadata": {},
     "output_type": "display_data"
    },
    {
     "name": "stdout",
     "output_type": "stream",
     "text": [
      "\n"
     ]
    },
    {
     "data": {
      "application/vnd.jupyter.widget-view+json": {
       "model_id": "bb23b2a8edd84ac2ac8e96a1ad1b58a1",
       "version_major": 2,
       "version_minor": 0
      },
      "text/html": [
       "<p>Failed to display Jupyter Widget of type <code>HBox</code>.</p>\n",
       "<p>\n",
       "  If you're reading this message in the Jupyter Notebook or JupyterLab Notebook, it may mean\n",
       "  that the widgets JavaScript is still loading. If this message persists, it\n",
       "  likely means that the widgets JavaScript library is either not installed or\n",
       "  not enabled. See the <a href=\"https://ipywidgets.readthedocs.io/en/stable/user_install.html\">Jupyter\n",
       "  Widgets Documentation</a> for setup instructions.\n",
       "</p>\n",
       "<p>\n",
       "  If you're reading this message in another frontend (for example, a static\n",
       "  rendering on GitHub or <a href=\"https://nbviewer.jupyter.org/\">NBViewer</a>),\n",
       "  it may mean that your frontend doesn't currently support widgets.\n",
       "</p>\n"
      ],
      "text/plain": [
       "HBox(children=(IntProgress(value=0, max=1), HTML(value='')))"
      ]
     },
     "metadata": {},
     "output_type": "display_data"
    },
    {
     "data": {
      "application/vnd.jupyter.widget-view+json": {
       "model_id": "455ea83550ea4753af3617750cb30459",
       "version_major": 2,
       "version_minor": 0
      },
      "text/html": [
       "<p>Failed to display Jupyter Widget of type <code>HBox</code>.</p>\n",
       "<p>\n",
       "  If you're reading this message in the Jupyter Notebook or JupyterLab Notebook, it may mean\n",
       "  that the widgets JavaScript is still loading. If this message persists, it\n",
       "  likely means that the widgets JavaScript library is either not installed or\n",
       "  not enabled. See the <a href=\"https://ipywidgets.readthedocs.io/en/stable/user_install.html\">Jupyter\n",
       "  Widgets Documentation</a> for setup instructions.\n",
       "</p>\n",
       "<p>\n",
       "  If you're reading this message in another frontend (for example, a static\n",
       "  rendering on GitHub or <a href=\"https://nbviewer.jupyter.org/\">NBViewer</a>),\n",
       "  it may mean that your frontend doesn't currently support widgets.\n",
       "</p>\n"
      ],
      "text/plain": [
       "HBox(children=(IntProgress(value=0, max=327), HTML(value='')))"
      ]
     },
     "metadata": {},
     "output_type": "display_data"
    },
    {
     "name": "stdout",
     "output_type": "stream",
     "text": [
      "\n"
     ]
    },
    {
     "data": {
      "application/vnd.jupyter.widget-view+json": {
       "model_id": "3e23fe2e2d9a484ab475a3891d4c1066",
       "version_major": 2,
       "version_minor": 0
      },
      "text/html": [
       "<p>Failed to display Jupyter Widget of type <code>HBox</code>.</p>\n",
       "<p>\n",
       "  If you're reading this message in the Jupyter Notebook or JupyterLab Notebook, it may mean\n",
       "  that the widgets JavaScript is still loading. If this message persists, it\n",
       "  likely means that the widgets JavaScript library is either not installed or\n",
       "  not enabled. See the <a href=\"https://ipywidgets.readthedocs.io/en/stable/user_install.html\">Jupyter\n",
       "  Widgets Documentation</a> for setup instructions.\n",
       "</p>\n",
       "<p>\n",
       "  If you're reading this message in another frontend (for example, a static\n",
       "  rendering on GitHub or <a href=\"https://nbviewer.jupyter.org/\">NBViewer</a>),\n",
       "  it may mean that your frontend doesn't currently support widgets.\n",
       "</p>\n"
      ],
      "text/plain": [
       "HBox(children=(IntProgress(value=0, max=1), HTML(value='')))"
      ]
     },
     "metadata": {},
     "output_type": "display_data"
    },
    {
     "data": {
      "application/vnd.jupyter.widget-view+json": {
       "model_id": "e933e70641364cfab1b3af38fdc2febb",
       "version_major": 2,
       "version_minor": 0
      },
      "text/html": [
       "<p>Failed to display Jupyter Widget of type <code>HBox</code>.</p>\n",
       "<p>\n",
       "  If you're reading this message in the Jupyter Notebook or JupyterLab Notebook, it may mean\n",
       "  that the widgets JavaScript is still loading. If this message persists, it\n",
       "  likely means that the widgets JavaScript library is either not installed or\n",
       "  not enabled. See the <a href=\"https://ipywidgets.readthedocs.io/en/stable/user_install.html\">Jupyter\n",
       "  Widgets Documentation</a> for setup instructions.\n",
       "</p>\n",
       "<p>\n",
       "  If you're reading this message in another frontend (for example, a static\n",
       "  rendering on GitHub or <a href=\"https://nbviewer.jupyter.org/\">NBViewer</a>),\n",
       "  it may mean that your frontend doesn't currently support widgets.\n",
       "</p>\n"
      ],
      "text/plain": [
       "HBox(children=(IntProgress(value=0, max=327), HTML(value='')))"
      ]
     },
     "metadata": {},
     "output_type": "display_data"
    },
    {
     "name": "stdout",
     "output_type": "stream",
     "text": [
      "\n"
     ]
    }
   ],
   "source": [
    "# switch_spec_type to make all of the Spectrum objects of spec_type = 'N'\n",
    "\n",
    "for phot_specs_xe in tqdm(photspec_list):\n",
    "    for phot_specs in tqdm(phot_specs_xe):\n",
    "        for phot_spec in phot_specs:\n",
    "            phot_spec.rebin(photeng)\n",
    "#             phot_spec.switch_spec_type()\n",
    "            \n",
    "for lowengphot_specs_xe in tqdm(lowengphotspec_list):\n",
    "    for lowengphot_specs in tqdm(lowengphot_specs_xe):\n",
    "        for phot_spec in lowengphot_specs:\n",
    "            phot_spec.rebin(photeng)\n",
    "#             phot_spec.switch_spec_type()\n",
    "            \n",
    "for lowengelec_specs_xe in tqdm(lowengelecspec_list):\n",
    "    for lowengelec_specs in tqdm(lowengelec_specs_xe):\n",
    "        for elec_spec in lowengelec_specs:\n",
    "            elec_spec.rebin(eleceng)\n",
    "#             elec_spec.switch_spec_type()"
   ]
  },
  {
   "cell_type": "code",
   "execution_count": 19,
   "metadata": {},
   "outputs": [
    {
     "name": "stdout",
     "output_type": "stream",
     "text": [
      "144480.78482945805\n",
      "144480.78482945805\n"
     ]
    }
   ],
   "source": [
    "test = lowengphotspec_list[0][100][3]\n",
    "print(test.in_eng)\n",
    "print(test.eng[273])"
   ]
  },
  {
   "cell_type": "markdown",
   "metadata": {},
   "source": [
    "Finally, we can construct the `TransferFuncList` from this."
   ]
  },
  {
   "cell_type": "code",
   "execution_count": 20,
   "metadata": {},
   "outputs": [
    {
     "data": {
      "application/vnd.jupyter.widget-view+json": {
       "model_id": "c433431b154c4631b75026dd2b506cb4",
       "version_major": 2,
       "version_minor": 0
      },
      "text/html": [
       "<p>Failed to display Jupyter Widget of type <code>HBox</code>.</p>\n",
       "<p>\n",
       "  If you're reading this message in the Jupyter Notebook or JupyterLab Notebook, it may mean\n",
       "  that the widgets JavaScript is still loading. If this message persists, it\n",
       "  likely means that the widgets JavaScript library is either not installed or\n",
       "  not enabled. See the <a href=\"https://ipywidgets.readthedocs.io/en/stable/user_install.html\">Jupyter\n",
       "  Widgets Documentation</a> for setup instructions.\n",
       "</p>\n",
       "<p>\n",
       "  If you're reading this message in another frontend (for example, a static\n",
       "  rendering on GitHub or <a href=\"https://nbviewer.jupyter.org/\">NBViewer</a>),\n",
       "  it may mean that your frontend doesn't currently support widgets.\n",
       "</p>\n"
      ],
      "text/plain": [
       "HBox(children=(IntProgress(value=0, max=1), HTML(value='')))"
      ]
     },
     "metadata": {},
     "output_type": "display_data"
    },
    {
     "name": "stdout",
     "output_type": "stream",
     "text": [
      "\n"
     ]
    },
    {
     "data": {
      "application/vnd.jupyter.widget-view+json": {
       "model_id": "3571ddf16b314d35b1c1a2cfe5cd60db",
       "version_major": 2,
       "version_minor": 0
      },
      "text/html": [
       "<p>Failed to display Jupyter Widget of type <code>HBox</code>.</p>\n",
       "<p>\n",
       "  If you're reading this message in the Jupyter Notebook or JupyterLab Notebook, it may mean\n",
       "  that the widgets JavaScript is still loading. If this message persists, it\n",
       "  likely means that the widgets JavaScript library is either not installed or\n",
       "  not enabled. See the <a href=\"https://ipywidgets.readthedocs.io/en/stable/user_install.html\">Jupyter\n",
       "  Widgets Documentation</a> for setup instructions.\n",
       "</p>\n",
       "<p>\n",
       "  If you're reading this message in another frontend (for example, a static\n",
       "  rendering on GitHub or <a href=\"https://nbviewer.jupyter.org/\">NBViewer</a>),\n",
       "  it may mean that your frontend doesn't currently support widgets.\n",
       "</p>\n"
      ],
      "text/plain": [
       "HBox(children=(IntProgress(value=0, max=1), HTML(value='')))"
      ]
     },
     "metadata": {},
     "output_type": "display_data"
    },
    {
     "name": "stdout",
     "output_type": "stream",
     "text": [
      "\n"
     ]
    },
    {
     "data": {
      "application/vnd.jupyter.widget-view+json": {
       "model_id": "1c107f9cf9cd4a86a99a103471b91ae5",
       "version_major": 2,
       "version_minor": 0
      },
      "text/html": [
       "<p>Failed to display Jupyter Widget of type <code>HBox</code>.</p>\n",
       "<p>\n",
       "  If you're reading this message in the Jupyter Notebook or JupyterLab Notebook, it may mean\n",
       "  that the widgets JavaScript is still loading. If this message persists, it\n",
       "  likely means that the widgets JavaScript library is either not installed or\n",
       "  not enabled. See the <a href=\"https://ipywidgets.readthedocs.io/en/stable/user_install.html\">Jupyter\n",
       "  Widgets Documentation</a> for setup instructions.\n",
       "</p>\n",
       "<p>\n",
       "  If you're reading this message in another frontend (for example, a static\n",
       "  rendering on GitHub or <a href=\"https://nbviewer.jupyter.org/\">NBViewer</a>),\n",
       "  it may mean that your frontend doesn't currently support widgets.\n",
       "</p>\n"
      ],
      "text/plain": [
       "HBox(children=(IntProgress(value=0, max=1), HTML(value='')))"
      ]
     },
     "metadata": {},
     "output_type": "display_data"
    },
    {
     "name": "stdout",
     "output_type": "stream",
     "text": [
      "\n"
     ]
    }
   ],
   "source": [
    "tfunclist_photspec_list = [\n",
    "    tflist.TransferFuncList(\n",
    "        [\n",
    "            tf.TransFuncAtEnergy(spec_arr, dlnz=0.002)\n",
    "            for spec_arr in photspec_xe\n",
    "        ]\n",
    "    ) for photspec_xe in tqdm(photspec_list)\n",
    "]\n",
    "\n",
    "tfunclist_lowengphotspec_list = [\n",
    "    tflist.TransferFuncList(\n",
    "        [\n",
    "            tf.TransFuncAtEnergy(spec_arr, dlnz=0.002)\n",
    "            for spec_arr in lowengphotspec_xe\n",
    "        ]\n",
    "    ) for lowengphotspec_xe in tqdm(lowengphotspec_list)\n",
    "]\n",
    "    \n",
    "\n",
    "tfunclist_lowengelecspec_list = [\n",
    "    tflist.TransferFuncList(\n",
    "        [\n",
    "            tf.TransFuncAtEnergy(spec_arr, dlnz=0.002)\n",
    "            for spec_arr in lowengelecspec_xe\n",
    "        ]\n",
    "    ) for lowengelecspec_xe in tqdm(lowengelecspec_list)\n",
    "]"
   ]
  },
  {
   "cell_type": "markdown",
   "metadata": {},
   "source": [
    "We will now transpose all of the `TransferFuncList` objects so that they are now all of type `'rs'`."
   ]
  },
  {
   "cell_type": "code",
   "execution_count": 21,
   "metadata": {},
   "outputs": [],
   "source": [
    "for tflist_hep, tflist_lep, tflist_lee in zip(\n",
    "    tfunclist_photspec_list, tfunclist_lowengphotspec_list, tfunclist_lowengelecspec_list):\n",
    "    tflist_hep.transpose()\n",
    "    tflist_lep.transpose()\n",
    "    tflist_lee.transpose()\n",
    "    for tf_hep, tf_lep, tf_lee in zip(tflist_hep, tflist_lep, tflist_lee):\n",
    "        tf_hep._grid_vals[np.where(tf_hep.grid_vals < 0)] = 1e-100\n",
    "        tf_lep._grid_vals[np.where(tf_lep.grid_vals < 0)] = 1e-100\n",
    "        tf_lee._grid_vals[np.where(tf_lee.grid_vals < 0)] = 1e-100"
   ]
  },
  {
   "cell_type": "code",
   "execution_count": 22,
   "metadata": {
    "scrolled": false
   },
   "outputs": [
    {
     "data": {
      "text/plain": [
       "[100.0, 10000.0, 1e-42, 1000.0]"
      ]
     },
     "execution_count": 22,
     "metadata": {},
     "output_type": "execute_result"
    },
    {
     "data": {
      "image/png": "[encoded data removed]",
      "text/plain": [
       "<Figure size 720x720 with 1 Axes>"
      ]
     },
     "metadata": {},
     "output_type": "display_data"
    }
   ],
   "source": [
    "test = tfunclist_photspec_list[-1][0]\n",
    "\n",
    "plt.figure()\n",
    "\n",
    "ax = plt.gca()\n",
    "\n",
    "# test.plot(ax, ind=(0,327), step=30)\n",
    "test.plot(ax, ind=(48, 51), step=1)\n",
    "\n",
    "ax.set_xscale('log')\n",
    "ax.set_yscale('log')\n",
    "plt.axis([1e2, 1e4, 1e-42, 1e3])"
   ]
  },
  {
   "cell_type": "code",
   "execution_count": 23,
   "metadata": {},
   "outputs": [
    {
     "data": {
      "text/plain": [
       "2829.8607514201576"
      ]
     },
     "execution_count": 23,
     "metadata": {},
     "output_type": "execute_result"
    }
   ],
   "source": [
    "test.in_eng[49]"
   ]
  },
  {
   "cell_type": "code",
   "execution_count": 24,
   "metadata": {},
   "outputs": [
    {
     "data": {
      "text/plain": [
       "[0.0001, 5000.0, 1e-42, 0.03]"
      ]
     },
     "execution_count": 24,
     "metadata": {},
     "output_type": "execute_result"
    },
    {
     "data": {
      "image/png": "[encoded data removed]",
      "text/plain": [
       "<Figure size 720x720 with 1 Axes>"
      ]
     },
     "metadata": {},
     "output_type": "display_data"
    }
   ],
   "source": [
    "test = tfunclist_lowengphotspec_list[-1][30]\n",
    "\n",
    "plt.figure()\n",
    "\n",
    "ax = plt.gca()\n",
    "\n",
    "test.plot(ax, ind=[49, 50])\n",
    "\n",
    "ax.set_xscale('log')\n",
    "ax.set_yscale('log')\n",
    "plt.axis([1e-4, 5e3, 1e-42, 3e-2])"
   ]
  },
  {
   "cell_type": "code",
   "execution_count": 25,
   "metadata": {},
   "outputs": [
    {
     "data": {
      "text/plain": [
       "[0.1, 4000.0, 1e-12, 0.01]"
      ]
     },
     "execution_count": 25,
     "metadata": {},
     "output_type": "execute_result"
    },
    {
     "data": {
      "image/png": "[encoded data removed]",
      "text/plain": [
       "<Figure size 720x720 with 1 Axes>"
      ]
     },
     "metadata": {},
     "output_type": "display_data"
    }
   ],
   "source": [
    "test = tfunclist_lowengelecspec_list[-1][0]\n",
    "\n",
    "plt.figure()\n",
    "\n",
    "ax = plt.gca()\n",
    "\n",
    "test.plot(ax, ind=np.array([49, 50]))\n",
    "# test.plot(ax, ind=np.array([50]))\n",
    "ax.set_xscale('log')\n",
    "ax.set_yscale('log')\n",
    "plt.axis([1e-1, 4e3, 1e-12, 1e-2])"
   ]
  },
  {
   "cell_type": "code",
   "execution_count": 26,
   "metadata": {},
   "outputs": [
    {
     "data": {
      "text/plain": [
       "22699.913242733463"
      ]
     },
     "execution_count": 26,
     "metadata": {},
     "output_type": "execute_result"
    }
   ],
   "source": [
    "tfunclist_lowengelecspec_list[-1][0].in_eng[76]"
   ]
  },
  {
   "cell_type": "markdown",
   "metadata": {},
   "source": [
    "Save the transfer functions."
   ]
  },
  {
   "cell_type": "code",
   "execution_count": 27,
   "metadata": {},
   "outputs": [],
   "source": [
    "pickle.dump(tfunclist_photspec_list, \n",
    "           open(\"/Users/hongwan/Dropbox (MIT)/Photon Deposition/tfunclist_photspec_60eV_list_new.raw\", \"wb\")\n",
    "           )\n",
    "\n",
    "pickle.dump(tfunclist_lowengphotspec_list, \n",
    "           open(\"/Users/hongwan/Dropbox (MIT)/Photon Deposition/tfunclist_lowengphotspec_60eV_list_new.raw\", \"wb\")\n",
    "           )\n",
    "\n",
    "pickle.dump(tfunclist_lowengelecspec_list, \n",
    "           open(\"/Users/hongwan/Dropbox (MIT)/Photon Deposition/tfunclist_lowengelecspec_60eV_list_new.raw\", \"wb\")\n",
    "           )\n",
    "\n",
    "pickle.dump(\n",
    "    new_cmbloss_raw, \n",
    "    open(\"/Users/hongwan/Dropbox (MIT)/Photon Deposition/CMB_engloss_60eV_list_new.raw\", \"wb\")       \n",
    "           )"
   ]
  },
  {
   "cell_type": "code",
   "execution_count": null,
   "metadata": {},
   "outputs": [],
   "source": []
  }
 ],
 "metadata": {
  "kernelspec": {
   "display_name": "Python 3",
   "language": "python",
   "name": "python3"
  },
  "language_info": {
   "codemirror_mode": {
    "name": "ipython",
    "version": 3
   },
   "file_extension": ".py",
   "mimetype": "text/x-python",
   "name": "python",
   "nbconvert_exporter": "python",
   "pygments_lexer": "ipython3",
   "version": "3.6.5"
  }
 },
 "nbformat": 4,
 "nbformat_minor": 2
}
