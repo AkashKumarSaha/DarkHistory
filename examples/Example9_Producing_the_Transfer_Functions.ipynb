{
 "cells": [
  {
   "cell_type": "markdown",
   "metadata": {},
   "source": [
    "# Producing the Transfer Functions"
   ]
  },
  {
   "cell_type": "code",
   "execution_count": 1,
   "metadata": {},
   "outputs": [],
   "source": [
    "%load_ext autoreload\n",
    "import sys\n",
    "sys.path.append(\"..\")"
   ]
  },
  {
   "cell_type": "markdown",
   "metadata": {},
   "source": [
    "## Notebook Initialization"
   ]
  },
  {
   "cell_type": "code",
   "execution_count": 2,
   "metadata": {},
   "outputs": [],
   "source": [
    "%autoreload\n",
    "import numpy as np\n",
    "import pickle\n",
    "from tqdm import tqdm_notebook as tqdm\n",
    "\n",
    "import matplotlib\n",
    "matplotlib.rc_file('matplotlibrc')\n",
    "import matplotlib.pyplot as plt\n",
    "\n",
    "%matplotlib inline\n",
    "\n",
    "matplotlib.rcParams['figure.figsize'] = [10,10]\n",
    "\n",
    "\n",
    "from darkhistory.spec.spectrum import Spectrum\n",
    "import darkhistory.spec.spectools as spectools\n",
    "import darkhistory.spec.transferfunction as tf\n",
    "import darkhistory.spec.transferfunclist as tflist\n",
    "import darkhistory.physics as phys\n",
    "import darkhistory.utilities as utils\n",
    "\n",
    "from scipy.interpolate import interp1d\n",
    "\n",
    "# np.set_printoptions(threshold=np.nan)"
   ]
  },
  {
   "cell_type": "markdown",
   "metadata": {},
   "source": [
    "## Import Raw Data"
   ]
  },
  {
   "cell_type": "code",
   "execution_count": 3,
   "metadata": {},
   "outputs": [],
   "source": [
    "# xes_str = [\n",
    "#     '4.540E-05', '2.746E-04', '1.659E-03', '9.952E-03', '5.732E-02',\n",
    "#     '2.689E-01', '6.900E-01', '9.309E-01', '9.879E-01', '9.980E-01',\n",
    "#     '9.997E-01'\n",
    "    \n",
    "# ]\n",
    "\n",
    "xes_str = ['2.746E-04']\n",
    "\n",
    "file_names = [\n",
    "    '/Users/hongwan/Dropbox (MIT)/Photon Deposition/transferfunction_withloweng_cmbloss_60eV_new_binning_xe_'+str+'_nointerp.p'\n",
    "    for str in xes_str\n",
    "    \n",
    "]\n",
    "\n",
    "raw_tf_tuple = [pickle.load(open(file_name, \"rb\")) for file_name in file_names]\n",
    "\n",
    "raw_tf_list = [tup[0] for tup in raw_tf_tuple]\n",
    "CMB_engloss_list = [tup[1] for tup in raw_tf_tuple]"
   ]
  },
  {
   "cell_type": "markdown",
   "metadata": {},
   "source": [
    "## Raw Data Manipulation"
   ]
  },
  {
   "cell_type": "markdown",
   "metadata": {},
   "source": [
    "The raw data is a large array with no abscissa values included. We need to create the abscissae related to this large array (the abscissa of photon energies and electron energies). \n",
    "\n",
    "First, we swap some of the axes. The initial array has dimensions corresponding to (injected photon energy, redshift, outgoing energy, type), where type is high-energy photons, low-energy photons and low-energy electrons respectively. "
   ]
  },
  {
   "cell_type": "code",
   "execution_count": 4,
   "metadata": {},
   "outputs": [],
   "source": [
    "for i in np.arange(len(raw_tf_list)):\n",
    "    raw_tf_list[i] = np.swapaxes(raw_tf_list[i], 0, 1)\n",
    "    raw_tf_list[i] = np.flip(raw_tf_list[i], axis=0)\n",
    "    \n",
    "for i in np.arange(len(CMB_engloss_list)):\n",
    "    CMB_engloss_list[i] = np.transpose(CMB_engloss_list[i])\n",
    "    \n",
    "CMB_engloss = np.array(CMB_engloss_list)\n",
    "\n",
    "CMB_engloss = np.flip(CMB_engloss,1)"
   ]
  },
  {
   "cell_type": "code",
   "execution_count": 5,
   "metadata": {},
   "outputs": [
    {
     "data": {
      "text/plain": [
       "7.417530113799286e-07"
      ]
     },
     "execution_count": 5,
     "metadata": {},
     "output_type": "execute_result"
    }
   ],
   "source": [
    "CMB_engloss[0,0,495]"
   ]
  },
  {
   "cell_type": "markdown",
   "metadata": {},
   "source": [
    "At this point, the transfer function `raw_tf_list` is listed in the following order: (redshift, input photon energy, output energy, type), and the order is in decreasing redshift.\n",
    "\n",
    "`CMB_engloss` is in the order (redshift, input energy), order in decreasing redshift.\n",
    "\n",
    "The abscissa for the transfer functions are as follows. For the injected photon energy and redshifts,"
   ]
  },
  {
   "cell_type": "code",
   "execution_count": 6,
   "metadata": {},
   "outputs": [],
   "source": [
    "# Input energy abscissa. \n",
    "in_eng_step = 501\n",
    "# in_eng_low = 3e3 + 100.\n",
    "in_eng_low = 60\n",
    "in_eng_upp = 5e3 * np.exp(39 * np.log(1e13/5e3) / 40)\n",
    "\n",
    "in_eng_arr = (\n",
    "    in_eng_low * np.exp((np.arange(in_eng_step)) * \n",
    "              np.log(in_eng_upp/in_eng_low) / in_eng_step)\n",
    ")\n",
    "\n",
    "in_eng_arr = in_eng_arr[1:]\n",
    "\n",
    "# Redshift abscissa, decreasing order. \n",
    "rs_step = 50\n",
    "rs_upp  = 31\n",
    "rs_low  = 4\n",
    "\n",
    "log_rs = (\n",
    "    np.log(rs_low) + (np.arange(rs_step)+1)\n",
    "    *(np.log(rs_upp) - np.log(rs_low))/rs_step\n",
    ")\n",
    "\n",
    "log_rs = np.insert(log_rs, 0, np.log(4.))\n",
    "\n",
    "log_rs_arr = np.flipud(log_rs)\n",
    "\n",
    "# xe abscissa\n",
    "\n",
    "xe = 0.5 + 0.5*np.tanh([-5., -4.1, -3.2, -2.3, -1.4, -0.5, 0.4, 1.3, 2.2, 3.1, 4])"
   ]
  },
  {
   "cell_type": "markdown",
   "metadata": {},
   "source": [
    "The output abscissa depends on the injection energy, and are different for photons and electrons. We write these as functions of the injection energy for convenience."
   ]
  },
  {
   "cell_type": "code",
   "execution_count": 7,
   "metadata": {},
   "outputs": [],
   "source": [
    "def get_out_photeng(in_eng):\n",
    "    \n",
    "    log_bin_width = np.log((phys.me*0 + in_eng)/1e-4)/500\n",
    "    bin_boundary  = 1e-4 * np.exp(np.arange(501) * log_bin_width)\n",
    "    bin_boundary_low = bin_boundary[0:500]\n",
    "    bin_boundary_upp = bin_boundary[1:501]\n",
    "\n",
    "    return np.sqrt(bin_boundary_low * bin_boundary_upp)\n",
    "\n",
    "def get_out_eleceng(in_eng):\n",
    "    \n",
    "    log_bin_width = np.log(in_eng)/500\n",
    "    bin_boundary  = phys.me + np.exp(np.arange(501) * log_bin_width)\n",
    "    bin_boundary_low = bin_boundary[:500]\n",
    "    bin_boundary_upp = bin_boundary[1:]\n",
    "    return np.sqrt(\n",
    "        (bin_boundary_low - phys.me)*(bin_boundary_upp - phys.me)\n",
    "    )    "
   ]
  },
  {
   "cell_type": "markdown",
   "metadata": {},
   "source": [
    "The transfer function is calculated by injecting 2 photons at the input energy abscissa. However, the first step is to assign $x$ photons to the top bin of the *output* photon abscissa, such that $x$ times the energy of the top bin is 2 times the injection energy. Because of the misalignment between the two abscissae, as well as the fact that we want to transfer function for a single electron, we have to normalize the results first.\n",
    "\n",
    "First, we construct two arrays: a list of output abscissae (for both photons and electrons) given the injection abscissa, and a list of the energy of the *output* photon energy bin where the injected photons are assigned to. Then we compute the normalization factor. "
   ]
  },
  {
   "cell_type": "code",
   "execution_count": 8,
   "metadata": {},
   "outputs": [],
   "source": [
    "# dimensions input x output\n",
    "# output energy abscissae\n",
    "out_photeng_arr = np.array([get_out_photeng(eng) for eng in in_eng_arr])\n",
    "# dimensions input x output\n",
    "out_eleceng_arr = np.array([get_out_eleceng(eng) for eng in in_eng_arr])\n",
    "\n",
    "# dimensions input\n",
    "# original injection energies\n",
    "top_photeng_bin_arr = np.array(\n",
    "    [\n",
    "        photeng[photeng < eng][-1] \n",
    "        for eng,photeng in zip(in_eng_arr, out_photeng_arr)\n",
    "    ]\n",
    ")\n",
    "\n",
    "# pad top_photeng_bin_arr to go down to 1e-4\n",
    "\n",
    "# dimensions input\n",
    "norm_fac_arr = in_eng_arr/top_photeng_bin_arr*2"
   ]
  },
  {
   "cell_type": "markdown",
   "metadata": {},
   "source": [
    "Dividing by the normalization factor gives the spectra for the injection of 1 photon, with energy given by `top_photeng_bin_arr`. \n",
    "\n",
    "Now we construct a raw array of all of the transfer functions, on which we will perform an interpolation to extract a set of transfer functions for use, given a chosen abscissa.\n",
    "\n",
    "The final dimension of these lists is (xe, in_eng, rs, out_eng)"
   ]
  },
  {
   "cell_type": "code",
   "execution_count": 9,
   "metadata": {},
   "outputs": [
    {
     "data": {
      "application/vnd.jupyter.widget-view+json": {
       "model_id": "ff70cdcd2d434e9f9910c15f34c10879",
       "version_major": 2,
       "version_minor": 0
      },
      "text/html": [
       "<p>Failed to display Jupyter Widget of type <code>HBox</code>.</p>\n",
       "<p>\n",
       "  If you're reading this message in the Jupyter Notebook or JupyterLab Notebook, it may mean\n",
       "  that the widgets JavaScript is still loading. If this message persists, it\n",
       "  likely means that the widgets JavaScript library is either not installed or\n",
       "  not enabled. See the <a href=\"https://ipywidgets.readthedocs.io/en/stable/user_install.html\">Jupyter\n",
       "  Widgets Documentation</a> for setup instructions.\n",
       "</p>\n",
       "<p>\n",
       "  If you're reading this message in another frontend (for example, a static\n",
       "  rendering on GitHub or <a href=\"https://nbviewer.jupyter.org/\">NBViewer</a>),\n",
       "  it may mean that your frontend doesn't currently support widgets.\n",
       "</p>\n"
      ],
      "text/plain": [
       "HBox(children=(IntProgress(value=0, max=1), HTML(value='')))"
      ]
     },
     "metadata": {},
     "output_type": "display_data"
    },
    {
     "name": "stdout",
     "output_type": "stream",
     "text": [
      "\n"
     ]
    },
    {
     "data": {
      "application/vnd.jupyter.widget-view+json": {
       "model_id": "d29b39201acf4a11aa39ad8c22c5f431",
       "version_major": 2,
       "version_minor": 0
      },
      "text/html": [
       "<p>Failed to display Jupyter Widget of type <code>HBox</code>.</p>\n",
       "<p>\n",
       "  If you're reading this message in the Jupyter Notebook or JupyterLab Notebook, it may mean\n",
       "  that the widgets JavaScript is still loading. If this message persists, it\n",
       "  likely means that the widgets JavaScript library is either not installed or\n",
       "  not enabled. See the <a href=\"https://ipywidgets.readthedocs.io/en/stable/user_install.html\">Jupyter\n",
       "  Widgets Documentation</a> for setup instructions.\n",
       "</p>\n",
       "<p>\n",
       "  If you're reading this message in another frontend (for example, a static\n",
       "  rendering on GitHub or <a href=\"https://nbviewer.jupyter.org/\">NBViewer</a>),\n",
       "  it may mean that your frontend doesn't currently support widgets.\n",
       "</p>\n"
      ],
      "text/plain": [
       "HBox(children=(IntProgress(value=0, max=1), HTML(value='')))"
      ]
     },
     "metadata": {},
     "output_type": "display_data"
    },
    {
     "name": "stdout",
     "output_type": "stream",
     "text": [
      "\n"
     ]
    },
    {
     "data": {
      "application/vnd.jupyter.widget-view+json": {
       "model_id": "23cdc2c6ffd34006a9012f5d42cbfd44",
       "version_major": 2,
       "version_minor": 0
      },
      "text/html": [
       "<p>Failed to display Jupyter Widget of type <code>HBox</code>.</p>\n",
       "<p>\n",
       "  If you're reading this message in the Jupyter Notebook or JupyterLab Notebook, it may mean\n",
       "  that the widgets JavaScript is still loading. If this message persists, it\n",
       "  likely means that the widgets JavaScript library is either not installed or\n",
       "  not enabled. See the <a href=\"https://ipywidgets.readthedocs.io/en/stable/user_install.html\">Jupyter\n",
       "  Widgets Documentation</a> for setup instructions.\n",
       "</p>\n",
       "<p>\n",
       "  If you're reading this message in another frontend (for example, a static\n",
       "  rendering on GitHub or <a href=\"https://nbviewer.jupyter.org/\">NBViewer</a>),\n",
       "  it may mean that your frontend doesn't currently support widgets.\n",
       "</p>\n"
      ],
      "text/plain": [
       "HBox(children=(IntProgress(value=0, max=1), HTML(value='')))"
      ]
     },
     "metadata": {},
     "output_type": "display_data"
    },
    {
     "name": "stdout",
     "output_type": "stream",
     "text": [
      "\n"
     ]
    }
   ],
   "source": [
    "phot_tf_raw = np.array([\n",
    "    [\n",
    "        [raw_tf[i,j,:,0]/norm_fac for (i, log_rs) in enumerate(log_rs_arr)]\n",
    "        for (j, (in_eng, norm_fac)) in enumerate(zip(in_eng_arr, norm_fac_arr))\n",
    "    ] for raw_tf in tqdm(raw_tf_list)\n",
    "])\n",
    "\n",
    "lowengphot_tf_raw = np.array([\n",
    "    [\n",
    "        [raw_tf[i,j,:,1]/norm_fac for (i, log_rs) in enumerate(log_rs_arr)]\n",
    "        for (j, (in_eng, norm_fac)) in enumerate(zip(in_eng_arr, norm_fac_arr))\n",
    "    ] for raw_tf in tqdm(raw_tf_list)\n",
    "])\n",
    "\n",
    "lowengelec_tf_raw = np.array([\n",
    "    [\n",
    "        [raw_tf[i,j,:,2]/norm_fac for (i, log_rs) in enumerate(log_rs_arr)]\n",
    "        for (j, (in_eng, norm_fac)) in enumerate(zip(in_eng_arr, norm_fac_arr))\n",
    "    ] for raw_tf in tqdm(raw_tf_list)\n",
    "])\n",
    "\n",
    "CMB_engloss = CMB_engloss/norm_fac_arr"
   ]
  },
  {
   "cell_type": "markdown",
   "metadata": {},
   "source": [
    "## Generating the Transfer Functions"
   ]
  },
  {
   "cell_type": "code",
   "execution_count": 10,
   "metadata": {},
   "outputs": [
    {
     "name": "stdout",
     "output_type": "stream",
     "text": [
      "(1, 500, 51, 500)\n"
     ]
    },
    {
     "data": {
      "image/png": "[encoded data removed]",
      "text/plain": [
       "<Figure size 720x720 with 1 Axes>"
      ]
     },
     "metadata": {},
     "output_type": "display_data"
    }
   ],
   "source": [
    "print(phot_tf_raw.shape)\n",
    "\n",
    "injE_ind = 76\n",
    "\n",
    "plt.figure()\n",
    "\n",
    "plt.plot(out_eleceng_arr[injE_ind], lowengelec_tf_raw[0,injE_ind,0,:])\n",
    "plt.plot(out_eleceng_arr[injE_ind+1], lowengelec_tf_raw[0,injE_ind+1,0,:])\n",
    "\n",
    "ax = plt.gca()\n",
    "\n",
    "ax.set_xscale('log')\n",
    "ax.set_yscale('log')"
   ]
  },
  {
   "cell_type": "code",
   "execution_count": 11,
   "metadata": {},
   "outputs": [],
   "source": [
    "# indices where the old injection energy binning lies above 3keV.\n",
    "ind_photeng_above_3keV = np.where(top_photeng_bin_arr > 3000)[0][0]\n"
   ]
  },
  {
   "cell_type": "markdown",
   "metadata": {},
   "source": [
    "Now we build the transfer functions, given some initial abscissa that will be used throughout the code. The right thing to do is simply to interpolate directly over the raw arrays above, as a function of the injection energy. "
   ]
  },
  {
   "cell_type": "code",
   "execution_count": 12,
   "metadata": {},
   "outputs": [
    {
     "name": "stdout",
     "output_type": "stream",
     "text": [
      "(500,)\n",
      "(1, 51, 500)\n"
     ]
    }
   ],
   "source": [
    "print(top_photeng_bin_arr.shape)\n",
    "print(CMB_engloss.shape)"
   ]
  },
  {
   "cell_type": "code",
   "execution_count": 13,
   "metadata": {},
   "outputs": [
    {
     "name": "stdout",
     "output_type": "stream",
     "text": [
      "Creating high energy photon transfer function interpolation table...\n",
      "Creating low energy photon transfer function interpolation table...\n",
      "Creating low energy electron transfer function interpolation table...\n",
      "Creating CMB loss table...\n",
      "Interpolation tables created!\n",
      "Interpolating high energy photon transfer functions...\n",
      "Interpolating low energy photon transfer functions...\n",
      "Interpolating low energy electron transfer functions...\n",
      "Concatenating the low energy interpolation results...\n",
      "Interpolating CMB loss table...\n",
      "Interpolation complete!\n"
     ]
    }
   ],
   "source": [
    "# We will use the last binning as the photon and electron abscissa as an example.\n",
    "photeng = out_photeng_arr[-1]\n",
    "eleceng = out_eleceng_arr[-1]\n",
    "\n",
    "# photeng = photeng[1::5]\n",
    "\n",
    "photeng_low  = photeng[photeng <= 60]\n",
    "photeng_high = photeng[photeng > 60]\n",
    "\n",
    "# Indices where the new injection energy lies above 3keV.\n",
    "new_ind_photeng_above_3keV = np.where(photeng_high > 3000)[0][0]\n",
    "\n",
    "print('Creating high energy photon transfer function interpolation table...')\n",
    "new_phot_tf_raw_interp = interp1d(np.log(top_photeng_bin_arr), phot_tf_raw, axis=1)\n",
    "\n",
    "print('Creating low energy photon transfer function interpolation table...')\n",
    "\n",
    "new_lowengphot_below_3keV_tf_raw_interp = interp1d(\n",
    "    np.log(top_photeng_bin_arr[:ind_photeng_above_3keV]),\n",
    "    lowengphot_tf_raw[:, :ind_photeng_above_3keV, :, :],\n",
    "    bounds_error = False, fill_value = (np.nan, lowengphot_tf_raw[:, ind_photeng_above_3keV-1, :, :]),\n",
    "    axis=1\n",
    ")\n",
    "\n",
    "new_lowengphot_above_3keV_tf_raw_interp = interp1d(\n",
    "    np.log(top_photeng_bin_arr[ind_photeng_above_3keV:]), \n",
    "    lowengphot_tf_raw[:, ind_photeng_above_3keV:, :, :],\n",
    "    bounds_error = False, fill_value = (lowengphot_tf_raw[:, ind_photeng_above_3keV, :, :], np.nan),\n",
    "    axis=1\n",
    ")\n",
    "\n",
    "\n",
    "\n",
    "# The interpolation is split because of the sudden transition between photoionizers below 3keV\n",
    "# (immediately gets output) vs. photoionizers above 3keV (produces electrons first)\n",
    "\n",
    "print('Creating low energy electron transfer function interpolation table...')\n",
    "new_lowengelec_below_3keV_tf_raw_interp = interp1d(\n",
    "    np.log(top_photeng_bin_arr[:ind_photeng_above_3keV]), \n",
    "    lowengelec_tf_raw[:,:ind_photeng_above_3keV,:,:], \n",
    "    bounds_error = False, fill_value = (np.nan, lowengelec_tf_raw[:,ind_photeng_above_3keV-1,:,:]),\n",
    "    axis=1\n",
    ")\n",
    "\n",
    "new_lowengelec_above_3keV_tf_raw_interp = interp1d(\n",
    "    np.log(top_photeng_bin_arr[ind_photeng_above_3keV:]), \n",
    "    lowengelec_tf_raw[:,ind_photeng_above_3keV:,:,:], \n",
    "    bounds_error = False, fill_value = (lowengelec_tf_raw[:,ind_photeng_above_3keV,:,:], np.nan),\n",
    "    axis=1\n",
    ")\n",
    "\n",
    "print('Creating CMB loss table...')\n",
    "new_cmbloss_interp = interp1d(np.log(top_photeng_bin_arr), CMB_engloss, axis=2)\n",
    "print('Interpolation tables created!')\n",
    "\n",
    "print('Interpolating high energy photon transfer functions...')\n",
    "new_phot_tf_raw = new_phot_tf_raw_interp(np.log(photeng_high))\n",
    "\n",
    "print('Interpolating low energy photon transfer functions...')\n",
    "new_lowengphot_below_3keV_tf_raw = new_lowengphot_below_3keV_tf_raw_interp(\n",
    "    np.log(photeng_high[:new_ind_photeng_above_3keV])\n",
    ")\n",
    "new_lowengphot_above_3keV_tf_raw = new_lowengphot_above_3keV_tf_raw_interp(\n",
    "    np.log(photeng_high[new_ind_photeng_above_3keV:])\n",
    ")\n",
    "\n",
    "\n",
    "\n",
    "print('Interpolating low energy electron transfer functions...')\n",
    "new_lowengelec_below_3keV_tf_raw = new_lowengelec_below_3keV_tf_raw_interp(\n",
    "    np.log(photeng_high[:new_ind_photeng_above_3keV])\n",
    ")\n",
    "new_lowengelec_above_3keV_tf_raw = new_lowengelec_above_3keV_tf_raw_interp(\n",
    "    np.log(photeng_high[new_ind_photeng_above_3keV:])\n",
    ")\n",
    "\n",
    "print('Concatenating the low energy interpolation results...')\n",
    "new_lowengphot_tf_raw = np.concatenate([new_lowengphot_below_3keV_tf_raw, new_lowengphot_above_3keV_tf_raw], axis=1)\n",
    "new_lowengelec_tf_raw = np.concatenate([new_lowengelec_below_3keV_tf_raw, new_lowengelec_above_3keV_tf_raw], axis=1)\n",
    "\n",
    "print('Interpolating CMB loss table...')\n",
    "new_cmbloss_raw = new_cmbloss_interp(np.log(photeng_high))\n",
    "print('Interpolation complete!')\n",
    "\n",
    "new_out_photeng_interp = interp1d(np.log(top_photeng_bin_arr), np.log(out_photeng_arr), axis=0)\n",
    "new_out_eleceng_interp = interp1d(np.log(top_photeng_bin_arr), np.log(out_eleceng_arr), axis=0)\n",
    "new_out_photeng_arr = np.exp(new_out_photeng_interp(np.log(photeng_high)))\n",
    "new_out_eleceng_arr = np.exp(new_out_eleceng_interp(np.log(photeng_high)))"
   ]
  },
  {
   "cell_type": "code",
   "execution_count": 14,
   "metadata": {},
   "outputs": [
    {
     "name": "stdout",
     "output_type": "stream",
     "text": [
      "(1, 277, 51, 500)\n",
      "(1, 50, 51, 500)\n"
     ]
    }
   ],
   "source": [
    "print(new_lowengelec_above_3keV_tf_raw.shape)\n",
    "print(new_lowengelec_below_3keV_tf_raw.shape)"
   ]
  },
  {
   "cell_type": "code",
   "execution_count": 15,
   "metadata": {},
   "outputs": [],
   "source": [
    "# plt.figure()\n",
    "\n",
    "# injE_ind = 141\n",
    "# new_injE_ind = 91\n",
    "\n",
    "# print(top_photeng_bin_arr[injE_ind-1])\n",
    "# print(top_photeng_bin_arr[injE_ind])\n",
    "# print(photeng_high[new_injE_ind])\n",
    "\n",
    "\n",
    "# plt.plot(out_photeng_arr[injE_ind-1], phot_tf_raw[0,injE_ind-1,0,:])\n",
    "# plt.plot(out_photeng_arr[injE_ind], phot_tf_raw[0,injE_ind,0,:])\n",
    "# plt.plot(new_out_photeng_arr[new_injE_ind], new_phot_tf_raw[0,new_injE_ind,0,:])\n",
    "\n",
    "\n",
    "# ax = plt.gca()\n",
    "\n",
    "# ax.set_xscale('log')\n",
    "# ax.set_yscale('log')\n",
    "# plt.axis([1e4, 1e5, 1e-42, 1e-1])"
   ]
  },
  {
   "cell_type": "markdown",
   "metadata": {},
   "source": [
    "Now, we construct the list of `Spectrum` objects from our raw array of transfer functions..."
   ]
  },
  {
   "cell_type": "code",
   "execution_count": 16,
   "metadata": {},
   "outputs": [
    {
     "data": {
      "application/vnd.jupyter.widget-view+json": {
       "model_id": "3ebd89c963324bed8da033ae93046b04",
       "version_major": 2,
       "version_minor": 0
      },
      "text/html": [
       "<p>Failed to display Jupyter Widget of type <code>HBox</code>.</p>\n",
       "<p>\n",
       "  If you're reading this message in the Jupyter Notebook or JupyterLab Notebook, it may mean\n",
       "  that the widgets JavaScript is still loading. If this message persists, it\n",
       "  likely means that the widgets JavaScript library is either not installed or\n",
       "  not enabled. See the <a href=\"https://ipywidgets.readthedocs.io/en/stable/user_install.html\">Jupyter\n",
       "  Widgets Documentation</a> for setup instructions.\n",
       "</p>\n",
       "<p>\n",
       "  If you're reading this message in another frontend (for example, a static\n",
       "  rendering on GitHub or <a href=\"https://nbviewer.jupyter.org/\">NBViewer</a>),\n",
       "  it may mean that your frontend doesn't currently support widgets.\n",
       "</p>\n"
      ],
      "text/plain": [
       "HBox(children=(IntProgress(value=0, max=1), HTML(value='')))"
      ]
     },
     "metadata": {},
     "output_type": "display_data"
    },
    {
     "name": "stdout",
     "output_type": "stream",
     "text": [
      "\n"
     ]
    },
    {
     "data": {
      "application/vnd.jupyter.widget-view+json": {
       "model_id": "63b1dd43d0f54f5ab6312cabe7b95808",
       "version_major": 2,
       "version_minor": 0
      },
      "text/html": [
       "<p>Failed to display Jupyter Widget of type <code>HBox</code>.</p>\n",
       "<p>\n",
       "  If you're reading this message in the Jupyter Notebook or JupyterLab Notebook, it may mean\n",
       "  that the widgets JavaScript is still loading. If this message persists, it\n",
       "  likely means that the widgets JavaScript library is either not installed or\n",
       "  not enabled. See the <a href=\"https://ipywidgets.readthedocs.io/en/stable/user_install.html\">Jupyter\n",
       "  Widgets Documentation</a> for setup instructions.\n",
       "</p>\n",
       "<p>\n",
       "  If you're reading this message in another frontend (for example, a static\n",
       "  rendering on GitHub or <a href=\"https://nbviewer.jupyter.org/\">NBViewer</a>),\n",
       "  it may mean that your frontend doesn't currently support widgets.\n",
       "</p>\n"
      ],
      "text/plain": [
       "HBox(children=(IntProgress(value=0, max=1), HTML(value='')))"
      ]
     },
     "metadata": {},
     "output_type": "display_data"
    },
    {
     "name": "stdout",
     "output_type": "stream",
     "text": [
      "\n"
     ]
    },
    {
     "data": {
      "application/vnd.jupyter.widget-view+json": {
       "model_id": "35d1cc3e94b349da82ae9fb5070cf770",
       "version_major": 2,
       "version_minor": 0
      },
      "text/html": [
       "<p>Failed to display Jupyter Widget of type <code>HBox</code>.</p>\n",
       "<p>\n",
       "  If you're reading this message in the Jupyter Notebook or JupyterLab Notebook, it may mean\n",
       "  that the widgets JavaScript is still loading. If this message persists, it\n",
       "  likely means that the widgets JavaScript library is either not installed or\n",
       "  not enabled. See the <a href=\"https://ipywidgets.readthedocs.io/en/stable/user_install.html\">Jupyter\n",
       "  Widgets Documentation</a> for setup instructions.\n",
       "</p>\n",
       "<p>\n",
       "  If you're reading this message in another frontend (for example, a static\n",
       "  rendering on GitHub or <a href=\"https://nbviewer.jupyter.org/\">NBViewer</a>),\n",
       "  it may mean that your frontend doesn't currently support widgets.\n",
       "</p>\n"
      ],
      "text/plain": [
       "HBox(children=(IntProgress(value=0, max=1), HTML(value='')))"
      ]
     },
     "metadata": {},
     "output_type": "display_data"
    },
    {
     "name": "stdout",
     "output_type": "stream",
     "text": [
      "\n"
     ]
    }
   ],
   "source": [
    "photspec_list = [\n",
    "    [\n",
    "        [\n",
    "            Spectrum(\n",
    "                out_photeng, phot_tf[i,j,:], \n",
    "                rs = np.exp(log_rs), in_eng = in_eng\n",
    "            ) for (j, log_rs) in enumerate(log_rs_arr)\n",
    "        ] for (i, (in_eng, out_photeng)) in enumerate(zip(photeng_high, new_out_photeng_arr))\n",
    "    ] for phot_tf in tqdm(new_phot_tf_raw)\n",
    "]\n",
    "\n",
    "lowengphotspec_list = [\n",
    "    [\n",
    "        [\n",
    "            Spectrum(\n",
    "                out_photeng, lowengphot_tf[i,j,:], \n",
    "                rs = np.exp(log_rs), in_eng = in_eng\n",
    "            ) for (j, log_rs) in enumerate(log_rs_arr)\n",
    "        ] for (i, (in_eng, out_photeng)) in enumerate(zip(photeng_high, new_out_photeng_arr))\n",
    "    ] for lowengphot_tf in tqdm(new_lowengphot_tf_raw)\n",
    "]\n",
    "\n",
    "lowengelecspec_list = [\n",
    "    [\n",
    "        [\n",
    "            Spectrum(\n",
    "                out_eleceng, lowengelec_tf[i,j,:],\n",
    "                rs = np.exp(log_rs), in_eng = in_eng\n",
    "            ) for (j, log_rs) in enumerate(log_rs_arr)\n",
    "        ] for (i, (in_eng, out_eleceng)) in enumerate(zip(photeng_high, new_out_eleceng_arr))\n",
    "    ] for lowengelec_tf in tqdm(new_lowengelec_tf_raw)\n",
    "]\n"
   ]
  },
  {
   "cell_type": "markdown",
   "metadata": {},
   "source": [
    "... and rebin the `Spectrum` objects into the abscissa specified in `photeng`."
   ]
  },
  {
   "cell_type": "code",
   "execution_count": 17,
   "metadata": {
    "scrolled": false
   },
   "outputs": [
    {
     "data": {
      "application/vnd.jupyter.widget-view+json": {
       "model_id": "3776a82ef5d64adbbe3992fcae649163",
       "version_major": 2,
       "version_minor": 0
      },
      "text/html": [
       "<p>Failed to display Jupyter Widget of type <code>HBox</code>.</p>\n",
       "<p>\n",
       "  If you're reading this message in the Jupyter Notebook or JupyterLab Notebook, it may mean\n",
       "  that the widgets JavaScript is still loading. If this message persists, it\n",
       "  likely means that the widgets JavaScript library is either not installed or\n",
       "  not enabled. See the <a href=\"https://ipywidgets.readthedocs.io/en/stable/user_install.html\">Jupyter\n",
       "  Widgets Documentation</a> for setup instructions.\n",
       "</p>\n",
       "<p>\n",
       "  If you're reading this message in another frontend (for example, a static\n",
       "  rendering on GitHub or <a href=\"https://nbviewer.jupyter.org/\">NBViewer</a>),\n",
       "  it may mean that your frontend doesn't currently support widgets.\n",
       "</p>\n"
      ],
      "text/plain": [
       "HBox(children=(IntProgress(value=0, max=1), HTML(value='')))"
      ]
     },
     "metadata": {},
     "output_type": "display_data"
    },
    {
     "data": {
      "application/vnd.jupyter.widget-view+json": {
       "model_id": "98eeeb635f534cb987179b7488624a85",
       "version_major": 2,
       "version_minor": 0
      },
      "text/html": [
       "<p>Failed to display Jupyter Widget of type <code>HBox</code>.</p>\n",
       "<p>\n",
       "  If you're reading this message in the Jupyter Notebook or JupyterLab Notebook, it may mean\n",
       "  that the widgets JavaScript is still loading. If this message persists, it\n",
       "  likely means that the widgets JavaScript library is either not installed or\n",
       "  not enabled. See the <a href=\"https://ipywidgets.readthedocs.io/en/stable/user_install.html\">Jupyter\n",
       "  Widgets Documentation</a> for setup instructions.\n",
       "</p>\n",
       "<p>\n",
       "  If you're reading this message in another frontend (for example, a static\n",
       "  rendering on GitHub or <a href=\"https://nbviewer.jupyter.org/\">NBViewer</a>),\n",
       "  it may mean that your frontend doesn't currently support widgets.\n",
       "</p>\n"
      ],
      "text/plain": [
       "HBox(children=(IntProgress(value=0, max=327), HTML(value='')))"
      ]
     },
     "metadata": {},
     "output_type": "display_data"
    },
    {
     "name": "stdout",
     "output_type": "stream",
     "text": [
      "\n"
     ]
    },
    {
     "data": {
      "application/vnd.jupyter.widget-view+json": {
       "model_id": "44cac3eeb26b4618a366e7c4565e53a0",
       "version_major": 2,
       "version_minor": 0
      },
      "text/html": [
       "<p>Failed to display Jupyter Widget of type <code>HBox</code>.</p>\n",
       "<p>\n",
       "  If you're reading this message in the Jupyter Notebook or JupyterLab Notebook, it may mean\n",
       "  that the widgets JavaScript is still loading. If this message persists, it\n",
       "  likely means that the widgets JavaScript library is either not installed or\n",
       "  not enabled. See the <a href=\"https://ipywidgets.readthedocs.io/en/stable/user_install.html\">Jupyter\n",
       "  Widgets Documentation</a> for setup instructions.\n",
       "</p>\n",
       "<p>\n",
       "  If you're reading this message in another frontend (for example, a static\n",
       "  rendering on GitHub or <a href=\"https://nbviewer.jupyter.org/\">NBViewer</a>),\n",
       "  it may mean that your frontend doesn't currently support widgets.\n",
       "</p>\n"
      ],
      "text/plain": [
       "HBox(children=(IntProgress(value=0, max=1), HTML(value='')))"
      ]
     },
     "metadata": {},
     "output_type": "display_data"
    },
    {
     "data": {
      "application/vnd.jupyter.widget-view+json": {
       "model_id": "3c4f18ef128a4223bd068dcd08ee6407",
       "version_major": 2,
       "version_minor": 0
      },
      "text/html": [
       "<p>Failed to display Jupyter Widget of type <code>HBox</code>.</p>\n",
       "<p>\n",
       "  If you're reading this message in the Jupyter Notebook or JupyterLab Notebook, it may mean\n",
       "  that the widgets JavaScript is still loading. If this message persists, it\n",
       "  likely means that the widgets JavaScript library is either not installed or\n",
       "  not enabled. See the <a href=\"https://ipywidgets.readthedocs.io/en/stable/user_install.html\">Jupyter\n",
       "  Widgets Documentation</a> for setup instructions.\n",
       "</p>\n",
       "<p>\n",
       "  If you're reading this message in another frontend (for example, a static\n",
       "  rendering on GitHub or <a href=\"https://nbviewer.jupyter.org/\">NBViewer</a>),\n",
       "  it may mean that your frontend doesn't currently support widgets.\n",
       "</p>\n"
      ],
      "text/plain": [
       "HBox(children=(IntProgress(value=0, max=327), HTML(value='')))"
      ]
     },
     "metadata": {},
     "output_type": "display_data"
    },
    {
     "name": "stdout",
     "output_type": "stream",
     "text": [
      "\n"
     ]
    },
    {
     "data": {
      "application/vnd.jupyter.widget-view+json": {
       "model_id": "a785f915494a43c68e92068fd1249f4d",
       "version_major": 2,
       "version_minor": 0
      },
      "text/html": [
       "<p>Failed to display Jupyter Widget of type <code>HBox</code>.</p>\n",
       "<p>\n",
       "  If you're reading this message in the Jupyter Notebook or JupyterLab Notebook, it may mean\n",
       "  that the widgets JavaScript is still loading. If this message persists, it\n",
       "  likely means that the widgets JavaScript library is either not installed or\n",
       "  not enabled. See the <a href=\"https://ipywidgets.readthedocs.io/en/stable/user_install.html\">Jupyter\n",
       "  Widgets Documentation</a> for setup instructions.\n",
       "</p>\n",
       "<p>\n",
       "  If you're reading this message in another frontend (for example, a static\n",
       "  rendering on GitHub or <a href=\"https://nbviewer.jupyter.org/\">NBViewer</a>),\n",
       "  it may mean that your frontend doesn't currently support widgets.\n",
       "</p>\n"
      ],
      "text/plain": [
       "HBox(children=(IntProgress(value=0, max=1), HTML(value='')))"
      ]
     },
     "metadata": {},
     "output_type": "display_data"
    },
    {
     "data": {
      "application/vnd.jupyter.widget-view+json": {
       "model_id": "c778c76998ef43df98ec7244ffae5dc5",
       "version_major": 2,
       "version_minor": 0
      },
      "text/html": [
       "<p>Failed to display Jupyter Widget of type <code>HBox</code>.</p>\n",
       "<p>\n",
       "  If you're reading this message in the Jupyter Notebook or JupyterLab Notebook, it may mean\n",
       "  that the widgets JavaScript is still loading. If this message persists, it\n",
       "  likely means that the widgets JavaScript library is either not installed or\n",
       "  not enabled. See the <a href=\"https://ipywidgets.readthedocs.io/en/stable/user_install.html\">Jupyter\n",
       "  Widgets Documentation</a> for setup instructions.\n",
       "</p>\n",
       "<p>\n",
       "  If you're reading this message in another frontend (for example, a static\n",
       "  rendering on GitHub or <a href=\"https://nbviewer.jupyter.org/\">NBViewer</a>),\n",
       "  it may mean that your frontend doesn't currently support widgets.\n",
       "</p>\n"
      ],
      "text/plain": [
       "HBox(children=(IntProgress(value=0, max=327), HTML(value='')))"
      ]
     },
     "metadata": {},
     "output_type": "display_data"
    },
    {
     "name": "stdout",
     "output_type": "stream",
     "text": [
      "\n"
     ]
    }
   ],
   "source": [
    "for phot_specs_xe in tqdm(photspec_list):\n",
    "    for phot_specs in tqdm(phot_specs_xe):\n",
    "        for phot_spec in phot_specs:\n",
    "            phot_spec.rebin(photeng)\n",
    "            phot_spec.switch_spec_type()\n",
    "            \n",
    "for lowengphot_specs_xe in tqdm(lowengphotspec_list):\n",
    "    for lowengphot_specs in tqdm(lowengphot_specs_xe):\n",
    "        for phot_spec in lowengphot_specs:\n",
    "            phot_spec.rebin(photeng)\n",
    "            phot_spec.switch_spec_type()\n",
    "            \n",
    "for lowengelec_specs_xe in tqdm(lowengelecspec_list):\n",
    "    for lowengelec_specs in tqdm(lowengelec_specs_xe):\n",
    "        for elec_spec in lowengelec_specs:\n",
    "            elec_spec.rebin(eleceng)\n",
    "            elec_spec.switch_spec_type()"
   ]
  },
  {
   "cell_type": "code",
   "execution_count": 18,
   "metadata": {},
   "outputs": [
    {
     "name": "stdout",
     "output_type": "stream",
     "text": [
      "144480.78482945805\n",
      "144480.78482945805\n"
     ]
    }
   ],
   "source": [
    "test = lowengphotspec_list[0][100][3]\n",
    "print(test.in_eng)\n",
    "print(test.eng[273])"
   ]
  },
  {
   "cell_type": "markdown",
   "metadata": {},
   "source": [
    "Finally, we can construct the `TransferFuncList` from this."
   ]
  },
  {
   "cell_type": "code",
   "execution_count": 19,
   "metadata": {},
   "outputs": [
    {
     "data": {
      "application/vnd.jupyter.widget-view+json": {
       "model_id": "6e5ef338744841378a64cfbfd990ea7a",
       "version_major": 2,
       "version_minor": 0
      },
      "text/html": [
       "<p>Failed to display Jupyter Widget of type <code>HBox</code>.</p>\n",
       "<p>\n",
       "  If you're reading this message in the Jupyter Notebook or JupyterLab Notebook, it may mean\n",
       "  that the widgets JavaScript is still loading. If this message persists, it\n",
       "  likely means that the widgets JavaScript library is either not installed or\n",
       "  not enabled. See the <a href=\"https://ipywidgets.readthedocs.io/en/stable/user_install.html\">Jupyter\n",
       "  Widgets Documentation</a> for setup instructions.\n",
       "</p>\n",
       "<p>\n",
       "  If you're reading this message in another frontend (for example, a static\n",
       "  rendering on GitHub or <a href=\"https://nbviewer.jupyter.org/\">NBViewer</a>),\n",
       "  it may mean that your frontend doesn't currently support widgets.\n",
       "</p>\n"
      ],
      "text/plain": [
       "HBox(children=(IntProgress(value=0, max=1), HTML(value='')))"
      ]
     },
     "metadata": {},
     "output_type": "display_data"
    },
    {
     "name": "stdout",
     "output_type": "stream",
     "text": [
      "\n"
     ]
    },
    {
     "data": {
      "application/vnd.jupyter.widget-view+json": {
       "model_id": "572c06710b884ad9a04abaa643367dfe",
       "version_major": 2,
       "version_minor": 0
      },
      "text/html": [
       "<p>Failed to display Jupyter Widget of type <code>HBox</code>.</p>\n",
       "<p>\n",
       "  If you're reading this message in the Jupyter Notebook or JupyterLab Notebook, it may mean\n",
       "  that the widgets JavaScript is still loading. If this message persists, it\n",
       "  likely means that the widgets JavaScript library is either not installed or\n",
       "  not enabled. See the <a href=\"https://ipywidgets.readthedocs.io/en/stable/user_install.html\">Jupyter\n",
       "  Widgets Documentation</a> for setup instructions.\n",
       "</p>\n",
       "<p>\n",
       "  If you're reading this message in another frontend (for example, a static\n",
       "  rendering on GitHub or <a href=\"https://nbviewer.jupyter.org/\">NBViewer</a>),\n",
       "  it may mean that your frontend doesn't currently support widgets.\n",
       "</p>\n"
      ],
      "text/plain": [
       "HBox(children=(IntProgress(value=0, max=1), HTML(value='')))"
      ]
     },
     "metadata": {},
     "output_type": "display_data"
    },
    {
     "name": "stdout",
     "output_type": "stream",
     "text": [
      "\n"
     ]
    },
    {
     "data": {
      "application/vnd.jupyter.widget-view+json": {
       "model_id": "9a62763f262447e6b2a2af109c33d370",
       "version_major": 2,
       "version_minor": 0
      },
      "text/html": [
       "<p>Failed to display Jupyter Widget of type <code>HBox</code>.</p>\n",
       "<p>\n",
       "  If you're reading this message in the Jupyter Notebook or JupyterLab Notebook, it may mean\n",
       "  that the widgets JavaScript is still loading. If this message persists, it\n",
       "  likely means that the widgets JavaScript library is either not installed or\n",
       "  not enabled. See the <a href=\"https://ipywidgets.readthedocs.io/en/stable/user_install.html\">Jupyter\n",
       "  Widgets Documentation</a> for setup instructions.\n",
       "</p>\n",
       "<p>\n",
       "  If you're reading this message in another frontend (for example, a static\n",
       "  rendering on GitHub or <a href=\"https://nbviewer.jupyter.org/\">NBViewer</a>),\n",
       "  it may mean that your frontend doesn't currently support widgets.\n",
       "</p>\n"
      ],
      "text/plain": [
       "HBox(children=(IntProgress(value=0, max=1), HTML(value='')))"
      ]
     },
     "metadata": {},
     "output_type": "display_data"
    },
    {
     "name": "stdout",
     "output_type": "stream",
     "text": [
      "\n"
     ]
    }
   ],
   "source": [
    "tfunclist_photspec_list = [\n",
    "    tflist.TransferFuncList(\n",
    "        [\n",
    "            tf.TransFuncAtEnergy(spec_arr, dlnz=0.002)\n",
    "            for spec_arr in photspec_xe\n",
    "        ]\n",
    "    ) for photspec_xe in tqdm(photspec_list)\n",
    "]\n",
    "\n",
    "tfunclist_lowengphotspec_list = [\n",
    "    tflist.TransferFuncList(\n",
    "        [\n",
    "            tf.TransFuncAtEnergy(spec_arr, dlnz=0.002)\n",
    "            for spec_arr in lowengphotspec_xe\n",
    "        ]\n",
    "    ) for lowengphotspec_xe in tqdm(lowengphotspec_list)\n",
    "]\n",
    "    \n",
    "\n",
    "tfunclist_lowengelecspec_list = [\n",
    "    tflist.TransferFuncList(\n",
    "        [\n",
    "            tf.TransFuncAtEnergy(spec_arr, dlnz=0.002)\n",
    "            for spec_arr in lowengelecspec_xe\n",
    "        ]\n",
    "    ) for lowengelecspec_xe in tqdm(lowengelecspec_list)\n",
    "]"
   ]
  },
  {
   "cell_type": "markdown",
   "metadata": {},
   "source": [
    "We will now transpose all of the `TransferFuncList` objects so that they are now all of type `'rs'`."
   ]
  },
  {
   "cell_type": "code",
   "execution_count": 20,
   "metadata": {},
   "outputs": [],
   "source": [
    "for tflist_hep, tflist_lep, tflist_lee in zip(\n",
    "    tfunclist_photspec_list, tfunclist_lowengphotspec_list, tfunclist_lowengelecspec_list):\n",
    "    tflist_hep.transpose()\n",
    "    tflist_lep.transpose()\n",
    "    tflist_lee.transpose()\n",
    "    for tf_hep, tf_lep, tf_lee in zip(tflist_hep, tflist_lep, tflist_lee):\n",
    "        tf_hep._grid_vals[np.where(tf_hep.grid_vals < 0)] = 1e-100\n",
    "        tf_lep._grid_vals[np.where(tf_lep.grid_vals < 0)] = 1e-100\n",
    "        tf_lee._grid_vals[np.where(tf_lee.grid_vals < 0)] = 1e-100"
   ]
  },
  {
   "cell_type": "code",
   "execution_count": 29,
   "metadata": {
    "scrolled": false
   },
   "outputs": [
    {
     "data": {
      "text/plain": [
       "[100.0, 10000.0, 1e-42, 1000.0]"
      ]
     },
     "execution_count": 29,
     "metadata": {},
     "output_type": "execute_result"
    },
    {
     "data": {
      "image/png": "[encoded data removed]",
      "text/plain": [
       "<Figure size 720x720 with 1 Axes>"
      ]
     },
     "metadata": {},
     "output_type": "display_data"
    }
   ],
   "source": [
    "test = tfunclist_photspec_list[-1][0]\n",
    "\n",
    "plt.figure()\n",
    "\n",
    "ax = plt.gca()\n",
    "\n",
    "# test.plot(ax, ind=(0,327), step=30)\n",
    "test.plot(ax, ind=(48, 51), step=1)\n",
    "\n",
    "ax.set_xscale('log')\n",
    "ax.set_yscale('log')\n",
    "plt.axis([1e2, 1e4, 1e-42, 1e3])"
   ]
  },
  {
   "cell_type": "code",
   "execution_count": 22,
   "metadata": {},
   "outputs": [
    {
     "data": {
      "text/plain": [
       "2829.8607514201576"
      ]
     },
     "execution_count": 22,
     "metadata": {},
     "output_type": "execute_result"
    }
   ],
   "source": [
    "test.in_eng[49]"
   ]
  },
  {
   "cell_type": "code",
   "execution_count": 23,
   "metadata": {},
   "outputs": [
    {
     "data": {
      "text/plain": [
       "[0.0001, 5000.0, 1e-42, 0.03]"
      ]
     },
     "execution_count": 23,
     "metadata": {},
     "output_type": "execute_result"
    },
    {
     "data": {
      "image/png": "[encoded data removed]",
      "text/plain": [
       "<Figure size 720x720 with 1 Axes>"
      ]
     },
     "metadata": {},
     "output_type": "display_data"
    }
   ],
   "source": [
    "test = tfunclist_lowengphotspec_list[-1][30]\n",
    "\n",
    "plt.figure()\n",
    "\n",
    "ax = plt.gca()\n",
    "\n",
    "test.plot(ax, ind=[49, 50])\n",
    "\n",
    "ax.set_xscale('log')\n",
    "ax.set_yscale('log')\n",
    "plt.axis([1e-4, 5e3, 1e-42, 3e-2])"
   ]
  },
  {
   "cell_type": "code",
   "execution_count": 24,
   "metadata": {},
   "outputs": [
    {
     "data": {
      "text/plain": [
       "[0.1, 4000.0, 1e-12, 0.01]"
      ]
     },
     "execution_count": 24,
     "metadata": {},
     "output_type": "execute_result"
    },
    {
     "data": {
      "image/png": "[encoded data removed]",
      "text/plain": [
       "<Figure size 720x720 with 1 Axes>"
      ]
     },
     "metadata": {},
     "output_type": "display_data"
    }
   ],
   "source": [
    "test = tfunclist_lowengelecspec_list[-1][0]\n",
    "\n",
    "plt.figure()\n",
    "\n",
    "ax = plt.gca()\n",
    "\n",
    "test.plot(ax, ind=np.array([49, 50]))\n",
    "# test.plot(ax, ind=np.array([50]))\n",
    "ax.set_xscale('log')\n",
    "ax.set_yscale('log')\n",
    "plt.axis([1e-1, 4e3, 1e-12, 1e-2])"
   ]
  },
  {
   "cell_type": "code",
   "execution_count": 25,
   "metadata": {},
   "outputs": [
    {
     "data": {
      "text/plain": [
       "22699.913242733463"
      ]
     },
     "execution_count": 25,
     "metadata": {},
     "output_type": "execute_result"
    }
   ],
   "source": [
    "tfunclist_lowengelecspec_list[-1][0].in_eng[76]"
   ]
  },
  {
   "cell_type": "markdown",
   "metadata": {},
   "source": [
    "Save the transfer functions."
   ]
  },
  {
   "cell_type": "code",
   "execution_count": 26,
   "metadata": {},
   "outputs": [],
   "source": [
    "pickle.dump(tfunclist_photspec_list, \n",
    "           open(\"/Users/hongwan/Dropbox (MIT)/Photon Deposition/tfunclist_photspec_60eV_list_new.raw\", \"wb\")\n",
    "           )\n",
    "\n",
    "pickle.dump(tfunclist_lowengphotspec_list, \n",
    "           open(\"/Users/hongwan/Dropbox (MIT)/Photon Deposition/tfunclist_lowengphotspec_60eV_list_new.raw\", \"wb\")\n",
    "           )\n",
    "\n",
    "pickle.dump(tfunclist_lowengelecspec_list, \n",
    "           open(\"/Users/hongwan/Dropbox (MIT)/Photon Deposition/tfunclist_lowengelecspec_60eV_list_new.raw\", \"wb\")\n",
    "           )\n",
    "\n",
    "pickle.dump(\n",
    "    new_cmbloss_raw, \n",
    "    open(\"/Users/hongwan/Dropbox (MIT)/Photon Deposition/CMB_engloss_60eV_list_new.raw\", \"wb\")       \n",
    "           )"
   ]
  },
  {
   "cell_type": "code",
   "execution_count": null,
   "metadata": {},
   "outputs": [],
   "source": []
  }
 ],
 "metadata": {
  "kernelspec": {
   "display_name": "Python 3",
   "language": "python",
   "name": "python3"
  },
  "language_info": {
   "codemirror_mode": {
    "name": "ipython",
    "version": 3
   },
   "file_extension": ".py",
   "mimetype": "text/x-python",
   "name": "python",
   "nbconvert_exporter": "python",
   "pygments_lexer": "ipython3",
   "version": "3.6.5"
  }
 },
 "nbformat": 4,
 "nbformat_minor": 2
}
