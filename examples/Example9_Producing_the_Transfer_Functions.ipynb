{
 "cells": [
  {
   "cell_type": "markdown",
   "metadata": {},
   "source": [
    "# Producing the Transfer Functions"
   ]
  },
  {
   "cell_type": "code",
   "execution_count": 1,
   "metadata": {},
   "outputs": [],
   "source": [
    "%load_ext autoreload\n",
    "import sys\n",
    "sys.path.append(\"..\")"
   ]
  },
  {
   "cell_type": "markdown",
   "metadata": {},
   "source": [
    "## Notebook Initialization"
   ]
  },
  {
   "cell_type": "code",
   "execution_count": 2,
   "metadata": {},
   "outputs": [],
   "source": [
    "%autoreload\n",
    "import numpy as np\n",
    "import pickle\n",
    "from tqdm import tqdm_notebook as tqdm\n",
    "\n",
    "import matplotlib\n",
    "matplotlib.rc_file('matplotlibrc')\n",
    "import matplotlib.pyplot as plt\n",
    "\n",
    "%matplotlib inline\n",
    "\n",
    "matplotlib.rcParams['figure.figsize'] = [10,10]\n",
    "\n",
    "\n",
    "from darkhistory.spec.spectrum import Spectrum\n",
    "import darkhistory.spec.spectools as spectools\n",
    "import darkhistory.spec.transferfunction as tf\n",
    "import darkhistory.spec.transferfunclist as tflist\n",
    "import darkhistory.physics as phys\n",
    "import darkhistory.utilities as utils\n",
    "\n",
    "from scipy.interpolate import interp1d\n",
    "\n",
    "# np.set_printoptions(threshold=np.nan)"
   ]
  },
  {
   "cell_type": "markdown",
   "metadata": {},
   "source": [
    "## Import Raw Data"
   ]
  },
  {
   "cell_type": "code",
   "execution_count": 3,
   "metadata": {},
   "outputs": [],
   "source": [
    "xes_str = [\n",
    "    '4.540E-05', '2.746E-04', '1.659E-03', '9.952E-03', '5.732E-02',\n",
    "    '2.689E-01', '6.900E-01', '9.309E-01', '9.879E-01', '9.980E-01',\n",
    "    '9.997E-01'\n",
    "    \n",
    "]\n",
    "\n",
    "# xes_str = ['2.746E-04']\n",
    "\n",
    "file_names = [\n",
    "    '/Users/hongwan/Dropbox (MIT)/Photon Deposition/'\n",
    "    +'full_transferfunctions_coarse/'\n",
    "    +'transferfunction_withloweng_cmbloss_60eV_fixed_binning_complete_coarse_xe_'\n",
    "    +str+'_nointerp.p'\n",
    "    for str in xes_str    \n",
    "]\n",
    "\n",
    "raw_tf_tuple = [pickle.load(open(file_name, \"rb\")) for file_name in file_names]\n",
    "\n",
    "raw_tf_list = [tup[0] for tup in raw_tf_tuple]\n",
    "CMB_engloss_list = [tup[1] for tup in raw_tf_tuple]"
   ]
  },
  {
   "cell_type": "markdown",
   "metadata": {},
   "source": [
    "## Raw Data Manipulation"
   ]
  },
  {
   "cell_type": "markdown",
   "metadata": {},
   "source": [
    "The raw data is a large array with no abscissa values included. We need to create the abscissae related to this large array (the abscissa of photon energies and electron energies). \n",
    "\n",
    "First, we swap some of the axes. The initial array has dimensions corresponding to (injected photon energy, redshift, outgoing energy, type), where type is high-energy photons, low-energy photons and low-energy electrons respectively. "
   ]
  },
  {
   "cell_type": "code",
   "execution_count": 4,
   "metadata": {},
   "outputs": [],
   "source": [
    "for i in np.arange(len(raw_tf_list)):\n",
    "    raw_tf_list[i] = np.swapaxes(raw_tf_list[i], 0, 1)\n",
    "    raw_tf_list[i] = np.flip(raw_tf_list[i], axis=0)\n",
    "    \n",
    "for i in np.arange(len(CMB_engloss_list)):\n",
    "    CMB_engloss_list[i] = np.transpose(CMB_engloss_list[i])\n",
    "    \n",
    "CMB_engloss = np.array(CMB_engloss_list)\n",
    "\n",
    "CMB_engloss = np.flip(CMB_engloss,1)"
   ]
  },
  {
   "cell_type": "markdown",
   "metadata": {},
   "source": [
    "At this point, the transfer function `raw_tf_list` is listed in the following order: (redshift, input photon energy, output energy, type), and the order is in decreasing redshift.\n",
    "\n",
    "`CMB_engloss` is in the order (redshift, input energy), order in decreasing redshift.\n",
    "\n",
    "The abscissa for the transfer functions are as follows. For the injected photon energy and redshifts,"
   ]
  },
  {
   "cell_type": "code",
   "execution_count": 5,
   "metadata": {},
   "outputs": [],
   "source": [
    "# Input energy abscissa. \n",
    "# in_eng_step = 501\n",
    "in_eng_step = 51\n",
    "# in_eng_low = 3e3 + 100.\n",
    "in_eng_low = 60\n",
    "in_eng_upp = 5e3 * np.exp(39 * np.log(1e13/5e3) / 40)\n",
    "\n",
    "in_eng_arr = (\n",
    "    in_eng_low * np.exp((np.arange(in_eng_step)) * \n",
    "              np.log(in_eng_upp/in_eng_low) / in_eng_step)\n",
    ")\n",
    "\n",
    "in_eng_arr = in_eng_arr[1:]\n",
    "# Added for the coarse, fixed binning\n",
    "in_eng_arr = np.insert(in_eng_arr, 0, 61.)\n",
    "\n",
    "# Redshift abscissa, decreasing order. \n",
    "# rs_step = 50\n",
    "# rs_upp  = 31\n",
    "rs_step = 51\n",
    "rs_upp = 3000\n",
    "rs_low  = 4\n",
    "\n",
    "# log_rs = (\n",
    "#     np.log(rs_low) + (np.arange(rs_step)+1)\n",
    "#     *(np.log(rs_upp) - np.log(rs_low))/rs_step\n",
    "# )\n",
    "\n",
    "# log_rs = np.insert(log_rs, 0, np.log(4.))\n",
    "\n",
    "log_rs = (\n",
    "    np.log(rs_low) + (np.arange(rs_step))\n",
    "    *(np.log(rs_upp) - np.log(rs_low))/rs_step\n",
    ")\n",
    "\n",
    "log_rs_arr = np.flipud(log_rs)\n",
    "# print(np.exp(log_rs_arr))\n",
    "\n",
    "# xe abscissa\n",
    "\n",
    "xe = 0.5 + 0.5*np.tanh([-5., -4.1, -3.2, -2.3, -1.4, -0.5, 0.4, 1.3, 2.2, 3.1, 4])"
   ]
  },
  {
   "cell_type": "markdown",
   "metadata": {},
   "source": [
    "The output abscissa depends on the injection energy, and are different for photons and electrons. We write these as functions of the injection energy for convenience."
   ]
  },
  {
   "cell_type": "code",
   "execution_count": 6,
   "metadata": {},
   "outputs": [
    {
     "name": "stdout",
     "output_type": "stream",
     "text": [
      "3564489408122.1504\n"
     ]
    },
    {
     "data": {
      "text/plain": [
       "array([1.02932376e+00, 1.09057614e+00, 1.15547349e+00, 1.22423272e+00,\n",
       "       1.29708362e+00, 1.37426970e+00, 1.45604892e+00, 1.54269460e+00,\n",
       "       1.63449635e+00, 1.73176098e+00, 1.83481357e+00, 1.94399856e+00,\n",
       "       2.05968086e+00, 2.18224711e+00, 2.31210697e+00, 2.44969444e+00,\n",
       "       2.59546939e+00, 2.74991903e+00, 2.91355956e+00, 3.08693792e+00,\n",
       "       3.27063357e+00, 3.46526048e+00, 3.67146912e+00, 3.88994870e+00,\n",
       "       4.12142944e+00, 4.36668499e+00, 4.62653507e+00, 4.90184815e+00,\n",
       "       5.19354439e+00, 5.50259871e+00, 5.83004406e+00, 6.17697483e+00,\n",
       "       6.54455055e+00, 6.93399974e+00, 7.34662404e+00, 7.78380254e+00,\n",
       "       8.24699640e+00, 8.73775372e+00, 9.25771473e+00, 9.80861727e+00,\n",
       "       1.03923026e+01, 1.10107215e+01, 1.16659409e+01, 1.23601507e+01,\n",
       "       1.30956712e+01, 1.38749605e+01, 1.47006234e+01, 1.55754193e+01,\n",
       "       1.65022720e+01, 1.74842793e+01, 1.85247233e+01, 1.96270815e+01,\n",
       "       2.07950381e+01, 2.20324967e+01, 2.33435933e+01, 2.47327099e+01,\n",
       "       2.62044892e+01, 2.77638502e+01, 2.94160048e+01, 3.11664748e+01,\n",
       "       3.30211107e+01, 3.49861111e+01, 3.70680437e+01, 3.92738666e+01,\n",
       "       4.16109523e+01, 4.40871119e+01, 4.67106214e+01, 4.94902491e+01,\n",
       "       5.24352851e+01, 5.55555727e+01, 5.88615404e+01, 6.23642377e+01,\n",
       "       6.60753714e+01, 7.00073450e+01, 7.41733001e+01, 7.85871604e+01,\n",
       "       8.32636780e+01, 8.82184831e+01, 9.34681357e+01, 9.90301816e+01,\n",
       "       1.04923210e+02, 1.11166918e+02, 1.17782172e+02, 1.24791083e+02,\n",
       "       1.32217076e+02, 1.40084971e+02, 1.48421063e+02, 1.57253215e+02,\n",
       "       1.66610945e+02, 1.76525529e+02, 1.87030104e+02, 1.98159780e+02,\n",
       "       2.09951753e+02, 2.22445436e+02, 2.35682586e+02, 2.49707444e+02,\n",
       "       2.64566885e+02, 2.80310573e+02, 2.96991127e+02, 3.14664297e+02,\n",
       "       3.33389151e+02, 3.53228273e+02, 3.74247969e+02, 3.96518493e+02,\n",
       "       4.20114278e+02, 4.45114187e+02, 4.71601775e+02, 4.99665571e+02,\n",
       "       5.29399370e+02, 5.60902551e+02, 5.94280404e+02, 6.29644486e+02,\n",
       "       6.67112992e+02, 7.06811153e+02, 7.48871647e+02, 7.93435053e+02,\n",
       "       8.40650310e+02, 8.90675225e+02, 9.43676993e+02, 9.99832758e+02,\n",
       "       1.05933021e+03, 1.12236819e+03, 1.18915741e+03, 1.25992107e+03,\n",
       "       1.33489570e+03, 1.41433188e+03, 1.49849509e+03, 1.58766664e+03,\n",
       "       1.68214455e+03, 1.78224460e+03, 1.88830135e+03, 2.00066925e+03,\n",
       "       2.11972388e+03, 2.24586314e+03, 2.37950861e+03, 2.52110699e+03,\n",
       "       2.67113151e+03, 2.83008360e+03, 2.99849452e+03, 3.17692714e+03,\n",
       "       3.36597782e+03, 3.56627841e+03, 3.77849837e+03, 4.00334698e+03,\n",
       "       4.24157575e+03, 4.49398090e+03, 4.76140603e+03, 5.04474492e+03,\n",
       "       5.34494458e+03, 5.66300834e+03, 5.99999925e+03, 6.35704361e+03,\n",
       "       6.73533475e+03, 7.13613701e+03, 7.56078998e+03, 8.01071294e+03,\n",
       "       8.48740964e+03, 8.99247333e+03, 9.52759205e+03, 1.00945543e+04,\n",
       "       1.06952550e+04, 1.13317018e+04, 1.20060219e+04, 1.27204691e+04,\n",
       "       1.34774311e+04, 1.42794380e+04, 1.51291703e+04, 1.60294679e+04,\n",
       "       1.69833398e+04, 1.79939742e+04, 1.90647489e+04, 2.01992425e+04,\n",
       "       2.14012469e+04, 2.26747795e+04, 2.40240967e+04, 2.54537083e+04,\n",
       "       2.69683923e+04, 2.85732112e+04, 3.02735288e+04, 3.20750278e+04,\n",
       "       3.39837293e+04, 3.60060127e+04, 3.81486369e+04, 4.04187631e+04,\n",
       "       4.28239787e+04, 4.53723224e+04, 4.80723113e+04, 5.09329696e+04,\n",
       "       5.39638583e+04, 5.71751072e+04, 6.05774492e+04, 6.41822558e+04,\n",
       "       6.80015750e+04, 7.20481720e+04, 7.63355714e+04, 8.08781028e+04,\n",
       "       8.56909485e+04, 9.07901941e+04, 9.61928826e+04, 1.01917071e+05,\n",
       "       1.07981891e+05, 1.14407613e+05, 1.21215712e+05, 1.28428944e+05,\n",
       "       1.36071417e+05, 1.44168673e+05, 1.52747776e+05, 1.61837400e+05,\n",
       "       1.71467923e+05, 1.81671533e+05, 1.92482334e+05, 2.03936457e+05,\n",
       "       2.16072185e+05, 2.28930080e+05, 2.42553114e+05, 2.56986819e+05,\n",
       "       2.72279437e+05, 2.88482078e+05, 3.05648897e+05, 3.23837268e+05,\n",
       "       3.43107982e+05, 3.63525447e+05, 3.85157901e+05, 4.08077647e+05,\n",
       "       4.32361287e+05, 4.58089983e+05, 4.85349727e+05, 5.14231628e+05,\n",
       "       5.44832215e+05, 5.77253764e+05, 6.11604636e+05, 6.47999638e+05,\n",
       "       6.86560412e+05, 7.27415838e+05, 7.70702463e+05, 8.16564964e+05,\n",
       "       8.65156622e+05, 9.16639844e+05, 9.71186699e+05, 1.02897949e+06,\n",
       "       1.09021139e+06, 1.15508704e+06, 1.22382326e+06, 1.29664980e+06,\n",
       "       1.37381006e+06, 1.45556193e+06, 1.54217864e+06, 1.63394968e+06,\n",
       "       1.73118178e+06, 1.83419991e+06, 1.94334838e+06, 2.05899199e+06,\n",
       "       2.18151725e+06, 2.31133367e+06, 2.44887513e+06, 2.59460132e+06,\n",
       "       2.74899930e+06, 2.91258511e+06, 3.08590547e+06, 3.26953969e+06,\n",
       "       3.46410150e+06, 3.67024117e+06, 3.88864769e+06, 4.12005100e+06,\n",
       "       4.36522453e+06, 4.62498769e+06, 4.90020869e+06, 5.19180737e+06,\n",
       "       5.50075833e+06, 5.82809416e+06, 6.17490890e+06, 6.54236168e+06,\n",
       "       6.93168062e+06, 7.34416691e+06, 7.78119920e+06, 8.24423814e+06,\n",
       "       8.73483132e+06, 9.25461843e+06, 9.80533672e+06, 1.03888268e+07,\n",
       "       1.10070389e+07, 1.16620392e+07, 1.23560168e+07, 1.30912913e+07,\n",
       "       1.38703200e+07, 1.46957067e+07, 1.55702100e+07, 1.64967527e+07,\n",
       "       1.74784316e+07, 1.85185276e+07, 1.96205170e+07, 2.07880830e+07,\n",
       "       2.20251278e+07, 2.33357859e+07, 2.47244379e+07, 2.61957249e+07,\n",
       "       2.77545644e+07, 2.94061664e+07, 3.11560509e+07, 3.30100665e+07,\n",
       "       3.49744098e+07, 3.70556460e+07, 3.92607312e+07, 4.15970353e+07,\n",
       "       4.40723667e+07, 4.66949987e+07, 4.94736967e+07, 5.24177478e+07,\n",
       "       5.55369917e+07, 5.88418538e+07, 6.23433795e+07, 6.60532720e+07,\n",
       "       6.99839305e+07, 7.41484923e+07, 7.85608764e+07, 8.32358300e+07,\n",
       "       8.81889779e+07, 9.34368747e+07, 9.89970603e+07, 1.04888118e+08,\n",
       "       1.11129737e+08, 1.17742779e+08, 1.24749346e+08, 1.32172855e+08,\n",
       "       1.40038118e+08, 1.48371423e+08, 1.57200620e+08, 1.66555221e+08,\n",
       "       1.76466489e+08, 1.86967551e+08, 1.98093504e+08, 2.09881534e+08,\n",
       "       2.22371038e+08, 2.35603761e+08, 2.49623928e+08, 2.64478399e+08,\n",
       "       2.80216821e+08, 2.96891796e+08, 3.14559055e+08, 3.33277647e+08,\n",
       "       3.53110133e+08, 3.74122799e+08, 3.96385875e+08, 4.19973768e+08,\n",
       "       4.44965315e+08, 4.71444045e+08, 4.99498454e+08, 5.29222309e+08,\n",
       "       5.60714953e+08, 5.94081643e+08, 6.29433897e+08, 6.66889872e+08,\n",
       "       7.06574755e+08, 7.48621182e+08, 7.93169683e+08, 8.40369149e+08,\n",
       "       8.90377333e+08, 9.43361374e+08, 9.99498357e+08, 1.05897591e+09,\n",
       "       1.12199281e+09, 1.18875969e+09, 1.25949968e+09, 1.33444924e+09,\n",
       "       1.41385884e+09, 1.49799391e+09, 1.58713563e+09, 1.68158195e+09,\n",
       "       1.78164852e+09, 1.88766979e+09, 2.00000011e+09, 2.11901492e+09,\n",
       "       2.24511199e+09, 2.37871277e+09, 2.52026379e+09, 2.67023813e+09,\n",
       "       2.82913706e+09, 2.99749166e+09, 3.17586459e+09, 3.36485204e+09,\n",
       "       3.56508564e+09, 3.77723462e+09, 4.00200804e+09, 4.24015713e+09,\n",
       "       4.49247786e+09, 4.75981354e+09, 5.04305767e+09, 5.34315693e+09,\n",
       "       5.66111431e+09, 5.99799251e+09, 6.35491745e+09, 6.73308207e+09,\n",
       "       7.13375029e+09, 7.55826122e+09, 8.00803370e+09, 8.48457097e+09,\n",
       "       8.98946574e+09, 9.52440548e+09, 1.00911781e+10, 1.06916779e+10,\n",
       "       1.13279118e+10, 1.20020064e+10, 1.27162146e+10, 1.34729235e+10,\n",
       "       1.42746622e+10, 1.51241102e+10, 1.60241067e+10, 1.69776596e+10,\n",
       "       1.79879560e+10, 1.90583725e+10, 2.01924868e+10, 2.13940892e+10,\n",
       "       2.26671958e+10, 2.40160617e+10, 2.54451951e+10, 2.69593725e+10,\n",
       "       2.85636547e+10, 3.02634036e+10, 3.20643001e+10, 3.39723632e+10,\n",
       "       3.59939702e+10, 3.81358779e+10, 4.04052448e+10, 4.28096559e+10,\n",
       "       4.53571473e+10, 4.80562332e+10, 5.09159347e+10, 5.39458097e+10,\n",
       "       5.71559846e+10, 6.05571887e+10, 6.41607896e+10, 6.79788314e+10,\n",
       "       7.20240750e+10, 7.63100405e+10, 8.08510526e+10, 8.56622886e+10,\n",
       "       9.07598288e+10, 9.61607103e+10, 1.01882984e+11, 1.07945776e+11,\n",
       "       1.14369348e+11, 1.21175171e+11, 1.28385990e+11, 1.36025907e+11,\n",
       "       1.44120455e+11, 1.52696689e+11, 1.61783272e+11, 1.71410574e+11,\n",
       "       1.81610772e+11, 1.92417957e+11, 2.03868249e+11, 2.15999919e+11,\n",
       "       2.28853512e+11, 2.42471990e+11, 2.56900868e+11, 2.72188371e+11,\n",
       "       2.88385593e+11, 3.05546670e+11, 3.23728959e+11, 3.42993228e+11,\n",
       "       3.63403863e+11, 3.85029082e+11, 4.07941162e+11, 4.32216681e+11,\n",
       "       4.57936772e+11, 4.85187399e+11, 5.14059640e+11, 5.44649993e+11,\n",
       "       5.77060698e+11, 6.11400080e+11, 6.47782910e+11, 6.86330787e+11,\n",
       "       7.27172549e+11, 7.70444697e+11, 8.16291858e+11, 8.64867265e+11,\n",
       "       9.16333268e+11, 9.70861879e+11, 1.02863535e+12, 1.08984676e+12,\n",
       "       1.15470071e+12, 1.22341395e+12, 1.29621613e+12, 1.37335058e+12,\n",
       "       1.45507511e+12, 1.54166285e+12, 1.63340319e+12, 1.73060277e+12,\n",
       "       1.83358645e+12, 1.94269841e+12, 2.05830334e+12, 2.18078762e+12,\n",
       "       2.31056063e+12, 2.44805608e+12, 2.59373354e+12, 2.74807988e+12,\n",
       "       2.91161097e+12, 3.08487337e+12, 3.26844617e+12, 3.46294291e+12])"
      ]
     },
     "execution_count": 6,
     "metadata": {},
     "output_type": "execute_result"
    }
   ],
   "source": [
    "upp_bin = in_eng_arr[-1]\n",
    "print(upp_bin)\n",
    "me = 510998.903\n",
    "log_bin_width = np.log(upp_bin)/500\n",
    "bin_boundary= me + np.exp(np.arange(501) * log_bin_width)\n",
    "bin_boundary_low = bin_boundary[0:500]\n",
    "bin_boundary_upp = bin_boundary[1:501]\n",
    "np.sqrt((bin_boundary_low - me) * (bin_boundary_upp - me))"
   ]
  },
  {
   "cell_type": "code",
   "execution_count": 7,
   "metadata": {},
   "outputs": [],
   "source": [
    "def get_out_photeng(in_eng):\n",
    "    \n",
    "    log_bin_width = np.log((phys.me*0 + in_eng)/1e-4)/500\n",
    "    bin_boundary  = 1e-4 * np.exp(np.arange(501) * log_bin_width)\n",
    "    bin_boundary_low = bin_boundary[0:500]\n",
    "    bin_boundary_upp = bin_boundary[1:501]\n",
    "\n",
    "    return np.sqrt(bin_boundary_low * bin_boundary_upp)\n",
    "\n",
    "def get_out_eleceng(in_eng):\n",
    "    \n",
    "    log_bin_width = np.log(in_eng)/500\n",
    "    bin_boundary  = phys.me + np.exp(np.arange(501) * log_bin_width)\n",
    "    bin_boundary_low = bin_boundary[:500]\n",
    "    bin_boundary_upp = bin_boundary[1:]\n",
    "    return np.sqrt(\n",
    "        (bin_boundary_low - phys.me)*(bin_boundary_upp - phys.me)\n",
    "    )    "
   ]
  },
  {
   "cell_type": "markdown",
   "metadata": {},
   "source": [
    "The transfer function is calculated by injecting 2 photons at the input energy abscissa. However, the first step is to assign $x$ photons to the top bin of the *output* photon abscissa, such that $x$ times the energy of the top bin is 2 times the injection energy. Because of the misalignment between the two abscissae, as well as the fact that we want to transfer function for a single electron, we have to normalize the results first.\n",
    "\n",
    "First, we construct two arrays: a list of output abscissae (for both photons and electrons) given the injection abscissa, and a list of the energy of the *output* photon energy bin where the injected photons are assigned to. Then we compute the normalization factor. "
   ]
  },
  {
   "cell_type": "code",
   "execution_count": 8,
   "metadata": {},
   "outputs": [],
   "source": [
    "# dimensions input x output\n",
    "# output energy abscissae\n",
    "# toggle for fixed binning. \n",
    "# out_photeng_arr = np.array([get_out_photeng(eng) for eng in in_eng_arr])\n",
    "out_photeng_arr = np.array([get_out_photeng(in_eng_arr[-1]) for eng in in_eng_arr])\n",
    "# dimensions input x output\n",
    "# out_eleceng_arr = np.array([get_out_eleceng(eng) for eng in in_eng_arr])\n",
    "out_eleceng_arr = np.array([get_out_eleceng(in_eng_arr[-1]) for eng in in_eng_arr])\n",
    "# get bin widths\n",
    "\n",
    "out_photeng_bin_width_arr = np.diff(np.log(out_photeng_arr))\n",
    "out_photeng_bin_width_arr = np.insert(out_photeng_bin_width_arr, 0, out_photeng_bin_width_arr[:,0], axis=1)\n",
    "out_photeng_bin_width_arr *= out_photeng_arr\n",
    "\n",
    "# out_photeng_bin_bound_arr = np.array([spectools.get_bin_bound(photeng_arr) for photeng_arr in out_photeng_arr])\n",
    "out_eleceng_bin_bound_arr = np.array([spectools.get_bin_bound(eleceng_arr) for eleceng_arr in out_eleceng_arr])\n",
    "# out_photeng_bin_width_arr = np.diff(out_photeng_bin_bound_arr, axis=-1)\n",
    "out_eleceng_bin_width_arr = np.diff(out_eleceng_bin_bound_arr, axis=-1)\n",
    "\n",
    "\n",
    "# dimensions input\n",
    "# original injection energies\n",
    "top_photeng_bin_arr = np.array(\n",
    "    [\n",
    "        photeng[photeng < eng][-1] \n",
    "        for eng,photeng in zip(in_eng_arr, out_photeng_arr)\n",
    "    ]\n",
    ")\n",
    "\n",
    "# pad top_photeng_bin_arr to go down to 1e-4\n",
    "\n",
    "# dimensions input\n",
    "norm_fac_arr = in_eng_arr/top_photeng_bin_arr*2"
   ]
  },
  {
   "cell_type": "markdown",
   "metadata": {},
   "source": [
    "Dividing by the normalization factor gives the spectra for the injection of 1 photon, with energy given by `top_photeng_bin_arr`. \n",
    "\n",
    "Now we construct a raw array of all of the transfer functions, on which we will perform an interpolation to extract a set of transfer functions for use, given a chosen abscissa.\n",
    "\n",
    "The final dimension of these lists is (xe, in_eng, rs, out_eng)"
   ]
  },
  {
   "cell_type": "code",
   "execution_count": 9,
   "metadata": {},
   "outputs": [
    {
     "data": {
      "application/vnd.jupyter.widget-view+json": {
       "model_id": "65b952e511bf4dd190952b16ecff7149",
       "version_major": 2,
       "version_minor": 0
      },
      "text/html": [
       "<p>Failed to display Jupyter Widget of type <code>HBox</code>.</p>\n",
       "<p>\n",
       "  If you're reading this message in the Jupyter Notebook or JupyterLab Notebook, it may mean\n",
       "  that the widgets JavaScript is still loading. If this message persists, it\n",
       "  likely means that the widgets JavaScript library is either not installed or\n",
       "  not enabled. See the <a href=\"https://ipywidgets.readthedocs.io/en/stable/user_install.html\">Jupyter\n",
       "  Widgets Documentation</a> for setup instructions.\n",
       "</p>\n",
       "<p>\n",
       "  If you're reading this message in another frontend (for example, a static\n",
       "  rendering on GitHub or <a href=\"https://nbviewer.jupyter.org/\">NBViewer</a>),\n",
       "  it may mean that your frontend doesn't currently support widgets.\n",
       "</p>\n"
      ],
      "text/plain": [
       "HBox(children=(IntProgress(value=0, max=11), HTML(value='')))"
      ]
     },
     "metadata": {},
     "output_type": "display_data"
    },
    {
     "name": "stdout",
     "output_type": "stream",
     "text": [
      "\n"
     ]
    },
    {
     "data": {
      "application/vnd.jupyter.widget-view+json": {
       "model_id": "d7e61b8fc2b44bbb8aecaba613bd744f",
       "version_major": 2,
       "version_minor": 0
      },
      "text/html": [
       "<p>Failed to display Jupyter Widget of type <code>HBox</code>.</p>\n",
       "<p>\n",
       "  If you're reading this message in the Jupyter Notebook or JupyterLab Notebook, it may mean\n",
       "  that the widgets JavaScript is still loading. If this message persists, it\n",
       "  likely means that the widgets JavaScript library is either not installed or\n",
       "  not enabled. See the <a href=\"https://ipywidgets.readthedocs.io/en/stable/user_install.html\">Jupyter\n",
       "  Widgets Documentation</a> for setup instructions.\n",
       "</p>\n",
       "<p>\n",
       "  If you're reading this message in another frontend (for example, a static\n",
       "  rendering on GitHub or <a href=\"https://nbviewer.jupyter.org/\">NBViewer</a>),\n",
       "  it may mean that your frontend doesn't currently support widgets.\n",
       "</p>\n"
      ],
      "text/plain": [
       "HBox(children=(IntProgress(value=0, max=11), HTML(value='')))"
      ]
     },
     "metadata": {},
     "output_type": "display_data"
    },
    {
     "name": "stdout",
     "output_type": "stream",
     "text": [
      "\n"
     ]
    },
    {
     "data": {
      "application/vnd.jupyter.widget-view+json": {
       "model_id": "26cc355c754d43ee8a33a07ae7e6d76b",
       "version_major": 2,
       "version_minor": 0
      },
      "text/html": [
       "<p>Failed to display Jupyter Widget of type <code>HBox</code>.</p>\n",
       "<p>\n",
       "  If you're reading this message in the Jupyter Notebook or JupyterLab Notebook, it may mean\n",
       "  that the widgets JavaScript is still loading. If this message persists, it\n",
       "  likely means that the widgets JavaScript library is either not installed or\n",
       "  not enabled. See the <a href=\"https://ipywidgets.readthedocs.io/en/stable/user_install.html\">Jupyter\n",
       "  Widgets Documentation</a> for setup instructions.\n",
       "</p>\n",
       "<p>\n",
       "  If you're reading this message in another frontend (for example, a static\n",
       "  rendering on GitHub or <a href=\"https://nbviewer.jupyter.org/\">NBViewer</a>),\n",
       "  it may mean that your frontend doesn't currently support widgets.\n",
       "</p>\n"
      ],
      "text/plain": [
       "HBox(children=(IntProgress(value=0, max=11), HTML(value='')))"
      ]
     },
     "metadata": {},
     "output_type": "display_data"
    },
    {
     "name": "stdout",
     "output_type": "stream",
     "text": [
      "\n"
     ]
    }
   ],
   "source": [
    "# Multiplying by bin width converts all the eleceng array into number of particles. \n",
    "\n",
    "phot_tf_raw = np.array([\n",
    "    [\n",
    "        [raw_tf[i,j,:,0]/norm_fac*bin_width for (i, log_rs) in enumerate(log_rs_arr)]\n",
    "        for (j, (in_eng, norm_fac, bin_width)) in enumerate(zip(in_eng_arr, norm_fac_arr, out_photeng_bin_width_arr))\n",
    "    ] for raw_tf in tqdm(raw_tf_list)\n",
    "])\n",
    "\n",
    "lowengphot_tf_raw = np.array([\n",
    "    [\n",
    "        [raw_tf[i,j,:,1]/norm_fac*bin_width for (i, log_rs) in enumerate(log_rs_arr)]\n",
    "        for (j, (in_eng, norm_fac, bin_width)) in enumerate(zip(in_eng_arr, norm_fac_arr, out_photeng_bin_width_arr))\n",
    "    ] for raw_tf in tqdm(raw_tf_list)\n",
    "])\n",
    "\n",
    "lowengelec_tf_raw = np.array([\n",
    "    [\n",
    "        [raw_tf[i,j,:,2]/norm_fac*bin_width for (i, log_rs) in enumerate(log_rs_arr)]\n",
    "        for (j, (in_eng, norm_fac, bin_width)) in enumerate(zip(in_eng_arr, norm_fac_arr, out_eleceng_bin_width_arr))\n",
    "    ] for raw_tf in tqdm(raw_tf_list)\n",
    "])\n",
    "\n",
    "CMB_engloss = CMB_engloss/norm_fac_arr"
   ]
  },
  {
   "cell_type": "markdown",
   "metadata": {},
   "source": [
    "## Generating the Transfer Functions"
   ]
  },
  {
   "cell_type": "code",
   "execution_count": 10,
   "metadata": {},
   "outputs": [
    {
     "name": "stdout",
     "output_type": "stream",
     "text": [
      "(11, 51, 51, 500)\n"
     ]
    },
    {
     "data": {
      "image/png": "[encoded data removed]",
      "text/plain": [
       "<Figure size 720x720 with 1 Axes>"
      ]
     },
     "metadata": {},
     "output_type": "display_data"
    }
   ],
   "source": [
    "print(phot_tf_raw.shape)\n",
    "\n",
    "injE_ind = 46\n",
    "\n",
    "plt.figure()\n",
    "\n",
    "plt.plot(out_eleceng_arr[injE_ind], lowengelec_tf_raw[0,injE_ind,0,:])\n",
    "plt.plot(out_eleceng_arr[injE_ind+1], lowengelec_tf_raw[0,injE_ind+1,0,:])\n",
    "\n",
    "ax = plt.gca()\n",
    "\n",
    "ax.set_xscale('log')\n",
    "ax.set_yscale('log')"
   ]
  },
  {
   "cell_type": "code",
   "execution_count": 11,
   "metadata": {},
   "outputs": [
    {
     "data": {
      "text/plain": [
       "(array([], dtype=int64),\n",
       " array([], dtype=int64),\n",
       " array([], dtype=int64),\n",
       " array([], dtype=int64))"
      ]
     },
     "execution_count": 11,
     "metadata": {},
     "output_type": "execute_result"
    }
   ],
   "source": [
    "np.where(np.isnan(phot_tf_raw))"
   ]
  },
  {
   "cell_type": "code",
   "execution_count": 12,
   "metadata": {},
   "outputs": [],
   "source": [
    "# indices where the old injection energy binning lies above 3keV.\n",
    "ind_photeng_above_3keV = np.where(top_photeng_bin_arr > 3000)[0][0]\n"
   ]
  },
  {
   "cell_type": "markdown",
   "metadata": {},
   "source": [
    "Now we build the transfer functions, given some initial abscissa that will be used throughout the code. The right thing to do is simply to interpolate directly over the raw arrays above, as a function of the injection energy. "
   ]
  },
  {
   "cell_type": "code",
   "execution_count": 13,
   "metadata": {},
   "outputs": [
    {
     "name": "stdout",
     "output_type": "stream",
     "text": [
      "[5.97925489e+01 9.44650232e+01 1.61064192e+02 2.54462017e+02\n",
      " 4.33861316e+02 6.85448605e+02 1.16869950e+03 1.84640440e+03\n",
      " 3.14814545e+03 4.97369051e+03 8.48021221e+03 1.33977136e+04\n",
      " 2.28432899e+04 3.60896457e+04 6.15333531e+04 9.72152840e+04\n",
      " 1.65753425e+05 2.61870441e+05 4.46492782e+05 7.05404800e+05\n",
      " 1.20272510e+06 1.90016074e+06 3.23980077e+06 5.11849486e+06\n",
      " 8.72710566e+06 1.37877755e+07 2.35083509e+07 3.71403620e+07\n",
      " 6.33248391e+07 1.00045616e+08 1.70579181e+08 2.69494554e+08\n",
      " 4.59492002e+08 7.25942001e+08 1.23774131e+09 1.95548214e+09\n",
      " 3.33412454e+09 5.26751505e+09 8.98118718e+09 1.41891937e+10\n",
      " 2.41927746e+10 3.82216689e+10 6.51684826e+10 1.02958351e+11\n",
      " 1.75545435e+11 2.77340636e+11 4.72869682e+11 7.47077124e+11\n",
      " 1.27377699e+12 2.01241418e+12 3.43119445e+12]\n",
      "(11, 51, 51, 500)\n",
      "(11, 51, 51)\n",
      "8\n"
     ]
    },
    {
     "ename": "NameError",
     "evalue": "name 'photeng_high' is not defined",
     "output_type": "error",
     "traceback": [
      "\u001b[0;31m---------------------------------------------------------------------------\u001b[0m",
      "\u001b[0;31mNameError\u001b[0m                                 Traceback (most recent call last)",
      "\u001b[0;32m<ipython-input-13-113ab75772b6>\u001b[0m in \u001b[0;36m<module>\u001b[0;34m()\u001b[0m\n\u001b[1;32m      3\u001b[0m \u001b[0mprint\u001b[0m\u001b[0;34m(\u001b[0m\u001b[0mCMB_engloss\u001b[0m\u001b[0;34m.\u001b[0m\u001b[0mshape\u001b[0m\u001b[0;34m)\u001b[0m\u001b[0;34m\u001b[0m\u001b[0m\n\u001b[1;32m      4\u001b[0m \u001b[0mprint\u001b[0m\u001b[0;34m(\u001b[0m\u001b[0mind_photeng_above_3keV\u001b[0m\u001b[0;34m)\u001b[0m\u001b[0;34m\u001b[0m\u001b[0m\n\u001b[0;32m----> 5\u001b[0;31m \u001b[0mprint\u001b[0m\u001b[0;34m(\u001b[0m\u001b[0mphoteng_high\u001b[0m\u001b[0;34m)\u001b[0m\u001b[0;34m\u001b[0m\u001b[0m\n\u001b[0m",
      "\u001b[0;31mNameError\u001b[0m: name 'photeng_high' is not defined"
     ]
    }
   ],
   "source": [
    "print(top_photeng_bin_arr)\n",
    "print(phot_tf_raw.shape)\n",
    "print(CMB_engloss.shape)\n",
    "print(ind_photeng_above_3keV)"
   ]
  },
  {
   "cell_type": "code",
   "execution_count": 14,
   "metadata": {},
   "outputs": [
    {
     "name": "stdout",
     "output_type": "stream",
     "text": [
      "Creating high energy photon transfer function interpolation table...\n",
      "Creating low energy photon transfer function interpolation table...\n",
      "Creating low energy electron transfer function interpolation table...\n",
      "Creating CMB loss table...\n",
      "Interpolation tables created!\n",
      "Interpolating high energy photon transfer functions...\n",
      "Interpolating low energy photon transfer functions...\n",
      "Interpolating low energy electron transfer functions...\n",
      "Concatenating the low energy interpolation results...\n",
      "Interpolating CMB loss table...\n",
      "Interpolation complete!\n"
     ]
    }
   ],
   "source": [
    "# We will use the last binning as the photon and electron abscissa as an example.\n",
    "photeng = out_photeng_arr[-1]\n",
    "eleceng = out_eleceng_arr[-1]\n",
    "\n",
    "# photeng = photeng[1::5]\n",
    "\n",
    "photeng_low  = photeng[photeng <= 60]\n",
    "photeng_high = photeng[photeng > 60]\n",
    "\n",
    "# Indices where the new injection energy lies above 3keV.\n",
    "new_ind_photeng_above_3keV = np.where(photeng_high > 3000)[0][0]\n",
    "\n",
    "print('Creating high energy photon transfer function interpolation table...')\n",
    "new_phot_tf_raw_interp = interp1d(np.log(top_photeng_bin_arr), phot_tf_raw, axis=1)\n",
    "\n",
    "print('Creating low energy photon transfer function interpolation table...')\n",
    "\n",
    "new_lowengphot_below_3keV_tf_raw_interp = interp1d(\n",
    "    np.log(top_photeng_bin_arr[:ind_photeng_above_3keV]),\n",
    "    lowengphot_tf_raw[:, :ind_photeng_above_3keV, :, :],\n",
    "    bounds_error = False, fill_value = (np.nan, lowengphot_tf_raw[:, ind_photeng_above_3keV-1, :, :]),\n",
    "    axis=1\n",
    ")\n",
    "\n",
    "new_lowengphot_above_3keV_tf_raw_interp = interp1d(\n",
    "    np.log(top_photeng_bin_arr[ind_photeng_above_3keV:]), \n",
    "    lowengphot_tf_raw[:, ind_photeng_above_3keV:, :, :],\n",
    "    bounds_error = False, fill_value = (lowengphot_tf_raw[:, ind_photeng_above_3keV, :, :], np.nan),\n",
    "    axis=1\n",
    ")\n",
    "\n",
    "\n",
    "\n",
    "# The interpolation is split because of the sudden transition between photoionizers below 3keV\n",
    "# (immediately gets output) vs. photoionizers above 3keV (produces electrons first)\n",
    "\n",
    "print('Creating low energy electron transfer function interpolation table...')\n",
    "new_lowengelec_below_3keV_tf_raw_interp = interp1d(\n",
    "    np.log(top_photeng_bin_arr[:ind_photeng_above_3keV]), \n",
    "    lowengelec_tf_raw[:,:ind_photeng_above_3keV,:,:], \n",
    "    bounds_error = False, fill_value = (np.nan, lowengelec_tf_raw[:,ind_photeng_above_3keV-1,:,:]),\n",
    "    axis=1\n",
    ")\n",
    "\n",
    "new_lowengelec_above_3keV_tf_raw_interp = interp1d(\n",
    "    np.log(top_photeng_bin_arr[ind_photeng_above_3keV:]), \n",
    "    lowengelec_tf_raw[:,ind_photeng_above_3keV:,:,:], \n",
    "    bounds_error = False, fill_value = (lowengelec_tf_raw[:,ind_photeng_above_3keV,:,:], np.nan),\n",
    "    axis=1\n",
    ")\n",
    "\n",
    "print('Creating CMB loss table...')\n",
    "new_cmbloss_interp = interp1d(np.log(top_photeng_bin_arr), CMB_engloss, axis=2)\n",
    "print('Interpolation tables created!')\n",
    "\n",
    "print('Interpolating high energy photon transfer functions...')\n",
    "new_phot_tf_raw = new_phot_tf_raw_interp(np.log(photeng_high))\n",
    "\n",
    "print('Interpolating low energy photon transfer functions...')\n",
    "new_lowengphot_below_3keV_tf_raw = new_lowengphot_below_3keV_tf_raw_interp(\n",
    "    np.log(photeng_high[:new_ind_photeng_above_3keV])\n",
    ")\n",
    "\n",
    "new_lowengphot_above_3keV_tf_raw = new_lowengphot_above_3keV_tf_raw_interp(\n",
    "    np.log(photeng_high[new_ind_photeng_above_3keV:]*(1-1e-12))\n",
    ")\n",
    "\n",
    "\n",
    "\n",
    "print('Interpolating low energy electron transfer functions...')\n",
    "new_lowengelec_below_3keV_tf_raw = new_lowengelec_below_3keV_tf_raw_interp(\n",
    "    np.log(photeng_high[:new_ind_photeng_above_3keV])\n",
    ")\n",
    "new_lowengelec_above_3keV_tf_raw = new_lowengelec_above_3keV_tf_raw_interp(\n",
    "    np.log(photeng_high[new_ind_photeng_above_3keV:]*(1-1e-12))\n",
    ")\n",
    "\n",
    "print('Concatenating the low energy interpolation results...')\n",
    "new_lowengphot_tf_raw = np.concatenate([new_lowengphot_below_3keV_tf_raw, new_lowengphot_above_3keV_tf_raw], axis=1)\n",
    "new_lowengelec_tf_raw = np.concatenate([new_lowengelec_below_3keV_tf_raw, new_lowengelec_above_3keV_tf_raw], axis=1)\n",
    "\n",
    "print('Interpolating CMB loss table...')\n",
    "new_cmbloss_raw = new_cmbloss_interp(np.log(photeng_high))\n",
    "print('Interpolation complete!')\n",
    "\n",
    "new_out_photeng_interp = interp1d(np.log(top_photeng_bin_arr), np.log(out_photeng_arr), axis=0)\n",
    "new_out_eleceng_interp = interp1d(np.log(top_photeng_bin_arr), np.log(out_eleceng_arr), axis=0)\n",
    "new_out_photeng_arr = np.exp(new_out_photeng_interp(np.log(photeng_high)))\n",
    "new_out_eleceng_arr = np.exp(new_out_eleceng_interp(np.log(photeng_high)))"
   ]
  },
  {
   "cell_type": "code",
   "execution_count": 15,
   "metadata": {
    "scrolled": false
   },
   "outputs": [
    {
     "name": "stdout",
     "output_type": "stream",
     "text": [
      "(array([], dtype=int64), array([], dtype=int64), array([], dtype=int64), array([], dtype=int64))\n",
      "(array([], dtype=int64), array([], dtype=int64), array([], dtype=int64), array([], dtype=int64))\n",
      "[9.42153097e-05 9.96789471e-05 1.05414877e-04 1.11446551e-04\n",
      " 1.17792780e-04 1.24462262e-04 1.31464076e-04 1.38807188e-04\n",
      " 1.46490349e-04 1.54527376e-04 1.62914149e-04 1.71650438e-04\n",
      " 1.80728795e-04 1.90141018e-04 1.99870955e-04 2.09899434e-04\n",
      " 2.20196941e-04 2.30725295e-04 2.41445211e-04 2.52302715e-04\n",
      " 2.63232313e-04 2.74161586e-04 2.85011632e-04 2.95685897e-04\n",
      " 3.06083273e-04 3.16092486e-04 3.25601654e-04 3.34489421e-04\n",
      " 3.42628584e-04 3.49882431e-04 3.56165533e-04 3.61367323e-04\n",
      " 3.65403787e-04 3.68199179e-04 3.69705413e-04 3.69892683e-04\n",
      " 3.68753132e-04 3.66306061e-04 3.62591660e-04 3.57673464e-04\n",
      " 3.51628099e-04 3.44552254e-04 3.36551347e-04 3.27740149e-04\n",
      " 3.18235676e-04 3.08155483e-04 2.97616805e-04 2.86732709e-04\n",
      " 2.75607294e-04 2.64338154e-04 2.53014735e-04 2.41719626e-04\n",
      " 2.30520082e-04 2.19481642e-04 2.08654138e-04 1.98084079e-04\n",
      " 1.87806940e-04 1.77853255e-04 1.68244008e-04 1.58995702e-04\n",
      " 1.50121125e-04 1.41624938e-04 1.33510257e-04 1.25774889e-04\n",
      " 1.18416359e-04 1.11427019e-04 1.04797861e-04 9.85192638e-05\n",
      " 9.25805549e-05 8.69687307e-05 8.16707818e-05 7.66733329e-05\n",
      " 7.19643117e-05 6.75286749e-05 6.33541695e-05 5.94262678e-05\n",
      " 5.57340377e-05 5.22630945e-05 4.90027409e-05 4.59405634e-05\n",
      " 4.30652502e-05 4.03668391e-05 3.78343640e-05 3.54586797e-05\n",
      " 3.32297837e-05 3.11398507e-05 2.91796842e-05 2.73421457e-05\n",
      " 2.56190553e-05 2.40041838e-05 2.24904963e-05 2.10715454e-05\n",
      " 1.97418620e-05 1.84958909e-05 1.73282918e-05 1.62341707e-05\n",
      " 1.52088415e-05 1.42485670e-05 1.33483659e-05 1.25054647e-05\n",
      " 1.17154125e-05 1.09753995e-05 1.02820791e-05 9.63266052e-06\n",
      " 9.02422533e-06 8.45418006e-06 7.92029023e-06 7.42004432e-06\n",
      " 6.95155714e-06 6.51257537e-06 6.10142388e-06 5.71624470e-06\n",
      " 5.35550879e-06 5.01743332e-06 4.70086755e-06 4.40431583e-06\n",
      " 4.12650832e-06 3.86624614e-06 3.62247505e-06 3.39411218e-06\n",
      " 3.18023813e-06 2.97984258e-06 2.79209573e-06 2.61631289e-06\n",
      " 2.45968213e-06 2.30692267e-06 2.16868989e-06 2.04077243e-06\n",
      " 1.92916428e-06 1.83120799e-06 1.75396664e-06 1.70117834e-06\n",
      " 1.69563606e-06 1.78681047e-06 2.21702095e-06 1.87464576e-05\n",
      " 0.00000000e+00 0.00000000e+00 0.00000000e+00 0.00000000e+00\n",
      " 0.00000000e+00 0.00000000e+00 0.00000000e+00 0.00000000e+00\n",
      " 0.00000000e+00 0.00000000e+00 0.00000000e+00 0.00000000e+00\n",
      " 0.00000000e+00 0.00000000e+00 0.00000000e+00 0.00000000e+00\n",
      " 0.00000000e+00 0.00000000e+00 0.00000000e+00 0.00000000e+00\n",
      " 0.00000000e+00 0.00000000e+00 0.00000000e+00 0.00000000e+00\n",
      " 0.00000000e+00 0.00000000e+00 0.00000000e+00 0.00000000e+00\n",
      " 0.00000000e+00 0.00000000e+00 0.00000000e+00 0.00000000e+00\n",
      " 0.00000000e+00 0.00000000e+00 0.00000000e+00 0.00000000e+00\n",
      " 0.00000000e+00 0.00000000e+00 0.00000000e+00 0.00000000e+00\n",
      " 0.00000000e+00 0.00000000e+00 0.00000000e+00 0.00000000e+00\n",
      " 0.00000000e+00 0.00000000e+00 0.00000000e+00 0.00000000e+00\n",
      " 0.00000000e+00 0.00000000e+00 0.00000000e+00 0.00000000e+00\n",
      " 0.00000000e+00 0.00000000e+00 0.00000000e+00 0.00000000e+00\n",
      " 0.00000000e+00 0.00000000e+00 0.00000000e+00 0.00000000e+00\n",
      " 0.00000000e+00 0.00000000e+00 0.00000000e+00 0.00000000e+00\n",
      " 0.00000000e+00 0.00000000e+00 0.00000000e+00 0.00000000e+00\n",
      " 0.00000000e+00 0.00000000e+00 0.00000000e+00 0.00000000e+00\n",
      " 0.00000000e+00 0.00000000e+00 0.00000000e+00 0.00000000e+00\n",
      " 0.00000000e+00 0.00000000e+00 0.00000000e+00 0.00000000e+00\n",
      " 0.00000000e+00 0.00000000e+00 0.00000000e+00 0.00000000e+00\n",
      " 0.00000000e+00 0.00000000e+00 0.00000000e+00 0.00000000e+00\n",
      " 0.00000000e+00 0.00000000e+00 0.00000000e+00 0.00000000e+00\n",
      " 0.00000000e+00 0.00000000e+00 0.00000000e+00 0.00000000e+00\n",
      " 0.00000000e+00 0.00000000e+00 0.00000000e+00 0.00000000e+00\n",
      " 0.00000000e+00 0.00000000e+00 0.00000000e+00 0.00000000e+00\n",
      " 0.00000000e+00 0.00000000e+00 0.00000000e+00 0.00000000e+00\n",
      " 0.00000000e+00 0.00000000e+00 0.00000000e+00 0.00000000e+00\n",
      " 0.00000000e+00 0.00000000e+00 0.00000000e+00 0.00000000e+00\n",
      " 0.00000000e+00 0.00000000e+00 0.00000000e+00 0.00000000e+00\n",
      " 0.00000000e+00 0.00000000e+00 0.00000000e+00 0.00000000e+00\n",
      " 0.00000000e+00 0.00000000e+00 0.00000000e+00 0.00000000e+00\n",
      " 0.00000000e+00 0.00000000e+00 0.00000000e+00 0.00000000e+00\n",
      " 0.00000000e+00 0.00000000e+00 0.00000000e+00 0.00000000e+00\n",
      " 0.00000000e+00 0.00000000e+00 0.00000000e+00 0.00000000e+00\n",
      " 0.00000000e+00 0.00000000e+00 0.00000000e+00 0.00000000e+00\n",
      " 0.00000000e+00 0.00000000e+00 0.00000000e+00 0.00000000e+00\n",
      " 0.00000000e+00 0.00000000e+00 0.00000000e+00 0.00000000e+00\n",
      " 0.00000000e+00 0.00000000e+00 0.00000000e+00 0.00000000e+00\n",
      " 0.00000000e+00 0.00000000e+00 0.00000000e+00 0.00000000e+00\n",
      " 0.00000000e+00 0.00000000e+00 0.00000000e+00 0.00000000e+00\n",
      " 0.00000000e+00 0.00000000e+00 0.00000000e+00 0.00000000e+00\n",
      " 0.00000000e+00 0.00000000e+00 0.00000000e+00 0.00000000e+00\n",
      " 0.00000000e+00 0.00000000e+00 0.00000000e+00 0.00000000e+00\n",
      " 0.00000000e+00 0.00000000e+00 0.00000000e+00 0.00000000e+00\n",
      " 0.00000000e+00 0.00000000e+00 0.00000000e+00 0.00000000e+00\n",
      " 0.00000000e+00 0.00000000e+00 0.00000000e+00 0.00000000e+00\n",
      " 0.00000000e+00 0.00000000e+00 0.00000000e+00 0.00000000e+00\n",
      " 0.00000000e+00 0.00000000e+00 0.00000000e+00 0.00000000e+00\n",
      " 0.00000000e+00 0.00000000e+00 0.00000000e+00 0.00000000e+00\n",
      " 0.00000000e+00 0.00000000e+00 0.00000000e+00 0.00000000e+00\n",
      " 0.00000000e+00 0.00000000e+00 0.00000000e+00 0.00000000e+00\n",
      " 0.00000000e+00 0.00000000e+00 0.00000000e+00 0.00000000e+00\n",
      " 0.00000000e+00 0.00000000e+00 0.00000000e+00 0.00000000e+00\n",
      " 0.00000000e+00 0.00000000e+00 0.00000000e+00 0.00000000e+00\n",
      " 0.00000000e+00 0.00000000e+00 0.00000000e+00 0.00000000e+00\n",
      " 0.00000000e+00 0.00000000e+00 0.00000000e+00 0.00000000e+00\n",
      " 0.00000000e+00 0.00000000e+00 0.00000000e+00 0.00000000e+00\n",
      " 0.00000000e+00 0.00000000e+00 0.00000000e+00 0.00000000e+00\n",
      " 0.00000000e+00 0.00000000e+00 0.00000000e+00 0.00000000e+00\n",
      " 0.00000000e+00 0.00000000e+00 0.00000000e+00 0.00000000e+00\n",
      " 0.00000000e+00 0.00000000e+00 0.00000000e+00 0.00000000e+00\n",
      " 0.00000000e+00 0.00000000e+00 0.00000000e+00 0.00000000e+00\n",
      " 0.00000000e+00 0.00000000e+00 0.00000000e+00 0.00000000e+00\n",
      " 0.00000000e+00 0.00000000e+00 0.00000000e+00 0.00000000e+00\n",
      " 0.00000000e+00 0.00000000e+00 0.00000000e+00 0.00000000e+00\n",
      " 0.00000000e+00 0.00000000e+00 0.00000000e+00 0.00000000e+00\n",
      " 0.00000000e+00 0.00000000e+00 0.00000000e+00 0.00000000e+00\n",
      " 0.00000000e+00 0.00000000e+00 0.00000000e+00 0.00000000e+00\n",
      " 0.00000000e+00 0.00000000e+00 0.00000000e+00 0.00000000e+00\n",
      " 0.00000000e+00 0.00000000e+00 0.00000000e+00 0.00000000e+00\n",
      " 0.00000000e+00 0.00000000e+00 0.00000000e+00 0.00000000e+00\n",
      " 0.00000000e+00 0.00000000e+00 0.00000000e+00 0.00000000e+00\n",
      " 0.00000000e+00 0.00000000e+00 0.00000000e+00 0.00000000e+00\n",
      " 0.00000000e+00 0.00000000e+00 0.00000000e+00 0.00000000e+00\n",
      " 0.00000000e+00 0.00000000e+00 0.00000000e+00 0.00000000e+00\n",
      " 0.00000000e+00 0.00000000e+00 0.00000000e+00 0.00000000e+00\n",
      " 0.00000000e+00 0.00000000e+00 0.00000000e+00 0.00000000e+00\n",
      " 0.00000000e+00 0.00000000e+00 0.00000000e+00 0.00000000e+00\n",
      " 0.00000000e+00 0.00000000e+00 0.00000000e+00 0.00000000e+00\n",
      " 0.00000000e+00 0.00000000e+00 0.00000000e+00 0.00000000e+00\n",
      " 0.00000000e+00 0.00000000e+00 0.00000000e+00 0.00000000e+00\n",
      " 0.00000000e+00 0.00000000e+00 0.00000000e+00 0.00000000e+00\n",
      " 0.00000000e+00 0.00000000e+00 0.00000000e+00 0.00000000e+00\n",
      " 0.00000000e+00 0.00000000e+00 0.00000000e+00 0.00000000e+00\n",
      " 0.00000000e+00 0.00000000e+00 0.00000000e+00 0.00000000e+00\n",
      " 0.00000000e+00 0.00000000e+00 0.00000000e+00 0.00000000e+00\n",
      " 0.00000000e+00 0.00000000e+00 0.00000000e+00 0.00000000e+00\n",
      " 0.00000000e+00 0.00000000e+00 0.00000000e+00 0.00000000e+00\n",
      " 0.00000000e+00 0.00000000e+00 0.00000000e+00 0.00000000e+00\n",
      " 0.00000000e+00 0.00000000e+00 0.00000000e+00 0.00000000e+00]\n",
      "(11, 274, 51, 500)\n",
      "[6.45284246e+01 6.96394058e+01 7.51552029e+01 8.11078793e+01\n",
      " 8.75320381e+01 9.44650232e+01 1.01947136e+02 1.10021871e+02\n",
      " 1.18736165e+02 1.28140677e+02 1.38290074e+02 1.49243355e+02\n",
      " 1.61064192e+02 1.73821300e+02 1.87588836e+02 2.02446831e+02\n",
      " 2.18481655e+02 2.35786519e+02 2.54462017e+02 2.74616711e+02\n",
      " 2.96367758e+02 3.19841601e+02 3.45174691e+02 3.72514292e+02\n",
      " 4.02019329e+02 4.33861316e+02 4.68225350e+02 5.05311193e+02\n",
      " 5.45334423e+02 5.88527699e+02 6.35142102e+02 6.85448605e+02\n",
      " 7.39739640e+02 7.98330802e+02 8.61562684e+02 9.29802855e+02\n",
      " 1.00344800e+03 1.08292621e+03 1.16869950e+03 1.26126648e+03\n",
      " 1.36116524e+03 1.46897648e+03 1.58532693e+03 1.71089293e+03\n",
      " 1.84640440e+03 1.99264907e+03 2.15047707e+03 2.32080585e+03\n",
      " 2.50462555e+03 2.70300470e+03 2.91709649e+03 3.14814545e+03\n",
      " 3.39749467e+03 3.66659363e+03 3.95700659e+03 4.27042175e+03\n",
      " 4.60866099e+03 4.97369051e+03 5.36763224e+03 5.79277616e+03\n",
      " 6.25159366e+03 6.74675184e+03 7.28112909e+03 7.85783175e+03\n",
      " 8.48021221e+03 9.15188839e+03 9.87676475e+03 1.06590550e+04\n",
      " 1.15033067e+04 1.24144274e+04 1.33977136e+04 1.44588810e+04\n",
      " 1.56040983e+04 1.68400227e+04 1.81738386e+04 1.96132996e+04\n",
      " 2.11667732e+04 2.28432899e+04 2.46525953e+04 2.66052069e+04\n",
      " 2.87124753e+04 3.09866502e+04 3.34409514e+04 3.60896457e+04\n",
      " 3.89481302e+04 4.20330213e+04 4.53622516e+04 4.89551739e+04\n",
      " 5.28326740e+04 5.70172920e+04 6.15333531e+04 6.64071093e+04\n",
      " 7.16668920e+04 7.73432764e+04 8.34692594e+04 9.00804516e+04\n",
      " 9.72152840e+04 1.04915232e+05 1.13225055e+05 1.22193058e+05\n",
      " 1.31871373e+05 1.42316260e+05 1.53588436e+05 1.65753425e+05\n",
      " 1.78881944e+05 1.93050309e+05 2.08340881e+05 2.24842544e+05\n",
      " 2.42651223e+05 2.61870441e+05 2.82611919e+05 3.04996229e+05\n",
      " 3.29153490e+05 3.55224129e+05 3.83359697e+05 4.13723746e+05\n",
      " 4.46492782e+05 4.81857294e+05 5.20022856e+05 5.61211325e+05\n",
      " 6.05662132e+05 6.53633671e+05 7.05404800e+05 7.61276468e+05\n",
      " 8.21573457e+05 8.86646276e+05 9.56873196e+05 1.03266245e+06\n",
      " 1.11445459e+06 1.20272510e+06 1.29798707e+06 1.40079429e+06\n",
      " 1.51174436e+06 1.63148224e+06 1.76070398e+06 1.90016074e+06\n",
      " 2.05066319e+06 2.21308620e+06 2.38837395e+06 2.57754538e+06\n",
      " 2.78170015e+06 3.00202503e+06 3.23980077e+06 3.49640955e+06\n",
      " 3.77334307e+06 4.07221114e+06 4.39475109e+06 4.74283785e+06\n",
      " 5.11849486e+06 5.52390583e+06 5.96142742e+06 6.43360296e+06\n",
      " 6.94317722e+06 7.49311236e+06 8.08660518e+06 8.72710566e+06\n",
      " 9.41833706e+06 1.01643175e+07 1.09693835e+07 1.18382147e+07\n",
      " 1.27758619e+07 1.37877755e+07 1.48798378e+07 1.60583970e+07\n",
      " 1.73303042e+07 1.87029529e+07 2.01843224e+07 2.17830240e+07\n",
      " 2.35083509e+07 2.53703325e+07 2.73797926e+07 2.95484122e+07\n",
      " 3.18887975e+07 3.44145534e+07 3.71403620e+07 4.00820686e+07\n",
      " 4.32567734e+07 4.66829311e+07 5.03804580e+07 5.43708479e+07\n",
      " 5.86772971e+07 6.33248391e+07 6.83404902e+07 7.37534066e+07\n",
      " 7.95950535e+07 8.58993888e+07 9.27030597e+07 1.00045616e+08\n",
      " 1.07969741e+08 1.16521496e+08 1.25750595e+08 1.35710685e+08\n",
      " 1.46459665e+08 1.58060019e+08 1.70579181e+08 1.84089925e+08\n",
      " 1.98670788e+08 2.14406531e+08 2.31388625e+08 2.49715787e+08\n",
      " 2.69494554e+08 2.90839901e+08 3.13875909e+08 3.38736486e+08\n",
      " 3.65566148e+08 3.94520856e+08 4.25768926e+08 4.59492002e+08\n",
      " 4.95886118e+08 5.35162835e+08 5.77550468e+08 6.23295419e+08\n",
      " 6.72663604e+08 7.25942001e+08 7.83440320e+08 8.45492800e+08\n",
      " 9.12460154e+08 9.84731664e+08 1.06272745e+09 1.14690090e+09\n",
      " 1.23774131e+09 1.33577675e+09 1.44157710e+09 1.55575738e+09\n",
      " 1.67898132e+09 1.81196523e+09 1.95548214e+09 2.11036633e+09\n",
      " 2.27751814e+09 2.45790922e+09 2.65258820e+09 2.86268675e+09\n",
      " 3.08942618e+09 3.33412454e+09 3.59820425e+09 3.88320043e+09\n",
      " 4.19076976e+09 4.52270016e+09 4.88092114e+09 5.26751505e+09\n",
      " 5.68472918e+09 6.13498881e+09 6.62091129e+09 7.14532133e+09\n",
      " 7.71126732e+09 8.32203913e+09 8.98118718e+09 9.69254314e+09\n",
      " 1.04602421e+10 1.12887468e+10 1.21828733e+10 1.31478191e+10\n",
      " 1.41891937e+10 1.53130504e+10 1.65259223e+10 1.78348598e+10\n",
      " 1.92474719e+10 2.07719701e+10 2.24172164e+10 2.41927746e+10\n",
      " 2.61089660e+10 2.81769297e+10 3.04086866e+10 3.28172101e+10\n",
      " 3.54165009e+10 3.82216689e+10 4.12490206e+10 4.45161540e+10\n",
      " 4.80420610e+10 5.18472379e+10 5.59538043e+10 6.03856318e+10\n",
      " 6.51684826e+10 7.03301597e+10 7.59006680e+10 8.19123891e+10\n",
      " 8.84002692e+10 9.54020226e+10 1.02958351e+11 1.11113179e+11\n",
      " 1.19913911e+11 1.29411706e+11 1.39661774e+11 1.50723701e+11\n",
      " 1.62661789e+11 1.75545435e+11 1.89449531e+11 2.04454903e+11\n",
      " 2.20648776e+11 2.38125288e+11 2.56986029e+11 2.77340636e+11\n",
      " 2.99307433e+11 3.23014112e+11 3.48598482e+11 3.76209264e+11\n",
      " 4.06006962e+11 4.38164790e+11 4.72869682e+11 5.10323379e+11\n",
      " 5.50743600e+11 5.94365310e+11 6.41442082e+11 6.92247576e+11\n",
      " 7.47077124e+11 8.06249453e+11 8.70108532e+11 9.39025578e+11\n",
      " 1.01340121e+12 1.09366776e+12 1.18029184e+12 1.27377699e+12\n",
      " 1.37466665e+12 1.48354727e+12 1.60105181e+12 1.72786330e+12\n",
      " 1.86471891e+12 2.01241418e+12 2.17180767e+12 2.34382595e+12\n",
      " 2.52946895e+12 2.72981583e+12 2.94603120e+12 3.17937194e+12\n",
      " 3.43119445e+12]\n",
      "[3.14814545e+03 4.97369051e+03 8.48021221e+03 1.33977136e+04\n",
      " 2.28432899e+04 3.60896457e+04 6.15333531e+04 9.72152840e+04\n",
      " 1.65753425e+05 2.61870441e+05 4.46492782e+05 7.05404800e+05\n",
      " 1.20272510e+06 1.90016074e+06 3.23980077e+06 5.11849486e+06\n",
      " 8.72710566e+06 1.37877755e+07 2.35083509e+07 3.71403620e+07\n",
      " 6.33248391e+07 1.00045616e+08 1.70579181e+08 2.69494554e+08\n",
      " 4.59492002e+08 7.25942001e+08 1.23774131e+09 1.95548214e+09\n",
      " 3.33412454e+09 5.26751505e+09 8.98118718e+09 1.41891937e+10\n",
      " 2.41927746e+10 3.82216689e+10 6.51684826e+10 1.02958351e+11\n",
      " 1.75545435e+11 2.77340636e+11 4.72869682e+11 7.47077124e+11\n",
      " 1.27377699e+12 2.01241418e+12 3.43119445e+12]\n"
     ]
    }
   ],
   "source": [
    "print(np.where(np.isnan(new_lowengelec_tf_raw)))\n",
    "print(np.where(np.isnan(new_lowengphot_tf_raw)))\n",
    "print(new_lowengelec_above_3keV_tf_raw[0,-1,50,:])\n",
    "print(new_lowengelec_above_3keV_tf_raw.shape)\n",
    "print(photeng_high)\n",
    "print(top_photeng_bin_arr[ind_photeng_above_3keV:])"
   ]
  },
  {
   "cell_type": "code",
   "execution_count": 16,
   "metadata": {},
   "outputs": [],
   "source": [
    "# plt.figure()\n",
    "\n",
    "# injE_ind = 141\n",
    "# new_injE_ind = 91\n",
    "\n",
    "# print(top_photeng_bin_arr[injE_ind-1])\n",
    "# print(top_photeng_bin_arr[injE_ind])\n",
    "# print(photeng_high[new_injE_ind])\n",
    "\n",
    "\n",
    "# plt.plot(out_photeng_arr[injE_ind-1], phot_tf_raw[0,injE_ind-1,0,:])\n",
    "# plt.plot(out_photeng_arr[injE_ind], phot_tf_raw[0,injE_ind,0,:])\n",
    "# plt.plot(new_out_photeng_arr[new_injE_ind], new_phot_tf_raw[0,new_injE_ind,0,:])\n",
    "\n",
    "\n",
    "# ax = plt.gca()\n",
    "\n",
    "# ax.set_xscale('log')\n",
    "# ax.set_yscale('log')\n",
    "# plt.axis([1e4, 1e5, 1e-42, 1e-1])"
   ]
  },
  {
   "cell_type": "markdown",
   "metadata": {},
   "source": [
    "Now, we construct the list of `Spectrum` objects from our raw array of transfer functions..."
   ]
  },
  {
   "cell_type": "code",
   "execution_count": 17,
   "metadata": {},
   "outputs": [
    {
     "data": {
      "application/vnd.jupyter.widget-view+json": {
       "model_id": "fd77e37e15f94ede8818200af55cb701",
       "version_major": 2,
       "version_minor": 0
      },
      "text/html": [
       "<p>Failed to display Jupyter Widget of type <code>HBox</code>.</p>\n",
       "<p>\n",
       "  If you're reading this message in the Jupyter Notebook or JupyterLab Notebook, it may mean\n",
       "  that the widgets JavaScript is still loading. If this message persists, it\n",
       "  likely means that the widgets JavaScript library is either not installed or\n",
       "  not enabled. See the <a href=\"https://ipywidgets.readthedocs.io/en/stable/user_install.html\">Jupyter\n",
       "  Widgets Documentation</a> for setup instructions.\n",
       "</p>\n",
       "<p>\n",
       "  If you're reading this message in another frontend (for example, a static\n",
       "  rendering on GitHub or <a href=\"https://nbviewer.jupyter.org/\">NBViewer</a>),\n",
       "  it may mean that your frontend doesn't currently support widgets.\n",
       "</p>\n"
      ],
      "text/plain": [
       "HBox(children=(IntProgress(value=0, max=11), HTML(value='')))"
      ]
     },
     "metadata": {},
     "output_type": "display_data"
    },
    {
     "name": "stdout",
     "output_type": "stream",
     "text": [
      "\n"
     ]
    },
    {
     "data": {
      "application/vnd.jupyter.widget-view+json": {
       "model_id": "09662c3c740043b29eb0ced1c409b1ce",
       "version_major": 2,
       "version_minor": 0
      },
      "text/html": [
       "<p>Failed to display Jupyter Widget of type <code>HBox</code>.</p>\n",
       "<p>\n",
       "  If you're reading this message in the Jupyter Notebook or JupyterLab Notebook, it may mean\n",
       "  that the widgets JavaScript is still loading. If this message persists, it\n",
       "  likely means that the widgets JavaScript library is either not installed or\n",
       "  not enabled. See the <a href=\"https://ipywidgets.readthedocs.io/en/stable/user_install.html\">Jupyter\n",
       "  Widgets Documentation</a> for setup instructions.\n",
       "</p>\n",
       "<p>\n",
       "  If you're reading this message in another frontend (for example, a static\n",
       "  rendering on GitHub or <a href=\"https://nbviewer.jupyter.org/\">NBViewer</a>),\n",
       "  it may mean that your frontend doesn't currently support widgets.\n",
       "</p>\n"
      ],
      "text/plain": [
       "HBox(children=(IntProgress(value=0, max=11), HTML(value='')))"
      ]
     },
     "metadata": {},
     "output_type": "display_data"
    },
    {
     "name": "stdout",
     "output_type": "stream",
     "text": [
      "\n"
     ]
    },
    {
     "data": {
      "application/vnd.jupyter.widget-view+json": {
       "model_id": "ff113f3789c24fa990172958a126f02a",
       "version_major": 2,
       "version_minor": 0
      },
      "text/html": [
       "<p>Failed to display Jupyter Widget of type <code>HBox</code>.</p>\n",
       "<p>\n",
       "  If you're reading this message in the Jupyter Notebook or JupyterLab Notebook, it may mean\n",
       "  that the widgets JavaScript is still loading. If this message persists, it\n",
       "  likely means that the widgets JavaScript library is either not installed or\n",
       "  not enabled. See the <a href=\"https://ipywidgets.readthedocs.io/en/stable/user_install.html\">Jupyter\n",
       "  Widgets Documentation</a> for setup instructions.\n",
       "</p>\n",
       "<p>\n",
       "  If you're reading this message in another frontend (for example, a static\n",
       "  rendering on GitHub or <a href=\"https://nbviewer.jupyter.org/\">NBViewer</a>),\n",
       "  it may mean that your frontend doesn't currently support widgets.\n",
       "</p>\n"
      ],
      "text/plain": [
       "HBox(children=(IntProgress(value=0, max=11), HTML(value='')))"
      ]
     },
     "metadata": {},
     "output_type": "display_data"
    },
    {
     "name": "stdout",
     "output_type": "stream",
     "text": [
      "\n"
     ]
    }
   ],
   "source": [
    "# spec_type = 'N' for eleceng, because we have already multiplied in the bin width earlier. \n",
    "\n",
    "photspec_list = [\n",
    "    [\n",
    "        [\n",
    "            Spectrum(\n",
    "                out_photeng, phot_tf[i,j,:], spec_type='N', \n",
    "                rs = np.exp(log_rs), in_eng = in_eng\n",
    "            ) for (j, log_rs) in enumerate(log_rs_arr)\n",
    "        ] for (i, (in_eng, out_photeng)) in enumerate(\n",
    "            zip(photeng_high, new_out_photeng_arr)\n",
    "        )\n",
    "    ] for phot_tf in tqdm(new_phot_tf_raw)\n",
    "]\n",
    "\n",
    "lowengphotspec_list = [\n",
    "    [\n",
    "        [\n",
    "            Spectrum(\n",
    "                out_photeng, lowengphot_tf[i,j,:], spec_type='N',\n",
    "                rs = np.exp(log_rs), in_eng = in_eng\n",
    "            ) for (j, log_rs) in enumerate(log_rs_arr)\n",
    "        ] for (i, (in_eng, out_photeng)) in enumerate(zip(photeng_high, new_out_photeng_arr))\n",
    "    ] for lowengphot_tf in tqdm(new_lowengphot_tf_raw)\n",
    "]\n",
    "\n",
    "lowengelecspec_list = [\n",
    "    [\n",
    "        [\n",
    "            Spectrum(\n",
    "                out_eleceng, lowengelec_tf[i,j,:], spec_type='N',\n",
    "                rs = np.exp(log_rs), in_eng = in_eng\n",
    "            ) for (j, log_rs) in enumerate(log_rs_arr)\n",
    "        ] for (i, (in_eng, out_eleceng)) in enumerate(zip(photeng_high, new_out_eleceng_arr))\n",
    "    ] for lowengelec_tf in tqdm(new_lowengelec_tf_raw)\n",
    "]\n"
   ]
  },
  {
   "cell_type": "markdown",
   "metadata": {},
   "source": [
    "... and rebin the `Spectrum` objects into the abscissa specified in `photeng`."
   ]
  },
  {
   "cell_type": "code",
   "execution_count": 18,
   "metadata": {
    "scrolled": true
   },
   "outputs": [
    {
     "data": {
      "application/vnd.jupyter.widget-view+json": {
       "model_id": "ec81061215ff4e42b981c76667e5eebb",
       "version_major": 2,
       "version_minor": 0
      },
      "text/html": [
       "<p>Failed to display Jupyter Widget of type <code>HBox</code>.</p>\n",
       "<p>\n",
       "  If you're reading this message in the Jupyter Notebook or JupyterLab Notebook, it may mean\n",
       "  that the widgets JavaScript is still loading. If this message persists, it\n",
       "  likely means that the widgets JavaScript library is either not installed or\n",
       "  not enabled. See the <a href=\"https://ipywidgets.readthedocs.io/en/stable/user_install.html\">Jupyter\n",
       "  Widgets Documentation</a> for setup instructions.\n",
       "</p>\n",
       "<p>\n",
       "  If you're reading this message in another frontend (for example, a static\n",
       "  rendering on GitHub or <a href=\"https://nbviewer.jupyter.org/\">NBViewer</a>),\n",
       "  it may mean that your frontend doesn't currently support widgets.\n",
       "</p>\n"
      ],
      "text/plain": [
       "HBox(children=(IntProgress(value=0, max=11), HTML(value='')))"
      ]
     },
     "metadata": {},
     "output_type": "display_data"
    },
    {
     "data": {
      "application/vnd.jupyter.widget-view+json": {
       "model_id": "270d74d46efe4f6a990b8bb3c1e49a96",
       "version_major": 2,
       "version_minor": 0
      },
      "text/html": [
       "<p>Failed to display Jupyter Widget of type <code>HBox</code>.</p>\n",
       "<p>\n",
       "  If you're reading this message in the Jupyter Notebook or JupyterLab Notebook, it may mean\n",
       "  that the widgets JavaScript is still loading. If this message persists, it\n",
       "  likely means that the widgets JavaScript library is either not installed or\n",
       "  not enabled. See the <a href=\"https://ipywidgets.readthedocs.io/en/stable/user_install.html\">Jupyter\n",
       "  Widgets Documentation</a> for setup instructions.\n",
       "</p>\n",
       "<p>\n",
       "  If you're reading this message in another frontend (for example, a static\n",
       "  rendering on GitHub or <a href=\"https://nbviewer.jupyter.org/\">NBViewer</a>),\n",
       "  it may mean that your frontend doesn't currently support widgets.\n",
       "</p>\n"
      ],
      "text/plain": [
       "HBox(children=(IntProgress(value=0, max=325), HTML(value='')))"
      ]
     },
     "metadata": {},
     "output_type": "display_data"
    },
    {
     "data": {
      "application/vnd.jupyter.widget-view+json": {
       "model_id": "2eebe62374064946860e78be39dd77d3",
       "version_major": 2,
       "version_minor": 0
      },
      "text/html": [
       "<p>Failed to display Jupyter Widget of type <code>HBox</code>.</p>\n",
       "<p>\n",
       "  If you're reading this message in the Jupyter Notebook or JupyterLab Notebook, it may mean\n",
       "  that the widgets JavaScript is still loading. If this message persists, it\n",
       "  likely means that the widgets JavaScript library is either not installed or\n",
       "  not enabled. See the <a href=\"https://ipywidgets.readthedocs.io/en/stable/user_install.html\">Jupyter\n",
       "  Widgets Documentation</a> for setup instructions.\n",
       "</p>\n",
       "<p>\n",
       "  If you're reading this message in another frontend (for example, a static\n",
       "  rendering on GitHub or <a href=\"https://nbviewer.jupyter.org/\">NBViewer</a>),\n",
       "  it may mean that your frontend doesn't currently support widgets.\n",
       "</p>\n"
      ],
      "text/plain": [
       "HBox(children=(IntProgress(value=0, max=325), HTML(value='')))"
      ]
     },
     "metadata": {},
     "output_type": "display_data"
    },
    {
     "data": {
      "application/vnd.jupyter.widget-view+json": {
       "model_id": "fa10a734022948a49007814c6fa4c6c3",
       "version_major": 2,
       "version_minor": 0
      },
      "text/html": [
       "<p>Failed to display Jupyter Widget of type <code>HBox</code>.</p>\n",
       "<p>\n",
       "  If you're reading this message in the Jupyter Notebook or JupyterLab Notebook, it may mean\n",
       "  that the widgets JavaScript is still loading. If this message persists, it\n",
       "  likely means that the widgets JavaScript library is either not installed or\n",
       "  not enabled. See the <a href=\"https://ipywidgets.readthedocs.io/en/stable/user_install.html\">Jupyter\n",
       "  Widgets Documentation</a> for setup instructions.\n",
       "</p>\n",
       "<p>\n",
       "  If you're reading this message in another frontend (for example, a static\n",
       "  rendering on GitHub or <a href=\"https://nbviewer.jupyter.org/\">NBViewer</a>),\n",
       "  it may mean that your frontend doesn't currently support widgets.\n",
       "</p>\n"
      ],
      "text/plain": [
       "HBox(children=(IntProgress(value=0, max=325), HTML(value='')))"
      ]
     },
     "metadata": {},
     "output_type": "display_data"
    },
    {
     "data": {
      "application/vnd.jupyter.widget-view+json": {
       "model_id": "3fe436bf853047baaf2154f062a96622",
       "version_major": 2,
       "version_minor": 0
      },
      "text/html": [
       "<p>Failed to display Jupyter Widget of type <code>HBox</code>.</p>\n",
       "<p>\n",
       "  If you're reading this message in the Jupyter Notebook or JupyterLab Notebook, it may mean\n",
       "  that the widgets JavaScript is still loading. If this message persists, it\n",
       "  likely means that the widgets JavaScript library is either not installed or\n",
       "  not enabled. See the <a href=\"https://ipywidgets.readthedocs.io/en/stable/user_install.html\">Jupyter\n",
       "  Widgets Documentation</a> for setup instructions.\n",
       "</p>\n",
       "<p>\n",
       "  If you're reading this message in another frontend (for example, a static\n",
       "  rendering on GitHub or <a href=\"https://nbviewer.jupyter.org/\">NBViewer</a>),\n",
       "  it may mean that your frontend doesn't currently support widgets.\n",
       "</p>\n"
      ],
      "text/plain": [
       "HBox(children=(IntProgress(value=0, max=325), HTML(value='')))"
      ]
     },
     "metadata": {},
     "output_type": "display_data"
    },
    {
     "data": {
      "application/vnd.jupyter.widget-view+json": {
       "model_id": "e5c63e772e6b4c86ad262021a96b08f6",
       "version_major": 2,
       "version_minor": 0
      },
      "text/html": [
       "<p>Failed to display Jupyter Widget of type <code>HBox</code>.</p>\n",
       "<p>\n",
       "  If you're reading this message in the Jupyter Notebook or JupyterLab Notebook, it may mean\n",
       "  that the widgets JavaScript is still loading. If this message persists, it\n",
       "  likely means that the widgets JavaScript library is either not installed or\n",
       "  not enabled. See the <a href=\"https://ipywidgets.readthedocs.io/en/stable/user_install.html\">Jupyter\n",
       "  Widgets Documentation</a> for setup instructions.\n",
       "</p>\n",
       "<p>\n",
       "  If you're reading this message in another frontend (for example, a static\n",
       "  rendering on GitHub or <a href=\"https://nbviewer.jupyter.org/\">NBViewer</a>),\n",
       "  it may mean that your frontend doesn't currently support widgets.\n",
       "</p>\n"
      ],
      "text/plain": [
       "HBox(children=(IntProgress(value=0, max=325), HTML(value='')))"
      ]
     },
     "metadata": {},
     "output_type": "display_data"
    },
    {
     "data": {
      "application/vnd.jupyter.widget-view+json": {
       "model_id": "5698d79138244815a0fd669597bd19ec",
       "version_major": 2,
       "version_minor": 0
      },
      "text/html": [
       "<p>Failed to display Jupyter Widget of type <code>HBox</code>.</p>\n",
       "<p>\n",
       "  If you're reading this message in the Jupyter Notebook or JupyterLab Notebook, it may mean\n",
       "  that the widgets JavaScript is still loading. If this message persists, it\n",
       "  likely means that the widgets JavaScript library is either not installed or\n",
       "  not enabled. See the <a href=\"https://ipywidgets.readthedocs.io/en/stable/user_install.html\">Jupyter\n",
       "  Widgets Documentation</a> for setup instructions.\n",
       "</p>\n",
       "<p>\n",
       "  If you're reading this message in another frontend (for example, a static\n",
       "  rendering on GitHub or <a href=\"https://nbviewer.jupyter.org/\">NBViewer</a>),\n",
       "  it may mean that your frontend doesn't currently support widgets.\n",
       "</p>\n"
      ],
      "text/plain": [
       "HBox(children=(IntProgress(value=0, max=325), HTML(value='')))"
      ]
     },
     "metadata": {},
     "output_type": "display_data"
    },
    {
     "data": {
      "application/vnd.jupyter.widget-view+json": {
       "model_id": "974b336b4990445aaa062d0223bc9021",
       "version_major": 2,
       "version_minor": 0
      },
      "text/html": [
       "<p>Failed to display Jupyter Widget of type <code>HBox</code>.</p>\n",
       "<p>\n",
       "  If you're reading this message in the Jupyter Notebook or JupyterLab Notebook, it may mean\n",
       "  that the widgets JavaScript is still loading. If this message persists, it\n",
       "  likely means that the widgets JavaScript library is either not installed or\n",
       "  not enabled. See the <a href=\"https://ipywidgets.readthedocs.io/en/stable/user_install.html\">Jupyter\n",
       "  Widgets Documentation</a> for setup instructions.\n",
       "</p>\n",
       "<p>\n",
       "  If you're reading this message in another frontend (for example, a static\n",
       "  rendering on GitHub or <a href=\"https://nbviewer.jupyter.org/\">NBViewer</a>),\n",
       "  it may mean that your frontend doesn't currently support widgets.\n",
       "</p>\n"
      ],
      "text/plain": [
       "HBox(children=(IntProgress(value=0, max=325), HTML(value='')))"
      ]
     },
     "metadata": {},
     "output_type": "display_data"
    },
    {
     "data": {
      "application/vnd.jupyter.widget-view+json": {
       "model_id": "5c8c593cbe694d0d90f0cdac9547cb1e",
       "version_major": 2,
       "version_minor": 0
      },
      "text/html": [
       "<p>Failed to display Jupyter Widget of type <code>HBox</code>.</p>\n",
       "<p>\n",
       "  If you're reading this message in the Jupyter Notebook or JupyterLab Notebook, it may mean\n",
       "  that the widgets JavaScript is still loading. If this message persists, it\n",
       "  likely means that the widgets JavaScript library is either not installed or\n",
       "  not enabled. See the <a href=\"https://ipywidgets.readthedocs.io/en/stable/user_install.html\">Jupyter\n",
       "  Widgets Documentation</a> for setup instructions.\n",
       "</p>\n",
       "<p>\n",
       "  If you're reading this message in another frontend (for example, a static\n",
       "  rendering on GitHub or <a href=\"https://nbviewer.jupyter.org/\">NBViewer</a>),\n",
       "  it may mean that your frontend doesn't currently support widgets.\n",
       "</p>\n"
      ],
      "text/plain": [
       "HBox(children=(IntProgress(value=0, max=325), HTML(value='')))"
      ]
     },
     "metadata": {},
     "output_type": "display_data"
    },
    {
     "data": {
      "application/vnd.jupyter.widget-view+json": {
       "model_id": "3c1695692dc5440e8501e128e5f6dfe3",
       "version_major": 2,
       "version_minor": 0
      },
      "text/html": [
       "<p>Failed to display Jupyter Widget of type <code>HBox</code>.</p>\n",
       "<p>\n",
       "  If you're reading this message in the Jupyter Notebook or JupyterLab Notebook, it may mean\n",
       "  that the widgets JavaScript is still loading. If this message persists, it\n",
       "  likely means that the widgets JavaScript library is either not installed or\n",
       "  not enabled. See the <a href=\"https://ipywidgets.readthedocs.io/en/stable/user_install.html\">Jupyter\n",
       "  Widgets Documentation</a> for setup instructions.\n",
       "</p>\n",
       "<p>\n",
       "  If you're reading this message in another frontend (for example, a static\n",
       "  rendering on GitHub or <a href=\"https://nbviewer.jupyter.org/\">NBViewer</a>),\n",
       "  it may mean that your frontend doesn't currently support widgets.\n",
       "</p>\n"
      ],
      "text/plain": [
       "HBox(children=(IntProgress(value=0, max=325), HTML(value='')))"
      ]
     },
     "metadata": {},
     "output_type": "display_data"
    },
    {
     "data": {
      "application/vnd.jupyter.widget-view+json": {
       "model_id": "65011853cdfc46f79c96e3eb5b2144a7",
       "version_major": 2,
       "version_minor": 0
      },
      "text/html": [
       "<p>Failed to display Jupyter Widget of type <code>HBox</code>.</p>\n",
       "<p>\n",
       "  If you're reading this message in the Jupyter Notebook or JupyterLab Notebook, it may mean\n",
       "  that the widgets JavaScript is still loading. If this message persists, it\n",
       "  likely means that the widgets JavaScript library is either not installed or\n",
       "  not enabled. See the <a href=\"https://ipywidgets.readthedocs.io/en/stable/user_install.html\">Jupyter\n",
       "  Widgets Documentation</a> for setup instructions.\n",
       "</p>\n",
       "<p>\n",
       "  If you're reading this message in another frontend (for example, a static\n",
       "  rendering on GitHub or <a href=\"https://nbviewer.jupyter.org/\">NBViewer</a>),\n",
       "  it may mean that your frontend doesn't currently support widgets.\n",
       "</p>\n"
      ],
      "text/plain": [
       "HBox(children=(IntProgress(value=0, max=325), HTML(value='')))"
      ]
     },
     "metadata": {},
     "output_type": "display_data"
    },
    {
     "data": {
      "application/vnd.jupyter.widget-view+json": {
       "model_id": "39e759c94bb14ed9b95906c653d159bd",
       "version_major": 2,
       "version_minor": 0
      },
      "text/html": [
       "<p>Failed to display Jupyter Widget of type <code>HBox</code>.</p>\n",
       "<p>\n",
       "  If you're reading this message in the Jupyter Notebook or JupyterLab Notebook, it may mean\n",
       "  that the widgets JavaScript is still loading. If this message persists, it\n",
       "  likely means that the widgets JavaScript library is either not installed or\n",
       "  not enabled. See the <a href=\"https://ipywidgets.readthedocs.io/en/stable/user_install.html\">Jupyter\n",
       "  Widgets Documentation</a> for setup instructions.\n",
       "</p>\n",
       "<p>\n",
       "  If you're reading this message in another frontend (for example, a static\n",
       "  rendering on GitHub or <a href=\"https://nbviewer.jupyter.org/\">NBViewer</a>),\n",
       "  it may mean that your frontend doesn't currently support widgets.\n",
       "</p>\n"
      ],
      "text/plain": [
       "HBox(children=(IntProgress(value=0, max=325), HTML(value='')))"
      ]
     },
     "metadata": {},
     "output_type": "display_data"
    },
    {
     "name": "stdout",
     "output_type": "stream",
     "text": [
      "\n"
     ]
    },
    {
     "data": {
      "application/vnd.jupyter.widget-view+json": {
       "model_id": "4887efdcdfa34388a581b095d49bfa7a",
       "version_major": 2,
       "version_minor": 0
      },
      "text/html": [
       "<p>Failed to display Jupyter Widget of type <code>HBox</code>.</p>\n",
       "<p>\n",
       "  If you're reading this message in the Jupyter Notebook or JupyterLab Notebook, it may mean\n",
       "  that the widgets JavaScript is still loading. If this message persists, it\n",
       "  likely means that the widgets JavaScript library is either not installed or\n",
       "  not enabled. See the <a href=\"https://ipywidgets.readthedocs.io/en/stable/user_install.html\">Jupyter\n",
       "  Widgets Documentation</a> for setup instructions.\n",
       "</p>\n",
       "<p>\n",
       "  If you're reading this message in another frontend (for example, a static\n",
       "  rendering on GitHub or <a href=\"https://nbviewer.jupyter.org/\">NBViewer</a>),\n",
       "  it may mean that your frontend doesn't currently support widgets.\n",
       "</p>\n"
      ],
      "text/plain": [
       "HBox(children=(IntProgress(value=0, max=11), HTML(value='')))"
      ]
     },
     "metadata": {},
     "output_type": "display_data"
    },
    {
     "data": {
      "application/vnd.jupyter.widget-view+json": {
       "model_id": "82cd65c8b27c4f2a89c227f67f1ce71f",
       "version_major": 2,
       "version_minor": 0
      },
      "text/html": [
       "<p>Failed to display Jupyter Widget of type <code>HBox</code>.</p>\n",
       "<p>\n",
       "  If you're reading this message in the Jupyter Notebook or JupyterLab Notebook, it may mean\n",
       "  that the widgets JavaScript is still loading. If this message persists, it\n",
       "  likely means that the widgets JavaScript library is either not installed or\n",
       "  not enabled. See the <a href=\"https://ipywidgets.readthedocs.io/en/stable/user_install.html\">Jupyter\n",
       "  Widgets Documentation</a> for setup instructions.\n",
       "</p>\n",
       "<p>\n",
       "  If you're reading this message in another frontend (for example, a static\n",
       "  rendering on GitHub or <a href=\"https://nbviewer.jupyter.org/\">NBViewer</a>),\n",
       "  it may mean that your frontend doesn't currently support widgets.\n",
       "</p>\n"
      ],
      "text/plain": [
       "HBox(children=(IntProgress(value=0, max=325), HTML(value='')))"
      ]
     },
     "metadata": {},
     "output_type": "display_data"
    },
    {
     "data": {
      "application/vnd.jupyter.widget-view+json": {
       "model_id": "2c6458aa85da480fbb31e86adc4a6238",
       "version_major": 2,
       "version_minor": 0
      },
      "text/html": [
       "<p>Failed to display Jupyter Widget of type <code>HBox</code>.</p>\n",
       "<p>\n",
       "  If you're reading this message in the Jupyter Notebook or JupyterLab Notebook, it may mean\n",
       "  that the widgets JavaScript is still loading. If this message persists, it\n",
       "  likely means that the widgets JavaScript library is either not installed or\n",
       "  not enabled. See the <a href=\"https://ipywidgets.readthedocs.io/en/stable/user_install.html\">Jupyter\n",
       "  Widgets Documentation</a> for setup instructions.\n",
       "</p>\n",
       "<p>\n",
       "  If you're reading this message in another frontend (for example, a static\n",
       "  rendering on GitHub or <a href=\"https://nbviewer.jupyter.org/\">NBViewer</a>),\n",
       "  it may mean that your frontend doesn't currently support widgets.\n",
       "</p>\n"
      ],
      "text/plain": [
       "HBox(children=(IntProgress(value=0, max=325), HTML(value='')))"
      ]
     },
     "metadata": {},
     "output_type": "display_data"
    },
    {
     "data": {
      "application/vnd.jupyter.widget-view+json": {
       "model_id": "a8d61f35455b4533b754d9a827ea451e",
       "version_major": 2,
       "version_minor": 0
      },
      "text/html": [
       "<p>Failed to display Jupyter Widget of type <code>HBox</code>.</p>\n",
       "<p>\n",
       "  If you're reading this message in the Jupyter Notebook or JupyterLab Notebook, it may mean\n",
       "  that the widgets JavaScript is still loading. If this message persists, it\n",
       "  likely means that the widgets JavaScript library is either not installed or\n",
       "  not enabled. See the <a href=\"https://ipywidgets.readthedocs.io/en/stable/user_install.html\">Jupyter\n",
       "  Widgets Documentation</a> for setup instructions.\n",
       "</p>\n",
       "<p>\n",
       "  If you're reading this message in another frontend (for example, a static\n",
       "  rendering on GitHub or <a href=\"https://nbviewer.jupyter.org/\">NBViewer</a>),\n",
       "  it may mean that your frontend doesn't currently support widgets.\n",
       "</p>\n"
      ],
      "text/plain": [
       "HBox(children=(IntProgress(value=0, max=325), HTML(value='')))"
      ]
     },
     "metadata": {},
     "output_type": "display_data"
    },
    {
     "data": {
      "application/vnd.jupyter.widget-view+json": {
       "model_id": "82022dd0af01428fbacb6cd0d5779c25",
       "version_major": 2,
       "version_minor": 0
      },
      "text/html": [
       "<p>Failed to display Jupyter Widget of type <code>HBox</code>.</p>\n",
       "<p>\n",
       "  If you're reading this message in the Jupyter Notebook or JupyterLab Notebook, it may mean\n",
       "  that the widgets JavaScript is still loading. If this message persists, it\n",
       "  likely means that the widgets JavaScript library is either not installed or\n",
       "  not enabled. See the <a href=\"https://ipywidgets.readthedocs.io/en/stable/user_install.html\">Jupyter\n",
       "  Widgets Documentation</a> for setup instructions.\n",
       "</p>\n",
       "<p>\n",
       "  If you're reading this message in another frontend (for example, a static\n",
       "  rendering on GitHub or <a href=\"https://nbviewer.jupyter.org/\">NBViewer</a>),\n",
       "  it may mean that your frontend doesn't currently support widgets.\n",
       "</p>\n"
      ],
      "text/plain": [
       "HBox(children=(IntProgress(value=0, max=325), HTML(value='')))"
      ]
     },
     "metadata": {},
     "output_type": "display_data"
    },
    {
     "data": {
      "application/vnd.jupyter.widget-view+json": {
       "model_id": "b8af8f07615b4029b2d554a39034ed7c",
       "version_major": 2,
       "version_minor": 0
      },
      "text/html": [
       "<p>Failed to display Jupyter Widget of type <code>HBox</code>.</p>\n",
       "<p>\n",
       "  If you're reading this message in the Jupyter Notebook or JupyterLab Notebook, it may mean\n",
       "  that the widgets JavaScript is still loading. If this message persists, it\n",
       "  likely means that the widgets JavaScript library is either not installed or\n",
       "  not enabled. See the <a href=\"https://ipywidgets.readthedocs.io/en/stable/user_install.html\">Jupyter\n",
       "  Widgets Documentation</a> for setup instructions.\n",
       "</p>\n",
       "<p>\n",
       "  If you're reading this message in another frontend (for example, a static\n",
       "  rendering on GitHub or <a href=\"https://nbviewer.jupyter.org/\">NBViewer</a>),\n",
       "  it may mean that your frontend doesn't currently support widgets.\n",
       "</p>\n"
      ],
      "text/plain": [
       "HBox(children=(IntProgress(value=0, max=325), HTML(value='')))"
      ]
     },
     "metadata": {},
     "output_type": "display_data"
    },
    {
     "data": {
      "application/vnd.jupyter.widget-view+json": {
       "model_id": "567e2b29ec3543fa884bcba7215845a5",
       "version_major": 2,
       "version_minor": 0
      },
      "text/html": [
       "<p>Failed to display Jupyter Widget of type <code>HBox</code>.</p>\n",
       "<p>\n",
       "  If you're reading this message in the Jupyter Notebook or JupyterLab Notebook, it may mean\n",
       "  that the widgets JavaScript is still loading. If this message persists, it\n",
       "  likely means that the widgets JavaScript library is either not installed or\n",
       "  not enabled. See the <a href=\"https://ipywidgets.readthedocs.io/en/stable/user_install.html\">Jupyter\n",
       "  Widgets Documentation</a> for setup instructions.\n",
       "</p>\n",
       "<p>\n",
       "  If you're reading this message in another frontend (for example, a static\n",
       "  rendering on GitHub or <a href=\"https://nbviewer.jupyter.org/\">NBViewer</a>),\n",
       "  it may mean that your frontend doesn't currently support widgets.\n",
       "</p>\n"
      ],
      "text/plain": [
       "HBox(children=(IntProgress(value=0, max=325), HTML(value='')))"
      ]
     },
     "metadata": {},
     "output_type": "display_data"
    },
    {
     "data": {
      "application/vnd.jupyter.widget-view+json": {
       "model_id": "5ae14a46d3384ab88f0e00d603ff1814",
       "version_major": 2,
       "version_minor": 0
      },
      "text/html": [
       "<p>Failed to display Jupyter Widget of type <code>HBox</code>.</p>\n",
       "<p>\n",
       "  If you're reading this message in the Jupyter Notebook or JupyterLab Notebook, it may mean\n",
       "  that the widgets JavaScript is still loading. If this message persists, it\n",
       "  likely means that the widgets JavaScript library is either not installed or\n",
       "  not enabled. See the <a href=\"https://ipywidgets.readthedocs.io/en/stable/user_install.html\">Jupyter\n",
       "  Widgets Documentation</a> for setup instructions.\n",
       "</p>\n",
       "<p>\n",
       "  If you're reading this message in another frontend (for example, a static\n",
       "  rendering on GitHub or <a href=\"https://nbviewer.jupyter.org/\">NBViewer</a>),\n",
       "  it may mean that your frontend doesn't currently support widgets.\n",
       "</p>\n"
      ],
      "text/plain": [
       "HBox(children=(IntProgress(value=0, max=325), HTML(value='')))"
      ]
     },
     "metadata": {},
     "output_type": "display_data"
    },
    {
     "data": {
      "application/vnd.jupyter.widget-view+json": {
       "model_id": "e4d4e24c517545c194f91cc8a9c54e39",
       "version_major": 2,
       "version_minor": 0
      },
      "text/html": [
       "<p>Failed to display Jupyter Widget of type <code>HBox</code>.</p>\n",
       "<p>\n",
       "  If you're reading this message in the Jupyter Notebook or JupyterLab Notebook, it may mean\n",
       "  that the widgets JavaScript is still loading. If this message persists, it\n",
       "  likely means that the widgets JavaScript library is either not installed or\n",
       "  not enabled. See the <a href=\"https://ipywidgets.readthedocs.io/en/stable/user_install.html\">Jupyter\n",
       "  Widgets Documentation</a> for setup instructions.\n",
       "</p>\n",
       "<p>\n",
       "  If you're reading this message in another frontend (for example, a static\n",
       "  rendering on GitHub or <a href=\"https://nbviewer.jupyter.org/\">NBViewer</a>),\n",
       "  it may mean that your frontend doesn't currently support widgets.\n",
       "</p>\n"
      ],
      "text/plain": [
       "HBox(children=(IntProgress(value=0, max=325), HTML(value='')))"
      ]
     },
     "metadata": {},
     "output_type": "display_data"
    },
    {
     "data": {
      "application/vnd.jupyter.widget-view+json": {
       "model_id": "c0b87807b09d432581b3fdbbe73929ff",
       "version_major": 2,
       "version_minor": 0
      },
      "text/html": [
       "<p>Failed to display Jupyter Widget of type <code>HBox</code>.</p>\n",
       "<p>\n",
       "  If you're reading this message in the Jupyter Notebook or JupyterLab Notebook, it may mean\n",
       "  that the widgets JavaScript is still loading. If this message persists, it\n",
       "  likely means that the widgets JavaScript library is either not installed or\n",
       "  not enabled. See the <a href=\"https://ipywidgets.readthedocs.io/en/stable/user_install.html\">Jupyter\n",
       "  Widgets Documentation</a> for setup instructions.\n",
       "</p>\n",
       "<p>\n",
       "  If you're reading this message in another frontend (for example, a static\n",
       "  rendering on GitHub or <a href=\"https://nbviewer.jupyter.org/\">NBViewer</a>),\n",
       "  it may mean that your frontend doesn't currently support widgets.\n",
       "</p>\n"
      ],
      "text/plain": [
       "HBox(children=(IntProgress(value=0, max=325), HTML(value='')))"
      ]
     },
     "metadata": {},
     "output_type": "display_data"
    },
    {
     "data": {
      "application/vnd.jupyter.widget-view+json": {
       "model_id": "01455dd838c7462088415605f57fd258",
       "version_major": 2,
       "version_minor": 0
      },
      "text/html": [
       "<p>Failed to display Jupyter Widget of type <code>HBox</code>.</p>\n",
       "<p>\n",
       "  If you're reading this message in the Jupyter Notebook or JupyterLab Notebook, it may mean\n",
       "  that the widgets JavaScript is still loading. If this message persists, it\n",
       "  likely means that the widgets JavaScript library is either not installed or\n",
       "  not enabled. See the <a href=\"https://ipywidgets.readthedocs.io/en/stable/user_install.html\">Jupyter\n",
       "  Widgets Documentation</a> for setup instructions.\n",
       "</p>\n",
       "<p>\n",
       "  If you're reading this message in another frontend (for example, a static\n",
       "  rendering on GitHub or <a href=\"https://nbviewer.jupyter.org/\">NBViewer</a>),\n",
       "  it may mean that your frontend doesn't currently support widgets.\n",
       "</p>\n"
      ],
      "text/plain": [
       "HBox(children=(IntProgress(value=0, max=325), HTML(value='')))"
      ]
     },
     "metadata": {},
     "output_type": "display_data"
    },
    {
     "data": {
      "application/vnd.jupyter.widget-view+json": {
       "model_id": "77e4815f99da479dbf486d511eac2cac",
       "version_major": 2,
       "version_minor": 0
      },
      "text/html": [
       "<p>Failed to display Jupyter Widget of type <code>HBox</code>.</p>\n",
       "<p>\n",
       "  If you're reading this message in the Jupyter Notebook or JupyterLab Notebook, it may mean\n",
       "  that the widgets JavaScript is still loading. If this message persists, it\n",
       "  likely means that the widgets JavaScript library is either not installed or\n",
       "  not enabled. See the <a href=\"https://ipywidgets.readthedocs.io/en/stable/user_install.html\">Jupyter\n",
       "  Widgets Documentation</a> for setup instructions.\n",
       "</p>\n",
       "<p>\n",
       "  If you're reading this message in another frontend (for example, a static\n",
       "  rendering on GitHub or <a href=\"https://nbviewer.jupyter.org/\">NBViewer</a>),\n",
       "  it may mean that your frontend doesn't currently support widgets.\n",
       "</p>\n"
      ],
      "text/plain": [
       "HBox(children=(IntProgress(value=0, max=325), HTML(value='')))"
      ]
     },
     "metadata": {},
     "output_type": "display_data"
    },
    {
     "name": "stdout",
     "output_type": "stream",
     "text": [
      "\n"
     ]
    },
    {
     "data": {
      "application/vnd.jupyter.widget-view+json": {
       "model_id": "274e0837c2494c91bc2a088c4bdf899e",
       "version_major": 2,
       "version_minor": 0
      },
      "text/html": [
       "<p>Failed to display Jupyter Widget of type <code>HBox</code>.</p>\n",
       "<p>\n",
       "  If you're reading this message in the Jupyter Notebook or JupyterLab Notebook, it may mean\n",
       "  that the widgets JavaScript is still loading. If this message persists, it\n",
       "  likely means that the widgets JavaScript library is either not installed or\n",
       "  not enabled. See the <a href=\"https://ipywidgets.readthedocs.io/en/stable/user_install.html\">Jupyter\n",
       "  Widgets Documentation</a> for setup instructions.\n",
       "</p>\n",
       "<p>\n",
       "  If you're reading this message in another frontend (for example, a static\n",
       "  rendering on GitHub or <a href=\"https://nbviewer.jupyter.org/\">NBViewer</a>),\n",
       "  it may mean that your frontend doesn't currently support widgets.\n",
       "</p>\n"
      ],
      "text/plain": [
       "HBox(children=(IntProgress(value=0, max=11), HTML(value='')))"
      ]
     },
     "metadata": {},
     "output_type": "display_data"
    },
    {
     "data": {
      "application/vnd.jupyter.widget-view+json": {
       "model_id": "084928ff7504482e9eb55d1fd8512f5c",
       "version_major": 2,
       "version_minor": 0
      },
      "text/html": [
       "<p>Failed to display Jupyter Widget of type <code>HBox</code>.</p>\n",
       "<p>\n",
       "  If you're reading this message in the Jupyter Notebook or JupyterLab Notebook, it may mean\n",
       "  that the widgets JavaScript is still loading. If this message persists, it\n",
       "  likely means that the widgets JavaScript library is either not installed or\n",
       "  not enabled. See the <a href=\"https://ipywidgets.readthedocs.io/en/stable/user_install.html\">Jupyter\n",
       "  Widgets Documentation</a> for setup instructions.\n",
       "</p>\n",
       "<p>\n",
       "  If you're reading this message in another frontend (for example, a static\n",
       "  rendering on GitHub or <a href=\"https://nbviewer.jupyter.org/\">NBViewer</a>),\n",
       "  it may mean that your frontend doesn't currently support widgets.\n",
       "</p>\n"
      ],
      "text/plain": [
       "HBox(children=(IntProgress(value=0, max=325), HTML(value='')))"
      ]
     },
     "metadata": {},
     "output_type": "display_data"
    },
    {
     "data": {
      "application/vnd.jupyter.widget-view+json": {
       "model_id": "4186bf44c22b43ed8c5c6bd765cdf219",
       "version_major": 2,
       "version_minor": 0
      },
      "text/html": [
       "<p>Failed to display Jupyter Widget of type <code>HBox</code>.</p>\n",
       "<p>\n",
       "  If you're reading this message in the Jupyter Notebook or JupyterLab Notebook, it may mean\n",
       "  that the widgets JavaScript is still loading. If this message persists, it\n",
       "  likely means that the widgets JavaScript library is either not installed or\n",
       "  not enabled. See the <a href=\"https://ipywidgets.readthedocs.io/en/stable/user_install.html\">Jupyter\n",
       "  Widgets Documentation</a> for setup instructions.\n",
       "</p>\n",
       "<p>\n",
       "  If you're reading this message in another frontend (for example, a static\n",
       "  rendering on GitHub or <a href=\"https://nbviewer.jupyter.org/\">NBViewer</a>),\n",
       "  it may mean that your frontend doesn't currently support widgets.\n",
       "</p>\n"
      ],
      "text/plain": [
       "HBox(children=(IntProgress(value=0, max=325), HTML(value='')))"
      ]
     },
     "metadata": {},
     "output_type": "display_data"
    },
    {
     "data": {
      "application/vnd.jupyter.widget-view+json": {
       "model_id": "e3a9d3d8e9ce4002b7381cde9287771a",
       "version_major": 2,
       "version_minor": 0
      },
      "text/html": [
       "<p>Failed to display Jupyter Widget of type <code>HBox</code>.</p>\n",
       "<p>\n",
       "  If you're reading this message in the Jupyter Notebook or JupyterLab Notebook, it may mean\n",
       "  that the widgets JavaScript is still loading. If this message persists, it\n",
       "  likely means that the widgets JavaScript library is either not installed or\n",
       "  not enabled. See the <a href=\"https://ipywidgets.readthedocs.io/en/stable/user_install.html\">Jupyter\n",
       "  Widgets Documentation</a> for setup instructions.\n",
       "</p>\n",
       "<p>\n",
       "  If you're reading this message in another frontend (for example, a static\n",
       "  rendering on GitHub or <a href=\"https://nbviewer.jupyter.org/\">NBViewer</a>),\n",
       "  it may mean that your frontend doesn't currently support widgets.\n",
       "</p>\n"
      ],
      "text/plain": [
       "HBox(children=(IntProgress(value=0, max=325), HTML(value='')))"
      ]
     },
     "metadata": {},
     "output_type": "display_data"
    },
    {
     "data": {
      "application/vnd.jupyter.widget-view+json": {
       "model_id": "c224d06390b54667af0aa610314fb87d",
       "version_major": 2,
       "version_minor": 0
      },
      "text/html": [
       "<p>Failed to display Jupyter Widget of type <code>HBox</code>.</p>\n",
       "<p>\n",
       "  If you're reading this message in the Jupyter Notebook or JupyterLab Notebook, it may mean\n",
       "  that the widgets JavaScript is still loading. If this message persists, it\n",
       "  likely means that the widgets JavaScript library is either not installed or\n",
       "  not enabled. See the <a href=\"https://ipywidgets.readthedocs.io/en/stable/user_install.html\">Jupyter\n",
       "  Widgets Documentation</a> for setup instructions.\n",
       "</p>\n",
       "<p>\n",
       "  If you're reading this message in another frontend (for example, a static\n",
       "  rendering on GitHub or <a href=\"https://nbviewer.jupyter.org/\">NBViewer</a>),\n",
       "  it may mean that your frontend doesn't currently support widgets.\n",
       "</p>\n"
      ],
      "text/plain": [
       "HBox(children=(IntProgress(value=0, max=325), HTML(value='')))"
      ]
     },
     "metadata": {},
     "output_type": "display_data"
    },
    {
     "data": {
      "application/vnd.jupyter.widget-view+json": {
       "model_id": "268f4d7dfb684ef299dcd195531c942d",
       "version_major": 2,
       "version_minor": 0
      },
      "text/html": [
       "<p>Failed to display Jupyter Widget of type <code>HBox</code>.</p>\n",
       "<p>\n",
       "  If you're reading this message in the Jupyter Notebook or JupyterLab Notebook, it may mean\n",
       "  that the widgets JavaScript is still loading. If this message persists, it\n",
       "  likely means that the widgets JavaScript library is either not installed or\n",
       "  not enabled. See the <a href=\"https://ipywidgets.readthedocs.io/en/stable/user_install.html\">Jupyter\n",
       "  Widgets Documentation</a> for setup instructions.\n",
       "</p>\n",
       "<p>\n",
       "  If you're reading this message in another frontend (for example, a static\n",
       "  rendering on GitHub or <a href=\"https://nbviewer.jupyter.org/\">NBViewer</a>),\n",
       "  it may mean that your frontend doesn't currently support widgets.\n",
       "</p>\n"
      ],
      "text/plain": [
       "HBox(children=(IntProgress(value=0, max=325), HTML(value='')))"
      ]
     },
     "metadata": {},
     "output_type": "display_data"
    },
    {
     "data": {
      "application/vnd.jupyter.widget-view+json": {
       "model_id": "d8d7d0f8fec149999dbe150895c0eece",
       "version_major": 2,
       "version_minor": 0
      },
      "text/html": [
       "<p>Failed to display Jupyter Widget of type <code>HBox</code>.</p>\n",
       "<p>\n",
       "  If you're reading this message in the Jupyter Notebook or JupyterLab Notebook, it may mean\n",
       "  that the widgets JavaScript is still loading. If this message persists, it\n",
       "  likely means that the widgets JavaScript library is either not installed or\n",
       "  not enabled. See the <a href=\"https://ipywidgets.readthedocs.io/en/stable/user_install.html\">Jupyter\n",
       "  Widgets Documentation</a> for setup instructions.\n",
       "</p>\n",
       "<p>\n",
       "  If you're reading this message in another frontend (for example, a static\n",
       "  rendering on GitHub or <a href=\"https://nbviewer.jupyter.org/\">NBViewer</a>),\n",
       "  it may mean that your frontend doesn't currently support widgets.\n",
       "</p>\n"
      ],
      "text/plain": [
       "HBox(children=(IntProgress(value=0, max=325), HTML(value='')))"
      ]
     },
     "metadata": {},
     "output_type": "display_data"
    },
    {
     "data": {
      "application/vnd.jupyter.widget-view+json": {
       "model_id": "c094ae4cb76246ed829b895aa65e8548",
       "version_major": 2,
       "version_minor": 0
      },
      "text/html": [
       "<p>Failed to display Jupyter Widget of type <code>HBox</code>.</p>\n",
       "<p>\n",
       "  If you're reading this message in the Jupyter Notebook or JupyterLab Notebook, it may mean\n",
       "  that the widgets JavaScript is still loading. If this message persists, it\n",
       "  likely means that the widgets JavaScript library is either not installed or\n",
       "  not enabled. See the <a href=\"https://ipywidgets.readthedocs.io/en/stable/user_install.html\">Jupyter\n",
       "  Widgets Documentation</a> for setup instructions.\n",
       "</p>\n",
       "<p>\n",
       "  If you're reading this message in another frontend (for example, a static\n",
       "  rendering on GitHub or <a href=\"https://nbviewer.jupyter.org/\">NBViewer</a>),\n",
       "  it may mean that your frontend doesn't currently support widgets.\n",
       "</p>\n"
      ],
      "text/plain": [
       "HBox(children=(IntProgress(value=0, max=325), HTML(value='')))"
      ]
     },
     "metadata": {},
     "output_type": "display_data"
    },
    {
     "data": {
      "application/vnd.jupyter.widget-view+json": {
       "model_id": "07840ffc4932489d8413d0257565c401",
       "version_major": 2,
       "version_minor": 0
      },
      "text/html": [
       "<p>Failed to display Jupyter Widget of type <code>HBox</code>.</p>\n",
       "<p>\n",
       "  If you're reading this message in the Jupyter Notebook or JupyterLab Notebook, it may mean\n",
       "  that the widgets JavaScript is still loading. If this message persists, it\n",
       "  likely means that the widgets JavaScript library is either not installed or\n",
       "  not enabled. See the <a href=\"https://ipywidgets.readthedocs.io/en/stable/user_install.html\">Jupyter\n",
       "  Widgets Documentation</a> for setup instructions.\n",
       "</p>\n",
       "<p>\n",
       "  If you're reading this message in another frontend (for example, a static\n",
       "  rendering on GitHub or <a href=\"https://nbviewer.jupyter.org/\">NBViewer</a>),\n",
       "  it may mean that your frontend doesn't currently support widgets.\n",
       "</p>\n"
      ],
      "text/plain": [
       "HBox(children=(IntProgress(value=0, max=325), HTML(value='')))"
      ]
     },
     "metadata": {},
     "output_type": "display_data"
    },
    {
     "data": {
      "application/vnd.jupyter.widget-view+json": {
       "model_id": "ffe1ab0e634a499080516daed83714e0",
       "version_major": 2,
       "version_minor": 0
      },
      "text/html": [
       "<p>Failed to display Jupyter Widget of type <code>HBox</code>.</p>\n",
       "<p>\n",
       "  If you're reading this message in the Jupyter Notebook or JupyterLab Notebook, it may mean\n",
       "  that the widgets JavaScript is still loading. If this message persists, it\n",
       "  likely means that the widgets JavaScript library is either not installed or\n",
       "  not enabled. See the <a href=\"https://ipywidgets.readthedocs.io/en/stable/user_install.html\">Jupyter\n",
       "  Widgets Documentation</a> for setup instructions.\n",
       "</p>\n",
       "<p>\n",
       "  If you're reading this message in another frontend (for example, a static\n",
       "  rendering on GitHub or <a href=\"https://nbviewer.jupyter.org/\">NBViewer</a>),\n",
       "  it may mean that your frontend doesn't currently support widgets.\n",
       "</p>\n"
      ],
      "text/plain": [
       "HBox(children=(IntProgress(value=0, max=325), HTML(value='')))"
      ]
     },
     "metadata": {},
     "output_type": "display_data"
    },
    {
     "data": {
      "application/vnd.jupyter.widget-view+json": {
       "model_id": "13a6ac257b094e339ba0c12c5be672ec",
       "version_major": 2,
       "version_minor": 0
      },
      "text/html": [
       "<p>Failed to display Jupyter Widget of type <code>HBox</code>.</p>\n",
       "<p>\n",
       "  If you're reading this message in the Jupyter Notebook or JupyterLab Notebook, it may mean\n",
       "  that the widgets JavaScript is still loading. If this message persists, it\n",
       "  likely means that the widgets JavaScript library is either not installed or\n",
       "  not enabled. See the <a href=\"https://ipywidgets.readthedocs.io/en/stable/user_install.html\">Jupyter\n",
       "  Widgets Documentation</a> for setup instructions.\n",
       "</p>\n",
       "<p>\n",
       "  If you're reading this message in another frontend (for example, a static\n",
       "  rendering on GitHub or <a href=\"https://nbviewer.jupyter.org/\">NBViewer</a>),\n",
       "  it may mean that your frontend doesn't currently support widgets.\n",
       "</p>\n"
      ],
      "text/plain": [
       "HBox(children=(IntProgress(value=0, max=325), HTML(value='')))"
      ]
     },
     "metadata": {},
     "output_type": "display_data"
    },
    {
     "data": {
      "application/vnd.jupyter.widget-view+json": {
       "model_id": "03bf4018790b4eeeb026977bdff493ba",
       "version_major": 2,
       "version_minor": 0
      },
      "text/html": [
       "<p>Failed to display Jupyter Widget of type <code>HBox</code>.</p>\n",
       "<p>\n",
       "  If you're reading this message in the Jupyter Notebook or JupyterLab Notebook, it may mean\n",
       "  that the widgets JavaScript is still loading. If this message persists, it\n",
       "  likely means that the widgets JavaScript library is either not installed or\n",
       "  not enabled. See the <a href=\"https://ipywidgets.readthedocs.io/en/stable/user_install.html\">Jupyter\n",
       "  Widgets Documentation</a> for setup instructions.\n",
       "</p>\n",
       "<p>\n",
       "  If you're reading this message in another frontend (for example, a static\n",
       "  rendering on GitHub or <a href=\"https://nbviewer.jupyter.org/\">NBViewer</a>),\n",
       "  it may mean that your frontend doesn't currently support widgets.\n",
       "</p>\n"
      ],
      "text/plain": [
       "HBox(children=(IntProgress(value=0, max=325), HTML(value='')))"
      ]
     },
     "metadata": {},
     "output_type": "display_data"
    },
    {
     "name": "stdout",
     "output_type": "stream",
     "text": [
      "\n"
     ]
    }
   ],
   "source": [
    "# switch_spec_type to make all of the Spectrum objects of spec_type = 'N'\n",
    "\n",
    "for phot_specs_xe in tqdm(photspec_list):\n",
    "    for phot_specs in tqdm(phot_specs_xe):\n",
    "        for phot_spec in phot_specs:\n",
    "            phot_spec.rebin(photeng)\n",
    "#             phot_spec.switch_spec_type()\n",
    "            \n",
    "for lowengphot_specs_xe in tqdm(lowengphotspec_list):\n",
    "    for lowengphot_specs in tqdm(lowengphot_specs_xe):\n",
    "        for phot_spec in lowengphot_specs:\n",
    "            phot_spec.rebin(photeng)\n",
    "#             phot_spec.switch_spec_type()\n",
    "            \n",
    "for lowengelec_specs_xe in tqdm(lowengelecspec_list):\n",
    "    for lowengelec_specs in tqdm(lowengelec_specs_xe):\n",
    "        for elec_spec in lowengelec_specs:\n",
    "            elec_spec.rebin(eleceng)\n",
    "#             elec_spec.switch_spec_type()"
   ]
  },
  {
   "cell_type": "code",
   "execution_count": 19,
   "metadata": {},
   "outputs": [
    {
     "name": "stdout",
     "output_type": "stream",
     "text": [
      "131871.37302730372\n",
      "113225.05458209474\n"
     ]
    }
   ],
   "source": [
    "test = lowengphotspec_list[0][100][3]\n",
    "print(test.in_eng)\n",
    "print(test.eng[273])"
   ]
  },
  {
   "cell_type": "markdown",
   "metadata": {},
   "source": [
    "Finally, we can construct the `TransferFuncList` from this."
   ]
  },
  {
   "cell_type": "code",
   "execution_count": 20,
   "metadata": {},
   "outputs": [
    {
     "data": {
      "application/vnd.jupyter.widget-view+json": {
       "model_id": "c7d6455970fa45088460a10bb73256c7",
       "version_major": 2,
       "version_minor": 0
      },
      "text/html": [
       "<p>Failed to display Jupyter Widget of type <code>HBox</code>.</p>\n",
       "<p>\n",
       "  If you're reading this message in the Jupyter Notebook or JupyterLab Notebook, it may mean\n",
       "  that the widgets JavaScript is still loading. If this message persists, it\n",
       "  likely means that the widgets JavaScript library is either not installed or\n",
       "  not enabled. See the <a href=\"https://ipywidgets.readthedocs.io/en/stable/user_install.html\">Jupyter\n",
       "  Widgets Documentation</a> for setup instructions.\n",
       "</p>\n",
       "<p>\n",
       "  If you're reading this message in another frontend (for example, a static\n",
       "  rendering on GitHub or <a href=\"https://nbviewer.jupyter.org/\">NBViewer</a>),\n",
       "  it may mean that your frontend doesn't currently support widgets.\n",
       "</p>\n"
      ],
      "text/plain": [
       "HBox(children=(IntProgress(value=0, max=11), HTML(value='')))"
      ]
     },
     "metadata": {},
     "output_type": "display_data"
    },
    {
     "name": "stdout",
     "output_type": "stream",
     "text": [
      "\n"
     ]
    },
    {
     "data": {
      "application/vnd.jupyter.widget-view+json": {
       "model_id": "bead26a6ad274ee9a86abf0271352d3d",
       "version_major": 2,
       "version_minor": 0
      },
      "text/html": [
       "<p>Failed to display Jupyter Widget of type <code>HBox</code>.</p>\n",
       "<p>\n",
       "  If you're reading this message in the Jupyter Notebook or JupyterLab Notebook, it may mean\n",
       "  that the widgets JavaScript is still loading. If this message persists, it\n",
       "  likely means that the widgets JavaScript library is either not installed or\n",
       "  not enabled. See the <a href=\"https://ipywidgets.readthedocs.io/en/stable/user_install.html\">Jupyter\n",
       "  Widgets Documentation</a> for setup instructions.\n",
       "</p>\n",
       "<p>\n",
       "  If you're reading this message in another frontend (for example, a static\n",
       "  rendering on GitHub or <a href=\"https://nbviewer.jupyter.org/\">NBViewer</a>),\n",
       "  it may mean that your frontend doesn't currently support widgets.\n",
       "</p>\n"
      ],
      "text/plain": [
       "HBox(children=(IntProgress(value=0, max=11), HTML(value='')))"
      ]
     },
     "metadata": {},
     "output_type": "display_data"
    },
    {
     "name": "stdout",
     "output_type": "stream",
     "text": [
      "\n"
     ]
    },
    {
     "data": {
      "application/vnd.jupyter.widget-view+json": {
       "model_id": "250689df00584214a1319b17f60c4edf",
       "version_major": 2,
       "version_minor": 0
      },
      "text/html": [
       "<p>Failed to display Jupyter Widget of type <code>HBox</code>.</p>\n",
       "<p>\n",
       "  If you're reading this message in the Jupyter Notebook or JupyterLab Notebook, it may mean\n",
       "  that the widgets JavaScript is still loading. If this message persists, it\n",
       "  likely means that the widgets JavaScript library is either not installed or\n",
       "  not enabled. See the <a href=\"https://ipywidgets.readthedocs.io/en/stable/user_install.html\">Jupyter\n",
       "  Widgets Documentation</a> for setup instructions.\n",
       "</p>\n",
       "<p>\n",
       "  If you're reading this message in another frontend (for example, a static\n",
       "  rendering on GitHub or <a href=\"https://nbviewer.jupyter.org/\">NBViewer</a>),\n",
       "  it may mean that your frontend doesn't currently support widgets.\n",
       "</p>\n"
      ],
      "text/plain": [
       "HBox(children=(IntProgress(value=0, max=11), HTML(value='')))"
      ]
     },
     "metadata": {},
     "output_type": "display_data"
    },
    {
     "name": "stdout",
     "output_type": "stream",
     "text": [
      "\n"
     ]
    }
   ],
   "source": [
    "tfunclist_photspec_list = [\n",
    "    tflist.TransferFuncList(\n",
    "        [\n",
    "            tf.TransFuncAtEnergy(spec_arr, dlnz=0.002)\n",
    "            for spec_arr in photspec_xe\n",
    "        ]\n",
    "    ) for photspec_xe in tqdm(photspec_list)\n",
    "]\n",
    "\n",
    "tfunclist_lowengphotspec_list = [\n",
    "    tflist.TransferFuncList(\n",
    "        [\n",
    "            tf.TransFuncAtEnergy(spec_arr, dlnz=0.002)\n",
    "            for spec_arr in lowengphotspec_xe\n",
    "        ]\n",
    "    ) for lowengphotspec_xe in tqdm(lowengphotspec_list)\n",
    "]\n",
    "    \n",
    "\n",
    "tfunclist_lowengelecspec_list = [\n",
    "    tflist.TransferFuncList(\n",
    "        [\n",
    "            tf.TransFuncAtEnergy(spec_arr, dlnz=0.002)\n",
    "            for spec_arr in lowengelecspec_xe\n",
    "        ]\n",
    "    ) for lowengelecspec_xe in tqdm(lowengelecspec_list)\n",
    "]"
   ]
  },
  {
   "cell_type": "markdown",
   "metadata": {},
   "source": [
    "We will now transpose all of the `TransferFuncList` objects so that they are now all of type `'rs'`."
   ]
  },
  {
   "cell_type": "code",
   "execution_count": 21,
   "metadata": {},
   "outputs": [],
   "source": [
    "for tflist_hep, tflist_lep, tflist_lee in zip(\n",
    "    tfunclist_photspec_list, tfunclist_lowengphotspec_list, tfunclist_lowengelecspec_list):\n",
    "    tflist_hep.transpose()\n",
    "    tflist_lep.transpose()\n",
    "    tflist_lee.transpose()\n",
    "    for i, tf_hep, tf_lep, tf_lee in zip(np.arange(327), tflist_hep, tflist_lep, tflist_lee):\n",
    "        if np.any(np.isnan(tf_hep._grid_vals)):\n",
    "            print(np.where(np.isnan(tf_hep._grid_vals)),'here!')\n",
    "        if np.any(np.isnan(tf_lep._grid_vals)):\n",
    "            print(np.where(np.isnan(tf_lep._grid_vals)),'here1!')\n",
    "        if np.any(np.isnan(tf_lee._grid_vals)):\n",
    "            print(np.where(np.isnan(tf_lee._grid_vals)),'here2!')\n",
    "        \n",
    "        tf_hep._grid_vals[np.where(tf_hep.grid_vals < 0)] = 1e-100\n",
    "        tf_lep._grid_vals[np.where(tf_lep.grid_vals < 0)] = 1e-100\n",
    "        tf_lee._grid_vals[np.where(tf_lee.grid_vals < 0)] = 1e-100"
   ]
  },
  {
   "cell_type": "code",
   "execution_count": null,
   "metadata": {},
   "outputs": [],
   "source": []
  },
  {
   "cell_type": "code",
   "execution_count": 22,
   "metadata": {
    "scrolled": false
   },
   "outputs": [
    {
     "ename": "IndexError",
     "evalue": "index 326 is out of bounds for axis 0 with size 325",
     "output_type": "error",
     "traceback": [
      "\u001b[0;31m---------------------------------------------------------------------------\u001b[0m",
      "\u001b[0;31mIndexError\u001b[0m                                Traceback (most recent call last)",
      "\u001b[0;32m<ipython-input-22-7dd3592850f0>\u001b[0m in \u001b[0;36m<module>\u001b[0;34m()\u001b[0m\n\u001b[1;32m      5\u001b[0m \u001b[0max\u001b[0m \u001b[0;34m=\u001b[0m \u001b[0mplt\u001b[0m\u001b[0;34m.\u001b[0m\u001b[0mgca\u001b[0m\u001b[0;34m(\u001b[0m\u001b[0;34m)\u001b[0m\u001b[0;34m\u001b[0m\u001b[0m\n\u001b[1;32m      6\u001b[0m \u001b[0;34m\u001b[0m\u001b[0m\n\u001b[0;32m----> 7\u001b[0;31m \u001b[0mtest\u001b[0m\u001b[0;34m.\u001b[0m\u001b[0mplot\u001b[0m\u001b[0;34m(\u001b[0m\u001b[0max\u001b[0m\u001b[0;34m,\u001b[0m \u001b[0mind\u001b[0m\u001b[0;34m=\u001b[0m\u001b[0;34m(\u001b[0m\u001b[0;36m0\u001b[0m\u001b[0;34m,\u001b[0m\u001b[0;36m327\u001b[0m\u001b[0;34m)\u001b[0m\u001b[0;34m,\u001b[0m \u001b[0mstep\u001b[0m\u001b[0;34m=\u001b[0m\u001b[0;36m2\u001b[0m\u001b[0;34m)\u001b[0m\u001b[0;34m\u001b[0m\u001b[0m\n\u001b[0m\u001b[1;32m      8\u001b[0m \u001b[0;31m# test.plot(ax, ind=(48, 51), step=1)\u001b[0m\u001b[0;34m\u001b[0m\u001b[0;34m\u001b[0m\u001b[0m\n\u001b[1;32m      9\u001b[0m \u001b[0;34m\u001b[0m\u001b[0m\n",
      "\u001b[0;32m~/GitHub/DarkHistory/darkhistory/spec/transferfunction.py\u001b[0m in \u001b[0;36mplot\u001b[0;34m(self, ax, ind, step, indtype, fac, **kwargs)\u001b[0m\n\u001b[1;32m    621\u001b[0m                 spec_to_plot = np.stack(\n\u001b[1;32m    622\u001b[0m                     [self.grid_vals[i]*fac\n\u001b[0;32m--> 623\u001b[0;31m                         \u001b[0;32mfor\u001b[0m \u001b[0mi\u001b[0m \u001b[0;32min\u001b[0m \u001b[0mnp\u001b[0m\u001b[0;34m.\u001b[0m\u001b[0marange\u001b[0m\u001b[0;34m(\u001b[0m\u001b[0mind\u001b[0m\u001b[0;34m[\u001b[0m\u001b[0;36m0\u001b[0m\u001b[0;34m]\u001b[0m\u001b[0;34m,\u001b[0m \u001b[0mind\u001b[0m\u001b[0;34m[\u001b[0m\u001b[0;36m1\u001b[0m\u001b[0;34m]\u001b[0m\u001b[0;34m,\u001b[0m \u001b[0mstep\u001b[0m\u001b[0;34m)\u001b[0m\u001b[0;34m\u001b[0m\u001b[0m\n\u001b[0m\u001b[1;32m    624\u001b[0m                     ], axis = -1\n\u001b[1;32m    625\u001b[0m                 )\n",
      "\u001b[0;32m~/GitHub/DarkHistory/darkhistory/spec/transferfunction.py\u001b[0m in \u001b[0;36m<listcomp>\u001b[0;34m(.0)\u001b[0m\n\u001b[1;32m    621\u001b[0m                 spec_to_plot = np.stack(\n\u001b[1;32m    622\u001b[0m                     [self.grid_vals[i]*fac\n\u001b[0;32m--> 623\u001b[0;31m                         \u001b[0;32mfor\u001b[0m \u001b[0mi\u001b[0m \u001b[0;32min\u001b[0m \u001b[0mnp\u001b[0m\u001b[0;34m.\u001b[0m\u001b[0marange\u001b[0m\u001b[0;34m(\u001b[0m\u001b[0mind\u001b[0m\u001b[0;34m[\u001b[0m\u001b[0;36m0\u001b[0m\u001b[0;34m]\u001b[0m\u001b[0;34m,\u001b[0m \u001b[0mind\u001b[0m\u001b[0;34m[\u001b[0m\u001b[0;36m1\u001b[0m\u001b[0;34m]\u001b[0m\u001b[0;34m,\u001b[0m \u001b[0mstep\u001b[0m\u001b[0;34m)\u001b[0m\u001b[0;34m\u001b[0m\u001b[0m\n\u001b[0m\u001b[1;32m    624\u001b[0m                     ], axis = -1\n\u001b[1;32m    625\u001b[0m                 )\n",
      "\u001b[0;31mIndexError\u001b[0m: index 326 is out of bounds for axis 0 with size 325"
     ]
    },
    {
     "data": {
      "image/png": "[encoded data removed]",
      "text/plain": [
       "<Figure size 720x720 with 1 Axes>"
      ]
     },
     "metadata": {},
     "output_type": "display_data"
    }
   ],
   "source": [
    "test = tfunclist_photspec_list[-1][0]\n",
    "\n",
    "plt.figure()\n",
    "\n",
    "ax = plt.gca()\n",
    "\n",
    "test.plot(ax, ind=(0,327), step=2)\n",
    "# test.plot(ax, ind=(48, 51), step=1)\n",
    "\n",
    "ax.set_xscale('log')\n",
    "ax.set_yscale('log')\n",
    "plt.axis([1e-4, 7e12, 1e-42, 1e7])"
   ]
  },
  {
   "cell_type": "code",
   "execution_count": null,
   "metadata": {},
   "outputs": [],
   "source": [
    "test.in_eng[49]"
   ]
  },
  {
   "cell_type": "code",
   "execution_count": null,
   "metadata": {},
   "outputs": [],
   "source": [
    "test = tfunclist_lowengphotspec_list[-1][30]\n",
    "\n",
    "plt.figure()\n",
    "\n",
    "ax = plt.gca()\n",
    "\n",
    "test.plot(ax, ind=(0, 326), step=1)\n",
    "\n",
    "ax.set_xscale('log')\n",
    "ax.set_yscale('log')\n",
    "plt.axis([1e-4, 5e12, 1e-42, 3e2])"
   ]
  },
  {
   "cell_type": "code",
   "execution_count": null,
   "metadata": {},
   "outputs": [],
   "source": [
    "test = tfunclist_lowengelecspec_list[-1][0]\n",
    "\n",
    "plt.figure()\n",
    "\n",
    "ax = plt.gca()\n",
    "\n",
    "test.plot(ax, ind=(0, 326), step=1)\n",
    "# test.plot(ax, ind=np.array([50]))\n",
    "ax.set_xscale('log')\n",
    "ax.set_yscale('log')\n",
    "plt.axis([1e-1, 4e3, 1e-12, 1e2])"
   ]
  },
  {
   "cell_type": "code",
   "execution_count": null,
   "metadata": {},
   "outputs": [],
   "source": [
    "tfunclist_lowengelecspec_list[-1][0].in_eng[76]"
   ]
  },
  {
   "cell_type": "markdown",
   "metadata": {},
   "source": [
    "Save the transfer functions."
   ]
  },
  {
   "cell_type": "code",
   "execution_count": 23,
   "metadata": {},
   "outputs": [],
   "source": [
    "pickle.dump(tfunclist_photspec_list, \n",
    "           open(\"/Users/hongwan/Dropbox (MIT)/Photon Deposition/tfunclist_photspec_60eV_complete_coarse.raw\", \"wb\")\n",
    "           )\n",
    "\n",
    "pickle.dump(tfunclist_lowengphotspec_list, \n",
    "           open(\"/Users/hongwan/Dropbox (MIT)/Photon Deposition/tfunclist_lowengphotspec_60eV_complete_coarse.raw\", \"wb\")\n",
    "           )\n",
    "\n",
    "pickle.dump(tfunclist_lowengelecspec_list, \n",
    "           open(\"/Users/hongwan/Dropbox (MIT)/Photon Deposition/tfunclist_lowengelecspec_60eV_complete_coarse.raw\", \"wb\")\n",
    "           )\n",
    "\n",
    "pickle.dump(\n",
    "    new_cmbloss_raw, \n",
    "    open(\"/Users/hongwan/Dropbox (MIT)/Photon Deposition/CMB_engloss_60eV_complete_coarse.raw\", \"wb\")       \n",
    "           )"
   ]
  },
  {
   "cell_type": "code",
   "execution_count": null,
   "metadata": {},
   "outputs": [],
   "source": []
  }
 ],
 "metadata": {
  "kernelspec": {
   "display_name": "Python 3",
   "language": "python",
   "name": "python3"
  },
  "language_info": {
   "codemirror_mode": {
    "name": "ipython",
    "version": 3
   },
   "file_extension": ".py",
   "mimetype": "text/x-python",
   "name": "python",
   "nbconvert_exporter": "python",
   "pygments_lexer": "ipython3",
   "version": "3.6.5"
  }
 },
 "nbformat": 4,
 "nbformat_minor": 2
}
