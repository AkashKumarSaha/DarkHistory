{
 "cells": [
  {
   "cell_type": "markdown",
   "metadata": {},
   "source": [
    "# Full Transfer Functions"
   ]
  },
  {
   "cell_type": "code",
   "execution_count": 2,
   "metadata": {
    "collapsed": true
   },
   "outputs": [],
   "source": [
    "%load_ext autoreload\n",
    "import sys\n",
    "sys.path.append(\"..\")"
   ]
  },
  {
   "cell_type": "code",
   "execution_count": 3,
   "metadata": {
    "collapsed": true
   },
   "outputs": [],
   "source": [
    "%autoreload\n",
    "\n",
    "import matplotlib\n",
    "matplotlib.rc_file('matplotlibrc')\n",
    "import matplotlib.pyplot as plt\n",
    "\n",
    "%matplotlib inline\n",
    "\n",
    "matplotlib.rcParams['figure.figsize'] = [10,10]\n",
    "\n",
    "\n",
    "from astropy.io import fits\n",
    "\n",
    "import numpy as np\n",
    "import copy\n",
    "import pickle\n",
    "\n",
    "import darkhistory.physics as phys\n",
    "import darkhistory.utilities as utils\n",
    "import darkhistory.spec.spectools as spectools\n",
    "import darkhistory.spec.transferfunction as tf\n",
    "import darkhistory.spec.transferfunclist as tflist\n",
    "from darkhistory.spec.spectrum import Spectrum\n",
    "from darkhistory.spec.spectra import Spectra\n",
    "import darkhistory.history.tla as tla\n",
    "\n",
    "from scipy.interpolate import interp1d\n",
    "from scipy.interpolate import interp2d\n",
    "\n",
    "from tqdm import tqdm_notebook as tqdm\n",
    "\n",
    "from darkhistory.electrons.ics.ics_spectrum import ics_spec\n",
    "from darkhistory.electrons.ics.ics_engloss_spectrum import engloss_spec\n",
    "from darkhistory.electrons.ics.ics_cooling import get_ics_cooling_tf\n",
    "\n",
    "from darkhistory.low_energy.lowE_deposition import compute_fs\n",
    "import main\n",
    "\n",
    "from tqdm import tqdm_notebook as tqdm\n",
    "\n",
    "# np.set_printoptions(threshold=np.nan)"
   ]
  },
  {
   "cell_type": "markdown",
   "metadata": {
    "collapsed": true
   },
   "source": [
    "Load standard solution"
   ]
  },
  {
   "cell_type": "code",
   "execution_count": 4,
   "metadata": {
    "collapsed": true
   },
   "outputs": [],
   "source": [
    "soln = pickle.load(open(\"../darkhistory/history/std_soln.p\", \"rb\"))\n",
    "xe_std  = interp1d(soln[0,:], soln[2,:])\n",
    "T_m_std = interp1d(soln[0,:], soln[1,:])"
   ]
  },
  {
   "cell_type": "markdown",
   "metadata": {},
   "source": [
    "Load transfer functions for photons"
   ]
  },
  {
   "cell_type": "code",
   "execution_count": 3,
   "metadata": {},
   "outputs": [
    {
     "name": "stdout",
     "output_type": "stream",
     "text": [
      "Loading transfer functions...\n",
      "Loaded high energy photons...\n",
      "Low energy photons...\n",
      "Low energy electrons...\n",
      "CMB losses.\n",
      "\n",
      "Padding tflists with zeros...\n",
      "high energy photons...\n",
      "low energy photons...\n",
      "low energy electrons.\n",
      "\n",
      "Generating TransferFuncInterp objects for each tflist...\n",
      "Done.\n",
      "\n"
     ]
    }
   ],
   "source": [
    "%autoreload\n",
    "highengphot_tf_interp, lowengphot_tf_interp, lowengelec_tf_interp = main.load_trans_funcs(\n",
    "    \"/Users/GregoryRidgway/Downloads/\"\n",
    ")"
   ]
  },
  {
   "cell_type": "markdown",
   "metadata": {},
   "source": [
    "Comb through ($\\tau$, $m_{DM}$) space"
   ]
  },
  {
   "cell_type": "code",
   "execution_count": 45,
   "metadata": {
    "scrolled": true
   },
   "outputs": [
    {
     "name": "stderr",
     "output_type": "stream",
     "text": [
      "../darkhistory/spec/spectrum.py:758: RuntimeWarning: The new abscissa lies below the old one: only bins that lie within the new abscissa will be rebinned, bins above the abscissa will be discarded.\n",
      "  warnings.warn(\"The new abscissa lies below the old one: only bins that lie within the new abscissa will be rebinned, bins above the abscissa will be discarded.\", RuntimeWarning)\n",
      "../darkhistory/spec/spectrum.py:663: RuntimeWarning: divide by zero encountered in log\n",
      "  np.log(bound_arr),\n",
      "/Users/GregoryRidgway/anaconda3/lib/python3.6/site-packages/scipy/integrate/odepack.py:218: ODEintWarning: Excess work done on this call (perhaps wrong Dfun type). Run with full_output = 1 to get quantitative information.\n",
      "  warnings.warn(warning_msg, ODEintWarning)\n"
     ]
    },
    {
     "name": "stdout",
     "output_type": "stream",
     "text": [
      "0.00188641095602\n"
     ]
    }
   ],
   "source": [
    "end_rs = 1000\n",
    "\n",
    "#inputs for the tau, mDM sweep\n",
    "mDM = 1e4\n",
    "\n",
    "tau = 1e21\n",
    "\n",
    "phot_spec_init = spectools.rebin_N_arr(np.array([2]), \n",
    "                                np.array([mDM/2]), \n",
    "                                highengphot_tf_interp.eng)\n",
    "phot_spec_init.rs = 3000\n",
    "phot_spec_init.switch_spec_type()\n",
    "        \n",
    "def rate_func_decay_N(rs):\n",
    "    # This is dN/dV dt\n",
    "    return phys.inj_rate('decay', rs, tau=tau)/mDM\n",
    "\n",
    "def rate_func_decay_eng(rs):\n",
    "    # This is dN/dV dt\n",
    "    return phys.inj_rate('decay', rs, tau=tau)\n",
    "        \n",
    "a = main.evolve(\n",
    "    phot_spec_init*0, phot_spec_init,\n",
    "    rate_func_decay_N, rate_func_decay_eng, end_rs,\n",
    "    highengphot_tf_interp, lowengphot_tf_interp, lowengelec_tf_interp,\n",
    "    xe_init=xe_std(phot_spec_init.rs), Tm_init=phys.TCMB(phot_spec_init.rs), \n",
    "    coarsen_factor=1, std_soln=True\n",
    ")\n",
    "\n",
    "print((a[1][-1]-phys.TCMB(end_rs))/phys.TCMB(end_rs))"
   ]
  },
  {
   "cell_type": "code",
   "execution_count": 49,
   "metadata": {
    "scrolled": true
   },
   "outputs": [
    {
     "name": "stdout",
     "output_type": "stream",
     "text": [
      "Starting Loop\n"
     ]
    },
    {
     "data": {
      "application/vnd.jupyter.widget-view+json": {
       "model_id": "0def50839e344d70a7780d649ee455b2",
       "version_major": 2,
       "version_minor": 0
      },
      "text/plain": [
       "A Jupyter Widget"
      ]
     },
     "metadata": {},
     "output_type": "display_data"
    },
    {
     "data": {
      "application/vnd.jupyter.widget-view+json": {
       "model_id": "c49cc1073d624787bfe2b69bcb25a91e",
       "version_major": 2,
       "version_minor": 0
      },
      "text/plain": [
       "A Jupyter Widget"
      ]
     },
     "metadata": {},
     "output_type": "display_data"
    },
    {
     "name": "stderr",
     "output_type": "stream",
     "text": [
      "../darkhistory/spec/spectrum.py:758: RuntimeWarning: The new abscissa lies below the old one: only bins that lie within the new abscissa will be rebinned, bins above the abscissa will be discarded.\n",
      "  warnings.warn(\"The new abscissa lies below the old one: only bins that lie within the new abscissa will be rebinned, bins above the abscissa will be discarded.\", RuntimeWarning)\n",
      "../darkhistory/spec/spectrum.py:663: RuntimeWarning: divide by zero encountered in log\n",
      "  np.log(bound_arr),\n",
      "/Users/GregoryRidgway/anaconda3/lib/python3.6/site-packages/scipy/integrate/odepack.py:218: ODEintWarning: Excess work done on this call (perhaps wrong Dfun type). Run with full_output = 1 to get quantitative information.\n",
      "  warnings.warn(warning_msg, ODEintWarning)\n"
     ]
    },
    {
     "name": "stdout",
     "output_type": "stream",
     "text": [
      "\n"
     ]
    }
   ],
   "source": [
    "%autoreload\n",
    "\n",
    "end_rs = 18.2\n",
    "\n",
    "#inputs for the tau, mDM sweep\n",
    "mbnds = [4,4.5]\n",
    "log10mDM_arr = np.arange(mbnds[0], mbnds[1], 0.5)\n",
    "\n",
    "taubnds = [21,21.5]\n",
    "log10_tau_decay = np.arange(taubnds[0], taubnds[1], 0.5)\n",
    "\n",
    "T_IGM_17_phot_decay_backReact = np.zeros((log10mDM_arr.size, log10_tau_decay.size))\n",
    "\n",
    "print(\"Starting Loop\")\n",
    "#Calculating T_IGM(z=17.2) for a grid of (tau,mDM) points.\n",
    "for i, log10mDM in enumerate(tqdm(log10mDM_arr)):\n",
    "    for j, log10_tau in enumerate(tqdm(log10_tau_decay)):\n",
    "        phot_spec_init = spectools.rebin_N_arr(np.array([2]), \n",
    "                                      np.array([10**log10mDM/2]), \n",
    "                                      highengphot_tf_interp.eng)\n",
    "        phot_spec_init.rs = 3000\n",
    "        phot_spec_init.switch_spec_type()\n",
    "        \n",
    "        def rate_func_decay_N(rs):\n",
    "            # This is dN/dV dt\n",
    "            return phys.inj_rate('decay', rs, tau=10**log10_tau)/10**log10mDM\n",
    "\n",
    "        def rate_func_decay_eng(rs):\n",
    "            # This is dN/dV dt\n",
    "            return phys.inj_rate('decay', rs, tau=10**log10_tau)\n",
    "        \n",
    "        a = main.evolve(\n",
    "            phot_spec_init*0, phot_spec_init,\n",
    "            rate_func_decay_N, rate_func_decay_eng, end_rs,\n",
    "            highengphot_tf_interp, lowengphot_tf_interp, lowengelec_tf_interp,\n",
    "            xe_init=xe_std(phot_spec_init.rs), Tm_init=phys.TCMB(phot_spec_init.rs), \n",
    "            coarsen_factor=1, std_soln=True\n",
    "        )\n",
    "            \n",
    "        b = main.evolve(\n",
    "            phot_spec_init*0, phot_spec_init,\n",
    "            rate_func_decay_N, rate_func_decay_eng, end_rs,\n",
    "            highengphot_tf_interp, lowengphot_tf_interp, lowengelec_tf_interp,\n",
    "            xe_init=xe_std(phot_spec_init.rs), Tm_init=phys.TCMB(phot_spec_init.rs), \n",
    "            coarsen_factor=1, std_soln=False\n",
    "        )\n",
    "\n",
    "        T_IGM_17_phot_decay_backReact[i,j] = b[1][-1]/phys.kB\n",
    "        \n",
    "# pickle.dump(\n",
    "#     T_IGM_17_phot_decay_backReact, \n",
    "#     open('/Users/GregoryRidgway/Downloads/21cm_pwave/TLA_code/data/T_IGM_17_phot_decay_backReact_NFW_no_subs_source.dat','wb')\n",
    "# )\n",
    "\n",
    "rs_vec = b[3].rs"
   ]
  },
  {
   "cell_type": "code",
   "execution_count": 50,
   "metadata": {},
   "outputs": [
    {
     "name": "stdout",
     "output_type": "stream",
     "text": [
      "DarkHistory Backreaction:  128622.736236\n",
      "DarkHistory no Backreaction:  5633.18316181\n",
      "Old results old 21cm notebook, Additional Sources.ipynb:  241682.368757\n"
     ]
    }
   ],
   "source": [
    "print(\"DarkHistory Backreaction: \", T_IGM_17_phot_decay_backReact[0,0])\n",
    "print(\"DarkHistory no Backreaction: \", a[1][-1]/phys.kB)\n",
    "T_IGM_17_phot_decay_std = pickle.load(open('/Users/GregoryRidgway/Downloads/21cm_pwave/TLA_code/data/T_IGM_17_phot_decay_source.dat','rb'))\n",
    "print(\"Old results old 21cm notebook, Additional Sources.ipynb: \", T_IGM_17_phot_decay_std[0,0])"
   ]
  },
  {
   "cell_type": "code",
   "execution_count": 128,
   "metadata": {
    "collapsed": true
   },
   "outputs": [
    {
     "name": "stdout",
     "output_type": "stream",
     "text": [
      "start to evolve\n",
      "rs, fs:  2994.005996001995   [5.010253871064946e-06, 3.139708532323484e-05, 0.0002113287238244386, 2.6324947675953802e-18, 0.002632474604939014]\n",
      "rs, fs:  2988.023968031968   [2.0911031212181267e-05, 0.00011400683398819265, 0.0006591080663632204, 8.31465202515223e-18, 0.008314585865768418]\n",
      "rs, fs:  2982.053892161797   [4.3113566113991716e-05, 0.00021772541128304762, 0.0011326374444918987, 1.4426114020448714e-17, 0.014425994774152791]\n"
     ]
    },
    {
     "name": "stderr",
     "output_type": "stream",
     "text": [
      "../darkhistory/spec/spectrum.py:748: RuntimeWarning: The new abscissa lies below the old one: only bins that lie within the new abscissa will be rebinned, bins above the abscissa will be discarded.\n",
      "  warnings.warn(\"The new abscissa lies below the old one: only bins that lie within the new abscissa will be rebinned, bins above the abscissa will be discarded.\", RuntimeWarning)\n",
      "../darkhistory/spec/spectrum.py:662: RuntimeWarning: divide by zero encountered in log\n",
      "  np.log(bound_arr),\n"
     ]
    },
    {
     "name": "stdout",
     "output_type": "stream",
     "text": [
      "rs, fs:  2976.095744511174   [6.995630529748119e-05, 0.00033668626888452456, 0.0016229273624116104, 2.0844959714827655e-17, 0.02084478078346178]\n",
      "rs, fs:  2970.149501247497   [0.00010017927491325333, 0.0004664165507982195, 0.002123144617948969, 2.7496366674205697e-17, 0.027496121629245987]\n",
      "rs, fs:  2964.215138585785   [0.0001328065141706632, 0.0006034624394151668, 0.002628045542201953, 3.4330210546906635e-17, 0.03432989295674459]\n",
      "rs, fs:  2958.29263278858   [0.00016707148202139377, 0.0007451358774270877, 0.0031335852289433603, 4.130976494437962e-17, 0.041309368279188616]\n",
      "rs, fs:  2952.38196016585   [0.00020236693922506726, 0.0008893355428200465, 0.003636637536537389, 4.8405958937941095e-17, 0.04840547651436769]\n",
      "start to evolve\n",
      "rs, fs:  2994.005996001995   [5.010253871064946e-06, 3.139708532323484e-05, 0.0002113287238244386, 2.6324746119861177e-18, 0.002632474604939014]\n",
      "rs, fs:  2988.023968031968   [2.0911031212181267e-05, 0.00011400683398819265, 0.0006591080663632204, 8.314649672411521e-18, 0.008314585865768418]\n",
      "rs, fs:  2982.053892161797   [4.3113566113991716e-05, 0.00021772541128304762, 0.0011326374444918987, 1.4426109652273865e-17, 0.014425994774152791]\n",
      "rs, fs:  2976.095744511174   [6.995630529748119e-05, 0.00033668626888452456, 0.0016229273624116104, 2.0844952955053975e-17, 0.02084478078346178]\n",
      "rs, fs:  2970.149501247497   [0.00010017927491325333, 0.0004664165507982195, 0.002123144617948969, 2.7496357124591713e-17, 0.027496121629245987]\n",
      "rs, fs:  2964.215138585785   [0.0001328065141706632, 0.0006034624394151668, 0.002628045542201953, 3.433019778464913e-17, 0.03432989295674459]\n",
      "rs, fs:  2958.29263278858   [0.00016707148202139377, 0.0007451358774270877, 0.0031335852289433603, 4.1309748521815594e-17, 0.041309368279188616]\n",
      "rs, fs:  2952.38196016585   [0.00020236693922506726, 0.0008893355428200465, 0.003636637536537389, 4.840593838274918e-17, 0.04840547651436769]\n"
     ]
    }
   ],
   "source": [
    "%autoreload\n",
    "\n",
    "end_rs = 18.2\n",
    "\n",
    "mbnds = [4,11.5]\n",
    "log10mDM_arr = np.arange(mbnds[0], mbnds[1], 0.5)\n",
    "\n",
    "taubnds = [21,30]\n",
    "log10_tau_decay = np.arange(taubnds[0], taubnds[1], 0.5)\n",
    "\n",
    "T_IGM_17_phot_decay_backReact = np.zeros((log10mDM_arr.size, log10_tau_decay.size))\n",
    "\n",
    "\n",
    "#Calculating T_IGM(z=17.2) for a grid of (tau,mDM) points.\n",
    "for i, log10mDM in enumerate(tqdm(log10mDM_arr)):\n",
    "    for j, log10_tau in enumerate(tqdm(log10_tau_decay)):\n",
    "        mDM = 10**log10mDM\n",
    "        Einj = mDM/2\n",
    "        Ecom=mDM\n",
    "        \n",
    "        phot_spec_init.rs = 3000\n",
    "        \n",
    "        Etmp = photeng[photeng < Einj][-1]\n",
    "        phot_spec_init = spectools.rebin_N_arr(\n",
    "            np.array([2*Einj/Etmp]),\n",
    "            np.array([Etmp]),\n",
    "            photeng\n",
    "        )\n",
    "        phot_spec_init.rs = 3000\n",
    "        phot_spec_init.switch_spec_type()\n",
    "        \n",
    "        elec_spec_init = Spectrum(eleceng,\n",
    "                                 np.zeros_like(eleceng),\n",
    "                                 spec_type='N',\n",
    "                                 rs=3000)\n",
    "        \n",
    "        def rate_func_N(rs):\n",
    "            return phys.inj_rate(inj_type, rs, mDM=mDM, sigmav=sigmav, tau=tau)*struct_boost(rs)/Ecom\n",
    "        def rate_func_eng(rs):\n",
    "            return phys.inj_rate(inj_type, rs, mDM=mDM, sigmav=sigmav, tau=tau)*struct_boost(rs)\n",
    "        \n",
    "        a = main.evolve(\n",
    "        elec_spec_init, phot_spec_init,\n",
    "        rate_func_N, rate_func_eng, end_rs,\n",
    "        highengphot_tf_interp, lowengphot_tf_interp, lowengelec_tf_interp,\n",
    "        highengdep_interp, CMB_engloss_interp,\n",
    "        ics_thomson_ref_tf, ics_rel_ref_tf, engloss_ref_tf,\n",
    "        coarsen_factor=1, std_soln=True,\n",
    "        reion_switch=False,\n",
    "        struct_boost=None,\n",
    "        ics_only=False, separate_higheng=True, CMB_subtracted=CMB_subtracted,\n",
    "        xH_func=xe_idl_func, xHe_func=xHe_idl_func, user=None, verbose=False, \n",
    "        use_tqdm=True\n",
    "        )\n",
    "\n",
    "        b = main.evolve(\n",
    "            elec_spec_init, phot_spec_init,\n",
    "            rate_func_N, rate_func_eng, end_rs,\n",
    "            highengphot_tf_interp, lowengphot_tf_interp, lowengelec_tf_interp,\n",
    "            highengdep_interp, CMB_engloss_interp,\n",
    "            ics_thomson_ref_tf, ics_rel_ref_tf, engloss_ref_tf,\n",
    "            coarsen_factor=1, std_soln=False,\n",
    "            reion_switch=False,\n",
    "            struct_boost=None,\n",
    "            ics_only=False, separate_higheng=True, CMB_subtracted=CMB_subtracted,\n",
    "            xH_func=xe_idl_func, xHe_func=xHe_idl_func, user=None, verbose=False, \n",
    "            use_tqdm=True\n",
    "        )\n",
    "\n",
    "        T_IGM_17_phot_decay_std[i,j] = a[1][-1]/phys.kB\n",
    "        T_IGM_17_phot_decay_backReact[i,j] = b[1][-1]/phys.kB\n",
    "        \n",
    "pickle.dump(\n",
    "    T_IGM_17_phot_decay_std, \n",
    "#     open('/Users/GregoryRidgway/Downloads/21cm_pwave/TLA_code/data/T_IGM_17_phot_decay_std_NFW_no_subs_source.dat','wb')\n",
    "    open('/Users/GregoryRidgway/Desktop/T_IGM_17_phot_decay_std_NFW_no_subs_source.dat','wb')\n",
    ")\n",
    "        \n",
    "pickle.dump(\n",
    "    T_IGM_17_phot_decay_backReact, \n",
    "#     open('/Users/GregoryRidgway/Downloads/21cm_pwave/TLA_code/data/T_IGM_17_phot_decay_backReact_NFW_no_subs_source.dat','wb')\n",
    "    open('/Users/GregoryRidgway/Desktop/T_IGM_17_phot_decay_backReact_NFW_no_subs_source.dat','wb')\n",
    ")\n",
    "\n",
    "rs_vec = b[3].rs\n"
   ]
  },
  {
   "cell_type": "code",
   "execution_count": null,
   "metadata": {},
   "outputs": [],
   "source": [
    "#injection energy, DM mass, center-of-mass energy\n",
    "    \n",
    "        \n",
    "        \n",
    "    \n",
    "    \n",
    "    data[i] = (a,b)\n",
    "\n",
    "    diff_list[i] = (1-b[1]/a[1]) * 100"
   ]
  },
  {
   "cell_type": "markdown",
   "metadata": {},
   "source": [
    "What was computed before using `21cm_pwave/TLA_code/examples/old_notebooks/Additional_Sources.ipynb`"
   ]
  },
  {
   "cell_type": "code",
   "execution_count": 18,
   "metadata": {},
   "outputs": [],
   "source": [
    "log10mDM_arr = np.arange(4, 12.5, 0.5)\n",
    "log10_tau_decay = np.arange(21, 30, 0.25)\n",
    "T_IGM_17_phot_decay = pickle.load(open('/Users/GregoryRidgway/Downloads/21cm_pwave/TLA_code/data/T_IGM_17_phot_decay_source.dat','rb'))\n",
    "\n",
    "T_IGM_arr = np.arange(7.1, 50.+0.1, 0.1)\n",
    "log10tau_phot_decay_arr = np.zeros((log10mDM_arr.size, T_IGM_arr.size))\n",
    "\n",
    "for i,log10mDM in enumerate(log10mDM_arr):\n",
    "    tau_interp = interp1d(\n",
    "        T_IGM_17_phot_decay[i,:], log10_tau_decay, \n",
    "        bounds_error = False,\n",
    "        fill_value = (100, 0)\n",
    "                         )\n",
    "    log10tau_phot_decay_arr[i,:] = tau_interp(T_IGM_arr)\n",
    "\n",
    "log10tau_phot_decay_old = interp2d(log10mDM_arr, T_IGM_arr, np.transpose(log10tau_phot_decay_arr), kind='cubic')"
   ]
  },
  {
   "cell_type": "markdown",
   "metadata": {},
   "source": [
    "DarkHistory (with Backreaction)"
   ]
  },
  {
   "cell_type": "code",
   "execution_count": 67,
   "metadata": {},
   "outputs": [
    {
     "data": {
      "image/png": "[encoded data removed]",
      "text/plain": [
       "<matplotlib.figure.Figure at 0x118fb7e10>"
      ]
     },
     "metadata": {},
     "output_type": "display_data"
    }
   ],
   "source": [
    "T_21 = -.1\n",
    "\n",
    "#Specify grid of mDM and tau\n",
    "mbnds = [4,11.5]\n",
    "log10mDM_arr = np.arange(mbnds[0], mbnds[1], 0.5)\n",
    "taubnds = [23,28]\n",
    "log10_tau_decay = np.arange(taubnds[0], taubnds[1], 0.5)\n",
    "\n",
    "## Load T(z=17.2) data, with and without backreaction\n",
    "# T_IGM_17_phot_decay_std = pickle.load(\n",
    "#     open('/Users/GregoryRidgway/Downloads/21cm_pwave/TLA_code/data/'+\n",
    "#          'T_IGM_17_phot_decay_std_NFW_no_subs_source.dat','rb')\n",
    "# )\n",
    "\n",
    "T_IGM_17_phot_decay_backReact = pickle.load(\n",
    "    open('/Users/GregoryRidgway/Downloads/T_IGM_17_phot_decay_backReact.dat','rb')\n",
    ")\n",
    "\n",
    "T_IGM_arr = np.arange(7.1, 50.+0.1, 0.1)\n",
    "log10tau_phot_decay_arr_backReact = np.zeros((log10mDM_arr.size, T_IGM_arr.size))\n",
    "# log10tau_phot_decay_arr_std = np.zeros((log10mDM_arr.size, T_IGM_arr.size))\n",
    "\n",
    "for i,log10mDM in enumerate(log10mDM_arr):\n",
    "    tau_interp_backReact = interp1d(\n",
    "        T_IGM_17_phot_decay_backReact[i,:], log10_tau_decay, \n",
    "        bounds_error = False,\n",
    "        fill_value = (-50, 100)\n",
    "    )\n",
    "    log10tau_phot_decay_arr_backReact[i,:] = tau_interp_backReact(T_IGM_arr)\n",
    "    \n",
    "#     tau_interp_std = interp1d(\n",
    "#         T_IGM_17_phot_decay_std[i,:], log10_tau_decay, \n",
    "#         bounds_error = False,\n",
    "#         fill_value = (-50, 100)\n",
    "#     )\n",
    "#     log10tau_phot_decay_arr_std[i,:] = tau_interp_std(T_IGM_arr)\n",
    "    \n",
    "log10tau_phot_decay_backReact = interp2d(log10mDM_arr, T_IGM_arr, \n",
    "                                  np.transpose(log10tau_phot_decay_arr_backReact), kind='cubic')\n",
    "# log10tau_phot_decay_std = interp2d(log10mDM_arr, T_IGM_arr, \n",
    "#                                   np.transpose(log10tau_phot_decay_arr_std), kind='cubic')\n",
    "\n",
    "\n",
    "log10mDM_arr_fine = np.log10(10**np.arange(mbnds[0], mbnds[1], 0.05))\n",
    "\n",
    "plt.figure()\n",
    "\n",
    "ax = plt.gca()\n",
    "ax.set_xscale('log')\n",
    "ax.set_yscale('log')\n",
    "\n",
    "tmp_xe=0\n",
    "num = np.sqrt(.15/10/phys.omega_m)*(phys.omega_baryon*phys.h/.02)*23*.001\n",
    "one_minus_ratio = T_21 / num / (1-tmp_xe) / np.sqrt(1+17.2)\n",
    "temp_dat = 1-one_minus_ratio\n",
    "T_m = phys.TCMB(17.2)/temp_dat/phys.kB\n",
    "# T_m = 10.5\n",
    "\n",
    "plt_old, = plt.plot(10**log10mDM_arr_fine, \n",
    "                  (10**log10tau_phot_decay_old(log10mDM_arr_fine,T_m))\n",
    "                  , linewidth=2, label='no back-reaction', color='C1')\n",
    "# plt.text()\n",
    "\n",
    "ax.fill_between(\n",
    "    10**log10mDM_arr_fine, \n",
    "    1e23, \n",
    "    (10**log10tau_phot_decay_old(log10mDM_arr_fine,T_m)), \n",
    "    interpolate=True, \n",
    "    color='C1',\n",
    "    alpha=.05\n",
    ")\n",
    "\n",
    "\n",
    "\n",
    "# plt_std, = plt.plot(10**log10mDM_arr_fine, \n",
    "#                   (10**log10tau_phot_decay_std(log10mDM_arr_fine,T_m))\n",
    "#                   , linewidth=2, label='No Backreaction')\n",
    "\n",
    "plt_backReact, = plt.plot(10**log10mDM_arr_fine, \n",
    "                  (10**log10tau_phot_decay_backReact(log10mDM_arr_fine,T_m))\n",
    "                  , linewidth=4, label='with back-reaction', color='C3')\n",
    "\n",
    "\n",
    "\n",
    "# plt_D, = plt.plot(ms_D, sigs_D, 'k', linewidth=2, label='Diamanti et. al., 1308.2578')\n",
    "\n",
    "leg = plt.legend(handles=[plt_old, plt_backReact],\n",
    "                 fontsize=20,\n",
    "          title='$T_{21} = -100$mK')\n",
    "plt.setp(leg.get_title(), fontsize=28)\n",
    "\n",
    "\n",
    "ymin = 1e24\n",
    "ymax = 2e27\n",
    "\n",
    "xmin = 1e4\n",
    "xmax = 1e11\n",
    "\n",
    "plt.title(r'\\bf{21-cm Sensitivity,} $\\chi \\to \\gamma \\gamma$')\n",
    "plt.xlabel(r'Dark Matter Mass $m_\\chi$ [eV]')\n",
    "plt.ylabel(r'Minimum Lifetime $\\tau [\\mathrm{ s}]$')\n",
    "# plt.axis([xmin, xmax, ymin, ymax])\n",
    "plt.axis([xmin, xmax, ymin, ymax])\n",
    "\n",
    "plt.savefig('/Users/GregoryRidgway/Desktop/DarkHistory_21cm_Sensitivity_Decay.pdf')"
   ]
  },
  {
   "cell_type": "code",
   "execution_count": null,
   "metadata": {
    "collapsed": true
   },
   "outputs": [],
   "source": []
  }
 ],
 "metadata": {
  "kernelspec": {
   "display_name": "Python 3",
   "language": "python",
   "name": "python3"
  },
  "language_info": {
   "codemirror_mode": {
    "name": "ipython",
    "version": 3
   },
   "file_extension": ".py",
   "mimetype": "text/x-python",
   "name": "python",
   "nbconvert_exporter": "python",
   "pygments_lexer": "ipython3",
   "version": "3.6.5"
  }
 },
 "nbformat": 4,
 "nbformat_minor": 2
}
