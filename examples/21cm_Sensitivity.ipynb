{
 "cells": [
  {
   "cell_type": "markdown",
   "metadata": {},
   "source": [
    "# 21cm Sensitivity Plots"
   ]
  },
  {
   "cell_type": "markdown",
   "metadata": {},
   "source": [
    "## Load"
   ]
  },
  {
   "cell_type": "code",
   "execution_count": 255,
   "metadata": {},
   "outputs": [
    {
     "name": "stdout",
     "output_type": "stream",
     "text": [
      "The autoreload extension is already loaded. To reload it, use:\n",
      "  %reload_ext autoreload\n"
     ]
    }
   ],
   "source": [
    "%load_ext autoreload\n",
    "import sys\n",
    "sys.path.append(\"..\")\n",
    "\n",
    "#Current Working Directory\n",
    "import os\n",
    "cwd = os.getcwd()\n",
    "\n",
    "from pathlib import Path"
   ]
  },
  {
   "cell_type": "code",
   "execution_count": 256,
   "metadata": {},
   "outputs": [],
   "source": [
    "%autoreload\n",
    "\n",
    "import matplotlib\n",
    "matplotlib.rc_file('matplotlibrc')\n",
    "import matplotlib.pyplot as plt\n",
    "\n",
    "%matplotlib inline\n",
    "\n",
    "matplotlib.rcParams['figure.figsize'] = [10,10]\n",
    "\n",
    "\n",
    "from astropy.io import fits\n",
    "\n",
    "import numpy as np\n",
    "import copy\n",
    "import pickle\n",
    "\n",
    "import darkhistory.physics as phys\n",
    "import darkhistory.utilities as utils\n",
    "import darkhistory.spec.spectools as spectools\n",
    "import darkhistory.spec.transferfunction as tf\n",
    "import darkhistory.spec.transferfunclist as tflist\n",
    "from darkhistory.spec.spectrum import Spectrum\n",
    "from darkhistory.spec.spectra import Spectra\n",
    "import darkhistory.history.tla as tla\n",
    "\n",
    "from scipy.interpolate import interp1d\n",
    "from scipy.interpolate import interp2d\n",
    "\n",
    "from tqdm import tqdm_notebook as tqdm\n",
    "\n",
    "from darkhistory.electrons.ics.ics_spectrum import ics_spec\n",
    "from darkhistory.electrons.ics.ics_engloss_spectrum import engloss_spec\n",
    "from darkhistory.electrons.ics.ics_cooling import get_ics_cooling_tf\n",
    "\n",
    "from darkhistory.low_energy.lowE_deposition import compute_fs\n",
    "import main\n",
    "\n",
    "from tqdm import tqdm_notebook as tqdm\n",
    "\n",
    "# np.set_printoptions(threshold=np.nan)"
   ]
  },
  {
   "cell_type": "markdown",
   "metadata": {
    "collapsed": true
   },
   "source": [
    "Load standard solution"
   ]
  },
  {
   "cell_type": "code",
   "execution_count": 257,
   "metadata": {},
   "outputs": [],
   "source": [
    "soln = pickle.load(open(\"../darkhistory/history/std_soln.p\", \"rb\"))\n",
    "xe_std  = interp1d(soln[0,:], soln[2,:])\n",
    "T_m_std = interp1d(soln[0,:], soln[1,:])"
   ]
  },
  {
   "cell_type": "markdown",
   "metadata": {},
   "source": [
    "Load photon transfer functions"
   ]
  },
  {
   "cell_type": "code",
   "execution_count": 258,
   "metadata": {},
   "outputs": [],
   "source": [
    "user = '/Users/gridgway'\n",
    "CMB_subtracted=True\n",
    "direc = user+'/Dropbox (MIT)/Photon Deposition/tfs_20190120'\n",
    "highengphot_tf_interp = pickle.load(open(direc+\"/processed/highengphot_tf_interp.raw\", \"rb\"))\n",
    "lowengphot_tf_interp  = pickle.load(open(direc+\"/processed/lowengphot_tf_interp.raw\", \"rb\"))\n",
    "lowengelec_tf_interp  = pickle.load(open(direc+\"/processed/lowengelec_tf_interp.raw\", \"rb\"))\n",
    "highengdep_interp     = pickle.load(open(direc+\"/processed/highengdep_interp.raw\", \"rb\"))\n",
    "CMB_engloss_interp    = pickle.load(open(direc+\"/processed/CMB_engloss_interp.raw\", \"rb\"))\n",
    "    \n",
    "# Useful Definitions\n",
    "photeng = highengphot_tf_interp.eng\n",
    "eleceng = lowengelec_tf_interp.eng"
   ]
  },
  {
   "cell_type": "markdown",
   "metadata": {},
   "source": [
    "Load electron transfer functions"
   ]
  },
  {
   "cell_type": "code",
   "execution_count": 259,
   "metadata": {},
   "outputs": [],
   "source": [
    "%autoreload\n",
    "direc = cwd+'/../../tfs/ics/'\n",
    "ics_file = Path(direc+'ics_thomson_ref_tf.p')\n",
    "\n",
    "if ics_file.is_file():\n",
    "    ics_thomson_ref_tf = pickle.load(open(direc+'ics_thomson_ref_tf.p', \"rb\"))\n",
    "    ics_rel_ref_tf = pickle.load(open(direc+'ics_rel_ref_tf.p', \"rb\"))\n",
    "    engloss_ref_tf = pickle.load(open(direc+'engloss_ref_tf.p', \"rb\"))\n",
    "else:\n",
    "    ics_thomson_ref_tf, ics_rel_ref_tf, engloss_ref_tf = main.load_ics_data()\n",
    "    pickle.dump(ics_thomson_ref_tf, open(direc+'ics_thomson_ref_tf.p', \"wb\"))\n",
    "    pickle.dump(ics_rel_ref_tf, open(direc+'ics_rel_ref_tf.p', \"wb\"))\n",
    "    pickle.dump(engloss_ref_tf, open(direc+'engloss_ref_tf.p', \"wb\"))"
   ]
  },
  {
   "cell_type": "markdown",
   "metadata": {},
   "source": [
    "### Download xe_idl"
   ]
  },
  {
   "cell_type": "code",
   "execution_count": 260,
   "metadata": {},
   "outputs": [],
   "source": [
    "direc = cwd+'/../../ih_continuous_'+inj_str\n",
    "\n",
    "hdul = fits.open(\n",
    "    direc+'/IDL_runs/'\n",
    "    +'tf_z_3.000E+03_nstep_6398_logE_1.067E+01_xe_0.000E+00.fits'\n",
    ")\n",
    "    \n",
    "data = hdul[1].data\n",
    "\n",
    "idl_redshift = data.field('redshift')[0]\n",
    "xe_idl = data.field('hionfraction')[0]\n",
    "xHe_idl = data.field('heionfraction')[0]\n",
    "\n",
    "hdul.close()\n",
    "\n",
    "xe_idl_func = interp1d(idl_redshift, xe_idl, bounds_error=False, fill_value=(xe_idl[-1], xe_idl[0]))\n",
    "xHe_idl_func = interp1d(idl_redshift, xHe_idl, bounds_error=False, fill_value=(xHe_idl[-1], xHe_idl[0]))"
   ]
  },
  {
   "cell_type": "markdown",
   "metadata": {},
   "source": [
    "### Structure Formation"
   ]
  },
  {
   "cell_type": "code",
   "execution_count": 261,
   "metadata": {},
   "outputs": [],
   "source": [
    "struct_data = np.loadtxt(open(cwd+\"/../structure_formation_data/boost_Einasto_subs.txt\", \"rb\"))\n",
    "\n",
    "log_struct_interp = interp1d(np.log(struct_data[:,0]), np.log(struct_data[:,1]))\n",
    "\n",
    "def struct_boost_einasto(rs):\n",
    "    #if rs is actually a list of redshifts\n",
    "    if hasattr(rs, \"__len__\"):\n",
    "        rs_tmp = rs.copy()\n",
    "        rs_tmp[rs>76] = 76\n",
    "        tmp = np.exp(log_struct_interp(np.log(rs_tmp)))\n",
    "        tmp[rs>76] = 1\n",
    "        return tmp\n",
    "    else:\n",
    "        if rs < 76:\n",
    "            return np.exp(log_struct_interp(np.log(rs)))\n",
    "        else:\n",
    "            return 1"
   ]
  },
  {
   "cell_type": "markdown",
   "metadata": {},
   "source": [
    "## $T_{21}$ input"
   ]
  },
  {
   "cell_type": "markdown",
   "metadata": {},
   "source": [
    "Calculate upper bound for $T_m$ using \n",
    "$$\n",
    "    T_\\text{21}(z) \\approx (1-\\frac{T_R}{T_S})\n",
    "$$\n",
    "where the constant of proportionality is given by \n",
    "$$\n",
    "    \\sqrt{\\frac{.15}{10}} ...\n",
    "$$\n",
    "and we have assumed $T_R(z) = T_\\text{CMB}(z)$ "
   ]
  },
  {
   "cell_type": "markdown",
   "metadata": {},
   "source": [
    "Calculate the $T_{IGM}$ bound provided a measurement of $T_{21}$"
   ]
  },
  {
   "cell_type": "code",
   "execution_count": 497,
   "metadata": {},
   "outputs": [
    {
     "name": "stdout",
     "output_type": "stream",
     "text": [
      "T_m <  20.470087738353026 K\n"
     ]
    }
   ],
   "source": [
    "T_21 = -50 #in mK\n",
    "tmp_xe = xe_std(end_rs)\n",
    "num = np.sqrt(.15/10/phys.omega_m*end_rs)*(phys.omega_baryon*phys.h/.02)*(1-tmp_xe)*23\n",
    "one_minus_ratio = T_21 / num\n",
    "Tm_bnd = phys.TCMB(end_rs)/(1-one_minus_ratio)/phys.kB\n",
    "print(\"T_m < \", Tm_bnd, \"K\")"
   ]
  },
  {
   "cell_type": "markdown",
   "metadata": {},
   "source": [
    "# Scan through $m_\\chi$ and $\\tau$ or $\\sigma v$"
   ]
  },
  {
   "cell_type": "markdown",
   "metadata": {},
   "source": [
    "## swave annihilation"
   ]
  },
  {
   "cell_type": "markdown",
   "metadata": {},
   "source": [
    "Specify type of injection (swave or decay) and products ($e^+e^-$ or $\\gamma\\gamma$)"
   ]
  },
  {
   "cell_type": "code",
   "execution_count": 690,
   "metadata": {},
   "outputs": [],
   "source": [
    "inj_particle = 'photon'\n",
    "inj_str = inj_particle[:4]\n",
    "inj_type = 'swave'\n",
    "\n",
    "if inj_type == 'swave':\n",
    "    struct_boost = struct_boost_einasto\n",
    "    struct_func = struct_boost\n",
    "else:\n",
    "    def struct_boost(rs):\n",
    "        return 1\n",
    "    struct_func = None\n",
    "    \n",
    "if inj_particle == 'photon':\n",
    "    mass = 0\n",
    "    coarsen_factor=4\n",
    "else:\n",
    "    mass = phys.me\n",
    "    coarsen_factor=12\n",
    "    \n",
    "end_rs = 18.2\n",
    "rs_init = 3000"
   ]
  },
  {
   "cell_type": "markdown",
   "metadata": {},
   "source": [
    "Given a dark matter mass and $\\tau$ or $\\sigma v$, calculate $T(z=17.2)$."
   ]
  },
  {
   "cell_type": "code",
   "execution_count": 691,
   "metadata": {},
   "outputs": [],
   "source": [
    "def get_T(mDM, log10_p, std_soln):\n",
    "    if inj_type == 'decay':\n",
    "        Einj = mDM/2-mass\n",
    "        Ecom=mDM\n",
    "    if inj_type == 'swave':\n",
    "        Einj = mDM - mass\n",
    "        Ecom = 2*mDM\n",
    "\n",
    "    if inj_particle == 'photon':\n",
    "        Etmp = photeng[photeng < Einj][-1]\n",
    "        phot_spec_init = spectools.rebin_N_arr(\n",
    "            np.array([2*Einj/Etmp]),\n",
    "            np.array([Etmp]),\n",
    "            photeng\n",
    "        )\n",
    "        phot_spec_init.rs = rs_init\n",
    "        phot_spec_init.switch_spec_type()\n",
    "\n",
    "        elec_spec_init = Spectrum(eleceng,\n",
    "                                 np.zeros_like(eleceng),\n",
    "                                 spec_type='N',\n",
    "                                 rs=rs_init)\n",
    "    else:\n",
    "        Etmp = eleceng[eleceng < Einj][-1]\n",
    "        elec_spec_init = spectools.rebin_N_arr(\n",
    "            np.array([2*Einj/Etmp]),\n",
    "            np.array([Etmp]),\n",
    "            eleceng\n",
    "        )\n",
    "        elec_spec_init.rs = rs_init\n",
    "        elec_spec_init.switch_spec_type()\n",
    "\n",
    "        phot_spec_init = Spectrum(photeng,\n",
    "                                 np.zeros_like(photeng),\n",
    "                                 spec_type='N',\n",
    "                                 rs=rs_init)\n",
    "\n",
    "    def rate_func_N(rs):\n",
    "        return phys.inj_rate(inj_type, rs, mDM=mDM, tau=10**log10_p, sigmav=10**log10_p*mDM/1e9)*struct_boost(rs)/Ecom\n",
    "    def rate_func_eng(rs):\n",
    "        return phys.inj_rate(inj_type, rs, mDM=mDM, tau=10**log10_p, sigmav=10**log10_p*mDM/1e9)*struct_boost(rs)\n",
    "\n",
    "    a = main.evolve(\n",
    "        elec_spec_init, phot_spec_init,\n",
    "        rate_func_N, rate_func_eng, end_rs,\n",
    "        highengphot_tf_interp, lowengphot_tf_interp, lowengelec_tf_interp,\n",
    "        highengdep_interp, CMB_engloss_interp,\n",
    "        ics_thomson_ref_tf, ics_rel_ref_tf, engloss_ref_tf,\n",
    "        coarsen_factor=coarsen_factor, std_soln=std_soln,\n",
    "        reion_switch=False,\n",
    "        struct_boost=struct_func,\n",
    "        ics_only=False, separate_higheng=True, CMB_subtracted=CMB_subtracted,\n",
    "        user=None, verbose=False, \n",
    "        use_tqdm=True\n",
    "    )\n",
    "    return a[1][-1]/phys.kB"
   ]
  },
  {
   "cell_type": "markdown",
   "metadata": {},
   "source": [
    "Set up a $(m_\\chi, \\tau \\text{ or } \\sigma v)$ grid over which to scan"
   ]
  },
  {
   "cell_type": "code",
   "execution_count": 692,
   "metadata": {},
   "outputs": [],
   "source": [
    "%autoreload\n",
    "step = .25\n",
    "if inj_particle == 'photon':\n",
    "    mbnds = [4,12.5]\n",
    "    log10mDM_arr = np.arange(mbnds[0], mbnds[1], step)\n",
    "\n",
    "    if inj_type == 'decay':\n",
    "        parambnds = [23,28.25 + step] #tau\n",
    "        param_guess = 27\n",
    "    else:\n",
    "        parambnds = [-28,-25 + step] # sigma v / mDM\n",
    "        param_guess = -27\n",
    "else:\n",
    "    mbnds = [6.01,12.51]\n",
    "    log10mDM_arr = np.arange(mbnds[0], mbnds[1], step)\n",
    "\n",
    "    if inj_type == 'decay':\n",
    "        parambnds = [24,28.25 + step]\n",
    "        param_guess = 27\n",
    "    else:    \n",
    "        parambnds = [-30.5,-24.5 + step]\n",
    "        param_guess = -26\n",
    "    \n",
    "log10_param = np.arange(parambnds[0], parambnds[1], step)"
   ]
  },
  {
   "cell_type": "markdown",
   "metadata": {},
   "source": [
    "Conduct the scan without back-reaction"
   ]
  },
  {
   "cell_type": "code",
   "execution_count": 695,
   "metadata": {},
   "outputs": [
    {
     "data": {
      "application/vnd.jupyter.widget-view+json": {
       "model_id": "34f7e110add94eaa8d3cb09f3065e4df",
       "version_major": 2,
       "version_minor": 0
      },
      "text/plain": [
       "HBox(children=(IntProgress(value=0, max=34), HTML(value='')))"
      ]
     },
     "metadata": {},
     "output_type": "display_data"
    },
    {
     "name": "stdout",
     "output_type": "stream",
     "text": [
      "log10(mDM):  4.0\n",
      "log10(param):  -27.0\n"
     ]
    },
    {
     "data": {
      "application/vnd.jupyter.widget-view+json": {
       "model_id": "03f5f20e61694e179aea1c2204ce8f48",
       "version_major": 2,
       "version_minor": 0
      },
      "text/plain": [
       "HBox(children=(IntProgress(value=0, max=1277), HTML(value='')))"
      ]
     },
     "metadata": {},
     "output_type": "display_data"
    },
    {
     "name": "stdout",
     "output_type": "stream",
     "text": [
      "T_0 [K]:  11.127757380309532\n",
      "T_std Below Threshold\n",
      "log10(param):  -26.75\n"
     ]
    },
    {
     "data": {
      "application/vnd.jupyter.widget-view+json": {
       "model_id": "bd03428aface413584c9307a7cc99a91",
       "version_major": 2,
       "version_minor": 0
      },
      "text/plain": [
       "HBox(children=(IntProgress(value=0, max=1277), HTML(value='')))"
      ]
     },
     "metadata": {},
     "output_type": "display_data"
    },
    {
     "name": "stdout",
     "output_type": "stream",
     "text": [
      "T_0 [K]:  13.262377017016656\n",
      "T_std Below Threshold\n",
      "log10(param):  -26.5\n"
     ]
    },
    {
     "data": {
      "application/vnd.jupyter.widget-view+json": {
       "model_id": "0d4b8bb408d64a269389cf96997568ab",
       "version_major": 2,
       "version_minor": 0
      },
      "text/plain": [
       "HBox(children=(IntProgress(value=0, max=1277), HTML(value='')))"
      ]
     },
     "metadata": {},
     "output_type": "display_data"
    },
    {
     "name": "stdout",
     "output_type": "stream",
     "text": [
      "T_0 [K]:  16.487752460037555\n",
      "T_std Below Threshold\n",
      "log10(param):  -26.25\n"
     ]
    },
    {
     "data": {
      "application/vnd.jupyter.widget-view+json": {
       "model_id": "10ab828230cb4e62b62721f6e175c9ca",
       "version_major": 2,
       "version_minor": 0
      },
      "text/plain": [
       "HBox(children=(IntProgress(value=0, max=1277), HTML(value='')))"
      ]
     },
     "metadata": {},
     "output_type": "display_data"
    },
    {
     "name": "stdout",
     "output_type": "stream",
     "text": [
      "T_0 [K]:  21.535809676604266\n",
      "T_std Above Threshold\n",
      "log10(mDM):  4.25\n",
      "log10(param):  -26.25\n"
     ]
    },
    {
     "data": {
      "application/vnd.jupyter.widget-view+json": {
       "model_id": "fb541d389874482db1aa74a5a95f1456",
       "version_major": 2,
       "version_minor": 0
      },
      "text/plain": [
       "HBox(children=(IntProgress(value=0, max=1277), HTML(value='')))"
      ]
     },
     "metadata": {},
     "output_type": "display_data"
    },
    {
     "name": "stdout",
     "output_type": "stream",
     "text": [
      "T_0 [K]:  18.801113650556587\n",
      "T_std Below Threshold\n",
      "log10(param):  -26.0\n"
     ]
    },
    {
     "data": {
      "application/vnd.jupyter.widget-view+json": {
       "model_id": "840741fb8b2f460dbe3545eed4d5e03f",
       "version_major": 2,
       "version_minor": 0
      },
      "text/plain": [
       "HBox(children=(IntProgress(value=0, max=1277), HTML(value='')))"
      ]
     },
     "metadata": {},
     "output_type": "display_data"
    },
    {
     "name": "stdout",
     "output_type": "stream",
     "text": [
      "T_0 [K]:  24.982674031709905\n",
      "T_std Above Threshold\n",
      "log10(mDM):  4.5\n",
      "log10(param):  -26.0\n"
     ]
    },
    {
     "data": {
      "application/vnd.jupyter.widget-view+json": {
       "model_id": "25d24c98d9a34257bd45e9c6b3745fbd",
       "version_major": 2,
       "version_minor": 0
      },
      "text/plain": [
       "HBox(children=(IntProgress(value=0, max=1277), HTML(value='')))"
      ]
     },
     "metadata": {},
     "output_type": "display_data"
    },
    {
     "name": "stdout",
     "output_type": "stream",
     "text": [
      "T_0 [K]:  24.55424775503311\n",
      "T_std Above Threshold\n",
      "log10(param):  -26.25\n"
     ]
    },
    {
     "data": {
      "application/vnd.jupyter.widget-view+json": {
       "model_id": "2c3f45986ae3416db2eb1c8c81c98cb1",
       "version_major": 2,
       "version_minor": 0
      },
      "text/plain": [
       "HBox(children=(IntProgress(value=0, max=1277), HTML(value='')))"
      ]
     },
     "metadata": {},
     "output_type": "display_data"
    },
    {
     "name": "stdout",
     "output_type": "stream",
     "text": [
      "T_0 [K]:  18.4175602441396\n",
      "T_std Below Threshold\n",
      "log10(mDM):  4.75\n",
      "log10(param):  -26.25\n"
     ]
    },
    {
     "data": {
      "application/vnd.jupyter.widget-view+json": {
       "model_id": "a302a8bf81124ad884cc7cf4faf69937",
       "version_major": 2,
       "version_minor": 0
      },
      "text/plain": [
       "HBox(children=(IntProgress(value=0, max=1277), HTML(value='')))"
      ]
     },
     "metadata": {},
     "output_type": "display_data"
    },
    {
     "name": "stdout",
     "output_type": "stream",
     "text": [
      "T_0 [K]:  18.435582266741257\n",
      "T_std Below Threshold\n",
      "log10(param):  -26.0\n"
     ]
    },
    {
     "data": {
      "application/vnd.jupyter.widget-view+json": {
       "model_id": "8efa96d2ac6f45689facecc85570a888",
       "version_major": 2,
       "version_minor": 0
      },
      "text/plain": [
       "HBox(children=(IntProgress(value=0, max=1277), HTML(value='')))"
      ]
     },
     "metadata": {},
     "output_type": "display_data"
    },
    {
     "name": "stdout",
     "output_type": "stream",
     "text": [
      "T_0 [K]:  24.742836748438656\n",
      "T_std Above Threshold\n",
      "log10(mDM):  5.0\n",
      "log10(param):  -26.0\n"
     ]
    },
    {
     "data": {
      "application/vnd.jupyter.widget-view+json": {
       "model_id": "b9523d91a6be4c558f4e8c1d428d7b1b",
       "version_major": 2,
       "version_minor": 0
      },
      "text/plain": [
       "HBox(children=(IntProgress(value=0, max=1277), HTML(value='')))"
      ]
     },
     "metadata": {},
     "output_type": "display_data"
    },
    {
     "name": "stdout",
     "output_type": "stream",
     "text": [
      "T_0 [K]:  25.57970434377983\n",
      "T_std Above Threshold\n",
      "log10(param):  -26.25\n"
     ]
    },
    {
     "data": {
      "application/vnd.jupyter.widget-view+json": {
       "model_id": "9f7962c97f0247f2bfae9a05ed813796",
       "version_major": 2,
       "version_minor": 0
      },
      "text/plain": [
       "HBox(children=(IntProgress(value=0, max=1277), HTML(value='')))"
      ]
     },
     "metadata": {},
     "output_type": "display_data"
    },
    {
     "name": "stdout",
     "output_type": "stream",
     "text": [
      "T_0 [K]:  18.844895548257245\n",
      "T_std Below Threshold\n",
      "log10(mDM):  5.25\n",
      "log10(param):  -26.25\n"
     ]
    },
    {
     "data": {
      "application/vnd.jupyter.widget-view+json": {
       "model_id": "4ab137f4c47942c49c9221031191d5cb",
       "version_major": 2,
       "version_minor": 0
      },
      "text/plain": [
       "HBox(children=(IntProgress(value=0, max=1277), HTML(value='')))"
      ]
     },
     "metadata": {},
     "output_type": "display_data"
    },
    {
     "name": "stdout",
     "output_type": "stream",
     "text": [
      "T_0 [K]:  18.966034038771546\n",
      "T_std Below Threshold\n",
      "log10(param):  -26.0\n"
     ]
    },
    {
     "data": {
      "application/vnd.jupyter.widget-view+json": {
       "model_id": "2cd4698a3d1e4fa5b55d6f4c4d55319a",
       "version_major": 2,
       "version_minor": 0
      },
      "text/plain": [
       "HBox(children=(IntProgress(value=0, max=1277), HTML(value='')))"
      ]
     },
     "metadata": {},
     "output_type": "display_data"
    },
    {
     "name": "stdout",
     "output_type": "stream",
     "text": [
      "T_0 [K]:  25.936400927417825\n",
      "T_std Above Threshold\n",
      "log10(mDM):  5.5\n",
      "log10(param):  -26.0\n"
     ]
    },
    {
     "data": {
      "application/vnd.jupyter.widget-view+json": {
       "model_id": "c75971e7010342fdbfeb1c02bdde86c5",
       "version_major": 2,
       "version_minor": 0
      },
      "text/plain": [
       "HBox(children=(IntProgress(value=0, max=1277), HTML(value='')))"
      ]
     },
     "metadata": {},
     "output_type": "display_data"
    },
    {
     "name": "stdout",
     "output_type": "stream",
     "text": [
      "T_0 [K]:  24.024760392633063\n",
      "T_std Above Threshold\n",
      "log10(param):  -26.25\n"
     ]
    },
    {
     "data": {
      "application/vnd.jupyter.widget-view+json": {
       "model_id": "abe341ecdaf442d3a006f6ba0c59c19e",
       "version_major": 2,
       "version_minor": 0
      },
      "text/plain": [
       "HBox(children=(IntProgress(value=0, max=1277), HTML(value='')))"
      ]
     },
     "metadata": {},
     "output_type": "display_data"
    },
    {
     "name": "stdout",
     "output_type": "stream",
     "text": [
      "T_0 [K]:  17.725181452257267\n",
      "T_std Below Threshold\n",
      "log10(mDM):  5.75\n",
      "log10(param):  -26.25\n"
     ]
    },
    {
     "data": {
      "application/vnd.jupyter.widget-view+json": {
       "model_id": "335c4cca28214b279882b4cf1dc351ef",
       "version_major": 2,
       "version_minor": 0
      },
      "text/plain": [
       "HBox(children=(IntProgress(value=0, max=1277), HTML(value='')))"
      ]
     },
     "metadata": {},
     "output_type": "display_data"
    },
    {
     "name": "stdout",
     "output_type": "stream",
     "text": [
      "T_0 [K]:  15.480518420278482\n",
      "T_std Below Threshold\n",
      "log10(param):  -26.0\n"
     ]
    },
    {
     "data": {
      "application/vnd.jupyter.widget-view+json": {
       "model_id": "91033a733bd94f7f8ee9aef80606c96c",
       "version_major": 2,
       "version_minor": 0
      },
      "text/plain": [
       "HBox(children=(IntProgress(value=0, max=1277), HTML(value='')))"
      ]
     },
     "metadata": {},
     "output_type": "display_data"
    },
    {
     "name": "stdout",
     "output_type": "stream",
     "text": [
      "T_0 [K]:  20.395134644727964\n",
      "T_std Below Threshold\n",
      "log10(param):  -25.75\n"
     ]
    },
    {
     "data": {
      "application/vnd.jupyter.widget-view+json": {
       "model_id": "d0033a3d95c94528b4251d8e43d62924",
       "version_major": 2,
       "version_minor": 0
      },
      "text/plain": [
       "HBox(children=(IntProgress(value=0, max=1277), HTML(value='')))"
      ]
     },
     "metadata": {},
     "output_type": "display_data"
    },
    {
     "name": "stdout",
     "output_type": "stream",
     "text": [
      "T_0 [K]:  28.442555656348173\n",
      "T_std Above Threshold\n",
      "log10(mDM):  6.0\n",
      "log10(param):  -25.75\n"
     ]
    },
    {
     "data": {
      "application/vnd.jupyter.widget-view+json": {
       "model_id": "b2997d4d77b44f5bb959336d8ba9f741",
       "version_major": 2,
       "version_minor": 0
      },
      "text/plain": [
       "HBox(children=(IntProgress(value=0, max=1277), HTML(value='')))"
      ]
     },
     "metadata": {},
     "output_type": "display_data"
    },
    {
     "name": "stdout",
     "output_type": "stream",
     "text": [
      "T_0 [K]:  21.086628733827514\n",
      "T_std Above Threshold\n",
      "log10(param):  -26.0\n"
     ]
    },
    {
     "data": {
      "application/vnd.jupyter.widget-view+json": {
       "model_id": "a98decb4bfad449b84d66a1de43142d9",
       "version_major": 2,
       "version_minor": 0
      },
      "text/plain": [
       "HBox(children=(IntProgress(value=0, max=1277), HTML(value='')))"
      ]
     },
     "metadata": {},
     "output_type": "display_data"
    },
    {
     "name": "stdout",
     "output_type": "stream",
     "text": [
      "T_0 [K]:  15.954482133873043\n",
      "T_std Below Threshold\n",
      "log10(mDM):  6.25\n",
      "log10(param):  -26.0\n"
     ]
    },
    {
     "data": {
      "application/vnd.jupyter.widget-view+json": {
       "model_id": "0396178773ac4eb29a33f89d04090648",
       "version_major": 2,
       "version_minor": 0
      },
      "text/plain": [
       "HBox(children=(IntProgress(value=0, max=1277), HTML(value='')))"
      ]
     },
     "metadata": {},
     "output_type": "display_data"
    },
    {
     "name": "stdout",
     "output_type": "stream",
     "text": [
      "T_0 [K]:  13.059369574992186\n",
      "T_std Below Threshold\n",
      "log10(param):  -25.75\n"
     ]
    },
    {
     "data": {
      "application/vnd.jupyter.widget-view+json": {
       "model_id": "3bd21a06c15d4ad0bd93fa0743914bd7",
       "version_major": 2,
       "version_minor": 0
      },
      "text/plain": [
       "HBox(children=(IntProgress(value=0, max=1277), HTML(value='')))"
      ]
     },
     "metadata": {},
     "output_type": "display_data"
    },
    {
     "name": "stdout",
     "output_type": "stream",
     "text": [
      "T_0 [K]:  16.311793468330006\n",
      "T_std Below Threshold\n",
      "log10(param):  -25.5\n"
     ]
    },
    {
     "data": {
      "application/vnd.jupyter.widget-view+json": {
       "model_id": "377fba56db8c496a973fa0ff3c0d9cca",
       "version_major": 2,
       "version_minor": 0
      },
      "text/plain": [
       "HBox(children=(IntProgress(value=0, max=1277), HTML(value='')))"
      ]
     },
     "metadata": {},
     "output_type": "display_data"
    },
    {
     "name": "stdout",
     "output_type": "stream",
     "text": [
      "T_0 [K]:  21.47824304609859\n",
      "T_std Above Threshold\n",
      "log10(mDM):  6.5\n",
      "log10(param):  -25.5\n"
     ]
    },
    {
     "data": {
      "application/vnd.jupyter.widget-view+json": {
       "model_id": "0005d81c1fc343b9ae41c6ca2b48f432",
       "version_major": 2,
       "version_minor": 0
      },
      "text/plain": [
       "HBox(children=(IntProgress(value=0, max=1277), HTML(value='')))"
      ]
     },
     "metadata": {},
     "output_type": "display_data"
    },
    {
     "name": "stdout",
     "output_type": "stream",
     "text": [
      "T_0 [K]:  16.180853109993862\n",
      "T_std Below Threshold\n",
      "log10(param):  -25.25\n"
     ]
    },
    {
     "data": {
      "application/vnd.jupyter.widget-view+json": {
       "model_id": "26f1070e53df4a06877a968e7c072085",
       "version_major": 2,
       "version_minor": 0
      },
      "text/plain": [
       "HBox(children=(IntProgress(value=0, max=1277), HTML(value='')))"
      ]
     },
     "metadata": {},
     "output_type": "display_data"
    },
    {
     "name": "stdout",
     "output_type": "stream",
     "text": [
      "T_0 [K]:  20.745626366544318\n",
      "T_std Above Threshold\n",
      "log10(mDM):  6.75\n",
      "log10(param):  -25.25\n"
     ]
    },
    {
     "data": {
      "application/vnd.jupyter.widget-view+json": {
       "model_id": "95a85856cfa94ab189666f9de63b3dee",
       "version_major": 2,
       "version_minor": 0
      },
      "text/plain": [
       "HBox(children=(IntProgress(value=0, max=1277), HTML(value='')))"
      ]
     },
     "metadata": {},
     "output_type": "display_data"
    },
    {
     "name": "stdout",
     "output_type": "stream",
     "text": [
      "T_0 [K]:  17.061185287970524\n",
      "T_std Below Threshold\n",
      "log10(param):  -25.0\n"
     ]
    },
    {
     "data": {
      "application/vnd.jupyter.widget-view+json": {
       "model_id": "f993d4f0ce1d47cb861a4b88e74a2862",
       "version_major": 2,
       "version_minor": 0
      },
      "text/plain": [
       "HBox(children=(IntProgress(value=0, max=1277), HTML(value='')))"
      ]
     },
     "metadata": {},
     "output_type": "display_data"
    },
    {
     "name": "stderr",
     "output_type": "stream",
     "text": [
      "/Users/gridgway/anaconda3/lib/python3.6/site-packages/scipy/integrate/odepack.py:247: ODEintWarning: Excess work done on this call (perhaps wrong Dfun type). Run with full_output = 1 to get quantitative information.\n",
      "  warnings.warn(warning_msg, ODEintWarning)\n"
     ]
    },
    {
     "name": "stdout",
     "output_type": "stream",
     "text": [
      "T_0 [K]:  21.423866358615435\n",
      "T_std Above Threshold\n",
      "log10(mDM):  7.0\n",
      "log10(param):  -25.0\n"
     ]
    },
    {
     "data": {
      "application/vnd.jupyter.widget-view+json": {
       "model_id": "55188ba918af42b588e5f0a456a5012d",
       "version_major": 2,
       "version_minor": 0
      },
      "text/plain": [
       "HBox(children=(IntProgress(value=0, max=1277), HTML(value='')))"
      ]
     },
     "metadata": {},
     "output_type": "display_data"
    },
    {
     "name": "stdout",
     "output_type": "stream",
     "text": [
      "T_0 [K]:  20.795296417593274\n",
      "T_std Above Threshold\n",
      "log10(param):  -25.25\n"
     ]
    },
    {
     "data": {
      "application/vnd.jupyter.widget-view+json": {
       "model_id": "2591c2aed39249eb93400a4b8d82edc1",
       "version_major": 2,
       "version_minor": 0
      },
      "text/plain": [
       "HBox(children=(IntProgress(value=0, max=1277), HTML(value='')))"
      ]
     },
     "metadata": {},
     "output_type": "display_data"
    },
    {
     "name": "stdout",
     "output_type": "stream",
     "text": [
      "T_0 [K]:  16.96874182068424\n",
      "T_std Below Threshold\n",
      "log10(mDM):  7.25\n",
      "log10(param):  -25.25\n"
     ]
    },
    {
     "data": {
      "application/vnd.jupyter.widget-view+json": {
       "model_id": "b1d2bc47dea34a0f8982ec5efa4344aa",
       "version_major": 2,
       "version_minor": 0
      },
      "text/plain": [
       "HBox(children=(IntProgress(value=0, max=1277), HTML(value='')))"
      ]
     },
     "metadata": {},
     "output_type": "display_data"
    },
    {
     "name": "stdout",
     "output_type": "stream",
     "text": [
      "T_0 [K]:  23.58269801608868\n",
      "T_std Above Threshold\n",
      "log10(param):  -25.5\n"
     ]
    },
    {
     "data": {
      "application/vnd.jupyter.widget-view+json": {
       "model_id": "436ece7277614d97853f41e4102b1f15",
       "version_major": 2,
       "version_minor": 0
      },
      "text/plain": [
       "HBox(children=(IntProgress(value=0, max=1277), HTML(value='')))"
      ]
     },
     "metadata": {},
     "output_type": "display_data"
    },
    {
     "name": "stdout",
     "output_type": "stream",
     "text": [
      "T_0 [K]:  18.435777155242622\n",
      "T_std Below Threshold\n",
      "log10(mDM):  7.5\n",
      "log10(param):  -25.5\n"
     ]
    },
    {
     "data": {
      "application/vnd.jupyter.widget-view+json": {
       "model_id": "1c50e3aa49fb45229a87638f2f6f9a81",
       "version_major": 2,
       "version_minor": 0
      },
      "text/plain": [
       "HBox(children=(IntProgress(value=0, max=1277), HTML(value='')))"
      ]
     },
     "metadata": {},
     "output_type": "display_data"
    },
    {
     "name": "stdout",
     "output_type": "stream",
     "text": [
      "T_0 [K]:  22.626305368683436\n",
      "T_std Above Threshold\n",
      "log10(param):  -25.75\n"
     ]
    },
    {
     "data": {
      "application/vnd.jupyter.widget-view+json": {
       "model_id": "482a5b674a784e479a6d113eaa7b525b",
       "version_major": 2,
       "version_minor": 0
      },
      "text/plain": [
       "HBox(children=(IntProgress(value=0, max=1277), HTML(value='')))"
      ]
     },
     "metadata": {},
     "output_type": "display_data"
    },
    {
     "name": "stdout",
     "output_type": "stream",
     "text": [
      "T_0 [K]:  17.65531426322797\n",
      "T_std Below Threshold\n",
      "log10(mDM):  7.75\n",
      "log10(param):  -25.75\n"
     ]
    },
    {
     "data": {
      "application/vnd.jupyter.widget-view+json": {
       "model_id": "185d818df50f460e9f9b98eee0351598",
       "version_major": 2,
       "version_minor": 0
      },
      "text/plain": [
       "HBox(children=(IntProgress(value=0, max=1277), HTML(value='')))"
      ]
     },
     "metadata": {},
     "output_type": "display_data"
    },
    {
     "name": "stdout",
     "output_type": "stream",
     "text": [
      "T_0 [K]:  19.299619139076434\n",
      "T_std Below Threshold\n",
      "log10(param):  -25.5\n"
     ]
    },
    {
     "data": {
      "application/vnd.jupyter.widget-view+json": {
       "model_id": "7dda6f46560f49ada64014d4b8b94687",
       "version_major": 2,
       "version_minor": 0
      },
      "text/plain": [
       "HBox(children=(IntProgress(value=0, max=1277), HTML(value='')))"
      ]
     },
     "metadata": {},
     "output_type": "display_data"
    },
    {
     "name": "stdout",
     "output_type": "stream",
     "text": [
      "T_0 [K]:  25.398636550776974\n",
      "T_std Above Threshold\n",
      "log10(mDM):  8.0\n",
      "log10(param):  -25.5\n"
     ]
    },
    {
     "data": {
      "application/vnd.jupyter.widget-view+json": {
       "model_id": "bc45801434354fb987b80e667cd36cfe",
       "version_major": 2,
       "version_minor": 0
      },
      "text/plain": [
       "HBox(children=(IntProgress(value=0, max=1277), HTML(value='')))"
      ]
     },
     "metadata": {},
     "output_type": "display_data"
    },
    {
     "name": "stdout",
     "output_type": "stream",
     "text": [
      "T_0 [K]:  26.694302179979104\n",
      "T_std Above Threshold\n",
      "log10(param):  -25.75\n"
     ]
    },
    {
     "data": {
      "application/vnd.jupyter.widget-view+json": {
       "model_id": "de7302d64bce4c7c87d62506771f3339",
       "version_major": 2,
       "version_minor": 0
      },
      "text/plain": [
       "HBox(children=(IntProgress(value=0, max=1277), HTML(value='')))"
      ]
     },
     "metadata": {},
     "output_type": "display_data"
    },
    {
     "name": "stdout",
     "output_type": "stream",
     "text": [
      "T_0 [K]:  20.11343811308151\n",
      "T_std Below Threshold\n",
      "log10(mDM):  8.25\n",
      "log10(param):  -25.75\n"
     ]
    },
    {
     "data": {
      "application/vnd.jupyter.widget-view+json": {
       "model_id": "9586e42e038146148dc081d3ce7313f8",
       "version_major": 2,
       "version_minor": 0
      },
      "text/plain": [
       "HBox(children=(IntProgress(value=0, max=1277), HTML(value='')))"
      ]
     },
     "metadata": {},
     "output_type": "display_data"
    },
    {
     "name": "stdout",
     "output_type": "stream",
     "text": [
      "T_0 [K]:  20.621930314064866\n",
      "T_std Above Threshold\n",
      "log10(param):  -26.0\n"
     ]
    },
    {
     "data": {
      "application/vnd.jupyter.widget-view+json": {
       "model_id": "53a41ac3d98c4bcdb1be4ee09b2815ec",
       "version_major": 2,
       "version_minor": 0
      },
      "text/plain": [
       "HBox(children=(IntProgress(value=0, max=1277), HTML(value='')))"
      ]
     },
     "metadata": {},
     "output_type": "display_data"
    },
    {
     "name": "stdout",
     "output_type": "stream",
     "text": [
      "T_0 [K]:  16.36489465636492\n",
      "T_std Below Threshold\n",
      "log10(mDM):  8.5\n",
      "log10(param):  -26.0\n"
     ]
    },
    {
     "data": {
      "application/vnd.jupyter.widget-view+json": {
       "model_id": "7436d7749c32460583f3cf5fa2e50e6c",
       "version_major": 2,
       "version_minor": 0
      },
      "text/plain": [
       "HBox(children=(IntProgress(value=0, max=1277), HTML(value='')))"
      ]
     },
     "metadata": {},
     "output_type": "display_data"
    },
    {
     "name": "stdout",
     "output_type": "stream",
     "text": [
      "T_0 [K]:  16.291417888968077\n",
      "T_std Below Threshold\n",
      "log10(param):  -25.75\n"
     ]
    },
    {
     "data": {
      "application/vnd.jupyter.widget-view+json": {
       "model_id": "55f867e862b84138a2506f3062166eb2",
       "version_major": 2,
       "version_minor": 0
      },
      "text/plain": [
       "HBox(children=(IntProgress(value=0, max=1277), HTML(value='')))"
      ]
     },
     "metadata": {},
     "output_type": "display_data"
    },
    {
     "name": "stdout",
     "output_type": "stream",
     "text": [
      "T_0 [K]:  20.482691020590863\n",
      "T_std Above Threshold\n",
      "log10(mDM):  8.75\n",
      "log10(param):  -25.75\n"
     ]
    },
    {
     "data": {
      "application/vnd.jupyter.widget-view+json": {
       "model_id": "daa8d69180bd47119fb8ffdbd80a7bc6",
       "version_major": 2,
       "version_minor": 0
      },
      "text/plain": [
       "HBox(children=(IntProgress(value=0, max=1277), HTML(value='')))"
      ]
     },
     "metadata": {},
     "output_type": "display_data"
    },
    {
     "name": "stdout",
     "output_type": "stream",
     "text": [
      "T_0 [K]:  19.533703621760697\n",
      "T_std Below Threshold\n",
      "log10(param):  -25.5\n"
     ]
    },
    {
     "data": {
      "application/vnd.jupyter.widget-view+json": {
       "model_id": "9adff54fa6c84d0ebb7b4df3bdd4619f",
       "version_major": 2,
       "version_minor": 0
      },
      "text/plain": [
       "HBox(children=(IntProgress(value=0, max=1277), HTML(value='')))"
      ]
     },
     "metadata": {},
     "output_type": "display_data"
    },
    {
     "name": "stdout",
     "output_type": "stream",
     "text": [
      "T_0 [K]:  25.544318438745357\n",
      "T_std Above Threshold\n",
      "log10(mDM):  9.0\n",
      "log10(param):  -25.5\n"
     ]
    },
    {
     "data": {
      "application/vnd.jupyter.widget-view+json": {
       "model_id": "2a475afa8d594d1188d193a1b4f4737f",
       "version_major": 2,
       "version_minor": 0
      },
      "text/plain": [
       "HBox(children=(IntProgress(value=0, max=1277), HTML(value='')))"
      ]
     },
     "metadata": {},
     "output_type": "display_data"
    },
    {
     "name": "stdout",
     "output_type": "stream",
     "text": [
      "T_0 [K]:  23.347557313611155\n",
      "T_std Above Threshold\n",
      "log10(param):  -25.75\n"
     ]
    },
    {
     "data": {
      "application/vnd.jupyter.widget-view+json": {
       "model_id": "fd0283a4779a4d9d87bfe6f11cd1fd37",
       "version_major": 2,
       "version_minor": 0
      },
      "text/plain": [
       "HBox(children=(IntProgress(value=0, max=1277), HTML(value='')))"
      ]
     },
     "metadata": {},
     "output_type": "display_data"
    },
    {
     "name": "stdout",
     "output_type": "stream",
     "text": [
      "T_0 [K]:  18.146707183828788\n",
      "T_std Below Threshold\n",
      "log10(mDM):  9.25\n",
      "log10(param):  -25.75\n"
     ]
    },
    {
     "data": {
      "application/vnd.jupyter.widget-view+json": {
       "model_id": "407cf3f3415c416a917dd022c68036a5",
       "version_major": 2,
       "version_minor": 0
      },
      "text/plain": [
       "HBox(children=(IntProgress(value=0, max=1277), HTML(value='')))"
      ]
     },
     "metadata": {},
     "output_type": "display_data"
    },
    {
     "name": "stdout",
     "output_type": "stream",
     "text": [
      "T_0 [K]:  16.31102167963639\n",
      "T_std Below Threshold\n",
      "log10(param):  -25.5\n"
     ]
    },
    {
     "data": {
      "application/vnd.jupyter.widget-view+json": {
       "model_id": "16f5e87e597a4a41b61571b3a075546d",
       "version_major": 2,
       "version_minor": 0
      },
      "text/plain": [
       "HBox(children=(IntProgress(value=0, max=1277), HTML(value='')))"
      ]
     },
     "metadata": {},
     "output_type": "display_data"
    },
    {
     "name": "stdout",
     "output_type": "stream",
     "text": [
      "T_0 [K]:  20.474878728892037\n",
      "T_std Above Threshold\n",
      "log10(mDM):  9.5\n",
      "log10(param):  -25.5\n"
     ]
    },
    {
     "data": {
      "application/vnd.jupyter.widget-view+json": {
       "model_id": "569ae6a76b5d4a07991ebc1d9cf5d781",
       "version_major": 2,
       "version_minor": 0
      },
      "text/plain": [
       "HBox(children=(IntProgress(value=0, max=1277), HTML(value='')))"
      ]
     },
     "metadata": {},
     "output_type": "display_data"
    },
    {
     "name": "stdout",
     "output_type": "stream",
     "text": [
      "T_0 [K]:  18.10238037453066\n",
      "T_std Below Threshold\n",
      "log10(param):  -25.25\n"
     ]
    },
    {
     "data": {
      "application/vnd.jupyter.widget-view+json": {
       "model_id": "403dfcbe0cdc4e0693f497227de539c5",
       "version_major": 2,
       "version_minor": 0
      },
      "text/plain": [
       "HBox(children=(IntProgress(value=0, max=1277), HTML(value='')))"
      ]
     },
     "metadata": {},
     "output_type": "display_data"
    },
    {
     "name": "stdout",
     "output_type": "stream",
     "text": [
      "T_0 [K]:  23.164894972251897\n",
      "T_std Above Threshold\n",
      "log10(mDM):  9.75\n",
      "log10(param):  -25.25\n"
     ]
    },
    {
     "data": {
      "application/vnd.jupyter.widget-view+json": {
       "model_id": "752e8b946ff646a181045f0929ea180a",
       "version_major": 2,
       "version_minor": 0
      },
      "text/plain": [
       "HBox(children=(IntProgress(value=0, max=1277), HTML(value='')))"
      ]
     },
     "metadata": {},
     "output_type": "display_data"
    },
    {
     "name": "stdout",
     "output_type": "stream",
     "text": [
      "T_0 [K]:  19.73479542981055\n",
      "T_std Below Threshold\n",
      "log10(param):  -25.0\n"
     ]
    },
    {
     "data": {
      "application/vnd.jupyter.widget-view+json": {
       "model_id": "3b9aad17608d41128710d4703a2b692a",
       "version_major": 2,
       "version_minor": 0
      },
      "text/plain": [
       "HBox(children=(IntProgress(value=0, max=1277), HTML(value='')))"
      ]
     },
     "metadata": {},
     "output_type": "display_data"
    },
    {
     "name": "stdout",
     "output_type": "stream",
     "text": [
      "T_0 [K]:  25.493839034694563\n",
      "T_std Above Threshold\n",
      "log10(mDM):  10.0\n",
      "log10(param):  -25.0\n"
     ]
    },
    {
     "data": {
      "application/vnd.jupyter.widget-view+json": {
       "model_id": "1c8832abb11044fb8eade177a55eb978",
       "version_major": 2,
       "version_minor": 0
      },
      "text/plain": [
       "HBox(children=(IntProgress(value=0, max=1277), HTML(value='')))"
      ]
     },
     "metadata": {},
     "output_type": "display_data"
    },
    {
     "name": "stdout",
     "output_type": "stream",
     "text": [
      "T_0 [K]:  22.404586473274716\n",
      "T_std Above Threshold\n",
      "log10(param):  -25.25\n"
     ]
    },
    {
     "data": {
      "application/vnd.jupyter.widget-view+json": {
       "model_id": "1e2bc0f8d1204435ae7a3b65c6174ff9",
       "version_major": 2,
       "version_minor": 0
      },
      "text/plain": [
       "HBox(children=(IntProgress(value=0, max=1277), HTML(value='')))"
      ]
     },
     "metadata": {},
     "output_type": "display_data"
    },
    {
     "name": "stdout",
     "output_type": "stream",
     "text": [
      "T_0 [K]:  17.954530463266916\n",
      "T_std Below Threshold\n",
      "log10(mDM):  10.25\n",
      "log10(param):  -25.25\n"
     ]
    },
    {
     "data": {
      "application/vnd.jupyter.widget-view+json": {
       "model_id": "794a3cf16e304006a6fd47e547c13b8d",
       "version_major": 2,
       "version_minor": 0
      },
      "text/plain": [
       "HBox(children=(IntProgress(value=0, max=1277), HTML(value='')))"
      ]
     },
     "metadata": {},
     "output_type": "display_data"
    },
    {
     "name": "stdout",
     "output_type": "stream",
     "text": [
      "T_0 [K]:  17.389557456398503\n",
      "T_std Below Threshold\n",
      "log10(param):  -25.0\n"
     ]
    },
    {
     "data": {
      "application/vnd.jupyter.widget-view+json": {
       "model_id": "06f9468a1f024a4891bb77930b4091c2",
       "version_major": 2,
       "version_minor": 0
      },
      "text/plain": [
       "HBox(children=(IntProgress(value=0, max=1277), HTML(value='')))"
      ]
     },
     "metadata": {},
     "output_type": "display_data"
    },
    {
     "name": "stdout",
     "output_type": "stream",
     "text": [
      "T_0 [K]:  21.293215419260875\n",
      "T_std Above Threshold\n",
      "log10(mDM):  10.5\n",
      "log10(param):  -25.0\n"
     ]
    },
    {
     "data": {
      "application/vnd.jupyter.widget-view+json": {
       "model_id": "2186414743e14c05859ad336161c8786",
       "version_major": 2,
       "version_minor": 0
      },
      "text/plain": [
       "HBox(children=(IntProgress(value=0, max=1277), HTML(value='')))"
      ]
     },
     "metadata": {},
     "output_type": "display_data"
    },
    {
     "name": "stdout",
     "output_type": "stream",
     "text": [
      "T_0 [K]:  21.20374826172236\n",
      "T_std Above Threshold\n",
      "log10(param):  -25.25\n"
     ]
    },
    {
     "data": {
      "application/vnd.jupyter.widget-view+json": {
       "model_id": "37cd4650dd7a4e5a8ebd335d264fcf76",
       "version_major": 2,
       "version_minor": 0
      },
      "text/plain": [
       "HBox(children=(IntProgress(value=0, max=1277), HTML(value='')))"
      ]
     },
     "metadata": {},
     "output_type": "display_data"
    },
    {
     "name": "stdout",
     "output_type": "stream",
     "text": [
      "T_0 [K]:  17.374966877309763\n",
      "T_std Below Threshold\n",
      "log10(mDM):  10.75\n",
      "log10(param):  -25.25\n"
     ]
    },
    {
     "data": {
      "application/vnd.jupyter.widget-view+json": {
       "model_id": "48ebfa55c11f4bd4af6e68ecea292bb4",
       "version_major": 2,
       "version_minor": 0
      },
      "text/plain": [
       "HBox(children=(IntProgress(value=0, max=1277), HTML(value='')))"
      ]
     },
     "metadata": {},
     "output_type": "display_data"
    },
    {
     "name": "stdout",
     "output_type": "stream",
     "text": [
      "T_0 [K]:  17.092181218185456\n",
      "T_std Below Threshold\n",
      "log10(param):  -25.0\n"
     ]
    },
    {
     "data": {
      "application/vnd.jupyter.widget-view+json": {
       "model_id": "50a7dc9ef3504c049009868b84481f4b",
       "version_major": 2,
       "version_minor": 0
      },
      "text/plain": [
       "HBox(children=(IntProgress(value=0, max=1277), HTML(value='')))"
      ]
     },
     "metadata": {},
     "output_type": "display_data"
    },
    {
     "name": "stdout",
     "output_type": "stream",
     "text": [
      "T_0 [K]:  20.81482449596477\n",
      "T_std Above Threshold\n",
      "log10(mDM):  11.0\n",
      "log10(param):  -25.0\n"
     ]
    },
    {
     "data": {
      "application/vnd.jupyter.widget-view+json": {
       "model_id": "8eb8f8afc56645f2a91685ef85016229",
       "version_major": 2,
       "version_minor": 0
      },
      "text/plain": [
       "HBox(children=(IntProgress(value=0, max=1277), HTML(value='')))"
      ]
     },
     "metadata": {},
     "output_type": "display_data"
    },
    {
     "name": "stdout",
     "output_type": "stream",
     "text": [
      "T_0 [K]:  21.64295327075206\n",
      "T_std Above Threshold\n",
      "log10(param):  -25.25\n"
     ]
    },
    {
     "data": {
      "application/vnd.jupyter.widget-view+json": {
       "model_id": "eb136d5ac4444452983a6da6a08cec5a",
       "version_major": 2,
       "version_minor": 0
      },
      "text/plain": [
       "HBox(children=(IntProgress(value=0, max=1277), HTML(value='')))"
      ]
     },
     "metadata": {},
     "output_type": "display_data"
    },
    {
     "name": "stdout",
     "output_type": "stream",
     "text": [
      "T_0 [K]:  17.581517494652907\n",
      "T_std Below Threshold\n",
      "log10(mDM):  11.25\n",
      "log10(param):  -25.25\n"
     ]
    },
    {
     "data": {
      "application/vnd.jupyter.widget-view+json": {
       "model_id": "68dc8925721d47ba8994f04299f84006",
       "version_major": 2,
       "version_minor": 0
      },
      "text/plain": [
       "HBox(children=(IntProgress(value=0, max=1277), HTML(value='')))"
      ]
     },
     "metadata": {},
     "output_type": "display_data"
    },
    {
     "name": "stdout",
     "output_type": "stream",
     "text": [
      "T_0 [K]:  18.404869686682073\n",
      "T_std Below Threshold\n",
      "log10(param):  -25.0\n"
     ]
    },
    {
     "data": {
      "application/vnd.jupyter.widget-view+json": {
       "model_id": "d275830b65c841d19c7396f74ed3be55",
       "version_major": 2,
       "version_minor": 0
      },
      "text/plain": [
       "HBox(children=(IntProgress(value=0, max=1277), HTML(value='')))"
      ]
     },
     "metadata": {},
     "output_type": "display_data"
    },
    {
     "name": "stdout",
     "output_type": "stream",
     "text": [
      "T_0 [K]:  22.890788119559414\n",
      "T_std Above Threshold\n",
      "log10(mDM):  11.5\n",
      "log10(param):  -25.0\n"
     ]
    },
    {
     "data": {
      "application/vnd.jupyter.widget-view+json": {
       "model_id": "5833a1af39fb45318097dfdcc9b58700",
       "version_major": 2,
       "version_minor": 0
      },
      "text/plain": [
       "HBox(children=(IntProgress(value=0, max=1277), HTML(value='')))"
      ]
     },
     "metadata": {},
     "output_type": "display_data"
    },
    {
     "name": "stdout",
     "output_type": "stream",
     "text": [
      "T_0 [K]:  23.14154323023001\n",
      "T_std Above Threshold\n",
      "log10(param):  -25.25\n"
     ]
    },
    {
     "data": {
      "application/vnd.jupyter.widget-view+json": {
       "model_id": "6bb497b5701749858e814d377b3bb998",
       "version_major": 2,
       "version_minor": 0
      },
      "text/plain": [
       "HBox(children=(IntProgress(value=0, max=1277), HTML(value='')))"
      ]
     },
     "metadata": {},
     "output_type": "display_data"
    },
    {
     "name": "stdout",
     "output_type": "stream",
     "text": [
      "T_0 [K]:  18.6020196545681\n",
      "T_std Below Threshold\n",
      "log10(mDM):  11.75\n",
      "log10(param):  -25.25\n"
     ]
    },
    {
     "data": {
      "application/vnd.jupyter.widget-view+json": {
       "model_id": "aeb0d6035d204046bfc315a09a58cfdc",
       "version_major": 2,
       "version_minor": 0
      },
      "text/plain": [
       "HBox(children=(IntProgress(value=0, max=1277), HTML(value='')))"
      ]
     },
     "metadata": {},
     "output_type": "display_data"
    },
    {
     "name": "stdout",
     "output_type": "stream",
     "text": [
      "T_0 [K]:  18.46902259586664\n",
      "T_std Below Threshold\n",
      "log10(param):  -25.0\n"
     ]
    },
    {
     "data": {
      "application/vnd.jupyter.widget-view+json": {
       "model_id": "d1f5e09e43f143c8adb5fbfa6146a4a8",
       "version_major": 2,
       "version_minor": 0
      },
      "text/plain": [
       "HBox(children=(IntProgress(value=0, max=1277), HTML(value='')))"
      ]
     },
     "metadata": {},
     "output_type": "display_data"
    },
    {
     "name": "stdout",
     "output_type": "stream",
     "text": [
      "T_0 [K]:  22.942292276647155\n",
      "T_std Above Threshold\n",
      "log10(mDM):  12.0\n",
      "log10(param):  -25.0\n"
     ]
    },
    {
     "data": {
      "application/vnd.jupyter.widget-view+json": {
       "model_id": "a2f3a1a9baae439099c4c479062ce9cc",
       "version_major": 2,
       "version_minor": 0
      },
      "text/plain": [
       "HBox(children=(IntProgress(value=0, max=1277), HTML(value='')))"
      ]
     },
     "metadata": {},
     "output_type": "display_data"
    },
    {
     "name": "stdout",
     "output_type": "stream",
     "text": [
      "T_0 [K]:  22.79002740926359\n",
      "T_std Above Threshold\n",
      "log10(param):  -25.25\n"
     ]
    },
    {
     "data": {
      "application/vnd.jupyter.widget-view+json": {
       "model_id": "b7a79c1425e04cba93d0e4e5e0644787",
       "version_major": 2,
       "version_minor": 0
      },
      "text/plain": [
       "HBox(children=(IntProgress(value=0, max=1277), HTML(value='')))"
      ]
     },
     "metadata": {},
     "output_type": "display_data"
    },
    {
     "name": "stdout",
     "output_type": "stream",
     "text": [
      "T_0 [K]:  18.359477512260682\n",
      "T_std Below Threshold\n",
      "log10(mDM):  12.25\n",
      "log10(param):  -25.25\n"
     ]
    },
    {
     "data": {
      "application/vnd.jupyter.widget-view+json": {
       "model_id": "5fd2842376054458af03a3bf6c8338e6",
       "version_major": 2,
       "version_minor": 0
      },
      "text/plain": [
       "HBox(children=(IntProgress(value=0, max=1277), HTML(value='')))"
      ]
     },
     "metadata": {},
     "output_type": "display_data"
    },
    {
     "name": "stdout",
     "output_type": "stream",
     "text": [
      "T_0 [K]:  18.614713192456595\n",
      "T_std Below Threshold\n",
      "log10(param):  -25.0\n"
     ]
    },
    {
     "data": {
      "application/vnd.jupyter.widget-view+json": {
       "model_id": "bf02c560a3fd43898ceed3e94090fde7",
       "version_major": 2,
       "version_minor": 0
      },
      "text/plain": [
       "HBox(children=(IntProgress(value=0, max=1277), HTML(value='')))"
      ]
     },
     "metadata": {},
     "output_type": "display_data"
    },
    {
     "name": "stdout",
     "output_type": "stream",
     "text": [
      "T_0 [K]:  23.24096061303542\n",
      "T_std Above Threshold\n",
      "\n"
     ]
    }
   ],
   "source": [
    "%autoreload\n",
    "T_IGM_17_std = np.zeros((log10mDM_arr.size, log10_param.size))\n",
    "\n",
    "for i, log10mDM in enumerate(tqdm(log10mDM_arr)):\n",
    "    print('log10(mDM): ', log10mDM)\n",
    "    mDM = 10**log10mDM\n",
    "    j=len(log10_param[log10_param < param_guess])\n",
    "    above=False\n",
    "    below=False\n",
    "\n",
    "    while((not below) or (not above)):\n",
    "        log10_p = log10_param[j]\n",
    "        print('log10(param): ', log10_p)\n",
    "\n",
    "        T_std = get_T(mDM, log10_p, True)\n",
    "        T_IGM_17_std[i,j] = T_std\n",
    "        print('T_0 [K]: ', T_std)\n",
    "\n",
    "        if T_std > Tm_bnd:\n",
    "            above = True\n",
    "            print(\"T_std Above Threshold\")\n",
    "            j = j-1\n",
    "        else:\n",
    "            below = True\n",
    "            print(\"T_std Below Threshold\")\n",
    "            j = j+1\n",
    "            \n",
    "        param_guess = log10_p        \n",
    "                    \n",
    "pickle.dump(\n",
    "    T_IGM_17_std, \n",
    "    open('/Users/gridgway/Desktop/T_IGM_17_'+\n",
    "         inj_str+'_'+inj_type+'_std_coarsen'+str(coarsen_factor)+'.dat','wb')\n",
    ")"
   ]
  },
  {
   "cell_type": "code",
   "execution_count": 696,
   "metadata": {},
   "outputs": [],
   "source": [
    "def find_param(Tlist):\n",
    "    above = np.nonzero(Tlist > T_m)[0][0]\n",
    "    below = np.nonzero(Tlist[:above] < T_m)[0][-1]\n",
    "    Ts = [Tlist[below], Tlist[above]]\n",
    "    ps = [log10_param[below], log10_param[above]]\n",
    "    return (np.diff(ps)/np.diff(Ts)*(T_m-Ts[0]) + ps[0])[0]\n",
    "\n",
    "thresh_params_std = np.array([find_param(row) for row in T_IGM_17_std])"
   ]
  },
  {
   "cell_type": "markdown",
   "metadata": {},
   "source": [
    "Conduct the scan with back-reaction"
   ]
  },
  {
   "cell_type": "code",
   "execution_count": 697,
   "metadata": {
    "collapsed": true
   },
   "outputs": [
    {
     "data": {
      "application/vnd.jupyter.widget-view+json": {
       "model_id": "10117e1686394da49631b3a04efe8e6d",
       "version_major": 2,
       "version_minor": 0
      },
      "text/plain": [
       "HBox(children=(IntProgress(value=0, max=34), HTML(value='')))"
      ]
     },
     "metadata": {},
     "output_type": "display_data"
    },
    {
     "name": "stdout",
     "output_type": "stream",
     "text": [
      "log10(mDM):  4.0\n",
      "log10(param):  -26.25\n"
     ]
    },
    {
     "data": {
      "application/vnd.jupyter.widget-view+json": {
       "model_id": "0bc148613fd448ce988209019d694927",
       "version_major": 2,
       "version_minor": 0
      },
      "text/plain": [
       "HBox(children=(IntProgress(value=0, max=1277), HTML(value='')))"
      ]
     },
     "metadata": {},
     "output_type": "display_data"
    },
    {
     "name": "stdout",
     "output_type": "stream",
     "text": [
      "T_0 [K]:  24.662944508117597\n",
      "T_BR Above Threshold\n",
      "log10(param):  -26.5\n"
     ]
    },
    {
     "data": {
      "application/vnd.jupyter.widget-view+json": {
       "model_id": "9d6b99b9dfdb42e7b78b2379b6332f33",
       "version_major": 2,
       "version_minor": 0
      },
      "text/plain": [
       "HBox(children=(IntProgress(value=0, max=1277), HTML(value='')))"
      ]
     },
     "metadata": {},
     "output_type": "display_data"
    },
    {
     "name": "stdout",
     "output_type": "stream",
     "text": [
      "T_0 [K]:  17.883355062372658\n",
      "T_BR Below Threshold\n",
      "log10(mDM):  4.25\n",
      "log10(param):  -26.5\n"
     ]
    },
    {
     "data": {
      "application/vnd.jupyter.widget-view+json": {
       "model_id": "c219fb0f08f242af8ecc1734714add6a",
       "version_major": 2,
       "version_minor": 0
      },
      "text/plain": [
       "HBox(children=(IntProgress(value=0, max=1277), HTML(value='')))"
      ]
     },
     "metadata": {},
     "output_type": "display_data"
    },
    {
     "name": "stdout",
     "output_type": "stream",
     "text": [
      "T_0 [K]:  15.714742741613685\n",
      "T_BR Below Threshold\n",
      "log10(param):  -26.25\n"
     ]
    },
    {
     "data": {
      "application/vnd.jupyter.widget-view+json": {
       "model_id": "33c55039db154ca9b39f129dc80f28f5",
       "version_major": 2,
       "version_minor": 0
      },
      "text/plain": [
       "HBox(children=(IntProgress(value=0, max=1277), HTML(value='')))"
      ]
     },
     "metadata": {},
     "output_type": "display_data"
    },
    {
     "name": "stdout",
     "output_type": "stream",
     "text": [
      "T_0 [K]:  20.71294074727853\n",
      "T_BR Above Threshold\n",
      "log10(mDM):  4.5\n",
      "log10(param):  -26.25\n"
     ]
    },
    {
     "data": {
      "application/vnd.jupyter.widget-view+json": {
       "model_id": "a3179c05e0164084a03e8db163c6928f",
       "version_major": 2,
       "version_minor": 0
      },
      "text/plain": [
       "HBox(children=(IntProgress(value=0, max=1277), HTML(value='')))"
      ]
     },
     "metadata": {},
     "output_type": "display_data"
    },
    {
     "name": "stdout",
     "output_type": "stream",
     "text": [
      "T_0 [K]:  20.100302328750907\n",
      "T_BR Below Threshold\n",
      "log10(param):  -26.0\n"
     ]
    },
    {
     "data": {
      "application/vnd.jupyter.widget-view+json": {
       "model_id": "9592434f82ff46bfa6ff6d698aa6bee2",
       "version_major": 2,
       "version_minor": 0
      },
      "text/plain": [
       "HBox(children=(IntProgress(value=0, max=1277), HTML(value='')))"
      ]
     },
     "metadata": {},
     "output_type": "display_data"
    },
    {
     "name": "stdout",
     "output_type": "stream",
     "text": [
      "T_0 [K]:  28.2985550450351\n",
      "T_BR Above Threshold\n",
      "log10(mDM):  4.75\n",
      "log10(param):  -26.0\n"
     ]
    },
    {
     "data": {
      "application/vnd.jupyter.widget-view+json": {
       "model_id": "7cd67da8098541ab9cdf6cc8fe9e9917",
       "version_major": 2,
       "version_minor": 0
      },
      "text/plain": [
       "HBox(children=(IntProgress(value=0, max=1277), HTML(value='')))"
      ]
     },
     "metadata": {},
     "output_type": "display_data"
    },
    {
     "name": "stdout",
     "output_type": "stream",
     "text": [
      "T_0 [K]:  29.14002409784055\n",
      "T_BR Above Threshold\n",
      "log10(param):  -26.25\n"
     ]
    },
    {
     "data": {
      "application/vnd.jupyter.widget-view+json": {
       "model_id": "54eaa0dd6a1f48dbbf461e2c56c60173",
       "version_major": 2,
       "version_minor": 0
      },
      "text/plain": [
       "HBox(children=(IntProgress(value=0, max=1277), HTML(value='')))"
      ]
     },
     "metadata": {},
     "output_type": "display_data"
    },
    {
     "name": "stdout",
     "output_type": "stream",
     "text": [
      "T_0 [K]:  20.41564196173362\n",
      "T_BR Below Threshold\n",
      "log10(mDM):  5.0\n",
      "log10(param):  -26.25\n"
     ]
    },
    {
     "data": {
      "application/vnd.jupyter.widget-view+json": {
       "model_id": "c3e4a1497fa44cd0995b549640823fd0",
       "version_major": 2,
       "version_minor": 0
      },
      "text/plain": [
       "HBox(children=(IntProgress(value=0, max=1277), HTML(value='')))"
      ]
     },
     "metadata": {},
     "output_type": "display_data"
    },
    {
     "name": "stdout",
     "output_type": "stream",
     "text": [
      "T_0 [K]:  21.50450473414991\n",
      "T_BR Above Threshold\n",
      "log10(param):  -26.5\n"
     ]
    },
    {
     "data": {
      "application/vnd.jupyter.widget-view+json": {
       "model_id": "a70135d0a86240ce8dd3c26cb35df99d",
       "version_major": 2,
       "version_minor": 0
      },
      "text/plain": [
       "HBox(children=(IntProgress(value=0, max=1277), HTML(value='')))"
      ]
     },
     "metadata": {},
     "output_type": "display_data"
    },
    {
     "name": "stdout",
     "output_type": "stream",
     "text": [
      "T_0 [K]:  15.859801934712328\n",
      "T_BR Below Threshold\n",
      "log10(mDM):  5.25\n",
      "log10(param):  -26.5\n"
     ]
    },
    {
     "data": {
      "application/vnd.jupyter.widget-view+json": {
       "model_id": "46f20c403d754ce6929fbc90d0078ddb",
       "version_major": 2,
       "version_minor": 0
      },
      "text/plain": [
       "HBox(children=(IntProgress(value=0, max=1277), HTML(value='')))"
      ]
     },
     "metadata": {},
     "output_type": "display_data"
    },
    {
     "name": "stdout",
     "output_type": "stream",
     "text": [
      "T_0 [K]:  16.0009742417345\n",
      "T_BR Below Threshold\n",
      "log10(param):  -26.25\n"
     ]
    },
    {
     "data": {
      "application/vnd.jupyter.widget-view+json": {
       "model_id": "7140471bd2be42248d942e6f95ff11f6",
       "version_major": 2,
       "version_minor": 0
      },
      "text/plain": [
       "HBox(children=(IntProgress(value=0, max=1277), HTML(value='')))"
      ]
     },
     "metadata": {},
     "output_type": "display_data"
    },
    {
     "name": "stdout",
     "output_type": "stream",
     "text": [
      "T_0 [K]:  21.988833670834367\n",
      "T_BR Above Threshold\n",
      "log10(mDM):  5.5\n",
      "log10(param):  -26.25\n"
     ]
    },
    {
     "data": {
      "application/vnd.jupyter.widget-view+json": {
       "model_id": "a6a4f23cb8cb4c408eb048476f44b651",
       "version_major": 2,
       "version_minor": 0
      },
      "text/plain": [
       "HBox(children=(IntProgress(value=0, max=1277), HTML(value='')))"
      ]
     },
     "metadata": {},
     "output_type": "display_data"
    },
    {
     "name": "stdout",
     "output_type": "stream",
     "text": [
      "T_0 [K]:  20.35087313395289\n",
      "T_BR Below Threshold\n",
      "log10(param):  -26.0\n"
     ]
    },
    {
     "data": {
      "application/vnd.jupyter.widget-view+json": {
       "model_id": "994158f2b01f49a8a68653bd792864b6",
       "version_major": 2,
       "version_minor": 0
      },
      "text/plain": [
       "HBox(children=(IntProgress(value=0, max=1277), HTML(value='')))"
      ]
     },
     "metadata": {},
     "output_type": "display_data"
    },
    {
     "name": "stdout",
     "output_type": "stream",
     "text": [
      "T_0 [K]:  29.916998703070504\n",
      "T_BR Above Threshold\n",
      "log10(mDM):  5.75\n",
      "log10(param):  -26.0\n"
     ]
    },
    {
     "data": {
      "application/vnd.jupyter.widget-view+json": {
       "model_id": "3fed81c9b6be4c798d83a88132fca4c3",
       "version_major": 2,
       "version_minor": 0
      },
      "text/plain": [
       "HBox(children=(IntProgress(value=0, max=1277), HTML(value='')))"
      ]
     },
     "metadata": {},
     "output_type": "display_data"
    },
    {
     "name": "stdout",
     "output_type": "stream",
     "text": [
      "T_0 [K]:  24.38453826009741\n",
      "T_BR Above Threshold\n",
      "log10(param):  -26.25\n"
     ]
    },
    {
     "data": {
      "application/vnd.jupyter.widget-view+json": {
       "model_id": "ac6b81a4abdf448d86ae16abe7366827",
       "version_major": 2,
       "version_minor": 0
      },
      "text/plain": [
       "HBox(children=(IntProgress(value=0, max=1277), HTML(value='')))"
      ]
     },
     "metadata": {},
     "output_type": "display_data"
    },
    {
     "name": "stdout",
     "output_type": "stream",
     "text": [
      "T_0 [K]:  17.21933418859081\n",
      "T_BR Below Threshold\n",
      "log10(mDM):  6.0\n",
      "log10(param):  -26.25\n"
     ]
    },
    {
     "data": {
      "application/vnd.jupyter.widget-view+json": {
       "model_id": "dfe4ba0af6914720861a91deb3e68dc4",
       "version_major": 2,
       "version_minor": 0
      },
      "text/plain": [
       "HBox(children=(IntProgress(value=0, max=1277), HTML(value='')))"
      ]
     },
     "metadata": {},
     "output_type": "display_data"
    },
    {
     "name": "stdout",
     "output_type": "stream",
     "text": [
      "T_0 [K]:  13.536523728120153\n",
      "T_BR Below Threshold\n",
      "log10(param):  -26.0\n"
     ]
    },
    {
     "data": {
      "application/vnd.jupyter.widget-view+json": {
       "model_id": "e7ec59bed4054d22aac25bc7f127203d",
       "version_major": 2,
       "version_minor": 0
      },
      "text/plain": [
       "HBox(children=(IntProgress(value=0, max=1277), HTML(value='')))"
      ]
     },
     "metadata": {},
     "output_type": "display_data"
    },
    {
     "name": "stdout",
     "output_type": "stream",
     "text": [
      "T_0 [K]:  17.901937793608997\n",
      "T_BR Below Threshold\n",
      "log10(param):  -25.75\n"
     ]
    },
    {
     "data": {
      "application/vnd.jupyter.widget-view+json": {
       "model_id": "a1e96796c7ec4aff810e41b9e7e7b76c",
       "version_major": 2,
       "version_minor": 0
      },
      "text/plain": [
       "HBox(children=(IntProgress(value=0, max=1277), HTML(value='')))"
      ]
     },
     "metadata": {},
     "output_type": "display_data"
    },
    {
     "name": "stdout",
     "output_type": "stream",
     "text": [
      "T_0 [K]:  25.507247163854935\n",
      "T_BR Above Threshold\n",
      "log10(mDM):  6.25\n",
      "log10(param):  -25.75\n"
     ]
    },
    {
     "data": {
      "application/vnd.jupyter.widget-view+json": {
       "model_id": "d88976d733544ef9879e273066e7d866",
       "version_major": 2,
       "version_minor": 0
      },
      "text/plain": [
       "HBox(children=(IntProgress(value=0, max=1277), HTML(value='')))"
      ]
     },
     "metadata": {},
     "output_type": "display_data"
    },
    {
     "name": "stdout",
     "output_type": "stream",
     "text": [
      "T_0 [K]:  18.404517864134625\n",
      "T_BR Below Threshold\n",
      "log10(param):  -25.5\n"
     ]
    },
    {
     "data": {
      "application/vnd.jupyter.widget-view+json": {
       "model_id": "7daec238929d464fbef758ed851db2a1",
       "version_major": 2,
       "version_minor": 0
      },
      "text/plain": [
       "HBox(children=(IntProgress(value=0, max=1277), HTML(value='')))"
      ]
     },
     "metadata": {},
     "output_type": "display_data"
    },
    {
     "name": "stdout",
     "output_type": "stream",
     "text": [
      "T_0 [K]:  26.153317543717204\n",
      "T_BR Above Threshold\n",
      "log10(mDM):  6.5\n",
      "log10(param):  -25.5\n"
     ]
    },
    {
     "data": {
      "application/vnd.jupyter.widget-view+json": {
       "model_id": "f882e278bf1a49fda566e20510564364",
       "version_major": 2,
       "version_minor": 0
      },
      "text/plain": [
       "HBox(children=(IntProgress(value=0, max=1277), HTML(value='')))"
      ]
     },
     "metadata": {},
     "output_type": "display_data"
    },
    {
     "name": "stdout",
     "output_type": "stream",
     "text": [
      "T_0 [K]:  18.152760865067528\n",
      "T_BR Below Threshold\n",
      "log10(param):  -25.25\n"
     ]
    },
    {
     "data": {
      "application/vnd.jupyter.widget-view+json": {
       "model_id": "c243ec576c084a67840a1c43bcbe4f6b",
       "version_major": 2,
       "version_minor": 0
      },
      "text/plain": [
       "HBox(children=(IntProgress(value=0, max=1277), HTML(value='')))"
      ]
     },
     "metadata": {},
     "output_type": "display_data"
    },
    {
     "name": "stdout",
     "output_type": "stream",
     "text": [
      "T_0 [K]:  25.003563453183254\n",
      "T_BR Above Threshold\n",
      "log10(mDM):  6.75\n",
      "log10(param):  -25.25\n"
     ]
    },
    {
     "data": {
      "application/vnd.jupyter.widget-view+json": {
       "model_id": "b8ed1ca3a07f409d8673541956b4f308",
       "version_major": 2,
       "version_minor": 0
      },
      "text/plain": [
       "HBox(children=(IntProgress(value=0, max=1277), HTML(value='')))"
      ]
     },
     "metadata": {},
     "output_type": "display_data"
    },
    {
     "name": "stdout",
     "output_type": "stream",
     "text": [
      "T_0 [K]:  19.298772837058603\n",
      "T_BR Below Threshold\n",
      "log10(param):  -25.0\n"
     ]
    },
    {
     "data": {
      "application/vnd.jupyter.widget-view+json": {
       "model_id": "5e193266108e4a82a050c914a859496a",
       "version_major": 2,
       "version_minor": 0
      },
      "text/plain": [
       "HBox(children=(IntProgress(value=0, max=1277), HTML(value='')))"
      ]
     },
     "metadata": {},
     "output_type": "display_data"
    },
    {
     "name": "stderr",
     "output_type": "stream",
     "text": [
      "/Users/gridgway/anaconda3/lib/python3.6/site-packages/scipy/integrate/odepack.py:247: ODEintWarning: Excess work done on this call (perhaps wrong Dfun type). Run with full_output = 1 to get quantitative information.\n",
      "  warnings.warn(warning_msg, ODEintWarning)\n"
     ]
    },
    {
     "name": "stdout",
     "output_type": "stream",
     "text": [
      "T_0 [K]:  26.046931097749148\n",
      "T_BR Above Threshold\n",
      "log10(mDM):  7.0\n",
      "log10(param):  -25.0\n"
     ]
    },
    {
     "data": {
      "application/vnd.jupyter.widget-view+json": {
       "model_id": "afe379aa85284cebbc91127e8d60410c",
       "version_major": 2,
       "version_minor": 0
      },
      "text/plain": [
       "HBox(children=(IntProgress(value=0, max=1277), HTML(value='')))"
      ]
     },
     "metadata": {},
     "output_type": "display_data"
    },
    {
     "name": "stdout",
     "output_type": "stream",
     "text": [
      "T_0 [K]:  25.719263982414013\n",
      "T_BR Above Threshold\n",
      "log10(param):  -25.25\n"
     ]
    },
    {
     "data": {
      "application/vnd.jupyter.widget-view+json": {
       "model_id": "82310880ad6b4b1fb46befee2d06039c",
       "version_major": 2,
       "version_minor": 0
      },
      "text/plain": [
       "HBox(children=(IntProgress(value=0, max=1277), HTML(value='')))"
      ]
     },
     "metadata": {},
     "output_type": "display_data"
    },
    {
     "name": "stdout",
     "output_type": "stream",
     "text": [
      "T_0 [K]:  19.440774739753795\n",
      "T_BR Below Threshold\n",
      "log10(mDM):  7.25\n",
      "log10(param):  -25.25\n"
     ]
    },
    {
     "data": {
      "application/vnd.jupyter.widget-view+json": {
       "model_id": "020644d6625c4b34ab815e7b30391a84",
       "version_major": 2,
       "version_minor": 0
      },
      "text/plain": [
       "HBox(children=(IntProgress(value=0, max=1277), HTML(value='')))"
      ]
     },
     "metadata": {},
     "output_type": "display_data"
    },
    {
     "name": "stdout",
     "output_type": "stream",
     "text": [
      "T_0 [K]:  31.089661543325096\n",
      "T_BR Above Threshold\n",
      "log10(param):  -25.5\n"
     ]
    },
    {
     "data": {
      "application/vnd.jupyter.widget-view+json": {
       "model_id": "9fe704fcddba48d7a5d0b8b744a71571",
       "version_major": 2,
       "version_minor": 0
      },
      "text/plain": [
       "HBox(children=(IntProgress(value=0, max=1277), HTML(value='')))"
      ]
     },
     "metadata": {},
     "output_type": "display_data"
    },
    {
     "name": "stdout",
     "output_type": "stream",
     "text": [
      "T_0 [K]:  22.142325401346362\n",
      "T_BR Above Threshold\n",
      "log10(param):  -25.75\n"
     ]
    },
    {
     "data": {
      "application/vnd.jupyter.widget-view+json": {
       "model_id": "9a4f26f23f06401586a62a1a4736b7a6",
       "version_major": 2,
       "version_minor": 0
      },
      "text/plain": [
       "HBox(children=(IntProgress(value=0, max=1277), HTML(value='')))"
      ]
     },
     "metadata": {},
     "output_type": "display_data"
    },
    {
     "name": "stdout",
     "output_type": "stream",
     "text": [
      "T_0 [K]:  16.991146131087913\n",
      "T_BR Below Threshold\n",
      "log10(mDM):  7.5\n",
      "log10(param):  -25.75\n"
     ]
    },
    {
     "data": {
      "application/vnd.jupyter.widget-view+json": {
       "model_id": "b7f92cca17be4f1984d4ff0110c195df",
       "version_major": 2,
       "version_minor": 0
      },
      "text/plain": [
       "HBox(children=(IntProgress(value=0, max=1277), HTML(value='')))"
      ]
     },
     "metadata": {},
     "output_type": "display_data"
    },
    {
     "name": "stdout",
     "output_type": "stream",
     "text": [
      "T_0 [K]:  20.478090506582202\n",
      "T_BR Above Threshold\n",
      "log10(param):  -26.0\n"
     ]
    },
    {
     "data": {
      "application/vnd.jupyter.widget-view+json": {
       "model_id": "d85dab0a7b0d4c4da382d56b6df09445",
       "version_major": 2,
       "version_minor": 0
      },
      "text/plain": [
       "HBox(children=(IntProgress(value=0, max=1277), HTML(value='')))"
      ]
     },
     "metadata": {},
     "output_type": "display_data"
    },
    {
     "name": "stdout",
     "output_type": "stream",
     "text": [
      "T_0 [K]:  15.850718371684794\n",
      "T_BR Below Threshold\n",
      "log10(mDM):  7.75\n",
      "log10(param):  -26.0\n"
     ]
    },
    {
     "data": {
      "application/vnd.jupyter.widget-view+json": {
       "model_id": "af20907295464db7bfe3d1ca8756802d",
       "version_major": 2,
       "version_minor": 0
      },
      "text/plain": [
       "HBox(children=(IntProgress(value=0, max=1277), HTML(value='')))"
      ]
     },
     "metadata": {},
     "output_type": "display_data"
    },
    {
     "name": "stdout",
     "output_type": "stream",
     "text": [
      "T_0 [K]:  16.972987777442253\n",
      "T_BR Below Threshold\n",
      "log10(param):  -25.75\n"
     ]
    },
    {
     "data": {
      "application/vnd.jupyter.widget-view+json": {
       "model_id": "fa4dcd469a5549ffac24108ce300e566",
       "version_major": 2,
       "version_minor": 0
      },
      "text/plain": [
       "HBox(children=(IntProgress(value=0, max=1277), HTML(value='')))"
      ]
     },
     "metadata": {},
     "output_type": "display_data"
    },
    {
     "name": "stdout",
     "output_type": "stream",
     "text": [
      "T_0 [K]:  22.452258054916186\n",
      "T_BR Above Threshold\n",
      "log10(mDM):  8.0\n",
      "log10(param):  -25.75\n"
     ]
    },
    {
     "data": {
      "application/vnd.jupyter.widget-view+json": {
       "model_id": "f91bfe677c9a4a8493df69f8aa3ba822",
       "version_major": 2,
       "version_minor": 0
      },
      "text/plain": [
       "HBox(children=(IntProgress(value=0, max=1277), HTML(value='')))"
      ]
     },
     "metadata": {},
     "output_type": "display_data"
    },
    {
     "name": "stdout",
     "output_type": "stream",
     "text": [
      "T_0 [K]:  23.2192457670853\n",
      "T_BR Above Threshold\n",
      "log10(param):  -26.0\n"
     ]
    },
    {
     "data": {
      "application/vnd.jupyter.widget-view+json": {
       "model_id": "25d304b16cde43698d9ae96272a07823",
       "version_major": 2,
       "version_minor": 0
      },
      "text/plain": [
       "HBox(children=(IntProgress(value=0, max=1277), HTML(value='')))"
      ]
     },
     "metadata": {},
     "output_type": "display_data"
    },
    {
     "name": "stdout",
     "output_type": "stream",
     "text": [
      "T_0 [K]:  17.464252242521404\n",
      "T_BR Below Threshold\n",
      "log10(mDM):  8.25\n",
      "log10(param):  -26.0\n"
     ]
    },
    {
     "data": {
      "application/vnd.jupyter.widget-view+json": {
       "model_id": "840b58a5684646d78b6e5f0f3dbaf529",
       "version_major": 2,
       "version_minor": 0
      },
      "text/plain": [
       "HBox(children=(IntProgress(value=0, max=1277), HTML(value='')))"
      ]
     },
     "metadata": {},
     "output_type": "display_data"
    },
    {
     "name": "stdout",
     "output_type": "stream",
     "text": [
      "T_0 [K]:  17.76155872734942\n",
      "T_BR Below Threshold\n",
      "log10(param):  -25.75\n"
     ]
    },
    {
     "data": {
      "application/vnd.jupyter.widget-view+json": {
       "model_id": "fedda332c0c4421293ea6dd46fdbdb80",
       "version_major": 2,
       "version_minor": 0
      },
      "text/plain": [
       "HBox(children=(IntProgress(value=0, max=1277), HTML(value='')))"
      ]
     },
     "metadata": {},
     "output_type": "display_data"
    },
    {
     "name": "stdout",
     "output_type": "stream",
     "text": [
      "T_0 [K]:  23.60450448364913\n",
      "T_BR Above Threshold\n",
      "log10(mDM):  8.5\n",
      "log10(param):  -25.75\n"
     ]
    },
    {
     "data": {
      "application/vnd.jupyter.widget-view+json": {
       "model_id": "e3476d81f2d94bc897d09934cf3d5df0",
       "version_major": 2,
       "version_minor": 0
      },
      "text/plain": [
       "HBox(children=(IntProgress(value=0, max=1277), HTML(value='')))"
      ]
     },
     "metadata": {},
     "output_type": "display_data"
    },
    {
     "name": "stdout",
     "output_type": "stream",
     "text": [
      "T_0 [K]:  23.244411130117097\n",
      "T_BR Above Threshold\n",
      "log10(param):  -26.0\n"
     ]
    },
    {
     "data": {
      "application/vnd.jupyter.widget-view+json": {
       "model_id": "112b7a30a649474483219859bd4104bc",
       "version_major": 2,
       "version_minor": 0
      },
      "text/plain": [
       "HBox(children=(IntProgress(value=0, max=1277), HTML(value='')))"
      ]
     },
     "metadata": {},
     "output_type": "display_data"
    },
    {
     "name": "stdout",
     "output_type": "stream",
     "text": [
      "T_0 [K]:  17.58250374481945\n",
      "T_BR Below Threshold\n",
      "log10(mDM):  8.75\n",
      "log10(param):  -26.0\n"
     ]
    },
    {
     "data": {
      "application/vnd.jupyter.widget-view+json": {
       "model_id": "149520ce8cbf430783b525cbcffe6a2c",
       "version_major": 2,
       "version_minor": 0
      },
      "text/plain": [
       "HBox(children=(IntProgress(value=0, max=1277), HTML(value='')))"
      ]
     },
     "metadata": {},
     "output_type": "display_data"
    },
    {
     "name": "stdout",
     "output_type": "stream",
     "text": [
      "T_0 [K]:  16.74557402142903\n",
      "T_BR Below Threshold\n",
      "log10(param):  -25.75\n"
     ]
    },
    {
     "data": {
      "application/vnd.jupyter.widget-view+json": {
       "model_id": "3687612104dd4d248b07ebd165f80eab",
       "version_major": 2,
       "version_minor": 0
      },
      "text/plain": [
       "HBox(children=(IntProgress(value=0, max=1277), HTML(value='')))"
      ]
     },
     "metadata": {},
     "output_type": "display_data"
    },
    {
     "name": "stdout",
     "output_type": "stream",
     "text": [
      "T_0 [K]:  21.842522548940124\n",
      "T_BR Above Threshold\n",
      "log10(mDM):  9.0\n",
      "log10(param):  -25.75\n"
     ]
    },
    {
     "data": {
      "application/vnd.jupyter.widget-view+json": {
       "model_id": "8371a25a4a7c45af95c54bb5c33b0ef1",
       "version_major": 2,
       "version_minor": 0
      },
      "text/plain": [
       "HBox(children=(IntProgress(value=0, max=1277), HTML(value='')))"
      ]
     },
     "metadata": {},
     "output_type": "display_data"
    },
    {
     "name": "stdout",
     "output_type": "stream",
     "text": [
      "T_0 [K]:  19.939744964606234\n",
      "T_BR Below Threshold\n",
      "log10(param):  -25.5\n"
     ]
    },
    {
     "data": {
      "application/vnd.jupyter.widget-view+json": {
       "model_id": "75be3559ca6449c292e02421a578508a",
       "version_major": 2,
       "version_minor": 0
      },
      "text/plain": [
       "HBox(children=(IntProgress(value=0, max=1277), HTML(value='')))"
      ]
     },
     "metadata": {},
     "output_type": "display_data"
    },
    {
     "name": "stdout",
     "output_type": "stream",
     "text": [
      "T_0 [K]:  27.135243101422876\n",
      "T_BR Above Threshold\n",
      "log10(mDM):  9.25\n",
      "log10(param):  -25.5\n"
     ]
    },
    {
     "data": {
      "application/vnd.jupyter.widget-view+json": {
       "model_id": "90b89d3cee4d4e96b53acbeba3e782e0",
       "version_major": 2,
       "version_minor": 0
      },
      "text/plain": [
       "HBox(children=(IntProgress(value=0, max=1277), HTML(value='')))"
      ]
     },
     "metadata": {},
     "output_type": "display_data"
    },
    {
     "name": "stdout",
     "output_type": "stream",
     "text": [
      "T_0 [K]:  23.08779037621177\n",
      "T_BR Above Threshold\n",
      "log10(param):  -25.75\n"
     ]
    },
    {
     "data": {
      "application/vnd.jupyter.widget-view+json": {
       "model_id": "05e9110dd4824bb88144e73b211321ab",
       "version_major": 2,
       "version_minor": 0
      },
      "text/plain": [
       "HBox(children=(IntProgress(value=0, max=1277), HTML(value='')))"
      ]
     },
     "metadata": {},
     "output_type": "display_data"
    },
    {
     "name": "stdout",
     "output_type": "stream",
     "text": [
      "T_0 [K]:  17.531941889422708\n",
      "T_BR Below Threshold\n",
      "log10(mDM):  9.5\n",
      "log10(param):  -25.75\n"
     ]
    },
    {
     "data": {
      "application/vnd.jupyter.widget-view+json": {
       "model_id": "44129d191e0249eaa747adfd7d8da972",
       "version_major": 2,
       "version_minor": 0
      },
      "text/plain": [
       "HBox(children=(IntProgress(value=0, max=1277), HTML(value='')))"
      ]
     },
     "metadata": {},
     "output_type": "display_data"
    },
    {
     "name": "stdout",
     "output_type": "stream",
     "text": [
      "T_0 [K]:  15.627459782993093\n",
      "T_BR Below Threshold\n",
      "log10(param):  -25.5\n"
     ]
    },
    {
     "data": {
      "application/vnd.jupyter.widget-view+json": {
       "model_id": "b93a32cfbab54c7da94f364f372ada6e",
       "version_major": 2,
       "version_minor": 0
      },
      "text/plain": [
       "HBox(children=(IntProgress(value=0, max=1277), HTML(value='')))"
      ]
     },
     "metadata": {},
     "output_type": "display_data"
    },
    {
     "name": "stdout",
     "output_type": "stream",
     "text": [
      "T_0 [K]:  19.890425543838145\n",
      "T_BR Below Threshold\n",
      "log10(param):  -25.25\n"
     ]
    },
    {
     "data": {
      "application/vnd.jupyter.widget-view+json": {
       "model_id": "514ce22d1f8544a9b629940928f6c271",
       "version_major": 2,
       "version_minor": 0
      },
      "text/plain": [
       "HBox(children=(IntProgress(value=0, max=1277), HTML(value='')))"
      ]
     },
     "metadata": {},
     "output_type": "display_data"
    },
    {
     "name": "stdout",
     "output_type": "stream",
     "text": [
      "T_0 [K]:  26.92060998039796\n",
      "T_BR Above Threshold\n",
      "log10(mDM):  9.75\n",
      "log10(param):  -25.25\n"
     ]
    },
    {
     "data": {
      "application/vnd.jupyter.widget-view+json": {
       "model_id": "339ea0df94814223b90c10bfa432f446",
       "version_major": 2,
       "version_minor": 0
      },
      "text/plain": [
       "HBox(children=(IntProgress(value=0, max=1277), HTML(value='')))"
      ]
     },
     "metadata": {},
     "output_type": "display_data"
    },
    {
     "name": "stdout",
     "output_type": "stream",
     "text": [
      "T_0 [K]:  22.160625871298688\n",
      "T_BR Above Threshold\n",
      "log10(param):  -25.5\n"
     ]
    },
    {
     "data": {
      "application/vnd.jupyter.widget-view+json": {
       "model_id": "d6babcbca5194abe8089e0c8bd93f808",
       "version_major": 2,
       "version_minor": 0
      },
      "text/plain": [
       "HBox(children=(IntProgress(value=0, max=1277), HTML(value='')))"
      ]
     },
     "metadata": {},
     "output_type": "display_data"
    },
    {
     "name": "stdout",
     "output_type": "stream",
     "text": [
      "T_0 [K]:  17.172982718430188\n",
      "T_BR Below Threshold\n",
      "log10(mDM):  10.0\n",
      "log10(param):  -25.5\n"
     ]
    },
    {
     "data": {
      "application/vnd.jupyter.widget-view+json": {
       "model_id": "c38e8556fa8344e3b026da9273ea3765",
       "version_major": 2,
       "version_minor": 0
      },
      "text/plain": [
       "HBox(children=(IntProgress(value=0, max=1277), HTML(value='')))"
      ]
     },
     "metadata": {},
     "output_type": "display_data"
    },
    {
     "name": "stdout",
     "output_type": "stream",
     "text": [
      "T_0 [K]:  15.888007256729647\n",
      "T_BR Below Threshold\n",
      "log10(param):  -25.25\n"
     ]
    },
    {
     "data": {
      "application/vnd.jupyter.widget-view+json": {
       "model_id": "481c8796d0044927aa2e29e957bc0207",
       "version_major": 2,
       "version_minor": 0
      },
      "text/plain": [
       "HBox(children=(IntProgress(value=0, max=1277), HTML(value='')))"
      ]
     },
     "metadata": {},
     "output_type": "display_data"
    },
    {
     "name": "stdout",
     "output_type": "stream",
     "text": [
      "T_0 [K]:  19.762489421683913\n",
      "T_BR Below Threshold\n",
      "log10(param):  -25.0\n"
     ]
    },
    {
     "data": {
      "application/vnd.jupyter.widget-view+json": {
       "model_id": "e0478e8938354bd5b35332a5629c83b9",
       "version_major": 2,
       "version_minor": 0
      },
      "text/plain": [
       "HBox(children=(IntProgress(value=0, max=1277), HTML(value='')))"
      ]
     },
     "metadata": {},
     "output_type": "display_data"
    },
    {
     "name": "stdout",
     "output_type": "stream",
     "text": [
      "T_0 [K]:  26.08434481237296\n",
      "T_BR Above Threshold\n",
      "log10(mDM):  10.25\n",
      "log10(param):  -25.0\n"
     ]
    },
    {
     "data": {
      "application/vnd.jupyter.widget-view+json": {
       "model_id": "93588e1b320641398e1dbedf1a500170",
       "version_major": 2,
       "version_minor": 0
      },
      "text/plain": [
       "HBox(children=(IntProgress(value=0, max=1277), HTML(value='')))"
      ]
     },
     "metadata": {},
     "output_type": "display_data"
    },
    {
     "name": "stdout",
     "output_type": "stream",
     "text": [
      "T_0 [K]:  24.543701298716346\n",
      "T_BR Above Threshold\n",
      "log10(param):  -25.25\n"
     ]
    },
    {
     "data": {
      "application/vnd.jupyter.widget-view+json": {
       "model_id": "d8e5e2e673b3478fa9babd0f0583a33a",
       "version_major": 2,
       "version_minor": 0
      },
      "text/plain": [
       "HBox(children=(IntProgress(value=0, max=1277), HTML(value='')))"
      ]
     },
     "metadata": {},
     "output_type": "display_data"
    },
    {
     "name": "stdout",
     "output_type": "stream",
     "text": [
      "T_0 [K]:  19.005261150111867\n",
      "T_BR Below Threshold\n",
      "log10(mDM):  10.5\n",
      "log10(param):  -25.25\n"
     ]
    },
    {
     "data": {
      "application/vnd.jupyter.widget-view+json": {
       "model_id": "bf034705bbee4432b3585743fe15a856",
       "version_major": 2,
       "version_minor": 0
      },
      "text/plain": [
       "HBox(children=(IntProgress(value=0, max=1277), HTML(value='')))"
      ]
     },
     "metadata": {},
     "output_type": "display_data"
    },
    {
     "name": "stdout",
     "output_type": "stream",
     "text": [
      "T_0 [K]:  18.97473968891912\n",
      "T_BR Below Threshold\n",
      "log10(param):  -25.0\n"
     ]
    },
    {
     "data": {
      "application/vnd.jupyter.widget-view+json": {
       "model_id": "844477de84cf452f8d64ea3469f60033",
       "version_major": 2,
       "version_minor": 0
      },
      "text/plain": [
       "HBox(children=(IntProgress(value=0, max=1277), HTML(value='')))"
      ]
     },
     "metadata": {},
     "output_type": "display_data"
    },
    {
     "name": "stdout",
     "output_type": "stream",
     "text": [
      "T_0 [K]:  24.418246942233633\n",
      "T_BR Above Threshold\n",
      "log10(mDM):  10.75\n",
      "log10(param):  -25.0\n"
     ]
    },
    {
     "data": {
      "application/vnd.jupyter.widget-view+json": {
       "model_id": "51954fa4a81544a3b7326318335de39a",
       "version_major": 2,
       "version_minor": 0
      },
      "text/plain": [
       "HBox(children=(IntProgress(value=0, max=1277), HTML(value='')))"
      ]
     },
     "metadata": {},
     "output_type": "display_data"
    },
    {
     "name": "stdout",
     "output_type": "stream",
     "text": [
      "T_0 [K]:  23.819180852575435\n",
      "T_BR Above Threshold\n",
      "log10(param):  -25.25\n"
     ]
    },
    {
     "data": {
      "application/vnd.jupyter.widget-view+json": {
       "model_id": "9d69f30e137140218fcc0a242e20b3fa",
       "version_major": 2,
       "version_minor": 0
      },
      "text/plain": [
       "HBox(children=(IntProgress(value=0, max=1277), HTML(value='')))"
      ]
     },
     "metadata": {},
     "output_type": "display_data"
    },
    {
     "name": "stdout",
     "output_type": "stream",
     "text": [
      "T_0 [K]:  18.578123470076438\n",
      "T_BR Below Threshold\n",
      "log10(mDM):  11.0\n",
      "log10(param):  -25.25\n"
     ]
    },
    {
     "data": {
      "application/vnd.jupyter.widget-view+json": {
       "model_id": "79f17875c3fb4ac5bd97f8abc9bd7da0",
       "version_major": 2,
       "version_minor": 0
      },
      "text/plain": [
       "HBox(children=(IntProgress(value=0, max=1277), HTML(value='')))"
      ]
     },
     "metadata": {},
     "output_type": "display_data"
    },
    {
     "name": "stdout",
     "output_type": "stream",
     "text": [
      "T_0 [K]:  19.19130639189246\n",
      "T_BR Below Threshold\n",
      "log10(param):  -25.0\n"
     ]
    },
    {
     "data": {
      "application/vnd.jupyter.widget-view+json": {
       "model_id": "abadd5bc588244978f5395f0109de542",
       "version_major": 2,
       "version_minor": 0
      },
      "text/plain": [
       "HBox(children=(IntProgress(value=0, max=1277), HTML(value='')))"
      ]
     },
     "metadata": {},
     "output_type": "display_data"
    },
    {
     "name": "stdout",
     "output_type": "stream",
     "text": [
      "T_0 [K]:  24.917342906142757\n",
      "T_BR Above Threshold\n",
      "log10(mDM):  11.25\n",
      "log10(param):  -25.0\n"
     ]
    },
    {
     "data": {
      "application/vnd.jupyter.widget-view+json": {
       "model_id": "82703b8ce1284074b7ecac3bcb2039d2",
       "version_major": 2,
       "version_minor": 0
      },
      "text/plain": [
       "HBox(children=(IntProgress(value=0, max=1277), HTML(value='')))"
      ]
     },
     "metadata": {},
     "output_type": "display_data"
    },
    {
     "name": "stdout",
     "output_type": "stream",
     "text": [
      "T_0 [K]:  26.737950585173166\n",
      "T_BR Above Threshold\n",
      "log10(param):  -25.25\n"
     ]
    },
    {
     "data": {
      "application/vnd.jupyter.widget-view+json": {
       "model_id": "bc29bf0d1b524d0f8f4074b3c1eec880",
       "version_major": 2,
       "version_minor": 0
      },
      "text/plain": [
       "HBox(children=(IntProgress(value=0, max=1277), HTML(value='')))"
      ]
     },
     "metadata": {},
     "output_type": "display_data"
    },
    {
     "name": "stdout",
     "output_type": "stream",
     "text": [
      "T_0 [K]:  20.30107339755952\n",
      "T_BR Below Threshold\n",
      "log10(mDM):  11.5\n",
      "log10(param):  -25.25\n"
     ]
    },
    {
     "data": {
      "application/vnd.jupyter.widget-view+json": {
       "model_id": "b5b14f7cc17b4452b63a8c78696807f9",
       "version_major": 2,
       "version_minor": 0
      },
      "text/plain": [
       "HBox(children=(IntProgress(value=0, max=1277), HTML(value='')))"
      ]
     },
     "metadata": {},
     "output_type": "display_data"
    },
    {
     "name": "stdout",
     "output_type": "stream",
     "text": [
      "T_0 [K]:  20.59596503194243\n",
      "T_BR Above Threshold\n",
      "log10(param):  -25.5\n"
     ]
    },
    {
     "data": {
      "application/vnd.jupyter.widget-view+json": {
       "model_id": "fbce086343a7474c863f10b61139a09e",
       "version_major": 2,
       "version_minor": 0
      },
      "text/plain": [
       "HBox(children=(IntProgress(value=0, max=1277), HTML(value='')))"
      ]
     },
     "metadata": {},
     "output_type": "display_data"
    },
    {
     "name": "stdout",
     "output_type": "stream",
     "text": [
      "T_0 [K]:  16.52498206083622\n",
      "T_BR Below Threshold\n",
      "log10(mDM):  11.75\n",
      "log10(param):  -25.5\n"
     ]
    },
    {
     "data": {
      "application/vnd.jupyter.widget-view+json": {
       "model_id": "b5d799b0ce1c4a45b52b41d24a0bd18d",
       "version_major": 2,
       "version_minor": 0
      },
      "text/plain": [
       "HBox(children=(IntProgress(value=0, max=1277), HTML(value='')))"
      ]
     },
     "metadata": {},
     "output_type": "display_data"
    },
    {
     "name": "stdout",
     "output_type": "stream",
     "text": [
      "T_0 [K]:  16.406805392927357\n",
      "T_BR Below Threshold\n",
      "log10(param):  -25.25\n"
     ]
    },
    {
     "data": {
      "application/vnd.jupyter.widget-view+json": {
       "model_id": "1c0318715c7141cfae3fbd826e280b75",
       "version_major": 2,
       "version_minor": 0
      },
      "text/plain": [
       "HBox(children=(IntProgress(value=0, max=1277), HTML(value='')))"
      ]
     },
     "metadata": {},
     "output_type": "display_data"
    },
    {
     "name": "stdout",
     "output_type": "stream",
     "text": [
      "T_0 [K]:  20.423680358064402\n",
      "T_BR Below Threshold\n",
      "log10(param):  -25.0\n"
     ]
    },
    {
     "data": {
      "application/vnd.jupyter.widget-view+json": {
       "model_id": "5d060ab4c4b240b58e5f6f424531c423",
       "version_major": 2,
       "version_minor": 0
      },
      "text/plain": [
       "HBox(children=(IntProgress(value=0, max=1277), HTML(value='')))"
      ]
     },
     "metadata": {},
     "output_type": "display_data"
    },
    {
     "name": "stdout",
     "output_type": "stream",
     "text": [
      "T_0 [K]:  26.895014185233403\n",
      "T_BR Above Threshold\n",
      "log10(mDM):  12.0\n",
      "log10(param):  -25.0\n"
     ]
    },
    {
     "data": {
      "application/vnd.jupyter.widget-view+json": {
       "model_id": "3a2f926f13c44fde90ef548048da6a33",
       "version_major": 2,
       "version_minor": 0
      },
      "text/plain": [
       "HBox(children=(IntProgress(value=0, max=1277), HTML(value='')))"
      ]
     },
     "metadata": {},
     "output_type": "display_data"
    },
    {
     "name": "stdout",
     "output_type": "stream",
     "text": [
      "T_0 [K]:  26.661561210143308\n",
      "T_BR Above Threshold\n",
      "log10(param):  -25.25\n"
     ]
    },
    {
     "data": {
      "application/vnd.jupyter.widget-view+json": {
       "model_id": "0a6c1eba9a8246a583a7493301599707",
       "version_major": 2,
       "version_minor": 0
      },
      "text/plain": [
       "HBox(children=(IntProgress(value=0, max=1277), HTML(value='')))"
      ]
     },
     "metadata": {},
     "output_type": "display_data"
    },
    {
     "name": "stdout",
     "output_type": "stream",
     "text": [
      "T_0 [K]:  20.271624834890606\n",
      "T_BR Below Threshold\n",
      "log10(mDM):  12.25\n",
      "log10(param):  -25.25\n"
     ]
    },
    {
     "data": {
      "application/vnd.jupyter.widget-view+json": {
       "model_id": "e3ef671017fb42b6b0a93feb413e990e",
       "version_major": 2,
       "version_minor": 0
      },
      "text/plain": [
       "HBox(children=(IntProgress(value=0, max=1277), HTML(value='')))"
      ]
     },
     "metadata": {},
     "output_type": "display_data"
    },
    {
     "name": "stdout",
     "output_type": "stream",
     "text": [
      "T_0 [K]:  20.633720051225218\n",
      "T_BR Above Threshold\n",
      "log10(param):  -25.5\n"
     ]
    },
    {
     "data": {
      "application/vnd.jupyter.widget-view+json": {
       "model_id": "2403f909ad7e4781a4b3486c7ac0bbac",
       "version_major": 2,
       "version_minor": 0
      },
      "text/plain": [
       "HBox(children=(IntProgress(value=0, max=1277), HTML(value='')))"
      ]
     },
     "metadata": {},
     "output_type": "display_data"
    },
    {
     "name": "stdout",
     "output_type": "stream",
     "text": [
      "T_0 [K]:  16.500943324947283\n",
      "T_BR Below Threshold\n",
      "\n"
     ]
    }
   ],
   "source": [
    "%autoreload\n",
    "T_IGM_17_BR = np.zeros((log10mDM_arr.size, log10_param.size))\n",
    "param_guess = thresh_params_std[0]\n",
    "\n",
    "for i, log10mDM in enumerate(tqdm(log10mDM_arr)):\n",
    "    print('log10(mDM): ', log10mDM)\n",
    "    mDM = 10**log10mDM\n",
    "    j=len(log10_param[log10_param < param_guess])\n",
    "    above=False\n",
    "    below=False\n",
    "\n",
    "    while((not below) or (not above)):\n",
    "        log10_p = log10_param[j]\n",
    "        print('log10(param): ', log10_p)\n",
    "\n",
    "        T_BR = get_T(mDM, log10_p, False)\n",
    "        T_IGM_17_BR[i,j] = T_BR\n",
    "        print('T_0 [K]: ', T_BR)\n",
    "\n",
    "        if T_BR > Tm_bnd:\n",
    "            above = True\n",
    "            print(\"T_BR Above Threshold\")\n",
    "            j = j-1\n",
    "        else:\n",
    "            below = True\n",
    "            print(\"T_BR Below Threshold\")\n",
    "            j = j+1\n",
    "        param_guess = log10_p\n",
    "        \n",
    "                    \n",
    "pickle.dump(\n",
    "    T_IGM_17_BR, \n",
    "    open('/Users/gridgway/Desktop/T_IGM_17_'+\n",
    "         inj_str+'_'+inj_type+'_BR_coarsen'+str(coarsen_factor)+'.dat','wb')\n",
    ")"
   ]
  },
  {
   "cell_type": "markdown",
   "metadata": {},
   "source": [
    "### Plots"
   ]
  },
  {
   "cell_type": "code",
   "execution_count": 445,
   "metadata": {},
   "outputs": [],
   "source": [
    "# inj_particle = 'electron'\n",
    "# inj_str = inj_particle[:4]\n",
    "# inj_type = 'swave'\n",
    "# coarsen_factor=12\n",
    "# T_IGM_17_std = pickle.load(\n",
    "#     open('/Users/gridgway/Desktop/T_IGM_17_elec_swave_std_coarsen12.dat','rb')\n",
    "# )"
   ]
  },
  {
   "cell_type": "code",
   "execution_count": 698,
   "metadata": {},
   "outputs": [],
   "source": [
    "thresh_params_BR = np.array([find_param(row) for row in T_IGM_17_BR])\n",
    "\n",
    "std_interp = interp1d(log10mDM_arr, thresh_params_std, kind='quadratic')\n",
    "BR_interp = interp1d(log10mDM_arr, thresh_params_BR, kind='quadratic')"
   ]
  },
  {
   "cell_type": "code",
   "execution_count": 703,
   "metadata": {
    "scrolled": false
   },
   "outputs": [
    {
     "data": {
      "image/png": "[encoded data removed]",
      "text/plain": [
       "<Figure size 720x720 with 1 Axes>"
      ]
     },
     "metadata": {},
     "output_type": "display_data"
    }
   ],
   "source": [
    "plt.figure()\n",
    "ax = plt.gca()\n",
    "ax.loglog()\n",
    "\n",
    "xmin = 10**log10mDM_arr_fine[0]/1e9\n",
    "xmax = 10**log10mDM_arr_fine[-1]/1e9\n",
    "\n",
    "if inj_particle=='electron':\n",
    "    plt.title(r'\\bf{21-cm Sensitivity,} $\\chi \\chi \\to e^+ e^-$')\n",
    "    ymin = 5e-29\n",
    "    ymax = 1e-25\n",
    "else:\n",
    "    plt.title(r'\\bf{21-cm Sensitivity,} $\\chi\\chi \\to \\gamma\\gamma$')\n",
    "    ymin = 3e-27\n",
    "    ymax = 1.5e-25\n",
    "    \n",
    "plt.xlabel(r'Dark Matter Mass $m_\\chi$ [eV]')\n",
    "plt.ylabel(r'Maximum $\\langle \\sigma v \\rangle / m_\\chi \\, [\\mathrm{ cm^2 / s / GeV}]$')\n",
    "plt.axis([xmin, xmax, ymin, ymax])\n",
    "\n",
    "plt_std, = plt.plot(10**log10mDM_arr_fine/1e9, 10**std_interp(log10mDM_arr_fine), \n",
    "        linewidth=2, label='w/o back-reaction', color='C1')\n",
    "plt_BR, = plt.plot(10**log10mDM_arr_fine/1e9, 10**BR_interp(log10mDM_arr_fine), \n",
    "         linewidth=3, label='w/ back-reaction', color='C3')\n",
    "\n",
    "ax.fill_between(\n",
    "    10**log10mDM_arr_fine/1e9, \n",
    "    1e-15, \n",
    "    (10**BR_interp(log10mDM_arr_fine)), \n",
    "    interpolate=True, \n",
    "    color='C3',\n",
    "    alpha=.05\n",
    ")\n",
    "\n",
    "leg = plt.legend(handles=[plt_std, plt_BR],\n",
    "                 fontsize=20,\n",
    "          title='$T_{21} = -50$mK')\n",
    "plt.setp(leg.get_title(), fontsize=26)\n",
    "\n",
    "plt.savefig('/Users/gridgway/Dropbox (MIT)/Photon Deposition/Draft/plots/'+\n",
    "            'DarkHistory_21cm_Sensitivity_'+inj_type+'_'+inj_str+'.png')"
   ]
  },
  {
   "cell_type": "markdown",
   "metadata": {},
   "source": [
    "# Decay"
   ]
  },
  {
   "cell_type": "code",
   "execution_count": 673,
   "metadata": {},
   "outputs": [],
   "source": [
    "inj_particle = 'photon'\n",
    "inj_str = inj_particle[:4]\n",
    "inj_type = 'decay'\n",
    "\n",
    "if inj_type == 'swave':\n",
    "    struct_boost = struct_boost_einasto\n",
    "    struct_func = struct_boost\n",
    "else:\n",
    "    def struct_boost(rs):\n",
    "        return 1\n",
    "    struct_func = None\n",
    "    \n",
    "if inj_particle == 'photon':\n",
    "    mass = 0\n",
    "    coarsen_factor=4\n",
    "else:\n",
    "    mass = phys.me\n",
    "    coarsen_factor=12\n",
    "    \n",
    "end_rs = 18.2\n",
    "rs_init = 3000"
   ]
  },
  {
   "cell_type": "code",
   "execution_count": 674,
   "metadata": {},
   "outputs": [],
   "source": [
    "def get_T(mDM, log10_p, std_soln):\n",
    "    if inj_type == 'decay':\n",
    "        Einj = mDM/2-mass\n",
    "        Ecom=mDM\n",
    "    if inj_type == 'swave':\n",
    "        Einj = mDM - mass\n",
    "        Ecom = 2*mDM\n",
    "\n",
    "    if inj_particle == 'photon':\n",
    "        Etmp = photeng[photeng < Einj][-1]\n",
    "        phot_spec_init = spectools.rebin_N_arr(\n",
    "            np.array([2*Einj/Etmp]),\n",
    "            np.array([Etmp]),\n",
    "            photeng\n",
    "        )\n",
    "        phot_spec_init.rs = rs_init\n",
    "        phot_spec_init.switch_spec_type()\n",
    "\n",
    "        elec_spec_init = Spectrum(eleceng,\n",
    "                                 np.zeros_like(eleceng),\n",
    "                                 spec_type='N',\n",
    "                                 rs=rs_init)\n",
    "    else:\n",
    "        Etmp = eleceng[eleceng < Einj][-1]\n",
    "        elec_spec_init = spectools.rebin_N_arr(\n",
    "            np.array([2*Einj/Etmp]),\n",
    "            np.array([Etmp]),\n",
    "            eleceng\n",
    "        )\n",
    "        elec_spec_init.rs = rs_init\n",
    "        elec_spec_init.switch_spec_type()\n",
    "\n",
    "        phot_spec_init = Spectrum(photeng,\n",
    "                                 np.zeros_like(photeng),\n",
    "                                 spec_type='N',\n",
    "                                 rs=rs_init)\n",
    "\n",
    "    def rate_func_N(rs):\n",
    "        return phys.inj_rate(inj_type, rs, mDM=mDM, tau=10**log10_p, sigmav=10**log10_p*mDM/1e9)*struct_boost(rs)/Ecom\n",
    "    def rate_func_eng(rs):\n",
    "        return phys.inj_rate(inj_type, rs, mDM=mDM, tau=10**log10_p, sigmav=10**log10_p*mDM/1e9)*struct_boost(rs)\n",
    "\n",
    "    a = main.evolve(\n",
    "        elec_spec_init, phot_spec_init,\n",
    "        rate_func_N, rate_func_eng, end_rs,\n",
    "        highengphot_tf_interp, lowengphot_tf_interp, lowengelec_tf_interp,\n",
    "        highengdep_interp, CMB_engloss_interp,\n",
    "        ics_thomson_ref_tf, ics_rel_ref_tf, engloss_ref_tf,\n",
    "        coarsen_factor=coarsen_factor, std_soln=std_soln,\n",
    "        reion_switch=False,\n",
    "        struct_boost=struct_func,\n",
    "        ics_only=False, separate_higheng=True, CMB_subtracted=CMB_subtracted,\n",
    "        user=None, verbose=False, \n",
    "        use_tqdm=True\n",
    "    )\n",
    "    return a[1][-1]/phys.kB"
   ]
  },
  {
   "cell_type": "code",
   "execution_count": 709,
   "metadata": {},
   "outputs": [],
   "source": [
    "%autoreload\n",
    "step = .25\n",
    "if inj_particle == 'photon':\n",
    "    mbnds = [4,12.5]\n",
    "    log10mDM_arr = np.arange(mbnds[0], mbnds[1], step)\n",
    "\n",
    "    if inj_type == 'decay':\n",
    "        parambnds = [23,28.25 + step] #tau\n",
    "        param_guess = 27\n",
    "    else:\n",
    "        parambnds = [-28,-25 + step] # sigma v / mDM\n",
    "        param_guess = -27\n",
    "else:\n",
    "    mbnds = [6.01,12.51]\n",
    "    log10mDM_arr = np.arange(mbnds[0], mbnds[1], step)\n",
    "\n",
    "    if inj_type == 'decay':\n",
    "        parambnds = [24,28.25 + step]\n",
    "        param_guess = 27\n",
    "    else:    \n",
    "        parambnds = [-30.5,-24.5 + step]\n",
    "        param_guess = -26\n",
    "    \n",
    "log10_param = np.arange(parambnds[0], parambnds[1], step)"
   ]
  },
  {
   "cell_type": "code",
   "execution_count": 676,
   "metadata": {},
   "outputs": [
    {
     "name": "stdout",
     "output_type": "stream",
     "text": [
      "T_m <  20.470087738353026 K\n"
     ]
    }
   ],
   "source": [
    "T_21 = -50 #in mK\n",
    "tmp_xe = xe_std(end_rs)\n",
    "num = np.sqrt(.15/10/phys.omega_m*end_rs)*(phys.omega_baryon*phys.h/.02)*(1-tmp_xe)*23\n",
    "one_minus_ratio = T_21 / num\n",
    "Tm_bnd = phys.TCMB(end_rs)/(1-one_minus_ratio)/phys.kB\n",
    "print(\"T_m < \", Tm_bnd, \"K\")"
   ]
  },
  {
   "cell_type": "code",
   "execution_count": 677,
   "metadata": {
    "collapsed": true
   },
   "outputs": [
    {
     "data": {
      "application/vnd.jupyter.widget-view+json": {
       "model_id": "cc5b69ef0c4f4a27a712ca0cd374214f",
       "version_major": 2,
       "version_minor": 0
      },
      "text/plain": [
       "HBox(children=(IntProgress(value=0, max=34), HTML(value='')))"
      ]
     },
     "metadata": {},
     "output_type": "display_data"
    },
    {
     "name": "stdout",
     "output_type": "stream",
     "text": [
      "log10(mDM):  4.0\n",
      "log10(param):  27.0\n"
     ]
    },
    {
     "data": {
      "application/vnd.jupyter.widget-view+json": {
       "model_id": "b6a9422d02854ee0b7b2bb83279ac62b",
       "version_major": 2,
       "version_minor": 0
      },
      "text/plain": [
       "HBox(children=(IntProgress(value=0, max=1277), HTML(value='')))"
      ]
     },
     "metadata": {},
     "output_type": "display_data"
    },
    {
     "name": "stdout",
     "output_type": "stream",
     "text": [
      "T_0 [K]:  10.605130663955412\n",
      "T_std Below Threshold\n",
      "log10(param):  26.75\n"
     ]
    },
    {
     "data": {
      "application/vnd.jupyter.widget-view+json": {
       "model_id": "8cf41bc6c51a4443a67f8eb43fcee2d6",
       "version_major": 2,
       "version_minor": 0
      },
      "text/plain": [
       "HBox(children=(IntProgress(value=0, max=1277), HTML(value='')))"
      ]
     },
     "metadata": {},
     "output_type": "display_data"
    },
    {
     "name": "stdout",
     "output_type": "stream",
     "text": [
      "T_0 [K]:  13.32413287312343\n",
      "T_std Below Threshold\n",
      "log10(param):  26.5\n"
     ]
    },
    {
     "data": {
      "application/vnd.jupyter.widget-view+json": {
       "model_id": "3b46558baf244b2f9d534ffbf5ff9372",
       "version_major": 2,
       "version_minor": 0
      },
      "text/plain": [
       "HBox(children=(IntProgress(value=0, max=1277), HTML(value='')))"
      ]
     },
     "metadata": {},
     "output_type": "display_data"
    },
    {
     "name": "stdout",
     "output_type": "stream",
     "text": [
      "T_0 [K]:  18.090003094790653\n",
      "T_std Below Threshold\n",
      "log10(param):  26.25\n"
     ]
    },
    {
     "data": {
      "application/vnd.jupyter.widget-view+json": {
       "model_id": "3a5893c97b9e4959ae916693cf972cae",
       "version_major": 2,
       "version_minor": 0
      },
      "text/plain": [
       "HBox(children=(IntProgress(value=0, max=1277), HTML(value='')))"
      ]
     },
     "metadata": {},
     "output_type": "display_data"
    },
    {
     "name": "stdout",
     "output_type": "stream",
     "text": [
      "T_0 [K]:  26.361752018681965\n",
      "T_std Above Threshold\n",
      "log10(mDM):  4.25\n",
      "log10(param):  26.25\n"
     ]
    },
    {
     "data": {
      "application/vnd.jupyter.widget-view+json": {
       "model_id": "21bf955343a74344af46f98f329a9946",
       "version_major": 2,
       "version_minor": 0
      },
      "text/plain": [
       "HBox(children=(IntProgress(value=0, max=1277), HTML(value='')))"
      ]
     },
     "metadata": {},
     "output_type": "display_data"
    },
    {
     "name": "stdout",
     "output_type": "stream",
     "text": [
      "T_0 [K]:  14.12077463402651\n",
      "T_std Below Threshold\n",
      "log10(param):  26.0\n"
     ]
    },
    {
     "data": {
      "application/vnd.jupyter.widget-view+json": {
       "model_id": "f2d86f0fde50437b9a69467a97e03209",
       "version_major": 2,
       "version_minor": 0
      },
      "text/plain": [
       "HBox(children=(IntProgress(value=0, max=1277), HTML(value='')))"
      ]
     },
     "metadata": {},
     "output_type": "display_data"
    },
    {
     "name": "stdout",
     "output_type": "stream",
     "text": [
      "T_0 [K]:  19.426565526437482\n",
      "T_std Below Threshold\n",
      "log10(param):  25.75\n"
     ]
    },
    {
     "data": {
      "application/vnd.jupyter.widget-view+json": {
       "model_id": "76c47a0351cb42789cfecf6088533f82",
       "version_major": 2,
       "version_minor": 0
      },
      "text/plain": [
       "HBox(children=(IntProgress(value=0, max=1277), HTML(value='')))"
      ]
     },
     "metadata": {},
     "output_type": "display_data"
    },
    {
     "name": "stdout",
     "output_type": "stream",
     "text": [
      "T_0 [K]:  28.542599603898562\n",
      "T_std Above Threshold\n",
      "log10(mDM):  4.5\n",
      "log10(param):  25.75\n"
     ]
    },
    {
     "data": {
      "application/vnd.jupyter.widget-view+json": {
       "model_id": "3ba94ff7b1a046308077b23eb6fddefc",
       "version_major": 2,
       "version_minor": 0
      },
      "text/plain": [
       "HBox(children=(IntProgress(value=0, max=1277), HTML(value='')))"
      ]
     },
     "metadata": {},
     "output_type": "display_data"
    },
    {
     "name": "stdout",
     "output_type": "stream",
     "text": [
      "T_0 [K]:  14.952230448498515\n",
      "T_std Below Threshold\n",
      "log10(param):  25.5\n"
     ]
    },
    {
     "data": {
      "application/vnd.jupyter.widget-view+json": {
       "model_id": "81990a1b51d546988363308858ade385",
       "version_major": 2,
       "version_minor": 0
      },
      "text/plain": [
       "HBox(children=(IntProgress(value=0, max=1277), HTML(value='')))"
      ]
     },
     "metadata": {},
     "output_type": "display_data"
    },
    {
     "name": "stdout",
     "output_type": "stream",
     "text": [
      "T_0 [K]:  20.75209119432511\n",
      "T_std Above Threshold\n",
      "log10(mDM):  4.75\n",
      "log10(param):  25.5\n"
     ]
    },
    {
     "data": {
      "application/vnd.jupyter.widget-view+json": {
       "model_id": "d5ac93649b9a4edcb0926bbe72d9a3d4",
       "version_major": 2,
       "version_minor": 0
      },
      "text/plain": [
       "HBox(children=(IntProgress(value=0, max=1277), HTML(value='')))"
      ]
     },
     "metadata": {},
     "output_type": "display_data"
    },
    {
     "name": "stdout",
     "output_type": "stream",
     "text": [
      "T_0 [K]:  16.425064555076748\n",
      "T_std Below Threshold\n",
      "log10(param):  25.25\n"
     ]
    },
    {
     "data": {
      "application/vnd.jupyter.widget-view+json": {
       "model_id": "d3b49dcd25d541bfb360ecb0d69d772d",
       "version_major": 2,
       "version_minor": 0
      },
      "text/plain": [
       "HBox(children=(IntProgress(value=0, max=1277), HTML(value='')))"
      ]
     },
     "metadata": {},
     "output_type": "display_data"
    },
    {
     "name": "stdout",
     "output_type": "stream",
     "text": [
      "T_0 [K]:  23.114305113871175\n",
      "T_std Above Threshold\n",
      "log10(mDM):  5.0\n",
      "log10(param):  25.25\n"
     ]
    },
    {
     "data": {
      "application/vnd.jupyter.widget-view+json": {
       "model_id": "0eb1e7b766e143b1a7ba57b06bcfe2cc",
       "version_major": 2,
       "version_minor": 0
      },
      "text/plain": [
       "HBox(children=(IntProgress(value=0, max=1277), HTML(value='')))"
      ]
     },
     "metadata": {},
     "output_type": "display_data"
    },
    {
     "name": "stdout",
     "output_type": "stream",
     "text": [
      "T_0 [K]:  24.371343458424565\n",
      "T_std Above Threshold\n",
      "log10(param):  25.5\n"
     ]
    },
    {
     "data": {
      "application/vnd.jupyter.widget-view+json": {
       "model_id": "b9fdd9dbae1c44afb2da16a2ee61d433",
       "version_major": 2,
       "version_minor": 0
      },
      "text/plain": [
       "HBox(children=(IntProgress(value=0, max=1277), HTML(value='')))"
      ]
     },
     "metadata": {},
     "output_type": "display_data"
    },
    {
     "name": "stdout",
     "output_type": "stream",
     "text": [
      "T_0 [K]:  17.235450913602705\n",
      "T_std Below Threshold\n",
      "log10(mDM):  5.25\n",
      "log10(param):  25.5\n"
     ]
    },
    {
     "data": {
      "application/vnd.jupyter.widget-view+json": {
       "model_id": "ba5fc22adc6a444695a146a46bee74f2",
       "version_major": 2,
       "version_minor": 0
      },
      "text/plain": [
       "HBox(children=(IntProgress(value=0, max=1277), HTML(value='')))"
      ]
     },
     "metadata": {},
     "output_type": "display_data"
    },
    {
     "name": "stdout",
     "output_type": "stream",
     "text": [
      "T_0 [K]:  19.241204570810783\n",
      "T_std Below Threshold\n",
      "log10(param):  25.25\n"
     ]
    },
    {
     "data": {
      "application/vnd.jupyter.widget-view+json": {
       "model_id": "2ddaaa97e2224af4bfce81cf48d7cd63",
       "version_major": 2,
       "version_minor": 0
      },
      "text/plain": [
       "HBox(children=(IntProgress(value=0, max=1277), HTML(value='')))"
      ]
     },
     "metadata": {},
     "output_type": "display_data"
    },
    {
     "name": "stdout",
     "output_type": "stream",
     "text": [
      "T_0 [K]:  27.684526223155647\n",
      "T_std Above Threshold\n",
      "log10(mDM):  5.5\n",
      "log10(param):  25.25\n"
     ]
    },
    {
     "data": {
      "application/vnd.jupyter.widget-view+json": {
       "model_id": "a0560a214be64b10a328c1a024b30d53",
       "version_major": 2,
       "version_minor": 0
      },
      "text/plain": [
       "HBox(children=(IntProgress(value=0, max=1277), HTML(value='')))"
      ]
     },
     "metadata": {},
     "output_type": "display_data"
    },
    {
     "name": "stdout",
     "output_type": "stream",
     "text": [
      "T_0 [K]:  30.668077998119614\n",
      "T_std Above Threshold\n",
      "log10(param):  25.5\n"
     ]
    },
    {
     "data": {
      "application/vnd.jupyter.widget-view+json": {
       "model_id": "bd23533b05ac4ee8853b6d47440b2122",
       "version_major": 2,
       "version_minor": 0
      },
      "text/plain": [
       "HBox(children=(IntProgress(value=0, max=1277), HTML(value='')))"
      ]
     },
     "metadata": {},
     "output_type": "display_data"
    },
    {
     "name": "stdout",
     "output_type": "stream",
     "text": [
      "T_0 [K]:  20.974826653801028\n",
      "T_std Above Threshold\n",
      "log10(param):  25.75\n"
     ]
    },
    {
     "data": {
      "application/vnd.jupyter.widget-view+json": {
       "model_id": "5342147893404ff7a16620a6fb413518",
       "version_major": 2,
       "version_minor": 0
      },
      "text/plain": [
       "HBox(children=(IntProgress(value=0, max=1277), HTML(value='')))"
      ]
     },
     "metadata": {},
     "output_type": "display_data"
    },
    {
     "name": "stdout",
     "output_type": "stream",
     "text": [
      "T_0 [K]:  15.154035069430853\n",
      "T_std Below Threshold\n",
      "log10(mDM):  5.75\n",
      "log10(param):  25.75\n"
     ]
    },
    {
     "data": {
      "application/vnd.jupyter.widget-view+json": {
       "model_id": "a96c424586a54e8994156eb9871a5305",
       "version_major": 2,
       "version_minor": 0
      },
      "text/plain": [
       "HBox(children=(IntProgress(value=0, max=1277), HTML(value='')))"
      ]
     },
     "metadata": {},
     "output_type": "display_data"
    },
    {
     "name": "stdout",
     "output_type": "stream",
     "text": [
      "T_0 [K]:  14.847699584695073\n",
      "T_std Below Threshold\n",
      "log10(param):  25.5\n"
     ]
    },
    {
     "data": {
      "application/vnd.jupyter.widget-view+json": {
       "model_id": "4f33c96c615542e381e81d9654dc5d01",
       "version_major": 2,
       "version_minor": 0
      },
      "text/plain": [
       "HBox(children=(IntProgress(value=0, max=1277), HTML(value='')))"
      ]
     },
     "metadata": {},
     "output_type": "display_data"
    },
    {
     "name": "stdout",
     "output_type": "stream",
     "text": [
      "T_0 [K]:  20.52703882410808\n",
      "T_std Above Threshold\n",
      "log10(mDM):  6.0\n",
      "log10(param):  25.5\n"
     ]
    },
    {
     "data": {
      "application/vnd.jupyter.widget-view+json": {
       "model_id": "400ddb8e2677449fabc13c6330056189",
       "version_major": 2,
       "version_minor": 0
      },
      "text/plain": [
       "HBox(children=(IntProgress(value=0, max=1277), HTML(value='')))"
      ]
     },
     "metadata": {},
     "output_type": "display_data"
    },
    {
     "name": "stdout",
     "output_type": "stream",
     "text": [
      "T_0 [K]:  17.550856498628637\n",
      "T_std Below Threshold\n",
      "log10(param):  25.25\n"
     ]
    },
    {
     "data": {
      "application/vnd.jupyter.widget-view+json": {
       "model_id": "f343a4aa593e4dc69990c7ad44a40981",
       "version_major": 2,
       "version_minor": 0
      },
      "text/plain": [
       "HBox(children=(IntProgress(value=0, max=1277), HTML(value='')))"
      ]
     },
     "metadata": {},
     "output_type": "display_data"
    },
    {
     "name": "stdout",
     "output_type": "stream",
     "text": [
      "T_0 [K]:  25.179789477251614\n",
      "T_std Above Threshold\n",
      "log10(mDM):  6.25\n",
      "log10(param):  25.25\n"
     ]
    },
    {
     "data": {
      "application/vnd.jupyter.widget-view+json": {
       "model_id": "f31cd75dcd84493ba14c151cf2ad132a",
       "version_major": 2,
       "version_minor": 0
      },
      "text/plain": [
       "HBox(children=(IntProgress(value=0, max=1277), HTML(value='')))"
      ]
     },
     "metadata": {},
     "output_type": "display_data"
    },
    {
     "name": "stdout",
     "output_type": "stream",
     "text": [
      "T_0 [K]:  19.412863318860115\n",
      "T_std Below Threshold\n",
      "log10(param):  25.0\n"
     ]
    },
    {
     "data": {
      "application/vnd.jupyter.widget-view+json": {
       "model_id": "d20c06fa3396464d90ce2e674e6f0906",
       "version_major": 2,
       "version_minor": 0
      },
      "text/plain": [
       "HBox(children=(IntProgress(value=0, max=1277), HTML(value='')))"
      ]
     },
     "metadata": {},
     "output_type": "display_data"
    },
    {
     "name": "stdout",
     "output_type": "stream",
     "text": [
      "T_0 [K]:  28.381316656260662\n",
      "T_std Above Threshold\n",
      "log10(mDM):  6.5\n",
      "log10(param):  25.0\n"
     ]
    },
    {
     "data": {
      "application/vnd.jupyter.widget-view+json": {
       "model_id": "cc08fbe762084675bc5e4dad1fed1d26",
       "version_major": 2,
       "version_minor": 0
      },
      "text/plain": [
       "HBox(children=(IntProgress(value=0, max=1277), HTML(value='')))"
      ]
     },
     "metadata": {},
     "output_type": "display_data"
    },
    {
     "name": "stdout",
     "output_type": "stream",
     "text": [
      "T_0 [K]:  19.002392184345123\n",
      "T_std Below Threshold\n",
      "log10(param):  24.75\n"
     ]
    },
    {
     "data": {
      "application/vnd.jupyter.widget-view+json": {
       "model_id": "d9306f853b294de1a817f2ca1f287427",
       "version_major": 2,
       "version_minor": 0
      },
      "text/plain": [
       "HBox(children=(IntProgress(value=0, max=1277), HTML(value='')))"
      ]
     },
     "metadata": {},
     "output_type": "display_data"
    },
    {
     "name": "stdout",
     "output_type": "stream",
     "text": [
      "T_0 [K]:  27.690291398870404\n",
      "T_std Above Threshold\n",
      "log10(mDM):  6.75\n",
      "log10(param):  24.75\n"
     ]
    },
    {
     "data": {
      "application/vnd.jupyter.widget-view+json": {
       "model_id": "107ef1547f04401d8e96cbf49c90cb05",
       "version_major": 2,
       "version_minor": 0
      },
      "text/plain": [
       "HBox(children=(IntProgress(value=0, max=1277), HTML(value='')))"
      ]
     },
     "metadata": {},
     "output_type": "display_data"
    },
    {
     "name": "stdout",
     "output_type": "stream",
     "text": [
      "T_0 [K]:  18.893413356321542\n",
      "T_std Below Threshold\n",
      "log10(param):  24.5\n"
     ]
    },
    {
     "data": {
      "application/vnd.jupyter.widget-view+json": {
       "model_id": "959e180fe991447b8d668e2c848ab76a",
       "version_major": 2,
       "version_minor": 0
      },
      "text/plain": [
       "HBox(children=(IntProgress(value=0, max=1277), HTML(value='')))"
      ]
     },
     "metadata": {},
     "output_type": "display_data"
    },
    {
     "name": "stdout",
     "output_type": "stream",
     "text": [
      "T_0 [K]:  27.205853493972903\n",
      "T_std Above Threshold\n",
      "log10(mDM):  7.0\n",
      "log10(param):  24.5\n"
     ]
    },
    {
     "data": {
      "application/vnd.jupyter.widget-view+json": {
       "model_id": "08df2f7958494958ba2ba71bcd8b1cb5",
       "version_major": 2,
       "version_minor": 0
      },
      "text/plain": [
       "HBox(children=(IntProgress(value=0, max=1277), HTML(value='')))"
      ]
     },
     "metadata": {},
     "output_type": "display_data"
    },
    {
     "name": "stdout",
     "output_type": "stream",
     "text": [
      "T_0 [K]:  19.679456251117845\n",
      "T_std Below Threshold\n",
      "log10(param):  24.25\n"
     ]
    },
    {
     "data": {
      "application/vnd.jupyter.widget-view+json": {
       "model_id": "9c4e82835ecc456ab22f8494b04da740",
       "version_major": 2,
       "version_minor": 0
      },
      "text/plain": [
       "HBox(children=(IntProgress(value=0, max=1277), HTML(value='')))"
      ]
     },
     "metadata": {},
     "output_type": "display_data"
    },
    {
     "name": "stdout",
     "output_type": "stream",
     "text": [
      "T_0 [K]:  27.24195436329243\n",
      "T_std Above Threshold\n",
      "log10(mDM):  7.25\n",
      "log10(param):  24.25\n"
     ]
    },
    {
     "data": {
      "application/vnd.jupyter.widget-view+json": {
       "model_id": "b52d982b618c470f9c833fb02c07ff48",
       "version_major": 2,
       "version_minor": 0
      },
      "text/plain": [
       "HBox(children=(IntProgress(value=0, max=1277), HTML(value='')))"
      ]
     },
     "metadata": {},
     "output_type": "display_data"
    },
    {
     "name": "stdout",
     "output_type": "stream",
     "text": [
      "T_0 [K]:  24.491041745274465\n",
      "T_std Above Threshold\n",
      "log10(param):  24.5\n"
     ]
    },
    {
     "data": {
      "application/vnd.jupyter.widget-view+json": {
       "model_id": "bda9a11531d14b4d85da9aa4000add11",
       "version_major": 2,
       "version_minor": 0
      },
      "text/plain": [
       "HBox(children=(IntProgress(value=0, max=1277), HTML(value='')))"
      ]
     },
     "metadata": {},
     "output_type": "display_data"
    },
    {
     "name": "stdout",
     "output_type": "stream",
     "text": [
      "T_0 [K]:  18.88350194409202\n",
      "T_std Below Threshold\n",
      "log10(mDM):  7.5\n",
      "log10(param):  24.5\n"
     ]
    },
    {
     "data": {
      "application/vnd.jupyter.widget-view+json": {
       "model_id": "3395e56e4eb94cc58517d71ffc9b8208",
       "version_major": 2,
       "version_minor": 0
      },
      "text/plain": [
       "HBox(children=(IntProgress(value=0, max=1277), HTML(value='')))"
      ]
     },
     "metadata": {},
     "output_type": "display_data"
    },
    {
     "name": "stdout",
     "output_type": "stream",
     "text": [
      "T_0 [K]:  26.264713667616608\n",
      "T_std Above Threshold\n",
      "log10(param):  24.75\n"
     ]
    },
    {
     "data": {
      "application/vnd.jupyter.widget-view+json": {
       "model_id": "8c8cf5846d234ee0a65df468896092f2",
       "version_major": 2,
       "version_minor": 0
      },
      "text/plain": [
       "HBox(children=(IntProgress(value=0, max=1277), HTML(value='')))"
      ]
     },
     "metadata": {},
     "output_type": "display_data"
    },
    {
     "name": "stdout",
     "output_type": "stream",
     "text": [
      "T_0 [K]:  19.634314547134064\n",
      "T_std Below Threshold\n",
      "log10(mDM):  7.75\n",
      "log10(param):  24.75\n"
     ]
    },
    {
     "data": {
      "application/vnd.jupyter.widget-view+json": {
       "model_id": "fc48b6ff90284068a61b5c455990c6ac",
       "version_major": 2,
       "version_minor": 0
      },
      "text/plain": [
       "HBox(children=(IntProgress(value=0, max=1277), HTML(value='')))"
      ]
     },
     "metadata": {},
     "output_type": "display_data"
    },
    {
     "name": "stdout",
     "output_type": "stream",
     "text": [
      "T_0 [K]:  26.784790679774872\n",
      "T_std Above Threshold\n",
      "log10(param):  25.0\n"
     ]
    },
    {
     "data": {
      "application/vnd.jupyter.widget-view+json": {
       "model_id": "9592820ca0a54290b52281d037e226db",
       "version_major": 2,
       "version_minor": 0
      },
      "text/plain": [
       "HBox(children=(IntProgress(value=0, max=1277), HTML(value='')))"
      ]
     },
     "metadata": {},
     "output_type": "display_data"
    },
    {
     "name": "stdout",
     "output_type": "stream",
     "text": [
      "T_0 [K]:  19.31777694366554\n",
      "T_std Below Threshold\n",
      "log10(mDM):  8.0\n",
      "log10(param):  25.0\n"
     ]
    },
    {
     "data": {
      "application/vnd.jupyter.widget-view+json": {
       "model_id": "62e7c99b3037486d99e7eea074b48c70",
       "version_major": 2,
       "version_minor": 0
      },
      "text/plain": [
       "HBox(children=(IntProgress(value=0, max=1277), HTML(value='')))"
      ]
     },
     "metadata": {},
     "output_type": "display_data"
    },
    {
     "name": "stdout",
     "output_type": "stream",
     "text": [
      "T_0 [K]:  21.541408333983693\n",
      "T_std Above Threshold\n",
      "log10(param):  25.25\n"
     ]
    },
    {
     "data": {
      "application/vnd.jupyter.widget-view+json": {
       "model_id": "fa230eb33f934f05a7941b8b7d4eba9c",
       "version_major": 2,
       "version_minor": 0
      },
      "text/plain": [
       "HBox(children=(IntProgress(value=0, max=1277), HTML(value='')))"
      ]
     },
     "metadata": {},
     "output_type": "display_data"
    },
    {
     "name": "stdout",
     "output_type": "stream",
     "text": [
      "T_0 [K]:  15.766867956702601\n",
      "T_std Below Threshold\n",
      "log10(mDM):  8.25\n",
      "log10(param):  25.25\n"
     ]
    },
    {
     "data": {
      "application/vnd.jupyter.widget-view+json": {
       "model_id": "c0f019b97dbf4795b9396fce740d1ff9",
       "version_major": 2,
       "version_minor": 0
      },
      "text/plain": [
       "HBox(children=(IntProgress(value=0, max=1277), HTML(value='')))"
      ]
     },
     "metadata": {},
     "output_type": "display_data"
    },
    {
     "name": "stdout",
     "output_type": "stream",
     "text": [
      "T_0 [K]:  16.22409774526646\n",
      "T_std Below Threshold\n",
      "log10(param):  25.0\n"
     ]
    },
    {
     "data": {
      "application/vnd.jupyter.widget-view+json": {
       "model_id": "10636bf6740c4d86a20d651d3a61a121",
       "version_major": 2,
       "version_minor": 0
      },
      "text/plain": [
       "HBox(children=(IntProgress(value=0, max=1277), HTML(value='')))"
      ]
     },
     "metadata": {},
     "output_type": "display_data"
    },
    {
     "name": "stdout",
     "output_type": "stream",
     "text": [
      "T_0 [K]:  22.489592069680167\n",
      "T_std Above Threshold\n",
      "log10(mDM):  8.5\n",
      "log10(param):  25.0\n"
     ]
    },
    {
     "data": {
      "application/vnd.jupyter.widget-view+json": {
       "model_id": "79110e9835ef496da8dea79725247a3d",
       "version_major": 2,
       "version_minor": 0
      },
      "text/plain": [
       "HBox(children=(IntProgress(value=0, max=1277), HTML(value='')))"
      ]
     },
     "metadata": {},
     "output_type": "display_data"
    },
    {
     "name": "stdout",
     "output_type": "stream",
     "text": [
      "T_0 [K]:  22.14404287697256\n",
      "T_std Above Threshold\n",
      "log10(param):  25.25\n"
     ]
    },
    {
     "data": {
      "application/vnd.jupyter.widget-view+json": {
       "model_id": "8f3ee1d64bfc49b0b3b634ad4fb80a61",
       "version_major": 2,
       "version_minor": 0
      },
      "text/plain": [
       "HBox(children=(IntProgress(value=0, max=1277), HTML(value='')))"
      ]
     },
     "metadata": {},
     "output_type": "display_data"
    },
    {
     "name": "stdout",
     "output_type": "stream",
     "text": [
      "T_0 [K]:  15.933758828632051\n",
      "T_std Below Threshold\n",
      "log10(mDM):  8.75\n",
      "log10(param):  25.25\n"
     ]
    },
    {
     "data": {
      "application/vnd.jupyter.widget-view+json": {
       "model_id": "d47f97eec8f34c9090120ade9083a584",
       "version_major": 2,
       "version_minor": 0
      },
      "text/plain": [
       "HBox(children=(IntProgress(value=0, max=1277), HTML(value='')))"
      ]
     },
     "metadata": {},
     "output_type": "display_data"
    },
    {
     "name": "stdout",
     "output_type": "stream",
     "text": [
      "T_0 [K]:  14.660402278988583\n",
      "T_std Below Threshold\n",
      "log10(param):  25.0\n"
     ]
    },
    {
     "data": {
      "application/vnd.jupyter.widget-view+json": {
       "model_id": "039947813eda4c3faf48821120bc2d11",
       "version_major": 2,
       "version_minor": 0
      },
      "text/plain": [
       "HBox(children=(IntProgress(value=0, max=1277), HTML(value='')))"
      ]
     },
     "metadata": {},
     "output_type": "display_data"
    },
    {
     "name": "stdout",
     "output_type": "stream",
     "text": [
      "T_0 [K]:  20.104991079423332\n",
      "T_std Below Threshold\n",
      "log10(param):  24.75\n"
     ]
    },
    {
     "data": {
      "application/vnd.jupyter.widget-view+json": {
       "model_id": "c3c868a5c9844cae8601418677bf30e8",
       "version_major": 2,
       "version_minor": 0
      },
      "text/plain": [
       "HBox(children=(IntProgress(value=0, max=1277), HTML(value='')))"
      ]
     },
     "metadata": {},
     "output_type": "display_data"
    },
    {
     "name": "stdout",
     "output_type": "stream",
     "text": [
      "T_0 [K]:  29.165288962668708\n",
      "T_std Above Threshold\n",
      "log10(mDM):  9.0\n",
      "log10(param):  24.75\n"
     ]
    },
    {
     "data": {
      "application/vnd.jupyter.widget-view+json": {
       "model_id": "1397f472575e4319a98389b58418e643",
       "version_major": 2,
       "version_minor": 0
      },
      "text/plain": [
       "HBox(children=(IntProgress(value=0, max=1277), HTML(value='')))"
      ]
     },
     "metadata": {},
     "output_type": "display_data"
    },
    {
     "name": "stdout",
     "output_type": "stream",
     "text": [
      "T_0 [K]:  24.71361490326093\n",
      "T_std Above Threshold\n",
      "log10(param):  25.0\n"
     ]
    },
    {
     "data": {
      "application/vnd.jupyter.widget-view+json": {
       "model_id": "4000551fe67c427a8f91816f223aeefb",
       "version_major": 2,
       "version_minor": 0
      },
      "text/plain": [
       "HBox(children=(IntProgress(value=0, max=1277), HTML(value='')))"
      ]
     },
     "metadata": {},
     "output_type": "display_data"
    },
    {
     "name": "stdout",
     "output_type": "stream",
     "text": [
      "T_0 [K]:  17.404086047509715\n",
      "T_std Below Threshold\n",
      "log10(mDM):  9.25\n",
      "log10(param):  25.0\n"
     ]
    },
    {
     "data": {
      "application/vnd.jupyter.widget-view+json": {
       "model_id": "38c1e27ca6604677a8f8980c6c9edbc5",
       "version_major": 2,
       "version_minor": 0
      },
      "text/plain": [
       "HBox(children=(IntProgress(value=0, max=1277), HTML(value='')))"
      ]
     },
     "metadata": {},
     "output_type": "display_data"
    },
    {
     "name": "stdout",
     "output_type": "stream",
     "text": [
      "T_0 [K]:  14.333371364594939\n",
      "T_std Below Threshold\n",
      "log10(param):  24.75\n"
     ]
    },
    {
     "data": {
      "application/vnd.jupyter.widget-view+json": {
       "model_id": "891cefaa45fe4b73aaca92296aaf38ea",
       "version_major": 2,
       "version_minor": 0
      },
      "text/plain": [
       "HBox(children=(IntProgress(value=0, max=1277), HTML(value='')))"
      ]
     },
     "metadata": {},
     "output_type": "display_data"
    },
    {
     "name": "stdout",
     "output_type": "stream",
     "text": [
      "T_0 [K]:  19.550627519227195\n",
      "T_std Below Threshold\n",
      "log10(param):  24.5\n"
     ]
    },
    {
     "data": {
      "application/vnd.jupyter.widget-view+json": {
       "model_id": "37de9cfbca374f6fb8873030e2382660",
       "version_major": 2,
       "version_minor": 0
      },
      "text/plain": [
       "HBox(children=(IntProgress(value=0, max=1277), HTML(value='')))"
      ]
     },
     "metadata": {},
     "output_type": "display_data"
    },
    {
     "name": "stdout",
     "output_type": "stream",
     "text": [
      "T_0 [K]:  28.247031250840788\n",
      "T_std Above Threshold\n",
      "log10(mDM):  9.5\n",
      "log10(param):  24.5\n"
     ]
    },
    {
     "data": {
      "application/vnd.jupyter.widget-view+json": {
       "model_id": "d3f373358a15452cbac25523d19103ee",
       "version_major": 2,
       "version_minor": 0
      },
      "text/plain": [
       "HBox(children=(IntProgress(value=0, max=1277), HTML(value='')))"
      ]
     },
     "metadata": {},
     "output_type": "display_data"
    },
    {
     "name": "stdout",
     "output_type": "stream",
     "text": [
      "T_0 [K]:  22.113896344019878\n",
      "T_std Above Threshold\n",
      "log10(param):  24.75\n"
     ]
    },
    {
     "data": {
      "application/vnd.jupyter.widget-view+json": {
       "model_id": "556ede82e5f740d0823596a4a5e4fa7c",
       "version_major": 2,
       "version_minor": 0
      },
      "text/plain": [
       "HBox(children=(IntProgress(value=0, max=1277), HTML(value='')))"
      ]
     },
     "metadata": {},
     "output_type": "display_data"
    },
    {
     "name": "stdout",
     "output_type": "stream",
     "text": [
      "T_0 [K]:  15.895915054177003\n",
      "T_std Below Threshold\n",
      "log10(mDM):  9.75\n",
      "log10(param):  24.75\n"
     ]
    },
    {
     "data": {
      "application/vnd.jupyter.widget-view+json": {
       "model_id": "7aa72dc190dd44c1b00698486def9d86",
       "version_major": 2,
       "version_minor": 0
      },
      "text/plain": [
       "HBox(children=(IntProgress(value=0, max=1277), HTML(value='')))"
      ]
     },
     "metadata": {},
     "output_type": "display_data"
    },
    {
     "name": "stdout",
     "output_type": "stream",
     "text": [
      "T_0 [K]:  12.879607017577651\n",
      "T_std Below Threshold\n",
      "log10(param):  24.5\n"
     ]
    },
    {
     "data": {
      "application/vnd.jupyter.widget-view+json": {
       "model_id": "55de6cc90cec44f784d792a573aea659",
       "version_major": 2,
       "version_minor": 0
      },
      "text/plain": [
       "HBox(children=(IntProgress(value=0, max=1277), HTML(value='')))"
      ]
     },
     "metadata": {},
     "output_type": "display_data"
    },
    {
     "name": "stdout",
     "output_type": "stream",
     "text": [
      "T_0 [K]:  17.001963803832655\n",
      "T_std Below Threshold\n",
      "log10(param):  24.25\n"
     ]
    },
    {
     "data": {
      "application/vnd.jupyter.widget-view+json": {
       "model_id": "77a6e8d6473d4406a6c45cee633608f4",
       "version_major": 2,
       "version_minor": 0
      },
      "text/plain": [
       "HBox(children=(IntProgress(value=0, max=1277), HTML(value='')))"
      ]
     },
     "metadata": {},
     "output_type": "display_data"
    },
    {
     "name": "stdout",
     "output_type": "stream",
     "text": [
      "T_0 [K]:  23.82228530712723\n",
      "T_std Above Threshold\n",
      "log10(mDM):  10.0\n",
      "log10(param):  24.25\n"
     ]
    },
    {
     "data": {
      "application/vnd.jupyter.widget-view+json": {
       "model_id": "92e9b500ac744d348b3c9fa964149d66",
       "version_major": 2,
       "version_minor": 0
      },
      "text/plain": [
       "HBox(children=(IntProgress(value=0, max=1277), HTML(value='')))"
      ]
     },
     "metadata": {},
     "output_type": "display_data"
    },
    {
     "name": "stdout",
     "output_type": "stream",
     "text": [
      "T_0 [K]:  18.72061852315338\n",
      "T_std Below Threshold\n",
      "log10(param):  24.0\n"
     ]
    },
    {
     "data": {
      "application/vnd.jupyter.widget-view+json": {
       "model_id": "6d7f1f194e1443b3b8fd96e758339ee5",
       "version_major": 2,
       "version_minor": 0
      },
      "text/plain": [
       "HBox(children=(IntProgress(value=0, max=1277), HTML(value='')))"
      ]
     },
     "metadata": {},
     "output_type": "display_data"
    },
    {
     "name": "stdout",
     "output_type": "stream",
     "text": [
      "T_0 [K]:  26.40480251494293\n",
      "T_std Above Threshold\n",
      "log10(mDM):  10.25\n",
      "log10(param):  24.0\n"
     ]
    },
    {
     "data": {
      "application/vnd.jupyter.widget-view+json": {
       "model_id": "7c57c8056e324ba08a3c4e289964269f",
       "version_major": 2,
       "version_minor": 0
      },
      "text/plain": [
       "HBox(children=(IntProgress(value=0, max=1277), HTML(value='')))"
      ]
     },
     "metadata": {},
     "output_type": "display_data"
    },
    {
     "name": "stdout",
     "output_type": "stream",
     "text": [
      "T_0 [K]:  20.6501231871981\n",
      "T_std Above Threshold\n",
      "log10(param):  24.25\n"
     ]
    },
    {
     "data": {
      "application/vnd.jupyter.widget-view+json": {
       "model_id": "92714bfad5cb4a9a8d173e17bce85f71",
       "version_major": 2,
       "version_minor": 0
      },
      "text/plain": [
       "HBox(children=(IntProgress(value=0, max=1277), HTML(value='')))"
      ]
     },
     "metadata": {},
     "output_type": "display_data"
    },
    {
     "name": "stdout",
     "output_type": "stream",
     "text": [
      "T_0 [K]:  15.363184135829687\n",
      "T_std Below Threshold\n",
      "log10(mDM):  10.5\n",
      "log10(param):  24.25\n"
     ]
    },
    {
     "data": {
      "application/vnd.jupyter.widget-view+json": {
       "model_id": "1e9c50c74f4c4f6ab1ceec671b2d29ca",
       "version_major": 2,
       "version_minor": 0
      },
      "text/plain": [
       "HBox(children=(IntProgress(value=0, max=1277), HTML(value='')))"
      ]
     },
     "metadata": {},
     "output_type": "display_data"
    },
    {
     "name": "stdout",
     "output_type": "stream",
     "text": [
      "T_0 [K]:  13.043631213655274\n",
      "T_std Below Threshold\n",
      "log10(param):  24.0\n"
     ]
    },
    {
     "data": {
      "application/vnd.jupyter.widget-view+json": {
       "model_id": "d8f89709b89a49bfaa4ea4bd4a81b4e6",
       "version_major": 2,
       "version_minor": 0
      },
      "text/plain": [
       "HBox(children=(IntProgress(value=0, max=1277), HTML(value='')))"
      ]
     },
     "metadata": {},
     "output_type": "display_data"
    },
    {
     "name": "stdout",
     "output_type": "stream",
     "text": [
      "T_0 [K]:  16.65890925498291\n",
      "T_std Below Threshold\n",
      "log10(param):  23.75\n"
     ]
    },
    {
     "data": {
      "application/vnd.jupyter.widget-view+json": {
       "model_id": "634a3ce9a8bc4516ad813c61fd20d8b5",
       "version_major": 2,
       "version_minor": 0
      },
      "text/plain": [
       "HBox(children=(IntProgress(value=0, max=1277), HTML(value='')))"
      ]
     },
     "metadata": {},
     "output_type": "display_data"
    },
    {
     "name": "stdout",
     "output_type": "stream",
     "text": [
      "T_0 [K]:  22.306504591831775\n",
      "T_std Above Threshold\n",
      "log10(mDM):  10.75\n",
      "log10(param):  23.75\n"
     ]
    },
    {
     "data": {
      "application/vnd.jupyter.widget-view+json": {
       "model_id": "9d5528c367df4c9d879f95a7ea056d7b",
       "version_major": 2,
       "version_minor": 0
      },
      "text/plain": [
       "HBox(children=(IntProgress(value=0, max=1277), HTML(value='')))"
      ]
     },
     "metadata": {},
     "output_type": "display_data"
    },
    {
     "name": "stdout",
     "output_type": "stream",
     "text": [
      "T_0 [K]:  18.928818138165695\n",
      "T_std Below Threshold\n",
      "log10(param):  23.5\n"
     ]
    },
    {
     "data": {
      "application/vnd.jupyter.widget-view+json": {
       "model_id": "21f8c77dc978405ebb623763ca3cbd6a",
       "version_major": 2,
       "version_minor": 0
      },
      "text/plain": [
       "HBox(children=(IntProgress(value=0, max=1277), HTML(value='')))"
      ]
     },
     "metadata": {},
     "output_type": "display_data"
    },
    {
     "name": "stdout",
     "output_type": "stream",
     "text": [
      "T_0 [K]:  25.55269292960686\n",
      "T_std Above Threshold\n",
      "log10(mDM):  11.0\n",
      "log10(param):  23.5\n"
     ]
    },
    {
     "data": {
      "application/vnd.jupyter.widget-view+json": {
       "model_id": "1622f0db85c6459596ed30adfd0ec3c8",
       "version_major": 2,
       "version_minor": 0
      },
      "text/plain": [
       "HBox(children=(IntProgress(value=0, max=1277), HTML(value='')))"
      ]
     },
     "metadata": {},
     "output_type": "display_data"
    },
    {
     "name": "stdout",
     "output_type": "stream",
     "text": [
      "T_0 [K]:  21.82317614319897\n",
      "T_std Above Threshold\n",
      "log10(param):  23.75\n"
     ]
    },
    {
     "data": {
      "application/vnd.jupyter.widget-view+json": {
       "model_id": "a76a766fb1ff415b88b353f9fca1549d",
       "version_major": 2,
       "version_minor": 0
      },
      "text/plain": [
       "HBox(children=(IntProgress(value=0, max=1277), HTML(value='')))"
      ]
     },
     "metadata": {},
     "output_type": "display_data"
    },
    {
     "name": "stdout",
     "output_type": "stream",
     "text": [
      "T_0 [K]:  16.642920345513573\n",
      "T_std Below Threshold\n",
      "log10(mDM):  11.25\n",
      "log10(param):  23.75\n"
     ]
    },
    {
     "data": {
      "application/vnd.jupyter.widget-view+json": {
       "model_id": "930d673f48844209bb08f1c9753cf87b",
       "version_major": 2,
       "version_minor": 0
      },
      "text/plain": [
       "HBox(children=(IntProgress(value=0, max=1277), HTML(value='')))"
      ]
     },
     "metadata": {},
     "output_type": "display_data"
    },
    {
     "name": "stdout",
     "output_type": "stream",
     "text": [
      "T_0 [K]:  15.295050339053123\n",
      "T_std Below Threshold\n",
      "log10(param):  23.5\n"
     ]
    },
    {
     "data": {
      "application/vnd.jupyter.widget-view+json": {
       "model_id": "07d72b7a0489417bb4b67ebb2db684a8",
       "version_major": 2,
       "version_minor": 0
      },
      "text/plain": [
       "HBox(children=(IntProgress(value=0, max=1277), HTML(value='')))"
      ]
     },
     "metadata": {},
     "output_type": "display_data"
    },
    {
     "name": "stdout",
     "output_type": "stream",
     "text": [
      "T_0 [K]:  19.658282292797978\n",
      "T_std Below Threshold\n",
      "log10(param):  23.25\n"
     ]
    },
    {
     "data": {
      "application/vnd.jupyter.widget-view+json": {
       "model_id": "a290c49400f64f2b962c65f161228c33",
       "version_major": 2,
       "version_minor": 0
      },
      "text/plain": [
       "HBox(children=(IntProgress(value=0, max=1277), HTML(value='')))"
      ]
     },
     "metadata": {},
     "output_type": "display_data"
    },
    {
     "name": "stdout",
     "output_type": "stream",
     "text": [
      "T_0 [K]:  26.37706654075127\n",
      "T_std Above Threshold\n",
      "log10(mDM):  11.5\n",
      "log10(param):  23.25\n"
     ]
    },
    {
     "data": {
      "application/vnd.jupyter.widget-view+json": {
       "model_id": "1106e49498184cbbbe41e009115986ee",
       "version_major": 2,
       "version_minor": 0
      },
      "text/plain": [
       "HBox(children=(IntProgress(value=0, max=1277), HTML(value='')))"
      ]
     },
     "metadata": {},
     "output_type": "display_data"
    },
    {
     "name": "stdout",
     "output_type": "stream",
     "text": [
      "T_0 [K]:  24.452581549370745\n",
      "T_std Above Threshold\n",
      "log10(param):  23.5\n"
     ]
    },
    {
     "data": {
      "application/vnd.jupyter.widget-view+json": {
       "model_id": "f882fe0afe37428ebc864dcb461aa78e",
       "version_major": 2,
       "version_minor": 0
      },
      "text/plain": [
       "HBox(children=(IntProgress(value=0, max=1277), HTML(value='')))"
      ]
     },
     "metadata": {},
     "output_type": "display_data"
    },
    {
     "name": "stdout",
     "output_type": "stream",
     "text": [
      "T_0 [K]:  18.678725880245572\n",
      "T_std Below Threshold\n",
      "log10(mDM):  11.75\n",
      "log10(param):  23.5\n"
     ]
    },
    {
     "data": {
      "application/vnd.jupyter.widget-view+json": {
       "model_id": "8e650b224c6843ec9b8930364dce46c4",
       "version_major": 2,
       "version_minor": 0
      },
      "text/plain": [
       "HBox(children=(IntProgress(value=0, max=1277), HTML(value='')))"
      ]
     },
     "metadata": {},
     "output_type": "display_data"
    },
    {
     "name": "stdout",
     "output_type": "stream",
     "text": [
      "T_0 [K]:  19.8377988969872\n",
      "T_std Below Threshold\n",
      "log10(param):  23.25\n"
     ]
    },
    {
     "data": {
      "application/vnd.jupyter.widget-view+json": {
       "model_id": "a14afe455a784014929cb19ecdd9ea29",
       "version_major": 2,
       "version_minor": 0
      },
      "text/plain": [
       "HBox(children=(IntProgress(value=0, max=1277), HTML(value='')))"
      ]
     },
     "metadata": {},
     "output_type": "display_data"
    },
    {
     "name": "stdout",
     "output_type": "stream",
     "text": [
      "T_0 [K]:  25.755699841809\n",
      "T_std Above Threshold\n",
      "log10(mDM):  12.0\n",
      "log10(param):  23.25\n"
     ]
    },
    {
     "data": {
      "application/vnd.jupyter.widget-view+json": {
       "model_id": "5f1bd467391042e5b71b164c39ddb468",
       "version_major": 2,
       "version_minor": 0
      },
      "text/plain": [
       "HBox(children=(IntProgress(value=0, max=1277), HTML(value='')))"
      ]
     },
     "metadata": {},
     "output_type": "display_data"
    },
    {
     "name": "stdout",
     "output_type": "stream",
     "text": [
      "T_0 [K]:  31.79598683698715\n",
      "T_std Above Threshold\n",
      "log10(param):  23.5\n"
     ]
    },
    {
     "data": {
      "application/vnd.jupyter.widget-view+json": {
       "model_id": "147bd2490f984ab4bc8289aa6468b1c3",
       "version_major": 2,
       "version_minor": 0
      },
      "text/plain": [
       "HBox(children=(IntProgress(value=0, max=1277), HTML(value='')))"
      ]
     },
     "metadata": {},
     "output_type": "display_data"
    },
    {
     "name": "stdout",
     "output_type": "stream",
     "text": [
      "T_0 [K]:  23.89423761718133\n",
      "T_std Above Threshold\n",
      "log10(param):  23.75\n"
     ]
    },
    {
     "data": {
      "application/vnd.jupyter.widget-view+json": {
       "model_id": "97dd748d3f174b338c3ae65c466a9e78",
       "version_major": 2,
       "version_minor": 0
      },
      "text/plain": [
       "HBox(children=(IntProgress(value=0, max=1277), HTML(value='')))"
      ]
     },
     "metadata": {},
     "output_type": "display_data"
    },
    {
     "name": "stdout",
     "output_type": "stream",
     "text": [
      "T_0 [K]:  18.62879446471598\n",
      "T_std Below Threshold\n",
      "log10(mDM):  12.25\n",
      "log10(param):  23.75\n"
     ]
    },
    {
     "data": {
      "application/vnd.jupyter.widget-view+json": {
       "model_id": "88099db1926b4819b6dfbfb7170f8cec",
       "version_major": 2,
       "version_minor": 0
      },
      "text/plain": [
       "HBox(children=(IntProgress(value=0, max=1277), HTML(value='')))"
      ]
     },
     "metadata": {},
     "output_type": "display_data"
    },
    {
     "name": "stdout",
     "output_type": "stream",
     "text": [
      "T_0 [K]:  22.23081975293835\n",
      "T_std Above Threshold\n",
      "log10(param):  24.0\n"
     ]
    },
    {
     "data": {
      "application/vnd.jupyter.widget-view+json": {
       "model_id": "dbb2481d19ee48309c81daab12bce0f2",
       "version_major": 2,
       "version_minor": 0
      },
      "text/plain": [
       "HBox(children=(IntProgress(value=0, max=1277), HTML(value='')))"
      ]
     },
     "metadata": {},
     "output_type": "display_data"
    },
    {
     "name": "stdout",
     "output_type": "stream",
     "text": [
      "T_0 [K]:  17.058350486145514\n",
      "T_std Below Threshold\n",
      "\n"
     ]
    }
   ],
   "source": [
    "%autoreload\n",
    "T_IGM_17_std = np.zeros((log10mDM_arr.size, log10_param.size))\n",
    "BR_guesses = np.zeros(log10mDM_arr.size)\n",
    "\n",
    "for i, log10mDM in enumerate(tqdm(log10mDM_arr)):\n",
    "    print('log10(mDM): ', log10mDM)\n",
    "    mDM = 10**log10mDM\n",
    "    j=len(log10_param[log10_param < param_guess])\n",
    "    above=False\n",
    "    below=False\n",
    "\n",
    "    while((not below) or (not above)):\n",
    "        log10_p = log10_param[j]\n",
    "        print('log10(param): ', log10_p)\n",
    "\n",
    "        T_std = get_T(mDM, log10_p, True)\n",
    "        T_IGM_17_std[i,j] = T_std\n",
    "        print('T_0 [K]: ', T_std)\n",
    "\n",
    "        if T_std > Tm_bnd:\n",
    "            above = True\n",
    "            print(\"T_std Above Threshold\")\n",
    "            j = j+1\n",
    "        else:\n",
    "            below = True\n",
    "            print(\"T_std Below Threshold\")\n",
    "            j = j-1\n",
    "            \n",
    "        param_guess = log10_p\n",
    "        BR_guesses[i] = log10_param[j-1]\n",
    "        \n",
    "                    \n",
    "pickle.dump(\n",
    "    T_IGM_17_std, \n",
    "#     open('/Users/GregoryRidgway/Downloads/21cm_pwave/TLA_code/data/T_IGM_17_phot_decay_std_NFW_no_subs_source.dat','wb')\n",
    "    open('/Users/gridgway/Desktop/T_IGM_17_'+\n",
    "         inj_str+'_'+inj_type+'_std_coarsen'+str(coarsen_factor)+'.dat','wb')\n",
    ")"
   ]
  },
  {
   "cell_type": "code",
   "execution_count": 710,
   "metadata": {},
   "outputs": [],
   "source": [
    "def find_param(Tlist):\n",
    "    if inj_type == 'swave':\n",
    "        above = np.nonzero(Tlist > T_m)[0][0]\n",
    "        below = above-1\n",
    "    else:\n",
    "        above = np.nonzero(Tlist > T_m)[0][-1]\n",
    "        below = above+1\n",
    "    Ts = [Tlist[below], Tlist[above]]\n",
    "    ps = [log10_param[below], log10_param[above]]\n",
    "    return (np.diff(ps)/np.diff(Ts)*(T_m-Ts[0]) + ps[0])[0]\n",
    "\n",
    "thresh_params_std = np.array([find_param(row) for row in T_IGM_17_std])"
   ]
  },
  {
   "cell_type": "code",
   "execution_count": 679,
   "metadata": {
    "collapsed": true
   },
   "outputs": [
    {
     "data": {
      "application/vnd.jupyter.widget-view+json": {
       "model_id": "2c6f418053fa48468e22d2170f34ef23",
       "version_major": 2,
       "version_minor": 0
      },
      "text/plain": [
       "HBox(children=(IntProgress(value=0, max=34), HTML(value='')))"
      ]
     },
     "metadata": {},
     "output_type": "display_data"
    },
    {
     "name": "stdout",
     "output_type": "stream",
     "text": [
      "log10(mDM):  4.0\n",
      "log10(param):  26.5\n"
     ]
    },
    {
     "data": {
      "application/vnd.jupyter.widget-view+json": {
       "model_id": "64d22b88e58a4c2b82c093833dbfa3fb",
       "version_major": 2,
       "version_minor": 0
      },
      "text/plain": [
       "HBox(children=(IntProgress(value=0, max=1277), HTML(value='')))"
      ]
     },
     "metadata": {},
     "output_type": "display_data"
    },
    {
     "name": "stdout",
     "output_type": "stream",
     "text": [
      "T_0 [K]:  19.7694697035461\n",
      "T_BR Below Threshold\n",
      "log10(param):  26.25\n"
     ]
    },
    {
     "data": {
      "application/vnd.jupyter.widget-view+json": {
       "model_id": "2d8c2ea173404be7a493ea5cbc9814f7",
       "version_major": 2,
       "version_minor": 0
      },
      "text/plain": [
       "HBox(children=(IntProgress(value=0, max=1277), HTML(value='')))"
      ]
     },
     "metadata": {},
     "output_type": "display_data"
    },
    {
     "name": "stdout",
     "output_type": "stream",
     "text": [
      "T_0 [K]:  30.691710580008458\n",
      "T_BR Above Threshold\n",
      "log10(mDM):  4.25\n",
      "log10(param):  26.25\n"
     ]
    },
    {
     "data": {
      "application/vnd.jupyter.widget-view+json": {
       "model_id": "aff97eb48ce040e68e4ebcbbf893e167",
       "version_major": 2,
       "version_minor": 0
      },
      "text/plain": [
       "HBox(children=(IntProgress(value=0, max=1277), HTML(value='')))"
      ]
     },
     "metadata": {},
     "output_type": "display_data"
    },
    {
     "name": "stdout",
     "output_type": "stream",
     "text": [
      "T_0 [K]:  14.968529119338651\n",
      "T_BR Below Threshold\n",
      "log10(param):  26.0\n"
     ]
    },
    {
     "data": {
      "application/vnd.jupyter.widget-view+json": {
       "model_id": "41312035ad7b4cc9b93dc53d5da86b90",
       "version_major": 2,
       "version_minor": 0
      },
      "text/plain": [
       "HBox(children=(IntProgress(value=0, max=1277), HTML(value='')))"
      ]
     },
     "metadata": {},
     "output_type": "display_data"
    },
    {
     "name": "stdout",
     "output_type": "stream",
     "text": [
      "T_0 [K]:  21.70945944473646\n",
      "T_BR Above Threshold\n",
      "log10(mDM):  4.5\n",
      "log10(param):  26.0\n"
     ]
    },
    {
     "data": {
      "application/vnd.jupyter.widget-view+json": {
       "model_id": "2663113c6bef40f582d7707f2ce1f75d",
       "version_major": 2,
       "version_minor": 0
      },
      "text/plain": [
       "HBox(children=(IntProgress(value=0, max=1277), HTML(value='')))"
      ]
     },
     "metadata": {},
     "output_type": "display_data"
    },
    {
     "name": "stdout",
     "output_type": "stream",
     "text": [
      "T_0 [K]:  11.93798955915617\n",
      "T_BR Below Threshold\n",
      "log10(param):  25.75\n"
     ]
    },
    {
     "data": {
      "application/vnd.jupyter.widget-view+json": {
       "model_id": "6be681a286454ef7b4bd68de12ef90ef",
       "version_major": 2,
       "version_minor": 0
      },
      "text/plain": [
       "HBox(children=(IntProgress(value=0, max=1277), HTML(value='')))"
      ]
     },
     "metadata": {},
     "output_type": "display_data"
    },
    {
     "name": "stdout",
     "output_type": "stream",
     "text": [
      "T_0 [K]:  15.977567093674272\n",
      "T_BR Below Threshold\n",
      "log10(param):  25.5\n"
     ]
    },
    {
     "data": {
      "application/vnd.jupyter.widget-view+json": {
       "model_id": "f27f13d001594acebf3717cce20b9735",
       "version_major": 2,
       "version_minor": 0
      },
      "text/plain": [
       "HBox(children=(IntProgress(value=0, max=1277), HTML(value='')))"
      ]
     },
     "metadata": {},
     "output_type": "display_data"
    },
    {
     "name": "stdout",
     "output_type": "stream",
     "text": [
      "T_0 [K]:  23.493532204346444\n",
      "T_BR Above Threshold\n",
      "log10(mDM):  4.75\n",
      "log10(param):  25.5\n"
     ]
    },
    {
     "data": {
      "application/vnd.jupyter.widget-view+json": {
       "model_id": "ecb3dda9f4604d15b9dfdcde25ee6f7a",
       "version_major": 2,
       "version_minor": 0
      },
      "text/plain": [
       "HBox(children=(IntProgress(value=0, max=1277), HTML(value='')))"
      ]
     },
     "metadata": {},
     "output_type": "display_data"
    },
    {
     "name": "stdout",
     "output_type": "stream",
     "text": [
      "T_0 [K]:  17.707757131388565\n",
      "T_BR Below Threshold\n",
      "log10(param):  25.25\n"
     ]
    },
    {
     "data": {
      "application/vnd.jupyter.widget-view+json": {
       "model_id": "80a4fd9085a1441891f2568743eb0135",
       "version_major": 2,
       "version_minor": 0
      },
      "text/plain": [
       "HBox(children=(IntProgress(value=0, max=1277), HTML(value='')))"
      ]
     },
     "metadata": {},
     "output_type": "display_data"
    },
    {
     "name": "stdout",
     "output_type": "stream",
     "text": [
      "T_0 [K]:  26.41913469754997\n",
      "T_BR Above Threshold\n",
      "log10(mDM):  5.0\n",
      "log10(param):  25.25\n"
     ]
    },
    {
     "data": {
      "application/vnd.jupyter.widget-view+json": {
       "model_id": "9b02db0240014759be86356f86ee2474",
       "version_major": 2,
       "version_minor": 0
      },
      "text/plain": [
       "HBox(children=(IntProgress(value=0, max=1277), HTML(value='')))"
      ]
     },
     "metadata": {},
     "output_type": "display_data"
    },
    {
     "name": "stdout",
     "output_type": "stream",
     "text": [
      "T_0 [K]:  28.644695666336837\n",
      "T_BR Above Threshold\n",
      "log10(param):  25.5\n"
     ]
    },
    {
     "data": {
      "application/vnd.jupyter.widget-view+json": {
       "model_id": "a60ee074296749f58cad9e1d0a9eeb5b",
       "version_major": 2,
       "version_minor": 0
      },
      "text/plain": [
       "HBox(children=(IntProgress(value=0, max=1277), HTML(value='')))"
      ]
     },
     "metadata": {},
     "output_type": "display_data"
    },
    {
     "name": "stdout",
     "output_type": "stream",
     "text": [
      "T_0 [K]:  18.969533467983315\n",
      "T_BR Below Threshold\n",
      "log10(mDM):  5.25\n",
      "log10(param):  25.5\n"
     ]
    },
    {
     "data": {
      "application/vnd.jupyter.widget-view+json": {
       "model_id": "1d82d139082f4cf2b8fcc93cdaa3c6b9",
       "version_major": 2,
       "version_minor": 0
      },
      "text/plain": [
       "HBox(children=(IntProgress(value=0, max=1277), HTML(value='')))"
      ]
     },
     "metadata": {},
     "output_type": "display_data"
    },
    {
     "name": "stdout",
     "output_type": "stream",
     "text": [
      "T_0 [K]:  22.299708125510275\n",
      "T_BR Above Threshold\n",
      "log10(param):  25.75\n"
     ]
    },
    {
     "data": {
      "application/vnd.jupyter.widget-view+json": {
       "model_id": "9a7706bffd3a409eb9a112e2a6da5a0a",
       "version_major": 2,
       "version_minor": 0
      },
      "text/plain": [
       "HBox(children=(IntProgress(value=0, max=1277), HTML(value='')))"
      ]
     },
     "metadata": {},
     "output_type": "display_data"
    },
    {
     "name": "stdout",
     "output_type": "stream",
     "text": [
      "T_0 [K]:  15.363040304837906\n",
      "T_BR Below Threshold\n",
      "log10(mDM):  5.5\n",
      "log10(param):  25.75\n"
     ]
    },
    {
     "data": {
      "application/vnd.jupyter.widget-view+json": {
       "model_id": "390ec2b598ec485f8f902f5f1869242c",
       "version_major": 2,
       "version_minor": 0
      },
      "text/plain": [
       "HBox(children=(IntProgress(value=0, max=1277), HTML(value='')))"
      ]
     },
     "metadata": {},
     "output_type": "display_data"
    },
    {
     "name": "stdout",
     "output_type": "stream",
     "text": [
      "T_0 [K]:  16.957760805452068\n",
      "T_BR Below Threshold\n",
      "log10(param):  25.5\n"
     ]
    },
    {
     "data": {
      "application/vnd.jupyter.widget-view+json": {
       "model_id": "0854d559c4d94f2d86824ab5e4acfe24",
       "version_major": 2,
       "version_minor": 0
      },
      "text/plain": [
       "HBox(children=(IntProgress(value=0, max=1277), HTML(value='')))"
      ]
     },
     "metadata": {},
     "output_type": "display_data"
    },
    {
     "name": "stdout",
     "output_type": "stream",
     "text": [
      "T_0 [K]:  25.44551265528261\n",
      "T_BR Above Threshold\n",
      "log10(mDM):  5.75\n",
      "log10(param):  25.5\n"
     ]
    },
    {
     "data": {
      "application/vnd.jupyter.widget-view+json": {
       "model_id": "ebd29265584c4c6e840f059e5312bfe2",
       "version_major": 2,
       "version_minor": 0
      },
      "text/plain": [
       "HBox(children=(IntProgress(value=0, max=1277), HTML(value='')))"
      ]
     },
     "metadata": {},
     "output_type": "display_data"
    },
    {
     "name": "stdout",
     "output_type": "stream",
     "text": [
      "T_0 [K]:  25.023645020563492\n",
      "T_BR Above Threshold\n",
      "log10(param):  25.75\n"
     ]
    },
    {
     "data": {
      "application/vnd.jupyter.widget-view+json": {
       "model_id": "30c7b24ba70449ba878f0fcb9c4fc863",
       "version_major": 2,
       "version_minor": 0
      },
      "text/plain": [
       "HBox(children=(IntProgress(value=0, max=1277), HTML(value='')))"
      ]
     },
     "metadata": {},
     "output_type": "display_data"
    },
    {
     "name": "stdout",
     "output_type": "stream",
     "text": [
      "T_0 [K]:  16.641165343101996\n",
      "T_BR Below Threshold\n",
      "log10(mDM):  6.0\n",
      "log10(param):  25.75\n"
     ]
    },
    {
     "data": {
      "application/vnd.jupyter.widget-view+json": {
       "model_id": "34e9c172e6724f399cb737159cd5f91c",
       "version_major": 2,
       "version_minor": 0
      },
      "text/plain": [
       "HBox(children=(IntProgress(value=0, max=1277), HTML(value='')))"
      ]
     },
     "metadata": {},
     "output_type": "display_data"
    },
    {
     "name": "stdout",
     "output_type": "stream",
     "text": [
      "T_0 [K]:  14.245296184484959\n",
      "T_BR Below Threshold\n",
      "log10(param):  25.5\n"
     ]
    },
    {
     "data": {
      "application/vnd.jupyter.widget-view+json": {
       "model_id": "c7fcea91aa9542e2aac62986926d9356",
       "version_major": 2,
       "version_minor": 0
      },
      "text/plain": [
       "HBox(children=(IntProgress(value=0, max=1277), HTML(value='')))"
      ]
     },
     "metadata": {},
     "output_type": "display_data"
    },
    {
     "name": "stdout",
     "output_type": "stream",
     "text": [
      "T_0 [K]:  20.61481701055453\n",
      "T_BR Above Threshold\n",
      "log10(mDM):  6.25\n",
      "log10(param):  25.5\n"
     ]
    },
    {
     "data": {
      "application/vnd.jupyter.widget-view+json": {
       "model_id": "f6cfcf19ac494c54895b9ed6f4a50f97",
       "version_major": 2,
       "version_minor": 0
      },
      "text/plain": [
       "HBox(children=(IntProgress(value=0, max=1277), HTML(value='')))"
      ]
     },
     "metadata": {},
     "output_type": "display_data"
    },
    {
     "name": "stdout",
     "output_type": "stream",
     "text": [
      "T_0 [K]:  15.726256519188233\n",
      "T_BR Below Threshold\n",
      "log10(param):  25.25\n"
     ]
    },
    {
     "data": {
      "application/vnd.jupyter.widget-view+json": {
       "model_id": "62d3ef99cbe947d2993e8e5dde0cc123",
       "version_major": 2,
       "version_minor": 0
      },
      "text/plain": [
       "HBox(children=(IntProgress(value=0, max=1277), HTML(value='')))"
      ]
     },
     "metadata": {},
     "output_type": "display_data"
    },
    {
     "name": "stdout",
     "output_type": "stream",
     "text": [
      "T_0 [K]:  23.468444696659304\n",
      "T_BR Above Threshold\n",
      "log10(mDM):  6.5\n",
      "log10(param):  25.25\n"
     ]
    },
    {
     "data": {
      "application/vnd.jupyter.widget-view+json": {
       "model_id": "033d2054801a4bca878a4cbf813977f1",
       "version_major": 2,
       "version_minor": 0
      },
      "text/plain": [
       "HBox(children=(IntProgress(value=0, max=1277), HTML(value='')))"
      ]
     },
     "metadata": {},
     "output_type": "display_data"
    },
    {
     "name": "stdout",
     "output_type": "stream",
     "text": [
      "T_0 [K]:  15.400185049565668\n",
      "T_BR Below Threshold\n",
      "log10(param):  25.0\n"
     ]
    },
    {
     "data": {
      "application/vnd.jupyter.widget-view+json": {
       "model_id": "d00401b2b4f14f0b82fa652d1b6e352f",
       "version_major": 2,
       "version_minor": 0
      },
      "text/plain": [
       "HBox(children=(IntProgress(value=0, max=1277), HTML(value='')))"
      ]
     },
     "metadata": {},
     "output_type": "display_data"
    },
    {
     "name": "stdout",
     "output_type": "stream",
     "text": [
      "T_0 [K]:  22.858309261632982\n",
      "T_BR Above Threshold\n",
      "log10(mDM):  6.75\n",
      "log10(param):  25.0\n"
     ]
    },
    {
     "data": {
      "application/vnd.jupyter.widget-view+json": {
       "model_id": "4acea4998a4547b9bee491dcca15364a",
       "version_major": 2,
       "version_minor": 0
      },
      "text/plain": [
       "HBox(children=(IntProgress(value=0, max=1277), HTML(value='')))"
      ]
     },
     "metadata": {},
     "output_type": "display_data"
    },
    {
     "name": "stdout",
     "output_type": "stream",
     "text": [
      "T_0 [K]:  15.405753315722471\n",
      "T_BR Below Threshold\n",
      "log10(param):  24.75\n"
     ]
    },
    {
     "data": {
      "application/vnd.jupyter.widget-view+json": {
       "model_id": "ca541b76f26e489dab149d48e1a60216",
       "version_major": 2,
       "version_minor": 0
      },
      "text/plain": [
       "HBox(children=(IntProgress(value=0, max=1277), HTML(value='')))"
      ]
     },
     "metadata": {},
     "output_type": "display_data"
    },
    {
     "name": "stdout",
     "output_type": "stream",
     "text": [
      "T_0 [K]:  22.64095197840003\n",
      "T_BR Above Threshold\n",
      "log10(mDM):  7.0\n",
      "log10(param):  24.75\n"
     ]
    },
    {
     "data": {
      "application/vnd.jupyter.widget-view+json": {
       "model_id": "48735e0ca59840789b085cc9e83fa74b",
       "version_major": 2,
       "version_minor": 0
      },
      "text/plain": [
       "HBox(children=(IntProgress(value=0, max=1277), HTML(value='')))"
      ]
     },
     "metadata": {},
     "output_type": "display_data"
    },
    {
     "name": "stdout",
     "output_type": "stream",
     "text": [
      "T_0 [K]:  16.685614515688428\n",
      "T_BR Below Threshold\n",
      "log10(param):  24.5\n"
     ]
    },
    {
     "data": {
      "application/vnd.jupyter.widget-view+json": {
       "model_id": "fa5a9df4f085493d9abd2846478733ab",
       "version_major": 2,
       "version_minor": 0
      },
      "text/plain": [
       "HBox(children=(IntProgress(value=0, max=1277), HTML(value='')))"
      ]
     },
     "metadata": {},
     "output_type": "display_data"
    },
    {
     "name": "stdout",
     "output_type": "stream",
     "text": [
      "T_0 [K]:  23.75424699645507\n",
      "T_BR Above Threshold\n",
      "log10(mDM):  7.25\n",
      "log10(param):  24.5\n"
     ]
    },
    {
     "data": {
      "application/vnd.jupyter.widget-view+json": {
       "model_id": "617505b96c48434389fc3a7588e81dda",
       "version_major": 2,
       "version_minor": 0
      },
      "text/plain": [
       "HBox(children=(IntProgress(value=0, max=1277), HTML(value='')))"
      ]
     },
     "metadata": {},
     "output_type": "display_data"
    },
    {
     "name": "stdout",
     "output_type": "stream",
     "text": [
      "T_0 [K]:  22.886482500714553\n",
      "T_BR Above Threshold\n",
      "log10(param):  24.75\n"
     ]
    },
    {
     "data": {
      "application/vnd.jupyter.widget-view+json": {
       "model_id": "5abfd904baa346a2bd68004d2628d6b3",
       "version_major": 2,
       "version_minor": 0
      },
      "text/plain": [
       "HBox(children=(IntProgress(value=0, max=1277), HTML(value='')))"
      ]
     },
     "metadata": {},
     "output_type": "display_data"
    },
    {
     "name": "stdout",
     "output_type": "stream",
     "text": [
      "T_0 [K]:  16.939578184287807\n",
      "T_BR Below Threshold\n",
      "log10(mDM):  7.5\n",
      "log10(param):  24.75\n"
     ]
    },
    {
     "data": {
      "application/vnd.jupyter.widget-view+json": {
       "model_id": "0de61747ba164b1487860f4abef1f1b1",
       "version_major": 2,
       "version_minor": 0
      },
      "text/plain": [
       "HBox(children=(IntProgress(value=0, max=1277), HTML(value='')))"
      ]
     },
     "metadata": {},
     "output_type": "display_data"
    },
    {
     "name": "stdout",
     "output_type": "stream",
     "text": [
      "T_0 [K]:  24.66924087519088\n",
      "T_BR Above Threshold\n",
      "log10(param):  25.0\n"
     ]
    },
    {
     "data": {
      "application/vnd.jupyter.widget-view+json": {
       "model_id": "2e113c2d898e4578853bc19f66f92a1d",
       "version_major": 2,
       "version_minor": 0
      },
      "text/plain": [
       "HBox(children=(IntProgress(value=0, max=1277), HTML(value='')))"
      ]
     },
     "metadata": {},
     "output_type": "display_data"
    },
    {
     "name": "stdout",
     "output_type": "stream",
     "text": [
      "T_0 [K]:  17.50455103465345\n",
      "T_BR Below Threshold\n",
      "log10(mDM):  7.75\n",
      "log10(param):  25.0\n"
     ]
    },
    {
     "data": {
      "application/vnd.jupyter.widget-view+json": {
       "model_id": "92a25cec8a384d1b81b805006393f5d8",
       "version_major": 2,
       "version_minor": 0
      },
      "text/plain": [
       "HBox(children=(IntProgress(value=0, max=1277), HTML(value='')))"
      ]
     },
     "metadata": {},
     "output_type": "display_data"
    },
    {
     "name": "stdout",
     "output_type": "stream",
     "text": [
      "T_0 [K]:  23.697963263942754\n",
      "T_BR Above Threshold\n",
      "log10(param):  25.25\n"
     ]
    },
    {
     "data": {
      "application/vnd.jupyter.widget-view+json": {
       "model_id": "9bc66526bb4e48589703f397960556be",
       "version_major": 2,
       "version_minor": 0
      },
      "text/plain": [
       "HBox(children=(IntProgress(value=0, max=1277), HTML(value='')))"
      ]
     },
     "metadata": {},
     "output_type": "display_data"
    },
    {
     "name": "stdout",
     "output_type": "stream",
     "text": [
      "T_0 [K]:  16.43980015877576\n",
      "T_BR Below Threshold\n",
      "log10(mDM):  8.0\n",
      "log10(param):  25.25\n"
     ]
    },
    {
     "data": {
      "application/vnd.jupyter.widget-view+json": {
       "model_id": "f795125c7bef49eb941bfea63d1f3da9",
       "version_major": 2,
       "version_minor": 0
      },
      "text/plain": [
       "HBox(children=(IntProgress(value=0, max=1277), HTML(value='')))"
      ]
     },
     "metadata": {},
     "output_type": "display_data"
    },
    {
     "name": "stdout",
     "output_type": "stream",
     "text": [
      "T_0 [K]:  17.871444507708045\n",
      "T_BR Below Threshold\n",
      "log10(param):  25.0\n"
     ]
    },
    {
     "data": {
      "application/vnd.jupyter.widget-view+json": {
       "model_id": "31b77d17d8df47ff830786b212011709",
       "version_major": 2,
       "version_minor": 0
      },
      "text/plain": [
       "HBox(children=(IntProgress(value=0, max=1277), HTML(value='')))"
      ]
     },
     "metadata": {},
     "output_type": "display_data"
    },
    {
     "name": "stdout",
     "output_type": "stream",
     "text": [
      "T_0 [K]:  26.529939553728507\n",
      "T_BR Above Threshold\n",
      "log10(mDM):  8.25\n",
      "log10(param):  25.0\n"
     ]
    },
    {
     "data": {
      "application/vnd.jupyter.widget-view+json": {
       "model_id": "14bf8602a82247ccb39a669dbce7e16e",
       "version_major": 2,
       "version_minor": 0
      },
      "text/plain": [
       "HBox(children=(IntProgress(value=0, max=1277), HTML(value='')))"
      ]
     },
     "metadata": {},
     "output_type": "display_data"
    },
    {
     "name": "stdout",
     "output_type": "stream",
     "text": [
      "T_0 [K]:  27.13907875497047\n",
      "T_BR Above Threshold\n",
      "log10(param):  25.25\n"
     ]
    },
    {
     "data": {
      "application/vnd.jupyter.widget-view+json": {
       "model_id": "38d2f40d06f240e8b24167952be0de39",
       "version_major": 2,
       "version_minor": 0
      },
      "text/plain": [
       "HBox(children=(IntProgress(value=0, max=1277), HTML(value='')))"
      ]
     },
     "metadata": {},
     "output_type": "display_data"
    },
    {
     "name": "stdout",
     "output_type": "stream",
     "text": [
      "T_0 [K]:  18.126387840760426\n",
      "T_BR Below Threshold\n",
      "log10(mDM):  8.5\n",
      "log10(param):  25.25\n"
     ]
    },
    {
     "data": {
      "application/vnd.jupyter.widget-view+json": {
       "model_id": "dc188883b9364ce0ac1b3f122086b8c4",
       "version_major": 2,
       "version_minor": 0
      },
      "text/plain": [
       "HBox(children=(IntProgress(value=0, max=1277), HTML(value='')))"
      ]
     },
     "metadata": {},
     "output_type": "display_data"
    },
    {
     "name": "stdout",
     "output_type": "stream",
     "text": [
      "T_0 [K]:  17.490726522332615\n",
      "T_BR Below Threshold\n",
      "log10(param):  25.0\n"
     ]
    },
    {
     "data": {
      "application/vnd.jupyter.widget-view+json": {
       "model_id": "23d5f6f15894463baf51a48cb6c4ca6d",
       "version_major": 2,
       "version_minor": 0
      },
      "text/plain": [
       "HBox(children=(IntProgress(value=0, max=1277), HTML(value='')))"
      ]
     },
     "metadata": {},
     "output_type": "display_data"
    },
    {
     "name": "stdout",
     "output_type": "stream",
     "text": [
      "T_0 [K]:  26.086821690996814\n",
      "T_BR Above Threshold\n",
      "log10(mDM):  8.75\n",
      "log10(param):  25.0\n"
     ]
    },
    {
     "data": {
      "application/vnd.jupyter.widget-view+json": {
       "model_id": "0e68cbc7eea44e188c6958bef13e637a",
       "version_major": 2,
       "version_minor": 0
      },
      "text/plain": [
       "HBox(children=(IntProgress(value=0, max=1277), HTML(value='')))"
      ]
     },
     "metadata": {},
     "output_type": "display_data"
    },
    {
     "name": "stdout",
     "output_type": "stream",
     "text": [
      "T_0 [K]:  22.895334866286092\n",
      "T_BR Above Threshold\n",
      "log10(param):  25.25\n"
     ]
    },
    {
     "data": {
      "application/vnd.jupyter.widget-view+json": {
       "model_id": "8cc62a3db1794e96829640aa8639785b",
       "version_major": 2,
       "version_minor": 0
      },
      "text/plain": [
       "HBox(children=(IntProgress(value=0, max=1277), HTML(value='')))"
      ]
     },
     "metadata": {},
     "output_type": "display_data"
    },
    {
     "name": "stdout",
     "output_type": "stream",
     "text": [
      "T_0 [K]:  15.708698177128408\n",
      "T_BR Below Threshold\n",
      "log10(mDM):  9.0\n",
      "log10(param):  25.25\n"
     ]
    },
    {
     "data": {
      "application/vnd.jupyter.widget-view+json": {
       "model_id": "32ce24ebf3864bf394d64585eba06b3d",
       "version_major": 2,
       "version_minor": 0
      },
      "text/plain": [
       "HBox(children=(IntProgress(value=0, max=1277), HTML(value='')))"
      ]
     },
     "metadata": {},
     "output_type": "display_data"
    },
    {
     "name": "stdout",
     "output_type": "stream",
     "text": [
      "T_0 [K]:  13.677536760620722\n",
      "T_BR Below Threshold\n",
      "log10(param):  25.0\n"
     ]
    },
    {
     "data": {
      "application/vnd.jupyter.widget-view+json": {
       "model_id": "f3804c656ed040a7b5216d622978a691",
       "version_major": 2,
       "version_minor": 0
      },
      "text/plain": [
       "HBox(children=(IntProgress(value=0, max=1277), HTML(value='')))"
      ]
     },
     "metadata": {},
     "output_type": "display_data"
    },
    {
     "name": "stdout",
     "output_type": "stream",
     "text": [
      "T_0 [K]:  19.163727454228077\n",
      "T_BR Below Threshold\n",
      "log10(param):  24.75\n"
     ]
    },
    {
     "data": {
      "application/vnd.jupyter.widget-view+json": {
       "model_id": "dde6724f87a04c1480c2ee692f9e109c",
       "version_major": 2,
       "version_minor": 0
      },
      "text/plain": [
       "HBox(children=(IntProgress(value=0, max=1277), HTML(value='')))"
      ]
     },
     "metadata": {},
     "output_type": "display_data"
    },
    {
     "name": "stdout",
     "output_type": "stream",
     "text": [
      "T_0 [K]:  29.15346420356472\n",
      "T_BR Above Threshold\n",
      "log10(mDM):  9.25\n",
      "log10(param):  24.75\n"
     ]
    },
    {
     "data": {
      "application/vnd.jupyter.widget-view+json": {
       "model_id": "1a36762c6f554b9d8cd6cc3c440f9411",
       "version_major": 2,
       "version_minor": 0
      },
      "text/plain": [
       "HBox(children=(IntProgress(value=0, max=1277), HTML(value='')))"
      ]
     },
     "metadata": {},
     "output_type": "display_data"
    },
    {
     "name": "stdout",
     "output_type": "stream",
     "text": [
      "T_0 [K]:  21.952987588328803\n",
      "T_BR Above Threshold\n",
      "log10(param):  25.0\n"
     ]
    },
    {
     "data": {
      "application/vnd.jupyter.widget-view+json": {
       "model_id": "4a735fbd853c4536b3d17aa551718d0e",
       "version_major": 2,
       "version_minor": 0
      },
      "text/plain": [
       "HBox(children=(IntProgress(value=0, max=1277), HTML(value='')))"
      ]
     },
     "metadata": {},
     "output_type": "display_data"
    },
    {
     "name": "stdout",
     "output_type": "stream",
     "text": [
      "T_0 [K]:  15.223671451726908\n",
      "T_BR Below Threshold\n",
      "log10(mDM):  9.5\n",
      "log10(param):  25.0\n"
     ]
    },
    {
     "data": {
      "application/vnd.jupyter.widget-view+json": {
       "model_id": "b4f29f6841094f13aaf866aaa238bb6f",
       "version_major": 2,
       "version_minor": 0
      },
      "text/plain": [
       "HBox(children=(IntProgress(value=0, max=1277), HTML(value='')))"
      ]
     },
     "metadata": {},
     "output_type": "display_data"
    },
    {
     "name": "stdout",
     "output_type": "stream",
     "text": [
      "T_0 [K]:  12.640379761162595\n",
      "T_BR Below Threshold\n",
      "log10(param):  24.75\n"
     ]
    },
    {
     "data": {
      "application/vnd.jupyter.widget-view+json": {
       "model_id": "b12338af4ee2461fbaf6fb60f2843a83",
       "version_major": 2,
       "version_minor": 0
      },
      "text/plain": [
       "HBox(children=(IntProgress(value=0, max=1277), HTML(value='')))"
      ]
     },
     "metadata": {},
     "output_type": "display_data"
    },
    {
     "name": "stdout",
     "output_type": "stream",
     "text": [
      "T_0 [K]:  17.185595694447304\n",
      "T_BR Below Threshold\n",
      "log10(param):  24.5\n"
     ]
    },
    {
     "data": {
      "application/vnd.jupyter.widget-view+json": {
       "model_id": "d5251762c3f14ed7bb64ea3152768f38",
       "version_major": 2,
       "version_minor": 0
      },
      "text/plain": [
       "HBox(children=(IntProgress(value=0, max=1277), HTML(value='')))"
      ]
     },
     "metadata": {},
     "output_type": "display_data"
    },
    {
     "name": "stdout",
     "output_type": "stream",
     "text": [
      "T_0 [K]:  25.438769045687604\n",
      "T_BR Above Threshold\n",
      "log10(mDM):  9.75\n",
      "log10(param):  24.5\n"
     ]
    },
    {
     "data": {
      "application/vnd.jupyter.widget-view+json": {
       "model_id": "dcfdd290093446a0a69155efa89812ba",
       "version_major": 2,
       "version_minor": 0
      },
      "text/plain": [
       "HBox(children=(IntProgress(value=0, max=1277), HTML(value='')))"
      ]
     },
     "metadata": {},
     "output_type": "display_data"
    },
    {
     "name": "stdout",
     "output_type": "stream",
     "text": [
      "T_0 [K]:  18.639761386765024\n",
      "T_BR Below Threshold\n",
      "log10(param):  24.25\n"
     ]
    },
    {
     "data": {
      "application/vnd.jupyter.widget-view+json": {
       "model_id": "fdea7e88897649c48ac4eca61caf3903",
       "version_major": 2,
       "version_minor": 0
      },
      "text/plain": [
       "HBox(children=(IntProgress(value=0, max=1277), HTML(value='')))"
      ]
     },
     "metadata": {},
     "output_type": "display_data"
    },
    {
     "name": "stdout",
     "output_type": "stream",
     "text": [
      "T_0 [K]:  27.889045581996797\n",
      "T_BR Above Threshold\n",
      "log10(mDM):  10.0\n",
      "log10(param):  24.25\n"
     ]
    },
    {
     "data": {
      "application/vnd.jupyter.widget-view+json": {
       "model_id": "5c05a850a5df4674b92b420b1f90f4d5",
       "version_major": 2,
       "version_minor": 0
      },
      "text/plain": [
       "HBox(children=(IntProgress(value=0, max=1277), HTML(value='')))"
      ]
     },
     "metadata": {},
     "output_type": "display_data"
    },
    {
     "name": "stdout",
     "output_type": "stream",
     "text": [
      "T_0 [K]:  20.954926384037137\n",
      "T_BR Above Threshold\n",
      "log10(param):  24.5\n"
     ]
    },
    {
     "data": {
      "application/vnd.jupyter.widget-view+json": {
       "model_id": "6019e6ff1d594f23b088a4895cdbc070",
       "version_major": 2,
       "version_minor": 0
      },
      "text/plain": [
       "HBox(children=(IntProgress(value=0, max=1277), HTML(value='')))"
      ]
     },
     "metadata": {},
     "output_type": "display_data"
    },
    {
     "name": "stdout",
     "output_type": "stream",
     "text": [
      "T_0 [K]:  14.867930748366968\n",
      "T_BR Below Threshold\n",
      "log10(mDM):  10.25\n",
      "log10(param):  24.5\n"
     ]
    },
    {
     "data": {
      "application/vnd.jupyter.widget-view+json": {
       "model_id": "a11397ee75994e499a1c6618d4c5ec6a",
       "version_major": 2,
       "version_minor": 0
      },
      "text/plain": [
       "HBox(children=(IntProgress(value=0, max=1277), HTML(value='')))"
      ]
     },
     "metadata": {},
     "output_type": "display_data"
    },
    {
     "name": "stdout",
     "output_type": "stream",
     "text": [
      "T_0 [K]:  12.525347023189946\n",
      "T_BR Below Threshold\n",
      "log10(param):  24.25\n"
     ]
    },
    {
     "data": {
      "application/vnd.jupyter.widget-view+json": {
       "model_id": "9308c51419964b708502565d31fd01ec",
       "version_major": 2,
       "version_minor": 0
      },
      "text/plain": [
       "HBox(children=(IntProgress(value=0, max=1277), HTML(value='')))"
      ]
     },
     "metadata": {},
     "output_type": "display_data"
    },
    {
     "name": "stdout",
     "output_type": "stream",
     "text": [
      "T_0 [K]:  16.59917778715135\n",
      "T_BR Below Threshold\n",
      "log10(param):  24.0\n"
     ]
    },
    {
     "data": {
      "application/vnd.jupyter.widget-view+json": {
       "model_id": "7053753c23424a6dadeb8de4bcf254c9",
       "version_major": 2,
       "version_minor": 0
      },
      "text/plain": [
       "HBox(children=(IntProgress(value=0, max=1277), HTML(value='')))"
      ]
     },
     "metadata": {},
     "output_type": "display_data"
    },
    {
     "name": "stdout",
     "output_type": "stream",
     "text": [
      "T_0 [K]:  23.661100824685235\n",
      "T_BR Above Threshold\n",
      "log10(mDM):  10.5\n",
      "log10(param):  24.0\n"
     ]
    },
    {
     "data": {
      "application/vnd.jupyter.widget-view+json": {
       "model_id": "0db98721d98f48cd81a4480ad66d29df",
       "version_major": 2,
       "version_minor": 0
      },
      "text/plain": [
       "HBox(children=(IntProgress(value=0, max=1277), HTML(value='')))"
      ]
     },
     "metadata": {},
     "output_type": "display_data"
    },
    {
     "name": "stdout",
     "output_type": "stream",
     "text": [
      "T_0 [K]:  18.328360320667333\n",
      "T_BR Below Threshold\n",
      "log10(param):  23.75\n"
     ]
    },
    {
     "data": {
      "application/vnd.jupyter.widget-view+json": {
       "model_id": "eb9a8ade894d4c70b7c3cd53f3dbdffc",
       "version_major": 2,
       "version_minor": 0
      },
      "text/plain": [
       "HBox(children=(IntProgress(value=0, max=1277), HTML(value='')))"
      ]
     },
     "metadata": {},
     "output_type": "display_data"
    },
    {
     "name": "stdout",
     "output_type": "stream",
     "text": [
      "T_0 [K]:  26.13983405470636\n",
      "T_BR Above Threshold\n",
      "log10(mDM):  10.75\n",
      "log10(param):  23.75\n"
     ]
    },
    {
     "data": {
      "application/vnd.jupyter.widget-view+json": {
       "model_id": "8603df45f69d48a5aff5b4f93eacf67f",
       "version_major": 2,
       "version_minor": 0
      },
      "text/plain": [
       "HBox(children=(IntProgress(value=0, max=1277), HTML(value='')))"
      ]
     },
     "metadata": {},
     "output_type": "display_data"
    },
    {
     "name": "stdout",
     "output_type": "stream",
     "text": [
      "T_0 [K]:  21.47202611028644\n",
      "T_BR Above Threshold\n",
      "log10(param):  24.0\n"
     ]
    },
    {
     "data": {
      "application/vnd.jupyter.widget-view+json": {
       "model_id": "434fbde4ec2d4c19878b83168ba6bd79",
       "version_major": 2,
       "version_minor": 0
      },
      "text/plain": [
       "HBox(children=(IntProgress(value=0, max=1277), HTML(value='')))"
      ]
     },
     "metadata": {},
     "output_type": "display_data"
    },
    {
     "name": "stdout",
     "output_type": "stream",
     "text": [
      "T_0 [K]:  15.749990701776879\n",
      "T_BR Below Threshold\n",
      "log10(mDM):  11.0\n",
      "log10(param):  24.0\n"
     ]
    },
    {
     "data": {
      "application/vnd.jupyter.widget-view+json": {
       "model_id": "5a33aa614b84405f9a0dbf468abc625a",
       "version_major": 2,
       "version_minor": 0
      },
      "text/plain": [
       "HBox(children=(IntProgress(value=0, max=1277), HTML(value='')))"
      ]
     },
     "metadata": {},
     "output_type": "display_data"
    },
    {
     "name": "stdout",
     "output_type": "stream",
     "text": [
      "T_0 [K]:  13.956417258087521\n",
      "T_BR Below Threshold\n",
      "log10(param):  23.75\n"
     ]
    },
    {
     "data": {
      "application/vnd.jupyter.widget-view+json": {
       "model_id": "30232d5cf08a4eb4a5aaf400b239544e",
       "version_major": 2,
       "version_minor": 0
      },
      "text/plain": [
       "HBox(children=(IntProgress(value=0, max=1277), HTML(value='')))"
      ]
     },
     "metadata": {},
     "output_type": "display_data"
    },
    {
     "name": "stdout",
     "output_type": "stream",
     "text": [
      "T_0 [K]:  18.371534163819376\n",
      "T_BR Below Threshold\n",
      "log10(param):  23.5\n"
     ]
    },
    {
     "data": {
      "application/vnd.jupyter.widget-view+json": {
       "model_id": "00644ea70dd34264a15b9115285b9779",
       "version_major": 2,
       "version_minor": 0
      },
      "text/plain": [
       "HBox(children=(IntProgress(value=0, max=1277), HTML(value='')))"
      ]
     },
     "metadata": {},
     "output_type": "display_data"
    },
    {
     "name": "stdout",
     "output_type": "stream",
     "text": [
      "T_0 [K]:  25.65475343519746\n",
      "T_BR Above Threshold\n",
      "log10(mDM):  11.25\n",
      "log10(param):  23.5\n"
     ]
    },
    {
     "data": {
      "application/vnd.jupyter.widget-view+json": {
       "model_id": "eda216e5397449e8b7d8846b6b6b76c9",
       "version_major": 2,
       "version_minor": 0
      },
      "text/plain": [
       "HBox(children=(IntProgress(value=0, max=1277), HTML(value='')))"
      ]
     },
     "metadata": {},
     "output_type": "display_data"
    },
    {
     "name": "stdout",
     "output_type": "stream",
     "text": [
      "T_0 [K]:  22.50795229222389\n",
      "T_BR Above Threshold\n",
      "log10(param):  23.75\n"
     ]
    },
    {
     "data": {
      "application/vnd.jupyter.widget-view+json": {
       "model_id": "0a78257fa048476a824a759d5e394551",
       "version_major": 2,
       "version_minor": 0
      },
      "text/plain": [
       "HBox(children=(IntProgress(value=0, max=1277), HTML(value='')))"
      ]
     },
     "metadata": {},
     "output_type": "display_data"
    },
    {
     "name": "stdout",
     "output_type": "stream",
     "text": [
      "T_0 [K]:  16.561847165333862\n",
      "T_BR Below Threshold\n",
      "log10(mDM):  11.5\n",
      "log10(param):  23.75\n"
     ]
    },
    {
     "data": {
      "application/vnd.jupyter.widget-view+json": {
       "model_id": "c338a75a2b01438a8f0e8241c41e097a",
       "version_major": 2,
       "version_minor": 0
      },
      "text/plain": [
       "HBox(children=(IntProgress(value=0, max=1277), HTML(value='')))"
      ]
     },
     "metadata": {},
     "output_type": "display_data"
    },
    {
     "name": "stdout",
     "output_type": "stream",
     "text": [
      "T_0 [K]:  15.971336809238071\n",
      "T_BR Below Threshold\n",
      "log10(param):  23.5\n"
     ]
    },
    {
     "data": {
      "application/vnd.jupyter.widget-view+json": {
       "model_id": "a3061903201146f3a4ce97154c68ffdc",
       "version_major": 2,
       "version_minor": 0
      },
      "text/plain": [
       "HBox(children=(IntProgress(value=0, max=1277), HTML(value='')))"
      ]
     },
     "metadata": {},
     "output_type": "display_data"
    },
    {
     "name": "stdout",
     "output_type": "stream",
     "text": [
      "T_0 [K]:  21.006814475240297\n",
      "T_BR Above Threshold\n",
      "log10(mDM):  11.75\n",
      "log10(param):  23.5\n"
     ]
    },
    {
     "data": {
      "application/vnd.jupyter.widget-view+json": {
       "model_id": "e630a792e87c49b9af644394c969e114",
       "version_major": 2,
       "version_minor": 0
      },
      "text/plain": [
       "HBox(children=(IntProgress(value=0, max=1277), HTML(value='')))"
      ]
     },
     "metadata": {},
     "output_type": "display_data"
    },
    {
     "name": "stdout",
     "output_type": "stream",
     "text": [
      "T_0 [K]:  22.519451423942666\n",
      "T_BR Above Threshold\n",
      "log10(param):  23.75\n"
     ]
    },
    {
     "data": {
      "application/vnd.jupyter.widget-view+json": {
       "model_id": "87cd132334d8497da529bd9d34ced9c0",
       "version_major": 2,
       "version_minor": 0
      },
      "text/plain": [
       "HBox(children=(IntProgress(value=0, max=1277), HTML(value='')))"
      ]
     },
     "metadata": {},
     "output_type": "display_data"
    },
    {
     "name": "stdout",
     "output_type": "stream",
     "text": [
      "T_0 [K]:  17.19748270442012\n",
      "T_BR Below Threshold\n",
      "log10(mDM):  12.0\n",
      "log10(param):  23.75\n"
     ]
    },
    {
     "data": {
      "application/vnd.jupyter.widget-view+json": {
       "model_id": "6e802d8b5a834620acc37c85bdfbcf86",
       "version_major": 2,
       "version_minor": 0
      },
      "text/plain": [
       "HBox(children=(IntProgress(value=0, max=1277), HTML(value='')))"
      ]
     },
     "metadata": {},
     "output_type": "display_data"
    },
    {
     "name": "stdout",
     "output_type": "stream",
     "text": [
      "T_0 [K]:  20.8561647724417\n",
      "T_BR Above Threshold\n",
      "log10(param):  24.0\n"
     ]
    },
    {
     "data": {
      "application/vnd.jupyter.widget-view+json": {
       "model_id": "59ccd5c81fd840648c6890d7548f8641",
       "version_major": 2,
       "version_minor": 0
      },
      "text/plain": [
       "HBox(children=(IntProgress(value=0, max=1277), HTML(value='')))"
      ]
     },
     "metadata": {},
     "output_type": "display_data"
    },
    {
     "name": "stdout",
     "output_type": "stream",
     "text": [
      "T_0 [K]:  16.01820633939809\n",
      "T_BR Below Threshold\n",
      "log10(mDM):  12.25\n",
      "log10(param):  24.0\n"
     ]
    },
    {
     "data": {
      "application/vnd.jupyter.widget-view+json": {
       "model_id": "100fd2f3fd6848239c87380fd38c0106",
       "version_major": 2,
       "version_minor": 0
      },
      "text/plain": [
       "HBox(children=(IntProgress(value=0, max=1277), HTML(value='')))"
      ]
     },
     "metadata": {},
     "output_type": "display_data"
    },
    {
     "name": "stdout",
     "output_type": "stream",
     "text": [
      "T_0 [K]:  18.849434920517513\n",
      "T_BR Below Threshold\n",
      "log10(param):  23.75\n"
     ]
    },
    {
     "data": {
      "application/vnd.jupyter.widget-view+json": {
       "model_id": "b3999a136e37416cb50fde9d4268c8ea",
       "version_major": 2,
       "version_minor": 0
      },
      "text/plain": [
       "HBox(children=(IntProgress(value=0, max=1277), HTML(value='')))"
      ]
     },
     "metadata": {},
     "output_type": "display_data"
    },
    {
     "name": "stdout",
     "output_type": "stream",
     "text": [
      "T_0 [K]:  26.116165103907896\n",
      "T_BR Above Threshold\n",
      "\n"
     ]
    }
   ],
   "source": [
    "%autoreload\n",
    "T_IGM_17_BR = np.zeros((log10mDM_arr.size, log10_param.size))\n",
    "param_guess = thresh_params_std[0]\n",
    "\n",
    "for i, log10mDM in enumerate(tqdm(log10mDM_arr)):\n",
    "    print('log10(mDM): ', log10mDM)\n",
    "    mDM = 10**log10mDM\n",
    "    j=len(log10_param[log10_param < param_guess])\n",
    "    above=False\n",
    "    below=False\n",
    "\n",
    "    while((not below) or (not above)):\n",
    "        log10_p = log10_param[j]\n",
    "        print('log10(param): ', log10_p)\n",
    "\n",
    "        T_BR = get_T(mDM, log10_p, False)\n",
    "        T_IGM_17_BR[i,j] = T_BR\n",
    "        print('T_0 [K]: ', T_BR)\n",
    "\n",
    "        if T_BR > Tm_bnd:\n",
    "            above = True\n",
    "            print(\"T_BR Above Threshold\")\n",
    "            j = j+1\n",
    "        else:\n",
    "            below = True\n",
    "            print(\"T_BR Below Threshold\")\n",
    "            j = j-1\n",
    "        param_guess = log10_p\n",
    "        \n",
    "                    \n",
    "pickle.dump(\n",
    "    T_IGM_17_BR, \n",
    "    open('/Users/gridgway/Desktop/T_IGM_17_'+\n",
    "         inj_str+'_'+inj_type+'_BR_coarsen'+str(coarsen_factor)+'.dat','wb')\n",
    ")"
   ]
  },
  {
   "cell_type": "markdown",
   "metadata": {},
   "source": [
    "### Plots"
   ]
  },
  {
   "cell_type": "code",
   "execution_count": 704,
   "metadata": {},
   "outputs": [],
   "source": [
    "inj_type = 'decay'\n",
    "inj_particle = 'photon'\n",
    "inj_str = inj_particle[:4]\n",
    "\n",
    "T_IGM_17_std = pickle.load(\n",
    "    open('/Users/gridgway/Desktop/T_IGM_17_'+\n",
    "         inj_str+'_'+inj_type+'_std_coarsen'+str(coarsen_factor)+'.dat','rb')\n",
    ")\n",
    "T_IGM_17_BR = pickle.load(\n",
    "    open('/Users/gridgway/Desktop/T_IGM_17_'+\n",
    "         inj_str+'_'+inj_type+'_BR_coarsen'+str(coarsen_factor)+'.dat','rb')\n",
    ")"
   ]
  },
  {
   "cell_type": "code",
   "execution_count": 662,
   "metadata": {},
   "outputs": [],
   "source": [
    "# inj_particle = 'electron'\n",
    "# inj_str = inj_particle[:4]\n",
    "# inj_type = 'swave'\n",
    "# coarsen_factor=12\n",
    "# T_IGM_17_std = pickle.load(\n",
    "#     open('/Users/gridgway/Desktop/T_IGM_17_elec_swave_std_coarsen12.dat','rb')\n",
    "# )"
   ]
  },
  {
   "cell_type": "code",
   "execution_count": 711,
   "metadata": {},
   "outputs": [],
   "source": [
    "thresh_params_std = np.array([find_param(row) for row in T_IGM_17_std])\n",
    "thresh_params_BR = np.array([find_param(row) for row in T_IGM_17_BR])\n",
    "\n",
    "std_interp = interp1d(log10mDM_arr, thresh_params_std, kind='quadratic')\n",
    "BR_interp = interp1d(log10mDM_arr, thresh_params_BR, kind='quadratic')"
   ]
  },
  {
   "cell_type": "code",
   "execution_count": 712,
   "metadata": {
    "scrolled": false
   },
   "outputs": [
    {
     "data": {
      "image/png": "[encoded data removed]",
      "text/plain": [
       "<Figure size 720x720 with 1 Axes>"
      ]
     },
     "metadata": {},
     "output_type": "display_data"
    }
   ],
   "source": [
    "log10mDM_arr_fine = np.log10(10**np.arange(log10mDM_arr[0], log10mDM_arr[-1], 0.05))\n",
    "\n",
    "plt.figure()\n",
    "ax = plt.gca()\n",
    "ax.loglog()\n",
    "\n",
    "ymin = 2e23\n",
    "ymax = 4e26\n",
    "\n",
    "xmin = 10**log10mDM_arr_fine[0]/1e9\n",
    "xmax = 10**log10mDM_arr_fine[-1]/1e9\n",
    "\n",
    "if inj_particle == 'electron':\n",
    "    plt.title(r'\\bf{21-cm Sensitivity,} $\\chi \\to e^+ e^-$')\n",
    "else:\n",
    "    plt.title(r'\\bf{21-cm Sensitivity,} $\\chi \\to \\gamma\\gamma$')\n",
    "plt.xlabel(r'Dark Matter Mass $m_\\chi$ [eV]')\n",
    "plt.ylabel(r'Minimum Lifetime $\\tau \\, [\\mathrm{s}]$')\n",
    "plt.axis([xmin, xmax, ymin, ymax])\n",
    "\n",
    "plt_std, = plt.plot(10**log10mDM_arr_fine/1e9, 10**std_interp(log10mDM_arr_fine), \n",
    "        linewidth=2, label='w/o back-reaction', color='C1')\n",
    "plt_BR, = plt.plot(10**log10mDM_arr_fine/1e9, 10**BR_interp(log10mDM_arr_fine), \n",
    "         linewidth=3, label='w/ back-reaction', color='C3')\n",
    "\n",
    "ax.fill_between(\n",
    "    10**log10mDM_arr_fine/1e9, \n",
    "    1e-15, \n",
    "    (10**BR_interp(log10mDM_arr_fine)), \n",
    "    interpolate=True, \n",
    "    color='C3',\n",
    "    alpha=.05\n",
    ")\n",
    "\n",
    "leg = plt.legend(handles=[plt_std, plt_BR],\n",
    "                 fontsize=20,\n",
    "          title='$T_{21} = -50$mK')\n",
    "plt.setp(leg.get_title(), fontsize=26)\n",
    "\n",
    "plt.savefig('/Users/gridgway/Dropbox (MIT)/Photon Deposition/Draft/plots/'+\n",
    "            'DarkHistory_21cm_Sensitivity_'+inj_type+'_'+inj_str+'.png')"
   ]
  },
  {
   "cell_type": "markdown",
   "metadata": {},
   "source": [
    "# photon decay"
   ]
  },
  {
   "cell_type": "code",
   "execution_count": null,
   "metadata": {},
   "outputs": [],
   "source": [
    "inj_particle = 'photon'\n",
    "inj_str = inj_particle[:4]\n",
    "inj_type = 'decay'\n",
    "\n",
    "if inj_type == 'swave':\n",
    "    struct_boost = struct_boost_einasto\n",
    "    struct_func = struct_boost\n",
    "else:\n",
    "    def struct_boost(rs):\n",
    "        return 1\n",
    "    struct_func = None\n",
    "    \n",
    "if inj_particle == 'photon':\n",
    "    mass = 0\n",
    "    coarsen_factor=4\n",
    "else:\n",
    "    mass = phys.me\n",
    "    coarsen_factor=12\n",
    "    \n",
    "end_rs = 18.2\n",
    "rs_init = 3000"
   ]
  },
  {
   "cell_type": "code",
   "execution_count": null,
   "metadata": {},
   "outputs": [],
   "source": [
    "def get_T(mDM, std_soln):\n",
    "    if inj_type == 'decay':\n",
    "        Einj = mDM/2-mass\n",
    "        Ecom=mDM\n",
    "    if inj_type == 'swave':\n",
    "        Einj = mDM - mass\n",
    "        Ecom = 2*mDM\n",
    "\n",
    "    if inj_particle == 'photon':\n",
    "        Etmp = photeng[photeng < Einj][-1]\n",
    "        phot_spec_init = spectools.rebin_N_arr(\n",
    "            np.array([2*Einj/Etmp]),\n",
    "            np.array([Etmp]),\n",
    "            photeng\n",
    "        )\n",
    "        phot_spec_init.rs = rs_init\n",
    "        phot_spec_init.switch_spec_type()\n",
    "\n",
    "        elec_spec_init = Spectrum(eleceng,\n",
    "                                 np.zeros_like(eleceng),\n",
    "                                 spec_type='N',\n",
    "                                 rs=rs_init)\n",
    "    else:\n",
    "        Etmp = eleceng[eleceng < Einj][-1]\n",
    "        elec_spec_init = spectools.rebin_N_arr(\n",
    "            np.array([2*Einj/Etmp]),\n",
    "            np.array([Etmp]),\n",
    "            eleceng\n",
    "        )\n",
    "        elec_spec_init.rs = rs_init\n",
    "        elec_spec_init.switch_spec_type()\n",
    "\n",
    "        phot_spec_init = Spectrum(photeng,\n",
    "                                 np.zeros_like(photeng),\n",
    "                                 spec_type='N',\n",
    "                                 rs=rs_init)\n",
    "\n",
    "    def rate_func_N(rs):\n",
    "        return phys.inj_rate(inj_type, rs, mDM=mDM, tau=10**log10_p, sigmav=10**log10_p*mDM/1e9)*struct_boost(rs)/Ecom\n",
    "    def rate_func_eng(rs):\n",
    "        return phys.inj_rate(inj_type, rs, mDM=mDM, tau=10**log10_p, sigmav=10**log10_p*mDM/1e9)*struct_boost(rs)\n",
    "\n",
    "    a = main.evolve(\n",
    "        elec_spec_init, phot_spec_init,\n",
    "        rate_func_N, rate_func_eng, end_rs,\n",
    "        highengphot_tf_interp, lowengphot_tf_interp, lowengelec_tf_interp,\n",
    "        highengdep_interp, CMB_engloss_interp,\n",
    "        ics_thomson_ref_tf, ics_rel_ref_tf, engloss_ref_tf,\n",
    "        coarsen_factor=coarsen_factor, std_soln=std_soln,\n",
    "        reion_switch=False,\n",
    "        struct_boost=struct_func,\n",
    "        ics_only=False, separate_higheng=True, CMB_subtracted=CMB_subtracted,\n",
    "        user=None, verbose=False, \n",
    "        use_tqdm=True\n",
    "    )\n",
    "    return a[1][-1]/phys.kB"
   ]
  },
  {
   "cell_type": "code",
   "execution_count": null,
   "metadata": {},
   "outputs": [],
   "source": [
    "%autoreload\n",
    "step = .25\n",
    "if inj_particle == 'photon':\n",
    "    mbnds = [4,12.5]\n",
    "    log10mDM_arr = np.arange(mbnds[0], mbnds[1], step)\n",
    "\n",
    "    if inj_type == 'decay':\n",
    "        parambnds = [23,28.25 + step] #tau\n",
    "        param_guess = 27\n",
    "    else:\n",
    "        parambnds = [-28,-25 + step] # sigma v / mDM\n",
    "        param_guess = -27\n",
    "else:\n",
    "    mbnds = [6.01,12.51]\n",
    "    log10mDM_arr = np.arange(mbnds[0], mbnds[1], step)\n",
    "\n",
    "    if inj_type == 'decay':\n",
    "        parambnds = [24,28.25 + step]\n",
    "        param_guess = 27\n",
    "    else:    \n",
    "        parambnds = [-30.5,-24.5 + step]\n",
    "        param_guess = -27\n",
    "    \n",
    "log10_param = np.arange(parambnds[0], parambnds[1], step)"
   ]
  },
  {
   "cell_type": "code",
   "execution_count": null,
   "metadata": {},
   "outputs": [],
   "source": [
    "T_21 = -50 #in mK\n",
    "tmp_xe = xe_std(end_rs)\n",
    "num = np.sqrt(.15/10/phys.omega_m*end_rs)*(phys.omega_baryon*phys.h/.02)*(1-tmp_xe)*23\n",
    "one_minus_ratio = T_21 / num\n",
    "Tm_bnd = phys.TCMB(end_rs)/(1-one_minus_ratio)/phys.kB\n",
    "print(\"T_m < \", Tm_bnd, \"K\")"
   ]
  },
  {
   "cell_type": "code",
   "execution_count": null,
   "metadata": {},
   "outputs": [],
   "source": [
    "%autoreload\n",
    "T_IGM_17_std = np.zeros((log10mDM_arr.size, log10_param.size))\n",
    "BR_guesses = np.zeros(log10mDM_arr.size)\n",
    "\n",
    "for i, log10mDM in enumerate(tqdm(log10mDM_arr)):\n",
    "    print('log10(mDM): ', log10mDM)\n",
    "    mDM = 10**log10mDM\n",
    "    j=len(log10_param[log10_param < param_guess])\n",
    "    above=False\n",
    "    below=False\n",
    "\n",
    "    while((not below) or (not above)):\n",
    "        log10_p = log10_param[j]\n",
    "        print('log10(param): ', log10_p)\n",
    "\n",
    "        T_std = get_T(mDM, True)\n",
    "        T_IGM_17_std[i,j] = T_std\n",
    "        print('T_0 [K]: ', T_std)\n",
    "\n",
    "        if T_std > Tm_bnd:\n",
    "            above = True\n",
    "            print(\"T_std Above Threshold\")\n",
    "            j = j-1\n",
    "        else:\n",
    "            below = True\n",
    "            print(\"T_std Below Threshold\")\n",
    "            j = j+1\n",
    "            \n",
    "        param_guess = log10_p\n",
    "        BR_guesses[i] = log10_param[j-1]\n",
    "        \n",
    "                    \n",
    "pickle.dump(\n",
    "    T_IGM_17_std, \n",
    "#     open('/Users/GregoryRidgway/Downloads/21cm_pwave/TLA_code/data/T_IGM_17_phot_decay_std_NFW_no_subs_source.dat','wb')\n",
    "    open('/Users/gridgway/Desktop/T_IGM_17_'+\n",
    "         inj_str+'_'+inj_type+'_std_coarsen'+str(coarsen_factor)+'.dat','wb')\n",
    ")"
   ]
  },
  {
   "cell_type": "code",
   "execution_count": null,
   "metadata": {},
   "outputs": [],
   "source": [
    "%autoreload\n",
    "T_IGM_17_BR = np.zeros((log10mDM_arr.size, log10_param.size))\n",
    "\n",
    "for i, log10mDM in enumerate(tqdm(log10mDM_arr)):\n",
    "    print('log10(mDM): ', log10mDM)\n",
    "    mDM = 10**log10mDM\n",
    "    j=len(log10_param[log10_param < BR_guesses[i]])\n",
    "    above=False\n",
    "    below=False\n",
    "\n",
    "    while((not below) or (not above)):\n",
    "        log10_p = log10_param[j]\n",
    "        print('log10(param): ', log10_p)\n",
    "\n",
    "        T_BR = get_T(mDM, True)\n",
    "        T_IGM_17_BR[i,j] = T_BR\n",
    "        print('T_0 [K]: ', T_BR)\n",
    "\n",
    "        if T_BR > Tm_bnd:\n",
    "            above = True\n",
    "            print(\"T_BR Above Threshold\")\n",
    "            j = j-1\n",
    "        else:\n",
    "            below = True\n",
    "            print(\"T_BR Below Threshold\")\n",
    "            j = j+1\n",
    "        \n",
    "                    \n",
    "pickle.dump(\n",
    "    T_IGM_17_BR, \n",
    "#     open('/Users/GregoryRidgway/Downloads/21cm_pwave/TLA_code/data/T_IGM_17_phot_decay_BR_NFW_no_subs_source.dat','wb')\n",
    "    open('/Users/gridgway/Desktop/T_IGM_17_'+\n",
    "         inj_str+'_'+inj_type+'_BR_coarsen'+str(coarsen_factor)+'.dat','wb')\n",
    ")"
   ]
  },
  {
   "cell_type": "markdown",
   "metadata": {},
   "source": [
    "# Scratch"
   ]
  },
  {
   "cell_type": "code",
   "execution_count": null,
   "metadata": {},
   "outputs": [],
   "source": [
    "log10mDM_arr_old = np.arange(4, 12.5, 0.5)\n",
    "log10_tau_decay_old = np.arange(21, 30, 0.25)\n",
    "T_IGM_17_old = pickle.load(open('/Users/gridgway/Dropbox (MIT)/21cm_pwave/TLA_code/data/T_IGM_17_phot_decay_source.dat','rb'))\n",
    "\n",
    "T_IGM_arr_old = np.arange(7.1, 50.+0.1, 0.1)\n",
    "log10tau_arr_old = np.zeros((log10mDM_arr_old.size, T_IGM_arr_old.size))\n",
    "\n",
    "for i,log10mDM in enumerate(log10mDM_arr_old):\n",
    "    tau_interp = interp1d(\n",
    "        T_IGM_17_phot_decay_old[i,:], log10_tau_decay_old, \n",
    "        bounds_error = False,\n",
    "        fill_value = (100, 0)\n",
    "                         )\n",
    "    log10tau_phot_decay_arr_old[i,:] = tau_interp(T_IGM_arr_old)\n",
    "\n",
    "log10tau_phot_decay_old = interp2d(log10mDM_arr_old, T_IGM_arr_old, np.transpose(log10tau_phot_decay_arr_old), kind='cubic')"
   ]
  },
  {
   "cell_type": "code",
   "execution_count": 451,
   "metadata": {
    "collapsed": true
   },
   "outputs": [
    {
     "data": {
      "text/plain": [
       "[1000000.0, 100000000000.0, 1e-29, 1e-24]"
      ]
     },
     "execution_count": 451,
     "metadata": {},
     "output_type": "execute_result"
    },
    {
     "data": {
      "image/png": "[encoded data removed]",
      "text/plain": [
       "<Figure size 720x720 with 1 Axes>"
      ]
     },
     "metadata": {},
     "output_type": "display_data"
    }
   ],
   "source": [
    "T_IGM_arr = np.arange(7.1, 50.+0.1, 0.1)\n",
    "log10param = np.zeros((log10mDM_arr.size, T_IGM_arr.size))\n",
    "\n",
    "for i,log10mDM in enumerate(log10mDM_arr):\n",
    "    param_interp = interp1d(\n",
    "        T_IGM_17_std[i,:], log10_param, \n",
    "        bounds_error = False,\n",
    "        fill_value = (-50, 100)\n",
    "    )\n",
    "    log10param[i,:] = param_interp(T_IGM_arr)\n",
    "    \n",
    "log10param = interp2d(log10mDM_arr, T_IGM_arr, \n",
    "                                  np.transpose(log10param), kind='cubic')\n",
    "\n",
    "log10mDM_arr_fine = np.log10(10**np.arange(log10mDM_arr[0], log10mDM_arr[-1], 0.05))\n",
    "\n",
    "plt.figure()\n",
    "\n",
    "ax = plt.gca()\n",
    "ax.set_xscale('log')\n",
    "ax.set_yscale('log')\n",
    "\n",
    "\n",
    "# ax.fill_between(\n",
    "#     10**log10mDM_arr_fine, \n",
    "#     1e23, \n",
    "#     (10**log10tau_phot_decay_old(log10mDM_arr_fine,T_m)), \n",
    "#     interpolate=True, \n",
    "#     color='C1',\n",
    "#     alpha=.05\n",
    "# )\n",
    "\n",
    "plt_backReact, = plt.plot(10**log10mDM_arr_fine, \n",
    "                  (10**log10param(log10mDM_arr_fine,T_m))\n",
    "                  , linewidth=4, label='with back-reaction', color='C3')\n",
    "\n",
    "\n",
    "\n",
    "leg = plt.legend(handles=[plt_backReact],\n",
    "                 fontsize=20,\n",
    "          title='$T_{21} = -50$mK')\n",
    "plt.setp(leg.get_title(), fontsize=28)\n",
    "\n",
    "\n",
    "ymin = 1e-29\n",
    "ymax = 1e-24\n",
    "\n",
    "xmin = 1e6\n",
    "xmax = 1e11\n",
    "\n",
    "plt.title(r'\\bf{21-cm Sensitivity,} $\\chi \\to e+ e-$')\n",
    "plt.xlabel(r'Dark Matter Mass $m_\\chi$ [eV]')\n",
    "# plt.ylabel(r'Minimum Lifetime $\\tau [\\mathrm{ s}]$')\n",
    "# plt.axis([xmin, xmax, ymin, ymax])\n",
    "plt.axis([xmin, xmax, ymin, ymax])\n",
    "\n",
    "# plt.savefig('/Users/gridgway/Desktop/DarkHistory_21cm_Sensitivity_Decay.png')"
   ]
  },
  {
   "cell_type": "code",
   "execution_count": 45,
   "metadata": {
    "scrolled": true
   },
   "outputs": [
    {
     "name": "stderr",
     "output_type": "stream",
     "text": [
      "../darkhistory/spec/spectrum.py:758: RuntimeWarning: The new abscissa lies below the old one: only bins that lie within the new abscissa will be rebinned, bins above the abscissa will be discarded.\n",
      "  warnings.warn(\"The new abscissa lies below the old one: only bins that lie within the new abscissa will be rebinned, bins above the abscissa will be discarded.\", RuntimeWarning)\n",
      "../darkhistory/spec/spectrum.py:663: RuntimeWarning: divide by zero encountered in log\n",
      "  np.log(bound_arr),\n",
      "/Users/GregoryRidgway/anaconda3/lib/python3.6/site-packages/scipy/integrate/odepack.py:218: ODEintWarning: Excess work done on this call (perhaps wrong Dfun type). Run with full_output = 1 to get quantitative information.\n",
      "  warnings.warn(warning_msg, ODEintWarning)\n"
     ]
    },
    {
     "name": "stdout",
     "output_type": "stream",
     "text": [
      "0.00188641095602\n"
     ]
    }
   ],
   "source": [
    "end_rs = 1000\n",
    "\n",
    "#inputs for the tau, mDM sweep\n",
    "mDM = 1e4\n",
    "\n",
    "tau = 1e21\n",
    "\n",
    "phot_spec_init = spectools.rebin_N_arr(np.array([2]), \n",
    "                                np.array([mDM/2]), \n",
    "                                highengphot_tf_interp.eng)\n",
    "phot_spec_init.rs = 3000\n",
    "phot_spec_init.switch_spec_type()\n",
    "        \n",
    "def rate_func_decay_N(rs):\n",
    "    # This is dN/dV dt\n",
    "    return phys.inj_rate('decay', rs, tau=tau)/mDM\n",
    "\n",
    "def rate_func_decay_eng(rs):\n",
    "    # This is dN/dV dt\n",
    "    return phys.inj_rate('decay', rs, tau=tau)\n",
    "        \n",
    "a = main.evolve(\n",
    "    phot_spec_init*0, phot_spec_init,\n",
    "    rate_func_decay_N, rate_func_decay_eng, end_rs,\n",
    "    highengphot_tf_interp, lowengphot_tf_interp, lowengelec_tf_interp,\n",
    "    xe_init=xe_std(phot_spec_init.rs), Tm_init=phys.TCMB(phot_spec_init.rs), \n",
    "    coarsen_factor=1, std_soln=True\n",
    ")\n",
    "\n",
    "print((a[1][-1]-phys.TCMB(end_rs))/phys.TCMB(end_rs))"
   ]
  },
  {
   "cell_type": "code",
   "execution_count": 49,
   "metadata": {
    "scrolled": true
   },
   "outputs": [
    {
     "name": "stdout",
     "output_type": "stream",
     "text": [
      "Starting Loop\n"
     ]
    },
    {
     "data": {
      "application/vnd.jupyter.widget-view+json": {
       "model_id": "0def50839e344d70a7780d649ee455b2",
       "version_major": 2,
       "version_minor": 0
      },
      "text/plain": [
       "A Jupyter Widget"
      ]
     },
     "metadata": {},
     "output_type": "display_data"
    },
    {
     "data": {
      "application/vnd.jupyter.widget-view+json": {
       "model_id": "c49cc1073d624787bfe2b69bcb25a91e",
       "version_major": 2,
       "version_minor": 0
      },
      "text/plain": [
       "A Jupyter Widget"
      ]
     },
     "metadata": {},
     "output_type": "display_data"
    },
    {
     "name": "stderr",
     "output_type": "stream",
     "text": [
      "../darkhistory/spec/spectrum.py:758: RuntimeWarning: The new abscissa lies below the old one: only bins that lie within the new abscissa will be rebinned, bins above the abscissa will be discarded.\n",
      "  warnings.warn(\"The new abscissa lies below the old one: only bins that lie within the new abscissa will be rebinned, bins above the abscissa will be discarded.\", RuntimeWarning)\n",
      "../darkhistory/spec/spectrum.py:663: RuntimeWarning: divide by zero encountered in log\n",
      "  np.log(bound_arr),\n",
      "/Users/GregoryRidgway/anaconda3/lib/python3.6/site-packages/scipy/integrate/odepack.py:218: ODEintWarning: Excess work done on this call (perhaps wrong Dfun type). Run with full_output = 1 to get quantitative information.\n",
      "  warnings.warn(warning_msg, ODEintWarning)\n"
     ]
    },
    {
     "name": "stdout",
     "output_type": "stream",
     "text": [
      "\n"
     ]
    }
   ],
   "source": [
    "%autoreload\n",
    "\n",
    "end_rs = 18.2\n",
    "\n",
    "#inputs for the tau, mDM sweep\n",
    "mbnds = [4,4.5]\n",
    "log10mDM_arr = np.arange(mbnds[0], mbnds[1], 0.5)\n",
    "\n",
    "taubnds = [21,21.5]\n",
    "log10_tau_decay = np.arange(taubnds[0], taubnds[1], 0.5)\n",
    "\n",
    "T_IGM_17_phot_decay_backReact = np.zeros((log10mDM_arr.size, log10_tau_decay.size))\n",
    "\n",
    "print(\"Starting Loop\")\n",
    "#Calculating T_IGM(z=17.2) for a grid of (tau,mDM) points.\n",
    "for i, log10mDM in enumerate(tqdm(log10mDM_arr)):\n",
    "    for j, log10_tau in enumerate(tqdm(log10_tau_decay)):\n",
    "        phot_spec_init = spectools.rebin_N_arr(np.array([2]), \n",
    "                                      np.array([10**log10mDM/2]), \n",
    "                                      highengphot_tf_interp.eng)\n",
    "        phot_spec_init.rs = 3000\n",
    "        phot_spec_init.switch_spec_type()\n",
    "        \n",
    "        def rate_func_decay_N(rs):\n",
    "            # This is dN/dV dt\n",
    "            return phys.inj_rate('decay', rs, tau=10**log10_tau)/10**log10mDM\n",
    "\n",
    "        def rate_func_decay_eng(rs):\n",
    "            # This is dN/dV dt\n",
    "            return phys.inj_rate('decay', rs, tau=10**log10_tau)\n",
    "        \n",
    "        a = main.evolve(\n",
    "            phot_spec_init*0, phot_spec_init,\n",
    "            rate_func_decay_N, rate_func_decay_eng, end_rs,\n",
    "            highengphot_tf_interp, lowengphot_tf_interp, lowengelec_tf_interp,\n",
    "            xe_init=xe_std(phot_spec_init.rs), Tm_init=phys.TCMB(phot_spec_init.rs), \n",
    "            coarsen_factor=1, std_soln=True\n",
    "        )\n",
    "            \n",
    "        b = main.evolve(\n",
    "            phot_spec_init*0, phot_spec_init,\n",
    "            rate_func_decay_N, rate_func_decay_eng, end_rs,\n",
    "            highengphot_tf_interp, lowengphot_tf_interp, lowengelec_tf_interp,\n",
    "            xe_init=xe_std(phot_spec_init.rs), Tm_init=phys.TCMB(phot_spec_init.rs), \n",
    "            coarsen_factor=1, std_soln=False\n",
    "        )\n",
    "\n",
    "        T_IGM_17_phot_decay_backReact[i,j] = b[1][-1]/phys.kB\n",
    "        \n",
    "# pickle.dump(\n",
    "#     T_IGM_17_phot_decay_backReact, \n",
    "#     open('/Users/GregoryRidgway/Downloads/21cm_pwave/TLA_code/data/T_IGM_17_phot_decay_backReact_NFW_no_subs_source.dat','wb')\n",
    "# )\n",
    "\n",
    "rs_vec = b[3].rs"
   ]
  },
  {
   "cell_type": "code",
   "execution_count": 50,
   "metadata": {},
   "outputs": [
    {
     "name": "stdout",
     "output_type": "stream",
     "text": [
      "DarkHistory Backreaction:  128622.736236\n",
      "DarkHistory no Backreaction:  5633.18316181\n",
      "Old results old 21cm notebook, Additional Sources.ipynb:  241682.368757\n"
     ]
    }
   ],
   "source": [
    "print(\"DarkHistory Backreaction: \", T_IGM_17_phot_decay_backReact[0,0])\n",
    "print(\"DarkHistory no Backreaction: \", a[1][-1]/phys.kB)\n",
    "T_IGM_17_phot_decay_std = pickle.load(open('/Users/GregoryRidgway/Downloads/21cm_pwave/TLA_code/data/T_IGM_17_phot_decay_source.dat','rb'))\n",
    "print(\"Old results old 21cm notebook, Additional Sources.ipynb: \", T_IGM_17_phot_decay_std[0,0])"
   ]
  },
  {
   "cell_type": "code",
   "execution_count": 128,
   "metadata": {
    "collapsed": true
   },
   "outputs": [
    {
     "name": "stdout",
     "output_type": "stream",
     "text": [
      "start to evolve\n",
      "rs, fs:  2994.005996001995   [5.010253871064946e-06, 3.139708532323484e-05, 0.0002113287238244386, 2.6324947675953802e-18, 0.002632474604939014]\n",
      "rs, fs:  2988.023968031968   [2.0911031212181267e-05, 0.00011400683398819265, 0.0006591080663632204, 8.31465202515223e-18, 0.008314585865768418]\n",
      "rs, fs:  2982.053892161797   [4.3113566113991716e-05, 0.00021772541128304762, 0.0011326374444918987, 1.4426114020448714e-17, 0.014425994774152791]\n"
     ]
    },
    {
     "name": "stderr",
     "output_type": "stream",
     "text": [
      "../darkhistory/spec/spectrum.py:748: RuntimeWarning: The new abscissa lies below the old one: only bins that lie within the new abscissa will be rebinned, bins above the abscissa will be discarded.\n",
      "  warnings.warn(\"The new abscissa lies below the old one: only bins that lie within the new abscissa will be rebinned, bins above the abscissa will be discarded.\", RuntimeWarning)\n",
      "../darkhistory/spec/spectrum.py:662: RuntimeWarning: divide by zero encountered in log\n",
      "  np.log(bound_arr),\n"
     ]
    },
    {
     "name": "stdout",
     "output_type": "stream",
     "text": [
      "rs, fs:  2976.095744511174   [6.995630529748119e-05, 0.00033668626888452456, 0.0016229273624116104, 2.0844959714827655e-17, 0.02084478078346178]\n",
      "rs, fs:  2970.149501247497   [0.00010017927491325333, 0.0004664165507982195, 0.002123144617948969, 2.7496366674205697e-17, 0.027496121629245987]\n",
      "rs, fs:  2964.215138585785   [0.0001328065141706632, 0.0006034624394151668, 0.002628045542201953, 3.4330210546906635e-17, 0.03432989295674459]\n",
      "rs, fs:  2958.29263278858   [0.00016707148202139377, 0.0007451358774270877, 0.0031335852289433603, 4.130976494437962e-17, 0.041309368279188616]\n",
      "rs, fs:  2952.38196016585   [0.00020236693922506726, 0.0008893355428200465, 0.003636637536537389, 4.8405958937941095e-17, 0.04840547651436769]\n",
      "start to evolve\n",
      "rs, fs:  2994.005996001995   [5.010253871064946e-06, 3.139708532323484e-05, 0.0002113287238244386, 2.6324746119861177e-18, 0.002632474604939014]\n",
      "rs, fs:  2988.023968031968   [2.0911031212181267e-05, 0.00011400683398819265, 0.0006591080663632204, 8.314649672411521e-18, 0.008314585865768418]\n",
      "rs, fs:  2982.053892161797   [4.3113566113991716e-05, 0.00021772541128304762, 0.0011326374444918987, 1.4426109652273865e-17, 0.014425994774152791]\n",
      "rs, fs:  2976.095744511174   [6.995630529748119e-05, 0.00033668626888452456, 0.0016229273624116104, 2.0844952955053975e-17, 0.02084478078346178]\n",
      "rs, fs:  2970.149501247497   [0.00010017927491325333, 0.0004664165507982195, 0.002123144617948969, 2.7496357124591713e-17, 0.027496121629245987]\n",
      "rs, fs:  2964.215138585785   [0.0001328065141706632, 0.0006034624394151668, 0.002628045542201953, 3.433019778464913e-17, 0.03432989295674459]\n",
      "rs, fs:  2958.29263278858   [0.00016707148202139377, 0.0007451358774270877, 0.0031335852289433603, 4.1309748521815594e-17, 0.041309368279188616]\n",
      "rs, fs:  2952.38196016585   [0.00020236693922506726, 0.0008893355428200465, 0.003636637536537389, 4.840593838274918e-17, 0.04840547651436769]\n"
     ]
    }
   ],
   "source": [
    "%autoreload\n",
    "\n",
    "end_rs = 18.2\n",
    "\n",
    "mbnds = [4,11.5]\n",
    "log10mDM_arr = np.arange(mbnds[0], mbnds[1], 0.5)\n",
    "\n",
    "taubnds = [21,30]\n",
    "log10_tau_decay = np.arange(taubnds[0], taubnds[1], 0.5)\n",
    "\n",
    "T_IGM_17_phot_decay_backReact = np.zeros((log10mDM_arr.size, log10_tau_decay.size))\n",
    "\n",
    "\n",
    "#Calculating T_IGM(z=17.2) for a grid of (tau,mDM) points.\n",
    "for i, log10mDM in enumerate(tqdm(log10mDM_arr)):\n",
    "    for j, log10_tau in enumerate(tqdm(log10_tau_decay)):\n",
    "        mDM = 10**log10mDM\n",
    "        Einj = mDM/2\n",
    "        Ecom=mDM\n",
    "        \n",
    "        phot_spec_init.rs = 3000\n",
    "        \n",
    "        Etmp = photeng[photeng < Einj][-1]\n",
    "        phot_spec_init = spectools.rebin_N_arr(\n",
    "            np.array([2*Einj/Etmp]),\n",
    "            np.array([Etmp]),\n",
    "            photeng\n",
    "        )\n",
    "        phot_spec_init.rs = 3000\n",
    "        phot_spec_init.switch_spec_type()\n",
    "        \n",
    "        elec_spec_init = Spectrum(eleceng,\n",
    "                                 np.zeros_like(eleceng),\n",
    "                                 spec_type='N',\n",
    "                                 rs=3000)\n",
    "        \n",
    "        def rate_func_N(rs):\n",
    "            return phys.inj_rate(inj_type, rs, mDM=mDM, sigmav=sigmav, tau=tau)*struct_boost(rs)/Ecom\n",
    "        def rate_func_eng(rs):\n",
    "            return phys.inj_rate(inj_type, rs, mDM=mDM, sigmav=sigmav, tau=tau)*struct_boost(rs)\n",
    "        \n",
    "        a = main.evolve(\n",
    "        elec_spec_init, phot_spec_init,\n",
    "        rate_func_N, rate_func_eng, end_rs,\n",
    "        highengphot_tf_interp, lowengphot_tf_interp, lowengelec_tf_interp,\n",
    "        highengdep_interp, CMB_engloss_interp,\n",
    "        ics_thomson_ref_tf, ics_rel_ref_tf, engloss_ref_tf,\n",
    "        coarsen_factor=1, std_soln=True,\n",
    "        reion_switch=False,\n",
    "        struct_boost=None,\n",
    "        ics_only=False, separate_higheng=True, CMB_subtracted=CMB_subtracted,\n",
    "        xH_func=xe_idl_func, xHe_func=xHe_idl_func, user=None, verbose=False, \n",
    "        use_tqdm=True\n",
    "        )\n",
    "\n",
    "        b = main.evolve(\n",
    "            elec_spec_init, phot_spec_init,\n",
    "            rate_func_N, rate_func_eng, end_rs,\n",
    "            highengphot_tf_interp, lowengphot_tf_interp, lowengelec_tf_interp,\n",
    "            highengdep_interp, CMB_engloss_interp,\n",
    "            ics_thomson_ref_tf, ics_rel_ref_tf, engloss_ref_tf,\n",
    "            coarsen_factor=1, std_soln=False,\n",
    "            reion_switch=False,\n",
    "            struct_boost=None,\n",
    "            ics_only=False, separate_higheng=True, CMB_subtracted=CMB_subtracted,\n",
    "            xH_func=xe_idl_func, xHe_func=xHe_idl_func, user=None, verbose=False, \n",
    "            use_tqdm=True\n",
    "        )\n",
    "\n",
    "        T_IGM_17_phot_decay_std[i,j] = a[1][-1]/phys.kB\n",
    "        T_IGM_17_phot_decay_backReact[i,j] = b[1][-1]/phys.kB\n",
    "        \n",
    "pickle.dump(\n",
    "    T_IGM_17_phot_decay_std, \n",
    "#     open('/Users/GregoryRidgway/Downloads/21cm_pwave/TLA_code/data/T_IGM_17_phot_decay_std_NFW_no_subs_source.dat','wb')\n",
    "    open('/Users/GregoryRidgway/Desktop/T_IGM_17_phot_decay_std_NFW_no_subs_source.dat','wb')\n",
    ")\n",
    "        \n",
    "pickle.dump(\n",
    "    T_IGM_17_phot_decay_backReact, \n",
    "#     open('/Users/GregoryRidgway/Downloads/21cm_pwave/TLA_code/data/T_IGM_17_phot_decay_backReact_NFW_no_subs_source.dat','wb')\n",
    "    open('/Users/GregoryRidgway/Desktop/T_IGM_17_phot_decay_backReact_NFW_no_subs_source.dat','wb')\n",
    ")\n",
    "\n",
    "rs_vec = b[3].rs\n"
   ]
  },
  {
   "cell_type": "code",
   "execution_count": null,
   "metadata": {},
   "outputs": [],
   "source": [
    "#injection energy, DM mass, center-of-mass energy\n",
    "    \n",
    "        \n",
    "        \n",
    "    \n",
    "    \n",
    "    data[i] = (a,b)\n",
    "\n",
    "    diff_list[i] = (1-b[1]/a[1]) * 100"
   ]
  },
  {
   "cell_type": "markdown",
   "metadata": {},
   "source": [
    "What was computed before using `21cm_pwave/TLA_code/examples/old_notebooks/Additional_Sources.ipynb`"
   ]
  },
  {
   "cell_type": "code",
   "execution_count": 18,
   "metadata": {},
   "outputs": [],
   "source": [
    "log10mDM_arr = np.arange(4, 12.5, 0.5)\n",
    "log10_tau_decay = np.arange(21, 30, 0.25)\n",
    "T_IGM_17_phot_decay = pickle.load(open('/Users/GregoryRidgway/Downloads/21cm_pwave/TLA_code/data/T_IGM_17_phot_decay_source.dat','rb'))\n",
    "\n",
    "T_IGM_arr = np.arange(7.1, 50.+0.1, 0.1)\n",
    "log10tau_phot_decay_arr = np.zeros((log10mDM_arr.size, T_IGM_arr.size))\n",
    "\n",
    "for i,log10mDM in enumerate(log10mDM_arr):\n",
    "    tau_interp = interp1d(\n",
    "        T_IGM_17_phot_decay[i,:], log10_tau_decay, \n",
    "        bounds_error = False,\n",
    "        fill_value = (100, 0)\n",
    "                         )\n",
    "    log10tau_phot_decay_arr[i,:] = tau_interp(T_IGM_arr)\n",
    "\n",
    "log10tau_phot_decay_old = interp2d(log10mDM_arr, T_IGM_arr, np.transpose(log10tau_phot_decay_arr), kind='cubic')"
   ]
  },
  {
   "cell_type": "markdown",
   "metadata": {},
   "source": [
    "DarkHistory (with Backreaction)"
   ]
  },
  {
   "cell_type": "code",
   "execution_count": 67,
   "metadata": {},
   "outputs": [
    {
     "data": {
      "image/png": "[encoded data removed]",
      "text/plain": [
       "<matplotlib.figure.Figure at 0x118fb7e10>"
      ]
     },
     "metadata": {},
     "output_type": "display_data"
    }
   ],
   "source": [
    "T_21 = -.1\n",
    "\n",
    "#Specify grid of mDM and tau\n",
    "mbnds = [4,11.5]\n",
    "log10mDM_arr = np.arange(mbnds[0], mbnds[1], 0.5)\n",
    "taubnds = [23,28]\n",
    "log10_tau_decay = np.arange(taubnds[0], taubnds[1], 0.5)\n",
    "\n",
    "## Load T(z=17.2) data, with and without backreaction\n",
    "# T_IGM_17_phot_decay_std = pickle.load(\n",
    "#     open('/Users/GregoryRidgway/Downloads/21cm_pwave/TLA_code/data/'+\n",
    "#          'T_IGM_17_phot_decay_std_NFW_no_subs_source.dat','rb')\n",
    "# )\n",
    "\n",
    "T_IGM_17_phot_decay_backReact = pickle.load(\n",
    "    open('/Users/GregoryRidgway/Downloads/T_IGM_17_phot_decay_backReact.dat','rb')\n",
    ")\n",
    "\n",
    "T_IGM_arr = np.arange(7.1, 50.+0.1, 0.1)\n",
    "log10tau_phot_decay_arr_backReact = np.zeros((log10mDM_arr.size, T_IGM_arr.size))\n",
    "# log10tau_phot_decay_arr_std = np.zeros((log10mDM_arr.size, T_IGM_arr.size))\n",
    "\n",
    "for i,log10mDM in enumerate(log10mDM_arr):\n",
    "    tau_interp_backReact = interp1d(\n",
    "        T_IGM_17_phot_decay_backReact[i,:], log10_tau_decay, \n",
    "        bounds_error = False,\n",
    "        fill_value = (-50, 100)\n",
    "    )\n",
    "    log10tau_phot_decay_arr_backReact[i,:] = tau_interp_backReact(T_IGM_arr)\n",
    "    \n",
    "#     tau_interp_std = interp1d(\n",
    "#         T_IGM_17_phot_decay_std[i,:], log10_tau_decay, \n",
    "#         bounds_error = False,\n",
    "#         fill_value = (-50, 100)\n",
    "#     )\n",
    "#     log10tau_phot_decay_arr_std[i,:] = tau_interp_std(T_IGM_arr)\n",
    "    \n",
    "log10tau_phot_decay_backReact = interp2d(log10mDM_arr, T_IGM_arr, \n",
    "                                  np.transpose(log10tau_phot_decay_arr_backReact), kind='cubic')\n",
    "# log10tau_phot_decay_std = interp2d(log10mDM_arr, T_IGM_arr, \n",
    "#                                   np.transpose(log10tau_phot_decay_arr_std), kind='cubic')\n",
    "\n",
    "\n",
    "log10mDM_arr_fine = np.log10(10**np.arange(mbnds[0], mbnds[1], 0.05))\n",
    "\n",
    "plt.figure()\n",
    "\n",
    "ax = plt.gca()\n",
    "ax.set_xscale('log')\n",
    "ax.set_yscale('log')\n",
    "\n",
    "tmp_xe=0\n",
    "num = np.sqrt(.15/10/phys.omega_m)*(phys.omega_baryon*phys.h/.02)*23*.001\n",
    "one_minus_ratio = T_21 / num / (1-tmp_xe) / np.sqrt(1+17.2)\n",
    "temp_dat = 1-one_minus_ratio\n",
    "T_m = phys.TCMB(17.2)/temp_dat/phys.kB\n",
    "# T_m = 10.5\n",
    "\n",
    "plt_old, = plt.plot(10**log10mDM_arr_fine, \n",
    "                  (10**log10tau_phot_decay_old(log10mDM_arr_fine,T_m))\n",
    "                  , linewidth=2, label='no back-reaction', color='C1')\n",
    "# plt.text()\n",
    "\n",
    "ax.fill_between(\n",
    "    10**log10mDM_arr_fine, \n",
    "    1e23, \n",
    "    (10**log10tau_phot_decay_old(log10mDM_arr_fine,T_m)), \n",
    "    interpolate=True, \n",
    "    color='C1',\n",
    "    alpha=.05\n",
    ")\n",
    "\n",
    "\n",
    "\n",
    "# plt_std, = plt.plot(10**log10mDM_arr_fine, \n",
    "#                   (10**log10tau_phot_decay_std(log10mDM_arr_fine,T_m))\n",
    "#                   , linewidth=2, label='No Backreaction')\n",
    "\n",
    "plt_backReact, = plt.plot(10**log10mDM_arr_fine, \n",
    "                  (10**log10tau_phot_decay_backReact(log10mDM_arr_fine,T_m))\n",
    "                  , linewidth=4, label='with back-reaction', color='C3')\n",
    "\n",
    "\n",
    "\n",
    "# plt_D, = plt.plot(ms_D, sigs_D, 'k', linewidth=2, label='Diamanti et. al., 1308.2578')\n",
    "\n",
    "leg = plt.legend(handles=[plt_old, plt_backReact],\n",
    "                 fontsize=20,\n",
    "          title='$T_{21} = -100$mK')\n",
    "plt.setp(leg.get_title(), fontsize=28)\n",
    "\n",
    "\n",
    "ymin = 1e24\n",
    "ymax = 2e27\n",
    "\n",
    "xmin = 1e4\n",
    "xmax = 1e11\n",
    "\n",
    "plt.title(r'\\bf{21-cm Sensitivity,} $\\chi \\to \\gamma \\gamma$')\n",
    "plt.xlabel(r'Dark Matter Mass $m_\\chi$ [eV]')\n",
    "plt.ylabel(r'Minimum Lifetime $\\tau [\\mathrm{ s}]$')\n",
    "# plt.axis([xmin, xmax, ymin, ymax])\n",
    "plt.axis([xmin, xmax, ymin, ymax])\n",
    "\n",
    "plt.savefig('/Users/GregoryRidgway/Desktop/DarkHistory_21cm_Sensitivity_Decay.pdf')"
   ]
  },
  {
   "cell_type": "code",
   "execution_count": null,
   "metadata": {
    "collapsed": true
   },
   "outputs": [],
   "source": []
  }
 ],
 "metadata": {
  "kernelspec": {
   "display_name": "Python 3",
   "language": "python",
   "name": "python3"
  },
  "language_info": {
   "codemirror_mode": {
    "name": "ipython",
    "version": 3
   },
   "file_extension": ".py",
   "mimetype": "text/x-python",
   "name": "python",
   "nbconvert_exporter": "python",
   "pygments_lexer": "ipython3",
   "version": "3.6.5"
  }
 },
 "nbformat": 4,
 "nbformat_minor": 2
}
