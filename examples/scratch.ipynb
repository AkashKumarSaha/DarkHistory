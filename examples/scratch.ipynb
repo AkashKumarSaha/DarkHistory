{
 "cells": [
  {
   "cell_type": "code",
   "execution_count": 2,
   "metadata": {},
   "outputs": [],
   "source": [
    "%load_ext autoreload\n",
    "import sys\n",
    "sys.path.append(\"..\")"
   ]
  },
  {
   "cell_type": "code",
   "execution_count": 3,
   "metadata": {},
   "outputs": [],
   "source": [
    "%matplotlib inline"
   ]
  },
  {
   "cell_type": "code",
   "execution_count": 52,
   "metadata": {},
   "outputs": [],
   "source": [
    "import matplotlib.pyplot as plt\n",
    "\n",
    "import numpy as np\n",
    "\n",
    "import darkhistory.physics as phys\n",
    "import main\n",
    "# import darkhistory.history.tla as tla"
   ]
  },
  {
   "cell_type": "code",
   "execution_count": 61,
   "metadata": {},
   "outputs": [
    {
     "data": {
      "application/vnd.jupyter.widget-view+json": {
       "model_id": "2e9673d69eb24c049d6309fb9b1939d8",
       "version_major": 2,
       "version_minor": 0
      },
      "text/plain": [
       "HBox(children=(IntProgress(value=0, max=552), HTML(value='')))"
      ]
     },
     "metadata": {},
     "output_type": "display_data"
    },
    {
     "name": "stdout",
     "output_type": "stream",
     "text": [
      "1 1 1 [False  True]\n",
      "0 0 0 [ True  True]\n"
     ]
    },
    {
     "ename": "IndexError",
     "evalue": "index -1 is out of bounds for axis 0 with size 0",
     "output_type": "error",
     "traceback": [
      "\u001b[0;31m---------------------------------------------------------------------------\u001b[0m",
      "\u001b[0;31mIndexError\u001b[0m                                Traceback (most recent call last)",
      "\u001b[0;32m<ipython-input-61-2a947ca1bce2>\u001b[0m in \u001b[0;36m<module>\u001b[0;34m\u001b[0m\n\u001b[1;32m     26\u001b[0m     \u001b[0mDM_process\u001b[0m\u001b[0;34m=\u001b[0m\u001b[0;34m'decay'\u001b[0m\u001b[0;34m,\u001b[0m \u001b[0mmDM\u001b[0m\u001b[0;34m=\u001b[0m\u001b[0;36m2e4\u001b[0m\u001b[0;34m,\u001b[0m \u001b[0mlifetime\u001b[0m\u001b[0;34m=\u001b[0m\u001b[0;36m1e24\u001b[0m\u001b[0;34m,\u001b[0m \u001b[0mprimary\u001b[0m\u001b[0;34m=\u001b[0m\u001b[0;34m'phot_delta'\u001b[0m\u001b[0;34m,\u001b[0m\u001b[0;34m\u001b[0m\u001b[0;34m\u001b[0m\u001b[0m\n\u001b[1;32m     27\u001b[0m     \u001b[0mreion_switch\u001b[0m \u001b[0;34m=\u001b[0m \u001b[0;32mTrue\u001b[0m\u001b[0;34m,\u001b[0m \u001b[0mreion_rs\u001b[0m \u001b[0;34m=\u001b[0m \u001b[0;36m7\u001b[0m\u001b[0;34m,\u001b[0m \u001b[0mxe_reion_func\u001b[0m\u001b[0;34m=\u001b[0m\u001b[0mfunc\u001b[0m\u001b[0;34m,\u001b[0m\u001b[0;34m\u001b[0m\u001b[0;34m\u001b[0m\u001b[0m\n\u001b[0;32m---> 28\u001b[0;31m     \u001b[0mbackreaction\u001b[0m\u001b[0;34m=\u001b[0m\u001b[0;32mFalse\u001b[0m\u001b[0;34m,\u001b[0m \u001b[0mcompute_fs_method\u001b[0m\u001b[0;34m=\u001b[0m\u001b[0;34m'He'\u001b[0m\u001b[0;34m\u001b[0m\u001b[0;34m\u001b[0m\u001b[0m\n\u001b[0m\u001b[1;32m     29\u001b[0m )\n",
      "\u001b[0;32m~/GitHub/DarkHistory/main.py\u001b[0m in \u001b[0;36mevolve\u001b[0;34m(in_spec_elec, in_spec_phot, rate_func_N, rate_func_eng, DM_process, mDM, sigmav, lifetime, primary, struct_boost, start_rs, end_rs, helium_TLA, reion_switch, reion_rs, photoion_rate_func, photoheat_rate_func, xe_reion_func, init_cond, coarsen_factor, backreaction, compute_fs_method, mxstep, rtol, use_tqdm, cross_check)\u001b[0m\n\u001b[1;32m    580\u001b[0m             \u001b[0mphotoheat_rate_func\u001b[0m\u001b[0;34m=\u001b[0m\u001b[0mphotoheat_rate_func\u001b[0m\u001b[0;34m,\u001b[0m\u001b[0;34m\u001b[0m\u001b[0;34m\u001b[0m\u001b[0m\n\u001b[1;32m    581\u001b[0m             \u001b[0mxe_reion_func\u001b[0m\u001b[0;34m=\u001b[0m\u001b[0mxe_reion_func\u001b[0m\u001b[0;34m,\u001b[0m \u001b[0mhelium_TLA\u001b[0m\u001b[0;34m=\u001b[0m\u001b[0mhelium_TLA\u001b[0m\u001b[0;34m,\u001b[0m\u001b[0;34m\u001b[0m\u001b[0;34m\u001b[0m\u001b[0m\n\u001b[0;32m--> 582\u001b[0;31m             \u001b[0mf_He_ion\u001b[0m\u001b[0;34m=\u001b[0m\u001b[0mf_He_ion\u001b[0m\u001b[0;34m,\u001b[0m \u001b[0mmxstep\u001b[0m\u001b[0;34m=\u001b[0m\u001b[0mmxstep\u001b[0m\u001b[0;34m,\u001b[0m \u001b[0mrtol\u001b[0m\u001b[0;34m=\u001b[0m\u001b[0mrtol\u001b[0m\u001b[0;34m\u001b[0m\u001b[0;34m\u001b[0m\u001b[0m\n\u001b[0m\u001b[1;32m    583\u001b[0m         )\n\u001b[1;32m    584\u001b[0m \u001b[0;34m\u001b[0m\u001b[0m\n",
      "\u001b[0;32m~/GitHub/DarkHistory/darkhistory/history/tla.py\u001b[0m in \u001b[0;36mget_history\u001b[0;34m(rs_vec, init_cond, baseline_f, inj_particle, f_H_ion, f_H_exc, f_heating, DM_process, mDM, sigmav, lifetime, struct_boost, injection_rate, reion_switch, reion_rs, photoion_rate_func, photoheat_rate_func, xe_reion_func, helium_TLA, f_He_ion, mxstep, rtol)\u001b[0m\n\u001b[1;32m    723\u001b[0m             \u001b[0;31m# Append the last redshift before reionization model.\u001b[0m\u001b[0;34m\u001b[0m\u001b[0;34m\u001b[0m\u001b[0;34m\u001b[0m\u001b[0m\n\u001b[1;32m    724\u001b[0m             rs_above_std_xe_vec = np.insert(\n\u001b[0;32m--> 725\u001b[0;31m                 \u001b[0mrs_above_std_xe_vec\u001b[0m\u001b[0;34m,\u001b[0m \u001b[0;36m0\u001b[0m\u001b[0;34m,\u001b[0m \u001b[0mrs_below_std_xe_vec\u001b[0m\u001b[0;34m[\u001b[0m\u001b[0;34m-\u001b[0m\u001b[0;36m1\u001b[0m\u001b[0;34m]\u001b[0m\u001b[0;34m\u001b[0m\u001b[0;34m\u001b[0m\u001b[0m\n\u001b[0m\u001b[1;32m    726\u001b[0m             )\n\u001b[1;32m    727\u001b[0m \u001b[0;34m\u001b[0m\u001b[0m\n",
      "\u001b[0;31mIndexError\u001b[0m: index -1 is out of bounds for axis 0 with size 0"
     ]
    }
   ],
   "source": [
    "%autoreload\n",
    "\n",
    "rs_vec = np.flipud(np.arange(5, 3000, 1))\n",
    "\n",
    "def func(rs):\n",
    "    \n",
    "    if isinstance(rs, np.ndarray):\n",
    "    \n",
    "        xe_to_return = np.zeros_like(rs)\n",
    "        xe_to_return[np.where(rs < 7)] = 1\n",
    "\n",
    "        return xe_to_return\n",
    "    \n",
    "    else:\n",
    "        \n",
    "        if rs > 7:\n",
    "            \n",
    "            return 0\n",
    "        \n",
    "        else:\n",
    "            \n",
    "            return 1.\n",
    "\n",
    "test2 = main.evolve(\n",
    "    start_rs=3000, coarsen_factor=12,\n",
    "    DM_process='decay', mDM=2e4, lifetime=1e24, primary='phot_delta',\n",
    "    reion_switch = True, reion_rs = 7, xe_reion_func=func,\n",
    "    backreaction=False, compute_fs_method='He'\n",
    ")"
   ]
  },
  {
   "cell_type": "code",
   "execution_count": 51,
   "metadata": {},
   "outputs": [
    {
     "data": {
      "text/plain": [
       "[<matplotlib.lines.Line2D at 0x181dc76908>]"
      ]
     },
     "execution_count": 51,
     "metadata": {},
     "output_type": "execute_result"
    },
    {
     "data": {
      "image/png": "[encoded data removed]",
      "text/plain": [
       "<Figure size 432x288 with 1 Axes>"
      ]
     },
     "metadata": {
      "needs_background": "light"
     },
     "output_type": "display_data"
    }
   ],
   "source": [
    "plt.figure()\n",
    "\n",
    "plt.loglog()\n",
    "\n",
    "plt.plot(rs_vec, test2[:,0]/phys.kB)"
   ]
  },
  {
   "cell_type": "code",
   "execution_count": 53,
   "metadata": {},
   "outputs": [],
   "source": [
    "?main.evolve"
   ]
  },
  {
   "cell_type": "code",
   "execution_count": 24,
   "metadata": {},
   "outputs": [
    {
     "data": {
      "text/plain": [
       "array([[7.04232739e-01, 9.99999999e-01, 9.99998695e-13, 9.99998695e-13],\n",
       "       [7.04126271e-01, 9.99999999e-01, 9.99998695e-13, 9.99998695e-13],\n",
       "       [7.03891275e-01, 9.99999999e-01, 9.99998695e-13, 9.99998695e-13],\n",
       "       ...,\n",
       "       [9.04744350e-05, 1.90694083e-04, 9.99998695e-13, 9.99998695e-13],\n",
       "       [6.65100843e-05, 1.88570323e-04, 9.99998695e-13, 9.99998695e-13],\n",
       "       [4.62064135e-05, 1.86229989e-04, 9.99998695e-13, 9.99998695e-13]])"
      ]
     },
     "execution_count": 24,
     "metadata": {},
     "output_type": "execute_result"
    }
   ],
   "source": [
    "test"
   ]
  },
  {
   "cell_type": "code",
   "execution_count": null,
   "metadata": {},
   "outputs": [],
   "source": []
  }
 ],
 "metadata": {
  "kernelspec": {
   "display_name": "Python 3",
   "language": "python",
   "name": "python3"
  },
  "language_info": {
   "codemirror_mode": {
    "name": "ipython",
    "version": 3
   },
   "file_extension": ".py",
   "mimetype": "text/x-python",
   "name": "python",
   "nbconvert_exporter": "python",
   "pygments_lexer": "ipython3",
   "version": "3.6.9"
  },
  "toc": {
   "base_numbering": 1,
   "nav_menu": {},
   "number_sections": true,
   "sideBar": true,
   "skip_h1_title": false,
   "title_cell": "Table of Contents",
   "title_sidebar": "Contents",
   "toc_cell": false,
   "toc_position": {},
   "toc_section_display": true,
   "toc_window_display": false
  }
 },
 "nbformat": 4,
 "nbformat_minor": 2
}
