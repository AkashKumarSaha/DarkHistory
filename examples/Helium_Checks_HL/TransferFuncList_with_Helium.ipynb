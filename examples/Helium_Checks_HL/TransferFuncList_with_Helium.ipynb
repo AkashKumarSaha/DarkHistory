{
 "cells": [
  {
   "cell_type": "markdown",
   "metadata": {},
   "source": [
    "# Rewriting TransferFuncList"
   ]
  },
  {
   "cell_type": "code",
   "execution_count": 1,
   "metadata": {},
   "outputs": [],
   "source": [
    "%load_ext autoreload\n",
    "import sys\n",
    "sys.path.append(\"../..\")"
   ]
  },
  {
   "cell_type": "code",
   "execution_count": 2,
   "metadata": {},
   "outputs": [],
   "source": [
    "%autoreload\n",
    "\n",
    "import matplotlib\n",
    "matplotlib.rc_file('matplotlibrc')\n",
    "import matplotlib.pyplot as plt\n",
    "\n",
    "%matplotlib inline\n",
    "\n",
    "matplotlib.rcParams['figure.figsize'] = [10,10]\n",
    "\n",
    "# SET THIS TO TRUE TO USE LATEX\n",
    "matplotlib.rcParams['text.usetex'] = False\n",
    "\n",
    "from astropy.io import fits\n",
    "\n",
    "import numpy as np\n",
    "import copy\n",
    "import pickle\n",
    "\n",
    "import darkhistory.physics as phys\n",
    "import darkhistory.utilities as utils\n",
    "import darkhistory.spec.spectools as spectools\n",
    "import darkhistory.spec.transferfunction as tf\n",
    "import darkhistory.spec.transferfunclist as tflist\n",
    "from darkhistory.spec.spectrum import Spectrum\n",
    "from darkhistory.spec.spectra import Spectra\n",
    "import darkhistory.history.tla as tla\n",
    "\n",
    "from scipy.interpolate import interp1d\n",
    "from scipy.interpolate import interp2d\n",
    "\n",
    "from tqdm import tqdm_notebook as tqdm\n",
    "\n",
    "from darkhistory.electrons.ics.ics_spectrum import ics_spec\n",
    "from darkhistory.electrons.ics.ics_engloss_spectrum import engloss_spec\n",
    "from darkhistory.electrons.ics.ics_cooling import get_ics_cooling_tf\n",
    "\n",
    "from darkhistory.low_energy.lowE_deposition import compute_fs\n",
    "import main\n",
    "\n",
    "from tqdm import tqdm_notebook as tqdm\n",
    "\n",
    "np.set_printoptions(threshold=np.nan)"
   ]
  },
  {
   "cell_type": "code",
   "execution_count": 3,
   "metadata": {},
   "outputs": [],
   "source": [
    "standard_tfs = False\n",
    "direc = '/Users/hongwan/Dropbox (MIT)/Photon Deposition/tfs_20190120/'\n",
    "\n",
    "string_fixed_xe = 'standard_xe_xHe_full_rs'\n",
    "string_with_xHe_0 = 'xHe0'\n",
    "string_with_xHe = 'full_xHe'\n",
    "\n",
    "################# Standard xe Transfer Functions ##############################\n",
    "# This is a TransferFuncList\n",
    "highengphot_tflist_fixed_xe = pickle.load(open(direc+'tfunclist_photspec_60eV_complete_'+string_fixed_xe+'.raw','rb'))\n",
    "highengphot_tflist_fixed_xe = highengphot_tflist_fixed_xe[0]\n",
    "\n",
    "################# xHe=0 Transfer Functions ####################################\n",
    "highengphot_tflist_xHe_0 = pickle.load(open(direc+'tfunclist_photspec_60eV_complete_'+string_with_xHe_0+'.raw', 'rb'))\n",
    "\n",
    "xes_xHe_0 = 0.5 + 0.5*np.tanh(\n",
    "    [-5., -4.1, -3.2, -2.3, -1.8, -1.4, -1, -.8, -0.65, -0.5, -.24, 0, .2, 0.4, .7, 1.3, 2.2, 3.1, 4]\n",
    ")\n",
    "\n",
    "\n",
    "\n",
    "################# Full xHe-Dependent Transfer Functions #######################\n",
    "\n",
    "highengphot_tflist_arr_with_xHe = pickle.load(open(direc+'tfunclist_photspec_60eV_complete_'+string_with_xHe+'.raw', 'rb'))\n",
    "\n",
    "xes_with_xHe = 0.5 + 0.5*np.tanh(\n",
    "    np.array(\n",
    "        [-5.0, -2.3, -0.5, 0.0, 0.4, 2.2, 4.0]\n",
    "    )\n",
    ")\n",
    "\n",
    "x_arr_with_xHe = np.array([[[xH, xHe] for xHe in xes_with_xHe] for xH in xes_with_xHe])\n"
   ]
  },
  {
   "cell_type": "code",
   "execution_count": null,
   "metadata": {},
   "outputs": [],
   "source": [
    "# highengphot_tflist_arr_with_xHe\n",
    "# highengphot_tflist_xHe_0\n",
    "highengphot_tflist_fixed_xe"
   ]
  },
  {
   "cell_type": "code",
   "execution_count": null,
   "metadata": {},
   "outputs": [],
   "source": [
    "\n",
    "highengphot_xHe_0_tflistarr = tflist.TransferFuncListArray(highengphot_tflist_xHe_0, xes_xHe_0) \n",
    "highengphot_full_xHe_tflistarr = tflist.TransferFuncListArray(highengphot_tflist_arr_with_xHe, x_arr_with_xHe)\n"
   ]
  },
  {
   "cell_type": "code",
   "execution_count": null,
   "metadata": {},
   "outputs": [],
   "source": [
    "\n",
    "\n",
    "list_of_tflistarr = [\n",
    "        highengphot_full_xHe_tflistarr, \n",
    "        highengphot_xHe_0_tflistarr, \n",
    "        highengphot_tflist_fixed_xe\n",
    "    ]\n",
    "\n",
    "a = tflist.TransferFuncInterp(list_of_tflistarr, rs_nodes=[30, 1600])"
   ]
  },
  {
   "cell_type": "code",
   "execution_count": null,
   "metadata": {},
   "outputs": [],
   "source": [
    "\n",
    "a.get_tf(0.5, 0.5, 300)"
   ]
  },
  {
   "cell_type": "code",
   "execution_count": null,
   "metadata": {},
   "outputs": [],
   "source": [
    "string_fixed_xe = 'standard_xe_xHe_full_rs'\n",
    "string_with_xHe_0 = 'xHe0'\n",
    "string_with_xHe = 'full_xHe'\n",
    "\n",
    "highengdep_arr = pickle.load(\n",
    "            open(\n",
    "                direc+\"highdeposited_60eV_complete_\"\n",
    "                +string_with_xHe+\".raw\", \"rb\"\n",
    "            )\n",
    "        )"
   ]
  },
  {
   "cell_type": "code",
   "execution_count": null,
   "metadata": {},
   "outputs": [],
   "source": [
    "highengdep_arr.shape"
   ]
  },
  {
   "cell_type": "code",
   "execution_count": 4,
   "metadata": {},
   "outputs": [
    {
     "name": "stdout",
     "output_type": "stream",
     "text": [
      "Loading transfer functions, set 0\n",
      "Loaded high energy photons...\n",
      "Low energy photons...\n",
      "Low energy electrons...\n",
      "High energy deposition...\n",
      "CMB losses.\n",
      "Transfer function lists set  0  complete.\n",
      "Padding transfer functions...\n",
      "High energy photons...\n",
      "Low energy photons...\n",
      "Low energy electrons...\n",
      "High energy deposition...\n",
      "CMB losses...\n",
      "Creating array objects...\n",
      "Generating TransferFuncInterp object...\n",
      "Loading transfer functions, set 1\n",
      "Loaded high energy photons...\n",
      "Low energy photons...\n",
      "Low energy electrons...\n",
      "High energy deposition...\n",
      "CMB losses.\n",
      "Transfer function lists set  1  complete.\n",
      "Padding transfer functions...\n",
      "High energy photons...\n",
      "Low energy photons...\n",
      "Low energy electrons...\n",
      "High energy deposition...\n",
      "CMB losses...\n",
      "Creating array objects...\n",
      "Generating TransferFuncInterp object...\n",
      "Loading transfer functions, set 2\n",
      "Loaded high energy photons...\n",
      "Low energy photons...\n",
      "Low energy electrons...\n",
      "High energy deposition...\n",
      "CMB losses.\n",
      "Transfer function lists set  2  complete.\n",
      "Padding transfer functions...\n",
      "High energy photons...\n",
      "Low energy photons...\n",
      "Low energy electrons...\n",
      "High energy deposition...\n",
      "CMB losses...\n",
      "Creating array objects...\n",
      "Generating TransferFuncInterp object...\n",
      "noninterp\n",
      "noninterp\n",
      "noninterp\n",
      "noninterp\n",
      "[   4.            4.56626611    5.21269655    5.9506399     6.79305133\n",
      "    7.75472002    8.85252881   10.10575058   11.5363866    13.16955279\n",
      "   15.03392065   17.1622206    19.59181658   22.36536203   25.53154867\n",
      "   29.14596137   33.27205392   37.98226307   43.35928017   49.49750292\n",
      "   56.50469254   64.50386567   73.63545397   84.05976951   95.95981921\n",
      "  109.54451763  125.05235464  142.75558229  162.9649944   186.03538282\n",
      "  212.37176602  242.43649955  276.75739302  315.93697621  360.66307695\n",
      "  411.72089648  470.00679424  536.54402417  612.50069871  699.21029593\n",
      "  798.19506977  911.19277434  973.5558714  1040.18717161 1111.37879578\n",
      " 1187.44285781 1268.71283303 1355.54502022 1448.32010365 1547.44482208\n",
      " 1653.35375194 1766.51121258 1887.41330191 2016.59007136 2154.60784969\n",
      " 2302.07172587 2459.62820186 2627.96802697 2807.8292262  3000.00033585]\n",
      "(1, 60, 327, 4)\n",
      "noninterp\n",
      "[   4.            4.56626611    5.21269655    5.9506399     6.79305133\n",
      "    7.75472002    8.85252881   10.10575058   11.5363866    13.16955279\n",
      "   15.03392065   17.1622206    19.59181658   22.36536203   25.53154867\n",
      "   29.14596137   33.27205392   37.98226307   43.35928017   49.49750292\n",
      "   56.50469254   64.50386567   73.63545397   84.05976951   95.95981921\n",
      "  109.54451763  125.05235464  142.75558229  162.9649944   186.03538282\n",
      "  212.37176602  242.43649955  276.75739302  315.93697621  360.66307695\n",
      "  411.72089648  470.00679424  536.54402417  612.50069871  699.21029593\n",
      "  798.19506977  911.19277434  973.5558714  1040.18717161 1111.37879578\n",
      " 1187.44285781 1268.71283303 1355.54502022 1448.32010365 1547.44482208\n",
      " 1653.35375194 1766.51121258 1887.41330191 2016.59007136 2154.60784969\n",
      " 2302.07172587 2459.62820186 2627.96802697 2807.8292262  3000.00033585]\n",
      "(1, 60, 327)\n"
     ]
    }
   ],
   "source": [
    "%autoreload\n",
    "direc_arr = ['/Users/hongwan/Dropbox (MIT)/Photon Deposition/tfs_20190120/' for i in np.arange(3)]\n",
    "xes = [x_arr_with_xHe, xes_xHe_0, None]\n",
    "string_arr = [string_with_xHe, string_with_xHe_0, string_fixed_xe]\n",
    "\n",
    "# direc_arr = ['/Users/hongwan/Dropbox (MIT)/Photon Deposition/tfs_20190120/' for i in np.arange(2)]\n",
    "# xes = [xes_xHe_0, None]\n",
    "# string_arr = [string_with_xHe_0, string_fixed_xe]\n",
    "\n",
    "CMB_subtracted = False\n",
    "\n",
    "(highengphot_tf_interp,\n",
    "     lowengphot_tf_interp,\n",
    "     lowengelec_tf_interp,\n",
    "     highengdep_interp,\n",
    "     CMB_engloss_interp\n",
    "    ) = main.load_trans_funcs(\n",
    "        direc_arr, xes, \n",
    "        rs_nodes = np.array([40, 1600]),\n",
    "#         rs_nodes = np.array([40, 1600]),\n",
    "        string_arr=string_arr, inverted=False, CMB_subtracted=CMB_subtracted)\n"
   ]
  },
  {
   "cell_type": "code",
   "execution_count": 6,
   "metadata": {},
   "outputs": [
    {
     "data": {
      "text/plain": [
       "<darkhistory.spec.transferfunction.TransFuncAtRedshift at 0x103f8ea58>"
      ]
     },
     "execution_count": 6,
     "metadata": {},
     "output_type": "execute_result"
    }
   ],
   "source": [
    "highengphot_tf_interp.get_tf(0.5, 0.9, 1600)"
   ]
  },
  {
   "cell_type": "code",
   "execution_count": null,
   "metadata": {},
   "outputs": [],
   "source": []
  }
 ],
 "metadata": {
  "kernelspec": {
   "display_name": "Python 3",
   "language": "python",
   "name": "python3"
  },
  "language_info": {
   "codemirror_mode": {
    "name": "ipython",
    "version": 3
   },
   "file_extension": ".py",
   "mimetype": "text/x-python",
   "name": "python",
   "nbconvert_exporter": "python",
   "pygments_lexer": "ipython3",
   "version": "3.6.7"
  },
  "toc": {
   "base_numbering": 1,
   "nav_menu": {},
   "number_sections": true,
   "sideBar": true,
   "skip_h1_title": false,
   "title_cell": "Table of Contents",
   "title_sidebar": "Contents",
   "toc_cell": false,
   "toc_position": {},
   "toc_section_display": true,
   "toc_window_display": false
  }
 },
 "nbformat": 4,
 "nbformat_minor": 2
}
