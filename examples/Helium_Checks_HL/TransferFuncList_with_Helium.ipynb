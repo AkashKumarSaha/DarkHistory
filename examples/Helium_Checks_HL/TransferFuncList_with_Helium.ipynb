{
 "cells": [
  {
   "cell_type": "markdown",
   "metadata": {},
   "source": [
    "# Rewriting TransferFuncList"
   ]
  },
  {
   "cell_type": "code",
   "execution_count": 2,
   "metadata": {},
   "outputs": [
    {
     "name": "stdout",
     "output_type": "stream",
     "text": [
      "The autoreload extension is already loaded. To reload it, use:\n",
      "  %reload_ext autoreload\n"
     ]
    }
   ],
   "source": [
    "%load_ext autoreload\n",
    "import sys\n",
    "sys.path.append(\"../..\")"
   ]
  },
  {
   "cell_type": "code",
   "execution_count": 3,
   "metadata": {},
   "outputs": [],
   "source": [
    "%autoreload\n",
    "\n",
    "import matplotlib\n",
    "matplotlib.rc_file('matplotlibrc')\n",
    "import matplotlib.pyplot as plt\n",
    "\n",
    "%matplotlib inline\n",
    "\n",
    "matplotlib.rcParams['figure.figsize'] = [10,10]\n",
    "\n",
    "# SET THIS TO TRUE TO USE LATEX\n",
    "matplotlib.rcParams['text.usetex'] = False\n",
    "\n",
    "from astropy.io import fits\n",
    "\n",
    "import numpy as np\n",
    "import copy\n",
    "import pickle\n",
    "\n",
    "import darkhistory.physics as phys\n",
    "import darkhistory.utilities as utils\n",
    "import darkhistory.spec.spectools as spectools\n",
    "import darkhistory.spec.transferfunction as tf\n",
    "import darkhistory.spec.transferfunclist as tflist\n",
    "from darkhistory.spec.spectrum import Spectrum\n",
    "from darkhistory.spec.spectra import Spectra\n",
    "import darkhistory.history.tla as tla\n",
    "\n",
    "from scipy.interpolate import interp1d\n",
    "from scipy.interpolate import interp2d\n",
    "\n",
    "from tqdm import tqdm_notebook as tqdm\n",
    "\n",
    "from darkhistory.electrons.ics.ics_spectrum import ics_spec\n",
    "from darkhistory.electrons.ics.ics_engloss_spectrum import engloss_spec\n",
    "from darkhistory.electrons.ics.ics_cooling import get_ics_cooling_tf\n",
    "\n",
    "from darkhistory.low_energy.lowE_deposition import compute_fs\n",
    "import main\n",
    "\n",
    "from tqdm import tqdm_notebook as tqdm\n",
    "\n",
    "np.set_printoptions(threshold=np.nan)"
   ]
  },
  {
   "cell_type": "code",
   "execution_count": 7,
   "metadata": {},
   "outputs": [
    {
     "name": "stdout",
     "output_type": "stream",
     "text": [
      "Loading transfer functions...\n",
      "Loaded high energy photons...\n",
      "Low energy photons...\n",
      "Low energy electrons...\n",
      "high energy deposition.\n",
      "\n",
      "CMB losses.\n",
      "\n"
     ]
    }
   ],
   "source": [
    "standard_tfs = False\n",
    "direc = '/Users/hongwan/Dropbox (MIT)/Photon Deposition/tfs_fixed_He/'\n",
    "\n",
    "# True if you would like to subtract the CMB off of the transfer functions?\n",
    "CMB_subtracted=True\n",
    "\n",
    "if not standard_tfs:\n",
    "    direc_arr = [direc, direc]\n",
    "    xes = np.array([\n",
    "        0.5 + 0.5*np.tanh([-5., -4.1, -3.2, -2.3, -1.8, -1.4, -1, -.8, -0.65, -0.5, -.24, 0, .2, 0.4, .7, 1.3, 2.2, 3.1, 4]),\n",
    "        None]\n",
    "    )\n",
    "    string_arr = [\"_xHe0\", \"_standard_xe_xHe_full_rs\"]\n",
    "    switching_rs = 1600\n",
    "else:\n",
    "    direc_arr = direc+'tfs_standard_xe_xHe_full_rs/'\n",
    "    xes = None\n",
    "    string_arr = [\"_standard_xe_xHe_full_rs\"]\n",
    "    \n",
    "string_arr = [\"_xHe0\"]\n",
    "    \n",
    "for ii, string in enumerate(string_arr):\n",
    "    print('Loading transfer functions...')\n",
    "    highengphot_tflist_arr = pickle.load(open(direc_arr[ii]+\"tfunclist_photspec_60eV_complete\"+string+\".raw\", \"rb\"))\n",
    "    print('Loaded high energy photons...')\n",
    "\n",
    "    lowengphot_tflist_arr  = pickle.load(open(direc_arr[ii]+\"tfunclist_lowengphotspec_60eV_complete\"+string+\".raw\", \"rb\"))\n",
    "    print('Low energy photons...')\n",
    "\n",
    "    lowengelec_tflist_arr  = pickle.load(open(direc_arr[ii]+\"tfunclist_lowengelecspec_60eV_complete\"+string+\".raw\", \"rb\"))\n",
    "    print('Low energy electrons...')\n",
    "\n",
    "    highengdep_arr = pickle.load(open(direc_arr[ii]+\"highdeposited_60eV_complete\"+string+\".raw\", \"rb\"))\n",
    "    highengdep_arr = np.swapaxes(highengdep_arr, 1, 2)\n",
    "    print('high energy deposition.\\n')\n",
    "\n",
    "    CMB_engloss_arr = pickle.load(open(direc_arr[ii]+\"CMB_engloss_60eV_complete\"+string+\".raw\", \"rb\"))\n",
    "    CMB_engloss_arr = np.swapaxes(CMB_engloss_arr, 1, 2)\n",
    "    print('CMB losses.\\n')"
   ]
  },
  {
   "cell_type": "code",
   "execution_count": 11,
   "metadata": {},
   "outputs": [
    {
     "data": {
      "text/plain": [
       "19"
      ]
     },
     "execution_count": 11,
     "metadata": {},
     "output_type": "execute_result"
    }
   ],
   "source": [
    "len(highengphot_tflist_arr)"
   ]
  },
  {
   "cell_type": "code",
   "execution_count": null,
   "metadata": {},
   "outputs": [],
   "source": []
  }
 ],
 "metadata": {
  "kernelspec": {
   "display_name": "Python 3",
   "language": "python",
   "name": "python3"
  },
  "language_info": {
   "codemirror_mode": {
    "name": "ipython",
    "version": 3
   },
   "file_extension": ".py",
   "mimetype": "text/x-python",
   "name": "python",
   "nbconvert_exporter": "python",
   "pygments_lexer": "ipython3",
   "version": "3.6.7"
  },
  "toc": {
   "base_numbering": 1,
   "nav_menu": {},
   "number_sections": true,
   "sideBar": true,
   "skip_h1_title": false,
   "title_cell": "Table of Contents",
   "title_sidebar": "Contents",
   "toc_cell": false,
   "toc_position": {},
   "toc_section_display": true,
   "toc_window_display": false
  }
 },
 "nbformat": 4,
 "nbformat_minor": 2
}
