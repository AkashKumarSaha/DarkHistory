{
 "cells": [
  {
   "cell_type": "markdown",
   "metadata": {},
   "source": [
    "# Notebook Initialization"
   ]
  },
  {
   "cell_type": "code",
   "execution_count": 1,
   "metadata": {},
   "outputs": [],
   "source": [
    "%load_ext autoreload\n",
    "import sys\n",
    "sys.path.append('../..')\n",
    "\n",
    "from pathlib import Path"
   ]
  },
  {
   "cell_type": "code",
   "execution_count": 2,
   "metadata": {},
   "outputs": [],
   "source": [
    "%autoreload\n",
    "\n",
    "\n",
    "import matplotlib.pyplot as plt\n",
    "%matplotlib inline\n",
    "\n",
    "\n",
    "import matplotlib\n",
    "matplotlib.rc_file('matplotlibrc')\n",
    "matplotlib.rcParams['figure.figsize'] = [10,10]\n",
    "\n",
    "\n",
    "# SET THIS TO TRUE TO USE LATEX\n",
    "matplotlib.rcParams['text.usetex'] = True\n",
    "\n",
    "from astropy.io import fits\n",
    "\n",
    "import numpy as np\n",
    "import copy\n",
    "import pickle\n",
    "\n",
    "import darkhistory.physics as phys\n",
    "import darkhistory.utilities as utils\n",
    "import darkhistory.spec.spectools as spectools\n",
    "import darkhistory.spec.transferfunction as tf\n",
    "import darkhistory.spec.transferfunclist as tflist\n",
    "from darkhistory.spec.spectrum import Spectrum\n",
    "from darkhistory.spec.spectra import Spectra\n",
    "import darkhistory.history.tla as tla\n",
    "\n",
    "from scipy.interpolate import interp1d\n",
    "from scipy.interpolate import interp2d\n",
    "\n",
    "from tqdm import tqdm_notebook as tqdm\n",
    "\n",
    "from darkhistory.electrons.ics.ics_spectrum import ics_spec\n",
    "from darkhistory.electrons.ics.ics_engloss_spectrum import engloss_spec\n",
    "from darkhistory.electrons.ics.ics_cooling import get_ics_cooling_tf\n",
    "\n",
    "from darkhistory.low_energy.lowE_deposition import compute_fs\n",
    "import main\n",
    "\n",
    "from tqdm import tqdm_notebook as tqdm\n",
    "\n",
    "from astropy.io import fits\n",
    "\n",
    "\n",
    "# np.set_printoptions(threshold=np.nan)"
   ]
  },
  {
   "cell_type": "markdown",
   "metadata": {},
   "source": [
    "# Load Transfer Functions"
   ]
  },
  {
   "cell_type": "code",
   "execution_count": 3,
   "metadata": {},
   "outputs": [
    {
     "name": "stdout",
     "output_type": "stream",
     "text": [
      "Loading transfer functions, set 0\n",
      "Loaded high energy photons...\n",
      "Low energy photons...\n",
      "Low energy electrons...\n",
      "High energy deposition...\n",
      "CMB losses.\n",
      "Transfer function lists set  0  complete.\n",
      "Padding transfer functions...\n",
      "High energy photons...\n",
      "Low energy photons...\n",
      "Low energy electrons...\n",
      "High energy deposition...\n",
      "CMB losses and subtracting CMB component...\n",
      "Creating array objects...\n",
      "Generating TransferFuncInterp object...\n",
      "Loading transfer functions, set 1\n",
      "Loaded high energy photons...\n",
      "Low energy photons...\n",
      "Low energy electrons...\n",
      "High energy deposition...\n",
      "CMB losses.\n",
      "Transfer function lists set  1  complete.\n",
      "Padding transfer functions...\n",
      "High energy photons...\n",
      "Low energy photons...\n",
      "Low energy electrons...\n",
      "High energy deposition...\n",
      "CMB losses and subtracting CMB component...\n",
      "Creating array objects...\n",
      "Generating TransferFuncInterp object...\n",
      "Loading transfer functions, set 2\n",
      "Loaded high energy photons...\n",
      "Low energy photons...\n",
      "Low energy electrons...\n",
      "High energy deposition...\n",
      "CMB losses.\n",
      "Transfer function lists set  2  complete.\n",
      "Padding transfer functions...\n",
      "High energy photons...\n",
      "Low energy photons...\n",
      "Low energy electrons...\n",
      "High energy deposition...\n",
      "CMB losses and subtracting CMB component...\n",
      "Creating array objects...\n",
      "Generating TransferFuncInterp object...\n",
      "noninterp\n",
      "noninterp\n",
      "noninterp\n",
      "noninterp\n",
      "noninterp\n"
     ]
    }
   ],
   "source": [
    "standard_tfs = False\n",
    "direc = '/Users/hongwan/Dropbox (MIT)/Photon Deposition/tfs_20190120/'\n",
    "\n",
    "string_fixed_xe = 'standard_xe_xHe_full_rs'\n",
    "string_with_xHe_0 = 'xHe0'\n",
    "string_with_xHe = 'full_xHe'\n",
    "\n",
    "################# Standard xe Transfer Functions ##############################\n",
    "# This is a TransferFuncList\n",
    "# highengphot_tflist_fixed_xe = pickle.load(open(direc+'tfunclist_photspec_60eV_complete_'+string_fixed_xe+'.raw','rb'))\n",
    "# highengphot_tflist_fixed_xe = highengphot_tflist_fixed_xe[0]\n",
    "\n",
    "################# xHe=0 Transfer Functions ####################################\n",
    "# highengphot_tflist_xHe_0 = pickle.load(open(direc+'tfunclist_photspec_60eV_complete_'+string_with_xHe_0+'.raw', 'rb'))\n",
    "\n",
    "xes_xHe_0 = 0.5 + 0.5*np.tanh(\n",
    "    [-5., -4.1, -3.2, -2.3, -1.8, -1.4, -1, -.8, -0.65, -0.5, -.24, 0, .2, 0.4, .7, 1.3, 2.2, 3.1, 4]\n",
    ")\n",
    "\n",
    "################# Full xHe-Dependent Transfer Functions #######################\n",
    "\n",
    "# highengphot_tflist_arr_with_xHe = pickle.load(open(direc+'tfunclist_photspec_60eV_complete_'+string_with_xHe+'.raw', 'rb'))\n",
    "\n",
    "xes_with_xHe = 0.5 + 0.5*np.tanh(\n",
    "    np.array(\n",
    "        [-5.0, -2.3, -0.5, 0.0, 0.4, 2.2, 4.0]\n",
    "    )\n",
    ")\n",
    "\n",
    "x_arr_with_xHe = np.array([[[xH, xHe] for xHe in xes_with_xHe] for xH in xes_with_xHe])\n",
    "\n",
    "#######################################################################\n",
    "# Inputs for main.load_trans_funcs\n",
    "#######################################################################\n",
    "\n",
    "direc_arr = ['/Users/hongwan/Dropbox (MIT)/Photon Deposition/tfs_20190120/' for i in np.arange(3)]\n",
    "xes = [x_arr_with_xHe, xes_xHe_0, None]\n",
    "string_arr = [string_with_xHe, string_with_xHe_0, string_fixed_xe]\n",
    "\n",
    "# direc_arr = ['/Users/hongwan/Dropbox (MIT)/Photon Deposition/tfs_20190120/' for i in np.arange(2)]\n",
    "# xes = [xes_xHe_0, None]\n",
    "# string_arr = [string_with_xHe_0, string_fixed_xe]\n",
    "\n",
    "CMB_subtracted = True\n",
    "\n",
    "(highengphot_tf_interp,\n",
    "     lowengphot_tf_interp,\n",
    "     lowengelec_tf_interp,\n",
    "     highengdep_interp,\n",
    "     CMB_engloss_interp\n",
    "    ) = main.load_trans_funcs(\n",
    "        direc_arr, xes, \n",
    "#         rs_nodes = np.array([1600]),\n",
    "        rs_nodes = np.array([40, 1600]),\n",
    "        string_arr=string_arr, CMB_subtracted=CMB_subtracted)\n"
   ]
  },
  {
   "cell_type": "markdown",
   "metadata": {},
   "source": [
    "# ICS Transfer Functions"
   ]
  },
  {
   "cell_type": "code",
   "execution_count": 4,
   "metadata": {},
   "outputs": [],
   "source": [
    "direc = \"/Users/hongwan/Dropbox (MIT)/Photon Deposition/tflists/ics/\"\n",
    "ics_file = Path(direc+\"ics_thomson_ref_tf.raw\")\n",
    "\n",
    "if ics_file.is_file():\n",
    "    ics_thomson_ref_tf = pickle.load(open(direc+\"ics_thomson_ref_tf.raw\", \"rb\"))\n",
    "    ics_rel_ref_tf = pickle.load(open(direc+\"ics_rel_ref_tf.raw\", \"rb\"))\n",
    "    engloss_ref_tf = pickle.load(open(direc+\"engloss_ref_tf.raw\", \"rb\"))\n",
    "else:\n",
    "    ics_thomson_ref_tf, ics_rel_ref_tf, engloss_ref_tf = main.load_ics_data()\n",
    "    pickle.dump(ics_thomson_ref_tf, open(direc+\"ics_thomson_ref_tf.raw\", \"wb\"))\n",
    "    pickle.dump(ics_rel_ref_tf, open(direc+\"ics_rel_ref_tf.raw\", \"wb\"))\n",
    "    pickle.dump(engloss_ref_tf, open(direc+\"engloss_ref_tf.raw\", \"wb\"))"
   ]
  },
  {
   "cell_type": "markdown",
   "metadata": {},
   "source": [
    "# Energy Injection Parameters"
   ]
  },
  {
   "cell_type": "code",
   "execution_count": 5,
   "metadata": {},
   "outputs": [],
   "source": [
    "#Annihilation or decay?\n",
    "inj_type = 'decay'\n",
    "\n",
    "#Annihilate/Decay into\n",
    "inj_particle = 'photon'\n",
    "\n",
    "#Useful definitions\n",
    "if inj_particle == 'electron':\n",
    "    inj_str = 'elec'\n",
    "    mass = phys.me\n",
    "else:\n",
    "    inj_str = 'phot'\n",
    "    mass = 0"
   ]
  },
  {
   "cell_type": "markdown",
   "metadata": {},
   "source": [
    "# IDL Data"
   ]
  },
  {
   "cell_type": "code",
   "execution_count": 6,
   "metadata": {},
   "outputs": [],
   "source": [
    "direc = '/Users/hongwan/Dropbox (MIT)/Photon Deposition/ref_files/z_3000_phot_decay_recfast/'\n",
    "\n",
    "hdul = fits.open(\n",
    "    direc\n",
    "    +'tf_z_3.000E+03_nstep_6398_logE_1.230E+01_xe_0.000E+00.fits'\n",
    ")\n",
    "    \n",
    "data = hdul[1].data\n",
    "\n",
    "idl_photonspectrum = data.field('photonspectrum')[0]\n",
    "idl_lowengphot = data.field('lowengphot')[0]\n",
    "idl_lowengelec = data.field('lowengelec')[0]\n",
    "idl_energy = data.field('energy')[0]\n",
    "idl_eleceng = data.field('eleceng')[0]\n",
    "idl_redshift = data.field('redshift')[0]\n",
    "idl_cmblosstable = data.field('cmblosstable')[0]\n",
    "idl_highengdep = data.field('highdeposited_grid')[0]\n",
    "\n",
    "idl_bin_width = np.diff(np.log(spectools.get_bin_bound(data.field('energy')[0]))) * idl_energy\n",
    "idl_elec_bin_width = np.diff(np.log(spectools.get_bin_bound(data.field('eleceng')[0]))) * idl_eleceng\n",
    "\n",
    "xe_idl = data.field('hionfraction')[0]\n",
    "xHe_idl = data.field('heionfraction')[0]\n",
    "\n",
    "hdul.close()\n",
    "\n",
    "xe_idl_func = interp1d(idl_redshift, xe_idl, bounds_error=False, fill_value=(xe_idl[-1], xe_idl[0]))\n",
    "xHe_idl_func = interp1d(idl_redshift, xHe_idl, bounds_error=False, fill_value=(xHe_idl[-1], xHe_idl[0]))"
   ]
  },
  {
   "cell_type": "markdown",
   "metadata": {},
   "source": [
    "# IDL $f(z)$ Results"
   ]
  },
  {
   "cell_type": "code",
   "execution_count": 7,
   "metadata": {},
   "outputs": [
    {
     "name": "stdout",
     "output_type": "stream",
     "text": [
      "4.164021259421997\n"
     ]
    }
   ],
   "source": [
    "direc = '/Users/hongwan/Dropbox (MIT)/Photon Deposition/ref_files/z_3000_phot_decay_recfast/idl_calculated_fs/'\n",
    "\n",
    "ind = 2\n",
    "\n",
    "log10eng0 = 3.6989700794219966\n",
    "log10eng = np.array([log10eng0 + 0.23252559*i for i in np.arange(39)])\n",
    "print(log10eng[ind])\n",
    "# # log10eng[-1] = np.log10(highengphot_tf_interp.eng[-1])*.99\n",
    "# log10eng[-1]*=.99\n",
    "\n",
    "eng = log10eng\n",
    "\n",
    "float_formatter = lambda x,n: (\"{:.\"+str(n)+\"E}\").format(x,n)\n",
    "\n",
    "rs_list = [3000*np.exp(-0.001*i) for i in np.arange(6398)]\n",
    "f_idl_list_low  = np.zeros((len(eng),5,6398))\n",
    "f_idl_list_high = np.zeros((len(eng),5,6398))\n",
    "for i, en in enumerate(eng):\n",
    "    hdul = fits.open(\n",
    "        direc+'calcfracs_tf_z_3.000E+03_nstep_6398_logE_'\n",
    "        +float_formatter(np.log10(10**en+mass), 3)+'_xe_0.000E+00.fits'\n",
    "    )\n",
    "\n",
    "    data = hdul[1].data\n",
    "\n",
    "    f_idl_low  = data.field('loweng_deposition_fractions')[0]\n",
    "    f_idl_high = data.field('higheng_deposition_fractions')[0]\n",
    "    idl_redshift     = data.field('redshift')[0]\n",
    "\n",
    "#     f_idl_list[i,:] = f_idl_low + f_idl_high\n",
    "    f_idl_list_low[i,:,:] = f_idl_low\n",
    "    f_idl_list_high[i,:,:] = f_idl_high\n",
    "\n",
    "    hdul.close()\n",
    "    \n",
    "# Pull out the correct index for comparison\n",
    "f_idl_list_compare_low  = f_idl_list_low[ind, :, :]\n",
    "f_idl_list_compare_high = f_idl_list_high[ind, :, :] \n"
   ]
  },
  {
   "cell_type": "markdown",
   "metadata": {},
   "source": [
    "# Run DarkHistory"
   ]
  },
  {
   "cell_type": "code",
   "execution_count": 8,
   "metadata": {},
   "outputs": [
    {
     "name": "stdout",
     "output_type": "stream",
     "text": [
      "4.465051255085978\n"
     ]
    },
    {
     "data": {
      "application/vnd.jupyter.widget-view+json": {
       "model_id": "af9d3ff1acb740778131f85b66a43762",
       "version_major": 2,
       "version_minor": 0
      },
      "text/plain": [
       "HBox(children=(IntProgress(value=0, max=6397), HTML(value='')))"
      ]
     },
     "metadata": {},
     "output_type": "display_data"
    },
    {
     "name": "stderr",
     "output_type": "stream",
     "text": [
      "../../darkhistory/history/tla.py:212: RuntimeWarning: overflow encountered in double_scalars\n",
      "  return 2 * np.cosh(yHII)**2 * -phys.dtdz(rs) * (\n",
      "../../darkhistory/history/tla.py:185: RuntimeWarning: overflow encountered in double_scalars\n",
      "  + dyHeIII_dz(yHII, yHeII, yHeIII, T_m, rs)\n",
      "../../darkhistory/history/tla.py:185: RuntimeWarning: invalid value encountered in double_scalars\n",
      "  + dyHeIII_dz(yHII, yHeII, yHeIII, T_m, rs)\n",
      "../../darkhistory/history/tla.py:212: RuntimeWarning: overflow encountered in cosh\n",
      "  return 2 * np.cosh(yHII)**2 * -phys.dtdz(rs) * (\n",
      "../../darkhistory/history/tla.py:185: RuntimeWarning: overflow encountered in cosh\n",
      "  + dyHeIII_dz(yHII, yHeII, yHeIII, T_m, rs)\n",
      "/Users/hongwan/anaconda/envs/python3/lib/python3.6/site-packages/scipy/integrate/odepack.py:236: ODEintWarning: Repeated convergence failures (perhaps bad Jacobian or tolerances). Run with full_output = 1 to get quantitative information.\n",
      "  warnings.warn(warning_msg, ODEintWarning)\n",
      "../../darkhistory/history/tla.py:191: RuntimeWarning: invalid value encountered in double_scalars\n",
      "  0*entropy_cooling_rate\n"
     ]
    },
    {
     "name": "stdout",
     "output_type": "stream",
     "text": [
      "\n"
     ]
    }
   ],
   "source": [
    "#injection energy, DM mass, center-of-mass energy\n",
    "%autoreload \n",
    "\n",
    "tau=.5e25\n",
    "sigmav=0\n",
    "end_rs = 5\n",
    "start_rs = 3000\n",
    "\n",
    "photeng = highengphot_tf_interp.eng\n",
    "eleceng = lowengelec_tf_interp.eng\n",
    "\n",
    "Einj = 10**log10eng[ind]\n",
    "mDM = 2*Einj + 2*mass\n",
    "print(np.log10(mDM))\n",
    "Ecom=mDM\n",
    "\n",
    "def rate_func_N(rs):\n",
    "    return phys.inj_rate(inj_type, rs, mDM=mDM, sigmav=sigmav, tau=tau)/Ecom\n",
    "def rate_func_eng(rs):\n",
    "    return phys.inj_rate(inj_type, rs, mDM=mDM, sigmav=sigmav, tau=tau)\n",
    "\n",
    "if inj_type == 'swave':\n",
    "    mDM = mDM/2\n",
    "    Ecom = 2*mDM   \n",
    "\n",
    "if inj_particle == 'electron':\n",
    "    Etmp = eleceng[eleceng < Einj][-1]\n",
    "    elec_spec_init = spectools.rebin_N_arr(\n",
    "        np.array([2*Einj/Etmp]),\n",
    "        np.array([Etmp]),\n",
    "        eleceng\n",
    "    )\n",
    "    elec_spec_init.rs = start_rs\n",
    "    elec_spec_init.switch_spec_type()\n",
    "\n",
    "    phot_spec_init = Spectrum(photeng,\n",
    "                             np.zeros_like(photeng),\n",
    "                             spec_type='N',\n",
    "                             rs=start_rs)\n",
    "else:\n",
    "    Etmp = photeng[photeng < Einj][-1]\n",
    "    phot_spec_init = spectools.rebin_N_arr(\n",
    "        np.array([2*Einj/Etmp]),\n",
    "        np.array([Etmp]),\n",
    "        photeng\n",
    "    )\n",
    "    phot_spec_init.rs = start_rs\n",
    "    phot_spec_init.switch_spec_type()\n",
    "\n",
    "    elec_spec_init = Spectrum(eleceng,\n",
    "                             np.zeros_like(eleceng),\n",
    "                             spec_type='N',\n",
    "                             rs=start_rs)\n",
    "\n",
    "f_DH_list = main.evolve(\n",
    "    elec_spec_init, phot_spec_init,\n",
    "    rate_func_N, rate_func_eng, end_rs,\n",
    "    highengphot_tf_interp, lowengphot_tf_interp, lowengelec_tf_interp,\n",
    "    highengdep_interp, CMB_engloss_interp,\n",
    "    ics_thomson_ref_tf, ics_rel_ref_tf, engloss_ref_tf,\n",
    "    coarsen_factor=1, std_soln=True,\n",
    "    reion_switch=False,\n",
    "    struct_boost=None,\n",
    "    ics_only=False, separate_higheng=True, CMB_subtracted=CMB_subtracted,\n",
    "    xH_func=xe_idl_func, xHe_func=xHe_idl_func, user=None, verbose=False, \n",
    "    use_tqdm=True\n",
    ")"
   ]
  },
  {
   "cell_type": "code",
   "execution_count": 16,
   "metadata": {},
   "outputs": [
    {
     "data": {
      "text/plain": [
       "[<matplotlib.lines.Line2D at 0x1820a72240>]"
      ]
     },
     "execution_count": 16,
     "metadata": {},
     "output_type": "execute_result"
    },
    {
     "data": {
      "image/png": "[encoded data removed]",
      "text/plain": [
       "<Figure size 432x288 with 1 Axes>"
      ]
     },
     "metadata": {
      "needs_background": "light"
     },
     "output_type": "display_data"
    },
    {
     "data": {
      "image/png": "[encoded data removed]",
      "text/plain": [
       "<Figure size 432x288 with 1 Axes>"
      ]
     },
     "metadata": {
      "needs_background": "light"
     },
     "output_type": "display_data"
    }
   ],
   "source": [
    "f_DH = f_DH_list[6]\n",
    "\n",
    "plt.figure()\n",
    "ax = plt.gca()\n",
    "ax.loglog()\n",
    "\n",
    "rs_list = f_DH_list[2].rs[1:]\n",
    "\n",
    "chan = 1\n",
    "\n",
    "plt.plot(rs_list, f_DH[0][:,chan])\n",
    "plt.plot(idl_redshift[1:], f_idl_list_compare_low[chan,1:])\n",
    "\n",
    "plt.figure()\n",
    "ax = plt.gca()\n",
    "ax.loglog()\n",
    "\n",
    "plt.plot(idl_redshift[1:],np.abs(1 - f_DH[0][:, chan]/f_idl_list_compare_low[chan,1:]))"
   ]
  },
  {
   "cell_type": "code",
   "execution_count": 10,
   "metadata": {},
   "outputs": [
    {
     "name": "stdout",
     "output_type": "stream",
     "text": [
      "[2997.0014995  2994.005996   2991.01348651 ...    5.00965759    5.00465044\n",
      "    4.99964829]\n",
      "[3000.         2997.0014995  2994.005996   ...    5.00965759    5.00465044\n",
      "    4.99964829]\n"
     ]
    }
   ],
   "source": [
    "print(rs_list)\n",
    "print(idl_redshift)"
   ]
  },
  {
   "cell_type": "code",
   "execution_count": 11,
   "metadata": {
    "scrolled": false
   },
   "outputs": [
    {
     "data": {
      "text/plain": [
       "[<matplotlib.lines.Line2D at 0x182022ec50>]"
      ]
     },
     "execution_count": 11,
     "metadata": {},
     "output_type": "execute_result"
    },
    {
     "data": {
      "image/png": "[encoded data removed]",
      "text/plain": [
       "<Figure size 432x288 with 1 Axes>"
      ]
     },
     "metadata": {
      "needs_background": "light"
     },
     "output_type": "display_data"
    },
    {
     "data": {
      "image/png": "[encoded data removed]",
      "text/plain": [
       "<Figure size 432x288 with 1 Axes>"
      ]
     },
     "metadata": {
      "needs_background": "light"
     },
     "output_type": "display_data"
    },
    {
     "data": {
      "image/png": "[encoded data removed]",
      "text/plain": [
       "<Figure size 432x288 with 1 Axes>"
      ]
     },
     "metadata": {
      "needs_background": "light"
     },
     "output_type": "display_data"
    }
   ],
   "source": [
    "highengphot_spectra = f_DH_list[2]\n",
    "lowengphot_spectra  = f_DH_list[3]\n",
    "lowengelec_spectra  = f_DH_list[4]\n",
    "\n",
    "plt.figure()\n",
    "ax = plt.gca()\n",
    "ax.loglog()\n",
    "\n",
    "highengphot_spectra.plot(ax, ind=34)\n",
    "plt.plot(idl_energy, idl_photonspectrum[34]*idl_bin_width)\n",
    "\n",
    "plt.figure()\n",
    "ax = plt.gca()\n",
    "ax.loglog()\n",
    "\n",
    "lowengphot_spectra.plot(ax, ind=34)\n",
    "plt.plot(idl_energy, idl_lowengphot[34]*idl_bin_width)\n",
    "\n",
    "plt.figure()\n",
    "ax = plt.gca()\n",
    "ax.loglog()\n",
    "\n",
    "lowengelec_spectra.plot(ax, ind=34)\n",
    "plt.plot(idl_eleceng, idl_lowengelec[34]*idl_elec_bin_width)\n",
    "\n",
    "\n",
    "# lowengphot_spectra.plot(ax, ind=4)\n",
    "# lowengelec_spectra.plot(ax, ind=3)"
   ]
  },
  {
   "cell_type": "code",
   "execution_count": 12,
   "metadata": {},
   "outputs": [
    {
     "data": {
      "text/plain": [
       "[<matplotlib.lines.Line2D at 0x1820391f28>]"
      ]
     },
     "execution_count": 12,
     "metadata": {},
     "output_type": "execute_result"
    },
    {
     "data": {
      "image/png": "[encoded data removed]",
      "text/plain": [
       "<Figure size 432x288 with 1 Axes>"
      ]
     },
     "metadata": {
      "needs_background": "light"
     },
     "output_type": "display_data"
    }
   ],
   "source": [
    "plt.figure()\n",
    "\n",
    "ax = plt.gca()\n",
    "ax.loglog()\n",
    "\n",
    "plt.plot(rs_list, f_DH_list[0][:,0])\n",
    "# plt.plot(rs_list, f_DH_list[1])"
   ]
  },
  {
   "cell_type": "code",
   "execution_count": 13,
   "metadata": {},
   "outputs": [
    {
     "data": {
      "text/plain": [
       "array([[1.        , 0.99887584],\n",
       "       [1.        , 0.99883769],\n",
       "       [1.        , 0.99879819],\n",
       "       ...,\n",
       "       [0.00985893, 0.        ],\n",
       "       [0.00986535, 0.        ],\n",
       "       [0.00987176, 0.        ]])"
      ]
     },
     "execution_count": 13,
     "metadata": {},
     "output_type": "execute_result"
    }
   ],
   "source": [
    "f_DH_list[0]"
   ]
  },
  {
   "cell_type": "code",
   "execution_count": null,
   "metadata": {},
   "outputs": [],
   "source": []
  }
 ],
 "metadata": {
  "kernelspec": {
   "display_name": "Python 3",
   "language": "python",
   "name": "python3"
  },
  "language_info": {
   "codemirror_mode": {
    "name": "ipython",
    "version": 3
   },
   "file_extension": ".py",
   "mimetype": "text/x-python",
   "name": "python",
   "nbconvert_exporter": "python",
   "pygments_lexer": "ipython3",
   "version": "3.6.7"
  },
  "toc": {
   "base_numbering": 1,
   "nav_menu": {},
   "number_sections": true,
   "sideBar": true,
   "skip_h1_title": false,
   "title_cell": "Table of Contents",
   "title_sidebar": "Contents",
   "toc_cell": false,
   "toc_position": {},
   "toc_section_display": true,
   "toc_window_display": false
  }
 },
 "nbformat": 4,
 "nbformat_minor": 2
}
