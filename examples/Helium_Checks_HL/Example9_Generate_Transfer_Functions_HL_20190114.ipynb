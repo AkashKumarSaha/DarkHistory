{
 "cells": [
  {
   "cell_type": "markdown",
   "metadata": {},
   "source": [
    "# Producing the Transfer Functions"
   ]
  },
  {
   "cell_type": "code",
   "execution_count": 1,
   "metadata": {},
   "outputs": [],
   "source": [
    "%load_ext autoreload\n",
    "import sys\n",
    "sys.path.append(\"../..\")"
   ]
  },
  {
   "cell_type": "markdown",
   "metadata": {},
   "source": [
    "## Notebook Initialization"
   ]
  },
  {
   "cell_type": "code",
   "execution_count": 2,
   "metadata": {},
   "outputs": [],
   "source": [
    "%autoreload\n",
    "import numpy as np\n",
    "import pickle\n",
    "from tqdm import tqdm_notebook as tqdm\n",
    "\n",
    "import matplotlib\n",
    "matplotlib.rc_file('matplotlibrc')\n",
    "import matplotlib.pyplot as plt\n",
    "\n",
    "%matplotlib inline\n",
    "\n",
    "matplotlib.rcParams['figure.figsize'] = [10,10]\n",
    "\n",
    "\n",
    "from darkhistory.spec.spectrum import Spectrum\n",
    "import darkhistory.spec.spectools as spectools\n",
    "import darkhistory.spec.transferfunction as tf\n",
    "import darkhistory.spec.transferfunclist as tflist\n",
    "import darkhistory.physics as phys\n",
    "import darkhistory.utilities as utils\n",
    "\n",
    "from scipy.interpolate import interp1d\n",
    "from scipy.interpolate import RegularGridInterpolator\n",
    "\n",
    "# np.set_printoptions(threshold=np.nan)"
   ]
  },
  {
   "cell_type": "markdown",
   "metadata": {},
   "source": [
    "## Import Raw Data"
   ]
  },
  {
   "cell_type": "code",
   "execution_count": 8,
   "metadata": {},
   "outputs": [],
   "source": [
    "direc = '/Users/hongwan/Dropbox (MIT)/Photon Deposition/tfs_full_xHe/raw/'\n",
    "\n",
    "xes_str = ['4.540E-05', '9.952E-03', '2.689E-01', '5.000E-01', '6.900E-01', '9.879E-01', '9.997E-01']\n",
    "\n",
    "file_names = [[\n",
    "        direc +'transferfunction_helium_xH_'\n",
    "        +xH_str+'_xHe_'+xHe_str+'.p'\n",
    "        for xHe_str in xes_str    \n",
    "    ] for xH_str in xes_str\n",
    "]\n",
    "\n",
    "raw_tf_tuple = [[pickle.load(open(file_name, \"rb\")) for file_name in file_names_xH] for file_names_xH in file_names]\n",
    "\n",
    "# xH, xHe, in_eng, rs, eng, type={highengphot, lowengphot, lowengelec}\n",
    "raw_tf_list = np.array([[tup[0] for tup in raw_tf_tuple_xH] for raw_tf_tuple_xH in raw_tf_tuple])\n",
    "# xH, xHe, in_eng, rs\n",
    "CMB_engloss_list = np.array([[tup[1] for tup in raw_tf_tuple_xH] for raw_tf_tuple_xH in raw_tf_tuple])\n",
    "# xH, xHe, in_eng, rs, {H-ion, Exc, Heating, Cont.}\n",
    "highdeposited_list = np.array([[tup[2] for tup in raw_tf_tuple_xH] for raw_tf_tuple_xH in raw_tf_tuple])\n",
    "# xH, xHe, in_eng, rs, type={mwimp, rs}\n",
    "info_list = np.array([[tup[3] for tup in raw_tf_tuple_xH] for raw_tf_tuple_xH in raw_tf_tuple])\n",
    "# xH, xHe, in_eng, rs, type={photeng, eleceng}, eng\n",
    "abscissae_list = np.array([[tup[4] for tup in raw_tf_tuple_xH] for raw_tf_tuple_xH in raw_tf_tuple])"
   ]
  },
  {
   "cell_type": "code",
   "execution_count": 19,
   "metadata": {},
   "outputs": [
    {
     "data": {
      "text/plain": [
       "(7, 7, 327, 20, 500, 3)"
      ]
     },
     "execution_count": 19,
     "metadata": {},
     "output_type": "execute_result"
    }
   ],
   "source": [
    "raw_tf_list.shape"
   ]
  },
  {
   "cell_type": "code",
   "execution_count": 15,
   "metadata": {},
   "outputs": [],
   "source": [
    "# This checks that all of the abscissae are equal.\n",
    "for i in np.arange(info_list.shape[0]):\n",
    "    for j in np.arange(info_list.shape[1]):\n",
    "        for k in np.arange(info_list.shape[2]):\n",
    "            if not np.array_equal(\n",
    "                info_list[i,j,k,:,1],\n",
    "                info_list[0,0,0,:,1]\n",
    "            ):\n",
    "                print('Not all the same redshifts!')\n",
    "            for l in np.arange(info_list.shape[3]):\n",
    "                if not np.array_equal(\n",
    "                    info_list[i,j,:,l,0],\n",
    "                    info_list[0,0,:,0,0]\n",
    "                ):\n",
    "                    print('Not all the same mwimps!')\n",
    "                if not np.array_equal(\n",
    "                    abscissae_list[i,j,k,l,0,:],\n",
    "                    abscissae_list[0,0,0,0,0,:]\n",
    "                ):\n",
    "                    print('Not all the same photeng abscissa!')\n",
    "                if not np.array_equal(\n",
    "                    abscissae_list[i,j,k,l,1,:],\n",
    "                    abscissae_list[0,0,0,0,1,:]\n",
    "                ):\n",
    "                    print('Not all the same eleceng abscissa!')\n",
    "                \n",
    "xe_arr = 0.5 + 0.5*np.tanh(\n",
    "    [4.540e-5, 9.952e-3, 2.689e-1, 5.000e-1, 6.900e-1, 9.879e-1, 9.997e-1]\n",
    ")\n",
    "\n",
    "rs_arr    = info_list[0,0,0,:,1]\n",
    "mwimp_arr = info_list[0,0,:,0,0]\n",
    "photeng = abscissae_list[0,0,0,0,0,:]\n",
    "eleceng = abscissae_list[0,0,0,0,1,:]"
   ]
  },
  {
   "cell_type": "markdown",
   "metadata": {},
   "source": [
    "## Raw Data Manipulation"
   ]
  },
  {
   "cell_type": "markdown",
   "metadata": {},
   "source": [
    "The transfer function is calculated by injecting 2 photons at the input energy abscissa. However, the first step is to assign $x$ photons to the top bin of the *output* photon abscissa, such that $x$ times the energy of the top bin is 2 times the injection energy. Because of the misalignment between the two abscissae, as well as the fact that we want to transfer function for a single electron, we have to normalize the results first.\n",
    "\n",
    "First, we construct two arrays: a list of output abscissae (for both photons and electrons) given the injection abscissa, and a list of the energy of the *output* photon energy bin where the injected photons are assigned to. Then we compute the normalization factor. "
   ]
  },
  {
   "cell_type": "code",
   "execution_count": 18,
   "metadata": {},
   "outputs": [],
   "source": [
    "# This treatment is consistent with ih_transferfunction\n",
    "photeng_bin_width = np.diff(np.log(spectools.get_bin_bound(photeng))) * photeng\n",
    "eleceng_bin_width = np.diff(np.log(spectools.get_bin_bound(eleceng))) * eleceng\n",
    "\n",
    "\n",
    "# Original injection energies\n",
    "top_photeng_bins = np.array(\n",
    "    [\n",
    "        photeng[photeng <= mwimp][-1]\n",
    "        for mwimp in mwimp_arr\n",
    "    ]\n",
    ")\n",
    "\n",
    "norm_fac_arr = 2*mwimp_arr/top_photeng_bins"
   ]
  },
  {
   "cell_type": "markdown",
   "metadata": {},
   "source": [
    "Dividing by the normalization factor gives the spectra for the injection of 1 photon, with energy given by `top_photeng_bins`. \n",
    "\n",
    "Now we construct a raw array of all of the transfer functions, on which we will perform an interpolation to extract a set of transfer functions for use, given a chosen abscissa."
   ]
  },
  {
   "cell_type": "code",
   "execution_count": 22,
   "metadata": {},
   "outputs": [
    {
     "name": "stdout",
     "output_type": "stream",
     "text": [
      "(7, 7, 327, 20, 500, 3)\n"
     ]
    },
    {
     "data": {
      "application/vnd.jupyter.widget-view+json": {
       "model_id": "5d9453ffa95b4132ae96eaca910b1631",
       "version_major": 2,
       "version_minor": 0
      },
      "text/plain": [
       "HBox(children=(IntProgress(value=0, max=7), HTML(value='')))"
      ]
     },
     "metadata": {},
     "output_type": "display_data"
    },
    {
     "data": {
      "application/vnd.jupyter.widget-view+json": {
       "model_id": "47293b937ed94142baacababd17187e5",
       "version_major": 2,
       "version_minor": 0
      },
      "text/plain": [
       "HBox(children=(IntProgress(value=0, max=7), HTML(value='')))"
      ]
     },
     "metadata": {},
     "output_type": "display_data"
    },
    {
     "data": {
      "application/vnd.jupyter.widget-view+json": {
       "model_id": "0b06c91e91664e4d81b85692f6ebca16",
       "version_major": 2,
       "version_minor": 0
      },
      "text/plain": [
       "HBox(children=(IntProgress(value=0, max=7), HTML(value='')))"
      ]
     },
     "metadata": {},
     "output_type": "display_data"
    }
   ],
   "source": [
    "# Multiplying by bin width converts all the eleceng array into number of particles. \n",
    "# Indexing: xH, xHe, in_eng, rs, eng, type={highengphot, lowengphot, lowengelec}\n",
    "\n",
    "phot_tf_raw = np.array([\n",
    "    [\n",
    "        [\n",
    "            [\n",
    "                raw_tf[i,j,:,0]/norm_fac*photeng_bin_width\n",
    "                    for (j, rs) in enumerate(rs_arr)   \n",
    "            ]\n",
    "            for (i, (in_eng, norm_fac)) in enumerate(zip(mwimp_arr, norm_fac_arr))\n",
    "\n",
    "        ] for raw_tf in raw_tf_list_xH\n",
    "    ] for raw_tf_list_xH in tqdm(raw_tf_list)\n",
    "])\n",
    "\n",
    "lowengphot_tf_raw = np.array([\n",
    "    [\n",
    "        [\n",
    "            [\n",
    "                raw_tf[i,j,:,1]/norm_fac*photeng_bin_width \n",
    "                    for (j, rs) in enumerate(rs_arr)   \n",
    "            ]\n",
    "            for (i, (in_eng, norm_fac)) in enumerate(zip(mwimp_arr, norm_fac_arr))\n",
    "\n",
    "        ] for raw_tf in raw_tf_list_xH\n",
    "    ] for raw_tf_list_xH in tqdm(raw_tf_list)\n",
    "])\n",
    "\n",
    "lowengelec_tf_raw = np.array([\n",
    "    [\n",
    "        [\n",
    "            [\n",
    "                raw_tf[i,j,:,2]/norm_fac*eleceng_bin_width \n",
    "                    for (j, rs) in enumerate(rs_arr)   \n",
    "            ]\n",
    "            for (i, (in_eng, norm_fac)) in enumerate(zip(mwimp_arr, norm_fac_arr))\n",
    "\n",
    "        ] for raw_tf in raw_tf_list_xH\n",
    "    ] for raw_tf_list_xH in tqdm(raw_tf_list)\n",
    "])\n",
    "\n",
    "# xH, xHe, in_eng, rs\n",
    "CMB_engloss = CMB_engloss_list/np.outer(norm_fac_arr, np.ones_like(rs_arr))\n",
    "\n",
    "# xH, xHe, in_eng, rs, {H-Ion, Exc, Heat, Cont}\n",
    "denom_highdeposited = np.ones((xe_arr.size, xe_arr.size, rs_arr.size, 4, norm_fac_arr.size))\n",
    "denom_highdeposited *= norm_fac_arr\n",
    "denom_highdeposited = np.rollaxis(denom_highdeposited, 4, 2)\n",
    "highdeposited = highdeposited_list/denom_highdeposited"
   ]
  },
  {
   "cell_type": "code",
   "execution_count": 23,
   "metadata": {},
   "outputs": [
    {
     "name": "stdout",
     "output_type": "stream",
     "text": [
      "(327,)\n"
     ]
    }
   ],
   "source": [
    "photeng_high = photeng[photeng > 60]\n",
    "print(photeng_high.shape)\n",
    "\n",
    "new_phot_tf_raw = phot_tf_raw\n",
    "new_lowengphot_tf_raw = lowengphot_tf_raw\n",
    "new_lowengelec_tf_raw = lowengelec_tf_raw\n",
    "new_cmbloss_raw = CMB_engloss\n",
    "new_highdeposited_raw = highdeposited"
   ]
  },
  {
   "cell_type": "markdown",
   "metadata": {},
   "source": [
    "Now, we construct the list of `Spectrum` objects from our raw array of transfer functions..."
   ]
  },
  {
   "cell_type": "code",
   "execution_count": 25,
   "metadata": {},
   "outputs": [
    {
     "data": {
      "application/vnd.jupyter.widget-view+json": {
       "model_id": "651be3744c0e4dfbb2d43c228fc38dde",
       "version_major": 2,
       "version_minor": 0
      },
      "text/plain": [
       "HBox(children=(IntProgress(value=0, max=7), HTML(value='')))"
      ]
     },
     "metadata": {},
     "output_type": "display_data"
    },
    {
     "data": {
      "application/vnd.jupyter.widget-view+json": {
       "model_id": "bb216600579d493cae22a88312a14e2a",
       "version_major": 2,
       "version_minor": 0
      },
      "text/plain": [
       "HBox(children=(IntProgress(value=0, max=7), HTML(value='')))"
      ]
     },
     "metadata": {},
     "output_type": "display_data"
    },
    {
     "data": {
      "application/vnd.jupyter.widget-view+json": {
       "model_id": "ca685d76f8ba490c97f20d1c9d356a8e",
       "version_major": 2,
       "version_minor": 0
      },
      "text/plain": [
       "HBox(children=(IntProgress(value=0, max=7), HTML(value='')))"
      ]
     },
     "metadata": {},
     "output_type": "display_data"
    },
    {
     "data": {
      "application/vnd.jupyter.widget-view+json": {
       "model_id": "47a96b86e00e4244bbdbf6a2400475b9",
       "version_major": 2,
       "version_minor": 0
      },
      "text/plain": [
       "HBox(children=(IntProgress(value=0, max=7), HTML(value='')))"
      ]
     },
     "metadata": {},
     "output_type": "display_data"
    },
    {
     "data": {
      "application/vnd.jupyter.widget-view+json": {
       "model_id": "b44d58c3d9214bf1b3ddb24fbd393961",
       "version_major": 2,
       "version_minor": 0
      },
      "text/plain": [
       "HBox(children=(IntProgress(value=0, max=7), HTML(value='')))"
      ]
     },
     "metadata": {},
     "output_type": "display_data"
    },
    {
     "data": {
      "application/vnd.jupyter.widget-view+json": {
       "model_id": "3d3c4de936fd4a6e8df41647e334d7f6",
       "version_major": 2,
       "version_minor": 0
      },
      "text/plain": [
       "HBox(children=(IntProgress(value=0, max=7), HTML(value='')))"
      ]
     },
     "metadata": {},
     "output_type": "display_data"
    },
    {
     "data": {
      "application/vnd.jupyter.widget-view+json": {
       "model_id": "6a69a93444c84960afcfe0c194255928",
       "version_major": 2,
       "version_minor": 0
      },
      "text/plain": [
       "HBox(children=(IntProgress(value=0, max=7), HTML(value='')))"
      ]
     },
     "metadata": {},
     "output_type": "display_data"
    },
    {
     "data": {
      "application/vnd.jupyter.widget-view+json": {
       "model_id": "e5af1dce074145dcbd1c2d98e88b2357",
       "version_major": 2,
       "version_minor": 0
      },
      "text/plain": [
       "HBox(children=(IntProgress(value=0, max=7), HTML(value='')))"
      ]
     },
     "metadata": {},
     "output_type": "display_data"
    },
    {
     "data": {
      "application/vnd.jupyter.widget-view+json": {
       "model_id": "70a8364235d549c2a41facdc9ece435c",
       "version_major": 2,
       "version_minor": 0
      },
      "text/plain": [
       "HBox(children=(IntProgress(value=0, max=7), HTML(value='')))"
      ]
     },
     "metadata": {},
     "output_type": "display_data"
    },
    {
     "data": {
      "application/vnd.jupyter.widget-view+json": {
       "model_id": "ef8f8602e1b840bcb09f00e59d50274f",
       "version_major": 2,
       "version_minor": 0
      },
      "text/plain": [
       "HBox(children=(IntProgress(value=0, max=7), HTML(value='')))"
      ]
     },
     "metadata": {},
     "output_type": "display_data"
    }
   ],
   "source": [
    "# spec_type = 'N' for eleceng, because we have already multiplied in the bin width earlier. \n",
    "\n",
    "#xH, xHe, in_eng, rs, eng\n",
    "photspec_list = [\n",
    "    [\n",
    "        [\n",
    "            [\n",
    "                Spectrum(\n",
    "                    photeng, phot_tf[i,j,:], spec_type='N', \n",
    "                    rs = rs, in_eng = in_eng\n",
    "                ) for (j, rs) in enumerate(rs_arr)\n",
    "            ] for (i, in_eng) in enumerate(photeng_high)\n",
    "        ] for phot_tf in phot_tf_list_xH\n",
    "    ] for phot_tf_list_xH in tqdm(new_phot_tf_raw)\n",
    "]\n",
    "\n",
    "lowengphotspec_list = [\n",
    "    [\n",
    "        [\n",
    "            [\n",
    "                Spectrum(\n",
    "                    photeng, lowengphot_tf[i,j,:], spec_type='N', \n",
    "                    rs = rs, in_eng = in_eng\n",
    "                ) for (j, rs) in enumerate(rs_arr)\n",
    "            ] for (i, in_eng) in enumerate(photeng_high)\n",
    "        ] for lowengphot_tf in lowengphot_tf_list_xH\n",
    "    ] for lowengphot_tf_list_xH in tqdm(new_lowengphot_tf_raw)\n",
    "]\n",
    "\n",
    "lowengelecspec_list = [\n",
    "    [\n",
    "        [\n",
    "            [\n",
    "                Spectrum(\n",
    "                    eleceng, lowengelec_tf[i,j,:], spec_type='N', \n",
    "                    rs = rs, in_eng = in_eng\n",
    "                ) for (j, rs) in enumerate(rs_arr)\n",
    "            ] for (i, in_eng) in enumerate(photeng_high)\n",
    "        ] for lowengelec_tf in tqdm(lowengelec_tf_list_xH)\n",
    "    ] for lowengelec_tf_list_xH in tqdm(new_lowengelec_tf_raw)\n",
    "]\n"
   ]
  },
  {
   "cell_type": "markdown",
   "metadata": {},
   "source": [
    "Finally, we can construct the `TransferFuncList` from this."
   ]
  },
  {
   "cell_type": "code",
   "execution_count": 26,
   "metadata": {},
   "outputs": [
    {
     "data": {
      "application/vnd.jupyter.widget-view+json": {
       "model_id": "8c70ae0ca2294965b1589762eeccdb21",
       "version_major": 2,
       "version_minor": 0
      },
      "text/plain": [
       "HBox(children=(IntProgress(value=0, max=7), HTML(value='')))"
      ]
     },
     "metadata": {},
     "output_type": "display_data"
    },
    {
     "data": {
      "application/vnd.jupyter.widget-view+json": {
       "model_id": "3216a8748b7e4d5cbea710d9ef886d1b",
       "version_major": 2,
       "version_minor": 0
      },
      "text/plain": [
       "HBox(children=(IntProgress(value=0, max=7), HTML(value='')))"
      ]
     },
     "metadata": {},
     "output_type": "display_data"
    },
    {
     "data": {
      "application/vnd.jupyter.widget-view+json": {
       "model_id": "90f1c58018ff4ad68a1f53cf80ecb2d2",
       "version_major": 2,
       "version_minor": 0
      },
      "text/plain": [
       "HBox(children=(IntProgress(value=0, max=7), HTML(value='')))"
      ]
     },
     "metadata": {},
     "output_type": "display_data"
    }
   ],
   "source": [
    "tfunclist_photspec_list = [\n",
    "    [\n",
    "        tflist.TransferFuncList(\n",
    "            [\n",
    "                tf.TransFuncAtEnergy(spec_arr, dlnz=0.001)\n",
    "                for spec_arr in photspec_xH\n",
    "            ]\n",
    "        ) for photspec_xH in photspec_list_xH\n",
    "    ]for photspec_list_xH in tqdm(photspec_list)\n",
    "]\n",
    "\n",
    "tfunclist_lowengphotspec_list = [\n",
    "    [\n",
    "        tflist.TransferFuncList(\n",
    "            [\n",
    "                tf.TransFuncAtEnergy(spec_arr, dlnz=0.001)\n",
    "                for spec_arr in lowengphotspec_xH\n",
    "            ]\n",
    "        ) for lowengphotspec_xH in lowengphotspec_list_xH\n",
    "    ]for lowengphotspec_list_xH in tqdm(lowengphotspec_list)\n",
    "]\n",
    "    \n",
    "\n",
    "tfunclist_lowengelecspec_list = [\n",
    "    [\n",
    "        tflist.TransferFuncList(\n",
    "            [\n",
    "                tf.TransFuncAtEnergy(spec_arr, dlnz=0.001)\n",
    "                for spec_arr in lowengelecspec_xH\n",
    "            ]\n",
    "        ) for lowengelecspec_xH in lowengelecspec_list_xH\n",
    "    ] for lowengelecspec_list_xH in tqdm(lowengelecspec_list)\n",
    "]"
   ]
  },
  {
   "cell_type": "markdown",
   "metadata": {},
   "source": [
    "We will now transpose all of the `TransferFuncList` objects so that they are now all of type `'rs'`."
   ]
  },
  {
   "cell_type": "code",
   "execution_count": 27,
   "metadata": {},
   "outputs": [],
   "source": [
    "for tflists_xH_hep, tflists_xH_lep, tflists_xH_lee in zip(\n",
    "    tfunclist_photspec_list, tfunclist_lowengphotspec_list, tfunclist_lowengelecspec_list):\n",
    "    for tflist_hep, tflist_lep, tflist_lee in zip(\n",
    "        tflists_xH_hep, tflists_xH_lep, tflists_xH_lee\n",
    "    ):\n",
    "        tflist_hep.transpose()\n",
    "        tflist_lep.transpose()\n",
    "        tflist_lee.transpose()\n",
    "        for i, tf_hep, tf_lep, tf_lee in zip(np.arange(327), tflist_hep, tflist_lep, tflist_lee):\n",
    "            if np.any(np.isnan(tf_hep._grid_vals)):\n",
    "                print(np.where(np.isnan(tf_hep._grid_vals)),'here!')\n",
    "            if np.any(np.isnan(tf_lep._grid_vals)):\n",
    "                print(np.where(np.isnan(tf_lep._grid_vals)),'here1!')\n",
    "            if np.any(np.isnan(tf_lee._grid_vals)):\n",
    "                print(np.where(np.isnan(tf_lee._grid_vals)),'here2!')\n",
    "\n",
    "            tf_hep._grid_vals[np.where(tf_hep.grid_vals < 0)] = 1e-100\n",
    "            tf_lep._grid_vals[np.where(tf_lep.grid_vals < 0)] = 1e-100\n",
    "            tf_lee._grid_vals[np.where(tf_lee.grid_vals < 0)] = 1e-100\n"
   ]
  },
  {
   "cell_type": "markdown",
   "metadata": {},
   "source": [
    "And, finally, save the transfer functions."
   ]
  },
  {
   "cell_type": "code",
   "execution_count": 28,
   "metadata": {},
   "outputs": [],
   "source": [
    "def save_as_pickled_object(obj, filepath):\n",
    "    \"\"\"\n",
    "    This is a defensive way to write pickle.write, allowing for very large files on all platforms\n",
    "    \"\"\"\n",
    "    max_bytes = 2**31 - 1\n",
    "    bytes_out = pickle.dumps(obj)\n",
    "    n_bytes = sys.getsizeof(bytes_out)\n",
    "    with open(filepath, 'wb') as f_out:\n",
    "        for idx in range(0, n_bytes, max_bytes):\n",
    "            f_out.write(bytes_out[idx:idx+max_bytes])"
   ]
  },
  {
   "cell_type": "code",
   "execution_count": 30,
   "metadata": {},
   "outputs": [],
   "source": [
    "direc = '/Users/hongwan/Dropbox (MIT)/Photon Deposition/tfs_full_xHe/'\n",
    "string = '_full_xHe'\n",
    "\n",
    "save_as_pickled_object(tfunclist_photspec_list, direc+\"tfunclist_photspec_60eV_complete\"+string+\".raw\")\n",
    "save_as_pickled_object(tfunclist_lowengphotspec_list, direc+\"tfunclist_lowengphotspec_60eV_complete\"+string+\".raw\")\n",
    "save_as_pickled_object(tfunclist_lowengelecspec_list, direc+\"tfunclist_lowengelecspec_60eV_complete\"+string+\".raw\")\n",
    "save_as_pickled_object(new_cmbloss_raw, direc+\"CMB_engloss_60eV_complete\"+string+\".raw\")\n",
    "save_as_pickled_object(new_highdeposited_raw, direc+\"highdeposited_60eV_complete\"+string+\".raw\")"
   ]
  },
  {
   "cell_type": "code",
   "execution_count": null,
   "metadata": {},
   "outputs": [],
   "source": []
  }
 ],
 "metadata": {
  "kernelspec": {
   "display_name": "Python 3",
   "language": "python",
   "name": "python3"
  },
  "language_info": {
   "codemirror_mode": {
    "name": "ipython",
    "version": 3
   },
   "file_extension": ".py",
   "mimetype": "text/x-python",
   "name": "python",
   "nbconvert_exporter": "python",
   "pygments_lexer": "ipython3",
   "version": "3.6.7"
  },
  "toc": {
   "base_numbering": 1,
   "nav_menu": {},
   "number_sections": true,
   "sideBar": true,
   "skip_h1_title": false,
   "title_cell": "Table of Contents",
   "title_sidebar": "Contents",
   "toc_cell": false,
   "toc_position": {},
   "toc_section_display": true,
   "toc_window_display": false
  }
 },
 "nbformat": 4,
 "nbformat_minor": 2
}
