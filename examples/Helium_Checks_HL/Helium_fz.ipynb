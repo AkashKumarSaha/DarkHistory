{
 "cells": [
  {
   "cell_type": "code",
   "execution_count": 2,
   "metadata": {},
   "outputs": [],
   "source": [
    "%load_ext autoreload\n",
    "import sys\n",
    "sys.path.append(\"../..\")"
   ]
  },
  {
   "cell_type": "markdown",
   "metadata": {},
   "source": [
    "# Helium $f(z)$ Calculation"
   ]
  },
  {
   "cell_type": "code",
   "execution_count": 14,
   "metadata": {},
   "outputs": [],
   "source": [
    "%autoreload\n",
    "\n",
    "\n",
    "import matplotlib.pyplot as plt\n",
    "%matplotlib inline\n",
    "\n",
    "\n",
    "import matplotlib\n",
    "matplotlib.rc_file('matplotlibrc')\n",
    "matplotlib.rcParams['figure.figsize'] = [10,10]\n",
    "\n",
    "\n",
    "# SET THIS TO TRUE TO USE LATEX\n",
    "matplotlib.rcParams['text.usetex'] = True\n",
    "\n",
    "from astropy.io import fits\n",
    "\n",
    "import numpy as np\n",
    "import copy\n",
    "import pickle\n",
    "\n",
    "import darkhistory.physics as phys\n",
    "import darkhistory.utilities as utils\n",
    "import darkhistory.spec.spectools as spectools\n",
    "import darkhistory.spec.transferfunction as tf\n",
    "import darkhistory.spec.transferfunclist as tflist\n",
    "from darkhistory.spec.spectrum import Spectrum\n",
    "from darkhistory.spec.spectra import Spectra\n",
    "import darkhistory.history.tla as tla\n",
    "\n",
    "from scipy.interpolate import interp1d\n",
    "from scipy.interpolate import interp2d\n",
    "\n",
    "from tqdm import tqdm_notebook as tqdm\n",
    "\n",
    "from darkhistory.electrons.ics.ics_spectrum import ics_spec\n",
    "from darkhistory.electrons.ics.ics_engloss_spectrum import engloss_spec\n",
    "from darkhistory.electrons.ics.ics_cooling import get_ics_cooling_tf\n",
    "\n",
    "from darkhistory.low_energy.lowE_deposition import compute_fs\n",
    "import main\n",
    "\n",
    "from tqdm import tqdm_notebook as tqdm\n",
    "\n",
    "from astropy.io import fits\n",
    "\n",
    "\n",
    "# np.set_printoptions(threshold=np.nan)"
   ]
  },
  {
   "cell_type": "markdown",
   "metadata": {},
   "source": [
    "## Run DarkHistory"
   ]
  },
  {
   "cell_type": "code",
   "execution_count": 16,
   "metadata": {},
   "outputs": [],
   "source": [
    "direc = '/Users/hongwan/Dropbox (MIT)/Photon Deposition/tfs_20190120/'\n",
    "\n",
    "highengphot_tf_interp = pickle.load(open(direc+\"/processed/highengphot_tf_interp.raw\", \"rb\"))\n",
    "lowengphot_tf_interp  = pickle.load(open(direc+\"/processed/lowengphot_tf_interp.raw\", \"rb\"))\n",
    "lowengelec_tf_interp  = pickle.load(open(direc+\"/processed/lowengelec_tf_interp.raw\", \"rb\"))\n",
    "highengdep_interp     = pickle.load(open(direc+\"/processed/highengdep_interp.raw\", \"rb\"))\n",
    "CMB_engloss_interp    = pickle.load(open(direc+\"/processed/CMB_engloss_interp.raw\", \"rb\"))"
   ]
  },
  {
   "cell_type": "code",
   "execution_count": 22,
   "metadata": {},
   "outputs": [],
   "source": [
    "direc = \"/Users/hongwan/Dropbox (MIT)/Photon Deposition/tflists/ics/\"\n",
    "ics_thomson_ref_tf = pickle.load(open(direc+\"ics_thomson_ref_tf.raw\", \"rb\"))\n",
    "ics_rel_ref_tf = pickle.load(open(direc+\"ics_rel_ref_tf.raw\", \"rb\"))\n",
    "engloss_ref_tf = pickle.load(open(direc+\"engloss_ref_tf.raw\", \"rb\"))"
   ]
  },
  {
   "cell_type": "code",
   "execution_count": 25,
   "metadata": {},
   "outputs": [],
   "source": [
    "#Annihilation or decay?\n",
    "inj_type = 'decay'\n",
    "\n",
    "#Annihilate/Decay into\n",
    "inj_particle = 'photon'\n",
    "\n",
    "#Useful definitions\n",
    "if inj_particle == 'electron':\n",
    "    inj_str = 'elec'\n",
    "    mass = phys.me\n",
    "else:\n",
    "    inj_str = 'phot'\n",
    "    mass = 0\n",
    "    \n",
    "CMB_subtracted = True"
   ]
  },
  {
   "cell_type": "code",
   "execution_count": 45,
   "metadata": {},
   "outputs": [
    {
     "name": "stdout",
     "output_type": "stream",
     "text": [
      "4.465051255085978\n"
     ]
    },
    {
     "data": {
      "application/vnd.jupyter.widget-view+json": {
       "model_id": "c997d4c086af470a8ad873d540fce3b5",
       "version_major": 2,
       "version_minor": 0
      },
      "text/plain": [
       "HBox(children=(IntProgress(value=0, max=4), HTML(value='')))"
      ]
     },
     "metadata": {},
     "output_type": "display_data"
    },
    {
     "ename": "AttributeError",
     "evalue": "module 'darkhistory.physics' has no attribute 'width_2s1s'",
     "output_type": "error",
     "traceback": [
      "\u001b[0;31m---------------------------------------------------------------------------\u001b[0m",
      "\u001b[0;31mAttributeError\u001b[0m                            Traceback (most recent call last)",
      "\u001b[0;32m<ipython-input-45-8abf5203d25c>\u001b[0m in \u001b[0;36m<module>\u001b[0;34m\u001b[0m\n\u001b[1;32m     69\u001b[0m     \u001b[0mics_only\u001b[0m\u001b[0;34m=\u001b[0m\u001b[0;32mFalse\u001b[0m\u001b[0;34m,\u001b[0m \u001b[0mseparate_higheng\u001b[0m\u001b[0;34m=\u001b[0m\u001b[0;32mTrue\u001b[0m\u001b[0;34m,\u001b[0m \u001b[0mCMB_subtracted\u001b[0m\u001b[0;34m=\u001b[0m\u001b[0mCMB_subtracted\u001b[0m\u001b[0;34m,\u001b[0m\u001b[0;34m\u001b[0m\u001b[0;34m\u001b[0m\u001b[0m\n\u001b[1;32m     70\u001b[0m     \u001b[0muser\u001b[0m\u001b[0;34m=\u001b[0m\u001b[0;32mNone\u001b[0m\u001b[0;34m,\u001b[0m \u001b[0mverbose\u001b[0m\u001b[0;34m=\u001b[0m\u001b[0;32mFalse\u001b[0m\u001b[0;34m,\u001b[0m\u001b[0;34m\u001b[0m\u001b[0;34m\u001b[0m\u001b[0m\n\u001b[0;32m---> 71\u001b[0;31m     \u001b[0muse_tqdm\u001b[0m\u001b[0;34m=\u001b[0m\u001b[0;32mTrue\u001b[0m\u001b[0;34m,\u001b[0m \u001b[0mcompute_fs_method\u001b[0m\u001b[0;34m=\u001b[0m\u001b[0;34m'helium'\u001b[0m\u001b[0;34m\u001b[0m\u001b[0;34m\u001b[0m\u001b[0m\n\u001b[0m\u001b[1;32m     72\u001b[0m )\n",
      "\u001b[0;32m~/GitHub/DarkHistory/main.py\u001b[0m in \u001b[0;36mevolve\u001b[0;34m(in_spec_elec, in_spec_phot, rate_func_N, rate_func_eng, end_rs, highengphot_tf_interp, lowengphot_tf_interp, lowengelec_tf_interp, highengdep_interp, CMB_engloss_interp, ics_thomson_ref_tf, ics_rel_ref_tf, engloss_ref_tf, ics_only, highengdep_switch, separate_higheng, CMB_subtracted, reion_switch, reion_rs, photoion_rate_func, photoheat_rate_func, xe_reion_func, struct_boost, xH_init, Tm_init, coarsen_factor, std_soln, xH_func, xHe_func, user, verbose, use_tqdm, compute_fs_method)\u001b[0m\n\u001b[1;32m   1019\u001b[0m                     \u001b[0mhighengdep_fac\u001b[0m\u001b[0;34m*\u001b[0m\u001b[0mhighengdep_grid\u001b[0m\u001b[0;34m[\u001b[0m\u001b[0;34m-\u001b[0m\u001b[0;36m1\u001b[0m\u001b[0;34m]\u001b[0m\u001b[0;34m,\u001b[0m \u001b[0mcmbloss_grid\u001b[0m\u001b[0;34m[\u001b[0m\u001b[0;34m-\u001b[0m\u001b[0;36m1\u001b[0m\u001b[0;34m]\u001b[0m\u001b[0;34m,\u001b[0m\u001b[0;34m\u001b[0m\u001b[0;34m\u001b[0m\u001b[0m\n\u001b[1;32m   1020\u001b[0m                     \u001b[0mseparate_higheng\u001b[0m\u001b[0;34m=\u001b[0m\u001b[0mseparate_higheng\u001b[0m\u001b[0;34m,\u001b[0m\u001b[0;34m\u001b[0m\u001b[0;34m\u001b[0m\u001b[0m\n\u001b[0;32m-> 1021\u001b[0;31m                     \u001b[0mmethod\u001b[0m\u001b[0;34m=\u001b[0m\u001b[0mcompute_fs_method\u001b[0m\u001b[0;34m\u001b[0m\u001b[0;34m\u001b[0m\u001b[0m\n\u001b[0m\u001b[1;32m   1022\u001b[0m                 )\n\u001b[1;32m   1023\u001b[0m             \u001b[0;32melse\u001b[0m\u001b[0;34m:\u001b[0m\u001b[0;34m\u001b[0m\u001b[0;34m\u001b[0m\u001b[0m\n",
      "\u001b[0;32m~/GitHub/DarkHistory/darkhistory/low_energy/lowE_deposition.py\u001b[0m in \u001b[0;36mcompute_fs\u001b[0;34m(MEDEA_interp, elec_spec, phot_spec, x, dE_dVdt_inj, dt, highengdep, cmbloss, method, separate_higheng)\u001b[0m\n\u001b[1;32m    186\u001b[0m \u001b[0;34m\u001b[0m\u001b[0m\n\u001b[1;32m    187\u001b[0m         f_phot = lowE_photons.compute_fs(\n\u001b[0;32m--> 188\u001b[0;31m             \u001b[0mphot_spec\u001b[0m\u001b[0;34m,\u001b[0m \u001b[0mx\u001b[0m\u001b[0;34m,\u001b[0m \u001b[0mdE_dVdt_inj\u001b[0m\u001b[0;34m,\u001b[0m \u001b[0mdt\u001b[0m\u001b[0;34m,\u001b[0m \u001b[0;34m'helium'\u001b[0m\u001b[0;34m\u001b[0m\u001b[0;34m\u001b[0m\u001b[0m\n\u001b[0m\u001b[1;32m    189\u001b[0m         )\n\u001b[1;32m    190\u001b[0m         f_elec = lowE_electrons.compute_fs(\n",
      "\u001b[0;32m~/GitHub/DarkHistory/darkhistory/low_energy/lowE_photons.py\u001b[0m in \u001b[0;36mcompute_fs\u001b[0;34m(photspec, x, dE_dVdt_inj, dt, method)\u001b[0m\n\u001b[1;32m    284\u001b[0m \u001b[0;34m\u001b[0m\u001b[0m\n\u001b[1;32m    285\u001b[0m     \u001b[0mf_continuum\u001b[0m \u001b[0;34m=\u001b[0m \u001b[0mgetf_continuum\u001b[0m\u001b[0;34m(\u001b[0m\u001b[0mphotspec\u001b[0m\u001b[0;34m,\u001b[0m \u001b[0mnorm_fac\u001b[0m\u001b[0;34m)\u001b[0m\u001b[0;34m\u001b[0m\u001b[0;34m\u001b[0m\u001b[0m\n\u001b[0;32m--> 286\u001b[0;31m     \u001b[0mf_excite_HI\u001b[0m \u001b[0;34m=\u001b[0m \u001b[0mgetf_excitation\u001b[0m\u001b[0;34m(\u001b[0m\u001b[0mphotspec\u001b[0m\u001b[0;34m,\u001b[0m \u001b[0mnorm_fac\u001b[0m\u001b[0;34m,\u001b[0m \u001b[0mdt\u001b[0m\u001b[0;34m,\u001b[0m \u001b[0mxe\u001b[0m\u001b[0;34m,\u001b[0m \u001b[0mn\u001b[0m\u001b[0;34m,\u001b[0m \u001b[0mmethod\u001b[0m\u001b[0;34m)\u001b[0m\u001b[0;34m\u001b[0m\u001b[0;34m\u001b[0m\u001b[0m\n\u001b[0m\u001b[1;32m    287\u001b[0m     \u001b[0mf_HI\u001b[0m\u001b[0;34m,\u001b[0m \u001b[0mf_HeI\u001b[0m\u001b[0;34m,\u001b[0m \u001b[0mf_HeII\u001b[0m \u001b[0;34m=\u001b[0m \u001b[0mgetf_ion\u001b[0m\u001b[0;34m(\u001b[0m\u001b[0mphotspec\u001b[0m\u001b[0;34m,\u001b[0m \u001b[0mnorm_fac\u001b[0m\u001b[0;34m,\u001b[0m \u001b[0mn\u001b[0m\u001b[0;34m,\u001b[0m \u001b[0mmethod\u001b[0m\u001b[0;34m)\u001b[0m\u001b[0;34m\u001b[0m\u001b[0;34m\u001b[0m\u001b[0m\n\u001b[1;32m    288\u001b[0m \u001b[0;34m\u001b[0m\u001b[0m\n",
      "\u001b[0;32m~/GitHub/DarkHistory/darkhistory/low_energy/lowE_photons.py\u001b[0m in \u001b[0;36mgetf_excitation\u001b[0;34m(photspec, norm_fac, dt, xe, n, method)\u001b[0m\n\u001b[1;32m    148\u001b[0m \u001b[0;34m\u001b[0m\u001b[0m\n\u001b[1;32m    149\u001b[0m         \u001b[0;31m# Convenient variables\u001b[0m\u001b[0;34m\u001b[0m\u001b[0;34m\u001b[0m\u001b[0;34m\u001b[0m\u001b[0m\n\u001b[0;32m--> 150\u001b[0;31m         \u001b[0mkappa\u001b[0m \u001b[0;34m=\u001b[0m \u001b[0mkappa_DM\u001b[0m\u001b[0;34m(\u001b[0m\u001b[0mphotspec\u001b[0m\u001b[0;34m,\u001b[0m \u001b[0mxe\u001b[0m\u001b[0;34m)\u001b[0m\u001b[0;34m\u001b[0m\u001b[0;34m\u001b[0m\u001b[0m\n\u001b[0m\u001b[1;32m    151\u001b[0m \u001b[0;34m\u001b[0m\u001b[0m\n\u001b[1;32m    152\u001b[0m         \u001b[0;31m# Added this line since rate_2p1s_times_x1s function was removed.\u001b[0m\u001b[0;34m\u001b[0m\u001b[0;34m\u001b[0m\u001b[0;34m\u001b[0m\u001b[0m\n",
      "\u001b[0;32m~/GitHub/DarkHistory/darkhistory/low_energy/lowE_photons.py\u001b[0m in \u001b[0;36mkappa_DM\u001b[0;34m(photspec, xe)\u001b[0m\n\u001b[1;32m    108\u001b[0m \u001b[0;34m\u001b[0m\u001b[0m\n\u001b[1;32m    109\u001b[0m     \u001b[0;31m# Effect on 2s state\u001b[0m\u001b[0;34m\u001b[0m\u001b[0;34m\u001b[0m\u001b[0;34m\u001b[0m\u001b[0m\n\u001b[0;32m--> 110\u001b[0;31m     \u001b[0mkappa_2s\u001b[0m \u001b[0;34m=\u001b[0m \u001b[0mget_kappa_2s\u001b[0m\u001b[0;34m(\u001b[0m\u001b[0mphotspec\u001b[0m\u001b[0;34m)\u001b[0m\u001b[0;34m\u001b[0m\u001b[0;34m\u001b[0m\u001b[0m\n\u001b[0m\u001b[1;32m    111\u001b[0m \u001b[0;34m\u001b[0m\u001b[0m\n\u001b[1;32m    112\u001b[0m     return (\n",
      "\u001b[0;32m~/GitHub/DarkHistory/darkhistory/low_energy/lowE_photons.py\u001b[0m in \u001b[0;36mget_kappa_2s\u001b[0;34m(photspec)\u001b[0m\n\u001b[1;32m     23\u001b[0m     \u001b[0meng\u001b[0m \u001b[0;34m=\u001b[0m \u001b[0mphotspec\u001b[0m\u001b[0;34m.\u001b[0m\u001b[0meng\u001b[0m\u001b[0;34m\u001b[0m\u001b[0;34m\u001b[0m\u001b[0m\n\u001b[1;32m     24\u001b[0m     \u001b[0mrs\u001b[0m \u001b[0;34m=\u001b[0m \u001b[0mphotspec\u001b[0m\u001b[0;34m.\u001b[0m\u001b[0mrs\u001b[0m\u001b[0;34m\u001b[0m\u001b[0;34m\u001b[0m\u001b[0m\n\u001b[0;32m---> 25\u001b[0;31m     \u001b[0mLambda\u001b[0m \u001b[0;34m=\u001b[0m \u001b[0mphys\u001b[0m\u001b[0;34m.\u001b[0m\u001b[0mwidth_2s1s\u001b[0m\u001b[0;34m\u001b[0m\u001b[0;34m\u001b[0m\u001b[0m\n\u001b[0m\u001b[1;32m     26\u001b[0m     \u001b[0mTcmb\u001b[0m \u001b[0;34m=\u001b[0m \u001b[0mphys\u001b[0m\u001b[0;34m.\u001b[0m\u001b[0mTCMB\u001b[0m\u001b[0;34m(\u001b[0m\u001b[0mrs\u001b[0m\u001b[0;34m)\u001b[0m\u001b[0;34m\u001b[0m\u001b[0;34m\u001b[0m\u001b[0m\n\u001b[1;32m     27\u001b[0m     \u001b[0mlya_eng\u001b[0m \u001b[0;34m=\u001b[0m \u001b[0mphys\u001b[0m\u001b[0;34m.\u001b[0m\u001b[0mlya_eng\u001b[0m\u001b[0;34m\u001b[0m\u001b[0;34m\u001b[0m\u001b[0m\n",
      "\u001b[0;31mAttributeError\u001b[0m: module 'darkhistory.physics' has no attribute 'width_2s1s'"
     ]
    }
   ],
   "source": [
    "%autoreload\n",
    "\n",
    "#injection energy, DM mass, center-of-mass energy\n",
    "ind = 2\n",
    "\n",
    "log10eng0 = 3.6989700794219966\n",
    "log10eng = np.array([log10eng0 + 0.23252559*i for i in np.arange(39)])\n",
    "\n",
    "tau=.5e25\n",
    "sigmav=0\n",
    "end_rs = 2990\n",
    "start_rs = 3000\n",
    "\n",
    "photeng = highengphot_tf_interp.eng\n",
    "eleceng = lowengelec_tf_interp.eng\n",
    "\n",
    "Einj = 10**log10eng[ind]\n",
    "mDM = 2*Einj + 2*mass\n",
    "print(np.log10(mDM))\n",
    "Ecom=mDM\n",
    "\n",
    "def rate_func_N(rs):\n",
    "    return phys.inj_rate(inj_type, rs, mDM=mDM, sigmav=sigmav, tau=tau)/Ecom\n",
    "def rate_func_eng(rs):\n",
    "    return phys.inj_rate(inj_type, rs, mDM=mDM, sigmav=sigmav, tau=tau)\n",
    "\n",
    "if inj_type == 'swave':\n",
    "    mDM = mDM/2\n",
    "    Ecom = 2*mDM   \n",
    "\n",
    "if inj_particle == 'electron':\n",
    "    Etmp = eleceng[eleceng < Einj][-1]\n",
    "    elec_spec_init = spectools.rebin_N_arr(\n",
    "        np.array([2*Einj/Etmp]),\n",
    "        np.array([Etmp]),\n",
    "        eleceng\n",
    "    )\n",
    "    elec_spec_init.rs = start_rs\n",
    "    elec_spec_init.switch_spec_type()\n",
    "\n",
    "    phot_spec_init = Spectrum(photeng,\n",
    "                             np.zeros_like(photeng),\n",
    "                             spec_type='N',\n",
    "                             rs=start_rs)\n",
    "else:\n",
    "    Etmp = photeng[photeng < Einj][-1]\n",
    "    phot_spec_init = spectools.rebin_N_arr(\n",
    "        np.array([2*Einj/Etmp]),\n",
    "        np.array([Etmp]),\n",
    "        photeng\n",
    "    )\n",
    "    phot_spec_init.rs = start_rs\n",
    "    phot_spec_init.switch_spec_type()\n",
    "\n",
    "    elec_spec_init = Spectrum(eleceng,\n",
    "                             np.zeros_like(eleceng),\n",
    "                             spec_type='N',\n",
    "                             rs=start_rs)\n",
    "\n",
    "f_DH_list = main.evolve(\n",
    "    elec_spec_init, phot_spec_init,\n",
    "    rate_func_N, rate_func_eng, end_rs,\n",
    "    highengphot_tf_interp, lowengphot_tf_interp, lowengelec_tf_interp,\n",
    "    highengdep_interp, CMB_engloss_interp,\n",
    "    ics_thomson_ref_tf, ics_rel_ref_tf, engloss_ref_tf,\n",
    "    coarsen_factor=1, std_soln=True,\n",
    "    reion_switch=False,\n",
    "    struct_boost=None,\n",
    "    ics_only=False, separate_higheng=True, CMB_subtracted=CMB_subtracted,\n",
    "    user=None, verbose=False, \n",
    "    use_tqdm=True, compute_fs_method='helium'\n",
    ")"
   ]
  },
  {
   "cell_type": "code",
   "execution_count": null,
   "metadata": {},
   "outputs": [],
   "source": []
  }
 ],
 "metadata": {
  "kernelspec": {
   "display_name": "Python 3",
   "language": "python",
   "name": "python3"
  },
  "language_info": {
   "codemirror_mode": {
    "name": "ipython",
    "version": 3
   },
   "file_extension": ".py",
   "mimetype": "text/x-python",
   "name": "python",
   "nbconvert_exporter": "python",
   "pygments_lexer": "ipython3",
   "version": "3.6.7"
  },
  "toc": {
   "base_numbering": 1,
   "nav_menu": {},
   "number_sections": true,
   "sideBar": true,
   "skip_h1_title": false,
   "title_cell": "Table of Contents",
   "title_sidebar": "Contents",
   "toc_cell": false,
   "toc_position": {},
   "toc_section_display": true,
   "toc_window_display": false
  }
 },
 "nbformat": 4,
 "nbformat_minor": 2
}
