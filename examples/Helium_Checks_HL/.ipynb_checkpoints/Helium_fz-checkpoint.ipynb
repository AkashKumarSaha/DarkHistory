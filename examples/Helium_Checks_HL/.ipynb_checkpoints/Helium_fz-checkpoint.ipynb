{
 "cells": [
  {
   "cell_type": "code",
   "execution_count": 2,
   "metadata": {},
   "outputs": [],
   "source": [
    "%load_ext autoreload\n",
    "import sys\n",
    "sys.path.append(\"../..\")"
   ]
  },
  {
   "cell_type": "markdown",
   "metadata": {},
   "source": [
    "# Helium $f(z)$ Calculation"
   ]
  },
  {
   "cell_type": "code",
   "execution_count": 14,
   "metadata": {},
   "outputs": [],
   "source": [
    "%autoreload\n",
    "\n",
    "\n",
    "import matplotlib.pyplot as plt\n",
    "%matplotlib inline\n",
    "\n",
    "\n",
    "import matplotlib\n",
    "matplotlib.rc_file('matplotlibrc')\n",
    "matplotlib.rcParams['figure.figsize'] = [10,10]\n",
    "\n",
    "\n",
    "# SET THIS TO TRUE TO USE LATEX\n",
    "matplotlib.rcParams['text.usetex'] = True\n",
    "\n",
    "from astropy.io import fits\n",
    "\n",
    "import numpy as np\n",
    "import copy\n",
    "import pickle\n",
    "\n",
    "import darkhistory.physics as phys\n",
    "import darkhistory.utilities as utils\n",
    "import darkhistory.spec.spectools as spectools\n",
    "import darkhistory.spec.transferfunction as tf\n",
    "import darkhistory.spec.transferfunclist as tflist\n",
    "from darkhistory.spec.spectrum import Spectrum\n",
    "from darkhistory.spec.spectra import Spectra\n",
    "import darkhistory.history.tla as tla\n",
    "\n",
    "from scipy.interpolate import interp1d\n",
    "from scipy.interpolate import interp2d\n",
    "\n",
    "from tqdm import tqdm_notebook as tqdm\n",
    "\n",
    "from darkhistory.electrons.ics.ics_spectrum import ics_spec\n",
    "from darkhistory.electrons.ics.ics_engloss_spectrum import engloss_spec\n",
    "from darkhistory.electrons.ics.ics_cooling import get_ics_cooling_tf\n",
    "\n",
    "from darkhistory.low_energy.lowE_deposition import compute_fs\n",
    "import main\n",
    "\n",
    "from tqdm import tqdm_notebook as tqdm\n",
    "\n",
    "from astropy.io import fits\n",
    "\n",
    "\n",
    "# np.set_printoptions(threshold=np.nan)"
   ]
  },
  {
   "cell_type": "markdown",
   "metadata": {},
   "source": [
    "## Run DarkHistory"
   ]
  },
  {
   "cell_type": "code",
   "execution_count": 16,
   "metadata": {},
   "outputs": [],
   "source": [
    "direc = '/Users/hongwan/Dropbox (MIT)/Photon Deposition/tfs_20190120/'\n",
    "\n",
    "highengphot_tf_interp = pickle.load(open(direc+\"/processed/highengphot_tf_interp.raw\", \"rb\"))\n",
    "lowengphot_tf_interp  = pickle.load(open(direc+\"/processed/lowengphot_tf_interp.raw\", \"rb\"))\n",
    "lowengelec_tf_interp  = pickle.load(open(direc+\"/processed/lowengelec_tf_interp.raw\", \"rb\"))\n",
    "highengdep_interp     = pickle.load(open(direc+\"/processed/highengdep_interp.raw\", \"rb\"))\n",
    "CMB_engloss_interp    = pickle.load(open(direc+\"/processed/CMB_engloss_interp.raw\", \"rb\"))"
   ]
  },
  {
   "cell_type": "code",
   "execution_count": 22,
   "metadata": {},
   "outputs": [],
   "source": [
    "direc = \"/Users/hongwan/Dropbox (MIT)/Photon Deposition/tflists/ics/\"\n",
    "ics_thomson_ref_tf = pickle.load(open(direc+\"ics_thomson_ref_tf.raw\", \"rb\"))\n",
    "ics_rel_ref_tf = pickle.load(open(direc+\"ics_rel_ref_tf.raw\", \"rb\"))\n",
    "engloss_ref_tf = pickle.load(open(direc+\"engloss_ref_tf.raw\", \"rb\"))"
   ]
  },
  {
   "cell_type": "code",
   "execution_count": 25,
   "metadata": {},
   "outputs": [],
   "source": [
    "#Annihilation or decay?\n",
    "inj_type = 'decay'\n",
    "\n",
    "#Annihilate/Decay into\n",
    "inj_particle = 'photon'\n",
    "\n",
    "#Useful definitions\n",
    "if inj_particle == 'electron':\n",
    "    inj_str = 'elec'\n",
    "    mass = phys.me\n",
    "else:\n",
    "    inj_str = 'phot'\n",
    "    mass = 0\n",
    "    \n",
    "CMB_subtracted = True"
   ]
  },
  {
   "cell_type": "code",
   "execution_count": 62,
   "metadata": {},
   "outputs": [
    {
     "name": "stdout",
     "output_type": "stream",
     "text": [
      "7.022832745085978\n",
      "wtf\n"
     ]
    },
    {
     "ename": "IndexError",
     "evalue": "index 3 is out of bounds for axis 0 with size 3",
     "output_type": "error",
     "traceback": [
      "\u001b[0;31m---------------------------------------------------------------------------\u001b[0m",
      "\u001b[0;31mIndexError\u001b[0m                                Traceback (most recent call last)",
      "\u001b[0;32m<ipython-input-62-72e036d7eb41>\u001b[0m in \u001b[0;36m<module>\u001b[0;34m\u001b[0m\n\u001b[1;32m     65\u001b[0m     \u001b[0mhighengphot_tf_interp\u001b[0m\u001b[0;34m,\u001b[0m \u001b[0mlowengphot_tf_interp\u001b[0m\u001b[0;34m,\u001b[0m \u001b[0mlowengelec_tf_interp\u001b[0m\u001b[0;34m,\u001b[0m\u001b[0;34m\u001b[0m\u001b[0;34m\u001b[0m\u001b[0m\n\u001b[1;32m     66\u001b[0m     \u001b[0mhighengdep_interp\u001b[0m\u001b[0;34m,\u001b[0m \u001b[0mCMB_engloss_interp\u001b[0m\u001b[0;34m,\u001b[0m\u001b[0;34m\u001b[0m\u001b[0;34m\u001b[0m\u001b[0m\n\u001b[0;32m---> 67\u001b[0;31m     ics_thomson_ref_tf, ics_rel_ref_tf, engloss_ref_tf)\n\u001b[0m\u001b[1;32m     68\u001b[0m \u001b[0;34m\u001b[0m\u001b[0m\n\u001b[1;32m     69\u001b[0m f_DH_list = main.evolve(\n",
      "\u001b[0;32m../../main.py\u001b[0m in \u001b[0;36mevolve\u001b[0;34m(in_spec_elec, in_spec_phot, rate_func_N, rate_func_eng, end_rs, highengphot_tf_interp, lowengphot_tf_interp, lowengelec_tf_interp, highengdep_interp, CMB_engloss_interp, ics_thomson_ref_tf, ics_rel_ref_tf, engloss_ref_tf, ics_only, compute_fs_method, highengdep_switch, separate_higheng, CMB_subtracted, helium_TLA, reion_switch, reion_rs, photoion_rate_func, photoheat_rate_func, xe_reion_func, struct_boost, init_cond, coarsen_factor, std_soln, xH_func, xHe_func, user, verbose, use_tqdm)\u001b[0m\n",
      "\u001b[0;32m../../main.py\u001b[0m in \u001b[0;36mload_std\u001b[0;34m(rs)\u001b[0m\n",
      "\u001b[0;31mIndexError\u001b[0m: index 3 is out of bounds for axis 0 with size 3"
     ]
    }
   ],
   "source": [
    "%autoreload\n",
    "\n",
    "#injection energy, DM mass, center-of-mass energy\n",
    "ind = 13\n",
    "\n",
    "log10eng0 = 3.6989700794219966\n",
    "log10eng = np.array([log10eng0 + 0.23252559*i for i in np.arange(39)])\n",
    "\n",
    "tau=.5e25\n",
    "sigmav=0\n",
    "end_rs = 2990\n",
    "start_rs = 3000\n",
    "\n",
    "photeng = highengphot_tf_interp.eng\n",
    "eleceng = lowengelec_tf_interp.eng\n",
    "\n",
    "Einj = 10**log10eng[ind]\n",
    "mDM = 2*Einj + 2*mass\n",
    "print(np.log10(mDM))\n",
    "Ecom=mDM\n",
    "\n",
    "def rate_func_N(rs):\n",
    "    return phys.inj_rate(inj_type, rs, mDM=mDM, sigmav=sigmav, tau=tau)/Ecom\n",
    "def rate_func_eng(rs):\n",
    "    return phys.inj_rate(inj_type, rs, mDM=mDM, sigmav=sigmav, tau=tau)\n",
    "\n",
    "if inj_type == 'swave':\n",
    "    mDM = mDM/2\n",
    "    Ecom = 2*mDM   \n",
    "\n",
    "if inj_particle == 'electron':\n",
    "    Etmp = eleceng[eleceng < Einj][-1]\n",
    "    elec_spec_init = spectools.rebin_N_arr(\n",
    "        np.array([2*Einj/Etmp]),\n",
    "        np.array([Etmp]),\n",
    "        eleceng\n",
    "    )\n",
    "    elec_spec_init.rs = start_rs\n",
    "    elec_spec_init.switch_spec_type()\n",
    "\n",
    "    phot_spec_init = Spectrum(photeng,\n",
    "                             np.zeros_like(photeng),\n",
    "                             spec_type='N',\n",
    "                             rs=start_rs)\n",
    "else:\n",
    "    Etmp = photeng[photeng < Einj][-1]\n",
    "    phot_spec_init = spectools.rebin_N_arr(\n",
    "        np.array([2*Einj/Etmp]),\n",
    "        np.array([Etmp]),\n",
    "        photeng\n",
    "    )\n",
    "    phot_spec_init.rs = start_rs\n",
    "    phot_spec_init.switch_spec_type()\n",
    "\n",
    "    elec_spec_init = Spectrum(eleceng,\n",
    "                             np.zeros_like(eleceng),\n",
    "                             spec_type='N',\n",
    "                             rs=start_rs)\n",
    "\n",
    "   \n",
    "f_DH_list = main.evolve(\n",
    "    elec_spec_init, phot_spec_init,\n",
    "    rate_func_N, rate_func_eng, end_rs,\n",
    "    highengphot_tf_interp, lowengphot_tf_interp, lowengelec_tf_interp,\n",
    "    highengdep_interp, CMB_engloss_interp,\n",
    "    ics_thomson_ref_tf, ics_rel_ref_tf, engloss_ref_tf,\n",
    "    coarsen_factor=1, std_soln=True,\n",
    "    reion_switch=False,\n",
    "    struct_boost=None,\n",
    "    ics_only=False, separate_higheng=True, CMB_subtracted=CMB_subtracted,\n",
    "    user=None, verbose=False, \n",
    "    use_tqdm=True\n",
    ")"
   ]
  },
  {
   "cell_type": "code",
   "execution_count": null,
   "metadata": {},
   "outputs": [],
   "source": []
  }
 ],
 "metadata": {
  "kernelspec": {
   "display_name": "Python 3",
   "language": "python",
   "name": "python3"
  },
  "language_info": {
   "codemirror_mode": {
    "name": "ipython",
    "version": 3
   },
   "file_extension": ".py",
   "mimetype": "text/x-python",
   "name": "python",
   "nbconvert_exporter": "python",
   "pygments_lexer": "ipython3",
   "version": "3.6.7"
  },
  "toc": {
   "base_numbering": 1,
   "nav_menu": {},
   "number_sections": true,
   "sideBar": true,
   "skip_h1_title": false,
   "title_cell": "Table of Contents",
   "title_sidebar": "Contents",
   "toc_cell": false,
   "toc_position": {},
   "toc_section_display": true,
   "toc_window_display": false
  }
 },
 "nbformat": 4,
 "nbformat_minor": 2
}
