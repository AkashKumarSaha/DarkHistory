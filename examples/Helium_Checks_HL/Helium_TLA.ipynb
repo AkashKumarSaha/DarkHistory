{
 "cells": [
  {
   "cell_type": "code",
   "execution_count": 1,
   "metadata": {},
   "outputs": [],
   "source": [
    "%load_ext autoreload\n",
    "import sys\n",
    "sys.path.append(\"../..\")"
   ]
  },
  {
   "cell_type": "markdown",
   "metadata": {},
   "source": [
    "# Helium"
   ]
  },
  {
   "cell_type": "code",
   "execution_count": 2,
   "metadata": {},
   "outputs": [],
   "source": [
    "%autoreload\n",
    "\n",
    "import numpy as np\n",
    "\n",
    "%matplotlib inline\n",
    "\n",
    "import matplotlib\n",
    "matplotlib.rc_file('matplotlibrc')\n",
    "matplotlib.rcParams['figure.figsize'] = [8,6]\n",
    "import matplotlib.pyplot as plt\n",
    "\n",
    "\n",
    "\n",
    "\n",
    "import darkhistory.physics as phys\n",
    "import darkhistory.history.tla as tla\n",
    "\n",
    "from astropy.io import fits\n",
    "\n",
    "from scipy.interpolate import interp1d\n",
    "from scipy.misc import derivative"
   ]
  },
  {
   "cell_type": "markdown",
   "metadata": {},
   "source": [
    "## TLA with Helium"
   ]
  },
  {
   "cell_type": "markdown",
   "metadata": {},
   "source": [
    "The TLA with helium looks like the following set of equations (from astro-ph/9909275):\n",
    "\n",
    "$$ \\frac{dx_\\text{p}}{dz} = \\mathcal{C}_\\text{H} \\left(x_\\text{e} x_\\text{p} n_\\text{H} \\alpha_\\text{H} - \\beta_\\text{H} (1 - x_p) e^{- \\nu_{\\text{H} 2s} / T_M} \\right)$$\n",
    "\n",
    "$$ \\frac{dx_\\text{HeII}}{dz} = \\mathcal{C}_\\text{He} \\left( \n",
    "    x_e x_\\text{HeII} n_\\text{H} \\alpha_\\text{HeI} - \\beta_\\text{HeI} \\left( f_\\text{He} - x_\\text{HeII} \\right) e^{- \\nu_{\\text{HeI 2}^1s} / T_M} \\right) $$\n",
    "    \n",
    "where\n",
    "\n",
    "$$\\mathcal{C}_\\text{H} = \\frac{1 + K_\\text{H} \\Lambda_\\text{H} n_\\text{H} (1 - x_p)}{H(z) (1+z) \\left( 1 + K_\\text{H} (\\Lambda_\\text{H} + \\beta_\\text{H}) n_\\text{H} (1 - x_p) \\right)} $$\n",
    "\n",
    "and similarly\n",
    "\n",
    "$$\\mathcal{C}_\\text{He} = \\frac{1 + K_\\text{HeI} \\Lambda_\\text{He} n_\\text{H} \\left(f_\\text{He} - x_\\text{HeII} \\right) e^{-\\nu_\\text{ps}/T_M}}{H(z) (1+z) \\left( 1 + K_\\text{HeI} (\\Lambda_\\text{He} + \\beta_\\text{HeI}) n_\\text{H} (f_\\text{He} - x_\\text{HeII}) e^{- \\nu_\\text{ps}/T_M} \\right)} $$\n",
    "\n",
    "$\\mathcal{C}_\\text{H}$ should be the Peebles-C factor that we already have (we will check this numerically below), while $\\mathcal{C}_\\text{He}$ is the equivalent factor for helium.\n",
    "\n",
    "Let's try to obtain the solution to these equations, together with the usual temperature evolution equations."
   ]
  },
  {
   "cell_type": "markdown",
   "metadata": {},
   "source": [
    "First, let's check that our Peebles-C factor expressions are the same. Note that there is a factor of 4 difference in our definition of $\\beta$, and also the factor of $H(z) (1+z)$ which converts between $dz$ and $dt$. Also, $\\beta$ should be evaluated at $T_R$ as per the HyREC paper. "
   ]
  },
  {
   "cell_type": "code",
   "execution_count": 3,
   "metadata": {},
   "outputs": [
    {
     "name": "stdout",
     "output_type": "stream",
     "text": [
      "19730968027353.65\n",
      "19730968027353.645\n"
     ]
    }
   ],
   "source": [
    "def C_H(rs, xp):\n",
    "    lambda_H_2p = 2*np.pi*phys.hbar*phys.c/phys.lya_eng\n",
    "    K_H = lambda_H_2p**3/(8*np.pi*phys.hubble(rs))\n",
    "    Lambda_H = 8.22458\n",
    "    \n",
    "    numer = 1 + K_H*Lambda_H*phys.nH*rs**3*(1 - xp)\n",
    "    denom = numer + K_H*(1-xp)*phys.beta_ion(phys.TCMB(rs), 'HI')*4*phys.nH*rs**3\n",
    "    \n",
    "    return numer/denom/(phys.hubble(rs)*rs)\n",
    "\n",
    "\n",
    "rs = 70\n",
    "xp = .01\n",
    "# Should be equal.\n",
    "print(C_H(rs, xp))\n",
    "print(phys.peebles_C(xp, rs)/phys.hubble(rs)/rs)"
   ]
  },
  {
   "cell_type": "markdown",
   "metadata": {},
   "source": [
    "This check confirms that we can use the same code as in `physics` and `tla` to solve for the hydrogen part of recombination, as well as the temperature evolution of course. We now need to code up the helium side of things."
   ]
  },
  {
   "cell_type": "code",
   "execution_count": 4,
   "metadata": {},
   "outputs": [],
   "source": [
    "chi = phys.nHe/phys.nH\n",
    "\n",
    "def alpha_HeI_recomb(T_m):\n",
    "    \n",
    "    q = 10**-16.744\n",
    "    p = 0.711\n",
    "    T_1 = 10**5.114 * phys.kB # in eV\n",
    "    T_2 = 3. * phys.kB # in eV\n",
    "\n",
    "#     q = 1.691e-18\n",
    "#     p = 1.519\n",
    "#     T_1 = 3.2026e4 * phys.kB\n",
    "#     T_2 = 3. * phys.kB\n",
    "    \n",
    "    # in cm^3 s^-1\n",
    "    return 1e6*q/(\n",
    "        np.sqrt(T_m/T_2)\n",
    "        *(1. + T_m/T_2)**(1.-p)\n",
    "        *(1. + T_m/T_1)**(1.+p) \n",
    "    )\n",
    "\n",
    "def beta_HeI_ion(T_rad):\n",
    "    reduced_mass = phys.mp*phys.me/(phys.mp + phys.me)\n",
    "    de_broglie_wavelength = (\n",
    "        phys.c * 2*np.pi*phys.hbar\n",
    "        / np.sqrt(2 * np.pi * reduced_mass * T_rad)\n",
    "    )\n",
    "    \n",
    "#     E2s = phys.He_ion_eng - 2*np.pi*phys.hbar*phys.c/60.1404e-7\n",
    "    E2s = phys.He_ion_eng - 2*np.pi*phys.hbar*phys.c*166277.4403\n",
    "    return 4*(\n",
    "        (1/de_broglie_wavelength)**3\n",
    "        * np.exp(-E2s/T_rad) * alpha_HeI_recomb(T_rad)\n",
    "    )\n",
    "\n",
    "def alpha_HeI_triplet(T):\n",
    "    \n",
    "    q = 10**(-16.306)\n",
    "    T_2 = 3 # in K\n",
    "    T_1 = 10**(5.114)\n",
    "    p = 0.761\n",
    "    \n",
    "    T_in_K = T/phys.kB\n",
    "    \n",
    "    denom = np.sqrt(T_in_K/T_2) * (1 + T_in_K/T_2)**(1-p) * (1 + T_in_K/T_1)**(1+p)\n",
    "    \n",
    "    return q/denom * (100**3) # in cm^3 s^-1\n",
    "\n",
    "def beta_HeI_triplet(T):\n",
    "    \n",
    "    lambda_HeI_23s = 1/1.5985597526e7 * 100 # cm, from CLASS\n",
    "#     E_ion_from_23s = phys.He_ion_eng - (2*np.pi*phys.hbar)*phys.c/lambda_HeI_23s\n",
    "    E_ion_from_23s = phys.He_ion_eng - (2*np.pi*phys.hbar)*phys.c*159855.9745\n",
    "    fac = (2*np.pi*phys.me*T/(2*np.pi*phys.hbar*phys.c)**2)**(3/2)\n",
    "    boltz = np.exp(-E_ion_from_23s/T)\n",
    "    return (4/3)*alpha_HeI_triplet(T)*fac*boltz\n",
    "    \n",
    "def C_HeII(xHII, xHeII, rs):\n",
    "    \n",
    "    T = phys.TCMB(rs)\n",
    "    A_2p = 1.798287e9\n",
    "    lambda_HeI_21p = 58.4334e-9*100 # cm\n",
    "    lambda_HeI_21s = 60.1404e-9*100 # cm\n",
    "    E_ps = (2*np.pi*phys.hbar)*phys.c*(1/lambda_HeI_21p - 1/lambda_HeI_21s) # eV\n",
    "\n",
    "    tauHe = 3*A_2p*phys.nH*rs**3*(chi - xHeII) * (lambda_HeI_21p**3)/(8*np.pi*phys.hubble(rs))\n",
    "\n",
    "    pHe_s = (1. - np.exp(-tauHe))/tauHe\n",
    "\n",
    "    gamma_numer = 3*A_2p*(chi - xHeII)*lambda_HeI_21p**2\n",
    "    sigma = phys.photo_ion_xsec(2*np.pi*phys.hbar*phys.c/lambda_HeI_21p, 'HI')\n",
    "    Delta_nu = (phys.c/lambda_HeI_21p)*np.sqrt(2*T/(3.9715*phys.mp))\n",
    "    gamma_denom = 8*np.pi**(3/2)*sigma*Delta_nu*(1 - xHII)\n",
    "    if xHII >= 1:\n",
    "        gamma = np.inf\n",
    "    else:\n",
    "        gamma = gamma_numer/gamma_denom\n",
    "\n",
    "    aHe = 0.36\n",
    "    bHe = 0.86\n",
    "\n",
    "    p_con_H = 1/(1 + aHe*gamma**bHe)\n",
    "    K_HeI = (1/3)/(A_2p * (pHe_s + p_con_H) * phys.nH*rs**3*(chi - xHeII))\n",
    "\n",
    "    Lambda_HeI = 51.3 #s^-1\n",
    "\n",
    "    numer = 1 + K_HeI*Lambda_HeI*(phys.nH*rs**3)*(chi - xHeII)*np.exp(E_ps/T)\n",
    "    denom = 1 + K_HeI*(Lambda_HeI + beta_HeI_ion(T))*(phys.nH*rs**3)*(chi - xHeII)*np.exp(E_ps/T)\n",
    "\n",
    "    return numer/denom\n",
    "\n",
    "def C_HeII_triplet(xHeII, rs):\n",
    "        \n",
    "    T = phys.TCMB(rs)\n",
    "\n",
    "    A_2p_triplet = 177.58\n",
    "    lambda_HeI_23p = 1/1.690871466e7 * 100 # cm, from CLASS\n",
    "    lambda_HeI_23s = 1/1.5985597526e7 * 100 # cm, from CLASS\n",
    "\n",
    "    E_ps_triplet = (2*np.pi*phys.hbar)*phys.c*(1/lambda_HeI_23p - 1/lambda_HeI_23s) # eV\n",
    "\n",
    "    tauHe_t = 3*A_2p_triplet*phys.nH*rs**3*(chi - xHeII) * (lambda_HeI_23p**3)/(8*np.pi*phys.hubble(rs))\n",
    "    pHe_t = (1. - np.exp(-tauHe_t))/tauHe_t\n",
    "\n",
    "    CfHe_t = A_2p_triplet*pHe_t*np.exp(-E_ps_triplet/T);\n",
    "    CfHe_t = CfHe_t/(beta_HeI_triplet(T) + CfHe_t)\n",
    "\n",
    "    return CfHe_t\n",
    "\n",
    "def C_He_old(rs, xHeII, T_m):\n",
    "    \n",
    "    lambda_HeI_2_1p = 58.4334e-7\n",
    "    \n",
    "    Lambda_He = 51.3\n",
    "    \n",
    "    f_He = phys.nHe/phys.nH\n",
    "    \n",
    "    K_HeI = lambda_HeI_2_1p**3/(8*np.pi*phys.hubble(rs))\n",
    "    \n",
    "    E_ps = -2*np.pi*phys.hbar*phys.c*(\n",
    "        1./58.4334e-7 - 1./60.1404e-7\n",
    "    )\n",
    "    \n",
    "    numer = 1. + K_HeI*Lambda_He*phys.nH*rs**3*(f_He - xHeII)*np.exp(-E_ps/T_m)\n",
    "    denom = numer + K_HeI*beta_HeI_ion(phys.TCMB(rs))*phys.nH*rs**3*(f_He - xHeII)*np.exp(-E_ps/T_m)\n",
    "\n",
    "    return numer/denom\n",
    "    \n",
    "    "
   ]
  },
  {
   "cell_type": "code",
   "execution_count": 5,
   "metadata": {},
   "outputs": [],
   "source": [
    "def xe_Saha(rs, species):\n",
    "    \n",
    "    T = phys.TCMB(rs)\n",
    "    \n",
    "    de_broglie_wavelength = (\n",
    "        phys.c * 2*np.pi*phys.hbar\n",
    "        / np.sqrt(2 * np.pi * phys.me * T)\n",
    "    )\n",
    "    \n",
    "    if species == 'HI':\n",
    "        rhs = (1/de_broglie_wavelength)**3 / (phys.nH*rs**3) * np.exp(-phys.rydberg/T)\n",
    "        a   = 1.\n",
    "        b   = rhs\n",
    "        c   = -rhs\n",
    "    elif species == 'HeI':\n",
    "        rhs = 4 * (1/de_broglie_wavelength)**3 / (phys.nH*rs**3) * np.exp(-phys.He_ion_eng/T)\n",
    "        a = 1.\n",
    "        b = -rhs*(-1.) - 1\n",
    "        c = -(1 + phys.nHe/phys.nH)*rhs\n",
    "    else:\n",
    "        raise TypeError('Invalid species.')\n",
    "    \n",
    "    return (-b + np.sqrt(b**2 - 4*a*c))/(2*a)\n",
    "\n",
    "def xe_Saha_HI(rs):\n",
    "    \n",
    "    if xe_Saha(rs, 'HI') > 0.999999:\n",
    "        \n",
    "        T = phys.TCMB(rs)\n",
    "    \n",
    "        de_broglie_wavelength = (\n",
    "            phys.c * 2*np.pi*phys.hbar\n",
    "            / np.sqrt(2 * np.pi * phys.me * T)\n",
    "        )\n",
    "        \n",
    "        return 1. - 1/((1/de_broglie_wavelength)**3 / (phys.nH*rs**3) * np.exp(-phys.rydberg/T))\n",
    "    \n",
    "    else:\n",
    "    \n",
    "        return xe_Saha(rs, 'HI')\n",
    "    \n",
    "def xe_Saha_deriv_HI(rs):\n",
    "    \n",
    "    xe_s = xe_Saha_HI(rs)\n",
    "    \n",
    "    numer = (phys.rydberg/phys.TCMB(rs) - 3/2)*xe_s**2\n",
    "    denom = rs*(2*xe_s + xe_s**2/(1 - xe_s))\n",
    "    \n",
    "    return numer/denom\n",
    "    \n",
    "\n",
    "def xe_Saha_HeI(rs):\n",
    "    \n",
    "    return xe_Saha(rs, 'HeI')"
   ]
  },
  {
   "cell_type": "markdown",
   "metadata": {},
   "source": [
    "Now for the equivalent of `get_history`. "
   ]
  },
  {
   "cell_type": "code",
   "execution_count": 6,
   "metadata": {},
   "outputs": [],
   "source": [
    "from scipy.integrate import odeint\n",
    "\n",
    "def compton_cooling_rate(xHII, xHeII, xHeIII, T_m, rs):\n",
    "\n",
    "    xe = xHII + xHeII + 2*xHeIII\n",
    "\n",
    "    return (\n",
    "        4 * phys.thomson_xsec * 4 * phys.stefboltz / phys.me\n",
    "        * xe * phys.nH*rs**3 * (phys.TCMB(rs) - T_m)\n",
    "        * phys.TCMB(rs)**4\n",
    "    )\n",
    "\n",
    "def get_history_He(\n",
    "    init_cond, f_H_ion_in, f_H_exc_in, f_heating_in, \n",
    "    dm_injection_rate_in, rs_vec, mxstep = 0\n",
    "):\n",
    "\n",
    "    def f_H_ion(rs, xHI, xHeI, xHeII):\n",
    "        if isinstance(f_H_ion_in, float):\n",
    "            return f_H_ion_in\n",
    "        elif callable(f_H_ion_in):\n",
    "            return f_H_ion_in(rs, xHI, xHeI, xHeII)\n",
    "        else:\n",
    "            raise TypeError('f_H_ion_in must be float or an appropriate function.')\n",
    "\n",
    "    def f_H_exc(rs, xHI, xHeI, xHeII):\n",
    "        if isinstance(f_H_exc_in, float):\n",
    "            return f_H_exc_in\n",
    "        elif callable(f_H_exc_in):\n",
    "            return f_H_exc_in(rs, xHI, xHeI, xHeII)\n",
    "        else:\n",
    "            raise TypeError('f_H_exc_in must be float or an appropriate function.')\n",
    "\n",
    "    def f_heating(rs, xHI, xHeI, xHeII):\n",
    "        if isinstance(f_heating_in, float):\n",
    "            return f_heating_in\n",
    "        elif callable(f_heating_in):\n",
    "            return f_heating_in(rs, xHI, xHeI, xHeII)\n",
    "        else:\n",
    "            raise TypeError('f_heating_in must be float or an appropriate function.')\n",
    "\n",
    "    def dm_injection_rate(rs):\n",
    "        if isinstance(dm_injection_rate_in, float):\n",
    "            return dm_injection_rate_in\n",
    "        elif callable(dm_injection_rate_in):\n",
    "            return dm_injection_rate_in(rs)\n",
    "        else:\n",
    "            raise TypeError('dm_injection_rate_in must be a float or an appropriate function.')\n",
    "            \n",
    "    chi = phys.nHe/phys.nH\n",
    "    \n",
    "    def xHII(yHII):\n",
    "            return 0.5 + 0.5*np.tanh(yHII)\n",
    "    def xHeII(yHeII):\n",
    "        return chi/2 + chi/2*np.tanh(yHeII)\n",
    "    def xHeIII(yHeIII):\n",
    "        return chi/2 + chi/2*np.tanh(yHeIII)\n",
    "    \n",
    "    def tla(var, rs):\n",
    "\n",
    "        def dT_dz(yHII, yHeII, yHeIII, T_m, rs):\n",
    "\n",
    "            xe = xHII(yHII) + xHeII(yHeII) + 2*xHeIII(yHeIII)\n",
    "            xHI = 1 - xHII(yHII)\n",
    "            xHeI = chi - xHeII(yHeII) - xHeIII(yHeIII)\n",
    "\n",
    "            # This rate is temperature loss per redshift.\n",
    "            adiabatic_cooling_rate = 2 * T_m/rs\n",
    "\n",
    "            return adiabatic_cooling_rate + (\n",
    "                - phys.dtdz(rs)*(\n",
    "                    compton_cooling_rate(\n",
    "                        xHII(yHII), xHeII(yHeII), xHeIII(yHeIII), T_m, rs\n",
    "                    )\n",
    "                    + f_heating(rs, xHI, xHeI, xHeII(yHeII)) * dm_injection_rate(rs)\n",
    "                )\n",
    "            )/ (3/2 * phys.nH*rs**3 * (1 + chi + xe))\n",
    "\n",
    "        def dyHII_dz(yHII, yHeII, yHeIII, T_m, rs):\n",
    "\n",
    "            if 1 - xHII(yHII) < 1e-6 and rs < 100:\n",
    "                # At this point, leave at 1 - 1e-6\n",
    "                return 0\n",
    "            \n",
    "            if xHeII(yHeII) > 0.99*chi:\n",
    "                return 0\n",
    "            \n",
    "            if xHII(yHII) > 0.99 and rs > 1000:\n",
    "                return 2 * np.cosh(yHII)**2 * xe_Saha_deriv_HI(rs)\n",
    "            \n",
    "            if yHII > 14 or yHII < -14:\n",
    "                return 0\n",
    "\n",
    "            xe = xHII(yHII) + xHeII(yHeII) + 2*xHeIII(yHeIII)\n",
    "            ne = xe * phys.nH*rs**3\n",
    "            xHI = 1. - xHII(yHII)\n",
    "            xHeI = chi - xHeII(yHeII) - xHeIII(yHeIII)\n",
    "\n",
    "            return 2 * np.cosh(yHII)**2 * -phys.dtdz(rs) * (\n",
    "                # Recombination processes\n",
    "                - phys.peebles_C(xHII(yHII), rs) * (\n",
    "                    phys.alpha_recomb(T_m, 'HI') * xHII(yHII)*xe * phys.nH * rs**3\n",
    "                    - 4*phys.beta_ion(phys.TCMB(rs), 'HI') * xHI\n",
    "                        * np.exp(-phys.lya_eng/phys.TCMB(rs))\n",
    "                )\n",
    "                # DM injection. Note that C = 1 at late times.\n",
    "                + f_H_ion(rs, xHI, xHeI, xHeII(yHeII)) * dm_injection_rate(rs)\n",
    "                    / (phys.rydberg * phys.nH * rs**3)\n",
    "                + (1 - phys.peebles_C(xHII(yHII), rs)) * (\n",
    "                    f_H_exc(rs, xHI, xHeI, xHeII(yHeII)) * dm_injection_rate(rs)\n",
    "                    / (phys.lya_eng * phys.nH * rs**3)\n",
    "                )\n",
    "            )\n",
    "\n",
    "        def dyHeII_dz(yHII, yHeII, yHeIII, T_m, rs):\n",
    "            \n",
    "            lambda_HeI_21s = 60.1404e-9*100 # cm\n",
    "            lambda_HeI_23s = 1/1.5985597526e7 * 100 # cm, from CLASS\n",
    "\n",
    "            xe = xHII(yHII) + xHeII(yHeII) + 2*xHeIII(yHeIII)\n",
    "            \n",
    "            if yHeII > 14 or yHeII < -15:\n",
    "                return 0\n",
    "            \n",
    "            \n",
    "            if xHeII(yHeII) > 0.99*chi:\n",
    "                return 2/chi * np.cosh(yHeII)**2 * derivative(xe_Saha_HeI, rs)\n",
    "            \n",
    "            else:\n",
    "                \n",
    "                term_recomb = xHeII(yHeII) * xe * (phys.nH * rs**3) * alpha_HeI_recomb(T_m)\n",
    "                term_ion    = (\n",
    "                    beta_HeI_ion(phys.TCMB(rs)) * (chi - xHeII(yHeII)) \n",
    "                    * np.exp(-(2*np.pi*phys.hbar*phys.c/lambda_HeI_21s)/T_m)\n",
    "                )\n",
    "\n",
    "                term_recomb_triplet = xHeII(yHeII) * xe * (phys.nH * rs**3) * alpha_HeI_triplet(T_m)\n",
    "                term_ion_triplet    = (\n",
    "                    3*beta_HeI_triplet(phys.TCMB(rs)) \n",
    "                    * (chi - xHeII(yHeII)) * np.exp(-(2*np.pi*phys.hbar*phys.c/lambda_HeI_23s)/T_m)\n",
    "                )\n",
    "                \n",
    "                return 2/chi * np.cosh(yHeII)**2 * -phys.dtdz(rs) * (\n",
    "                    -C_HeII(xHII(yHII), xHeII(yHeII), rs) * (term_recomb - term_ion)\n",
    "                    -C_HeII_triplet(xHeII(yHeII), rs) *(term_recomb_triplet - term_ion_triplet)\n",
    "                )\n",
    "\n",
    "\n",
    "#                 E_HeI21s = 2*np.pi*phys.hbar*phys.c/60.1404e-7\n",
    "\n",
    "#                 xe = xHII(yHII) + xHeII(yHeII) + 2*xHeIII(yHeIII)\n",
    "#                 ne = xe * phys.nH*rs**3\n",
    "#                 xHeI = chi - xHeII(yHeII) - xHeIII(yHeIII)\n",
    "                \n",
    "\n",
    "#                 return 2/chi * np.cosh(yHeII)**2 * -phys.dtdz(rs) * (\n",
    "#                     -C_He(rs, xHeII(yHeII), T_m) * (\n",
    "#                         alpha_HeI_recomb(T_m) * xHeII(yHeII) * xe * phys.nH * rs**3\n",
    "#                         - beta_HeI_ion(phys.TCMB(rs)) * xHeI *np.exp(-E_HeI21s/T_m)\n",
    "#                     )\n",
    "#                 )\n",
    "\n",
    "        def dyHeIII_dz(yHII, yHeII, yHeIII, T_m, rs):\n",
    "\n",
    "            if 1 - xHII(yHII) < 1e-6 and rs < 100:\n",
    "                # At this point, leave at 1 - 1e-6\n",
    "                return 0\n",
    "\n",
    "            xe = xHII(yHII) + xHeII(yHeII) + 2*xHeIII(yHeIII)\n",
    "            ne = xe * phys.nH*rs**3\n",
    "\n",
    "            return 0\n",
    "\n",
    "        T_m, yHII, yHeII, yHeIII = var[0], var[1], var[2], var[3]\n",
    "        \n",
    "        return [\n",
    "            dT_dz(yHII, yHeII, yHeIII, T_m, rs),\n",
    "            dyHII_dz(yHII, yHeII, yHeIII, T_m, rs),\n",
    "            dyHeII_dz(yHII, yHeII, yHeIII, T_m, rs),\n",
    "            dyHeIII_dz(yHII, yHeII, yHeIII, T_m, rs)\n",
    "        ]\n",
    "\n",
    "    if init_cond[1] == 1:\n",
    "        init_cond[1] = 1 - 1e-12\n",
    "#         print(rs_vec[0])\n",
    "#         print(xe_Saha_HI(rs_vec[0]))\n",
    "#         init_cond[1] = xe_Saha_HI(rs_vec[0])\n",
    "    if init_cond[2] == 0:\n",
    "        init_cond[2] = 1e-12\n",
    "    elif init_cond[2] == phys.nHe/phys.nH:\n",
    "        init_cond[2] = phys.nHe/phys.nH - 1e-6\n",
    "    if init_cond[3] == 0:\n",
    "        init_cond[3] = 1e-12\n",
    "\n",
    "    init_cond[1] = np.arctanh(2*(init_cond[1] - 0.5))\n",
    "    init_cond[2] = np.arctanh(2/chi * (init_cond[2] - chi/2))\n",
    "    init_cond[3] = np.arctanh(2/chi *(init_cond[3] - chi/2))\n",
    "\n",
    "    soln = odeint(\n",
    "        tla, init_cond, rs_vec, rtol=1e-4, mxstep = mxstep\n",
    "    )\n",
    "    \n",
    "    soln[:,1] = 0.5 + 0.5*np.tanh(soln[:,1])\n",
    "    soln[:,2] = (\n",
    "        chi/2 + chi/2*np.tanh(soln[:,2])\n",
    "    )\n",
    "    soln[:,3] = (\n",
    "        chi/2 + chi/2*np.tanh(soln[:,3])\n",
    "    )\n",
    "\n",
    "    return soln\n"
   ]
  },
  {
   "cell_type": "code",
   "execution_count": 50,
   "metadata": {},
   "outputs": [
    {
     "name": "stderr",
     "output_type": "stream",
     "text": [
      "../../darkhistory/physics.py:359: RuntimeWarning: invalid value encountered in sqrt\n",
      "  / np.sqrt(2 * np.pi * me * T_rad)\n",
      "/Users/hongwan/anaconda/envs/python3/lib/python3.6/site-packages/scipy/integrate/odepack.py:233: ComplexWarning: Casting complex values to real discards the imaginary part\n",
      "  int(bool(tfirst)))\n"
     ]
    }
   ],
   "source": [
    "rs_start = 3000\n",
    "rs_vec_std = np.flipud(1. + np.arange(0, rs_start, 0.1))\n",
    "\n",
    "init_cond = [phys.TCMB(rs_start), xe_Saha_HI(rs_start), xe_Saha_HeI(rs_start) - 1., 0]\n",
    "\n",
    "soln = get_history_He(init_cond, 0., 0., 0., 0., rs_vec_std, mxstep=1000)\n",
    "rs_vec_std = np.flipud(1 + np.arange(1, rs_start, 0.1))\n",
    "init_cond = [phys.TCMB(rs_start), 1., phys.nHe/phys.nH*0, 0]\n",
    "# soln_DH = tla.get_history(init_cond, 0., 0., 0., 0., rs_vec_std, reion_switch=False)\n",
    "\n"
   ]
  },
  {
   "cell_type": "code",
   "execution_count": 51,
   "metadata": {},
   "outputs": [],
   "source": [
    "# Compare with RECFAST results from CLASS\n",
    "direc = '/Users/hongwan/Desktop/'\n",
    "\n",
    "xe_recfast = np.loadtxt(direc+'recfast_xe.txt')\n",
    "\n",
    "\n",
    "xe_recfast_func = interp1d(1+xe_recfast[0,:], xe_recfast[1,:], bounds_error=False, fill_value=(xe_recfast[1,-1], xe_recfast[1,0]))"
   ]
  },
  {
   "cell_type": "code",
   "execution_count": 52,
   "metadata": {
    "scrolled": false
   },
   "outputs": [
    {
     "ename": "ValueError",
     "evalue": "x and y must have same first dimension, but have shapes (29990,) and (30000,)",
     "output_type": "error",
     "traceback": [
      "\u001b[0;31m---------------------------------------------------------------------------\u001b[0m",
      "\u001b[0;31mValueError\u001b[0m                                Traceback (most recent call last)",
      "\u001b[0;32m<ipython-input-52-0a3c791ca96d>\u001b[0m in \u001b[0;36m<module>\u001b[0;34m\u001b[0m\n\u001b[1;32m      6\u001b[0m \u001b[0max\u001b[0m\u001b[0;34m.\u001b[0m\u001b[0mset_yscale\u001b[0m\u001b[0;34m(\u001b[0m\u001b[0;34m'log'\u001b[0m\u001b[0;34m)\u001b[0m\u001b[0;34m\u001b[0m\u001b[0;34m\u001b[0m\u001b[0m\n\u001b[1;32m      7\u001b[0m \u001b[0;34m\u001b[0m\u001b[0m\n\u001b[0;32m----> 8\u001b[0;31m \u001b[0mplt\u001b[0m\u001b[0;34m.\u001b[0m\u001b[0mplot\u001b[0m\u001b[0;34m(\u001b[0m\u001b[0mrs_vec_std\u001b[0m\u001b[0;34m,\u001b[0m \u001b[0msoln\u001b[0m\u001b[0;34m[\u001b[0m\u001b[0;34m:\u001b[0m\u001b[0;34m,\u001b[0m\u001b[0;36m1\u001b[0m\u001b[0;34m]\u001b[0m\u001b[0;34m)\u001b[0m\u001b[0;34m\u001b[0m\u001b[0;34m\u001b[0m\u001b[0m\n\u001b[0m\u001b[1;32m      9\u001b[0m \u001b[0;31m# plt.plot(rs_vec_std, xH_idl_func(rs_vec_std), ':')\u001b[0m\u001b[0;34m\u001b[0m\u001b[0;34m\u001b[0m\u001b[0;34m\u001b[0m\u001b[0m\n\u001b[1;32m     10\u001b[0m \u001b[0;34m\u001b[0m\u001b[0m\n",
      "\u001b[0;32m~/anaconda/envs/python3/lib/python3.6/site-packages/matplotlib/pyplot.py\u001b[0m in \u001b[0;36mplot\u001b[0;34m(scalex, scaley, data, *args, **kwargs)\u001b[0m\n\u001b[1;32m   2811\u001b[0m     return gca().plot(\n\u001b[1;32m   2812\u001b[0m         *args, scalex=scalex, scaley=scaley, **({\"data\": data} if data\n\u001b[0;32m-> 2813\u001b[0;31m         is not None else {}), **kwargs)\n\u001b[0m\u001b[1;32m   2814\u001b[0m \u001b[0;34m\u001b[0m\u001b[0m\n\u001b[1;32m   2815\u001b[0m \u001b[0;34m\u001b[0m\u001b[0m\n",
      "\u001b[0;32m~/anaconda/envs/python3/lib/python3.6/site-packages/matplotlib/__init__.py\u001b[0m in \u001b[0;36minner\u001b[0;34m(ax, data, *args, **kwargs)\u001b[0m\n\u001b[1;32m   1803\u001b[0m                         \u001b[0;34m\"the Matplotlib list!)\"\u001b[0m \u001b[0;34m%\u001b[0m \u001b[0;34m(\u001b[0m\u001b[0mlabel_namer\u001b[0m\u001b[0;34m,\u001b[0m \u001b[0mfunc\u001b[0m\u001b[0;34m.\u001b[0m\u001b[0m__name__\u001b[0m\u001b[0;34m)\u001b[0m\u001b[0;34m,\u001b[0m\u001b[0;34m\u001b[0m\u001b[0;34m\u001b[0m\u001b[0m\n\u001b[1;32m   1804\u001b[0m                         RuntimeWarning, stacklevel=2)\n\u001b[0;32m-> 1805\u001b[0;31m             \u001b[0;32mreturn\u001b[0m \u001b[0mfunc\u001b[0m\u001b[0;34m(\u001b[0m\u001b[0max\u001b[0m\u001b[0;34m,\u001b[0m \u001b[0;34m*\u001b[0m\u001b[0margs\u001b[0m\u001b[0;34m,\u001b[0m \u001b[0;34m**\u001b[0m\u001b[0mkwargs\u001b[0m\u001b[0;34m)\u001b[0m\u001b[0;34m\u001b[0m\u001b[0;34m\u001b[0m\u001b[0m\n\u001b[0m\u001b[1;32m   1806\u001b[0m \u001b[0;34m\u001b[0m\u001b[0m\n\u001b[1;32m   1807\u001b[0m         inner.__doc__ = _add_data_doc(inner.__doc__,\n",
      "\u001b[0;32m~/anaconda/envs/python3/lib/python3.6/site-packages/matplotlib/axes/_axes.py\u001b[0m in \u001b[0;36mplot\u001b[0;34m(self, scalex, scaley, *args, **kwargs)\u001b[0m\n\u001b[1;32m   1601\u001b[0m         \u001b[0mkwargs\u001b[0m \u001b[0;34m=\u001b[0m \u001b[0mcbook\u001b[0m\u001b[0;34m.\u001b[0m\u001b[0mnormalize_kwargs\u001b[0m\u001b[0;34m(\u001b[0m\u001b[0mkwargs\u001b[0m\u001b[0;34m,\u001b[0m \u001b[0mmlines\u001b[0m\u001b[0;34m.\u001b[0m\u001b[0mLine2D\u001b[0m\u001b[0;34m.\u001b[0m\u001b[0m_alias_map\u001b[0m\u001b[0;34m)\u001b[0m\u001b[0;34m\u001b[0m\u001b[0;34m\u001b[0m\u001b[0m\n\u001b[1;32m   1602\u001b[0m \u001b[0;34m\u001b[0m\u001b[0m\n\u001b[0;32m-> 1603\u001b[0;31m         \u001b[0;32mfor\u001b[0m \u001b[0mline\u001b[0m \u001b[0;32min\u001b[0m \u001b[0mself\u001b[0m\u001b[0;34m.\u001b[0m\u001b[0m_get_lines\u001b[0m\u001b[0;34m(\u001b[0m\u001b[0;34m*\u001b[0m\u001b[0margs\u001b[0m\u001b[0;34m,\u001b[0m \u001b[0;34m**\u001b[0m\u001b[0mkwargs\u001b[0m\u001b[0;34m)\u001b[0m\u001b[0;34m:\u001b[0m\u001b[0;34m\u001b[0m\u001b[0;34m\u001b[0m\u001b[0m\n\u001b[0m\u001b[1;32m   1604\u001b[0m             \u001b[0mself\u001b[0m\u001b[0;34m.\u001b[0m\u001b[0madd_line\u001b[0m\u001b[0;34m(\u001b[0m\u001b[0mline\u001b[0m\u001b[0;34m)\u001b[0m\u001b[0;34m\u001b[0m\u001b[0;34m\u001b[0m\u001b[0m\n\u001b[1;32m   1605\u001b[0m             \u001b[0mlines\u001b[0m\u001b[0;34m.\u001b[0m\u001b[0mappend\u001b[0m\u001b[0;34m(\u001b[0m\u001b[0mline\u001b[0m\u001b[0;34m)\u001b[0m\u001b[0;34m\u001b[0m\u001b[0;34m\u001b[0m\u001b[0m\n",
      "\u001b[0;32m~/anaconda/envs/python3/lib/python3.6/site-packages/matplotlib/axes/_base.py\u001b[0m in \u001b[0;36m_grab_next_args\u001b[0;34m(self, *args, **kwargs)\u001b[0m\n\u001b[1;32m    391\u001b[0m                 \u001b[0mthis\u001b[0m \u001b[0;34m+=\u001b[0m \u001b[0margs\u001b[0m\u001b[0;34m[\u001b[0m\u001b[0;36m0\u001b[0m\u001b[0;34m]\u001b[0m\u001b[0;34m,\u001b[0m\u001b[0;34m\u001b[0m\u001b[0;34m\u001b[0m\u001b[0m\n\u001b[1;32m    392\u001b[0m                 \u001b[0margs\u001b[0m \u001b[0;34m=\u001b[0m \u001b[0margs\u001b[0m\u001b[0;34m[\u001b[0m\u001b[0;36m1\u001b[0m\u001b[0;34m:\u001b[0m\u001b[0;34m]\u001b[0m\u001b[0;34m\u001b[0m\u001b[0;34m\u001b[0m\u001b[0m\n\u001b[0;32m--> 393\u001b[0;31m             \u001b[0;32myield\u001b[0m \u001b[0;32mfrom\u001b[0m \u001b[0mself\u001b[0m\u001b[0;34m.\u001b[0m\u001b[0m_plot_args\u001b[0m\u001b[0;34m(\u001b[0m\u001b[0mthis\u001b[0m\u001b[0;34m,\u001b[0m \u001b[0mkwargs\u001b[0m\u001b[0;34m)\u001b[0m\u001b[0;34m\u001b[0m\u001b[0;34m\u001b[0m\u001b[0m\n\u001b[0m\u001b[1;32m    394\u001b[0m \u001b[0;34m\u001b[0m\u001b[0m\n\u001b[1;32m    395\u001b[0m \u001b[0;34m\u001b[0m\u001b[0m\n",
      "\u001b[0;32m~/anaconda/envs/python3/lib/python3.6/site-packages/matplotlib/axes/_base.py\u001b[0m in \u001b[0;36m_plot_args\u001b[0;34m(self, tup, kwargs)\u001b[0m\n\u001b[1;32m    368\u001b[0m             \u001b[0mx\u001b[0m\u001b[0;34m,\u001b[0m \u001b[0my\u001b[0m \u001b[0;34m=\u001b[0m \u001b[0mindex_of\u001b[0m\u001b[0;34m(\u001b[0m\u001b[0mtup\u001b[0m\u001b[0;34m[\u001b[0m\u001b[0;34m-\u001b[0m\u001b[0;36m1\u001b[0m\u001b[0;34m]\u001b[0m\u001b[0;34m)\u001b[0m\u001b[0;34m\u001b[0m\u001b[0;34m\u001b[0m\u001b[0m\n\u001b[1;32m    369\u001b[0m \u001b[0;34m\u001b[0m\u001b[0m\n\u001b[0;32m--> 370\u001b[0;31m         \u001b[0mx\u001b[0m\u001b[0;34m,\u001b[0m \u001b[0my\u001b[0m \u001b[0;34m=\u001b[0m \u001b[0mself\u001b[0m\u001b[0;34m.\u001b[0m\u001b[0m_xy_from_xy\u001b[0m\u001b[0;34m(\u001b[0m\u001b[0mx\u001b[0m\u001b[0;34m,\u001b[0m \u001b[0my\u001b[0m\u001b[0;34m)\u001b[0m\u001b[0;34m\u001b[0m\u001b[0;34m\u001b[0m\u001b[0m\n\u001b[0m\u001b[1;32m    371\u001b[0m \u001b[0;34m\u001b[0m\u001b[0m\n\u001b[1;32m    372\u001b[0m         \u001b[0;32mif\u001b[0m \u001b[0mself\u001b[0m\u001b[0;34m.\u001b[0m\u001b[0mcommand\u001b[0m \u001b[0;34m==\u001b[0m \u001b[0;34m'plot'\u001b[0m\u001b[0;34m:\u001b[0m\u001b[0;34m\u001b[0m\u001b[0;34m\u001b[0m\u001b[0m\n",
      "\u001b[0;32m~/anaconda/envs/python3/lib/python3.6/site-packages/matplotlib/axes/_base.py\u001b[0m in \u001b[0;36m_xy_from_xy\u001b[0;34m(self, x, y)\u001b[0m\n\u001b[1;32m    229\u001b[0m         \u001b[0;32mif\u001b[0m \u001b[0mx\u001b[0m\u001b[0;34m.\u001b[0m\u001b[0mshape\u001b[0m\u001b[0;34m[\u001b[0m\u001b[0;36m0\u001b[0m\u001b[0;34m]\u001b[0m \u001b[0;34m!=\u001b[0m \u001b[0my\u001b[0m\u001b[0;34m.\u001b[0m\u001b[0mshape\u001b[0m\u001b[0;34m[\u001b[0m\u001b[0;36m0\u001b[0m\u001b[0;34m]\u001b[0m\u001b[0;34m:\u001b[0m\u001b[0;34m\u001b[0m\u001b[0;34m\u001b[0m\u001b[0m\n\u001b[1;32m    230\u001b[0m             raise ValueError(\"x and y must have same first dimension, but \"\n\u001b[0;32m--> 231\u001b[0;31m                              \"have shapes {} and {}\".format(x.shape, y.shape))\n\u001b[0m\u001b[1;32m    232\u001b[0m         \u001b[0;32mif\u001b[0m \u001b[0mx\u001b[0m\u001b[0;34m.\u001b[0m\u001b[0mndim\u001b[0m \u001b[0;34m>\u001b[0m \u001b[0;36m2\u001b[0m \u001b[0;32mor\u001b[0m \u001b[0my\u001b[0m\u001b[0;34m.\u001b[0m\u001b[0mndim\u001b[0m \u001b[0;34m>\u001b[0m \u001b[0;36m2\u001b[0m\u001b[0;34m:\u001b[0m\u001b[0;34m\u001b[0m\u001b[0;34m\u001b[0m\u001b[0m\n\u001b[1;32m    233\u001b[0m             raise ValueError(\"x and y can be no greater than 2-D, but have \"\n",
      "\u001b[0;31mValueError\u001b[0m: x and y must have same first dimension, but have shapes (29990,) and (30000,)"
     ]
    },
    {
     "data": {
      "image/png": "[encoded data removed]",
      "text/plain": [
       "<Figure size 432x288 with 1 Axes>"
      ]
     },
     "metadata": {
      "needs_background": "light"
     },
     "output_type": "display_data"
    }
   ],
   "source": [
    "plt.figure()\n",
    "\n",
    "# plt.loglog()\n",
    "\n",
    "ax = plt.gca()\n",
    "ax.set_yscale('log')\n",
    "\n",
    "plt.plot(rs_vec_std, soln[:,1])\n",
    "# plt.plot(rs_vec_std, xH_idl_func(rs_vec_std), ':')\n",
    "\n",
    "plt.xlabel(r'Redshift $(1+z)$')\n",
    "plt.ylabel(r'$x_\\mathrm{HII}$')\n",
    "\n",
    "plt.figure()\n",
    "\n",
    "plt.axis([0, 2000, 0, 1.1])\n",
    "\n",
    "# plt.loglog()\n",
    "ax = plt.gca()\n",
    "ax.set_yscale('log')\n",
    "\n",
    "plt.plot(rs_vec_std, soln[:,2]*phys.nH/phys.nHe)\n",
    "# plt.plot(rs_vec_std, xHe_idl_func(rs_vec_std), ':')\n",
    "# plt.plot(rs_vec_std, ((xe_Saha(rs_vec_std) - 1)*phys.nH/phys.nHe))\n",
    "\n",
    "plt.xlabel(r'Redshift $(1+z)$')\n",
    "plt.ylabel(r'$n_\\mathrm{HeII}/n_\\mathrm{He}$')\n",
    "\n",
    "plt.axis([1, 3000, 1e-15, 1.1])\n",
    "\n",
    "plt.figure()\n",
    "\n",
    "# plt.loglog()\n",
    "\n",
    "plt.plot(rs_vec_std, soln[:,1] + soln[:,2])\n",
    "plt.plot(rs_vec_std, xe_recfast_func(rs_vec_std), ':')\n",
    "# plt.plot(rs_vec_std, ((xe_Saha(rs_vec_std) - 1)*phys.nH/phys.nHe))\n",
    "\n",
    "plt.xlabel(r'Redshift $(1+z)$')\n",
    "plt.ylabel(r'$x_e$')\n",
    "\n",
    "plt.axis([1000, 3000, .95, 1.1])\n",
    "\n",
    "plt.figure()\n",
    "\n",
    "# plt.loglog()\n",
    "\n",
    "ax = plt.gca()\n",
    "ax.set_yscale('log')\n",
    "\n",
    "plt.plot(rs_vec_std, soln[:,1] + soln[:,2])\n",
    "plt.plot(rs_vec_std, xe_recfast_func(rs_vec_std), ':')\n",
    "# plt.plot(rs_vec_std, ((xe_Saha(rs_vec_std) - 1)*phys.nH/phys.nHe))\n",
    "\n",
    "plt.xlabel(r'Redshift $(1+z)$')\n",
    "plt.ylabel(r'$x_e$')\n",
    "\n",
    "plt.axis([0, 1500, -0.1, 1.1])\n",
    "\n",
    "plt.figure()\n",
    "\n",
    "# plt.loglog()\n",
    "\n",
    "ax = plt.gca()\n",
    "\n",
    "plt.plot(rs_vec_std, (soln[:,1] + soln[:,2])/xe_recfast_func(rs_vec_std) - 1)\n",
    "\n",
    "plt.xlabel(r'Redshift $(1+z)$')\n",
    "plt.ylabel(r'$x_{e,\\mathrm{DH}}/x_{e,\\mathrm{RECFAST}} - 1$')\n",
    "\n",
    "plt.axis([0, 3000, -0.1, 0.1])"
   ]
  },
  {
   "cell_type": "code",
   "execution_count": 58,
   "metadata": {},
   "outputs": [],
   "source": [
    "%autoreload\n",
    "\n",
    "rs_start = 3000\n",
    "rs_vec_std = np.flipud(0. + np.arange(1, rs_start+1))\n",
    "\n",
    "init_cond = [phys.TCMB(rs_start), xe_Saha_HI(rs_start), xe_Saha_HeI(rs_start) - 1., 0]\n",
    "\n",
    "soln = get_history_He(init_cond, 0., 0., 0., 0., rs_vec_std, mxstep=1000)\n",
    "init_cond = [phys.TCMB(rs_start), phys.xe_Saha(rs_start, 'HI'), phys.xe_Saha(rs_start, 'HeI') - 1., 0]\n",
    "# init_cond = [phys.TCMB(rs_start), phys.xe_Saha(rs_start, 'HI'), 0., 0]\n",
    "soln_DH = tla.get_history(init_cond, 0., 0., 0., 0., rs_vec_std, reion_switch=False, He_before_reion=True)\n"
   ]
  },
  {
   "cell_type": "code",
   "execution_count": 59,
   "metadata": {
    "scrolled": false
   },
   "outputs": [
    {
     "data": {
      "text/plain": [
       "[0, 3000, -0.1, 0.1]"
      ]
     },
     "execution_count": 59,
     "metadata": {},
     "output_type": "execute_result"
    },
    {
     "data": {
      "image/png": "[encoded data removed]",
      "text/plain": [
       "<Figure size 432x288 with 1 Axes>"
      ]
     },
     "metadata": {
      "needs_background": "light"
     },
     "output_type": "display_data"
    },
    {
     "data": {
      "image/png": "[encoded data removed]",
      "text/plain": [
       "<Figure size 432x288 with 1 Axes>"
      ]
     },
     "metadata": {
      "needs_background": "light"
     },
     "output_type": "display_data"
    },
    {
     "data": {
      "image/png": "[encoded data removed]",
      "text/plain": [
       "<Figure size 432x288 with 1 Axes>"
      ]
     },
     "metadata": {
      "needs_background": "light"
     },
     "output_type": "display_data"
    },
    {
     "data": {
      "image/png": "[encoded data removed]",
      "text/plain": [
       "<Figure size 432x288 with 1 Axes>"
      ]
     },
     "metadata": {
      "needs_background": "light"
     },
     "output_type": "display_data"
    },
    {
     "data": {
      "image/png": "[encoded data removed]",
      "text/plain": [
       "<Figure size 432x288 with 1 Axes>"
      ]
     },
     "metadata": {
      "needs_background": "light"
     },
     "output_type": "display_data"
    },
    {
     "data": {
      "image/png": "[encoded data removed]",
      "text/plain": [
       "<Figure size 432x288 with 1 Axes>"
      ]
     },
     "metadata": {
      "needs_background": "light"
     },
     "output_type": "display_data"
    },
    {
     "data": {
      "image/png": "[encoded data removed]",
      "text/plain": [
       "<Figure size 432x288 with 1 Axes>"
      ]
     },
     "metadata": {
      "needs_background": "light"
     },
     "output_type": "display_data"
    }
   ],
   "source": [
    "plt.figure()\n",
    "\n",
    "# plt.loglog()\n",
    "\n",
    "ax = plt.gca()\n",
    "ax.loglog()\n",
    "\n",
    "plt.plot(rs_vec_std, soln[:,0])\n",
    "plt.plot(rs_vec_std, soln_DH[:,0], ':')\n",
    "\n",
    "plt.xlabel(r'Redshift $(1+z)$')\n",
    "plt.ylabel(r'$T_m$')\n",
    "\n",
    "\n",
    "plt.axis([0, 2000, 0, 1.1])\n",
    "\n",
    "plt.figure()\n",
    "\n",
    "# plt.loglog()\n",
    "\n",
    "ax = plt.gca()\n",
    "ax.set_yscale('log')\n",
    "\n",
    "plt.plot(rs_vec_std, soln[:,1])\n",
    "plt.plot(rs_vec_std, soln_DH[:,1], ':')\n",
    "\n",
    "plt.xlabel(r'Redshift $(1+z)$')\n",
    "plt.ylabel(r'$x_\\mathrm{HII}$')\n",
    "\n",
    "plt.figure()\n",
    "\n",
    "plt.axis([0, 2000, 0, 1.1])\n",
    "\n",
    "# plt.loglog()\n",
    "ax = plt.gca()\n",
    "ax.set_yscale('log')\n",
    "\n",
    "plt.plot(rs_vec_std, soln[:,2]*phys.nH/phys.nHe)\n",
    "plt.plot(rs_vec_std, soln_DH[:,2]*phys.nH/phys.nHe, ':')\n",
    "plt.xlabel(r'Redshift $(1+z)$')\n",
    "plt.ylabel(r'$n_\\mathrm{HeII}/n_\\mathrm{He}$')\n",
    "\n",
    "plt.axis([1, 3000, 1e-20, 1.1])\n",
    "\n",
    "plt.figure()\n",
    "\n",
    "# plt.loglog()\n",
    "\n",
    "plt.plot(rs_vec_std, soln[:,1] + soln[:,2])\n",
    "plt.plot(rs_vec_std, soln_DH[:,1] + soln_DH[:,2], ':')\n",
    "# plt.plot(rs_vec_std, ((xe_Saha(rs_vec_std) - 1)*phys.nH/phys.nHe))\n",
    "\n",
    "plt.xlabel(r'Redshift $(1+z)$')\n",
    "plt.ylabel(r'$x_e$')\n",
    "\n",
    "plt.axis([1000, 3000, .95, 1.1])\n",
    "\n",
    "plt.figure()\n",
    "\n",
    "# plt.loglog()\n",
    "\n",
    "ax = plt.gca()\n",
    "ax.set_yscale('log')\n",
    "\n",
    "plt.plot(rs_vec_std, soln[:,1] + soln[:,2])\n",
    "plt.plot(rs_vec_std, soln_DH[:,1] + soln_DH[:,2], ':')\n",
    "# plt.plot(rs_vec_std, ((xe_Saha(rs_vec_std) - 1)*phys.nH/phys.nHe))\n",
    "\n",
    "plt.xlabel(r'Redshift $(1+z)$')\n",
    "plt.ylabel(r'$x_e$')\n",
    "\n",
    "plt.axis([0, 1500, -0.1, 1.1])\n",
    "\n",
    "plt.figure()\n",
    "\n",
    "# plt.loglog()\n",
    "\n",
    "ax = plt.gca()\n",
    "\n",
    "plt.plot(rs_vec_std, (soln[:,1] + soln[:,2])/(soln_DH[:,1] + soln_DH[:,2]) - 1)\n",
    "\n",
    "plt.xlabel(r'Redshift $(1+z)$')\n",
    "plt.ylabel(r'$x_{e,\\mathrm{DH}}/x_{e,\\mathrm{Jupyter}} - 1$')\n",
    "\n",
    "plt.axis([0, 3000, -0.1, 0.1])\n",
    "\n",
    "plt.figure()\n",
    "\n",
    "# plt.loglog()\n",
    "\n",
    "ax = plt.gca()\n",
    "\n",
    "plt.plot(rs_vec_std, (soln_DH[:,1] + soln_DH[:,2])/xe_recfast_func(rs_vec_std) - 1)\n",
    "\n",
    "plt.xlabel(r'Redshift $(1+z)$')\n",
    "plt.ylabel(r'$x_{e,\\mathrm{DH}}/x_{e,\\mathrm{RECFAST}} - 1$')\n",
    "\n",
    "plt.axis([0, 3000, -0.1, 0.1])"
   ]
  },
  {
   "cell_type": "code",
   "execution_count": 60,
   "metadata": {},
   "outputs": [
    {
     "name": "stdout",
     "output_type": "stream",
     "text": [
      "[3.000e+03 2.999e+03 2.998e+03 ... 3.000e+00 2.000e+00 1.000e+00]\n"
     ]
    }
   ],
   "source": [
    "import pickle\n",
    "\n",
    "soln_output = np.array([rs_vec_std, soln_DH[:,0], soln_DH[:,1], soln_DH[:,2]])\n",
    "print(rs_vec_std)\n",
    "pickle.dump(soln_output, open('/Users/hongwan/GitHub/DarkHistory/darkhistory/history/std_soln_He.p', 'wb'))"
   ]
  },
  {
   "cell_type": "code",
   "execution_count": 63,
   "metadata": {},
   "outputs": [
    {
     "name": "stdout",
     "output_type": "stream",
     "text": [
      "[[3.00000000e+03 7.88595679e-02]\n",
      " [2.99900000e+03 7.88585856e-02]\n",
      " [2.99800000e+03 7.88575917e-02]\n",
      " ...\n",
      " [3.00000000e+00 5.43939893e-14]\n",
      " [2.00000000e+00 5.43939893e-14]\n",
      " [1.00000000e+00 5.43939893e-14]]\n",
      "blah\n",
      "[[3.00000000e+03 7.04595987e-01]\n",
      " [2.99900000e+03 7.04360944e-01]\n",
      " [2.99800000e+03 7.04126078e-01]\n",
      " ...\n",
      " [3.00000000e+00 1.68869525e-05]\n",
      " [2.00000000e+00 7.51037160e-06]\n",
      " [1.00000000e+00 1.87839135e-06]]\n"
     ]
    },
    {
     "data": {
      "text/plain": [
       "[<matplotlib.lines.Line2D at 0x181a5b5cf8>]"
      ]
     },
     "execution_count": 63,
     "metadata": {},
     "output_type": "execute_result"
    },
    {
     "data": {
      "image/png": "[encoded data removed]",
      "text/plain": [
       "<Figure size 432x288 with 1 Axes>"
      ]
     },
     "metadata": {
      "needs_background": "light"
     },
     "output_type": "display_data"
    }
   ],
   "source": [
    "test = pickle.load(open('/Users/hongwan/GitHub/DarkHistory/darkhistory/history/std_soln.p', 'rb'))\n",
    "\n",
    "plt.figure()\n",
    "plt.loglog()\n",
    "\n",
    "print(np.transpose([soln_output[0,:], soln_output[3,:]]))\n",
    "print('blah')\n",
    "print(np.transpose([test[0,:], test[1,:]]))\n",
    "\n",
    "plt.plot(soln_output[0,:], soln_output[1,:])\n",
    "plt.plot(test[0,:], test[1,:], ':')"
   ]
  },
  {
   "cell_type": "markdown",
   "metadata": {},
   "source": [
    "## Helium $f(z)$"
   ]
  },
  {
   "cell_type": "code",
   "execution_count": 12,
   "metadata": {},
   "outputs": [],
   "source": [
    "from darkhistory.low_energy import lowE_photons\n",
    "from darkhistory.spec.spectrum import Spectrum"
   ]
  },
  {
   "cell_type": "code",
   "execution_count": 13,
   "metadata": {},
   "outputs": [
    {
     "name": "stdout",
     "output_type": "stream",
     "text": [
      "huh???\n",
      "[[0.         0.         0.         0.         0.         0.\n",
      "  0.         0.         0.         0.         0.         0.61089408\n",
      "  0.38362047 0.32000615 0.3014874  0.29324426 0.28890028 0.28650318\n",
      "  0.28516375 0.28441242 0.2839904  0.2837532  0.28361986 0.28354489\n",
      "  0.28350273 0.28347902 0.28346569 0.2834582  0.28345398 0.28345161\n",
      "  0.28345028 0.28344953]\n",
      " [0.         0.         0.         0.         0.         0.\n",
      "  0.         0.         0.         0.         0.         0.38910592\n",
      "  0.61637953 0.67999385 0.6985126  0.70675574 0.71109972 0.71349682\n",
      "  0.71483625 0.71558758 0.7160096  0.7162468  0.71638014 0.71645511\n",
      "  0.71649727 0.71652098 0.71653431 0.7165418  0.71654602 0.71654839\n",
      "  0.71654972 0.71655047]]\n",
      "what???\n"
     ]
    }
   ],
   "source": [
    "# Note that MEDEA assumes that He and H have the same ionization levels...\n",
    "\n",
    "%autoreload\n",
    "photeng = 10**np.arange(-4, 12, 0.5)\n",
    "photspec = Spectrum(photeng, np.ones_like(photeng))\n",
    "\n",
    "rs = 1000\n",
    "tau = 1e25\n",
    "\n",
    "chi = phys.nHe/phys.nH\n",
    "\n",
    "x = np.array([0.9, 0.9*chi, 0.1*chi])\n",
    "dE_dVdt = rs**3*phys.rho_DM/tau \n",
    "dt = 0.001/phys.hubble(rs)\n",
    "norm_fac = phys.nB*rs**3/dt/dE_dVdt\n",
    "\n",
    "a = lowE_photons.getf_ion(photspec, norm_fac, x*phys.nH*rs**3, method='old')\n",
    "b = lowE_photons.getf_ion(photspec, norm_fac, x*phys.nH*rs**3, method='helium')\n"
   ]
  },
  {
   "cell_type": "code",
   "execution_count": 14,
   "metadata": {},
   "outputs": [
    {
     "name": "stdout",
     "output_type": "stream",
     "text": [
      "(6.154063419990057e+17, 0, 0)\n",
      "(1.7443697051602333e+17, 7.968933219626806e+17, 0)\n",
      "6.154063419990056e+17\n"
     ]
    }
   ],
   "source": [
    "print(a)\n",
    "print(b)\n",
    "print(b[0] + b[1]*phys.rydberg/phys.He_ion_eng)"
   ]
  },
  {
   "cell_type": "code",
   "execution_count": 15,
   "metadata": {},
   "outputs": [
    {
     "ename": "NameError",
     "evalue": "name 'C_He' is not defined",
     "output_type": "error",
     "traceback": [
      "\u001b[0;31m---------------------------------------------------------------------------\u001b[0m",
      "\u001b[0;31mNameError\u001b[0m                                 Traceback (most recent call last)",
      "\u001b[0;32m<ipython-input-15-758e3d262b05>\u001b[0m in \u001b[0;36m<module>\u001b[0;34m\u001b[0m\n\u001b[1;32m      1\u001b[0m \u001b[0mplt\u001b[0m\u001b[0;34m.\u001b[0m\u001b[0mfigure\u001b[0m\u001b[0;34m(\u001b[0m\u001b[0;34m)\u001b[0m\u001b[0;34m\u001b[0m\u001b[0;34m\u001b[0m\u001b[0m\n\u001b[1;32m      2\u001b[0m \u001b[0;34m\u001b[0m\u001b[0m\n\u001b[0;32m----> 3\u001b[0;31m \u001b[0mplt\u001b[0m\u001b[0;34m.\u001b[0m\u001b[0mplot\u001b[0m\u001b[0;34m(\u001b[0m\u001b[0mrs_vec_std\u001b[0m\u001b[0;34m,\u001b[0m \u001b[0mC_He\u001b[0m\u001b[0;34m(\u001b[0m\u001b[0mrs_vec_std\u001b[0m\u001b[0;34m,\u001b[0m \u001b[0msoln\u001b[0m\u001b[0;34m[\u001b[0m\u001b[0;34m:\u001b[0m\u001b[0;34m,\u001b[0m\u001b[0;36m2\u001b[0m\u001b[0;34m]\u001b[0m\u001b[0;34m,\u001b[0m \u001b[0mphys\u001b[0m\u001b[0;34m.\u001b[0m\u001b[0mTCMB\u001b[0m\u001b[0;34m(\u001b[0m\u001b[0mrs_vec_std\u001b[0m\u001b[0;34m)\u001b[0m\u001b[0;34m)\u001b[0m\u001b[0;34m)\u001b[0m\u001b[0;34m\u001b[0m\u001b[0;34m\u001b[0m\u001b[0m\n\u001b[0m",
      "\u001b[0;31mNameError\u001b[0m: name 'C_He' is not defined"
     ]
    },
    {
     "data": {
      "text/plain": [
       "<Figure size 432x288 with 0 Axes>"
      ]
     },
     "metadata": {},
     "output_type": "display_data"
    }
   ],
   "source": [
    "plt.figure()\n",
    "\n",
    "plt.plot(rs_vec_std, C_He(rs_vec_std, soln[:,2], phys.TCMB(rs_vec_std)))"
   ]
  },
  {
   "cell_type": "code",
   "execution_count": null,
   "metadata": {},
   "outputs": [],
   "source": [
    "C_He(2000, phys.nHe/phys.nH - 1e-6, 1)"
   ]
  },
  {
   "cell_type": "code",
   "execution_count": null,
   "metadata": {},
   "outputs": [],
   "source": [
    "phys.nHe/phys.nH - soln[:,2]"
   ]
  },
  {
   "cell_type": "code",
   "execution_count": null,
   "metadata": {},
   "outputs": [],
   "source": [
    "soln[:,2]*phys.nH/phys.nHe"
   ]
  },
  {
   "cell_type": "code",
   "execution_count": null,
   "metadata": {},
   "outputs": [],
   "source": [
    "xe_Saha_HeI(3000)"
   ]
  },
  {
   "cell_type": "code",
   "execution_count": null,
   "metadata": {},
   "outputs": [],
   "source": [
    "lambda_HeI_23p = 1/1.690871466e7 * 100 # cm, from CLASS\n",
    "lambda_HeI_23s = 1/1.5985597526e7 * 100\n",
    "print(lambda_HeI_23p, lambda_HeI_23s)"
   ]
  },
  {
   "cell_type": "code",
   "execution_count": null,
   "metadata": {},
   "outputs": [],
   "source": [
    "%autoreload\n",
    "T = 0.1\n",
    "print(alpha_HeI_triplet(T))\n",
    "print(phys.alpha_recomb(T, 'HeI_23s'))\n",
    "print(alpha_HeI_recomb(T))\n",
    "print(phys.alpha_recomb(T, 'HeI_21s'))\n",
    "print(beta_HeI_ion(T))\n",
    "print(phys.beta_ion(T, 'HeI_21s'))\n",
    "print(beta_HeI_triplet(T))\n",
    "print(phys.beta_ion(T, 'HeI_23s'))"
   ]
  },
  {
   "cell_type": "code",
   "execution_count": null,
   "metadata": {},
   "outputs": [],
   "source": [
    "E2s = phys.He_ion_eng - 2*np.pi*phys.hbar*phys.c/60.1404e-7\n",
    "print(E2s, phys.He_ion_eng - phys.He_exc_eng('21s'))"
   ]
  },
  {
   "cell_type": "code",
   "execution_count": null,
   "metadata": {},
   "outputs": [],
   "source": [
    "print(\n",
    "    phys.He_ion_eng - 2*np.pi*phys.hbar*phys.c*1.5985597526e5,\n",
    "    phys.He_ion_eng - phys.He_exc_eng('23s'))\n",
    "\n",
    "\n"
   ]
  },
  {
   "cell_type": "code",
   "execution_count": null,
   "metadata": {},
   "outputs": [],
   "source": [
    "2*np.pi*phys.hbar*phys.c*1.5985597526e5"
   ]
  },
  {
   "cell_type": "code",
   "execution_count": null,
   "metadata": {},
   "outputs": [],
   "source": [
    "def beta_HeI_ion(T_rad):\n",
    "    reduced_mass = phys.mp*phys.me/(phys.mp + phys.me)\n",
    "    de_broglie_wavelength = (\n",
    "        phys.c * 2*np.pi*phys.hbar\n",
    "        / np.sqrt(2 * np.pi * reduced_mass * T_rad)\n",
    "    )\n",
    "    \n",
    "#     E2s = phys.He_ion_eng - 2*np.pi*phys.hbar*phys.c/60.1404e-7\n",
    "    E2s = phys.He_ion_eng - 2*np.pi*phys.hbar*phys.c*166277.4403\n",
    "#     print(E2s)\n",
    "#     print(de_broglie_wavelength)\n",
    "    return 4*(\n",
    "        (1/de_broglie_wavelength)**3\n",
    "        * np.exp(-E2s/T_rad) * alpha_HeI_recomb(T_rad)\n",
    "    )"
   ]
  },
  {
   "cell_type": "code",
   "execution_count": null,
   "metadata": {},
   "outputs": [],
   "source": [
    "%autoreload\n",
    "print(beta_HeI_ion(1))\n",
    "print(phys.beta_ion(1, 'HeI_21s'))"
   ]
  },
  {
   "cell_type": "code",
   "execution_count": null,
   "metadata": {
    "scrolled": true
   },
   "outputs": [],
   "source": [
    "%autoreload\n",
    "test_rs = 9000\n",
    "\n",
    "print(phys.xe_Saha(test_rs, 'HeI'))\n",
    "print(xe_Saha_HeI(test_rs))\n",
    "\n",
    "\n",
    "print(phys.d_xe_Saha_dz(test_rs, 'HeI'))\n",
    "def test(rs):\n",
    "    \n",
    "    return phys.xe_Saha(rs, 'HeI')\n",
    "\n",
    "print(derivative(test, test_rs))\n",
    "derivative(xe_Saha_HeI,test_rs)"
   ]
  },
  {
   "cell_type": "code",
   "execution_count": null,
   "metadata": {},
   "outputs": [],
   "source": [
    "%autoreload\n",
    "xHII = 0.89\n",
    "xHeII = 0.999*phys.chi\n",
    "rs = 3000\n",
    "print(phys.C_He(xHII, xHeII, rs, 'singlet'))\n",
    "print(C_HeII(xHII, xHeII, rs))\n",
    "print(phys.C_He(xHII, xHeII, rs, 'triplet'))\n",
    "print(C_HeII_triplet(xHeII, rs))"
   ]
  },
  {
   "cell_type": "code",
   "execution_count": null,
   "metadata": {},
   "outputs": [],
   "source": [
    "from scipy.special import expi\n",
    "expi(3)"
   ]
  },
  {
   "cell_type": "code",
   "execution_count": null,
   "metadata": {},
   "outputs": [],
   "source": []
  }
 ],
 "metadata": {
  "kernelspec": {
   "display_name": "Python 3",
   "language": "python",
   "name": "python3"
  },
  "language_info": {
   "codemirror_mode": {
    "name": "ipython",
    "version": 3
   },
   "file_extension": ".py",
   "mimetype": "text/x-python",
   "name": "python",
   "nbconvert_exporter": "python",
   "pygments_lexer": "ipython3",
   "version": "3.6.7"
  },
  "toc": {
   "base_numbering": 1,
   "nav_menu": {},
   "number_sections": true,
   "sideBar": true,
   "skip_h1_title": false,
   "title_cell": "Table of Contents",
   "title_sidebar": "Contents",
   "toc_cell": false,
   "toc_position": {},
   "toc_section_display": true,
   "toc_window_display": false
  }
 },
 "nbformat": 4,
 "nbformat_minor": 2
}
