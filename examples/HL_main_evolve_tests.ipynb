{
 "cells": [
  {
   "cell_type": "markdown",
   "metadata": {},
   "source": [
    "# Initialization"
   ]
  },
  {
   "cell_type": "code",
   "execution_count": 15,
   "metadata": {},
   "outputs": [
    {
     "name": "stdout",
     "output_type": "stream",
     "text": [
      "The autoreload extension is already loaded. To reload it, use:\n",
      "  %reload_ext autoreload\n"
     ]
    }
   ],
   "source": [
    "%load_ext autoreload\n",
    "%load_ext line_profiler\n",
    "import sys\n",
    "sys.path.append(\"..\")"
   ]
  },
  {
   "cell_type": "code",
   "execution_count": 2,
   "metadata": {},
   "outputs": [],
   "source": [
    "%autoreload\n",
    "\n",
    "import numpy as np\n",
    "import pickle\n",
    "\n",
    "import matplotlib\n",
    "matplotlib.rc_file('matplotlibrc')\n",
    "import matplotlib.pyplot as plt\n",
    "\n",
    "%matplotlib inline\n",
    "\n",
    "matplotlib.rcParams['figure.figsize'] = [10,10]\n",
    "\n",
    "import main\n",
    "\n",
    "import darkhistory.physics as phys\n",
    "import darkhistory.utilities as utils\n",
    "\n",
    "from darkhistory.spec import spectools\n",
    "from darkhistory.spec.spectrum import Spectrum\n",
    "from darkhistory.spec.spectra import Spectra\n",
    "from darkhistory.low_energy import lowE_electrons\n",
    "from darkhistory.low_energy import lowE_deposition\n",
    "\n",
    "from scipy.interpolate import interp1d\n",
    "from scipy.interpolate import interp2d\n",
    "from astropy.io import fits\n",
    "from tqdm import tqdm_notebook as tqdm\n"
   ]
  },
  {
   "cell_type": "code",
   "execution_count": 3,
   "metadata": {},
   "outputs": [
    {
     "name": "stdout",
     "output_type": "stream",
     "text": [
      "Loading transfer functions...\n",
      "Loaded high energy photons...\n",
      "Low energy photons...\n",
      "Low energy electrons...\n",
      "high energy deposition.\n",
      "\n",
      "CMB losses.\n",
      "\n",
      "Padding tflists with zeros...\n",
      "high energy photons...\n",
      "low energy photons...\n",
      "low energy electrons...\n",
      "\n",
      "high energy deposition.\n",
      "\n",
      "CMB losses.\n",
      "\n",
      "Generating TransferFuncInterp objects for each tflist...\n",
      "noninterp\n",
      "noninterp\n",
      "noninterp\n",
      "Done.\n",
      "\n"
     ]
    }
   ],
   "source": [
    "direc = '/Users/hongwan/Dropbox (MIT)/Photon Deposition/tflists/complete/'\n",
    "\n",
    "(highengphot_tf_interp,\n",
    "     lowengphot_tf_interp,\n",
    "     lowengelec_tf_interp,\n",
    "     highengdep_interp,\n",
    "     CMB_engloss_interp\n",
    "    ) = main.load_trans_funcs(direc)"
   ]
  },
  {
   "cell_type": "code",
   "execution_count": 4,
   "metadata": {},
   "outputs": [],
   "source": [
    "ics_thomson_ref_tf=pickle.load(open(\"/Users/hongwan/Dropbox (MIT)/Photon Deposition/tflists/ics/ics_thomson_ref_tf.raw\", \"rb\")) \n",
    "ics_rel_ref_tf=pickle.load(open(\"/Users/hongwan/Dropbox (MIT)/Photon Deposition/tflists/ics/ics_rel_ref_tf.raw\", \"rb\"))\n",
    "engloss_ref_tf=pickle.load(open(\"/Users/hongwan/Dropbox (MIT)/Photon Deposition/tflists/ics/engloss_ref_tf.raw\", \"rb\"))"
   ]
  },
  {
   "cell_type": "markdown",
   "metadata": {},
   "source": [
    "Load the standard ionization and thermal histories."
   ]
  },
  {
   "cell_type": "code",
   "execution_count": 5,
   "metadata": {},
   "outputs": [],
   "source": [
    "soln = pickle.load(open(\"/Users/hongwan/Github/DarkHistory/darkhistory/history/std_soln.p\", \"rb\"))\n",
    "xe_std  = interp1d(soln[0,:], soln[2,:])\n",
    "Tm_std = interp1d(soln[0,:], soln[1,:])"
   ]
  },
  {
   "cell_type": "markdown",
   "metadata": {},
   "source": [
    "# Choice of Mass Parameter and Channel"
   ]
  },
  {
   "cell_type": "code",
   "execution_count": 6,
   "metadata": {},
   "outputs": [],
   "source": [
    "mDM = 4e12\n",
    "# mDM = 4e5\n",
    "# mDM = 6e6\n",
    "\n",
    "# chan = 'phot'\n",
    "chan = 'elec'"
   ]
  },
  {
   "cell_type": "markdown",
   "metadata": {},
   "source": [
    "# Load Reference Files"
   ]
  },
  {
   "cell_type": "markdown",
   "metadata": {},
   "source": [
    "## Load Reference Spectra"
   ]
  },
  {
   "cell_type": "markdown",
   "metadata": {},
   "source": [
    "Load the file containing the reference spectra."
   ]
  },
  {
   "cell_type": "code",
   "execution_count": 8,
   "metadata": {},
   "outputs": [],
   "source": [
    "if mDM == 4e12:\n",
    "\n",
    "    hdul = fits.open(\n",
    "        '/Users/hongwan/Dropbox (MIT)/Photon Deposition/idl_comparison/final_darkhistory_comparison/'\n",
    "        +'tf_'+chan+'_z_3.000E+03_nstep_6622_logE_1.230E+01_xe_0.000E+00.fits'\n",
    "    )\n",
    "\n",
    "elif mDM == 4e5:\n",
    "    hdul = fits.open(\n",
    "        '/Users/hongwan/Dropbox (MIT)/Photon Deposition/idl_comparison/final_darkhistory_comparison/'\n",
    "        +'tf_'+chan+'_z_3.000E+03_nstep_6622_logE_5.301E+00_xe_0.000E+00.fits'\n",
    "    )\n",
    "    \n",
    "elif mDM == 6e6:\n",
    "    hdul = fits.open(\n",
    "        '/Users/hongwan/Dropbox (MIT)/Photon Deposition/idl_comparison/final_darkhistory_comparison/'\n",
    "        +'tf_'+chan+'_z_3.000E+03_nstep_6622_logE_6.477E+00_xe_0.000E+00.fits'\n",
    "    )\n",
    "\n",
    "else:\n",
    "    raise TypeError('invalid mDM.')\n",
    "    \n",
    "data = hdul[1].data\n",
    "\n",
    "idl_photonspectrum = data.field('photonspectrum')[0]\n",
    "idl_lowengphot = data.field('lowengphot')[0]\n",
    "idl_lowengelec = data.field('lowengelec')[0]\n",
    "idl_energy = data.field('energy')[0]\n",
    "idl_eleceng = data.field('eleceng')[0]\n",
    "idl_redshift = data.field('redshift')[0]\n",
    "idl_cmblosstable = data.field('cmblosstable')[0]\n",
    "idl_highengdep = data.field('highdeposited_grid')[0]\n",
    "\n",
    "idl_bin_width = np.diff(np.log(spectools.get_bin_bound(data.field('energy')[0]))) * idl_energy\n",
    "idl_elec_bin_width = np.diff(np.log(spectools.get_bin_bound(data.field('eleceng')[0]))) * idl_eleceng\n",
    "\n",
    "hdul.close()"
   ]
  },
  {
   "cell_type": "markdown",
   "metadata": {},
   "source": [
    "## Load Reference $f(z)$ (Direct from IDL)"
   ]
  },
  {
   "cell_type": "markdown",
   "metadata": {},
   "source": [
    "Load the file containing the $f(z)$ calculations"
   ]
  },
  {
   "cell_type": "code",
   "execution_count": 9,
   "metadata": {},
   "outputs": [],
   "source": [
    "if mDM == 4e12:\n",
    "\n",
    "    hdul = fits.open(\n",
    "        '/Users/hongwan/Dropbox (MIT)/Photon Deposition/idl_comparison/final_darkhistory_comparison/'\n",
    "        +'calculated_fractions_'+chan+'_logE_1.230E+01.fits'\n",
    "    )\n",
    "    \n",
    "elif mDM == 4e5:\n",
    "    hdul = fits.open(\n",
    "        '/Users/hongwan/Dropbox (MIT)/Photon Deposition/idl_comparison/final_darkhistory_comparison/'\n",
    "        +'calculated_fractions_'+chan+'_logE_5.301E+00.fits'\n",
    "    )\n",
    "    \n",
    "elif mDM == 6e6:\n",
    "    hdul = fits.open(\n",
    "        '/Users/hongwan/Dropbox (MIT)/Photon Deposition/idl_comparison/final_darkhistory_comparison/'\n",
    "        +'calculated_fractions_'+chan+'_logE_6.477E+00.fits'\n",
    "    )\n",
    "\n",
    "else:\n",
    "    raise TypeError('invalid mDM.')\n",
    "\n",
    "data = hdul[1].data\n",
    "\n",
    "f_idl_low  = data.field('loweng_deposition_fractions')[0]\n",
    "f_idl_high = data.field('higheng_deposition_fractions')[0]\n",
    "xe_idl     = data.field('xH')[0]\n",
    "\n",
    "\n",
    "f_idl = f_idl_low + f_idl_high\n",
    "\n",
    "\n",
    "hdul.close()"
   ]
  },
  {
   "cell_type": "markdown",
   "metadata": {},
   "source": [
    "## Load Reference $f(z)$ (from Mathematica)"
   ]
  },
  {
   "cell_type": "markdown",
   "metadata": {},
   "source": [
    "Load the $f(z)$ values from Mathematica."
   ]
  },
  {
   "cell_type": "code",
   "execution_count": 10,
   "metadata": {},
   "outputs": [],
   "source": [
    "direc = '/Users/hongwan/Dropbox (MIT)/'\n",
    "fz_elec_decay = np.loadtxt(direc+'21cm_pwave/TLA_code/fz_electron_decay.dat', delimiter=',')\n",
    "\n",
    "log10rs  = fz_elec_decay[0:70, 1]\n",
    "log10eng = fz_elec_decay[0:2800:70, 0] \n",
    "\n",
    "log10f_elec_decay = {\n",
    "    'H_ion':   np.transpose(np.reshape(fz_elec_decay[0:2800,2], (40,70))),\n",
    "    'He_ion':  np.transpose(np.reshape(fz_elec_decay[2800:5600,2], (40,70))),\n",
    "    'H_exc':   np.transpose(np.reshape(fz_elec_decay[5600:8400,2], (40,70))),\n",
    "    'heating': np.transpose(np.reshape(fz_elec_decay[8400:11200,2], (40,70))),\n",
    "    'cont':    np.transpose(np.reshape(fz_elec_decay[11200:14000,2], (40,70))) \n",
    "}\n",
    "\n",
    "fz_phot_decay = np.loadtxt(direc+'21cm_pwave/TLA_code/fz_photon_decay.dat', delimiter=',')\n",
    "\n",
    "log10rs  = fz_phot_decay[0:70, 1]\n",
    "log10eng = fz_phot_decay[0:2800:70, 0] \n",
    "\n",
    "log10f_phot_decay = {\n",
    "    'H_ion':   np.transpose(np.reshape(fz_phot_decay[0:2800,2], (40,70))),\n",
    "    'He_ion':  np.transpose(np.reshape(fz_phot_decay[2800:5600,2], (40,70))),\n",
    "    'H_exc':   np.transpose(np.reshape(fz_phot_decay[5600:8400,2], (40,70))),\n",
    "    'heating': np.transpose(np.reshape(fz_phot_decay[8400:11200,2], (40,70))),\n",
    "    'cont':    np.transpose(np.reshape(fz_phot_decay[11200:14000,2], (40,70)))\n",
    "}"
   ]
  },
  {
   "cell_type": "code",
   "execution_count": 11,
   "metadata": {},
   "outputs": [],
   "source": [
    "log10f_tmp = log10f_phot_decay\n",
    "\n",
    "def f_H_ion(rs, Einj):\n",
    "    interp_func = interp2d(log10eng, log10rs, log10f_tmp['H_ion'])\n",
    "    return 10**interp_func(np.log10(Einj), np.log10(rs))[0]\n",
    "\n",
    "def f_He_ion(rs, Einj):\n",
    "    interp_func = interp2d(log10eng, log10rs, log10f_tmp['He_ion'])\n",
    "    return 10**interp_func(np.log10(Einj), np.log10(rs))[0]\n",
    "\n",
    "def f_H_exc(rs, Einj):\n",
    "    interp_func = interp2d(log10eng, log10rs, log10f_tmp['H_exc'])\n",
    "    return 10**interp_func(np.log10(Einj), np.log10(rs))[0]\n",
    "\n",
    "def f_heating(rs, Einj):\n",
    "    interp_func = interp2d(log10eng, log10rs, log10f_tmp['heating'])\n",
    "    return 10**interp_func(np.log10(Einj), np.log10(rs))[0]\n",
    "\n",
    "def f_cont(rs, Einj):\n",
    "    interp_func = interp2d(log10eng, log10rs, log10f_tmp['cont'])\n",
    "    return 10**interp_func(np.log10(Einj), np.log10(rs))[0]"
   ]
  },
  {
   "cell_type": "markdown",
   "metadata": {},
   "source": [
    "# `DarkHistory` Evaluation, $\\chi \\to \\gamma \\gamma$"
   ]
  },
  {
   "cell_type": "code",
   "execution_count": 54,
   "metadata": {
    "scrolled": true
   },
   "outputs": [
    {
     "data": {
      "application/vnd.jupyter.widget-view+json": {
       "model_id": "8ca2672875174f9d93dd63f2ef6398f9",
       "version_major": 2,
       "version_minor": 0
      },
      "text/plain": [
       "HBox(children=(IntProgress(value=0, max=6621), HTML(value='')))"
      ]
     },
     "metadata": {},
     "output_type": "display_data"
    },
    {
     "name": "stderr",
     "output_type": "stream",
     "text": [
      "../darkhistory/spec/spectra.py:401: FutureWarning: Conversion of the second argument of issubdtype from `float` to `np.floating` is deprecated. In future, it will be treated as `np.float64 == np.dtype(float).type`.\n",
      "  np.issubdtype(type(other), float)\n",
      "../darkhistory/spec/spectra.py:402: FutureWarning: Conversion of the second argument of issubdtype from `int` to `np.signedinteger` is deprecated. In future, it will be treated as `np.int64 == np.dtype(int).type`.\n",
      "  or np.issubdtype(type(other), int)\n"
     ]
    },
    {
     "ename": "KeyboardInterrupt",
     "evalue": "",
     "output_type": "error",
     "traceback": [
      "\u001b[0;31m---------------------------------------------------------------------------\u001b[0m",
      "\u001b[0;31mKeyboardInterrupt\u001b[0m                         Traceback (most recent call last)",
      "\u001b[0;32m<ipython-input-54-c374858429bc>\u001b[0m in \u001b[0;36m<module>\u001b[0;34m()\u001b[0m\n\u001b[1;32m     58\u001b[0m     \u001b[0mics_thomson_ref_tf\u001b[0m\u001b[0;34m=\u001b[0m\u001b[0mics_thomson_ref_tf\u001b[0m\u001b[0;34m,\u001b[0m \u001b[0mics_rel_ref_tf\u001b[0m\u001b[0;34m=\u001b[0m\u001b[0mics_rel_ref_tf\u001b[0m\u001b[0;34m,\u001b[0m\u001b[0;34m\u001b[0m\u001b[0m\n\u001b[1;32m     59\u001b[0m     \u001b[0mengloss_ref_tf\u001b[0m\u001b[0;34m=\u001b[0m\u001b[0mengloss_ref_tf\u001b[0m\u001b[0;34m,\u001b[0m\u001b[0;34m\u001b[0m\u001b[0m\n\u001b[0;32m---> 60\u001b[0;31m     \u001b[0mcoarsen_factor\u001b[0m\u001b[0;34m=\u001b[0m\u001b[0;36m1\u001b[0m\u001b[0;34m,\u001b[0m\u001b[0mstd_soln\u001b[0m\u001b[0;34m=\u001b[0m\u001b[0;32mTrue\u001b[0m\u001b[0;34m,\u001b[0m \u001b[0mxe_func\u001b[0m\u001b[0;34m=\u001b[0m\u001b[0mxe_idl_func\u001b[0m\u001b[0;34m,\u001b[0m \u001b[0muser\u001b[0m\u001b[0;34m=\u001b[0m\u001b[0;32mNone\u001b[0m\u001b[0;34m,\u001b[0m \u001b[0mverbose\u001b[0m\u001b[0;34m=\u001b[0m\u001b[0;32mFalse\u001b[0m\u001b[0;34m,\u001b[0m \u001b[0muse_tqdm\u001b[0m\u001b[0;34m=\u001b[0m\u001b[0;32mTrue\u001b[0m\u001b[0;34m\u001b[0m\u001b[0m\n\u001b[0m\u001b[1;32m     61\u001b[0m )\n",
      "\u001b[0;32m~/GitHub/DarkHistory/main.py\u001b[0m in \u001b[0;36mevolve\u001b[0;34m(in_spec_elec, in_spec_phot, rate_func_N, rate_func_eng, end_rs, highengphot_tf_interp, lowengphot_tf_interp, lowengelec_tf_interp, highengdep_interp, CMB_engloss_interp, ics_thomson_ref_tf, ics_rel_ref_tf, engloss_ref_tf, ics_only, highengdep_switch, separate_higheng, reion_switch, reion_rs, photoion_rate_func, photoheat_rate_func, xe_reion_func, struct_boost, xe_init, Tm_init, coarsen_factor, std_soln, xe_func, user, verbose, use_tqdm)\u001b[0m\n\u001b[1;32m    618\u001b[0m                 \u001b[0;34m)\u001b[0m \u001b[0;34m=\u001b[0m \u001b[0mget_elec_cooling_tf_fast\u001b[0m\u001b[0;34m(\u001b[0m\u001b[0;34m\u001b[0m\u001b[0m\n\u001b[1;32m    619\u001b[0m                         \u001b[0mics_thomson_ref_tf\u001b[0m\u001b[0;34m,\u001b[0m \u001b[0mics_rel_ref_tf\u001b[0m\u001b[0;34m,\u001b[0m \u001b[0mengloss_ref_tf\u001b[0m\u001b[0;34m,\u001b[0m\u001b[0;34m\u001b[0m\u001b[0m\n\u001b[0;32m--> 620\u001b[0;31m                         \u001b[0meleceng\u001b[0m\u001b[0;34m,\u001b[0m \u001b[0mphoteng\u001b[0m\u001b[0;34m,\u001b[0m \u001b[0mrs\u001b[0m\u001b[0;34m,\u001b[0m \u001b[0mxe_elec_cooling\u001b[0m\u001b[0;34m,\u001b[0m \u001b[0mxHe\u001b[0m\u001b[0;34m=\u001b[0m\u001b[0;36m0\u001b[0m\u001b[0;34m\u001b[0m\u001b[0m\n\u001b[0m\u001b[1;32m    621\u001b[0m                     )\n\u001b[1;32m    622\u001b[0m \u001b[0;34m\u001b[0m\u001b[0m\n",
      "\u001b[0;32m~/GitHub/DarkHistory/darkhistory/electrons/elec_cooling.py\u001b[0m in \u001b[0;36mget_elec_cooling_tf_fast\u001b[0;34m(raw_nonrel_tf, raw_rel_tf, raw_engloss_tf, eleceng, photeng, rs, xe, xHe, check_conservation_eng, verbose)\u001b[0m\n\u001b[1;32m    161\u001b[0m \u001b[0;34m\u001b[0m\u001b[0m\n\u001b[1;32m    162\u001b[0m     \u001b[0;31m# Rebin these transfer functions back to eleceng.\u001b[0m\u001b[0;34m\u001b[0m\u001b[0;34m\u001b[0m\u001b[0m\n\u001b[0;32m--> 163\u001b[0;31m     \u001b[0melec_exc_HI_tf\u001b[0m\u001b[0;34m.\u001b[0m\u001b[0mrebin\u001b[0m\u001b[0;34m(\u001b[0m\u001b[0meleceng\u001b[0m\u001b[0;34m)\u001b[0m\u001b[0;34m\u001b[0m\u001b[0m\n\u001b[0m\u001b[1;32m    164\u001b[0m     \u001b[0melec_exc_HeI_tf\u001b[0m\u001b[0;34m.\u001b[0m\u001b[0mrebin\u001b[0m\u001b[0;34m(\u001b[0m\u001b[0meleceng\u001b[0m\u001b[0;34m)\u001b[0m\u001b[0;34m\u001b[0m\u001b[0m\n\u001b[1;32m    165\u001b[0m     \u001b[0melec_exc_HeII_tf\u001b[0m\u001b[0;34m.\u001b[0m\u001b[0mrebin\u001b[0m\u001b[0;34m(\u001b[0m\u001b[0meleceng\u001b[0m\u001b[0;34m)\u001b[0m\u001b[0;34m\u001b[0m\u001b[0m\n",
      "\u001b[0;32m~/GitHub/DarkHistory/darkhistory/spec/spectra.py\u001b[0m in \u001b[0;36mrebin\u001b[0;34m(self, out_eng)\u001b[0m\n\u001b[1;32m    987\u001b[0m         \u001b[0mnew_data\u001b[0m\u001b[0;34m[\u001b[0m\u001b[0;34m:\u001b[0m\u001b[0;34m,\u001b[0m\u001b[0;36m1\u001b[0m\u001b[0;34m]\u001b[0m \u001b[0;34m+=\u001b[0m \u001b[0mlow_data\u001b[0m\u001b[0;34m\u001b[0m\u001b[0m\n\u001b[1;32m    988\u001b[0m \u001b[0;34m\u001b[0m\u001b[0m\n\u001b[0;32m--> 989\u001b[0;31m         \u001b[0mnp\u001b[0m\u001b[0;34m.\u001b[0m\u001b[0madd\u001b[0m\u001b[0;34m.\u001b[0m\u001b[0mat\u001b[0m\u001b[0;34m(\u001b[0m\u001b[0mnew_data\u001b[0m\u001b[0;34m,\u001b[0m \u001b[0;34m(\u001b[0m\u001b[0mslice\u001b[0m\u001b[0;34m(\u001b[0m\u001b[0;32mNone\u001b[0m\u001b[0;34m)\u001b[0m\u001b[0;34m,\u001b[0m \u001b[0mreg_bin_low\u001b[0m\u001b[0;34m+\u001b[0m\u001b[0;36m1\u001b[0m\u001b[0;34m)\u001b[0m\u001b[0;34m,\u001b[0m \u001b[0mreg_data_low\u001b[0m\u001b[0;34m)\u001b[0m\u001b[0;34m\u001b[0m\u001b[0m\n\u001b[0m\u001b[1;32m    990\u001b[0m         \u001b[0mnp\u001b[0m\u001b[0;34m.\u001b[0m\u001b[0madd\u001b[0m\u001b[0;34m.\u001b[0m\u001b[0mat\u001b[0m\u001b[0;34m(\u001b[0m\u001b[0mnew_data\u001b[0m\u001b[0;34m,\u001b[0m \u001b[0;34m(\u001b[0m\u001b[0mslice\u001b[0m\u001b[0;34m(\u001b[0m\u001b[0;32mNone\u001b[0m\u001b[0;34m)\u001b[0m\u001b[0;34m,\u001b[0m \u001b[0mreg_bin_upp\u001b[0m\u001b[0;34m+\u001b[0m\u001b[0;36m1\u001b[0m\u001b[0;34m)\u001b[0m\u001b[0;34m,\u001b[0m \u001b[0mreg_data_upp\u001b[0m\u001b[0;34m)\u001b[0m\u001b[0;34m\u001b[0m\u001b[0m\n\u001b[1;32m    991\u001b[0m \u001b[0;34m\u001b[0m\u001b[0m\n",
      "\u001b[0;31mKeyboardInterrupt\u001b[0m: "
     ]
    }
   ],
   "source": [
    "eleceng = lowengelec_tf_interp.eng\n",
    "photeng = lowengphot_tf_interp.eng\n",
    "\n",
    "tau = 0.5e25\n",
    "\n",
    "# kinetic energy!\n",
    "# elec_spec_init = spectools.rebin_N_arr(np.array([2]), np.array([(mDM - 2*phys.me)/2]), eleceng)\n",
    "# elec_spec_init.rs = 3000\n",
    "\n",
    "# phot_spec_init = Spectrum(photeng, np.zeros_like(photeng), rs = 3000)\n",
    "\n",
    "# find the uppermost bin to perform the injection.\n",
    "# inject mDM/2/eng_delta_inj particles.\n",
    "\n",
    "if chan == 'phot':\n",
    "    \n",
    "    injE = photeng[photeng < mDM/2][-1]\n",
    "\n",
    "    phot_spec_init = spectools.rebin_N_arr(np.array([2*mDM/2/injE]), np.array([injE]), photeng)\n",
    "    phot_spec_init.rs = 3000\n",
    "\n",
    "    elec_spec_init = Spectrum(eleceng, np.zeros_like(eleceng), rs=3000)\n",
    "elif chan == 'elec':\n",
    "    \n",
    "    injE = eleceng[eleceng < (mDM - 2*phys.me)/2][-1]\n",
    "    \n",
    "    elec_spec_init = spectools.rebin_N_arr(\n",
    "        np.array([2*(mDM - 2*phys.me)/2/injE]), \n",
    "        np.array([injE]), \n",
    "        eleceng\n",
    "    )\n",
    "    elec_spec_init.rs = 3000\n",
    "\n",
    "    phot_spec_init = Spectrum(photeng, np.zeros_like(photeng), rs = 3000)\n",
    "\n",
    "if elec_spec_init.spec_type == 'dNdE':\n",
    "    elec_spec_init.switch_spec_type()\n",
    "if phot_spec_init.spec_type == 'dNdE':\n",
    "    phot_spec_init.switch_spec_type()\n",
    "    \n",
    "def rate_func_N(rs):\n",
    "    return phys.rho_DM*rs**3/tau/mDM\n",
    "\n",
    "def rate_func_eng(rs):\n",
    "    return phys.rho_DM*rs**3/tau\n",
    "\n",
    "# Evolve according to xe provided by the IDL file.\n",
    "\n",
    "xe_idl_func = interp1d(idl_redshift, xe_idl, bounds_error=False, fill_value=(xe_idl[-1], xe_idl[0]))\n",
    "\n",
    "%autoreload\n",
    "\n",
    "b_4e12 = main.evolve(\n",
    "    elec_spec_init, phot_spec_init, rate_func_N, rate_func_eng, 4, \n",
    "    highengphot_tf_interp, lowengphot_tf_interp, lowengelec_tf_interp, \n",
    "    highengdep_interp, CMB_engloss_interp, \n",
    "    ics_only=False, separate_higheng=True, \n",
    "    ics_thomson_ref_tf=ics_thomson_ref_tf, ics_rel_ref_tf=ics_rel_ref_tf, \n",
    "    engloss_ref_tf=engloss_ref_tf, \n",
    "    coarsen_factor=1,std_soln=True, xe_func=xe_idl_func, user=None, verbose=False, use_tqdm=True\n",
    ")\n",
    "\n"
   ]
  },
  {
   "cell_type": "code",
   "execution_count": 68,
   "metadata": {},
   "outputs": [
    {
     "data": {
      "application/vnd.jupyter.widget-view+json": {
       "model_id": "cb198bb1e24b410ab63a1c2e947efec2",
       "version_major": 2,
       "version_minor": 0
      },
      "text/plain": [
       "HBox(children=(IntProgress(value=0, max=34), HTML(value='')))"
      ]
     },
     "metadata": {},
     "output_type": "display_data"
    },
    {
     "name": "stderr",
     "output_type": "stream",
     "text": [
      "../darkhistory/spec/spectra.py:401: FutureWarning: Conversion of the second argument of issubdtype from `float` to `np.floating` is deprecated. In future, it will be treated as `np.float64 == np.dtype(float).type`.\n",
      "  np.issubdtype(type(other), float)\n",
      "../darkhistory/spec/spectra.py:402: FutureWarning: Conversion of the second argument of issubdtype from `int` to `np.signedinteger` is deprecated. In future, it will be treated as `np.int64 == np.dtype(int).type`.\n",
      "  or np.issubdtype(type(other), int)\n"
     ]
    }
   ],
   "source": [
    "from darkhistory import electrons\n",
    "from darkhistory.spec import spectra\n",
    "\n",
    "%lprun -f spectools.engloss_rebin_fast  -f electrons.elec_cooling.get_elec_cooling_tf_fast -f main.evolve main.evolve(elec_spec_init, phot_spec_init, rate_func_N, rate_func_eng, 2900, highengphot_tf_interp, lowengphot_tf_interp, lowengelec_tf_interp, highengdep_interp, CMB_engloss_interp, ics_only=False, separate_higheng=True, ics_thomson_ref_tf=ics_thomson_ref_tf, ics_rel_ref_tf=ics_rel_ref_tf, engloss_ref_tf=engloss_ref_tf, coarsen_factor=1,std_soln=True, xe_func=xe_idl_func, user=None, verbose=False, use_tqdm=True)\n"
   ]
  },
  {
   "cell_type": "code",
   "execution_count": 56,
   "metadata": {},
   "outputs": [],
   "source": [
    "%lprun?"
   ]
  },
  {
   "cell_type": "markdown",
   "metadata": {},
   "source": [
    "# $f(z)$ Calculation Comparisons - PASSED"
   ]
  },
  {
   "cell_type": "markdown",
   "metadata": {},
   "source": [
    "## `DarkHistory` Calculation"
   ]
  },
  {
   "cell_type": "markdown",
   "metadata": {},
   "source": [
    "First, we will compare the $f(z)$ computed by `DarkHistory` with the values obtained by Tracy, using the same spectral input from the IDL produced reference file, but running `lowE_deposition.compute_fs` to obtain the corresponding values of $f(z)$. \n",
    "\n",
    "We can call MEDEA_interp with either two 1D interpolations, or one 2D interpolation, but the actual result changes very little."
   ]
  },
  {
   "cell_type": "code",
   "execution_count": 23,
   "metadata": {},
   "outputs": [],
   "source": [
    "# Create the MEDEA interpolation object. Default is 2D\n",
    "MEDEA_interp = lowE_electrons.make_interpolator()"
   ]
  },
  {
   "cell_type": "code",
   "execution_count": 24,
   "metadata": {},
   "outputs": [
    {
     "ename": "TypeError",
     "evalue": "rs array not the same shape as first axis of spec_arr.",
     "output_type": "error",
     "traceback": [
      "\u001b[0;31m---------------------------------------------------------------------------\u001b[0m",
      "\u001b[0;31mTypeError\u001b[0m                                 Traceback (most recent call last)",
      "\u001b[0;32m<ipython-input-24-14ca678b4c77>\u001b[0m in \u001b[0;36m<module>\u001b[0;34m()\u001b[0m\n\u001b[1;32m     14\u001b[0m \u001b[0;34m\u001b[0m\u001b[0m\n\u001b[1;32m     15\u001b[0m \u001b[0;31m# Convert the IDL spectra to Spectra objects.\u001b[0m\u001b[0;34m\u001b[0m\u001b[0;34m\u001b[0m\u001b[0m\n\u001b[0;32m---> 16\u001b[0;31m \u001b[0mref_lowengelec\u001b[0m \u001b[0;34m=\u001b[0m \u001b[0mSpectra\u001b[0m\u001b[0;34m(\u001b[0m\u001b[0midl_lowengelec\u001b[0m\u001b[0;34m*\u001b[0m\u001b[0midl_elec_bin_width\u001b[0m\u001b[0;34m,\u001b[0m \u001b[0meng\u001b[0m\u001b[0;34m=\u001b[0m\u001b[0midl_eleceng\u001b[0m\u001b[0;34m,\u001b[0m \u001b[0mrs\u001b[0m\u001b[0;34m=\u001b[0m\u001b[0mrs_vec\u001b[0m\u001b[0;34m,\u001b[0m \u001b[0mspec_type\u001b[0m\u001b[0;34m=\u001b[0m\u001b[0;34m'N'\u001b[0m\u001b[0;34m)\u001b[0m\u001b[0;34m\u001b[0m\u001b[0m\n\u001b[0m\u001b[1;32m     17\u001b[0m \u001b[0mref_lowengphot\u001b[0m \u001b[0;34m=\u001b[0m \u001b[0mSpectra\u001b[0m\u001b[0;34m(\u001b[0m\u001b[0midl_lowengphot\u001b[0m\u001b[0;34m*\u001b[0m\u001b[0midl_bin_width\u001b[0m\u001b[0;34m,\u001b[0m \u001b[0meng\u001b[0m\u001b[0;34m=\u001b[0m\u001b[0midl_energy\u001b[0m\u001b[0;34m,\u001b[0m \u001b[0mrs\u001b[0m\u001b[0;34m=\u001b[0m\u001b[0mrs_vec\u001b[0m\u001b[0;34m,\u001b[0m \u001b[0mspec_type\u001b[0m\u001b[0;34m=\u001b[0m\u001b[0;34m'N'\u001b[0m\u001b[0;34m)\u001b[0m\u001b[0;34m\u001b[0m\u001b[0m\n\u001b[1;32m     18\u001b[0m \u001b[0;34m\u001b[0m\u001b[0m\n",
      "\u001b[0;32m~/GitHub/DarkHistory/darkhistory/spec/spectra.py\u001b[0m in \u001b[0;36m__init__\u001b[0;34m(self, spec_arr, eng, in_eng, rs, spec_type, rebin_eng)\u001b[0m\n\u001b[1;32m     80\u001b[0m             \u001b[0;32melse\u001b[0m\u001b[0;34m:\u001b[0m\u001b[0;34m\u001b[0m\u001b[0m\n\u001b[1;32m     81\u001b[0m                 \u001b[0;32mif\u001b[0m \u001b[0mrs\u001b[0m\u001b[0;34m.\u001b[0m\u001b[0msize\u001b[0m \u001b[0;34m!=\u001b[0m \u001b[0mspec_arr\u001b[0m\u001b[0;34m.\u001b[0m\u001b[0mshape\u001b[0m\u001b[0;34m[\u001b[0m\u001b[0;36m0\u001b[0m\u001b[0;34m]\u001b[0m\u001b[0;34m:\u001b[0m\u001b[0;34m\u001b[0m\u001b[0m\n\u001b[0;32m---> 82\u001b[0;31m                     \u001b[0;32mraise\u001b[0m \u001b[0mTypeError\u001b[0m\u001b[0;34m(\u001b[0m\u001b[0;34m'rs array not the same shape as first axis of spec_arr.'\u001b[0m\u001b[0;34m)\u001b[0m\u001b[0;34m\u001b[0m\u001b[0m\n\u001b[0m\u001b[1;32m     83\u001b[0m                 \u001b[0mself\u001b[0m\u001b[0;34m.\u001b[0m\u001b[0m_rs\u001b[0m \u001b[0;34m=\u001b[0m \u001b[0mrs\u001b[0m\u001b[0;34m\u001b[0m\u001b[0m\n\u001b[1;32m     84\u001b[0m             \u001b[0mself\u001b[0m\u001b[0;34m.\u001b[0m\u001b[0m_N_underflow\u001b[0m \u001b[0;34m=\u001b[0m \u001b[0mnp\u001b[0m\u001b[0;34m.\u001b[0m\u001b[0mzeros_like\u001b[0m\u001b[0;34m(\u001b[0m\u001b[0mrs\u001b[0m\u001b[0;34m)\u001b[0m\u001b[0;34m\u001b[0m\u001b[0m\n",
      "\u001b[0;31mTypeError\u001b[0m: rs array not the same shape as first axis of spec_arr."
     ]
    }
   ],
   "source": [
    "# Vector of dt steps.\n",
    "rs_vec = b_4e12[2].rs\n",
    "dt_vec = 0.001/phys.hubble(rs_vec)\n",
    "\n",
    "# Choose the xe to use: from xe_std, or from the IDL file.\n",
    "# std_xe_vec = xe_std(rs_vec)\n",
    "std_xe_vec = xe_idl\n",
    "\n",
    "# Store x_input in the correct format\n",
    "x_input = np.transpose([1-std_xe_vec, np.zeros_like(std_xe_vec), np.zeros_like(std_xe_vec)])\n",
    "\n",
    "# Calculate rate_input for input to compute_fs\n",
    "rate_input = rate_func_eng(rs_vec)\n",
    "\n",
    "# Convert the IDL spectra to Spectra objects.\n",
    "ref_lowengelec = Spectra(idl_lowengelec*idl_elec_bin_width, eng=idl_eleceng, rs=rs_vec, spec_type='N')\n",
    "ref_lowengphot = Spectra(idl_lowengphot*idl_bin_width, eng=idl_energy, rs=rs_vec, spec_type='N')\n",
    "\n",
    "# Empty container for f's\n",
    "f_arr_DH_low = np.outer(np.zeros_like(rs_vec),np.zeros(5))\n",
    "f_arr_DH_high = np.outer(np.zeros_like(rs_vec),np.zeros(5))\n",
    "\n",
    "# Loop compute_fs over the spectra produced.\n",
    "for i, (elec_spec, phot_spec, x, dE_dVdt_inj, dt, highengdep, cmbloss) in tqdm(\n",
    "    enumerate(\n",
    "        zip(\n",
    "            ref_lowengelec, ref_lowengphot, x_input, rate_input, dt_vec, \n",
    "            np.transpose(idl_highengdep), idl_cmblosstable\n",
    "        )\n",
    "    ),   \n",
    "    total = idl_cmblosstable.shape[0] # Just for tqdm\n",
    ") :\n",
    "    f = lowE_deposition.compute_fs(\n",
    "        MEDEA_interp, elec_spec, phot_spec, x, dE_dVdt_inj, dt, highengdep, cmbloss, method=\"old\", \n",
    "        separate_higheng=True\n",
    "    )\n",
    "    f_arr_DH_low[i]  += f[0]\n",
    "    f_arr_DH_high[i] += f[1]\n",
    "                 "
   ]
  },
  {
   "cell_type": "markdown",
   "metadata": {},
   "source": [
    "## $f(z)$ Plots - Absolute Comparison"
   ]
  },
  {
   "cell_type": "code",
   "execution_count": null,
   "metadata": {
    "scrolled": false
   },
   "outputs": [],
   "source": [
    "plt.figure(figsize=(10,50))\n",
    "plt.subplots_adjust(hspace=.4)\n",
    "\n",
    "for i in range(5):\n",
    "    plt.subplot(5,1,i+1)\n",
    "    ax = plt.gca()\n",
    "    ax.set_xscale('log')\n",
    "#     ax.set_yscale('log')\n",
    "    plt.xlabel('Redshift (1+z)')\n",
    "    plt.ylabel('f(z)')\n",
    "    if i == 0:\n",
    "        plt.title('Hydrogen Ionization')\n",
    "    elif i == 1:\n",
    "        plt.title('Helium Ionization')\n",
    "    elif i == 2:\n",
    "        plt.title('Excitation')\n",
    "    elif i == 3:\n",
    "        plt.title('Heating')\n",
    "    elif i == 4:\n",
    "        plt.title('Continuum')\n",
    "    plt.plot(rs_vec, f_arr_DH_low[:,i], label='IDL spectra, DH compute\\_fs, Low')\n",
    "    plt.plot(rs_vec, f_idl_low[i,:], label='IDL spectra, IDL newfracs.pro, Low')\n",
    "    plt.plot(rs_vec, f_arr_DH_high[:,i], label='IDL spectra, DH compute\\_fs, High')\n",
    "    plt.plot(rs_vec, f_idl_high[i,:], label='IDL spectra, IDL newfracs.pro, High')\n",
    "    plt.legend()"
   ]
  },
  {
   "cell_type": "markdown",
   "metadata": {},
   "source": [
    "## $f(z)$ Plots - Relative Comparison"
   ]
  },
  {
   "cell_type": "code",
   "execution_count": null,
   "metadata": {
    "scrolled": false
   },
   "outputs": [],
   "source": [
    "plt.figure(figsize=(10,50))\n",
    "plt.subplots_adjust(hspace=.4)\n",
    "\n",
    "for i in range(5):\n",
    "    plt.subplot(5,1,i+1)\n",
    "    ax = plt.gca()\n",
    "    ax.set_xscale('log')\n",
    "#     ax.set_yscale('log')\n",
    "    plt.xlabel('Redshift (1+z)')\n",
    "    plt.ylabel('f(z)')\n",
    "    if i == 0:\n",
    "        plt.title('Hydrogen Ionization')\n",
    "    elif i == 1:\n",
    "        plt.title('Helium Ionization')\n",
    "    elif i == 2:\n",
    "        plt.title('Excitation')\n",
    "    elif i == 3:\n",
    "        plt.title('Heating')\n",
    "    elif i == 4:\n",
    "        plt.title('Continuum')\n",
    "        \n",
    "    plt.axis([1, 3000, 0.5, 2])\n",
    "    plt.plot(rs_vec, f_arr_DH_low[:,i]/f_idl_low[i,:], label='Ratio DH/IDL, low')\n",
    "    plt.plot(rs_vec, f_arr_DH_high[:,i]/f_idl_high[i,:], label='Ratio DH/IDL, high')\n",
    "    \n",
    "    plt.legend()"
   ]
  },
  {
   "cell_type": "markdown",
   "metadata": {
    "heading_collapsed": true
   },
   "source": [
    "## Comments\n",
    "\n",
    "To get agreement, two important things must be done. \n",
    "\n",
    "* The photon deposition method must be in agreement with the IDL method, which does not sum over partial bins. \n",
    "* The ionization history must be identical. \n",
    "\n",
    "Without these two points, there are large deviations at the start (excitation can be as much as 20% larger) as well as during recombination."
   ]
  },
  {
   "cell_type": "markdown",
   "metadata": {},
   "source": [
    "# `main.evolve` Tests"
   ]
  },
  {
   "cell_type": "markdown",
   "metadata": {},
   "source": [
    "## Spectrum Absolute Comparison"
   ]
  },
  {
   "cell_type": "code",
   "execution_count": null,
   "metadata": {},
   "outputs": [],
   "source": [
    "# pickle.dump(b_4e12, open(\"/Users/hongwan/Desktop/b_4e12.raw\", \"wb\"))\n",
    "# b_4e12 = pickle.load(open(\"/Users/hongwan/Desktop/b_4e12.raw\", \"rb\"))"
   ]
  },
  {
   "cell_type": "code",
   "execution_count": null,
   "metadata": {
    "scrolled": false
   },
   "outputs": [],
   "source": [
    "i = 130\n",
    "print(idl_redshift[i])\n",
    "\n",
    "plt.figure()\n",
    "ax = plt.gca()\n",
    "# ax.set_xscale('log')\n",
    "ax.loglog()\n",
    "\n",
    "# plt.axis([1e-4, 5e12, 1e-40, 5e-6])\n",
    "\n",
    "photeng = idl_energy\n",
    "\n",
    "plt.plot(photeng, b_4e12[2].grid_vals[i])\n",
    "plt.plot(photeng, idl_photonspectrum[i]*idl_bin_width)\n",
    "\n",
    "# np.set_printoptions(threshold=np.nan)\n",
    "# utils.compare_arr([photeng, b_4e12[2][i].N, idl_photonspectrum[i]*idl_bin_width])\n",
    "\n",
    "# plt.figure()\n",
    "# ax = plt.gca()\n",
    "# # ax.set_xscale('log')\n",
    "# ax.loglog()\n",
    "\n",
    "# # plt.axis([1e2, 4e3, 0, 0.5e-28])\n",
    "# photeng = idl_energy\n",
    "\n",
    "# plt.plot(photeng, b_4e12[3].grid_vals[i])\n",
    "# plt.plot(photeng, idl_lowengphot[i]*idl_bin_width)\n",
    "\n",
    "\n",
    "\n",
    "plt.figure()\n",
    "ax = plt.gca()\n",
    "# ax.loglog()\n",
    "ax.set_xscale('log')\n",
    "\n",
    "# plt.axis([1e-4, 5e12, 1e-40, 1e-10])\n",
    "\n",
    "eleceng = idl_eleceng\n",
    "# plt.axis([1, 1e4, 1e-12, 4e-8])\n",
    "plt.plot(eleceng, b_4e12[4].grid_vals[i])\n",
    "plt.plot(eleceng, idl_lowengelec[i]*idl_elec_bin_width)\n",
    "\n",
    "# plt.figure()\n",
    "# ax = plt.gca()\n",
    "# # ax.loglog()\n",
    "# ax.set_xscale('log')\n",
    "\n",
    "\n",
    "# # plt.axis([1e3, 3e3, 1e-16, 5e-15])\n",
    "# plt.plot(idl_redshift, b_4e12[5])\n",
    "# plt.plot(idl_redshift, idl_cmblosstable)\n",
    "\n",
    "# plt.figure()\n",
    "# ax = plt.gca()\n",
    "\n",
    "# ax.set_xscale('log')\n",
    "\n",
    "# plt.plot(idl_redshift, b_4e12[5]/idl_cmblosstable)"
   ]
  },
  {
   "cell_type": "markdown",
   "metadata": {},
   "source": [
    "## Spectrum Relative Comparison"
   ]
  },
  {
   "cell_type": "code",
   "execution_count": null,
   "metadata": {
    "scrolled": false
   },
   "outputs": [],
   "source": [
    "i = 130\n",
    "print(idl_redshift[i])\n",
    "print(xe_idl_func(idl_redshift[i]))\n",
    "\n",
    "plt.figure()\n",
    "ax = plt.gca()\n",
    "ax.set_xscale('log')\n",
    "\n",
    "photeng = idl_energy\n",
    "\n",
    "plt.axis([10.2, 1e5, 0.8, 1.2])\n",
    "\n",
    "plt.plot(photeng, b_4e12[2].grid_vals[i]/(idl_photonspectrum[i]*idl_bin_width))\n",
    "\n",
    "plt.figure()\n",
    "ax = plt.gca()\n",
    "ax.set_xscale('log')\n",
    "\n",
    "\n",
    "# plt.axis([1e1, 130, 0, 0.5e-30])\n",
    "photeng = idl_energy\n",
    "\n",
    "plt.axis([10.2, 1e5, 0.8, 1.2])\n",
    "\n",
    "\n",
    "plt.plot(photeng, b_4e12[3].grid_vals[i]/(idl_lowengphot[i]*idl_bin_width))\n",
    "\n",
    "\n",
    "\n",
    "plt.figure()\n",
    "ax = plt.gca()\n",
    "ax.set_xscale('log')\n",
    "\n",
    "# # plt.axis([1e-4, 5e12, 1e-40, 1e-10])\n",
    "\n",
    "eleceng = idl_eleceng\n",
    "# plt.axis([1, 1e4, 1e-12, 4e-8])\n",
    "plt.plot(eleceng, b_4e12[4].grid_vals[i]/(idl_lowengelec[i]*idl_elec_bin_width))\n",
    "\n",
    "# plt.figure()\n",
    "# ax = plt.gca()\n",
    "# # ax.loglog()\n",
    "# ax.set_xscale('log')\n",
    "\n",
    "\n",
    "# # plt.axis([1e3, 3e3, 1e-16, 5e-15])\n",
    "# plt.plot(idl_redshift, b_4e12[5])\n",
    "# plt.plot(idl_redshift, idl_cmblosstable)\n",
    "\n",
    "# plt.figure()\n",
    "# ax = plt.gca()\n",
    "\n",
    "# ax.set_xscale('log')\n",
    "\n",
    "# plt.plot(idl_redshift, b_4e12[5]/idl_cmblosstable)"
   ]
  },
  {
   "cell_type": "markdown",
   "metadata": {},
   "source": [
    "## $f(z)$ Plots - Absolute Comparison"
   ]
  },
  {
   "cell_type": "code",
   "execution_count": null,
   "metadata": {
    "scrolled": false
   },
   "outputs": [],
   "source": [
    "injE = photeng[photeng < mDM/2][-1]\n",
    "    \n",
    "\n",
    "f_H_ion_vec_math   = [f_H_ion(rs, injE) for rs in rs_vec[1:]]\n",
    "f_He_ion_vec_math  = [f_He_ion(rs, injE) for rs in rs_vec[1:]]\n",
    "f_exc_vec_math     = [f_H_exc(rs, injE) for rs in rs_vec[1:]]\n",
    "f_heat_vec_math    = [f_heating(rs, injE) for rs in rs_vec[1:]]\n",
    "f_cont_vec_math    = [f_cont(rs, injE) for rs in rs_vec[1:]]\n",
    "\n",
    "f_vec_math = np.vstack([\n",
    "    f_H_ion_vec_math, f_He_ion_vec_math, \n",
    "    f_exc_vec_math, f_heat_vec_math, \n",
    "    f_cont_vec_math\n",
    "])\n",
    "\n",
    "\n",
    "plt.figure(figsize=(10,50))\n",
    "plt.subplots_adjust(hspace=.4)\n",
    "\n",
    "for i in range(5):\n",
    "    plt.subplot(5,1,i+1)\n",
    "    ax = plt.gca()\n",
    "    ax.set_xscale('log')\n",
    "    ax.set_yscale('log')\n",
    "    plt.xlabel('Redshift')\n",
    "    plt.ylabel('f(z)')\n",
    "    if i == 0:\n",
    "        plt.title('Hydrogen Ionization')\n",
    "    elif i == 1:\n",
    "        plt.title('Helium Ionization')\n",
    "    elif i == 2:\n",
    "        plt.title('Excitation')\n",
    "    elif i == 3:\n",
    "        plt.title('Heating')\n",
    "    elif i == 4:\n",
    "        plt.title('Continuum')\n",
    "#     plt.axis([1000, 3000, 1e-7, .3])\n",
    "    plt.plot(rs_vec[1:], b_4e12[6][0][:,i], label='DarkHistory Low')\n",
    "#     plt.plot(rs_vec[1:], b_4e12[6][1][:,i], label='DarkHistory High')\n",
    "#     plt.plot(rs_vec[1:], f_vec_math[i], label='Mathematica')\n",
    "#     plt.plot(rs_vec, f_idl[i], label='IDL')\n",
    "    plt.plot(rs_vec, f_idl_low[i], label='IDL Low')\n",
    "#     plt.plot(rs_vec, f_idl_high[i], label='IDL High')\n",
    "    \n",
    "    plt.legend()\n"
   ]
  },
  {
   "cell_type": "markdown",
   "metadata": {},
   "source": [
    "## $f(z)$ Plots - Relative Comparison"
   ]
  },
  {
   "cell_type": "code",
   "execution_count": null,
   "metadata": {
    "scrolled": false
   },
   "outputs": [],
   "source": [
    "injE = photeng[photeng < mDM/2][-1]\n",
    "    \n",
    "\n",
    "f_H_ion_vec_math   = [f_H_ion(rs, injE) for rs in rs_vec[1:]]\n",
    "f_He_ion_vec_math  = [f_He_ion(rs, injE) for rs in rs_vec[1:]]\n",
    "f_exc_vec_math     = [f_H_exc(rs, injE) for rs in rs_vec[1:]]\n",
    "f_heat_vec_math    = [f_heating(rs, injE) for rs in rs_vec[1:]]\n",
    "f_cont_vec_math    = [f_cont(rs, injE) for rs in rs_vec[1:]]\n",
    "\n",
    "f_vec_math = np.vstack([\n",
    "    f_H_ion_vec_math, f_He_ion_vec_math, \n",
    "    f_exc_vec_math, f_heat_vec_math, \n",
    "    f_cont_vec_math\n",
    "])\n",
    "\n",
    "\n",
    "plt.figure(figsize=(10,50))\n",
    "plt.subplots_adjust(hspace=.4)\n",
    "\n",
    "for i in range(5):\n",
    "    plt.subplot(5,1,i+1)\n",
    "    ax = plt.gca()\n",
    "#     ax.set_xscale('log')\n",
    "#     ax.set_yscale('log')\n",
    "    plt.xlabel('Redshift')\n",
    "    plt.ylabel('f(z)')\n",
    "    if i == 0:\n",
    "        plt.title('Hydrogen Ionization')\n",
    "    elif i == 1:\n",
    "        plt.title('Helium Ionization')\n",
    "    elif i == 2:\n",
    "        plt.title('Excitation')\n",
    "    elif i == 3:\n",
    "        plt.title('Heating')\n",
    "    elif i == 4:\n",
    "        plt.title('Continuum')\n",
    "        \n",
    "    plt.axis([10, 3000, 0.5, 1.3])\n",
    "    plt.plot(rs_vec[1:],b_4e12[6][0][:,i]/f_idl_low[i,1:], label='DH/IDL, Low')\n",
    "    plt.plot(rs_vec[1:],b_4e12[6][1][:,i]/f_idl_high[i,1:], label='DH/IDL, High')\n",
    "    ax.axhline(0.95, color='gray', linestyle=':')\n",
    "    ax.axhline(1.05, color='gray', linestyle=':')\n",
    "    \n",
    "    \n",
    "    plt.legend()\n"
   ]
  },
  {
   "cell_type": "code",
   "execution_count": 26,
   "metadata": {},
   "outputs": [
    {
     "data": {
      "text/plain": [
       "0.0"
      ]
     },
     "execution_count": 26,
     "metadata": {},
     "output_type": "execute_result"
    }
   ],
   "source": [
    "1/np.inf"
   ]
  },
  {
   "cell_type": "code",
   "execution_count": 41,
   "metadata": {},
   "outputs": [
    {
     "name": "stdout",
     "output_type": "stream",
     "text": [
      "[[2 4]\n",
      " [3 4]]\n",
      "[[2 4]\n",
      " [3 4]]\n"
     ]
    }
   ],
   "source": [
    "a = np.array([[1,2],[3,4]])\n",
    "b = np.transpose(np.array([[2,1]]))\n",
    "print(a*b)\n",
    "print(b*a)"
   ]
  },
  {
   "cell_type": "code",
   "execution_count": null,
   "metadata": {},
   "outputs": [],
   "source": []
  }
 ],
 "metadata": {
  "kernelspec": {
   "display_name": "Python 3",
   "language": "python",
   "name": "python3"
  },
  "language_info": {
   "codemirror_mode": {
    "name": "ipython",
    "version": 3
   },
   "file_extension": ".py",
   "mimetype": "text/x-python",
   "name": "python",
   "nbconvert_exporter": "python",
   "pygments_lexer": "ipython3",
   "version": "3.6.6"
  },
  "toc": {
   "base_numbering": 1,
   "nav_menu": {},
   "number_sections": true,
   "sideBar": true,
   "skip_h1_title": false,
   "title_cell": "Table of Contents",
   "title_sidebar": "Contents",
   "toc_cell": false,
   "toc_position": {},
   "toc_section_display": true,
   "toc_window_display": false
  },
  "varInspector": {
   "cols": {
    "lenName": 16,
    "lenType": 16,
    "lenVar": 40
   },
   "kernels_config": {
    "python": {
     "delete_cmd_postfix": "",
     "delete_cmd_prefix": "del ",
     "library": "var_list.py",
     "varRefreshCmd": "print(var_dic_list())"
    },
    "r": {
     "delete_cmd_postfix": ") ",
     "delete_cmd_prefix": "rm(",
     "library": "var_list.r",
     "varRefreshCmd": "cat(var_dic_list()) "
    }
   },
   "oldHeight": 122.72681799999998,
   "position": {
    "height": "319.702px",
    "left": "1039.08px",
    "right": "20px",
    "top": "120px",
    "width": "253.366px"
   },
   "types_to_exclude": [
    "module",
    "function",
    "builtin_function_or_method",
    "instance",
    "_Feature"
   ],
   "varInspector_section_display": "block",
   "window_display": false
  }
 },
 "nbformat": 4,
 "nbformat_minor": 2
}
