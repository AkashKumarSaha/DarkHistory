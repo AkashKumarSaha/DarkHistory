{
 "cells": [
  {
   "cell_type": "markdown",
   "metadata": {},
   "source": [
    "# Back Reaction"
   ]
  },
  {
   "cell_type": "markdown",
   "metadata": {},
   "source": [
    "## Initialization"
   ]
  },
  {
   "cell_type": "code",
   "execution_count": 1,
   "metadata": {},
   "outputs": [],
   "source": [
    "%load_ext autoreload\n",
    "import sys\n",
    "sys.path.append(\"..\")"
   ]
  },
  {
   "cell_type": "code",
   "execution_count": 2,
   "metadata": {},
   "outputs": [],
   "source": [
    "%autoreload\n",
    "\n",
    "import matplotlib\n",
    "matplotlib.rc_file('matplotlibrc')\n",
    "import matplotlib.pyplot as plt\n",
    "\n",
    "%matplotlib inline\n",
    "\n",
    "matplotlib.rcParams['figure.figsize'] = [10,10]\n",
    "\n",
    "\n",
    "from astropy.io import fits\n",
    "\n",
    "import numpy as np\n",
    "import copy\n",
    "import pickle\n",
    "\n",
    "import darkhistory.physics as phys\n",
    "import darkhistory.utilities as utils\n",
    "import darkhistory.spec.spectools as spectools\n",
    "import darkhistory.spec.transferfunction as tf\n",
    "from darkhistory.spec.spectrum import Spectrum\n",
    "from darkhistory.spec.spectra import Spectra\n",
    "import darkhistory.history.tla as tla\n",
    "\n",
    "from scipy.interpolate import interp1d\n",
    "\n",
    "from tqdm import tqdm_notebook as tqdm\n",
    "\n",
    "from darkhistory.electrons.ics.ics_spectrum import ics_spec\n",
    "from darkhistory.electrons.ics.ics_engloss_spectrum import engloss_spec\n",
    "from darkhistory.electrons.ics.ics_cooling import get_ics_cooling_tf\n",
    "\n",
    "# np.set_printoptions(threshold=np.nan)"
   ]
  },
  {
   "cell_type": "markdown",
   "metadata": {},
   "source": [
    "## Load Reference Results"
   ]
  },
  {
   "cell_type": "markdown",
   "metadata": {},
   "source": [
    "These reference results start with a delta-function like injection at a redshift of $(1+z) = 31$ of 2 photons at the energy given by the file name. The high energy photons are stored in `file_photonspectrum`, low energy photons in `file_lowengphot` and low energy electrons in `file_lowengelec`. The photon energy abscissa is `file_eng` (both high and low) while the electron energy abscissa is `file_eleceng`. "
   ]
  },
  {
   "cell_type": "code",
   "execution_count": 3,
   "metadata": {},
   "outputs": [],
   "source": [
    "eng_ind = 195\n",
    "\n",
    "# Check that this matches with the input \n",
    "\n",
    "# file_name = {99: \"/Users/hongwan/Dropbox (MIT)/Photon Deposition/tf_z_3.100E+01_nstep_2049_logE_5.328E+00_xe_1.000E-04.fits\",\n",
    "#             199: \"/Users/hongwan/Dropbox (MIT)/Photon Deposition/tf_z_3.100E+01_nstep_2049_logE_7.183E+00_xe_1.000E-04.fits\",\n",
    "#             298: \"/Users/hongwan/Dropbox (MIT)/Photon Deposition/tf_z_3.100E+01_nstep_2049_logE_9.020E+00_xe_1.000E-04.fits\",\n",
    "#             299: \"/Users/hongwan/Dropbox (MIT)/Photon Deposition/tf_z_3.100E+01_nstep_2049_logE_9.038E+00_xe_1.000E-04.fits\", \n",
    "#             399: \"/Users/hongwan/Dropbox (MIT)/Photon Deposition/tf_z_3.100E+01_nstep_2049_logE_1.089E+01_xe_1.000E-04.fits\",\n",
    "#             499: \"/Users/hongwan/Dropbox (MIT)/Photon Deposition/tf_z_3.100E+01_nstep_2049_logE_1.275E+01_xe_1.000E-04.fits\",\n",
    "#             2993: \"/Users/hongwan/Dropbox (MIT)/Photon Deposition/tf_z_3.100E+01_nstep_18_logE_9.038E+00_xe_1.000E-04.fits\"}\n",
    "\n",
    "file_name = {95: \"/Users/hongwan/Dropbox (MIT)/Photon Deposition/tf_z_3.100E+01_nstep_2049_logE_3.884E+00_xe_2.746E-04.fits\",\n",
    "            195: \"/Users/hongwan/Dropbox (MIT)/Photon Deposition/tf_z_3.100E+01_nstep_2049_logE_6.077E+00_xe_2.746E-04.fits\",\n",
    "            295: \"/Users/hongwan/Dropbox (MIT)/Photon Deposition/tf_z_3.100E+01_nstep_2049_logE_8.271E+00_xe_2.746E-04.fits\",\n",
    "            395: \"/Users/hongwan/Dropbox (MIT)/Photon Deposition/tf_z_3.100E+01_nstep_2049_logE_1.046E+01_xe_2.746E-04.fits\", \n",
    "            495: \"/Users/hongwan/Dropbox (MIT)/Photon Deposition/tf_z_3.100E+01_nstep_2049_logE_1.266E+01_xe_2.746E-04.fits\"}\n",
    "\n",
    "\n",
    "file = fits.open(file_name[eng_ind])\n",
    "\n",
    "file_eng     = file[1].data['energy'][0,:]\n",
    "file_eleceng = file[1].data['eleceng'][0,:]\n",
    "file_rs      = file[1].data['redshift'][0,:]\n",
    "\n",
    "file_photonspectrum = file[1].data['photonspectrum'][0,:,:]\n",
    "file_lowengphot     = file[1].data['lowengphot'][0,:,:]\n",
    "file_lowengelec     = file[1].data['lowengelec'][0,:,:]\n",
    "file_cmbloss        = file[1].data['cmblosstable'][0,:]\n",
    "\n",
    "file_photeng_bin_bound = spectools.get_bin_bound(file_eng)\n",
    "file_eleceng_bin_bound = spectools.get_bin_bound(file_eleceng)\n",
    "\n",
    "file_photeng_bin_width = np.diff(file_photeng_bin_bound)\n",
    "file_eleceng_bin_width = np.diff(file_eleceng_bin_bound)"
   ]
  },
  {
   "cell_type": "markdown",
   "metadata": {},
   "source": [
    "Turn the data into `Spectra` objects. "
   ]
  },
  {
   "cell_type": "code",
   "execution_count": 4,
   "metadata": {},
   "outputs": [],
   "source": [
    "# Multiply by bin width, and then save as spec_type = 'N'. Consistent with Tracy's definitions.\n",
    "file_highengphot_spectra = Spectra([Spectrum(file_eng, photspec*file_photeng_bin_width, spec_type='N', rs=rs) \n",
    "    for photspec,rs in zip(file_photonspectrum, file_rs)])\n",
    "\n",
    "file_lowengphot_spectra = Spectra([Spectrum(file_eng, photspec*file_photeng_bin_width, spec_type='N', rs=rs) \n",
    "    for photspec,rs in zip(file_lowengphot, file_rs)])\n",
    "\n",
    "file_lowengelec_spectra = Spectra([Spectrum(file_eleceng, elecspec*file_eleceng_bin_width, spec_type='N', rs=rs) \n",
    "    for elecspec,rs in zip(file_lowengelec, file_rs)])"
   ]
  },
  {
   "cell_type": "code",
   "execution_count": 5,
   "metadata": {},
   "outputs": [
    {
     "name": "stdout",
     "output_type": "stream",
     "text": [
      "2387964.7046205522\n",
      "2.7526997666249775e-06\n",
      "18.494848014879356\n",
      "2.593217800729023e-11\n",
      "450.91446838846787\n"
     ]
    }
   ],
   "source": [
    "print(file_highengphot_spectra[1].toteng())\n",
    "print(file_lowengphot_spectra[1].toteng())\n",
    "print(file_lowengelec_spectra[1].toteng())\n",
    "print(file_cmbloss[1])\n",
    "\n",
    "print(file_highengphot_spectra[1].toteng() - file_highengphot_spectra[2].toteng() \n",
    "    + file_lowengphot_spectra[2].toteng() + file_lowengelec_spectra[2].toteng()\n",
    "      - file_cmbloss[2] - file_highengphot_spectra[1].toteng()*0.001\n",
    "     )"
   ]
  },
  {
   "cell_type": "markdown",
   "metadata": {},
   "source": [
    "## Photon Cooling"
   ]
  },
  {
   "cell_type": "markdown",
   "metadata": {},
   "source": [
    "Now we cool the photons that result from the high energy photon injection. Photons below 3.1 keV are considered low energy photons. For high energy photons, greater than 3.1 keV, we have transfer functions into high energy photons, low energy photons and low energy electrons. Let's load them first. These are saved as arrays of `TransFuncList` objects, for a list of 10 different levels of $x_e$."
   ]
  },
  {
   "cell_type": "code",
   "execution_count": 6,
   "metadata": {},
   "outputs": [],
   "source": [
    "user = 'hongwan'\n",
    "\n",
    "highengphot_tflist_arr_raw = pickle.load(open(\"/Users/\"+user+\"/Dropbox (MIT)/Photon Deposition/tfunclist_photspec_60eV_list_new.raw\", \"rb\"))\n",
    "lowengphot_tflist_arr_raw  = pickle.load(open(\"/Users/\"+user+\"/Dropbox (MIT)/Photon Deposition/tfunclist_lowengphotspec_60eV_list_new.raw\", \"rb\"))\n",
    "lowengelec_tflist_arr_raw  = pickle.load(open(\"/Users/\"+user+\"/Dropbox (MIT)/Photon Deposition/tfunclist_lowengelecspec_60eV_list_new.raw\", \"rb\"))\n",
    "CMB_engloss_raw = pickle.load(open(\"/Users/\"+user+\"/Dropbox (MIT)/Photon Deposition/CMB_engloss_60eV_list_new.raw\", \"rb\"))"
   ]
  },
  {
   "cell_type": "markdown",
   "metadata": {},
   "source": [
    "For checks, we may want to use just one particular set of transfer functions. If so, we should run this cell."
   ]
  },
  {
   "cell_type": "code",
   "execution_count": 7,
   "metadata": {},
   "outputs": [
    {
     "name": "stdout",
     "output_type": "stream",
     "text": [
      "[4.53978687e-05 2.74578156e-04 1.65880108e-03 9.95180187e-03\n",
      " 5.73241759e-02 2.68941421e-01 6.89974481e-01 9.30861580e-01\n",
      " 9.87871565e-01 9.97974680e-01 9.99664650e-01]\n"
     ]
    }
   ],
   "source": [
    "tflist_xe_ind = 0\n",
    "# Note that for now, highengphot_tflist_arr_raw only has one entry, and in actual fact has an ionization\n",
    "# corresponding to 0.5 + 0.5*np.tanh(4.1). But we set this to 0 here instead of 1 to access the single element\n",
    "# in the array.\n",
    "\n",
    "print(0.5 + 0.5*np.tanh([-5., -4.1, -3.2, -2.3, -1.4, -0.5, 0.4, 1.3, 2.2, 3.1, 4]))\n",
    "\n",
    "highengphot_tflist_arr = [highengphot_tflist_arr_raw[tflist_xe_ind]]\n",
    "lowengphot_tflist_arr  = [lowengphot_tflist_arr_raw[tflist_xe_ind]]\n",
    "lowengelec_tflist_arr  = [lowengelec_tflist_arr_raw[tflist_xe_ind]]\n",
    "CMB_engloss_arr = CMB_engloss_raw[0]"
   ]
  },
  {
   "cell_type": "markdown",
   "metadata": {},
   "source": [
    "## Inputs"
   ]
  },
  {
   "cell_type": "markdown",
   "metadata": {},
   "source": [
    "Next, we define the input spectrum. Currently, `eleceng` and `photeng` must be defined as follows for accuracy, although `n` can be adjusted for speed. Here, we define a delta-function like injection at `mwimp_arr[eng_ind]`, which will correspond exactly with the reference file chosen. Note that `spectools.rebin_N_arr` produces a `Spectrum` object of type `'dNdE'` by default, so `Spectrum.switch_spec_type()` is required, since all of the transfer functions evolve `Spectrum` objects of type `'N'`. "
   ]
  },
  {
   "cell_type": "code",
   "execution_count": 8,
   "metadata": {},
   "outputs": [],
   "source": [
    "# mwimp_arr = np.array(highengphot_tflist_arr[0].in_eng)\n",
    "\n",
    "# mwimp_arr = {99: 10**5.328, 199: 10**7.183, 298: 10**9.020, 299: 10**9.038, \n",
    "#             399: 10**10.89, 499: 10**12.72}\n",
    "\n",
    "mwimp = file[1].data['mwimp'][0]\n",
    "eleceng = lowengelec_tflist_arr[0].eng\n",
    "photeng = highengphot_tflist_arr[0].eng\n",
    "\n",
    "# step = np.log(photeng[1]) - np.log(photeng[0])\n",
    "# test = np.exp(np.arange(np.log(photeng[0]), np.log(9.9e-5), -step))\n",
    "# photeng = np.append(np.flipud(test[1:]), photeng)\n",
    "\n",
    "# eleceng = eleceng[1::n]\n",
    "# photeng = photeng[1::n]\n",
    "\n",
    "# phot_spec_init = spectools.rebin_N_arr(np.array([2]), \n",
    "#                                       np.array([mwimp_arr[eng_ind]]),\n",
    "#                                       photeng)\n",
    "\n",
    "fac = mwimp/file_eng[-1]\n",
    "\n",
    "phot_spec_init = spectools.rebin_N_arr(np.array([2*fac]), \n",
    "                                      np.array([file_eng[-1]]),\n",
    "                                       photeng\n",
    "                                      )\n",
    "\n",
    "phot_spec_init.switch_spec_type()"
   ]
  },
  {
   "cell_type": "code",
   "execution_count": 9,
   "metadata": {},
   "outputs": [
    {
     "name": "stdout",
     "output_type": "stream",
     "text": [
      "186637969.08346733\n",
      "1194998.7029690898\n",
      "1167589.1927135985\n",
      "1.0234753031516066\n",
      "[0.02763905 0.03030628 0.03322981 0.03643409 0.03994593 0.04379461\n",
      " 0.04801224 0.05263383 0.05769783]\n"
     ]
    }
   ],
   "source": [
    "print(10**8.271)\n",
    "print(mwimp)\n",
    "print(file_eng[-1])\n",
    "print(fac)\n",
    "print(file_highengphot_spectra[300].N[1:10])\n"
   ]
  },
  {
   "cell_type": "markdown",
   "metadata": {},
   "source": [
    "To evolve the spectrum and allow for easy processing later, the high energy photon transfer function must be square. We make the abscissa for the transfer function `photeng` by `photeng` (injected energy by output energy), and simply pad the additional rows needed with zeros. For convenience, we also use `photeng` by `photeng` for the low energy photon transfer function, and `photeng` by `eleceng` for the low energy electron transfer function. The definitions for high and low energies are listed below. "
   ]
  },
  {
   "cell_type": "code",
   "execution_count": 10,
   "metadata": {},
   "outputs": [],
   "source": [
    "#Split photeng into high and low energy. \n",
    "photeng_high = photeng[photeng > 60]\n",
    "photeng_low  = photeng[photeng <= 60]\n",
    "\n",
    "# Split eleceng into high and low energy. \n",
    "eleceng_high = eleceng[eleceng > 3000]\n",
    "eleceng_low  = eleceng[eleceng <= 3000]\n",
    "\n",
    "\n",
    "for highengphot_tflist in highengphot_tflist_arr:\n",
    "    \n",
    "#     highengphot_tflist.at_val('in_eng', photeng_high, bounds_error=False, fill_value=0)\n",
    "\n",
    "    for tf in highengphot_tflist:\n",
    "        # tf.rebin(photeng_high)\n",
    "#         tf.rebin(photeng)\n",
    "        \n",
    "        # Pad with zeros so that it becomes photeng x photeng. \n",
    "        tf._grid_vals = np.pad(tf.grid_vals, ((photeng_low.size, 0), (0, 0)), 'constant')\n",
    "        tf._N_underflow = np.pad(tf._N_underflow, (photeng_low.size, 0), 'constant')\n",
    "        tf._eng_underflow = np.pad(tf._eng_underflow, (photeng_low.size, 0), 'constant')\n",
    "        tf._in_eng = photeng\n",
    "        tf._eng = photeng\n",
    "        tf._rs = tf.rs[0]*np.ones_like(photeng)\n",
    "    \n",
    "    highengphot_tflist.eng = photeng\n",
    "    highengphot_tflist.in_eng = photeng\n",
    "    \n",
    "# lowengphot_tflist.in_eng set to photeng_high\n",
    "for lowengphot_tflist in lowengphot_tflist_arr:\n",
    "    \n",
    "#     lowengphot_tflist.at_val('in_eng', photeng_high, bounds_error=False, fill_value=0)\n",
    "    \n",
    "    for tf in lowengphot_tflist:\n",
    "#         tf.rebin(photeng)\n",
    "        # Pad with zeros so that it becomes photeng x photeng. \n",
    "        tf._grid_vals = np.pad(tf.grid_vals, ((photeng_low.size,0), (0,0)), 'constant')\n",
    "        # Photons in the low energy bins should be immediately deposited.\n",
    "        tf._grid_vals[0:photeng_low.size, 0:photeng_low.size] = np.identity(photeng_low.size)\n",
    "        tf._N_underflow = np.pad(tf._N_underflow, (photeng_low.size, 0), 'constant')\n",
    "        tf._eng_underflow = np.pad(tf._eng_underflow, (photeng_low.size, 0), 'constant')\n",
    "        tf._in_eng = photeng\n",
    "        tf._eng = photeng\n",
    "        tf._rs = tf.rs[0]*np.ones_like(photeng)\n",
    "    \n",
    "    lowengphot_tflist.eng = photeng\n",
    "    lowengphot_tflist.in_eng = photeng\n",
    "    \n",
    "# lowengelec_tflist.in_eng set to photeng_high \n",
    "for lowengelec_tflist in lowengelec_tflist_arr:\n",
    "    \n",
    "#     lowengelec_tflist.at_val('in_eng', photeng_high, bounds_error=False, fill_value=0)\n",
    "    \n",
    "    for tf in lowengelec_tflist:\n",
    "#         tf.rebin(eleceng)\n",
    "        # Pad with zeros so that it becomes photeng x eleceng. \n",
    "        tf._grid_vals = np.pad(tf.grid_vals, ((photeng_low.size,0), (0,0)), 'constant')\n",
    "        tf._N_underflow = np.pad(tf._N_underflow, (photeng_low.size, 0), 'constant')\n",
    "        tf._eng_underflow = np.pad(tf._eng_underflow, (photeng_low.size, 0), 'constant')\n",
    "        tf._in_eng = photeng\n",
    "        tf._eng = eleceng\n",
    "        tf._rs = tf.rs[0]*np.ones_like(photeng)\n",
    "\n",
    "    lowengelec_tflist.eng = eleceng\n",
    "    lowengelec_tflist.in_eng = photeng\n",
    "    \n",
    "CMB_engloss_arr = np.pad(CMB_engloss_arr, ((0,0),(photeng_low.size, 0)), 'constant')\n"
   ]
  },
  {
   "cell_type": "code",
   "execution_count": 11,
   "metadata": {},
   "outputs": [
    {
     "data": {
      "text/plain": [
       "(51, 500)"
      ]
     },
     "execution_count": 11,
     "metadata": {},
     "output_type": "execute_result"
    }
   ],
   "source": [
    "CMB_engloss_arr.shape"
   ]
  },
  {
   "cell_type": "markdown",
   "metadata": {},
   "source": [
    "## Coarsening"
   ]
  },
  {
   "cell_type": "markdown",
   "metadata": {},
   "source": [
    "We need to decide on the redshift step to use. The default redshift step in the transfer functions is $d \\log (1+z) = 0.002$, with the transfer function with this step size evaluated at (currently) 50 redshifts, from $z = 30$ to $z = 4$. If we stick with this step size, then we must interpolate the transfer function at 2049 points between $z = 30$ and $z = 4$, so that every multiplication by the transfer function advances the spectrum by a step of $d \\log (1+z) = 0.002$. \n",
    "\n",
    "However, we can coarsen the high energy photon transfer function by some factor $f$ by multiplying the transfer function matrix by itself multiple times, producing transfer functions for a redshift step of $d \\log (1+z) = f \\times 0.002$. The assumption here is that the transfer function does not change significantly over this bigger redshift step, which appears to be a good approximation in all of the cases checked so far. We will then have to interpolate the transfer function at $2049/f$ steps, and perform $2049/f$ matrix multiplications to evolve the spectrum from $z=30$ to $z=4$. \n",
    "\n",
    "This is performed using the function `TransferFuncList.coarsen()`. There are two types of coarsening: one is for a propagation matrix, where we simply multiply the transfer function by itself multiple times (here given by `coarsen_factor`). The other is for a deposition matrix. The deposition matrix is taken to be constant over the number of steps given by `coarsen_factor`, and is applied to the high energy photon spectrum that is produced by each multiplication of the transfer function to get to the next redshift. After coarsening, if the propagation transfer function is $P$, and the deposition transfer function is $D$, coarsening returns $B (1 + P + \\cdots + P^{n-1})$. \n",
    "\n",
    "After coarsening, the resulting transfer functions are then interpolated at the redshifts given in `rs_list`. "
   ]
  },
  {
   "cell_type": "code",
   "execution_count": 12,
   "metadata": {},
   "outputs": [],
   "source": [
    "# The redshift step to use will be coarsen_factor * 0.002\n",
    "coarsen_factor = 1\n",
    "# Generate the redshifts at which we want to get an interpolated value for the transfer function. \n",
    "tf_rs_arr = highengphot_tflist_arr[0].rs\n",
    "rs_list = np.exp(np.arange(np.log(tf_rs_arr[0]), \n",
    "                           np.log(tf_rs_arr[-1])-highengphot_tflist_arr[0].dlnz*coarsen_factor, \n",
    "                           -highengphot_tflist_arr[0].dlnz*coarsen_factor)\n",
    "                )\n",
    "\n",
    "rs_list[-1] = max(4., rs_list[-1])\n",
    "\n",
    "if coarsen_factor > 1:\n",
    "    for (\n",
    "        lowengphot_tflist, lowengelec_tflist, highengphot_tflist\n",
    "    )in tqdm(zip(\n",
    "        lowengphot_tflist_arr, lowengelec_tflist_arr, highengphot_tflist_arr\n",
    "    )):\n",
    "        lowengphot_tflist.coarsen(coarsen_factor, delete_tfs=False, coarsen_type='dep', prop_transfunclist=highengphot_tflist)\n",
    "        lowengelec_tflist.coarsen(coarsen_factor, delete_tfs=False, coarsen_type='dep', prop_transfunclist=highengphot_tflist)\n",
    "        highengphot_tflist.coarsen(coarsen_factor, delete_tfs=False)\n",
    "    \n",
    "lowengphot_tflist.at_val('rs',rs_list)\n",
    "lowengelec_tflist.at_val('rs',rs_list)\n",
    "highengphot_tflist.at_val('rs',rs_list)\n",
    "\n",
    "phot_spec_init.rs = rs_list[0]\n",
    "\n",
    "\n",
    "\n"
   ]
  },
  {
   "cell_type": "code",
   "execution_count": 13,
   "metadata": {},
   "outputs": [
    {
     "name": "stdout",
     "output_type": "stream",
     "text": [
      "(51,)\n",
      "(51, 500)\n",
      "(1025, 500)\n"
     ]
    }
   ],
   "source": [
    "print(tf_rs_arr.shape)\n",
    "print(CMB_engloss_arr.shape)\n",
    "CMB_engloss_interp = interp1d(tf_rs_arr, CMB_engloss_arr, axis=0)\n",
    "\n",
    "CMB_engloss = CMB_engloss_interp(rs_list)\n",
    "print(CMB_engloss.shape)\n"
   ]
  },
  {
   "cell_type": "markdown",
   "metadata": {},
   "source": [
    "## Transfer Function Checks"
   ]
  },
  {
   "cell_type": "markdown",
   "metadata": {},
   "source": [
    "Let's do the check for the transfer functions first. We'll just use the first `tflist` in each list as a check.\n",
    "\n",
    "Now we evolve the initial photon spectrum across all of the redshifts specified in `rs_list`, using the coarsened transfer functions. This is performed by calling the function `spectools.evolve()`, which takes as arguments the initial spectrum, the list of propagation transfer functions, as well as a list of deposition transfer functions. We want to use `evolve_type='prop'` for the high energy photons (just propagation) and `evolve_type='dep'` for low energy electrons and photons, in which case we must specify both propagation and deposition transfer matrices. `save_steps` determines whether the output is a single `Spectrum` at the end of the whole propagation, or a `Spectra` object, which records the spectrum at each intermediate step."
   ]
  },
  {
   "cell_type": "code",
   "execution_count": 14,
   "metadata": {},
   "outputs": [],
   "source": [
    "\n",
    "highengphot_spectra = spectools.evolve(\n",
    "    phot_spec_init, highengphot_tflist_arr[0], evolve_type='prop', save_steps=True\n",
    ")\n",
    "lowengphot_spectra  = spectools.evolve(\n",
    "    phot_spec_init, lowengphot_tflist_arr[0], evolve_type='dep',\n",
    "    prop_tflist=highengphot_tflist_arr[0], save_steps=True\n",
    ")\n",
    "lowengelec_spectra = spectools.evolve(\n",
    "    phot_spec_init, lowengelec_tflist_arr[0],\n",
    "    evolve_type='dep', prop_tflist=highengphot_tflist_arr[0], save_steps=True\n",
    ")"
   ]
  },
  {
   "cell_type": "markdown",
   "metadata": {},
   "source": [
    "We can now obtain the energy loss from upscattered CMB photons using `CMB_engloss`. "
   ]
  },
  {
   "cell_type": "code",
   "execution_count": 15,
   "metadata": {},
   "outputs": [
    {
     "name": "stdout",
     "output_type": "stream",
     "text": [
      "(1025, 500)\n",
      "1025\n"
     ]
    }
   ],
   "source": [
    "print(CMB_engloss.shape)\n",
    "cmbloss = highengphot_spectra.integrate_each_spec(CMB_engloss)\n",
    "print(cmbloss.size)\n",
    "\n"
   ]
  },
  {
   "cell_type": "markdown",
   "metadata": {},
   "source": [
    "Here, we process the data from our reference files in order to make the comparison with our result. First, we need to rebin the reference file spectra into the same energy abscissa as our output from above. "
   ]
  },
  {
   "cell_type": "code",
   "execution_count": 16,
   "metadata": {},
   "outputs": [],
   "source": [
    "file_highengphot_spectra.rebin(highengphot_spectra.eng)\n",
    "# file_highengphot_spectra.switch_spec_type()\n",
    "file_lowengphot_spectra.rebin(lowengphot_spectra.eng)\n",
    "# file_lowengphot_spectra.switch_spec_type()\n",
    "file_lowengelec_spectra.rebin(lowengelec_spectra.eng)\n",
    "# file_lowengelec_spectra.switch_spec_type()"
   ]
  },
  {
   "cell_type": "markdown",
   "metadata": {},
   "source": [
    "Because we have coarsened our deposition transfer function, the output in `lowengphot_spectra` and `lowengelec_spectra` is actually equivalent to the total deposition from a number of steps given by `coarsen_factor` in the original file. We have to add up all of the deposited low energy electrons and photons in the reference file in order to make the correct comparison."
   ]
  },
  {
   "cell_type": "code",
   "execution_count": 17,
   "metadata": {},
   "outputs": [],
   "source": [
    "combined_file_lowengphot_spectra = Spectra([], spec_type='N')\n",
    "combined_file_lowengelec_spectra = Spectra([], spec_type='N')\n",
    "combined_file_cmbloss = np.zeros(np.floor_divide(2049,2*coarsen_factor))\n",
    "\n",
    "# for i in np.arange(np.floor_divide(2049,2*coarsen_factor)-1):\n",
    "#     mask = np.zeros(2049)\n",
    "#     mask[2*i*coarsen_factor+1:(2*i+2)*coarsen_factor+1] = 1\n",
    "#     out_spec_phot = file_lowengphot_spectra.sum_specs(mask)\n",
    "#     out_spec_elec = file_lowengelec_spectra.sum_specs(mask)\n",
    "#     combined_file_cmbloss[i+1] = np.sum(file_cmbloss[2*i*coarsen_factor+1:(2*i+2)*coarsen_factor+1])\n",
    "#     out_spec_phot.rs = file_lowengphot_spectra[(2*i+2)*coarsen_factor].rs\n",
    "#     out_spec_elec.rs = file_lowengelec_spectra[(2*i+2)*coarsen_factor].rs\n",
    "#     combined_file_lowengphot_spectra.append(out_spec_phot)\n",
    "#     combined_file_lowengelec_spectra.append(out_spec_elec)\n",
    "\n",
    "i = 1\n",
    "while i < 2049:\n",
    "    mask = np.zeros(2049)\n",
    "    mask[i:i+2] = 1\n",
    "    out_spec_phot = file_lowengphot_spectra.sum_specs(mask)\n",
    "    out_spec_elec = file_lowengelec_spectra.sum_specs(mask)\n",
    "    combined_file_cmbloss[(i-1)//2] = np.sum(file_cmbloss[i:i+2])\n",
    "    out_spec_phot.rs = file_lowengphot_spectra[i+1].rs\n",
    "    out_spec_elec.rs = file_lowengelec_spectra[i+1].rs\n",
    "    combined_file_lowengphot_spectra.append(out_spec_phot)\n",
    "    combined_file_lowengelec_spectra.append(out_spec_elec)\n",
    "    i += 2"
   ]
  },
  {
   "cell_type": "code",
   "execution_count": 18,
   "metadata": {},
   "outputs": [
    {
     "data": {
      "text/plain": [
       "[100000.0, 2000000.0, 1e-38, 1]"
      ]
     },
     "execution_count": 18,
     "metadata": {},
     "output_type": "execute_result"
    },
    {
     "data": {
      "image/png": "[encoded data removed]",
      "text/plain": [
       "<Figure size 720x720 with 1 Axes>"
      ]
     },
     "metadata": {},
     "output_type": "display_data"
    }
   ],
   "source": [
    "plt.figure()\n",
    "\n",
    "rs_plot = 29.01\n",
    "\n",
    "ax = plt.gca()\n",
    "\n",
    "tf_plot, = highengphot_spectra.plot(ax, fac=1, ind=rs_plot, indtype='rs')\n",
    "# tf_plot, = highengphot_spectra.plot(ax, ind=20)\n",
    "file_plot, = file_highengphot_spectra.plot(ax, ind=rs_plot, indtype='rs')\n",
    "# file_plot, = file_highengphot_spectra.plot(ax, ind=20)\n",
    "\n",
    "plt.title('High Energy Photon Spectrum\\n' + r'$m_\\chi$ ='\n",
    "          +'{:.2e}'.format(mwimp)\n",
    "          +r' eV, $1+z$ = '+'{0:.2f}'.format(rs_plot)\n",
    "         )\n",
    "\n",
    "ax.legend((tf_plot, file_plot), ('Transfer Function', 'Reference File'))\n",
    "ax.set_xscale('log')\n",
    "# ax.set_yscale('log')\n",
    "\n",
    "plt.xlabel('Secondary Photon Energy [eV]')\n",
    "plt.ylabel('Number of Photons in Each Bin')\n",
    "plt.axis([1e5, 2e6, 1e-38, 1])"
   ]
  },
  {
   "cell_type": "code",
   "execution_count": 27,
   "metadata": {},
   "outputs": [
    {
     "name": "stdout",
     "output_type": "stream",
     "text": [
      "6120.176348324106\n",
      "2342232.0076051443\n",
      "6117.890398956585\n",
      "2340345.2096319296\n"
     ]
    }
   ],
   "source": [
    "i = 10\n",
    "print(highengphot_spectra[i].totN())\n",
    "print(highengphot_spectra[i].toteng())\n",
    "print(file_highengphot_spectra[2*i].totN())\n",
    "print(file_highengphot_spectra[2*i].toteng())"
   ]
  },
  {
   "cell_type": "code",
   "execution_count": 20,
   "metadata": {},
   "outputs": [
    {
     "name": "stdout",
     "output_type": "stream",
     "text": [
      "30.325447286587586\n"
     ]
    },
    {
     "data": {
      "text/plain": [
       "[0.0001, 10000.0, 1e-44, 30]"
      ]
     },
     "execution_count": 20,
     "metadata": {},
     "output_type": "execute_result"
    },
    {
     "data": {
      "image/png": "[encoded data removed]",
      "text/plain": [
       "<Figure size 720x720 with 1 Axes>"
      ]
     },
     "metadata": {},
     "output_type": "display_data"
    }
   ],
   "source": [
    "plt.figure()\n",
    "\n",
    "rs_plot = 4.01\n",
    "\n",
    "ax = plt.gca()\n",
    "print(lowengphot_spectra.rs[11])\n",
    "tf_plot, = lowengphot_spectra.plot(ax, ind=rs_plot, fac=1, indtype='rs')\n",
    "file_plot, = combined_file_lowengphot_spectra.plot(ax, ind=rs_plot, indtype='rs')\n",
    "# tf_plot, = lowengphot_spectra.plot(ax, ind=20)\n",
    "# file_plot, = combined_file_lowengphot_spectra.plot(ax, ind=20)\n",
    "\n",
    "\n",
    "ax.set_xscale('log')\n",
    "ax.set_yscale('log')\n",
    "\n",
    "plt.title('Low Energy Photon Spectrum\\n' + r'$m_\\chi$ ='\n",
    "          +'{:.2e}'.format(mwimp)\n",
    "          +r' eV, $1+z$ = '+'{0:.2f}'.format(rs_plot)\n",
    "         )\n",
    "\n",
    "ax.legend((tf_plot, file_plot), ('Transfer Function', 'Reference File'))\n",
    "\n",
    "\n",
    "plt.xlabel('Secondary Photon Energy [eV]')\n",
    "plt.ylabel('Number of Photons in Each Bin')\n",
    "plt.axis([1e-4, 1e4, 1e-44, 30])"
   ]
  },
  {
   "cell_type": "code",
   "execution_count": 21,
   "metadata": {},
   "outputs": [
    {
     "name": "stdout",
     "output_type": "stream",
     "text": [
      "(1024,)\n",
      "(1024,)\n",
      "204.0705321191639\n",
      "0.6320171220732584\n",
      "182.58971186121408\n",
      "0.5509172785390845\n"
     ]
    }
   ],
   "source": [
    "i = 1023\n",
    "print(lowengphot_spectra.rs.shape)\n",
    "print(combined_file_lowengphot_spectra.rs.shape)\n",
    "print(lowengphot_spectra[i].totN())\n",
    "print(lowengphot_spectra[i].toteng())\n",
    "print(combined_file_lowengphot_spectra[i].totN())\n",
    "print(combined_file_lowengphot_spectra[i].toteng())"
   ]
  },
  {
   "cell_type": "code",
   "execution_count": 22,
   "metadata": {},
   "outputs": [
    {
     "data": {
      "text/plain": [
       "[1, 4000.0, 1e-15, 0.0011]"
      ]
     },
     "execution_count": 22,
     "metadata": {},
     "output_type": "execute_result"
    },
    {
     "data": {
      "image/png": "[encoded data removed]",
      "text/plain": [
       "<Figure size 720x720 with 1 Axes>"
      ]
     },
     "metadata": {},
     "output_type": "display_data"
    }
   ],
   "source": [
    "plt.figure()\n",
    "\n",
    "rs_plot = 4.01\n",
    "\n",
    "ax = plt.gca()\n",
    "tf_plot, = lowengelec_spectra.plot(ax, ind=rs_plot, fac=1, indtype='rs')\n",
    "file_plot, = combined_file_lowengelec_spectra.plot(ax, ind=rs_plot, indtype='rs')\n",
    "# tf_plot, = lowengelec_spectra.plot(ax, ind=420)\n",
    "# file_plot, = combined_file_lowengelec_spectra.plot(ax, ind=419)\n",
    "\n",
    "ax.set_xscale('log')\n",
    "# ax.set_yscale('log')\n",
    "plt.title('Low Energy Electron Spectrum\\n' + r'$m_\\chi$ ='\n",
    "          +'{:.2e}'.format(mwimp)\n",
    "          +r' eV, $1+z$ = '+'{0:.2f}'.format(rs_plot)\n",
    "         )\n",
    "\n",
    "ax.legend((tf_plot, file_plot), ('Transfer Function', 'Reference File'))\n",
    "\n",
    "plt.xlabel('Secondary Electron Energy [eV]')\n",
    "plt.ylabel('Number of Electrons in Each Bin')\n",
    "plt.axis([1, 4e3, 1e-15, .0011])"
   ]
  },
  {
   "cell_type": "code",
   "execution_count": 23,
   "metadata": {},
   "outputs": [
    {
     "name": "stdout",
     "output_type": "stream",
     "text": [
      "0.03534117005929569\n",
      "1.2724004445833657\n",
      "0.032767607167658565\n",
      "1.1768164190630022\n"
     ]
    }
   ],
   "source": [
    "i = 1023\n",
    "print(lowengelec_spectra[i].totN())\n",
    "print(lowengelec_spectra[i].toteng())\n",
    "print(combined_file_lowengelec_spectra[i].totN())\n",
    "print(combined_file_lowengelec_spectra[i].toteng())"
   ]
  },
  {
   "cell_type": "markdown",
   "metadata": {},
   "source": [
    "For keV photons, the discrepancies between the low energy photon and low energy electron spectra are large. This is because of the discontinuous behavior of photons above and below the 3 keV threshold: photons above the 3 keV threshold in the high energy code are made to photoionize, producing a secondary electron spectrum that has energy $E_\\gamma - $ 13.6 eV, and then this is put through the electrons module to produce ICS and a resolved electron spectrum. Photons that are below 3 keV are simply saved. However, once they are processed in the low energy code, and CMB losses from ICS are taken into account, the effects should be similar."
   ]
  },
  {
   "cell_type": "code",
   "execution_count": 24,
   "metadata": {},
   "outputs": [
    {
     "data": {
      "text/plain": [
       "[4, 35, 1e-14, 5e-11]"
      ]
     },
     "execution_count": 24,
     "metadata": {},
     "output_type": "execute_result"
    },
    {
     "data": {
      "image/png": "[encoded data removed]",
      "text/plain": [
       "<Figure size 720x720 with 1 Axes>"
      ]
     },
     "metadata": {},
     "output_type": "display_data"
    }
   ],
   "source": [
    "plt.figure()\n",
    "\n",
    "ax = plt.gca()\n",
    "\n",
    "tf_plot = plt.plot(rs_list, cmbloss)\n",
    "file_plot = plt.plot(rs_list[1:-1], combined_file_cmbloss[1:])\n",
    "\n",
    "ax.set_xscale('log')\n",
    "ax.set_yscale('log')\n",
    "plt.axis([4,35, 1e-14, 5e-11])"
   ]
  },
  {
   "cell_type": "code",
   "execution_count": 25,
   "metadata": {},
   "outputs": [
    {
     "name": "stdout",
     "output_type": "stream",
     "text": [
      "[[1.02978258e+00 1.02978258e+00]\n",
      " [1.09203515e+00 1.09203515e+00]\n",
      " [1.15805103e+00 1.15805103e+00]\n",
      " [1.22805771e+00 1.22805771e+00]\n",
      " [1.30229645e+00 1.30229645e+00]\n",
      " [1.38102307e+00 1.38102307e+00]\n",
      " [1.46450889e+00 1.46450889e+00]\n",
      " [1.55304161e+00 1.55304161e+00]\n",
      " [1.64692632e+00 1.64692632e+00]\n",
      " [1.74648657e+00 1.74648657e+00]\n",
      " [1.85206545e+00 1.85206545e+00]\n",
      " [1.96402679e+00 1.96402679e+00]\n",
      " [2.08275644e+00 2.08275644e+00]\n",
      " [2.20866356e+00 2.20866356e+00]\n",
      " [2.34218203e+00 2.34218203e+00]\n",
      " [2.48377198e+00 2.48377198e+00]\n",
      " [2.63392135e+00 2.63392135e+00]\n",
      " [2.79314757e+00 2.79314757e+00]\n",
      " [2.96199936e+00 2.96199936e+00]\n",
      " [3.14105861e+00 3.14105861e+00]\n",
      " [3.33094237e+00 3.33094237e+00]\n",
      " [3.53230501e+00 3.53230501e+00]\n",
      " [3.74584046e+00 3.74584046e+00]\n",
      " [3.97228459e+00 3.97228459e+00]\n",
      " [4.21241775e+00 4.21241775e+00]\n",
      " [4.46706748e+00 4.46706748e+00]\n",
      " [4.73711134e+00 4.73711134e+00]\n",
      " [5.02347992e+00 5.02347992e+00]\n",
      " [5.32716011e+00 5.32716011e+00]\n",
      " [5.64919842e+00 5.64919842e+00]\n",
      " [5.99070464e+00 5.99070464e+00]\n",
      " [6.35285564e+00 6.35285564e+00]\n",
      " [6.73689946e+00 6.73689946e+00]\n",
      " [7.14415954e+00 7.14415954e+00]\n",
      " [7.57603938e+00 7.57603938e+00]\n",
      " [8.03402729e+00 8.03402729e+00]\n",
      " [8.51970155e+00 8.51970155e+00]\n",
      " [9.03473587e+00 9.03473587e+00]\n",
      " [9.58090512e+00 9.58090512e+00]\n",
      " [1.01600915e+01 1.01600915e+01]\n",
      " [1.07742909e+01 1.07742909e+01]\n",
      " [1.14256200e+01 1.14256200e+01]\n",
      " [1.21163234e+01 1.21163234e+01]\n",
      " [1.28487812e+01 1.28487812e+01]\n",
      " [1.36255177e+01 1.36255177e+01]\n",
      " [1.44492096e+01 1.44492096e+01]\n",
      " [1.53226955e+01 1.53226955e+01]\n",
      " [1.62489855e+01 1.62489855e+01]\n",
      " [1.72312716e+01 1.72312716e+01]\n",
      " [1.82729391e+01 1.82729391e+01]\n",
      " [1.93775777e+01 1.93775777e+01]\n",
      " [2.05489940e+01 2.05489940e+01]\n",
      " [2.17912250e+01 2.17912250e+01]\n",
      " [2.31085515e+01 2.31085515e+01]\n",
      " [2.45055132e+01 2.45055132e+01]\n",
      " [2.59869243e+01 2.59869243e+01]\n",
      " [2.75578899e+01 2.75578899e+01]\n",
      " [2.92238237e+01 2.92238237e+01]\n",
      " [3.09904668e+01 3.09904668e+01]\n",
      " [3.28639073e+01 3.28639073e+01]\n",
      " [3.48506014e+01 3.48506014e+01]\n",
      " [3.69573953e+01 3.69573953e+01]\n",
      " [3.91915495e+01 3.91915495e+01]\n",
      " [4.15607631e+01 4.15607631e+01]\n",
      " [4.40732008e+01 4.40732008e+01]\n",
      " [4.67375208e+01 4.67375208e+01]\n",
      " [4.95629046e+01 4.95629046e+01]\n",
      " [5.25590890e+01 5.25590890e+01]\n",
      " [5.57363992e+01 5.57363992e+01]\n",
      " [5.91057846e+01 5.91057846e+01]\n",
      " [6.26788567e+01 6.26788567e+01]\n",
      " [6.64679286e+01 6.64679286e+01]\n",
      " [7.04860581e+01 7.04860581e+01]\n",
      " [7.47470922e+01 7.47470922e+01]\n",
      " [7.92657150e+01 7.92657150e+01]\n",
      " [8.40574983e+01 8.40574983e+01]\n",
      " [8.91389552e+01 8.91389552e+01]\n",
      " [9.45275971e+01 9.45275971e+01]\n",
      " [1.00241994e+02 1.00241994e+02]\n",
      " [1.06301839e+02 1.06301839e+02]\n",
      " [1.12728014e+02 1.12728014e+02]\n",
      " [1.19542665e+02 1.19542665e+02]\n",
      " [1.26769277e+02 1.26769277e+02]\n",
      " [1.34432753e+02 1.34432753e+02]\n",
      " [1.42559502e+02 1.42559502e+02]\n",
      " [1.51177532e+02 1.51177532e+02]\n",
      " [1.60316539e+02 1.60316539e+02]\n",
      " [1.70008019e+02 1.70008019e+02]\n",
      " [1.80285371e+02 1.80285371e+02]\n",
      " [1.91184010e+02 1.91184010e+02]\n",
      " [2.02741495e+02 2.02741495e+02]\n",
      " [2.14997655e+02 2.14997655e+02]\n",
      " [2.27994727e+02 2.27994727e+02]\n",
      " [2.41777499e+02 2.41777499e+02]\n",
      " [2.56393470e+02 2.56393470e+02]\n",
      " [2.71893008e+02 2.71893008e+02]\n",
      " [2.88329526e+02 2.88329526e+02]\n",
      " [3.05759667e+02 3.05759667e+02]\n",
      " [3.24243498e+02 3.24243498e+02]\n",
      " [3.43844716e+02 3.43844716e+02]\n",
      " [3.64630870e+02 3.64630870e+02]\n",
      " [3.86673592e+02 3.86673592e+02]\n",
      " [4.10048844e+02 4.10048844e+02]\n",
      " [4.34837180e+02 4.34837180e+02]\n",
      " [4.61124025e+02 4.61124025e+02]\n",
      " [4.88999966e+02 4.88999966e+02]\n",
      " [5.18561068e+02 5.18561068e+02]\n",
      " [5.49909202e+02 5.49909202e+02]\n",
      " [5.83152398e+02 5.83152398e+02]\n",
      " [6.18405217e+02 6.18405217e+02]\n",
      " [6.55789145e+02 6.55789145e+02]\n",
      " [6.95433012e+02 6.95433012e+02]\n",
      " [7.37473436e+02 7.37473436e+02]\n",
      " [7.82055294e+02 7.82055294e+02]\n",
      " [8.29332222e+02 8.29332222e+02]\n",
      " [8.79467142e+02 8.79467142e+02]\n",
      " [9.32632826e+02 9.32632826e+02]\n",
      " [9.89012490e+02 9.89012490e+02]\n",
      " [1.04880043e+03 1.04880043e+03]\n",
      " [1.11220267e+03 1.11220267e+03]\n",
      " [1.17943772e+03 1.17943772e+03]\n",
      " [1.25073727e+03 1.25073727e+03]\n",
      " [1.32634704e+03 1.32634704e+03]\n",
      " [1.40652757e+03 1.40652757e+03]\n",
      " [1.49155519e+03 1.49155519e+03]\n",
      " [1.58172292e+03 1.58172292e+03]\n",
      " [1.67734148e+03 1.67734148e+03]\n",
      " [1.77874039e+03 1.77874039e+03]\n",
      " [1.88626908e+03 1.88626908e+03]\n",
      " [2.00029811e+03 2.00029811e+03]\n",
      " [2.12122044e+03 2.12122044e+03]\n",
      " [2.24945278e+03 2.24945278e+03]\n",
      " [2.38543705e+03 2.38543705e+03]\n",
      " [2.52964186e+03 2.52964186e+03]\n",
      " [2.68256416e+03 2.68256416e+03]\n",
      " [2.84473095e+03 2.84473095e+03]\n",
      " [3.01670106e+03 3.01670106e+03]\n",
      " [3.19906714e+03 3.19906714e+03]\n",
      " [3.39245765e+03 3.39245765e+03]\n",
      " [3.59753902e+03 3.59753902e+03]\n",
      " [3.81501801e+03 3.81501801e+03]\n",
      " [4.04564407e+03 4.04564407e+03]\n",
      " [4.29021197e+03 4.29021197e+03]\n",
      " [4.54956453e+03 4.54956453e+03]\n",
      " [4.82459551e+03 4.82459551e+03]\n",
      " [5.11625270e+03 5.11625270e+03]\n",
      " [5.42554120e+03 5.42554120e+03]\n",
      " [5.75352686e+03 5.75352686e+03]\n",
      " [6.10133995e+03 6.10133995e+03]\n",
      " [6.47017910e+03 6.47017910e+03]\n",
      " [6.86131537e+03 6.86131537e+03]\n",
      " [7.27609667e+03 7.27609667e+03]\n",
      " [7.71595239e+03 7.71595239e+03]\n",
      " [8.18239834e+03 8.18239834e+03]\n",
      " [8.67704196e+03 8.67704196e+03]\n",
      " [9.20158784e+03 9.20158784e+03]\n",
      " [9.75784365e+03 9.75784365e+03]\n",
      " [1.03477263e+04 1.03477263e+04]\n",
      " [1.09732687e+04 1.09732687e+04]\n",
      " [1.16366264e+04 1.16366264e+04]\n",
      " [1.23400856e+04 1.23400856e+04]\n",
      " [1.30860703e+04 1.30860703e+04]\n",
      " [1.38771515e+04 1.38771515e+04]\n",
      " [1.47160552e+04 1.47160552e+04]\n",
      " [1.56056724e+04 1.56056724e+04]\n",
      " [1.65490690e+04 1.65490690e+04]\n",
      " [1.75494958e+04 1.75494958e+04]\n",
      " [1.86104007e+04 1.86104007e+04]\n",
      " [1.97354395e+04 1.97354395e+04]\n",
      " [2.09284894e+04 2.09284894e+04]\n",
      " [2.21936616e+04 2.21936616e+04]\n",
      " [2.35353163e+04 2.35353163e+04]\n",
      " [2.49580769e+04 2.49580769e+04]\n",
      " [2.64668464e+04 2.64668464e+04]\n",
      " [2.80668243e+04 2.80668243e+04]\n",
      " [2.97635243e+04 2.97635243e+04]\n",
      " [3.15627935e+04 3.15627935e+04]\n",
      " [3.34708324e+04 3.34708324e+04]\n",
      " [3.54942163e+04 3.54942163e+04]\n",
      " [3.76399182e+04 3.76399182e+04]\n",
      " [3.99153324e+04 3.99153324e+04]\n",
      " [4.23283002e+04 4.23283002e+04]\n",
      " [4.48871372e+04 4.48871372e+04]\n",
      " [4.76006614e+04 4.76006614e+04]\n",
      " [5.04782239e+04 5.04782239e+04]\n",
      " [5.35297413e+04 5.35297413e+04]\n",
      " [5.67657295e+04 5.67657295e+04]\n",
      " [6.01973402e+04 6.01973402e+04]\n",
      " [6.38363991e+04 6.38363991e+04]\n",
      " [6.76954470e+04 6.76954470e+04]\n",
      " [7.17877827e+04 7.17877827e+04]\n",
      " [7.61275088e+04 7.61275088e+04]\n",
      " [8.07295808e+04 8.07295808e+04]\n",
      " [8.56098579e+04 8.56098579e+04]\n",
      " [9.07851583e+04 9.07851583e+04]\n",
      " [9.62733168e+04 9.62733168e+04]\n",
      " [1.02093246e+05 1.02093246e+05]\n",
      " [1.08265003e+05 1.08265003e+05]\n",
      " [1.14809856e+05 1.14809856e+05]\n",
      " [1.21750359e+05 1.21750359e+05]\n",
      " [1.29110430e+05 1.29110430e+05]\n",
      " [1.36915434e+05 1.36915434e+05]\n",
      " [1.45192267e+05 1.45192267e+05]\n",
      " [1.53969453e+05 1.53969453e+05]\n",
      " [1.63277238e+05 1.63277238e+05]\n",
      " [1.73147699e+05 1.73147699e+05]\n",
      " [1.83614850e+05 1.83614850e+05]\n",
      " [1.94714764e+05 1.94714764e+05]\n",
      " [2.06485691e+05 2.06485691e+05]\n",
      " [2.18968196e+05 2.18968196e+05]\n",
      " [2.32205295e+05 2.32205295e+05]\n",
      " [2.46242605e+05 2.46242605e+05]\n",
      " [2.61128501e+05 2.61128501e+05]\n",
      " [2.76914282e+05 2.76914282e+05]\n",
      " [2.93654347e+05 2.93654347e+05]\n",
      " [3.11406385e+05 3.11406385e+05]\n",
      " [3.30231572e+05 3.30231572e+05]\n",
      " [3.50194782e+05 3.50194782e+05]\n",
      " [3.71364812e+05 3.71364812e+05]\n",
      " [3.93814615e+05 3.93814615e+05]\n",
      " [4.17621557e+05 4.17621557e+05]\n",
      " [4.42867680e+05 4.42867680e+05]\n",
      " [4.69639985e+05 4.69639985e+05]\n",
      " [4.98030734e+05 4.98030734e+05]\n",
      " [5.28137766e+05 5.28137766e+05]\n",
      " [5.60064832e+05 5.60064832e+05]\n",
      " [5.93921957e+05 5.93921957e+05]\n",
      " [6.29825820e+05 6.29825820e+05]\n",
      " [6.67900148e+05 6.67900148e+05]\n",
      " [7.08276151e+05 7.08276151e+05]\n",
      " [7.51092970e+05 7.51092970e+05]\n",
      " [7.96498159e+05 7.96498159e+05]\n",
      " [8.44648189e+05 8.44648189e+05]\n",
      " [8.95708992e+05 8.95708992e+05]\n",
      " [9.49856531e+05 9.49856531e+05]\n",
      " [1.00727741e+06 1.00727741e+06]\n",
      " [1.06816949e+06 1.06816949e+06]\n",
      " [1.13274264e+06 1.13274264e+06]\n",
      " [1.20121938e+06 1.20121938e+06]\n",
      " [1.27383568e+06 1.27383568e+06]\n",
      " [1.35084179e+06 1.35084179e+06]\n",
      " [1.43250308e+06 1.43250308e+06]\n",
      " [1.51910098e+06 1.51910098e+06]\n",
      " [1.61093391e+06 1.61093391e+06]\n",
      " [1.70831834e+06 1.70831834e+06]\n",
      " [1.81158986e+06 1.81158986e+06]\n",
      " [1.92110437e+06 1.92110437e+06]\n",
      " [2.03723927e+06 2.03723927e+06]\n",
      " [2.16039478e+06 2.16039478e+06]\n",
      " [2.29099530e+06 2.29099530e+06]\n",
      " [2.42949090e+06 2.42949090e+06]\n",
      " [2.57635886e+06 2.57635886e+06]\n",
      " [2.73210530e+06 2.73210530e+06]\n",
      " [2.89726696e+06 2.89726696e+06]\n",
      " [3.07241299e+06 3.07241299e+06]\n",
      " [3.25814697e+06 3.25814697e+06]\n",
      " [3.45510898e+06 3.45510898e+06]\n",
      " [3.66397776e+06 3.66397776e+06]\n",
      " [3.88547311e+06 3.88547311e+06]\n",
      " [4.12035833e+06 4.12035833e+06]\n",
      " [4.36944287e+06 4.36944287e+06]\n",
      " [4.63358511e+06 4.63358511e+06]\n",
      " [4.91369532e+06 4.91369532e+06]\n",
      " [5.21073879e+06 5.21073879e+06]\n",
      " [5.52573917e+06 5.52573917e+06]\n",
      " [5.85978202e+06 5.85978202e+06]\n",
      " [6.21401847e+06 6.21401847e+06]\n",
      " [6.58966927e+06 6.58966927e+06]\n",
      " [6.98802898e+06 6.98802898e+06]\n",
      " [7.41047039e+06 7.41047039e+06]\n",
      " [7.85844929e+06 7.85844929e+06]\n",
      " [8.33350949e+06 8.33350949e+06]\n",
      " [8.83728809e+06 8.83728809e+06]\n",
      " [9.37152120e+06 9.37152120e+06]\n",
      " [9.93804985e+06 9.93804985e+06]\n",
      " [1.05388264e+07 1.05388264e+07]\n",
      " [1.11759211e+07 1.11759211e+07]\n",
      " [1.18515297e+07 1.18515297e+07]\n",
      " [1.25679802e+07 1.25679802e+07]\n",
      " [1.33277417e+07 1.33277417e+07]\n",
      " [1.41334324e+07 1.41334324e+07]\n",
      " [1.49878288e+07 1.49878288e+07]\n",
      " [1.58938753e+07 1.58938753e+07]\n",
      " [1.68546944e+07 1.68546944e+07]\n",
      " [1.78735970e+07 1.78735970e+07]\n",
      " [1.89540944e+07 1.89540944e+07]\n",
      " [2.00999103e+07 2.00999103e+07]\n",
      " [2.13149931e+07 2.13149931e+07]\n",
      " [2.26035304e+07 2.26035304e+07]\n",
      " [2.39699625e+07 2.39699625e+07]\n",
      " [2.54189984e+07 2.54189984e+07]\n",
      " [2.69556317e+07 2.69556317e+07]\n",
      " [2.85851577e+07 2.85851577e+07]\n",
      " [3.03131921e+07 3.03131921e+07]\n",
      " [3.21456898e+07 3.21456898e+07]\n",
      " [3.40889661e+07 3.40889661e+07]\n",
      " [3.61497175e+07 3.61497175e+07]\n",
      " [3.83350458e+07 3.83350458e+07]\n",
      " [4.06524820e+07 4.06524820e+07]\n",
      " [4.31100121e+07 4.31100121e+07]\n",
      " [4.57161052e+07 4.57161052e+07]\n",
      " [4.84797423e+07 4.84797423e+07]\n",
      " [5.14104472e+07 5.14104472e+07]\n",
      " [5.45183195e+07 5.45183195e+07]\n",
      " [5.78140694e+07 5.78140694e+07]\n",
      " [6.13090545e+07 6.13090545e+07]\n",
      " [6.50153189e+07 6.50153189e+07]\n",
      " [6.89456351e+07 6.89456351e+07]\n",
      " [7.31135473e+07 7.31135473e+07]\n",
      " [7.75334188e+07 7.75334188e+07]\n",
      " [8.22204810e+07 8.22204810e+07]\n",
      " [8.71908863e+07 8.71908863e+07]\n",
      " [9.24617632e+07 9.24617632e+07]\n",
      " [9.80512760e+07 9.80512760e+07]\n",
      " [1.03978687e+08 1.03978687e+08]\n",
      " [1.10264423e+08 1.10264423e+08]\n",
      " [1.16930145e+08 1.16930145e+08]\n",
      " [1.23998824e+08 1.23998824e+08]\n",
      " [1.31494820e+08 1.31494820e+08]\n",
      " [1.39443965e+08 1.39443965e+08]\n",
      " [1.47873653e+08 1.47873653e+08]\n",
      " [1.56812934e+08 1.56812934e+08]\n",
      " [1.66292614e+08 1.66292614e+08]\n",
      " [1.76345361e+08 1.76345361e+08]\n",
      " [1.87005818e+08 1.87005818e+08]\n",
      " [1.98310723e+08 1.98310723e+08]\n",
      " [2.10299033e+08 2.10299033e+08]\n",
      " [2.23012063e+08 2.23012063e+08]\n",
      " [2.36493623e+08 2.36493623e+08]\n",
      " [2.50790172e+08 2.50790172e+08]\n",
      " [2.65950978e+08 2.65950978e+08]\n",
      " [2.82028288e+08 2.82028288e+08]\n",
      " [2.99077506e+08 2.99077506e+08]\n",
      " [3.17157385e+08 3.17157385e+08]\n",
      " [3.36330233e+08 3.36330233e+08]\n",
      " [3.56662120e+08 3.56662120e+08]\n",
      " [3.78223114e+08 3.78223114e+08]\n",
      " [4.01087516e+08 4.01087516e+08]\n",
      " [4.25334121e+08 4.25334121e+08]\n",
      " [4.51046485e+08 4.51046485e+08]\n",
      " [4.78313217e+08 4.78313217e+08]\n",
      " [5.07228282e+08 5.07228282e+08]\n",
      " [5.37891324e+08 5.37891324e+08]\n",
      " [5.70408014e+08 5.70408014e+08]\n",
      " [6.04890407e+08 6.04890407e+08]\n",
      " [6.41457336e+08 6.41457336e+08]\n",
      " [6.80234814e+08 6.80234814e+08]\n",
      " [7.21356475e+08 7.21356475e+08]\n",
      " [7.64964028e+08 7.64964028e+08]\n",
      " [8.11207752e+08 8.11207752e+08]\n",
      " [8.60247008e+08 8.60247008e+08]\n",
      " [9.12250794e+08 9.12250794e+08]\n",
      " [9.67398320e+08 9.67398320e+08]\n",
      " [1.02587963e+09 1.02587963e+09]\n",
      " [1.08789627e+09 1.08789627e+09]\n",
      " [1.15366194e+09 1.15366194e+09]\n",
      " [1.22340329e+09 1.22340329e+09]\n",
      " [1.29736066e+09 1.29736066e+09]\n",
      " [1.37578890e+09 1.37578890e+09]\n",
      " [1.45895831e+09 1.45895831e+09]\n",
      " [1.54715548e+09 1.54715548e+09]\n",
      " [1.64068436e+09 1.64068436e+09]\n",
      " [1.73986727e+09 1.73986727e+09]\n",
      " [1.84504600e+09 1.84504600e+09]\n",
      " [1.95658300e+09 1.95658300e+09]\n",
      " [2.07486266e+09 2.07486266e+09]\n",
      " [2.20029258e+09 2.20029258e+09]\n",
      " [2.33330501e+09 2.33330501e+09]\n",
      " [2.47435832e+09 2.47435832e+09]\n",
      " [2.62393862e+09 2.62393862e+09]\n",
      " [2.78256136e+09 2.78256136e+09]\n",
      " [2.95077319e+09 2.95077319e+09]\n",
      " [3.12915379e+09 3.12915379e+09]\n",
      " [3.31831788e+09 3.31831788e+09]\n",
      " [3.51891734e+09 3.51891734e+09]\n",
      " [3.73164348e+09 3.73164348e+09]\n",
      " [3.95722937e+09 3.95722937e+09]\n",
      " [4.19645241e+09 4.19645241e+09]\n",
      " [4.45013700e+09 4.45013700e+09]\n",
      " [4.71915738e+09 4.71915738e+09]\n",
      " [5.00444061e+09 5.00444061e+09]\n",
      " [5.30696983e+09 5.30696983e+09]\n",
      " [5.62778759e+09 5.62778759e+09]\n",
      " [5.96799948e+09 5.96799948e+09]\n",
      " [6.32877790e+09 6.32877790e+09]\n",
      " [6.71136617e+09 6.71136617e+09]\n",
      " [7.11708271e+09 7.11708271e+09]\n",
      " [7.54732570e+09 7.54732570e+09]\n",
      " [8.00357780e+09 8.00357780e+09]\n",
      " [8.48741133e+09 8.48741133e+09]\n",
      " [9.00049363e+09 9.00049363e+09]\n",
      " [9.54459287e+09 9.54459287e+09]\n",
      " [1.01215841e+10 1.01215841e+10]\n",
      " [1.07334556e+10 1.07334556e+10]\n",
      " [1.13823162e+10 1.13823162e+10]\n",
      " [1.20704017e+10 1.20704017e+10]\n",
      " [1.28000835e+10 1.28000835e+10]\n",
      " [1.35738761e+10 1.35738761e+10]\n",
      " [1.43944462e+10 1.43944462e+10]\n",
      " [1.52646215e+10 1.52646215e+10]\n",
      " [1.61874007e+10 1.61874007e+10]\n",
      " [1.71659640e+10 1.71659640e+10]\n",
      " [1.82036835e+10 1.82036835e+10]\n",
      " [1.93041354e+10 1.93041354e+10]\n",
      " [2.04711120e+10 2.04711120e+10]\n",
      " [2.17086348e+10 2.17086348e+10]\n",
      " [2.30209686e+10 2.30209686e+10]\n",
      " [2.44126357e+10 2.44126357e+10]\n",
      " [2.58884322e+10 2.58884322e+10]\n",
      " [2.74534437e+10 2.74534437e+10]\n",
      " [2.91130635e+10 2.91130635e+10]\n",
      " [3.08730109e+10 3.08730109e+10]\n",
      " [3.27393510e+10 3.27393510e+10]\n",
      " [3.47185153e+10 3.47185153e+10]\n",
      " [3.68173244e+10 3.68173244e+10]\n",
      " [3.90430110e+10 3.90430110e+10]\n",
      " [4.14032451e+10 4.14032451e+10]\n",
      " [4.39061605e+10 4.39061605e+10]\n",
      " [4.65603825e+10 4.65603825e+10]\n",
      " [4.93750580e+10 4.93750580e+10]\n",
      " [5.23598866e+10 5.23598866e+10]\n",
      " [5.55251546e+10 5.55251546e+10]\n",
      " [5.88817698e+10 5.88817698e+10]\n",
      " [6.24412997e+10 6.24412997e+10]\n",
      " [6.62160108e+10 6.62160108e+10]\n",
      " [7.02189114e+10 7.02189114e+10]\n",
      " [7.44637959e+10 7.44637959e+10]\n",
      " [7.89652928e+10 7.89652928e+10]\n",
      " [8.37389149e+10 8.37389149e+10]\n",
      " [8.88011128e+10 8.88011128e+10]\n",
      " [9.41693314e+10 9.41693314e+10]\n",
      " [9.98620704e+10 9.98620704e+10]\n",
      " [1.05898948e+11 1.05898948e+11]\n",
      " [1.12300767e+11 1.12300767e+11]\n",
      " [1.19089591e+11 1.19089591e+11]\n",
      " [1.26288813e+11 1.26288813e+11]\n",
      " [1.33923244e+11 1.33923244e+11]\n",
      " [1.42019193e+11 1.42019193e+11]\n",
      " [1.50604559e+11 1.50604559e+11]\n",
      " [1.59708929e+11 1.59708929e+11]\n",
      " [1.69363678e+11 1.69363678e+11]\n",
      " [1.79602077e+11 1.79602077e+11]\n",
      " [1.90459410e+11 1.90459410e+11]\n",
      " [2.01973092e+11 2.01973092e+11]\n",
      " [2.14182800e+11 2.14182800e+11]\n",
      " [2.27130612e+11 2.27130612e+11]\n",
      " [2.40861147e+11 2.40861147e+11]\n",
      " [2.55421722e+11 2.55421722e+11]\n",
      " [2.70862516e+11 2.70862516e+11]\n",
      " [2.87236739e+11 2.87236739e+11]\n",
      " [3.04600818e+11 3.04600818e+11]\n",
      " [3.23014594e+11 3.23014594e+11]\n",
      " [3.42541522e+11 3.42541522e+11]\n",
      " [3.63248896e+11 3.63248896e+11]\n",
      " [3.85208074e+11 3.85208074e+11]\n",
      " [4.08494732e+11 4.08494732e+11]\n",
      " [4.33189119e+11 4.33189119e+11]\n",
      " [4.59376335e+11 4.59376335e+11]\n",
      " [4.87146624e+11 4.87146624e+11]\n",
      " [5.16595687e+11 5.16595687e+11]\n",
      " [5.47825010e+11 5.47825010e+11]\n",
      " [5.80942212e+11 5.80942212e+11]\n",
      " [6.16061421e+11 6.16061421e+11]\n",
      " [6.53303661e+11 6.53303661e+11]\n",
      " [6.92797275e+11 6.92797275e+11]\n",
      " [7.34678364e+11 7.34678364e+11]\n",
      " [7.79091254e+11 7.79091254e+11]\n",
      " [8.26188999e+11 8.26188999e+11]\n",
      " [8.76133904e+11 8.76133904e+11]\n",
      " [9.29098087e+11 9.29098087e+11]\n",
      " [9.85264068e+11 9.85264068e+11]\n",
      " [1.04482540e+12 1.04482540e+12]\n",
      " [1.10798735e+12 1.10798735e+12]\n",
      " [1.17496757e+12 1.17496757e+12]\n",
      " [1.24599690e+12 1.24599690e+12]\n",
      " [1.32132009e+12 1.32132009e+12]\n",
      " [1.40119674e+12 1.40119674e+12]\n",
      " [1.48590210e+12 1.48590210e+12]\n",
      " [1.57572809e+12 1.57572809e+12]\n",
      " [1.67098425e+12 1.67098425e+12]\n",
      " [1.77199884e+12 1.77199884e+12]\n",
      " [1.87911999e+12 1.87911999e+12]\n",
      " [1.99271685e+12 1.99271685e+12]\n",
      " [2.11318087e+12 2.11318087e+12]\n",
      " [2.24092721e+12 2.24092721e+12]\n",
      " [2.37639609e+12 2.37639609e+12]\n",
      " [2.52005435e+12 2.52005435e+12]\n",
      " [2.67239707e+12 2.67239707e+12]\n",
      " [2.83394923e+12 2.83394923e+12]\n",
      " [3.00526757e+12 3.00526757e+12]\n",
      " [3.18694247e+12 3.18694247e+12]\n",
      " [3.37960001e+12 3.37960001e+12]\n",
      " [3.58390411e+12 3.58390411e+12]\n",
      " [3.80055884e+12 3.80055884e+12]\n",
      " [4.03031081e+12 4.03031081e+12]\n",
      " [4.27395178e+12 4.27395178e+12]\n",
      " [4.53232138e+12 4.53232138e+12]\n",
      " [4.80630997e+12 4.80630997e+12]\n",
      " [5.09686177e+12 5.09686177e+12]\n",
      " [5.40497804e+12 5.40497804e+12]]\n"
     ]
    },
    {
     "data": {
      "text/plain": [
       "0"
      ]
     },
     "execution_count": 25,
     "metadata": {},
     "output_type": "execute_result"
    }
   ],
   "source": [
    "utils.compare_arr([lowengelec_spectra.eng, file_lowengelec_spectra.eng])"
   ]
  },
  {
   "cell_type": "code",
   "execution_count": null,
   "metadata": {},
   "outputs": [],
   "source": []
  }
 ],
 "metadata": {
  "kernelspec": {
   "display_name": "Python 3",
   "language": "python",
   "name": "python3"
  },
  "language_info": {
   "codemirror_mode": {
    "name": "ipython",
    "version": 3
   },
   "file_extension": ".py",
   "mimetype": "text/x-python",
   "name": "python",
   "nbconvert_exporter": "python",
   "pygments_lexer": "ipython3",
   "version": "3.6.5"
  }
 },
 "nbformat": 4,
 "nbformat_minor": 2
}
