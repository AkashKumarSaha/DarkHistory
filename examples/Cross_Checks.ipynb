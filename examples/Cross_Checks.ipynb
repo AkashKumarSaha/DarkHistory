{
 "cells": [
  {
   "cell_type": "code",
   "execution_count": 1,
   "metadata": {},
   "outputs": [],
   "source": [
    "%load_ext autoreload\n",
    "import sys\n",
    "sys.path.append(\"..\")"
   ]
  },
  {
   "cell_type": "code",
   "execution_count": 2,
   "metadata": {},
   "outputs": [],
   "source": [
    "%matplotlib inline"
   ]
  },
  {
   "cell_type": "code",
   "execution_count": 7,
   "metadata": {},
   "outputs": [],
   "source": [
    "%autoreload\n",
    "\n",
    "import matplotlib\n",
    "matplotlib.rc_file('matplotlibrc')\n",
    "import matplotlib.pyplot as plt\n",
    "\n",
    "import numpy as np\n",
    "\n",
    "import darkhistory.physics as phys\n",
    "\n",
    "import main"
   ]
  },
  {
   "cell_type": "code",
   "execution_count": null,
   "metadata": {},
   "outputs": [
    {
     "data": {
      "application/vnd.jupyter.widget-view+json": {
       "model_id": "ec30d3ab5a1744feb43645cbea5348f6",
       "version_major": 2,
       "version_minor": 0
      },
      "text/plain": [
       "HBox(children=(IntProgress(value=0, max=6621), HTML(value='')))"
      ]
     },
     "metadata": {},
     "output_type": "display_data"
    },
    {
     "name": "stdout",
     "output_type": "stream",
     "text": [
      "-0.8385835906917896\n"
     ]
    },
    {
     "name": "stderr",
     "output_type": "stream",
     "text": [
      "../darkhistory/physics.py:474: RuntimeWarning: invalid value encountered in double_scalars\n",
      "  / (1 + 0.6703 * (conv_fac*T_m)**0.5300)\n",
      "../darkhistory/physics.py:502: RuntimeWarning: invalid value encountered in sqrt\n",
      "  * (1 + T_in_K/T_1)**(1+p)\n",
      "../darkhistory/physics.py:502: RuntimeWarning: invalid value encountered in double_scalars\n",
      "  * (1 + T_in_K/T_1)**(1+p)\n"
     ]
    },
    {
     "name": "stdout",
     "output_type": "stream",
     "text": [
      "-2.398373772130881\n",
      "-1.7388836399262582\n"
     ]
    }
   ],
   "source": [
    "helium_method_1 = main.evolve(\n",
    "    DM_process='decay', mDM=1e8, lifetime=3e24, primary='phot_delta',\n",
    "    start_rs = 3000,\n",
    "    coarsen_factor=1, backreaction=True,\n",
    "    helium_TLA=True, compute_fs_method='old'\n",
    ")"
   ]
  },
  {
   "cell_type": "code",
   "execution_count": null,
   "metadata": {},
   "outputs": [],
   "source": [
    "helium_method_2 = main.evolve(\n",
    "    DM_process='decay', mDM=1e8, lifetime=3e24, primary='phot_delta',\n",
    "    start_rs = 3000,\n",
    "    coarsen_factor=1, backreaction=True,\n",
    "    helium_TLA=True, compute_fs_method='helium'\n",
    ")"
   ]
  }
 ],
 "metadata": {
  "kernelspec": {
   "display_name": "Python 3",
   "language": "python",
   "name": "python3"
  },
  "language_info": {
   "codemirror_mode": {
    "name": "ipython",
    "version": 3
   },
   "file_extension": ".py",
   "mimetype": "text/x-python",
   "name": "python",
   "nbconvert_exporter": "python",
   "pygments_lexer": "ipython3",
   "version": "3.6.7"
  },
  "toc": {
   "base_numbering": 1,
   "nav_menu": {},
   "number_sections": true,
   "sideBar": true,
   "skip_h1_title": false,
   "title_cell": "Table of Contents",
   "title_sidebar": "Contents",
   "toc_cell": false,
   "toc_position": {},
   "toc_section_display": true,
   "toc_window_display": false
  }
 },
 "nbformat": 4,
 "nbformat_minor": 2
}
