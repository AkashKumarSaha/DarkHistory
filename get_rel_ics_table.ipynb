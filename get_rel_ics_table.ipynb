{
 "cells": [
  {
   "cell_type": "code",
   "execution_count": 2,
   "metadata": {
    "collapsed": true
   },
   "outputs": [],
   "source": [
    "%load_ext autoreload"
   ]
  },
  {
   "cell_type": "code",
   "execution_count": 140,
   "metadata": {
    "collapsed": true
   },
   "outputs": [],
   "source": [
    "%autoreload\n",
    "import numpy as np\n",
    "from darkhistory.utilities import diff_pow\n",
    "from darkhistory.utilities import compare_arr\n",
    "import darkhistory.electrons.ics.series as series\n",
    "import darkhistory.electrons.ics.ics_spectrum as ics_spec\n",
    "import darkhistory.physics as phys\n",
    "import pickle\n",
    "\n",
    "from scipy.integrate import quad\n",
    "\n",
    "np.set_printoptions(precision=20)"
   ]
  },
  {
   "cell_type": "code",
   "execution_count": 138,
   "metadata": {},
   "outputs": [
    {
     "name": "stdout",
     "output_type": "stream",
     "text": [
      "Initializing...\n",
      "Computing series 1/4...\n",
      "Computing series 2/4...\n",
      "Computing series 3/4...\n",
      "Computing series 4/4...\n",
      "***** Diagnostics *****\n",
      "gamma:  [ 1.9373816865099009996]\n",
      "beta:  [ 0.85649184757083342533]\n",
      "lowlim:  [[ 3.2912783718081783218e-05]]\n",
      "lowlim*T:  [[ 7.7300717811900386972e-06]]\n",
      "upplim:  [[ 0.0055080460474529318993]]\n",
      "upplim*T:  [[ 0.0012936490479083893488]]\n",
      "Gamma_eps_q:  [[ 1.0101010102030405544e-10]]\n",
      "Q:  [[ 5.1015202535507101152e-21]]\n",
      "B:  [[ 6.6605428767902884545e-06]]\n",
      "***** Integrals *****\n",
      "term_1:  [[ 0.0012841387603072288727]]\n",
      "term_1 by quadrature:  [[ 0.0012841387603071900423]]\n",
      "term_2:  [[-0.00067968250466804547244]]\n",
      "term_3:  [[ 0.00052915749464398390936]]\n",
      "term_4:  [[-1.1408434404987828184e-05]]\n",
      "Sum of terms:  [[ 0.0011222053158781794814]]\n",
      "Final answer:  [[ 1.3850513131089879823e-05]]\n",
      "***** End Diagnostics *****\n",
      "Relativistic Computation Complete!\n"
     ]
    }
   ],
   "source": [
    "a = ics_spec.rel_spec(np.array([0.99e6], dtype='float128'), np.array([1e-4],dtype='float128'), \n",
    "                      np.float128(phys.TCMB(1)*1000))"
   ]
  },
  {
   "cell_type": "code",
   "execution_count": 148,
   "metadata": {},
   "outputs": [
    {
     "name": "stderr",
     "output_type": "stream",
     "text": [
      "/Users/hongwan/anaconda/envs/python3/lib/python3.6/site-packages/scipy/integrate/quadpack.py:364: IntegrationWarning: The maximum number of subdivisions (50) has been achieved.\n",
      "  If increasing the limit yields no improvement it is advised to analyze \n",
      "  the integrand in order to determine the difficulties.  If the position of a \n",
      "  local difficulty can be determined (singularity, discontinuity) one will \n",
      "  probably gain from splitting up the interval and calling the integrator \n",
      "  on the subranges.  Perhaps a special-purpose integrator should be used.\n",
      "  warnings.warn(msg, IntegrationWarning)\n"
     ]
    },
    {
     "data": {
      "text/plain": [
       "(-623.2691981660388, 311.575824859549)"
      ]
     },
     "execution_count": 148,
     "metadata": {},
     "output_type": "execute_result"
    }
   ],
   "source": [
    "quad(\n",
    "    lambda x: np.log(x)/(np.exp(x) - 1), 0, 3.29e-2\n",
    ")"
   ]
  },
  {
   "cell_type": "code",
   "execution_count": 6,
   "metadata": {
    "collapsed": true
   },
   "outputs": [],
   "source": [
    "Emax = np.float128(1e20)\n",
    "Emin = np.float128(1e-8)\n",
    "nEe = np.float128(5000)\n",
    "nEp  = np.float128(5000)\n",
    "\n",
    "dlnEp = np.log(Emax/Emin)/nEp\n",
    "lowengEp = Emin*np.exp((np.arange(nEp)+0.5)*dlnEp)        \n",
    "\n",
    "dlnEe = np.log(Emax/Emin)/nEe\n",
    "lowengEe = phys.me + Emin*np.exp((np.arange(nEe)+0.5)*dlnEe)\n",
    "\n",
    "# lowengEe = np.array([lowengEe[168]],dtype='float128')\n",
    "# lowengEp = np.array([lowengEp[521]],dtype='float128')\n",
    "#521\n",
    "T = np.float128(phys.TCMB(1)*1000)"
   ]
  },
  {
   "cell_type": "code",
   "execution_count": 7,
   "metadata": {},
   "outputs": [
    {
     "name": "stdout",
     "output_type": "stream",
     "text": [
      "Initializing...\n",
      "Computing spectra by an expansion in beta...\n",
      "Computing Q and K terms...\n",
      "Computing H and G terms...\n",
      "Computation by expansion in beta complete!\n",
      "Computing errors for beta expansion method...\n",
      "Computing spectra by analytic series...\n",
      "Computing series 1/8...\n",
      "Computing series 2/8...\n",
      "Computing series 3/8...\n",
      "Computing series 4/8...\n",
      "Computing series 5/8...\n",
      "Computing series 6/8...\n",
      "Computing series 7/8...\n",
      "Computing series 8/8...\n",
      "Computation by analytic series complete!\n",
      "Spectrum computed!\n",
      " "
     ]
    }
   ],
   "source": [
    "%%prun\n",
    "a = ics_spec.nonrel_spec(lowengEe, lowengEp, T)"
   ]
  },
  {
   "cell_type": "code",
   "execution_count": null,
   "metadata": {
    "collapsed": true
   },
   "outputs": [],
   "source": [
    "# pickle.dump(a, \n",
    "#             open(\"/Users/hongwan/Dropbox (MIT)/Photon Deposition/ICS_nonrel.raw\", \"wb\"))"
   ]
  }
 ],
 "metadata": {
  "kernelspec": {
   "display_name": "Python 3",
   "language": "python",
   "name": "python3"
  },
  "language_info": {
   "codemirror_mode": {
    "name": "ipython",
    "version": 3
   },
   "file_extension": ".py",
   "mimetype": "text/x-python",
   "name": "python",
   "nbconvert_exporter": "python",
   "pygments_lexer": "ipython3",
   "version": "3.6.3"
  }
 },
 "nbformat": 4,
 "nbformat_minor": 2
}
