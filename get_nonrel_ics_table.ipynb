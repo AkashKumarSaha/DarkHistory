{
 "cells": [
  {
   "cell_type": "code",
   "execution_count": 3,
   "metadata": {
    "collapsed": true
   },
   "outputs": [],
   "source": [
    "%load_ext autoreload"
   ]
  },
  {
   "cell_type": "code",
   "execution_count": 54,
   "metadata": {
    "collapsed": false
   },
   "outputs": [],
   "source": [
    "%autoreload\n",
    "import numpy as np\n",
    "import darkhistory.electrons.ics.ics_spectrum as ics_spec\n",
    "import darkhistory.physics as phys\n",
    "import pickle\n",
    "\n",
    "np.set_printoptions(precision=6)"
   ]
  },
  {
   "cell_type": "code",
   "execution_count": 55,
   "metadata": {
    "collapsed": true
   },
   "outputs": [],
   "source": [
    "Emax = np.float128(1e10)\n",
    "Emin = np.float128(1e-8)\n",
    "nEe = np.float128(5)\n",
    "nEp  = np.float128(5)\n",
    "\n",
    "dlnEp = np.log(Emax/Emin)/nEp\n",
    "lowengEp = Emin*np.exp((np.arange(nEp)+0.5)*dlnEp)        \n",
    "\n",
    "dlnEe = np.log(Emax/Emin)/nEe\n",
    "lowengEe = phys.me + Emin*np.exp((np.arange(nEe)+0.5)*dlnEe)\n",
    "\n",
    "# lowengEe = np.array([lowengEe[168]],dtype='float128')\n",
    "# lowengEp = np.array([lowengEp[521]],dtype='float128')\n",
    "#521\n",
    "T = np.float128(phys.TCMB(1)*1000)"
   ]
  },
  {
   "cell_type": "code",
   "execution_count": 58,
   "metadata": {
    "collapsed": false
   },
   "outputs": [
    {
     "name": "stdout",
     "output_type": "stream",
     "text": [
      "Initializing...\n",
      "where_diff on (eleceng, photeng) grid: \n",
      "[ True  True False False False]\n",
      "[ 510999.0  510999.0]\n",
      "[ 6.30957e-07  0.00251189]\n",
      "Computing spectra by an expansion in beta...\n",
      "Computing Q and K terms...\n",
      "Computing H and G terms...\n",
      "Computation by expansion in beta complete!\n",
      "Computing errors for beta expansion method...\n",
      "spec from nonrel_spec_diff: \n",
      "[ 3.89728e-08  0.000154326  0.0  0.0  0.0]\n",
      "epsrel from nonrel_spec_diff: \n",
      "[ 2.48366e-24  3.84178e-17  0.0  0.0  0.0]\n",
      "where_series on (eleceng, photeng) grid: \n",
      "[False False  True  True  True]\n",
      "Computing spectra by analytic series...\n",
      "Computing series 1/8...\n",
      "Computing series 2/8...\n",
      "Computing series 3/8...\n",
      "Computing series 4/8...\n",
      "Computing series 5/8...\n",
      "Computing series 6/8...\n",
      "Computing series 7/8...\n",
      "Computing series 8/8...\n",
      "Computation by analytic series complete!\n",
      "spec from nonrel_spec_series: \n",
      "[ 0.0  0.0  8.68646e-18  0.0  6.98765e-761]\n",
      "*********************\n",
      "Final Result: \n",
      "[ 3.89728e-08  0.000154326  8.68646e-18  0.0  6.98765e-761]\n",
      "Spectrum computed!\n"
     ]
    }
   ],
   "source": [
    "# %%prun\n",
    "a = ics_spec.nonrel_spec(lowengEe, lowengEp, T, as_pairs=True)"
   ]
  },
  {
   "cell_type": "code",
   "execution_count": 43,
   "metadata": {
    "collapsed": false
   },
   "outputs": [
    {
     "name": "stdout",
     "output_type": "stream",
     "text": [
      "[[ 7.59911e-10  1.15017e-09  1.74086e-09 ...,  0.0  0.0  0.0]\n",
      " [ 7.59911e-10  1.15017e-09  1.74086e-09 ...,  0.0  0.0  0.0]\n",
      " [ 7.59911e-10  1.15017e-09  1.74086e-09 ...,  0.0  0.0  0.0]\n",
      " ..., \n",
      " [ 2.08017e-16  3.08421e-16  4.56581e-16 ...,  2.14585e-44  7.38528e-62\n",
      "   2.71474e-88]\n",
      " [ 9.12848e-17  1.35117e-16  1.99798e-16 ...,  1.32491e-25  3.19473e-33\n",
      "   9.29649e-45]\n",
      " [ 3.994e-17  5.90747e-17  8.73106e-17 ...,  1.26754e-17  6.1502e-21\n",
      "   5.77107e-26]]\n"
     ]
    }
   ],
   "source": [
    "print(a)"
   ]
  },
  {
   "cell_type": "code",
   "execution_count": 5,
   "metadata": {
    "collapsed": true
   },
   "outputs": [],
   "source": [
    "# pickle.dump(a, \n",
    "#             open(\"/Users/hongwan/Dropbox (MIT)/Photon Deposition/ICS_nonrel.raw\", \"wb\"))"
   ]
  }
 ],
 "metadata": {
  "anaconda-cloud": {},
  "kernelspec": {
   "display_name": "Python [default]",
   "language": "python",
   "name": "python3"
  },
  "language_info": {
   "codemirror_mode": {
    "name": "ipython",
    "version": 3
   },
   "file_extension": ".py",
   "mimetype": "text/x-python",
   "name": "python",
   "nbconvert_exporter": "python",
   "pygments_lexer": "ipython3",
   "version": "3.5.2"
  }
 },
 "nbformat": 4,
 "nbformat_minor": 2
}
