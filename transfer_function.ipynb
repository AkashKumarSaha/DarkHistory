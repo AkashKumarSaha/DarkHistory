{
 "cells": [
  {
   "cell_type": "code",
   "execution_count": 2,
   "metadata": {},
   "outputs": [],
   "source": [
    "%load_ext autoreload"
   ]
  },
  {
   "cell_type": "code",
   "execution_count": 14,
   "metadata": {},
   "outputs": [],
   "source": [
    "%autoreload\n",
    "%matplotlib inline\n",
    "\n",
    "import numpy as np\n",
    "import darkhistory.physics as phys\n",
    "import darkhistory.utilities as utils\n",
    "import darkhistory.spec.spectrum as spectrum\n",
    "import darkhistory.spec.spectra as spectra\n",
    "import darkhistory.spec.spectools as spectools\n",
    "import darkhistory.spec.transferfunction as tf\n",
    "import darkhistory.spec.transferfunclist as tfl\n",
    "import matplotlib\n",
    "import matplotlib.pyplot as plt\n",
    "import pickle\n",
    "\n",
    "matplotlib.rcParams['figure.figsize'] = [10,10]\n",
    "\n",
    "\n",
    "from scipy import integrate\n",
    "from astropy.io import fits\n",
    "from tqdm import tqdm_notebook as tqdm"
   ]
  },
  {
   "cell_type": "code",
   "execution_count": 15,
   "metadata": {},
   "outputs": [],
   "source": [
    "transfer_func_table = pickle.load(open(\"/Users/hongwan/Dropbox (MIT)/Photon Deposition/transfer_func_table.raw\",\"rb\"))\n"
   ]
  },
  {
   "cell_type": "code",
   "execution_count": 16,
   "metadata": {
    "collapsed": true
   },
   "outputs": [],
   "source": [
    "eng = transfer_func_table.in_eng\n",
    "tf_rs_arr = transfer_func_table.rs"
   ]
  },
  {
   "cell_type": "code",
   "execution_count": 17,
   "metadata": {},
   "outputs": [
    {
     "name": "stdout",
     "output_type": "stream",
     "text": [
      "1060819228.18\n"
     ]
    }
   ],
   "source": [
    "#Initialize\n",
    "eng_ind = 299\n",
    "mwimp = eng[eng_ind]\n",
    "print(mwimp)\n",
    "\n",
    "rs_list = np.exp(np.arange(np.log(tf_rs_arr[0]), \n",
    "                           np.log(tf_rs_arr[20]), \n",
    "                           -0.002)\n",
    "                )\n",
    "\n",
    "# Initial injection is 2 photons, to match up with what we have in file.\n",
    "photon_spec_init = spectools.rebin_N_arr(np.array([2]), \n",
    "                                        np.array([mwimp]), \n",
    "                                        eng)\n",
    "                                       \n",
    "photon_spec_init.rs = rs_list[0]"
   ]
  },
  {
   "cell_type": "code",
   "execution_count": 18,
   "metadata": {},
   "outputs": [
    {
     "data": {
      "application/vnd.jupyter.widget-view+json": {
       "model_id": "d4e0ce82f1814558b69e0cc0383be82a"
      }
     },
     "metadata": {},
     "output_type": "display_data"
    },
    {
     "name": "stdout",
     "output_type": "stream",
     "text": [
      "\n"
     ]
    }
   ],
   "source": [
    "photon_spectra = spectra.Spectra([photon_spec_init])\n",
    "append = photon_spectra.append\n",
    "\n",
    "# List of transfer functions interpolated at rs_list, indexed by injection energy.\n",
    "# Perform the normalization properly. \n",
    "# tf_at_rs_list = tfl.TransferFuncList([transfer_func.at_rs(rs_list)/norm_spec.dNdE[i]\n",
    "#                     for i,transfer_func in zip(tqdm(np.arange(norm_spec.length)), transfer_func_table)]\n",
    "#                 )\n",
    "\n",
    "# tf_at_rs_list = tfl.TransferFuncList([transfer_func.at_rs(rs_list)\n",
    "#                     for i,transfer_func in zip(tqdm(np.arange(norm_spec.length)), transfer_func_table)]\n",
    "#                 )\n",
    "\n",
    "transfer_func_table.at_rs(rs_list)\n"
   ]
  },
  {
   "cell_type": "code",
   "execution_count": 19,
   "metadata": {},
   "outputs": [
    {
     "data": {
      "application/vnd.jupyter.widget-view+json": {
       "model_id": "76aed9ce6d844acba893f1f53a1bc805"
      }
     },
     "metadata": {},
     "output_type": "display_data"
    },
    {
     "name": "stdout",
     "output_type": "stream",
     "text": [
      "\n"
     ]
    }
   ],
   "source": [
    "for i in tqdm(np.arange(rs_list.size-1).astype(int)):\n",
    "    tf_at_rs = spectra.Spectra([transfer_func[i]\n",
    "                   for transfer_func in tf_at_rs_list])\n",
    "    append(tf_at_rs.sum_specs(photon_spectra[-1]))\n",
    "    photon_spectra[-1].rs = rs_list[i+1]\n"
   ]
  },
  {
   "cell_type": "code",
   "execution_count": 20,
   "metadata": {
    "collapsed": true
   },
   "outputs": [],
   "source": [
    "file_name = {99: \"/Users/hongwan/Dropbox (MIT)/Photon Deposition/tf_z_3.100E+01_nstep_2049_logE_5.328E+00_xe_1.000E-04.fits\",\n",
    "            199: \"/Users/hongwan/Dropbox (MIT)/Photon Deposition/tf_z_3.100E+01_nstep_2049_logE_7.183E+00_xe_1.000E-04.fits\",\n",
    "            298: \"/Users/hongwan/Dropbox (MIT)/Photon Deposition/tf_z_3.100E+01_nstep_2049_logE_9.020E+00_xe_1.000E-04.fits\",\n",
    "            299: \"/Users/hongwan/Dropbox (MIT)/Photon Deposition/tf_z_3.100E+01_nstep_2049_logE_9.038E+00_xe_1.000E-04.fits\", \n",
    "            399: \"/Users/hongwan/Dropbox (MIT)/Photon Deposition/tf_z_3.100E+01_nstep_2049_logE_1.089E+01_xe_1.000E-04.fits\",\n",
    "            499: \"/Users/hongwan/Dropbox (MIT)/Photon Deposition/tf_z_3.100E+01_nstep_2049_logE_1.275E+01_xe_1.000E-04.fits\",\n",
    "            2993: \"/Users/hongwan/Dropbox (MIT)/Photon Deposition/tf_z_3.100E+01_nstep_18_logE_9.038E+00_xe_1.000E-04.fits\"}\n",
    "\n",
    "file = fits.open(file_name[eng_ind])\n",
    "\n",
    "file_eng = file[1].data['energy'][0,:]\n",
    "file_rs = file[1].data['redshift'][0,:]\n",
    "file_photonspectrum = file[1].data['photonspectrum'][0,:,:]"
   ]
  },
  {
   "cell_type": "code",
   "execution_count": 21,
   "metadata": {
    "collapsed": true
   },
   "outputs": [],
   "source": [
    "# file_spectra = spectrum.Spectra([spectrum.Spectrum(file_eng, photspec, rs) \n",
    "#                    for photspec,rs in zip(file_photonspectrum, file_rs)], \n",
    "#                 rebin_eng = eng)\n",
    "\n",
    "file_spectra = spectra.Spectra([spectrum.Spectrum(file_eng, photspec, rs) \n",
    "                   for photspec,rs in zip(file_photonspectrum, file_rs)])\n",
    "\n",
    "file_spectra_orig = spectra.Spectra([spectrum.Spectrum(file_eng, photspec, rs) \n",
    "                   for photspec,rs in zip(file_photonspectrum, file_rs)])"
   ]
  },
  {
   "cell_type": "code",
   "execution_count": 23,
   "metadata": {},
   "outputs": [
    {
     "name": "stdout",
     "output_type": "stream",
     "text": [
      "17.0131607189\n",
      "17.0131607189\n"
     ]
    },
    {
     "name": "stderr",
     "output_type": "stream",
     "text": [
      "/Users/hongwan/GitHub/DarkHistory/darkhistory/spec/spectrum.py:599: RuntimeWarning: The new abscissa lies below the old one: only bins that lie within the new abscissa will be rebinned, bins above the abscissa will be discarded.\n",
      "  warnings.warn(\"The new abscissa lies below the old one: only bins that lie within the new abscissa will be rebinned, bins above the abscissa will be discarded.\", RuntimeWarning)\n"
     ]
    },
    {
     "data": {
      "text/plain": [
       "[0.0001, 10000000000000.0, 1e-22, 1000.0]"
      ]
     },
     "execution_count": 23,
     "metadata": {},
     "output_type": "execute_result"
    },
    {
     "data": {
      "image/png": "[encoded data removed]",
      "text/plain": [
       "<matplotlib.figure.Figure at 0x11b39b898>"
      ]
     },
     "metadata": {},
     "output_type": "display_data"
    }
   ],
   "source": [
    "i=300\n",
    "j=600\n",
    "print(photon_spectra[i].rs)\n",
    "print(file_spectra[j].rs)\n",
    "\n",
    "spec_to_plot = photon_spectra[i]\n",
    "spec_to_plot.rebin(file_spectra.eng)\n",
    "\n",
    "ax = plt.subplot(1,1,1)\n",
    "plt.rc('text', usetex=True)\n",
    "plt.plot(file_spectra.eng, file_spectra[j].dNdE, linewidth=4)\n",
    "plt.plot(spec_to_plot.eng, spec_to_plot.dNdE, linewidth=2)\n",
    "# plt.plot(photon_spectra.eng, photon_spectra[i].dNdE, linewidth=2)\n",
    "# plt.plot(file_spectra[j].eng, file_spectra[j].dNdE)\n",
    "\n",
    "# plt.plot(photon_spectra.eng, photon_spectra[i].totN('bin',np.arange(501)))\n",
    "# plt.plot(file_spectra[j].eng, file_spectra[j].totN('bin',np.arange(501)))\n",
    "ax.set_xscale('log')\n",
    "ax.set_yscale('log')\n",
    "\n",
    "plt.tick_params(axis='both', which='major', labelsize=20)\n",
    "\n",
    "plt.xlabel('Photon Energy [eV]',fontsize=24)\n",
    "plt.ylabel('dN/dE [eV$^{-1}$]',fontsize=24)\n",
    "plt.axis([1e-4, 1e13, 1e-22, 1e3])\n",
    "# b = file_spectra.plot(2)\n",
    "# axb = b.add_subplot(1,1,1)\n",
    "# axb.set_xscale('log')\n",
    "# axb.set_yscale('log')\n"
   ]
  },
  {
   "cell_type": "code",
   "execution_count": null,
   "metadata": {},
   "outputs": [],
   "source": [
    "np.set_printoptions(threshold=np.nan)\n",
    "print(eng[eng_ind])\n",
    "utils.compare_arr([photon_spectra[i].eng,\n",
    "                   photon_spectra[i].dNdE,\n",
    "#                    file_spectra[j].eng,\n",
    "                   file_spectra[j].dNdE,\n",
    "                   file_spectra[j+1].dNdE\n",
    "                   ])"
   ]
  },
  {
   "cell_type": "code",
   "execution_count": null,
   "metadata": {},
   "outputs": [],
   "source": [
    "bin_width = spectools.get_log_bin_width(file_spectra_orig[1].eng)*file_spectra_orig[1].eng\n",
    "\n",
    "# utils.compare_arr([tf_at_rs_list[eng_ind].eng,tf_at_rs_list[eng_ind][0].dNdE, \n",
    "#                    file_spectra_orig[1].eng, file_spectra_orig[1].dNdE*bin_width])\n",
    "\n",
    "utils.compare_arr([file_spectra_orig[1].eng, file_spectra_orig[1].dNdE*bin_width, \n",
    "                   file_spectra_orig[2].dNdE*bin_width])\n"
   ]
  },
  {
   "cell_type": "code",
   "execution_count": null,
   "metadata": {},
   "outputs": [],
   "source": [
    "utils.compare_arr([file_eng,file_photonspectrum[1],file_photonspectrum[2],\n",
    "                   file_photonspectrum[3]])"
   ]
  },
  {
   "cell_type": "code",
   "execution_count": null,
   "metadata": {},
   "outputs": [],
   "source": [
    "a_fig=tf_at_rs_list[eng_ind].plot((2,400),step=100)\n",
    "a = a_fig.get_axes()[0]\n",
    "a.set_xscale('log')\n",
    "a.set_yscale('log')\n",
    "plt.axis([1e3, 2e11, 1e-20, 1e3])"
   ]
  },
  {
   "cell_type": "code",
   "execution_count": null,
   "metadata": {},
   "outputs": [],
   "source": [
    "np.set_printoptions(threshold=np.nan)\n",
    "print(eng[eng_ind])\n",
    "utils.compare_arr([photon_spectra[i].eng,\n",
    "                   photon_spectra[i].totN('eng', spectools.get_bin_bound(photon_spectra[i].eng)),\n",
    "                   file_spectra[j].totN('eng', spectools.get_bin_bound(photon_spectra[i].eng)) \n",
    "                   ])"
   ]
  },
  {
   "cell_type": "code",
   "execution_count": null,
   "metadata": {
    "collapsed": true
   },
   "outputs": [],
   "source": [
    "tf_rs_31 = spectra.Spectra([transfer_func[0] for transfer_func in tf_at_rs_list])"
   ]
  },
  {
   "cell_type": "code",
   "execution_count": null,
   "metadata": {},
   "outputs": [],
   "source": [
    "a_fig = tf_rs_31.plot((106, 399),step=50)\n",
    "a = a_fig.get_axes()[0]\n",
    "a.set_xscale('log')\n",
    "a.set_yscale('log')\n",
    "plt.axis([1e3, 2e11, 1e-20, 1e3])"
   ]
  },
  {
   "cell_type": "code",
   "execution_count": null,
   "metadata": {
    "collapsed": true
   },
   "outputs": [],
   "source": []
  }
 ],
 "metadata": {
  "anaconda-cloud": {},
  "kernelspec": {
   "display_name": "Python 3",
   "language": "python",
   "name": "python3"
  },
  "language_info": {
   "codemirror_mode": {
    "name": "ipython",
    "version": 3
   },
   "file_extension": ".py",
   "mimetype": "text/x-python",
   "name": "python",
   "nbconvert_exporter": "python",
   "pygments_lexer": "ipython3",
   "version": "3.6.1"
  }
 },
 "nbformat": 4,
 "nbformat_minor": 1
}
