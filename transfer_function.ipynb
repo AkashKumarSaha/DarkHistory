{
 "cells": [
  {
   "cell_type": "code",
   "execution_count": 1,
   "metadata": {},
   "outputs": [],
   "source": [
    "%load_ext autoreload"
   ]
  },
  {
   "cell_type": "code",
   "execution_count": 2,
   "metadata": {},
   "outputs": [],
   "source": [
    "%autoreload\n",
    "%matplotlib inline\n",
    "\n",
    "import numpy as np\n",
    "import darkhistory.physics as phys\n",
    "import darkhistory.utilities as utils\n",
    "import darkhistory.spec.spectrum as spectrum\n",
    "import darkhistory.spec.spectra as spectra\n",
    "import darkhistory.spec.spectools as spectools\n",
    "import darkhistory.spec.transferfunction as tf\n",
    "import darkhistory.spec.transferfunclist as tfl\n",
    "import matplotlib\n",
    "import matplotlib.pyplot as plt\n",
    "import pickle\n",
    "\n",
    "matplotlib.rcParams['figure.figsize'] = [10,10]\n",
    "\n",
    "\n",
    "from scipy import integrate\n",
    "from astropy.io import fits\n",
    "from tqdm import tqdm_notebook as tqdm"
   ]
  },
  {
   "cell_type": "code",
   "execution_count": 3,
   "metadata": {},
   "outputs": [],
   "source": [
    "transfer_func_table = pickle.load(open(\"/Users/hongwan/Dropbox (MIT)/Photon Deposition/transfer_func_table.raw\",\"rb\"))"
   ]
  },
  {
   "cell_type": "code",
   "execution_count": 4,
   "metadata": {},
   "outputs": [],
   "source": [
    "eng = transfer_func_table.in_eng\n",
    "tf_rs_arr = transfer_func_table.rs"
   ]
  },
  {
   "cell_type": "code",
   "execution_count": 5,
   "metadata": {},
   "outputs": [
    {
     "name": "stdout",
     "output_type": "stream",
     "text": [
      "1060819228.18\n",
      "[ 31.          28.04995996  25.38065335  22.96536484  20.77992143\n",
      "  18.80245045  17.01316072  15.39414442  13.92919789  12.60365945\n",
      "  11.40426268  10.31900359   9.33702057   8.44848558   7.64450588\n",
      "   6.91703496   6.25879206   5.66318925   5.12426553   4.6366272\n",
      "   4.19539378]\n"
     ]
    }
   ],
   "source": [
    "#Initialize\n",
    "eng_ind = 299\n",
    "mwimp = eng[eng_ind]\n",
    "print(mwimp)\n",
    "\n",
    "rs_list = np.exp(np.arange(np.log(tf_rs_arr[0]), \n",
    "                           np.log(tf_rs_arr[-1]), \n",
    "                           -transfer_func_table[0].dlnz*50)\n",
    "                )\n",
    "\n",
    "# Initial injection is 2 photons, to match up with what we have in file.\n",
    "photon_spec_init = spectools.rebin_N_arr(np.array([2]), \n",
    "                                        np.array([mwimp]), \n",
    "                                        eng)\n",
    "                                       \n",
    "photon_spec_init.rs = rs_list[0]\n",
    "\n",
    "print(rs_list)"
   ]
  },
  {
   "cell_type": "code",
   "execution_count": 6,
   "metadata": {},
   "outputs": [],
   "source": [
    "transfer_func_table.coarsen(50, delete_tfs=False)"
   ]
  },
  {
   "cell_type": "code",
   "execution_count": 7,
   "metadata": {},
   "outputs": [],
   "source": [
    "transfer_func_table.at_val('rs',rs_list)"
   ]
  },
  {
   "cell_type": "code",
   "execution_count": 8,
   "metadata": {},
   "outputs": [],
   "source": [
    "photon_spectra = spectools.evolve(photon_spec_init, transfer_func_table, save_steps=True)\n",
    "fin_phot_spec = spectools.evolve(photon_spec_init, transfer_func_table, end_rs=13)"
   ]
  },
  {
   "cell_type": "code",
   "execution_count": 9,
   "metadata": {
    "collapsed": true
   },
   "outputs": [],
   "source": [
    "file_name = {99: \"/Users/hongwan/Dropbox (MIT)/Photon Deposition/tf_z_3.100E+01_nstep_2049_logE_5.328E+00_xe_1.000E-04.fits\",\n",
    "            199: \"/Users/hongwan/Dropbox (MIT)/Photon Deposition/tf_z_3.100E+01_nstep_2049_logE_7.183E+00_xe_1.000E-04.fits\",\n",
    "            298: \"/Users/hongwan/Dropbox (MIT)/Photon Deposition/tf_z_3.100E+01_nstep_2049_logE_9.020E+00_xe_1.000E-04.fits\",\n",
    "            299: \"/Users/hongwan/Dropbox (MIT)/Photon Deposition/tf_z_3.100E+01_nstep_2049_logE_9.038E+00_xe_1.000E-04.fits\", \n",
    "            399: \"/Users/hongwan/Dropbox (MIT)/Photon Deposition/tf_z_3.100E+01_nstep_2049_logE_1.089E+01_xe_1.000E-04.fits\",\n",
    "            499: \"/Users/hongwan/Dropbox (MIT)/Photon Deposition/tf_z_3.100E+01_nstep_2049_logE_1.275E+01_xe_1.000E-04.fits\",\n",
    "            2993: \"/Users/hongwan/Dropbox (MIT)/Photon Deposition/tf_z_3.100E+01_nstep_18_logE_9.038E+00_xe_1.000E-04.fits\"}\n",
    "\n",
    "file = fits.open(file_name[eng_ind])\n",
    "\n",
    "file_eng = file[1].data['energy'][0,:]\n",
    "file_rs = file[1].data['redshift'][0,:]\n",
    "file_photonspectrum = file[1].data['photonspectrum'][0,:,:]"
   ]
  },
  {
   "cell_type": "code",
   "execution_count": 10,
   "metadata": {
    "collapsed": true
   },
   "outputs": [],
   "source": [
    "# file_spectra = spectrum.Spectra([spectrum.Spectrum(file_eng, photspec, rs) \n",
    "#                    for photspec,rs in zip(file_photonspectrum, file_rs)], \n",
    "#                 rebin_eng = eng)\n",
    "\n",
    "file_spectra = spectra.Spectra([spectrum.Spectrum(file_eng, photspec, rs) \n",
    "                   for photspec,rs in zip(file_photonspectrum, file_rs)])\n",
    "\n",
    "file_spectra_orig = spectra.Spectra([spectrum.Spectrum(file_eng, photspec, rs) \n",
    "                   for photspec,rs in zip(file_photonspectrum, file_rs)])"
   ]
  },
  {
   "cell_type": "code",
   "execution_count": 11,
   "metadata": {},
   "outputs": [
    {
     "name": "stderr",
     "output_type": "stream",
     "text": [
      "/Users/hongwan/GitHub/DarkHistory/darkhistory/spec/spectrum.py:599: RuntimeWarning: The new abscissa lies below the old one: only bins that lie within the new abscissa will be rebinned, bins above the abscissa will be discarded.\n",
      "  warnings.warn(\"The new abscissa lies below the old one: only bins that lie within the new abscissa will be rebinned, bins above the abscissa will be discarded.\", RuntimeWarning)\n"
     ]
    },
    {
     "data": {
      "text/plain": [
       "[0.0001, 10000000000000.0, 1e-22, 1000.0]"
      ]
     },
     "execution_count": 11,
     "metadata": {},
     "output_type": "execute_result"
    },
    {
     "data": {
      "image/png": "[encoded data removed]",
      "text/plain": [
       "<matplotlib.figure.Figure at 0x10c408f60>"
      ]
     },
     "metadata": {},
     "output_type": "display_data"
    }
   ],
   "source": [
    "rs_to_plot = 14.45\n",
    "\n",
    "photon_spectra.rebin(file_spectra.eng)\n",
    "\n",
    "ax = plt.subplot(1,1,1)\n",
    "plt.rc('text', usetex=True)\n",
    "\n",
    "file_spectra.plot(ax, ind=rs_to_plot, indtype='rs', linewidth=2)\n",
    "photon_spectra.plot(ax, ind=rs_to_plot, indtype='rs', linewidth=2)\n",
    "\n",
    "ax.set_xscale('log')\n",
    "ax.set_yscale('log')\n",
    "\n",
    "plt.tick_params(axis='both', which='major', labelsize=20)\n",
    "\n",
    "plt.xlabel('Photon Energy [eV]',fontsize=24)\n",
    "\n",
    "plt.ylabel('dN/dE [eV$^{-1}$]',fontsize=24)\n",
    "plt.axis([1e-4, 1e13, 1e-22, 1e3])\n"
   ]
  }
 ],
 "metadata": {
  "anaconda-cloud": {},
  "kernelspec": {
   "display_name": "Python 3",
   "language": "python",
   "name": "python3"
  },
  "language_info": {
   "codemirror_mode": {
    "name": "ipython",
    "version": 3
   },
   "file_extension": ".py",
   "mimetype": "text/x-python",
   "name": "python",
   "nbconvert_exporter": "python",
   "pygments_lexer": "ipython3",
   "version": "3.6.1"
  }
 },
 "nbformat": 4,
 "nbformat_minor": 1
}
