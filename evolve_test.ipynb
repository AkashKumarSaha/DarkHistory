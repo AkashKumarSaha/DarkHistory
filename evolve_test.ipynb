{
 "cells": [
  {
   "cell_type": "markdown",
   "metadata": {},
   "source": [
    "# Full Cooling Calculation"
   ]
  },
  {
   "cell_type": "markdown",
   "metadata": {},
   "source": [
    "We are now ready to demonstrate the full cooling calculation, starting from an injection of high-energy electrons and photons, and ending in an integrated ionization and thermal history that results from this injection. "
   ]
  },
  {
   "cell_type": "markdown",
   "metadata": {},
   "source": [
    "## Initialization"
   ]
  },
  {
   "cell_type": "code",
   "execution_count": 1,
   "metadata": {
    "collapsed": true
   },
   "outputs": [],
   "source": [
    "%load_ext autoreload\n",
    "import sys\n",
    "sys.path.append(\"..\")"
   ]
  },
  {
   "cell_type": "code",
   "execution_count": 2,
   "metadata": {
    "collapsed": true
   },
   "outputs": [],
   "source": [
    "%autoreload\n",
    "%matplotlib inline\n",
    "\n",
    "import matplotlib\n",
    "import matplotlib.pyplot as plt\n",
    "\n",
    "matplotlib.rcParams['figure.figsize'] = [10,10]\n",
    "\n",
    "import numpy as np\n",
    "import pickle\n",
    "import darkhistory.physics as phys\n",
    "import darkhistory.spec.spectools as spectools\n",
    "\n",
    "\n",
    "from darkhistory.electrons.ics.ics_spectrum import ics_spec\n",
    "from darkhistory.electrons.ics.ics_engloss_spectrum import engloss_spec\n",
    "from darkhistory.electrons.ics.ics_cooling import get_ics_cooling_tf\n",
    "\n",
    "np.set_printoptions(threshold=np.nan)"
   ]
  },
  {
   "cell_type": "markdown",
   "metadata": {},
   "source": [
    "## Inputs"
   ]
  },
  {
   "cell_type": "markdown",
   "metadata": {},
   "source": [
    "The inputs of the code are as follows: \n",
    "\n",
    "1. A `Spectrum` or `Spectra` object containing the injected electron spectrum, or the injected electron spectrum as a function of redshift, and/or \n",
    "\n",
    "2. A `Spectrum` or `Spectra` object containing the injected photon spectrum, or the injected photon spectrum as a function of redshift.\n",
    "\n",
    "There are 3 modes of use. For a `Spectrum` input, the spectrum can be interpreted either as a single injection at a particular redshift, and no subsequent injections, or as a spectrum with the redshift dependence factored out, with a continuous injection at every step. For a `Spectra` input, the spectrum at each redshift step is injected. \n",
    "\n",
    "We will start with the single injection case here. As an example, we begin with a $\\delta$-function injection of two 1 MeV electrons at some arbitrary energy, start at redshift $1+z = 2000$. Let's first initialize the spectrum. "
   ]
  },
  {
   "cell_type": "code",
   "execution_count": 3,
   "metadata": {
    "collapsed": true
   },
   "outputs": [],
   "source": [
    "eleceng = np.logspace(1, 13, 100)\n",
    "photeng = np.logspace(-4, 13, 100)\n",
    "rs = 5\n",
    "\n",
    "elec_spec_init = spectools.rebin_N_arr(np.array([1]), \n",
    "                                      np.array([1e12]),\n",
    "                                      eleceng)\n",
    "\n",
    "elec_spec_init.rs = rs"
   ]
  },
  {
   "cell_type": "markdown",
   "metadata": {},
   "source": [
    "## Resolving Injected Electrons"
   ]
  },
  {
   "cell_type": "markdown",
   "metadata": {},
   "source": [
    "High energy electrons ($\\gg$ keV) primarily cool by inverse compton scattering (ICS), at a rate that is much faster than the smallest timestep allowable in this code ($\\Delta \\log (1+z) = 10^{-3}$). Lower energy electrons also cool quickly, but via atomic processes.\n",
    "\n",
    "Low energy electrons ($< 3.5$ keV) are read out immediately and saved in a `Spectra` object. High energy electrons will be converted into a photon spectrum through ICS, and an estimate for the energy loss due to atomic cooling also produced. \n",
    "\n",
    "For now, we will assume only ICS for high energy electrons. "
   ]
  },
  {
   "cell_type": "code",
   "execution_count": 4,
   "metadata": {
    "collapsed": true
   },
   "outputs": [],
   "source": [
    "raw_nonrel_ICS_tf = pickle.load(open(\"/Users/hongwan/Dropbox (MIT)/Photon Deposition/ICS_nonrel.raw\",\"rb\"))\n",
    "raw_rel_ICS_tf = pickle.load(open(\"/Users/hongwan/Dropbox (MIT)/Photon Deposition/ICS_rel.raw\",\"rb\"))\n",
    "raw_engloss_tf = pickle.load(open(\"/Users/hongwan/Dropbox (MIT)/Photon Deposition/ICS_englossspec.raw\",\"rb\"))\n",
    "\n",
    "(ics_phot_tf, ics_lowengelec_tf) = get_ics_cooling_tf(raw_nonrel_ICS_tf,\n",
    "                                                     raw_rel_ICS_tf,\n",
    "                                                     raw_engloss_tf,\n",
    "                                                     eleceng, photeng, rs)"
   ]
  },
  {
   "cell_type": "code",
   "execution_count": 5,
   "metadata": {
    "collapsed": true
   },
   "outputs": [],
   "source": [
    "phot_spec_init = spectools.scatter(ics_phot_tf, elec_spec_init, new_eng=photeng)"
   ]
  },
  {
   "cell_type": "markdown",
   "metadata": {},
   "source": [
    "## Photon Cooling"
   ]
  },
  {
   "cell_type": "markdown",
   "metadata": {},
   "source": [
    "Now we cool the photons that result from the high energy electron injection. Photons below 3.1 keV are considered low energy photons. For high energy photons, greater than 3.1 keV, we have transfer functions (a function of *both* injected photon energy and redshift, so they are given as a `TransFuncList`), into high energy photons, low energy photons and low energy electrons. Let's load them first. "
   ]
  },
  {
   "cell_type": "code",
   "execution_count": 6,
   "metadata": {
    "collapsed": true
   },
   "outputs": [],
   "source": [
    "highengphot_tflist = pickle.load(open(\"/Users/hongwan/Dropbox (MIT)/Photon Deposition/tfunclist_photspec.raw\", \"rb\"))\n",
    "lowengphot_tflist  = pickle.load(open(\"/Users/hongwan/Dropbox (MIT)/Photon Deposition/tfunclist_lowengphotspec.raw\", \"rb\"))\n",
    "lowengelec_tflist  = pickle.load(open(\"/Users/hongwan/Dropbox (MIT)/Photon Deposition/tfunclist_lowengelecspec.raw\", \"rb\"))"
   ]
  },
  {
   "cell_type": "code",
   "execution_count": 7,
   "metadata": {
    "collapsed": true
   },
   "outputs": [],
   "source": [
    "# This shouldn't be necessary. There is one negative value somewhere. Check.\n",
    "for tf in highengphot_tflist:\n",
    "    tf.grid_vals[np.where(tf.grid_vals < 0)] = 0\n",
    "for tf in lowengphot_tflist:\n",
    "    tf.grid_vals[np.where(tf.grid_vals < 0)] = 0\n"
   ]
  },
  {
   "cell_type": "markdown",
   "metadata": {},
   "source": [
    "We now need to construct a transfer function list for *both* high- and low-energy photons. It needs to be a square matrix (so that we can take powers of the matrix for coarsening later), with dimensions given by the length of `photeng`."
   ]
  },
  {
   "cell_type": "code",
   "execution_count": 8,
   "metadata": {
    "collapsed": true
   },
   "outputs": [],
   "source": [
    "#Split photeng into high and low energy. \n",
    "photeng_high = photeng[photeng > 3070]\n",
    "photeng_low  = photeng[photeng <= 3070]\n",
    "\n",
    "# Split eleceng into high and low energy. \n",
    "eleceng_high = eleceng[eleceng > 3500]\n",
    "eleceng_low  = eleceng[eleceng <= 3500]\n",
    "\n",
    "# highengphot_tflist.in_eng set to photeng_high\n",
    "highengphot_tflist.at_val('in_eng', photeng_high, bounds_error=False, fill_value=0)\n",
    "for tf in highengphot_tflist:\n",
    "    tf.rebin(photeng_high)\n",
    "    # Pad with zeros so that it becomes photeng x photeng. \n",
    "    tf._grid_vals = np.pad(tf.grid_vals, ((photeng_low.size, 0), (photeng_low.size, 0)), 'constant')\n",
    "    tf._N_underflow = np.pad(tf._N_underflow, (photeng_low.size, 0), 'constant')\n",
    "    tf._eng_underflow = np.pad(tf._eng_underflow, (photeng_low.size, 0), 'constant')\n",
    "    tf._in_eng = photeng\n",
    "    tf._eng = photeng\n",
    "highengphot_tflist.eng = photeng\n",
    "highengphot_tflist.in_eng = photeng\n",
    "    \n",
    "# lowengphot_tflist.in_eng set to photeng_high\n",
    "lowengphot_tflist.at_val('in_eng', photeng_high, bounds_error=False, fill_value=0)\n",
    "for tf in lowengphot_tflist:\n",
    "    tf.rebin(photeng)\n",
    "    # Pad with zeros so that it becomes photeng x photeng. \n",
    "    tf._grid_vals = np.pad(tf.grid_vals, ((photeng_low.size,0), (0,0)), 'constant')\n",
    "    tf._in_eng = photeng\n",
    "    tf._eng = photeng\n",
    "lowengphot_tflist.eng = photeng\n",
    "lowengphot_tflist.in_eng = photeng\n",
    "    \n",
    "# lowengelec_tflist.in_eng set to photeng_high \n",
    "lowengelec_tflist.at_val('in_eng', photeng_high, bounds_error=False, fill_value=0)\n",
    "for tf in lowengelec_tflist:\n",
    "    tf.rebin(eleceng)\n",
    "    # Pad with zeros so that it becomes photeng x eleceng. \n",
    "    tf._grid_vals = np.pad(tf.grid_vals, ((photeng_low.size,0), (0,0)), 'constant')\n",
    "    tf._in_eng = photeng\n",
    "    tf._eng = eleceng\n",
    "lowengelec_tflist.eng = eleceng\n",
    "lowengelec_tflist.in_eng = photeng\n",
    "    "
   ]
  },
  {
   "cell_type": "markdown",
   "metadata": {},
   "source": [
    "We need to decide on the redshift step to use. The default redshift step in the transfer functions is $d \\log (1+z) = 2 \\times 10^{-3}$, with the transfer function evaluated at (currently) 50 redshifts, from $1+z = 30$ to $1+z=4$, so that the transfer function with $d \\log(1+z) = 2 \\times 10^{-3}$ can be interpolated between them. However, we can coarsen the high energy photon transfer function by some factor $f$ by multiplying the transfer function matrix by itself multiple times, producing transfer functions for a redshift step of $d \\log (1+z) = f \\times 2 \\times 10^{-3}$. "
   ]
  },
  {
   "cell_type": "code",
   "execution_count": 9,
   "metadata": {
    "collapsed": true
   },
   "outputs": [],
   "source": [
    "# The redshift step to use will be coarsen_factor * 0.002\n",
    "coarsen_factor = 5\n",
    "# Generate the redshifts at which we want to get an interpolated value for the transfer function. \n",
    "tf_rs_arr = highengphot_tflist.rs\n",
    "rs_list = np.exp(np.arange(np.log(tf_rs_arr[0]), \n",
    "                           np.log(tf_rs_arr[-1]), \n",
    "                           -highengphot_tflist.dlnz*coarsen_factor)\n",
    "                )\n",
    "\n",
    "if coarsen_factor > 1:\n",
    "    lowengphot_tflist.coarsen(coarsen_factor, delete_tfs=False, coarsen_type='dep', prop_transfunclist=highengphot_tflist)\n",
    "    lowengelec_tflist.coarsen(coarsen_factor, delete_tfs=False, coarsen_type='dep', prop_transfunclist=highengphot_tflist)\n",
    "    highengphot_tflist.coarsen(coarsen_factor, delete_tfs=False)\n",
    "    \n",
    "\n",
    "lowengphot_tflist.at_val('rs',rs_list)\n",
    "lowengelec_tflist.at_val('rs',rs_list)\n",
    "highengphot_tflist.at_val('rs',rs_list)\n"
   ]
  },
  {
   "cell_type": "code",
   "execution_count": 10,
   "metadata": {},
   "outputs": [],
   "source": [
    "# spectools.evolve for lowengphot and lowengelec are incorrect, propagation needs to be done using highengphot_tflist.\n",
    "highengphot_spec_final = spectools.evolve(phot_spec_init, highengphot_tflist, end_rs=29)\n",
    "lowengphot_spec_final  = spectools.evolve(phot_spec_init, lowengphot_tflist, evolve_type='dep', prop_tflist=highengphot_tflist,  end_rs=29, save_steps=True)\n",
    "lowengelec_spec_final  = spectools.evolve(phot_spec_init, lowengelec_tflist, evolve_type='dep', prop_tflist=highengphot_tflist,  end_rs=29, save_steps=True)"
   ]
  },
  {
   "cell_type": "markdown",
   "metadata": {},
   "source": [
    "# Low Energy Electrons and Photons"
   ]
  },
  {
   "cell_type": "markdown",
   "metadata": {},
   "source": [
    "# TLA Integration"
   ]
  },
  {
   "cell_type": "code",
   "execution_count": 11,
   "metadata": {},
   "outputs": [
    {
     "name": "stdout",
     "output_type": "stream",
     "text": [
      "[ 31.          30.69154485  30.38615887  30.08381154  29.78447261\n",
      "  29.48811216  29.19470054  28.90420842  28.61660674  28.33186674\n",
      "  28.04995996  27.77085819  27.49453354  27.22095836  26.9501053\n",
      "  26.68194727  26.41645746  26.15360931  25.89337655  25.63573315\n",
      "  25.38065335  25.12811163  24.87808274  24.63054168  24.38546369\n",
      "  24.14282428  23.90259916  23.66476432  23.42929599  23.19617059\n",
      "  22.96536484  22.73685564  22.51062015  22.28663574  22.06488001\n",
      "  21.84533078  21.62796611  21.41276425  21.19970369  20.98876311\n",
      "  20.77992143  20.57315775  20.36845141  20.16578194  19.96512905\n",
      "  19.7664727   19.56979301  19.37507032  19.18228515  18.99141822\n",
      "  18.80245045  18.61536294  18.43013699  18.24675406  18.06519582\n",
      "  17.88544412  17.70748098  17.5312886   17.35684936  17.18414583\n",
      "  17.01316072  16.84387694  16.67627757  16.51034583  16.34606515\n",
      "  16.18341908  16.02239137  15.86296591  15.70512676  15.54885814\n",
      "  15.39414442  15.24097012  15.08931993  14.93917869  14.79053138\n",
      "  14.64336313  14.49765924  14.35340512  14.21058635  14.06918865\n",
      "  13.92919789  13.79060005  13.65338129  13.51752788  13.38302623\n",
      "  13.24986289  13.11802455  12.98749803  12.85827026  12.73032834\n",
      "  12.60365945  12.47825095  12.35409027  12.23116502  12.1094629\n",
      "  11.98897173  11.86967947  11.75157418  11.63464406  11.51887742\n",
      "  11.40426268  11.29078837  11.17844315  11.06721578  10.95709514\n",
      "  10.84807022  10.74013012  10.63326404  10.52746129  10.4227113\n",
      "  10.31900359  10.21632779  10.11467363  10.01403095   9.91438968\n",
      "   9.81573985   9.71807161   9.62137518   9.5256409    9.43085919\n",
      "   9.33702057   9.24411566   9.15213517   9.06106991   8.97091076\n",
      "   8.8816487    8.79327482   8.70578028   8.61915631   8.53339428\n",
      "   8.44848558   8.36442175   8.28119436   8.1987951    8.11721573\n",
      "   8.03644808   7.95648409   7.87731575   7.79893514   7.72133444\n",
      "   7.64450588   7.56844178   7.49313452   7.41857659   7.34476052\n",
      "   7.27167893   7.19932452   7.12769004   7.05676834   6.98655232\n",
      "   6.91703496   6.84820932   6.7800685    6.71260569   6.64581414\n",
      "   6.57968719   6.51421821   6.44940065   6.38522804   6.32169396\n",
      "   6.25879206   6.19651604   6.13485967   6.0738168    6.01338131\n",
      "   5.95354717   5.89430838   5.83565903   5.77759326   5.72010524\n",
      "   5.66318925   5.60683957   5.55105059   5.49581671   5.44113242\n",
      "   5.38699225   5.33339078   5.28032265   5.22778257   5.17576526\n",
      "   5.12426553   5.07327824   5.02279828   4.9728206    4.92334021\n",
      "   4.87435216   4.82585154   4.77783352   4.73029328   4.68322607\n",
      "   4.6366272    4.59049198   4.54481583   4.49959415   4.45482244\n",
      "   4.41049622   4.36661105   4.32316254   4.28014636   4.23755819\n",
      "   4.19539378]\n"
     ]
    }
   ],
   "source": [
    "print(rs_list)"
   ]
  },
  {
   "cell_type": "code",
   "execution_count": 13,
   "metadata": {},
   "outputs": [
    {
     "name": "stdout",
     "output_type": "stream",
     "text": [
      "<darkhistory.spec.spectrum.Spectrum object at 0x10d6651d0>\n",
      "[ 0.0  0.0  0.0  0.0  0.0  0.0  0.0  0.0  0.0  0.0  0.0  0.0  0.0  0.0  0.0\n",
      "  0.0  0.0  0.0  0.0  0.0  0.0  0.0  0.0  0.0  0.0  0.0  0.0  0.0  0.0  0.0\n",
      "  0.0  0.0  0.0  0.0  0.0  0.0  0.0  0.0  0.0  0.0  0.0  0.0  0.0  0.0\n",
      "  6.7513011e-33  1.4776637e-31  5.3655541e-30  3.0703887e-34  2.3636385e-34\n",
      "  9.0714554e-35  8.7063589e-35  3.4031057e-35  9.2303588e-35  9.2870429e-36\n",
      "  5.8325168e-36  2.7054205e-36  1.314924e-36  7.1402223e-37  4.5527966e-37\n",
      "  7.9541725e-37  2.1327243e-37  1.2788171e-37  4.0604472e-38  1.8930739e-38\n",
      "  1.7513158e-38  5.1230924e-39  5.7748128e-39  1.4219864e-39  6.5360556e-40\n",
      "  4.3440896e-40  1.5522027e-40  6.5895969e-41  4.3267794e-41  1.1262991e-41\n",
      "  9.3818284e-42  2.3946115e-40  2.0476465e-43  2.058335e-44  1.3287796e-45\n",
      "  1.9060029e-45  9.895211e-48  7.1453397e-48  1.9940999e-47  6.1497206e-46\n",
      "  2.1109143e-44  1.6470299e-42  1.6311045e-40  6.2329094e-56  1.1704678e-54\n",
      "  7.8970102e-53  3.3970708e-51  3.1143292e-74  3.9039551e-107\n",
      "  2.3738152e-188  5.8121111e-195  0.0  0.0  0.0  0.0  0.0]\n",
      "[ 5.0865825e-22  1.1731449e-21  1.7253438e-21  2.5343535e-21  3.7519836e-21\n",
      "  5.4390869e-21  7.8695423e-21  1.1143981e-20  1.5503591e-20  2.0811781e-20\n",
      "  2.6472968e-20  3.1263982e-20  3.2492841e-20  2.7564829e-20  1.7226753e-20\n",
      "  7.0098207e-21  1.6743289e-21  2.8000243e-22  7.7135121e-23  3.4764936e-23\n",
      "  1.6680924e-23  8.1050325e-24  4.0631086e-24  2.0809415e-24  1.0893185e-24\n",
      "  5.8302209e-25  3.1506216e-25  1.7021472e-25  9.307398e-26  5.0866101e-26\n",
      "  2.7684429e-26  1.5194635e-26  8.3867416e-27  4.5932303e-27  2.5267021e-27\n",
      "  1.4003832e-27  7.7082056e-28  4.2271356e-28  1.9831533e-28  4.0686921e-29\n",
      "  6.1783887e-30  9.352767e-31  1.3829401e-31  1.9257925e-32  8.2736354e-34\n",
      "  4.3947857e-48  1.4355222e-48  4.7356845e-49  2.014957e-49  8.7082473e-50\n",
      "  4.1383591e-50  1.7364045e-50  7.0563863e-51  2.1323144e-51  5.271131e-52\n",
      "  8.455624e-53  7.527377e-54  3.0242844e-55  6.0791299e-57  1.1699239e-57\n",
      "  5.8337805e-58  3.1272281e-58  1.616478e-58  8.6911222e-59  4.9874371e-59\n",
      "  2.6144701e-59  1.5159851e-59  7.9021698e-60  4.235403e-60  2.3123116e-60\n",
      "  1.1797423e-60  5.9320619e-61  2.9375384e-61  1.2572956e-61  4.8577823e-62\n",
      "  1.6685005e-62  3.7114488e-63  5.505935e-64  4.2392737e-65  1.3768791e-66\n",
      "  1.0185583e-68  8.3217861e-72  9.5951558e-76  2.1996477e-76  4.3396587e-77\n",
      "  4.8490919e-78  2.3747541e-79  1.9033063e-81  9.786348e-85  5.6275616e-91\n",
      "  4.586069e-108  5.0423352e-120  5.0799775e-145  2.3856893e-224\n",
      "  6.8730259e-232  0.0  0.0  0.0  0.0  0.0]\n",
      "[ 9.5071774e-27  6.5618749e-27  4.2975796e-27  2.7425577e-27  1.7113561e-27\n",
      "  1.1050327e-27  7.5998404e-28  5.7189586e-28  4.4930735e-28  3.7983973e-28\n",
      "  3.6807868e-28  2.5771981e-28  1.5621876e-28  5.3810209e-29  5.4547643e-30\n",
      "  2.5672164e-30  1.4187896e-30  7.9112617e-31  4.5040849e-31  3.5360185e-31\n",
      "  2.731024e-30  1.0436516e-30  0.0  0.0  0.0  0.0  0.0  0.0  0.0  0.0  0.0\n",
      "  0.0  0.0  0.0  0.0  0.0  0.0  0.0  0.0  0.0  0.0  0.0  0.0  0.0  0.0  0.0\n",
      "  0.0  0.0  0.0  0.0  0.0  0.0  0.0  0.0  0.0  0.0  0.0  0.0  0.0  0.0  0.0\n",
      "  0.0  0.0  0.0  0.0  0.0  0.0  0.0  0.0  0.0  0.0  0.0  0.0  0.0  0.0  0.0\n",
      "  0.0  0.0  0.0  0.0  0.0  0.0  0.0  0.0  0.0  0.0  0.0  0.0  0.0  0.0  0.0\n",
      "  0.0  0.0  0.0  0.0  0.0  0.0  0.0  0.0  0.0]\n"
     ]
    }
   ],
   "source": [
    "print(phot_spec_init)\n",
    "print(highengphot_spec_final.dNdE)\n",
    "print(lowengphot_spec_final[-1].dNdE)\n",
    "print(lowengelec_spec_final[-1].dNdE)"
   ]
  },
  {
   "cell_type": "code",
   "execution_count": null,
   "metadata": {
    "collapsed": true
   },
   "outputs": [],
   "source": []
  }
 ],
 "metadata": {
  "anaconda-cloud": {},
  "kernelspec": {
   "display_name": "Python 3",
   "language": "python",
   "name": "python3"
  },
  "language_info": {
   "codemirror_mode": {
    "name": "ipython",
    "version": 3
   },
   "file_extension": ".py",
   "mimetype": "text/x-python",
   "name": "python",
   "nbconvert_exporter": "python",
   "pygments_lexer": "ipython3",
   "version": "3.6.3"
  }
 },
 "nbformat": 4,
 "nbformat_minor": 1
}
