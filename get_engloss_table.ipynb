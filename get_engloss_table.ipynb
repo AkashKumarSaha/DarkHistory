{
 "cells": [
  {
   "cell_type": "code",
   "execution_count": 2,
   "metadata": {
    "collapsed": true
   },
   "outputs": [],
   "source": [
    "%load_ext autoreload"
   ]
  },
  {
   "cell_type": "code",
   "execution_count": 83,
   "metadata": {},
   "outputs": [],
   "source": [
    "%autoreload\n",
    "import numpy as np\n",
    "import darkhistory.electrons.ics.series as series\n",
    "import darkhistory.electrons.ics.ics_spectrum as ics_spec\n",
    "import darkhistory.physics as phys\n",
    "\n",
    "np.set_printoptions(precision=6)"
   ]
  },
  {
   "cell_type": "code",
   "execution_count": 87,
   "metadata": {},
   "outputs": [
    {
     "name": "stdout",
     "output_type": "stream",
     "text": [
      "[[  5.000000e-01   5.000000e+03   5.000000e+07]\n",
      " [  5.005000e-06   4.995000e-02   4.995000e+02]\n",
      " [  1.000000e-08   5.000000e-13   5.000000e-09]]\n",
      "(array([[ 0.0775888,  0.0,  0.0],\n",
      "       [-73.7552, -3.85918,  7.30347e-217],\n",
      "       [-170.577, -216.087,  1.11786]], dtype=float128), array([[ 3.84965e-11,  0.0,  0.0],\n",
      "       [ 5.24232e-12,  6.02323e-11,  0.0],\n",
      "       [ 2.26671e-12,  9.11894e-11,  1.47179e-11]], dtype=float128))\n"
     ]
    }
   ],
   "source": [
    "a = np.array([-1e-8,1e-4, 1])\n",
    "beta = np.array([1e-8, 1e-3,1.-1e-8])\n",
    "lowlim1 = np.outer((1-beta)/(2*beta), a)\n",
    "lowlim2 = np.outer(-(1+beta)/(2*beta), a)\n",
    "lowlim = np.maximum(lowlim1, lowlim2)\n",
    "print(lowlim)\n",
    "print(series.F_log_a(lowlim, a))"
   ]
  },
  {
   "cell_type": "code",
   "execution_count": null,
   "metadata": {
    "collapsed": true
   },
   "outputs": [],
   "source": []
  }
 ],
 "metadata": {
  "kernelspec": {
   "display_name": "Python 3",
   "language": "python",
   "name": "python3"
  },
  "language_info": {
   "codemirror_mode": {
    "name": "ipython",
    "version": 3
   },
   "file_extension": ".py",
   "mimetype": "text/x-python",
   "name": "python",
   "nbconvert_exporter": "python",
   "pygments_lexer": "ipython3",
   "version": "3.6.3"
  }
 },
 "nbformat": 4,
 "nbformat_minor": 2
}
