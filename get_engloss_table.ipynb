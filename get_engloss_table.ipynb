{
 "cells": [
  {
   "cell_type": "code",
   "execution_count": 2,
   "metadata": {
    "collapsed": false
   },
   "outputs": [],
   "source": [
    "%load_ext autoreload"
   ]
  },
  {
   "cell_type": "code",
   "execution_count": 21,
   "metadata": {
    "collapsed": true
   },
   "outputs": [],
   "source": [
    "%autoreload\n",
    "import numpy as np\n",
    "import scipy.special as sp\n",
    "import darkhistory.electrons.ics.engloss_diff_terms as series\n",
    "import darkhistory.electrons.ics.bose_einstein_integrals as BE_int\n",
    "import darkhistory.electrons.ics.ics_spectrum as ics_spec\n",
    "import darkhistory.physics as phys\n",
    "import pickle\n",
    "\n",
    "np.set_printoptions(precision=15)"
   ]
  },
  {
   "cell_type": "code",
   "execution_count": 4,
   "metadata": {
    "collapsed": false
   },
   "outputs": [
    {
     "name": "stdout",
     "output_type": "stream",
     "text": [
      "[[ 1.916805812e-14]]\n",
      "[[-2.83016695e-14]]\n",
      "[[ 2.875218291e-14]]\n",
      "[[-1.916815912e-14]]\n",
      "Computing energy loss spectrum by beta expansion...\n",
      "(1/5) Computing F1_up - F1_down term...\n",
      "(2/5) Computing F0_up - F0_down term...\n",
      "(3/5) Computing F0_up + F0_down term...\n",
      "(4/5) Computing F_inv_up - F_inv_down term...\n",
      "(5/5) Computing F_inv2_up - F_inv2_down term...\n",
      "[[ 1.916805819e-14]]\n",
      "[[-1.871764578e-14]]\n",
      "[[ 4.504124143e-16]]\n",
      "Computation by expansion in beta complete!\n",
      "[[ 8.884136041e-11]]\n"
     ]
    }
   ],
   "source": [
    "beta = np.float128(5e-4)\n",
    "eleceng = np.float128(1/np.sqrt(1 - beta**2)*phys.me)\n",
    "delta = np.float128(5e-3)\n",
    "T = np.float128(0.000235*1000)\n",
    "\n",
    "print(T**2/beta**2*series.F1_up_down(beta, delta, T))\n",
    "print(T**2/beta**2*(series.F0_up_down_diff(beta, delta, T) + series.F0_up_down_sum(beta, delta, T)))\n",
    "print(T**2/beta**2*series.F_inv_up_down(beta, delta, T))\n",
    "print(T**2/beta**2*series.F_inv2_up_down(beta, delta, T))\n",
    "print(ics_spec.engloss_spec_diff(eleceng, delta, T))"
   ]
  },
  {
   "cell_type": "code",
   "execution_count": 6,
   "metadata": {
    "collapsed": false
   },
   "outputs": [
    {
     "name": "stdout",
     "output_type": "stream",
     "text": [
      "Computing energy loss spectrum by analytic series...\n",
      "Computing upscattering loss spectra...\n",
      "Computing series 1/7...\n",
      "Computing series 2/7...\n",
      "Computing series 3/7...\n",
      "Computing series 4/7...\n",
      "Computing series 5/7...\n",
      "Computing series 6/7...\n",
      "Computing series 7/7...\n",
      "Computing downscattering loss spectra...\n",
      "Computing series 1/7...\n",
      "Computing series 2/7...\n",
      "Computing series 3/7...\n",
      "Computing series 4/7...\n",
      "Computing series 5/7...\n",
      "Computing series 6/7...\n",
      "Computing series 7/7...\n",
      "***** Diagnostics *****\n",
      "lowlim_up:  [[ 21.26595745]]\n",
      "lowlim_down:  [[ 21.28723404]]\n",
      "beta:  [ 0.0005]\n",
      "delta/T:  [ 0.02127659574]\n",
      "***** Individual terms *****\n",
      "term_1_up:  [[ 9.528574657e-13]]\n",
      "term_0_up:  [[-5.463109896e-06]]\n",
      "term_inv_up:  [[-2.613744238e-09]]\n",
      "term_log_up:  [[ 5.465722747e-06]]\n",
      "term_1_down:  [[ 9.336894073e-13]]\n",
      "term_0_down:  [[-5.34810135e-06]]\n",
      "term_inv_down:  [[ 2.558826172e-09]]\n",
      "term_log_down:  [[ 5.345541648e-06]]\n",
      "***** Upscatter and Downscatter Differences*****\n",
      "term_1:  [[ 1.916805845e-14]]\n",
      "term_0:  [[-1.150085466e-07]]\n",
      "term_inv:  [[-5.17257041e-09]]\n",
      "term_log:  [[ 1.201810991e-07]]\n",
      "Sum three terms:  [[-1.792426434e-14]]\n",
      "Sum:  [[ 1.243794111e-15]]\n",
      "***** Total Sum (Excluding Prefactor) *****\n",
      "Upscattering loss spectrum: \n",
      "[[ 1.16936067e-08]]\n",
      "Downscattering loss spectrum: \n",
      "[[ 1.144827518e-08]]\n",
      "***** End Diagnostics *****\n"
     ]
    },
    {
     "data": {
      "text/plain": [
       "array([[ 2.453315173e-10]], dtype=float128)"
      ]
     },
     "execution_count": 6,
     "metadata": {},
     "output_type": "execute_result"
    }
   ],
   "source": [
    "ics_spec.engloss_spec_series(np.array([eleceng], dtype='float128'), np.array([delta], dtype='float128'), 0.235)"
   ]
  },
  {
   "cell_type": "code",
   "execution_count": 26,
   "metadata": {
    "collapsed": true
   },
   "outputs": [],
   "source": [
    "Emax = np.float128(1e10)\n",
    "Emin = np.float128(1e-8)\n",
    "nEe = np.float128(500)\n",
    "nEp  = np.float128(500)\n",
    "\n",
    "dlnEp = np.log(Emax/Emin)/nEp\n",
    "delta = Emin*np.exp((np.arange(nEp)+0.5)*dlnEp)        \n",
    "\n",
    "dlnEe = np.log(Emax/Emin)/nEe\n",
    "lowengEe = phys.me + Emin*np.exp((np.arange(nEe)+0.5)*dlnEe)\n",
    "\n",
    "# lowengEe = np.array([lowengEe[168]],dtype='float128')\n",
    "# lowengEp = np.array([lowengEp[521]],dtype='float128')\n",
    "#521\n",
    "T = np.float128(phys.TCMB(1)*1000)"
   ]
  },
  {
   "cell_type": "code",
   "execution_count": 27,
   "metadata": {
    "collapsed": false
   },
   "outputs": [
    {
     "name": "stdout",
     "output_type": "stream",
     "text": [
      "Computing energy loss spectra by analytic series...\n",
      "Computing upscattering loss spectra...\n",
      "Computing series 1/7...\n",
      "Computing series 2/7...\n",
      "Computing series 3/7...\n",
      "Computing series 4/7...\n",
      "Computing series 5/7...\n",
      "Computing series 6/7...\n",
      "Computing series 7/7...\n",
      "Computing downscattering loss spectra...\n",
      "Computing series 1/7...\n",
      "Computing series 2/7...\n",
      "Computing series 3/7...\n",
      "Computing series 4/7...\n",
      "Computing series 5/7...\n",
      "Computing series 6/7...\n",
      "Computing series 7/7...\n",
      " "
     ]
    }
   ],
   "source": [
    "%%prun\n",
    "a = ics_spec.engloss_spec(lowengEe, delta, T)\n"
   ]
  },
  {
   "cell_type": "code",
   "execution_count": 28,
   "metadata": {
    "collapsed": true
   },
   "outputs": [],
   "source": [
    "pickle.dump(a, \n",
    "            open(\"/Users/hongwan/Dropbox (MIT)/Photon Deposition/ICS_englossspec.raw\", \"wb\"))"
   ]
  },
  {
   "cell_type": "code",
   "execution_count": 20,
   "metadata": {
    "collapsed": false
   },
   "outputs": [
    {
     "name": "stdout",
     "output_type": "stream",
     "text": [
      "0.0014265364183\n",
      "0.001426536443148688\n",
      "0.00142450718938\n",
      "0.0014245072886297377\n"
     ]
    }
   ],
   "source": [
    "k = 700\n",
    "print(np.exp(k)*sp.expn(1,k))\n",
    "print(1/k-1/k**2+2/k**3)\n",
    "print(np.exp(k)*sp.expn(2,k))\n",
    "print(1/k-2/k**2+6/k**3)"
   ]
  },
  {
   "cell_type": "code",
   "execution_count": 113,
   "metadata": {
    "collapsed": false
   },
   "outputs": [
    {
     "name": "stdout",
     "output_type": "stream",
     "text": [
      "[[  5.000000e-01   5.000000e+03   5.000000e+07]\n",
      " [  5.005000e-06   4.995000e-02   4.995000e+02]\n",
      " [  1.000000e-08   5.000000e-13   5.000000e-09]]\n",
      "(array([[ 0.0775888,  0.0,  0.0],\n",
      "       [-73.7552, -3.85918,  7.30347e-217],\n",
      "       [-170.577, -216.087,  1.11786]], dtype=float128), array([[ 3.84965e-11,  0.0,  0.0],\n",
      "       [ 5.24232e-12,  6.02323e-11,  0.0],\n",
      "       [ 2.26671e-12,  9.11894e-11,  1.47179e-11]], dtype=float128))\n"
     ]
    }
   ],
   "source": [
    "a = np.array([-1e-8,1e-4, 1])\n",
    "beta = np.array([1e-8, 1e-3,1.-1e-8])\n",
    "lowlim1 = np.outer((1-beta)/(2*beta), a)\n",
    "lowlim2 = np.outer(-(1+beta)/(2*beta), a)\n",
    "lowlim = np.maximum(lowlim1, lowlim2)\n",
    "print(lowlim)\n",
    "print(series.F_log_a(lowlim, a))"
   ]
  },
  {
   "cell_type": "code",
   "execution_count": 114,
   "metadata": {
    "collapsed": false
   },
   "outputs": [
    {
     "data": {
      "text/plain": [
       "(array([ 0.0731666], dtype=float128), array([ 1.78408e-11], dtype=float128))"
      ]
     },
     "execution_count": 114,
     "metadata": {},
     "output_type": "execute_result"
    }
   ],
   "source": [
    "series.F_x_log(np.array([0.203]), np.array([3.650]))"
   ]
  },
  {
   "cell_type": "code",
   "execution_count": 116,
   "metadata": {
    "collapsed": false
   },
   "outputs": [
    {
     "name": "stdout",
     "output_type": "stream",
     "text": [
      "[[  5.000000e-01   5.000000e+03   5.000000e+03   5.000000e+07]\n",
      " [  5.005000e-06   5.005000e-02   4.995000e-02   4.995000e+02]\n",
      " [  1.000000e-08   1.000000e-04   5.000000e-13   5.000000e-09]]\n",
      "(array([[ 0.533462,  0.0,  0.0,  0.0],\n",
      "       [-0.24203, -0.0446386, -0.0443266,  3.65539e-214],\n",
      "       [-0.242096, -0.241163, -0.241075,  1.27739]], dtype=float128), array([[ 4.71226e-11,  0.0,  0.0,  0.0],\n",
      "       [ 2.529e-11,  1.06359e-11,  1.07121e-11,  0.0],\n",
      "       [ 2.52831e-11,  2.53791e-11,  2.53919e-11,  2.87272e-11]], dtype=float128))\n"
     ]
    }
   ],
   "source": [
    "a = np.array([-1e-8,-1e-4,1e-4, 1])\n",
    "beta = np.array([1e-8, 1e-3,1.-1e-8])\n",
    "lowlim1 = np.outer((1-beta)/(2*beta), a)\n",
    "lowlim2 = np.outer(-(1+beta)/(2*beta), a)\n",
    "lowlim = np.maximum(lowlim1, lowlim2)\n",
    "print(lowlim)\n",
    "print(series.F_x_log_a(lowlim, a))"
   ]
  },
  {
   "cell_type": "code",
   "execution_count": 70,
   "metadata": {
    "collapsed": false
   },
   "outputs": [
    {
     "data": {
      "text/plain": [
       "2.6881171418161356e+43"
      ]
     },
     "execution_count": 70,
     "metadata": {},
     "output_type": "execute_result"
    }
   ],
   "source": [
    "np.exp(100)"
   ]
  },
  {
   "cell_type": "code",
   "execution_count": null,
   "metadata": {
    "collapsed": true
   },
   "outputs": [],
   "source": []
  }
 ],
 "metadata": {
  "anaconda-cloud": {},
  "kernelspec": {
   "display_name": "Python [default]",
   "language": "python",
   "name": "python3"
  },
  "language_info": {
   "codemirror_mode": {
    "name": "ipython",
    "version": 3
   },
   "file_extension": ".py",
   "mimetype": "text/x-python",
   "name": "python",
   "nbconvert_exporter": "python",
   "pygments_lexer": "ipython3",
   "version": "3.5.2"
  }
 },
 "nbformat": 4,
 "nbformat_minor": 2
}
