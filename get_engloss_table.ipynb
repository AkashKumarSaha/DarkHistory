{
 "cells": [
  {
   "cell_type": "code",
   "execution_count": 2,
   "metadata": {
    "collapsed": false
   },
   "outputs": [],
   "source": [
    "%load_ext autoreload"
   ]
  },
  {
   "cell_type": "code",
   "execution_count": 188,
   "metadata": {
    "collapsed": false
   },
   "outputs": [],
   "source": [
    "%autoreload\n",
    "import numpy as np\n",
    "import scipy.special as sp\n",
    "import darkhistory.electrons.ics.engloss_diff_terms as series\n",
    "import darkhistory.electrons.ics.bose_einstein_integrals as BE_int\n",
    "import darkhistory.electrons.ics.ics_engloss_spectrum as ics_spec\n",
    "import darkhistory.physics as phys\n",
    "import pickle\n",
    "\n",
    "np.set_printoptions(precision=15)"
   ]
  },
  {
   "cell_type": "code",
   "execution_count": 189,
   "metadata": {
    "collapsed": false
   },
   "outputs": [
    {
     "name": "stdout",
     "output_type": "stream",
     "text": [
      "0.255499664675\n",
      "[[ 5.62004908854865e-08]]\n",
      "[[-3.25818949597952e-08]]\n",
      "[[ 8.43007256624368e-08]]\n",
      "[[-3.8429379524778e-08]]\n",
      "Computing energy loss spectrum by beta expansion...\n",
      "(1/5) Computing F1_up - F1_down term...\n",
      "(2/5) Computing F0_up - F0_down term...\n",
      "(3/5) Computing F0_up + F0_down term...\n",
      "(4/5) Computing F_inv_up - F_inv_down term...\n",
      "(5/5) Computing F_rem term...\n",
      "Computation by expansion in beta complete!\n",
      "[[ 0.00342662293976345]]\n"
     ]
    }
   ],
   "source": [
    "beta = np.float128(0.001)\n",
    "eleceng = np.float128(1/np.sqrt(1 - beta**2)*phys.me)\n",
    "delta = np.float128(1e-4)\n",
    "T = np.float128(phys.TCMB(1000))\n",
    "print(eleceng-phys.me)\n",
    "\n",
    "print(T**2/beta**2*series.F1_up_down(beta, delta, T))\n",
    "print(T**2/beta**2*(series.F0_up_down_diff(beta, delta, T) + series.F0_up_down_sum(beta, delta, T)))\n",
    "print(T**2/beta**2*series.F_inv_up_down(beta, delta, T))\n",
    "print(T**2/beta**2*series.F_rem(beta, delta, T))\n",
    "print(ics_spec.engloss_spec_diff(eleceng, delta, T))"
   ]
  },
  {
   "cell_type": "code",
   "execution_count": 190,
   "metadata": {
    "collapsed": false
   },
   "outputs": [
    {
     "name": "stdout",
     "output_type": "stream",
     "text": [
      "Computing energy loss spectrum by analytic series...\n",
      "Computing upscattering loss spectra...\n",
      "Computing series 1/7...\n",
      "Computing series 2/7...\n",
      "Computing series 3/7...\n",
      "Computing series 4/7...\n",
      "Computing series 5/7...\n",
      "Computing series 6/7...\n",
      "Computing series 7/7...\n",
      "Computing downscattering loss spectra...\n",
      "Computing series 1/7...\n",
      "Computing series 2/7...\n",
      "Computing series 3/7...\n",
      "Computing series 4/7...\n",
      "Computing series 5/7...\n",
      "Computing series 6/7...\n",
      "Computing series 7/7...\n",
      "***** Diagnostics *****\n",
      "lowlim_up:  [[ 0.212675068645182]]\n",
      "lowlim_down:  [[ 0.213100844558391]]\n",
      "beta:  [ 0.00100000000001301]\n",
      "delta/T:  [ 0.000425775913209112]\n",
      "***** Individual terms *****\n",
      "term_1_up:  [[ 0.00021230652620672]]\n",
      "term_0_up:  [[-77.6203718440324]]\n",
      "term_inv_up:  [[-0.0327668292745266]]\n",
      "term_log_up:  [[ 77.6530814032884]]\n",
      "term_1_down:  [[ 0.000212250325707246]]\n",
      "term_0_down:  [[-77.5360711450867]]\n",
      "term_inv_down:  [[ 0.0327480435059462]]\n",
      "term_log_down:  [[ 77.5032670308707]]\n",
      "***** Upscatter and Downscatter Differences*****\n",
      "term_1:  [[ 5.62004994746055e-08]]\n",
      "term_0:  [[-0.0843006989457025]]\n",
      "term_inv:  [[-0.0655148727804728]]\n",
      "term_log:  [[ 0.149814372417635]]\n",
      "Sum three terms:  [[-1.19930854020761e-06]]\n",
      "Sum:  [[-1.1431080407312e-06]]\n",
      "***** Total Sum (Excluding Prefactor) *****\n",
      "Upscattering loss spectrum: \n",
      "[[ 7.64501505780863]]\n",
      "Downscattering loss spectrum: \n",
      "[[ 7.70138293089437]]\n",
      "***** End Diagnostics *****\n"
     ]
    },
    {
     "data": {
      "text/plain": [
       "array([[-0.0563678730857388]], dtype=float128)"
      ]
     },
     "execution_count": 190,
     "metadata": {},
     "output_type": "execute_result"
    }
   ],
   "source": [
    "ics_spec.engloss_spec_series(np.array([eleceng], dtype='float128'), \n",
    "                             np.array([delta], dtype='float128'), T)"
   ]
  },
  {
   "cell_type": "code",
   "execution_count": 191,
   "metadata": {
    "collapsed": true
   },
   "outputs": [],
   "source": [
    "Emax = np.float128(1e10)\n",
    "Emin = np.float128(1e-8)\n",
    "nEe = np.float128(500)\n",
    "nEp  = np.float128(500)\n",
    "\n",
    "dlnEp = np.log(Emax/Emin)/nEp\n",
    "delta = Emin*np.exp((np.arange(nEp)+0.5)*dlnEp)        \n",
    "\n",
    "dlnEe = np.log(Emax/Emin)/nEe\n",
    "lowengEe = phys.me + Emin*np.exp((np.arange(nEe)+0.5)*dlnEe)\n",
    "\n",
    "# lowengEe = np.array([lowengEe[168]],dtype='float128')\n",
    "# lowengEp = np.array([lowengEp[521]],dtype='float128')\n",
    "#521\n",
    "T = np.float128(phys.TCMB(1)*1000)"
   ]
  },
  {
   "cell_type": "code",
   "execution_count": 192,
   "metadata": {
    "collapsed": false
   },
   "outputs": [
    {
     "name": "stdout",
     "output_type": "stream",
     "text": [
      "Computing energy loss spectrum by beta expansion...\n",
      "(1/5) Computing F1_up - F1_down term...\n",
      "(2/5) Computing F0_up - F0_down term...\n",
      "(3/5) Computing F0_up + F0_down term...\n",
      "(4/5) Computing F_inv_up - F_inv_down term...\n",
      "(5/5) Computing F_rem term...\n",
      "Computation by expansion in beta complete!\n",
      " "
     ]
    }
   ],
   "source": [
    "%%prun\n",
    "a = ics_spec.engloss_spec_diff(lowengEe, delta, T)\n"
   ]
  },
  {
   "cell_type": "code",
   "execution_count": 193,
   "metadata": {
    "collapsed": true
   },
   "outputs": [],
   "source": [
    "pickle.dump(a, \n",
    "            open(\"/Users/hongwan/Dropbox (MIT)/Photon Deposition/ICS_englossspec.raw\", \"wb\"))"
   ]
  },
  {
   "cell_type": "code",
   "execution_count": 20,
   "metadata": {
    "collapsed": false
   },
   "outputs": [
    {
     "name": "stdout",
     "output_type": "stream",
     "text": [
      "0.0014265364183\n",
      "0.001426536443148688\n",
      "0.00142450718938\n",
      "0.0014245072886297377\n"
     ]
    }
   ],
   "source": [
    "k = 700\n",
    "print(np.exp(k)*sp.expn(1,k))\n",
    "print(1/k-1/k**2+2/k**3)\n",
    "print(np.exp(k)*sp.expn(2,k))\n",
    "print(1/k-2/k**2+6/k**3)"
   ]
  },
  {
   "cell_type": "code",
   "execution_count": 113,
   "metadata": {
    "collapsed": false
   },
   "outputs": [
    {
     "name": "stdout",
     "output_type": "stream",
     "text": [
      "[[  5.000000e-01   5.000000e+03   5.000000e+07]\n",
      " [  5.005000e-06   4.995000e-02   4.995000e+02]\n",
      " [  1.000000e-08   5.000000e-13   5.000000e-09]]\n",
      "(array([[ 0.0775888,  0.0,  0.0],\n",
      "       [-73.7552, -3.85918,  7.30347e-217],\n",
      "       [-170.577, -216.087,  1.11786]], dtype=float128), array([[ 3.84965e-11,  0.0,  0.0],\n",
      "       [ 5.24232e-12,  6.02323e-11,  0.0],\n",
      "       [ 2.26671e-12,  9.11894e-11,  1.47179e-11]], dtype=float128))\n"
     ]
    }
   ],
   "source": [
    "a = np.array([-1e-8,1e-4, 1])\n",
    "beta = np.array([1e-8, 1e-3,1.-1e-8])\n",
    "lowlim1 = np.outer((1-beta)/(2*beta), a)\n",
    "lowlim2 = np.outer(-(1+beta)/(2*beta), a)\n",
    "lowlim = np.maximum(lowlim1, lowlim2)\n",
    "print(lowlim)\n",
    "print(series.F_log_a(lowlim, a))"
   ]
  },
  {
   "cell_type": "code",
   "execution_count": 114,
   "metadata": {
    "collapsed": false
   },
   "outputs": [
    {
     "data": {
      "text/plain": [
       "(array([ 0.0731666], dtype=float128), array([ 1.78408e-11], dtype=float128))"
      ]
     },
     "execution_count": 114,
     "metadata": {},
     "output_type": "execute_result"
    }
   ],
   "source": [
    "series.F_x_log(np.array([0.203]), np.array([3.650]))"
   ]
  },
  {
   "cell_type": "code",
   "execution_count": 116,
   "metadata": {
    "collapsed": false
   },
   "outputs": [
    {
     "name": "stdout",
     "output_type": "stream",
     "text": [
      "[[  5.000000e-01   5.000000e+03   5.000000e+03   5.000000e+07]\n",
      " [  5.005000e-06   5.005000e-02   4.995000e-02   4.995000e+02]\n",
      " [  1.000000e-08   1.000000e-04   5.000000e-13   5.000000e-09]]\n",
      "(array([[ 0.533462,  0.0,  0.0,  0.0],\n",
      "       [-0.24203, -0.0446386, -0.0443266,  3.65539e-214],\n",
      "       [-0.242096, -0.241163, -0.241075,  1.27739]], dtype=float128), array([[ 4.71226e-11,  0.0,  0.0,  0.0],\n",
      "       [ 2.529e-11,  1.06359e-11,  1.07121e-11,  0.0],\n",
      "       [ 2.52831e-11,  2.53791e-11,  2.53919e-11,  2.87272e-11]], dtype=float128))\n"
     ]
    }
   ],
   "source": [
    "a = np.array([-1e-8,-1e-4,1e-4, 1])\n",
    "beta = np.array([1e-8, 1e-3,1.-1e-8])\n",
    "lowlim1 = np.outer((1-beta)/(2*beta), a)\n",
    "lowlim2 = np.outer(-(1+beta)/(2*beta), a)\n",
    "lowlim = np.maximum(lowlim1, lowlim2)\n",
    "print(lowlim)\n",
    "print(series.F_x_log_a(lowlim, a))"
   ]
  },
  {
   "cell_type": "code",
   "execution_count": 70,
   "metadata": {
    "collapsed": false
   },
   "outputs": [
    {
     "data": {
      "text/plain": [
       "2.6881171418161356e+43"
      ]
     },
     "execution_count": 70,
     "metadata": {},
     "output_type": "execute_result"
    }
   ],
   "source": [
    "np.exp(100)"
   ]
  },
  {
   "cell_type": "code",
   "execution_count": null,
   "metadata": {
    "collapsed": true
   },
   "outputs": [],
   "source": []
  }
 ],
 "metadata": {
  "anaconda-cloud": {},
  "kernelspec": {
   "display_name": "Python [default]",
   "language": "python",
   "name": "python3"
  },
  "language_info": {
   "codemirror_mode": {
    "name": "ipython",
    "version": 3
   },
   "file_extension": ".py",
   "mimetype": "text/x-python",
   "name": "python",
   "nbconvert_exporter": "python",
   "pygments_lexer": "ipython3",
   "version": "3.5.2"
  }
 },
 "nbformat": 4,
 "nbformat_minor": 2
}
