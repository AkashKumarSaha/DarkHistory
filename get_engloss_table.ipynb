{
 "cells": [
  {
   "cell_type": "code",
   "execution_count": 1,
   "metadata": {
    "collapsed": true
   },
   "outputs": [],
   "source": [
    "%load_ext autoreload"
   ]
  },
  {
   "cell_type": "code",
   "execution_count": 63,
   "metadata": {
    "collapsed": true
   },
   "outputs": [],
   "source": [
    "%autoreload\n",
    "import numpy as np\n",
    "import darkhistory.electrons.ics.series as series\n",
    "import darkhistory.electrons.ics.ics_spectrum as ics_spec\n",
    "import darkhistory.physics as phys\n",
    "\n",
    "np.set_printoptions(precision=6)"
   ]
  },
  {
   "cell_type": "code",
   "execution_count": 68,
   "metadata": {},
   "outputs": [
    {
     "name": "stdout",
     "output_type": "stream",
     "text": [
      "Computing energy loss spectra by analytic series...\n",
      "Computing upscattering loss spectra...\n",
      "Computing series 1/7...\n",
      "Computing series 2/7...\n",
      "Computing series 3/7...\n",
      "Computing series 4/7...\n",
      "Computing series 5/7...\n",
      "Computing series 6/7...\n",
      "Computing series 7/7...\n",
      "Computing downscattering loss spectra...\n",
      "Computing series 1/7...\n",
      "Computing series 2/7...\n",
      "Computing series 3/7...\n",
      "Computing series 4/7...\n",
      "Computing series 5/7...\n",
      "Computing series 6/7...\n",
      "Computing series 7/7...\n",
      "***** Diagnostics *****\n",
      "lowlim_up:  [[ 56.9515]]\n",
      "lowlim_down:  [[ 42634.5]]\n",
      "beta:  [ 0.997332]\n",
      "delta/T:  [ 42577.6]\n",
      "***** Individual terms *****\n",
      "term_1_up:  [[ 3.18521e-23]]\n",
      "term_0_up:  [[-3.89617e-22]]\n",
      "term_inv_up:  [[-6.23996e-23]]\n",
      "term_log_up:  [[ nan]]\n",
      "term_1_down:  [[ 0.0]]\n",
      "term_0_down:  [[ 0.0]]\n",
      "term_inv_down:  [[ 0.0]]\n",
      "term_log_down:  [[ 0.0]]\n",
      "***** Total Sum (Excluding Prefactor) *****\n",
      "Upscattering loss spectrum: \n",
      "[[ nan]]\n",
      "Downscattering loss spectrum: \n",
      "[[ 0.0]]\n",
      "***** End Diagnostics *****\n"
     ]
    },
    {
     "name": "stderr",
     "output_type": "stream",
     "text": [
      "/Users/hongwan/GitHub/DarkHistory/darkhistory/electrons/ics/series.py:1050: RuntimeWarning: overflow encountered in exp\n",
      "  # Extend a to a 2D array.\n",
      "/Users/hongwan/GitHub/DarkHistory/darkhistory/electrons/ics/series.py:1056: RuntimeWarning: invalid value encountered in multiply\n",
      "  \n",
      "/Users/hongwan/GitHub/DarkHistory/darkhistory/electrons/ics/series.py:898: RuntimeWarning: overflow encountered in exp\n",
      "  return expr\n",
      "/Users/hongwan/GitHub/DarkHistory/darkhistory/electrons/ics/series.py:899: RuntimeWarning: invalid value encountered in multiply\n",
      "  \n"
     ]
    },
    {
     "data": {
      "text/plain": [
       "array([[ nan]], dtype=float128)"
      ]
     },
     "execution_count": 68,
     "metadata": {},
     "output_type": "execute_result"
    }
   ],
   "source": [
    "ics_spec.engloss_spec(np.array([7e6], dtype='float128'), np.array([1e4], dtype='float128'), 1000*phys.TCMB(1))\n"
   ]
  },
  {
   "cell_type": "code",
   "execution_count": 113,
   "metadata": {},
   "outputs": [
    {
     "name": "stdout",
     "output_type": "stream",
     "text": [
      "[[  5.000000e-01   5.000000e+03   5.000000e+07]\n",
      " [  5.005000e-06   4.995000e-02   4.995000e+02]\n",
      " [  1.000000e-08   5.000000e-13   5.000000e-09]]\n",
      "(array([[ 0.0775888,  0.0,  0.0],\n",
      "       [-73.7552, -3.85918,  7.30347e-217],\n",
      "       [-170.577, -216.087,  1.11786]], dtype=float128), array([[ 3.84965e-11,  0.0,  0.0],\n",
      "       [ 5.24232e-12,  6.02323e-11,  0.0],\n",
      "       [ 2.26671e-12,  9.11894e-11,  1.47179e-11]], dtype=float128))\n"
     ]
    }
   ],
   "source": [
    "a = np.array([-1e-8,1e-4, 1])\n",
    "beta = np.array([1e-8, 1e-3,1.-1e-8])\n",
    "lowlim1 = np.outer((1-beta)/(2*beta), a)\n",
    "lowlim2 = np.outer(-(1+beta)/(2*beta), a)\n",
    "lowlim = np.maximum(lowlim1, lowlim2)\n",
    "print(lowlim)\n",
    "print(series.F_log_a(lowlim, a))"
   ]
  },
  {
   "cell_type": "code",
   "execution_count": 114,
   "metadata": {},
   "outputs": [
    {
     "data": {
      "text/plain": [
       "(array([ 0.0731666], dtype=float128), array([ 1.78408e-11], dtype=float128))"
      ]
     },
     "execution_count": 114,
     "metadata": {},
     "output_type": "execute_result"
    }
   ],
   "source": [
    "series.F_x_log(np.array([0.203]), np.array([3.650]))"
   ]
  },
  {
   "cell_type": "code",
   "execution_count": 116,
   "metadata": {},
   "outputs": [
    {
     "name": "stdout",
     "output_type": "stream",
     "text": [
      "[[  5.000000e-01   5.000000e+03   5.000000e+03   5.000000e+07]\n",
      " [  5.005000e-06   5.005000e-02   4.995000e-02   4.995000e+02]\n",
      " [  1.000000e-08   1.000000e-04   5.000000e-13   5.000000e-09]]\n",
      "(array([[ 0.533462,  0.0,  0.0,  0.0],\n",
      "       [-0.24203, -0.0446386, -0.0443266,  3.65539e-214],\n",
      "       [-0.242096, -0.241163, -0.241075,  1.27739]], dtype=float128), array([[ 4.71226e-11,  0.0,  0.0,  0.0],\n",
      "       [ 2.529e-11,  1.06359e-11,  1.07121e-11,  0.0],\n",
      "       [ 2.52831e-11,  2.53791e-11,  2.53919e-11,  2.87272e-11]], dtype=float128))\n"
     ]
    }
   ],
   "source": [
    "a = np.array([-1e-8,-1e-4,1e-4, 1])\n",
    "beta = np.array([1e-8, 1e-3,1.-1e-8])\n",
    "lowlim1 = np.outer((1-beta)/(2*beta), a)\n",
    "lowlim2 = np.outer(-(1+beta)/(2*beta), a)\n",
    "lowlim = np.maximum(lowlim1, lowlim2)\n",
    "print(lowlim)\n",
    "print(series.F_x_log_a(lowlim, a))"
   ]
  },
  {
   "cell_type": "code",
   "execution_count": 70,
   "metadata": {},
   "outputs": [
    {
     "data": {
      "text/plain": [
       "2.6881171418161356e+43"
      ]
     },
     "execution_count": 70,
     "metadata": {},
     "output_type": "execute_result"
    }
   ],
   "source": [
    "np.exp(100)"
   ]
  },
  {
   "cell_type": "code",
   "execution_count": null,
   "metadata": {
    "collapsed": true
   },
   "outputs": [],
   "source": []
  }
 ],
 "metadata": {
  "kernelspec": {
   "display_name": "Python 3",
   "language": "python",
   "name": "python3"
  },
  "language_info": {
   "codemirror_mode": {
    "name": "ipython",
    "version": 3
   },
   "file_extension": ".py",
   "mimetype": "text/x-python",
   "name": "python",
   "nbconvert_exporter": "python",
   "pygments_lexer": "ipython3",
   "version": "3.6.3"
  }
 },
 "nbformat": 4,
 "nbformat_minor": 2
}
