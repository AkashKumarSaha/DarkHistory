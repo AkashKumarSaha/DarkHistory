{
 "cells": [
  {
   "cell_type": "code",
   "execution_count": 37,
   "metadata": {},
   "outputs": [
    {
     "name": "stdout",
     "output_type": "stream",
     "text": [
      "The autoreload extension is already loaded. To reload it, use:\n",
      "  %reload_ext autoreload\n"
     ]
    }
   ],
   "source": [
    "%load_ext autoreload"
   ]
  },
  {
   "cell_type": "code",
   "execution_count": 65,
   "metadata": {},
   "outputs": [],
   "source": [
    "%autoreload\n",
    "import numpy as np\n",
    "import scipy.special as sp\n",
    "import darkhistory.electrons.ics.engloss_diff_terms as series\n",
    "import darkhistory.electrons.ics.bose_einstein_integrals as BE_int\n",
    "import darkhistory.electrons.ics.ics_engloss_spectrum as ics_spec\n",
    "import darkhistory.physics as phys\n",
    "import pickle\n",
    "\n",
    "np.set_printoptions(precision=15)"
   ]
  },
  {
   "cell_type": "code",
   "execution_count": 66,
   "metadata": {},
   "outputs": [
    {
     "name": "stdout",
     "output_type": "stream",
     "text": [
      "0.255499664675\n",
      "Computing energy loss spectrum by beta expansion...\n",
      "(1/5) Computing F1_up - F1_down term...\n",
      "(2/5) Computing F0_up - F0_down term...\n",
      "(3/5) Computing F0_up + F0_down term...\n",
      "(4/5) Computing F_inv_up - F_inv_down term...\n",
      "(5/5) Computing F_rem term...\n",
      "Computation by expansion in beta complete!\n",
      "[[ 0.00342662293976345]]\n"
     ]
    }
   ],
   "source": [
    "beta = np.float128(0.001)\n",
    "eleceng = np.float128(1/np.sqrt(1 - beta**2)*phys.me)\n",
    "delta = np.float128(1e-4)\n",
    "T = np.float128(phys.TCMB(1000))\n",
    "print(eleceng-phys.me)\n",
    "\n",
    "print(ics_spec.engloss_spec_diff(eleceng, delta, T))"
   ]
  },
  {
   "cell_type": "code",
   "execution_count": 67,
   "metadata": {},
   "outputs": [
    {
     "name": "stdout",
     "output_type": "stream",
     "text": [
      "Initializing...\n",
      "Computing energy loss spectrum by beta expansion...\n",
      "(1/5) Computing F1_up - F1_down term...\n",
      "(2/5) Computing F0_up - F0_down term...\n",
      "(3/5) Computing F0_up + F0_down term...\n",
      "(4/5) Computing F_inv_up - F_inv_down term...\n",
      "(5/5) Computing F_rem term...\n",
      "Computation by expansion in beta complete!\n",
      "Computing energy loss spectrum by analytic series...\n",
      "Computing upscattering loss spectra...\n",
      "Computing series 1/7...\n",
      "Computing series 2/7...\n",
      "Computing series 3/7...\n",
      "Computing series 4/7...\n",
      "Computing series 5/7...\n",
      "Computing series 6/7...\n",
      "Computing series 7/7...\n",
      "Computing downscattering loss spectra...\n",
      "Computing series 1/7...\n",
      "Computing series 2/7...\n",
      "Computing series 3/7...\n",
      "Computing series 4/7...\n",
      "Computing series 5/7...\n",
      "Computing series 6/7...\n",
      "Computing series 7/7...\n",
      "Energy loss spectrum computed!\n"
     ]
    },
    {
     "data": {
      "text/plain": [
       "array([[ 0.003426622939797]], dtype=float128)"
      ]
     },
     "execution_count": 67,
     "metadata": {},
     "output_type": "execute_result"
    }
   ],
   "source": [
    "ics_spec.engloss_spec(np.array([eleceng], dtype='float128'), \n",
    "                             np.array([delta], dtype='float128'), T)"
   ]
  },
  {
   "cell_type": "code",
   "execution_count": 73,
   "metadata": {
    "collapsed": true
   },
   "outputs": [],
   "source": [
    "Emax = np.float128(1e10)\n",
    "Emin = np.float128(1e-8)\n",
    "nEe = np.float128(500)\n",
    "nEp  = np.float128(500)\n",
    "\n",
    "dlnEp = np.log(Emax/Emin)/nEp\n",
    "delta = Emin*np.exp((np.arange(nEp)+0.5)*dlnEp)        \n",
    "\n",
    "dlnEe = np.log(Emax/Emin)/nEe\n",
    "lowengEe = phys.me + Emin*np.exp((np.arange(nEe)+0.5)*dlnEe)\n",
    "\n",
    "# lowengEe = np.array([lowengEe[168]],dtype='float128')\n",
    "# lowengEp = np.array([lowengEp[521]],dtype='float128')\n",
    "#521\n",
    "T = np.float128(phys.TCMB(1)*1000)"
   ]
  },
  {
   "cell_type": "code",
   "execution_count": 74,
   "metadata": {},
   "outputs": [
    {
     "name": "stdout",
     "output_type": "stream",
     "text": [
      "Initializing...\n",
      "Computing energy loss spectrum by beta expansion...\n",
      "(1/5) Computing F1_up - F1_down term...\n",
      "(2/5) Computing F0_up - F0_down term...\n",
      "(3/5) Computing F0_up + F0_down term...\n",
      "(4/5) Computing F_inv_up - F_inv_down term...\n",
      "(5/5) Computing F_rem term...\n",
      "Computation by expansion in beta complete!\n",
      "Computing energy loss spectrum by analytic series...\n",
      "Computing upscattering loss spectra...\n",
      "Computing series 1/7...\n",
      "Computing series 2/7...\n",
      "Computing series 3/7...\n",
      "Computing series 4/7...\n",
      "Computing series 5/7...\n",
      "Computing series 6/7...\n",
      "Computing series 7/7...\n",
      "Computing downscattering loss spectra...\n",
      "Computing series 1/7...\n",
      "Computing series 2/7...\n",
      "Computing series 3/7...\n",
      "Computing series 4/7...\n",
      "Computing series 5/7...\n",
      "Computing series 6/7...\n",
      "Computing series 7/7...\n",
      "Energy loss spectrum computed!\n",
      " "
     ]
    }
   ],
   "source": [
    "%%prun\n",
    "a = ics_spec.engloss_spec(lowengEe, delta, T)\n"
   ]
  },
  {
   "cell_type": "code",
   "execution_count": 72,
   "metadata": {
    "collapsed": true
   },
   "outputs": [],
   "source": [
    "pickle.dump(a, \n",
    "            open(\"/Users/hongwan/Dropbox (MIT)/Photon Deposition/ICS_englossspec.raw\", \"wb\"))"
   ]
  },
  {
   "cell_type": "code",
   "execution_count": 8,
   "metadata": {},
   "outputs": [
    {
     "name": "stdout",
     "output_type": "stream",
     "text": [
      "0.0014265364183\n",
      "0.001426536443148688\n",
      "0.00142450718938\n",
      "0.0014245072886297377\n"
     ]
    }
   ],
   "source": [
    "k = 700\n",
    "print(np.exp(k)*sp.expn(1,k))\n",
    "print(1/k-1/k**2+2/k**3)\n",
    "print(np.exp(k)*sp.expn(2,k))\n",
    "print(1/k-2/k**2+6/k**3)"
   ]
  },
  {
   "cell_type": "code",
   "execution_count": 9,
   "metadata": {},
   "outputs": [
    {
     "name": "stdout",
     "output_type": "stream",
     "text": [
      "[[  5.000000050000000e-01   4.999999950000000e+03   4.999999950000000e+07]\n",
      " [  5.005000000000000e-06   4.995000000000000e-02   4.995000000000000e+02]\n",
      " [  1.000000005000000e-08   5.000000075123798e-13   5.000000075123797e-09]]\n"
     ]
    },
    {
     "ename": "AttributeError",
     "evalue": "module 'darkhistory.electrons.ics.engloss_diff_terms' has no attribute 'F_log_a'",
     "output_type": "error",
     "traceback": [
      "\u001b[0;31m---------------------------------------------------------------------------\u001b[0m",
      "\u001b[0;31mAttributeError\u001b[0m                            Traceback (most recent call last)",
      "\u001b[0;32m<ipython-input-9-5aa1031050e7>\u001b[0m in \u001b[0;36m<module>\u001b[0;34m()\u001b[0m\n\u001b[1;32m      5\u001b[0m \u001b[0mlowlim\u001b[0m \u001b[0;34m=\u001b[0m \u001b[0mnp\u001b[0m\u001b[0;34m.\u001b[0m\u001b[0mmaximum\u001b[0m\u001b[0;34m(\u001b[0m\u001b[0mlowlim1\u001b[0m\u001b[0;34m,\u001b[0m \u001b[0mlowlim2\u001b[0m\u001b[0;34m)\u001b[0m\u001b[0;34m\u001b[0m\u001b[0m\n\u001b[1;32m      6\u001b[0m \u001b[0mprint\u001b[0m\u001b[0;34m(\u001b[0m\u001b[0mlowlim\u001b[0m\u001b[0;34m)\u001b[0m\u001b[0;34m\u001b[0m\u001b[0m\n\u001b[0;32m----> 7\u001b[0;31m \u001b[0mprint\u001b[0m\u001b[0;34m(\u001b[0m\u001b[0mseries\u001b[0m\u001b[0;34m.\u001b[0m\u001b[0mF_log_a\u001b[0m\u001b[0;34m(\u001b[0m\u001b[0mlowlim\u001b[0m\u001b[0;34m,\u001b[0m \u001b[0ma\u001b[0m\u001b[0;34m)\u001b[0m\u001b[0;34m)\u001b[0m\u001b[0;34m\u001b[0m\u001b[0m\n\u001b[0m",
      "\u001b[0;31mAttributeError\u001b[0m: module 'darkhistory.electrons.ics.engloss_diff_terms' has no attribute 'F_log_a'"
     ]
    }
   ],
   "source": [
    "a = np.array([-1e-8,1e-4, 1])\n",
    "beta = np.array([1e-8, 1e-3,1.-1e-8])\n",
    "lowlim1 = np.outer((1-beta)/(2*beta), a)\n",
    "lowlim2 = np.outer(-(1+beta)/(2*beta), a)\n",
    "lowlim = np.maximum(lowlim1, lowlim2)\n",
    "print(lowlim)\n",
    "print(series.F_log_a(lowlim, a))"
   ]
  },
  {
   "cell_type": "code",
   "execution_count": null,
   "metadata": {},
   "outputs": [],
   "source": [
    "series.F_x_log(np.array([0.203]), np.array([3.650]))"
   ]
  },
  {
   "cell_type": "code",
   "execution_count": null,
   "metadata": {},
   "outputs": [],
   "source": [
    "a = np.array([-1e-8,-1e-4,1e-4, 1])\n",
    "beta = np.array([1e-8, 1e-3,1.-1e-8])\n",
    "lowlim1 = np.outer((1-beta)/(2*beta), a)\n",
    "lowlim2 = np.outer(-(1+beta)/(2*beta), a)\n",
    "lowlim = np.maximum(lowlim1, lowlim2)\n",
    "print(lowlim)\n",
    "print(series.F_x_log_a(lowlim, a))"
   ]
  },
  {
   "cell_type": "code",
   "execution_count": null,
   "metadata": {},
   "outputs": [],
   "source": [
    "np.exp(100)"
   ]
  },
  {
   "cell_type": "code",
   "execution_count": null,
   "metadata": {
    "collapsed": true
   },
   "outputs": [],
   "source": []
  }
 ],
 "metadata": {
  "anaconda-cloud": {},
  "kernelspec": {
   "display_name": "Python 3",
   "language": "python",
   "name": "python3"
  },
  "language_info": {
   "codemirror_mode": {
    "name": "ipython",
    "version": 3
   },
   "file_extension": ".py",
   "mimetype": "text/x-python",
   "name": "python",
   "nbconvert_exporter": "python",
   "pygments_lexer": "ipython3",
   "version": "3.6.3"
  }
 },
 "nbformat": 4,
 "nbformat_minor": 2
}
