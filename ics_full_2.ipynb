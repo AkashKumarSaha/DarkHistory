{
 "cells": [
  {
   "cell_type": "markdown",
   "metadata": {},
   "source": [
    "# Electron Cooling"
   ]
  },
  {
   "cell_type": "code",
   "execution_count": 1,
   "metadata": {
    "collapsed": true
   },
   "outputs": [],
   "source": [
    "%load_ext autoreload"
   ]
  },
  {
   "cell_type": "markdown",
   "metadata": {},
   "source": [
    "## Notebook Initialization"
   ]
  },
  {
   "cell_type": "code",
   "execution_count": 2,
   "metadata": {
    "collapsed": true
   },
   "outputs": [],
   "source": [
    "%autoreload\n",
    "%matplotlib inline\n",
    "\n",
    "import matplotlib\n",
    "import matplotlib.pyplot as plt\n",
    "\n",
    "matplotlib.rcParams['figure.figsize'] = [10,10]\n",
    "\n",
    "import numpy as np\n",
    "import pickle\n",
    "import copy\n",
    "\n",
    "from astropy.io import fits\n",
    "\n",
    "\n",
    "np.set_printoptions(threshold=np.nan)\n",
    "\n",
    "\n",
    "import darkhistory.physics as phys\n",
    "from darkhistory.spec.spectrum import Spectrum\n",
    "import darkhistory.spec.transferfunction as tf\n",
    "import darkhistory.utilities as utils\n",
    "import darkhistory.spec.spectools as spectools\n",
    "\n",
    "from darkhistory.electrons.ics.ics_spectrum import ics_spec\n",
    "from darkhistory.electrons.ics.ics_engloss_spectrum import engloss_spec"
   ]
  },
  {
   "cell_type": "markdown",
   "metadata": {},
   "source": [
    "## Import ICS Tables"
   ]
  },
  {
   "cell_type": "code",
   "execution_count": 3,
   "metadata": {
    "collapsed": true
   },
   "outputs": [],
   "source": [
    "raw_nonrel_ICS_tf = pickle.load(open(\"/Users/hongwan/Dropbox (MIT)/Photon Deposition/ICS_nonrel.raw\",\"rb\"))\n",
    "raw_rel_ICS_tf = pickle.load(open(\"/Users/hongwan/Dropbox (MIT)/Photon Deposition/ICS_rel.raw\",\"rb\"))\n",
    "raw_engloss_tf = pickle.load(open(\"/Users/hongwan/Dropbox (MIT)/Photon Deposition/ICS_englossspec.raw\",\"rb\"))"
   ]
  },
  {
   "cell_type": "markdown",
   "metadata": {},
   "source": [
    "## Set Up Abscissa for Testing"
   ]
  },
  {
   "cell_type": "code",
   "execution_count": 9,
   "metadata": {
    "collapsed": false
   },
   "outputs": [],
   "source": [
    "mwimp = 1e12\n",
    "neng = 500\n",
    "dlneng = np.log(mwimp)/neng\n",
    "elecbins = np.exp(np.arange(neng+1)*dlneng)\n",
    "englow = elecbins[0:neng]\n",
    "enghigh = elecbins[1:]\n",
    "eleceng = np.sqrt(englow*enghigh)\n",
    "\n",
    "nphoteng = 500\n",
    "dlnphoteng = np.log(mwimp/1e-2)/nphoteng\n",
    "photenglow = 1e-2*np.exp(np.arange(nphoteng)*dlnphoteng)\n",
    "photenghigh = 1e-2*np.exp((np.arange(nphoteng)+1)*dlnphoteng)\n",
    "photeng = np.sqrt(photenglow*photenghigh)\n",
    "\n",
    "T = phys.TCMB(1000)\n",
    "\n",
    "ICS_tf = ics_spec(eleceng, photeng, T, \n",
    "                  nonrel_tf = raw_nonrel_ICS_tf, rel_tf = raw_rel_ICS_tf\n",
    "                 )\n",
    "\n",
    "engloss_tf = engloss_spec(eleceng, photeng, T, \n",
    "                          nonrel_tf = raw_engloss_tf, \n",
    "                          rel_tf = raw_rel_ICS_tf\n",
    "                         )\n",
    "\n",
    "sec_elec_tf = copy.deepcopy(engloss_tf)\n",
    "\n",
    "for in_eng, spec in zip(sec_elec_tf.get_in_eng(), sec_elec_tf):\n",
    "    spec.engloss_rebin(in_eng, sec_elec_tf.get_in_eng())"
   ]
  },
  {
   "cell_type": "code",
   "execution_count": 50,
   "metadata": {
    "collapsed": false
   },
   "outputs": [],
   "source": [
    "loweng = 3000\n",
    "eleceng_high = eleceng[eleceng > loweng]\n",
    "eleceng_high_ind = np.arange(eleceng.size)[eleceng > loweng]\n",
    "\n",
    "sec_phot_tf = tf.TransFuncAtRedshift([], dlnz=-1, rs=ICS_tf.rs)\n",
    "\n",
    "ICS_tf_high = tf.TransFuncAtRedshift(\n",
    "    ICS_tf[eleceng_high_ind[0]:], dlnz=-1, rs=ICS_tf.rs\n",
    ")\n",
    "\n",
    "sec_elec_tf_high = sec_elec_tf.at_val(\n",
    "    eleceng_high_ind, np.arange(eleceng.size), interp_type='bin'\n",
    ")\n",
    "\n",
    "delta_spec = np.zeros_like(eleceng)\n",
    "for i,eng in zip(np.arange(eleceng.size), eleceng):\n",
    "    delta_spec *= 0\n",
    "    delta_spec[i] = 1\n",
    "    if eng <= loweng:\n",
    "        sec_phot_N = np.zeros_like(photeng)\n",
    "        sec_elec_N = delta_spec\n",
    "    else:\n",
    "        sec_phot_N = spectools.scatter(\n",
    "            ICS_tf, mode='N', out_mode='N',\n",
    "            eng_arr = eleceng, N_arr = delta_spec, new_eng = photeng\n",
    "        )\n",
    "        sec_elec_N = spectools.scatter(\n",
    "            sec_elec_tf, mode='N', out_mode='N',\n",
    "            eng_arr = eleceng, N_arr = delta_spec, new_eng = eleceng\n",
    "        )\n",
    "        # Normalize to one scattering: number per second per collision. \n",
    "        pri_elec_totN = np.sum(sec_elec_N)\n",
    "        pri_elec_totengloss = eng - np.sum(sec_elec_N*eleceng)\n",
    "        sec_phot_N /= pri_elec_totN\n",
    "        sec_elec_N /= pri_elec_totN\n",
    "        # total number of electrons in sec_elec_N is now 1. \n",
    "        # remove the self-scattering bin, re-scale the energy. \n",
    "        sec_phot_eng = sec_phot_N*photeng\n",
    "        sec_elec_eng = sec_elec_N*eleceng\n",
    "        fac = 1 - sec_elec_eng[i]/(np.sum(sec_phot_eng) + np.sum(sec_elec_eng))\n",
    "        sec_phot_N /= fac\n",
    "        sec_elec_N /= fac\n",
    "    \n",
    "        if i > 0:\n",
    "\n",
    "            scattered_elec_N = sec_elec_N[0:i]\n",
    "            resolved_phot_spec_N = spectools.scatter(\n",
    "                sec_phot_tf, mode='N', out_mode='N',\n",
    "                eng_arr = eleceng[0:i], N_arr = scattered_elec_N,\n",
    "                new_eng = photeng\n",
    "            )\n",
    "            sec_phot_N += resolved_phot_spec_N\n",
    "    \n",
    "    sec_phot_toteng = np.sum(sec_phot_N*photeng)\n",
    "    # Photon spectrum should have total energy eng +\n",
    "    # total energy of upscattered photons.\n",
    "    continuum_engloss = -phys.thomson_xsec*phys.c*phys.CMB_eng_density(T)\n",
    "\n",
    "    if eng + phys.me < 20*phys.me:\n",
    "        cont_frac = continuum_engloss/pri_elec_totengloss/fac\n",
    "    else:\n",
    "        cont_frac = 0\n",
    "    \n",
    "    if sec_phot_toteng != 0:\n",
    "        sec_phot_N *= (1 - 150000*cont_frac)*eng/sec_phot_toteng\n",
    "    sec_phot_spec = spectools.rebin_N_arr(sec_phot_N, photeng)\n",
    "    sec_phot_spec.in_eng = eng\n",
    "    sec_phot_spec.rs = ICS_tf.rs\n",
    "    \n",
    "    sec_phot_tf.append(sec_phot_spec)\n",
    "    \n",
    "    "
   ]
  },
  {
   "cell_type": "code",
   "execution_count": 20,
   "metadata": {
    "collapsed": true
   },
   "outputs": [],
   "source": [
    "ICS_test_filename = \"/Users/hongwan/Dropbox (MIT)/Photon Deposition/ICS_test.fits\"\n",
    "ICS_test = fits.open(ICS_test_filename)\n",
    "ICS_test_spec = ICS_test[0].data\n",
    "ICS_test_spec = np.transpose(ICS_test_spec)\n",
    "ICS_test_list_spec = [Spectrum(photeng, arr, in_eng=in_eng) for (arr, in_eng) in zip(ICS_test_spec, eleceng)]\n",
    "ICS_test_tf = tf.TransFuncAtRedshift(ICS_test_list_spec, dlnz=-1)"
   ]
  },
  {
   "cell_type": "code",
   "execution_count": 55,
   "metadata": {
    "collapsed": false
   },
   "outputs": [
    {
     "data": {
      "text/plain": [
       "[0.0001, 10000000000000.0, 1e-16, 10000000000.0]"
      ]
     },
     "execution_count": 55,
     "metadata": {},
     "output_type": "execute_result"
    },
    {
     "data": {
      "image/png": "[encoded data removed]",
      "text/plain": [
       "<matplotlib.figure.Figure at 0x117b3b128>"
      ]
     },
     "metadata": {},
     "output_type": "display_data"
    }
   ],
   "source": [
    "log_bin_width = spectools.get_log_bin_width(sec_phot_tf.get_eng())\n",
    "\n",
    "\n",
    "ax = plt.subplot(1,1,1)\n",
    "plt.rc('text', usetex=True)\n",
    "comp_elec_kineng = np.array([3.5e7])\n",
    "\n",
    "sec_phot_tf.plot(ax, ind=comp_elec_kineng, fac=log_bin_width*sec_phot_tf.get_eng(), indtype='in_eng', linewidth=2)\n",
    "\n",
    "plt.gca().set_prop_cycle(None)\n",
    "\n",
    "ICS_test_tf.plot(ax, ind=comp_elec_kineng, indtype='in_eng', linewidth=0, marker='o', markersize='10', \n",
    "    markerfacecolor='w', markevery=15,)\n",
    "ax.set_xscale('log')\n",
    "ax.set_yscale('log')\n",
    "\n",
    "plt.tick_params(axis='both', which='major', labelsize=20)\n",
    "\n",
    "plt.xlabel('Secondary Photon Energy [eV]',fontsize=24)\n",
    "\n",
    "plt.ylabel('Number of Photons in Each Bin',fontsize=24)\n",
    "plt.axis([1e-4, 1e13, 1e-16, 1e10])"
   ]
  },
  {
   "cell_type": "code",
   "execution_count": null,
   "metadata": {
    "collapsed": true
   },
   "outputs": [],
   "source": []
  }
 ],
 "metadata": {
  "anaconda-cloud": {},
  "kernelspec": {
   "display_name": "Python [conda env:python3]",
   "language": "python",
   "name": "conda-env-python3-py"
  },
  "language_info": {
   "codemirror_mode": {
    "name": "ipython",
    "version": 3
   },
   "file_extension": ".py",
   "mimetype": "text/x-python",
   "name": "python",
   "nbconvert_exporter": "python",
   "pygments_lexer": "ipython3",
   "version": "3.5.2"
  }
 },
 "nbformat": 4,
 "nbformat_minor": 1
}
