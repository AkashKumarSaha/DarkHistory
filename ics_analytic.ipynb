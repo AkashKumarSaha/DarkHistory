{
 "cells": [
  {
   "cell_type": "code",
   "execution_count": 1,
   "metadata": {},
   "outputs": [],
   "source": [
    "%load_ext autoreload"
   ]
  },
  {
   "cell_type": "code",
   "execution_count": 2,
   "metadata": {},
   "outputs": [],
   "source": [
    "%autoreload\n",
    "import numpy as np\n",
    "import scipy.special as sp\n",
    "from scipy.integrate import quad\n",
    "import darkhistory.physics as phys"
   ]
  },
  {
   "cell_type": "code",
   "execution_count": 3,
   "metadata": {},
   "outputs": [
    {
     "data": {
      "text/plain": [
       "array([ 1.        , -0.5       ,  0.16666667,  0.        , -0.03333333,  0.        ])"
      ]
     },
     "execution_count": 3,
     "metadata": {},
     "output_type": "execute_result"
    }
   ],
   "source": [
    "sp.bernoulli(5)"
   ]
  },
  {
   "cell_type": "code",
   "execution_count": 4,
   "metadata": {
    "collapsed": true
   },
   "outputs": [],
   "source": [
    "def F1(a, b):\n",
    "    def indef_int(x):\n",
    "        return x*np.log(1 - np.exp(-x)) - sp.spence(1 - np.exp(-x))\n",
    "    return indef_int(b) - indef_int(a)\n",
    "\n",
    "def F0(a,b):\n",
    "    def indef_int(x):\n",
    "        return np.log(1 - np.exp(-x))\n",
    "    return indef_int(b) - indef_int(a)\n",
    "\n"
   ]
  },
  {
   "cell_type": "code",
   "execution_count": 5,
   "metadata": {},
   "outputs": [],
   "source": [
    "def H(a, b, tol=1):\n",
    "    \n",
    "    bound = 2\n",
    "    \n",
    "    def low_summand(x):\n",
    "        k = 1\n",
    "        while True:\n",
    "            if k == 1:\n",
    "                next_term = -1/x - (1/2)*np.log(x)\n",
    "                k += 1\n",
    "            else:\n",
    "                next_term = (sp.bernoulli(k)[-1]*(x**(k-1))/\n",
    "                        (sp.factorial(k)*(k-1))\n",
    "                )\n",
    "                k += 2\n",
    "            yield next_term\n",
    "                \n",
    "    def high_summand(x):\n",
    "        k = 1\n",
    "        while True:\n",
    "            next_term = sp.expn(1,k*x)\n",
    "            k += 1\n",
    "            yield next_term\n",
    "        \n",
    "    err = 10*tol\n",
    "    \n",
    "    if a >= bound and b >= bound:\n",
    "        high_sum_a = high_summand(a)\n",
    "        high_sum_b = high_summand(b)\n",
    "        integral = next(high_sum_a) - next(high_sum_b)\n",
    "    \n",
    "        while err > tol:\n",
    "            next_term = next(high_sum_a) - next(high_sum_b)\n",
    "            err = np.abs(next_term/integral)\n",
    "            integral += next_term\n",
    "    \n",
    "    elif a < bound and b >= bound:\n",
    "        low_sum_a = low_summand(a)\n",
    "        high_sum_b = high_summand(b)\n",
    "        low_sum_bound = low_summand(bound)\n",
    "        int_bound_inf = 0.053082306482669888568\n",
    "        int_a_bound = next(low_sum_bound) - next(low_sum_a)\n",
    "        int_bound_b = int_bound_inf - next(high_sum_b)\n",
    "        integral = int_a_bound + int_bound_b\n",
    "        \n",
    "        while err > tol:\n",
    "            next_term_a_bound = next(low_sum_bound) - next(low_sum_a)\n",
    "            next_term_bound_b = - next(high_sum_b)\n",
    "            next_term = next_term_a_bound + next_term_bound_b\n",
    "            err = np.abs(next_term/integral)\n",
    "            integral += next_term\n",
    "    \n",
    "    else:\n",
    "        low_sum_a = low_summand(a)\n",
    "        low_sum_b = low_summand(b)\n",
    "        integral = next(low_sum_b) - next(low_sum_a)\n",
    "        \n",
    "        while err > tol:\n",
    "            next_term = next(low_sum_b) - next(low_sum_a)\n",
    "            err = np.abs(next_term/integral)\n",
    "            integral += next_term\n",
    "    \n",
    "    return integral\n",
    "            "
   ]
  },
  {
   "cell_type": "code",
   "execution_count": 6,
   "metadata": {},
   "outputs": [
    {
     "name": "stdout",
     "output_type": "stream",
     "text": [
      "44.4616483972\n",
      "999992.461914\n",
      "0.00206974344822\n"
     ]
    }
   ],
   "source": [
    "print(H(0.02124,1.9033,tol=1e-12))\n",
    "print(H(1e-6,1e6,tol=1e-12))\n",
    "print(H(4.50204,9.10294,tol=1e-12))"
   ]
  },
  {
   "cell_type": "code",
   "execution_count": 7,
   "metadata": {
    "collapsed": true
   },
   "outputs": [],
   "source": [
    "def G(a, b, tol=1):\n",
    "    \n",
    "    bound = 2\n",
    "    \n",
    "    def low_summand(x):\n",
    "        k = 1\n",
    "        while True:\n",
    "            if k == 1:\n",
    "                next_term = (1/2)*(np.log(x)**2) - (x/2)*(np.log(x) - 1)\n",
    "                k += 1\n",
    "            else:\n",
    "                next_term = (sp.bernoulli(k)[-1]*(x**k)/\n",
    "                        (sp.factorial(k)*(k**2))*(k*np.log(x) - 1)\n",
    "                )\n",
    "                k += 2\n",
    "            yield next_term\n",
    "                \n",
    "    def high_summand(x):\n",
    "        k = 1\n",
    "        while True:\n",
    "            next_term = (1/k)*(np.exp(-k*x)*np.log(x) + sp.expn(1,k*x))\n",
    "            k += 1\n",
    "            yield next_term\n",
    "        \n",
    "    err = 10*tol\n",
    "    \n",
    "    if a >= bound and b >= bound:\n",
    "        high_sum_a = high_summand(a)\n",
    "        high_sum_b = high_summand(b)\n",
    "        integral = next(high_sum_a) - next(high_sum_b)\n",
    "    \n",
    "        while err > tol:\n",
    "            next_term = next(high_sum_a) - next(high_sum_b)\n",
    "            err = np.abs(next_term/integral)\n",
    "            integral += next_term\n",
    "    \n",
    "    elif a < bound and b >= bound:\n",
    "        low_sum_a = low_summand(a)\n",
    "        high_sum_b = high_summand(b)\n",
    "        low_sum_bound = low_summand(bound)\n",
    "        int_bound_inf = 0.15171347859984083704\n",
    "        int_a_bound = next(low_sum_bound) - next(low_sum_a)\n",
    "        int_bound_b = int_bound_inf - next(high_sum_b)\n",
    "        integral = int_a_bound + int_bound_b\n",
    "        \n",
    "        while err > tol:\n",
    "            next_term_a_bound = next(low_sum_bound) - next(low_sum_a)\n",
    "            next_term_bound_b = - next(high_sum_b)\n",
    "            next_term = next_term_a_bound + next_term_bound_b\n",
    "            err = np.abs(next_term/integral)\n",
    "            integral += next_term\n",
    "    \n",
    "    else:\n",
    "        low_sum_a = low_summand(a)\n",
    "        low_sum_b = low_summand(b)\n",
    "        integral = next(low_sum_b) - next(low_sum_a)\n",
    "        \n",
    "        while err > tol:\n",
    "            next_term = next(low_sum_b) - next(low_sum_a)\n",
    "            err = np.abs(next_term/integral)\n",
    "            integral += next_term\n",
    "    \n",
    "    return integral\n",
    "            "
   ]
  },
  {
   "cell_type": "code",
   "execution_count": 8,
   "metadata": {},
   "outputs": [
    {
     "name": "stdout",
     "output_type": "stream",
     "text": [
      "-6.90361462464\n",
      "-94.7054794794\n",
      "0.0185904820982\n"
     ]
    }
   ],
   "source": [
    "print(G(0.02124,1.9033,tol=1e-12))\n",
    "print(G(1e-6,1e6,tol=1e-12))\n",
    "print(G(4.50204,9.10294,tol=1e-12))"
   ]
  },
  {
   "cell_type": "markdown",
   "metadata": {},
   "source": [
    "# Check ICS Calculations"
   ]
  },
  {
   "cell_type": "code",
   "execution_count": 9,
   "metadata": {},
   "outputs": [
    {
     "name": "stdout",
     "output_type": "stream",
     "text": [
      "1.64486059306e-05\n",
      "0.000898496647561\n",
      "0.00049682352617\n",
      "-0.00115790369271\n",
      "-0.00022096787509\n"
     ]
    }
   ],
   "source": [
    "eleceng = 3.45e4+phys.me\n",
    "photeng = 3.789\n",
    "T = phys.TCMB(1)*1000\n",
    "\n",
    "gamma = eleceng/phys.me\n",
    "beta = np.sqrt(1 - 1/gamma**2)\n",
    "\n",
    "prefac = (phys.c*(3/8)*phys.thomson_xsec/(2*gamma**3*beta**2)\n",
    "          *(8*np.pi/(phys.ele_compton*phys.me)**3)\n",
    "         )\n",
    "\n",
    "minratio = (1-beta)/(1+beta)*photeng/T\n",
    "maxratio = (1+beta)/(1-beta)*photeng/T\n",
    "\n",
    "fac1 = (1+beta**2)/beta**2*np.sqrt((1+beta)/(1-beta))*F1(minratio,photeng/T)*T**2\n",
    "fac2 = (2/beta)*np.sqrt((1-beta)/(1+beta))*photeng*F0(minratio,photeng/T)*T\n",
    "fac3 = -(1-beta)**2/(beta**2)*np.sqrt((1+beta)/(1-beta))*photeng**2*H(minratio,photeng/T)\n",
    "fac4 = 2/(gamma*beta**2)*photeng*np.log((1-beta)/(1+beta)*photeng)*F0(minratio,photeng/T)*T\n",
    "fac5 = -2/(gamma*beta**2)*photeng*(G(minratio,photeng/T)*T + T*np.log(T)*F0(minratio,photeng/T))\n",
    "\n",
    "fac6 = -(1+beta**2)/beta**2*np.sqrt((1-beta)/(1+beta))*F1(photeng/T,maxratio)*T**2\n",
    "fac7 = (2/beta)*np.sqrt((1+beta)/(1-beta))*photeng*F0(photeng/T,maxratio)*T\n",
    "fac8 = (1+beta)/(gamma*beta**2)*photeng**2*H(photeng/T,maxratio)\n",
    "fac9 = -2/(gamma*beta**2)*photeng*np.log((1+beta)/(1-beta)*photeng)*F0(photeng/T,maxratio)*T\n",
    "fac10 = 2/(gamma*beta**2)*photeng*(G(photeng/T,maxratio)*T + T*np.log(T)*F0(photeng/T,maxratio))\n",
    "\n",
    "part_low = fac1+fac2+fac3+fac4+fac5\n",
    "part_high = fac6+fac7+fac8+fac9+fac10\n",
    "# print(prefac*part_low)\n",
    "# print(prefac*part_high)\n",
    "print(prefac*part_low + prefac*part_high)\n",
    "print(prefac*fac1 + prefac*fac6)\n",
    "print(prefac*fac2 + prefac*fac7)\n",
    "print(prefac*fac3 + prefac*fac8)\n",
    "print(prefac*(fac4+fac5+fac9+fac10))"
   ]
  },
  {
   "cell_type": "code",
   "execution_count": 10,
   "metadata": {},
   "outputs": [
    {
     "name": "stdout",
     "output_type": "stream",
     "text": [
      "7.76337859272\n"
     ]
    }
   ],
   "source": [
    "print(minratio)"
   ]
  },
  {
   "cell_type": "code",
   "execution_count": 11,
   "metadata": {},
   "outputs": [
    {
     "data": {
      "text/plain": [
       "2.4263102352464287e-10"
      ]
     },
     "execution_count": 11,
     "metadata": {},
     "output_type": "execute_result"
    }
   ],
   "source": [
    "phys.ele_compton"
   ]
  },
  {
   "cell_type": "code",
   "execution_count": null,
   "metadata": {
    "collapsed": true
   },
   "outputs": [],
   "source": []
  }
 ],
 "metadata": {
  "anaconda-cloud": {},
  "kernelspec": {
   "display_name": "Python 3",
   "language": "python",
   "name": "python3"
  },
  "language_info": {
   "codemirror_mode": {
    "name": "ipython",
    "version": 3
   },
   "file_extension": ".py",
   "mimetype": "text/x-python",
   "name": "python",
   "nbconvert_exporter": "python",
   "pygments_lexer": "ipython3",
   "version": "3.6.3"
  }
 },
 "nbformat": 4,
 "nbformat_minor": 1
}
