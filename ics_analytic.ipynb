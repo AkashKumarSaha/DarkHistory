{
 "cells": [
  {
   "cell_type": "code",
   "execution_count": 8,
   "metadata": {},
   "outputs": [
    {
     "name": "stdout",
     "output_type": "stream",
     "text": [
      "The autoreload extension is already loaded. To reload it, use:\n",
      "  %reload_ext autoreload\n"
     ]
    }
   ],
   "source": [
    "%load_ext autoreload"
   ]
  },
  {
   "cell_type": "code",
   "execution_count": 52,
   "metadata": {},
   "outputs": [],
   "source": [
    "%autoreload\n",
    "import numpy as np\n",
    "import scipy.special as sp\n",
    "from scipy.integrate import quad\n",
    "import darkhistory.physics as phys"
   ]
  },
  {
   "cell_type": "code",
   "execution_count": 10,
   "metadata": {},
   "outputs": [
    {
     "data": {
      "text/plain": [
       "array([ 1.        , -0.5       ,  0.16666667,  0.        , -0.03333333,  0.        ])"
      ]
     },
     "execution_count": 10,
     "metadata": {},
     "output_type": "execute_result"
    }
   ],
   "source": [
    "sp.bernoulli(5)"
   ]
  },
  {
   "cell_type": "code",
   "execution_count": 11,
   "metadata": {
    "collapsed": true
   },
   "outputs": [],
   "source": [
    "def F1(a, b):\n",
    "    def indef_int(x):\n",
    "        return x*np.log(1 - np.exp(-x)) - sp.spence(1 - np.exp(-x))\n",
    "    return indef_int(b) - indef_int(a)\n",
    "\n",
    "def F0(a,b):\n",
    "    def indef_int(x):\n",
    "        return np.log(1 - np.exp(-x))\n",
    "    return indef_int(b) - indef_int(a)\n",
    "\n"
   ]
  },
  {
   "cell_type": "code",
   "execution_count": 49,
   "metadata": {},
   "outputs": [],
   "source": [
    "def H(a, b, bound=2, tol):\n",
    "    int_bound_inf = quad(lambda x: 1/(x*(np.exp(x) - 1)), bound, np.inf)[0]\n",
    "    def low_sum(x):\n",
    "        k = 2\n",
    "        summand = -1/bound - (1/2)*np.log(bound) - (-1/x - (1/2)*np.log(x))\n",
    "        while True:\n",
    "            next_term = (sp.bernoulli(k)[-1]*(x**(k-1))/\n",
    "                        (sp.factorial(k)*(k-1))\n",
    "            )\n",
    "            summand += next_term\n",
    "            k += 2\n",
    "            yield summand\n",
    "                \n",
    "    def high_sum(x):\n",
    "        k = 1\n",
    "        summand = 0\n",
    "        while True:\n",
    "            \n",
    "    \n",
    "    def summand(x):\n",
    "        if x <= 2:\n",
    "            # Returns integral from x to 2.\n",
    "            k = 1\n",
    "            while True:\n",
    "                if k == 1:\n",
    "                    term = -1/x - (1/2)*np.log(x)\n",
    "                else:\n",
    "                    term = (sp.bernoulli(k)[-1]*(x**(k-1))/\n",
    "                        (sp.factorial(k)*(k-1))\n",
    "                    )\n",
    "                k += 1\n",
    "                yield term\n",
    "        else:\n",
    "            k = 1\n",
    "            while True:\n",
    "                term = -sp.expn(1,k*x)\n",
    "                k += 1\n",
    "                yield term\n",
    "    \n",
    "    summand_b = summand(b)\n",
    "    summand_a = summand(a)\n",
    "    integral = int_bound_inf - next(summand_a) + next(summand_b) \n",
    "    err = tol*10\n",
    "    print(integral)\n",
    "    \n",
    "    while err > tol:\n",
    "        next_term = next(summand_a)\n",
    "        err = np.abs(next_term/integral)\n",
    "        print(next_term)\n",
    "        integral += next_term\n",
    "    \n",
    "    return integral        "
   ]
  },
  {
   "cell_type": "code",
   "execution_count": 50,
   "metadata": {},
   "outputs": [
    {
     "name": "stdout",
     "output_type": "stream",
     "text": [
      "-48.0439884973\n",
      "0.00166666666667\n",
      "0.0\n"
     ]
    },
    {
     "data": {
      "text/plain": [
       "-48.042321830619265"
      ]
     },
     "execution_count": 50,
     "metadata": {},
     "output_type": "execute_result"
    }
   ],
   "source": [
    "H(0.02,2.3,1e-9)\n"
   ]
  },
  {
   "cell_type": "code",
   "execution_count": null,
   "metadata": {},
   "outputs": [],
   "source": [
    "def H(a, b, bound, tol):\n",
    "    int_bound_inf = quad(lambda x: 1/(x*(np.exp(x) - 1)), bound, np.inf)[0]\n",
    "    def sum_low(x):\n",
    "        k = 1\n",
    "        current_sum = -1/x - (1/2)*np.log(x)\n",
    "        while True:\n",
    "            if k == 1:\n",
    "                yield current_sum\n",
    "                k += 1\n",
    "            else:\n",
    "                next_term = (sp.bernoulli(k)[-1]*(x**(k-1))/\n",
    "                        (sp.factorial(k)*(k-1))\n",
    "                    )\n",
    "                current_sum += next_term\n",
    "                yield current_sum\n",
    "                k += 2\n",
    "\n",
    "    def sum_high(x):\n",
    "        k = 1\n",
    "        while True:\n",
    "            current_sum += -sp.expn(1,k*x)\n",
    "            yield current_sum\n",
    "            k += 1\n",
    "            \n",
    "    integral = 0\n",
    "    err = 10*tol\n",
    "    sum_low_bound = sum_low(bound)\n",
    "    sum_low_a = sum_low(a)\n",
    "    sum_low_b = sum_low(b)\n",
    "    current_sum_low_bound = next(sum_low_bound)\n",
    "    \n",
    "    if a < bound:\n",
    "        int_a_inf = current_sum_low_bound - next(sum_low_a) + int_bound_inf\n",
    "    else:\n",
    "        int_a_inf = sum_high(a)\n",
    "    if b < bound:\n",
    "        \n",
    "        int_b_inf = current_sum_low_bound - next(sum_low_b)\n",
    "    while err > tol:\n",
    "                "
   ]
  },
  {
   "cell_type": "code",
   "execution_count": null,
   "metadata": {},
   "outputs": [],
   "source": [
    "-1/0.5-(1/2)*np.log(0.5)"
   ]
  },
  {
   "cell_type": "code",
   "execution_count": 54,
   "metadata": {},
   "outputs": [
    {
     "name": "stderr",
     "output_type": "stream",
     "text": [
      "/Users/hongwan/anaconda/envs/python3/lib/python3.5/site-packages/ipykernel/__main__.py:1: RuntimeWarning: overflow encountered in exp\n",
      "  if __name__ == '__main__':\n"
     ]
    },
    {
     "data": {
      "text/plain": [
       "(0.053082306482667006, 6.116781522894456e-11)"
      ]
     },
     "execution_count": 54,
     "metadata": {},
     "output_type": "execute_result"
    }
   ],
   "source": [
    "quad(lambda x: 1/(x*(np.exp(x) - 1)), 2, np.inf)"
   ]
  },
  {
   "cell_type": "code",
   "execution_count": null,
   "metadata": {
    "collapsed": true
   },
   "outputs": [],
   "source": []
  }
 ],
 "metadata": {
  "anaconda-cloud": {},
  "kernelspec": {
   "display_name": "Python 3",
   "language": "python",
   "name": "python3"
  },
  "language_info": {
   "codemirror_mode": {
    "name": "ipython",
    "version": 3
   },
   "file_extension": ".py",
   "mimetype": "text/x-python",
   "name": "python",
   "nbconvert_exporter": "python",
   "pygments_lexer": "ipython3",
   "version": "3.6.3"
  }
 },
 "nbformat": 4,
 "nbformat_minor": 1
}
