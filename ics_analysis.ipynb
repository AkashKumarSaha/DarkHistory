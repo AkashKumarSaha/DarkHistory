{
 "cells": [
  {
   "cell_type": "code",
   "execution_count": 21,
   "metadata": {},
   "outputs": [
    {
     "name": "stdout",
     "output_type": "stream",
     "text": [
      "The autoreload extension is already loaded. To reload it, use:\n",
      "  %reload_ext autoreload\n"
     ]
    }
   ],
   "source": [
    "%load_ext autoreload"
   ]
  },
  {
   "cell_type": "code",
   "execution_count": 263,
   "metadata": {},
   "outputs": [
    {
     "ename": "ModuleNotFoundError",
     "evalue": "No module named 'darkhistory.electrons.ics.ics_nonrel'",
     "output_type": "error",
     "traceback": [
      "\u001b[0;31m---------------------------------------------------------------------------\u001b[0m",
      "\u001b[0;31mModuleNotFoundError\u001b[0m                       Traceback (most recent call last)",
      "\u001b[0;32m<ipython-input-263-65c016a589b6>\u001b[0m in \u001b[0;36m<module>\u001b[0;34m()\u001b[0m\n\u001b[1;32m      2\u001b[0m \u001b[0;32mimport\u001b[0m \u001b[0mnumpy\u001b[0m \u001b[0;32mas\u001b[0m \u001b[0mnp\u001b[0m\u001b[0;34m\u001b[0m\u001b[0m\n\u001b[1;32m      3\u001b[0m \u001b[0;32mfrom\u001b[0m \u001b[0mdarkhistory\u001b[0m\u001b[0;34m.\u001b[0m\u001b[0mutilities\u001b[0m \u001b[0;32mimport\u001b[0m \u001b[0mdiff_pow\u001b[0m\u001b[0;34m\u001b[0m\u001b[0m\n\u001b[0;32m----> 4\u001b[0;31m \u001b[0;32mimport\u001b[0m \u001b[0mdarkhistory\u001b[0m\u001b[0;34m.\u001b[0m\u001b[0melectrons\u001b[0m\u001b[0;34m.\u001b[0m\u001b[0mics\u001b[0m\u001b[0;34m.\u001b[0m\u001b[0mics_nonrel\u001b[0m \u001b[0;32mas\u001b[0m \u001b[0mics_nonrel\u001b[0m\u001b[0;34m\u001b[0m\u001b[0m\n\u001b[0m",
      "\u001b[0;31mModuleNotFoundError\u001b[0m: No module named 'darkhistory.electrons.ics.ics_nonrel'"
     ]
    }
   ],
   "source": [
    "%autoreload\n",
    "import numpy as np\n",
    "from darkhistory.utilities import diff_pow\n",
    "import darkhistory.electrons.ics.ics_nonrel as ics_nonrel"
   ]
  },
  {
   "cell_type": "code",
   "execution_count": 262,
   "metadata": {},
   "outputs": [
    {
     "name": "stdout",
     "output_type": "stream",
     "text": [
      "[  3.39348203e-04   8.58145175e-03   1.52446958e+00   3.89439369e-01\n",
      "   1.09122843e-02   6.93265249e-01]\n",
      "[  9.59927073e+00   9.08810442e-02   8.83114299e+00   1.58056775e-01\n",
      "   1.47177382e-03   3.07425647e-01]\n",
      "[  4.34753097e+07   9.63195809e-01   7.01740740e+03   6.68199856e-02\n",
      "   2.00676595e-04   1.54557028e-01]\n",
      "[ -1.22756613e+02  -2.14508966e-01  -3.85333213e+01   1.39207249e-01\n",
      "   2.94028704e-03   2.28614116e-01]\n"
     ]
    }
   ],
   "source": [
    "lowbound = np.array([2.3e-8, 0.09,1.424e-4, 1.8, 6.5, 1.32930])\n",
    "uppbound = np.array([3.394e-4, 0.099, 3.6703, 3.8, 10.3252, 3.492e8])\n",
    "print(ics_series.F1(lowbound, uppbound, epsrel=1e-16))\n",
    "print(ics_series.F0(lowbound, uppbound, epsrel=1e-16))\n",
    "print(ics_series.F_inv(lowbound, uppbound))\n",
    "print(ics_series.F_log(lowbound, uppbound))"
   ]
  },
  {
   "cell_type": "code",
   "execution_count": 51,
   "metadata": {},
   "outputs": [
    {
     "name": "stdout",
     "output_type": "stream",
     "text": [
      "-0.00248028992433 -0.0336559213136\n",
      "0.0308945177837\n"
     ]
    }
   ],
   "source": [
    "b=6\n",
    "a=3.4\n",
    "c = -np.exp(-b) - np.exp(-2*b)/4 - np.exp(-3*b)/9 - np.exp(-4*b)/16\n",
    "d = -np.exp(-a) - np.exp(-2*a)/4 - np.exp(-3*a)/9 - np.exp(-4*a)/16\n",
    "test = -np.exp(-b) + np.exp(-a) \n",
    "print(c,d)\n",
    "print(test)"
   ]
  },
  {
   "cell_type": "code",
   "execution_count": 71,
   "metadata": {},
   "outputs": [
    {
     "data": {
      "text/plain": [
       "9.9995000333308339e-05"
      ]
     },
     "execution_count": 71,
     "metadata": {},
     "output_type": "execute_result"
    }
   ],
   "source": [
    "n = 1 + np.arange(12)\n",
    "np.sum((-1)**(n-1)*0.0001**n/n)"
   ]
  },
  {
   "cell_type": "code",
   "execution_count": 72,
   "metadata": {},
   "outputs": [
    {
     "data": {
      "text/plain": [
       "9.9995000333297321e-05"
      ]
     },
     "execution_count": 72,
     "metadata": {},
     "output_type": "execute_result"
    }
   ],
   "source": [
    "np.log(1+0.0001)"
   ]
  },
  {
   "cell_type": "code",
   "execution_count": 189,
   "metadata": {},
   "outputs": [
    {
     "name": "stdout",
     "output_type": "stream",
     "text": [
      "[2]\n"
     ]
    }
   ],
   "source": [
    "a = np.array([2,4,5,6,10])\n",
    "b = np.array([3,7,9,20,25])\n",
    "integral = np.arange(5)\n",
    "print(integral[~((a < 5) | (b > 10))])"
   ]
  },
  {
   "cell_type": "code",
   "execution_count": 190,
   "metadata": {},
   "outputs": [
    {
     "name": "stdout",
     "output_type": "stream",
     "text": [
      "[ True  True False False False]\n"
     ]
    }
   ],
   "source": [
    "print(a < 5)"
   ]
  },
  {
   "cell_type": "code",
   "execution_count": 191,
   "metadata": {},
   "outputs": [
    {
     "data": {
      "text/plain": [
       "array([ 1,  2,  3,  4,  5,  6,  7,  8,  9, 10])"
      ]
     },
     "execution_count": 191,
     "metadata": {},
     "output_type": "execute_result"
    }
   ],
   "source": [
    "np.arange(1,11)"
   ]
  },
  {
   "cell_type": "code",
   "execution_count": 208,
   "metadata": {},
   "outputs": [
    {
     "name": "stdout",
     "output_type": "stream",
     "text": [
      "True\n"
     ]
    }
   ],
   "source": [
    "a = np.array([True, False, False])\n",
    "print(np.all(a) == False)"
   ]
  },
  {
   "cell_type": "code",
   "execution_count": null,
   "metadata": {
    "collapsed": true
   },
   "outputs": [],
   "source": []
  }
 ],
 "metadata": {
  "kernelspec": {
   "display_name": "Python 3",
   "language": "python",
   "name": "python3"
  },
  "language_info": {
   "codemirror_mode": {
    "name": "ipython",
    "version": 3
   },
   "file_extension": ".py",
   "mimetype": "text/x-python",
   "name": "python",
   "nbconvert_exporter": "python",
   "pygments_lexer": "ipython3",
   "version": "3.6.3"
  }
 },
 "nbformat": 4,
 "nbformat_minor": 2
}
