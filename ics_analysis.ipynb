{
 "cells": [
  {
   "cell_type": "code",
   "execution_count": 1,
   "metadata": {},
   "outputs": [],
   "source": [
    "%load_ext autoreload"
   ]
  },
  {
   "cell_type": "code",
   "execution_count": 33,
   "metadata": {},
   "outputs": [],
   "source": [
    "%autoreload\n",
    "import numpy as np\n",
    "from darkhistory.utilities import diff_pow\n",
    "import darkhistory.electrons.ics.ics_nonrel_series as series\n",
    "import darkhistory.electrons.ics.ics_nonrel as nonrel\n",
    "import darkhistory.physics as phys\n",
    "\n",
    "np.set_printoptions(precision=20)"
   ]
  },
  {
   "cell_type": "code",
   "execution_count": 34,
   "metadata": {},
   "outputs": [
    {
     "name": "stdout",
     "output_type": "stream",
     "text": [
      "[  3.39348202996140246510e-04   8.58145174882529726545e-03\n",
      "   1.52446957950191541720e+00   3.89439368845468814051e-01\n",
      "   1.09122842821987361267e-02   6.93265248905243103295e-01]\n",
      "[  9.59927073215279591523e+00   9.08810442338062046685e-02\n",
      "   8.83114298512566620047e+00   1.58056775020700729373e-01\n",
      "   1.47177382268633008891e-03   3.07425647356494746720e-01]\n",
      "[  4.34753096939157173038e+07   9.63195808510184825479e-01\n",
      "   7.01740740206419923197e+03   6.68199856383504681157e-02\n",
      "   2.00676595044219465477e-04   1.54557027804799657078e-01]\n",
      "[ -1.22756612509525538712e+02  -2.14508965826626901707e-01\n",
      "  -3.85333212922380354826e+01   1.39207249165291202520e-01\n",
      "   2.94028704356445735879e-03   2.28614115581802085364e-01]\n"
     ]
    }
   ],
   "source": [
    "lowbound = np.array([2.3e-8, 0.09,1.424e-4, 1.8, 6.5, 1.32930])\n",
    "uppbound = np.array([3.394e-4, 0.099, 3.6703, 3.8, 10.3252, 3.492e8])\n",
    "print(series.F1(lowbound, uppbound, epsrel=1e-16))\n",
    "print(series.F0(lowbound, uppbound, epsrel=1e-16))\n",
    "print(series.F_inv(lowbound, uppbound))\n",
    "print(series.F_log(lowbound, uppbound))"
   ]
  },
  {
   "cell_type": "code",
   "execution_count": 40,
   "metadata": {},
   "outputs": [
    {
     "name": "stdout",
     "output_type": "stream",
     "text": [
      "[[ 0.00048266981047674065722]]\n",
      "[[ 0.00048267276886433148]]\n",
      "***** Diagnostics for spec_diff *****\n",
      "beta:  [ 0.0020309724211276863096]\n",
      "Series relative error is:  [-0.0072553258341790602851]\n",
      "Relative error required is:  0.001\n"
     ]
    },
    {
     "ename": "RuntimeError",
     "evalue": "Relative error in series too large.",
     "output_type": "error",
     "traceback": [
      "\u001b[0;31m---------------------------------------------------------------------------\u001b[0m",
      "\u001b[0;31mRuntimeError\u001b[0m                              Traceback (most recent call last)",
      "\u001b[0;32m<ipython-input-40-6b760d711161>\u001b[0m in \u001b[0;36m<module>\u001b[0;34m()\u001b[0m\n\u001b[1;32m      5\u001b[0m \u001b[0mprint\u001b[0m\u001b[0;34m(\u001b[0m\u001b[0mnonrel\u001b[0m\u001b[0;34m.\u001b[0m\u001b[0mspec_series\u001b[0m\u001b[0;34m(\u001b[0m\u001b[0meleceng\u001b[0m\u001b[0;34m,\u001b[0m \u001b[0mphoteng\u001b[0m\u001b[0;34m,\u001b[0m \u001b[0mT\u001b[0m\u001b[0;34m)\u001b[0m\u001b[0;34m)\u001b[0m\u001b[0;34m\u001b[0m\u001b[0m\n\u001b[1;32m      6\u001b[0m \u001b[0mprint\u001b[0m\u001b[0;34m(\u001b[0m\u001b[0mnonrel\u001b[0m\u001b[0;34m.\u001b[0m\u001b[0mspec_quad\u001b[0m\u001b[0;34m(\u001b[0m\u001b[0meleceng\u001b[0m\u001b[0;34m,\u001b[0m \u001b[0mphoteng\u001b[0m\u001b[0;34m,\u001b[0m \u001b[0mT\u001b[0m\u001b[0;34m)\u001b[0m\u001b[0;34m)\u001b[0m\u001b[0;34m\u001b[0m\u001b[0m\n\u001b[0;32m----> 7\u001b[0;31m \u001b[0mprint\u001b[0m\u001b[0;34m(\u001b[0m\u001b[0mnonrel\u001b[0m\u001b[0;34m.\u001b[0m\u001b[0mspec_diff\u001b[0m\u001b[0;34m(\u001b[0m\u001b[0meleceng\u001b[0m\u001b[0;34m,\u001b[0m \u001b[0mphoteng\u001b[0m\u001b[0;34m,\u001b[0m \u001b[0mT\u001b[0m\u001b[0;34m)\u001b[0m\u001b[0;34m)\u001b[0m\u001b[0;34m\u001b[0m\u001b[0m\n\u001b[0m",
      "\u001b[0;32m~/GitHub/DarkHistory/darkhistory/electrons/ics/ics_nonrel.py\u001b[0m in \u001b[0;36mspec_diff\u001b[0;34m(eleceng, photeng, T)\u001b[0m\n\u001b[1;32m    290\u001b[0m         \u001b[0mprint\u001b[0m\u001b[0;34m(\u001b[0m\u001b[0;34m'beta: '\u001b[0m\u001b[0;34m,\u001b[0m \u001b[0mbeta\u001b[0m\u001b[0;34m)\u001b[0m\u001b[0;34m\u001b[0m\u001b[0m\n\u001b[1;32m    291\u001b[0m         np.array([Q_and_K(b, photeng, T, epsrel=1e-3) \n\u001b[0;32m--> 292\u001b[0;31m             for b in beta])\n\u001b[0m\u001b[1;32m    293\u001b[0m \u001b[0;34m\u001b[0m\u001b[0m\n\u001b[1;32m    294\u001b[0m         np.array([H_and_G(b, photeng, T, epsrel=1e-3) \n",
      "\u001b[0;32m~/GitHub/DarkHistory/darkhistory/electrons/ics/ics_nonrel.py\u001b[0m in \u001b[0;36m<listcomp>\u001b[0;34m(.0)\u001b[0m\n\u001b[1;32m    290\u001b[0m         \u001b[0mprint\u001b[0m\u001b[0;34m(\u001b[0m\u001b[0;34m'beta: '\u001b[0m\u001b[0;34m,\u001b[0m \u001b[0mbeta\u001b[0m\u001b[0;34m)\u001b[0m\u001b[0;34m\u001b[0m\u001b[0m\n\u001b[1;32m    291\u001b[0m         np.array([Q_and_K(b, photeng, T, epsrel=1e-3) \n\u001b[0;32m--> 292\u001b[0;31m             for b in beta])\n\u001b[0m\u001b[1;32m    293\u001b[0m \u001b[0;34m\u001b[0m\u001b[0m\n\u001b[1;32m    294\u001b[0m         np.array([H_and_G(b, photeng, T, epsrel=1e-3) \n",
      "\u001b[0;32m~/GitHub/DarkHistory/darkhistory/electrons/ics/ics_nonrel_series.py\u001b[0m in \u001b[0;36mQ_and_K\u001b[0;34m(beta, photeng, T, epsrel)\u001b[0m\n\u001b[1;32m    705\u001b[0m \u001b[0;34m\u001b[0m\u001b[0m\n\u001b[1;32m    706\u001b[0m     \u001b[0;32mif\u001b[0m \u001b[0mepsrel\u001b[0m \u001b[0;34m>\u001b[0m \u001b[0;36m0\u001b[0m\u001b[0;34m:\u001b[0m\u001b[0;34m\u001b[0m\u001b[0m\n\u001b[0;32m--> 707\u001b[0;31m         \u001b[0mcheck_err\u001b[0m\u001b[0;34m(\u001b[0m\u001b[0mterm\u001b[0m\u001b[0;34m,\u001b[0m \u001b[0merr\u001b[0m\u001b[0;34m,\u001b[0m \u001b[0mepsrel\u001b[0m\u001b[0;34m)\u001b[0m\u001b[0;34m\u001b[0m\u001b[0m\n\u001b[0m\u001b[1;32m    708\u001b[0m         \u001b[0mprint\u001b[0m\u001b[0;34m(\u001b[0m\u001b[0;34m'***** Diagnostics for Q_and_K *****'\u001b[0m\u001b[0;34m)\u001b[0m\u001b[0;34m\u001b[0m\u001b[0m\n\u001b[1;32m    709\u001b[0m         \u001b[0mQ\u001b[0m\u001b[0;34m(\u001b[0m\u001b[0mbeta\u001b[0m\u001b[0;34m,\u001b[0m \u001b[0mphoteng\u001b[0m\u001b[0;34m,\u001b[0m \u001b[0mT\u001b[0m\u001b[0;34m,\u001b[0m \u001b[0mepsrel\u001b[0m\u001b[0;34m=\u001b[0m\u001b[0mepsrel\u001b[0m\u001b[0;34m)\u001b[0m\u001b[0;34m\u001b[0m\u001b[0m\n",
      "\u001b[0;32m~/GitHub/DarkHistory/darkhistory/utilities.py\u001b[0m in \u001b[0;36mcheck_err\u001b[0;34m(val, err, epsrel)\u001b[0m\n\u001b[1;32m    190\u001b[0m         \u001b[0mprint\u001b[0m\u001b[0;34m(\u001b[0m\u001b[0;34m'Series relative error is: '\u001b[0m\u001b[0;34m,\u001b[0m \u001b[0merr\u001b[0m\u001b[0;34m/\u001b[0m\u001b[0mval\u001b[0m\u001b[0;34m)\u001b[0m\u001b[0;34m\u001b[0m\u001b[0m\n\u001b[1;32m    191\u001b[0m         \u001b[0mprint\u001b[0m\u001b[0;34m(\u001b[0m\u001b[0;34m'Relative error required is: '\u001b[0m\u001b[0;34m,\u001b[0m \u001b[0mepsrel\u001b[0m\u001b[0;34m)\u001b[0m\u001b[0;34m\u001b[0m\u001b[0m\n\u001b[0;32m--> 192\u001b[0;31m         \u001b[0;32mraise\u001b[0m \u001b[0mRuntimeError\u001b[0m\u001b[0;34m(\u001b[0m\u001b[0;34m'Relative error in series too large.'\u001b[0m\u001b[0;34m)\u001b[0m\u001b[0;34m\u001b[0m\u001b[0m\n\u001b[0m\u001b[1;32m    193\u001b[0m \u001b[0;34m\u001b[0m\u001b[0m\n\u001b[1;32m    194\u001b[0m     \u001b[0;32mreturn\u001b[0m \u001b[0;32mNone\u001b[0m\u001b[0;34m\u001b[0m\u001b[0m\n",
      "\u001b[0;31mRuntimeError\u001b[0m: Relative error in series too large."
     ]
    }
   ],
   "source": [
    "#510998.94610007945\n",
    "eleceng = np.array([511000],dtype=np.float128)\n",
    "photeng = np.array([7.94328e-3],dtype=np.float128)\n",
    "T = np.float128(phys.TCMB(1)*1000)\n",
    "print(nonrel.spec_series(eleceng, photeng, T))\n",
    "print(nonrel.spec_quad(eleceng, photeng, T))\n",
    "print(nonrel.spec_diff(eleceng, photeng, T))"
   ]
  },
  {
   "cell_type": "code",
   "execution_count": null,
   "metadata": {},
   "outputs": [],
   "source": [
    "Emax = 1e10\n",
    "Emin = 1e-8\n",
    "nEe = 500\n",
    "nEp  = 500\n",
    "\n",
    "dlnEp = np.log(Emax/Emin)/nEp\n",
    "lowengEp = Emin*np.exp((np.arange(nEp)+0.5)*dlnEp)        \n",
    "\n",
    "dlnEe = np.log(Emax/Emin)/nEe\n",
    "lowengEe = phys.me + Emin*np.exp((np.arange(nEe)+0.5)*dlnEe)\n",
    "\n",
    "T = np.float128(phys.TCMB(1)*1000)\n",
    "\n",
    "print(lowengEp)\n",
    "print(lowengEe)"
   ]
  },
  {
   "cell_type": "code",
   "execution_count": null,
   "metadata": {},
   "outputs": [],
   "source": [
    "%%time\n",
    "print(nonrel.spec_series(lowengEe, lowengEp, T))"
   ]
  },
  {
   "cell_type": "code",
   "execution_count": null,
   "metadata": {},
   "outputs": [],
   "source": [
    "%%time\n",
    "print(nonrel.spec_quad(lowengEe, lowengEp, T))"
   ]
  },
  {
   "cell_type": "code",
   "execution_count": null,
   "metadata": {
    "collapsed": true
   },
   "outputs": [],
   "source": []
  }
 ],
 "metadata": {
  "kernelspec": {
   "display_name": "Python 3",
   "language": "python",
   "name": "python3"
  },
  "language_info": {
   "codemirror_mode": {
    "name": "ipython",
    "version": 3
   },
   "file_extension": ".py",
   "mimetype": "text/x-python",
   "name": "python",
   "nbconvert_exporter": "python",
   "pygments_lexer": "ipython3",
   "version": "3.6.3"
  }
 },
 "nbformat": 4,
 "nbformat_minor": 2
}
