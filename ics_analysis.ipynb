{
 "cells": [
  {
   "cell_type": "code",
   "execution_count": 335,
   "metadata": {},
   "outputs": [
    {
     "name": "stdout",
     "output_type": "stream",
     "text": [
      "The autoreload extension is already loaded. To reload it, use:\n",
      "  %reload_ext autoreload\n"
     ]
    }
   ],
   "source": [
    "%load_ext autoreload"
   ]
  },
  {
   "cell_type": "code",
   "execution_count": 493,
   "metadata": {},
   "outputs": [],
   "source": [
    "%autoreload\n",
    "import numpy as np\n",
    "from darkhistory.utilities import diff_pow\n",
    "import darkhistory.electrons.ics.ics_nonrel as ics_nonrel\n",
    "import darkhistory.electrons.ics.ics_spec as ics_spec\n",
    "import darkhistory.physics as phys\n",
    "\n",
    "np.set_printoptions(precision=20)"
   ]
  },
  {
   "cell_type": "code",
   "execution_count": 494,
   "metadata": {},
   "outputs": [
    {
     "name": "stdout",
     "output_type": "stream",
     "text": [
      "[  3.39348202996140246510e-04   8.58145174882529726545e-03\n",
      "   1.52446957950191541720e+00   3.89439368845468814051e-01\n",
      "   1.09122842821987361267e-02   6.93265248905243103295e-01]\n",
      "[  9.59927073215279591523e+00   9.08810442338062046685e-02\n",
      "   8.83114298512566620047e+00   1.58056775020700729373e-01\n",
      "   1.47177382268633008891e-03   3.07425647356494746720e-01]\n",
      "[  4.34753096939157173038e+07   9.63195808510184825479e-01\n",
      "   7.01740740206419923197e+03   6.68199856383504681157e-02\n",
      "   2.00676595044219465477e-04   1.54557027804799657078e-01]\n",
      "[ -1.22756612509525538712e+02  -2.14508965826626901707e-01\n",
      "  -3.85333212922380354826e+01   1.39207249165291202520e-01\n",
      "   2.94028704356445735879e-03   2.28614115581802085364e-01]\n"
     ]
    }
   ],
   "source": [
    "lowbound = np.array([2.3e-8, 0.09,1.424e-4, 1.8, 6.5, 1.32930])\n",
    "uppbound = np.array([3.394e-4, 0.099, 3.6703, 3.8, 10.3252, 3.492e8])\n",
    "print(ics_series.F1(lowbound, uppbound, epsrel=1e-16))\n",
    "print(ics_series.F0(lowbound, uppbound, epsrel=1e-16))\n",
    "print(ics_series.F_inv(lowbound, uppbound))\n",
    "print(ics_series.F_log(lowbound, uppbound))"
   ]
  },
  {
   "cell_type": "code",
   "execution_count": 495,
   "metadata": {},
   "outputs": [
    {
     "name": "stdout",
     "output_type": "stream",
     "text": [
      "[[ 4.9091665540351580864e-08]]\n",
      "[[  4.90920065908781955664e-08]]\n"
     ]
    }
   ],
   "source": [
    "#510998.94610007945\n",
    "eleceng = np.array([510999],dtype=np.float128)\n",
    "photeng = np.array([7.94328e-7],dtype=np.float128)\n",
    "T = np.float128(phys.TCMB(1)*1000)\n",
    "print(ics_spec.ics_spec_nonrel_series(eleceng, photeng, T))\n",
    "print(ics_spec.ics_spec_nonrel_quad(eleceng, photeng, T))\n"
   ]
  },
  {
   "cell_type": "code",
   "execution_count": 510,
   "metadata": {},
   "outputs": [
    {
     "name": "stdout",
     "output_type": "stream",
     "text": [
      "[  1.51356124843620822611e-08   3.46736850452531641866e-08\n",
      "   7.94328234724281401625e-08   1.81970085860998348242e-07\n",
      "   4.16869383470335463881e-07   9.54992586021435823932e-07\n",
      "   2.18776162394955258261e-06   5.01187233627272327635e-06\n",
      "   1.14815362149688290509e-05   2.63026799189538242833e-05\n",
      "   6.02559586074357449669e-05   1.38038426460288410780e-04\n",
      "   3.16227766016837831022e-04   7.24435960074989830637e-04\n",
      "   1.65958690743756042719e-03   3.80189396320561182399e-03\n",
      "   8.70963589956080808108e-03   1.99526231496888022121e-02\n",
      "   4.57088189614875128886e-02   1.04712854805090002652e-01\n",
      "   2.39883291901949208258e-01   5.49540873857624956322e-01\n",
      "   1.25892541179416816988e+00   2.88403150312660860877e+00\n",
      "   6.60693448007596728644e+00   1.51356124843620989395e+01\n",
      "   3.46736850452532081590e+01   7.94328234724282538082e+01\n",
      "   1.81970085860998608496e+02   4.16869383470336060782e+02\n",
      "   9.54992586021437546151e+02   2.18776162394955645141e+03\n",
      "   5.01187233627271507430e+03   1.14815362149688116915e+04\n",
      "   2.63026799189537850907e+04   6.02559586074356921017e+04\n",
      "   1.38038426460288319504e+05   3.16227766016837558709e+05\n",
      "   7.24435960074989357963e+05   1.65958690743755945005e+06\n",
      "   3.80189396320562250912e+06   8.70963589956080168486e+06\n",
      "   1.99526231496888585389e+07   4.57088189614874944091e+07\n",
      "   1.04712854805090308189e+08   2.39883291901949018240e+08\n",
      "   5.49540873857626438141e+08   1.25892541179416728020e+09\n",
      "   2.88403150312659645081e+09   6.60693448007596206665e+09]\n",
      "[  5.10998946100015135016e+05   5.10998946100034692790e+05\n",
      "   5.10998946100079454482e+05   5.10998946100181958172e+05\n",
      "   5.10998946100416884292e+05   5.10998946100955014117e+05\n",
      "   5.10998946102187735960e+05   5.10998946105011855252e+05\n",
      "   5.10998946111481520347e+05   5.10998946126302704215e+05\n",
      "   5.10998946160255931318e+05   5.10998946238038421143e+05\n",
      "   5.10998946416227787267e+05   5.10998946824435959570e+05\n",
      "   5.10998947759586910252e+05   5.10998949901893967763e+05\n",
      "   5.10998954809635877609e+05   5.10998966052623174619e+05\n",
      "   5.10998991808818944264e+05   5.10999050812854780816e+05\n",
      "   5.10999185983291885350e+05   5.10999495640873850789e+05\n",
      "   5.11000205025411793031e+05   5.11001830131503113080e+05\n",
      "   5.11005553034480079077e+05   5.11014081712484359741e+05\n",
      "   5.11033619785045273602e+05   5.11078378923472424503e+05\n",
      "   5.11180916185860987753e+05   5.11415815483470330946e+05\n",
      "   5.11953938686021429021e+05   5.13186707723949570209e+05\n",
      "   5.16010818436272733379e+05   5.22480482314968830906e+05\n",
      "   5.37301626018953742459e+05   5.71254904707435751334e+05\n",
      "   6.49037372560288291425e+05   8.27226712116837501526e+05\n",
      "   1.23543490617498941720e+06   2.17058585353755950928e+06\n",
      "   4.31289290930562280118e+06   9.22063484566080197692e+06\n",
      "   2.04636220957888588309e+07   4.62198179075874909759e+07\n",
      "   1.05223853751190304756e+08   2.40394290848049014807e+08\n",
      "   5.50051872803726434708e+08   1.25943641074026727676e+09\n",
      "   2.88454250207269668579e+09   6.60744547902206230164e+09]\n"
     ]
    }
   ],
   "source": [
    "Emax = 1e10\n",
    "Emin = 1e-8\n",
    "nEe = 50\n",
    "nEp  = 50\n",
    "\n",
    "dlnEp = np.log(Emax/Emin)/nEp\n",
    "lowengEp = Emin*np.exp((np.arange(nEp)+0.5)*dlnEp)        \n",
    "\n",
    "dlnEe = np.log(Emax/Emin)/nEe\n",
    "lowengEe = phys.me + Emin*np.exp((np.arange(nEe)+0.5)*dlnEe)\n",
    "\n",
    "T = np.float128(phys.TCMB(1)*1000)\n",
    "\n",
    "print(lowengEp)\n",
    "print(lowengEe)"
   ]
  },
  {
   "cell_type": "code",
   "execution_count": 511,
   "metadata": {},
   "outputs": [
    {
     "name": "stderr",
     "output_type": "stream",
     "text": [
      "/Users/hongwan/GitHub/DarkHistory/darkhistory/electrons/ics/ics_nonrel.py:302: RuntimeWarning: invalid value encountered in true_divide\n",
      "  high_sum_b = high_summand(b[both_high])\n",
      "/Users/hongwan/GitHub/DarkHistory/darkhistory/electrons/ics/ics_nonrel.py:417: RuntimeWarning: invalid value encountered in true_divide\n",
      "  high_sum_b = high_summand(b[both_high])\n"
     ]
    },
    {
     "name": "stdout",
     "output_type": "stream",
     "text": [
      "[[  1.12906226983768465288e+003  -2.24002537440720561790e+003\n",
      "   -5.08580522194518744072e+003 ...,   0.00000000000000000000e+000\n",
      "    0.00000000000000000000e+000   0.00000000000000000000e+000]\n",
      " [ -1.37266779067782323409e+002  -7.74299227876023905992e+002\n",
      "   -1.44103906165129296824e+003 ...,   0.00000000000000000000e+000\n",
      "    0.00000000000000000000e+000   0.00000000000000000000e+000]\n",
      " [  2.21393760449479017893e+001  -9.56210349642556138861e+001\n",
      "   -4.23117321444224216975e+002 ...,   0.00000000000000000000e+000\n",
      "    0.00000000000000000000e+000   0.00000000000000000000e+000]\n",
      " ..., \n",
      " [  1.92277824121574349651e-015   4.30688361930504709204e-015\n",
      "    9.51607141475496064642e-015 ...,   3.15201649308684823259e-105\n",
      "    7.91953741624903209679e-229   0.00000000000000000000e+000]\n",
      " [  3.82165226243309451076e-016   8.39373433253826944661e-016\n",
      "    1.83280779688939118828e-015 ...,   1.82459746446382299773e-028\n",
      "    5.11760188014222845434e-052   5.43246793893837657994e-106]\n",
      " [  7.35150489340746781927e-017   1.60651830998343089383e-016\n",
      "    3.49984688770931894758e-016 ...,   1.79975443120354766789e-014\n",
      "    6.36196386315117365623e-019   3.44836431711752211882e-029]]\n",
      "CPU times: user 997 ms, sys: 21.8 ms, total: 1.02 s\n",
      "Wall time: 1.02 s\n"
     ]
    }
   ],
   "source": [
    "%%time\n",
    "print(ics_spec.ics_spec_nonrel_series(lowengEe, lowengEp, T))"
   ]
  },
  {
   "cell_type": "code",
   "execution_count": 512,
   "metadata": {},
   "outputs": [
    {
     "name": "stderr",
     "output_type": "stream",
     "text": [
      "/Users/hongwan/anaconda/envs/python3/lib/python3.6/site-packages/scipy/integrate/quadpack.py:364: IntegrationWarning: The integral is probably divergent, or slowly convergent.\n",
      "  warnings.warn(msg, IntegrationWarning)\n",
      "/Users/hongwan/anaconda/envs/python3/lib/python3.6/site-packages/scipy/integrate/quadpack.py:364: IntegrationWarning: The maximum number of subdivisions (50) has been achieved.\n",
      "  If increasing the limit yields no improvement it is advised to analyze \n",
      "  the integrand in order to determine the difficulties.  If the position of a \n",
      "  local difficulty can be determined (singularity, discontinuity) one will \n",
      "  probably gain from splitting up the interval and calling the integrator \n",
      "  on the subranges.  Perhaps a special-purpose integrator should be used.\n",
      "  warnings.warn(msg, IntegrationWarning)\n",
      "/Users/hongwan/anaconda/envs/python3/lib/python3.6/site-packages/scipy/integrate/quadpack.py:364: IntegrationWarning: The occurrence of roundoff error is detected, which prevents \n",
      "  the requested tolerance from being achieved.  The error may be \n",
      "  underestimated.\n",
      "  warnings.warn(msg, IntegrationWarning)\n",
      "/Users/hongwan/anaconda/envs/python3/lib/python3.6/site-packages/scipy/integrate/quadpack.py:364: IntegrationWarning: The algorithm does not converge.  Roundoff error is detected\n",
      "  in the extrapolation table.  It is assumed that the requested tolerance\n",
      "  cannot be achieved, and that the returned result (if full_output = 1) is \n",
      "  the best which can be obtained.\n",
      "  warnings.warn(msg, IntegrationWarning)\n"
     ]
    },
    {
     "name": "stdout",
     "output_type": "stream",
     "text": [
      "[[  4.03258265788009372728e-06  -9.17491871649443149934e-06\n",
      "    7.74178599068789698981e-06 ...,   0.00000000000000000000e+00\n",
      "    0.00000000000000000000e+00   0.00000000000000000000e+00]\n",
      " [  1.93232425598116538967e-06   3.41517888388568569162e-06\n",
      "    4.28731062479924039820e-07 ...,   0.00000000000000000000e+00\n",
      "    0.00000000000000000000e+00   0.00000000000000000000e+00]\n",
      " [  7.52634703112116189795e-08  -1.42496481197895393913e-06\n",
      "    3.61563057063888189349e-07 ...,   0.00000000000000000000e+00\n",
      "    0.00000000000000000000e+00   0.00000000000000000000e+00]\n",
      " ..., \n",
      " [  1.92277824109751257391e-15   4.30688361921167435985e-15\n",
      "    9.51607141458799665811e-15 ...,   0.00000000000000000000e+00\n",
      "    0.00000000000000000000e+00   0.00000000000000000000e+00]\n",
      " [  3.82165226643110616640e-16   8.39373434203597922392e-16\n",
      "    1.83280779907403023590e-15 ...,   0.00000000000000000000e+00\n",
      "    0.00000000000000000000e+00   0.00000000000000000000e+00]\n",
      " [  7.35150489083901683056e-17   1.60651830945935016537e-16\n",
      "    3.49984688652557941814e-16 ...,   0.00000000000000000000e+00\n",
      "    0.00000000000000000000e+00   0.00000000000000000000e+00]]\n",
      "CPU times: user 38.2 s, sys: 225 ms, total: 38.4 s\n",
      "Wall time: 38.8 s\n"
     ]
    }
   ],
   "source": [
    "%%time\n",
    "print(ics_spec.ics_spec_nonrel_quad(lowengEe, lowengEp, T))"
   ]
  },
  {
   "cell_type": "code",
   "execution_count": null,
   "metadata": {
    "collapsed": true
   },
   "outputs": [],
   "source": []
  }
 ],
 "metadata": {
  "kernelspec": {
   "display_name": "Python 3",
   "language": "python",
   "name": "python3"
  },
  "language_info": {
   "codemirror_mode": {
    "name": "ipython",
    "version": 3
   },
   "file_extension": ".py",
   "mimetype": "text/x-python",
   "name": "python",
   "nbconvert_exporter": "python",
   "pygments_lexer": "ipython3",
   "version": "3.6.3"
  }
 },
 "nbformat": 4,
 "nbformat_minor": 2
}
