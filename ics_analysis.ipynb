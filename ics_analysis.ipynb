{
 "cells": [
  {
   "cell_type": "code",
   "execution_count": 1,
   "metadata": {},
   "outputs": [],
   "source": [
    "%load_ext autoreload"
   ]
  },
  {
   "cell_type": "code",
   "execution_count": 195,
   "metadata": {},
   "outputs": [],
   "source": [
    "%autoreload\n",
    "import numpy as np\n",
    "from darkhistory.utilities import diff_pow\n",
    "from darkhistory.utilities import compare_arr\n",
    "import darkhistory.electrons.ics.ics_nonrel_series as series\n",
    "import darkhistory.electrons.ics.ics_nonrel as nonrel\n",
    "import darkhistory.physics as phys\n",
    "\n",
    "np.set_printoptions(precision=20)"
   ]
  },
  {
   "cell_type": "code",
   "execution_count": 196,
   "metadata": {
    "scrolled": true
   },
   "outputs": [
    {
     "name": "stdout",
     "output_type": "stream",
     "text": [
      "[[ 4.9091665540351580864e-08]]\n"
     ]
    },
    {
     "data": {
      "application/vnd.jupyter.widget-view+json": {
       "model_id": "615bce2d08304fa0bfbae252a9f1f736",
       "version_major": 2,
       "version_minor": 0
      },
      "text/plain": [
       "A Jupyter Widget"
      ]
     },
     "metadata": {},
     "output_type": "display_data"
    },
    {
     "name": "stdout",
     "output_type": "stream",
     "text": [
      "[[  4.90920065908781955664e-08]]\n",
      "beta:  [ 0.00045930306535217845445]\n",
      "(array([[ 4.9091997673769247989e-08]], dtype=float128), array([[-8.8975472180044040337e-22]], dtype=float128))\n"
     ]
    }
   ],
   "source": [
    "#510998.94610007945\n",
    "eleceng = np.array([510999],dtype=np.float128)\n",
    "photeng = np.array([7.94328e-7],dtype=np.float128)\n",
    "T = np.float128(phys.TCMB(1)*1000)\n",
    "print(nonrel.spec_series(eleceng, photeng, T))\n",
    "print(nonrel.spec_quad(eleceng, photeng, T))\n",
    "print(nonrel.spec_diff(eleceng, photeng, T))"
   ]
  },
  {
   "cell_type": "code",
   "execution_count": 197,
   "metadata": {},
   "outputs": [],
   "source": [
    "Emax = 1e10\n",
    "Emin = 1e-8\n",
    "nEe = 5\n",
    "nEp  = 5\n",
    "\n",
    "dlnEp = np.log(Emax/Emin)/nEp\n",
    "lowengEp = Emin*np.exp((np.arange(nEp)+0.5)*dlnEp)        \n",
    "\n",
    "dlnEe = np.log(Emax/Emin)/nEe\n",
    "lowengEe = phys.me + Emin*np.exp((np.arange(nEe)+0.5)*dlnEe)\n",
    "\n",
    "T = np.float128(phys.TCMB(1)*1000)"
   ]
  },
  {
   "cell_type": "code",
   "execution_count": 198,
   "metadata": {},
   "outputs": [
    {
     "name": "stderr",
     "output_type": "stream",
     "text": [
      "/Users/hongwan/GitHub/DarkHistory/darkhistory/electrons/ics/ics_nonrel_series.py:341: RuntimeWarning: invalid value encountered in true_divide\n",
      "  err = np.max(np.abs(next_term/integral[both_high]))\n",
      "/Users/hongwan/GitHub/DarkHistory/darkhistory/electrons/ics/ics_nonrel_series.py:468: RuntimeWarning: invalid value encountered in true_divide\n",
      "  err = np.max(np.abs(next_term/integral[both_high]))\n"
     ]
    },
    {
     "data": {
      "text/plain": [
       "array([[  2.93301362340954732133e+01,  -6.32184002672751303180e+04,\n",
       "         -2.20694936287270831551e-12,   0.00000000000000000000e+00,\n",
       "          0.00000000000000000000e+00],\n",
       "       [  2.73460915287730314677e-06,   1.56701470948844546159e-03,\n",
       "          9.00445228830939275553e-18,   0.00000000000000000000e+00,\n",
       "          0.00000000000000000000e+00],\n",
       "       [  3.89947997909399421857e-08,   1.54411631724869541273e-04,\n",
       "          8.90076949445308440013e-18,   0.00000000000000000000e+00,\n",
       "          0.00000000000000000000e+00],\n",
       "       [  3.63119644857066943296e-08,   1.43685819343061717702e-04,\n",
       "          1.45350673861913760055e-10,   0.00000000000000000000e+00,\n",
       "          0.00000000000000000000e+00],\n",
       "       [  3.81257050467476283098e-12,   6.66264718398543993703e-09,\n",
       "          1.84101440614425308666e-07,   5.58829529190188986833e-08,\n",
       "          0.00000000000000000000e+00]])"
      ]
     },
     "execution_count": 198,
     "metadata": {},
     "output_type": "execute_result"
    }
   ],
   "source": [
    "# %%prun\n",
    "nonrel.spec_series(lowengEe, lowengEp, T)"
   ]
  },
  {
   "cell_type": "code",
   "execution_count": 203,
   "metadata": {},
   "outputs": [
    {
     "name": "stdout",
     "output_type": "stream",
     "text": [
      "beta:  [  5.93507543962915965212e-05   4.14512114556605647947e-04\n",
      "   4.59303065447072013903e-04]\n",
      "(array([[  1.85409757905380787898e-08],\n",
      "       [  1.85409743343469449440e-08],\n",
      "       [  1.85409739956977992665e-08]]), array([[ -9.36919121408143964411e-26],\n",
      "       [ -2.22918377468817023495e-22],\n",
      "       [ -3.36042571521665035456e-22]]))\n",
      "[[[  1.85409757905380787898e-08  -9.36919121408143964411e-26]]\n",
      "\n",
      " [[  1.85409743343469449440e-08  -2.22918377468817023495e-22]]\n",
      "\n",
      " [[  1.85409739956977992665e-08  -3.36042571521665035456e-22]]]\n"
     ]
    },
    {
     "data": {
      "text/plain": [
       "0"
      ]
     },
     "execution_count": 203,
     "metadata": {},
     "output_type": "execute_result"
    }
   ],
   "source": [
    "# %%prun\n",
    "lowengEe = np.array([510998.947, 510998.99, 510999])\n",
    "lowengEp = np.array([3e-7])\n",
    "test_spec_diff = nonrel.spec_diff(lowengEe, lowengEp, T)\n",
    "print(test_spec_diff)\n",
    "compare_arr([test_spec_diff[0],test_spec_diff[1]])"
   ]
  },
  {
   "cell_type": "code",
   "execution_count": 182,
   "metadata": {},
   "outputs": [
    {
     "data": {
      "application/vnd.jupyter.widget-view+json": {
       "model_id": "4f373d94882f4379b2525c842b114710",
       "version_major": 2,
       "version_minor": 0
      },
      "text/plain": [
       "A Jupyter Widget"
      ]
     },
     "metadata": {},
     "output_type": "display_data"
    },
    {
     "name": "stderr",
     "output_type": "stream",
     "text": [
      "/Users/hongwan/anaconda/envs/python3/lib/python3.6/site-packages/scipy/integrate/quadpack.py:364: IntegrationWarning: The maximum number of subdivisions (50) has been achieved.\n",
      "  If increasing the limit yields no improvement it is advised to analyze \n",
      "  the integrand in order to determine the difficulties.  If the position of a \n",
      "  local difficulty can be determined (singularity, discontinuity) one will \n",
      "  probably gain from splitting up the interval and calling the integrator \n",
      "  on the subranges.  Perhaps a special-purpose integrator should be used.\n",
      "  warnings.warn(msg, IntegrationWarning)\n",
      "/Users/hongwan/anaconda/envs/python3/lib/python3.6/site-packages/scipy/integrate/quadpack.py:364: IntegrationWarning: The integral is probably divergent, or slowly convergent.\n",
      "  warnings.warn(msg, IntegrationWarning)\n"
     ]
    },
    {
     "ename": "KeyboardInterrupt",
     "evalue": "",
     "output_type": "error",
     "traceback": [
      "\u001b[0;31m---------------------------------------------------------------------------\u001b[0m",
      "\u001b[0;31mKeyboardInterrupt\u001b[0m                         Traceback (most recent call last)",
      "\u001b[0;32m<ipython-input-182-d41ba0756d1a>\u001b[0m in \u001b[0;36m<module>\u001b[0;34m()\u001b[0m\n\u001b[0;32m----> 1\u001b[0;31m \u001b[0mprint\u001b[0m\u001b[0;34m(\u001b[0m\u001b[0mnonrel\u001b[0m\u001b[0;34m.\u001b[0m\u001b[0mspec_quad\u001b[0m\u001b[0;34m(\u001b[0m\u001b[0mlowengEe\u001b[0m\u001b[0;34m,\u001b[0m \u001b[0mlowengEp\u001b[0m\u001b[0;34m,\u001b[0m \u001b[0mT\u001b[0m\u001b[0;34m)\u001b[0m\u001b[0;34m)\u001b[0m\u001b[0;34m\u001b[0m\u001b[0m\n\u001b[0m",
      "\u001b[0;32m~/GitHub/DarkHistory/darkhistory/electrons/ics/ics_nonrel.py\u001b[0m in \u001b[0;36mspec_quad\u001b[0;34m(eleceng_arr, photeng_arr, T)\u001b[0m\n\u001b[1;32m    243\u001b[0m         \u001b[0;32mfor\u001b[0m \u001b[0;34m(\u001b[0m\u001b[0mlow\u001b[0m\u001b[0;34m,\u001b[0m \u001b[0mupp\u001b[0m\u001b[0;34m,\u001b[0m \u001b[0mphoteng\u001b[0m\u001b[0;34m)\u001b[0m \u001b[0;32min\u001b[0m \u001b[0mzip\u001b[0m\u001b[0;34m(\u001b[0m\u001b[0mlow_part\u001b[0m\u001b[0;34m,\u001b[0m \u001b[0mupp_part\u001b[0m\u001b[0;34m,\u001b[0m \u001b[0mphoteng_arr\u001b[0m\u001b[0;34m)\u001b[0m\u001b[0;34m\u001b[0m\u001b[0m\n\u001b[1;32m    244\u001b[0m         ] for (low_part, upp_part, eleceng) \n\u001b[0;32m--> 245\u001b[0;31m             \u001b[0;32min\u001b[0m \u001b[0mzip\u001b[0m\u001b[0;34m(\u001b[0m\u001b[0mtqdm\u001b[0m\u001b[0;34m(\u001b[0m\u001b[0mlowlim\u001b[0m\u001b[0;34m)\u001b[0m\u001b[0;34m,\u001b[0m \u001b[0mupplim\u001b[0m\u001b[0;34m,\u001b[0m \u001b[0meleceng_arr\u001b[0m\u001b[0;34m)\u001b[0m\u001b[0;34m\u001b[0m\u001b[0m\n\u001b[0m\u001b[1;32m    246\u001b[0m     ]) \n\u001b[1;32m    247\u001b[0m \u001b[0;34m\u001b[0m\u001b[0m\n",
      "\u001b[0;32m~/GitHub/DarkHistory/darkhistory/electrons/ics/ics_nonrel.py\u001b[0m in \u001b[0;36m<listcomp>\u001b[0;34m(.0)\u001b[0m\n\u001b[1;32m    242\u001b[0m         [quad(integrand, low, upp, args=(eleceng, photeng), epsrel=1e-10, epsabs=0)[0] \n\u001b[1;32m    243\u001b[0m         \u001b[0;32mfor\u001b[0m \u001b[0;34m(\u001b[0m\u001b[0mlow\u001b[0m\u001b[0;34m,\u001b[0m \u001b[0mupp\u001b[0m\u001b[0;34m,\u001b[0m \u001b[0mphoteng\u001b[0m\u001b[0;34m)\u001b[0m \u001b[0;32min\u001b[0m \u001b[0mzip\u001b[0m\u001b[0;34m(\u001b[0m\u001b[0mlow_part\u001b[0m\u001b[0;34m,\u001b[0m \u001b[0mupp_part\u001b[0m\u001b[0;34m,\u001b[0m \u001b[0mphoteng_arr\u001b[0m\u001b[0;34m)\u001b[0m\u001b[0;34m\u001b[0m\u001b[0m\n\u001b[0;32m--> 244\u001b[0;31m         ] for (low_part, upp_part, eleceng) \n\u001b[0m\u001b[1;32m    245\u001b[0m             \u001b[0;32min\u001b[0m \u001b[0mzip\u001b[0m\u001b[0;34m(\u001b[0m\u001b[0mtqdm\u001b[0m\u001b[0;34m(\u001b[0m\u001b[0mlowlim\u001b[0m\u001b[0;34m)\u001b[0m\u001b[0;34m,\u001b[0m \u001b[0mupplim\u001b[0m\u001b[0;34m,\u001b[0m \u001b[0meleceng_arr\u001b[0m\u001b[0;34m)\u001b[0m\u001b[0;34m\u001b[0m\u001b[0m\n\u001b[1;32m    246\u001b[0m     ]) \n",
      "\u001b[0;32m~/GitHub/DarkHistory/darkhistory/electrons/ics/ics_nonrel.py\u001b[0m in \u001b[0;36m<listcomp>\u001b[0;34m(.0)\u001b[0m\n\u001b[1;32m    241\u001b[0m     integral = np.array([\n\u001b[1;32m    242\u001b[0m         [quad(integrand, low, upp, args=(eleceng, photeng), epsrel=1e-10, epsabs=0)[0] \n\u001b[0;32m--> 243\u001b[0;31m         \u001b[0;32mfor\u001b[0m \u001b[0;34m(\u001b[0m\u001b[0mlow\u001b[0m\u001b[0;34m,\u001b[0m \u001b[0mupp\u001b[0m\u001b[0;34m,\u001b[0m \u001b[0mphoteng\u001b[0m\u001b[0;34m)\u001b[0m \u001b[0;32min\u001b[0m \u001b[0mzip\u001b[0m\u001b[0;34m(\u001b[0m\u001b[0mlow_part\u001b[0m\u001b[0;34m,\u001b[0m \u001b[0mupp_part\u001b[0m\u001b[0;34m,\u001b[0m \u001b[0mphoteng_arr\u001b[0m\u001b[0;34m)\u001b[0m\u001b[0;34m\u001b[0m\u001b[0m\n\u001b[0m\u001b[1;32m    244\u001b[0m         ] for (low_part, upp_part, eleceng) \n\u001b[1;32m    245\u001b[0m             \u001b[0;32min\u001b[0m \u001b[0mzip\u001b[0m\u001b[0;34m(\u001b[0m\u001b[0mtqdm\u001b[0m\u001b[0;34m(\u001b[0m\u001b[0mlowlim\u001b[0m\u001b[0;34m)\u001b[0m\u001b[0;34m,\u001b[0m \u001b[0mupplim\u001b[0m\u001b[0;34m,\u001b[0m \u001b[0meleceng_arr\u001b[0m\u001b[0;34m)\u001b[0m\u001b[0;34m\u001b[0m\u001b[0m\n",
      "\u001b[0;32m~/anaconda/envs/python3/lib/python3.6/site-packages/scipy/integrate/quadpack.py\u001b[0m in \u001b[0;36mquad\u001b[0;34m(func, a, b, args, full_output, epsabs, epsrel, limit, points, weight, wvar, wopts, maxp1, limlst)\u001b[0m\n\u001b[1;32m    321\u001b[0m     \u001b[0;32mif\u001b[0m \u001b[0;34m(\u001b[0m\u001b[0mweight\u001b[0m \u001b[0;32mis\u001b[0m \u001b[0;32mNone\u001b[0m\u001b[0;34m)\u001b[0m\u001b[0;34m:\u001b[0m\u001b[0;34m\u001b[0m\u001b[0m\n\u001b[1;32m    322\u001b[0m         retval = _quad(func, a, b, args, full_output, epsabs, epsrel, limit,\n\u001b[0;32m--> 323\u001b[0;31m                        points)\n\u001b[0m\u001b[1;32m    324\u001b[0m     \u001b[0;32melse\u001b[0m\u001b[0;34m:\u001b[0m\u001b[0;34m\u001b[0m\u001b[0m\n\u001b[1;32m    325\u001b[0m         retval = _quad_weight(func, a, b, args, full_output, epsabs, epsrel,\n",
      "\u001b[0;32m~/anaconda/envs/python3/lib/python3.6/site-packages/scipy/integrate/quadpack.py\u001b[0m in \u001b[0;36m_quad\u001b[0;34m(func, a, b, args, full_output, epsabs, epsrel, limit, points)\u001b[0m\n\u001b[1;32m    386\u001b[0m     \u001b[0;32mif\u001b[0m \u001b[0mpoints\u001b[0m \u001b[0;32mis\u001b[0m \u001b[0;32mNone\u001b[0m\u001b[0;34m:\u001b[0m\u001b[0;34m\u001b[0m\u001b[0m\n\u001b[1;32m    387\u001b[0m         \u001b[0;32mif\u001b[0m \u001b[0minfbounds\u001b[0m \u001b[0;34m==\u001b[0m \u001b[0;36m0\u001b[0m\u001b[0;34m:\u001b[0m\u001b[0;34m\u001b[0m\u001b[0m\n\u001b[0;32m--> 388\u001b[0;31m             \u001b[0;32mreturn\u001b[0m \u001b[0m_quadpack\u001b[0m\u001b[0;34m.\u001b[0m\u001b[0m_qagse\u001b[0m\u001b[0;34m(\u001b[0m\u001b[0mfunc\u001b[0m\u001b[0;34m,\u001b[0m\u001b[0ma\u001b[0m\u001b[0;34m,\u001b[0m\u001b[0mb\u001b[0m\u001b[0;34m,\u001b[0m\u001b[0margs\u001b[0m\u001b[0;34m,\u001b[0m\u001b[0mfull_output\u001b[0m\u001b[0;34m,\u001b[0m\u001b[0mepsabs\u001b[0m\u001b[0;34m,\u001b[0m\u001b[0mepsrel\u001b[0m\u001b[0;34m,\u001b[0m\u001b[0mlimit\u001b[0m\u001b[0;34m)\u001b[0m\u001b[0;34m\u001b[0m\u001b[0m\n\u001b[0m\u001b[1;32m    389\u001b[0m         \u001b[0;32melse\u001b[0m\u001b[0;34m:\u001b[0m\u001b[0;34m\u001b[0m\u001b[0m\n\u001b[1;32m    390\u001b[0m             \u001b[0;32mreturn\u001b[0m \u001b[0m_quadpack\u001b[0m\u001b[0;34m.\u001b[0m\u001b[0m_qagie\u001b[0m\u001b[0;34m(\u001b[0m\u001b[0mfunc\u001b[0m\u001b[0;34m,\u001b[0m\u001b[0mbound\u001b[0m\u001b[0;34m,\u001b[0m\u001b[0minfbounds\u001b[0m\u001b[0;34m,\u001b[0m\u001b[0margs\u001b[0m\u001b[0;34m,\u001b[0m\u001b[0mfull_output\u001b[0m\u001b[0;34m,\u001b[0m\u001b[0mepsabs\u001b[0m\u001b[0;34m,\u001b[0m\u001b[0mepsrel\u001b[0m\u001b[0;34m,\u001b[0m\u001b[0mlimit\u001b[0m\u001b[0;34m)\u001b[0m\u001b[0;34m\u001b[0m\u001b[0m\n",
      "\u001b[0;32m~/GitHub/DarkHistory/darkhistory/electrons/ics/ics_nonrel.py\u001b[0m in \u001b[0;36mintegrand\u001b[0;34m(eps, eleceng, photeng)\u001b[0m\n\u001b[1;32m    232\u001b[0m                 \u001b[0;34m+\u001b[0m \u001b[0;36m2\u001b[0m\u001b[0;34m/\u001b[0m\u001b[0mbeta\u001b[0m\u001b[0;34m*\u001b[0m\u001b[0mnp\u001b[0m\u001b[0;34m.\u001b[0m\u001b[0msqrt\u001b[0m\u001b[0;34m(\u001b[0m\u001b[0;34m(\u001b[0m\u001b[0;36m1\u001b[0m\u001b[0;34m+\u001b[0m\u001b[0mbeta\u001b[0m\u001b[0;34m)\u001b[0m\u001b[0;34m/\u001b[0m\u001b[0;34m(\u001b[0m\u001b[0;36m1\u001b[0m\u001b[0;34m-\u001b[0m\u001b[0mbeta\u001b[0m\u001b[0;34m)\u001b[0m\u001b[0;34m)\u001b[0m\u001b[0;34m*\u001b[0m\u001b[0mphoteng\u001b[0m\u001b[0;34m\u001b[0m\u001b[0m\n\u001b[1;32m    233\u001b[0m                 \u001b[0;34m+\u001b[0m \u001b[0;34m(\u001b[0m\u001b[0;36m1\u001b[0m\u001b[0;34m+\u001b[0m\u001b[0mbeta\u001b[0m\u001b[0;34m)\u001b[0m\u001b[0;34m/\u001b[0m\u001b[0;34m(\u001b[0m\u001b[0mgamma\u001b[0m\u001b[0;34m*\u001b[0m\u001b[0mbeta\u001b[0m\u001b[0;34m**\u001b[0m\u001b[0;36m2\u001b[0m\u001b[0;34m)\u001b[0m\u001b[0;34m*\u001b[0m\u001b[0mphoteng\u001b[0m\u001b[0;34m**\u001b[0m\u001b[0;36m2\u001b[0m\u001b[0;34m/\u001b[0m\u001b[0meps\u001b[0m\u001b[0;34m\u001b[0m\u001b[0m\n\u001b[0;32m--> 234\u001b[0;31m                 - 2/(gamma*beta**2)*photeng*np.log(\n\u001b[0m\u001b[1;32m    235\u001b[0m                     \u001b[0;34m(\u001b[0m\u001b[0;36m1\u001b[0m\u001b[0;34m+\u001b[0m\u001b[0mbeta\u001b[0m\u001b[0;34m)\u001b[0m\u001b[0;34m/\u001b[0m\u001b[0;34m(\u001b[0m\u001b[0;36m1\u001b[0m\u001b[0;34m-\u001b[0m\u001b[0mbeta\u001b[0m\u001b[0;34m)\u001b[0m\u001b[0;34m*\u001b[0m\u001b[0mphoteng\u001b[0m\u001b[0;34m/\u001b[0m\u001b[0meps\u001b[0m\u001b[0;34m\u001b[0m\u001b[0m\n\u001b[1;32m    236\u001b[0m                 )\n",
      "\u001b[0;31mKeyboardInterrupt\u001b[0m: "
     ]
    }
   ],
   "source": [
    "print(nonrel.spec_quad(lowengEe, lowengEp, T))"
   ]
  },
  {
   "cell_type": "code",
   "execution_count": 122,
   "metadata": {},
   "outputs": [
    {
     "name": "stdout",
     "output_type": "stream",
     "text": [
      "2\n",
      "(2, 3)\n",
      "[[ 0.  0.  0.]\n",
      " [ 0.  0.  0.]]\n"
     ]
    }
   ],
   "source": [
    "a = np.array([[1,0,2],[0,1,3]])\n",
    "print(a.ndim)\n",
    "print(a.shape)\n",
    "b = np.zeros(a.shape)\n",
    "print(b)"
   ]
  },
  {
   "cell_type": "code",
   "execution_count": null,
   "metadata": {
    "collapsed": true
   },
   "outputs": [],
   "source": []
  },
  {
   "cell_type": "code",
   "execution_count": 184,
   "metadata": {},
   "outputs": [
    {
     "name": "stdout",
     "output_type": "stream",
     "text": [
      "[  3.39348202996140246510e-04   8.58145174882529726545e-03\n",
      "   1.52446957950191541720e+00   3.89439368845468814051e-01\n",
      "   1.09122842821987361267e-02   6.93265248905243103295e-01]\n",
      "[  9.59927073215279591523e+00   9.08810442338062046685e-02\n",
      "   8.83114298512566620047e+00   1.58056775020700729373e-01\n",
      "   1.47177382268633008891e-03   3.07425647356494746720e-01]\n",
      "[  4.34753096939157173038e+07   9.63195808510190154550e-01\n",
      "   7.01740740206419832248e+03   6.68199856379011331020e-02\n",
      "   2.00676595044219167321e-04   1.54557027804291646778e-01]\n",
      "[ -1.22756612509525538712e+02  -2.14508965826628095197e-01\n",
      "  -3.85333212922386607602e+01   1.39207249164719076839e-01\n",
      "   2.94028704356445388934e-03   2.28614115581175780800e-01]\n"
     ]
    }
   ],
   "source": [
    "lowbound = np.array([2.3e-8, 0.09,1.424e-4, 1.8, 6.5, 1.32930])\n",
    "uppbound = np.array([3.394e-4, 0.099, 3.6703, 3.8, 10.3252, 3.492e8])\n",
    "print(series.F1(lowbound, uppbound, epsrel=1e-16))\n",
    "print(series.F0(lowbound, uppbound, epsrel=1e-16))\n",
    "print(series.F_inv(lowbound, uppbound))\n",
    "print(series.F_log(lowbound, uppbound))\n",
    "\n",
    "lowbound = np.array([[2.3e-8, 0.09],[1.424e-4, 1.8], [6.5, 1.32930]])\n",
    "uppbound = np.array([[3.394e-4, 0.099],[3.6703, 3.8], [10.3252, 3.492e8]])\n",
    "print(series.F1(lowbound, uppbound, epsrel=1e-16))\n",
    "\n",
    "\n",
    "lowbound = np.array([[2.3e-8, 0.09],[1.424e-4, 1.8], [6.5, 1.32930]])\n",
    "uppbound = np.array([3.394e-4, 0.099])\n",
    "print(series.F1(lowbound, uppbound, epsrel=1e-16))"
   ]
  }
 ],
 "metadata": {
  "kernelspec": {
   "display_name": "Python 3",
   "language": "python",
   "name": "python3"
  },
  "language_info": {
   "codemirror_mode": {
    "name": "ipython",
    "version": 3
   },
   "file_extension": ".py",
   "mimetype": "text/x-python",
   "name": "python",
   "nbconvert_exporter": "python",
   "pygments_lexer": "ipython3",
   "version": "3.6.3"
  }
 },
 "nbformat": 4,
 "nbformat_minor": 2
}
