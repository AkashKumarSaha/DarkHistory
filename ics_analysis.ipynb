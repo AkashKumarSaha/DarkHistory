{
 "cells": [
  {
   "cell_type": "code",
   "execution_count": 3,
   "metadata": {},
   "outputs": [],
   "source": [
    "%load_ext autoreload"
   ]
  },
  {
   "cell_type": "code",
   "execution_count": 9,
   "metadata": {},
   "outputs": [],
   "source": [
    "%autoreload\n",
    "import numpy as np\n",
    "from darkhistory.utilities import diff_pow\n",
    "from darkhistory.utilities import compare_arr\n",
    "import darkhistory.electrons.ics.ics_nonrel_series as series\n",
    "import darkhistory.electrons.ics.ics_nonrel as nonrel\n",
    "import darkhistory.physics as phys\n",
    "\n",
    "np.set_printoptions(precision=10)"
   ]
  },
  {
   "cell_type": "code",
   "execution_count": 10,
   "metadata": {
    "scrolled": true
   },
   "outputs": [
    {
     "name": "stdout",
     "output_type": "stream",
     "text": [
      "[[ 5.36209978e-08  5.354717063e-06 -0.04070988522]\n",
      " [ 4.909172954e-08  4.901679164e-06  0.00412613796]\n",
      " [ 4.900236902e-08  4.892753965e-06  0.004116278381]]\n"
     ]
    },
    {
     "data": {
      "application/vnd.jupyter.widget-view+json": {
       "model_id": "6e869be0f8b94266aeb5db256319e2cc",
       "version_major": 2,
       "version_minor": 0
      },
      "text/plain": [
       "A Jupyter Widget"
      ]
     },
     "metadata": {},
     "output_type": "display_data"
    },
    {
     "name": "stdout",
     "output_type": "stream",
     "text": [
      "\n",
      "[[  4.9081587402e-08   4.9006667782e-06   4.1253009422e-03]\n",
      " [  4.9091501571e-08   4.9016563820e-06   4.1261453400e-03]\n",
      " [  4.9008335033e-08   4.8925924319e-06   4.1162783812e-03]]\n",
      "[[ 4.909200243e-08  4.901706469e-06  0.004126190111]\n",
      " [ 4.909172867e-08  4.901679127e-06  0.004177815712]\n",
      " [ 4.900200495e-08  4.892717715e-06  0.0209057463]]\n",
      "**********Full Method:************\n"
     ]
    }
   ],
   "source": [
    "#510998.94610007945\n",
    "eleceng = np.array([510998.947, 511002, 512000],dtype=np.float128)\n",
    "photeng = np.array([7.94328e-7, 7.93248e-5, 7.94328e-2],dtype=np.float128)\n",
    "T = np.float128(phys.TCMB(1)*1000)\n",
    "print(nonrel.spec_series(eleceng, photeng, T))\n",
    "print(nonrel.spec_quad(eleceng, photeng, T))\n",
    "print(nonrel.spec_diff(eleceng, photeng, T)[0])\n",
    "print('**********Full Method:************')\n",
    "# print(nonrel.nonrel_spec(eleceng, photeng, T))"
   ]
  },
  {
   "cell_type": "code",
   "execution_count": 14,
   "metadata": {},
   "outputs": [
    {
     "name": "stdout",
     "output_type": "stream",
     "text": [
      "[ 511008.9461]\n",
      "[10.]\n",
      "0.235\n"
     ]
    }
   ],
   "source": [
    "Emax = 1e10\n",
    "Emin = 1e-8\n",
    "nEe = 1\n",
    "nEp  = 1\n",
    "\n",
    "dlnEp = np.log(Emax/Emin)/nEp\n",
    "lowengEp = Emin*np.exp((np.arange(nEp)+0.5)*dlnEp)        \n",
    "\n",
    "dlnEe = np.log(Emax/Emin)/nEe\n",
    "lowengEe = phys.me + Emin*np.exp((np.arange(nEe)+0.5)*dlnEe)\n",
    "\n",
    "T = np.float128(phys.TCMB(1)*1000)\n",
    "print(lowengEe)\n",
    "print(lowengEp)\n",
    "print(T)"
   ]
  },
  {
   "cell_type": "code",
   "execution_count": 15,
   "metadata": {},
   "outputs": [
    {
     "name": "stdout",
     "output_type": "stream",
     "text": [
      "beta < 0.01:  [ True]\n",
      "eta < 1:  [False]\n",
      "where_diff on (eleceng, photeng) grid: \n",
      "[[False]]\n",
      "Computed spectrum from spec_diff: \n",
      "[]\n",
      "Computed relative error from spec_diff: \n",
      "[]\n",
      "spec: \n",
      "[[ 0.]]\n",
      "epsrel: \n",
      "[[ 0.]]\n",
      "where_series on (eleceng, photeng) grid: \n",
      "[[ True]]\n",
      "Computed spectrum from spec_series: \n",
      "[  8.9007694945e-18]\n",
      "*********************\n",
      "Final Result: \n",
      "[[  8.9007694945e-18]]\n",
      " "
     ]
    }
   ],
   "source": [
    "%%prun\n",
    "nonrel.nonrel_spec(lowengEe, lowengEp, T)"
   ]
  },
  {
   "cell_type": "code",
   "execution_count": 16,
   "metadata": {},
   "outputs": [
    {
     "data": {
      "application/vnd.jupyter.widget-view+json": {
       "model_id": "f621bda7c0c246aabab55824c432f25b",
       "version_major": 2,
       "version_minor": 0
      },
      "text/plain": [
       "A Jupyter Widget"
      ]
     },
     "metadata": {},
     "output_type": "display_data"
    },
    {
     "name": "stdout",
     "output_type": "stream",
     "text": [
      "\n",
      "[[  8.9006571670e-18]]\n",
      " "
     ]
    }
   ],
   "source": [
    "%%prun\n",
    "print(nonrel.spec_quad(lowengEe, lowengEp, T))"
   ]
  },
  {
   "cell_type": "code",
   "execution_count": null,
   "metadata": {},
   "outputs": [],
   "source": [
    "# %%prun\n",
    "nonrel.spec_series(lowengEe, lowengEp, T)"
   ]
  },
  {
   "cell_type": "code",
   "execution_count": null,
   "metadata": {},
   "outputs": [],
   "source": [
    "# %%prun\n",
    "lowengEe = np.array([510998.947, 510998.99, 510999])\n",
    "lowengEp = np.array([3e-7])\n",
    "test_spec_diff = nonrel.spec_diff(lowengEe, lowengEp, T)\n",
    "print(test_spec_diff)\n",
    "compare_arr([test_spec_diff[0],test_spec_diff[1]])"
   ]
  },
  {
   "cell_type": "code",
   "execution_count": null,
   "metadata": {},
   "outputs": [],
   "source": [
    "a = np.array([[1,0,2],[0,1,3]])\n",
    "a[a >= 1] = a[a >= 1]*2\n",
    "print(a)"
   ]
  },
  {
   "cell_type": "code",
   "execution_count": null,
   "metadata": {
    "collapsed": true
   },
   "outputs": [],
   "source": []
  },
  {
   "cell_type": "code",
   "execution_count": null,
   "metadata": {},
   "outputs": [],
   "source": [
    "lowbound = np.array([2.3e-8, 0.09,1.424e-4, 1.8, 6.5, 1.32930])\n",
    "uppbound = np.array([3.394e-4, 0.099, 3.6703, 3.8, 10.3252, 3.492e8])\n",
    "print(series.F1(lowbound, uppbound, epsrel=1e-16))\n",
    "print(series.F0(lowbound, uppbound, epsrel=1e-16))\n",
    "print(series.F_inv(lowbound, uppbound))\n",
    "print(series.F_log(lowbound, uppbound))\n",
    "\n",
    "lowbound = np.array([[2.3e-8, 0.09],[1.424e-4, 1.8], [6.5, 1.32930]])\n",
    "uppbound = np.array([[3.394e-4, 0.099],[3.6703, 3.8], [10.3252, 3.492e8]])\n",
    "print(series.F1(lowbound, uppbound, epsrel=1e-16))\n",
    "\n",
    "\n",
    "lowbound = np.array([[2.3e-8, 0.09],[1.424e-4, 1.8], [6.5, 1.32930]])\n",
    "uppbound = np.array([3.394e-4, 0.099])\n",
    "print(series.F1(lowbound, uppbound, epsrel=1e-16))"
   ]
  }
 ],
 "metadata": {
  "kernelspec": {
   "display_name": "Python 3",
   "language": "python",
   "name": "python3"
  },
  "language_info": {
   "codemirror_mode": {
    "name": "ipython",
    "version": 3
   },
   "file_extension": ".py",
   "mimetype": "text/x-python",
   "name": "python",
   "nbconvert_exporter": "python",
   "pygments_lexer": "ipython3",
   "version": "3.6.3"
  }
 },
 "nbformat": 4,
 "nbformat_minor": 2
}
