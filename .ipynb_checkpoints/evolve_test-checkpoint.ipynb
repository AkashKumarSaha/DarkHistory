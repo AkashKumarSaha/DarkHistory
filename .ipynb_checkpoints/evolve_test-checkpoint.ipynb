{
 "cells": [
  {
   "cell_type": "markdown",
   "metadata": {},
   "source": [
    "# Full Cooling Calculation"
   ]
  },
  {
   "cell_type": "markdown",
   "metadata": {},
   "source": [
    "We are now ready to demonstrate the full cooling calculation, starting from an injection of high-energy electrons and photons, and ending in an integrated ionization and thermal history that results from this injection. "
   ]
  },
  {
   "cell_type": "markdown",
   "metadata": {},
   "source": [
    "## Initialization"
   ]
  },
  {
   "cell_type": "code",
   "execution_count": 1,
   "metadata": {
    "collapsed": true
   },
   "outputs": [],
   "source": [
    "%load_ext autoreload\n",
    "import sys\n",
    "sys.path.append(\"..\")"
   ]
  },
  {
   "cell_type": "code",
   "execution_count": 2,
   "metadata": {
    "collapsed": true
   },
   "outputs": [],
   "source": [
    "%autoreload\n",
    "%matplotlib inline\n",
    "\n",
    "import matplotlib\n",
    "import matplotlib.pyplot as plt\n",
    "\n",
    "matplotlib.rcParams['figure.figsize'] = [10,10]\n",
    "\n",
    "import numpy as np\n",
    "import pickle\n",
    "import darkhistory.physics as phys\n",
    "import darkhistory.spec.spectools as spectools\n",
    "\n",
    "\n",
    "from darkhistory.electrons.ics.ics_spectrum import ics_spec\n",
    "from darkhistory.electrons.ics.ics_engloss_spectrum import engloss_spec\n",
    "from darkhistory.electrons.ics.ics_cooling import get_ics_cooling_tf\n",
    "\n",
    "np.set_printoptions(threshold=np.nan)"
   ]
  },
  {
   "cell_type": "markdown",
   "metadata": {},
   "source": [
    "## Inputs"
   ]
  },
  {
   "cell_type": "markdown",
   "metadata": {},
   "source": [
    "The inputs of the code are as follows: \n",
    "\n",
    "1. A `Spectrum` or `Spectra` object containing the injected electron spectrum, or the injected electron spectrum as a function of redshift, and/or \n",
    "\n",
    "2. A `Spectrum` or `Spectra` object containing the injected photon spectrum, or the injected photon spectrum as a function of redshift.\n",
    "\n",
    "There are 3 modes of use. For a `Spectrum` input, the spectrum can be interpreted either as a single injection at a particular redshift, and no subsequent injections, or as a spectrum with the redshift dependence factored out, with a continuous injection at every step. For a `Spectra` input, the spectrum at each redshift step is injected. \n",
    "\n",
    "We will start with the single injection case here. As an example, we begin with a $\\delta$-function injection of two 1 MeV electrons at some arbitrary energy, start at redshift $1+z = 2000$. Let's first initialize the spectrum. "
   ]
  },
  {
   "cell_type": "code",
   "execution_count": 3,
   "metadata": {
    "collapsed": true
   },
   "outputs": [],
   "source": [
    "eleceng = np.logspace(1, 13, 100)\n",
    "photeng = np.logspace(-4, 13, 100)\n",
    "rs = 5\n",
    "\n",
    "elec_spec_init = spectools.rebin_N_arr(np.array([1]), \n",
    "                                      np.array([1e12]),\n",
    "                                      eleceng)\n",
    "\n",
    "elec_spec_init.rs = rs"
   ]
  },
  {
   "cell_type": "markdown",
   "metadata": {},
   "source": [
    "## Resolving Injected Electrons"
   ]
  },
  {
   "cell_type": "markdown",
   "metadata": {},
   "source": [
    "High energy electrons ($\\gg$ keV) primarily cool by inverse compton scattering (ICS), at a rate that is much faster than the smallest timestep allowable in this code ($\\Delta \\log (1+z) = 10^{-3}$). Lower energy electrons also cool quickly, but via atomic processes.\n",
    "\n",
    "Low energy electrons ($< 3.5$ keV) are read out immediately and saved in a `Spectra` object. High energy electrons will be converted into a photon spectrum through ICS, and an estimate for the energy loss due to atomic cooling also produced. \n",
    "\n",
    "For now, we will assume only ICS for high energy electrons. "
   ]
  },
  {
   "cell_type": "code",
   "execution_count": 4,
   "metadata": {
    "collapsed": true
   },
   "outputs": [],
   "source": [
    "raw_nonrel_ICS_tf = pickle.load(open(\"/Users/hongwan/Dropbox (MIT)/Photon Deposition/ICS_nonrel.raw\",\"rb\"))\n",
    "raw_rel_ICS_tf = pickle.load(open(\"/Users/hongwan/Dropbox (MIT)/Photon Deposition/ICS_rel.raw\",\"rb\"))\n",
    "raw_engloss_tf = pickle.load(open(\"/Users/hongwan/Dropbox (MIT)/Photon Deposition/ICS_englossspec.raw\",\"rb\"))\n",
    "\n",
    "(ics_phot_tf, ics_lowengelec_tf) = get_ics_cooling_tf(raw_nonrel_ICS_tf,\n",
    "                                                     raw_rel_ICS_tf,\n",
    "                                                     raw_engloss_tf,\n",
    "                                                     eleceng, photeng, rs)"
   ]
  },
  {
   "cell_type": "code",
   "execution_count": 5,
   "metadata": {
    "collapsed": true
   },
   "outputs": [],
   "source": [
    "phot_spec_init = spectools.scatter(ics_phot_tf, elec_spec_init, new_eng=photeng)"
   ]
  },
  {
   "cell_type": "markdown",
   "metadata": {},
   "source": [
    "## Photon Cooling"
   ]
  },
  {
   "cell_type": "markdown",
   "metadata": {},
   "source": [
    "Now we cool the photons that result from the high energy electron injection. Photons below 3.1 keV are considered low energy photons. For high energy photons, greater than 3.1 keV, we have transfer functions (a function of *both* injected photon energy and redshift, so they are given as a `TransFuncList`), into high energy photons, low energy photons and low energy electrons. Let's load them first. "
   ]
  },
  {
   "cell_type": "code",
   "execution_count": 6,
   "metadata": {
    "collapsed": true
   },
   "outputs": [],
   "source": [
    "highengphot_tflist = pickle.load(open(\"/Users/hongwan/Dropbox (MIT)/Photon Deposition/tfunclist_photspec.raw\", \"rb\"))\n",
    "lowengphot_tflist  = pickle.load(open(\"/Users/hongwan/Dropbox (MIT)/Photon Deposition/tfunclist_lowengphotspec.raw\", \"rb\"))\n",
    "lowengelec_tflist  = pickle.load(open(\"/Users/hongwan/Dropbox (MIT)/Photon Deposition/tfunclist_lowengelecspec.raw\", \"rb\"))"
   ]
  },
  {
   "cell_type": "code",
   "execution_count": 7,
   "metadata": {
    "collapsed": true
   },
   "outputs": [],
   "source": [
    "# This shouldn't be necessary. There is one negative value somewhere. Check.\n",
    "for tf in highengphot_tflist:\n",
    "    tf.grid_vals[np.where(tf.grid_vals < 0)] = 0\n",
    "for tf in lowengphot_tflist:\n",
    "    tf.grid_vals[np.where(tf.grid_vals < 0)] = 0\n"
   ]
  },
  {
   "cell_type": "markdown",
   "metadata": {},
   "source": [
    "We now need to construct a transfer function list for *both* high- and low-energy photons. It needs to be a square matrix (so that we can take powers of the matrix for coarsening later), with dimensions given by the length of `photeng`."
   ]
  },
  {
   "cell_type": "code",
   "execution_count": 8,
   "metadata": {
    "collapsed": true
   },
   "outputs": [],
   "source": [
    "#Split photeng into high and low energy. \n",
    "photeng_high = photeng[photeng > 3070]\n",
    "photeng_low  = photeng[photeng <= 3070]\n",
    "\n",
    "# Split eleceng into high and low energy. \n",
    "eleceng_high = eleceng[eleceng > 3500]\n",
    "eleceng_low  = eleceng[eleceng <= 3500]\n",
    "\n",
    "# highengphot_tflist.in_eng set to photeng_high\n",
    "highengphot_tflist.at_val('in_eng', photeng_high, bounds_error=False, fill_value=0)\n",
    "for tf in highengphot_tflist:\n",
    "    tf.rebin(photeng_high)\n",
    "    # Pad with zeros so that it becomes photeng x photeng. \n",
    "    tf._grid_vals = np.pad(tf.grid_vals, ((photeng_low.size, 0), (photeng_low.size, 0)), 'constant')\n",
    "    tf._N_underflow = np.pad(tf._N_underflow, (photeng_low.size, 0), 'constant')\n",
    "    tf._eng_underflow = np.pad(tf._eng_underflow, (photeng_low.size, 0), 'constant')\n",
    "    tf._in_eng = photeng\n",
    "    tf._eng = photeng\n",
    "highengphot_tflist.eng = photeng\n",
    "highengphot_tflist.in_eng = photeng\n",
    "    \n",
    "# lowengphot_tflist.in_eng set to photeng_high\n",
    "lowengphot_tflist.at_val('in_eng', photeng_high, bounds_error=False, fill_value=0)\n",
    "for tf in lowengphot_tflist:\n",
    "    tf.rebin(photeng)\n",
    "    # Pad with zeros so that it becomes photeng x photeng. \n",
    "    tf._grid_vals = np.pad(tf.grid_vals, ((photeng_low.size,0), (0,0)), 'constant')\n",
    "    tf._in_eng = photeng\n",
    "    tf._eng = photeng\n",
    "lowengphot_tflist.eng = photeng\n",
    "lowengphot_tflist.in_eng = photeng\n",
    "    \n",
    "# lowengelec_tflist.in_eng set to photeng_high \n",
    "lowengelec_tflist.at_val('in_eng', photeng_high, bounds_error=False, fill_value=0)\n",
    "for tf in lowengelec_tflist:\n",
    "    tf.rebin(eleceng)\n",
    "    # Pad with zeros so that it becomes photeng x eleceng. \n",
    "    tf._grid_vals = np.pad(tf.grid_vals, ((photeng_low.size,0), (0,0)), 'constant')\n",
    "    tf._in_eng = photeng\n",
    "    tf._eng = eleceng\n",
    "lowengelec_tflist.eng = eleceng\n",
    "lowengelec_tflist.in_eng = photeng\n",
    "    "
   ]
  },
  {
   "cell_type": "markdown",
   "metadata": {},
   "source": [
    "We need to decide on the redshift step to use. The default redshift step in the transfer functions is $d \\log (1+z) = 2 \\times 10^{-3}$, with the transfer function evaluated at (currently) 50 redshifts, from $1+z = 30$ to $1+z=4$, so that the transfer function with $d \\log(1+z) = 2 \\times 10^{-3}$ can be interpolated between them. However, we can coarsen the high energy photon transfer function by some factor $f$ by multiplying the transfer function matrix by itself multiple times, producing transfer functions for a redshift step of $d \\log (1+z) = f \\times 2 \\times 10^{-3}$. "
   ]
  },
  {
   "cell_type": "code",
   "execution_count": 9,
   "metadata": {
    "collapsed": true
   },
   "outputs": [],
   "source": [
    "# The redshift step to use will be coarsen_factor * 0.002\n",
    "coarsen_factor = 5\n",
    "# Generate the redshifts at which we want to get an interpolated value for the transfer function. \n",
    "tf_rs_arr = highengphot_tflist.rs\n",
    "rs_list = np.exp(np.arange(np.log(tf_rs_arr[0]), \n",
    "                           np.log(tf_rs_arr[-1]), \n",
    "                           -highengphot_tflist.dlnz*coarsen_factor)\n",
    "                )\n",
    "\n",
    "if coarsen_factor > 1:\n",
    "    lowengphot_tflist.coarsen(coarsen_factor, delete_tfs=False, coarsen_type='dep', prop_transfunclist=highengphot_tflist)\n",
    "    lowengelec_tflist.coarsen(coarsen_factor, delete_tfs=False, coarsen_type='dep', prop_transfunclist=highengphot_tflist)\n",
    "    highengphot_tflist.coarsen(coarsen_factor, delete_tfs=False)\n",
    "    \n",
    "\n",
    "lowengphot_tflist.at_val('rs',rs_list)\n",
    "lowengelec_tflist.at_val('rs',rs_list)\n",
    "highengphot_tflist.at_val('rs',rs_list)\n"
   ]
  },
  {
   "cell_type": "code",
   "execution_count": 10,
   "metadata": {
    "collapsed": true
   },
   "outputs": [],
   "source": [
    "# spectools.evolve for lowengphot and lowengelec are incorrect, propagation needs to be done using highengphot_tflist.\n",
    "highengphot_spec_final = spectools.evolve(phot_spec_init, highengphot_tflist, end_rs=29)\n",
    "lowengphot_spec_final  = spectools.evolve(phot_spec_init, lowengphot_tflist,  end_rs=29)\n",
    "lowengelec_spec_final  = spectools.evolve(phot_spec_init, lowengelec_tflist,  end_rs=29)"
   ]
  },
  {
   "cell_type": "markdown",
   "metadata": {},
   "source": [
    "# Low Energy Electrons and Photons"
   ]
  },
  {
   "cell_type": "markdown",
   "metadata": {},
   "source": [
    "# TLA Integration"
   ]
  },
  {
   "cell_type": "code",
   "execution_count": 11,
   "metadata": {},
   "outputs": [
    {
     "name": "stdout",
     "output_type": "stream",
     "text": [
      "[ 31.          30.69154485  30.38615887  30.08381154  29.78447261\n",
      "  29.48811216  29.19470054  28.90420842  28.61660674  28.33186674\n",
      "  28.04995996  27.77085819  27.49453354  27.22095836  26.9501053\n",
      "  26.68194727  26.41645746  26.15360931  25.89337655  25.63573315\n",
      "  25.38065335  25.12811163  24.87808274  24.63054168  24.38546369\n",
      "  24.14282428  23.90259916  23.66476432  23.42929599  23.19617059\n",
      "  22.96536484  22.73685564  22.51062015  22.28663574  22.06488001\n",
      "  21.84533078  21.62796611  21.41276425  21.19970369  20.98876311\n",
      "  20.77992143  20.57315775  20.36845141  20.16578194  19.96512905\n",
      "  19.7664727   19.56979301  19.37507032  19.18228515  18.99141822\n",
      "  18.80245045  18.61536294  18.43013699  18.24675406  18.06519582\n",
      "  17.88544412  17.70748098  17.5312886   17.35684936  17.18414583\n",
      "  17.01316072  16.84387694  16.67627757  16.51034583  16.34606515\n",
      "  16.18341908  16.02239137  15.86296591  15.70512676  15.54885814\n",
      "  15.39414442  15.24097012  15.08931993  14.93917869  14.79053138\n",
      "  14.64336313  14.49765924  14.35340512  14.21058635  14.06918865\n",
      "  13.92919789  13.79060005  13.65338129  13.51752788  13.38302623\n",
      "  13.24986289  13.11802455  12.98749803  12.85827026  12.73032834\n",
      "  12.60365945  12.47825095  12.35409027  12.23116502  12.1094629\n",
      "  11.98897173  11.86967947  11.75157418  11.63464406  11.51887742\n",
      "  11.40426268  11.29078837  11.17844315  11.06721578  10.95709514\n",
      "  10.84807022  10.74013012  10.63326404  10.52746129  10.4227113\n",
      "  10.31900359  10.21632779  10.11467363  10.01403095   9.91438968\n",
      "   9.81573985   9.71807161   9.62137518   9.5256409    9.43085919\n",
      "   9.33702057   9.24411566   9.15213517   9.06106991   8.97091076\n",
      "   8.8816487    8.79327482   8.70578028   8.61915631   8.53339428\n",
      "   8.44848558   8.36442175   8.28119436   8.1987951    8.11721573\n",
      "   8.03644808   7.95648409   7.87731575   7.79893514   7.72133444\n",
      "   7.64450588   7.56844178   7.49313452   7.41857659   7.34476052\n",
      "   7.27167893   7.19932452   7.12769004   7.05676834   6.98655232\n",
      "   6.91703496   6.84820932   6.7800685    6.71260569   6.64581414\n",
      "   6.57968719   6.51421821   6.44940065   6.38522804   6.32169396\n",
      "   6.25879206   6.19651604   6.13485967   6.0738168    6.01338131\n",
      "   5.95354717   5.89430838   5.83565903   5.77759326   5.72010524\n",
      "   5.66318925   5.60683957   5.55105059   5.49581671   5.44113242\n",
      "   5.38699225   5.33339078   5.28032265   5.22778257   5.17576526\n",
      "   5.12426553   5.07327824   5.02279828   4.9728206    4.92334021\n",
      "   4.87435216   4.82585154   4.77783352   4.73029328   4.68322607\n",
      "   4.6366272    4.59049198   4.54481583   4.49959415   4.45482244\n",
      "   4.41049622   4.36661105   4.32316254   4.28014636   4.23755819\n",
      "   4.19539378]\n"
     ]
    }
   ],
   "source": [
    "print(rs_list)"
   ]
  },
  {
   "cell_type": "code",
   "execution_count": 12,
   "metadata": {},
   "outputs": [
    {
     "name": "stdout",
     "output_type": "stream",
     "text": [
      "<darkhistory.spec.spectrum.Spectrum object at 0x10bc420f0>\n",
      "[ 0.0  0.0  0.0  0.0  0.0  0.0  0.0  0.0  0.0  0.0  0.0  0.0  0.0  0.0  0.0\n",
      "  0.0  0.0  0.0  0.0  0.0  0.0  0.0  0.0  0.0  0.0  0.0  0.0  0.0  0.0  0.0\n",
      "  0.0  0.0  0.0  0.0  0.0  0.0  0.0  0.0  0.0  0.0  0.0  0.0  0.0  0.0\n",
      "  6.7513011e-33  1.4776637e-31  5.3655541e-30  3.0703887e-34  2.3636385e-34\n",
      "  9.0714554e-35  8.7063589e-35  3.4031057e-35  9.2303588e-35  9.2870429e-36\n",
      "  5.8325168e-36  2.7054205e-36  1.314924e-36  7.1402223e-37  4.5527966e-37\n",
      "  7.9541725e-37  2.1327243e-37  1.2788171e-37  4.0604472e-38  1.8930739e-38\n",
      "  1.7513158e-38  5.1230924e-39  5.7748128e-39  1.4219864e-39  6.5360556e-40\n",
      "  4.3440896e-40  1.5522027e-40  6.5895969e-41  4.3267794e-41  1.1262991e-41\n",
      "  9.3818284e-42  2.3946115e-40  2.0476465e-43  2.058335e-44  1.3287796e-45\n",
      "  1.9060029e-45  9.895211e-48  7.1453397e-48  1.9940999e-47  6.1497206e-46\n",
      "  2.1109143e-44  1.6470299e-42  1.6311045e-40  6.2329094e-56  1.1704678e-54\n",
      "  7.8970102e-53  3.3970708e-51  3.1143292e-74  3.9039551e-107\n",
      "  2.3738152e-188  5.8121111e-195  0.0  0.0  0.0  0.0  0.0]\n",
      "[ 6.9792231e-137  1.6112468e-136  2.3706416e-136  3.4815494e-136\n",
      "  5.1602125e-136  7.4837449e-136  1.0839375e-135  1.537261e-135\n",
      "  2.1415026e-135  2.8835548e-135  3.6737238e-135  4.3555707e-135\n",
      "  4.5311576e-135  3.829662e-135  2.3547921e-135  9.0656224e-136\n",
      "  1.8168704e-136  1.5022414e-137  3.9050271e-139  2.0004552e-141\n",
      "  1.0706093e-144  1.5966728e-149  2.6543646e-156  5.4503592e-166\n",
      "  5.5015957e-170  5.5018066e-170  5.4961894e-170  5.4792158e-170\n",
      "  5.5258809e-170  5.4795387e-170  5.4757512e-170  5.4482377e-170\n",
      "  5.4062905e-170  5.3667115e-170  5.2742073e-170  5.2030626e-170\n",
      "  5.0651905e-170  4.8529778e-170  3.6334801e-170  1.1874086e-170\n",
      "  2.9906071e-171  7.2385708e-172  1.7787212e-172  4.662733e-173\n",
      "  3.4719408e-174  2.2450021e-224  9.0538388e-226  3.3019271e-227\n",
      "  1.2287807e-228  4.5864442e-230  1.6511508e-231  5.460484e-233\n",
      "  1.4578375e-234  4.0278429e-236  1.1477533e-237  3.2467504e-239\n",
      "  6.3093124e-241  1.260247e-242  2.5249062e-244  5.8172718e-246\n",
      "  1.0464462e-247  2.1609814e-249  4.7751861e-251  1.1673755e-252\n",
      "  2.2453938e-254  4.2102294e-256  9.0961959e-258  1.8368553e-259\n",
      "  2.4291329e-261  2.649229e-263  3.4013864e-265  4.2385302e-267\n",
      "  5.1769981e-269  4.3201358e-271  4.899128e-273  5.8117816e-275\n",
      "  5.1229768e-277  2.5279135e-279  2.2351902e-281  2.5083726e-283\n",
      "  2.0276491e-285  1.0811212e-287  6.948727e-290  3.9620014e-292\n",
      "  1.1906244e-294  4.4103149e-298  5.535074e-301  2.6426725e-304\n",
      "  1.305462e-307  1.5296306e-312  3.2686981e-317  8.5242751e-324\n",
      "  1.2561933e-332  0.0  0.0  0.0  0.0  0.0  0.0  0.0]\n",
      "[ 0.0  0.0  0.0  0.0  0.0  0.0  0.0  0.0  0.0  0.0  0.0  0.0  0.0  0.0  0.0\n",
      "  0.0  0.0  0.0  0.0  0.0  0.0  0.0  0.0  0.0  0.0  0.0  0.0  0.0  0.0  0.0\n",
      "  0.0  0.0  0.0  0.0  0.0  0.0  0.0  0.0  0.0  0.0  0.0  0.0  0.0  0.0  0.0\n",
      "  0.0  0.0  0.0  0.0  0.0  0.0  0.0  0.0  0.0  0.0  0.0  0.0  0.0  0.0  0.0\n",
      "  0.0  0.0  0.0  0.0  0.0  0.0  0.0  0.0  0.0  0.0  0.0  0.0  0.0  0.0  0.0\n",
      "  0.0  0.0  0.0  0.0  0.0  0.0  0.0  0.0  0.0  0.0  0.0  0.0  0.0  0.0  0.0\n",
      "  0.0  0.0  0.0  0.0  0.0  0.0  0.0  0.0  0.0  0.0]\n"
     ]
    }
   ],
   "source": [
    "print(phot_spec_init)\n",
    "print(highengphot_spec_final.dNdE)\n",
    "print(lowengphot_spec_final.dNdE)\n",
    "print(lowengelec_spec_final.dNdE)"
   ]
  },
  {
   "cell_type": "code",
   "execution_count": null,
   "metadata": {
    "collapsed": true
   },
   "outputs": [],
   "source": []
  }
 ],
 "metadata": {
  "anaconda-cloud": {},
  "kernelspec": {
   "display_name": "Python 3",
   "language": "python",
   "name": "python3"
  },
  "language_info": {
   "codemirror_mode": {
    "name": "ipython",
    "version": 3
   },
   "file_extension": ".py",
   "mimetype": "text/x-python",
   "name": "python",
   "nbconvert_exporter": "python",
   "pygments_lexer": "ipython3",
   "version": "3.6.3"
  }
 },
 "nbformat": 4,
 "nbformat_minor": 1
}
