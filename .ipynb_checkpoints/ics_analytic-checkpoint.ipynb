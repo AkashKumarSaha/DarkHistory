{
 "cells": [
  {
   "cell_type": "code",
   "execution_count": 4,
   "metadata": {
    "collapsed": false
   },
   "outputs": [],
   "source": [
    "%load_ext autoreload"
   ]
  },
  {
   "cell_type": "code",
   "execution_count": 28,
   "metadata": {
    "collapsed": false
   },
   "outputs": [],
   "source": [
    "%autoreload\n",
    "import mpmath as mp\n",
    "import darkhistory.physics as phys"
   ]
  },
  {
   "cell_type": "code",
   "execution_count": 44,
   "metadata": {
    "collapsed": true
   },
   "outputs": [],
   "source": [
    "def F_n(n, epsmin, epsmax, T, tol=1e-3):\n",
    "    F_sum = 0\n",
    "    rel_err = tol*10\n",
    "    k = 1\n",
    "    while rel_err > tol:\n",
    "        next_term1 = mp.gammainc(n+1, k*epsmin/T)/k**(n+1)\n",
    "        next_term2 = mp.gammainc(n+1, k*epsmax/T)/k**(n+1)\n",
    "        next_term = next_term1 - next_term2\n",
    "        F_sum += next_term\n",
    "        k += 1\n",
    "        rel_err = next_term/F_sum\n",
    "    return F_sum*T**(n+1)"
   ]
  },
  {
   "cell_type": "code",
   "execution_count": 49,
   "metadata": {
    "collapsed": true
   },
   "outputs": [],
   "source": [
    "def G(epsmin, epsmax, T, tol=1e-3):\n",
    "    G_sum = mp.log(T)*F_n(0,epsmin,epsmax,T,tol)\n",
    "    rel_err = tol*10\n",
    "    k = 1\n",
    "    while rel_err > tol:\n",
    "        next_term1 = mp.exp(-k*epsmin/T)*mp.log(epsmin/T)/k + mp.e1(k*epsmin/T)\n",
    "        next_term2 = mp.exp(-k*epsmax/T)*mp.log(epsmax/T)/k + mp.e1(k*epsmax/T)\n",
    "        next_term = T*(next_term1 - next_term2)\n",
    "        G_sum += next_term\n",
    "        k += 1\n",
    "        rel_err = next_term/G_sum\n",
    "    return G_sum\n",
    "        "
   ]
  },
  {
   "cell_type": "code",
   "execution_count": 66,
   "metadata": {
    "collapsed": false
   },
   "outputs": [
    {
     "name": "stdout",
     "output_type": "stream",
     "text": [
      "0.0302956947307968\n",
      "0.00353486950028487\n",
      "-0.0299819316830694\n",
      "-0.422817908529274\n",
      "-0.414462064390448\n",
      "-0.83343134037171\n"
     ]
    }
   ],
   "source": [
    "Ee = 1e3+phys.me\n",
    "Ep = 1e-3\n",
    "T = 1000\n",
    "\n",
    "gamma = Ee/phys.me\n",
    "beta = mp.sqrt(1-1/gamma**2)\n",
    "\n",
    "prefac = phys.c*phys.thomson_xsec*(3/16)/(gamma**3*beta**2)*(8*mp.pi)/(phys.ele_compton**3*phys.me**3)\n",
    "epsmin = (1-beta)/(1+beta)*Ep\n",
    "epsmax = Ep\n",
    "\n",
    "term1 = (1+beta**2)/beta**2*mp.sqrt((1+beta)/(1-beta))*F_n(1,epsmin,epsmax,T)\n",
    "term2 = (2/beta)*mp.sqrt((1-beta)/(1+beta))*Ep*F_n(0,epsmin,epsmax,T)\n",
    "term3 = -(1-beta)**2/beta**2*mp.sqrt((1+beta)/(1-beta))*Ep**2*F_n(-1,epsmin,epsmax,T)\n",
    "term4 = 2/(gamma*beta**2)*Ep*mp.log((1-beta)/(1+beta)*Ep)*F_n(0,epsmin,epsmax,T)\n",
    "term5 = -(2/(gamma*beta**2))*Ep*G(epsmin,epsmax,T)\n",
    "print(term1)\n",
    "print(term2)\n",
    "print(term3)\n",
    "print(term4)\n",
    "print(term5)\n",
    "totallow = term1 + term2 + term3 + term4 + term5\n",
    "print(totallow)"
   ]
  },
  {
   "cell_type": "code",
   "execution_count": 67,
   "metadata": {
    "collapsed": false
   },
   "outputs": [
    {
     "name": "stdout",
     "output_type": "stream",
     "text": [
      "-0.0343308618058482\n",
      "0.00453950320962774\n",
      "0.0339753146366711\n",
      "0.462088361592742\n",
      "0.469673933446414\n",
      "0.935946251079606\n"
     ]
    }
   ],
   "source": [
    "epsmin = Ep\n",
    "epsmax = (1+beta)/(1-beta)*Ep\n",
    "term6 = -(1+beta**2)/beta**2*mp.sqrt((1-beta)/(1+beta))*F_n(1,epsmin,epsmax,T)\n",
    "term7 = (2/beta)*mp.sqrt((1+beta)/(1-beta))*Ep*F_n(0,epsmin,epsmax,T)\n",
    "term8 = (1+beta)/(gamma*beta**2)*Ep**2*F_n(-1,epsmin,epsmax,T)\n",
    "term9 = -2/(gamma*beta**2)*Ep*mp.log((1+beta)/(1-beta)*Ep)*F_n(0,epsmin,epsmax,T)\n",
    "term10 = (2/(gamma*beta**2))*Ep*G(epsmin,epsmax,T)\n",
    "\n",
    "print(term6)\n",
    "print(term7)\n",
    "print(term8)\n",
    "print(term9)\n",
    "print(term10)\n",
    "totalhigh = term6 + term7 + term8 + term9 + term10\n",
    "print(totalhigh)\n",
    "\n",
    "\n",
    "\n"
   ]
  },
  {
   "cell_type": "code",
   "execution_count": 68,
   "metadata": {
    "collapsed": false
   },
   "outputs": [
    {
     "name": "stdout",
     "output_type": "stream",
     "text": [
      "1.28779953807039\n"
     ]
    }
   ],
   "source": [
    "print((totallow+totalhigh)*prefac)"
   ]
  },
  {
   "cell_type": "code",
   "execution_count": null,
   "metadata": {
    "collapsed": true
   },
   "outputs": [],
   "source": []
  }
 ],
 "metadata": {
  "anaconda-cloud": {},
  "kernelspec": {
   "display_name": "Python [conda env:python3]",
   "language": "python",
   "name": "conda-env-python3-py"
  },
  "language_info": {
   "codemirror_mode": {
    "name": "ipython",
    "version": 3
   },
   "file_extension": ".py",
   "mimetype": "text/x-python",
   "name": "python",
   "nbconvert_exporter": "python",
   "pygments_lexer": "ipython3",
   "version": "3.5.2"
  }
 },
 "nbformat": 4,
 "nbformat_minor": 1
}
