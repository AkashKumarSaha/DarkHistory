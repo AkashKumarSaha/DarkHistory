{
 "cells": [
  {
   "cell_type": "code",
   "execution_count": 1,
   "metadata": {
    "collapsed": true
   },
   "outputs": [],
   "source": [
    "%load_ext autoreload"
   ]
  },
  {
   "cell_type": "code",
   "execution_count": 30,
   "metadata": {},
   "outputs": [],
   "source": [
    "%autoreload\n",
    "import numpy as np\n",
    "from darkhistory.utilities import diff_pow\n",
    "from darkhistory.utilities import compare_arr\n",
    "import darkhistory.electrons.ics.series as series\n",
    "import darkhistory.electrons.ics.ics_spectrum as ics_spec\n",
    "import darkhistory.physics as phys\n",
    "import pickle\n",
    "\n",
    "from scipy.integrate import quad\n",
    "from scipy.special import expn\n",
    "\n",
    "np.set_printoptions(precision=20)"
   ]
  },
  {
   "cell_type": "code",
   "execution_count": 31,
   "metadata": {},
   "outputs": [
    {
     "name": "stdout",
     "output_type": "stream",
     "text": [
      "Initializing...\n",
      "Computing series 1/4...\n",
      "Computing series 2/4...\n",
      "Computing series 3/4...\n",
      "hmm\n",
      "[ -0.0]\n",
      "hmm!\n",
      "Computing series 4/4...\n",
      "***** Diagnostics *****\n",
      "gamma:  [ 19373816865099.009996]\n",
      "lowlim:  [[ 2.8358987255473787635e-29]]\n",
      "lowlim*T:  [[ 6.660542876117506165e-30]]\n",
      "upplim:  [[ inf]]\n",
      "upplim*T:  [[ inf]]\n",
      "Gamma_eps_q:  [[ 1.010101010101010122e-21]]\n",
      "Q:  [[ 5.1015202530354047631e-43]]\n",
      "B:  [[ 6.660542876117506165e-30]]\n",
      "***** Integrals *****\n",
      "term_1:  [[ 0.38633798104035679173]]\n",
      "term_2:  [[-5.7119610881811253134e-26]]\n",
      "term_3:  [[ nan]]\n",
      "term_4:  [[-1.3321085752235012331e-29]]\n",
      "Sum of terms:  [[ nan]]\n",
      "Final answer:  [[ nan]]\n",
      "***** End Diagnostics *****\n",
      "Relativistic Computation Complete!\n",
      "Initializing...\n",
      "Computing series 1/4...\n",
      "Computing series 2/4...\n",
      "Computing series 3/4...\n",
      "Computing series 4/4...\n",
      "***** Diagnostics *****\n",
      "gamma:  [ 19373816865099.009996]\n",
      "lowlim:  [[ 2.8358987255473787635e-29]]\n",
      "lowlim*T:  [[ 6.660542876117506165e-30]]\n",
      "upplim:  [[ 0.042577591320911234506]]\n",
      "upplim*T:  [[ 0.010000000000000000209]]\n",
      "Gamma_eps_q:  [[ 1.010101010101010122e-21]]\n",
      "Q:  [[ 5.1015202530354047631e-43]]\n",
      "B:  [[ 6.660542876117506165e-30]]\n",
      "***** Integrals *****\n",
      "term_1:  [[ 0.0098940595823697793432]]\n",
      "term_2:  [[-5.4358339278778866381e-26]]\n",
      "term_3:  [[ 2.8711178623156397962e-26]]\n",
      "term_4:  [[-1.3321085752235012331e-29]]\n",
      "Sum of terms:  [[ 0.0098940595823697793432]]\n",
      "Final answer:  [[ 1.2211473268433025429e-30]]\n",
      "***** End Diagnostics *****\n",
      "Relativistic Computation Complete!\n",
      "[[ nan]]\n",
      "[[ 1.2211473268433025429e-30]]\n"
     ]
    },
    {
     "name": "stderr",
     "output_type": "stream",
     "text": [
      "/Users/hongwan/GitHub/DarkHistory/darkhistory/electrons/ics/series.py:470: RuntimeWarning: invalid value encountered in multiply\n",
      "  b = np.outer(np.ones(a.shape[0]), b)\n"
     ]
    }
   ],
   "source": [
    "Ee = 0.99e19\n",
    "Ep = 1e-2\n",
    "a_inf_upp = ics_spec.rel_spec(np.array([Ee], dtype='float128'), np.array([Ep],dtype='float128'), \n",
    "                      np.float128(phys.TCMB(1)*1000), inf_upp_bound=True)\n",
    "a = ics_spec.rel_spec(np.array([Ee], dtype='float128'), np.array([Ep],dtype='float128'), \n",
    "                      np.float128(phys.TCMB(1)*1000), inf_upp_bound=False)\n",
    "print(a_inf_upp)\n",
    "print(a)"
   ]
  },
  {
   "cell_type": "code",
   "execution_count": 4,
   "metadata": {
    "collapsed": true
   },
   "outputs": [],
   "source": [
    "Emax = np.float128(1e20)\n",
    "Emin = np.float128(1e-8)\n",
    "nEe = np.float128(5000)\n",
    "nEp  = np.float128(5000)\n",
    "\n",
    "dlnEp = np.log(Emax/Emin)/nEp\n",
    "lowengEp = Emin*np.exp((np.arange(nEp)+0.5)*dlnEp)        \n",
    "\n",
    "dlnEe = np.log(Emax/Emin)/nEe\n",
    "lowengEe = Emin*np.exp((np.arange(nEe)+0.5)*dlnEe)\n",
    "\n",
    "T = np.float128(phys.TCMB(1)*1000)"
   ]
  },
  {
   "cell_type": "code",
   "execution_count": 8,
   "metadata": {},
   "outputs": [
    {
     "name": "stdout",
     "output_type": "stream",
     "text": [
      "Initializing...\n",
      "Computing series 1/4...\n",
      "Computing series 2/4...\n",
      "Computing series 3/4...\n",
      "Computing series 4/4...\n",
      "Relativistic Computation Complete!\n",
      " "
     ]
    }
   ],
   "source": [
    "%%prun\n",
    "a = ics_spec.rel_spec(np.array(lowengEe, dtype='float128'), np.array(lowengEp,dtype='float128'), \n",
    "                      np.float128(phys.TCMB(1)*1000), inf_upp_bound=True)"
   ]
  },
  {
   "cell_type": "code",
   "execution_count": 9,
   "metadata": {
    "collapsed": true
   },
   "outputs": [],
   "source": [
    "pickle.dump(a, \n",
    "            open(\"/Users/hongwan/Dropbox (MIT)/Photon Deposition/ICS_rel.raw\", \"wb\"))"
   ]
  },
  {
   "cell_type": "code",
   "execution_count": 13,
   "metadata": {},
   "outputs": [
    {
     "data": {
      "text/plain": [
       "True"
      ]
     },
     "execution_count": 13,
     "metadata": {},
     "output_type": "execute_result"
    }
   ],
   "source": [
    "np.inf > 4e100"
   ]
  },
  {
   "cell_type": "code",
   "execution_count": 17,
   "metadata": {},
   "outputs": [
    {
     "name": "stdout",
     "output_type": "stream",
     "text": [
      "0.0\n"
     ]
    }
   ],
   "source": [
    "np.exp(-np.inf)\n",
    "print(expn(1, np.inf))"
   ]
  },
  {
   "cell_type": "code",
   "execution_count": null,
   "metadata": {
    "collapsed": true
   },
   "outputs": [],
   "source": []
  }
 ],
 "metadata": {
  "kernelspec": {
   "display_name": "Python 3",
   "language": "python",
   "name": "python3"
  },
  "language_info": {
   "codemirror_mode": {
    "name": "ipython",
    "version": 3
   },
   "file_extension": ".py",
   "mimetype": "text/x-python",
   "name": "python",
   "nbconvert_exporter": "python",
   "pygments_lexer": "ipython3",
   "version": "3.6.3"
  }
 },
 "nbformat": 4,
 "nbformat_minor": 2
}
