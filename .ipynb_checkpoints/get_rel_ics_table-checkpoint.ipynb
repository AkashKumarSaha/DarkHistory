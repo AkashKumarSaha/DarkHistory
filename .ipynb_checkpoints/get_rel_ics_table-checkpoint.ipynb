{
 "cells": [
  {
   "cell_type": "code",
   "execution_count": 1,
   "metadata": {
    "collapsed": true
   },
   "outputs": [],
   "source": [
    "%load_ext autoreload"
   ]
  },
  {
   "cell_type": "code",
   "execution_count": 94,
   "metadata": {},
   "outputs": [],
   "source": [
    "%autoreload\n",
    "import numpy as np\n",
    "from darkhistory.utilities import diff_pow\n",
    "from darkhistory.utilities import compare_arr\n",
    "import darkhistory.electrons.ics.series as series\n",
    "import darkhistory.electrons.ics.ics_spectrum as ics_spec\n",
    "import darkhistory.physics as phys\n",
    "import pickle\n",
    "\n",
    "from scipy.integrate import quad\n",
    "from scipy.special import expn\n",
    "\n",
    "np.set_printoptions(precision=20)"
   ]
  },
  {
   "cell_type": "code",
   "execution_count": 95,
   "metadata": {},
   "outputs": [
    {
     "name": "stdout",
     "output_type": "stream",
     "text": [
      "Initializing...\n",
      "Computing series 1/4...\n",
      "Computing series 2/4...\n",
      "Computing series 3/4...\n",
      "Computing series 4/4...\n",
      "***** Diagnostics *****\n",
      "gamma:  [ 0.013698658389463946462]\n",
      "lowlim:  [[ 56.72384309342862176]]\n",
      "lowlim*T:  [[ 13.322464078791067237]]\n",
      "upplim:  [[ inf]]\n",
      "upplim*T:  [[ inf]]\n",
      "Gamma_eps_q:  [[ 1.4285734693906705879e-06]]\n",
      "Q:  [[ 1.0204096209933361554e-12]]\n",
      "B:  [[ 13.322464078791067237]]\n",
      "***** Integrals *****\n",
      "term_1:  [[ 3.14283876010451206e-24]]\n",
      "term_2:  [[ 2.8031453905960590403e-23]]\n",
      "term_3:  [[-2.5050098125978328596e-23]]\n",
      "term_4:  [[-6.0715425771078350163e-24]]\n",
      "Sum of terms:  [[ 5.2651962978938851961e-26]]\n",
      "Final answer:  [[ 1.2998176149186478866e-23]]\n",
      "***** End Diagnostics *****\n",
      "Relativistic Computation Complete!\n",
      "Initializing...\n",
      "Computing series 1/4...\n",
      "Computing series 2/4...\n",
      "Computing series 3/4...\n",
      "Computing series 4/4...\n",
      "***** Diagnostics *****\n",
      "gamma:  [ 0.013698658389463946462]\n",
      "lowlim:  [[ 56.72384309342862176]]\n",
      "lowlim*T:  [[ 13.322464078791067237]]\n",
      "upplim:  [[ 0.042577652146128586114]]\n",
      "upplim*T:  [[ 0.010000014285734694115]]\n",
      "Gamma_eps_q:  [[ 1.4285734693906705879e-06]]\n",
      "Q:  [[ 1.0204096209933361554e-12]]\n",
      "B:  [[ 13.322464078791067237]]\n",
      "***** Integrals *****\n",
      "term_1:  [[ 0.0098940735661463619755]]\n",
      "term_2:  [[-384.23970120745173093]]\n",
      "term_3:  [[ -0.0]]\n",
      "term_4:  [[ -0.0]]\n",
      "Sum of terms:  [[-384.22980713388558457]]\n",
      "Final answer:  [[-94854.710676066180049]]\n",
      "***** End Diagnostics *****\n",
      "Relativistic Computation Complete!\n",
      "[[ 1.2998176149186478866e-23]]\n",
      "[[-94854.710676066180049]]\n"
     ]
    }
   ],
   "source": [
    "Ee = 7e3\n",
    "Ep = 1e-2\n",
    "a_inf_upp = ics_spec.rel_spec(np.array([Ee], dtype='float128'), np.array([Ep],dtype='float128'), \n",
    "                      np.float128(phys.TCMB(1)*1000), inf_upp_bound=True)\n",
    "a = ics_spec.rel_spec(np.array([Ee], dtype='float128'), np.array([Ep],dtype='float128'), \n",
    "                      np.float128(phys.TCMB(1)*1000), inf_upp_bound=False)\n",
    "print(a_inf_upp)\n",
    "print(a)"
   ]
  },
  {
   "cell_type": "code",
   "execution_count": 88,
   "metadata": {
    "collapsed": true
   },
   "outputs": [],
   "source": [
    "Emax = np.float128(1e20)\n",
    "Emin = np.float128(1e-8)\n",
    "nEe = np.float128(5000)\n",
    "nEp  = np.float128(5000)\n",
    "\n",
    "dlnEp = np.log(Emax/Emin)/nEp\n",
    "lowengEp = Emin*np.exp((np.arange(nEp)+0.5)*dlnEp)        \n",
    "\n",
    "dlnEe = np.log(Emax/Emin)/nEe\n",
    "lowengEe = Emin*np.exp((np.arange(nEe)+0.5)*dlnEe)\n",
    "\n",
    "T = np.float128(phys.TCMB(1)*1000)"
   ]
  },
  {
   "cell_type": "code",
   "execution_count": 91,
   "metadata": {},
   "outputs": [
    {
     "name": "stdout",
     "output_type": "stream",
     "text": [
      "Initializing...\n",
      "Computing series 1/4...\n",
      "Computing series 2/4...\n",
      "Computing series 3/4...\n",
      "Computing series 4/4...\n",
      "Relativistic Computation Complete!\n",
      " "
     ]
    }
   ],
   "source": [
    "%%prun\n",
    "a = ics_spec.rel_spec(np.array(lowengEe, dtype='float128'), np.array(lowengEp,dtype='float128'), \n",
    "                      np.float128(phys.TCMB(1)*1000), inf_upp_bound=False)"
   ]
  },
  {
   "cell_type": "code",
   "execution_count": 92,
   "metadata": {
    "collapsed": true
   },
   "outputs": [],
   "source": [
    "pickle.dump(a, \n",
    "            open(\"/Users/hongwan/Dropbox (MIT)/Photon Deposition/ICS_rel_upp.raw\", \"wb\"))"
   ]
  },
  {
   "cell_type": "code",
   "execution_count": null,
   "metadata": {
    "collapsed": true
   },
   "outputs": [],
   "source": []
  }
 ],
 "metadata": {
  "kernelspec": {
   "display_name": "Python 3",
   "language": "python",
   "name": "python3"
  },
  "language_info": {
   "codemirror_mode": {
    "name": "ipython",
    "version": 3
   },
   "file_extension": ".py",
   "mimetype": "text/x-python",
   "name": "python",
   "nbconvert_exporter": "python",
   "pygments_lexer": "ipython3",
   "version": "3.6.3"
  }
 },
 "nbformat": 4,
 "nbformat_minor": 2
}
