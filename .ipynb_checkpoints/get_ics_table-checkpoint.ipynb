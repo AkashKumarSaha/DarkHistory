{
 "cells": [
  {
   "cell_type": "code",
   "execution_count": 1,
   "metadata": {},
   "outputs": [],
   "source": [
    "%load_ext autoreload"
   ]
  },
  {
   "cell_type": "code",
   "execution_count": 342,
   "metadata": {},
   "outputs": [],
   "source": [
    "%autoreload\n",
    "import numpy as np\n",
    "from darkhistory.utilities import diff_pow\n",
    "from darkhistory.utilities import compare_arr\n",
    "import darkhistory.electrons.ics.ics_nonrel_series as series\n",
    "import darkhistory.electrons.ics.ics_nonrel as nonrel\n",
    "import darkhistory.physics as phys\n",
    "import pickle\n",
    "\n",
    "np.set_printoptions(precision=6)"
   ]
  },
  {
   "cell_type": "code",
   "execution_count": 331,
   "metadata": {},
   "outputs": [],
   "source": [
    "Emax = np.float128(1e10)\n",
    "Emin = np.float128(1e-8)\n",
    "nEe = np.float128(5000)\n",
    "nEp  = np.float128(5000)\n",
    "\n",
    "dlnEp = np.log(Emax/Emin)/nEp\n",
    "lowengEp = Emin*np.exp((np.arange(nEp)+0.5)*dlnEp)        \n",
    "\n",
    "dlnEe = np.log(Emax/Emin)/nEe\n",
    "lowengEe = phys.me + Emin*np.exp((np.arange(nEe)+0.5)*dlnEe)\n",
    "\n",
    "# lowengEe = np.array([lowengEe[168]],dtype='float128')\n",
    "# lowengEp = np.array([lowengEp[521]],dtype='float128')\n",
    "#521\n",
    "T = np.float128(phys.TCMB(1)*1000)"
   ]
  },
  {
   "cell_type": "code",
   "execution_count": 332,
   "metadata": {},
   "outputs": [
    {
     "name": "stdout",
     "output_type": "stream",
     "text": [
      "where_diff on (eleceng, photeng) grid: \n",
      "[[ True  True  True ..., False False False]\n",
      " [ True  True  True ..., False False False]\n",
      " [ True  True  True ..., False False False]\n",
      " ..., \n",
      " [False False False ..., False False False]\n",
      " [False False False ..., False False False]\n",
      " [False False False ..., False False False]]\n",
      "spec from spec_diff: \n",
      "[[ 6.206e-10  6.25765e-10  6.30974e-10 ...,  0.0  0.0  0.0]\n",
      " [ 6.206e-10  6.25765e-10  6.30974e-10 ...,  0.0  0.0  0.0]\n",
      " [ 6.206e-10  6.25765e-10  6.30974e-10 ...,  0.0  0.0  0.0]\n",
      " ..., \n",
      " [ 0.0  0.0  0.0 ...,  0.0  0.0  0.0]\n",
      " [ 0.0  0.0  0.0 ...,  0.0  0.0  0.0]\n",
      " [ 0.0  0.0  0.0 ...,  0.0  0.0  0.0]]\n",
      "epsrel from spec_diff: \n",
      "[[ 6.29884e-28  6.29884e-28  6.29884e-28 ...,  0.0  0.0  0.0]\n",
      " [ 6.40409e-28  6.40409e-28  6.40409e-28 ...,  0.0  0.0  0.0]\n",
      " [ 6.51106e-28  6.51106e-28  6.51106e-28 ...,  0.0  0.0  0.0]\n",
      " ..., \n",
      " [ 0.0  0.0  0.0 ...,  0.0  0.0  0.0]\n",
      " [ 0.0  0.0  0.0 ...,  0.0  0.0  0.0]\n",
      " [ 0.0  0.0  0.0 ...,  0.0  0.0  0.0]]\n",
      "where_series on (eleceng, photeng) grid: \n",
      "[[False False False ...,  True  True  True]\n",
      " [False False False ...,  True  True  True]\n",
      " [False False False ...,  True  True  True]\n",
      " ..., \n",
      " [ True  True  True ...,  True  True  True]\n",
      " [ True  True  True ...,  True  True  True]\n",
      " [ True  True  True ...,  True  True  True]]\n",
      "4\n",
      "4\n",
      "6\n",
      "6\n",
      "8\n",
      "8\n",
      "10\n",
      "10\n",
      "12\n",
      "12\n",
      "14\n",
      "14\n",
      "16\n",
      "16\n",
      "18\n",
      "18\n",
      "20\n",
      "20\n",
      "22\n",
      "22\n",
      "24\n",
      "24\n",
      "26\n",
      "26\n",
      "28\n",
      "28\n",
      "4\n",
      "4\n",
      "6\n",
      "6\n",
      "8\n",
      "8\n",
      "10\n",
      "10\n",
      "12\n",
      "12\n",
      "14\n",
      "14\n",
      "16\n",
      "16\n",
      "18\n",
      "18\n",
      "20\n",
      "20\n",
      "22\n",
      "22\n",
      "24\n",
      "24\n",
      "26\n",
      "26\n",
      "28\n",
      "28\n",
      "30\n",
      "30\n",
      "32\n",
      "32\n",
      "4\n",
      "4\n",
      "6\n",
      "6\n",
      "8\n",
      "8\n",
      "10\n",
      "10\n",
      "12\n",
      "12\n",
      "14\n",
      "14\n",
      "16\n",
      "16\n",
      "18\n",
      "18\n",
      "20\n",
      "20\n",
      "22\n",
      "22\n",
      "24\n",
      "24\n",
      "26\n",
      "26\n",
      "28\n",
      "28\n",
      "4\n",
      "4\n",
      "6\n",
      "6\n",
      "8\n",
      "8\n",
      "10\n",
      "10\n",
      "12\n",
      "12\n",
      "14\n",
      "14\n",
      "16\n",
      "16\n",
      "18\n",
      "18\n",
      "20\n",
      "20\n",
      "22\n",
      "22\n",
      "24\n",
      "24\n",
      "26\n",
      "26\n",
      "28\n",
      "28\n",
      "30\n",
      "30\n",
      "spec from spec_series: \n",
      "[[ 0.0  0.0  0.0 ...,  0.0  0.0  0.0]\n",
      " [ 0.0  0.0  0.0 ...,  0.0  0.0  0.0]\n",
      " [ 0.0  0.0  0.0 ...,  0.0  0.0  0.0]\n",
      " ..., \n",
      " [ 2.2727e-17  2.29059e-17  2.30862e-17 ...,  1.34494e-23  1.06268e-23\n",
      "   8.37998e-24]\n",
      " [ 2.23539e-17  2.25298e-17  2.27071e-17 ...,  2.10651e-23  1.67089e-23\n",
      "   1.3228e-23]\n",
      " [ 2.19869e-17  2.21599e-17  2.23343e-17 ...,  3.27407e-23  2.60696e-23\n",
      "   2.07183e-23]]\n",
      "*********************\n",
      "Final Result: \n",
      "[[ 6.206e-10  6.25765e-10  6.30974e-10 ...,  0.0  0.0  0.0]\n",
      " [ 6.206e-10  6.25765e-10  6.30974e-10 ...,  0.0  0.0  0.0]\n",
      " [ 6.206e-10  6.25765e-10  6.30974e-10 ...,  0.0  0.0  0.0]\n",
      " ..., \n",
      " [ 2.2727e-17  2.29059e-17  2.30862e-17 ...,  1.34494e-23  1.06268e-23\n",
      "   8.37998e-24]\n",
      " [ 2.23539e-17  2.25298e-17  2.27071e-17 ...,  2.10651e-23  1.67089e-23\n",
      "   1.3228e-23]\n",
      " [ 2.19869e-17  2.21599e-17  2.23343e-17 ...,  3.27407e-23  2.60696e-23\n",
      "   2.07183e-23]]\n",
      "######################################\n",
      " "
     ]
    }
   ],
   "source": [
    "%%prun\n",
    "a = nonrel.nonrel_spec(lowengEe, lowengEp, T)\n",
    "pickle.dump(a, \n",
    "            open(\"/Users/hongwan/Dropbox (MIT)/Photon Deposition/ICS_nonrel.raw\", \"wb\"))"
   ]
  },
  {
   "cell_type": "code",
   "execution_count": 270,
   "metadata": {},
   "outputs": [
    {
     "name": "stdout",
     "output_type": "stream",
     "text": [
      "[[ 0.000234156]]\n",
      "####################################\n",
      "[[ 0.000234799]]\n",
      "####################################\n",
      "[[ 0.000235713]]\n",
      "####################################\n",
      "(array([[ 0.000233074]], dtype=float128), array([[-3.80898e-21]], dtype=float128))\n"
     ]
    }
   ],
   "source": [
    "T = np.float128(phys.TCMB(1)*1000)\n",
    "print(nonrel.spec_series(np.array([510998.94776],dtype='float128'), \n",
    "                   np.array([0.00380189396321],dtype='float128'),\n",
    "                            T)\n",
    "     )\n",
    "print('####################################')\n",
    "print(nonrel.spec_series(np.array([510998.94775958691816777],dtype='float128'), \n",
    "                   np.array([0.00380189396321],dtype='float128'),\n",
    "                            T)\n",
    "     )\n",
    "print('####################################')\n",
    "print(nonrel.spec_series(np.array([510998.94775],dtype='float128'), \n",
    "                   np.array([0.00380189396321],dtype='float128'),\n",
    "                            T)\n",
    "     )\n",
    "\n",
    "print('####################################')\n",
    "print(nonrel.spec_diff(np.array([510998.94775],dtype='float128'), \n",
    "                   np.array([0.00380189396321],dtype='float128'),\n",
    "                            T)\n",
    "     )"
   ]
  },
  {
   "cell_type": "code",
   "execution_count": 340,
   "metadata": {},
   "outputs": [
    {
     "name": "stdout",
     "output_type": "stream",
     "text": [
      "[]\n",
      "(array([], dtype=int64), array([], dtype=int64))\n"
     ]
    }
   ],
   "source": [
    "print(a[(a < -1e-100)])\n",
    "print(np.where(a<-1e-40))"
   ]
  },
  {
   "cell_type": "code",
   "execution_count": null,
   "metadata": {},
   "outputs": [],
   "source": [
    "# %%prun\n",
    "b = nonrel.spec_quad(lowengEe, lowengEp, T)"
   ]
  },
  {
   "cell_type": "code",
   "execution_count": null,
   "metadata": {},
   "outputs": [],
   "source": [
    "b[b<0]"
   ]
  },
  {
   "cell_type": "code",
   "execution_count": null,
   "metadata": {},
   "outputs": [],
   "source": [
    "lowbound = np.array([2.3e-8, 0.09,1.424e-4, 1.8, 6.5, 1.32930])\n",
    "uppbound = np.array([3.394e-4, 0.099, 3.6703, 3.8, 10.3252, 3.492e8])\n",
    "print(series.F1(lowbound, uppbound, epsrel=1e-16))\n",
    "print(series.F0(lowbound, uppbound, epsrel=1e-16))\n",
    "print(series.F_inv(lowbound, uppbound))\n",
    "print(series.F_log(lowbound, uppbound))\n",
    "\n",
    "lowbound = np.array([[2.3e-8, 0.09],[1.424e-4, 1.8], [6.5, 1.32930]])\n",
    "uppbound = np.array([[3.394e-4, 0.099],[3.6703, 3.8], [10.3252, 3.492e8]])\n",
    "print(series.F1(lowbound, uppbound, epsrel=1e-16))\n",
    "\n",
    "\n",
    "lowbound = np.array([[2.3e-8, 0.09],[1.424e-4, 1.8], [6.5, 1.32930]])\n",
    "uppbound = np.array([3.394e-4, 0.099])\n",
    "print(series.F1(lowbound, uppbound, epsrel=1e-16))"
   ]
  },
  {
   "cell_type": "code",
   "execution_count": 260,
   "metadata": {},
   "outputs": [
    {
     "data": {
      "text/plain": [
       "0.0"
      ]
     },
     "execution_count": 260,
     "metadata": {},
     "output_type": "execute_result"
    }
   ],
   "source": [
    "np.exp(-8000)"
   ]
  },
  {
   "cell_type": "code",
   "execution_count": null,
   "metadata": {
    "collapsed": true
   },
   "outputs": [],
   "source": []
  }
 ],
 "metadata": {
  "kernelspec": {
   "display_name": "Python 3",
   "language": "python",
   "name": "python3"
  },
  "language_info": {
   "codemirror_mode": {
    "name": "ipython",
    "version": 3
   },
   "file_extension": ".py",
   "mimetype": "text/x-python",
   "name": "python",
   "nbconvert_exporter": "python",
   "pygments_lexer": "ipython3",
   "version": "3.6.3"
  }
 },
 "nbformat": 4,
 "nbformat_minor": 2
}
