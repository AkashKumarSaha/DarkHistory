{
 "cells": [
  {
   "cell_type": "code",
   "execution_count": 1,
   "metadata": {},
   "outputs": [],
   "source": [
    "%load_ext autoreload"
   ]
  },
  {
   "cell_type": "code",
   "execution_count": 123,
   "metadata": {},
   "outputs": [],
   "source": [
    "%autoreload\n",
    "import numpy as np\n",
    "from darkhistory.utilities import diff_pow\n",
    "import darkhistory.electrons.ics.ics_nonrel_series as series\n",
    "import darkhistory.electrons.ics.ics_nonrel as nonrel\n",
    "import darkhistory.physics as phys\n",
    "\n",
    "np.set_printoptions(precision=20)"
   ]
  },
  {
   "cell_type": "code",
   "execution_count": 124,
   "metadata": {},
   "outputs": [],
   "source": [
    "Emax = 1e10\n",
    "Emin = 1e-8\n",
    "nEe = 2000\n",
    "nEp  = 2000\n",
    "\n",
    "dlnEp = np.log(Emax/Emin)/nEp\n",
    "lowengEp = Emin*np.exp((np.arange(nEp)+0.5)*dlnEp)        \n",
    "\n",
    "dlnEe = np.log(Emax/Emin)/nEe\n",
    "lowengEe = phys.me + Emin*np.exp((np.arange(nEe)+0.5)*dlnEe)\n",
    "\n",
    "T = np.float128(phys.TCMB(1)*1000)"
   ]
  },
  {
   "cell_type": "code",
   "execution_count": 125,
   "metadata": {},
   "outputs": [
    {
     "name": "stdout",
     "output_type": "stream",
     "text": [
      "[  3.39348202996140246510e-04   8.58145174882529726545e-03\n",
      "   1.52446957950191541720e+00   3.89439368845468814051e-01\n",
      "   1.09122842821987361267e-02   6.93265248905243103295e-01]\n",
      "[  9.59927073215279591523e+00   9.08810442338062046685e-02\n",
      "   8.83114298512566620047e+00   1.58056775020700729373e-01\n",
      "   1.47177382268633008891e-03   3.07425647356494746720e-01]\n",
      "[  4.34753096939157173038e+07   9.63195808510190154550e-01\n",
      "   7.01740740206419832248e+03   6.68199856379011331020e-02\n",
      "   2.00676595044219167321e-04   1.54557027804291646778e-01]\n",
      "[ -1.22756612509525538712e+02  -2.14508965826628095197e-01\n",
      "  -3.85333212922386607602e+01   1.39207249164719076839e-01\n",
      "   2.94028704356445388934e-03   2.28614115581175780800e-01]\n"
     ]
    }
   ],
   "source": [
    "lowbound = np.array([2.3e-8, 0.09,1.424e-4, 1.8, 6.5, 1.32930])\n",
    "uppbound = np.array([3.394e-4, 0.099, 3.6703, 3.8, 10.3252, 3.492e8])\n",
    "print(series.F1(lowbound, uppbound, epsrel=1e-16))\n",
    "print(series.F0(lowbound, uppbound, epsrel=1e-16))\n",
    "print(series.F_inv(lowbound, uppbound))\n",
    "print(series.F_log(lowbound, uppbound))"
   ]
  },
  {
   "cell_type": "code",
   "execution_count": 126,
   "metadata": {},
   "outputs": [
    {
     "name": "stdout",
     "output_type": "stream",
     "text": [
      "[[  3.39348202996140246510e-04   8.58145174882529726545e-03]\n",
      " [  1.52446957950191541720e+00   3.89439368845468814051e-01]\n",
      " [  1.09122842821987361267e-02   6.93265248905243103295e-01]]\n"
     ]
    }
   ],
   "source": [
    "lowbound = np.array([[2.3e-8, 0.09],[1.424e-4, 1.8], [6.5, 1.32930]])\n",
    "uppbound = np.array([[3.394e-4, 0.099],[3.6703, 3.8], [10.3252, 3.492e8]])\n",
    "print(series.F1(lowbound, uppbound, epsrel=1e-16))\n"
   ]
  },
  {
   "cell_type": "code",
   "execution_count": 113,
   "metadata": {},
   "outputs": [
    {
     "data": {
      "application/vnd.jupyter.widget-view+json": {
       "model_id": "298a7b8e86a74010b67c96b4e8950c34",
       "version_major": 2,
       "version_minor": 0
      },
      "text/plain": [
       "A Jupyter Widget"
      ]
     },
     "metadata": {},
     "output_type": "display_data"
    },
    {
     "data": {
      "application/vnd.jupyter.widget-view+json": {
       "model_id": "e24a5c0307f54868a5b595dac9f7c41a",
       "version_major": 2,
       "version_minor": 0
      },
      "text/plain": [
       "A Jupyter Widget"
      ]
     },
     "metadata": {},
     "output_type": "display_data"
    },
    {
     "data": {
      "application/vnd.jupyter.widget-view+json": {
       "model_id": "08c5e5b0425744b6b22d932de187bc2b",
       "version_major": 2,
       "version_minor": 0
      },
      "text/plain": [
       "A Jupyter Widget"
      ]
     },
     "metadata": {},
     "output_type": "display_data"
    },
    {
     "data": {
      "application/vnd.jupyter.widget-view+json": {
       "model_id": "1d95e1a2978c49e6a121a52c0fadd191",
       "version_major": 2,
       "version_minor": 0
      },
      "text/plain": [
       "A Jupyter Widget"
      ]
     },
     "metadata": {},
     "output_type": "display_data"
    },
    {
     "data": {
      "application/vnd.jupyter.widget-view+json": {
       "model_id": "c990e555a81a4c7dbd07b830a8a7a45b",
       "version_major": 2,
       "version_minor": 0
      },
      "text/plain": [
       "A Jupyter Widget"
      ]
     },
     "metadata": {},
     "output_type": "display_data"
    },
    {
     "data": {
      "application/vnd.jupyter.widget-view+json": {
       "model_id": "52bf2e3d98c8427c82c7ba78351d5522",
       "version_major": 2,
       "version_minor": 0
      },
      "text/plain": [
       "A Jupyter Widget"
      ]
     },
     "metadata": {},
     "output_type": "display_data"
    },
    {
     "data": {
      "application/vnd.jupyter.widget-view+json": {
       "model_id": "be592ede7b4148f4a38c119d4c355ddf",
       "version_major": 2,
       "version_minor": 0
      },
      "text/plain": [
       "A Jupyter Widget"
      ]
     },
     "metadata": {},
     "output_type": "display_data"
    },
    {
     "data": {
      "application/vnd.jupyter.widget-view+json": {
       "model_id": "bc3a4bda72a74a83b344cb68c81a7f15",
       "version_major": 2,
       "version_minor": 0
      },
      "text/plain": [
       "A Jupyter Widget"
      ]
     },
     "metadata": {},
     "output_type": "display_data"
    },
    {
     "name": "stdout",
     "output_type": "stream",
     "text": [
      "[[ 4.9091665540351580864e-08]]\n",
      "[[  4.90920065908781955664e-08]]\n",
      "beta:  [ 0.00045930306535217845445]\n",
      "[[ 4.909199767376925871e-08]]\n"
     ]
    }
   ],
   "source": [
    "#510998.94610007945\n",
    "eleceng = np.array([510999],dtype=np.float128)\n",
    "photeng = np.array([7.94328e-7],dtype=np.float128)\n",
    "T = np.float128(phys.TCMB(1)*1000)\n",
    "print(nonrel.spec_series(eleceng, photeng, T))\n",
    "print(nonrel.spec_quad(eleceng, photeng, T))\n",
    "print(nonrel.spec_diff(eleceng, photeng, T))"
   ]
  },
  {
   "cell_type": "code",
   "execution_count": 116,
   "metadata": {},
   "outputs": [
    {
     "name": "stdout",
     "output_type": "stream",
     "text": [
      "beta:  [  1.98806286813707195718e-07   2.01027655053612114377e-07\n",
      "   2.03224743857764817415e-07 ...,   9.99999998552017599351e-01\n",
      "   9.99999998610801688059e-01   9.99999998667199574420e-01]\n"
     ]
    },
    {
     "name": "stderr",
     "output_type": "stream",
     "text": [
      "/Users/hongwan/GitHub/DarkHistory/darkhistory/electrons/ics/ics_nonrel_series.py:605: RuntimeWarning: overflow encountered in exp\n",
      "  4*eta[large]**2*T**2/(np.exp(eta[large]) - 1)**2*(\n",
      "/Users/hongwan/GitHub/DarkHistory/darkhistory/electrons/ics/ics_nonrel_series.py:605: RuntimeWarning: overflow encountered in square\n",
      "  4*eta[large]**2*T**2/(np.exp(eta[large]) - 1)**2*(\n",
      "/Users/hongwan/GitHub/DarkHistory/darkhistory/electrons/ics/ics_nonrel_series.py:606: RuntimeWarning: overflow encountered in exp\n",
      "  np.exp(eta[large])*(eta[large] - 1) + 1\n",
      "/Users/hongwan/GitHub/DarkHistory/darkhistory/electrons/ics/ics_nonrel_series.py:606: RuntimeWarning: overflow encountered in multiply\n",
      "  np.exp(eta[large])*(eta[large] - 1) + 1\n",
      "/Users/hongwan/GitHub/DarkHistory/darkhistory/electrons/ics/ics_nonrel_series.py:606: RuntimeWarning: invalid value encountered in multiply\n",
      "  np.exp(eta[large])*(eta[large] - 1) + 1\n",
      "/Users/hongwan/GitHub/DarkHistory/darkhistory/electrons/ics/ics_nonrel_series.py:611: RuntimeWarning: overflow encountered in exp\n",
      "  8*eta[large]**2*T**2/(np.exp(eta[large]) - 1)**4*(\n",
      "/Users/hongwan/GitHub/DarkHistory/darkhistory/electrons/ics/ics_nonrel_series.py:611: RuntimeWarning: overflow encountered in power\n",
      "  8*eta[large]**2*T**2/(np.exp(eta[large]) - 1)**4*(\n",
      "/Users/hongwan/GitHub/DarkHistory/darkhistory/electrons/ics/ics_nonrel_series.py:612: RuntimeWarning: overflow encountered in exp\n",
      "  np.exp(2*eta[large])*(\n",
      "/Users/hongwan/GitHub/DarkHistory/darkhistory/electrons/ics/ics_nonrel_series.py:618: RuntimeWarning: overflow encountered in cosh\n",
      "  -50*eta[large] + 27\n",
      "/Users/hongwan/GitHub/DarkHistory/darkhistory/electrons/ics/ics_nonrel_series.py:618: RuntimeWarning: overflow encountered in multiply\n",
      "  -50*eta[large] + 27\n",
      "/Users/hongwan/GitHub/DarkHistory/darkhistory/electrons/ics/ics_nonrel_series.py:618: RuntimeWarning: overflow encountered in sinh\n",
      "  -50*eta[large] + 27\n",
      "/Users/hongwan/GitHub/DarkHistory/darkhistory/electrons/ics/ics_nonrel_series.py:618: RuntimeWarning: invalid value encountered in add\n",
      "  -50*eta[large] + 27\n",
      "/Users/hongwan/GitHub/DarkHistory/darkhistory/electrons/ics/ics_nonrel_series.py:619: RuntimeWarning: invalid value encountered in multiply\n",
      "  ) + 9\n",
      "/Users/hongwan/GitHub/DarkHistory/darkhistory/electrons/ics/ics_nonrel_series.py:624: RuntimeWarning: overflow encountered in exp\n",
      "  4*eta[large]**2*T**2/(np.exp(eta[large]) - 1)**6*(\n",
      "/Users/hongwan/GitHub/DarkHistory/darkhistory/electrons/ics/ics_nonrel_series.py:624: RuntimeWarning: overflow encountered in power\n",
      "  4*eta[large]**2*T**2/(np.exp(eta[large]) - 1)**6*(\n",
      "/Users/hongwan/GitHub/DarkHistory/darkhistory/electrons/ics/ics_nonrel_series.py:625: RuntimeWarning: overflow encountered in exp\n",
      "  np.exp(3*eta[large])*(\n",
      "/Users/hongwan/GitHub/DarkHistory/darkhistory/electrons/ics/ics_nonrel_series.py:642: RuntimeWarning: overflow encountered in sinh\n",
      "  +np.cosh(2*eta[large])*(\n",
      "/Users/hongwan/GitHub/DarkHistory/darkhistory/electrons/ics/ics_nonrel_series.py:642: RuntimeWarning: overflow encountered in multiply\n",
      "  +np.cosh(2*eta[large])*(\n",
      "/Users/hongwan/GitHub/DarkHistory/darkhistory/electrons/ics/ics_nonrel_series.py:642: RuntimeWarning: overflow encountered in cosh\n",
      "  +np.cosh(2*eta[large])*(\n",
      "/Users/hongwan/GitHub/DarkHistory/darkhistory/electrons/ics/ics_nonrel_series.py:642: RuntimeWarning: invalid value encountered in add\n",
      "  +np.cosh(2*eta[large])*(\n",
      "/Users/hongwan/GitHub/DarkHistory/darkhistory/electrons/ics/ics_nonrel_series.py:644: RuntimeWarning: overflow encountered in multiply\n",
      "  + 6150*eta[large] - 4050\n",
      "/Users/hongwan/GitHub/DarkHistory/darkhistory/electrons/ics/ics_nonrel_series.py:644: RuntimeWarning: invalid value encountered in add\n",
      "  + 6150*eta[large] - 4050\n",
      "/Users/hongwan/GitHub/DarkHistory/darkhistory/electrons/ics/ics_nonrel_series.py:646: RuntimeWarning: invalid value encountered in multiply\n",
      "  ) +675\n",
      "/Users/hongwan/GitHub/DarkHistory/darkhistory/electrons/ics/ics_nonrel_series.py:652: RuntimeWarning: overflow encountered in exp\n",
      "  16*eta[large]**2*T**2/(np.exp(eta[large]) - 1)**8*(\n",
      "/Users/hongwan/GitHub/DarkHistory/darkhistory/electrons/ics/ics_nonrel_series.py:652: RuntimeWarning: overflow encountered in power\n",
      "  16*eta[large]**2*T**2/(np.exp(eta[large]) - 1)**8*(\n",
      "/Users/hongwan/GitHub/DarkHistory/darkhistory/electrons/ics/ics_nonrel_series.py:699: RuntimeWarning: overflow encountered in exp\n",
      "  + 11025\n",
      "/Users/hongwan/GitHub/DarkHistory/darkhistory/electrons/ics/ics_nonrel_series.py:699: RuntimeWarning: overflow encountered in multiply\n",
      "  + 11025\n",
      "/Users/hongwan/GitHub/DarkHistory/darkhistory/electrons/ics/ics_nonrel_series.py:699: RuntimeWarning: invalid value encountered in multiply\n",
      "  + 11025\n",
      "/Users/hongwan/GitHub/DarkHistory/darkhistory/electrons/ics/ics_nonrel_series.py:704: RuntimeWarning: overflow encountered in exp\n",
      "  8*eta[large]**2*T**2/(np.exp(eta[large]) - 1)**4*(\n",
      "/Users/hongwan/GitHub/DarkHistory/darkhistory/electrons/ics/ics_nonrel_series.py:704: RuntimeWarning: overflow encountered in power\n",
      "  8*eta[large]**2*T**2/(np.exp(eta[large]) - 1)**4*(\n",
      "/Users/hongwan/GitHub/DarkHistory/darkhistory/electrons/ics/ics_nonrel_series.py:705: RuntimeWarning: overflow encountered in exp\n",
      "  np.exp(2*eta[large])*(\n",
      "/Users/hongwan/GitHub/DarkHistory/darkhistory/electrons/ics/ics_nonrel_series.py:711: RuntimeWarning: overflow encountered in cosh\n",
      "  +14*eta[large] + 3\n",
      "/Users/hongwan/GitHub/DarkHistory/darkhistory/electrons/ics/ics_nonrel_series.py:711: RuntimeWarning: overflow encountered in multiply\n",
      "  +14*eta[large] + 3\n",
      "/Users/hongwan/GitHub/DarkHistory/darkhistory/electrons/ics/ics_nonrel_series.py:711: RuntimeWarning: overflow encountered in sinh\n",
      "  +14*eta[large] + 3\n",
      "/Users/hongwan/GitHub/DarkHistory/darkhistory/electrons/ics/ics_nonrel_series.py:711: RuntimeWarning: invalid value encountered in add\n",
      "  +14*eta[large] + 3\n",
      "/Users/hongwan/GitHub/DarkHistory/darkhistory/electrons/ics/ics_nonrel_series.py:712: RuntimeWarning: invalid value encountered in multiply\n",
      "  ) +1\n",
      "/Users/hongwan/GitHub/DarkHistory/darkhistory/electrons/ics/ics_nonrel_series.py:717: RuntimeWarning: overflow encountered in exp\n",
      "  4*eta[large]**2*T**2/(np.exp(eta[large]) - 1)**6*(\n",
      "/Users/hongwan/GitHub/DarkHistory/darkhistory/electrons/ics/ics_nonrel_series.py:717: RuntimeWarning: overflow encountered in power\n",
      "  4*eta[large]**2*T**2/(np.exp(eta[large]) - 1)**6*(\n",
      "/Users/hongwan/GitHub/DarkHistory/darkhistory/electrons/ics/ics_nonrel_series.py:718: RuntimeWarning: overflow encountered in exp\n",
      "  -np.exp(3*eta[large])*(\n",
      "/Users/hongwan/GitHub/DarkHistory/darkhistory/electrons/ics/ics_nonrel_series.py:728: RuntimeWarning: overflow encountered in cosh\n",
      "  + (832*eta[large]**5 + 3152*eta[large]**3\n",
      "/Users/hongwan/GitHub/DarkHistory/darkhistory/electrons/ics/ics_nonrel_series.py:728: RuntimeWarning: overflow encountered in multiply\n",
      "  + (832*eta[large]**5 + 3152*eta[large]**3\n",
      "/Users/hongwan/GitHub/DarkHistory/darkhistory/electrons/ics/ics_nonrel_series.py:728: RuntimeWarning: overflow encountered in sinh\n",
      "  + (832*eta[large]**5 + 3152*eta[large]**3\n",
      "/Users/hongwan/GitHub/DarkHistory/darkhistory/electrons/ics/ics_nonrel_series.py:732: RuntimeWarning: overflow encountered in sinh\n",
      "  -2424*eta[large] - 495\n",
      "/Users/hongwan/GitHub/DarkHistory/darkhistory/electrons/ics/ics_nonrel_series.py:732: RuntimeWarning: overflow encountered in multiply\n",
      "  -2424*eta[large] - 495\n",
      "/Users/hongwan/GitHub/DarkHistory/darkhistory/electrons/ics/ics_nonrel_series.py:733: RuntimeWarning: overflow encountered in cosh\n",
      "  ) * np.cosh(eta[large])\n",
      "/Users/hongwan/GitHub/DarkHistory/darkhistory/electrons/ics/ics_nonrel_series.py:733: RuntimeWarning: overflow encountered in multiply\n",
      "  ) * np.cosh(eta[large])\n",
      "/Users/hongwan/GitHub/DarkHistory/darkhistory/electrons/ics/ics_nonrel_series.py:733: RuntimeWarning: invalid value encountered in add\n",
      "  ) * np.cosh(eta[large])\n",
      "/Users/hongwan/GitHub/DarkHistory/darkhistory/electrons/ics/ics_nonrel_series.py:734: RuntimeWarning: invalid value encountered in multiply\n",
      "  ) + 33\n",
      "/Users/hongwan/GitHub/DarkHistory/darkhistory/electrons/ics/ics_nonrel_series.py:739: RuntimeWarning: overflow encountered in exp\n",
      "  -16*eta[large]**2*T**2/(np.exp(eta[large]) - 1)**8*(\n",
      "/Users/hongwan/GitHub/DarkHistory/darkhistory/electrons/ics/ics_nonrel_series.py:739: RuntimeWarning: overflow encountered in power\n",
      "  -16*eta[large]**2*T**2/(np.exp(eta[large]) - 1)**8*(\n",
      "/Users/hongwan/GitHub/DarkHistory/darkhistory/electrons/ics/ics_nonrel_series.py:787: RuntimeWarning: overflow encountered in exp\n",
      "  + 309\n",
      "/Users/hongwan/GitHub/DarkHistory/darkhistory/electrons/ics/ics_nonrel_series.py:787: RuntimeWarning: overflow encountered in multiply\n",
      "  + 309\n",
      "/Users/hongwan/GitHub/DarkHistory/darkhistory/electrons/ics/ics_nonrel_series.py:787: RuntimeWarning: invalid value encountered in multiply\n",
      "  + 309\n",
      "/Users/hongwan/GitHub/DarkHistory/darkhistory/electrons/ics/ics_nonrel_series.py:441: RuntimeWarning: overflow encountered in exp\n",
      "  4*eta[large]**2*T**2/(np.exp(eta[large]) - 1)**2*(\n",
      "/Users/hongwan/GitHub/DarkHistory/darkhistory/electrons/ics/ics_nonrel_series.py:441: RuntimeWarning: overflow encountered in square\n",
      "  4*eta[large]**2*T**2/(np.exp(eta[large]) - 1)**2*(\n",
      "/Users/hongwan/GitHub/DarkHistory/darkhistory/electrons/ics/ics_nonrel_series.py:442: RuntimeWarning: overflow encountered in exp\n",
      "  np.exp(eta[large])*(eta[large] - 1) + 1\n",
      "/Users/hongwan/GitHub/DarkHistory/darkhistory/electrons/ics/ics_nonrel_series.py:442: RuntimeWarning: overflow encountered in multiply\n",
      "  np.exp(eta[large])*(eta[large] - 1) + 1\n",
      "/Users/hongwan/GitHub/DarkHistory/darkhistory/electrons/ics/ics_nonrel_series.py:442: RuntimeWarning: invalid value encountered in multiply\n",
      "  np.exp(eta[large])*(eta[large] - 1) + 1\n",
      "/Users/hongwan/GitHub/DarkHistory/darkhistory/electrons/ics/ics_nonrel_series.py:447: RuntimeWarning: overflow encountered in exp\n",
      "  8*eta[large]**2*T**2/(np.exp(eta[large]) - 1)**4*(\n",
      "/Users/hongwan/GitHub/DarkHistory/darkhistory/electrons/ics/ics_nonrel_series.py:447: RuntimeWarning: overflow encountered in power\n",
      "  8*eta[large]**2*T**2/(np.exp(eta[large]) - 1)**4*(\n",
      "/Users/hongwan/GitHub/DarkHistory/darkhistory/electrons/ics/ics_nonrel_series.py:448: RuntimeWarning: overflow encountered in exp\n",
      "  np.exp(2*eta[large])*(8*eta[large]**3\n",
      "/Users/hongwan/GitHub/DarkHistory/darkhistory/electrons/ics/ics_nonrel_series.py:453: RuntimeWarning: overflow encountered in cosh\n",
      "  -50*eta[large] + 27\n",
      "/Users/hongwan/GitHub/DarkHistory/darkhistory/electrons/ics/ics_nonrel_series.py:453: RuntimeWarning: overflow encountered in multiply\n",
      "  -50*eta[large] + 27\n",
      "/Users/hongwan/GitHub/DarkHistory/darkhistory/electrons/ics/ics_nonrel_series.py:453: RuntimeWarning: overflow encountered in sinh\n",
      "  -50*eta[large] + 27\n",
      "/Users/hongwan/GitHub/DarkHistory/darkhistory/electrons/ics/ics_nonrel_series.py:453: RuntimeWarning: invalid value encountered in add\n",
      "  -50*eta[large] + 27\n",
      "/Users/hongwan/GitHub/DarkHistory/darkhistory/electrons/ics/ics_nonrel_series.py:454: RuntimeWarning: invalid value encountered in multiply\n",
      "  ) + 9\n",
      "/Users/hongwan/GitHub/DarkHistory/darkhistory/electrons/ics/ics_nonrel_series.py:459: RuntimeWarning: overflow encountered in exp\n",
      "  4*eta[large]**2*T**2/(np.exp(eta[large]) - 1)**6*(\n",
      "/Users/hongwan/GitHub/DarkHistory/darkhistory/electrons/ics/ics_nonrel_series.py:459: RuntimeWarning: overflow encountered in power\n",
      "  4*eta[large]**2*T**2/(np.exp(eta[large]) - 1)**6*(\n",
      "/Users/hongwan/GitHub/DarkHistory/darkhistory/electrons/ics/ics_nonrel_series.py:460: RuntimeWarning: overflow encountered in exp\n",
      "  np.exp(3*eta[large])*(\n",
      "/Users/hongwan/GitHub/DarkHistory/darkhistory/electrons/ics/ics_nonrel_series.py:476: RuntimeWarning: overflow encountered in sinh\n",
      "  +np.cosh(2*eta[large])*(\n",
      "/Users/hongwan/GitHub/DarkHistory/darkhistory/electrons/ics/ics_nonrel_series.py:476: RuntimeWarning: overflow encountered in multiply\n",
      "  +np.cosh(2*eta[large])*(\n",
      "/Users/hongwan/GitHub/DarkHistory/darkhistory/electrons/ics/ics_nonrel_series.py:476: RuntimeWarning: overflow encountered in cosh\n",
      "  +np.cosh(2*eta[large])*(\n",
      "/Users/hongwan/GitHub/DarkHistory/darkhistory/electrons/ics/ics_nonrel_series.py:476: RuntimeWarning: invalid value encountered in add\n",
      "  +np.cosh(2*eta[large])*(\n",
      "/Users/hongwan/GitHub/DarkHistory/darkhistory/electrons/ics/ics_nonrel_series.py:478: RuntimeWarning: overflow encountered in multiply\n",
      "  + 6150*eta[large] - 4050\n",
      "/Users/hongwan/GitHub/DarkHistory/darkhistory/electrons/ics/ics_nonrel_series.py:478: RuntimeWarning: invalid value encountered in add\n",
      "  + 6150*eta[large] - 4050\n",
      "/Users/hongwan/GitHub/DarkHistory/darkhistory/electrons/ics/ics_nonrel_series.py:480: RuntimeWarning: invalid value encountered in multiply\n",
      "  ) +675\n",
      "/Users/hongwan/GitHub/DarkHistory/darkhistory/electrons/ics/ics_nonrel_series.py:486: RuntimeWarning: overflow encountered in exp\n",
      "  16*eta[large]**2*T**2/(np.exp(eta[large]) - 1)**8*(\n",
      "/Users/hongwan/GitHub/DarkHistory/darkhistory/electrons/ics/ics_nonrel_series.py:486: RuntimeWarning: overflow encountered in power\n",
      "  16*eta[large]**2*T**2/(np.exp(eta[large]) - 1)**8*(\n",
      "/Users/hongwan/GitHub/DarkHistory/darkhistory/electrons/ics/ics_nonrel_series.py:536: RuntimeWarning: overflow encountered in exp\n",
      "  + 11025\n",
      "/Users/hongwan/GitHub/DarkHistory/darkhistory/electrons/ics/ics_nonrel_series.py:536: RuntimeWarning: overflow encountered in multiply\n",
      "  + 11025\n",
      "/Users/hongwan/GitHub/DarkHistory/darkhistory/electrons/ics/ics_nonrel_series.py:536: RuntimeWarning: invalid value encountered in multiply\n",
      "  + 11025\n"
     ]
    },
    {
     "name": "stderr",
     "output_type": "stream",
     "text": [
      "/Users/hongwan/GitHub/DarkHistory/darkhistory/electrons/ics/ics_nonrel_series.py:863: RuntimeWarning: overflow encountered in exp\n",
      "  if np.any(large):\n",
      "/Users/hongwan/GitHub/DarkHistory/darkhistory/electrons/ics/ics_nonrel_series.py:863: RuntimeWarning: overflow encountered in power\n",
      "  if np.any(large):\n",
      "/Users/hongwan/GitHub/DarkHistory/darkhistory/electrons/ics/ics_nonrel_series.py:868: RuntimeWarning: overflow encountered in exp\n",
      "  *(2*eta[large]**2 + 9*eta[large] - 15)\n",
      "/Users/hongwan/GitHub/DarkHistory/darkhistory/electrons/ics/ics_nonrel_series.py:868: RuntimeWarning: overflow encountered in multiply\n",
      "  *(2*eta[large]**2 + 9*eta[large] - 15)\n",
      "/Users/hongwan/GitHub/DarkHistory/darkhistory/electrons/ics/ics_nonrel_series.py:868: RuntimeWarning: invalid value encountered in multiply\n",
      "  *(2*eta[large]**2 + 9*eta[large] - 15)\n",
      "/Users/hongwan/GitHub/DarkHistory/darkhistory/electrons/ics/ics_nonrel_series.py:873: RuntimeWarning: overflow encountered in exp\n",
      "  )\n",
      "/Users/hongwan/GitHub/DarkHistory/darkhistory/electrons/ics/ics_nonrel_series.py:873: RuntimeWarning: overflow encountered in power\n",
      "  )\n",
      "/Users/hongwan/GitHub/DarkHistory/darkhistory/electrons/ics/ics_nonrel_series.py:889: RuntimeWarning: overflow encountered in exp\n",
      "  + 4*np.exp(eta[large])*(\n",
      "/Users/hongwan/GitHub/DarkHistory/darkhistory/electrons/ics/ics_nonrel_series.py:889: RuntimeWarning: overflow encountered in multiply\n",
      "  + 4*np.exp(eta[large])*(\n",
      "/Users/hongwan/GitHub/DarkHistory/darkhistory/electrons/ics/ics_nonrel_series.py:889: RuntimeWarning: invalid value encountered in multiply\n",
      "  + 4*np.exp(eta[large])*(\n",
      "/Users/hongwan/GitHub/DarkHistory/darkhistory/electrons/ics/ics_nonrel_series.py:894: RuntimeWarning: overflow encountered in exp\n",
      "  )\n",
      "/Users/hongwan/GitHub/DarkHistory/darkhistory/electrons/ics/ics_nonrel_series.py:894: RuntimeWarning: overflow encountered in power\n",
      "  )\n",
      "/Users/hongwan/GitHub/DarkHistory/darkhistory/electrons/ics/ics_nonrel_series.py:931: RuntimeWarning: overflow encountered in exp\n",
      "  + 27300*eta[large]**3 + 50190*eta[large]**2\n",
      "/Users/hongwan/GitHub/DarkHistory/darkhistory/electrons/ics/ics_nonrel_series.py:931: RuntimeWarning: overflow encountered in multiply\n",
      "  + 27300*eta[large]**3 + 50190*eta[large]**2\n",
      "/Users/hongwan/GitHub/DarkHistory/darkhistory/electrons/ics/ics_nonrel_series.py:931: RuntimeWarning: invalid value encountered in multiply\n",
      "  + 27300*eta[large]**3 + 50190*eta[large]**2\n",
      "/Users/hongwan/GitHub/DarkHistory/darkhistory/electrons/ics/ics_nonrel_series.py:936: RuntimeWarning: overflow encountered in exp\n",
      "  )\n",
      "/Users/hongwan/GitHub/DarkHistory/darkhistory/electrons/ics/ics_nonrel_series.py:940: RuntimeWarning: overflow encountered in exp\n",
      "  )\n",
      "/Users/hongwan/GitHub/DarkHistory/darkhistory/electrons/ics/ics_nonrel_series.py:940: RuntimeWarning: overflow encountered in power\n",
      "  )\n",
      "/Users/hongwan/GitHub/DarkHistory/darkhistory/electrons/ics/ics_nonrel_series.py:945: RuntimeWarning: overflow encountered in exp\n",
      "  *(eta[large]**2 - 3*eta[large] + 3)\n",
      "/Users/hongwan/GitHub/DarkHistory/darkhistory/electrons/ics/ics_nonrel_series.py:945: RuntimeWarning: overflow encountered in multiply\n",
      "  *(eta[large]**2 - 3*eta[large] + 3)\n",
      "/Users/hongwan/GitHub/DarkHistory/darkhistory/electrons/ics/ics_nonrel_series.py:945: RuntimeWarning: invalid value encountered in multiply\n",
      "  *(eta[large]**2 - 3*eta[large] + 3)\n",
      "/Users/hongwan/GitHub/DarkHistory/darkhistory/electrons/ics/ics_nonrel_series.py:950: RuntimeWarning: overflow encountered in exp\n",
      "  )\n",
      "/Users/hongwan/GitHub/DarkHistory/darkhistory/electrons/ics/ics_nonrel_series.py:950: RuntimeWarning: overflow encountered in power\n",
      "  )\n",
      "/Users/hongwan/GitHub/DarkHistory/darkhistory/electrons/ics/ics_nonrel_series.py:966: RuntimeWarning: overflow encountered in exp\n",
      "  + 2*np.exp(eta[large])*(\n",
      "/Users/hongwan/GitHub/DarkHistory/darkhistory/electrons/ics/ics_nonrel_series.py:966: RuntimeWarning: overflow encountered in multiply\n",
      "  + 2*np.exp(eta[large])*(\n",
      "/Users/hongwan/GitHub/DarkHistory/darkhistory/electrons/ics/ics_nonrel_series.py:966: RuntimeWarning: invalid value encountered in multiply\n",
      "  + 2*np.exp(eta[large])*(\n",
      "/Users/hongwan/GitHub/DarkHistory/darkhistory/electrons/ics/ics_nonrel_series.py:971: RuntimeWarning: overflow encountered in exp\n",
      "  )\n",
      "/Users/hongwan/GitHub/DarkHistory/darkhistory/electrons/ics/ics_nonrel_series.py:971: RuntimeWarning: overflow encountered in power\n",
      "  )\n",
      "/Users/hongwan/GitHub/DarkHistory/darkhistory/electrons/ics/ics_nonrel_series.py:1002: RuntimeWarning: overflow encountered in exp\n",
      "  + 168*eta[large]**4 + 630*eta[large]**3\n",
      "/Users/hongwan/GitHub/DarkHistory/darkhistory/electrons/ics/ics_nonrel_series.py:1002: RuntimeWarning: overflow encountered in multiply\n",
      "  + 168*eta[large]**4 + 630*eta[large]**3\n",
      "/Users/hongwan/GitHub/DarkHistory/darkhistory/electrons/ics/ics_nonrel_series.py:1002: RuntimeWarning: invalid value encountered in multiply\n",
      "  + 168*eta[large]**4 + 630*eta[large]**3\n"
     ]
    },
    {
     "name": "stdout",
     "output_type": "stream",
     "text": [
      " "
     ]
    }
   ],
   "source": [
    "%%prun\n",
    "nonrel.spec_diff(lowengEe, lowengEp, T)"
   ]
  },
  {
   "cell_type": "code",
   "execution_count": 88,
   "metadata": {},
   "outputs": [
    {
     "data": {
      "application/vnd.jupyter.widget-view+json": {
       "model_id": "feb6a2752c104a26877c7299dd89d6b0",
       "version_major": 2,
       "version_minor": 0
      },
      "text/plain": [
       "A Jupyter Widget"
      ]
     },
     "metadata": {},
     "output_type": "display_data"
    },
    {
     "data": {
      "application/vnd.jupyter.widget-view+json": {
       "model_id": "5ca715bef53942ebbfeb48bab9d0fd84",
       "version_major": 2,
       "version_minor": 0
      },
      "text/plain": [
       "A Jupyter Widget"
      ]
     },
     "metadata": {},
     "output_type": "display_data"
    },
    {
     "data": {
      "application/vnd.jupyter.widget-view+json": {
       "model_id": "d03ef9869df346d2973bf425a1fd1477",
       "version_major": 2,
       "version_minor": 0
      },
      "text/plain": [
       "A Jupyter Widget"
      ]
     },
     "metadata": {},
     "output_type": "display_data"
    },
    {
     "name": "stderr",
     "output_type": "stream",
     "text": [
      "/Users/hongwan/GitHub/DarkHistory/darkhistory/electrons/ics/ics_nonrel_series.py:304: RuntimeWarning: invalid value encountered in true_divide\n",
      "  err = np.max(np.abs(next_term/integral[both_high]))\n"
     ]
    },
    {
     "data": {
      "application/vnd.jupyter.widget-view+json": {
       "model_id": "72afaed9c5074268b69fe79725f95a48",
       "version_major": 2,
       "version_minor": 0
      },
      "text/plain": [
       "A Jupyter Widget"
      ]
     },
     "metadata": {},
     "output_type": "display_data"
    },
    {
     "name": "stderr",
     "output_type": "stream",
     "text": [
      "/Users/hongwan/GitHub/DarkHistory/darkhistory/electrons/ics/ics_nonrel_series.py:419: RuntimeWarning: invalid value encountered in true_divide\n",
      "  err = np.max(np.abs(next_term/integral[both_high]))\n"
     ]
    },
    {
     "data": {
      "application/vnd.jupyter.widget-view+json": {
       "model_id": "25919d6077ee418a957293477c69f0b4",
       "version_major": 2,
       "version_minor": 0
      },
      "text/plain": [
       "A Jupyter Widget"
      ]
     },
     "metadata": {},
     "output_type": "display_data"
    },
    {
     "data": {
      "application/vnd.jupyter.widget-view+json": {
       "model_id": "9b229a61e53b4219a76b6b381c23009b",
       "version_major": 2,
       "version_minor": 0
      },
      "text/plain": [
       "A Jupyter Widget"
      ]
     },
     "metadata": {},
     "output_type": "display_data"
    },
    {
     "data": {
      "application/vnd.jupyter.widget-view+json": {
       "model_id": "b42485ccffba44c99df33c26b3f86211",
       "version_major": 2,
       "version_minor": 0
      },
      "text/plain": [
       "A Jupyter Widget"
      ]
     },
     "metadata": {},
     "output_type": "display_data"
    },
    {
     "data": {
      "application/vnd.jupyter.widget-view+json": {
       "model_id": "d19cdd720c6747ffa9867ae15edd6cab",
       "version_major": 2,
       "version_minor": 0
      },
      "text/plain": [
       "A Jupyter Widget"
      ]
     },
     "metadata": {},
     "output_type": "display_data"
    },
    {
     "name": "stdout",
     "output_type": "stream",
     "text": [
      " "
     ]
    }
   ],
   "source": [
    "%%prun\n",
    "nonrel.spec_series(lowengEe, lowengEp, T)"
   ]
  },
  {
   "cell_type": "code",
   "execution_count": 83,
   "metadata": {},
   "outputs": [
    {
     "name": "stderr",
     "output_type": "stream",
     "text": [
      "/Users/hongwan/anaconda/envs/python3/lib/python3.6/site-packages/scipy/integrate/quadpack.py:364: IntegrationWarning: The integral is probably divergent, or slowly convergent.\n",
      "  warnings.warn(msg, IntegrationWarning)\n",
      "/Users/hongwan/anaconda/envs/python3/lib/python3.6/site-packages/scipy/integrate/quadpack.py:364: IntegrationWarning: The maximum number of subdivisions (50) has been achieved.\n",
      "  If increasing the limit yields no improvement it is advised to analyze \n",
      "  the integrand in order to determine the difficulties.  If the position of a \n",
      "  local difficulty can be determined (singularity, discontinuity) one will \n",
      "  probably gain from splitting up the interval and calling the integrator \n",
      "  on the subranges.  Perhaps a special-purpose integrator should be used.\n",
      "  warnings.warn(msg, IntegrationWarning)\n"
     ]
    },
    {
     "name": "stdout",
     "output_type": "stream",
     "text": [
      "[[ -2.00808360399151136976e-07  -4.76923105937098953944e-03\n",
      "    1.49004477626609057142e-16   0.00000000000000000000e+00\n",
      "    0.00000000000000000000e+00]\n",
      " [  3.89894923032815006190e-08   1.54389965077555497064e-04\n",
      "    8.69559419809161997193e-18   0.00000000000000000000e+00\n",
      "    0.00000000000000000000e+00]\n",
      " [  3.89944765390656952018e-08   1.54411794772761623573e-04\n",
      "    8.90076952387298625896e-18   0.00000000000000000000e+00\n",
      "    0.00000000000000000000e+00]\n",
      " [  3.63119644857064494841e-08   1.43685819343071339996e-04\n",
      "    1.45350673861912932874e-10   0.00000000000000000000e+00\n",
      "    0.00000000000000000000e+00]\n",
      " [  3.81257050467914591888e-12   6.66264718398497671589e-09\n",
      "    0.00000000000000000000e+00   0.00000000000000000000e+00\n",
      "    0.00000000000000000000e+00]]\n",
      "CPU times: user 539 ms, sys: 9.18 ms, total: 549 ms\n",
      "Wall time: 564 ms\n"
     ]
    }
   ],
   "source": [
    "%%time\n",
    "print(nonrel.spec_quad(lowengEe, lowengEp, T))"
   ]
  },
  {
   "cell_type": "code",
   "execution_count": 122,
   "metadata": {},
   "outputs": [
    {
     "name": "stdout",
     "output_type": "stream",
     "text": [
      "2\n",
      "(2, 3)\n",
      "[[ 0.  0.  0.]\n",
      " [ 0.  0.  0.]]\n"
     ]
    }
   ],
   "source": [
    "a = np.array([[1,0,2],[0,1,3]])\n",
    "print(a.ndim)\n",
    "print(a.shape)\n",
    "b = np.zeros(a.shape)\n",
    "print(b)"
   ]
  },
  {
   "cell_type": "code",
   "execution_count": null,
   "metadata": {
    "collapsed": true
   },
   "outputs": [],
   "source": []
  }
 ],
 "metadata": {
  "kernelspec": {
   "display_name": "Python 3",
   "language": "python",
   "name": "python3"
  },
  "language_info": {
   "codemirror_mode": {
    "name": "ipython",
    "version": 3
   },
   "file_extension": ".py",
   "mimetype": "text/x-python",
   "name": "python",
   "nbconvert_exporter": "python",
   "pygments_lexer": "ipython3",
   "version": "3.6.3"
  }
 },
 "nbformat": 4,
 "nbformat_minor": 2
}
