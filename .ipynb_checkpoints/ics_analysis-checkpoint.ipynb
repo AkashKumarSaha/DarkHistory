{
 "cells": [
  {
   "cell_type": "code",
   "execution_count": 1,
   "metadata": {},
   "outputs": [],
   "source": [
    "%load_ext autoreload"
   ]
  },
  {
   "cell_type": "code",
   "execution_count": 5,
   "metadata": {},
   "outputs": [],
   "source": [
    "%autoreload\n",
    "import numpy as np\n",
    "from darkhistory.utilities import diff_pow\n",
    "from darkhistory.utilities import compare_arr\n",
    "import darkhistory.electrons.ics.ics_nonrel_series as series\n",
    "import darkhistory.electrons.ics.ics_nonrel as nonrel\n",
    "import darkhistory.physics as phys\n",
    "\n",
    "np.set_printoptions(precision=10)"
   ]
  },
  {
   "cell_type": "code",
   "execution_count": null,
   "metadata": {
    "scrolled": true
   },
   "outputs": [],
   "source": [
    "#510998.94610007945\n",
    "Emax = 1e10\n",
    "Emin = 1e-8\n",
    "nEe = 10\n",
    "nEp  = 10\n",
    "\n",
    "dlnEp = np.log(Emax/Emin)/nEp\n",
    "lowengEp = Emin*np.exp((np.arange(nEp)+0.5)*dlnEp)        \n",
    "\n",
    "dlnEe = np.log(Emax/Emin)/nEe\n",
    "lowengEe = phys.me + Emin*np.exp((np.arange(nEe)+0.5)*dlnEe)\n",
    "\n",
    "print(lowengEe[5])\n",
    "print(lowengEp[4])\n",
    "\n",
    "eleceng = np.array([lowengEe[5],lowengEe[6]],dtype=np.float128)\n",
    "photeng = np.array([lowengEp[4],lowengEp[5]],dtype=np.float128)\n",
    "T = np.float128(phys.TCMB(1)*1000)\n",
    "print(nonrel.spec_series(eleceng, photeng, T))\n",
    "print(nonrel.spec_quad(eleceng, photeng, T))\n",
    "print(nonrel.spec_diff(eleceng, photeng, T))\n",
    "print('**********Full Method:************')\n",
    "print(nonrel.nonrel_spec(eleceng, photeng, T))"
   ]
  },
  {
   "cell_type": "code",
   "execution_count": null,
   "metadata": {
    "scrolled": false
   },
   "outputs": [],
   "source": [
    "#%%prun\n",
    "a = nonrel.spec_series(lowengEe[0:7], lowengEp[0:6], T, test=True)\n",
    "b = nonrel.spec_series(lowengEe[0:8], lowengEp[0:7], T, test=False)\n",
    "# print(a)\n",
    "# print('***')\n",
    "# print(a-b[0:7,0:6])\n",
    "# print(nonrel.spec_series(np.array([lowengEe[5]]), np.array([lowengEp[4]]), T))"
   ]
  },
  {
   "cell_type": "code",
   "execution_count": 20,
   "metadata": {},
   "outputs": [],
   "source": [
    "Emax = np.float128(1e10)\n",
    "Emin = np.float128(1e-8)\n",
    "nEe = 50\n",
    "nEp  = 50\n",
    "\n",
    "dlnEp = np.log(Emax/Emin)/nEp\n",
    "lowengEp = Emin*np.exp((np.arange(nEp)+0.5)*dlnEp)        \n",
    "\n",
    "dlnEe = np.log(Emax/Emin)/nEe\n",
    "lowengEe = phys.me + Emin*np.exp((np.arange(nEe)+0.5)*dlnEe)\n",
    "\n",
    "T = np.float128(phys.TCMB(1)*1000)\n",
    "# print(lowengEe)\n",
    "# print(lowengEp)\n",
    "# print(T)"
   ]
  },
  {
   "cell_type": "code",
   "execution_count": 21,
   "metadata": {},
   "outputs": [
    {
     "name": "stdout",
     "output_type": "stream",
     "text": [
      "where_diff on (eleceng, photeng) grid: \n",
      "[[ True  True  True ..., False False False]\n",
      " [ True  True  True ..., False False False]\n",
      " [ True  True  True ..., False False False]\n",
      " ..., \n",
      " [False False False ..., False False False]\n",
      " [False False False ..., False False False]\n",
      " [False False False ..., False False False]]\n",
      "spec from spec_diff: \n",
      "[[  9.3543065066e-10   2.1429477299e-09   4.9092091685e-09 ...,\n",
      "    0.0000000000e+00   0.0000000000e+00   0.0000000000e+00]\n",
      " [  9.3543065066e-10   2.1429477299e-09   4.9092091685e-09 ...,\n",
      "    0.0000000000e+00   0.0000000000e+00   0.0000000000e+00]\n",
      " [  9.3543065065e-10   2.1429477299e-09   4.9092091685e-09 ...,\n",
      "    0.0000000000e+00   0.0000000000e+00   0.0000000000e+00]\n",
      " ..., \n",
      " [  0.0000000000e+00   0.0000000000e+00   0.0000000000e+00 ...,\n",
      "    0.0000000000e+00   0.0000000000e+00   0.0000000000e+00]\n",
      " [  0.0000000000e+00   0.0000000000e+00   0.0000000000e+00 ...,\n",
      "    0.0000000000e+00   0.0000000000e+00   0.0000000000e+00]\n",
      " [  0.0000000000e+00   0.0000000000e+00   0.0000000000e+00 ...,\n",
      "    0.0000000000e+00   0.0000000000e+00   0.0000000000e+00]]\n",
      "epsrel from spec_diff: \n",
      "[[  1.4314255384e-27   1.4314252573e-27   1.4314246134e-27 ...,\n",
      "    0.0000000000e+00   0.0000000000e+00   0.0000000000e+00]\n",
      " [  7.5205409933e-27   7.5205395164e-27   7.5205361330e-27 ...,\n",
      "    0.0000000000e+00   0.0000000000e+00   0.0000000000e+00]\n",
      " [  3.9411458686e-26   3.9411450946e-26   3.9411433216e-26 ...,\n",
      "    0.0000000000e+00   0.0000000000e+00   0.0000000000e+00]\n",
      " ..., \n",
      " [  0.0000000000e+00   0.0000000000e+00   0.0000000000e+00 ...,\n",
      "    0.0000000000e+00   0.0000000000e+00   0.0000000000e+00]\n",
      " [  0.0000000000e+00   0.0000000000e+00   0.0000000000e+00 ...,\n",
      "    0.0000000000e+00   0.0000000000e+00   0.0000000000e+00]\n",
      " [  0.0000000000e+00   0.0000000000e+00   0.0000000000e+00 ...,\n",
      "    0.0000000000e+00   0.0000000000e+00   0.0000000000e+00]]\n",
      "where_series on (eleceng, photeng) grid: \n",
      "[[False False False ...,  True  True  True]\n",
      " [False False False ...,  True  True  True]\n",
      " [False False False ...,  True  True  True]\n",
      " ..., \n",
      " [ True  True  True ...,  True  True  True]\n",
      " [ True  True  True ...,  True  True  True]\n",
      " [ True  True  True ...,  True  True  True]]\n",
      "spec from spec_series: \n",
      "[[  0.0000000000e+000   0.0000000000e+000   0.0000000000e+000 ...,\n",
      "    0.0000000000e+000   0.0000000000e+000   0.0000000000e+000]\n",
      " [  0.0000000000e+000   0.0000000000e+000   0.0000000000e+000 ...,\n",
      "    0.0000000000e+000   0.0000000000e+000   0.0000000000e+000]\n",
      " [  0.0000000000e+000   0.0000000000e+000   0.0000000000e+000 ...,\n",
      "    0.0000000000e+000   0.0000000000e+000   0.0000000000e+000]\n",
      " ..., \n",
      " [  1.9227782412e-015   4.3068836193e-015   9.5160714148e-015 ...,\n",
      "    3.1520164931e-105   7.9195374162e-229   0.0000000000e+000]\n",
      " [  3.8216522624e-016   8.3937343325e-016   1.8328077969e-015 ...,\n",
      "    1.8245974645e-028   5.1176018801e-052   5.4324679389e-106]\n",
      " [  7.3515048934e-017   1.6065183100e-016   3.4998468877e-016 ...,\n",
      "    1.7997544312e-014   6.3619638632e-019   3.4483643171e-029]]\n",
      "*********************\n",
      "Final Result: \n",
      "[[  9.3543065066e-010   2.1429477299e-009   4.9092091685e-009 ...,\n",
      "    0.0000000000e+000   0.0000000000e+000   0.0000000000e+000]\n",
      " [  9.3543065066e-010   2.1429477299e-009   4.9092091685e-009 ...,\n",
      "    0.0000000000e+000   0.0000000000e+000   0.0000000000e+000]\n",
      " [  9.3543065065e-010   2.1429477299e-009   4.9092091685e-009 ...,\n",
      "    0.0000000000e+000   0.0000000000e+000   0.0000000000e+000]\n",
      " ..., \n",
      " [  1.9227782412e-015   4.3068836193e-015   9.5160714148e-015 ...,\n",
      "    3.1520164931e-105   7.9195374162e-229   0.0000000000e+000]\n",
      " [  3.8216522624e-016   8.3937343325e-016   1.8328077969e-015 ...,\n",
      "    1.8245974645e-028   5.1176018801e-052   5.4324679389e-106]\n",
      " [  7.3515048934e-017   1.6065183100e-016   3.4998468877e-016 ...,\n",
      "    1.7997544312e-014   6.3619638632e-019   3.4483643171e-029]]\n",
      " "
     ]
    }
   ],
   "source": [
    "# %%prun\n",
    "a = nonrel.nonrel_spec(lowengEe, lowengEp, T)"
   ]
  },
  {
   "cell_type": "code",
   "execution_count": 22,
   "metadata": {},
   "outputs": [
    {
     "data": {
      "text/plain": [
       "array([ -3.4323592019e-053,  -5.8841782754e-136,  -2.1563797157e-054,\n",
       "        -1.9904638766e-137,  -7.7993005649e-055,  -1.7980009082e-137,\n",
       "        -1.1870442039e-055,  -3.3896251866e-139,  -5.4660167517e-139,\n",
       "        -9.6494577230e-057,  -3.2604562437e-141,  -2.5747132912e-057,\n",
       "        -2.6344412320e-140,  -2.9962661095e-058,  -6.4070892803e-141,\n",
       "        -1.9970032378e-059,  -4.3639372027e-142,  -5.1268034731e-060,\n",
       "        -1.9640405139e-142,  -1.3237273456e-060,  -1.4537897251e-143,\n",
       "        -3.7911017189e-061,  -1.5432775132e-062,  -1.1086752435e-002,\n",
       "        -3.0483088187e-004])"
      ]
     },
     "execution_count": 22,
     "metadata": {},
     "output_type": "execute_result"
    }
   ],
   "source": [
    "a[(a < 0)]"
   ]
  },
  {
   "cell_type": "code",
   "execution_count": null,
   "metadata": {},
   "outputs": [],
   "source": [
    "# %%prun\n",
    "nonrel.spec_quad(lowengEe, lowengEp, T)"
   ]
  },
  {
   "cell_type": "code",
   "execution_count": null,
   "metadata": {},
   "outputs": [],
   "source": [
    "# %%prun\n",
    "lowengEe = np.array([510998.947, 510998.99, 510999])\n",
    "lowengEp = np.array([3e-7])\n",
    "test_spec_diff = nonrel.spec_diff(lowengEe, lowengEp, T)\n",
    "print(test_spec_diff)\n",
    "compare_arr([test_spec_diff[0],test_spec_diff[1]])"
   ]
  },
  {
   "cell_type": "code",
   "execution_count": null,
   "metadata": {},
   "outputs": [],
   "source": [
    "a = np.array([[1,0,2],[0,1,3]])\n",
    "a[a >= 1] = a[a >= 1]*2\n",
    "print(a)"
   ]
  },
  {
   "cell_type": "code",
   "execution_count": null,
   "metadata": {},
   "outputs": [],
   "source": [
    "a = np.array([1.309250395,2.92049062,3.203590239])\n",
    "s = np.outer(np.ones(3), a)\n",
    "print(a - s[0])"
   ]
  },
  {
   "cell_type": "code",
   "execution_count": null,
   "metadata": {},
   "outputs": [],
   "source": [
    "lowbound = np.array([2.3e-8, 0.09,1.424e-4, 1.8, 6.5, 1.32930])\n",
    "uppbound = np.array([3.394e-4, 0.099, 3.6703, 3.8, 10.3252, 3.492e8])\n",
    "print(series.F1(lowbound, uppbound, epsrel=1e-16))\n",
    "print(series.F0(lowbound, uppbound, epsrel=1e-16))\n",
    "print(series.F_inv(lowbound, uppbound))\n",
    "print(series.F_log(lowbound, uppbound))\n",
    "\n",
    "lowbound = np.array([[2.3e-8, 0.09],[1.424e-4, 1.8], [6.5, 1.32930]])\n",
    "uppbound = np.array([[3.394e-4, 0.099],[3.6703, 3.8], [10.3252, 3.492e8]])\n",
    "print(series.F1(lowbound, uppbound, epsrel=1e-16))\n",
    "\n",
    "\n",
    "lowbound = np.array([[2.3e-8, 0.09],[1.424e-4, 1.8], [6.5, 1.32930]])\n",
    "uppbound = np.array([3.394e-4, 0.099])\n",
    "print(series.F1(lowbound, uppbound, epsrel=1e-16))"
   ]
  }
 ],
 "metadata": {
  "kernelspec": {
   "display_name": "Python 3",
   "language": "python",
   "name": "python3"
  },
  "language_info": {
   "codemirror_mode": {
    "name": "ipython",
    "version": 3
   },
   "file_extension": ".py",
   "mimetype": "text/x-python",
   "name": "python",
   "nbconvert_exporter": "python",
   "pygments_lexer": "ipython3",
   "version": "3.6.3"
  }
 },
 "nbformat": 4,
 "nbformat_minor": 2
}
