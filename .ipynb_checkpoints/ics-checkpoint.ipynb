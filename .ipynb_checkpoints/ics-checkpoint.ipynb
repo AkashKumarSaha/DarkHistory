{
 "cells": [
  {
   "cell_type": "markdown",
   "metadata": {},
   "source": [
    "# Inverse Compton Scattering"
   ]
  },
  {
   "cell_type": "markdown",
   "metadata": {},
   "source": [
    "At the low energy limit, Tracy calculated an approximate expression for dN/(dt deps1), which is the number of photons per scattered energy eps1 per unit time. This expression is presented as an integrand, integrated over the CMB spectrum."
   ]
  },
  {
   "cell_type": "code",
   "execution_count": 1,
   "metadata": {
    "collapsed": true
   },
   "outputs": [],
   "source": [
    "import numpy as np\n",
    "\n",
    "from scipy import integrate\n",
    "\n",
    "import darkhistory.physics as phys"
   ]
  },
  {
   "cell_type": "code",
   "execution_count": 4,
   "metadata": {},
   "outputs": [],
   "source": [
    "def icsspec_loweng(eleckineng, photeng, CMBeng, rs):\n",
    "    \n",
    "    def loweng_integrand(eleckineng, photeng, CMBeng):\n",
    "        \"\"\"\n",
    "\n",
    "        Parameters\n",
    "        ----------\n",
    "\n",
    "        eleckineng : float\n",
    "            Kinetic energy of the electron.\n",
    "        photeng : ndarray\n",
    "            Energy of the scattered photon. \n",
    "        CMBeng : float\n",
    "            Energy of the CMB photon (to be integrated over)\n",
    "        \"\"\"\n",
    "        gamma = 1 + eleckineng/phys.me\n",
    "        beta = np.sqrt(1 - 1/(gamma**2))\n",
    "\n",
    "        def prefac(CMBeng): \n",
    "            return phys.c*(3/16)*(\n",
    "                phys.thomson_xsec/((gamma**3)*(beta**2)*(CMBeng**2))\n",
    "            )\n",
    "\n",
    "        def integrand(CMBeng, photeng):\n",
    "            \"\"\"\n",
    "            CMBeng is a double, photeng can be an ndarray.\n",
    "            \"\"\"\n",
    "\n",
    "            photenghigh = (\n",
    "                CMBeng*(1+beta**2)/(beta**2)*np.sqrt((1+beta)/(1-beta))\n",
    "                + (2/beta)*np.sqrt((1-beta)/(1+beta))*photeng\n",
    "                - ((1-beta)**2)/(beta**2)*np.sqrt((1+beta)/(1-beta))*(\n",
    "                     photeng**2/CMBeng\n",
    "                )\n",
    "                + 2/(gamma*beta**2)*photeng*np.log(\n",
    "                     (1-beta)/(1+beta)*photeng/CMBeng\n",
    "                )\n",
    "            )\n",
    "\n",
    "            photenglow = (\n",
    "                - CMBeng*(1+beta**2)/(beta**2)*np.sqrt((1-beta)/(1+beta))\n",
    "                + (2/beta)*np.sqrt((1+beta)/(1-beta))*photeng\n",
    "                + (1+beta)/(gamma*beta**2)*(photeng**2/CMBeng)\n",
    "                - 2/(gamma*beta**2)*photeng*np.log(\n",
    "                     (1+beta)/(1-beta)*photeng/CMBeng\n",
    "                 )\n",
    "            )\n",
    "\n",
    "            outval = np.where(photeng > CMBeng, photenghigh, photenglow)\n",
    "            # Zero out parts where photeng exceeds its theoretical max value.\n",
    "            outval = np.where(photeng < gamma**2*(1+beta)**2*CMBeng, outval, np.zeros(outval.size))\n",
    "            return outval\n",
    "\n",
    "        return prefac(CMBeng)*integrand(CMBeng, photeng)\n",
    "    \n",
    "    return integrate.quad(loweng_integrand(eleckineng, photeng, CMBeng)*phys.CMB_spec(CMBeng, phys.TCMB(rs)), 0, )\n",
    "    \n",
    "    \n",
    "    "
   ]
  },
  {
   "cell_type": "code",
   "execution_count": 6,
   "metadata": {},
   "outputs": [
    {
     "data": {
      "text/plain": [
       "array([  9.88044310e-27,   2.09168002e-24,   1.51071830e-23,\n",
       "         0.00000000e+00])"
      ]
     },
     "execution_count": 6,
     "metadata": {},
     "output_type": "execute_result"
    }
   ],
   "source": [
    "testeleceng = 3.2e9\n",
    "testphoteng = np.array([1.65e-2, 3.493, 40504.201123, 3.432e10])\n",
    "loweng_integrand(testeleceng, testphoteng, 25.2339)"
   ]
  },
  {
   "cell_type": "code",
   "execution_count": null,
   "metadata": {
    "collapsed": true
   },
   "outputs": [],
   "source": []
  }
 ],
 "metadata": {
  "anaconda-cloud": {},
  "kernelspec": {
   "display_name": "Python 3",
   "language": "python",
   "name": "python3"
  },
  "language_info": {
   "codemirror_mode": {
    "name": "ipython",
    "version": 3
   },
   "file_extension": ".py",
   "mimetype": "text/x-python",
   "name": "python",
   "nbconvert_exporter": "python",
   "pygments_lexer": "ipython3",
   "version": "3.6.1"
  }
 },
 "nbformat": 4,
 "nbformat_minor": 2
}
