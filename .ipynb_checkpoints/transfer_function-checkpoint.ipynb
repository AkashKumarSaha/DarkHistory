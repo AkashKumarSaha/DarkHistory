{
 "cells": [
  {
   "cell_type": "code",
   "execution_count": 1,
   "metadata": {
    "collapsed": true
   },
   "outputs": [],
   "source": [
    "%load_ext autoreload"
   ]
  },
  {
   "cell_type": "code",
   "execution_count": 12,
   "metadata": {
    "collapsed": true
   },
   "outputs": [],
   "source": [
    "%autoreload\n",
    "%matplotlib inline\n",
    "\n",
    "import numpy as np\n",
    "import darkhistory.physics as phys\n",
    "import darkhistory.utilities as utils\n",
    "import darkhistory.spec.spectrum as spectrum\n",
    "import darkhistory.spec.spectra as spectra\n",
    "import darkhistory.spec.spectools as spectools\n",
    "import darkhistory.spec.transferfunction as tf\n",
    "import darkhistory.spec.transferfunclist as tfl\n",
    "import matplotlib\n",
    "import matplotlib.pyplot as plt\n",
    "import pickle\n",
    "\n",
    "matplotlib.rcParams['figure.figsize'] = [10,10]\n",
    "\n",
    "\n",
    "from scipy import integrate\n",
    "from astropy.io import fits\n",
    "from tqdm import tqdm_notebook as tqdm"
   ]
  },
  {
   "cell_type": "code",
   "execution_count": 3,
   "metadata": {
    "collapsed": true
   },
   "outputs": [],
   "source": [
    "transfer_func_table = pickle.load(open(\"/Users/hongwan/Dropbox (MIT)/Photon Deposition/transfer_func_table.raw\",\"rb\"))"
   ]
  },
  {
   "cell_type": "code",
   "execution_count": 4,
   "metadata": {
    "collapsed": true
   },
   "outputs": [],
   "source": [
    "eng = transfer_func_table.in_eng\n",
    "tf_rs_arr = transfer_func_table.rs"
   ]
  },
  {
   "cell_type": "code",
   "execution_count": 5,
   "metadata": {},
   "outputs": [
    {
     "name": "stdout",
     "output_type": "stream",
     "text": [
      "1060819228.18\n"
     ]
    }
   ],
   "source": [
    "#Initialize\n",
    "eng_ind = 299\n",
    "mwimp = eng[eng_ind]\n",
    "print(mwimp)\n",
    "\n",
    "rs_list = np.exp(np.arange(np.log(tf_rs_arr[0]), \n",
    "                           np.log(tf_rs_arr[20]), \n",
    "                           -transfer_func_table[0].dlnz)\n",
    "                )\n",
    "\n",
    "# Initial injection is 2 photons, to match up with what we have in file.\n",
    "photon_spec_init = spectools.rebin_N_arr(np.array([2]), \n",
    "                                        np.array([mwimp]), \n",
    "                                        eng)\n",
    "                                       \n",
    "photon_spec_init.rs = rs_list[0]"
   ]
  },
  {
   "cell_type": "code",
   "execution_count": 6,
   "metadata": {},
   "outputs": [
    {
     "name": "stderr",
     "output_type": "stream",
     "text": [
      "Widget Javascript not detected.  It may not be installed or enabled properly.\n"
     ]
    },
    {
     "data": {
      "application/vnd.jupyter.widget-view+json": {
       "model_id": "a4e9a139dc7c461f9509e73d5e424abf"
      }
     },
     "metadata": {},
     "output_type": "display_data"
    },
    {
     "name": "stdout",
     "output_type": "stream",
     "text": [
      "\n"
     ]
    }
   ],
   "source": [
    "transfer_func_table.at_val(rs_list)"
   ]
  },
  {
   "cell_type": "code",
   "execution_count": 13,
   "metadata": {},
   "outputs": [
    {
     "ename": "AttributeError",
     "evalue": "'TransferFuncList' object has no attribute 'dlnz'",
     "output_type": "error",
     "traceback": [
      "\u001b[0;31m---------------------------------------------------------------------------\u001b[0m",
      "\u001b[0;31mAttributeError\u001b[0m                            Traceback (most recent call last)",
      "\u001b[0;32m<ipython-input-13-656070197845>\u001b[0m in \u001b[0;36m<module>\u001b[0;34m()\u001b[0m\n\u001b[0;32m----> 1\u001b[0;31m \u001b[0mphoton_spectra\u001b[0m \u001b[0;34m=\u001b[0m \u001b[0mspectools\u001b[0m\u001b[0;34m.\u001b[0m\u001b[0mevolve\u001b[0m\u001b[0;34m(\u001b[0m\u001b[0mphoton_spec_init\u001b[0m\u001b[0;34m,\u001b[0m \u001b[0mtransfer_func_table\u001b[0m\u001b[0;34m,\u001b[0m \u001b[0msave_steps\u001b[0m\u001b[0;34m=\u001b[0m\u001b[0;32mTrue\u001b[0m\u001b[0;34m)\u001b[0m\u001b[0;34m\u001b[0m\u001b[0m\n\u001b[0m\u001b[1;32m      2\u001b[0m \u001b[0mfin_phot_spec\u001b[0m \u001b[0;34m=\u001b[0m \u001b[0mspectools\u001b[0m\u001b[0;34m.\u001b[0m\u001b[0mevolve\u001b[0m\u001b[0;34m(\u001b[0m\u001b[0mphoton_spec_init\u001b[0m\u001b[0;34m,\u001b[0m \u001b[0mtransfer_func_table\u001b[0m\u001b[0;34m,\u001b[0m \u001b[0mend_rs\u001b[0m\u001b[0;34m=\u001b[0m\u001b[0;36m19.37\u001b[0m\u001b[0;34m)\u001b[0m\u001b[0;34m\u001b[0m\u001b[0m\n",
      "\u001b[0;32m/Users/hongwan/GitHub/DarkHistory/darkhistory/spec/spectools.py\u001b[0m in \u001b[0;36mevolve\u001b[0;34m(spec, tflist, end_rs, save_steps)\u001b[0m\n\u001b[1;32m    257\u001b[0m         \u001b[0mappend_spec\u001b[0m \u001b[0;34m=\u001b[0m \u001b[0mout_specs\u001b[0m\u001b[0;34m.\u001b[0m\u001b[0mappend\u001b[0m\u001b[0;34m\u001b[0m\u001b[0m\n\u001b[1;32m    258\u001b[0m \u001b[0;34m\u001b[0m\u001b[0m\n\u001b[0;32m--> 259\u001b[0;31m         \u001b[0mtflist\u001b[0m\u001b[0;34m.\u001b[0m\u001b[0mtranspose\u001b[0m\u001b[0;34m(\u001b[0m\u001b[0;34m)\u001b[0m\u001b[0;34m\u001b[0m\u001b[0m\n\u001b[0m\u001b[1;32m    260\u001b[0m \u001b[0;34m\u001b[0m\u001b[0m\n\u001b[1;32m    261\u001b[0m         \u001b[0;32mfor\u001b[0m \u001b[0mi\u001b[0m \u001b[0;32min\u001b[0m \u001b[0mtqdm\u001b[0m\u001b[0;34m(\u001b[0m\u001b[0mnp\u001b[0m\u001b[0;34m.\u001b[0m\u001b[0marange\u001b[0m\u001b[0;34m(\u001b[0m\u001b[0mrs_last_ind\u001b[0m\u001b[0;34m)\u001b[0m\u001b[0;34m)\u001b[0m\u001b[0;34m:\u001b[0m\u001b[0;34m\u001b[0m\u001b[0m\n",
      "\u001b[0;32m/Users/hongwan/GitHub/DarkHistory/darkhistory/spec/transferfunclist.py\u001b[0m in \u001b[0;36mtranspose\u001b[0;34m(self)\u001b[0m\n\u001b[1;32m    109\u001b[0m                     \u001b[0;34m[\u001b[0m\u001b[0mtfunc\u001b[0m\u001b[0;34m.\u001b[0m\u001b[0mspec_arr\u001b[0m\u001b[0;34m[\u001b[0m\u001b[0mi\u001b[0m\u001b[0;34m]\u001b[0m \u001b[0;32mfor\u001b[0m \u001b[0mtfunc\u001b[0m \u001b[0;32min\u001b[0m \u001b[0mself\u001b[0m\u001b[0;34m.\u001b[0m\u001b[0mtflist\u001b[0m\u001b[0;34m]\u001b[0m\u001b[0;34m,\u001b[0m\u001b[0;34m\u001b[0m\u001b[0m\n\u001b[1;32m    110\u001b[0m                     \u001b[0mself\u001b[0m\u001b[0;34m.\u001b[0m\u001b[0min_eng\u001b[0m\u001b[0;34m,\u001b[0m \u001b[0mself\u001b[0m\u001b[0;34m.\u001b[0m\u001b[0mdlnz\u001b[0m\u001b[0;34m\u001b[0m\u001b[0m\n\u001b[0;32m--> 111\u001b[0;31m                 ) for i,rs in zip(np.arange(self.rs.size), self.rs)\n\u001b[0m\u001b[1;32m    112\u001b[0m             ]\n\u001b[1;32m    113\u001b[0m \u001b[0;34m\u001b[0m\u001b[0m\n",
      "\u001b[0;32m/Users/hongwan/GitHub/DarkHistory/darkhistory/spec/transferfunclist.py\u001b[0m in \u001b[0;36m<listcomp>\u001b[0;34m(.0)\u001b[0m\n\u001b[1;32m    109\u001b[0m                     \u001b[0;34m[\u001b[0m\u001b[0mtfunc\u001b[0m\u001b[0;34m.\u001b[0m\u001b[0mspec_arr\u001b[0m\u001b[0;34m[\u001b[0m\u001b[0mi\u001b[0m\u001b[0;34m]\u001b[0m \u001b[0;32mfor\u001b[0m \u001b[0mtfunc\u001b[0m \u001b[0;32min\u001b[0m \u001b[0mself\u001b[0m\u001b[0;34m.\u001b[0m\u001b[0mtflist\u001b[0m\u001b[0;34m]\u001b[0m\u001b[0;34m,\u001b[0m\u001b[0;34m\u001b[0m\u001b[0m\n\u001b[1;32m    110\u001b[0m                     \u001b[0mself\u001b[0m\u001b[0;34m.\u001b[0m\u001b[0min_eng\u001b[0m\u001b[0;34m,\u001b[0m \u001b[0mself\u001b[0m\u001b[0;34m.\u001b[0m\u001b[0mdlnz\u001b[0m\u001b[0;34m\u001b[0m\u001b[0m\n\u001b[0;32m--> 111\u001b[0;31m                 ) for i,rs in zip(np.arange(self.rs.size), self.rs)\n\u001b[0m\u001b[1;32m    112\u001b[0m             ]\n\u001b[1;32m    113\u001b[0m \u001b[0;34m\u001b[0m\u001b[0m\n",
      "\u001b[0;31mAttributeError\u001b[0m: 'TransferFuncList' object has no attribute 'dlnz'"
     ]
    }
   ],
   "source": [
    "photon_spectra = spectools.evolve(photon_spec_init, transfer_func_table, save_steps=True)\n",
    "fin_phot_spec = spectools.evolve(photon_spec_init, transfer_func_table, end_rs=19.37)"
   ]
  },
  {
   "cell_type": "code",
   "execution_count": null,
   "metadata": {
    "collapsed": true
   },
   "outputs": [],
   "source": [
    "file_name = {99: \"/Users/hongwan/Dropbox (MIT)/Photon Deposition/tf_z_3.100E+01_nstep_2049_logE_5.328E+00_xe_1.000E-04.fits\",\n",
    "            199: \"/Users/hongwan/Dropbox (MIT)/Photon Deposition/tf_z_3.100E+01_nstep_2049_logE_7.183E+00_xe_1.000E-04.fits\",\n",
    "            298: \"/Users/hongwan/Dropbox (MIT)/Photon Deposition/tf_z_3.100E+01_nstep_2049_logE_9.020E+00_xe_1.000E-04.fits\",\n",
    "            299: \"/Users/hongwan/Dropbox (MIT)/Photon Deposition/tf_z_3.100E+01_nstep_2049_logE_9.038E+00_xe_1.000E-04.fits\", \n",
    "            399: \"/Users/hongwan/Dropbox (MIT)/Photon Deposition/tf_z_3.100E+01_nstep_2049_logE_1.089E+01_xe_1.000E-04.fits\",\n",
    "            499: \"/Users/hongwan/Dropbox (MIT)/Photon Deposition/tf_z_3.100E+01_nstep_2049_logE_1.275E+01_xe_1.000E-04.fits\",\n",
    "            2993: \"/Users/hongwan/Dropbox (MIT)/Photon Deposition/tf_z_3.100E+01_nstep_18_logE_9.038E+00_xe_1.000E-04.fits\"}\n",
    "\n",
    "file = fits.open(file_name[eng_ind])\n",
    "\n",
    "file_eng = file[1].data['energy'][0,:]\n",
    "file_rs = file[1].data['redshift'][0,:]\n",
    "file_photonspectrum = file[1].data['photonspectrum'][0,:,:]"
   ]
  },
  {
   "cell_type": "code",
   "execution_count": null,
   "metadata": {
    "collapsed": true
   },
   "outputs": [],
   "source": [
    "# file_spectra = spectrum.Spectra([spectrum.Spectrum(file_eng, photspec, rs) \n",
    "#                    for photspec,rs in zip(file_photonspectrum, file_rs)], \n",
    "#                 rebin_eng = eng)\n",
    "\n",
    "file_spectra = spectra.Spectra([spectrum.Spectrum(file_eng, photspec, rs) \n",
    "                   for photspec,rs in zip(file_photonspectrum, file_rs)])\n",
    "\n",
    "file_spectra_orig = spectra.Spectra([spectrum.Spectrum(file_eng, photspec, rs) \n",
    "                   for photspec,rs in zip(file_photonspectrum, file_rs)])"
   ]
  },
  {
   "cell_type": "code",
   "execution_count": null,
   "metadata": {},
   "outputs": [],
   "source": [
    "i=408\n",
    "j=2*i\n",
    "print(photon_spectra[i].rs)\n",
    "print(file_spectra[j].rs)\n",
    "print(fin_phot_spec.rs)\n",
    "\n",
    "spec_to_plot = photon_spectra[i]\n",
    "spec_to_plot.rebin(file_spectra.eng)\n",
    "fin_phot_spec.rebin(file_spectra.eng)\n",
    "\n",
    "ax = plt.subplot(1,1,1)\n",
    "plt.rc('text', usetex=True)\n",
    "plt.plot(file_spectra.eng, file_spectra[j].dNdE, linewidth=4)\n",
    "plt.plot(spec_to_plot.eng, spec_to_plot.dNdE, linewidth=2)\n",
    "plt.plot(fin_phot_spec.eng, fin_phot_spec.dNdE, linewidth=2)\n",
    "# plt.plot(photon_spectra.eng, photon_spectra[i].dNdE, linewidth=2)\n",
    "# plt.plot(file_spectra[j].eng, file_spectra[j].dNdE)\n",
    "\n",
    "# plt.plot(photon_spectra.eng, photon_spectra[i].totN('bin',np.arange(501)))\n",
    "# plt.plot(file_spectra[j].eng, file_spectra[j].totN('bin',np.arange(501)))\n",
    "ax.set_xscale('log')\n",
    "ax.set_yscale('log')\n",
    "\n",
    "plt.tick_params(axis='both', which='major', labelsize=20)\n",
    "\n",
    "plt.xlabel('Photon Energy [eV]',fontsize=24)\n",
    "plt.ylabel('dN/dE [eV$^{-1}$]',fontsize=24)\n",
    "plt.axis([1e-4, 1e13, 1e-22, 1e3])\n",
    "# b = file_spectra.plot(2)\n",
    "# axb = b.add_subplot(1,1,1)\n",
    "# axb.set_xscale('log')\n",
    "# axb.set_yscale('log')\n"
   ]
  },
  {
   "cell_type": "code",
   "execution_count": null,
   "metadata": {},
   "outputs": [],
   "source": [
    "np.set_printoptions(threshold=np.nan)\n",
    "print(eng[eng_ind])\n",
    "utils.compare_arr([photon_spectra[i].eng,\n",
    "                   photon_spectra[i].dNdE,\n",
    "#                    file_spectra[j].eng,\n",
    "                   file_spectra[j].dNdE,\n",
    "                   file_spectra[j+1].dNdE\n",
    "                   ])"
   ]
  },
  {
   "cell_type": "code",
   "execution_count": null,
   "metadata": {},
   "outputs": [],
   "source": [
    "bin_width = spectools.get_log_bin_width(file_spectra_orig[1].eng)*file_spectra_orig[1].eng\n",
    "\n",
    "# utils.compare_arr([tf_at_rs_list[eng_ind].eng,tf_at_rs_list[eng_ind][0].dNdE, \n",
    "#                    file_spectra_orig[1].eng, file_spectra_orig[1].dNdE*bin_width])\n",
    "\n",
    "utils.compare_arr([file_spectra_orig[1].eng, file_spectra_orig[1].dNdE*bin_width, \n",
    "                   file_spectra_orig[2].dNdE*bin_width])\n"
   ]
  },
  {
   "cell_type": "code",
   "execution_count": null,
   "metadata": {},
   "outputs": [],
   "source": [
    "utils.compare_arr([file_eng,file_photonspectrum[1],file_photonspectrum[2],\n",
    "                   file_photonspectrum[3]])"
   ]
  },
  {
   "cell_type": "code",
   "execution_count": null,
   "metadata": {},
   "outputs": [],
   "source": [
    "a_fig=tf_at_rs_list[eng_ind].plot((2,400),step=100)\n",
    "a = a_fig.get_axes()[0]\n",
    "a.set_xscale('log')\n",
    "a.set_yscale('log')\n",
    "plt.axis([1e3, 2e11, 1e-20, 1e3])"
   ]
  },
  {
   "cell_type": "code",
   "execution_count": null,
   "metadata": {
    "collapsed": true
   },
   "outputs": [],
   "source": [
    "np.set_printoptions(threshold=np.nan)\n",
    "print(eng[eng_ind])\n",
    "utils.compare_arr([photon_spectra[i].eng,\n",
    "                   photon_spectra[i].totN('eng', spectools.get_bin_bound(photon_spectra[i].eng)),\n",
    "                   file_spectra[j].totN('eng', spectools.get_bin_bound(photon_spectra[i].eng)) \n",
    "                   ])"
   ]
  },
  {
   "cell_type": "code",
   "execution_count": null,
   "metadata": {
    "collapsed": true
   },
   "outputs": [],
   "source": [
    "tf_rs_31 = spectra.Spectra([transfer_func[0] for transfer_func in tf_at_rs_list])"
   ]
  },
  {
   "cell_type": "code",
   "execution_count": null,
   "metadata": {
    "collapsed": true
   },
   "outputs": [],
   "source": [
    "a_fig = tf_rs_31.plot((106, 399),step=50)\n",
    "a = a_fig.get_axes()[0]\n",
    "a.set_xscale('log')\n",
    "a.set_yscale('log')\n",
    "plt.axis([1e3, 2e11, 1e-20, 1e3])"
   ]
  },
  {
   "cell_type": "code",
   "execution_count": null,
   "metadata": {
    "collapsed": true
   },
   "outputs": [],
   "source": [
    "a = np.array([1,2,3,4,5])\n",
    "a[np.where(a < 5)][-1]"
   ]
  },
  {
   "cell_type": "code",
   "execution_count": null,
   "metadata": {
    "collapsed": true
   },
   "outputs": [],
   "source": []
  }
 ],
 "metadata": {
  "anaconda-cloud": {},
  "kernelspec": {
   "display_name": "Python 3",
   "language": "python",
   "name": "python3"
  },
  "language_info": {
   "codemirror_mode": {
    "name": "ipython",
    "version": 3
   },
   "file_extension": ".py",
   "mimetype": "text/x-python",
   "name": "python",
   "nbconvert_exporter": "python",
   "pygments_lexer": "ipython3",
   "version": "3.6.1"
  }
 },
 "nbformat": 4,
 "nbformat_minor": 1
}
