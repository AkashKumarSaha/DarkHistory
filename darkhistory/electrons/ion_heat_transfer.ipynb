{
 "cells": [
  {
   "cell_type": "code",
   "execution_count": 1,
   "metadata": {
    "collapsed": true
   },
   "outputs": [],
   "source": [
    "%load_ext autoreload"
   ]
  },
  {
   "cell_type": "code",
   "execution_count": 4,
   "metadata": {},
   "outputs": [
    {
     "ename": "ModuleNotFoundError",
     "evalue": "No module named 'physics'",
     "output_type": "error",
     "traceback": [
      "\u001b[0;31m---------------------------------------------------------------------------\u001b[0m",
      "\u001b[0;31mModuleNotFoundError\u001b[0m                       Traceback (most recent call last)",
      "\u001b[0;32m<ipython-input-4-235b06b0ea21>\u001b[0m in \u001b[0;36m<module>\u001b[0;34m()\u001b[0m\n\u001b[1;32m     15\u001b[0m \u001b[0;32mimport\u001b[0m \u001b[0msys\u001b[0m\u001b[0;34m\u001b[0m\u001b[0m\n\u001b[1;32m     16\u001b[0m \u001b[0msys\u001b[0m\u001b[0;34m.\u001b[0m\u001b[0mpath\u001b[0m\u001b[0;34m.\u001b[0m\u001b[0mappend\u001b[0m\u001b[0;34m(\u001b[0m\u001b[0;34m\"..\"\u001b[0m\u001b[0;34m)\u001b[0m\u001b[0;34m\u001b[0m\u001b[0m\n\u001b[0;32m---> 17\u001b[0;31m \u001b[0;32mimport\u001b[0m \u001b[0mphysics\u001b[0m\u001b[0;34m\u001b[0m\u001b[0m\n\u001b[0m\u001b[1;32m     18\u001b[0m \u001b[0msys\u001b[0m\u001b[0;34m.\u001b[0m\u001b[0mpath\u001b[0m\u001b[0;34m.\u001b[0m\u001b[0mappend\u001b[0m\u001b[0;34m(\u001b[0m\u001b[0;34m\"../..\"\u001b[0m\u001b[0;34m)\u001b[0m\u001b[0;34m\u001b[0m\u001b[0m\n\u001b[1;32m     19\u001b[0m \u001b[0;32mfrom\u001b[0m \u001b[0mspec\u001b[0m\u001b[0;34m.\u001b[0m\u001b[0mspectrum\u001b[0m \u001b[0;32mimport\u001b[0m \u001b[0;34m*\u001b[0m\u001b[0;34m\u001b[0m\u001b[0m\n",
      "\u001b[0;31mModuleNotFoundError\u001b[0m: No module named 'physics'"
     ]
    }
   ],
   "source": [
    "%autoreload\n",
    "\n",
    "import numpy as np\n",
    "from numpy.linalg import multi_dot\n",
    "import matplotlib\n",
    "import matplotlib.pyplot as plt\n",
    "from astropy.io import fits\n",
    "import scipy\n",
    "from scipy.interpolate import interp1d\n",
    "import math as m\n",
    "import scipy.constants as p\n",
    "import pandas as pd\n",
    "import matplotlib.pyplot as plt\n",
    "import timeit\n",
    "import sys\n",
    "sys.path.append(\"..\")\n",
    "import physics\n",
    "sys.path.append(\"../..\")\n",
    "from spec.spectrum import *\n",
    "import spec.spectools as spectools\n",
    "#%run 'Electrons_v1.ipynb' might need things form this later\n",
    "import xsecs\n",
    "np.set_printoptions(precision=20)"
   ]
  },
  {
   "cell_type": "code",
   "execution_count": null,
   "metadata": {
    "collapsed": true
   },
   "outputs": [],
   "source": [
    "class Rates(object):\n",
    "    '''\n",
    "    Allows for easier storage of all xsecs/rates (probabilities)\n",
    "    Made specifically for ion and heating ONLY.\n",
    "    \n",
    "    Attributes\n",
    "    -----------\n",
    "    E_spec : Spectrum class\n",
    "        Electron energy and dNdE spectrum\n",
    "    n : int\n",
    "        The bin of interest in the spectrum\n",
    "    den : ndarray\n",
    "        density of [H, He, He+] in cm^-3\n",
    "    rates : ndarray\n",
    "        dN/dt; Filled with various rates in s^-1\n",
    "    dNdW : ndarray\n",
    "        ()()()\n",
    "    '''\n",
    "    \n",
    "    def __init__(self, E_spec, n, den=[1,1,1], dNdW=np.zeros((2,1)), rates=np.zeros(4)):\n",
    "        '''Return a Rate object with electron of energy *E_spec.eng[n]*\n",
    "        in a universe with densities *den*; initializes *rate* vector'''\n",
    "        self.energy = E_spec.eng[n]\n",
    "        self.n = n\n",
    "        self.dNdE = E_spec.dNdE[n]\n",
    "        self.den = den\n",
    "        self.rates = rates\n",
    "        self.v = np.sqrt(2*np.array([E_spec.eng[n]])/physics.me)*physics.c \n",
    "        self.mult = self.den*self.v\n",
    "        self.dNdW = np.zeros((2, self.n -1))\n",
    "    \n",
    "    def ion_dNdW_calc_H(self): #uses new integration method\n",
    "        '''Fills *self.dNdW[0,:]* with the discretized singly differential xsec in rate form\n",
    "        '''\n",
    "        eng_temp = E_spec.eng[0:self.n-1]\n",
    "        ion_s_rates = xsecs.ionize_s_cs_H(self.energy, eng_temp) #possible problem with np type\n",
    "        self.dNdW[0] = ion_s_rates *self.mult[0] #dNdE?\n",
    "        return self.dNdW\n",
    "    \n",
    "    def ion_rate_calc(self):\n",
    "        '''Fills *self.rate[1:3]* vector by calculating total xsec and then converting to rate\n",
    "        '''\n",
    "        ion_rates = xsecs.ionize_cs(self.energy*np.ones(3),np.array([1,2,3]))*self.mult\n",
    "        self.rates[1:4] = ion_rates\n",
    "        return self.rates\n",
    "    \n",
    "    def heat_rate_calc(self, x_e, rs):\n",
    "        '''Fills *self.rate[0]* vector with fraction going to heating\n",
    "            x_e and rs...\n",
    "        '''\n",
    "        dE = xsecs.heating_dE(self.energy, x_e, rs, nH=physics.nH)\n",
    "        delta_dNdE = np.zeros(len(E_spec.dNdE))\n",
    "        np.put(delta_dNdE, self.n, self.dNdE)\n",
    "        delta = Spectrum(E_spec.eng, delta_dNdE, rs)\n",
    "        shift_delta_eng = E_spec.eng+dE\n",
    "        delta.shift_eng(shift_delta_eng)\n",
    "        delta.rebin(E_spec.eng)\n",
    "        \n",
    "        heating_frac = delta.dNdE[self.n]/self.dNdE\n",
    "        self.rates[0] = 1-heating_frac\n",
    "        return(self.rates)\n",
    "    def tot_sum(self):\n",
    "        '''Sums all elements of rate\n",
    "        '''\n",
    "        tot_sum = sum(self.rates)\n",
    "        return tot_sum\n",
    "    def con_prob(self):\n",
    "        '''Finds cumulative probability of each process\n",
    "        '''\n",
    "        con_prob = self.rates/self.tot_sum()\n",
    "        return con_prob\n",
    "    def E_loss(self):\n",
    "        '''loss fraction\n",
    "        '''\n",
    "        E_loss_ion=13.6*self.rates[1]\n",
    "        E_loss_heat=(E_spec.eng[self.n]-E_spec.eng[self.n-1])*self.rates[0]\n",
    "        E_frac = E_loss_ion/E_loss_heat\n",
    "        return(E_frac)\n",
    "    def ion_int_calc(self):\n",
    "        '''gives total ionization rate\n",
    "        '''\n",
    "        bin_width = get_log_bin_width(E_spec.eng[0:self.n])\n",
    "        integ = 0\n",
    "        for i in range(self.n):\n",
    "            integ += self.dNdW[0,i-1]*bin_width[i]*E_spec.eng[i]\n",
    "        return integ\n",
    "        \n",
    "        "
   ]
  },
  {
   "cell_type": "code",
   "execution_count": null,
   "metadata": {},
   "outputs": [],
   "source": [
    "eng1 = np.logspace(0.,4.,num = 500)\n",
    "dNdE1 = np.logspace(0.,5.,num = 500)\n",
    "rs=1000\n",
    "E_spec = Spectrum(eng1,dNdE1,rs)\n",
    "photon_spec = Spectrum(E_spec.eng,np.zeros(len(E_spec.eng)),rs)\n",
    "TM=np.zeros([len(photon_spec.eng)+2,len(E_spec.eng)]) #possibly make pandas\n",
    "Transfer_Matrix=pd.DataFrame(TM) #or np.zeros\n",
    "#print(Transfer_Matrix)\n",
    "print(np.array([E_spec.eng[330]]))\n",
    "print(xsecs.ionize_cs(np.array([E_spec.eng[100]]),np.ones(1)))"
   ]
  },
  {
   "cell_type": "code",
   "execution_count": null,
   "metadata": {
    "collapsed": true
   },
   "outputs": [],
   "source": [
    "a = Rates(E_spec, 300)\n",
    "# print(a.dNdW)\n",
    "#a.ion_dNdW_calc_H()\n",
    "#print(a.dNdW[0])\n",
    "#print(a.ion_int_calc())\n",
    "#print(a.energy)\n",
    "#print(a.ion_rate_calc())\n",
    "# print(a.heat_rate_calc(0.0001, 300))\n",
    "# print(a.tot_sum())\n",
    "# print(a.con_prob())\n",
    "# print(a.rates)\n"
   ]
  },
  {
   "cell_type": "code",
   "execution_count": null,
   "metadata": {},
   "outputs": [],
   "source": [
    "x_test = E_spec.eng[0:299]\n",
    "y_test_1 = a.dNdW[0]\n",
    "y_test_2 = xsecs.ionize_s_cs(E_spec.eng[300]*np.ones(299),x_test,np.ones(299))*a.mult[0]\n",
    "plt.plot(x_test, y_test_1)\n",
    "plt.plot(x_test, y_test_2)\n",
    "plt.show()"
   ]
  },
  {
   "cell_type": "code",
   "execution_count": null,
   "metadata": {
    "collapsed": true
   },
   "outputs": [],
   "source": [
    "def electron_low_e(E_spec, rs, ion_frac=[0,0,0], den=[1,1,1], dt=1, photon_abscissa=E_spec.eng ,all_outputs=False):\n",
    "    '''\n",
    "    Finds transfer matrix for a given initial electron spectrum\n",
    "    Outputs: photon spectrum, transfer matrix, E_loss to each process\n",
    "    '''\n",
    "    \n",
    "    N = len(E_spec.eng)\n",
    "    \n",
    "    #initialize rate-loss array such that initially, all rates go to heating\n",
    "    R = np.zeros((2,N))\n",
    "    R[1,0] = 1\n",
    "    R[1,1] = 1\n",
    "    R[1,2] = 1\n",
    "    \n",
    "    \n",
    "    #Initialize photon spectrum (change from current pre-set when important)\n",
    "        #photon_spec = Spectrum(photon_abscissa,np.zeros(len(E_spec.eng)),rs)\n",
    "    \n",
    "    \n",
    "    #calculate non-ionized atomic densities\n",
    "    den[0]=(physics.nH*(1-ion_frac[0]))*(rs)**3\n",
    "    den[1]=(physics.nHe*(1-ion_frac[1])*(1-ion_frac[2]))*(rs)**3\n",
    "    den[2]=(physics.nHe*(1-ion_frac[1])*(ion_frac[2]))*(rs)**3 #unsure about how ionfrac works for helium\n",
    "    \n",
    "    \n",
    "    \n",
    "    for n in range(3,N):\n",
    "        e_rates = Rates(E_spec, n, den)\n",
    "        e_rates.ion_rate_calc()\n",
    "        e_rates.heat_rate_calc(ion_frac[1], rs)\n",
    "        e_rates.ion_dNdW_calc_H()\n",
    "        \n",
    "        \n",
    "        discrete_dN_dEdt_i = e_rates.dNdW[0]\n",
    "        \n",
    "        h_init=np.zeros(n-1)\n",
    "        h_init[n-2] = e_rates.rates[0]\n",
    "        discrete_dN_dEdt_h = h_init\n",
    "        \n",
    "        delta_E_spec = np.ediff1d(E_spec.eng)[0:(n-1)] #bin widths\n",
    " \n",
    "        \n",
    "        R_in = ((13.6*e_rates.rates[1]) + np.sum(E_spec.eng[0:n-1]*discrete_dN_dEdt_i*R[0,0:n-1]*delta_E_spec) \\\n",
    "            + np.sum(E_spec.eng[0:n-1]*discrete_dN_dEdt_h*R[0,0:n-1]*delta_E_spec))/e_rates.energy\n",
    "        \n",
    "        \n",
    "        R_hn = ((e_rates.energy*e_rates.rates[0]-np.sum(E_spec.eng[0:n-1]*discrete_dN_dEdt_h*delta_E_spec)) \\\n",
    "            + np.sum(E_spec.eng[0:n-1]*discrete_dN_dEdt_i*R[1,0:n-1]*delta_E_spec) \\\n",
    "            + np.sum(E_spec.eng[0:n-1]*discrete_dN_dEdt_h*R[1,0:n-1]*delta_E_spec))/e_rates.energy\n",
    "\n",
    "        R[0,n] = R_in/(R_in+R_hn)\n",
    "        R[1,n] = R_hn/(R_in+R_hn)\n",
    "        \n",
    "        \n",
    "    return R\n",
    "    "
   ]
  },
  {
   "cell_type": "code",
   "execution_count": null,
   "metadata": {
    "collapsed": true
   },
   "outputs": [],
   "source": [
    "#%%prun\n",
    "results_ion_frac_0 = electron_low_e(E_spec,100)"
   ]
  },
  {
   "cell_type": "code",
   "execution_count": null,
   "metadata": {},
   "outputs": [],
   "source": [
    "np.set_printoptions(threshold = np.nan)\n",
    "#print(np.transpose([E_spec.eng, results_ion_frac_0[0,:],results_ion_frac_0[1,:]]))\n",
    "plt.plot(E_spec.eng, results_ion_frac_0[0,:], 'r')\n",
    "plt.plot(E_spec.eng, results_ion_frac_0[1,:], 'b')\n",
    "plt.xscale('log')\n",
    "plt.show()"
   ]
  },
  {
   "cell_type": "code",
   "execution_count": null,
   "metadata": {
    "collapsed": true
   },
   "outputs": [],
   "source": []
  }
 ],
 "metadata": {
  "kernelspec": {
   "display_name": "Python 3",
   "language": "python",
   "name": "python3"
  },
  "language_info": {
   "codemirror_mode": {
    "name": "ipython",
    "version": 3
   },
   "file_extension": ".py",
   "mimetype": "text/x-python",
   "name": "python",
   "nbconvert_exporter": "python",
   "pygments_lexer": "ipython3",
   "version": "3.6.1"
  }
 },
 "nbformat": 4,
 "nbformat_minor": 2
}
