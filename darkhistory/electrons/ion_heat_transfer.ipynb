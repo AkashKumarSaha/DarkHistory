{
 "cells": [
  {
   "cell_type": "code",
   "execution_count": 2,
   "metadata": {
    "collapsed": true
   },
   "outputs": [],
   "source": [
    "%load_ext autoreload"
   ]
  },
  {
   "cell_type": "code",
   "execution_count": 19,
   "metadata": {
    "collapsed": true
   },
   "outputs": [],
   "source": [
    "%autoreload\n",
    "\n",
    "import numpy as np\n",
    "from astropy.io import fits\n",
    "from scipy.interpolate import interp1d\n",
    "import math as m\n",
    "import scipy.constants as p\n",
    "import pandas as pd\n",
    "import matplotlib.pyplot as plt\n",
    "import timeit\n",
    "import sys\n",
    "sys.path.append(\"..\")\n",
    "import physics\n",
    "sys.path.append(\"../..\")\n",
    "from spec.spectrum import *\n",
    "import spec.spectools as spectools\n",
    "#%run 'Electrons_v1.ipynb' might need things form this later\n",
    "import xsecs\n",
    "np.set_printoptions(precision=20)"
   ]
  },
  {
   "cell_type": "code",
   "execution_count": 21,
   "metadata": {},
   "outputs": [],
   "source": [
    "class Rates(object):\n",
    "    '''\n",
    "    Allows for easier storage of all xsecs/rates (probabilities)\n",
    "    Made specifically for ion and heating ONLY.\n",
    "    \n",
    "    Attributes\n",
    "    -----------\n",
    "    E_spec : Spectrum class\n",
    "        Electron energy and dNdE spectrum\n",
    "    n : int\n",
    "        The bin of interest in the spectrum\n",
    "    den : ndarray\n",
    "        density of [H, He, He+] in cm^-3\n",
    "    rates : dN/dt; Filled with various rates in s^-1\n",
    "    '''\n",
    "    \n",
    "    def __init__(self, E_spec, n, den=[1,1,1], rates=np.zeros(4), dNdW=np.zeros((2,1))):\n",
    "        '''Return a Rate object with electron of energy *E_spec.eng[n]*\n",
    "        in a universe with densities *den*; initializes *rate* vector'''\n",
    "        self.energy = E_spec.eng[n]\n",
    "        self.n = n\n",
    "        self.dNdE = E_spec.dNdE[n]\n",
    "        self.den = den\n",
    "        self.rates = rates\n",
    "        self.v = np.sqrt(2*np.array([E_spec.eng[n]])/physics.me)*physics.c \n",
    "        self.mult = self.den*self.v\n",
    "        self.dNdW = np.resize(dNdW,(2, self.n))\n",
    "    \n",
    "    def ion_dNdW_calc(self):\n",
    "        '''Fills *self.dNdW[0,:] with the discretized singly differential xsec in rate form\n",
    "        '''\n",
    "        def H_ion_dNdE_at_W(test_energy):\n",
    "            return xsecs.ionize_s_cs(self.energy*np.ones(self.n),test_energy)\n",
    "        ion_s_rates = spectools.discretize(H_ion_dNdE_at_W, E_spec.eng[0:self.n-1])*self.mult[1]\n",
    "        self.dNdW[0] = ion_s_rates\n",
    "        return self.dNdW\n",
    "    \n",
    "    def ion_rate_calc(self):\n",
    "        '''Fills *self.rate[1:3]* vector by calculating xsec and then converting to rate\n",
    "        '''\n",
    "        ion_rates = xsecs.ionize_cs(self.energy*np.ones(3),np.array([1,2,3]))*self.mult\n",
    "        self.rates = np.append([0], ion_rates)\n",
    "        return self.rates\n",
    "    \n",
    "    def heat_rate_calc(self, x_e, rs):\n",
    "        '''Fills *self.rate[0]* vector with fraction going to heating\n",
    "            x_e and rs...\n",
    "        '''\n",
    "        dE = xsecs.heating_dE(self.energy, x_e, rs, nH=physics.nH)\n",
    "        delta_dNdE = np.zeros(len(E_spec.dNdE))\n",
    "        np.put(delta_dNdE, self.n, self.dNdE)\n",
    "        delta = Spectrum(E_spec.eng, delta_dNdE, rs)\n",
    "        shift_delta_eng = E_spec.eng+dE\n",
    "        delta.shift_eng(shift_delta_eng)\n",
    "        delta.rebin(E_spec.eng)\n",
    "        \n",
    "        heating_frac = delta.dNdE[self.n]/self.dNdE\n",
    "        self.rates[0] = 1-heating_frac\n",
    "        return(self.rates)\n",
    "    def tot_sum(self):\n",
    "        '''Sums all elements of rate\n",
    "        '''\n",
    "        tot_sum = sum(self.rates)\n",
    "        return tot_sum\n",
    "    def con_prob(self):\n",
    "        '''Finds cumulative probability of each process\n",
    "        '''\n",
    "        con_prob = self.rates/self.tot_sum()\n",
    "        return con_prob\n",
    "    def E_loss(self):\n",
    "        '''loss fraction\n",
    "        '''\n",
    "        E_loss_ion=13.6*self.rates[1]\n",
    "        E_loss_heat=(E_spec.eng[self.n]-E_spec.eng[self.n-1])*self.rates[0]\n",
    "        E_frac = E_loss_ion/E_loss_heat\n",
    "        return(E_frac)"
   ]
  },
  {
   "cell_type": "code",
   "execution_count": 7,
   "metadata": {},
   "outputs": [
    {
     "name": "stdout",
     "output_type": "stream",
     "text": [
      "[ 441.86599563859414274702]\n",
      "[ 0.]\n"
     ]
    }
   ],
   "source": [
    "eng1 = np.logspace(0.,4.,num = 500)\n",
    "dNdE1 = np.logspace(0.,5.,num = 500)\n",
    "rs=1000\n",
    "E_spec = Spectrum(eng1,dNdE1,rs)\n",
    "photon_spec = Spectrum(E_spec.eng,np.zeros(len(E_spec.eng)),rs)\n",
    "TM=np.zeros([len(photon_spec.eng)+2,len(E_spec.eng)]) #possibly make pandas\n",
    "Transfer_Matrix=pd.DataFrame(TM) #or np.zeros\n",
    "#print(Transfer_Matrix)\n",
    "print(np.array([E_spec.eng[330]]))\n",
    "print(xsecs.ionize_cs(np.array([E_spec.eng[100]]),np.ones(1)))"
   ]
  },
  {
   "cell_type": "code",
   "execution_count": 22,
   "metadata": {},
   "outputs": [
    {
     "name": "stdout",
     "output_type": "stream",
     "text": [
      "[[ 0.  0.  0.  0.  0.  0.  0.  0.  0.  0.  0.  0.  0.  0.  0.  0.  0.  0.\n",
      "   0.  0.  0.  0.  0.  0.  0.  0.  0.  0.  0.  0.  0.  0.  0.  0.  0.  0.\n",
      "   0.  0.  0.  0.  0.  0.  0.  0.  0.  0.  0.  0.  0.  0.  0.  0.  0.  0.\n",
      "   0.  0.  0.  0.  0.  0.  0.  0.  0.  0.  0.  0.  0.  0.  0.  0.  0.  0.\n",
      "   0.  0.  0.  0.  0.  0.  0.  0.  0.  0.  0.  0.  0.  0.  0.  0.  0.  0.\n",
      "   0.  0.  0.  0.  0.  0.  0.  0.  0.  0.  0.  0.  0.  0.  0.  0.  0.  0.\n",
      "   0.  0.  0.  0.  0.  0.  0.  0.  0.  0.  0.  0.  0.  0.  0.  0.  0.  0.\n",
      "   0.  0.  0.  0.  0.  0.  0.  0.  0.  0.  0.  0.  0.  0.  0.  0.  0.  0.\n",
      "   0.  0.  0.  0.  0.  0.  0.  0.  0.  0.  0.  0.  0.  0.  0.  0.  0.  0.\n",
      "   0.  0.  0.  0.  0.  0.  0.  0.  0.  0.  0.  0.  0.  0.  0.  0.  0.  0.\n",
      "   0.  0.  0.  0.  0.  0.  0.  0.  0.  0.  0.  0.  0.  0.  0.  0.  0.  0.\n",
      "   0.  0.  0.  0.  0.  0.  0.  0.  0.  0.  0.  0.  0.  0.  0.  0.  0.  0.\n",
      "   0.  0.  0.  0.  0.  0.  0.  0.  0.  0.  0.  0.  0.  0.  0.  0.  0.  0.\n",
      "   0.  0.  0.  0.  0.  0.  0.  0.  0.  0.  0.  0.  0.  0.  0.  0.  0.  0.\n",
      "   0.  0.  0.  0.  0.  0.  0.  0.  0.  0.  0.  0.  0.  0.  0.  0.  0.  0.\n",
      "   0.  0.  0.  0.  0.  0.  0.  0.  0.  0.  0.  0.  0.  0.  0.  0.  0.  0.\n",
      "   0.  0.  0.  0.  0.  0.  0.  0.  0.  0.  0.  0.  0.  0.  0.  0.  0.  0.\n",
      "   0.  0.  0.  0.  0.  0.  0.  0.  0.  0.  0.  0.  0.  0.  0.  0.  0.  0.\n",
      "   0.  0.  0.  0.  0.  0.  0.  0.  0.  0.  0.  0.  0.  0.  0.  0.  0.  0.\n",
      "   0.  0.  0.  0.  0.  0.  0.  0.  0.  0.  0.  0.  0.  0.  0.  0.  0.  0.\n",
      "   0.  0.  0.  0.  0.  0.  0.  0.  0.  0.  0.  0.  0.  0.  0.  0.  0.  0.\n",
      "   0.  0.  0.  0.  0.  0.  0.  0.  0.  0.  0.  0.  0.  0.  0.  0.  0.  0.\n",
      "   0.  0.  0.  0.  0.  0.  0.  0.  0.  0.  0.  0.  0.  0.  0.  0.  0.  0.\n",
      "   0.  0.  0.  0.  0.  0.  0.  0.  0.  0.  0.  0.  0.  0.  0.  0.]\n",
      " [ 0.  0.  0.  0.  0.  0.  0.  0.  0.  0.  0.  0.  0.  0.  0.  0.  0.  0.\n",
      "   0.  0.  0.  0.  0.  0.  0.  0.  0.  0.  0.  0.  0.  0.  0.  0.  0.  0.\n",
      "   0.  0.  0.  0.  0.  0.  0.  0.  0.  0.  0.  0.  0.  0.  0.  0.  0.  0.\n",
      "   0.  0.  0.  0.  0.  0.  0.  0.  0.  0.  0.  0.  0.  0.  0.  0.  0.  0.\n",
      "   0.  0.  0.  0.  0.  0.  0.  0.  0.  0.  0.  0.  0.  0.  0.  0.  0.  0.\n",
      "   0.  0.  0.  0.  0.  0.  0.  0.  0.  0.  0.  0.  0.  0.  0.  0.  0.  0.\n",
      "   0.  0.  0.  0.  0.  0.  0.  0.  0.  0.  0.  0.  0.  0.  0.  0.  0.  0.\n",
      "   0.  0.  0.  0.  0.  0.  0.  0.  0.  0.  0.  0.  0.  0.  0.  0.  0.  0.\n",
      "   0.  0.  0.  0.  0.  0.  0.  0.  0.  0.  0.  0.  0.  0.  0.  0.  0.  0.\n",
      "   0.  0.  0.  0.  0.  0.  0.  0.  0.  0.  0.  0.  0.  0.  0.  0.  0.  0.\n",
      "   0.  0.  0.  0.  0.  0.  0.  0.  0.  0.  0.  0.  0.  0.  0.  0.  0.  0.\n",
      "   0.  0.  0.  0.  0.  0.  0.  0.  0.  0.  0.  0.  0.  0.  0.  0.  0.  0.\n",
      "   0.  0.  0.  0.  0.  0.  0.  0.  0.  0.  0.  0.  0.  0.  0.  0.  0.  0.\n",
      "   0.  0.  0.  0.  0.  0.  0.  0.  0.  0.  0.  0.  0.  0.  0.  0.  0.  0.\n",
      "   0.  0.  0.  0.  0.  0.  0.  0.  0.  0.  0.  0.  0.  0.  0.  0.  0.  0.\n",
      "   0.  0.  0.  0.  0.  0.  0.  0.  0.  0.  0.  0.  0.  0.  0.  0.  0.  0.\n",
      "   0.  0.  0.  0.  0.  0.  0.  0.  0.  0.  0.  0.  0.  0.  0.  0.  0.  0.\n",
      "   0.  0.  0.  0.  0.  0.  0.  0.  0.  0.  0.  0.  0.  0.  0.  0.  0.  0.\n",
      "   0.  0.  0.  0.  0.  0.  0.  0.  0.  0.  0.  0.  0.  0.  0.  0.  0.  0.\n",
      "   0.  0.  0.  0.  0.  0.  0.  0.  0.  0.  0.  0.  0.  0.  0.  0.  0.  0.\n",
      "   0.  0.  0.  0.  0.  0.  0.  0.  0.  0.  0.  0.  0.  0.  0.  0.  0.  0.\n",
      "   0.  0.  0.  0.  0.  0.  0.  0.  0.  0.  0.  0.  0.  0.  0.  0.  0.  0.\n",
      "   0.  0.  0.  0.  0.  0.  0.  0.  0.  0.  0.  0.  0.  0.  0.  0.  0.  0.\n",
      "   0.  0.  0.  0.  0.  0.  0.  0.  0.  0.  0.  0.  0.  0.  0.  0.]]\n"
     ]
    },
    {
     "ename": "AttributeError",
     "evalue": "'function' object has no attribute 'size'",
     "output_type": "error",
     "traceback": [
      "\u001b[0;31m---------------------------------------------------------------------------\u001b[0m",
      "\u001b[0;31mAttributeError\u001b[0m                            Traceback (most recent call last)",
      "\u001b[0;32m<ipython-input-22-95507789a7fd>\u001b[0m in \u001b[0;36m<module>\u001b[0;34m()\u001b[0m\n\u001b[1;32m      1\u001b[0m \u001b[0ma\u001b[0m \u001b[0;34m=\u001b[0m \u001b[0mRates\u001b[0m\u001b[0;34m(\u001b[0m\u001b[0mE_spec\u001b[0m\u001b[0;34m,\u001b[0m \u001b[0;36m430\u001b[0m\u001b[0;34m)\u001b[0m\u001b[0;34m\u001b[0m\u001b[0m\n\u001b[1;32m      2\u001b[0m \u001b[0mprint\u001b[0m\u001b[0;34m(\u001b[0m\u001b[0ma\u001b[0m\u001b[0;34m.\u001b[0m\u001b[0mdNdW\u001b[0m\u001b[0;34m)\u001b[0m\u001b[0;34m\u001b[0m\u001b[0m\n\u001b[0;32m----> 3\u001b[0;31m \u001b[0mprint\u001b[0m\u001b[0;34m(\u001b[0m\u001b[0ma\u001b[0m\u001b[0;34m.\u001b[0m\u001b[0mion_dNdW_calc\u001b[0m\u001b[0;34m(\u001b[0m\u001b[0;34m)\u001b[0m\u001b[0;34m)\u001b[0m\u001b[0;34m\u001b[0m\u001b[0m\n\u001b[0m\u001b[1;32m      4\u001b[0m \u001b[0;31m# print(a.energy)\u001b[0m\u001b[0;34m\u001b[0m\u001b[0;34m\u001b[0m\u001b[0m\n\u001b[1;32m      5\u001b[0m \u001b[0;31m# print(a.ion_rate_calc())\u001b[0m\u001b[0;34m\u001b[0m\u001b[0;34m\u001b[0m\u001b[0m\n",
      "\u001b[0;32m<ipython-input-21-9f23e38852a3>\u001b[0m in \u001b[0;36mion_dNdW_calc\u001b[0;34m(self)\u001b[0m\n\u001b[1;32m     32\u001b[0m         \u001b[0;32mdef\u001b[0m \u001b[0mH_ion_dNdE_at_W\u001b[0m\u001b[0;34m(\u001b[0m\u001b[0mtest_energy\u001b[0m\u001b[0;34m)\u001b[0m\u001b[0;34m:\u001b[0m\u001b[0;34m\u001b[0m\u001b[0m\n\u001b[1;32m     33\u001b[0m             \u001b[0;32mreturn\u001b[0m \u001b[0mxsecs\u001b[0m\u001b[0;34m.\u001b[0m\u001b[0mionize_s_cs\u001b[0m\u001b[0;34m(\u001b[0m\u001b[0mself\u001b[0m\u001b[0;34m.\u001b[0m\u001b[0menergy\u001b[0m\u001b[0;34m*\u001b[0m\u001b[0mnp\u001b[0m\u001b[0;34m.\u001b[0m\u001b[0mones\u001b[0m\u001b[0;34m(\u001b[0m\u001b[0mself\u001b[0m\u001b[0;34m.\u001b[0m\u001b[0mn\u001b[0m\u001b[0;34m)\u001b[0m\u001b[0;34m,\u001b[0m\u001b[0mtest_energy\u001b[0m\u001b[0;34m)\u001b[0m\u001b[0;34m\u001b[0m\u001b[0m\n\u001b[0;32m---> 34\u001b[0;31m         \u001b[0mion_s_rates\u001b[0m \u001b[0;34m=\u001b[0m \u001b[0mspectools\u001b[0m\u001b[0;34m.\u001b[0m\u001b[0mdiscretize\u001b[0m\u001b[0;34m(\u001b[0m\u001b[0mH_ion_dNdE_at_W\u001b[0m\u001b[0;34m,\u001b[0m \u001b[0mE_spec\u001b[0m\u001b[0;34m.\u001b[0m\u001b[0meng\u001b[0m\u001b[0;34m[\u001b[0m\u001b[0;36m0\u001b[0m\u001b[0;34m:\u001b[0m\u001b[0mself\u001b[0m\u001b[0;34m.\u001b[0m\u001b[0mn\u001b[0m\u001b[0;34m-\u001b[0m\u001b[0;36m1\u001b[0m\u001b[0;34m]\u001b[0m\u001b[0;34m)\u001b[0m\u001b[0;34m*\u001b[0m\u001b[0mself\u001b[0m\u001b[0;34m.\u001b[0m\u001b[0mmult\u001b[0m\u001b[0;34m[\u001b[0m\u001b[0;36m1\u001b[0m\u001b[0;34m]\u001b[0m\u001b[0;34m\u001b[0m\u001b[0m\n\u001b[0m\u001b[1;32m     35\u001b[0m         \u001b[0mself\u001b[0m\u001b[0;34m.\u001b[0m\u001b[0mdNdW\u001b[0m\u001b[0;34m[\u001b[0m\u001b[0;36m0\u001b[0m\u001b[0;34m]\u001b[0m \u001b[0;34m=\u001b[0m \u001b[0mion_s_rates\u001b[0m\u001b[0;34m\u001b[0m\u001b[0m\n\u001b[1;32m     36\u001b[0m         \u001b[0;32mreturn\u001b[0m \u001b[0mself\u001b[0m\u001b[0;34m.\u001b[0m\u001b[0mdNdW\u001b[0m\u001b[0;34m\u001b[0m\u001b[0m\n",
      "\u001b[0;32m/Users/cannonvogel/Documents/GitHub/DarkHistory/darkhistory/spec/spectools.py\u001b[0m in \u001b[0;36mdiscretize\u001b[0;34m(eng, func_dNdE, *args)\u001b[0m\n\u001b[1;32m    200\u001b[0m \u001b[0;34m\u001b[0m\u001b[0m\n\u001b[1;32m    201\u001b[0m     \u001b[0;31m# Generate a list of particle number N and mean energy eng_mean, so that N*eng_mean = total energy in each bin. eng_mean != eng.\u001b[0m\u001b[0;34m\u001b[0m\u001b[0;34m\u001b[0m\u001b[0m\n\u001b[0;32m--> 202\u001b[0;31m     \u001b[0mN\u001b[0m \u001b[0;34m=\u001b[0m \u001b[0mnp\u001b[0m\u001b[0;34m.\u001b[0m\u001b[0mzeros\u001b[0m\u001b[0;34m(\u001b[0m\u001b[0meng\u001b[0m\u001b[0;34m.\u001b[0m\u001b[0msize\u001b[0m\u001b[0;34m)\u001b[0m\u001b[0;34m\u001b[0m\u001b[0m\n\u001b[0m\u001b[1;32m    203\u001b[0m     \u001b[0meng_mean\u001b[0m \u001b[0;34m=\u001b[0m \u001b[0mnp\u001b[0m\u001b[0;34m.\u001b[0m\u001b[0mzeros\u001b[0m\u001b[0;34m(\u001b[0m\u001b[0meng\u001b[0m\u001b[0;34m.\u001b[0m\u001b[0msize\u001b[0m\u001b[0;34m)\u001b[0m\u001b[0;34m\u001b[0m\u001b[0m\n\u001b[1;32m    204\u001b[0m \u001b[0;34m\u001b[0m\u001b[0m\n",
      "\u001b[0;31mAttributeError\u001b[0m: 'function' object has no attribute 'size'"
     ]
    }
   ],
   "source": [
    "a = Rates(E_spec, 430)\n",
    "print(a.dNdW)\n",
    "print(a.ion_dNdW_calc())\n",
    "# print(a.energy)\n",
    "# print(a.ion_rate_calc())\n",
    "# print(a.heat_rate_calc(0.0001, 300))\n",
    "# print(a.tot_sum())\n",
    "# print(a.con_prob())\n",
    "# print(a.rates)"
   ]
  },
  {
   "cell_type": "code",
   "execution_count": null,
   "metadata": {
    "collapsed": true
   },
   "outputs": [],
   "source": [
    "def electron_low_e(E_spec, rs, ion_frac=[10**-4,10**-4,10**-4], den=[1,1,1], dt=1, photon_abscissa=E_spec.eng ,all_outputs=False):\n",
    "    '''\n",
    "    Finds transfer matrix for a given initial electron spectrum\n",
    "    Outputs: photon spectrum, transfer matrix, E_loss to each process\n",
    "    '''\n",
    "    #Initialize photon spectrum\n",
    "    #photon_spec = Spectrum(photon_abscissa,np.zeros(len(E_spec.eng)),rs)\n",
    "    \n",
    "    #calculate non-ionized atomic densities\n",
    "    den[0]=(physics.nH*(1-ion_frac[0]))*(rs)**3\n",
    "    den[1]=(physics.nHe*(1-ion_frac[1])*(1-ion_frac[2]))*(rs)**3\n",
    "    den[2]=(physics.nHe*(1-ion_frac[1])*(ion_frac[2]))*(rs)**3 #unsure about how ionfrac works for helium\n",
    "    \n",
    "    #ndarray of fractions to heating, ion (H,He,He+)\n",
    "    frac_table=np.zeros((4,len(E_spec.eng)))\n",
    "    \n",
    "    for n in range(len(E_spec.eng)):\n",
    "        e_rates = Rates(E_spec, n, den=den)\n",
    "        e_rates.ion_rate_calc()\n",
    "        e_rates.heat_rate_calc(ion_frac[1], rs)\n",
    "            #print(e_rates.energy) print(e_rates.rates) print(e_rates.E_loss())\n",
    "        ## discrete_dN_dEdt_i = spectools.discretize(xsecs.ionize_s_cs, e_rates.eng)\n",
    "    \n",
    "    "
   ]
  },
  {
   "cell_type": "code",
   "execution_count": null,
   "metadata": {},
   "outputs": [],
   "source": [
    "electron_low_e(E_spec,100)"
   ]
  },
  {
   "cell_type": "code",
   "execution_count": null,
   "metadata": {
    "collapsed": true
   },
   "outputs": [],
   "source": []
  }
 ],
 "metadata": {
  "kernelspec": {
   "display_name": "Python 3",
   "language": "python",
   "name": "python3"
  }
 },
 "nbformat": 4,
 "nbformat_minor": 2
}
