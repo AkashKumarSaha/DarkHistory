{
 "cells": [
  {
   "cell_type": "code",
   "execution_count": 2,
   "metadata": {
    "collapsed": true
   },
   "outputs": [],
   "source": [
    "import numpy as np\n",
    "from astropy.io import fits\n",
    "from scipy.interpolate import interp1d\n",
    "import math as m\n",
    "import scipy.constants as p\n",
    "import pandas as pd\n",
    "import matplotlib.pyplot as plt\n",
    "import timeit\n",
    "import sys\n",
    "sys.path.append(\"..\")\n",
    "import physics\n",
    "sys.path.append(\"../..\")\n",
    "from spec.spectrum import *\n",
    "#%run 'Electrons_v1.ipynb' might need things form this later\n",
    "import xsecs\n",
    "#something for precision???"
   ]
  },
  {
   "cell_type": "code",
   "execution_count": null,
   "metadata": {
    "collapsed": true
   },
   "outputs": [],
   "source": [
    "class Rates(object):\n",
    "    '''\n",
    "    Allows for easier storage of all xsecs/rates (probabilities)\n",
    "    Made specifically for ion and heating ONLY.\n",
    "    \n",
    "    Attributes\n",
    "    -----------\n",
    "    energy : float\n",
    "        electron's energy\n",
    "    den : ndarray\n",
    "        density of [H, He, He+] in cm^-3\n",
    "    '''\n",
    "    def __init__(energy, den=[1,1,1], rates=np.zeros(4)):\n",
    "        '''Return a Rate object with electron of energy *energy*\n",
    "        in a universe with densities *den*'''\n",
    "        self.energy = energy\n",
    "        self.den = den\n",
    "        self.rates = rates\n",
    "        \n",
    "    def ion_xsec_calc(self):\n",
    "        \n",
    "    "
   ]
  }
 ],
 "metadata": {
  "kernelspec": {
   "display_name": "Python 3",
   "language": "python",
   "name": "python3"
  },
  "language_info": {
   "codemirror_mode": {
    "name": "ipython",
    "version": 3
   },
   "file_extension": ".py",
   "mimetype": "text/x-python",
   "name": "python",
   "nbconvert_exporter": "python",
   "pygments_lexer": "ipython3",
   "version": "3.6.1"
  }
 },
 "nbformat": 4,
 "nbformat_minor": 2
}
