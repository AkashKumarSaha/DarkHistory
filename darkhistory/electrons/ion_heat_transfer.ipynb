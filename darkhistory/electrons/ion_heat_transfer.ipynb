{
 "cells": [
  {
   "cell_type": "code",
   "execution_count": 1,
   "metadata": {
    "collapsed": true
   },
   "outputs": [],
   "source": [
    "import numpy as np\n",
    "from astropy.io import fits\n",
    "from scipy.interpolate import interp1d\n",
    "import math as m\n",
    "import scipy.constants as p\n",
    "import pandas as pd\n",
    "import matplotlib.pyplot as plt\n",
    "import timeit\n",
    "import sys\n",
    "sys.path.append(\"..\")\n",
    "import physics\n",
    "sys.path.append(\"../..\")\n",
    "from spec.spectrum import *\n",
    "#%run 'Electrons_v1.ipynb' might need things form this later\n",
    "import xsecs\n",
    "#something for precision"
   ]
  },
  {
   "cell_type": "code",
   "execution_count": 2,
   "metadata": {
    "collapsed": true
   },
   "outputs": [],
   "source": [
    "class Rates(object):\n",
    "    '''\n",
    "    Allows for easier storage of all xsecs/rates (probabilities)\n",
    "    Made specifically for ion and heating ONLY.\n",
    "    \n",
    "    Attributes\n",
    "    -----------\n",
    "    E_spec : Spectrum class\n",
    "        Electron energy and dNdE spectrum\n",
    "    n : int\n",
    "        The bin of interest in the spectrum\n",
    "    den : ndarray\n",
    "        density of [H, He, He+] in cm^-3\n",
    "    rates : Filled with various rates in s^-1\n",
    "    '''\n",
    "    \n",
    "    def __init__(self, E_spec, n, den=[1,1,1], rates=np.zeros(4)):\n",
    "        '''Return a Rate object with electron of energy *E_spec.eng[n]*\n",
    "        in a universe with densities *den*; initializes *rate* vector'''\n",
    "        self.energy = E_spec.eng[n]\n",
    "        self.n = n\n",
    "        self.dNdE = E_spec.dNdE[n]\n",
    "        self.den = den\n",
    "        self.rates = rates\n",
    "        self.v = np.sqrt(2*np.array([E_spec.eng[n]])/physics.me) \n",
    "        self.mult = self.den*self.v\n",
    "    \n",
    "    def ion_rate_calc(self):\n",
    "        '''Fills *self.rate[1:3]* vector by calculating xsec and then converting to rate\n",
    "        '''\n",
    "        ion_rates = xsecs.ionize_cs(self.energy*np.ones(3),np.array([1,2,3]))*self.mult\n",
    "        self.rates = np.append([0], ion_rates)\n",
    "        return self.rates\n",
    "    \n",
    "    def heat_rate_calc(self, x_e, rs):\n",
    "        '''Fills *self.rate[0]* vector with fraction going to heating\n",
    "            x_e and rs...\n",
    "        '''\n",
    "        dE = xsecs.heating_dE(self.energy, x_e, rs, nH=physics.nH)\n",
    "        delta_dNdE = np.zeros(len(E_spec.dNdE))\n",
    "        np.put(delta_dNdE, self.n, self.dNdE)\n",
    "        delta = Spectrum(E_spec.eng, delta_dNdE, rs)\n",
    "        shift_delta_eng = E_spec.eng+dE\n",
    "        delta.shift_eng(shift_delta_eng)\n",
    "        delta.rebin(E_spec.eng)\n",
    "        \n",
    "        heating_frac = delta.dNdE[self.n]/self.dNdE\n",
    "        self.rates[0] = 1-heating_frac\n",
    "        return(self.rates)\n",
    "    def tot_sum(self):\n",
    "        '''Sums all elements of rate\n",
    "        '''\n",
    "        tot_sum = sum(self.rates)\n",
    "        return tot_sum\n",
    "    def con_prob(self):\n",
    "        '''Finds cumulative probability of each process\n",
    "        '''\n",
    "        con_prob = self.rates/self.tot_sum()\n",
    "        return con_prob"
   ]
  },
  {
   "cell_type": "code",
   "execution_count": 3,
   "metadata": {},
   "outputs": [
    {
     "name": "stdout",
     "output_type": "stream",
     "text": [
      "[ 441.86599564]\n",
      "[ 0.]\n"
     ]
    }
   ],
   "source": [
    "eng1 = np.logspace(0.,4.,num = 500)\n",
    "dNdE1 = np.logspace(0.,5.,num = 500)\n",
    "rs=1000\n",
    "E_spec = Spectrum(eng1,dNdE1,rs)\n",
    "photon_spec = Spectrum(E_spec.eng,np.zeros(len(E_spec.eng)),rs)\n",
    "TM=np.zeros([len(photon_spec.eng)+2,len(E_spec.eng)]) #possibly make pandas\n",
    "Transfer_Matrix=pd.DataFrame(TM) #or np.zeros\n",
    "#print(Transfer_Matrix)\n",
    "print(np.array([E_spec.eng[330]]))\n",
    "print(xsecs.ionize_cs(np.array([E_spec.eng[100]]),np.ones(1)))"
   ]
  },
  {
   "cell_type": "code",
   "execution_count": 4,
   "metadata": {},
   "outputs": [
    {
     "name": "stdout",
     "output_type": "stream",
     "text": [
      "2798.29687566\n",
      "[  0.00000000e+00   5.36837606e-19   6.25760697e-19   1.09194109e-19]\n",
      "[  1.44947387e-11   5.36837606e-19   6.25760697e-19   1.09194109e-19]\n",
      "1.44947400144e-11\n",
      "[  9.99999912e-01   3.70367186e-08   4.31715709e-08   7.53336102e-09]\n"
     ]
    },
    {
     "name": "stderr",
     "output_type": "stream",
     "text": [
      "../spec/spectrum.py:381: FutureWarning: comparison to `None` will result in an elementwise object comparison in the future.\n",
      "  if bound_arr == None:\n",
      "../spec/spectrum.py:469: FutureWarning: comparison to `None` will result in an elementwise object comparison in the future.\n",
      "  if bound_arr == None:\n"
     ]
    }
   ],
   "source": [
    "a = Rates(E_spec, 430)\n",
    "print(a.energy)\n",
    "print(a.ion_rate_calc())\n",
    "print(a.heat_rate_calc(0.0001, 300))\n",
    "print(a.tot_sum())\n",
    "print(a.con_prob())"
   ]
  },
  {
   "cell_type": "code",
   "execution_count": null,
   "metadata": {
    "collapsed": true
   },
   "outputs": [],
   "source": []
  }
 ],
 "metadata": {
  "kernelspec": {
   "display_name": "Python 3",
   "language": "python",
   "name": "python3"
  },
  "language_info": {
   "codemirror_mode": {
    "name": "ipython",
    "version": 3
   },
   "file_extension": ".py",
   "mimetype": "text/x-python",
   "name": "python",
   "nbconvert_exporter": "python",
   "pygments_lexer": "ipython3",
   "version": "3.6.1"
  }
 },
 "nbformat": 4,
 "nbformat_minor": 2
}
