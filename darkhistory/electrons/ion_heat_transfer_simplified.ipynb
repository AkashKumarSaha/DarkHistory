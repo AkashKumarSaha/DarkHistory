{
 "cells": [
  {
   "cell_type": "code",
   "execution_count": 1,
   "metadata": {
    "collapsed": true
   },
   "outputs": [],
   "source": [
    "%load_ext autoreload"
   ]
  },
  {
   "cell_type": "code",
   "execution_count": 25,
   "metadata": {
    "collapsed": true
   },
   "outputs": [],
   "source": [
    "%autoreload\n",
    "\n",
    "import numpy as np\n",
    "import matplotlib\n",
    "import matplotlib.pyplot as plt\n",
    "\n",
    "import math\n",
    "import sys\n",
    "sys.path.append(\"..\")\n",
    "import physics\n",
    "sys.path.append(\"../..\")\n",
    "from spec.spectrum import *\n",
    "import spec.spectools as spectools\n",
    "import xsecs"
   ]
  },
  {
   "cell_type": "code",
   "execution_count": 3,
   "metadata": {
    "collapsed": true
   },
   "outputs": [],
   "source": [
    "class Rates(object):\n",
    "  \n",
    "    def __init__(self, E_spec, n, den=[1,1,1], dNdW=np.zeros((2,1)), rates=np.zeros(4)):\n",
    "        self.energy = E_spec.eng[n]\n",
    "        self.n = n\n",
    "        self.dNdE = E_spec.dNdE[n]\n",
    "        self.den = den\n",
    "        self.rates = rates\n",
    "        self.v = np.sqrt(2*np.array([E_spec.eng[n]])/physics.me)*physics.c \n",
    "        self.mult = self.den*self.v\n",
    "        self.dNdW = np.zeros((2, self.n ))\n",
    "    \n",
    "    def ion_dNdW_calc_H(self): #uses new integration method\n",
    "        '''Fills *self.dNdW[0,:]* with the discretized singly differential xsec in rate form\n",
    "        '''\n",
    "        eng_temp = E_spec.eng[0:self.n]\n",
    "        ion_s_rates = xsecs.ionize_s_cs_H(self.energy, eng_temp) #possible problem with np type\n",
    "        self.dNdW[0] = ion_s_rates *self.mult[0] #dNdE?\n",
    "        return self.dNdW\n",
    "    \n",
    "    def ion_rate_calc(self):\n",
    "        '''Fills *self.rate[1:3]* vector by calculating total xsec and then converting to rate\n",
    "        '''\n",
    "        ion_rates = xsecs.ionize_cs(self.energy*np.ones(3),np.array([1,2,3]))*self.mult\n",
    "        self.rates[1:4] = ion_rates\n",
    "        return self.rates\n",
    "    \n",
    "    def heat_rate_calc(self, x_e, rs):\n",
    "        '''Fills *self.rate[0]* vector with fraction going to heating\n",
    "            x_e and rs...\n",
    "        '''\n",
    "        dE = xsecs.heating_dE(self.energy, x_e, rs, nH=physics.nH)\n",
    "        delta_dNdE = np.zeros(len(E_spec.dNdE))\n",
    "        np.put(delta_dNdE, self.n, self.dNdE)\n",
    "        delta = Spectrum(E_spec.eng, delta_dNdE, rs)\n",
    "        shift_delta_eng = E_spec.eng+dE\n",
    "        delta.shift_eng(shift_delta_eng)\n",
    "        delta.rebin(E_spec.eng)\n",
    "        \n",
    "        heating_frac = delta.dNdE[self.n]/self.dNdE\n",
    "        self.rates[0] = 1-heating_frac #units? \n",
    "        return(self.rates)\n",
    "    \n",
    "    def E_loss(self):\n",
    "        '''loss fraction\n",
    "        '''\n",
    "        E_loss_ion=13.6*self.rates[1]\n",
    "        E_loss_heat=(E_spec.eng[self.n]-E_spec.eng[self.n-1])*self.rates[0]\n",
    "        E_frac = E_loss_ion/E_loss_heat\n",
    "        return(E_frac)\n",
    "    \n",
    "    def ion_int_calc(self):\n",
    "        '''gives total ionization rate\n",
    "        '''\n",
    "        bin_width = get_log_bin_width(E_spec.eng[0:self.n])\n",
    "        integ = 0\n",
    "        for i in range(self.n):\n",
    "            integ += self.dNdW[0,i-1]*bin_width[i]*E_spec.eng[i]\n",
    "        return integ\n",
    "        \n",
    "        "
   ]
  },
  {
   "cell_type": "code",
   "execution_count": 38,
   "metadata": {
    "collapsed": true
   },
   "outputs": [],
   "source": [
    "def electron_low_e(E_spec, rs, ion_frac=[0.001,0.001,0.001], den=[1,1,1], dt=1 ,all_outputs=False):\n",
    "   \n",
    "    N = len(E_spec.eng)\n",
    "    den[0]=(physics.nH*(1-ion_frac[0]))*(rs)**3\n",
    "    \n",
    "    R = np.zeros((2,N))\n",
    "    R[1,0] = 1\n",
    "    R[1,1] = 1\n",
    "    R[1,2] = 1\n",
    "    \n",
    "    for n in range(3,N):\n",
    "        e_rates = Rates(E_spec, n, den)\n",
    "        e_rates.ion_rate_calc()\n",
    "        e_rates.heat_rate_calc(ion_frac[0], rs)\n",
    "        e_rates.ion_dNdW_calc_H() \n",
    "        \n",
    "        delta_E_spec = np.ediff1d(E_spec.eng)[0:(n)] #bin widths\n",
    "        \n",
    "        discrete_dN_dEdt_i = e_rates.dNdW[0]\n",
    "        \n",
    "        h_init=np.zeros(n)\n",
    "        h_init[n-2] = e_rates.rates[0]\n",
    "        h_init[n-1] = 1 - e_rates.rates[0]\n",
    "        discrete_dN_dEdt_h = h_init/delta_E_spec\n",
    "        \n",
    "        \n",
    "        R_in = ((13.6*e_rates.rates[1]) + np.sum(E_spec.eng[0:n-1]*discrete_dN_dEdt_i[0:n-1]*R[0,0:n-1]*delta_E_spec[0:n-1]) \\\n",
    "            + np.sum(E_spec.eng[0:n-1]*discrete_dN_dEdt_h[0:n-1]*R[0,0:n-1]*delta_E_spec[0:n-1])) \\\n",
    "            /(e_rates.energy*(np.sum(discrete_dN_dEdt_i[0:n-1])+np.sum(discrete_dN_dEdt_h[0:n-1])))\n",
    "            \n",
    "        \n",
    "        R_hn = ((e_rates.energy*e_rates.rates[0]-np.sum(E_spec.eng[0:n-1]*discrete_dN_dEdt_h[0:n-1]*delta_E_spec[0:n-1])) \\\n",
    "            + np.sum(E_spec.eng[0:n-1]*discrete_dN_dEdt_i[0:n-1]*R[1,0:n-1]*delta_E_spec[0:n-1]) \\\n",
    "            + np.sum(E_spec.eng[0:n-1]*discrete_dN_dEdt_h[0:n-1]*R[1,0:n-1]*delta_E_spec[0:n-1])) \\\n",
    "            /(e_rates.energy*(np.sum(discrete_dN_dEdt_i[0:n-1])+np.sum(discrete_dN_dEdt_h[0:n-1])))\n",
    "            \n",
    "\n",
    "        #R[0,n] = R_in/(R_in+R_hn)\n",
    "        #R[1,n] = R_hn/(R_in+R_hn)\n",
    "        \n",
    "        R[0,n] = R_in\n",
    "        R[1,n] = R_hn\n",
    "        \n",
    "        #print(n, e_rates.energy,R_in,R_hn)\n",
    "        #print(e_rates.energy*e_rates.rates[0], np.sum(E_spec.eng[0:n-1]*discrete_dN_dEdt_h[0:n-1]*delta_E_spec[0:n-1]), np.sum(E_spec.eng[0:n-1]*discrete_dN_dEdt_i[0:n-1]*R[1,0:n-1]*delta_E_spec[0:n-1]),np.sum(E_spec.eng[0:n-1]*discrete_dN_dEdt_h[0:n-1]*R[1,0:n-1]*delta_E_spec[0:n-1]) )\n",
    "        \n",
    "        \n",
    "    return R\n",
    "    "
   ]
  },
  {
   "cell_type": "markdown",
   "metadata": {},
   "source": [
    "<h1>Testing specific spectra:</h1>"
   ]
  },
  {
   "cell_type": "code",
   "execution_count": 5,
   "metadata": {
    "collapsed": true
   },
   "outputs": [],
   "source": [
    "eng1 = np.logspace(0.,4.,num = 500)\n",
    "dNdE1 = np.logspace(0.,5.,num = 500)\n",
    "rs=1000\n",
    "E_spec = Spectrum(eng1,dNdE1,rs)"
   ]
  },
  {
   "cell_type": "code",
   "execution_count": 6,
   "metadata": {
    "collapsed": true
   },
   "outputs": [],
   "source": [
    "%%capture\n",
    "results_ion_frac_0 = electron_low_e(E_spec,10**9);"
   ]
  },
  {
   "cell_type": "code",
   "execution_count": 7,
   "metadata": {
    "collapsed": true
   },
   "outputs": [],
   "source": [
    "%%capture\n",
    "results_ion_frac_1 = electron_low_e(E_spec,100)"
   ]
  },
  {
   "cell_type": "code",
   "execution_count": 59,
   "metadata": {},
   "outputs": [
    {
     "data": {
      "image/png": "[encoded data removed]",
      "text/plain": [
       "<matplotlib.figure.Figure at 0x7badf1ac8>"
      ]
     },
     "metadata": {},
     "output_type": "display_data"
    }
   ],
   "source": [
    "#heating_dE\n",
    "ion_frac=[0.001,0.001,0.001]\n",
    "den=[1,1,1]\n",
    "n=10\n",
    "\n",
    "x=np.linspace(10,100,num = n)\n",
    "heat_dE=np.zeros((n,1))\n",
    "\n",
    "for k,rs in enumerate(x):\n",
    "    den[0]=(physics.nH*(1-ion_frac[0]))*(rs)**3\n",
    "    heat_dE[k] = -xsecs.heating_dE(100, ion_frac[0], rs)\n",
    "\n",
    "plt.plot(x,heat_dE, 'r')\n",
    "plt.xscale('log')\n",
    "plt.yscale('log')\n",
    "plt.show()\n"
   ]
  },
  {
   "cell_type": "code",
   "execution_count": 60,
   "metadata": {},
   "outputs": [
    {
     "data": {
      "image/png": "[encoded data removed]",
      "text/plain": [
       "<matplotlib.figure.Figure at 0x7baa312b0>"
      ]
     },
     "metadata": {},
     "output_type": "display_data"
    }
   ],
   "source": [
    "#heating Rates class\n",
    "ion_frac=[0.001,0.001,0.001]\n",
    "den=[1,1,1]\n",
    "n=10\n",
    "\n",
    "\n",
    "x=np.logspace(1.,2.,num = n)\n",
    "rate=np.zeros((n,1))\n",
    "for k,rs in enumerate(x):\n",
    "    den[0]=(physics.nH*(1-ion_frac[0]))*(rs)**3\n",
    "    e_rates_test = Rates(E_spec, n, den)\n",
    "    e_rates_test.heat_rate_calc(ion_frac[0], rs)\n",
    "    rate[k] = e_rates_test.rates[0]\n",
    "\n",
    "plt.plot(x,rate, 'b')\n",
    "plt.xscale('log')\n",
    "plt.yscale('log')\n",
    "plt.show()\n"
   ]
  },
  {
   "cell_type": "code",
   "execution_count": 61,
   "metadata": {},
   "outputs": [
    {
     "name": "stdout",
     "output_type": "stream",
     "text": [
      "0\n",
      "1\n",
      "2\n",
      "3\n",
      "4\n",
      "5\n",
      "6\n",
      "7\n",
      "8\n",
      "9\n"
     ]
    },
    {
     "data": {
      "image/png": "[encoded data removed]",
      "text/plain": [
       "<matplotlib.figure.Figure at 0x7ba8492e8>"
      ]
     },
     "metadata": {},
     "output_type": "display_data"
    }
   ],
   "source": [
    "x=np.linspace(10,100,num = 10)\n",
    "y=np.zeros((10,1))\n",
    "\n",
    "for k,rs in enumerate(x):\n",
    "    y[k] = electron_low_e(E_spec, rs)[1,300]\n",
    "    print(k)\n",
    "\n",
    "plt.plot(x,y, 'r')\n",
    "plt.xscale('log')\n",
    "plt.yscale('log')\n",
    "plt.show()\n",
    "#heat rate versus redshift"
   ]
  },
  {
   "cell_type": "code",
   "execution_count": 33,
   "metadata": {},
   "outputs": [
    {
     "data": {
      "image/png": "[encoded data removed]",
      "text/plain": [
       "<matplotlib.figure.Figure at 0x7ba822978>"
      ]
     },
     "metadata": {},
     "output_type": "display_data"
    }
   ],
   "source": [
    "np.set_printoptions(threshold = np.nan)\n",
    "#print(np.transpose([E_spec.eng, results_ion_frac_0[0,:],results_ion_frac_0[1,:]]))\n",
    "plt.plot(E_spec.eng, results_ion_frac_0[0,:], 'r')\n",
    "plt.plot(E_spec.eng, results_ion_frac_1[0,:], 'r--')\n",
    "plt.plot(E_spec.eng, results_ion_frac_0[1,:], 'b')\n",
    "plt.plot(E_spec.eng, results_ion_frac_1[1,:], 'b--')\n",
    "plt.xscale('log')\n",
    "plt.yscale('log')\n",
    "plt.show()"
   ]
  },
  {
   "cell_type": "code",
   "execution_count": null,
   "metadata": {
    "collapsed": true
   },
   "outputs": [],
   "source": []
  }
 ],
 "metadata": {
  "kernelspec": {
   "display_name": "Python 3",
   "language": "python",
   "name": "python3"
  },
  "language_info": {
   "codemirror_mode": {
    "name": "ipython",
    "version": 3
   },
   "file_extension": ".py",
   "mimetype": "text/x-python",
   "name": "python",
   "nbconvert_exporter": "python",
   "pygments_lexer": "ipython3",
   "version": "3.6.1"
  }
 },
 "nbformat": 4,
 "nbformat_minor": 2
}
